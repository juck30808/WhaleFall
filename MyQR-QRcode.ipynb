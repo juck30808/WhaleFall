{
 "cells": [
  {
   "cell_type": "code",
   "execution_count": null,
   "id": "d19e39d3",
   "metadata": {},
   "outputs": [],
   "source": [
    "pip install myqr"
   ]
  },
  {
   "cell_type": "markdown",
   "id": "3739c8c2",
   "metadata": {},
   "source": [
    "預計採用的網址 IT 鐵人賽\n",
    "- https://ithelp.ithome.com.tw/users/20140740"
   ]
  },
  {
   "cell_type": "code",
   "execution_count": null,
   "id": "47791111",
   "metadata": {},
   "outputs": [],
   "source": [
    "url = 'https://ithelp.ithome.com.tw/users/20140740' # 可放網址或文字(限英文)"
   ]
  },
  {
   "cell_type": "code",
   "execution_count": null,
   "id": "fc043549",
   "metadata": {},
   "outputs": [],
   "source": [
    "## 最普通的QR Code程式碼\n",
    "\n",
    "from MyQR import myqr\n",
    "\n",
    "myqr.run(words = url, \n",
    "         level = 'L',           # 糾錯水平，預設是H(最高)\n",
    "         colorized = False,     # 背景圖片是否用彩色，預設是False(黑白)\n",
    "         save_name = 'input/qrcode-A.jpg')"
   ]
  },
  {
   "cell_type": "code",
   "execution_count": null,
   "id": "2633331f",
   "metadata": {},
   "outputs": [],
   "source": [
    "from MyQR import myqr\n",
    "\n",
    "myqr.run(words = url, # \n",
    "         picture = 'input/icon/singapore.png',\n",
    "         version = 20,                            # QR Code的邊長，越大圖案越清楚\n",
    "         level = 'H',                             # 糾錯水平，預設是H(最高)\n",
    "         colorized = True,                       # 背景圖片是否用彩色，預設是False(黑白)\n",
    "         save_name = 'input/qrcode-B.jpg')   "
   ]
  },
  {
   "cell_type": "code",
   "execution_count": null,
   "id": "c2f7680c",
   "metadata": {},
   "outputs": [],
   "source": [
    "from MyQR import myqr\n",
    "\n",
    "myqr.run(words = url, # \n",
    "         picture = 'input/icon/giphy.gif',\n",
    "         version = 20,                            # QR Code的邊長，越大圖案越清楚\n",
    "         level = 'H',                             # 糾錯水平，預設是H(最高)\n",
    "         colorized = True,                       # 背景圖片是否用彩色，預設是False(黑白)\n",
    "         save_name = 'input/qrcode-C.gif')   "
   ]
  },
  {
   "cell_type": "code",
   "execution_count": 2,
   "id": "9e587d22",
   "metadata": {},
   "outputs": [
    {
     "name": "stdout",
     "output_type": "stream",
     "text": [
      "Collecting qrcode\n",
      "  Downloading qrcode-7.3.1.tar.gz (43 kB)\n",
      "Requirement already satisfied: colorama in c:\\users\\cti110016\\anaconda3\\lib\\site-packages (from qrcode) (0.4.4)\n",
      "Building wheels for collected packages: qrcode\n",
      "  Building wheel for qrcode (setup.py): started\n",
      "  Building wheel for qrcode (setup.py): finished with status 'done'\n",
      "  Created wheel for qrcode: filename=qrcode-7.3.1-py3-none-any.whl size=40401 sha256=58315eb0ad831755f4ab2a7997bcb8e42b7f8d3ec4e322b253582f2b9451f6aa\n",
      "  Stored in directory: c:\\users\\cti110016\\appdata\\local\\pip\\cache\\wheels\\93\\54\\16\\55cec87f8d902ed84b94ab8fdb7e89ae1158c06e130bc83b03\n",
      "Successfully built qrcode\n",
      "Installing collected packages: qrcode\n",
      "Successfully installed qrcode-7.3.1\n",
      "Note: you may need to restart the kernel to use updated packages.\n"
     ]
    }
   ],
   "source": [
    "pip install qrcode "
   ]
  },
  {
   "cell_type": "code",
   "execution_count": 3,
   "id": "9357267c",
   "metadata": {},
   "outputs": [],
   "source": [
    "import qrcode\n",
    "from PIL import Image\n",
    "\n",
    "def make_qrcode(text): \n",
    "    qr = qrcode.QRCode(version=10, box_size=8, border=4)\n",
    "    qr.add_data(text)\n",
    "    qr.make(fit=True)\n",
    "    return qr.make_image(fill_color=\"black\", back_color=\"white\")\n",
    "    \n",
    "def add_img(back_image, logo_image):\n",
    "    qrcode_size = back_image.size[0]                       # 得到整張QR Code的邊長\n",
    "    qr_back = Image.new('RGBA', back_image.size, 'white')  # 建一個全白背景\n",
    "    qr_back.paste(back_image)                              # 貼上QR code\n",
    "    logo_size = int(qrcode_size / 5)                       # 調整logo大小\n",
    "    logo_offset = int((qrcode_size - logo_size) / 2)       # 把logo位置設定在正中間\n",
    "    resized_logo = logo_image.resize((logo_size, logo_size))\n",
    "    qr_back.paste(resized_logo, box=(logo_offset, logo_offset))\n",
    "    return qr_back\n",
    "       \n",
    "logo_image_file = 'input/icon/singapore.png'\n",
    "text = '大大大優惠!'\n",
    "logo_image = Image.open(logo_image_file)\n",
    "qr_code = make_qrcode(text)\n",
    "final = add_img(qr_code, logo_image)\n",
    "final.save('qrcode-C.png')\n",
    "final.show()"
   ]
  },
  {
   "cell_type": "code",
   "execution_count": null,
   "id": "55e75621",
   "metadata": {},
   "outputs": [],
   "source": []
  }
 ],
 "metadata": {
  "kernelspec": {
   "display_name": "Python 3 (ipykernel)",
   "language": "python",
   "name": "python3"
  },
  "language_info": {
   "codemirror_mode": {
    "name": "ipython",
    "version": 3
   },
   "file_extension": ".py",
   "mimetype": "text/x-python",
   "name": "python",
   "nbconvert_exporter": "python",
   "pygments_lexer": "ipython3",
   "version": "3.9.7"
  }
 },
 "nbformat": 4,
 "nbformat_minor": 5
}
