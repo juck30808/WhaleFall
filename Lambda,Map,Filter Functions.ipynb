{
 "cells": [
  {
   "cell_type": "markdown",
   "id": "f2fa9aca",
   "metadata": {},
   "source": [
    "## Lambda"
   ]
  },
  {
   "cell_type": "code",
   "execution_count": 8,
   "id": "892e6f06",
   "metadata": {},
   "outputs": [
    {
     "name": "stdout",
     "output_type": "stream",
     "text": [
      "10.0\n"
     ]
    }
   ],
   "source": [
    "#Lambda\n",
    "\n",
    "def xyz(a,b,c):\n",
    "    return a*a+2*b/c\n",
    "\n",
    "print(xyz(3,4,8))"
   ]
  },
  {
   "cell_type": "code",
   "execution_count": 9,
   "id": "ba9b62fe",
   "metadata": {
    "scrolled": true
   },
   "outputs": [
    {
     "name": "stdout",
     "output_type": "stream",
     "text": [
      "10.0\n"
     ]
    }
   ],
   "source": [
    "xyz = lambda a,b,c : a*a+2*b/c\n",
    "print(xyz(3,4,8))"
   ]
  },
  {
   "cell_type": "code",
   "execution_count": 1,
   "id": "1ec86d6d",
   "metadata": {
    "scrolled": true
   },
   "outputs": [
    {
     "name": "stdout",
     "output_type": "stream",
     "text": [
      "4\n"
     ]
    }
   ],
   "source": [
    "z = lambda a : a + 2\n",
    "print(z(2))"
   ]
  },
  {
   "cell_type": "code",
   "execution_count": 2,
   "id": "b1054a04",
   "metadata": {},
   "outputs": [
    {
     "name": "stdout",
     "output_type": "stream",
     "text": [
      "6\n"
     ]
    }
   ],
   "source": [
    "y = lambda a,b : a * b\n",
    "print(y(2,3))"
   ]
  },
  {
   "cell_type": "code",
   "execution_count": 3,
   "id": "4c6ef064",
   "metadata": {},
   "outputs": [
    {
     "name": "stdout",
     "output_type": "stream",
     "text": [
      "1\n"
     ]
    }
   ],
   "source": [
    "x = lambda a,b,c : a-b-c\n",
    "print(x(5,2,2))"
   ]
  },
  {
   "cell_type": "code",
   "execution_count": 4,
   "id": "5cf361a4",
   "metadata": {},
   "outputs": [
    {
     "name": "stdout",
     "output_type": "stream",
     "text": [
      "1\n"
     ]
    }
   ],
   "source": [
    "n = lambda a,b : a % b\n",
    "print(n(5,2))"
   ]
  },
  {
   "cell_type": "markdown",
   "id": "3046f89e",
   "metadata": {},
   "source": [
    "## Map"
   ]
  },
  {
   "cell_type": "code",
   "execution_count": 12,
   "id": "d47e6653",
   "metadata": {},
   "outputs": [
    {
     "name": "stdout",
     "output_type": "stream",
     "text": [
      "[30, 60, 14]\n"
     ]
    }
   ],
   "source": [
    "l1 = [5,6,7]\n",
    "l2 = [6,10,2]\n",
    "\n",
    "xyz = lambda n,m : n*m\n",
    "\n",
    "l3 = map(xyz,l1,l2)\n",
    "print(list(l3))"
   ]
  },
  {
   "cell_type": "code",
   "execution_count": 1,
   "id": "1afbb6ed",
   "metadata": {},
   "outputs": [
    {
     "name": "stdout",
     "output_type": "stream",
     "text": [
      "[2, 10, 8, 12, 16, 22, 6, 24]\n"
     ]
    }
   ],
   "source": [
    "my_list = [1,5,4,6,8,11,3,12]\n",
    "new_list = list(map(lambda x:x *2, my_list))\n",
    "print(new_list)"
   ]
  },
  {
   "cell_type": "markdown",
   "id": "2a024d54",
   "metadata": {},
   "source": [
    "## Filter"
   ]
  },
  {
   "cell_type": "code",
   "execution_count": 7,
   "id": "ecf407a7",
   "metadata": {},
   "outputs": [
    {
     "name": "stdout",
     "output_type": "stream",
     "text": [
      "[4, 8, 4, 2]\n"
     ]
    }
   ],
   "source": [
    "#Filter Functions\n",
    "\n",
    "\n",
    "l = [4,7,8,5,3,4,1,2]\n",
    "\n",
    "def xyz(n):\n",
    "    if n%2 == 0:\n",
    "        return True\n",
    "    else:\n",
    "        return False\n",
    "result = filter(xyz,l)\n",
    "print(list(result))"
   ]
  },
  {
   "cell_type": "code",
   "execution_count": 2,
   "id": "84e1232b",
   "metadata": {},
   "outputs": [
    {
     "name": "stdout",
     "output_type": "stream",
     "text": [
      "[4, 6, 8, 12]\n"
     ]
    }
   ],
   "source": [
    "my_list = [1,5,4,6,8,11,3,12]\n",
    "new_list = list(filter(lambda x:(x%2==0), my_list))\n",
    "print(new_list)"
   ]
  },
  {
   "cell_type": "code",
   "execution_count": null,
   "id": "01396992",
   "metadata": {},
   "outputs": [],
   "source": []
  }
 ],
 "metadata": {
  "kernelspec": {
   "display_name": "Python 3 (ipykernel)",
   "language": "python",
   "name": "python3"
  },
  "language_info": {
   "codemirror_mode": {
    "name": "ipython",
    "version": 3
   },
   "file_extension": ".py",
   "mimetype": "text/x-python",
   "name": "python",
   "nbconvert_exporter": "python",
   "pygments_lexer": "ipython3",
   "version": "3.8.8"
  }
 },
 "nbformat": 4,
 "nbformat_minor": 5
}
