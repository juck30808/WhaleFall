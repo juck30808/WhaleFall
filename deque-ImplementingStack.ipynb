{
 "cells": [
  {
   "cell_type": "markdown",
   "id": "af6298be",
   "metadata": {},
   "source": [
    "## First"
   ]
  },
  {
   "cell_type": "code",
   "execution_count": 1,
   "id": "a377e9cb",
   "metadata": {},
   "outputs": [],
   "source": [
    "from collections import deque\n",
    "numbers=deque()"
   ]
  },
  {
   "cell_type": "code",
   "execution_count": 2,
   "id": "7f7d797f",
   "metadata": {},
   "outputs": [
    {
     "data": {
      "text/plain": [
       "deque([23, 45, 12, 54])"
      ]
     },
     "execution_count": 2,
     "metadata": {},
     "output_type": "execute_result"
    }
   ],
   "source": [
    "#Adding items\n",
    "#Push\n",
    "numbers.append(23)\n",
    "numbers.append(45)\n",
    "numbers.append(12)\n",
    "numbers.append(54)\n",
    "numbers"
   ]
  },
  {
   "cell_type": "code",
   "execution_count": 3,
   "id": "935e7c1c",
   "metadata": {},
   "outputs": [
    {
     "data": {
      "text/plain": [
       "54"
      ]
     },
     "execution_count": 3,
     "metadata": {},
     "output_type": "execute_result"
    }
   ],
   "source": [
    "#Removing items\n",
    "#Pop\n",
    "numbers.pop()"
   ]
  },
  {
   "cell_type": "code",
   "execution_count": 4,
   "id": "6718c8e3",
   "metadata": {
    "scrolled": true
   },
   "outputs": [
    {
     "data": {
      "text/plain": [
       "12"
      ]
     },
     "execution_count": 4,
     "metadata": {},
     "output_type": "execute_result"
    }
   ],
   "source": [
    "numbers.pop()"
   ]
  },
  {
   "cell_type": "markdown",
   "id": "57c92e6d",
   "metadata": {},
   "source": [
    "## Second"
   ]
  },
  {
   "cell_type": "code",
   "execution_count": 7,
   "id": "755baba8",
   "metadata": {},
   "outputs": [],
   "source": [
    "from collections import deque\n",
    "names=deque()"
   ]
  },
  {
   "cell_type": "code",
   "execution_count": 8,
   "id": "a3c81609",
   "metadata": {},
   "outputs": [
    {
     "name": "stdout",
     "output_type": "stream",
     "text": [
      "deque(['Radhika', 'Shyam', 'Ravi', 'Shivani'])\n"
     ]
    }
   ],
   "source": [
    "#Adding items\n",
    "#Enqueue\n",
    "names.append(\"Radhika\")\n",
    "names.append(\"Shyam\")\n",
    "names.append('Ravi')\n",
    "names.append(\"Shivani\")\n",
    "print(names)"
   ]
  },
  {
   "cell_type": "code",
   "execution_count": 9,
   "id": "e668a15e",
   "metadata": {},
   "outputs": [
    {
     "data": {
      "text/plain": [
       "'Radhika'"
      ]
     },
     "execution_count": 9,
     "metadata": {},
     "output_type": "execute_result"
    }
   ],
   "source": [
    "#Removing items\n",
    "#dequeue\n",
    "names.popleft()"
   ]
  },
  {
   "cell_type": "code",
   "execution_count": null,
   "id": "c69ebbfe",
   "metadata": {},
   "outputs": [],
   "source": []
  }
 ],
 "metadata": {
  "kernelspec": {
   "display_name": "Python 3 (ipykernel)",
   "language": "python",
   "name": "python3"
  },
  "language_info": {
   "codemirror_mode": {
    "name": "ipython",
    "version": 3
   },
   "file_extension": ".py",
   "mimetype": "text/x-python",
   "name": "python",
   "nbconvert_exporter": "python",
   "pygments_lexer": "ipython3",
   "version": "3.8.8"
  }
 },
 "nbformat": 4,
 "nbformat_minor": 5
}
