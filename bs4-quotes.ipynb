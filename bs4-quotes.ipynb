{
 "cells": [
  {
   "cell_type": "code",
   "execution_count": null,
   "metadata": {},
   "outputs": [],
   "source": [
    "import requests\n",
    "from bs4 import BeautifulSoup\n",
    "\n",
    "page = 1\n",
    "next_button = True\n",
    "while next_button:\n",
    "\twebsite = requests.get('https://quotes.toscrape.com/page/' + str(page))\n",
    "\tsoup = BeautifulSoup(website.text, 'html.parser')\n",
    "\tnext_button = soup.select_one('.next > a')\n",
    "\tquotes = soup.select('.quote')\n",
    "\tfor quote in quotes:\n",
    "\t\ttext = quote.select_one('.text')\n",
    "\t\tauthor = quote.select_one('.author')\n",
    "\t\ttags = quote.select('.tag')\n",
    "\t\tprint(text.text)\n",
    "\t\tprint(author.text)\n",
    "\t\tfor tag in tags:\n",
    "\t\t\tprint(tag.text)\n",
    "\t\tprint('=========================')\n",
    "\tprint('scraped page ' + str(page))\n",
    "\tpage += 1"
   ]
  },
  {
   "cell_type": "code",
   "execution_count": null,
   "metadata": {},
   "outputs": [],
   "source": [
    "import requests\n",
    "from bs4 import BeautifulSoup\n",
    "\n",
    "website = requests.get('https://quotes.toscrape.com/')\n",
    "soup = BeautifulSoup(website.text, 'html.parser')\n",
    "quotes = soup.select('.quote')\n",
    "for quote in quotes:\n",
    "\ttext = quote.select_one('.text')\n",
    "\tauthor = quote.select_one('.author')\n",
    "\ttags = quote.select('.tag')\n",
    "\tprint(text.text)\n",
    "\tprint(author.text)\n",
    "\tfor tag in tags:\n",
    "\t\tprint(tag.text)\n",
    "\tprint('=========================')"
   ]
  }
 ],
 "metadata": {
  "kernelspec": {
   "display_name": "Python 3",
   "language": "python",
   "name": "python3"
  },
  "language_info": {
   "codemirror_mode": {
    "name": "ipython",
    "version": 3
   },
   "file_extension": ".py",
   "mimetype": "text/x-python",
   "name": "python",
   "nbconvert_exporter": "python",
   "pygments_lexer": "ipython3",
   "version": "3.8.5"
  }
 },
 "nbformat": 4,
 "nbformat_minor": 4
}
