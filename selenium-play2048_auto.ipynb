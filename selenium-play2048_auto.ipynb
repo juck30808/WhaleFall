{
 "cells": [
  {
   "cell_type": "code",
   "execution_count": 6,
   "metadata": {},
   "outputs": [],
   "source": [
    "# https://chromedriver.chromium.org/\n",
    "# https://ithelp.ithome.com.tw/articles/10276797"
   ]
  },
  {
   "cell_type": "code",
   "execution_count": 4,
   "metadata": {},
   "outputs": [],
   "source": [
    "#!pip install Selenium"
   ]
  },
  {
   "cell_type": "code",
   "execution_count": 1,
   "metadata": {},
   "outputs": [],
   "source": [
    "from selenium import webdriver\n",
    "\n",
    "# driver = webdriver.Chrome(\"./goolemapSpider/chromedriver.exe\")\n",
    "# driver.get('https://www.google.com.tw/?gws_rd=ssl')\n",
    "\n",
    "# driver = webdriver.Firefox(executable_path='/Users/keneudeh/Downloads/geckodriver')\n",
    "# driver.get('https://play2048.co/')"
   ]
  },
  {
   "cell_type": "code",
   "execution_count": 7,
   "metadata": {},
   "outputs": [
    {
     "name": "stderr",
     "output_type": "stream",
     "text": [
      "C:\\Users\\CTI110~1\\AppData\\Local\\Temp/ipykernel_29344/2365140079.py:6: DeprecationWarning: executable_path has been deprecated, please pass in a Service object\n",
      "  driver = webdriver.Chrome(\"./driver/chromedriver.exe\")\n",
      "C:\\Users\\CTI110~1\\AppData\\Local\\Temp/ipykernel_29344/2365140079.py:9: DeprecationWarning: find_element_by_css_selector is deprecated. Please use find_element(by=By.CSS_SELECTOR, value=css_selector) instead\n",
      "  gameStatusElem = driver.find_element_by_css_selector('.game-container p')\n",
      "C:\\Users\\CTI110~1\\AppData\\Local\\Temp/ipykernel_29344/2365140079.py:10: DeprecationWarning: find_element_by_css_selector is deprecated. Please use find_element(by=By.CSS_SELECTOR, value=css_selector) instead\n",
      "  htmlElem = driver.find_element_by_css_selector('html')\n",
      "C:\\Users\\CTI110~1\\AppData\\Local\\Temp/ipykernel_29344/2365140079.py:16: DeprecationWarning: find_element_by_css_selector is deprecated. Please use find_element(by=By.CSS_SELECTOR, value=css_selector) instead\n",
      "  gameStatusElem = driver.find_element_by_css_selector('.game-container p')\n",
      "C:\\Users\\CTI110~1\\AppData\\Local\\Temp/ipykernel_29344/2365140079.py:18: DeprecationWarning: find_element_by_css_selector is deprecated. Please use find_element(by=By.CSS_SELECTOR, value=css_selector) instead\n",
      "  score = driver.find_element_by_css_selector('.score-container').text\n"
     ]
    },
    {
     "name": "stdout",
     "output_type": "stream",
     "text": [
      "You scored: 2152\n"
     ]
    }
   ],
   "source": [
    "from selenium import webdriver\n",
    "from selenium.webdriver.common.keys import Keys\n",
    "import random\n",
    "\n",
    "def play():\n",
    "    driver = webdriver.Chrome(\"./driver/chromedriver.exe\")\n",
    "    driver.get('https://play2048.co/')\n",
    "    key_select = [Keys.UP, Keys.DOWN, Keys.LEFT, Keys.RIGHT]\n",
    "    gameStatusElem = driver.find_element_by_css_selector('.game-container p')\n",
    "    htmlElem = driver.find_element_by_css_selector('html')\n",
    "    \n",
    "\n",
    "    while gameStatusElem.text != 'Game over!':\n",
    "        \n",
    "        htmlElem.send_keys(key_select[random.randint(0, 3)])\n",
    "        gameStatusElem = driver.find_element_by_css_selector('.game-container p')\n",
    "        \n",
    "    score = driver.find_element_by_css_selector('.score-container').text\n",
    "    print(f'You scored: {score}')\n",
    "\n",
    "\n",
    "\n",
    "if __name__ == '__main__':\n",
    "    play()"
   ]
  },
  {
   "cell_type": "markdown",
   "metadata": {},
   "source": [
    "Selenium提供了下列幾種方法，分別使用不同的方法取得html標籤位置:\n",
    "\n",
    "- find_element_by_id : 利用id來選擇\n",
    "- find_element_by_name : 利用name來選擇\n",
    "- find_element_by_xpath : 利用xpath(節點位置)來選擇\n",
    "- find_element_by_link_text : 利用文字來選擇\n",
    "- find_element_by_partial_link_text : 利用部分文字來選擇\n",
    "- find_element_by_tag_name :利用標籤元素來選擇\n",
    "- find_element_by_class_name : 利用class來選擇\n",
    "- find_element_by_css_selector : 利用css來選擇"
   ]
  },
  {
   "cell_type": "code",
   "execution_count": null,
   "metadata": {},
   "outputs": [],
   "source": []
  },
  {
   "cell_type": "code",
   "execution_count": null,
   "metadata": {},
   "outputs": [],
   "source": []
  }
 ],
 "metadata": {
  "kernelspec": {
   "display_name": "Python 3 (ipykernel)",
   "language": "python",
   "name": "python3"
  },
  "language_info": {
   "codemirror_mode": {
    "name": "ipython",
    "version": 3
   },
   "file_extension": ".py",
   "mimetype": "text/x-python",
   "name": "python",
   "nbconvert_exporter": "python",
   "pygments_lexer": "ipython3",
   "version": "3.9.7"
  }
 },
 "nbformat": 4,
 "nbformat_minor": 4
}
