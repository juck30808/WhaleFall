{
 "cells": [
  {
   "cell_type": "markdown",
   "metadata": {},
   "source": [
    "## Creating 1-D array"
   ]
  },
  {
   "cell_type": "code",
   "execution_count": null,
   "metadata": {},
   "outputs": [],
   "source": [
    "import numpy as np\n",
    "ar=np.array([1,4,6,3,7])\n",
    "ar"
   ]
  },
  {
   "cell_type": "code",
   "execution_count": null,
   "metadata": {
    "scrolled": true
   },
   "outputs": [],
   "source": [
    "ar=np.array([1,4,6,3,7])\n",
    "ar[2]"
   ]
  },
  {
   "cell_type": "code",
   "execution_count": null,
   "metadata": {
    "scrolled": true
   },
   "outputs": [],
   "source": [
    "ar1=np.array((2,3,4,5))\n",
    "ar1"
   ]
  },
  {
   "cell_type": "markdown",
   "metadata": {},
   "source": [
    "## Creating 2-D array"
   ]
  },
  {
   "cell_type": "code",
   "execution_count": null,
   "metadata": {},
   "outputs": [],
   "source": [
    "arr=np.array([[1,2,4], [5,6,8]])\n",
    "arr"
   ]
  },
  {
   "cell_type": "code",
   "execution_count": null,
   "metadata": {
    "scrolled": true
   },
   "outputs": [],
   "source": [
    "arr=np.array([[1,2,4], [5,6,8]])\n",
    "arr[0,1]"
   ]
  },
  {
   "cell_type": "markdown",
   "metadata": {},
   "source": [
    "## Creating 3-D array"
   ]
  },
  {
   "cell_type": "code",
   "execution_count": null,
   "metadata": {},
   "outputs": [],
   "source": [
    "arr=np.array([[[1,2,3], [5,6,7]], [[1,2,3], [5,6,7]]])\n",
    "arr"
   ]
  },
  {
   "cell_type": "markdown",
   "metadata": {},
   "source": [
    "## Unary Operations"
   ]
  },
  {
   "cell_type": "code",
   "execution_count": null,
   "metadata": {},
   "outputs": [],
   "source": [
    "import numpy as np\n",
    "arr=np.array([1,3,5,2,6])\n",
    "np.cos(arr)"
   ]
  },
  {
   "cell_type": "code",
   "execution_count": null,
   "metadata": {},
   "outputs": [],
   "source": [
    "np.log(arr)"
   ]
  },
  {
   "cell_type": "code",
   "execution_count": null,
   "metadata": {},
   "outputs": [],
   "source": [
    "np.mean(arr)"
   ]
  },
  {
   "cell_type": "code",
   "execution_count": null,
   "metadata": {},
   "outputs": [],
   "source": [
    "np.median(arr)"
   ]
  },
  {
   "cell_type": "code",
   "execution_count": null,
   "metadata": {},
   "outputs": [],
   "source": [
    "np.std(arr)"
   ]
  },
  {
   "cell_type": "code",
   "execution_count": null,
   "metadata": {},
   "outputs": [],
   "source": [
    "np.exp(arr)"
   ]
  },
  {
   "cell_type": "markdown",
   "metadata": {},
   "source": [
    "## Binary Operations"
   ]
  },
  {
   "cell_type": "code",
   "execution_count": null,
   "metadata": {},
   "outputs": [],
   "source": [
    "arr1=np.array([2,4,6,8,2])\n",
    "arr2=np.array([3,6,1,5,2])\n",
    "\n",
    "arr1+arr2"
   ]
  },
  {
   "cell_type": "code",
   "execution_count": null,
   "metadata": {},
   "outputs": [],
   "source": [
    "arr1-arr2"
   ]
  },
  {
   "cell_type": "code",
   "execution_count": null,
   "metadata": {},
   "outputs": [],
   "source": [
    "arr1*arr2"
   ]
  },
  {
   "cell_type": "markdown",
   "metadata": {},
   "source": [
    "## function"
   ]
  },
  {
   "cell_type": "code",
   "execution_count": null,
   "metadata": {},
   "outputs": [],
   "source": [
    "import numpy as np\n",
    "arr=np.ones(2)\n",
    "arr"
   ]
  },
  {
   "cell_type": "code",
   "execution_count": null,
   "metadata": {},
   "outputs": [],
   "source": [
    "np.ones((2,2))"
   ]
  },
  {
   "cell_type": "code",
   "execution_count": null,
   "metadata": {},
   "outputs": [],
   "source": [
    "np.zeros(2)"
   ]
  },
  {
   "cell_type": "code",
   "execution_count": null,
   "metadata": {},
   "outputs": [],
   "source": [
    "np.zeros((2,2))"
   ]
  },
  {
   "cell_type": "code",
   "execution_count": null,
   "metadata": {},
   "outputs": [],
   "source": [
    "np.eye(2,2)"
   ]
  },
  {
   "cell_type": "code",
   "execution_count": null,
   "metadata": {},
   "outputs": [],
   "source": [
    "arr=np.array([1.432, 3.087, 4.56])\n",
    "np.around(arr)"
   ]
  },
  {
   "cell_type": "code",
   "execution_count": null,
   "metadata": {},
   "outputs": [],
   "source": [
    "np.around(arr,2)"
   ]
  },
  {
   "cell_type": "code",
   "execution_count": null,
   "metadata": {},
   "outputs": [],
   "source": [
    "np.linspace(0,10,5)"
   ]
  },
  {
   "cell_type": "code",
   "execution_count": null,
   "metadata": {},
   "outputs": [],
   "source": [
    "import numpy as np\n",
    "\n",
    "print(\"Creating 8X3 array using numpy.arange\")\n",
    "sampleArray = np.arange(10, 34, 1)\n",
    "sampleArray = sampleArray.reshape(8,3)\n",
    "print (sampleArray)\n",
    "\n",
    "print(\"\\nDividing 8X3 array into 4 sub array\\n\")\n",
    "subArrays = np.split(sampleArray, 4)\n",
    "print(subArrays)"
   ]
  },
  {
   "cell_type": "code",
   "execution_count": null,
   "metadata": {},
   "outputs": [],
   "source": [
    "\n",
    "import numpy as np\n",
    "\n",
    "print(\"Printing Original array\")\n",
    "sampleArray = np.array([[34,43,73],[82,22,12],[53,94,66]]) \n",
    "print (sampleArray)\n",
    "\n",
    "print(\"Array after deleting column 2 on axis 1\")\n",
    "sampleArray = np.delete(sampleArray , 1, axis = 1) \n",
    "print (sampleArray)\n",
    "\n",
    "arr = np.array([[10,10,10]])\n",
    "\n",
    "print(\"Array after inserting column 2 on axis 1\")\n",
    "sampleArray = np.insert(sampleArray , 1, arr, axis = 1) \n",
    "print (sampleArray)"
   ]
  },
  {
   "cell_type": "code",
   "execution_count": null,
   "metadata": {},
   "outputs": [],
   "source": [
    "faces = np.random.randint(0,100,(10,3))\n",
    "print(f'Set of 10 triplets\\n\\n{faces}')\n",
    "F = np.roll(faces.repeat(2,axis=1),-1,axis=1)\n",
    "F = F.reshape(len(F)*3,2)\n",
    "F = np.sort(F,axis=1)\n",
    "G = F.view( dtype=[('p0',F.dtype),('p1',F.dtype)] )\n",
    "G = np.unique(G)\n",
    "print(f'\\nUnique line segments composing all the triangles\\n\\n{G}')"
   ]
  },
  {
   "cell_type": "markdown",
   "metadata": {},
   "source": [
    "## Unary Operations"
   ]
  },
  {
   "cell_type": "code",
   "execution_count": null,
   "metadata": {},
   "outputs": [],
   "source": [
    "import numpy as np\n",
    "arr=np.array([1,3,5,2,6])\n",
    "np.cos(arr)"
   ]
  },
  {
   "cell_type": "code",
   "execution_count": null,
   "metadata": {},
   "outputs": [],
   "source": [
    "np.log(arr)"
   ]
  },
  {
   "cell_type": "code",
   "execution_count": null,
   "metadata": {},
   "outputs": [],
   "source": [
    "np.mean(arr)"
   ]
  },
  {
   "cell_type": "code",
   "execution_count": null,
   "metadata": {},
   "outputs": [],
   "source": [
    "np.median(arr)"
   ]
  },
  {
   "cell_type": "code",
   "execution_count": null,
   "metadata": {},
   "outputs": [],
   "source": [
    "np.std(arr)"
   ]
  },
  {
   "cell_type": "code",
   "execution_count": null,
   "metadata": {},
   "outputs": [],
   "source": [
    "np.exp(arr)"
   ]
  },
  {
   "cell_type": "markdown",
   "metadata": {},
   "source": [
    "## Binary Operations"
   ]
  },
  {
   "cell_type": "code",
   "execution_count": null,
   "metadata": {},
   "outputs": [],
   "source": [
    "arr1=np.array([2,4,6,8,2])\n",
    "arr2=np.array([3,6,1,5,2])\n",
    "arr1+arr2"
   ]
  },
  {
   "cell_type": "code",
   "execution_count": null,
   "metadata": {},
   "outputs": [],
   "source": [
    "arr1-arr2"
   ]
  },
  {
   "cell_type": "code",
   "execution_count": null,
   "metadata": {},
   "outputs": [],
   "source": [
    "arr1*arr2"
   ]
  },
  {
   "cell_type": "code",
   "execution_count": null,
   "metadata": {},
   "outputs": [],
   "source": [
    "import numpy as np\n",
    "np.linspace(0,10,5)"
   ]
  },
  {
   "cell_type": "markdown",
   "metadata": {},
   "source": [
    "###  Numpy Exercise"
   ]
  },
  {
   "cell_type": "markdown",
   "metadata": {},
   "source": [
    "#### 1. Import the numpy package under the name np"
   ]
  },
  {
   "cell_type": "code",
   "execution_count": null,
   "metadata": {},
   "outputs": [],
   "source": [
    "import numpy as np"
   ]
  },
  {
   "cell_type": "markdown",
   "metadata": {},
   "source": [
    "#### 2. Create a numpy array of size 15 initialsed to zero."
   ]
  },
  {
   "cell_type": "code",
   "execution_count": null,
   "metadata": {},
   "outputs": [],
   "source": [
    "zeros=np.zeros(15)\n",
    "zeros"
   ]
  },
  {
   "cell_type": "markdown",
   "metadata": {},
   "source": [
    "#### 3. Create a numpy array of size 10 initiased to -1 but the fifth value which is 1"
   ]
  },
  {
   "cell_type": "code",
   "execution_count": null,
   "metadata": {},
   "outputs": [],
   "source": [
    "numpy_array=np.full(10,-1)\n",
    "print(numpy_array)\n",
    "\n",
    "numpy_array[4]=1\n",
    "print(numpy_array)"
   ]
  },
  {
   "cell_type": "markdown",
   "metadata": {},
   "source": [
    "#### 4. Create a array with values ranging from 10 to 49 which are multiple of 3"
   ]
  },
  {
   "cell_type": "code",
   "execution_count": null,
   "metadata": {},
   "outputs": [],
   "source": [
    "arr=np.arange(12,50,3)\n",
    "arr"
   ]
  },
  {
   "cell_type": "markdown",
   "metadata": {},
   "source": [
    "#### 5. Create and array with values ranging from 1 to 10 and Reverse the array (first element becomes last)"
   ]
  },
  {
   "cell_type": "code",
   "execution_count": null,
   "metadata": {},
   "outputs": [],
   "source": [
    "np_arr=np.arange(1,11)\n",
    "np_arr[::-1]"
   ]
  },
  {
   "cell_type": "markdown",
   "metadata": {},
   "source": [
    "#### 6. Create a 10x10 array with random values with seed value 7 and find the minimum and maximum values for each row."
   ]
  },
  {
   "cell_type": "code",
   "execution_count": null,
   "metadata": {},
   "outputs": [],
   "source": [
    "np.random.seed(7)\n",
    "x = np.random.random((10,10))\n",
    "min_per_row=x.min(axis=1)\n",
    "max_per_row=x.max(axis=1)"
   ]
  },
  {
   "cell_type": "markdown",
   "metadata": {},
   "source": [
    "#### 7. Multiply a 5x3 matrix by a 3x2 matrix (real matrix product)\n",
    "```\n",
    "\n",
    "a=[[1,2,3],[4,5,6],[7,8,9],[10,11,12],[13,14,15]]\n",
    "b=[[1,2],[3,4],[5,6]]\n",
    "\n",
    "```"
   ]
  },
  {
   "cell_type": "code",
   "execution_count": null,
   "metadata": {},
   "outputs": [],
   "source": [
    "a= np.array([[1,2,3],[4,5,6],[7,8,9],[10,11,12],[13,14,15]])\n",
    "b=np.array([[1,2],[3,4],[5,6]])\n",
    "np.matmul(a,b)"
   ]
  },
  {
   "cell_type": "markdown",
   "metadata": {},
   "source": [
    "#### 8. Given a 1D array, negate all elements which are between 3 and 8..And reshape to 3x5 shape\n",
    "```\n",
    "a=[1,2,3,4,5,6,7,8,9,10,11,12,13,14,15]\n",
    "```"
   ]
  },
  {
   "cell_type": "code",
   "execution_count": null,
   "metadata": {},
   "outputs": [],
   "source": [
    "a= np.array([1,2,3,4,5,6,7,8,9,10,11,12,13,14,15])\n",
    "a[(3 < a) & (a < 8)] *= -1\n",
    "print(a)\n",
    "reshaped_a = a.reshape(3,5)\n",
    "print(reshaped_a)"
   ]
  },
  {
   "cell_type": "markdown",
   "metadata": {},
   "source": [
    "#### 9. Create a 5x5 matrix with row values ranging from 0 to 4. Pad this 2D array with zero all around the border\n",
    "#### Expected Output :\n",
    "```\n",
    "[\n",
    "[0,0,0,0,0,0,0],\n",
    "[0 0 1 2 3 4 0],\n",
    "[0 0 1 2 3 4 0],\n",
    "[0 0 1 2 3 4 0],\n",
    "[0 0 1 2 3 4 0],\n",
    "[0 0 1 2 3 4 0],\n",
    "[0,0,0,0,0,0,0]\n",
    "]\n",
    "```"
   ]
  },
  {
   "cell_type": "code",
   "execution_count": null,
   "metadata": {},
   "outputs": [],
   "source": [
    "x = np.zeros((5,5))\n",
    "y= np.arange(5)\n",
    "original=x+y\n",
    "print(original)\n",
    "\n",
    "# Create zeros col and row to append.\n",
    "zeros_row=np.zeros(7,dtype=int).reshape(1,7)\n",
    "zeros_col=np.zeros(5,dtype=int).reshape(5,1)\n",
    "\n",
    "# append using vstack and hstack\n",
    "padded=np.hstack((zeros_col,original,zeros_col))\n",
    "padded=np.vstack((zeros_row,padded,zeros_row))\n",
    "print(padded)\n",
    "\n",
    "# Numpy also provide pad function \n",
    "print(\"Alternate Solution\")\n",
    "alternate = np.pad(original, pad_width=1, mode='constant', constant_values=0)\n",
    "print(alternate)"
   ]
  },
  {
   "cell_type": "markdown",
   "metadata": {},
   "source": [
    "#### 10. Read the following from file and fill missing values with 0\n",
    "```\n",
    "1, 2, 3, 4, 5\n",
    "6,  ,  , 7, 8\n",
    " ,  , 9,10,11\n",
    "```"
   ]
  },
  {
   "cell_type": "code",
   "execution_count": null,
   "metadata": {},
   "outputs": [],
   "source": [
    "np.genfromtxt(\"a.txt\",dtype=int,filling_values=0.0)"
   ]
  },
  {
   "cell_type": "markdown",
   "metadata": {},
   "source": [
    "#### 11.  Given a array arr. Write a NumPy program to test element-wise for NaN of a given array.\n",
    "```\n",
    "arr = np.array([1, 0, np.nan, np.inf])\n",
    "```"
   ]
  },
  {
   "cell_type": "code",
   "execution_count": null,
   "metadata": {},
   "outputs": [],
   "source": [
    "arr = np.array([1, 0, np.nan, np.inf])\n",
    "print(np.isnan(arr))"
   ]
  },
  {
   "cell_type": "markdown",
   "metadata": {},
   "source": [
    "#### 12. Write a NumPy program to convert an array to a float type.\n",
    "```\n",
    "Original array \n",
    "[1, 2, 3, 4] \n",
    "Array converted to a float type: \n",
    "[ 1. 2. 3. 4.] \n",
    "```"
   ]
  },
  {
   "cell_type": "code",
   "execution_count": null,
   "metadata": {},
   "outputs": [],
   "source": [
    "a = [1, 2, 3, 4]\n",
    "print(\"Original array\")\n",
    "print(a)\n",
    "x = np.asfarray(a)\n",
    "print(\"Array converted to a float type:\")\n",
    "print(x)"
   ]
  },
  {
   "cell_type": "markdown",
   "metadata": {},
   "source": [
    "#### 13.  Write a NumPy program to construct an array by repeating.\n",
    "```\n",
    "Original array \n",
    "[1, 2, 3, 4] \n",
    "Repeating 2 times \n",
    "[1 2 3 4 1 2 3 4]\n",
    "Repeating 3 times \n",
    "[1 2 3 4 1 2 3 4 1 2 3 4]\n",
    "```"
   ]
  },
  {
   "cell_type": "code",
   "execution_count": null,
   "metadata": {},
   "outputs": [],
   "source": [
    "n=3\n",
    "x = np.tile(a, n)\n",
    "x"
   ]
  },
  {
   "cell_type": "markdown",
   "metadata": {},
   "source": [
    "#### 14. How to tell if a given 2D array has null columns?"
   ]
  },
  {
   "cell_type": "code",
   "execution_count": null,
   "metadata": {},
   "outputs": [],
   "source": [
    "nums = np.random.randint(0,3,(4,10))\n",
    "print(nums)\n",
    "print(\"Test whether the said array has null columns or not:\")\n",
    "print((~nums.any(axis=0)).any())"
   ]
  },
  {
   "cell_type": "markdown",
   "metadata": {},
   "source": [
    "#### 15. Considering two arrays with shape (1,3) and (3,1), how to compute their sum using an iterator? \n",
    "```\n",
    "a= [\n",
    "[1,2,3]\n",
    "]\n",
    "\n",
    "b= [\n",
    "[4],\n",
    "[5],\n",
    "[6],\n",
    "]\n",
    "\n",
    "Expected Output = [[5 6 7]\n",
    "                   [6 7 8]\n",
    "                   [7 8 9]]\n",
    "```\n"
   ]
  },
  {
   "cell_type": "code",
   "execution_count": null,
   "metadata": {},
   "outputs": [],
   "source": [
    "A = np.arange(1,4).reshape(3,1)\n",
    "B = np.arange(4,7).reshape(1,3)\n",
    "it = np.nditer([A,B,None])\n",
    "for x,y,z in it: z[...] = x + y\n",
    "print(it.operands[2])"
   ]
  },
  {
   "cell_type": "markdown",
   "metadata": {},
   "source": [
    "##### 16. Solve the linear equation\n",
    "##### 10x+4y = 3 \n",
    "#####  -x+5y = 2 "
   ]
  },
  {
   "cell_type": "code",
   "execution_count": null,
   "metadata": {},
   "outputs": [],
   "source": [
    "A = np.array([[10, 4], [-1, 5]])\n",
    "b = np.array([3,2])\n",
    "x = np.linalg.solve(A, b)\n",
    "x"
   ]
  },
  {
   "cell_type": "markdown",
   "metadata": {},
   "source": [
    "##### 17. Create a 4x4 matrix with random values and find inverse of it."
   ]
  },
  {
   "cell_type": "code",
   "execution_count": null,
   "metadata": {},
   "outputs": [],
   "source": [
    "x= np.random.random((4,4))\n",
    "print(x)\n",
    "print(\"Inverse\")\n",
    "y = np.linalg.inv(x) \n",
    "print(y)"
   ]
  },
  {
   "cell_type": "markdown",
   "metadata": {},
   "source": [
    "##### 18.  Consider following array replace every 3 with 0\n",
    "```\n",
    "array = np.array([\n",
    "    [3, 9, 7],\n",
    "    [2, 0, 3],\n",
    "    [3, 3, 1]\n",
    "])\n",
    "```"
   ]
  },
  {
   "cell_type": "code",
   "execution_count": null,
   "metadata": {},
   "outputs": [],
   "source": [
    "array = np.array([\n",
    "    [3, 9, 7],\n",
    "    [2, 0, 3],\n",
    "    [3, 3, 1]\n",
    "])\n",
    "\n",
    "array[(array == 3)] =0\n",
    "array"
   ]
  },
  {
   "cell_type": "markdown",
   "metadata": {},
   "source": [
    "##### 19. Considering these numpy array of person names and corresponding arrays for their age and gender. Findout names Who’s at least 44 in age.?\n",
    "```\n",
    "names = np.array([\"Dennis\", \"Dee\", \"Charlie\", \"Mac\", \"Frank\"])\n",
    "ages = np.array([43, 44, 43, 42, 74])\n",
    "genders = np.array(['male', 'female', 'male', 'male', 'male'])\n",
    "```"
   ]
  },
  {
   "cell_type": "code",
   "execution_count": null,
   "metadata": {},
   "outputs": [],
   "source": [
    "names = np.array([\"Dennis\", \"Dee\", \"Charlie\", \"Mac\", \"Frank\"])\n",
    "ages = np.array([43, 44, 43, 42, 74])\n",
    "genders = np.array(['male', 'female', 'male', 'male', 'male'])\n",
    "\n",
    "name= names[(ages >= 44)]\n",
    "print(name)"
   ]
  },
  {
   "cell_type": "markdown",
   "metadata": {},
   "source": [
    "###### 20. Based on above array. Which males are over 42?."
   ]
  },
  {
   "cell_type": "code",
   "execution_count": null,
   "metadata": {},
   "outputs": [],
   "source": [
    "name= names[(ages > 42) & (genders == 'male')]\n",
    "print(name)"
   ]
  },
  {
   "cell_type": "markdown",
   "metadata": {},
   "source": [
    "###### 21. Based on above array. Who’s a not a male or who is younger than 45? "
   ]
  },
  {
   "cell_type": "code",
   "execution_count": null,
   "metadata": {},
   "outputs": [],
   "source": [
    "name= names[(ages < 45) & (genders != 'male')]\n",
    "name"
   ]
  },
  {
   "cell_type": "markdown",
   "metadata": {},
   "source": [
    "##### 22. Given the following pairs of array-shapes, determine what the resulting broadcasted shapes will be.\n",
    "##### Indicate if a pair is broadcast-incompatible.\n",
    "```\n",
    "1.    7 x 2 with 7\n",
    "2.    4 with 3 x 4\n",
    "3.    1 x 3 x 1 with 8 x 1 x 1\n",
    "4.    9 x 2 x 5 with 2 x 5\n",
    "5.    3 with 3 x 3 x 2 \n",
    "```"
   ]
  },
  {
   "cell_type": "markdown",
   "metadata": {},
   "source": [
    "```\n",
    "Answer:\n",
    "1. broadcast-incompatible\n",
    "2. (3 x 4)\n",
    "3. (8 x 3 x 1)\n",
    "4. (9 x 2 x 5)\n",
    "5. broadcast-incompatible\n",
    "```"
   ]
  },
  {
   "cell_type": "markdown",
   "metadata": {},
   "source": [
    "##### 23. Write a NumPy program to capitalize the first letter, lowercase, uppercase, swapcase, title-case of all the elements of a given array. \n",
    "\n",
    "##### Expected Output:\n",
    "#### Original Array:\n",
    "```\n",
    "['python' 'PHP' 'java' 'C++']\n",
    "\n",
    "Capitalized: ['Python' 'Php' 'Java' 'C++']\n",
    "Lowered: ['python' 'php' 'java' 'c++']\n",
    "Uppered: ['PYTHON' 'PHP' 'JAVA' 'C++']\n",
    "Swapcased: ['PYTHON' 'php' 'JAVA' 'c++']\n",
    "Titlecased: ['Python' 'Php' 'Java' 'C++']\n",
    "\n",
    "```"
   ]
  },
  {
   "cell_type": "code",
   "execution_count": null,
   "metadata": {},
   "outputs": [],
   "source": [
    "x = np.array(['python', 'PHP', 'java', 'C++'], dtype=np.str)\n",
    "print(\"Original Array:\")\n",
    "print(x)\n",
    "capitalized_case = np.char.capitalize(x)\n",
    "lowered_case = np.char.lower(x)\n",
    "uppered_case = np.char.upper(x)\n",
    "swapcased_case = np.char.swapcase(x)\n",
    "titlecased_case = np.char.title(x)\n",
    "print(\"\\nCapitalized: \", capitalized_case)\n",
    "print(\"Lowered: \", lowered_case)\n",
    "print(\"Uppered: \", uppered_case)\n",
    "print(\"Swapcased: \", swapcased_case)\n",
    "print(\"Titlecased: \", titlecased_case)"
   ]
  },
  {
   "cell_type": "markdown",
   "metadata": {},
   "source": [
    "##### 24. Write a NumPy program to split the element of a given array with spaces\n",
    "```\n",
    "Original Array:\n",
    " ['apple mangoes peach grapes']\n",
    "Output\n",
    "[list(['apple', 'mangoes', 'peach', 'grapes'])]\n",
    "```"
   ]
  },
  {
   "cell_type": "code",
   "execution_count": null,
   "metadata": {},
   "outputs": [],
   "source": [
    "x= np.array(['apple mangoes peach grapes'])\n",
    "r = np.char.split(x)\n",
    "print(\"\\nSplit the element of the said array with spaces: \")\n",
    "print(r)"
   ]
  },
  {
   "cell_type": "markdown",
   "metadata": {},
   "source": [
    "##### 25. Write a NumPy program to sort a given array of shape 2 along the first axis, last axis and on flattened array\n",
    "```\n",
    "Original array:\n",
    "[[10 40]\n",
    "[30 20]]\n",
    "Sort the array along the first axis:\n",
    "[[10 20]\n",
    "[30 40]]\n",
    "Sort the array along the last axis:\n",
    "[[10 40]\n",
    "[20 30]]\n",
    "Sort the flattened array:\n",
    "[10 20 30 40] \n",
    "```"
   ]
  },
  {
   "cell_type": "code",
   "execution_count": null,
   "metadata": {},
   "outputs": [],
   "source": [
    "x= np.array([[10,40],[30,20]])\n",
    "print(x)\n",
    "y=np.sort(x,axis=0)\n",
    "print(y)\n",
    "z=np.sort(x,axis=1)\n",
    "print(z)\n",
    "k=np.sort(x.flatten())\n",
    "print(k)"
   ]
  },
  {
   "cell_type": "markdown",
   "metadata": {},
   "source": [
    "##### 26. Write a NumPy program to add, subtract, multiply, divide arguments element-wise\n",
    "``` \n",
    "a= [1,3,5,6,7,8,9]\n",
    "b= [10,11,23,45,67,12,13]\n",
    "```"
   ]
  },
  {
   "cell_type": "code",
   "execution_count": null,
   "metadata": {},
   "outputs": [],
   "source": [
    "a= np.array([1,3,5,6,7,8,9])\n",
    "b= np.array([10,11,23,45,67,12,13])\n",
    "print(a+b)\n",
    "print(a-b)\n",
    "print(a/b)\n",
    "print(a*b)"
   ]
  },
  {
   "cell_type": "markdown",
   "metadata": {},
   "source": [
    "##### 27. Write a NumPy program to get the powers of 3 of an array values element-wise\n",
    "```\n",
    "a= [0 1 2 3 4 5 6]   \n",
    "```"
   ]
  },
  {
   "cell_type": "code",
   "execution_count": null,
   "metadata": {},
   "outputs": [],
   "source": [
    "a= np.array([0,1,2,3,4,5,6])\n",
    "print(a**3)"
   ]
  },
  {
   "cell_type": "markdown",
   "metadata": {},
   "source": [
    "###### 28. Write a NumPy program to get the minimum and maximum value of a given array along the second axis.\n",
    "```\n",
    "[[0 1 2 3 4 5 6]\n",
    "[2 3 4 5 6 7 8]]\n",
    "Maximum value along the second axis:\n",
    "[6 8]\n",
    "Minimum value along the second axis:\n",
    "[0 2]\n",
    "```"
   ]
  },
  {
   "cell_type": "code",
   "execution_count": null,
   "metadata": {},
   "outputs": [],
   "source": [
    "x= np.array([[0,1,2,3,4,5,6],[2,3,4,5,6,7,8]])\n",
    "print(x.max(axis=1))\n",
    "print(x.min(axis=1))"
   ]
  },
  {
   "cell_type": "markdown",
   "metadata": {},
   "source": [
    "##### 29. Write a NumPy program to flatten the array and then find its median.\n",
    "```\n",
    "[[ 0 1 2 3 4 5]\n",
    "[ 6 7 8 9 10 11]]\n",
    "```"
   ]
  },
  {
   "cell_type": "code",
   "execution_count": null,
   "metadata": {},
   "outputs": [],
   "source": [
    "x= np.array([[0,1,2,3,4,5],[6,7,8,9,10,11]])\n",
    "flat=x.flatten()\n",
    "print(flat)\n",
    "np.median(flat)"
   ]
  },
  {
   "cell_type": "markdown",
   "metadata": {},
   "source": [
    "##### 30. Write a NumPy program to compute the 80th percentile for all elements in a given array along the second axis.\n",
    "```\n",
    "Original array:\n",
    "[[ 0  1  2  3  4  5]\n",
    " [ 6  7  8  9 10 11]]\n",
    "\n",
    "80th percentile for all elements of the said array along the second axis:\n",
    "[ 4. 10.]\n",
    "```"
   ]
  },
  {
   "cell_type": "code",
   "execution_count": null,
   "metadata": {},
   "outputs": [],
   "source": [
    "x= np.array([[0,1,2,3,4,5],[6,7,8,9,10,11]])\n",
    "np.percentile(x,80,axis=1)"
   ]
  },
  {
   "cell_type": "markdown",
   "metadata": {},
   "source": [
    "###  Numpy Exercise"
   ]
  },
  {
   "cell_type": "markdown",
   "metadata": {},
   "source": [
    "#### 1. Import the numpy package under the name np"
   ]
  },
  {
   "cell_type": "code",
   "execution_count": null,
   "metadata": {},
   "outputs": [],
   "source": [
    "import numpy as np"
   ]
  },
  {
   "cell_type": "markdown",
   "metadata": {},
   "source": [
    "#### 2. Create a numpy array of size 15 initialsed to zero."
   ]
  },
  {
   "cell_type": "code",
   "execution_count": null,
   "metadata": {},
   "outputs": [],
   "source": [
    "zeros=np.zeros(15)\n",
    "zeros"
   ]
  },
  {
   "cell_type": "markdown",
   "metadata": {},
   "source": [
    "#### 3. Create a numpy array of size 10 initiased to -1 but the fifth value which is 1"
   ]
  },
  {
   "cell_type": "code",
   "execution_count": null,
   "metadata": {},
   "outputs": [],
   "source": [
    "numpy_array=np.full(10,-1)\n",
    "print(numpy_array)\n",
    "\n",
    "numpy_array[4]=1\n",
    "print(numpy_array)"
   ]
  },
  {
   "cell_type": "markdown",
   "metadata": {},
   "source": [
    "#### 4. Create a array with values ranging from 10 to 49 which are multiple of 3"
   ]
  },
  {
   "cell_type": "code",
   "execution_count": null,
   "metadata": {},
   "outputs": [],
   "source": [
    "arr=np.arange(12,50,3)\n",
    "arr"
   ]
  },
  {
   "cell_type": "markdown",
   "metadata": {},
   "source": [
    "#### 5. Create and array with values ranging from 1 to 10 and Reverse the array (first element becomes last)"
   ]
  },
  {
   "cell_type": "code",
   "execution_count": null,
   "metadata": {},
   "outputs": [],
   "source": [
    "np_arr=np.arange(1,11)\n",
    "np_arr[::-1]"
   ]
  },
  {
   "cell_type": "markdown",
   "metadata": {},
   "source": [
    "#### 6. Create a 10x10 array with random values with seed value 7 and find the minimum and maximum values for each row."
   ]
  },
  {
   "cell_type": "code",
   "execution_count": null,
   "metadata": {},
   "outputs": [],
   "source": [
    "np.random.seed(7)\n",
    "x = np.random.random((10,10))\n",
    "min_per_row=x.min(axis=1)\n",
    "max_per_row=x.max(axis=1)"
   ]
  },
  {
   "cell_type": "markdown",
   "metadata": {},
   "source": [
    "#### 7. Multiply a 5x3 matrix by a 3x2 matrix (real matrix product)\n",
    "```\n",
    "\n",
    "a=[[1,2,3],[4,5,6],[7,8,9],[10,11,12],[13,14,15]]\n",
    "b=[[1,2],[3,4],[5,6]]\n",
    "\n",
    "```"
   ]
  },
  {
   "cell_type": "code",
   "execution_count": null,
   "metadata": {},
   "outputs": [],
   "source": [
    "a= np.array([[1,2,3],[4,5,6],[7,8,9],[10,11,12],[13,14,15]])\n",
    "b=np.array([[1,2],[3,4],[5,6]])\n",
    "np.matmul(a,b)"
   ]
  },
  {
   "cell_type": "markdown",
   "metadata": {},
   "source": [
    "#### 8. Given a 1D array, negate all elements which are between 3 and 8..And reshape to 3x5 shape\n",
    "```\n",
    "a=[1,2,3,4,5,6,7,8,9,10,11,12,13,14,15]\n",
    "```"
   ]
  },
  {
   "cell_type": "code",
   "execution_count": null,
   "metadata": {},
   "outputs": [],
   "source": [
    "a= np.array([1,2,3,4,5,6,7,8,9,10,11,12,13,14,15])\n",
    "a[(3 < a) & (a < 8)] *= -1\n",
    "print(a)\n",
    "reshaped_a = a.reshape(3,5)\n",
    "print(reshaped_a)"
   ]
  },
  {
   "cell_type": "markdown",
   "metadata": {},
   "source": [
    "#### 9. Create a 5x5 matrix with row values ranging from 0 to 4. Pad this 2D array with zero all around the border\n",
    "#### Expected Output :\n",
    "```\n",
    "[\n",
    "[0,0,0,0,0,0,0],\n",
    "[0 0 1 2 3 4 0],\n",
    "[0 0 1 2 3 4 0],\n",
    "[0 0 1 2 3 4 0],\n",
    "[0 0 1 2 3 4 0],\n",
    "[0 0 1 2 3 4 0],\n",
    "[0,0,0,0,0,0,0]\n",
    "]\n",
    "```"
   ]
  },
  {
   "cell_type": "code",
   "execution_count": null,
   "metadata": {},
   "outputs": [],
   "source": [
    "x = np.zeros((5,5))\n",
    "y= np.arange(5)\n",
    "original=x+y\n",
    "print(original)\n",
    "\n",
    "# Create zeros col and row to append.\n",
    "zeros_row=np.zeros(7,dtype=int).reshape(1,7)\n",
    "zeros_col=np.zeros(5,dtype=int).reshape(5,1)\n",
    "\n",
    "# append using vstack and hstack\n",
    "padded=np.hstack((zeros_col,original,zeros_col))\n",
    "padded=np.vstack((zeros_row,padded,zeros_row))\n",
    "print(padded)\n",
    "\n",
    "# Numpy also provide pad function \n",
    "print(\"Alternate Solution\")\n",
    "alternate = np.pad(original, pad_width=1, mode='constant', constant_values=0)\n",
    "print(alternate)"
   ]
  },
  {
   "cell_type": "markdown",
   "metadata": {},
   "source": [
    "#### 10. Read the following from file and fill missing values with 0\n",
    "```\n",
    "1, 2, 3, 4, 5\n",
    "6,  ,  , 7, 8\n",
    " ,  , 9,10,11\n",
    "```"
   ]
  },
  {
   "cell_type": "code",
   "execution_count": null,
   "metadata": {},
   "outputs": [],
   "source": [
    "np.genfromtxt(\"a.txt\",dtype=int,filling_values=0.0)"
   ]
  },
  {
   "cell_type": "markdown",
   "metadata": {},
   "source": [
    "#### 11.  Given a array arr. Write a NumPy program to test element-wise for NaN of a given array.\n",
    "```\n",
    "arr = np.array([1, 0, np.nan, np.inf])\n",
    "```"
   ]
  },
  {
   "cell_type": "code",
   "execution_count": null,
   "metadata": {},
   "outputs": [],
   "source": [
    "arr = np.array([1, 0, np.nan, np.inf])\n",
    "print(np.isnan(arr))"
   ]
  },
  {
   "cell_type": "markdown",
   "metadata": {},
   "source": [
    "#### 12. Write a NumPy program to convert an array to a float type.\n",
    "```\n",
    "Original array \n",
    "[1, 2, 3, 4] \n",
    "Array converted to a float type: \n",
    "[ 1. 2. 3. 4.] \n",
    "```"
   ]
  },
  {
   "cell_type": "code",
   "execution_count": null,
   "metadata": {},
   "outputs": [],
   "source": [
    "a = [1, 2, 3, 4]\n",
    "print(\"Original array\")\n",
    "print(a)\n",
    "x = np.asfarray(a)\n",
    "print(\"Array converted to a float type:\")\n",
    "print(x)"
   ]
  },
  {
   "cell_type": "markdown",
   "metadata": {},
   "source": [
    "#### 13.  Write a NumPy program to construct an array by repeating.\n",
    "```\n",
    "Original array \n",
    "[1, 2, 3, 4] \n",
    "Repeating 2 times \n",
    "[1 2 3 4 1 2 3 4]\n",
    "Repeating 3 times \n",
    "[1 2 3 4 1 2 3 4 1 2 3 4]\n",
    "```"
   ]
  },
  {
   "cell_type": "code",
   "execution_count": null,
   "metadata": {},
   "outputs": [],
   "source": [
    "n=3\n",
    "x = np.tile(a, n)\n",
    "x"
   ]
  },
  {
   "cell_type": "markdown",
   "metadata": {},
   "source": [
    "#### 14. How to tell if a given 2D array has null columns?"
   ]
  },
  {
   "cell_type": "code",
   "execution_count": null,
   "metadata": {},
   "outputs": [],
   "source": [
    "nums = np.random.randint(0,3,(4,10))\n",
    "print(nums)\n",
    "print(\"Test whether the said array has null columns or not:\")\n",
    "print((~nums.any(axis=0)).any())"
   ]
  },
  {
   "cell_type": "markdown",
   "metadata": {},
   "source": [
    "#### 15. Considering two arrays with shape (1,3) and (3,1), how to compute their sum using an iterator? \n",
    "```\n",
    "a= [\n",
    "[1,2,3]\n",
    "]\n",
    "\n",
    "b= [\n",
    "[4],\n",
    "[5],\n",
    "[6],\n",
    "]\n",
    "\n",
    "Expected Output = [[5 6 7]\n",
    "                   [6 7 8]\n",
    "                   [7 8 9]]\n",
    "```\n"
   ]
  },
  {
   "cell_type": "code",
   "execution_count": null,
   "metadata": {},
   "outputs": [],
   "source": [
    "A = np.arange(1,4).reshape(3,1)\n",
    "B = np.arange(4,7).reshape(1,3)\n",
    "it = np.nditer([A,B,None])\n",
    "for x,y,z in it: z[...] = x + y\n",
    "print(it.operands[2])"
   ]
  },
  {
   "cell_type": "markdown",
   "metadata": {},
   "source": [
    "##### 16. Solve the linear equation\n",
    "##### 10x+4y = 3 \n",
    "#####  -x+5y = 2 "
   ]
  },
  {
   "cell_type": "code",
   "execution_count": null,
   "metadata": {},
   "outputs": [],
   "source": [
    "A = np.array([[10, 4], [-1, 5]])\n",
    "b = np.array([3,2])\n",
    "x = np.linalg.solve(A, b)\n",
    "x"
   ]
  },
  {
   "cell_type": "markdown",
   "metadata": {},
   "source": [
    "##### 17. Create a 4x4 matrix with random values and find inverse of it."
   ]
  },
  {
   "cell_type": "code",
   "execution_count": null,
   "metadata": {},
   "outputs": [],
   "source": [
    "x= np.random.random((4,4))\n",
    "print(x)\n",
    "print(\"Inverse\")\n",
    "y = np.linalg.inv(x) \n",
    "print(y)"
   ]
  },
  {
   "cell_type": "markdown",
   "metadata": {},
   "source": [
    "##### 18.  Consider following array replace every 3 with 0\n",
    "```\n",
    "array = np.array([\n",
    "    [3, 9, 7],\n",
    "    [2, 0, 3],\n",
    "    [3, 3, 1]\n",
    "])\n",
    "```"
   ]
  },
  {
   "cell_type": "code",
   "execution_count": null,
   "metadata": {},
   "outputs": [],
   "source": [
    "array = np.array([\n",
    "    [3, 9, 7],\n",
    "    [2, 0, 3],\n",
    "    [3, 3, 1]\n",
    "])\n",
    "\n",
    "array[(array == 3)] =0\n",
    "array"
   ]
  },
  {
   "cell_type": "markdown",
   "metadata": {},
   "source": [
    "##### 19. Considering these numpy array of person names and corresponding arrays for their age and gender. Findout names Who’s at least 44 in age.?\n",
    "```\n",
    "names = np.array([\"Dennis\", \"Dee\", \"Charlie\", \"Mac\", \"Frank\"])\n",
    "ages = np.array([43, 44, 43, 42, 74])\n",
    "genders = np.array(['male', 'female', 'male', 'male', 'male'])\n",
    "```"
   ]
  },
  {
   "cell_type": "code",
   "execution_count": null,
   "metadata": {},
   "outputs": [],
   "source": [
    "names = np.array([\"Dennis\", \"Dee\", \"Charlie\", \"Mac\", \"Frank\"])\n",
    "ages = np.array([43, 44, 43, 42, 74])\n",
    "genders = np.array(['male', 'female', 'male', 'male', 'male'])\n",
    "\n",
    "name= names[(ages >= 44)]\n",
    "print(name)"
   ]
  },
  {
   "cell_type": "markdown",
   "metadata": {},
   "source": [
    "###### 20. Based on above array. Which males are over 42?."
   ]
  },
  {
   "cell_type": "code",
   "execution_count": null,
   "metadata": {},
   "outputs": [],
   "source": [
    "name= names[(ages > 42) & (genders == 'male')]\n",
    "print(name)"
   ]
  },
  {
   "cell_type": "markdown",
   "metadata": {},
   "source": [
    "###### 21. Based on above array. Who’s a not a male or who is younger than 45? "
   ]
  },
  {
   "cell_type": "code",
   "execution_count": null,
   "metadata": {},
   "outputs": [],
   "source": [
    "name= names[(ages < 45) & (genders != 'male')]\n",
    "name"
   ]
  },
  {
   "cell_type": "markdown",
   "metadata": {},
   "source": [
    "##### 22. Given the following pairs of array-shapes, determine what the resulting broadcasted shapes will be.\n",
    "##### Indicate if a pair is broadcast-incompatible.\n",
    "```\n",
    "1.    7 x 2 with 7\n",
    "2.    4 with 3 x 4\n",
    "3.    1 x 3 x 1 with 8 x 1 x 1\n",
    "4.    9 x 2 x 5 with 2 x 5\n",
    "5.    3 with 3 x 3 x 2 \n",
    "```"
   ]
  },
  {
   "cell_type": "markdown",
   "metadata": {},
   "source": [
    "```\n",
    "Answer:\n",
    "1. broadcast-incompatible\n",
    "2. (3 x 4)\n",
    "3. (8 x 3 x 1)\n",
    "4. (9 x 2 x 5)\n",
    "5. broadcast-incompatible\n",
    "```"
   ]
  },
  {
   "cell_type": "markdown",
   "metadata": {},
   "source": [
    "##### 23. Write a NumPy program to capitalize the first letter, lowercase, uppercase, swapcase, title-case of all the elements of a given array. \n",
    "\n",
    "##### Expected Output:\n",
    "#### Original Array:\n",
    "```\n",
    "['python' 'PHP' 'java' 'C++']\n",
    "\n",
    "Capitalized: ['Python' 'Php' 'Java' 'C++']\n",
    "Lowered: ['python' 'php' 'java' 'c++']\n",
    "Uppered: ['PYTHON' 'PHP' 'JAVA' 'C++']\n",
    "Swapcased: ['PYTHON' 'php' 'JAVA' 'c++']\n",
    "Titlecased: ['Python' 'Php' 'Java' 'C++']\n",
    "\n",
    "```"
   ]
  },
  {
   "cell_type": "code",
   "execution_count": null,
   "metadata": {},
   "outputs": [],
   "source": [
    "x = np.array(['python', 'PHP', 'java', 'C++'], dtype=np.str)\n",
    "print(\"Original Array:\")\n",
    "print(x)\n",
    "capitalized_case = np.char.capitalize(x)\n",
    "lowered_case = np.char.lower(x)\n",
    "uppered_case = np.char.upper(x)\n",
    "swapcased_case = np.char.swapcase(x)\n",
    "titlecased_case = np.char.title(x)\n",
    "print(\"\\nCapitalized: \", capitalized_case)\n",
    "print(\"Lowered: \", lowered_case)\n",
    "print(\"Uppered: \", uppered_case)\n",
    "print(\"Swapcased: \", swapcased_case)\n",
    "print(\"Titlecased: \", titlecased_case)"
   ]
  },
  {
   "cell_type": "markdown",
   "metadata": {},
   "source": [
    "##### 24. Write a NumPy program to split the element of a given array with spaces\n",
    "```\n",
    "Original Array:\n",
    " ['apple mangoes peach grapes']\n",
    "Output\n",
    "[list(['apple', 'mangoes', 'peach', 'grapes'])]\n",
    "```"
   ]
  },
  {
   "cell_type": "code",
   "execution_count": null,
   "metadata": {},
   "outputs": [],
   "source": [
    "x= np.array(['apple mangoes peach grapes'])\n",
    "r = np.char.split(x)\n",
    "print(\"\\nSplit the element of the said array with spaces: \")\n",
    "print(r)"
   ]
  },
  {
   "cell_type": "markdown",
   "metadata": {},
   "source": [
    "##### 25. Write a NumPy program to sort a given array of shape 2 along the first axis, last axis and on flattened array\n",
    "```\n",
    "Original array:\n",
    "[[10 40]\n",
    "[30 20]]\n",
    "Sort the array along the first axis:\n",
    "[[10 20]\n",
    "[30 40]]\n",
    "Sort the array along the last axis:\n",
    "[[10 40]\n",
    "[20 30]]\n",
    "Sort the flattened array:\n",
    "[10 20 30 40] \n",
    "```"
   ]
  },
  {
   "cell_type": "code",
   "execution_count": null,
   "metadata": {},
   "outputs": [],
   "source": [
    "x= np.array([[10,40],[30,20]])\n",
    "print(x)\n",
    "y=np.sort(x,axis=0)\n",
    "print(y)\n",
    "z=np.sort(x,axis=1)\n",
    "print(z)\n",
    "k=np.sort(x.flatten())\n",
    "print(k)"
   ]
  },
  {
   "cell_type": "markdown",
   "metadata": {},
   "source": [
    "##### 26. Write a NumPy program to add, subtract, multiply, divide arguments element-wise\n",
    "``` \n",
    "a= [1,3,5,6,7,8,9]\n",
    "b= [10,11,23,45,67,12,13]\n",
    "```"
   ]
  },
  {
   "cell_type": "code",
   "execution_count": null,
   "metadata": {},
   "outputs": [],
   "source": [
    "a= np.array([1,3,5,6,7,8,9])\n",
    "b= np.array([10,11,23,45,67,12,13])\n",
    "print(a+b)\n",
    "print(a-b)\n",
    "print(a/b)\n",
    "print(a*b)"
   ]
  },
  {
   "cell_type": "markdown",
   "metadata": {},
   "source": [
    "##### 27. Write a NumPy program to get the powers of 3 of an array values element-wise\n",
    "```\n",
    "a= [0 1 2 3 4 5 6]   \n",
    "```"
   ]
  },
  {
   "cell_type": "code",
   "execution_count": null,
   "metadata": {},
   "outputs": [],
   "source": [
    "a= np.array([0,1,2,3,4,5,6])\n",
    "print(a**3)"
   ]
  },
  {
   "cell_type": "markdown",
   "metadata": {},
   "source": [
    "###### 28. Write a NumPy program to get the minimum and maximum value of a given array along the second axis.\n",
    "```\n",
    "[[0 1 2 3 4 5 6]\n",
    "[2 3 4 5 6 7 8]]\n",
    "Maximum value along the second axis:\n",
    "[6 8]\n",
    "Minimum value along the second axis:\n",
    "[0 2]\n",
    "```"
   ]
  },
  {
   "cell_type": "code",
   "execution_count": null,
   "metadata": {},
   "outputs": [],
   "source": [
    "x= np.array([[0,1,2,3,4,5,6],[2,3,4,5,6,7,8]])\n",
    "print(x.max(axis=1))\n",
    "print(x.min(axis=1))"
   ]
  },
  {
   "cell_type": "markdown",
   "metadata": {},
   "source": [
    "##### 29. Write a NumPy program to flatten the array and then find its median.\n",
    "```\n",
    "[[ 0 1 2 3 4 5]\n",
    "[ 6 7 8 9 10 11]]\n",
    "```"
   ]
  },
  {
   "cell_type": "code",
   "execution_count": null,
   "metadata": {},
   "outputs": [],
   "source": [
    "x= np.array([[0,1,2,3,4,5],[6,7,8,9,10,11]])\n",
    "flat=x.flatten()\n",
    "print(flat)\n",
    "np.median(flat)"
   ]
  },
  {
   "cell_type": "markdown",
   "metadata": {},
   "source": [
    "##### 30. Write a NumPy program to compute the 80th percentile for all elements in a given array along the second axis.\n",
    "```\n",
    "Original array:\n",
    "[[ 0  1  2  3  4  5]\n",
    " [ 6  7  8  9 10 11]]\n",
    "\n",
    "80th percentile for all elements of the said array along the second axis:\n",
    "[ 4. 10.]\n",
    "```"
   ]
  },
  {
   "cell_type": "code",
   "execution_count": null,
   "metadata": {},
   "outputs": [],
   "source": [
    "x= np.array([[0,1,2,3,4,5],[6,7,8,9,10,11]])\n",
    "np.percentile(x,80,axis=1)"
   ]
  },
  {
   "cell_type": "code",
   "execution_count": null,
   "metadata": {},
   "outputs": [],
   "source": []
  },
  {
   "cell_type": "code",
   "execution_count": null,
   "metadata": {},
   "outputs": [],
   "source": []
  }
 ],
 "metadata": {
  "kernelspec": {
   "display_name": "Python 3",
   "language": "python",
   "name": "python3"
  },
  "language_info": {
   "codemirror_mode": {
    "name": "ipython",
    "version": 3
   },
   "file_extension": ".py",
   "mimetype": "text/x-python",
   "name": "python",
   "nbconvert_exporter": "python",
   "pygments_lexer": "ipython3",
   "version": "3.8.5"
  }
 },
 "nbformat": 4,
 "nbformat_minor": 5
}
