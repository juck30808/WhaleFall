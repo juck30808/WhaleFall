{
 "cells": [
  {
   "cell_type": "code",
   "execution_count": null,
   "metadata": {},
   "outputs": [],
   "source": [
    "# Qsearch.xlsx"
   ]
  },
  {
   "cell_type": "code",
   "execution_count": 3,
   "metadata": {},
   "outputs": [
    {
     "data": {
      "text/html": [
       "<div>\n",
       "<style scoped>\n",
       "    .dataframe tbody tr th:only-of-type {\n",
       "        vertical-align: middle;\n",
       "    }\n",
       "\n",
       "    .dataframe tbody tr th {\n",
       "        vertical-align: top;\n",
       "    }\n",
       "\n",
       "    .dataframe thead th {\n",
       "        text-align: right;\n",
       "    }\n",
       "</style>\n",
       "<table border=\"1\" class=\"dataframe\">\n",
       "  <thead>\n",
       "    <tr style=\"text-align: right;\">\n",
       "      <th></th>\n",
       "      <th>term</th>\n",
       "      <th>ratio</th>\n",
       "      <th>selected_posts</th>\n",
       "      <th>page_ids</th>\n",
       "      <th>angry_score</th>\n",
       "      <th>total_reaction</th>\n",
       "      <th>time</th>\n",
       "    </tr>\n",
       "  </thead>\n",
       "  <tbody>\n",
       "    <tr>\n",
       "      <th>0</th>\n",
       "      <td>永齡</td>\n",
       "      <td>0.998770</td>\n",
       "      <td>[object Object],[object Object],[object Object...</td>\n",
       "      <td>573474646459145,109249609124014,10924960912401...</td>\n",
       "      <td>4</td>\n",
       "      <td>66647</td>\n",
       "      <td>Invalid date</td>\n",
       "    </tr>\n",
       "    <tr>\n",
       "      <th>1</th>\n",
       "      <td>一黨</td>\n",
       "      <td>0.996778</td>\n",
       "      <td>[object Object],[object Object],[object Object]</td>\n",
       "      <td>46251501064,235679595900,335636328832</td>\n",
       "      <td>600</td>\n",
       "      <td>91260</td>\n",
       "      <td>Invalid date</td>\n",
       "    </tr>\n",
       "    <tr>\n",
       "      <th>2</th>\n",
       "      <td>死活</td>\n",
       "      <td>0.996084</td>\n",
       "      <td>[object Object],[object Object]</td>\n",
       "      <td>164872546882726,435245396499682</td>\n",
       "      <td>6136</td>\n",
       "      <td>33450</td>\n",
       "      <td>Invalid date</td>\n",
       "    </tr>\n",
       "    <tr>\n",
       "      <th>3</th>\n",
       "      <td>糾正</td>\n",
       "      <td>0.995517</td>\n",
       "      <td>[object Object],[object Object],[object Object...</td>\n",
       "      <td>45289011269,569291869790551,168362567115285,15...</td>\n",
       "      <td>698</td>\n",
       "      <td>81857</td>\n",
       "      <td>Invalid date</td>\n",
       "    </tr>\n",
       "    <tr>\n",
       "      <th>4</th>\n",
       "      <td>富發</td>\n",
       "      <td>0.995321</td>\n",
       "      <td>[object Object],[object Object],[object Object...</td>\n",
       "      <td>121066407930594,241581819928691,12106640793059...</td>\n",
       "      <td>84</td>\n",
       "      <td>15601</td>\n",
       "      <td>Invalid date</td>\n",
       "    </tr>\n",
       "    <tr>\n",
       "      <th>...</th>\n",
       "      <td>...</td>\n",
       "      <td>...</td>\n",
       "      <td>...</td>\n",
       "      <td>...</td>\n",
       "      <td>...</td>\n",
       "      <td>...</td>\n",
       "      <td>...</td>\n",
       "    </tr>\n",
       "    <tr>\n",
       "      <th>73</th>\n",
       "      <td>觀止</td>\n",
       "      <td>0.918208</td>\n",
       "      <td>[object Object],[object Object],[object Object...</td>\n",
       "      <td>138784199805261,854423191314293,43035195376058...</td>\n",
       "      <td>1</td>\n",
       "      <td>16163</td>\n",
       "      <td>Invalid date</td>\n",
       "    </tr>\n",
       "    <tr>\n",
       "      <th>74</th>\n",
       "      <td>更快</td>\n",
       "      <td>0.917868</td>\n",
       "      <td>[object Object],[object Object],[object Object...</td>\n",
       "      <td>573474646459145,717305251763769,12461633090680...</td>\n",
       "      <td>220</td>\n",
       "      <td>69656</td>\n",
       "      <td>Invalid date</td>\n",
       "    </tr>\n",
       "    <tr>\n",
       "      <th>75</th>\n",
       "      <td>#台積電</td>\n",
       "      <td>0.917581</td>\n",
       "      <td>[object Object],[object Object],[object Object...</td>\n",
       "      <td>573474646459145,436202956432960,128269288214,4...</td>\n",
       "      <td>-10</td>\n",
       "      <td>63966</td>\n",
       "      <td>Invalid date</td>\n",
       "    </tr>\n",
       "    <tr>\n",
       "      <th>76</th>\n",
       "      <td>翻白眼</td>\n",
       "      <td>0.916764</td>\n",
       "      <td>[object Object],[object Object],[object Object...</td>\n",
       "      <td>520835927950681,1267280453362248,6207479946523...</td>\n",
       "      <td>1</td>\n",
       "      <td>22226</td>\n",
       "      <td>Invalid date</td>\n",
       "    </tr>\n",
       "    <tr>\n",
       "      <th>77</th>\n",
       "      <td>側身</td>\n",
       "      <td>0.909573</td>\n",
       "      <td>[object Object],[object Object],[object Object...</td>\n",
       "      <td>916825445027024,220050085932,835161296601203,1...</td>\n",
       "      <td>22</td>\n",
       "      <td>17716</td>\n",
       "      <td>Invalid date</td>\n",
       "    </tr>\n",
       "  </tbody>\n",
       "</table>\n",
       "<p>78 rows × 7 columns</p>\n",
       "</div>"
      ],
      "text/plain": [
       "    term     ratio                                     selected_posts  \\\n",
       "0     永齡  0.998770  [object Object],[object Object],[object Object...   \n",
       "1     一黨  0.996778    [object Object],[object Object],[object Object]   \n",
       "2     死活  0.996084                    [object Object],[object Object]   \n",
       "3     糾正  0.995517  [object Object],[object Object],[object Object...   \n",
       "4     富發  0.995321  [object Object],[object Object],[object Object...   \n",
       "..   ...       ...                                                ...   \n",
       "73    觀止  0.918208  [object Object],[object Object],[object Object...   \n",
       "74    更快  0.917868  [object Object],[object Object],[object Object...   \n",
       "75  #台積電  0.917581  [object Object],[object Object],[object Object...   \n",
       "76   翻白眼  0.916764  [object Object],[object Object],[object Object...   \n",
       "77    側身  0.909573  [object Object],[object Object],[object Object...   \n",
       "\n",
       "                                             page_ids  angry_score  \\\n",
       "0   573474646459145,109249609124014,10924960912401...            4   \n",
       "1               46251501064,235679595900,335636328832          600   \n",
       "2                     164872546882726,435245396499682         6136   \n",
       "3   45289011269,569291869790551,168362567115285,15...          698   \n",
       "4   121066407930594,241581819928691,12106640793059...           84   \n",
       "..                                                ...          ...   \n",
       "73  138784199805261,854423191314293,43035195376058...            1   \n",
       "74  573474646459145,717305251763769,12461633090680...          220   \n",
       "75  573474646459145,436202956432960,128269288214,4...          -10   \n",
       "76  520835927950681,1267280453362248,6207479946523...            1   \n",
       "77  916825445027024,220050085932,835161296601203,1...           22   \n",
       "\n",
       "    total_reaction          time  \n",
       "0            66647  Invalid date  \n",
       "1            91260  Invalid date  \n",
       "2            33450  Invalid date  \n",
       "3            81857  Invalid date  \n",
       "4            15601  Invalid date  \n",
       "..             ...           ...  \n",
       "73           16163  Invalid date  \n",
       "74           69656  Invalid date  \n",
       "75           63966  Invalid date  \n",
       "76           22226  Invalid date  \n",
       "77           17716  Invalid date  \n",
       "\n",
       "[78 rows x 7 columns]"
      ]
     },
     "execution_count": 3,
     "metadata": {},
     "output_type": "execute_result"
    }
   ],
   "source": [
    "import pandas as pd \n",
    "df = pd.read_excel(\"Qsearch.xlsx\") # read to DataFrame\n",
    "df"
   ]
  },
  {
   "cell_type": "code",
   "execution_count": 10,
   "metadata": {},
   "outputs": [
    {
     "data": {
      "text/plain": [
       "'永齡'"
      ]
     },
     "execution_count": 10,
     "metadata": {},
     "output_type": "execute_result"
    }
   ],
   "source": [
    "# col, row\n",
    "df.iloc[0,0] "
   ]
  },
  {
   "cell_type": "code",
   "execution_count": 14,
   "metadata": {},
   "outputs": [
    {
     "data": {
      "text/plain": [
       "'一黨'"
      ]
     },
     "execution_count": 14,
     "metadata": {},
     "output_type": "execute_result"
    }
   ],
   "source": [
    "# col, row\n",
    "df.iloc[1,0] \n",
    "df.loc[1,\"term\"]  #Same"
   ]
  },
  {
   "cell_type": "code",
   "execution_count": 16,
   "metadata": {},
   "outputs": [
    {
     "data": {
      "text/plain": [
       "0.9591802368965995"
      ]
     },
     "execution_count": 16,
     "metadata": {},
     "output_type": "execute_result"
    }
   ],
   "source": [
    "# Caculate\n",
    "sum(df[\"ratio\"])/len(df)"
   ]
  },
  {
   "cell_type": "code",
   "execution_count": null,
   "metadata": {},
   "outputs": [],
   "source": [
    "df[\"New col\"] = df[\"term\"] / (df[\"身高\"]/100)**2 # 計算BMI"
   ]
  },
  {
   "cell_type": "markdown",
   "metadata": {},
   "source": [
    "## Open"
   ]
  },
  {
   "cell_type": "code",
   "execution_count": 25,
   "metadata": {},
   "outputs": [
    {
     "name": "stdout",
     "output_type": "stream",
     "text": [
      "     Sepal Length  Sepal Width  Petal Length  Petal Width           class\n",
      "0             5.1          3.5           1.4          0.2     Iris-setosa\n",
      "1             4.9          3.0           1.4          0.2     Iris-setosa\n",
      "2             4.7          3.2           1.3          0.2     Iris-setosa\n",
      "3             4.6          3.1           1.5          0.2     Iris-setosa\n",
      "4             5.0          3.6           1.4          0.2     Iris-setosa\n",
      "..            ...          ...           ...          ...             ...\n",
      "145           6.7          3.0           5.2          2.3  Iris-virginica\n",
      "146           6.3          2.5           5.0          1.9  Iris-virginica\n",
      "147           6.5          3.0           5.2          2.0  Iris-virginica\n",
      "148           6.2          3.4           5.4          2.3  Iris-virginica\n",
      "149           5.9          3.0           5.1          1.8  Iris-virginica\n",
      "\n",
      "[150 rows x 5 columns]\n"
     ]
    }
   ],
   "source": [
    "import pandas as pd\n",
    "df = pd.read_csv(\"iris.csv\")\n",
    "print(df)"
   ]
  },
  {
   "cell_type": "code",
   "execution_count": 29,
   "metadata": {},
   "outputs": [
    {
     "name": "stdout",
     "output_type": "stream",
     "text": [
      "The class is Iris-virginica\n"
     ]
    }
   ],
   "source": [
    "def foo(row):\n",
    "    print(\"The class is %s\" % row[\"class\"])"
   ]
  },
  {
   "cell_type": "code",
   "execution_count": 27,
   "metadata": {},
   "outputs": [
    {
     "name": "stdout",
     "output_type": "stream",
     "text": [
      "The class is Iris-setosa\n",
      "The class is Iris-setosa\n",
      "The class is Iris-setosa\n",
      "The class is Iris-setosa\n",
      "The class is Iris-setosa\n",
      "The class is Iris-setosa\n",
      "The class is Iris-setosa\n",
      "The class is Iris-setosa\n",
      "The class is Iris-setosa\n",
      "The class is Iris-setosa\n",
      "The class is Iris-setosa\n",
      "The class is Iris-setosa\n",
      "The class is Iris-setosa\n",
      "The class is Iris-setosa\n",
      "The class is Iris-setosa\n",
      "The class is Iris-setosa\n",
      "The class is Iris-setosa\n",
      "The class is Iris-setosa\n",
      "The class is Iris-setosa\n",
      "The class is Iris-setosa\n",
      "The class is Iris-setosa\n",
      "The class is Iris-setosa\n",
      "The class is Iris-setosa\n",
      "The class is Iris-setosa\n",
      "The class is Iris-setosa\n",
      "The class is Iris-setosa\n",
      "The class is Iris-setosa\n",
      "The class is Iris-setosa\n",
      "The class is Iris-setosa\n",
      "The class is Iris-setosa\n",
      "The class is Iris-setosa\n",
      "The class is Iris-setosa\n",
      "The class is Iris-setosa\n",
      "The class is Iris-setosa\n",
      "The class is Iris-setosa\n",
      "The class is Iris-setosa\n",
      "The class is Iris-setosa\n",
      "The class is Iris-setosa\n",
      "The class is Iris-setosa\n",
      "The class is Iris-setosa\n",
      "The class is Iris-setosa\n",
      "The class is Iris-setosa\n",
      "The class is Iris-setosa\n",
      "The class is Iris-setosa\n",
      "The class is Iris-setosa\n",
      "The class is Iris-setosa\n",
      "The class is Iris-setosa\n",
      "The class is Iris-setosa\n",
      "The class is Iris-setosa\n",
      "The class is Iris-setosa\n",
      "The class is Iris-versicolor\n",
      "The class is Iris-versicolor\n",
      "The class is Iris-versicolor\n",
      "The class is Iris-versicolor\n",
      "The class is Iris-versicolor\n",
      "The class is Iris-versicolor\n",
      "The class is Iris-versicolor\n",
      "The class is Iris-versicolor\n",
      "The class is Iris-versicolor\n",
      "The class is Iris-versicolor\n",
      "The class is Iris-versicolor\n",
      "The class is Iris-versicolor\n",
      "The class is Iris-versicolor\n",
      "The class is Iris-versicolor\n",
      "The class is Iris-versicolor\n",
      "The class is Iris-versicolor\n",
      "The class is Iris-versicolor\n",
      "The class is Iris-versicolor\n",
      "The class is Iris-versicolor\n",
      "The class is Iris-versicolor\n",
      "The class is Iris-versicolor\n",
      "The class is Iris-versicolor\n",
      "The class is Iris-versicolor\n",
      "The class is Iris-versicolor\n",
      "The class is Iris-versicolor\n",
      "The class is Iris-versicolor\n",
      "The class is Iris-versicolor\n",
      "The class is Iris-versicolor\n",
      "The class is Iris-versicolor\n",
      "The class is Iris-versicolor\n",
      "The class is Iris-versicolor\n",
      "The class is Iris-versicolor\n",
      "The class is Iris-versicolor\n",
      "The class is Iris-versicolor\n",
      "The class is Iris-versicolor\n",
      "The class is Iris-versicolor\n",
      "The class is Iris-versicolor\n",
      "The class is Iris-versicolor\n",
      "The class is Iris-versicolor\n",
      "The class is Iris-versicolor\n",
      "The class is Iris-versicolor\n",
      "The class is Iris-versicolor\n",
      "The class is Iris-versicolor\n",
      "The class is Iris-versicolor\n",
      "The class is Iris-versicolor\n",
      "The class is Iris-versicolor\n",
      "The class is Iris-versicolor\n",
      "The class is Iris-versicolor\n",
      "The class is Iris-versicolor\n",
      "The class is Iris-versicolor\n",
      "The class is Iris-virginica\n",
      "The class is Iris-virginica\n",
      "The class is Iris-virginica\n",
      "The class is Iris-virginica\n",
      "The class is Iris-virginica\n",
      "The class is Iris-virginica\n",
      "The class is Iris-virginica\n",
      "The class is Iris-virginica\n",
      "The class is Iris-virginica\n",
      "The class is Iris-virginica\n",
      "The class is Iris-virginica\n",
      "The class is Iris-virginica\n",
      "The class is Iris-virginica\n",
      "The class is Iris-virginica\n",
      "The class is Iris-virginica\n",
      "The class is Iris-virginica\n",
      "The class is Iris-virginica\n",
      "The class is Iris-virginica\n",
      "The class is Iris-virginica\n",
      "The class is Iris-virginica\n",
      "The class is Iris-virginica\n",
      "The class is Iris-virginica\n",
      "The class is Iris-virginica\n",
      "The class is Iris-virginica\n",
      "The class is Iris-virginica\n",
      "The class is Iris-virginica\n",
      "The class is Iris-virginica\n",
      "The class is Iris-virginica\n",
      "The class is Iris-virginica\n",
      "The class is Iris-virginica\n",
      "The class is Iris-virginica\n",
      "The class is Iris-virginica\n",
      "The class is Iris-virginica\n",
      "The class is Iris-virginica\n",
      "The class is Iris-virginica\n",
      "The class is Iris-virginica\n",
      "The class is Iris-virginica\n",
      "The class is Iris-virginica\n",
      "The class is Iris-virginica\n",
      "The class is Iris-virginica\n",
      "The class is Iris-virginica\n",
      "The class is Iris-virginica\n",
      "The class is Iris-virginica\n",
      "The class is Iris-virginica\n",
      "The class is Iris-virginica\n",
      "The class is Iris-virginica\n",
      "The class is Iris-virginica\n",
      "The class is Iris-virginica\n",
      "The class is Iris-virginica\n",
      "The class is Iris-virginica\n"
     ]
    }
   ],
   "source": [
    "for index,row in df.iterrows():\n",
    "    foo(row)"
   ]
  },
  {
   "cell_type": "code",
   "execution_count": null,
   "metadata": {},
   "outputs": [],
   "source": []
  },
  {
   "cell_type": "code",
   "execution_count": null,
   "metadata": {},
   "outputs": [],
   "source": []
  },
  {
   "cell_type": "code",
   "execution_count": null,
   "metadata": {},
   "outputs": [],
   "source": []
  }
 ],
 "metadata": {
  "kernelspec": {
   "display_name": "Python 3",
   "language": "python",
   "name": "python3"
  },
  "language_info": {
   "codemirror_mode": {
    "name": "ipython",
    "version": 3
   },
   "file_extension": ".py",
   "mimetype": "text/x-python",
   "name": "python",
   "nbconvert_exporter": "python",
   "pygments_lexer": "ipython3",
   "version": "3.8.5"
  }
 },
 "nbformat": 4,
 "nbformat_minor": 4
}
