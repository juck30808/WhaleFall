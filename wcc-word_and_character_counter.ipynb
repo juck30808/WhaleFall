{
 "cells": [
  {
   "cell_type": "markdown",
   "metadata": {},
   "source": [
    "##### 1. Create a python module to count the words and characters exclude white space in the given input string statment"
   ]
  },
  {
   "cell_type": "code",
   "execution_count": 1,
   "metadata": {},
   "outputs": [],
   "source": [
    "import word_and_character_counter as wcc"
   ]
  },
  {
   "cell_type": "code",
   "execution_count": 2,
   "metadata": {},
   "outputs": [
    {
     "name": "stdout",
     "output_type": "stream",
     "text": [
      "Enter a statment to count its word and characters: 5\n"
     ]
    }
   ],
   "source": [
    "string=input('Enter a statment to count its word and characters: ')"
   ]
  },
  {
   "cell_type": "code",
   "execution_count": 3,
   "metadata": {},
   "outputs": [
    {
     "name": "stdout",
     "output_type": "stream",
     "text": [
      "Total number of words in given string: 1\n"
     ]
    }
   ],
   "source": [
    "print(f'Total number of words in given string: {wcc.word_count(string)}')\n",
    "#wcc.word_count(string)"
   ]
  },
  {
   "cell_type": "code",
   "execution_count": 4,
   "metadata": {},
   "outputs": [
    {
     "name": "stdout",
     "output_type": "stream",
     "text": [
      "Total number of words in given string: 1\n"
     ]
    }
   ],
   "source": [
    "print(f'Total number of words in given string: {wcc.char_count(string)}')"
   ]
  },
  {
   "cell_type": "markdown",
   "metadata": {},
   "source": [
    "##### 2. Create a python module to find the high priced products in a shoping cart"
   ]
  },
  {
   "cell_type": "code",
   "execution_count": 10,
   "metadata": {},
   "outputs": [
    {
     "name": "stdout",
     "output_type": "stream",
     "text": [
      "All items in cart: {'banana': 2, 'apple': 15, 'mango': 5, 'orange': 8, 'grapes': 4}\n",
      "Maximum priced product ('apple', 15)\n"
     ]
    }
   ],
   "source": [
    "import price_identifier as pir\n",
    "cart = {'banana': 2, 'apple': 15, 'mango': 5,'orange': 8, 'grapes': 4}\n",
    "print(\"All items in cart: \" + str(cart))\n",
    "\n",
    "print(f'Maximum priced product {pir.maxi(cart)}')"
   ]
  },
  {
   "cell_type": "markdown",
   "metadata": {},
   "source": [
    "##### 3. William and Doug are playing a game. In this game, both of them are initially provided with a list of n numbers. (Both have the same list but their own copy). Now, they both have a different strategy to play the game. William picks the element from start of his list. Doug picks from the end of his list. You need to generate the result in form of an list. Method to be followed at each step to build the output list is: \n",
    "* If the number picked by William is bigger than Doug then this step's output is 'X' . Doug removes the number that was picked from their list.\n",
    "* If the number picked by William is smaller than Doug then this step's output is 'Y' . Doug removes the number that was picked from their list.\n",
    "* If both have the same number then this step's output is 'Z'. Both William and Doug remove the number that was picked from their list.\n",
    "* This game ends when at least one of them has no more elements to be picked i.e. when the list gets empty.\n",
    "\n",
    "##### In the output list, if the occurance of 'X' is high, William wins the game or 'Y' is high, Doug wins the game. if both or equal no one wins the game."
   ]
  },
  {
   "cell_type": "code",
   "execution_count": 12,
   "metadata": {},
   "outputs": [
    {
     "name": "stdout",
     "output_type": "stream",
     "text": [
      "Enter total number of items going to get as input: 6\n",
      "Enter item number 1: 7\n",
      "Enter item number 2: 9\n",
      "Enter item number 3: 2\n",
      "Enter item number 4: 4\n",
      "Enter item number 5: 6\n",
      "Enter item number 6: 8\n",
      "Result is  ['Y', 'X', 'X', 'X', 'X', 'Z', 'Y', 'Y', 'Y', 'X']\n",
      "William won the game\n"
     ]
    }
   ],
   "source": [
    "import number_game\n",
    "n = int(input('Enter total number of items going to get as input: '))\n",
    "items=[]\n",
    "for i in range(n):\n",
    "    ele=int(input(f'Enter item number {i+1}: '))\n",
    "    items.append(ele)\n",
    "    \n",
    "result = number_game.game(items)\n",
    "\n",
    "print('Result is ', result)\n",
    "if result.count('X') > result.count('Y'):\n",
    "    print('William won the game')\n",
    "elif result.count('X')< result.count('Y'):\n",
    "    print('Doug won the game')\n",
    "elif result.count('X') == result.count('Y'):\n",
    "    print ('Draw match')"
   ]
  },
  {
   "cell_type": "code",
   "execution_count": null,
   "metadata": {},
   "outputs": [],
   "source": []
  }
 ],
 "metadata": {
  "kernelspec": {
   "display_name": "Python 3",
   "language": "python",
   "name": "python3"
  },
  "language_info": {
   "codemirror_mode": {
    "name": "ipython",
    "version": 3
   },
   "file_extension": ".py",
   "mimetype": "text/x-python",
   "name": "python",
   "nbconvert_exporter": "python",
   "pygments_lexer": "ipython3",
   "version": "3.8.5"
  }
 },
 "nbformat": 4,
 "nbformat_minor": 4
}
