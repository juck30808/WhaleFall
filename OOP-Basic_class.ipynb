{
 "cells": [
  {
   "cell_type": "markdown",
   "metadata": {},
   "source": [
    "## Object-Oriented Programming (OOP)\n",
    "物件導向是一個廣泛使用的概念來編寫強大的應用程序。作為一名數據科學家，您將需要編寫應用程序來處理您的數據以及其他一系列事情。在本教程中，您將了解 Python 中物件導向的基礎知識。"
   ]
  },
  {
   "cell_type": "markdown",
   "metadata": {},
   "source": [
    "Object-Oriented programming is a widely used concept to write powerful applications. As a data scientist, you will be required to write applications to process your data, among a range of other things. In this tutorial, you will discover the basics of object-oriented programming in Python. You will learn the following:"
   ]
  },
  {
   "cell_type": "markdown",
   "metadata": {},
   "source": [
    "## create a class\n",
    "\n",
    "- 要在 Python 中定義類，可以使用 class 關鍵字，後跟類名和冒號。在class內部，__init__必須使用def. 這是您以後可以用來實例化對象的初始化程序。它類似於 Java 中的構造函數。__init__必須始終在場！它需要一個參數：self，它指的是對象本身。在方法內部，pass關鍵字是現在使用的，因為 Python 期望你在那裡輸入一些東西。"
   ]
  },
  {
   "cell_type": "code",
   "execution_count": 6,
   "metadata": {},
   "outputs": [],
   "source": [
    "class Student:\n",
    "    count=0\n",
    "    def __init__(self,name,gender,roll=-1,marks=0) :\n",
    "        self.name=name\n",
    "        self.roll=roll\n",
    "        self.gender=gender\n",
    "        self.marks=marks\n",
    "        Student.count+=1\n",
    "        \n",
    "    def __del__(self):\n",
    "        Student.count-=1\n",
    "        \n",
    "    def calculateGrade(self):\n",
    "        if self.marks>=70 and self.marks<=100:\n",
    "            return 'A'\n",
    "        elif self.marks>=60 and self.marks<70:\n",
    "            return 'B'\n",
    "        elif self.marks>=40 and self.marks<60:\n",
    "            return 'C'\n",
    "        elif self.marks>=0 and self.marks<40:\n",
    "            return\n",
    "        else:\n",
    "            return \"Invalid marks\"\n",
    "        \n",
    "    def getCount(self):\n",
    "        return Student.count"
   ]
  },
  {
   "cell_type": "code",
   "execution_count": 7,
   "metadata": {},
   "outputs": [
    {
     "name": "stdout",
     "output_type": "stream",
     "text": [
      "Enter your name: XYZ\n",
      "Enter your roll no: 1\n",
      "Enter your gender:F\n",
      "Enter your marks: 50\n",
      "0\n",
      "0\n",
      "0\n",
      "Grade of XYZ is C\n",
      "Grade of abc is A\n"
     ]
    }
   ],
   "source": [
    "#from student import Student\n",
    "#import student\n",
    "\n",
    "name =input(\"Enter your name: \")\n",
    "roll =int(input (\"Enter your roll no: \"))\n",
    "gender =input (\"Enter your gender:\")\n",
    "marks =float(input (\"Enter your marks: \"))\n",
    "print (Student.count)\n",
    "                    \n",
    "s1=Student (name,roll,gender,marks)\n",
    "print (Student.count)\n",
    "                    \n",
    "s2=Student (\"abc\", 2, \"M\", 85.5)\n",
    "print (Student.count)\n",
    "print(\"Grade of {0} is {1}\" .format (s1.name,s1.calculateGrade()))\n",
    "print(\"Grade of {0} is {1}\" .format (s2.name,s2.calculateGrade ()))"
   ]
  },
  {
   "cell_type": "code",
   "execution_count": 1,
   "metadata": {},
   "outputs": [
    {
     "name": "stdout",
     "output_type": "stream",
     "text": [
      "Nombre: Juan, Edad: 28\n",
      "Nombre: Karla, Edad: 30\n"
     ]
    }
   ],
   "source": [
    "class Persona:\n",
    "    def __init__(self, nombre, edad):\n",
    "        self.nombre = nombre\n",
    "        self.edad = edad\n",
    "\n",
    "    def desplegar(self):\n",
    "        print(f'Nombre: {self.nombre}, Edad: {self.edad}')\n",
    "\n",
    "\n",
    "persona1 = Persona('Juan', 28)\n",
    "persona1.desplegar()\n",
    "persona2 = Persona('Karla', 30)\n",
    "persona2.desplegar()\n"
   ]
  },
  {
   "cell_type": "code",
   "execution_count": 10,
   "metadata": {},
   "outputs": [
    {
     "name": "stdout",
     "output_type": "stream",
     "text": [
      "Juan\n",
      "Perez\n",
      "28\n"
     ]
    }
   ],
   "source": [
    "class Persona:\n",
    "    def __init__(self, nombre, apellido, edad):\n",
    "        self.nombre = nombre\n",
    "        self.apellido = apellido\n",
    "        self.edad = edad\n",
    "\n",
    "persona1 = Persona('Juan', 'Perez', 28)\n",
    "print(persona1.nombre)\n",
    "print(persona1.apellido)\n",
    "print(persona1.edad)\n"
   ]
  },
  {
   "cell_type": "code",
   "execution_count": 11,
   "metadata": {},
   "outputs": [
    {
     "name": "stdout",
     "output_type": "stream",
     "text": [
      "Objeto Persona 1: Juan Perez 28\n",
      "Objeto Persona 2: Karla Gomez 30\n"
     ]
    }
   ],
   "source": [
    "class Persona:\n",
    "    def __init__(self, nombre, apellido, edad):\n",
    "        self.nombre = nombre\n",
    "        self.apellido = apellido\n",
    "        self.edad = edad\n",
    "\n",
    "persona1 = Persona('Juan', 'Perez', 28)\n",
    "print(f'Objeto Persona 1: {persona1.nombre} {persona1.apellido} {persona1.edad}')\n",
    "\n",
    "persona2 = Persona('Karla', 'Gomez', 30)\n",
    "print(f'Objeto Persona 2: {persona2.nombre} {persona2.apellido} {persona2.edad}')\n"
   ]
  },
  {
   "cell_type": "code",
   "execution_count": 13,
   "metadata": {},
   "outputs": [
    {
     "name": "stdout",
     "output_type": "stream",
     "text": [
      "Objeto Persona 1: Juan Perez 28\n",
      "Objeto Persona 2: Karla Gomez 30\n"
     ]
    }
   ],
   "source": [
    "class Persona:\n",
    "    def __init__(self, nombre, apellido, edad):\n",
    "        self.nombre = nombre\n",
    "        self.apellido = apellido\n",
    "        self.edad = edad\n",
    "\n",
    "persona1 = Persona('Juan', 'Perez', 28)\n",
    "print(f'Objeto Persona 1: {persona1.nombre} {persona1.apellido} {persona1.edad}')\n",
    "\n",
    "persona2 = Persona('Karla', 'Gomez', 30)\n",
    "print(f'Objeto Persona 2: {persona2.nombre} {persona2.apellido} {persona2.edad}')\n"
   ]
  },
  {
   "cell_type": "code",
   "execution_count": 14,
   "metadata": {},
   "outputs": [
    {
     "name": "stdout",
     "output_type": "stream",
     "text": [
      "Objeto Persona 1: Juan Perez 28\n",
      "Objeto Persona 1: Juan Carlos Juarez 25\n",
      "Objeto Persona 2: Karla Gomez 30\n"
     ]
    }
   ],
   "source": [
    "class Persona:\n",
    "    def __init__(self, nombre, apellido, edad):\n",
    "        self.nombre = nombre\n",
    "        self.apellido = apellido\n",
    "        self.edad = edad\n",
    "\n",
    "persona1 = Persona('Juan', 'Perez', 28)\n",
    "print(f'Objeto Persona 1: {persona1.nombre} {persona1.apellido} {persona1.edad}')\n",
    "\n",
    "persona1.nombre = 'Juan Carlos'\n",
    "persona1.apellido = 'Juarez'\n",
    "persona1.edad = 25\n",
    "print(f'Objeto Persona 1: {persona1.nombre} {persona1.apellido} {persona1.edad}')\n",
    "\n",
    "persona2 = Persona('Karla', 'Gomez', 30)\n",
    "print(f'Objeto Persona 2: {persona2.nombre} {persona2.apellido} {persona2.edad}')\n"
   ]
  },
  {
   "cell_type": "code",
   "execution_count": 15,
   "metadata": {},
   "outputs": [
    {
     "name": "stdout",
     "output_type": "stream",
     "text": [
      "Persona: Juan Perez 28\n",
      "Persona: Karla Gomez 30\n"
     ]
    }
   ],
   "source": [
    "class Persona:\n",
    "    def __init__(self, nombre, apellido, edad):\n",
    "        self.nombre = nombre\n",
    "        self.apellido = apellido\n",
    "        self.edad = edad\n",
    "\n",
    "    def mostrar_detalle(self):\n",
    "        print(f'Persona: {self.nombre} {self.apellido} {self.edad}')\n",
    "\n",
    "persona1 = Persona('Juan', 'Perez', 28)\n",
    "persona1.mostrar_detalle()\n",
    "\n",
    "persona2 = Persona('Karla', 'Gomez', 30)\n",
    "persona2.mostrar_detalle()"
   ]
  },
  {
   "cell_type": "code",
   "execution_count": 18,
   "metadata": {},
   "outputs": [
    {
     "name": "stdout",
     "output_type": "stream",
     "text": [
      "Suma: 8\n",
      "Resta: 2\n",
      "Multiplicación: 15\n",
      "División: 1.67\n"
     ]
    }
   ],
   "source": [
    "class Aritmetica:\n",
    "    \"\"\"\n",
    "    Clase Aritmetica para realizar las operaciones de sumar, restar, etc\n",
    "    \"\"\"\n",
    "    def __init__(self, operandoA, operandoB):\n",
    "        self.operandoA = operandoA\n",
    "        self.operandoB = operandoB\n",
    "\n",
    "    def sumar(self):\n",
    "        return self.operandoA + self.operandoB\n",
    "\n",
    "    def restar(self):\n",
    "        return self.operandoA - self.operandoB\n",
    "\n",
    "    def multiplicar(self):\n",
    "        return self.operandoA * self.operandoB\n",
    "\n",
    "    def dividir(self):\n",
    "        return self.operandoA / self.operandoB\n",
    "\n",
    "aritmetica1 = Aritmetica(5,3)\n",
    "print(f'Suma: {aritmetica1.sumar()}')\n",
    "print(f'Resta: {aritmetica1.restar()}')\n",
    "print(f'Multiplicación: {aritmetica1.multiplicar()}')\n",
    "print(f'División: {aritmetica1.dividir():.2f}')"
   ]
  },
  {
   "cell_type": "code",
   "execution_count": 20,
   "metadata": {},
   "outputs": [
    {
     "name": "stdout",
     "output_type": "stream",
     "text": [
      "Proporciona la base: 20\n",
      "Proporciona la altura: 30\n",
      "Área rectángulo: 600\n",
      "Proporciona la base: 40\n",
      "Proporciona la altura: 50\n",
      "Área rectángulo: 2000\n"
     ]
    }
   ],
   "source": [
    "class Rectangulo:\n",
    "    def __init__(self, base, altura):\n",
    "        self.base = base\n",
    "        self.altura = altura\n",
    "\n",
    "    def cacular_area(self):\n",
    "        return self.base * self.altura\n",
    "\n",
    "base = int(input('Proporciona la base: '))\n",
    "altura = int(input('Proporciona la altura: '))\n",
    "\n",
    "rectangulo1 = Rectangulo(base, altura)\n",
    "print(f'Área rectángulo: {rectangulo1.cacular_area()}')\n",
    "\n",
    "base = int(input('Proporciona la base: '))\n",
    "altura = int(input('Proporciona la altura: '))\n",
    "\n",
    "rectangulo2 = Rectangulo(base, altura)\n",
    "print(f'Área rectángulo: {rectangulo2.cacular_area()}')"
   ]
  },
  {
   "cell_type": "code",
   "execution_count": 21,
   "metadata": {},
   "outputs": [
    {
     "name": "stdout",
     "output_type": "stream",
     "text": [
      "Proporciona el ancho: 20\n",
      "Proporciona el alto: 30\n",
      "Proprociona lo profundo: 40\n",
      "Volúmen cubo: 24000\n"
     ]
    }
   ],
   "source": [
    "class Cubo:\n",
    "    def __init__(self, ancho, alto, profundo):\n",
    "        self.ancho = ancho\n",
    "        self.alto = alto\n",
    "        self.profundo = profundo\n",
    "\n",
    "    def calcular_volumen(self):\n",
    "        return self.ancho * self.alto * self.profundo\n",
    "\n",
    "ancho = int(input('Proporciona el ancho: '))\n",
    "alto = int(input('Proporciona el alto: '))\n",
    "profundo = int(input('Proprociona lo profundo: '))\n",
    "\n",
    "cubo1 = Cubo(ancho, alto, profundo)\n",
    "print(f'Volúmen cubo: {cubo1.calcular_volumen()}')"
   ]
  },
  {
   "cell_type": "code",
   "execution_count": 22,
   "metadata": {},
   "outputs": [
    {
     "name": "stdout",
     "output_type": "stream",
     "text": [
      "Persona: Juan Perez 28 ('44553322', 2, 3, 5) {'m': 'manzana', 'p': 'pera'}\n",
      "Persona: Karla Gomez 30 () {}\n"
     ]
    }
   ],
   "source": [
    "class Persona:\n",
    "    def __init__(self, nombre, apellido, edad, *valores, **terminos):\n",
    "        self.nombre = nombre\n",
    "        self.apellido = apellido\n",
    "        self.edad = edad\n",
    "        self.valores = valores\n",
    "        self.terminos = terminos\n",
    "\n",
    "    def mostrar_detalle(self):\n",
    "        print(f'Persona: {self.nombre} {self.apellido} {self.edad} {self.valores} {self.terminos}')\n",
    "\n",
    "persona1 = Persona('Juan', 'Perez', 28, '44553322', 2, 3, 5, m='manzana', p='pera')\n",
    "persona1.mostrar_detalle()\n",
    "\n",
    "persona2 = Persona('Karla', 'Gomez', 30)\n",
    "persona2.mostrar_detalle()\n"
   ]
  },
  {
   "cell_type": "code",
   "execution_count": 23,
   "metadata": {},
   "outputs": [
    {
     "name": "stdout",
     "output_type": "stream",
     "text": [
      "Persona: Juan Carlos Perez 28\n"
     ]
    }
   ],
   "source": [
    "class Persona:\n",
    "    def __init__(self, nombre, apellido, edad):\n",
    "        self._nombre = nombre\n",
    "        self.apellido = apellido\n",
    "        self.edad = edad\n",
    "\n",
    "    def mostrar_detalle(self):\n",
    "        print(f'Persona: {self._nombre} {self.apellido} {self.edad}')\n",
    "\n",
    "persona1 = Persona('Juan', 'Perez', 28)\n",
    "persona1._nombre = 'Juan Carlos'\n",
    "persona1.mostrar_detalle()\n"
   ]
  },
  {
   "cell_type": "code",
   "execution_count": 24,
   "metadata": {},
   "outputs": [
    {
     "name": "stdout",
     "output_type": "stream",
     "text": [
      "Llamando método set nombre\n",
      "Llamando método get nombre\n",
      "Juan Carlos\n"
     ]
    }
   ],
   "source": [
    "class Persona:\n",
    "    def __init__(self, nombre, apellido, edad):\n",
    "        self._nombre = nombre\n",
    "        self.apellido = apellido\n",
    "        self.edad = edad\n",
    "\n",
    "    @property\n",
    "    def nombre(self):\n",
    "        print('Llamando método get nombre')\n",
    "        return self._nombre\n",
    "\n",
    "    @nombre.setter\n",
    "    def nombre(self, nombre):\n",
    "        print('Llamando método set nombre')\n",
    "        self._nombre = nombre\n",
    "\n",
    "    def mostrar_detalle(self):\n",
    "        print(f'Persona: {self._nombre} {self.apellido} {self.edad}')\n",
    "\n",
    "persona1 = Persona('Juan', 'Perez', 28)\n",
    "persona1.nombre = 'Juan Carlos'\n",
    "print(persona1.nombre)\n",
    "# persona1._nombre = 'Cambio'\n",
    "# print(persona1._nombre)"
   ]
  },
  {
   "cell_type": "code",
   "execution_count": 26,
   "metadata": {},
   "outputs": [
    {
     "name": "stdout",
     "output_type": "stream",
     "text": [
      "Llamando método set nombre\n",
      "Llamando método get nombre\n",
      "Juan Carlos\n"
     ]
    }
   ],
   "source": [
    "class Persona:\n",
    "    def __init__(self, nombre, apellido, edad):\n",
    "        self._nombre = nombre\n",
    "        self.apellido = apellido\n",
    "        self.edad = edad\n",
    "\n",
    "    @property\n",
    "    def nombre(self):\n",
    "        print('Llamando método get nombre')\n",
    "        return self._nombre\n",
    "\n",
    "    @nombre.setter\n",
    "    def nombre(self, nombre):\n",
    "        print('Llamando método set nombre')\n",
    "        self._nombre = nombre\n",
    "\n",
    "    def mostrar_detalle(self):\n",
    "        print(f'Persona: {self._nombre} {self.apellido} {self.edad}')\n",
    "\n",
    "persona1 = Persona('Juan', 'Perez', 28)\n",
    "persona1.nombre = 'Juan Carlos'\n",
    "print(persona1.nombre)\n",
    "# persona1._nombre = 'Cambio'\n",
    "# print(persona1._nombre)"
   ]
  },
  {
   "cell_type": "code",
   "execution_count": 27,
   "metadata": {},
   "outputs": [
    {
     "name": "stdout",
     "output_type": "stream",
     "text": [
      "Persona: Juan Carlos Lara 30\n"
     ]
    }
   ],
   "source": [
    "class Persona:\n",
    "    def __init__(self, nombre, apellido, edad):\n",
    "        self._nombre = nombre\n",
    "        self._apellido = apellido\n",
    "        self._edad = edad\n",
    "\n",
    "    @property\n",
    "    def nombre(self):\n",
    "        return self._nombre\n",
    "\n",
    "    @nombre.setter\n",
    "    def nombre(self, nombre):\n",
    "        self._nombre = nombre\n",
    "\n",
    "    @property\n",
    "    def apellido(self):\n",
    "        return self._apellido\n",
    "\n",
    "    @apellido.setter\n",
    "    def apellido(self, apellido):\n",
    "        self._apellido = apellido\n",
    "\n",
    "    @property\n",
    "    def edad(self):\n",
    "        return self._edad\n",
    "\n",
    "    @edad.setter\n",
    "    def edad(self, edad):\n",
    "        self._edad = edad\n",
    "\n",
    "    def mostrar_detalle(self):\n",
    "        print(f'Persona: {self._nombre} {self._apellido} {self._edad}')\n",
    "\n",
    "persona1 = Persona('Juan', 'Perez', 28)\n",
    "persona1.nombre = 'Juan Carlos'\n",
    "persona1.apellido = 'Lara'\n",
    "persona1.edad = 30\n",
    "persona1.mostrar_detalle()\n",
    "\n",
    "# persona1._nombre = 'Cambio'\n",
    "# print(persona1._nombre)"
   ]
  },
  {
   "cell_type": "code",
   "execution_count": 28,
   "metadata": {},
   "outputs": [
    {
     "name": "stdout",
     "output_type": "stream",
     "text": [
      "Nombre: Juan, Apellido: Perez, id: 0X1CD6282E0A0\n"
     ]
    }
   ],
   "source": [
    "class Persona:\n",
    "    def __init__(self, nombre, apellido):\n",
    "        self.nombre = nombre\n",
    "        self.apellido = apellido\n",
    "\n",
    "    def __str__(self):\n",
    "        return f'Nombre: {self.nombre}, Apellido: {self.apellido}, id: {hex(id(self)).upper()}'\n",
    "\n",
    "if __name__ == '__main__':\n",
    "    persona1 = Persona('Juan', 'Perez')\n",
    "    print(persona1)\n",
    "\n",
    "def mostrar_mensaje(mensaje):\n",
    "    print(mensaje)"
   ]
  },
  {
   "cell_type": "code",
   "execution_count": 29,
   "metadata": {},
   "outputs": [
    {
     "name": "stdout",
     "output_type": "stream",
     "text": [
      "Juan\n",
      "28\n",
      "5000\n"
     ]
    }
   ],
   "source": [
    "class Persona:\n",
    "    def __init__(self, nombre, edad):\n",
    "        self.nombre = nombre\n",
    "        self.edad = edad\n",
    "\n",
    "class Empleado(Persona):\n",
    "    def __init__(self, nombre, edad, sueldo):\n",
    "        super().__init__(nombre, edad)\n",
    "        self.sueldo = sueldo\n",
    "\n",
    "empleado1 = Empleado('Juan', 28, 5000)\n",
    "print(empleado1.nombre)\n",
    "print(empleado1.edad)\n",
    "print(empleado1.sueldo)"
   ]
  },
  {
   "cell_type": "code",
   "execution_count": 31,
   "metadata": {},
   "outputs": [
    {
     "name": "stdout",
     "output_type": "stream",
     "text": [
      "Valor variable clase\n",
      "Valor variable instancia\n",
      "Valor variable clase\n",
      "Otro valor de variable instancia\n",
      "Valor variable clase\n"
     ]
    }
   ],
   "source": [
    "class MiClase:\n",
    "\n",
    "    variable_clase = 'Valor variable clase'\n",
    "\n",
    "    def __init__(self, variable_instancia):\n",
    "        self.variable_instancia = variable_instancia\n",
    "\n",
    "print(MiClase.variable_clase)\n",
    "miClase = MiClase('Valor variable instancia')\n",
    "print(miClase.variable_instancia)\n",
    "print(miClase.variable_clase)\n",
    "\n",
    "miClase2 = MiClase('Otro valor de variable instancia')\n",
    "print(miClase2.variable_instancia)\n",
    "print(miClase2.variable_clase)\n"
   ]
  },
  {
   "cell_type": "code",
   "execution_count": 32,
   "metadata": {},
   "outputs": [
    {
     "name": "stdout",
     "output_type": "stream",
     "text": [
      "Valor variable clase\n",
      "Valor variable instancia\n",
      "Valor variable clase\n",
      "Otro valor de variable instancia\n",
      "Valor variable clase\n",
      "Valor variable clase 2\n",
      "Valor variable clase 2\n",
      "Valor variable clase 2\n"
     ]
    }
   ],
   "source": [
    "class MiClase:\n",
    "\n",
    "    variable_clase = 'Valor variable clase'\n",
    "\n",
    "    def __init__(self, variable_instancia):\n",
    "        self.variable_instancia = variable_instancia\n",
    "\n",
    "print(MiClase.variable_clase)\n",
    "miClase = MiClase('Valor variable instancia')\n",
    "print(miClase.variable_instancia)\n",
    "print(miClase.variable_clase)\n",
    "\n",
    "MiClase.variable_clase2 = 'Valor variable clase 2'\n",
    "\n",
    "miClase2 = MiClase('Otro valor de variable instancia')\n",
    "print(miClase2.variable_instancia)\n",
    "print(miClase2.variable_clase)\n",
    "print(MiClase.variable_clase2)\n",
    "print(miClase.variable_clase2)\n",
    "print(miClase2.variable_clase2)\n"
   ]
  },
  {
   "cell_type": "code",
   "execution_count": 33,
   "metadata": {},
   "outputs": [
    {
     "name": "stdout",
     "output_type": "stream",
     "text": [
      "Valor variable clase\n"
     ]
    }
   ],
   "source": [
    "class MiClase:\n",
    "\n",
    "    variable_clase = 'Valor variable clase'\n",
    "\n",
    "    def __init__(self, variable_instancia):\n",
    "        self.variable_instancia = variable_instancia\n",
    "\n",
    "    @staticmethod\n",
    "    def metodo_estatico():\n",
    "        print(MiClase.variable_clase)\n",
    "\n",
    "    @classmethod\n",
    "    def metodo_clase(cls):\n",
    "        print(cls.variable_clase)\n",
    "\n",
    "MiClase.metodo_clase()"
   ]
  },
  {
   "cell_type": "code",
   "execution_count": 34,
   "metadata": {},
   "outputs": [
    {
     "name": "stdout",
     "output_type": "stream",
     "text": [
      "Persona [1 Juan 28]\n",
      "Persona [2 Karla 30]\n",
      "Persona [3 Eduardo 25]\n",
      "Valor contador personas: 3\n"
     ]
    }
   ],
   "source": [
    "class Persona:\n",
    "    contador_personas = 0\n",
    "\n",
    "    def __init__(self, nombre, edad):\n",
    "        Persona.contador_personas += 1\n",
    "        self.id_persona = Persona.contador_personas\n",
    "        self.nombre = nombre\n",
    "        self.edad = edad\n",
    "\n",
    "    def __str__(self):\n",
    "        return f'Persona [{self.id_persona} {self.nombre} {self.edad}]'\n",
    "\n",
    "persona1 = Persona('Juan', 28)\n",
    "print(persona1)\n",
    "persona2 = Persona('Karla', 30)\n",
    "print(persona2)\n",
    "persona3 = Persona('Eduardo', 25)\n",
    "print(persona3)\n",
    "print(f'Valor contador personas: {Persona.contador_personas}')"
   ]
  },
  {
   "cell_type": "code",
   "execution_count": 35,
   "metadata": {},
   "outputs": [
    {
     "name": "stdout",
     "output_type": "stream",
     "text": [
      "Persona [1 Juan 28]\n",
      "Persona [2 Karla 30]\n",
      "Persona [3 Eduardo 25]\n",
      "Persona [5 María 35]\n",
      "Valor contador personas: 5\n"
     ]
    }
   ],
   "source": [
    "class Persona:\n",
    "    contador_personas = 0\n",
    "\n",
    "    @classmethod\n",
    "    def generar_siguiente_valor(cls):\n",
    "        cls.contador_personas += 1\n",
    "        return cls.contador_personas\n",
    "\n",
    "    def __init__(self, nombre, edad):\n",
    "        self.id_persona = Persona.generar_siguiente_valor()\n",
    "        self.nombre = nombre\n",
    "        self.edad = edad\n",
    "\n",
    "    def __str__(self):\n",
    "        return f'Persona [{self.id_persona} {self.nombre} {self.edad}]'\n",
    "\n",
    "persona1 = Persona('Juan', 28)\n",
    "print(persona1)\n",
    "persona2 = Persona('Karla', 30)\n",
    "print(persona2)\n",
    "persona3 = Persona('Eduardo', 25)\n",
    "print(persona3)\n",
    "Persona.generar_siguiente_valor()\n",
    "persona4 = Persona('María', 35)\n",
    "print(persona4)\n",
    "print(f'Valor contador personas: {Persona.contador_personas}')"
   ]
  },
  {
   "cell_type": "code",
   "execution_count": 36,
   "metadata": {},
   "outputs": [
    {
     "name": "stdout",
     "output_type": "stream",
     "text": [
      "Antes desde la función_decorada_c\n",
      "Hola desde función mostrar_mensaje\n",
      "Después desde la función decorada_c\n",
      "Antes desde la función_decorada_c\n",
      "Hola desde función imprimir\n",
      "Después desde la función decorada_c\n"
     ]
    }
   ],
   "source": [
    "# Decoradores\n",
    "# Un decorador es una función que recibe una función y regresa una función (al menos)\n",
    "# Lo utilizamos para extender funcionalidad de una función\n",
    "# 1. Función decorador (a)\n",
    "# 2. Función a decorar (b)\n",
    "# 3. Función decorada (c)\n",
    "def funcion_decorador_a(funcion_a_decorar_b):\n",
    "    def funcion_decorada_c():\n",
    "        print('Antes desde la función_decorada_c')\n",
    "        funcion_a_decorar_b()\n",
    "        print('Después desde la función decorada_c')\n",
    "\n",
    "    return funcion_decorada_c\n",
    "\n",
    "\n",
    "# Definimos una función y vamos a extender su funcionalidad con un decorador\n",
    "@funcion_decorador_a\n",
    "def mostrar_mensaje():\n",
    "    print('Hola desde función mostrar_mensaje')\n",
    "\n",
    "# Ejecutamos la función a decorar\n",
    "mostrar_mensaje()\n",
    "\n",
    "@funcion_decorador_a\n",
    "def imprimir():\n",
    "    print('Hola desde función imprimir')\n",
    "\n",
    "imprimir()\n"
   ]
  },
  {
   "cell_type": "code",
   "execution_count": 37,
   "metadata": {},
   "outputs": [
    {
     "name": "stdout",
     "output_type": "stream",
     "text": [
      "Antes desde la función_decorada_c\n",
      "Después desde la función decorada_c\n",
      "Resultado suma: 11\n"
     ]
    }
   ],
   "source": [
    "# Decoradores con argumentos\n",
    "# Un decorador es una función que recibe una función y regresa una función (al menos)\n",
    "# Lo utilizamos para extender funcionalidad de una función\n",
    "# 1. Función decorador (a)\n",
    "# 2. Función a decorar (b)\n",
    "# 3. Función decorada (c)\n",
    "# a(b) -> c\n",
    "def funcion_decorador_a(funcion_a_decorar_b):\n",
    "    def funcion_decorada_c(*args, **kwargs):\n",
    "        print('Antes desde la función_decorada_c')\n",
    "        resultado = funcion_a_decorar_b(*args, **kwargs)\n",
    "        print('Después desde la función decorada_c')\n",
    "        return resultado\n",
    "\n",
    "    return funcion_decorada_c\n",
    "\n",
    "\n",
    "@funcion_decorador_a\n",
    "def sumar(a, b):\n",
    "    # print(f'Resultado suma: {a + b}')\n",
    "    return a + b\n",
    "\n",
    "resultado = sumar(5, 6)\n",
    "print(f'Resultado suma: {resultado}')\n",
    "\n",
    "\n"
   ]
  },
  {
   "cell_type": "code",
   "execution_count": 38,
   "metadata": {},
   "outputs": [
    {
     "name": "stdout",
     "output_type": "stream",
     "text": [
      "Id Producto: 1, Nombre: Camisa, Precio: 100.0\n",
      "Id Producto: 2, Nombre: Pantalón, Precio: 150.0\n"
     ]
    }
   ],
   "source": [
    "class Producto:\n",
    "    contador_productos = 0\n",
    "\n",
    "    def __init__(self, nombre, precio):\n",
    "        Producto.contador_productos += 1\n",
    "        self._id_producto = Producto.contador_productos\n",
    "        self._nombre = nombre\n",
    "        self._precio = precio\n",
    "\n",
    "    @property\n",
    "    def precio(self):\n",
    "        return self._precio\n",
    "\n",
    "    def __str__(self):\n",
    "        return f'Id Producto: {self._id_producto}, Nombre: {self._nombre}, Precio: {self._precio}'\n",
    "\n",
    "if __name__ == '__main__':\n",
    "    producto1 = Producto('Camisa', 100.00)\n",
    "    print(producto1)\n",
    "    producto2 = Producto('Pantalón', 150.00)\n",
    "    print(producto2)"
   ]
  },
  {
   "cell_type": "code",
   "execution_count": 39,
   "metadata": {},
   "outputs": [
    {
     "name": "stdout",
     "output_type": "stream",
     "text": [
      "{'nombre': 'Juan', 'apellido': 'Perez'}\n",
      "0\n",
      "{'nombre': 'Juan', 'apellido': 'Perez', 'contador_personas': 10}\n",
      "0\n",
      "10\n",
      "{'nombre': 'Karla', 'apellido': 'Gomez'}\n",
      "0\n",
      "20\n",
      "20\n",
      "20\n"
     ]
    }
   ],
   "source": [
    "class Persona:\n",
    "    contador_personas = 0\n",
    "\n",
    "    def __init__(self, nombre, apellido):\n",
    "        self.nombre = nombre\n",
    "        self.apellido = apellido\n",
    "\n",
    "# Mostrar los atributos de un objeto\n",
    "persona1 = Persona('Juan','Perez')\n",
    "print(persona1.__dict__)\n",
    "\n",
    "# Crear un atributo al vuelo\n",
    "print(persona1.contador_personas) # Accediendo al atributo de clase\n",
    "# Pero no es posible modificarlo con el objeto, sino con la clase\n",
    "persona1.contador_personas = 10\n",
    "print(persona1.__dict__)\n",
    "# El atributo anterior oculta al atributo de clase\n",
    "print(Persona.contador_personas) # Atributo clase\n",
    "print(persona1.contador_personas) # Atributo del objeto 1\n",
    "\n",
    "# Un segundo objeto\n",
    "persona2 = Persona('Karla', 'Gomez')\n",
    "print(persona2.__dict__)\n",
    "print(persona2.contador_personas)\n",
    "\n",
    "# Asociar un atributo de clase al vuelo\n",
    "Persona.contador2 = 20\n",
    "print(Persona.contador2)\n",
    "\n",
    "# Desde los objetos creados, accedemos al nuevo atributo de la clase\n",
    "# Esto es posible por que los atributos de clase se comparten con todos los objetos\n",
    "print(persona1.contador2)\n",
    "print(persona2.contador2)"
   ]
  },
  {
   "cell_type": "code",
   "execution_count": 40,
   "metadata": {},
   "outputs": [
    {
     "name": "stdout",
     "output_type": "stream",
     "text": [
      "Nombre: Juan, Apellido: Perez\n",
      "Nombre: None, Apellido: None\n",
      "Nombre: Karla, Apellido: Gomez\n"
     ]
    }
   ],
   "source": [
    "# Simulación de sobrecarga de constructores en python\n",
    "# otras formas de crear objectos\n",
    "class Persona:\n",
    "\n",
    "    def __init__(self, nombre, apellido):\n",
    "        self.nombre = nombre\n",
    "        self.apellido = apellido\n",
    "\n",
    "    @classmethod\n",
    "    def crear_persona_vacia(cls):\n",
    "        return cls(None, None)\n",
    "\n",
    "    @classmethod\n",
    "    def crear_persona_con_valores(cls, nombre, apellido):\n",
    "        return cls(nombre, apellido)\n",
    "\n",
    "    def __str__(self):\n",
    "        return f'Nombre: {self.nombre}, Apellido: {self.apellido}'\n",
    "\n",
    "persona1 = Persona('Juan', 'Perez')\n",
    "print(persona1)\n",
    "\n",
    "persona_vacio = Persona.crear_persona_vacia()\n",
    "print(persona_vacio)\n",
    "\n",
    "persona_con_valores = Persona.crear_persona_con_valores('Karla', 'Gomez')\n",
    "print(persona_con_valores)\n"
   ]
  },
  {
   "cell_type": "code",
   "execution_count": 41,
   "metadata": {},
   "outputs": [
    {
     "name": "stdout",
     "output_type": "stream",
     "text": [
      "Juan Carlos\n",
      "8\n"
     ]
    }
   ],
   "source": [
    "class Persona:\n",
    "    def __init__(self, nombre, edad):\n",
    "        self.nombre = nombre\n",
    "        self.edad = edad\n",
    "\n",
    "    def __add__(self, otro):\n",
    "        return f'{self.nombre} {otro.nombre}'\n",
    "\n",
    "    def __sub__(self, otro):\n",
    "        return self.edad - otro.edad\n",
    "\n",
    "\n",
    "persona1 = Persona('Juan', 28)\n",
    "persona2 = Persona('Carlos', 20)\n",
    "print(persona1 + persona2)\n",
    "print(persona1 - persona2)\n",
    "\n",
    "# obj1 + obj2\n",
    "# obj1.__add__(obj2)"
   ]
  },
  {
   "cell_type": "code",
   "execution_count": 42,
   "metadata": {},
   "outputs": [
    {
     "name": "stdout",
     "output_type": "stream",
     "text": [
      "15 C a F: 59.00\n",
      "10 F a C: -12.22\n"
     ]
    }
   ],
   "source": [
    "class ConvertidorTemperatura:\n",
    "    MAX_CELSIUS = 100\n",
    "    MAX_FAHRENHEIT = 213\n",
    "\n",
    "    @classmethod\n",
    "    def c_f(cls, celsius):\n",
    "        if celsius > cls.MAX_CELSIUS:\n",
    "            raise ValueError(f'Temperatura C demasiado alta: {celsius}')\n",
    "        return celsius * 9/5 + 32\n",
    "\n",
    "    @classmethod\n",
    "    def f_c(cls, fahrenheit):\n",
    "        if fahrenheit > cls.MAX_FAHRENHEIT:\n",
    "            raise ValueError(f'Temperatura F demasiado alta: {fahrenheit}')\n",
    "        return (fahrenheit-32) * 5/9\n",
    "\n",
    "if __name__ == '__main__':\n",
    "    resultado = ConvertidorTemperatura.c_f(15)\n",
    "    print(f'15 C a F: {resultado:.2f}')\n",
    "    resultado = ConvertidorTemperatura.f_c(10)\n",
    "    print(f'10 F a C: {resultado:.2f}')\n"
   ]
  },
  {
   "cell_type": "code",
   "execution_count": 43,
   "metadata": {},
   "outputs": [
    {
     "name": "stdout",
     "output_type": "stream",
     "text": [
      "Mi objeto persona1: Persona(nombre:Juan, apellido:Perez)\n"
     ]
    }
   ],
   "source": [
    "# Representación de objetos (str, repr, format)\n",
    "# print(dir(object))\n",
    "\n",
    "class Persona:\n",
    "    def __init__(self, nombre, apellido):\n",
    "        self.nombre = nombre\n",
    "        self.apellido = apellido\n",
    "\n",
    "    # repr, más enfocado a los programadores\n",
    "    def __repr__(self):\n",
    "        return f'{self.__class__.__name__}(nombre:{self.nombre}, apellido:{self.apellido})'\n",
    "\n",
    "persona1 = Persona('Juan','Perez')\n",
    "print(f'Mi objeto persona1: {persona1!r}')"
   ]
  },
  {
   "cell_type": "code",
   "execution_count": 44,
   "metadata": {},
   "outputs": [
    {
     "name": "stdout",
     "output_type": "stream",
     "text": [
      "Mi objeto persona1: Persona(nombre:Juan, apellido:Perez)\n",
      "Persona: Juan Perez\n",
      "Persona con nombre Juan y apellido Perez\n"
     ]
    }
   ],
   "source": [
    "# Representación de objetos (str, repr, format)\n",
    "# print(dir(object))\n",
    "\n",
    "class Persona:\n",
    "    def __init__(self, nombre, apellido):\n",
    "        self.nombre = nombre\n",
    "        self.apellido = apellido\n",
    "\n",
    "    # repr, más enfocado a los programadores\n",
    "    def __repr__(self):\n",
    "        return f'{self.__class__.__name__}(nombre:{self.nombre}, apellido:{self.apellido})'\n",
    "\n",
    "    # str es más para el usuario final u otros sistemas\n",
    "    # la implementación por default llama al método repr\n",
    "    def __str__(self):\n",
    "        return f'{self.__class__.__name__}: {self.nombre} {self.apellido}'\n",
    "\n",
    "    # format su implementación por default es str\n",
    "    # se manda a llamar al usar f-string\n",
    "    def __format__(self, format_spec):\n",
    "        return f'{self.__class__.__name__} con nombre {self.nombre} y apellido {self.apellido}'\n",
    "\n",
    "persona1 = Persona('Juan','Perez')\n",
    "# repr (!r)\n",
    "print(f'Mi objeto persona1: {persona1!r}')\n",
    "# str (de manera automática el método print llama al método str)\n",
    "print(persona1)\n",
    "# format\n",
    "print(f'{persona1}')"
   ]
  },
  {
   "cell_type": "code",
   "execution_count": 45,
   "metadata": {},
   "outputs": [
    {
     "name": "stdout",
     "output_type": "stream",
     "text": [
      "Valor público\n",
      "Modificando valor público\n",
      "Valor protegido\n",
      "Modificando valor protegido\n",
      "Valor privado\n",
      "Cambiando valor privado\n"
     ]
    }
   ],
   "source": [
    "# Ejemplo atributos publicos, protegidos, privados\n",
    "class MiClase:\n",
    "    def __init__(self, publico, protegido, privado):\n",
    "        self.publico = publico\n",
    "        self._protegido = protegido\n",
    "        self.__privado = privado\n",
    "\n",
    "\n",
    "objeto = MiClase('Valor público', 'Valor protegido', 'Valor privado')\n",
    "# Acceso al valor publico\n",
    "print(objeto.publico)\n",
    "# Modificar el valor publico\n",
    "objeto.publico = 'Modificando valor público'\n",
    "print(objeto.publico)\n",
    "\n",
    "# Acceso al valor protegido\n",
    "# Solo dentro de la misma clase o clase hija\n",
    "print(objeto._protegido)\n",
    "# Modificando valor protegido (solo dentro misma clase o subclases)\n",
    "objeto._protegido = 'Modificando valor protegido'\n",
    "print(objeto._protegido)\n",
    "\n",
    "# Accediendo al valor privado (solo dentro de la misma clase)\n",
    "# Directamente no se puede acceder\n",
    "#print(objeto.__privado)\n",
    "# Pero, se convierte a objeto._clase__atributo_privado\n",
    "print(objeto._MiClase__privado)\n",
    "# Incluso se puede modificar\n",
    "objeto._MiClase__privado = 'Cambiando valor privado'\n",
    "print(objeto._MiClase__privado)\n",
    "\n",
    "# En conclusión, no se puede comparar con otros lenguajes\n",
    "# como C++ o Java, ya que no es la misma funcionalidad\n",
    "# ni las mismas limitantes\n",
    "# Debemos ser programadores responsables y respetar las buenas prácticas\n",
    "# Impuestas en Python\n",
    "# En la mayoría de los casos es suficiente con usar un guión bajo\n",
    "# para encapsular y ocultar el detalle de una clase si somos programadores responsables"
   ]
  },
  {
   "cell_type": "code",
   "execution_count": 46,
   "metadata": {},
   "outputs": [
    {
     "name": "stdout",
     "output_type": "stream",
     "text": [
      "Inicializador hijo\n",
      "Inicializador Padre\n",
      "Método sobreescrito hijo\n",
      "Método padre\n"
     ]
    }
   ],
   "source": [
    "# Orden de inicializacion de objetos\n",
    "class Padre:\n",
    "    def __init__(self):\n",
    "        print('Inicializador Padre')\n",
    "\n",
    "    def metodo(self):\n",
    "        print('Método padre')\n",
    "\n",
    "class Hijo(Padre):\n",
    "    # Se manda a llamar el método __init__ de la clase padre\n",
    "    # siempre y cuando la clase hija no defina su propio metodo init\n",
    "\n",
    "    # Definimos el metodo init\n",
    "    def __init__(self):\n",
    "        # De manera opcional podemos llamar al metodo __init__ de la clase padre (super)\n",
    "        print('Inicializador hijo')\n",
    "        super().__init__()\n",
    "\n",
    "    # Sobreescribimos el metodo heredado de la clase padre\n",
    "    def metodo(self):\n",
    "        print('Método sobreescrito hijo')\n",
    "        super().metodo()\n",
    "\n",
    "# padre1 = Padre()\n",
    "# padre1.metodo()\n",
    "hijo1 = Hijo()\n",
    "hijo1.metodo()"
   ]
  },
  {
   "cell_type": "code",
   "execution_count": 47,
   "metadata": {},
   "outputs": [
    {
     "name": "stdout",
     "output_type": "stream",
     "text": [
      "ListaSimple([5, 3, 6, 8])\n"
     ]
    }
   ],
   "source": [
    "# Ejemplo de herencia simple\n",
    "class ListaSimple:\n",
    "    def __init__(self, elementos):\n",
    "        self._elementos = list(elementos)\n",
    "\n",
    "    def agregar(self, elemento):\n",
    "        self._elementos.append(elemento)\n",
    "\n",
    "    def __getitem__(self, indice):\n",
    "        return self._elementos[indice]\n",
    "\n",
    "    def ordenar(self):\n",
    "        self._elementos.sort()\n",
    "\n",
    "    def __len__(self):\n",
    "        return len(self._elementos)\n",
    "\n",
    "    def __repr__(self):\n",
    "        return f'{self.__class__.__name__}({self._elementos!r})'\n",
    "\n",
    "class ListaOrdenada(ListaSimple):\n",
    "    def __init__(self, elementos=[]):\n",
    "        super().__init__(elementos)\n",
    "        # Ordenamos siempre los elementos una vez inicializados\n",
    "        self.ordenar()\n",
    "\n",
    "    def agregar(self, elemento):\n",
    "        super().agregar(elemento)\n",
    "        # Ordenamos el nuevo elemento\n",
    "        self.ordenar()\n",
    "\n",
    "# Lista sólo acepta números\n",
    "class ListaEnteros(ListaSimple):\n",
    "    def __init__(self, elementos=[]):\n",
    "        for elemento in elementos:\n",
    "            self._validar(elemento)\n",
    "        # Una vez validados los elementos, los agregamos\n",
    "        super().__init__(elementos)\n",
    "\n",
    "    def _validar(self, elemento):\n",
    "        # Validamos si el elemento es de tipo entero\n",
    "        if not isinstance(elemento, int):\n",
    "            raise ValueError(f'No es un valor entero: {elemento}')\n",
    "\n",
    "    # Sobreescribimos el método agregar de la clase padre\n",
    "    def agregar(self, elemento):\n",
    "        self._validar(elemento)\n",
    "        # Una vez validado lo agregamos a la lista\n",
    "        super().agregar(elemento)\n",
    "\n",
    "# Lista de Enteros Ordenada\n",
    "class ListaEnterosOrdenada(ListaEnteros, ListaOrdenada):\n",
    "    pass\n",
    "\n",
    "# Lista simple\n",
    "lista_simple = ListaSimple([5, 3, 6, 8])\n",
    "print(lista_simple)\n",
    "# Lista ordenada\n",
    "lista_ordenada = ListaOrdenada([4,3,6,9,10,-1])\n",
    "print(lista_ordenada)\n",
    "lista_ordenada.agregar(-14)\n",
    "print(lista_ordenada)\n",
    "print(len(lista_ordenada))\n",
    "#Lista enteros\n",
    "lista_enteros = ListaEnteros([1, 3, 4, -15])\n",
    "print(lista_enteros)\n",
    "# Lista enteros ordenada\n",
    "lista_enteros_ordenada = ListaEnterosOrdenada([4,5,-1, 10, 14, -4])\n",
    "print(lista_enteros_ordenada)\n",
    "lista_enteros_ordenada.agregar(-20)\n",
    "print(lista_enteros_ordenada)\n",
    "# Saber las clases padre y su orden\n",
    "print(ListaEnterosOrdenada.__bases__)\n",
    "# MRO (Method Resolution Order)\n",
    "print(ListaEnterosOrdenada.__mro__)"
   ]
  },
  {
   "cell_type": "code",
   "execution_count": 48,
   "metadata": {},
   "outputs": [
    {
     "name": "stdout",
     "output_type": "stream",
     "text": [
      "Clase2.__init__\n",
      "Clase3.__init__\n",
      "Clase1.__init__\n",
      "(<class '__main__.Clase2'>, <class '__main__.Clase3'>)\n",
      "(<class '__main__.Clase4'>, <class '__main__.Clase2'>, <class '__main__.Clase3'>, <class '__main__.Clase1'>, <class 'object'>)\n",
      "Método clase4\n",
      "Método clase2\n",
      "Método clase3\n",
      "Método clase1\n"
     ]
    }
   ],
   "source": [
    "class Clase1:\n",
    "    def __init__(self):\n",
    "        print('Clase1.__init__')\n",
    "\n",
    "    def metodo(self):\n",
    "        print('Método clase1')\n",
    "\n",
    "class Clase2(Clase1):\n",
    "    def __init__(self):\n",
    "        print('Clase2.__init__')\n",
    "        super().__init__()\n",
    "\n",
    "    def metodo(self):\n",
    "        print('Método clase2')\n",
    "        super().metodo()\n",
    "\n",
    "class Clase3(Clase1):\n",
    "    def __init__(self):\n",
    "        print('Clase3.__init__')\n",
    "        super().__init__()\n",
    "\n",
    "    def metodo(self):\n",
    "        print('Método clase3')\n",
    "        super().metodo()\n",
    "\n",
    "class Clase4(Clase2, Clase3):\n",
    "\n",
    "    def metodo(self):\n",
    "        print('Método clase4')\n",
    "        super().metodo()\n",
    "\n",
    "# Creamos objeto clase4\n",
    "clase4 = Clase4()\n",
    "# __bases__\n",
    "print(Clase4.__bases__)\n",
    "# mro\n",
    "print(Clase4.__mro__)\n",
    "# cual método se ejecuta\n",
    "clase4.metodo()"
   ]
  },
  {
   "cell_type": "code",
   "execution_count": 49,
   "metadata": {},
   "outputs": [
    {
     "name": "stdout",
     "output_type": "stream",
     "text": [
      "ListaSimple([5, 3, 6, 8])\n",
      "ListaOrdenada([-1, 3, 4, 6, 9, 10])\n",
      "ListaOrdenada([-14, -1, 3, 4, 6, 9, 10])\n",
      "7\n",
      "ListaEnteros([1, 3, 4, -15])\n",
      "ListaEnterosOrdenada([-4, -1, 4, 5, 10, 14])\n",
      "ListaEnterosOrdenada([-20, -4, -1, 4, 5, 10, 14])\n",
      "(<class '__main__.ListaEnteros'>, <class '__main__.ListaOrdenada'>)\n",
      "(<class '__main__.ListaEnterosOrdenada'>, <class '__main__.ListaEnteros'>, <class '__main__.ListaOrdenada'>, <class '__main__.ListaSimple'>, <class 'object'>)\n",
      "Es entero? True\n",
      "Es cadena? True\n",
      "Es lista ent ord? True\n",
      "Es lista ent? True\n",
      "Es lista ord? True\n",
      "Es lista simple? True\n",
      "Es object? True\n",
      "Es de varios tipos? True\n"
     ]
    }
   ],
   "source": [
    "# Ejemplo de herencia simple\n",
    "class ListaSimple:\n",
    "    def __init__(self, elementos):\n",
    "        self._elementos = list(elementos)\n",
    "\n",
    "    def agregar(self, elemento):\n",
    "        self._elementos.append(elemento)\n",
    "\n",
    "    def __getitem__(self, indice):\n",
    "        return self._elementos[indice]\n",
    "\n",
    "    def ordenar(self):\n",
    "        self._elementos.sort()\n",
    "\n",
    "    def __len__(self):\n",
    "        return len(self._elementos)\n",
    "\n",
    "    def __repr__(self):\n",
    "        return f'{self.__class__.__name__}({self._elementos!r})'\n",
    "\n",
    "class ListaOrdenada(ListaSimple):\n",
    "    def __init__(self, elementos=[]):\n",
    "        super().__init__(elementos)\n",
    "        # Ordenamos siempre los elementos una vez inicializados\n",
    "        self.ordenar()\n",
    "\n",
    "    def agregar(self, elemento):\n",
    "        super().agregar(elemento)\n",
    "        # Ordenamos el nuevo elemento\n",
    "        self.ordenar()\n",
    "\n",
    "# Lista sólo acepta números\n",
    "class ListaEnteros(ListaSimple):\n",
    "    def __init__(self, elementos=[]):\n",
    "        for elemento in elementos:\n",
    "            self._validar(elemento)\n",
    "        # Una vez validados los elementos, los agregamos\n",
    "        super().__init__(elementos)\n",
    "\n",
    "    def _validar(self, elemento):\n",
    "        # Validamos si el elemento es de tipo entero\n",
    "        if not isinstance(elemento, int):\n",
    "            raise ValueError(f'No es un valor entero: {elemento}')\n",
    "\n",
    "    # Sobreescribimos el método agregar de la clase padre\n",
    "    def agregar(self, elemento):\n",
    "        self._validar(elemento)\n",
    "        # Una vez validado lo agregamos a la lista\n",
    "        super().agregar(elemento)\n",
    "\n",
    "# Lista de Enteros Ordenada\n",
    "class ListaEnterosOrdenada(ListaEnteros, ListaOrdenada):\n",
    "    pass\n",
    "\n",
    "# Lista simple\n",
    "lista_simple = ListaSimple([5, 3, 6, 8])\n",
    "print(lista_simple)\n",
    "# Lista ordenada\n",
    "lista_ordenada = ListaOrdenada([4,3,6,9,10,-1])\n",
    "print(lista_ordenada)\n",
    "lista_ordenada.agregar(-14)\n",
    "print(lista_ordenada)\n",
    "print(len(lista_ordenada))\n",
    "#Lista enteros\n",
    "lista_enteros = ListaEnteros([1, 3, 4, -15])\n",
    "print(lista_enteros)\n",
    "# Lista enteros ordenada\n",
    "lista_enteros_ordenada = ListaEnterosOrdenada([4,5,-1, 10, 14, -4])\n",
    "print(lista_enteros_ordenada)\n",
    "lista_enteros_ordenada.agregar(-20)\n",
    "print(lista_enteros_ordenada)\n",
    "# Saber las clases padre y su orden\n",
    "print(ListaEnterosOrdenada.__bases__)\n",
    "# MRO (Method Resolution Order)\n",
    "print(ListaEnterosOrdenada.__mro__)\n",
    "# isinstance\n",
    "print('Es entero?', isinstance(10, int))\n",
    "print('Es cadena?', isinstance('hola', str))\n",
    "print('Es lista ent ord?', isinstance(lista_enteros_ordenada, ListaEnterosOrdenada))\n",
    "print('Es lista ent?', isinstance(lista_enteros_ordenada, ListaEnteros))\n",
    "print('Es lista ord?', isinstance(lista_enteros_ordenada, ListaOrdenada))\n",
    "print('Es lista simple?', isinstance(lista_enteros_ordenada, ListaSimple))\n",
    "print('Es object?', isinstance(lista_enteros_ordenada, object))\n",
    "print('Es de varios tipos?', isinstance(lista_enteros_ordenada, (ListaEnteros, ListaSimple)))\n"
   ]
  },
  {
   "cell_type": "code",
   "execution_count": 50,
   "metadata": {},
   "outputs": [
    {
     "name": "stdout",
     "output_type": "stream",
     "text": [
      "1. Se ejecuta decorador\n",
      "Recibimos el objeto de la clase: Persona\n",
      "2. Se ejecuta el inicializador\n"
     ]
    }
   ],
   "source": [
    "# Decoradores de Clase\n",
    "# Permiten transformar de manera programática nuestra clase\n",
    "# Es similar a los decoradores de funciones (es metaprogramación)\n",
    "\n",
    "def decorador_repr(cls):\n",
    "    print('1. Se ejecuta decorador')\n",
    "    print(f'Recibimos el objeto de la clase: {cls.__name__}')\n",
    "    return cls\n",
    "\n",
    "@decorador_repr\n",
    "class Persona:\n",
    "    def __init__(self, nombre, apellido):\n",
    "        print('2. Se ejecuta el inicializador')\n",
    "        self._nombre = nombre\n",
    "        self._apellido = apellido\n",
    "\n",
    "    @property\n",
    "    def nombre(self):\n",
    "        return self._nombre\n",
    "\n",
    "    @property\n",
    "    def apellido(self):\n",
    "        return self._apellido\n",
    "\n",
    "    # def __repr__(self):\n",
    "    #     return f'Persona({self._nombre}, {self._apellido})'\n",
    "\n",
    "persona1 = Persona('Juan','Perez')\n"
   ]
  },
  {
   "cell_type": "code",
   "execution_count": 51,
   "metadata": {},
   "outputs": [
    {
     "name": "stdout",
     "output_type": "stream",
     "text": [
      "1. Se ejecuta decorador\n",
      "Recibimos el objeto de la clase: Persona\n",
      "Firma método __init__: (self, nombre, apellido)\n",
      "Parámetros init: ['nombre', 'apellido']\n",
      "2. Se ejecuta el inicializador\n"
     ]
    }
   ],
   "source": [
    "# Decoradores de Clase\n",
    "# Permiten transformar de manera programática nuestra clase\n",
    "# Es similar a los decoradores de funciones (es metaprogramación)\n",
    "import inspect\n",
    "\n",
    "\n",
    "def decorador_repr(cls):\n",
    "    print('1. Se ejecuta decorador')\n",
    "    print(f'Recibimos el objeto de la clase: {cls.__name__}')\n",
    "\n",
    "    # Revisamos los atributos de la clase con el método vars\n",
    "    atributos = vars(cls)\n",
    "    # Iteramos cada atributo\n",
    "    # for nombre, atributo in atributos.items():\n",
    "    #     print(nombre, atributo)\n",
    "\n",
    "    # Revisamos si se ha sobreescrito el método __init__\n",
    "    if '__init__' not in atributos:\n",
    "        raise TypeError(f'{cls.__name__} no ha sobreescrito el método __init__')\n",
    "\n",
    "    firma_init = inspect.signature(cls.__init__)\n",
    "    print(f'Firma método __init__: {firma_init}')\n",
    "    # Recuperamos los parámetros, excepto el primero que es self\n",
    "    parametros_init = list(firma_init.parameters)[1:]\n",
    "    print(f'Parámetros init: {parametros_init}')\n",
    "\n",
    "    return cls\n",
    "\n",
    "@decorador_repr\n",
    "class Persona:\n",
    "    def __init__(self, nombre, apellido):\n",
    "        print('2. Se ejecuta el inicializador')\n",
    "        self._nombre = nombre\n",
    "        self._apellido = apellido\n",
    "\n",
    "    @property\n",
    "    def nombre(self):\n",
    "        return self._nombre\n",
    "\n",
    "    @property\n",
    "    def apellido(self):\n",
    "        return self._apellido\n",
    "\n",
    "    # def __repr__(self):\n",
    "    #     return f'Persona({self._nombre}, {self._apellido})'\n",
    "\n",
    "persona1 = Persona('Juan','Perez')\n"
   ]
  },
  {
   "cell_type": "code",
   "execution_count": 52,
   "metadata": {},
   "outputs": [
    {
     "name": "stdout",
     "output_type": "stream",
     "text": [
      "1. Se ejecuta decorador\n",
      "Recibimos el objeto de la clase: Persona\n",
      "Firma método __init__: (self, nombre, apellido)\n",
      "Parámetros init: ['nombre', 'apellido']\n",
      "2. Se ejecuta el inicializador\n",
      "Resultado de ejecutar método repr\n"
     ]
    }
   ],
   "source": [
    "# Decoradores de Clase\n",
    "# Permiten transformar de manera programática nuestra clase\n",
    "# Es similar a los decoradores de funciones (es metaprogramación)\n",
    "import inspect\n",
    "\n",
    "\n",
    "def decorador_repr(cls):\n",
    "    print('1. Se ejecuta decorador')\n",
    "    print(f'Recibimos el objeto de la clase: {cls.__name__}')\n",
    "\n",
    "    # Revisamos los atributos de la clase con el método vars\n",
    "    atributos = vars(cls)\n",
    "    # Iteramos cada atributo\n",
    "    # for nombre, atributo in atributos.items():\n",
    "    #     print(nombre, atributo)\n",
    "\n",
    "    # Revisamos si se ha sobreescrito el método __init__\n",
    "    if '__init__' not in atributos:\n",
    "        raise TypeError(f'{cls.__name__} no ha sobreescrito el método __init__')\n",
    "\n",
    "    firma_init = inspect.signature(cls.__init__)\n",
    "    print(f'Firma método __init__: {firma_init}')\n",
    "    # Recuperamos los parámetros, excepto el primero que es self\n",
    "    parametros_init = list(firma_init.parameters)[1:]\n",
    "    print(f'Parámetros init: {parametros_init}')\n",
    "\n",
    "    # Revisamos si cada parámetro tiene un método property asociado\n",
    "    for parametro in parametros_init:\n",
    "        # property es un valor de tipo built-in para preguntar si\n",
    "        # se está utilizando el decorador property\n",
    "        es_metodo_property = isinstance(atributos.get(parametro), property)\n",
    "        if not es_metodo_property:\n",
    "            raise TypeError(f'No existe un método property para el parámetro: {parametro}')\n",
    "\n",
    "    # Crear el método repr dinámicamente\n",
    "    def metodo_repr(self):\n",
    "        return f'Resultado de ejecutar método repr'\n",
    "\n",
    "    # Agregar dinámicamente el método repr a nuestra clase\n",
    "    setattr(cls,'__repr__', metodo_repr)\n",
    "\n",
    "    return cls\n",
    "\n",
    "@decorador_repr\n",
    "class Persona:\n",
    "    def __init__(self, nombre, apellido):\n",
    "        print('2. Se ejecuta el inicializador')\n",
    "        self._nombre = nombre\n",
    "        self._apellido = apellido\n",
    "\n",
    "    @property\n",
    "    def nombre(self):\n",
    "        return self._nombre\n",
    "\n",
    "    @property\n",
    "    def apellido(self):\n",
    "        return self._apellido\n",
    "\n",
    "    # def __repr__(self):\n",
    "    #     return f'Persona({self._nombre}, {self._apellido})'\n",
    "\n",
    "persona1 = Persona('Juan','Perez')\n",
    "print(persona1)\n"
   ]
  },
  {
   "cell_type": "code",
   "execution_count": null,
   "metadata": {},
   "outputs": [],
   "source": [
    "# Decoradores de Clase\n",
    "# Permiten transformar de manera programática nuestra clase\n",
    "# Es similar a los decoradores de funciones (es metaprogramación)\n",
    "import inspect\n",
    "\n",
    "\n",
    "def decorador_repr(cls):\n",
    "    print('1. Se ejecuta decorador')\n",
    "    print(f'Recibimos el objeto de la clase: {cls.__name__}')\n",
    "\n",
    "    # Revisamos los atributos de la clase con el método vars\n",
    "    atributos = vars(cls)\n",
    "    # Iteramos cada atributo\n",
    "    # for nombre, atributo in atributos.items():\n",
    "    #     print(nombre, atributo)\n",
    "\n",
    "    # Revisamos si se ha sobreescrito el método __init__\n",
    "    if '__init__' not in atributos:\n",
    "        raise TypeError(f'{cls.__name__} no ha sobreescrito el método __init__')\n",
    "\n",
    "    firma_init = inspect.signature(cls.__init__)\n",
    "    print(f'Firma método __init__: {firma_init}')\n",
    "    # Recuperamos los parámetros, excepto el primero que es self\n",
    "    parametros_init = list(firma_init.parameters)[1:]\n",
    "    print(f'Parámetros init: {parametros_init}')\n",
    "\n",
    "    # Revisamos si cada parámetro tiene un método property asociado\n",
    "    for parametro in parametros_init:\n",
    "        # property es un valor de tipo built-in para preguntar si\n",
    "        # se está utilizando el decorador property\n",
    "        es_metodo_property = isinstance(atributos.get(parametro), property)\n",
    "        if not es_metodo_property:\n",
    "            raise TypeError(f'No existe un método property para el parámetro: {parametro}')\n",
    "\n",
    "    # Crear el método repr dinámicamente\n",
    "    def metodo_repr(self):\n",
    "        # Obtenemos el nombre de la clase dinámicamente\n",
    "        nombre_clase = self.__class__.__name__\n",
    "        print(f'Nombre clase: {nombre_clase}')\n",
    "\n",
    "        # Obtenemos los nombres de las propiedades y sus valores dinámicamente\n",
    "        # Expresion Generadora, crear nombre_atr=valor_atr\n",
    "        generador_arg = (f'{nombre}={getattr(self, nombre)!r}' for nombre in parametros_init)\n",
    "        # Lista del generador\n",
    "        lista_arg = list(generador_arg)\n",
    "        print(f'Lista del generador: {lista_arg}')\n",
    "        # Creamos la cadena a partir de la lista de argumentos\n",
    "        argumentos = ', '.join(lista_arg)\n",
    "        print(f'Argumentos del método repr: {argumentos}')\n",
    "        # Creamos la forma del método __repr__, sin su nombre, solo la firma\n",
    "        resultado_metodo_repr = f'{nombre_clase}({argumentos})'\n",
    "        print(f'Resultado método repr: {resultado_metodo_repr}')\n",
    "        return resultado_metodo_repr\n",
    "\n",
    "    # Agregar dinámicamente el método repr a nuestra clase\n",
    "    setattr(cls,'__repr__', metodo_repr)\n",
    "\n",
    "    return cls\n",
    "\n",
    "@decorador_repr\n",
    "class Persona:\n",
    "    def __init__(self, nombre, apellido, edad):\n",
    "        print('2. Se ejecuta el inicializador')\n",
    "        self._nombre = nombre\n",
    "        self._apellido = apellido\n",
    "        self._edad = edad\n",
    "\n",
    "    @property\n",
    "    def nombre(self):\n",
    "        return self._nombre\n",
    "\n",
    "    @property\n",
    "    def apellido(self):\n",
    "        return self._apellido\n",
    "\n",
    "    @property\n",
    "    def edad(self):\n",
    "        return self._edad\n",
    "\n",
    "    # def __repr__(self):\n",
    "    #     return f'Persona(nombre={self._nombre}, apellido={self._apellido})'\n",
    "\n",
    "persona1 = Persona('Juan','Perez', 28)\n",
    "print(persona1)\n",
    "pesona2 = Persona('Karla','Gomez', 30)\n",
    "print(pesona2)\n",
    "#Tiene los métodos de propiedad nombre, apellido, repr\n",
    "print(dir(Persona))\n",
    "# Tiene el método repr sobreescrito\n",
    "codigo_repr = inspect.getsource(persona1.__repr__)\n",
    "print(codigo_repr)"
   ]
  },
  {
   "cell_type": "code",
   "execution_count": null,
   "metadata": {},
   "outputs": [],
   "source": [
    "from dataclasses import dataclass\n",
    "from typing import ClassVar\n",
    "\n",
    "\n",
    "@dataclass\n",
    "class Persona:\n",
    "    nombre: str\n",
    "    apellido: str\n",
    "    contador_personas: ClassVar[int] = 0\n",
    "\n",
    "    def __post_init__(self):\n",
    "        if not self.nombre:\n",
    "            raise ValueError(f'Valor nombre vacío: {self.nombre}')\n",
    "\n",
    "persona1 = Persona('Juan','Perez')\n",
    "print(f'{persona1!r}')\n",
    "# Variable de clase\n",
    "print(f'Variable clase: {Persona.contador_personas}')\n",
    "# Variables de instancia\n",
    "print(f'Variables de instancia: {persona1.__dict__}')\n",
    "# Variable con valores vacíos\n",
    "persona_vacia = Persona('Karla','')\n",
    "print(f'Persona vacía: {persona_vacia}')"
   ]
  },
  {
   "cell_type": "code",
   "execution_count": 53,
   "metadata": {},
   "outputs": [
    {
     "name": "stdout",
     "output_type": "stream",
     "text": [
      "Persona(nombre='Juan', apellido='Perez', domicilio=Domicilio(calle='Saturno', numero=15))\n",
      "Variable clase: 0\n",
      "Variables de instancia: {'nombre': 'Juan', 'apellido': 'Perez', 'domicilio': Domicilio(calle='Saturno', numero=15)}\n",
      "Persona vacía: Persona(nombre='Karla', apellido='', domicilio=None)\n",
      "Objetos iguales?: True\n",
      "{Persona(nombre='Juan', apellido='Perez', domicilio=Domicilio(calle='Saturno', numero=15))}\n"
     ]
    }
   ],
   "source": [
    "from dataclasses import dataclass\n",
    "from typing import ClassVar\n",
    "\n",
    "@dataclass(eq=True, frozen=True)\n",
    "class Domicilio:\n",
    "    calle: str\n",
    "    numero: int = 0\n",
    "\n",
    "@dataclass(eq=True, frozen=True)\n",
    "class Persona:\n",
    "    nombre: str\n",
    "    apellido: str\n",
    "    domicilio: Domicilio\n",
    "    contador_personas: ClassVar[int] = 0\n",
    "\n",
    "    def __post_init__(self):\n",
    "        if not self.nombre:\n",
    "            raise ValueError(f'Valor nombre vacío: {self.nombre}')\n",
    "\n",
    "domicilio1 = Domicilio('Saturno', 15)\n",
    "persona1 = Persona('Juan','Perez', domicilio1)\n",
    "print(f'{persona1!r}')\n",
    "# Variable de clase\n",
    "print(f'Variable clase: {Persona.contador_personas}')\n",
    "# Variables de instancia\n",
    "print(f'Variables de instancia: {persona1.__dict__}')\n",
    "# Variable con valores vacíos\n",
    "persona_vacia = Persona('Karla','', None)\n",
    "print(f'Persona vacía: {persona_vacia}')\n",
    "# Revisar igualdad entre objetos (__eq__)\n",
    "persona2 = Persona('Juan','Perez', Domicilio('Saturno', 15))\n",
    "print(f'Objetos iguales?: {persona1 == persona2}')\n",
    "# Agregar esta clase a una colecciones\n",
    "coleccion = {persona1, persona2}\n",
    "print(coleccion)\n",
    "# Frozen = True\n",
    "# coleccion[0].nombre='Juan Carlos'\n",
    "# persona1.nombre = 'Juan Carlos'\n"
   ]
  },
  {
   "cell_type": "markdown",
   "metadata": {},
   "source": [
    "## Class"
   ]
  },
  {
   "cell_type": "code",
   "execution_count": null,
   "metadata": {},
   "outputs": [],
   "source": [
    "class User:\n",
    "    \n",
    "    active_users = 0\n",
    "\n",
    "    def __init__(self,first,last,age):\n",
    "        self.first = first\n",
    "        self.last = last\n",
    "        self.age = age\n",
    "        User.active_users += 1\n",
    "\n",
    "    def full_name(self):\n",
    "        return f\"{self.first} {self.last}\"\n",
    "\n",
    "    def logout(self):\n",
    "        User.active_users -= 1\n",
    "        return f\"{self.full_name()} uygulamadan çıkış yaptı.\"\n",
    "\n",
    "print(User.active_users)\n",
    "userA = User(\"Sadık\",\"Turan\",37)\n",
    "userB = User(\"Sena\",\"Turan\",20)\n",
    "userC = User(\"Çınar\",\"Turan\",4)\n",
    "print(User.active_users)\n",
    "print(userC.logout())\n",
    "print(User.active_users)\n",
    "\n",
    "# print(userA.full_name())\n",
    "# print(userB.full_name())"
   ]
  },
  {
   "cell_type": "code",
   "execution_count": null,
   "metadata": {},
   "outputs": [],
   "source": [
    "# Comment isminde bir sınıf oluşturunuz.\n",
    "# Comment sınıfı username, text, likes, dislikes isminde özelliklere sahip olsun.\n",
    "# 5 adet farklı comment oluşturup döngü yardımıyla yorumları ekrana yazdırınız.\n",
    "\n",
    "class Comment:\n",
    "    def __init__(self, username, text, likes=0, dislikes=0):\n",
    "        self.username = username\n",
    "        self.text = text\n",
    "        self.likes = likes\n",
    "        self.dislikes = dislikes\n",
    "\n",
    "c1 = Comment(\"sadikturan\",\"güzel kurs\")\n",
    "c2 = Comment(\"ahmetyilmaz\",\"çok güzel kurs\")\n",
    "c3 = Comment(\"cinarturan\",\"idare eder bir kurs\", 50, 10)\n",
    "c4 = Comment(\"ahmetyilmaz\",\"kursu beğenmedim\")\n",
    "c5 = Comment(\"sadikturan\",\"süper bir kurs olmuş\",100)\n",
    "\n",
    "comments = [c1,c2,c3,c4,c5]\n",
    "\n",
    "for c in comments:\n",
    "    print(f\"{c.username}: {c.text}\")\n",
    "    print(f\"likes: {c.likes} - dislikes: {c.dislikes}\")"
   ]
  },
  {
   "cell_type": "code",
   "execution_count": null,
   "metadata": {},
   "outputs": [],
   "source": [
    "class User:\n",
    "    \n",
    "    active_users = 0\n",
    "\n",
    "    @classmethod\n",
    "    def display_active_users(cls):\n",
    "        return f\"{cls.active_users} tane aktif kullanıcı var.\"\n",
    "\n",
    "    @classmethod\n",
    "    def from_string(cls,data_str):\n",
    "        first,last,age = data_str.split(',')\n",
    "        return cls(first,last,age)\n",
    "\n",
    "    def __init__(self,first,last,age):\n",
    "        self.first = first\n",
    "        self.last = last\n",
    "        self.age = age\n",
    "        User.active_users += 1\n",
    "\n",
    "    def full_name(self):\n",
    "        return f\"{self.first} {self.last}\"\n",
    "\n",
    "    def logout(self):\n",
    "        User.active_users -= 1\n",
    "        return f\"{self.full_name()} uygulamadan çıkış yaptı.\"\n",
    "\n",
    "# print(User.display_active_users())\n",
    "# userA = User(\"Sadık\",\"Turan\",37)\n",
    "# userB = User(\"Sena\",\"Turan\",20)\n",
    "# userC = User(\"Sena\",\"Turan\",20)\n",
    "\n",
    "ali = User.from_string(\"Ali,Korkmaz,20\")\n",
    "print(ali.first)\n",
    "\n",
    "# {\"key\":\"value\"}\n",
    "# dict.fromkeys()\n"
   ]
  },
  {
   "cell_type": "code",
   "execution_count": null,
   "metadata": {},
   "outputs": [],
   "source": [
    "# Class\n",
    "\n",
    "class Ogrenci:\n",
    "    # method\n",
    "    # attribute\n",
    "    pass\n",
    "\n",
    "# Object, Instance\n",
    "\n",
    "ogrenci1 = Ogrenci()\n",
    "ogrenci2 = Ogrenci()\n",
    "\n",
    "# print(type(ogrenci))\n",
    "# print(ogrenci1, ogrenci2)\n",
    "\n",
    "class Product:\n",
    "    pass\n",
    "\n",
    "p1 = Product() # Samsung S10\n",
    "p2 = Product() # IPhone 12\n",
    "p3 = Product() # IPhone 12 Pro\n",
    "\n",
    "products = [p1,p2,p3]\n",
    "\n",
    "for p in products:\n",
    "    print(p)\n",
    "    print(type(p))"
   ]
  }
 ],
 "metadata": {
  "kernelspec": {
   "display_name": "Python 3",
   "language": "python",
   "name": "python3"
  },
  "language_info": {
   "codemirror_mode": {
    "name": "ipython",
    "version": 3
   },
   "file_extension": ".py",
   "mimetype": "text/x-python",
   "name": "python",
   "nbconvert_exporter": "python",
   "pygments_lexer": "ipython3",
   "version": "3.8.5"
  }
 },
 "nbformat": 4,
 "nbformat_minor": 4
}
