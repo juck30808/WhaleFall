{
 "cells": [
  {
   "cell_type": "markdown",
   "metadata": {},
   "source": [
    "# WebCrawler_Yahoo_Shopping\n",
    "##  Yahoo購物\n",
    "https://tw.buy.yahoo.com/search/product?p=Apple"
   ]
  },
  {
   "cell_type": "code",
   "execution_count": 1,
   "metadata": {},
   "outputs": [
    {
     "name": "stdout",
     "output_type": "stream",
     "text": [
      "https://tw.buy.yahoo.com/gdsale/福利品-Apple-iPhone-6s-Plus-8446842.html\n",
      "$5,214\n",
      "--------------------\n",
      "https://tw.buy.yahoo.com/gdsale/福利品-Apple-iPhone-7-128G-5-8409290.html\n",
      "$5,214\n",
      "--------------------\n",
      "https://tw.buy.yahoo.com/gdsale/福利品-Apple-iPhone-7-256G-4-7吋智慧型手機-9050755.html\n",
      "$6,166\n",
      "--------------------\n",
      "https://tw.buy.yahoo.com/gdsale/A級福利品-Apple-iPhone-XR-128G-6-1吋-智慧型手機-9300517.html\n",
      "$13,990\n",
      "--------------------\n",
      "https://tw.buy.yahoo.com/gdsale/福利品-Apple-iPhone-7-128GB-8197858.html\n",
      "$6,166\n",
      "--------------------\n",
      "https://tw.buy.yahoo.com/gdsale/福利品-Apple-iPhone-X-64G-智慧-8147765.html\n",
      "$11,880\n",
      "--------------------\n",
      "https://tw.buy.yahoo.com/gdsale/福利品-Apple-iPhone-X-256G-智-8147766.html\n",
      "$13,490\n",
      "--------------------\n",
      "https://tw.buy.yahoo.com/gdsale/福利品-Apple-iPhone-Xs-Max-2-8729360.html\n",
      "$19,950\n",
      "--------------------\n",
      "https://tw.buy.yahoo.com/gdsale/福利品-Apple-iPhone-8-64GB-9102292.html\n",
      "$6,991\n",
      "--------------------\n",
      "https://tw.buy.yahoo.com/gdsale/福利品-Apple-iPhone-8-Plus-64G-5-5吋智慧型手機-八成新-9071543.html\n",
      "$11,550\n",
      "--------------------\n",
      "https://tw.buy.yahoo.com/gdsale/福利品-Apple-iPhone-11-Pro-256G-5-8吋智慧型手機-9245793.html\n",
      "$34,400\n",
      "--------------------\n",
      "https://tw.buy.yahoo.com/gdsale/福利品-Apple-iPhone-8-64G-4-8878245.html\n",
      "$8,066\n",
      "--------------------\n",
      "https://tw.buy.yahoo.com/gdsale/Apple-iPhone-6s-Plus-128G-5-5吋智慧手機-9174441.html\n",
      "$11,011\n",
      "--------------------\n",
      "https://tw.buy.yahoo.com/gdsale/福利品-Apple-iPhone-8-Plus-6-8412301.html\n",
      "$10,355\n",
      "--------------------\n",
      "https://tw.buy.yahoo.com/gdsale/福利品-Apple-iPhone-11-128GB-6-1吋智慧手機-9252669.html\n",
      "$18,905\n",
      "--------------------\n"
     ]
    }
   ],
   "source": [
    "from bs4 import BeautifulSoup\n",
    "from urllib.parse import unquote\n",
    "import urllib\n",
    "import urllib.request\n",
    "import os\n",
    "import string\n",
    "\n",
    "url = 'https://tw.buy.yahoo.com/search/product?p=Apple'\n",
    "headers = {'User-Agent':'Mozilla/5.0 (Windows NT 6.1; WOW64; rv:23.0) Gecko/20100101 Firefox/23.0'}\n",
    "req = urllib.request.Request(url= urllib.parse.quote(url, safe=string.printable), headers=headers)\n",
    "html_doc = urllib.request.urlopen(req).read()\n",
    "soup = BeautifulSoup(html_doc, 'html.parser')\n",
    "\n",
    "main_tag = soup.find('div',class_='main')\n",
    "product_tags = main_tag.find_all('li', class_='BaseGridItem__grid___2wuJ7 BaseGridItem__multipleImage___37M7b')\n",
    "product_tag = product_tags[0]\n",
    "product_tag.find('a')['href']\n",
    "\n",
    "product_tag.find_all('span')[2].get_text()\n",
    "product_tag.find('em').get_text()\n",
    "\n",
    "for product_tag in product_tags:\n",
    "    print(product_tag.find('a')['href'])\n",
    "    print(product_tag.find('em').get_text())\n",
    "    print('--------------------')"
   ]
  },
  {
   "cell_type": "markdown",
   "metadata": {},
   "source": [
    "# 執行流程 Process"
   ]
  },
  {
   "cell_type": "code",
   "execution_count": 2,
   "metadata": {},
   "outputs": [],
   "source": [
    "from bs4 import BeautifulSoup\n",
    "from urllib.parse import unquote\n",
    "import urllib\n",
    "import urllib.request\n",
    "import os\n",
    "import string\n",
    "\n",
    "url = 'https://tw.buy.yahoo.com/search/product?p=Apple'\n",
    "headers = {'User-Agent':'Mozilla/5.0 (Windows NT 6.1; WOW64; rv:23.0) Gecko/20100101 Firefox/23.0'}\n",
    "req = urllib.request.Request(url= urllib.parse.quote(url, safe=string.printable), headers=headers)\n",
    "html_doc = urllib.request.urlopen(req).read()\n",
    "soup = BeautifulSoup(html_doc, 'html.parser')"
   ]
  },
  {
   "cell_type": "code",
   "execution_count": 3,
   "metadata": {},
   "outputs": [
    {
     "data": {
      "text/plain": [
       "'https://tw.buy.yahoo.com/gdsale/福利品-Apple-iPhone-6s-Plus-8446842.html'"
      ]
     },
     "execution_count": 3,
     "metadata": {},
     "output_type": "execute_result"
    }
   ],
   "source": [
    "main_tag = soup.find('div',class_='main')\n",
    "product_tags = main_tag.find_all('li', class_='BaseGridItem__grid___2wuJ7 BaseGridItem__multipleImage___37M7b')\n",
    "product_tag = product_tags[0]\n",
    "product_tag.find('a')['href']"
   ]
  },
  {
   "cell_type": "code",
   "execution_count": 5,
   "metadata": {},
   "outputs": [
    {
     "data": {
      "text/plain": [
       "'$5,214'"
      ]
     },
     "execution_count": 5,
     "metadata": {},
     "output_type": "execute_result"
    }
   ],
   "source": [
    "product_tag.find_all('span')[2].get_text()\n",
    "product_tag.find('em').get_text()"
   ]
  },
  {
   "cell_type": "code",
   "execution_count": 6,
   "metadata": {
    "scrolled": true
   },
   "outputs": [
    {
     "name": "stdout",
     "output_type": "stream",
     "text": [
      "https://tw.buy.yahoo.com/gdsale/福利品-Apple-iPhone-6s-Plus-8446842.html\n",
      "$5,214\n",
      "--------------------\n",
      "https://tw.buy.yahoo.com/gdsale/福利品-Apple-iPhone-7-128G-5-8409290.html\n",
      "$5,214\n",
      "--------------------\n",
      "https://tw.buy.yahoo.com/gdsale/福利品-Apple-iPhone-7-256G-4-7吋智慧型手機-9050755.html\n",
      "$6,166\n",
      "--------------------\n",
      "https://tw.buy.yahoo.com/gdsale/A級福利品-Apple-iPhone-XR-128G-6-1吋-智慧型手機-9300517.html\n",
      "$13,990\n",
      "--------------------\n",
      "https://tw.buy.yahoo.com/gdsale/福利品-Apple-iPhone-7-128GB-8197858.html\n",
      "$6,166\n",
      "--------------------\n",
      "https://tw.buy.yahoo.com/gdsale/福利品-Apple-iPhone-X-64G-智慧-8147765.html\n",
      "$11,880\n",
      "--------------------\n",
      "https://tw.buy.yahoo.com/gdsale/福利品-Apple-iPhone-X-256G-智-8147766.html\n",
      "$13,490\n",
      "--------------------\n",
      "https://tw.buy.yahoo.com/gdsale/福利品-Apple-iPhone-Xs-Max-2-8729360.html\n",
      "$19,950\n",
      "--------------------\n",
      "https://tw.buy.yahoo.com/gdsale/福利品-Apple-iPhone-8-64GB-9102292.html\n",
      "$6,991\n",
      "--------------------\n",
      "https://tw.buy.yahoo.com/gdsale/福利品-Apple-iPhone-8-Plus-64G-5-5吋智慧型手機-八成新-9071543.html\n",
      "$11,550\n",
      "--------------------\n",
      "https://tw.buy.yahoo.com/gdsale/福利品-Apple-iPhone-11-Pro-256G-5-8吋智慧型手機-9245793.html\n",
      "$34,400\n",
      "--------------------\n",
      "https://tw.buy.yahoo.com/gdsale/福利品-Apple-iPhone-8-64G-4-8878245.html\n",
      "$8,066\n",
      "--------------------\n",
      "https://tw.buy.yahoo.com/gdsale/Apple-iPhone-6s-Plus-128G-5-5吋智慧手機-9174441.html\n",
      "$11,011\n",
      "--------------------\n",
      "https://tw.buy.yahoo.com/gdsale/福利品-Apple-iPhone-8-Plus-6-8412301.html\n",
      "$10,355\n",
      "--------------------\n",
      "https://tw.buy.yahoo.com/gdsale/福利品-Apple-iPhone-11-128GB-6-1吋智慧手機-9252669.html\n",
      "$18,905\n",
      "--------------------\n"
     ]
    }
   ],
   "source": [
    "for product_tag in product_tags:\n",
    "    print(product_tag.find('a')['href'])\n",
    "    print(product_tag.find('em').get_text())\n",
    "    print('--------------------')"
   ]
  },
  {
   "cell_type": "code",
   "execution_count": null,
   "metadata": {},
   "outputs": [],
   "source": []
  }
 ],
 "metadata": {
  "kernelspec": {
   "display_name": "Python 3",
   "language": "python",
   "name": "python3"
  },
  "language_info": {
   "codemirror_mode": {
    "name": "ipython",
    "version": 3
   },
   "file_extension": ".py",
   "mimetype": "text/x-python",
   "name": "python",
   "nbconvert_exporter": "python",
   "pygments_lexer": "ipython3",
   "version": "3.8.5"
  }
 },
 "nbformat": 4,
 "nbformat_minor": 4
}
