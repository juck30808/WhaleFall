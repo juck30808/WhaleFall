{
 "cells": [
  {
   "cell_type": "code",
   "execution_count": 1,
   "metadata": {},
   "outputs": [
    {
     "name": "stdout",
     "output_type": "stream",
     "text": [
      "Requirement already satisfied: Pillow in c:\\users\\cti110016\\anaconda3\\lib\\site-packages (8.0.1)\n"
     ]
    }
   ],
   "source": [
    "!pip install Pillow"
   ]
  },
  {
   "cell_type": "markdown",
   "metadata": {},
   "source": [
    "- Image.open() : 開啟指定照片，後面括弧要放路徑\n",
    "- show() : 顯示指定照片，前面要接變數名稱以及點號\n",
    "- save() : 將處理完的照片存檔，前面要接變數名稱以及點號\n",
    "- size() : 取得圖片長寬"
   ]
  },
  {
   "cell_type": "code",
   "execution_count": 2,
   "metadata": {
    "scrolled": true
   },
   "outputs": [],
   "source": [
    "# 照片旋轉\n",
    "from PIL import Image\n",
    "\n",
    "img = Image.open(\"./input/Sample.png\")\n",
    "img.show()\n",
    "newImg = img.rotate(90) \n",
    "newImg.show()\n",
    "newImg.save(\"./output/Sample90.png\")"
   ]
  },
  {
   "cell_type": "code",
   "execution_count": 3,
   "metadata": {},
   "outputs": [],
   "source": [
    "# 轉檔\n",
    "from PIL import Image\n",
    "\n",
    "img = Image.open(\"./input/Sample.png\")\n",
    "img.show()\n",
    "\n",
    "newImg = img\n",
    "newImg.save(\"./output/Sample.png\",\"png\")"
   ]
  },
  {
   "cell_type": "code",
   "execution_count": 4,
   "metadata": {},
   "outputs": [],
   "source": [
    "# convert()灰階轉換\n",
    "from PIL import Image\n",
    "\n",
    "img = Image.open(\"./input/Sample.png\")\n",
    "img.show()\n",
    "\n",
    "newImg = img.convert('1')  \n",
    "newImg.show()\n",
    "newImg.save(\"./output/Sample_convert.png\")"
   ]
  },
  {
   "cell_type": "code",
   "execution_count": 5,
   "metadata": {},
   "outputs": [],
   "source": [
    "#更改圖片尺寸\n",
    "from PIL import Image\n",
    "\n",
    "img = Image.open(\"./input/Sample.png\")\n",
    "img.show()\n",
    "\n",
    "newImg = img.resize((500,1000),Image.LANCZOS) \n",
    "newImg.show()\n",
    "newImg.save(\"./output/Sample_size.png\")"
   ]
  },
  {
   "cell_type": "code",
   "execution_count": 6,
   "metadata": {},
   "outputs": [],
   "source": [
    "#嵌字\n",
    "from PIL import Image, ImageDraw, ImageFont\n",
    "\n",
    "img  = Image.open(\"./input/Sample.png\")\n",
    "img.show()\n",
    "\n",
    "draw = ImageDraw.Draw(img)\n",
    "font  = ImageFont.truetype(\"kaiu.ttf\", 20)\n",
    "color  = \"purple\"\n",
    "text = \"Test\"\n",
    "draw.text((10, 10), text, fill=color, font=font)\n",
    "\n",
    "img.show()\n",
    "img.save(\"./output/Sample_sign.png\")"
   ]
  },
  {
   "cell_type": "code",
   "execution_count": 24,
   "metadata": {},
   "outputs": [],
   "source": [
    "# combine\n",
    "from PIL import Image\n",
    "\n",
    "imageA = Image.open('./input/Sample.png')\n",
    "imageB = Image.open('./input/dogeweak.png')\n",
    "imageB = imageB.convert(\"RGBA\")\n",
    "widthB , heightB = imageB.size\n",
    "\n",
    "newimageB  = imageB.resize((int(widthB*0.2),int(heightB*0.2)),Image.LANCZOS)\n",
    "\n",
    "resultPicture = Image.new('RGBA', imageA.size, (0, 0, 0, 0))\n",
    "\n",
    "resultPicture.paste(imageA,(0,0))\n",
    "resultPicture.paste(newimageB, (0,0), newimageB)\n",
    "resultPicture.show()\n",
    "resultPicture.save(\"./output/result.png\")"
   ]
  },
  {
   "cell_type": "code",
   "execution_count": 3,
   "metadata": {},
   "outputs": [],
   "source": [
    "## Resize and add Logo\n",
    "import os\n",
    "from PIL import Image\n",
    "\n",
    "SQUARE_FIT_SIZE = 300\n",
    "LOGO_FILENAME = 'input/catlogo.png'\n",
    "logoIm = Image.open(LOGO_FILENAME)\n",
    "logoWidth, logoHeight = logoIm.size\n",
    "os.makedirs('withLogo', exist_ok=True)\n",
    "\n",
    "# Loop over all files in the working directory.\n",
    "for filename in os.listdir('.'):\n",
    "    if not (filename.lower().endswith('.png') or filename.lower().endswith('.jpg')\n",
    "            or filename.lower().endswith('.gif') or filename.lower().endswith('bmp')) \\\n",
    "        or filename == LOGO_FILENAME:\n",
    "        continue # skip non-image files and the logo file itself\n",
    "\n",
    "    im = Image.open(filename)\n",
    "    width, height = im.size\n",
    "\n",
    "    # Check if image needs to be resized.\n",
    "    if width > SQUARE_FIT_SIZE and height > SQUARE_FIT_SIZE:\n",
    "        # Calculate the new width and height to resize to.\n",
    "        if width > height:\n",
    "            height = int((SQUARE_FIT_SIZE / width) * height)\n",
    "            width = SQUARE_FIT_SIZE\n",
    "        else:\n",
    "            width = int((SQUARE_FIT_SIZE / height) * width)\n",
    "            height = SQUARE_FIT_SIZE\n",
    "\n",
    "    # Resize the image.\n",
    "    print('Resizing %s...' % (filename))\n",
    "    im = im.resize((width, height))\n",
    "\n",
    "    # Add the logo if it fits properly in image.\n",
    "    imWidth, imHeight = im.size\n",
    "    if imWidth < logoWidth * 2 and imHeight < logoHeight * 2:\n",
    "        print(\"Logo taking up too much space in image so skipped..\")\n",
    "    else:\n",
    "        print('Adding logo to %s...' % (filename))\n",
    "        im.paste(logoIm, (width - logoWidth, height - logoHeight), logoIm)\n",
    "\n",
    "    # Save changes.\n",
    "    im.save(os.path.join('withLogo', filename))"
   ]
  },
  {
   "cell_type": "code",
   "execution_count": null,
   "metadata": {},
   "outputs": [],
   "source": []
  }
 ],
 "metadata": {
  "kernelspec": {
   "display_name": "Python 3",
   "language": "python",
   "name": "python3"
  },
  "language_info": {
   "codemirror_mode": {
    "name": "ipython",
    "version": 3
   },
   "file_extension": ".py",
   "mimetype": "text/x-python",
   "name": "python",
   "nbconvert_exporter": "python",
   "pygments_lexer": "ipython3",
   "version": "3.8.5"
  }
 },
 "nbformat": 4,
 "nbformat_minor": 4
}
