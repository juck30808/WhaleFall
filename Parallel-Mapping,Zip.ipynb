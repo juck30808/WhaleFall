{
 "cells": [
  {
   "cell_type": "markdown",
   "metadata": {},
   "source": [
    "## Map\n",
    "在許多情況下，您希望對大量不同的數據應用相同的函數。 例如，讓我們創建兩個數字數組，並使用我們的 add 函數將數字對相加。 在 Python 控制台中輸入："
   ]
  },
  {
   "cell_type": "code",
   "execution_count": 2,
   "metadata": {},
   "outputs": [
    {
     "name": "stdout",
     "output_type": "stream",
     "text": [
      "[7, 9, 11, 13, 15]\n"
     ]
    }
   ],
   "source": [
    "def add(x, y):\n",
    "    return x + y\n",
    "\n",
    "def multiply(x, y):\n",
    "    return x * y\n",
    "\n",
    "a = [1, 2, 3, 4, 5]\n",
    "b = [6, 7, 8, 9, 10]\n",
    "result = []\n",
    "\n",
    "for i, j in zip(a, b):\n",
    "    r = add(i, j)    #將相同的函數應用於數據列表\n",
    "    result.append(r)\n",
    "\n",
    "print(result)\n",
    "\n",
    "# 上面映射了函數add。如果我們想映射我們的 diff 函數呢？\n",
    "# 一種選擇是再次復制此代碼。\n",
    "# 更好的解決方案是使用 Mapping 函數。"
   ]
  },
  {
   "cell_type": "code",
   "execution_count": 5,
   "metadata": {},
   "outputs": [
    {
     "data": {
      "text/plain": [
       "[7, 9, 11, 13, 15]"
      ]
     },
     "execution_count": 5,
     "metadata": {},
     "output_type": "execute_result"
    }
   ],
   "source": [
    "def mapper(func, arg1, arg2):\n",
    "    res = []\n",
    "    for i, j in zip(arg1, arg2):\n",
    "        r = func(i, j)\n",
    "        res.append(r)\n",
    "\n",
    "    return res\n",
    "\n",
    "mapper(add, a, b)"
   ]
  },
  {
   "cell_type": "code",
   "execution_count": 12,
   "metadata": {},
   "outputs": [
    {
     "data": {
      "text/plain": [
       "[5.196152422706632, 5.196152422706632, 5.196152422706632]"
      ]
     },
     "execution_count": 12,
     "metadata": {},
     "output_type": "execute_result"
    }
   ],
   "source": [
    "import math\n",
    "\n",
    "def calc_distance(point1, point2):\n",
    "    \"\"\"\n",
    "    創建了一個計算兩點之間距離的函數。\n",
    "    兩個點列表使用 mapper 控制點之間的距離：\n",
    "    \"\"\"\n",
    "    dx2 = (point1[0] - point2[0]) ** 2\n",
    "    dy2 = (point1[1] - point2[1]) ** 2\n",
    "    dz2 = (point1[2] - point2[2]) ** 2\n",
    "    return math.sqrt(dx2 + dy2 + dz2)\n",
    "\n",
    "points1 = [(1.0, 1.0, 1.0), (2.0, 2.0, 2.0), (3.0, 3.0, 3.0)]\n",
    "points2 = [(4.0, 4.0, 4.0), (5.0, 5.0, 5.0), (6.0, 6.0, 6.0)]\n",
    "mapper(calc_distance, points1, points2)"
   ]
  },
  {
   "cell_type": "code",
   "execution_count": 14,
   "metadata": {},
   "outputs": [
    {
     "data": {
      "text/plain": [
       "[5.196152422706632, 5.196152422706632, 5.196152422706632]"
      ]
     },
     "execution_count": 14,
     "metadata": {},
     "output_type": "execute_result"
    }
   ],
   "source": [
    "map(calc_distance, points1, points2)\n",
    "distances = map(calc_distance, points1, points2)\n",
    "list(distances)"
   ]
  },
  {
   "cell_type": "code",
   "execution_count": 12,
   "metadata": {},
   "outputs": [
    {
     "name": "stdout",
     "output_type": "stream",
     "text": [
      "[30, 60, 14]\n"
     ]
    }
   ],
   "source": [
    "l1 = [5,6,7]\n",
    "l2 = [6,10,2]\n",
    "\n",
    "xyz = lambda n,m : n*m\n",
    "\n",
    "l3 = map(xyz,l1,l2)\n",
    "print(list(l3))"
   ]
  },
  {
   "cell_type": "code",
   "execution_count": 15,
   "metadata": {},
   "outputs": [
    {
     "name": "stdout",
     "output_type": "stream",
     "text": [
      "[5.196152422706632, 5.196152422706632, 5.196152422706632]\n",
      "[]\n"
     ]
    }
   ],
   "source": [
    "# 還有一個小問題需要注意，那就是迭代器耗盡之前只能用一個。 \n",
    "# 如果我們嘗試在兩個地方獲取 Map 的結果：\n",
    "\n",
    "distances = map(calc_distance, points1, points2)\n",
    "print(list(distances))\n",
    "print(list(distances))"
   ]
  },
  {
   "cell_type": "code",
   "execution_count": 16,
   "metadata": {},
   "outputs": [
    {
     "name": "stdout",
     "output_type": "stream",
     "text": [
      "[5.196152422706632, 5.196152422706632, 5.196152422706632]\n",
      "[5.196152422706632, 5.196152422706632, 5.196152422706632]\n"
     ]
    }
   ],
   "source": [
    "distances = map(calc_distance, points1, points2)\n",
    "distance_list = list(distances)\n",
    "print(distance_list)\n",
    "print(distance_list)\n"
   ]
  },
  {
   "cell_type": "code",
   "execution_count": 1,
   "metadata": {},
   "outputs": [
    {
     "name": "stdout",
     "output_type": "stream",
     "text": [
      "[2, 10, 8, 12, 16, 22, 6, 24]\n"
     ]
    }
   ],
   "source": [
    "my_list = [1,5,4,6,8,11,3,12]\n",
    "new_list = list(map(lambda x:x *2, my_list))\n",
    "print(new_list)"
   ]
  },
  {
   "cell_type": "code",
   "execution_count": 5,
   "metadata": {},
   "outputs": [],
   "source": [
    "total_score=[365,450,290,398,270,430]\n",
    "def percent(li):\n",
    "    ans=(li*100)/500\n",
    "    return ans"
   ]
  },
  {
   "cell_type": "code",
   "execution_count": 6,
   "metadata": {},
   "outputs": [
    {
     "name": "stdout",
     "output_type": "stream",
     "text": [
      "[73.0, 90.0, 58.0, 79.6, 54.0, 86.0]\n"
     ]
    }
   ],
   "source": [
    "mapped_list=map(percent,total_score)\n",
    "print(list(mapped_list))"
   ]
  },
  {
   "cell_type": "code",
   "execution_count": 22,
   "metadata": {},
   "outputs": [],
   "source": [
    "import urllib.request\n",
    "import tarfile\n",
    "\n",
    "urllib.request.urlretrieve(\"https://milliams.com/courses/parallel_python/shakespeare.tar.bz2\", \"shakespeare.tar.bz2\")\n",
    "with tarfile.open(\"shakespeare.tar.bz2\") as tar:\n",
    "    tar.extractall()"
   ]
  },
  {
   "cell_type": "code",
   "execution_count": 23,
   "metadata": {},
   "outputs": [
    {
     "name": "stdout",
     "output_type": "stream",
     "text": [
      "[]\n"
     ]
    }
   ],
   "source": [
    "#Exam\n",
    "\n",
    "import glob\n",
    "import sys\n",
    "\n",
    "\n",
    "def count_lines_in_file(filename):\n",
    "    \"\"\"\n",
    "    Function that returns the number of lines\n",
    "    of text in the file 'filename'\n",
    "    \"\"\"\n",
    "    with open(filename) as f:\n",
    "        return len(f.readlines())\n",
    "\n",
    "# get all of the names of the plays from the command line\n",
    "filenames = sorted(glob.glob(f\"{sys.argv[1]}/*\"))\n",
    "\n",
    "# map the count_lines function against all of the\n",
    "# files listed in \"filenames\"\n",
    "play_line_count = map(count_lines_in_file, filenames)\n",
    "\n",
    "# print out the filenames of the plays along with their line counts\n",
    "print(list(zip(filenames, play_line_count)))\n"
   ]
  },
  {
   "cell_type": "markdown",
   "metadata": {},
   "source": [
    "## Zip"
   ]
  },
  {
   "cell_type": "code",
   "execution_count": 24,
   "metadata": {},
   "outputs": [
    {
     "data": {
      "text/plain": [
       "[('Rohan', 67), ('Amita', 34), ('Shushant', 78), ('Pawan', 85), ('Kiran', 65)]"
      ]
     },
     "execution_count": 24,
     "metadata": {},
     "output_type": "execute_result"
    }
   ],
   "source": [
    "student_names = ['Rohan', 'Amita', 'Shushant', 'Pawan', 'Kiran']\n",
    "student_marks = [67,34,78,85,65]\n",
    "zipped_list = zip(student_names, student_marks)\n",
    "zipped_list = list(zipped_list)\n",
    "zipped_list"
   ]
  },
  {
   "cell_type": "code",
   "execution_count": 25,
   "metadata": {},
   "outputs": [
    {
     "name": "stdout",
     "output_type": "stream",
     "text": [
      "names =  ['Rohan', 'Amita', 'Shushant', 'Pawan', 'Kiran']\n",
      "marks =  [67, 34, 78, 85, 65]\n"
     ]
    }
   ],
   "source": [
    "student_names, student_marks = zip( *zipped_list)\n",
    "print('names = ',list(student_names))\n",
    "print('marks = ',list(student_marks))"
   ]
  },
  {
   "cell_type": "code",
   "execution_count": 1,
   "metadata": {},
   "outputs": [
    {
     "name": "stdout",
     "output_type": "stream",
     "text": [
      "[(1, 'a', 321, 0), (2, 'b', 322, 4), (3, 'c', 323, 6)]\n",
      "Número: 1, Letra: a, Id: 321, Aleatorio: 0\n",
      "Número: 2, Letra: b, Id: 322, Aleatorio: 4\n",
      "Número: 3, Letra: c, Id: 323, Aleatorio: 6\n",
      "['321-1-a-0', '322-2-b-4', '323-3-c-6']\n",
      "Números: (1, 2, 3), Letras: ('a', 'b', 'c')\n",
      "(('c', 3), ('d', 2), ('a', 4), ('e', 1), ('b', 0))\n",
      "[('a', 4), ('b', 0), ('c', 3), ('d', 2), ('e', 1)]\n",
      "{'Nombre': 'Juan', 'Apellido': 'Perez', 'Edad': 18}\n",
      "{'Nombre': 'Juan', 'Apellido': 'Perez', 'Edad': 28}\n"
     ]
    }
   ],
   "source": [
    "# print(dir(__builtins__))\n",
    "# help(zip)\n",
    "numeros = (1,2,3)\n",
    "letras = ['a','b','c','d']\n",
    "indentificadores = 321, 322, 323, 324, 325\n",
    "conjunto = {6,4,0,9,8,15,10}\n",
    "mezcla = zip(numeros, letras, indentificadores, conjunto)\n",
    "# print(mezcla)\n",
    "print(list(mezcla))\n",
    "# print(tuple(zip(numeros, letras)))\n",
    "# print(type(mezcla))\n",
    "\n",
    "# iterar en paralelo\n",
    "for numero, letra, id, aleatorio in zip(numeros, letras, indentificadores, conjunto):\n",
    "    print(f'Número: {numero}, Letra: {letra}, Id: {id}, Aleatorio: {aleatorio}')\n",
    "\n",
    "nueva_lista = []\n",
    "for numero, letra, id, aleatorio in zip(numeros, letras, indentificadores, conjunto):\n",
    "    nueva_lista.append(f'{id}-{numero}-{letra}-{aleatorio}')\n",
    "print(nueva_lista)\n",
    "\n",
    "# unzip\n",
    "mezcla = [(1,'a'),(2,'b'),(3,'c')]\n",
    "numeros, letras = zip(*mezcla)\n",
    "print(f'Números: {numeros}, Letras: {letras}')\n",
    "\n",
    "# ordenamiento usando zip\n",
    "letras = ['c', 'd', 'a', 'e', 'b']\n",
    "numeros = [3,2,4,1,0]\n",
    "mezcla = zip(letras, numeros)\n",
    "# Sin orden\n",
    "print(tuple(mezcla))\n",
    "# ordenar por letra (primer iterable)\n",
    "print(sorted(zip(letras, numeros)))\n",
    "\n",
    "# Crear un diccionario con zip y dos iterables\n",
    "llaves = ['Nombre', 'Apellido', 'Edad']\n",
    "valores = ['Juan', 'Perez', 18]\n",
    "diccionario = dict(zip(llaves, valores))\n",
    "print(diccionario)\n",
    "\n",
    "# Actualizar un elemento de un diccionario\n",
    "llave = ['Edad']\n",
    "nueva_edad = [28]\n",
    "diccionario.update(zip(llave, nueva_edad))\n",
    "print(diccionario)"
   ]
  },
  {
   "cell_type": "code",
   "execution_count": null,
   "metadata": {},
   "outputs": [],
   "source": []
  }
 ],
 "metadata": {
  "kernelspec": {
   "display_name": "Python 3",
   "language": "python",
   "name": "python3"
  },
  "language_info": {
   "codemirror_mode": {
    "name": "ipython",
    "version": 3
   },
   "file_extension": ".py",
   "mimetype": "text/x-python",
   "name": "python",
   "nbconvert_exporter": "python",
   "pygments_lexer": "ipython3",
   "version": "3.8.5"
  }
 },
 "nbformat": 4,
 "nbformat_minor": 5
}
