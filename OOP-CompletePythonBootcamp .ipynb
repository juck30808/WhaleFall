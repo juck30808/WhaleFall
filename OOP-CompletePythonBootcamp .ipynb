{
 "cells": [
  {
   "cell_type": "code",
   "execution_count": 3,
   "id": "700af3f2",
   "metadata": {},
   "outputs": [
    {
     "name": "stdout",
     "output_type": "stream",
     "text": [
      "your name is Peter Paul\n"
     ]
    }
   ],
   "source": [
    "# Classes and Object\n",
    "\"\"\"\n",
    "class hellas:\n",
    "    num = 6\n",
    "\n",
    "ella = hellas()\n",
    "print(ella.num)\"\"\"\n",
    "\n",
    "class hellonmade:\n",
    "    def __init__(self, fname, lname):\n",
    "        self.fname = fname\n",
    "        self.lname = lname\n",
    "\n",
    "world = hellonmade(\"Peter\", \"Paul\")\n",
    "#world.fname = \"John\"\n",
    "print(\"your name is \" + world.fname + \" \" + world.lname)"
   ]
  },
  {
   "cell_type": "code",
   "execution_count": 4,
   "id": "8e3c4c3f",
   "metadata": {},
   "outputs": [
    {
     "name": "stdout",
     "output_type": "stream",
     "text": [
      "Welcome Peter. Your age is 40\n"
     ]
    }
   ],
   "source": [
    "# Object Method\n",
    "class Boss:\n",
    "    def __init__(self, fname, age):\n",
    "        self.fname = fname\n",
    "        self.age = age\n",
    "\n",
    "    def Hello(self):\n",
    "        print(\"Welcome \" + self.fname + \". \" + \"Your age is \" + str(self.age))\n",
    "\n",
    "BH = Boss(\"Peter\", 40)\n",
    "BH.Hello()"
   ]
  },
  {
   "cell_type": "code",
   "execution_count": 5,
   "id": "6a69f319",
   "metadata": {},
   "outputs": [
    {
     "name": "stdout",
     "output_type": "stream",
     "text": [
      "Your name is Peter Paul Your age is 24\n"
     ]
    }
   ],
   "source": [
    "# Inheritance\n",
    "class Company:\n",
    "    def __init__(self, fname, lname):\n",
    "        self.firstname = fname\n",
    "        self.lastname = lname\n",
    "\n",
    "    def Employee(self):\n",
    "        print(\"Your name is \" + self.firstname + \" \" + self.lastname + \" Your age is \" + str(self.employmentage))\n",
    "\n",
    "class Worker(Company):\n",
    "    def __init__(self, fname, lname, age):\n",
    "        super().__init__(fname, lname)\n",
    "        self.employmentage = age\n",
    "\n",
    "Comp = Worker(\"Peter\", \"Paul\", 24)\n",
    "Comp.Employee()"
   ]
  },
  {
   "cell_type": "code",
   "execution_count": null,
   "id": "8df3ca71",
   "metadata": {},
   "outputs": [],
   "source": []
  }
 ],
 "metadata": {
  "kernelspec": {
   "display_name": "Python 3 (ipykernel)",
   "language": "python",
   "name": "python3"
  },
  "language_info": {
   "codemirror_mode": {
    "name": "ipython",
    "version": 3
   },
   "file_extension": ".py",
   "mimetype": "text/x-python",
   "name": "python",
   "nbconvert_exporter": "python",
   "pygments_lexer": "ipython3",
   "version": "3.8.8"
  }
 },
 "nbformat": 4,
 "nbformat_minor": 5
}
