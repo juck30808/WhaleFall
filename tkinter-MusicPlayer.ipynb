{
 "cells": [
  {
   "cell_type": "code",
   "execution_count": null,
   "metadata": {},
   "outputs": [],
   "source": [
    "import pygame\n",
    "import tkinter as tkr\n",
    "from tkinter.filedialog import askdirectory\n",
    "import os\n",
    "\n",
    "musicplayer = tkr.Tk()\n",
    "musicplayer.title(\"Music Player\")\n",
    "musicplayer.geometry(\"450x350\")\n",
    "\n",
    "directory = askdirectory()\n",
    "os.chdir(directory)\n",
    "songlist = os.listdir()\n",
    "playlist = tkr.Listbox(musicplayer, font =\"Helvetica 12 bold\", bg=\"yellow\",selectmode= tkr.SINGLE)\n",
    "\n",
    "for item in songlist:\n",
    "    pos = 0\n",
    "    playlist.insert(pos, item)\n",
    "    pos = pos + 1\n",
    "\n",
    "pygame.init()\n",
    "pygame.mixer.init()\n",
    "\n",
    "def play():\n",
    "    pygame.mixer.music.load(playlist.get(tkr.ACTIVE))\n",
    "    var.set(playlist.get(tkr.ACTIVE))\n",
    "    pygame.mixer.music.play()\n",
    "\n",
    "def ExitMusicPlayer():\n",
    "    pygame.mixer.music.stop()\n",
    "\n",
    "def pause():\n",
    "    pygame.mixer.music.pause()\n",
    "\n",
    "def unpause():\n",
    "    pygame.mixer.music.unpause()\n",
    "\n",
    "Button1 = tkr.Button(musicplayer,width=5,height=3, font=\"Helvetica 12 bold\",text=\"PLAY\",command=play,bg=\"red\",fg=\"white\")\n",
    "Button2 = tkr.Button(musicplayer,width=5,height=3, font=\"Helvetica 12 bold\",text=\"STOP\",command=ExitMusicPlayer,bg=\"purple\",fg=\"white\")\n",
    "Button3 = tkr.Button(musicplayer,width=5,height=3, font=\"Helvetica 12 bold\",text=\"PAUSE\",command=pause,bg=\"green\",fg=\"white\")\n",
    "Button4 = tkr.Button(musicplayer,width=5,height=3, font=\"Helvetica 12 bold\",text=\"UNPAUSE\",command=unpause,bg=\"blue\",fg=\"white\")\n",
    "\n",
    "\n",
    "var = tkr.StringVar()\n",
    "songtitle = tkr.Label(musicplayer, font=\"Helvetica 12 bold\", textvariable=var)\n",
    "\n",
    "songtitle.pack()\n",
    "Button1.pack(fill=\"x\")\n",
    "Button2.pack(fill=\"x\")\n",
    "Button3.pack(fill=\"x\")\n",
    "Button4.pack(fill=\"x\")\n",
    "playlist.pack(fill=\"both\",expand=\"yes\")\n",
    "\n",
    "musicplayer.mainloop()\n"
   ]
  }
 ],
 "metadata": {
  "kernelspec": {
   "display_name": "Python 3",
   "language": "python",
   "name": "python3"
  },
  "language_info": {
   "codemirror_mode": {
    "name": "ipython",
    "version": 3
   },
   "file_extension": ".py",
   "mimetype": "text/x-python",
   "name": "python",
   "nbconvert_exporter": "python",
   "pygments_lexer": "ipython3",
   "version": "3.8.5"
  }
 },
 "nbformat": 4,
 "nbformat_minor": 4
}
