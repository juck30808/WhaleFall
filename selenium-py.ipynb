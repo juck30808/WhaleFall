{
 "cells": [
  {
   "cell_type": "code",
   "execution_count": null,
   "metadata": {},
   "outputs": [],
   "source": [
    "from selenium import webdriver\n",
    "\n",
    "chrome_driver_path = \"/Users/sadikturan/Drivers/chromedriver\"\n",
    "driver = webdriver.Chrome(chrome_driver_path)\n",
    "driver.get(\"https://www.n11.com/urun/next-ye-32020kt-32-hd-dahili-uydu-alicili-led-tv-1345332?magaza=bureyonsenin\")\n",
    "\n",
    "title = driver.find_element_by_class_name(\"proName\").text\n",
    "price = driver.find_element_by_class_name(\"newPrice\").find_element_by_tag_name(\"ins\").text\n",
    "searchInput = driver.find_element_by_id(\"searchData\").get_attribute(\"value\")\n",
    "link = driver.find_element_by_xpath('//*[@id=\"footer\"]/div/div[2]/div[2]/div/ul/li[2]/a').get_attribute(\"href\")\n",
    "logo = driver.find_element_by_css_selector(\".logo img\").get_attribute(\"src\")\n",
    "print(title)\n",
    "print(price)\n",
    "print(searchInput)\n",
    "print(link)\n",
    "print(logo)\n",
    "\n",
    "driver.close()"
   ]
  },
  {
   "cell_type": "code",
   "execution_count": null,
   "metadata": {},
   "outputs": [],
   "source": [
    "# https://www.python.org/\n",
    "\n",
    "{\n",
    "    0: {'time': '2021-01-13', 'name': 'Python Software Foundation - January 2021 Newsletter'}, \n",
    "    1: {'time': '2021-01-12', 'name': '2020 in Review'}, \n",
    "    2: {'time': '2021-01-04', 'name': 'Python 3.10.0a4 is now available for testing'}, \n",
    "    3: {'time': '2020-12-28', 'name': 'Election Reform Community Update'}, \n",
    "    4: {'time': '2020-12-21', 'name': 'Python 3.8.7 is now available'}\n",
    "}\n",
    "\n",
    "\n",
    "from selenium import webdriver\n",
    "\n",
    "chrome_driver_path = \"/Users/sadikturan/Drivers/chromedriver\"\n",
    "\n",
    "driver = webdriver.Chrome(chrome_driver_path)\n",
    "\n",
    "driver.get(\"https://www.python.org/\")\n",
    "\n",
    "blog_times = driver.find_elements_by_css_selector(\".blog-widget time\")\n",
    "blog_names = driver.find_elements_by_css_selector(\".blog-widget li a\")\n",
    "blogs = {}\n",
    "\n",
    "for i in range(len(blog_names)):\n",
    "    blogs[i] = {\n",
    "        \"time\": blog_times[i].text,\n",
    "        \"name\": blog_names[i].text\n",
    "    }\n",
    "\n",
    "for time in blog_times:\n",
    "    print(time.text)\n",
    "\n",
    "for name in blog_names:\n",
    "    print(name.text)\n",
    "\n",
    "print(blogs)\n",
    "\n",
    "\n",
    "\n",
    "driver.close()"
   ]
  }
 ],
 "metadata": {
  "kernelspec": {
   "display_name": "Python 3 (ipykernel)",
   "language": "python",
   "name": "python3"
  },
  "language_info": {
   "codemirror_mode": {
    "name": "ipython",
    "version": 3
   },
   "file_extension": ".py",
   "mimetype": "text/x-python",
   "name": "python",
   "nbconvert_exporter": "python",
   "pygments_lexer": "ipython3",
   "version": "3.9.7"
  }
 },
 "nbformat": 4,
 "nbformat_minor": 4
}
