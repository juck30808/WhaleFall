{
 "cells": [
  {
   "cell_type": "code",
   "execution_count": null,
   "metadata": {
    "id": "BR3JXn5HU9rX"
   },
   "outputs": [],
   "source": [
    "import pandas as pd\n",
    "import numpy as np\n",
    "import matplotlib.pyplot as plt\n",
    "\n",
    "df = pd.read_csv('input/train.csv')\n",
    "df.head()"
   ]
  },
  {
   "cell_type": "markdown",
   "metadata": {
    "id": "2xajRxW7U9sF"
   },
   "source": [
    "## Cleaning Columns"
   ]
  },
  {
   "cell_type": "code",
   "execution_count": null,
   "metadata": {
    "colab": {
     "base_uri": "https://localhost:8080/"
    },
    "id": "bItpWysqU9sJ",
    "outputId": "5c353cff-e132-4ca4-b75c-d3649ecdd5e7"
   },
   "outputs": [],
   "source": [
    "df.columns[df.isnull().sum() > 0]"
   ]
  },
  {
   "cell_type": "code",
   "execution_count": null,
   "metadata": {
    "id": "M5pnOVMsU9sW"
   },
   "outputs": [],
   "source": [
    "df.fillna(method='bfill',inplace=True)"
   ]
  },
  {
   "cell_type": "code",
   "execution_count": null,
   "metadata": {
    "colab": {
     "base_uri": "https://localhost:8080/"
    },
    "id": "EBbh8sjdU9sh",
    "outputId": "793d6f88-f687-49a1-f9d2-d4ea359611c9"
   },
   "outputs": [],
   "source": [
    "df.columns[df.isnull().sum() > 0]"
   ]
  },
  {
   "cell_type": "code",
   "execution_count": null,
   "metadata": {
    "id": "ljoFuOYvU9st"
   },
   "outputs": [],
   "source": [
    "df.fillna(method='ffill',inplace=True)"
   ]
  },
  {
   "cell_type": "code",
   "execution_count": null,
   "metadata": {
    "colab": {
     "base_uri": "https://localhost:8080/"
    },
    "id": "vSdpRINJU9s7",
    "outputId": "fee759e3-b073-495e-9da2-96bcf7de115d"
   },
   "outputs": [],
   "source": [
    "df.columns[df.isnull().sum() > 0]"
   ]
  },
  {
   "cell_type": "code",
   "execution_count": null,
   "metadata": {
    "colab": {
     "base_uri": "https://localhost:8080/"
    },
    "id": "2VeG9qEkU9tG",
    "outputId": "4b5b620b-ccb7-4e97-cbd7-f81fd0e50269"
   },
   "outputs": [],
   "source": [
    "# finding numeric and categorical columns\n",
    "Numeric_columns=df.select_dtypes(include=np.number).columns.tolist()\n",
    "categorical_col=set(df.columns).difference(set(Numeric_columns))\n",
    "# numeric cols to numeric\n",
    "print(categorical_col)"
   ]
  },
  {
   "cell_type": "code",
   "execution_count": null,
   "metadata": {
    "id": "pOmPIsQfU9tV"
   },
   "outputs": [],
   "source": [
    "df['edjefe'] = df['edjefe'].replace({'no': 0, 'yes':1}).astype(float)\n",
    "df['edjefa'] = df['edjefa'].replace({'no': 0, 'yes':1}).astype(float)"
   ]
  },
  {
   "cell_type": "code",
   "execution_count": null,
   "metadata": {
    "colab": {
     "base_uri": "https://localhost:8080/"
    },
    "id": "3ioc78SCU9ta",
    "outputId": "a22cdc19-c7c2-48e6-96b7-a2525bbba952"
   },
   "outputs": [],
   "source": [
    "# finding numeric and categorical columns\n",
    "Numeric_columns=df.select_dtypes(include=np.number).columns.tolist()\n",
    "categorical_col=set(df.columns).difference(set(Numeric_columns))\n",
    "# numeric cols to numeric\n",
    "print(categorical_col)"
   ]
  },
  {
   "cell_type": "code",
   "execution_count": null,
   "metadata": {
    "colab": {
     "base_uri": "https://localhost:8080/"
    },
    "id": "VnWeocw8U9tf",
    "outputId": "ae6c86e6-40ab-46b4-e3b5-e29ff62cddb5"
   },
   "outputs": [],
   "source": [
    "df['edjefe'].unique()"
   ]
  },
  {
   "cell_type": "code",
   "execution_count": null,
   "metadata": {
    "colab": {
     "base_uri": "https://localhost:8080/"
    },
    "id": "zzT3AQ0YU9tk",
    "outputId": "2c0cdbf2-dae7-4c29-a718-fbccb67066e9"
   },
   "outputs": [],
   "source": [
    "df['edjefa'].unique()"
   ]
  },
  {
   "cell_type": "code",
   "execution_count": null,
   "metadata": {
    "colab": {
     "base_uri": "https://localhost:8080/"
    },
    "id": "OuxZPjZzU9tp",
    "outputId": "668518b4-a4d4-45cb-93f5-d7f5c289479b"
   },
   "outputs": [],
   "source": [
    "df['edjefe'].value_counts()"
   ]
  },
  {
   "cell_type": "code",
   "execution_count": null,
   "metadata": {
    "id": "SUeLDsazU9tz"
   },
   "outputs": [],
   "source": [
    "df['dependency'] = np.sqrt(df['SQBdependency'])"
   ]
  },
  {
   "cell_type": "code",
   "execution_count": null,
   "metadata": {
    "colab": {
     "base_uri": "https://localhost:8080/"
    },
    "id": "ZGlLtv9gU9t-",
    "outputId": "3b16e8e0-53d2-4d3d-9f11-b35ede2fe604"
   },
   "outputs": [],
   "source": [
    "df.isna().sum().sum()"
   ]
  },
  {
   "cell_type": "code",
   "execution_count": null,
   "metadata": {
    "id": "mvJDRbVBU9uI"
   },
   "outputs": [],
   "source": [
    "col_drops = ['Id','idhogar']\n",
    "df.drop(col_drops,axis=1,inplace=True)"
   ]
  },
  {
   "cell_type": "code",
   "execution_count": null,
   "metadata": {
    "colab": {
     "base_uri": "https://localhost:8080/"
    },
    "id": "IcaKVSpbU9uT",
    "outputId": "90ad37d5-0ba8-47ad-c234-ad68a1364526"
   },
   "outputs": [],
   "source": [
    "# finding numeric and categorical columns\n",
    "Numeric_columns=df.select_dtypes(include=np.number).columns.tolist()\n",
    "categorical_col=set(df.columns).difference(set(Numeric_columns))\n",
    "# numeric cols to numeric\n",
    "print(categorical_col)"
   ]
  },
  {
   "cell_type": "markdown",
   "metadata": {
    "id": "PS9nP5vGU9ud"
   },
   "source": [
    "## increasing features"
   ]
  },
  {
   "cell_type": "code",
   "execution_count": null,
   "metadata": {
    "id": "RSQ9MEt5U9ug"
   },
   "outputs": [],
   "source": [
    "train_set = df"
   ]
  },
  {
   "cell_type": "code",
   "execution_count": null,
   "metadata": {
    "id": "OneyW2qyU9uu"
   },
   "outputs": [],
   "source": [
    "df['rent_per_adult'] = df['v2a1']/df['hogar_adul']\n",
    "df['rent_per_person'] = df['v2a1']/df['hhsize']\n",
    "\n",
    "df['overcrowding_room_and_bedroom'] = (df['hacdor'] + df['hacapo'])/2\n",
    "\n",
    "df['no_appliances'] = df['refrig'] + df['computer'] + df['television']\n",
    "\n",
    "df['r4h1_percent_in_male'] = df['r4h1'] / df['r4h3']\n",
    "df['r4m1_percent_in_female'] = df['r4m1'] / df['r4m3']\n",
    "df['r4h1_percent_in_total'] = df['r4h1'] / df['hhsize']\n",
    "df['r4m1_percent_in_total'] = df['r4m1'] / df['hhsize']\n",
    "df['r4t1_percent_in_total'] = df['r4t1'] / df['hhsize']\n",
    "\n",
    "df['adult'] = df['hogar_adul'] - df['hogar_mayor']\n",
    "df['dependency_count'] = train_set['hogar_nin'] + df['hogar_mayor']\n",
    "df['dependency'] = df['dependency_count'] / df['adult']\n",
    "df['child_percent'] = df['hogar_nin']/df['hogar_total']\n",
    "df['elder_percent'] = df['hogar_mayor']/df['hogar_total']\n",
    "df['adult_percent'] = df['hogar_adul']/df['hogar_total']\n",
    "\n",
    "df['rent_per_bedroom'] = df['v2a1']/df['bedrooms']\n",
    "df['adults_per_bedroom'] = df['adult']/df['bedrooms']\n",
    "df['child_per_bedroom'] = df['hogar_nin']/df['bedrooms']\n",
    "df['male_per_bedroom'] = df['r4h3']/df['bedrooms']\n",
    "\n",
    "df['female_per_bedroom'] = df['r4m3']/df['bedrooms']\n",
    "df['bedrooms_per_person_household'] = df['hhsize']/df['bedrooms']\n",
    "\n",
    "df['tablet_per_person_household'] = df['v18q1']/df['hhsize']\n",
    "df['phone_per_person_household'] = df['qmobilephone']/df['hhsize']\n",
    "\n",
    "df['age_12_19'] = df['hogar_nin'] - df['r4t1']\n",
    "\n",
    "df['rent_per_room'] = df['v2a1']/df['rooms']\n",
    "df['bedroom_per_room'] = df['bedrooms']/df['rooms']\n",
    "df['elder_per_room'] = df['hogar_mayor']/df['rooms']\n",
    "df['adults_per_room'] = df['adult']/df['rooms']\n",
    "df['child_per_room'] = df['hogar_nin']/df['rooms']\n",
    "df['male_per_room'] = df['r4h3']/df['rooms']\n",
    "df['female_per_room'] = df['r4m3']/df['rooms']\n",
    "df['room_per_person_household'] = df['hhsize']/df['rooms']\n",
    "df['escolari_age'] = df['escolari']/df['age']\n",
    "\n",
    "df['rez_esc_escolari'] = df['rez_esc']/df['escolari']\n",
    "df['rez_esc_r4t1'] = df['rez_esc']/df['r4t1']\n",
    "df['rez_esc_r4t2'] = df['rez_esc']/df['r4t2']\n",
    "df['rez_esc_r4t3'] = df['rez_esc']/df['r4t3']\n",
    "df['rez_esc_age'] = df['rez_esc']/df['age']\n"
   ]
  },
  {
   "cell_type": "code",
   "execution_count": null,
   "metadata": {
    "colab": {
     "base_uri": "https://localhost:8080/"
    },
    "id": "tjXBDj-nU9vr",
    "outputId": "a1fe6bc8-f883-4cf7-bcfe-eae9a2f8c14f"
   },
   "outputs": [],
   "source": [
    "!pip install xgboost"
   ]
  },
  {
   "cell_type": "code",
   "execution_count": null,
   "metadata": {
    "colab": {
     "base_uri": "https://localhost:8080/"
    },
    "id": "bADfa1wTU9wC",
    "outputId": "bf557044-5ff8-4e2e-d1c1-f0ed39713f04"
   },
   "outputs": [],
   "source": [
    "!pip install lightgbm"
   ]
  },
  {
   "cell_type": "code",
   "execution_count": null,
   "metadata": {
    "colab": {
     "base_uri": "https://localhost:8080/"
    },
    "id": "nc6vcvs_U9wP",
    "outputId": "251c7a71-bde5-442f-850f-e4c431ae1557"
   },
   "outputs": [],
   "source": [
    "!pip install bayesian-optimization"
   ]
  },
  {
   "cell_type": "code",
   "execution_count": null,
   "metadata": {
    "id": "b0J0fSNyU9u-"
   },
   "outputs": [],
   "source": [
    "from lightgbm import LGBMClassifier"
   ]
  },
  {
   "cell_type": "code",
   "execution_count": null,
   "metadata": {
    "id": "C0e2T5s_U9vR"
   },
   "outputs": [],
   "source": [
    "from xgboost import XGBClassifier"
   ]
  },
  {
   "cell_type": "code",
   "execution_count": null,
   "metadata": {
    "id": "RbJRp_xdU9ve"
   },
   "outputs": [],
   "source": [
    "from sklearn.model_selection import cross_val_score\n",
    "from bayes_opt import BayesianOptimization"
   ]
  },
  {
   "cell_type": "code",
   "execution_count": null,
   "metadata": {
    "id": "DycqVv83U9wo"
   },
   "outputs": [],
   "source": [
    "x_1 = df.drop('Target',axis=1)"
   ]
  },
  {
   "cell_type": "code",
   "execution_count": null,
   "metadata": {
    "colab": {
     "base_uri": "https://localhost:8080/"
    },
    "id": "UGyTJ72cU9wt",
    "outputId": "e5cb7fa8-5aec-42e7-bd1f-bdaa187ae79b"
   },
   "outputs": [],
   "source": [
    "df.shape"
   ]
  },
  {
   "cell_type": "code",
   "execution_count": null,
   "metadata": {
    "colab": {
     "base_uri": "https://localhost:8080/"
    },
    "id": "9BbX-lrvU9w3",
    "outputId": "71140855-b723-4ee5-b9cc-ab5ce3cb1a53"
   },
   "outputs": [],
   "source": [
    "x_1.shape"
   ]
  },
  {
   "cell_type": "code",
   "execution_count": null,
   "metadata": {
    "id": "DUw_r-gqU9w9"
   },
   "outputs": [],
   "source": [
    "y = df['Target']"
   ]
  },
  {
   "cell_type": "code",
   "execution_count": null,
   "metadata": {
    "colab": {
     "base_uri": "https://localhost:8080/"
    },
    "id": "9JE_gheOVqxG",
    "outputId": "94f0879b-a3e8-4750-81d6-11a5cb2361ed"
   },
   "outputs": [],
   "source": [
    "!pip install catboost"
   ]
  },
  {
   "cell_type": "code",
   "execution_count": null,
   "metadata": {
    "id": "07-xzJBHV0FL"
   },
   "outputs": [],
   "source": [
    "from catboost import CatBoostClassifier"
   ]
  },
  {
   "cell_type": "code",
   "execution_count": null,
   "metadata": {
    "id": "CotxJMnNU9xN"
   },
   "outputs": [],
   "source": [
    "from sklearn.linear_model import LogisticRegression\n",
    "from sklearn.model_selection import RepeatedKFold\n",
    "from sklearn.ensemble import StackingClassifier\n",
    "from sklearn.model_selection import cross_validate,cross_val_score"
   ]
  },
  {
   "cell_type": "markdown",
   "metadata": {
    "id": "y-gC_Wx_nCQ8"
   },
   "source": [
    "## Optimizing Xgboost"
   ]
  },
  {
   "cell_type": "code",
   "execution_count": null,
   "metadata": {
    "id": "oHpUd-SnnCQ8"
   },
   "outputs": [],
   "source": [
    "def xgb_cv(n_estimators, max_depth, gamma, subsample, data, targets):\n",
    "    estimator = XGBClassifier(\n",
    "        n_estimators=n_estimators,\n",
    "        max_depth = max_depth,\n",
    "        gamma = gamma,\n",
    "        # min_child_weight=min_child_weight,\n",
    "        subsample = subsample,\n",
    "        random_state = 2,\n",
    "    )\n",
    "    cval = cross_val_score(estimator, data, targets\n",
    "                          , cv=5)\n",
    "    return cval.mean()"
   ]
  },
  {
   "cell_type": "code",
   "execution_count": null,
   "metadata": {
    "id": "_3M8P4y7nCQ9"
   },
   "outputs": [],
   "source": [
    "def optimize_xgb(data, targets):\n",
    "    def xgb_crossval(n_estimators, max_depth, gamma, subsample):\n",
    "        return xgb_cv(\n",
    "            n_estimators=int(n_estimators),\n",
    "            max_depth = int(max_depth),\n",
    "            gamma = gamma,\n",
    "            # min_child_weight=min_child_weight,\n",
    "            subsample=subsample,\n",
    "            data=data,\n",
    "            targets=targets,\n",
    "        )\n",
    "\n",
    "    optimizer = BayesianOptimization(\n",
    "        f=xgb_crossval,\n",
    "        pbounds={\n",
    "            \"n_estimators\": (100, 500),\n",
    "            \"max_depth\": (6,15),\n",
    "            \"gamma\": (0,10),\n",
    "            # \"min_child_weight\": (0,10),\n",
    "            \"subsample\": (0.8,1.0)\n",
    "        },\n",
    "        random_state=1234,\n",
    "        verbose=2\n",
    "    )\n",
    "    optimizer.maximize(n_iter=25, init_points=10)\n",
    "\n",
    "    print(\"Final result:\", optimizer.max)"
   ]
  },
  {
   "cell_type": "code",
   "execution_count": null,
   "metadata": {
    "id": "p2AwMUrcnCQ9"
   },
   "outputs": [],
   "source": [
    "print(\"--- Optimizing XGBoost ---\")\n",
    "optimize_xgb(x_1, y)"
   ]
  },
  {
   "cell_type": "markdown",
   "metadata": {
    "id": "_HhjyanknCQ9"
   },
   "source": [
    "## Optimizing Catboost"
   ]
  },
  {
   "cell_type": "code",
   "execution_count": null,
   "metadata": {
    "id": "j77gY_zanCQ-"
   },
   "outputs": [],
   "source": [
    "def cb_cv(n_estimators, depth,data, targets):\n",
    "    estimator = CatBoostClassifier(\n",
    "        n_estimators=n_estimators,\n",
    "#         learning_rate=learning_rate,\n",
    "        depth=depth,\n",
    "        random_state = 2,\n",
    "        verbose = 0,\n",
    "    )\n",
    "    cval = cross_val_score(estimator, data, targets,\n",
    "                            cv=5)\n",
    "    return cval.mean()"
   ]
  },
  {
   "cell_type": "code",
   "execution_count": null,
   "metadata": {
    "id": "NwkFlJgDnCQ-"
   },
   "outputs": [],
   "source": [
    "def optimize_cb(data, targets):\n",
    "    def cb_crossval(n_estimators, depth):\n",
    "        return cb_cv(\n",
    "            n_estimators=int(n_estimators),\n",
    "#             learning_rate = learning_rate,\n",
    "            depth = int(depth),\n",
    "            data=data,\n",
    "            targets=targets,\n",
    "        )\n",
    "\n",
    "    optimizer = BayesianOptimization(\n",
    "        f=cb_crossval,\n",
    "        pbounds={\n",
    "            \"n_estimators\": (200, 600),\n",
    "#             \"learning_rate\": (0.01,10),\n",
    "            \"depth\": (4,16),\n",
    "        },\n",
    "        random_state=1234,\n",
    "        verbose=2\n",
    "    )\n",
    "    optimizer.maximize(n_iter=25, init_points=20)\n",
    "\n",
    "    print(\"Final result:\", optimizer.max)\n"
   ]
  },
  {
   "cell_type": "code",
   "execution_count": null,
   "metadata": {
    "id": "NxJ-OcJ6nCQ_"
   },
   "outputs": [],
   "source": [
    "print(\"--- Optimizing Catboost ---\")\n",
    "optimize_cb(x_1, y)"
   ]
  },
  {
   "cell_type": "markdown",
   "metadata": {
    "id": "h7gLEyg1nCQ_"
   },
   "source": [
    "## Optimizing LGBM"
   ]
  },
  {
   "cell_type": "code",
   "execution_count": null,
   "metadata": {
    "id": "sCQizVNPnCQ_"
   },
   "outputs": [],
   "source": [
    "def lgb_cv(n_estimators, num_leaves, min_child_samples, subsample, data, targets):\n",
    "    estimator = LGBMClassifier(\n",
    "        n_estimators=n_estimators,\n",
    "        num_leaves = num_leaves,\n",
    "        min_child_samples=min_child_samples,\n",
    "        subsample = subsample,\n",
    "        random_state = 2\n",
    "    )\n",
    "    cval = cross_val_score(estimator, data, targets, cv=5)\n",
    "    return cval.mean()"
   ]
  },
  {
   "cell_type": "code",
   "execution_count": null,
   "metadata": {
    "id": "GoaSvU_-nCQ_"
   },
   "outputs": [],
   "source": [
    "def optimize_lgb(data, targets):\n",
    "    def lgb_crossval(n_estimators, num_leaves, min_child_samples, subsample):\n",
    "        return lgb_cv(\n",
    "            n_estimators=int(n_estimators),\n",
    "            num_leaves = int(num_leaves),\n",
    "            min_child_samples=int(min_child_samples),\n",
    "            subsample=subsample,\n",
    "            data=data,\n",
    "            targets=targets,\n",
    "        )\n",
    "\n",
    "    optimizer = BayesianOptimization(\n",
    "        f=lgb_crossval,\n",
    "        pbounds={\n",
    "            \"n_estimators\": (100,500),\n",
    "            \"num_leaves\": (30,80),\n",
    "            \"min_child_samples\": (5,30),\n",
    "            \"subsample\": (0.6,1.0)\n",
    "        },\n",
    "        random_state=1234,\n",
    "        verbose=2\n",
    "    )\n",
    "    optimizer.maximize(n_iter=25, init_points=20)\n",
    "\n",
    "    print(\"Final result:\", optimizer.max)"
   ]
  },
  {
   "cell_type": "code",
   "execution_count": null,
   "metadata": {
    "id": "TicgIia4nCRA"
   },
   "outputs": [],
   "source": [
    "print(\"--- Optimizing Light GBM ---\")\n",
    "optimize_lgb(x_1, y)"
   ]
  },
  {
   "cell_type": "code",
   "execution_count": null,
   "metadata": {
    "id": "_QlkG1AonCRA"
   },
   "outputs": [],
   "source": []
  },
  {
   "cell_type": "markdown",
   "metadata": {
    "id": "yg3ejKUBnCRA"
   },
   "source": [
    "## Model Fitting"
   ]
  },
  {
   "cell_type": "code",
   "execution_count": null,
   "metadata": {
    "id": "Ry94-c0rnCRB",
    "outputId": "78ef3eda-0e0d-4c4f-fcb2-bfde4278977e"
   },
   "outputs": [],
   "source": [
    "Xg=XGBClassifier()\n",
    "Lgbm=LGBMClassifier(n_estimators=100,learning_rate=0.1,random_state=42,num_leaves=200)\n",
    "    \n",
    "Cataboost=CatBoostClassifier(depth=int(9.253),n_estimators=int(514.1))\n",
    "estimators = [('Cataboost', Cataboost), ('Xg', Xg), ('Lgbm', Lgbm)]\n",
    "\n",
    "clf = StackingClassifier(estimators=estimators)"
   ]
  },
  {
   "cell_type": "code",
   "execution_count": null,
   "metadata": {
    "id": "qo-7u2A-nCRB"
   },
   "outputs": [],
   "source": [
    "from sklearn.model_selection import train_test_split"
   ]
  },
  {
   "cell_type": "code",
   "execution_count": null,
   "metadata": {
    "id": "qbHtUdz3nCRC"
   },
   "outputs": [],
   "source": [
    "x_train,x_test,y_train,y_test = train_test_split(x_1,y,random_state=42)"
   ]
  },
  {
   "cell_type": "code",
   "execution_count": null,
   "metadata": {
    "id": "y126p8eOnCRC",
    "outputId": "789ba820-8f54-4ed0-e5c1-240946b554fd"
   },
   "outputs": [],
   "source": [
    "clf.fit(x_train,y_train)"
   ]
  },
  {
   "cell_type": "code",
   "execution_count": null,
   "metadata": {
    "id": "q-XHijJ7nCRD",
    "outputId": "4eba132d-7fae-4b0f-f480-2a224343ad18"
   },
   "outputs": [],
   "source": [
    "clf.score(x_test,y_test)"
   ]
  },
  {
   "cell_type": "code",
   "execution_count": null,
   "metadata": {
    "id": "Vdty2GnQnCRD"
   },
   "outputs": [],
   "source": []
  },
  {
   "cell_type": "code",
   "execution_count": null,
   "metadata": {
    "id": "fPkLTy3onCRD"
   },
   "outputs": [],
   "source": []
  },
  {
   "cell_type": "code",
   "execution_count": null,
   "metadata": {
    "id": "ckLilO-knCRE"
   },
   "outputs": [],
   "source": []
  },
  {
   "cell_type": "code",
   "execution_count": null,
   "metadata": {
    "id": "9yeE4yvAnCRE"
   },
   "outputs": [],
   "source": []
  }
 ],
 "metadata": {
  "colab": {
   "name": "Costa rican household poverty prediction.ipynb",
   "provenance": []
  },
  "kernelspec": {
   "display_name": "Python 3 (ipykernel)",
   "language": "python",
   "name": "python3"
  },
  "language_info": {
   "codemirror_mode": {
    "name": "ipython",
    "version": 3
   },
   "file_extension": ".py",
   "mimetype": "text/x-python",
   "name": "python",
   "nbconvert_exporter": "python",
   "pygments_lexer": "ipython3",
   "version": "3.9.7"
  }
 },
 "nbformat": 4,
 "nbformat_minor": 1
}
