{
 "cells": [
  {
   "cell_type": "markdown",
   "id": "9fc79c3f",
   "metadata": {},
   "source": [
    "## 13.11 Bar Plots with Seaborn"
   ]
  },
  {
   "cell_type": "code",
   "execution_count": 1,
   "id": "ebd27475",
   "metadata": {
    "hide_input": false
   },
   "outputs": [
    {
     "data": {
      "text/html": [
       "<div>\n",
       "<style scoped>\n",
       "    .dataframe tbody tr th:only-of-type {\n",
       "        vertical-align: middle;\n",
       "    }\n",
       "\n",
       "    .dataframe tbody tr th {\n",
       "        vertical-align: top;\n",
       "    }\n",
       "\n",
       "    .dataframe thead th {\n",
       "        text-align: right;\n",
       "    }\n",
       "</style>\n",
       "<table border=\"1\" class=\"dataframe\">\n",
       "  <thead>\n",
       "    <tr style=\"text-align: right;\">\n",
       "      <th></th>\n",
       "      <th>year</th>\n",
       "      <th>quarters</th>\n",
       "      <th>sale1</th>\n",
       "      <th>sale2</th>\n",
       "      <th>sale3</th>\n",
       "    </tr>\n",
       "  </thead>\n",
       "  <tbody>\n",
       "    <tr>\n",
       "      <th>0</th>\n",
       "      <td>2010</td>\n",
       "      <td>A</td>\n",
       "      <td>200</td>\n",
       "      <td>258</td>\n",
       "      <td>592</td>\n",
       "    </tr>\n",
       "    <tr>\n",
       "      <th>1</th>\n",
       "      <td>2010</td>\n",
       "      <td>B</td>\n",
       "      <td>328</td>\n",
       "      <td>664</td>\n",
       "      <td>606</td>\n",
       "    </tr>\n",
       "    <tr>\n",
       "      <th>2</th>\n",
       "      <td>2010</td>\n",
       "      <td>C</td>\n",
       "      <td>870</td>\n",
       "      <td>249</td>\n",
       "      <td>918</td>\n",
       "    </tr>\n",
       "    <tr>\n",
       "      <th>3</th>\n",
       "      <td>2010</td>\n",
       "      <td>D</td>\n",
       "      <td>209</td>\n",
       "      <td>971</td>\n",
       "      <td>629</td>\n",
       "    </tr>\n",
       "    <tr>\n",
       "      <th>4</th>\n",
       "      <td>2011</td>\n",
       "      <td>A</td>\n",
       "      <td>348</td>\n",
       "      <td>863</td>\n",
       "      <td>929</td>\n",
       "    </tr>\n",
       "  </tbody>\n",
       "</table>\n",
       "</div>"
      ],
      "text/plain": [
       "   year quarters  sale1  sale2  sale3\n",
       "0  2010        A    200    258    592\n",
       "1  2010        B    328    664    606\n",
       "2  2010        C    870    249    918\n",
       "3  2010        D    209    971    629\n",
       "4  2011        A    348    863    929"
      ]
     },
     "execution_count": 1,
     "metadata": {},
     "output_type": "execute_result"
    }
   ],
   "source": [
    "import pandas as pd\n",
    "import seaborn as sns\n",
    "frame = pd.read_csv('input/yearsale.csv' )\n",
    "frame.head()"
   ]
  },
  {
   "cell_type": "markdown",
   "id": "b13bfa58",
   "metadata": {},
   "source": [
    "We can use seaborn library to create a bar plot using the function **sns.barplot()**:"
   ]
  },
  {
   "cell_type": "code",
   "execution_count": 2,
   "id": "d2247aff",
   "metadata": {
    "hide_input": false
   },
   "outputs": [
    {
     "data": {
      "text/plain": [
       "<AxesSubplot:>"
      ]
     },
     "execution_count": 2,
     "metadata": {},
     "output_type": "execute_result"
    },
    {
     "data": {
      "image/png": "[encoded data removed]",
      "text/plain": [
       "<Figure size 432x288 with 1 Axes>"
      ]
     },
     "metadata": {
      "needs_background": "light"
     },
     "output_type": "display_data"
    }
   ],
   "source": [
    "sns.barplot(data = frame)\n",
    "sns.barplot(data = frame[['sale1','sale2','sale3']])\n",
    "sns.barplot(data = frame[['sale1','sale2','sale3']], ci = False) #To remove confidence interval"
   ]
  },
  {
   "cell_type": "code",
   "execution_count": 3,
   "id": "5cef69ae",
   "metadata": {},
   "outputs": [
    {
     "data": {
      "text/plain": [
       "<AxesSubplot:xlabel='year', ylabel='sale1'>"
      ]
     },
     "execution_count": 3,
     "metadata": {},
     "output_type": "execute_result"
    },
    {
     "data": {
      "image/png": "[encoded data removed]",
      "text/plain": [
       "<Figure size 432x288 with 1 Axes>"
      ]
     },
     "metadata": {
      "needs_background": "light"
     },
     "output_type": "display_data"
    }
   ],
   "source": [
    "sns.barplot(x= frame.year, y = frame.sale1, ci = False)  # add change"
   ]
  },
  {
   "cell_type": "code",
   "execution_count": 4,
   "id": "af5a09d2",
   "metadata": {
    "hide_input": false
   },
   "outputs": [
    {
     "data": {
      "text/plain": [
       "<AxesSubplot:xlabel='year', ylabel='sale1'>"
      ]
     },
     "execution_count": 4,
     "metadata": {},
     "output_type": "execute_result"
    },
    {
     "data": {
      "image/png": "[encoded data removed]",
      "text/plain": [
       "<Figure size 432x288 with 1 Axes>"
      ]
     },
     "metadata": {
      "needs_background": "light"
     },
     "output_type": "display_data"
    }
   ],
   "source": [
    "sns.barplot(x= 'year', y = 'sale1', data= frame, ci = False)"
   ]
  },
  {
   "cell_type": "markdown",
   "id": "20f750c7",
   "metadata": {},
   "source": [
    "We can also you pass x and y using **dataframe indexing**, like this:"
   ]
  },
  {
   "cell_type": "code",
   "execution_count": 5,
   "id": "039e81b2",
   "metadata": {
    "hide_input": false
   },
   "outputs": [
    {
     "data": {
      "text/plain": [
       "<AxesSubplot:xlabel='year', ylabel='sale1'>"
      ]
     },
     "execution_count": 5,
     "metadata": {},
     "output_type": "execute_result"
    },
    {
     "data": {
      "image/png": "[encoded data removed]",
      "text/plain": [
       "<Figure size 432x288 with 1 Axes>"
      ]
     },
     "metadata": {
      "needs_background": "light"
     },
     "output_type": "display_data"
    }
   ],
   "source": [
    "sns.barplot(x= frame['year'], y = frame['sale1'], ci = False)"
   ]
  },
  {
   "cell_type": "markdown",
   "id": "58c9edfd",
   "metadata": {},
   "source": [
    "We can create a horizontal bar plot in seaborn simply by adding the argument **orient = 'h'**:"
   ]
  },
  {
   "cell_type": "code",
   "execution_count": 6,
   "id": "8adce658",
   "metadata": {
    "hide_input": false
   },
   "outputs": [
    {
     "data": {
      "text/plain": [
       "<AxesSubplot:xlabel='sale1', ylabel='year'>"
      ]
     },
     "execution_count": 6,
     "metadata": {},
     "output_type": "execute_result"
    },
    {
     "data": {
      "image/png": "[encoded data removed]",
      "text/plain": [
       "<Figure size 432x288 with 1 Axes>"
      ]
     },
     "metadata": {
      "needs_background": "light"
     },
     "output_type": "display_data"
    }
   ],
   "source": [
    "sns.barplot( x = frame['sale1'], y= frame['year'], orient = 'h', ci= False)"
   ]
  },
  {
   "cell_type": "markdown",
   "id": "dffd2356",
   "metadata": {},
   "source": [
    "We can also use the **hue** option (which enables us to split the bars by an additional categorical variable). Here we splitted the bars by the categorical variable 'quarters':"
   ]
  },
  {
   "cell_type": "code",
   "execution_count": 7,
   "id": "c419dda0",
   "metadata": {
    "hide_input": false,
    "scrolled": true
   },
   "outputs": [
    {
     "data": {
      "text/plain": [
       "<AxesSubplot:xlabel='year', ylabel='sale1'>"
      ]
     },
     "execution_count": 7,
     "metadata": {},
     "output_type": "execute_result"
    },
    {
     "data": {
      "image/png": "[encoded data removed]",
      "text/plain": [
       "<Figure size 432x288 with 1 Axes>"
      ]
     },
     "metadata": {
      "needs_background": "light"
     },
     "output_type": "display_data"
    }
   ],
   "source": [
    "sns.barplot( x= frame['year'], y = frame['sale1'], hue = frame['quarters'])"
   ]
  }
 ],
 "metadata": {
  "kernelspec": {
   "display_name": "Python 3 (ipykernel)",
   "language": "python",
   "name": "python3"
  },
  "language_info": {
   "codemirror_mode": {
    "name": "ipython",
    "version": 3
   },
   "file_extension": ".py",
   "mimetype": "text/x-python",
   "name": "python",
   "nbconvert_exporter": "python",
   "pygments_lexer": "ipython3",
   "version": "3.9.7"
  }
 },
 "nbformat": 4,
 "nbformat_minor": 5
}
