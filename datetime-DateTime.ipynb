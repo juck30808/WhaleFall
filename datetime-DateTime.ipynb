{
 "cells": [
  {
   "cell_type": "markdown",
   "id": "f3b35b56",
   "metadata": {},
   "source": [
    "## Non-Function"
   ]
  },
  {
   "cell_type": "code",
   "execution_count": 1,
   "id": "c457aac3",
   "metadata": {
    "scrolled": false
   },
   "outputs": [
    {
     "name": "stdout",
     "output_type": "stream",
     "text": [
      "Enter year: 12\n",
      "Enter month: 3\n",
      "Enter day: 1855\n",
      "Entered Date: 1855/3/12\n"
     ]
    }
   ],
   "source": [
    "year = input('Enter year: ')\n",
    "month = input('Enter month: ')\n",
    "day=input('Enter day: ')\n",
    "print(f'Entered Date: {day}/{month}/{year}')"
   ]
  },
  {
   "cell_type": "code",
   "execution_count": null,
   "id": "94c7b02c",
   "metadata": {},
   "outputs": [],
   "source": []
  },
  {
   "cell_type": "markdown",
   "id": "05dac229",
   "metadata": {},
   "source": [
    "## NOW"
   ]
  },
  {
   "cell_type": "code",
   "execution_count": 5,
   "id": "09afb753",
   "metadata": {},
   "outputs": [
    {
     "data": {
      "text/plain": [
       "datetime.datetime(2021, 12, 28, 11, 29, 13, 188838)"
      ]
     },
     "execution_count": 5,
     "metadata": {},
     "output_type": "execute_result"
    }
   ],
   "source": [
    "from datetime import datetime\n",
    "time_now = datetime.now()\n",
    "time_now"
   ]
  },
  {
   "cell_type": "code",
   "execution_count": 6,
   "id": "d15c2b4c",
   "metadata": {},
   "outputs": [
    {
     "data": {
      "text/plain": [
       "(2021, 12, 28, 11)"
      ]
     },
     "execution_count": 6,
     "metadata": {},
     "output_type": "execute_result"
    }
   ],
   "source": [
    "time_now.year, time_now.month, time_now.day, time_now.hour"
   ]
  },
  {
   "cell_type": "markdown",
   "id": "b8f65fd2",
   "metadata": {},
   "source": [
    "## Add"
   ]
  },
  {
   "cell_type": "code",
   "execution_count": 4,
   "id": "1bb61439",
   "metadata": {},
   "outputs": [
    {
     "data": {
      "text/plain": [
       "datetime.timedelta(days=394)"
      ]
     },
     "execution_count": 4,
     "metadata": {},
     "output_type": "execute_result"
    }
   ],
   "source": [
    "time1 = datetime(2021, 9, 15)\n",
    "time2 = datetime(2022, 10, 14)\n",
    "time_dif = time2 - time1\n",
    "time_dif"
   ]
  },
  {
   "cell_type": "code",
   "execution_count": 5,
   "id": "ffd8408a",
   "metadata": {},
   "outputs": [
    {
     "data": {
      "text/plain": [
       "394"
      ]
     },
     "execution_count": 5,
     "metadata": {},
     "output_type": "execute_result"
    }
   ],
   "source": [
    "time_dif.days"
   ]
  },
  {
   "cell_type": "code",
   "execution_count": 7,
   "id": "7b19791f",
   "metadata": {},
   "outputs": [
    {
     "data": {
      "text/plain": [
       "datetime.datetime(2021, 8, 28, 0, 0)"
      ]
     },
     "execution_count": 7,
     "metadata": {},
     "output_type": "execute_result"
    }
   ],
   "source": [
    "from datetime import timedelta\n",
    "time1 + timedelta(23)\n",
    "time1 - timedelta(18)"
   ]
  },
  {
   "cell_type": "code",
   "execution_count": null,
   "id": "04f78196",
   "metadata": {},
   "outputs": [],
   "source": []
  },
  {
   "cell_type": "markdown",
   "id": "62ed9a15",
   "metadata": {},
   "source": [
    "## datetime.datetime"
   ]
  },
  {
   "cell_type": "code",
   "execution_count": 2,
   "id": "b5a32fac",
   "metadata": {
    "scrolled": false
   },
   "outputs": [
    {
     "name": "stdout",
     "output_type": "stream",
     "text": [
      "2012-06-12 00:00:00\n"
     ]
    }
   ],
   "source": [
    "import datetime\n",
    "x=datetime.datetime(2012, 6, 12)\n",
    "print(x)"
   ]
  },
  {
   "cell_type": "code",
   "execution_count": 3,
   "id": "83626207",
   "metadata": {},
   "outputs": [
    {
     "name": "stdout",
     "output_type": "stream",
     "text": [
      "1993-05-10 00:00:00\n"
     ]
    }
   ],
   "source": [
    "from datetime import datetime\n",
    "a= datetime(year=1993, month=5, day=10)\n",
    "print(a)"
   ]
  },
  {
   "cell_type": "code",
   "execution_count": 4,
   "id": "3850a8d0",
   "metadata": {},
   "outputs": [
    {
     "name": "stdout",
     "output_type": "stream",
     "text": [
      "2013-05-20\n",
      "<class 'datetime.date'>\n"
     ]
    }
   ],
   "source": [
    "from datetime import date\n",
    "\n",
    "d1 = date(2013,5,20)\n",
    "\n",
    "print(d1)\n",
    "\n",
    "print(type(d1))\n"
   ]
  },
  {
   "cell_type": "markdown",
   "id": "2aa2b8f4",
   "metadata": {},
   "source": [
    "## datetime.date"
   ]
  },
  {
   "cell_type": "code",
   "execution_count": 5,
   "id": "20066257",
   "metadata": {},
   "outputs": [
    {
     "name": "stdout",
     "output_type": "stream",
     "text": [
      "3\n"
     ]
    }
   ],
   "source": [
    "import datetime\n",
    "today = datetime.date.today()\n",
    "print(today.weekday())"
   ]
  },
  {
   "cell_type": "code",
   "execution_count": 6,
   "id": "15c455d2",
   "metadata": {},
   "outputs": [
    {
     "name": "stdout",
     "output_type": "stream",
     "text": [
      "2020-12-04\n"
     ]
    }
   ],
   "source": [
    "import datetime\n",
    "date_string = '2020-12-04'\n",
    "date_object = datetime.date.fromisoformat(date_string)\n",
    "time_delta = datetime.timedelta(days=5)\n",
    "print(date_object)"
   ]
  },
  {
   "cell_type": "code",
   "execution_count": 7,
   "id": "3710a8ef",
   "metadata": {},
   "outputs": [
    {
     "name": "stdout",
     "output_type": "stream",
     "text": [
      "-349 days, 0:00:00\n"
     ]
    }
   ],
   "source": [
    "new_year = datetime.date(2021,1,1)\n",
    "days_remaining = new_year - today\n",
    "print(days_remaining)"
   ]
  },
  {
   "cell_type": "code",
   "execution_count": 8,
   "id": "b8b169c3",
   "metadata": {},
   "outputs": [
    {
     "name": "stdout",
     "output_type": "stream",
     "text": [
      "2020-01-27 12:44:12.010000\n"
     ]
    }
   ],
   "source": [
    "import datetime\n",
    "date_time = datetime.datetime(2020,1,22,12,44,12,10000)\n",
    "time_delta = datetime.timedelta(days=5)\n",
    "print(date_time + time_delta)"
   ]
  },
  {
   "cell_type": "code",
   "execution_count": 9,
   "id": "9fedacd8",
   "metadata": {},
   "outputs": [
    {
     "name": "stdout",
     "output_type": "stream",
     "text": [
      "2021-12-16\n"
     ]
    }
   ],
   "source": [
    "#- Capture Today's Date\n",
    "today = datetime.date.today()\n",
    "print(today)"
   ]
  },
  {
   "cell_type": "code",
   "execution_count": 10,
   "id": "98e68cab",
   "metadata": {},
   "outputs": [
    {
     "name": "stdout",
     "output_type": "stream",
     "text": [
      "86\n"
     ]
    }
   ],
   "source": [
    "#- Calculate how many days left until your birthday\n",
    "birthday = datetime.date(2022,3,12)\n",
    "days_remaining = birthday - today\n",
    "print(days_remaining.days)"
   ]
  },
  {
   "cell_type": "code",
   "execution_count": 11,
   "id": "2509da46",
   "metadata": {
    "scrolled": true
   },
   "outputs": [
    {
     "name": "stdout",
     "output_type": "stream",
     "text": [
      "2020-12-04\n"
     ]
    }
   ],
   "source": [
    "# - Create a new variable today_string = \"2020-12-04\"\n",
    "today_string = \"2020-12-04\"\n",
    "date_obj = datetime.date.fromisoformat(today_string)\n",
    "print(date_obj)"
   ]
  },
  {
   "cell_type": "code",
   "execution_count": 12,
   "id": "60f3e172",
   "metadata": {},
   "outputs": [
    {
     "name": "stdout",
     "output_type": "stream",
     "text": [
      "Date is:  1998-07-19\n"
     ]
    }
   ],
   "source": [
    "from datetime import date\n",
    "mydate=date(year=1998, month=7, day=19)\n",
    "print(\"Date is: \",mydate)"
   ]
  },
  {
   "cell_type": "code",
   "execution_count": null,
   "id": "832a03ea",
   "metadata": {},
   "outputs": [],
   "source": []
  },
  {
   "cell_type": "markdown",
   "id": "43956ea4",
   "metadata": {},
   "source": [
    "## time"
   ]
  },
  {
   "cell_type": "code",
   "execution_count": 13,
   "id": "b7cf0fe0",
   "metadata": {},
   "outputs": [
    {
     "data": {
      "text/plain": [
       "datetime.time(12, 30, 45)"
      ]
     },
     "execution_count": 13,
     "metadata": {},
     "output_type": "execute_result"
    }
   ],
   "source": [
    "from datetime import time\n",
    "mytime=time(hour=12, minute=30, second=45)\n",
    "mytime"
   ]
  },
  {
   "cell_type": "code",
   "execution_count": 14,
   "id": "b1ff87c5",
   "metadata": {},
   "outputs": [
    {
     "data": {
      "text/plain": [
       "datetime.time(0, 15)"
      ]
     },
     "execution_count": 14,
     "metadata": {},
     "output_type": "execute_result"
    }
   ],
   "source": [
    "mytime=time(minute=15)\n",
    "mytime"
   ]
  },
  {
   "cell_type": "code",
   "execution_count": 15,
   "id": "3afcb67b",
   "metadata": {},
   "outputs": [
    {
     "data": {
      "text/plain": [
       "datetime.time(12, 30, 45)"
      ]
     },
     "execution_count": 15,
     "metadata": {},
     "output_type": "execute_result"
    }
   ],
   "source": [
    "mytime=time(hour=12,minute=30,second=45)\n",
    "mytime\n",
    "#mytime.hour\n",
    "#mytime.minute\n",
    "#mytime.second"
   ]
  },
  {
   "cell_type": "markdown",
   "id": "ed6c99a0",
   "metadata": {},
   "source": [
    "## datetime.timedelta"
   ]
  },
  {
   "cell_type": "code",
   "execution_count": 16,
   "id": "e2e5b788",
   "metadata": {},
   "outputs": [
    {
     "data": {
      "text/plain": [
       "datetime.datetime(2022, 3, 16, 16, 33, 56, 106401)"
      ]
     },
     "execution_count": 16,
     "metadata": {},
     "output_type": "execute_result"
    }
   ],
   "source": [
    "from datetime import datetime, timedelta\n",
    "\n",
    "todays_date=datetime.now()\n",
    "dateafter_months=todays_date+timedelta(days=90)\n",
    "dateafter_months"
   ]
  },
  {
   "cell_type": "code",
   "execution_count": 17,
   "id": "bc00b623",
   "metadata": {},
   "outputs": [
    {
     "data": {
      "text/plain": [
       "datetime.datetime(2021, 9, 17, 16, 33, 56, 106401)"
      ]
     },
     "execution_count": 17,
     "metadata": {},
     "output_type": "execute_result"
    }
   ],
   "source": [
    "datebefore_months=todays_date-timedelta(days=90)\n",
    "datebefore_months"
   ]
  },
  {
   "cell_type": "code",
   "execution_count": 18,
   "id": "9bdc4633",
   "metadata": {},
   "outputs": [
    {
     "name": "stdout",
     "output_type": "stream",
     "text": [
      "total seconds in a month:  2592000.0\n"
     ]
    }
   ],
   "source": [
    "print(\"total seconds in a month: \", timedelta(days=30).total_seconds())"
   ]
  },
  {
   "cell_type": "code",
   "execution_count": 19,
   "id": "1fb1b05c",
   "metadata": {},
   "outputs": [
    {
     "name": "stdout",
     "output_type": "stream",
     "text": [
      "2022-01-05\n"
     ]
    }
   ],
   "source": [
    "# - Find what day is in 20 days from today\n",
    "from datetime import timedelta\n",
    "time_delta = timedelta(days=20)\n",
    "print(today + time_delta)"
   ]
  },
  {
   "cell_type": "code",
   "execution_count": 20,
   "id": "ef46297d",
   "metadata": {},
   "outputs": [],
   "source": [
    "# date.today()\n",
    "# date.today().month\n",
    "# date.datetime.now()"
   ]
  },
  {
   "cell_type": "code",
   "execution_count": 21,
   "id": "b6d51611",
   "metadata": {},
   "outputs": [
    {
     "name": "stdout",
     "output_type": "stream",
     "text": [
      "sum_gen metodu çalışıyor...\n",
      "geçen süre: 0.8802868000000217\n",
      "49999995000000\n",
      "sum_list metodu çalışıyor...\n",
      "geçen süre: 0.9381003000000874\n",
      "49999995000000\n"
     ]
    }
   ],
   "source": [
    "import time\n",
    "\n",
    "def speed_test(fn):\n",
    "    def wrapper(*args, **kwargs):\n",
    "        start_time = time.perf_counter()\n",
    "        print(f\"{fn.__name__} metodu çalışıyor...\")\n",
    "        result = fn(*args, **kwargs)\n",
    "        end_time = time.perf_counter()\n",
    "        run_time = end_time - start_time\n",
    "        print(f\"geçen süre: {run_time}\")\n",
    "        return result\n",
    "    return wrapper\n",
    "\n",
    "@speed_test\n",
    "def sum_gen():\n",
    "    return sum((x for x in range(10000000)))\n",
    "\n",
    "@speed_test\n",
    "def sum_list():\n",
    "    return sum([x for x in range(10000000)])\n",
    "\n",
    "print(sum_gen())\n",
    "print(sum_list())\n"
   ]
  },
  {
   "cell_type": "markdown",
   "id": "3766e73c",
   "metadata": {},
   "source": [
    "## Example"
   ]
  },
  {
   "cell_type": "code",
   "execution_count": 22,
   "id": "9dc13058",
   "metadata": {},
   "outputs": [
    {
     "name": "stdout",
     "output_type": "stream",
     "text": [
      "2013-05-20\n",
      "<class 'datetime.date'>\n"
     ]
    }
   ],
   "source": [
    "from datetime import date\n",
    "\n",
    "d1 = date(2013,5,20)\n",
    "print(d1)\n",
    "print(type(d1))"
   ]
  },
  {
   "cell_type": "code",
   "execution_count": 23,
   "id": "849b376f",
   "metadata": {},
   "outputs": [
    {
     "name": "stdout",
     "output_type": "stream",
     "text": [
      "2013-05-20\n",
      "Día : 20\n",
      "Mes : 5\n",
      "Año : 2013\n"
     ]
    }
   ],
   "source": [
    "print(d1)\n",
    "\n",
    "print('Día :',d1.day)\n",
    "print('Mes :',d1.month)\n",
    "print('Año :',d1.year)"
   ]
  },
  {
   "cell_type": "code",
   "execution_count": 24,
   "id": "3efe415e",
   "metadata": {},
   "outputs": [
    {
     "name": "stdout",
     "output_type": "stream",
     "text": [
      "2021-12-16\n",
      "Día : 16\n",
      "Mes : 12\n",
      "Año : 2021\n"
     ]
    }
   ],
   "source": [
    "d1 = date.today()\n",
    "print(d1)\n",
    "\n",
    "print('Día :',d1.day)\n",
    "print('Mes :',d1.month)\n",
    "print('Año :',d1.year)"
   ]
  },
  {
   "cell_type": "code",
   "execution_count": 25,
   "id": "540450d4",
   "metadata": {},
   "outputs": [
    {
     "name": "stdout",
     "output_type": "stream",
     "text": [
      "15:20:13.000040\n",
      "<class 'datetime.time'>\n"
     ]
    }
   ],
   "source": [
    "from datetime import time\n",
    "\n",
    "t1 = time(15,20,13,40)\n",
    "\n",
    "print(t1)\n",
    "print(type(t1))"
   ]
  },
  {
   "cell_type": "code",
   "execution_count": 26,
   "id": "fc90ac87",
   "metadata": {},
   "outputs": [
    {
     "name": "stdout",
     "output_type": "stream",
     "text": [
      "Hora : 15\n",
      "Minuto : 20\n",
      "Segundo : 13\n",
      "Microsegundo : 40\n"
     ]
    }
   ],
   "source": [
    "print('Hora :',t1.hour)\n",
    "print('Minuto :',t1.minute)\n",
    "print('Segundo :',t1.second)\n",
    "print('Microsegundo :',t1.microsecond)"
   ]
  },
  {
   "cell_type": "code",
   "execution_count": 27,
   "id": "837b3746",
   "metadata": {},
   "outputs": [
    {
     "data": {
      "text/plain": [
       "datetime.datetime(2021, 12, 16, 16, 33, 58, 110229)"
      ]
     },
     "execution_count": 27,
     "metadata": {},
     "output_type": "execute_result"
    }
   ],
   "source": [
    "import datetime\n",
    "\n",
    "d1 = datetime.datetime.now()\n",
    "d1"
   ]
  },
  {
   "cell_type": "code",
   "execution_count": 28,
   "id": "bbb067ef",
   "metadata": {},
   "outputs": [
    {
     "name": "stdout",
     "output_type": "stream",
     "text": [
      "2020-04-23 11:20:30.000040\n",
      "Día : 23\n",
      "Mes : 4\n",
      "Año : 2020\n",
      "-------------- \n",
      " Hora : 11\n",
      "Minuto : 20\n",
      "Segundo : 30\n",
      "Microsegundo : 40\n"
     ]
    }
   ],
   "source": [
    "d1 = datetime.datetime(2020,4,23,11,20,30,40)\n",
    "\n",
    "print(d1)\n",
    "print('Día :',d1.day)\n",
    "print('Mes :',d1.month)\n",
    "print('Año :',d1.year)\n",
    "\n",
    "print('-------------- \\n Hora :',d1.hour)\n",
    "print('Minuto :',d1.minute)\n",
    "print('Segundo :',d1.second)\n",
    "print('Microsegundo :',d1.microsecond)"
   ]
  },
  {
   "cell_type": "code",
   "execution_count": 29,
   "id": "831223fc",
   "metadata": {},
   "outputs": [
    {
     "name": "stdout",
     "output_type": "stream",
     "text": [
      "2020-04-23 11:20:30.000040\n",
      "3\n"
     ]
    }
   ],
   "source": [
    "print(d1)\n",
    "print(d1.weekday())"
   ]
  },
  {
   "cell_type": "code",
   "execution_count": 30,
   "id": "1a3b6215",
   "metadata": {},
   "outputs": [
    {
     "data": {
      "text/plain": [
       "datetime.datetime(2021, 12, 16, 16, 33, 58, 153203)"
      ]
     },
     "execution_count": 30,
     "metadata": {},
     "output_type": "execute_result"
    }
   ],
   "source": [
    "d1 = datetime.datetime.now()\n",
    "d1"
   ]
  },
  {
   "cell_type": "code",
   "execution_count": 31,
   "id": "1ee4445c",
   "metadata": {},
   "outputs": [
    {
     "name": "stdout",
     "output_type": "stream",
     "text": [
      "3\n"
     ]
    }
   ],
   "source": [
    "print(d1.weekday())"
   ]
  },
  {
   "cell_type": "code",
   "execution_count": 32,
   "id": "f3f80d15",
   "metadata": {},
   "outputs": [
    {
     "name": "stdout",
     "output_type": "stream",
     "text": [
      "4\n"
     ]
    }
   ],
   "source": [
    "print(d1.isoweekday())"
   ]
  },
  {
   "cell_type": "code",
   "execution_count": 33,
   "id": "4d68ef13",
   "metadata": {},
   "outputs": [
    {
     "data": {
      "text/plain": [
       "(2021, 50, 4)"
      ]
     },
     "execution_count": 33,
     "metadata": {},
     "output_type": "execute_result"
    }
   ],
   "source": [
    "d1.isocalendar()"
   ]
  },
  {
   "cell_type": "code",
   "execution_count": 34,
   "id": "b8c0ee7e",
   "metadata": {},
   "outputs": [
    {
     "name": "stdout",
     "output_type": "stream",
     "text": [
      "2020-04-23\n",
      "<class 'datetime.date'>\n"
     ]
    }
   ],
   "source": [
    "d1_datetime = date.fromisoformat('2020-04-23')\n",
    "print(d1_datetime)\n",
    "print(type(d1_datetime))"
   ]
  },
  {
   "cell_type": "code",
   "execution_count": 35,
   "id": "0d2412aa",
   "metadata": {},
   "outputs": [
    {
     "name": "stdout",
     "output_type": "stream",
     "text": [
      "2020-04-23\n",
      "<class 'str'>\n"
     ]
    }
   ],
   "source": [
    "\n",
    "d1_ISO = date(2020,4,23).isoformat()\n",
    "\n",
    "print(d1_ISO)\n",
    "print(type(d1_ISO))"
   ]
  },
  {
   "cell_type": "code",
   "execution_count": 36,
   "id": "fecb33de",
   "metadata": {},
   "outputs": [
    {
     "name": "stdout",
     "output_type": "stream",
     "text": [
      "2020-04-22 13:20:13\n",
      "<class 'datetime.datetime'>\n"
     ]
    }
   ],
   "source": [
    "fecha = '22 April, 2020 13:20:13'\n",
    "\n",
    "d1 = datetime.datetime.strptime(fecha,'%d %B, %Y %H:%M:%S')\n",
    "\n",
    "print(d1)\n",
    "print(type(d1))"
   ]
  },
  {
   "cell_type": "code",
   "execution_count": 37,
   "id": "8b245a60",
   "metadata": {},
   "outputs": [
    {
     "name": "stdout",
     "output_type": "stream",
     "text": [
      "Fecha de hoy : 2021-12-16 16:33:58.264134\n"
     ]
    }
   ],
   "source": [
    "d1 = datetime.datetime.now()\n",
    "\n",
    "print(\"Fecha de hoy :\",d1)\n"
   ]
  },
  {
   "cell_type": "code",
   "execution_count": 38,
   "id": "60980d20",
   "metadata": {},
   "outputs": [
    {
     "name": "stdout",
     "output_type": "stream",
     "text": [
      "Fecha: 2 días a partir de hoy : 2021-12-18 16:33:58.264134\n"
     ]
    }
   ],
   "source": [
    "d2 = d1 + datetime.timedelta(days=2)\n",
    "print(\"Fecha: 2 días a partir de hoy :\",d2)\n"
   ]
  },
  {
   "cell_type": "code",
   "execution_count": 39,
   "id": "989d7367",
   "metadata": {},
   "outputs": [
    {
     "name": "stdout",
     "output_type": "stream",
     "text": [
      "Fecha: 2 semanas a partir de hoy : 2021-12-30 16:33:58.264134\n"
     ]
    }
   ],
   "source": [
    "d3 = d1 + datetime.timedelta(weeks=2)\n",
    "print(\"Fecha: 2 semanas a partir de hoy :\",d3)"
   ]
  },
  {
   "cell_type": "code",
   "execution_count": 40,
   "id": "0bd912f9",
   "metadata": {},
   "outputs": [
    {
     "name": "stdout",
     "output_type": "stream",
     "text": [
      "Fecha: 2 días antes de hoy : 2021-12-14 16:33:58.264134\n",
      "Fecha: 2 semanas antes de hoy : 2021-12-02 16:33:58.264134\n"
     ]
    }
   ],
   "source": [
    "d2 = d1 - datetime.timedelta(days=2)\n",
    "print(\"Fecha: 2 días antes de hoy :\",d2)\n",
    "\n",
    "d3 = d1 - datetime.timedelta (weeks=2)\n",
    "print(\"Fecha: 2 semanas antes de hoy :\",d3)"
   ]
  },
  {
   "cell_type": "code",
   "execution_count": 1,
   "id": "6162aaa1",
   "metadata": {},
   "outputs": [
    {
     "name": "stdout",
     "output_type": "stream",
     "text": [
      "171\n"
     ]
    }
   ],
   "source": [
    "from datetime import date\n",
    "\n",
    "pazarlar = 0\n",
    "\n",
    "for yil in range(1901,2001):\n",
    "    for ay in range(1,13):\n",
    "        if date(yil,ay,1).weekday() == 6:\n",
    "            pazarlar += 1\n",
    "print(pazarlar)"
   ]
  },
  {
   "cell_type": "code",
   "execution_count": null,
   "id": "ca7c0556",
   "metadata": {},
   "outputs": [],
   "source": []
  }
 ],
 "metadata": {
  "kernelspec": {
   "display_name": "Python 3 (ipykernel)",
   "language": "python",
   "name": "python3"
  },
  "language_info": {
   "codemirror_mode": {
    "name": "ipython",
    "version": 3
   },
   "file_extension": ".py",
   "mimetype": "text/x-python",
   "name": "python",
   "nbconvert_exporter": "python",
   "pygments_lexer": "ipython3",
   "version": "3.9.7"
  }
 },
 "nbformat": 4,
 "nbformat_minor": 5
}
