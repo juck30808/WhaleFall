{
 "cells": [
  {
   "cell_type": "code",
   "execution_count": 1,
   "id": "531f76a9",
   "metadata": {
    "scrolled": true
   },
   "outputs": [
    {
     "name": "stdout",
     "output_type": "stream",
     "text": [
      "Enter day: 1\n",
      "Enter month: 2\n",
      "Enter year: 3\n",
      "Entered Date: 1/2/3\n"
     ]
    }
   ],
   "source": [
    "day=input('Enter day: ')\n",
    "month = input('Enter month: ')\n",
    "year = input('Enter year: ')\n",
    "print(f'Entered Date: {day}/{month}/{year}')"
   ]
  },
  {
   "cell_type": "markdown",
   "id": "98ec5e06",
   "metadata": {},
   "source": [
    "## date"
   ]
  },
  {
   "cell_type": "code",
   "execution_count": 2,
   "id": "ca2b99c1",
   "metadata": {},
   "outputs": [
    {
     "name": "stdout",
     "output_type": "stream",
     "text": [
      "Date is:  1998-07-19\n"
     ]
    }
   ],
   "source": [
    "from datetime import date\n",
    "mydate=date(year=1998, month=7, day=19)\n",
    "print(\"Date is: \",mydate)"
   ]
  },
  {
   "cell_type": "code",
   "execution_count": 3,
   "id": "98b7289a",
   "metadata": {},
   "outputs": [
    {
     "data": {
      "text/plain": [
       "datetime.date(2021, 11, 19)"
      ]
     },
     "execution_count": 3,
     "metadata": {},
     "output_type": "execute_result"
    }
   ],
   "source": [
    "date.today()"
   ]
  },
  {
   "cell_type": "code",
   "execution_count": 4,
   "id": "14ee1c3a",
   "metadata": {},
   "outputs": [
    {
     "data": {
      "text/plain": [
       "11"
      ]
     },
     "execution_count": 4,
     "metadata": {},
     "output_type": "execute_result"
    }
   ],
   "source": [
    "date.today().month"
   ]
  },
  {
   "cell_type": "markdown",
   "id": "e3ed7ef4",
   "metadata": {},
   "source": [
    "## time"
   ]
  },
  {
   "cell_type": "code",
   "execution_count": 5,
   "id": "5bd65aea",
   "metadata": {},
   "outputs": [
    {
     "data": {
      "text/plain": [
       "datetime.time(12, 30, 45)"
      ]
     },
     "execution_count": 5,
     "metadata": {},
     "output_type": "execute_result"
    }
   ],
   "source": [
    "from datetime import time\n",
    "mytime=time(hour=12, minute=30, second=45)\n",
    "mytime"
   ]
  },
  {
   "cell_type": "code",
   "execution_count": 6,
   "id": "10f72d5e",
   "metadata": {},
   "outputs": [
    {
     "data": {
      "text/plain": [
       "datetime.time(0, 15)"
      ]
     },
     "execution_count": 6,
     "metadata": {},
     "output_type": "execute_result"
    }
   ],
   "source": [
    "mytime=time(minute=15)\n",
    "mytime"
   ]
  },
  {
   "cell_type": "code",
   "execution_count": 8,
   "id": "16906e8e",
   "metadata": {},
   "outputs": [
    {
     "data": {
      "text/plain": [
       "12"
      ]
     },
     "execution_count": 8,
     "metadata": {},
     "output_type": "execute_result"
    }
   ],
   "source": [
    "mytime=time(hour=12,minute=30,second=45)\n",
    "mytime.hour"
   ]
  },
  {
   "cell_type": "code",
   "execution_count": 10,
   "id": "3508e715",
   "metadata": {},
   "outputs": [
    {
     "data": {
      "text/plain": [
       "30"
      ]
     },
     "execution_count": 10,
     "metadata": {},
     "output_type": "execute_result"
    }
   ],
   "source": [
    "mytime.minute"
   ]
  },
  {
   "cell_type": "code",
   "execution_count": null,
   "id": "9884e9ed",
   "metadata": {},
   "outputs": [],
   "source": []
  }
 ],
 "metadata": {
  "kernelspec": {
   "display_name": "Python 3 (ipykernel)",
   "language": "python",
   "name": "python3"
  },
  "language_info": {
   "codemirror_mode": {
    "name": "ipython",
    "version": 3
   },
   "file_extension": ".py",
   "mimetype": "text/x-python",
   "name": "python",
   "nbconvert_exporter": "python",
   "pygments_lexer": "ipython3",
   "version": "3.8.8"
  }
 },
 "nbformat": 4,
 "nbformat_minor": 5
}
