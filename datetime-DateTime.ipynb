{
 "cells": [
  {
   "cell_type": "markdown",
   "metadata": {},
   "source": [
    "## Non-Function"
   ]
  },
  {
   "cell_type": "code",
   "execution_count": 1,
   "metadata": {
    "scrolled": false
   },
   "outputs": [
    {
     "name": "stdout",
     "output_type": "stream",
     "text": [
      "Enter year: 12\n",
      "Enter month: 3\n",
      "Enter day: 1855\n",
      "Entered Date: 1855/3/12\n"
     ]
    }
   ],
   "source": [
    "year = input('Enter year: ')\n",
    "month = input('Enter month: ')\n",
    "day=input('Enter day: ')\n",
    "print(f'Entered Date: {day}/{month}/{year}')"
   ]
  },
  {
   "cell_type": "code",
   "execution_count": null,
   "metadata": {},
   "outputs": [],
   "source": []
  },
  {
   "cell_type": "markdown",
   "metadata": {},
   "source": [
    "## datetime.datetime"
   ]
  },
  {
   "cell_type": "code",
   "execution_count": 2,
   "metadata": {
    "scrolled": false
   },
   "outputs": [
    {
     "name": "stdout",
     "output_type": "stream",
     "text": [
      "2012-06-12 00:00:00\n"
     ]
    }
   ],
   "source": [
    "import datetime\n",
    "x=datetime.datetime(2012, 6, 12)\n",
    "print(x)"
   ]
  },
  {
   "cell_type": "code",
   "execution_count": 3,
   "metadata": {},
   "outputs": [
    {
     "name": "stdout",
     "output_type": "stream",
     "text": [
      "1993-05-10 00:00:00\n"
     ]
    }
   ],
   "source": [
    "from datetime import datetime\n",
    "a= datetime(year=1993, month=5, day=10)\n",
    "print(a)"
   ]
  },
  {
   "cell_type": "code",
   "execution_count": 4,
   "metadata": {},
   "outputs": [
    {
     "name": "stdout",
     "output_type": "stream",
     "text": [
      "2013-05-20\n",
      "<class 'datetime.date'>\n"
     ]
    }
   ],
   "source": [
    "from datetime import date\n",
    "\n",
    "d1 = date(2013,5,20)\n",
    "\n",
    "print(d1)\n",
    "\n",
    "print(type(d1))\n"
   ]
  },
  {
   "cell_type": "markdown",
   "metadata": {},
   "source": [
    "## datetime.date"
   ]
  },
  {
   "cell_type": "code",
   "execution_count": 5,
   "metadata": {},
   "outputs": [
    {
     "name": "stdout",
     "output_type": "stream",
     "text": [
      "3\n"
     ]
    }
   ],
   "source": [
    "import datetime\n",
    "today = datetime.date.today()\n",
    "print(today.weekday())"
   ]
  },
  {
   "cell_type": "code",
   "execution_count": 6,
   "metadata": {},
   "outputs": [
    {
     "name": "stdout",
     "output_type": "stream",
     "text": [
      "2020-12-04\n"
     ]
    }
   ],
   "source": [
    "import datetime\n",
    "date_string = '2020-12-04'\n",
    "date_object = datetime.date.fromisoformat(date_string)\n",
    "time_delta = datetime.timedelta(days=5)\n",
    "print(date_object)"
   ]
  },
  {
   "cell_type": "code",
   "execution_count": 7,
   "metadata": {},
   "outputs": [
    {
     "name": "stdout",
     "output_type": "stream",
     "text": [
      "-349 days, 0:00:00\n"
     ]
    }
   ],
   "source": [
    "new_year = datetime.date(2021,1,1)\n",
    "days_remaining = new_year - today\n",
    "print(days_remaining)"
   ]
  },
  {
   "cell_type": "code",
   "execution_count": 8,
   "metadata": {},
   "outputs": [
    {
     "name": "stdout",
     "output_type": "stream",
     "text": [
      "2020-01-27 12:44:12.010000\n"
     ]
    }
   ],
   "source": [
    "import datetime\n",
    "date_time = datetime.datetime(2020,1,22,12,44,12,10000)\n",
    "time_delta = datetime.timedelta(days=5)\n",
    "print(date_time + time_delta)"
   ]
  },
  {
   "cell_type": "code",
   "execution_count": 9,
   "metadata": {},
   "outputs": [
    {
     "name": "stdout",
     "output_type": "stream",
     "text": [
      "2021-12-16\n"
     ]
    }
   ],
   "source": [
    "#- Capture Today's Date\n",
    "today = datetime.date.today()\n",
    "print(today)"
   ]
  },
  {
   "cell_type": "code",
   "execution_count": 10,
   "metadata": {},
   "outputs": [
    {
     "name": "stdout",
     "output_type": "stream",
     "text": [
      "86\n"
     ]
    }
   ],
   "source": [
    "#- Calculate how many days left until your birthday\n",
    "birthday = datetime.date(2022,3,12)\n",
    "days_remaining = birthday - today\n",
    "print(days_remaining.days)"
   ]
  },
  {
   "cell_type": "code",
   "execution_count": 11,
   "metadata": {
    "scrolled": true
   },
   "outputs": [
    {
     "name": "stdout",
     "output_type": "stream",
     "text": [
      "2020-12-04\n"
     ]
    }
   ],
   "source": [
    "# - Create a new variable today_string = \"2020-12-04\"\n",
    "today_string = \"2020-12-04\"\n",
    "date_obj = datetime.date.fromisoformat(today_string)\n",
    "print(date_obj)"
   ]
  },
  {
   "cell_type": "code",
   "execution_count": 12,
   "metadata": {},
   "outputs": [
    {
     "name": "stdout",
     "output_type": "stream",
     "text": [
      "Date is:  1998-07-19\n"
     ]
    }
   ],
   "source": [
    "from datetime import date\n",
    "mydate=date(year=1998, month=7, day=19)\n",
    "print(\"Date is: \",mydate)"
   ]
  },
  {
   "cell_type": "code",
   "execution_count": null,
   "metadata": {},
   "outputs": [],
   "source": []
  },
  {
   "cell_type": "markdown",
   "metadata": {},
   "source": [
    "## time"
   ]
  },
  {
   "cell_type": "code",
   "execution_count": 13,
   "metadata": {},
   "outputs": [
    {
     "data": {
      "text/plain": [
       "datetime.time(12, 30, 45)"
      ]
     },
     "execution_count": 13,
     "metadata": {},
     "output_type": "execute_result"
    }
   ],
   "source": [
    "from datetime import time\n",
    "mytime=time(hour=12, minute=30, second=45)\n",
    "mytime"
   ]
  },
  {
   "cell_type": "code",
   "execution_count": 14,
   "metadata": {},
   "outputs": [
    {
     "data": {
      "text/plain": [
       "datetime.time(0, 15)"
      ]
     },
     "execution_count": 14,
     "metadata": {},
     "output_type": "execute_result"
    }
   ],
   "source": [
    "mytime=time(minute=15)\n",
    "mytime"
   ]
  },
  {
   "cell_type": "code",
   "execution_count": 15,
   "metadata": {},
   "outputs": [
    {
     "data": {
      "text/plain": [
       "datetime.time(12, 30, 45)"
      ]
     },
     "execution_count": 15,
     "metadata": {},
     "output_type": "execute_result"
    }
   ],
   "source": [
    "mytime=time(hour=12,minute=30,second=45)\n",
    "mytime\n",
    "#mytime.hour\n",
    "#mytime.minute\n",
    "#mytime.second"
   ]
  },
  {
   "cell_type": "markdown",
   "metadata": {},
   "source": [
    "## datetime.timedelta"
   ]
  },
  {
   "cell_type": "code",
   "execution_count": 16,
   "metadata": {},
   "outputs": [
    {
     "data": {
      "text/plain": [
       "datetime.datetime(2022, 3, 16, 16, 33, 56, 106401)"
      ]
     },
     "execution_count": 16,
     "metadata": {},
     "output_type": "execute_result"
    }
   ],
   "source": [
    "from datetime import datetime, timedelta\n",
    "\n",
    "todays_date=datetime.now()\n",
    "dateafter_months=todays_date+timedelta(days=90)\n",
    "dateafter_months"
   ]
  },
  {
   "cell_type": "code",
   "execution_count": 17,
   "metadata": {},
   "outputs": [
    {
     "data": {
      "text/plain": [
       "datetime.datetime(2021, 9, 17, 16, 33, 56, 106401)"
      ]
     },
     "execution_count": 17,
     "metadata": {},
     "output_type": "execute_result"
    }
   ],
   "source": [
    "datebefore_months=todays_date-timedelta(days=90)\n",
    "datebefore_months"
   ]
  },
  {
   "cell_type": "code",
   "execution_count": 18,
   "metadata": {},
   "outputs": [
    {
     "name": "stdout",
     "output_type": "stream",
     "text": [
      "total seconds in a month:  2592000.0\n"
     ]
    }
   ],
   "source": [
    "print(\"total seconds in a month: \", timedelta(days=30).total_seconds())"
   ]
  },
  {
   "cell_type": "code",
   "execution_count": 19,
   "metadata": {},
   "outputs": [
    {
     "name": "stdout",
     "output_type": "stream",
     "text": [
      "2022-01-05\n"
     ]
    }
   ],
   "source": [
    "# - Find what day is in 20 days from today\n",
    "from datetime import timedelta\n",
    "time_delta = timedelta(days=20)\n",
    "print(today + time_delta)"
   ]
  },
  {
   "cell_type": "code",
   "execution_count": 20,
   "metadata": {},
   "outputs": [],
   "source": [
    "# date.today()\n",
    "# date.today().month\n",
    "# date.datetime.now()"
   ]
  },
  {
   "cell_type": "code",
   "execution_count": 21,
   "metadata": {},
   "outputs": [
    {
     "name": "stdout",
     "output_type": "stream",
     "text": [
      "sum_gen metodu çalışıyor...\n",
      "geçen süre: 0.8802868000000217\n",
      "49999995000000\n",
      "sum_list metodu çalışıyor...\n",
      "geçen süre: 0.9381003000000874\n",
      "49999995000000\n"
     ]
    }
   ],
   "source": [
    "import time\n",
    "\n",
    "def speed_test(fn):\n",
    "    def wrapper(*args, **kwargs):\n",
    "        start_time = time.perf_counter()\n",
    "        print(f\"{fn.__name__} metodu çalışıyor...\")\n",
    "        result = fn(*args, **kwargs)\n",
    "        end_time = time.perf_counter()\n",
    "        run_time = end_time - start_time\n",
    "        print(f\"geçen süre: {run_time}\")\n",
    "        return result\n",
    "    return wrapper\n",
    "\n",
    "@speed_test\n",
    "def sum_gen():\n",
    "    return sum((x for x in range(10000000)))\n",
    "\n",
    "@speed_test\n",
    "def sum_list():\n",
    "    return sum([x for x in range(10000000)])\n",
    "\n",
    "print(sum_gen())\n",
    "print(sum_list())\n"
   ]
  },
  {
   "cell_type": "markdown",
   "metadata": {},
   "source": [
    "## Example"
   ]
  },
  {
   "cell_type": "code",
   "execution_count": 22,
   "metadata": {},
   "outputs": [
    {
     "name": "stdout",
     "output_type": "stream",
     "text": [
      "2013-05-20\n",
      "<class 'datetime.date'>\n"
     ]
    }
   ],
   "source": [
    "from datetime import date\n",
    "\n",
    "d1 = date(2013,5,20)\n",
    "print(d1)\n",
    "print(type(d1))"
   ]
  },
  {
   "cell_type": "code",
   "execution_count": 23,
   "metadata": {},
   "outputs": [
    {
     "name": "stdout",
     "output_type": "stream",
     "text": [
      "2013-05-20\n",
      "Día : 20\n",
      "Mes : 5\n",
      "Año : 2013\n"
     ]
    }
   ],
   "source": [
    "print(d1)\n",
    "\n",
    "print('Día :',d1.day)\n",
    "print('Mes :',d1.month)\n",
    "print('Año :',d1.year)"
   ]
  },
  {
   "cell_type": "code",
   "execution_count": 24,
   "metadata": {},
   "outputs": [
    {
     "name": "stdout",
     "output_type": "stream",
     "text": [
      "2021-12-16\n",
      "Día : 16\n",
      "Mes : 12\n",
      "Año : 2021\n"
     ]
    }
   ],
   "source": [
    "d1 = date.today()\n",
    "print(d1)\n",
    "\n",
    "print('Día :',d1.day)\n",
    "print('Mes :',d1.month)\n",
    "print('Año :',d1.year)"
   ]
  },
  {
   "cell_type": "code",
   "execution_count": 25,
   "metadata": {},
   "outputs": [
    {
     "name": "stdout",
     "output_type": "stream",
     "text": [
      "15:20:13.000040\n",
      "<class 'datetime.time'>\n"
     ]
    }
   ],
   "source": [
    "from datetime import time\n",
    "\n",
    "t1 = time(15,20,13,40)\n",
    "\n",
    "print(t1)\n",
    "print(type(t1))"
   ]
  },
  {
   "cell_type": "code",
   "execution_count": 26,
   "metadata": {},
   "outputs": [
    {
     "name": "stdout",
     "output_type": "stream",
     "text": [
      "Hora : 15\n",
      "Minuto : 20\n",
      "Segundo : 13\n",
      "Microsegundo : 40\n"
     ]
    }
   ],
   "source": [
    "print('Hora :',t1.hour)\n",
    "print('Minuto :',t1.minute)\n",
    "print('Segundo :',t1.second)\n",
    "print('Microsegundo :',t1.microsecond)"
   ]
  },
  {
   "cell_type": "code",
   "execution_count": 27,
   "metadata": {},
   "outputs": [
    {
     "data": {
      "text/plain": [
       "datetime.datetime(2021, 12, 16, 16, 33, 58, 110229)"
      ]
     },
     "execution_count": 27,
     "metadata": {},
     "output_type": "execute_result"
    }
   ],
   "source": [
    "import datetime\n",
    "\n",
    "d1 = datetime.datetime.now()\n",
    "d1"
   ]
  },
  {
   "cell_type": "code",
   "execution_count": 28,
   "metadata": {},
   "outputs": [
    {
     "name": "stdout",
     "output_type": "stream",
     "text": [
      "2020-04-23 11:20:30.000040\n",
      "Día : 23\n",
      "Mes : 4\n",
      "Año : 2020\n",
      "-------------- \n",
      " Hora : 11\n",
      "Minuto : 20\n",
      "Segundo : 30\n",
      "Microsegundo : 40\n"
     ]
    }
   ],
   "source": [
    "d1 = datetime.datetime(2020,4,23,11,20,30,40)\n",
    "\n",
    "print(d1)\n",
    "print('Día :',d1.day)\n",
    "print('Mes :',d1.month)\n",
    "print('Año :',d1.year)\n",
    "\n",
    "print('-------------- \\n Hora :',d1.hour)\n",
    "print('Minuto :',d1.minute)\n",
    "print('Segundo :',d1.second)\n",
    "print('Microsegundo :',d1.microsecond)"
   ]
  },
  {
   "cell_type": "code",
   "execution_count": 29,
   "metadata": {},
   "outputs": [
    {
     "name": "stdout",
     "output_type": "stream",
     "text": [
      "2020-04-23 11:20:30.000040\n",
      "3\n"
     ]
    }
   ],
   "source": [
    "print(d1)\n",
    "print(d1.weekday())"
   ]
  },
  {
   "cell_type": "code",
   "execution_count": 30,
   "metadata": {},
   "outputs": [
    {
     "data": {
      "text/plain": [
       "datetime.datetime(2021, 12, 16, 16, 33, 58, 153203)"
      ]
     },
     "execution_count": 30,
     "metadata": {},
     "output_type": "execute_result"
    }
   ],
   "source": [
    "d1 = datetime.datetime.now()\n",
    "d1"
   ]
  },
  {
   "cell_type": "code",
   "execution_count": 31,
   "metadata": {},
   "outputs": [
    {
     "name": "stdout",
     "output_type": "stream",
     "text": [
      "3\n"
     ]
    }
   ],
   "source": [
    "print(d1.weekday())"
   ]
  },
  {
   "cell_type": "code",
   "execution_count": 32,
   "metadata": {},
   "outputs": [
    {
     "name": "stdout",
     "output_type": "stream",
     "text": [
      "4\n"
     ]
    }
   ],
   "source": [
    "print(d1.isoweekday())"
   ]
  },
  {
   "cell_type": "code",
   "execution_count": 33,
   "metadata": {},
   "outputs": [
    {
     "data": {
      "text/plain": [
       "(2021, 50, 4)"
      ]
     },
     "execution_count": 33,
     "metadata": {},
     "output_type": "execute_result"
    }
   ],
   "source": [
    "d1.isocalendar()"
   ]
  },
  {
   "cell_type": "code",
   "execution_count": 34,
   "metadata": {},
   "outputs": [
    {
     "name": "stdout",
     "output_type": "stream",
     "text": [
      "2020-04-23\n",
      "<class 'datetime.date'>\n"
     ]
    }
   ],
   "source": [
    "d1_datetime = date.fromisoformat('2020-04-23')\n",
    "print(d1_datetime)\n",
    "print(type(d1_datetime))"
   ]
  },
  {
   "cell_type": "code",
   "execution_count": 35,
   "metadata": {},
   "outputs": [
    {
     "name": "stdout",
     "output_type": "stream",
     "text": [
      "2020-04-23\n",
      "<class 'str'>\n"
     ]
    }
   ],
   "source": [
    "\n",
    "d1_ISO = date(2020,4,23).isoformat()\n",
    "\n",
    "print(d1_ISO)\n",
    "print(type(d1_ISO))"
   ]
  },
  {
   "cell_type": "code",
   "execution_count": 36,
   "metadata": {},
   "outputs": [
    {
     "name": "stdout",
     "output_type": "stream",
     "text": [
      "2020-04-22 13:20:13\n",
      "<class 'datetime.datetime'>\n"
     ]
    }
   ],
   "source": [
    "fecha = '22 April, 2020 13:20:13'\n",
    "\n",
    "d1 = datetime.datetime.strptime(fecha,'%d %B, %Y %H:%M:%S')\n",
    "\n",
    "print(d1)\n",
    "print(type(d1))"
   ]
  },
  {
   "cell_type": "code",
   "execution_count": 37,
   "metadata": {},
   "outputs": [
    {
     "name": "stdout",
     "output_type": "stream",
     "text": [
      "Fecha de hoy : 2021-12-16 16:33:58.264134\n"
     ]
    }
   ],
   "source": [
    "d1 = datetime.datetime.now()\n",
    "\n",
    "print(\"Fecha de hoy :\",d1)\n"
   ]
  },
  {
   "cell_type": "code",
   "execution_count": 38,
   "metadata": {},
   "outputs": [
    {
     "name": "stdout",
     "output_type": "stream",
     "text": [
      "Fecha: 2 días a partir de hoy : 2021-12-18 16:33:58.264134\n"
     ]
    }
   ],
   "source": [
    "d2 = d1 + datetime.timedelta(days=2)\n",
    "print(\"Fecha: 2 días a partir de hoy :\",d2)\n"
   ]
  },
  {
   "cell_type": "code",
   "execution_count": 39,
   "metadata": {},
   "outputs": [
    {
     "name": "stdout",
     "output_type": "stream",
     "text": [
      "Fecha: 2 semanas a partir de hoy : 2021-12-30 16:33:58.264134\n"
     ]
    }
   ],
   "source": [
    "d3 = d1 + datetime.timedelta(weeks=2)\n",
    "print(\"Fecha: 2 semanas a partir de hoy :\",d3)"
   ]
  },
  {
   "cell_type": "code",
   "execution_count": 40,
   "metadata": {},
   "outputs": [
    {
     "name": "stdout",
     "output_type": "stream",
     "text": [
      "Fecha: 2 días antes de hoy : 2021-12-14 16:33:58.264134\n",
      "Fecha: 2 semanas antes de hoy : 2021-12-02 16:33:58.264134\n"
     ]
    }
   ],
   "source": [
    "d2 = d1 - datetime.timedelta(days=2)\n",
    "print(\"Fecha: 2 días antes de hoy :\",d2)\n",
    "\n",
    "d3 = d1 - datetime.timedelta (weeks=2)\n",
    "print(\"Fecha: 2 semanas antes de hoy :\",d3)"
   ]
  }
 ],
 "metadata": {
  "kernelspec": {
   "display_name": "Python 3",
   "language": "python",
   "name": "python3"
  },
  "language_info": {
   "codemirror_mode": {
    "name": "ipython",
    "version": 3
   },
   "file_extension": ".py",
   "mimetype": "text/x-python",
   "name": "python",
   "nbconvert_exporter": "python",
   "pygments_lexer": "ipython3",
   "version": "3.8.5"
  }
 },
 "nbformat": 4,
 "nbformat_minor": 5
}
