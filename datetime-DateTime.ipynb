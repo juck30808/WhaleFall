{
 "cells": [
  {
   "cell_type": "code",
   "execution_count": 10,
   "id": "1f7b4efe",
   "metadata": {
    "scrolled": true
   },
   "outputs": [
    {
     "name": "stdout",
     "output_type": "stream",
     "text": [
      "Enter day: 12\n",
      "Enter month: 03\n",
      "Enter year: 1998\n",
      "Entered Date: 12/03/1998\n"
     ]
    }
   ],
   "source": [
    "day=input('Enter day: ')\n",
    "month = input('Enter month: ')\n",
    "year = input('Enter year: ')\n",
    "print(f'Entered Date: {day}/{month}/{year}')"
   ]
  },
  {
   "cell_type": "code",
   "execution_count": 2,
   "id": "dbd97816",
   "metadata": {},
   "outputs": [
    {
     "name": "stdout",
     "output_type": "stream",
     "text": [
      "2012-06-12 00:00:00\n"
     ]
    }
   ],
   "source": [
    "import datetime\n",
    "x=datetime.datetime(2012, 6, 12)\n",
    "print(x)"
   ]
  },
  {
   "cell_type": "markdown",
   "id": "6bcd08cc",
   "metadata": {},
   "source": [
    "## date"
   ]
  },
  {
   "cell_type": "code",
   "execution_count": 11,
   "id": "bd3ba495",
   "metadata": {},
   "outputs": [
    {
     "name": "stdout",
     "output_type": "stream",
     "text": [
      "Date is:  1998-07-19\n"
     ]
    }
   ],
   "source": [
    "from datetime import date\n",
    "mydate=date(year=1998, month=7, day=19)\n",
    "print(\"Date is: \",mydate)"
   ]
  },
  {
   "cell_type": "code",
   "execution_count": 12,
   "id": "740fb657",
   "metadata": {},
   "outputs": [
    {
     "data": {
      "text/plain": [
       "datetime.date(2021, 11, 25)"
      ]
     },
     "execution_count": 12,
     "metadata": {},
     "output_type": "execute_result"
    }
   ],
   "source": [
    "date.today()"
   ]
  },
  {
   "cell_type": "code",
   "execution_count": 13,
   "id": "4fc4d3e5",
   "metadata": {},
   "outputs": [
    {
     "data": {
      "text/plain": [
       "11"
      ]
     },
     "execution_count": 13,
     "metadata": {},
     "output_type": "execute_result"
    }
   ],
   "source": [
    "date.today().month"
   ]
  },
  {
   "cell_type": "code",
   "execution_count": 26,
   "id": "cd698f6f",
   "metadata": {},
   "outputs": [
    {
     "name": "stdout",
     "output_type": "stream",
     "text": [
      "3\n"
     ]
    }
   ],
   "source": [
    "import datetime\n",
    "today = datetime.date.today()\n",
    "print(today.weekday())"
   ]
  },
  {
   "cell_type": "code",
   "execution_count": 27,
   "id": "86ff82b3",
   "metadata": {},
   "outputs": [
    {
     "name": "stdout",
     "output_type": "stream",
     "text": [
      "-328 days, 0:00:00\n"
     ]
    }
   ],
   "source": [
    "new_year = datetime.date(2021,1,1)\n",
    "days_remaining = new_year - today\n",
    "print(days_remaining)"
   ]
  },
  {
   "cell_type": "code",
   "execution_count": 31,
   "id": "73113510",
   "metadata": {},
   "outputs": [
    {
     "name": "stdout",
     "output_type": "stream",
     "text": [
      "2020-12-04\n"
     ]
    }
   ],
   "source": [
    "import datetime\n",
    "date_string = '2020-12-04'\n",
    "date_object = datetime.date.fromisoformat(date_string)\n",
    "time_delta = datetime.timedelta(days=5)\n",
    "print(date_object)"
   ]
  },
  {
   "cell_type": "markdown",
   "id": "7d6e5622",
   "metadata": {},
   "source": [
    "## time"
   ]
  },
  {
   "cell_type": "code",
   "execution_count": 14,
   "id": "c21e128c",
   "metadata": {},
   "outputs": [
    {
     "data": {
      "text/plain": [
       "datetime.time(12, 30, 45)"
      ]
     },
     "execution_count": 14,
     "metadata": {},
     "output_type": "execute_result"
    }
   ],
   "source": [
    "from datetime import time\n",
    "mytime=time(hour=12, minute=30, second=45)\n",
    "mytime"
   ]
  },
  {
   "cell_type": "code",
   "execution_count": 15,
   "id": "d86db3af",
   "metadata": {},
   "outputs": [
    {
     "data": {
      "text/plain": [
       "datetime.time(0, 15)"
      ]
     },
     "execution_count": 15,
     "metadata": {},
     "output_type": "execute_result"
    }
   ],
   "source": [
    "mytime=time(minute=15)\n",
    "mytime"
   ]
  },
  {
   "cell_type": "code",
   "execution_count": 16,
   "id": "12af2f1d",
   "metadata": {},
   "outputs": [
    {
     "data": {
      "text/plain": [
       "12"
      ]
     },
     "execution_count": 16,
     "metadata": {},
     "output_type": "execute_result"
    }
   ],
   "source": [
    "mytime=time(hour=12,minute=30,second=45)\n",
    "mytime.hour"
   ]
  },
  {
   "cell_type": "code",
   "execution_count": 17,
   "id": "0573a990",
   "metadata": {},
   "outputs": [
    {
     "data": {
      "text/plain": [
       "30"
      ]
     },
     "execution_count": 17,
     "metadata": {},
     "output_type": "execute_result"
    }
   ],
   "source": [
    "mytime.minute"
   ]
  },
  {
   "cell_type": "code",
   "execution_count": 18,
   "id": "ec87208c",
   "metadata": {},
   "outputs": [
    {
     "name": "stdout",
     "output_type": "stream",
     "text": [
      "1993-05-10 00:00:00\n"
     ]
    }
   ],
   "source": [
    "from datetime import datetime\n",
    "a= datetime(year=1993, month=5, day=10)\n",
    "print(a)"
   ]
  },
  {
   "cell_type": "code",
   "execution_count": 19,
   "id": "59867596",
   "metadata": {},
   "outputs": [
    {
     "name": "stdout",
     "output_type": "stream",
     "text": [
      "1993-05-10 12:13:43.043213\n"
     ]
    }
   ],
   "source": [
    "b=datetime(year=1993, month=5, day=10, hour=12, minute=13, second=43, microsecond=43213)\n",
    "print(b)"
   ]
  },
  {
   "cell_type": "code",
   "execution_count": 20,
   "id": "3d0c0407",
   "metadata": {},
   "outputs": [
    {
     "data": {
      "text/plain": [
       "datetime.datetime(2021, 11, 25, 12, 0, 7, 906496)"
      ]
     },
     "execution_count": 20,
     "metadata": {},
     "output_type": "execute_result"
    }
   ],
   "source": [
    "today=datetime.now()\n",
    "today"
   ]
  },
  {
   "cell_type": "code",
   "execution_count": 21,
   "id": "f2514abd",
   "metadata": {},
   "outputs": [
    {
     "data": {
      "text/plain": [
       "13"
      ]
     },
     "execution_count": 21,
     "metadata": {},
     "output_type": "execute_result"
    }
   ],
   "source": [
    "b.minute"
   ]
  },
  {
   "cell_type": "markdown",
   "id": "8ad25faa",
   "metadata": {},
   "source": [
    "## timedelta class"
   ]
  },
  {
   "cell_type": "code",
   "execution_count": 22,
   "id": "15b15816",
   "metadata": {},
   "outputs": [
    {
     "data": {
      "text/plain": [
       "datetime.datetime(2022, 2, 23, 12, 0, 9, 156412)"
      ]
     },
     "execution_count": 22,
     "metadata": {},
     "output_type": "execute_result"
    }
   ],
   "source": [
    "from datetime import datetime, timedelta\n",
    "\n",
    "todays_date=datetime.now()\n",
    "dateafter_months=todays_date+timedelta(days=90)\n",
    "dateafter_months"
   ]
  },
  {
   "cell_type": "code",
   "execution_count": 23,
   "id": "bf5cbac7",
   "metadata": {},
   "outputs": [
    {
     "data": {
      "text/plain": [
       "datetime.datetime(2021, 8, 27, 12, 0, 9, 156412)"
      ]
     },
     "execution_count": 23,
     "metadata": {},
     "output_type": "execute_result"
    }
   ],
   "source": [
    "datebefore_months=todays_date-timedelta(days=90)\n",
    "datebefore_months"
   ]
  },
  {
   "cell_type": "code",
   "execution_count": 24,
   "id": "3e456478",
   "metadata": {},
   "outputs": [
    {
     "name": "stdout",
     "output_type": "stream",
     "text": [
      "total seconds in a month:  2592000.0\n"
     ]
    }
   ],
   "source": [
    "print(\"total seconds in a month: \", timedelta(days=30).total_seconds())"
   ]
  },
  {
   "cell_type": "code",
   "execution_count": 29,
   "id": "35fc873f",
   "metadata": {},
   "outputs": [
    {
     "name": "stdout",
     "output_type": "stream",
     "text": [
      "2020-01-27 12:44:12.010000\n"
     ]
    }
   ],
   "source": [
    "import datetime\n",
    "date_time = datetime.datetime(2020,1,22,12,44,12,10000)\n",
    "time_delta = datetime.timedelta(days=5)\n",
    "print(date_time + time_delta)"
   ]
  },
  {
   "cell_type": "markdown",
   "id": "5e67cc62",
   "metadata": {},
   "source": [
    "## Exam"
   ]
  },
  {
   "cell_type": "code",
   "execution_count": 33,
   "id": "c7e548bf",
   "metadata": {},
   "outputs": [
    {
     "name": "stdout",
     "output_type": "stream",
     "text": [
      "2021-11-25\n"
     ]
    }
   ],
   "source": [
    "#- Capture Today's Date\n",
    "today = datetime.date.today()\n",
    "print(today)"
   ]
  },
  {
   "cell_type": "code",
   "execution_count": 37,
   "id": "a29b9bac",
   "metadata": {},
   "outputs": [
    {
     "name": "stdout",
     "output_type": "stream",
     "text": [
      "107\n"
     ]
    }
   ],
   "source": [
    "#- Calculate how many days left until your birthday\n",
    "birthday = datetime.date(2022,3,12)\n",
    "days_remaining = birthday - today\n",
    "print(days_remaining.days)"
   ]
  },
  {
   "cell_type": "code",
   "execution_count": 39,
   "id": "21afb52a",
   "metadata": {},
   "outputs": [
    {
     "name": "stdout",
     "output_type": "stream",
     "text": [
      "2021-12-15\n"
     ]
    }
   ],
   "source": [
    "# - Find what day is in 20 days from today\n",
    "time_delta = datetime.timedelta(days=20)\n",
    "print(today + time_delta)"
   ]
  },
  {
   "cell_type": "code",
   "execution_count": 40,
   "id": "d60976b1",
   "metadata": {},
   "outputs": [
    {
     "name": "stdout",
     "output_type": "stream",
     "text": [
      "2020-12-04\n"
     ]
    }
   ],
   "source": [
    "# - Create a new variable today_string = \"2020-12-04\"\n",
    "today_string = \"2020-12-04\"\n",
    "date_obj = datetime.date.fromisoformat(today_string)\n",
    "print(date_obj)"
   ]
  },
  {
   "cell_type": "code",
   "execution_count": 1,
   "id": "c928e531",
   "metadata": {},
   "outputs": [
    {
     "data": {
      "text/plain": [
       "datetime.time(12, 30, 45)"
      ]
     },
     "execution_count": 1,
     "metadata": {},
     "output_type": "execute_result"
    }
   ],
   "source": [
    "from datetime import time\n",
    "mytime=time(hour=12, minute=30, second=45)\n",
    "mytime"
   ]
  },
  {
   "cell_type": "code",
   "execution_count": 2,
   "id": "05232c5d",
   "metadata": {},
   "outputs": [
    {
     "data": {
      "text/plain": [
       "datetime.time(0, 15)"
      ]
     },
     "execution_count": 2,
     "metadata": {},
     "output_type": "execute_result"
    }
   ],
   "source": [
    "mytime=time(minute=15)\n",
    "mytime"
   ]
  },
  {
   "cell_type": "code",
   "execution_count": 3,
   "id": "4d6940a2",
   "metadata": {},
   "outputs": [
    {
     "data": {
      "text/plain": [
       "12"
      ]
     },
     "execution_count": 3,
     "metadata": {},
     "output_type": "execute_result"
    }
   ],
   "source": [
    "mytime=time(hour=12,minute=30,second=45)\n",
    "mytime.hour"
   ]
  },
  {
   "cell_type": "code",
   "execution_count": 4,
   "id": "a42eaa4b",
   "metadata": {},
   "outputs": [
    {
     "data": {
      "text/plain": [
       "30"
      ]
     },
     "execution_count": 4,
     "metadata": {},
     "output_type": "execute_result"
    }
   ],
   "source": [
    "mytime.minute"
   ]
  },
  {
   "cell_type": "code",
   "execution_count": 5,
   "id": "ca76d97f",
   "metadata": {},
   "outputs": [
    {
     "data": {
      "text/plain": [
       "45"
      ]
     },
     "execution_count": 5,
     "metadata": {},
     "output_type": "execute_result"
    }
   ],
   "source": [
    "mytime.second"
   ]
  },
  {
   "cell_type": "code",
   "execution_count": null,
   "id": "b5af6e01",
   "metadata": {},
   "outputs": [],
   "source": []
  }
 ],
 "metadata": {
  "kernelspec": {
   "display_name": "Python 3 (ipykernel)",
   "language": "python",
   "name": "python3"
  },
  "language_info": {
   "codemirror_mode": {
    "name": "ipython",
    "version": 3
   },
   "file_extension": ".py",
   "mimetype": "text/x-python",
   "name": "python",
   "nbconvert_exporter": "python",
   "pygments_lexer": "ipython3",
   "version": "3.9.7"
  }
 },
 "nbformat": 4,
 "nbformat_minor": 5
}
