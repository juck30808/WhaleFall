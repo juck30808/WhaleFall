{
 "cells": [
  {
   "cell_type": "code",
   "execution_count": null,
   "metadata": {},
   "outputs": [],
   "source": [
    "import pymongo\n",
    "conn=pymongo.MongoClient(\"mongodb://localhost:27017\")\n",
    "database=conn['Python']\n",
    "collection=database.list_collection_names()\n",
    "print(database.list_collection_names())\n",
    "if \"user\" in collection:\n",
    "    print(\"The collection is exist\")"
   ]
  },
  {
   "cell_type": "code",
   "execution_count": null,
   "metadata": {},
   "outputs": [],
   "source": [
    "'''\n",
    "import pymongo\n",
    "conn=pymongo.MongoClient(\"mongodb://localhost:27017/\")\n",
    "database=conn[\"Python\"]\n",
    "print(conn.list_database_names())\n",
    "list=conn.list_database_names()\n",
    "if \"Python\" in list:\n",
    "    print(\"The database is already exist\")'''\n",
    "import pymongo\n",
    "from pymongo import MongoClient\n",
    "\n",
    "conn=MongoClient(\"localhost\",27017)\n",
    "database=conn[\"Python1\"]\n",
    "print(\"Database is created and connected successfully\")\n"
   ]
  },
  {
   "cell_type": "code",
   "execution_count": null,
   "metadata": {},
   "outputs": [],
   "source": [
    "'''\n",
    "import sqlite3\n",
    "try:\n",
    "    conn = sqlite3.connect(\"database.db\")\n",
    "    cursor=conn.cursor()\n",
    "    print(\"Database Connection and creation is successfully created\")\n",
    "    cursor.close()\n",
    "\n",
    "except sqlite3.Error as error:\n",
    "    print(\"Error in creating Database\")\n",
    "finally:\n",
    "    if(conn):\n",
    "        conn.close()\n",
    "        print(\"Sqlite connection is closed\") \n",
    "_____________________________________\n",
    "import sqlite3\n",
    "try:\n",
    "    conn = sqlite3.connect(\"database.db\")\n",
    "    cursor=conn.cursor()\n",
    "    conn.execute(''' #CREATE TABLE STD(stdid INTEGER PRIMARY KEY AUTOINCREMENT,\n",
    "    #name TEXT(20) NOT NULL, age INTEGER, Dept TEXT(20));''')\n",
    "    #print(\"table in the database s successfully created\")\n",
    "   # cursor.close()\n",
    "\n",
    "#except sqlite3.Error as error:\n",
    "   # print(\"Error in creating Database\")\n",
    "#finally:\n",
    "    #if(conn):\n",
    "       # conn.close()\n",
    "       # print(\"Sqlite connection is closed\") '''\n",
    "\n",
    "import sqlite3\n",
    "try:\n",
    "    conn = sqlite3.connect(\"database.db\")\n",
    "    createtable=''' CREATE TABLE Dept(deptid INTEGER PRIMARY KEY AUTOINCREMENT,\n",
    "    deptname TEXT(20) NOT NULL, deptstr INTEGER, Deptprograms TEXT(20));'''\n",
    "    cursor=conn.cursor()\n",
    "    cursor.execute(createtable)\n",
    "    conn.commit()\n",
    "    print(\"Database table are created successfully\")\n",
    "    cursor.close()\n",
    "\n",
    "except sqlite3.Error as error:\n",
    "    print(\"Error in creating Database\",error)\n",
    "finally:\n",
    "    if(conn):\n",
    "        conn.close()\n",
    "        print(\"Sqlite connection is closed\")\n"
   ]
  },
  {
   "cell_type": "code",
   "execution_count": null,
   "metadata": {},
   "outputs": [],
   "source": [
    "import pymongo\n",
    "conn=pymongo.MongoClient(\"mongodb://localhost:27017\")\n",
    "database=conn[\"Python\"]\n",
    "collection=database[\"user\"]\n",
    "query={\"age\":{\"$regex\":\"^16\"}}\n",
    "count=collection.delete_many(query)\n",
    "print(count.deleted_count,\"documents deleted\")\n",
    "for a in collection.find():\n",
    "    print(a)\n",
    "\n",
    "#collection.delete_many({})"
   ]
  },
  {
   "cell_type": "code",
   "execution_count": null,
   "metadata": {},
   "outputs": [],
   "source": [
    "import pymongo\n",
    "conn=pymongo.MongoClient(\"mongodb://localhost:27017\")\n",
    "database=conn[\"Python\"]\n",
    "collection=database[\"user\"]\n",
    "insert=[{\"name\":\"David\",\"age\":\"20\"},\n",
    "{\"name\":\"Bob\",\"age\":\"21\"},\n",
    "{\"name\":\"alexa\",\"age\":\"25\"},\n",
    "{\"name\":\"alex\",\"age\":\"30\"},\n",
    "{\"name\":\"trodu\",\"age\":\"29\"},\n",
    "{\"name\":\"john\",\"age\":\"28\"},\n",
    "{\"name\":\"ben\",\"age\":\"20\"},\n",
    "{\"name\":\"betty\",\"age\":\"27\"},\n",
    "{\"name\":\"anna\",\"age\":\"18\"},\n",
    "{\"name\":\"amma\",\"age\":\"16\"},\n",
    "\n",
    "\n",
    "]\n",
    "a=collection.insert_many(insert)\n",
    "print(a.inserted_ids)"
   ]
  },
  {
   "cell_type": "code",
   "execution_count": null,
   "metadata": {},
   "outputs": [],
   "source": [
    "import pymongo\n",
    "conn=pymongo.MongoClient(\"mongodb://localhost:27017\")\n",
    "database=conn[\"Python\"]\n",
    "collection=database[\"user\"]\n",
    "query=collection.find().limit(5)\n",
    "for a in query:\n",
    "    print(a)\n"
   ]
  },
  {
   "cell_type": "code",
   "execution_count": null,
   "metadata": {},
   "outputs": [],
   "source": [
    "import pymongo\n",
    "conn=pymongo.MongoClient(\"mongodb://localhost:27017\")\n",
    "database=conn[\"Python\"]\n",
    "collection=database[\"user\"]\n",
    "query={\"name\":{\"$gt\":\"b\"}}\n",
    "documents=collection.find(query)\n",
    "for a in documents:\n",
    "    print(a)"
   ]
  },
  {
   "cell_type": "code",
   "execution_count": null,
   "metadata": {},
   "outputs": [],
   "source": [
    "'''import pymongo\n",
    "conn=pymongo.MongoClient(\"mongodb://localhost:27017\")\n",
    "database=conn[\"Python\"]\n",
    "collection=database[\"user\"]\n",
    "query={\"name\":\"alexa\"}\n",
    "newvalue={\"$set\":{\"name\":\"Alexa David\"}}\n",
    "collection.update_one(query,newvalue)\n",
    "for a in collection.find():\n",
    "    print(a) '''\n",
    "import pymongo\n",
    "conn=pymongo.MongoClient(\"mongodb://localhost:27017\")\n",
    "database=conn[\"Python\"]\n",
    "collection=database[\"user\"]\n",
    "query={\"name\":{\"$regex\":\"^b\"}}\n",
    "newvalue={\"$set\":{\"name\":\"John David\"}}\n",
    "a=collection.update_many(query,newvalue)\n",
    "print(a.modified_count,\"Your collection to many is updated\")"
   ]
  },
  {
   "cell_type": "code",
   "execution_count": null,
   "metadata": {},
   "outputs": [],
   "source": [
    "import pymongo\n",
    "\n",
    "client = pymongo.MongoClient(\"mongodb://localhost:27017\")\n",
    "\n",
    "db = client[\"lib\"]\n",
    "books = db[\"books\"]\n",
    "\n",
    "books.delete_many({\n",
    "    \"published\": 2021,\n",
    "})\n",
    "\n",
    "print([*books.find()])\n"
   ]
  },
  {
   "cell_type": "code",
   "execution_count": null,
   "metadata": {},
   "outputs": [],
   "source": [
    "import pymongo\n",
    "\n",
    "client = pymongo.MongoClient(\"mongodb://localhost:27017\")\n",
    "\n",
    "db = client[\"lib\"]\n",
    "books = db[\"books\"]\n",
    "query = {\n",
    "    \"name\": \"Life 3.0\"\n",
    "}\n",
    "# print([*books.find({\n",
    "#     \"name\": \"Life 3.0\"\n",
    "# }, {\n",
    "#     \"author\": 1\n",
    "# })])\n",
    "print([\n",
    "    *books.find().sort(\"published\", 1).limit(1)\n",
    "])\n"
   ]
  },
  {
   "cell_type": "code",
   "execution_count": null,
   "metadata": {},
   "outputs": [],
   "source": [
    "import pymongo\n",
    "\n",
    "client = pymongo.MongoClient(\"mongodb://localhost:27017\")\n",
    "\n",
    "db = client[\"lib\"]\n",
    "books = db[\"books\"]\n",
    "#\n",
    "# books.insert_one({\n",
    "#     \"name\": \"atomic habits\",\n",
    "#     \"author\": \"james clear\",\n",
    "#     \"published\": 2019\n",
    "# })\n",
    "books.insert_many([\n",
    "    {\n",
    "        \"name\": \"Good to great\",\n",
    "        \"author\": \"jim collins\",\n",
    "        \"published\": 1993\n",
    "    },\n",
    "    {\n",
    "        \"name\": \"Life 3.0\",\n",
    "        \"author\": \"Max tegmark\",\n",
    "        \"published\": 2017\n",
    "    }\n",
    "])\n"
   ]
  },
  {
   "cell_type": "code",
   "execution_count": null,
   "metadata": {},
   "outputs": [],
   "source": []
  },
  {
   "cell_type": "code",
   "execution_count": null,
   "metadata": {},
   "outputs": [],
   "source": []
  },
  {
   "cell_type": "code",
   "execution_count": null,
   "metadata": {},
   "outputs": [],
   "source": []
  }
 ],
 "metadata": {
  "kernelspec": {
   "display_name": "Python 3",
   "language": "python",
   "name": "python3"
  },
  "language_info": {
   "codemirror_mode": {
    "name": "ipython",
    "version": 3
   },
   "file_extension": ".py",
   "mimetype": "text/x-python",
   "name": "python",
   "nbconvert_exporter": "python",
   "pygments_lexer": "ipython3",
   "version": "3.8.5"
  }
 },
 "nbformat": 4,
 "nbformat_minor": 4
}
