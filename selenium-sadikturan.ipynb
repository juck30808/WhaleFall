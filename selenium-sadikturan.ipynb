{
 "cells": [
  {
   "cell_type": "code",
   "execution_count": null,
   "metadata": {},
   "outputs": [],
   "source": [
    "from selenium import webdriver\n",
    "from selenium.webdriver.common.keys import Keys\n",
    "import time\n",
    "\n",
    "chrome_driver_path = \"/Users/sadikturan/Drivers/chromedriver\"\n",
    "\n",
    "driver = webdriver.Chrome(chrome_driver_path)\n",
    "\n",
    "driver.get(\"https://tr.wikipedia.org/wiki/Anasayfa\")\n",
    "\n",
    "articleCountbtn = driver.find_elements_by_css_selector(\"#articlecount a\")[1]\n",
    "tumPortallar = driver.find_element_by_link_text(\"Tüm portaller\")\n",
    "\n",
    "# tumPortallar.click()\n",
    "\n",
    "# searchInput = driver.find_element_by_name(\"search\")\n",
    "# searchInput.send_keys(\"Python\")\n",
    "# searchInput.send_keys(Keys.ENTER)\n",
    "\n",
    "login = driver.find_element_by_css_selector(\"#pt-login a\")\n",
    "login.click()\n",
    "\n",
    "time.sleep(3)\n",
    "\n",
    "username = driver.find_element_by_id(\"wpName1\")\n",
    "username.send_keys(\"Sadikturan\")\n",
    "\n",
    "password = driver.find_element_by_id(\"wpPassword1\")\n",
    "password.send_keys(\"\")\n",
    "\n",
    "remember = driver.find_element_by_id(\"wpRemember\")\n",
    "remember.click()\n",
    "\n",
    "btn = driver.find_element_by_id(\"wpLoginAttempt\")\n",
    "btn.click()\n",
    "\n",
    "\n"
   ]
  },
  {
   "cell_type": "code",
   "execution_count": null,
   "metadata": {},
   "outputs": [],
   "source": []
  }
 ],
 "metadata": {
  "kernelspec": {
   "display_name": "Python 3",
   "language": "python",
   "name": "python3"
  },
  "language_info": {
   "codemirror_mode": {
    "name": "ipython",
    "version": 3
   },
   "file_extension": ".py",
   "mimetype": "text/x-python",
   "name": "python",
   "nbconvert_exporter": "python",
   "pygments_lexer": "ipython3",
   "version": "3.8.5"
  }
 },
 "nbformat": 4,
 "nbformat_minor": 4
}
