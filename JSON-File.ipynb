{
 "cells": [
  {
   "cell_type": "code",
   "execution_count": 2,
   "metadata": {},
   "outputs": [],
   "source": [
    "import json\n",
    "\n",
    "college = {\n",
    "    \"college\": \"Engineering\",\n",
    "    \"obj\": \"IM\",\n",
    "    \"departments\":{\n",
    "        \"dep1\": \"Informatino\",\n",
    "        \"dep2\": \"Management\"\n",
    "    },\n",
    "    \"years\":[\n",
    "        \"year1\",\"year2\",\"year3\",\"year4\"\n",
    "    ],\n",
    "    \"numbers\":[1,2,3,4],\n",
    "    \"ID\":[10,20,30,40]\n",
    "}\n",
    "\n",
    "json.dump(college,open(\"output/Managing_Data_Files.json\",\"w\"))"
   ]
  },
  {
   "cell_type": "code",
   "execution_count": 3,
   "metadata": {},
   "outputs": [
    {
     "data": {
      "text/plain": [
       "{'college': 'Engineering',\n",
       " 'obj': 'IM',\n",
       " 'departments': {'dep1': 'Informatino', 'dep2': 'Management'},\n",
       " 'years': ['year1', 'year2', 'year3', 'year4'],\n",
       " 'numbers': [1, 2, 3, 4],\n",
       " 'ID': [10, 20, 30, 40]}"
      ]
     },
     "execution_count": 3,
     "metadata": {},
     "output_type": "execute_result"
    }
   ],
   "source": [
    "new_college = json.load(open(\"output/Managing_Data_Files.json\",\"r\"))\n",
    "new_college"
   ]
  },
  {
   "cell_type": "code",
   "execution_count": null,
   "metadata": {},
   "outputs": [],
   "source": []
  }
 ],
 "metadata": {
  "kernelspec": {
   "display_name": "Python 3",
   "language": "python",
   "name": "python3"
  },
  "language_info": {
   "codemirror_mode": {
    "name": "ipython",
    "version": 3
   },
   "file_extension": ".py",
   "mimetype": "text/x-python",
   "name": "python",
   "nbconvert_exporter": "python",
   "pygments_lexer": "ipython3",
   "version": "3.8.5"
  }
 },
 "nbformat": 4,
 "nbformat_minor": 4
}
