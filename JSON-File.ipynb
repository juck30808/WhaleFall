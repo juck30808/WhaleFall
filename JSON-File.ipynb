{
 "cells": [
  {
   "cell_type": "code",
   "execution_count": 2,
   "metadata": {},
   "outputs": [],
   "source": [
    "import json\n",
    "\n",
    "college = {\n",
    "    \"college\": \"Engineering\",\n",
    "    \"obj\": \"IM\",\n",
    "    \"departments\":{\n",
    "        \"dep1\": \"Informatino\",\n",
    "        \"dep2\": \"Management\"\n",
    "    },\n",
    "    \"years\":[\n",
    "        \"year1\",\"year2\",\"year3\",\"year4\"\n",
    "    ],\n",
    "    \"numbers\":[1,2,3,4],\n",
    "    \"ID\":[10,20,30,40]\n",
    "}\n",
    "\n",
    "json.dump(college,open(\"output/Managing_Data_Files.json\",\"w\"))"
   ]
  },
  {
   "cell_type": "code",
   "execution_count": 3,
   "metadata": {},
   "outputs": [
    {
     "data": {
      "text/plain": [
       "{'college': 'Engineering',\n",
       " 'obj': 'IM',\n",
       " 'departments': {'dep1': 'Informatino', 'dep2': 'Management'},\n",
       " 'years': ['year1', 'year2', 'year3', 'year4'],\n",
       " 'numbers': [1, 2, 3, 4],\n",
       " 'ID': [10, 20, 30, 40]}"
      ]
     },
     "execution_count": 3,
     "metadata": {},
     "output_type": "execute_result"
    }
   ],
   "source": [
    "new_college = json.load(open(\"output/Managing_Data_Files.json\",\"r\"))\n",
    "new_college"
   ]
  },
  {
   "cell_type": "code",
   "execution_count": null,
   "metadata": {},
   "outputs": [],
   "source": [
    "import requests\n",
    "import json\n",
    "\n",
    "api_url = \"https://api.exchangeratesapi.io/latest?base=\"\n",
    "\n",
    "bozulan_doviz = input(\"bozulan döviz türü: \")\n",
    "alinan_doviz = input(\"alınan döviz türü: \")\n",
    "miktar = int(input(f\"Ne kadar {bozulan_doviz} bozdurmak istiyorsunuz: \"))\n",
    "\n",
    "result = requests.get(api_url+bozulan_doviz)\n",
    "result = json.loads(result.text)\n",
    "\n",
    "print(\"1 {0} = {1} {2}\".format(bozulan_doviz, result[\"rates\"][alinan_doviz], alinan_doviz))\n",
    "print(\"{0} {1} = {2} {3}\".format(miktar, bozulan_doviz, miktar * result[\"rates\"][alinan_doviz],alinan_doviz))"
   ]
  },
  {
   "cell_type": "code",
   "execution_count": null,
   "metadata": {},
   "outputs": [],
   "source": []
  },
  {
   "cell_type": "code",
   "execution_count": null,
   "metadata": {},
   "outputs": [],
   "source": []
  },
  {
   "cell_type": "code",
   "execution_count": 1,
   "metadata": {},
   "outputs": [
    {
     "name": "stdout",
     "output_type": "stream",
     "text": [
      "carlos\n"
     ]
    }
   ],
   "source": [
    "### convert from JSON to Python ###\n",
    "\n",
    "import json\n",
    "# adding some JSON\n",
    "player1 = '{\"name\":\"carlos\", \"age\": 35, \"city\": \"porto\"}'\n",
    "# parse\n",
    "x = json.loads(player1)\n",
    "# display the output\n",
    "print(x[\"name\"])\n"
   ]
  },
  {
   "cell_type": "code",
   "execution_count": 2,
   "metadata": {},
   "outputs": [
    {
     "name": "stdout",
     "output_type": "stream",
     "text": [
      "{\"name\": \"carlos\", \"age\": 35, \"city\": \"porto\"}\n"
     ]
    }
   ],
   "source": [
    "### Convert from Python to JSON ###\n",
    "import json\n",
    "\n",
    "# create python dictionary\n",
    "player1 = {\n",
    "    \"name\": \"carlos\",\n",
    "    \"age\": 35,\n",
    "    \"city\": \"porto\"\n",
    "}\n",
    "\n",
    "# converting into JSON\n",
    "x = json.dumps(player1)\n",
    "\n",
    "# displaying output\n",
    "print(x)\n"
   ]
  },
  {
   "cell_type": "code",
   "execution_count": 3,
   "metadata": {},
   "outputs": [
    {
     "name": "stdout",
     "output_type": "stream",
     "text": [
      "{\"name\": \"carlos\", \"age\": 35}\n",
      "[\"orange\", \"lemon\"]\n",
      "[\"apple\", \"fig\"]\n",
      "\"hi there\"\n",
      "55\n",
      "45.87\n",
      "true\n",
      "false\n",
      "null\n"
     ]
    }
   ],
   "source": [
    "### convert python objects ###\n",
    "import json\n",
    "\n",
    "print(json.dumps({\"name\": \"carlos\", \"age\": 35}))\n",
    "print(json.dumps([\"orange\", \"lemon\"]))\n",
    "print(json.dumps((\"apple\", \"fig\")))\n",
    "print(json.dumps(\"hi there\"))\n",
    "print(json.dumps(55))\n",
    "print(json.dumps(45.87))\n",
    "print(json.dumps(True))\n",
    "print(json.dumps(False))\n",
    "print(json.dumps(None))\n"
   ]
  },
  {
   "cell_type": "code",
   "execution_count": 4,
   "metadata": {},
   "outputs": [
    {
     "ename": "FileNotFoundError",
     "evalue": "[Errno 2] No such file or directory: 'player.json'",
     "output_type": "error",
     "traceback": [
      "\u001b[1;31m---------------------------------------------------------------------------\u001b[0m",
      "\u001b[1;31mFileNotFoundError\u001b[0m                         Traceback (most recent call last)",
      "\u001b[1;32mC:\\Users\\CTI110~1\\AppData\\Local\\Temp/ipykernel_20508/1860179319.py\u001b[0m in \u001b[0;36m<module>\u001b[1;34m\u001b[0m\n\u001b[0;32m      2\u001b[0m \u001b[1;32mimport\u001b[0m \u001b[0mjson\u001b[0m\u001b[1;33m\u001b[0m\u001b[1;33m\u001b[0m\u001b[0m\n\u001b[0;32m      3\u001b[0m \u001b[1;33m\u001b[0m\u001b[0m\n\u001b[1;32m----> 4\u001b[1;33m \u001b[1;32mwith\u001b[0m \u001b[0mopen\u001b[0m\u001b[1;33m(\u001b[0m\u001b[1;34m'player.json'\u001b[0m\u001b[1;33m)\u001b[0m \u001b[1;32mas\u001b[0m \u001b[0mf\u001b[0m\u001b[1;33m:\u001b[0m\u001b[1;33m\u001b[0m\u001b[1;33m\u001b[0m\u001b[0m\n\u001b[0m\u001b[0;32m      5\u001b[0m     \u001b[0mdata\u001b[0m \u001b[1;33m=\u001b[0m \u001b[0mjson\u001b[0m\u001b[1;33m.\u001b[0m\u001b[0mload\u001b[0m\u001b[1;33m(\u001b[0m\u001b[0mf\u001b[0m\u001b[1;33m)\u001b[0m\u001b[1;33m\u001b[0m\u001b[1;33m\u001b[0m\u001b[0m\n\u001b[0;32m      6\u001b[0m \u001b[1;33m\u001b[0m\u001b[0m\n",
      "\u001b[1;31mFileNotFoundError\u001b[0m: [Errno 2] No such file or directory: 'player.json'"
     ]
    }
   ],
   "source": [
    "# parse json file\n",
    "import json\n",
    "\n",
    "with open('input/player.json') as f:\n",
    "    data = json.load(f)\n",
    "\n",
    "# displaying output\n",
    "print(data)\n"
   ]
  },
  {
   "cell_type": "code",
   "execution_count": null,
   "metadata": {},
   "outputs": [],
   "source": [
    "### Writing JSON to a file ###\n",
    "import json\n",
    "\n",
    "player1 = {\"name\": \"carlos\",\n",
    "\"age\": 35,\n",
    "\"languages\": [\"English\",\"Portuguese\"],\n",
    "\"city\": \"Porto\"\n",
    "}\n",
    "\n",
    "# open file in write mode\n",
    "with open(\"player1.txt\", \"w\") as json_file:\n",
    "    json.dump(player1, json_file)"
   ]
  },
  {
   "cell_type": "code",
   "execution_count": 5,
   "metadata": {
    "scrolled": false
   },
   "outputs": [
    {
     "name": "stdout",
     "output_type": "stream",
     "text": [
      "{\n",
      "    \"age\": 35,\n",
      "    \"languages\": [\n",
      "        \"English\",\n",
      "        \"Portuguese\"\n",
      "    ],\n",
      "    \"levels\": [\n",
      "        10,\n",
      "        10.5,\n",
      "        null\n",
      "    ],\n",
      "    \"name\": \"carlos\"\n",
      "}\n"
     ]
    }
   ],
   "source": [
    "### Python pretty print JSON ###\n",
    "import json\n",
    "\n",
    "player = '{\"name\": \"carlos\", \"age\": 35, \"languages\": [\"English\", \"Portuguese\"], \"levels\": [10, 10.5, null]}'\n",
    "\n",
    "# we can get the player dict\n",
    "player_dict = json.loads(player)\n",
    "\n",
    "# displaying JSON string with editing\n",
    "print(json.dumps(player_dict, indent = 4, sort_keys = True))"
   ]
  },
  {
   "cell_type": "code",
   "execution_count": null,
   "metadata": {},
   "outputs": [],
   "source": []
  },
  {
   "cell_type": "markdown",
   "metadata": {},
   "source": [
    "## Project - dictionary word"
   ]
  },
  {
   "cell_type": "code",
   "execution_count": 4,
   "metadata": {},
   "outputs": [
    {
     "name": "stdout",
     "output_type": "stream",
     "text": [
      "Enter wordgood\n",
      "In the interest of a positive purpose.\n",
      "Kind and willing.\n",
      "Having desired or positive qualities.\n",
      "The nutritional, healthy part of something.\n",
      "Of moral excellence.\n",
      "In a thorough or complete manner.\n",
      "[The abstract instantiation of something qualified by the adjective 'good'.]\n",
      "An article of commerce.\n",
      "A result that is positive in the view of the speaker.\n",
      "The forces or behaviors that are the enemy of evil.\n"
     ]
    }
   ],
   "source": [
    "import json\n",
    "from difflib import get_close_matches\n",
    "data = json.load(open(\"input/data.json\"))\n",
    "\n",
    "def dictionary(word):\n",
    "    word=word.lower()\n",
    "    if word in data:\n",
    "        return (data[word])\n",
    "    elif word.title() in data:\n",
    "        return (data[word.title()])\n",
    "    elif word.upper() in data:\n",
    "        return (data[word.upper()])\n",
    "    elif len(get_close_matches(word,data.keys()))>0:\n",
    "        print(\"did you mean %s    \"%get_close_matches(word,data.keys())[0])\n",
    "        tell=input(\"press y for yes or n for no\")\n",
    "        if tell == \"y\":\n",
    "            return (data[get_close_matches(word,data.keys())[0]])\n",
    "        elif tell == \"n\":\n",
    "            return (\"error in word\")\n",
    "        else:\n",
    "            return(\"word not found\")\n",
    "    else:\n",
    "        print(\"word not found\")\n",
    "\n",
    "word=input(\"Enter word\")\n",
    "result=dictionary(word)\n",
    "\n",
    "if type(result)== list:\n",
    "    for item in result:\n",
    "        print(item)\n",
    "else:\n",
    "    print(result)"
   ]
  },
  {
   "cell_type": "code",
   "execution_count": 3,
   "metadata": {},
   "outputs": [],
   "source": [
    "import json\n",
    "from difflib import get_close_matches\n",
    "\n",
    "data = json.load(open(\"input/data.json\"))\n",
    "\n",
    "def insert1(data):\n",
    "    if type(data)== list:\n",
    "        for item in data:\n",
    "            t.insert(END,item+'\\n')\n",
    "    else:\n",
    "        t.insert(END,data+'\\n')\n",
    "\n",
    "def dictionary():\n",
    "    word=ent_val.get()\n",
    "    word=word.lower()\n",
    "    if word in data:\n",
    "        insert1(data[word])\n",
    "    elif word.title() in data:\n",
    "        insert1(data[word.title()])\n",
    "    elif word.upper() in data:\n",
    "        insert1(data[word.upper()])\n",
    "    else:\n",
    "        if len(get_close_matches(word,data.keys()))==0:\n",
    "            insert1([\"No word Found\"])\n",
    "        else:\n",
    "            tell=tkinter.messagebox.askquestion(\"Word Suggestion\",\"Is your word  \"+get_close_matches(word,data.keys())[0]+\"?\")\n",
    "        if tell == \"yes\":\n",
    "            insert1(data[get_close_matches(word,data.keys())[0]])\n",
    "        else:\n",
    "            insert1(\"Check Word\")\n",
    "\n",
    "def clear():\n",
    "    t.delete(1.0,END)\n",
    "    ent.delete(0,END)\n",
    "    \n",
    "    dictionary\n",
    "\n",
    "\n",
    "from tkinter import *\n",
    "import tkinter.messagebox\n",
    "\n",
    "root=Tk()\n",
    "\n",
    "head=Label(root,text=\"Python Dictionary\",bg=\"red\",fg=\"white\")\n",
    "head.pack(fill=X)\n",
    "label1=Label(root,text=\"Enter Word\")\n",
    "label1.pack(fill=X)\n",
    "\n",
    "ent_val=StringVar()\n",
    "ent=Entry(root,textvariable=ent_val)\n",
    "ent.pack()\n",
    "\n",
    "button=Button(root,text=\"Meaning\",command=dictionary,bg=\"orange\")\n",
    "button.pack()\n",
    "\n",
    "t=Text(root)\n",
    "t.pack(fill=X)\n",
    "\n",
    "label2=Label(root,text=\"Clear Screen\")\n",
    "label2.pack()\n",
    "\n",
    "button2=Button(root,text=\"Clear\",command=clear,bg=\"orange\")\n",
    "button2.pack()\n",
    "\n",
    "\n",
    "root.title(\"Dictionary\")\n",
    "\n",
    "root.mainloop()\n"
   ]
  },
  {
   "cell_type": "code",
   "execution_count": null,
   "metadata": {},
   "outputs": [],
   "source": []
  }
 ],
 "metadata": {
  "kernelspec": {
   "display_name": "Python 3 (ipykernel)",
   "language": "python",
   "name": "python3"
  },
  "language_info": {
   "codemirror_mode": {
    "name": "ipython",
    "version": 3
   },
   "file_extension": ".py",
   "mimetype": "text/x-python",
   "name": "python",
   "nbconvert_exporter": "python",
   "pygments_lexer": "ipython3",
   "version": "3.9.7"
  }
 },
 "nbformat": 4,
 "nbformat_minor": 4
}
