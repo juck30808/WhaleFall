{
 "cells": [
  {
   "cell_type": "code",
   "execution_count": 1,
   "metadata": {},
   "outputs": [
    {
     "name": "stdout",
     "output_type": "stream",
     "text": [
      "Welcome to the Frequency Analysis App\n",
      "Enter a word or phrase to count the occurrence of each letter: afasfs\n",
      "\n",
      "Here is the frequency analysis from key phrase 1: \n",
      "\n",
      "\tLetter\t\tOccurrence\tPercentage\n",
      "\ta\t\t2\t\t33.33%\n",
      "\tf\t\t2\t\t33.33%\n",
      "\ts\t\t2\t\t33.33%\n",
      "\n",
      "Letters ordered from highest occurrence to lowest: \n",
      "afs\n",
      "\n",
      "Enter a word or phrase to count the occurrence of each letter: fafaf\n",
      "\n",
      "Here is the frequency analysis from key phrase 2: \n",
      "\n",
      "\tLetter\t\tOccurrence\tPercentage\n",
      "\ta\t\t2\t\t40.0%\n",
      "\tf\t\t3\t\t60.0%\n",
      "\n",
      "Letters ordered from highest occurrence to lowest: \n",
      "fa"
     ]
    }
   ],
   "source": [
    "from collections import Counter\n",
    "print(\"Welcome to the Frequency Analysis App\")\n",
    "non_letters = ['1','2','3','4','5','6','7','8','9','0',' ', '.','?','!',\n",
    "               ',','\"',\"'\",':',';','(',')','%','$','&','#','\\n','\\t'] \n",
    "\n",
    "#Information for the first key key_phrase_1\n",
    "key_phrase_1 = input(\"Enter a word or phrase to count the occurrence of each letter: \").lower().strip()\n",
    "for non_letter in non_letters:\n",
    "    key_phrase_1 = key_phrase_1.replace(non_letter, '')\n",
    "total_occurrences = len(key_phrase_1)\n",
    "\n",
    "#Create a counter object to tally the number of each letter\n",
    "letter_count = Counter(key_phrase_1)\n",
    "print(\"\\nHere is the frequency analysis from key phrase 1: \")\n",
    "print(\"\\n\\tLetter\\t\\tOccurrence\\tPercentage\")\n",
    "for key, value in sorted(letter_count.items()):\n",
    "    percentage = 100*value/total_occurrences\n",
    "    percentage = round(percentage, 2)\n",
    "    print(\"\\t\" + key + \"\\t\\t\" + str(value) + \"\\t\\t\" + str(percentage) + \"%\")\n",
    "\n",
    "#Make a list of letters from highest occurrence to lowest\n",
    "ordered_letter_count = letter_count.most_common()\n",
    "key_phrase_1_ordered_letters = []\n",
    "for pair in ordered_letter_count:\n",
    "    key_phrase_1_ordered_letters.append(pair[0])\n",
    "\n",
    "#Print the list\n",
    "print(\"\\nLetters ordered from highest occurrence to lowest: \")\n",
    "for letter in key_phrase_1_ordered_letters:\n",
    "    print(letter, end='')\n",
    "\n",
    "    \n",
    "    \n",
    "#Information for the second key key_phrase_2\n",
    "key_phrase_2 = input(\"\\n\\nEnter a word or phrase to count the occurrence of each letter: \").lower().strip()\n",
    "for non_letter in non_letters:\n",
    "    key_phrase_2 = key_phrase_2.replace(non_letter, '')\n",
    "    total_occurrences = len(key_phrase_2)\n",
    "    \n",
    "#Create a counter object to tally the number of each letter\n",
    "letter_count = Counter(key_phrase_2)\n",
    "print(\"\\nHere is the frequency analysis from key phrase 2: \")\n",
    "print(\"\\n\\tLetter\\t\\tOccurrence\\tPercentage\")\n",
    "for key, value in sorted(letter_count.items()):\n",
    "    percentage = 100*value/total_occurrences\n",
    "    percentage = round(percentage, 2)\n",
    "    print(\"\\t\" + key + \"\\t\\t\" + str(value) + \"\\t\\t\" + str(percentage) + \"%\")\n",
    "\n",
    "\n",
    "#Make a list of letters from highest occurrence to lowest\n",
    "ordered_letter_count = letter_count.most_common()\n",
    "key_phrase_2_ordered_letters = []\n",
    "for pair in ordered_letter_count:\n",
    "    key_phrase_2_ordered_letters.append(pair[0])\n",
    "\n",
    "#Print the list\n",
    "print(\"\\nLetters ordered from highest occurrence to lowest: \")\n",
    "for letter in key_phrase_2_ordered_letters:\n",
    "    print(letter, end='')"
   ]
  },
  {
   "cell_type": "code",
   "execution_count": null,
   "metadata": {},
   "outputs": [],
   "source": []
  }
 ],
 "metadata": {
  "kernelspec": {
   "display_name": "Python 3",
   "language": "python",
   "name": "python3"
  },
  "language_info": {
   "codemirror_mode": {
    "name": "ipython",
    "version": 3
   },
   "file_extension": ".py",
   "mimetype": "text/x-python",
   "name": "python",
   "nbconvert_exporter": "python",
   "pygments_lexer": "ipython3",
   "version": "3.8.5"
  }
 },
 "nbformat": 4,
 "nbformat_minor": 4
}
