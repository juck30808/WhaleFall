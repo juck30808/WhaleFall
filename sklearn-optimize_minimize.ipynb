{
 "cells": [
  {
   "cell_type": "code",
   "execution_count": 6,
   "id": "66df4bb7",
   "metadata": {},
   "outputs": [
    {
     "data": {
      "text/plain": [
       "     fun: -8500576.1034527\n",
       "     jac: array([-517744.25 , -517744.125, -517744.125])\n",
       " message: 'Optimization terminated successfully'\n",
       "    nfev: 46\n",
       "     nit: 10\n",
       "    njev: 10\n",
       "  status: 0\n",
       " success: True\n",
       "       x: array([48.75855301, 32.94660318, 18.29484381])"
      ]
     },
     "execution_count": 6,
     "metadata": {},
     "output_type": "execute_result"
    }
   ],
   "source": [
    "import pandas as pd\n",
    "import numpy as np\n",
    "from sklearn.linear_model import LinearRegression\n",
    "\n",
    "data= pd.read_excel('input/Assortment_Assignment.xlsx')\n",
    "data.columns\n",
    "\n",
    "data_logged= np.log10(data.loc[:,'Space-Sports': 'Everyday Wear'])\n",
    "\n",
    "model_sports= LinearRegression()\n",
    "model_luxury=LinearRegression()\n",
    "model_everyday= LinearRegression()\n",
    "\n",
    "### define x and y\n",
    "\n",
    "y_sports= data_logged[['Sports']]\n",
    "y_luxury= data_logged[['Everyday Wear']]\n",
    "y_everyday= data_logged[['Sports']]\n",
    "\n",
    "X= data_logged[['Space-Sports','Space-Luxury', 'Space- Everyday-wear']]\n",
    "names= data_logged[['Space-Sports','Space-Luxury', 'Space- Everyday-wear']].columns\n",
    "\n",
    "##fit the models\n",
    "model_sports.fit(X,y_sports)\n",
    "model_everyday.fit(X,y_luxury)\n",
    "model_luxury.fit(X,y_everyday)\n",
    "\n",
    "\n",
    "sports_intercept= model_sports.intercept_[0]\n",
    "everyday_intercept= model_everyday.intercept_[0]\n",
    "luxury_intercept= model_luxury.intercept_[0]\n",
    "\n",
    "sports_coef= dict(zip(names,model_sports.coef_[0]))\n",
    "luxury_coef= dict(zip(names,model_luxury.coef_[0]))\n",
    "everyday_coef= dict(zip(names,model_everyday.coef_[0]))\n",
    "\n",
    "from scipy import optimize\n",
    "\n",
    "initial_value=10\n",
    "n_variables= 3\n",
    "variables= np.repeat(initial_value,n_variables)\n",
    "\n",
    "def assortment(variables):\n",
    "    sales_sports= ((10**sports_intercept)*\n",
    "                  (variables[0]**sports_coef['Space-Sports'])*\n",
    "                  (variables[1]**sports_coef['Space-Luxury'])*\n",
    "                  (variables[2]**sports_coef['Space- Everyday-wear']))\n",
    "    sales_luxury= ((10**luxury_intercept)*\n",
    "                  (variables[0]**luxury_coef['Space-Sports'])*\n",
    "                  (variables[1]**luxury_coef['Space-Luxury'])*\n",
    "                  (variables[2]**luxury_coef['Space- Everyday-wear']))\n",
    "    sales_everyday= ((10**everyday_intercept)*\n",
    "                  (variables[0]**everyday_coef['Space-Sports'])*\n",
    "                  (variables[1]**everyday_coef['Space-Luxury'])*\n",
    "                  (variables[2]**everyday_coef['Space- Everyday-wear']))\n",
    "    profit= (sales_sports* data['Sports.1'][0]+ \n",
    "         sales_luxury*data['Luxury.1'][0]+sales_everyday * data['Everyday Wear.1'][0])\n",
    "    \n",
    "    return (- profit)\n",
    "                  \n",
    "def con(variables):\n",
    "    return (variables[0]+ variables[1]+variables[2]-100)\n",
    "\n",
    "cons= { 'type': 'eq','fun': con}\n",
    "\n",
    "bnds=((10,70),(10,70),(10,70))\n",
    "\n",
    "\n",
    "optim= optimize.minimize(assortment,variables,bounds= bnds,constraints= cons)\n",
    "optim"
   ]
  },
  {
   "cell_type": "code",
   "execution_count": null,
   "id": "95fd6d2a",
   "metadata": {},
   "outputs": [],
   "source": []
  }
 ],
 "metadata": {
  "kernelspec": {
   "display_name": "Python 3 (ipykernel)",
   "language": "python",
   "name": "python3"
  },
  "language_info": {
   "codemirror_mode": {
    "name": "ipython",
    "version": 3
   },
   "file_extension": ".py",
   "mimetype": "text/x-python",
   "name": "python",
   "nbconvert_exporter": "python",
   "pygments_lexer": "ipython3",
   "version": "3.9.7"
  }
 },
 "nbformat": 4,
 "nbformat_minor": 5
}
