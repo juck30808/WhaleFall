{
 "cells": [
  {
   "cell_type": "code",
   "execution_count": 1,
   "id": "a5deeef8",
   "metadata": {},
   "outputs": [
    {
     "name": "stderr",
     "output_type": "stream",
     "text": [
      "C:\\Users\\CTI110~1\\AppData\\Local\\Temp/ipykernel_5740/2517030772.py:3: DeprecationWarning: executable_path has been deprecated, please pass in a Service object\n",
      "  driver = webdriver.Chrome(executable_path='driver/chromedriver')\n"
     ]
    },
    {
     "name": "stdout",
     "output_type": "stream",
     "text": [
      "DemoStore – Just another WordPress site\n"
     ]
    }
   ],
   "source": [
    "from selenium import webdriver\n",
    "\n",
    "driver = webdriver.Chrome(executable_path='driver/chromedriver')\n",
    "# driver = webdriver.Firefox()\n",
    "\n",
    "driver.get('http://demostore.supersqa.com')\n",
    "print(driver.title)"
   ]
  },
  {
   "cell_type": "code",
   "execution_count": 2,
   "id": "2ef830c0",
   "metadata": {},
   "outputs": [
    {
     "name": "stderr",
     "output_type": "stream",
     "text": [
      "C:\\Users\\CTI110~1\\AppData\\Local\\Temp/ipykernel_5740/1794899762.py:4: DeprecationWarning: executable_path has been deprecated, please pass in a Service object\n",
      "  driver = webdriver.Chrome(executable_path='driver/chromedriver')\n"
     ]
    },
    {
     "name": "stdout",
     "output_type": "stream",
     "text": [
      "Number of products: 14\n",
      "$85.51\n",
      "Album\n",
      "$60.32\n",
      "Beanie\n",
      "$36.61\n",
      "Beanie with Logo\n",
      "$22.51\n",
      "Belt\n",
      "$65.80\n",
      "Cap\n",
      "$55.92\n",
      "Hoodie with Logo\n",
      "$50.24\n",
      "Hoodie with Zipper\n",
      "$88.33\n",
      "Long Sleeve Tee\n",
      "$96.48\n",
      "Polo\n",
      "$79.48\n",
      "Product\n",
      "$70.38\n",
      "Product\n",
      "$80.55\n",
      "Single\n",
      "$97.19\n",
      "Sunglasses\n",
      "$78.48\n",
      "T-Shirt\n",
      "14\n",
      "[{'name': 'Album', 'price': '$85.51'}, {'name': 'Beanie', 'price': '$60.32'}, {'name': 'Beanie with Logo', 'price': '$36.61'}, {'name': 'Belt', 'price': '$22.51'}, {'name': 'Cap', 'price': '$65.80'}, {'name': 'Hoodie with Logo', 'price': '$55.92'}, {'name': 'Hoodie with Zipper', 'price': '$50.24'}, {'name': 'Long Sleeve Tee', 'price': '$88.33'}, {'name': 'Polo', 'price': '$96.48'}, {'name': 'Product', 'price': '$79.48'}, {'name': 'Product', 'price': '$70.38'}, {'name': 'Single', 'price': '$80.55'}, {'name': 'Sunglasses', 'price': '$97.19'}, {'name': 'T-Shirt', 'price': '$78.48'}]\n"
     ]
    }
   ],
   "source": [
    "from selenium import webdriver\n",
    "from selenium.webdriver.common.by import By\n",
    "\n",
    "driver = webdriver.Chrome(executable_path='driver/chromedriver')\n",
    "driver.implicitly_wait(5)\n",
    "url = 'http://demostore.supersqa.com'\n",
    "driver.get(url)\n",
    "\n",
    "all_products = driver.find_elements(By.CLASS_NAME, 'product-type-simple')\n",
    "print(f\"Number of products: {len(all_products)}\")\n",
    "\n",
    "all_product_an_price = []\n",
    "for product in all_products:\n",
    "    price_elm = product.find_element(By.CSS_SELECTOR, 'span.amount')\n",
    "    price = price_elm.text\n",
    "\n",
    "    name_elm = product.find_element(By.CSS_SELECTOR, 'h2.woocommerce-loop-product__title')\n",
    "    name = name_elm.text\n",
    "    print(price)\n",
    "    print(name)\n",
    "    all_product_an_price.append({'name': name, 'price': price})\n",
    "\n",
    "print(len(all_product_an_price))\n",
    "print(all_product_an_price)"
   ]
  },
  {
   "cell_type": "markdown",
   "id": "cabab5bd",
   "metadata": {},
   "source": [
    "## verify_invalid_coupon_fails"
   ]
  },
  {
   "cell_type": "code",
   "execution_count": 3,
   "id": "9b6fd997",
   "metadata": {},
   "outputs": [
    {
     "name": "stderr",
     "output_type": "stream",
     "text": [
      "C:\\Users\\CTI110~1\\AppData\\Local\\Temp/ipykernel_5740/1270848253.py:7: DeprecationWarning: executable_path has been deprecated, please pass in a Service object\n",
      "  driver = webdriver.Chrome(executable_path='driver/chromedriver')\n"
     ]
    },
    {
     "name": "stdout",
     "output_type": "stream",
     "text": [
      "PASS\n"
     ]
    }
   ],
   "source": [
    "from selenium import webdriver\n",
    "from selenium.webdriver.common.by import By\n",
    "from selenium.common.exceptions import NoSuchElementException\n",
    "import time\n",
    "\n",
    "def open_browser():\n",
    "    driver = webdriver.Chrome(executable_path='driver/chromedriver')\n",
    "    driver.implicitly_wait(5)\n",
    "    return driver\n",
    "\n",
    "def go_to_home_page(driver):\n",
    "    driver.get('http://demostore.supersqa.com')\n",
    "\n",
    "def add_first_item_to_cart(driver):\n",
    "    first_add_btn = driver.find_element(By.CLASS_NAME, 'add_to_cart_button')\n",
    "    first_add_btn.click()\n",
    "\n",
    "def go_to_cart_page(driver):\n",
    "    driver.get('http://demostore.supersqa.com/cart')\n",
    "\n",
    "def apply_coupon(driver, coupon_code):\n",
    "    coupon_field = driver.find_element(By.ID, 'coupon_code')\n",
    "    coupon_field.send_keys(coupon_code)\n",
    "    apply_btn = driver.find_element(By.CSS_SELECTOR, '#post-7 > div > div > form > table > tbody > tr:nth-child(2) > td > div > button')\n",
    "    apply_btn.click()\n",
    "\n",
    "def verify_cart_has_item(driver):\n",
    "\n",
    "    for i in range(5):\n",
    "        try:\n",
    "            driver.find_element(By.CLASS_NAME, 'cart_item')\n",
    "            return\n",
    "        except NoSuchElementException:\n",
    "            print(\"Item not in cart. Retrying after 2 seconds\")\n",
    "            time.sleep(2)\n",
    "            driver.refresh()\n",
    "\n",
    "def get_displayed_error_message(driver):\n",
    "    return driver.find_element(By.XPATH, '//*[@id=\"post-7\"]/div/div/div[1]/ul/li').text\n",
    "\n",
    "\n",
    "if __name__ == '__main__':\n",
    "\n",
    "    driver = open_browser()\n",
    "    go_to_home_page(driver)\n",
    "    add_first_item_to_cart(driver)\n",
    "    go_to_cart_page(driver)\n",
    "    verify_cart_has_item(driver)\n",
    "    apply_coupon(driver, 'fakeone')\n",
    "    get_displayed_error_message(driver)\n",
    "    err_msg = get_displayed_error_message(driver)\n",
    "    exp_msg = 'Coupon \"fakeone\" does not exist!'\n",
    "    assert err_msg == exp_msg, f\"Unexpected err message: {err_msg}\"\n",
    "    print('PASS')\n",
    "    # driver.quit()"
   ]
  }
 ],
 "metadata": {
  "kernelspec": {
   "display_name": "Python 3 (ipykernel)",
   "language": "python",
   "name": "python3"
  },
  "language_info": {
   "codemirror_mode": {
    "name": "ipython",
    "version": 3
   },
   "file_extension": ".py",
   "mimetype": "text/x-python",
   "name": "python",
   "nbconvert_exporter": "python",
   "pygments_lexer": "ipython3",
   "version": "3.9.7"
  }
 },
 "nbformat": 4,
 "nbformat_minor": 5
}
