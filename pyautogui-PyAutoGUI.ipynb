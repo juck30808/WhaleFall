{
 "cells": [
  {
   "cell_type": "code",
   "execution_count": null,
   "metadata": {},
   "outputs": [],
   "source": [
    "!pip install pyautogui"
   ]
  },
  {
   "cell_type": "code",
   "execution_count": null,
   "metadata": {},
   "outputs": [],
   "source": [
    "import pyautogui\n",
    "print(pyautogui.position()) # mouse position"
   ]
  },
  {
   "cell_type": "code",
   "execution_count": null,
   "metadata": {},
   "outputs": [],
   "source": [
    "pyautogui.size()  #解析度"
   ]
  },
  {
   "cell_type": "code",
   "execution_count": null,
   "metadata": {},
   "outputs": [],
   "source": [
    "pyautogui.moveTo(100, 100, duration = 0.5)   # move to x=100，y=100 絕對位置"
   ]
  },
  {
   "cell_type": "code",
   "execution_count": null,
   "metadata": {},
   "outputs": [],
   "source": [
    "pyautogui.moveRel(100, 100, duration = 0.5)  # move to x=100，y=100 相對位置"
   ]
  },
  {
   "cell_type": "code",
   "execution_count": null,
   "metadata": {},
   "outputs": [],
   "source": [
    "pyautogui.dragTo(100, 100, duration=0.5, button='left')  # hold"
   ]
  },
  {
   "cell_type": "code",
   "execution_count": null,
   "metadata": {},
   "outputs": [],
   "source": [
    "pyautogui.click(clicks=2, interval=0.1, button='left')   # double click"
   ]
  },
  {
   "cell_type": "code",
   "execution_count": null,
   "metadata": {},
   "outputs": [],
   "source": [
    "pyautogui.scroll(2) #roll"
   ]
  },
  {
   "cell_type": "markdown",
   "metadata": {},
   "source": [
    "## Keyboard"
   ]
  },
  {
   "cell_type": "code",
   "execution_count": null,
   "metadata": {},
   "outputs": [],
   "source": [
    "pyautogui.press('enter') #按下enter鍵\n",
    "pyautogui.press('c') #按下c鍵\n",
    "pyautogui.press('alt') #按下alt鍵"
   ]
  },
  {
   "cell_type": "code",
   "execution_count": null,
   "metadata": {},
   "outputs": [],
   "source": [
    "#way1\n",
    "pyautogui.keyDown('ctrl')\n",
    "pyautogui.press('a')\n",
    "pyautogui.keyUp('ctrl') #全選的功能鍵效果"
   ]
  },
  {
   "cell_type": "code",
   "execution_count": null,
   "metadata": {},
   "outputs": [],
   "source": [
    "#way2\n",
    "pyautogui.hotkey('ctrl', 'shift', 'esc') #開啟工作管理員的快捷鍵"
   ]
  },
  {
   "cell_type": "code",
   "execution_count": null,
   "metadata": {
    "scrolled": false
   },
   "outputs": [],
   "source": [
    "# 截圖測試\n",
    "pyautogui.screenshot('./output/screenshot1.png')"
   ]
  },
  {
   "cell_type": "code",
   "execution_count": null,
   "metadata": {},
   "outputs": [],
   "source": [
    "import pyautogui\n",
    "print(pyautogui.position()) # mouse position"
   ]
  },
  {
   "cell_type": "code",
   "execution_count": null,
   "metadata": {},
   "outputs": [],
   "source": [
    "pyautogui.moveTo(1446, 623, duration = 0.1)   # move to x=100，y=100 絕對位置\n",
    "pyautogui.click(clicks=9999, interval=0.1, button='left')   # double click"
   ]
  },
  {
   "cell_type": "markdown",
   "metadata": {},
   "source": [
    "話說我都拿這個套件幹嘛?恩...除了某些遊戲需要定期的截圖或是刷道具遊戲需要定期點以外...\n",
    "我都拿去按popcat(((((\n",
    "不過這套件的確是很方便就是了，利用上面這些函式就可以自由針對不同事件撰寫專門的自動化程式碼，就不需要人力慢慢點囉~"
   ]
  },
  {
   "cell_type": "markdown",
   "metadata": {},
   "source": [
    "## Look busy(?"
   ]
  },
  {
   "cell_type": "code",
   "execution_count": null,
   "metadata": {},
   "outputs": [],
   "source": [
    "import time\n",
    "\n",
    "\n",
    "import pyautogui\n",
    "\n",
    "\n",
    "def make_busy():\n",
    "    \"\"\"Moves mouse every 10 seconds to keep apps active\n",
    "    Args:\n",
    "        None\n",
    "    Returns:\n",
    "        None\n",
    "    \"\"\"\n",
    "    print('Press CTRL-C to quit.')\n",
    "    try:\n",
    "        while True:\n",
    "            pyautogui.moveRel(5, 0, 0.5)\n",
    "            pyautogui.moveRel(-5, 0, 0.5)\n",
    "            time.sleep(10)\n",
    "    except KeyboardInterrupt:\n",
    "        print('Process has quit...')\n",
    "\n",
    "\n",
    "if __name__ == \"__main__\":\n",
    "    make_busy()"
   ]
  },
  {
   "cell_type": "code",
   "execution_count": null,
   "metadata": {},
   "outputs": [],
   "source": []
  }
 ],
 "metadata": {
  "kernelspec": {
   "display_name": "Python 3",
   "language": "python",
   "name": "python3"
  },
  "language_info": {
   "codemirror_mode": {
    "name": "ipython",
    "version": 3
   },
   "file_extension": ".py",
   "mimetype": "text/x-python",
   "name": "python",
   "nbconvert_exporter": "python",
   "pygments_lexer": "ipython3",
   "version": "3.8.5"
  }
 },
 "nbformat": 4,
 "nbformat_minor": 4
}
