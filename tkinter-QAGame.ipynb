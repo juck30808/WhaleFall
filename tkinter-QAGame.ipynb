{
 "cells": [
  {
   "cell_type": "code",
   "execution_count": 1,
   "id": "d2e10a2b",
   "metadata": {},
   "outputs": [
    {
     "name": "stdout",
     "output_type": "stream",
     "text": [
      "What is the capital of Germany?\n",
      "Who is the president of the US?\n",
      "What is the capital of France?\n",
      "What is the capital of Spain?\n"
     ]
    },
    {
     "data": {
      "text/plain": [
       "'ok'"
      ]
     },
     "execution_count": 1,
     "metadata": {},
     "output_type": "execute_result"
    }
   ],
   "source": [
    "from tkinter import *\n",
    "from tkinter import simpledialog, messagebox\n",
    "\n",
    "main = Tk()\n",
    "main.withdraw()\n",
    "\n",
    "questions = [ \"What is the capital of Germany?\",\n",
    "              \"Who is the president of the US?\",\n",
    "              \"What is the capital of France?\",\n",
    "              \"What is the capital of Spain?\" ]\n",
    "\n",
    "answer = [ \"Berlin\", \n",
    "           \"Biden\",\n",
    "           \"Paris\",\n",
    "           \"Madrid\" ]\n",
    "\n",
    "score = 0\n",
    "\n",
    "for i in range(0, len(questions)):\n",
    "    print(questions[i])\n",
    "    user_answer = simpledialog.askstring(questions[i], \"Answer: \")\n",
    "\n",
    "    if user_answer == answer[i]:\n",
    "        messagebox.showinfo(\"Correct\", \"Correct\")\n",
    "        score = score + 1\n",
    "    else:\n",
    "        messagebox.showinfo(\"Wrong\", \"Wrong\")\n",
    "\n",
    "messagebox.showinfo(\"Score\", str(score))"
   ]
  },
  {
   "cell_type": "code",
   "execution_count": null,
   "id": "9f77ebe5",
   "metadata": {},
   "outputs": [],
   "source": [
    "\n",
    "questions = [ \"What is the capital of Germany?\",\n",
    "              \"Who is the president of the US?\",\n",
    "              \"What is the capital of France?\",\n",
    "              \"What is the capital of Spain?\" ]\n",
    "\n",
    "answer = [ \"Berlin\", \n",
    "           \"Biden\",\n",
    "           \"Paris\",\n",
    "           \"Madrid\" ]\n",
    "\n",
    "score = 0\n",
    "\n",
    "for i in range(0, len(questions)):\n",
    "    print(questions[i])\n",
    "    user_answer = input(\"Answer: \")\n",
    "\n",
    "    if user_answer == answer[i]:\n",
    "        print(\"Correct\") \n",
    "        score = score + 1\n",
    "    else:\n",
    "        print(\"Incorrect\")\n",
    "\n",
    "print(f\"Score {score} \")"
   ]
  }
 ],
 "metadata": {
  "kernelspec": {
   "display_name": "Python 3 (ipykernel)",
   "language": "python",
   "name": "python3"
  },
  "language_info": {
   "codemirror_mode": {
    "name": "ipython",
    "version": 3
   },
   "file_extension": ".py",
   "mimetype": "text/x-python",
   "name": "python",
   "nbconvert_exporter": "python",
   "pygments_lexer": "ipython3",
   "version": "3.9.7"
  }
 },
 "nbformat": 4,
 "nbformat_minor": 5
}
