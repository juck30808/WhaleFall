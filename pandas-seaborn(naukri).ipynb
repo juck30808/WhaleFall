{
 "cells": [
  {
   "cell_type": "code",
   "execution_count": 1,
   "metadata": {},
   "outputs": [],
   "source": [
    "import pandas as pd\n",
    "import seaborn as sns\n",
    "data = pd.read_csv('input/naukri.csv')"
   ]
  },
  {
   "cell_type": "markdown",
   "metadata": {},
   "source": [
    "## Find the Companies which has Highest Openings for Job"
   ]
  },
  {
   "cell_type": "code",
   "execution_count": null,
   "metadata": {},
   "outputs": [],
   "source": [
    "data['industry'] = data['industry'].fillna(data['industry'].mode()[0])\n",
    "data['Industry'] = data['industry'].str.split(' / ')\n",
    "data['Industry'] = data['Industry'].apply(lambda x: x[0])\n",
    "\n",
    "data['numberofpositions'] = data['numberofpositions'].fillna(1)\n",
    "data['numberofpositions'] = data['numberofpositions'].astype('int')\n",
    "\n",
    "data.loc[data.groupby(data['Industry'])['numberofpositions'].idxmax()][['company',\n",
    "                                                                       'Industry',\n",
    "                                    'numberofpositions']].sort_values(by = 'numberofpositions',\n",
    "                                                                      ascending = False).head(5)"
   ]
  },
  {
   "cell_type": "markdown",
   "metadata": {},
   "source": [
    "## Find the Company with Highest number of Sales Job"
   ]
  },
  {
   "cell_type": "code",
   "execution_count": null,
   "metadata": {},
   "outputs": [],
   "source": [
    "data['skills'] = data['skills'].fillna(data['skills'].mode()[0])\n",
    "data['Skills'] = data['skills'].str.split(\" - \")\n",
    "data['Skills'] = data['Skills'].apply(lambda x: x[1] if len(x) > 1 else x[0])\n",
    "data[(data['Skills'] == 'Sales')][['company','Skills','numberofpositions']].sort_values(by = 'numberofpositions',\n",
    "                                                ascending = False).head(5).style.background_gradient(cmap = 'copper')"
   ]
  },
  {
   "cell_type": "markdown",
   "metadata": {},
   "source": [
    "## Compare the No. of Openings using Time Series"
   ]
  },
  {
   "cell_type": "code",
   "execution_count": null,
   "metadata": {},
   "outputs": [],
   "source": [
    "data = data.dropna()\n",
    "data['postdate'] = data['postdate'].str.split(\" \")\n",
    "data['postdate'] = data['postdate'].apply(lambda x: x[0])\n",
    "data['postdate'] = pd.to_datetime(data['postdate'], errors='coerce')\n",
    "\n",
    "data['post-year'] = data['postdate'].dt.year\n",
    "\n",
    "data[['post-year','numberofpositions']].groupby(['post-year']).agg('sum').sort_values(by = 'numberofpositions',\n",
    "                                                  ascending = False)"
   ]
  },
  {
   "cell_type": "markdown",
   "metadata": {},
   "source": [
    "## Compare Job Openings for 2016 Monthly wise"
   ]
  },
  {
   "cell_type": "code",
   "execution_count": null,
   "metadata": {},
   "outputs": [],
   "source": [
    "import warnings\n",
    "warnings.filterwarnings('ignore')\n",
    "\n",
    "data['post-year'] = data['post-year'].astype('str')\n",
    "x = data[data['post-year'] == '2016']\n",
    "x['postdate'] = pd.to_datetime(x['postdate'])\n",
    "x['Month'] = x['postdate'].dt.month\n",
    "\n",
    "x[['Month','numberofpositions']].groupby(['Month']).agg('sum')"
   ]
  }
 ],
 "metadata": {
  "kernelspec": {
   "display_name": "Python 3",
   "language": "python",
   "name": "python3"
  },
  "language_info": {
   "codemirror_mode": {
    "name": "ipython",
    "version": 3
   },
   "file_extension": ".py",
   "mimetype": "text/x-python",
   "name": "python",
   "nbconvert_exporter": "python",
   "pygments_lexer": "ipython3",
   "version": "3.8.5"
  }
 },
 "nbformat": 4,
 "nbformat_minor": 4
}
