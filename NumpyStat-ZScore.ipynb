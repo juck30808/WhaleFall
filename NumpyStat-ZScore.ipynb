{
 "cells": [
  {
   "cell_type": "markdown",
   "metadata": {},
   "source": [
    "## Numpy Statistical Functions - Z Score"
   ]
  },
  {
   "cell_type": "markdown",
   "metadata": {},
   "source": [
    "### <center>Z Score</center>\n",
    "## $$ Formula: \\frac{(x - \\mu)}{\\sigma}$$</center>\n",
    "<center><i> $x$ : value of the observation</i></center>\n",
    "<center><i> $\\mu$ : Mean</i></center>\n",
    "<center><i> $\\sigma$ : Standard Deviation</i></center>"
   ]
  },
  {
   "cell_type": "code",
   "execution_count": 1,
   "metadata": {},
   "outputs": [
    {
     "data": {
      "text/plain": [
       "array([-1.04839729, -0.55131237, -0.50612283, -0.39314898, -0.32536468,\n",
       "       -0.28017514, -0.2349856 , -0.18979606, -0.16720129, -0.09941698,\n",
       "       -0.00903791,  0.01355686,  0.03615163,  0.17172025,  3.58353039])"
      ]
     },
     "execution_count": 1,
     "metadata": {},
     "output_type": "execute_result"
    }
   ],
   "source": [
    "import numpy as np\n",
    "data = np.array([25,47,49,54,57,59,61,63,64,67,71,72,73,79, 230])\n",
    "z_scores = (data - np.mean(data) ) / np.std(data)\n",
    "z_scores"
   ]
  },
  {
   "cell_type": "code",
   "execution_count": 2,
   "metadata": {},
   "outputs": [
    {
     "data": {
      "text/plain": [
       "array([-1.04839729, -0.55131237, -0.50612283, -0.39314898, -0.32536468,\n",
       "       -0.28017514, -0.2349856 , -0.18979606, -0.16720129, -0.09941698,\n",
       "       -0.00903791,  0.01355686,  0.03615163,  0.17172025,  3.58353039])"
      ]
     },
     "execution_count": 2,
     "metadata": {},
     "output_type": "execute_result"
    }
   ],
   "source": [
    "from scipy import stats\n",
    "z_scores = stats.zscore(data)\n",
    "z_scores"
   ]
  },
  {
   "cell_type": "code",
   "execution_count": 4,
   "metadata": {},
   "outputs": [
    {
     "name": "stdout",
     "output_type": "stream",
     "text": [
      "z scores of outliers: [3.58353039]\n",
      "OUTLIERS: [230]\n"
     ]
    }
   ],
   "source": [
    "threshold = 3.0\n",
    "z_scores_outliers = z_scores[(z_scores < -threshold) | (z_scores > threshold)]\n",
    "print('z scores of outliers:',z_scores_outliers)\n",
    "outliers = data[(z_scores < -threshold) | (z_scores > threshold)]\n",
    "print('OUTLIERS:',outliers)"
   ]
  },
  {
   "cell_type": "markdown",
   "metadata": {},
   "source": [
    "Example 2 (Impact on data size)"
   ]
  },
  {
   "cell_type": "code",
   "execution_count": 5,
   "metadata": {},
   "outputs": [
    {
     "data": {
      "text/plain": [
       "array([5, 5, 5, 5, 5, 5, 5, 5, 5, 5, 5, 5, 5, 5, 5, 5, 5, 5, 5, 5, 5, 5,\n",
       "       5, 5, 5, 5, 5, 5, 5, 5, 5, 5, 5, 5, 5, 5, 5, 5, 5, 5, 5, 5, 5, 5,\n",
       "       5, 5, 5, 5, 5, 5, 5, 5, 5, 5, 5, 5, 5, 5, 5, 5, 5, 5, 5, 5, 5, 5,\n",
       "       5, 5, 5, 5, 5, 5, 5, 5, 5, 5, 5, 5, 5, 5, 5, 5, 5, 5, 5, 5, 5, 5,\n",
       "       5, 5, 5, 5, 5, 5, 5, 5, 5, 5, 5, 5])"
      ]
     },
     "execution_count": 5,
     "metadata": {},
     "output_type": "execute_result"
    }
   ],
   "source": [
    "#create array with size of 100 and value=5\n",
    "data2 = np.full(100,5)\n",
    "data2"
   ]
  },
  {
   "cell_type": "code",
   "execution_count": 6,
   "metadata": {},
   "outputs": [
    {
     "data": {
      "text/plain": [
       "array([  5,   5,   5,   5,   5,   5,   5,   5,   5,   5,   5,   5,   5,\n",
       "         5,   5,   5,   5,   5,   5,   5,   5,   5,   5,   5,   5,   5,\n",
       "         5,   5,   5,   5,   5,   5,   5,   5,   5,   7,   7,   7,   7,\n",
       "         7,   7,   7,   7,   7,   7,   5,   5,   5,   5,   5,   5,   5,\n",
       "         5,   5,   5,   5,   5,   8,   8,   8,   8,   8,   8,   8,   8,\n",
       "         8,   8,   8,   8,   8,   8,   8,   8,   8,   8,   8,   8,   5,\n",
       "         5,   5,  10,  10,  10,  10,  10,   5,   5,   5,   5,   5,   5,\n",
       "         5,   5,   5,   5,   5,  15,  67, -32, 150])"
      ]
     },
     "execution_count": 6,
     "metadata": {},
     "output_type": "execute_result"
    }
   ],
   "source": [
    "#modify array to have some other elements also\n",
    "data2[96] = 15\n",
    "data2[97] = 67\n",
    "data2[98]= -32\n",
    "data2[99] = 150\n",
    "\n",
    "data2[35:45] =7\n",
    "data2[57:77] =8\n",
    "data2[80:85] =10\n",
    "\n",
    "data2"
   ]
  },
  {
   "cell_type": "code",
   "execution_count": 7,
   "metadata": {},
   "outputs": [
    {
     "data": {
      "text/plain": [
       "array([-0.17719047, -0.17719047, -0.17719047, -0.17719047, -0.17719047,\n",
       "       -0.17719047, -0.17719047, -0.17719047, -0.17719047, -0.17719047,\n",
       "       -0.17719047, -0.17719047, -0.17719047, -0.17719047, -0.17719047,\n",
       "       -0.17719047, -0.17719047, -0.17719047, -0.17719047, -0.17719047,\n",
       "       -0.17719047, -0.17719047, -0.17719047, -0.17719047, -0.17719047,\n",
       "       -0.17719047, -0.17719047, -0.17719047, -0.17719047, -0.17719047,\n",
       "       -0.17719047, -0.17719047, -0.17719047, -0.17719047, -0.17719047,\n",
       "       -0.05284628, -0.05284628, -0.05284628, -0.05284628, -0.05284628,\n",
       "       -0.05284628, -0.05284628, -0.05284628, -0.05284628, -0.05284628,\n",
       "       -0.17719047, -0.17719047, -0.17719047, -0.17719047, -0.17719047,\n",
       "       -0.17719047, -0.17719047, -0.17719047, -0.17719047, -0.17719047,\n",
       "       -0.17719047, -0.17719047,  0.00932581,  0.00932581,  0.00932581,\n",
       "        0.00932581,  0.00932581,  0.00932581,  0.00932581,  0.00932581,\n",
       "        0.00932581,  0.00932581,  0.00932581,  0.00932581,  0.00932581,\n",
       "        0.00932581,  0.00932581,  0.00932581,  0.00932581,  0.00932581,\n",
       "        0.00932581,  0.00932581, -0.17719047, -0.17719047, -0.17719047,\n",
       "        0.13367   ,  0.13367   ,  0.13367   ,  0.13367   ,  0.13367   ,\n",
       "       -0.17719047, -0.17719047, -0.17719047, -0.17719047, -0.17719047,\n",
       "       -0.17719047, -0.17719047, -0.17719047, -0.17719047, -0.17719047,\n",
       "       -0.17719047,  0.44453047,  3.67747932, -2.47755792,  8.83776307])"
      ]
     },
     "execution_count": 7,
     "metadata": {},
     "output_type": "execute_result"
    }
   ],
   "source": [
    "z_scores = stats.zscore(data2)\n",
    "z_scores"
   ]
  },
  {
   "cell_type": "code",
   "execution_count": 8,
   "metadata": {},
   "outputs": [],
   "source": [
    "threshold =2.0"
   ]
  },
  {
   "cell_type": "code",
   "execution_count": 9,
   "metadata": {},
   "outputs": [
    {
     "name": "stdout",
     "output_type": "stream",
     "text": [
      "z scores of outliers: [ 3.67747932 -2.47755792  8.83776307]\n",
      "OUTLIERS: [ 67 -32 150]\n"
     ]
    }
   ],
   "source": [
    "z_scores_outliers = z_scores[(z_scores < -threshold) | (z_scores > threshold)]\n",
    "print('z scores of outliers:',z_scores_outliers)\n",
    "outliers = data2[(z_scores < -threshold) | (z_scores > threshold)]\n",
    "print('OUTLIERS:',outliers)"
   ]
  },
  {
   "cell_type": "markdown",
   "metadata": {},
   "source": [
    "Z-Score method have detected 3 outliers [67, -32, 150]"
   ]
  },
  {
   "cell_type": "markdown",
   "metadata": {},
   "source": [
    "Suppose let us keep only few data points (i.e only few repetitions) from the input"
   ]
  },
  {
   "cell_type": "code",
   "execution_count": 10,
   "metadata": {},
   "outputs": [],
   "source": [
    "#let us reduce the size of data from 100 to just 11 by having only 2 repetitions\n",
    "data3  = np.array([-32,5,5,7,7,8,8,10,15,67,150])"
   ]
  },
  {
   "cell_type": "code",
   "execution_count": 11,
   "metadata": {},
   "outputs": [
    {
     "data": {
      "text/plain": [
       "array([-1.1986088 , -0.38825368, -0.38825368, -0.3444507 , -0.3444507 ,\n",
       "       -0.32254921, -0.32254921, -0.27874623, -0.16923878,  0.96963868,\n",
       "        2.78746232])"
      ]
     },
     "execution_count": 11,
     "metadata": {},
     "output_type": "execute_result"
    }
   ],
   "source": [
    "z_scores = stats.zscore(data3)\n",
    "z_scores"
   ]
  },
  {
   "cell_type": "code",
   "execution_count": 12,
   "metadata": {},
   "outputs": [],
   "source": [
    "threshold =2.0"
   ]
  },
  {
   "cell_type": "code",
   "execution_count": 13,
   "metadata": {},
   "outputs": [
    {
     "name": "stdout",
     "output_type": "stream",
     "text": [
      "z scores of outliers: [2.78746232]\n",
      "OUTLIERS: [150]\n"
     ]
    }
   ],
   "source": [
    "z_scores_outliers = z_scores[(z_scores < -threshold) | (z_scores > threshold)]\n",
    "print('z scores of outliers:',z_scores_outliers)\n",
    "outliers = data3[(z_scores < -threshold) | (z_scores > threshold)]\n",
    "print('OUTLIERS:',outliers)"
   ]
  },
  {
   "cell_type": "markdown",
   "metadata": {},
   "source": [
    "if we have only few data points from the list it detects only 1 outlier [150]. This implies that we need to have good number of data size for Z-score to work."
   ]
  }
 ],
 "metadata": {
  "kernelspec": {
   "display_name": "Python 3 (ipykernel)",
   "language": "python",
   "name": "python3"
  },
  "language_info": {
   "codemirror_mode": {
    "name": "ipython",
    "version": 3
   },
   "file_extension": ".py",
   "mimetype": "text/x-python",
   "name": "python",
   "nbconvert_exporter": "python",
   "pygments_lexer": "ipython3",
   "version": "3.9.7"
  }
 },
 "nbformat": 4,
 "nbformat_minor": 2
}
