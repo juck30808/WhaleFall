{
 "cells": [
  {
   "cell_type": "code",
   "execution_count": 2,
   "metadata": {},
   "outputs": [],
   "source": [
    "import numpy as np"
   ]
  },
  {
   "cell_type": "code",
   "execution_count": 41,
   "metadata": {},
   "outputs": [
    {
     "data": {
      "text/plain": [
       "array([10, 15, 25, 30, 35])"
      ]
     },
     "execution_count": 41,
     "metadata": {},
     "output_type": "execute_result"
    }
   ],
   "source": [
    "x = np.array([10, 15, 25, 30, 35])\n",
    "x = np.sort(x)\n",
    "x"
   ]
  },
  {
   "cell_type": "markdown",
   "metadata": {},
   "source": [
    "## Simple Functions 小功能"
   ]
  },
  {
   "cell_type": "code",
   "execution_count": 48,
   "metadata": {},
   "outputs": [
    {
     "data": {
      "text/plain": [
       "115"
      ]
     },
     "execution_count": 48,
     "metadata": {},
     "output_type": "execute_result"
    }
   ],
   "source": [
    "np.sum(x)\n",
    "np.min(y)\n",
    "np.max(y)\n",
    "np.argmin(y)\n",
    "np.argmax(y)"
   ]
  },
  {
   "cell_type": "markdown",
   "metadata": {},
   "source": [
    "## Interquartile Range (IQR) 四分位距"
   ]
  },
  {
   "cell_type": "markdown",
   "metadata": {},
   "source": [
    "###### Formula: Q3 - Q1 <br>\n",
    "Q1: First Quartile  = Median of Lower Half <br>\n",
    "Q3: Third Quartile = Median of Upper Half <br>"
   ]
  },
  {
   "cell_type": "markdown",
   "metadata": {},
   "source": [
    "1D Array (Odd numbers)"
   ]
  },
  {
   "cell_type": "code",
   "execution_count": null,
   "metadata": {},
   "outputs": [],
   "source": []
  },
  {
   "cell_type": "markdown",
   "metadata": {},
   "source": [
    "## Mean 平均值\n",
    "#### $$Mean = \\frac{\\sum_{i=1}^{n} x_i}{n}$$\n",
    "<center><i> n: no.of observations <br> </i></center>\n",
    "<center><i> $x_i$ : value of i-th observation</i></center>\n",
    "\n",
    "#### $${\\sum_{i} (x_i - \\mu)} = 0$$\n",
    "<center><i>$x_i$ : value of i-th observation</i></center>\n",
    "<center><i> $\\mu$: Mean <br> </i></center>"
   ]
  },
  {
   "cell_type": "code",
   "execution_count": 42,
   "metadata": {},
   "outputs": [
    {
     "name": "stdout",
     "output_type": "stream",
     "text": [
      "diff [-13.  -8.   2.   7.  12.]\n",
      "sum of all differences= 0.0\n"
     ]
    }
   ],
   "source": [
    "mu = np.mean(x)\n",
    "diff = x - mu\n",
    "print('diff',diff)\n",
    "\n",
    "sum_all_diff = np.sum(diff)\n",
    "print('sum of all differences=',sum_all_diff)"
   ]
  },
  {
   "cell_type": "code",
   "execution_count": 43,
   "metadata": {},
   "outputs": [
    {
     "name": "stdout",
     "output_type": "stream",
     "text": [
      "Mean: 23.0\n",
      "Previous Mean: 23.0\n"
     ]
    }
   ],
   "source": [
    "new_mu = np.mean(x)\n",
    "print('Mean:',new_mu)\n",
    "print('Previous Mean:',mu)"
   ]
  },
  {
   "cell_type": "markdown",
   "metadata": {},
   "source": [
    "##  Median\n",
    "\n",
    "#### $$Median = \\{\\frac{(n + 1)}{2}\\}^{th} term  $$\n",
    "<center><i> n: no.of observations <br> </i></center>\n",
    "\n",
    "#### $$Median = \\frac {\\left( \\frac{n}{2} \\right)^{th} term + \\{ \\left( \\frac{n}{2} \\right) + 1 \\}^{th} term } {2} $$\n",
    "<center><i> n: no.of observations <br> </i></center>"
   ]
  },
  {
   "cell_type": "code",
   "execution_count": 44,
   "metadata": {},
   "outputs": [
    {
     "data": {
      "text/plain": [
       "25.0"
      ]
     },
     "execution_count": 44,
     "metadata": {},
     "output_type": "execute_result"
    }
   ],
   "source": [
    "np.median(x)"
   ]
  },
  {
   "cell_type": "markdown",
   "metadata": {},
   "source": [
    "## Mean Absolute Deviation 平均絕對偏差\n",
    "##### $$MAD = \\frac{\\sum_{i=1}^{N} |x_i - \\mu|}{N}$$\n",
    "<center><i> N: no.of observations <br> </i></center>\n",
    "<center><i> $x_i$ : value of ith observation</i></center>\n",
    "<center><i> $\\mu$ : Mean</i></center>"
   ]
  },
  {
   "cell_type": "code",
   "execution_count": 13,
   "metadata": {},
   "outputs": [
    {
     "data": {
      "text/plain": [
       "5.933884297520662"
      ]
     },
     "execution_count": 13,
     "metadata": {},
     "output_type": "execute_result"
    }
   ],
   "source": [
    "def compute_mad(arr):\n",
    "    mean = np.mean(arr)\n",
    "    abs_diff = np.abs(arr - mean)\n",
    "    mad  = np.mean(abs_diff) \n",
    "    return mad\n",
    "\n",
    "compute_mad(x)"
   ]
  },
  {
   "cell_type": "code",
   "execution_count": 28,
   "metadata": {},
   "outputs": [
    {
     "name": "stdout",
     "output_type": "stream",
     "text": [
      "Mean [10.27272727]\n",
      "\n",
      "Absolute difference [ 9.27272727  7.27272727  6.27272727  4.27272727  3.27272727  2.27272727\n",
      "  0.72727273  4.72727273  5.72727273  7.72727273 13.72727273]\n",
      "\n",
      "Mean Absolute Deviation: 5.933884297520662\n"
     ]
    }
   ],
   "source": [
    "def compute_mad(arr,axis=None):\n",
    "    mean = np.mean(arr,axis=axis,keepdims=True)\n",
    "    print('Mean',mean)\n",
    "    abs_diff = np.abs(arr-mean)\n",
    "    print('\\nAbsolute difference',abs_diff)\n",
    "    mad  = np.mean(abs_diff,axis=axis) \n",
    "    return mad\n",
    "\n",
    "mad = compute_mad(x,axis=0)\n",
    "print('\\nMean Absolute Deviation:',mad)"
   ]
  },
  {
   "cell_type": "markdown",
   "metadata": {},
   "source": [
    "## Variance / Standard Deviation\n",
    "\n",
    "###### <center>Average of the squared deviations from the mean (Variance)</center>\n",
    "###### $$\\sigma^2 = \\frac{\\sum_{i=1}^{N} (x_i - \\mu)^2}{N}$$\n",
    "<center><i> N: no.of observations <br> </i></center>\n",
    "<center><i> $x_i$ : value of ith observation</i></center>\n",
    "<center><i> $\\mu$ : Mean</i></center>\n",
    "\n",
    "###### <center>Square Root of the variance (Standard Deviation STD DEV)</center>\n",
    "###### $$\\sigma = \\sqrt\\frac{\\sum_{i=1}^{N} (x_i - \\mu)^2}{N}$$\n",
    "<center><i> N: no.of observations <br> </i></center>\n",
    "<center><i> $x_i$ : value of ith observation</i></center>\n",
    "<center><i> $\\mu$ : Mean</i></center>"
   ]
  },
  {
   "cell_type": "code",
   "execution_count": 45,
   "metadata": {},
   "outputs": [
    {
     "name": "stdout",
     "output_type": "stream",
     "text": [
      "variance: 86.0\n"
     ]
    }
   ],
   "source": [
    "variance = np.var(x)\n",
    "print('variance:',variance)"
   ]
  },
  {
   "cell_type": "code",
   "execution_count": 47,
   "metadata": {},
   "outputs": [
    {
     "name": "stdout",
     "output_type": "stream",
     "text": [
      "Standard Deviation: 9.273618495495704\n"
     ]
    }
   ],
   "source": [
    "#standard deviation\n",
    "std_dev= np.std(x)\n",
    "print('Standard Deviation:',std_dev)"
   ]
  },
  {
   "cell_type": "code",
   "execution_count": null,
   "metadata": {},
   "outputs": [],
   "source": []
  }
 ],
 "metadata": {
  "kernelspec": {
   "display_name": "Python 3 (ipykernel)",
   "language": "python",
   "name": "python3"
  },
  "language_info": {
   "codemirror_mode": {
    "name": "ipython",
    "version": 3
   },
   "file_extension": ".py",
   "mimetype": "text/x-python",
   "name": "python",
   "nbconvert_exporter": "python",
   "pygments_lexer": "ipython3",
   "version": "3.9.7"
  }
 },
 "nbformat": 4,
 "nbformat_minor": 2
}
