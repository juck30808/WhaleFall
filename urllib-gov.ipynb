{
 "cells": [
  {
   "cell_type": "code",
   "execution_count": 1,
   "metadata": {},
   "outputs": [
    {
     "name": "stdout",
     "output_type": "stream",
     "text": [
      "<class 'str'>\n"
     ]
    }
   ],
   "source": [
    "##經濟部商工行政資料開放平臺開發指引\n",
    "from urllib.parse import unquote\n",
    "import urllib\n",
    "import urllib.request\n",
    "import os\n",
    "import string\n",
    "import json\n",
    "\n",
    "\n",
    "cid = '20828393'\n",
    "print(type(cid))\n",
    "url = f'https://data.gcis.nat.gov.tw/od/data/api/F05D1060-7D57-4763-BDCE-0DAF5975AFE0?$format=json&$filter=Business_Accounting_NO%20eq%20{cid}&$skip=0&$top=50'\n",
    "headers = {'User-Agent':'Mozilla/5.0 (Windows NT 6.1; WOW64; rv:23.0) Gecko/20100101 Firefox/23.0'}\n",
    "req = urllib.request.Request(url= urllib.parse.quote(url, safe=string.printable), headers=headers)\n",
    "webURL = urllib.request.urlopen(url)\n",
    "data = webURL.read()\n",
    "encoding = webURL.info().get_content_charset('utf-8')\n",
    "data_str = data.decode(encoding)\n",
    "JSON_object = json.loads(data_str)"
   ]
  },
  {
   "cell_type": "code",
   "execution_count": 19,
   "metadata": {},
   "outputs": [
    {
     "data": {
      "text/plain": [
       "b'[{\"Business_Accounting_NO\":\"20828393\",\"Company_Name\":\"\\xe5\\xae\\x8f\\xe7\\xa2\\x81\\xe8\\x82\\xa1\\xe4\\xbb\\xbd\\xe6\\x9c\\x89\\xe9\\x99\\x90\\xe5\\x85\\xac\\xe5\\x8f\\xb8\",\"Company_Status\":\"01\",\"Company_Status_Desc\":\"\\xe6\\xa0\\xb8\\xe5\\x87\\x86\\xe8\\xa8\\xad\\xe7\\xab\\x8b\",\"Change_Of_Approval_Data\":\"1090928\"}]'"
      ]
     },
     "execution_count": 19,
     "metadata": {},
     "output_type": "execute_result"
    }
   ],
   "source": [
    "data"
   ]
  },
  {
   "cell_type": "code",
   "execution_count": 21,
   "metadata": {},
   "outputs": [
    {
     "data": {
      "text/plain": [
       "'[{\"Business_Accounting_NO\":\"20828393\",\"Company_Name\":\"宏碁股份有限公司\",\"Company_Status\":\"01\",\"Company_Status_Desc\":\"核准設立\",\"Change_Of_Approval_Data\":\"1090928\"}]'"
      ]
     },
     "execution_count": 21,
     "metadata": {},
     "output_type": "execute_result"
    }
   ],
   "source": [
    "data_str"
   ]
  },
  {
   "cell_type": "code",
   "execution_count": 18,
   "metadata": {},
   "outputs": [
    {
     "data": {
      "text/plain": [
       "[{'Business_Accounting_NO': '20828393',\n",
       "  'Company_Name': '宏碁股份有限公司',\n",
       "  'Company_Status': '01',\n",
       "  'Company_Status_Desc': '核准設立',\n",
       "  'Change_Of_Approval_Data': '1090928'}]"
      ]
     },
     "execution_count": 18,
     "metadata": {},
     "output_type": "execute_result"
    }
   ],
   "source": [
    "JSON_object"
   ]
  },
  {
   "cell_type": "code",
   "execution_count": 2,
   "metadata": {},
   "outputs": [
    {
     "data": {
      "text/plain": [
       "'宏碁股份有限公司'"
      ]
     },
     "execution_count": 2,
     "metadata": {},
     "output_type": "execute_result"
    }
   ],
   "source": [
    "JSON_object[0]['Company_Name']"
   ]
  },
  {
   "cell_type": "code",
   "execution_count": 23,
   "metadata": {},
   "outputs": [
    {
     "name": "stdout",
     "output_type": "stream",
     "text": [
      "請輸入統編代號：20828393\n",
      "[{'Business_Accounting_NO': '20828393', 'Company_Name': '宏碁股份有限公司', 'Company_Status': '01', 'Company_Status_Desc': '核准設立', 'Change_Of_Approval_Data': '1090928'}]\n"
     ]
    }
   ],
   "source": [
    "# 2020/11/17 實習題目候選\n",
    "# 輸入統編後將收集的公司資訊存入資料庫中\n",
    "\n",
    "\n",
    "from urllib.parse import unquote\n",
    "import urllib\n",
    "import urllib.request\n",
    "import os\n",
    "import string\n",
    "import json\n",
    "import sqlite3\n",
    "\n",
    "def getStockInfo(i):\n",
    "    try:\n",
    "        cid = i  #'20828393' #29142083\n",
    "        #print(type(cid))\n",
    "        url = f'https://data.gcis.nat.gov.tw/od/data/api/F05D1060-7D57-4763-BDCE-0DAF5975AFE0?$format=json&$filter=Business_Accounting_NO%20eq%20{cid}&$skip=0&$top=50'\n",
    "        headers = {'User-Agent':'Mozilla/5.0 (Windows NT 6.1; WOW64; rv:23.0) Gecko/20100101 Firefox/23.0'}\n",
    "        req = urllib.request.Request(url= urllib.parse.quote(url, safe=string.printable), headers=headers)\n",
    "        webURL = urllib.request.urlopen(url)\n",
    "        data = webURL.read()\n",
    "        encoding = webURL.info().get_content_charset('utf-8')\n",
    "        data_str = data.decode(encoding)\n",
    "        JSON_object = json.loads(data_str)\n",
    "        \n",
    "        #連接資料庫\n",
    "        conn = sqlite3.connect('data/SQL_11.5.db')\n",
    "        cursor = conn.cursor()\n",
    "\n",
    "        sql = \"INSERT INTO jerry(Business_Accounting_NO, Company_Name, Company_Status, Company_Status_Desc, Change_Of_Approval_Data) \"\\\n",
    "            \"VALUES ('%s', '%s', '%s', '%s','%s')\"%(JSON_object[0]['Business_Accounting_NO'],JSON_object[0]['Company_Name'],JSON_object[0]['Company_Status'],JSON_object[0]['Company_Status_Desc'],JSON_object[0]['Change_Of_Approval_Data'])\n",
    "\n",
    "        cursor.execute(sql)\n",
    "        conn.commit()    \n",
    "        conn.close()\n",
    "        return JSON_object\n",
    "    \n",
    "    except:\n",
    "        return None\n",
    "\n",
    "stock_id = input('請輸入統編代號：')\n",
    "stock_info = getStockInfo(stock_id)\n",
    "if stock_info == None:\n",
    "    print('此統編不存在')\n",
    "else:\n",
    "    print(stock_info)  \n",
    "\n",
    "    "
   ]
  },
  {
   "cell_type": "code",
   "execution_count": 27,
   "metadata": {},
   "outputs": [
    {
     "name": "stdout",
     "output_type": "stream",
     "text": [
      "請輸入股票代碼: 2498\n",
      "{'成交價': '28.55', '昨收': '28.55', '漲跌價': '0', '漲跌幅': '0%', '振幅': '1.23%', '開盤': '28.7', '最高': '28.75', '最低': '28.4', '成交張數': '3,420', '成交金額': '9,750萬', '成交筆數': '1,805', '成交均張': '1.9張/筆', '成交均價': '28.51元', 'PBR': '0.76', 'PER': 'N/A', 'PEG': 'N/A', '昨日張數': '3,444', '昨日金額': '9,872萬', '昨日筆數': '1,715', '昨日均張': '2張/筆', '昨日均價': '28.66元', '昨漲跌價(幅)': '-0.05(-0.17%)'}\n"
     ]
    }
   ],
   "source": [
    "# 輸入股票代碼後將收集的資料存入資料庫中\n",
    "\n",
    "from bs4 import BeautifulSoup\n",
    "from urllib.parse import unquote\n",
    "import urllib\n",
    "import urllib.request\n",
    "import os\n",
    "import string\n",
    "import sqlite3\n",
    "\n",
    "\n",
    "stock_id = input('請輸入股票代碼: ')\n",
    "url = 'https://goodinfo.tw/StockInfo/StockDetail.asp?STOCK_ID='+stock_id\n",
    "headers = {'User-Agent':'Mozilla/5.0 (Windows NT 6.1; WOW64; rv:23.0) Gecko/20100101 Firefox/23.0'}\n",
    "req = urllib.request.Request(url= urllib.parse.quote(url, safe=string.printable), headers=headers)\n",
    "html_doc = urllib.request.urlopen(req).read()\n",
    "soup = BeautifulSoup(html_doc, 'html.parser')\n",
    "main_tag = soup.find('table',class_='solid_1_padding_3_1_tbl')\n",
    "td_tags = main_tag.find_all('td')\n",
    "data = {}\n",
    "num = [8,8,6]\n",
    "for i in range(0,3):\n",
    "    for j in range(0, num[i]):\n",
    "        index1 = 6 + i*16 + j\n",
    "        index2 = index1 + num[i]\n",
    "        data[td_tags[index1].getText().replace('\\xa0','')] = td_tags[index2].getText().replace('\\xa0','')\n",
    "\n",
    "print(data)\n",
    "\n",
    "\n",
    "conn = sqlite3.connect('data/SQL_11.5.db')\n",
    "cursor = conn.cursor()\n",
    "\n",
    "for key, value in data.items():\n",
    "    # print(key, value)\n",
    "    sql = \"INSERT INTO jerry_stock(stock_no, key, value) \"\\\n",
    "        \"VALUES ('%s','%s','%s')\"%(stock_id, key, value)\n",
    "    #print(sql)\n",
    "    cursor.execute(sql)\n",
    "\n",
    "conn.commit()\n",
    "conn.close()\n",
    "\n"
   ]
  },
  {
   "cell_type": "code",
   "execution_count": null,
   "metadata": {},
   "outputs": [],
   "source": [
    "# 建立一個視窗讓使用者輸入股票代碼後，在視窗上顯示公司名稱 最高與最低股價\n",
    "# 寫一個視窗版的計算機"
   ]
  },
  {
   "cell_type": "code",
   "execution_count": null,
   "metadata": {},
   "outputs": [],
   "source": []
  }
 ],
 "metadata": {
  "kernelspec": {
   "display_name": "Python 3",
   "language": "python",
   "name": "python3"
  },
  "language_info": {
   "codemirror_mode": {
    "name": "ipython",
    "version": 3
   },
   "file_extension": ".py",
   "mimetype": "text/x-python",
   "name": "python",
   "nbconvert_exporter": "python",
   "pygments_lexer": "ipython3",
   "version": "3.8.5"
  }
 },
 "nbformat": 4,
 "nbformat_minor": 4
}
