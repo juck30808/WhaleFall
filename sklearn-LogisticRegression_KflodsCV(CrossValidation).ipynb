{
 "cells": [
  {
   "cell_type": "code",
   "execution_count": 25,
   "metadata": {
    "colab": {},
    "colab_type": "code",
    "executionInfo": {
     "elapsed": 1525,
     "status": "ok",
     "timestamp": 1594918680740,
     "user": {
      "displayName": "Abhilash Chintada",
      "photoUrl": "https://lh3.googleusercontent.com/a-/AOh14GhlwwwMJr16CgjmRFWk833xZEy2OfpaFZDIqM84=s64",
      "userId": "00311744807213723199"
     },
     "user_tz": -330
    },
    "id": "KpBXHNwqBaog"
   },
   "outputs": [
    {
     "data": {
      "text/html": [
       "<div>\n",
       "<style scoped>\n",
       "    .dataframe tbody tr th:only-of-type {\n",
       "        vertical-align: middle;\n",
       "    }\n",
       "\n",
       "    .dataframe tbody tr th {\n",
       "        vertical-align: top;\n",
       "    }\n",
       "\n",
       "    .dataframe thead th {\n",
       "        text-align: right;\n",
       "    }\n",
       "</style>\n",
       "<table border=\"1\" class=\"dataframe\">\n",
       "  <thead>\n",
       "    <tr style=\"text-align: right;\">\n",
       "      <th></th>\n",
       "      <th>RowNumber</th>\n",
       "      <th>CustomerId</th>\n",
       "      <th>Surname</th>\n",
       "      <th>CreditScore</th>\n",
       "      <th>Geography</th>\n",
       "      <th>Gender</th>\n",
       "      <th>Age</th>\n",
       "      <th>Tenure</th>\n",
       "      <th>Balance</th>\n",
       "      <th>NumOfProducts</th>\n",
       "      <th>HasCrCard</th>\n",
       "      <th>IsActiveMember</th>\n",
       "      <th>EstimatedSalary</th>\n",
       "      <th>Exited</th>\n",
       "    </tr>\n",
       "  </thead>\n",
       "  <tbody>\n",
       "    <tr>\n",
       "      <th>0</th>\n",
       "      <td>1</td>\n",
       "      <td>15634602</td>\n",
       "      <td>Hargrave</td>\n",
       "      <td>619</td>\n",
       "      <td>France</td>\n",
       "      <td>Female</td>\n",
       "      <td>42</td>\n",
       "      <td>2</td>\n",
       "      <td>0.00</td>\n",
       "      <td>1</td>\n",
       "      <td>1</td>\n",
       "      <td>1</td>\n",
       "      <td>101348.88</td>\n",
       "      <td>1</td>\n",
       "    </tr>\n",
       "    <tr>\n",
       "      <th>1</th>\n",
       "      <td>2</td>\n",
       "      <td>15647311</td>\n",
       "      <td>Hill</td>\n",
       "      <td>608</td>\n",
       "      <td>Spain</td>\n",
       "      <td>Female</td>\n",
       "      <td>41</td>\n",
       "      <td>1</td>\n",
       "      <td>83807.86</td>\n",
       "      <td>1</td>\n",
       "      <td>0</td>\n",
       "      <td>1</td>\n",
       "      <td>112542.58</td>\n",
       "      <td>0</td>\n",
       "    </tr>\n",
       "    <tr>\n",
       "      <th>2</th>\n",
       "      <td>3</td>\n",
       "      <td>15619304</td>\n",
       "      <td>Onio</td>\n",
       "      <td>502</td>\n",
       "      <td>France</td>\n",
       "      <td>Female</td>\n",
       "      <td>42</td>\n",
       "      <td>8</td>\n",
       "      <td>159660.80</td>\n",
       "      <td>3</td>\n",
       "      <td>1</td>\n",
       "      <td>0</td>\n",
       "      <td>113931.57</td>\n",
       "      <td>1</td>\n",
       "    </tr>\n",
       "    <tr>\n",
       "      <th>3</th>\n",
       "      <td>4</td>\n",
       "      <td>15701354</td>\n",
       "      <td>Boni</td>\n",
       "      <td>699</td>\n",
       "      <td>France</td>\n",
       "      <td>Female</td>\n",
       "      <td>39</td>\n",
       "      <td>1</td>\n",
       "      <td>0.00</td>\n",
       "      <td>2</td>\n",
       "      <td>0</td>\n",
       "      <td>0</td>\n",
       "      <td>93826.63</td>\n",
       "      <td>0</td>\n",
       "    </tr>\n",
       "    <tr>\n",
       "      <th>4</th>\n",
       "      <td>5</td>\n",
       "      <td>15737888</td>\n",
       "      <td>Mitchell</td>\n",
       "      <td>850</td>\n",
       "      <td>Spain</td>\n",
       "      <td>Female</td>\n",
       "      <td>43</td>\n",
       "      <td>2</td>\n",
       "      <td>125510.82</td>\n",
       "      <td>1</td>\n",
       "      <td>1</td>\n",
       "      <td>1</td>\n",
       "      <td>79084.10</td>\n",
       "      <td>0</td>\n",
       "    </tr>\n",
       "  </tbody>\n",
       "</table>\n",
       "</div>"
      ],
      "text/plain": [
       "   RowNumber  CustomerId   Surname  CreditScore Geography  Gender  Age  \\\n",
       "0          1    15634602  Hargrave          619    France  Female   42   \n",
       "1          2    15647311      Hill          608     Spain  Female   41   \n",
       "2          3    15619304      Onio          502    France  Female   42   \n",
       "3          4    15701354      Boni          699    France  Female   39   \n",
       "4          5    15737888  Mitchell          850     Spain  Female   43   \n",
       "\n",
       "   Tenure    Balance  NumOfProducts  HasCrCard  IsActiveMember  \\\n",
       "0       2       0.00              1          1               1   \n",
       "1       1   83807.86              1          0               1   \n",
       "2       8  159660.80              3          1               0   \n",
       "3       1       0.00              2          0               0   \n",
       "4       2  125510.82              1          1               1   \n",
       "\n",
       "   EstimatedSalary  Exited  \n",
       "0        101348.88       1  \n",
       "1        112542.58       0  \n",
       "2        113931.57       1  \n",
       "3         93826.63       0  \n",
       "4         79084.10       0  "
      ]
     },
     "execution_count": 25,
     "metadata": {},
     "output_type": "execute_result"
    }
   ],
   "source": [
    "import numpy as np\n",
    "import pandas as pd\n",
    "import matplotlib.pyplot as plt\n",
    "data = pd.read_excel(\"input/Churn_Modelling.xlsx\")\n",
    "data.head()"
   ]
  },
  {
   "cell_type": "code",
   "execution_count": 26,
   "metadata": {
    "colab": {
     "base_uri": "https://localhost:8080/",
     "height": 381
    },
    "colab_type": "code",
    "executionInfo": {
     "elapsed": 2606,
     "status": "ok",
     "timestamp": 1594918681863,
     "user": {
      "displayName": "Abhilash Chintada",
      "photoUrl": "https://lh3.googleusercontent.com/a-/AOh14GhlwwwMJr16CgjmRFWk833xZEy2OfpaFZDIqM84=s64",
      "userId": "00311744807213723199"
     },
     "user_tz": -330
    },
    "id": "lnjhddrmhnl3",
    "outputId": "9cbacbd9-e8b4-4d81-b62a-42954da7a581"
   },
   "outputs": [],
   "source": [
    "#data.info()"
   ]
  },
  {
   "cell_type": "markdown",
   "metadata": {},
   "source": [
    "## 資料清洗\n",
    "1. 確定哪些資料是無意義 (unique = 1)\n",
    "2. 清除不必要資料 \"RowNumber\" , \"CustomerId\" , \"Surname\"\n",
    "3. 將物件項目 (object) 轉換 encode to (int)"
   ]
  },
  {
   "cell_type": "code",
   "execution_count": 27,
   "metadata": {
    "colab": {
     "base_uri": "https://localhost:8080/",
     "height": 260
    },
    "colab_type": "code",
    "executionInfo": {
     "elapsed": 2583,
     "status": "ok",
     "timestamp": 1594918681865,
     "user": {
      "displayName": "Abhilash Chintada",
      "photoUrl": "https://lh3.googleusercontent.com/a-/AOh14GhlwwwMJr16CgjmRFWk833xZEy2OfpaFZDIqM84=s64",
      "userId": "00311744807213723199"
     },
     "user_tz": -330
    },
    "id": "M1g8Wl3LhpoO",
    "outputId": "c5ef8590-c2d1-4891-812e-8ddc66fad2af"
   },
   "outputs": [
    {
     "name": "stdout",
     "output_type": "stream",
     "text": [
      " col_name :  RowNumber  unique percentage :  1.0\n",
      " col_name :  CustomerId  unique percentage :  1.0\n",
      " col_name :  Surname  unique percentage :  0.2932\n",
      " col_name :  CreditScore  unique percentage :  0.046\n",
      " col_name :  Geography  unique percentage :  0.0003\n",
      " col_name :  Gender  unique percentage :  0.0002\n",
      " col_name :  Age  unique percentage :  0.007\n",
      " col_name :  Tenure  unique percentage :  0.0011\n",
      " col_name :  Balance  unique percentage :  0.6382\n",
      " col_name :  NumOfProducts  unique percentage :  0.0004\n",
      " col_name :  HasCrCard  unique percentage :  0.0002\n",
      " col_name :  IsActiveMember  unique percentage :  0.0002\n",
      " col_name :  EstimatedSalary  unique percentage :  0.9999\n",
      " col_name :  Exited  unique percentage :  0.0002\n"
     ]
    }
   ],
   "source": [
    "# checking the percentage unique \n",
    "for col in data.columns :\n",
    "    print(\" col_name : \" , col , \" unique percentage : \" , len(data[col].unique())/len(data))\n",
    "    \n",
    "# All data are Uniques ->> 1\n",
    "# Less Unique ->> 0"
   ]
  },
  {
   "cell_type": "code",
   "execution_count": 28,
   "metadata": {
    "colab": {
     "base_uri": "https://localhost:8080/",
     "height": 222
    },
    "colab_type": "code",
    "executionInfo": {
     "elapsed": 2570,
     "status": "ok",
     "timestamp": 1594918681866,
     "user": {
      "displayName": "Abhilash Chintada",
      "photoUrl": "https://lh3.googleusercontent.com/a-/AOh14GhlwwwMJr16CgjmRFWk833xZEy2OfpaFZDIqM84=s64",
      "userId": "00311744807213723199"
     },
     "user_tz": -330
    },
    "id": "ORbz9oABhrCy",
    "outputId": "bcdd86d3-6f2c-496f-9c0a-e54093c0abee"
   },
   "outputs": [],
   "source": [
    "# deleting RowNumber , CustomerId and Surname \n",
    "data = data.drop([\"RowNumber\" , \"CustomerId\" , \"Surname\"] , axis = 1)\n",
    "#data.info()"
   ]
  },
  {
   "cell_type": "code",
   "execution_count": 29,
   "metadata": {
    "colab": {},
    "colab_type": "code",
    "executionInfo": {
     "elapsed": 2532,
     "status": "ok",
     "timestamp": 1594918681869,
     "user": {
      "displayName": "Abhilash Chintada",
      "photoUrl": "https://lh3.googleusercontent.com/a-/AOh14GhlwwwMJr16CgjmRFWk833xZEy2OfpaFZDIqM84=s64",
      "userId": "00311744807213723199"
     },
     "user_tz": -330
    },
    "id": "DAcfueojhscW"
   },
   "outputs": [],
   "source": [
    "# Label encode the Object Datatypes \n",
    "from sklearn.preprocessing import LabelEncoder\n",
    "\n",
    "d_types = dict(data.dtypes)\n",
    "\n",
    "for name , type_ in d_types.items():\n",
    "    if str(type_) == 'object':\n",
    "        Le = LabelEncoder()\n",
    "        data[name] = Le.fit_transform(data[name])"
   ]
  },
  {
   "cell_type": "code",
   "execution_count": 30,
   "metadata": {
    "colab": {
     "base_uri": "https://localhost:8080/",
     "height": 222
    },
    "colab_type": "code",
    "executionInfo": {
     "elapsed": 2471,
     "status": "ok",
     "timestamp": 1594918681870,
     "user": {
      "displayName": "Abhilash Chintada",
      "photoUrl": "https://lh3.googleusercontent.com/a-/AOh14GhlwwwMJr16CgjmRFWk833xZEy2OfpaFZDIqM84=s64",
      "userId": "00311744807213723199"
     },
     "user_tz": -330
    },
    "id": "RK_tIsKfht4w",
    "outputId": "94ed5897-75f5-4806-8d21-1a1e62b81319"
   },
   "outputs": [
    {
     "data": {
      "text/html": [
       "<div>\n",
       "<style scoped>\n",
       "    .dataframe tbody tr th:only-of-type {\n",
       "        vertical-align: middle;\n",
       "    }\n",
       "\n",
       "    .dataframe tbody tr th {\n",
       "        vertical-align: top;\n",
       "    }\n",
       "\n",
       "    .dataframe thead th {\n",
       "        text-align: right;\n",
       "    }\n",
       "</style>\n",
       "<table border=\"1\" class=\"dataframe\">\n",
       "  <thead>\n",
       "    <tr style=\"text-align: right;\">\n",
       "      <th></th>\n",
       "      <th>CreditScore</th>\n",
       "      <th>Geography</th>\n",
       "      <th>Gender</th>\n",
       "      <th>Age</th>\n",
       "      <th>Tenure</th>\n",
       "      <th>Balance</th>\n",
       "      <th>NumOfProducts</th>\n",
       "      <th>HasCrCard</th>\n",
       "      <th>IsActiveMember</th>\n",
       "      <th>EstimatedSalary</th>\n",
       "      <th>Exited</th>\n",
       "    </tr>\n",
       "  </thead>\n",
       "  <tbody>\n",
       "    <tr>\n",
       "      <th>0</th>\n",
       "      <td>619</td>\n",
       "      <td>0</td>\n",
       "      <td>0</td>\n",
       "      <td>42</td>\n",
       "      <td>2</td>\n",
       "      <td>0.00</td>\n",
       "      <td>1</td>\n",
       "      <td>1</td>\n",
       "      <td>1</td>\n",
       "      <td>101348.88</td>\n",
       "      <td>1</td>\n",
       "    </tr>\n",
       "    <tr>\n",
       "      <th>1</th>\n",
       "      <td>608</td>\n",
       "      <td>2</td>\n",
       "      <td>0</td>\n",
       "      <td>41</td>\n",
       "      <td>1</td>\n",
       "      <td>83807.86</td>\n",
       "      <td>1</td>\n",
       "      <td>0</td>\n",
       "      <td>1</td>\n",
       "      <td>112542.58</td>\n",
       "      <td>0</td>\n",
       "    </tr>\n",
       "    <tr>\n",
       "      <th>2</th>\n",
       "      <td>502</td>\n",
       "      <td>0</td>\n",
       "      <td>0</td>\n",
       "      <td>42</td>\n",
       "      <td>8</td>\n",
       "      <td>159660.80</td>\n",
       "      <td>3</td>\n",
       "      <td>1</td>\n",
       "      <td>0</td>\n",
       "      <td>113931.57</td>\n",
       "      <td>1</td>\n",
       "    </tr>\n",
       "    <tr>\n",
       "      <th>3</th>\n",
       "      <td>699</td>\n",
       "      <td>0</td>\n",
       "      <td>0</td>\n",
       "      <td>39</td>\n",
       "      <td>1</td>\n",
       "      <td>0.00</td>\n",
       "      <td>2</td>\n",
       "      <td>0</td>\n",
       "      <td>0</td>\n",
       "      <td>93826.63</td>\n",
       "      <td>0</td>\n",
       "    </tr>\n",
       "    <tr>\n",
       "      <th>4</th>\n",
       "      <td>850</td>\n",
       "      <td>2</td>\n",
       "      <td>0</td>\n",
       "      <td>43</td>\n",
       "      <td>2</td>\n",
       "      <td>125510.82</td>\n",
       "      <td>1</td>\n",
       "      <td>1</td>\n",
       "      <td>1</td>\n",
       "      <td>79084.10</td>\n",
       "      <td>0</td>\n",
       "    </tr>\n",
       "  </tbody>\n",
       "</table>\n",
       "</div>"
      ],
      "text/plain": [
       "   CreditScore  Geography  Gender  Age  Tenure    Balance  NumOfProducts  \\\n",
       "0          619          0       0   42       2       0.00              1   \n",
       "1          608          2       0   41       1   83807.86              1   \n",
       "2          502          0       0   42       8  159660.80              3   \n",
       "3          699          0       0   39       1       0.00              2   \n",
       "4          850          2       0   43       2  125510.82              1   \n",
       "\n",
       "   HasCrCard  IsActiveMember  EstimatedSalary  Exited  \n",
       "0          1               1        101348.88       1  \n",
       "1          0               1        112542.58       0  \n",
       "2          1               0        113931.57       1  \n",
       "3          0               0         93826.63       0  \n",
       "4          1               1         79084.10       0  "
      ]
     },
     "execution_count": 30,
     "metadata": {},
     "output_type": "execute_result"
    }
   ],
   "source": [
    "data.head()"
   ]
  },
  {
   "cell_type": "code",
   "execution_count": 31,
   "metadata": {
    "colab": {
     "base_uri": "https://localhost:8080/",
     "height": 222
    },
    "colab_type": "code",
    "executionInfo": {
     "elapsed": 2427,
     "status": "ok",
     "timestamp": 1594918681875,
     "user": {
      "displayName": "Abhilash Chintada",
      "photoUrl": "https://lh3.googleusercontent.com/a-/AOh14GhlwwwMJr16CgjmRFWk833xZEy2OfpaFZDIqM84=s64",
      "userId": "00311744807213723199"
     },
     "user_tz": -330
    },
    "id": "uXv71D1MhvVr",
    "outputId": "29516747-7121-44fc-9050-28cc7754cedb"
   },
   "outputs": [
    {
     "data": {
      "text/html": [
       "<div>\n",
       "<style scoped>\n",
       "    .dataframe tbody tr th:only-of-type {\n",
       "        vertical-align: middle;\n",
       "    }\n",
       "\n",
       "    .dataframe tbody tr th {\n",
       "        vertical-align: top;\n",
       "    }\n",
       "\n",
       "    .dataframe thead th {\n",
       "        text-align: right;\n",
       "    }\n",
       "</style>\n",
       "<table border=\"1\" class=\"dataframe\">\n",
       "  <thead>\n",
       "    <tr style=\"text-align: right;\">\n",
       "      <th></th>\n",
       "      <th>CreditScore</th>\n",
       "      <th>Gender</th>\n",
       "      <th>Age</th>\n",
       "      <th>Tenure</th>\n",
       "      <th>Balance</th>\n",
       "      <th>NumOfProducts</th>\n",
       "      <th>HasCrCard</th>\n",
       "      <th>IsActiveMember</th>\n",
       "      <th>EstimatedSalary</th>\n",
       "      <th>Exited</th>\n",
       "      <th>Geography_0</th>\n",
       "      <th>Geography_2</th>\n",
       "      <th>Geography_1</th>\n",
       "    </tr>\n",
       "  </thead>\n",
       "  <tbody>\n",
       "    <tr>\n",
       "      <th>0</th>\n",
       "      <td>619</td>\n",
       "      <td>0</td>\n",
       "      <td>42</td>\n",
       "      <td>2</td>\n",
       "      <td>0.00</td>\n",
       "      <td>1</td>\n",
       "      <td>1</td>\n",
       "      <td>1</td>\n",
       "      <td>101348.88</td>\n",
       "      <td>1</td>\n",
       "      <td>1.0</td>\n",
       "      <td>0.0</td>\n",
       "      <td>0.0</td>\n",
       "    </tr>\n",
       "    <tr>\n",
       "      <th>1</th>\n",
       "      <td>608</td>\n",
       "      <td>0</td>\n",
       "      <td>41</td>\n",
       "      <td>1</td>\n",
       "      <td>83807.86</td>\n",
       "      <td>1</td>\n",
       "      <td>0</td>\n",
       "      <td>1</td>\n",
       "      <td>112542.58</td>\n",
       "      <td>0</td>\n",
       "      <td>0.0</td>\n",
       "      <td>1.0</td>\n",
       "      <td>0.0</td>\n",
       "    </tr>\n",
       "    <tr>\n",
       "      <th>2</th>\n",
       "      <td>502</td>\n",
       "      <td>0</td>\n",
       "      <td>42</td>\n",
       "      <td>8</td>\n",
       "      <td>159660.80</td>\n",
       "      <td>3</td>\n",
       "      <td>1</td>\n",
       "      <td>0</td>\n",
       "      <td>113931.57</td>\n",
       "      <td>1</td>\n",
       "      <td>1.0</td>\n",
       "      <td>0.0</td>\n",
       "      <td>0.0</td>\n",
       "    </tr>\n",
       "    <tr>\n",
       "      <th>3</th>\n",
       "      <td>699</td>\n",
       "      <td>0</td>\n",
       "      <td>39</td>\n",
       "      <td>1</td>\n",
       "      <td>0.00</td>\n",
       "      <td>2</td>\n",
       "      <td>0</td>\n",
       "      <td>0</td>\n",
       "      <td>93826.63</td>\n",
       "      <td>0</td>\n",
       "      <td>1.0</td>\n",
       "      <td>0.0</td>\n",
       "      <td>0.0</td>\n",
       "    </tr>\n",
       "    <tr>\n",
       "      <th>4</th>\n",
       "      <td>850</td>\n",
       "      <td>0</td>\n",
       "      <td>43</td>\n",
       "      <td>2</td>\n",
       "      <td>125510.82</td>\n",
       "      <td>1</td>\n",
       "      <td>1</td>\n",
       "      <td>1</td>\n",
       "      <td>79084.10</td>\n",
       "      <td>0</td>\n",
       "      <td>0.0</td>\n",
       "      <td>1.0</td>\n",
       "      <td>0.0</td>\n",
       "    </tr>\n",
       "  </tbody>\n",
       "</table>\n",
       "</div>"
      ],
      "text/plain": [
       "   CreditScore  Gender  Age  Tenure    Balance  NumOfProducts  HasCrCard  \\\n",
       "0          619       0   42       2       0.00              1          1   \n",
       "1          608       0   41       1   83807.86              1          0   \n",
       "2          502       0   42       8  159660.80              3          1   \n",
       "3          699       0   39       1       0.00              2          0   \n",
       "4          850       0   43       2  125510.82              1          1   \n",
       "\n",
       "   IsActiveMember  EstimatedSalary  Exited  Geography_0  Geography_2  \\\n",
       "0               1        101348.88       1          1.0          0.0   \n",
       "1               1        112542.58       0          0.0          1.0   \n",
       "2               0        113931.57       1          1.0          0.0   \n",
       "3               0         93826.63       0          1.0          0.0   \n",
       "4               1         79084.10       0          0.0          1.0   \n",
       "\n",
       "   Geography_1  \n",
       "0          0.0  \n",
       "1          0.0  \n",
       "2          0.0  \n",
       "3          0.0  \n",
       "4          0.0  "
      ]
     },
     "execution_count": 31,
     "metadata": {},
     "output_type": "execute_result"
    }
   ],
   "source": [
    "# one hot encode geography \n",
    "# optional \n",
    "\n",
    "from sklearn.preprocessing import OneHotEncoder\n",
    "\n",
    "onehotencoder = OneHotEncoder()\n",
    "encodings = onehotencoder.fit_transform(data['Geography'].values.reshape(-1,1)).toarray()\n",
    "\n",
    "#values = dict(data[\"Geography\"].value_counts())\n",
    "values = data[\"Geography\"].unique()\n",
    "\n",
    "for val in values:\n",
    "    data[\"Geography_\" + str(val)] = encodings[:,val]\n",
    "\n",
    "data = data.drop([\"Geography\"] , axis = 1)\n",
    "\n",
    "data.head()"
   ]
  },
  {
   "cell_type": "code",
   "execution_count": 32,
   "metadata": {
    "colab": {},
    "colab_type": "code",
    "executionInfo": {
     "elapsed": 2391,
     "status": "ok",
     "timestamp": 1594918681877,
     "user": {
      "displayName": "Abhilash Chintada",
      "photoUrl": "https://lh3.googleusercontent.com/a-/AOh14GhlwwwMJr16CgjmRFWk833xZEy2OfpaFZDIqM84=s64",
      "userId": "00311744807213723199"
     },
     "user_tz": -330
    },
    "id": "2YUfojQfhw7O"
   },
   "outputs": [],
   "source": [
    "remaining_columns = list(data.columns)\n",
    "remaining_columns.remove(\"Exited\")"
   ]
  },
  {
   "cell_type": "code",
   "execution_count": 33,
   "metadata": {
    "colab": {},
    "colab_type": "code",
    "executionInfo": {
     "elapsed": 2359,
     "status": "ok",
     "timestamp": 1594918681880,
     "user": {
      "displayName": "Abhilash Chintada",
      "photoUrl": "https://lh3.googleusercontent.com/a-/AOh14GhlwwwMJr16CgjmRFWk833xZEy2OfpaFZDIqM84=s64",
      "userId": "00311744807213723199"
     },
     "user_tz": -330
    },
    "id": "K3hBk1SqhybA"
   },
   "outputs": [],
   "source": [
    "# Feature and Target vector\n",
    "X = data[remaining_columns].values \n",
    "Y = data['Exited'].values.astype(np.uint8)"
   ]
  },
  {
   "cell_type": "markdown",
   "metadata": {},
   "source": [
    "## Recursive Feature Elimination (RFECV) 遞歸特徵消除：特徵擷取的一種方法\n",
    "\n",
    "通過交叉驗證來找到最優的特徵數量。如果減少特徵會造成性能損失，那麼將不會去除任何特徵。這個方法用以選取單模型特徵相當不錯，但是有兩個缺陷，一，計算量大。二，隨著學習器（評估器）的改變，最佳特徵組合也會改變，有些時候會造成不利影響。\n",
    "\n",
    "- 對要訓練的機器學習算法進行建模\n",
    "- 確定在一次迭代中要消除的特徵數量。\n",
    "- 由於 RFECV 是遞歸迭代的，我們需要強行停止它。"
   ]
  },
  {
   "cell_type": "code",
   "execution_count": 34,
   "metadata": {
    "colab": {},
    "colab_type": "code",
    "executionInfo": {
     "elapsed": 2314,
     "status": "ok",
     "timestamp": 1594918681881,
     "user": {
      "displayName": "Abhilash Chintada",
      "photoUrl": "https://lh3.googleusercontent.com/a-/AOh14GhlwwwMJr16CgjmRFWk833xZEy2OfpaFZDIqM84=s64",
      "userId": "00311744807213723199"
     },
     "user_tz": -330
    },
    "id": "oHOr89Txh1cb"
   },
   "outputs": [],
   "source": [
    "from sklearn.preprocessing import StandardScaler\n",
    "Scaler = StandardScaler()\n",
    "X = Scaler.fit_transform(X)"
   ]
  },
  {
   "cell_type": "code",
   "execution_count": 35,
   "metadata": {
    "colab": {
     "base_uri": "https://localhost:8080/",
     "height": 173
    },
    "colab_type": "code",
    "executionInfo": {
     "elapsed": 3157,
     "status": "ok",
     "timestamp": 1594918682774,
     "user": {
      "displayName": "Abhilash Chintada",
      "photoUrl": "https://lh3.googleusercontent.com/a-/AOh14GhlwwwMJr16CgjmRFWk833xZEy2OfpaFZDIqM84=s64",
      "userId": "00311744807213723199"
     },
     "user_tz": -330
    },
    "id": "oXxQOg2jh5iC",
    "outputId": "3a3da2d6-7e7e-440f-ccce-9ba89211b8d1"
   },
   "outputs": [
    {
     "data": {
      "text/plain": [
       "RFECV(estimator=LogisticRegression(), min_features_to_select=4, n_jobs=-1)"
      ]
     },
     "execution_count": 35,
     "metadata": {},
     "output_type": "execute_result"
    }
   ],
   "source": [
    "from sklearn.linear_model import LogisticRegression \n",
    "from sklearn.model_selection import GridSearchCV\n",
    "from sklearn.feature_selection import RFECV\n",
    "model = LogisticRegression()\n",
    "rfecv = RFECV(model , step = 1, min_features_to_select = 4 , n_jobs = -1)\n",
    "rfecv.fit(X , Y)"
   ]
  },
  {
   "cell_type": "code",
   "execution_count": 36,
   "metadata": {
    "colab": {},
    "colab_type": "code",
    "executionInfo": {
     "elapsed": 3132,
     "status": "ok",
     "timestamp": 1594918682775,
     "user": {
      "displayName": "Abhilash Chintada",
      "photoUrl": "https://lh3.googleusercontent.com/a-/AOh14GhlwwwMJr16CgjmRFWk833xZEy2OfpaFZDIqM84=s64",
      "userId": "00311744807213723199"
     },
     "user_tz": -330
    },
    "id": "WmcXs8wWh7Fx"
   },
   "outputs": [],
   "source": [
    "selected_features = np.where(rfecv.support_)[0]\n",
    "X = X[:,selected_features]"
   ]
  },
  {
   "cell_type": "markdown",
   "metadata": {},
   "source": [
    "## 交叉驗證(Cross validation)\n",
    "一般來說我們會將數據分為兩個部分，一部分用來訓練，一部分用來測試，交叉驗證是一種統計學上將樣本切割成多個小子集的做測試與訓練。交叉驗證主要分為以下幾類：\n",
    "\n",
    "- k-folder cross-vailation\n",
    "- kk folder cross-vaildation\n",
    "- least-one-out cross-validation\n",
    "- 10-fold corss validation"
   ]
  },
  {
   "cell_type": "code",
   "execution_count": 37,
   "metadata": {
    "colab": {},
    "colab_type": "code",
    "executionInfo": {
     "elapsed": 3098,
     "status": "ok",
     "timestamp": 1594918682776,
     "user": {
      "displayName": "Abhilash Chintada",
      "photoUrl": "https://lh3.googleusercontent.com/a-/AOh14GhlwwwMJr16CgjmRFWk833xZEy2OfpaFZDIqM84=s64",
      "userId": "00311744807213723199"
     },
     "user_tz": -330
    },
    "id": "fl_2H3lwlCDL"
   },
   "outputs": [],
   "source": [
    "from sklearn.model_selection import KFold \n",
    "\n",
    "k_fold = KFold(n_splits=5)\n",
    "\n",
    "test_scores = []\n",
    "for train_idx , test_idx in k_fold.split(X):\n",
    "    Xtrain = X[train_idx]\n",
    "    Ytrain = Y[train_idx]\n",
    "\n",
    "    Xtest = X[test_idx]\n",
    "    Ytest = Y[test_idx]\n",
    "\n",
    "    model = LogisticRegression()\n",
    "    model.fit(Xtrain , Ytrain)\n",
    "\n",
    "    test_scores.append(model.score(Xtest , Ytest))"
   ]
  },
  {
   "cell_type": "code",
   "execution_count": 38,
   "metadata": {
    "colab": {
     "base_uri": "https://localhost:8080/",
     "height": 265
    },
    "colab_type": "code",
    "executionInfo": {
     "elapsed": 3077,
     "status": "ok",
     "timestamp": 1594918682776,
     "user": {
      "displayName": "Abhilash Chintada",
      "photoUrl": "https://lh3.googleusercontent.com/a-/AOh14GhlwwwMJr16CgjmRFWk833xZEy2OfpaFZDIqM84=s64",
      "userId": "00311744807213723199"
     },
     "user_tz": -330
    },
    "id": "rOCFEK5XmUEY",
    "outputId": "4a15e18e-d396-4455-bc25-e29d6cec5bd7"
   },
   "outputs": [
    {
     "data": {
      "image/png": "[encoded data removed]",
      "text/plain": [
       "<Figure size 432x288 with 1 Axes>"
      ]
     },
     "metadata": {
      "needs_background": "light"
     },
     "output_type": "display_data"
    }
   ],
   "source": [
    "# 平均值決定了我們的全局分數，這意味著我們可以確信該模型的實時性能在這個數據集上就會出現。\n",
    "import matplotlib.pyplot as plt\n",
    "\n",
    "plt.plot(test_scores)\n",
    "plt.plot([np.mean(test_scores)]*len(test_scores))\n",
    "plt.show()"
   ]
  },
  {
   "cell_type": "code",
   "execution_count": 24,
   "metadata": {
    "colab": {
     "base_uri": "https://localhost:8080/",
     "height": 35
    },
    "colab_type": "code",
    "executionInfo": {
     "elapsed": 3050,
     "status": "ok",
     "timestamp": 1594918682777,
     "user": {
      "displayName": "Abhilash Chintada",
      "photoUrl": "https://lh3.googleusercontent.com/a-/AOh14GhlwwwMJr16CgjmRFWk833xZEy2OfpaFZDIqM84=s64",
      "userId": "00311744807213723199"
     },
     "user_tz": -330
    },
    "id": "EWcoRd5rmjiX",
    "outputId": "e0f92fe9-327e-46ca-ead6-bc7fdcfa37f1"
   },
   "outputs": [
    {
     "name": "stdout",
     "output_type": "stream",
     "text": [
      " Cross validation score :  0.8111\n"
     ]
    }
   ],
   "source": [
    "print(\" Cross validation score : \" , np.mean(test_scores))"
   ]
  },
  {
   "cell_type": "code",
   "execution_count": null,
   "metadata": {},
   "outputs": [],
   "source": []
  },
  {
   "cell_type": "code",
   "execution_count": null,
   "metadata": {},
   "outputs": [],
   "source": []
  },
  {
   "cell_type": "code",
   "execution_count": null,
   "metadata": {},
   "outputs": [],
   "source": []
  }
 ],
 "metadata": {
  "colab": {
   "authorship_tag": "ABX9TyOvykZ+TjfMS9xRE48FOTiI",
   "name": "Applying Cross validation.ipynb",
   "provenance": []
  },
  "kernelspec": {
   "display_name": "Python 3",
   "language": "python",
   "name": "python3"
  },
  "language_info": {
   "codemirror_mode": {
    "name": "ipython",
    "version": 3
   },
   "file_extension": ".py",
   "mimetype": "text/x-python",
   "name": "python",
   "nbconvert_exporter": "python",
   "pygments_lexer": "ipython3",
   "version": "3.8.5"
  }
 },
 "nbformat": 4,
 "nbformat_minor": 1
}
