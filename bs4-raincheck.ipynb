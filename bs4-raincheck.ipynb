{
 "cells": [
  {
   "cell_type": "code",
   "execution_count": null,
   "id": "487aaa6e",
   "metadata": {},
   "outputs": [],
   "source": [
    "import requests\n",
    "import bs4\n",
    "from twilio.rest import Client\n",
    "\n",
    "def rain_check():\n",
    "    \"\"\"Checks if it's going to rain\n",
    "    Args:\n",
    "        None\n",
    "    Returns:\n",
    "        rain (bool): True if rainy\n",
    "    \"\"\"\n",
    "    url = 'https://weather.com/en-CA/weather/today/l/CAON4756:1:CA'\n",
    "    rain = False\n",
    "\n",
    "    try:\n",
    "        res = requests.get(url)\n",
    "        res.raise_for_status()\n",
    "\n",
    "        soup = bs4.BeautifulSoup(res.text, 'html.parser')\n",
    "        weather_elem = soup.select('.today_nowcard-phrase')\n",
    "\n",
    "        if 'rain' in weather_elem[0].text.lower():\n",
    "            rain = True\n",
    "\n",
    "    except Exception as exc:\n",
    "        print(exc)\n",
    "\n",
    "    return rain\n",
    "\n",
    "\n",
    "def send_reminder(accountSID, authToken, myTwilioNumber, myCellPhone):\n",
    "    \"\"\"Sends a text using twilio\n",
    "    Args:\n",
    "        accountSID (str): twilio acct sid\n",
    "        authToken (str): twilio authentication token\n",
    "        myTwilioNumber (str): twilio number\n",
    "        myCellPhone (str): my cell phone number\n",
    "    Returns:\n",
    "        None\n",
    "    \"\"\"\n",
    "    twilioCli = Client(accountSID, authToken)\n",
    "    message = twilioCli.messages.\\\n",
    "    create(body='Rain Alert! Water is (not) wet. Grab an Umbrella bro.',\\\n",
    "           from_=myTwilioNumber, to=myCellPhone)\n",
    "\n",
    "\n",
    "\n",
    "if __name__ == \"__main__\":\n",
    "\n",
    "    if rain_check():\n",
    "        send_reminder('A***************', 'A**************', '+1********', '+1**********')"
   ]
  },
  {
   "cell_type": "code",
   "execution_count": null,
   "id": "85d3e6be",
   "metadata": {},
   "outputs": [],
   "source": []
  }
 ],
 "metadata": {
  "kernelspec": {
   "display_name": "Python 3 (ipykernel)",
   "language": "python",
   "name": "python3"
  },
  "language_info": {
   "codemirror_mode": {
    "name": "ipython",
    "version": 3
   },
   "file_extension": ".py",
   "mimetype": "text/x-python",
   "name": "python",
   "nbconvert_exporter": "python",
   "pygments_lexer": "ipython3",
   "version": "3.9.7"
  }
 },
 "nbformat": 4,
 "nbformat_minor": 5
}
