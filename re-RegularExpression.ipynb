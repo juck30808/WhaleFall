{
 "cells": [
  {
   "cell_type": "markdown",
   "id": "58ca2f2b",
   "metadata": {},
   "source": [
    "## Search"
   ]
  },
  {
   "cell_type": "code",
   "execution_count": 39,
   "id": "86fe233b",
   "metadata": {},
   "outputs": [
    {
     "data": {
      "text/plain": [
       "<re.Match object; span=(0, 1), match='a'>"
      ]
     },
     "execution_count": 39,
     "metadata": {},
     "output_type": "execute_result"
    }
   ],
   "source": [
    "import re\n",
    "s=\"ac\"\n",
    "re.search('[abc]',s)"
   ]
  },
  {
   "cell_type": "code",
   "execution_count": 40,
   "id": "11af7895",
   "metadata": {
    "scrolled": true
   },
   "outputs": [
    {
     "data": {
      "text/plain": [
       "<re.Match object; span=(0, 1), match='a'>"
      ]
     },
     "execution_count": 40,
     "metadata": {},
     "output_type": "execute_result"
    }
   ],
   "source": [
    "s=\"ac\"\n",
    "re.search('.',s)"
   ]
  },
  {
   "cell_type": "code",
   "execution_count": 41,
   "id": "785e7b13",
   "metadata": {},
   "outputs": [
    {
     "name": "stdout",
     "output_type": "stream",
     "text": [
      "<re.Match object; span=(0, 1), match='m'>\n"
     ]
    }
   ],
   "source": [
    "s='mumbai'\n",
    "x = re.search('^m',s)\n",
    "print(x)"
   ]
  },
  {
   "cell_type": "code",
   "execution_count": 52,
   "id": "dbe13b70",
   "metadata": {},
   "outputs": [
    {
     "name": "stdout",
     "output_type": "stream",
     "text": [
      "None\n",
      "<re.Match object; span=(5, 6), match='a'>\n"
     ]
    }
   ],
   "source": [
    "a = re.search('a$','Delhi')\n",
    "print(a)\n",
    "b = re.search('a$','Odissa')\n",
    "print(b)"
   ]
  },
  {
   "cell_type": "code",
   "execution_count": 43,
   "id": "e18daa80",
   "metadata": {},
   "outputs": [
    {
     "name": "stdout",
     "output_type": "stream",
     "text": [
      "<re.Match object; span=(0, 2), match='ma'>\n",
      "<re.Match object; span=(2, 4), match='ma'>\n"
     ]
    }
   ],
   "source": [
    "a = re.search('ma*','man')\n",
    "print(a)\n",
    "b = re.search('ma*','woman')\n",
    "print(b)"
   ]
  },
  {
   "cell_type": "code",
   "execution_count": 44,
   "id": "b8798210",
   "metadata": {},
   "outputs": [
    {
     "name": "stdout",
     "output_type": "stream",
     "text": [
      "<re.Match object; span=(0, 2), match='ma'>\n",
      "<re.Match object; span=(2, 4), match='ma'>\n"
     ]
    }
   ],
   "source": [
    "a = re.search('ma+','man')\n",
    "print(a)\n",
    "b = re.search('ma+','woman')\n",
    "print(b)"
   ]
  },
  {
   "cell_type": "code",
   "execution_count": 45,
   "id": "776eb398",
   "metadata": {},
   "outputs": [
    {
     "name": "stdout",
     "output_type": "stream",
     "text": [
      "None\n",
      "<re.Match object; span=(0, 2), match='aa'>\n"
     ]
    }
   ],
   "source": [
    "a = re.search('a{2}', 'abc')\n",
    "print(a)\n",
    "b = re.search('a{2}', 'aab')\n",
    "print(b)"
   ]
  },
  {
   "cell_type": "code",
   "execution_count": 46,
   "id": "640372c6",
   "metadata": {},
   "outputs": [
    {
     "name": "stdout",
     "output_type": "stream",
     "text": [
      "<re.Match object; span=(1, 2), match='a'>\n",
      "None\n"
     ]
    }
   ],
   "source": [
    "a = re.search('a|b', 'mango')\n",
    "print(a)\n",
    "b = re.search('a|b', 'Pune')\n",
    "print(b)"
   ]
  },
  {
   "cell_type": "code",
   "execution_count": 47,
   "id": "911cf415",
   "metadata": {},
   "outputs": [
    {
     "name": "stdout",
     "output_type": "stream",
     "text": [
      "<re.Match object; span=(0, 2), match='am'>\n",
      "None\n"
     ]
    }
   ],
   "source": [
    "a = re.search('(a)m', 'amm')\n",
    "print(a)\n",
    "b = re.search('(a)m', 'abm')\n",
    "print(b)"
   ]
  },
  {
   "cell_type": "code",
   "execution_count": 48,
   "id": "6c1271c3",
   "metadata": {},
   "outputs": [
    {
     "name": "stdout",
     "output_type": "stream",
     "text": [
      "<re.Match object; span=(0, 2), match='$a'>\n"
     ]
    }
   ],
   "source": [
    "a=re.search('\\$a', '$abc')\n",
    "print(a)"
   ]
  },
  {
   "cell_type": "code",
   "execution_count": 2,
   "id": "7ddbee2e",
   "metadata": {},
   "outputs": [
    {
     "name": "stdout",
     "output_type": "stream",
     "text": [
      "ape\n"
     ]
    }
   ],
   "source": [
    "if re.search(\"ape\", \"This is ape\"):\n",
    "    print(\"ape\")"
   ]
  },
  {
   "cell_type": "markdown",
   "id": "9d4f11c9",
   "metadata": {},
   "source": [
    "## build"
   ]
  },
  {
   "cell_type": "code",
   "execution_count": 53,
   "id": "ca650bbe",
   "metadata": {},
   "outputs": [
    {
     "name": "stdout",
     "output_type": "stream",
     "text": [
      "['nd']\n"
     ]
    }
   ],
   "source": [
    "import re\n",
    "st = \"India is my country\"\n",
    "x=re.findall('nd',st)\n",
    "print(x)"
   ]
  },
  {
   "cell_type": "code",
   "execution_count": 54,
   "id": "21b0a51e",
   "metadata": {},
   "outputs": [
    {
     "name": "stdout",
     "output_type": "stream",
     "text": [
      "None\n"
     ]
    }
   ],
   "source": [
    "st = \"India is my country\"\n",
    "x=re.search('Delhi',st)\n",
    "print(x)"
   ]
  },
  {
   "cell_type": "code",
   "execution_count": 55,
   "id": "dd3ee5d2",
   "metadata": {},
   "outputs": [
    {
     "name": "stdout",
     "output_type": "stream",
     "text": [
      "['I', 'love', 'watching', 'movies']\n"
     ]
    }
   ],
   "source": [
    "s=\"I love watching movies\"\n",
    "x = re.split('\\s',s)\n",
    "print(x)"
   ]
  },
  {
   "cell_type": "code",
   "execution_count": 56,
   "id": "a4c0ce4b",
   "metadata": {},
   "outputs": [
    {
     "name": "stdout",
     "output_type": "stream",
     "text": [
      "I2love2watching2movies\n"
     ]
    }
   ],
   "source": [
    "s=\"I love watching movies\"\n",
    "x = re.sub('\\s','2',s)\n",
    "print(x)"
   ]
  },
  {
   "cell_type": "markdown",
   "id": "c9632197",
   "metadata": {},
   "source": [
    "## Findall"
   ]
  },
  {
   "cell_type": "code",
   "execution_count": 59,
   "id": "04b1d116",
   "metadata": {},
   "outputs": [
    {
     "data": {
      "text/plain": [
       "[]"
      ]
     },
     "execution_count": 59,
     "metadata": {},
     "output_type": "execute_result"
    }
   ],
   "source": [
    "import re\n",
    "\n",
    "s=\"I love watching movies\"\n",
    "x=re.findall(\"\\AThe\",s)\n",
    "x"
   ]
  },
  {
   "cell_type": "code",
   "execution_count": 60,
   "id": "f0f416d4",
   "metadata": {},
   "outputs": [
    {
     "name": "stdout",
     "output_type": "stream",
     "text": [
      "['I', ' ', 'l', 'o', 'v', 'e', ' ', 'w', 'a', 't', 'c', 'h', 'i', 'n', 'g', ' ', 'm', 'o', 'v', 'i', 'e', 's']\n"
     ]
    }
   ],
   "source": [
    "s=\"I love watching movies\"\n",
    "x = re.findall('\\D',s)\n",
    "print(x)"
   ]
  },
  {
   "cell_type": "code",
   "execution_count": 61,
   "id": "a3a6f7ef",
   "metadata": {},
   "outputs": [
    {
     "name": "stdout",
     "output_type": "stream",
     "text": [
      "ape\n",
      "ape\n"
     ]
    }
   ],
   "source": [
    "allApes = re.findall(\"ape\",\"ape... together...strong... apes\")\n",
    "for i in allApes:\n",
    "    print(i)"
   ]
  },
  {
   "cell_type": "code",
   "execution_count": 10,
   "id": "9937c2a3",
   "metadata": {},
   "outputs": [
    {
     "name": "stdout",
     "output_type": "stream",
     "text": [
      "(0, 3)\n",
      "ape\n",
      "(28, 31)\n",
      "ape\n"
     ]
    }
   ],
   "source": [
    "theStr = \"ape... together...strong... apes\"\n",
    "\n",
    "for i in re.finditer(\"ape\",theStr):\n",
    "    locTuple = i.span()\n",
    "    print(locTuple)\n",
    "    print(theStr[locTuple[0]:locTuple[1]])"
   ]
  },
  {
   "cell_type": "code",
   "execution_count": 11,
   "id": "5bde18c3",
   "metadata": {},
   "outputs": [
    {
     "name": "stdout",
     "output_type": "stream",
     "text": [
      "Ape\n",
      "Bpe\n",
      "Cpe\n",
      "Dpe\n"
     ]
    }
   ],
   "source": [
    "theStr = \"Ape Bpe Cpe Dpe\"\n",
    "allape = re.findall(\"[ABCD]pe\",theStr)\n",
    "\n",
    "for i in allape:\n",
    "    print(i)\n"
   ]
  },
  {
   "cell_type": "code",
   "execution_count": 14,
   "id": "45dbdca4",
   "metadata": {},
   "outputs": [
    {
     "name": "stdout",
     "output_type": "stream",
     "text": [
      "Ape\n",
      "Bpe\n",
      "Cpe\n",
      "Dpe\n"
     ]
    }
   ],
   "source": [
    "theStr = \"Ape Bpe Cpe Dpe\"\n",
    "allape = re.findall(\"[A-Z]pe\",theStr)\n",
    "\n",
    "for i in allape:\n",
    "    print(i)"
   ]
  },
  {
   "cell_type": "code",
   "execution_count": 15,
   "id": "334d1d53",
   "metadata": {
    "scrolled": true
   },
   "outputs": [
    {
     "name": "stdout",
     "output_type": "stream",
     "text": [
      "Ape\n",
      "Bpe\n",
      "Dpe\n"
     ]
    }
   ],
   "source": [
    "theStr = \"Ape Bpe Cpe Dpe\"\n",
    "allape = re.findall(\"[^C]pe\",theStr)\n",
    "\n",
    "for i in allape:\n",
    "    print(i)"
   ]
  },
  {
   "cell_type": "markdown",
   "id": "093f1299",
   "metadata": {},
   "source": [
    "## Project"
   ]
  },
  {
   "cell_type": "code",
   "execution_count": 16,
   "id": "e7fd06b9",
   "metadata": {},
   "outputs": [
    {
     "name": "stdout",
     "output_type": "stream",
     "text": [
      "owl owl mat pet\n"
     ]
    }
   ],
   "source": [
    "import re\n",
    "\n",
    "owlFood = \"rat cat mat pet\"\n",
    "\n",
    "regex = re.compile(\"[cr]at\")\n",
    "owlFood = regex.sub(\"owl\",owlFood)\n",
    "\n",
    "print(owlFood)"
   ]
  },
  {
   "cell_type": "code",
   "execution_count": 18,
   "id": "70b84d98",
   "metadata": {},
   "outputs": [
    {
     "name": "stdout",
     "output_type": "stream",
     "text": [
      "Find \\stuff: None\n",
      "Find \\stuff: <re.Match object; span=(8, 14), match='\\\\stuff'>\n",
      "Find \\stuff: <re.Match object; span=(8, 14), match='\\\\stuff'>\n"
     ]
    }
   ],
   "source": [
    "randStr = \"Here is \\\\stuff\"\n",
    "print(\"Find \\\\stuff:\", re.search(\"\\\\stuff\", randStr))\n",
    "print(\"Find \\\\stuff:\", re.search(\"\\\\\\\\stuff\", randStr))\n",
    "print(\"Find \\\\stuff:\", re.search(r\"\\\\stuff\", randStr))"
   ]
  },
  {
   "cell_type": "code",
   "execution_count": 20,
   "id": "3727c6b3",
   "metadata": {},
   "outputs": [
    {
     "name": "stdout",
     "output_type": "stream",
     "text": [
      "Matches: 2\n",
      "Matches: ['F.B.I', 'I.R.S']\n"
     ]
    }
   ],
   "source": [
    "randStr = \"F.B.I. I.R.S. CIA\"\n",
    "print(\"Matches:\", len(re.findall(\".\\..\\..\",randStr)))\n",
    "print(\"Matches:\", re.findall(\".\\..\\..\",randStr))"
   ]
  },
  {
   "cell_type": "code",
   "execution_count": 23,
   "id": "57b707ce",
   "metadata": {},
   "outputs": [
    {
     "name": "stdout",
     "output_type": "stream",
     "text": [
      "This is a long string that goes on for many lines \n"
     ]
    }
   ],
   "source": [
    "randStr = \"\"\"This is a long\n",
    "string that goes\n",
    "on for many lines\n",
    "\"\"\"\n",
    "\n",
    "regex = re.compile('\\n')\n",
    "randStr = regex.sub(\" \", randStr)\n",
    "\n",
    "print(randStr)\n"
   ]
  },
  {
   "cell_type": "code",
   "execution_count": 24,
   "id": "0350f241",
   "metadata": {},
   "outputs": [
    {
     "name": "stdout",
     "output_type": "stream",
     "text": [
      "Matches: 5\n"
     ]
    }
   ],
   "source": [
    "randStr = \"12345\"\n",
    "print(\"Matches:\", len(re.findall(\"\\d\",randStr)))"
   ]
  },
  {
   "cell_type": "markdown",
   "id": "c392a818",
   "metadata": {},
   "source": [
    "## Check System"
   ]
  },
  {
   "cell_type": "code",
   "execution_count": 25,
   "id": "8033326d",
   "metadata": {},
   "outputs": [
    {
     "name": "stdout",
     "output_type": "stream",
     "text": [
      "It is a zip code\n",
      "Matches: 3\n"
     ]
    }
   ],
   "source": [
    "import re\n",
    "\n",
    "if re.search(\"\\d{5}\",\"12345\"):\n",
    "    print(\"It is a zip code\")\n",
    "\n",
    "numStr = \"123 12345 123456 1234567\"\n",
    "print(\"Matches:\", len(re.findall(\"\\d{5,7}\",numStr)))"
   ]
  },
  {
   "cell_type": "code",
   "execution_count": 30,
   "id": "e5058ee4",
   "metadata": {},
   "outputs": [
    {
     "name": "stdout",
     "output_type": "stream",
     "text": [
      "It is a phoneNum\n"
     ]
    }
   ],
   "source": [
    "import re\n",
    "\n",
    "phoneNum = \"412-988-9999\"\n",
    "\n",
    "if re.search(\"\\w{3}-\\w{3}-\\w{4}\",phoneNum):\n",
    "    print(\"It is a phoneNum\")"
   ]
  },
  {
   "cell_type": "code",
   "execution_count": 31,
   "id": "89c470ac",
   "metadata": {},
   "outputs": [
    {
     "name": "stdout",
     "output_type": "stream",
     "text": [
      "It is a full name\n"
     ]
    }
   ],
   "source": [
    "import re\n",
    "\n",
    "Name = \"Toshio Mauramatsu\"\n",
    "\n",
    "if re.search(\"\\w{2,20}\\s\\w{2,20}\",Name):\n",
    "    print(\"It is a full name\")"
   ]
  },
  {
   "cell_type": "code",
   "execution_count": 38,
   "id": "b8d2cb39",
   "metadata": {},
   "outputs": [
    {
     "name": "stdout",
     "output_type": "stream",
     "text": [
      "Email Matches: 1\n",
      "Email Matches: ['macbook@gmail.com']\n"
     ]
    }
   ],
   "source": [
    "import re\n",
    "\n",
    "mail = \"macbook@gmail.com\"\n",
    "\n",
    "\n",
    "print(\"Email Matches:\",len(re.findall(\"[\\w._%+-]{1,20}@[\\w.-]{2,20}.[A-Za-z]{2,3}\",mail)))\n",
    "print(\"Email Matches:\",re.findall(\"[\\w._%+-]{1,20}@[\\w.-]{2,20}.[A-Za-z]{2,3}\",mail))\n"
   ]
  },
  {
   "cell_type": "code",
   "execution_count": null,
   "id": "860cc2af",
   "metadata": {},
   "outputs": [],
   "source": []
  }
 ],
 "metadata": {
  "kernelspec": {
   "display_name": "Python 3 (ipykernel)",
   "language": "python",
   "name": "python3"
  },
  "language_info": {
   "codemirror_mode": {
    "name": "ipython",
    "version": 3
   },
   "file_extension": ".py",
   "mimetype": "text/x-python",
   "name": "python",
   "nbconvert_exporter": "python",
   "pygments_lexer": "ipython3",
   "version": "3.8.8"
  }
 },
 "nbformat": 4,
 "nbformat_minor": 5
}
