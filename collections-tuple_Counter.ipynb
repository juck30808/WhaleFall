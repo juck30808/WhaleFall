{
 "cells": [
  {
   "cell_type": "markdown",
   "metadata": {},
   "source": [
    "## import collections"
   ]
  },
  {
   "cell_type": "code",
   "execution_count": 1,
   "metadata": {},
   "outputs": [
    {
     "name": "stdout",
     "output_type": "stream",
     "text": [
      "Marcelo 31\n"
     ]
    }
   ],
   "source": [
    "import collections\n",
    "player = collections.namedtuple(\"player\", [\"name\", \"age\", \"country\"])\n",
    "\n",
    "# objects of newtuple\n",
    "p1 = player(\"Fred\", 28, \"Brazil\")\n",
    "p2 = player(\"Marcelo\", 31, \"Brazil\")\n",
    "\n",
    "# print(p1.age)\n",
    "print(p2.name, p2.age)"
   ]
  },
  {
   "cell_type": "code",
   "execution_count": 2,
   "metadata": {},
   "outputs": [
    {
     "name": "stdout",
     "output_type": "stream",
     "text": [
      "X: 70\n",
      "Y: 75\n",
      "E: 77\n",
      "M: 79\n"
     ]
    }
   ],
   "source": [
    "# Example to remember the order of the keys\n",
    "import collections\n",
    "\n",
    "firstD = collections.OrderedDict()\n",
    "firstD[\"X:\"] = 70\n",
    "firstD[\"Y:\"] = 75\n",
    "firstD[\"E:\"] = 77\n",
    "firstD[\"M:\"] = 79\n",
    "\n",
    "for k,v in firstD.items():\n",
    "    print(k,v)"
   ]
  },
  {
   "cell_type": "markdown",
   "metadata": {},
   "source": [
    "## deque-ImplementingStack"
   ]
  },
  {
   "cell_type": "code",
   "execution_count": 3,
   "metadata": {},
   "outputs": [],
   "source": [
    "from collections import deque\n",
    "numbers=deque()"
   ]
  },
  {
   "cell_type": "code",
   "execution_count": 4,
   "metadata": {},
   "outputs": [
    {
     "data": {
      "text/plain": [
       "deque([23, 45, 12, 54])"
      ]
     },
     "execution_count": 4,
     "metadata": {},
     "output_type": "execute_result"
    }
   ],
   "source": [
    "#Adding items\n",
    "#Push\n",
    "numbers.append(23)\n",
    "numbers.append(45)\n",
    "numbers.append(12)\n",
    "numbers.append(54)\n",
    "numbers"
   ]
  },
  {
   "cell_type": "code",
   "execution_count": 5,
   "metadata": {},
   "outputs": [
    {
     "data": {
      "text/plain": [
       "54"
      ]
     },
     "execution_count": 5,
     "metadata": {},
     "output_type": "execute_result"
    }
   ],
   "source": [
    "#Removing items\n",
    "#Pop\n",
    "numbers.pop()"
   ]
  },
  {
   "cell_type": "code",
   "execution_count": 6,
   "metadata": {},
   "outputs": [
    {
     "data": {
      "text/plain": [
       "12"
      ]
     },
     "execution_count": 6,
     "metadata": {},
     "output_type": "execute_result"
    }
   ],
   "source": [
    "numbers.pop()"
   ]
  },
  {
   "cell_type": "code",
   "execution_count": 7,
   "metadata": {},
   "outputs": [],
   "source": [
    "from collections import deque\n",
    "names=deque()"
   ]
  },
  {
   "cell_type": "code",
   "execution_count": 8,
   "metadata": {},
   "outputs": [
    {
     "name": "stdout",
     "output_type": "stream",
     "text": [
      "deque(['Radhika', 'Shyam', 'Ravi', 'Shivani'])\n"
     ]
    }
   ],
   "source": [
    "#Adding items\n",
    "#Enqueue\n",
    "names.append(\"Radhika\")\n",
    "names.append(\"Shyam\")\n",
    "names.append('Ravi')\n",
    "names.append(\"Shivani\")\n",
    "print(names)"
   ]
  },
  {
   "cell_type": "code",
   "execution_count": 9,
   "metadata": {},
   "outputs": [
    {
     "data": {
      "text/plain": [
       "'Radhika'"
      ]
     },
     "execution_count": 9,
     "metadata": {},
     "output_type": "execute_result"
    }
   ],
   "source": [
    "#Removing items\n",
    "#dequeue\n",
    "names.popleft()"
   ]
  },
  {
   "cell_type": "markdown",
   "metadata": {},
   "source": [
    "## Counter"
   ]
  },
  {
   "cell_type": "code",
   "execution_count": 10,
   "metadata": {},
   "outputs": [
    {
     "name": "stdout",
     "output_type": "stream",
     "text": [
      "Welcome to the Frequency Analysis App\n",
      "Enter a word or phrase to count the occurrence of each letter: asdfghjkl\n",
      "\n",
      "Here is the frequency analysis from key phrase 1: \n",
      "\n",
      "\tLetter\t\tOccurrence\tPercentage\n",
      "\ta\t\t1\t\t11.11%\n",
      "\td\t\t1\t\t11.11%\n",
      "\tf\t\t1\t\t11.11%\n",
      "\tg\t\t1\t\t11.11%\n",
      "\th\t\t1\t\t11.11%\n",
      "\tj\t\t1\t\t11.11%\n",
      "\tk\t\t1\t\t11.11%\n",
      "\tl\t\t1\t\t11.11%\n",
      "\ts\t\t1\t\t11.11%\n",
      "\n",
      "Letters ordered from highest occurrence to lowest: \n",
      "asdfghjkl\n",
      "\n",
      "Enter a word or phrase to count the occurrence of each letter: aasdfghjhgfdsdfgh\n",
      "\n",
      "Here is the frequency analysis from key phrase 2: \n",
      "\n",
      "\tLetter\t\tOccurrence\tPercentage\n",
      "\ta\t\t2\t\t11.76%\n",
      "\td\t\t3\t\t17.65%\n",
      "\tf\t\t3\t\t17.65%\n",
      "\tg\t\t3\t\t17.65%\n",
      "\th\t\t3\t\t17.65%\n",
      "\tj\t\t1\t\t5.88%\n",
      "\ts\t\t2\t\t11.76%\n",
      "\n",
      "Letters ordered from highest occurrence to lowest: \n",
      "dfghasj"
     ]
    }
   ],
   "source": [
    "from collections import Counter\n",
    "print(\"Welcome to the Frequency Analysis App\")\n",
    "non_letters = ['1','2','3','4','5','6','7','8','9','0',' ', '.','?','!',\n",
    "               ',','\"',\"'\",':',';','(',')','%','$','&','#','\\n','\\t'] \n",
    "\n",
    "#Information for the first key key_phrase_1\n",
    "key_phrase_1 = input(\"Enter a word or phrase to count the occurrence of each letter: \").lower().strip()\n",
    "for non_letter in non_letters:\n",
    "    key_phrase_1 = key_phrase_1.replace(non_letter, '')\n",
    "total_occurrences = len(key_phrase_1)\n",
    "\n",
    "#Create a counter object to tally the number of each letter\n",
    "letter_count = Counter(key_phrase_1)\n",
    "print(\"\\nHere is the frequency analysis from key phrase 1: \")\n",
    "print(\"\\n\\tLetter\\t\\tOccurrence\\tPercentage\")\n",
    "for key, value in sorted(letter_count.items()):\n",
    "    percentage = 100*value/total_occurrences\n",
    "    percentage = round(percentage, 2)\n",
    "    print(\"\\t\" + key + \"\\t\\t\" + str(value) + \"\\t\\t\" + str(percentage) + \"%\")\n",
    "\n",
    "#Make a list of letters from highest occurrence to lowest\n",
    "ordered_letter_count = letter_count.most_common()\n",
    "key_phrase_1_ordered_letters = []\n",
    "for pair in ordered_letter_count:\n",
    "    key_phrase_1_ordered_letters.append(pair[0])\n",
    "\n",
    "#Print the list\n",
    "print(\"\\nLetters ordered from highest occurrence to lowest: \")\n",
    "for letter in key_phrase_1_ordered_letters:\n",
    "    print(letter, end='')\n",
    "\n",
    "    \n",
    "    \n",
    "#Information for the second key key_phrase_2\n",
    "key_phrase_2 = input(\"\\n\\nEnter a word or phrase to count the occurrence of each letter: \").lower().strip()\n",
    "for non_letter in non_letters:\n",
    "    key_phrase_2 = key_phrase_2.replace(non_letter, '')\n",
    "    total_occurrences = len(key_phrase_2)\n",
    "    \n",
    "#Create a counter object to tally the number of each letter\n",
    "letter_count = Counter(key_phrase_2)\n",
    "print(\"\\nHere is the frequency analysis from key phrase 2: \")\n",
    "print(\"\\n\\tLetter\\t\\tOccurrence\\tPercentage\")\n",
    "for key, value in sorted(letter_count.items()):\n",
    "    percentage = 100*value/total_occurrences\n",
    "    percentage = round(percentage, 2)\n",
    "    print(\"\\t\" + key + \"\\t\\t\" + str(value) + \"\\t\\t\" + str(percentage) + \"%\")\n",
    "\n",
    "\n",
    "#Make a list of letters from highest occurrence to lowest\n",
    "ordered_letter_count = letter_count.most_common()\n",
    "key_phrase_2_ordered_letters = []\n",
    "for pair in ordered_letter_count:\n",
    "    key_phrase_2_ordered_letters.append(pair[0])\n",
    "\n",
    "#Print the list\n",
    "print(\"\\nLetters ordered from highest occurrence to lowest: \")\n",
    "for letter in key_phrase_2_ordered_letters:\n",
    "    print(letter, end='')"
   ]
  },
  {
   "cell_type": "code",
   "execution_count": null,
   "metadata": {},
   "outputs": [],
   "source": []
  }
 ],
 "metadata": {
  "kernelspec": {
   "display_name": "Python 3",
   "language": "python",
   "name": "python3"
  },
  "language_info": {
   "codemirror_mode": {
    "name": "ipython",
    "version": 3
   },
   "file_extension": ".py",
   "mimetype": "text/x-python",
   "name": "python",
   "nbconvert_exporter": "python",
   "pygments_lexer": "ipython3",
   "version": "3.8.5"
  }
 },
 "nbformat": 4,
 "nbformat_minor": 5
}
