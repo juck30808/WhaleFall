{
 "cells": [
  {
   "cell_type": "markdown",
   "metadata": {},
   "source": [
    "## import collections"
   ]
  },
  {
   "cell_type": "code",
   "execution_count": 1,
   "metadata": {},
   "outputs": [
    {
     "name": "stdout",
     "output_type": "stream",
     "text": [
      "Marcelo 31\n"
     ]
    }
   ],
   "source": [
    "import collections\n",
    "player = collections.namedtuple(\"player\", [\"name\", \"age\", \"country\"])\n",
    "\n",
    "# objects of newtuple\n",
    "p1 = player(\"Fred\", 28, \"Brazil\")\n",
    "p2 = player(\"Marcelo\", 31, \"Brazil\")\n",
    "\n",
    "# print(p1.age)\n",
    "print(p2.name, p2.age)"
   ]
  },
  {
   "cell_type": "code",
   "execution_count": 2,
   "metadata": {},
   "outputs": [
    {
     "name": "stdout",
     "output_type": "stream",
     "text": [
      "X: 70\n",
      "Y: 75\n",
      "E: 77\n",
      "M: 79\n"
     ]
    }
   ],
   "source": [
    "# Example to remember the order of the keys\n",
    "import collections\n",
    "\n",
    "firstD = collections.OrderedDict()\n",
    "firstD[\"X:\"] = 70\n",
    "firstD[\"Y:\"] = 75\n",
    "firstD[\"E:\"] = 77\n",
    "firstD[\"M:\"] = 79\n",
    "\n",
    "for k,v in firstD.items():\n",
    "    print(k,v)"
   ]
  },
  {
   "cell_type": "markdown",
   "metadata": {},
   "source": [
    "## deque-ImplementingStack"
   ]
  },
  {
   "cell_type": "code",
   "execution_count": 3,
   "metadata": {},
   "outputs": [],
   "source": [
    "from collections import deque\n",
    "numbers=deque()"
   ]
  },
  {
   "cell_type": "code",
   "execution_count": 4,
   "metadata": {},
   "outputs": [
    {
     "data": {
      "text/plain": [
       "deque([23, 45, 12, 54])"
      ]
     },
     "execution_count": 4,
     "metadata": {},
     "output_type": "execute_result"
    }
   ],
   "source": [
    "#Adding items\n",
    "#Push\n",
    "numbers.append(23)\n",
    "numbers.append(45)\n",
    "numbers.append(12)\n",
    "numbers.append(54)\n",
    "numbers"
   ]
  },
  {
   "cell_type": "code",
   "execution_count": 5,
   "metadata": {},
   "outputs": [
    {
     "data": {
      "text/plain": [
       "54"
      ]
     },
     "execution_count": 5,
     "metadata": {},
     "output_type": "execute_result"
    }
   ],
   "source": [
    "#Removing items\n",
    "#Pop\n",
    "numbers.pop()"
   ]
  },
  {
   "cell_type": "code",
   "execution_count": 6,
   "metadata": {},
   "outputs": [
    {
     "data": {
      "text/plain": [
       "12"
      ]
     },
     "execution_count": 6,
     "metadata": {},
     "output_type": "execute_result"
    }
   ],
   "source": [
    "numbers.pop()"
   ]
  },
  {
   "cell_type": "code",
   "execution_count": 7,
   "metadata": {},
   "outputs": [],
   "source": [
    "from collections import deque\n",
    "names=deque()"
   ]
  },
  {
   "cell_type": "code",
   "execution_count": 8,
   "metadata": {},
   "outputs": [
    {
     "name": "stdout",
     "output_type": "stream",
     "text": [
      "deque(['Radhika', 'Shyam', 'Ravi', 'Shivani'])\n"
     ]
    }
   ],
   "source": [
    "#Adding items\n",
    "#Enqueue\n",
    "names.append(\"Radhika\")\n",
    "names.append(\"Shyam\")\n",
    "names.append('Ravi')\n",
    "names.append(\"Shivani\")\n",
    "print(names)"
   ]
  },
  {
   "cell_type": "code",
   "execution_count": 9,
   "metadata": {},
   "outputs": [
    {
     "data": {
      "text/plain": [
       "'Radhika'"
      ]
     },
     "execution_count": 9,
     "metadata": {},
     "output_type": "execute_result"
    }
   ],
   "source": [
    "#Removing items\n",
    "#dequeue\n",
    "names.popleft()"
   ]
  },
  {
   "cell_type": "markdown",
   "metadata": {},
   "source": [
    "## Counter"
   ]
  },
  {
   "cell_type": "code",
   "execution_count": 12,
   "metadata": {},
   "outputs": [
    {
     "data": {
      "text/html": [
       "<div>\n",
       "<style scoped>\n",
       "    .dataframe tbody tr th:only-of-type {\n",
       "        vertical-align: middle;\n",
       "    }\n",
       "\n",
       "    .dataframe tbody tr th {\n",
       "        vertical-align: top;\n",
       "    }\n",
       "\n",
       "    .dataframe thead th {\n",
       "        text-align: right;\n",
       "    }\n",
       "</style>\n",
       "<table border=\"1\" class=\"dataframe\">\n",
       "  <thead>\n",
       "    <tr style=\"text-align: right;\">\n",
       "      <th></th>\n",
       "      <th>Sepal Length</th>\n",
       "      <th>Sepal Width</th>\n",
       "      <th>Petal Length</th>\n",
       "      <th>Petal Width</th>\n",
       "      <th>class</th>\n",
       "    </tr>\n",
       "  </thead>\n",
       "  <tbody>\n",
       "    <tr>\n",
       "      <th>0</th>\n",
       "      <td>5.1</td>\n",
       "      <td>3.5</td>\n",
       "      <td>1.4</td>\n",
       "      <td>0.2</td>\n",
       "      <td>Iris-setosa</td>\n",
       "    </tr>\n",
       "    <tr>\n",
       "      <th>1</th>\n",
       "      <td>4.9</td>\n",
       "      <td>3.0</td>\n",
       "      <td>1.4</td>\n",
       "      <td>0.2</td>\n",
       "      <td>Iris-setosa</td>\n",
       "    </tr>\n",
       "  </tbody>\n",
       "</table>\n",
       "</div>"
      ],
      "text/plain": [
       "   Sepal Length  Sepal Width  Petal Length  Petal Width        class\n",
       "0           5.1          3.5           1.4          0.2  Iris-setosa\n",
       "1           4.9          3.0           1.4          0.2  Iris-setosa"
      ]
     },
     "execution_count": 12,
     "metadata": {},
     "output_type": "execute_result"
    }
   ],
   "source": [
    "import pandas as pd\n",
    "from collections import Counter\n",
    "df = pd.read_csv(\"input/iris.csv\")\n",
    "df.head(2)"
   ]
  },
  {
   "cell_type": "code",
   "execution_count": 13,
   "metadata": {},
   "outputs": [
    {
     "data": {
      "text/plain": [
       "Counter({'Iris-setosa': 50, 'Iris-versicolor': 50, 'Iris-virginica': 50})"
      ]
     },
     "execution_count": 13,
     "metadata": {},
     "output_type": "execute_result"
    }
   ],
   "source": [
    "count_class = Counter(df[\"class\"])\n",
    "count_class"
   ]
  },
  {
   "cell_type": "code",
   "execution_count": 14,
   "metadata": {},
   "outputs": [
    {
     "data": {
      "text/html": [
       "<div>\n",
       "<style scoped>\n",
       "    .dataframe tbody tr th:only-of-type {\n",
       "        vertical-align: middle;\n",
       "    }\n",
       "\n",
       "    .dataframe tbody tr th {\n",
       "        vertical-align: top;\n",
       "    }\n",
       "\n",
       "    .dataframe thead th {\n",
       "        text-align: right;\n",
       "    }\n",
       "</style>\n",
       "<table border=\"1\" class=\"dataframe\">\n",
       "  <thead>\n",
       "    <tr style=\"text-align: right;\">\n",
       "      <th></th>\n",
       "      <th>Count</th>\n",
       "    </tr>\n",
       "  </thead>\n",
       "  <tbody>\n",
       "    <tr>\n",
       "      <th>Iris-setosa</th>\n",
       "      <td>50</td>\n",
       "    </tr>\n",
       "    <tr>\n",
       "      <th>Iris-versicolor</th>\n",
       "      <td>50</td>\n",
       "    </tr>\n",
       "    <tr>\n",
       "      <th>Iris-virginica</th>\n",
       "      <td>50</td>\n",
       "    </tr>\n",
       "  </tbody>\n",
       "</table>\n",
       "</div>"
      ],
      "text/plain": [
       "                 Count\n",
       "Iris-setosa         50\n",
       "Iris-versicolor     50\n",
       "Iris-virginica      50"
      ]
     },
     "execution_count": 14,
     "metadata": {},
     "output_type": "execute_result"
    }
   ],
   "source": [
    "df2 = pd.DataFrame.from_dict(count_class,orient='index',columns=[\"Count\"])\n",
    "df2"
   ]
  },
  {
   "cell_type": "code",
   "execution_count": 15,
   "metadata": {},
   "outputs": [
    {
     "data": {
      "text/html": [
       "<div>\n",
       "<style scoped>\n",
       "    .dataframe tbody tr th:only-of-type {\n",
       "        vertical-align: middle;\n",
       "    }\n",
       "\n",
       "    .dataframe tbody tr th {\n",
       "        vertical-align: top;\n",
       "    }\n",
       "\n",
       "    .dataframe thead th {\n",
       "        text-align: right;\n",
       "    }\n",
       "</style>\n",
       "<table border=\"1\" class=\"dataframe\">\n",
       "  <thead>\n",
       "    <tr style=\"text-align: right;\">\n",
       "      <th></th>\n",
       "      <th>class</th>\n",
       "      <th>count</th>\n",
       "    </tr>\n",
       "  </thead>\n",
       "  <tbody>\n",
       "    <tr>\n",
       "      <th>0</th>\n",
       "      <td>Iris-setosa</td>\n",
       "      <td>50</td>\n",
       "    </tr>\n",
       "    <tr>\n",
       "      <th>1</th>\n",
       "      <td>Iris-versicolor</td>\n",
       "      <td>50</td>\n",
       "    </tr>\n",
       "    <tr>\n",
       "      <th>2</th>\n",
       "      <td>Iris-virginica</td>\n",
       "      <td>50</td>\n",
       "    </tr>\n",
       "  </tbody>\n",
       "</table>\n",
       "</div>"
      ],
      "text/plain": [
       "             class  count\n",
       "0      Iris-setosa     50\n",
       "1  Iris-versicolor     50\n",
       "2   Iris-virginica     50"
      ]
     },
     "execution_count": 15,
     "metadata": {},
     "output_type": "execute_result"
    }
   ],
   "source": [
    "df2 = pd.DataFrame({\"class\":count_class.keys(),\n",
    "                    \"count\": count_class.values()})\n",
    "df2"
   ]
  },
  {
   "cell_type": "code",
   "execution_count": 16,
   "metadata": {},
   "outputs": [
    {
     "data": {
      "text/plain": [
       "Counter({'Alice': 1, 'Bob': 3, 'Carol': 1})"
      ]
     },
     "execution_count": 16,
     "metadata": {},
     "output_type": "execute_result"
    }
   ],
   "source": [
    "from collections import Counter\n",
    "A = [\"Alice\", \"Bob\", \"Bob\", \"Bob\", \"Carol\"]\n",
    "Counter(A)"
   ]
  },
  {
   "cell_type": "code",
   "execution_count": 17,
   "metadata": {},
   "outputs": [
    {
     "name": "stdout",
     "output_type": "stream",
     "text": [
      "Bob: 3\n",
      "Amy: 0\n"
     ]
    }
   ],
   "source": [
    "from collections import Counter\n",
    "A = [\"Alice\", \"Bob\", \"Bob\", \"Bob\", \"Carol\"]\n",
    "count_A = Counter(A)\n",
    "print(\"Bob:\", count_A[\"Bob\"])\n",
    "print(\"Amy:\", count_A[\"Amy\"])"
   ]
  },
  {
   "cell_type": "code",
   "execution_count": 18,
   "metadata": {},
   "outputs": [
    {
     "data": {
      "text/plain": [
       "Counter({'A': 1, 'a': 5, '~': 1})"
      ]
     },
     "execution_count": 18,
     "metadata": {},
     "output_type": "execute_result"
    }
   ],
   "source": [
    "B = \"Aaaaaa~\"\n",
    "Counter(B)"
   ]
  },
  {
   "cell_type": "code",
   "execution_count": 19,
   "metadata": {},
   "outputs": [
    {
     "name": "stdout",
     "output_type": "stream",
     "text": [
      "Welcome to the Frequency Analysis App\n",
      "Enter a word or phrase to count the occurrence of each letter: \n",
      "\n",
      "Here is the frequency analysis from key phrase 1: \n",
      "\n",
      "\tLetter\t\tOccurrence\tPercentage\n",
      "\n",
      "Letters ordered from highest occurrence to lowest: \n",
      "\n",
      "\n",
      "Enter a word or phrase to count the occurrence of each letter: \n",
      "\n",
      "Here is the frequency analysis from key phrase 2: \n",
      "\n",
      "\tLetter\t\tOccurrence\tPercentage\n",
      "\n",
      "Letters ordered from highest occurrence to lowest: \n"
     ]
    }
   ],
   "source": [
    "from collections import Counter\n",
    "print(\"Welcome to the Frequency Analysis App\")\n",
    "non_letters = ['1','2','3','4','5','6','7','8','9','0',' ', '.','?','!',\n",
    "               ',','\"',\"'\",':',';','(',')','%','$','&','#','\\n','\\t'] \n",
    "\n",
    "#Information for the first key key_phrase_1\n",
    "key_phrase_1 = input(\"Enter a word or phrase to count the occurrence of each letter: \").lower().strip()\n",
    "for non_letter in non_letters:\n",
    "    key_phrase_1 = key_phrase_1.replace(non_letter, '')\n",
    "total_occurrences = len(key_phrase_1)\n",
    "\n",
    "#Create a counter object to tally the number of each letter\n",
    "letter_count = Counter(key_phrase_1)\n",
    "print(\"\\nHere is the frequency analysis from key phrase 1: \")\n",
    "print(\"\\n\\tLetter\\t\\tOccurrence\\tPercentage\")\n",
    "for key, value in sorted(letter_count.items()):\n",
    "    percentage = 100*value/total_occurrences\n",
    "    percentage = round(percentage, 2)\n",
    "    print(\"\\t\" + key + \"\\t\\t\" + str(value) + \"\\t\\t\" + str(percentage) + \"%\")\n",
    "\n",
    "#Make a list of letters from highest occurrence to lowest\n",
    "ordered_letter_count = letter_count.most_common()\n",
    "key_phrase_1_ordered_letters = []\n",
    "for pair in ordered_letter_count:\n",
    "    key_phrase_1_ordered_letters.append(pair[0])\n",
    "\n",
    "#Print the list\n",
    "print(\"\\nLetters ordered from highest occurrence to lowest: \")\n",
    "for letter in key_phrase_1_ordered_letters:\n",
    "    print(letter, end='')\n",
    "\n",
    "    \n",
    "    \n",
    "#Information for the second key key_phrase_2\n",
    "key_phrase_2 = input(\"\\n\\nEnter a word or phrase to count the occurrence of each letter: \").lower().strip()\n",
    "for non_letter in non_letters:\n",
    "    key_phrase_2 = key_phrase_2.replace(non_letter, '')\n",
    "    total_occurrences = len(key_phrase_2)\n",
    "    \n",
    "#Create a counter object to tally the number of each letter\n",
    "letter_count = Counter(key_phrase_2)\n",
    "print(\"\\nHere is the frequency analysis from key phrase 2: \")\n",
    "print(\"\\n\\tLetter\\t\\tOccurrence\\tPercentage\")\n",
    "for key, value in sorted(letter_count.items()):\n",
    "    percentage = 100*value/total_occurrences\n",
    "    percentage = round(percentage, 2)\n",
    "    print(\"\\t\" + key + \"\\t\\t\" + str(value) + \"\\t\\t\" + str(percentage) + \"%\")\n",
    "\n",
    "\n",
    "#Make a list of letters from highest occurrence to lowest\n",
    "ordered_letter_count = letter_count.most_common()\n",
    "key_phrase_2_ordered_letters = []\n",
    "for pair in ordered_letter_count:\n",
    "    key_phrase_2_ordered_letters.append(pair[0])\n",
    "\n",
    "#Print the list\n",
    "print(\"\\nLetters ordered from highest occurrence to lowest: \")\n",
    "for letter in key_phrase_2_ordered_letters:\n",
    "    print(letter, end='')"
   ]
  },
  {
   "cell_type": "code",
   "execution_count": null,
   "metadata": {},
   "outputs": [],
   "source": []
  }
 ],
 "metadata": {
  "kernelspec": {
   "display_name": "Python 3",
   "language": "python",
   "name": "python3"
  },
  "language_info": {
   "codemirror_mode": {
    "name": "ipython",
    "version": 3
   },
   "file_extension": ".py",
   "mimetype": "text/x-python",
   "name": "python",
   "nbconvert_exporter": "python",
   "pygments_lexer": "ipython3",
   "version": "3.8.5"
  }
 },
 "nbformat": 4,
 "nbformat_minor": 5
}
