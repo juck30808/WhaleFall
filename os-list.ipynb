{
 "cells": [
  {
   "cell_type": "code",
   "execution_count": null,
   "metadata": {
    "id": "TnOzoU3ZDiaQ",
    "outputId": "51f726fb-e081-40e4-95d7-157051247ee7"
   },
   "outputs": [
    {
     "data": {
      "text/plain": [
       "'D:\\\\課程資料\\\\2020實踐數據全修班\\\\Python程式設計'"
      ]
     },
     "execution_count": 1,
     "metadata": {
      "tags": []
     },
     "output_type": "execute_result"
    }
   ],
   "source": [
    "# os 模組提供了數十個與作業系統溝通的函式\n",
    "# https://docs.python.org/zh-tw/3/library/os.html#module-os\n",
    "import os\n",
    "os.getcwd()"
   ]
  },
  {
   "cell_type": "code",
   "execution_count": null,
   "metadata": {
    "id": "o-NGFQvNDiaY",
    "outputId": "bca7eac9-96f5-48d6-d72b-0ffd081e9c4f"
   },
   "outputs": [
    {
     "data": {
      "text/plain": [
       "0"
      ]
     },
     "execution_count": 7,
     "metadata": {
      "tags": []
     },
     "output_type": "execute_result"
    }
   ],
   "source": [
    "import os\n",
    "os.chdir('D:\\\\課程資料') \n",
    "os.system('md test')"
   ]
  },
  {
   "cell_type": "code",
   "execution_count": null,
   "metadata": {
    "id": "NW-fvRgSDiac",
    "outputId": "9804b0f6-7ee7-49ae-90be-f11f8c829a03"
   },
   "outputs": [
    {
     "data": {
      "text/plain": [
       "'d:/myfile2.txt'"
      ]
     },
     "execution_count": 10,
     "metadata": {
      "tags": []
     },
     "output_type": "execute_result"
    }
   ],
   "source": [
    "# 對於日常檔案和目錄管理任務， shutil 模組提供了更容易使用的高階介面\n",
    "# https://docs.python.org/zh-tw/3/library/shutil.html#module-shutil\n",
    "import shutil\n",
    "shutil.copyfile('d:/myfile.txt', 'd:/myfile2.txt')"
   ]
  },
  {
   "cell_type": "code",
   "execution_count": null,
   "metadata": {
    "id": "3kCS3N-DDiag",
    "outputId": "ea5a2d9b-151c-4f86-f6b2-b3ffee745c16"
   },
   "outputs": [
    {
     "data": {
      "text/plain": [
       "'d:/myfile3.txt'"
      ]
     },
     "execution_count": 11,
     "metadata": {
      "tags": []
     },
     "output_type": "execute_result"
    }
   ],
   "source": [
    "import shutil\n",
    "shutil.move('d:/myfile2.txt', 'd:/myfile3.txt')"
   ]
  },
  {
   "cell_type": "code",
   "execution_count": null,
   "metadata": {
    "id": "7Eceq59vDiak",
    "outputId": "7629d619-6620-4dc1-ce0c-0dbe9fc60557"
   },
   "outputs": [
    {
     "data": {
      "text/plain": [
       "['d:/myfile.txt', 'd:/myfile3.txt']"
      ]
     },
     "execution_count": 12,
     "metadata": {
      "tags": []
     },
     "output_type": "execute_result"
    }
   ],
   "source": [
    "# The glob module provides a function for making file lists from directory wildcard searches:\n",
    "# https://docs.python.org/zh-tw/3/library/glob.html#module-glob\n",
    "import glob\n",
    "glob.glob('d:/*.txt')"
   ]
  },
  {
   "cell_type": "code",
   "execution_count": null,
   "metadata": {
    "id": "ZcxfMDJeDiao",
    "outputId": "ee886c76-4363-48e0-bb01-f682ed01f5be"
   },
   "outputs": [
    {
     "name": "stdout",
     "output_type": "stream",
     "text": [
      "['c:\\\\python38\\\\lib\\\\site-packages\\\\ipykernel_launcher.py', '-f', 'C:\\\\Users\\\\Clement\\\\AppData\\\\Roaming\\\\jupyter\\\\runtime\\\\kernel-7c9b7f86-2f36-4571-8a32-6cd34c8e4aec.json']\n"
     ]
    }
   ],
   "source": [
    "# 通用工具腳本常需要處理命令列引數。\n",
    "# 這些引數會以串列形式存放在 sys 模組的 argv 此變數中。\n",
    "# 例如在命令列執行 python demo.py one two three 會有以下輸出結果\n",
    "import sys\n",
    "print(sys.argv)"
   ]
  },
  {
   "cell_type": "code",
   "execution_count": null,
   "metadata": {
    "id": "918zH_-JDiat",
    "outputId": "b8d72243-8db8-4190-fff4-06f2909245de"
   },
   "outputs": [
    {
     "data": {
      "text/plain": [
       "0.7071067811865476"
      ]
     },
     "execution_count": 14,
     "metadata": {
      "tags": []
     },
     "output_type": "execute_result"
    }
   ],
   "source": [
    "# math 模組提供了 C 函式庫中底層的浮點數運算的函式。\n",
    "# https://docs.python.org/zh-tw/3/library/math.html#module-math\n",
    "import math\n",
    "math.cos(math.pi / 4)"
   ]
  },
  {
   "cell_type": "code",
   "execution_count": null,
   "metadata": {
    "id": "sy_QlvRXDiaz",
    "outputId": "93ab93d2-80cd-46bc-d2e6-fdb87806664a"
   },
   "outputs": [
    {
     "data": {
      "text/plain": [
       "10.0"
      ]
     },
     "execution_count": 15,
     "metadata": {
      "tags": []
     },
     "output_type": "execute_result"
    }
   ],
   "source": [
    "import math\n",
    "math.log(1024, 2)"
   ]
  },
  {
   "cell_type": "code",
   "execution_count": null,
   "metadata": {
    "id": "zJ6UnFxpDia2",
    "outputId": "6b2fa877-527f-4916-ac0b-b8a5c44e1360"
   },
   "outputs": [
    {
     "data": {
      "text/plain": [
       "'pear'"
      ]
     },
     "execution_count": 21,
     "metadata": {
      "tags": []
     },
     "output_type": "execute_result"
    }
   ],
   "source": [
    "# random 模組提供了隨機選擇的工具。\n",
    "# https://docs.python.org/zh-tw/3/library/random.html#module-random\n",
    "import random\n",
    "random.choice(['apple', 'pear', 'banana'])"
   ]
  },
  {
   "cell_type": "code",
   "execution_count": null,
   "metadata": {
    "id": "j1zJHPWfDia6",
    "outputId": "cdf4c7c1-d514-4b97-c88f-830f3df1d831"
   },
   "outputs": [
    {
     "data": {
      "text/plain": [
       "[85, 57, 95, 6, 79, 35, 11, 78, 8, 56]"
      ]
     },
     "execution_count": 26,
     "metadata": {
      "tags": []
     },
     "output_type": "execute_result"
    }
   ],
   "source": [
    "random.sample(range(100), 10)"
   ]
  },
  {
   "cell_type": "code",
   "execution_count": null,
   "metadata": {
    "id": "pqCOXTaLDia_",
    "outputId": "4fbd13ed-ed10-49c9-e7f9-f9efb4fda66f"
   },
   "outputs": [
    {
     "data": {
      "text/plain": [
       "0.014863111716790112"
      ]
     },
     "execution_count": 27,
     "metadata": {
      "tags": []
     },
     "output_type": "execute_result"
    }
   ],
   "source": [
    "random.random()"
   ]
  },
  {
   "cell_type": "code",
   "execution_count": null,
   "metadata": {
    "id": "aDrmn9FKDibE",
    "outputId": "59494914-99ee-44c6-9728-28f71d6843c6"
   },
   "outputs": [
    {
     "data": {
      "text/plain": [
       "1"
      ]
     },
     "execution_count": 39,
     "metadata": {
      "tags": []
     },
     "output_type": "execute_result"
    }
   ],
   "source": [
    "random.randrange(6) "
   ]
  },
  {
   "cell_type": "code",
   "execution_count": null,
   "metadata": {
    "id": "qJYaRn1xDibJ",
    "outputId": "f474e988-9c5f-473e-9378-ffbc42e7b24e"
   },
   "outputs": [
    {
     "data": {
      "text/plain": [
       "1.6071428571428572"
      ]
     },
     "execution_count": 40,
     "metadata": {
      "tags": []
     },
     "output_type": "execute_result"
    }
   ],
   "source": [
    "# statistics 模組提供了替數值資料計算基本統計量（包括平均、中位數、變異量數等）的功能\n",
    "# https://docs.python.org/zh-tw/3/library/statistics.html#module-statistics\n",
    "import statistics\n",
    "data = [2.75, 1.75, 1.25, 0.25, 0.5, 1.25, 3.5]\n",
    "statistics.mean(data)"
   ]
  },
  {
   "cell_type": "code",
   "execution_count": null,
   "metadata": {
    "id": "k__aj7oPDibM",
    "outputId": "e4bad302-4047-40e2-c9f4-f86ae9bf6c1d"
   },
   "outputs": [
    {
     "data": {
      "text/plain": [
       "1.25"
      ]
     },
     "execution_count": 41,
     "metadata": {
      "tags": []
     },
     "output_type": "execute_result"
    }
   ],
   "source": [
    "statistics.median(data)"
   ]
  },
  {
   "cell_type": "code",
   "execution_count": null,
   "metadata": {
    "id": "VYPPdzD2DibQ",
    "outputId": "385cd5e6-536a-4a8d-f005-5f89032e7b2d"
   },
   "outputs": [
    {
     "data": {
      "text/plain": [
       "1.3720238095238095"
      ]
     },
     "execution_count": 42,
     "metadata": {
      "tags": []
     },
     "output_type": "execute_result"
    }
   ],
   "source": [
    "statistics.variance(data)"
   ]
  },
  {
   "cell_type": "code",
   "execution_count": null,
   "metadata": {
    "id": "DOsbIZXiDibU",
    "outputId": "50ebebf1-46ec-403f-9f8c-6f74f77e5744"
   },
   "outputs": [
    {
     "data": {
      "text/plain": [
       "datetime.date(2020, 10, 19)"
      ]
     },
     "execution_count": 43,
     "metadata": {
      "tags": []
     },
     "output_type": "execute_result"
    }
   ],
   "source": [
    "# datetime 模組中有許多類別供以操作日期以及時間\n",
    "# https://docs.python.org/zh-tw/3/library/datetime.html#module-datetime\n",
    "from datetime import date\n",
    "now = date.today()\n",
    "now"
   ]
  },
  {
   "cell_type": "code",
   "execution_count": null,
   "metadata": {
    "id": "MHb-7bbWDibY",
    "outputId": "b3f61451-f011-4917-a20e-c69f382b1a1e"
   },
   "outputs": [
    {
     "data": {
      "text/plain": [
       "'10-19-20. 19 Oct 2020 is a Monday on the 19 day of October.'"
      ]
     },
     "execution_count": 44,
     "metadata": {
      "tags": []
     },
     "output_type": "execute_result"
    }
   ],
   "source": [
    "# https://www.runoob.com/python/att-time-strftime.html\n",
    "now.strftime(\"%m-%d-%y. %d %b %Y is a %A on the %d day of %B.\")"
   ]
  },
  {
   "cell_type": "code",
   "execution_count": null,
   "metadata": {
    "id": "q_aU-DiyDibb",
    "outputId": "7d9714bf-bf6d-4372-816a-7830c6de68ed"
   },
   "outputs": [
    {
     "data": {
      "text/plain": [
       "datetime.timedelta(days=20534)"
      ]
     },
     "execution_count": 46,
     "metadata": {
      "tags": []
     },
     "output_type": "execute_result"
    }
   ],
   "source": [
    "birthday = date(1964, 7, 31)\n",
    "age = now - birthday\n",
    "age"
   ]
  },
  {
   "cell_type": "code",
   "execution_count": null,
   "metadata": {
    "id": "5MBzrnaJDibf",
    "outputId": "c953be81-bfa4-4c37-f007-5c791b6eb6b8"
   },
   "outputs": [
    {
     "data": {
      "text/plain": [
       "33"
      ]
     },
     "execution_count": 47,
     "metadata": {
      "tags": []
     },
     "output_type": "execute_result"
    }
   ],
   "source": [
    "(date(2020, 2, 7) - date(2020, 1, 5)).days"
   ]
  },
  {
   "cell_type": "markdown",
   "metadata": {
    "id": "g7x49WlcDibj"
   },
   "source": [
    "# 十進制浮點運算\n",
    "decimal模塊提供了一種Decimal數據類型用於十進制浮點運算。相比內置的float二進制浮點實現，該類特別適用於\n",
    "<li>財務應用和其他需要精確十進製表示的用途，\n",
    "<li>控制精度，\n",
    "<li>控制四捨五入以滿足法律或監管要求，跟踪有效小數位，或\n",
    "<li>用戶期望結果與手工完成的計算相匹配的應用程序。\n",
    "    \n",
    "https://docs.python.org/zh-tw/3/library/decimal.html#module-decimal"
   ]
  },
  {
   "cell_type": "code",
   "execution_count": null,
   "metadata": {
    "id": "CdoUXkrdDibk",
    "outputId": "3d5c7b2c-35b7-46ce-f732-204ab3ba1041"
   },
   "outputs": [
    {
     "data": {
      "text/plain": [
       "Decimal('0.74')"
      ]
     },
     "execution_count": 48,
     "metadata": {
      "tags": []
     },
     "output_type": "execute_result"
    }
   ],
   "source": [
    "# 例如，使用十進制浮點和二進制浮點數計算70美分手機和5％稅的總費用，會產生的不同結果。如果結果四捨五入到最接近的分數差異會更大\n",
    "from decimal import *\n",
    "round(Decimal('0.70') * Decimal('1.05'), 2)"
   ]
  },
  {
   "cell_type": "code",
   "execution_count": null,
   "metadata": {
    "id": "btNQUEnsDibo",
    "outputId": "1c0f6711-8f95-4547-c242-4a240e8b9579"
   },
   "outputs": [
    {
     "data": {
      "text/plain": [
       "0.73"
      ]
     },
     "execution_count": 49,
     "metadata": {
      "tags": []
     },
     "output_type": "execute_result"
    }
   ],
   "source": [
    "round(.70 * 1.05, 2)"
   ]
  },
  {
   "cell_type": "code",
   "execution_count": null,
   "metadata": {
    "id": "yTymQhx_Dibt",
    "outputId": "4d280dfc-88ee-4736-9556-6cfcf4a1918e"
   },
   "outputs": [
    {
     "data": {
      "text/plain": [
       "0.9999999999999999"
      ]
     },
     "execution_count": 53,
     "metadata": {
      "tags": []
     },
     "output_type": "execute_result"
    }
   ],
   "source": [
    "x = 0.1\n",
    "y = 0\n",
    "for i in range(0,10):\n",
    "    y = y+x\n",
    "y"
   ]
  },
  {
   "cell_type": "code",
   "execution_count": null,
   "metadata": {
    "id": "-3-SOkImDibw",
    "outputId": "4967e781-3140-4960-fb6a-2fc16aa9e79c"
   },
   "outputs": [
    {
     "data": {
      "text/plain": [
       "Decimal('1.0')"
      ]
     },
     "execution_count": 54,
     "metadata": {
      "tags": []
     },
     "output_type": "execute_result"
    }
   ],
   "source": [
    "x = Decimal('0.1')\n",
    "y = Decimal('0')\n",
    "for i in range(0,10):\n",
    "    y = y+x\n",
    "y"
   ]
  },
  {
   "cell_type": "code",
   "execution_count": null,
   "metadata": {
    "id": "cvu8eWb6Dib0",
    "outputId": "d53d589c-848b-4428-c278-1f7139cc80f3"
   },
   "outputs": [
    {
     "data": {
      "text/plain": [
       "Decimal('0.142857142857142857142857142857142857')"
      ]
     },
     "execution_count": 59,
     "metadata": {
      "tags": []
     },
     "output_type": "execute_result"
    }
   ],
   "source": [
    "# decimal 模塊提供了運算所需要的足夠精度\n",
    "getcontext().prec = 36\n",
    "Decimal(1) / Decimal(7)"
   ]
  },
  {
   "cell_type": "code",
   "execution_count": null,
   "metadata": {
    "id": "cnAxB1q9Dib5",
    "outputId": "d8f042b5-c6ff-4c26-ae17-b6fb329df26e"
   },
   "outputs": [
    {
     "data": {
      "text/plain": [
       "0.14285714285714285"
      ]
     },
     "execution_count": 55,
     "metadata": {
      "tags": []
     },
     "output_type": "execute_result"
    }
   ],
   "source": [
    "1 / 7"
   ]
  },
  {
   "cell_type": "markdown",
   "metadata": {
    "id": "-UnBEogQDib_"
   },
   "source": [
    "## 檔案的讀寫"
   ]
  },
  {
   "cell_type": "code",
   "execution_count": 1,
   "metadata": {
    "id": "pqfWXLpODicF"
   },
   "outputs": [
    {
     "name": "stdout",
     "output_type": "stream",
     "text": [
      "Id,SepalLengthCm,SepalWidthCm,PetalLengthCm,PetalWidthCm,Species\n",
      "1,5.1,3.5,1.4,0.2,Iris-setosa\n",
      "2,4.9,3.0,1.4,0.2,Iris-setosa\n",
      "3,4.7,3.2,1.3,0.2,Iris-setosa\n",
      "4,4.6,3.1,1.5,0.2,Iris-setosa\n",
      "5,5.0,3.6,1.4,0.2,Iris-setosa\n",
      "6,5.4,3.9,1.7,0.4,Iris-setosa\n",
      "7,4.6,3.4,1.4,0.3,Iris-setosa\n",
      "8,5.0,3.4,1.5,0.2,Iris-setosa\n",
      "9,4.4,2.9,1.4,0.2,Iris-setosa\n",
      "10,4.9,3.1,1.5,0.1,Iris-setosa\n",
      "11,5.4,3.7,1.5,0.2,Iris-setosa\n",
      "12,4.8,3.4,1.6,0.2,Iris-setosa\n",
      "13,4.8,3.0,1.4,0.1,Iris-setosa\n",
      "14,4.3,3.0,1.1,0.1,Iris-setosa\n",
      "15,5.8,4.0,1.2,0.2,Iris-setosa\n",
      "16,5.7,4.4,1.5,0.4,Iris-setosa\n",
      "17,5.4,3.9,1.3,0.4,Iris-setosa\n",
      "18,5.1,3.5,1.4,0.3,Iris-setosa\n",
      "19,5.7,3.8,1.7,0.3,Iris-setosa\n",
      "20,5.1,3.8,1.5,0.3,Iris-setosa\n",
      "21,5.4,3.4,1.7,0.2,Iris-setosa\n",
      "22,5.1,3.7,1.5,0.4,Iris-setosa\n",
      "23,4.6,3.6,1.0,0.2,Iris-setosa\n",
      "24,5.1,3.3,1.7,0.5,Iris-setosa\n",
      "25,4.8,3.4,1.9,0.2,Iris-setosa\n",
      "26,5.0,3.0,1.6,0.2,Iris-setosa\n",
      "27,5.0,3.4,1.6,0.4,Iris-setosa\n",
      "28,5.2,3.5,1.5,0.2,Iris-setosa\n",
      "29,5.2,3.4,1.4,0.2,Iris-setosa\n",
      "30,4.7,3.2,1.6,0.2,Iris-setosa\n",
      "31,4.8,3.1,1.6,0.2,Iris-setosa\n",
      "32,5.4,3.4,1.5,0.4,Iris-setosa\n",
      "33,5.2,4.1,1.5,0.1,Iris-setosa\n",
      "34,5.5,4.2,1.4,0.2,Iris-setosa\n",
      "35,4.9,3.1,1.5,0.1,Iris-setosa\n",
      "36,5.0,3.2,1.2,0.2,Iris-setosa\n",
      "37,5.5,3.5,1.3,0.2,Iris-setosa\n",
      "38,4.9,3.1,1.5,0.1,Iris-setosa\n",
      "39,4.4,3.0,1.3,0.2,Iris-setosa\n",
      "40,5.1,3.4,1.5,0.2,Iris-setosa\n",
      "41,5.0,3.5,1.3,0.3,Iris-setosa\n",
      "42,4.5,2.3,1.3,0.3,Iris-setosa\n",
      "43,4.4,3.2,1.3,0.2,Iris-setosa\n",
      "44,5.0,3.5,1.6,0.6,Iris-setosa\n",
      "45,5.1,3.8,1.9,0.4,Iris-setosa\n",
      "46,4.8,3.0,1.4,0.3,Iris-setosa\n",
      "47,5.1,3.8,1.6,0.2,Iris-setosa\n",
      "48,4.6,3.2,1.4,0.2,Iris-setosa\n",
      "49,5.3,3.7,1.5,0.2,Iris-setosa\n",
      "50,5.0,3.3,1.4,0.2,Iris-setosa\n",
      "51,7.0,3.2,4.7,1.4,Iris-versicolor\n",
      "52,6.4,3.2,4.5,1.5,Iris-versicolor\n",
      "53,6.9,3.1,4.9,1.5,Iris-versicolor\n",
      "54,5.5,2.3,4.0,1.3,Iris-versicolor\n",
      "55,6.5,2.8,4.6,1.5,Iris-versicolor\n",
      "56,5.7,2.8,4.5,1.3,Iris-versicolor\n",
      "57,6.3,3.3,4.7,1.6,Iris-versicolor\n",
      "58,4.9,2.4,3.3,1.0,Iris-versicolor\n",
      "59,6.6,2.9,4.6,1.3,Iris-versicolor\n",
      "60,5.2,2.7,3.9,1.4,Iris-versicolor\n",
      "61,5.0,2.0,3.5,1.0,Iris-versicolor\n",
      "62,5.9,3.0,4.2,1.5,Iris-versicolor\n",
      "63,6.0,2.2,4.0,1.0,Iris-versicolor\n",
      "64,6.1,2.9,4.7,1.4,Iris-versicolor\n",
      "65,5.6,2.9,3.6,1.3,Iris-versicolor\n",
      "66,6.7,3.1,4.4,1.4,Iris-versicolor\n",
      "67,5.6,3.0,4.5,1.5,Iris-versicolor\n",
      "68,5.8,2.7,4.1,1.0,Iris-versicolor\n",
      "69,6.2,2.2,4.5,1.5,Iris-versicolor\n",
      "70,5.6,2.5,3.9,1.1,Iris-versicolor\n",
      "71,5.9,3.2,4.8,1.8,Iris-versicolor\n",
      "72,6.1,2.8,4.0,1.3,Iris-versicolor\n",
      "73,6.3,2.5,4.9,1.5,Iris-versicolor\n",
      "74,6.1,2.8,4.7,1.2,Iris-versicolor\n",
      "75,6.4,2.9,4.3,1.3,Iris-versicolor\n",
      "76,6.6,3.0,4.4,1.4,Iris-versicolor\n",
      "77,6.8,2.8,4.8,1.4,Iris-versicolor\n",
      "78,6.7,3.0,5.0,1.7,Iris-versicolor\n",
      "79,6.0,2.9,4.5,1.5,Iris-versicolor\n",
      "80,5.7,2.6,3.5,1.0,Iris-versicolor\n",
      "81,5.5,2.4,3.8,1.1,Iris-versicolor\n",
      "82,5.5,2.4,3.7,1.0,Iris-versicolor\n",
      "83,5.8,2.7,3.9,1.2,Iris-versicolor\n",
      "84,6.0,2.7,5.1,1.6,Iris-versicolor\n",
      "85,5.4,3.0,4.5,1.5,Iris-versicolor\n",
      "86,6.0,3.4,4.5,1.6,Iris-versicolor\n",
      "87,6.7,3.1,4.7,1.5,Iris-versicolor\n",
      "88,6.3,2.3,4.4,1.3,Iris-versicolor\n",
      "89,5.6,3.0,4.1,1.3,Iris-versicolor\n",
      "90,5.5,2.5,4.0,1.3,Iris-versicolor\n",
      "91,5.5,2.6,4.4,1.2,Iris-versicolor\n",
      "92,6.1,3.0,4.6,1.4,Iris-versicolor\n",
      "93,5.8,2.6,4.0,1.2,Iris-versicolor\n",
      "94,5.0,2.3,3.3,1.0,Iris-versicolor\n",
      "95,5.6,2.7,4.2,1.3,Iris-versicolor\n",
      "96,5.7,3.0,4.2,1.2,Iris-versicolor\n",
      "97,5.7,2.9,4.2,1.3,Iris-versicolor\n",
      "98,6.2,2.9,4.3,1.3,Iris-versicolor\n",
      "99,5.1,2.5,3.0,1.1,Iris-versicolor\n",
      "100,5.7,2.8,4.1,1.3,Iris-versicolor\n",
      "101,6.3,3.3,6.0,2.5,Iris-virginica\n",
      "102,5.8,2.7,5.1,1.9,Iris-virginica\n",
      "103,7.1,3.0,5.9,2.1,Iris-virginica\n",
      "104,6.3,2.9,5.6,1.8,Iris-virginica\n",
      "105,6.5,3.0,5.8,2.2,Iris-virginica\n",
      "106,7.6,3.0,6.6,2.1,Iris-virginica\n",
      "107,4.9,2.5,4.5,1.7,Iris-virginica\n",
      "108,7.3,2.9,6.3,1.8,Iris-virginica\n",
      "109,6.7,2.5,5.8,1.8,Iris-virginica\n",
      "110,7.2,3.6,6.1,2.5,Iris-virginica\n",
      "111,6.5,3.2,5.1,2.0,Iris-virginica\n",
      "112,6.4,2.7,5.3,1.9,Iris-virginica\n",
      "113,6.8,3.0,5.5,2.1,Iris-virginica\n",
      "114,5.7,2.5,5.0,2.0,Iris-virginica\n",
      "115,5.8,2.8,5.1,2.4,Iris-virginica\n",
      "116,6.4,3.2,5.3,2.3,Iris-virginica\n",
      "117,6.5,3.0,5.5,1.8,Iris-virginica\n",
      "118,7.7,3.8,6.7,2.2,Iris-virginica\n",
      "119,7.7,2.6,6.9,2.3,Iris-virginica\n",
      "120,6.0,2.2,5.0,1.5,Iris-virginica\n",
      "121,6.9,3.2,5.7,2.3,Iris-virginica\n",
      "122,5.6,2.8,4.9,2.0,Iris-virginica\n",
      "123,7.7,2.8,6.7,2.0,Iris-virginica\n",
      "124,6.3,2.7,4.9,1.8,Iris-virginica\n",
      "125,6.7,3.3,5.7,2.1,Iris-virginica\n",
      "126,7.2,3.2,6.0,1.8,Iris-virginica\n",
      "127,6.2,2.8,4.8,1.8,Iris-virginica\n",
      "128,6.1,3.0,4.9,1.8,Iris-virginica\n",
      "129,6.4,2.8,5.6,2.1,Iris-virginica\n",
      "130,7.2,3.0,5.8,1.6,Iris-virginica\n",
      "131,7.4,2.8,6.1,1.9,Iris-virginica\n",
      "132,7.9,3.8,6.4,2.0,Iris-virginica\n",
      "133,6.4,2.8,5.6,2.2,Iris-virginica\n",
      "134,6.3,2.8,5.1,1.5,Iris-virginica\n",
      "135,6.1,2.6,5.6,1.4,Iris-virginica\n",
      "136,7.7,3.0,6.1,2.3,Iris-virginica\n",
      "137,6.3,3.4,5.6,2.4,Iris-virginica\n",
      "138,6.4,3.1,5.5,1.8,Iris-virginica\n",
      "139,6.0,3.0,4.8,1.8,Iris-virginica\n",
      "140,6.9,3.1,5.4,2.1,Iris-virginica\n",
      "141,6.7,3.1,5.6,2.4,Iris-virginica\n",
      "142,6.9,3.1,5.1,2.3,Iris-virginica\n",
      "143,5.8,2.7,5.1,1.9,Iris-virginica\n",
      "144,6.8,3.2,5.9,2.3,Iris-virginica\n",
      "145,6.7,3.3,5.7,2.5,Iris-virginica\n",
      "146,6.7,3.0,5.2,2.3,Iris-virginica\n",
      "147,6.3,2.5,5.0,1.9,Iris-virginica\n",
      "148,6.5,3.0,5.2,2.0,Iris-virginica\n",
      "149,6.2,3.4,5.4,2.3,Iris-virginica\n",
      "150,5.9,3.0,5.1,1.8,Iris-virginica\n",
      "\n"
     ]
    }
   ],
   "source": [
    "# 開檔與讀檔\n",
    "#f = open('data/test/myfile.txt', 'r')\n",
    "f = open('data/Iris.csv', 'r') \n",
    "read_data = f.read()\n",
    "print(read_data)\n",
    "f.close()"
   ]
  },
  {
   "cell_type": "code",
   "execution_count": null,
   "metadata": {
    "id": "9hdp29yJDicI"
   },
   "outputs": [],
   "source": [
    "# 開檔與讀檔\n",
    "f = open('data/Iris.csv', 'r')\n",
    "data = []\n",
    "count = 1\n",
    "\n",
    "#while True: #我不知道他有多少行\n",
    "#    line_data = f.readline()\n",
    "#    if len(line_data) == 0:  #若是這種寫法，當有空格行也會break\n",
    "#        break\n",
    "#    print(f'Line_{count}: {line_data}')\n",
    "#    count = count+1\n",
    "    \n",
    "while True: #我不知道他有多少行\n",
    "    line_data = f.readline()\n",
    "    if len(line_data) == 0:  #若是這種寫法，當有空格行也會break\n",
    "        break\n",
    "    data.append(line_data)\n",
    "print(data[3])\n",
    "f.close()"
   ]
  },
  {
   "cell_type": "code",
   "execution_count": null,
   "metadata": {},
   "outputs": [],
   "source": [
    "# 開檔與讀檔\n",
    "f = open('data/test/myfile.txt', 'r')\n",
    "lines_data = f.readlines()\n",
    "print(lines_data)\n",
    "f.close()"
   ]
  },
  {
   "cell_type": "code",
   "execution_count": null,
   "metadata": {},
   "outputs": [],
   "source": [
    "# 存檔\n",
    "data = '這是一個測試用的文字檔\\n用來測試檔案系統使用\\nEDF\\nQWE'\n",
    "f = open('data/test/saveTest.txt', 'w')\n",
    "f.write(data)\n",
    "f.close()"
   ]
  },
  {
   "cell_type": "code",
   "execution_count": null,
   "metadata": {},
   "outputs": [],
   "source": [
    "# 多次存檔\n",
    "data = ['這是一個測試用的文字檔\\n', '用來測試檔案系統使用\\n', 'EDF\\n', 'QWE']\n",
    "f = open('data/test/saveTest2.txt', 'w')\n",
    "for n in data:\n",
    "    f.write(n)\n",
    "f.close()"
   ]
  },
  {
   "cell_type": "code",
   "execution_count": null,
   "metadata": {},
   "outputs": [],
   "source": [
    "# 新增在檔案後面存檔\n",
    "data = '這是一個測試用的文字檔\\n用來測試檔案系統使用\\nEDF\\nQWE'\n",
    "f = open('data/test/saveTest.txt', 'a')\n",
    "f.write(data)\n",
    "f.close()"
   ]
  },
  {
   "cell_type": "code",
   "execution_count": null,
   "metadata": {},
   "outputs": [],
   "source": [
    "# 必須使用try except來預防\n",
    "try:\n",
    "    f = open('一個不存在的檔案.txt', 'r')\n",
    "    read_data = f.read()\n",
    "    print(read_data)\n",
    "    f.close()\n",
    "except FileNotFoundError:\n",
    "    print('找不到檔案')\n"
   ]
  },
  {
   "cell_type": "code",
   "execution_count": null,
   "metadata": {},
   "outputs": [],
   "source": [
    "import os\n",
    "os.path.exists('data/test/myfile.txt')  #存在\n",
    "os.path.isfile('data/test/myfile.txt')  #檔案\n",
    "os.path.isdir('data/test/myfile.txt')   #路徑"
   ]
  },
  {
   "cell_type": "code",
   "execution_count": null,
   "metadata": {},
   "outputs": [],
   "source": [
    "# 建立目錄\n",
    "try:\n",
    "    os.makedirs('data/test/TEST_DIR2')\n",
    "    print(\"已經建立。\")\n",
    "except FileExistsError:\n",
    "    print(\"檔案已存在。\")"
   ]
  },
  {
   "cell_type": "code",
   "execution_count": null,
   "metadata": {},
   "outputs": [],
   "source": [
    "# 列出所有子目錄與檔案\n",
    "for root, dirs, files in os.walk('data'):\n",
    "    print(root)\n",
    "    print(dirs)\n",
    "    print(files)\n",
    "    print('=============')"
   ]
  },
  {
   "cell_type": "code",
   "execution_count": null,
   "metadata": {},
   "outputs": [],
   "source": [
    "# 搬移檔案\n",
    "import shutil\n",
    "shutil.move('data/test/TEST_DIR/1.txt', 'data/test/TEST_DIR2')"
   ]
  },
  {
   "cell_type": "code",
   "execution_count": null,
   "metadata": {},
   "outputs": [],
   "source": [
    "# 搬移目錄\n",
    "import shutil\n",
    "shutil.move('data/test/TEST_DIR', 'data/test/TEST_DIR2')"
   ]
  }
 ],
 "metadata": {
  "colab": {
   "name": "07. 標準函式庫.ipynb",
   "provenance": []
  },
  "kernelspec": {
   "display_name": "Python 3",
   "language": "python",
   "name": "python3"
  },
  "language_info": {
   "codemirror_mode": {
    "name": "ipython",
    "version": 3
   },
   "file_extension": ".py",
   "mimetype": "text/x-python",
   "name": "python",
   "nbconvert_exporter": "python",
   "pygments_lexer": "ipython3",
   "version": "3.8.5"
  }
 },
 "nbformat": 4,
 "nbformat_minor": 1
}
