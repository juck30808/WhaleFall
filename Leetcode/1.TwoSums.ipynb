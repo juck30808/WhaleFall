{
 "cells": [
  {
   "cell_type": "markdown",
   "metadata": {},
   "source": [
    "# time() 函式\n",
    "在 Python 中使用 time 模組的 time() 函式計算函式的經過時間。為我們提供了當前時間（以秒為單位）。它返回一個浮點數，其中包含以秒為單位的當前時間。以下程式碼示例向我們展示瞭如何在 Python 中使用 time() 函式來計算函式的執行時間。"
   ]
  },
  {
   "cell_type": "code",
   "execution_count": 6,
   "metadata": {},
   "outputs": [
    {
     "name": "stdout",
     "output_type": "stream",
     "text": [
      "The time used to execute this is given below\n",
      "0.0\n"
     ]
    }
   ],
   "source": [
    "import time\n",
    "\n",
    "start = time.time()\n",
    "print(\"The time used to execute this is given below\")\n",
    "end = time.time()\n",
    "\n",
    "print(end - start)"
   ]
  },
  {
   "cell_type": "markdown",
   "metadata": {},
   "source": [
    "# perf_counter() 函式提供了最準確的系統時間度量\n",
    "perf_counter() 函式返回全系統的時間，並將睡眠時間考慮在內。perf_counter() 函式還可用於計算函式的執行時間。以下程式碼示例向我們展示瞭如何使用 Python 中的 perf_counter() 函式來計算函式的執行時間。"
   ]
  },
  {
   "cell_type": "code",
   "execution_count": 4,
   "metadata": {},
   "outputs": [
    {
     "name": "stdout",
     "output_type": "stream",
     "text": [
      "This time is being calculated\n",
      "0.00011830000001111785\n"
     ]
    }
   ],
   "source": [
    "import time\n",
    "\n",
    "start = time.perf_counter()\n",
    "print(\"This time is being calculated\")\n",
    "end = time.perf_counter()\n",
    "\n",
    "print(end - start)"
   ]
  },
  {
   "cell_type": "markdown",
   "metadata": {},
   "source": [
    "# 記憶體用量"
   ]
  },
  {
   "cell_type": "code",
   "execution_count": 10,
   "metadata": {},
   "outputs": [
    {
     "name": "stdout",
     "output_type": "stream",
     "text": [
      "0.0\n",
      "svmem(total=17047842816, available=9415430144, percent=44.8, used=7632412672, free=9415430144)\n"
     ]
    }
   ],
   "source": [
    "from __future__ import print_function\n",
    "import psutil\n",
    "print(psutil.cpu_percent())\n",
    "print(psutil.virtual_memory()) #  physical memory usage"
   ]
  },
  {
   "cell_type": "markdown",
   "metadata": {},
   "source": [
    "# 两数之和"
   ]
  },
  {
   "cell_type": "code",
   "execution_count": 13,
   "metadata": {},
   "outputs": [],
   "source": [
    "# class Solution:\n",
    "#     def twoSum(self, nums: List[int], target: int) -> List[int]:\n",
    "#         n = len(nums)\n",
    "#         for i in range(n):\n",
    "#             for j in range(i+1,n):\n",
    "#                 if anums[i] + nums[j] == target:\n",
    "#                     return [i,j]\n",
    "#         return[]"
   ]
  },
  {
   "cell_type": "code",
   "execution_count": 29,
   "metadata": {},
   "outputs": [
    {
     "name": "stdout",
     "output_type": "stream",
     "text": [
      "[0, 1]\n",
      "[1, 2]\n",
      "This time is being calculated(s) 0.0005708999999569642\n"
     ]
    }
   ],
   "source": [
    "import time\n",
    "start = time.perf_counter()\n",
    "\n",
    "\n",
    "def twoSum(nums, target):\n",
    "        n = len(nums)\n",
    "        for i in range(n):\n",
    "            for j in range(i+1,n):\n",
    "                if nums[i] + nums[j] == target:\n",
    "                    return [i,j]\n",
    "        return[]\n",
    "\n",
    "print(twoSum([2,7,11,15],9))\n",
    "print(twoSum([3,2,4],6))\n",
    "\n",
    "\n",
    "end = time.perf_counter()\n",
    "print(\"This time is being calculated(s)\",end - start)"
   ]
  },
  {
   "cell_type": "code",
   "execution_count": null,
   "metadata": {},
   "outputs": [],
   "source": []
  },
  {
   "cell_type": "code",
   "execution_count": null,
   "metadata": {},
   "outputs": [],
   "source": []
  }
 ],
 "metadata": {
  "kernelspec": {
   "display_name": "Python 3",
   "language": "python",
   "name": "python3"
  },
  "language_info": {
   "codemirror_mode": {
    "name": "ipython",
    "version": 3
   },
   "file_extension": ".py",
   "mimetype": "text/x-python",
   "name": "python",
   "nbconvert_exporter": "python",
   "pygments_lexer": "ipython3",
   "version": "3.8.5"
  }
 },
 "nbformat": 4,
 "nbformat_minor": 4
}
