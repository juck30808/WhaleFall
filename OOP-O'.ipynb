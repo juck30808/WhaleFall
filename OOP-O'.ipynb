{
 "cells": [
  {
   "cell_type": "markdown",
   "metadata": {},
   "source": [
    "# 1. Nesne Tabanlı Programlama"
   ]
  },
  {
   "cell_type": "markdown",
   "metadata": {},
   "source": [
    "## 1.1 Sınıf (class) ve Nesne (object)"
   ]
  },
  {
   "cell_type": "code",
   "execution_count": 1,
   "metadata": {},
   "outputs": [
    {
     "name": "stdout",
     "output_type": "stream",
     "text": [
      "kitap1\n",
      "Paulo Coelho\n",
      "184\n",
      "Küçük Prens\n",
      "Simyacı\n"
     ]
    }
   ],
   "source": [
    "print(\"kitap1\")\n",
    "#print(kitap1)\n",
    "\n",
    "class kitap():\n",
    "    pass\n",
    "\n",
    "kitap1 = kitap()\n",
    "#print(kitap1)\n",
    "\n",
    "liste = list()\n",
    "sayı = int()\n",
    "küme = set()\n",
    "\n",
    "kitap1.ad = \"Simyacı\"\n",
    "kitap1.yazar = \"Paulo Coelho\"\n",
    "kitap1.raf = \"B23\"\n",
    "kitap1.sayfa = 184\n",
    "kitap1.yayinevi = \"Can Yayınları\"\n",
    "\n",
    "print(kitap1.yazar)\n",
    "print(kitap1.sayfa)\n",
    "\n",
    "kitap2 = kitap()\n",
    "\n",
    "kitap2.ad = \"Küçük Prens\"\n",
    "kitap2.yazar = \"Antoine De Sain Exupery\"\n",
    "kitap2.yayinevi= \"Can Çocuk Yayınları\"\n",
    "\n",
    "print(kitap2.ad)\n",
    "print(kitap1.ad)"
   ]
  },
  {
   "cell_type": "markdown",
   "metadata": {},
   "source": [
    "## 1.2 __init__ ve self"
   ]
  },
  {
   "cell_type": "code",
   "execution_count": 2,
   "metadata": {},
   "outputs": [
    {
     "name": "stdout",
     "output_type": "stream",
     "text": [
      "184\n"
     ]
    }
   ],
   "source": [
    "class kitap():\n",
    "    def __init__(self,ad,yazar,raf,sayfa,yayinevi):   #initiliaze \n",
    "        self.ad = ad\n",
    "        self.yazar = yazar\n",
    "        self.raf = raf\n",
    "        self.sayfa = sayfa\n",
    "        self.yayinevi = yayinevi\n",
    "        \n",
    "kitap1 = kitap(\"Simyacı\",\"Paulo Coelho\",\"B23\",184,\"Can Yayınları\")\n",
    "print(kitap1.sayfa)\n"
   ]
  },
  {
   "cell_type": "code",
   "execution_count": 3,
   "metadata": {},
   "outputs": [
    {
     "name": "stdout",
     "output_type": "stream",
     "text": [
      "init fonksiyonu çalıştı\n",
      "Küçük Prens\n",
      "Girilmedi\n"
     ]
    }
   ],
   "source": [
    "class kitap():\n",
    "    def __init__(self,ad = \"Girilmedi\",yazar = \"Girilmedi\",raf = \"Girilmedi\",sayfa = \"Girilmedi\",yayinevi = \"Girilmedi\"):   #initiliaze \n",
    "        print(\"init fonksiyonu çalıştı\")\n",
    "        self.ad = ad\n",
    "        self.yazar = yazar\n",
    "        self.raf = raf\n",
    "        self.sayfa = sayfa\n",
    "        self.yayinevi = yayinevi\n",
    "        \n",
    "kitap2 = kitap(\"Küçük Prens\",\"Antoine De Sain Exupery\",yayinevi = \"Can Çocuk Yayınları\")\n",
    "print(kitap2.ad)\n",
    "print(kitap2.raf)\n"
   ]
  },
  {
   "cell_type": "markdown",
   "metadata": {},
   "source": [
    "## 1.3 Metodlar (class'ın içine yazılan fonksiyonlar) "
   ]
  },
  {
   "cell_type": "code",
   "execution_count": 4,
   "metadata": {},
   "outputs": [
    {
     "name": "stdout",
     "output_type": "stream",
     "text": [
      "Kitabın Adı: Simyacı \n",
      "Kitabın Yazarı: Paulo Coelho \n",
      "Kitabın Rafı: B23 \n",
      "Kitabın Sayfası: 184 \n",
      "Kitabın Yayınevi: Can Yayınları \n",
      "\n",
      "Kitabın Adı: Simyacı \n",
      "Kitabın Yazarı: Paulo Coelho \n",
      "Kitabın Rafı: B23 \n",
      "Kitabın Sayfası: 200 \n",
      "Kitabın Yayınevi: Can Yayınları \n",
      "\n",
      "Kitabın Adı: Küçük Prens \n",
      "Kitabın Yazarı: Antoine De Sain Exupery \n",
      "Kitabın Rafı: Girilmedi \n",
      "Kitabın Sayfası: Girilmedi \n",
      "Kitabın Yayınevi: Can Çocuk Yayınları \n",
      "\n"
     ]
    }
   ],
   "source": [
    "class kitap():\n",
    "    def __init__(self,ad = \"Girilmedi\",yazar = \"Girilmedi\",raf = \"Girilmedi\",sayfa = \"Girilmedi\",yayinevi = \"Girilmedi\"):   #initiliaze \n",
    "        self.ad = ad\n",
    "        self.yazar = yazar\n",
    "        self.raf = raf\n",
    "        self.sayfa = sayfa\n",
    "        self.yayinevi = yayinevi\n",
    "        \n",
    "    def bilgileriGoster(self):\n",
    "        return print(\"Kitabın Adı: {} \\nKitabın Yazarı: {} \\nKitabın Rafı: {} \\nKitabın Sayfası: {} \\nKitabın Yayınevi: {} \\n\".format(self.ad,self.yazar,self.raf,self.sayfa,self.yayinevi))\n",
    "\n",
    "    def sayfaArttır(self,deger):\n",
    "        self.sayfa += deger # self.sayfa = self.sayfa + deger\n",
    "        \n",
    "kitap1 = kitap(\"Simyacı\",\"Paulo Coelho\",\"B23\",184,\"Can Yayınları\")\n",
    "kitap1.bilgileriGoster()\n",
    "kitap1.sayfaArttır(16)\n",
    "kitap1.bilgileriGoster()\n",
    "\n",
    "kitap2 = kitap(\"Küçük Prens\",\"Antoine De Sain Exupery\",yayinevi = \"Can Çocuk Yayınları\")\n",
    "kitap2.bilgileriGoster()\n",
    "\n",
    "liste= [23,3,3,2]\n",
    "liste.append(2)"
   ]
  },
  {
   "cell_type": "markdown",
   "metadata": {},
   "source": [
    "## 1.4 class variables & instance variables"
   ]
  },
  {
   "cell_type": "code",
   "execution_count": 5,
   "metadata": {},
   "outputs": [],
   "source": [
    "class kitap():\n",
    "    kutuphaneninAdi = \"Üniversite Kütüphanesi\"\n",
    "    def __init__(self,ad = \"Girilmedi\",yazar = \"Girilmedi\",raf = \"Girilmedi\",sayfa = \"Girilmedi\",yayinevi = \"Girilmedi\"):   #initiliaze \n",
    "        self.ad = ad\n",
    "        self.yazar = yazar\n",
    "        self.raf = raf\n",
    "        self.sayfa = sayfa\n",
    "        self.yayinevi = yayinevi\n",
    "        \n",
    "    def bilgileriGoster(self):\n",
    "        return print(\"Kitabın Adı: {} \\nKitabın Yazarı: {} \\nKitabın Rafı: {} \\nKitabın Sayfası: {} \\nKitabın Yayınevi: {} \\n\".format(self.ad,self.yazar,self.raf,self.sayfa,self.yayinevi))\n",
    "\n",
    "    def sayfaArttır(self,deger):\n",
    "        self.sayfa += deger # self.sayfa = self.sayfa + deger\n",
    "\n",
    "\n",
    "kitap1 = kitap(\"Simyacı\",\"Paulo Coelho\",\"B23\",184,\"Can Yayınları\")\n",
    "kitap2 = kitap(\"Küçük Prens\",\"Antoine De Sain Exupery\",yayinevi = \"Can Çocuk Yayınları\")"
   ]
  },
  {
   "cell_type": "code",
   "execution_count": 6,
   "metadata": {},
   "outputs": [
    {
     "data": {
      "text/plain": [
       "'İTÜ Kütüphanesi'"
      ]
     },
     "execution_count": 6,
     "metadata": {},
     "output_type": "execute_result"
    }
   ],
   "source": [
    "kitap.kutuphaneninAdi\n",
    "kitap1.kutuphaneninAdi\n",
    "kitap2.kutuphaneninAdi\n",
    "\n",
    "#kitap.ad\n",
    "kitap1.ad\n",
    "kitap2.ad\n",
    "\n",
    "kitap.kutuphaneninAdi = \"İTÜ Kütüphanesi\"\n",
    "kitap.kutuphaneninAdi\n",
    "kitap1.kutuphaneninAdi\n",
    "kitap2.kutuphaneninAdi\n",
    "\n",
    "kitap1.kutuphaneninAdi = \"İstanbul Üniversitesi Kütüphanesi\"\n",
    "kitap.kutuphaneninAdi\n",
    "kitap1.kutuphaneninAdi\n",
    "kitap2.kutuphaneninAdi"
   ]
  },
  {
   "cell_type": "code",
   "execution_count": 7,
   "metadata": {},
   "outputs": [],
   "source": [
    "class kitap():\n",
    "    kutuphaneninAdi = \"Üniversite Kütüphanesi\"\n",
    "    kitapSayisi = 0\n",
    "    kitapID = 1000\n",
    "    def __init__(self,ad = \"Girilmedi\",yazar = \"Girilmedi\",raf = \"Girilmedi\",sayfa = \"Girilmedi\",yayinevi = \"Girilmedi\"):   #initiliaze \n",
    "        self.ad = ad\n",
    "        self.yazar = yazar\n",
    "        self.raf = raf\n",
    "        self.sayfa = sayfa\n",
    "        self.yayinevi = yayinevi\n",
    "        kitap.kitapSayisi += 1\n",
    "        self.kitapID += 10\n",
    "        kitap.kitapID = self.kitapID\n",
    "        \n",
    "    def bilgileriGoster(self):\n",
    "        return print(\"Kitabın Adı: {} \\nKitabın Yazarı: {} \\nKitabın Rafı: {} \\nKitabın Sayfası: {} \\nKitabın Yayınevi: {} \\n\".format(self.ad,self.yazar,self.raf,self.sayfa,self.yayinevi))\n",
    "\n",
    "    def sayfaArttır(self,deger):\n",
    "        self.sayfa += deger # self.sayfa = self.sayfa + deger\n",
    "\n",
    "\n",
    "kitap1 = kitap(\"Simyacı\",\"Paulo Coelho\",\"B23\",184,\"Can Yayınları\")\n",
    "kitap2 = kitap(\"Küçük Prens\",\"Antoine De Sain Exupery\",yayinevi = \"Can Çocuk Yayınları\")"
   ]
  },
  {
   "cell_type": "code",
   "execution_count": 8,
   "metadata": {},
   "outputs": [
    {
     "data": {
      "text/plain": [
       "1020"
      ]
     },
     "execution_count": 8,
     "metadata": {},
     "output_type": "execute_result"
    }
   ],
   "source": [
    "kitap.kitapSayisi\n",
    "kitap1.kitapSayisi\n",
    "kitap2.kitapSayisi\n",
    "\n",
    "kitap1.kitapID\n",
    "kitap2.kitapID"
   ]
  },
  {
   "cell_type": "markdown",
   "metadata": {},
   "source": [
    "## 1.5 class methods, instance methods & static methods"
   ]
  },
  {
   "cell_type": "code",
   "execution_count": 9,
   "metadata": {},
   "outputs": [],
   "source": [
    "class kitap():\n",
    "    kutuphaneninAdi = \"Üniversite Kütüphanesi\"\n",
    "    kitapSayisi = 0\n",
    "    kitapID = 1000\n",
    "    def __init__(self,ad = \"Girilmedi\",yazar = \"Girilmedi\",raf = \"Girilmedi\",sayfa = \"Girilmedi\",yayinevi = \"Girilmedi\"):   #initiliaze \n",
    "        self.ad = ad\n",
    "        self.yazar = yazar\n",
    "        self.raf = raf\n",
    "        self.sayfa = sayfa\n",
    "        self.yayinevi = yayinevi\n",
    "        kitap.kitapSayisi += 1\n",
    "        self.kitapID += 10\n",
    "        kitap.kitapID = self.kitapID\n",
    "    #instance method    \n",
    "    def bilgileriGoster(self):\n",
    "        return print(\"Kitabın Adı: {} \\nKitabın Yazarı: {} \\nKitabın Rafı: {} \\nKitabın Sayfası: {} \\nKitabın Yayınevi: {} \\n\".format(self.ad,self.yazar,self.raf,self.sayfa,self.yayinevi))\n",
    "    #instance method \n",
    "    def sayfaArttır(self,deger):\n",
    "        self.sayfa += deger # self.sayfa = self.sayfa + deger\n",
    "    #class method\n",
    "    @classmethod\n",
    "    def kitapSayısınıSoyle(cls):\n",
    "        return kitap.kitapSayisi\n",
    "    #class method\n",
    "    @classmethod\n",
    "    def stringİleOluştur(cls,metin):\n",
    "        ad,yazar = metin.split(\" \")\n",
    "        return cls(ad,yazar)\n",
    "    #static method\n",
    "    @staticmethod\n",
    "    def kutuphaneAdiniSoyle():\n",
    "        return kitap.kutuphaneninAdi\n",
    "\n",
    "\n",
    "kitap1 = kitap(\"Simyacı\",\"Paulo Coelho\",\"B23\",184,\"Can Yayınları\")\n",
    "kitap2 = kitap(\"Küçük Prens\",\"Antoine De Sain Exupery\",yayinevi = \"Can Çocuk Yayınları\")"
   ]
  },
  {
   "cell_type": "code",
   "execution_count": 10,
   "metadata": {},
   "outputs": [
    {
     "data": {
      "text/plain": [
       "'Üniversite Kütüphanesi'"
      ]
     },
     "execution_count": 10,
     "metadata": {},
     "output_type": "execute_result"
    }
   ],
   "source": [
    "#kitap1.bilgileriGoster() # = kitap.bilgileriGoster(kitap1)\n",
    "#kitap.bilgileriGoster()\n",
    "#kitap.bilgileriGoster(kitap2)\n",
    "\n",
    "#kitap.kitapSayısınıSoyle()\n",
    "#kitap1.kitapSayısınıSoyle()\n",
    "\n",
    "#kitap3 = kitap.stringİleOluştur(\"SaatleriAyarlamaEnstitüsü AhmetHamdiTanpınar\")\n",
    "#kitap3.bilgileriGoster()\n",
    "#kitap(\"SaatleriAyarlamaEnstitüsü AhmetHamdiTanpınar\")\n",
    "\n",
    "kitap.kutuphaneAdiniSoyle()"
   ]
  },
  {
   "cell_type": "markdown",
   "metadata": {},
   "source": [
    "## 1.6 Kalıtım (Inheritance)"
   ]
  },
  {
   "cell_type": "code",
   "execution_count": 11,
   "metadata": {},
   "outputs": [],
   "source": [
    "class kitap():\n",
    "    kutuphaneninAdi = \"Üniversite Kütüphanesi\"\n",
    "    kitapSayisi = 0\n",
    "    kitapID = 1000\n",
    "    def __init__(self,ad = \"Girilmedi\",yazar = \"Girilmedi\",raf = \"Girilmedi\",sayfa = \"Girilmedi\",yayinevi = \"Girilmedi\"):   #initiliaze \n",
    "        self.ad = ad\n",
    "        self.yazar = yazar\n",
    "        self.raf = raf\n",
    "        self.sayfa = sayfa\n",
    "        self.yayinevi = yayinevi\n",
    "        kitap.kitapSayisi += 1\n",
    "        self.kitapID += 10\n",
    "        kitap.kitapID = self.kitapID\n",
    "    #instance method    \n",
    "    def bilgileriGoster(self):\n",
    "        return print(\"Kitabın Adı: {} \\nKitabın Yazarı: {} \\nKitabın Rafı: {} \\nKitabın Sayfası: {} \\nKitabın Yayınevi: {} \\n\".format(self.ad,self.yazar,self.raf,self.sayfa,self.yayinevi))\n",
    "    #instance method \n",
    "    def sayfaArttır(self,deger):\n",
    "        self.sayfa += deger # self.sayfa = self.sayfa + deger\n",
    "    #class method\n",
    "    @classmethod\n",
    "    def kitapSayısınıSoyle(cls):\n",
    "        return kitap.kitapSayisi\n",
    "    #class method\n",
    "    @classmethod\n",
    "    def stringİleOluştur(cls,metin):\n",
    "        ad,yazar = metin.split(\" \")\n",
    "        return cls(ad,yazar)\n",
    "    #static method\n",
    "    @staticmethod\n",
    "    def kutuphaneAdiniSoyle():\n",
    "        return kitap.kutuphaneninAdi\n",
    "\n"
   ]
  },
  {
   "cell_type": "code",
   "execution_count": 12,
   "metadata": {},
   "outputs": [],
   "source": [
    "class yerelKitaplar(kitap):\n",
    "    pass\n",
    "\n",
    "class yabancıKitaplar(kitap):\n",
    "    pass"
   ]
  },
  {
   "cell_type": "code",
   "execution_count": 13,
   "metadata": {},
   "outputs": [
    {
     "name": "stdout",
     "output_type": "stream",
     "text": [
      "Kitabın Adı: Saatleri Ayarlama Enstitüsü \n",
      "Kitabın Yazarı: Ahmet Hamdi Tanpınar \n",
      "Kitabın Rafı: Girilmedi \n",
      "Kitabın Sayfası: Girilmedi \n",
      "Kitabın Yayınevi: Girilmedi \n",
      "\n",
      "Kitabın Adı: Simyacı \n",
      "Kitabın Yazarı: Paulo Coelho \n",
      "Kitabın Rafı: B23 \n",
      "Kitabın Sayfası: 184 \n",
      "Kitabın Yayınevi: Can Yayınları \n",
      "\n",
      "Kitabın Adı: Küçük Prens \n",
      "Kitabın Yazarı: Antoine De Sain Exupery \n",
      "Kitabın Rafı: Girilmedi \n",
      "Kitabın Sayfası: Girilmedi \n",
      "Kitabın Yayınevi: Can Çocuk Yayınları \n",
      "\n"
     ]
    }
   ],
   "source": [
    "yerelKitap1 = yerelKitaplar(\"Saatleri Ayarlama Enstitüsü\",\"Ahmet Hamdi Tanpınar\")\n",
    "yerelKitap1.bilgileriGoster()\n",
    "\n",
    "yabancıKitap1 = yabancıKitaplar(\"Simyacı\",\"Paulo Coelho\",\"B23\",184,\"Can Yayınları\")\n",
    "yabancıKitap1.bilgileriGoster()\n",
    "yabancıKitap1 = yabancıKitaplar(\"Küçük Prens\",\"Antoine De Sain Exupery\",yayinevi = \"Can Çocuk Yayınları\")\n",
    "yabancıKitap1.bilgileriGoster()"
   ]
  },
  {
   "cell_type": "markdown",
   "metadata": {},
   "source": [
    "### 1.6.1 overriding"
   ]
  },
  {
   "cell_type": "code",
   "execution_count": 14,
   "metadata": {},
   "outputs": [
    {
     "name": "stdout",
     "output_type": "stream",
     "text": [
      "Kitabın Adı: Simyacı \n",
      "Kitabın Yazarı: Paulo Coelho \n",
      "Kitabın Rafı: B23 \n",
      "Kitabın Sayfası: 184 \n",
      "Kitabın Yayınevi: Can Yayınları \n",
      "Kitabın Çevirmeni: Özdemir İnce\n",
      "------\n",
      "Kitabın Adı: Simyacı \n",
      "Kitabın Yazarı: Paulo Coelho \n",
      "Kitabın Rafı: B23 \n",
      "Kitabın Sayfası: 184 \n",
      "Kitabın Yayınevi: Can Yayınları \n",
      "Kitabın Çevirmeni: Özdemir Kısa\n"
     ]
    }
   ],
   "source": [
    "class yabancıKitaplar(kitap):\n",
    "    def __init__(self,ad = \"Girilmedi\",yazar = \"Girilmedi\",raf = \"Girilmedi\",sayfa = \"Girilmedi\",yayinevi = \"Girilmedi\",cevirmen = \"Girilmedi\"):  \n",
    "        self.ad = ad\n",
    "        self.yazar = yazar\n",
    "        self.raf = raf\n",
    "        self.sayfa = sayfa\n",
    "        self.yayinevi = yayinevi\n",
    "        self.cevirmen = cevirmen\n",
    "    def bilgileriGoster(self):\n",
    "        return print(\"Kitabın Adı: {} \\nKitabın Yazarı: {} \\nKitabın Rafı: {} \\nKitabın Sayfası: {} \\nKitabın Yayınevi: {} \\nKitabın Çevirmeni: {}\".format(self.ad,self.yazar,self.raf,self.sayfa,self.yayinevi,self.cevirmen))\n",
    "\n",
    "    def cevirmenDegistir(self,yeniCevirmen):\n",
    "        self.cevirmen = yeniCevirmen\n",
    "        \n",
    "yabancıKitap1 = yabancıKitaplar(\"Simyacı\",\"Paulo Coelho\",\"B23\",184,\"Can Yayınları\",\"Özdemir İnce\")\n",
    "yabancıKitap1.bilgileriGoster()\n",
    "print(\"------\")\n",
    "yabancıKitap1.cevirmenDegistir(\"Özdemir Kısa\")\n",
    "yabancıKitap1.bilgileriGoster()\n",
    "\n"
   ]
  },
  {
   "cell_type": "markdown",
   "metadata": {},
   "source": [
    "### 1.6.2 super().__init__"
   ]
  },
  {
   "cell_type": "code",
   "execution_count": 15,
   "metadata": {},
   "outputs": [
    {
     "name": "stdout",
     "output_type": "stream",
     "text": [
      "Kitabın Adı: Simyacı \n",
      "Kitabın Yazarı: Paulo Coelho \n",
      "Kitabın Rafı: B23 \n",
      "Kitabın Sayfası: 184 \n",
      "Kitabın Yayınevi: Can Yayınları \n",
      "Kitabın Çevirmeni: Özdemir İnce\n",
      "------\n",
      "Kitabın Adı: Simyacı \n",
      "Kitabın Yazarı: Paulo Coelho \n",
      "Kitabın Rafı: B23 \n",
      "Kitabın Sayfası: 184 \n",
      "Kitabın Yayınevi: Can Yayınları \n",
      "Kitabın Çevirmeni: Özdemir Kısa\n"
     ]
    }
   ],
   "source": [
    "class yabancıKitaplar(kitap):\n",
    "    def __init__(self,ad = \"Girilmedi\",yazar = \"Girilmedi\",raf = \"Girilmedi\",sayfa = \"Girilmedi\",yayinevi = \"Girilmedi\",cevirmen = \"Girilmedi\"):  \n",
    "        super().__init__(ad,yazar,raf,sayfa,yayinevi)\n",
    "        self.cevirmen = cevirmen\n",
    "    def bilgileriGoster(self):\n",
    "        return print(\"Kitabın Adı: {} \\nKitabın Yazarı: {} \\nKitabın Rafı: {} \\nKitabın Sayfası: {} \\nKitabın Yayınevi: {} \\nKitabın Çevirmeni: {}\".format(self.ad,self.yazar,self.raf,self.sayfa,self.yayinevi,self.cevirmen))\n",
    "\n",
    "    def cevirmenDegistir(self,yeniCevirmen):\n",
    "        self.cevirmen = yeniCevirmen\n",
    "        \n",
    "yabancıKitap1 = yabancıKitaplar(\"Simyacı\",\"Paulo Coelho\",\"B23\",184,\"Can Yayınları\",\"Özdemir İnce\")\n",
    "yabancıKitap1.bilgileriGoster()\n",
    "print(\"------\")\n",
    "yabancıKitap1.cevirmenDegistir(\"Özdemir Kısa\")\n",
    "yabancıKitap1.bilgileriGoster()"
   ]
  },
  {
   "cell_type": "markdown",
   "metadata": {},
   "source": [
    "## 1.7 Dunder (Magic, Special) Methods"
   ]
  },
  {
   "cell_type": "code",
   "execution_count": 16,
   "metadata": {},
   "outputs": [],
   "source": [
    "liste = [23,3,4,5]\n",
    "#type(liste)\n",
    "#dir(list)"
   ]
  },
  {
   "cell_type": "markdown",
   "metadata": {},
   "source": [
    "### 1.7.1 __str__"
   ]
  },
  {
   "cell_type": "code",
   "execution_count": 17,
   "metadata": {},
   "outputs": [],
   "source": [
    "class kitap():\n",
    "    kutuphaneninAdi = \"Üniversite Kütüphanesi\"\n",
    "    kitapSayisi = 0\n",
    "    kitapID = 1000\n",
    "    def __init__(self,ad = \"Girilmedi\",yazar = \"Girilmedi\",raf = \"Girilmedi\",sayfa = \"Girilmedi\",yayinevi = \"Girilmedi\"):   #initiliaze \n",
    "        self.ad = ad\n",
    "        self.yazar = yazar\n",
    "        self.raf = raf\n",
    "        self.sayfa = sayfa\n",
    "        self.yayinevi = yayinevi\n",
    "        kitap.kitapSayisi += 1\n",
    "        self.kitapID += 10\n",
    "        kitap.kitapID = self.kitapID\n",
    "    #instance method    \n",
    "    def __str__(self):\n",
    "        return \"Kitabın Adı: {} \\nKitabın Yazarı: {} \\nKitabın Rafı: {} \\nKitabın Sayfası: {} \\nKitabın Yayınevi: {} \\n\".format(self.ad,self.yazar,self.raf,self.sayfa,self.yayinevi)\n",
    "    #instance method \n",
    "    def sayfaArttır(self,deger):\n",
    "        self.sayfa += deger # self.sayfa = self.sayfa + deger\n",
    "    #class method\n",
    "    @classmethod\n",
    "    def kitapSayısınıSoyle(cls):\n",
    "        return kitap.kitapSayisi\n",
    "    #class method\n",
    "    @classmethod\n",
    "    def stringİleOluştur(cls,metin):\n",
    "        ad,yazar = metin.split(\" \")\n",
    "        return cls(ad,yazar)\n",
    "    #static method\n",
    "    @staticmethod\n",
    "    def kutuphaneAdiniSoyle():\n",
    "        return kitap.kutuphaneninAdi\n",
    "\n",
    "kitap1 = kitap(\"Simyacı\",\"Paulo Coelho\",\"B23\",184,\"Can Yayınları\")\n",
    "kitap2 = kitap(\"Küçük Prens\",\"Antoine De Sain Exupery\",yayinevi = \"Can Çocuk Yayınları\")"
   ]
  },
  {
   "cell_type": "code",
   "execution_count": 18,
   "metadata": {},
   "outputs": [
    {
     "name": "stdout",
     "output_type": "stream",
     "text": [
      "Kitabın Adı: Simyacı \n",
      "Kitabın Yazarı: Paulo Coelho \n",
      "Kitabın Rafı: B23 \n",
      "Kitabın Sayfası: 184 \n",
      "Kitabın Yayınevi: Can Yayınları \n",
      "\n"
     ]
    }
   ],
   "source": [
    "print(kitap1)\n"
   ]
  },
  {
   "cell_type": "markdown",
   "metadata": {},
   "source": [
    "### 1.7.2 len"
   ]
  },
  {
   "cell_type": "code",
   "execution_count": 19,
   "metadata": {},
   "outputs": [
    {
     "data": {
      "text/plain": [
       "3"
      ]
     },
     "execution_count": 19,
     "metadata": {},
     "output_type": "execute_result"
    }
   ],
   "source": [
    "liste = [2,3,4]\n",
    "len(liste)"
   ]
  },
  {
   "cell_type": "code",
   "execution_count": 20,
   "metadata": {},
   "outputs": [],
   "source": [
    "class kitap():\n",
    "    kutuphaneninAdi = \"Üniversite Kütüphanesi\"\n",
    "    kitapSayisi = 0\n",
    "    kitapID = 1000\n",
    "    def __init__(self,ad = \"Girilmedi\",yazar = \"Girilmedi\",raf = \"Girilmedi\",sayfa = \"Girilmedi\",yayinevi = \"Girilmedi\"):   #initiliaze \n",
    "        self.ad = ad\n",
    "        self.yazar = yazar\n",
    "        self.raf = raf\n",
    "        self.sayfa = sayfa\n",
    "        self.yayinevi = yayinevi\n",
    "        kitap.kitapSayisi += 1\n",
    "        self.kitapID += 10\n",
    "        kitap.kitapID = self.kitapID\n",
    "    #instance method    \n",
    "    def __str__(self):\n",
    "        return \"Kitabın Adı: {} \\nKitabın Yazarı: {} \\nKitabın Rafı: {} \\nKitabın Sayfası: {} \\nKitabın Yayınevi: {} \\n\".format(self.ad,self.yazar,self.raf,self.sayfa,self.yayinevi)\n",
    "    #instance method \n",
    "    def sayfaArttır(self,deger):\n",
    "        self.sayfa += deger # self.sayfa = self.sayfa + deger\n",
    "    #class method\n",
    "    @classmethod\n",
    "    def kitapSayısınıSoyle(cls):\n",
    "        return kitap.kitapSayisi\n",
    "    #class method\n",
    "    @classmethod\n",
    "    def stringİleOluştur(cls,metin):\n",
    "        ad,yazar = metin.split(\" \")\n",
    "        return cls(ad,yazar)\n",
    "    #static method\n",
    "    @staticmethod\n",
    "    def kutuphaneAdiniSoyle():\n",
    "        return kitap.kutuphaneninAdi\n",
    "    def __len__(self):\n",
    "        return self.sayfa\n",
    "\n",
    "kitap1 = kitap(\"Simyacı\",\"Paulo Coelho\",\"B23\",184,\"Can Yayınları\")\n",
    "kitap2 = kitap(\"Küçük Prens\",\"Antoine De Sain Exupery\",yayinevi = \"Can Çocuk Yayınları\")"
   ]
  },
  {
   "cell_type": "code",
   "execution_count": 21,
   "metadata": {},
   "outputs": [
    {
     "data": {
      "text/plain": [
       "184"
      ]
     },
     "execution_count": 21,
     "metadata": {},
     "output_type": "execute_result"
    }
   ],
   "source": [
    "len(kitap1)"
   ]
  },
  {
   "cell_type": "markdown",
   "metadata": {},
   "source": [
    "### 1.7.3 add"
   ]
  },
  {
   "cell_type": "code",
   "execution_count": 22,
   "metadata": {},
   "outputs": [],
   "source": [
    "class kitap():\n",
    "    kutuphaneninAdi = \"Üniversite Kütüphanesi\"\n",
    "    kitapSayisi = 0\n",
    "    kitapID = 1000\n",
    "    def __init__(self,ad = \"Girilmedi\",yazar = \"Girilmedi\",raf = \"Girilmedi\",sayfa = \"Girilmedi\",yayinevi = \"Girilmedi\"):   #initiliaze \n",
    "        self.ad = ad\n",
    "        self.yazar = yazar\n",
    "        self.raf = raf\n",
    "        self.sayfa = sayfa\n",
    "        self.yayinevi = yayinevi\n",
    "        kitap.kitapSayisi += 1\n",
    "        self.kitapID += 10\n",
    "        kitap.kitapID = self.kitapID\n",
    "    #instance method    \n",
    "    def __str__(self):\n",
    "        return \"Kitabın Adı: {} \\nKitabın Yazarı: {} \\nKitabın Rafı: {} \\nKitabın Sayfası: {} \\nKitabın Yayınevi: {} \\n\".format(self.ad,self.yazar,self.raf,self.sayfa,self.yayinevi)\n",
    "    #instance method \n",
    "    def sayfaArttır(self,deger):\n",
    "        self.sayfa += deger # self.sayfa = self.sayfa + deger\n",
    "    #class method\n",
    "    @classmethod\n",
    "    def kitapSayısınıSoyle(cls):\n",
    "        return kitap.kitapSayisi\n",
    "    #class method\n",
    "    @classmethod\n",
    "    def stringİleOluştur(cls,metin):\n",
    "        ad,yazar = metin.split(\" \")\n",
    "        return cls(ad,yazar)\n",
    "    #static method\n",
    "    @staticmethod\n",
    "    def kutuphaneAdiniSoyle():\n",
    "        return kitap.kutuphaneninAdi\n",
    "    def __len__(self):\n",
    "        return self.sayfa\n",
    "    def __add__(self,other):\n",
    "        return self.ad + other.ad\n",
    "\n",
    "kitap1 = kitap(\"Simyacı\",\"Paulo Coelho\",\"B23\",184,\"Can Yayınları\")\n",
    "kitap2 = kitap(\"Küçük Prens\",\"Antoine De Sain Exupery\",yayinevi = \"Can Çocuk Yayınları\")"
   ]
  },
  {
   "cell_type": "code",
   "execution_count": 23,
   "metadata": {},
   "outputs": [
    {
     "name": "stdout",
     "output_type": "stream",
     "text": [
      "SimyacıKüçük Prens\n"
     ]
    }
   ],
   "source": [
    "print(kitap1 + kitap2)"
   ]
  },
  {
   "cell_type": "markdown",
   "metadata": {},
   "source": [
    "### 1.7.4 mul"
   ]
  },
  {
   "cell_type": "code",
   "execution_count": 24,
   "metadata": {},
   "outputs": [],
   "source": [
    "class kitap():\n",
    "    kutuphaneninAdi = \"Üniversite Kütüphanesi\"\n",
    "    kitapSayisi = 0\n",
    "    kitapID = 1000\n",
    "    def __init__(self,ad = \"Girilmedi\",yazar = \"Girilmedi\",raf = \"Girilmedi\",sayfa = \"Girilmedi\",yayinevi = \"Girilmedi\"):   #initiliaze \n",
    "        self.ad = ad\n",
    "        self.yazar = yazar\n",
    "        self.raf = raf\n",
    "        self.sayfa = sayfa\n",
    "        self.yayinevi = yayinevi\n",
    "        kitap.kitapSayisi += 1\n",
    "        self.kitapID += 10\n",
    "        kitap.kitapID = self.kitapID\n",
    "    #instance method    \n",
    "    def __str__(self):\n",
    "        return \"Kitabın Adı: {} \\nKitabın Yazarı: {} \\nKitabın Rafı: {} \\nKitabın Sayfası: {} \\nKitabın Yayınevi: {} \\n\".format(self.ad,self.yazar,self.raf,self.sayfa,self.yayinevi)\n",
    "    #instance method \n",
    "    def sayfaArttır(self,deger):\n",
    "        self.sayfa += deger # self.sayfa = self.sayfa + deger\n",
    "    #class method\n",
    "    @classmethod\n",
    "    def kitapSayısınıSoyle(cls):\n",
    "        return kitap.kitapSayisi\n",
    "    #class method\n",
    "    @classmethod\n",
    "    def stringİleOluştur(cls,metin):\n",
    "        ad,yazar = metin.split(\" \")\n",
    "        return cls(ad,yazar)\n",
    "    #static method\n",
    "    @staticmethod\n",
    "    def kutuphaneAdiniSoyle():\n",
    "        return kitap.kutuphaneninAdi\n",
    "    def __len__(self):\n",
    "        return self.sayfa\n",
    "    def __add__(self,other):\n",
    "        return self.ad + other.ad\n",
    "    def __mul__(self,other):\n",
    "        return self.yazar + \"-\" +other.yazar\n",
    "\n",
    "kitap1 = kitap(\"Simyacı\",\"Paulo Coelho\",\"B23\",184,\"Can Yayınları\")\n",
    "kitap2 = kitap(\"Küçük Prens\",\"Antoine De Sain Exupery\",yayinevi = \"Can Çocuk Yayınları\")"
   ]
  },
  {
   "cell_type": "code",
   "execution_count": 25,
   "metadata": {},
   "outputs": [
    {
     "name": "stdout",
     "output_type": "stream",
     "text": [
      "Paulo Coelho-Antoine De Sain Exupery\n"
     ]
    }
   ],
   "source": [
    "print(kitap1 * kitap2)"
   ]
  },
  {
   "cell_type": "markdown",
   "metadata": {},
   "source": [
    "# 1. Iterator"
   ]
  },
  {
   "cell_type": "markdown",
   "metadata": {},
   "source": [
    "## 1.1 Nedir?"
   ]
  },
  {
   "cell_type": "markdown",
   "metadata": {},
   "source": [
    "__iter__ \n",
    "__next__"
   ]
  },
  {
   "cell_type": "code",
   "execution_count": 4,
   "metadata": {},
   "outputs": [
    {
     "name": "stdout",
     "output_type": "stream",
     "text": [
      "2\n",
      "5\n",
      "1\n",
      "50\n",
      "0\n",
      "P\n",
      "y\n",
      "t\n",
      "h\n",
      "o\n",
      "n\n"
     ]
    },
    {
     "ename": "TypeError",
     "evalue": "'int' object is not iterable",
     "output_type": "error",
     "traceback": [
      "\u001b[0;31m---------------------------------------------------------------------------\u001b[0m",
      "\u001b[0;31mTypeError\u001b[0m                                 Traceback (most recent call last)",
      "\u001b[0;32m<ipython-input-4-d134c3c548c0>\u001b[0m in \u001b[0;36m<module>\u001b[0;34m\u001b[0m\n\u001b[1;32m      8\u001b[0m \u001b[0;34m\u001b[0m\u001b[0m\n\u001b[1;32m      9\u001b[0m \u001b[0msayi\u001b[0m \u001b[0;34m=\u001b[0m \u001b[0;36m431\u001b[0m\u001b[0;34m\u001b[0m\u001b[0;34m\u001b[0m\u001b[0m\n\u001b[0;32m---> 10\u001b[0;31m \u001b[0;32mfor\u001b[0m \u001b[0mi\u001b[0m \u001b[0;32min\u001b[0m \u001b[0msayi\u001b[0m\u001b[0;34m:\u001b[0m\u001b[0;34m\u001b[0m\u001b[0;34m\u001b[0m\u001b[0m\n\u001b[0m\u001b[1;32m     11\u001b[0m     \u001b[0mprint\u001b[0m\u001b[0;34m(\u001b[0m\u001b[0mi\u001b[0m\u001b[0;34m)\u001b[0m\u001b[0;34m\u001b[0m\u001b[0;34m\u001b[0m\u001b[0m\n",
      "\u001b[0;31mTypeError\u001b[0m: 'int' object is not iterable"
     ]
    }
   ],
   "source": [
    "liste = [2,5,1,50,0]\n",
    "for i in liste:\n",
    "    print(i)\n",
    "    \n",
    "metin = \"Python\"\n",
    "for i in metin:\n",
    "    print(i)\n",
    "    \n",
    "sayi = 431\n",
    "\n",
    "for i in sayi:\n",
    "    print(i)"
   ]
  },
  {
   "cell_type": "code",
   "execution_count": 14,
   "metadata": {},
   "outputs": [
    {
     "ename": "StopIteration",
     "evalue": "",
     "output_type": "error",
     "traceback": [
      "\u001b[0;31m---------------------------------------------------------------------------\u001b[0m",
      "\u001b[0;31mStopIteration\u001b[0m                             Traceback (most recent call last)",
      "\u001b[0;32m<ipython-input-14-bd2f642a8a39>\u001b[0m in \u001b[0;36m<module>\u001b[0;34m\u001b[0m\n\u001b[1;32m     10\u001b[0m \u001b[0mnext\u001b[0m\u001b[0;34m(\u001b[0m\u001b[0miterator\u001b[0m\u001b[0;34m)\u001b[0m\u001b[0;34m\u001b[0m\u001b[0;34m\u001b[0m\u001b[0m\n\u001b[1;32m     11\u001b[0m \u001b[0mnext\u001b[0m\u001b[0;34m(\u001b[0m\u001b[0miterator\u001b[0m\u001b[0;34m)\u001b[0m\u001b[0;34m\u001b[0m\u001b[0;34m\u001b[0m\u001b[0m\n\u001b[0;32m---> 12\u001b[0;31m \u001b[0mnext\u001b[0m\u001b[0;34m(\u001b[0m\u001b[0miterator\u001b[0m\u001b[0;34m)\u001b[0m\u001b[0;34m\u001b[0m\u001b[0;34m\u001b[0m\u001b[0m\n\u001b[0m",
      "\u001b[0;31mStopIteration\u001b[0m: "
     ]
    }
   ],
   "source": [
    "#dir(list)\n",
    "#dir(str)\n",
    "#dir(int)\n",
    "\n",
    "liste = [4,5,1,3,4]\n",
    "iterator = iter(liste)\n",
    "next(iterator)\n",
    "next(iterator)\n",
    "next(iterator)\n",
    "next(iterator)\n",
    "next(iterator)\n",
    "next(iterator)"
   ]
  },
  {
   "cell_type": "markdown",
   "metadata": {},
   "source": [
    "## 1.2 For, while ve iterator ilişkisi"
   ]
  },
  {
   "cell_type": "code",
   "execution_count": 26,
   "metadata": {},
   "outputs": [
    {
     "name": "stdout",
     "output_type": "stream",
     "text": [
      "343\n",
      "51\n",
      "2\n",
      "51\n",
      "2\n",
      "--------\n",
      "343\n",
      "51\n",
      "2\n",
      "51\n",
      "2\n"
     ]
    }
   ],
   "source": [
    "liste = [343,51,2,51,2]\n",
    "\n",
    "for i in liste:\n",
    "    print(i)\n",
    "    \n",
    "print(\"--------\")\n",
    "\n",
    "iterator1 = iter(liste)\n",
    "\n",
    "while True:\n",
    "    try:\n",
    "        i = next(iterator1)\n",
    "        print(i)\n",
    "    except StopIteration:\n",
    "        break"
   ]
  },
  {
   "cell_type": "markdown",
   "metadata": {},
   "source": [
    "## 1.3 Kendi Class'ımızda Kullanabilmek"
   ]
  },
  {
   "cell_type": "code",
   "execution_count": 34,
   "metadata": {},
   "outputs": [],
   "source": [
    "class rafdakiKitaplar():\n",
    "    def __init__(self,kitaplar,raf):\n",
    "        self.kitaplar = kitaplar\n",
    "        self.raf = raf\n",
    "        self.index = -1\n",
    "        \n",
    "    def __iter__(self):\n",
    "        return self\n",
    "    \n",
    "    def __next__(self):\n",
    "        self.index += 1\n",
    "        if (self.index < len(self.kitaplar)):\n",
    "            return self.kitaplar[self.index]\n",
    "        else:\n",
    "            self.index = -1\n",
    "            raise StopIteration"
   ]
  },
  {
   "cell_type": "code",
   "execution_count": 35,
   "metadata": {},
   "outputs": [],
   "source": [
    "kitaplar1 = rafdakiKitaplar([\"Simyacı\",\"Küçük Prens\",\"Saatleri Ayarlama Enstitüsü\",\"Mai ve Siyah\"],\"F43\")"
   ]
  },
  {
   "cell_type": "code",
   "execution_count": 36,
   "metadata": {},
   "outputs": [
    {
     "name": "stdout",
     "output_type": "stream",
     "text": [
      "Simyacı\n",
      "Küçük Prens\n",
      "Saatleri Ayarlama Enstitüsü\n",
      "Mai ve Siyah\n"
     ]
    }
   ],
   "source": [
    "for i in kitaplar1:\n",
    "    print(i)"
   ]
  },
  {
   "cell_type": "markdown",
   "metadata": {},
   "source": [
    "# 2. Generator"
   ]
  },
  {
   "cell_type": "markdown",
   "metadata": {},
   "source": [
    "## 2.1 Nedir?"
   ]
  },
  {
   "cell_type": "code",
   "execution_count": 49,
   "metadata": {},
   "outputs": [
    {
     "name": "stdout",
     "output_type": "stream",
     "text": [
      "[1, 8, 27, 64, 125, 216, 343, 512, 729]\n",
      "1\n",
      "8\n",
      "27\n",
      "64\n"
     ]
    }
   ],
   "source": [
    "#for i in range(3,10,2):\n",
    "#    print(i)\n",
    "\n",
    "#print(range(1,10))\n",
    "\n",
    "def küpAl():\n",
    "    cevap = []\n",
    "    for i in range(1,10):\n",
    "        cevap.append(i**3)\n",
    "    return cevap\n",
    "\n",
    "print(küpAl())\n",
    "\n",
    "def küpAl():\n",
    "    for i in range(1,100):\n",
    "        yield i ** 3\n",
    "        \n",
    "generator = küpAl()\n",
    "iterator = iter(generator)\n",
    "print(next(iterator))\n",
    "print(next(iterator))\n",
    "print(next(iterator))\n",
    "print(next(iterator))\n"
   ]
  },
  {
   "cell_type": "markdown",
   "metadata": {},
   "source": [
    "## 2.2 Generator'lerde List Comprehension"
   ]
  },
  {
   "cell_type": "code",
   "execution_count": 51,
   "metadata": {},
   "outputs": [
    {
     "name": "stdout",
     "output_type": "stream",
     "text": [
      "[1, 8, 27, 64, 125, 216, 343, 512, 729]\n"
     ]
    }
   ],
   "source": [
    "liste = [i**3 for i in range(1,10)]\n",
    "print(liste)\n"
   ]
  },
  {
   "cell_type": "code",
   "execution_count": 55,
   "metadata": {},
   "outputs": [
    {
     "name": "stdout",
     "output_type": "stream",
     "text": [
      "1\n",
      "8\n",
      "27\n",
      "64\n"
     ]
    }
   ],
   "source": [
    "generator1 = (i**3 for i in range(1,10))\n",
    "iterator1 = iter(generator1)\n",
    "print(next(iterator1))\n",
    "print(next(iterator1))\n",
    "print(next(iterator1))\n",
    "print(next(iterator1))"
   ]
  },
  {
   "cell_type": "markdown",
   "metadata": {},
   "source": [
    "# 3. Decorator"
   ]
  },
  {
   "cell_type": "markdown",
   "metadata": {},
   "source": [
    "## 3.1 İç İçe Fonksiyonlar"
   ]
  },
  {
   "cell_type": "code",
   "execution_count": 56,
   "metadata": {},
   "outputs": [
    {
     "name": "stdout",
     "output_type": "stream",
     "text": [
      "Birinci fonksiyon\n",
      "İkinci fonksiyon\n"
     ]
    }
   ],
   "source": [
    "def fonksiyon1():\n",
    "    def fonksiyon2():\n",
    "        print(\"İkinci fonksiyon\")\n",
    "    print(\"Birinci fonksiyon\")\n",
    "    fonksiyon2()\n",
    "    \n",
    "fonksiyon1()"
   ]
  },
  {
   "cell_type": "code",
   "execution_count": 67,
   "metadata": {},
   "outputs": [],
   "source": [
    "def fonksiyon(islem):\n",
    "    def topla(*args):\n",
    "        sonuc = 0\n",
    "        for i in args:\n",
    "            sonuc += i\n",
    "        return sonuc\n",
    "    def carp(*args):\n",
    "        sonuc = 1\n",
    "        for i in args:\n",
    "            sonuc *= i\n",
    "        return sonuc\n",
    "    \n",
    "    if islem == \"toplama\":\n",
    "        return topla\n",
    "    else:\n",
    "        return carp"
   ]
  },
  {
   "cell_type": "code",
   "execution_count": 68,
   "metadata": {},
   "outputs": [
    {
     "data": {
      "text/plain": [
       "14"
      ]
     },
     "execution_count": 68,
     "metadata": {},
     "output_type": "execute_result"
    }
   ],
   "source": [
    "ornek = fonksiyon(\"toplama\")\n",
    "ornek(2,3,4,1,4)"
   ]
  },
  {
   "cell_type": "markdown",
   "metadata": {},
   "source": [
    "## 3.2 Nasıl Oluşturulur?"
   ]
  },
  {
   "cell_type": "code",
   "execution_count": 69,
   "metadata": {},
   "outputs": [
    {
     "name": "stdout",
     "output_type": "stream",
     "text": [
      "fonksiyon çalışmadan önce\n",
      "fonksiyon çalışıyor\n",
      "fonksiyon çalıştıktan sonra\n"
     ]
    }
   ],
   "source": [
    "def decorator(fonk):\n",
    "    def wrapper():\n",
    "        print(\"fonksiyon çalışmadan önce\")\n",
    "        fonk()\n",
    "        print(\"fonksiyon çalıştıktan sonra\")\n",
    "    return wrapper\n",
    "\n",
    "def fonksiyon():\n",
    "    print(\"fonksiyon çalışıyor\")\n",
    "    \n",
    "fonksiyon2 = decorator(fonksiyon)\n",
    "fonksiyon2()"
   ]
  },
  {
   "cell_type": "code",
   "execution_count": 71,
   "metadata": {},
   "outputs": [
    {
     "name": "stdout",
     "output_type": "stream",
     "text": [
      "fonksiyon çalışmadan önce\n",
      "fonksiyon çalışıyor\n",
      "fonksiyon çalıştıktan sonra\n"
     ]
    }
   ],
   "source": [
    "def decorator2(fonk):\n",
    "    def wrapper():\n",
    "        print(\"fonksiyon çalışmadan önce\")\n",
    "        fonk()\n",
    "        print(\"fonksiyon çalıştıktan sonra\")\n",
    "    return wrapper\n",
    "\n",
    "@decorator2\n",
    "def fonksiyon():\n",
    "    print(\"fonksiyon çalışıyor\")\n",
    "    \n",
    "fonksiyon()"
   ]
  },
  {
   "cell_type": "code",
   "execution_count": 75,
   "metadata": {},
   "outputs": [
    {
     "name": "stdout",
     "output_type": "stream",
     "text": [
      "0\n",
      "1\n",
      "4\n",
      "9\n",
      "16\n",
      "25\n",
      "36\n",
      "49\n",
      "64\n",
      "81\n",
      "İşlem 0.0005440711975097656 saniye sürdü\n",
      "0\n",
      "1\n",
      "8\n",
      "27\n",
      "64\n",
      "125\n",
      "216\n",
      "343\n",
      "512\n",
      "729\n",
      "İşlem 0.0022928714752197266 saniye sürdü\n",
      "5\n",
      "İşlem 6.580352783203125e-05 saniye sürdü\n"
     ]
    }
   ],
   "source": [
    "import time\n",
    "\n",
    "def zamanHesapla(fonk):\n",
    "    def wrapper(*args,**kwargs):\n",
    "        baslangic = time.time()\n",
    "        fonk(*args,**kwargs)\n",
    "        bitis = time.time()\n",
    "        print( f\"İşlem {bitis-baslangic} saniye sürdü\")\n",
    "    return wrapper\n",
    "\n",
    "@zamanHesapla\n",
    "def kareleriAl(liste):\n",
    "    for i in liste:\n",
    "        print(i**2)\n",
    "        \n",
    "@zamanHesapla        \n",
    "def küpünüAl(liste):\n",
    "    for i in liste:\n",
    "        print(i**3)\n",
    "        \n",
    "@zamanHesapla        \n",
    "def topla(a,b):\n",
    "    print(a+b)\n",
    "    \n",
    "kareleriAl(range(0,10))\n",
    "küpünüAl(range(0,10))\n",
    "topla(3,2)"
   ]
  },
  {
   "cell_type": "markdown",
   "metadata": {},
   "source": [
    "# 4. Class Örneği"
   ]
  },
  {
   "cell_type": "code",
   "execution_count": 49,
   "metadata": {},
   "outputs": [],
   "source": [
    "import time\n",
    "\n",
    "class araba():\n",
    "    galeriAdı = \"Tekinler Galeri\"\n",
    "    aracSayısı = 0\n",
    "    aracID = 2152\n",
    "    def __init__(self,marka=\"Girilmedi\",model=\"Girilmedi\",yıl=\"Girilmedi\",renk=\"Girilmedi\"):\n",
    "        self.marka = marka\n",
    "        self.model = model\n",
    "        self.yıl = yıl\n",
    "        self.renk = renk\n",
    "        araba.aracSayısı += 1\n",
    "        araba.aracID += 5\n",
    "        self.aracID = araba.aracID\n",
    "        self.index = -1\n",
    "        \n",
    "    def zamanHesapla(fonk):\n",
    "        def wrapper(*args,**kwargs):\n",
    "            baslangic = time.time()\n",
    "            fonk(*args,*kwargs)\n",
    "            bitis = time.time()\n",
    "            print(\"Bu işlem toplam {} saniye sürdü\".format(bitis-baslangic))\n",
    "        return wrapper\n",
    "     \n",
    "    @zamanHesapla    \n",
    "    def renkDegistir(self,yeniRenk):\n",
    "        self.renk = yeniRenk\n",
    "        \n",
    "    def __str__(self):\n",
    "        return f\"Arabanın markası: {self.marka}\\nArabanın modeli: {self.model}\\nArabanın yılı: {self.yıl}\\nArabanın rengi: {self.renk}\"\n",
    "    \n",
    "    def __len__(self):\n",
    "        return self.yıl\n",
    "    \n",
    "    @zamanHesapla \n",
    "    def __add__(self,other):\n",
    "        return self.yıl + other.yıl\n",
    "    \n",
    "    def __iter__(self):\n",
    "        return self\n",
    "    \n",
    "    def __next__(self):\n",
    "        self.index += 1\n",
    "        if self.index < len(self.marka):\n",
    "            return self.marka[self.index]\n",
    "        else:\n",
    "            self.index = -1\n",
    "            raise StopIteration\n",
    "            \n",
    "    def ornekGenerator(self):\n",
    "        for i in range(1,self.yıl):\n",
    "            yield 2*i\n",
    "            \n",
    "    @classmethod\n",
    "    def aracSayısınıSoyle(cls):\n",
    "        return cls.aracSayısı\n",
    "    \n",
    "    @staticmethod\n",
    "    def galeriAdınıSoyle():\n",
    "        return araba.galeriAdı\n",
    "    "
   ]
  },
  {
   "cell_type": "code",
   "execution_count": 50,
   "metadata": {},
   "outputs": [
    {
     "name": "stdout",
     "output_type": "stream",
     "text": [
      "Bu işlem toplam 4.76837158203125e-06 saniye sürdü\n",
      "Bu işlem toplam 3.0994415283203125e-06 saniye sürdü\n",
      "R\n",
      "e\n",
      "n\n",
      "a\n",
      "u\n",
      "l\n",
      "t\n",
      "-------\n",
      "F\n",
      "i\n",
      "a\n",
      "t\n"
     ]
    }
   ],
   "source": [
    "arac1 = araba(\"Renault\",\"Megane\",2015,\"Beyaz\")\n",
    "arac2 = araba(\"Fiat\",\"Linea\",2017,\"Kırmızı\")\n",
    "\n",
    "#print(arac1)\n",
    "#len(arac1)\n",
    "araba.galeriAdı\n",
    "araba.aracSayısı\n",
    "arac1.aracID\n",
    "arac2.aracID\n",
    "arac1.renkDegistir(\"Siyah\")\n",
    "#print(arac1)\n",
    "\n",
    "arac1 + arac2\n",
    "\n",
    "\n",
    "for i in arac1:\n",
    "    print(i)\n",
    "print(\"-------\")\n",
    "    \n",
    "iterator = iter(arac2)    \n",
    "while True:\n",
    "    try:\n",
    "        i = next(iterator)\n",
    "        print(i)\n",
    "    except StopIteration:\n",
    "        break"
   ]
  },
  {
   "cell_type": "code",
   "execution_count": 45,
   "metadata": {},
   "outputs": [
    {
     "data": {
      "text/plain": [
       "10"
      ]
     },
     "execution_count": 45,
     "metadata": {},
     "output_type": "execute_result"
    }
   ],
   "source": [
    "araba.aracSayısınıSoyle()\n",
    "araba.galeriAdınıSoyle()\n",
    "\n",
    "generator = arac1.ornekGenerator()\n",
    "iterator = iter(generator)\n",
    "next(iterator)\n",
    "next(iterator)\n",
    "next(iterator)\n",
    "next(iterator)\n",
    "next(iterator)"
   ]
  },
  {
   "cell_type": "code",
   "execution_count": 51,
   "metadata": {},
   "outputs": [
    {
     "name": "stdout",
     "output_type": "stream",
     "text": [
      "Bu işlem toplam 3.0994415283203125e-06 saniye sürdü\n"
     ]
    }
   ],
   "source": [
    "arac1.renkDegistir(\"Siyah\")"
   ]
  },
  {
   "cell_type": "code",
   "execution_count": 54,
   "metadata": {},
   "outputs": [
    {
     "name": "stdout",
     "output_type": "stream",
     "text": [
      "Bu işlem toplam 2.86102294921875e-06 saniye sürdü\n"
     ]
    }
   ],
   "source": [
    "arac1 + arac2"
   ]
  },
  {
   "cell_type": "code",
   "execution_count": null,
   "metadata": {},
   "outputs": [],
   "source": []
  }
 ],
 "metadata": {
  "kernelspec": {
   "display_name": "Python 3 (ipykernel)",
   "language": "python",
   "name": "python3"
  },
  "language_info": {
   "codemirror_mode": {
    "name": "ipython",
    "version": 3
   },
   "file_extension": ".py",
   "mimetype": "text/x-python",
   "name": "python",
   "nbconvert_exporter": "python",
   "pygments_lexer": "ipython3",
   "version": "3.9.7"
  }
 },
 "nbformat": 4,
 "nbformat_minor": 4
}
