{
 "cells": [
  {
   "cell_type": "code",
   "execution_count": 1,
   "metadata": {},
   "outputs": [
    {
     "name": "stdout",
     "output_type": "stream",
     "text": [
      "pygame 2.1.0 (SDL 2.0.16, Python 3.8.5)\n",
      "Hello from the pygame community. https://www.pygame.org/contribute.html\n"
     ]
    }
   ],
   "source": [
    "import pygame\n",
    "\n",
    "pygame.init()\n",
    "WINDOW_WIDTH = 600\n",
    "WINDOW_HEIGHT = 300\n",
    "display_surface = pygame.display.set_mode((WINDOW_WIDTH, WINDOW_HEIGHT))\n",
    "pygame.display.set_caption(\"Blitting Images!\")\n",
    "\n",
    "#Create images...returns a Surface object with the image drawon on it.\n",
    "#We can then get the rect of the surface and use the rect to position the image.\n",
    "dragon_left_image = pygame.image.load(\"input/dragon_left.png\")\n",
    "dragon_left_rect = dragon_left_image.get_rect()\n",
    "dragon_left_rect.topleft = (0,0)\n",
    "\n",
    "dragon_right_image = pygame.image.load(\"input/dragon_right.png\")\n",
    "dragon_right_rect = dragon_right_image.get_rect()\n",
    "dragon_right_rect.topright = (WINDOW_WIDTH, 0)\n",
    "\n",
    "#The main game loop\n",
    "running = True\n",
    "while running:\n",
    "    for event in pygame.event.get():\n",
    "        if event.type == pygame.QUIT:\n",
    "            running = False\n",
    "\n",
    "    #Blit (copy) a surface object at the given coordinates to our display\n",
    "    display_surface.blit(dragon_left_image, dragon_left_rect)\n",
    "    display_surface.blit(dragon_right_image, dragon_right_rect)\n",
    "\n",
    "    pygame.draw.line(display_surface, (255, 255, 255), (0, 75), (WINDOW_WIDTH, 75), 4)\n",
    "\n",
    "    #Update the display\n",
    "    pygame.display.update()\n",
    "\n",
    "#End the game\n",
    "pygame.quit()"
   ]
  },
  {
   "cell_type": "code",
   "execution_count": null,
   "metadata": {},
   "outputs": [],
   "source": []
  }
 ],
 "metadata": {
  "kernelspec": {
   "display_name": "Python 3",
   "language": "python",
   "name": "python3"
  },
  "language_info": {
   "codemirror_mode": {
    "name": "ipython",
    "version": 3
   },
   "file_extension": ".py",
   "mimetype": "text/x-python",
   "name": "python",
   "nbconvert_exporter": "python",
   "pygments_lexer": "ipython3",
   "version": "3.8.5"
  }
 },
 "nbformat": 4,
 "nbformat_minor": 4
}
