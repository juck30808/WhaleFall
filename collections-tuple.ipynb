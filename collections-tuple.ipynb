{
 "cells": [
  {
   "cell_type": "code",
   "execution_count": 1,
   "id": "f00f09a9",
   "metadata": {},
   "outputs": [
    {
     "name": "stdout",
     "output_type": "stream",
     "text": [
      "Marcelo 31\n"
     ]
    }
   ],
   "source": [
    "# Example of returning a tuple-like object\n",
    "import collections\n",
    "player = collections.namedtuple(\"player\", [\"name\", \"age\", \"country\"])\n",
    "\n",
    "# objects of newtuple\n",
    "p1 = player(\"Fred\", 28, \"Brazil\")\n",
    "p2 = player(\"Marcelo\", 31, \"Brazil\")\n",
    "\n",
    "# print(p1.age)\n",
    "print(p2.name, p2.age)"
   ]
  },
  {
   "cell_type": "code",
   "execution_count": 2,
   "id": "7700dca0",
   "metadata": {},
   "outputs": [
    {
     "name": "stdout",
     "output_type": "stream",
     "text": [
      "X: 70\n",
      "Y: 75\n",
      "E: 77\n",
      "M: 79\n"
     ]
    }
   ],
   "source": [
    "# Example to remember the order of the keys\n",
    "import collections\n",
    "\n",
    "firstD = collections.OrderedDict()\n",
    "firstD[\"X:\"] = 70\n",
    "firstD[\"Y:\"] = 75\n",
    "firstD[\"E:\"] = 77\n",
    "firstD[\"M:\"] = 79\n",
    "\n",
    "for k,v in firstD.items():\n",
    "    print(k,v)\n"
   ]
  },
  {
   "cell_type": "code",
   "execution_count": null,
   "id": "5bb9f311",
   "metadata": {},
   "outputs": [],
   "source": []
  }
 ],
 "metadata": {
  "kernelspec": {
   "display_name": "Python 3 (ipykernel)",
   "language": "python",
   "name": "python3"
  },
  "language_info": {
   "codemirror_mode": {
    "name": "ipython",
    "version": 3
   },
   "file_extension": ".py",
   "mimetype": "text/x-python",
   "name": "python",
   "nbconvert_exporter": "python",
   "pygments_lexer": "ipython3",
   "version": "3.9.7"
  }
 },
 "nbformat": 4,
 "nbformat_minor": 5
}
