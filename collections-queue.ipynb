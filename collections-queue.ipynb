{
 "cells": [
  {
   "cell_type": "code",
   "execution_count": 1,
   "metadata": {},
   "outputs": [
    {
     "name": "stdout",
     "output_type": "stream",
     "text": [
      "deque(['python', 'java', 'php'])\n",
      "deque(['python', 'java', 'php', 'ruby'])\n",
      "python\n",
      "deque(['java', 'php', 'ruby'])\n"
     ]
    }
   ],
   "source": [
    "from collections import deque\n",
    "queue=deque([\"python\",\"java\",\"php\"])\n",
    "print(queue)\n",
    "queue.append(\"ruby\")\n",
    "print(queue)\n",
    "print(queue.popleft())\n",
    "print(queue)\n"
   ]
  },
  {
   "cell_type": "code",
   "execution_count": 2,
   "metadata": {},
   "outputs": [
    {
     "name": "stdout",
     "output_type": "stream",
     "text": [
      "['python', 'php', 'java', 'ruby', 'C++']\n",
      "C++\n",
      "['python', 'php', 'java', 'ruby']\n",
      "ruby\n",
      "['python', 'php', 'java']\n"
     ]
    }
   ],
   "source": [
    "stack=[\"python\",\"php\",\"java\"]\n",
    "stack.append(\"ruby\")\n",
    "stack.append(\"C++\")\n",
    "print(stack)\n",
    "print(stack.pop())\n",
    "print(stack)\n",
    "print(stack.pop())\n",
    "print(stack)"
   ]
  },
  {
   "cell_type": "code",
   "execution_count": null,
   "metadata": {},
   "outputs": [],
   "source": []
  }
 ],
 "metadata": {
  "kernelspec": {
   "display_name": "Python 3",
   "language": "python",
   "name": "python3"
  },
  "language_info": {
   "codemirror_mode": {
    "name": "ipython",
    "version": 3
   },
   "file_extension": ".py",
   "mimetype": "text/x-python",
   "name": "python",
   "nbconvert_exporter": "python",
   "pygments_lexer": "ipython3",
   "version": "3.8.5"
  }
 },
 "nbformat": 4,
 "nbformat_minor": 4
}
