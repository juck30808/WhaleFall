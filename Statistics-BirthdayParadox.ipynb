{
 "cells": [
  {
   "cell_type": "markdown",
   "metadata": {},
   "source": [
    "# The birthday problem\n",
    "\n",
    "How many people do you need to get in the same room before it becomes more likely than not that two people in the room share a birthday? (Not the same year, just the same month/day).\n",
    "\n",
    "The answer is pretty counterintuitive so my friend Shawn and I put this quick Monte Carlo together to solve the problem. Basically, it takes far fewer people in a room to find a matching birthday than you would imagine: with **only 23** people in a room you are more likely than not to find that two people have the same birthday.\n",
    "\n",
    "生日悖論是指，一個房間要多少人，兩個人的生日相同的機率會大於50%? 答案是23人。這意味著在一個標準小學班級（30人）中，存在兩人生日相同的可能性更高。超過 60 這種機率會大於 99%。大多數人會認為，23人中有2人生日相同的機率應該遠遠小於50%。\n",
    "\n",
    "### How is this possible?\n",
    "When there are 23 people in the room you actually can make **253** comparisons.\n",
    "\n",
    "當房間裡有 N 個人時，您實際上可以進行 N*(N-1) 除 2 次的次方比較 (253)\n",
    "\n",
    "$$ comparisons = \\dfrac{23*22}{2}$$ \n",
    "\n",
    "So the probability that with 23 people in the room you'll have a match is\n",
    "\n",
    "所以機率上就是 364/365 的 253次方\n",
    "\n",
    "$$ probability = \\Bigg(\\dfrac{364}{365}\\Bigg)^{253}$$ \n"
   ]
  },
  {
   "cell_type": "code",
   "execution_count": 36,
   "metadata": {},
   "outputs": [
    {
     "name": "stdout",
     "output_type": "stream",
     "text": [
      "How many:50\n",
      "comparison: 1225\n",
      "Diff prob= 0.03470851324855738\n",
      "Same prob= 0.9652914867514426\n"
     ]
    }
   ],
   "source": [
    "import math   # 导入 math 模块\n",
    "\n",
    "a = int(input(\"How many:\"))\n",
    "\n",
    "pw = int(a*(a-1)/2)\n",
    "print(\"comparison:\",pw)\n",
    "\n",
    "print(\"Diff prob=\",math.pow(364/365, pw))\n",
    "print(\"Same prob=\", 1 - math.pow(364/365, pw))\n"
   ]
  },
  {
   "cell_type": "markdown",
   "metadata": {},
   "source": [
    "which is about 50%. With 23 people in the room you'll have a match 53% of the time. Go figure. The best way to think of this intuitively is that when you walk in a room you might compare your birthday to the other 23 people; you need to also consider the comparisons that every other person will make against the rest of the room. That's a lot of comparisons. \n",
    "\n",
    "您可能會將您的生日與其他 23 個人進行比較； 您還需要考慮其他人與房間其他人進行的比較。 這是很多比較。\n",
    "\n",
    "### What's a Monte Carlo simulation?\n",
    "\n",
    "let's Monte Carlo. we will create a \"room\" full of `n` people and see whether that room has a matching birthday. In this case, we can build that same room 10,000 times (really we just need some arbitrarily large number). As we'll see, if we create a room with 23 people having random birthdays 10,000 times, in about 5,000 of those rooms do we find a match.\n",
    "\n",
    "Monte Carlo 蒙地卡羅模擬法 : 是指使用亂數來解決計算問題的方法。我們創建一個充滿 n 人的房間，如果我們創建一個房間，其中 23 個人的生日是隨機的 10,000 次，那麼我們會在其中大約 5,000 個房間中找到匹配項 (50%)。"
   ]
  },
  {
   "cell_type": "code",
   "execution_count": 22,
   "metadata": {},
   "outputs": [],
   "source": [
    "from datetime import datetime\n",
    "import random\n",
    "import numpy as np\n",
    "import pandas as pd\n",
    "from matplotlib import pyplot as plt\n",
    "plt.style.use('ggplot')"
   ]
  },
  {
   "cell_type": "markdown",
   "metadata": {},
   "source": [
    "Generate a birthday (an integer between 1 and 365)"
   ]
  },
  {
   "cell_type": "code",
   "execution_count": 24,
   "metadata": {},
   "outputs": [],
   "source": [
    "def gen_bday():\n",
    "    bday = random.randint(1,365)\n",
    "    return bday"
   ]
  },
  {
   "cell_type": "markdown",
   "metadata": {},
   "source": [
    "For each room size from 2 person to 50 people (call this `n`), try \"building\" the room with that number of people 10,000 times. For each of the 10,000 rooms built for a given `n` how many of those rooms have at least 2 people with the same birthday?"
   ]
  },
  {
   "cell_type": "code",
   "execution_count": 26,
   "metadata": {},
   "outputs": [],
   "source": [
    "prob_dict = {}\n",
    "\n",
    "# For each room size from 2 person to 50 people\n",
    "for n in range(2, 50): \n",
    "    num_pers = n\n",
    "    success_count = 0\n",
    "    \n",
    "    # run this 10000 per number of people in the room\n",
    "    for e in range(0,10000):\n",
    "        people = []\n",
    "        for e in range(num_pers):\n",
    "            people.append(gen_bday())\n",
    "        \n",
    "        # there was a match then the set should be smaller than this `people` list\n",
    "        if len(people) > len(set(people)):\n",
    "            success_count += 1\n",
    "    prob_dict[n] = success_count/float(10000)"
   ]
  },
  {
   "cell_type": "code",
   "execution_count": 27,
   "metadata": {},
   "outputs": [
    {
     "data": {
      "text/plain": [
       "{2: 0.0033,\n",
       " 3: 0.0073,\n",
       " 4: 0.0166,\n",
       " 5: 0.0279,\n",
       " 6: 0.0397,\n",
       " 7: 0.0581,\n",
       " 8: 0.072,\n",
       " 9: 0.0894,\n",
       " 10: 0.1119,\n",
       " 11: 0.1403,\n",
       " 12: 0.165,\n",
       " 13: 0.1893,\n",
       " 14: 0.23,\n",
       " 15: 0.2465,\n",
       " 16: 0.2845,\n",
       " 17: 0.319,\n",
       " 18: 0.344,\n",
       " 19: 0.3734,\n",
       " 20: 0.4124,\n",
       " 21: 0.4486,\n",
       " 22: 0.4738,\n",
       " 23: 0.5094,\n",
       " 24: 0.5332,\n",
       " 25: 0.5692,\n",
       " 26: 0.6035,\n",
       " 27: 0.6253,\n",
       " 28: 0.6514,\n",
       " 29: 0.6894,\n",
       " 30: 0.7116,\n",
       " 31: 0.7353,\n",
       " 32: 0.7537,\n",
       " 33: 0.7644,\n",
       " 34: 0.7976,\n",
       " 35: 0.8141,\n",
       " 36: 0.8371,\n",
       " 37: 0.8576,\n",
       " 38: 0.8649,\n",
       " 39: 0.8738,\n",
       " 40: 0.8888,\n",
       " 41: 0.9045,\n",
       " 42: 0.9137,\n",
       " 43: 0.9206,\n",
       " 44: 0.9355,\n",
       " 45: 0.9439,\n",
       " 46: 0.951,\n",
       " 47: 0.9568,\n",
       " 48: 0.9646,\n",
       " 49: 0.9658}"
      ]
     },
     "execution_count": 27,
     "metadata": {},
     "output_type": "execute_result"
    }
   ],
   "source": [
    "prob_dict"
   ]
  },
  {
   "cell_type": "markdown",
   "metadata": {},
   "source": [
    "Let's plot the results and see how this actually looks"
   ]
  },
  {
   "cell_type": "code",
   "execution_count": 28,
   "metadata": {},
   "outputs": [],
   "source": [
    "df = pd.Series(prob_dict)"
   ]
  },
  {
   "cell_type": "code",
   "execution_count": 31,
   "metadata": {},
   "outputs": [],
   "source": [
    "#%pylab inline"
   ]
  },
  {
   "cell_type": "code",
   "execution_count": 30,
   "metadata": {},
   "outputs": [
    {
     "data": {
      "text/plain": [
       "Text(0, 0.5, 'Probability of match')"
      ]
     },
     "execution_count": 30,
     "metadata": {},
     "output_type": "execute_result"
    },
    {
     "data": {
      "image/png": "[encoded data removed]",
      "text/plain": [
       "<Figure size 864x432 with 1 Axes>"
      ]
     },
     "metadata": {
      "needs_background": "light"
     },
     "output_type": "display_data"
    }
   ],
   "source": [
    "ax = df.plot(title='Probability that at least two people share a birthday', figsize=(12,6))\n",
    "ax.set_xlabel(\"Number of People\")\n",
    "ax.set_ylabel(\"Probability of match\")"
   ]
  }
 ],
 "metadata": {
  "kernelspec": {
   "display_name": "Python 3 (ipykernel)",
   "language": "python",
   "name": "python3"
  },
  "language_info": {
   "codemirror_mode": {
    "name": "ipython",
    "version": 3
   },
   "file_extension": ".py",
   "mimetype": "text/x-python",
   "name": "python",
   "nbconvert_exporter": "python",
   "pygments_lexer": "ipython3",
   "version": "3.9.7"
  }
 },
 "nbformat": 4,
 "nbformat_minor": 1
}
