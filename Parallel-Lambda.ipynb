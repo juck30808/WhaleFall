{
 "cells": [
  {
   "cell_type": "markdown",
   "metadata": {},
   "source": [
    "## Lambda Functions \n",
    "匿名函數 (lambda): 您已經看到函數式編程如何讓您編寫可用於映射和減少數據的函數。 但是到目前為止，這並沒有讓您免於鍵入大量代碼。這是因為您必須聲明要使用的每個函數，即您必須使用以下語法："
   ]
  },
  {
   "cell_type": "code",
   "execution_count": 2,
   "metadata": {},
   "outputs": [],
   "source": [
    "def add(x, y):\n",
    "    return x + y"
   ]
  },
  {
   "cell_type": "code",
   "execution_count": 5,
   "metadata": {},
   "outputs": [
    {
     "data": {
      "text/plain": [
       "[7, 9, 11, 13, 15]"
      ]
     },
     "execution_count": 5,
     "metadata": {},
     "output_type": "execute_result"
    }
   ],
   "source": [
    "a = [1, 2, 3, 4, 5]\n",
    "b = [6, 7, 8, 9, 10]\n",
    "total = map(lambda x, y: x + y, a, b)\n",
    "list(total)"
   ]
  },
  {
   "cell_type": "code",
   "execution_count": 6,
   "metadata": {},
   "outputs": [
    {
     "data": {
      "text/plain": [
       "120"
      ]
     },
     "execution_count": 6,
     "metadata": {},
     "output_type": "execute_result"
    }
   ],
   "source": [
    "from functools import reduce\n",
    "\n",
    "a = [1, 2, 3, 4, 5]\n",
    "\n",
    "reduce(lambda x, y: x * y, a)"
   ]
  },
  {
   "cell_type": "code",
   "execution_count": 7,
   "metadata": {},
   "outputs": [],
   "source": [
    "# 除了 def 版本將此函數對象分配給名為 name 的變量，\n",
    "# 而 lambda 版本創建函數對象而不將其分配給變量。\n",
    "\n",
    "# 為了理解我們上面的例子，它需要兩個參數，x 和 y：\n",
    "\n",
    "#   ↓  ↓\n",
    "# λ x, y: x + y\n",
    "# 並返回表達式 x + y 的結果。\n",
    "\n",
    "# 每當想將簡單的單行表達式作為參數傳遞時都可以使用 lambda"
   ]
  },
  {
   "cell_type": "code",
   "execution_count": 10,
   "metadata": {},
   "outputs": [
    {
     "data": {
      "text/plain": [
       "120"
      ]
     },
     "execution_count": 10,
     "metadata": {},
     "output_type": "execute_result"
    }
   ],
   "source": [
    "from functools import reduce\n",
    "a = [1, 2, 3, 4, 5]\n",
    "reduce(lambda x, y: x * y, a)"
   ]
  },
  {
   "cell_type": "code",
   "execution_count": 11,
   "metadata": {},
   "outputs": [
    {
     "data": {
      "text/plain": [
       "[1, 4, 9, 16, 25]"
      ]
     },
     "execution_count": 11,
     "metadata": {},
     "output_type": "execute_result"
    }
   ],
   "source": [
    "squares = map(lambda x: x * x, a)\n",
    "list(squares)"
   ]
  },
  {
   "cell_type": "code",
   "execution_count": null,
   "metadata": {},
   "outputs": [],
   "source": [
    "A = [1,2,3,4,5]\n",
    "list(map(lambda x: x**2, A))"
   ]
  },
  {
   "cell_type": "code",
   "execution_count": null,
   "metadata": {},
   "outputs": [],
   "source": [
    "B = [\"Apple\", \"Book\"]\n",
    "list(map(lambda x: x.lower(), B))"
   ]
  },
  {
   "cell_type": "code",
   "execution_count": null,
   "metadata": {},
   "outputs": [],
   "source": [
    "import pandas as pd\n",
    "df = pd.DataFrame({\"Name\": [\"Alice\", \"Bob\", \"Bob\", \"Bob\", \"Carol\"],\n",
    "                   \"Score\": [100, 95, 97, 97, 95]})\n",
    "df[\"Score\"].map(lambda x: \"Perfect\" if x == 100 else \"Good\")"
   ]
  },
  {
   "cell_type": "code",
   "execution_count": 1,
   "metadata": {},
   "outputs": [
    {
     "name": "stdout",
     "output_type": "stream",
     "text": [
      "Resultado sumar con función lambda: 10\n"
     ]
    }
   ],
   "source": [
    "# Funciones lambda\n",
    "# Son funciones anónimas, y son pequeñas (una línea de código)\n",
    "\n",
    "# No es posible asignar una función a una variable\n",
    "# mi_funcion = def sumar(a, b): return a + b\n",
    "\n",
    "# Con una función lambda(anónima, sin nombre, y una sola línea de código)\n",
    "# No se necesita agregar paréntesis para los parámetros\n",
    "# No se necesita usar la palabra return, pero sí debe regresar una expresión\n",
    "mi_funcion_lambda = lambda a, b: a + b\n",
    "\n",
    "resultado = mi_funcion_lambda(4,6)\n",
    "print(f'Resultado sumar con función lambda: {resultado}')\n",
    "\n",
    "# Función lambda que no recibe argumentos (debemos regresar una expresión válida)\n",
    "mi_funcion_lambda = lambda: 'Función sin argumentos'\n",
    "print(f'Llamar función lambda sin argumentos: {mi_funcion_lambda()}')\n",
    "\n",
    "# Función lambda con parámetros por default\n",
    "mi_funcion_lambda = lambda a=2, b=3: a + b\n",
    "print(f'Resultado argumentos por default: {mi_funcion_lambda()}')\n",
    "\n",
    "# Función lambda con argumentos variables *args y **kwargs\n",
    "mi_funcion_lambda = lambda *args, **kwargs: len(args) + len(kwargs)\n",
    "print(f'Resultado argumentos variables: {mi_funcion_lambda(1,2,3, a=5,b=6)}')\n",
    "\n",
    "# Funciones lambda con argumentos, argumentos variables y valores por default\n",
    "mi_funcion_lambda = lambda a, b, c=3, *args, **kwargs: a+b+c+len(args)+len(kwargs)\n",
    "print(f'Resultado función lambda: {mi_funcion_lambda(1,2,4, 5,6,7,e=5,f=7)}')"
   ]
  },
  {
   "cell_type": "markdown",
   "metadata": {},
   "source": [
    "## Binding Arguments\n",
    "除了使用 lambda 創建函數作為參數外，您還可以使用 lambda 更快地創建簡單函數："
   ]
  },
  {
   "cell_type": "code",
   "execution_count": 13,
   "metadata": {},
   "outputs": [
    {
     "data": {
      "text/plain": [
       "25"
      ]
     },
     "execution_count": 13,
     "metadata": {},
     "output_type": "execute_result"
    }
   ],
   "source": [
    "square = lambda x: x * x\n",
    "square(5)"
   ]
  },
  {
   "cell_type": "code",
   "execution_count": 15,
   "metadata": {},
   "outputs": [
    {
     "data": {
      "text/plain": [
       "12"
      ]
     },
     "execution_count": 15,
     "metadata": {},
     "output_type": "execute_result"
    }
   ],
   "source": [
    "def add(x, y):\n",
    "    \"\"\"Return the sum of the two arguments\"\"\"\n",
    "    return x + y\n",
    "\n",
    "plus_five = lambda x: add(x, 5)\n",
    "plus_five(7)"
   ]
  },
  {
   "cell_type": "code",
   "execution_count": 16,
   "metadata": {},
   "outputs": [
    {
     "data": {
      "text/plain": [
       "12"
      ]
     },
     "execution_count": 16,
     "metadata": {},
     "output_type": "execute_result"
    }
   ],
   "source": [
    "def plus_five(x):\n",
    "    return add(x, 5)\n",
    "\n",
    "plus_five(7)"
   ]
  },
  {
   "cell_type": "code",
   "execution_count": 17,
   "metadata": {
    "scrolled": true
   },
   "outputs": [
    {
     "data": {
      "text/plain": [
       "[2, 4, 6, 8, 10]"
      ]
     },
     "execution_count": 17,
     "metadata": {},
     "output_type": "execute_result"
    }
   ],
   "source": [
    "def multiply(x, y):\n",
    "    \"\"\"Return the product of the two arguments\"\"\"\n",
    "    return x * y\n",
    "\n",
    "a = [1, 2, 3, 4, 5]\n",
    "double_a = map(lambda x: multiply(x, 2), a)\n",
    "list(double_a)"
   ]
  },
  {
   "cell_type": "markdown",
   "metadata": {},
   "source": [
    "## Addition"
   ]
  },
  {
   "cell_type": "code",
   "execution_count": 1,
   "metadata": {},
   "outputs": [],
   "source": [
    "#Lambda\n",
    "\n",
    "def xyz(a,b,c):\n",
    "    return a*a+2*b/c\n",
    "\n",
    "print(xyz(3,4,8))"
   ]
  },
  {
   "cell_type": "code",
   "execution_count": 9,
   "metadata": {
    "scrolled": true
   },
   "outputs": [
    {
     "name": "stdout",
     "output_type": "stream",
     "text": [
      "10.0\n"
     ]
    }
   ],
   "source": [
    "xyz = lambda a,b,c : a*a+2*b/c\n",
    "print(xyz(3,4,8))"
   ]
  },
  {
   "cell_type": "code",
   "execution_count": 1,
   "metadata": {
    "scrolled": true
   },
   "outputs": [
    {
     "name": "stdout",
     "output_type": "stream",
     "text": [
      "4\n"
     ]
    }
   ],
   "source": [
    "z = lambda a : a + 2\n",
    "print(z(2))"
   ]
  },
  {
   "cell_type": "code",
   "execution_count": 2,
   "metadata": {},
   "outputs": [
    {
     "name": "stdout",
     "output_type": "stream",
     "text": [
      "6\n"
     ]
    }
   ],
   "source": [
    "y = lambda a,b : a * b\n",
    "print(y(2,3))"
   ]
  },
  {
   "cell_type": "code",
   "execution_count": 3,
   "metadata": {},
   "outputs": [
    {
     "name": "stdout",
     "output_type": "stream",
     "text": [
      "1\n"
     ]
    }
   ],
   "source": [
    "x = lambda a,b,c : a-b-c\n",
    "print(x(5,2,2))"
   ]
  },
  {
   "cell_type": "code",
   "execution_count": 4,
   "metadata": {},
   "outputs": [
    {
     "name": "stdout",
     "output_type": "stream",
     "text": [
      "1\n"
     ]
    }
   ],
   "source": [
    "n = lambda a,b : a % b\n",
    "print(n(5,2))"
   ]
  },
  {
   "cell_type": "code",
   "execution_count": 9,
   "metadata": {},
   "outputs": [
    {
     "name": "stdout",
     "output_type": "stream",
     "text": [
      "25\n"
     ]
    }
   ],
   "source": [
    "x= lambda a: a*a\n",
    "print(x(5))"
   ]
  },
  {
   "cell_type": "code",
   "execution_count": 10,
   "metadata": {},
   "outputs": [
    {
     "data": {
      "text/plain": [
       "40"
      ]
     },
     "execution_count": 10,
     "metadata": {},
     "output_type": "execute_result"
    }
   ],
   "source": [
    "y= lambda a,b: a+b\n",
    "y(10,30)"
   ]
  },
  {
   "cell_type": "markdown",
   "metadata": {},
   "source": [
    "## Filter"
   ]
  },
  {
   "cell_type": "code",
   "execution_count": 7,
   "metadata": {},
   "outputs": [
    {
     "name": "stdout",
     "output_type": "stream",
     "text": [
      "[4, 8, 4, 2]\n"
     ]
    }
   ],
   "source": [
    "#Filter Functions\n",
    "\n",
    "\n",
    "l = [4,7,8,5,3,4,1,2]\n",
    "\n",
    "def xyz(n):\n",
    "    if n%2 == 0:\n",
    "        return True\n",
    "    else:\n",
    "        return False\n",
    "result = filter(xyz,l)\n",
    "print(list(result))"
   ]
  },
  {
   "cell_type": "code",
   "execution_count": 2,
   "metadata": {},
   "outputs": [
    {
     "name": "stdout",
     "output_type": "stream",
     "text": [
      "[4, 6, 8, 12]\n"
     ]
    }
   ],
   "source": [
    "my_list = [1,5,4,6,8,11,3,12]\n",
    "new_list = list(filter(lambda x:(x%2==0), my_list))\n",
    "print(new_list)"
   ]
  },
  {
   "cell_type": "code",
   "execution_count": 3,
   "metadata": {},
   "outputs": [],
   "source": [
    "score =[76,23,54,12,65,43]\n",
    "def score_check(s):\n",
    "    if s>50:\n",
    "        return True\n",
    "    else:\n",
    "        return False"
   ]
  },
  {
   "cell_type": "code",
   "execution_count": 4,
   "metadata": {},
   "outputs": [
    {
     "name": "stdout",
     "output_type": "stream",
     "text": [
      "76\n",
      "54\n",
      "65\n"
     ]
    }
   ],
   "source": [
    "students_passed=filter(score_check, score)\n",
    "for i in students_passed:\n",
    "    print(i)\n"
   ]
  },
  {
   "cell_type": "markdown",
   "metadata": {},
   "source": [
    "## Zip"
   ]
  },
  {
   "cell_type": "code",
   "execution_count": 7,
   "metadata": {},
   "outputs": [
    {
     "data": {
      "text/plain": [
       "[('Rohan', 67), ('Amita', 34), ('Shushant', 78), ('Pawan', 85), ('Kiran', 65)]"
      ]
     },
     "execution_count": 7,
     "metadata": {},
     "output_type": "execute_result"
    }
   ],
   "source": [
    "student_names = ['Rohan', 'Amita', 'Shushant', 'Pawan', 'Kiran']\n",
    "student_marks = [67,34,78,85,65]\n",
    "zipped_list = zip(student_names, student_marks)\n",
    "zipped_list = list(zipped_list)\n",
    "zipped_list"
   ]
  },
  {
   "cell_type": "code",
   "execution_count": 8,
   "metadata": {},
   "outputs": [
    {
     "name": "stdout",
     "output_type": "stream",
     "text": [
      "names =  ['Rohan', 'Amita', 'Shushant', 'Pawan', 'Kiran']\n",
      "marks =  [67, 34, 78, 85, 65]\n"
     ]
    }
   ],
   "source": [
    "student_names, student_marks = zip( *zipped_list)\n",
    "print('names = ',list(student_names))\n",
    "print('marks = ',list(student_marks))"
   ]
  },
  {
   "cell_type": "markdown",
   "metadata": {},
   "source": [
    "## Recyrsivas"
   ]
  },
  {
   "cell_type": "code",
   "execution_count": null,
   "metadata": {},
   "outputs": [],
   "source": [
    "# 5! = 5 * 4 * 3 * 2 * 1\n",
    "# 5! = 5 * 4 * 3 * 2\n",
    "# 5! = 5 * 4 * 6\n",
    "# 5! = 5 * 24\n",
    "# 5! = 120\n",
    "def factorial(numero):\n",
    "    if numero == 1:\n",
    "        return 1\n",
    "    else:\n",
    "        return numero * factorial(numero-1)\n",
    "\n",
    "numero = 5\n",
    "resultado = factorial(numero)\n",
    "print(f'El factorial de {numero} es {resultado}')"
   ]
  },
  {
   "cell_type": "code",
   "execution_count": 2,
   "metadata": {},
   "outputs": [
    {
     "name": "stdout",
     "output_type": "stream",
     "text": [
      "30\n"
     ]
    }
   ],
   "source": [
    "# sonuc = (lambda a: a ** 2)(3)\n",
    "multiply = lambda a: a ** 2\n",
    "sonuc = multiply(5)\n",
    "\n",
    "toplama = lambda a,b,c: a+b+c\n",
    "sonuc = toplama(1,4,7)\n",
    "\n",
    "tersCevir = lambda s: s[::-1]\n",
    "sonuc = tersCevir(\"Sadık\")\n",
    "\n",
    "def myFunc(n):\n",
    "    return lambda a: a * n\n",
    "\n",
    "multiply2 = myFunc(2)\n",
    "multiply3 = myFunc(3)\n",
    "\n",
    "sonuc = multiply2(10)\n",
    "sonuc = multiply2(20)\n",
    "sonuc = multiply3(10)\n",
    "\n",
    "\n",
    "print(sonuc)"
   ]
  },
  {
   "cell_type": "code",
   "execution_count": 3,
   "metadata": {},
   "outputs": [
    {
     "name": "stdout",
     "output_type": "stream",
     "text": [
      "sum of 51\n"
     ]
    }
   ],
   "source": [
    "a=lambda b:b+1\n",
    "print(\"sum of\",a(50))"
   ]
  },
  {
   "cell_type": "code",
   "execution_count": null,
   "metadata": {},
   "outputs": [],
   "source": []
  }
 ],
 "metadata": {
  "kernelspec": {
   "display_name": "Python 3",
   "language": "python",
   "name": "python3"
  },
  "language_info": {
   "codemirror_mode": {
    "name": "ipython",
    "version": 3
   },
   "file_extension": ".py",
   "mimetype": "text/x-python",
   "name": "python",
   "nbconvert_exporter": "python",
   "pygments_lexer": "ipython3",
   "version": "3.8.5"
  }
 },
 "nbformat": 4,
 "nbformat_minor": 5
}
