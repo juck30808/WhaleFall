{
 "cells": [
  {
   "cell_type": "code",
   "execution_count": 1,
   "metadata": {},
   "outputs": [
    {
     "name": "stdout",
     "output_type": "stream",
     "text": [
      "Copied C:\\Users\\cti110016\\Documents\\GitHub\\WhaleFall\\input\\catlogo.png to C:\\Users\\cti110016\\Documents\\GitHub\\WhaleFall\\result\n",
      "Copied C:\\Users\\cti110016\\Documents\\GitHub\\WhaleFall\\input\\dogeweak.png to C:\\Users\\cti110016\\Documents\\GitHub\\WhaleFall\\result\n",
      "Copied C:\\Users\\cti110016\\Documents\\GitHub\\WhaleFall\\input\\flower.png to C:\\Users\\cti110016\\Documents\\GitHub\\WhaleFall\\result\n",
      "Copied C:\\Users\\cti110016\\Documents\\GitHub\\WhaleFall\\input\\Sample.png to C:\\Users\\cti110016\\Documents\\GitHub\\WhaleFall\\result\n",
      "Copied C:\\Users\\cti110016\\Documents\\GitHub\\WhaleFall\\input\\imageCards\\Al Sweigart_card.png to C:\\Users\\cti110016\\Documents\\GitHub\\WhaleFall\\result\n",
      "Copied C:\\Users\\cti110016\\Documents\\GitHub\\WhaleFall\\input\\imageCards\\Col. Mustard_card.png to C:\\Users\\cti110016\\Documents\\GitHub\\WhaleFall\\result\n",
      "Copied C:\\Users\\cti110016\\Documents\\GitHub\\WhaleFall\\input\\imageCards\\Miss Scarlet_card.png to C:\\Users\\cti110016\\Documents\\GitHub\\WhaleFall\\result\n",
      "Copied C:\\Users\\cti110016\\Documents\\GitHub\\WhaleFall\\input\\imageCards\\Prof. Plum_card.png to C:\\Users\\cti110016\\Documents\\GitHub\\WhaleFall\\result\n",
      "Copied C:\\Users\\cti110016\\Documents\\GitHub\\WhaleFall\\input\\imageCards\\Roboco_card.png to C:\\Users\\cti110016\\Documents\\GitHub\\WhaleFall\\result\n",
      "Copied C:\\Users\\cti110016\\Documents\\GitHub\\WhaleFall\\output\\result.png to C:\\Users\\cti110016\\Documents\\GitHub\\WhaleFall\\result\n",
      "Copied C:\\Users\\cti110016\\Documents\\GitHub\\WhaleFall\\output\\Sample.png to C:\\Users\\cti110016\\Documents\\GitHub\\WhaleFall\\result\n",
      "Copied C:\\Users\\cti110016\\Documents\\GitHub\\WhaleFall\\output\\Sample90.png to C:\\Users\\cti110016\\Documents\\GitHub\\WhaleFall\\result\n",
      "Copied C:\\Users\\cti110016\\Documents\\GitHub\\WhaleFall\\output\\Sample_convert.png to C:\\Users\\cti110016\\Documents\\GitHub\\WhaleFall\\result\n",
      "Copied C:\\Users\\cti110016\\Documents\\GitHub\\WhaleFall\\output\\Sample_sign.png to C:\\Users\\cti110016\\Documents\\GitHub\\WhaleFall\\result\n",
      "Copied C:\\Users\\cti110016\\Documents\\GitHub\\WhaleFall\\output\\Sample_size.png to C:\\Users\\cti110016\\Documents\\GitHub\\WhaleFall\\result\n",
      "Copied C:\\Users\\cti110016\\Documents\\GitHub\\WhaleFall\\output\\screenshot1.png to C:\\Users\\cti110016\\Documents\\GitHub\\WhaleFall\\result\n"
     ]
    }
   ],
   "source": [
    "import os, shutil\n",
    "\n",
    "def selectiveCopy(inputFolder, ext, outputFolder):\n",
    "    resultFolder = os.path.abspath(outputFolder)\n",
    "    #print(resultFolder)\n",
    "\n",
    "    for folderName, subFolder, filename in os.walk(inputFolder):\n",
    "        for file in filename:\n",
    "            if file.endswith(ext):\n",
    "                filepath = os.path.join(os.path.abspath(folderName), file)\n",
    "                if not os.path.exists(resultFolder):\n",
    "                    #create result folder if it doesn't exist\n",
    "                    os.makedirs(resultFolder)\n",
    "\n",
    "                if os.path.dirname(filepath) != resultFolder:\n",
    "                    #prevent copying files from result folder              \n",
    "                    shutil.copy(filepath, resultFolder)\n",
    "                    print(f'Copied {filepath} to {resultFolder}')\n",
    "\n",
    "\n",
    "if __name__ == '__main__':\n",
    "    selectiveCopy('.', 'png', 'output/result')\n"
   ]
  },
  {
   "cell_type": "code",
   "execution_count": 2,
   "metadata": {},
   "outputs": [
    {
     "name": "stdout",
     "output_type": "stream",
     "text": [
      "C:\\MAMP\\bin\\mamp\\images\\French\n",
      "C:\\MAMP\\bin\\mamp\\images\\German\n",
      "C:\\MAMP\\bin\\mamp\\images\\Italian\n",
      "C:\\MAMP\\bin\\mamp\\images\\Japanese\n",
      "C:\\MAMP\\bin\\mamp\\images\\ru\n",
      "C:\\MAMP\\bin\\mamp\\images\\Spanish\n",
      "C:\\MAMP\\bin\\phpMyAdmin\\vendor\\pragmarx\\google2fa\\docs\n",
      "C:\\Program Files\\dotnet\\sdk\\3.1.410\\Sdks\\Microsoft.NET.Sdk\n",
      "C:\\Program Files\\dotnet\\sdk\\3.1.410\\Sdks\\Microsoft.NET.Sdk.Publish\n",
      "C:\\Program Files\\dotnet\\sdk\\3.1.410\\Sdks\\Microsoft.NET.Sdk.Razor\n",
      "C:\\Program Files\\dotnet\\sdk\\3.1.410\\Sdks\\Microsoft.NET.Sdk.Web\n",
      "C:\\Program Files\\dotnet\\sdk\\3.1.410\\Sdks\\Microsoft.NET.Sdk.Web.ProjectSystem\n",
      "C:\\Program Files\\dotnet\\sdk\\3.1.410\\Sdks\\Microsoft.NET.Sdk.Worker\n",
      "C:\\Program Files\\dotnet\\sdk\\5.0.201\\Sdks\\Microsoft.NET.ILLink.Tasks\n",
      "C:\\Program Files\\dotnet\\sdk\\5.0.201\\Sdks\\Microsoft.NET.Sdk.BlazorWebAssembly\n",
      "C:\\Program Files\\dotnet\\sdk\\5.0.201\\Sdks\\Microsoft.NET.Sdk.Razor\n",
      "C:\\Program Files\\dotnet\\sdk\\5.0.204\\Sdks\\Microsoft.NET.ILLink.Tasks\n",
      "C:\\Program Files\\dotnet\\sdk\\5.0.204\\Sdks\\Microsoft.NET.Sdk.BlazorWebAssembly\n",
      "C:\\Program Files\\dotnet\\sdk\\5.0.204\\Sdks\\Microsoft.NET.Sdk.Razor\n"
     ]
    },
    {
     "name": "stderr",
     "output_type": "stream",
     "text": [
      "C:\\Users\\cti110016\\Anaconda3\\lib\\site-packages\\PIL\\TiffImagePlugin.py:792: UserWarning: Corrupt EXIF data.  Expecting to read 4 bytes but only got 0. \n",
      "  warnings.warn(str(msg))\n"
     ]
    },
    {
     "name": "stdout",
     "output_type": "stream",
     "text": [
      "C:\\ProgramData\\Kingsoft\\office6\\watermark\\images\\user_defined\n",
      "C:\\ProgramData\\Microsoft\\Windows NT\\MSScan\n",
      "C:\\Users\\cti110016\\.vscode\\extensions\\ms-python.vscode-pylance-2021.12.1\\images\n",
      "C:\\Users\\cti110016\\.vscode\\extensions\\ms-python.vscode-pylance-2021.12.2\\images\n",
      "C:\\Users\\cti110016\\.vscode\\extensions\\ms-toolsai.jupyter-renderers-1.0.4\\images\n",
      "C:\\Users\\cti110016\\Anaconda3\\images\n",
      "C:\\Users\\cti110016\\Anaconda3\\Lib\\site-packages\\ipywidgets\\widgets\\tests\\data\n",
      "C:\\Users\\cti110016\\Anaconda3\\Lib\\site-packages\\jupyter_contrib_nbextensions\\nbextensions\\zenmode\\images\n",
      "C:\\Users\\cti110016\\Anaconda3\\pkgs\\ipywidgets-7.5.1-py_1\\site-packages\\ipywidgets\\widgets\\tests\\data\n",
      "C:\\Users\\cti110016\\AppData\\Local\\Kingsoft\\WPS Office\\11.2.0.10351\\office6\\mui\\default\\resource\\splash\n",
      "C:\\Users\\cti110016\\AppData\\Local\\Kingsoft\\WPS Office\\11.2.0.10351\\office6\\mui\\default\\resource\\watermark\\images\\preinstall\n",
      "C:\\Users\\cti110016\\AppData\\Local\\Kingsoft\\WPS Office\\11.2.0.10351\\office6\\mui\\ja_JP\\resource\\splash\\hdpi\n",
      "C:\\Users\\cti110016\\AppData\\Local\\Kingsoft\\WPS Office\\11.2.0.10351\\office6\\mui\\ja_JP\\resource\\splash\\hdpi\\2x\n",
      "C:\\Users\\cti110016\\AppData\\Local\\Kingsoft\\WPS Office\\11.2.0.10351\\office6\\mui\\ja_JP\\resource\\watermark\\images\\preinstall\n",
      "C:\\Users\\cti110016\\AppData\\Local\\Kingsoft\\WPS Office\\11.2.0.10351\\office6\\mui\\th_TH\\resource\\watermark\\images\\preinstall\n",
      "C:\\Users\\cti110016\\AppData\\Local\\Kingsoft\\WPS Office\\11.2.0.10382\\office6\\mui\\default\\resource\\splash\n",
      "C:\\Users\\cti110016\\AppData\\Local\\Kingsoft\\WPS Office\\11.2.0.10382\\office6\\mui\\default\\resource\\watermark\\images\\preinstall\n",
      "C:\\Users\\cti110016\\AppData\\Local\\Kingsoft\\WPS Office\\11.2.0.10382\\office6\\mui\\ja_JP\\resource\\splash\\hdpi\n",
      "C:\\Users\\cti110016\\AppData\\Local\\Kingsoft\\WPS Office\\11.2.0.10382\\office6\\mui\\ja_JP\\resource\\splash\\hdpi\\2x\n",
      "C:\\Users\\cti110016\\AppData\\Local\\Kingsoft\\WPS Office\\11.2.0.10382\\office6\\mui\\ja_JP\\resource\\watermark\\images\\preinstall\n",
      "C:\\Users\\cti110016\\AppData\\Local\\Kingsoft\\WPS Office\\11.2.0.10382\\office6\\mui\\th_TH\\resource\\watermark\\images\\preinstall\n",
      "C:\\Users\\cti110016\\AppData\\Local\\Packages\\Microsoft.ScreenSketch_8wekyb3d8bbwe\\TempState\n",
      "C:\\Users\\cti110016\\AppData\\Local\\Packages\\microsoft.windowscommunicationsapps_8wekyb3d8bbwe\\LocalState\\CDNFiles\\assets\\universal\\shared\\BackgroundImages\\v1\n",
      "C:\\Users\\cti110016\\AppData\\Local\\Packages\\Microsoft.WindowsFeedbackHub_8wekyb3d8bbwe\\LocalState\\{a4d210cd-9216-4490-a9eb-78dc90800f9b}\n",
      "C:\\Users\\cti110016\\AppData\\Local\\Packages\\Microsoft.WindowsFeedbackHub_8wekyb3d8bbwe\\LocalState\\{f35b99db-6159-4578-ab5b-8e63e66e045b}\n",
      "C:\\Users\\cti110016\\AppData\\Local\\Packages\\NAVER.LINEwin8_8ptj331gd3tyt\\AppData\\LINE\\Cache\\tmp\n",
      "C:\\Users\\cti110016\\AppData\\Roaming\\kingsoft\\office6\\onlinepicture\\download\n",
      "C:\\Users\\cti110016\\AppData\\Roaming\\kingsoft\\office6\\startpage\\rideside_template\n",
      "C:\\Users\\cti110016\\AppData\\Roaming\\Microsoft\\Windows\\Themes\\CachedFiles\n",
      "C:\\Users\\cti110016\\Documents\\R\\R-4.0.4\\library\\rpart\\help\\figures\n",
      "C:\\Users\\cti110016\\Documents\\R\\R-4.0.4\\library\\survival\\help\\figures\n",
      "C:\\Users\\cti110016\\Dropbox\\Github\\Deeplearning\\Convolutional Neural Networks\\Week1\\images\n",
      "C:\\Users\\cti110016\\Dropbox\\Github\\Deeplearning\\Convolutional Neural Networks\\Week3\\Car detection for Autonomous Driving\\images\n",
      "C:\\Users\\cti110016\\Dropbox\\Github\\Deeplearning\\Convolutional Neural Networks\\Week3\\Car detection for Autonomous Driving\\nb_images\n",
      "C:\\Users\\cti110016\\Dropbox\\Github\\Deeplearning\\Convolutional Neural Networks\\Week3\\Car detection for Autonomous Driving\\out\n",
      "C:\\Users\\cti110016\\Dropbox\\Github\\Deeplearning\\Improving Deep Neural Networks Hyperparameter tuning, Regularization and Optimization\\images\n",
      "C:\\Users\\cti110016\\Dropbox\\Github\\Deeplearning\\Neural Networks and Deep Learning\\images\n",
      "C:\\Users\\cti110016\\Dropbox\\Github\\Deeplearning\\Sequence Models\\Week1\\Building a Recurrent Neural Network - Step by Step\\images\n",
      "C:\\Users\\cti110016\\Dropbox\\Github\\Deeplearning\\Sequence Models\\Week1\\Dinosaur Island -- Character-level language model\\images\n",
      "C:\\Users\\cti110016\\Dropbox\\Github\\Deeplearning\\Sequence Models\\Week1\\Jazz improvisation with LSTM\\images\n",
      "C:\\Users\\cti110016\\Dropbox\\Github\\Deeplearning\\Sequence Models\\Week2\\Emojify\\images\n",
      "C:\\Users\\cti110016\\Dropbox\\Github\\Deeplearning\\Sequence Models\\Week2\\Word Vector Representation\\images\n",
      "C:\\Users\\cti110016\\Dropbox\\Github\\Deeplearning\\Sequence Models\\Week3\\Machine Translation\\images\n",
      "C:\\Users\\cti110016\\Dropbox\\Github\\Pattern Recognition and Machine Learning\\chapter05\\imgs\n"
     ]
    },
    {
     "name": "stderr",
     "output_type": "stream",
     "text": [
      "C:\\Users\\cti110016\\Anaconda3\\lib\\site-packages\\PIL\\TiffImagePlugin.py:770: UserWarning: Possibly corrupt EXIF data.  Expecting to read 32 bytes but only got 0. Skipping tag 270\n",
      "  warnings.warn(\n",
      "C:\\Users\\cti110016\\Anaconda3\\lib\\site-packages\\PIL\\TiffImagePlugin.py:770: UserWarning: Possibly corrupt EXIF data.  Expecting to read 5 bytes but only got 0. Skipping tag 271\n",
      "  warnings.warn(\n",
      "C:\\Users\\cti110016\\Anaconda3\\lib\\site-packages\\PIL\\TiffImagePlugin.py:770: UserWarning: Possibly corrupt EXIF data.  Expecting to read 8 bytes but only got 0. Skipping tag 272\n",
      "  warnings.warn(\n",
      "C:\\Users\\cti110016\\Anaconda3\\lib\\site-packages\\PIL\\TiffImagePlugin.py:770: UserWarning: Possibly corrupt EXIF data.  Expecting to read 8 bytes but only got 0. Skipping tag 282\n",
      "  warnings.warn(\n",
      "C:\\Users\\cti110016\\Anaconda3\\lib\\site-packages\\PIL\\TiffImagePlugin.py:770: UserWarning: Possibly corrupt EXIF data.  Expecting to read 8 bytes but only got 0. Skipping tag 283\n",
      "  warnings.warn(\n",
      "C:\\Users\\cti110016\\Anaconda3\\lib\\site-packages\\PIL\\TiffImagePlugin.py:770: UserWarning: Possibly corrupt EXIF data.  Expecting to read 20 bytes but only got 0. Skipping tag 306\n",
      "  warnings.warn(\n",
      "C:\\Users\\cti110016\\Anaconda3\\lib\\site-packages\\PIL\\TiffImagePlugin.py:770: UserWarning: Possibly corrupt EXIF data.  Expecting to read 48 bytes but only got 0. Skipping tag 532\n",
      "  warnings.warn(\n",
      "C:\\Users\\cti110016\\Anaconda3\\lib\\site-packages\\PIL\\TiffImagePlugin.py:792: UserWarning: Corrupt EXIF data.  Expecting to read 2 bytes but only got 0. \n",
      "  warnings.warn(str(msg))\n"
     ]
    },
    {
     "name": "stdout",
     "output_type": "stream",
     "text": [
      "C:\\Users\\cti110016\\Google Drive (cti.datacenter@gmail.com)\\_國民黨主席選舉\n",
      "C:\\Users\\cti110016\\Google Drive (cti.datacenter@gmail.com)\\圖標Logo\n",
      "C:\\Users\\cti110016\\Google Drive (cti.datacenter@gmail.com)\\競頻與談話性節目_日流量比較表\n",
      "C:\\Users\\cti110016\\Google Drive (juck30808@gmail.com)\n",
      "C:\\Users\\cti110016\\Google Drive (juck30808@gmail.com)\\ROAS\n",
      "C:\\Users\\cti110016\\Google Drive (juck30808@gmail.com)\\Sharing\\DevFest 2020 Jerry\n",
      "C:\\Users\\cti110016\\Google Drive (juck30808@gmail.com)\\Sharing\\Lecture\n",
      "C:\\Users\\cti110016\\Google Drive (juck30808@gmail.com)\\底片相機\n",
      "C:\\Windows\\IME\\IMEJP\\Assets\n"
     ]
    },
    {
     "ename": "KeyboardInterrupt",
     "evalue": "",
     "output_type": "error",
     "traceback": [
      "\u001b[1;31m---------------------------------------------------------------------------\u001b[0m",
      "\u001b[1;31mKeyboardInterrupt\u001b[0m                         Traceback (most recent call last)",
      "\u001b[1;32m<ipython-input-2-688d7122e577>\u001b[0m in \u001b[0;36m<module>\u001b[1;34m\u001b[0m\n\u001b[0;32m     35\u001b[0m \u001b[1;33m\u001b[0m\u001b[0m\n\u001b[0;32m     36\u001b[0m \u001b[1;32mif\u001b[0m \u001b[0m__name__\u001b[0m \u001b[1;33m==\u001b[0m \u001b[1;34m\"__main__\"\u001b[0m\u001b[1;33m:\u001b[0m\u001b[1;33m\u001b[0m\u001b[1;33m\u001b[0m\u001b[0m\n\u001b[1;32m---> 37\u001b[1;33m     \u001b[0mfind\u001b[0m\u001b[1;33m(\u001b[0m\u001b[1;34m'/'\u001b[0m\u001b[1;33m)\u001b[0m\u001b[1;33m\u001b[0m\u001b[1;33m\u001b[0m\u001b[0m\n\u001b[0m",
      "\u001b[1;32m<ipython-input-2-688d7122e577>\u001b[0m in \u001b[0;36mfind\u001b[1;34m(root)\u001b[0m\n\u001b[0;32m     14\u001b[0m             \u001b[1;31m# Open image file using Pillow.\u001b[0m\u001b[1;33m\u001b[0m\u001b[1;33m\u001b[0m\u001b[1;33m\u001b[0m\u001b[0m\n\u001b[0;32m     15\u001b[0m             \u001b[1;32mtry\u001b[0m\u001b[1;33m:\u001b[0m\u001b[1;33m\u001b[0m\u001b[1;33m\u001b[0m\u001b[0m\n\u001b[1;32m---> 16\u001b[1;33m                 \u001b[0mim\u001b[0m \u001b[1;33m=\u001b[0m \u001b[0mImage\u001b[0m\u001b[1;33m.\u001b[0m\u001b[0mopen\u001b[0m\u001b[1;33m(\u001b[0m\u001b[0mos\u001b[0m\u001b[1;33m.\u001b[0m\u001b[0mpath\u001b[0m\u001b[1;33m.\u001b[0m\u001b[0mjoin\u001b[0m\u001b[1;33m(\u001b[0m\u001b[0mfoldername\u001b[0m\u001b[1;33m,\u001b[0m \u001b[0mfilename\u001b[0m\u001b[1;33m)\u001b[0m\u001b[1;33m)\u001b[0m\u001b[1;33m\u001b[0m\u001b[1;33m\u001b[0m\u001b[0m\n\u001b[0m\u001b[0;32m     17\u001b[0m             \u001b[1;32mexcept\u001b[0m \u001b[0mOSError\u001b[0m\u001b[1;33m:\u001b[0m\u001b[1;33m\u001b[0m\u001b[1;33m\u001b[0m\u001b[0m\n\u001b[0;32m     18\u001b[0m                 \u001b[1;32mcontinue\u001b[0m\u001b[1;33m\u001b[0m\u001b[1;33m\u001b[0m\u001b[0m\n",
      "\u001b[1;32m~\\Anaconda3\\lib\\site-packages\\PIL\\Image.py\u001b[0m in \u001b[0;36mopen\u001b[1;34m(fp, mode, formats)\u001b[0m\n\u001b[0;32m   2889\u001b[0m \u001b[1;33m\u001b[0m\u001b[0m\n\u001b[0;32m   2890\u001b[0m     \u001b[1;32mif\u001b[0m \u001b[0mfilename\u001b[0m\u001b[1;33m:\u001b[0m\u001b[1;33m\u001b[0m\u001b[1;33m\u001b[0m\u001b[0m\n\u001b[1;32m-> 2891\u001b[1;33m         \u001b[0mfp\u001b[0m \u001b[1;33m=\u001b[0m \u001b[0mbuiltins\u001b[0m\u001b[1;33m.\u001b[0m\u001b[0mopen\u001b[0m\u001b[1;33m(\u001b[0m\u001b[0mfilename\u001b[0m\u001b[1;33m,\u001b[0m \u001b[1;34m\"rb\"\u001b[0m\u001b[1;33m)\u001b[0m\u001b[1;33m\u001b[0m\u001b[1;33m\u001b[0m\u001b[0m\n\u001b[0m\u001b[0;32m   2892\u001b[0m         \u001b[0mexclusive_fp\u001b[0m \u001b[1;33m=\u001b[0m \u001b[1;32mTrue\u001b[0m\u001b[1;33m\u001b[0m\u001b[1;33m\u001b[0m\u001b[0m\n\u001b[0;32m   2893\u001b[0m \u001b[1;33m\u001b[0m\u001b[0m\n",
      "\u001b[1;31mKeyboardInterrupt\u001b[0m: "
     ]
    }
   ],
   "source": [
    "import os\n",
    "from PIL import Image\n",
    "\n",
    "def find(root):\n",
    "    for foldername, subfolders, filenames in os.walk(root):\n",
    "        numPhotoFiles = 0\n",
    "        numNonPhotoFiles = 0\n",
    "        for filename in filenames:\n",
    "            # Check if file extension isn't .png or .jpg.\n",
    "            if not (filename.lower().endswith('.png') or filename.lower().endswith('.jpg')):\n",
    "                numNonPhotoFiles += 1\n",
    "                continue    # skip to next filename\n",
    "\n",
    "            # Open image file using Pillow.\n",
    "            try:\n",
    "                im = Image.open(os.path.join(foldername, filename))\n",
    "            except OSError:\n",
    "                continue\n",
    "\n",
    "            width, height = im.size\n",
    "\n",
    "            # Check if width & height are larger than 500.\n",
    "            if width > 500 and height > 500:\n",
    "                # Image is large enough to be considered a photo.\n",
    "                numPhotoFiles += 1\n",
    "            else:\n",
    "                # Image is too small to be a photo.\n",
    "                numNonPhotoFiles += 1\n",
    "\n",
    "        # If more than half of files were photos,\n",
    "        # print the absolute path of the folder.\n",
    "        if numPhotoFiles > numNonPhotoFiles:\n",
    "            print(os.path.abspath(foldername))\n",
    "\n",
    "\n",
    "if __name__ == \"__main__\":\n",
    "    find('/')"
   ]
  },
  {
   "cell_type": "code",
   "execution_count": null,
   "metadata": {},
   "outputs": [],
   "source": []
  }
 ],
 "metadata": {
  "kernelspec": {
   "display_name": "Python 3",
   "language": "python",
   "name": "python3"
  },
  "language_info": {
   "codemirror_mode": {
    "name": "ipython",
    "version": 3
   },
   "file_extension": ".py",
   "mimetype": "text/x-python",
   "name": "python",
   "nbconvert_exporter": "python",
   "pygments_lexer": "ipython3",
   "version": "3.8.5"
  }
 },
 "nbformat": 4,
 "nbformat_minor": 4
}
