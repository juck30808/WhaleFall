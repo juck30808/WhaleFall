{
 "cells": [
  {
   "cell_type": "markdown",
   "metadata": {},
   "source": [
    "## Classification based on item attributes\n",
    "## 基於物品屬性的分類\n",
    "\n",
    "「協同過濾法」傾向於推薦那些已經很流行的物品。\n",
    "\n",
    "試想：一個新樂隊發布了專輯，這張專輯還沒有被任何用戶評價或購買過， 那它將永遠不會出現在推薦列表中。這類推薦系統會讓流行的物品更為流行，冷門的物品更無人問津。\n",
    "- Daniel Fleder & Kartik Hosanagar 2009 《推薦系統對商品分類的影響》"
   ]
  },
  {
   "cell_type": "code",
   "execution_count": 1,
   "metadata": {},
   "outputs": [],
   "source": [
    "from math import sqrt\n",
    "\n",
    "users = {\"Angelica\": {\"Blues Traveler\": 3.5, \"Broken Bells\": 2.0, \"Norah Jones\": 4.5, \"Phoenix\": 5.0, \"Slightly Stoopid\": 1.5, \"The Strokes\": 2.5, \"Vampire Weekend\": 2.0},\n",
    "         \"Bill\":{\"Blues Traveler\": 2.0, \"Broken Bells\": 3.5, \"Deadmau5\": 4.0, \"Phoenix\": 2.0, \"Slightly Stoopid\": 3.5, \"Vampire Weekend\": 3.0},\n",
    "         \"Chan\": {\"Blues Traveler\": 5.0, \"Broken Bells\": 1.0, \"Deadmau5\": 1.0, \"Norah Jones\": 3.0, \"Phoenix\": 5, \"Slightly Stoopid\": 1.0},\n",
    "         \"Dan\": {\"Blues Traveler\": 3.0, \"Broken Bells\": 4.0, \"Deadmau5\": 4.5, \"Phoenix\": 3.0, \"Slightly Stoopid\": 4.5, \"The Strokes\": 4.0, \"Vampire Weekend\": 2.0},\n",
    "         \"Hailey\": {\"Broken Bells\": 4.0, \"Deadmau5\": 1.0, \"Norah Jones\": 4.0, \"The Strokes\": 4.0, \"Vampire Weekend\": 1.0},\n",
    "         \"Jordyn\":  {\"Broken Bells\": 4.5, \"Deadmau5\": 4.0, \"Norah Jones\": 5.0, \"Phoenix\": 5.0, \"Slightly Stoopid\": 4.5, \"The Strokes\": 4.0, \"Vampire Weekend\": 4.0},\n",
    "         \"Sam\": {\"Blues Traveler\": 5.0, \"Broken Bells\": 2.0, \"Norah Jones\": 3.0, \"Phoenix\": 5.0, \"Slightly Stoopid\": 4.0, \"The Strokes\": 5.0},\n",
    "         \"Veronica\": {\"Blues Traveler\": 3.0, \"Norah Jones\": 5.0, \"Phoenix\": 4.0, \"Slightly Stoopid\": 2.5, \"The Strokes\": 3.0}\n",
    "        }\n",
    "\n",
    "music = {\"Dr Dog/Fate\": {\"piano\": 2.5, \"vocals\": 4, \"beat\": 3.5, \"blues\": 3, \"guitar\": 5, \"backup vocals\": 4, \"rap\": 1},\n",
    "         \"Phoenix/Lisztomania\": {\"piano\": 2, \"vocals\": 5, \"beat\": 5, \"blues\": 3, \"guitar\": 2, \"backup vocals\": 1, \"rap\": 1},\n",
    "         \"Heartless Bastards/Out at Sea\": {\"piano\": 1, \"vocals\": 5, \"beat\": 4, \"blues\": 2, \"guitar\": 4, \"backup vocals\": 1, \"rap\": 1},\n",
    "         \"Todd Snider/Don't Tempt Me\": {\"piano\": 4, \"vocals\": 5, \"beat\": 4, \"blues\": 4, \"guitar\": 1, \"backup vocals\": 5, \"rap\": 1},\n",
    "         \"The Black Keys/Magic Potion\": {\"piano\": 1, \"vocals\": 4, \"beat\": 5, \"blues\": 3.5, \"guitar\": 5, \"backup vocals\": 1, \"rap\": 1},\n",
    "         \"Glee Cast/Jessie's Girl\": {\"piano\": 1, \"vocals\": 5, \"beat\": 3.5, \"blues\": 3, \"guitar\":4, \"backup vocals\": 5, \"rap\": 1},\n",
    "         \"La Roux/Bulletproof\": {\"piano\": 5, \"vocals\": 5, \"beat\": 4, \"blues\": 2, \"guitar\": 1, \"backup vocals\": 1, \"rap\": 1},\n",
    "         \"Mike Posner\": {\"piano\": 2.5, \"vocals\": 4, \"beat\": 4, \"blues\": 1, \"guitar\": 1, \"backup vocals\": 1, \"rap\": 1},\n",
    "         \"Black Eyed Peas/Rock That Body\": {\"piano\": 2, \"vocals\": 5, \"beat\": 5, \"blues\": 1, \"guitar\": 2, \"backup vocals\": 2, \"rap\": 4},\n",
    "         \"Lady Gaga/Alejandro\": {\"piano\": 1, \"vocals\": 5, \"beat\": 3, \"blues\": 2, \"guitar\": 1, \"backup vocals\": 2, \"rap\": 1}}"
   ]
  },
  {
   "cell_type": "code",
   "execution_count": 2,
   "metadata": {},
   "outputs": [],
   "source": [
    "def manhattan(rating1, rating2):\n",
    "    \"\"\"Computes the Manhattan distance. Both rating1 and rating2 are dictionaries\n",
    "       of the form {'The Strokes': 3.0, 'Slightly Stoopid': 2.5}\"\"\"\n",
    "    distance = 0\n",
    "    total = 0\n",
    "    for key in rating1:\n",
    "        if key in rating2:\n",
    "            distance += abs(rating1[key] - rating2[key])\n",
    "            total += 1\n",
    "    return distance\n",
    "\n",
    "\n",
    "def computeNearestNeighbor(username, users):\n",
    "    \"\"\"creates a sorted list of users based on their distance to username\"\"\"\n",
    "    distances = []\n",
    "    for user in users:\n",
    "        if user != username:\n",
    "            distance = manhattan(users[user], users[username])\n",
    "            distances.append((distance, user))\n",
    "    # sort based on distance -- closest first\n",
    "    distances.sort()\n",
    "    return distances"
   ]
  },
  {
   "cell_type": "code",
   "execution_count": 3,
   "metadata": {},
   "outputs": [
    {
     "data": {
      "text/plain": [
       "[(4.5, 'Heartless Bastards/Out at Sea'),\n",
       " (5.5, 'Phoenix/Lisztomania'),\n",
       " (6.5, 'Dr Dog/Fate'),\n",
       " (8.0, \"Glee Cast/Jessie's Girl\"),\n",
       " (9.0, 'Mike Posner'),\n",
       " (9.5, 'Lady Gaga/Alejandro'),\n",
       " (11.5, 'Black Eyed Peas/Rock That Body'),\n",
       " (11.5, 'La Roux/Bulletproof'),\n",
       " (13.5, \"Todd Snider/Don't Tempt Me\")]"
      ]
     },
     "execution_count": 3,
     "metadata": {},
     "output_type": "execute_result"
    }
   ],
   "source": [
    "computeNearestNeighbor('The Black Keys/Magic Potion', music)"
   ]
  },
  {
   "cell_type": "markdown",
   "metadata": {},
   "source": [
    "## 有意義的評分\n",
    "1分表示完全不是這個樂曲風格，5分則表示很相符。個特徵都是1到5分的尺度，0.5分為一檔。\n",
    "\n",
    "- 如果一首歌的“鄉村音樂”特徵是4分，另一首是5分，那我們可以認為它們是相似的歌曲。結合之前學過的距離計算公式進行推薦。\n",
    "\n",
    "一個簡單的示例我選取了以下這些特徵： \n",
    "- 鋼琴的程度（Piano）：1分錶示沒有使用鋼琴，5分錶示整首歌曲由鋼琴曲貫穿； \n",
    "- 美聲的程度（Vocals）：標準同上 \n",
    "- 節奏（Driving beat）：整首歌曲是否有強烈的節奏感 \n",
    "- 藍調（Blues infl.） \n",
    "- 電音吉他（Dirty elec. Guitar） \n",
    "- 幕後和聲（Backup vocals） \n",
    "- 饒舌（Rap infl.） 使用以上標準對一些歌曲進行評分"
   ]
  },
  {
   "cell_type": "code",
   "execution_count": 4,
   "metadata": {
    "scrolled": true
   },
   "outputs": [
    {
     "data": {
      "text/plain": [
       "[(4.5, 'Heartless Bastards/Out at Sea'),\n",
       " (5.5, 'Phoenix/Lisztomania'),\n",
       " (6.5, 'Dr Dog/Fate'),\n",
       " (8.0, \"Glee Cast/Jessie's Girl\"),\n",
       " (9.0, 'Mike Posner'),\n",
       " (9.5, 'Lady Gaga/Alejandro'),\n",
       " (11.5, 'Black Eyed Peas/Rock That Body'),\n",
       " (11.5, 'La Roux/Bulletproof'),\n",
       " (13.5, \"Todd Snider/Don't Tempt Me\")]"
      ]
     },
     "execution_count": 4,
     "metadata": {},
     "output_type": "execute_result"
    }
   ],
   "source": [
    "computeNearestNeighbor('The Black Keys/Magic Potion', music)"
   ]
  },
  {
   "attachments": {
    "image.png": {
     "image/png": "[encoded data removed]"
    }
   },
   "cell_type": "markdown",
   "metadata": {},
   "source": [
    "![image.png](attachment:image.png)"
   ]
  },
  {
   "cell_type": "markdown",
   "metadata": {},
   "source": [
    "- 這兩首歌曲最相似的地方是鋼琴、和聲、以及饒舌，這些特徵的差異都是0。但這些特徵的評分都很低，我們不能告訴用戶「因為這首歌曲沒有鋼琴伴奏，所以我們推薦給你」。\n",
    "\n",
    "- 因此，我們需要使用那些相似的且評分較高的特徵。我們推薦歌曲是因為它有著強烈的節奏感，美聲片段，以及電音吉他的演奏。"
   ]
  },
  {
   "cell_type": "markdown",
   "metadata": {},
   "source": [
    "## Normalize Column 正規化\n",
    "\n",
    "需要進行標準化的情形： \n",
    "- 1. 我們需要通過物品特性來計算距離； \n",
    "- 2. 不同特性之間的尺度相差很大。\n",
    "- 3. 有意義的評分建立於差不多的評分標準，若最大差異懸殊時(ex.加入年齡)，\n",
    "- 4. 年齡最大差異度是 1-100，但評分最大差異度是 5，年齡會決定了匹配結果"
   ]
  },
  {
   "cell_type": "markdown",
   "metadata": {},
   "source": [
    "## knn\n",
    "\n",
    "kNN算法的優點： \n",
    "- 實現也比較簡單 不需要按特定形式準備數據\n",
    "- 需要大量內存保存訓練集數據當我們的訓練集較大時，kNN算法是一個不錯的選擇。\n",
    "- 這個算法的用途很廣，包括推薦系 統、蛋白質分析、圖片分類等。\n",
    "\n",
    "應用機會\n",
    "分類器的應用範圍很廣： \n",
    "\n",
    "### 推特情感分類 \n",
    "很多人在對推特中的文字消息進行情感分類（積極的、消極的），可以有很多用途，如Axe發布了一款新的腋下除臭劑，通過推文就能知道用戶是否滿意。這裡用到的物品特徵是文字信息。\n",
    "\n",
    "### 人臉識別 \n",
    "現在有些手機應用可以識別出照片裡你的朋友們，這項技術也可用於監控錄像中的人臉識 別。不同的識別技術細節可能不同，但都會用到諸如五官的大小和相對距離等信息。\n",
    "\n",
    "### 政治拉票 \n",
    "將目標選民分為“愛湊熱鬧”、“很有主見”、“家庭為重”等類型，來進行有針對性的拉票活 動。市場細分這和上個例子有點像，與其花費巨額廣告費向不可能購買維加斯公寓的人進行宣傳，不如從人群中識別出潛在客戶，縮小宣傳範圍。最好能再對目標群體進行細分，進一步定制廣告內容。\n",
    "\n",
    "### 個人健康助理\n",
    "如今人們越來越關注自身，我們可以購買到像Nike健身手環這樣的產品，而Intel等公司也在研制一種智能家居，可以在你行走時稱出你的重量，記錄你的行動軌跡，並給出健康提示。有些專家還預言未來我們會穿戴各種便攜式設備，收集我們的生活信息，並加以分類。\n",
    "\n",
    "### 其他\n",
    "- 識別恐怖分子\n",
    "- 來信分類（重要的、一般的、垃圾郵件）\n",
    "- 預測醫療費用 \n",
    "- 識別金融詐騙"
   ]
  },
  {
   "cell_type": "code",
   "execution_count": 5,
   "metadata": {},
   "outputs": [],
   "source": [
    "# 向量中特徵依次為：piano, vocals, beat, blues, guitar, backup vocals, rap \n",
    "# 定義方式與上方 music 相同，只是較為簡潔\n",
    "\n",
    "items = {\"Dr Dog/Fate\": [2.5, 4, 3.5, 3, 5, 4, 1], \n",
    "         \"Phoenix/Lisztomania\": [2, 5, 5, 3, 2, 1, 1], \n",
    "         \"Heartless Bastards/Out\": [1, 5, 4, 2, 4, 1, 1], \n",
    "         \"Todd Snider/Don't Tempt Me\": [4, 5, 4, 4, 1, 5, 1], \n",
    "         \"The Black Keys/Magic Potion\": [1, 4, 5, 3.5, 5, 1, 1], \n",
    "         \"Glee Cast/Jessie's Girl\": [1, 5, 3.5, 3, 4, 5, 1], \n",
    "         \"La Roux/Bulletproof\": [5, 5, 4, 2, 1, 1, 1], \n",
    "         \"Mike Posner\": [2.5, 4, 4, 1, 1, 1, 1], \n",
    "         \"Black Eyed Peas/Rock That Body\": [2, 5, 5, 1, 2, 2, 4], \n",
    "         \"Lady Gaga/Alejandro\": [1, 5, 3, 2, 1, 2, 1]}"
   ]
  },
  {
   "cell_type": "code",
   "execution_count": 6,
   "metadata": {},
   "outputs": [],
   "source": [
    "## 這裡使用L和 D兩個字母表示喜歡和不喜歡，當然你也可以用 0和1等。\n",
    "\n",
    "users = {\"Angelica\": {\"Dr Dog/Fate\": \"L\", \n",
    "                      \"Phoenix/Lisztomania\": \"L\", \n",
    "                      \"Heartless Bastards/Out at Sea\": \"D\", \n",
    "                      \"Todd Snider/Don't Tempt Me\": \"D\", \n",
    "                      \"The Black Keys/Magic Potion\": \"D\", \n",
    "                      \"Glee Cast/Jessie's Girl\": \"L\", \n",
    "                      \"La Roux/Bulletproof\": \"D\", \n",
    "                      \"Mike Posner\": \"D\", \n",
    "                      \"Black Eyed Peas/Rock That Body\": \"D\", \n",
    "                      \"Lady Gaga/Alejandro\": \"L\"}, \n",
    "         \"Bill\": {\"Dr Dog/Fate\": \"L\", \n",
    "                  \"Phoenix/Lisztomania\": \"L\", \n",
    "                  \"Heartless Bastards/Out at Sea\": \"L\", \n",
    "                  \"Todd Snider/Don't Tempt Me\": \"D\", \n",
    "                  \"The Black Keys/Magic Potion\": \"L\", \n",
    "                  \"Glee Cast/Jessie's Girl\": \"D\", \n",
    "                  \"La Roux/Bulletproof\": \"D\", \n",
    "                  \"Mike Posner\": \"D\", \n",
    "                  \"Black Eyed Peas/Rock That Body\": \"D\", \n",
    "                  \"Lady Gaga/Alejandro\": \"D\"}\n",
    "        }"
   ]
  },
  {
   "cell_type": "code",
   "execution_count": 7,
   "metadata": {},
   "outputs": [],
   "source": [
    "def manhattan(vector1, vector2): \n",
    "    distance = 0 \n",
    "    total = 0 \n",
    "    n = len(vector1) \n",
    "    for i in range(n): \n",
    "        distance += abs(vector1[i] - vector2[i]) \n",
    "    return distance \n",
    "\n",
    "def computeNearestNeighbor(itemName, itemVector, items): \n",
    "    distances = [] \n",
    "    for otherItem in items: \n",
    "        if otherItem != itemName: \n",
    "            distance = manhattan(itemVector, items[otherItem]) \n",
    "            distances.append((distance, otherItem)) \n",
    "    # 最近的排在前面 \n",
    "    distances.sort() \n",
    "    return distances\n",
    "\n",
    "def classify(user, itemName, itemVector): \n",
    "    nearest = computeNearestNeighbor(itemName, itemVector, items)[0][1] \n",
    "    rating = users[user][nearest] \n",
    "    return rating"
   ]
  },
  {
   "cell_type": "code",
   "execution_count": 8,
   "metadata": {},
   "outputs": [
    {
     "data": {
      "text/plain": [
       "'L'"
      ]
     },
     "execution_count": 8,
     "metadata": {},
     "output_type": "execute_result"
    }
   ],
   "source": [
    "classify('Angelica', 'Chris Cagle/I Breathe In. I Breathe Out', \n",
    "         [1, 5, 2.5, 1, 1, 5 , 1])"
   ]
  },
  {
   "cell_type": "code",
   "execution_count": 9,
   "metadata": {},
   "outputs": [
    {
     "data": {
      "text/plain": [
       "[(4.5, 'Lady Gaga/Alejandro'),\n",
       " (6.0, \"Glee Cast/Jessie's Girl\"),\n",
       " (7.5, \"Todd Snider/Don't Tempt Me\"),\n",
       " (8.0, 'Mike Posner'),\n",
       " (9.5, 'Heartless Bastards/Out'),\n",
       " (10.5, 'Black Eyed Peas/Rock That Body'),\n",
       " (10.5, 'Dr Dog/Fate'),\n",
       " (10.5, 'La Roux/Bulletproof'),\n",
       " (10.5, 'Phoenix/Lisztomania'),\n",
       " (14.0, 'The Black Keys/Magic Potion')]"
      ]
     },
     "execution_count": 9,
     "metadata": {},
     "output_type": "execute_result"
    }
   ],
   "source": [
    "## KNN 計算出 I Breathe In 最接近的歌曲 他可能會喜歡 Lady Gaga/Alejandro\n",
    "computeNearestNeighbor('Chris Cagle/I Breathe In. I Breathe Out', \n",
    "                       [1, 5, 2.5, 1, 1 , 5, 1], \n",
    "                       items)"
   ]
  },
  {
   "cell_type": "markdown",
   "metadata": {},
   "source": [
    "## 如何建立好一個 List\n",
    "\n",
    "- Comment_________class_________num______num\n",
    "- AsukaTeramoto____Gymmastics___54_______66\n",
    "- BrittaineyRaven____Basketball_____72_______162"
   ]
  },
  {
   "cell_type": "code",
   "execution_count": 13,
   "metadata": {},
   "outputs": [],
   "source": [
    "# 1  Bad\n",
    "list = {'Asuka Termoto': ('Gymnastics', [54, 66]), \n",
    "        'Brittainey Raven': ('Basketball', [72, 162])}"
   ]
  },
  {
   "cell_type": "code",
   "execution_count": 14,
   "metadata": {
    "scrolled": true
   },
   "outputs": [],
   "source": [
    "# 2  Normal\n",
    "list = [['Asuka Termoto', 'Gymnastics', 54, 66], \n",
    "        ['Brittainey Raven', 'Basketball', 72, 162]]"
   ]
  },
  {
   "cell_type": "code",
   "execution_count": 15,
   "metadata": {},
   "outputs": [],
   "source": [
    "#3  Best\n",
    "list = [('Gymnastics', [54, 66], ['Asuka Termoto']), \n",
    "        ('Basketball', [72, 162], ['Brittainey Raven'])]"
   ]
  },
  {
   "cell_type": "code",
   "execution_count": 18,
   "metadata": {},
   "outputs": [
    {
     "name": "stdout",
     "output_type": "stream",
     "text": [
      "getMedian and getAbsoluteStandardDeviation work correctly\n"
     ]
    }
   ],
   "source": [
    "## 讀取數據轉換成上述格式\n",
    "import copy\n",
    "class Classifier:\n",
    "    def __init__(self, filename):\n",
    "        self.medianAndDeviation = []\n",
    "        # reading the data in from the file\n",
    "        f = open(filename)\n",
    "        lines = f.readlines()\n",
    "        f.close()\n",
    "        self.format = lines[0].strip().split('\\t')\n",
    "        self.data = []\n",
    "        for line in lines[1:]:\n",
    "            fields = line.strip().split('\\t')\n",
    "            ignore = []\n",
    "            vector = []\n",
    "            for i in range(len(fields)):\n",
    "                if self.format[i] == 'num':\n",
    "                    vector.append(int(fields[i]))\n",
    "                elif self.format[i] == 'comment':\n",
    "                    ignore.append(fields[i])\n",
    "                elif self.format[i] == 'class':\n",
    "                    classification = fields[i]\n",
    "            self.data.append((classification, vector, ignore))\n",
    "        self.rawData = copy.deepcopy(self.data)\n",
    "\n",
    "        \n",
    "    def getMedian(self, alist):\n",
    "        if alist == []: \n",
    "            return [] \n",
    "        blist = sorted(alist) \n",
    "        length = len(alist) \n",
    "        # 奇數回傳中間值，偶數則均\n",
    "        if length % 2 == 1: \n",
    "            return blist[int(((length + 1) / 2) - 1)] \n",
    "        else:\n",
    "            v1 = blist[int(length / 2)] \n",
    "            v2 = blist[(int(length / 2) - 1)] \n",
    "            return (v1 + v2) / 2.0\n",
    "\n",
    "    def getAbsoluteStandardDeviation(self, alist, median):\n",
    "        sum = 0 \n",
    "        for item in alist: \n",
    "            sum += abs(item - median) \n",
    "        return sum / len(alist)\n",
    "\n",
    "def unitTest():\n",
    "    list1 = [54, 72, 78, 49, 65, 63, 75, 67, 54]\n",
    "    list2 = [54, 72, 78, 49, 65, 63, 75, 67, 54, 68]\n",
    "    list3 = [69]\n",
    "    list4 = [69, 72]\n",
    "    classifier = Classifier('input/athletesTrainingSet.txt')\n",
    "    m1 = classifier.getMedian(list1)\n",
    "    m2 = classifier.getMedian(list2)\n",
    "    m3 = classifier.getMedian(list3)\n",
    "    m4 = classifier.getMedian(list4)\n",
    "    asd1 = classifier.getAbsoluteStandardDeviation(list1, m1)\n",
    "    asd2 = classifier.getAbsoluteStandardDeviation(list2, m2)\n",
    "    asd3 = classifier.getAbsoluteStandardDeviation(list3, m3)\n",
    "    asd4 = classifier.getAbsoluteStandardDeviation(list4, m4)\n",
    "    assert(round(m1, 3) == 65)\n",
    "    assert(round(m2, 3) == 66)\n",
    "    assert(round(m3, 3) == 69)\n",
    "    assert(round(m4, 3) == 70.5)\n",
    "    assert(round(asd1, 3) == 8)\n",
    "    assert(round(asd2, 3) == 7.5)\n",
    "    assert(round(asd3, 3) == 0)\n",
    "    assert(round(asd4, 3) == 1.5)\n",
    "    print(\"getMedian and getAbsoluteStandardDeviation work correctly\")\n",
    "\n",
    "unitTest()"
   ]
  },
  {
   "cell_type": "markdown",
   "metadata": {},
   "source": [
    "## Example"
   ]
  },
  {
   "cell_type": "code",
   "execution_count": 23,
   "metadata": {
    "scrolled": true
   },
   "outputs": [
    {
     "name": "stdout",
     "output_type": "stream",
     "text": [
      "+            15  15\t8\t390.0\t190.0\t3850\t8.5\tamc ambassador dpl\n",
      "\n",
      "+            15  15\t8\t383.0\t170.0\t3563\t10.0\tdodge challenger se\n",
      "\n",
      "+            15  15\t8\t340.0\t160.0\t3609\t8.0\tplymouth 'cuda 340\n",
      "\n",
      "-            20  15\t8\t400.0\t150.0\t3761\t9.5\tchevrolet monte carlo\n",
      "\n",
      "+            15  15\t8\t455.0\t225.0\t3086\t10.0\tbuick estate wagon (sw)\n",
      "\n",
      "+            25  25\t4\t113.0\t95.00\t2372\t15.0\ttoyota corona mark ii\n",
      "\n",
      "-            25  20\t6\t198.0\t95.00\t2833\t15.5\tplymouth duster\n",
      "\n",
      "-            25  20\t6\t199.0\t97.00\t2774\t15.5\tamc hornet\n",
      "\n",
      "+            20  20\t6\t200.0\t85.00\t2587\t16.0\tford maverick\n",
      "\n",
      "-            35  25\t4\t97.00\t88.00\t2130\t14.5\tdatsun pl510\n",
      "\n",
      "+            25  25\t4\t97.00\t46.00\t1835\t20.5\tvolkswagen 1131 deluxe sedan\n",
      "\n",
      "+            25  25\t4\t110.0\t87.00\t2672\t17.5\tpeugeot 504\n",
      "\n",
      "-            35  25\t4\t107.0\t90.00\t2430\t14.5\taudi 100 ls\n",
      "\n",
      "-            30  25\t4\t104.0\t95.00\t2375\t17.5\tsaab 99e\n",
      "\n",
      "-            20  25\t4\t121.0\t113.0\t2234\t12.5\tbmw 2002\n",
      "\n",
      "+            20  20\t6\t199.0\t90.00\t2648\t15.0\tamc gremlin\n",
      "\n",
      "-            15  10\t8\t360.0\t215.0\t4615\t14.0\tford f250\n",
      "\n",
      "-            15  10\t8\t307.0\t200.0\t4376\t15.0\tchevy c20\n",
      "\n",
      "+            10  10\t8\t318.0\t210.0\t4382\t13.5\tdodge d200\n",
      "\n",
      "-            15  10\t8\t304.0\t193.0\t4732\t18.5\thi 1200d\n",
      "\n",
      "-            35  25\t4\t97.00\t88.00\t2130\t14.5\tdatsun pl510\n",
      "\n",
      "-            25  30\t4\t140.0\t90.00\t2264\t15.5\tchevrolet vega 2300\n",
      "\n",
      "+            25  25\t4\t113.0\t95.00\t2228\t14.0\ttoyota corona\n",
      "\n",
      "+            20  20\t6\t232.0\t100.0\t2634\t13.0\tamc gremlin\n",
      "\n",
      "-            20  15\t6\t225.0\t105.0\t3439\t15.5\tplymouth satellite custom\n",
      "\n",
      "-            20  15\t6\t250.0\t100.0\t3329\t15.5\tchevrolet chevelle malibu\n",
      "\n",
      "+            20  20\t6\t250.0\t88.00\t3302\t15.5\tford torino 500\n",
      "\n",
      "+            20  20\t6\t232.0\t100.0\t3288\t15.5\tamc matador\n",
      "\n",
      "+            15  15\t8\t350.0\t165.0\t4209\t12.0\tchevrolet impala\n",
      "\n",
      "+            15  15\t8\t400.0\t175.0\t4464\t11.5\tpontiac catalina brougham\n",
      "\n",
      "+            15  15\t8\t351.0\t153.0\t4154\t13.5\tford galaxie 500\n",
      "\n",
      "+            15  15\t8\t318.0\t150.0\t4096\t13.0\tplymouth fury iii\n",
      "\n",
      "-            15  10\t8\t383.0\t180.0\t4955\t11.5\tdodge monaco (sw)\n",
      "\n",
      "+            15  15\t8\t400.0\t170.0\t4746\t12.0\tford country squire (sw)\n",
      "\n",
      "-            10  15\t8\t400.0\t175.0\t5140\t12.0\tpontiac safari (sw)\n",
      "\n",
      "+            20  20\t6\t258.0\t110.0\t2962\t13.5\tamc hornet sportabout (sw)\n",
      "\n",
      "+            20  20\t4\t140.0\t72.00\t2408\t19.0\tchevrolet vega (sw)\n",
      "\n",
      "+            20  20\t6\t250.0\t100.0\t3282\t15.0\tpontiac firebird\n",
      "\n",
      "+            20  20\t6\t250.0\t88.00\t3139\t14.5\tford mustang\n",
      "\n",
      "-            35  25\t4\t122.0\t86.00\t2220\t14.0\tmercury capri 2000\n",
      "\n",
      "-            35  30\t4\t116.0\t90.00\t2123\t14.0\topel 1900\n",
      "\n",
      "-            35  30\t4\t79.00\t70.00\t2074\t19.5\tpeugeot 304\n",
      "\n",
      "+            30  30\t4\t88.00\t76.00\t2065\t14.5\tfiat 124b\n",
      "\n",
      "+            30  30\t4\t71.00\t65.00\t1773\t19.0\ttoyota corolla 1200\n",
      "\n",
      "+            35  35\t4\t72.00\t69.00\t1613\t18.0\tdatsun 1200\n",
      "\n",
      "-            40  25\t4\t97.00\t60.00\t1834\t19.0\tvolkswagen model 111\n",
      "\n",
      "-            35  25\t4\t91.00\t70.00\t1955\t20.5\tplymouth cricket\n",
      "\n",
      "+            25  25\t4\t113.0\t95.00\t2278\t15.5\ttoyota corona hardtop\n",
      "\n",
      "+            25  25\t4\t97.50\t80.00\t2126\t17.0\tdodge colt hardtop\n",
      "\n",
      "-            45  25\t4\t97.00\t54.00\t2254\t23.5\tvolkswagen type 3\n",
      "\n",
      "56.00% correct\n"
     ]
    }
   ],
   "source": [
    "class Classifier:\n",
    "    def __init__(self, filename):\n",
    "        self.medianAndDeviation = []\n",
    "        # reading the data in from the file\n",
    "        f = open(filename)\n",
    "        lines = f.readlines()\n",
    "        f.close()\n",
    "        self.format = lines[0].strip().split('\\t')\n",
    "        self.data = []\n",
    "        for line in lines[1:]:\n",
    "            fields = line.strip().split('\\t')\n",
    "            ignore = []\n",
    "            vector = []\n",
    "            for i in range(len(fields)):\n",
    "                if self.format[i] == 'num':\n",
    "                    vector.append(float(fields[i]))\n",
    "                elif self.format[i] == 'comment':\n",
    "                    ignore.append(fields[i])\n",
    "                elif self.format[i] == 'class':\n",
    "                    classification = fields[i]\n",
    "            self.data.append((classification, vector, ignore))\n",
    "        self.rawData = copy.deepcopy(self.data)\n",
    "        # get length of instance vector\n",
    "        self.vlen = len(self.data[0][1])\n",
    "        # now normalize the data\n",
    "        for i in range(self.vlen):\n",
    "            self.normalizeColumn(i)\n",
    "    \n",
    "    \n",
    "    def getMedian(self, alist):\n",
    "        \"\"\"return median of alist\"\"\"\n",
    "        if alist == []:\n",
    "            return []\n",
    "        blist = sorted(alist)\n",
    "        length = len(alist)\n",
    "        if length % 2 == 1:\n",
    "            return blist[int(((length + 1) / 2) -  1)]\n",
    "        else:\n",
    "            v1 = blist[int(length / 2)]\n",
    "            v2 =blist[(int(length / 2) - 1)]\n",
    "            return (v1 + v2) / 2.0\n",
    "        \n",
    "\n",
    "    def getAbsoluteStandardDeviation(self, alist, median):\n",
    "        \"\"\"given alist and median return absolute standard deviation\"\"\"\n",
    "        sum = 0\n",
    "        for item in alist:\n",
    "            sum += abs(item - median)\n",
    "        return sum / len(alist)\n",
    "\n",
    "\n",
    "    def normalizeColumn(self, columnNumber):\n",
    "        \"\"\"given a column number, normalize that column in self.data\"\"\"\n",
    "        col = [v[1][columnNumber] for v in self.data]\n",
    "        median = self.getMedian(col)\n",
    "        asd = self.getAbsoluteStandardDeviation(col, median)\n",
    "        #print(\"Median: %f   ASD = %f\" % (median, asd))\n",
    "        self.medianAndDeviation.append((median, asd))\n",
    "        for v in self.data:\n",
    "            v[1][columnNumber] = (v[1][columnNumber] - median) / asd\n",
    "\n",
    "\n",
    "    def normalizeVector(self, v):\n",
    "        \"\"\"We have stored the median and asd for each column.\n",
    "        We now use them to normalize vector v\"\"\"\n",
    "        vector = v\n",
    "        for i in range(len(vector)):\n",
    "            (median, asd) = self.medianAndDeviation[i]\n",
    "            vector[i] = (vector[i] - median) / asd\n",
    "        return vector\n",
    "    \n",
    "\n",
    "    def manhattan(self, vector1, vector2):\n",
    "        \"\"\"Computes the Manhattan distance.\"\"\"\n",
    "        return sum(map(lambda v1, v2: abs(v1 - v2), vector1, vector2))\n",
    "\n",
    "\n",
    "    def nearestNeighbor(self, itemVector):\n",
    "        \"\"\"return nearest neighbor to itemVector\"\"\"\n",
    "        return min([ (self.manhattan(itemVector, item[1]), item)\n",
    "                     for item in self.data])\n",
    "    \n",
    "    \n",
    "    def classify(self, itemVector):\n",
    "        \"\"\"Return class we think item Vector is in\"\"\"\n",
    "        return(self.nearestNeighbor(self.normalizeVector(itemVector))[1][0])\n",
    "\n",
    "    \n",
    "def unitTest():\n",
    "    classifier = Classifier('athletesTrainingSet.txt')\n",
    "    br = ('Basketball', [72, 162], ['Brittainey Raven'])\n",
    "    nl = ('Gymnastics', [61, 76], ['Viktoria Komova'])\n",
    "    cl = (\"Basketball\", [74, 190], ['Crystal Langhorne'])\n",
    "    # first check normalize function\n",
    "    brNorm = classifier.normalizeVector(br[1])\n",
    "    nlNorm = classifier.normalizeVector(nl[1])\n",
    "    clNorm = classifier.normalizeVector(cl[1])\n",
    "    assert(brNorm == classifier.data[1][1])\n",
    "    assert(nlNorm == classifier.data[-1][1])\n",
    "    print('normalizeVector fn OK')\n",
    "    # check distance\n",
    "    assert (round(classifier.manhattan(clNorm, classifier.data[1][1]), 5) == 1.16823)\n",
    "    assert(classifier.manhattan(brNorm, classifier.data[1][1]) == 0)\n",
    "    assert(classifier.manhattan(nlNorm, classifier.data[-1][1]) == 0)\n",
    "    print('Manhattan distance fn OK')\n",
    "    # Brittainey Raven's nearest neighbor should be herself\n",
    "    result = classifier.nearestNeighbor(brNorm)\n",
    "    assert(result[1][2]== br[2])\n",
    "    # Nastia Liukin's nearest neighbor should be herself\n",
    "    result = classifier.nearestNeighbor(nlNorm)\n",
    "    assert(result[1][2]== nl[2])\n",
    "    # Crystal Langhorne's nearest neighbor is Jennifer Lacy\"\n",
    "    assert(classifier.nearestNeighbor(clNorm)[1][2][0] == \"Jennifer Lacy\")\n",
    "    print(\"Nearest Neighbor fn OK\")\n",
    "    # Check if classify correctly identifies sports\n",
    "    assert(classifier.classify(br[1]) == 'Basketball')\n",
    "    assert(classifier.classify(cl[1]) == 'Basketball')\n",
    "    assert(classifier.classify(nl[1]) == 'Gymnastics')\n",
    "    print('Classify fn OK')\n",
    "\n",
    "def test(training_filename, test_filename):\n",
    "    \"\"\"Test the classifier on a test set of data\"\"\"\n",
    "    classifier = Classifier(training_filename)\n",
    "    f = open(test_filename)\n",
    "    lines = f.readlines()\n",
    "    f.close()\n",
    "    numCorrect = 0.0\n",
    "    for line in lines:\n",
    "        data = line.strip().split('\\t')\n",
    "        vector = []\n",
    "        classInColumn = -1\n",
    "        for i in range(len(classifier.format)):\n",
    "            if classifier.format[i] == 'num':\n",
    "                vector.append(float(data[i]))\n",
    "            elif classifier.format[i] == 'class':\n",
    "                classInColumn = i\n",
    "        theClass= classifier.classify(vector)\n",
    "        prefix = '-'\n",
    "        if theClass == data[classInColumn]:\n",
    "            # it is correct\n",
    "            numCorrect += 1\n",
    "            prefix = '+'\n",
    "        print(\"%s  %12s  %s\" % (prefix, theClass, line))\n",
    "    print(\"%4.2f%% correct\" % (numCorrect * 100/ len(lines)))\n",
    "    \n",
    "## Here are examples\n",
    "#test('input/athletesTrainingSet.txt', 'input/athletesTestSet.txt') #準確率是 80%\n",
    "#test(\"input/irisTrainingSet.txt\", \"input/irisTestSet.txt\") #準確度 93.33%\n",
    "test(\"input/mpgTrainingSet.txt\", \"input/mpgTestSet.txt\") #準確度 56%"
   ]
  },
  {
   "cell_type": "code",
   "execution_count": null,
   "metadata": {},
   "outputs": [],
   "source": [
    "##有一個身高 73吋 體重 160 磅的人，最有可能的運動\n",
    "cl = Classifier('input/athletesTrainingSet.txt')\n",
    "cl.classify([73, 160])"
   ]
  },
  {
   "cell_type": "code",
   "execution_count": null,
   "metadata": {},
   "outputs": [],
   "source": [
    "##有一個身高 59吋 體重 90 磅的人，最有可能的運動\n",
    "cl.classify([59, 90])"
   ]
  }
 ],
 "metadata": {
  "kernelspec": {
   "display_name": "Python 3",
   "language": "python",
   "name": "python3"
  },
  "language_info": {
   "codemirror_mode": {
    "name": "ipython",
    "version": 3
   },
   "file_extension": ".py",
   "mimetype": "text/x-python",
   "name": "python",
   "nbconvert_exporter": "python",
   "pygments_lexer": "ipython3",
   "version": "3.8.5"
  }
 },
 "nbformat": 4,
 "nbformat_minor": 4
}
