{
 "cells": [
  {
   "cell_type": "code",
   "execution_count": null,
   "id": "9ff087a9",
   "metadata": {},
   "outputs": [],
   "source": [
    "text = \"John is good developer. John is a writer John\"\n",
    "words = text.split(' ')\n",
    "counter = 0\n",
    "\n",
    "for word in words:\n",
    "    if word == \"John\":\n",
    "        counter += 1\n",
    "print(counter)"
   ]
  },
  {
   "cell_type": "code",
   "execution_count": null,
   "id": "9f9bbe23",
   "metadata": {},
   "outputs": [],
   "source": [
    "phone = int()\n",
    "\n",
    "def sony():\n",
    "    global phone\n",
    "    phone = 687962\n",
    "    print (f'Sony\\'s phone number is {phone}')\n",
    "    \n",
    "def juliet():\n",
    "    global phone\n",
    "    phone = 987236\n",
    "    print(f'Juliet\\'s phone number is {phone}')\n",
    "    \n",
    "def harinla():\n",
    "    global phone\n",
    "    phone = 367952\n",
    "    print(f'Harinla\\'s phone number is {phone}')\n",
    "    \n",
    "name = input('Enter a, b, c: ')\n",
    "\n",
    "if name == 'a':\n",
    "    sony()\n",
    "elif name == 'b':\n",
    "    juliet()\n",
    "else:\n",
    "    harinla()"
   ]
  },
  {
   "cell_type": "code",
   "execution_count": null,
   "id": "438c2f0d",
   "metadata": {},
   "outputs": [],
   "source": [
    "for number in range(1005, 1010):\n",
    "    for i in range(2, number):\n",
    "        if number%i == 0:\n",
    "            print('The number {} is not prime'.format(number))\n",
    "            break\n",
    "    else:\n",
    "        print('The number {} is prime'.format(number))"
   ]
  },
  {
   "cell_type": "code",
   "execution_count": null,
   "id": "63e55fcf",
   "metadata": {},
   "outputs": [],
   "source": [
    "for i in range(1, 11):\n",
    "    summation = 0\n",
    "    for j in range(1, i+1):\n",
    "        summation += j\n",
    "    print('Iteration: {} ====> summation: {}'.format(i, summation))"
   ]
  },
  {
   "cell_type": "code",
   "execution_count": null,
   "id": "5f2e6acf",
   "metadata": {},
   "outputs": [],
   "source": [
    "number = int(input('Enter the number: '))\n",
    "factors = []\n",
    "for i in range(1, number+1):\n",
    "    if number%i == 0:\n",
    "        factors.append(i)\n",
    "print('The factors of the number', number, 'are:')\n",
    "print(factors)"
   ]
  },
  {
   "cell_type": "code",
   "execution_count": null,
   "id": "35adccc6",
   "metadata": {},
   "outputs": [],
   "source": [
    "# Profundizando Sistemas Numeración\n",
    "# Decimal\n",
    "a = 10\n",
    "# Binario\n",
    "a = 0b1010\n",
    "# Octal\n",
    "a = 0o12\n",
    "# Hexadecimal\n",
    "a = 0xA\n",
    "print(f'a: {a}')"
   ]
  },
  {
   "cell_type": "code",
   "execution_count": null,
   "id": "a467aee3",
   "metadata": {},
   "outputs": [],
   "source": [
    "# Convertir un tipo entero, incluyendo base\n",
    "# Base Decimal\n",
    "a = int('23', 10)\n",
    "# Base Binario\n",
    "a = int('10111', 2)\n",
    "# Base Octal\n",
    "a = int('27', 8)\n",
    "# Base Hexadecimal\n",
    "a = int('17', 16)\n",
    "# Base 5\n",
    "a = int('344', 5)\n",
    "print(f'a: {a}')"
   ]
  },
  {
   "cell_type": "code",
   "execution_count": null,
   "id": "0db67d4e",
   "metadata": {},
   "outputs": [],
   "source": [
    "# Profundizando en el tipo str\n",
    "\n",
    "# caracteres unicode\n",
    "print('Hola\\u0020Mundo')\n",
    "print('Notación simple:', '\\u0041')\n",
    "print('Notación extendida:','\\U00000041')\n",
    "print('Notación hexadecimal','\\x41')\n",
    "print('Corazón:','\\u2665')\n",
    "print('Cara sonriendo:','\\U0001f600')\n",
    "print('Serpiente:','\\U0001F40D')\n",
    "\n",
    "# Caracteres ascii\n",
    "caracter = chr(65)\n",
    "print('A mayúscula:', caracter)\n",
    "caracter = chr(64)\n",
    "print('Símbolo @:', caracter)\n",
    "caracter = chr(97)\n",
    "print('a minúscula:', caracter)"
   ]
  },
  {
   "cell_type": "code",
   "execution_count": null,
   "id": "c4a4f757",
   "metadata": {},
   "outputs": [],
   "source": [
    "# Profundizando en el tipo str\n",
    "\n",
    "# caracteres bytes\n",
    "caracteres_en_bytes = b'Hola Mundo'\n",
    "print(caracteres_en_bytes)\n",
    "\n",
    "mensaje = b'Universidad Python'\n",
    "print(mensaje[1])\n",
    "print(chr(mensaje[1]))\n",
    "\n",
    "lista_caracteres = mensaje.split()\n",
    "print(lista_caracteres)\n",
    "\n",
    "# Convertir str a bytes\n",
    "string = 'Programación con Python'\n",
    "print('string original:', string)\n",
    "bytes = string.encode('UTF-8')\n",
    "print('bytes codificado:', bytes)\n",
    "# Convertir bytes a str\n",
    "string2 = bytes.decode('UTF-8')\n",
    "print('string decodificado:', string2)\n",
    "print(string == string2)"
   ]
  },
  {
   "cell_type": "code",
   "execution_count": null,
   "id": "dc4bb15f",
   "metadata": {},
   "outputs": [],
   "source": []
  },
  {
   "cell_type": "code",
   "execution_count": null,
   "id": "a69fa62a",
   "metadata": {},
   "outputs": [],
   "source": []
  }
 ],
 "metadata": {
  "kernelspec": {
   "display_name": "Python 3 (ipykernel)",
   "language": "python",
   "name": "python3"
  },
  "language_info": {
   "codemirror_mode": {
    "name": "ipython",
    "version": 3
   },
   "file_extension": ".py",
   "mimetype": "text/x-python",
   "name": "python",
   "nbconvert_exporter": "python",
   "pygments_lexer": "ipython3",
   "version": "3.9.7"
  }
 },
 "nbformat": 4,
 "nbformat_minor": 5
}
