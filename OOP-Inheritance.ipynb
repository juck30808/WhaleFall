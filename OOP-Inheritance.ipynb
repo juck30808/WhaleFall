{
 "cells": [
  {
   "cell_type": "markdown",
   "metadata": {},
   "source": [
    "## Inheritance"
   ]
  },
  {
   "cell_type": "code",
   "execution_count": 2,
   "metadata": {},
   "outputs": [],
   "source": [
    "class myBird:\n",
    "    def __init__(self):\n",
    "        print(\"my Bird class constructor\")\n",
    "        \n",
    "    def whatType(self):\n",
    "        print('I am bird')\n",
    "    def canSwin(self):\n",
    "        print('I can Swim')"
   ]
  },
  {
   "cell_type": "code",
   "execution_count": 3,
   "metadata": {},
   "outputs": [],
   "source": [
    "class myPenguin(myBird):\n",
    "    def __init__(self):\n",
    "        super().__init__()\n",
    "        print('myPenfuin class constructor')\n",
    "    def whoisThis(self):\n",
    "        print('I am Penguin')\n",
    "    def canRun(self):\n",
    "        print('I can Run')"
   ]
  },
  {
   "cell_type": "code",
   "execution_count": 4,
   "metadata": {},
   "outputs": [
    {
     "name": "stdout",
     "output_type": "stream",
     "text": [
      "my Bird class constructor\n",
      "myPenfuin class constructor\n",
      "I am bird\n",
      "I am Penguin\n",
      "I can Swim\n",
      "I can Run\n"
     ]
    }
   ],
   "source": [
    "pg1 = myPenguin()\n",
    "pg1.whatType()\n",
    "pg1.whoisThis()\n",
    "pg1.canSwin()\n",
    "pg1.canRun()"
   ]
  },
  {
   "cell_type": "code",
   "execution_count": 5,
   "metadata": {},
   "outputs": [],
   "source": [
    "class MyParrot:\n",
    "    def canSwin(self):\n",
    "        print('MyParrot can Swim')\n",
    "    def canFly(self):\n",
    "        print('MyParrot can Fly')"
   ]
  },
  {
   "cell_type": "code",
   "execution_count": 6,
   "metadata": {},
   "outputs": [],
   "source": [
    "class MyPenguin:\n",
    "    def canSwin(self):\n",
    "        print('MyPenguin can Swim')\n",
    "    def canFly(self):\n",
    "        print('MyPenguin can Fly')"
   ]
  },
  {
   "cell_type": "code",
   "execution_count": 7,
   "metadata": {},
   "outputs": [],
   "source": [
    "def flying_bird_test(bird):\n",
    "    bird.canFly()\n",
    "    bird.canSwin()"
   ]
  },
  {
   "cell_type": "code",
   "execution_count": 8,
   "metadata": {},
   "outputs": [
    {
     "name": "stdout",
     "output_type": "stream",
     "text": [
      "MyParrot can Fly\n",
      "MyParrot can Swim\n",
      "\n",
      "MyPenguin can Fly\n",
      "MyPenguin can Swim\n"
     ]
    }
   ],
   "source": [
    "bird_parrot = MyParrot()\n",
    "bird_penguin = MyPenguin()\n",
    "\n",
    "flying_bird_test(bird_parrot)\n",
    "print()\n",
    "flying_bird_test(bird_penguin)"
   ]
  },
  {
   "cell_type": "code",
   "execution_count": 9,
   "metadata": {},
   "outputs": [
    {
     "name": "stdout",
     "output_type": "stream",
     "text": [
      "Anita 36\n"
     ]
    }
   ],
   "source": [
    "## Project2\n",
    "class Person:\n",
    "    def __init__(self, name, age):\n",
    "        self.name = name\n",
    "        self.age = age\n",
    "    def display(self):\n",
    "        print(self.name, self.age)\n",
    "\n",
    "p1 = Person(\"Anita\", 36)\n",
    "p1.display()"
   ]
  },
  {
   "cell_type": "code",
   "execution_count": 10,
   "metadata": {},
   "outputs": [],
   "source": [
    "class student(Person):\n",
    "    def __init__(self,name,age):\n",
    "        super().__init__(name, age)"
   ]
  },
  {
   "cell_type": "code",
   "execution_count": 11,
   "metadata": {},
   "outputs": [
    {
     "name": "stdout",
     "output_type": "stream",
     "text": [
      "Kiran 17\n"
     ]
    }
   ],
   "source": [
    "s1=student(\"Kiran\", 17)\n",
    "s1.display()"
   ]
  },
  {
   "cell_type": "markdown",
   "metadata": {},
   "source": [
    "## Multiple Inheritance"
   ]
  },
  {
   "cell_type": "code",
   "execution_count": 33,
   "metadata": {},
   "outputs": [],
   "source": [
    "class Base1:\n",
    "    def funcBase1(self):\n",
    "        print('funcBase1() is executing...')\n",
    "    \n",
    "class Base2:\n",
    "    def funcBase2(self):\n",
    "        print('funcBase2() is executing...')\n",
    "    \n",
    "class Base3:\n",
    "    def funcBase3(self):\n",
    "        print('funcBase3() is executing...')\n",
    "\n",
    "\n",
    "class MutiDerived(Base1,Base2,Base3):\n",
    "    def funcMuti(self):\n",
    "        print('funcMuti')\n",
    "        "
   ]
  },
  {
   "cell_type": "code",
   "execution_count": 35,
   "metadata": {},
   "outputs": [
    {
     "name": "stdout",
     "output_type": "stream",
     "text": [
      "funcBase1() is executing...\n",
      "funcBase2() is executing...\n",
      "funcBase3() is executing...\n",
      "funcMuti\n"
     ]
    }
   ],
   "source": [
    "md1 = MutiDerived()\n",
    "md1.funcBase1()\n",
    "md1.funcBase2()\n",
    "md1.funcBase3()\n",
    "md1.funcMuti()"
   ]
  },
  {
   "cell_type": "code",
   "execution_count": null,
   "metadata": {},
   "outputs": [],
   "source": []
  }
 ],
 "metadata": {
  "kernelspec": {
   "display_name": "Python 3",
   "language": "python",
   "name": "python3"
  },
  "language_info": {
   "codemirror_mode": {
    "name": "ipython",
    "version": 3
   },
   "file_extension": ".py",
   "mimetype": "text/x-python",
   "name": "python",
   "nbconvert_exporter": "python",
   "pygments_lexer": "ipython3",
   "version": "3.8.5"
  }
 },
 "nbformat": 4,
 "nbformat_minor": 5
}
