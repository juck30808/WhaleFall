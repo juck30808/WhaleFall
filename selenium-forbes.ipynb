{
 "cells": [
  {
   "cell_type": "markdown",
   "id": "65d3b088",
   "metadata": {},
   "source": [
    "- 新版 driver https://chromedriver.chromium.org/downloads"
   ]
  },
  {
   "cell_type": "code",
   "execution_count": 1,
   "id": "a5cc50fa",
   "metadata": {},
   "outputs": [],
   "source": [
    "#!pip install selenium"
   ]
  },
  {
   "cell_type": "code",
   "execution_count": 2,
   "id": "e637c139",
   "metadata": {},
   "outputs": [
    {
     "name": "stderr",
     "output_type": "stream",
     "text": [
      "C:\\Users\\CTI110~1\\AppData\\Local\\Temp/ipykernel_16048/2909445131.py:4: DeprecationWarning: executable_path has been deprecated, please pass in a Service object\n",
      "  driver = webdriver.Chrome(executable_path='driver/chromedriver')\n"
     ]
    },
    {
     "name": "stdout",
     "output_type": "stream",
     "text": [
      "PASS\n"
     ]
    }
   ],
   "source": [
    "from selenium import webdriver\n",
    "from selenium.webdriver.common.by import By\n",
    "\n",
    "driver = webdriver.Chrome(executable_path='driver/chromedriver')\n",
    "\n",
    "driver.get('https://www.python.org/')\n",
    "\n",
    "cur_title = driver.title\n",
    "expected_title = 'Welcome to Python.org'\n",
    "\n",
    "if cur_title != expected_title:\n",
    "    raise Exception(\"Went to python.org but got wrong title. Current title: {}\".format(cur_title))\n",
    "\n",
    "pypi_header_link_locator = '#top > nav > ul > li.pypi-meta > a'\n",
    "pypi_header_link_elm = driver.find_element(By.CSS_SELECTOR, pypi_header_link_locator)\n",
    "pypi_header_link_elm.click()\n",
    "\n",
    "\n",
    "cur_url = driver.current_url\n",
    "expected_url = 'https://pypi.org/'\n",
    "assert cur_url == expected_url, f\"Clicked on PyPi but the url opened was: {cur_url}\"\n",
    "print(\"PASS\")\n",
    "# driver.quit()"
   ]
  },
  {
   "cell_type": "code",
   "execution_count": 3,
   "id": "73553765",
   "metadata": {},
   "outputs": [
    {
     "name": "stderr",
     "output_type": "stream",
     "text": [
      "C:\\Users\\CTI110~1\\AppData\\Local\\Temp/ipykernel_16048/2622205081.py:5: DeprecationWarning: executable_path has been deprecated, please pass in a Service object\n",
      "  driver = webdriver.Chrome(executable_path='driver/chromedriver')\n"
     ]
    },
    {
     "name": "stdout",
     "output_type": "stream",
     "text": [
      "PASS\n"
     ]
    }
   ],
   "source": [
    "\n",
    "\n",
    "from selenium import webdriver\n",
    "from selenium.webdriver.common.by import By\n",
    "\n",
    "\n",
    "driver = webdriver.Chrome(executable_path='driver/chromedriver')\n",
    "\n",
    "driver.get('https://www.python.org/')\n",
    "driver.implicitly_wait(10)\n",
    "\n",
    "cur_title = driver.title\n",
    "expected_title = 'Welcome to Python.org'\n",
    "\n",
    "if cur_title != expected_title:\n",
    "    raise Exception(\"Went to python.org but got wrong title. Current title: {}\".format(cur_title))\n",
    "\n",
    "search_field_id = 'id-search-field'\n",
    "search_field_elm = driver.find_element(By.ID, search_field_id)\n",
    "search_field_elm.send_keys('testing')\n",
    "\n",
    "go_btn_id = 'submit'\n",
    "go_btn_elm = driver.find_element(By.ID, go_btn_id)\n",
    "go_btn_elm.click()\n",
    "\n",
    "first_result_xpath = '//*[@id=\"content\"]/div/section/form/ul/li[1]'\n",
    "first_result_elm = driver.find_element(By.XPATH, first_result_xpath)\n",
    "\n",
    "if first_result_elm.is_displayed():\n",
    "    print(\"PASS\")\n",
    "else:\n",
    "    raise Exception(f\"After searching the result is not displayed\")\n",
    "\n",
    "driver.quit()"
   ]
  },
  {
   "cell_type": "code",
   "execution_count": 4,
   "id": "e146d989",
   "metadata": {},
   "outputs": [
    {
     "name": "stderr",
     "output_type": "stream",
     "text": [
      "C:\\Users\\CTI110~1\\AppData\\Local\\Temp/ipykernel_16048/1304271469.py:3: DeprecationWarning: executable_path has been deprecated, please pass in a Service object\n",
      "  browser = webdriver.Chrome(\"driver/chromedriver\")  #driver\n"
     ]
    }
   ],
   "source": [
    "from selenium import webdriver\n",
    "import time\n",
    "browser = webdriver.Chrome(\"driver/chromedriver\")  #driver\n",
    "\n",
    "browser.get(\"https://www.forbes.com/powerful-brands/list/#tab:rank\")\n",
    "#print(browser.page_source)\n",
    "#print(browser.title)\n",
    "\n",
    "browser.fullscreen_window()\n",
    "time.sleep(2)\n",
    "\n",
    "browser.get(\"https://www.forbes.com/companies/apple/?list=powerful-brands#17d8e6c15355\")\n",
    "time.sleep(3)\n",
    "\n",
    "browser.set_window_size(600,400)\n",
    "time.sleep(3)\n",
    "browser.save_screenshot(\"output/forbes.png\")\n",
    "time.sleep(2)\n",
    "\n",
    "browser.back()\n",
    "time.sleep(3)\n",
    "browser.quit()"
   ]
  },
  {
   "cell_type": "code",
   "execution_count": null,
   "id": "4b1d25ab",
   "metadata": {},
   "outputs": [],
   "source": []
  }
 ],
 "metadata": {
  "kernelspec": {
   "display_name": "Python 3 (ipykernel)",
   "language": "python",
   "name": "python3"
  },
  "language_info": {
   "codemirror_mode": {
    "name": "ipython",
    "version": 3
   },
   "file_extension": ".py",
   "mimetype": "text/x-python",
   "name": "python",
   "nbconvert_exporter": "python",
   "pygments_lexer": "ipython3",
   "version": "3.9.7"
  }
 },
 "nbformat": 4,
 "nbformat_minor": 5
}
