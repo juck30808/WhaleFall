{
 "cells": [
  {
   "cell_type": "code",
   "execution_count": 1,
   "id": "3ae35e1b",
   "metadata": {},
   "outputs": [
    {
     "name": "stdout",
     "output_type": "stream",
     "text": [
      "Anita 36\n"
     ]
    }
   ],
   "source": [
    "class Person:\n",
    "    def __init__(self, name, _age):\n",
    "        self.name = name\n",
    "        self._age = _age\n",
    "    def display(self):\n",
    "        print(self.name, self._age)\n",
    "\n",
    "p1 = Person(\"Anita\", 36)\n",
    "p1.display()"
   ]
  },
  {
   "cell_type": "code",
   "execution_count": 2,
   "id": "f01187e3",
   "metadata": {},
   "outputs": [
    {
     "name": "stdout",
     "output_type": "stream",
     "text": [
      "Anita 36\n"
     ]
    }
   ],
   "source": [
    "p1.age=26\n",
    "p1.display()"
   ]
  },
  {
   "cell_type": "code",
   "execution_count": 3,
   "id": "16aca435",
   "metadata": {},
   "outputs": [],
   "source": [
    "class Person:\n",
    "    def __init__(self, name, _age):\n",
    "        self.name = name\n",
    "        self._age = _age\n",
    "    def display(self):\n",
    "        print(self.name, self._age)\n",
    "    def modify_variable(self, new_age):\n",
    "        self._age=new_age"
   ]
  },
  {
   "cell_type": "code",
   "execution_count": 4,
   "id": "36dd4ebe",
   "metadata": {},
   "outputs": [
    {
     "name": "stdout",
     "output_type": "stream",
     "text": [
      "Anita 36\n",
      "Anita 26\n"
     ]
    }
   ],
   "source": [
    "p1 = Person(\"Anita\", 36)\n",
    "p1.display()\n",
    "\n",
    "p1.modify_variable(26)\n",
    "p1.display()\n"
   ]
  },
  {
   "cell_type": "code",
   "execution_count": 1,
   "id": "7d06d900",
   "metadata": {},
   "outputs": [
    {
     "name": "stdout",
     "output_type": "stream",
     "text": [
      "Anita 36\n"
     ]
    }
   ],
   "source": [
    "#P2\n",
    "\n",
    "class Person:\n",
    "    def __init__(self, name, _age):\n",
    "        self.name = name\n",
    "        self._age = _age\n",
    "    def display(self):\n",
    "        print(self.name, self._age)\n",
    "\n",
    "p1 = Person(\"Anita\", 36)\n",
    "p1.display()"
   ]
  },
  {
   "cell_type": "code",
   "execution_count": 2,
   "id": "23703ef9",
   "metadata": {},
   "outputs": [
    {
     "name": "stdout",
     "output_type": "stream",
     "text": [
      "Anita 36\n"
     ]
    }
   ],
   "source": [
    "p1.age=26\n",
    "p1.display()"
   ]
  },
  {
   "cell_type": "code",
   "execution_count": 3,
   "id": "4087abd4",
   "metadata": {},
   "outputs": [],
   "source": [
    "class Person:\n",
    "    def __init__(self, name, _age):\n",
    "        self.name = name\n",
    "        self._age = _age\n",
    "    def display(self):\n",
    "        print(self.name, self._age)\n",
    "    def modify_variable(self, new_age):\n",
    "        self._age=new_age"
   ]
  },
  {
   "cell_type": "code",
   "execution_count": 4,
   "id": "eb774c69",
   "metadata": {},
   "outputs": [
    {
     "name": "stdout",
     "output_type": "stream",
     "text": [
      "Anita 36\n",
      "Anita 26\n"
     ]
    }
   ],
   "source": [
    "p1 = Person(\"Anita\", 36)\n",
    "p1.display()\n",
    "\n",
    "p1.modify_variable(26)\n",
    "p1.display()\n"
   ]
  },
  {
   "cell_type": "code",
   "execution_count": null,
   "id": "df162d44",
   "metadata": {},
   "outputs": [],
   "source": []
  }
 ],
 "metadata": {
  "kernelspec": {
   "display_name": "Python 3 (ipykernel)",
   "language": "python",
   "name": "python3"
  },
  "language_info": {
   "codemirror_mode": {
    "name": "ipython",
    "version": 3
   },
   "file_extension": ".py",
   "mimetype": "text/x-python",
   "name": "python",
   "nbconvert_exporter": "python",
   "pygments_lexer": "ipython3",
   "version": "3.9.7"
  }
 },
 "nbformat": 4,
 "nbformat_minor": 5
}
