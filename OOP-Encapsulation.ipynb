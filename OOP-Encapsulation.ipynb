{
 "cells": [
  {
   "cell_type": "code",
   "execution_count": 1,
   "id": "c987219a",
   "metadata": {},
   "outputs": [
    {
     "name": "stdout",
     "output_type": "stream",
     "text": [
      "Anita 36\n"
     ]
    }
   ],
   "source": [
    "class Person:\n",
    "    def __init__(self, name, _age):\n",
    "        self.name = name\n",
    "        self._age = _age\n",
    "    def display(self):\n",
    "        print(self.name, self._age)\n",
    "\n",
    "p1 = Person(\"Anita\", 36)\n",
    "p1.display()"
   ]
  },
  {
   "cell_type": "code",
   "execution_count": 2,
   "id": "b6403caf",
   "metadata": {},
   "outputs": [
    {
     "name": "stdout",
     "output_type": "stream",
     "text": [
      "Anita 36\n"
     ]
    }
   ],
   "source": [
    "p1.age=26\n",
    "p1.display()"
   ]
  },
  {
   "cell_type": "code",
   "execution_count": 3,
   "id": "f53359ee",
   "metadata": {},
   "outputs": [],
   "source": [
    "class Person:\n",
    "    def __init__(self, name, _age):\n",
    "        self.name = name\n",
    "        self._age = _age\n",
    "    def display(self):\n",
    "        print(self.name, self._age)\n",
    "    def modify_variable(self, new_age):\n",
    "        self._age=new_age"
   ]
  },
  {
   "cell_type": "code",
   "execution_count": 4,
   "id": "ea2545fd",
   "metadata": {},
   "outputs": [
    {
     "name": "stdout",
     "output_type": "stream",
     "text": [
      "Anita 36\n",
      "Anita 26\n"
     ]
    }
   ],
   "source": [
    "p1 = Person(\"Anita\", 36)\n",
    "p1.display()\n",
    "\n",
    "p1.modify_variable(26)\n",
    "p1.display()\n"
   ]
  },
  {
   "cell_type": "code",
   "execution_count": null,
   "id": "42393ba1",
   "metadata": {},
   "outputs": [],
   "source": []
  }
 ],
 "metadata": {
  "kernelspec": {
   "display_name": "Python 3 (ipykernel)",
   "language": "python",
   "name": "python3"
  },
  "language_info": {
   "codemirror_mode": {
    "name": "ipython",
    "version": 3
   },
   "file_extension": ".py",
   "mimetype": "text/x-python",
   "name": "python",
   "nbconvert_exporter": "python",
   "pygments_lexer": "ipython3",
   "version": "3.8.8"
  }
 },
 "nbformat": 4,
 "nbformat_minor": 5
}
