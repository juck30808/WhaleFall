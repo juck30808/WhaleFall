{
 "cells": [
  {
   "cell_type": "code",
   "execution_count": 10,
   "id": "06a204b6",
   "metadata": {},
   "outputs": [],
   "source": [
    "import pandas as pd\n",
    "import numpy as np"
   ]
  },
  {
   "cell_type": "markdown",
   "id": "93f6c016",
   "metadata": {},
   "source": [
    "## Reindex - How To Reindex Pandas Objects"
   ]
  },
  {
   "cell_type": "code",
   "execution_count": 9,
   "id": "54748f76",
   "metadata": {},
   "outputs": [
    {
     "data": {
      "text/plain": [
       "a    1.0\n",
       "b    2.0\n",
       "c    3.0\n",
       "d    6.0\n",
       "e    NaN\n",
       "dtype: float64"
      ]
     },
     "execution_count": 9,
     "metadata": {},
     "output_type": "execute_result"
    }
   ],
   "source": [
    "ob = pd.Series([1, 2, 3, 6], index=['a', 'b', 'c', 'd'])\n",
    "\n",
    "ob\n",
    "ob.reindex(index=['a', 'b', 'c', 'd', 'e'])   #NaN -> float"
   ]
  },
  {
   "cell_type": "code",
   "execution_count": 14,
   "id": "70e4d9f2",
   "metadata": {},
   "outputs": [
    {
     "data": {
      "text/plain": [
       "0    1\n",
       "1    2\n",
       "2    3\n",
       "3    3\n",
       "4    3\n",
       "5    3\n",
       "dtype: int64"
      ]
     },
     "execution_count": 14,
     "metadata": {},
     "output_type": "execute_result"
    }
   ],
   "source": [
    "ob2 = pd.Series([1, 2, 3], index = [0, 1, 2])\n",
    "\n",
    "ob2\n",
    "ob2.reindex(index=np.arange(6))   #1,2,3,NaN,NaN,NaN\n",
    "ob2.reindex(index=np.arange(6), method = 'ffill')  #NaN fill"
   ]
  },
  {
   "cell_type": "code",
   "execution_count": 24,
   "id": "90e47e67",
   "metadata": {},
   "outputs": [
    {
     "data": {
      "text/html": [
       "<div>\n",
       "<style scoped>\n",
       "    .dataframe tbody tr th:only-of-type {\n",
       "        vertical-align: middle;\n",
       "    }\n",
       "\n",
       "    .dataframe tbody tr th {\n",
       "        vertical-align: top;\n",
       "    }\n",
       "\n",
       "    .dataframe thead th {\n",
       "        text-align: right;\n",
       "    }\n",
       "</style>\n",
       "<table border=\"1\" class=\"dataframe\">\n",
       "  <thead>\n",
       "    <tr style=\"text-align: right;\">\n",
       "      <th></th>\n",
       "      <th>Andhra</th>\n",
       "      <th>Tamilnadu</th>\n",
       "      <th>Kerala</th>\n",
       "      <th>Telangana</th>\n",
       "    </tr>\n",
       "  </thead>\n",
       "  <tbody>\n",
       "    <tr>\n",
       "      <th>a</th>\n",
       "      <td>0</td>\n",
       "      <td>1</td>\n",
       "      <td>2</td>\n",
       "      <td>NaN</td>\n",
       "    </tr>\n",
       "    <tr>\n",
       "      <th>b</th>\n",
       "      <td>3</td>\n",
       "      <td>4</td>\n",
       "      <td>5</td>\n",
       "      <td>NaN</td>\n",
       "    </tr>\n",
       "    <tr>\n",
       "      <th>c</th>\n",
       "      <td>6</td>\n",
       "      <td>7</td>\n",
       "      <td>8</td>\n",
       "      <td>NaN</td>\n",
       "    </tr>\n",
       "  </tbody>\n",
       "</table>\n",
       "</div>"
      ],
      "text/plain": [
       "   Andhra  Tamilnadu  Kerala  Telangana\n",
       "a       0          1       2        NaN\n",
       "b       3          4       5        NaN\n",
       "c       6          7       8        NaN"
      ]
     },
     "execution_count": 24,
     "metadata": {},
     "output_type": "execute_result"
    }
   ],
   "source": [
    "ob3 = pd.DataFrame(np.arange(9).reshape((3, 3)), index=['a', 'b', 'c'], columns=['Andhra', 'Tamilnadu', 'Kerala'])\n",
    "\n",
    "ob3\n",
    "ob3.reindex(index=['a', 'b', 'c', 'd'])\n",
    "ob3.reindex(columns=['Andhra', 'Tamilnadu', 'Kerala', 'Telangana'])"
   ]
  },
  {
   "cell_type": "code",
   "execution_count": null,
   "id": "0b2b1265",
   "metadata": {},
   "outputs": [],
   "source": []
  }
 ],
 "metadata": {
  "kernelspec": {
   "display_name": "Python 3 (ipykernel)",
   "language": "python",
   "name": "python3"
  },
  "language_info": {
   "codemirror_mode": {
    "name": "ipython",
    "version": 3
   },
   "file_extension": ".py",
   "mimetype": "text/x-python",
   "name": "python",
   "nbconvert_exporter": "python",
   "pygments_lexer": "ipython3",
   "version": "3.9.7"
  }
 },
 "nbformat": 4,
 "nbformat_minor": 5
}
