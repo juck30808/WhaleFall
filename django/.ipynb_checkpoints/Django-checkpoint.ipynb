{
 "cells": [
  {
   "cell_type": "code",
   "execution_count": 1,
   "id": "e0fd4ebc",
   "metadata": {},
   "outputs": [],
   "source": [
    "# pip install django"
   ]
  },
  {
   "cell_type": "markdown",
   "id": "09987b91",
   "metadata": {},
   "source": [
    "## start the project\n",
    "- Made a my_portfolio fold\n",
    "- includ: manage.py and my_portfolio.fold"
   ]
  },
  {
   "cell_type": "code",
   "execution_count": null,
   "id": "c03f0272",
   "metadata": {},
   "outputs": [],
   "source": [
    "# cmd\n",
    "# cd /Users/juck30808/Documents/GitHub/WhaleFall/-django/my_portfolio\n",
    "# django-admin startproject my_portfolio"
   ]
  },
  {
   "cell_type": "markdown",
   "id": "008ec87c",
   "metadata": {},
   "source": [
    "## Django use cmd to controll"
   ]
  },
  {
   "cell_type": "code",
   "execution_count": null,
   "id": "1b8ec89d",
   "metadata": {},
   "outputs": [],
   "source": [
    "# cmd\n",
    "# python manage.py runserver\n",
    "# python manage.py startapp courses"
   ]
  },
  {
   "cell_type": "markdown",
   "id": "77a45d9d",
   "metadata": {},
   "source": [
    "## apps.py include coursesConfig Function"
   ]
  },
  {
   "cell_type": "code",
   "execution_count": null,
   "id": "b8c06f34",
   "metadata": {},
   "outputs": [],
   "source": [
    "# from django.apps import AppConfig\n",
    "\n",
    "# class CoursesConfig(AppConfig):\n",
    "#     default_auto_field = 'django.db.models.BigAutoField'\n",
    "#     name = 'courses'\n"
   ]
  },
  {
   "cell_type": "markdown",
   "id": "6e600084",
   "metadata": {},
   "source": [
    "## setting.py  update"
   ]
  },
  {
   "cell_type": "code",
   "execution_count": null,
   "id": "d328d7e7",
   "metadata": {},
   "outputs": [],
   "source": [
    "# INSTALLED_APPS = [\n",
    "#     'courses.app.CoursesConfig'\n",
    "#     'django.contrib.admin',\n",
    "#     'django.contrib.auth',\n",
    "#     'django.contrib.contenttypes',\n",
    "#     'django.contrib.sessions',\n",
    "#     'django.contrib.messages',\n",
    "#     'django.contrib.staticfiles',\n",
    "# ]\n",
    "\n",
    "\n",
    "DATABASES = {\n",
    "    'default': {\n",
    "        'ENGINE': 'django.db.backends.postgresql',\n",
    "        #'NAME': BASE_DIR / 'db.sqlite3',\n",
    "        'NAME': 'portfoliodb',\n",
    "        'USER': 'postgres',\n",
    "        'PASSWORD': '8521',\n",
    "        'HOST': 'localhost',\n",
    "        'PORT': '5432'\n",
    "    }\n",
    "}"
   ]
  },
  {
   "cell_type": "markdown",
   "id": "4ccf5503",
   "metadata": {},
   "source": [
    "## manage.py"
   ]
  },
  {
   "cell_type": "code",
   "execution_count": null,
   "id": "11b5c40c",
   "metadata": {},
   "outputs": [],
   "source": [
    "# cmd run\n",
    "# python manage.py migrate\n",
    "# python manage.py runserver"
   ]
  },
  {
   "cell_type": "code",
   "execution_count": null,
   "id": "29a2173a",
   "metadata": {},
   "outputs": [],
   "source": []
  }
 ],
 "metadata": {
  "kernelspec": {
   "display_name": "Python 3 (ipykernel)",
   "language": "python",
   "name": "python3"
  },
  "language_info": {
   "codemirror_mode": {
    "name": "ipython",
    "version": 3
   },
   "file_extension": ".py",
   "mimetype": "text/x-python",
   "name": "python",
   "nbconvert_exporter": "python",
   "pygments_lexer": "ipython3",
   "version": "3.8.8"
  }
 },
 "nbformat": 4,
 "nbformat_minor": 5
}
