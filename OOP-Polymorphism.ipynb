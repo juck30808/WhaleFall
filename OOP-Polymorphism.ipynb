{
 "cells": [
  {
   "cell_type": "code",
   "execution_count": 1,
   "id": "f882e337",
   "metadata": {},
   "outputs": [],
   "source": [
    "class SBI:\n",
    "    def rate_of_interest(self):\n",
    "        return 8\n",
    "\n",
    "class ICICI:\n",
    "    def rate_of_interest(self):\n",
    "        return 4\n",
    "\n",
    "class HDFC:\n",
    "    def rate_of_interest(self):\n",
    "        return 7"
   ]
  },
  {
   "cell_type": "code",
   "execution_count": 2,
   "id": "c258aeed",
   "metadata": {},
   "outputs": [],
   "source": [
    "def common_interest(bank):\n",
    "    return bank.rate_of_interest()"
   ]
  },
  {
   "cell_type": "code",
   "execution_count": 3,
   "id": "fb6b0e08",
   "metadata": {},
   "outputs": [],
   "source": [
    "s  = SBI()\n",
    "ic = ICICI()\n",
    "h  = HDFC()"
   ]
  },
  {
   "cell_type": "code",
   "execution_count": 4,
   "id": "6ae9b6c9",
   "metadata": {},
   "outputs": [
    {
     "data": {
      "text/plain": [
       "8"
      ]
     },
     "execution_count": 4,
     "metadata": {},
     "output_type": "execute_result"
    }
   ],
   "source": [
    "common_interest(s)"
   ]
  },
  {
   "cell_type": "code",
   "execution_count": 5,
   "id": "832c9ab9",
   "metadata": {},
   "outputs": [
    {
     "data": {
      "text/plain": [
       "4"
      ]
     },
     "execution_count": 5,
     "metadata": {},
     "output_type": "execute_result"
    }
   ],
   "source": [
    "common_interest(ic)"
   ]
  },
  {
   "cell_type": "code",
   "execution_count": 6,
   "id": "b613c129",
   "metadata": {},
   "outputs": [
    {
     "data": {
      "text/plain": [
       "7"
      ]
     },
     "execution_count": 6,
     "metadata": {},
     "output_type": "execute_result"
    }
   ],
   "source": [
    "common_interest(h)"
   ]
  },
  {
   "cell_type": "code",
   "execution_count": null,
   "id": "ec8d5fbc",
   "metadata": {},
   "outputs": [],
   "source": []
  }
 ],
 "metadata": {
  "kernelspec": {
   "display_name": "Python 3 (ipykernel)",
   "language": "python",
   "name": "python3"
  },
  "language_info": {
   "codemirror_mode": {
    "name": "ipython",
    "version": 3
   },
   "file_extension": ".py",
   "mimetype": "text/x-python",
   "name": "python",
   "nbconvert_exporter": "python",
   "pygments_lexer": "ipython3",
   "version": "3.8.8"
  }
 },
 "nbformat": 4,
 "nbformat_minor": 5
}
