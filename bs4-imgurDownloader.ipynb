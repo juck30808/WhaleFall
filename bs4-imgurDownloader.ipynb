{
 "cells": [
  {
   "cell_type": "code",
   "execution_count": 2,
   "metadata": {},
   "outputs": [],
   "source": [
    "import os\n",
    "import requests\n",
    "import bs4\n",
    "\n",
    "def downloader(query, max_save, output_path):\n",
    "    # create imgur search url\n",
    "    searchUrl = 'https://imgur.com/search'\n",
    "    queryUrl = searchUrl+'?q='+query\n",
    "\n",
    "    # set up output_path\n",
    "    abs_output_path = os.path.abspath(output_path)\n",
    "    os.makedirs(abs_output_path, exist_ok=True)\n",
    "\n",
    "    # Make request to imgur with query\n",
    "    res1 = requests.get(queryUrl)\n",
    "\n",
    "    try:\n",
    "        res1.raise_for_status()\n",
    "\n",
    "        # parse res.text with bs4 to images\n",
    "        imugurSoup = bs4.BeautifulSoup(res1.text, 'html.parser')\n",
    "        images = imugurSoup.select('.image-list-link img')\n",
    "\n",
    "        # extract number image urls\n",
    "        num_to_save = min(max_save, len(images))\n",
    "        download_links = ['https:'+img.get('src') for img in images[:num_to_save]]\n",
    "\n",
    "        # make requests for extracted url\n",
    "        for link in download_links:\n",
    "\n",
    "            # request image link from imgur\n",
    "            res2 = requests.get(link)\n",
    "\n",
    "            try:\n",
    "                res2.raise_for_status()\n",
    "                \n",
    "                # save to file with url base name in folder results\n",
    "                imgFile = open(os.path.join(abs_output_path, os.path.basename(link)), 'wb')\n",
    "                for chunk in res2.iter_content(100000):\n",
    "                    imgFile.write(chunk)\n",
    "                imgFile.close()\n",
    "\n",
    "            except Exception as exc:\n",
    "                print('There was a problem: %s' % (exc))\n",
    "\n",
    "    except Exception as exc:\n",
    "        print('There was a problem: %s' % (exc))\n",
    "    \n",
    "if __name__ == '__main__':\n",
    "    downloader('messi', 10, 'input/results')"
   ]
  },
  {
   "cell_type": "code",
   "execution_count": null,
   "metadata": {},
   "outputs": [],
   "source": []
  }
 ],
 "metadata": {
  "kernelspec": {
   "display_name": "Python 3",
   "language": "python",
   "name": "python3"
  },
  "language_info": {
   "codemirror_mode": {
    "name": "ipython",
    "version": 3
   },
   "file_extension": ".py",
   "mimetype": "text/x-python",
   "name": "python",
   "nbconvert_exporter": "python",
   "pygments_lexer": "ipython3",
   "version": "3.8.5"
  }
 },
 "nbformat": 4,
 "nbformat_minor": 4
}
