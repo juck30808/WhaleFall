{
 "cells": [
  {
   "cell_type": "code",
   "execution_count": 1,
   "id": "7f997532",
   "metadata": {},
   "outputs": [
    {
     "name": "stdout",
     "output_type": "stream",
     "text": [
      "First Result\n",
      "20\n"
     ]
    },
    {
     "ename": "StopIteration",
     "evalue": "",
     "output_type": "error",
     "traceback": [
      "\u001b[1;31m---------------------------------------------------------------------------\u001b[0m",
      "\u001b[1;31mStopIteration\u001b[0m                             Traceback (most recent call last)",
      "\u001b[1;32m~\\AppData\\Local\\Temp/ipykernel_7928/1863669680.py\u001b[0m in \u001b[0;36m<module>\u001b[1;34m\u001b[0m\n\u001b[0;32m     15\u001b[0m \u001b[0mgen1\u001b[0m \u001b[1;33m=\u001b[0m \u001b[0mnewGenerator\u001b[0m\u001b[1;33m(\u001b[0m\u001b[1;33m)\u001b[0m\u001b[1;33m\u001b[0m\u001b[1;33m\u001b[0m\u001b[0m\n\u001b[0;32m     16\u001b[0m \u001b[0mprint\u001b[0m\u001b[1;33m(\u001b[0m\u001b[0mnext\u001b[0m\u001b[1;33m(\u001b[0m\u001b[0mgen1\u001b[0m\u001b[1;33m)\u001b[0m\u001b[1;33m)\u001b[0m\u001b[1;33m\u001b[0m\u001b[1;33m\u001b[0m\u001b[0m\n\u001b[1;32m---> 17\u001b[1;33m \u001b[0mprint\u001b[0m\u001b[1;33m(\u001b[0m\u001b[0mnext\u001b[0m\u001b[1;33m(\u001b[0m\u001b[0mgen1\u001b[0m\u001b[1;33m)\u001b[0m\u001b[1;33m)\u001b[0m\u001b[1;33m\u001b[0m\u001b[1;33m\u001b[0m\u001b[0m\n\u001b[0m\u001b[0;32m     18\u001b[0m \u001b[0mprint\u001b[0m\u001b[1;33m(\u001b[0m\u001b[0mnext\u001b[0m\u001b[1;33m(\u001b[0m\u001b[0mgen1\u001b[0m\u001b[1;33m)\u001b[0m\u001b[1;33m)\u001b[0m\u001b[1;33m\u001b[0m\u001b[1;33m\u001b[0m\u001b[0m\n\u001b[0;32m     19\u001b[0m \u001b[1;33m\u001b[0m\u001b[0m\n",
      "\u001b[1;31mStopIteration\u001b[0m: "
     ]
    }
   ],
   "source": [
    "# Building a simple generator function.\n",
    "def newGenerator():\n",
    "    print(\"First Result\")\n",
    "    yield 20\n",
    "\n",
    "    return\n",
    "\n",
    "    print(\"Second Result\")\n",
    "    yield 40\n",
    "\n",
    "    print(\"Last Result\")\n",
    "    yield 60\n",
    "\n",
    "# return values for each yield\n",
    "gen1 = newGenerator()\n",
    "print(next(gen1)) \n",
    "print(next(gen1)) \n",
    "print(next(gen1)) \n",
    "\n"
   ]
  },
  {
   "cell_type": "code",
   "execution_count": 2,
   "id": "837f7e83",
   "metadata": {},
   "outputs": [
    {
     "name": "stdout",
     "output_type": "stream",
     "text": [
      "0\n",
      "1\n",
      "2\n",
      "3\n"
     ]
    },
    {
     "ename": "StopIteration",
     "evalue": "",
     "output_type": "error",
     "traceback": [
      "\u001b[1;31m---------------------------------------------------------------------------\u001b[0m",
      "\u001b[1;31mStopIteration\u001b[0m                             Traceback (most recent call last)",
      "\u001b[1;32m~\\AppData\\Local\\Temp/ipykernel_7928/1107164606.py\u001b[0m in \u001b[0;36m<module>\u001b[1;34m\u001b[0m\n\u001b[0;32m     12\u001b[0m \u001b[0mprint\u001b[0m\u001b[1;33m(\u001b[0m\u001b[0mnext\u001b[0m\u001b[1;33m(\u001b[0m\u001b[0mnewSeq\u001b[0m\u001b[1;33m)\u001b[0m\u001b[1;33m)\u001b[0m \u001b[1;31m# 2\u001b[0m\u001b[1;33m\u001b[0m\u001b[1;33m\u001b[0m\u001b[0m\n\u001b[0;32m     13\u001b[0m \u001b[0mprint\u001b[0m\u001b[1;33m(\u001b[0m\u001b[0mnext\u001b[0m\u001b[1;33m(\u001b[0m\u001b[0mnewSeq\u001b[0m\u001b[1;33m)\u001b[0m\u001b[1;33m)\u001b[0m \u001b[1;31m# 3\u001b[0m\u001b[1;33m\u001b[0m\u001b[1;33m\u001b[0m\u001b[0m\n\u001b[1;32m---> 14\u001b[1;33m \u001b[0mprint\u001b[0m\u001b[1;33m(\u001b[0m\u001b[0mnext\u001b[0m\u001b[1;33m(\u001b[0m\u001b[0mnewSeq\u001b[0m\u001b[1;33m)\u001b[0m\u001b[1;33m)\u001b[0m \u001b[1;31m# StopIteration\u001b[0m\u001b[1;33m\u001b[0m\u001b[1;33m\u001b[0m\u001b[0m\n\u001b[0m",
      "\u001b[1;31mStopIteration\u001b[0m: "
     ]
    }
   ],
   "source": [
    "# Using generator with For Loop\n",
    "def upTo(i):\n",
    "    for x in range(i):\n",
    "        yield x\n",
    "\n",
    "\n",
    "# get a sequence up to \n",
    "newSeq = upTo(4)\n",
    "\n",
    "print(next(newSeq)) # 0\n",
    "print(next(newSeq)) # 1\n",
    "print(next(newSeq)) # 2\n",
    "print(next(newSeq)) # 3\n",
    "print(next(newSeq)) # StopIteration"
   ]
  },
  {
   "cell_type": "code",
   "execution_count": 3,
   "id": "20c9f9b3",
   "metadata": {},
   "outputs": [
    {
     "name": "stdout",
     "output_type": "stream",
     "text": [
      "0\n",
      "1\n",
      "4\n",
      "9\n",
      "16\n",
      "25\n"
     ]
    }
   ],
   "source": [
    "# Yielding the square of a number\n",
    "def squaredSequence(i):\n",
    "    for x in range(i):\n",
    "        yield x * x\n",
    "\n",
    "\n",
    "newGenera = squaredSequence(6)\n",
    "# while True:\n",
    "#     try:\n",
    "#         print(\"Received on next(): \", next(newGenera))\n",
    "#     except StopIteration:\n",
    "#         break\n",
    "for square in newGenera:\n",
    "    print(square)\n"
   ]
  },
  {
   "cell_type": "code",
   "execution_count": 4,
   "id": "f6e53726",
   "metadata": {},
   "outputs": [
    {
     "name": "stdout",
     "output_type": "stream",
     "text": [
      "5\n"
     ]
    }
   ],
   "source": [
    "# short way to create a generator function using expression\n",
    "# squared = (i * i for i in range(4))\n",
    "\n",
    "# print(next(squared))\n",
    "# print(next(squared))\n",
    "# print(next(squared))\n",
    "# print(next(squared))\n",
    "# print(next(squared))\n",
    "\n",
    "# generator expression passed in a function\n",
    "import math\n",
    "print(sum(y * y for y in range(3)))"
   ]
  },
  {
   "cell_type": "markdown",
   "id": "d50ca539",
   "metadata": {},
   "source": [
    "## Iterator"
   ]
  },
  {
   "cell_type": "code",
   "execution_count": 5,
   "id": "917f1e56",
   "metadata": {},
   "outputs": [
    {
     "name": "stdout",
     "output_type": "stream",
     "text": [
      "Lemon\n",
      "Orange\n",
      "Banana\n"
     ]
    }
   ],
   "source": [
    "# Iterator from a fruits tuple and print values\n",
    "fruitstup = (\"Lemon\", \"Orange\", \"Banana\")\n",
    "newit = iter(fruitstup)\n",
    "\n",
    "# Printing each value from fruitstup\n",
    "print(next(newit))  # Lemon\n",
    "print(next(newit))  # Orange\n",
    "print(next(newit))  # Banana"
   ]
  },
  {
   "cell_type": "code",
   "execution_count": 6,
   "id": "fd2f71ac",
   "metadata": {},
   "outputs": [
    {
     "name": "stdout",
     "output_type": "stream",
     "text": [
      "O\n",
      "r\n",
      "a\n",
      "n\n",
      "g\n",
      "e\n"
     ]
    }
   ],
   "source": [
    "# iterator from a fruit string and print characters\n",
    "fruitstr = \"Orange\"\n",
    "newit = iter(fruitstr)\n",
    "\n",
    "print(next(newit)) # O\n",
    "print(next(newit)) # r\n",
    "print(next(newit)) # a\n",
    "print(next(newit)) # n\n",
    "print(next(newit)) # g\n",
    "print(next(newit)) # e"
   ]
  },
  {
   "cell_type": "code",
   "execution_count": 7,
   "id": "75e8e9a6",
   "metadata": {},
   "outputs": [
    {
     "name": "stdout",
     "output_type": "stream",
     "text": [
      "O\n",
      "r\n",
      "a\n",
      "n\n",
      "g\n",
      "e\n"
     ]
    }
   ],
   "source": [
    "# Iterator from a fruits tuple and print values\n",
    "# fruitstup = (\"Lemon\", \"Orange\", \"Banana\")\n",
    "\n",
    "# # loop to iterate through fruitstup \n",
    "# for i in fruitstup:\n",
    "#     print(i)\n",
    "\n",
    "\n",
    "# iterator from a fruit string and print characters\n",
    "fruitstr = \"Orange\"\n",
    "\n",
    "# loop to iterate through fruitstup\n",
    "for i in fruitstr:\n",
    "    print(i)"
   ]
  },
  {
   "cell_type": "code",
   "execution_count": 8,
   "id": "f9607b80",
   "metadata": {},
   "outputs": [
    {
     "name": "stdout",
     "output_type": "stream",
     "text": [
      "1\n",
      "2\n",
      "3\n",
      "4\n",
      "5\n",
      "6\n",
      "7\n"
     ]
    }
   ],
   "source": [
    "# Build iterator to return numbers, start from 1, and +1 each sequence\n",
    "class NewNumbers:\n",
    "    def __iter__(self):\n",
    "        self.a = 1\n",
    "        return self\n",
    "    def __next__(self):\n",
    "        x = self.a\n",
    "        self.a += 1\n",
    "        return x\n",
    "\n",
    "# Create Object based on NewNumbers class\n",
    "newclass = NewNumbers()\n",
    "newiter = iter(newclass)\n",
    "\n",
    "# Iterate over numbers\n",
    "print(next(newiter))\n",
    "print(next(newiter))\n",
    "print(next(newiter))\n",
    "print(next(newiter))\n",
    "print(next(newiter))\n",
    "print(next(newiter))\n",
    "print(next(newiter))"
   ]
  },
  {
   "cell_type": "code",
   "execution_count": 9,
   "id": "7047ff76",
   "metadata": {},
   "outputs": [
    {
     "name": "stdout",
     "output_type": "stream",
     "text": [
      "1\n",
      "2\n",
      "3\n",
      "4\n",
      "5\n",
      "6\n",
      "7\n",
      "8\n",
      "9\n",
      "10\n",
      "11\n",
      "12\n",
      "13\n",
      "14\n",
      "15\n",
      "16\n",
      "17\n"
     ]
    },
    {
     "ename": "StopIteration",
     "evalue": "",
     "output_type": "error",
     "traceback": [
      "\u001b[1;31m---------------------------------------------------------------------------\u001b[0m",
      "\u001b[1;31mStopIteration\u001b[0m                             Traceback (most recent call last)",
      "\u001b[1;32m~\\AppData\\Local\\Temp/ipykernel_7928/3700090453.py\u001b[0m in \u001b[0;36m<module>\u001b[1;34m\u001b[0m\n\u001b[0;32m     36\u001b[0m \u001b[0mprint\u001b[0m\u001b[1;33m(\u001b[0m\u001b[0mnext\u001b[0m\u001b[1;33m(\u001b[0m\u001b[0mnewiter\u001b[0m\u001b[1;33m)\u001b[0m\u001b[1;33m)\u001b[0m\u001b[1;33m\u001b[0m\u001b[1;33m\u001b[0m\u001b[0m\n\u001b[0;32m     37\u001b[0m \u001b[0mprint\u001b[0m\u001b[1;33m(\u001b[0m\u001b[0mnext\u001b[0m\u001b[1;33m(\u001b[0m\u001b[0mnewiter\u001b[0m\u001b[1;33m)\u001b[0m\u001b[1;33m)\u001b[0m\u001b[1;33m\u001b[0m\u001b[1;33m\u001b[0m\u001b[0m\n\u001b[1;32m---> 38\u001b[1;33m \u001b[0mprint\u001b[0m\u001b[1;33m(\u001b[0m\u001b[0mnext\u001b[0m\u001b[1;33m(\u001b[0m\u001b[0mnewiter\u001b[0m\u001b[1;33m)\u001b[0m\u001b[1;33m)\u001b[0m\u001b[1;33m\u001b[0m\u001b[1;33m\u001b[0m\u001b[0m\n\u001b[0m",
      "\u001b[1;32m~\\AppData\\Local\\Temp/ipykernel_7928/3700090453.py\u001b[0m in \u001b[0;36m__next__\u001b[1;34m(self)\u001b[0m\n\u001b[0;32m     10\u001b[0m             \u001b[1;32mreturn\u001b[0m \u001b[0mx\u001b[0m\u001b[1;33m\u001b[0m\u001b[1;33m\u001b[0m\u001b[0m\n\u001b[0;32m     11\u001b[0m         \u001b[1;32melse\u001b[0m\u001b[1;33m:\u001b[0m\u001b[1;33m\u001b[0m\u001b[1;33m\u001b[0m\u001b[0m\n\u001b[1;32m---> 12\u001b[1;33m             \u001b[1;32mraise\u001b[0m \u001b[0mStopIteration\u001b[0m\u001b[1;33m\u001b[0m\u001b[1;33m\u001b[0m\u001b[0m\n\u001b[0m\u001b[0;32m     13\u001b[0m \u001b[1;33m\u001b[0m\u001b[0m\n\u001b[0;32m     14\u001b[0m \u001b[1;31m# Create Object based on NewNumbers class\u001b[0m\u001b[1;33m\u001b[0m\u001b[1;33m\u001b[0m\u001b[0m\n",
      "\u001b[1;31mStopIteration\u001b[0m: "
     ]
    }
   ],
   "source": [
    "# Build iterator to return numbers, start from 1, and +1 each sequence\n",
    "class NewNumbers:\n",
    "    def __iter__(self):\n",
    "        self.a = 1\n",
    "        return self\n",
    "    def __next__(self):\n",
    "        if self.a <= 17:\n",
    "            x = self.a\n",
    "            self.a += 1\n",
    "            return x\n",
    "        else:\n",
    "            raise StopIteration\n",
    "\n",
    "# Create Object based on NewNumbers class\n",
    "newclass = NewNumbers()\n",
    "newiter = iter(newclass)\n",
    "\n",
    "# Displaying values one by one\n",
    "# for x in newiter:\n",
    "#     print(x)\n",
    "print(next(newiter))\n",
    "print(next(newiter))\n",
    "print(next(newiter))\n",
    "print(next(newiter))\n",
    "print(next(newiter))\n",
    "print(next(newiter))\n",
    "print(next(newiter))\n",
    "print(next(newiter))\n",
    "print(next(newiter))\n",
    "print(next(newiter))\n",
    "print(next(newiter))\n",
    "print(next(newiter))\n",
    "print(next(newiter))\n",
    "print(next(newiter))\n",
    "print(next(newiter))\n",
    "print(next(newiter))\n",
    "print(next(newiter))\n",
    "print(next(newiter))\n"
   ]
  },
  {
   "cell_type": "code",
   "execution_count": null,
   "id": "d2e3c57b",
   "metadata": {},
   "outputs": [],
   "source": []
  }
 ],
 "metadata": {
  "kernelspec": {
   "display_name": "Python 3 (ipykernel)",
   "language": "python",
   "name": "python3"
  },
  "language_info": {
   "codemirror_mode": {
    "name": "ipython",
    "version": 3
   },
   "file_extension": ".py",
   "mimetype": "text/x-python",
   "name": "python",
   "nbconvert_exporter": "python",
   "pygments_lexer": "ipython3",
   "version": "3.9.7"
  }
 },
 "nbformat": 4,
 "nbformat_minor": 5
}
