{
 "cells": [
  {
   "cell_type": "code",
   "execution_count": 1,
   "metadata": {},
   "outputs": [
    {
     "name": "stdout",
     "output_type": "stream",
     "text": [
      "First Result\n",
      "20\n"
     ]
    },
    {
     "ename": "StopIteration",
     "evalue": "",
     "output_type": "error",
     "traceback": [
      "\u001b[1;31m---------------------------------------------------------------------------\u001b[0m",
      "\u001b[1;31mStopIteration\u001b[0m                             Traceback (most recent call last)",
      "\u001b[1;32m~\\AppData\\Local\\Temp/ipykernel_7928/1863669680.py\u001b[0m in \u001b[0;36m<module>\u001b[1;34m\u001b[0m\n\u001b[0;32m     15\u001b[0m \u001b[0mgen1\u001b[0m \u001b[1;33m=\u001b[0m \u001b[0mnewGenerator\u001b[0m\u001b[1;33m(\u001b[0m\u001b[1;33m)\u001b[0m\u001b[1;33m\u001b[0m\u001b[1;33m\u001b[0m\u001b[0m\n\u001b[0;32m     16\u001b[0m \u001b[0mprint\u001b[0m\u001b[1;33m(\u001b[0m\u001b[0mnext\u001b[0m\u001b[1;33m(\u001b[0m\u001b[0mgen1\u001b[0m\u001b[1;33m)\u001b[0m\u001b[1;33m)\u001b[0m\u001b[1;33m\u001b[0m\u001b[1;33m\u001b[0m\u001b[0m\n\u001b[1;32m---> 17\u001b[1;33m \u001b[0mprint\u001b[0m\u001b[1;33m(\u001b[0m\u001b[0mnext\u001b[0m\u001b[1;33m(\u001b[0m\u001b[0mgen1\u001b[0m\u001b[1;33m)\u001b[0m\u001b[1;33m)\u001b[0m\u001b[1;33m\u001b[0m\u001b[1;33m\u001b[0m\u001b[0m\n\u001b[0m\u001b[0;32m     18\u001b[0m \u001b[0mprint\u001b[0m\u001b[1;33m(\u001b[0m\u001b[0mnext\u001b[0m\u001b[1;33m(\u001b[0m\u001b[0mgen1\u001b[0m\u001b[1;33m)\u001b[0m\u001b[1;33m)\u001b[0m\u001b[1;33m\u001b[0m\u001b[1;33m\u001b[0m\u001b[0m\n\u001b[0;32m     19\u001b[0m \u001b[1;33m\u001b[0m\u001b[0m\n",
      "\u001b[1;31mStopIteration\u001b[0m: "
     ]
    }
   ],
   "source": [
    "# Building a simple generator function.\n",
    "def newGenerator():\n",
    "    print(\"First Result\")\n",
    "    yield 20\n",
    "\n",
    "    return\n",
    "\n",
    "    print(\"Second Result\")\n",
    "    yield 40\n",
    "\n",
    "    print(\"Last Result\")\n",
    "    yield 60\n",
    "\n",
    "# return values for each yield\n",
    "gen1 = newGenerator()\n",
    "print(next(gen1)) \n",
    "print(next(gen1)) \n",
    "print(next(gen1)) \n",
    "\n"
   ]
  },
  {
   "cell_type": "code",
   "execution_count": 2,
   "metadata": {},
   "outputs": [
    {
     "name": "stdout",
     "output_type": "stream",
     "text": [
      "0\n",
      "1\n",
      "2\n",
      "3\n"
     ]
    },
    {
     "ename": "StopIteration",
     "evalue": "",
     "output_type": "error",
     "traceback": [
      "\u001b[1;31m---------------------------------------------------------------------------\u001b[0m",
      "\u001b[1;31mStopIteration\u001b[0m                             Traceback (most recent call last)",
      "\u001b[1;32m~\\AppData\\Local\\Temp/ipykernel_7928/1107164606.py\u001b[0m in \u001b[0;36m<module>\u001b[1;34m\u001b[0m\n\u001b[0;32m     12\u001b[0m \u001b[0mprint\u001b[0m\u001b[1;33m(\u001b[0m\u001b[0mnext\u001b[0m\u001b[1;33m(\u001b[0m\u001b[0mnewSeq\u001b[0m\u001b[1;33m)\u001b[0m\u001b[1;33m)\u001b[0m \u001b[1;31m# 2\u001b[0m\u001b[1;33m\u001b[0m\u001b[1;33m\u001b[0m\u001b[0m\n\u001b[0;32m     13\u001b[0m \u001b[0mprint\u001b[0m\u001b[1;33m(\u001b[0m\u001b[0mnext\u001b[0m\u001b[1;33m(\u001b[0m\u001b[0mnewSeq\u001b[0m\u001b[1;33m)\u001b[0m\u001b[1;33m)\u001b[0m \u001b[1;31m# 3\u001b[0m\u001b[1;33m\u001b[0m\u001b[1;33m\u001b[0m\u001b[0m\n\u001b[1;32m---> 14\u001b[1;33m \u001b[0mprint\u001b[0m\u001b[1;33m(\u001b[0m\u001b[0mnext\u001b[0m\u001b[1;33m(\u001b[0m\u001b[0mnewSeq\u001b[0m\u001b[1;33m)\u001b[0m\u001b[1;33m)\u001b[0m \u001b[1;31m# StopIteration\u001b[0m\u001b[1;33m\u001b[0m\u001b[1;33m\u001b[0m\u001b[0m\n\u001b[0m",
      "\u001b[1;31mStopIteration\u001b[0m: "
     ]
    }
   ],
   "source": [
    "# Using generator with For Loop\n",
    "def upTo(i):\n",
    "    for x in range(i):\n",
    "        yield x\n",
    "\n",
    "\n",
    "# get a sequence up to \n",
    "newSeq = upTo(4)\n",
    "\n",
    "print(next(newSeq)) # 0\n",
    "print(next(newSeq)) # 1\n",
    "print(next(newSeq)) # 2\n",
    "print(next(newSeq)) # 3\n",
    "print(next(newSeq)) # StopIteration"
   ]
  },
  {
   "cell_type": "code",
   "execution_count": 3,
   "metadata": {},
   "outputs": [
    {
     "name": "stdout",
     "output_type": "stream",
     "text": [
      "0\n",
      "1\n",
      "4\n",
      "9\n",
      "16\n",
      "25\n"
     ]
    }
   ],
   "source": [
    "# Yielding the square of a number\n",
    "def squaredSequence(i):\n",
    "    for x in range(i):\n",
    "        yield x * x\n",
    "\n",
    "\n",
    "newGenera = squaredSequence(6)\n",
    "# while True:\n",
    "#     try:\n",
    "#         print(\"Received on next(): \", next(newGenera))\n",
    "#     except StopIteration:\n",
    "#         break\n",
    "for square in newGenera:\n",
    "    print(square)\n"
   ]
  },
  {
   "cell_type": "code",
   "execution_count": 4,
   "metadata": {},
   "outputs": [
    {
     "name": "stdout",
     "output_type": "stream",
     "text": [
      "5\n"
     ]
    }
   ],
   "source": [
    "# short way to create a generator function using expression\n",
    "# squared = (i * i for i in range(4))\n",
    "\n",
    "# print(next(squared))\n",
    "# print(next(squared))\n",
    "# print(next(squared))\n",
    "# print(next(squared))\n",
    "# print(next(squared))\n",
    "\n",
    "# generator expression passed in a function\n",
    "import math\n",
    "print(sum(y * y for y in range(3)))"
   ]
  },
  {
   "cell_type": "markdown",
   "metadata": {},
   "source": [
    "## Iterator"
   ]
  },
  {
   "cell_type": "code",
   "execution_count": 5,
   "metadata": {},
   "outputs": [
    {
     "name": "stdout",
     "output_type": "stream",
     "text": [
      "Lemon\n",
      "Orange\n",
      "Banana\n"
     ]
    }
   ],
   "source": [
    "# Iterator from a fruits tuple and print values\n",
    "fruitstup = (\"Lemon\", \"Orange\", \"Banana\")\n",
    "newit = iter(fruitstup)\n",
    "\n",
    "# Printing each value from fruitstup\n",
    "print(next(newit))  # Lemon\n",
    "print(next(newit))  # Orange\n",
    "print(next(newit))  # Banana"
   ]
  },
  {
   "cell_type": "code",
   "execution_count": 6,
   "metadata": {},
   "outputs": [
    {
     "name": "stdout",
     "output_type": "stream",
     "text": [
      "O\n",
      "r\n",
      "a\n",
      "n\n",
      "g\n",
      "e\n"
     ]
    }
   ],
   "source": [
    "# iterator from a fruit string and print characters\n",
    "fruitstr = \"Orange\"\n",
    "newit = iter(fruitstr)\n",
    "\n",
    "print(next(newit)) # O\n",
    "print(next(newit)) # r\n",
    "print(next(newit)) # a\n",
    "print(next(newit)) # n\n",
    "print(next(newit)) # g\n",
    "print(next(newit)) # e"
   ]
  },
  {
   "cell_type": "code",
   "execution_count": 7,
   "metadata": {},
   "outputs": [
    {
     "name": "stdout",
     "output_type": "stream",
     "text": [
      "O\n",
      "r\n",
      "a\n",
      "n\n",
      "g\n",
      "e\n"
     ]
    }
   ],
   "source": [
    "# Iterator from a fruits tuple and print values\n",
    "# fruitstup = (\"Lemon\", \"Orange\", \"Banana\")\n",
    "\n",
    "# # loop to iterate through fruitstup \n",
    "# for i in fruitstup:\n",
    "#     print(i)\n",
    "\n",
    "\n",
    "# iterator from a fruit string and print characters\n",
    "fruitstr = \"Orange\"\n",
    "\n",
    "# loop to iterate through fruitstup\n",
    "for i in fruitstr:\n",
    "    print(i)"
   ]
  },
  {
   "cell_type": "code",
   "execution_count": 8,
   "metadata": {},
   "outputs": [
    {
     "name": "stdout",
     "output_type": "stream",
     "text": [
      "1\n",
      "2\n",
      "3\n",
      "4\n",
      "5\n",
      "6\n",
      "7\n"
     ]
    }
   ],
   "source": [
    "# Build iterator to return numbers, start from 1, and +1 each sequence\n",
    "class NewNumbers:\n",
    "    def __iter__(self):\n",
    "        self.a = 1\n",
    "        return self\n",
    "    def __next__(self):\n",
    "        x = self.a\n",
    "        self.a += 1\n",
    "        return x\n",
    "\n",
    "# Create Object based on NewNumbers class\n",
    "newclass = NewNumbers()\n",
    "newiter = iter(newclass)\n",
    "\n",
    "# Iterate over numbers\n",
    "print(next(newiter))\n",
    "print(next(newiter))\n",
    "print(next(newiter))\n",
    "print(next(newiter))\n",
    "print(next(newiter))\n",
    "print(next(newiter))\n",
    "print(next(newiter))"
   ]
  },
  {
   "cell_type": "code",
   "execution_count": 9,
   "metadata": {},
   "outputs": [
    {
     "name": "stdout",
     "output_type": "stream",
     "text": [
      "1\n",
      "2\n",
      "3\n",
      "4\n",
      "5\n",
      "6\n",
      "7\n",
      "8\n",
      "9\n",
      "10\n",
      "11\n",
      "12\n",
      "13\n",
      "14\n",
      "15\n",
      "16\n",
      "17\n"
     ]
    },
    {
     "ename": "StopIteration",
     "evalue": "",
     "output_type": "error",
     "traceback": [
      "\u001b[1;31m---------------------------------------------------------------------------\u001b[0m",
      "\u001b[1;31mStopIteration\u001b[0m                             Traceback (most recent call last)",
      "\u001b[1;32m~\\AppData\\Local\\Temp/ipykernel_7928/3700090453.py\u001b[0m in \u001b[0;36m<module>\u001b[1;34m\u001b[0m\n\u001b[0;32m     36\u001b[0m \u001b[0mprint\u001b[0m\u001b[1;33m(\u001b[0m\u001b[0mnext\u001b[0m\u001b[1;33m(\u001b[0m\u001b[0mnewiter\u001b[0m\u001b[1;33m)\u001b[0m\u001b[1;33m)\u001b[0m\u001b[1;33m\u001b[0m\u001b[1;33m\u001b[0m\u001b[0m\n\u001b[0;32m     37\u001b[0m \u001b[0mprint\u001b[0m\u001b[1;33m(\u001b[0m\u001b[0mnext\u001b[0m\u001b[1;33m(\u001b[0m\u001b[0mnewiter\u001b[0m\u001b[1;33m)\u001b[0m\u001b[1;33m)\u001b[0m\u001b[1;33m\u001b[0m\u001b[1;33m\u001b[0m\u001b[0m\n\u001b[1;32m---> 38\u001b[1;33m \u001b[0mprint\u001b[0m\u001b[1;33m(\u001b[0m\u001b[0mnext\u001b[0m\u001b[1;33m(\u001b[0m\u001b[0mnewiter\u001b[0m\u001b[1;33m)\u001b[0m\u001b[1;33m)\u001b[0m\u001b[1;33m\u001b[0m\u001b[1;33m\u001b[0m\u001b[0m\n\u001b[0m",
      "\u001b[1;32m~\\AppData\\Local\\Temp/ipykernel_7928/3700090453.py\u001b[0m in \u001b[0;36m__next__\u001b[1;34m(self)\u001b[0m\n\u001b[0;32m     10\u001b[0m             \u001b[1;32mreturn\u001b[0m \u001b[0mx\u001b[0m\u001b[1;33m\u001b[0m\u001b[1;33m\u001b[0m\u001b[0m\n\u001b[0;32m     11\u001b[0m         \u001b[1;32melse\u001b[0m\u001b[1;33m:\u001b[0m\u001b[1;33m\u001b[0m\u001b[1;33m\u001b[0m\u001b[0m\n\u001b[1;32m---> 12\u001b[1;33m             \u001b[1;32mraise\u001b[0m \u001b[0mStopIteration\u001b[0m\u001b[1;33m\u001b[0m\u001b[1;33m\u001b[0m\u001b[0m\n\u001b[0m\u001b[0;32m     13\u001b[0m \u001b[1;33m\u001b[0m\u001b[0m\n\u001b[0;32m     14\u001b[0m \u001b[1;31m# Create Object based on NewNumbers class\u001b[0m\u001b[1;33m\u001b[0m\u001b[1;33m\u001b[0m\u001b[0m\n",
      "\u001b[1;31mStopIteration\u001b[0m: "
     ]
    }
   ],
   "source": [
    "# Build iterator to return numbers, start from 1, and +1 each sequence\n",
    "class NewNumbers:\n",
    "    def __iter__(self):\n",
    "        self.a = 1\n",
    "        return self\n",
    "    def __next__(self):\n",
    "        if self.a <= 17:\n",
    "            x = self.a\n",
    "            self.a += 1\n",
    "            return x\n",
    "        else:\n",
    "            raise StopIteration\n",
    "\n",
    "# Create Object based on NewNumbers class\n",
    "newclass = NewNumbers()\n",
    "newiter = iter(newclass)\n",
    "\n",
    "# Displaying values one by one\n",
    "# for x in newiter:\n",
    "#     print(x)\n",
    "print(next(newiter))\n",
    "print(next(newiter))\n",
    "print(next(newiter))\n",
    "print(next(newiter))\n",
    "print(next(newiter))\n",
    "print(next(newiter))\n",
    "print(next(newiter))\n",
    "print(next(newiter))\n",
    "print(next(newiter))\n",
    "print(next(newiter))\n",
    "print(next(newiter))\n",
    "print(next(newiter))\n",
    "print(next(newiter))\n",
    "print(next(newiter))\n",
    "print(next(newiter))\n",
    "print(next(newiter))\n",
    "print(next(newiter))\n",
    "print(next(newiter))\n"
   ]
  },
  {
   "cell_type": "code",
   "execution_count": 1,
   "metadata": {},
   "outputs": [
    {
     "name": "stdout",
     "output_type": "stream",
     "text": [
      "1\n",
      "Se reanuda la ejecución\n",
      "2\n",
      "Se reanuda la ejecución\n",
      "3\n",
      "Número generado: 1\n",
      "Se reanuda la ejecución\n",
      "Número generado: 2\n",
      "Se reanuda la ejecución\n",
      "Número generado: 3\n"
     ]
    }
   ],
   "source": [
    "# Generadores\n",
    "# Es una función especial, retorna una secuencia de valores\n",
    "# suspende la ejecución de la función yield (producir) (no se usar return)\n",
    "def generador():\n",
    "    yield 1\n",
    "    print('Se reanuda la ejecución')\n",
    "    yield 2\n",
    "    print('Se reanuda la ejecución')\n",
    "    yield 3\n",
    "\n",
    "# Consumimos el generador a demanda\n",
    "gen = generador()\n",
    "# Con cada llamada consumimos un valor\n",
    "print(next(gen))\n",
    "print(next(gen))\n",
    "print(next(gen))\n",
    "# Si tratamos de consumir más valores de los que produce el generador\n",
    "# lanza un error de StopIteration\n",
    "# print(next(gen))\n",
    "\n",
    "# Consumiendo los valores del generador con un ciclo for\n",
    "for valor in generador():\n",
    "    print(f'Número generado: {valor}')"
   ]
  },
  {
   "cell_type": "code",
   "execution_count": 2,
   "metadata": {},
   "outputs": [
    {
     "name": "stdout",
     "output_type": "stream",
     "text": [
      "Objeto generador: <generator object generador_numeros at 0x00000268B60DB200>\n",
      "<class 'generator'>\n",
      "Número producido: 1\n",
      "Se reanuda la ejecución de la función\n",
      "Número producido: 2\n",
      "Se reanuda la ejecución de la función\n",
      "Número producido: 3\n",
      "Se reanuda la ejecución de la función\n",
      "Número producido: 4\n",
      "Se reanuda la ejecución de la función\n",
      "Número producido: 5\n",
      "Se reanuda la ejecución de la función\n",
      "consumimos a demanda: 1\n",
      "Se reanuda la ejecución de la función\n",
      "consumimos a demanda: 2\n",
      "Se reanuda la ejecución de la función\n",
      "consumimos a demanda: 3\n",
      "Se reanuda la ejecución de la función\n",
      "consumimos a demanda: 4\n",
      "Se reanuda la ejecución de la función\n",
      "consumimos a demanda: 5\n",
      "Se reanuda la ejecución de la función\n",
      "Error al consumir generador \n",
      "Impresión valor generado: 1\n",
      "Se reanuda la ejecución de la función\n",
      "Impresión valor generado: 2\n",
      "Se reanuda la ejecución de la función\n",
      "Impresión valor generado: 3\n",
      "Se reanuda la ejecución de la función\n",
      "Impresión valor generado: 4\n",
      "Se reanuda la ejecución de la función\n",
      "Impresión valor generado: 5\n",
      "Se reanuda la ejecución de la función\n",
      "Se terminó de iterar el generador\n"
     ]
    }
   ],
   "source": [
    "# Generador de números del 1 al 5\n",
    "def generador_numeros():\n",
    "    for numero in range(1,6):\n",
    "        yield numero\n",
    "        print('Se reanuda la ejecución de la función')\n",
    "\n",
    "# Utilizamos el generador\n",
    "generador = generador_numeros()\n",
    "print(f'Objeto generador: {generador}')\n",
    "print(type(generador))\n",
    "\n",
    "# Consumimos los valores del generador\n",
    "for valor in generador:\n",
    "    print(f'Número producido: {valor}')\n",
    "\n",
    "# Consumir a demanda\n",
    "generador = generador_numeros()\n",
    "try:\n",
    "    print(f'consumimos a demanda: {next(generador)}')\n",
    "    print(f'consumimos a demanda: {next(generador)}')\n",
    "    print(f'consumimos a demanda: {next(generador)}')\n",
    "    print(f'consumimos a demanda: {next(generador)}')\n",
    "    print(f'consumimos a demanda: {next(generador)}')\n",
    "    print(f'consumimos a demanda: {next(generador)}')\n",
    "except StopIteration as e:\n",
    "    print(f'Error al consumir generador {e}')\n",
    "\n",
    "# Otra forma de consumir un generador\n",
    "generador = generador_numeros()\n",
    "while True:\n",
    "    try:\n",
    "        valor = next(generador)\n",
    "        print(f'Impresión valor generado: {valor}')\n",
    "    except StopIteration as e:\n",
    "        print('Se terminó de iterar el generador')\n",
    "        break"
   ]
  },
  {
   "cell_type": "code",
   "execution_count": 4,
   "metadata": {
    "scrolled": true
   },
   "outputs": [
    {
     "name": "stdout",
     "output_type": "stream",
     "text": [
      "<class 'generator'>\n",
      "0\n",
      "1\n",
      "4\n",
      "9\n",
      "Resultado suma: 14\n",
      "Juan\n",
      "Perez\n",
      "['1. Karla', '2. Gomez', '3. 22']\n",
      "Cadena generada: 1. Karla, 2. Gomez, 3. 22\n"
     ]
    }
   ],
   "source": [
    "# Expresión generadora (es un generador anónimo)\n",
    "multiplicacion = (valor*valor for valor in range(4))\n",
    "print(type(multiplicacion))\n",
    "print(next(multiplicacion))\n",
    "print(next(multiplicacion))\n",
    "print(next(multiplicacion))\n",
    "print(next(multiplicacion))\n",
    "# print(next(multiplicacion))\n",
    "\n",
    "# También se puede pasar una expresión generadora a una función (sin paréntesis)\n",
    "import math\n",
    "suma = sum(valor*valor for valor in range(4))\n",
    "print(f'Resultado suma: {suma}')\n",
    "\n",
    "# También podemos usar una lista o cualquier otro iterador\n",
    "lista = ['Juan','Perez']\n",
    "generador = (valor for valor in lista)\n",
    "print(next(generador))\n",
    "print(next(generador))\n",
    "\n",
    "# Crear un string a partir de un generador creado a partir de una lista\n",
    "lista = ['Karla','Gomez', 22]\n",
    "contador = 0\n",
    "# Definimos una función para incrementar el contador\n",
    "def incremetar():\n",
    "    global contador\n",
    "    contador += 1\n",
    "    return contador\n",
    "# La primera para es el yield, la segunda es el for, entre paréntesis\n",
    "generador = (f'{incremetar()}. {nombre}' for nombre in lista)\n",
    "lista = list(generador)\n",
    "print(lista)\n",
    "cadena = ', '.join(lista)\n",
    "print(f'Cadena generada: {cadena}')\n",
    "\n",
    "\n"
   ]
  },
  {
   "cell_type": "code",
   "execution_count": null,
   "metadata": {},
   "outputs": [],
   "source": [
    "class Counter:\n",
    "    def __init__(self,start,stop):\n",
    "        self.start = start\n",
    "        self.stop = stop\n",
    "\n",
    "    def __iter__(self):\n",
    "        return self\n",
    "\n",
    "    def __next__(self):\n",
    "        if self.start <= self.stop:\n",
    "            x = self.start\n",
    "            self.start += 1\n",
    "            return x\n",
    "        else:\n",
    "            raise StopIteration\n",
    "\n",
    "\n",
    "# for i in Counter(10,20):\n",
    "#     print(i)\n",
    "\n",
    "iterator = iter(Counter(20,30))\n",
    "\n",
    "while True:\n",
    "    try:\n",
    "        print(next(iterator))\n",
    "    except StopIteration:\n",
    "        break"
   ]
  },
  {
   "cell_type": "code",
   "execution_count": null,
   "metadata": {},
   "outputs": [],
   "source": [
    "def sayi_say(max):\n",
    "    sayi = 1    \n",
    "    while sayi <= max:\n",
    "        yield sayi\n",
    "        sayi += 1\n",
    "\n",
    "iterator = sayi_say(10)\n",
    "\n",
    "# print(help(generator))\n",
    "\n",
    "# print(next(iterator))\n",
    "# print(next(iterator))\n",
    "\n",
    "# for i in iterator:\n",
    "#     print(i)\n",
    "\n",
    "# sonuc = list(iterator)\n",
    "\n",
    "\n",
    "generator = (i for i in range(1,11))\n",
    "\n",
    "print(next(generator))\n",
    "print(next(generator))"
   ]
  }
 ],
 "metadata": {
  "kernelspec": {
   "display_name": "Python 3",
   "language": "python",
   "name": "python3"
  },
  "language_info": {
   "codemirror_mode": {
    "name": "ipython",
    "version": 3
   },
   "file_extension": ".py",
   "mimetype": "text/x-python",
   "name": "python",
   "nbconvert_exporter": "python",
   "pygments_lexer": "ipython3",
   "version": "3.8.5"
  }
 },
 "nbformat": 4,
 "nbformat_minor": 5
}
