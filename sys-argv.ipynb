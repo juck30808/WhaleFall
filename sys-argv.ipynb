{
 "cells": [
  {
   "cell_type": "markdown",
   "metadata": {},
   "source": [
    "## sys.argv是獲取運行python文件的時候命令行參數"
   ]
  },
  {
   "cell_type": "code",
   "execution_count": 1,
   "metadata": {},
   "outputs": [
    {
     "name": "stdout",
     "output_type": "stream",
     "text": [
      "['C:\\\\Users\\\\cti110016\\\\Anaconda3\\\\lib\\\\site-packages\\\\ipykernel_launcher.py', '-f', 'C:\\\\Users\\\\cti110016\\\\AppData\\\\Roaming\\\\jupyter\\\\runtime\\\\kernel-25acfd12-6616-4551-94ae-83e90ae376ac.json']\n",
      "3\n"
     ]
    }
   ],
   "source": [
    "import sys\n",
    "a = sys.argv\n",
    "b = len(sys.argv)\n",
    "print(a)\n",
    "print(b)"
   ]
  },
  {
   "cell_type": "code",
   "execution_count": 2,
   "metadata": {},
   "outputs": [
    {
     "name": "stdout",
     "output_type": "stream",
     "text": [
      "fileNa: C:\\Users\\cti110016\\Anaconda3\\lib\\site-packages\\ipykernel_launcher.py\n",
      "param1: -f\n",
      "param2: C:\\Users\\cti110016\\AppData\\Roaming\\jupyter\\runtime\\kernel-25acfd12-6616-4551-94ae-83e90ae376ac.json\n"
     ]
    }
   ],
   "source": [
    "import sys\n",
    "a = sys.argv[0]\n",
    "b = sys.argv[1]\n",
    "c = sys.argv[2]\n",
    "print(\"fileNa:\",a)\n",
    "print(\"param1:\",b)\n",
    "print(\"param2:\",c)"
   ]
  },
  {
   "cell_type": "code",
   "execution_count": null,
   "metadata": {},
   "outputs": [],
   "source": []
  }
 ],
 "metadata": {
  "kernelspec": {
   "display_name": "Python 3",
   "language": "python",
   "name": "python3"
  },
  "language_info": {
   "codemirror_mode": {
    "name": "ipython",
    "version": 3
   },
   "file_extension": ".py",
   "mimetype": "text/x-python",
   "name": "python",
   "nbconvert_exporter": "python",
   "pygments_lexer": "ipython3",
   "version": "3.8.5"
  }
 },
 "nbformat": 4,
 "nbformat_minor": 4
}
