{
 "cells": [
  {
   "cell_type": "code",
   "execution_count": 7,
   "id": "b874d612",
   "metadata": {},
   "outputs": [
    {
     "name": "stdout",
     "output_type": "stream",
     "text": [
      "Collecting cutecharts\n",
      "  Downloading cutecharts-1.2.0-py3-none-any.whl (17 kB)\n",
      "Requirement already satisfied: jinja2 in c:\\users\\cti110016\\anaconda3\\lib\\site-packages (from cutecharts) (2.11.3)\n",
      "Requirement already satisfied: MarkupSafe>=0.23 in c:\\users\\cti110016\\anaconda3\\lib\\site-packages (from jinja2->cutecharts) (1.1.1)\n",
      "Installing collected packages: cutecharts\n",
      "Successfully installed cutecharts-1.2.0\n",
      "Note: you may need to restart the kernel to use updated packages.\n"
     ]
    }
   ],
   "source": [
    "pip install cutecharts"
   ]
  },
  {
   "cell_type": "code",
   "execution_count": 11,
   "id": "8c5f92b9",
   "metadata": {},
   "outputs": [
    {
     "data": {
      "text/plain": [
       "'\\n<!DOCTYPE html>\\n<html lang=\"en\">\\n<head>\\n    <meta charset=\"UTF-8\">\\n        <script type=\"text/javascript\" src=\"https://cdn.jsdelivr.net/npm/chart.xkcd@1.1/dist/chart.xkcd.min.js\"></script>\\n</head>\\n<body>\\n    <div id=\"509df5e874474c77b7928007dedd42e4\" class=\"chart-container\" style=\"width: 800px\">\\n        <svg id=\"chart_509df5e874474c77b7928007dedd42e4\"></svg>\\n    </div>\\n    <script>\\n        const svg_509df5e874474c77b7928007dedd42e4 = document.querySelector(\\'#chart_509df5e874474c77b7928007dedd42e4\\')\\n        const chart_509df5e874474c77b7928007dedd42e4 = new chartXkcd.Pie(svg_509df5e874474c77b7928007dedd42e4, {\"title\": \"\\\\u50b3\\\\u9001\\\\u8a0a\\\\u606f\\\\u91cf\", \"data\": {\"datasets\": [{\"data\": [0, 0]}], \"labels\": [\"\\\\u4f60\\\\u7684\\\\u540d\\\\u5b57\", \"\\\\u5c0d\\\\u65b9\"]}, \"options\": {\"innerRadius\": 0, \"legendPosition\": 1}});\\n    </script>\\n</body>\\n</html>\\n'"
      ]
     },
     "execution_count": 11,
     "metadata": {},
     "output_type": "execute_result"
    }
   ],
   "source": [
    "#encoding=utf-8\n",
    "import jieba\n",
    "import jieba.analyse\n",
    "from cutecharts.charts import Bar\n",
    "from cutecharts.charts import Pie\n",
    "\n",
    "\n",
    "content = open('input/[LINE] Chat.txt', 'rb').read()\n",
    "words = jieba.lcut(content) # 使用jieba這個library對文檔內容進行分詞\n",
    "counts = {} # 此為由文字內容對應到出現次數的dictionary\n",
    "\n",
    "for word in words:\n",
    "    if len(word) <= 1: # 排除單字\n",
    "        continue\n",
    "    elif word.isdigit(): # 排除數字\n",
    "        continue\n",
    "    else:\n",
    "        counts[word] = counts.get(word, 0) + 1\n",
    "\n",
    "# 刪除不重要的詞語\n",
    "text=' '.join(words)\n",
    "excludes = {'\\r\\n','下午','上午','...'} # LINE紀錄會有很多換行，如不去掉分析完會顯示\n",
    "for exword in excludes:\n",
    "    try:\n",
    "        del(counts[exword])\n",
    "    except:\n",
    "        continue\n",
    "    \n",
    "items = list(counts.items())\n",
    "items.sort(key=lambda x: x[1], reverse=True) # 根據單詞出現次數進行排序\n",
    "\n",
    "# 將出現次數最多的幾個詞畫成圖表\n",
    "top_words = []\n",
    "top_counts = []\n",
    "i = -1\n",
    "while len(top_words) <= 10:\n",
    "    i += 1\n",
    "    word, count = items[i]\n",
    "    if word == \"通話\" or word == \"照片\" or word == \"影片\" or word == \"貼圖\" or word == \"你的名字\" or word == \"對方名字\":\n",
    "        continue\n",
    "    top_words.append(word)\n",
    "    top_counts.append(count)\n",
    "chart = Bar(\"關鍵字圖表\")\n",
    "chart.set_options(labels = top_words, x_label=\"單詞\", y_label=\"出現次數\")\n",
    "chart.add_series(\"次數\", top_counts)\n",
    "\n",
    "chart2 = Pie(\"通話/影片/照片數統計\")\n",
    "chart2.set_options(labels=['照片', '影片', '通話'])\n",
    "chart2.add_series([counts.get(\"照片\", 0), counts.get(\"影片\", 0), counts.get(\"通話\", 0)])\n",
    "\n",
    "chart3 = Pie(\"傳送訊息量\")\n",
    "chart3.set_options(labels=['你的名字', '對方'],inner_radius=0)\n",
    "chart3.add_series([counts.get(\"你的名字\", 0), counts.get(\"對方名字\", 0)])\n",
    "\n",
    "chart.render(dest=\"input/關鍵字.html\")\n",
    "chart2.render(dest=\"input/照片數統計.html\")\n",
    "chart3.render(dest=\"input/傳送訊息量.html\")"
   ]
  },
  {
   "cell_type": "code",
   "execution_count": null,
   "id": "5dfff9bc",
   "metadata": {},
   "outputs": [],
   "source": []
  }
 ],
 "metadata": {
  "kernelspec": {
   "display_name": "Python 3 (ipykernel)",
   "language": "python",
   "name": "python3"
  },
  "language_info": {
   "codemirror_mode": {
    "name": "ipython",
    "version": 3
   },
   "file_extension": ".py",
   "mimetype": "text/x-python",
   "name": "python",
   "nbconvert_exporter": "python",
   "pygments_lexer": "ipython3",
   "version": "3.9.7"
  }
 },
 "nbformat": 4,
 "nbformat_minor": 5
}
