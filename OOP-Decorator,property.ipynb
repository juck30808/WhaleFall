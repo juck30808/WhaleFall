{
 "cells": [
  {
   "cell_type": "markdown",
   "id": "0fd0934c",
   "metadata": {},
   "source": [
    "## Decorator\n",
    "\n",
    "Function(a)(-)"
   ]
  },
  {
   "cell_type": "code",
   "execution_count": 2,
   "id": "bbb02b35",
   "metadata": {},
   "outputs": [
    {
     "name": "stdout",
     "output_type": "stream",
     "text": [
      "Now we are using function 'dog_bark'\n",
      "BKBK\n",
      "Now we are using function 'cat_miaow'\n",
      "MewMew\n"
     ]
    }
   ],
   "source": [
    "def print_func_name(func):\n",
    "    def wrap():\n",
    "        print(\"Now we are using function '{}'\".format(func.__name__))\n",
    "        func()\n",
    "    return wrap\n",
    "\n",
    "def dog_bark():\n",
    "    print(\"BKBK\")\n",
    "\n",
    "\n",
    "def cat_miaow():\n",
    "    print(\"MewMew\")\n",
    "\n",
    "\n",
    "if __name__ == \"__main__\":\n",
    "    print_func_name(dog_bark)()  #Decorator fun()()\n",
    "    print_func_name(cat_miaow)()"
   ]
  },
  {
   "cell_type": "code",
   "execution_count": 9,
   "id": "41db3d87",
   "metadata": {},
   "outputs": [
    {
     "name": "stdout",
     "output_type": "stream",
     "text": [
      "I got decorated\n",
      "I am simple\n"
     ]
    }
   ],
   "source": [
    "def make_decorate(func):\n",
    "    def inner_function():\n",
    "        print(\"I got decorated\")\n",
    "        func()\n",
    "    return inner_function\n",
    "\n",
    "def simple_func():\n",
    "    print(\"I am simple\")\n",
    "\n",
    "if __name__ == \"__main__\":\n",
    "    decorator = make_decorate(simple_func)()  #Decorate fun()()\n",
    "    decorator"
   ]
  },
  {
   "cell_type": "markdown",
   "id": "163332f6",
   "metadata": {},
   "source": [
    "## property @"
   ]
  },
  {
   "cell_type": "code",
   "execution_count": 3,
   "id": "7daa0bc2",
   "metadata": {},
   "outputs": [
    {
     "name": "stdout",
     "output_type": "stream",
     "text": [
      "Now use function 'dog_bark'\n",
      "Bark !!!\n",
      "Now use function 'cat_miaow'\n",
      "Miaow ~~~\n"
     ]
    }
   ],
   "source": [
    "def print_func_name(func):\n",
    "    def wrap():\n",
    "        print(\"Now we are using function '{}'\".format(func.__name__))\n",
    "        func()\n",
    "    return wrap\n",
    "\n",
    "@print_func_name  #mean call from print_func_name\n",
    "def dog_bark():\n",
    "    print(\"BKBK\")\n",
    "\n",
    "@print_func_name\n",
    "def cat_miaow():\n",
    "    print(\"MewMew\")\n",
    "\n",
    "\n",
    "if __name__ == \"__main__\":\n",
    "    print_func_name(dog_bark)()  #Decorator\n",
    "    print_func_name(cat_miaow)()"
   ]
  },
  {
   "cell_type": "code",
   "execution_count": 13,
   "id": "44d22aca",
   "metadata": {},
   "outputs": [
    {
     "name": "stdout",
     "output_type": "stream",
     "text": [
      "I got decorated\n",
      "I am simple\n"
     ]
    }
   ],
   "source": [
    "def make_decorate(func):\n",
    "    def inner_function():\n",
    "        print(\"I got decorated\")\n",
    "        func()\n",
    "    return inner_function\n",
    "\n",
    "@make_decorate\n",
    "def simple_func():\n",
    "    print(\"I am simple\")\n",
    "\n",
    "#decorator = make_decorate(simple_func)()  #Decorate fun()()\n",
    "#decorator\n",
    "simple_func()"
   ]
  },
  {
   "cell_type": "code",
   "execution_count": 15,
   "id": "a11e57a0",
   "metadata": {},
   "outputs": [
    {
     "name": "stdout",
     "output_type": "stream",
     "text": [
      "Getting value\n",
      "5\n",
      "Setting value\n",
      "Getting value\n",
      "100\n"
     ]
    }
   ],
   "source": [
    "class Celsius:\n",
    "    def __init__(self,temperature = 0):\n",
    "        self._temperature = temperature\n",
    "    def to_fahrenheit(self):\n",
    "        return (self.temperature * 1.8) +12\n",
    "    \n",
    "    @property\n",
    "    def temperature(self):\n",
    "        print(\"Getting value\")\n",
    "        return self._temperature\n",
    "    \n",
    "    @temperature.setter\n",
    "    def temperature(self,value):\n",
    "        if value < -273:\n",
    "            raise ValueError(\"Tem below -273\")\n",
    "        print(\"Setting value\")\n",
    "        self._temperature = value\n",
    "        \n",
    "c = Celsius(5)\n",
    "print(c.temperature)\n",
    "c.temperature = 100\n",
    "print(c.temperature)"
   ]
  },
  {
   "cell_type": "code",
   "execution_count": null,
   "id": "0319b597",
   "metadata": {},
   "outputs": [],
   "source": []
  }
 ],
 "metadata": {
  "kernelspec": {
   "display_name": "Python 3 (ipykernel)",
   "language": "python",
   "name": "python3"
  },
  "language_info": {
   "codemirror_mode": {
    "name": "ipython",
    "version": 3
   },
   "file_extension": ".py",
   "mimetype": "text/x-python",
   "name": "python",
   "nbconvert_exporter": "python",
   "pygments_lexer": "ipython3",
   "version": "3.8.8"
  }
 },
 "nbformat": 4,
 "nbformat_minor": 5
}
