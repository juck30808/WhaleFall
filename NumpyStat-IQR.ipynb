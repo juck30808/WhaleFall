{
 "cells": [
  {
   "cell_type": "markdown",
   "metadata": {},
   "source": [
    "## Numpy Statistical Functions - Outlier IQR Method"
   ]
  },
  {
   "cell_type": "markdown",
   "metadata": {},
   "source": [
    "#### Interquartile Range (IQR)"
   ]
  },
  {
   "cell_type": "markdown",
   "metadata": {},
   "source": [
    "###### Formula: Q3 - Q1 <br>\n",
    "Q1: First Quartile  = Median of Lower Half <br>\n",
    "Q3: Third Quartile = Median of Upper Half <br>"
   ]
  },
  {
   "cell_type": "code",
   "execution_count": 1,
   "metadata": {},
   "outputs": [],
   "source": [
    "import numpy as np"
   ]
  },
  {
   "cell_type": "markdown",
   "metadata": {},
   "source": [
    "1D Array (Odd numbers)"
   ]
  },
  {
   "cell_type": "code",
   "execution_count": 2,
   "metadata": {},
   "outputs": [
    {
     "data": {
      "text/plain": [
       "array([15, 18,  7, 11,  4, 16,  1,  3, 24,  6,  8])"
      ]
     },
     "execution_count": 2,
     "metadata": {},
     "output_type": "execute_result"
    }
   ],
   "source": [
    "y = np.array([15, 18, 7, 11, 4, 16, 1, 3, 24, 6, 8])\n",
    "y"
   ]
  },
  {
   "cell_type": "code",
   "execution_count": 3,
   "metadata": {},
   "outputs": [
    {
     "data": {
      "text/plain": [
       "array([ 1,  3,  4,  6,  7,  8, 11, 15, 16, 18, 24])"
      ]
     },
     "execution_count": 3,
     "metadata": {},
     "output_type": "execute_result"
    }
   ],
   "source": [
    "# sort the data\n",
    "y = np.sort(y)\n",
    "y"
   ]
  },
  {
   "cell_type": "code",
   "execution_count": 4,
   "metadata": {},
   "outputs": [
    {
     "data": {
      "text/plain": [
       "5"
      ]
     },
     "execution_count": 4,
     "metadata": {},
     "output_type": "execute_result"
    }
   ],
   "source": [
    "#determine position to cut into halves\n",
    "n = len(y)\n",
    "size_of_half=int(n/2)\n",
    "size_of_half"
   ]
  },
  {
   "cell_type": "code",
   "execution_count": 5,
   "metadata": {},
   "outputs": [
    {
     "name": "stdout",
     "output_type": "stream",
     "text": [
      "lower_half: [1 3 4 6 7]\n",
      "Q1: 4.0\n"
     ]
    }
   ],
   "source": [
    "#compute lower half and Q1\n",
    "lower_half = y[:size_of_half]\n",
    "print('lower_half:',lower_half)\n",
    "q1 = np.median(lower_half)\n",
    "print('Q1:',q1)"
   ]
  },
  {
   "cell_type": "code",
   "execution_count": 6,
   "metadata": {},
   "outputs": [
    {
     "name": "stdout",
     "output_type": "stream",
     "text": [
      "upper_half: [11 15 16 18 24]\n",
      "Q3: 16.0\n"
     ]
    }
   ],
   "source": [
    "#compute upper half and Q3\n",
    "\n",
    "#note: for odd number case, \n",
    "#middle number have to be excluded while splitting halves\n",
    "upper_half = y[size_of_half+1:]\n",
    "print('upper_half:',upper_half)\n",
    "q3 = np.median(upper_half)\n",
    "print('Q3:',q3)"
   ]
  },
  {
   "cell_type": "code",
   "execution_count": 7,
   "metadata": {},
   "outputs": [
    {
     "name": "stdout",
     "output_type": "stream",
     "text": [
      "IQR: 12.0\n"
     ]
    }
   ],
   "source": [
    "#compute IQR\n",
    "iqr = q3 - q1\n",
    "print('IQR:',iqr)"
   ]
  },
  {
   "cell_type": "markdown",
   "metadata": {},
   "source": [
    "1D Array (Even numbers)"
   ]
  },
  {
   "cell_type": "code",
   "execution_count": 8,
   "metadata": {},
   "outputs": [
    {
     "data": {
      "text/plain": [
       "array([12,  4,  8, 19,  6, 28, 22,  9, 21, 18])"
      ]
     },
     "execution_count": 8,
     "metadata": {},
     "output_type": "execute_result"
    }
   ],
   "source": [
    "y = np.array([12, 4, 8, 19, 6, 28, 22, 9, 21, 18])\n",
    "y"
   ]
  },
  {
   "cell_type": "code",
   "execution_count": 9,
   "metadata": {},
   "outputs": [
    {
     "data": {
      "text/plain": [
       "array([ 4,  6,  8,  9, 12, 18, 19, 21, 22, 28])"
      ]
     },
     "execution_count": 9,
     "metadata": {},
     "output_type": "execute_result"
    }
   ],
   "source": [
    "# sort the data\n",
    "y = np.sort(y)\n",
    "y"
   ]
  },
  {
   "cell_type": "code",
   "execution_count": 10,
   "metadata": {},
   "outputs": [
    {
     "data": {
      "text/plain": [
       "5"
      ]
     },
     "execution_count": 10,
     "metadata": {},
     "output_type": "execute_result"
    }
   ],
   "source": [
    "#determine position to cut into halves\n",
    "n = len(y)\n",
    "size_of_half=int(n/2)\n",
    "size_of_half"
   ]
  },
  {
   "cell_type": "code",
   "execution_count": 11,
   "metadata": {},
   "outputs": [
    {
     "name": "stdout",
     "output_type": "stream",
     "text": [
      "Q1: 8.0\n"
     ]
    }
   ],
   "source": [
    "#compute lower half and Q1\n",
    "lower_half = y[:size_of_half]\n",
    "q1 = np.median(lower_half)\n",
    "print('Q1:',q1)"
   ]
  },
  {
   "cell_type": "code",
   "execution_count": 12,
   "metadata": {},
   "outputs": [
    {
     "name": "stdout",
     "output_type": "stream",
     "text": [
      "Q3: 21.0\n"
     ]
    }
   ],
   "source": [
    "#compute upper half and Q3\n",
    "#note: for even numbers, middle numbers are included in lower and upper halves\n",
    "upper_half = y[size_of_half:]\n",
    "q3 = np.median(upper_half)\n",
    "print('Q3:',q3)"
   ]
  },
  {
   "cell_type": "code",
   "execution_count": 13,
   "metadata": {},
   "outputs": [
    {
     "name": "stdout",
     "output_type": "stream",
     "text": [
      "IQR: 13.0\n"
     ]
    }
   ],
   "source": [
    "#compute IQR\n",
    "iqr = q3 - q1\n",
    "print('IQR:',iqr)"
   ]
  },
  {
   "cell_type": "code",
   "execution_count": 15,
   "metadata": {},
   "outputs": [],
   "source": [
    "def compute_quartiles_1D(arr):\n",
    "    #STEP 1: sort the data first\n",
    "    arr = np.sort(arr)\n",
    "    #size of array\n",
    "    n = len(arr)\n",
    "    \n",
    "    #STEP 2: divide dataset into 2 halves\n",
    "    #compute size of each half\n",
    "    #for even number, it returns exact half of the array size\n",
    "    #for odd number, it returns the size excluding median\n",
    "    size_of_half=int(n/2)\n",
    "    #slice lower half of the array\n",
    "    lower_half=arr[:size_of_half]\n",
    "    if (n % 2) == 0:\n",
    "        upper_half=arr[size_of_half:]\n",
    "    else:\n",
    "        #exclude median in case of odd number of values\n",
    "        upper_half=arr[size_of_half+1:]\n",
    "    \n",
    "    #STEP 3: Compute Q1 and Q3\n",
    "    #Q1 is median of lower half and Q3 is median of upper half\n",
    "    q1 = np.median(lower_half)\n",
    "    q3 = np.median(upper_half)\n",
    "    \n",
    "    print('q1:',q1)\n",
    "    print('q3:',q3)\n",
    "        \n",
    "    return q1, q3  \n",
    "\n",
    "def compute_iqr_1D(arr):\n",
    "    q1, q3 = compute_quartiles_1D(arr)\n",
    "    iqr = q3 - q1\n",
    "    return iqr"
   ]
  },
  {
   "cell_type": "code",
   "execution_count": 16,
   "metadata": {},
   "outputs": [
    {
     "name": "stdout",
     "output_type": "stream",
     "text": [
      "q1: 4.0\n",
      "q3: 16.0\n",
      "IQR for odd numbers: 12.0\n"
     ]
    }
   ],
   "source": [
    "y = np.array([15, 18, 7, 11, 4, 16, 1, 3, 24, 6, 8])\n",
    "iqr = compute_iqr_1D(y)\n",
    "print('IQR for odd numbers:',iqr)"
   ]
  },
  {
   "cell_type": "code",
   "execution_count": 17,
   "metadata": {},
   "outputs": [
    {
     "name": "stdout",
     "output_type": "stream",
     "text": [
      "q1: 8.0\n",
      "q3: 21.0\n",
      "IQR for even numbers: 13.0\n"
     ]
    }
   ],
   "source": [
    "y = np.array([12, 4, 8, 19, 6, 28, 22, 9, 21, 18])\n",
    "iqr = compute_iqr_1D(y)\n",
    "print('IQR for even numbers:',iqr)"
   ]
  },
  {
   "cell_type": "markdown",
   "metadata": {},
   "source": [
    "2D Array"
   ]
  },
  {
   "cell_type": "code",
   "execution_count": 18,
   "metadata": {},
   "outputs": [
    {
     "data": {
      "text/plain": [
       "array([[93, 76, 31, 88],\n",
       "       [23, 77, 42, 45],\n",
       "       [95, 22, 91, 30],\n",
       "       [68, 95, 42, 59],\n",
       "       [92, 90, 80, 62],\n",
       "       [45, 99, 33, 24],\n",
       "       [56, 77, 16, 97]])"
      ]
     },
     "execution_count": 18,
     "metadata": {},
     "output_type": "execute_result"
    }
   ],
   "source": [
    "np.random.seed(5)\n",
    "x= np.random.randint(low=15,high=100,size=(7,4))\n",
    "x"
   ]
  },
  {
   "cell_type": "code",
   "execution_count": 19,
   "metadata": {},
   "outputs": [],
   "source": [
    "def compute_quartiles(arr,axis=None):\n",
    "    #STEP 1: sort the data first\n",
    "    arr = np.sort(arr,axis=axis)\n",
    "    #size of array\n",
    "    n = np.size(arr,axis)\n",
    "    \n",
    "    #STEP 2: divide dataset into 2 halves\n",
    "    #compute size of each half\n",
    "    #for even number, it returns exact half of the array size\n",
    "    #for odd number, it returns the size excluding median\n",
    "    size_of_half=int(n/2)\n",
    "    print('Size of half:',size_of_half)\n",
    "    #slice lower half of the array\n",
    "    lower_half = arr.take(indices=range(0, size_of_half), axis=axis)\n",
    "    print('Lower Half\\n',lower_half) \n",
    "    \n",
    "    if (n % 2) == 0:\n",
    "        upper_half = arr.take(indices=range(size_of_half, n), axis=axis)\n",
    "    else:\n",
    "        #exclude median in case of odd number of values\n",
    "        upper_half = arr.take(indices=range(size_of_half+1, n), axis=axis)\n",
    "    \n",
    "    print('Upper Half\\n',upper_half)    \n",
    "    \n",
    "    #STEP 3: Compute Q1 and Q3\n",
    "    #Q1 is median of lower half and Q3 is median of upper half\n",
    "    q1 = np.median(lower_half,axis=axis)\n",
    "    q3 = np.median(upper_half,axis=axis)\n",
    "    \n",
    "    print('q1:',q1)\n",
    "    print('q3:',q3)\n",
    "        \n",
    "    return q1,q3  \n",
    "\n",
    "def compute_iqr(arr,axis=None):\n",
    "    q1, q3 = compute_quartiles(arr,axis)\n",
    "    iqr = q3 - q1\n",
    "    return iqr"
   ]
  },
  {
   "cell_type": "code",
   "execution_count": 20,
   "metadata": {},
   "outputs": [
    {
     "name": "stdout",
     "output_type": "stream",
     "text": [
      "Size of half: 3\n",
      "Lower Half\n",
      " [[23 22 16 24]\n",
      " [45 76 31 30]\n",
      " [56 77 33 45]]\n",
      "Upper Half\n",
      " [[92 90 42 62]\n",
      " [93 95 80 88]\n",
      " [95 99 91 97]]\n",
      "q1: [45. 76. 31. 30.]\n",
      "q3: [93. 95. 80. 88.]\n",
      "\n",
      "IQR for axis=0: [48. 19. 49. 58.]\n"
     ]
    }
   ],
   "source": [
    "iqr = compute_iqr(x,axis=0)\n",
    "print('\\nIQR for axis=0:',iqr)"
   ]
  },
  {
   "cell_type": "code",
   "execution_count": 21,
   "metadata": {
    "scrolled": false
   },
   "outputs": [
    {
     "name": "stdout",
     "output_type": "stream",
     "text": [
      "Size of half: 2\n",
      "Lower Half\n",
      " [[31 76]\n",
      " [23 42]\n",
      " [22 30]\n",
      " [42 59]\n",
      " [62 80]\n",
      " [24 33]\n",
      " [16 56]]\n",
      "Upper Half\n",
      " [[88 93]\n",
      " [45 77]\n",
      " [91 95]\n",
      " [68 95]\n",
      " [90 92]\n",
      " [45 99]\n",
      " [77 97]]\n",
      "q1: [53.5 32.5 26.  50.5 71.  28.5 36. ]\n",
      "q3: [90.5 61.  93.  81.5 91.  72.  87. ]\n",
      "\n",
      "IQR for axis=1: [37.  28.5 67.  31.  20.  43.5 51. ]\n"
     ]
    }
   ],
   "source": [
    "iqr = compute_iqr(x,axis=1)\n",
    "print('\\nIQR for axis=1:',iqr)"
   ]
  },
  {
   "cell_type": "code",
   "execution_count": 22,
   "metadata": {},
   "outputs": [
    {
     "name": "stdout",
     "output_type": "stream",
     "text": [
      "Size of half: 14\n",
      "Lower Half\n",
      " [16 22 23 24 30 31 33 42 42 45 45 56 59 62]\n",
      "Upper Half\n",
      " [68 76 77 77 80 88 90 91 92 93 95 95 97 99]\n",
      "q1: 37.5\n",
      "q3: 90.5\n",
      "\n",
      "IQR for axis=None: 53.0\n"
     ]
    }
   ],
   "source": [
    "#iqr for axis=None\n",
    "iqr = compute_iqr(x)\n",
    "print('\\nIQR for axis=None:',iqr)"
   ]
  },
  {
   "cell_type": "code",
   "execution_count": 23,
   "metadata": {},
   "outputs": [
    {
     "name": "stdout",
     "output_type": "stream",
     "text": [
      "data: [12  4  8 19  6 28 22  9 21 18]\n",
      "\n",
      "Size of half: 5\n",
      "Lower Half\n",
      " [ 4  6  8  9 12]\n",
      "Upper Half\n",
      " [18 19 21 22 28]\n",
      "q1: 8.0\n",
      "q3: 21.0\n",
      "\n",
      "IQR for 1D array: 13.0\n"
     ]
    }
   ],
   "source": [
    "#just to check that new function works even for 1D array\n",
    "print('data:',y)\n",
    "print()\n",
    "print('\\nIQR for 1D array:',compute_iqr(y))"
   ]
  },
  {
   "cell_type": "code",
   "execution_count": null,
   "metadata": {},
   "outputs": [],
   "source": []
  },
  {
   "cell_type": "code",
   "execution_count": null,
   "metadata": {},
   "outputs": [],
   "source": []
  },
  {
   "cell_type": "code",
   "execution_count": 1,
   "metadata": {},
   "outputs": [],
   "source": [
    "import numpy as np"
   ]
  },
  {
   "cell_type": "code",
   "execution_count": 2,
   "metadata": {},
   "outputs": [],
   "source": [
    "def compute_quartiles(arr,axis=None):\n",
    "    #STEP 1: sort the data first\n",
    "    arr = np.sort(arr,axis=axis)\n",
    "    #size of array\n",
    "    n = np.size(arr,axis)\n",
    "    \n",
    "    #STEP 2: divide dataset into 2 halves\n",
    "    #compute size of each half\n",
    "    #for even number, it returns exact half of the array size\n",
    "    #for odd number, it returns the size excluding median\n",
    "    size_of_half=int(n/2)\n",
    "    print('Size of half:',size_of_half)\n",
    "    #slice lower half of the array\n",
    "    lower_half = arr.take(indices=range(0, size_of_half), axis=axis)\n",
    "    print('Lower Half\\n',lower_half) \n",
    "    \n",
    "    if (n % 2) == 0:\n",
    "        upper_half = arr.take(indices=range(size_of_half, n), axis=axis)\n",
    "    else:\n",
    "        #exclude median in case of odd number of values\n",
    "        upper_half = arr.take(indices=range(size_of_half+1, n), axis=axis)\n",
    "    \n",
    "    print('Upper Half\\n',upper_half)    \n",
    "    \n",
    "    #STEP 3: Compute Q1 and Q3\n",
    "    #Q1 is median of lower half and Q3 is median of upper half\n",
    "    q1 = np.median(lower_half,axis=axis)\n",
    "    q3 = np.median(upper_half,axis=axis)\n",
    "    \n",
    "    print('q1:',q1)\n",
    "    print('q3:',q3)\n",
    "        \n",
    "    return q1,q3  \n",
    "\n",
    "#this function is modified to return q1 and q3 also along with iqr\n",
    "def compute_iqr(arr,axis=None):\n",
    "    q1, q3 = compute_quartiles(arr,axis)\n",
    "    iqr = q3 - q1\n",
    "    return q1,q3,iqr"
   ]
  },
  {
   "cell_type": "markdown",
   "metadata": {},
   "source": [
    "<u>IQR Method</u> \n",
    "\n",
    "Lower Bound: Q1 – N * IQR <br>\n",
    "Upper Bound: Q3 +  N * IQR <br>\n",
    "Outlier: x < Lower Bound (or)  x > Upper Bound <br>\n",
    "N  = 1.5 for mild outliers <br>\n",
    "N  = 3.0 for extreme outliers <br>"
   ]
  },
  {
   "cell_type": "code",
   "execution_count": 3,
   "metadata": {},
   "outputs": [],
   "source": [
    "def outlier_by_iqr(arr,N):\n",
    "    q1,q3,iqr = compute_iqr(arr)\n",
    "    print('******** Outlier Check ************')\n",
    "    \n",
    "    #computer lower bound and upper bound of IQR Method\n",
    "    lower_bound = q1 - N * iqr\n",
    "    upper_bound = q3 + N * iqr\n",
    "    \n",
    "    print('IQR:',iqr)\n",
    "    print('Lower Bound:',lower_bound)\n",
    "    print('Upper Bound:',upper_bound)\n",
    "    \n",
    "    #select outliers using numpy boolean indexing with \"or\" condition\n",
    "    outliers = arr[(arr < lower_bound) | (arr > upper_bound)  ]\n",
    "    return outliers"
   ]
  },
  {
   "cell_type": "code",
   "execution_count": 4,
   "metadata": {},
   "outputs": [],
   "source": [
    "data = np.array([25,47,49,54,57,59,61,63,64,67,71,72,73,79, 225])"
   ]
  },
  {
   "cell_type": "code",
   "execution_count": 5,
   "metadata": {},
   "outputs": [
    {
     "name": "stdout",
     "output_type": "stream",
     "text": [
      "Size of half: 7\n",
      "Lower Half\n",
      " [25 47 49 54 57 59 61]\n",
      "Upper Half\n",
      " [ 64  67  71  72  73  79 225]\n",
      "q1: 54.0\n",
      "q3: 72.0\n",
      "******** Outlier Check ************\n",
      "IQR: 18.0\n",
      "Lower Bound: 27.0\n",
      "Upper Bound: 99.0\n",
      "\n",
      "OUTLIERS: [ 25 225]\n"
     ]
    }
   ],
   "source": [
    "#outlier detection using inner fence, (i.e) N=1.5 by default\n",
    "outliers = outlier_by_iqr(data,N=1.5)\n",
    "print('\\nOUTLIERS:',outliers)"
   ]
  },
  {
   "cell_type": "code",
   "execution_count": 6,
   "metadata": {},
   "outputs": [
    {
     "name": "stdout",
     "output_type": "stream",
     "text": [
      "Size of half: 7\n",
      "Lower Half\n",
      " [25 47 49 54 57 59 61]\n",
      "Upper Half\n",
      " [ 64  67  71  72  73  79 225]\n",
      "q1: 54.0\n",
      "q3: 72.0\n",
      "******** Outlier Check ************\n",
      "IQR: 18.0\n",
      "Lower Bound: 0.0\n",
      "Upper Bound: 126.0\n",
      "\n",
      "OUTLIERS: [225]\n"
     ]
    }
   ],
   "source": [
    "#outlier detection using outer fence, (i.e) N=3.0\n",
    "outliers = outlier_by_iqr(data,N=3.0)\n",
    "print('\\nOUTLIERS:',outliers)"
   ]
  },
  {
   "cell_type": "markdown",
   "metadata": {},
   "source": [
    "Example 2 (Impact on data size)"
   ]
  },
  {
   "cell_type": "code",
   "execution_count": 7,
   "metadata": {},
   "outputs": [
    {
     "data": {
      "text/plain": [
       "array([5, 5, 5, 5, 5, 5, 5, 5, 5, 5, 5, 5, 5, 5, 5, 5, 5, 5, 5, 5, 5, 5,\n",
       "       5, 5, 5, 5, 5, 5, 5, 5, 5, 5, 5, 5, 5, 5, 5, 5, 5, 5, 5, 5, 5, 5,\n",
       "       5, 5, 5, 5, 5, 5, 5, 5, 5, 5, 5, 5, 5, 5, 5, 5, 5, 5, 5, 5, 5, 5,\n",
       "       5, 5, 5, 5, 5, 5, 5, 5, 5, 5, 5, 5, 5, 5, 5, 5, 5, 5, 5, 5, 5, 5,\n",
       "       5, 5, 5, 5, 5, 5, 5, 5, 5, 5, 5, 5])"
      ]
     },
     "execution_count": 7,
     "metadata": {},
     "output_type": "execute_result"
    }
   ],
   "source": [
    "#create array with size of 100 and value=5\n",
    "data2 = np.full(100,5)\n",
    "data2"
   ]
  },
  {
   "cell_type": "code",
   "execution_count": 8,
   "metadata": {},
   "outputs": [
    {
     "data": {
      "text/plain": [
       "array([  5,   5,   5,   5,   5,   5,   5,   5,   5,   5,   5,   5,   5,\n",
       "         5,   5,   5,   5,   5,   5,   5,   5,   5,   5,   5,   5,   5,\n",
       "         5,   5,   5,   5,   5,   5,   5,   5,   5,   7,   7,   7,   7,\n",
       "         7,   7,   7,   7,   7,   7,   5,   5,   5,   5,   5,   5,   5,\n",
       "         5,   5,   5,   5,   5,   8,   8,   8,   8,   8,   8,   8,   8,\n",
       "         8,   8,   8,   8,   8,   8,   8,   8,   8,   8,   8,   8,   5,\n",
       "         5,   5,  10,  10,  10,  10,  10,   5,   5,   5,   5,   5,   5,\n",
       "         5,   5,   5,   5,   5,  15,  67, -32, 150])"
      ]
     },
     "execution_count": 8,
     "metadata": {},
     "output_type": "execute_result"
    }
   ],
   "source": [
    "#modify array to have some other elements also\n",
    "data2[96] = 15\n",
    "data2[97] = 67\n",
    "data2[98]= -32\n",
    "data2[99] = 150\n",
    "\n",
    "data2[35:45] =7\n",
    "data2[57:77] =8\n",
    "data2[80:85] =10\n",
    "\n",
    "data2"
   ]
  },
  {
   "cell_type": "code",
   "execution_count": 9,
   "metadata": {},
   "outputs": [
    {
     "name": "stdout",
     "output_type": "stream",
     "text": [
      "Size of half: 50\n",
      "Lower Half\n",
      " [-32   5   5   5   5   5   5   5   5   5   5   5   5   5   5   5   5   5\n",
      "   5   5   5   5   5   5   5   5   5   5   5   5   5   5   5   5   5   5\n",
      "   5   5   5   5   5   5   5   5   5   5   5   5   5   5]\n",
      "Upper Half\n",
      " [  5   5   5   5   5   5   5   5   5   5   5   5   7   7   7   7   7   7\n",
      "   7   7   7   7   8   8   8   8   8   8   8   8   8   8   8   8   8   8\n",
      "   8   8   8   8   8   8  10  10  10  10  10  15  67 150]\n",
      "q1: 5.0\n",
      "q3: 8.0\n",
      "******** Outlier Check ************\n",
      "IQR: 3.0\n",
      "Lower Bound: 0.5\n",
      "Upper Bound: 12.5\n",
      "\n",
      "OUTLIERS: [ 15  67 -32 150]\n"
     ]
    }
   ],
   "source": [
    "#outlier detection using inner fence, (i.e) N=1.5 by default\n",
    "outliers = outlier_by_iqr(data2,N=1.5)\n",
    "print('\\nOUTLIERS:',outliers)"
   ]
  },
  {
   "cell_type": "code",
   "execution_count": 10,
   "metadata": {},
   "outputs": [
    {
     "name": "stdout",
     "output_type": "stream",
     "text": [
      "Size of half: 50\n",
      "Lower Half\n",
      " [-32   5   5   5   5   5   5   5   5   5   5   5   5   5   5   5   5   5\n",
      "   5   5   5   5   5   5   5   5   5   5   5   5   5   5   5   5   5   5\n",
      "   5   5   5   5   5   5   5   5   5   5   5   5   5   5]\n",
      "Upper Half\n",
      " [  5   5   5   5   5   5   5   5   5   5   5   5   7   7   7   7   7   7\n",
      "   7   7   7   7   8   8   8   8   8   8   8   8   8   8   8   8   8   8\n",
      "   8   8   8   8   8   8  10  10  10  10  10  15  67 150]\n",
      "q1: 5.0\n",
      "q3: 8.0\n",
      "******** Outlier Check ************\n",
      "IQR: 3.0\n",
      "Lower Bound: -4.0\n",
      "Upper Bound: 17.0\n",
      "\n",
      "OUTLIERS: [ 67 -32 150]\n"
     ]
    }
   ],
   "source": [
    "#outlier detection using outer fence, (i.e) N=3.0\n",
    "outliers = outlier_by_iqr(data2,N=3.0)\n",
    "print('\\nOUTLIERS:',outliers)"
   ]
  },
  {
   "cell_type": "markdown",
   "metadata": {},
   "source": [
    "Suppose let us keep only few data points (i.e only few repetitions) from the input"
   ]
  },
  {
   "cell_type": "code",
   "execution_count": 11,
   "metadata": {},
   "outputs": [],
   "source": [
    "#let us reduce the size of data from 100 to just 11 by having only 2 repetitions\n",
    "data3  = np.array([-32,5,5,7,7,8,8,10,15,67,150])"
   ]
  },
  {
   "cell_type": "code",
   "execution_count": 12,
   "metadata": {},
   "outputs": [
    {
     "name": "stdout",
     "output_type": "stream",
     "text": [
      "Size of half: 5\n",
      "Lower Half\n",
      " [-32   5   5   7   7]\n",
      "Upper Half\n",
      " [  8  10  15  67 150]\n",
      "q1: 5.0\n",
      "q3: 15.0\n",
      "******** Outlier Check ************\n",
      "IQR: 10.0\n",
      "Lower Bound: -10.0\n",
      "Upper Bound: 30.0\n",
      "\n",
      "OUTLIERS: [-32  67 150]\n"
     ]
    }
   ],
   "source": [
    "#outlier detection using inner fence, (i.e) N=1.5 by default\n",
    "outliers = outlier_by_iqr(data3,N=1.5)\n",
    "print('\\nOUTLIERS:',outliers)"
   ]
  },
  {
   "cell_type": "code",
   "execution_count": 13,
   "metadata": {},
   "outputs": [
    {
     "name": "stdout",
     "output_type": "stream",
     "text": [
      "Size of half: 5\n",
      "Lower Half\n",
      " [-32   5   5   7   7]\n",
      "Upper Half\n",
      " [  8  10  15  67 150]\n",
      "q1: 5.0\n",
      "q3: 15.0\n",
      "******** Outlier Check ************\n",
      "IQR: 10.0\n",
      "Lower Bound: -25.0\n",
      "Upper Bound: 45.0\n",
      "\n",
      "OUTLIERS: [-32  67 150]\n"
     ]
    }
   ],
   "source": [
    "#outlier detection using outer fence, (i.e) N=3.0\n",
    "outliers = outlier_by_iqr(data3,N=3.0)\n",
    "print('\\nOUTLIERS:',outliers)"
   ]
  },
  {
   "cell_type": "markdown",
   "metadata": {},
   "source": [
    "IQR could detect extreme outliers even with just few repetitions of similar data. This implies that IQR method could work even with small data size."
   ]
  }
 ],
 "metadata": {
  "kernelspec": {
   "display_name": "Python 3 (ipykernel)",
   "language": "python",
   "name": "python3"
  },
  "language_info": {
   "codemirror_mode": {
    "name": "ipython",
    "version": 3
   },
   "file_extension": ".py",
   "mimetype": "text/x-python",
   "name": "python",
   "nbconvert_exporter": "python",
   "pygments_lexer": "ipython3",
   "version": "3.9.7"
  }
 },
 "nbformat": 4,
 "nbformat_minor": 2
}
