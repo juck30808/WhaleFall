{
 "cells": [
  {
   "cell_type": "code",
   "execution_count": 1,
   "metadata": {},
   "outputs": [],
   "source": [
    "from time import strftime\n",
    "from tkinter import Label, Tk\n",
    "\n",
    "# Window Config for clock\n",
    "window = Tk()\n",
    "window.title(\"\")\n",
    "window.geometry(\"200x80\")\n",
    "window.configure(bg = \"red\")\n",
    "window.resizable(False, False)\n",
    "\n",
    "# label config\n",
    "clock_label = Label(window, bg=\"red\", fg=\"white\", font = (\"Times\", 30, 'bold'), relief='flat')\n",
    "clock_label.place(x = 20, y = 20)\n",
    "\n",
    "def updating_label():\n",
    "    current_time = strftime('%H: %M: %S')\n",
    "    clock_label.configure(text = current_time)\n",
    "    clock_label.after(80, updating_label)\n",
    "\n",
    "updating_label()\n",
    "window.mainloop()"
   ]
  },
  {
   "cell_type": "code",
   "execution_count": null,
   "metadata": {},
   "outputs": [],
   "source": [
    "# Importing Modules\n",
    "from tkinter import *\n",
    "from time import strftime\n",
    "\n",
    "root = Tk()  # Creates tkinter window\n",
    "root.title(\"Digital Computer Clock\")  # Adds title to tkinter window\n",
    "\n",
    "# Function used to display time on the label\n",
    "def time():\n",
    "    string = strftime(\"%H:%M:%S %p\")\n",
    "    lbl.config(text = string)\n",
    "    lbl.after(1000, time)\n",
    "\n",
    "# Styling the label widget which displays the clock\n",
    "lbl = Label(root, font = (\"arial\", 160, \"bold\"),bg=\"black\",fg=\"white\")\n",
    "\n",
    "# Pack method in tkinter packs widgets into rows or columns. Positions label\n",
    "lbl.pack(anchor = \"center\",fill = \"both\",expand=1)\n",
    "\n",
    "time()  # Time function is called\n",
    "\n",
    "mainloop()   # Runs the application program\n"
   ]
  }
 ],
 "metadata": {
  "kernelspec": {
   "display_name": "Python 3",
   "language": "python",
   "name": "python3"
  },
  "language_info": {
   "codemirror_mode": {
    "name": "ipython",
    "version": 3
   },
   "file_extension": ".py",
   "mimetype": "text/x-python",
   "name": "python",
   "nbconvert_exporter": "python",
   "pygments_lexer": "ipython3",
   "version": "3.8.5"
  }
 },
 "nbformat": 4,
 "nbformat_minor": 5
}
