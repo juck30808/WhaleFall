{
 "cells": [
  {
   "cell_type": "markdown",
   "metadata": {},
   "source": [
    "## Numpy Statistical Functions - Median"
   ]
  },
  {
   "cell_type": "markdown",
   "metadata": {},
   "source": [
    "### <center>Formula to compute Median</center>\n",
    "## $$Median = \\{\\frac{(n + 1)}{2}\\}^{th} term  $$\n",
    "<center><i> n: no.of observations <br> </i></center>"
   ]
  },
  {
   "cell_type": "code",
   "execution_count": 1,
   "metadata": {},
   "outputs": [
    {
     "data": {
      "text/plain": [
       "48.0"
      ]
     },
     "execution_count": 1,
     "metadata": {},
     "output_type": "execute_result"
    }
   ],
   "source": [
    "import numpy as np\n",
    "y = np.array([54, 48, 62, 42, 12, 52, 25, 37, 57])\n",
    "np.median(y)"
   ]
  },
  {
   "cell_type": "markdown",
   "metadata": {},
   "source": [
    "even number of elements"
   ]
  },
  {
   "cell_type": "markdown",
   "metadata": {},
   "source": [
    "### <center>Formula to compute Median</center>\n",
    "## $$Median = \\frac {\\left( \\frac{n}{2} \\right)^{th} term + \\{ \\left( \\frac{n}{2} \\right) + 1 \\}^{th} term } {2} $$\n",
    "<center><i> n: no.of observations <br> </i></center>"
   ]
  },
  {
   "cell_type": "code",
   "execution_count": 2,
   "metadata": {},
   "outputs": [
    {
     "data": {
      "text/plain": [
       "50.0"
      ]
     },
     "execution_count": 2,
     "metadata": {},
     "output_type": "execute_result"
    }
   ],
   "source": [
    "y = np.array([54, 48, 62, 42, 12, 52, 25, 37, 57, 400])\n",
    "np.median(y)"
   ]
  },
  {
   "cell_type": "markdown",
   "metadata": {},
   "source": [
    "2D array"
   ]
  },
  {
   "cell_type": "code",
   "execution_count": 3,
   "metadata": {},
   "outputs": [],
   "source": [
    "x = np.array([[14, 17, 12, 33, 44],   \n",
    "       [23, 6, 54, 8, 4],  \n",
    "       [15, 2, 27, 1, 19, ]])"
   ]
  },
  {
   "cell_type": "code",
   "execution_count": 4,
   "metadata": {},
   "outputs": [],
   "source": [
    "# The below code is used only for display purposes for training \n",
    "# and is not mandatory for learning numpy\n",
    "from IPython.display import HTML, display\n",
    "\n",
    "def display_table(data,size='h2'):\n",
    "    html = \"<table>\"\n",
    "    for row in data:\n",
    "        html += \"<tr>\"\n",
    "        for field in row:\n",
    "            html += \"<td><%s>%s</h2><td>\"%(size,field)\n",
    "        html += \"</tr>\"\n",
    "    html += \"</table>\"\n",
    "    display(HTML(html))"
   ]
  },
  {
   "cell_type": "code",
   "execution_count": 5,
   "metadata": {},
   "outputs": [
    {
     "data": {
      "text/plain": [
       "array([[14, 17, 12, 33, 44],\n",
       "       [23,  6, 54,  8,  4],\n",
       "       [15,  2, 27,  1, 19]])"
      ]
     },
     "execution_count": 5,
     "metadata": {},
     "output_type": "execute_result"
    }
   ],
   "source": [
    "x"
   ]
  },
  {
   "cell_type": "markdown",
   "metadata": {},
   "source": [
    "###### axis=0"
   ]
  },
  {
   "cell_type": "code",
   "execution_count": 6,
   "metadata": {},
   "outputs": [
    {
     "data": {
      "text/plain": [
       "array([15.,  6., 27.,  8., 19.])"
      ]
     },
     "execution_count": 6,
     "metadata": {},
     "output_type": "execute_result"
    }
   ],
   "source": [
    "np.median(x,axis=0)"
   ]
  },
  {
   "cell_type": "code",
   "execution_count": 7,
   "metadata": {},
   "outputs": [
    {
     "name": "stdout",
     "output_type": "stream",
     "text": [
      "sorted data for axis=0\n"
     ]
    },
    {
     "data": {
      "text/html": [
       "<table><tr><td><h2>14</h2><td><td><h2>2</h2><td><td><h2>12</h2><td><td><h2>1</h2><td><td><h2>4</h2><td></tr><tr><td><h2>15</h2><td><td><h2>6</h2><td><td><h2>27</h2><td><td><h2>8</h2><td><td><h2>19</h2><td></tr><tr><td><h2>23</h2><td><td><h2>17</h2><td><td><h2>54</h2><td><td><h2>33</h2><td><td><h2>44</h2><td></tr></table>"
      ],
      "text/plain": [
       "<IPython.core.display.HTML object>"
      ]
     },
     "metadata": {},
     "output_type": "display_data"
    }
   ],
   "source": [
    "#the below code is only for understanding purposes\n",
    "# and not required for computing median\n",
    "temp = np.sort(x,axis=0)\n",
    "print('sorted data for axis=0')\n",
    "display_table(temp)"
   ]
  },
  {
   "cell_type": "markdown",
   "metadata": {},
   "source": [
    "###### axis=1"
   ]
  },
  {
   "cell_type": "code",
   "execution_count": 8,
   "metadata": {},
   "outputs": [
    {
     "data": {
      "text/plain": [
       "array([[14, 17, 12, 33, 44],\n",
       "       [23,  6, 54,  8,  4],\n",
       "       [15,  2, 27,  1, 19]])"
      ]
     },
     "execution_count": 8,
     "metadata": {},
     "output_type": "execute_result"
    }
   ],
   "source": [
    "x"
   ]
  },
  {
   "cell_type": "code",
   "execution_count": 9,
   "metadata": {},
   "outputs": [
    {
     "data": {
      "text/plain": [
       "array([17.,  8., 15.])"
      ]
     },
     "execution_count": 9,
     "metadata": {},
     "output_type": "execute_result"
    }
   ],
   "source": [
    "np.median(x,axis=1)"
   ]
  },
  {
   "cell_type": "code",
   "execution_count": 10,
   "metadata": {},
   "outputs": [
    {
     "name": "stdout",
     "output_type": "stream",
     "text": [
      "sorted data for axis=1\n"
     ]
    },
    {
     "data": {
      "text/html": [
       "<table><tr><td><h2>12</h2><td><td><h2>14</h2><td><td><h2>17</h2><td><td><h2>33</h2><td><td><h2>44</h2><td></tr><tr><td><h2>4</h2><td><td><h2>6</h2><td><td><h2>8</h2><td><td><h2>23</h2><td><td><h2>54</h2><td></tr><tr><td><h2>1</h2><td><td><h2>2</h2><td><td><h2>15</h2><td><td><h2>19</h2><td><td><h2>27</h2><td></tr></table>"
      ],
      "text/plain": [
       "<IPython.core.display.HTML object>"
      ]
     },
     "metadata": {},
     "output_type": "display_data"
    }
   ],
   "source": [
    "#the below code is only for understanding purposes\n",
    "# and not required for computing median\n",
    "temp =np.sort(x,axis=1)\n",
    "print('sorted data for axis=1')\n",
    "display_table(temp)"
   ]
  },
  {
   "cell_type": "code",
   "execution_count": 11,
   "metadata": {},
   "outputs": [
    {
     "data": {
      "text/plain": [
       "15.0"
      ]
     },
     "execution_count": 11,
     "metadata": {},
     "output_type": "execute_result"
    }
   ],
   "source": [
    "#when axis=None\n",
    "np.median(x)"
   ]
  },
  {
   "cell_type": "code",
   "execution_count": 12,
   "metadata": {},
   "outputs": [
    {
     "data": {
      "text/plain": [
       "array([ 1,  2,  4,  6,  8, 12, 14, 15, 17, 19, 23, 27, 33, 44, 54])"
      ]
     },
     "execution_count": 12,
     "metadata": {},
     "output_type": "execute_result"
    }
   ],
   "source": [
    "#the below code is only for understanding purposes\n",
    "# and not required for computing median\n",
    "temp =np.array([ 1,  2,  4,  6,  8, 12, 14, 15, 17, 19, 23, 27, 33, 44, 54])\n",
    "temp"
   ]
  }
 ],
 "metadata": {
  "kernelspec": {
   "display_name": "Python 3 (ipykernel)",
   "language": "python",
   "name": "python3"
  },
  "language_info": {
   "codemirror_mode": {
    "name": "ipython",
    "version": 3
   },
   "file_extension": ".py",
   "mimetype": "text/x-python",
   "name": "python",
   "nbconvert_exporter": "python",
   "pygments_lexer": "ipython3",
   "version": "3.9.7"
  }
 },
 "nbformat": 4,
 "nbformat_minor": 2
}
