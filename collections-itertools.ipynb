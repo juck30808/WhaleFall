{
 "cells": [
  {
   "cell_type": "code",
   "execution_count": 1,
   "id": "a77c8569",
   "metadata": {},
   "outputs": [
    {
     "name": "stdout",
     "output_type": "stream",
     "text": [
      "16695334890\n"
     ]
    }
   ],
   "source": [
    "from itertools import permutations as permütasyon\n",
    "\n",
    "rakamlar = \"0123456789\"\n",
    "\n",
    "sayılar = permütasyon(rakamlar)\n",
    "pandijitalSayılar = [\"\".join(sayı) for sayı in sayılar if not sayı[0] == \"0\" ]\n",
    "asallar = [2,3,5,7,11,13,17]\n",
    "\n",
    "toplam = 0\n",
    "\n",
    "for sayı in pandijitalSayılar:\n",
    "    kontrol = True\n",
    "    for i in range(0,len(asallar)):\n",
    "        if int(sayı[i+1:i+4]) % asallar[i] != 0:\n",
    "            kontrol = False\n",
    "            break\n",
    "    if kontrol:\n",
    "        toplam += int(sayı)\n",
    "    \n",
    "print(toplam)"
   ]
  },
  {
   "cell_type": "code",
   "execution_count": 2,
   "id": "6abc600a",
   "metadata": {},
   "outputs": [
    {
     "name": "stdout",
     "output_type": "stream",
     "text": [
      "('2', '7', '8', '3', '9', '1', '5', '4', '6', '0')\n"
     ]
    }
   ],
   "source": [
    "from itertools import permutations\n",
    "\n",
    "rakamlar = \"0123456789\"\n",
    "sayilar = list(permutations(rakamlar))\n",
    "sonuc = sayilar[999999]\n",
    "print(sonuc)"
   ]
  },
  {
   "cell_type": "code",
   "execution_count": 4,
   "id": "5eaef437",
   "metadata": {},
   "outputs": [
    {
     "ename": "NameError",
     "evalue": "name 'dounting' is not defined",
     "output_type": "error",
     "traceback": [
      "\u001b[1;31m---------------------------------------------------------------------------\u001b[0m",
      "\u001b[1;31mNameError\u001b[0m                                 Traceback (most recent call last)",
      "\u001b[1;32mC:\\Users\\CTI110~1\\AppData\\Local\\Temp/ipykernel_11360/3331262765.py\u001b[0m in \u001b[0;36m<module>\u001b[1;34m\u001b[0m\n\u001b[0;32m     40\u001b[0m             \u001b[1;32mraise\u001b[0m \u001b[0mStopIteration\u001b[0m\u001b[1;33m\u001b[0m\u001b[1;33m\u001b[0m\u001b[0m\n\u001b[0;32m     41\u001b[0m \u001b[1;33m\u001b[0m\u001b[0m\n\u001b[1;32m---> 42\u001b[1;33m \u001b[0mnewObj\u001b[0m \u001b[1;33m=\u001b[0m \u001b[0mdounting\u001b[0m\u001b[1;33m(\u001b[0m\u001b[1;33m)\u001b[0m\u001b[1;33m\u001b[0m\u001b[1;33m\u001b[0m\u001b[0m\n\u001b[0m\u001b[0;32m     43\u001b[0m \u001b[0mnewit\u001b[0m \u001b[1;33m=\u001b[0m \u001b[0miter\u001b[0m\u001b[1;33m(\u001b[0m\u001b[0mnewObj\u001b[0m\u001b[1;33m)\u001b[0m\u001b[1;33m\u001b[0m\u001b[1;33m\u001b[0m\u001b[0m\n\u001b[0;32m     44\u001b[0m \u001b[1;33m\u001b[0m\u001b[0m\n",
      "\u001b[1;31mNameError\u001b[0m: name 'dounting' is not defined"
     ]
    }
   ],
   "source": [
    "# Iterator from fruitstuple and print each value\n",
    "# fruitstuple = (\"banana\", \"lemon\", \"apple\")\n",
    "# newit = iter(fruitstuple)\n",
    "\n",
    "# print(next(newit))\n",
    "# print(next(newit))\n",
    "# print(next(newit))\n",
    "# Iterator from sequence of characters\n",
    "# fruitstr = \"lemon\"\n",
    "# newit = iter(fruitstr)\n",
    "\n",
    "# print(next(newit))\n",
    "# print(next(newit))\n",
    "# print(next(newit))\n",
    "# print(next(newit))\n",
    "# print(next(newit))\n",
    "# for loop to iterate through a tuple\n",
    "# fruitstuple = (\"banana\", \"lemon\", \"apple\")\n",
    "\n",
    "# for i in fruitstuple:\n",
    "#     print(i)\n",
    "\n",
    "# for loop to iterate through a string\n",
    "# fruitstr = \"lemonllllllll\"\n",
    "\n",
    "# for i in fruitstr:\n",
    "#     print(i)\n",
    "# Build  an iterator that returns numbers\n",
    "class Counting:\n",
    "    def __iter__(self):\n",
    "        self.a = 1\n",
    "        return self\n",
    "    \n",
    "    def __next__(self):\n",
    "        if self.a <= 19:\n",
    "            x = self.a\n",
    "            self.a += 1\n",
    "            return x\n",
    "        else:\n",
    "            raise StopIteration    \n",
    "\n",
    "newObj = ounting()\n",
    "newit = iter(newObj)\n",
    "\n",
    "\n",
    "# for x in newit:\n",
    "#     print(x)\n",
    "print(next(newit))\n",
    "print(next(newit))\n",
    "print(next(newit))\n",
    "print(next(newit))\n",
    "print(next(newit))\n",
    "print(next(newit))\n",
    "print(next(newit))\n",
    "print(next(newit))\n",
    "print(next(newit))\n",
    "print(next(newit))\n",
    "print(next(newit))\n",
    "print(next(newit))\n",
    "print(next(newit))\n",
    "print(next(newit))\n",
    "print(next(newit))\n",
    "print(next(newit))\n",
    "print(next(newit))\n",
    "print(next(newit))\n",
    "print(next(newit))\n",
    "print(next(newit))\n",
    "print(next(newit))\n",
    "print(next(newit))\n",
    "print(next(newit))\n",
    "print(next(newit))"
   ]
  },
  {
   "cell_type": "code",
   "execution_count": null,
   "id": "1d464e6e",
   "metadata": {},
   "outputs": [],
   "source": []
  }
 ],
 "metadata": {
  "kernelspec": {
   "display_name": "Python 3 (ipykernel)",
   "language": "python",
   "name": "python3"
  },
  "language_info": {
   "codemirror_mode": {
    "name": "ipython",
    "version": 3
   },
   "file_extension": ".py",
   "mimetype": "text/x-python",
   "name": "python",
   "nbconvert_exporter": "python",
   "pygments_lexer": "ipython3",
   "version": "3.9.7"
  }
 },
 "nbformat": 4,
 "nbformat_minor": 5
}
