{
 "cells": [
  {
   "cell_type": "code",
   "execution_count": null,
   "metadata": {},
   "outputs": [],
   "source": [
    "resultado = None\n",
    "a = '10'\n",
    "b = 0\n",
    "try:\n",
    "    resultado = a/b\n",
    "except ZeroDivisionError as e:\n",
    "    print(f'ZeroDivisionError - Ocurrió un error: {e} , {type(e)}')\n",
    "except TypeError as e:\n",
    "    print(f'TypeError - Ocurrió un error: {e} , {type(e)}')\n",
    "except Exception as e:\n",
    "    print(f'Exception - Ocurrió un error: {e} , {type(e)}')\n",
    "\n",
    "print(f'Resultado: {resultado}')\n",
    "print('Continuamos...')"
   ]
  },
  {
   "cell_type": "code",
   "execution_count": null,
   "metadata": {},
   "outputs": [],
   "source": [
    "resultado = None\n",
    "a = '10'\n",
    "b = 0\n",
    "try:\n",
    "    resultado = a/b\n",
    "except Exception as e:\n",
    "    print(f'Ocurrió un error: {e}')\n",
    "\n",
    "print(f'Resultado: {resultado}')\n",
    "print('Continuamos...')"
   ]
  },
  {
   "cell_type": "code",
   "execution_count": null,
   "metadata": {},
   "outputs": [],
   "source": [
    "try:\n",
    "    archivo = open('prueba.txt', 'w', encoding='utf8')\n",
    "    archivo.write('Agregamos información al archivo\\n')\n",
    "    archivo.write('Adios')\n",
    "except Exception as e:\n",
    "    print(e)\n",
    "finally:\n",
    "    archivo.close()\n",
    "    print('Fin del archivo')\n",
    "    # archivo.write('nueva info')"
   ]
  },
  {
   "cell_type": "code",
   "execution_count": null,
   "metadata": {},
   "outputs": [],
   "source": [
    "try:\n",
    "    10/0\n",
    "except Exception as e:\n",
    "    print(f'An error occurred: {e}')"
   ]
  },
  {
   "cell_type": "code",
   "execution_count": null,
   "metadata": {},
   "outputs": [],
   "source": [
    "try:\n",
    "    archivo = open('prueba.txt', 'w')\n",
    "    archivo.write('We add information to the file\\n')\n",
    "    archivo.write('Bye')\n",
    "except Exception as e:\n",
    "    print(e)\n",
    "finally:\n",
    "    archivo.close()"
   ]
  },
  {
   "cell_type": "code",
   "execution_count": null,
   "metadata": {},
   "outputs": [],
   "source": [
    "resultado = None\n",
    "try:\n",
    "    a = int(input('Primer número: '))\n",
    "    b = int(input('Segundo número: '))\n",
    "    resultado = a/b\n",
    "except ZeroDivisionError as e:\n",
    "    print(f'ZeroDivisionError - Ocurrió un error: {e} , {type(e)}')\n",
    "except TypeError as e:\n",
    "    print(f'TypeError - Ocurrió un error: {e} , {type(e)}')\n",
    "except Exception as e:\n",
    "    print(f'Exception - Ocurrió un error: {e} , {type(e)}')\n",
    "\n",
    "print(f'Resultado: {resultado}')\n",
    "print('Continuamos...')"
   ]
  },
  {
   "cell_type": "code",
   "execution_count": null,
   "metadata": {},
   "outputs": [],
   "source": [
    "resultado = None\n",
    "try:\n",
    "    a = int(input('Primer número: '))\n",
    "    b = int(input('Segundo número: '))\n",
    "    resultado = a/b\n",
    "except ZeroDivisionError as e:\n",
    "    print(f'ZeroDivisionError - Ocurrió un error: {e} , {type(e)}')\n",
    "except TypeError as e:\n",
    "    print(f'TypeError - Ocurrió un error: {e} , {type(e)}')\n",
    "except Exception as e:\n",
    "    print(f'Exception - Ocurrió un error: {e} , {type(e)}')\n",
    "else:\n",
    "    print('No se arrojó ninguna excepción')\n",
    "finally:\n",
    "    print('Ejecución del bloque finally')\n",
    "\n",
    "print(f'Resultado: {resultado}')\n",
    "print('Continuamos...')"
   ]
  },
  {
   "cell_type": "code",
   "execution_count": 1,
   "metadata": {},
   "outputs": [
    {
     "name": "stdout",
     "output_type": "stream",
     "text": [
      "4.0\n",
      "The operation is completed!\n"
     ]
    }
   ],
   "source": [
    "try:\n",
    "    x = 4\n",
    "    y = 1\n",
    "    print(x/y)\n",
    "except:\n",
    "    print(\"There is an error here!\")\n",
    "print(\"The operation is completed!\")"
   ]
  },
  {
   "cell_type": "code",
   "execution_count": 2,
   "metadata": {},
   "outputs": [
    {
     "name": "stdout",
     "output_type": "stream",
     "text": [
      "You can't divide the number with zero!\n",
      "The operation is completed!\n"
     ]
    }
   ],
   "source": [
    "try:\n",
    "    x = 4\n",
    "    y = 0\n",
    "    print(x/y)\n",
    "except TypeError:\n",
    "    print(\"There is an error here!\")\n",
    "except ZeroDivisionError:\n",
    "    print(\"You can't divide the number with zero!\")\n",
    "print(\"The operation is completed!\")"
   ]
  },
  {
   "cell_type": "code",
   "execution_count": null,
   "metadata": {},
   "outputs": [],
   "source": []
  }
 ],
 "metadata": {
  "kernelspec": {
   "display_name": "Python 3",
   "language": "python",
   "name": "python3"
  },
  "language_info": {
   "codemirror_mode": {
    "name": "ipython",
    "version": 3
   },
   "file_extension": ".py",
   "mimetype": "text/x-python",
   "name": "python",
   "nbconvert_exporter": "python",
   "pygments_lexer": "ipython3",
   "version": "3.8.5"
  }
 },
 "nbformat": 4,
 "nbformat_minor": 4
}
