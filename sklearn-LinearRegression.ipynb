{
 "cells": [
  {
   "cell_type": "markdown",
   "metadata": {},
   "source": [
    "## Input data"
   ]
  },
  {
   "cell_type": "code",
   "execution_count": 13,
   "metadata": {},
   "outputs": [
    {
     "data": {
      "text/html": [
       "<div>\n",
       "<style scoped>\n",
       "    .dataframe tbody tr th:only-of-type {\n",
       "        vertical-align: middle;\n",
       "    }\n",
       "\n",
       "    .dataframe tbody tr th {\n",
       "        vertical-align: top;\n",
       "    }\n",
       "\n",
       "    .dataframe thead th {\n",
       "        text-align: right;\n",
       "    }\n",
       "</style>\n",
       "<table border=\"1\" class=\"dataframe\">\n",
       "  <thead>\n",
       "    <tr style=\"text-align: right;\">\n",
       "      <th></th>\n",
       "      <th>x</th>\n",
       "      <th>y</th>\n",
       "    </tr>\n",
       "  </thead>\n",
       "  <tbody>\n",
       "    <tr>\n",
       "      <th>0</th>\n",
       "      <td>3.745401</td>\n",
       "      <td>3.229269</td>\n",
       "    </tr>\n",
       "    <tr>\n",
       "      <th>1</th>\n",
       "      <td>9.507143</td>\n",
       "      <td>14.185654</td>\n",
       "    </tr>\n",
       "    <tr>\n",
       "      <th>2</th>\n",
       "      <td>7.319939</td>\n",
       "      <td>9.524231</td>\n",
       "    </tr>\n",
       "    <tr>\n",
       "      <th>3</th>\n",
       "      <td>5.986585</td>\n",
       "      <td>6.672066</td>\n",
       "    </tr>\n",
       "    <tr>\n",
       "      <th>4</th>\n",
       "      <td>1.560186</td>\n",
       "      <td>-3.358149</td>\n",
       "    </tr>\n",
       "  </tbody>\n",
       "</table>\n",
       "</div>"
      ],
      "text/plain": [
       "          x          y\n",
       "0  3.745401   3.229269\n",
       "1  9.507143  14.185654\n",
       "2  7.319939   9.524231\n",
       "3  5.986585   6.672066\n",
       "4  1.560186  -3.358149"
      ]
     },
     "execution_count": 13,
     "metadata": {},
     "output_type": "execute_result"
    }
   ],
   "source": [
    "from pandas import read_csv\n",
    "\n",
    "data = read_csv(\"https://milliams.com/courses/applied_data_analysis/linear.csv\")\n",
    "data.head()"
   ]
  },
  {
   "cell_type": "code",
   "execution_count": 14,
   "metadata": {},
   "outputs": [
    {
     "data": {
      "text/plain": [
       "x    50\n",
       "y    50\n",
       "dtype: int64"
      ]
     },
     "execution_count": 14,
     "metadata": {},
     "output_type": "execute_result"
    }
   ],
   "source": [
    "# We have 50 rows here.\n",
    "data.count()"
   ]
  },
  {
   "cell_type": "code",
   "execution_count": 15,
   "metadata": {},
   "outputs": [
    {
     "data": {
      "text/plain": [
       "<AxesSubplot:xlabel='x', ylabel='y'>"
      ]
     },
     "execution_count": 15,
     "metadata": {},
     "output_type": "execute_result"
    },
    {
     "data": {
      "image/png": "[encoded data removed]",
      "text/plain": [
       "<Figure size 432x288 with 1 Axes>"
      ]
     },
     "metadata": {
      "needs_background": "light"
     },
     "output_type": "display_data"
    }
   ],
   "source": [
    "%matplotlib inline\n",
    "data.plot.scatter(\"x\", \"y\")\n",
    "\n",
    "#We can clearly visually see here that there \n",
    "# is a linear relationship between the x and y"
   ]
  },
  {
   "cell_type": "markdown",
   "metadata": {},
   "source": [
    "## Linear Regression\n",
    "\n",
    "Process:\n",
    "1. Import the model you want to use\n",
    "2. Create an instance of that model and set any hyperparameters you want\n",
    "3. Fit the model to the data, this computes the parameters of the model using machine learning\n",
    "4. Predict new information using the model\n",
    "\n",
    "默認情況下，LinearRegression 模型將擬合 y 截距，但由於我們不想做出該假設，因此我們明確地傳遞 fit_intercept=True。 設定為預先設置而不是讓它們從數據中學習。"
   ]
  },
  {
   "cell_type": "code",
   "execution_count": 16,
   "metadata": {},
   "outputs": [],
   "source": [
    "from sklearn.linear_model import LinearRegression\n",
    "model = LinearRegression(fit_intercept=True)"
   ]
  },
  {
   "cell_type": "markdown",
   "metadata": {},
   "source": [
    "## Fitting the data (擬合)\n",
    "\n",
    "1. The input data as a two-dimensional structure of the size (Nsample, Nfeatures)\n",
    "2. The labels or targets of the data as a one-dimensional data structure of size (Nsample)"
   ]
  },
  {
   "cell_type": "code",
   "execution_count": 17,
   "metadata": {
    "scrolled": true
   },
   "outputs": [
    {
     "data": {
      "text/plain": [
       "LinearRegression()"
      ]
     },
     "execution_count": 17,
     "metadata": {},
     "output_type": "execute_result"
    }
   ],
   "source": [
    "model.fit(data[[\"x\"]], data[\"y\"])"
   ]
  },
  {
   "cell_type": "markdown",
   "metadata": {},
   "source": [
    "## Making predictions using the model"
   ]
  },
  {
   "cell_type": "code",
   "execution_count": 18,
   "metadata": {},
   "outputs": [
    {
     "data": {
      "text/plain": [
       "[<matplotlib.lines.Line2D at 0x2b912c73280>]"
      ]
     },
     "execution_count": 18,
     "metadata": {},
     "output_type": "execute_result"
    },
    {
     "data": {
      "image/png": "[encoded data removed]",
      "text/plain": [
       "<Figure size 432x288 with 1 Axes>"
      ]
     },
     "metadata": {
      "needs_background": "light"
     },
     "output_type": "display_data"
    }
   ],
   "source": [
    "import matplotlib.pyplot as plt\n",
    "import pandas as pd\n",
    "\n",
    "x_fit = pd.DataFrame({\"x\": [data[\"x\"].min(), data[\"x\"].max()]})\n",
    "y_pred = model.predict(x_fit)\n",
    "\n",
    "fig, ax = plt.subplots()\n",
    "data.plot.scatter(\"x\", \"y\", ax=ax)\n",
    "ax.plot(x_fit[\"x\"], y_pred, linestyle=\":\")"
   ]
  },
  {
   "cell_type": "code",
   "execution_count": 20,
   "metadata": {},
   "outputs": [
    {
     "name": "stdout",
     "output_type": "stream",
     "text": [
      "Model gradient:  1.9776566003853104\n",
      "Model intercept: -4.903310725531112\n"
     ]
    }
   ],
   "source": [
    "print(\"Model gradient: \", model.coef_[0])   #陡度\n",
    "print(\"Model intercept:\", model.intercept_) #截距"
   ]
  },
  {
   "cell_type": "markdown",
   "metadata": {},
   "source": [
    "## 取得方程式\n",
    "## y = 1.97x − 4.90"
   ]
  },
  {
   "cell_type": "markdown",
   "metadata": {},
   "source": [
    "# Analyzing the quality of the fit\n",
    "\n",
    "為了真正判斷模型有多好，我們需要將它與一些數據進行比較，看看它與它的一致性（即它能夠預測它的能力如何）。\n",
    "\n",
    "- 將我們的模型與我們用來擬合它的相同數據進行比較是一件危險的事情，因為它鼓勵您調整模型以最適合您的數據，而不是嘗試製作一個模型來預測生成數據的過程。以犧牲全局超集為代價，使您的模型適合您的本地子集被稱為 overfitting (過度擬合)。"
   ]
  },
  {
   "attachments": {
    "image.png": {
     "image/png": "[encoded data removed]"
    }
   },
   "cell_type": "markdown",
   "metadata": {},
   "source": [
    "![image.png](attachment:image.png)"
   ]
  },
  {
   "cell_type": "markdown",
   "metadata": {},
   "source": [
    "我們可以用多項式擬合模型。 從數學上講，如果多項式次數增加得足夠多，我們就可以擬合任何函數。 例如用 15 階多項式擬合數據會創建一個模型，該模型通過大部分點，但清楚地表示底層模型很糟糕，現實世界中，您通常沒有可用的底層模型。 在這些情況下，過擬合更難看出，因為它只是表現為“表現良好”的模型。： "
   ]
  },
  {
   "attachments": {
    "image.png": {
     "image/png": "[encoded data removed]"
    }
   },
   "cell_type": "markdown",
   "metadata": {},
   "source": [
    "![image.png](attachment:image.png)"
   ]
  },
  {
   "cell_type": "markdown",
   "metadata": {},
   "source": [
    "## Solution of Overfitting\n",
    "\n",
    "過擬合的最簡單解決方案是用一個數據子集擬合模型，然後用另一個子集評估其質量。 如果這兩個子集是獨立的，則前者中您的數據可能試圖過度擬合的任何特定特徵將不會出現在後者中，因此將對其進行錯誤判斷。"
   ]
  },
  {
   "cell_type": "code",
   "execution_count": 22,
   "metadata": {
    "scrolled": true
   },
   "outputs": [
    {
     "data": {
      "text/html": [
       "<div>\n",
       "<style scoped>\n",
       "    .dataframe tbody tr th:only-of-type {\n",
       "        vertical-align: middle;\n",
       "    }\n",
       "\n",
       "    .dataframe tbody tr th {\n",
       "        vertical-align: top;\n",
       "    }\n",
       "\n",
       "    .dataframe thead th {\n",
       "        text-align: right;\n",
       "    }\n",
       "</style>\n",
       "<table border=\"1\" class=\"dataframe\">\n",
       "  <thead>\n",
       "    <tr style=\"text-align: right;\">\n",
       "      <th></th>\n",
       "      <th>x</th>\n",
       "      <th>y</th>\n",
       "    </tr>\n",
       "  </thead>\n",
       "  <tbody>\n",
       "    <tr>\n",
       "      <th>0</th>\n",
       "      <td>3.745401</td>\n",
       "      <td>3.229269</td>\n",
       "    </tr>\n",
       "    <tr>\n",
       "      <th>1</th>\n",
       "      <td>9.507143</td>\n",
       "      <td>14.185654</td>\n",
       "    </tr>\n",
       "    <tr>\n",
       "      <th>2</th>\n",
       "      <td>7.319939</td>\n",
       "      <td>9.524231</td>\n",
       "    </tr>\n",
       "    <tr>\n",
       "      <th>3</th>\n",
       "      <td>5.986585</td>\n",
       "      <td>6.672066</td>\n",
       "    </tr>\n",
       "    <tr>\n",
       "      <th>4</th>\n",
       "      <td>1.560186</td>\n",
       "      <td>-3.358149</td>\n",
       "    </tr>\n",
       "    <tr>\n",
       "      <th>5</th>\n",
       "      <td>1.559945</td>\n",
       "      <td>-2.599954</td>\n",
       "    </tr>\n",
       "    <tr>\n",
       "      <th>6</th>\n",
       "      <td>0.580836</td>\n",
       "      <td>-4.298967</td>\n",
       "    </tr>\n",
       "    <tr>\n",
       "      <th>7</th>\n",
       "      <td>8.661761</td>\n",
       "      <td>13.380645</td>\n",
       "    </tr>\n",
       "    <tr>\n",
       "      <th>8</th>\n",
       "      <td>6.011150</td>\n",
       "      <td>7.365919</td>\n",
       "    </tr>\n",
       "    <tr>\n",
       "      <th>9</th>\n",
       "      <td>7.080726</td>\n",
       "      <td>7.398411</td>\n",
       "    </tr>\n",
       "    <tr>\n",
       "      <th>10</th>\n",
       "      <td>0.205845</td>\n",
       "      <td>-4.264226</td>\n",
       "    </tr>\n",
       "    <tr>\n",
       "      <th>11</th>\n",
       "      <td>9.699099</td>\n",
       "      <td>14.013115</td>\n",
       "    </tr>\n",
       "    <tr>\n",
       "      <th>12</th>\n",
       "      <td>8.324426</td>\n",
       "      <td>10.971931</td>\n",
       "    </tr>\n",
       "    <tr>\n",
       "      <th>13</th>\n",
       "      <td>2.123391</td>\n",
       "      <td>-0.141541</td>\n",
       "    </tr>\n",
       "    <tr>\n",
       "      <th>14</th>\n",
       "      <td>1.818250</td>\n",
       "      <td>-0.332501</td>\n",
       "    </tr>\n",
       "    <tr>\n",
       "      <th>15</th>\n",
       "      <td>1.834045</td>\n",
       "      <td>-0.400630</td>\n",
       "    </tr>\n",
       "    <tr>\n",
       "      <th>16</th>\n",
       "      <td>3.042422</td>\n",
       "      <td>0.245627</td>\n",
       "    </tr>\n",
       "    <tr>\n",
       "      <th>17</th>\n",
       "      <td>5.247564</td>\n",
       "      <td>5.185916</td>\n",
       "    </tr>\n",
       "    <tr>\n",
       "      <th>18</th>\n",
       "      <td>4.319450</td>\n",
       "      <td>3.970164</td>\n",
       "    </tr>\n",
       "    <tr>\n",
       "      <th>19</th>\n",
       "      <td>2.912291</td>\n",
       "      <td>1.800128</td>\n",
       "    </tr>\n",
       "    <tr>\n",
       "      <th>20</th>\n",
       "      <td>6.118529</td>\n",
       "      <td>6.757884</td>\n",
       "    </tr>\n",
       "    <tr>\n",
       "      <th>21</th>\n",
       "      <td>1.394939</td>\n",
       "      <td>-2.395782</td>\n",
       "    </tr>\n",
       "    <tr>\n",
       "      <th>22</th>\n",
       "      <td>2.921446</td>\n",
       "      <td>-0.263442</td>\n",
       "    </tr>\n",
       "    <tr>\n",
       "      <th>23</th>\n",
       "      <td>3.663618</td>\n",
       "      <td>1.131030</td>\n",
       "    </tr>\n",
       "    <tr>\n",
       "      <th>24</th>\n",
       "      <td>4.560700</td>\n",
       "      <td>4.933926</td>\n",
       "    </tr>\n",
       "    <tr>\n",
       "      <th>25</th>\n",
       "      <td>7.851760</td>\n",
       "      <td>12.059759</td>\n",
       "    </tr>\n",
       "    <tr>\n",
       "      <th>26</th>\n",
       "      <td>1.996738</td>\n",
       "      <td>-1.078534</td>\n",
       "    </tr>\n",
       "    <tr>\n",
       "      <th>27</th>\n",
       "      <td>5.142344</td>\n",
       "      <td>6.288222</td>\n",
       "    </tr>\n",
       "    <tr>\n",
       "      <th>28</th>\n",
       "      <td>5.924146</td>\n",
       "      <td>7.209927</td>\n",
       "    </tr>\n",
       "    <tr>\n",
       "      <th>29</th>\n",
       "      <td>0.464504</td>\n",
       "      <td>-4.716112</td>\n",
       "    </tr>\n",
       "    <tr>\n",
       "      <th>30</th>\n",
       "      <td>6.075449</td>\n",
       "      <td>7.512293</td>\n",
       "    </tr>\n",
       "    <tr>\n",
       "      <th>31</th>\n",
       "      <td>1.705241</td>\n",
       "      <td>-0.051481</td>\n",
       "    </tr>\n",
       "    <tr>\n",
       "      <th>32</th>\n",
       "      <td>0.650516</td>\n",
       "      <td>-3.734794</td>\n",
       "    </tr>\n",
       "    <tr>\n",
       "      <th>33</th>\n",
       "      <td>9.488855</td>\n",
       "      <td>15.542354</td>\n",
       "    </tr>\n",
       "    <tr>\n",
       "      <th>34</th>\n",
       "      <td>9.656320</td>\n",
       "      <td>11.692896</td>\n",
       "    </tr>\n",
       "    <tr>\n",
       "      <th>35</th>\n",
       "      <td>8.083973</td>\n",
       "      <td>11.989849</td>\n",
       "    </tr>\n",
       "    <tr>\n",
       "      <th>36</th>\n",
       "      <td>3.046138</td>\n",
       "      <td>1.179322</td>\n",
       "    </tr>\n",
       "    <tr>\n",
       "      <th>37</th>\n",
       "      <td>0.976721</td>\n",
       "      <td>-3.345565</td>\n",
       "    </tr>\n",
       "    <tr>\n",
       "      <th>38</th>\n",
       "      <td>6.842330</td>\n",
       "      <td>8.776421</td>\n",
       "    </tr>\n",
       "    <tr>\n",
       "      <th>39</th>\n",
       "      <td>4.401525</td>\n",
       "      <td>1.815481</td>\n",
       "    </tr>\n",
       "    <tr>\n",
       "      <th>40</th>\n",
       "      <td>1.220382</td>\n",
       "      <td>-2.778907</td>\n",
       "    </tr>\n",
       "    <tr>\n",
       "      <th>41</th>\n",
       "      <td>4.951769</td>\n",
       "      <td>5.260651</td>\n",
       "    </tr>\n",
       "    <tr>\n",
       "      <th>42</th>\n",
       "      <td>0.343885</td>\n",
       "      <td>-2.834336</td>\n",
       "    </tr>\n",
       "    <tr>\n",
       "      <th>43</th>\n",
       "      <td>9.093204</td>\n",
       "      <td>12.668138</td>\n",
       "    </tr>\n",
       "    <tr>\n",
       "      <th>44</th>\n",
       "      <td>2.587800</td>\n",
       "      <td>-0.632894</td>\n",
       "    </tr>\n",
       "    <tr>\n",
       "      <th>45</th>\n",
       "      <td>6.625223</td>\n",
       "      <td>7.748689</td>\n",
       "    </tr>\n",
       "    <tr>\n",
       "      <th>46</th>\n",
       "      <td>3.117111</td>\n",
       "      <td>2.149624</td>\n",
       "    </tr>\n",
       "    <tr>\n",
       "      <th>47</th>\n",
       "      <td>5.200680</td>\n",
       "      <td>5.730112</td>\n",
       "    </tr>\n",
       "    <tr>\n",
       "      <th>48</th>\n",
       "      <td>5.467103</td>\n",
       "      <td>5.404445</td>\n",
       "    </tr>\n",
       "    <tr>\n",
       "      <th>49</th>\n",
       "      <td>1.848545</td>\n",
       "      <td>-0.789643</td>\n",
       "    </tr>\n",
       "  </tbody>\n",
       "</table>\n",
       "</div>"
      ],
      "text/plain": [
       "           x          y\n",
       "0   3.745401   3.229269\n",
       "1   9.507143  14.185654\n",
       "2   7.319939   9.524231\n",
       "3   5.986585   6.672066\n",
       "4   1.560186  -3.358149\n",
       "5   1.559945  -2.599954\n",
       "6   0.580836  -4.298967\n",
       "7   8.661761  13.380645\n",
       "8   6.011150   7.365919\n",
       "9   7.080726   7.398411\n",
       "10  0.205845  -4.264226\n",
       "11  9.699099  14.013115\n",
       "12  8.324426  10.971931\n",
       "13  2.123391  -0.141541\n",
       "14  1.818250  -0.332501\n",
       "15  1.834045  -0.400630\n",
       "16  3.042422   0.245627\n",
       "17  5.247564   5.185916\n",
       "18  4.319450   3.970164\n",
       "19  2.912291   1.800128\n",
       "20  6.118529   6.757884\n",
       "21  1.394939  -2.395782\n",
       "22  2.921446  -0.263442\n",
       "23  3.663618   1.131030\n",
       "24  4.560700   4.933926\n",
       "25  7.851760  12.059759\n",
       "26  1.996738  -1.078534\n",
       "27  5.142344   6.288222\n",
       "28  5.924146   7.209927\n",
       "29  0.464504  -4.716112\n",
       "30  6.075449   7.512293\n",
       "31  1.705241  -0.051481\n",
       "32  0.650516  -3.734794\n",
       "33  9.488855  15.542354\n",
       "34  9.656320  11.692896\n",
       "35  8.083973  11.989849\n",
       "36  3.046138   1.179322\n",
       "37  0.976721  -3.345565\n",
       "38  6.842330   8.776421\n",
       "39  4.401525   1.815481\n",
       "40  1.220382  -2.778907\n",
       "41  4.951769   5.260651\n",
       "42  0.343885  -2.834336\n",
       "43  9.093204  12.668138\n",
       "44  2.587800  -0.632894\n",
       "45  6.625223   7.748689\n",
       "46  3.117111   2.149624\n",
       "47  5.200680   5.730112\n",
       "48  5.467103   5.404445\n",
       "49  1.848545  -0.789643"
      ]
     },
     "execution_count": 22,
     "metadata": {},
     "output_type": "execute_result"
    }
   ],
   "source": [
    "from pandas import read_csv\n",
    "data = read_csv(\"https://milliams.com/courses/applied_data_analysis/linear.csv\")\n",
    "data"
   ]
  },
  {
   "cell_type": "markdown",
   "metadata": {},
   "source": [
    "- scikit-learn 提供了一個內置函數 train_test_split，可將您的數據拆分為要擬合的數據子集和要測試的數據子集："
   ]
  },
  {
   "cell_type": "code",
   "execution_count": 27,
   "metadata": {},
   "outputs": [],
   "source": [
    "from sklearn.model_selection import train_test_split\n",
    "train, test = train_test_split(data, random_state=42)"
   ]
  },
  {
   "cell_type": "markdown",
   "metadata": {},
   "source": [
    "- train_test_split 將隨機拆分您的數據，因此為了獲得可重複的“隨機”拆分，我們設置了 random_state 參數。要查看訓練和測試來自相同的分佈，讓我們繪製它們："
   ]
  },
  {
   "cell_type": "code",
   "execution_count": 24,
   "metadata": {},
   "outputs": [
    {
     "data": {
      "image/png": "[encoded data removed]",
      "text/plain": [
       "<Figure size 432x288 with 1 Axes>"
      ]
     },
     "metadata": {
      "needs_background": "light"
     },
     "output_type": "display_data"
    }
   ],
   "source": [
    "import matplotlib.pyplot as plt\n",
    "\n",
    "fig, ax = plt.subplots()\n",
    "\n",
    "train.plot.scatter(\"x\", \"y\", color=\"red\", marker=\"o\", ax=ax, label=\"train\")\n",
    "test.plot.scatter(\"x\", \"y\", color=\"blue\", marker=\"x\", ax=ax, label=\"test\")\n",
    "ax.legend();"
   ]
  },
  {
   "cell_type": "markdown",
   "metadata": {},
   "source": [
    "- 現在我們有了訓練和測試，我們應該只將訓練傳遞給擬合函數："
   ]
  },
  {
   "cell_type": "code",
   "execution_count": 25,
   "metadata": {
    "scrolled": true
   },
   "outputs": [
    {
     "data": {
      "text/plain": [
       "LinearRegression()"
      ]
     },
     "execution_count": 25,
     "metadata": {},
     "output_type": "execute_result"
    }
   ],
   "source": [
    "from sklearn.linear_model import LinearRegression\n",
    "\n",
    "model = LinearRegression(fit_intercept=True)\n",
    "model.fit(train[[\"x\"]], train[\"y\"])"
   ]
  },
  {
   "cell_type": "markdown",
   "metadata": {},
   "source": [
    "- 為了找出擬合的好壞，我們可以在模型上調用 score 方法。 這裡重要的是我們傳入我們的測試數據集，因為我們期望它提供模型的獨立驗證。"
   ]
  },
  {
   "cell_type": "code",
   "execution_count": 26,
   "metadata": {},
   "outputs": [
    {
     "data": {
      "text/plain": [
       "0.9676069631786153"
      ]
     },
     "execution_count": 26,
     "metadata": {},
     "output_type": "execute_result"
    }
   ],
   "source": [
    "model.score(test[[\"x\"]], test[\"y\"])"
   ]
  },
  {
   "cell_type": "code",
   "execution_count": null,
   "metadata": {},
   "outputs": [],
   "source": []
  }
 ],
 "metadata": {
  "kernelspec": {
   "display_name": "Python 3",
   "language": "python",
   "name": "python3"
  },
  "language_info": {
   "codemirror_mode": {
    "name": "ipython",
    "version": 3
   },
   "file_extension": ".py",
   "mimetype": "text/x-python",
   "name": "python",
   "nbconvert_exporter": "python",
   "pygments_lexer": "ipython3",
   "version": "3.8.5"
  }
 },
 "nbformat": 4,
 "nbformat_minor": 4
}
