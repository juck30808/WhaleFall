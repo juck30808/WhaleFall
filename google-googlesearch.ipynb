{
 "cells": [
  {
   "cell_type": "markdown",
   "id": "4cc54622",
   "metadata": {},
   "source": [
    "## Google Search\n",
    "https://www.geeksforgeeks.org/performing-google-search-using-python-code/"
   ]
  },
  {
   "cell_type": "code",
   "execution_count": 1,
   "id": "d171058d",
   "metadata": {},
   "outputs": [],
   "source": [
    "#!pip install google"
   ]
  },
  {
   "cell_type": "code",
   "execution_count": 2,
   "id": "ed4b592d",
   "metadata": {},
   "outputs": [
    {
     "name": "stdout",
     "output_type": "stream",
     "text": [
      "https://techieempire.com/\n",
      "https://www.instagram.com/techieempire/?hl=en\n",
      "https://in.linkedin.com/company/techieempire\n",
      "https://www.udemy.com/user/yaswanth-sai-palaghat-2/\n",
      "https://shopee.com.my/techiempire\n",
      "https://linktr.ee/techieempire\n",
      "https://t.me/s/techieempire\n",
      "https://www.facebook.com/techieempire/\n",
      "https://in.worldorgs.com/catalog/majarguda/software-company/techie-empire\n",
      "https://techieempire.thinkific.com/users/sign_in\n",
      "https://thetechempire.com/\n",
      "https://www.empire1792.com/news/envisioning-a-techie-haven-in-downtown-raleigh\n",
      "https://techieempire.store.siteindices.com/\n",
      "https://www.zoominfo.com/c/techie-empire/558056020\n",
      "https://speakerhub.com/speaker/yaswanth-sai-palaghat\n",
      "https://www.eatmy.news/2021/07/yaswanth-palaghat-i-founded-techie.html\n",
      "https://www.signalhire.com/companies/techie-empire/employees\n",
      "https://www.reddit.com/r/totalwar/comments/21zxc5/trying_empire_for_the_first_time_some_advice/\n",
      "https://www.guruface.com/user/yaswanthp\n",
      "https://www.starwars.com/databank/tech\n",
      "https://techienikhil.com/\n",
      "https://internshala.com/internships/internship-at-Techie%20Empire\n",
      "https://www.pinterest.com/pin/606226799825951426/\n",
      "https://starwars.fandom.com/wiki/WED-1016_%27Techie%27_Droid\n",
      "https://soundcloud.com/cleopatra-techie\n",
      "https://tips.gg/archive/no-techies-dota2-vs-team-empire-dota2/\n",
      "https://evolvemembers.com/innovation/all-billionaires-are-techies/\n",
      "https://www.thebetterindia.com/252965/maharashtra-startup-canebot-sugarcane-juice-bottle-buy-no-preservatives-natural-healthy-innovation-it-quit-job-success-story-mumbai-pune-couple-earns-lakhs-him16/\n",
      "https://www.nytimes.com/2010/12/27/technology/27podcast.html\n",
      "https://americasquarterly.org/fulltextarticle/the-techie/\n",
      "https://www.technyc.org/\n",
      "https://www.entrepreneur.com/article/235585\n",
      "https://www.firstmonday.org/ojs/index.php/fm/article/view/631/552\n",
      "https://scoopempire.com/meet-abbas-adel-the-morsi-meter-man/\n",
      "https://www.gqindia.com/content/turakhia-brothers-join-the-worlds-billionaire-club\n",
      "https://comidoc.net/instructor/yaswanth-sai-palaghat-2\n",
      "https://www.amazon.com/Empire-Total-War-PC/product-reviews/B0018YXM3Y?pageNumber=31\n",
      "https://www.quora.com/What-are-the-recent-tech-trends-that-are-interesting\n",
      "https://historyofyesterday.com/the-murder-of-ancient-alexandrias-greatest-scholar-d4b10d223940\n",
      "http://www.esg.com.my/stores/tenants/F26_GetGadgets.html\n",
      "https://yourstory.com/2013/12/techie-tuesdays-bhimsen-kulkarni/amp\n",
      "https://www.longislandpress.com/2021/01/10/who-are-the-top-techies-on-long-island/\n",
      "https://www.movie-locations.com/movies/m/Man-Who-Fell-To-Earth.php\n",
      "https://www.techrepublic.com/pictures/15-tech-fiction-picks-curl-up-with-these-good-books/2/\n",
      "https://www.freethesaurus.com/Tebriz+Province%2C+Ottoman+Empire\n",
      "https://finance.yahoo.com/news/legendary-techie-james-gosling-joins-032216399.html\n",
      "https://www.empireonline.com/movies/reviews/borderlands-review/\n",
      "https://gainempire.com/a-non-techies-journey-to-e-business-success/\n",
      "https://empirecanvasworks.com/leather/\n",
      "https://www.dailymail.co.uk/news/article-9384177/Twenty-finance-tech-firms-NYC-verge-leaving-Florida.html\n",
      "https://www.paloaltoonline.com/blogs/p/2014/06/18/amber-india-empire-expands-into-los-altos\n",
      "https://www.bbva.com/en/seven-must-see-series-be-good-techie/\n",
      "https://www.scmp.com/magazines/style/tech-design/article/3124523/real-life-k-drama-how-did-andrew-lee-go-tech\n",
      "https://www.theatlantic.com/magazine/archive/2019/11/what-jeff-bezos-wants/598363/\n",
      "https://en.wikipedia.org/wiki/Marques_Brownlee\n",
      "https://www.mv-voice.com/blogs/p/2014/06/18/amber-india-empire-expands-into-los-altos\n",
      "https://www.nydailynews.com/new-york/ny-upstate-tech-ceo-suit-20191116-lsqvy3ieargfvgov3hkgvftbfa-story.html\n",
      "https://economictimes.indiatimes.com/topic/evil-Internet-empire\n",
      "http://empiretechinc.net/product-category/ip-solutions/ip-cameras/\n",
      "https://www.imdb.com/name/nm4183232/bio\n",
      "https://www.installeronline.co.uk/quiet-evolution-techie-installer/\n",
      "https://www.gainesville.com/story/lifestyle/magazine/2015/12/02/just-what-your-favorite-techie-ordered/31388276007/\n",
      "https://www.startupinstitute.com/blog/2015-10-12-tech-networking-events-nyc\n",
      "https://www.bbc.com/news/world-australia-56107028\n",
      "https://encyclopedia2.thefreedictionary.com/Tebriz+Province%2C+Ottoman+Empire\n",
      "https://fortune.com/2014/12/29/disney-ceo-bob-iger-empire-of-tech/\n",
      "https://www.tmz.com/2021/10/03/kanye-west-files-donda-trademark-tech-line/\n",
      "https://passaportegaucho.com.br/forgrow2096164.html\n",
      "https://iprice.my/compare/70mai-dash-cam-a400/\n",
      "https://www.hindustantimes.com/india/nri-techie-among-young-billionaires/story-CCKC5x8AazR7Q9PtyjyVFO.html\n",
      "https://mashable.com/\n",
      "https://store.lci1.com/jacknife-60in-empire-2018-starcraft-7006711.html\n",
      "https://study.com/academy/lesson/craft-industry-technology-in-ancient-persia.html\n",
      "https://pix11.com/news/local-news/manhattan/man-killed-nyc-tech-ceo-found-decapitated-to-cover-up-grand-larceny-indictment/\n",
      "https://tvtropes.org/pmwiki/pmwiki.php/Main/SchizoTech\n",
      "https://www.cio.com/article/2368427/greatest-tech-battles-ever-told.html\n",
      "http://thetechempire.blogspot.com/2011/05/8051-assembly-code-library-for-240x64.html\n",
      "https://www.theverge.com/2020/4/28/21238529/the-chive-bro-frat-culture-founders-misogyny\n",
      "https://www.techieapps.com/how-sustainable-is-apples-empire/\n",
      "https://www.thereporter.com/2014/11/07/santa-clara-county-election-commissioner-asks-for-inquiry-after-top-techies-sudden-departure-2/\n",
      "https://knowtechie.com/facebooks-evil-empire-was-down-yesterday-heres-why/\n",
      "https://2000ad.com/news/what-happened-to-the-clan-techie-from-dredd/\n",
      "https://techiegamers.com/ryans-world-net-worth/\n",
      "https://www.ft.com/content/d6b0333c-9e43-11e9-b8ce-8b459ed04726\n",
      "https://thefrisky.com/9-movies-to-bring-out-your-inner-techie/\n",
      "https://www.bizjournals.com/phoenix/news/2016/10/23/techie-investor-who-backed-facebook-uber-paypal.html\n",
      "https://afrotech.com/\n",
      "https://context.reverso.net/translation/romanian-english/pus+bazele+afacerii\n",
      "https://www.newyorker.com/magazine/2020/08/03/the-cold-war-bunker-that-became-home-to-a-dark-web-empire\n",
      "https://www.bikeforums.net/classic-vintage/1228724-empire-le-jour.html\n",
      "https://thecanadiantechie.com/2018/11/02/battling-virtual-stormtroopers-in-star-wars-secrets-of-the-empire/\n",
      "https://techiepugs.com/csp-app-setup-for-empire-theme/\n",
      "https://ladiesatbusiness.nl/6zzdw/empire-juice.html\n",
      "https://www.globalnerdy.com/2015/12/23/episode-iv-the-empire-strikes-out-on-their-pen-test/\n",
      "https://www.ted.com/talks/jaron_lanier_how_we_need_to_remake_the_internet/transcript?language=en\n",
      "https://www.mail.com/int/\n",
      "https://www.cnbc.com/2021/02/03/jeff-bezos-built-a-1point6-trillion-company-from-nothing-heres-the-legacy-he-leaves-behind.html\n",
      "https://www.npr.org/2017/10/26/560136311/how-5-tech-giants-have-become-more-like-governments-than-companies\n",
      "https://sloanreview.mit.edu/article/what-it-means-to-be-a-tech-company/\n",
      "https://onezero.medium.com/the-absurdity-of-naming-tech-products-b8fad3f76790\n",
      "https://bootstrapmade.com/\n",
      "https://www.telegraph.co.uk/technology/0/steve-jobs-tech-trailblazer-co-founder-apple-empire/\n",
      "http://kseedasesorias.cl/hlt95/run-this-one-nycruns.html\n",
      "http://mdmnewfashion.com/i0lxulkq/equestria-at-war-development.html\n",
      "https://www.dailystar.co.uk/tech/news/inside-glam-life-new-onlyfans-25764293\n",
      "https://venturebeat.com/2016/09/09/the-top-25-tech-movies-of-all-time/view-all/\n",
      "http://nuotatoriravennati.it/hideout-tv.html\n",
      "http://netax.rs/gii86/cw-auditions-2021.html\n",
      "https://www.insightsonindia.com/2021/12/22/insights-into-editorial-can-india-become-a-technology-leader/\n",
      "http://ipu.rs/apbbts/desmos-orbit.html\n",
      "https://startupu.libsyn.com/379-how-to-build-a-powerful-personal-brand-through-podcasting\n",
      "https://help.ea.com/en/help/faq/problems-playing-online/\n",
      "https://yusefwateef.com/2013/09/20/pin-up-model-to-producer-the-empire-of-olivia-rose/\n",
      "https://www.hup.harvard.edu/catalog.php?isbn=9780674010918\n",
      "http://residencial.imobeasy.com/6bfgqw/prototype-pioneer-woman.html\n",
      "https://www.ign.com/articles/best-toys-and-collectible-gifts\n",
      "http://berteroproductions.it/tinder-bio-reddit.html\n",
      "http://telasdecarola.com/hske/itch-io-software.html\n",
      "http://institutogodoy.stampconteudodigital.com.br/tf9z/mir4-monsters-list.html\n",
      "http://sejacampeaodevendas.com.keept.com.br/lpc5luw/das-password-free.html\n",
      "http://absolutelystoned.com/y0uybgpr/starfire-vizslas.html\n",
      "http://centrenerveux.be/iftrbv/stripe-cto.html\n",
      "https://clearly-kathryn.captivate.fm/episodes/3\n",
      "https://latinasintech.org/\n",
      "http://fronteratv.co/mm40uo/dude-soup-reddit.html\n",
      "http://sanmatiiti.in/loirku/google-underwater-search.html\n",
      "https://dmv.ny.gov/driver-license/dmvs-medical-review-program\n",
      "https://indianexpress.com/article/cities/pune/techie-gets-life-for-murder-of-fiancee-of-ex-boyfriend/\n",
      "https://www.goodreads.com/book/show/6764152-raiders-from-the-north\n",
      "https://www.techiemedia.com/\n"
     ]
    },
    {
     "name": "stdout",
     "output_type": "stream",
     "text": [
      "https://www.monster.com/career-advice/article/weirdest-tech-interview-questions\n",
      "https://www.channelnewsasia.com/watch/india-film/jewel-empire-1499316\n"
     ]
    }
   ],
   "source": [
    "from googlesearch import search\n",
    "query=\"Techie Empire\"\n",
    "for i in search(query,start=0,pause=2):\n",
    "    print(i)"
   ]
  },
  {
   "cell_type": "code",
   "execution_count": 3,
   "id": "0127ced1",
   "metadata": {},
   "outputs": [
    {
     "name": "stdout",
     "output_type": "stream",
     "text": [
      "https://www.geeksforgeeks.org/\n",
      "https://twitter.com/geeksforgeeks?ref_src=twsrc%5Egoogle%7Ctwcamp%5Eserp%7Ctwgr%5Eauthor\n",
      "https://twitter.com/geeksforgeeks/status/1475711974491275268?ref_src=twsrc%5Egoogle%7Ctwcamp%5Eserp%7Ctwgr%5Etweet\n",
      "https://twitter.com/geeksforgeeks/status/1475404636152643589?ref_src=twsrc%5Egoogle%7Ctwcamp%5Eserp%7Ctwgr%5Etweet\n",
      "https://twitter.com/geeksforgeeks/status/1475379422672818176?ref_src=twsrc%5Egoogle%7Ctwcamp%5Eserp%7Ctwgr%5Etweet\n",
      "https://www.youtube.com/channel/UC0RhatS1pyxInC00YKjjBqQ\n",
      "https://in.linkedin.com/company/geeksforgeeks\n",
      "https://www.instagram.com/geeks_for_geeks/?hl=en\n",
      "https://www.facebook.com/geeksforgeeks.org/\n",
      "https://www.glassdoor.co.in/Overview/Working-at-GeeksForGeeks-EI_IE1457375.11,24.htm\n"
     ]
    }
   ],
   "source": [
    "try:\n",
    "    from googlesearch import search\n",
    "except ImportError:\n",
    "    print(\"No module named 'google' found\")\n",
    "\n",
    "# to search\n",
    "query = \"Geeksforgeeks\"\n",
    "\n",
    "for j in search(query, tld=\"co.in\", num=10, stop=10, pause=2):\n",
    "    print(j)\n"
   ]
  },
  {
   "cell_type": "code",
   "execution_count": 4,
   "id": "7636bf26",
   "metadata": {},
   "outputs": [
    {
     "name": "stdout",
     "output_type": "stream",
     "text": [
      "https://www.geeksforgeeks.org/\n",
      "https://practice.geeksforgeeks.org/\n",
      "https://en.wikipedia.org/wiki/Portal:Computer_programming\n",
      "https://www.csestack.org/\n",
      "https://www.csestack.org/category/cse-subject/computer-network/\n",
      "https://www.csestack.org/web-scraping-interview-questions-answers/\n",
      "https://www.csestack.org/aptitude-test-preparation-tips/\n",
      "https://en.wikiversity.org/wiki/Portal:Computer_Science\n",
      "https://en.wikiversity.org/wiki/Portal:Computer_programming\n",
      "https://portal.cs.nuim.ie/\n"
     ]
    }
   ],
   "source": [
    "try:\n",
    "    from googlesearch import search\n",
    "except ImportError:\n",
    "    print(\"No module named 'google' found\")\n",
    "\n",
    "# to search\n",
    "query = \"A computer science portal\"\n",
    "\n",
    "for j in search(query, tld=\"co.in\", num=10, stop=10, pause=2):\n",
    "    print(j)\n"
   ]
  },
  {
   "cell_type": "code",
   "execution_count": null,
   "id": "8f283c66",
   "metadata": {},
   "outputs": [],
   "source": []
  }
 ],
 "metadata": {
  "kernelspec": {
   "display_name": "Python 3 (ipykernel)",
   "language": "python",
   "name": "python3"
  },
  "language_info": {
   "codemirror_mode": {
    "name": "ipython",
    "version": 3
   },
   "file_extension": ".py",
   "mimetype": "text/x-python",
   "name": "python",
   "nbconvert_exporter": "python",
   "pygments_lexer": "ipython3",
   "version": "3.9.7"
  }
 },
 "nbformat": 4,
 "nbformat_minor": 5
}
