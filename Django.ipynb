{
 "cells": [
  {
   "cell_type": "code",
   "execution_count": 1,
   "id": "1773153c",
   "metadata": {},
   "outputs": [],
   "source": [
    "# Django"
   ]
  },
  {
   "cell_type": "code",
   "execution_count": 1,
   "id": "e0fd4ebc",
   "metadata": {},
   "outputs": [],
   "source": [
    "# pip install django"
   ]
  },
  {
   "cell_type": "code",
   "execution_count": 4,
   "id": "00c09a74",
   "metadata": {},
   "outputs": [
    {
     "ename": "SyntaxError",
     "evalue": "invalid syntax (3777549100.py, line 1)",
     "output_type": "error",
     "traceback": [
      "\u001b[0;36m  File \u001b[0;32m\"/var/folders/w1/qwpw4zqj06166jjzmngrmp7w0000gn/T/ipykernel_2084/3777549100.py\"\u001b[0;36m, line \u001b[0;32m1\u001b[0m\n\u001b[0;31m    django-admin startproject TestFirstSite\u001b[0m\n\u001b[0m                 ^\u001b[0m\n\u001b[0;31mSyntaxError\u001b[0m\u001b[0;31m:\u001b[0m invalid syntax\n"
     ]
    }
   ],
   "source": [
    "django-admin startproject TestFirstSite"
   ]
  },
  {
   "cell_type": "code",
   "execution_count": null,
   "id": "1b8ec89d",
   "metadata": {},
   "outputs": [],
   "source": []
  }
 ],
 "metadata": {
  "kernelspec": {
   "display_name": "Python 3 (ipykernel)",
   "language": "python",
   "name": "python3"
  },
  "language_info": {
   "codemirror_mode": {
    "name": "ipython",
    "version": 3
   },
   "file_extension": ".py",
   "mimetype": "text/x-python",
   "name": "python",
   "nbconvert_exporter": "python",
   "pygments_lexer": "ipython3",
   "version": "3.8.8"
  }
 },
 "nbformat": 4,
 "nbformat_minor": 5
}
