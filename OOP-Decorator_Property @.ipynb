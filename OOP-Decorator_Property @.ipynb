{
 "cells": [
  {
   "cell_type": "markdown",
   "metadata": {},
   "source": [
    "## Decorator 裝飾器"
   ]
  },
  {
   "cell_type": "code",
   "execution_count": 2,
   "metadata": {},
   "outputs": [
    {
     "name": "stdout",
     "output_type": "stream",
     "text": [
      "Now we are using function 'dog_bark'\n",
      "BKBK\n",
      "Now we are using function 'cat_miaow'\n",
      "MewMew\n"
     ]
    }
   ],
   "source": [
    "def print_func_name(func):\n",
    "    def wrap():\n",
    "        print(\"Now we are using function '{}'\".format(func.__name__))\n",
    "        func()\n",
    "    return wrap\n",
    "\n",
    "def dog_bark():\n",
    "    print(\"BKBK\")\n",
    "\n",
    "\n",
    "def cat_miaow():\n",
    "    print(\"MewMew\")\n",
    "\n",
    "\n",
    "if __name__ == \"__main__\":\n",
    "    print_func_name(dog_bark)()  #Decorator fun()()\n",
    "    print_func_name(cat_miaow)()"
   ]
  },
  {
   "cell_type": "code",
   "execution_count": 9,
   "metadata": {},
   "outputs": [
    {
     "name": "stdout",
     "output_type": "stream",
     "text": [
      "I got decorated\n",
      "I am simple\n"
     ]
    }
   ],
   "source": [
    "def make_decorate(func):\n",
    "    def inner_function():\n",
    "        print(\"I got decorated\")\n",
    "        func()\n",
    "    return inner_function\n",
    "\n",
    "def simple_func():\n",
    "    print(\"I am simple\")\n",
    "\n",
    "if __name__ == \"__main__\":\n",
    "    decorator = make_decorate(simple_func)()  #Decorate fun()()\n",
    "    decorator"
   ]
  },
  {
   "cell_type": "markdown",
   "metadata": {},
   "source": [
    "## property @"
   ]
  },
  {
   "cell_type": "code",
   "execution_count": 1,
   "metadata": {},
   "outputs": [
    {
     "name": "stdout",
     "output_type": "stream",
     "text": [
      "Now we are using function 'wrap'\n",
      "Now we are using function 'dog_bark'\n",
      "BKBK\n",
      "Now we are using function 'wrap'\n",
      "Now we are using function 'cat_miaow'\n",
      "MewMew\n"
     ]
    }
   ],
   "source": [
    "def print_func_name(func):\n",
    "    def wrap():\n",
    "        print(\"Now we are using function '{}'\".format(func.__name__))\n",
    "        func()\n",
    "    return wrap\n",
    "\n",
    "@print_func_name  #mean call from print_func_name\n",
    "def dog_bark():\n",
    "    print(\"BKBK\")\n",
    "\n",
    "@print_func_name\n",
    "def cat_miaow():\n",
    "    print(\"MewMew\")\n",
    "\n",
    "\n",
    "if __name__ == \"__main__\":\n",
    "    print_func_name(dog_bark)()  #Decorator\n",
    "    print_func_name(cat_miaow)()"
   ]
  },
  {
   "cell_type": "code",
   "execution_count": 2,
   "metadata": {},
   "outputs": [
    {
     "name": "stdout",
     "output_type": "stream",
     "text": [
      "I got decorated\n",
      "I am simple\n"
     ]
    }
   ],
   "source": [
    "def make_decorate(func):\n",
    "    def inner_function():\n",
    "        print(\"I got decorated\")\n",
    "        func()\n",
    "    return inner_function\n",
    "\n",
    "@make_decorate\n",
    "def simple_func():\n",
    "    print(\"I am simple\")\n",
    "\n",
    "#decorator = make_decorate(simple_func)()  #Decorate fun()()\n",
    "#decorator\n",
    "simple_func()"
   ]
  },
  {
   "cell_type": "code",
   "execution_count": 3,
   "metadata": {},
   "outputs": [
    {
     "name": "stdout",
     "output_type": "stream",
     "text": [
      "Getting value\n",
      "5\n",
      "Setting value\n",
      "Getting value\n",
      "100\n"
     ]
    }
   ],
   "source": [
    "class Celsius:\n",
    "    def __init__(self,temperature = 0):\n",
    "        self._temperature = temperature\n",
    "    def to_fahrenheit(self):\n",
    "        return (self.temperature * 1.8) +12\n",
    "    \n",
    "    @property\n",
    "    def temperature(self):\n",
    "        print(\"Getting value\")\n",
    "        return self._temperature\n",
    "    \n",
    "    @temperature.setter\n",
    "    def temperature(self,value):\n",
    "        if value < -273:\n",
    "            raise ValueError(\"Tem below -273\")\n",
    "        print(\"Setting value\")\n",
    "        self._temperature = value\n",
    "        \n",
    "c = Celsius(5)\n",
    "print(c.temperature)\n",
    "c.temperature = 100\n",
    "print(c.temperature)"
   ]
  },
  {
   "cell_type": "code",
   "execution_count": 4,
   "metadata": {},
   "outputs": [
    {
     "name": "stdout",
     "output_type": "stream",
     "text": [
      "Hi, I got decorated\n",
      "Hi, I'm theNormal\n"
     ]
    },
    {
     "data": {
      "text/plain": [
       "'\\nEquivalent to\\npret1 = new_pretty(theNormal)\\npret1()\\n'"
      ]
     },
     "execution_count": 4,
     "metadata": {},
     "output_type": "execute_result"
    }
   ],
   "source": [
    "def new_pretty(func):\n",
    "    def new_inner():\n",
    "        print(\"Hi, I got decorated\")\n",
    "        func()\n",
    "    return new_inner\n",
    "\n",
    "# decorating function\n",
    "@new_pretty\n",
    "def theNormal():\n",
    "    print(\"Hi, I'm theNormal\")\n",
    "\n",
    "theNormal()\n",
    "\n",
    "\"\"\"\n",
    "Equivalent to\n",
    "pret1 = new_pretty(theNormal)\n",
    "pret1()\n",
    "\"\"\""
   ]
  },
  {
   "cell_type": "code",
   "execution_count": 5,
   "metadata": {},
   "outputs": [
    {
     "name": "stdout",
     "output_type": "stream",
     "text": [
      "We're going to divide 3 and 0\n",
      "Sorry, cannot divide\n"
     ]
    }
   ],
   "source": [
    "# a simple division function\n",
    "# def division(x, y):\n",
    "#     return x/y\n",
    "\n",
    "# # print(division(3, 7))\n",
    "# print(division(3, 0))\n",
    "\n",
    "def best_division(func):\n",
    "    def inner(x, y):\n",
    "        print(\"We're going to divide\", x, \"and\", y)\n",
    "        if y == 0:\n",
    "            print(\"Sorry, cannot divide\")\n",
    "            return\n",
    "        return func(x, y)\n",
    "    return inner\n",
    "\n",
    "@best_division\n",
    "def division(x, y):\n",
    "    print(x/y)\n",
    "\n",
    "# division(3, 7)\n",
    "division(3, 0)"
   ]
  },
  {
   "cell_type": "code",
   "execution_count": 6,
   "metadata": {},
   "outputs": [
    {
     "name": "stdout",
     "output_type": "stream",
     "text": [
      "-----------------------------------\n",
      "***********************************\n",
      "Python is so cool\n",
      "***********************************\n",
      "-----------------------------------\n"
     ]
    }
   ],
   "source": [
    "# Multiple decorators can be chained in Python\n",
    "def starting(func):\n",
    "    def inner(*args, **kwargs):\n",
    "        print(\"-\" * 35)\n",
    "        func(*args, **kwargs)\n",
    "        print(\"-\" * 35)\n",
    "    return inner\n",
    "\n",
    "def astriskNew(func):\n",
    "    def inner(*args, **kwargs):\n",
    "        print(\"*\" * 35)\n",
    "        func(*args, **kwargs)\n",
    "        print(\"*\" * 35)\n",
    "    return inner\n",
    "\n",
    "@starting\n",
    "@astriskNew\n",
    "def displaying(txt):\n",
    "    print(txt)\n",
    "\n",
    "displaying(\"Python is so cool\")"
   ]
  },
  {
   "cell_type": "markdown",
   "metadata": {},
   "source": [
    "## deco"
   ]
  },
  {
   "cell_type": "code",
   "execution_count": 1,
   "metadata": {},
   "outputs": [
    {
     "name": "stdout",
     "output_type": "stream",
     "text": [
      "hello\n",
      "hello\n",
      "hello ali\n",
      "hello ali\n",
      "hello ali\n",
      "hello ali\n",
      "hello ali\n"
     ]
    }
   ],
   "source": [
    "def dec_do_twice(count):\n",
    "    def do_twice(func):\n",
    "        def wrapper_do_twice(*args,**kwargs):\n",
    "            for _ in range(count):\n",
    "                func(*args,**kwargs)\n",
    "        return wrapper_do_twice\n",
    "    return do_twice\n",
    "\n",
    "@dec_do_twice(count=2)\n",
    "def hello():\n",
    "    print(\"hello\")\n",
    "\n",
    "@dec_do_twice(count=5)\n",
    "def greet(name):\n",
    "    print(\"hello \" + name)\n",
    "\n",
    "\n",
    "hello()\n",
    "greet(\"ali\")\n",
    "\n"
   ]
  },
  {
   "cell_type": "code",
   "execution_count": 2,
   "metadata": {},
   "outputs": [
    {
     "name": "stdout",
     "output_type": "stream",
     "text": [
      "greeting function\n",
      "hello, ali\n"
     ]
    }
   ],
   "source": [
    "def do_twice(func):\n",
    "    def wrapper_do_twice(*args,**kwargs):\n",
    "        return func(*args,**kwargs)\n",
    "        func(*args,**kwargs)\n",
    "    return wrapper_do_twice\n",
    "\n",
    "@do_twice\n",
    "def hello():\n",
    "    print(\"hello\")\n",
    "\n",
    "@do_twice\n",
    "def greet(msg):\n",
    "    print(\"hello \" + msg)\n",
    "\n",
    "@do_twice\n",
    "def return_greeting(name):\n",
    "    print(\"greeting function\")\n",
    "    return f\"hello, {name}\"\n",
    "\n",
    "# hello()\n",
    "# greet(\"world\")\n",
    "# return_greeting(\"ali\")\n",
    "print(return_greeting(\"ali\"))"
   ]
  },
  {
   "cell_type": "code",
   "execution_count": 3,
   "metadata": {},
   "outputs": [
    {
     "name": "stdout",
     "output_type": "stream",
     "text": [
      "hoş geldiniz.\n",
      "günaydın benim adım ahmet\n",
      "görüşmek üzere.\n",
      "hoş geldiniz.\n",
      "iyi günler benim adım yağmur\n",
      "görüşmek üzere.\n"
     ]
    }
   ],
   "source": [
    "def selamlama(fn):\n",
    "    def wrapper(ad):\n",
    "        print(\"hoş geldiniz.\")\n",
    "        fn(ad)\n",
    "        print(\"görüşmek üzere.\")\n",
    "    return wrapper\n",
    "\n",
    "@selamlama\n",
    "def gunaydin(ad):\n",
    "    print(\"günaydın benim adım \" + ad)\n",
    "\n",
    "@selamlama\n",
    "def iyigunler(ad):\n",
    "    print(\"iyi günler benim adım \" + ad)\n",
    "\n",
    "\n",
    "gunaydin(\"ahmet\")\n",
    "iyigunler(\"yağmur\")"
   ]
  },
  {
   "cell_type": "code",
   "execution_count": 4,
   "metadata": {},
   "outputs": [
    {
     "name": "stdout",
     "output_type": "stream",
     "text": [
      "iphone 12 \n"
     ]
    }
   ],
   "source": [
    "class Product:\n",
    "    def __init__(self,name,price,description):\n",
    "        self.name = name\n",
    "        self.description = description\n",
    "        if price >=0:\n",
    "            self._price = price\n",
    "        else:\n",
    "            raise ValueError(\"fiyat için negatif değer ataması yapılmaz\")\n",
    "\n",
    "    @property\n",
    "    def price(self):\n",
    "        return self._price\n",
    "\n",
    "    @price.setter\n",
    "    def price(self,value):\n",
    "        if value >=0:\n",
    "            self._price = value\n",
    "        else:\n",
    "            raise ValueError(\"fiyat için negatif değer ataması yapılmaz\")\n",
    "\n",
    "    @property\n",
    "    def short_description(self):\n",
    "        return self.description[:10]\n",
    "\n",
    "    # def set_price(self,value):\n",
    "    #     if value >=0:\n",
    "    #         self._price = value\n",
    "    #     else:\n",
    "    #         raise ValueError(\"fiyat için negatif değer ataması yapılmaz\")\n",
    "\n",
    "    # def get_price(self):\n",
    "    #     return self._price\n",
    "\n",
    "p = Product(\"iphone 12\", 9000,\"iphone 12 apple in çıkardığı en yeni üründür ancak fiyatı çok pahalı.\")\n",
    "\n",
    "print(p.short_description)\n",
    "\n",
    "\n"
   ]
  },
  {
   "cell_type": "code",
   "execution_count": null,
   "metadata": {},
   "outputs": [],
   "source": []
  }
 ],
 "metadata": {
  "kernelspec": {
   "display_name": "Python 3",
   "language": "python",
   "name": "python3"
  },
  "language_info": {
   "codemirror_mode": {
    "name": "ipython",
    "version": 3
   },
   "file_extension": ".py",
   "mimetype": "text/x-python",
   "name": "python",
   "nbconvert_exporter": "python",
   "pygments_lexer": "ipython3",
   "version": "3.8.5"
  }
 },
 "nbformat": 4,
 "nbformat_minor": 5
}
