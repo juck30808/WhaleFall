{
 "cells": [
  {
   "cell_type": "markdown",
   "id": "9fc79c3f",
   "metadata": {},
   "source": [
    "## 13.11 Bar Plots with Seaborn"
   ]
  },
  {
   "cell_type": "code",
   "execution_count": 12,
   "id": "ebd27475",
   "metadata": {
    "hide_input": false
   },
   "outputs": [
    {
     "data": {
      "text/html": [
       "<div>\n",
       "<style scoped>\n",
       "    .dataframe tbody tr th:only-of-type {\n",
       "        vertical-align: middle;\n",
       "    }\n",
       "\n",
       "    .dataframe tbody tr th {\n",
       "        vertical-align: top;\n",
       "    }\n",
       "\n",
       "    .dataframe thead th {\n",
       "        text-align: right;\n",
       "    }\n",
       "</style>\n",
       "<table border=\"1\" class=\"dataframe\">\n",
       "  <thead>\n",
       "    <tr style=\"text-align: right;\">\n",
       "      <th></th>\n",
       "      <th>year</th>\n",
       "      <th>quarters</th>\n",
       "      <th>sale1</th>\n",
       "      <th>sale2</th>\n",
       "      <th>sale3</th>\n",
       "    </tr>\n",
       "  </thead>\n",
       "  <tbody>\n",
       "    <tr>\n",
       "      <th>0</th>\n",
       "      <td>2010</td>\n",
       "      <td>A</td>\n",
       "      <td>200</td>\n",
       "      <td>258</td>\n",
       "      <td>592</td>\n",
       "    </tr>\n",
       "    <tr>\n",
       "      <th>1</th>\n",
       "      <td>2010</td>\n",
       "      <td>B</td>\n",
       "      <td>328</td>\n",
       "      <td>664</td>\n",
       "      <td>606</td>\n",
       "    </tr>\n",
       "    <tr>\n",
       "      <th>2</th>\n",
       "      <td>2010</td>\n",
       "      <td>C</td>\n",
       "      <td>870</td>\n",
       "      <td>249</td>\n",
       "      <td>918</td>\n",
       "    </tr>\n",
       "    <tr>\n",
       "      <th>3</th>\n",
       "      <td>2010</td>\n",
       "      <td>D</td>\n",
       "      <td>209</td>\n",
       "      <td>971</td>\n",
       "      <td>629</td>\n",
       "    </tr>\n",
       "    <tr>\n",
       "      <th>4</th>\n",
       "      <td>2011</td>\n",
       "      <td>A</td>\n",
       "      <td>348</td>\n",
       "      <td>863</td>\n",
       "      <td>929</td>\n",
       "    </tr>\n",
       "  </tbody>\n",
       "</table>\n",
       "</div>"
      ],
      "text/plain": [
       "   year quarters  sale1  sale2  sale3\n",
       "0  2010        A    200    258    592\n",
       "1  2010        B    328    664    606\n",
       "2  2010        C    870    249    918\n",
       "3  2010        D    209    971    629\n",
       "4  2011        A    348    863    929"
      ]
     },
     "execution_count": 12,
     "metadata": {},
     "output_type": "execute_result"
    }
   ],
   "source": [
    "import pandas as pd\n",
    "import seaborn as sns\n",
    "frame = pd.read_csv('input/ex5.csv' )\n",
    "frame.head()"
   ]
  },
  {
   "cell_type": "markdown",
   "id": "b13bfa58",
   "metadata": {},
   "source": [
    "We can use seaborn library to create a bar plot using the function **sns.barplot()**:"
   ]
  },
  {
   "cell_type": "code",
   "execution_count": 13,
   "id": "d2247aff",
   "metadata": {
    "hide_input": false
   },
   "outputs": [
    {
     "data": {
      "text/plain": [
       "<AxesSubplot:>"
      ]
     },
     "execution_count": 13,
     "metadata": {},
     "output_type": "execute_result"
    },
    {
     "data": {
      "image/png": "[encoded data removed]",
      "text/plain": [
       "<Figure size 432x288 with 1 Axes>"
      ]
     },
     "metadata": {
      "needs_background": "light"
     },
     "output_type": "display_data"
    }
   ],
   "source": [
    "sns.barplot(data = frame)\n",
    "sns.barplot(data = frame[['sale1','sale2','sale3']])\n",
    "sns.barplot(data = frame[['sale1','sale2','sale3']], ci = False) #To remove confidence interval"
   ]
  },
  {
   "cell_type": "code",
   "execution_count": 14,
   "id": "5cef69ae",
   "metadata": {},
   "outputs": [
    {
     "data": {
      "text/plain": [
       "<AxesSubplot:xlabel='year', ylabel='sale1'>"
      ]
     },
     "execution_count": 14,
     "metadata": {},
     "output_type": "execute_result"
    },
    {
     "data": {
      "image/png": "[encoded data removed]",
      "text/plain": [
       "<Figure size 432x288 with 1 Axes>"
      ]
     },
     "metadata": {
      "needs_background": "light"
     },
     "output_type": "display_data"
    }
   ],
   "source": [
    "sns.barplot(x= frame.year, y = frame.sale1, ci = False)  # add change\n"
   ]
  },
  {
   "cell_type": "code",
   "execution_count": 15,
   "id": "af5a09d2",
   "metadata": {
    "hide_input": false
   },
   "outputs": [
    {
     "data": {
      "text/plain": [
       "<AxesSubplot:xlabel='year', ylabel='sale1'>"
      ]
     },
     "execution_count": 15,
     "metadata": {},
     "output_type": "execute_result"
    },
    {
     "data": {
      "image/png": "[encoded data removed]",
      "text/plain": [
       "<Figure size 432x288 with 1 Axes>"
      ]
     },
     "metadata": {
      "needs_background": "light"
     },
     "output_type": "display_data"
    }
   ],
   "source": [
    "sns.barplot(x= 'year', y = 'sale1', data= frame, ci = False)"
   ]
  },
  {
   "cell_type": "markdown",
   "id": "20f750c7",
   "metadata": {},
   "source": [
    "We can also you pass x and y using **dataframe indexing**, like this:"
   ]
  },
  {
   "cell_type": "code",
   "execution_count": 16,
   "id": "039e81b2",
   "metadata": {
    "hide_input": false
   },
   "outputs": [
    {
     "data": {
      "text/plain": [
       "<AxesSubplot:xlabel='year', ylabel='sale1'>"
      ]
     },
     "execution_count": 16,
     "metadata": {},
     "output_type": "execute_result"
    },
    {
     "data": {
      "image/png": "[encoded data removed]",
      "text/plain": [
       "<Figure size 432x288 with 1 Axes>"
      ]
     },
     "metadata": {
      "needs_background": "light"
     },
     "output_type": "display_data"
    }
   ],
   "source": [
    "sns.barplot(x= frame['year'], y = frame['sale1'], ci = False)"
   ]
  },
  {
   "cell_type": "markdown",
   "id": "58c9edfd",
   "metadata": {},
   "source": [
    "We can create a horizontal bar plot in seaborn simply by adding the argument **orient = 'h'**:"
   ]
  },
  {
   "cell_type": "code",
   "execution_count": 17,
   "id": "8adce658",
   "metadata": {
    "hide_input": false
   },
   "outputs": [
    {
     "data": {
      "text/plain": [
       "<AxesSubplot:xlabel='sale1', ylabel='year'>"
      ]
     },
     "execution_count": 17,
     "metadata": {},
     "output_type": "execute_result"
    },
    {
     "data": {
      "image/png": "[encoded data removed]",
      "text/plain": [
       "<Figure size 432x288 with 1 Axes>"
      ]
     },
     "metadata": {
      "needs_background": "light"
     },
     "output_type": "display_data"
    }
   ],
   "source": [
    "sns.barplot( x = frame['sale1'], y= frame['year'], orient = 'h', ci= False)"
   ]
  },
  {
   "cell_type": "markdown",
   "id": "dffd2356",
   "metadata": {},
   "source": [
    "We can also use the **hue** option (which enables us to split the bars by an additional categorical variable). Here we splitted the bars by the categorical variable 'quarters':"
   ]
  },
  {
   "cell_type": "code",
   "execution_count": 18,
   "id": "c419dda0",
   "metadata": {
    "hide_input": false,
    "scrolled": true
   },
   "outputs": [
    {
     "data": {
      "text/plain": [
       "<AxesSubplot:xlabel='year', ylabel='sale1'>"
      ]
     },
     "execution_count": 18,
     "metadata": {},
     "output_type": "execute_result"
    },
    {
     "data": {
      "image/png": "[encoded data removed]",
      "text/plain": [
       "<Figure size 432x288 with 1 Axes>"
      ]
     },
     "metadata": {
      "needs_background": "light"
     },
     "output_type": "display_data"
    }
   ],
   "source": [
    "sns.barplot( x= frame['year'], y = frame['sale1'], hue = frame['quarters'])"
   ]
  },
  {
   "cell_type": "markdown",
   "id": "91d18a0d",
   "metadata": {},
   "source": [
    "## 13.12 Histograms and Density Plots"
   ]
  },
  {
   "cell_type": "markdown",
   "id": "42425ecf",
   "metadata": {},
   "source": [
    "First we import pandas and seaborn libraries:"
   ]
  },
  {
   "cell_type": "code",
   "execution_count": 22,
   "id": "b74b86d1",
   "metadata": {
    "hide_input": false
   },
   "outputs": [
    {
     "data": {
      "text/html": [
       "<div>\n",
       "<style scoped>\n",
       "    .dataframe tbody tr th:only-of-type {\n",
       "        vertical-align: middle;\n",
       "    }\n",
       "\n",
       "    .dataframe tbody tr th {\n",
       "        vertical-align: top;\n",
       "    }\n",
       "\n",
       "    .dataframe thead th {\n",
       "        text-align: right;\n",
       "    }\n",
       "</style>\n",
       "<table border=\"1\" class=\"dataframe\">\n",
       "  <thead>\n",
       "    <tr style=\"text-align: right;\">\n",
       "      <th></th>\n",
       "      <th>age</th>\n",
       "      <th>wage</th>\n",
       "    </tr>\n",
       "  </thead>\n",
       "  <tbody>\n",
       "    <tr>\n",
       "      <th>0</th>\n",
       "      <td>39.0</td>\n",
       "      <td>48.0</td>\n",
       "    </tr>\n",
       "    <tr>\n",
       "      <th>1</th>\n",
       "      <td>28.0</td>\n",
       "      <td>44.0</td>\n",
       "    </tr>\n",
       "    <tr>\n",
       "      <th>2</th>\n",
       "      <td>28.0</td>\n",
       "      <td>49.0</td>\n",
       "    </tr>\n",
       "    <tr>\n",
       "      <th>3</th>\n",
       "      <td>36.0</td>\n",
       "      <td>56.0</td>\n",
       "    </tr>\n",
       "    <tr>\n",
       "      <th>4</th>\n",
       "      <td>30.0</td>\n",
       "      <td>24.0</td>\n",
       "    </tr>\n",
       "  </tbody>\n",
       "</table>\n",
       "</div>"
      ],
      "text/plain": [
       "    age  wage\n",
       "0  39.0  48.0\n",
       "1  28.0  44.0\n",
       "2  28.0  49.0\n",
       "3  36.0  56.0\n",
       "4  30.0  24.0"
      ]
     },
     "execution_count": 22,
     "metadata": {},
     "output_type": "execute_result"
    }
   ],
   "source": [
    "import pandas as pd\n",
    "import seaborn as sns\n",
    "frame = pd.read_csv('input/ex13.csv')\n",
    "frame.head()"
   ]
  },
  {
   "cell_type": "code",
   "execution_count": 23,
   "id": "c8ef9582",
   "metadata": {
    "hide_input": false
   },
   "outputs": [
    {
     "data": {
      "text/plain": [
       "<AxesSubplot:ylabel='Frequency'>"
      ]
     },
     "execution_count": 23,
     "metadata": {},
     "output_type": "execute_result"
    },
    {
     "data": {
      "image/png": "[encoded data removed]",
      "text/plain": [
       "<Figure size 432x288 with 1 Axes>"
      ]
     },
     "metadata": {
      "needs_background": "light"
     },
     "output_type": "display_data"
    }
   ],
   "source": [
    "frame['age'].plot.hist(bins = 12)"
   ]
  },
  {
   "cell_type": "markdown",
   "id": "ea1540cc",
   "metadata": {},
   "source": [
    "We can enhance the look of the histogram, for example:\n",
    "\n",
    "We use the argument **color** to change the colour of the bars.\n",
    "\n",
    "We use the argument **edgecolor** to change border color of the bars.\n",
    "\n",
    "We use the argument **linewidth** to change the width of the borders lines."
   ]
  },
  {
   "cell_type": "code",
   "execution_count": null,
   "id": "5509ec19",
   "metadata": {
    "hide_input": false
   },
   "outputs": [],
   "source": [
    "frame['age'].plot.hist(bins = 12, color = 'red', edgecolor = 'black', linewidth = 1)"
   ]
  },
  {
   "cell_type": "markdown",
   "id": "7dd80aac",
   "metadata": {},
   "source": [
    "Another example, we create here a histogram for the wage column:"
   ]
  },
  {
   "cell_type": "code",
   "execution_count": null,
   "id": "0659273d",
   "metadata": {
    "hide_input": false
   },
   "outputs": [],
   "source": [
    "frame['wage'].plot.hist(bins = 12, color = 'blue', edgecolor = 'black', linewidth = 1)"
   ]
  },
  {
   "cell_type": "markdown",
   "id": "dc4f0f8b",
   "metadata": {},
   "source": [
    "Here we can see the effect of using larger bins, in this example we used **bins = 20**: "
   ]
  },
  {
   "cell_type": "code",
   "execution_count": null,
   "id": "31127576",
   "metadata": {
    "hide_input": false
   },
   "outputs": [],
   "source": [
    "frame['wage'].plot.hist(bins = 20, color = 'y', edgecolor = 'black', linewidth = 1)"
   ]
  },
  {
   "cell_type": "markdown",
   "id": "894bdeff",
   "metadata": {},
   "source": [
    "Here we can see the effect of using smaller bins, in this example we used **bins = 5**: "
   ]
  },
  {
   "cell_type": "code",
   "execution_count": null,
   "id": "d4a11d13",
   "metadata": {
    "hide_input": false
   },
   "outputs": [],
   "source": [
    "frame['wage'].plot.hist(bins = 5, color = 'blue', edgecolor = 'black', linewidth = 1)"
   ]
  },
  {
   "cell_type": "markdown",
   "id": "871cb07c",
   "metadata": {},
   "source": [
    "To create a density plot, we use the function **plot.density()**:"
   ]
  },
  {
   "cell_type": "code",
   "execution_count": null,
   "id": "a378cc86",
   "metadata": {
    "hide_input": false
   },
   "outputs": [],
   "source": [
    "frame['wage'].plot.density()"
   ]
  },
  {
   "cell_type": "markdown",
   "id": "3bf65a7c",
   "metadata": {},
   "source": [
    "**Seaborn** can also be used to create histograms by using the function **sns.displot()**:"
   ]
  },
  {
   "cell_type": "code",
   "execution_count": null,
   "id": "6fad8044",
   "metadata": {
    "hide_input": false
   },
   "outputs": [],
   "source": [
    "sns.displot(frame['wage'], bins=12, color='r')"
   ]
  },
  {
   "cell_type": "markdown",
   "id": "a6a490b9",
   "metadata": {},
   "source": [
    "**Seaborn** can also be used to create density plots by using the function **sns.displot()** and the argument **(kind = 'kde')**:"
   ]
  },
  {
   "cell_type": "code",
   "execution_count": null,
   "id": "152b2b07",
   "metadata": {
    "hide_input": false,
    "scrolled": true
   },
   "outputs": [],
   "source": [
    "sns.displot(frame['wage'], kind = 'kde', color='b')"
   ]
  },
  {
   "cell_type": "markdown",
   "id": "f3a495e2",
   "metadata": {},
   "source": [
    "## 13.13 Scatter Plots and Pair Plots"
   ]
  },
  {
   "cell_type": "markdown",
   "id": "0bb65378",
   "metadata": {},
   "source": [
    "First we import pandas and seaborn libraries:"
   ]
  },
  {
   "cell_type": "code",
   "execution_count": null,
   "id": "78f95c08",
   "metadata": {
    "hide_input": false
   },
   "outputs": [],
   "source": [
    "import pandas as pd\n",
    "import seaborn as sns"
   ]
  },
  {
   "cell_type": "markdown",
   "id": "b4e4733a",
   "metadata": {},
   "source": [
    "Here we read a dataframe from a csv file using the function **pd.read_csv()** and display its head using the **head()** function: "
   ]
  },
  {
   "cell_type": "code",
   "execution_count": null,
   "id": "c1d760bd",
   "metadata": {
    "hide_input": false
   },
   "outputs": [],
   "source": [
    "boston = pd.read_csv('data/boston.csv')\n",
    "boston.head()"
   ]
  },
  {
   "cell_type": "markdown",
   "id": "ca283e3a",
   "metadata": {},
   "source": [
    "We can use seaborn to create a scatter plot between two columns using the function **sns.regplot()**:"
   ]
  },
  {
   "cell_type": "code",
   "execution_count": null,
   "id": "de27bddd",
   "metadata": {
    "hide_input": false
   },
   "outputs": [],
   "source": [
    "sns.regplot(x= 'medv', y= 'crim', data = boston )"
   ]
  },
  {
   "cell_type": "markdown",
   "id": "4e9943bb",
   "metadata": {},
   "source": [
    "To remove the confidence interval ( the light blue channel around the regression line) we use the argument **ci = False**:"
   ]
  },
  {
   "cell_type": "code",
   "execution_count": null,
   "id": "fc45a952",
   "metadata": {
    "hide_input": false
   },
   "outputs": [],
   "source": [
    "sns.regplot(x= 'medv', y= 'crim', data = boston, ci = False )"
   ]
  },
  {
   "cell_type": "markdown",
   "id": "52f92e41",
   "metadata": {},
   "source": [
    "To remove thre regression line from the scatter plot, we use the argument **fit_reg = False**:"
   ]
  },
  {
   "cell_type": "code",
   "execution_count": null,
   "id": "30cccde0",
   "metadata": {
    "hide_input": false
   },
   "outputs": [],
   "source": [
    "sns.regplot(x= 'medv', y= 'crim', data = boston, ci = False, fit_reg = False  )"
   ]
  },
  {
   "cell_type": "markdown",
   "id": "4ce81adb",
   "metadata": {},
   "source": [
    "Using **seaborn**, we can create a matrix of scatter plots among all columns using the function **sns.pairplot()**: "
   ]
  },
  {
   "cell_type": "code",
   "execution_count": null,
   "id": "163e7851",
   "metadata": {
    "hide_input": false,
    "scrolled": false
   },
   "outputs": [],
   "source": [
    "sns.pairplot(boston)"
   ]
  },
  {
   "cell_type": "markdown",
   "id": "6c554804",
   "metadata": {},
   "source": [
    "It is usuall among analysts  to replace the **histograms** in the diagonal plots in the scatter plot matrix with **density plots**, and we do it using the argument **diag_kind = 'kde'**: "
   ]
  },
  {
   "cell_type": "code",
   "execution_count": null,
   "id": "e1700cb7",
   "metadata": {
    "hide_input": false,
    "scrolled": true
   },
   "outputs": [],
   "source": [
    "sns.pairplot(boston, diag_kind = 'kde')"
   ]
  },
  {
   "cell_type": "markdown",
   "id": "7f5d1d1b",
   "metadata": {},
   "source": [
    "## 13.14 Factor Plots for Categorical Data"
   ]
  },
  {
   "cell_type": "markdown",
   "id": "dc4ba1b1",
   "metadata": {},
   "source": [
    "First we import pandas and seaborn libraries:"
   ]
  },
  {
   "cell_type": "code",
   "execution_count": null,
   "id": "7b5416d0",
   "metadata": {
    "hide_input": false
   },
   "outputs": [],
   "source": [
    "import pandas as pd\n",
    "import seaborn as sns"
   ]
  },
  {
   "cell_type": "markdown",
   "id": "a204ef28",
   "metadata": {},
   "source": [
    "Here we read a dataframe from a csv file using the function **pd.read_csv()**:"
   ]
  },
  {
   "cell_type": "code",
   "execution_count": null,
   "id": "f97618fb",
   "metadata": {
    "hide_input": false
   },
   "outputs": [],
   "source": [
    "credit = pd.read_csv('data/credit.csv')"
   ]
  },
  {
   "cell_type": "markdown",
   "id": "351b3480",
   "metadata": {},
   "source": [
    "We can display the head of this dataframe by using the function **head()**: "
   ]
  },
  {
   "cell_type": "code",
   "execution_count": null,
   "id": "bb4bfd3b",
   "metadata": {
    "hide_input": false
   },
   "outputs": [],
   "source": [
    "credit.head()"
   ]
  },
  {
   "cell_type": "markdown",
   "id": "f465fa01",
   "metadata": {},
   "source": [
    "We can use seaborn to create a factor plot between 'gender' and 'income' columns using the function **sns.catplot()**:"
   ]
  },
  {
   "cell_type": "code",
   "execution_count": null,
   "id": "0527a093",
   "metadata": {
    "hide_input": false
   },
   "outputs": [],
   "source": [
    "sns.catplot(x = 'Gender', y =  'Income', data = credit)"
   ]
  },
  {
   "cell_type": "markdown",
   "id": "d43d137f",
   "metadata": {},
   "source": [
    "In factor plots, we can use bars instead of dots by using the argument **kind = 'bar'**:"
   ]
  },
  {
   "cell_type": "code",
   "execution_count": null,
   "id": "ca56f0f4",
   "metadata": {
    "hide_input": false
   },
   "outputs": [],
   "source": [
    "sns.catplot(x = 'Gender', y =  'Income', data = credit, kind = 'bar')"
   ]
  },
  {
   "cell_type": "markdown",
   "id": "adcb7546",
   "metadata": {},
   "source": [
    "We can remove confidence intervals ( the black lines on top of the bars) by using the argument **(ci = False)**:"
   ]
  },
  {
   "cell_type": "code",
   "execution_count": null,
   "id": "6f9bb18c",
   "metadata": {
    "hide_input": false
   },
   "outputs": [],
   "source": [
    "sns.catplot(x = 'Gender', y =  'Income', data = credit, kind = 'bar', ci  =False)"
   ]
  },
  {
   "cell_type": "markdown",
   "id": "0005cb6f",
   "metadata": {},
   "source": [
    "We can also use **box plots** for a categorical variable to provide additional statistics using the argument **(kind = 'box')**:  "
   ]
  },
  {
   "cell_type": "code",
   "execution_count": null,
   "id": "8fbe60e6",
   "metadata": {
    "hide_input": false
   },
   "outputs": [],
   "source": [
    "sns.catplot(x = 'Gender', y =  'Income', data = credit, kind = 'box')"
   ]
  },
  {
   "cell_type": "markdown",
   "id": "6e64396c",
   "metadata": {},
   "source": [
    "Additional, we can also add a hue variable using the argument **hue**, in this example to explore the relationship between ethnicity and income with respect to the hue variable 'Gender'. "
   ]
  },
  {
   "cell_type": "code",
   "execution_count": null,
   "id": "d3b34f47",
   "metadata": {
    "hide_input": false,
    "scrolled": true
   },
   "outputs": [],
   "source": [
    "sns.catplot(x = 'Ethnicity', y =  'Income', hue = 'Gender', data = credit, kind = 'bar')"
   ]
  },
  {
   "cell_type": "markdown",
   "id": "adf3c119",
   "metadata": {},
   "source": [
    "## 13.2 Creating Figures and Subplots"
   ]
  },
  {
   "cell_type": "markdown",
   "id": "d790cbfd",
   "metadata": {},
   "source": [
    "First we import the required libraries: "
   ]
  },
  {
   "cell_type": "code",
   "execution_count": null,
   "id": "857dadcc",
   "metadata": {
    "hide_input": false
   },
   "outputs": [],
   "source": [
    "import numpy as np\n",
    "import matplotlib.pyplot as plt\n",
    "%matplotlib inline"
   ]
  },
  {
   "cell_type": "markdown",
   "id": "8224fa5e",
   "metadata": {},
   "source": [
    "We can create a figure object using the function **figure()**:"
   ]
  },
  {
   "cell_type": "code",
   "execution_count": null,
   "id": "ddae5f3c",
   "metadata": {
    "hide_input": false
   },
   "outputs": [],
   "source": [
    "fig = plt.figure()"
   ]
  },
  {
   "cell_type": "markdown",
   "id": "04547083",
   "metadata": {},
   "source": [
    "We can set the size of the figure object using the argument **figsize = (8,6)**:"
   ]
  },
  {
   "cell_type": "code",
   "execution_count": null,
   "id": "b68bf43a",
   "metadata": {
    "hide_input": false
   },
   "outputs": [],
   "source": [
    "fig = plt.figure(figsize = (8,6))"
   ]
  },
  {
   "cell_type": "markdown",
   "id": "f6f42c6a",
   "metadata": {},
   "source": [
    "To add a subplot, we use the function **add_subplot()**:"
   ]
  },
  {
   "cell_type": "code",
   "execution_count": null,
   "id": "30e23f1a",
   "metadata": {
    "hide_input": false
   },
   "outputs": [],
   "source": [
    "fig = plt.figure(figsize = (8,6))\n",
    "ax1 = fig.add_subplot(2,2,1)"
   ]
  },
  {
   "cell_type": "markdown",
   "id": "5246f267",
   "metadata": {},
   "source": [
    "We can add multiple subplota, using the same function **add_subplot()**:"
   ]
  },
  {
   "cell_type": "code",
   "execution_count": null,
   "id": "d5d9f545",
   "metadata": {
    "hide_input": false
   },
   "outputs": [],
   "source": [
    "fig = plt.figure(figsize = (6,4))\n",
    "ax1 = fig.add_subplot(2,2,1)\n",
    "ax2 = fig.add_subplot(2,2,2)\n",
    "ax3 = fig.add_subplot(2,2,3)\n",
    "ax4 = fig.add_subplot(2,2,4)"
   ]
  },
  {
   "cell_type": "markdown",
   "id": "d48f0f5a",
   "metadata": {},
   "source": [
    "we can create a plot in one of these subplots using the **name** of the subplot and the **plot()** function:"
   ]
  },
  {
   "cell_type": "code",
   "execution_count": null,
   "id": "d5dbc5d1",
   "metadata": {
    "hide_input": false
   },
   "outputs": [],
   "source": [
    "fig = plt.figure(figsize = (6,4))\n",
    "ax1 = fig.add_subplot(2,2,1)\n",
    "ax2 = fig.add_subplot(2,2,2)\n",
    "ax3 = fig.add_subplot(2,2,3)\n",
    "ax4 = fig.add_subplot(2,2,4)\n",
    "ax1.plot([1,2,3,4,5])"
   ]
  },
  {
   "cell_type": "markdown",
   "id": "7403dcd7",
   "metadata": {},
   "source": [
    "Here we add two plots in the subplots **ax1** and **ax2**:"
   ]
  },
  {
   "cell_type": "code",
   "execution_count": null,
   "id": "a6aa138d",
   "metadata": {
    "hide_input": false
   },
   "outputs": [],
   "source": [
    "fig = plt.figure(figsize = (6,4))\n",
    "ax1 = fig.add_subplot(2,2,1)\n",
    "ax2 = fig.add_subplot(2,2,2)\n",
    "ax3 = fig.add_subplot(2,2,3)\n",
    "ax4 = fig.add_subplot(2,2,4)\n",
    "ax1.plot([1,2,3,4,5])\n",
    "ax2.plot(np.random.randn(20).cumsum())"
   ]
  },
  {
   "cell_type": "markdown",
   "id": "d11c34d8",
   "metadata": {},
   "source": [
    "Another method to create subplots is to use the function **plt.subplots**:"
   ]
  },
  {
   "cell_type": "code",
   "execution_count": null,
   "id": "a838328e",
   "metadata": {
    "hide_input": false
   },
   "outputs": [],
   "source": [
    "fig, ax = plt.subplots(3, 3)"
   ]
  },
  {
   "cell_type": "markdown",
   "id": "f0c77ffa",
   "metadata": {},
   "source": [
    "We can increase the size of these subplots bu using the argument **figsize = (8,6)**:"
   ]
  },
  {
   "cell_type": "code",
   "execution_count": null,
   "id": "7248b681",
   "metadata": {
    "hide_input": false
   },
   "outputs": [],
   "source": [
    "fig, ax = plt.subplots(3, 3, figsize = (8,6))"
   ]
  },
  {
   "cell_type": "markdown",
   "id": "6939e0b4",
   "metadata": {},
   "source": [
    "To create a plot inside one of these subplots, we use the name of the subplot and the **plot()** function:\n",
    "\n",
    "**Notice**: ax[0,0] means the subplot in the first row and first column."
   ]
  },
  {
   "cell_type": "code",
   "execution_count": null,
   "id": "15127543",
   "metadata": {
    "hide_input": false
   },
   "outputs": [],
   "source": [
    "fig, ax = plt.subplots(3, 3, figsize = (8,6))\n",
    "ax[0,0].plot([1,2,3,4,5])"
   ]
  },
  {
   "cell_type": "markdown",
   "id": "d6548f7f",
   "metadata": {},
   "source": [
    "Here we added another plot int he third row and third column: **ax[ 2, 2 ]**"
   ]
  },
  {
   "cell_type": "code",
   "execution_count": null,
   "id": "24f3a4e1",
   "metadata": {
    "hide_input": false
   },
   "outputs": [],
   "source": [
    "fig, ax = plt.subplots(3, 3, figsize = (8,6))\n",
    "ax[0,0].plot([1,2,3,4,5])\n",
    "ax[2,2].plot([1,2,3,4,5])"
   ]
  },
  {
   "cell_type": "markdown",
   "id": "f366ddd2",
   "metadata": {},
   "source": [
    "We can adjust the spaces around the subplot by using these arguments:\n",
    "\n",
    "**hspace** : to adjust the **height** between the subplots\n",
    "\n",
    "**wspace** : to adjust the **width** between the subplots"
   ]
  },
  {
   "cell_type": "code",
   "execution_count": null,
   "id": "6576479a",
   "metadata": {
    "hide_input": false,
    "scrolled": true
   },
   "outputs": [],
   "source": [
    "fig, ax = plt.subplots(3, 3, figsize = (8,6))\n",
    "ax[0,0].plot([1,2,3,4,5])\n",
    "ax[2,2].plot([1,2,3,4,5])\n",
    "fig.subplots_adjust(hspace=.4, wspace =0.4)"
   ]
  },
  {
   "cell_type": "markdown",
   "id": "8aa782f4",
   "metadata": {},
   "source": [
    "## 13.3 Changing Colors, Markers and Linestyle"
   ]
  },
  {
   "cell_type": "markdown",
   "id": "a99e6222",
   "metadata": {},
   "source": [
    "First we import the required libraries:"
   ]
  },
  {
   "cell_type": "code",
   "execution_count": null,
   "id": "c99878db",
   "metadata": {
    "hide_input": false
   },
   "outputs": [],
   "source": [
    "import numpy as np\n",
    "import matplotlib.pyplot as plt\n",
    "%matplotlib inline"
   ]
  },
  {
   "cell_type": "markdown",
   "id": "895ad500",
   "metadata": {},
   "source": [
    "Here we create a simple array using numpy function **np.random.randn()**:"
   ]
  },
  {
   "cell_type": "code",
   "execution_count": null,
   "id": "53587412",
   "metadata": {
    "hide_input": false
   },
   "outputs": [],
   "source": [
    "y = np.random.randn(20).cumsum()\n",
    "y"
   ]
  },
  {
   "cell_type": "markdown",
   "id": "55448313",
   "metadata": {},
   "source": [
    "We can plot this array using the function **plot()**:"
   ]
  },
  {
   "cell_type": "code",
   "execution_count": null,
   "id": "ae504dd1",
   "metadata": {
    "hide_input": false
   },
   "outputs": [],
   "source": [
    "plt.plot(y)"
   ]
  },
  {
   "cell_type": "markdown",
   "id": "bac4445c",
   "metadata": {},
   "source": [
    "Lets now create a nother array using the numpy function **np.arange()**:"
   ]
  },
  {
   "cell_type": "code",
   "execution_count": null,
   "id": "9903dbba",
   "metadata": {
    "hide_input": false
   },
   "outputs": [],
   "source": [
    "x= np.arange(0,200,10)\n",
    "x"
   ]
  },
  {
   "cell_type": "markdown",
   "id": "9fdcab2b",
   "metadata": {},
   "source": [
    "We can pass two array for the **plot()** function, the first one for x-axis and the second one for y-axis:"
   ]
  },
  {
   "cell_type": "code",
   "execution_count": null,
   "id": "337aab6b",
   "metadata": {
    "hide_input": false
   },
   "outputs": [],
   "source": [
    "plt.plot(x,y)"
   ]
  },
  {
   "cell_type": "markdown",
   "id": "7e498924",
   "metadata": {},
   "source": [
    "We can change the color of the line by using the argument **color**, Here **'r'** means **red**:"
   ]
  },
  {
   "cell_type": "code",
   "execution_count": null,
   "id": "be5c6b1a",
   "metadata": {
    "hide_input": false
   },
   "outputs": [],
   "source": [
    "plt.plot(x,y, color = 'r')"
   ]
  },
  {
   "cell_type": "markdown",
   "id": "ad254fde",
   "metadata": {},
   "source": [
    "To change the color into yellow, we use **(color = 'y'**):"
   ]
  },
  {
   "cell_type": "code",
   "execution_count": null,
   "id": "ff170179",
   "metadata": {
    "hide_input": false
   },
   "outputs": [],
   "source": [
    "plt.plot(x,y, color = 'y')"
   ]
  },
  {
   "cell_type": "markdown",
   "id": "76dd8734",
   "metadata": {},
   "source": [
    "To change the color into green, we use **(color = 'g'**):"
   ]
  },
  {
   "cell_type": "code",
   "execution_count": null,
   "id": "e9992173",
   "metadata": {
    "hide_input": false
   },
   "outputs": [],
   "source": [
    "plt.plot(x,y, color = 'green')"
   ]
  },
  {
   "cell_type": "markdown",
   "id": "5b9054c5",
   "metadata": {},
   "source": [
    "To add markers to the line plot, we use the argument **marker = 'o'**, here **'o'** means circle:"
   ]
  },
  {
   "cell_type": "code",
   "execution_count": null,
   "id": "f7b546bd",
   "metadata": {
    "hide_input": false
   },
   "outputs": [],
   "source": [
    "plt.plot(x,y, color = 'green', marker = 'o')"
   ]
  },
  {
   "cell_type": "markdown",
   "id": "3bfd8506",
   "metadata": {},
   "source": [
    "To add square markers, we use **marker = 's'**:"
   ]
  },
  {
   "cell_type": "code",
   "execution_count": null,
   "id": "6cc2b656",
   "metadata": {
    "hide_input": false
   },
   "outputs": [],
   "source": [
    "plt.plot(x,y, color = 'green', marker = 's')"
   ]
  },
  {
   "cell_type": "markdown",
   "id": "86622995",
   "metadata": {},
   "source": [
    "To add triangular markers, we use **marker = 'v'**:"
   ]
  },
  {
   "cell_type": "code",
   "execution_count": null,
   "id": "7b3b9f68",
   "metadata": {
    "hide_input": false
   },
   "outputs": [],
   "source": [
    "plt.plot(x,y, color = 'green', marker = 'v')"
   ]
  },
  {
   "cell_type": "markdown",
   "id": "442e3f34",
   "metadata": {},
   "source": [
    "To change the linestyle, we use the argument **linestyle = '--'**, here **'--'** means dashed line: "
   ]
  },
  {
   "cell_type": "code",
   "execution_count": null,
   "id": "753da5a3",
   "metadata": {
    "hide_input": false
   },
   "outputs": [],
   "source": [
    "plt.plot(x,y, color = 'green', marker = 'v', linestyle = '--' )"
   ]
  },
  {
   "cell_type": "markdown",
   "id": "cd7e6169",
   "metadata": {},
   "source": [
    "To change the linestyle into dots, we use **(linestyle = ' : ')**"
   ]
  },
  {
   "cell_type": "code",
   "execution_count": null,
   "id": "997d7843",
   "metadata": {
    "hide_input": false
   },
   "outputs": [],
   "source": [
    "plt.plot(x,y, color = 'green', marker = 'v', linestyle = ':' )"
   ]
  },
  {
   "cell_type": "markdown",
   "id": "03b07653",
   "metadata": {},
   "source": [
    "We can use an abbreviated argument to change the **color**, the **marker**, and the **linestyle**, like this:"
   ]
  },
  {
   "cell_type": "code",
   "execution_count": null,
   "id": "3c0435f8",
   "metadata": {
    "hide_input": false,
    "scrolled": true
   },
   "outputs": [],
   "source": [
    "plt.plot(x,y, 'bv--')"
   ]
  },
  {
   "cell_type": "markdown",
   "id": "34d4f1a7",
   "metadata": {},
   "source": [
    "## 13.4 Customizing Ticks and labels"
   ]
  },
  {
   "cell_type": "markdown",
   "id": "0d174dd0",
   "metadata": {},
   "source": [
    "First we import the required libraries:"
   ]
  },
  {
   "cell_type": "code",
   "execution_count": null,
   "id": "422d8cc4",
   "metadata": {
    "hide_input": false
   },
   "outputs": [],
   "source": [
    "import numpy as np\n",
    "import matplotlib.pyplot as plt\n",
    "%matplotlib inline"
   ]
  },
  {
   "cell_type": "markdown",
   "id": "2d936f50",
   "metadata": {},
   "source": [
    "Here we create a numpy array of cumulative sum using the functions **np.random.randn()** and **cumsum()**:"
   ]
  },
  {
   "cell_type": "code",
   "execution_count": null,
   "id": "be3d735d",
   "metadata": {
    "hide_input": false
   },
   "outputs": [],
   "source": [
    "data = np.random.randn(200).cumsum()"
   ]
  },
  {
   "cell_type": "markdown",
   "id": "72fb7fc2",
   "metadata": {},
   "source": [
    "Then we create a subplot usingt he function **plt.subplots()** and we plot this array using the function **plot()**:"
   ]
  },
  {
   "cell_type": "code",
   "execution_count": null,
   "id": "67213c7e",
   "metadata": {
    "hide_input": false
   },
   "outputs": [],
   "source": [
    "fig, ax = plt.subplots(1,1)\n",
    "ax.plot(data)"
   ]
  },
  {
   "cell_type": "markdown",
   "id": "8c72b9f1",
   "metadata": {},
   "source": [
    "We can change the ticks of the x-axis to a any range of numbers using the function **set_xticks()**:"
   ]
  },
  {
   "cell_type": "code",
   "execution_count": null,
   "id": "6bacbfe9",
   "metadata": {
    "hide_input": false
   },
   "outputs": [],
   "source": [
    "fig, ax = plt.subplots(1,1)\n",
    "ax.plot(data)\n",
    "ticks = ax.set_xticks(range(0,201,10))"
   ]
  },
  {
   "cell_type": "code",
   "execution_count": null,
   "id": "b61cc948",
   "metadata": {
    "hide_input": false
   },
   "outputs": [],
   "source": [
    "fig, ax = plt.subplots(1,1)\n",
    "ax.plot(data)\n",
    "ticks = ax.set_xticks(range(0,201,50))"
   ]
  },
  {
   "cell_type": "markdown",
   "id": "64fb8095",
   "metadata": {},
   "source": [
    "We can also pass the ticks in a simple list, like this one [0,50,100,150,200]:"
   ]
  },
  {
   "cell_type": "code",
   "execution_count": null,
   "id": "fe26d206",
   "metadata": {
    "hide_input": false
   },
   "outputs": [],
   "source": [
    "fig, ax = plt.subplots(1,1)\n",
    "ax.plot(data)\n",
    "ticks = ax.set_xticks([0,50,100,150,200])"
   ]
  },
  {
   "cell_type": "markdown",
   "id": "2533f20e",
   "metadata": {},
   "source": [
    "We can also use **labels** of the ticks instead of numbers using the function **set_xticklabels()**:"
   ]
  },
  {
   "cell_type": "code",
   "execution_count": null,
   "id": "e6894a03",
   "metadata": {
    "hide_input": false
   },
   "outputs": [],
   "source": [
    "fig, ax = plt.subplots(1,1)\n",
    "ax.plot(data)\n",
    "ticks = ax.set_xticks([0,50,100,150, 200])\n",
    "labels = ax.set_xticklabels(['one', 'two', 'three', 'four', 'five'])"
   ]
  },
  {
   "cell_type": "markdown",
   "id": "48ef2552",
   "metadata": {},
   "source": [
    "We can change the orientation of labels, consider these long labels: "
   ]
  },
  {
   "cell_type": "code",
   "execution_count": null,
   "id": "29420677",
   "metadata": {
    "hide_input": false
   },
   "outputs": [],
   "source": [
    "fig, ax = plt.subplots(1,1)\n",
    "ax.plot(data)\n",
    "ticks = ax.set_xticks([0,50,100,150,200])\n",
    "labels = ax.set_xticklabels(['one year sales','two years sales','three years sales',\n",
    "                             'four years sales','five years sales'])"
   ]
  },
  {
   "cell_type": "markdown",
   "id": "d6d93ac9",
   "metadata": {},
   "source": [
    "We can change the orientation of the ticks using the argument **rotation = 60**, this sets the orientation to 60 degrees:"
   ]
  },
  {
   "cell_type": "code",
   "execution_count": null,
   "id": "6cafed0e",
   "metadata": {
    "hide_input": false
   },
   "outputs": [],
   "source": [
    "fig, ax = plt.subplots(1,1)\n",
    "ax.plot(data)\n",
    "ticks = ax.set_xticks([0,50,100,150,200])\n",
    "labels = ax.set_xticklabels(['one year sales','two years sales','three years sales',\n",
    "                             'four years sales','five years sales'], rotation =60)"
   ]
  },
  {
   "cell_type": "markdown",
   "id": "4de0a79a",
   "metadata": {},
   "source": [
    "To add a label for the x-axis, we use the function **set_xlabel()**:"
   ]
  },
  {
   "cell_type": "code",
   "execution_count": null,
   "id": "53df2f48",
   "metadata": {
    "hide_input": false,
    "scrolled": true
   },
   "outputs": [],
   "source": [
    "fig, ax = plt.subplots(1,1)\n",
    "ax.plot(data)\n",
    "ticks = ax.set_xticks([0,50,100,150, 200])\n",
    "labels = ax.set_xticklabels(['one', 'two', 'three', 'four', 'five'])\n",
    "ax.set_xlabel('Cumulative Sum')"
   ]
  },
  {
   "cell_type": "markdown",
   "id": "0884edb8",
   "metadata": {},
   "source": [
    "We can add a title for the figure using the function **set_title()**:"
   ]
  },
  {
   "cell_type": "code",
   "execution_count": null,
   "id": "c119130a",
   "metadata": {
    "hide_input": false
   },
   "outputs": [],
   "source": [
    "fig, ax = plt.subplots(1,1)\n",
    "ax.plot(data)\n",
    "ticks = ax.set_xticks([0,50,100,150, 200])\n",
    "labels = ax.set_xticklabels(['one', 'two', 'three', 'four', 'five'])\n",
    "ax.set_xlabel('Cumulative Sum')\n",
    "ax.set_title('Cumulative Sum for Random Numbers')"
   ]
  },
  {
   "cell_type": "markdown",
   "id": "f2d4d6f9",
   "metadata": {},
   "source": [
    "All methods for the x-axis works as well for the y-axis, just replace x with y.\n",
    "\n",
    "Here we add a label for the y-axis using the function **set_ylabel()**:"
   ]
  },
  {
   "cell_type": "code",
   "execution_count": null,
   "id": "d0b1147d",
   "metadata": {
    "hide_input": false,
    "scrolled": true
   },
   "outputs": [],
   "source": [
    "fig, ax = plt.subplots(1,1)\n",
    "ax.plot(data)\n",
    "ticks = ax.set_xticks([0,50,100,150, 200])\n",
    "labels = ax.set_xticklabels(['one', 'two', 'three', 'four', 'five'])\n",
    "ax.set_xlabel('Cumulative Sum')\n",
    "ax.set_title('Cumulative Sum for Random Numbers')\n",
    "ax.set_ylabel('Values')"
   ]
  },
  {
   "cell_type": "markdown",
   "id": "90438f2e",
   "metadata": {},
   "source": [
    "## 13.5 Adding Legends"
   ]
  },
  {
   "cell_type": "markdown",
   "id": "b93c36ff",
   "metadata": {},
   "source": [
    "First we import the required libraries:"
   ]
  },
  {
   "cell_type": "code",
   "execution_count": null,
   "id": "d673976c",
   "metadata": {
    "hide_input": false
   },
   "outputs": [],
   "source": [
    "import numpy as np\n",
    "import matplotlib.pyplot as plt\n",
    "%matplotlib inline"
   ]
  },
  {
   "cell_type": "markdown",
   "id": "8d141374",
   "metadata": {},
   "source": [
    "Now we create **three** numpy arrays of cumulative sum using the functions **np.random.randn()** and **cumsum()**:"
   ]
  },
  {
   "cell_type": "code",
   "execution_count": null,
   "id": "20be4abc",
   "metadata": {
    "hide_input": false
   },
   "outputs": [],
   "source": [
    "data1 = np.random.randn(200).cumsum()\n",
    "data2 = np.random.randn(200).cumsum()\n",
    "data3 = np.random.randn(200).cumsum()"
   ]
  },
  {
   "cell_type": "markdown",
   "id": "94d1d582",
   "metadata": {},
   "source": [
    "First we create a figure object using the function **plt.subplots()**.\n",
    "\n",
    "Then we plot these three arrays on the same subplot using the function **plot()**"
   ]
  },
  {
   "cell_type": "code",
   "execution_count": null,
   "id": "9e3b4ce3",
   "metadata": {
    "hide_input": false
   },
   "outputs": [],
   "source": [
    "fig, ax  =plt.subplots(1,1)\n",
    "ax.plot(data1)\n",
    "ax.plot(data2)\n",
    "ax.plot(data3)"
   ]
  },
  {
   "cell_type": "markdown",
   "id": "eab661bb",
   "metadata": {},
   "source": [
    "To add a legend, first we need to add a label for each plot using the argument **label = ' '**:"
   ]
  },
  {
   "cell_type": "code",
   "execution_count": null,
   "id": "e2bdc6dc",
   "metadata": {
    "hide_input": false
   },
   "outputs": [],
   "source": [
    "fig, ax  =plt.subplots(1,1)\n",
    "ax.plot(data1, label = 'data1')\n",
    "ax.plot(data2, label = 'data2')\n",
    "ax.plot(data3, label = 'data3')"
   ]
  },
  {
   "cell_type": "markdown",
   "id": "eda793b7",
   "metadata": {},
   "source": [
    "The next step for adding a legend is to use the function **legend()**:"
   ]
  },
  {
   "cell_type": "code",
   "execution_count": null,
   "id": "47aaf102",
   "metadata": {
    "hide_input": false
   },
   "outputs": [],
   "source": [
    "fig, ax  =plt.subplots(1,1)\n",
    "ax.plot(data1, label = 'data1')\n",
    "ax.plot(data2, label = 'data2')\n",
    "ax.plot(data3, label = 'data3')\n",
    "ax.legend()"
   ]
  },
  {
   "cell_type": "markdown",
   "id": "0e615502",
   "metadata": {},
   "source": [
    "We can change the location of the legend by using the argument **loc = ''**:\n",
    "\n",
    "Here **loc = 'best'**, put the legend automatically in an empty corner. "
   ]
  },
  {
   "cell_type": "code",
   "execution_count": null,
   "id": "0c066f4b",
   "metadata": {
    "hide_input": false
   },
   "outputs": [],
   "source": [
    "fig, ax  =plt.subplots(1,1)\n",
    "ax.plot(data1, label = 'data1')\n",
    "ax.plot(data2, label = 'data2')\n",
    "ax.plot(data3, label = 'data3')\n",
    "ax.legend(loc = 'best')"
   ]
  },
  {
   "cell_type": "markdown",
   "id": "0605a6f7",
   "metadata": {},
   "source": [
    "The legend can be located in any corner by changing the argument **loc**, such as these examples:"
   ]
  },
  {
   "cell_type": "code",
   "execution_count": null,
   "id": "0ecce738",
   "metadata": {
    "hide_input": false
   },
   "outputs": [],
   "source": [
    "fig, ax  =plt.subplots(1,1)\n",
    "ax.plot(data1, label = 'data1')\n",
    "ax.plot(data2, label = 'data2')\n",
    "ax.plot(data3, label = 'data3')\n",
    "ax.legend(loc = 'upper right')"
   ]
  },
  {
   "cell_type": "code",
   "execution_count": null,
   "id": "e56e2a17",
   "metadata": {
    "hide_input": false
   },
   "outputs": [],
   "source": [
    "fig, ax  =plt.subplots(1,1)\n",
    "ax.plot(data1, label = 'data1')\n",
    "ax.plot(data2, label = 'data2')\n",
    "ax.plot(data3, label = 'data3')\n",
    "ax.legend(loc = 'lower right')"
   ]
  },
  {
   "cell_type": "code",
   "execution_count": null,
   "id": "ac1d273c",
   "metadata": {
    "hide_input": false
   },
   "outputs": [],
   "source": [
    "fig, ax  =plt.subplots(1,1)\n",
    "ax.plot(data1, label = 'data1')\n",
    "ax.plot(data2, label = 'data2')\n",
    "ax.plot(data3, label = 'data3')\n",
    "ax.legend(loc = 'lower left')"
   ]
  },
  {
   "cell_type": "code",
   "execution_count": null,
   "id": "d6b9490c",
   "metadata": {
    "hide_input": false,
    "scrolled": true
   },
   "outputs": [],
   "source": [
    "fig, ax  =plt.subplots(1,1)\n",
    "ax.plot(data1, label = 'data1')\n",
    "ax.plot(data2, label = 'data2')\n",
    "ax.plot(data3, label = 'data3')\n",
    "ax.legend(loc = 'upper left')"
   ]
  },
  {
   "cell_type": "markdown",
   "id": "b1a6869a",
   "metadata": {},
   "source": [
    "## 13.6 Adding Texts and Arrows on a Plot"
   ]
  },
  {
   "cell_type": "markdown",
   "id": "1d632569",
   "metadata": {},
   "source": [
    "First we import the required library:"
   ]
  },
  {
   "cell_type": "code",
   "execution_count": null,
   "id": "fd04bd26",
   "metadata": {
    "hide_input": false
   },
   "outputs": [],
   "source": [
    "import numpy as np\n",
    "import matplotlib.pyplot as plt\n",
    "%matplotlib inline"
   ]
  },
  {
   "cell_type": "markdown",
   "id": "610cf874",
   "metadata": {},
   "source": [
    "Here we create two arrays, x and y, using numpy functions **np.arange()** and **np.sin()**, respectively:"
   ]
  },
  {
   "cell_type": "code",
   "execution_count": null,
   "id": "0089e78a",
   "metadata": {
    "hide_input": false
   },
   "outputs": [],
   "source": [
    "x = np.arange(0,10,0.1)\n",
    "y =  np.sin(x)"
   ]
  },
  {
   "cell_type": "markdown",
   "id": "aa5f2ae0",
   "metadata": {},
   "source": [
    "Then we create a subplot using the function **plt.subplots()**. And we create a line plot for x and y using the function **plot()**:"
   ]
  },
  {
   "cell_type": "code",
   "execution_count": null,
   "id": "ecf156ee",
   "metadata": {
    "hide_input": false
   },
   "outputs": [],
   "source": [
    "fig, ax  = plt.subplots(1,1)\n",
    "ax.plot(x,y)"
   ]
  },
  {
   "cell_type": "markdown",
   "id": "0732b0d7",
   "metadata": {},
   "source": [
    "We can add a text to the figure using the function **text()**:\n",
    "\n",
    "Here the text is positioned based on x and y coordinates (4, 0.7):"
   ]
  },
  {
   "cell_type": "code",
   "execution_count": null,
   "id": "95a58ddc",
   "metadata": {
    "hide_input": false
   },
   "outputs": [],
   "source": [
    "fig, ax  = plt.subplots(1,1)\n",
    "ax.plot(x,y)\n",
    "ax.text(4,0.7,'y = sin(x)', fontsize = 15)"
   ]
  },
  {
   "cell_type": "markdown",
   "id": "8e9e5735",
   "metadata": {},
   "source": [
    "The text can be also located based on figure rectangle coordinates, here (0.5, 0.5) means in the center of the plot:"
   ]
  },
  {
   "cell_type": "code",
   "execution_count": null,
   "id": "aed25703",
   "metadata": {
    "hide_input": false
   },
   "outputs": [],
   "source": [
    "fig, ax  = plt.subplots(1,1)\n",
    "ax.plot(x,y)\n",
    "ax.text(0.5,0.5,'y = sin(x)', fontsize = 15,transform=ax.transAxes)"
   ]
  },
  {
   "cell_type": "markdown",
   "id": "ac547bec",
   "metadata": {},
   "source": [
    "We can play with the coordinates until we find the best position, here (0.4, 0.5) was chosen:"
   ]
  },
  {
   "cell_type": "code",
   "execution_count": null,
   "id": "7fd6b226",
   "metadata": {
    "hide_input": false
   },
   "outputs": [],
   "source": [
    "fig, ax  = plt.subplots(1,1)\n",
    "ax.plot(x,y)\n",
    "ax.text(0.4,0.5,'y = sin(x)', fontsize = 15,transform=ax.transAxes)"
   ]
  },
  {
   "cell_type": "markdown",
   "id": "19cef86d",
   "metadata": {},
   "source": [
    "We can add arrows to the plot, using the function **arrow()**: "
   ]
  },
  {
   "cell_type": "code",
   "execution_count": null,
   "id": "7fe36dc0",
   "metadata": {
    "hide_input": false
   },
   "outputs": [],
   "source": [
    "fig, ax  = plt.subplots(1,1)\n",
    "ax.plot(x,y) \n",
    "ax.arrow(0.5,1, 0.6,0, width = 0.05)\n",
    "ax.arrow(6.8,1, 0.6,0, width = 0.05)"
   ]
  },
  {
   "cell_type": "markdown",
   "id": "91381690",
   "metadata": {},
   "source": [
    "We can aslo use **arrows** and **texts** together:"
   ]
  },
  {
   "cell_type": "code",
   "execution_count": null,
   "id": "b335fc00",
   "metadata": {
    "hide_input": false,
    "scrolled": true
   },
   "outputs": [],
   "source": [
    "fig, ax  = plt.subplots(1,1)\n",
    "ax.plot(x,y) \n",
    "ax.text(0.35,0.8,'Wave Length', fontsize = 15,transform=ax.transAxes)\n",
    "ax.arrow(1.8,1, 2.5,0, width = 0.05)\n",
    "ax.arrow(7.8,1, -2.5,0, width = 0.05)"
   ]
  },
  {
   "cell_type": "markdown",
   "id": "c4e08146",
   "metadata": {},
   "source": [
    "## 13.7 Adding Annotations and Drawings on a Plot"
   ]
  },
  {
   "cell_type": "markdown",
   "id": "6579886c",
   "metadata": {},
   "source": [
    "First we import the required libraries:"
   ]
  },
  {
   "cell_type": "code",
   "execution_count": null,
   "id": "329e7af2",
   "metadata": {
    "hide_input": false
   },
   "outputs": [],
   "source": [
    "import numpy as np\n",
    "import matplotlib.pyplot as plt\n",
    "%matplotlib inline"
   ]
  },
  {
   "cell_type": "markdown",
   "id": "9941466f",
   "metadata": {},
   "source": [
    "Here we create two arrays, x and y, using numpy functions **np.arange()** and **np.array()**, respectively:"
   ]
  },
  {
   "cell_type": "code",
   "execution_count": null,
   "id": "f8cfbb1b",
   "metadata": {
    "hide_input": false
   },
   "outputs": [],
   "source": [
    "x = np.arange(6)\n",
    "y = np.array([23,34,65,78,51,55])"
   ]
  },
  {
   "cell_type": "markdown",
   "id": "867425fe",
   "metadata": {},
   "source": [
    "Then we create a subplot using the function **plt.subplots()**. And we create a line plot for x and y using the function **plot()**:"
   ]
  },
  {
   "cell_type": "code",
   "execution_count": null,
   "id": "c6ee9d28",
   "metadata": {
    "hide_input": false
   },
   "outputs": [],
   "source": [
    "fig, ax = plt.subplots(1,1)\n",
    "ax.plot(x, y, 'ko--')"
   ]
  },
  {
   "cell_type": "markdown",
   "id": "ba18ee95",
   "metadata": {},
   "source": [
    "We can add annotation by using the function **annotate()**:"
   ]
  },
  {
   "cell_type": "code",
   "execution_count": null,
   "id": "ae791e5c",
   "metadata": {
    "hide_input": false
   },
   "outputs": [],
   "source": [
    "fig, ax = plt.subplots(1,1)\n",
    "ax.plot(x, y, 'ko--')\n",
    "ax.annotate('Maximum', xy = (x[3], y[3]), xytext =(3, 50),\n",
    "            arrowprops = dict(facecolor ='green', shrink = 0.1))"
   ]
  },
  {
   "cell_type": "markdown",
   "id": "6ddda18f",
   "metadata": {},
   "source": [
    "Here we added another annotation pointing to the **minimum**: "
   ]
  },
  {
   "cell_type": "code",
   "execution_count": null,
   "id": "c5df9bfe",
   "metadata": {
    "hide_input": false
   },
   "outputs": [],
   "source": [
    "fig, ax = plt.subplots(1,1)\n",
    "ax.plot(x, y, 'ko--')\n",
    "ax.annotate('Maximum', xy = (x[3], y[3]), xytext =(3, 50),\n",
    "            arrowprops = dict(facecolor ='green', shrink = 0.1))\n",
    "ax.annotate('Minimum', xy = (x[0], y[0]), xytext =(0, 50),\n",
    "            arrowprops = dict(facecolor ='green', shrink = 0.1))"
   ]
  },
  {
   "cell_type": "markdown",
   "id": "099a89f4",
   "metadata": {},
   "source": [
    "We can aslo create shapes on figures, for example we can add a circle using the functions **plt.Circle()** and **add_patch()**:"
   ]
  },
  {
   "cell_type": "code",
   "execution_count": null,
   "id": "7fc73742",
   "metadata": {
    "hide_input": false
   },
   "outputs": [],
   "source": [
    "fig, ax = plt.subplots(1,1)\n",
    "circle = plt.Circle((0.5, 0.5), 0.2, fc='y')\n",
    "ax.add_patch(circle)"
   ]
  },
  {
   "cell_type": "markdown",
   "id": "18efb173",
   "metadata": {},
   "source": [
    "We can add a rectangle using the functions **plt.Rectangle()** and **add_patch()**:"
   ]
  },
  {
   "cell_type": "code",
   "execution_count": null,
   "id": "f9706705",
   "metadata": {
    "hide_input": false
   },
   "outputs": [],
   "source": [
    "fig, ax = plt.subplots(1,1)\n",
    "rect = plt.Rectangle((0.3, 0.5), 0.5, 0.2, color='y', alpha= 0.5)\n",
    "ax.add_patch(rect)"
   ]
  },
  {
   "cell_type": "markdown",
   "id": "70efb731",
   "metadata": {},
   "source": [
    "We can add a triangle using the functions **plt.Polygon()** and **add_patch()**:"
   ]
  },
  {
   "cell_type": "code",
   "execution_count": null,
   "id": "fca25813",
   "metadata": {
    "hide_input": false,
    "scrolled": true
   },
   "outputs": [],
   "source": [
    "fig, ax = plt.subplots(1,1)\n",
    "tri = plt.Polygon([[0.25, 0.25], [0.55, 0.5], [0.4, 0.7]], color='g', alpha=0.5)\n",
    "ax.add_patch(tri)"
   ]
  },
  {
   "cell_type": "markdown",
   "id": "e73c2163",
   "metadata": {},
   "source": [
    "## 13.8 Saving Plots to File"
   ]
  },
  {
   "cell_type": "markdown",
   "id": "312157be",
   "metadata": {},
   "source": [
    "First we import the required libraries:"
   ]
  },
  {
   "cell_type": "code",
   "execution_count": null,
   "id": "5c0b1c0e",
   "metadata": {
    "hide_input": false
   },
   "outputs": [],
   "source": [
    "import numpy as np\n",
    "import matplotlib.pyplot as plt\n",
    "%matplotlib inline"
   ]
  },
  {
   "cell_type": "markdown",
   "id": "55a737c9",
   "metadata": {},
   "source": [
    "Here we created two arrays x and y using numpy functions **np.arange()** and **np.array()**.\n",
    "\n",
    "Then we created a subplot using the function **plt.subplots()**.\n",
    "\n",
    "Then we plotted x and y using the function **plot()**.\n",
    "\n",
    "Then we set some plot charachteristics such as the title (using the function **set_title()**) and the label for x-axis (using the function **set_xlabel**) and the label for y axis (using the function   **set_ylabel()**):"
   ]
  },
  {
   "cell_type": "code",
   "execution_count": null,
   "id": "54744243",
   "metadata": {
    "hide_input": false
   },
   "outputs": [],
   "source": [
    "x = np.arange(6)\n",
    "y = np.array([23,34,65,78,51,55])\n",
    "fig, ax = plt.subplots(1,1)\n",
    "ax.plot(x, y, 'ko--')\n",
    "ax.set_title('My First Figure')\n",
    "ax.set_xlabel('x axis')\n",
    "ax.set_ylabel('y axis')"
   ]
  },
  {
   "cell_type": "markdown",
   "id": "11ed0ca1",
   "metadata": {},
   "source": [
    "We can save this plot in our local hard disk busing the function **plt.savefig()**.\n",
    "\n",
    "Here we save this figure in **svg** format."
   ]
  },
  {
   "cell_type": "code",
   "execution_count": null,
   "id": "f5b3bb3c",
   "metadata": {
    "hide_input": false
   },
   "outputs": [],
   "source": [
    "x = np.arange(6)\n",
    "y = np.array([23,34,65,78,51,55])\n",
    "fig, ax = plt.subplots(1,1)\n",
    "ax.plot(x, y, 'ko--')\n",
    "ax.set_title('My First Figure')\n",
    "ax.set_xlabel('x axis')\n",
    "ax.set_ylabel('y axis')\n",
    "plt.savefig('figures/firstfigure1.svg')"
   ]
  },
  {
   "cell_type": "markdown",
   "id": "95cbd559",
   "metadata": {},
   "source": [
    "We can save this figure in **png** format just by adding the extension **png**:"
   ]
  },
  {
   "cell_type": "code",
   "execution_count": null,
   "id": "5efbb674",
   "metadata": {
    "hide_input": false,
    "scrolled": true
   },
   "outputs": [],
   "source": [
    "x = np.arange(6)\n",
    "y = np.array([23,34,65,78,51,55])\n",
    "fig, ax = plt.subplots(1,1)\n",
    "ax.plot(x, y, 'ko--')\n",
    "ax.set_title('My First Figure')\n",
    "ax.set_xlabel('x axis')\n",
    "ax.set_ylabel('y axis')\n",
    "plt.savefig('figures/firstfigure2.png')"
   ]
  },
  {
   "cell_type": "markdown",
   "id": "14e85ce6",
   "metadata": {},
   "source": [
    "To increase the quality of the saved figure, we use the argument **dpi** to increase its resolution:"
   ]
  },
  {
   "cell_type": "code",
   "execution_count": null,
   "id": "2b57f510",
   "metadata": {
    "hide_input": false
   },
   "outputs": [],
   "source": [
    "x = np.arange(6)\n",
    "y = np.array([23,34,65,78,51,55])\n",
    "fig, ax = plt.subplots(1,1)\n",
    "ax.plot(x, y, 'ko--')\n",
    "ax.set_title('My First Figure')\n",
    "ax.set_xlabel('x axis')\n",
    "ax.set_ylabel('y axis')\n",
    "plt.savefig('figures/firstfigure3.png', dpi = 400)"
   ]
  },
  {
   "cell_type": "markdown",
   "id": "8c3fd24a",
   "metadata": {},
   "source": [
    "To save the figure in **jpeg** format we use the extension **jpeg**:"
   ]
  },
  {
   "cell_type": "code",
   "execution_count": null,
   "id": "64e4713b",
   "metadata": {
    "hide_input": false
   },
   "outputs": [],
   "source": [
    "x = np.arange(6)\n",
    "y = np.array([23,34,65,78,51,55])\n",
    "fig, ax = plt.subplots(1,1)\n",
    "ax.plot(x, y, 'ko--')\n",
    "ax.set_title('My First Figure')\n",
    "ax.set_xlabel('x axis')\n",
    "ax.set_ylabel('y axis')\n",
    "plt.savefig('figures/firstfigure4.jpeg')"
   ]
  },
  {
   "cell_type": "markdown",
   "id": "4f809a54",
   "metadata": {},
   "source": [
    "We can also save the figure in **pdf** format using the extension **pdf**:"
   ]
  },
  {
   "cell_type": "code",
   "execution_count": null,
   "id": "fa95b42a",
   "metadata": {
    "hide_input": false
   },
   "outputs": [],
   "source": [
    "x = np.arange(6)\n",
    "y = np.array([23,34,65,78,51,55])\n",
    "fig, ax = plt.subplots(1,1)\n",
    "ax.plot(x, y, 'ko--')\n",
    "ax.set_title('My First Figure')\n",
    "ax.set_xlabel('x axis')\n",
    "ax.set_ylabel('y axis')\n",
    "plt.savefig('figures/firstfigure5.pdf')"
   ]
  },
  {
   "cell_type": "markdown",
   "id": "ab0d714a",
   "metadata": {},
   "source": [
    "To check for the saved files in our local directory ( here **figures**), we use the function **listdir** then we pass the name of the directory:"
   ]
  },
  {
   "cell_type": "code",
   "execution_count": null,
   "id": "6b35b0d1",
   "metadata": {
    "hide_input": false,
    "scrolled": true
   },
   "outputs": [],
   "source": [
    "from os import listdir\n",
    "listdir('figures')"
   ]
  },
  {
   "cell_type": "markdown",
   "id": "e7fdbbb5",
   "metadata": {},
   "source": [
    "## 13.9 Line Plots with Dataframe"
   ]
  },
  {
   "cell_type": "markdown",
   "id": "f059cac7",
   "metadata": {},
   "source": [
    "First we import the required libraries:"
   ]
  },
  {
   "cell_type": "code",
   "execution_count": null,
   "id": "c5cb8cd5",
   "metadata": {
    "hide_input": false
   },
   "outputs": [],
   "source": [
    "import numpy as np\n",
    "import pandas as pd"
   ]
  },
  {
   "cell_type": "markdown",
   "id": "22a7e155",
   "metadata": {},
   "source": [
    "Here we create a simple series using pandas function **pd.Series()** from a numpy array :"
   ]
  },
  {
   "cell_type": "code",
   "execution_count": null,
   "id": "12e22a2b",
   "metadata": {
    "hide_input": false
   },
   "outputs": [],
   "source": [
    "ser1 = pd.Series(np.random.randn(10).cumsum())\n",
    "ser1"
   ]
  },
  {
   "cell_type": "markdown",
   "id": "d7f4d3e3",
   "metadata": {},
   "source": [
    "We can plot this series using pandas ploting just by adding the function **plot()** to the pandas series:"
   ]
  },
  {
   "cell_type": "code",
   "execution_count": null,
   "id": "9b074c41",
   "metadata": {
    "hide_input": false
   },
   "outputs": [],
   "source": [
    "ser1.plot()"
   ]
  },
  {
   "cell_type": "markdown",
   "id": "c01edce8",
   "metadata": {},
   "source": [
    "For plotting dataframes, lets first read this dataframe from a csv file using the function **pd.read_csv()**:"
   ]
  },
  {
   "cell_type": "code",
   "execution_count": null,
   "id": "3f16f803",
   "metadata": {
    "hide_input": false
   },
   "outputs": [],
   "source": [
    "data1 = pd.read_csv('data/ex7.csv', index_col = 'year')\n",
    "data1"
   ]
  },
  {
   "cell_type": "markdown",
   "id": "1980a97b",
   "metadata": {},
   "source": [
    "We can plot all columns in this dataframe in one figure, simply by using the function **plot()**:"
   ]
  },
  {
   "cell_type": "code",
   "execution_count": null,
   "id": "3fa28e3b",
   "metadata": {
    "hide_input": false
   },
   "outputs": [],
   "source": [
    "data1.plot()"
   ]
  },
  {
   "cell_type": "markdown",
   "id": "78603a64",
   "metadata": {},
   "source": [
    "To create a separate plot for each column, we use the argument **subplots = True**:"
   ]
  },
  {
   "cell_type": "code",
   "execution_count": null,
   "id": "67e3481e",
   "metadata": {
    "hide_input": false
   },
   "outputs": [],
   "source": [
    "data1.plot(subplots = True)"
   ]
  },
  {
   "cell_type": "markdown",
   "id": "3bd0ebe1",
   "metadata": {},
   "source": [
    "We can change the layout of the subplots to horizontal, by adding the **layout** argument. Here **layout = (1,3)** means one row and three columns. "
   ]
  },
  {
   "cell_type": "code",
   "execution_count": null,
   "id": "e33b1670",
   "metadata": {
    "hide_input": false
   },
   "outputs": [],
   "source": [
    "data1.plot(subplots = True, layout = (1,3))"
   ]
  },
  {
   "cell_type": "markdown",
   "id": "81515a39",
   "metadata": {},
   "source": [
    "We can change the size of the figures by using the argument **figsize**:"
   ]
  },
  {
   "cell_type": "code",
   "execution_count": null,
   "id": "38513c96",
   "metadata": {
    "hide_input": false
   },
   "outputs": [],
   "source": [
    "data1.plot(subplots = True, layout = (1,3), figsize = (12,6))"
   ]
  },
  {
   "cell_type": "markdown",
   "id": "aff1ba9e",
   "metadata": {},
   "source": [
    "We can delete the **legends** by using the argument **(legend = False)**:"
   ]
  },
  {
   "cell_type": "code",
   "execution_count": null,
   "id": "c4e0880d",
   "metadata": {
    "hide_input": false
   },
   "outputs": [],
   "source": [
    "data1.plot(subplots = True, layout = (1,3), figsize = (12,6), legend = False)"
   ]
  },
  {
   "cell_type": "markdown",
   "id": "69a5b621",
   "metadata": {},
   "source": [
    "We can add a **title** for this figure, simply by using the argument **title = ' '**:"
   ]
  },
  {
   "cell_type": "code",
   "execution_count": null,
   "id": "2a98aaf2",
   "metadata": {
    "hide_input": false
   },
   "outputs": [],
   "source": [
    "data1.plot(subplots = True, layout = (1,3), figsize = (12,6), legend = False, \n",
    "           title = 'Company Sales for Three Items')"
   ]
  },
  {
   "cell_type": "markdown",
   "id": "b464b256",
   "metadata": {},
   "source": [
    "We can also make y-axis identical for the three figures for better comparison using the argument **(sharey = True)**:"
   ]
  },
  {
   "cell_type": "code",
   "execution_count": null,
   "id": "f10e0f61",
   "metadata": {
    "hide_input": false,
    "scrolled": true
   },
   "outputs": [],
   "source": [
    "data1.plot(subplots = True, layout = (1,3), figsize = (12,4), legend = False, \n",
    "           title = 'Company Sales for Three Items', sharey = True)"
   ]
  },
  {
   "cell_type": "markdown",
   "id": "a6f3fcf3",
   "metadata": {},
   "source": [
    "Finally, we can plot a **single column** like this:"
   ]
  },
  {
   "cell_type": "code",
   "execution_count": null,
   "id": "65a0fe1b",
   "metadata": {
    "hide_input": false,
    "scrolled": true
   },
   "outputs": [],
   "source": [
    "data1.sale1.plot()"
   ]
  },
  {
   "cell_type": "code",
   "execution_count": 57,
   "id": "49804f2c",
   "metadata": {},
   "outputs": [
    {
     "data": {
      "text/html": [
       "<div>\n",
       "<style scoped>\n",
       "    .dataframe tbody tr th:only-of-type {\n",
       "        vertical-align: middle;\n",
       "    }\n",
       "\n",
       "    .dataframe tbody tr th {\n",
       "        vertical-align: top;\n",
       "    }\n",
       "\n",
       "    .dataframe thead th {\n",
       "        text-align: right;\n",
       "    }\n",
       "</style>\n",
       "<table border=\"1\" class=\"dataframe\">\n",
       "  <thead>\n",
       "    <tr style=\"text-align: right;\">\n",
       "      <th></th>\n",
       "      <th>id</th>\n",
       "      <th>name</th>\n",
       "      <th>host_id</th>\n",
       "      <th>host_name</th>\n",
       "      <th>neighbourhood_group</th>\n",
       "      <th>neighbourhood</th>\n",
       "      <th>latitude</th>\n",
       "      <th>longitude</th>\n",
       "      <th>room_type</th>\n",
       "      <th>price</th>\n",
       "      <th>minimum_nights</th>\n",
       "      <th>number_of_reviews</th>\n",
       "      <th>last_review</th>\n",
       "      <th>reviews_per_month</th>\n",
       "      <th>calculated_host_listings_count</th>\n",
       "      <th>availability_365</th>\n",
       "    </tr>\n",
       "  </thead>\n",
       "  <tbody>\n",
       "    <tr>\n",
       "      <th>0</th>\n",
       "      <td>2539</td>\n",
       "      <td>Clean &amp; quiet apt home by the park</td>\n",
       "      <td>2787</td>\n",
       "      <td>John</td>\n",
       "      <td>Brooklyn</td>\n",
       "      <td>Kensington</td>\n",
       "      <td>40.64749</td>\n",
       "      <td>-73.97237</td>\n",
       "      <td>Private room</td>\n",
       "      <td>149</td>\n",
       "      <td>1</td>\n",
       "      <td>9</td>\n",
       "      <td>19/10/2018</td>\n",
       "      <td>0.21</td>\n",
       "      <td>6</td>\n",
       "      <td>365</td>\n",
       "    </tr>\n",
       "    <tr>\n",
       "      <th>1</th>\n",
       "      <td>2595</td>\n",
       "      <td>Skylit Midtown Castle</td>\n",
       "      <td>2845</td>\n",
       "      <td>Jennifer</td>\n",
       "      <td>Manhattan</td>\n",
       "      <td>Midtown</td>\n",
       "      <td>40.75362</td>\n",
       "      <td>-73.98377</td>\n",
       "      <td>Entire home/apt</td>\n",
       "      <td>225</td>\n",
       "      <td>1</td>\n",
       "      <td>45</td>\n",
       "      <td>21/05/2019</td>\n",
       "      <td>0.38</td>\n",
       "      <td>2</td>\n",
       "      <td>355</td>\n",
       "    </tr>\n",
       "    <tr>\n",
       "      <th>2</th>\n",
       "      <td>3647</td>\n",
       "      <td>THE VILLAGE OF HARLEM....NEW YORK !</td>\n",
       "      <td>4632</td>\n",
       "      <td>Elisabeth</td>\n",
       "      <td>Manhattan</td>\n",
       "      <td>Harlem</td>\n",
       "      <td>40.80902</td>\n",
       "      <td>-73.94190</td>\n",
       "      <td>Private room</td>\n",
       "      <td>150</td>\n",
       "      <td>3</td>\n",
       "      <td>0</td>\n",
       "      <td>NaN</td>\n",
       "      <td>NaN</td>\n",
       "      <td>1</td>\n",
       "      <td>365</td>\n",
       "    </tr>\n",
       "    <tr>\n",
       "      <th>3</th>\n",
       "      <td>3831</td>\n",
       "      <td>Cozy Entire Floor of Brownstone</td>\n",
       "      <td>4869</td>\n",
       "      <td>LisaRoxanne</td>\n",
       "      <td>Brooklyn</td>\n",
       "      <td>Clinton Hill</td>\n",
       "      <td>40.68514</td>\n",
       "      <td>-73.95976</td>\n",
       "      <td>Entire home/apt</td>\n",
       "      <td>89</td>\n",
       "      <td>1</td>\n",
       "      <td>270</td>\n",
       "      <td>05/07/2019</td>\n",
       "      <td>4.64</td>\n",
       "      <td>1</td>\n",
       "      <td>194</td>\n",
       "    </tr>\n",
       "    <tr>\n",
       "      <th>4</th>\n",
       "      <td>5022</td>\n",
       "      <td>Entire Apt: Spacious Studio/Loft by central park</td>\n",
       "      <td>7192</td>\n",
       "      <td>Laura</td>\n",
       "      <td>Manhattan</td>\n",
       "      <td>East Harlem</td>\n",
       "      <td>40.79851</td>\n",
       "      <td>-73.94399</td>\n",
       "      <td>Entire home/apt</td>\n",
       "      <td>80</td>\n",
       "      <td>10</td>\n",
       "      <td>9</td>\n",
       "      <td>19/11/2018</td>\n",
       "      <td>0.10</td>\n",
       "      <td>1</td>\n",
       "      <td>0</td>\n",
       "    </tr>\n",
       "  </tbody>\n",
       "</table>\n",
       "</div>"
      ],
      "text/plain": [
       "     id                                              name  host_id  \\\n",
       "0  2539                Clean & quiet apt home by the park     2787   \n",
       "1  2595                             Skylit Midtown Castle     2845   \n",
       "2  3647               THE VILLAGE OF HARLEM....NEW YORK !     4632   \n",
       "3  3831                   Cozy Entire Floor of Brownstone     4869   \n",
       "4  5022  Entire Apt: Spacious Studio/Loft by central park     7192   \n",
       "\n",
       "     host_name neighbourhood_group neighbourhood  latitude  longitude  \\\n",
       "0         John            Brooklyn    Kensington  40.64749  -73.97237   \n",
       "1     Jennifer           Manhattan       Midtown  40.75362  -73.98377   \n",
       "2    Elisabeth           Manhattan        Harlem  40.80902  -73.94190   \n",
       "3  LisaRoxanne            Brooklyn  Clinton Hill  40.68514  -73.95976   \n",
       "4        Laura           Manhattan   East Harlem  40.79851  -73.94399   \n",
       "\n",
       "         room_type  price  minimum_nights  number_of_reviews last_review  \\\n",
       "0     Private room    149               1                  9  19/10/2018   \n",
       "1  Entire home/apt    225               1                 45  21/05/2019   \n",
       "2     Private room    150               3                  0         NaN   \n",
       "3  Entire home/apt     89               1                270  05/07/2019   \n",
       "4  Entire home/apt     80              10                  9  19/11/2018   \n",
       "\n",
       "   reviews_per_month  calculated_host_listings_count  availability_365  \n",
       "0               0.21                               6               365  \n",
       "1               0.38                               2               355  \n",
       "2                NaN                               1               365  \n",
       "3               4.64                               1               194  \n",
       "4               0.10                               1                 0  "
      ]
     },
     "execution_count": 57,
     "metadata": {},
     "output_type": "execute_result"
    }
   ],
   "source": [
    "import pandas as pd\n",
    "import numpy as np\n",
    "from matplotlib import pyplot as plt\n",
    "import seaborn as sns\n",
    "\n",
    "data = pd.read_csv(\"input/AB_NYC_2019.csv\")\n",
    "data.head()"
   ]
  },
  {
   "cell_type": "code",
   "execution_count": 58,
   "id": "b8a4910c",
   "metadata": {},
   "outputs": [
    {
     "data": {
      "text/plain": [
       "<AxesSubplot:xlabel='price'>"
      ]
     },
     "execution_count": 58,
     "metadata": {},
     "output_type": "execute_result"
    },
    {
     "data": {
      "image/png": "[encoded data removed]",
      "text/plain": [
       "<Figure size 720x864 with 6 Axes>"
      ]
     },
     "metadata": {
      "needs_background": "light"
     },
     "output_type": "display_data"
    }
   ],
   "source": [
    "fig, axes = plt.subplots(3, 2)\n",
    "fig.set_size_inches(10, 12)\n",
    "\n",
    "axes[0,0].hist(x=data['neighbourhood_group'])\n",
    "axes[0,1].hist(x=data['room_type'])\n",
    "\n",
    "data.hist('number_of_reviews',ax=axes[1,0])\n",
    "data.plot(kind=\"scatter\",x=\"latitude\", y=\"longitude\",ax=axes[1,1])\n",
    "\n",
    "sns.histplot(data, x=\"room_type\", hue='neighbourhood_group',ax=axes[2,0])\n",
    "sns.boxplot(data=data, x=\"price\", hue='neighbourhood_group',ax=axes[2,1])"
   ]
  },
  {
   "cell_type": "code",
   "execution_count": 59,
   "id": "71a02194",
   "metadata": {},
   "outputs": [
    {
     "data": {
      "text/html": [
       "<div>\n",
       "<style scoped>\n",
       "    .dataframe tbody tr th:only-of-type {\n",
       "        vertical-align: middle;\n",
       "    }\n",
       "\n",
       "    .dataframe tbody tr th {\n",
       "        vertical-align: top;\n",
       "    }\n",
       "\n",
       "    .dataframe thead th {\n",
       "        text-align: right;\n",
       "    }\n",
       "</style>\n",
       "<table border=\"1\" class=\"dataframe\">\n",
       "  <thead>\n",
       "    <tr style=\"text-align: right;\">\n",
       "      <th></th>\n",
       "      <th>PassengerId</th>\n",
       "      <th>Survived</th>\n",
       "      <th>Pclass</th>\n",
       "      <th>Name</th>\n",
       "      <th>Sex</th>\n",
       "      <th>Age</th>\n",
       "      <th>SibSp</th>\n",
       "      <th>Parch</th>\n",
       "      <th>Ticket</th>\n",
       "      <th>Fare</th>\n",
       "      <th>Cabin</th>\n",
       "      <th>Embarked</th>\n",
       "    </tr>\n",
       "  </thead>\n",
       "  <tbody>\n",
       "    <tr>\n",
       "      <th>0</th>\n",
       "      <td>1</td>\n",
       "      <td>0</td>\n",
       "      <td>3</td>\n",
       "      <td>Braund, Mr. Owen Harris</td>\n",
       "      <td>male</td>\n",
       "      <td>22.0</td>\n",
       "      <td>1</td>\n",
       "      <td>0</td>\n",
       "      <td>A/5 21171</td>\n",
       "      <td>7.2500</td>\n",
       "      <td>NaN</td>\n",
       "      <td>S</td>\n",
       "    </tr>\n",
       "    <tr>\n",
       "      <th>1</th>\n",
       "      <td>2</td>\n",
       "      <td>1</td>\n",
       "      <td>1</td>\n",
       "      <td>Cumings, Mrs. John Bradley (Florence Briggs Th...</td>\n",
       "      <td>female</td>\n",
       "      <td>38.0</td>\n",
       "      <td>1</td>\n",
       "      <td>0</td>\n",
       "      <td>PC 17599</td>\n",
       "      <td>71.2833</td>\n",
       "      <td>C85</td>\n",
       "      <td>C</td>\n",
       "    </tr>\n",
       "    <tr>\n",
       "      <th>2</th>\n",
       "      <td>3</td>\n",
       "      <td>1</td>\n",
       "      <td>3</td>\n",
       "      <td>Heikkinen, Miss. Laina</td>\n",
       "      <td>female</td>\n",
       "      <td>26.0</td>\n",
       "      <td>0</td>\n",
       "      <td>0</td>\n",
       "      <td>STON/O2. 3101282</td>\n",
       "      <td>7.9250</td>\n",
       "      <td>NaN</td>\n",
       "      <td>S</td>\n",
       "    </tr>\n",
       "    <tr>\n",
       "      <th>3</th>\n",
       "      <td>4</td>\n",
       "      <td>1</td>\n",
       "      <td>1</td>\n",
       "      <td>Futrelle, Mrs. Jacques Heath (Lily May Peel)</td>\n",
       "      <td>female</td>\n",
       "      <td>35.0</td>\n",
       "      <td>1</td>\n",
       "      <td>0</td>\n",
       "      <td>113803</td>\n",
       "      <td>53.1000</td>\n",
       "      <td>C123</td>\n",
       "      <td>S</td>\n",
       "    </tr>\n",
       "    <tr>\n",
       "      <th>4</th>\n",
       "      <td>5</td>\n",
       "      <td>0</td>\n",
       "      <td>3</td>\n",
       "      <td>Allen, Mr. William Henry</td>\n",
       "      <td>male</td>\n",
       "      <td>35.0</td>\n",
       "      <td>0</td>\n",
       "      <td>0</td>\n",
       "      <td>373450</td>\n",
       "      <td>8.0500</td>\n",
       "      <td>NaN</td>\n",
       "      <td>S</td>\n",
       "    </tr>\n",
       "  </tbody>\n",
       "</table>\n",
       "</div>"
      ],
      "text/plain": [
       "   PassengerId  Survived  Pclass  \\\n",
       "0            1         0       3   \n",
       "1            2         1       1   \n",
       "2            3         1       3   \n",
       "3            4         1       1   \n",
       "4            5         0       3   \n",
       "\n",
       "                                                Name     Sex   Age  SibSp  \\\n",
       "0                            Braund, Mr. Owen Harris    male  22.0      1   \n",
       "1  Cumings, Mrs. John Bradley (Florence Briggs Th...  female  38.0      1   \n",
       "2                             Heikkinen, Miss. Laina  female  26.0      0   \n",
       "3       Futrelle, Mrs. Jacques Heath (Lily May Peel)  female  35.0      1   \n",
       "4                           Allen, Mr. William Henry    male  35.0      0   \n",
       "\n",
       "   Parch            Ticket     Fare Cabin Embarked  \n",
       "0      0         A/5 21171   7.2500   NaN        S  \n",
       "1      0          PC 17599  71.2833   C85        C  \n",
       "2      0  STON/O2. 3101282   7.9250   NaN        S  \n",
       "3      0            113803  53.1000  C123        S  \n",
       "4      0            373450   8.0500   NaN        S  "
      ]
     },
     "execution_count": 59,
     "metadata": {},
     "output_type": "execute_result"
    }
   ],
   "source": [
    "data = pd.read_csv(\"input/titanic_train.csv\")\n",
    "data.head()"
   ]
  },
  {
   "cell_type": "code",
   "execution_count": 60,
   "id": "88283185",
   "metadata": {},
   "outputs": [
    {
     "data": {
      "image/png": "[encoded data removed]",
      "text/plain": [
       "<Figure size 701.475x216 with 3 Axes>"
      ]
     },
     "metadata": {
      "needs_background": "light"
     },
     "output_type": "display_data"
    }
   ],
   "source": [
    "g = sns.FacetGrid(data, col=\"Embarked\", hue=\"Survived\")\n",
    "g.map(plt.hist, \"SibSp\")\n",
    "g.add_legend();"
   ]
  },
  {
   "cell_type": "code",
   "execution_count": 61,
   "id": "49337f48",
   "metadata": {
    "scrolled": true
   },
   "outputs": [
    {
     "data": {
      "image/png": "[encoded data removed]",
      "text/plain": [
       "<Figure size 701.475x648 with 9 Axes>"
      ]
     },
     "metadata": {
      "needs_background": "light"
     },
     "output_type": "display_data"
    }
   ],
   "source": [
    "g = sns.FacetGrid(data, col=\"Embarked\", row='Pclass', hue=\"Survived\")\n",
    "g.map(plt.hist, \"SibSp\")\n",
    "g.add_legend();"
   ]
  },
  {
   "cell_type": "markdown",
   "id": "8f76db3c",
   "metadata": {},
   "source": [
    "## seaborn.pairplot"
   ]
  },
  {
   "cell_type": "code",
   "execution_count": 62,
   "id": "0c8acc99",
   "metadata": {},
   "outputs": [
    {
     "data": {
      "text/html": [
       "<div>\n",
       "<style scoped>\n",
       "    .dataframe tbody tr th:only-of-type {\n",
       "        vertical-align: middle;\n",
       "    }\n",
       "\n",
       "    .dataframe tbody tr th {\n",
       "        vertical-align: top;\n",
       "    }\n",
       "\n",
       "    .dataframe thead th {\n",
       "        text-align: right;\n",
       "    }\n",
       "</style>\n",
       "<table border=\"1\" class=\"dataframe\">\n",
       "  <thead>\n",
       "    <tr style=\"text-align: right;\">\n",
       "      <th></th>\n",
       "      <th>Sepal Length</th>\n",
       "      <th>Sepal Width</th>\n",
       "      <th>Petal Length</th>\n",
       "      <th>Petal Width</th>\n",
       "      <th>class</th>\n",
       "    </tr>\n",
       "  </thead>\n",
       "  <tbody>\n",
       "    <tr>\n",
       "      <th>0</th>\n",
       "      <td>5.1</td>\n",
       "      <td>3.5</td>\n",
       "      <td>1.4</td>\n",
       "      <td>0.2</td>\n",
       "      <td>Iris-setosa</td>\n",
       "    </tr>\n",
       "    <tr>\n",
       "      <th>1</th>\n",
       "      <td>4.9</td>\n",
       "      <td>3.0</td>\n",
       "      <td>1.4</td>\n",
       "      <td>0.2</td>\n",
       "      <td>Iris-setosa</td>\n",
       "    </tr>\n",
       "    <tr>\n",
       "      <th>2</th>\n",
       "      <td>4.7</td>\n",
       "      <td>3.2</td>\n",
       "      <td>1.3</td>\n",
       "      <td>0.2</td>\n",
       "      <td>Iris-setosa</td>\n",
       "    </tr>\n",
       "    <tr>\n",
       "      <th>3</th>\n",
       "      <td>4.6</td>\n",
       "      <td>3.1</td>\n",
       "      <td>1.5</td>\n",
       "      <td>0.2</td>\n",
       "      <td>Iris-setosa</td>\n",
       "    </tr>\n",
       "    <tr>\n",
       "      <th>4</th>\n",
       "      <td>5.0</td>\n",
       "      <td>3.6</td>\n",
       "      <td>1.4</td>\n",
       "      <td>0.2</td>\n",
       "      <td>Iris-setosa</td>\n",
       "    </tr>\n",
       "  </tbody>\n",
       "</table>\n",
       "</div>"
      ],
      "text/plain": [
       "   Sepal Length  Sepal Width  Petal Length  Petal Width        class\n",
       "0           5.1          3.5           1.4          0.2  Iris-setosa\n",
       "1           4.9          3.0           1.4          0.2  Iris-setosa\n",
       "2           4.7          3.2           1.3          0.2  Iris-setosa\n",
       "3           4.6          3.1           1.5          0.2  Iris-setosa\n",
       "4           5.0          3.6           1.4          0.2  Iris-setosa"
      ]
     },
     "execution_count": 62,
     "metadata": {},
     "output_type": "execute_result"
    }
   ],
   "source": [
    "data = pd.read_csv(\"input/iris.csv\")\n",
    "data.head()"
   ]
  },
  {
   "cell_type": "code",
   "execution_count": 63,
   "id": "351baf96",
   "metadata": {},
   "outputs": [
    {
     "data": {
      "text/plain": [
       "<seaborn.axisgrid.PairGrid at 0x7f8ada2a3130>"
      ]
     },
     "execution_count": 63,
     "metadata": {},
     "output_type": "execute_result"
    },
    {
     "data": {
      "image/png": "[encoded data removed]",
      "text/plain": [
       "<Figure size 844.075x720 with 20 Axes>"
      ]
     },
     "metadata": {
      "needs_background": "light"
     },
     "output_type": "display_data"
    },
    {
     "data": {
      "image/png": "[encoded data removed]",
      "text/plain": [
       "<Figure size 720x720 with 16 Axes>"
      ]
     },
     "metadata": {
      "needs_background": "light"
     },
     "output_type": "display_data"
    },
    {
     "data": {
      "image/png": "[encoded data removed]",
      "text/plain": [
       "<Figure size 720x720 with 20 Axes>"
      ]
     },
     "metadata": {
      "needs_background": "light"
     },
     "output_type": "display_data"
    },
    {
     "data": {
      "image/png": "[encoded data removed]",
      "text/plain": [
       "<Figure size 720x720 with 16 Axes>"
      ]
     },
     "metadata": {
      "needs_background": "light"
     },
     "output_type": "display_data"
    }
   ],
   "source": [
    "\n",
    "sns.pairplot(data, hue='class')\n",
    "sns.PairGrid(data, hue='class').map(plt.scatter)\n",
    "\n",
    "sns.PairGrid(data, hue='class').map_diag(plt.hist)\n",
    "sns.PairGrid(data, hue='class').map_offdiag(plt.scatter)"
   ]
  },
  {
   "cell_type": "code",
   "execution_count": null,
   "id": "aad720c1",
   "metadata": {},
   "outputs": [],
   "source": []
  },
  {
   "cell_type": "code",
   "execution_count": null,
   "id": "9c5b7e6c",
   "metadata": {},
   "outputs": [],
   "source": []
  }
 ],
 "metadata": {
  "kernelspec": {
   "display_name": "Python 3 (ipykernel)",
   "language": "python",
   "name": "python3"
  },
  "language_info": {
   "codemirror_mode": {
    "name": "ipython",
    "version": 3
   },
   "file_extension": ".py",
   "mimetype": "text/x-python",
   "name": "python",
   "nbconvert_exporter": "python",
   "pygments_lexer": "ipython3",
   "version": "3.9.7"
  }
 },
 "nbformat": 4,
 "nbformat_minor": 5
}
