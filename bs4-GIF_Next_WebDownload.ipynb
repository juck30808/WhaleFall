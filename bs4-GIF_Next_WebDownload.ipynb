{
 "cells": [
  {
   "cell_type": "markdown",
   "metadata": {},
   "source": [
    "- https://www.gif-vif.com/you-are-a-wizard-doggo"
   ]
  },
  {
   "cell_type": "code",
   "execution_count": 5,
   "metadata": {},
   "outputs": [],
   "source": [
    "#!pip install requests\n",
    "# 200：ok   # 4xx：User Error  # 5xx：Server Error"
   ]
  },
  {
   "cell_type": "code",
   "execution_count": 6,
   "metadata": {},
   "outputs": [
    {
     "data": {
      "text/plain": [
       "'\\n\\n<!DOCTYPE html>\\n<html lang=\"en\">\\n    <head >\\n        <title>You are a wizard doggo, dog GIFs - Gifvif</title>\\n        <meta charset=\"utf-8\" />   \\n        <meta name=\"description\" content=\"You are a wizard doggo, dog GIFs | Search for More dog GIFs on www.GIF-VIF.com\" />     \\n      <meta name=\"medium\" content=\"image\" />\\n      <link rel=\"canonical\" href=\"https://www.gif-vif.com/you-are-a-wizard-doggo\">\\n      <meta property=\"fb:app_id\" content=\"1250511768360553\">\\n      \\n      <meta property=\"og:site_name\" content=\"GIFVIF\">\\n      <meta property=\"og:url\" content=\"https://www.gif-vif.com/you-are-a-wizard-doggo.gif\">\\n      <meta property=\"og:title\" content=\"You are a wizard doggo,dog GIFs\">\\n      <meta property=\"og:description\" content=\"You are a wizard doggo, Find More dog GIFs on GIF-VIF\">\\n      <meta property=\"og:type\" content=\"video.other\">\\n      <meta property=\"og:image:secure_url\" content=\"https://media.giphy.com/media/W0yN0GEVU2eHUeYlYQ/giphy.gif\">\\n      <meta property=\"og:image\" content=\"https://media.giphy.com/media/W0yN0GEVU2eHUeYlYQ/giphy.gif\">\\n      <meta property=\"og:image:type\" content=\"image/gif\">\\n      <meta property=\"og:image:width\"       content=\"474\" />\\n      <meta property=\"og:image:height\"       content=\"264\" />  \\n\\n\\n<link rel=\"stylesheet\" type=\"text/css\" href=\"https://www.gif-vif.com/css_new/top.css\">\\n<link rel=\"stylesheet\" type=\"text/css\" href=\"https://www.gif-vif.com/css_new/top_mob.css\">\\n<link rel=\"stylesheet\" type=\"text/css\" href=\"https://www.gif-vif.com/css_new/gif_view.css\">\\n<link rel=\"stylesheet\" type=\"text/css\" href=\"https://www.gif-vif.com/css_new/gif_view_mob.css\">\\n\\n\\n\\n\\n <!--\\n   <script>\\n       window.location = \\'https://www.facebook.com/groups/2067613483481138/\\';\\n   </script> \\n -->\\n     \\n     <script async src=\"//pagead2.googlesyndication.com/pagead/js/adsbygoogle.js\"></script>\\n<script>\\n  (adsbygoogle = window.adsbygoogle || []).push({\\n    google_ad_client: \"ca-pub-8078653923688711\",\\n    enable_page_level_ads: true\\n  });\\n</script>\\n           \\n\\n        \\n       \\n           \\n  <meta name=\"google-site-verification\" content=\"ICCbIJtRL0nQqHHLFbQobM9m18pkEefYryh4vS6Igfw\" />\\n\\n\\n\\n\\n        \\n         <link rel=\"icon\" type=\"image/png\" href=\"https://www.gif-vif.com/web_images/favicon.png\" />\\n        \\n\\n    \\n        \\n<meta name=\"viewport\" content=\"width=device-width, initial-scale=1\" />\\n        \\n       \\n       \\n<!--schema-->\\n<script type=\"application/ld+json\">\\n{\\n  \"@context\": \"http://schema.org\",\\n  \"@type\": \"Article\",\\n  \"headline\": \"GIFs - You are a wizard doggo\",\\n  \\n  \\n   \"publisher\" : {\\n        \"@type\" : \"Organization\",\\n        \"name\" : \"GIFVIF\",\\n        \"alternateName\": \"Gif-Vif.Com\",\\n        \"logo\": {\\n      \"@type\": \"ImageObject\",\\n      \"url\": \"https://www.gif-vif.com/web_images/gifvif_square_social.png\",\\n      \"width\": 600,\\n      \"height\": 60\\n    }\\n        },\\n     \"dateModified\": \"2021-01-15T10:22:24\",\\n\\n  \\n  \"datePublished\": \"2021-01-15T10:22:24\",\\n  \"creator\": \"GIFVIF\",\\n  \"author\": \"GIFVIF\",\\n  \"articleBody\": \"GIFs - You are a wizard doggo | Find more awesome GIFs on Gif-Vif\",\\n  \"mainEntityOfPage\": \"True\",\\n  \"image\":\"https://media.giphy.com/media/W0yN0GEVU2eHUeYlYQ/giphy-facebook_s.jpg\"\\n}\\n</script>\\n\\n\\n\\n<script type=\"application/ld+json\">\\n{\\n  \"@context\": \"http://schema.org\",\\n  \"@type\": \"VideoObject\",\\n  \"name\": \"You are a wizard doggo\",\\n   \"@id\": \"https://www.gif-vif.com/you-are-a-wizard-doggo\",\\n  \"description\": \"You are a wizard doggo, dog Gifs - gif-vif.com\",\\n  \"thumbnailUrl\": \"https://media.giphy.com/media/W0yN0GEVU2eHUeYlYQ/giphy-facebook_s.jpg\",\\n  \"uploadDate\": \"2021-01-15T10:22:24\",\\n  \"publisher\": {\\n    \"@type\": \"Organization\",\\n    \"name\": \"GIFVIF\",\\n    \"logo\": {\\n      \"@type\": \"ImageObject\",\\n      \"url\": \"https://www.gif-vif.com/site_images/gifvif_square_social.png\",\\n      \"width\": 600,\\n      \"height\": 60\\n    }\\n  },\\n  \"contentUrl\": \"https://media.giphy.com/media/W0yN0GEVU2eHUeYlYQ/giphy.mp4\",\\n  \"embedUrl\": \"https://www.gif-vif.com/gif/You-are-a-wizard-doggo.gif\",\\n  \"interactionCount\": \"13022\"\\n}\\n</script>\\n\\n<!--schema ends-->\\n\\n\\n\\n\\n        \\n<base href=\"https://www.gif-vif.com/\" />\\n\\n<style>\\n.web_view\\n{\\nmin-width:1200px;\\noverflow-x: scroll;\\n}\\n@media only screen and (max-width: 700px) \\n{  \\n.mobile_view\\n{\\ndisplay:block;\\n}\\n.web_view\\n{\\ndisplay:none;  \\n}\\n}\\n@media only screen and (min-width: 705px) \\n{  \\n.mobile_view\\n{\\ndisplay:none;\\n}\\n.web_view\\n{\\ndisplay:block;  \\n}\\n}\\n\\n\\n#fb_and_twitter\\n{\\npadding:0.7em 0 0.9em 0;\\n}\\n#fb_b_down,#twitter_b_down\\n{\\ndisplay:inline-block;\\nvertical-align:middle;\\npadding:0.7em 0 0.7em 0;\\nwidth:40%;\\ntext-align:center;\\nborder-radius:0.2em;\\n}\\n.b_text\\n{\\nmargin:0 0 0 0.4em;\\nfont-size:0.9em;\\ncolor:white;\\n}\\n.b_icon,.b_text\\n{\\ndisplay:inline-block;\\nvertical-align:middle;\\n}\\n#fb_b_down\\n{\\nmargin:0 0.6em 0 0;\\nbackground-color:#2d5f9a;\\n}\\n#twitter_b_down\\n{\\nbackground-color:#00c3f3;\\n}\\n#fb_b_down:hover,#twitter_b_down:hover\\n{\\nopacity:0.8;\\n}\\n\\n#gif_details_1\\n{\\npadding:0em 0 2em 0;\\nwidth:90%;\\nborder-style:none none solid none;\\nborder-color:#e3e3e3;\\nborder-width:1px;\\ntext-align:left;\\n}\\n\\n\\n.fb_group\\n{\\nwidth:80%;\\nbackground-color:#f5f6f7;\\nborder-color:#ccd0d5;\\nborder-style:solid;\\nborder-width:1px;\\npadding:0.5em 0 0.4em 0;\\n}\\n.fb_logo_left_gp img\\n{\\nwidth:2.4em;\\n}\\n.fb_logo_left_gp,.right_text_gp,.gp_name_right\\n{\\ndisplay:inline-block;\\nvertical-align:middle;\\ntext-align:center;\\ncolor:black;\\nfont-size:0.85em;\\n}\\n.right_text_gp\\n{\\npadding:0 1em 0 0.5em;\\ntext-align:left;\\ncolor:#444950;\\n}\\n.gp_name_right\\n{\\nfont-size:1.5em;\\nfont-weight:bold;\\n}\\n\\n\\n\\n\\n\\n\\n\\n.content_not_available\\n{\\nmargin:3em 0 3em 0;\\npadding:4em 1em 4em 1em;\\nwidth:60%;\\nbackground-color:#f1f1f1;\\nborder-radius:2em;\\n}\\n.cna_title\\n{\\nfont-weight:bold;\\nfont-size:1.5em;\\ncolor:black;\\nmargin:0 0 2em 0;\\n}\\n.cna_msg\\n{\\nfont-size:0.9em;\\ncolor#999999;\\n}\\n.cna_msg a\\n{\\ncolor:#1892ff;\\n}\\n</style>\\n\\n<script>\\nfunction copy_link() {\\nvar copyText = document.getElementById(\"copy_link\");\\n  copyText.select();\\n  copyText.setSelectionRange(0, copyText.value.length);\\n  document.getElementById(\"copy_status\").style.display=\"block\";\\n  document.execCommand(\"copy\");\\n\\n}\\n</script>\\n\\n</head>\\n<body itemscope itemtype=\"http://schema.org/WebPage\">\\n\\n<!-- web view -->\\n<div class=\"mobile_view\"><center>\\r\\n<div id=\"mob_body\">\\r\\n\\r\\n<!-- top_div-->\\r\\n<div id=\"mob_top_contianer\" style=\"z-index:999999;\">\\r\\n<div id=\"logo_left_mob\"><a href=\"https://www.gif-vif.com\"><img alt=\"GifVif Logo\" src=\"https://www.gif-vif.com/web_images/gv_logo.png\"></a></div>\\r\\n<div id=\"top_links_right_mob\">\\r\\n<a href=\"https://www.gif-vif.com/reactions/\"><div class=\"top_links_right_mob_inside\"><img src=\"https://www.gif-vif.com/react/reaction.png\" title=\"Reaction gifs\"><br/>Reactions</div></a>\\r\\n<!--<a href=\"https://www.gif-vif.com/trending/\"><div class=\"top_links_right_mob_inside\"><img src=\"https://www.gif-vif.com/web_images/trending.png\" title=\"Trending gifs\"><br/>Trending</div></a>-->\\r\\n<a href=\"https://www.gif-vif.com/random/\"><div class=\"top_links_right_mob_inside\"><img src=\"https://www.gif-vif.com/web_images/random.png\" title=\"Random gifs\"><br/>Random</div></a>\\r\\n<a href=\"https://www.gif-vif.com/christmas/\"><div class=\"top_links_right_mob_inside\"><img src=\"https://www.gif-vif.com/web_images/christmas_tree.gif\" title=\"Christmas gifs\"><br/>Christmas</div></a>\\r\\n</div>\\r\\n</div>\\r\\n<!-- top_div-->\\r\\n</div>\\r\\n<br/><br/><br/>\\r\\n</center><center>\\r\\n<div id=\"mob_body\">\\r\\n<div id=\"mobile_video\">\\r\\n\\r\\n\\r\\n<div id=\"mob_gif_view_container\">\\r\\n<div style=\"margin:0 0 0.4em 0;padding:0.5em 0 0.3em 0;text-align:center;background-color:#f6f6f6;\">\\r\\n\\r\\n<script async src=\"https://pagead2.googlesyndication.com/pagead/js/adsbygoogle.js\"></script>\\r\\n<!-- mobile top -->\\r\\n<ins class=\"adsbygoogle\"\\r\\n     style=\"display:inline-block;width:320px;height:90px\"\\r\\n     data-ad-client=\"ca-pub-8078653923688711\"\\r\\n     data-ad-slot=\"5940529841\"></ins>\\r\\n<script>\\r\\n     (adsbygoogle = window.adsbygoogle || []).push({});\\r\\n</script>\\r\\n\\r\\n</div>\\r\\n<div id=\"mob_view_gif_div\">\\r\\n\\r\\n<video autoplay muted loop playsinline poster=\"https://media.giphy.com/media/W0yN0GEVU2eHUeYlYQ/giphy.gif\">\\r\\n<source src=\"https://media.giphy.com/media/W0yN0GEVU2eHUeYlYQ/giphy.mp4\" type=\"video/mp4\" />\\r\\n</video>\\r\\n\\r\\n</div>\\r\\n<!-- bottom fixed div-->\\r\\n\\r\\n<div  style=\"background-color:#f1f1f1;padding:0.4em 0 0.4em 0;text-align:center;border-style:solid;border-color:#ccd0d5;border-width:1px;\">\\r\\n\\r\\n<a href=\"https://www.gif-vif.com/Turtle-Vs-Beer-can/\"><div id=\"next_icon_bottom\">Next <img class=\"icon_align\" src=\"https://www.gif-vif.com/web_images/next_bottom.png\"></div></a>\\r\\n<a href=\"https://www.gif-vif.com/Turtle-Vs-Beer-can/\"><div id=\"name_gif_bottom\"><h1>Turtle Vs Beer can</h1></div></a>\\r\\n<a href=\"https://www.gif-vif.com/Turtle-Vs-Beer-can/\"><div id=\"image_gif_bottom\"><img src=\"https://media.giphy.com/media/5z0bpcPR2LBSb4z9LW/giphy-facebook_s.jpg\"></div></a>\\r\\n</div>\\r\\n<!-- bottom fixed div-->\\r\\n\\r\\n\\r\\n\\r\\n\\r\\n\\r\\n\\r\\n\\r\\n<div id=\"mob_view_gif_details\">\\r\\n<div id=\"mob_view_gif_name\"><h1>You are a wizard doggo</h1></div>\\r\\n<div class=\"rest_details_div\">Posted - 15 Jan 2021,10:22</div>\\r\\n<div id=\"mob_view_gif_rest_details\">\\r\\n<a href=\"https://www.gif-vif.com/category/dog\"><div id=\"mob_view_cate\">dog</div></a>\\r\\n<div class=\"rest_details_div\">13022 views</div>\\r\\n</div>\\r\\n\\r\\n<div id=\"mob_share_div\">\\r\\n<div class=\"rest_details_div\">Share</div><br/>\\r\\n<a href=\"https://www.facebook.com/sharer/sharer.php?u=https://www.gif-vif.com/You-are-a-wizard-doggo/?fbrefresh=23\" target=\"_blank\"><img src=\"https://www.gif-vif.com/web_images/facebook.png\"></a>\\r\\n<a href=\"https://telegram.me/share/url?url=https://www.gif-vif.com/You-are-a-wizard-doggo/&text=You are a wizard doggo\" target=\"_blank\"><img src=\"https://www.gif-vif.com/web_images/telegram.png\"></a>\\r\\n<a href=\"whatsapp://send?text=https://www.gif-vif.com/You-are-a-wizard-doggo/\" data-action=\"share/whatsapp/share\" target=\"_blank\"><img src=\"https://www.gif-vif.com/web_images/whatsapp.png\"></a>\\r\\n<a href=\"https://pinterest.com/pin/create/button/?url=https://www.gif-vif.com/You-are-a-wizard-doggo&media=https://media.giphy.com/media/W0yN0GEVU2eHUeYlYQ/giphy.gif&description=You are a wizard doggo\" target=\"_blank\"><img src=\"https://www.gif-vif.com/web_images/pinterest.png\"></a>\\r\\n<a href=\"https://www.reddit.com/submit?url=https://www.gif-vif.com/You-are-a-wizard-doggo/&title=You are a wizard doggo\" target=\"_blank\"><img src=\"https://www.gif-vif.com/web_images/reddit.png\"></a>\\r\\n</div>\\r\\n\\r\\n\\r\\n\\r\\n<br/>\\r\\n<center>\\r\\n<!-- fb group -->\\r\\n<a href=\"https://www.facebook.com/groups/GifsUniverse\" target=\"_blank\">\\r\\n<div class=\"fb_group\" style=\"width:100%;\">\\r\\n<div class=\"fb_logo_left_gp\"><img src=\"https://www.gif-vif.com/web_images/fb_logo_gp.png\" ></div>\\r\\n<div class=\"right_text_gp\">Join our group</div>\\r\\n<div class=\"gp_name_right\" style=\"font-size:0.95em;\">\"Gifs Universe\"</div>\\r\\n</div>\\r\\n</a>\\r\\n<!-- fb group -->\\r\\n\\r\\n<br/>\\r\\n\\r\\n<!-- ad bottom mob-->\\r\\n<div style=\"padding:0.5em 0 0.3em 0;background-color:#f6f6f6;\">\\r\\n<script async src=\"https://pagead2.googlesyndication.com/pagead/js/adsbygoogle.js\"></script>\\r\\n<!-- gif show mobile ad10 -->\\r\\n<ins class=\"adsbygoogle\"\\r\\n     style=\"display:block\"\\r\\n     data-ad-client=\"ca-pub-8078653923688711\"\\r\\n     data-ad-slot=\"7330182586\"\\r\\n     data-ad-format=\"auto\"\\r\\n     data-full-width-responsive=\"true\"></ins>\\r\\n<script>\\r\\n     (adsbygoogle = window.adsbygoogle || []).push({});\\r\\n</script>\\r\\n<!-- ad bottom mob-->\\r\\n</div>\\r\\n\\r\\n</center>\\r\\n\\r\\n\\r\\n\\r\\n</div>\\r\\n</div>\\r\\n\\r\\n\\r\\n\\r\\n<!-- content not available-->\\r\\n\\r\\n<!-- content not available-->\\r\\n\\r\\n</div>\\r\\n</div>\\r\\n</center></div>\\n<!-- web view -->\\n\\n<!-- web view-->\\n<div class=\"web_view\">\\n\\n\\n\\n<div id=\"main_frame\">\\n\\n<div>\\n\\n<div id=\"top_container\">\\n<div id=\"top_main\">\\n<div id=\"top_left\"><a href=\"https://www.gif-vif.com\"><img src=\"https://www.gif-vif.com/web_images/gv_logo.png\" title=\"GifVif logo\" alt=\"Gif-vif.com Logo\"></a></div><!--\\n--><div id=\"top_mid\">\\n<div id=\"search_bar_div\">\\n<div id=\"search_icon\"><img src=\"https://www.gif-vif.com/web_images/search_icon.png\"></div>\\n<div id=\"search_text\">\\n<form method=\"POST\" action=\"https://www.gif-vif.com/search.php\">\\n<input id=\"gif_search\" type=\"text\" name=\"search_keyword\" placeholder=\"Search\">\\n</form>\\n</div>\\n</div>\\n</div>\\n<!--\\n--><div id=\"top_right\">\\n\\n<div id=\"top_left_dropdown\" class=\"display_inline_class\">\\n<a href=\"https://www.gif-vif.com/reactions/\"><div class=\"top_links_right_mob_inside\"><img src=\"https://www.gif-vif.com/react/reaction.png\" title=\"Reaction gifs\"><br/>Reactions</div></a>\\n<a href=\"https://www.gif-vif.com/topever/\"><div class=\"top_links_right_mob_inside\"><img src=\"https://www.gif-vif.com/web_images/top_gifs.png\" title=\"Top gifs\"><br/>Top Ever</div></a>\\n<a href=\"https://www.gif-vif.com/trending/\"><div class=\"top_links_right_mob_inside\"><img src=\"https://www.gif-vif.com/web_images/trending.png\" title=\"Trending gifs\"><br/>Trending</div></a>\\n<a href=\"https://www.gif-vif.com/random/\"><div class=\"top_links_right_mob_inside\"><img src=\"https://www.gif-vif.com/web_images/random.png\" title=\"Random gifs\"><br/>Random</div></a>\\n\\n<a href=\"https://www.gif-vif.com/christmas/\"><div class=\"top_links_right_mob_inside\"><img src=\"https://www.gif-vif.com/web_images/christmas_tree.gif\" title=\"Christmas gifs\"><br/>Christmas</div></a>\\n\\n</div>\\n<div id=\"top_right_links\" class=\"display_inline_class\">\\n<div id=\"create_post_div\">\\n<a href=\"https://www.gif-vif.com/create/\"><img class=\"icon_align\" src=\"https://www.gif-vif.com/web_images/upload.png\"> Create Post</a>\\n</div>\\n</div>\\n</div>\\n</div>\\n</div></div>\\n\\n\\n<!-- content not available--><!-- content not available-->\\n\\n\\n<!-- ad-->\\n<center>\\n<div style=\"width:90%;margin:0.7em 0 0 0;border-style:solid;border-color:#f8f8f8;border-width:1px;background-color:#f1f1f1;\">\\n\\n<script async src=\"https://pagead2.googlesyndication.com/pagead/js/adsbygoogle.js\"></script>\\n<!-- reddit show gif -->\\n<ins class=\"adsbygoogle\"\\n     style=\"display:block\"\\n     data-ad-client=\"ca-pub-8078653923688711\"\\n     data-ad-slot=\"4258078556\"\\n     data-ad-format=\"auto\"\\n     data-full-width-responsive=\"true\"></ins>\\n<script>\\n     (adsbygoogle = window.adsbygoogle || []).push({});\\n</script>\\n\\n</div>\\n</center>\\n<!-- ad-->\\n\\n<!-- gif view div-->\\n<div id=\"gif_view_container\">\\n\\n<center>\\n\\n\\n\\n\\n<div id=\"gif_view_inside\">\\n<div id=\"gif_view_left\">\\n\\n\\n<!-- share and next div -->\\n<div id=\"share_and_next\">\\n<div id=\"share_buttons\">\\n<a href=\"javascript:void(0)\" ><img onclick=\\'window.open(\"https://www.facebook.com/sharer/sharer.php?u=https://www.gif-vif.com/You-are-a-wizard-doggo/?fbrefresh=23\", \"Post to facebook\", \"width=600,height=400,left=200\")\\' src=\"https://www.gif-vif.com/web_images/fb_share.png\"></a>\\n<a href=\"https://pinterest.com/pin/create/button/?url=https://www.gif-vif.com/You-are-a-wizard-doggo&media=https://media.giphy.com/media/W0yN0GEVU2eHUeYlYQ/giphy.gif&description=You are a wizard doggo\" target=\"_blank\"><img src=\"https://www.gif-vif.com/web_images/pinterest_share.png\"></a>\\n<a href=\"https://www.reddit.com/submit?url=https://www.gif-vif.com/You-are-a-wizard-doggo/&title=You are a wizard doggo\" target=\"_blank\"><img src=\"https://www.gif-vif.com/web_images/reddit_share.png\"></a>\\n\\n\\n\\n\\n</div>\\n<a href=\"https://www.gif-vif.com/Turtle-Vs-Beer-can\"><div id=\"next_div\">Next gif <img class=\"icon_align\" src=\"https://www.gif-vif.com/web_images/next_page_icon.png\"></div></a>\\n</div>\\n\\n<!-- share and next div -->\\n\\n\\n<div id=\"gif_div\" style=\"min-height:15em;background-color:#f9f9f9;border-radius:0.4em;\">\\n\\n<video autoplay muted loop poster=\"https://media.giphy.com/media/W0yN0GEVU2eHUeYlYQ/giphy.gif\">\\n<source src=\"https://media.giphy.com/media/W0yN0GEVU2eHUeYlYQ/giphy.mp4\" type=\"video/mp4\" />\\n</video>\\n\\n\\n\\n</div>\\n\\n\\n<!-- fb and twitter-->\\n<div id=\"fb_and_twitter\">\\n<a href=\"javascript:void(0)\" >\\n<div id=\"fb_b_down\" onclick=\\'window.open(\"https://www.facebook.com/sharer/sharer.php?u=https://www.gif-vif.com/You-are-a-wizard-doggo/?fbrefresh=23\", \"Post to facebook\", \"width=600,height=400,left=200\")\\'>\\n<div class=\"b_icon\"><img src=\"https://www.gif-vif.com/web_images/fb_white.png\"></div>\\n<div class=\"b_text\">Share</div>\\n</div>\\n</a>\\n<a href=\"https://twitter.com/intent/tweet?text=&url=https://www.gif-vif.com/You-are-a-wizard-doggo/\" target=\"_blank\">\\n<div id=\"twitter_b_down\">\\n<div class=\"b_icon\"><img src=\"https://www.gif-vif.com/web_images/twitter_white.png\"></div>\\n<div class=\"b_text\">Tweet</div>\\n</div>\\n</a>\\n</div>\\n<!-- fb and twitter-->\\n\\n\\n<!-- link and embed-->\\n<div id=\"embed_links\">\\n<!-- share link-->\\n<div id=\"share_links\">\\n<div id=\"left_input\"><input type=\"text\" onClick=\"this.setSelectionRange(0, this.value.length)\" id=\"copy_link\" value=\"https://www.gif-vif.com/you-are-a-wizard-doggo\" readonly></div><!--\\n--><div id=\"right_copy_button\" onClick=\"copy_link();\">COPY</div>\\n</div>\\n<!-- share link-->\\n\\n<!-- copy status-->\\n<div id=\"copy_status\">\\nLink Copied \\n</div>\\n<!-- copy status-->\\n\\n<br/>\\n<!-- fb group -->\\n<a href=\"https://www.facebook.com/groups/GifsUniverse\" target=\"_blank\">\\n<div class=\"fb_group\">\\n<div class=\"fb_logo_left_gp\"><img src=\"https://www.gif-vif.com/web_images/fb_logo_gp.png\"></div>\\n<div class=\"right_text_gp\">Join our group</div>\\n<div class=\"gp_name_right\">\"Gifs Universe\"</div>\\n</div>\\n</a>\\n<!-- fb group -->\\n<br/>\\n\\n</div>\\n\\n<!-- link and embed-->\\n\\n<br/>\\n\\n\\n<!-- ad-->\\n<div style=\"width:90%;margin:0.7em 0 0 0;border-style:solid;border-color:#f8f8f8;border-width:1px;background-color:#f1f1f1;\">\\n<script async src=\"https://pagead2.googlesyndication.com/pagead/js/adsbygoogle.js\"></script>\\n<!-- 300 px ad -->\\n\\n<ins class=\"adsbygoogle\"\\n     style=\"display:block\"\\n     data-ad-client=\"ca-pub-8078653923688711\"\\n     data-ad-slot=\"9089428018\"\\n     data-ad-format=\"auto\"\\n     data-full-width-responsive=\"true\"></ins>\\n<script>\\n     (adsbygoogle = window.adsbygoogle || []).push({});\\n</script>\\n\\n</div>\\n<!-- ad-->\\n\\n\\n<br/>\\n\\n\\n\\n</div><!--\\n--><div id=\"gif_view_right\">\\n\\n\\n\\n<div id=\"gif_details_1\">\\n<div id=\"name_of_gif\"><h1>You are a wizard doggo</h1></div>\\n<div id=\"views_gif\">13022 views</div>\\n<div id=\"postdate_gif\">Posted - <span class=\"details_show\">15 Jan 2021, 10:22</span></div>\\n<!--<div id=\"source_gif\">Source - <a href=\"https://media.giphy.com/media/W0yN0GEVU2eHUeYlYQ/giphy.gif\" target=\"_blank\"><span class=\"details_show\">Giphy link</span></a></div>-->\\n<div id=\"category_gif\"><a href=\"https://www.gif-vif.com/category/dog\"><div id=\"show_cate\">dog</div></a></div>\\n</div>\\n\\n\\n<!-- more gifs-->\\n<div id=\"more_category_gifs\">\\n<div id=\"more_gifs_caption\">More <a href=\"https://www.gif-vif.com/category/dog/\">dog</a> Gifs</div>\\n<div id=\"more_gifs_loop\"><a href=\"https://www.gif-vif.com/Poor-good-boi-bitten-by-bee\"><div class=\"more_gifs_name\">Poor good boi bitten by bee</div></a><a href=\"https://www.gif-vif.com/Cutest-thing-you-see-today-114\"><div class=\"more_gifs_name\">Cutest thing you see today</div></a><a href=\"https://www.gif-vif.com/Good-boi-in-trouble\"><div class=\"more_gifs_name\">Good boi in trouble</div></a><a href=\"https://www.gif-vif.com/Good-boi-doing-tricks\"><div class=\"more_gifs_name\">Good boi doing tricks</div></a><a href=\"https://www.gif-vif.com/Doggo-want-to-taste\"><div class=\"more_gifs_name\">Doggo want to taste</div></a><a href=\"https://www.gif-vif.com/Copying-doggo\"><div class=\"more_gifs_name\">Copying doggo</div></a><a href=\"https://www.gif-vif.com/Cutest-doge-ever\"><div class=\"more_gifs_name\">Cutest doge ever</div></a><a href=\"https://www.gif-vif.com/Boop\"><div class=\"more_gifs_name\">Boop</div></a><a href=\"https://www.gif-vif.com/Horny-boi\"><div class=\"more_gifs_name\">Horny boi</div></a><a href=\"https://www.gif-vif.com/Surfer-good-bois\"><div class=\"more_gifs_name\">Surfer good bois</div></a>\\n\\n</div>\\n\\n</div>\\n<!-- more gifs-->\\n\\n<br/>\\n\\n<!-- ad-->\\n<center>\\n<div id=\"ad_show\" style=\"text-align:center;border-style:solid;border-color:#f8f8f8;border-width:1px;\">\\n\\n\\n\\n\\n\\n<script async src=\"https://pagead2.googlesyndication.com/pagead/js/adsbygoogle.js\"></script>\\n<!-- vid_bottom -->\\n\\n<ins class=\"adsbygoogle\"\\n     style=\"display:block\"\\n     data-ad-client=\"ca-pub-8078653923688711\"\\n     data-ad-slot=\"3293400840\"\\n     data-ad-format=\"auto\"\\n     data-full-width-responsive=\"true\"></ins>\\n<script>\\n     (adsbygoogle = window.adsbygoogle || []).push({});\\n</script>\\n\\n</div>\\n</center>\\n<!-- ad-->\\n\\n\\n</div>\\n</div>\\n</center>\\n</div>\\n<!-- gif view div-->\\n\\n\\n\\n<!-- content not available-->\\n<!-- content not available-->\\n\\n\\n</div>\\n\\n\\n<div style=\"text-align:center;margin:1em 0 1em 0;color:#999999;font-size:0.8em;\">www.gif-vif.com</div>\\n\\n<!--web view-->\\n</div>\\n<!--web view-->\\n\\n\\n\\n<!-- Start of StatCounter Code for Default Guide -->\\n\\n<script type=\"text/javascript\">\\nvar sc_project=11364145; \\nvar sc_invisible=1; \\nvar sc_security=\"5735f58a\"; \\nvar scJsHost = ((\"https:\" == document.location.protocol) ?\\n\"https://secure.\" : \"http://www.\");\\ndocument.write(\"<sc\"+\"ript type=\\'text/javascript\\' src=\\'\" +\\nscJsHost+\\n\"statcounter.com/counter/counter.js\\'></\"+\"script>\");\\n</script>\\n<noscript><div class=\"statcounter\"><a title=\"free hit\\ncounter\" href=\"http://statcounter.com/\" target=\"_blank\"><img\\nclass=\"statcounter\"\\nsrc=\"//c.statcounter.com/11364145/0/5735f58a/1/\" alt=\"free\\nhit counter\"></a></div></noscript>\\n\\n<!-- End of StatCounter Code for Default Guide -->\\n\\n</body>\\n</html>'"
      ]
     },
     "execution_count": 6,
     "metadata": {},
     "output_type": "execute_result"
    }
   ],
   "source": [
    "import requests\n",
    "url = \"https://www.gif-vif.com/you-are-a-wizard-doggo\" \n",
    "res = requests.get(url)  \n",
    "res.text"
   ]
  },
  {
   "cell_type": "code",
   "execution_count": 3,
   "metadata": {},
   "outputs": [],
   "source": [
    "# beautiful soup the all HTML \n",
    "from bs4 import BeautifulSoup\n",
    "soup = BeautifulSoup(res.text, 'lxml') # lxml是解析方式"
   ]
  },
  {
   "cell_type": "code",
   "execution_count": 4,
   "metadata": {},
   "outputs": [
    {
     "data": {
      "text/plain": [
       "[<video autoplay=\"\" loop=\"\" muted=\"\" playsinline=\"\" poster=\"https://media.giphy.com/media/W0yN0GEVU2eHUeYlYQ/giphy.gif\">\n",
       " <source src=\"https://media.giphy.com/media/W0yN0GEVU2eHUeYlYQ/giphy.mp4\" type=\"video/mp4\"/>\n",
       " </video>,\n",
       " <video autoplay=\"\" loop=\"\" muted=\"\" poster=\"https://media.giphy.com/media/W0yN0GEVU2eHUeYlYQ/giphy.gif\">\n",
       " <source src=\"https://media.giphy.com/media/W0yN0GEVU2eHUeYlYQ/giphy.mp4\" type=\"video/mp4\"/>\n",
       " </video>]"
      ]
     },
     "execution_count": 4,
     "metadata": {},
     "output_type": "execute_result"
    }
   ],
   "source": [
    "# catch the video\n",
    "vidio_elements = soup.find_all(\"video\")\n",
    "vidio_elements"
   ]
  },
  {
   "cell_type": "code",
   "execution_count": 5,
   "metadata": {},
   "outputs": [
    {
     "data": {
      "text/plain": [
       "'https://media.giphy.com/media/W0yN0GEVU2eHUeYlYQ/giphy.gif'"
      ]
     },
     "execution_count": 5,
     "metadata": {},
     "output_type": "execute_result"
    }
   ],
   "source": [
    "# catch 0 index's poster\n",
    "gif_url = vidio_elements[0].get(\"poster\")\n",
    "gif_url"
   ]
  },
  {
   "cell_type": "code",
   "execution_count": 6,
   "metadata": {},
   "outputs": [],
   "source": [
    "# Catch again write down\n",
    "gif = requests.get(gif_url)\n",
    "with open(\"demo.gif\", \"wb\") as f:\n",
    "    f.write(gif.content)"
   ]
  },
  {
   "cell_type": "code",
   "execution_count": 7,
   "metadata": {},
   "outputs": [
    {
     "name": "stdout",
     "output_type": "stream",
     "text": [
      "https://www.gif-vif.com/Turtle-Vs-Beer-can\n"
     ]
    }
   ],
   "source": [
    "# Find Next Url\n",
    "\n",
    "# Catch div id \n",
    "# Catch div with \"a\" in div & href \n",
    "next_url = soup.find(id=\"share_and_next\").find_all(\"a\")[-1].get(\"href\")\n",
    "print(next_url)"
   ]
  },
  {
   "cell_type": "code",
   "execution_count": 8,
   "metadata": {},
   "outputs": [],
   "source": [
    "# <div id=\"share_and_next\">\n",
    "#     <div id=\"share_buttons\">\n",
    "#         <a href=\"javascript:void(0)\"><img onclick=\"window.open(&quot;https://www.facebook.com/sharer/sharer.php?u=https://www.gif-vif.com/You-are-a-wizard-doggo/?fbrefresh=23&quot;, &quot;Post to facebook&quot;, &quot;width=600,height=400,left=200&quot;)\" src=\"https://www.gif-vif.com/web_images/fb_share.png\"></a>\n",
    "#         <a href=\"https://pinterest.com/pin/create/button/?url=https://www.gif-vif.com/You-are-a-wizard-doggo&amp;media=https://media.giphy.com/media/W0yN0GEVU2eHUeYlYQ/giphy.gif&amp;description=You are a wizard doggo\" target=\"_blank\"><img src=\"https://www.gif-vif.com/web_images/pinterest_share.png\"></a>\n",
    "#         <a href=\"https://www.reddit.com/submit?url=https://www.gif-vif.com/You-are-a-wizard-doggo/&amp;title=You are a wizard doggo\" target=\"_blank\"><img src=\"https://www.gif-vif.com/web_images/reddit_share.png\"></a>\n",
    "#     </div>\n",
    "#     <a href=\"https://www.gif-vif.com/Turtle-Vs-Beer-can\"><div id=\"next_div\">\n",
    "#         Next gif <img class=\"icon_align\" src=\"https://www.gif-vif.com/web_images/next_page_icon.png\">\n",
    "#     </div></a>\n",
    "# </div>"
   ]
  },
  {
   "cell_type": "markdown",
   "metadata": {},
   "source": [
    "## 打包成函數 Get_gif\n",
    "目前儲存在同資料夾"
   ]
  },
  {
   "cell_type": "code",
   "execution_count": 11,
   "metadata": {},
   "outputs": [
    {
     "name": "stdout",
     "output_type": "stream",
     "text": [
      "getting gif you-are-a-wizard-doggo\n",
      "getting gif Turtle-Vs-Beer-can\n",
      "getting gif When-sports-is-not-your-thing\n",
      "getting gif Poor-guy-129\n",
      "getting gif How-not-to-prank-friends\n",
      "getting gif Moving-house\n",
      "getting gif Crushing-CDs\n",
      "getting gif When-you-want-to-go-swimming-but-water-is-too-cold\n",
      "getting gif Naah-not-a-rat\n",
      "getting gif Keep-petting-me\n"
     ]
    }
   ],
   "source": [
    "def get_gif(url):\n",
    "    title = url.split(\"/\")[-1]\n",
    "    print(\"getting gif\",title)  #print(f\"getting gif {title}\")\n",
    "    res = requests.get(url) # 取得回應\n",
    "    \n",
    "    soup = BeautifulSoup(res.text, 'lxml')\n",
    "    vidio_elements = soup.find_all(\"video\")\n",
    "    gif_url = vidio_elements[0].get(\"poster\")\n",
    "\n",
    "    # Download gif\n",
    "    gif = requests.get(gif_url)\n",
    "    with open(f\"{title}.gif\", \"wb\") as f:\n",
    "        f.write(gif.content)\n",
    "    \n",
    "    # 4. Next Url 尋找下一個 url\n",
    "    next_url = soup.find(id=\"share_and_next\").find_all(\"a\")[-1].get(\"href\")\n",
    "    return next_url\n",
    "\n",
    "\n",
    "if __name__ == \"__main__\":\n",
    "    url = \"https://www.gif-vif.com/you-are-a-wizard-doggo\"\n",
    "    for i in range(10):\n",
    "        url = get_gif(url)"
   ]
  }
 ],
 "metadata": {
  "kernelspec": {
   "display_name": "Python 3 (ipykernel)",
   "language": "python",
   "name": "python3"
  },
  "language_info": {
   "codemirror_mode": {
    "name": "ipython",
    "version": 3
   },
   "file_extension": ".py",
   "mimetype": "text/x-python",
   "name": "python",
   "nbconvert_exporter": "python",
   "pygments_lexer": "ipython3",
   "version": "3.9.7"
  }
 },
 "nbformat": 4,
 "nbformat_minor": 4
}
