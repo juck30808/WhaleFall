{
 "cells": [
  {
   "cell_type": "code",
   "execution_count": 1,
   "id": "fe0eb51a",
   "metadata": {},
   "outputs": [
    {
     "name": "stdout",
     "output_type": "stream",
     "text": [
      "Requirement already satisfied: openpyxl in /Users/juck30808/opt/anaconda3/lib/python3.8/site-packages (3.0.9)\r\n",
      "Requirement already satisfied: et-xmlfile in /Users/juck30808/opt/anaconda3/lib/python3.8/site-packages (from openpyxl) (1.1.0)\r\n"
     ]
    }
   ],
   "source": [
    "!pip install openpyxl"
   ]
  },
  {
   "cell_type": "code",
   "execution_count": 2,
   "id": "c750ad6e",
   "metadata": {},
   "outputs": [
    {
     "name": "stdout",
     "output_type": "stream",
     "text": [
      "['Sheet', 'Cookies', 'Fruits', 'Movies', 'Hello World']\n"
     ]
    }
   ],
   "source": [
    "#sheet_names\n",
    "from openpyxl import load_workbook\n",
    "\n",
    "wb = load_workbook('input/opxl-sample.xlsx')\n",
    "print(wb.sheetnames)"
   ]
  },
  {
   "cell_type": "code",
   "execution_count": 3,
   "id": "dc511782",
   "metadata": {},
   "outputs": [
    {
     "name": "stdout",
     "output_type": "stream",
     "text": [
      "Hello\n",
      "World\n",
      "from\n",
      "Python\n"
     ]
    }
   ],
   "source": [
    "#read excel\n",
    "from openpyxl import load_workbook\n",
    "\n",
    "wb = load_workbook('input/opxl-sample.xlsx')\n",
    "sheet_rangers = wb['Sheet']\n",
    "print(sheet_rangers['A1'].value)\n",
    "print(sheet_rangers['B2'].value)\n",
    "print(sheet_rangers['C3'].value)\n",
    "print(sheet_rangers['D4'].value)\n"
   ]
  },
  {
   "cell_type": "code",
   "execution_count": 4,
   "id": "8bd26218",
   "metadata": {},
   "outputs": [
    {
     "name": "stdout",
     "output_type": "stream",
     "text": [
      "Success\n"
     ]
    }
   ],
   "source": [
    "#write excel\n",
    "from openpyxl import Workbook\n",
    "\n",
    "wb = Workbook()\n",
    "ws = wb.active\n",
    "ws[\"A1\"] = \"Hello\"\n",
    "ws[\"A2\"] = \"World\"\n",
    "ws[\"A3\"] = \"is\"\n",
    "ws[\"A4\"] = \"Jerry\"\n",
    "\n",
    "wb.save(\"output/opxl-sample.xlsx\")\n",
    "print(\"Success\")"
   ]
  },
  {
   "cell_type": "code",
   "execution_count": 5,
   "id": "387d1eae",
   "metadata": {},
   "outputs": [
    {
     "name": "stdout",
     "output_type": "stream",
     "text": [
      "Success\n"
     ]
    }
   ],
   "source": [
    "#image\n",
    "from openpyxl import Workbook \n",
    "from openpyxl.drawing.image import Image \n",
    "\n",
    "wb = Workbook()\n",
    "ws = wb.active \n",
    "\n",
    "img = Image('input/cat.jpg')\n",
    "ws.add_image(img, 'E4')\n",
    "\n",
    "img2 = Image('input/shark.jpg')\n",
    "img2.anchor = 'A1'\n",
    "ws.add_image(img2)\n",
    "\n",
    "wb.save('output/opxl-cat.xlsx')\n",
    "print(\"Success\")"
   ]
  },
  {
   "cell_type": "code",
   "execution_count": 6,
   "id": "67932094",
   "metadata": {},
   "outputs": [],
   "source": [
    "#bar chart\n",
    "from openpyxl import Workbook \n",
    "from openpyxl.chart import BarChart, Reference, Series \n",
    "\n",
    "wb = Workbook()\n",
    "ws = wb.active\n",
    "\n",
    "for i in range(10) :\n",
    "    ws.append([i])\n",
    "\n",
    "## values = [1,2,3,4,5,6]\n",
    "values = Reference(ws, min_col=1, min_row=1, max_col=1, max_row=10)\n",
    "chart = BarChart()\n",
    "chart.add_data(values)\n",
    "ws.add_chart(chart, \"A1\")\n",
    "wb.save(\"output/opxl-chart.xlsx\" )"
   ]
  },
  {
   "cell_type": "code",
   "execution_count": 7,
   "id": "e4688bfb",
   "metadata": {},
   "outputs": [],
   "source": [
    "#pie chart\n",
    "from openpyxl import Workbook\n",
    "from openpyxl.chart import PieChart3D, Reference\n",
    "\n",
    "data = [['Fruit', 'Sold'],\n",
    "        ['Apple', 10],\n",
    "        ['Berry', 30],\n",
    "        ['Cherry', 20],\n",
    "        ['Lemon', 40],\n",
    "       ]\n",
    "\n",
    "wb = Workbook()\n",
    "ws = wb.active\n",
    "\n",
    "for row in data:\n",
    "    ws.append(row)\n",
    "\n",
    "pie = PieChart3D()\n",
    "labels = Reference(ws, min_col=1, min_row=2, max_row=5)\n",
    "data = Reference(ws, min_col=2, min_row=1, max_row=5)\n",
    "pie.add_data(data, titles_from_data=True)\n",
    "pie.set_categories(labels)\n",
    "pie.title = \"Pies sold by category\"\n",
    "ws.add_chart(pie, \"D1\")\n",
    "wb.save(\"output/opxl-pie.xlsx\")"
   ]
  },
  {
   "cell_type": "code",
   "execution_count": 8,
   "id": "b4ed54e4",
   "metadata": {},
   "outputs": [],
   "source": [
    "#line chart\n",
    "from datetime import date\n",
    "from openpyxl import Workbook\n",
    "from openpyxl.chart import LineChart, Reference\n",
    "from openpyxl.chart.axis import DateAxis\n",
    "\n",
    "rows = [['Date', 'Batch 1', 'Batch 2', 'Batch 3'],\n",
    "        [date(2015,9, 1), 10, 30, 25],\n",
    "        [date(2015,9, 2), 20, 25, 30],\n",
    "        [date(2015,9, 3), 30, 30, 45],\n",
    "        [date(2015,9, 4), 40, 25, 40],\n",
    "        [date(2015,9, 5), 55, 35, 30],\n",
    "        [date(2015,9, 6), 60, 40, 35]\n",
    "       ]\n",
    "\n",
    "wb = Workbook()\n",
    "ws = wb.active\n",
    "\n",
    "for row in rows:\n",
    "    ws.append(row)\n",
    "\n",
    "c1 = LineChart()\n",
    "c1.title = \"Line Chart\"\n",
    "c1.legend = None\n",
    "c1.style = 15\n",
    "c1.y_axis.title = 'Size'\n",
    "c1.x_axis.title = 'Test Number'\n",
    "\n",
    "data = Reference(ws, min_col=2, min_row=1, max_col=4, max_row=7)\n",
    "c1.add_data(data, titles_from_data=True)\n",
    "ws.add_chart(c1, \"A10\")\n",
    "wb.save(\"output/opxl-line.xlsx\")"
   ]
  },
  {
   "cell_type": "code",
   "execution_count": 9,
   "id": "900dbb17",
   "metadata": {},
   "outputs": [],
   "source": [
    "#font style\n",
    "from openpyxl.styles import Font \n",
    "from openpyxl.styles.colors import Color\n",
    "from openpyxl import Workbook\n",
    "\n",
    "# Create workbook\n",
    "wb = Workbook()\n",
    "\n",
    "# Select sheet\n",
    "ws = wb['Sheet']\n",
    "\n",
    "# Set font\n",
    "ws['A1'].font = Font(color = \"FF0000\")\n",
    "\n",
    "# Set data\n",
    "ws['A1'] = \"Hello\"\n",
    "    \n",
    "# Save file    \n",
    "wb.save(\"output/opxl-styles.xlsx\")"
   ]
  },
  {
   "cell_type": "code",
   "execution_count": null,
   "id": "59ed38ef",
   "metadata": {},
   "outputs": [],
   "source": []
  }
 ],
 "metadata": {
  "kernelspec": {
   "display_name": "Python 3 (ipykernel)",
   "language": "python",
   "name": "python3"
  },
  "language_info": {
   "codemirror_mode": {
    "name": "ipython",
    "version": 3
   },
   "file_extension": ".py",
   "mimetype": "text/x-python",
   "name": "python",
   "nbconvert_exporter": "python",
   "pygments_lexer": "ipython3",
   "version": "3.8.8"
  }
 },
 "nbformat": 4,
 "nbformat_minor": 5
}
