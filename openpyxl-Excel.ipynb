{
 "cells": [
  {
   "cell_type": "code",
   "execution_count": 1,
   "id": "9301d09c",
   "metadata": {},
   "outputs": [
    {
     "name": "stdout",
     "output_type": "stream",
     "text": [
      "Requirement already satisfied: openpyxl in c:\\users\\cti110016\\anaconda3\\lib\\site-packages (3.0.5)\n",
      "Requirement already satisfied: jdcal in c:\\users\\cti110016\\anaconda3\\lib\\site-packages (from openpyxl) (1.4.1)\n",
      "Requirement already satisfied: et-xmlfile in c:\\users\\cti110016\\anaconda3\\lib\\site-packages (from openpyxl) (1.0.1)\n"
     ]
    }
   ],
   "source": [
    "!pip install openpyxl"
   ]
  },
  {
   "cell_type": "code",
   "execution_count": 2,
   "id": "3b6c4774",
   "metadata": {},
   "outputs": [
    {
     "name": "stdout",
     "output_type": "stream",
     "text": [
      "['Sheet', 'Cookies', 'Fruits', 'Movies', 'Hello World']\n"
     ]
    }
   ],
   "source": [
    "#sheet_names\n",
    "from openpyxl import load_workbook\n",
    "\n",
    "wb = load_workbook('input/opxl-sample.xlsx')\n",
    "print(wb.sheetnames)"
   ]
  },
  {
   "cell_type": "code",
   "execution_count": 3,
   "id": "dcdfc978",
   "metadata": {},
   "outputs": [
    {
     "name": "stdout",
     "output_type": "stream",
     "text": [
      "Hello\n",
      "World\n",
      "from\n",
      "Python\n"
     ]
    }
   ],
   "source": [
    "#read excel\n",
    "from openpyxl import load_workbook\n",
    "\n",
    "wb = load_workbook('input/opxl-sample.xlsx')\n",
    "sheet_rangers = wb['Sheet']\n",
    "print(sheet_rangers['A1'].value)\n",
    "print(sheet_rangers['B2'].value)\n",
    "print(sheet_rangers['C3'].value)\n",
    "print(sheet_rangers['D4'].value)\n"
   ]
  },
  {
   "cell_type": "code",
   "execution_count": 4,
   "id": "c0fdf864",
   "metadata": {},
   "outputs": [
    {
     "name": "stdout",
     "output_type": "stream",
     "text": [
      "Success\n"
     ]
    }
   ],
   "source": [
    "#write excel\n",
    "from openpyxl import Workbook\n",
    "\n",
    "wb = Workbook()\n",
    "ws = wb.active\n",
    "ws[\"A1\"] = \"Hello\"\n",
    "ws[\"A2\"] = \"World\"\n",
    "ws[\"A3\"] = \"is\"\n",
    "ws[\"A4\"] = \"Jerry\"\n",
    "\n",
    "wb.save(\"output/opxl-sample.xlsx\")\n",
    "print(\"Success\")"
   ]
  },
  {
   "cell_type": "code",
   "execution_count": 5,
   "id": "7c113182",
   "metadata": {},
   "outputs": [
    {
     "name": "stdout",
     "output_type": "stream",
     "text": [
      "Success\n"
     ]
    }
   ],
   "source": [
    "#image\n",
    "from openpyxl import Workbook \n",
    "from openpyxl.drawing.image import Image \n",
    "\n",
    "wb = Workbook()\n",
    "ws = wb.active \n",
    "\n",
    "img = Image('input/cat.jpg')\n",
    "ws.add_image(img, 'E4')\n",
    "\n",
    "img2 = Image('input/shark.jpg')\n",
    "img2.anchor = 'A1'\n",
    "ws.add_image(img2)\n",
    "\n",
    "wb.save('output/opxl-cat.xlsx')\n",
    "print(\"Success\")"
   ]
  },
  {
   "cell_type": "code",
   "execution_count": 6,
   "id": "d0083e7b",
   "metadata": {},
   "outputs": [],
   "source": [
    "#bar chart\n",
    "from openpyxl import Workbook \n",
    "from openpyxl.chart import BarChart, Reference, Series \n",
    "\n",
    "wb = Workbook()\n",
    "ws = wb.active\n",
    "\n",
    "for i in range(10) :\n",
    "    ws.append([i])\n",
    "\n",
    "## values = [1,2,3,4,5,6]\n",
    "values = Reference(ws, min_col=1, min_row=1, max_col=1, max_row=10)\n",
    "chart = BarChart()\n",
    "chart.add_data(values)\n",
    "ws.add_chart(chart, \"A1\")\n",
    "wb.save(\"output/opxl-chart.xlsx\" )"
   ]
  },
  {
   "cell_type": "code",
   "execution_count": 7,
   "id": "9bbfa77a",
   "metadata": {},
   "outputs": [],
   "source": [
    "#pie chart\n",
    "from openpyxl import Workbook\n",
    "from openpyxl.chart import PieChart3D, Reference\n",
    "\n",
    "data = [['Fruit', 'Sold'],\n",
    "        ['Apple', 10],\n",
    "        ['Berry', 30],\n",
    "        ['Cherry', 20],\n",
    "        ['Lemon', 40],\n",
    "       ]\n",
    "\n",
    "wb = Workbook()\n",
    "ws = wb.active\n",
    "\n",
    "for row in data:\n",
    "    ws.append(row)\n",
    "\n",
    "pie = PieChart3D()\n",
    "labels = Reference(ws, min_col=1, min_row=2, max_row=5)\n",
    "data = Reference(ws, min_col=2, min_row=1, max_row=5)\n",
    "pie.add_data(data, titles_from_data=True)\n",
    "pie.set_categories(labels)\n",
    "pie.title = \"Pies sold by category\"\n",
    "ws.add_chart(pie, \"D1\")\n",
    "wb.save(\"output/opxl-pie.xlsx\")"
   ]
  },
  {
   "cell_type": "code",
   "execution_count": 8,
   "id": "69563439",
   "metadata": {},
   "outputs": [],
   "source": [
    "#line chart\n",
    "from datetime import date\n",
    "from openpyxl import Workbook\n",
    "from openpyxl.chart import LineChart, Reference\n",
    "from openpyxl.chart.axis import DateAxis\n",
    "\n",
    "rows = [['Date', 'Batch 1', 'Batch 2', 'Batch 3'],\n",
    "        [date(2015,9, 1), 10, 30, 25],\n",
    "        [date(2015,9, 2), 20, 25, 30],\n",
    "        [date(2015,9, 3), 30, 30, 45],\n",
    "        [date(2015,9, 4), 40, 25, 40],\n",
    "        [date(2015,9, 5), 55, 35, 30],\n",
    "        [date(2015,9, 6), 60, 40, 35]\n",
    "       ]\n",
    "\n",
    "wb = Workbook()\n",
    "ws = wb.active\n",
    "\n",
    "for row in rows:\n",
    "    ws.append(row)\n",
    "\n",
    "c1 = LineChart()\n",
    "c1.title = \"Line Chart\"\n",
    "c1.legend = None\n",
    "c1.style = 15\n",
    "c1.y_axis.title = 'Size'\n",
    "c1.x_axis.title = 'Test Number'\n",
    "\n",
    "data = Reference(ws, min_col=2, min_row=1, max_col=4, max_row=7)\n",
    "c1.add_data(data, titles_from_data=True)\n",
    "ws.add_chart(c1, \"A10\")\n",
    "wb.save(\"output/opxl-line.xlsx\")"
   ]
  },
  {
   "cell_type": "code",
   "execution_count": 9,
   "id": "8cc36e31",
   "metadata": {},
   "outputs": [],
   "source": [
    "#font style\n",
    "from openpyxl.styles import Font \n",
    "from openpyxl.styles.colors import Color\n",
    "from openpyxl import Workbook\n",
    "\n",
    "# Create workbook\n",
    "wb = Workbook()\n",
    "\n",
    "# Select sheet\n",
    "ws = wb['Sheet']\n",
    "\n",
    "# Set font\n",
    "ws['A1'].font = Font(color = \"FF0000\")\n",
    "\n",
    "# Set data\n",
    "ws['A1'] = \"Hello\"\n",
    "    \n",
    "# Save file    \n",
    "wb.save(\"output/opxl-styles.xlsx\")"
   ]
  },
  {
   "cell_type": "markdown",
   "id": "275520da",
   "metadata": {},
   "source": [
    "## Working with Excel Spreadsheets"
   ]
  },
  {
   "cell_type": "code",
   "execution_count": 10,
   "id": "fc239a0c",
   "metadata": {},
   "outputs": [
    {
     "name": "stdout",
     "output_type": "stream",
     "text": [
      "Opening workbook...\n",
      "Reading rows...\n",
      "Writing results...\n",
      "Done.\n"
     ]
    },
    {
     "name": "stderr",
     "output_type": "stream",
     "text": [
      "<ipython-input-10-c1d338665af1>:4: DeprecationWarning: Call to deprecated function get_sheet_by_name (Use wb[sheetname]).\n",
      "  sheet = wb.get_sheet_by_name('Population by Census Tract')\n"
     ]
    }
   ],
   "source": [
    "import openpyxl, pprint\n",
    "print('Opening workbook...')\n",
    "wb = openpyxl.load_workbook('input/censuspopdata.xlsx')\n",
    "sheet = wb.get_sheet_by_name('Population by Census Tract')\n",
    "countyData = {}\n",
    "# Fill in countyData with each county's population and tracts.\n",
    "print('Reading rows...')\n",
    "for row in range(2, sheet.max_row+ 1):\n",
    "    # Each row in the spreadsheet has data for one census tract.\n",
    "    state  = sheet['B' + str(row)].value\n",
    "    county = sheet['C' + str(row)].value\n",
    "    pop    = sheet['D' + str(row)].value\n",
    "\n",
    "    # Make sure the key for this state exists.\n",
    "    countyData.setdefault(state, {})\n",
    "    # Make sure the key for this county in this state exists.\n",
    "    countyData[state].setdefault(county, {'tracts': 0, 'pop': 0})\n",
    "\n",
    "    # Each row represents one census tract, so increment by one.\n",
    "    countyData[state][county]['tracts'] += 1\n",
    "    # Increase the county pop by the pop in this census tract.\n",
    "    countyData[state][county]['pop'] += int(pop)\n",
    "\n",
    "# Open a new text file and write the contents of countyData to it.\n",
    "print('Writing results...')\n",
    "resultFile = open('openpyxl-census2010.py', 'w')\n",
    "resultFile.write('allData = ' + pprint.pformat(countyData))\n",
    "resultFile.close()\n",
    "print('Done.')\n"
   ]
  },
  {
   "cell_type": "code",
   "execution_count": 11,
   "id": "0ac34a5b",
   "metadata": {},
   "outputs": [],
   "source": [
    "import csv, os\n",
    "os.makedirs('headerRemoved', exist_ok=True)\n",
    "\n",
    "# Loop through every file in the current working directory.\n",
    "for csvFilename in os.listdir('.'):\n",
    "    if not csvFilename.endswith('.csv'):\n",
    "        continue # skip non-csv files\n",
    "\n",
    "    print('Removing header from ' + csvFilename + '...')\n",
    "\n",
    "    # Read the CSV file in (skipping first row).\n",
    "    csvRows = []\n",
    "    csvFileObj = open(csvFilename)\n",
    "    readerObj = csv.reader(csvFileObj)\n",
    "    for row in readerObj:\n",
    "        if readerObj.line_num == 1:\n",
    "            continue # skip first row\n",
    "        csvRows.append(row)\n",
    "    csvFileObj.close()\n",
    "\n",
    "    # Write out the CSV file.\n",
    "    csvFileObj = open(os.path.join('headerRemoved', csvFilename), 'w', newline='')\n",
    "    csvWriter = csv.writer(csvFileObj)\n",
    "    for row in csvRows:\n",
    "        csvWriter.writerow(row)\n",
    "    csvFileObj.close()"
   ]
  },
  {
   "cell_type": "code",
   "execution_count": 12,
   "id": "9f570ce2",
   "metadata": {},
   "outputs": [
    {
     "name": "stderr",
     "output_type": "stream",
     "text": [
      "<ipython-input-12-6c024f8409e7>:4: DeprecationWarning: Call to deprecated function get_sheet_by_name (Use wb[sheetname]).\n",
      "  sheet = wb.get_sheet_by_name('Sheet')\n"
     ]
    }
   ],
   "source": [
    "import openpyxl\n",
    "\n",
    "wb = openpyxl.load_workbook('input/produceSales.xlsx')\n",
    "sheet = wb.get_sheet_by_name('Sheet')\n",
    "\n",
    "# The produce types and their updated prices\n",
    "PRICE_UPDATES = {'Garlic': 3.07,\n",
    "                 'Celery': 1.19,\n",
    "                 'Lemon': 1.27}\n",
    "\n",
    "# Loop through the rows and update the prices.\n",
    "for rowNum in range(2, sheet.max_row): # skip the first row\n",
    "    produceName = sheet.cell(row=rowNum, column=1).value\n",
    "    if produceName in PRICE_UPDATES:\n",
    "        sheet.cell(row=rowNum, column=2).value = PRICE_UPDATES[produceName]\n",
    "\n",
    "wb.save('output/updatedProduceSales.xlsx')"
   ]
  },
  {
   "cell_type": "code",
   "execution_count": 13,
   "id": "04e56864",
   "metadata": {},
   "outputs": [],
   "source": [
    "import openpyxl\n",
    "def invertCells(filename):\n",
    "    wb = openpyxl.load_workbook(filename)\n",
    "    sheet = wb.active\n",
    "    newSheet = wb.create_sheet(index=0, title='inverted')\n",
    "\n",
    "    for rowObj in sheet.rows:\n",
    "        for cellObj in rowObj:\n",
    "            colIndex = cellObj.column\n",
    "            rowIndex = cellObj.row\n",
    "\n",
    "            newSheet.cell(row=colIndex, column=rowIndex).value = cellObj.value\n",
    "\n",
    "    wb.save(filename)\n",
    "\n",
    "\n",
    "if __name__ == \"__main__\":\n",
    "    invertCells('input/invertCells.xlsx')"
   ]
  },
  {
   "cell_type": "markdown",
   "id": "55fff613",
   "metadata": {},
   "source": [
    "## excelToCsv"
   ]
  },
  {
   "cell_type": "code",
   "execution_count": 14,
   "id": "16870316",
   "metadata": {},
   "outputs": [],
   "source": [
    "import os\n",
    "import csv\n",
    "import openpyxl\n",
    "\n",
    "def excelToCsv(folder):\n",
    "    for excelFile in os.listdir(folder):\n",
    "        if not excelFile.endswith('xlsx'):\n",
    "            continue\n",
    "        wb = openpyxl.load_workbook(excelFile)\n",
    "\n",
    "        for sheetName in wb.get_sheet_names():\n",
    "            sheet = wb.get_sheet_by_name(sheetName)\n",
    "\n",
    "            # Create the CSV filename from the Excel filename and sheet title.\n",
    "            csvFilename = excelFile.split('.')[0]+'_'+sheet.title+'.csv'\n",
    "            csvFileObj = open(csvFilename, 'w', newline='')\n",
    "\n",
    "            # Create the csv.writer object for this CSV file.\n",
    "            csvWriter = csv.writer(csvFileObj)\n",
    "\n",
    "            # Loop through every row in the sheet.\n",
    "            for rowObj in sheet.rows:\n",
    "                rowData = []    # append each cell to this list\n",
    "                # Loop through each cell in the row.\n",
    "                for cellObj in rowObj:\n",
    "                    # Append each cell's data to rowData.\n",
    "                    rowData.append(cellObj.value)\n",
    "                # Write the rowData list to the CSV file.\n",
    "                csvWriter.writerow(rowData)\n",
    "            csvFileObj.close()\n",
    "\n",
    "if __name__ == \"__main__\":\n",
    "    excelToCsv('.')"
   ]
  },
  {
   "cell_type": "code",
   "execution_count": 1,
   "id": "0d82b7f5",
   "metadata": {},
   "outputs": [],
   "source": [
    "import os\n",
    "import openpyxl\n",
    "\n",
    "def textToSheet(directory, filename):\n",
    "    wb = openpyxl.Workbook()\n",
    "    wb.create_sheet(index=0, title='result')\n",
    "    sheet = wb.active\n",
    "\n",
    "    colIndex = 1\n",
    "\n",
    "    # write text files as columns in worksheet\n",
    "    for file in os.listdir():\n",
    "        if file.endswith('.txt'):\n",
    "            rowIndex = 1\n",
    "            with open(file) as f:\n",
    "                for line in f:\n",
    "                    sheet.cell(row=rowIndex, column=colIndex).value = line\n",
    "                    rowIndex += 1\n",
    "            colIndex += 1\n",
    "\n",
    "    wb.save(filename)\n",
    "\n",
    "if __name__ == \"__main__\":\n",
    "    textToSheet('.', 'output/text-to-cols.xlsx')"
   ]
  },
  {
   "cell_type": "code",
   "execution_count": null,
   "id": "a4a05f4a",
   "metadata": {},
   "outputs": [],
   "source": []
  }
 ],
 "metadata": {
  "kernelspec": {
   "display_name": "Python 3 (ipykernel)",
   "language": "python",
   "name": "python3"
  },
  "language_info": {
   "codemirror_mode": {
    "name": "ipython",
    "version": 3
   },
   "file_extension": ".py",
   "mimetype": "text/x-python",
   "name": "python",
   "nbconvert_exporter": "python",
   "pygments_lexer": "ipython3",
   "version": "3.9.7"
  }
 },
 "nbformat": 4,
 "nbformat_minor": 5
}
