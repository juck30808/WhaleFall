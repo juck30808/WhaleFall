{
 "cells": [
  {
   "cell_type": "code",
   "execution_count": 2,
   "id": "26e8d4ce",
   "metadata": {},
   "outputs": [
    {
     "name": "stdout",
     "output_type": "stream",
     "text": [
      "Collecting pytube\n",
      "  Downloading pytube-11.0.1-py3-none-any.whl (56 kB)\n",
      "\u001b[K     |████████████████████████████████| 56 kB 1.0 MB/s eta 0:00:01\n",
      "\u001b[?25hInstalling collected packages: pytube\n",
      "Successfully installed pytube-11.0.1\n"
     ]
    }
   ],
   "source": [
    "!pip install pytube"
   ]
  },
  {
   "cell_type": "code",
   "execution_count": 3,
   "id": "8ffdfc24",
   "metadata": {},
   "outputs": [],
   "source": [
    "from pytube import YouTube\n",
    "import time"
   ]
  },
  {
   "cell_type": "code",
   "execution_count": 8,
   "id": "b24dc306",
   "metadata": {},
   "outputs": [
    {
     "name": "stdout",
     "output_type": "stream",
     "text": [
      "1-Youtube Video Bilgilerini Göster\n",
      "2-Download video\n",
      "3-Download Audio\n",
      "4-Exit\n",
      "2\n",
      "Please Paste The Link You Would Like To See The Information:https://www.youtube.com/watch?v=V2VmcuOEqEg&t=4s\n",
      "---------------------------------------------\n",
      "Video Title: SKRILLEX LIVE @ ULTRA MUSIC FESTIVAL 2015\n",
      "Owner of the video: Skrillex\n",
      "Video Thumbnail: https://i.ytimg.com/vi/V2VmcuOEqEg/sddefault.jpg\n",
      "Views: 83055820\n"
     ]
    },
    {
     "ename": "NameError",
     "evalue": "name 'last_minute' is not defined",
     "output_type": "error",
     "traceback": [
      "\u001b[0;31m---------------------------------------------------------------------------\u001b[0m",
      "\u001b[0;31mNameError\u001b[0m                                 Traceback (most recent call last)",
      "\u001b[0;32m/var/folders/w1/qwpw4zqj06166jjzmngrmp7w0000gn/T/ipykernel_3246/4081919356.py\u001b[0m in \u001b[0;36m<module>\u001b[0;34m\u001b[0m\n\u001b[1;32m     45\u001b[0m         \u001b[0minput\u001b[0m\u001b[0;34m(\u001b[0m\u001b[0;34m\"Devam Edilsin mi ?\"\u001b[0m\u001b[0;34m)\u001b[0m\u001b[0;34m\u001b[0m\u001b[0;34m\u001b[0m\u001b[0m\n\u001b[1;32m     46\u001b[0m     \u001b[0;32melif\u001b[0m \u001b[0mseç\u001b[0m \u001b[0;34m==\u001b[0m \u001b[0;34m\"2\"\u001b[0m\u001b[0;34m:\u001b[0m\u001b[0;34m\u001b[0m\u001b[0;34m\u001b[0m\u001b[0m\n\u001b[0;32m---> 47\u001b[0;31m         \u001b[0mvideo_indir\u001b[0m\u001b[0;34m(\u001b[0m\u001b[0;34m)\u001b[0m\u001b[0;34m\u001b[0m\u001b[0;34m\u001b[0m\u001b[0m\n\u001b[0m\u001b[1;32m     48\u001b[0m         \u001b[0minput\u001b[0m\u001b[0;34m(\u001b[0m\u001b[0;34m\"Devam Edilsin mi ?\"\u001b[0m\u001b[0;34m)\u001b[0m\u001b[0;34m\u001b[0m\u001b[0;34m\u001b[0m\u001b[0m\n\u001b[1;32m     49\u001b[0m     \u001b[0;32melif\u001b[0m \u001b[0mseç\u001b[0m \u001b[0;34m==\u001b[0m \u001b[0;34m\"3\"\u001b[0m\u001b[0;34m:\u001b[0m\u001b[0;34m\u001b[0m\u001b[0;34m\u001b[0m\u001b[0m\n",
      "\u001b[0;32m/var/folders/w1/qwpw4zqj06166jjzmngrmp7w0000gn/T/ipykernel_3246/4081919356.py\u001b[0m in \u001b[0;36mvideo_indir\u001b[0;34m()\u001b[0m\n\u001b[1;32m     20\u001b[0m     \u001b[0mprint\u001b[0m\u001b[0;34m(\u001b[0m\u001b[0;34m\"Video Thumbnail:\"\u001b[0m\u001b[0;34m,\u001b[0m\u001b[0murl\u001b[0m\u001b[0;34m.\u001b[0m\u001b[0mthumbnail_url\u001b[0m\u001b[0;34m)\u001b[0m\u001b[0;34m\u001b[0m\u001b[0;34m\u001b[0m\u001b[0m\n\u001b[1;32m     21\u001b[0m     \u001b[0mprint\u001b[0m\u001b[0;34m(\u001b[0m\u001b[0;34m\"Views:\"\u001b[0m\u001b[0;34m,\u001b[0m\u001b[0murl\u001b[0m\u001b[0;34m.\u001b[0m\u001b[0mviews\u001b[0m\u001b[0;34m)\u001b[0m\u001b[0;34m\u001b[0m\u001b[0;34m\u001b[0m\u001b[0m\n\u001b[0;32m---> 22\u001b[0;31m     \u001b[0mprint\u001b[0m\u001b[0;34m(\u001b[0m\u001b[0;34m\"Video Length:\"\u001b[0m\u001b[0;34m,\u001b[0m\u001b[0mlast_minute\u001b[0m\u001b[0;34m,\u001b[0m\u001b[0;34m\"minute\"\u001b[0m\u001b[0;34m)\u001b[0m\u001b[0;34m\u001b[0m\u001b[0;34m\u001b[0m\u001b[0m\n\u001b[0m\u001b[1;32m     23\u001b[0m     \u001b[0mprint\u001b[0m\u001b[0;34m(\u001b[0m\u001b[0;34m\"-\"\u001b[0m\u001b[0;34m*\u001b[0m\u001b[0;36m45\u001b[0m\u001b[0;34m)\u001b[0m\u001b[0;34m\u001b[0m\u001b[0;34m\u001b[0m\u001b[0m\n\u001b[1;32m     24\u001b[0m \u001b[0;34m\u001b[0m\u001b[0m\n",
      "\u001b[0;31mNameError\u001b[0m: name 'last_minute' is not defined"
     ]
    }
   ],
   "source": [
    "def bilgileri_göster():\n",
    "    url = YouTube(input(\"Please Paste The Link You Would Like To See The Information:\"))\n",
    "    son_dakika = url.length/60\n",
    "    print(\"-\"*45)\n",
    "    print(\"Video Title:\",url.title)\n",
    "    print(\"Owner of the video:\",url.author)\n",
    "    print(\"Video Thumbnail:\",url.thumbnail_url)\n",
    "    print(\"Views:\",url.views)\n",
    "    print(\"Video Length:\",last_minute,\"minute\")\n",
    "    print(\"-\"*45)\n",
    "\n",
    "def video_indir():\n",
    "    url = YouTube(input(\"Please Paste The Link You Would Like To See The Information:\"))\n",
    "    son_dakika = url.length/60\n",
    "    indirme_bağlantısı = url.streams.filter(progressive=\"True\").first()\n",
    "    indirme_bağlantısı.download()\n",
    "    print(\"-\"*45)\n",
    "    print(\"Video Title:\",url.title)\n",
    "    print(\"Owner of the video:\",url.author)\n",
    "    print(\"Video Thumbnail:\",url.thumbnail_url)\n",
    "    print(\"Views:\",url.views)\n",
    "    print(\"Video Length:\",last_minute,\"minute\")\n",
    "    print(\"-\"*45)\n",
    "\n",
    "\n",
    "def ses_indir():\n",
    "\n",
    "    url = YouTube(input(\"Please Paste The Link You Would Like To See The Information:\"))\n",
    "    son_dakika = url.length/60\n",
    "    indirme_bağlantısı = url.streams.filter(mime_type=\"audio/mp4\").first()\n",
    "    indirme_bağlantısı.download()\n",
    "    print(\"-\"*45)\n",
    "    print(\"Video Title:\",url.title)\n",
    "    print(\"Owner of the video:\",url.author)\n",
    "    print(\"Video Thumbnail:\",url.thumbnail_url)\n",
    "    print(\"Views:\",url.views)\n",
    "    print(\"Video Length:\",last_minute,\"minute\")\n",
    "    print(\"-\"*45)\n",
    "\n",
    "\n",
    "while True:\n",
    "    seç = input(\"1-Youtube Video Bilgilerini Göster\\n2-Download video\\n3-Download Audio\\n4-Exit\\n\")\n",
    "    if seç == \"1\":\n",
    "        bilgileri_göster()\n",
    "        input(\"Devam Edilsin mi ?\")\n",
    "    elif seç == \"2\":\n",
    "        video_indir()\n",
    "        input(\"Devam Edilsin mi ?\")   \n",
    "    elif seç == \"3\":\n",
    "        ses_indir()\n",
    "    else:\n",
    "        print(\"Çıkış Yapılıyor...\")  \n",
    "        print(\"5\")\n",
    "        time.sleep(1) \n",
    "        print(\"4\")\n",
    "        time.sleep(1) \n",
    "        print(\"3\")\n",
    "        time.sleep(1) \n",
    "        print(\"2\")\n",
    "        time.sleep(1) \n",
    "        print(\"1\")\n",
    "        time.sleep(1) \n",
    "        print(\"Uygulamadan çıkıldı...\") \n",
    "        break     \n",
    "\n",
    "\n"
   ]
  },
  {
   "cell_type": "code",
   "execution_count": null,
   "id": "1612eb59",
   "metadata": {},
   "outputs": [],
   "source": []
  },
  {
   "cell_type": "code",
   "execution_count": null,
   "id": "d1c6d546",
   "metadata": {},
   "outputs": [],
   "source": []
  }
 ],
 "metadata": {
  "kernelspec": {
   "display_name": "Python 3 (ipykernel)",
   "language": "python",
   "name": "python3"
  },
  "language_info": {
   "codemirror_mode": {
    "name": "ipython",
    "version": 3
   },
   "file_extension": ".py",
   "mimetype": "text/x-python",
   "name": "python",
   "nbconvert_exporter": "python",
   "pygments_lexer": "ipython3",
   "version": "3.8.8"
  }
 },
 "nbformat": 4,
 "nbformat_minor": 5
}
