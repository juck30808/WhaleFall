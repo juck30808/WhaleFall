{
 "cells": [
  {
   "cell_type": "code",
   "execution_count": 81,
   "metadata": {},
   "outputs": [
    {
     "name": "stdout",
     "output_type": "stream",
     "text": [
      "Requirement already satisfied: pandas in c:\\users\\cti110016\\anaconda3\\lib\\site-packages (1.1.3)\n",
      "Requirement already satisfied: pytz>=2017.2 in c:\\users\\cti110016\\anaconda3\\lib\\site-packages (from pandas) (2020.1)\n",
      "Requirement already satisfied: python-dateutil>=2.7.3 in c:\\users\\cti110016\\anaconda3\\lib\\site-packages (from pandas) (2.8.1)\n",
      "Requirement already satisfied: numpy>=1.15.4 in c:\\users\\cti110016\\anaconda3\\lib\\site-packages (from pandas) (1.19.2)\n",
      "Requirement already satisfied: six>=1.5 in c:\\users\\cti110016\\anaconda3\\lib\\site-packages (from python-dateutil>=2.7.3->pandas) (1.15.0)\n"
     ]
    }
   ],
   "source": [
    "!pip install pandas"
   ]
  },
  {
   "cell_type": "code",
   "execution_count": 82,
   "metadata": {
    "colab": {
     "base_uri": "https://localhost:8080/",
     "height": 72
    },
    "colab_type": "code",
    "executionInfo": {
     "elapsed": 1529,
     "status": "ok",
     "timestamp": 1594917124620,
     "user": {
      "displayName": "Abhilash Chintada",
      "photoUrl": "https://lh3.googleusercontent.com/a-/AOh14GhlwwwMJr16CgjmRFWk833xZEy2OfpaFZDIqM84=s64",
      "userId": "00311744807213723199"
     },
     "user_tz": -330
    },
    "id": "W3ssws2HDluI",
    "outputId": "2debce79-e6f4-4c65-b64f-241ac53f7ae5"
   },
   "outputs": [],
   "source": [
    "import pandas as pd \n",
    "import numpy as np\n",
    "import matplotlib.pyplot as plt\n",
    "import seaborn as sns\n",
    "data = pd.read_excel(\"input/insurance.xlsx\")\n",
    "#data.head()"
   ]
  },
  {
   "cell_type": "code",
   "execution_count": 83,
   "metadata": {
    "colab": {
     "base_uri": "https://localhost:8080/",
     "height": 35
    },
    "colab_type": "code",
    "executionInfo": {
     "elapsed": 1919,
     "status": "ok",
     "timestamp": 1594917125058,
     "user": {
      "displayName": "Abhilash Chintada",
      "photoUrl": "https://lh3.googleusercontent.com/a-/AOh14GhlwwwMJr16CgjmRFWk833xZEy2OfpaFZDIqM84=s64",
      "userId": "00311744807213723199"
     },
     "user_tz": -330
    },
    "id": "vqAYN0MNGnuH",
    "outputId": "e4b25f98-bd80-48ea-9a49-152c3e1c856f"
   },
   "outputs": [],
   "source": [
    "#data.shape\n",
    "#data.info()"
   ]
  },
  {
   "cell_type": "markdown",
   "metadata": {
    "colab_type": "text",
    "id": "CcQpYqQThEA6"
   },
   "source": [
    "Check the feature correlations"
   ]
  },
  {
   "cell_type": "code",
   "execution_count": 84,
   "metadata": {
    "colab": {
     "base_uri": "https://localhost:8080/",
     "height": 613
    },
    "colab_type": "code",
    "executionInfo": {
     "elapsed": 2623,
     "status": "ok",
     "timestamp": 1594917125803,
     "user": {
      "displayName": "Abhilash Chintada",
      "photoUrl": "https://lh3.googleusercontent.com/a-/AOh14GhlwwwMJr16CgjmRFWk833xZEy2OfpaFZDIqM84=s64",
      "userId": "00311744807213723199"
     },
     "user_tz": -330
    },
    "id": "jDGsg7QYIyjQ",
    "outputId": "98277b08-6572-4b34-8f21-ed7e4ebac8b5"
   },
   "outputs": [
    {
     "data": {
      "text/plain": [
       "<AxesSubplot:>"
      ]
     },
     "execution_count": 84,
     "metadata": {},
     "output_type": "execute_result"
    },
    {
     "data": {
      "image/png": "[encoded data removed]",
      "text/plain": [
       "<Figure size 720x720 with 2 Axes>"
      ]
     },
     "metadata": {
      "needs_background": "light"
     },
     "output_type": "display_data"
    }
   ],
   "source": [
    "fig, ax = plt.subplots(figsize=(10,10))\n",
    "corr = data.corr()\n",
    "sns.heatmap(corr , annot = True , ax=ax)"
   ]
  },
  {
   "cell_type": "markdown",
   "metadata": {
    "colab_type": "text",
    "id": "ehbtrN7Mh374"
   },
   "source": [
    "Label Encode Object Types"
   ]
  },
  {
   "cell_type": "code",
   "execution_count": 85,
   "metadata": {
    "colab": {
     "base_uri": "https://localhost:8080/",
     "height": 312
    },
    "colab_type": "code",
    "executionInfo": {
     "elapsed": 2598,
     "status": "ok",
     "timestamp": 1594917125805,
     "user": {
      "displayName": "Abhilash Chintada",
      "photoUrl": "https://lh3.googleusercontent.com/a-/AOh14GhlwwwMJr16CgjmRFWk833xZEy2OfpaFZDIqM84=s64",
      "userId": "00311744807213723199"
     },
     "user_tz": -330
    },
    "id": "dpezzhlEiJlU",
    "outputId": "610912a7-5e57-417e-8890-580f3d85120c"
   },
   "outputs": [
    {
     "name": "stdout",
     "output_type": "stream",
     "text": [
      "======== sex ===========\n",
      "male      676\n",
      "female    662\n",
      "Name: sex, dtype: int64\n",
      "======== smoker ===========\n",
      "no     1064\n",
      "yes     274\n",
      "Name: smoker, dtype: int64\n",
      "======== region ===========\n",
      "southeast    364\n",
      "northwest    325\n",
      "southwest    325\n",
      "northeast    324\n",
      "Name: region, dtype: int64\n"
     ]
    }
   ],
   "source": [
    "d_types = dict(data.dtypes)\n",
    "for name , type_ in d_types.items():\n",
    "    if str(type_) == 'object':\n",
    "        print(f\"======== {name} ===========\")\n",
    "        print(data[name].value_counts())"
   ]
  },
  {
   "cell_type": "code",
   "execution_count": 86,
   "metadata": {
    "colab": {},
    "colab_type": "code",
    "executionInfo": {
     "elapsed": 2592,
     "status": "ok",
     "timestamp": 1594917125808,
     "user": {
      "displayName": "Abhilash Chintada",
      "photoUrl": "https://lh3.googleusercontent.com/a-/AOh14GhlwwwMJr16CgjmRFWk833xZEy2OfpaFZDIqM84=s64",
      "userId": "00311744807213723199"
     },
     "user_tz": -330
    },
    "id": "kdDi3cr7iE3z"
   },
   "outputs": [],
   "source": [
    "from sklearn.preprocessing import LabelEncoder\n",
    "for name , type_ in d_types.items():\n",
    "    if str(type_) == 'object':\n",
    "        Le = LabelEncoder()\n",
    "        data[name] = Le.fit_transform(data[name])"
   ]
  },
  {
   "cell_type": "markdown",
   "metadata": {
    "colab_type": "text",
    "id": "krC9zYSxmIBu"
   },
   "source": [
    "One hot Encoding "
   ]
  },
  {
   "cell_type": "code",
   "execution_count": 47,
   "metadata": {
    "colab": {
     "base_uri": "https://localhost:8080/",
     "height": 202
    },
    "colab_type": "code",
    "executionInfo": {
     "elapsed": 2555,
     "status": "ok",
     "timestamp": 1594917125815,
     "user": {
      "displayName": "Abhilash Chintada",
      "photoUrl": "https://lh3.googleusercontent.com/a-/AOh14GhlwwwMJr16CgjmRFWk833xZEy2OfpaFZDIqM84=s64",
      "userId": "00311744807213723199"
     },
     "user_tz": -330
    },
    "id": "eCyVK4UOmJ9-",
    "outputId": "5c7bd5af-b1dd-4a08-c8bd-e2ebb9a6da79",
    "scrolled": true
   },
   "outputs": [
    {
     "data": {
      "text/html": [
       "<div>\n",
       "<style scoped>\n",
       "    .dataframe tbody tr th:only-of-type {\n",
       "        vertical-align: middle;\n",
       "    }\n",
       "\n",
       "    .dataframe tbody tr th {\n",
       "        vertical-align: top;\n",
       "    }\n",
       "\n",
       "    .dataframe thead th {\n",
       "        text-align: right;\n",
       "    }\n",
       "</style>\n",
       "<table border=\"1\" class=\"dataframe\">\n",
       "  <thead>\n",
       "    <tr style=\"text-align: right;\">\n",
       "      <th></th>\n",
       "      <th>age</th>\n",
       "      <th>sex</th>\n",
       "      <th>bmi</th>\n",
       "      <th>children</th>\n",
       "      <th>smoker</th>\n",
       "      <th>expenses</th>\n",
       "      <th>region_2</th>\n",
       "      <th>region_3</th>\n",
       "      <th>region_1</th>\n",
       "      <th>region_0</th>\n",
       "    </tr>\n",
       "  </thead>\n",
       "  <tbody>\n",
       "    <tr>\n",
       "      <th>0</th>\n",
       "      <td>19</td>\n",
       "      <td>0</td>\n",
       "      <td>27.9</td>\n",
       "      <td>0</td>\n",
       "      <td>1</td>\n",
       "      <td>16884.92</td>\n",
       "      <td>0.0</td>\n",
       "      <td>0.0</td>\n",
       "      <td>0.0</td>\n",
       "      <td>1.0</td>\n",
       "    </tr>\n",
       "    <tr>\n",
       "      <th>1</th>\n",
       "      <td>18</td>\n",
       "      <td>1</td>\n",
       "      <td>33.8</td>\n",
       "      <td>1</td>\n",
       "      <td>0</td>\n",
       "      <td>1725.55</td>\n",
       "      <td>0.0</td>\n",
       "      <td>0.0</td>\n",
       "      <td>1.0</td>\n",
       "      <td>0.0</td>\n",
       "    </tr>\n",
       "    <tr>\n",
       "      <th>2</th>\n",
       "      <td>28</td>\n",
       "      <td>1</td>\n",
       "      <td>33.0</td>\n",
       "      <td>3</td>\n",
       "      <td>0</td>\n",
       "      <td>4449.46</td>\n",
       "      <td>0.0</td>\n",
       "      <td>0.0</td>\n",
       "      <td>1.0</td>\n",
       "      <td>0.0</td>\n",
       "    </tr>\n",
       "    <tr>\n",
       "      <th>3</th>\n",
       "      <td>33</td>\n",
       "      <td>1</td>\n",
       "      <td>22.7</td>\n",
       "      <td>0</td>\n",
       "      <td>0</td>\n",
       "      <td>21984.47</td>\n",
       "      <td>0.0</td>\n",
       "      <td>1.0</td>\n",
       "      <td>0.0</td>\n",
       "      <td>0.0</td>\n",
       "    </tr>\n",
       "    <tr>\n",
       "      <th>4</th>\n",
       "      <td>32</td>\n",
       "      <td>1</td>\n",
       "      <td>28.9</td>\n",
       "      <td>0</td>\n",
       "      <td>0</td>\n",
       "      <td>3866.86</td>\n",
       "      <td>0.0</td>\n",
       "      <td>1.0</td>\n",
       "      <td>0.0</td>\n",
       "      <td>0.0</td>\n",
       "    </tr>\n",
       "  </tbody>\n",
       "</table>\n",
       "</div>"
      ],
      "text/plain": [
       "   age  sex   bmi  children  smoker  expenses  region_2  region_3  region_1  \\\n",
       "0   19    0  27.9         0       1  16884.92       0.0       0.0       0.0   \n",
       "1   18    1  33.8         1       0   1725.55       0.0       0.0       1.0   \n",
       "2   28    1  33.0         3       0   4449.46       0.0       0.0       1.0   \n",
       "3   33    1  22.7         0       0  21984.47       0.0       1.0       0.0   \n",
       "4   32    1  28.9         0       0   3866.86       0.0       1.0       0.0   \n",
       "\n",
       "   region_0  \n",
       "0       1.0  \n",
       "1       0.0  \n",
       "2       0.0  \n",
       "3       0.0  \n",
       "4       0.0  "
      ]
     },
     "execution_count": 47,
     "metadata": {},
     "output_type": "execute_result"
    }
   ],
   "source": [
    "from sklearn.preprocessing import OneHotEncoder\n",
    "\n",
    "onehotencoder = OneHotEncoder()\n",
    "part = onehotencoder.fit_transform(data['region'].values.reshape(-1,1)).toarray()\n",
    "\n",
    "values = dict(data[\"region\"].value_counts())\n",
    "\n",
    "for e , (val , _) in enumerate(values.items()):\n",
    "    data[\"region_\" + str(val)] = part[:,e]\n",
    "\n",
    "data = data.drop([\"region\"] , axis = 1)\n",
    "\n",
    "data.head()\n",
    "#data.info()"
   ]
  },
  {
   "cell_type": "markdown",
   "metadata": {
    "colab_type": "text",
    "id": "YB-UpuHUwnFw"
   },
   "source": [
    "Handle Skewness in Predictive column"
   ]
  },
  {
   "cell_type": "code",
   "execution_count": 48,
   "metadata": {
    "colab": {},
    "colab_type": "code",
    "executionInfo": {
     "elapsed": 2529,
     "status": "ok",
     "timestamp": 1594917125818,
     "user": {
      "displayName": "Abhilash Chintada",
      "photoUrl": "https://lh3.googleusercontent.com/a-/AOh14GhlwwwMJr16CgjmRFWk833xZEy2OfpaFZDIqM84=s64",
      "userId": "00311744807213723199"
     },
     "user_tz": -330
    },
    "id": "1Fg-k6dv1jaJ"
   },
   "outputs": [
    {
     "data": {
      "text/plain": [
       "array([16884.92,  1725.55,  4449.46, ...,  1629.83,  2007.95, 29141.36])"
      ]
     },
     "execution_count": 48,
     "metadata": {},
     "output_type": "execute_result"
    }
   ],
   "source": [
    "Original_Y = data[\"expenses\"].values.copy()\n",
    "Original_Y"
   ]
  },
  {
   "cell_type": "code",
   "execution_count": 49,
   "metadata": {
    "colab": {
     "base_uri": "https://localhost:8080/",
     "height": 283
    },
    "colab_type": "code",
    "executionInfo": {
     "elapsed": 3240,
     "status": "ok",
     "timestamp": 1594917126596,
     "user": {
      "displayName": "Abhilash Chintada",
      "photoUrl": "https://lh3.googleusercontent.com/a-/AOh14GhlwwwMJr16CgjmRFWk833xZEy2OfpaFZDIqM84=s64",
      "userId": "00311744807213723199"
     },
     "user_tz": -330
    },
    "id": "MhH2uZ4Kwrcn",
    "outputId": "9105d9dc-04fb-4170-a632-ca4e203265a0"
   },
   "outputs": [
    {
     "name": "stdout",
     "output_type": "stream",
     "text": [
      "Skewness in Column : Expenses  1.51587966289798\n"
     ]
    },
    {
     "data": {
      "image/png": "[encoded data removed]",
      "text/plain": [
       "<Figure size 432x288 with 1 Axes>"
      ]
     },
     "metadata": {
      "needs_background": "light"
     },
     "output_type": "display_data"
    }
   ],
   "source": [
    "print(\"Skewness in Column : Expenses \" , data[\"expenses\"].skew())\n",
    "plt.hist(data[\"expenses\"])\n",
    "plt.show()"
   ]
  },
  {
   "cell_type": "code",
   "execution_count": 50,
   "metadata": {
    "colab": {
     "base_uri": "https://localhost:8080/",
     "height": 283
    },
    "colab_type": "code",
    "executionInfo": {
     "elapsed": 3189,
     "status": "ok",
     "timestamp": 1594917126599,
     "user": {
      "displayName": "Abhilash Chintada",
      "photoUrl": "https://lh3.googleusercontent.com/a-/AOh14GhlwwwMJr16CgjmRFWk833xZEy2OfpaFZDIqM84=s64",
      "userId": "00311744807213723199"
     },
     "user_tz": -330
    },
    "id": "Yo6bOuAhxp16",
    "outputId": "42a5bfcd-a9b4-47c9-cea7-e14a2bcc8deb"
   },
   "outputs": [
    {
     "name": "stdout",
     "output_type": "stream",
     "text": [
      "Skewness in Column : Sqrt Expenses  0.7958625295340573\n"
     ]
    },
    {
     "data": {
      "image/png": "[encoded data removed]",
      "text/plain": [
       "<Figure size 432x288 with 1 Axes>"
      ]
     },
     "metadata": {
      "needs_background": "light"
     },
     "output_type": "display_data"
    }
   ],
   "source": [
    "col_sqrt = np.sqrt(data[\"expenses\"])\n",
    "print(\"Skewness in Column : Sqrt Expenses \" ,col_sqrt.skew())\n",
    "plt.hist(col_sqrt)\n",
    "plt.show()"
   ]
  },
  {
   "cell_type": "code",
   "execution_count": 51,
   "metadata": {
    "colab": {
     "base_uri": "https://localhost:8080/",
     "height": 283
    },
    "colab_type": "code",
    "executionInfo": {
     "elapsed": 3161,
     "status": "ok",
     "timestamp": 1594917126600,
     "user": {
      "displayName": "Abhilash Chintada",
      "photoUrl": "https://lh3.googleusercontent.com/a-/AOh14GhlwwwMJr16CgjmRFWk833xZEy2OfpaFZDIqM84=s64",
      "userId": "00311744807213723199"
     },
     "user_tz": -330
    },
    "id": "pKDFPGWWxutr",
    "outputId": "d4f6e3a2-ba9e-4e2b-f284-ad1ff54911ca"
   },
   "outputs": [
    {
     "name": "stdout",
     "output_type": "stream",
     "text": [
      "Skewness in Column : boxcox Expenses  -0.008734062011873602\n"
     ]
    },
    {
     "data": {
      "image/png": "[encoded data removed]",
      "text/plain": [
       "<Figure size 432x288 with 1 Axes>"
      ]
     },
     "metadata": {
      "needs_background": "light"
     },
     "output_type": "display_data"
    }
   ],
   "source": [
    "from scipy import stats \n",
    "\n",
    "col_cox , lam = stats.boxcox(data[\"expenses\"])[0:2]\n",
    "print(\"Skewness in Column : boxcox Expenses \" ,pd.Series(col_cox).skew())\n",
    "plt.hist(col_cox)\n",
    "plt.show()"
   ]
  },
  {
   "cell_type": "code",
   "execution_count": 52,
   "metadata": {
    "colab": {},
    "colab_type": "code",
    "executionInfo": {
     "elapsed": 3146,
     "status": "ok",
     "timestamp": 1594917126601,
     "user": {
      "displayName": "Abhilash Chintada",
      "photoUrl": "https://lh3.googleusercontent.com/a-/AOh14GhlwwwMJr16CgjmRFWk833xZEy2OfpaFZDIqM84=s64",
      "userId": "00311744807213723199"
     },
     "user_tz": -330
    },
    "id": "dYiUul6lze2W"
   },
   "outputs": [],
   "source": [
    "data[\"expenses\"] = col_cox"
   ]
  },
  {
   "cell_type": "markdown",
   "metadata": {
    "colab_type": "text",
    "id": "v-GRmEnrpLwa"
   },
   "source": [
    "Make Features and Targets"
   ]
  },
  {
   "cell_type": "code",
   "execution_count": 53,
   "metadata": {
    "colab": {},
    "colab_type": "code",
    "executionInfo": {
     "elapsed": 3142,
     "status": "ok",
     "timestamp": 1594917126603,
     "user": {
      "displayName": "Abhilash Chintada",
      "photoUrl": "https://lh3.googleusercontent.com/a-/AOh14GhlwwwMJr16CgjmRFWk833xZEy2OfpaFZDIqM84=s64",
      "userId": "00311744807213723199"
     },
     "user_tz": -330
    },
    "id": "VwsmZfDdo2-w"
   },
   "outputs": [
    {
     "data": {
      "text/plain": [
       "((1070, 9), (268, 9))"
      ]
     },
     "execution_count": 53,
     "metadata": {},
     "output_type": "execute_result"
    }
   ],
   "source": [
    "remaining_columns = list(data.columns)\n",
    "remaining_columns.remove(\"expenses\")\n",
    "\n",
    "X = data[remaining_columns].values \n",
    "Y = data['expenses'].values\n",
    "\n",
    "from sklearn.model_selection import train_test_split \n",
    "Xtrain , Xtest , Ytrain , Ytest = train_test_split(X , Y , test_size = 0.2 , random_state = 4)\n",
    "\n",
    "from sklearn.preprocessing import StandardScaler\n",
    "Scaler = StandardScaler()\n",
    "Xtrain = Scaler.fit_transform(Xtrain)\n",
    "Xtest = Scaler.transform(Xtest)\n",
    "\n",
    "Xtrain.shape , Xtest.shape"
   ]
  },
  {
   "cell_type": "markdown",
   "metadata": {},
   "source": [
    "## 正規化 check whether data is standardized (mean should be 1)"
   ]
  },
  {
   "cell_type": "code",
   "execution_count": 54,
   "metadata": {
    "colab": {
     "base_uri": "https://localhost:8080/",
     "height": 287
    },
    "colab_type": "code",
    "executionInfo": {
     "elapsed": 3551,
     "status": "ok",
     "timestamp": 1594917127122,
     "user": {
      "displayName": "Abhilash Chintada",
      "photoUrl": "https://lh3.googleusercontent.com/a-/AOh14GhlwwwMJr16CgjmRFWk833xZEy2OfpaFZDIqM84=s64",
      "userId": "00311744807213723199"
     },
     "user_tz": -330
    },
    "id": "y7JUW_ARlfE7",
    "outputId": "11ad2d3d-d79b-4085-8231-57888ba621ea"
   },
   "outputs": [
    {
     "data": {
      "text/plain": [
       "[<matplotlib.lines.Line2D at 0x1a0a3ee18e0>]"
      ]
     },
     "execution_count": 54,
     "metadata": {},
     "output_type": "execute_result"
    },
    {
     "data": {
      "image/png": "[encoded data removed]",
      "text/plain": [
       "<Figure size 432x288 with 1 Axes>"
      ]
     },
     "metadata": {
      "needs_background": "light"
     },
     "output_type": "display_data"
    }
   ],
   "source": [
    "plt.ylim(-1,1)\n",
    "means = []\n",
    "for i in range(X.shape[1]):\n",
    "    means.append(np.mean(Xtest[:,i]))\n",
    "plt.plot(means , scaley=False)"
   ]
  },
  {
   "cell_type": "code",
   "execution_count": 55,
   "metadata": {
    "colab": {
     "base_uri": "https://localhost:8080/",
     "height": 287
    },
    "colab_type": "code",
    "executionInfo": {
     "elapsed": 3516,
     "status": "ok",
     "timestamp": 1594917127123,
     "user": {
      "displayName": "Abhilash Chintada",
      "photoUrl": "https://lh3.googleusercontent.com/a-/AOh14GhlwwwMJr16CgjmRFWk833xZEy2OfpaFZDIqM84=s64",
      "userId": "00311744807213723199"
     },
     "user_tz": -330
    },
    "id": "hsmfuzN8lxh5",
    "outputId": "4bb5046d-a240-4275-a241-96d04d1335f2",
    "scrolled": true
   },
   "outputs": [
    {
     "data": {
      "text/plain": [
       "[<matplotlib.lines.Line2D at 0x1a0a4f11a90>]"
      ]
     },
     "execution_count": 55,
     "metadata": {},
     "output_type": "execute_result"
    },
    {
     "data": {
      "image/png": "[encoded data removed]",
      "text/plain": [
       "<Figure size 432x288 with 1 Axes>"
      ]
     },
     "metadata": {
      "needs_background": "light"
     },
     "output_type": "display_data"
    }
   ],
   "source": [
    "plt.ylim(0,2)\n",
    "vars = []\n",
    "for i in range(X.shape[1]):\n",
    "    vars.append(np.var(Xtest[:,i]))\n",
    "plt.plot(vars)"
   ]
  },
  {
   "cell_type": "markdown",
   "metadata": {},
   "source": [
    "## Principal Component Analysis(PCA)  主成分分析：特徵擷取的一種方法\n",
    "\n",
    "為降維(Dimension reduction)內特徵擷取(Feature extraction)的一種方法，降維就是希望資料的維度數減少，但整體的效能不會差異太多甚至會更好，降維（Dimensionality Reduction）是一種無監督學習，其最主要的目的是「化繁為簡」：將原本高維的數據（比方說 N 維）重新以一個相較低維的形式表達（比方說 K 維，且 K<N）。理想上只要該 K 維的表徵（representation）具有代表性，能夠抓住原來 N 維數據的大部分特性，我們就能在沒有損失什麼資訊的情況下，用更簡潔的方式呈現該組數據，進而對其本質有更深的理解。"
   ]
  },
  {
   "cell_type": "code",
   "execution_count": 73,
   "metadata": {
    "colab": {
     "base_uri": "https://localhost:8080/",
     "height": 283
    },
    "colab_type": "code",
    "executionInfo": {
     "elapsed": 4001,
     "status": "ok",
     "timestamp": 1594917127651,
     "user": {
      "displayName": "Abhilash Chintada",
      "photoUrl": "https://lh3.googleusercontent.com/a-/AOh14GhlwwwMJr16CgjmRFWk833xZEy2OfpaFZDIqM84=s64",
      "userId": "00311744807213723199"
     },
     "user_tz": -330
    },
    "id": "sJ6YlDX2lPa2",
    "outputId": "70d70762-f62e-42b1-ad29-7b87a4e78623"
   },
   "outputs": [
    {
     "data": {
      "text/plain": [
       "array([0.19330152, 0.35436043, 0.51529672, 0.64923641, 0.77679771,\n",
       "       0.89223419, 1.        ])"
      ]
     },
     "execution_count": 73,
     "metadata": {},
     "output_type": "execute_result"
    }
   ],
   "source": [
    "from sklearn.linear_model import LinearRegression\n",
    "from sklearn.decomposition import PCA\n",
    "\n",
    "pca = PCA(n_components = 7) #指定降維\n",
    "Xtrain = pca.fit_transform(Xtrain)\n",
    "Xtest = pca.transform(Xtest)\n",
    "pca.explained_variance_ratio_.cumsum()"
   ]
  },
  {
   "cell_type": "code",
   "execution_count": 74,
   "metadata": {},
   "outputs": [
    {
     "data": {
      "text/plain": [
       "[<matplotlib.lines.Line2D at 0x1a0a502ef70>]"
      ]
     },
     "execution_count": 74,
     "metadata": {},
     "output_type": "execute_result"
    },
    {
     "data": {
      "image/png": "[encoded data removed]",
      "text/plain": [
       "<Figure size 432x288 with 1 Axes>"
      ]
     },
     "metadata": {
      "needs_background": "light"
     },
     "output_type": "display_data"
    }
   ],
   "source": [
    "plt.plot(pca.explained_variance_ratio_.cumsum())"
   ]
  },
  {
   "cell_type": "code",
   "execution_count": 76,
   "metadata": {
    "colab": {
     "base_uri": "https://localhost:8080/",
     "height": 35
    },
    "colab_type": "code",
    "executionInfo": {
     "elapsed": 3974,
     "status": "ok",
     "timestamp": 1594917127652,
     "user": {
      "displayName": "Abhilash Chintada",
      "photoUrl": "https://lh3.googleusercontent.com/a-/AOh14GhlwwwMJr16CgjmRFWk833xZEy2OfpaFZDIqM84=s64",
      "userId": "00311744807213723199"
     },
     "user_tz": -330
    },
    "id": "M5JH-MbdikKJ",
    "outputId": "6463b65b-780e-410f-c048-9f4dacf943bc"
   },
   "outputs": [
    {
     "data": {
      "text/plain": [
       "0.7497119096615363"
      ]
     },
     "execution_count": 76,
     "metadata": {},
     "output_type": "execute_result"
    }
   ],
   "source": [
    "model = LinearRegression()\n",
    "model.fit(Xtrain , Ytrain)\n",
    "model.score(Xtest , Ytest) #測試與驗證"
   ]
  },
  {
   "cell_type": "markdown",
   "metadata": {},
   "source": [
    "## 交叉驗證(Cross validation)\n",
    "一般來說我們會將數據分為兩個部分，一部分用來訓練，一部分用來測試，交叉驗證是一種統計學上將樣本切割成多個小子集的做測試與訓練。交叉驗證主要分為以下幾類：\n",
    "\n",
    "- k-folder cross-vailation\n",
    "- kk folder cross-vaildation\n",
    "- least-one-out cross-validation\n",
    "- 10-fold corss validation"
   ]
  },
  {
   "cell_type": "code",
   "execution_count": 77,
   "metadata": {},
   "outputs": [],
   "source": [
    "from sklearn.model_selection import KFold \n",
    "\n",
    "k_fold = KFold(n_splits=5) #訓練了模型5次\n",
    "\n",
    "test_scores = []\n",
    "for train_idx , test_idx in k_fold.split(X):\n",
    "    Xtrain = X[train_idx]\n",
    "    Ytrain = Y[train_idx]\n",
    "\n",
    "    Xtest = X[test_idx]\n",
    "    Ytest = Y[test_idx]\n",
    "\n",
    "    model = LinearRegression()\n",
    "    model.fit(Xtrain , Ytrain)\n",
    "\n",
    "    test_scores.append(model.score(Xtest , Ytest))"
   ]
  },
  {
   "cell_type": "code",
   "execution_count": 78,
   "metadata": {},
   "outputs": [
    {
     "name": "stdout",
     "output_type": "stream",
     "text": [
      " mean score of k folds :  0.7667860542044181\n"
     ]
    },
    {
     "data": {
      "image/png": "[encoded data removed]",
      "text/plain": [
       "<Figure size 432x288 with 1 Axes>"
      ]
     },
     "metadata": {
      "needs_background": "light"
     },
     "output_type": "display_data"
    }
   ],
   "source": [
    "# 平均值決定了我們的全局分數，這意味著我們可以確信該模型的實時性能在這個數據集上就會出現。\n",
    "# 0.76678 比我們之前的 0.7497 好\n",
    "\n",
    "print(\" mean score of k folds : \" , np.mean(test_scores))\n",
    "plt.plot(test_scores)\n",
    "plt.plot([np.mean(test_scores)]*len(test_scores))\n",
    "plt.show()"
   ]
  },
  {
   "cell_type": "code",
   "execution_count": 68,
   "metadata": {
    "colab": {
     "base_uri": "https://localhost:8080/",
     "height": 35
    },
    "colab_type": "code",
    "executionInfo": {
     "elapsed": 3845,
     "status": "ok",
     "timestamp": 1594917127654,
     "user": {
      "displayName": "Abhilash Chintada",
      "photoUrl": "https://lh3.googleusercontent.com/a-/AOh14GhlwwwMJr16CgjmRFWk833xZEy2OfpaFZDIqM84=s64",
      "userId": "00311744807213723199"
     },
     "user_tz": -330
    },
    "id": "RjUKSpgGdeG0",
    "outputId": "ccb2e468-e554-4283-fd45-646c09cefcc1"
   },
   "outputs": [
    {
     "data": {
      "text/plain": [
       "9.853713595940004"
      ]
     },
     "execution_count": 68,
     "metadata": {},
     "output_type": "execute_result"
    }
   ],
   "source": [
    "# Y = W.X + c\n",
    "model.coef_.dot(Xtest[10,:]) + model.intercept_"
   ]
  },
  {
   "cell_type": "code",
   "execution_count": 69,
   "metadata": {
    "colab": {
     "base_uri": "https://localhost:8080/",
     "height": 35
    },
    "colab_type": "code",
    "executionInfo": {
     "elapsed": 3833,
     "status": "ok",
     "timestamp": 1594917127655,
     "user": {
      "displayName": "Abhilash Chintada",
      "photoUrl": "https://lh3.googleusercontent.com/a-/AOh14GhlwwwMJr16CgjmRFWk833xZEy2OfpaFZDIqM84=s64",
      "userId": "00311744807213723199"
     },
     "user_tz": -330
    },
    "id": "s51gPc4jdffw",
    "outputId": "d73d80b8-21ea-4a43-b4e0-1eb433bb0815"
   },
   "outputs": [
    {
     "data": {
      "text/plain": [
       "array([9.8537136])"
      ]
     },
     "execution_count": 69,
     "metadata": {},
     "output_type": "execute_result"
    }
   ],
   "source": [
    "model.predict(Xtest[10,:].reshape(1,-1))"
   ]
  },
  {
   "cell_type": "code",
   "execution_count": 67,
   "metadata": {},
   "outputs": [],
   "source": [
    "# rfecv.support_  #保留排名\n",
    "# rfecv.ranking_  #重要度排名\n",
    "# model.coef_ # 可查看係數\n",
    "# model.intercept_ # 可查看截距值"
   ]
  },
  {
   "cell_type": "markdown",
   "metadata": {
    "colab_type": "text",
    "id": "V_AJtCeF2kKh"
   },
   "source": [
    "Can we Bring back the data ?"
   ]
  },
  {
   "cell_type": "code",
   "execution_count": 62,
   "metadata": {
    "colab": {},
    "colab_type": "code",
    "executionInfo": {
     "elapsed": 3804,
     "status": "ok",
     "timestamp": 1594917127656,
     "user": {
      "displayName": "Abhilash Chintada",
      "photoUrl": "https://lh3.googleusercontent.com/a-/AOh14GhlwwwMJr16CgjmRFWk833xZEy2OfpaFZDIqM84=s64",
      "userId": "00311744807213723199"
     },
     "user_tz": -330
    },
    "id": "aqo-8Yp1zwUS"
   },
   "outputs": [],
   "source": [
    "from scipy.special import inv_boxcox\n",
    "transformed_data = inv_boxcox(Y , lam)"
   ]
  },
  {
   "cell_type": "code",
   "execution_count": 63,
   "metadata": {
    "colab": {
     "base_uri": "https://localhost:8080/",
     "height": 52
    },
    "colab_type": "code",
    "executionInfo": {
     "elapsed": 3793,
     "status": "ok",
     "timestamp": 1594917127657,
     "user": {
      "displayName": "Abhilash Chintada",
      "photoUrl": "https://lh3.googleusercontent.com/a-/AOh14GhlwwwMJr16CgjmRFWk833xZEy2OfpaFZDIqM84=s64",
      "userId": "00311744807213723199"
     },
     "user_tz": -330
    },
    "id": "ugFajEvw01yb",
    "outputId": "27034a95-707f-4861-df51-69f93e8d09c8"
   },
   "outputs": [
    {
     "data": {
      "text/plain": [
       "array([16884.92,  1725.55,  4449.46, 21984.47,  3866.86,  3756.62,\n",
       "        8240.59,  7281.51,  6406.41, 28923.14])"
      ]
     },
     "execution_count": 63,
     "metadata": {},
     "output_type": "execute_result"
    }
   ],
   "source": [
    "transformed_data[:10]"
   ]
  },
  {
   "cell_type": "code",
   "execution_count": 64,
   "metadata": {
    "colab": {
     "base_uri": "https://localhost:8080/",
     "height": 52
    },
    "colab_type": "code",
    "executionInfo": {
     "elapsed": 3784,
     "status": "ok",
     "timestamp": 1594917127659,
     "user": {
      "displayName": "Abhilash Chintada",
      "photoUrl": "https://lh3.googleusercontent.com/a-/AOh14GhlwwwMJr16CgjmRFWk833xZEy2OfpaFZDIqM84=s64",
      "userId": "00311744807213723199"
     },
     "user_tz": -330
    },
    "id": "9jzGIaDv1S0r",
    "outputId": "0a27617f-5e0f-48e9-89db-b71140e02a62"
   },
   "outputs": [
    {
     "data": {
      "text/plain": [
       "array([16884.92,  1725.55,  4449.46, 21984.47,  3866.86,  3756.62,\n",
       "        8240.59,  7281.51,  6406.41, 28923.14])"
      ]
     },
     "execution_count": 64,
     "metadata": {},
     "output_type": "execute_result"
    }
   ],
   "source": [
    "Original_Y[:10]"
   ]
  }
 ],
 "metadata": {
  "colab": {
   "authorship_tag": "ABX9TyMk7xj9ltdUvJAJU+52ZjI1",
   "name": "3 . LinearRegression_DataTransformation.ipynb",
   "provenance": []
  },
  "kernelspec": {
   "display_name": "Python 3",
   "language": "python",
   "name": "python3"
  },
  "language_info": {
   "codemirror_mode": {
    "name": "ipython",
    "version": 3
   },
   "file_extension": ".py",
   "mimetype": "text/x-python",
   "name": "python",
   "nbconvert_exporter": "python",
   "pygments_lexer": "ipython3",
   "version": "3.8.5"
  }
 },
 "nbformat": 4,
 "nbformat_minor": 1
}
