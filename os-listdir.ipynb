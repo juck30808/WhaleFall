{
 "cells": [
  {
   "cell_type": "code",
   "execution_count": 4,
   "id": "14fe283a",
   "metadata": {},
   "outputs": [
    {
     "name": "stdout",
     "output_type": "stream",
     "text": [
      "all done\n"
     ]
    }
   ],
   "source": [
    "import os\n",
    "import shutil\n",
    "\n",
    "#current_dir = os.path.dirname(os.path.realpath(__file__))\n",
    "current_dir = os.path.dirname('/Users/juck30808/Documents/GitHub/WhaleFall/input')\n",
    "\n",
    "for filename in os.listdir(current_dir):\n",
    "\n",
    "    if filename.endswith(('.jpg', '.png', '.gif')):\n",
    "        if not os.path.exists(\"Images\"): \n",
    "            os.makedirs('Images')\n",
    "        shutil.copy(filename, 'Images')\n",
    "        os.remove(filename)\n",
    "        print('Images folder done')\n",
    "\n",
    "    \n",
    "    if filename.endswith(('.pdf', '.docx')):\n",
    "        if not os.path.exists(\"Documents\"): \n",
    "            os.makedirs('Documents')\n",
    "        shutil.copy(filename, 'Documents')\n",
    "        os.remove(filename)\n",
    "        print('Documents folder done')\n",
    "\n",
    "    \n",
    "    if filename.endswith(('.apk', '.exe')):\n",
    "        if not os.path.exists(\"Apps\"): \n",
    "            os.makedirs('Apps')\n",
    "        shutil.copy(filename, 'Apps')\n",
    "        os.remove(filename)\n",
    "        print('Apps folder done')\n",
    "\n",
    "    if filename.endswith(('.mp4', '.wmv')):\n",
    "        if not os.path.exists(\"Videos\"): \n",
    "            os.makedirs('Videos')\n",
    "        shutil.copy(filename, 'Videos')\n",
    "        os.remove(filename)\n",
    "        print('Videos folder done')\n",
    "\n",
    "print('all done')"
   ]
  },
  {
   "cell_type": "code",
   "execution_count": 7,
   "id": "cc35fba6",
   "metadata": {},
   "outputs": [],
   "source": []
  },
  {
   "cell_type": "code",
   "execution_count": null,
   "id": "f46d818f",
   "metadata": {},
   "outputs": [],
   "source": []
  }
 ],
 "metadata": {
  "kernelspec": {
   "display_name": "Python 3 (ipykernel)",
   "language": "python",
   "name": "python3"
  },
  "language_info": {
   "codemirror_mode": {
    "name": "ipython",
    "version": 3
   },
   "file_extension": ".py",
   "mimetype": "text/x-python",
   "name": "python",
   "nbconvert_exporter": "python",
   "pygments_lexer": "ipython3",
   "version": "3.8.8"
  }
 },
 "nbformat": 4,
 "nbformat_minor": 5
}
