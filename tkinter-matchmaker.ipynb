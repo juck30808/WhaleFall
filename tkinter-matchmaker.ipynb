{
 "cells": [
  {
   "cell_type": "code",
   "execution_count": 3,
   "metadata": {},
   "outputs": [],
   "source": [
    "import random\n",
    "import time\n",
    "from tkinter import Tk , Button , DISABLED\n",
    "\n",
    "def show_symbol(x,y):\n",
    "    global first\n",
    "    global previousx , previousy\n",
    "    buttons[x,y]['text'] = button_symbols[x,y]\n",
    "    buttons[x,y].update_idletasks()\n",
    "\n",
    "    if first:\n",
    "        previousx = x\n",
    "        previousy = y\n",
    "        first = False\n",
    "    elif previousx != x or previousy != y:\n",
    "        if buttons[previousx,previousy]['text'] != buttons[x,y]['text']:\n",
    "            time.sleep(0.5)\n",
    "            buttons[previousx,previousy]['text'] = ' '\n",
    "            buttons[x,y]['text'] = ' '\n",
    "        else:\n",
    "            buttons[previousx,previousy]['command'] = DISABLED\n",
    "            buttons[x,y]['command'] = DISABLED\n",
    "        first = True\n",
    "\n",
    "win = Tk()\n",
    "win.title('Matchmaker')\n",
    "win.resizable(width=False , height=False)\n",
    "first = True\n",
    "previousx = 0\n",
    "previousy = 0\n",
    "buttons = { }\n",
    "button_symbols = { }\n",
    "symbols = [u'\\u2702',u'\\u2705',u'\\u2708',u'\\u2709',u'\\u270A',u'\\u270B',\n",
    "            u'\\u270C',u'\\u270F',u'\\u2712',u'\\u2714',u'\\u2716',u'\\u2728',\n",
    "            u'\\u2702',u'\\u2705',u'\\u2708',u'\\u2709',u'\\u270A',u'\\u270B',\n",
    "            u'\\u270C',u'\\u270F',u'\\u2712',u'\\u2714',u'\\u2716',u'\\u2728']\n",
    "\n",
    "random.shuffle(symbols)\n",
    "\n",
    "for x in range(6):\n",
    "    for y in range(4):\n",
    "        button = Button(command = lambda x=x , y=y: show_symbol(x,y) , width = 10, height = 8)\n",
    "        button.grid(column = x , row = y)\n",
    "        buttons[x,y] = button\n",
    "        button_symbols[x,y] = symbols.pop()\n",
    "\n",
    "win.mainloop()\n"
   ]
  },
  {
   "cell_type": "code",
   "execution_count": null,
   "metadata": {},
   "outputs": [],
   "source": []
  }
 ],
 "metadata": {
  "kernelspec": {
   "display_name": "Python 3",
   "language": "python",
   "name": "python3"
  },
  "language_info": {
   "codemirror_mode": {
    "name": "ipython",
    "version": 3
   },
   "file_extension": ".py",
   "mimetype": "text/x-python",
   "name": "python",
   "nbconvert_exporter": "python",
   "pygments_lexer": "ipython3",
   "version": "3.8.5"
  }
 },
 "nbformat": 4,
 "nbformat_minor": 4
}
