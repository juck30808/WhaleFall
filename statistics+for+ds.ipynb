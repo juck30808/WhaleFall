{
 "cells": [
  {
   "cell_type": "code",
   "execution_count": 1,
   "metadata": {},
   "outputs": [
    {
     "ename": "ModuleNotFoundError",
     "evalue": "No module named 'wradlib'",
     "output_type": "error",
     "traceback": [
      "\u001b[1;31m---------------------------------------------------------------------------\u001b[0m",
      "\u001b[1;31mModuleNotFoundError\u001b[0m                       Traceback (most recent call last)",
      "\u001b[1;32mC:\\Users\\CTI110~1\\AppData\\Local\\Temp/ipykernel_19376/747360290.py\u001b[0m in \u001b[0;36m<module>\u001b[1;34m\u001b[0m\n\u001b[1;32m----> 1\u001b[1;33m \u001b[1;32mimport\u001b[0m \u001b[0mwradlib\u001b[0m\u001b[1;33m\u001b[0m\u001b[1;33m\u001b[0m\u001b[0m\n\u001b[0m",
      "\u001b[1;31mModuleNotFoundError\u001b[0m: No module named 'wradlib'"
     ]
    }
   ],
   "source": [
    "import wradlib"
   ]
  },
  {
   "cell_type": "code",
   "execution_count": null,
   "metadata": {},
   "outputs": [],
   "source": [
    "import numpy as np\n",
    "import matplotlib.pyplot as plt \n",
    "import seaborn as sns \n",
    "from scipy.stats import binom\n",
    "\n",
    "n=10\n",
    "x=range(0,11)\n",
    "#number of exp\n",
    "p=0.5\n",
    "\n",
    "#array of possible outcomes\n",
    "prob=binom.pmf(x,n,p)\n",
    "\n",
    "#set prop of plot\n",
    "fig,binom_plot=plt.subplots(figsize=(10,8))\n",
    "binom_plot.set_xlabel(\"no of heads\",fontsize=16)\n",
    "binom_plot.set_ylabel(\"Probablity\",fontsize=16)\n",
    "binom_plot.vlines(x,0,prob,colors='r',lw=5,alpha=0.5)\n",
    "\n",
    "#plot \n",
    "binom_plot.plot(x,prob,'ro')\n",
    "plt.show()"
   ]
  },
  {
   "cell_type": "code",
   "execution_count": null,
   "metadata": {},
   "outputs": [],
   "source": [
    "import numpy as np\n",
    "import matplotlib.pyplot as plt \n",
    "import seaborn as sns \n",
    "import scipy.stats as st\n",
    "\n",
    "#generate 100 rnd b 0 to 20\n",
    "Rv=np.linspace(0.0,20.0,100)"
   ]
  },
  {
   "cell_type": "code",
   "execution_count": null,
   "metadata": {},
   "outputs": [],
   "source": [
    "Rv"
   ]
  },
  {
   "cell_type": "code",
   "execution_count": null,
   "metadata": {},
   "outputs": [],
   "source": [
    "nd=st.norm.pdf(Rv,Rv.mean())\n"
   ]
  },
  {
   "cell_type": "code",
   "execution_count": null,
   "metadata": {},
   "outputs": [],
   "source": [
    "fig,nd_plot=plt.subplots(figsize=(10,8))\n",
    "nd_plot.set_xlabel(\"values of RV\")\n",
    "nd_plot.set_ylabel(\"Normal distribution\",fontsize=16)\n",
    "nd_plot.plot(Rv,nd)\n",
    "plt.show()"
   ]
  },
  {
   "cell_type": "code",
   "execution_count": null,
   "metadata": {},
   "outputs": [],
   "source": [
    "#clt mean of the random sample will closely resemble the mean of the whole population\n",
    "#as the sample size increases regardless of shape of distribution"
   ]
  },
  {
   "cell_type": "code",
   "execution_count": null,
   "metadata": {},
   "outputs": [],
   "source": [
    "#1000 rndm no\n",
    "x=np.random.randint(0,1000,size=(1,1000))[0]\n",
    "\n",
    "print(x.mean())\n",
    "\n",
    "#30 rdm samples from 25 dp\n",
    "resamples=[np.random.choice(x,size=25,replace=True)for i in range(30)]\n",
    "avg_lst=[]\n",
    "for i in range(0,30):\n",
    "    avg_lst.append(resamples[i].mean())\n",
    "    \n",
    "cumm_mean=sum(avg_lst)/len(avg_lst)\n"
   ]
  },
  {
   "cell_type": "code",
   "execution_count": null,
   "metadata": {},
   "outputs": [],
   "source": [
    "cumm_mean "
   ]
  },
  {
   "cell_type": "code",
   "execution_count": null,
   "metadata": {},
   "outputs": [],
   "source": []
  }
 ],
 "metadata": {
  "kernelspec": {
   "display_name": "Python 3 (ipykernel)",
   "language": "python",
   "name": "python3"
  },
  "language_info": {
   "codemirror_mode": {
    "name": "ipython",
    "version": 3
   },
   "file_extension": ".py",
   "mimetype": "text/x-python",
   "name": "python",
   "nbconvert_exporter": "python",
   "pygments_lexer": "ipython3",
   "version": "3.9.7"
  }
 },
 "nbformat": 4,
 "nbformat_minor": 4
}
