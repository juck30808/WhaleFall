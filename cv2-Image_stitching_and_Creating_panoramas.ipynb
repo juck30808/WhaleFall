{
 "cells": [
  {
   "cell_type": "markdown",
   "metadata": {
    "slideshow": {
     "slide_type": "slide"
    }
   },
   "source": [
    "# Creating Panoramas using OpenCV\n",
    "**Satya Mallick, LearnOpenCV.com**"
   ]
  },
  {
   "cell_type": "markdown",
   "metadata": {
    "slideshow": {
     "slide_type": "slide"
    }
   },
   "source": [
    "# Steps for Creating Panoramas\n",
    "\n",
    "1. Find keypoints in all images\n",
    "2. Find pairwise correspondences\n",
    "2. Estimate pairwise Homographies\n",
    "3. Refine Homographies\n",
    "3. Stitch with Blending"
   ]
  },
  {
   "cell_type": "markdown",
   "metadata": {
    "slideshow": {
     "slide_type": "slide"
    }
   },
   "source": [
    "# Steps for Creating Panoramas using OpenCV\n",
    "\n",
    "1. Use the **sticher** class\n"
   ]
  },
  {
   "cell_type": "code",
   "execution_count": 1,
   "metadata": {
    "slideshow": {
     "slide_type": "skip"
    }
   },
   "outputs": [],
   "source": [
    "import cv2\n",
    "import glob\n",
    "import matplotlib.pyplot as plt\n",
    "import math"
   ]
  },
  {
   "cell_type": "code",
   "execution_count": 2,
   "metadata": {
    "slideshow": {
     "slide_type": "slide"
    }
   },
   "outputs": [],
   "source": [
    "# Read Images\n",
    "\n",
    "imagefiles = glob.glob(\"boat/*\")\n",
    "imagefiles.sort()\n",
    "\n",
    "images = []\n",
    "for filename in imagefiles:\n",
    "  img = cv2.imread(filename)\n",
    "  img = cv2.cvtColor(img, cv2.COLOR_BGR2RGB)\n",
    "  images.append(img)\n",
    "\n",
    "num_images = len(images)\n"
   ]
  },
  {
   "cell_type": "code",
   "execution_count": 3,
   "metadata": {
    "slideshow": {
     "slide_type": "slide"
    }
   },
   "outputs": [
    {
     "data": {
      "text/plain": [
       "<Figure size 2160x720 with 0 Axes>"
      ]
     },
     "metadata": {},
     "output_type": "display_data"
    }
   ],
   "source": [
    "# Display Images\n",
    "plt.figure(figsize=[30,10]) \n",
    "num_cols = 3\n",
    "num_rows = math.ceil(num_images / num_cols)\n",
    "for i in range(0, num_images):\n",
    "  plt.subplot(num_rows, num_cols, i+1) \n",
    "  plt.axis('off')\n",
    "  plt.imshow(images[i])\n"
   ]
  },
  {
   "cell_type": "code",
   "execution_count": 4,
   "metadata": {
    "slideshow": {
     "slide_type": "slide"
    }
   },
   "outputs": [],
   "source": [
    "# Stitch Images\n",
    "stitcher = cv2.Stitcher_create()\n",
    "status, result = stitcher.stitch(images)\n",
    "if status == 0:\n",
    "  plt.figure(figsize=[30,10]) \n",
    "  plt.imshow(result)"
   ]
  }
 ],
 "metadata": {
  "celltoolbar": "Slideshow",
  "kernelspec": {
   "display_name": "Python 3 (ipykernel)",
   "language": "python",
   "name": "python3"
  },
  "language_info": {
   "codemirror_mode": {
    "name": "ipython",
    "version": 3
   },
   "file_extension": ".py",
   "mimetype": "text/x-python",
   "name": "python",
   "nbconvert_exporter": "python",
   "pygments_lexer": "ipython3",
   "version": "3.9.7"
  }
 },
 "nbformat": 4,
 "nbformat_minor": 2
}
