{
 "cells": [
  {
   "cell_type": "code",
   "execution_count": null,
   "id": "79fff292",
   "metadata": {},
   "outputs": [],
   "source": [
    "from selenium import webdriver\n",
    "import time\n",
    "from selenium.webdriver.common.keys import Keys\n",
    "browser = webdriver.Chrome(\"driver/chromedriver\")\n",
    "\n",
    "browser.get(\"https://www.linkedin.com/\")\n",
    "\n",
    "browser.fullscreen_window()\n",
    "time.sleep(3)\n",
    "\n",
    "login = browser.find_element_by_xpath(\"/html/body/nav/a[3]\")\n",
    "login.click()\n",
    "time.sleep(3)\n",
    "\n",
    "email = browser.find_element_by_xpath(\"//*[@id='username']\")\n",
    "password = browser.find_element_by_xpath(\"//*[@id='password']\")\n",
    "\n",
    "email.send_keys(\"xxxxxxx@gmail.com\")\n",
    "password.send_keys(\"xxxxxxxxxxx\")\n",
    "\n",
    "login_button = browser.find_element_by_css_selector(\"#app__container > main > div:nth-child(2) > form > div.login__form_action_container > button\")\n",
    "login_button.click()\n",
    "\n",
    "time.sleep(2)\n",
    "\n",
    "search_bar = browser.find_element_by_xpath(\"//*[@id='ember29']/input\")\n",
    "search_bar.send_keys(\"#python\")\n",
    "search_bar.send_keys(Keys.RETURN)\n",
    "time.sleep(3)\n",
    "\n",
    "contacts = browser.find_element_by_xpath(\"//*[@id='mynetwork-tab-icon']\")\n",
    "contacts.click()\n",
    "time.sleep(3)\n",
    "\n",
    "contact_button = browser.find_element_by_class_name(\"mn-community-summary__entity-info\")\n",
    "contact_button.click()\n",
    "time.sleep(3)\n",
    "\n",
    "for i in range(1,3):\n",
    "    browser.execute_script('window.scrollTo(0,document.body.scrollHeight)')\n",
    "    time.sleep(3)\n",
    "\n",
    "followers = browser.find_elements_by_class_name(\"mn-connection-card__details\")\n",
    "fallowerList=[]\n",
    "\n",
    "for follower in followers:\n",
    "    fallowerList.append(follower.text)\n",
    "\n",
    "with open (\"follower.txt\",\"w\",encoding = \"UTF-8\") as file:\n",
    "    for follower in fallowerList:\n",
    "        file.write(follower + \"/n\")\n",
    "time.sleep(5)\n",
    "\n",
    "browser.quit()"
   ]
  },
  {
   "cell_type": "code",
   "execution_count": null,
   "id": "d0c7f11f",
   "metadata": {},
   "outputs": [],
   "source": []
  }
 ],
 "metadata": {
  "kernelspec": {
   "display_name": "Python 3 (ipykernel)",
   "language": "python",
   "name": "python3"
  },
  "language_info": {
   "codemirror_mode": {
    "name": "ipython",
    "version": 3
   },
   "file_extension": ".py",
   "mimetype": "text/x-python",
   "name": "python",
   "nbconvert_exporter": "python",
   "pygments_lexer": "ipython3",
   "version": "3.9.7"
  }
 },
 "nbformat": 4,
 "nbformat_minor": 5
}
