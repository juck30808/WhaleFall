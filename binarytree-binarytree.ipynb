{
 "cells": [
  {
   "cell_type": "code",
   "execution_count": null,
   "metadata": {},
   "outputs": [],
   "source": [
    "!pip install binarytree"
   ]
  },
  {
   "cell_type": "code",
   "execution_count": 2,
   "metadata": {},
   "outputs": [
    {
     "name": "stdout",
     "output_type": "stream",
     "text": [
      "Binary Tree \n",
      "  3\n",
      " / \\\n",
      "5   4\n",
      "\n",
      "list [Node(3), Node(5), Node(4)]\n",
      "inorder of nodes [Node(5), Node(3), Node(4)]\n",
      "size of tree 3\n",
      "height of tree 1\n",
      "________________\n",
      "binary tree :\n",
      " \n",
      "       __1__\n",
      "      /     \\\n",
      "     2       4\n",
      "    / \\     / \\\n",
      "  _5   6   8   9\n",
      " /\n",
      "77\n",
      "\n",
      "list of binary tree [1, 2, 4, 5, 6, 8, 9, 77]\n",
      "list [Node(1), Node(2), Node(4), Node(5), Node(6), Node(8), Node(9), Node(77)]\n",
      "inorder of nodes [Node(77), Node(5), Node(2), Node(6), Node(1), Node(8), Node(4), Node(9)]\n",
      "size of tree 8\n",
      "height of tree 3\n"
     ]
    }
   ],
   "source": [
    "from binarytree import Node\n",
    "from binarytree import build\n",
    "\n",
    "root=Node(3)\n",
    "root.left=Node(5)\n",
    "root.right=Node(9)\n",
    "root.right=Node(4)\n",
    "print(\"Binary Tree\",root)\n",
    "print(\"list\",list(root))\n",
    "print(\"inorder of nodes\",root.inorder)\n",
    "print(\"size of tree\",root.size)\n",
    "print(\"height of tree\",root.height)\n",
    "print(\"________________\")\n",
    "\n",
    "nodes={1,2,4,5,6,8,9,77}\n",
    "birany=build(nodes)\n",
    "print(\"binary tree :\\n\",birany)\n",
    "print(\"list of binary tree\",birany.values)\n",
    "print(\"list\",list(birany))\n",
    "print(\"inorder of nodes\",birany.inorder)\n",
    "print(\"size of tree\",birany.size)\n",
    "print(\"height of tree\",birany.height)"
   ]
  },
  {
   "cell_type": "code",
   "execution_count": null,
   "metadata": {},
   "outputs": [],
   "source": []
  }
 ],
 "metadata": {
  "kernelspec": {
   "display_name": "Python 3 (ipykernel)",
   "language": "python",
   "name": "python3"
  },
  "language_info": {
   "codemirror_mode": {
    "name": "ipython",
    "version": 3
   },
   "file_extension": ".py",
   "mimetype": "text/x-python",
   "name": "python",
   "nbconvert_exporter": "python",
   "pygments_lexer": "ipython3",
   "version": "3.9.7"
  }
 },
 "nbformat": 4,
 "nbformat_minor": 4
}
