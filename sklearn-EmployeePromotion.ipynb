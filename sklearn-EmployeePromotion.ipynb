{
 "cells": [
  {
   "cell_type": "code",
   "execution_count": 1,
   "metadata": {
    "id": "wf-USKdVSGNT"
   },
   "outputs": [
    {
     "data": {
      "text/html": [
       "<div>\n",
       "<style scoped>\n",
       "    .dataframe tbody tr th:only-of-type {\n",
       "        vertical-align: middle;\n",
       "    }\n",
       "\n",
       "    .dataframe tbody tr th {\n",
       "        vertical-align: top;\n",
       "    }\n",
       "\n",
       "    .dataframe thead th {\n",
       "        text-align: right;\n",
       "    }\n",
       "</style>\n",
       "<table border=\"1\" class=\"dataframe\">\n",
       "  <thead>\n",
       "    <tr style=\"text-align: right;\">\n",
       "      <th></th>\n",
       "      <th>employee_id</th>\n",
       "      <th>department</th>\n",
       "      <th>region</th>\n",
       "      <th>education</th>\n",
       "      <th>gender</th>\n",
       "      <th>recruitment_channel</th>\n",
       "      <th>no_of_trainings</th>\n",
       "      <th>age</th>\n",
       "      <th>previous_year_rating</th>\n",
       "      <th>length_of_service</th>\n",
       "      <th>KPIs_met &gt;80%</th>\n",
       "      <th>awards_won?</th>\n",
       "      <th>avg_training_score</th>\n",
       "      <th>is_promoted</th>\n",
       "    </tr>\n",
       "  </thead>\n",
       "  <tbody>\n",
       "    <tr>\n",
       "      <th>0</th>\n",
       "      <td>65438</td>\n",
       "      <td>Sales &amp; Marketing</td>\n",
       "      <td>region_7</td>\n",
       "      <td>Master's &amp; above</td>\n",
       "      <td>f</td>\n",
       "      <td>sourcing</td>\n",
       "      <td>1</td>\n",
       "      <td>35</td>\n",
       "      <td>5.0</td>\n",
       "      <td>8</td>\n",
       "      <td>1</td>\n",
       "      <td>0</td>\n",
       "      <td>49</td>\n",
       "      <td>0</td>\n",
       "    </tr>\n",
       "    <tr>\n",
       "      <th>1</th>\n",
       "      <td>65141</td>\n",
       "      <td>Operations</td>\n",
       "      <td>region_22</td>\n",
       "      <td>Bachelor's</td>\n",
       "      <td>m</td>\n",
       "      <td>other</td>\n",
       "      <td>1</td>\n",
       "      <td>30</td>\n",
       "      <td>5.0</td>\n",
       "      <td>4</td>\n",
       "      <td>0</td>\n",
       "      <td>0</td>\n",
       "      <td>60</td>\n",
       "      <td>0</td>\n",
       "    </tr>\n",
       "    <tr>\n",
       "      <th>2</th>\n",
       "      <td>7513</td>\n",
       "      <td>Sales &amp; Marketing</td>\n",
       "      <td>region_19</td>\n",
       "      <td>Bachelor's</td>\n",
       "      <td>m</td>\n",
       "      <td>sourcing</td>\n",
       "      <td>1</td>\n",
       "      <td>34</td>\n",
       "      <td>3.0</td>\n",
       "      <td>7</td>\n",
       "      <td>0</td>\n",
       "      <td>0</td>\n",
       "      <td>50</td>\n",
       "      <td>0</td>\n",
       "    </tr>\n",
       "    <tr>\n",
       "      <th>3</th>\n",
       "      <td>2542</td>\n",
       "      <td>Sales &amp; Marketing</td>\n",
       "      <td>region_23</td>\n",
       "      <td>Bachelor's</td>\n",
       "      <td>m</td>\n",
       "      <td>other</td>\n",
       "      <td>2</td>\n",
       "      <td>39</td>\n",
       "      <td>1.0</td>\n",
       "      <td>10</td>\n",
       "      <td>0</td>\n",
       "      <td>0</td>\n",
       "      <td>50</td>\n",
       "      <td>0</td>\n",
       "    </tr>\n",
       "    <tr>\n",
       "      <th>4</th>\n",
       "      <td>48945</td>\n",
       "      <td>Technology</td>\n",
       "      <td>region_26</td>\n",
       "      <td>Bachelor's</td>\n",
       "      <td>m</td>\n",
       "      <td>other</td>\n",
       "      <td>1</td>\n",
       "      <td>45</td>\n",
       "      <td>3.0</td>\n",
       "      <td>2</td>\n",
       "      <td>0</td>\n",
       "      <td>0</td>\n",
       "      <td>73</td>\n",
       "      <td>0</td>\n",
       "    </tr>\n",
       "  </tbody>\n",
       "</table>\n",
       "</div>"
      ],
      "text/plain": [
       "   employee_id         department     region         education gender  \\\n",
       "0        65438  Sales & Marketing   region_7  Master's & above      f   \n",
       "1        65141         Operations  region_22        Bachelor's      m   \n",
       "2         7513  Sales & Marketing  region_19        Bachelor's      m   \n",
       "3         2542  Sales & Marketing  region_23        Bachelor's      m   \n",
       "4        48945         Technology  region_26        Bachelor's      m   \n",
       "\n",
       "  recruitment_channel  no_of_trainings  age  previous_year_rating  \\\n",
       "0            sourcing                1   35                   5.0   \n",
       "1               other                1   30                   5.0   \n",
       "2            sourcing                1   34                   3.0   \n",
       "3               other                2   39                   1.0   \n",
       "4               other                1   45                   3.0   \n",
       "\n",
       "   length_of_service  KPIs_met >80%  awards_won?  avg_training_score  \\\n",
       "0                  8              1            0                  49   \n",
       "1                  4              0            0                  60   \n",
       "2                  7              0            0                  50   \n",
       "3                 10              0            0                  50   \n",
       "4                  2              0            0                  73   \n",
       "\n",
       "   is_promoted  \n",
       "0            0  \n",
       "1            0  \n",
       "2            0  \n",
       "3            0  \n",
       "4            0  "
      ]
     },
     "execution_count": 1,
     "metadata": {},
     "output_type": "execute_result"
    }
   ],
   "source": [
    "import numpy as np\n",
    "import pandas as pd \n",
    "import matplotlib.pyplot as plt \n",
    "import seaborn as sns\n",
    "data = pd.read_csv(\"employee_promotion.csv\")\n",
    "data.head()"
   ]
  },
  {
   "cell_type": "code",
   "execution_count": 2,
   "metadata": {
    "colab": {
     "base_uri": "https://localhost:8080/",
     "height": 332
    },
    "id": "r5gt1sMmT5GX",
    "outputId": "848df150-395b-45f3-e51c-f5987976f98f"
   },
   "outputs": [
    {
     "name": "stdout",
     "output_type": "stream",
     "text": [
      "Class 0: 50140\n",
      "Class 1: 4668\n",
      "Ratio: 10.74 : 1\n"
     ]
    }
   ],
   "source": [
    "# Class Distrubtion 分佈\n",
    "target_class = data.is_promoted.value_counts()\n",
    "print('Class 0:', target_class[0])\n",
    "print('Class 1:', target_class[1])\n",
    "print('Ratio:', round(target_class[0] / target_class[1], 2), ': 1')"
   ]
  },
  {
   "cell_type": "code",
   "execution_count": 3,
   "metadata": {
    "colab": {
     "base_uri": "https://localhost:8080/",
     "height": 278
    },
    "id": "ODoKTKSTVdRW",
    "outputId": "9aa50523-efcc-4707-8cd6-8389d2508360"
   },
   "outputs": [
    {
     "data": {
      "text/plain": [
       "employee_id                0\n",
       "department                 0\n",
       "region                     0\n",
       "education               2409\n",
       "gender                     0\n",
       "recruitment_channel        0\n",
       "no_of_trainings            0\n",
       "age                        0\n",
       "previous_year_rating    4124\n",
       "length_of_service          0\n",
       "KPIs_met >80%              0\n",
       "awards_won?                0\n",
       "avg_training_score         0\n",
       "is_promoted                0\n",
       "dtype: int64"
      ]
     },
     "execution_count": 3,
     "metadata": {},
     "output_type": "execute_result"
    }
   ],
   "source": [
    "data.isnull().sum()"
   ]
  },
  {
   "cell_type": "code",
   "execution_count": 4,
   "metadata": {
    "id": "J8bQADhzViX0",
    "outputId": "b2bd3ddc-d36d-4c65-e7df-8a6145b940fd"
   },
   "outputs": [
    {
     "data": {
      "text/plain": [
       "employee_id             0\n",
       "department              0\n",
       "region                  0\n",
       "education               0\n",
       "gender                  0\n",
       "recruitment_channel     0\n",
       "no_of_trainings         0\n",
       "age                     0\n",
       "previous_year_rating    0\n",
       "length_of_service       0\n",
       "KPIs_met >80%           0\n",
       "awards_won?             0\n",
       "avg_training_score      0\n",
       "is_promoted             0\n",
       "dtype: int64"
      ]
     },
     "execution_count": 4,
     "metadata": {},
     "output_type": "execute_result"
    }
   ],
   "source": [
    "# Imputing the Missing values\n",
    "data['education'].fillna(data['education'].mode()[0], inplace = True)\n",
    "data['previous_year_rating'].fillna(data['previous_year_rating'].mode()[0], inplace=True)\n",
    "data.isnull().sum()"
   ]
  },
  {
   "cell_type": "code",
   "execution_count": 5,
   "metadata": {
    "id": "V6Xj99DXjTF8",
    "outputId": "1eb0e4b0-7624-447f-c988-a5d503151871"
   },
   "outputs": [
    {
     "data": {
      "text/plain": [
       "Index([], dtype='object')"
      ]
     },
     "execution_count": 5,
     "metadata": {},
     "output_type": "execute_result"
    }
   ],
   "source": [
    "from sklearn.preprocessing import LabelEncoder\n",
    "lb = LabelEncoder()\n",
    "data['department'] = lb.fit_transform(data['department'])\n",
    "data['region'] = lb.fit_transform(data['region'])\n",
    "data['education'] = lb.fit_transform(data['education'])\n",
    "data['gender'] = lb.fit_transform(data['gender'])\n",
    "data['recruitment_channel'] = lb.fit_transform(data['recruitment_channel'])\n",
    "data.select_dtypes('object').columns"
   ]
  },
  {
   "cell_type": "code",
   "execution_count": 6,
   "metadata": {
    "id": "jheNDZYsToYn",
    "outputId": "7c5b36ee-afcc-4ff1-e9f9-e0d5fe70617d"
   },
   "outputs": [
    {
     "name": "stdout",
     "output_type": "stream",
     "text": [
      "The Shape of X:  (54808, 13)\n",
      "The Shape of y:  (54808,)\n"
     ]
    }
   ],
   "source": [
    "# Let's split the Target Data from the Dataset\n",
    "X=data.iloc[:,:-1]\n",
    "y=data.iloc[:,-1]\n",
    "print(\"The Shape of X: \", X.shape)\n",
    "print(\"The Shape of y: \", y.shape)"
   ]
  },
  {
   "cell_type": "code",
   "execution_count": 7,
   "metadata": {
    "id": "v0CSpwMZiuHW",
    "outputId": "ea0229c4-d27d-48be-874f-61a0b78744e8"
   },
   "outputs": [
    {
     "name": "stdout",
     "output_type": "stream",
     "text": [
      "The Shape of X train : (43846, 13)\n",
      "The Shape of X test : (10962, 13)\n",
      "The Shape of Y train : (43846,)\n",
      "The Shape of Y test : (10962,)\n"
     ]
    }
   ],
   "source": [
    "# Split DB into Training and Testing Sets\n",
    "\n",
    "from sklearn.model_selection import train_test_split\n",
    "X_train, X_test, y_train, y_test = train_test_split(X, y, test_size = 0.2, random_state = 0)\n",
    "print(\"The Shape of X train :\", X_train.shape)\n",
    "print(\"The Shape of X test :\", X_test.shape)\n",
    "print(\"The Shape of Y train :\", y_train.shape)\n",
    "print(\"The Shape of Y test :\", y_test.shape)"
   ]
  },
  {
   "cell_type": "markdown",
   "metadata": {
    "id": "o3CKw0JymQ0y"
   },
   "source": [
    "## 【 Machine Learning Models】\n",
    "### Logistic Regression 羅吉斯迴歸"
   ]
  },
  {
   "cell_type": "code",
   "execution_count": 8,
   "metadata": {
    "id": "lquGE3XCOvgt"
   },
   "outputs": [],
   "source": [
    "# Lets Build a Predictive Model using the Random Forest Classifier\n",
    "\n",
    "from sklearn.linear_model import LogisticRegression\n",
    "model1 = LogisticRegression()\n",
    "model1.fit(X_train,y_train)\n",
    "y_pred1 = model1.predict(X_test)"
   ]
  },
  {
   "cell_type": "code",
   "execution_count": 9,
   "metadata": {
    "id": "mrEG7i-QOvgt",
    "outputId": "95cd2a9a-2937-4d98-8b16-882e5b055d15"
   },
   "outputs": [
    {
     "name": "stdout",
     "output_type": "stream",
     "text": [
      "0.9159824849480022\n",
      "              precision    recall  f1-score   support\n",
      "\n",
      "           0       0.92      1.00      0.96     10041\n",
      "           1       0.00      0.00      0.00       921\n",
      "\n",
      "    accuracy                           0.92     10962\n",
      "   macro avg       0.46      0.50      0.48     10962\n",
      "weighted avg       0.84      0.92      0.88     10962\n",
      "\n"
     ]
    },
    {
     "name": "stderr",
     "output_type": "stream",
     "text": [
      "C:\\Users\\cti110016\\Anaconda3\\lib\\site-packages\\sklearn\\metrics\\_classification.py:1308: UndefinedMetricWarning: Precision and F-score are ill-defined and being set to 0.0 in labels with no predicted samples. Use `zero_division` parameter to control this behavior.\n",
      "  _warn_prf(average, modifier, msg_start, len(result))\n",
      "C:\\Users\\cti110016\\Anaconda3\\lib\\site-packages\\sklearn\\metrics\\_classification.py:1308: UndefinedMetricWarning: Precision and F-score are ill-defined and being set to 0.0 in labels with no predicted samples. Use `zero_division` parameter to control this behavior.\n",
      "  _warn_prf(average, modifier, msg_start, len(result))\n",
      "C:\\Users\\cti110016\\Anaconda3\\lib\\site-packages\\sklearn\\metrics\\_classification.py:1308: UndefinedMetricWarning: Precision and F-score are ill-defined and being set to 0.0 in labels with no predicted samples. Use `zero_division` parameter to control this behavior.\n",
      "  _warn_prf(average, modifier, msg_start, len(result))\n"
     ]
    }
   ],
   "source": [
    "from sklearn.metrics import classification_report, accuracy_score\n",
    "print(accuracy_score(y_test, y_pred1))\n",
    "print(classification_report(y_test, y_pred1))"
   ]
  },
  {
   "cell_type": "markdown",
   "metadata": {
    "id": "MruVtdgBOvgu"
   },
   "source": [
    "###  Random Forest 隨機森林"
   ]
  },
  {
   "cell_type": "code",
   "execution_count": 10,
   "metadata": {
    "id": "cnz2pq_siopx"
   },
   "outputs": [],
   "source": [
    "# Lets Build a Predictive Model using the Random Forest Classifier\n",
    "\n",
    "from sklearn.ensemble import RandomForestClassifier\n",
    "model = RandomForestClassifier()\n",
    "model.fit(X_train,y_train)\n",
    "y_pred = model.predict(X_test)"
   ]
  },
  {
   "cell_type": "code",
   "execution_count": 11,
   "metadata": {
    "colab": {
     "base_uri": "https://localhost:8080/",
     "height": 317
    },
    "id": "DyaVXRPakxNP",
    "outputId": "376a3a04-c4ef-427e-d642-64ec824f05b3",
    "scrolled": true
   },
   "outputs": [
    {
     "name": "stdout",
     "output_type": "stream",
     "text": [
      "0.9347746761539865\n",
      "              precision    recall  f1-score   support\n",
      "\n",
      "           0       0.94      1.00      0.97     10041\n",
      "           1       0.90      0.25      0.39       921\n",
      "\n",
      "    accuracy                           0.93     10962\n",
      "   macro avg       0.92      0.62      0.68     10962\n",
      "weighted avg       0.93      0.93      0.92     10962\n",
      "\n"
     ]
    }
   ],
   "source": [
    "from sklearn.metrics import classification_report, accuracy_score\n",
    "print(accuracy_score(y_test, y_pred))\n",
    "print(classification_report(y_test, y_pred))"
   ]
  },
  {
   "cell_type": "markdown",
   "metadata": {},
   "source": [
    "## 【Random Sampling 隨機採樣法】\n",
    "### Random OverSampling 隨機過採"
   ]
  },
  {
   "cell_type": "code",
   "execution_count": 12,
   "metadata": {
    "colab": {
     "base_uri": "https://localhost:8080/",
     "height": 72
    },
    "id": "5qYedVitTR5K",
    "outputId": "e52931ab-cf1f-425d-b4a4-ec264a81d851"
   },
   "outputs": [
    {
     "data": {
      "text/plain": [
       "1    50140\n",
       "0    50140\n",
       "Name: is_promoted, dtype: int64"
      ]
     },
     "execution_count": 12,
     "metadata": {},
     "output_type": "execute_result"
    }
   ],
   "source": [
    "from imblearn.over_sampling import RandomOverSampler\n",
    "ros = RandomOverSampler(random_state=0)\n",
    "ros.fit(X, y)\n",
    "X_resampled, y_resampled = ros.fit_resample(X, y)\n",
    "y_resampled.value_counts()"
   ]
  },
  {
   "cell_type": "code",
   "execution_count": 13,
   "metadata": {
    "id": "Nsm8PnN4lVND",
    "outputId": "0d90e1a4-358b-4539-fa29-d051ddc5eaa0"
   },
   "outputs": [
    {
     "name": "stdout",
     "output_type": "stream",
     "text": [
      "The Shape of X train : (80224, 13)\n",
      "The Shape of X test : (20056, 13)\n",
      "The Shape of Y train : (80224,)\n",
      "The Shape of Y test : (20056,)\n"
     ]
    }
   ],
   "source": [
    "# Splitting the dataset\n",
    "X_train_re, X_test_re, y_train_re, y_test_re =train_test_split(X_resampled, y_resampled,\n",
    "                                                               test_size=0.2, random_state=0)\n",
    "print(\"The Shape of X train :\", X_train_re.shape)\n",
    "print(\"The Shape of X test :\", X_test_re.shape)\n",
    "print(\"The Shape of Y train :\", y_train_re.shape)\n",
    "print(\"The Shape of Y test :\", y_test_re.shape)"
   ]
  },
  {
   "cell_type": "code",
   "execution_count": 14,
   "metadata": {
    "id": "_r1l7Hihlu8e"
   },
   "outputs": [],
   "source": [
    "# Lets Build a Predictive Model using the Random Forest Classifier\n",
    "\n",
    "from sklearn.ensemble import RandomForestClassifier\n",
    "model2 = RandomForestClassifier()\n",
    "model2.fit(X_train_re, y_train_re)\n",
    "y_pred_re = model2.predict(X_test_re) # Predictions for the X test"
   ]
  },
  {
   "cell_type": "code",
   "execution_count": 15,
   "metadata": {
    "colab": {
     "base_uri": "https://localhost:8080/",
     "height": 191
    },
    "id": "whI11P4al3Ax",
    "outputId": "fd8bfc27-b85f-47ae-d3a8-7ef3814e6e39"
   },
   "outputs": [
    {
     "name": "stdout",
     "output_type": "stream",
     "text": [
      "0.9920223374551257\n",
      "              precision    recall  f1-score   support\n",
      "\n",
      "           0       1.00      0.98      0.99      9981\n",
      "           1       0.98      1.00      0.99     10075\n",
      "\n",
      "    accuracy                           0.99     20056\n",
      "   macro avg       0.99      0.99      0.99     20056\n",
      "weighted avg       0.99      0.99      0.99     20056\n",
      "\n"
     ]
    }
   ],
   "source": [
    "# Accuracy score and classification report\n",
    "\n",
    "from sklearn.metrics import classification_report, accuracy_score\n",
    "print(accuracy_score(y_test_re, y_pred_re))\n",
    "print(classification_report(y_test_re, y_pred_re))"
   ]
  },
  {
   "cell_type": "markdown",
   "metadata": {
    "id": "L-wO2St3Ovg0"
   },
   "source": [
    "### Random Undersampling 隨機欠採樣 "
   ]
  },
  {
   "cell_type": "code",
   "execution_count": 16,
   "metadata": {
    "id": "wRDITHMAOvg2"
   },
   "outputs": [],
   "source": [
    "from imblearn.under_sampling import RandomUnderSampler\n",
    "ros = RandomUnderSampler(random_state=0)\n",
    "ros.fit(X, y)\n",
    "X_resampled2, y_resampled2 = ros.fit_resample(X, y) # Making the Samples"
   ]
  },
  {
   "cell_type": "code",
   "execution_count": 17,
   "metadata": {
    "id": "wqpVQ66yOvg3",
    "outputId": "1a0ee61d-f87c-46e8-d279-3dd2812a2be8"
   },
   "outputs": [
    {
     "data": {
      "text/plain": [
       "1    4668\n",
       "0    4668\n",
       "Name: is_promoted, dtype: int64"
      ]
     },
     "execution_count": 17,
     "metadata": {},
     "output_type": "execute_result"
    }
   ],
   "source": [
    "# lets check the Class Distribution\n",
    "y_resampled2.value_counts()"
   ]
  },
  {
   "cell_type": "code",
   "execution_count": 18,
   "metadata": {
    "id": "aX5Fm7AOOvg6",
    "outputId": "5a9f8d3a-faf0-4129-8ba9-6134bc1b98d8"
   },
   "outputs": [
    {
     "name": "stdout",
     "output_type": "stream",
     "text": [
      "The Shape of X train : (7468, 13)\n",
      "The Shape of X test : (1868, 13)\n",
      "The Shape of Y train : (7468,)\n",
      "The Shape of Y test : (1868,)\n"
     ]
    }
   ],
   "source": [
    "# Splitting the dataset\n",
    "X_train_us, X_test_us, y_train_us, y_test_us =train_test_split(X_resampled2, y_resampled2,\n",
    "                                                               test_size=0.2, random_state=0)\n",
    "print(\"The Shape of X train :\", X_train_us.shape)\n",
    "print(\"The Shape of X test :\", X_test_us.shape)\n",
    "print(\"The Shape of Y train :\", y_train_us.shape)\n",
    "print(\"The Shape of Y test :\", y_test_us.shape)"
   ]
  },
  {
   "cell_type": "code",
   "execution_count": 19,
   "metadata": {
    "id": "a-6nsQpJOvg8"
   },
   "outputs": [],
   "source": [
    "# Lets Build a Predictive Model using the Random Forest Classifier\n",
    "\n",
    "from sklearn.ensemble import RandomForestClassifier\n",
    "model3 = RandomForestClassifier()\n",
    "model3.fit(X_train_us, y_train_us)\n",
    "y_pred_us = model3.predict(X_test_us) # Predictions for the X test"
   ]
  },
  {
   "cell_type": "code",
   "execution_count": 20,
   "metadata": {
    "id": "cRISjy33OvhD",
    "outputId": "7d1d584f-d25f-45dd-fe8c-7a23daa4cb44"
   },
   "outputs": [
    {
     "name": "stdout",
     "output_type": "stream",
     "text": [
      "0.7906852248394004\n",
      "              precision    recall  f1-score   support\n",
      "\n",
      "           0       0.85      0.71      0.77       929\n",
      "           1       0.75      0.87      0.81       939\n",
      "\n",
      "    accuracy                           0.79      1868\n",
      "   macro avg       0.80      0.79      0.79      1868\n",
      "weighted avg       0.80      0.79      0.79      1868\n",
      "\n"
     ]
    }
   ],
   "source": [
    "# Accuracy score and classification report\n",
    "\n",
    "from sklearn.metrics import classification_report, accuracy_score\n",
    "print(accuracy_score(y_test_us, y_pred_us))\n",
    "print(classification_report(y_test_us, y_pred_us))"
   ]
  },
  {
   "cell_type": "markdown",
   "metadata": {
    "id": "sAiJdCiTOvhH"
   },
   "source": [
    "### Synthetic Sampling (SMOTE) 相似合成採樣"
   ]
  },
  {
   "cell_type": "code",
   "execution_count": 21,
   "metadata": {
    "id": "Ata429zgOvhI"
   },
   "outputs": [],
   "source": [
    "from imblearn.over_sampling import SMOTE\n",
    "sm = SMOTE(random_state=0)\n",
    "sm.fit(X, y)\n",
    "X_resampled3, y_resampled3 = sm.fit_resample(X, y) # Making the Samples"
   ]
  },
  {
   "cell_type": "code",
   "execution_count": 22,
   "metadata": {
    "id": "GlVjVfFbOvhL",
    "outputId": "16611e29-a032-4c7b-bd42-afed892e80b8"
   },
   "outputs": [
    {
     "data": {
      "text/plain": [
       "1    50140\n",
       "0    50140\n",
       "Name: is_promoted, dtype: int64"
      ]
     },
     "execution_count": 22,
     "metadata": {},
     "output_type": "execute_result"
    }
   ],
   "source": [
    "# lets check the Class Distribution\n",
    "y_resampled3.value_counts()"
   ]
  },
  {
   "cell_type": "code",
   "execution_count": 23,
   "metadata": {
    "id": "3HIejbS7OvhM",
    "outputId": "e86ed9b8-4787-4c6c-9a97-5e095f4ff509"
   },
   "outputs": [
    {
     "name": "stdout",
     "output_type": "stream",
     "text": [
      "The Shape of X train : (80224, 13)\n",
      "The Shape of X test : (20056, 13)\n",
      "The Shape of Y train : (80224,)\n",
      "The Shape of Y test : (20056,)\n"
     ]
    }
   ],
   "source": [
    "# Splitting the dataset\n",
    "X_train_sm, X_test_sm, y_train_sm, y_test_sm =train_test_split(X_resampled3, y_resampled3,\n",
    "                                                               test_size=0.2, random_state=0)\n",
    "print(\"The Shape of X train :\", X_train_sm.shape)\n",
    "print(\"The Shape of X test :\", X_test_sm.shape)\n",
    "print(\"The Shape of Y train :\", y_train_sm.shape)\n",
    "print(\"The Shape of Y test :\", y_test_sm.shape)"
   ]
  },
  {
   "cell_type": "code",
   "execution_count": 24,
   "metadata": {
    "id": "rw3d6vJbOvhN"
   },
   "outputs": [],
   "source": [
    "# Lets Build a Predictive Model using the Random Forest Classifier\n",
    "\n",
    "from sklearn.ensemble import RandomForestClassifier\n",
    "model4 = RandomForestClassifier()\n",
    "model4.fit(X_train_sm, y_train_sm)\n",
    "y_pred_sm = model4.predict(X_test_sm) # Predictions for the X test"
   ]
  },
  {
   "cell_type": "code",
   "execution_count": 25,
   "metadata": {
    "id": "I0y2sY-yOvhO",
    "outputId": "17ee5c68-4881-4714-892b-dbca234fb7b8"
   },
   "outputs": [
    {
     "name": "stdout",
     "output_type": "stream",
     "text": [
      "0.9474471479856402\n",
      "              precision    recall  f1-score   support\n",
      "\n",
      "           0       0.93      0.97      0.95      9981\n",
      "           1       0.97      0.93      0.95     10075\n",
      "\n",
      "    accuracy                           0.95     20056\n",
      "   macro avg       0.95      0.95      0.95     20056\n",
      "weighted avg       0.95      0.95      0.95     20056\n",
      "\n"
     ]
    }
   ],
   "source": [
    "# Accuracy score and classification report\n",
    "\n",
    "from sklearn.metrics import classification_report, accuracy_score\n",
    "print(accuracy_score(y_test_sm, y_pred_sm))\n",
    "print(classification_report(y_test_sm, y_pred_sm))"
   ]
  },
  {
   "cell_type": "markdown",
   "metadata": {
    "id": "Ud30iMWeOvhO"
   },
   "source": [
    "## Using Neighbors Based Sampling"
   ]
  },
  {
   "cell_type": "code",
   "execution_count": 26,
   "metadata": {
    "id": "uBAv8x25OvhP"
   },
   "outputs": [],
   "source": [
    "from imblearn.under_sampling import EditedNearestNeighbours\n",
    "enn = EditedNearestNeighbours()\n",
    "enn.fit(X, y)\n",
    "X_resampled4, y_resampled4 = enn.fit_resample(X, y) # Making the Samples"
   ]
  },
  {
   "cell_type": "code",
   "execution_count": 27,
   "metadata": {
    "id": "e69iui4NOvhP",
    "outputId": "4525c145-24dc-483e-ae08-7f71c97b184a"
   },
   "outputs": [
    {
     "data": {
      "text/plain": [
       "0    39220\n",
       "1     4668\n",
       "Name: is_promoted, dtype: int64"
      ]
     },
     "execution_count": 27,
     "metadata": {},
     "output_type": "execute_result"
    }
   ],
   "source": [
    "# lets check the Class Distribution\n",
    "y_resampled4.value_counts()"
   ]
  },
  {
   "cell_type": "code",
   "execution_count": 28,
   "metadata": {
    "id": "JAoIGrAgOvhQ",
    "outputId": "2de11d80-ae2a-4359-c701-156424306cc4"
   },
   "outputs": [
    {
     "name": "stdout",
     "output_type": "stream",
     "text": [
      "The Shape of X train : (35110, 13)\n",
      "The Shape of X test : (8778, 13)\n",
      "The Shape of Y train : (35110,)\n",
      "The Shape of Y test : (8778,)\n"
     ]
    }
   ],
   "source": [
    "# Splitting the dataset\n",
    "X_train_enn, X_test_enn, y_train_enn, y_test_enn =train_test_split(X_resampled4, y_resampled4,\n",
    "                                                               test_size=0.2, random_state=0)\n",
    "print(\"The Shape of X train :\", X_train_enn.shape)\n",
    "print(\"The Shape of X test :\", X_test_enn.shape)\n",
    "print(\"The Shape of Y train :\", y_train_enn.shape)\n",
    "print(\"The Shape of Y test :\", y_test_enn.shape)"
   ]
  },
  {
   "cell_type": "code",
   "execution_count": 29,
   "metadata": {
    "id": "FoVptj7mOvhQ"
   },
   "outputs": [],
   "source": [
    "# Lets Build a Predictive Model using the Random Forest Classifier\n",
    "\n",
    "from sklearn.ensemble import RandomForestClassifier\n",
    "model5 = RandomForestClassifier()\n",
    "model5.fit(X_train_enn, y_train_enn)\n",
    "y_pred_enn = model5.predict(X_test_enn)"
   ]
  },
  {
   "cell_type": "code",
   "execution_count": 30,
   "metadata": {
    "id": "pUP4cpiWOvhR",
    "outputId": "b13de373-3ba1-46c9-e830-30cec2f12720"
   },
   "outputs": [
    {
     "name": "stdout",
     "output_type": "stream",
     "text": [
      "0.9141034404192299\n",
      "              precision    recall  f1-score   support\n",
      "\n",
      "           0       0.92      0.99      0.95      7785\n",
      "           1       0.86      0.29      0.43       993\n",
      "\n",
      "    accuracy                           0.91      8778\n",
      "   macro avg       0.89      0.64      0.69      8778\n",
      "weighted avg       0.91      0.91      0.89      8778\n",
      "\n"
     ]
    }
   ],
   "source": [
    "# Accuracy score and classification report\n",
    "\n",
    "from sklearn.metrics import classification_report, accuracy_score\n",
    "print(accuracy_score(y_test_enn, y_pred_enn))\n",
    "print(classification_report(y_test_enn, y_pred_enn))"
   ]
  },
  {
   "cell_type": "markdown",
   "metadata": {
    "id": "vasdjuw6OvhT"
   },
   "source": [
    "## Combination of Over and UnderSampling"
   ]
  },
  {
   "cell_type": "code",
   "execution_count": 31,
   "metadata": {
    "id": "VN3rtNrWOvhV"
   },
   "outputs": [],
   "source": [
    "from imblearn.combine import SMOTEENN\n",
    "sn = SMOTEENN(random_state = 0)\n",
    "sn.fit(X, y)\n",
    "X_resampled5, y_resampled5 = sn.fit_resample(X, y) # Making the Samples"
   ]
  },
  {
   "cell_type": "code",
   "execution_count": 32,
   "metadata": {
    "id": "HO8NbiWLOvhW",
    "outputId": "f422b604-ad6e-48c5-e6ef-315abda1b66d"
   },
   "outputs": [
    {
     "data": {
      "text/plain": [
       "1    42331\n",
       "0    26832\n",
       "Name: is_promoted, dtype: int64"
      ]
     },
     "execution_count": 32,
     "metadata": {},
     "output_type": "execute_result"
    }
   ],
   "source": [
    "# lets check the Class Distribution\n",
    "y_resampled5.value_counts()"
   ]
  },
  {
   "cell_type": "code",
   "execution_count": 33,
   "metadata": {
    "id": "KPX5OdU9OvhY",
    "outputId": "b0b04251-0eb2-4d98-8c43-c61efe27df53"
   },
   "outputs": [
    {
     "name": "stdout",
     "output_type": "stream",
     "text": [
      "The Shape of X train : (55330, 13)\n",
      "The Shape of X test : (13833, 13)\n",
      "The Shape of Y train : (55330,)\n",
      "The Shape of Y test : (13833,)\n"
     ]
    }
   ],
   "source": [
    "# Splitting the dataset\n",
    "X_train_sn, X_test_sn, y_train_sn, y_test_sn =train_test_split(X_resampled5, y_resampled5,\n",
    "                                                               test_size=0.2, random_state=0)\n",
    "\n",
    "print(\"The Shape of X train :\", X_train_sn.shape)\n",
    "print(\"The Shape of X test :\", X_test_sn.shape)\n",
    "print(\"The Shape of Y train :\", y_train_sn.shape)\n",
    "print(\"The Shape of Y test :\", y_test_sn.shape)"
   ]
  },
  {
   "cell_type": "code",
   "execution_count": 34,
   "metadata": {
    "id": "pmCFSn2xOvhZ"
   },
   "outputs": [],
   "source": [
    "# Lets Build a Predictive Model using the Random Forest Classifier\n",
    "\n",
    "from sklearn.ensemble import RandomForestClassifier\n",
    "model6 = RandomForestClassifier()\n",
    "model6.fit(X_train_sn, y_train_sn)\n",
    "y_pred_sn = model6.predict(X_test_sn)"
   ]
  },
  {
   "cell_type": "code",
   "execution_count": 35,
   "metadata": {
    "id": "3fH1MuQ8Ovha",
    "outputId": "3d540c87-95c6-4d2d-f268-69a2377dfc2e"
   },
   "outputs": [
    {
     "name": "stdout",
     "output_type": "stream",
     "text": [
      "0.9383358635147835\n",
      "              precision    recall  f1-score   support\n",
      "\n",
      "           0       0.91      0.93      0.92      5203\n",
      "           1       0.96      0.94      0.95      8630\n",
      "\n",
      "    accuracy                           0.94     13833\n",
      "   macro avg       0.93      0.94      0.93     13833\n",
      "weighted avg       0.94      0.94      0.94     13833\n",
      "\n"
     ]
    }
   ],
   "source": [
    "# Accuracy score and classification report\n",
    "\n",
    "from sklearn.metrics import classification_report, accuracy_score\n",
    "print(accuracy_score(y_test_sn, y_pred_sn))\n",
    "print(classification_report(y_test_sn, y_pred_sn))"
   ]
  },
  {
   "cell_type": "markdown",
   "metadata": {
    "id": "IFgWvZNQOvha"
   },
   "source": [
    "## Using Ensemble Models"
   ]
  },
  {
   "cell_type": "markdown",
   "metadata": {
    "id": "7j6eVZiJOvhc"
   },
   "source": [
    "### Balanced Random Forest Classifier"
   ]
  },
  {
   "cell_type": "code",
   "execution_count": 36,
   "metadata": {
    "id": "2kZR3FAoOvhc"
   },
   "outputs": [],
   "source": [
    "from imblearn.ensemble import BalancedRandomForestClassifier\n",
    "model8 = BalancedRandomForestClassifier(random_state = 0)\n",
    "model8.fit(X_train, y_train)\n",
    "y_pred_rf = model8.predict(X_test) # Predictions for the X test"
   ]
  },
  {
   "cell_type": "code",
   "execution_count": 37,
   "metadata": {
    "id": "cjTbGmcoOvhc",
    "outputId": "87ea8cae-b09e-459e-e80e-f1e5017506f2"
   },
   "outputs": [
    {
     "name": "stdout",
     "output_type": "stream",
     "text": [
      "0.7298850574712644\n",
      "              precision    recall  f1-score   support\n",
      "\n",
      "           0       0.99      0.71      0.83     10041\n",
      "           1       0.22      0.90      0.36       921\n",
      "\n",
      "    accuracy                           0.73     10962\n",
      "   macro avg       0.61      0.81      0.59     10962\n",
      "weighted avg       0.92      0.73      0.79     10962\n",
      "\n"
     ]
    }
   ],
   "source": [
    "# Accuracy score and classification report\n",
    "\n",
    "from sklearn.metrics import classification_report, accuracy_score\n",
    "print(accuracy_score(y_test, y_pred_rf))\n",
    "print(classification_report(y_test, y_pred_rf))"
   ]
  },
  {
   "cell_type": "markdown",
   "metadata": {
    "id": "X57fGzIvOvhd"
   },
   "source": [
    "## Using XG Boost Classifier"
   ]
  },
  {
   "cell_type": "code",
   "execution_count": 38,
   "metadata": {
    "id": "428lI0IwOvhe"
   },
   "outputs": [
    {
     "name": "stderr",
     "output_type": "stream",
     "text": [
      "C:\\Users\\cti110016\\Anaconda3\\lib\\site-packages\\xgboost\\sklearn.py:1224: UserWarning: The use of label encoder in XGBClassifier is deprecated and will be removed in a future release. To remove this warning, do the following: 1) Pass option use_label_encoder=False when constructing XGBClassifier object; and 2) Encode your labels (y) as integers starting with 0, i.e. 0, 1, 2, ..., [num_class - 1].\n",
      "  warnings.warn(label_encoder_deprecation_msg, UserWarning)\n"
     ]
    },
    {
     "name": "stdout",
     "output_type": "stream",
     "text": [
      "[17:47:11] WARNING: C:/Users/Administrator/workspace/xgboost-win64_release_1.5.1/src/learner.cc:1115: Starting in XGBoost 1.3.0, the default evaluation metric used with the objective 'binary:logistic' was changed from 'error' to 'logloss'. Explicitly set eval_metric if you'd like to restore the old behavior.\n"
     ]
    }
   ],
   "source": [
    "from xgboost import XGBClassifier\n",
    "model9 = XGBClassifier(scale_pos_weight = 10)\n",
    "model9.fit(X_train, y_train)\n",
    "y_pred_xgb = model9.predict(X_test) # Predictions for the X test"
   ]
  },
  {
   "cell_type": "code",
   "execution_count": 39,
   "metadata": {
    "id": "2R4WTKo9Ovhe",
    "outputId": "e2920dcc-3df4-4455-a6f0-aa616cb089f3"
   },
   "outputs": [
    {
     "name": "stdout",
     "output_type": "stream",
     "text": [
      "0.8375296478744755\n",
      "              precision    recall  f1-score   support\n",
      "\n",
      "           0       0.97      0.85      0.91     10041\n",
      "           1       0.30      0.72      0.43       921\n",
      "\n",
      "    accuracy                           0.84     10962\n",
      "   macro avg       0.64      0.78      0.67     10962\n",
      "weighted avg       0.91      0.84      0.87     10962\n",
      "\n"
     ]
    }
   ],
   "source": [
    "# Accuracy score and classification report\n",
    "\n",
    "from sklearn.metrics import classification_report, accuracy_score\n",
    "print(accuracy_score(y_test, y_pred_xgb))\n",
    "print(classification_report(y_test, y_pred_xgb))"
   ]
  },
  {
   "cell_type": "markdown",
   "metadata": {
    "id": "LUsYeVixOvhf"
   },
   "source": [
    "### Conclussion: \n",
    "\n",
    "* Without Resampling: Recall = 25%\n",
    "* With Oversampling: Recall = 98%\n",
    "* With undersampling: Recall = 71%\n",
    "\n",
    "```We can see that Oversampling Performs better than Undersampling, as Undersampling leads to Huge Data Loss, making it Difficult for the Model to Learn the Rules Effectively.```"
   ]
  }
 ],
 "metadata": {
  "colab": {
   "name": "Dealing with Imbalanced Datasets.ipynb",
   "provenance": []
  },
  "kernelspec": {
   "display_name": "Python 3",
   "language": "python",
   "name": "python3"
  },
  "language_info": {
   "codemirror_mode": {
    "name": "ipython",
    "version": 3
   },
   "file_extension": ".py",
   "mimetype": "text/x-python",
   "name": "python",
   "nbconvert_exporter": "python",
   "pygments_lexer": "ipython3",
   "version": "3.8.5"
  }
 },
 "nbformat": 4,
 "nbformat_minor": 1
}
