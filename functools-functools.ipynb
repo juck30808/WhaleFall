{
 "cells": [
  {
   "cell_type": "code",
   "execution_count": 2,
   "metadata": {},
   "outputs": [
    {
     "name": "stdout",
     "output_type": "stream",
     "text": [
      "çağırdığınız metot ismi: add\n",
      "metot bilgisi: fonksiyona gönderilen 2 sayıyı toplar.\n",
      "30\n",
      "add\n",
      "fonksiyona gönderilen 2 sayıyı toplar.\n"
     ]
    }
   ],
   "source": [
    "from functools import wraps\n",
    "\n",
    "def log_data(fn):\n",
    "    @wraps(fn)\n",
    "    def wrapper(*args,**kwargs):\n",
    "        \"\"\"wrapper hakkinda bilgilendir\"\"\"\n",
    "        print(f\"çağırdığınız metot ismi: {fn.__name__}\")\n",
    "        print(f\"metot bilgisi: {fn.__doc__}\")\n",
    "        return fn(*args,**kwargs)\n",
    "    return wrapper\n",
    "\n",
    "@log_data\n",
    "def add(x,y):\n",
    "    \"\"\"fonksiyona gönderilen 2 sayıyı toplar.\"\"\"\n",
    "    return x+y\n",
    "\n",
    "print(add(10,20))\n",
    "\n",
    "print(add.__name__)\n",
    "print(add.__doc__)"
   ]
  },
  {
   "cell_type": "code",
   "execution_count": 3,
   "metadata": {},
   "outputs": [
    {
     "name": "stdout",
     "output_type": "stream",
     "text": [
      "17\n"
     ]
    }
   ],
   "source": [
    "from functools import reduce\n",
    "def sum(a,b):\n",
    "    return a+b\n",
    "print(reduce(sum,[2,5,6,4]))\n"
   ]
  },
  {
   "cell_type": "code",
   "execution_count": null,
   "metadata": {},
   "outputs": [],
   "source": []
  }
 ],
 "metadata": {
  "kernelspec": {
   "display_name": "Python 3 (ipykernel)",
   "language": "python",
   "name": "python3"
  },
  "language_info": {
   "codemirror_mode": {
    "name": "ipython",
    "version": 3
   },
   "file_extension": ".py",
   "mimetype": "text/x-python",
   "name": "python",
   "nbconvert_exporter": "python",
   "pygments_lexer": "ipython3",
   "version": "3.9.7"
  }
 },
 "nbformat": 4,
 "nbformat_minor": 4
}
