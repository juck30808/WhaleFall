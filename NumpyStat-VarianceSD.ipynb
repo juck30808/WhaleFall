{
 "cells": [
  {
   "cell_type": "markdown",
   "metadata": {},
   "source": [
    "## Numpy Statistical Functions - Variance / Standard Deviation"
   ]
  },
  {
   "cell_type": "markdown",
   "metadata": {},
   "source": [
    "### <center>Variance</center>\n",
    "###### <center>Average of the squared deviations from the mean</center>\n",
    "## $$\\sigma^2 = \\frac{\\sum_{i=1}^{N} (x_i - \\mu)^2}{N}$$\n",
    "<center><i> N: no.of observations <br> </i></center>\n",
    "<center><i> $x_i$ : value of ith observation</i></center>\n",
    "<center><i> $\\mu$ : Mean</i></center>"
   ]
  },
  {
   "cell_type": "markdown",
   "metadata": {},
   "source": [
    "### <center>Standard Deviation STD DEV       ($\\sigma$)</center>\n",
    "###### <center>Square Root of the variance</center>\n",
    "## $$\\sigma = \\sqrt\\frac{\\sum_{i=1}^{N} (x_i - \\mu)^2}{N}$$\n",
    "<center><i> N: no.of observations <br> </i></center>\n",
    "<center><i> $x_i$ : value of ith observation</i></center>\n",
    "<center><i> $\\mu$ : Mean</i></center>"
   ]
  },
  {
   "cell_type": "code",
   "execution_count": 2,
   "metadata": {},
   "outputs": [],
   "source": [
    "import numpy as np\n",
    "y = np.array([4, 8, 10, 12, 15, 19, 20, 24])"
   ]
  },
  {
   "cell_type": "code",
   "execution_count": 3,
   "metadata": {},
   "outputs": [
    {
     "name": "stdout",
     "output_type": "stream",
     "text": [
      "variance: 39.75\n"
     ]
    }
   ],
   "source": [
    "#variance\n",
    "variance = np.var(y)\n",
    "print('variance:',variance)"
   ]
  },
  {
   "cell_type": "code",
   "execution_count": 4,
   "metadata": {},
   "outputs": [
    {
     "name": "stdout",
     "output_type": "stream",
     "text": [
      "Standard Deviation: 6.304760106459246\n"
     ]
    }
   ],
   "source": [
    "#standard deviation\n",
    "std_dev= np.std(y)\n",
    "print('Standard Deviation:',std_dev)"
   ]
  },
  {
   "cell_type": "markdown",
   "metadata": {},
   "source": [
    "###### sample variance / standard deviation"
   ]
  },
  {
   "cell_type": "markdown",
   "metadata": {},
   "source": [
    "### <center>Sample Variance</center>\n",
    "## $$s^2 = \\frac{\\sum_{i=1}^{n} (x_i - \\bar{x})^2}{(n-1)}$$\n",
    "<center><i> n: no.of observations <br> </i></center>\n",
    "<center><i> $x_i$ : value of ith observation</i></center>\n",
    "<center><i> $\\bar{x}$ : Sample Mean</i></center>"
   ]
  },
  {
   "cell_type": "markdown",
   "metadata": {},
   "source": [
    "### <center>Sample Standard Deviation</center>\n",
    "## $$s = \\sqrt\\frac{\\sum_{i=1}^{n} (x_i - \\bar{x})^2}{(n-1)}$$\n",
    "<center><i> n: no.of observations <br> </i></center>\n",
    "<center><i> $x_i$ : value of ith observation</i></center>\n",
    "<center><i> $\\bar{x}$ : Sample Mean</i></center>"
   ]
  },
  {
   "cell_type": "code",
   "execution_count": 5,
   "metadata": {},
   "outputs": [
    {
     "name": "stdout",
     "output_type": "stream",
     "text": [
      "sample variance: 45.42857142857143\n"
     ]
    }
   ],
   "source": [
    "#sample variance by passing ddof = 1 \n",
    "variance = np.var(y, ddof=1)\n",
    "print('sample variance:',variance)"
   ]
  },
  {
   "cell_type": "code",
   "execution_count": 6,
   "metadata": {},
   "outputs": [
    {
     "name": "stdout",
     "output_type": "stream",
     "text": [
      "sample standard deviation: 6.740072064048828\n"
     ]
    }
   ],
   "source": [
    "#sample standard deviation by passing ddof = 1 \n",
    "std_dev= np.std(y, ddof=1)\n",
    "print('sample standard deviation:',std_dev)"
   ]
  },
  {
   "cell_type": "markdown",
   "metadata": {},
   "source": [
    "2D Array"
   ]
  },
  {
   "cell_type": "code",
   "execution_count": 7,
   "metadata": {},
   "outputs": [
    {
     "data": {
      "text/plain": [
       "array([[93, 76, 31, 88],\n",
       "       [23, 77, 42, 45],\n",
       "       [95, 22, 91, 30],\n",
       "       [68, 95, 42, 59],\n",
       "       [92, 90, 80, 62],\n",
       "       [45, 99, 33, 24],\n",
       "       [56, 77, 16, 97]])"
      ]
     },
     "execution_count": 7,
     "metadata": {},
     "output_type": "execute_result"
    }
   ],
   "source": [
    "np.random.seed(5)\n",
    "x= np.random.randint(low=15,high=100,size=(7,4))\n",
    "x"
   ]
  },
  {
   "cell_type": "markdown",
   "metadata": {},
   "source": [
    "###### axis = 0"
   ]
  },
  {
   "cell_type": "code",
   "execution_count": 8,
   "metadata": {},
   "outputs": [
    {
     "data": {
      "text/plain": [
       "array([660.81632653, 571.67346939, 640.40816327, 649.55102041])"
      ]
     },
     "execution_count": 8,
     "metadata": {},
     "output_type": "execute_result"
    }
   ],
   "source": [
    "#compute variance \n",
    "np.var(x,axis=0)"
   ]
  },
  {
   "cell_type": "code",
   "execution_count": 9,
   "metadata": {},
   "outputs": [
    {
     "data": {
      "text/plain": [
       "array([25.70634798, 23.90969405, 25.30628703, 25.48629083])"
      ]
     },
     "execution_count": 9,
     "metadata": {},
     "output_type": "execute_result"
    }
   ],
   "source": [
    "#compute standard deviation \n",
    "np.std(x,axis=0)"
   ]
  },
  {
   "cell_type": "markdown",
   "metadata": {},
   "source": [
    "###### axis = 1"
   ]
  },
  {
   "cell_type": "code",
   "execution_count": 10,
   "metadata": {},
   "outputs": [
    {
     "data": {
      "text/plain": [
       "array([ 598.5   ,  376.1875, 1132.25  ,  367.5   ,  141.    ,  847.6875,\n",
       "        900.25  ])"
      ]
     },
     "execution_count": 10,
     "metadata": {},
     "output_type": "execute_result"
    }
   ],
   "source": [
    "#compute variance \n",
    "np.var(x,axis=1)"
   ]
  },
  {
   "cell_type": "code",
   "execution_count": 11,
   "metadata": {},
   "outputs": [
    {
     "data": {
      "text/plain": [
       "array([24.46425965, 19.39555361, 33.64892272, 19.17028951, 11.87434209,\n",
       "       29.11507342, 30.00416638])"
      ]
     },
     "execution_count": 11,
     "metadata": {},
     "output_type": "execute_result"
    }
   ],
   "source": [
    "#compute standard deviation \n",
    "np.std(x,axis=1)"
   ]
  },
  {
   "cell_type": "code",
   "execution_count": 12,
   "metadata": {},
   "outputs": [
    {
     "name": "stdout",
     "output_type": "stream",
     "text": [
      "745.1734693877551\n",
      "27.297865656269813\n"
     ]
    }
   ],
   "source": [
    "#compute variance for axis=None\n",
    "print(np.var(x))\n",
    "print(np.std(x))"
   ]
  },
  {
   "cell_type": "code",
   "execution_count": 13,
   "metadata": {},
   "outputs": [
    {
     "data": {
      "text/plain": [
       "array([28.24889378, 22.3960562 , 38.85442918, 22.13594362, 13.7113092 ,\n",
       "       33.61919095, 34.64582707])"
      ]
     },
     "execution_count": 13,
     "metadata": {},
     "output_type": "execute_result"
    }
   ],
   "source": [
    "#sample standard deviation\n",
    "np.std(x,axis=1,ddof=1)"
   ]
  }
 ],
 "metadata": {
  "kernelspec": {
   "display_name": "Python 3 (ipykernel)",
   "language": "python",
   "name": "python3"
  },
  "language_info": {
   "codemirror_mode": {
    "name": "ipython",
    "version": 3
   },
   "file_extension": ".py",
   "mimetype": "text/x-python",
   "name": "python",
   "nbconvert_exporter": "python",
   "pygments_lexer": "ipython3",
   "version": "3.9.7"
  }
 },
 "nbformat": 4,
 "nbformat_minor": 2
}
