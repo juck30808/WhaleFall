{
 "cells": [
  {
   "cell_type": "code",
   "execution_count": null,
   "metadata": {},
   "outputs": [],
   "source": [
    "import requests\n",
    "from bs4 import BeautifulSoup\n",
    "\n",
    "search_input = input('aramak istediğiniz kelime: ').replace(' ','+')\n",
    "link = \"https://www.google.com/search?q=\" + search_input\n",
    "\n",
    "headerParams = {\"user-agent\":\"Mozilla/5.0 (Macintosh; Intel Mac OS X 10_15_7) AppleWebKit/537.36 (KHTML, like Gecko) Chrome/86.0.4240.198 Safari/537.36\"}\n",
    "\n",
    "response = requests.get(link, headers = headerParams)\n",
    "\n",
    "soup = BeautifulSoup(response.content,\"html.parser\")\n",
    "\n",
    "results = soup.find_all('div', class_=\"rc\")\n",
    "\n",
    "for div in results:\n",
    "    anchor = div.find('a')\n",
    "\n",
    "    link = anchor['href']\n",
    "    text = anchor.find('h3').string\n",
    "    description = anchor.parent.next_sibling.find('span').text\n",
    "\n",
    "    print(link + \"*** \" + text + \"*** \" + description)\n",
    "    print('*******************')\n"
   ]
  }
 ],
 "metadata": {
  "kernelspec": {
   "display_name": "Python 3",
   "language": "python",
   "name": "python3"
  },
  "language_info": {
   "codemirror_mode": {
    "name": "ipython",
    "version": 3
   },
   "file_extension": ".py",
   "mimetype": "text/x-python",
   "name": "python",
   "nbconvert_exporter": "python",
   "pygments_lexer": "ipython3",
   "version": "3.8.5"
  }
 },
 "nbformat": 4,
 "nbformat_minor": 4
}
