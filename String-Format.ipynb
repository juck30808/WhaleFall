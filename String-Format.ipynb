{
 "cells": [
  {
   "cell_type": "code",
   "execution_count": 1,
   "metadata": {},
   "outputs": [
    {
     "name": "stdout",
     "output_type": "stream",
     "text": [
      "Enter day: 1\n",
      "Enter month: 2\n",
      "Enter year: 3\n",
      "Entered Date: 1/2/3\n"
     ]
    }
   ],
   "source": []
  },
  {
   "cell_type": "code",
   "execution_count": 1,
   "metadata": {},
   "outputs": [
    {
     "name": "stdout",
     "output_type": "stream",
     "text": [
      "pui~\n",
      "puipuipui\n"
     ]
    }
   ],
   "source": [
    "s1 = \"pui\"\n",
    "print(s1 + \"~\") # 字串加法為前後相接\n",
    "print(s1 * 3) # 字串乘法為重複n次"
   ]
  },
  {
   "cell_type": "code",
   "execution_count": 4,
   "metadata": {},
   "outputs": [
    {
     "name": "stdout",
     "output_type": "stream",
     "text": [
      "Today is 20\n",
      "1.234000四捨五入後是1.23\n",
      "This is an Apple\n"
     ]
    }
   ],
   "source": [
    "print(\"Today is %d\" % 20) \n",
    "print(\"%f四捨五入後是%.2f\" % (1.234, 1.234)) # 有多個地方需要取代的時候需要用()起來\n",
    "print(\"This is an %s\" % \"Apple\")"
   ]
  },
  {
   "cell_type": "code",
   "execution_count": 5,
   "metadata": {},
   "outputs": [
    {
     "name": "stdout",
     "output_type": "stream",
     "text": [
      "熱愛105度的你\n",
      "1.234四捨五入後是1.23\n",
      "這是一顆蘋果\n"
     ]
    }
   ],
   "source": [
    "print(\"熱愛{temperature}度的你\".format(temperature=105)) # 用{}包一個名稱，format後面給這個名稱的值\n",
    "print(\"{a}四捨五入後是{a:.2f}\".format(a=1.234)) # 可以和%一樣指定格式\n",
    "print(\"這是一顆{}\".format(\"蘋果\")) # {}內沒名稱的話就是按順序對應"
   ]
  },
  {
   "cell_type": "code",
   "execution_count": 6,
   "metadata": {},
   "outputs": [
    {
     "name": "stdout",
     "output_type": "stream",
     "text": [
      "熱愛105度的你\n",
      "1.234四捨五入後是1.23\n",
      "這是一顆蘋果\n"
     ]
    }
   ],
   "source": [
    "temperature = 105\n",
    "a = 1.234\n",
    "b = \"蘋果\"\n",
    "\n",
    "print(f\"熱愛{temperature}度的你\") # 字串前面加f，中間用{}包變數名稱\n",
    "print(f\"{a}四捨五入後是{a:.2f}\") # 可以和%一樣指定格式\n",
    "print(f\"這是一顆{b}\") # 但不能和format一樣名稱留空"
   ]
  },
  {
   "cell_type": "code",
   "execution_count": 7,
   "metadata": {},
   "outputs": [
    {
     "name": "stdout",
     "output_type": "stream",
     "text": [
      "False\n",
      "True\n"
     ]
    }
   ],
   "source": [
    "print(\"台灣\" in \"中國\") # 這樣應該就不會被搬運過去了吧？\n",
    "print(\"魷魚\" in \"魷魚遊戲\")"
   ]
  },
  {
   "cell_type": "code",
   "execution_count": 8,
   "metadata": {},
   "outputs": [
    {
     "name": "stdout",
     "output_type": "stream",
     "text": [
      "第1隻綿羊在 2\n",
      "最後1隻綿羊在 10\n",
      "綿羊\n",
      "綿羊\n"
     ]
    }
   ],
   "source": [
    "s2 = \"一隻綿羊兩隻綿羊三隻綿羊\"\n",
    "print(\"第1隻綿羊在\", s2.find(\"綿羊\")) # 回傳的是開頭的index\n",
    "print(\"最後1隻綿羊在\", s2.rfind(\"綿羊\")) # rfind從右邊開始找\n",
    "print(s2[2:4])\n",
    "print(s2[10:10+len(s2)])"
   ]
  },
  {
   "cell_type": "code",
   "execution_count": 9,
   "metadata": {},
   "outputs": [
    {
     "data": {
      "text/plain": [
       "['1989', '06', '04']"
      ]
     },
     "execution_count": 9,
     "metadata": {},
     "output_type": "execute_result"
    }
   ],
   "source": [
    "s3 = \"1989-06-04\" # 一時想不到其他例子，再用個防盜例子\n",
    "date_list = s3.split(\"-\")\n",
    "date_list"
   ]
  },
  {
   "cell_type": "code",
   "execution_count": 10,
   "metadata": {
    "scrolled": false
   },
   "outputs": [
    {
     "data": {
      "text/plain": [
       "'1989/06/04'"
      ]
     },
     "execution_count": 10,
     "metadata": {},
     "output_type": "execute_result"
    }
   ],
   "source": [
    "\"/\".join(date_list) # 把前面的字串放在後面list的每個元素中間"
   ]
  },
  {
   "cell_type": "markdown",
   "metadata": {},
   "source": [
    "## String Formatting"
   ]
  },
  {
   "cell_type": "code",
   "execution_count": 1,
   "metadata": {},
   "outputs": [
    {
     "name": "stdout",
     "output_type": "stream",
     "text": [
      "Hello Paul, and age is 67\n"
     ]
    }
   ],
   "source": [
    "name = \"Peter\"\n",
    "Age = 35\n",
    "Num = 23\n",
    "\n",
    "output = \"Your name is {}, age is {} and your number is {:.5f}\"\n",
    "#print(output.format(name, Age, Num))\n",
    "\n",
    "myout = \"Hello {name}, and age is {Age}\"\n",
    "print(myout.format(name = \"Paul\", Age = 67))"
   ]
  },
  {
   "cell_type": "code",
   "execution_count": 22,
   "metadata": {},
   "outputs": [
    {
     "name": "stdout",
     "output_type": "stream",
     "text": [
      "Your name is Paul and your age is 50\n"
     ]
    }
   ],
   "source": [
    "\"\"\"\n",
    "Name = input(\"Enter name: \")\n",
    "Age = input(\"Enter Age: \")\n",
    "output = \"Your name is {} and your age is {}\"\n",
    "print(output.format(Name, Age))\n",
    "\"\"\"\n",
    "\n",
    "output = \"your name is {name} and your age is {age}\".format(name=\"Peter\", age=12)\n",
    "out = \"Your name is {} and your age is {}\".format(\"Paul\", 50)\n",
    "print(out)\n"
   ]
  },
  {
   "cell_type": "code",
   "execution_count": 24,
   "metadata": {},
   "outputs": [
    {
     "name": "stdout",
     "output_type": "stream",
     "text": [
      "Hello Paul, and age is 67\n"
     ]
    }
   ],
   "source": [
    "name = \"Peter\"\n",
    "Age = 35\n",
    "Num = 23\n",
    "\n",
    "output = \"Your name is {}, age is {} and your number is {:.5f}\"\n",
    "#print(output.format(name, Age, Num))\n",
    "\n",
    "myout = \"Hello {name}, and age is {Age}\"\n",
    "print(myout.format(name = \"Paul\", Age = 67))"
   ]
  },
  {
   "cell_type": "code",
   "execution_count": 25,
   "metadata": {},
   "outputs": [
    {
     "name": "stdout",
     "output_type": "stream",
     "text": [
      "Your name is Paul and your age is 50\n"
     ]
    }
   ],
   "source": [
    "output = \"your name is {name} and your age is {age}\".format(name=\"Peter\", age=12)\n",
    "out = \"Your name is {} and your age is {}\".format(\"Paul\", 50)\n",
    "print(out)"
   ]
  },
  {
   "cell_type": "markdown",
   "metadata": {},
   "source": [
    "## Natural language processing"
   ]
  },
  {
   "cell_type": "code",
   "execution_count": 2,
   "metadata": {},
   "outputs": [
    {
     "name": "stdout",
     "output_type": "stream",
     "text": [
      "Requirement already satisfied: nltk in c:\\users\\cti110016\\anaconda3\\lib\\site-packages (3.5)\n",
      "Requirement already satisfied: click in c:\\users\\cti110016\\anaconda3\\lib\\site-packages (from nltk) (7.1.2)\n",
      "Requirement already satisfied: joblib in c:\\users\\cti110016\\anaconda3\\lib\\site-packages (from nltk) (0.17.0)\n",
      "Requirement already satisfied: tqdm in c:\\users\\cti110016\\anaconda3\\lib\\site-packages (from nltk) (4.50.2)\n",
      "Requirement already satisfied: regex in c:\\users\\cti110016\\anaconda3\\lib\\site-packages (from nltk) (2020.10.15)\n",
      "Note: you may need to restart the kernel to use updated packages.\n"
     ]
    }
   ],
   "source": [
    "pip install nltk"
   ]
  },
  {
   "cell_type": "code",
   "execution_count": 3,
   "metadata": {},
   "outputs": [
    {
     "name": "stdout",
     "output_type": "stream",
     "text": [
      "showing info https://raw.githubusercontent.com/nltk/nltk_data/gh-pages/index.xml\n"
     ]
    },
    {
     "data": {
      "text/plain": [
       "True"
      ]
     },
     "execution_count": 3,
     "metadata": {},
     "output_type": "execute_result"
    }
   ],
   "source": [
    "import nltk \n",
    "nltk.download()   # auto download Run"
   ]
  },
  {
   "cell_type": "code",
   "execution_count": 4,
   "metadata": {},
   "outputs": [
    {
     "data": {
      "text/plain": [
       "['I', 'have', 'a', 'pen', '.', 'You', 'had', 'two', 'apples', '.']"
      ]
     },
     "execution_count": 4,
     "metadata": {},
     "output_type": "execute_result"
    }
   ],
   "source": [
    "import nltk \n",
    "text = \"I have a pen. You had two apples.\"\n",
    "token = nltk.word_tokenize(text)\n",
    "token"
   ]
  },
  {
   "cell_type": "code",
   "execution_count": 5,
   "metadata": {},
   "outputs": [
    {
     "data": {
      "text/plain": [
       "['I', 'have', 'a', 'pen', '.', 'you', 'had', 'two', 'appl', '.']"
      ]
     },
     "execution_count": 5,
     "metadata": {},
     "output_type": "execute_result"
    }
   ],
   "source": [
    "from nltk import PorterStemmer\n",
    "PS = PorterStemmer()\n",
    "token_stem  = [PS.stem(word) for word in token]\n",
    "token_stem"
   ]
  },
  {
   "cell_type": "markdown",
   "metadata": {},
   "source": [
    "## Regular expression (正規表示式)\n",
    "推薦一個好用的即時檢查re的工具——https://regex101.com/"
   ]
  },
  {
   "cell_type": "markdown",
   "metadata": {},
   "source": [
    "基本的替代符號\n",
    "- \\d:一位數字\n",
    "- \\D:任意一位不是數字的符號\n",
    "- \\s:一個空格或換行符號\n",
    "- \\w:英文字母\n",
    "- \\W:任意一位不是英文字母的符號\n",
    "- [\\u4e00-\\u9fa5]:一個中文字\n",
    "\n",
    "一些特別的符號\n",
    "- .:一位任意符號\n",
    "- *:(必須接在某個符號後面)，0個或更多的該符號\n",
    "- +:(必須接在某個符號後面)，1個或更多的該符號\n",
    "- {3,4}:(必須接在某個符號後面)，3個~5個的該符號"
   ]
  },
  {
   "cell_type": "code",
   "execution_count": 7,
   "metadata": {},
   "outputs": [],
   "source": [
    "text = \"\"\"\n",
    "中央流行疫情指揮中心今(29)日公布國內新增11例COVID-19確定病例，分別為1例本土及10例境外移入；另確診個案中無新增死亡。\n",
    "\n",
    "指揮中心表示，今日新增1例本土個案(案16326)，為印尼籍30多歲女性，今(2021)年9月27日出現頭痛症狀，9月28日就醫採檢，於今日確診。衛生單位已匡列接觸者7人，均列居家隔離，其餘接觸者匡列中。\n",
    "\n",
    "指揮中心指出，今日新增10例境外移入個案，為9例男性、1例女性，年齡介於20多歲至40多歲，入境日介於9月3日至9月28日，分別自美國(案16316)、哈薩克(2例，案16317、案16318)、巴基斯坦(案16319)、柬埔寨(16320)、俄羅斯(案16324)及菲律賓(案16325)入境，餘3例 (案16321、案16322、案16323)的旅遊國家調查中；詳如新聞稿附件。\n",
    "\n",
    "指揮中心統計，截至目前國內累計3,358,228例新型冠狀病毒肺炎相關通報(含3,341,439例排除)，其中16,216例確診，分別為1,581例境外移入，14,581例本土病例，36例敦睦艦隊、3例航空器感染、1例不明及14例調查中；另累計110例移除為空號。2020年起累計842例COVID-19死亡病例，其中830例本土，個案居住縣市分布為新北市412例、臺北市318例、基隆市28例、桃園市26例、彰化縣15例、新竹縣13例、臺中市5例、苗栗縣3例、宜蘭縣及花蓮縣各2例，臺東縣、雲林縣、臺南市、南投縣、高雄市及屏東縣各1例；另12例為境外移入。\n",
    "\n",
    "指揮中心再次呼籲，民眾應落實手部衛生、咳嗽禮節及佩戴口罩等個人防護措施，減少不必要移動、活動或集會，避免出入人多擁擠的場所，或高感染傳播風險場域，並主動積極配合各項防疫措施，共同嚴守社區防線。\n",
    "\"\"\""
   ]
  },
  {
   "cell_type": "code",
   "execution_count": 8,
   "metadata": {},
   "outputs": [
    {
     "name": "stdout",
     "output_type": "stream",
     "text": [
      "<re.Match object; span=(78, 84), match='新增1例本土'>\n",
      "['新增10例境外']\n"
     ]
    }
   ],
   "source": [
    "import re\n",
    "print(re.search(\"新增\\d+例本土\", text)) # re.search找到第一筆匹配的,回傳re.Match型態\n",
    "print(re.findall(\"新增\\d+例境外\", text)) # re.findall找所有匹配的，回傳一個list"
   ]
  },
  {
   "cell_type": "code",
   "execution_count": 9,
   "metadata": {},
   "outputs": [
    {
     "name": "stdout",
     "output_type": "stream",
     "text": [
      "1\n",
      "['10']\n"
     ]
    }
   ],
   "source": [
    "print(re.search(\"新增(\\d+)例本土\", text).group(1)) # group(n)表示取出這個表達式中第n個括號的內容\n",
    "print(re.findall(\"新增(\\d+)例境外\", text)) # 有括號時findall會取出所有()內的結果"
   ]
  },
  {
   "cell_type": "code",
   "execution_count": 10,
   "metadata": {},
   "outputs": [
    {
     "name": "stdout",
     "output_type": "stream",
     "text": [
      "['居住縣', '新北市', '臺北市', '基隆市', '桃園市', '彰化縣', '新竹縣', '臺中市', '苗栗縣', '宜蘭縣', '花蓮縣', '臺東縣', '雲林縣', '臺南市', '南投縣', '高雄市', '屏東縣']\n"
     ]
    }
   ],
   "source": [
    "print(re.findall(\"..[縣市]\", text)) # []內表示都可以"
   ]
  },
  {
   "cell_type": "code",
   "execution_count": 11,
   "metadata": {},
   "outputs": [
    {
     "name": "stdout",
     "output_type": "stream",
     "text": [
      "Aeque enim contingit omnibus fidibus, ut incontentae sint.\n",
      "Lorem ipsum dolor sit amet, consectetur adipiscing elit. Quae cum ita sint, effectum est nihil esse malum, quod turpe non sit. Itaque nostrum est-quod nostrum dico, artis est-ad ea principia, quae accepimus. Quod totum contra est. Duo Reges: constructio interrete. Atqui iste locus est, Piso, tibi etiam atque etiam confirmandus, inquam; Quamvis enim depravatae non sint, pravae tamen esse possunt. Duarum enim vitarum nobis erunt instituta capienda.\n",
      "\n",
      "Non igitur de improbo, sed de callido improbo quaerimus, qualis Q. Audio equidem philosophi vocem, Epicure, sed quid tibi dicendum sit oblitus es. Ex ea difficultate illae fallaciloquae, ut ait Accius, malitiae natae sunt. At multis malis affectus. Nam quibus rebus efficiuntur voluptates, eae non sunt in potestate sapientis. Quis est tam dissimile homini. Ut proverbia non nulla veriora sint quam vestra dogmata. Si quicquam extra virtutem habeatur in bonis. Sed plane dicit quod intellegit. Paulum, cum regem Persem captum adduceret, eodem flumine invectio?\n",
      "\n",
      "Qui ita affectus, beatum esse numquam probabis; Sed nimis multa. Nam prius a se poterit quisque discedere quam appetitum earum rerum, quae sibi conducant, amittere. Familiares nostros, credo, Sironem dicis et Philodemum, cum optimos viros, tum homines doctissimos. Quod iam a me expectare noli. Quid ergo?\n",
      "\n",
      "Eademne, quae restincta siti? Ita relinquet duas, de quibus etiam atque etiam consideret. Illa videamus, quae a te de amicitia dicta sunt. Eaedem res maneant alio modo. Quid ergo attinet gloriose loqui, nisi constanter loquare? Prioris generis est docilitas, memoria; Portenta haec esse dicit, neque ea ratione ullo modo posse vivi; Beatum, inquit. Bestiarum vero nullum iudicium puto.\n",
      "\n",
      "Quem Tiberina descensio festo illo die tanto gaudio affecit, quanto L. Quorum sine causa fieri nihil putandum est. Tria genera bonorum; Nunc dicam de voluptate, nihil scilicet novi, ea tamen, quae te ipsum probaturum esse confidam. Illud dico, ea, quae dicat, praeclare inter se cohaerere. Fortemne possumus dicere eundem illum Torquatum? Hoc tu nunc in illo probas. Cur post Tarentum ad Archytam?\n",
      "\n",
      "Indicant pueri, in quibus ut in speculis natura cernitur.\n",
      "Sed tamen est aliquid, quod nobis non liceat, liceat illis. Virtutis, magnitudinis animi, patientiae, fortitudinis fomentis dolor mitigari solet. Piso igitur hoc modo, vir optimus tuique, ut scis, amantissimus. Non prorsus, inquit, omnisque, qui sine dolore sint, in voluptate, et ea quidem summa, esse dico. Potius inflammat, ut coercendi magis quam dedocendi esse videantur. Virtutis, magnitudinis animi, patientiae, fortitudinis fomentis dolor mitigari solet. Quae fere omnia appellantur uno ingenii nomine, easque virtutes qui habent, ingeniosi vocantur. Nec enim, dum metuit, iustus est, et certe, si metuere destiterit, non erit;\n"
     ]
    }
   ],
   "source": [
    "# 讀取純文字檔案\n",
    "text=\"\"\n",
    "with open(\"sample.txt\",\"r\") as f:\n",
    "    text = f.read()\n",
    "    print(text)"
   ]
  },
  {
   "cell_type": "code",
   "execution_count": 12,
   "metadata": {
    "scrolled": true
   },
   "outputs": [
    {
     "name": "stdout",
     "output_type": "stream",
     "text": [
      "[['Aeque enim contingit omnibus fidibus', ' ut incontentae sint.'], ['Lorem ipsum dolor sit amet', ' consectetur adipiscing elit. Quae cum ita sint', ' effectum est nihil esse malum', ' quod turpe non sit. Itaque nostrum est-quod nostrum dico', ' artis est-ad ea principia', ' quae accepimus. Quod totum contra est. Duo Reges: constructio interrete. Atqui iste locus est', ' Piso', ' tibi etiam atque etiam confirmandus', ' inquam; Quamvis enim depravatae non sint', ' pravae tamen esse possunt. Duarum enim vitarum nobis erunt instituta capienda.'], [''], ['Non igitur de improbo', ' sed de callido improbo quaerimus', ' qualis Q. Audio equidem philosophi vocem', ' Epicure', ' sed quid tibi dicendum sit oblitus es. Ex ea difficultate illae fallaciloquae', ' ut ait Accius', ' malitiae natae sunt. At multis malis affectus. Nam quibus rebus efficiuntur voluptates', ' eae non sunt in potestate sapientis. Quis est tam dissimile homini. Ut proverbia non nulla veriora sint quam vestra dogmata. Si quicquam extra virtutem habeatur in bonis. Sed plane dicit quod intellegit. Paulum', ' cum regem Persem captum adduceret', ' eodem flumine invectio?'], [''], ['Qui ita affectus', ' beatum esse numquam probabis; Sed nimis multa. Nam prius a se poterit quisque discedere quam appetitum earum rerum', ' quae sibi conducant', ' amittere. Familiares nostros', ' credo', ' Sironem dicis et Philodemum', ' cum optimos viros', ' tum homines doctissimos. Quod iam a me expectare noli. Quid ergo?'], [''], ['Eademne', ' quae restincta siti? Ita relinquet duas', ' de quibus etiam atque etiam consideret. Illa videamus', ' quae a te de amicitia dicta sunt. Eaedem res maneant alio modo. Quid ergo attinet gloriose loqui', ' nisi constanter loquare? Prioris generis est docilitas', ' memoria; Portenta haec esse dicit', ' neque ea ratione ullo modo posse vivi; Beatum', ' inquit. Bestiarum vero nullum iudicium puto.'], [''], ['Quem Tiberina descensio festo illo die tanto gaudio affecit', ' quanto L. Quorum sine causa fieri nihil putandum est. Tria genera bonorum; Nunc dicam de voluptate', ' nihil scilicet novi', ' ea tamen', ' quae te ipsum probaturum esse confidam. Illud dico', ' ea', ' quae dicat', ' praeclare inter se cohaerere. Fortemne possumus dicere eundem illum Torquatum? Hoc tu nunc in illo probas. Cur post Tarentum ad Archytam?'], [''], ['Indicant pueri', ' in quibus ut in speculis natura cernitur.'], ['Sed tamen est aliquid', ' quod nobis non liceat', ' liceat illis. Virtutis', ' magnitudinis animi', ' patientiae', ' fortitudinis fomentis dolor mitigari solet. Piso igitur hoc modo', ' vir optimus tuique', ' ut scis', ' amantissimus. Non prorsus', ' inquit', ' omnisque', ' qui sine dolore sint', ' in voluptate', ' et ea quidem summa', ' esse dico. Potius inflammat', ' ut coercendi magis quam dedocendi esse videantur. Virtutis', ' magnitudinis animi', ' patientiae', ' fortitudinis fomentis dolor mitigari solet. Quae fere omnia appellantur uno ingenii nomine', ' easque virtutes qui habent', ' ingeniosi vocantur. Nec enim', ' dum metuit', ' iustus est', ' et certe', ' si metuere destiterit', ' non erit;']]\n"
     ]
    }
   ],
   "source": [
    "# 逐行讀取\n",
    "data = []\n",
    "with open(\"sample.txt\",\"r\") as f:\n",
    "    for line in f:\n",
    "        line = line.strip()\n",
    "        data.append(line.split(\",\"))\n",
    "\n",
    "print(data)"
   ]
  },
  {
   "cell_type": "code",
   "execution_count": 1,
   "metadata": {},
   "outputs": [
    {
     "name": "stdout",
     "output_type": "stream",
     "text": [
      "Please enter your name Jerry\n"
     ]
    }
   ],
   "source": [
    "user_name = input(\"Please enter your name \")\n",
    "print(user_name)"
   ]
  },
  {
   "cell_type": "code",
   "execution_count": 2,
   "metadata": {},
   "outputs": [
    {
     "name": "stdout",
     "output_type": "stream",
     "text": [
      "I\\’m  can\\’t\n"
     ]
    }
   ],
   "source": [
    "msg1=  \"I’m\"\n",
    "msg1=  \"I\\’m\"\n",
    "msg2=  \"I can’t\"\n",
    "msg2 = \" can\\’t\"\n",
    "print(msg1+\" \"+msg2)"
   ]
  },
  {
   "cell_type": "markdown",
   "metadata": {},
   "source": [
    "## Capitalize"
   ]
  },
  {
   "cell_type": "code",
   "execution_count": 3,
   "metadata": {},
   "outputs": [
    {
     "name": "stdout",
     "output_type": "stream",
     "text": [
      "Enter the given input value: \n",
      "\n"
     ]
    }
   ],
   "source": [
    "def cap(s):\n",
    "    for x in s.split():\n",
    "        s = s.replace(x, x.capitalize())\n",
    "    print(s)\n",
    "s= input('Enter the given input value: ')\n",
    "cap(s)"
   ]
  },
  {
   "cell_type": "code",
   "execution_count": 3,
   "metadata": {},
   "outputs": [
    {
     "data": {
      "text/plain": [
       "'Python is powerful language'"
      ]
     },
     "execution_count": 3,
     "metadata": {},
     "output_type": "execute_result"
    }
   ],
   "source": [
    "string = 'python is powerful language'\n",
    "string.capitalize() "
   ]
  },
  {
   "cell_type": "code",
   "execution_count": 4,
   "metadata": {},
   "outputs": [
    {
     "data": {
      "text/plain": [
       "'1st programming language'"
      ]
     },
     "execution_count": 4,
     "metadata": {},
     "output_type": "execute_result"
    }
   ],
   "source": [
    "string = '1st programming language'\n",
    "string.capitalize() "
   ]
  },
  {
   "cell_type": "code",
   "execution_count": 5,
   "metadata": {},
   "outputs": [
    {
     "data": {
      "text/plain": [
       "'Python is powerful programming language'"
      ]
     },
     "execution_count": 5,
     "metadata": {},
     "output_type": "execute_result"
    }
   ],
   "source": [
    "string = 'pYTHON IS POWERFUL PROGRAMMING LANGUAGE'\n",
    "string.swapcase() "
   ]
  },
  {
   "cell_type": "code",
   "execution_count": 6,
   "metadata": {
    "scrolled": true
   },
   "outputs": [
    {
     "data": {
      "text/plain": [
       "'Python The Powerful Programming Language'"
      ]
     },
     "execution_count": 6,
     "metadata": {},
     "output_type": "execute_result"
    }
   ],
   "source": [
    "string = 'Python the powerful programming language'\n",
    "string.title()"
   ]
  },
  {
   "cell_type": "markdown",
   "metadata": {},
   "source": [
    "## True or False"
   ]
  },
  {
   "cell_type": "code",
   "execution_count": 7,
   "metadata": {},
   "outputs": [
    {
     "data": {
      "text/plain": [
       "True"
      ]
     },
     "execution_count": 7,
     "metadata": {},
     "output_type": "execute_result"
    }
   ],
   "source": [
    "'abc'.islower()"
   ]
  },
  {
   "cell_type": "code",
   "execution_count": 9,
   "metadata": {},
   "outputs": [
    {
     "data": {
      "text/plain": [
       "False"
      ]
     },
     "execution_count": 9,
     "metadata": {},
     "output_type": "execute_result"
    }
   ],
   "source": [
    "'ABc'.islower()"
   ]
  },
  {
   "cell_type": "code",
   "execution_count": 10,
   "metadata": {},
   "outputs": [
    {
     "data": {
      "text/plain": [
       "False"
      ]
     },
     "execution_count": 10,
     "metadata": {},
     "output_type": "execute_result"
    }
   ],
   "source": [
    "'ABC'.islower()"
   ]
  },
  {
   "cell_type": "code",
   "execution_count": 11,
   "metadata": {},
   "outputs": [
    {
     "data": {
      "text/plain": [
       "True"
      ]
     },
     "execution_count": 11,
     "metadata": {},
     "output_type": "execute_result"
    }
   ],
   "source": [
    "'ABC'.isupper()"
   ]
  },
  {
   "cell_type": "code",
   "execution_count": 12,
   "metadata": {},
   "outputs": [
    {
     "data": {
      "text/plain": [
       "False"
      ]
     },
     "execution_count": 12,
     "metadata": {},
     "output_type": "execute_result"
    }
   ],
   "source": [
    "'AbC'.isupper()"
   ]
  },
  {
   "cell_type": "code",
   "execution_count": 13,
   "metadata": {},
   "outputs": [
    {
     "data": {
      "text/plain": [
       "False"
      ]
     },
     "execution_count": 13,
     "metadata": {},
     "output_type": "execute_result"
    }
   ],
   "source": [
    "'abc'.isupper()"
   ]
  },
  {
   "cell_type": "markdown",
   "metadata": {},
   "source": [
    "## check  if a string contain"
   ]
  },
  {
   "cell_type": "code",
   "execution_count": 15,
   "metadata": {},
   "outputs": [
    {
     "data": {
      "text/plain": [
       "True"
      ]
     },
     "execution_count": 15,
     "metadata": {},
     "output_type": "execute_result"
    }
   ],
   "source": [
    "'user_car'.endswith('car')"
   ]
  },
  {
   "cell_type": "code",
   "execution_count": 16,
   "metadata": {},
   "outputs": [
    {
     "data": {
      "text/plain": [
       "True"
      ]
     },
     "execution_count": 16,
     "metadata": {},
     "output_type": "execute_result"
    }
   ],
   "source": [
    "# check from index 4 to end of string\n",
    "'user_car'.endswith('car', 4)"
   ]
  },
  {
   "cell_type": "code",
   "execution_count": 17,
   "metadata": {},
   "outputs": [
    {
     "data": {
      "text/plain": [
       "False"
      ]
     },
     "execution_count": 17,
     "metadata": {},
     "output_type": "execute_result"
    }
   ],
   "source": [
    "#To check from index 5 to 7\n",
    "'user_car'.endswith('car', 5, 7)"
   ]
  },
  {
   "cell_type": "code",
   "execution_count": 18,
   "metadata": {},
   "outputs": [
    {
     "data": {
      "text/plain": [
       "True"
      ]
     },
     "execution_count": 18,
     "metadata": {},
     "output_type": "execute_result"
    }
   ],
   "source": [
    "#To check from index 4 to 8\n",
    "'user_car'.endswith('car',4, 8)"
   ]
  },
  {
   "cell_type": "code",
   "execution_count": 19,
   "metadata": {},
   "outputs": [
    {
     "data": {
      "text/plain": [
       "True"
      ]
     },
     "execution_count": 19,
     "metadata": {},
     "output_type": "execute_result"
    }
   ],
   "source": [
    "#In order to use a tuple of suffixes as we check from index 4 to 8\n",
    "'user_car'.endswith(('car', 'ar'), 4, 8)"
   ]
  },
  {
   "cell_type": "code",
   "execution_count": 20,
   "metadata": {},
   "outputs": [
    {
     "data": {
      "text/plain": [
       "'This is my car'"
      ]
     },
     "execution_count": 20,
     "metadata": {},
     "output_type": "execute_result"
    }
   ],
   "source": [
    "'This is user car'.replace('user', 'my')"
   ]
  },
  {
   "cell_type": "code",
   "execution_count": 21,
   "metadata": {},
   "outputs": [
    {
     "data": {
      "text/plain": [
       "'Thic ic ucer car'"
      ]
     },
     "execution_count": 21,
     "metadata": {},
     "output_type": "execute_result"
    }
   ],
   "source": [
    "#In order to replace a character many times:\n",
    "'This is user car'.replace('s', 'c', 3)"
   ]
  },
  {
   "cell_type": "code",
   "execution_count": null,
   "metadata": {},
   "outputs": [],
   "source": []
  }
 ],
 "metadata": {
  "kernelspec": {
   "display_name": "Python 3 (ipykernel)",
   "language": "python",
   "name": "python3"
  },
  "language_info": {
   "codemirror_mode": {
    "name": "ipython",
    "version": 3
   },
   "file_extension": ".py",
   "mimetype": "text/x-python",
   "name": "python",
   "nbconvert_exporter": "python",
   "pygments_lexer": "ipython3",
   "version": "3.8.8"
  }
 },
 "nbformat": 4,
 "nbformat_minor": 4
}
