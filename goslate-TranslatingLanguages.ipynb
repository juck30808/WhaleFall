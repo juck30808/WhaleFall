{
 "cells": [
  {
   "cell_type": "markdown",
   "metadata": {},
   "source": [
    "## Goslate Library"
   ]
  },
  {
   "cell_type": "code",
   "execution_count": 1,
   "metadata": {},
   "outputs": [
    {
     "name": "stdout",
     "output_type": "stream",
     "text": [
      "Collecting goslate\n",
      "  Downloading goslate-1.5.2.tar.gz (16 kB)\n",
      "Collecting futures\n",
      "  Downloading futures-3.0.5.tar.gz (25 kB)\n",
      "\u001b[31m    ERROR: Command errored out with exit status 1:\n",
      "     command: /Users/jerrychien/opt/anaconda3/bin/python -c 'import io, os, sys, setuptools, tokenize; sys.argv[0] = '\"'\"'/private/var/folders/9q/486czkcn7lv5v0hwbt71twdc0000gn/T/pip-install-1va3v3bl/futures_88b855de2613428d8106dade4282d460/setup.py'\"'\"'; __file__='\"'\"'/private/var/folders/9q/486czkcn7lv5v0hwbt71twdc0000gn/T/pip-install-1va3v3bl/futures_88b855de2613428d8106dade4282d460/setup.py'\"'\"';f = getattr(tokenize, '\"'\"'open'\"'\"', open)(__file__) if os.path.exists(__file__) else io.StringIO('\"'\"'from setuptools import setup; setup()'\"'\"');code = f.read().replace('\"'\"'\\r\\n'\"'\"', '\"'\"'\\n'\"'\"');f.close();exec(compile(code, __file__, '\"'\"'exec'\"'\"'))' egg_info --egg-base /private/var/folders/9q/486czkcn7lv5v0hwbt71twdc0000gn/T/pip-pip-egg-info-bhmq3oiy\n",
      "         cwd: /private/var/folders/9q/486czkcn7lv5v0hwbt71twdc0000gn/T/pip-install-1va3v3bl/futures_88b855de2613428d8106dade4282d460/\n",
      "    Complete output (24 lines):\n",
      "    Traceback (most recent call last):\n",
      "      File \"<string>\", line 1, in <module>\n",
      "      File \"/Users/jerrychien/opt/anaconda3/lib/python3.9/site-packages/setuptools/__init__.py\", line 18, in <module>\n",
      "        from setuptools.dist import Distribution\n",
      "      File \"/Users/jerrychien/opt/anaconda3/lib/python3.9/site-packages/setuptools/dist.py\", line 32, in <module>\n",
      "        from setuptools.extern.more_itertools import unique_everseen\n",
      "      File \"<frozen importlib._bootstrap>\", line 1007, in _find_and_load\n",
      "      File \"<frozen importlib._bootstrap>\", line 986, in _find_and_load_unlocked\n",
      "      File \"<frozen importlib._bootstrap>\", line 666, in _load_unlocked\n",
      "      File \"<frozen importlib._bootstrap>\", line 565, in module_from_spec\n",
      "      File \"/Users/jerrychien/opt/anaconda3/lib/python3.9/site-packages/setuptools/extern/__init__.py\", line 52, in create_module\n",
      "        return self.load_module(spec.name)\n",
      "      File \"/Users/jerrychien/opt/anaconda3/lib/python3.9/site-packages/setuptools/extern/__init__.py\", line 37, in load_module\n",
      "        __import__(extant)\n",
      "      File \"/Users/jerrychien/opt/anaconda3/lib/python3.9/site-packages/setuptools/_vendor/more_itertools/__init__.py\", line 1, in <module>\n",
      "        from .more import *  # noqa\n",
      "      File \"/Users/jerrychien/opt/anaconda3/lib/python3.9/site-packages/setuptools/_vendor/more_itertools/more.py\", line 5, in <module>\n",
      "        from concurrent.futures import ThreadPoolExecutor\n",
      "      File \"/private/var/folders/9q/486czkcn7lv5v0hwbt71twdc0000gn/T/pip-install-1va3v3bl/futures_88b855de2613428d8106dade4282d460/concurrent/futures/__init__.py\", line 8, in <module>\n",
      "        from concurrent.futures._base import (FIRST_COMPLETED,\n",
      "      File \"/private/var/folders/9q/486czkcn7lv5v0hwbt71twdc0000gn/T/pip-install-1va3v3bl/futures_88b855de2613428d8106dade4282d460/concurrent/futures/_base.py\", line 357\n",
      "        raise type(self._exception), self._exception, self._traceback\n",
      "                                   ^\n",
      "    SyntaxError: invalid syntax\n",
      "    ----------------------------------------\u001b[0m\n",
      "\u001b[33mWARNING: Discarding https://files.pythonhosted.org/packages/55/db/97c1ca37edab586a1ae03d6892b6633d8eaa23b23ac40c7e5bbc55423c78/futures-3.0.5.tar.gz#sha256=0542525145d5afc984c88f914a0c85c77527f65946617edb5274f72406f981df (from https://pypi.org/simple/futures/). Command errored out with exit status 1: python setup.py egg_info Check the logs for full command output.\u001b[0m\n",
      "  Downloading futures-3.0.4.tar.gz (25 kB)\n",
      "\u001b[31m    ERROR: Command errored out with exit status 1:\n",
      "     command: /Users/jerrychien/opt/anaconda3/bin/python -c 'import io, os, sys, setuptools, tokenize; sys.argv[0] = '\"'\"'/private/var/folders/9q/486czkcn7lv5v0hwbt71twdc0000gn/T/pip-install-1va3v3bl/futures_fd1b0b934bd14ac59cf8294bd3f49519/setup.py'\"'\"'; __file__='\"'\"'/private/var/folders/9q/486czkcn7lv5v0hwbt71twdc0000gn/T/pip-install-1va3v3bl/futures_fd1b0b934bd14ac59cf8294bd3f49519/setup.py'\"'\"';f = getattr(tokenize, '\"'\"'open'\"'\"', open)(__file__) if os.path.exists(__file__) else io.StringIO('\"'\"'from setuptools import setup; setup()'\"'\"');code = f.read().replace('\"'\"'\\r\\n'\"'\"', '\"'\"'\\n'\"'\"');f.close();exec(compile(code, __file__, '\"'\"'exec'\"'\"'))' egg_info --egg-base /private/var/folders/9q/486czkcn7lv5v0hwbt71twdc0000gn/T/pip-pip-egg-info-epatet_m\n",
      "         cwd: /private/var/folders/9q/486czkcn7lv5v0hwbt71twdc0000gn/T/pip-install-1va3v3bl/futures_fd1b0b934bd14ac59cf8294bd3f49519/\n",
      "    Complete output (24 lines):\n",
      "    Traceback (most recent call last):\n",
      "      File \"<string>\", line 1, in <module>\n",
      "      File \"/Users/jerrychien/opt/anaconda3/lib/python3.9/site-packages/setuptools/__init__.py\", line 18, in <module>\n",
      "        from setuptools.dist import Distribution\n",
      "      File \"/Users/jerrychien/opt/anaconda3/lib/python3.9/site-packages/setuptools/dist.py\", line 32, in <module>\n",
      "        from setuptools.extern.more_itertools import unique_everseen\n",
      "      File \"<frozen importlib._bootstrap>\", line 1007, in _find_and_load\n",
      "      File \"<frozen importlib._bootstrap>\", line 986, in _find_and_load_unlocked\n",
      "      File \"<frozen importlib._bootstrap>\", line 666, in _load_unlocked\n",
      "      File \"<frozen importlib._bootstrap>\", line 565, in module_from_spec\n",
      "      File \"/Users/jerrychien/opt/anaconda3/lib/python3.9/site-packages/setuptools/extern/__init__.py\", line 52, in create_module\n",
      "        return self.load_module(spec.name)\n",
      "      File \"/Users/jerrychien/opt/anaconda3/lib/python3.9/site-packages/setuptools/extern/__init__.py\", line 37, in load_module\n",
      "        __import__(extant)\n",
      "      File \"/Users/jerrychien/opt/anaconda3/lib/python3.9/site-packages/setuptools/_vendor/more_itertools/__init__.py\", line 1, in <module>\n",
      "        from .more import *  # noqa\n",
      "      File \"/Users/jerrychien/opt/anaconda3/lib/python3.9/site-packages/setuptools/_vendor/more_itertools/more.py\", line 5, in <module>\n",
      "        from concurrent.futures import ThreadPoolExecutor\n",
      "      File \"/private/var/folders/9q/486czkcn7lv5v0hwbt71twdc0000gn/T/pip-install-1va3v3bl/futures_fd1b0b934bd14ac59cf8294bd3f49519/concurrent/futures/__init__.py\", line 8, in <module>\n",
      "        from concurrent.futures._base import (FIRST_COMPLETED,\n",
      "      File \"/private/var/folders/9q/486czkcn7lv5v0hwbt71twdc0000gn/T/pip-install-1va3v3bl/futures_fd1b0b934bd14ac59cf8294bd3f49519/concurrent/futures/_base.py\", line 357\n",
      "        raise type(self._exception), self._exception, self._traceback\n",
      "                                   ^\n",
      "    SyntaxError: invalid syntax\n",
      "    ----------------------------------------\u001b[0m\n",
      "\u001b[33mWARNING: Discarding https://files.pythonhosted.org/packages/8d/73/b5fff618482bc06c9711e7cdc0d5d7eb1904d35898f48f2d7f9696b08bef/futures-3.0.4.tar.gz#sha256=19485d83f7bd2151c0aeaf88fbba3ee50dadfb222ffc3b66a344ef4952b782a3 (from https://pypi.org/simple/futures/). Command errored out with exit status 1: python setup.py egg_info Check the logs for full command output.\u001b[0m\n",
      "  Downloading futures-3.0.3.tar.gz (24 kB)\n",
      "\u001b[31m    ERROR: Command errored out with exit status 1:\n",
      "     command: /Users/jerrychien/opt/anaconda3/bin/python -c 'import io, os, sys, setuptools, tokenize; sys.argv[0] = '\"'\"'/private/var/folders/9q/486czkcn7lv5v0hwbt71twdc0000gn/T/pip-install-1va3v3bl/futures_5af12add6f0b4cb08ac74f1ab6e8d70f/setup.py'\"'\"'; __file__='\"'\"'/private/var/folders/9q/486czkcn7lv5v0hwbt71twdc0000gn/T/pip-install-1va3v3bl/futures_5af12add6f0b4cb08ac74f1ab6e8d70f/setup.py'\"'\"';f = getattr(tokenize, '\"'\"'open'\"'\"', open)(__file__) if os.path.exists(__file__) else io.StringIO('\"'\"'from setuptools import setup; setup()'\"'\"');code = f.read().replace('\"'\"'\\r\\n'\"'\"', '\"'\"'\\n'\"'\"');f.close();exec(compile(code, __file__, '\"'\"'exec'\"'\"'))' egg_info --egg-base /private/var/folders/9q/486czkcn7lv5v0hwbt71twdc0000gn/T/pip-pip-egg-info-cj9qyo6q\n",
      "         cwd: /private/var/folders/9q/486czkcn7lv5v0hwbt71twdc0000gn/T/pip-install-1va3v3bl/futures_5af12add6f0b4cb08ac74f1ab6e8d70f/\n",
      "    Complete output (24 lines):\n",
      "    Traceback (most recent call last):\n",
      "      File \"<string>\", line 1, in <module>\n",
      "      File \"/Users/jerrychien/opt/anaconda3/lib/python3.9/site-packages/setuptools/__init__.py\", line 18, in <module>\n",
      "        from setuptools.dist import Distribution\n",
      "      File \"/Users/jerrychien/opt/anaconda3/lib/python3.9/site-packages/setuptools/dist.py\", line 32, in <module>\n",
      "        from setuptools.extern.more_itertools import unique_everseen\n",
      "      File \"<frozen importlib._bootstrap>\", line 1007, in _find_and_load\n",
      "      File \"<frozen importlib._bootstrap>\", line 986, in _find_and_load_unlocked\n",
      "      File \"<frozen importlib._bootstrap>\", line 666, in _load_unlocked\n",
      "      File \"<frozen importlib._bootstrap>\", line 565, in module_from_spec\n",
      "      File \"/Users/jerrychien/opt/anaconda3/lib/python3.9/site-packages/setuptools/extern/__init__.py\", line 52, in create_module\n",
      "        return self.load_module(spec.name)\n",
      "      File \"/Users/jerrychien/opt/anaconda3/lib/python3.9/site-packages/setuptools/extern/__init__.py\", line 37, in load_module\n",
      "        __import__(extant)\n",
      "      File \"/Users/jerrychien/opt/anaconda3/lib/python3.9/site-packages/setuptools/_vendor/more_itertools/__init__.py\", line 1, in <module>\n",
      "        from .more import *  # noqa\n",
      "      File \"/Users/jerrychien/opt/anaconda3/lib/python3.9/site-packages/setuptools/_vendor/more_itertools/more.py\", line 5, in <module>\n",
      "        from concurrent.futures import ThreadPoolExecutor\n",
      "      File \"/private/var/folders/9q/486czkcn7lv5v0hwbt71twdc0000gn/T/pip-install-1va3v3bl/futures_5af12add6f0b4cb08ac74f1ab6e8d70f/concurrent/futures/__init__.py\", line 8, in <module>\n",
      "        from concurrent.futures._base import (FIRST_COMPLETED,\n",
      "      File \"/private/var/folders/9q/486czkcn7lv5v0hwbt71twdc0000gn/T/pip-install-1va3v3bl/futures_5af12add6f0b4cb08ac74f1ab6e8d70f/concurrent/futures/_base.py\", line 355\n",
      "        raise type(self._exception), self._exception, self._traceback\n",
      "                                   ^\n",
      "    SyntaxError: invalid syntax\n",
      "    ----------------------------------------\u001b[0m\n",
      "\u001b[33mWARNING: Discarding https://files.pythonhosted.org/packages/4c/dc/f9473006d4c9c52d4a4e977173fbcbfb1a8ef3a57e32e885edf994fd4a45/futures-3.0.3.tar.gz#sha256=2fe2342bb4fe8b8e217f0d21b5921cbe5408bf966d9f92025e707e881b198bed (from https://pypi.org/simple/futures/). Command errored out with exit status 1: python setup.py egg_info Check the logs for full command output.\u001b[0m\n"
     ]
    },
    {
     "name": "stdout",
     "output_type": "stream",
     "text": [
      "  Downloading futures-3.0.2.tar.gz (24 kB)\n",
      "\u001b[31m    ERROR: Command errored out with exit status 1:\n",
      "     command: /Users/jerrychien/opt/anaconda3/bin/python -c 'import io, os, sys, setuptools, tokenize; sys.argv[0] = '\"'\"'/private/var/folders/9q/486czkcn7lv5v0hwbt71twdc0000gn/T/pip-install-1va3v3bl/futures_04abf1677bb84ae68d481157437199a6/setup.py'\"'\"'; __file__='\"'\"'/private/var/folders/9q/486czkcn7lv5v0hwbt71twdc0000gn/T/pip-install-1va3v3bl/futures_04abf1677bb84ae68d481157437199a6/setup.py'\"'\"';f = getattr(tokenize, '\"'\"'open'\"'\"', open)(__file__) if os.path.exists(__file__) else io.StringIO('\"'\"'from setuptools import setup; setup()'\"'\"');code = f.read().replace('\"'\"'\\r\\n'\"'\"', '\"'\"'\\n'\"'\"');f.close();exec(compile(code, __file__, '\"'\"'exec'\"'\"'))' egg_info --egg-base /private/var/folders/9q/486czkcn7lv5v0hwbt71twdc0000gn/T/pip-pip-egg-info-fij5l91d\n",
      "         cwd: /private/var/folders/9q/486czkcn7lv5v0hwbt71twdc0000gn/T/pip-install-1va3v3bl/futures_04abf1677bb84ae68d481157437199a6/\n",
      "    Complete output (24 lines):\n",
      "    Traceback (most recent call last):\n",
      "      File \"<string>\", line 1, in <module>\n",
      "      File \"/Users/jerrychien/opt/anaconda3/lib/python3.9/site-packages/setuptools/__init__.py\", line 18, in <module>\n",
      "        from setuptools.dist import Distribution\n",
      "      File \"/Users/jerrychien/opt/anaconda3/lib/python3.9/site-packages/setuptools/dist.py\", line 32, in <module>\n",
      "        from setuptools.extern.more_itertools import unique_everseen\n",
      "      File \"<frozen importlib._bootstrap>\", line 1007, in _find_and_load\n",
      "      File \"<frozen importlib._bootstrap>\", line 986, in _find_and_load_unlocked\n",
      "      File \"<frozen importlib._bootstrap>\", line 666, in _load_unlocked\n",
      "      File \"<frozen importlib._bootstrap>\", line 565, in module_from_spec\n",
      "      File \"/Users/jerrychien/opt/anaconda3/lib/python3.9/site-packages/setuptools/extern/__init__.py\", line 52, in create_module\n",
      "        return self.load_module(spec.name)\n",
      "      File \"/Users/jerrychien/opt/anaconda3/lib/python3.9/site-packages/setuptools/extern/__init__.py\", line 37, in load_module\n",
      "        __import__(extant)\n",
      "      File \"/Users/jerrychien/opt/anaconda3/lib/python3.9/site-packages/setuptools/_vendor/more_itertools/__init__.py\", line 1, in <module>\n",
      "        from .more import *  # noqa\n",
      "      File \"/Users/jerrychien/opt/anaconda3/lib/python3.9/site-packages/setuptools/_vendor/more_itertools/more.py\", line 5, in <module>\n",
      "        from concurrent.futures import ThreadPoolExecutor\n",
      "      File \"/private/var/folders/9q/486czkcn7lv5v0hwbt71twdc0000gn/T/pip-install-1va3v3bl/futures_04abf1677bb84ae68d481157437199a6/concurrent/futures/__init__.py\", line 8, in <module>\n",
      "        from concurrent.futures._base import (FIRST_COMPLETED,\n",
      "      File \"/private/var/folders/9q/486czkcn7lv5v0hwbt71twdc0000gn/T/pip-install-1va3v3bl/futures_04abf1677bb84ae68d481157437199a6/concurrent/futures/_base.py\", line 355\n",
      "        raise type(self._exception), self._exception, self._traceback\n",
      "                                   ^\n",
      "    SyntaxError: invalid syntax\n",
      "    ----------------------------------------\u001b[0m\n",
      "\u001b[33mWARNING: Discarding https://files.pythonhosted.org/packages/f8/e7/fc0fcbeb9193ba2d4de00b065e7fd5aecd0679e93ce95a07322b2b1434f4/futures-3.0.2.tar.gz#sha256=dc3fc91508e49e0fd2f8625f0132d16e49c80f882e7e1d565c56b0d5dfbae257 (from https://pypi.org/simple/futures/). Command errored out with exit status 1: python setup.py egg_info Check the logs for full command output.\u001b[0m\n",
      "  Downloading futures-3.0.1.tar.gz (24 kB)\n",
      "\u001b[31m    ERROR: Command errored out with exit status 1:\n",
      "     command: /Users/jerrychien/opt/anaconda3/bin/python -c 'import io, os, sys, setuptools, tokenize; sys.argv[0] = '\"'\"'/private/var/folders/9q/486czkcn7lv5v0hwbt71twdc0000gn/T/pip-install-1va3v3bl/futures_91bdf42db2f04cdca3c94b8752f143cc/setup.py'\"'\"'; __file__='\"'\"'/private/var/folders/9q/486czkcn7lv5v0hwbt71twdc0000gn/T/pip-install-1va3v3bl/futures_91bdf42db2f04cdca3c94b8752f143cc/setup.py'\"'\"';f = getattr(tokenize, '\"'\"'open'\"'\"', open)(__file__) if os.path.exists(__file__) else io.StringIO('\"'\"'from setuptools import setup; setup()'\"'\"');code = f.read().replace('\"'\"'\\r\\n'\"'\"', '\"'\"'\\n'\"'\"');f.close();exec(compile(code, __file__, '\"'\"'exec'\"'\"'))' egg_info --egg-base /private/var/folders/9q/486czkcn7lv5v0hwbt71twdc0000gn/T/pip-pip-egg-info-n9ua7cgf\n",
      "         cwd: /private/var/folders/9q/486czkcn7lv5v0hwbt71twdc0000gn/T/pip-install-1va3v3bl/futures_91bdf42db2f04cdca3c94b8752f143cc/\n",
      "    Complete output (24 lines):\n",
      "    Traceback (most recent call last):\n",
      "      File \"<string>\", line 1, in <module>\n",
      "      File \"/Users/jerrychien/opt/anaconda3/lib/python3.9/site-packages/setuptools/__init__.py\", line 18, in <module>\n",
      "        from setuptools.dist import Distribution\n",
      "      File \"/Users/jerrychien/opt/anaconda3/lib/python3.9/site-packages/setuptools/dist.py\", line 32, in <module>\n",
      "        from setuptools.extern.more_itertools import unique_everseen\n",
      "      File \"<frozen importlib._bootstrap>\", line 1007, in _find_and_load\n",
      "      File \"<frozen importlib._bootstrap>\", line 986, in _find_and_load_unlocked\n",
      "      File \"<frozen importlib._bootstrap>\", line 666, in _load_unlocked\n",
      "      File \"<frozen importlib._bootstrap>\", line 565, in module_from_spec\n",
      "      File \"/Users/jerrychien/opt/anaconda3/lib/python3.9/site-packages/setuptools/extern/__init__.py\", line 52, in create_module\n",
      "        return self.load_module(spec.name)\n",
      "      File \"/Users/jerrychien/opt/anaconda3/lib/python3.9/site-packages/setuptools/extern/__init__.py\", line 37, in load_module\n",
      "        __import__(extant)\n",
      "      File \"/Users/jerrychien/opt/anaconda3/lib/python3.9/site-packages/setuptools/_vendor/more_itertools/__init__.py\", line 1, in <module>\n",
      "        from .more import *  # noqa\n",
      "      File \"/Users/jerrychien/opt/anaconda3/lib/python3.9/site-packages/setuptools/_vendor/more_itertools/more.py\", line 5, in <module>\n",
      "        from concurrent.futures import ThreadPoolExecutor\n",
      "      File \"/private/var/folders/9q/486czkcn7lv5v0hwbt71twdc0000gn/T/pip-install-1va3v3bl/futures_91bdf42db2f04cdca3c94b8752f143cc/concurrent/futures/__init__.py\", line 8, in <module>\n",
      "        from concurrent.futures._base import (FIRST_COMPLETED,\n",
      "      File \"/private/var/folders/9q/486czkcn7lv5v0hwbt71twdc0000gn/T/pip-install-1va3v3bl/futures_91bdf42db2f04cdca3c94b8752f143cc/concurrent/futures/_base.py\", line 355\n",
      "        raise type(self._exception), self._exception, self._traceback\n",
      "                                   ^\n",
      "    SyntaxError: invalid syntax\n",
      "    ----------------------------------------\u001b[0m\n",
      "\u001b[33mWARNING: Discarding https://files.pythonhosted.org/packages/b2/2c/6b6a57379e47031c6f52e625e0e2b8f6702a8d1f61b6e0daee391e82c187/futures-3.0.1.tar.gz#sha256=f78f2ef458639d72a625cf9c7643cf5442bb222ac11c12bcc445c6ad1cd862e2 (from https://pypi.org/simple/futures/). Command errored out with exit status 1: python setup.py egg_info Check the logs for full command output.\u001b[0m\n",
      "  Downloading futures-3.0.0.tar.gz (24 kB)\n",
      "\u001b[31m    ERROR: Command errored out with exit status 1:\n",
      "     command: /Users/jerrychien/opt/anaconda3/bin/python -c 'import io, os, sys, setuptools, tokenize; sys.argv[0] = '\"'\"'/private/var/folders/9q/486czkcn7lv5v0hwbt71twdc0000gn/T/pip-install-1va3v3bl/futures_44132749b5504c3d8574f0a844d5ae13/setup.py'\"'\"'; __file__='\"'\"'/private/var/folders/9q/486czkcn7lv5v0hwbt71twdc0000gn/T/pip-install-1va3v3bl/futures_44132749b5504c3d8574f0a844d5ae13/setup.py'\"'\"';f = getattr(tokenize, '\"'\"'open'\"'\"', open)(__file__) if os.path.exists(__file__) else io.StringIO('\"'\"'from setuptools import setup; setup()'\"'\"');code = f.read().replace('\"'\"'\\r\\n'\"'\"', '\"'\"'\\n'\"'\"');f.close();exec(compile(code, __file__, '\"'\"'exec'\"'\"'))' egg_info --egg-base /private/var/folders/9q/486czkcn7lv5v0hwbt71twdc0000gn/T/pip-pip-egg-info-6ceii2m2\n",
      "         cwd: /private/var/folders/9q/486czkcn7lv5v0hwbt71twdc0000gn/T/pip-install-1va3v3bl/futures_44132749b5504c3d8574f0a844d5ae13/\n",
      "    Complete output (24 lines):\n",
      "    Traceback (most recent call last):\n",
      "      File \"<string>\", line 1, in <module>\n",
      "      File \"/Users/jerrychien/opt/anaconda3/lib/python3.9/site-packages/setuptools/__init__.py\", line 18, in <module>\n",
      "        from setuptools.dist import Distribution\n",
      "      File \"/Users/jerrychien/opt/anaconda3/lib/python3.9/site-packages/setuptools/dist.py\", line 32, in <module>\n",
      "        from setuptools.extern.more_itertools import unique_everseen\n",
      "      File \"<frozen importlib._bootstrap>\", line 1007, in _find_and_load\n",
      "      File \"<frozen importlib._bootstrap>\", line 986, in _find_and_load_unlocked\n",
      "      File \"<frozen importlib._bootstrap>\", line 666, in _load_unlocked\n",
      "      File \"<frozen importlib._bootstrap>\", line 565, in module_from_spec\n",
      "      File \"/Users/jerrychien/opt/anaconda3/lib/python3.9/site-packages/setuptools/extern/__init__.py\", line 52, in create_module\n",
      "        return self.load_module(spec.name)\n",
      "      File \"/Users/jerrychien/opt/anaconda3/lib/python3.9/site-packages/setuptools/extern/__init__.py\", line 37, in load_module\n",
      "        __import__(extant)\n",
      "      File \"/Users/jerrychien/opt/anaconda3/lib/python3.9/site-packages/setuptools/_vendor/more_itertools/__init__.py\", line 1, in <module>\n",
      "        from .more import *  # noqa\n",
      "      File \"/Users/jerrychien/opt/anaconda3/lib/python3.9/site-packages/setuptools/_vendor/more_itertools/more.py\", line 5, in <module>\n",
      "        from concurrent.futures import ThreadPoolExecutor\n",
      "      File \"/private/var/folders/9q/486czkcn7lv5v0hwbt71twdc0000gn/T/pip-install-1va3v3bl/futures_44132749b5504c3d8574f0a844d5ae13/concurrent/futures/__init__.py\", line 8, in <module>\n",
      "        from concurrent.futures._base import (FIRST_COMPLETED,\n",
      "      File \"/private/var/folders/9q/486czkcn7lv5v0hwbt71twdc0000gn/T/pip-install-1va3v3bl/futures_44132749b5504c3d8574f0a844d5ae13/concurrent/futures/_base.py\", line 354\n",
      "        raise type(self._exception), self._exception, self._traceback\n",
      "                                   ^\n",
      "    SyntaxError: invalid syntax\n",
      "    ----------------------------------------\u001b[0m\n",
      "\u001b[33mWARNING: Discarding https://files.pythonhosted.org/packages/ea/c9/35287369718fc05059e7a9d0d73c53745fe981010b4185b3858e7d46eff1/futures-3.0.0.tar.gz#sha256=d9cd7bb09aa01f0e4940af64c31fbd7045098b7b4354420d7838ea39e8b86ee3 (from https://pypi.org/simple/futures/). Command errored out with exit status 1: python setup.py egg_info Check the logs for full command output.\u001b[0m\n"
     ]
    },
    {
     "name": "stdout",
     "output_type": "stream",
     "text": [
      "  Downloading futures-2.2.0-py2.py3-none-any.whl (16 kB)\n",
      "Building wheels for collected packages: goslate\n",
      "  Building wheel for goslate (setup.py) ... \u001b[?25ldone\n",
      "\u001b[?25h  Created wheel for goslate: filename=goslate-1.5.2-py3-none-any.whl size=11436 sha256=22621fd2e93379d6800b52ba3cf630da3656e065ac5dc3e510aaa4e87375d538\n",
      "  Stored in directory: /Users/jerrychien/Library/Caches/pip/wheels/5f/a5/62/dd66fa77b5832a793e643eaa7da5866964c59eae1bd9007c54\n",
      "Successfully built goslate\n",
      "Installing collected packages: futures, goslate\n",
      "Successfully installed futures-2.2.0 goslate-1.5.2\n"
     ]
    }
   ],
   "source": [
    "!pip install goslate"
   ]
  },
  {
   "cell_type": "code",
   "execution_count": 2,
   "metadata": {},
   "outputs": [
    {
     "data": {
      "text/plain": [
       "'Python三项全能语言转换'"
      ]
     },
     "execution_count": 2,
     "metadata": {},
     "output_type": "execute_result"
    }
   ],
   "source": [
    "import goslate\n",
    "inserted_text = \"Python triathlon language conversion\"\n",
    "new_gs = goslate.Goslate()\n",
    "new_gs.translate(inserted_text,'zh')"
   ]
  },
  {
   "cell_type": "markdown",
   "metadata": {},
   "source": [
    "## Translate Library"
   ]
  },
  {
   "cell_type": "code",
   "execution_count": 3,
   "metadata": {},
   "outputs": [
    {
     "name": "stdout",
     "output_type": "stream",
     "text": [
      "Collecting translate\n",
      "  Downloading translate-3.6.1-py2.py3-none-any.whl (12 kB)\n",
      "Requirement already satisfied: click in /Users/jerrychien/opt/anaconda3/lib/python3.9/site-packages (from translate) (8.0.3)\n",
      "Requirement already satisfied: requests in /Users/jerrychien/opt/anaconda3/lib/python3.9/site-packages (from translate) (2.26.0)\n",
      "Collecting libretranslatepy==2.1.1\n",
      "  Downloading libretranslatepy-2.1.1-py3-none-any.whl (3.2 kB)\n",
      "Requirement already satisfied: lxml in /Users/jerrychien/opt/anaconda3/lib/python3.9/site-packages (from translate) (4.6.3)\n",
      "Requirement already satisfied: charset-normalizer~=2.0.0 in /Users/jerrychien/opt/anaconda3/lib/python3.9/site-packages (from requests->translate) (2.0.4)\n",
      "Requirement already satisfied: idna<4,>=2.5 in /Users/jerrychien/opt/anaconda3/lib/python3.9/site-packages (from requests->translate) (3.2)\n",
      "Requirement already satisfied: certifi>=2017.4.17 in /Users/jerrychien/opt/anaconda3/lib/python3.9/site-packages (from requests->translate) (2021.10.8)\n",
      "Requirement already satisfied: urllib3<1.27,>=1.21.1 in /Users/jerrychien/opt/anaconda3/lib/python3.9/site-packages (from requests->translate) (1.26.7)\n",
      "Installing collected packages: libretranslatepy, translate\n",
      "Successfully installed libretranslatepy-2.1.1 translate-3.6.1\n"
     ]
    }
   ],
   "source": [
    "!pip install translate"
   ]
  },
  {
   "cell_type": "code",
   "execution_count": 4,
   "metadata": {},
   "outputs": [
    {
     "data": {
      "text/plain": [
       "'这是一个有用的库'"
      ]
     },
     "execution_count": 4,
     "metadata": {},
     "output_type": "execute_result"
    }
   ],
   "source": [
    "from translate import Translator\n",
    "translator = Translator(from_lang=\"english\", to_lang=\"chinese\")\n",
    "translation = translator.translate(\"This is a useful library\")\n",
    "translation"
   ]
  },
  {
   "cell_type": "markdown",
   "metadata": {},
   "source": [
    "## Text Library"
   ]
  },
  {
   "cell_type": "code",
   "execution_count": 5,
   "metadata": {},
   "outputs": [
    {
     "name": "stdout",
     "output_type": "stream",
     "text": [
      "Requirement already satisfied: textblob in /Users/jerrychien/opt/anaconda3/lib/python3.9/site-packages (0.17.1)\n",
      "Requirement already satisfied: nltk>=3.1 in /Users/jerrychien/opt/anaconda3/lib/python3.9/site-packages (from textblob) (3.6.5)\n",
      "Requirement already satisfied: click in /Users/jerrychien/opt/anaconda3/lib/python3.9/site-packages (from nltk>=3.1->textblob) (8.0.3)\n",
      "Requirement already satisfied: joblib in /Users/jerrychien/opt/anaconda3/lib/python3.9/site-packages (from nltk>=3.1->textblob) (1.0.1)\n",
      "Requirement already satisfied: regex>=2021.8.3 in /Users/jerrychien/opt/anaconda3/lib/python3.9/site-packages (from nltk>=3.1->textblob) (2021.8.3)\n",
      "Requirement already satisfied: tqdm in /Users/jerrychien/opt/anaconda3/lib/python3.9/site-packages (from nltk>=3.1->textblob) (4.62.3)\n"
     ]
    }
   ],
   "source": [
    "!pip install textblob"
   ]
  },
  {
   "cell_type": "code",
   "execution_count": 6,
   "metadata": {},
   "outputs": [
    {
     "data": {
      "text/plain": [
       "TextBlob(\"在python中翻译文本的简单方法\")"
      ]
     },
     "execution_count": 6,
     "metadata": {},
     "output_type": "execute_result"
    }
   ],
   "source": [
    "from textblob import TextBlob\n",
    "adding_blob = TextBlob('Easy way to translate a text in python')\n",
    "adding_blob.translate(to = 'zh')"
   ]
  },
  {
   "cell_type": "code",
   "execution_count": null,
   "metadata": {},
   "outputs": [],
   "source": []
  }
 ],
 "metadata": {
  "kernelspec": {
   "display_name": "Python 3 (ipykernel)",
   "language": "python",
   "name": "python3"
  },
  "language_info": {
   "codemirror_mode": {
    "name": "ipython",
    "version": 3
   },
   "file_extension": ".py",
   "mimetype": "text/x-python",
   "name": "python",
   "nbconvert_exporter": "python",
   "pygments_lexer": "ipython3",
   "version": "3.9.7"
  }
 },
 "nbformat": 4,
 "nbformat_minor": 4
}
