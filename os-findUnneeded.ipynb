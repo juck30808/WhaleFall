{
 "cells": [
  {
   "cell_type": "code",
   "execution_count": 1,
   "id": "7e8a2a81",
   "metadata": {},
   "outputs": [
    {
     "name": "stdout",
     "output_type": "stream",
     "text": [
      "C:\\Users\\USER\\Documents\\GitHub\\WhaleFall: 181599117\n"
     ]
    }
   ],
   "source": [
    "import os\n",
    "\n",
    "def findUnneeded(folderPath, rejectSize):\n",
    "    root = os.path.abspath(folderPath)\n",
    "    for doc in os.listdir(root):\n",
    "\n",
    "        docPath = os.path.join(root, doc)\n",
    "\n",
    "        if os.path.isdir(docPath):\n",
    "            size = getDirSize(docPath)\n",
    "        else:\n",
    "            size = os.path.getsize(docPath)\n",
    "\n",
    "        if size > rejectSize:\n",
    "            print(f'{docPath}: {size}')\n",
    "\n",
    "def getDirSize(start_path):\n",
    "    size = 0\n",
    "    for folderName, subFolder, filename in os.walk(start_path):\n",
    "        for file in filename:\n",
    "            filePath = os.path.join(folderName, file)\n",
    "            size += os.path.getsize(filePath)\n",
    "    return size\n",
    "\n",
    "if __name__ == '__main__':\n",
    "    findUnneeded('..', 1000)"
   ]
  },
  {
   "cell_type": "code",
   "execution_count": null,
   "id": "b0e58217",
   "metadata": {},
   "outputs": [],
   "source": []
  }
 ],
 "metadata": {
  "kernelspec": {
   "display_name": "Python 3 (ipykernel)",
   "language": "python",
   "name": "python3"
  },
  "language_info": {
   "codemirror_mode": {
    "name": "ipython",
    "version": 3
   },
   "file_extension": ".py",
   "mimetype": "text/x-python",
   "name": "python",
   "nbconvert_exporter": "python",
   "pygments_lexer": "ipython3",
   "version": "3.9.7"
  }
 },
 "nbformat": 4,
 "nbformat_minor": 5
}
