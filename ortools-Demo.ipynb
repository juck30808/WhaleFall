{
 "cells": [
  {
   "cell_type": "code",
   "execution_count": 1,
   "metadata": {},
   "outputs": [
    {
     "name": "stdout",
     "output_type": "stream",
     "text": [
      "Pretty printing has been turned OFF\n"
     ]
    }
   ],
   "source": [
    "## Demo Notebook example\n",
    "from ortools.constraint_solver import routing_enums_pb2\n",
    "from ortools.constraint_solver import pywrapcp\n",
    "\n",
    "import pandas as pd\n",
    "%pprint"
   ]
  },
  {
   "cell_type": "code",
   "execution_count": 2,
   "metadata": {},
   "outputs": [
    {
     "data": {
      "text/html": [
       "<div>\n",
       "<style scoped>\n",
       "    .dataframe tbody tr th:only-of-type {\n",
       "        vertical-align: middle;\n",
       "    }\n",
       "\n",
       "    .dataframe tbody tr th {\n",
       "        vertical-align: top;\n",
       "    }\n",
       "\n",
       "    .dataframe thead th {\n",
       "        text-align: right;\n",
       "    }\n",
       "</style>\n",
       "<table border=\"1\" class=\"dataframe\">\n",
       "  <thead>\n",
       "    <tr style=\"text-align: right;\">\n",
       "      <th></th>\n",
       "      <th>serial</th>\n",
       "      <th>a</th>\n",
       "      <th>b</th>\n",
       "    </tr>\n",
       "  </thead>\n",
       "  <tbody>\n",
       "    <tr>\n",
       "      <th>0</th>\n",
       "      <td>0</td>\n",
       "      <td>0</td>\n",
       "      <td>0</td>\n",
       "    </tr>\n",
       "    <tr>\n",
       "      <th>1</th>\n",
       "      <td>1</td>\n",
       "      <td>10</td>\n",
       "      <td>265</td>\n",
       "    </tr>\n",
       "    <tr>\n",
       "      <th>2</th>\n",
       "      <td>2</td>\n",
       "      <td>20</td>\n",
       "      <td>265</td>\n",
       "    </tr>\n",
       "    <tr>\n",
       "      <th>3</th>\n",
       "      <td>3</td>\n",
       "      <td>0</td>\n",
       "      <td>265</td>\n",
       "    </tr>\n",
       "    <tr>\n",
       "      <th>4</th>\n",
       "      <td>4</td>\n",
       "      <td>0</td>\n",
       "      <td>265</td>\n",
       "    </tr>\n",
       "    <tr>\n",
       "      <th>5</th>\n",
       "      <td>5</td>\n",
       "      <td>0</td>\n",
       "      <td>265</td>\n",
       "    </tr>\n",
       "    <tr>\n",
       "      <th>6</th>\n",
       "      <td>6</td>\n",
       "      <td>0</td>\n",
       "      <td>265</td>\n",
       "    </tr>\n",
       "    <tr>\n",
       "      <th>7</th>\n",
       "      <td>7</td>\n",
       "      <td>80</td>\n",
       "      <td>265</td>\n",
       "    </tr>\n",
       "    <tr>\n",
       "      <th>8</th>\n",
       "      <td>8</td>\n",
       "      <td>0</td>\n",
       "      <td>265</td>\n",
       "    </tr>\n",
       "    <tr>\n",
       "      <th>9</th>\n",
       "      <td>9</td>\n",
       "      <td>0</td>\n",
       "      <td>265</td>\n",
       "    </tr>\n",
       "    <tr>\n",
       "      <th>10</th>\n",
       "      <td>10</td>\n",
       "      <td>140</td>\n",
       "      <td>265</td>\n",
       "    </tr>\n",
       "    <tr>\n",
       "      <th>11</th>\n",
       "      <td>11</td>\n",
       "      <td>0</td>\n",
       "      <td>265</td>\n",
       "    </tr>\n",
       "    <tr>\n",
       "      <th>12</th>\n",
       "      <td>12</td>\n",
       "      <td>0</td>\n",
       "      <td>265</td>\n",
       "    </tr>\n",
       "    <tr>\n",
       "      <th>13</th>\n",
       "      <td>13</td>\n",
       "      <td>0</td>\n",
       "      <td>265</td>\n",
       "    </tr>\n",
       "    <tr>\n",
       "      <th>14</th>\n",
       "      <td>14</td>\n",
       "      <td>30</td>\n",
       "      <td>265</td>\n",
       "    </tr>\n",
       "    <tr>\n",
       "      <th>15</th>\n",
       "      <td>15</td>\n",
       "      <td>40</td>\n",
       "      <td>265</td>\n",
       "    </tr>\n",
       "    <tr>\n",
       "      <th>16</th>\n",
       "      <td>16</td>\n",
       "      <td>50</td>\n",
       "      <td>265</td>\n",
       "    </tr>\n",
       "    <tr>\n",
       "      <th>17</th>\n",
       "      <td>17</td>\n",
       "      <td>60</td>\n",
       "      <td>265</td>\n",
       "    </tr>\n",
       "    <tr>\n",
       "      <th>18</th>\n",
       "      <td>18</td>\n",
       "      <td>70</td>\n",
       "      <td>265</td>\n",
       "    </tr>\n",
       "    <tr>\n",
       "      <th>19</th>\n",
       "      <td>19</td>\n",
       "      <td>80</td>\n",
       "      <td>265</td>\n",
       "    </tr>\n",
       "    <tr>\n",
       "      <th>20</th>\n",
       "      <td>20</td>\n",
       "      <td>0</td>\n",
       "      <td>265</td>\n",
       "    </tr>\n",
       "    <tr>\n",
       "      <th>21</th>\n",
       "      <td>21</td>\n",
       "      <td>0</td>\n",
       "      <td>265</td>\n",
       "    </tr>\n",
       "    <tr>\n",
       "      <th>22</th>\n",
       "      <td>22</td>\n",
       "      <td>120</td>\n",
       "      <td>265</td>\n",
       "    </tr>\n",
       "    <tr>\n",
       "      <th>23</th>\n",
       "      <td>23</td>\n",
       "      <td>0</td>\n",
       "      <td>265</td>\n",
       "    </tr>\n",
       "    <tr>\n",
       "      <th>24</th>\n",
       "      <td>24</td>\n",
       "      <td>0</td>\n",
       "      <td>265</td>\n",
       "    </tr>\n",
       "    <tr>\n",
       "      <th>25</th>\n",
       "      <td>25</td>\n",
       "      <td>90</td>\n",
       "      <td>265</td>\n",
       "    </tr>\n",
       "    <tr>\n",
       "      <th>26</th>\n",
       "      <td>26</td>\n",
       "      <td>0</td>\n",
       "      <td>265</td>\n",
       "    </tr>\n",
       "    <tr>\n",
       "      <th>27</th>\n",
       "      <td>27</td>\n",
       "      <td>120</td>\n",
       "      <td>265</td>\n",
       "    </tr>\n",
       "    <tr>\n",
       "      <th>28</th>\n",
       "      <td>28</td>\n",
       "      <td>0</td>\n",
       "      <td>265</td>\n",
       "    </tr>\n",
       "    <tr>\n",
       "      <th>29</th>\n",
       "      <td>29</td>\n",
       "      <td>0</td>\n",
       "      <td>265</td>\n",
       "    </tr>\n",
       "  </tbody>\n",
       "</table>\n",
       "</div>"
      ],
      "text/plain": [
       "    serial    a    b\n",
       "0        0    0    0\n",
       "1        1   10  265\n",
       "2        2   20  265\n",
       "3        3    0  265\n",
       "4        4    0  265\n",
       "5        5    0  265\n",
       "6        6    0  265\n",
       "7        7   80  265\n",
       "8        8    0  265\n",
       "9        9    0  265\n",
       "10      10  140  265\n",
       "11      11    0  265\n",
       "12      12    0  265\n",
       "13      13    0  265\n",
       "14      14   30  265\n",
       "15      15   40  265\n",
       "16      16   50  265\n",
       "17      17   60  265\n",
       "18      18   70  265\n",
       "19      19   80  265\n",
       "20      20    0  265\n",
       "21      21    0  265\n",
       "22      22  120  265\n",
       "23      23    0  265\n",
       "24      24    0  265\n",
       "25      25   90  265\n",
       "26      26    0  265\n",
       "27      27  120  265\n",
       "28      28    0  265\n",
       "29      29    0  265"
      ]
     },
     "execution_count": 2,
     "metadata": {},
     "output_type": "execute_result"
    }
   ],
   "source": [
    "### this is yff morning durations where two vehicles will be utilized , no pick up schedule provided \n",
    "### the problem is to utilize the two vehicles with the minimum duration possible \n",
    "import pandas as pd\n",
    "from ortools.constraint_solver import routing_enums_pb2\n",
    "from ortools.constraint_solver import pywrapcp\n",
    "dist=pd.read_excel('input/durations.xlsx')\n",
    "window=pd.read_excel('input/time_windows.xlsx')\n",
    "\n",
    "window"
   ]
  },
  {
   "cell_type": "code",
   "execution_count": 3,
   "metadata": {},
   "outputs": [
    {
     "data": {
      "text/plain": [
       "[[0, 15, 14, 19, 13, 10, 13, 12, 8, 10, 13, 31, 12, 13, 12, 13, 4, 8, 23, 11, 12, 11, 15, 10, 11, 10, 6, 14, 8, 0], [16, 0, 25, 6, 11, 19, 11, 20, 20, 14, 24, 43, 23, 15, 7, 11, 16, 12, 24, 22, 21, 9, 27, 22, 23, 22, 18, 21, 15, 15], [12, 26, 0, 30, 24, 20, 24, 22, 10, 20, 11, 30, 13, 24, 23, 24, 15, 18, 34, 9, 23, 22, 14, 9, 13, 6, 10, 24, 18, 12], [20, 6, 30, 0, 15, 23, 15, 25, 24, 18, 28, 47, 28, 20, 12, 15, 20, 16, 22, 27, 25, 14, 31, 26, 27, 26, 22, 24, 19, 20], [13, 11, 23, 15, 0, 14, 0, 16, 18, 11, 22, 41, 21, 11, 8, 0, 14, 8, 23, 20, 17, 10, 25, 19, 21, 20, 16, 17, 12, 13], [11, 19, 21, 23, 14, 0, 14, 2, 16, 14, 20, 39, 19, 7, 16, 14, 10, 11, 15, 18, 2, 15, 23, 17, 19, 18, 14, 6, 6, 11], [13, 11, 23, 15, 0, 14, 0, 16, 18, 11, 22, 41, 21, 11, 8, 0, 14, 8, 23, 20, 17, 10, 25, 19, 21, 20, 16, 17, 12, 13], [13, 21, 23, 25, 16, 2, 16, 0, 18, 15, 22, 40, 21, 8, 18, 16, 11, 12, 16, 20, 1, 17, 25, 19, 21, 20, 16, 8, 8, 13], [7, 21, 10, 25, 19, 16, 19, 18, 0, 15, 5, 28, 6, 19, 18, 19, 10, 13, 29, 7, 18, 17, 12, 2, 9, 7, 5, 20, 14, 7], [10, 14, 20, 18, 12, 13, 12, 15, 14, 0, 19, 37, 18, 14, 11, 12, 10, 6, 25, 17, 16, 10, 21, 16, 18, 16, 12, 16, 10, 10], [11, 24, 11, 28, 23, 19, 23, 21, 5, 19, 0, 27, 5, 23, 22, 23, 13, 17, 32, 5, 22, 21, 11, 3, 10, 9, 9, 23, 17, 11], [30, 44, 30, 48, 42, 38, 42, 40, 28, 36, 28, 0, 31, 42, 41, 42, 33, 36, 48, 24, 41, 37, 21, 28, 31, 28, 28, 42, 36, 30], [11, 25, 13, 29, 23, 20, 23, 21, 6, 19, 5, 34, 0, 23, 22, 23, 14, 17, 33, 9, 22, 21, 15, 4, 8, 11, 9, 24, 18, 11], [14, 16, 24, 20, 11, 7, 11, 8, 18, 14, 23, 41, 22, 0, 13, 11, 12, 10, 16, 21, 8, 15, 26, 20, 22, 20, 16, 7, 8, 14], [13, 7, 23, 11, 7, 16, 7, 18, 18, 11, 22, 41, 21, 13, 0, 7, 14, 10, 25, 20, 19, 7, 25, 19, 21, 20, 16, 19, 13, 13], [13, 11, 23, 15, 0, 14, 0, 16, 18, 11, 22, 41, 21, 11, 8, 0, 14, 8, 23, 20, 17, 10, 25, 19, 21, 20, 16, 17, 12, 13], [5, 16, 15, 20, 15, 11, 15, 13, 10, 11, 14, 33, 13, 14, 14, 15, 0, 8, 24, 12, 14, 12, 17, 12, 13, 12, 8, 15, 9, 6], [8, 12, 18, 16, 9, 11, 9, 13, 13, 6, 17, 36, 16, 10, 9, 9, 8, 0, 22, 15, 14, 8, 20, 14, 16, 15, 11, 14, 7, 8], [24, 24, 33, 21, 23, 15, 23, 17, 28, 24, 32, 46, 32, 15, 25, 23, 22, 21, 0, 30, 16, 26, 30, 30, 31, 30, 26, 9, 18, 24], [9, 23, 9, 27, 21, 18, 21, 20, 7, 18, 6, 24, 9, 21, 20, 21, 12, 15, 31, 0, 20, 19, 8, 5, 11, 7, 7, 22, 16, 9], [13, 21, 23, 25, 16, 3, 16, 1, 17, 15, 22, 40, 21, 8, 18, 16, 11, 12, 15, 20, 0, 17, 24, 19, 21, 20, 16, 8, 8, 13], [12, 10, 22, 14, 11, 16, 11, 17, 17, 9, 21, 39, 20, 15, 8, 11, 13, 8, 27, 19, 18, 0, 24, 18, 20, 19, 15, 18, 12, 12], [14, 28, 14, 32, 26, 23, 26, 24, 12, 22, 12, 21, 15, 26, 25, 26, 17, 20, 32, 8, 25, 24, 0, 12, 16, 12, 12, 26, 21, 14], [9, 23, 9, 27, 21, 18, 21, 19, 3, 17, 3, 27, 4, 21, 20, 21, 12, 15, 31, 6, 20, 19, 12, 0, 7, 8, 7, 21, 16, 9], [12, 26, 15, 30, 24, 20, 24, 22, 9, 17, 10, 33, 9, 24, 23, 24, 15, 18, 34, 12, 23, 18, 17, 7, 0, 12, 10, 24, 18, 12], [9, 23, 6, 27, 21, 18, 21, 19, 7, 17, 9, 27, 10, 21, 20, 21, 12, 15, 31, 6, 20, 19, 11, 7, 10, 0, 7, 22, 16, 9], [5, 19, 10, 23, 17, 14, 17, 16, 5, 14, 9, 28, 8, 17, 16, 17, 8, 11, 27, 7, 16, 15, 12, 6, 8, 7, 0, 18, 12, 5], [15, 21, 25, 23, 16, 6, 16, 8, 20, 16, 24, 42, 23, 6, 19, 16, 13, 13, 9, 22, 9, 17, 27, 21, 23, 22, 18, 0, 10, 15], [9, 16, 19, 20, 13, 6, 13, 8, 14, 10, 18, 37, 17, 8, 13, 13, 7, 7, 18, 16, 8, 12, 21, 15, 17, 16, 12, 9, 0, 9], [0, 15, 14, 19, 13, 10, 13, 12, 8, 10, 13, 31, 12, 13, 12, 13, 4, 7, 23, 11, 12, 11, 15, 10, 11, 10, 6, 14, 8, 0]]"
      ]
     },
     "execution_count": 3,
     "metadata": {},
     "output_type": "execute_result"
    }
   ],
   "source": [
    "ab=[]\n",
    "for i in range(0,dist.shape[0]):\n",
    "   a=dist.loc[i,:].values\n",
    "   a=a.tolist()\n",
    "   ab.append(a)\n",
    "ab"
   ]
  },
  {
   "cell_type": "code",
   "execution_count": 4,
   "metadata": {},
   "outputs": [],
   "source": [
    "data={}\n",
    "data['time_matrix']=ab\n",
    "data['num_vehicles'] = 2\n",
    "data['depot'] = 0\n",
    "data['time_windows']=[]\n",
    "for i in range(0,window.shape[0]):\n",
    "    data['time_windows'].append((window['a'][i],window['b'][i]))\n"
   ]
  },
  {
   "cell_type": "code",
   "execution_count": 5,
   "metadata": {},
   "outputs": [
    {
     "data": {
      "text/plain": [
       "30"
      ]
     },
     "execution_count": 5,
     "metadata": {},
     "output_type": "execute_result"
    }
   ],
   "source": [
    "len(data['time_matrix'])\n"
   ]
  },
  {
   "cell_type": "code",
   "execution_count": 6,
   "metadata": {},
   "outputs": [
    {
     "data": {
      "text/plain": [
       "30"
      ]
     },
     "execution_count": 6,
     "metadata": {},
     "output_type": "execute_result"
    }
   ],
   "source": [
    "len(data['time_windows'])"
   ]
  },
  {
   "cell_type": "code",
   "execution_count": 7,
   "metadata": {},
   "outputs": [
    {
     "data": {
      "text/plain": [
       "[(0, 0), (10, 265), (20, 265), (0, 265), (0, 265), (0, 265), (0, 265), (80, 265), (0, 265), (0, 265), (140, 265), (0, 265), (0, 265), (0, 265), (30, 265), (40, 265), (50, 265), (60, 265), (70, 265), (80, 265), (0, 265), (0, 265), (120, 265), (0, 265), (0, 265), (90, 265), (0, 265), (120, 265), (0, 265), (0, 265)]"
      ]
     },
     "execution_count": 7,
     "metadata": {},
     "output_type": "execute_result"
    }
   ],
   "source": [
    "data['time_windows']\n"
   ]
  },
  {
   "cell_type": "code",
   "execution_count": 8,
   "metadata": {},
   "outputs": [],
   "source": [
    "manager= pywrapcp.RoutingIndexManager(len(data['time_matrix']),data['num_vehicles'],data['depot'])\n",
    "\n",
    "routing= pywrapcp.RoutingModel(manager)\n"
   ]
  },
  {
   "cell_type": "code",
   "execution_count": null,
   "metadata": {},
   "outputs": [],
   "source": []
  },
  {
   "cell_type": "code",
   "execution_count": 9,
   "metadata": {},
   "outputs": [
    {
     "data": {
      "text/plain": [
       "True"
      ]
     },
     "execution_count": 9,
     "metadata": {},
     "output_type": "execute_result"
    }
   ],
   "source": [
    "def time_callback(from_index,to_index):\n",
    "    from_node= manager.IndexToNode(from_index)\n",
    "    to_node= manager.IndexToNode(to_index)\n",
    "    return data['time_matrix'][from_node][to_node]\n",
    "\n",
    "transit_callback_index= routing.RegisterTransitCallback(time_callback)\n",
    "\n",
    "routing.SetArcCostEvaluatorOfAllVehicles(transit_callback_index)\n",
    "\n",
    "time='Time'\n",
    "routing.AddDimension( transit_callback_index\n",
    "    , 260\n",
    "    , 260, False, time)\n",
    "\n",
    "\n"
   ]
  },
  {
   "cell_type": "code",
   "execution_count": 10,
   "metadata": {},
   "outputs": [
    {
     "data": {
      "text/plain": [
       "0"
      ]
     },
     "execution_count": 10,
     "metadata": {},
     "output_type": "execute_result"
    }
   ],
   "source": [
    "time_dimension= routing.GetDimensionOrDie(time)\n",
    "time_dimension.SetGlobalSpanCostCoefficient(1000)\n",
    "\n",
    "data['time_windows'][0][0]"
   ]
  },
  {
   "cell_type": "code",
   "execution_count": 11,
   "metadata": {},
   "outputs": [],
   "source": [
    "###Adding time windows consttraint\n",
    "\n",
    "for node, time_window in enumerate(data['time_windows']):\n",
    "    if node ==0:\n",
    "        continue\n",
    "    index= manager.NodeToIndex(node)\n",
    "    time_dimension.CumulVar(index).SetRange(int(time_window[0]),int(time_window[1]))\n",
    "\n",
    "\n"
   ]
  },
  {
   "cell_type": "code",
   "execution_count": 12,
   "metadata": {},
   "outputs": [],
   "source": [
    "for vehicle_id in range(data['num_vehicles']):\n",
    "        index = routing.Start(vehicle_id)\n",
    "        time_dimension.CumulVar(index).SetRange(int(data['time_windows'][0][0]),\n",
    "                                                int(data['time_windows'][0][1]))\n",
    "\n",
    "for i in range(data['num_vehicles']):\n",
    "        routing.AddVariableMinimizedByFinalizer(\n",
    "            time_dimension.CumulVar(routing.Start(i)))\n",
    "        routing.AddVariableMinimizedByFinalizer(\n",
    "            time_dimension.CumulVar(routing.End(i)))\n"
   ]
  },
  {
   "cell_type": "code",
   "execution_count": 13,
   "metadata": {},
   "outputs": [],
   "source": [
    "    # Setting first solution heuristic.\n",
    "\n",
    "search_parameters = pywrapcp.DefaultRoutingSearchParameters()\n",
    "search_parameters.first_solution_strategy = (\n",
    "        routing_enums_pb2.FirstSolutionStrategy.PATH_CHEAPEST_ARC)\n",
    "search_parameters.local_search_metaheuristic = (\n",
    "    routing_enums_pb2.LocalSearchMetaheuristic.GUIDED_LOCAL_SEARCH)\n",
    "search_parameters.time_limit.seconds=300\n"
   ]
  },
  {
   "cell_type": "code",
   "execution_count": 14,
   "metadata": {},
   "outputs": [],
   "source": [
    "# Solve the problem.\n",
    "solution = routing.SolveWithParameters(search_parameters)\n",
    "\n"
   ]
  },
  {
   "cell_type": "code",
   "execution_count": 15,
   "metadata": {},
   "outputs": [
    {
     "data": {
      "text/plain": [
       "[[0, 29, 26, 24, 12, 23, 8, 11, 2, 25, 22, 19, 10, 0], [0, 21, 3, 1, 14, 6, 4, 15, 17, 9, 5, 7, 20, 18, 27, 13, 28, 16, 0]]"
      ]
     },
     "execution_count": 15,
     "metadata": {},
     "output_type": "execute_result"
    }
   ],
   "source": [
    "def get_routes(solution,routing,manager):\n",
    "    routes=[]\n",
    "    for node in range(routing.vehicles()):\n",
    "        index= routing.Start(node)\n",
    "        route= [manager.IndexToNode(index)]\n",
    "        while not routing.IsEnd(index):\n",
    "            index= solution.Value(routing.NextVar(index))\n",
    "            route.append(manager.IndexToNode(index))\n",
    "        routes.append(route)\n",
    "    return(routes)\n",
    "get_routes(solution,routing,manager)            \n",
    "        \n",
    "        \n",
    "  "
   ]
  },
  {
   "cell_type": "code",
   "execution_count": 16,
   "metadata": {},
   "outputs": [
    {
     "data": {
      "text/plain": [
       "[[[0, 0, 0], [29, 0, 0], [26, 6, 6], [24, 14, 14], [12, 23, 23], [23, 27, 27], [8, 51, 51], [11, 79, 79], [2, 109, 109], [25, 115, 115], [22, 126, 126], [19, 134, 134], [10, 140, 140], [0, 151, 151]], [[0, 0, 0], [21, 11, 11], [3, 25, 25], [1, 31, 31], [14, 38, 38], [6, 45, 45], [4, 45, 45], [15, 45, 45], [17, 60, 60], [9, 66, 66], [5, 79, 79], [7, 81, 81], [20, 82, 82], [18, 97, 97], [27, 120, 120], [13, 126, 126], [28, 134, 134], [16, 141, 141], [0, 146, 146]]]"
      ]
     },
     "execution_count": 16,
     "metadata": {},
     "output_type": "execute_result"
    }
   ],
   "source": [
    "def get_time_windows(solution,routing,manager,dimension):\n",
    "    all_list=[]\n",
    "    for vehicle in range(routing.vehicles()):\n",
    "        route_data=[]\n",
    "        index= routing.Start(vehicle)\n",
    "        route= manager.IndexToNode(index)\n",
    "        dim= dimension.CumulVar(index)\n",
    "        route_data.append([route,solution.Min(dim),solution.Max(dim)])\n",
    "        while not routing.IsEnd(index):\n",
    "            index= solution.Value(routing.NextVar(index))\n",
    "            route= manager.IndexToNode(index)\n",
    "            dim= dimension.CumulVar(index)\n",
    "            route_data.append([route,solution.Min(dim),solution.Max(dim)])\n",
    "        all_list.append(route_data)\n",
    "    return all_list\n",
    "\n",
    "\n",
    "get_time_windows(solution,routing,manager,time_dimension) "
   ]
  },
  {
   "cell_type": "code",
   "execution_count": null,
   "metadata": {},
   "outputs": [],
   "source": []
  }
 ],
 "metadata": {
  "kernelspec": {
   "display_name": "Python 3 (ipykernel)",
   "language": "python",
   "name": "python3"
  },
  "language_info": {
   "codemirror_mode": {
    "name": "ipython",
    "version": 3
   },
   "file_extension": ".py",
   "mimetype": "text/x-python",
   "name": "python",
   "nbconvert_exporter": "python",
   "pygments_lexer": "ipython3",
   "version": "3.9.7"
  }
 },
 "nbformat": 4,
 "nbformat_minor": 4
}
