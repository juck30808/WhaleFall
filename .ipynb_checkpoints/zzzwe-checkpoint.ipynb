{
 "cells": [
  {
   "cell_type": "code",
   "execution_count": 2,
   "id": "2b93d06d",
   "metadata": {},
   "outputs": [
    {
     "name": "stdout",
     "output_type": "stream",
     "text": [
      "\u001b[33mWARNING: Skipping twilio as it is not installed.\u001b[0m\n",
      "Note: you may need to restart the kernel to use updated packages.\n"
     ]
    }
   ],
   "source": [
    "pip uninstall twilio"
   ]
  },
  {
   "cell_type": "code",
   "execution_count": 3,
   "id": "487aaa6e",
   "metadata": {},
   "outputs": [
    {
     "ename": "ModuleNotFoundError",
     "evalue": "No module named 'twilio'",
     "output_type": "error",
     "traceback": [
      "\u001b[0;31m---------------------------------------------------------------------------\u001b[0m",
      "\u001b[0;31mModuleNotFoundError\u001b[0m                       Traceback (most recent call last)",
      "\u001b[0;32m/var/folders/9q/486czkcn7lv5v0hwbt71twdc0000gn/T/ipykernel_10119/2176403394.py\u001b[0m in \u001b[0;36m<module>\u001b[0;34m\u001b[0m\n\u001b[1;32m      1\u001b[0m \u001b[0;32mimport\u001b[0m \u001b[0mrequests\u001b[0m\u001b[0;34m\u001b[0m\u001b[0;34m\u001b[0m\u001b[0m\n\u001b[1;32m      2\u001b[0m \u001b[0;32mimport\u001b[0m \u001b[0mbs4\u001b[0m\u001b[0;34m\u001b[0m\u001b[0;34m\u001b[0m\u001b[0m\n\u001b[0;32m----> 3\u001b[0;31m \u001b[0;32mfrom\u001b[0m \u001b[0mtwilio\u001b[0m\u001b[0;34m.\u001b[0m\u001b[0mrest\u001b[0m \u001b[0;32mimport\u001b[0m \u001b[0mClient\u001b[0m\u001b[0;34m\u001b[0m\u001b[0;34m\u001b[0m\u001b[0m\n\u001b[0m\u001b[1;32m      4\u001b[0m \u001b[0;34m\u001b[0m\u001b[0m\n\u001b[1;32m      5\u001b[0m \u001b[0;32mdef\u001b[0m \u001b[0mrain_check\u001b[0m\u001b[0;34m(\u001b[0m\u001b[0;34m)\u001b[0m\u001b[0;34m:\u001b[0m\u001b[0;34m\u001b[0m\u001b[0;34m\u001b[0m\u001b[0m\n",
      "\u001b[0;31mModuleNotFoundError\u001b[0m: No module named 'twilio'"
     ]
    }
   ],
   "source": [
    "import requests\n",
    "import bs4\n",
    "from twilio.rest import Client\n",
    "\n",
    "def rain_check():\n",
    "    \"\"\"Checks if it's going to rain\n",
    "    Args:\n",
    "        None\n",
    "    Returns:\n",
    "        rain (bool): True if rainy\n",
    "    \"\"\"\n",
    "    url = 'https://weather.com/en-CA/weather/today/l/CAON4756:1:CA'\n",
    "    rain = False\n",
    "\n",
    "    try:\n",
    "        res = requests.get(url)\n",
    "        res.raise_for_status()\n",
    "\n",
    "        soup = bs4.BeautifulSoup(res.text, 'html.parser')\n",
    "        weather_elem = soup.select('.today_nowcard-phrase')\n",
    "\n",
    "        if 'rain' in weather_elem[0].text.lower():\n",
    "            rain = True\n",
    "\n",
    "    except Exception as exc:\n",
    "        print(exc)\n",
    "\n",
    "    return rain\n",
    "\n",
    "\n",
    "def send_reminder(accountSID, authToken, myTwilioNumber, myCellPhone):\n",
    "    \"\"\"Sends a text using twilio\n",
    "    Args:\n",
    "        accountSID (str): twilio acct sid\n",
    "        authToken (str): twilio authentication token\n",
    "        myTwilioNumber (str): twilio number\n",
    "        myCellPhone (str): my cell phone number\n",
    "    Returns:\n",
    "        None\n",
    "    \"\"\"\n",
    "    twilioCli = Client(accountSID, authToken)\n",
    "    message = twilioCli.messages.\\\n",
    "    create(body='Rain Alert! Water is (not) wet. Grab an Umbrella bro.',\\\n",
    "           from_=myTwilioNumber, to=myCellPhone)\n",
    "\n",
    "\n",
    "\n",
    "if __name__ == \"__main__\":\n",
    "\n",
    "    if rain_check():\n",
    "        send_reminder('A***************', 'A**************', '+1********', '+1**********')"
   ]
  },
  {
   "cell_type": "code",
   "execution_count": null,
   "id": "85d3e6be",
   "metadata": {},
   "outputs": [],
   "source": []
  }
 ],
 "metadata": {
  "kernelspec": {
   "display_name": "Python 3 (ipykernel)",
   "language": "python",
   "name": "python3"
  },
  "language_info": {
   "codemirror_mode": {
    "name": "ipython",
    "version": 3
   },
   "file_extension": ".py",
   "mimetype": "text/x-python",
   "name": "python",
   "nbconvert_exporter": "python",
   "pygments_lexer": "ipython3",
   "version": "3.9.7"
  }
 },
 "nbformat": 4,
 "nbformat_minor": 5
}
