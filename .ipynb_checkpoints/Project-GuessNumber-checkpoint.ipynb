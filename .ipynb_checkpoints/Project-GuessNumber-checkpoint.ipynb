{
 "cells": [
  {
   "cell_type": "code",
   "execution_count": 1,
   "metadata": {},
   "outputs": [
    {
     "name": "stdout",
     "output_type": "stream",
     "text": [
      "Enter your guess: 5\n",
      "Your guess is wrong! Enter a larger number\n",
      "Enter your guess: 20\n",
      "Your guess is wrong! Enter a larger number\n",
      "Enter your guess: 60\n",
      "Your guess is wrong! Enter a larger number\n",
      "Enter your guess: 80\n",
      "Your guess is wrong! Enter a larger number\n",
      "Enter your guess: 90\n",
      "Your guess is wrong! Enter a smaller number\n",
      "Enter your guess: 85\n",
      "Your guess is wrong! Enter a larger number\n",
      "Enter your guess: 86\n",
      "Your guess is wrong! Enter a larger number\n",
      "Enter your guess: 87\n",
      "Your guess it right!\n",
      "You guessed the number in 8 attempts\n"
     ]
    }
   ],
   "source": [
    "import random\n",
    "randNumber = random.randint(1, 100)\n",
    "userGuess = None\n",
    "guesses = 0\n",
    "\n",
    "while(userGuess != randNumber):\n",
    "    userGuess = int(input(\"Enter your guess: \"))\n",
    "    guesses += 1\n",
    "    if(userGuess==randNumber):\n",
    "        print(\"Your guess it right!\")\n",
    "    else:\n",
    "        if(userGuess>randNumber):\n",
    "            print(\"Your guess is wrong! Enter a smaller number\")\n",
    "        else:\n",
    "            print(\"Your guess is wrong! Enter a larger number\")\n",
    "\n",
    "print(f\"You guessed the number in {guesses} attempts\")\n"
   ]
  },
  {
   "cell_type": "code",
   "execution_count": null,
   "metadata": {},
   "outputs": [],
   "source": []
  }
 ],
 "metadata": {
  "kernelspec": {
   "display_name": "Python 3",
   "language": "python",
   "name": "python3"
  },
  "language_info": {
   "codemirror_mode": {
    "name": "ipython",
    "version": 3
   },
   "file_extension": ".py",
   "mimetype": "text/x-python",
   "name": "python",
   "nbconvert_exporter": "python",
   "pygments_lexer": "ipython3",
   "version": "3.8.5"
  }
 },
 "nbformat": 4,
 "nbformat_minor": 4
}
