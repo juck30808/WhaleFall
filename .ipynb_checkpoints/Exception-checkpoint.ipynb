{
 "cells": [
  {
   "cell_type": "code",
   "execution_count": 3,
   "metadata": {},
   "outputs": [
    {
     "name": "stdout",
     "output_type": "stream",
     "text": [
      "ERROR was Thrown:can only concatenate str (not \"int\") to str\n"
     ]
    }
   ],
   "source": [
    "try:\n",
    "    x = '2' + 2\n",
    "    print(x)\n",
    "\n",
    "except Exception as e:\n",
    "    print(f'ERROR was Thrown:{e}')"
   ]
  },
  {
   "cell_type": "code",
   "execution_count": 6,
   "metadata": {},
   "outputs": [
    {
     "name": "stdout",
     "output_type": "stream",
     "text": [
      "GT:Open\n",
      "ERROR:Must convert string to int\n",
      "Gateway: Closed\n"
     ]
    }
   ],
   "source": [
    "# - Create a new try and inside the try create a new variable called gateway which is equal to \"Gateway : Opened\"\n",
    "try:\n",
    "    gateway = 'GT:Open'\n",
    "    print(gateway)\n",
    "    x = 2+'2'\n",
    "except TypeError as e:\n",
    "    print(f'ERROR:Must convert string to int')\n",
    "finally:\n",
    "    gateway = 'Gateway: Closed'\n",
    "    print(gateway)\n",
    "\n",
    "\n",
    "# - Create a variable x which is equal to: \"2\" + 2\n",
    "\n",
    "\n",
    "\n",
    "# - Write an except that catches this error and prints a custom error back to the user\n",
    "\n",
    "\n",
    "\n",
    "# - Create a finally and reassign gateway variable to \"Gateway : Closed\""
   ]
  },
  {
   "cell_type": "code",
   "execution_count": null,
   "metadata": {},
   "outputs": [],
   "source": []
  }
 ],
 "metadata": {
  "kernelspec": {
   "display_name": "Python 3",
   "language": "python",
   "name": "python3"
  },
  "language_info": {
   "codemirror_mode": {
    "name": "ipython",
    "version": 3
   },
   "file_extension": ".py",
   "mimetype": "text/x-python",
   "name": "python",
   "nbconvert_exporter": "python",
   "pygments_lexer": "ipython3",
   "version": "3.8.5"
  }
 },
 "nbformat": 4,
 "nbformat_minor": 4
}
