{
 "cells": [
  {
   "cell_type": "code",
   "execution_count": 1,
   "id": "41b47820",
   "metadata": {},
   "outputs": [
    {
     "name": "stdout",
     "output_type": "stream",
     "text": [
      "Good: https://automatetheboringstuff.com/\n",
      "Good: https://www.nostarch.com/automatestuff\n",
      "Broken: http://www.amazon.com/gp/product/1593275994/ref=as_li_tl?ie=UTF8&camp=1789&creative=9325&creativeASIN=1593275994&linkCode=as2&tag=playwithpyth-20&linkId=HDM7V3T6RHC5VVN4\n",
      "Good: https://twitter.com/AlSweigart\n",
      "Broken: http://www.amazon.com/gp/product/1593275994/ref=as_li_qf_sp_asin_il_tl?ie=UTF8&camp=1789&creative=9325&creativeASIN=1593275994&linkCode=as2&tag=playwithpyth-20&linkId=2KIYOE7RFLG7D2RJ\n",
      "Good: http://www.nostarch.com/automatestuff\n",
      "Good: http://www.nostarch.com/automatestuff\n",
      "Good: http://inventwithpython.com/\n",
      "Good: http://maps.google.com/\n",
      "Good: https://www.google.com/maps/place/870+Valencia+St/@37.7590311,-122.4215096,17z/data=!3m1!4b1!4m2!3m1!1s0x808f7e3dadc07a37:0xc86b0b2bb93b73d8\n",
      "Good: https://www.google.com/maps/place/870+Valencia+St+San+Francisco+CA/\n",
      "Good: http://maps.google.com/\n",
      "Good: http://www.joelonsoftware.com/articles/Unicode.html\n",
      "Good: http://nedbatchelder.com/text/unipain.html\n",
      "Good: http://requests.readthedocs.org/\n",
      "Good: http://htmldog.com/guides/html/beginner/\n",
      "Good: http://www.codecademy.com/tracks/web/\n",
      "Good: https://developer.mozilla.org/en-US/learn/html/\n",
      "Good: http://stackoverflow.com/a/1732454/1893164/\n",
      "Good: http://weather.gov/\n",
      "Good: http://nostarch.com/automatestuff/\n",
      "Good: http://nostarch.com/automatestuff/\n",
      "Good: https://www.google.com/search?q=SEARCH_TERM_HERE\n",
      "Good: http://xkcd.com/\n",
      "Good: http://xkcd.com/#\n",
      "Good: http://www.crummy.com/software/BeautifulSoup/bs4/doc/\n",
      "Good: http://getfirefox.com/\n",
      "Good: http://inventwithpython.com/\n",
      "There was a problem: ('Connection aborted.', ConnectionResetError(54, 'Connection reset by peer'))\n"
     ]
    }
   ],
   "source": [
    "import requests\n",
    "import bs4\n",
    "\n",
    "def verify(url):\n",
    "    res1 = requests.get(url)\n",
    "\n",
    "    try:\n",
    "        res1.raise_for_status()\n",
    "        soup = bs4.BeautifulSoup(res1.text, 'html.parser')\n",
    "        pageLinks = [link.get('href') for link in soup.select('a') if link.get('href')]\n",
    "\n",
    "        brokenCount = 0\n",
    "        goodCount = 0\n",
    "\n",
    "        for link in pageLinks:\n",
    "            if link.startswith('http'):\n",
    "                res2 = requests.get(link)\n",
    "                try:\n",
    "                    res2.raise_for_status()\n",
    "                    print(f'Good: {link}')\n",
    "                    goodCount += 1\n",
    "                except Exception as exc:\n",
    "                    print(f'Broken: {link}')\n",
    "                    brokenCount += 1\n",
    "\n",
    "        print(f'{goodCount} Good. {brokenCount} Broken')\n",
    "        \n",
    "    except Exception as exc:\n",
    "        print('There was a problem: %s' % (exc))\n",
    "\n",
    "\n",
    "if __name__ == \"__main__\":\n",
    "    verify('https://automatetheboringstuff.com/chapter11/')"
   ]
  },
  {
   "cell_type": "code",
   "execution_count": null,
   "id": "c1110653",
   "metadata": {},
   "outputs": [],
   "source": []
  }
 ],
 "metadata": {
  "kernelspec": {
   "display_name": "Python 3 (ipykernel)",
   "language": "python",
   "name": "python3"
  },
  "language_info": {
   "codemirror_mode": {
    "name": "ipython",
    "version": 3
   },
   "file_extension": ".py",
   "mimetype": "text/x-python",
   "name": "python",
   "nbconvert_exporter": "python",
   "pygments_lexer": "ipython3",
   "version": "3.9.7"
  }
 },
 "nbformat": 4,
 "nbformat_minor": 5
}
