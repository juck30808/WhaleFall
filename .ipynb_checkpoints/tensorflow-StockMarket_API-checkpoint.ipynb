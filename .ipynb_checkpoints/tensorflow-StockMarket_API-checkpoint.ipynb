{
 "cells": [
  {
   "cell_type": "code",
   "execution_count": null,
   "metadata": {
    "colab": {
     "base_uri": "https://localhost:8080/"
    },
    "executionInfo": {
     "elapsed": 4809,
     "status": "ok",
     "timestamp": 1610890607907,
     "user": {
      "displayName": "Abhilash Chintada",
      "photoUrl": "https://lh3.googleusercontent.com/a-/AOh14GhlwwwMJr16CgjmRFWk833xZEy2OfpaFZDIqM84=s64",
      "userId": "00311744807213723199"
     },
     "user_tz": -330
    },
    "id": "9-XIpD76Ca2J",
    "outputId": "ac4292b5-e3fb-482b-bc54-5f77eff8c5db"
   },
   "outputs": [],
   "source": [
    "#!pip install yfinance"
   ]
  },
  {
   "cell_type": "code",
   "execution_count": null,
   "metadata": {
    "id": "Sg0nlOuvCj64"
   },
   "outputs": [],
   "source": [
    "import yfinance as yf\n",
    "import numpy as np\n",
    "import pandas as pd\n",
    "import tensorflow as tf\n",
    "data = yf.download(\"GOOGL\" , start = \"2018-01-01\" , interval = '1d')\n",
    "data.head(3)"
   ]
  },
  {
   "cell_type": "code",
   "execution_count": null,
   "metadata": {
    "id": "Jl1C9ZS32DvC"
   },
   "outputs": [],
   "source": [
    "# Sort the data points based on indexes just for confirmation \n",
    "data.sort_index(inplace = True)"
   ]
  },
  {
   "cell_type": "code",
   "execution_count": null,
   "metadata": {
    "id": "Lsg27AhR2y4p"
   },
   "outputs": [],
   "source": [
    "# Remove any duplicate index \n",
    "data = data.loc[~data.index.duplicated(keep='first')]"
   ]
  },
  {
   "cell_type": "code",
   "execution_count": null,
   "metadata": {
    "colab": {
     "base_uri": "https://localhost:8080/",
     "height": 166
    },
    "executionInfo": {
     "elapsed": 6803,
     "status": "ok",
     "timestamp": 1610890610016,
     "user": {
      "displayName": "Abhilash Chintada",
      "photoUrl": "https://lh3.googleusercontent.com/a-/AOh14GhlwwwMJr16CgjmRFWk833xZEy2OfpaFZDIqM84=s64",
      "userId": "00311744807213723199"
     },
     "user_tz": -330
    },
    "id": "Tam2xuzp2Gi3",
    "outputId": "b80bdf37-02bb-4a98-aae8-34763bbf7bce"
   },
   "outputs": [],
   "source": [
    "data.tail(3)"
   ]
  },
  {
   "cell_type": "code",
   "execution_count": null,
   "metadata": {
    "colab": {
     "base_uri": "https://localhost:8080/"
    },
    "executionInfo": {
     "elapsed": 6764,
     "status": "ok",
     "timestamp": 1610890610021,
     "user": {
      "displayName": "Abhilash Chintada",
      "photoUrl": "https://lh3.googleusercontent.com/a-/AOh14GhlwwwMJr16CgjmRFWk833xZEy2OfpaFZDIqM84=s64",
      "userId": "00311744807213723199"
     },
     "user_tz": -330
    },
    "id": "F3mCAb7x2ii0",
    "outputId": "6d590cee-7cfd-4e41-f51e-ea333f94501e"
   },
   "outputs": [],
   "source": [
    "# Check for missing values \n",
    "data.isnull().sum()"
   ]
  },
  {
   "cell_type": "code",
   "execution_count": null,
   "metadata": {
    "colab": {
     "base_uri": "https://localhost:8080/",
     "height": 284
    },
    "executionInfo": {
     "elapsed": 6743,
     "status": "ok",
     "timestamp": 1610890610022,
     "user": {
      "displayName": "Abhilash Chintada",
      "photoUrl": "https://lh3.googleusercontent.com/a-/AOh14GhlwwwMJr16CgjmRFWk833xZEy2OfpaFZDIqM84=s64",
      "userId": "00311744807213723199"
     },
     "user_tz": -330
    },
    "id": "Luf4vpM-2w9I",
    "outputId": "3a310540-e0cc-4e9e-9633-611c3ad8a542"
   },
   "outputs": [],
   "source": [
    "# Get the statistics of the data\n",
    "data.describe()"
   ]
  },
  {
   "cell_type": "markdown",
   "metadata": {
    "id": "ULgWVmd73rqJ"
   },
   "source": [
    "Understanding Trends with in the Data"
   ]
  },
  {
   "cell_type": "code",
   "execution_count": null,
   "metadata": {
    "id": "_KmuZPgU3ixZ"
   },
   "outputs": [],
   "source": [
    "import plotly.graph_objects as go"
   ]
  },
  {
   "cell_type": "code",
   "execution_count": null,
   "metadata": {
    "colab": {
     "base_uri": "https://localhost:8080/",
     "height": 517
    },
    "executionInfo": {
     "elapsed": 7833,
     "status": "ok",
     "timestamp": 1610890611151,
     "user": {
      "displayName": "Abhilash Chintada",
      "photoUrl": "https://lh3.googleusercontent.com/a-/AOh14GhlwwwMJr16CgjmRFWk833xZEy2OfpaFZDIqM84=s64",
      "userId": "00311744807213723199"
     },
     "user_tz": -330
    },
    "id": "lRRJ43U336Sz",
    "outputId": "bf1dc437-42b1-4c7b-9c71-bc600a26ab03"
   },
   "outputs": [],
   "source": [
    "# Check the trend in Closing Values \n",
    "fig = go.Figure()\n",
    "\n",
    "fig.add_trace(go.Scatter(x = data.index , y = data['Close'] , mode = 'lines'))\n",
    "fig.update_layout(height = 500 , width = 900, \n",
    "                  xaxis_title='Date' , yaxis_title='Close')\n",
    "fig.show()"
   ]
  },
  {
   "cell_type": "code",
   "execution_count": null,
   "metadata": {
    "colab": {
     "base_uri": "https://localhost:8080/",
     "height": 517
    },
    "executionInfo": {
     "elapsed": 7809,
     "status": "ok",
     "timestamp": 1610890611153,
     "user": {
      "displayName": "Abhilash Chintada",
      "photoUrl": "https://lh3.googleusercontent.com/a-/AOh14GhlwwwMJr16CgjmRFWk833xZEy2OfpaFZDIqM84=s64",
      "userId": "00311744807213723199"
     },
     "user_tz": -330
    },
    "id": "hIG1kyPk4UCP",
    "outputId": "934a95b3-bc2e-4df7-d73c-4fafbee4bbb2"
   },
   "outputs": [],
   "source": [
    "# Check the trend in Volume Traded\n",
    "fig = go.Figure()\n",
    "\n",
    "fig.add_trace(go.Scatter(x = data.index , y = data['Volume'] , mode = 'lines'))\n",
    "fig.update_layout(height = 500 , width = 900, \n",
    "                  xaxis_title='Date' , yaxis_title='Volume')\n",
    "fig.show()"
   ]
  },
  {
   "cell_type": "markdown",
   "metadata": {
    "id": "2KNZe8kA7Uiy"
   },
   "source": [
    "Data Preparation"
   ]
  },
  {
   "cell_type": "code",
   "execution_count": null,
   "metadata": {
    "id": "sWy2N6cQ9EN9"
   },
   "outputs": [],
   "source": [
    "from sklearn.preprocessing import MinMaxScaler \n",
    "import pickle \n",
    "from tqdm.notebook import tnrange"
   ]
  },
  {
   "cell_type": "code",
   "execution_count": null,
   "metadata": {
    "colab": {
     "base_uri": "https://localhost:8080/",
     "height": 166
    },
    "executionInfo": {
     "elapsed": 7780,
     "status": "ok",
     "timestamp": 1610890611157,
     "user": {
      "displayName": "Abhilash Chintada",
      "photoUrl": "https://lh3.googleusercontent.com/a-/AOh14GhlwwwMJr16CgjmRFWk833xZEy2OfpaFZDIqM84=s64",
      "userId": "00311744807213723199"
     },
     "user_tz": -330
    },
    "id": "gJRGJTRf-Cfj",
    "outputId": "cf9508e5-a1ee-4c63-ffab-82d3927e7226"
   },
   "outputs": [],
   "source": [
    "# Filter only required data \n",
    "data = data[['Close' , 'Volume']]\n",
    "data.head(3)"
   ]
  },
  {
   "cell_type": "markdown",
   "metadata": {
    "id": "lIxwmHTMY8_t"
   },
   "source": [
    "Scrapping extra information"
   ]
  },
  {
   "cell_type": "code",
   "execution_count": null,
   "metadata": {
    "id": "suYqf1VCY8_v"
   },
   "outputs": [],
   "source": [
    "import requests \n",
    "\n",
    "response = requests.get('https://www.alphavantage.co/query?function=RSI&symbol=GOOGL&interval=daily&time_period=5&series_type=close&apikey=43T9T17VCV2ME4SM') \n",
    "response = response.json()"
   ]
  },
  {
   "cell_type": "code",
   "execution_count": null,
   "metadata": {
    "colab": {
     "base_uri": "https://localhost:8080/"
    },
    "executionInfo": {
     "elapsed": 9569,
     "status": "ok",
     "timestamp": 1610890612979,
     "user": {
      "displayName": "Abhilash Chintada",
      "photoUrl": "https://lh3.googleusercontent.com/a-/AOh14GhlwwwMJr16CgjmRFWk833xZEy2OfpaFZDIqM84=s64",
      "userId": "00311744807213723199"
     },
     "user_tz": -330
    },
    "id": "BwnuEat5TlWZ",
    "outputId": "a9b525ae-5303-4718-a904-25cb02191fe4"
   },
   "outputs": [],
   "source": [
    "response.keys()"
   ]
  },
  {
   "cell_type": "code",
   "execution_count": null,
   "metadata": {
    "id": "Afw6ydROY8_w"
   },
   "outputs": [],
   "source": [
    "rsi_data = pd.DataFrame.from_dict(response['Technical Analysis: RSI'] , orient='index')"
   ]
  },
  {
   "cell_type": "code",
   "execution_count": null,
   "metadata": {
    "colab": {
     "base_uri": "https://localhost:8080/",
     "height": 195
    },
    "executionInfo": {
     "elapsed": 9542,
     "status": "ok",
     "timestamp": 1610890612984,
     "user": {
      "displayName": "Abhilash Chintada",
      "photoUrl": "https://lh3.googleusercontent.com/a-/AOh14GhlwwwMJr16CgjmRFWk833xZEy2OfpaFZDIqM84=s64",
      "userId": "00311744807213723199"
     },
     "user_tz": -330
    },
    "id": "YdyFwSnjU03t",
    "outputId": "b4e32e25-701a-4230-b77c-baca4c172477"
   },
   "outputs": [],
   "source": [
    "rsi_data.head()"
   ]
  },
  {
   "cell_type": "code",
   "execution_count": null,
   "metadata": {
    "id": "MgVzBmpSY8_w"
   },
   "outputs": [],
   "source": [
    "rsi_data = rsi_data[rsi_data.index >= '2018-01-01']"
   ]
  },
  {
   "cell_type": "code",
   "execution_count": null,
   "metadata": {
    "id": "cbIuehj1cggV"
   },
   "outputs": [],
   "source": [
    "rsi_data['RSI'] = rsi_data['RSI'].astype(np.float64)"
   ]
  },
  {
   "cell_type": "code",
   "execution_count": null,
   "metadata": {
    "colab": {
     "base_uri": "https://localhost:8080/",
     "height": 195
    },
    "executionInfo": {
     "elapsed": 9504,
     "status": "ok",
     "timestamp": 1610890612990,
     "user": {
      "displayName": "Abhilash Chintada",
      "photoUrl": "https://lh3.googleusercontent.com/a-/AOh14GhlwwwMJr16CgjmRFWk833xZEy2OfpaFZDIqM84=s64",
      "userId": "00311744807213723199"
     },
     "user_tz": -330
    },
    "id": "uRObr6pCY8_0",
    "outputId": "150b91ff-a325-4726-88c5-8df946d9235b"
   },
   "outputs": [],
   "source": [
    "rsi_data.head()"
   ]
  },
  {
   "cell_type": "code",
   "execution_count": null,
   "metadata": {
    "id": "OPC-Lr-8Y8_1"
   },
   "outputs": [],
   "source": [
    "data = data.merge(rsi_data, left_index=True, right_index=True, how='inner')"
   ]
  },
  {
   "cell_type": "code",
   "execution_count": null,
   "metadata": {
    "colab": {
     "base_uri": "https://localhost:8080/",
     "height": 225
    },
    "executionInfo": {
     "elapsed": 9471,
     "status": "ok",
     "timestamp": 1610890612994,
     "user": {
      "displayName": "Abhilash Chintada",
      "photoUrl": "https://lh3.googleusercontent.com/a-/AOh14GhlwwwMJr16CgjmRFWk833xZEy2OfpaFZDIqM84=s64",
      "userId": "00311744807213723199"
     },
     "user_tz": -330
    },
    "id": "dNAf3VsOY8_2",
    "outputId": "56dc8724-e96d-49cd-f02d-9b778ec0cf33"
   },
   "outputs": [],
   "source": [
    "data.head()"
   ]
  },
  {
   "cell_type": "code",
   "execution_count": null,
   "metadata": {
    "id": "FRu00UlQ-33P"
   },
   "outputs": [],
   "source": [
    "# Confirm the Testing Set length \n",
    "test_length = data[(data.index >= '2020-09-01')].shape[0]"
   ]
  },
  {
   "cell_type": "code",
   "execution_count": null,
   "metadata": {
    "id": "HSeJFeZy9oux"
   },
   "outputs": [],
   "source": [
    "def CreateFeatures_and_Targets(data, feature_length):\n",
    "    X = []\n",
    "    Y = []\n",
    "\n",
    "    for i in tnrange(len(data) - feature_length): \n",
    "        X.append(data.iloc[i : i + feature_length,:].values)\n",
    "        Y.append(data[\"Close\"].values[i+feature_length])\n",
    "\n",
    "    X = np.array(X)\n",
    "    Y = np.array(Y)\n",
    "\n",
    "    return X , Y"
   ]
  },
  {
   "cell_type": "code",
   "execution_count": null,
   "metadata": {
    "colab": {
     "base_uri": "https://localhost:8080/",
     "height": 66,
     "referenced_widgets": [
      "28f7da3b09ae4dc99e3f3d6dcc6ae44f",
      "30201a5afd51453290bc591c141c84e7",
      "d5206753e65a49ad88601a489cb5aed7",
      "94c3db8f29124a608e292ce6de4faef5",
      "fa03eee2dcd942cdba8a765d20259814",
      "5d18f87df6e8441980b161412863ce37",
      "b3edfd8987d8478c85e4ea17358908a5",
      "66fee764f5ac4b4a9a522dc7b85e98b6"
     ]
    },
    "executionInfo": {
     "elapsed": 9434,
     "status": "ok",
     "timestamp": 1610890613001,
     "user": {
      "displayName": "Abhilash Chintada",
      "photoUrl": "https://lh3.googleusercontent.com/a-/AOh14GhlwwwMJr16CgjmRFWk833xZEy2OfpaFZDIqM84=s64",
      "userId": "00311744807213723199"
     },
     "user_tz": -330
    },
    "id": "9ETswRsS-gLg",
    "outputId": "23dffae3-2031-4a73-e2cd-5d86bdbe5ade"
   },
   "outputs": [],
   "source": [
    "X , Y = CreateFeatures_and_Targets(data , 32)"
   ]
  },
  {
   "cell_type": "code",
   "execution_count": null,
   "metadata": {
    "colab": {
     "base_uri": "https://localhost:8080/"
    },
    "executionInfo": {
     "elapsed": 9416,
     "status": "ok",
     "timestamp": 1610890613004,
     "user": {
      "displayName": "Abhilash Chintada",
      "photoUrl": "https://lh3.googleusercontent.com/a-/AOh14GhlwwwMJr16CgjmRFWk833xZEy2OfpaFZDIqM84=s64",
      "userId": "00311744807213723199"
     },
     "user_tz": -330
    },
    "id": "PUSmuRiD_ehL",
    "outputId": "0b228be8-1e23-4391-ad11-85174613719f"
   },
   "outputs": [],
   "source": [
    "# Check the shapes\n",
    "X.shape , Y.shape"
   ]
  },
  {
   "cell_type": "code",
   "execution_count": null,
   "metadata": {
    "id": "KB0N3h07_ncD"
   },
   "outputs": [],
   "source": [
    "Xtrain , Xtest , Ytrain , Ytest = X[:-test_length] , X[-test_length:] , Y[:-test_length] , Y[-test_length:]"
   ]
  },
  {
   "cell_type": "code",
   "execution_count": null,
   "metadata": {
    "colab": {
     "base_uri": "https://localhost:8080/"
    },
    "executionInfo": {
     "elapsed": 9390,
     "status": "ok",
     "timestamp": 1610890613007,
     "user": {
      "displayName": "Abhilash Chintada",
      "photoUrl": "https://lh3.googleusercontent.com/a-/AOh14GhlwwwMJr16CgjmRFWk833xZEy2OfpaFZDIqM84=s64",
      "userId": "00311744807213723199"
     },
     "user_tz": -330
    },
    "id": "cs7uOHQJ_qYH",
    "outputId": "e63abb58-3f3d-4e78-8586-238f1c726784"
   },
   "outputs": [],
   "source": [
    "# Check Training Dataset Shape \n",
    "Xtrain.shape , Ytrain.shape"
   ]
  },
  {
   "cell_type": "code",
   "execution_count": null,
   "metadata": {
    "colab": {
     "base_uri": "https://localhost:8080/"
    },
    "executionInfo": {
     "elapsed": 9374,
     "status": "ok",
     "timestamp": 1610890613014,
     "user": {
      "displayName": "Abhilash Chintada",
      "photoUrl": "https://lh3.googleusercontent.com/a-/AOh14GhlwwwMJr16CgjmRFWk833xZEy2OfpaFZDIqM84=s64",
      "userId": "00311744807213723199"
     },
     "user_tz": -330
    },
    "id": "5og_CE52AAOF",
    "outputId": "8a6855be-c59a-455f-bbab-e650dfa45b45"
   },
   "outputs": [],
   "source": [
    "# Check Testing Dataset Shape\n",
    "Xtest.shape , Ytest.shape"
   ]
  },
  {
   "cell_type": "code",
   "execution_count": null,
   "metadata": {
    "id": "eEmlHVBW7UuG"
   },
   "outputs": [],
   "source": [
    "# Create a Scaler to Scale Vectors with Multiple Dimensions \n",
    "class MultiDimensionScaler():\n",
    "    def __init__(self):\n",
    "        self.scalers = []\n",
    "\n",
    "    def fit_transform(self , X):\n",
    "        total_dims = X.shape[2]\n",
    "        for i in range(total_dims):\n",
    "            Scaler = MinMaxScaler()\n",
    "            X[:, :, i] = Scaler.fit_transform(X[:,:,i])\n",
    "            self.scalers.append(Scaler)\n",
    "        return X\n",
    "\n",
    "    def transform(self , X):\n",
    "        for i in range(X.shape[2]):\n",
    "            X[:, :, i] = self.scalers[i].transform(X[:,:,i])\n",
    "        return X "
   ]
  },
  {
   "cell_type": "code",
   "execution_count": null,
   "metadata": {
    "id": "4lhh66IV7U0q"
   },
   "outputs": [],
   "source": [
    "Feature_Scaler = MultiDimensionScaler()\n",
    "Xtrain = Feature_Scaler.fit_transform(Xtrain)\n",
    "Xtest = Feature_Scaler.transform(Xtest)"
   ]
  },
  {
   "cell_type": "code",
   "execution_count": null,
   "metadata": {
    "id": "HDYeLhR-8u9-"
   },
   "outputs": [],
   "source": [
    "Target_Scaler = MinMaxScaler()\n",
    "Ytrain = Target_Scaler.fit_transform(Ytrain.reshape(-1,1))\n",
    "Ytest = Target_Scaler.transform(Ytest.reshape(-1,1))"
   ]
  },
  {
   "cell_type": "code",
   "execution_count": null,
   "metadata": {
    "id": "P8x7szS79VQz"
   },
   "outputs": [],
   "source": [
    "def save_object(obj , name : str):\n",
    "    pickle_out = open(f\"{name}.pck\",\"wb\")\n",
    "    pickle.dump(obj, pickle_out)\n",
    "    pickle_out.close()\n",
    "\n",
    "def load_object(name : str):\n",
    "    pickle_in = open(f\"{name}.pck\",\"rb\")\n",
    "    data = pickle.load(pickle_in)\n",
    "    return data"
   ]
  },
  {
   "cell_type": "code",
   "execution_count": null,
   "metadata": {
    "id": "gf5NggvA87Dl"
   },
   "outputs": [],
   "source": [
    "# Save your objects for future purposes \n",
    "save_object(Feature_Scaler , \"Feature_Scaler\")\n",
    "save_object(Target_Scaler , \"Target_Scaler\")"
   ]
  },
  {
   "cell_type": "markdown",
   "metadata": {
    "id": "5A49P71e7Ogi"
   },
   "source": [
    "Model Building"
   ]
  },
  {
   "cell_type": "code",
   "execution_count": null,
   "metadata": {
    "id": "d2pjWbmP6bxu"
   },
   "outputs": [],
   "source": [
    "from tensorflow.keras.callbacks import ModelCheckpoint , ReduceLROnPlateau\n",
    "\n",
    "save_best = ModelCheckpoint(\"best_weights.h5\", monitor='val_loss', save_best_only=True, save_weights_only=True)\n",
    "reduce_lr = ReduceLROnPlateau(monitor='val_loss', factor=0.25,patience=5, min_lr=0.00001,verbose = 1)"
   ]
  },
  {
   "cell_type": "code",
   "execution_count": null,
   "metadata": {
    "colab": {
     "base_uri": "https://localhost:8080/"
    },
    "executionInfo": {
     "elapsed": 10251,
     "status": "ok",
     "timestamp": 1610890613978,
     "user": {
      "displayName": "Abhilash Chintada",
      "photoUrl": "https://lh3.googleusercontent.com/a-/AOh14GhlwwwMJr16CgjmRFWk833xZEy2OfpaFZDIqM84=s64",
      "userId": "00311744807213723199"
     },
     "user_tz": -330
    },
    "id": "mU4tolqx4gHx",
    "outputId": "eec5901d-b0d4-425d-dbb9-ac08750334c3"
   },
   "outputs": [],
   "source": [
    "from tensorflow.keras.models import Sequential\n",
    "from tensorflow.keras.layers import Dense , Dropout , LSTM , Bidirectional , BatchNormalization\n",
    "\n",
    "model = Sequential()\n",
    "\n",
    "model.add(Bidirectional(LSTM(512 ,return_sequences=True , recurrent_dropout=0.1, input_shape=(32, 3))))\n",
    "model.add(LSTM(256 ,recurrent_dropout=0.1))\n",
    "model.add(Dropout(0.3))\n",
    "model.add(Dense(64 , activation='elu'))\n",
    "model.add(Dropout(0.3))\n",
    "model.add(Dense(32 , activation='elu'))\n",
    "model.add(Dense(1 , activation='linear'))"
   ]
  },
  {
   "cell_type": "code",
   "execution_count": null,
   "metadata": {
    "id": "z_nlZ-wLAt64"
   },
   "outputs": [],
   "source": [
    "optimizer = tf.keras.optimizers.SGD(learning_rate = 0.002)\n",
    "model.compile(loss='mse', optimizer=optimizer)"
   ]
  },
  {
   "cell_type": "code",
   "execution_count": null,
   "metadata": {
    "colab": {
     "base_uri": "https://localhost:8080/"
    },
    "executionInfo": {
     "elapsed": 28669,
     "status": "ok",
     "timestamp": 1610890632424,
     "user": {
      "displayName": "Abhilash Chintada",
      "photoUrl": "https://lh3.googleusercontent.com/a-/AOh14GhlwwwMJr16CgjmRFWk833xZEy2OfpaFZDIqM84=s64",
      "userId": "00311744807213723199"
     },
     "user_tz": -330
    },
    "id": "vPDDitBoAdhG",
    "outputId": "a2fb48f8-8868-459d-bd93-da780e5b2252"
   },
   "outputs": [],
   "source": [
    "history = model.fit(Xtrain, Ytrain,\n",
    "            epochs=10,\n",
    "            batch_size = 1,\n",
    "            verbose=1,\n",
    "            shuffle=False ,\n",
    "            validation_data=(Xtest , Ytest),\n",
    "            callbacks=[reduce_lr , save_best])"
   ]
  },
  {
   "cell_type": "code",
   "execution_count": null,
   "metadata": {
    "id": "_ZRfoVk5BLpz"
   },
   "outputs": [],
   "source": [
    "# Load the best weights\n",
    "model.load_weights(\"best_weights.h5\")"
   ]
  },
  {
   "cell_type": "markdown",
   "metadata": {
    "id": "ynJfKM8LBsMu"
   },
   "source": [
    "Visualize prediction on Test Set"
   ]
  },
  {
   "cell_type": "code",
   "execution_count": null,
   "metadata": {
    "id": "N9l1coSqBvjU"
   },
   "outputs": [],
   "source": [
    "Predictions = model.predict(Xtest)"
   ]
  },
  {
   "cell_type": "code",
   "execution_count": null,
   "metadata": {
    "id": "STFvnjZxBvm8"
   },
   "outputs": [],
   "source": [
    "Predictions = Target_Scaler.inverse_transform(Predictions)\n",
    "Actual = Target_Scaler.inverse_transform(Ytest)"
   ]
  },
  {
   "cell_type": "code",
   "execution_count": null,
   "metadata": {
    "colab": {
     "base_uri": "https://localhost:8080/"
    },
    "executionInfo": {
     "elapsed": 29646,
     "status": "ok",
     "timestamp": 1610890633450,
     "user": {
      "displayName": "Abhilash Chintada",
      "photoUrl": "https://lh3.googleusercontent.com/a-/AOh14GhlwwwMJr16CgjmRFWk833xZEy2OfpaFZDIqM84=s64",
      "userId": "00311744807213723199"
     },
     "user_tz": -330
    },
    "id": "vNTqfjtMh8hx",
    "outputId": "649608ff-d067-464a-a218-6bd014c07d5d"
   },
   "outputs": [],
   "source": [
    "Predictions.shape"
   ]
  },
  {
   "cell_type": "code",
   "execution_count": null,
   "metadata": {
    "id": "mRiT57HAFrgJ"
   },
   "outputs": [],
   "source": [
    "Predictions = np.squeeze(Predictions , axis = 1)\n",
    "Actual = np.squeeze(Actual , axis = 1)"
   ]
  },
  {
   "cell_type": "code",
   "execution_count": null,
   "metadata": {
    "colab": {
     "base_uri": "https://localhost:8080/",
     "height": 542
    },
    "executionInfo": {
     "elapsed": 29631,
     "status": "ok",
     "timestamp": 1610890633456,
     "user": {
      "displayName": "Abhilash Chintada",
      "photoUrl": "https://lh3.googleusercontent.com/a-/AOh14GhlwwwMJr16CgjmRFWk833xZEy2OfpaFZDIqM84=s64",
      "userId": "00311744807213723199"
     },
     "user_tz": -330
    },
    "id": "WQwVKvNsC0QR",
    "outputId": "35f52e34-9f5e-45b4-b5cb-9f01d0f15019"
   },
   "outputs": [],
   "source": [
    "# Check the Predictions vs Actual\n",
    "fig = go.Figure()\n",
    "\n",
    "fig.add_trace(go.Scatter(x = data.index[-test_length:] , y = Actual , mode = 'lines' , name='Actual'))\n",
    "fig.add_trace(go.Scatter(x = data.index[-test_length:] , y = Predictions , mode = 'lines' , name='Predicted'))\n",
    "fig.show()"
   ]
  },
  {
   "cell_type": "markdown",
   "metadata": {
    "id": "4JCHmDQwZRFf"
   },
   "source": [
    "Visualize Prediction on whole data"
   ]
  },
  {
   "cell_type": "code",
   "execution_count": null,
   "metadata": {
    "id": "EqI4_gHOZsYd"
   },
   "outputs": [],
   "source": [
    "Total_features = np.concatenate((Xtrain , Xtest) , axis = 0)"
   ]
  },
  {
   "cell_type": "code",
   "execution_count": null,
   "metadata": {
    "id": "yIMgXwCBZWlB"
   },
   "outputs": [],
   "source": [
    "Total_Targets = np.concatenate((Ytrain , Ytest) , axis = 0)"
   ]
  },
  {
   "cell_type": "code",
   "execution_count": null,
   "metadata": {
    "id": "AX2DdzL3aBW-"
   },
   "outputs": [],
   "source": [
    "Predictions = model.predict(Total_features)"
   ]
  },
  {
   "cell_type": "code",
   "execution_count": null,
   "metadata": {
    "id": "M516Z4NvaBXA"
   },
   "outputs": [],
   "source": [
    "Predictions = Target_Scaler.inverse_transform(Predictions)\n",
    "Actual = Target_Scaler.inverse_transform(Total_Targets)"
   ]
  },
  {
   "cell_type": "code",
   "execution_count": null,
   "metadata": {
    "id": "PQ7LQL7caBXA"
   },
   "outputs": [],
   "source": [
    "Predictions = np.squeeze(Predictions , axis = 1)\n",
    "Actual = np.squeeze(Actual , axis = 1)"
   ]
  },
  {
   "cell_type": "code",
   "execution_count": null,
   "metadata": {
    "colab": {
     "base_uri": "https://localhost:8080/",
     "height": 542
    },
    "executionInfo": {
     "elapsed": 31028,
     "status": "ok",
     "timestamp": 1610890634916,
     "user": {
      "displayName": "Abhilash Chintada",
      "photoUrl": "https://lh3.googleusercontent.com/a-/AOh14GhlwwwMJr16CgjmRFWk833xZEy2OfpaFZDIqM84=s64",
      "userId": "00311744807213723199"
     },
     "user_tz": -330
    },
    "id": "hJ8jz3c4aBXD",
    "outputId": "76ff723e-e9a7-46e0-877e-564e86801fb0"
   },
   "outputs": [],
   "source": [
    "# Check the trend in Volume Traded\n",
    "fig = go.Figure()\n",
    "\n",
    "fig.add_trace(go.Scatter(x = data.index , y = Actual , mode = 'lines' , name='Actual'))\n",
    "fig.add_trace(go.Scatter(x = data.index , y = Predictions , mode = 'lines' , name='Predicted'))\n",
    "fig.show()"
   ]
  },
  {
   "cell_type": "code",
   "execution_count": null,
   "metadata": {
    "colab": {
     "base_uri": "https://localhost:8080/"
    },
    "executionInfo": {
     "elapsed": 31533,
     "status": "ok",
     "timestamp": 1610890635431,
     "user": {
      "displayName": "Abhilash Chintada",
      "photoUrl": "https://lh3.googleusercontent.com/a-/AOh14GhlwwwMJr16CgjmRFWk833xZEy2OfpaFZDIqM84=s64",
      "userId": "00311744807213723199"
     },
     "user_tz": -330
    },
    "id": "dfBEHahfBQbc",
    "outputId": "0bf8e770-99fc-44ad-d4dd-6b98e75367a9"
   },
   "outputs": [],
   "source": [
    "# Save and Load the whole model\n",
    "model.save(\"Model.h5\")\n",
    "loaded_model = tf.keras.models.load_model(\"Model.h5\")"
   ]
  },
  {
   "cell_type": "markdown",
   "metadata": {
    "id": "AP4NeSfMBG8a"
   },
   "source": [
    "Realtime Prediction"
   ]
  },
  {
   "cell_type": "code",
   "execution_count": null,
   "metadata": {
    "id": "9WAMRg8bBJU0"
   },
   "outputs": [],
   "source": [
    "def PredictStockPrice(Model , DataFrame , PreviousDate , feature_length = 32):\n",
    "    idx_location = DataFrame.index.get_loc(PreviousDate)\n",
    "    Features = DataFrame.iloc[idx_location - feature_length : idx_location,:].values\n",
    "    Features = np.expand_dims(Features , axis = 0)\n",
    "    Features = Feature_Scaler.transform(Features)\n",
    "    Prediction = Model.predict(Features)\n",
    "    Prediction = Target_Scaler.inverse_transform(Prediction)\n",
    "    return Prediction[0][0]"
   ]
  },
  {
   "cell_type": "code",
   "execution_count": null,
   "metadata": {
    "colab": {
     "base_uri": "https://localhost:8080/"
    },
    "executionInfo": {
     "elapsed": 944,
     "status": "ok",
     "timestamp": 1610891441166,
     "user": {
      "displayName": "Abhilash Chintada",
      "photoUrl": "https://lh3.googleusercontent.com/a-/AOh14GhlwwwMJr16CgjmRFWk833xZEy2OfpaFZDIqM84=s64",
      "userId": "00311744807213723199"
     },
     "user_tz": -330
    },
    "id": "fVUWRVsHfTh9",
    "outputId": "68bcd95b-1095-48b7-ad67-fa2784d34b93"
   },
   "outputs": [],
   "source": [
    "PredictStockPrice(loaded_model , data , '2021-01-14')"
   ]
  }
 ],
 "metadata": {
  "accelerator": "GPU",
  "colab": {
   "authorship_tag": "ABX9TyNsou1p+ThJe/aYYTkcFsoc",
   "collapsed_sections": [],
   "name": "StockMarket_API.ipynb",
   "provenance": []
  },
  "kernelspec": {
   "display_name": "Python 3 (ipykernel)",
   "language": "python",
   "name": "python3"
  },
  "language_info": {
   "codemirror_mode": {
    "name": "ipython",
    "version": 3
   },
   "file_extension": ".py",
   "mimetype": "text/x-python",
   "name": "python",
   "nbconvert_exporter": "python",
   "pygments_lexer": "ipython3",
   "version": "3.9.7"
  },
  "widgets": {
   "application/vnd.jupyter.widget-state+json": {
    "28f7da3b09ae4dc99e3f3d6dcc6ae44f": {
     "model_module": "@jupyter-widgets/controls",
     "model_name": "HBoxModel",
     "state": {
      "_dom_classes": [],
      "_model_module": "@jupyter-widgets/controls",
      "_model_module_version": "1.5.0",
      "_model_name": "HBoxModel",
      "_view_count": null,
      "_view_module": "@jupyter-widgets/controls",
      "_view_module_version": "1.5.0",
      "_view_name": "HBoxView",
      "box_style": "",
      "children": [
       "IPY_MODEL_d5206753e65a49ad88601a489cb5aed7",
       "IPY_MODEL_94c3db8f29124a608e292ce6de4faef5"
      ],
      "layout": "IPY_MODEL_30201a5afd51453290bc591c141c84e7"
     }
    },
    "30201a5afd51453290bc591c141c84e7": {
     "model_module": "@jupyter-widgets/base",
     "model_name": "LayoutModel",
     "state": {
      "_model_module": "@jupyter-widgets/base",
      "_model_module_version": "1.2.0",
      "_model_name": "LayoutModel",
      "_view_count": null,
      "_view_module": "@jupyter-widgets/base",
      "_view_module_version": "1.2.0",
      "_view_name": "LayoutView",
      "align_content": null,
      "align_items": null,
      "align_self": null,
      "border": null,
      "bottom": null,
      "display": null,
      "flex": null,
      "flex_flow": null,
      "grid_area": null,
      "grid_auto_columns": null,
      "grid_auto_flow": null,
      "grid_auto_rows": null,
      "grid_column": null,
      "grid_gap": null,
      "grid_row": null,
      "grid_template_areas": null,
      "grid_template_columns": null,
      "grid_template_rows": null,
      "height": null,
      "justify_content": null,
      "justify_items": null,
      "left": null,
      "margin": null,
      "max_height": null,
      "max_width": null,
      "min_height": null,
      "min_width": null,
      "object_fit": null,
      "object_position": null,
      "order": null,
      "overflow": null,
      "overflow_x": null,
      "overflow_y": null,
      "padding": null,
      "right": null,
      "top": null,
      "visibility": null,
      "width": null
     }
    },
    "5d18f87df6e8441980b161412863ce37": {
     "model_module": "@jupyter-widgets/base",
     "model_name": "LayoutModel",
     "state": {
      "_model_module": "@jupyter-widgets/base",
      "_model_module_version": "1.2.0",
      "_model_name": "LayoutModel",
      "_view_count": null,
      "_view_module": "@jupyter-widgets/base",
      "_view_module_version": "1.2.0",
      "_view_name": "LayoutView",
      "align_content": null,
      "align_items": null,
      "align_self": null,
      "border": null,
      "bottom": null,
      "display": null,
      "flex": null,
      "flex_flow": null,
      "grid_area": null,
      "grid_auto_columns": null,
      "grid_auto_flow": null,
      "grid_auto_rows": null,
      "grid_column": null,
      "grid_gap": null,
      "grid_row": null,
      "grid_template_areas": null,
      "grid_template_columns": null,
      "grid_template_rows": null,
      "height": null,
      "justify_content": null,
      "justify_items": null,
      "left": null,
      "margin": null,
      "max_height": null,
      "max_width": null,
      "min_height": null,
      "min_width": null,
      "object_fit": null,
      "object_position": null,
      "order": null,
      "overflow": null,
      "overflow_x": null,
      "overflow_y": null,
      "padding": null,
      "right": null,
      "top": null,
      "visibility": null,
      "width": null
     }
    },
    "66fee764f5ac4b4a9a522dc7b85e98b6": {
     "model_module": "@jupyter-widgets/base",
     "model_name": "LayoutModel",
     "state": {
      "_model_module": "@jupyter-widgets/base",
      "_model_module_version": "1.2.0",
      "_model_name": "LayoutModel",
      "_view_count": null,
      "_view_module": "@jupyter-widgets/base",
      "_view_module_version": "1.2.0",
      "_view_name": "LayoutView",
      "align_content": null,
      "align_items": null,
      "align_self": null,
      "border": null,
      "bottom": null,
      "display": null,
      "flex": null,
      "flex_flow": null,
      "grid_area": null,
      "grid_auto_columns": null,
      "grid_auto_flow": null,
      "grid_auto_rows": null,
      "grid_column": null,
      "grid_gap": null,
      "grid_row": null,
      "grid_template_areas": null,
      "grid_template_columns": null,
      "grid_template_rows": null,
      "height": null,
      "justify_content": null,
      "justify_items": null,
      "left": null,
      "margin": null,
      "max_height": null,
      "max_width": null,
      "min_height": null,
      "min_width": null,
      "object_fit": null,
      "object_position": null,
      "order": null,
      "overflow": null,
      "overflow_x": null,
      "overflow_y": null,
      "padding": null,
      "right": null,
      "top": null,
      "visibility": null,
      "width": null
     }
    },
    "94c3db8f29124a608e292ce6de4faef5": {
     "model_module": "@jupyter-widgets/controls",
     "model_name": "HTMLModel",
     "state": {
      "_dom_classes": [],
      "_model_module": "@jupyter-widgets/controls",
      "_model_module_version": "1.5.0",
      "_model_name": "HTMLModel",
      "_view_count": null,
      "_view_module": "@jupyter-widgets/controls",
      "_view_module_version": "1.5.0",
      "_view_name": "HTMLView",
      "description": "",
      "description_tooltip": null,
      "layout": "IPY_MODEL_66fee764f5ac4b4a9a522dc7b85e98b6",
      "placeholder": "​",
      "style": "IPY_MODEL_b3edfd8987d8478c85e4ea17358908a5",
      "value": " 734/734 [00:01&lt;00:00, 539.11it/s]"
     }
    },
    "b3edfd8987d8478c85e4ea17358908a5": {
     "model_module": "@jupyter-widgets/controls",
     "model_name": "DescriptionStyleModel",
     "state": {
      "_model_module": "@jupyter-widgets/controls",
      "_model_module_version": "1.5.0",
      "_model_name": "DescriptionStyleModel",
      "_view_count": null,
      "_view_module": "@jupyter-widgets/base",
      "_view_module_version": "1.2.0",
      "_view_name": "StyleView",
      "description_width": ""
     }
    },
    "d5206753e65a49ad88601a489cb5aed7": {
     "model_module": "@jupyter-widgets/controls",
     "model_name": "FloatProgressModel",
     "state": {
      "_dom_classes": [],
      "_model_module": "@jupyter-widgets/controls",
      "_model_module_version": "1.5.0",
      "_model_name": "FloatProgressModel",
      "_view_count": null,
      "_view_module": "@jupyter-widgets/controls",
      "_view_module_version": "1.5.0",
      "_view_name": "ProgressView",
      "bar_style": "success",
      "description": "100%",
      "description_tooltip": null,
      "layout": "IPY_MODEL_5d18f87df6e8441980b161412863ce37",
      "max": 734,
      "min": 0,
      "orientation": "horizontal",
      "style": "IPY_MODEL_fa03eee2dcd942cdba8a765d20259814",
      "value": 734
     }
    },
    "fa03eee2dcd942cdba8a765d20259814": {
     "model_module": "@jupyter-widgets/controls",
     "model_name": "ProgressStyleModel",
     "state": {
      "_model_module": "@jupyter-widgets/controls",
      "_model_module_version": "1.5.0",
      "_model_name": "ProgressStyleModel",
      "_view_count": null,
      "_view_module": "@jupyter-widgets/base",
      "_view_module_version": "1.2.0",
      "_view_name": "StyleView",
      "bar_color": null,
      "description_width": "initial"
     }
    }
   }
  }
 },
 "nbformat": 4,
 "nbformat_minor": 1
}
