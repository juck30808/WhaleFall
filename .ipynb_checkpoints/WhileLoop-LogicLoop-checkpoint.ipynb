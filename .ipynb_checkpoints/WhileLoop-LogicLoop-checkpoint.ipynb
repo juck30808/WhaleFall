{
 "cells": [
  {
   "cell_type": "code",
   "execution_count": 2,
   "id": "1523a299",
   "metadata": {},
   "outputs": [
    {
     "ename": "IndentationError",
     "evalue": "unindent does not match any outer indentation level (<tokenize>, line 5)",
     "output_type": "error",
     "traceback": [
      "\u001b[0;36m  File \u001b[0;32m\"<tokenize>\"\u001b[0;36m, line \u001b[0;32m5\u001b[0m\n\u001b[0;31m    ------------\u001b[0m\n\u001b[0m    ^\u001b[0m\n\u001b[0;31mIndentationError\u001b[0m\u001b[0;31m:\u001b[0m unindent does not match any outer indentation level\n"
     ]
    }
   ],
   "source": [
    "# A program to display a pattern using Loops\n",
    "\n",
    "n=6\n",
    "                          i.  .  *\n",
    "                        ------------\n",
    ".....*                    1   5  1\n",
    "....***                   2   4  3   . => n-i\n",
    "...*****                  3   3  5\n",
    "..*******                 4   2  7   * => 2*i-1\n",
    ".*********                5   1  9\n",
    "***********               6   0 11\n"
   ]
  },
  {
   "cell_type": "code",
   "execution_count": 5,
   "id": "91df28b2",
   "metadata": {},
   "outputs": [
    {
     "name": "stdout",
     "output_type": "stream",
     "text": [
      "Please enter the number of layers...5\n",
      "....*\n",
      "...***\n",
      "..*****\n",
      ".*******\n",
      "*********\n"
     ]
    }
   ],
   "source": [
    "n = int(input(\"Please enter the number of layers...\"))\n",
    "i=1\n",
    "\n",
    "while i <= n:\n",
    "    j=1\n",
    "    while j<= n-i :\n",
    "        print(\".\",end=\"\")\n",
    "        j = j+1\n",
    "    j=1\n",
    "    \n",
    "    while j <= 2*i -1 :\n",
    "        print(\"*\", end=\"\")\n",
    "        j = j+1    \n",
    "    print()\n",
    "    i=i+1"
   ]
  },
  {
   "cell_type": "code",
   "execution_count": null,
   "id": "969d749f",
   "metadata": {},
   "outputs": [],
   "source": [
    "# A program to display a pattern using Loops\n",
    "\n",
    "n= 11 (odd)\n",
    "m= (n+1)/2 = 6\n",
    "\n",
    "                          i.  .  *\n",
    "                        ------------\n",
    "***********               1   0 11\n",
    ".*********                2   1  9   . => n-i\n",
    "..*******                 3   2  7   \n",
    "...*****                  4   3  5   * => 2*(m-i)+1\n",
    "....***                   5   4  3    \n",
    ".....*                  __6___5__1__ \n",
    "....***                   7   4  3   . => n-i\n",
    "...*****                  8   3  5\n",
    "..*******                 9   2  7   * => 2*(i-m)+1\n",
    ".*********                10  1  9\n",
    "***********               11  0 11\n",
    "\n"
   ]
  },
  {
   "cell_type": "code",
   "execution_count": 10,
   "id": "e145e9d8",
   "metadata": {},
   "outputs": [
    {
     "name": "stdout",
     "output_type": "stream",
     "text": [
      "Please enter the number of layers...13\n",
      "*************\n",
      ".***********\n",
      "..*********\n",
      "...*******\n",
      "....*****\n",
      ".....***\n",
      "......*\n",
      ".....***\n",
      "....*****\n",
      "...*******\n",
      "..*********\n",
      ".***********\n",
      "*************\n"
     ]
    }
   ],
   "source": [
    "n = int(input(\"Please enter the number of layers...\"))\n",
    "m = (n+1)/2\n",
    "i = 1\n",
    "\n",
    "while i <= n:\n",
    "    if(i>m):\n",
    "        b = n-i\n",
    "        s = 2*(i-m)+1\n",
    "    else:\n",
    "        b = i-1\n",
    "        s = 2*(m-i)+1\n",
    "    j=1\n",
    "    while j<= b :\n",
    "        print(\".\",end=\"\")\n",
    "        j = j+1\n",
    "    j=1\n",
    "    while j <= s:\n",
    "        print(\"*\", end=\"\")\n",
    "        j = j+1    \n",
    "    print()\n",
    "    i=i+1"
   ]
  },
  {
   "cell_type": "code",
   "execution_count": null,
   "id": "7bcafff6",
   "metadata": {},
   "outputs": [],
   "source": [
    "# A program to display a pattern using Loops\n",
    "\n",
    "n= 11 (odd)\n",
    "m= (n+1)/2 = 6\n",
    "\n",
    "                          i.  .  *\n",
    "                        ------------\n",
    ".....*                    1   5  1   \n",
    "....***                   2   4  3  \n",
    "...*****                  3   3  5\n",
    "..*******                 4   2  7  \n",
    ".*********                5   1  9\n",
    "***********             __6___0__11__ \n",
    ".*********                7   1  9  \n",
    "..*******                 8   2  7   \n",
    "...*****                  9   3  5  \n",
    "....***                   10  4  3    \n",
    ".....*                    11  5  1  "
   ]
  }
 ],
 "metadata": {
  "kernelspec": {
   "display_name": "Python 3 (ipykernel)",
   "language": "python",
   "name": "python3"
  },
  "language_info": {
   "codemirror_mode": {
    "name": "ipython",
    "version": 3
   },
   "file_extension": ".py",
   "mimetype": "text/x-python",
   "name": "python",
   "nbconvert_exporter": "python",
   "pygments_lexer": "ipython3",
   "version": "3.8.8"
  }
 },
 "nbformat": 4,
 "nbformat_minor": 5
}
