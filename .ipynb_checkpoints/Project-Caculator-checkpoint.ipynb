{
 "cells": [
  {
   "cell_type": "markdown",
   "id": "2be7d956",
   "metadata": {},
   "source": [
    "### == Project 1 caculator"
   ]
  },
  {
   "cell_type": "code",
   "execution_count": null,
   "id": "b85fbbd1",
   "metadata": {},
   "outputs": [],
   "source": [
    "#### '''Write a program to find greatest of four numbers entered by\n",
    "  the user(Assume user inputed distinguished numbers).'''\n",
    "'''\n",
    "num1 = int(input(\"Enter number 1: \"))\n",
    "num2 = int(input(\"Enter number 2: \"))\n",
    "num3 = int(input(\"Enter number 3: \"))\n",
    "num4 = int(input(\"Enter number 4: \"))\n",
    "\n",
    "if(num1>num2 and num1>num3 and num1>num4):\n",
    "    print(\"num1 is the greatest\")\n",
    "elif(num2>num1 and num2>num3 and num2>num4):\n",
    "    print(\"num2 is the greatest\")\n",
    "elif(num3>num1 and num3>num2 and num3>num4):\n",
    "    print(\"num3 is the greatest\")\n",
    "else:\n",
    "   print(\"num4 is the greatest\") \n",
    "'''\n",
    "\n",
    "'''Write a program to find out whether a student is pass or fail,\n",
    " if it requires total 40% and at least 33% in each subject to \n",
    " pass.Assume 3 subjects and take marks as an input from the user'''\n",
    "\n",
    "sub1 = int(input(\"Enter first subject marks\\n\"))\n",
    "sub2 = int(input(\"Enter second subject marks\\n\"))\n",
    "sub3 = int(input(\"Enter third subject marks\\n\"))\n",
    "\n",
    "if(sub1<33 or sub2<33 or sub3<33):\n",
    "    print(\"You are fail because you have less than 33 percent in one of the subjects\")\n",
    "elif(sub1+sub2+sub3)/3 < 40:\n",
    "    print(\"You are fail due to total percentage less than 40\")\n",
    "else:\n",
    "    print(\"Congatulations! You passed the exam\")\n",
    "\n"
   ]
  },
  {
   "cell_type": "markdown",
   "id": "f6f2f70a",
   "metadata": {},
   "source": [
    "## == Project 2 caculator"
   ]
  },
  {
   "cell_type": "code",
   "execution_count": null,
   "id": "eaf3ea7c",
   "metadata": {},
   "outputs": [],
   "source": [
    "## WAP to calculate and display the sum of all odd numbers in a given list\n",
    "'''lst=eval(input(\"Enter a list: \"))\n",
    "s=04\n",
    "for i in lst:\n",
    "    if i%2==1:\n",
    "        s=s+i\n",
    "print(s)'''\n",
    "\n",
    "#WAP which adds 5 in all odd values and 10 in all even values of \n",
    "# a given list. Also display the list\n",
    "lst=eval(input(\"Enter a list: \"))\n",
    "l=len(lst)\n",
    "\n",
    "for i in range(l):\n",
    "    if type(lst[i])== int:\n",
    "        if lst[i]%2==0:\n",
    "            lst[i]=lst[i]+10\n",
    "        else:\n",
    "            lst[i]=lst[i]+5\n",
    "print(lst)\n",
    "\n"
   ]
  },
  {
   "cell_type": "markdown",
   "id": "3e313fa0",
   "metadata": {},
   "source": [
    "## == Project 3 caculator"
   ]
  },
  {
   "cell_type": "code",
   "execution_count": 10,
   "id": "bdd8e007",
   "metadata": {},
   "outputs": [
    {
     "name": "stdout",
     "output_type": "stream",
     "text": [
      "Enter a number: 125\n",
      "3906\n"
     ]
    }
   ],
   "source": [
    "# print the sum of first N even numbers\n",
    "#using for loop\n",
    "'''N= int(input(\"Enter the range: \"))\n",
    "sum1 = 0 \n",
    "\n",
    "for i in range(1,N+1):\n",
    "    if(i%2==0):\n",
    "        sum1=sum1+i\n",
    "    \n",
    "print(sum1)'''\n",
    "\n",
    "#using while loop\n",
    "\n",
    "n=int(input(\"Enter a number: \"))\n",
    "i=1\n",
    "s=0\n",
    "while (i<=n):\n",
    "    if(i%2==0):\n",
    "        s=s+i\n",
    "    i=i+1\n",
    "print(s)"
   ]
  },
  {
   "cell_type": "markdown",
   "id": "d470a362",
   "metadata": {},
   "source": [
    "## == Project 4 caculator\n"
   ]
  },
  {
   "cell_type": "code",
   "execution_count": null,
   "id": "1b8ab419",
   "metadata": {},
   "outputs": [],
   "source": [
    "\n",
    "#WAP to get the maximum and minimum value in a dictionary.\n",
    "'''\n",
    "dict1=eval(input(\"Enter a dictionary: \"))\n",
    "all_values= dict1.values() #all_values is a list\n",
    "max_value= max(all_values)\n",
    "min_value= min(all_values)\n",
    "\n",
    "print(f\"The maximum value is : {max_value}\")\n",
    "print(f\"The minimum value is : {min_value}\")\n",
    "'''\n",
    "#WAP to remove a key from a dictionary.\n",
    "\n",
    "dict1=eval(input(\"Enter a dictionary: \"))\n",
    "k=eval(input(\"Enter a key: \"))\n",
    "\n",
    "if k in dict1:\n",
    "    del dict1[k]\n",
    "\n",
    "print(dict1)"
   ]
  },
  {
   "cell_type": "code",
   "execution_count": null,
   "id": "c2237aaa",
   "metadata": {},
   "outputs": [],
   "source": []
  }
 ],
 "metadata": {
  "kernelspec": {
   "display_name": "Python 3 (ipykernel)",
   "language": "python",
   "name": "python3"
  },
  "language_info": {
   "codemirror_mode": {
    "name": "ipython",
    "version": 3
   },
   "file_extension": ".py",
   "mimetype": "text/x-python",
   "name": "python",
   "nbconvert_exporter": "python",
   "pygments_lexer": "ipython3",
   "version": "3.8.8"
  }
 },
 "nbformat": 4,
 "nbformat_minor": 5
}
