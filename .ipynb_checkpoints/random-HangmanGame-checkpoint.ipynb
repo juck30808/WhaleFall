{
 "cells": [
  {
   "cell_type": "code",
   "execution_count": 7,
   "metadata": {},
   "outputs": [],
   "source": [
    "guess_list = ['Almond','Banana','Blewits','Brazil','Carrot','Casaba',\n",
    "                'Cashew','Celery','Cherry','Chives','Chocho','Citron',\n",
    "                'Citrus','Cob nut','Cooker','Daikon','Damson','Endive',\n",
    "                'Fennel','Garlic','Girkin','Greens','Kiwano','Lentil',\n",
    "                'Lichee','Lychee','Marrow','Medlar','Nettle','Orange',\n",
    "                'Oyster','Papaya','Pawpaw','Peanut','Pepper','Pignut',\n",
    "                'Pippin','Potato','Quince','Radish','Raisin','Rocket',\n",
    "                'Russet','Squash','Tomato','Turnip','Wakame','Walnut']"
   ]
  },
  {
   "cell_type": "code",
   "execution_count": 8,
   "metadata": {},
   "outputs": [],
   "source": [
    "game_name = '''\n",
    " _\n",
    "| |\n",
    "| |___    __ _      __ __    __ _    __ __ __     __ _     __ __\n",
    "|  _  |  / _  |    |  _  \\  / _  |  |  _   _  \\  / _  |   |  _  \\\n",
    "| | | | | (_| |_   | | | | | (_| |  | | | | | | | (_| |_  | | | |\n",
    "|_| |_|  \\______|  |_| |_|  \\___ |  |_| |_| |_|  \\______| |_| |_|\n",
    "                             __/ |\n",
    "                            |___/\n",
    "'''"
   ]
  },
  {
   "cell_type": "code",
   "execution_count": 11,
   "metadata": {},
   "outputs": [
    {
     "name": "stdout",
     "output_type": "stream",
     "text": [
      "\n",
      " _\n",
      "| |\n",
      "| |___    __ _      __ __    __ _    __ __ __     __ _     __ __\n",
      "|  _  |  / _  |    |  _  \\  / _  |  |  _   _  \\  / _  |   |  _  | | | | | (_| |_   | | | | | (_| |  | | | | | | | (_| |_  | | | |\n",
      "|_| |_|  \\______|  |_| |_|  \\___ |  |_| |_| |_|  \\______| |_| |_|\n",
      "                             __/ |\n",
      "                            |___/\n",
      "\n",
      "The word you guessed is casaba\n",
      "Guess a letter: 1\n",
      "You guessed 1, This letter is not in the word, you lose a try\n",
      "_ _ _ _ _ _\n",
      "Guess a letter: 2\n",
      "You guessed 2, This letter is not in the word, you lose a try\n",
      "_ _ _ _ _ _\n",
      "Guess a letter: 3\n",
      "You guessed 3, This letter is not in the word, you lose a try\n",
      "_ _ _ _ _ _\n",
      "Guess a letter: 4\n",
      "You guessed 4, This letter is not in the word, you lose a try\n",
      "_ _ _ _ _ _\n",
      "Guess a letter: 5\n",
      "You guessed 5, This letter is not in the word, you lose a try\n",
      "_ _ _ _ _ _\n",
      "Guess a letter: 6\n",
      "You guessed 6, This letter is not in the word, you lose a try\n",
      "Game Over, You lose the game, try again later\n",
      "_ _ _ _ _ _\n",
      "0\n"
     ]
    }
   ],
   "source": [
    "import random\n",
    "\n",
    "guessing_word = random.choice(guess_list).lower()\n",
    "word_letters = len(guessing_word)\n",
    "\n",
    "# Keep the game running until the game is over\n",
    "game_over = False\n",
    "\n",
    "# Apply tries to the players to use to try to win\n",
    "tries = 6\n",
    "\n",
    "print(game_name)\n",
    "print(f'The word you guessed is {guessing_word}')\n",
    "\n",
    "result = []\n",
    "\n",
    "# Iterate over the players input\n",
    "for _ in range(word_letters):\n",
    "    result += '_'\n",
    "\n",
    "# Iterate over the user input to keep the game running until the game is over\n",
    "while not game_over:\n",
    "    user_guessing = input('Guess a letter: ')\n",
    "\n",
    "# Inform the players about the letter they have guessed after they do\n",
    "    if user_guessing in result:\n",
    "        print(f'The letter you have guessed is {user_guessing}')\n",
    "\n",
    "# Check if the guessed letters by the playes is right or wrong\n",
    "    for position in range(word_letters):\n",
    "        letter = guessing_word[position]\n",
    "        if letter == user_guessing:\n",
    "            result[position] = letter\n",
    "\n",
    "# The players lose a try if they guessed wrong letter\n",
    "    if user_guessing not in guessing_word:\n",
    "        print(f'You guessed {user_guessing}, This letter is not in the word, you lose a try')\n",
    "\n",
    "# If the players lose all their tries end game and print the end game message\n",
    "        tries -=1\n",
    "        if tries == 0:\n",
    "            game_over = True\n",
    "            print('Game Over, You lose the game, try again later')\n",
    "\n",
    "# Join all the letters which in the list of guessed letter and tủn it into string\n",
    "    print(f\"{' '.join(result)}\")\n",
    "\n",
    "# Check if the player guessed all the right letter so end game and print the win message\n",
    "    if '_' not in result:\n",
    "        game_over = True\n",
    "        print('You are the winner, Congratulations!')\n",
    "\n",
    "# You to print the correct shape after every players try.\n",
    "#from hangman_life import lives\n",
    "print(tries)\n"
   ]
  },
  {
   "cell_type": "code",
   "execution_count": null,
   "metadata": {},
   "outputs": [],
   "source": []
  }
 ],
 "metadata": {
  "kernelspec": {
   "display_name": "Python 3 (ipykernel)",
   "language": "python",
   "name": "python3"
  },
  "language_info": {
   "codemirror_mode": {
    "name": "ipython",
    "version": 3
   },
   "file_extension": ".py",
   "mimetype": "text/x-python",
   "name": "python",
   "nbconvert_exporter": "python",
   "pygments_lexer": "ipython3",
   "version": "3.8.8"
  }
 },
 "nbformat": 4,
 "nbformat_minor": 4
}
