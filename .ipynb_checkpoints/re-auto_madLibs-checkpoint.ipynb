{
 "cells": [
  {
   "cell_type": "code",
   "execution_count": 2,
   "id": "0fe9acb1",
   "metadata": {},
   "outputs": [
    {
     "name": "stdout",
     "output_type": "stream",
     "text": [
      "Enter a ADJECTIVE: good\n",
      "Enter a NOUN: icecream\n",
      "Enter a VERB: doit\n",
      "Enter a NOUN: a\n",
      "The good panda walked to the icecream and then doit. \n",
      "A nearby a was unaffected by these events.\n"
     ]
    }
   ],
   "source": [
    "import os\n",
    "import re\n",
    "\n",
    "def madLibs(input_file, output_file):\n",
    "    regex = re.compile(r'(NOUN|ADJECTIVE|ADVERB|VERB)')\n",
    "\n",
    "    with open(input_file, 'r') as in_file, open(output_file, 'w') as out_file:\n",
    "        content = in_file.read()\n",
    "        matches = regex.findall(content)\n",
    "        for found in matches:\n",
    "            sub = input('Enter a ' + found + ': ')\n",
    "            content = content.replace(found, sub, 1)\n",
    "\n",
    "        out_file.write(content)\n",
    "        print(content)\n",
    "\n",
    "if __name__ == \"__main__\":\n",
    "    madLibs('input/madLibs.txt', 'output/madLibs.txt')"
   ]
  },
  {
   "cell_type": "code",
   "execution_count": null,
   "id": "a406c968",
   "metadata": {},
   "outputs": [],
   "source": []
  }
 ],
 "metadata": {
  "kernelspec": {
   "display_name": "Python 3 (ipykernel)",
   "language": "python",
   "name": "python3"
  },
  "language_info": {
   "codemirror_mode": {
    "name": "ipython",
    "version": 3
   },
   "file_extension": ".py",
   "mimetype": "text/x-python",
   "name": "python",
   "nbconvert_exporter": "python",
   "pygments_lexer": "ipython3",
   "version": "3.9.7"
  }
 },
 "nbformat": 4,
 "nbformat_minor": 5
}
