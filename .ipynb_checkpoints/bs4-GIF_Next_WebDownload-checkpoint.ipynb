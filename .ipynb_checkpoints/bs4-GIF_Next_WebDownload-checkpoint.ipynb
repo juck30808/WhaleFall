{
 "cells": [
  {
   "cell_type": "code",
   "execution_count": 1,
   "metadata": {},
   "outputs": [],
   "source": [
    "#!pip install requests"
   ]
  },
  {
   "cell_type": "code",
   "execution_count": 2,
   "metadata": {},
   "outputs": [],
   "source": [
    "import requests\n",
    "url = \"https://www.gif-vif.com/you-are-a-wizard-doggo\" # 200：ok   # 4xx：User Error  # 5xx：Server Error\n",
    "res = requests.get(url)  \n",
    "#res.text"
   ]
  },
  {
   "cell_type": "code",
   "execution_count": 3,
   "metadata": {},
   "outputs": [],
   "source": [
    "# beautiful soup the all HTML \n",
    "from bs4 import BeautifulSoup\n",
    "soup = BeautifulSoup(res.text, 'lxml') # lxml是解析方式"
   ]
  },
  {
   "cell_type": "code",
   "execution_count": 4,
   "metadata": {},
   "outputs": [
    {
     "data": {
      "text/plain": [
       "[<video autoplay=\"\" loop=\"\" muted=\"\" playsinline=\"\" poster=\"https://media.giphy.com/media/W0yN0GEVU2eHUeYlYQ/giphy.gif\">\n",
       " <source src=\"https://media.giphy.com/media/W0yN0GEVU2eHUeYlYQ/giphy.mp4\" type=\"video/mp4\"/>\n",
       " </video>,\n",
       " <video autoplay=\"\" loop=\"\" muted=\"\" poster=\"https://media.giphy.com/media/W0yN0GEVU2eHUeYlYQ/giphy.gif\">\n",
       " <source src=\"https://media.giphy.com/media/W0yN0GEVU2eHUeYlYQ/giphy.mp4\" type=\"video/mp4\"/>\n",
       " </video>]"
      ]
     },
     "execution_count": 4,
     "metadata": {},
     "output_type": "execute_result"
    }
   ],
   "source": [
    "# catch the video\n",
    "vidio_elements = soup.find_all(\"video\")\n",
    "vidio_elements"
   ]
  },
  {
   "cell_type": "code",
   "execution_count": 5,
   "metadata": {},
   "outputs": [
    {
     "data": {
      "text/plain": [
       "'https://media.giphy.com/media/W0yN0GEVU2eHUeYlYQ/giphy.gif'"
      ]
     },
     "execution_count": 5,
     "metadata": {},
     "output_type": "execute_result"
    }
   ],
   "source": [
    "# catch 0 index's poster\n",
    "gif_url = vidio_elements[0].get(\"poster\")\n",
    "gif_url"
   ]
  },
  {
   "cell_type": "code",
   "execution_count": 6,
   "metadata": {},
   "outputs": [],
   "source": [
    "# Catch again write down\n",
    "gif = requests.get(gif_url)\n",
    "with open(\"demo.gif\", \"wb\") as f:\n",
    "    f.write(gif.content)"
   ]
  },
  {
   "cell_type": "code",
   "execution_count": 7,
   "metadata": {},
   "outputs": [
    {
     "name": "stdout",
     "output_type": "stream",
     "text": [
      "https://www.gif-vif.com/Turtle-Vs-Beer-can\n"
     ]
    }
   ],
   "source": [
    "# Find Next Url\n",
    "\n",
    "# Catch div id \n",
    "# Catch div with \"a\" in div & href \n",
    "next_url = soup.find(id=\"share_and_next\").find_all(\"a\")[-1].get(\"href\")\n",
    "print(next_url)"
   ]
  },
  {
   "cell_type": "code",
   "execution_count": 8,
   "metadata": {},
   "outputs": [],
   "source": [
    "# <div id=\"share_and_next\">\n",
    "#     <div id=\"share_buttons\">\n",
    "#         <a href=\"javascript:void(0)\"><img onclick=\"window.open(&quot;https://www.facebook.com/sharer/sharer.php?u=https://www.gif-vif.com/You-are-a-wizard-doggo/?fbrefresh=23&quot;, &quot;Post to facebook&quot;, &quot;width=600,height=400,left=200&quot;)\" src=\"https://www.gif-vif.com/web_images/fb_share.png\"></a>\n",
    "#         <a href=\"https://pinterest.com/pin/create/button/?url=https://www.gif-vif.com/You-are-a-wizard-doggo&amp;media=https://media.giphy.com/media/W0yN0GEVU2eHUeYlYQ/giphy.gif&amp;description=You are a wizard doggo\" target=\"_blank\"><img src=\"https://www.gif-vif.com/web_images/pinterest_share.png\"></a>\n",
    "#         <a href=\"https://www.reddit.com/submit?url=https://www.gif-vif.com/You-are-a-wizard-doggo/&amp;title=You are a wizard doggo\" target=\"_blank\"><img src=\"https://www.gif-vif.com/web_images/reddit_share.png\"></a>\n",
    "#     </div>\n",
    "#     <a href=\"https://www.gif-vif.com/Turtle-Vs-Beer-can\"><div id=\"next_div\">\n",
    "#         Next gif <img class=\"icon_align\" src=\"https://www.gif-vif.com/web_images/next_page_icon.png\">\n",
    "#     </div></a>\n",
    "# </div>"
   ]
  },
  {
   "cell_type": "markdown",
   "metadata": {},
   "source": [
    "## 打包成函數 Get_gif\n",
    "目前儲存在同資料夾"
   ]
  },
  {
   "cell_type": "code",
   "execution_count": 11,
   "metadata": {},
   "outputs": [
    {
     "name": "stdout",
     "output_type": "stream",
     "text": [
      "getting gif you-are-a-wizard-doggo\n",
      "getting gif Turtle-Vs-Beer-can\n",
      "getting gif When-sports-is-not-your-thing\n",
      "getting gif Poor-guy-129\n",
      "getting gif How-not-to-prank-friends\n",
      "getting gif Moving-house\n",
      "getting gif Crushing-CDs\n",
      "getting gif When-you-want-to-go-swimming-but-water-is-too-cold\n",
      "getting gif Naah-not-a-rat\n",
      "getting gif Keep-petting-me\n"
     ]
    }
   ],
   "source": [
    "def get_gif(url):\n",
    "    title = url.split(\"/\")[-1]\n",
    "    print(\"getting gif\",title)  #print(f\"getting gif {title}\")\n",
    "    res = requests.get(url) # 取得回應\n",
    "    \n",
    "    soup = BeautifulSoup(res.text, 'lxml')\n",
    "    vidio_elements = soup.find_all(\"video\")\n",
    "    gif_url = vidio_elements[0].get(\"poster\")\n",
    "\n",
    "    # Download gif\n",
    "    gif = requests.get(gif_url)\n",
    "    with open(f\"{title}.gif\", \"wb\") as f:\n",
    "        f.write(gif.content)\n",
    "    \n",
    "    # 4. Next Url 尋找下一個 url\n",
    "    next_url = soup.find(id=\"share_and_next\").find_all(\"a\")[-1].get(\"href\")\n",
    "    return next_url\n",
    "\n",
    "\n",
    "if __name__ == \"__main__\":\n",
    "    url = \"https://www.gif-vif.com/you-are-a-wizard-doggo\"\n",
    "    for i in range(10):\n",
    "        url = get_gif(url)"
   ]
  }
 ],
 "metadata": {
  "kernelspec": {
   "display_name": "Python 3 (ipykernel)",
   "language": "python",
   "name": "python3"
  },
  "language_info": {
   "codemirror_mode": {
    "name": "ipython",
    "version": 3
   },
   "file_extension": ".py",
   "mimetype": "text/x-python",
   "name": "python",
   "nbconvert_exporter": "python",
   "pygments_lexer": "ipython3",
   "version": "3.9.7"
  }
 },
 "nbformat": 4,
 "nbformat_minor": 4
}
