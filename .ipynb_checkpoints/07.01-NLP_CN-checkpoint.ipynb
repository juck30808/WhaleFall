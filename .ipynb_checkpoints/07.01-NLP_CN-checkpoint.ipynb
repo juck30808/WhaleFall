{
 "cells": [
  {
   "cell_type": "markdown",
   "metadata": {},
   "source": [
    "## NLP - the Youtube Comment (CN)"
   ]
  },
  {
   "cell_type": "code",
   "execution_count": 1,
   "metadata": {},
   "outputs": [],
   "source": [
    "import pandas as pd\n",
    "import numpy as np\n",
    "\n",
    "import unicodedata\n",
    "import re"
   ]
  },
  {
   "cell_type": "code",
   "execution_count": 2,
   "metadata": {},
   "outputs": [
    {
     "data": {
      "text/html": [
       "<div>\n",
       "<style scoped>\n",
       "    .dataframe tbody tr th:only-of-type {\n",
       "        vertical-align: middle;\n",
       "    }\n",
       "\n",
       "    .dataframe tbody tr th {\n",
       "        vertical-align: top;\n",
       "    }\n",
       "\n",
       "    .dataframe thead th {\n",
       "        text-align: right;\n",
       "    }\n",
       "</style>\n",
       "<table border=\"1\" class=\"dataframe\">\n",
       "  <thead>\n",
       "    <tr style=\"text-align: right;\">\n",
       "      <th></th>\n",
       "      <th>Unnamed: 0</th>\n",
       "      <th>iD</th>\n",
       "      <th>tim</th>\n",
       "      <th>nam</th>\n",
       "      <th>aythimg</th>\n",
       "      <th>mess1</th>\n",
       "      <th>type</th>\n",
       "      <th>channel</th>\n",
       "      <th>Unnamed: 8</th>\n",
       "      <th>The Newest Comment output</th>\n",
       "    </tr>\n",
       "  </thead>\n",
       "  <tbody>\n",
       "    <tr>\n",
       "      <th>0</th>\n",
       "      <td>0</td>\n",
       "      <td>3941548</td>\n",
       "      <td>2022-05-13 14:59:58</td>\n",
       "      <td>Mr. J</td>\n",
       "      <td>https://yt4.ggpht.com/ytc/AKedOLTJ4kuN86d80H6C...</td>\n",
       "      <td>政治防疫 糙</td>\n",
       "      <td>textMessage</td>\n",
       "      <td>ctitv</td>\n",
       "      <td>NaN</td>\n",
       "      <td>14.0</td>\n",
       "    </tr>\n",
       "    <tr>\n",
       "      <th>1</th>\n",
       "      <td>1</td>\n",
       "      <td>3941547</td>\n",
       "      <td>2022-05-13 14:59:57</td>\n",
       "      <td>閑聊</td>\n",
       "      <td>https://yt4.ggpht.com/ytc/AKedOLR1B9ZW9uDWo-oG...</td>\n",
       "      <td>3+4及與病毒共存害死那麼多人？死亡人數還不夠多嗎？</td>\n",
       "      <td>textMessage</td>\n",
       "      <td>ctitv</td>\n",
       "      <td>NaN</td>\n",
       "      <td>NaN</td>\n",
       "    </tr>\n",
       "    <tr>\n",
       "      <th>2</th>\n",
       "      <td>2</td>\n",
       "      <td>3941546</td>\n",
       "      <td>2022-05-13 14:59:55</td>\n",
       "      <td>Sausan Shunnar</td>\n",
       "      <td>https://yt4.ggpht.com/ytc/AKedOLQbB5RL14GTzuXe...</td>\n",
       "      <td>為什麼報應不在政腐 反而在人民身上 為什麼老百姓要丟性命買單</td>\n",
       "      <td>textMessage</td>\n",
       "      <td>ctitv</td>\n",
       "      <td>NaN</td>\n",
       "      <td>NaN</td>\n",
       "    </tr>\n",
       "    <tr>\n",
       "      <th>3</th>\n",
       "      <td>3</td>\n",
       "      <td>3941545</td>\n",
       "      <td>2022-05-13 14:59:54</td>\n",
       "      <td>Heshirley蕃秀</td>\n",
       "      <td>https://yt4.ggpht.com/ytc/AKedOLSCoj6fA5UmDI8Q...</td>\n",
       "      <td>原來政策也可以殺死人</td>\n",
       "      <td>textMessage</td>\n",
       "      <td>ctitv</td>\n",
       "      <td>NaN</td>\n",
       "      <td>NaN</td>\n",
       "    </tr>\n",
       "    <tr>\n",
       "      <th>4</th>\n",
       "      <td>4</td>\n",
       "      <td>3941543</td>\n",
       "      <td>2022-05-13 14:59:52</td>\n",
       "      <td>熊男くまお</td>\n",
       "      <td>https://yt4.ggpht.com/ytc/AKedOLREjsH_39Sh1UIt...</td>\n",
       "      <td>皇明祖訓 {'id': '', 'txt': '', 'url': 'https://www...</td>\n",
       "      <td>textMessage</td>\n",
       "      <td>ctitv</td>\n",
       "      <td>NaN</td>\n",
       "      <td>NaN</td>\n",
       "    </tr>\n",
       "  </tbody>\n",
       "</table>\n",
       "</div>"
      ],
      "text/plain": [
       "   Unnamed: 0       iD                  tim             nam  \\\n",
       "0           0  3941548  2022-05-13 14:59:58           Mr. J   \n",
       "1           1  3941547  2022-05-13 14:59:57              閑聊   \n",
       "2           2  3941546  2022-05-13 14:59:55  Sausan Shunnar   \n",
       "3           3  3941545  2022-05-13 14:59:54     Heshirley蕃秀   \n",
       "4           4  3941543  2022-05-13 14:59:52           熊男くまお   \n",
       "\n",
       "                                             aythimg  \\\n",
       "0  https://yt4.ggpht.com/ytc/AKedOLTJ4kuN86d80H6C...   \n",
       "1  https://yt4.ggpht.com/ytc/AKedOLR1B9ZW9uDWo-oG...   \n",
       "2  https://yt4.ggpht.com/ytc/AKedOLQbB5RL14GTzuXe...   \n",
       "3  https://yt4.ggpht.com/ytc/AKedOLSCoj6fA5UmDI8Q...   \n",
       "4  https://yt4.ggpht.com/ytc/AKedOLREjsH_39Sh1UIt...   \n",
       "\n",
       "                                               mess1         type channel  \\\n",
       "0                                             政治防疫 糙  textMessage   ctitv   \n",
       "1                         3+4及與病毒共存害死那麼多人？死亡人數還不夠多嗎？  textMessage   ctitv   \n",
       "2                     為什麼報應不在政腐 反而在人民身上 為什麼老百姓要丟性命買單  textMessage   ctitv   \n",
       "3                                         原來政策也可以殺死人  textMessage   ctitv   \n",
       "4  皇明祖訓 {'id': '', 'txt': '', 'url': 'https://www...  textMessage   ctitv   \n",
       "\n",
       "   Unnamed: 8  The Newest Comment output  \n",
       "0         NaN                       14.0  \n",
       "1         NaN                        NaN  \n",
       "2         NaN                        NaN  \n",
       "3         NaN                        NaN  \n",
       "4         NaN                        NaN  "
      ]
     },
     "execution_count": 2,
     "metadata": {},
     "output_type": "execute_result"
    }
   ],
   "source": [
    "data = pd.read_excel('input/NLP-excel.xlsx')\n",
    "data.head()\n",
    "#type(data)"
   ]
  },
  {
   "cell_type": "code",
   "execution_count": 3,
   "metadata": {},
   "outputs": [
    {
     "data": {
      "text/plain": [
       "0                                                  政治防疫 糙\n",
       "1                              3+4及與病毒共存害死那麼多人？死亡人數還不夠多嗎？\n",
       "2                          為什麼報應不在政腐 反而在人民身上 為什麼老百姓要丟性命買單\n",
       "3                                              原來政策也可以殺死人\n",
       "4       皇明祖訓 {'id': '', 'txt': '', 'url': 'https://www...\n",
       "                              ...                        \n",
       "2080    茗淨檔以炸片為生{'id': '', 'txt': ':beaming_face_with_...\n",
       "2081                              中天 在YouTube 真的丟臉 應該在微博報\n",
       "2082                                林婉儿 小粉紅封城還是喜歡翻牆來看台灣~~\n",
       "2083                   说全了，应该是今天可筛数字是不是破7W。快筛不够，实际数据没办法获知\n",
       "2084                      1450多來 衝流量喔，安靜 學習，學海 無崖，少害人了。。。\n",
       "Name: mess1, Length: 2085, dtype: object"
      ]
     },
     "execution_count": 3,
     "metadata": {},
     "output_type": "execute_result"
    }
   ],
   "source": [
    "data['mess1']"
   ]
  },
  {
   "cell_type": "code",
   "execution_count": 4,
   "metadata": {},
   "outputs": [],
   "source": [
    "# ## Excel 把檔案轉換成 dataFrame 轉換成 excel (資料庫匯入用)\n",
    "# import datetime\n",
    "# from openpyxl import Workbook\n",
    "# from openpyxl.utils.dataframe import dataframe_to_rows\n",
    "# from openpyxl.cell.cell import WriteOnlyCell\n",
    "\n",
    "# wb = Workbook()\n",
    "# ws1 = wb.active\n",
    "# ws1.title = \"Titles\"\n",
    "# for r in dataframe_to_rows(data, index=True, header=True):\n",
    "#     ws1.append(r)\n",
    "\n",
    "# ws1[\"J1\"] = \"TheOutput\"\n",
    "# ws1[\"J2\"] = str(datetime.date.today())\n",
    "\n",
    "# wb.save(\"input/NLP-save1.xlsx\")\n",
    "# print(wb.sheetnames)"
   ]
  },
  {
   "cell_type": "markdown",
   "metadata": {},
   "source": [
    "## 1. Words Count : Characters, and Punctuation"
   ]
  },
  {
   "cell_type": "code",
   "execution_count": 5,
   "metadata": {},
   "outputs": [
    {
     "data": {
      "text/plain": [
       "0      6\n",
       "1     26\n",
       "2     30\n",
       "3     10\n",
       "4    218\n",
       "Name: char_count, dtype: int64"
      ]
     },
     "execution_count": 5,
     "metadata": {},
     "output_type": "execute_result"
    }
   ],
   "source": [
    "# Count the char len\n",
    "data['char_count'] = data['mess1'].apply(len) \n",
    "data['char_count'].head()\n",
    "\n",
    "# 0     6  政治防疫 糙\n",
    "# 1    26  3+4及與病毒共存害死那麼多人？死亡人數還不夠多嗎？"
   ]
  },
  {
   "cell_type": "code",
   "execution_count": 6,
   "metadata": {},
   "outputs": [
    {
     "data": {
      "text/plain": [
       "0     2\n",
       "1     1\n",
       "2     3\n",
       "3     1\n",
       "4    12\n",
       "Name: word_count, dtype: int64"
      ]
     },
     "execution_count": 6,
     "metadata": {},
     "output_type": "execute_result"
    }
   ],
   "source": [
    "# Count the Sentence Len\n",
    "data['word_count'] = data['mess1'].apply(lambda x: len(x.split()))\n",
    "data['word_count'].head() # Word Count(段落)\n",
    "\n",
    "# 0     2  政治防疫 糙\n",
    "# 1     1  3+4及與病毒共存害死那麼多人？死亡人數還不夠多嗎？"
   ]
  },
  {
   "cell_type": "code",
   "execution_count": 7,
   "metadata": {},
   "outputs": [
    {
     "data": {
      "text/plain": [
       "0     2.000000\n",
       "1    13.000000\n",
       "2     7.500000\n",
       "3     5.000000\n",
       "4    16.769231\n",
       "Name: word_density, dtype: float64"
      ]
     },
     "execution_count": 7,
     "metadata": {},
     "output_type": "execute_result"
    }
   ],
   "source": [
    "# Calculating the Word Density\n",
    "data['word_density'] = data['char_count'] / (data['word_count']+1)\n",
    "data['word_density'].head()"
   ]
  },
  {
   "cell_type": "code",
   "execution_count": 8,
   "metadata": {},
   "outputs": [
    {
     "data": {
      "text/plain": [
       "0     0\n",
       "1     1\n",
       "2     0\n",
       "3     0\n",
       "4    66\n",
       "Name: punctuation_count, dtype: int64"
      ]
     },
     "execution_count": 8,
     "metadata": {},
     "output_type": "execute_result"
    }
   ],
   "source": [
    "# Calculating the Punctuation Count(, . or and special Punctuation)\n",
    "import string\n",
    "\n",
    "punctuation = string.punctuation\n",
    "data['punctuation_count'] = data['mess1'].apply(\n",
    "    lambda x:len(\"\".join(_ for _ in x if _ in punctuation))) \n",
    "data['punctuation_count'].head()\n",
    "\n",
    "# 0     0  政治防疫 糙\n",
    "# 1     1  3+4及與病毒共存害死那麼多人？死亡人數還不夠多嗎？"
   ]
  },
  {
   "cell_type": "markdown",
   "metadata": {},
   "source": [
    "## 2.Removing Characters\n",
    "\n",
    ">Accented characters are important elements which are used to signify emphasis on a particular word during pronunciation or understanding. In some instances, the accent mark also clarifies the meaning of a word, which might be different without the accent. While their use in English is largely limited but there are very good chances that you will come across accented characters/letters in a free text corpus. \n",
    "\n",
    "重音字符是重要的元素，用於在發音或理解過程中表示對特定單詞的強調。 在某些情況下，重音標記還可以闡明單詞的含義，如果沒有重音，它可能會有所不同。 雖然它們在英語中的使用在很大程度上受到限制，但您很有可能會在自由文本語料庫中遇到重音字符/字母：Word as résumé, café, prótest, divorcé, coördinate, exposé, latté etc"
   ]
  },
  {
   "cell_type": "code",
   "execution_count": 9,
   "metadata": {},
   "outputs": [
    {
     "data": {
      "text/plain": [
       "0                                                     \n",
       "1                                                3+4??\n",
       "2                                                     \n",
       "3                                                     \n",
       "4     {'id': '', 'txt': '', 'url': 'https://www.you...\n",
       "Name: verified_reviews, dtype: object"
      ]
     },
     "execution_count": 9,
     "metadata": {},
     "output_type": "execute_result"
    }
   ],
   "source": [
    "# Removing Accented Characters 刪除重音字符  中文無法完成\n",
    "\n",
    "def remove_accented_chars(text):\n",
    "    new_text = unicodedata.normalize('NFKD', text).encode('ascii', 'ignore').decode('utf-8', 'ignore')\n",
    "    return new_text\n",
    "\n",
    "data['verified_reviews'] = data.apply(lambda x: remove_accented_chars(x['mess1']), axis = 1)\n",
    "data['verified_reviews'].head()"
   ]
  },
  {
   "cell_type": "code",
   "execution_count": 10,
   "metadata": {},
   "outputs": [
    {
     "data": {
      "text/plain": [
       "0                                                     \n",
       "1                           3 4                       \n",
       "2                                                     \n",
       "3                                                     \n",
       "4           id        txt        url    https   www...\n",
       "Name: verified_reviews, dtype: object"
      ]
     },
     "execution_count": 10,
     "metadata": {},
     "output_type": "execute_result"
    }
   ],
   "source": [
    "# Removing Special Characters 刪除特殊字節 (, . )  中文無法完成\n",
    "\n",
    "def remove_special_characters(text):\n",
    "    pat = r'[^a-zA-z0-9]' \n",
    "    return re.sub(pat, ' ', text)\n",
    " \n",
    "data['verified_reviews'] = data.apply(lambda x: remove_special_characters(x['mess1']), axis = 1)\n",
    "data['verified_reviews'].head()"
   ]
  },
  {
   "cell_type": "code",
   "execution_count": 11,
   "metadata": {},
   "outputs": [
    {
     "data": {
      "text/plain": [
       "0                                               政治防疫 糙\n",
       "1                            34及與病毒共存害死那麼多人？死亡人數還不夠多嗎？\n",
       "2                       為什麼報應不在政腐 反而在人民身上 為什麼老百姓要丟性命買單\n",
       "3                                           原來政策也可以殺死人\n",
       "4    皇明祖訓 id  txt  url httpswwwyoutubecomsgamingemo...\n",
       "Name: verified_reviews, dtype: object"
      ]
     },
     "execution_count": 11,
     "metadata": {},
     "output_type": "execute_result"
    }
   ],
   "source": [
    "# remove Punctuations 刪除標點符號 中文（全型）無法完成\n",
    "\n",
    "def punctuation_removal(messy_str):\n",
    "    clean_list = [char for char in messy_str if char not in string.punctuation]\n",
    "    clean_str = ''.join(clean_list)\n",
    "    return clean_str\n",
    "\n",
    "data['verified_reviews'] = data['mess1'].apply(punctuation_removal)\n",
    "data['verified_reviews'].head()"
   ]
  },
  {
   "cell_type": "code",
   "execution_count": 12,
   "metadata": {},
   "outputs": [
    {
     "data": {
      "text/plain": [
       "0                                               政治防疫 糙\n",
       "1                             +及與病毒共存害死那麼多人？死亡人數還不夠多嗎？\n",
       "2                       為什麼報應不在政腐 反而在人民身上 為什麼老百姓要丟性命買單\n",
       "3                                           原來政策也可以殺死人\n",
       "4    皇明祖訓 {'id': '', 'txt': '', 'url': 'https://www...\n",
       "Name: verified_reviews, dtype: object"
      ]
     },
     "execution_count": 12,
     "metadata": {},
     "output_type": "execute_result"
    }
   ],
   "source": [
    "# remove Numbers 刪除數字\n",
    "import re\n",
    "def drop_numbers(list_text):\n",
    "    list_text_new = []\n",
    "    for i in list_text:\n",
    "        if not re.search('\\d', i):\n",
    "            list_text_new.append(i)\n",
    "    return ''.join(list_text_new)\n",
    "\n",
    "data['verified_reviews'] = data['mess1'].apply(drop_numbers)\n",
    "data['verified_reviews'] .head()"
   ]
  },
  {
   "cell_type": "markdown",
   "metadata": {},
   "source": [
    "## 3.Text Polarity (情感分析)\n",
    "\n",
    ">It is the expression that determines the sentimental aspect of an opinion. In textual data, the result of sentiment analysis can be determined for each entity in the sentence, document or sentence. The sentiment polarity can be determined as positive, negative and neutral.\n",
    "\n",
    "它是決定意見的情感方面的表達方式。 在文本數據中，可以針對句子、文檔或句子中的每個實體確定情感分析的結果。 情緒極性可以確定為正面、負面和中性。"
   ]
  },
  {
   "cell_type": "code",
   "execution_count": 13,
   "metadata": {},
   "outputs": [],
   "source": [
    "# !pip install textblob"
   ]
  },
  {
   "cell_type": "code",
   "execution_count": 14,
   "metadata": {},
   "outputs": [
    {
     "data": {
      "text/plain": [
       "0    0.0\n",
       "1    0.0\n",
       "2    0.0\n",
       "3    0.0\n",
       "4    0.0\n",
       "Name: polarity, dtype: float64"
      ]
     },
     "execution_count": 14,
     "metadata": {},
     "output_type": "execute_result"
    }
   ],
   "source": [
    "from textblob import TextBlob\n",
    "\n",
    "def get_polarity(text):\n",
    "    textblob = TextBlob(str(text.encode('utf-8')))\n",
    "    pol = textblob.sentiment.polarity\n",
    "    return pol\n",
    "\n",
    "data['polarity'] = data['mess1'].apply(get_polarity)\n",
    "data['polarity'].head()\n",
    "#情感分析不適用於中文"
   ]
  },
  {
   "cell_type": "markdown",
   "metadata": {},
   "source": [
    "### Text Subjectivity 文本主觀性\n",
    "\n",
    ">In natural language, subjectivity refers to expression of opinions, evaluations, feelings, and speculations and thus incorporates sentiment. Subjective text is further classified with sentiment or polarity.\n",
    "\n",
    "在自然語言中，主觀性是指意見、評價、感受和推測的表達，因此包含了情感。 主觀文本進一步分類為情感或極性。"
   ]
  },
  {
   "cell_type": "code",
   "execution_count": 15,
   "metadata": {},
   "outputs": [
    {
     "data": {
      "text/plain": [
       "0    0.0\n",
       "1    0.0\n",
       "2    0.0\n",
       "3    0.0\n",
       "4    0.0\n",
       "Name: subjectivity, dtype: float64"
      ]
     },
     "execution_count": 15,
     "metadata": {},
     "output_type": "execute_result"
    }
   ],
   "source": [
    "# Lets calculate the Subjectvity of the Reviews\n",
    "def get_subjectivity(text):\n",
    "    textblob = TextBlob(str(text.encode('utf-8')))\n",
    "    subj = textblob.sentiment.subjectivity\n",
    "    return subj\n",
    "\n",
    "data['subjectivity'] = data['mess1'].apply(get_subjectivity)\n",
    "data['subjectivity'].head()\n",
    "#情感分析不適用於中文"
   ]
  },
  {
   "cell_type": "markdown",
   "metadata": {},
   "source": [
    "### Summarize"
   ]
  },
  {
   "cell_type": "code",
   "execution_count": 16,
   "metadata": {},
   "outputs": [],
   "source": [
    "from textblob import TextBlob\n",
    "import seaborn as sns\n",
    "import matplotlib.pyplot as plt"
   ]
  },
  {
   "cell_type": "code",
   "execution_count": 17,
   "metadata": {},
   "outputs": [
    {
     "data": {
      "text/html": [
       "<div>\n",
       "<style scoped>\n",
       "    .dataframe tbody tr th:only-of-type {\n",
       "        vertical-align: middle;\n",
       "    }\n",
       "\n",
       "    .dataframe tbody tr th {\n",
       "        vertical-align: top;\n",
       "    }\n",
       "\n",
       "    .dataframe thead th {\n",
       "        text-align: right;\n",
       "    }\n",
       "</style>\n",
       "<table border=\"1\" class=\"dataframe\">\n",
       "  <thead>\n",
       "    <tr style=\"text-align: right;\">\n",
       "      <th></th>\n",
       "      <th>polarity</th>\n",
       "      <th>subjectivity</th>\n",
       "    </tr>\n",
       "  </thead>\n",
       "  <tbody>\n",
       "    <tr>\n",
       "      <th>count</th>\n",
       "      <td>2085.000000</td>\n",
       "      <td>2085.000000</td>\n",
       "    </tr>\n",
       "    <tr>\n",
       "      <th>mean</th>\n",
       "      <td>-0.000480</td>\n",
       "      <td>0.001918</td>\n",
       "    </tr>\n",
       "    <tr>\n",
       "      <th>std</th>\n",
       "      <td>0.010942</td>\n",
       "      <td>0.043769</td>\n",
       "    </tr>\n",
       "    <tr>\n",
       "      <th>min</th>\n",
       "      <td>-0.250000</td>\n",
       "      <td>0.000000</td>\n",
       "    </tr>\n",
       "    <tr>\n",
       "      <th>25%</th>\n",
       "      <td>0.000000</td>\n",
       "      <td>0.000000</td>\n",
       "    </tr>\n",
       "    <tr>\n",
       "      <th>50%</th>\n",
       "      <td>0.000000</td>\n",
       "      <td>0.000000</td>\n",
       "    </tr>\n",
       "    <tr>\n",
       "      <th>75%</th>\n",
       "      <td>0.000000</td>\n",
       "      <td>0.000000</td>\n",
       "    </tr>\n",
       "    <tr>\n",
       "      <th>max</th>\n",
       "      <td>0.000000</td>\n",
       "      <td>1.000000</td>\n",
       "    </tr>\n",
       "  </tbody>\n",
       "</table>\n",
       "</div>"
      ],
      "text/plain": [
       "          polarity  subjectivity\n",
       "count  2085.000000   2085.000000\n",
       "mean     -0.000480      0.001918\n",
       "std       0.010942      0.043769\n",
       "min      -0.250000      0.000000\n",
       "25%       0.000000      0.000000\n",
       "50%       0.000000      0.000000\n",
       "75%       0.000000      0.000000\n",
       "max       0.000000      1.000000"
      ]
     },
     "execution_count": 17,
     "metadata": {},
     "output_type": "execute_result"
    }
   ],
   "source": [
    "data[['polarity','subjectivity']].describe()"
   ]
  },
  {
   "cell_type": "code",
   "execution_count": 18,
   "metadata": {},
   "outputs": [],
   "source": [
    "# ## Visualizing Polarity and Subjectivity\n",
    "\n",
    "# plt.subplot(1, 2, 1)\n",
    "# sns.distplot(data['polarity'])\n",
    "\n",
    "# plt.subplot(1, 2, 2)\n",
    "# sns.distplot(data['subjectivity'])\n",
    "\n",
    "# plt.suptitle('Distribution of Polarity and Subjectivity')\n",
    "# plt.show()"
   ]
  },
  {
   "cell_type": "code",
   "execution_count": null,
   "metadata": {},
   "outputs": [],
   "source": []
  },
  {
   "cell_type": "markdown",
   "metadata": {},
   "source": [
    "## NLP"
   ]
  },
  {
   "cell_type": "code",
   "execution_count": 19,
   "metadata": {},
   "outputs": [
    {
     "name": "stdout",
     "output_type": "stream",
     "text": [
      "Requirement already satisfied: jieba in /Users/jerrychien/opt/anaconda3/lib/python3.9/site-packages (0.42.1)\r\n"
     ]
    }
   ],
   "source": [
    "!pip install jieba "
   ]
  },
  {
   "cell_type": "code",
   "execution_count": 20,
   "metadata": {},
   "outputs": [
    {
     "name": "stdout",
     "output_type": "stream",
     "text": [
      "['政治防疫 糙', '3+4及與病毒共存害死那麼多人？死亡人數還不夠多嗎？', '為什麼報應不在政腐 反而在人民身上 為什麼老百姓要丟性命買單', '原來政策也可以殺死人', \"皇明祖訓 {'id': '', 'txt': '', 'url': 'https://www.youtube.com/s/gaming/emoji/0f0cae22/emoji_u1f448_1f3fb.svg'}{'id': '', 'txt': ':unamused_face:', 'url': 'https://www.youtube.com/s/gaming/emoji/0f0cae22/emoji_u1f612.svg'}\", 'EE到LSE. 攻讀. 沒出系', '3+4及與病毒共存害死那麼多人？死亡人數還不夠多嗎？', '817你确定真是是817？会不是就是17+800。这个谁又能知道呢。', \"KC：不用上班是嗎？{'id': '', 'txt': ':face_with_hand_over_mouth:', 'url': 'https://www.youtube.com/s/gaming/emoji/0f0cae22/emoji_u1f92d.svg'}{'id': '', 'txt': ':face_with_hand_over_mouth:', 'url': 'https://www.youtube.com/s/gaming/emoji/0f0cae22/emoji_u1f92d.svg'}{'id': '', 'txt': ':face_with_hand_over_mouth:', 'url': 'https://www.youtube.com/s/gaming/emoji/0f0cae22/emoji_u1f92d.svg'}{'id': '', 'txt': ':face_with_hand_over_mouth:', 'url': 'https://www.youtube.com/s/gaming/emoji/0f0cae22/emoji_u1f92d.svg'}{'id': '', 'txt': ':face_with_hand_over_mouth:', 'url': 'https://www.youtube.com/s/gaming/emoji/0f0cae22/emoji_u1f92d.svg'}{'id': '', 'txt': ':face_with_hand_over_mouth:', 'url': 'https://www.youtube.com/s/gaming/emoji/0f0cae22/emoji_u1f92d.svg'}{'id': '', 'txt': ':face_with_hand_over_mouth:', 'url': 'https://www.youtube.com/s/gaming/emoji/0f0cae22/emoji_u1f92d.svg'}{'id': '', 'txt': ':face_with_hand_over_mouth:', 'url': 'https://www.youtube.com/s/gaming/emoji/0f0cae22/emoji_u1f92d.svg'}\", '双北不會執政.無能下台.換DPP執政', \"وين صالح وعندك اعلام روتانا خليجيه{'id': '', 'txt': ':slightly_smiling_face:', 'url': 'https://www.youtube.com/s/gaming/emoji/0f0cae22/emoji_u1f642.svg'}\", '作假科 作票科', '作假科 作票科', '樂商接洽中.. 別吵.. 在商量怎麼a.. 最合適.. 目前不給對藥', '大媽，世華是', '德式猶太「防疫」？！', \" 啓聖哥 {'id': '', 'txt': '', 'url': 'https://www.youtube.com/s/gaming/emoji/0f0cae22/emoji_u1f44d_1f3fb.svg'}{'id': '', 'txt': '', 'url': 'https://www.youtube.com/s/gaming/emoji/0f0cae22/emoji_u1f44d_1f3fb.svg'}{'id': '', 'txt': '', 'url': 'https://www.youtube.com/s/gaming/emoji/0f0cae22/emoji_u1f44d_1f3fb.svg'}\", \"打趴台上空病毒無人機{'id': '', 'txt': ':rocket:', 'url': 'https://www.youtube.com/s/gaming/emoji/0f0cae22/emoji_u1f680.svg'}\", \"台湾假新闻不是很正常，有必要生气嘛。 天天看{'id': '', 'txt': ':eyes:', 'url': 'https://www.youtube.com/s/gaming/emoji/0f0cae22/emoji_u1f440.svg'}多了就习惯了。\", '時事豪笑員⋯我換季都會…失眠', '作假科 作票科', '克拉克陳 下台。', '作假科 作票科', '篩檢都不敢大量篩，去哪裏都沒用，不誠實隱匿疫情換來了今天的病毒大爆發世界第一', '不是要走向进一步开放吗？', '千金藤擴大中國貿易順差！！', '台灣第一 死神電影續集 正在開拍~~', '死亡丧钟', '作假科 作票科', '3+4及與病毒共存害死那麼多人？死亡人數還不夠多嗎？', '克拉克陳 下台。', 'kc 被下醒又來被當笑話惹了？', '作假科 作票科', '作假科 作票科', '克拉克陳 下台。', '對賈博士不要要求太高，玩玩元宇中，逗逗貓狗就是她的生活日常⋯⋯', '良心被狗咬', '克拉克陳 下台。', 'EE只會玩元宇宙', '克拉克陳 下台。', '樂商接洽中.. 別吵.. 在商量怎麼a.. 最合適.. 目前不給對藥', '中央官員怎麼可以這麼狠？3+4及與病毒共存害死那麼多人？死亡人數還不夠多嗎？', '良心被狗咬', '早不做方舱，现在做哪来得及，而且凭现在台湾的统筹能力，帐篷方舱还有点可能', 'kkkccc 午ㄤ', '就这业绩，陈时中还好意思凭这\"政绩\"选台北市长吗{\\'id\\': \\'\\', \\'txt\\': \\':zany_face:\\', \\'url\\': \\'https://www.youtube.com/s/gaming/emoji/0f0cae22/emoji_u1f92a.svg\\'}', '篩檢都不敢大量篩，去哪裏都沒用，不誠實隱匿疫情換來了今天的病毒大爆發世界第一', '作假科 作票科', \"偽 中国人 時中{'id': '', 'txt': ':waving_hand:', 'url': 'https://www.youtube.com/s/gaming/emoji/0f0cae22/emoji_u1f44b.svg'}\", '就說了蛋定點 沒有死五百萬 都不叫事', '作假科 作票科', '现在报应来了吧', '台湾人自己污蔑造谣说方舱医院是集中营', '排隊有被感染風險 民眾還是要小心 保護自己', '作假科 作票科', '不是精神科就是海棉腦科', \"千金藤！中國獨有的中醫藥。{'id': '', 'txt': ':smiling_face_with_sunglasses:', 'url': 'https://www.youtube.com/s/gaming/emoji/0f0cae22/emoji_u1f60e.svg'}美國你要花多少錢買？\", '蔡總統應該恨死賴清德了 ，陳時中無 能到讓台灣死傷慘重 ，也不廢爛 鐘 ，換前醫生賴清德管管 ？', \"وين صالح وعندك اعلام روتانا خليجيه{'id': '', 'txt': ':slightly_smiling_face:', 'url': 'https://www.youtube.com/s/gaming/emoji/0f0cae22/emoji_u1f642.svg'}\", '作假科 作票科', '篩檢都不敢大量篩，去哪裏都沒用，不誠實隱匿疫情換來了今天的病毒大爆發世界第一', '樂商接洽中.. 別吵.. 在商量怎麼a.. 最合適.. 目前不給對藥', '防疫棄守，政策殺人', '作假科 作票科', ' 都共存了,为什么还要筛 都共存了,为什么还要筛 都共存了,为什么还要筛', 'kc哈哈睡不着要看一下新闻啊', '好棒棒', '林婉兒⋯最近忙什麼', '殯葬業最清楚,41死', '應該是花柳科', '現在確診都在家，家人一定全中', '作假科 作票科', '3+4及與病毒共存害死那麼多人？死亡人數還不夠多嗎？', '禽獸科', '作假科 作票科', \"各位大家聊～～晚點再來看恁們喔！{'id': '↕', 'txt': ':up_down_arrow:', 'url': 'https://www.youtube.com/s/gaming/emoji/0f0cae22/emoji_u2195.svg'}啦啦啦啦啦啦啦～逝去的感情如何留住、半點痴情遺留殊不易？！{'id': '', 'txt': ':musical_notes:', 'url': 'https://www.youtube.com/s/gaming/emoji/0f0cae22/emoji_u1f3b6.svg'}{'id': '', 'txt': ':musical_score:', 'url': 'https://www.youtube.com/s/gaming/emoji/0f0cae22/emoji_u1f3bc.svg'}{'id': '', 'txt': ':musical_keyboard:', 'url': 'https://www.youtube.com/s/gaming/emoji/0f0cae22/emoji_u1f3b9.svg'}{'id': '', 'txt': ':clown_face:', 'url': 'https://www.youtube.com/s/gaming/emoji/0f0cae22/emoji_u1f921.svg'}{'id': '', 'txt': ':grinning_squinting_face:', 'url': 'https://www.youtube.com/s/gaming/emoji/0f0cae22/emoji_u1f606.svg'}{'id': '↕', 'txt': ':up_down_arrow:', 'url': 'https://www.youtube.com/s/gaming/emoji/0f0cae22/emoji_u2195.svg'}{'id': '', 'txt': ':eyes:', 'url': 'https://www.youtube.com/s/gaming/emoji/0f0cae22/emoji_u1f440.svg'}{'id': '', 'txt': ':smiling_face_with_sunglasses:', 'url': 'https://www.youtube.com/s/gaming/emoji/0f0cae22/emoji_u1f60e.svg'}；{'id': '8gF1Xp_zK8jk8gSDrI2wCw', 'txt': ':elbowcough:', 'url': 'https://yt3.ggpht.com/kWObU3wBMdHS43q6-ib2KJ-iC5tWqe7QcEITaNApbXEZfrik9E57_ve_BEPHO86z4Xrv8ikMdW0=w24-h24-c-k-nd'}{'id': '8gF1Xp_zK8jk8gSDrI2wCw', 'txt': ':elbowcough:', 'url': 'https://yt3.ggpht.com/kWObU3wBMdHS43q6-ib2KJ-iC5tWqe7QcEITaNApbXEZfrik9E57_ve_BEPHO86z4Xrv8ikMdW0=w24-h24-c-k-nd'}\", '作假科 作票科', \"全省都有黑數{'id': '', 'txt': ':smirking_face:', 'url': 'https://www.youtube.com/s/gaming/emoji/0f0cae22/emoji_u1f60f.svg'}\", '作假科 作票科', '應該是花柳科', \"人命不重要,A錢才重要,有錢選舉怎選都贏,看台北萬華人承認是疫情破口選林昶佐..民進黨就自信滿滿了.誰來選都上.{'id': '', 'txt': ':unamused_face:', 'url': 'https://www.youtube.com/s/gaming/emoji/0f0cae22/emoji_u1f612.svg'}{'id': '', 'txt': ':unamused_face:', 'url': 'https://www.youtube.com/s/gaming/emoji/0f0cae22/emoji_u1f612.svg'}\", '防疫棄守，政策殺人', '都共存了,为什么还要筛', '應該是花柳科', '你们就是现在做方舱医院也根本来不及了', '還說都輕症感冒?64972暴增41人死亡217例中重症.說輕症的這些人真該下地獄', '41死了，3+4及與病毒共存害死那麼多人？死亡人數還不夠多嗎？', 'kc, 突然被嚇醒 別又被嚇到惹喔', '能說到民進黨民調掉一半，我就相信你們的評論', '黒韓 何人？', '篩檢都不敢大量篩，去哪裏都沒用，不誠實隱匿疫情換來了今天的大爆發', '台湾县市都不能统一防疫政策？', '應該是花柳科', '大家一起去总统府门口唱谢谢你吧？怎么样，看看类博士会不会脸红，或者说，不用谢，这是我应该做的。哈哈', '防疫棄守，政策殺人', '这下报应来了吧', '3+4及與病毒共存害死那麼多人？死亡人數還不夠多嗎？', '喔喔，業者，加', \"وين صالح وعندك اعلام روتانا خليجيه{'id': '', 'txt': ':slightly_smiling_face:', 'url': 'https://www.youtube.com/s/gaming/emoji/0f0cae22/emoji_u1f642.svg'}\", '防疫棄守，政策殺人', '3+4及與病毒共存害死那麼多人？死亡人數還不夠多嗎？', '應該是花柳科', '類博士科', '林婉兒⋯又被你捉到', '怕陳時中防疫好.選台北市長', '應該是花柳科', '總統是眼科', '就是因为意识形态仇恨所以台湾坚持不做方舱医院', '高雄根本沒在篩', '@KC 恩恩', '篩檢都不敢大量篩，去哪裏都沒用，不誠實換來了今天的大爆發', '神經錯亂科', '作假科', '1.5科', '1.5個博士科', '高雄根本沒在篩', '高雄根本沒在篩', \"蔡ET {'id': '', 'txt': ':grinning_face_with_sweat:', 'url': 'https://www.youtube.com/s/gaming/emoji/0f0cae22/emoji_u1f605.svg'}\", '動物科', '別...稱讚他拉~\"~', '類博士科', '蔡EE', '蔡依依 ', '呷博士的領導真棒、不用防疫了、請把墓園準備好。', '台湾媒体一直污蔑造谣大陆方舱医院是集中营，你们难道不清楚吗？', '南部 不夠多 快把愛 傳到 高雄台南~ 南部人死一死都綠綠', '大家一起去总统府门口唱谢谢你吧？怎么样', '高雄根本沒在篩', '篩檢都不敢大量篩，去哪裏都沒用，不誠實換來了今天的大爆發', '有藥也不給，真過份，還跟人説顧人權？哪來的人權？', 'EE', '陳時中下台', '陳怡曉⋯突然醒來⋯喝水', '能說到民進黨民調掉一半，我就相信你們的評論', '順帶說一下,中南部,縣區,原縣區,要送醫,更難~~', '台灣暖男陳其邁', '高雄根本沒在篩', '台北醫療最好，會最快達成群體免疫，中南部之後會比台北慘', '年底別忘了~別再選民進黨', '篩檢都不敢大量篩，去哪裏都沒用，不誠實換來了今天的大爆發', '防疫放手，有家人因此而死的，政策殺人，不共戴天之仇', 'kc不睡觉啊', '南部快跟上來!!', '@KC 晚上好~下午好 ', '防疫永遠慢半拍', '気狂難民 去', '高譚市醫療也差不多了！笑死', '高雄根本沒在篩', '陳時中日前預告，七月新冠肺炎將由第五類法定傳染病降為第四類，屆時不再公佈確診人數，被嗆「不演了」、「蓋牌顧選票」', '谢谢你，因为有你，台湾才美丽。', '拿捏', \"哎呀～～我{'id': '', 'txt': ':red_heart:', 'url': 'https://www.youtube.com/s/gaming/emoji/0f0cae22/emoji_u2764.svg'}林軍XN{'id': '↕', 'txt': ':up_down_arrow:', 'url': 'https://www.youtube.com/s/gaming/emoji/0f0cae22/emoji_u2195.svg'}啦啦啦啦啦啦啦～逝去的感情如何留住、半點痴情遺留殊不易？！{'id': '', 'txt': ':musical_notes:', 'url': 'https://www.youtube.com/s/gaming/emoji/0f0cae22/emoji_u1f3b6.svg'}{'id': '', 'txt': ':musical_score:', 'url': 'https://www.youtube.com/s/gaming/emoji/0f0cae22/emoji_u1f3bc.svg'}{'id': '', 'txt': ':musical_keyboard:', 'url': 'https://www.youtube.com/s/gaming/emoji/0f0cae22/emoji_u1f3b9.svg'}{'id': '', 'txt': ':clown_face:', 'url': 'https://www.youtube.com/s/gaming/emoji/0f0cae22/emoji_u1f921.svg'}{'id': '', 'txt': ':grinning_squinting_face:', 'url': 'https://www.youtube.com/s/gaming/emoji/0f0cae22/emoji_u1f606.svg'}{'id': '↕', 'txt': ':up_down_arrow:', 'url': 'https://www.youtube.com/s/gaming/emoji/0f0cae22/emoji_u2195.svg'}{'id': '', 'txt': ':eyes:', 'url': 'https://www.youtube.com/s/gaming/emoji/0f0cae22/emoji_u1f440.svg'}{'id': '', 'txt': ':smiling_face_with_sunglasses:', 'url': 'https://www.youtube.com/s/gaming/emoji/0f0cae22/emoji_u1f60e.svg'}；\", \"阿中下班啦！{'id': '', 'txt': ':beaming_face_with_smiling_eyes:', 'url': 'https://www.youtube.com/s/gaming/emoji/0f0cae22/emoji_u1f601.svg'}\", '@KC .....', '台灣暖男陳其邁', '南部 不夠多 快把愛 傳到 高雄台南~ 南部人死一死 都綠綠', '部长，部长，我爱你！搞死台湾就靠你！', '簡化.簡化牠個雞拔毛.化驗要時間.不可能10分鐘變成1分鐘', 'Nako chen…。平安健康', '台灣暖男陳其邁', '重症縣市優先蓋方艙 收治重者.投藥.治療 能節省醫護人力嗎 能緩解醫院擁塞嗎', '部长，部长，我爱你！搞死台湾就靠你！', '1450明白了吧，只有主权国家才能有这个加入WHA', '塔綠班加油，不要加鹽喔！蓋牌一條龍', '老沈回来没有啊！！！', '篩檢都不敢大量篩，去哪裏都沒用', '部长，部长，我爱你！搞死台湾就靠你！', '馬斯克一定是中標了 買下twitter', '老英用講的沒用，要開方倉醫院收治。', 'KMT王小姐把藥當保養品', '@KC @@你還沒睡??', '衛福部一定大力支持高雄', '绿毛当政还不如来大陆避难。', '41條冤魂去找對人啊⋯⋯你晚上睡得好嗎？？', '就算餓死都要選民進黨，這才是台灣人', '部长，部长，我爱你！搞死台湾就靠你！', '能說到民進黨民調掉一半，我就相信你們的評論', '中南部大傳播就好笑了', '篩檢都不敢大量篩，去哪裏都沒用', '部长，部长，我爱你！搞死台湾就靠你！', '卵難雞邁 公未專家', '只有主权国家才能有这个加入WHA', '台灣神童柯文哲', '部长，部长，我爱你！搞死台湾就靠你！', '只有主权国家才能有这个加入WHA', '篩檢都不敢大量篩，去哪裏都沒用', '台灣神童柯文哲', '抬得忘記', '部长，部长，我爱你！搞死台湾就靠你！', \"時鐘說法要2000萬人確診才會群體免疫是吧{'id': '1v50XorRJ8GQ8gTz_prwAg', 'txt': ':stayhome:', 'url': 'https://yt3.ggpht.com/u3QDxda8o4jrk_b01YtJYKb57l8Zw8ks8mCwGkiZ5hC5cQP_iszbsggxIWquZhuLRBzl5IEM2w=w24-h24-c-k-nd'}{'id': '1v50XorRJ8GQ8gTz_prwAg', 'txt': ':stayhome:', 'url': 'https://yt3.ggpht.com/u3QDxda8o4jrk_b01YtJYKb57l8Zw8ks8mCwGkiZ5hC5cQP_iszbsggxIWquZhuLRBzl5IEM2w=w24-h24-c-k-nd'}{'id': '1v50XorRJ8GQ8gTz_prwAg', 'txt': ':stayhome:', 'url': 'https://yt3.ggpht.com/u3QDxda8o4jrk_b01YtJYKb57l8Zw8ks8mCwGkiZ5hC5cQP_iszbsggxIWquZhuLRBzl5IEM2w=w24-h24-c-k-nd'}\", '陳怡曉⋯下午好', '有藥也不給，真過份，還跟人説顧人權？哪來的人權？', '部长，部长，我爱你！搞死台湾就靠你！', '樂商接洽中.. 別吵.. 在商量怎麼a.. 最合適', '8E7畢竟都是死忠的要怪誰', '作票..假總統~趕快下台吧~', \"繼續投民進黨{'id': '8gF1Xp_zK8jk8gSDrI2wCw', 'txt': ':elbowcough:', 'url': 'https://yt3.ggpht.com/kWObU3wBMdHS43q6-ib2KJ-iC5tWqe7QcEITaNApbXEZfrik9E57_ve_BEPHO86z4Xrv8ikMdW0=w24-h24-c-k-nd'}\", '能說到民進黨民調掉一半，我就相信你們的評論', '台灣人口確診率2.71％', '民進黨把救命藥吐出來，有夠囂張跋扈的啦', '不要說任何人士“老” 除了講塔緑處', \"如果今天是中国国民党统治台湾，那台湾的国际化道路前途无量！碰到台湾民进党，{'id': '', 'txt': ':rolling_on_the_floor_laughing:', 'url': 'https://www.youtube.com/s/gaming/emoji/0f0cae22/emoji_u1f923.svg'}{'id': '', 'txt': ':rolling_on_the_floor_laughing:', 'url': 'https://www.youtube.com/s/gaming/emoji/0f0cae22/emoji_u1f923.svg'}整你还来不及，还想冒出国际\", '41死？很多嗎？要像民進黨繼續這樣搞下去，一日百人、千人死指日可待', '只有主权国家才能有这个加入WHA', '菜:Wha比较重要拉', '增加检测点，医护够吗？', '蓋牌了要，快沒機會罵了', '為何不給剛確診病人藥呢？等藥等到死於家中！', '德式猶太「防疫」？！', '蔡EE在元宇宙', '蓋牌王', '年底別忘了再選民進黨喔！', '別吵她，她跟小慧在玩奶油犬&雙頭龍', '一開始就應該簡化啊', '今天死了多少', '民進黨把救命藥吐出來，有夠囂張跋扈的啦', '變相殺人', '皇明祖訓 的 朱滅亡是', '樂商接洽中.. 別吵.. 在商量怎麼a.. 最合適', '能說到民進黨民調掉一半，我就相信你們的評論', '演哪齣，這個慢郎中，是你堅持不換掉了', '蔡依依也會抖?', 'WHA是要数据的，台湾再等等都盖牌了，还扯什么WHA呢！！！', \"{'id': '', 'txt': ':rocket:', 'url': 'https://www.youtube.com/s/gaming/emoji/0f0cae22/emoji_u1f680.svg'}為何不儘快釋出所有救命藥，到底要保留給誰用，根本是草菅人命！敢公佈這五年來台灣各月死亡人數嗎？\", '打电话的时候一定要和接线员说自己是817，才会有药发', '有藥不給 ! 快速投藥，哪來會這麼多人有中重症? 有些人輕症很快轉變成重症，綠媒還在辯稱不要亂吃藥', '視訊看診 你能知道 病人的心跳 心臟 肺部呼吸 情形 ? 你能知道 淋巴腺狀況 ? 唬爛誰 ?', '啟聖好樣的', '死好死滿明天會再創新高 誰會在死亡名單內 讚喔!!!', '看看明天还有多少人，嘴上喊着我有投票，我民主的，明天还能不能投票', '時事唬爛員', '大陆外交部已经发话了，不可能让台湾加入WHA', '已經很明顯了', \"剛去三粒蠻有趣的，哈哈哈{'id': '1v50XorRJ8GQ8gTz_prwAg', 'txt': ':stayhome:', 'url': 'https://yt3.ggpht.com/u3QDxda8o4jrk_b01YtJYKb57l8Zw8ks8mCwGkiZ5hC5cQP_iszbsggxIWquZhuLRBzl5IEM2w=w24-h24-c-k-nd'}\", '能說到民進黨民調掉一半，我就相信你們的評論', '曬狗吧~~~~~', '疫情面前不分轻中重，只有积极参与防疫治疗', '殯葬業缺工', '綠共追隨美日 對他們來說死點人微不足道 ', '看看明天还有多少人，嘴上喊着我有投票，我民主的，明天还能不能投票', \"三声万歳{'id': '', 'txt': ':raising_hands:', 'url': 'https://www.youtube.com/s/gaming/emoji/0f0cae22/emoji_u1f64c.svg'}\\u3000\\u3000断気{'id': '', 'txt': ':zany_face:', 'url': 'https://www.youtube.com/s/gaming/emoji/0f0cae22/emoji_u1f92a.svg'}\", '，喔，，轉身', \"華視 你可以再鬧一點！ {'id': '', 'txt': ':grinning_squinting_face:', 'url': 'https://www.youtube.com/s/gaming/emoji/0f0cae22/emoji_u1f606.svg'}{'id': '', 'txt': ':grinning_squinting_face:', 'url': 'https://www.youtube.com/s/gaming/emoji/0f0cae22/emoji_u1f606.svg'}{'id': '', 'txt': ':grinning_squinting_face:', 'url': 'https://www.youtube.com/s/gaming/emoji/0f0cae22/emoji_u1f606.svg'}爛透了{'id': '', 'txt': ':smirking_face:', 'url': 'https://www.youtube.com/s/gaming/emoji/0f0cae22/emoji_u1f60f.svg'}\", '台灣預計還會產出多少綠色殷實商人', '不要臉的政腐', \"{'id': '', 'txt': ':rocket:', 'url': 'https://www.youtube.com/s/gaming/emoji/0f0cae22/emoji_u1f680.svg'}為何不儘快釋出所有救命藥，到底要保留給誰用，根本是草菅人命！敢公佈這五年來台灣各月死亡人數嗎？\", \"{'id': '', 'txt': ':smiling_face_with_smiling_eyes:', 'url': 'https://www.youtube.com/s/gaming/emoji/0f0cae22/emoji_u1f60a.svg'}\", '一定要投，不投就没有民主自由了。', '呵呵呵呵 小亮哥', '原來美2個vice presidents 一女亞裔 一男訝異！！！', '啟聖哥 老好多', '干連戰啥事', '德式猶太「防疫」？！', '能說到民進黨民調掉一半，我就相信你們的評論', '大陆不同意，不要妄想WHA', \"{'id': '', 'txt': ':rolling_on_the_floor_laughing:', 'url': 'https://www.youtube.com/s/gaming/emoji/0f0cae22/emoji_u1f923.svg'}{'id': '', 'txt': ':rolling_on_the_floor_laughing:', 'url': 'https://www.youtube.com/s/gaming/emoji/0f0cae22/emoji_u1f923.svg'}\", '時中神：自由市場、民主機制懂？不懂就去多念書。感冒沒吃抗生素政府要不要賠？腦瓜子不清不楚！', '殯葬業大缺人', '快速投藥，哪來會這麼多人有中重症? 有些人輕症很快轉變成重症，綠媒還在辯稱不要亂吃藥', '能說到民進黨民調掉一半，我就相信你們的評論', '還有郝杯杯', '超級不要臉', '華視是什麼東西', '蔡英文執政全台灣大亂套', \"就這樣被林軍征服～就是這樣也很舒服{'id': '↕', 'txt': ':up_down_arrow:', 'url': 'https://www.youtube.com/s/gaming/emoji/0f0cae22/emoji_u2195.svg'}啦啦啦啦啦啦啦～逝去的感情如何留住、半點痴情遺留殊不易？！{'id': '', 'txt': ':musical_notes:', 'url': 'https://www.youtube.com/s/gaming/emoji/0f0cae22/emoji_u1f3b6.svg'}{'id': '', 'txt': ':musical_score:', 'url': 'https://www.youtube.com/s/gaming/emoji/0f0cae22/emoji_u1f3bc.svg'}{'id': '', 'txt': ':musical_keyboard:', 'url': 'https://www.youtube.com/s/gaming/emoji/0f0cae22/emoji_u1f3b9.svg'}{'id': '', 'txt': ':clown_face:', 'url': 'https://www.youtube.com/s/gaming/emoji/0f0cae22/emoji_u1f921.svg'}{'id': '', 'txt': ':grinning_squinting_face:', 'url': 'https://www.youtube.com/s/gaming/emoji/0f0cae22/emoji_u1f606.svg'}{'id': '↕', 'txt': ':up_down_arrow:', 'url': 'https://www.youtube.com/s/gaming/emoji/0f0cae22/emoji_u2195.svg'}{'id': '', 'txt': ':eyes:', 'url': 'https://www.youtube.com/s/gaming/emoji/0f0cae22/emoji_u1f440.svg'}{'id': '', 'txt': ':smiling_face_with_sunglasses:', 'url': 'https://www.youtube.com/s/gaming/emoji/0f0cae22/emoji_u1f60e.svg'}；\", '1450這兩天都閉嘴了，希望不要死到你家人⋯⋯⋯', '陈时中说吃抗生素！！！', \"三民自又粉飾太平{'id': '', 'txt': ':backhand_index_pointing_right:', 'url': 'https://www.youtube.com/s/gaming/emoji/0f0cae22/emoji_u1f449.svg'}半數死亡沒打疫苗{'id': '', 'txt': ':backhand_index_pointing_right:', 'url': 'https://www.youtube.com/s/gaming/emoji/0f0cae22/emoji_u1f449.svg'}半數打了也沒救活呀，腦呢？{'id': '', 'txt': ':face_with_hand_over_mouth:', 'url': 'https://www.youtube.com/s/gaming/emoji/0f0cae22/emoji_u1f92d.svg'}{'id': '', 'txt': ':face_with_hand_over_mouth:', 'url': 'https://www.youtube.com/s/gaming/emoji/0f0cae22/emoji_u1f92d.svg'}\", '2年前死一個掉眼淚，現在死41變成報數字，差很多', '現在只能發表 染疫的經驗', '美國就把反對臺獨跟一中修改，台灣人就高潮了。不需要實際行爲啦', '继续看戏', \"EE還在元宇宙，817卻陳屍家中，可憐吶。{'id': '', 'txt': ':folded_hands:', 'url': 'https://www.youtube.com/s/gaming/emoji/0f0cae22/emoji_u1f64f.svg'}{'id': '', 'txt': ':folded_hands:', 'url': 'https://www.youtube.com/s/gaming/emoji/0f0cae22/emoji_u1f64f.svg'}{'id': '', 'txt': ':folded_hands:', 'url': 'https://www.youtube.com/s/gaming/emoji/0f0cae22/emoji_u1f64f.svg'}\", '德式猶太「防疫」？！', \"{'id': '', 'txt': ':rocket:', 'url': 'https://www.youtube.com/s/gaming/emoji/0f0cae22/emoji_u1f680.svg'}為何不儘快釋出所有救命藥，到底要保留給誰用，根本是草菅人命！敢公佈這五年來台灣各月死亡人數嗎？\", '海边活化吧，印度在河边火化', '快去投資納骨塔', '轻症感冒，说轻症感冒，喊共存的人你要是戴着口罩说的，你就是骗子。', '美國副總統……', '誰管你誰選 ', '與樂商接洽....如何抄錢布署.. 怎麼a', '能說到民進黨民調掉一半，我就相信你們的評論', '世界只有一个中国，台湾参加啥WHA', '美国向200万死前进', '估計這千金藤能為中國利稅上千億，甚至萬億。', '台灣再度世界第一 如何沒底氣了？', '台灣有知識的人都去中國了啦！ 剩下鄉巴佬 讓綠政玩', '是洩了氣的牛蛙', '快速投藥，哪來會這麼多人有中重症? 有些人輕症很快轉變成重症，綠媒還在三立辯稱不要亂吃藥', '世界之光', '火化场量能充足！考虑用来发电？', \"好像阿虎{'id': '', 'txt': ':grinning_face_with_smiling_eyes:', 'url': 'https://www.youtube.com/s/gaming/emoji/0f0cae22/emoji_u1f604.svg'}\", \"{'id': '', 'txt': ':rocket:', 'url': 'https://www.youtube.com/s/gaming/emoji/0f0cae22/emoji_u1f680.svg'}為何不儘快釋出所有救命藥，到底要保留給誰用，根本是草菅人命！敢公佈這五年來台灣各月死亡人數嗎？\", '法案有個毛用,又不是美國一國就能成立= =', '火化场量能充足！考虑用来发电？', '美國先跟我們軍事同盟再說 不然都是屁屁屁', '上海这次死了500，你们不会低于这个数', \"817清除計劃？懂的都懂{'id': '', 'txt': ':face_with_hand_over_mouth:', 'url': 'https://www.youtube.com/s/gaming/emoji/0f0cae22/emoji_u1f92d.svg'}{'id': '', 'txt': ':backhand_index_pointing_right:', 'url': 'https://www.youtube.com/s/gaming/emoji/0f0cae22/emoji_u1f449.svg'}{'id': '', 'txt': ':dog2:', 'url': 'https://www.youtube.com/s/gaming/emoji/0f0cae22/emoji_u1f415.svg'}\", '中國要加大千金藤的量', '说说817死了几个了！！！', '輪也輪不到台灣 別傻了 就算有也輪不到你阿', \"{'id': '', 'txt': ':rocket:', 'url': 'https://www.youtube.com/s/gaming/emoji/0f0cae22/emoji_u1f680.svg'}為何不儘快釋出所有救命藥，到底要保留給誰用，根本是草菅人命！敢公佈這五年來台灣各月死亡人數嗎？\", \"{'id': '', 'txt': ':rolling_on_the_floor_laughing:', 'url': 'https://www.youtube.com/s/gaming/emoji/0f0cae22/emoji_u1f923.svg'}{'id': '', 'txt': ':rolling_on_the_floor_laughing:', 'url': 'https://www.youtube.com/s/gaming/emoji/0f0cae22/emoji_u1f923.svg'}{'id': '', 'txt': ':rolling_on_the_floor_laughing:', 'url': 'https://www.youtube.com/s/gaming/emoji/0f0cae22/emoji_u1f923.svg'}要加入WHA是需要我们大陆同意哦，可不是美国人！美国人可决定不了两岸命运\", '喔，搶快', '火化场量能充足！考虑用来发电？', '美國先跟我們軍事同盟再說 不然都是屁屁屁', '醫量能不足 醫院不收治 重者來不及投藥 排隊PCR耽誤實際病患治療 方艙能解決嗎 ', '在台灣，做假即使被戳破，還是有人深信不疑', '植斗。 小平頭。帥。髮不要長長了', '马克思说过，瘟疫就是资本主义的丧钟', '美國先跟我們軍事同盟再說 不然都是屁屁屁', '請蔡總統再怎麼捨不得 ，還請「大義滅親」，不然人民不依 ，幾萬個死去家人的親友會暴怒 ！', \"WHA沒參{'id': '', 'txt': ':plus:', 'url': 'https://www.youtube.com/s/gaming/emoji/0f0cae22/emoji_u2795.svg'}不會死人，疫病不給{'id': '', 'txt': ':pill:', 'url': 'https://www.youtube.com/s/gaming/emoji/0f0cae22/emoji_u1f48a.svg'}會死人\", '還說都輕症感冒?64972暴增41人死亡217例中重症.說輕症的這些人真該下地獄', '能說到民進黨民調掉一半，我就相信你們的評論', '說說吧 名嘴也跑三立民視', '快速投藥，哪來會這麼多人有中重症? 有些人輕症很快轉變成重症，綠媒還在辯稱不要亂吃藥', '夭壽', '瘟疫敲响了资本主义的丧钟', '沒看見817還在吹選舉嗎，台灣人死得再多都不管他們事的', '能說到民進黨民調掉一半，我就相信你們的評論', '還談什麽選情 救命要緊', '專利跟材料千金藤都在中國手上，發了。', '能說到民進黨民調掉一半，我就相信你們的評論', '各縣市可以獨立嗎？', '阿中：死之前還是要確認他是不是 偽陽 有很多道德倫理的問題阿', '中国大陆给了每个老百姓生命权', '民進黨執政之下被清洗掉的人口 是這些人命不好呢 還是黨做的還不夠？', \"EE還在元宇宙，817卻陳屍家中，可憐吶。{'id': '', 'txt': ':folded_hands:', 'url': 'https://www.youtube.com/s/gaming/emoji/0f0cae22/emoji_u1f64f.svg'}{'id': '', 'txt': ':folded_hands:', 'url': 'https://www.youtube.com/s/gaming/emoji/0f0cae22/emoji_u1f64f.svg'}{'id': '', 'txt': ':folded_hands:', 'url': 'https://www.youtube.com/s/gaming/emoji/0f0cae22/emoji_u1f64f.svg'}\", '作假不容易啊，百密终有一疏', '能說到民進黨民調掉一半，我就相信你們的評論', '何時申報，底子', '台灣人沒知識又怕死！ 妳只要跟他説 美國人會來保護你 他就信你了', '一團亂.....', \"台灣這些官把搞選舉的能力用在搞防疫上，會搞成今天這樣？{'id': '', 'txt': ':face_with_hand_over_mouth:', 'url': 'https://www.youtube.com/s/gaming/emoji/0f0cae22/emoji_u1f92d.svg'}{'id': '', 'txt': ':backhand_index_pointing_right:', 'url': 'https://www.youtube.com/s/gaming/emoji/0f0cae22/emoji_u1f449.svg'}{'id': '', 'txt': ':dog2:', 'url': 'https://www.youtube.com/s/gaming/emoji/0f0cae22/emoji_u1f415.svg'}\", '资本主义最终走向灭亡，迎来社会主义', '美国分不分裂不好说，英国快分裂了', '綠共追隨美日 對他們來說死點人微不足道', \"{'id': '', 'txt': ':rolling_on_the_floor_laughing:', 'url': 'https://www.youtube.com/s/gaming/emoji/0f0cae22/emoji_u1f923.svg'}{'id': '', 'txt': ':rolling_on_the_floor_laughing:', 'url': 'https://www.youtube.com/s/gaming/emoji/0f0cae22/emoji_u1f923.svg'}{'id': '', 'txt': ':rolling_on_the_floor_laughing:', 'url': 'https://www.youtube.com/s/gaming/emoji/0f0cae22/emoji_u1f923.svg'}台湾还没做过普筛呢到今天！那黑数被蔡英文压的要爆了吗？\", '不知道有臺北市民還在誇贊時中做的很好嗎？上次街訪，還説要體諒時中部長，他很辛苦', \"习近平珍爱百姓生命{'id': '', 'txt': ':thumbs_up:', 'url': 'https://www.youtube.com/s/gaming/emoji/0f0cae22/emoji_u1f44d.svg'}\", \"{'id': '', 'txt': ':face_with_tears_of_joy:', 'url': 'https://www.youtube.com/s/gaming/emoji/0f0cae22/emoji_u1f602.svg'}\", '綠共追隨美日 對他們來說死點人微不足道', '藥量不夠 錢類', \"台灣這些官把搞選舉的能力用在搞防疫上，會搞成今天這樣？{'id': '', 'txt': ':face_with_hand_over_mouth:', 'url': 'https://www.youtube.com/s/gaming/emoji/0f0cae22/emoji_u1f92d.svg'}{'id': '', 'txt': ':backhand_index_pointing_right:', 'url': 'https://www.youtube.com/s/gaming/emoji/0f0cae22/emoji_u1f449.svg'}{'id': '', 'txt': ':dog2:', 'url': 'https://www.youtube.com/s/gaming/emoji/0f0cae22/emoji_u1f415.svg'}\", '快速投藥，哪來會這麼多人有中重症? 有些人輕症很快轉變成重症，綠媒還在辯稱不要亂吃藥', '所谓的民主自由已经走到尽头了，美国即将分崩离析', \"香港因为疫情，推迟特区行政长官选举{'id': '', 'txt': ':thumbs_up:', 'url': 'https://www.youtube.com/s/gaming/emoji/0f0cae22/emoji_u1f44d.svg'}\", '民黨還看好阿中，選市長 ! 還不懂民意嗎..........', '@ZX peng 骂习近平的都是想看中国笑话的反华的人', '戴口罩 勤洗手 吃飯找空地', '所谓的民主自由已经走到尽头了，美国即将分崩离析', '等重了给药也治不好了啦，哈哈傻人做傻事', '既然違建，愛討論', '所谓的民主自由已经走到尽头了，美国即将分崩离析', '曾仕强都说了21世纪属于中国，望台独分子识时务者为俊杰', '台湾是民主岛？是韭菜园吧', '曾仕强都说了21世纪属于中国，望台独分子识时务者为俊杰', '小亮哥 你長高了 還兼職當時事評論員嗎', \"為選舉！大型活動不停辦！為選舉！該升級不升級！為選舉！該做不做！整天五漢廢言……不意外{'id': '', 'txt': ':face_with_rolling_eyes:', 'url': 'https://www.youtube.com/s/gaming/emoji/0f0cae22/emoji_u1f644.svg'}{'id': '', 'txt': ':face_with_rolling_eyes:', 'url': 'https://www.youtube.com/s/gaming/emoji/0f0cae22/emoji_u1f644.svg'}{'id': '', 'txt': ':face_with_rolling_eyes:', 'url': 'https://www.youtube.com/s/gaming/emoji/0f0cae22/emoji_u1f644.svg'}\", '有知識就不會有817死忠的', '還說都輕症感冒?64972暴增41人死亡217例中重症.說輕症的這些人真該下地獄', '不要緊張 41死亡 重症清零', '沒確診誰愛吃藥，是糖果逆', '所谓的民主自由已经走到尽头了，美国即将分崩离析', '快速投藥，哪來會這麼多人有中重症? 有些人輕症很快轉變成重症，綠媒還在辯稱不要亂吃藥', \"為選舉！大型活動不停辦！為選舉！該升級不升級！為選舉！該做不做！整天五漢廢言……不意外{'id': '', 'txt': ':face_with_rolling_eyes:', 'url': 'https://www.youtube.com/s/gaming/emoji/0f0cae22/emoji_u1f644.svg'}{'id': '', 'txt': ':face_with_rolling_eyes:', 'url': 'https://www.youtube.com/s/gaming/emoji/0f0cae22/emoji_u1f644.svg'}{'id': '', 'txt': ':face_with_rolling_eyes:', 'url': 'https://www.youtube.com/s/gaming/emoji/0f0cae22/emoji_u1f644.svg'}\", '陳時中：想到要選台北市長哈哈笑', \"三民自又粉飾太平{'id': '', 'txt': ':backhand_index_pointing_right:', 'url': 'https://www.youtube.com/s/gaming/emoji/0f0cae22/emoji_u1f449.svg'}半數死亡沒打疫苗{'id': '', 'txt': ':backhand_index_pointing_right:', 'url': 'https://www.youtube.com/s/gaming/emoji/0f0cae22/emoji_u1f449.svg'}半數打了也沒救活呀，腦呢？{'id': '', 'txt': ':face_with_hand_over_mouth:', 'url': 'https://www.youtube.com/s/gaming/emoji/0f0cae22/emoji_u1f92d.svg'}{'id': '', 'txt': ':face_with_hand_over_mouth:', 'url': 'https://www.youtube.com/s/gaming/emoji/0f0cae22/emoji_u1f92d.svg'}\", \"為選舉！大型活動不停辦！為選舉！該升級不升級！為選舉！該做不做！整天五漢廢言……不意外{'id': '', 'txt': ':face_with_rolling_eyes:', 'url': 'https://www.youtube.com/s/gaming/emoji/0f0cae22/emoji_u1f644.svg'}{'id': '', 'txt': ':face_with_rolling_eyes:', 'url': 'https://www.youtube.com/s/gaming/emoji/0f0cae22/emoji_u1f644.svg'}{'id': '', 'txt': ':face_with_rolling_eyes:', 'url': 'https://www.youtube.com/s/gaming/emoji/0f0cae22/emoji_u1f644.svg'}\", '死好死滿 繼續死 反正大家 沒意見 等死 不反抗 等死O耶~~~等死等死 讚啦', '喔', '藥是給有黨證的人', '需要我给药吗，回国内。', '共产党不用忙选举100%的精力在治国，自由民主的国家90%在忙选举，打击政敌，9%忙着自己挣钱，1%忙自己的选民', '不要緊張 41死亡 重症清零', '台湾现在死亡率已经千分之一了，估计最后能干到万分之一，世界南波万', '火化场量能充足！考虑用来发电？', '不要緊張 41死亡 重症清零', \"{'id': '', 'txt': ':man:', 'url': 'https://www.youtube.com/s/gaming/emoji/0f0cae22/emoji_u1f468.svg'}{'id': '', 'txt': ':love_letter:', 'url': 'https://www.youtube.com/s/gaming/emoji/0f0cae22/emoji_u1f48c.svg'}{'id': '', 'txt': ':woman:', 'url': 'https://www.youtube.com/s/gaming/emoji/0f0cae22/emoji_u1f469.svg'}\", \"Taiwan no.1 {'id': '', 'txt': ':index_pointing_up:', 'url': 'https://www.youtube.com/s/gaming/emoji/0f0cae22/emoji_u261d.svg'}{'id': '', 'txt': ':index_pointing_up:', 'url': 'https://www.youtube.com/s/gaming/emoji/0f0cae22/emoji_u261d.svg'}{'id': '', 'txt': ':index_pointing_up:', 'url': 'https://www.youtube.com/s/gaming/emoji/0f0cae22/emoji_u261d.svg'}{'id': '', 'txt': ':clapping_hands:', 'url': 'https://www.youtube.com/s/gaming/emoji/0f0cae22/emoji_u1f44f.svg'}{'id': '', 'txt': ':clapping_hands:', 'url': 'https://www.youtube.com/s/gaming/emoji/0f0cae22/emoji_u1f44f.svg'}{'id': '', 'txt': ':clapping_hands:', 'url': 'https://www.youtube.com/s/gaming/emoji/0f0cae22/emoji_u1f44f.svg'}\", 'G', \"{'id': '', 'txt': ':smiling_face_with_hearts:', 'url': 'https://www.youtube.com/s/gaming/emoji/0f0cae22/emoji_u1f970.svg'}{'id': '', 'txt': ':couple_with_heart:', 'url': 'https://www.youtube.com/s/gaming/emoji/0f0cae22/emoji_u1f491.svg'}\", '死好死滿 繼續死 反正大家 沒意見 等死 不反抗 等死O耶~~~等死等死 讚啦', '你命都快沒了，還能顧到發財？', \"各位大家下午好～～{'id': '', 'txt': ':clown_face:', 'url': 'https://www.youtube.com/s/gaming/emoji/0f0cae22/emoji_u1f921.svg'}{'id': '', 'txt': ':smiling_face_with_sunglasses:', 'url': 'https://www.youtube.com/s/gaming/emoji/0f0cae22/emoji_u1f60e.svg'}；\", '不用太高估塔綠班的記性，也不要太低估廿一世紀東亞自願「已開發」1.5個第三世界塔綠班的 (ㄋㄨˊ)性', '不要緊張 41死亡 重症清零', '中國世界第一，領導世界，名正言順。', \"{'id': '', 'txt': ':thumbs_up:', 'url': 'https://www.youtube.com/s/gaming/emoji/0f0cae22/emoji_u1f44d.svg'}{'id': '', 'txt': ':revolving_hearts:', 'url': 'https://www.youtube.com/s/gaming/emoji/0f0cae22/emoji_u1f49e.svg'}{'id': '', 'txt': ':red_heart:', 'url': 'https://www.youtube.com/s/gaming/emoji/0f0cae22/emoji_u2764.svg'}\", '快速投藥，哪來會這麼多人有中重症? 有些人輕症很快轉變成重症，綠媒還在辯稱不要亂吃藥', '死十人就是重大事件了', '共产党不用忙选举100%的精力在治国，自由民主的国家90%在忙选举，打击政敌，9%忙着自己挣钱，1%忙自己的选民', \"{'id': '', 'txt': ':thumbs_up:', 'url': 'https://www.youtube.com/s/gaming/emoji/0f0cae22/emoji_u1f44d.svg'}{'id': '', 'txt': ':woman:', 'url': 'https://www.youtube.com/s/gaming/emoji/0f0cae22/emoji_u1f469.svg'}{'id': '', 'txt': ':man:', 'url': 'https://www.youtube.com/s/gaming/emoji/0f0cae22/emoji_u1f468.svg'}\", \"政府不是說都是輕症嗎⋯⋯？輕症都會死，同胞的生命也太脆弱了！又在當台灣人民是傻仔了。這{'id': '', 'txt': '', 'url': 'https://www.youtube.com/s/gaming/emoji/0f0cae22/emoji_u1f21a.svg'}能又說謊的政客⋯⋯有點說不過去 \", '根據《蘋果新聞網》報導，有民眾爆料，鄧如秀快篩陽性，但是要做PCR檢驗時，卻不用跟一般人一樣排隊數小時以上，而是專案直送台北市立聯合醫院中興院區「插隊」採檢，甚至檢體再「插隊」直送疾管署昆陽實驗室，全程都是插隊到底。', '习近平宁愿被人骂都要清零救人', '放心，底綫沒有！之後就蓋牌了', '总感觉台湾真的是人民自治的民主岛啊，因为政府是个摆设，捞钱处处可见，一旦有事，政府都躲起来了。', '比時鐘更不要臉的人找不到,所以還沒換!', '共产党不用忙选举100%的精力在治国，自由民主的国家90%在忙选举，打击政敌，9%忙着自己挣钱，1%忙自己的选民', '快速投藥，哪來會這麼多人有中重症? 有些人輕症很快轉變成重症，綠媒還在辯稱不要亂吃藥', \"南無阿彌陀佛{'id': '', 'txt': ':folded_hands:', 'url': 'https://www.youtube.com/s/gaming/emoji/0f0cae22/emoji_u1f64f.svg'}\", '連藥都沒吃得到 ', '比時鐘更不要臉的人找不到,所以還沒換!', '根據《蘋果新聞網》報導，有民眾爆料，鄧如秀快篩陽性，但是要做PCR檢驗時，卻不用跟一般人一樣排隊數小時以上，而是專案直送台北市立聯合醫院中興院區「插隊」採檢，甚至檢體再「插隊」直送疾管署昆陽實驗室，全程都是插隊到底。', '言论也会双标啊', '比時鐘更不要臉的人找不到,所以還沒換!', '你命都快沒了，還能顧到發財？', '人家都明說了.. 全民.. 綠蠅支持者...沒錢..覺的貴就不要買..', '比時鐘更不要臉的人找不到,所以還沒換!', '火化场量能充足！考虑用来发电？', '台灣民眾有知識還會817? 有知識 四大公投還會讓他過?', '曾仕强都说了21世纪属于中国，望台独分子识时务者为俊杰', '可是817有知識???', '不是軟弱 是 腦空弱智', '比時鐘更不要臉的人找不到,所以還沒換!', '還說都輕症感冒?64972暴增41人死亡217例中重症.說輕症的這些人真該下地獄', \"{'id': '', 'txt': ':kiss:', 'url': 'https://www.youtube.com/s/gaming/emoji/0f0cae22/emoji_u1f48b.svg'}{'id': '', 'txt': ':revolving_hearts:', 'url': 'https://www.youtube.com/s/gaming/emoji/0f0cae22/emoji_u1f49e.svg'}{'id': '', 'txt': ':red_heart:', 'url': 'https://www.youtube.com/s/gaming/emoji/0f0cae22/emoji_u2764.svg'}{'id': '', 'txt': ':smiling_face_with_hearts:', 'url': 'https://www.youtube.com/s/gaming/emoji/0f0cae22/emoji_u1f970.svg'}\", '比時鐘更不要臉的人找不到,所以還沒換!', '中常會\"震怒\"是媒體自己加上去的,在幫蔡獨裁洗白{\\'id\\': \\'\\', \\'txt\\': \\':unamused_face:\\', \\'url\\': \\'https://www.youtube.com/s/gaming/emoji/0f0cae22/emoji_u1f612.svg\\'}{\\'id\\': \\'\\', \\'txt\\': \\':unamused_face:\\', \\'url\\': \\'https://www.youtube.com/s/gaming/emoji/0f0cae22/emoji_u1f612.svg\\'}', '誠實終那種外行的都能搞個位置 弄的一團亂了 錢回填滿滿~ 台灣沒活人了嗎', \"{'id': '', 'txt': ':smiling_face_with_hearts:', 'url': 'https://www.youtube.com/s/gaming/emoji/0f0cae22/emoji_u1f970.svg'}{'id': '', 'txt': ':zany_face:', 'url': 'https://www.youtube.com/s/gaming/emoji/0f0cae22/emoji_u1f92a.svg'}{'id': '', 'txt': ':woman:', 'url': 'https://www.youtube.com/s/gaming/emoji/0f0cae22/emoji_u1f469.svg'}\", '817是沒知識啊！', \"南無阿彌陀佛{'id': '', 'txt': ':folded_hands:', 'url': 'https://www.youtube.com/s/gaming/emoji/0f0cae22/emoji_u1f64f.svg'}\", \"{'id': '', 'txt': ':revolving_hearts:', 'url': 'https://www.youtube.com/s/gaming/emoji/0f0cae22/emoji_u1f49e.svg'}{'id': '', 'txt': ':couple_with_heart:', 'url': 'https://www.youtube.com/s/gaming/emoji/0f0cae22/emoji_u1f491.svg'}{'id': '', 'txt': ':love_letter:', 'url': 'https://www.youtube.com/s/gaming/emoji/0f0cae22/emoji_u1f48c.svg'}{'id': '', 'txt': ':kiss:', 'url': 'https://www.youtube.com/s/gaming/emoji/0f0cae22/emoji_u1f48b.svg'}{'id': '', 'txt': ':man:', 'url': 'https://www.youtube.com/s/gaming/emoji/0f0cae22/emoji_u1f468.svg'}\", '根據《蘋果新聞網》報導，有民眾爆料，鄧如秀快篩陽性，但是要做PCR檢驗時，卻不用跟一般人一樣排隊數小時以上，而是專案直送台北市立聯合醫院中興院區「插隊」採檢，甚至檢體再「插隊」直送疾管署昆陽實驗室，全程都是插隊到底。', \"{'id': '', 'txt': ':red_heart:', 'url': 'https://www.youtube.com/s/gaming/emoji/0f0cae22/emoji_u2764.svg'}{'id': '', 'txt': ':man:', 'url': 'https://www.youtube.com/s/gaming/emoji/0f0cae22/emoji_u1f468.svg'}\", '比時鐘更不要臉的人找不到,所以還沒換!', \"习近平坚持动态清零{'id': '', 'txt': ':thumbs_up:', 'url': 'https://www.youtube.com/s/gaming/emoji/0f0cae22/emoji_u1f44d.svg'}\", '哪有 沒知識一堆', '曾仕强都说了21世纪属于中国，望台独分子识时务者为俊杰', '比時鐘更不要臉的人找不到,所以還沒換!', \"往生41{'id': '', 'txt': '', 'url': 'https://www.youtube.com/s/gaming/emoji/0f0cae22/emoji_u1f64f_1f3fb.svg'}去找蔡EE和陳時鐘\", \"老百姓性命不是命噢{'id': '', 'txt': ':sad_but_relieved_face:', 'url': 'https://www.youtube.com/s/gaming/emoji/0f0cae22/emoji_u1f625.svg'}不是人了這支殺人魔藏在頭頂三\", '曾仕强都说了21世纪属于中国，望台独分子识时务者为俊杰', '比時鐘更不要臉的人找不到,所以還沒換!', \"{'id': '1v50XorRJ8GQ8gTz_prwAg', 'txt': ':stayhome:', 'url': 'https://yt3.ggpht.com/u3QDxda8o4jrk_b01YtJYKb57l8Zw8ks8mCwGkiZ5hC5cQP_iszbsggxIWquZhuLRBzl5IEM2w=w24-h24-c-k-nd'}{'id': 'Rf90XtDbG8GQ8gTz_prwAg', 'txt': ':thanksdoc:', 'url': 'https://yt3.ggpht.com/Av7Vf8FxIp0_dQg4cJrPcGmmL7v9RXraOXMp0ZBDN693ewoMTHbbS7D7V3GXpbtZPSNcRLHTQw=w24-h24-c-k-nd'}{'id': 'Rf90XtDbG8GQ8gTz_prwAg', 'txt': ':thanksdoc:', 'url': 'https://yt3.ggpht.com/Av7Vf8FxIp0_dQg4cJrPcGmmL7v9RXraOXMp0ZBDN693ewoMTHbbS7D7V3GXpbtZPSNcRLHTQw=w24-h24-c-k-nd'}{'id': 'Rf90XtDbG8GQ8gTz_prwAg', 'txt': ':thanksdoc:', 'url': 'https://yt3.ggpht.com/Av7Vf8FxIp0_dQg4cJrPcGmmL7v9RXraOXMp0ZBDN693ewoMTHbbS7D7V3GXpbtZPSNcRLHTQw=w24-h24-c-k-nd'}加油。。{'id': 'Rf90XtDbG8GQ8gTz_prwAg', 'txt': ':thanksdoc:', 'url': 'https://yt3.ggpht.com/Av7Vf8FxIp0_dQg4cJrPcGmmL7v9RXraOXMp0ZBDN693ewoMTHbbS7D7V3GXpbtZPSNcRLHTQw=w24-h24-c-k-nd'}{'id': 'Rf90XtDbG8GQ8gTz_prwAg', 'txt': ':thanksdoc:', 'url': 'https://yt3.ggpht.com/Av7Vf8FxIp0_dQg4cJrPcGmmL7v9RXraOXMp0ZBDN693ewoMTHbbS7D7V3GXpbtZPSNcRLHTQw=w24-h24-c-k-nd'}\", '比時鐘更不要臉的人找不到,所以還沒換!', '買龍巖了', '封辟', '比時鐘更不要臉的人找不到,所以還沒換!', '作票還可以贏!公投說謊都可以贏了!還怕什麼!', '比時鐘更不要臉的人找不到,所以還沒換!', '有人發現死亡時間還在校正回歸？昨日12號有5/5死亡，今天13號，竟然還有5/2號死亡日，確診檢驗要時間需要時間，所以校正回歸，死亡也玩校正回歸有點扯', \"南無阿彌陀佛{'id': '', 'txt': ':folded_hands:', 'url': 'https://www.youtube.com/s/gaming/emoji/0f0cae22/emoji_u1f64f.svg'}\", '貪污款存歐美，躲歐美生活也是避不開歐美討費用', '比時鐘更不要臉的人找不到,所以還沒換!', '如果是某一個所謂專家建議要讓大家都中標呢\\u3000\\u3000細思極恐\\u3000', '這位來賓你想太多，綠共一樣贏', '比時鐘更不要臉的人找不到,所以還沒換!', '習近平下台了耶~~~', '不是慌了！是不屑台灣人民的命！？！？', '清冠自產 能大量生產 發給確診者嗎 緩和醫療量能 等死或睡急診室地板 不轉重症才怪', '比時鐘更不要臉的人找不到,所以還沒換!', '过些时间台湾抢骨灰盒，抢墓地', '比時鐘更不要臉的人找不到,所以還沒換!', \"下月開始，確診人數 就是國家機密。齁齁齁。{'id': '', 'txt': ':face_with_hand_over_mouth:', 'url': 'https://www.youtube.com/s/gaming/emoji/0f0cae22/emoji_u1f92d.svg'}{'id': '', 'txt': ':face_with_hand_over_mouth:', 'url': 'https://www.youtube.com/s/gaming/emoji/0f0cae22/emoji_u1f92d.svg'}{'id': '', 'txt': ':face_with_hand_over_mouth:', 'url': 'https://www.youtube.com/s/gaming/emoji/0f0cae22/emoji_u1f92d.svg'}\", '曾仕强都说了21世纪属于中国，望台独分子识时务者为俊杰', '比時鐘更不要臉的人找不到,所以還沒換!', '還說都輕症感冒?64972暴增41人死亡217例中重症.說輕症的這些人真該下地獄', '曾仕强都说了21世纪属于中国，望台独分子识时务者为俊杰', '您已封鎖時事豪笑員~~', '火化场量能充足！考虑用来发电？', '怎麼月來越像小亮哥>? 顆顆', \"{'id': '', 'txt': ':mouth:', 'url': 'https://www.youtube.com/s/gaming/emoji/0f0cae22/emoji_u1f444.svg'}{'id': '', 'txt': ':red_heart:', 'url': 'https://www.youtube.com/s/gaming/emoji/0f0cae22/emoji_u2764.svg'}{'id': '', 'txt': ':check_mark_button:', 'url': 'https://www.youtube.com/s/gaming/emoji/0f0cae22/emoji_u2705.svg'}{'id': '', 'txt': ':couple_with_heart:', 'url': 'https://www.youtube.com/s/gaming/emoji/0f0cae22/emoji_u1f491.svg'}{'id': '', 'txt': ':smiling_face_with_hearts:', 'url': 'https://www.youtube.com/s/gaming/emoji/0f0cae22/emoji_u1f970.svg'}{'id': '', 'txt': ':couple_with_heart:', 'url': 'https://www.youtube.com/s/gaming/emoji/0f0cae22/emoji_u1f491.svg'}\", '曾仕强都说了21世纪属于中国，望台独分子识时务者为俊杰', '張亞中說什麼呢', \"{'id': '', 'txt': ':couple_with_heart:', 'url': 'https://www.youtube.com/s/gaming/emoji/0f0cae22/emoji_u1f491.svg'}{'id': '', 'txt': ':woman:', 'url': 'https://www.youtube.com/s/gaming/emoji/0f0cae22/emoji_u1f469.svg'}\", '原來感灣還有總統？……', '三立民視的政論節目和諧同溫2層 中天每天炮聲隆隆 中天的資料跟他們截然不同', '他 們躺選了', \"{'id': '', 'txt': ':revolving_hearts:', 'url': 'https://www.youtube.com/s/gaming/emoji/0f0cae22/emoji_u1f49e.svg'}{'id': '', 'txt': ':woman:', 'url': 'https://www.youtube.com/s/gaming/emoji/0f0cae22/emoji_u1f469.svg'}\", \"我會不會太 g8了 {'id': '', 'txt': ':face_with_tears_of_joy:', 'url': 'https://www.youtube.com/s/gaming/emoji/0f0cae22/emoji_u1f602.svg'}\", '人命關天人民也震怒了', '人家都明說了.. 全民.. 綠蠅支持者...沒錢..覺的貴就不要買.. ', \"{'id': '', 'txt': ':red_heart:', 'url': 'https://www.youtube.com/s/gaming/emoji/0f0cae22/emoji_u2764.svg'}{'id': '', 'txt': ':kiss:', 'url': 'https://www.youtube.com/s/gaming/emoji/0f0cae22/emoji_u1f48b.svg'}\", '火化场量能充足！考虑用来发电？', '一般民眾快篩陽性之後，往往要冒風險，在醫院外大排長龍等著做PCR檢驗，但媒體今（13）日踢爆，疾病管制署主秘鄧如秀快篩陽性，PCR檢驗卻「一路插隊」不需自行排隊數小時，遭批評有特權。台北市衛生局也出面說明，一切都是疾管署來電，直接指示衛生局協助。', '您已封鎖時事豪笑員~~', '他們會再做票，一樣穩穩當政啦', '火化场量能充足！考虑用来发电？', '劉沛，我染疫掛了，葬在台灣！發財掛了，葬在哪裡？加拿大嗎？畢竟家人都是加拿大人，不是嗎？', '蔡英文執政 騙騙騙', \"選舉到了，高雄送防疫關懷包{'id': '', 'txt': ':backhand_index_pointing_right:', 'url': 'https://www.youtube.com/s/gaming/emoji/0f0cae22/emoji_u1f449.svg'}有快篩嗎？懂的都懂。{'id': '', 'txt': ':face_with_hand_over_mouth:', 'url': 'https://www.youtube.com/s/gaming/emoji/0f0cae22/emoji_u1f92d.svg'}{'id': '', 'txt': ':backhand_index_pointing_right:', 'url': 'https://www.youtube.com/s/gaming/emoji/0f0cae22/emoji_u1f449.svg'}{'id': '', 'txt': ':dog2:', 'url': 'https://www.youtube.com/s/gaming/emoji/0f0cae22/emoji_u1f415.svg'}\", \"選舉到了，高雄送防疫關懷包{'id': '', 'txt': ':backhand_index_pointing_right:', 'url': 'https://www.youtube.com/s/gaming/emoji/0f0cae22/emoji_u1f449.svg'}有快篩嗎？懂的都懂。{'id': '', 'txt': ':face_with_hand_over_mouth:', 'url': 'https://www.youtube.com/s/gaming/emoji/0f0cae22/emoji_u1f92d.svg'}{'id': '', 'txt': ':backhand_index_pointing_right:', 'url': 'https://www.youtube.com/s/gaming/emoji/0f0cae22/emoji_u1f449.svg'}{'id': '', 'txt': ':dog2:', 'url': 'https://www.youtube.com/s/gaming/emoji/0f0cae22/emoji_u1f415.svg'}\", '曾仕强都说了21世纪属于中国', '唱衰就會衰?通姦無罪就通姦嗎？', '人命關天人民也震怒了', '快速投藥，哪來會這麼多人有中重症? 有些人輕症很快轉變成重症，綠媒還在辯稱不要亂吃藥', \" 今天死了41人太恐怖了{'id': '', 'txt': ':face_screaming_in_fear:', 'url': 'https://www.youtube.com/s/gaming/emoji/0f0cae22/emoji_u1f631.svg'}⋯⋯\", \"中國贏了{'id': '', 'txt': ':victory_hand:', 'url': 'https://www.youtube.com/s/gaming/emoji/0f0cae22/emoji_u270c.svg'}\", '講得好', '等到每天死亡破百，就該換人', '◆ 『慌了』520怎麼辦？怎麼辦？怎麼辦？裝不下去了～...╮@(╯▽╰)@╭＊', \"菜婆整得这么神秘！可能是蔡英文上头老板的命令吧！{'id': '', 'txt': ':rolling_on_the_floor_laughing:', 'url': 'https://www.youtube.com/s/gaming/emoji/0f0cae22/emoji_u1f923.svg'}{'id': '', 'txt': ':rolling_on_the_floor_laughing:', 'url': 'https://www.youtube.com/s/gaming/emoji/0f0cae22/emoji_u1f923.svg'}\", \"{'id': '', 'txt': ':face_with_tears_of_joy:', 'url': 'https://www.youtube.com/s/gaming/emoji/0f0cae22/emoji_u1f602.svg'}{'id': '', 'txt': ':face_with_tears_of_joy:', 'url': 'https://www.youtube.com/s/gaming/emoji/0f0cae22/emoji_u1f602.svg'}{'id': '', 'txt': ':face_with_tears_of_joy:', 'url': 'https://www.youtube.com/s/gaming/emoji/0f0cae22/emoji_u1f602.svg'}\", '賺大錢', '一般民眾快篩陽性之後，往往要冒風險，在醫院外大排長龍等著做PCR檢驗，但媒體今（13）日踢爆，疾病管制署主秘鄧如秀快篩陽性，PCR檢驗卻「一路插隊」不需自行排隊數小時，遭批評有特權。台北市衛生局也出面說明，一切都是疾管署來電，直接指示衛生局協助。', '直接蓋牌，看你們怎麽監督怎麽罵', '绿共敢公布打的什么疫苗吗？', '人民也震怒了', '施教授也是教友', '台湾日确诊哪止6万+', \"激死生气气{'id': '', 'txt': ':zany_face:', 'url': 'https://www.youtube.com/s/gaming/emoji/0f0cae22/emoji_u1f92a.svg'}\", \"蔡英文軟弱{'id': '', 'txt': ':grinning_squinting_face:', 'url': 'https://www.youtube.com/s/gaming/emoji/0f0cae22/emoji_u1f606.svg'}{'id': '', 'txt': ':grinning_squinting_face:', 'url': 'https://www.youtube.com/s/gaming/emoji/0f0cae22/emoji_u1f606.svg'}{'id': '', 'txt': ':grinning_squinting_face:', 'url': 'https://www.youtube.com/s/gaming/emoji/0f0cae22/emoji_u1f606.svg'}{'id': '', 'txt': ':grinning_squinting_face:', 'url': 'https://www.youtube.com/s/gaming/emoji/0f0cae22/emoji_u1f606.svg'}\", '你们台湾这么有钱怎么不发中药和快筛', '神隱少女的臉書被洗版，洗到塔綠班網軍都來不及檢舉。有人還在把自己當局外人，還在元宇宙？怎麼知道民間疾苦？ 1110513', \"南無阿彌陀佛{'id': '', 'txt': ':folded_hands:', 'url': 'https://www.youtube.com/s/gaming/emoji/0f0cae22/emoji_u1f64f.svg'}\", '咎由自取！', '劉沛，我染疫掛了，葬在台灣！發財掛了，葬在哪裡？加拿大嗎？', \"{'id': '1v50XorRJ8GQ8gTz_prwAg', 'txt': ':stayhome:', 'url': 'https://yt3.ggpht.com/u3QDxda8o4jrk_b01YtJYKb57l8Zw8ks8mCwGkiZ5hC5cQP_iszbsggxIWquZhuLRBzl5IEM2w=w24-h24-c-k-nd'}你們。。不想選了嗎？？？？？？？\", '來自田間第一人。', '中國繼碳基半導體跟光量子芯片，又獲得了新冠治療藥的最強技術！！！！！', '台灣人還再等寒粉斷氣這天', '一般民眾快篩陽性之後，往往要冒風險，在醫院外大排長龍等著做PCR檢驗，但媒體今（13）日踢爆，疾病管制署主秘鄧如秀快篩陽性，PCR檢驗卻「一路插隊」不需自行排隊數小時，遭批評有特權。台北市衛生局也出面說明，一切都是疾管署來電，直接指示衛生局協助。', '在中南部很多人看三民自，大都看到粉飾太平的新聞？完全不知道北部疫情真實狀況？除非看T台和中天網路新聞等偏藍媒體，才能知道如何趨吉避凶，小心防範疫情，才不會家破人亡？1110504', '他要什麼有什麼，怎會感受到民間疾苦呢？你沒看到他說我有為什麼要去排隊？你嫌貴就不要買啊！', '滿少，會', '不能唱衰，要稱讚做得好', \"這時{'id': '', 'txt': ':backhand_index_pointing_right:', 'url': 'https://www.youtube.com/s/gaming/emoji/0f0cae22/emoji_u1f449.svg'}8E7{'id': '', 'txt': ':backhand_index_pointing_right:', 'url': 'https://www.youtube.com/s/gaming/emoji/0f0cae22/emoji_u1f449.svg'}又裝聾作啞了{'id': '', 'txt': ':face_with_hand_over_mouth:', 'url': 'https://www.youtube.com/s/gaming/emoji/0f0cae22/emoji_u1f92d.svg'}{'id': '', 'txt': ':backhand_index_pointing_right:', 'url': 'https://www.youtube.com/s/gaming/emoji/0f0cae22/emoji_u1f449.svg'}{'id': '', 'txt': ':dog2:', 'url': 'https://www.youtube.com/s/gaming/emoji/0f0cae22/emoji_u1f415.svg'}\", '後面直接蓋牌，不給你們罵的機會了', '以前,啊扁貪污只有「謀財」，沒有「害命」，現在，有人趁疫情嚴重「謀財害命」？人命關天 這種謀財害命的事也做的下去？ 死了多少人？晚上還睡得著？1110507', '貪官污吏，把錢放國外，逃亡海外還是被當地政客索討費', '怎麼不公佈「打那種」疫苗？！一半有打疫苗，一半沒打疫苗？！', '217中重症如无法妥善治疗转成重症的可能性还是很大的', \"不用怕我帶莎莎玩{'id': '', 'txt': ':kissing_face_with_closed_eyes:', 'url': 'https://www.youtube.com/s/gaming/emoji/0f0cae22/emoji_u1f61a.svg'}\", '阿中：派代表來才能問', '希望82時，都是綠營高官', '我再告訴大家您們大家看看，最近高官就只會公告向道歉人民而已，那些高官還是可以每個月早領薪水，怎麽還可以當高官呢，人民是最好騙的，咳可憐的人民啊，祝福大家吧', '火化场量能充足！考虑用来发电？', '火化场都不一定够', ' 教友', '人家都說了.. 全民.. 綠蠅支持者...沒錢..覺的貴就不要買.. ', \"9成媒體都牠養的..抗議什麼{'id': '', 'txt': ':unamused_face:', 'url': 'https://www.youtube.com/s/gaming/emoji/0f0cae22/emoji_u1f612.svg'}{'id': '', 'txt': ':unamused_face:', 'url': 'https://www.youtube.com/s/gaming/emoji/0f0cae22/emoji_u1f612.svg'}{'id': '', 'txt': ':unamused_face:', 'url': 'https://www.youtube.com/s/gaming/emoji/0f0cae22/emoji_u1f612.svg'}\", '快速投藥，哪來會這麼多人有中重症? 有些人輕症很快轉變成重症，綠媒還在辯稱不要亂吃藥', '放任殺人魔再繼續猝死人命關天ㄟ', \"南無阿彌陀佛{'id': '', 'txt': ':folded_hands:', 'url': 'https://www.youtube.com/s/gaming/emoji/0f0cae22/emoji_u1f64f.svg'}\", '何止41個……之前的呢！？', '早就預告會掛很多人了，還叫共存,結果來了，還不願面對？掛掉的生前沒人權阿？沒繳稅嗎？政府為這些人做了什麼？還要擺爛躺平嗎？', \"{'id': 'GAZuYsiwF4e_8wTbvby4BQ', 'txt': ':_31怕:', 'url': 'https://yt3.ggpht.com/rbkOlf00M4hQ5YBtYz0pbtnGrm1gDJsbF5tHkzTJk6qztXttZSSsHp15fi5ydpl3xsjlPYwJ8w=w24-h24-c-k-nd'}{'id': 'GAZuYsiwF4e_8wTbvby4BQ', 'txt': ':_31怕:', 'url': 'https://yt3.ggpht.com/rbkOlf00M4hQ5YBtYz0pbtnGrm1gDJsbF5tHkzTJk6qztXttZSSsHp15fi5ydpl3xsjlPYwJ8w=w24-h24-c-k-nd'}{'id': 'GAZuYsiwF4e_8wTbvby4BQ', 'txt': ':_31怕:', 'url': 'https://yt3.ggpht.com/rbkOlf00M4hQ5YBtYz0pbtnGrm1gDJsbF5tHkzTJk6qztXttZSSsHp15fi5ydpl3xsjlPYwJ8w=w24-h24-c-k-nd'}\", '火化场量能充足！考虑用来发电？', '如果我染疫掛了，葬在台灣！發財掛了，葬在哪裡？加拿大嗎？', '山水 之後換你染疫死亡，你要葬在山上？還是撒在海水？', \"{'id': '1v50XorRJ8GQ8gTz_prwAg', 'txt': ':stayhome:', 'url': 'https://yt3.ggpht.com/u3QDxda8o4jrk_b01YtJYKb57l8Zw8ks8mCwGkiZ5hC5cQP_iszbsggxIWquZhuLRBzl5IEM2w=w24-h24-c-k-nd'}教友。。。。\", '山水 之後換你染疫死亡，你要葬在山上？還是撒在海水？', '火化场量能充足！考虑用来发电？', '人家是看這麼多傻子啊！？ 這不作個票 咱們自己攬下來搞！', '山水 之後換你染疫死亡，你要葬在山上？還是撒在海水？', '火化场量能充足！考虑用来发电？', '人手不夠、設備不夠、收容量不足、篩劑不夠。。。', '以後還要死多少人呢？民進黨站出來講要怎麼處理', '14:00記者會直播，一堆塔綠班網軍在帶風向 可憐啊，要靠塔綠班網軍打擊真正為老百姓問問題的媒體和記者，真可憐，還要出動網軍打壓認真記者，連問問題都不行？還算有言論自由？1110426.', '火化场量能充足！考虑用来发电？', '山水 之後換你染疫死亡，你要葬在山上？還是撒在海水？', '好多民进党和1450还不明白，现在带节奏转移重心没有用，疫情来了，山呼海啸，等你身边的人开始死亡的时候希望你不要伤心', '这么严重的疫情，还整天选举，选啥', '死亡一天还没上百，指挥官一点都不慌', '山水 之後換你染疫死亡，你要葬在山上？還是撒在海水？', '假日要去高雄玩', '山水 之後換你染疫死亡，你要葬在山上？還是撒在海水？', '专利的发明人北京化工大学生命科学与技术学院院长童贻刚教授解释称，可以理解为不用千金藤素药物时如果有15393个病毒，那么在用10 μM千金藤素药物的情况下，病毒数将只有1个。也就是说，很少量的千金藤素就能阻止新冠病毒扩增和传播。从目前的研究数据看，该药物抑制新冠病毒的能力在所有人类发现的新冠病毒抑制剂中排名靠前', '先去訪問 「美副總統」陳建仁吧！', '人家都說了.. 全民.. 綠蠅支持者...沒錢..覺的貴就不要買.. ', '官虾天天說話太噁心太噁心太噁心太噁心', \"反紅媒……關中天{'id': '', 'txt': ':thumbs_down:', 'url': 'https://www.youtube.com/s/gaming/emoji/0f0cae22/emoji_u1f44e.svg'}{'id': '', 'txt': ':thumbs_down:', 'url': 'https://www.youtube.com/s/gaming/emoji/0f0cae22/emoji_u1f44e.svg'}{'id': '', 'txt': ':thumbs_down:', 'url': 'https://www.youtube.com/s/gaming/emoji/0f0cae22/emoji_u1f44e.svg'}{'id': '', 'txt': ':thumbs_down:', 'url': 'https://www.youtube.com/s/gaming/emoji/0f0cae22/emoji_u1f44e.svg'}\", '下一個在家突然昏迷的是你嗎?', '山水 之後換你染疫死亡，你要葬在山上？還是撒在海水？', \"劉沛，快去宣揚韓發財吧！現在發財不是開始裝善人了，出書來騙人，沒違法啦！台灣人很善良，他會發財的！如果還不發財，就雙手高舉中華民國萬歲，雙腳{'id': '', 'txt': ':footprints:', 'url': 'https://www.youtube.com/s/gaming/emoji/0f0cae22/emoji_u1f463.svg'}走進中聯辦，一定能發財！\", '山水 之後換你染疫死亡，你要葬在山上？還是撒在海水？', '山水 之後換你染疫死亡，你要葬在山上？還是撒在海水？', 'TAIWAN NEED HELP', '145087浪費糧食', '山水 之後換你染疫死亡，你要葬在山上？還是撒在海水？', '金母湯 寒粉 別亂台了！', '阿中部长：下一个问题。', '爆发疫情不想着赶快控制，还想着赚快筛的钱，笑死。你们选的~~', \"這時{'id': '', 'txt': ':backhand_index_pointing_right:', 'url': 'https://www.youtube.com/s/gaming/emoji/0f0cae22/emoji_u1f449.svg'}8E7{'id': '', 'txt': ':backhand_index_pointing_right:', 'url': 'https://www.youtube.com/s/gaming/emoji/0f0cae22/emoji_u1f449.svg'}又裝聾作啞了{'id': '', 'txt': ':face_with_hand_over_mouth:', 'url': 'https://www.youtube.com/s/gaming/emoji/0f0cae22/emoji_u1f92d.svg'}{'id': '', 'txt': ':backhand_index_pointing_right:', 'url': 'https://www.youtube.com/s/gaming/emoji/0f0cae22/emoji_u1f449.svg'}{'id': '', 'txt': ':dog2:', 'url': 'https://www.youtube.com/s/gaming/emoji/0f0cae22/emoji_u1f415.svg'}\", \"這時{'id': '', 'txt': ':backhand_index_pointing_right:', 'url': 'https://www.youtube.com/s/gaming/emoji/0f0cae22/emoji_u1f449.svg'}8E7{'id': '', 'txt': ':backhand_index_pointing_right:', 'url': 'https://www.youtube.com/s/gaming/emoji/0f0cae22/emoji_u1f449.svg'}又裝聾作啞了{'id': '', 'txt': ':face_with_hand_over_mouth:', 'url': 'https://www.youtube.com/s/gaming/emoji/0f0cae22/emoji_u1f92d.svg'}{'id': '', 'txt': ':backhand_index_pointing_right:', 'url': 'https://www.youtube.com/s/gaming/emoji/0f0cae22/emoji_u1f449.svg'}{'id': '', 'txt': ':dog2:', 'url': 'https://www.youtube.com/s/gaming/emoji/0f0cae22/emoji_u1f415.svg'}\", '山水 之後換你染疫死亡，你要葬在山上？還是撒在海水？', '人家都說了.. 全民.. 綠蠅支持者...沒錢..覺的貴就不要買.. ', \"爸爸扣錢{'id': '', 'txt': ':face_screaming_in_fear:', 'url': 'https://www.youtube.com/s/gaming/emoji/0f0cae22/emoji_u1f631.svg'}{'id': '', 'txt': ':face_screaming_in_fear:', 'url': 'https://www.youtube.com/s/gaming/emoji/0f0cae22/emoji_u1f631.svg'}{'id': '', 'txt': ':face_screaming_in_fear:', 'url': 'https://www.youtube.com/s/gaming/emoji/0f0cae22/emoji_u1f631.svg'}{'id': '', 'txt': ':face_screaming_in_fear:', 'url': 'https://www.youtube.com/s/gaming/emoji/0f0cae22/emoji_u1f631.svg'}\", \"劉沛，快去宣揚韓發財吧！現在發財不是開始裝善人了，出書來騙人，沒違法啦！台灣人很善良，他會發財的！如果還不發財，就雙手高舉中華民國萬歲，雙腳{'id': '', 'txt': ':footprints:', 'url': 'https://www.youtube.com/s/gaming/emoji/0f0cae22/emoji_u1f463.svg'}走進中聯辦，一定能發財！\", '爆发疫情不想着赶快控制，还想着赚快筛的钱，笑死。你们选的~~', '说白了就是医院不够，资源不够', '狗肝+類博士 發大財', '現在確診人數，死亡率，阿中無感的', '爆发疫情不想着赶快控制，还想着赚快筛的钱，笑死。你们选的~~', '喔喔，想當主播', '快速投藥，哪來會這麼多人有中重症? 有些人輕症很快轉變成重症，綠媒還在辯稱不要亂吃藥', \"大陆坚持动态清零{'id': '', 'txt': ':thumbs_up:', 'url': 'https://www.youtube.com/s/gaming/emoji/0f0cae22/emoji_u1f44d.svg'}\", '我再告訴大家您們大家看看，最近高官就只會公告向道歉人民而已，那些高官還是可以每個月早領薪水，怎麽還可以當高官呢，人民是最好騙的，咳可憐的人民啊，祝福大家吧', '感染Omicron 不可小覷啊！', '慌了外加尿失禁', '因為他們不是0.03，所以無感？！', '爆发疫情不想着赶快控制，还想着赚快筛的钱，笑死。你们选的~~', '民進黨的所有貪官報應來了，Good', '人家都說了.. 全民.. 綠蠅支持者...沒錢..覺的貴就不要買.. ', '山水 之後換你染疫死亡，你要葬在山上？還是撒在海水？', \"劉沛，快去宣揚韓發財吧！現在發財不是開始裝善人了，出書來騙人，沒違法啦！台灣人很善良，他會發財的！如果還不發財，就雙手高舉中華民國萬歲，雙腳{'id': '', 'txt': ':footprints:', 'url': 'https://www.youtube.com/s/gaming/emoji/0f0cae22/emoji_u1f463.svg'}走進中聯辦，一定能發財！\", '政府擺爛 人民躺平 世界跟不上台灣', '145087，浪費糧食，枉為人', \"{'id': '1v50XorRJ8GQ8gTz_prwAg', 'txt': ':stayhome:', 'url': 'https://yt3.ggpht.com/u3QDxda8o4jrk_b01YtJYKb57l8Zw8ks8mCwGkiZ5hC5cQP_iszbsggxIWquZhuLRBzl5IEM2w=w24-h24-c-k-nd'}炸鍋。。\", '你们就完了', '一天40个，这样搞十天', '人民自己笨 找來的領導也不會強到哪', '217中重症如无法妥善治疗转成重症的可能性还是很大的', '与毒共存，藐视生命', \"{'id': '1v50XorRJ8GQ8gTz_prwAg', 'txt': ':stayhome:', 'url': 'https://yt3.ggpht.com/u3QDxda8o4jrk_b01YtJYKb57l8Zw8ks8mCwGkiZ5hC5cQP_iszbsggxIWquZhuLRBzl5IEM2w=w24-h24-c-k-nd'}用。。輕症。。謊言。。{'id': '1v50XorRJ8GQ8gTz_prwAg', 'txt': ':stayhome:', 'url': 'https://yt3.ggpht.com/u3QDxda8o4jrk_b01YtJYKb57l8Zw8ks8mCwGkiZ5hC5cQP_iszbsggxIWquZhuLRBzl5IEM2w=w24-h24-c-k-nd'}蓋鍋。。。\", '爆发疫情不想着赶快控制，还想着赚快筛的钱，笑死。你们选的~~', '人家都說了.. 全民.. 綠蠅支持者...沒錢..覺的貴就不要買.. ', '不會啦!還可以作票!', '寒粉 慌了 才趕緊誠清', '快速投藥，哪來會這麼多人有中重症? 有些人輕症很快轉變成重症，綠媒還在辯稱要不要亂吃', '沒辦法像某人可以有醫生到宅PCR?一般人只能「自主應變」，自己買快篩 自己篩。尤其家中抵抗力差的老人和小孩，有感冒症狀最好快篩一下，以免延誤病情，導致家破人亡？1110428', '爆发疫情不想着赶快控制，还想着赚快筛的钱，笑死。你们选的~~', '中國新冠治療藥獨獲世界發明專利，成就堪比諾貝爾獎。', '无辜死亡41个', '明天會下雨，娘要嫁人', '217中重症如无法妥善治疗转成重症的可能性还是很大的', '上海的快递和外卖员每天都要核酸，这个威力太强了', \"{'id': '', 'txt': ':rolling_on_the_floor_laughing:', 'url': 'https://www.youtube.com/s/gaming/emoji/0f0cae22/emoji_u1f923.svg'}{'id': '', 'txt': ':rolling_on_the_floor_laughing:', 'url': 'https://www.youtube.com/s/gaming/emoji/0f0cae22/emoji_u1f923.svg'}{'id': '', 'txt': ':rolling_on_the_floor_laughing:', 'url': 'https://www.youtube.com/s/gaming/emoji/0f0cae22/emoji_u1f923.svg'}难道蔡英文是学新闻学的？真会装，特定的群体还超级爱看空心菜\", '封城好了', '已屏蔽 時事豪笑員', \"三民自又粉飾太平{'id': '', 'txt': ':backhand_index_pointing_right:', 'url': 'https://www.youtube.com/s/gaming/emoji/0f0cae22/emoji_u1f449.svg'}半數死亡沒打疫苗{'id': '', 'txt': ':backhand_index_pointing_right:', 'url': 'https://www.youtube.com/s/gaming/emoji/0f0cae22/emoji_u1f449.svg'}半數打了也沒救活呀，腦呢？{'id': '', 'txt': ':face_with_hand_over_mouth:', 'url': 'https://www.youtube.com/s/gaming/emoji/0f0cae22/emoji_u1f92d.svg'}{'id': '', 'txt': ':face_with_hand_over_mouth:', 'url': 'https://www.youtube.com/s/gaming/emoji/0f0cae22/emoji_u1f92d.svg'}\", '一直推給別的部門', '爆发疫情不想着赶快控制，还想着赚快筛的钱，笑死。你们选的~~', '与毒共存，死了41个', '不是這樣吧，是要賺快篩的，美國農場都買了', '每個生命都是寶貴的', '爆发疫情不想着赶快控制，还想着赚快筛的钱，笑死。你们选的~~', '政府擺爛 人民躺平 世界跟不上台灣', '不是慌了！是不屑平民百姓的命！！！', '百姓只怕輪到自己感染突然惡化', '還說都輕症感冒?64972暴增41人死亡217例中重症.說輕症的這些人真該下地獄', '早就預告會掛很多人了，還叫共存,結果來了，還不願面對？掛掉的生前沒人權阿？沒繳稅嗎？政府為這些人做了什麼？還要擺爛躺平嗎？', '我再告訴大家您們大家看看，最近高官就只會公告向道歉人民而已，那些高官還是可以每個月早領薪水，怎麽還可以當高官呢，人民是最好騙的，咳可憐的人民啊，祝福大家吧', '又想骗老蓝男女，放心吧，到时候还是民进党赢。', '類戒嚴', '整個政府和黨都慌?', '時中神：覺得貴你們可以別買啊；政府又沒强迫你，自由市場民主機制懂？不懂就去多念書。感冒沒吃抗生素政府要不要賠？腦瓜子不清不楚！', \"南無阿彌陀佛{'id': '', 'txt': ':folded_hands:', 'url': 'https://www.youtube.com/s/gaming/emoji/0f0cae22/emoji_u1f64f.svg'}\", '少騙我選舉都會疫情不會', '想太多，是不鳥你，不是慌了！', '爆发疫情不想着赶快控制，还想着赚快筛的钱，笑死。你们选的~~', '你們聽的下去也是蠻厲害的。', '如果是故意的呢？細思極恐', '爆发疫情不想着赶快控制，还想着赚快筛的钱，笑死。你们选的~~', '下一個在家突然昏迷的是你嗎?', '民怨沸騰!百姓炸鍋!!革命無罪!!!造反有理!!!!', '84OO億布署到那裡了？現在連不拿疼都買不到..', '民怨沸騰!百姓炸鍋!!革命無罪!!!造反有理!!!!', '拿藥寒粉吃了 馬上隔辟 浪勒藥', \"何啟聖以前是橘黨'''''現ˋ在是民眾黨嗎?{'id': '\\\\u200d', 'txt': ':man_shrugging:', 'url': 'https://www.youtube.com/s/gaming/emoji/0f0cae22/emoji_u1f937_200d_2642.svg'}{'id': '\\\\u200d', 'txt': ':man_shrugging:', 'url': 'https://www.youtube.com/s/gaming/emoji/0f0cae22/emoji_u1f937_200d_2642.svg'}{'id': '\\\\u200d', 'txt': ':man_shrugging:', 'url': 'https://www.youtube.com/s/gaming/emoji/0f0cae22/emoji_u1f937_200d_2642.svg'}\", '爆发疫情不想着赶快控制，还想着赚快筛的钱，笑死。你们选的~~', '中國新冠治療藥獲得世界獨家發明專利', '民怨沸騰!百姓炸鍋!!革命無罪!!!造反有理!!!!', '劉沛，快去宣揚韓發財吧！現在發財不是開始裝善人了，出書來騙人，沒違法啦！台灣人很善良，他會發財的！', \"南無阿彌陀佛{'id': '', 'txt': ':folded_hands:', 'url': 'https://www.youtube.com/s/gaming/emoji/0f0cae22/emoji_u1f64f.svg'}\", '我再告訴大家您們大家看看，最近高官就只會公告向道歉人民而已，那些高官還是可以每個月早領薪水，怎麽還可以當高官呢，人民是最好騙的，咳可憐的人民啊，祝福大家吧', '爆发疫情不想着赶快控制，还想着赚快筛的钱，笑死。你们选的~~', '我長大要當唐鳳', '民怨沸騰!百姓炸鍋!!革命無罪!!!造反有理!!!!', '輕症轉重症也很快啊', '爆发疫情不想着赶快控制，还想着赚快筛的钱，笑死。你们选的~~', '民怨沸騰!百姓炸鍋!!革命無罪!!!造反有理!!!!', '死的不是阿六就是藍白 菜總統就說台灣防疫很好 綠色執政 品質保證 ', '山水 去抱克拉克陳跟菜ee 一人一邊大腿，你就能拿到快篩劑了', '爆发疫情不想着赶快控制，还想着赚快筛的钱，笑死。你们选的~~', '輕症就不會死嗎', '中研院+國衛院2年前量產快篩劑，哪去了??', '劉沛，快去宣揚韓發財吧！現在發財不是開始裝善人了，出書來騙人，沒違法啦！台灣人很善良，他會發財的！', \"{'id': '1v50XorRJ8GQ8gTz_prwAg', 'txt': ':stayhome:', 'url': 'https://yt3.ggpht.com/u3QDxda8o4jrk_b01YtJYKb57l8Zw8ks8mCwGkiZ5hC5cQP_iszbsggxIWquZhuLRBzl5IEM2w=w24-h24-c-k-nd'}沒錯。。。{'id': '1v50XorRJ8GQ8gTz_prwAg', 'txt': ':stayhome:', 'url': 'https://yt3.ggpht.com/u3QDxda8o4jrk_b01YtJYKb57l8Zw8ks8mCwGkiZ5hC5cQP_iszbsggxIWquZhuLRBzl5IEM2w=w24-h24-c-k-nd'}作假。。都慌了。。\", '民怨沸騰!百姓炸鍋!!革命無罪!!!造反有理!!!!', '医疗资源不够，死的会很多', '民怨沸騰!百姓炸鍋!!革命無罪!!!造反有理!!!!', '全部重症患者都是輕無症狀惡化而來', '前天3人在家昏迷 送醫急救無效 死後確診陽性', '人民都在水深水热之中煎熬。1450还能有勇气出来洗。真不配当台湾人，这种人就该把他赶出台湾，他爱去哪去哪', '爆发疫情不想着赶快控制，还想着赚快筛的钱，笑死。你们选的~~', '爆发疫情不想着赶快控制，还想着赚快筛的钱，笑死。你们选的~~', '還說都輕症感冒?64972暴增41人死亡217例中重症.說輕症的這些人真該下地獄', '選舉話術~~~最後一哩路。再被騙吧??', '我再告訴大家您們大家看看，最近高官就只會公告向道歉人民而已，那些高官還是可以每個月早領薪水，怎麽還可以當高官呢，人民是最好騙的，咳可憐的人民啊，祝福大家吧', '民怨沸騰!百姓炸鍋!!革命無罪!!!造反有理!!!!', '山水 去抱克拉克陳跟菜ee 一人一邊大腿，你就能拿到快篩劑了', '民怨沸騰!百姓炸鍋!!革命無罪!!!造反有理!!!!', '台湾人再不满，喊抗中保台、台湾南波万就解决了', '爆发疫情不想着赶快控制，还想着赚快筛的钱，笑死。你们选的~~', '山水 去抱克拉克陳跟菜ee 一人一邊大腿，你就能拿到快篩劑了', '我再告訴大家您們大家看看，最近高官就只會公告向道歉人民而已，那些高官還是可以每個月早領薪水，怎麽還可以當高官呢，人民是最好騙的，咳可憐的人民啊，祝福大家吧', '民怨沸騰!百姓炸鍋!!革命無罪!!!造反有理!!!!', '劉沛，快去宣揚韓發財吧！現在不是開始裝善人了，出書來騙人，沒違法啦！準備自己發財？台灣人很善良，他會發財的！', '山水 去抱克拉克陳跟菜ee 一人一邊大腿，你就能拿到快篩劑了', '民怨沸騰!百姓炸鍋!!革命無罪!!!造反有理!!!!', '既然，東華，畢竟，', '早就預告會掛很多人了，還叫共存,結果來了，還不願面對？掛掉的生前沒人權阿？沒繳稅嗎？政府為這些人做了什麼？還要擺爛躺平嗎？', '山水 去抱克拉克陳跟菜ee 一人一邊大腿，你就能拿到快篩劑了', '民怨沸騰!百姓炸鍋!!革命無罪!!!造反有理!!!!', \"{'id': '1v50XorRJ8GQ8gTz_prwAg', 'txt': ':stayhome:', 'url': 'https://yt3.ggpht.com/u3QDxda8o4jrk_b01YtJYKb57l8Zw8ks8mCwGkiZ5hC5cQP_iszbsggxIWquZhuLRBzl5IEM2w=w24-h24-c-k-nd'}準確。。。。。{'id': '1v50XorRJ8GQ8gTz_prwAg', 'txt': ':stayhome:', 'url': 'https://yt3.ggpht.com/u3QDxda8o4jrk_b01YtJYKb57l8Zw8ks8mCwGkiZ5hC5cQP_iszbsggxIWquZhuLRBzl5IEM2w=w24-h24-c-k-nd'}瞬間。。。。\", '爆发疫情不想着赶快控制，还想着赚快筛的钱，笑死。你们选的~~', '山水 去抱克拉克陳跟菜ee 一人一邊大腿，你就能拿到快篩劑了', '民怨沸騰!百姓炸鍋!!革命無罪!!!造反有理!!!!', '山水 去抱克拉克陳跟菜ee 一人一邊大腿，你就能拿到快篩劑了', '民怨沸騰!百姓炸鍋!!革命無罪!!!造反有理!!!!', '當綠共更丟臉', '我再告訴大家您們大家看看，最近高官就只會公告向道歉人民而已，那些高官還是可以每個月早領薪水，怎麽還可以當高官呢，人民是最好騙的，咳可憐的人民啊，祝福大家吧', \"三民自又粉飾太平{'id': '', 'txt': ':backhand_index_pointing_right:', 'url': 'https://www.youtube.com/s/gaming/emoji/0f0cae22/emoji_u1f449.svg'}半數死亡沒打疫苗{'id': '', 'txt': ':backhand_index_pointing_right:', 'url': 'https://www.youtube.com/s/gaming/emoji/0f0cae22/emoji_u1f449.svg'}半數打了也沒救活呀，腦呢？{'id': '', 'txt': ':face_with_hand_over_mouth:', 'url': 'https://www.youtube.com/s/gaming/emoji/0f0cae22/emoji_u1f92d.svg'}{'id': '', 'txt': ':face_with_hand_over_mouth:', 'url': 'https://www.youtube.com/s/gaming/emoji/0f0cae22/emoji_u1f92d.svg'}\", '民怨沸騰!百姓炸鍋!!革命無罪!!!造反有理!!!!', '山水 去抱克拉克陳跟菜ee 一人一邊大腿，你就能拿到快篩劑了', '41個家庭.. 破滅了.. 苦苦苦.. 誰知苦, 誰來救.. 自強獨立嗎 ? 沒錢覺得貴不要買拉..', '爆发疫情不想着赶快控制，还想着赚快筛的钱，笑死。你们选的~~', '政府擺爛 人民躺平 世界跟不上台灣', '山水 去抱克拉克陳跟菜ee 一人一邊大腿，你就能拿到快篩劑了', '爆发疫情不想着赶快控制，还想着赚快筛的钱，笑死。你们选的~~', '後悔沒開小吃店', '山水 去抱克拉克陳跟菜ee 一人一邊大腿，你就能拿到快篩劑了', '你们医院已经爆了', '爆发疫情不想着赶快控制，还想着赚快筛的钱，笑死。你们选的~~', '民怨沸騰!百姓炸鍋!!革命無罪!!!造反有理!!!!', '爆发疫情不想着赶快控制，还想着赚快筛的钱，笑死。你们选的~~', '民怨沸騰!百姓炸鍋!!革命無罪!!!造反有理!!!!', '民怨沸騰!百姓炸鍋!!革命無罪!!!造反有理!!!!', '爆发疫情不想着赶快控制，还想着赚快筛的钱，笑死。你们选的~~', '政府擺爛 人民躺平 世界跟不上台灣', \"{'id': '', 'txt': ':smiling_face_with_hearts:', 'url': 'https://www.youtube.com/s/gaming/emoji/0f0cae22/emoji_u1f970.svg'}{'id': '', 'txt': ':revolving_hearts:', 'url': 'https://www.youtube.com/s/gaming/emoji/0f0cae22/emoji_u1f49e.svg'}\", '劉沛，快去宣揚韓發財吧！現在不是開始裝善人了，準備自己發財？台灣人很善良，他會發財的！', '◆ 超前部署為『選舉』懂了吧～！...╮@(╯▽╰)@╭＊', \"{'id': '', 'txt': ':thumbs_up:', 'url': 'https://www.youtube.com/s/gaming/emoji/0f0cae22/emoji_u1f44d.svg'}{'id': '', 'txt': ':revolving_hearts:', 'url': 'https://www.youtube.com/s/gaming/emoji/0f0cae22/emoji_u1f49e.svg'}{'id': '', 'txt': ':zany_face:', 'url': 'https://www.youtube.com/s/gaming/emoji/0f0cae22/emoji_u1f92a.svg'}{'id': '', 'txt': ':woman:', 'url': 'https://www.youtube.com/s/gaming/emoji/0f0cae22/emoji_u1f469.svg'}\", '现在关键轻症没得治疗，就完蛋', \"{'id': '', 'txt': ':smiling_face_with_hearts:', 'url': 'https://www.youtube.com/s/gaming/emoji/0f0cae22/emoji_u1f970.svg'}{'id': '', 'txt': ':mouth:', 'url': 'https://www.youtube.com/s/gaming/emoji/0f0cae22/emoji_u1f444.svg'}{'id': '', 'txt': ':kiss:', 'url': 'https://www.youtube.com/s/gaming/emoji/0f0cae22/emoji_u1f48b.svg'}{'id': '', 'txt': ':red_heart:', 'url': 'https://www.youtube.com/s/gaming/emoji/0f0cae22/emoji_u2764.svg'}{'id': '', 'txt': ':red_heart:', 'url': 'https://www.youtube.com/s/gaming/emoji/0f0cae22/emoji_u2764.svg'}\", '爆发疫情不想着赶快控制，还想着赚快筛的钱，笑死。你们选的~~', \"{'id': '', 'txt': ':red_heart:', 'url': 'https://www.youtube.com/s/gaming/emoji/0f0cae22/emoji_u2764.svg'}{'id': '', 'txt': ':thumbs_up:', 'url': 'https://www.youtube.com/s/gaming/emoji/0f0cae22/emoji_u1f44d.svg'}{'id': '', 'txt': ':mouth:', 'url': 'https://www.youtube.com/s/gaming/emoji/0f0cae22/emoji_u1f444.svg'}{'id': '', 'txt': ':revolving_hearts:', 'url': 'https://www.youtube.com/s/gaming/emoji/0f0cae22/emoji_u1f49e.svg'}{'id': '', 'txt': ':revolving_hearts:', 'url': 'https://www.youtube.com/s/gaming/emoji/0f0cae22/emoji_u1f49e.svg'}{'id': '', 'txt': ':thumbs_up:', 'url': 'https://www.youtube.com/s/gaming/emoji/0f0cae22/emoji_u1f44d.svg'}\", '劉沛，要發財，最後一途就投共，雙手中華民國萬歲，雙腳走進中聯辦', '還說都輕症感冒?64972暴增41人死亡217例中重症.說輕症的這些人真該下地獄', '重感冒沒藥也是會死人的喔', '爆发疫情不想着赶快控制，还想着赚快筛的钱，笑死。你们选的~~', '左岸是寧可錯殺 暴力封城 右岸是連壓制的意願都沒 缺東缺西 理都不理 沒事 不就類感冒嘛 ', \"南無阿彌陀佛{'id': '', 'txt': ':folded_hands:', 'url': 'https://www.youtube.com/s/gaming/emoji/0f0cae22/emoji_u1f64f.svg'}\", '我再告訴大家您們大家看看，最近高官就只會公告向道歉人民而已，那些高官還是可以每個月早領薪水，怎麽還可以當高官呢，人民是最好騙的，咳可憐的人民啊，祝福大家吧', '41個家庭.. 破滅了.. 苦苦苦.. 誰知苦, 誰來救.. 自強獨立嗎 ? 沒錢覺得貴不要買拉..', '同學別申請了，綠的早內定了', '爆发疫情不想着赶快控制，还想着赚快筛的钱，笑死。你们选的~~', '山水 去抱克拉克陳大腿，你就能拿到快篩劑了', '爆发疫情不想着赶快控制，还想着赚快筛的钱，笑死。你们选的~~', '山水 去抱克拉克陳大腿，你就能拿到快篩劑了', '當寒粉 很丟臉！', '山水 去抱克拉克陳大腿，你就能拿到快篩劑了', '1450白莲教，还比较通！！！', \"三民自又粉飾太平{'id': '', 'txt': ':backhand_index_pointing_right:', 'url': 'https://www.youtube.com/s/gaming/emoji/0f0cae22/emoji_u1f449.svg'}半數死亡沒打疫苗{'id': '', 'txt': ':backhand_index_pointing_right:', 'url': 'https://www.youtube.com/s/gaming/emoji/0f0cae22/emoji_u1f449.svg'}半數打了也沒救活呀，腦呢？{'id': '', 'txt': ':face_with_hand_over_mouth:', 'url': 'https://www.youtube.com/s/gaming/emoji/0f0cae22/emoji_u1f92d.svg'}{'id': '', 'txt': ':face_with_hand_over_mouth:', 'url': 'https://www.youtube.com/s/gaming/emoji/0f0cae22/emoji_u1f92d.svg'}\", '合理問題，是，落下，，', \"三民自又粉飾太平{'id': '', 'txt': ':backhand_index_pointing_right:', 'url': 'https://www.youtube.com/s/gaming/emoji/0f0cae22/emoji_u1f449.svg'}半數死亡沒打疫苗{'id': '', 'txt': ':backhand_index_pointing_right:', 'url': 'https://www.youtube.com/s/gaming/emoji/0f0cae22/emoji_u1f449.svg'}半數打了也沒救活呀，腦呢？{'id': '', 'txt': ':face_with_hand_over_mouth:', 'url': 'https://www.youtube.com/s/gaming/emoji/0f0cae22/emoji_u1f92d.svg'}{'id': '', 'txt': ':face_with_hand_over_mouth:', 'url': 'https://www.youtube.com/s/gaming/emoji/0f0cae22/emoji_u1f92d.svg'}\", '爆发疫情不想着赶快控制，还想着赚快筛的钱，笑死。你们选的~~', \"{'id': '1v50XorRJ8GQ8gTz_prwAg', 'txt': ':stayhome:', 'url': 'https://yt3.ggpht.com/u3QDxda8o4jrk_b01YtJYKb57l8Zw8ks8mCwGkiZ5hC5cQP_iszbsggxIWquZhuLRBzl5IEM2w=w24-h24-c-k-nd'}一個班級。。沒了。。。{'id': '1v50XorRJ8GQ8gTz_prwAg', 'txt': ':stayhome:', 'url': 'https://yt3.ggpht.com/u3QDxda8o4jrk_b01YtJYKb57l8Zw8ks8mCwGkiZ5hC5cQP_iszbsggxIWquZhuLRBzl5IEM2w=w24-h24-c-k-nd'}一天。。\", '票投民進黨，墓地隨你躺', '爆发疫情不想着赶快控制，还想着赚快筛的钱，笑死。你们选的~~', \"南無阿彌陀佛{'id': '', 'txt': ':folded_hands:', 'url': 'https://www.youtube.com/s/gaming/emoji/0f0cae22/emoji_u1f64f.svg'}\", '時鐘只擔心僞陽，都不擔心他的所作所為會陽痿嗎？', '817-1450爸媽照都好年輕唷！停格！', '用爱治病', '爆发疫情不想着赶快控制，还想着赚快筛的钱，笑死。你们选的~~', '台灣只缺報應', '台灣醫療崩潰，醫療名聲一落千丈！@@', '台灣人的命在蔡EE眼裡好不值錢', '41死，還好？你是不是人啊！', \"{'id': '', 'txt': ':grinning_face_with_sweat:', 'url': 'https://www.youtube.com/s/gaming/emoji/0f0cae22/emoji_u1f605.svg'}{'id': '', 'txt': ':grinning_face_with_sweat:', 'url': 'https://www.youtube.com/s/gaming/emoji/0f0cae22/emoji_u1f605.svg'}{'id': '', 'txt': ':grinning_face_with_sweat:', 'url': 'https://www.youtube.com/s/gaming/emoji/0f0cae22/emoji_u1f605.svg'}回不去了\", '台灣只缺報應', '您已封鎖森林野人~~', '感冒啦。不用怕', '8400億,看几成在官員口袋,', '台灣本身只需要不要讓病毒進來.根本就不會有疫情.故意開放給病毒進來.只是為了賺錢.', '第一次聽到老師說白蓮教\\u3000恐怖喔', '药都不够，快死都不够，直接喊共存，这个政府是有多能耐啊？竟然还能选出这样的人来执政?', '41人都是寒粉 重新投胎嚇次別當寒粉惹！！', '他們的小孩都在國外所以不用奇怪', '您已封鎖森林野人~~', '怕偽陽就請醫生當場再做一次快篩，一次偽陽的機率如果是10%，兩次都偽陽的機率只剩0.01%了好嗎', \"{'id': 'GAZuYsiwF4e_8wTbvby4BQ', 'txt': ':_31怕:', 'url': 'https://yt3.ggpht.com/rbkOlf00M4hQ5YBtYz0pbtnGrm1gDJsbF5tHkzTJk6qztXttZSSsHp15fi5ydpl3xsjlPYwJ8w=w24-h24-c-k-nd'}{'id': 'GAZuYsiwF4e_8wTbvby4BQ', 'txt': ':_31怕:', 'url': 'https://yt3.ggpht.com/rbkOlf00M4hQ5YBtYz0pbtnGrm1gDJsbF5tHkzTJk6qztXttZSSsHp15fi5ydpl3xsjlPYwJ8w=w24-h24-c-k-nd'}{'id': 'GAZuYsiwF4e_8wTbvby4BQ', 'txt': ':_31怕:', 'url': 'https://yt3.ggpht.com/rbkOlf00M4hQ5YBtYz0pbtnGrm1gDJsbF5tHkzTJk6qztXttZSSsHp15fi5ydpl3xsjlPYwJ8w=w24-h24-c-k-nd'}\", '塔綠班無後啊，', '謀財害命', '陈时中自主应变的意思是——在家等死', '一星期要死幾百人，哪個輕症能做到，哈哈哈，共存', '您已封鎖森林野人~~', '劉沛，快去宣揚韓發財吧！現在不是開始裝善人了，準備自己發財？台灣人很善良，他會發財的！', '难得这个老师生气', \"三百開下去處理{'id': '', 'txt': ':smiling_face_with_sunglasses:', 'url': 'https://www.youtube.com/s/gaming/emoji/0f0cae22/emoji_u1f60e.svg'}{'id': '', 'txt': ':smiling_face_with_sunglasses:', 'url': 'https://www.youtube.com/s/gaming/emoji/0f0cae22/emoji_u1f60e.svg'}{'id': '', 'txt': ':smiling_face_with_sunglasses:', 'url': 'https://www.youtube.com/s/gaming/emoji/0f0cae22/emoji_u1f60e.svg'}{'id': '', 'txt': ':smiling_face_with_sunglasses:', 'url': 'https://www.youtube.com/s/gaming/emoji/0f0cae22/emoji_u1f60e.svg'}{'id': '', 'txt': ':smiling_face_with_sunglasses:', 'url': 'https://www.youtube.com/s/gaming/emoji/0f0cae22/emoji_u1f60e.svg'}{'id': '', 'txt': ':smiling_face_with_sunglasses:', 'url': 'https://www.youtube.com/s/gaming/emoji/0f0cae22/emoji_u1f60e.svg'}\", '哈哈哈', '台灣本身只需要不要讓病毒進來.根本就不會有疫情.故意開放給病毒進來.只是為了賺錢.', '從2戰以後至今,看到的美國只有自身利益,毫無盟國之誼,我們都看得懂為何執政卻始終把美國當作唯一依靠?看看台灣為美國這20年因為購買三流軍火花了多少美金?換算台幣不知有幾十兆?', '今日台湾新增200多例中重症！不是残废也难逃一死了。', '唉！', \"南無阿彌陀佛{'id': '', 'txt': ':folded_hands:', 'url': 'https://www.youtube.com/s/gaming/emoji/0f0cae22/emoji_u1f64f.svg'}\", '41個家庭.. 破滅了.. 苦苦苦.. 誰知苦, 誰來救.. 自強獨立嗎 ? ', '今日台湾新增200多例中重症！不是残废也难逃一死了。', '三个人气死的，哈哈', '死亡率最高+確診率最高~~~真的很悲哀', '今日台湾新增200多例中重症！不是残废也难逃一死了。', '感冒藥根本沒有什麼效果', '大陆重症都是有专门的治疗小组针对用药，台湾有能力应对每天200的新增重症？', '還記得前一陣子\\u3000有感染科醫師名嘴說希望看到一次數字快速上升期\\u3000莫不是．．．\\u3000細思極恐．恐怖喔', '忘了，醬先生，何必毒手', '41死亡真的太多了', '一星期要死幾百人，哪個輕症能做到，哈哈哈，共存', '劉沛，快去宣揚韓發財吧！現在不是開始裝善人了，準備自己發財？台灣人很善良，他會發財的！', '今日台湾新增200多例中重症！不是残废也难逃一死了。', \"{'id': '1v50XorRJ8GQ8gTz_prwAg', 'txt': ':stayhome:', 'url': 'https://yt3.ggpht.com/u3QDxda8o4jrk_b01YtJYKb57l8Zw8ks8mCwGkiZ5hC5cQP_iszbsggxIWquZhuLRBzl5IEM2w=w24-h24-c-k-nd'}確診。。{'id': '1v50XorRJ8GQ8gTz_prwAg', 'txt': ':stayhome:', 'url': 'https://yt3.ggpht.com/u3QDxda8o4jrk_b01YtJYKb57l8Zw8ks8mCwGkiZ5hC5cQP_iszbsggxIWquZhuLRBzl5IEM2w=w24-h24-c-k-nd'}50%>>\", '還說都輕症感冒?64972暴增41人死亡217例中重症.說輕症的這些人真該下地獄', '绿陈的心早已经飞走了', '因为药没有用，用了也是白用的', '今日台湾新增200多例中重症！不是残废也难逃一死了。', '元宇宙里没有病毒，眼不见为净，美滋滋，元宇宙里可以做着台独梦。', \"乾燥 最高 {'id': '', 'txt': '', 'url': 'https://www.youtube.com/s/gaming/emoji/0f0cae22/emoji_u1f448_1f3fb.svg'}{'id': '', 'txt': ':waving_hand:', 'url': 'https://www.youtube.com/s/gaming/emoji/0f0cae22/emoji_u1f44b.svg'}\", '今日台湾新增200多例中重症！不是残废也难逃一死了。', '數字+來-去：那ㄧ個知道！到底實際是多少人！騙過來片過去！一天又過去了', '今日台湾新增200多例中重症！不是残废也难逃一死了。', '偽人，類人類，時中真的是人？？？', '這些吃裡扒的人', '呼叫萎陽', '881疫苗連817都不挺ㄛ...!!', '我就比较实际，担心台妹的性生活！！！', '劉沛，快去宣揚韓發財吧！現在不是開始裝善人了，準備自己發財？台灣人很善良，他會發財的！', '今日台湾新增200多例中重症！不是残废也难逃一死了。', '41個家庭.. 破滅了.. 苦苦苦.. 誰知苦, 誰來救.. 自強獨立嗎 ?', '台灣只缺報應', '今日台湾新增200多例中重症！不是残废也难逃一死了。', '山水是渣渣', '一星期要死幾百人，哪個輕症能做到，哈哈哈，共存', '因为药没有用，用了也是白用的', '不求同年同月同日生，但求同年同月同日死，这就是陈时中的防疫政策', '今日台湾新增200多例中重症！不是残废也难逃一死了。', '劉沛，快去宣揚韓發財吧！現在不是開始裝善人了，準備自己發財？台灣人很善良，他會發財的！', '山姆 平常很俗啦只會躲起來酸的 今天 瘋啦', '今日台湾新增200多例中重症！不是残废也难逃一死了。', '因为药没有用，用了也是白用的', \"死亡人數大字報快要裝不下了{'id': '‼', 'txt': ':double_exclamation_mark:', 'url': 'https://www.youtube.com/s/gaming/emoji/0f0cae22/emoji_u203c.svg'}{'id': '‼', 'txt': ':double_exclamation_mark:', 'url': 'https://www.youtube.com/s/gaming/emoji/0f0cae22/emoji_u203c.svg'}{'id': '‼', 'txt': ':double_exclamation_mark:', 'url': 'https://www.youtube.com/s/gaming/emoji/0f0cae22/emoji_u203c.svg'}\", '今日台湾新增200多例中重症！不是残废也难逃一死了。', '41個家庭.. 破滅了.. 苦苦苦.. 誰知苦, 誰來救.. 自強獨立嗎 ?', '今日台湾新增200多例中重症！不是残废也难逃一死了。', '有人的臉書不食人間煙火，疫情持續擴散，還在提元宇宙，真不知道她是活在那個多重宇宙？難怪臉書這兩天被買不到快篩和確診沒辦法得到醫療照顧的人 洗板。1110513.', '今日台湾新增200多例中重症！不是残废也难逃一死了。', \"台湾有国民党在，大陆人民就放心了{'id': '', 'txt': ':relieved_face:', 'url': 'https://www.youtube.com/s/gaming/emoji/0f0cae22/emoji_u1f60c.svg'}\", '醬先生', '今日台湾新增200多例中重症！不是残废也难逃一死了。', '药在哪里？拿给人民', '今日台湾新增200多例中重症！不是残废也难逃一死了。', '只會在這台哭夭，不爽去安樂啊 菜英文萬歲 該發聲不出來 現在網路靠啥會', '看樣子還是有很多被洗腦族洗腦的還不死心，還是相信黨的決定，完全都是別人的錯，難怪人心惶惶人民如此不安', \"南無阿彌陀佛{'id': '', 'txt': ':folded_hands:', 'url': 'https://www.youtube.com/s/gaming/emoji/0f0cae22/emoji_u1f64f.svg'}\", \"gg也沒爸沒媽{'id': '', 'txt': ':rocket:', 'url': 'https://www.youtube.com/s/gaming/emoji/0f0cae22/emoji_u1f680.svg'}\", '41真的只是开始，看上海防疫力度，再对比台湾，死亡人数真的只是开始', '怎不給藥呢？ 人命關天啊', '叫你們打高端不聽', '您已封鎖山水~~', '中国人的价值观和美国人价值观是不同的，儒家价值观是接受不了这样的合理死亡的', '一星期要死幾百人，哪個輕症能做到，哈哈哈，共存', '劉沛，快去宣揚韓發財吧！現在不是開始裝善人了，準備自己發財？', '药在哪里？拿出来', '山水 你可以去看華視出包，不要來亂', '為了抄錢部署，草菅人命', '滑視是娛樂新聞台了吧？還打陳x人是「美副總統」，笑死', '一星期要死幾百人，哪個輕症能做到，哈哈哈，共存', '41死,還好？你是不是人啊！', '當一個防疫部長説話沒良心冷血！我也想請問部長你！沒有下一代嗎？請要有同理心！不會講話！就不耍頂嘴沒有人會說你是啞吧！小心受天遣！', '山姆 你怎麼還沒掛 為什麼', '蔡英文 陳時中 你們頭上有枉死冤魂 2482人(增加中)。(新冠死亡 1009人 最年輕 2歲)(打疫苗猝死 1473人)', \"{'id': '1v50XorRJ8GQ8gTz_prwAg', 'txt': ':stayhome:', 'url': 'https://yt3.ggpht.com/u3QDxda8o4jrk_b01YtJYKb57l8Zw8ks8mCwGkiZ5hC5cQP_iszbsggxIWquZhuLRBzl5IEM2w=w24-h24-c-k-nd'}下標。。正確。。{'id': '1v50XorRJ8GQ8gTz_prwAg', 'txt': ':stayhome:', 'url': 'https://yt3.ggpht.com/u3QDxda8o4jrk_b01YtJYKb57l8Zw8ks8mCwGkiZ5hC5cQP_iszbsggxIWquZhuLRBzl5IEM2w=w24-h24-c-k-nd'}有病。。。\", '藥物，是給狗官用的，人民拿不到的，大家不要期待', '小朋友的「三隻小豬」撲滿「確診」！！！（連小朋友的零用錢，都（？）的那副嘴臉！）兒童疫苗！超前佈署？特效疫苗嗎？馬上打馬上. 有抗體. 。', \"因为疫情大家情绪不稳定厚，，疫情过去就好了厚，，病毒去世很正常厚ᥬ{'id': '', 'txt': ':face_with_tears_of_joy:', 'url': 'https://www.youtube.com/s/gaming/emoji/0f0cae22/emoji_u1f602.svg'}᭄\", '死掉的不是数字，是人！人权在兹有冥主的台湾不是很被看中吗？现在要躺平齁？', '劳资是山里的，还管它封不封城！！！', '41張床空出來 下一批 和潛艦一樣 熱床', '一星期要死幾百人，哪個輕症能做到，哈哈哈，共存', '死亡日期介於5月2日至5月10日, 死了几天才报', '這些都是老人，怕重症', '只在乎偽陽，快速投藥，哪來會這麼多人有中重症', '蔡英文 陳時中 你們頭上有枉死冤魂 2482人(增加中)。(新冠死亡 1009人 最年輕 2歲)(打疫苗猝死 1473人)', '死掉的不是数字，是人！人权在兹有冥主的台湾不是很被看中吗？现在要躺平齁？', '陳時忠 死亡人數 只是數字跳動而已嗎 知道總人口數多少嗎 去年死亡800多 忘了嗎 ', '真實的話給大家聽（友話直說）', '她出來也沒有用，因為跟她們家裡沒有關係！', '這種政府 今天還有人駡不錯了！ 代表還有些活人', '還說都輕症感冒?64972暴增41人死亡217例中重症.說輕症的這些人真該下地獄', '死掉的不是数字，是人！人权在兹有冥主的台湾不是很被看中吗？现在要躺平齁？', '劉沛，快去宣揚韓發財吧', '您已封鎖山水~~', '一星期要死幾百人，哪個輕症能做到', '來福狗先掛喔 哈哈哈', \"老虎出沒請注意{'id': '', 'txt': ':persevering_face:', 'url': 'https://www.youtube.com/s/gaming/emoji/0f0cae22/emoji_u1f623.svg'}\", '世界怎麼跟得上台灣 : 只有我們要排隊買快篩', '科学主义', '菜阿嬷無感覺', '今天陳時中聽到記者發問有關侯友宜及柯文哲針對疫情的發言，陳時中就爆衝發脾氣…..今天陳時中聽到記者發問有關侯友宜及柯文哲針對疫情的發言，陳時中就爆衝發脾氣…..今天陳時中聽到記者發問有關侯友宜及柯文哲針對疫情的發言，陳時中就爆衝發脾氣…..', '爛咖 每天討罵', '您已封鎖山水~~', '人家根本就不会在乎，别一厢情愿，开会是为了应对舆论的压力，还有选举。', '一星期要死幾百人，哪個輕症能做到', '800多都不夠ㄌ 41 = =', '今天陳時中聽到記者發問有關侯友宜及柯文哲針對疫情的發言，陳時中就爆衝發脾氣…..今天陳時中聽到記者發問有關侯友宜及柯文哲針對疫情的發言，陳時中就爆衝發脾氣…..', '蔡阿嬤是下一個', \"去韓単于 故郷？ {'id': '', 'txt': ':waving_hand:', 'url': 'https://www.youtube.com/s/gaming/emoji/0f0cae22/emoji_u1f44b.svg'}\", '41死還好啦 去年真實死亡人數破萬', '死掉的不是数字，是人！人权在兹有冥主的台湾不是很被看中吗？现在要躺平齁？', \"4不吉利，要改成8。 冥进挡发，发，发{'id': '', 'txt': ':zany_face:', 'url': 'https://www.youtube.com/s/gaming/emoji/0f0cae22/emoji_u1f92a.svg'}\", '山姆 你為什麼 還沒掛', '神隱少女的臉書被洗版，洗到塔綠班網軍都來不及檢舉。有人還在把自己當局外人，還在元宇宙？怎麼知道民間疾苦？ 1110513', '高峰時期，貔貅，妳總是想到原畫', '菜EE誰選出來的？可悲啊！', '北京封城了，恭喜', '您已封鎖PK~~', '小心蔡英文用軍警', '他們良心飛去元宇宙了啦', '死掉的不是数字，是人！人权在兹有冥主的台湾不是很被看中吗？现在要躺平齁？', '您已封鎖PK~~', '台湾人的掌上明珠，蔡英文、陈菊、周玉蔻', '41個家庭.. 破滅了.. 苦苦苦.. 誰知苦', '山水去看華視啊', '您已封鎖PK~~', '人權去跟上海人說吧', '塔綠斑來囉？', '@PK 高血压可以采用中医治疗啊，大陆香港都在用中医，死亡率比韩国还低', '蔡阿罵', '死掉的不是数字，是人！人权在兹有冥主的台湾不是很被看中吗？现在要躺平齁？', '沒特權只能等死不要承認', '死掉的不是数字，是人！人权在兹有冥主的台湾不是很被看中吗？现在要躺平齁？', '快速投藥，哪來會這麼多人有中重症', '重症才給藥 24歲女枉死', '蔡英文踹共', '死掉的不是数字，是人！人权在兹有冥主的台湾不是很被看中吗？现在要躺平齁？', '狗來福還是觀落陰共存喔', \"41{'id': '', 'txt': ':face_with_symbols_on_mouth:', 'url': 'https://www.youtube.com/s/gaming/emoji/0f0cae22/emoji_u1f92c.svg'}{'id': '', 'txt': ':face_with_symbols_on_mouth:', 'url': 'https://www.youtube.com/s/gaming/emoji/0f0cae22/emoji_u1f92c.svg'}{'id': '', 'txt': ':face_with_symbols_on_mouth:', 'url': 'https://www.youtube.com/s/gaming/emoji/0f0cae22/emoji_u1f92c.svg'}{'id': '', 'txt': ':face_with_symbols_on_mouth:', 'url': 'https://www.youtube.com/s/gaming/emoji/0f0cae22/emoji_u1f92c.svg'}\", '時鐘表示，每天都有人死亡，多一兩人還好', '死掉的不是数字，是人！人权在兹有冥主的台湾不是很被看中吗？现在要躺平齁？', '重症才給藥 24歲女枉死', '抄錢部瞢..就是沒虊品..沒快葭..人民要什麼沒什麼,..', '中天又在唱衰台灣，中天關的好', \"死亡人數快要寫不下了{'id': '', 'txt': ':angry_face_with_horns:', 'url': 'https://www.youtube.com/s/gaming/emoji/0f0cae22/emoji_u1f47f.svg'}{'id': '', 'txt': ':angry_face_with_horns:', 'url': 'https://www.youtube.com/s/gaming/emoji/0f0cae22/emoji_u1f47f.svg'}{'id': '', 'txt': ':angry_face_with_horns:', 'url': 'https://www.youtube.com/s/gaming/emoji/0f0cae22/emoji_u1f47f.svg'}\", '41個家庭.. 破滅了.. 苦苦苦.. 誰知苦', '友志哥都講最真實的話給大家聽（友話直說）', \"山姆 為什麼你還在 你還沒掛阿 {'id': '', 'txt': ':face_with_tears_of_joy:', 'url': 'https://www.youtube.com/s/gaming/emoji/0f0cae22/emoji_u1f602.svg'}\", '美国和100万死去的人谈人权。是讽刺吗？台湾要学不？', '还是那句，我蛮担心台妹以后的性生活的！！！台湾郎确诊后短3cm！！！大家怎么说，1450怎么说！！！', \"{'id': '', 'txt': ':mouse:', 'url': 'https://www.youtube.com/s/gaming/emoji/0f0cae22/emoji_u1f42d.svg'}\", '2266 亂七八糟 超想罵髒話', '政府杀人', '好好回去看書…………', '死掉的不是数字，是人！人权在兹有冥主的台湾不是很被看中吗？现在要躺平齁？', '垃圾', \"{'id': '', 'txt': ':mouse:', 'url': 'https://www.youtube.com/s/gaming/emoji/0f0cae22/emoji_u1f42d.svg'}{'id': '', 'txt': ':mouse:', 'url': 'https://www.youtube.com/s/gaming/emoji/0f0cae22/emoji_u1f42d.svg'}\", '每天都在罵政府', '死掉的不是数字，是人！人权在兹有冥主的台湾不是很被看中吗？现在要躺平齁？', \"{'id': '', 'txt': ':mouse:', 'url': 'https://www.youtube.com/s/gaming/emoji/0f0cae22/emoji_u1f42d.svg'}{'id': '', 'txt': ':mouse:', 'url': 'https://www.youtube.com/s/gaming/emoji/0f0cae22/emoji_u1f42d.svg'}{'id': '', 'txt': ':mouse:', 'url': 'https://www.youtube.com/s/gaming/emoji/0f0cae22/emoji_u1f42d.svg'}{'id': '', 'txt': ':mouse:', 'url': 'https://www.youtube.com/s/gaming/emoji/0f0cae22/emoji_u1f42d.svg'}\", '死掉的不是数字，是人！人权在兹有冥主的台湾不是很被看中吗？现在要躺平齁？', '41死還好啦 去年真實死亡人數破萬', '死掉的不是数字，是人！人权在兹有冥主的台湾不是很被看中吗？现在要躺平齁？', '政府請給台灣人民藥品跟篩劑，救救台灣人民', '多41張空床 下一批', '人家友志是將官 講話單刀直入 不拐彎抹角', '快速投藥，哪來會這麼多人有中重症', '817-41希望是1450-41', '78人 顆顆', '藥很貴，捨不得給人民用', \"{'id': '1v50XorRJ8GQ8gTz_prwAg', 'txt': ':stayhome:', 'url': 'https://yt3.ggpht.com/u3QDxda8o4jrk_b01YtJYKb57l8Zw8ks8mCwGkiZ5hC5cQP_iszbsggxIWquZhuLRBzl5IEM2w=w24-h24-c-k-nd'}製氧機。。輔助。。。\", '產婦重症不會一尸兩命吧', \"這些人都是{'id': '', 'txt': '', 'url': 'https://www.youtube.com/s/gaming/emoji/0f0cae22/emoji_u1f236.svg'}高血壓哦\", '（7）本46377境159死11人（8）本44294境67死12人（9）本40263境41死12人（10）本50780境48死12人（11）本57188境28死8人（12）本65385境61死17人累積（13）64972境39死41人中重症1180人（156人死亡）', '要死到一萬人以上....請自求多福', \"菜大公主，菜大小姐ᥬ{'id': '', 'txt': ':face_with_tears_of_joy:', 'url': 'https://www.youtube.com/s/gaming/emoji/0f0cae22/emoji_u1f602.svg'}᭄ᥬ{'id': '', 'txt': ':face_with_tears_of_joy:', 'url': 'https://www.youtube.com/s/gaming/emoji/0f0cae22/emoji_u1f602.svg'}᭄\", '今天他還在說偽陽性、限制人身自由', '跟他死的更快', '快速投藥，哪來會這麼多人有中重症', '去那 里', '死人还有啥人权？死人不能投票', '高峰肯定还没来，看韩国高峰期40万', '大家不用看前面的确诊，筛检量如此，关键是后面的死亡人数', '來猜 阿中 多久會轉彎', '塔綠斑:817萬 -41還好阿', '注意保护老人和小孩。年轻人身体还能扛一下。', '還說都輕症感冒?64972暴增41人死亡217例中重症.說輕症的這些人真該下地獄', '友志哥都講最真實的話給大家聽（友話直說）', '41個家庭.. 破滅了.. 苦苦苦.. 誰知苦', '山姆 還沒掛阿 嗨', '死的\\u3000在他們眼中只是數字多寡．．．', ' 我確診要自己負責', '高峰還沒來 ??? ', '綠媒請拿出良心跟道德，一起來監督政府', '中重症暴增217例！20多歲女產後大出血驗出新冠「首例產婦重症」', '41死還好啦 去年真實死亡人數破萬', '民主大法好啊，感染就自由啦！！！', '中重症暴增217例！20多歲女產後大出血驗出新冠「首例產婦重症」', '人在做天在看', '節哀', '抄錢佈署....賺再多死後能帶走去享用嗎????', '中重症暴增217例！20多歲女產後大出血驗出新冠「首例產婦重症」', '到時候校正回歸、蓋牌', '但現在不是這樣跟美國一樣搞這種特權種族歧視這種病態我們不服', '没药，搞点风油精应急。', '中重症暴增217例！20多歲女產後大出血驗出新冠「首例產婦重症」', '2020年起累計1,009例COVID-19死亡病例，其中994例本土', '其实瑞德西韦有很大副作用，很多老年人不能用，大陆和港澳都是中医为主', '中重症暴增217例！20多歲女產後大出血驗出新冠「首例產婦重症」', '友志哥都講最真實的話給大家聽（友話直說）', '呵呵呵 來福狗 龜', '41個家庭.. 破滅了.. 苦苦苦.. 誰知苦', '敢給確診亡者上香嗎', '人权啊，是人优先活着的权利，死都没了，人权是什么？', '就算是每天死410,000個人台灣人一樣不會覺醒', '每次都要妖魔化對岸，人家大度要幫忙都不肯，現在死的人越来越多了！', '1450义和团，刀枪不入！！！', '因為死的 不是 他們家的人 所以不會痛....所以心裡就會OS回你\\u3000不然你要怎樣\\u3000．．．．嘿嘿嘿', '41在政客眼中只是數字', \"台北第二殡仪馆已经烧坏两台焚化炉了厚{'id': '', 'txt': ':zany_face:', 'url': 'https://www.youtube.com/s/gaming/emoji/0f0cae22/emoji_u1f92a.svg'}\", '蔡英文說台灣防疫很好，越講人越不敢出去', '呵呵呵呵！', '還是三立好，中共跟韓國魚的陰謀', '死亡丧钟', \"塔克拉瑪干沙漠 {'id': '', 'txt': ':circus_tent:', 'url': 'https://www.youtube.com/s/gaming/emoji/0f0cae22/emoji_u1f3aa.svg'}\", '喔，拔毛', '報數的今天見笑轉生氣', \"{'id': 'Iv90XouTLuOR8gSxxrToBA', 'txt': ':goodvibes:', 'url': 'https://yt3.ggpht.com/6LPOiCw9bYr3ZXe8AhUoIMpDe_0BglC4mBmi-uC4kLDqDIuPu4J3ErgV0lEhgzXiBluq-I8j=w24-h24-c-k-nd'}\", '陳時中害死很多人了', '中國中醫藥千金藤，獲得世界獨家發明專利。', '145087選出來的，結果把145087打成最低階層！', '时中报丧钟', '蔡英文爆政', '我是好人', '這些官員是不是父母生的，報應一定會在你的家人', '沒有藥!你要怎樣??', '不開心來打我', '沒有藥!你要怎樣??', \"必须高票冻蒜市长，一切抹黑都是破坏皿煮和兹油，干涉时台选举{'id': '', 'txt': ':zany_face:', 'url': 'https://www.youtube.com/s/gaming/emoji/0f0cae22/emoji_u1f92a.svg'}{'id': '', 'txt': ':zany_face:', 'url': 'https://www.youtube.com/s/gaming/emoji/0f0cae22/emoji_u1f92a.svg'}开罚300万！\", \"寒粉你們也曉得你們平常很87吼 海要玩嗎 {'id': '', 'txt': ':face_with_hand_over_mouth:', 'url': 'https://www.youtube.com/s/gaming/emoji/0f0cae22/emoji_u1f92d.svg'}\", '沒有藥!你要怎樣??', '沒有藥!你要怎樣??', '友志哥加油', '來打我', '人命一條 憑什說共存 初始憑什不壓制 憑什甩醫專建言 陳時忠官真大', '這是人命，不是數字', '漢廷加油！', '沒有藥!你要怎樣??', '香港疫情在大陆中医支持下，死亡率万分之7.8，低于韩国万分之13', '都來打我', '沒有藥!你要怎樣??', '（3）本23102境37人死5人（4）本28420境67死5人（5）本30035境71人死5人（6）本36168境45死10人（7）本46377境159死11人（8）本44294境67死12人（9）本40263境41死12人（10）本50780境48死12人（11）本57188境28死8人（12）本65385境61死17人累積（13）64972境39死41人中重症1180人（156人死亡）', 'EE：我的執著無能又害死追隨者死了41人', '沒有藥!你要怎樣??', '綠媒還在辯稱藥不要亂吃', '辛苦九天', '沒有藥!你要怎樣??', '沒有藥!你要怎樣??', '主播打我，我不還手', '快速給藥，哪來會這麼多人有中重症', '沒有藥!你要怎樣??', '香港疫情在大陆中医支持下，死亡率万分之7.8，低于韩国万分之13', '還說都輕症感冒?64972暴增41人死亡217例中重症.說輕症的這些人真該下地獄', '不要罵時鐘', '中重症暴增217例！20多歲女產後大出血驗出新冠「首例產婦重症」', '滅活奧密克戎，千金藤世界第一', '中重症暴增217例！20多歲女產後大出血驗出新冠「首例產婦重症」', '別氣死自己.. 人家在邊玩宇宙邊捅錢 國自己王國生活 等牠們自己為了分贓不均內鬨吧', \"我今天不可愛{'id': '', 'txt': ':persevering_face:', 'url': 'https://www.youtube.com/s/gaming/emoji/0f0cae22/emoji_u1f623.svg'}\", '快來打我', \"南無阿彌陀佛{'id': '', 'txt': ':folded_hands:', 'url': 'https://www.youtube.com/s/gaming/emoji/0f0cae22/emoji_u1f64f.svg'}\", '中重症暴增217例！20多歲女產後大出血驗出新冠「首例產婦重症」', '41個家庭.. 破滅了.. 苦苦苦.. 誰能知', '不爽就打我', '中重症暴增217例！20多歲女產後大出血驗出新冠「首例產婦重症」', '中重症暴增217例！20多歲女產後大出血驗出新冠「首例產婦重症」', '武漢肺炎害全球', '塔绿板会说：这是有预见有计划的死亡，死的毫不意外，死的情理之中，死的自然，死的成功', '中重症217名！往後幾天數字⋯⋯⋯', '不要罵民進黨了', '中重症暴增217例！20多歲女產後大出血驗出新冠「首例產婦重症」', '连花清瘟不是万能的特效药，是抑制和辅助的。不过便宜，效果还好，尤其反应不强烈，小孩可以用。', '中重症暴增217例！20多歲女產後大出血驗出新冠「首例產婦重症」', '41個人不是數字是人命', '打我啦', '外食的，是', '防疫魔犯生！（連哭都不哭了不演了？一屍兩命！）沒快篩，沒黑數', '41死，共存好嗎？', '緑地〜砂漠 破壊民族 去那', '对于想共存的人是正常的，因为死的不是他家人', '中重症1180', \"掃o{'id': '', 'txt': ':persevering_face:', 'url': 'https://www.youtube.com/s/gaming/emoji/0f0cae22/emoji_u1f623.svg'}\", '8E7都習慣了', '台湾特权阶层是不怕新冠啊~你们老百姓呢？甘愿当盘子吗？死的不是特权阶级欸~~', '台灣4月27日至5月13日新冠死亡人數已達153人，積極染疫？沒人性！！！', '中國世界第一', '台湾特权阶层是不怕新冠啊~你们老百姓呢？甘愿当盘子吗？死的不是特权阶级欸~~', '綠媒還在辯稱藥不要亂吃', '防疫做得好~~~生意沒煩惱。~再無腦綠啊~~', '中國世界第一', '台湾特权阶层是不怕新冠啊~你们老百姓呢？甘愿当盘子吗？死的不是特权阶级欸~~', '41個家庭.. 破滅了.. 苦阿', '中國世界第一', '防疫既做不好..為何不下台? 抄錢布署', '也就是说CT40确诊的比CT30确诊的患者体内病毒减小了 1600倍', '中國世界第一', '習先生你睡得好嗎?你們有清華在職法學博士研究生在搞動態清零卻死更多人嗎？3天篩好2500萬人?封完上海到青海1.5萬人死亡有負責嗎?北京清華有飯吃嗎?然後他要負責小區鑰匙用繩子垂降嗎?還要幫忙送水、送便當?有禁內用嗎?孕婦遭黨員突擊隊毆打、小提琴手急性胰腺炎跳樓、江蘇1歲半幼兒噎到疑因無核酸證明被拒診死亡有負什麼責任?請問他有1.5本論文嗎?------->當552能賺多少?大家有沒有毛毛der', '說吧，承接', '是該讓蓮花清瘟膠囊進來台灣', '台湾特权阶层是不怕新冠啊~你们老百姓呢？甘愿当盘子吗？死的不是特权阶级欸~~', '這次疫情看民眾會不會醒 年底讓民進黨下台囉 罵民進黨沒用 民進黨只怕選舉選輸', '只要扯1450、817就好了嗎\\u3000我真是白眼翻翻------------------>當552能賺多少?大家有沒有毛毛der', '台湾特权阶层是不怕新冠啊~你们老百姓呢？甘愿当盘子吗？死的不是特权阶级欸~~', '寒粉 掛了 41太少了 以後還有', '死了還拿不到藥 ', '還說都輕症感冒?64972暴增41人死亡217例中重症.說輕症的這些人真該下地獄', '41個家庭.. 破滅.. 苦阿', '防疫中心真的是個笑話，8000多億搞不好普篩，之前還在騙民眾清0超前部署，都沒篩檢哪來的清0阿。', '台湾特权阶层是不怕新冠啊~你们老百姓呢？甘愿当盘子吗？死的不是特权阶级欸~~', '篩P眼', '台湾特权阶层是不怕新冠啊~你们老百姓呢？甘愿当盘子吗？死的不是特权阶级欸~~', '自生自滅和自主等死 蔡英文還在乎百姓和醫護人員嗎', '145087選出來的，結果把145087自己打成最低階層，活該吧！', '817死了41人也要南無阿彌陀佛', '41人今天都落在谁家？明天还在这里的人，会不会有一个忙着没时间来唠嗑，忙着收尸', '中國中醫藥千金藤成為世界的救星，中國領導世界。', '乾乾', '民進黨的人為了自己的利益說盡謊話害死人也不會良心不安啦⋯⋯', '搞不好郭董可以競標', 'CT值30和CT值40 别看就差10点但是按照国际算法好像是相差1600倍', \"怎么沒有1450的人、尤其是他的親人{'id': '', 'txt': ':pouting_face:', 'url': 'https://www.youtube.com/s/gaming/emoji/0f0cae22/emoji_u1f621.svg'}{'id': '', 'txt': ':pouting_face:', 'url': 'https://www.youtube.com/s/gaming/emoji/0f0cae22/emoji_u1f621.svg'}{'id': '', 'txt': ':pouting_face:', 'url': 'https://www.youtube.com/s/gaming/emoji/0f0cae22/emoji_u1f621.svg'}\", '還在等下一次選舉 別天真了 不管選誰一定有樣學樣 因為人民不會反抗', '重症也沒辦法都投藥', '台湾特权阶层是不怕新冠啊~你们老百姓呢？甘愿当盘子吗？死的不是特权阶级欸~~', '那時候在一起', '搞不好郭董競標', '早就证实了那个药没用了，怎么台湾还一直在吹瑞德西伟', '死因 就都推給慢性病發.無良政府414', '预计5天后每天死亡上百位', '綠媒還在辯稱藥不要亂吃', '防疫是陳時鐘的數字。蔡英文的錢。老百姓的排隊', '他們利用疫情污的分配款已配發分紅了 當然他們穩妥當選 不管人民死活 就是 在野 視而不見嗎? 基層早失守 朱立還在睡 ', '塔克拉瑪干沙漠 里見', '台湾特权阶层是不怕新冠啊~你们老百姓呢？甘愿当盘子吗？死的不是特权阶级欸~~', \"{'id': '', 'txt': '', 'url': 'https://www.youtube.com/s/gaming/emoji/0f0cae22/emoji_u1f236.svg'}慢性疾病，藥品會排斥\", '搞不好郭董可以去競標', '謝謝去CDC的團體今天去丟雞蛋', 'CT值30和CT值40 别看就差10点但是按照国际算法好像是相差1600倍', '看看烏克蘭的下場，真以為選舉就是正確嗎，哈哈哈', '佛系防疫', '217', '還沒談好', '真的有投藥嗎？', '好害怕 好害怕 41人死亡', '台湾特权阶层是不怕新冠啊~你们老百姓呢？甘愿当盘子吗？死的不是特权阶级欸~~', '請尊重亡者。', '還說都輕症感冒?64972暴增41人死亡217例中重症.說輕症的這些人真該下地獄', '謝謝去CDC的團體今天去丟雞蛋', '中國中醫藥千金藤成新冠疫情救星。', '台湾特权阶层是不怕新冠啊~你们老百姓呢？甘愿当盘子吗？死的不是特权阶级欸~~', '有6個有投藥～瑞德西韋', '小心有人蹦出来说你们造谣，台湾是民主的没有特权。', '謝謝去CDC的團體今天去丟雞蛋', '羅友志又在練肖畫?111/5/12《頭條開講》蔡英文竟讚防疫團隊表現好！羅友志轟：哪來的自信？----------->難道要破口大罵?現在確診大多輕症，不能彈性調整隔離時間嗎?每天捅鼻子你要嗎?做你罵、不做你也罵?快篩可網購、改視訊問診不好嗎?通告費這樣爽賺有道理嗎?有沒毛毛der', '還在等下一次選舉 別天真了 不管選誰一定有樣學樣 因為人民不會反抗', \"普篩？ 如果我不想篩呢？ 誰抓我 一拳一個倒{'id': '', 'txt': ':oncoming_fist:', 'url': 'https://www.youtube.com/s/gaming/emoji/0f0cae22/emoji_u1f44a.svg'}{'id': '', 'txt': ':collision:', 'url': 'https://www.youtube.com/s/gaming/emoji/0f0cae22/emoji_u1f4a5.svg'}\\u3000叫我篩？ {'id': '', 'txt': ':anger_symbol:', 'url': 'https://www.youtube.com/s/gaming/emoji/0f0cae22/emoji_u1f4a2.svg'}{'id': '', 'txt': ':anger_symbol:', 'url': 'https://www.youtube.com/s/gaming/emoji/0f0cae22/emoji_u1f4a2.svg'}{'id': '', 'txt': ':anger_symbol:', 'url': 'https://www.youtube.com/s/gaming/emoji/0f0cae22/emoji_u1f4a2.svg'}\", '還說都輕症感冒?64972暴增41人死亡217例中重症.說輕症的這些人真該下地獄', '台湾特权阶层是不怕新冠啊~你们老百姓呢？甘愿当盘子吗？死的不是特权阶级欸~~', '歲數', '黃砂 問題 去那', '台湾特权阶层是不怕新冠啊~你们老百姓呢？甘愿当盘子吗？死的不是特权阶级欸~~', '這41 本不該死..', '還在等下一次選舉 別天真了 不管選誰一定有樣學樣 因為人民不會反抗', '建立萬人級的輕症治療園區，給予<氧氣>超重要+中西藥投藥', '友志哥，罵他啦', '塔綠就不要九二共識啊。承認九二，國際組織還可以考慮觀察員身分，不要，誰理你，老米？？口惠實不至，算了吧', '你如果叫牠不理你假裝沒聽到~ 就用台語喊 紅酒ㄟ！', '都死了 還來不及投藥', '今天 掛的都是寒粉', '这也是台湾为什么不敢要各国快筛进入台湾的主要原因，台湾不是国际确诊标准，要是使用了国际统一确诊标准的快筛，台湾确诊会爆炸的', '中醫藥世界第一', '台湾特权阶层是不怕新冠啊~你们老百姓呢？甘愿当盘子吗？死的不是特权阶级欸~~', \"真的讓世界看到台灣，陳時中做到了！{'id': '', 'txt': ':pleading_face:', 'url': 'https://www.youtube.com/s/gaming/emoji/0f0cae22/emoji_u1f97a.svg'}\", '習先生你睡得好嗎?你們有清華在職法學博士研究生在搞動態清零卻死更多人嗎？3天篩好2500萬人?封完上海到青海1.5萬人死亡有負責嗎?北京清華有飯吃嗎?然後他要負責小區鑰匙用繩子垂降嗎?還要幫忙送水、送便當?有禁內用嗎?孕婦遭黨員突擊隊毆打、小提琴手急性胰腺炎跳樓、江蘇1歲半幼兒噎到疑因無核酸證明被拒診死亡有負什麼責任?請問他有1.5本論文嗎?------->當552能賺多少?大家有沒有毛毛der', '郭董唾液快篩機重送EUA 申請家用，郭董富佳唾液快篩機送審，永齡基金會：還未獲得任何衛福部官方的訊息回覆， .... 中央還在卡關', '陳要你投胎，所以不投藥。', '以后不止靠爱发电，还要靠爱治病', '台湾特权阶层是不怕新冠啊~你们老百姓呢？甘愿当盘子吗？死的不是特权阶级欸~~', '中醫藥世界第一', '不怕投书，就怕投钱。', '台湾特权阶层是不怕新冠啊~你们老百姓呢？甘愿当盘子吗？死的不是特权阶级欸~~', '鬧中說 共存是為跟國際同步 鬼畫連篇 知道台灣人口數嗎 ', '今天掛了41個', '用药也死', '全世界都被他騙了!騙台灣算甚麼!!', '防疫.草包....草包防疫....防疫草包', '死亡黑數還有一堆', '死亡率也要衝世界第一了', '台湾特权阶层是不怕新冠啊~你们老百姓呢？甘愿当盘子吗？死的不是特权阶级欸~~', \"{'id': '', 'txt': ':selfie:', 'url': 'https://www.youtube.com/s/gaming/emoji/0f0cae22/emoji_u1f933.svg'}好快見到爸爸了{'id': '', 'txt': ':persevering_face:', 'url': 'https://www.youtube.com/s/gaming/emoji/0f0cae22/emoji_u1f623.svg'}\", '這種耍特權的就是威權的表徵，所以這些說自己是民主的都已經向威權靠攏了，為何民進黨的民調高，若非民調是作弊，就是這些票投民進黨的人死不願認錯的心態造成的，悲哀的死不認錯才是害死臺灣人的幫凶', '塔克拉瑪干沙漠 去那', '药呢？', '擁菜EE稱帝', '41人都是寒粉', '全世界都被他騙了!騙台灣算甚麼!!', \"{'id': 'hf90Xv-jHeOR8gSxxrToBA', 'txt': ':yougotthis:', 'url': 'https://yt3.ggpht.com/WxLUGtJzyLd4dcGaWnmcQnw9lTu9BW3_pEuCp6kcM2pxF5p5J28PvcYIXWh6uCm78LxGJVGn9g=w24-h24-c-k-nd'}{'id': 'hf90Xv-jHeOR8gSxxrToBA', 'txt': ':yougotthis:', 'url': 'https://yt3.ggpht.com/WxLUGtJzyLd4dcGaWnmcQnw9lTu9BW3_pEuCp6kcM2pxF5p5J28PvcYIXWh6uCm78LxGJVGn9g=w24-h24-c-k-nd'}{'id': 'hf90Xv-jHeOR8gSxxrToBA', 'txt': ':yougotthis:', 'url': 'https://yt3.ggpht.com/WxLUGtJzyLd4dcGaWnmcQnw9lTu9BW3_pEuCp6kcM2pxF5p5J28PvcYIXWh6uCm78LxGJVGn9g=w24-h24-c-k-nd'}\", '全世界都被他騙了!騙台灣算甚麼!!', '台湾特权阶层是不怕新冠啊~你们老百姓呢？甘愿当盘子吗？死的不是特权阶级欸~~', \"{'id': 'X_zdXMHgJaPa8gTGt4f4Ag', 'txt': ':buffering:', 'url': 'https://yt3.ggpht.com/foWgzjN0ggMAA0CzDPfPZGyuGwv_7D7Nf6FGLAiomW5RRXj0Fs2lDqs2U6L52Z4J2Zb-D5tCUAA=w24-h24-c-k-nd'}{'id': 'CN2m5cKr49sCFYbFggodDFEKrg', 'txt': ':oops:', 'url': 'https://yt3.ggpht.com/qByNS7xmuQXsb_5hxW2ggxwQZRN8-biWVnnKuL5FK1zudxIeim48zRVPk6DRq_HgaeKltHhm=w24-h24-c-k-nd'}{'id': 'CN2m5cKr49sCFYbFggodDFEKrg', 'txt': ':oops:', 'url': 'https://yt3.ggpht.com/qByNS7xmuQXsb_5hxW2ggxwQZRN8-biWVnnKuL5FK1zudxIeim48zRVPk6DRq_HgaeKltHhm=w24-h24-c-k-nd'}\", '全世界都被他騙了!騙台灣算甚麼!!', '全世界都被他騙了!騙台灣算甚麼!!', '擺爛那A錢就好', '全世界都被他騙了!騙台灣算甚麼!!', '防疫到最後變成老百姓自救 甚麼都要自己去找 連花清瘟也要自己找', '全世界都被他騙了!騙台灣算甚麼!!', '台湾特权阶层是不怕新冠啊~你们老百姓呢？甘愿当盘子吗？死的不是特权阶级欸~~', '去看看义和团始末吧，别被轮子wa带风向', '這41人.. 死的好可憐', '費鴻泰PO快篩「兩條線」 等待PCR檢測..綠委趙天麟早上檢驗中午PCR就出爐....', '這41人.. 死的好可憐', '台湾特权阶层是不怕新冠啊~你们老百姓呢？甘愿当盘子吗？死的不是特权阶级欸~~', '台湾特权阶层是不怕新冠啊~你们老百姓呢？甘愿当盘子吗？死的不是特权阶级欸~~', '還說都輕症感冒?64972暴增41人死亡217例中重症.說輕症的這些人真該下地獄', '阿中：輕症99.78% 不怕不怕', '克拉克蓋牌', '台湾特权阶层是不怕新冠啊~你们老百姓呢？甘愿当盘子吗？死的不是特权阶级欸~~', '這41人.. 死的好可憐', '終於友話直說了⋯', '他不敢回答', '裝死擺爛等A錢', '美国要是按照台湾这么来CT值30才算确证，会减小几千万确诊者', '不用負責任的官員才是世界第一', '又吹又騙的國際詐欺', '發選舉贏了就能貪污腐敗，發國難財，為所欲為，對吧，817萬歲，選舉萬歲', '好了拉 不爽不會去起義 只敢出張嘴 選舉也選不贏 笑死 ', '台湾特权阶层是不怕新冠啊~你们老百姓呢？甘愿当盘子吗？死的不是特权阶级欸~~', '塔克拉瑪干沙漠 里？', '防疫吹牛', '台湾特权阶层是不怕新冠啊~你们老百姓呢？甘愿当盘子吗？死的不是特权阶级欸~~', '好了拉 不爽不會去起義 只敢出張嘴 選舉也選不贏 笑死', '還說都輕症感冒?64972暴增41人死亡217例中重症.說輕症的這些人真該下地獄', '好了拉 不爽不會去起義 只敢出張嘴 選舉也選不贏 笑死', '好了拉 不爽不會去起義 只敢出張嘴 選舉也選不贏 笑死', '台湾特权阶层是不怕新冠啊~你们老百姓呢？甘愿当盘子吗？死的不是特权阶级欸~~', '一般外科口罩濕了不是就沒功用了？', '好了拉 不爽不會去起義 只敢出張嘴 選舉也選不贏 笑死', '都要盖牌了，还参加个什么WHA，人家是要数据的，台湾尽是黑数！！！不是打脸吗？？？', '好了拉 不爽不會去起義 只敢出張嘴 選舉也選不贏 笑死', '什么投书 就大外宣而已', '丟臉丟國外，已不知自己從神桌上摔下來了', '台湾特权阶层是不怕新冠啊~你们老百姓呢？甘愿当盘子吗？死的不是特权阶级欸~~', '就是敢不要臉.你買安抓', '蒸 快篩 會不會1條變0條', '台湾特权阶层是不怕新冠啊~你们老百姓呢？甘愿当盘子吗？死的不是特权阶级欸~~', '騙騙騙!!就是了!', '騙騙騙!!就是了!', '好了拉 不爽不會去起義 只敢出張嘴 選舉也選不贏 笑死', '好了拉 不爽不會去起義 只敢出張嘴 選舉也選不贏 笑死', '騙神騙鬼騙世界', '好了拉 不爽不會去起義 只敢出張嘴 選舉也選不贏 笑死', '好了拉 不爽不會去起義 只敢出張嘴 選舉也選不贏 笑死', '騙騙騙!!就是了!', '什麼鬼？', '怎麼有臉投書', '口罩实名制？？？？', '還說都輕症感冒?64972暴增41人死亡217例中重症.說輕症的這些人真該下地獄', \"{'id': '', 'txt': ':pleading_face:', 'url': 'https://www.youtube.com/s/gaming/emoji/0f0cae22/emoji_u1f97a.svg'}\", '羅友志又在練肖畫?111/5/12《頭條開講》蔡英文竟讚防疫團隊表現好！羅友志轟：哪來的自信？----------->難道要破口大罵?現在確診大多輕症，不能彈性調整隔離時間嗎?每天捅鼻子你要嗎?做你罵、不做你也罵?通告費這樣爽賺有道理嗎?有沒毛毛der', '友志 來了 白髮哥 來了', '笑死我了，口罩实名制，大陆4块一包10个你买100包也没管人管', '發選舉贏了就能貪污腐敗，發國難財，為所欲為，對吧，817萬歲，選舉萬歲', '民進黨之亂！', \"普篩 如果我不想篩呢？ 公安抓人？ 一拳倒一個{'id': '', 'txt': ':oncoming_fist:', 'url': 'https://www.youtube.com/s/gaming/emoji/0f0cae22/emoji_u1f44a.svg'}{'id': '', 'txt': ':collision:', 'url': 'https://www.youtube.com/s/gaming/emoji/0f0cae22/emoji_u1f4a5.svg'}\", \"{'id': '', 'txt': ':mouse:', 'url': 'https://www.youtube.com/s/gaming/emoji/0f0cae22/emoji_u1f42d.svg'}\", \"{'id': '', 'txt': ':mouse:', 'url': 'https://www.youtube.com/s/gaming/emoji/0f0cae22/emoji_u1f42d.svg'}{'id': '', 'txt': ':mouse:', 'url': 'https://www.youtube.com/s/gaming/emoji/0f0cae22/emoji_u1f42d.svg'}\", '發選舉贏了就能貪污腐敗，發國難財，為所欲為，對吧，817萬歲，選舉萬歲', \"{'id': '', 'txt': ':mouse:', 'url': 'https://www.youtube.com/s/gaming/emoji/0f0cae22/emoji_u1f42d.svg'}{'id': '', 'txt': ':mouse:', 'url': 'https://www.youtube.com/s/gaming/emoji/0f0cae22/emoji_u1f42d.svg'}{'id': '', 'txt': ':mouse:', 'url': 'https://www.youtube.com/s/gaming/emoji/0f0cae22/emoji_u1f42d.svg'}{'id': '', 'txt': ':mouse:', 'url': 'https://www.youtube.com/s/gaming/emoji/0f0cae22/emoji_u1f42d.svg'}\", '走鐘部長的英文還能投書喔???', '沒錯，台灣的PCR很可能動手腳，設定閾值在CT34以下', '好了拉 不爽不會去起義 只敢出張嘴 選舉也選不贏 笑死', '全民健保又不是冥盡洞的政績', '早建方倉. 每個人都有適當照料就沒事了啦', '好了拉 不爽不會去起義 只敢出張嘴 選舉也選不贏 笑死', '大家午安!支持中天,正義,說真話! ', 'CT值30在我们大陆已经算中度和重症了', '健保又不是齁齁齁搞的', '好了拉 不爽不會去起義 只敢出張嘴 選舉也選不贏 笑死', \"叫人蒸口罩{'id': '', 'txt': ':face_with_medical_mask:', 'url': 'https://www.youtube.com/s/gaming/emoji/0f0cae22/emoji_u1f637.svg'}，快笑瘋了\", '不支持友志哥', '2022 全球防疫破口之冠', '能進去嗎？什麼健保？這是他功勞嗎？', '特勤是', '我们大陆确诊标准是世界最高的的，CT值40就是确诊，', '大家午安!支持中天,正義,說真話! ', '被殖民的时间太长了，已经忘记自己的祖先了', '發選舉贏了就能貪污腐敗，發國難財，為所欲為，對吧，817萬歲', '唯安 55歲 男性 台灣人', '世界不毀滅才有鬼外太空不會有你們的位置只有我們這種心思單純的人才會被選，回來了也沒用。。。歷史還是跟著一樣的形式走。。。', '前立委羅國梁PCR 也要2天⋯⋯⋯4小時真特權', '囤快篩囤藥的特權高層，全確診重症插管不治，太缺德了', '我大陆要是想隐瞒，把确诊的CT值和台湾一样就可以了，CT值30才是确诊，', '國民黨說民進黨笨 結果一選舉國民黨輸死', '要隐瞒疫情不用做普筛就好了', '千惠 腿粗 偶還是愛妳別怕', '官逼民反', '殖民地的人就是这样 的', '只要扯817就好了嗎\\u3000我真是白眼翻翻------------------>當552能賺多少?大家有沒有毛毛der', '普筛就是为了抓黑数', '選舉不是說好的 人民為主 說好的聽人民的聲音 說好的跟人民戰在一起', '辛苦，剩下', '台灣人從來都是順民，換個政府，老百姓還是老實生活', '第一次聽到車輪黨罵綠笨', '快升級.不然要芭比q了', '發選舉贏了就能貪污腐敗，發國難財，為所欲為，對吧，817萬歲', \"南無阿彌陀佛{'id': '', 'txt': ':folded_hands:', 'url': 'https://www.youtube.com/s/gaming/emoji/0f0cae22/emoji_u1f64f.svg'}\", '人家說好了坐滿', '就說新黨要能和國民黨團結 不要老是扯後腿 像那個送 幾乎每次都出來晃 是有什麼目的嗎 抱歉 這是笑話 別對號入座阿。', '傻傻的 我權貴還跟你當平民 是不是有問題', '如果中国大陆要隐瞒 直接不做普筛就好', '多數民眾都被洗腦了啦 ，執政者為所欲為 ，也無感 ，除非可憐的當事人', '賊人現在讓你們得勢高傲 仗勢欺人 就是等著惡報 不得好ㄨ ', '喔喔，既然是剩下留著', '台灣中央跟著美國走現在不就變成這樣蜥蜴人階級制度', '蛙，，吃炒米粉，，嗎？！吃這好，，', '林靜雨... 濺了', \"{'id': '', 'txt': ':mouse:', 'url': 'https://www.youtube.com/s/gaming/emoji/0f0cae22/emoji_u1f42d.svg'}\", '英朝帝府 還要讓人民陷於生命威脅多久呀 妳眼理人命值多少 ', '好了拉 不爽不會去起義 只敢出張嘴 選舉也選不贏 笑死', '好了拉 不爽不會去起義 只敢出張嘴 選舉也選不贏 笑死', '緑緑緑 面倒臭 統一遣', '好了拉 不爽不會去起義 只敢出張嘴 選舉也選不贏 笑死', '要隐瞒疫情很容易 不普筛就好了', '師徒聯手！？我只看到二個樂色在路上晃！', '1450是出征老百姓，义和团至少不是。丑化义和团就是让你不要跟洋人反抗', '好了拉 不爽不會去起義 只敢出張嘴 選舉也選不贏 笑死', '選舉贏了就能貪污腐敗，發選舉贏了就能貪污腐敗，發國難財，為所欲為，對吧，1450', '好了拉 不爽不會去起義 只敢出張嘴 選舉也選不贏 笑死', '【台湾现政乱象】【只准州官放火，不许庶民点灯】【只看颜色定对错，准绳拉扯行双标，州长受赂无忌讳，官官相护使特权，放任自流成恶习，火焰狂烧虐万民。不理万事且推诿，许诺应承皆空话，庶次屈枉许多人，民意全然成垃圾，点点滴滴皆妄事，灯火通明显无能。】【小红点，郭泽宣「科元」。】', '好了拉 不爽不會去起義 只敢出張嘴 選舉也選不贏 笑死', '也就是比誰比較快，誰才是真正特權中的精英', '抄前不數.躺平太省前了。', \"南無阿彌陀佛{'id': '', 'txt': ':folded_hands:', 'url': 'https://www.youtube.com/s/gaming/emoji/0f0cae22/emoji_u1f64f.svg'}\", '瀬田宗次郎名言\\u3000強者生弱者死\\u3000瞬天殺!', '中國為何一定要採清零政策？就是重視人命，說中國隱瞞死亡人數，根本天大謊言，聯合國人權理事會肯定會究責中國', '用喝的比較快，還打？', '也是台灣的政治', '拍了半天，都沒排到人', '新冠病毒結束拉', '這就是美國的政治', '怎么不好的都往中国身上扯', '所以說現在還會支持綠共的，不是有很多利益，就是87', '還說都輕症感冒?64972暴增41人死亡217例中重症.說輕症的這些人真該下地獄', '選舉贏了就能貪污腐敗，發國難財，為所欲為，對吧，1450', '中國首先發現並發明的千金藤素，可以抑制新冠病毒的複製！！！！', '五個黑人少年被政治抹殺誣賴做冤獄', '民進黨耍特權不怕人民知道，就是咬定人民對他們無可奈何！', '高端好啊 打十剂', '喔喔，，燕子幾天回', '傻傻的 身份是權貴才要炫耀 ', '周摳摳得了便宜還害醫生', '医生陪她做了140个伏地挺身吧', '對執政黨寬容的人民，就是危害人民的始作庸者', '您已封鎖許遵榮~~', \"{'id': '', 'txt': ':writing_hand:', 'url': 'https://www.youtube.com/s/gaming/emoji/0f0cae22/emoji_u270d.svg'}{'id': '', 'txt': ':bug:', 'url': 'https://www.youtube.com/s/gaming/emoji/0f0cae22/emoji_u1f41b.svg'}\", '許大便 被封了 笑死', '高端没打够吧。再来个10针8针的', '您已封鎖許遵榮~~', '死了就清零啊', '楊植斗原來不是真的弄成發亮光頭…這決心 不夠啊', '民調都假的啦', '民調. 看. 排隊，，民掉', '軍人？ 暇付', '毕竟是死忠的', '您已封鎖許遵榮~~', \"蔡EE：我們防疫很好{'id': '', 'txt': '', 'url': 'https://www.youtube.com/s/gaming/emoji/0f0cae22/emoji_u1f44c_1f3fb.svg'}\", '以前查這個一堆跑出來現在肯能影片都被黃標了', '69歲的阿婆做140伏地挺身，還要醫生到府採檢', '黑數太多了', '1450义和团，刀枪不入还怕感染？？', '千惠 腿好粗', '就說來不急了，在不信啊！', '41个817死了 别在意', '湾湾就不一样，弹丸之地，井太深', \"有黨證，搞特權一件又一件 …… ，已經選了他們，大家再忍忍 {'id': '', 'txt': ':face_screaming_in_fear:', 'url': 'https://www.youtube.com/s/gaming/emoji/0f0cae22/emoji_u1f631.svg'}{'id': '', 'txt': ':face_screaming_in_fear:', 'url': 'https://www.youtube.com/s/gaming/emoji/0f0cae22/emoji_u1f631.svg'}{'id': '', 'txt': ':face_screaming_in_fear:', 'url': 'https://www.youtube.com/s/gaming/emoji/0f0cae22/emoji_u1f631.svg'}{'id': '', 'txt': ':face_screaming_in_fear:', 'url': 'https://www.youtube.com/s/gaming/emoji/0f0cae22/emoji_u1f631.svg'}\", '金絲貓幾歲？', '綠能你不能', '植斗讚', '「桃園3+11 諾富特」蔡英文 陳時中 你們頭上有枉死冤魂 2482人(增加中)。(新冠死亡 1009人 最年輕 2歲)(打疫苗猝死 1473人)', '那問題恩師，以愛滋', '不要緊張 41死亡 重症清零', '咦，不是喊要共存了吗？老陈干嘛还戴口罩？', '有色眼睛沒錯美國太厲害了', '「桃園3+11 諾富特」蔡英文 陳時中 你們頭上有枉死冤魂 2482人(增加中)。(新冠死亡 1009人 最年輕 2歲)(打疫苗猝死 1473人)', '大陆那么大，就是一辈子不出国在国内也能减很多世面', '民主政治就是權貴金權政治。', '不要緊張 41死亡 重症清零', '還說都輕症感冒?64972暴增41人死亡217例中重症.說輕症的這些人真該下地獄', '乾杯！', '超前去排队买个“天上人间庄园”吧，这次没用上，下次还有机会。', '老叩叩', '@許遵榮 你拿出你的身份证，看看上面是中华民国还是台湾共和国？为什么你要用一个大陆的流亡政府发的护照？你不知道中华民国是一个流亡政府吗？你知道美国都没有和中华民国建交吗？美国更没有和台湾共和国建交，为什么你要去一个不承认中华民国和台湾共和国的国家玩？', '如果是韓國瑜一定會緊張', '新冠病毒要結束拉！', '「桃園3+11 諾富特」蔡英文 陳時中 你們頭上有枉死冤魂 2482人(增加中)。(新冠死亡 1009人 最年輕 2歲)(打疫苗猝死 1473人)', '千惠 幾歲了56了吧', '1450可怜是你们，井太深了', '惡痘', '好了拉 不爽不會去起義 只敢出張嘴 選舉也選不贏 笑死 ', '沒用的台灣人..民進黨的支持者又怎麼樣...票還是投民進黨...', '有黨證好辦事', \"無眼睇了{'id': '', 'txt': ':bear:', 'url': 'https://www.youtube.com/s/gaming/emoji/0f0cae22/emoji_u1f43b.svg'}{'id': '', 'txt': ':bear:', 'url': 'https://www.youtube.com/s/gaming/emoji/0f0cae22/emoji_u1f43b.svg'}{'id': '', 'txt': ':bear:', 'url': 'https://www.youtube.com/s/gaming/emoji/0f0cae22/emoji_u1f43b.svg'}{'id': '', 'txt': ':bear:', 'url': 'https://www.youtube.com/s/gaming/emoji/0f0cae22/emoji_u1f43b.svg'}\", '好了拉 不爽不會去起義 只敢出張嘴 選舉也選不贏 笑死', '「桃園3+11 諾富特」蔡英文 陳時中 你們頭上有枉死冤魂 2482人(增加中)。(新冠死亡 1009人 最年輕 2歲)(打疫苗猝死 1473人)', '好了拉 不爽不會去起義 只敢出張嘴 選舉也選不贏 笑死', \"菜ee 兩年後下台 哪管現在如何{'id': '', 'txt': ':face_with_steam_from_nose:', 'url': 'https://www.youtube.com/s/gaming/emoji/0f0cae22/emoji_u1f624.svg'}\", '好了拉 不爽不會去起義 只敢出張嘴 選舉也選不贏 笑死', \"{'id': '', 'txt': ':mouth:', 'url': 'https://www.youtube.com/s/gaming/emoji/0f0cae22/emoji_u1f444.svg'}{'id': '', 'txt': ':check_mark_button:', 'url': 'https://www.youtube.com/s/gaming/emoji/0f0cae22/emoji_u2705.svg'}{'id': '', 'txt': ':thumbs_up:', 'url': 'https://www.youtube.com/s/gaming/emoji/0f0cae22/emoji_u1f44d.svg'}{'id': '', 'txt': ':couple_with_heart:', 'url': 'https://www.youtube.com/s/gaming/emoji/0f0cae22/emoji_u1f491.svg'}\", \"小粉紅連跨省移動都不可以~~也不能出國~~更一輩子不能來台灣~~你們那麼可憐~~還在計較什麼~~{'id': '\\\\U0001f972', 'txt': ':smiling_face_with_tear:', 'url': 'https://www.youtube.com/s/gaming/emoji/0f0cae22/emoji_u1f972.svg'}{'id': '\\\\U0001f972', 'txt': ':smiling_face_with_tear:', 'url': 'https://www.youtube.com/s/gaming/emoji/0f0cae22/emoji_u1f972.svg'}{'id': '\\\\U0001f972', 'txt': ':smiling_face_with_tear:', 'url': 'https://www.youtube.com/s/gaming/emoji/0f0cae22/emoji_u1f972.svg'}\", \"{'id': '', 'txt': ':zany_face:', 'url': 'https://www.youtube.com/s/gaming/emoji/0f0cae22/emoji_u1f92a.svg'}{'id': '', 'txt': ':smiling_face_with_hearts:', 'url': 'https://www.youtube.com/s/gaming/emoji/0f0cae22/emoji_u1f970.svg'}{'id': '', 'txt': ':thumbs_up:', 'url': 'https://www.youtube.com/s/gaming/emoji/0f0cae22/emoji_u1f44d.svg'}\", \"{'id': '', 'txt': ':woman:', 'url': 'https://www.youtube.com/s/gaming/emoji/0f0cae22/emoji_u1f469.svg'}{'id': '', 'txt': ':love_letter:', 'url': 'https://www.youtube.com/s/gaming/emoji/0f0cae22/emoji_u1f48c.svg'}\", \"{'id': '', 'txt': ':couple_with_heart:', 'url': 'https://www.youtube.com/s/gaming/emoji/0f0cae22/emoji_u1f491.svg'}{'id': '', 'txt': ':smiling_face_with_hearts:', 'url': 'https://www.youtube.com/s/gaming/emoji/0f0cae22/emoji_u1f970.svg'}{'id': '', 'txt': ':woman:', 'url': 'https://www.youtube.com/s/gaming/emoji/0f0cae22/emoji_u1f469.svg'}{'id': '', 'txt': ':love_letter:', 'url': 'https://www.youtube.com/s/gaming/emoji/0f0cae22/emoji_u1f48c.svg'}{'id': '', 'txt': ':check_mark_button:', 'url': 'https://www.youtube.com/s/gaming/emoji/0f0cae22/emoji_u2705.svg'}\", \"小粉紅連跨省移動都不可以~~也不能出國~~更一輩子不能來台灣~~你們那麼可憐~~還在計較什麼~~{'id': '\\\\U0001f972', 'txt': ':smiling_face_with_tear:', 'url': 'https://www.youtube.com/s/gaming/emoji/0f0cae22/emoji_u1f972.svg'}{'id': '\\\\U0001f972', 'txt': ':smiling_face_with_tear:', 'url': 'https://www.youtube.com/s/gaming/emoji/0f0cae22/emoji_u1f972.svg'}{'id': '\\\\U0001f972', 'txt': ':smiling_face_with_tear:', 'url': 'https://www.youtube.com/s/gaming/emoji/0f0cae22/emoji_u1f972.svg'}\", '鄧如秀快篩陽性，但是要做PCR檢驗時，卻不用跟一般人一樣排隊數小時以上，而是專案直送台北市立聯合醫院中興院區「插隊」採檢，甚至檢體再「插隊」直送疾管署昆陽實驗室，全程都是插隊到底。', '選舉到了，聽到愛呆灣，民怨變成民願', \"@熊男くまお 可怜{'id': 'hf90Xv-jHeOR8gSxxrToBA', 'txt': ':yougotthis:', 'url': 'https://yt3.ggpht.com/WxLUGtJzyLd4dcGaWnmcQnw9lTu9BW3_pEuCp6kcM2pxF5p5J28PvcYIXWh6uCm78LxGJVGn9g=w24-h24-c-k-nd'}\", '好了拉 不爽不會去起義 只敢出張嘴 選舉也選不贏 笑死', '好了拉 不爽不會去起義 只敢出張嘴 選舉也選不贏 笑死', \"蔡EE：我們防疫很好{'id': '', 'txt': '', 'url': 'https://www.youtube.com/s/gaming/emoji/0f0cae22/emoji_u1f44c_1f3fb.svg'}\", '好了拉 不爽不會去起義 只敢出張嘴 選舉也選不贏 笑死', \"小粉紅連跨省移動都不可以~~也不能出國~~更一輩子不能來台灣~~你們那麼可憐~~還在計較什麼~~{'id': '\\\\U0001f972', 'txt': ':smiling_face_with_tear:', 'url': 'https://www.youtube.com/s/gaming/emoji/0f0cae22/emoji_u1f972.svg'}{'id': '\\\\U0001f972', 'txt': ':smiling_face_with_tear:', 'url': 'https://www.youtube.com/s/gaming/emoji/0f0cae22/emoji_u1f972.svg'}{'id': '\\\\U0001f972', 'txt': ':smiling_face_with_tear:', 'url': 'https://www.youtube.com/s/gaming/emoji/0f0cae22/emoji_u1f972.svg'}\", '好了拉 不爽不會去起義 只敢出張嘴 選舉也選不贏 笑死', \"去地好熟{'id': '', 'txt': ':see_no_evil_monkey:', 'url': 'https://www.youtube.com/s/gaming/emoji/0f0cae22/emoji_u1f648.svg'}{'id': '', 'txt': ':see_no_evil_monkey:', 'url': 'https://www.youtube.com/s/gaming/emoji/0f0cae22/emoji_u1f648.svg'}{'id': '', 'txt': ':see_no_evil_monkey:', 'url': 'https://www.youtube.com/s/gaming/emoji/0f0cae22/emoji_u1f648.svg'}{'id': '', 'txt': ':see_no_evil_monkey:', 'url': 'https://www.youtube.com/s/gaming/emoji/0f0cae22/emoji_u1f648.svg'}\", '好了拉 不爽不會去起義 只敢出張嘴 選舉也選不贏 笑死', '好了拉 不爽不會去起義 只敢出張嘴 選舉也選不贏 笑死', '好了拉 不爽不會去起義 只敢出張嘴 選舉也選不贏 笑死', '好了拉 不爽不會去起義 只敢出張嘴 選舉也選不贏 笑死', '還說都輕症感冒?64972暴增41人死亡217例中重症.說輕症的這些人真該下地獄', '噁心ㄉ大人啦', '好了拉 不爽不會去起義 只敢出張嘴 選舉也選不贏 笑死', '@熊男くまお 大Wa民族', '人民必須站出來 要求官方 設置足夠的火化場 這次一定要超前', \"小粉紅連跨省移動都不可以~~也不能出國~~更一輩子不能來台灣~~你們那麼可憐~~還在計較什麼~~{'id': '\\\\U0001f972', 'txt': ':smiling_face_with_tear:', 'url': 'https://www.youtube.com/s/gaming/emoji/0f0cae22/emoji_u1f972.svg'}{'id': '\\\\U0001f972', 'txt': ':smiling_face_with_tear:', 'url': 'https://www.youtube.com/s/gaming/emoji/0f0cae22/emoji_u1f972.svg'}{'id': '\\\\U0001f972', 'txt': ':smiling_face_with_tear:', 'url': 'https://www.youtube.com/s/gaming/emoji/0f0cae22/emoji_u1f972.svg'}\", '41了啊。明天还要继续升啊，没方舱，前期就只能是人传人，靠自己抗，扛得住就活着，扛不住就走了。', '(民進黨執政) 陳水扁 SARS死亡81人；蔡英文 COVID-19新冠肺炎死亡 1009人，打疫苗猝死 1473人(增加中)', \"小粉紅連跨省移動都不可以~~也不能出國~~更一輩子不能來台灣~~你們那麼可憐~~還在計較什麼~~{'id': '\\\\U0001f972', 'txt': ':smiling_face_with_tear:', 'url': 'https://www.youtube.com/s/gaming/emoji/0f0cae22/emoji_u1f972.svg'}{'id': '\\\\U0001f972', 'txt': ':smiling_face_with_tear:', 'url': 'https://www.youtube.com/s/gaming/emoji/0f0cae22/emoji_u1f972.svg'}{'id': '\\\\U0001f972', 'txt': ':smiling_face_with_tear:', 'url': 'https://www.youtube.com/s/gaming/emoji/0f0cae22/emoji_u1f972.svg'}\", '大波霞的波', \"小粉紅連跨省移動都不可以~~也不能出國~~更一輩子不能來台灣~~你們那麼可憐~~還在計較什麼~~{'id': '\\\\U0001f972', 'txt': ':smiling_face_with_tear:', 'url': 'https://www.youtube.com/s/gaming/emoji/0f0cae22/emoji_u1f972.svg'}{'id': '\\\\U0001f972', 'txt': ':smiling_face_with_tear:', 'url': 'https://www.youtube.com/s/gaming/emoji/0f0cae22/emoji_u1f972.svg'}{'id': '\\\\U0001f972', 'txt': ':smiling_face_with_tear:', 'url': 'https://www.youtube.com/s/gaming/emoji/0f0cae22/emoji_u1f972.svg'}\", \"台湾民进党如今是想学日本自民黨一样，搞长期执政的一黨制化，表面其多党制，实际走一黨制化，{'id': '', 'txt': ':rolling_on_the_floor_laughing:', 'url': 'https://www.youtube.com/s/gaming/emoji/0f0cae22/emoji_u1f923.svg'}{'id': '', 'txt': ':rolling_on_the_floor_laughing:', 'url': 'https://www.youtube.com/s/gaming/emoji/0f0cae22/emoji_u1f923.svg'}{'id': '', 'txt': ':rolling_on_the_floor_laughing:', 'url': 'https://www.youtube.com/s/gaming/emoji/0f0cae22/emoji_u1f923.svg'}\", '可憐', '就說來不急了，還不信啊。', '本土+64972 境外+39 死亡+41', '快篩是給保險金軍團用的啦', '@許遵榮 你去美国是用台湾共和国护照？不是中华民国护照？', '小粉紅連跨省移動都不可以~~也不能出國~~更一輩子不能來台灣~~你們那麼可憐~~還在計較什麼~~', '1450快说话骂中国笑上海啊', '本土+64972 境外+39 死亡+41', '這次疫情看民眾會不會醒 年底讓民進黨下台囉 罵民進黨沒用 民進黨只怕選舉選輸', '衛福部双標、陳政聞群聚撤罰、圖利陳其邁下屬、真無恥!移工開門8秒罰', '罵已經沒用了 一罵1450就會出來護航', '(民進黨執政) 陳水扁 SARS死亡81人；蔡英文 COVID-19新冠肺炎死亡 1009人，打疫苗猝死 1473人(增加中)', '支持民进党继续执政，统一太便宜台湾人了，民不聊生才是台湾的未来', \"{'id': '', 'txt': ':pig:', 'url': 'https://www.youtube.com/s/gaming/emoji/0f0cae22/emoji_u1f437.svg'}宅銭？ 解放区{'id': '', 'txt': ':unamused_face:', 'url': 'https://www.youtube.com/s/gaming/emoji/0f0cae22/emoji_u1f612.svg'}\", \"講話沒人看 只能用洗板 吸引你的注意阿 {'id': '', 'txt': ':face_with_tears_of_joy:', 'url': 'https://www.youtube.com/s/gaming/emoji/0f0cae22/emoji_u1f602.svg'}{'id': '', 'txt': ':face_with_tears_of_joy:', 'url': 'https://www.youtube.com/s/gaming/emoji/0f0cae22/emoji_u1f602.svg'}{'id': '', 'txt': ':face_with_tears_of_joy:', 'url': 'https://www.youtube.com/s/gaming/emoji/0f0cae22/emoji_u1f602.svg'}\", '喔，別太多遐想', \"蔡EE：我們防疫很好{'id': '', 'txt': '', 'url': 'https://www.youtube.com/s/gaming/emoji/0f0cae22/emoji_u1f44c_1f3fb.svg'}\", '這些優良的公務人員，聰明的，要把證據收好收滿，需要的時候偷偷拿出來，就是功德一件', '本土+64972 境外+39 死亡+41', '謀財害命', '開始死亡了 火化單位必須超前', '還說都輕症感冒?64972暴增41人死亡217例中重症.說輕症的這些人真該下地獄', '本土+64972 境外+39 死亡+41', \"Wing Yuan小粉紅一輩子不能來台灣就是台獨的證明~~~事實勝於雄辯~~~你們只能在網路上看到台灣~~可憐阿{'id': '', 'txt': ':rolling_on_the_floor_laughing:', 'url': 'https://www.youtube.com/s/gaming/emoji/0f0cae22/emoji_u1f923.svg'}{'id': '', 'txt': ':rolling_on_the_floor_laughing:', 'url': 'https://www.youtube.com/s/gaming/emoji/0f0cae22/emoji_u1f923.svg'}{'id': '', 'txt': ':rolling_on_the_floor_laughing:', 'url': 'https://www.youtube.com/s/gaming/emoji/0f0cae22/emoji_u1f923.svg'}別崩潰阿~~我還是會去中國玩~~我去美國是用台灣護照阿~~你不用糾結了~~~我等你能來台灣玩~~\", \"阿彌陀佛！{'id': '', 'txt': ':folded_hands:', 'url': 'https://www.youtube.com/s/gaming/emoji/0f0cae22/emoji_u1f64f.svg'}{'id': '', 'txt': ':folded_hands:', 'url': 'https://www.youtube.com/s/gaming/emoji/0f0cae22/emoji_u1f64f.svg'}{'id': '', 'txt': ':folded_hands:', 'url': 'https://www.youtube.com/s/gaming/emoji/0f0cae22/emoji_u1f64f.svg'}{'id': '', 'txt': ':folded_hands:', 'url': 'https://www.youtube.com/s/gaming/emoji/0f0cae22/emoji_u1f64f.svg'}{'id': '', 'txt': ':folded_hands:', 'url': 'https://www.youtube.com/s/gaming/emoji/0f0cae22/emoji_u1f64f.svg'}{'id': '', 'txt': ':folded_hands:', 'url': 'https://www.youtube.com/s/gaming/emoji/0f0cae22/emoji_u1f64f.svg'}{'id': '', 'txt': ':folded_hands:', 'url': 'https://www.youtube.com/s/gaming/emoji/0f0cae22/emoji_u1f64f.svg'}{'id': '', 'txt': ':folded_hands:', 'url': 'https://www.youtube.com/s/gaming/emoji/0f0cae22/emoji_u1f64f.svg'}{'id': '', 'txt': ':folded_hands:', 'url': 'https://www.youtube.com/s/gaming/emoji/0f0cae22/emoji_u1f64f.svg'}{'id': '', 'txt': ':folded_hands:', 'url': 'https://www.youtube.com/s/gaming/emoji/0f0cae22/emoji_u1f64f.svg'}{'id': '', 'txt': ':folded_hands:', 'url': 'https://www.youtube.com/s/gaming/emoji/0f0cae22/emoji_u1f64f.svg'}{'id': '', 'txt': ':folded_hands:', 'url': 'https://www.youtube.com/s/gaming/emoji/0f0cae22/emoji_u1f64f.svg'}{'id': '', 'txt': ':folded_hands:', 'url': 'https://www.youtube.com/s/gaming/emoji/0f0cae22/emoji_u1f64f.svg'}{'id': '', 'txt': ':folded_hands:', 'url': 'https://www.youtube.com/s/gaming/emoji/0f0cae22/emoji_u1f64f.svg'}{'id': '', 'txt': ':folded_hands:', 'url': 'https://www.youtube.com/s/gaming/emoji/0f0cae22/emoji_u1f64f.svg'}{'id': '', 'txt': ':folded_hands:', 'url': 'https://www.youtube.com/s/gaming/emoji/0f0cae22/emoji_u1f64f.svg'}{'id': '', 'txt': ':smiling_face_with_hearts:', 'url': 'https://www.youtube.com/s/gaming/emoji/0f0cae22/emoji_u1f970.svg'}\", '而且當時是高度防疫（不罰），現在是寬鬆防疫（八秒罰10萬），我真的要說～別再當綠色投票奴隸', '死亡人數比境外移入的確診數還高', '不開放市場競爭就是獨占市場 ', '民怨沸驣!!!', '是嗎?利益喬好，都會安靜', '民怨沸驣!!!', '而且當時是高度防疫（不罰），現在是寬鬆防疫（八秒罰10萬），我真的要說～別再當綠色投票奴隸', '民怨沸驣!!!', '民怨沸驣!!!', \"Wing Yuan小粉紅一輩子不能來台灣就是台獨的證明~~~事實勝於雄辯~~~你們只能在網路上看到台灣~~可憐阿{'id': '', 'txt': ':rolling_on_the_floor_laughing:', 'url': 'https://www.youtube.com/s/gaming/emoji/0f0cae22/emoji_u1f923.svg'}{'id': '', 'txt': ':rolling_on_the_floor_laughing:', 'url': 'https://www.youtube.com/s/gaming/emoji/0f0cae22/emoji_u1f923.svg'}{'id': '', 'txt': ':rolling_on_the_floor_laughing:', 'url': 'https://www.youtube.com/s/gaming/emoji/0f0cae22/emoji_u1f923.svg'}別崩潰阿~~我還是會去中國玩~~我去美國是用台灣護照阿~~你不用糾結了~~~我等你能來台灣玩~~\", \"Wing Yuan小粉紅一輩子不能來台灣就是台獨的證明~~~事實勝於雄辯~~~你們只能在網路上看到台灣~~可憐阿{'id': '', 'txt': ':rolling_on_the_floor_laughing:', 'url': 'https://www.youtube.com/s/gaming/emoji/0f0cae22/emoji_u1f923.svg'}{'id': '', 'txt': ':rolling_on_the_floor_laughing:', 'url': 'https://www.youtube.com/s/gaming/emoji/0f0cae22/emoji_u1f923.svg'}{'id': '', 'txt': ':rolling_on_the_floor_laughing:', 'url': 'https://www.youtube.com/s/gaming/emoji/0f0cae22/emoji_u1f923.svg'}別崩潰阿~~我還是會去中國玩~~我去美國是用台灣護照阿~~你不用糾結了~~~我等你能來台灣玩~~\", '民怨沸驣!!!', \"我餓餓{'id': '', 'txt': ':t_rex:', 'url': 'https://www.youtube.com/s/gaming/emoji/0f0cae22/emoji_u1f996.svg'}\", \"会不会有一天死亡人数比确诊多{'id': 'ygF1XpGUMMjk8gSDrI2wCw', 'txt': ':chillwdog:', 'url': 'https://yt3.ggpht.com/jiaOCnfLX0rqed1sISxULaO7T-ktq2GEPizX9snaxvMLxQOMmWXMmAVGyIbYeFS2IvrMpxvFcQ=w24-h24-c-k-nd'}\", '本土+64972 境外+39 死亡+41', '@許遵榮 你说湾湾已经独立了，你还说你要来大陆玩。那你来大陆是拿的台湾共和国护照吗？如果不是，你是怎么催眠自己说台湾已经独立了的？', '至少 千個墓碑 千碑 在千碑。。。', '本土+64972 境外+39 死亡+41', '今天 41死，民進黨 眼睛不眨一下，，陳時中幾天前說 “ 今年的死亡人數，，不會比去年高 ……“”，，', '本土+64972 境外+39 死亡+41', '無恥政客駡有何用.人民不自覺.神仙也無奈。', \"南無阿彌陀佛{'id': '', 'txt': ':folded_hands:', 'url': 'https://www.youtube.com/s/gaming/emoji/0f0cae22/emoji_u1f64f.svg'}\", '本土+64972 境外+39 死亡+41', '本土+64972 境外+39 死亡+41', '不要洗版，請用斗內，大家都可以看見。', '噓', \"大家到大報卦子頻按讚收看訂閱衝流量{'id': '', 'txt': ':sparkling_heart:', 'url': 'https://www.youtube.com/s/gaming/emoji/0f0cae22/emoji_u1f496.svg'}{'id': '', 'txt': ':sparkling_heart:', 'url': 'https://www.youtube.com/s/gaming/emoji/0f0cae22/emoji_u1f496.svg'}{'id': '', 'txt': ':sparkling_heart:', 'url': 'https://www.youtube.com/s/gaming/emoji/0f0cae22/emoji_u1f496.svg'}{'id': '', 'txt': ':thumbs_up:', 'url': 'https://www.youtube.com/s/gaming/emoji/0f0cae22/emoji_u1f44d.svg'}{'id': '', 'txt': ':thumbs_up:', 'url': 'https://www.youtube.com/s/gaming/emoji/0f0cae22/emoji_u1f44d.svg'}{'id': '', 'txt': ':thumbs_up:', 'url': 'https://www.youtube.com/s/gaming/emoji/0f0cae22/emoji_u1f44d.svg'}{'id': '', 'txt': ':flexed_biceps:', 'url': 'https://www.youtube.com/s/gaming/emoji/0f0cae22/emoji_u1f4aa.svg'}{'id': '', 'txt': ':flexed_biceps:', 'url': 'https://www.youtube.com/s/gaming/emoji/0f0cae22/emoji_u1f4aa.svg'}{'id': '', 'txt': ':flexed_biceps:', 'url': 'https://www.youtube.com/s/gaming/emoji/0f0cae22/emoji_u1f4aa.svg'}\", '本土+64972 境外+39 死亡+41', '民怨沸驣!!!', '民怨沸驣!!!', '民怨沸驣!!!', '樂色民進黨！', '(民進黨執政) 陳水扁 SARS死亡81人；蔡英文 COVID-19新冠肺炎死亡 1009人，打疫苗猝死 1473人(增加中)', '時鐘該為枉死的人做超渡部署', '大概就比平均多死約八千人 還不算嚴重', '還說都輕症感冒?暴增41人死亡217例中重症.說輕症的這些人真該下地獄', \"@熊男くまお 活在几十年前，可怜{'id': 'hf90Xv-jHeOR8gSxxrToBA', 'txt': ':yougotthis:', 'url': 'https://yt3.ggpht.com/WxLUGtJzyLd4dcGaWnmcQnw9lTu9BW3_pEuCp6kcM2pxF5p5J28PvcYIXWh6uCm78LxGJVGn9g=w24-h24-c-k-nd'}\", '蓮花清瘟好用，怎不給老百姓用？也許有效，為何不用？不能以多數人決定，剝奪少數人的權利', 'PCR卡上限了，死亡率會節節攀升', '噓', \"41死{'id': '', 'txt': ':sad_but_relieved_face:', 'url': 'https://www.youtube.com/s/gaming/emoji/0f0cae22/emoji_u1f625.svg'}\", '錢是拿來照顧蔣家的', \"{'id': 'JRdsYIi8Io_Y-QP3xYqoAg', 'txt': ':_馬千惠:', 'url': 'https://yt3.ggpht.com/iXC8XroyWtvjR1Ap0Ol0yGubFDg5p1nZU9lY7h-pXQ3o2YMQ7I-tRr8nNY-WBgzM1JxJON04XQ=w24-h24-c-k-nd'}{'id': 'JRdsYIi8Io_Y-QP3xYqoAg', 'txt': ':_馬千惠:', 'url': 'https://yt3.ggpht.com/iXC8XroyWtvjR1Ap0Ol0yGubFDg5p1nZU9lY7h-pXQ3o2YMQ7I-tRr8nNY-WBgzM1JxJON04XQ=w24-h24-c-k-nd'}{'id': 'JRdsYIi8Io_Y-QP3xYqoAg', 'txt': ':_馬千惠:', 'url': 'https://yt3.ggpht.com/iXC8XroyWtvjR1Ap0Ol0yGubFDg5p1nZU9lY7h-pXQ3o2YMQ7I-tRr8nNY-WBgzM1JxJON04XQ=w24-h24-c-k-nd'}{'id': 'Rf90XtDbG8GQ8gTz_prwAg', 'txt': ':thanksdoc:', 'url': 'https://yt3.ggpht.com/Av7Vf8FxIp0_dQg4cJrPcGmmL7v9RXraOXMp0ZBDN693ewoMTHbbS7D7V3GXpbtZPSNcRLHTQw=w24-h24-c-k-nd'}{'id': 'Rf90XtDbG8GQ8gTz_prwAg', 'txt': ':thanksdoc:', 'url': 'https://yt3.ggpht.com/Av7Vf8FxIp0_dQg4cJrPcGmmL7v9RXraOXMp0ZBDN693ewoMTHbbS7D7V3GXpbtZPSNcRLHTQw=w24-h24-c-k-nd'}{'id': 'hf90Xv-jHeOR8gSxxrToBA', 'txt': ':yougotthis:', 'url': 'https://yt3.ggpht.com/WxLUGtJzyLd4dcGaWnmcQnw9lTu9BW3_pEuCp6kcM2pxF5p5J28PvcYIXWh6uCm78LxGJVGn9g=w24-h24-c-k-nd'}{'id': 'hf90Xv-jHeOR8gSxxrToBA', 'txt': ':yougotthis:', 'url': 'https://yt3.ggpht.com/WxLUGtJzyLd4dcGaWnmcQnw9lTu9BW3_pEuCp6kcM2pxF5p5J28PvcYIXWh6uCm78LxGJVGn9g=w24-h24-c-k-nd'}\", \"{'id': '', 'txt': ':pig:', 'url': 'https://www.youtube.com/s/gaming/emoji/0f0cae22/emoji_u1f437.svg'}宅銭 {'id': '', 'txt': ':unamused_face:', 'url': 'https://www.youtube.com/s/gaming/emoji/0f0cae22/emoji_u1f612.svg'} 解放区{'id': '', 'txt': '', 'url': 'https://www.youtube.com/s/gaming/emoji/0f0cae22/emoji_u1f448_1f3fb.svg'}\", '不廢空', \"南無阿彌陀佛{'id': '', 'txt': ':folded_hands:', 'url': 'https://www.youtube.com/s/gaming/emoji/0f0cae22/emoji_u1f64f.svg'}\", '民怨沸驣!!!', '高雄又一家百貨倒閉', '(民進黨執政) 陳水扁 SARS死亡81人；蔡英文 COVID-19新冠肺炎死亡 1009人，打疫苗猝死 1473人(增加中)', '民怨沸驣!!!', \"@熊男くまお 推翻国民党政府以后，共产党把地都分给农民了，中国现在没有地主{'id': 'hf90Xv-jHeOR8gSxxrToBA', 'txt': ':yougotthis:', 'url': 'https://yt3.ggpht.com/WxLUGtJzyLd4dcGaWnmcQnw9lTu9BW3_pEuCp6kcM2pxF5p5J28PvcYIXWh6uCm78LxGJVGn9g=w24-h24-c-k-nd'}\", '自古民進黨執政無法國泰民安', '民怨沸驣!!!', '民怨沸驣!!!', \"{'id': '', 'txt': ':see_no_evil_monkey:', 'url': 'https://www.youtube.com/s/gaming/emoji/0f0cae22/emoji_u1f648.svg'}{'id': '', 'txt': ':bear:', 'url': 'https://www.youtube.com/s/gaming/emoji/0f0cae22/emoji_u1f43b.svg'}{'id': '', 'txt': ':see_no_evil_monkey:', 'url': 'https://www.youtube.com/s/gaming/emoji/0f0cae22/emoji_u1f648.svg'}\", '民怨沸驣!!!', '一天篩檢不到十萬人，黑數有多少，誰還信那個陳時中的數據，去看看台灣這幾年多死了多少人吧', '病毒不斷變異 得過未必免死金牌 何況還有長新冠後遺症 原裝最好', '還要送人篸給美珍姊啦！', '夭壽啊，41死', \"@熊男くまお 推翻国民党政府以后，共产党把地都分给农民了，中国现在没有地主{'id': 'hf90Xv-jHeOR8gSxxrToBA', 'txt': ':yougotthis:', 'url': 'https://yt3.ggpht.com/WxLUGtJzyLd4dcGaWnmcQnw9lTu9BW3_pEuCp6kcM2pxF5p5J28PvcYIXWh6uCm78LxGJVGn9g=w24-h24-c-k-nd'}\", '@許遵榮 你来大陆拿的是台湾共和国护照吗？你来大陆不是拿台胞证？你来大陆玩，是不是代表你承认你不是台湾共和国的？', '病死破千 1009人', '收視第一的錢多不怕罰 多罰一點啊', '只有你會執著在形式吧XD果然是之納思惟', '預言紫微中心沒跳出來... 表示死 41 小意思', \"@熊男くまお 果然是大Wa民族{'id': 'hf90Xv-jHeOR8gSxxrToBA', 'txt': ':yougotthis:', 'url': 'https://yt3.ggpht.com/WxLUGtJzyLd4dcGaWnmcQnw9lTu9BW3_pEuCp6kcM2pxF5p5J28PvcYIXWh6uCm78LxGJVGn9g=w24-h24-c-k-nd'}什么都不知道\", '对死亡的人感到遗憾和悼念，但是这是一早就预见的死亡，大家不要惊慌，一切尽在指挥中心的掌握当中', '这才哪到哪，过一星期再看', '陳時鐘下去道歉', '還說都輕症感冒?暴增41人死亡217例中重症說的這些人真該下地獄', '從古至今 民怨沒有用 都是能人出來改變現況 要有具體行動 不是無腦嘴能有成果', 'G邁人馬誰敢罰~~~~~~~~', '一天篩檢不到十萬人，黑數有多少，誰還信那個陳時中的數據，去看看台灣這幾年多死了多少人吧', '菜ee:沒 千個墓碑 沒道理。。', '還說都輕症感冒?暴增41人死亡217例中重症說的這些人真該下地獄', '民怨沸驣!!!', \"@熊男くまお 推翻国民党政府以后，共产党把地都分给农民了，中国现在没有地主{'id': 'hf90Xv-jHeOR8gSxxrToBA', 'txt': ':yougotthis:', 'url': 'https://yt3.ggpht.com/WxLUGtJzyLd4dcGaWnmcQnw9lTu9BW3_pEuCp6kcM2pxF5p5J28PvcYIXWh6uCm78LxGJVGn9g=w24-h24-c-k-nd'}\", '不要緊張41死亡，才剛上升期', '民怨沸驣!!!', \"邁家軍，陳家軍，都有特權 {'id': '', 'txt': ':astonished_face:', 'url': 'https://www.youtube.com/s/gaming/emoji/0f0cae22/emoji_u1f632.svg'}{'id': '', 'txt': ':astonished_face:', 'url': 'https://www.youtube.com/s/gaming/emoji/0f0cae22/emoji_u1f632.svg'}{'id': '', 'txt': ':astonished_face:', 'url': 'https://www.youtube.com/s/gaming/emoji/0f0cae22/emoji_u1f632.svg'}\", '台灣已經沒有是非可言了!', '民怨沸驣!!!', '一天篩檢不到十萬人，黑數有多少，誰還信那個陳時中的數據，去看看台灣這幾年多死了多少人吧', '民怨沸驣!!!', '以後麥當勞不接受某員工的訂單啦！', '一天篩檢不到十萬人，黑數有多少，誰還信那個陳時中的數據，去看看台灣這幾年多死了多少人吧', \"砕石 解放区{'id': '\\\\u200d', 'txt': '', 'url': 'https://www.youtube.com/s/gaming/emoji/0f0cae22/emoji_u1f9d8_1f3fb_200d_2640.svg'}{'id': '', 'txt': ':unamused_face:', 'url': 'https://www.youtube.com/s/gaming/emoji/0f0cae22/emoji_u1f612.svg'}\", '民怨沸驣!!!', '顏色不對什麼都不對都是錯的，顏色對了什麼都是對的做什麼都可以', \"我有{'id': '', 'txt': ':mouse:', 'url': 'https://www.youtube.com/s/gaming/emoji/0f0cae22/emoji_u1f42d.svg'}{'id': '', 'txt': ':mouse:', 'url': 'https://www.youtube.com/s/gaming/emoji/0f0cae22/emoji_u1f42d.svg'}{'id': '', 'txt': ':mouse:', 'url': 'https://www.youtube.com/s/gaming/emoji/0f0cae22/emoji_u1f42d.svg'}{'id': '', 'txt': ':mouse:', 'url': 'https://www.youtube.com/s/gaming/emoji/0f0cae22/emoji_u1f42d.svg'}\", 'G邁人馬誰敢罰~~~~~~~~', '@莫當中國奴 你自己说的，陈水扁口误，所以你是不是认为陈水扁可以做到改国号叫台湾共和国？那么为什么陈水扁不改国号？陈水扁不改，为什么蔡英文也不改？民进党不是台独政党吗？为什么民进党都全面执政了，还不改国号？', \"Wing Yuan小粉紅一輩子不能來台灣就是台獨的證明~~~事實勝於雄辯~~~你們只能在網路上看到台灣~~可憐阿{'id': '', 'txt': ':rolling_on_the_floor_laughing:', 'url': 'https://www.youtube.com/s/gaming/emoji/0f0cae22/emoji_u1f923.svg'}{'id': '', 'txt': ':rolling_on_the_floor_laughing:', 'url': 'https://www.youtube.com/s/gaming/emoji/0f0cae22/emoji_u1f923.svg'}{'id': '', 'txt': ':rolling_on_the_floor_laughing:', 'url': 'https://www.youtube.com/s/gaming/emoji/0f0cae22/emoji_u1f923.svg'}別崩潰阿~~我還是會去中國玩\", \"Wing Yuan小粉紅一輩子不能來台灣就是台獨的證明~~~事實勝於雄辯~~~你們只能在網路上看到台灣~~可憐阿{'id': '', 'txt': ':rolling_on_the_floor_laughing:', 'url': 'https://www.youtube.com/s/gaming/emoji/0f0cae22/emoji_u1f923.svg'}{'id': '', 'txt': ':rolling_on_the_floor_laughing:', 'url': 'https://www.youtube.com/s/gaming/emoji/0f0cae22/emoji_u1f923.svg'}{'id': '', 'txt': ':rolling_on_the_floor_laughing:', 'url': 'https://www.youtube.com/s/gaming/emoji/0f0cae22/emoji_u1f923.svg'}別崩潰阿~~我還是會去中國玩\", '54萬 41死 醫療嚴重不足 0.0001% 死亡率', '邁邁的人 不罰', \"Wing Yuan小粉紅一輩子不能來台灣就是台獨的證明~~~事實勝於雄辯~~~你們只能在網路上看到台灣~~可憐阿{'id': '', 'txt': ':rolling_on_the_floor_laughing:', 'url': 'https://www.youtube.com/s/gaming/emoji/0f0cae22/emoji_u1f923.svg'}{'id': '', 'txt': ':rolling_on_the_floor_laughing:', 'url': 'https://www.youtube.com/s/gaming/emoji/0f0cae22/emoji_u1f923.svg'}{'id': '', 'txt': ':rolling_on_the_floor_laughing:', 'url': 'https://www.youtube.com/s/gaming/emoji/0f0cae22/emoji_u1f923.svg'}別崩潰阿~~我還是會去中國玩\", \"Wing Yuan小粉紅一輩子不能來台灣就是台獨的證明~~~事實勝於雄辯~~~你們只能在網路上看到台灣~~可憐阿{'id': '', 'txt': ':rolling_on_the_floor_laughing:', 'url': 'https://www.youtube.com/s/gaming/emoji/0f0cae22/emoji_u1f923.svg'}{'id': '', 'txt': ':rolling_on_the_floor_laughing:', 'url': 'https://www.youtube.com/s/gaming/emoji/0f0cae22/emoji_u1f923.svg'}{'id': '', 'txt': ':rolling_on_the_floor_laughing:', 'url': 'https://www.youtube.com/s/gaming/emoji/0f0cae22/emoji_u1f923.svg'}別崩潰阿~~我還是會去中國玩\", '(台灣疫情 累計 1009人死亡) 2020年 死亡12人、2021年 死亡838人、2022年 死亡159人(增加中)', '喔', '民怨沸驣!!!', '紫微中心沒跳出來... 表示死 41 小意思', '一天篩檢不到十萬人，黑數有多少，誰還信那個陳時中的數據，去看看台灣這幾年多死了多少人吧', \"笑死 黑数好几倍了 还在自欺欺人 起码15万{'id': 'Iv90XouTLuOR8gSxxrToBA', 'txt': ':goodvibes:', 'url': 'https://yt3.ggpht.com/6LPOiCw9bYr3ZXe8AhUoIMpDe_0BglC4mBmi-uC4kLDqDIuPu4J3ErgV0lEhgzXiBluq-I8j=w24-h24-c-k-nd'}\", '民怨沸驣!!!', '民怨沸驣!!!', '民怨沸驣!!!', '民怨沸驣!!!', \"@唯安！沒事！我習慣了！{'id': '', 'txt': ':face_with_tears_of_joy:', 'url': 'https://www.youtube.com/s/gaming/emoji/0f0cae22/emoji_u1f602.svg'}{'id': '', 'txt': ':face_with_tears_of_joy:', 'url': 'https://www.youtube.com/s/gaming/emoji/0f0cae22/emoji_u1f602.svg'}{'id': '', 'txt': ':face_with_tears_of_joy:', 'url': 'https://www.youtube.com/s/gaming/emoji/0f0cae22/emoji_u1f602.svg'}{'id': '', 'txt': ':face_with_tears_of_joy:', 'url': 'https://www.youtube.com/s/gaming/emoji/0f0cae22/emoji_u1f602.svg'}{'id': '', 'txt': ':face_with_tears_of_joy:', 'url': 'https://www.youtube.com/s/gaming/emoji/0f0cae22/emoji_u1f602.svg'}{'id': '', 'txt': ':face_with_tears_of_joy:', 'url': 'https://www.youtube.com/s/gaming/emoji/0f0cae22/emoji_u1f602.svg'}\", '每天新增那么多，医院住满了，就会大批患者死亡', '民怨沸驣!!!', '民怨沸驣!!!', '一天篩檢不到十萬人，黑數有多少，誰還信那個陳時中的數據，去看看台灣這幾年多死了多少人吧', '民怨沸驣!!!', '這些人成天嘴綠 卻不能似綠做出實質有效的反政府活動 真以為靠張嘴能夠變天？', '災難發生。。。', '英特納雄耐爾 就一定要實現', '綠色說對就是對 !', \"笑死 黑数好几倍了 还在自欺欺人 起码15万{'id': 'Iv90XouTLuOR8gSxxrToBA', 'txt': ':goodvibes:', 'url': 'https://yt3.ggpht.com/6LPOiCw9bYr3ZXe8AhUoIMpDe_0BglC4mBmi-uC4kLDqDIuPu4J3ErgV0lEhgzXiBluq-I8j=w24-h24-c-k-nd'}\", '以後麥當勞不接受某員工的訂單啦！', '千碑千碑再，，，，', '還說都輕症感冒?暴增41人死亡217例中重症說的這些人真該下地獄', '你們可以去看看美國人怎樣對待黑人跟華人的你們還要去追隨我也沒辦法，就是跟著世界歷史全球毀滅性', '明天會是多少人往生？', \"蔡EE：我們防疫很好{'id': '', 'txt': '', 'url': 'https://www.youtube.com/s/gaming/emoji/0f0cae22/emoji_u1f44c_1f3fb.svg'}\", '(台灣疫情 累計 1009人死亡) 2020年 死亡12人、2021年 死亡838人、2022年 死亡159人(增加中)', '英特納雄耐爾就一定要實現', \"李佳穴 解放{'id': '\\\\u200d', 'txt': '', 'url': 'https://www.youtube.com/s/gaming/emoji/0f0cae22/emoji_u1f9d8_1f3fb_200d_2640.svg'}？\", '一天篩檢不到十萬人，黑數有多少，誰還信那個陳時中的數據', '千碑千碑再，，，，', \"Wing Yuan小粉紅一輩子不能來台灣就是台獨的證明~~~事實勝於雄辯~~~你們只能在網路上看到台灣~~可憐阿{'id': '', 'txt': ':rolling_on_the_floor_laughing:', 'url': 'https://www.youtube.com/s/gaming/emoji/0f0cae22/emoji_u1f923.svg'}{'id': '', 'txt': ':rolling_on_the_floor_laughing:', 'url': 'https://www.youtube.com/s/gaming/emoji/0f0cae22/emoji_u1f923.svg'}{'id': '', 'txt': ':rolling_on_the_floor_laughing:', 'url': 'https://www.youtube.com/s/gaming/emoji/0f0cae22/emoji_u1f923.svg'}別崩潰阿~~我還是會去中國玩\", \"Wing Yuan小粉紅一輩子不能來台灣就是台獨的證明~~~事實勝於雄辯~~~你們只能在網路上看到台灣~~可憐阿{'id': '', 'txt': ':rolling_on_the_floor_laughing:', 'url': 'https://www.youtube.com/s/gaming/emoji/0f0cae22/emoji_u1f923.svg'}{'id': '', 'txt': ':rolling_on_the_floor_laughing:', 'url': 'https://www.youtube.com/s/gaming/emoji/0f0cae22/emoji_u1f923.svg'}{'id': '', 'txt': ':rolling_on_the_floor_laughing:', 'url': 'https://www.youtube.com/s/gaming/emoji/0f0cae22/emoji_u1f923.svg'}別崩潰阿~~我還是會去中國玩\", '綠共就是黃皮膚美國人的意思', \"Wing Yuan小粉紅一輩子不能來台灣就是台獨的證明~~~事實勝於雄辯~~~你們只能在網路上看到台灣~~可憐阿{'id': '', 'txt': ':rolling_on_the_floor_laughing:', 'url': 'https://www.youtube.com/s/gaming/emoji/0f0cae22/emoji_u1f923.svg'}{'id': '', 'txt': ':rolling_on_the_floor_laughing:', 'url': 'https://www.youtube.com/s/gaming/emoji/0f0cae22/emoji_u1f923.svg'}{'id': '', 'txt': ':rolling_on_the_floor_laughing:', 'url': 'https://www.youtube.com/s/gaming/emoji/0f0cae22/emoji_u1f923.svg'}別崩潰阿~~我還是會去中國玩\", '英特納雄耐爾就一定要實現', '@五竹，可能我看錯了', '217例中重症 這麼多 ', 'ZNMB', '一天篩檢不到十萬人，黑數有多少，誰還信那個陳時中的數據', \"陳時中也沒罰 ，妖言禍眾的 “焦糖哥哥” {'id': '', 'txt': ':astonished_face:', 'url': 'https://www.youtube.com/s/gaming/emoji/0f0cae22/emoji_u1f632.svg'}{'id': '', 'txt': ':astonished_face:', 'url': 'https://www.youtube.com/s/gaming/emoji/0f0cae22/emoji_u1f632.svg'}{'id': '', 'txt': ':astonished_face:', 'url': 'https://www.youtube.com/s/gaming/emoji/0f0cae22/emoji_u1f632.svg'}\", '既然是', '不要緊張 41死亡 重症清零', '不要緊張 41死亡 重症清零', '不要緊張 41死亡 重症清零', '這次疫情看民眾會不會醒 年底讓民進黨下台囉 罵民進黨沒用 民進黨只怕選舉選輸', '哈 活該', '不要緊張 41死亡 重症清零', '台灣人還能忍，就真的讓人想不通，命沒了還能台獨嗎？', '(台灣疫情 累計 1009人死亡) 2020年 死亡12人、2021年 死亡838人、2022年 死亡159人(增加中)', '還中天40萬', \"{'id': 'GAZuYtuqF4e_8wTbvby4BQ', 'txt': ':_06中天:', 'url': 'https://yt3.ggpht.com/VY6jfE2r7lWD48_mg69ena7Gm5BuayvOYR9PwpXQzYzX0DBoHANVRozMsmxQwiU6PrGXFdu6yA=w24-h24-c-k-nd'}中天加油\", \"@Jack ko 管我哪裡人呢{'id': '', 'txt': ':face_with_rolling_eyes:', 'url': 'https://www.youtube.com/s/gaming/emoji/0f0cae22/emoji_u1f644.svg'}\", '(台灣疫情 累計 1009人死亡) 2020年 死亡12人、2021年 死亡838人、2022年 死亡159人(增加中)', '@莫當中國奴 陈水扁口误，所以陈水扁可以做到，那么为什么陈水扁不改国号叫台湾共和国？为什么你们现在还叫中华民国？', '只準州官放火 不準百姓點燈', \"代理人 有銭 解放必要{'id': '', 'txt': ':unamused_face:', 'url': 'https://www.youtube.com/s/gaming/emoji/0f0cae22/emoji_u1f612.svg'}\", '人民自己不覺醒.不要說國民黨就是神仙下凡也難救。', '這次疫情看民眾會不會醒 年底讓民進黨下台囉 罵民進黨沒用 民進黨只怕選舉選輸', \"@唯安！我說什麼了？{'id': '', 'txt': ':pleading_face:', 'url': 'https://www.youtube.com/s/gaming/emoji/0f0cae22/emoji_u1f97a.svg'}{'id': '', 'txt': ':pleading_face:', 'url': 'https://www.youtube.com/s/gaming/emoji/0f0cae22/emoji_u1f97a.svg'}{'id': '', 'txt': ':pleading_face:', 'url': 'https://www.youtube.com/s/gaming/emoji/0f0cae22/emoji_u1f97a.svg'}{'id': '', 'txt': ':pleading_face:', 'url': 'https://www.youtube.com/s/gaming/emoji/0f0cae22/emoji_u1f97a.svg'}{'id': '', 'txt': ':pleading_face:', 'url': 'https://www.youtube.com/s/gaming/emoji/0f0cae22/emoji_u1f97a.svg'}\", '有色眼鏡', '重症由上帝接手清零', '(台灣疫情 累計 1009人死亡) 2020年 死亡12人、2021年 死亡838人、2022年 死亡159人(增加中)', '為什麼好久沒看到賴岳謙教授來上節目了', \"@熊男くまお 你们骂的，其实都是民国政府做的{'id': '', 'txt': ':face_with_tears_of_joy:', 'url': 'https://www.youtube.com/s/gaming/emoji/0f0cae22/emoji_u1f602.svg'}\", '記錯了三個黑人才對', '直接躺平算了', '(台灣疫情 累計 1009人死亡) 2020年 死亡12人、2021年 死亡838人、2022年 死亡159人(增加中)', '不拿捏，怎知不', '陳時中部長 不會到一天全殲一個滿編連吧', '陳水扁口誤 可以了嗎 起來 性功能障礙的人們', '綠共跟中共完全不一樣喔，綠共大概比上個世紀二戰的中共還不如', '@許遵榮 2005年3月1日，陈水扁与欧洲议会议员进行视讯会议时表示：“我必须要坦诚，我不能够骗自己，我也不能够骗别人。 我做不到，我就是做不到。 在我的任期之内，要把我叫的国号改为台湾共和国，我做不到。', '國民黨都回中國過好日子了 誰還要在台灣讓討厭的人捅', \"笑死 黑数好几倍了 还在自欺欺人 起码15万{'id': 'Iv90XouTLuOR8gSxxrToBA', 'txt': ':goodvibes:', 'url': 'https://yt3.ggpht.com/6LPOiCw9bYr3ZXe8AhUoIMpDe_0BglC4mBmi-uC4kLDqDIuPu4J3ErgV0lEhgzXiBluq-I8j=w24-h24-c-k-nd'}\", '簡單來說 台式正義就是假正義之名 行無恥之事 冒名許遵榮的現象 只是最小的一種', '對岸的看完台灣現況，還有統一想法嗎？', \"{'id': '', 'txt': ':pig:', 'url': 'https://www.youtube.com/s/gaming/emoji/0f0cae22/emoji_u1f437.svg'}解放区{'id': '', 'txt': ':supervillain:', 'url': 'https://www.youtube.com/s/gaming/emoji/0f0cae22/emoji_u1f9b9.svg'}\", \"陳時中鐘 無能防疫，每天都有 驚喜，，{'id': '', 'txt': ':face_screaming_in_fear:', 'url': 'https://www.youtube.com/s/gaming/emoji/0f0cae22/emoji_u1f631.svg'}{'id': '', 'txt': ':face_screaming_in_fear:', 'url': 'https://www.youtube.com/s/gaming/emoji/0f0cae22/emoji_u1f631.svg'}{'id': '', 'txt': ':face_screaming_in_fear:', 'url': 'https://www.youtube.com/s/gaming/emoji/0f0cae22/emoji_u1f631.svg'}\", \"笑死 黑数好几倍了 还在自欺欺人 起码15万{'id': 'Iv90XouTLuOR8gSxxrToBA', 'txt': ':goodvibes:', 'url': 'https://yt3.ggpht.com/6LPOiCw9bYr3ZXe8AhUoIMpDe_0BglC4mBmi-uC4kLDqDIuPu4J3ErgV0lEhgzXiBluq-I8j=w24-h24-c-k-nd'}\", '蔡英文還錢於民 蘇貞昌還錢於門 民進黨還錢於民 蔡英文還命於民 蘇貞昌還命於民 民進黨還命於民 蔡英文不如歸去 蘇貞昌不如歸去 民進黨不如歸去', '@許遵榮 2005年3月1日，陈水扁与欧洲议会议员进行视讯会议时表示：“我必须要坦诚，我不能够骗自己，我也不能够骗别人。 我做不到，我就是做不到。 在我的任期之内，要把我叫的国号改为台湾共和国，我做不到。', '不要緊張 41死亡 重症清零', '肯定是虛標的5納米，再看看吧。', '不要緊張 41死亡 重症清零', \"@五竹 你剛說啥{'id': '', 'txt': ':thinking_face:', 'url': 'https://www.youtube.com/s/gaming/emoji/0f0cae22/emoji_u1f914.svg'}\", '不要緊張 41死亡 重症清零', '不要緊張 41死亡 重症清零', \"可入鐘烈詞{'id': '', 'txt': ':beaming_face_with_smiling_eyes:', 'url': 'https://www.youtube.com/s/gaming/emoji/0f0cae22/emoji_u1f601.svg'}\", '不要緊張 41死亡 重症清零', '紫微中心沒跳出來... 表示不要緊... 41gg', '不要緊張 41死亡 重症清零', '@許遵榮 请回答我，既然已经台独了，为什么十几年前陈水扁说“做不到，就是做不到”？', '已經沒有重症都走掉', '重症到死亡66％', '很多無症狀確診 自己不知 免費普發在家快篩 能杜絕擴散', '世界怎麼跟得上台灣 : 只有我們要排隊買快篩', '多在路邊吃午餐的 uber eat外送員 情何以堪', \"小粉紅一輩子不能來台灣就是台獨的證明~~~事實勝於雄辯~~~你們只能在網路上看到台灣~~可憐阿{'id': '', 'txt': ':rolling_on_the_floor_laughing:', 'url': 'https://www.youtube.com/s/gaming/emoji/0f0cae22/emoji_u1f923.svg'}{'id': '', 'txt': ':rolling_on_the_floor_laughing:', 'url': 'https://www.youtube.com/s/gaming/emoji/0f0cae22/emoji_u1f923.svg'}{'id': '', 'txt': ':rolling_on_the_floor_laughing:', 'url': 'https://www.youtube.com/s/gaming/emoji/0f0cae22/emoji_u1f923.svg'}別崩潰阿~~我還是會去中國玩\", '夭壽 ！ 今天41人死亡耶 ~', \"小粉紅一輩子不能來台灣就是台獨的證明~~~事實勝於雄辯~~~你們只能在網路上看到台灣~~可憐阿{'id': '', 'txt': ':rolling_on_the_floor_laughing:', 'url': 'https://www.youtube.com/s/gaming/emoji/0f0cae22/emoji_u1f923.svg'}{'id': '', 'txt': ':rolling_on_the_floor_laughing:', 'url': 'https://www.youtube.com/s/gaming/emoji/0f0cae22/emoji_u1f923.svg'}{'id': '', 'txt': ':rolling_on_the_floor_laughing:', 'url': 'https://www.youtube.com/s/gaming/emoji/0f0cae22/emoji_u1f923.svg'}別崩潰阿~~我還是會去中國玩\", \"小粉紅一輩子不能來台灣就是台獨的證明~~~事實勝於雄辯~~~你們只能在網路上看到台灣~~可憐阿{'id': '', 'txt': ':rolling_on_the_floor_laughing:', 'url': 'https://www.youtube.com/s/gaming/emoji/0f0cae22/emoji_u1f923.svg'}{'id': '', 'txt': ':rolling_on_the_floor_laughing:', 'url': 'https://www.youtube.com/s/gaming/emoji/0f0cae22/emoji_u1f923.svg'}{'id': '', 'txt': ':rolling_on_the_floor_laughing:', 'url': 'https://www.youtube.com/s/gaming/emoji/0f0cae22/emoji_u1f923.svg'}別崩潰阿~~我還是會去中國玩\", '如果1天 200就跟上 權世界', \"小粉紅一輩子不能來台灣就是台獨的證明~~~事實勝於雄辯~~~你們只能在網路上看到台灣~~可憐阿{'id': '', 'txt': ':rolling_on_the_floor_laughing:', 'url': 'https://www.youtube.com/s/gaming/emoji/0f0cae22/emoji_u1f923.svg'}{'id': '', 'txt': ':rolling_on_the_floor_laughing:', 'url': 'https://www.youtube.com/s/gaming/emoji/0f0cae22/emoji_u1f923.svg'}{'id': '', 'txt': ':rolling_on_the_floor_laughing:', 'url': 'https://www.youtube.com/s/gaming/emoji/0f0cae22/emoji_u1f923.svg'}別崩潰阿~~我還是會去中國玩\", \"@熊男くまお 对，民国时期只有地主有钱，被共产党解放喽{'id': 'hf90Xv-jHeOR8gSxxrToBA', 'txt': ':yougotthis:', 'url': 'https://yt3.ggpht.com/WxLUGtJzyLd4dcGaWnmcQnw9lTu9BW3_pEuCp6kcM2pxF5p5J28PvcYIXWh6uCm78LxGJVGn9g=w24-h24-c-k-nd'}\", '四十一人死没有怕，老共香港过去每天死四百人', \"{'id': '', 'txt': ':disappointed_face:', 'url': 'https://www.youtube.com/s/gaming/emoji/0f0cae22/emoji_u1f61e.svg'}支持購買會員正版{'id': '', 'txt': ':disappointed_face:', 'url': 'https://www.youtube.com/s/gaming/emoji/0f0cae22/emoji_u1f61e.svg'}\", \"小粉紅一輩子不能來台灣就是台獨的證明~~~事實勝於雄辯~~~你們只能在網路上看到台灣~~可憐阿{'id': '', 'txt': ':rolling_on_the_floor_laughing:', 'url': 'https://www.youtube.com/s/gaming/emoji/0f0cae22/emoji_u1f923.svg'}{'id': '', 'txt': ':rolling_on_the_floor_laughing:', 'url': 'https://www.youtube.com/s/gaming/emoji/0f0cae22/emoji_u1f923.svg'}{'id': '', 'txt': ':rolling_on_the_floor_laughing:', 'url': 'https://www.youtube.com/s/gaming/emoji/0f0cae22/emoji_u1f923.svg'}別崩潰阿~~我還是會去中國玩女人~~你還在陳水扁~~你好老\", '明天有和平大遊行', '貔貅，畢竟問題，業者送十両', \"小粉紅一輩子不能來台灣就是台獨的證明~~~事實勝於雄辯~~~你們只能在網路上看到台灣~~可憐阿{'id': '', 'txt': ':rolling_on_the_floor_laughing:', 'url': 'https://www.youtube.com/s/gaming/emoji/0f0cae22/emoji_u1f923.svg'}{'id': '', 'txt': ':rolling_on_the_floor_laughing:', 'url': 'https://www.youtube.com/s/gaming/emoji/0f0cae22/emoji_u1f923.svg'}{'id': '', 'txt': ':rolling_on_the_floor_laughing:', 'url': 'https://www.youtube.com/s/gaming/emoji/0f0cae22/emoji_u1f923.svg'}別崩潰阿~~我還是會去中國玩女人~~你還在陳水扁~~你好老\", '台式正義 就像是冒許遵榮的名 製造仇恨', '已經有校正回歸了，之後還要蓋牌？就是為了選舉，毫無良心可言', '防疫氣象局，負責預測，請大家小心颱風，如何防颱？請切記五字箴言〝自己救自己〞，老百姓問：你作戰指揮中心有甚麼功能？答：每天報數字跟預測未來走向。老百姓在問：你作戰指揮中心都沒有預防措施？答：不是說了〝自己救自己〞，儘量趨吉避凶。', '41人死亡、217例中重症~~~~', '台灣獨立了？國號是什麼？國旗在哪裡？', '現在的民進黨作為不就跟中共一樣了嗎？綠黨討厭中共但是他們不知道他們自己已經成了自己討厭的黨派', '確診已經卡上限了喔，死亡率開始飆升', \"隨人顧性命{'id': '', 'txt': ':beaming_face_with_smiling_eyes:', 'url': 'https://www.youtube.com/s/gaming/emoji/0f0cae22/emoji_u1f601.svg'}\", \"阿中可能要去十八層地獄關7749年{'id': '', 'txt': ':thinking_face:', 'url': 'https://www.youtube.com/s/gaming/emoji/0f0cae22/emoji_u1f914.svg'}{'id': '', 'txt': ':thinking_face:', 'url': 'https://www.youtube.com/s/gaming/emoji/0f0cae22/emoji_u1f914.svg'}\", '被紫微中心瞪眼. 41gg...... ', \"41往生{'id': '', 'txt': '', 'url': 'https://www.youtube.com/s/gaming/emoji/0f0cae22/emoji_u1f64f_1f3fb.svg'}\", '檢測量不夠,數字沒意義,現在主要是看死亡人數了,今天41人死,比昨天升一倍,要學南韓了,可憐', \"小粉紅一輩子不能來台灣就是台獨的證明~~~事實勝於雄辯~~~你們只能在網路上看到台灣~~可憐阿{'id': '', 'txt': ':rolling_on_the_floor_laughing:', 'url': 'https://www.youtube.com/s/gaming/emoji/0f0cae22/emoji_u1f923.svg'}{'id': '', 'txt': ':rolling_on_the_floor_laughing:', 'url': 'https://www.youtube.com/s/gaming/emoji/0f0cae22/emoji_u1f923.svg'}{'id': '', 'txt': ':rolling_on_the_floor_laughing:', 'url': 'https://www.youtube.com/s/gaming/emoji/0f0cae22/emoji_u1f923.svg'}別崩潰阿~~我還是會去中國玩女人~~你還在陳水扁~~你好老\", '這次疫情看民眾會不會醒 年底讓民進黨下台囉', '屍體別亂凍', \"小粉紅一輩子不能來台灣就是台獨的證明~~~事實勝於雄辯~~~你們只能在網路上看到台灣~~可憐阿{'id': '', 'txt': ':rolling_on_the_floor_laughing:', 'url': 'https://www.youtube.com/s/gaming/emoji/0f0cae22/emoji_u1f923.svg'}{'id': '', 'txt': ':rolling_on_the_floor_laughing:', 'url': 'https://www.youtube.com/s/gaming/emoji/0f0cae22/emoji_u1f923.svg'}{'id': '', 'txt': ':rolling_on_the_floor_laughing:', 'url': 'https://www.youtube.com/s/gaming/emoji/0f0cae22/emoji_u1f923.svg'}別崩潰阿~~我還是會去中國玩女人~~你還在陳水扁~~你好老\", '台南很熱！', \"南無阿彌陀佛{'id': '', 'txt': ':folded_hands:', 'url': 'https://www.youtube.com/s/gaming/emoji/0f0cae22/emoji_u1f64f.svg'}\", '国民党为什么不救台湾人？', '前幾天我都告訴大家死人會20人以上，結果今天公告死人40多人民了，南無阿彌陀佛，害，我早就知道會這樣的，星期一最超過7~8萬人及死亡60人以上，大家看看吧，祝福大家好好自己照顧好自己 吧', \"地主有銭 ？解放区{'id': '', 'txt': ':supervillain:', 'url': 'https://www.youtube.com/s/gaming/emoji/0f0cae22/emoji_u1f9b9.svg'}{'id': '', 'txt': ':dagger:', 'url': 'https://www.youtube.com/s/gaming/emoji/0f0cae22/emoji_u1f5e1.svg'}\", '41人死亡、217例中重症~~~~~', \"抬彎光速超越尚海了{'id': '', 'txt': ':beaming_face_with_smiling_eyes:', 'url': 'https://www.youtube.com/s/gaming/emoji/0f0cae22/emoji_u1f601.svg'}筷腮傳奇\", \"小粉紅一輩子不能來台灣就是台獨的證明~~~事實勝於雄辯~~~你們只能在網路上看到台灣~~可憐阿{'id': '', 'txt': ':rolling_on_the_floor_laughing:', 'url': 'https://www.youtube.com/s/gaming/emoji/0f0cae22/emoji_u1f923.svg'}{'id': '', 'txt': ':rolling_on_the_floor_laughing:', 'url': 'https://www.youtube.com/s/gaming/emoji/0f0cae22/emoji_u1f923.svg'}{'id': '', 'txt': ':rolling_on_the_floor_laughing:', 'url': 'https://www.youtube.com/s/gaming/emoji/0f0cae22/emoji_u1f923.svg'}別崩潰阿~~我還是會去中國玩女人\", '@許遵榮 台湾本来就独立，为什么陈水扁说“台湾独立，做不到就是做不到”？台湾独立，你们的国号是什么？你们的宪法是什么？', '阿彌陀佛', \"小粉紅一輩子不能來台灣就是台獨的證明~~~事實勝於雄辯~~~你們只能在網路上看到台灣~~可憐阿{'id': '', 'txt': ':rolling_on_the_floor_laughing:', 'url': 'https://www.youtube.com/s/gaming/emoji/0f0cae22/emoji_u1f923.svg'}{'id': '', 'txt': ':rolling_on_the_floor_laughing:', 'url': 'https://www.youtube.com/s/gaming/emoji/0f0cae22/emoji_u1f923.svg'}{'id': '', 'txt': ':rolling_on_the_floor_laughing:', 'url': 'https://www.youtube.com/s/gaming/emoji/0f0cae22/emoji_u1f923.svg'}別崩潰阿~~我還是會去中國玩女人\", '一個排 排長班長班兵全殲', '@羅友志友話銼喔', \"小粉紅一輩子不能來台灣就是台獨的證明~~~事實勝於雄辯~~~你們只能在網路上看到台灣~~可憐阿{'id': '', 'txt': ':rolling_on_the_floor_laughing:', 'url': 'https://www.youtube.com/s/gaming/emoji/0f0cae22/emoji_u1f923.svg'}{'id': '', 'txt': ':rolling_on_the_floor_laughing:', 'url': 'https://www.youtube.com/s/gaming/emoji/0f0cae22/emoji_u1f923.svg'}{'id': '', 'txt': ':rolling_on_the_floor_laughing:', 'url': 'https://www.youtube.com/s/gaming/emoji/0f0cae22/emoji_u1f923.svg'}別崩潰阿~~我還是會去中國玩女人\", '不要緊張 41死亡 重症清零', '1450不要洗版', '估計100', '台式正義 是人民賦予蔡政府的權利', '向四十一位亡者哀悼。', '世界怎麼跟得上台灣 : 只有我們要排隊買快篩', '檢測量不夠,數字沒意義,現在主要是看死亡人數了,今天41人死,比昨天升一倍,要學南韓了,可憐', \"小粉紅一輩子不能來台灣就是台獨的證明~~~事實勝於雄辯~~~你們只能在網路上看到台灣~~可憐阿{'id': '', 'txt': ':rolling_on_the_floor_laughing:', 'url': 'https://www.youtube.com/s/gaming/emoji/0f0cae22/emoji_u1f923.svg'}{'id': '', 'txt': ':rolling_on_the_floor_laughing:', 'url': 'https://www.youtube.com/s/gaming/emoji/0f0cae22/emoji_u1f923.svg'}{'id': '', 'txt': ':rolling_on_the_floor_laughing:', 'url': 'https://www.youtube.com/s/gaming/emoji/0f0cae22/emoji_u1f923.svg'}\", '友志講錯話，扯蕭皇奇是暗示什麼，要道歉', '現在只有 等牠們自己為了黑人民錢財吵起來！ 有的派系爽圖利多 有的要找機會 遲早內鬨', \"許遵榮妥妥的台獨份子 {'id': '', 'txt': ':grinning_squinting_face:', 'url': 'https://www.youtube.com/s/gaming/emoji/0f0cae22/emoji_u1f606.svg'}\", '台灣在被賣的路上，可悲的是多數民眾無感或還没醒！', '台灣在被賣的路上，可悲的是多數民眾無感或還没醒！', '前幾天我都告訴大家死人會20人以上，結果今天公告死人40多人民了，南無阿彌陀佛，害，我早就知道會這樣的，星期一最超過7~8萬人及死亡60人以上，大家看看吧，祝福大家好好自己照顧好自己 吧', \"許遵榮妥妥的台獨份子 {'id': '', 'txt': ':grinning_squinting_face:', 'url': 'https://www.youtube.com/s/gaming/emoji/0f0cae22/emoji_u1f606.svg'}\", '檢測量不夠,數字沒意義,現在主要是看死亡人數了,今天41人死,比昨天升一倍,要學南韓了,可憐', \"小粉紅一輩子不能來台灣就是台獨的證明~~~事實勝於雄辯~~~你們只能在網路上看到台灣~~可憐阿{'id': '', 'txt': ':rolling_on_the_floor_laughing:', 'url': 'https://www.youtube.com/s/gaming/emoji/0f0cae22/emoji_u1f923.svg'}{'id': '', 'txt': ':rolling_on_the_floor_laughing:', 'url': 'https://www.youtube.com/s/gaming/emoji/0f0cae22/emoji_u1f923.svg'}{'id': '', 'txt': ':rolling_on_the_floor_laughing:', 'url': 'https://www.youtube.com/s/gaming/emoji/0f0cae22/emoji_u1f923.svg'}\", '未婚，，承諾', '篩檢量增加 確診數增加，然後中重率也增高…… 所以 塔綠班防疫，不普篩，', \"許遵榮妥妥的台獨份子 {'id': '', 'txt': ':grinning_squinting_face:', 'url': 'https://www.youtube.com/s/gaming/emoji/0f0cae22/emoji_u1f606.svg'}\", '台灣在被賣的路上，可悲的是多數民眾無感或還没醒！', \"小粉紅一輩子不能來台灣就是台獨的證明~~~事實勝於雄辯~~~你們只能在網路上看到台灣~~可憐阿{'id': '', 'txt': ':rolling_on_the_floor_laughing:', 'url': 'https://www.youtube.com/s/gaming/emoji/0f0cae22/emoji_u1f923.svg'}{'id': '', 'txt': ':rolling_on_the_floor_laughing:', 'url': 'https://www.youtube.com/s/gaming/emoji/0f0cae22/emoji_u1f923.svg'}{'id': '', 'txt': ':rolling_on_the_floor_laughing:', 'url': 'https://www.youtube.com/s/gaming/emoji/0f0cae22/emoji_u1f923.svg'}\", '41死', '現在民進党就是玩川普那套', \"小粉紅一輩子不能來台灣就是台獨的證明~~~事實勝於雄辯~~~你們只能在網路上看到台灣~~可憐阿{'id': '', 'txt': ':rolling_on_the_floor_laughing:', 'url': 'https://www.youtube.com/s/gaming/emoji/0f0cae22/emoji_u1f923.svg'}{'id': '', 'txt': ':rolling_on_the_floor_laughing:', 'url': 'https://www.youtube.com/s/gaming/emoji/0f0cae22/emoji_u1f923.svg'}{'id': '', 'txt': ':rolling_on_the_floor_laughing:', 'url': 'https://www.youtube.com/s/gaming/emoji/0f0cae22/emoji_u1f923.svg'}\", \"小粉紅一輩子不能來台灣就是台獨的證明~~~事實勝於雄辯~~~你們只能在網路上看到台灣~~可憐阿{'id': '', 'txt': ':rolling_on_the_floor_laughing:', 'url': 'https://www.youtube.com/s/gaming/emoji/0f0cae22/emoji_u1f923.svg'}{'id': '', 'txt': ':rolling_on_the_floor_laughing:', 'url': 'https://www.youtube.com/s/gaming/emoji/0f0cae22/emoji_u1f923.svg'}{'id': '', 'txt': ':rolling_on_the_floor_laughing:', 'url': 'https://www.youtube.com/s/gaming/emoji/0f0cae22/emoji_u1f923.svg'}\", ' 今天的瞪眼.. 死了幾gg ?? ', '台灣在被賣的路上，可悲的是多數民眾無感或還没醒！', \"哇靠{'id': '', 'txt': ':red_exclamation_mark:', 'url': 'https://www.youtube.com/s/gaming/emoji/0f0cae22/emoji_u2757.svg'}40死{'id': '', 'txt': ':red_exclamation_mark:', 'url': 'https://www.youtube.com/s/gaming/emoji/0f0cae22/emoji_u2757.svg'}\", '前幾天我都告訴大家死人會20人以上，結果今天公告死人40多人民了，南無阿彌陀佛，害，我早就知道會這樣的，星期一最超過7~8萬人及死亡60人以上，大家看看吧，祝福大家好好自己照顧好自己 吧', \"我餓餓{'id': '', 'txt': ':crying_face:', 'url': 'https://www.youtube.com/s/gaming/emoji/0f0cae22/emoji_u1f622.svg'}\", '為什麼不罰', '不要緊張 41死亡 重症清零', '小粉紅一輩子不能來台灣就是台獨的證明~~~事實勝於雄辯~~~你們只能在網路上看到台灣~~可憐阿', '支持柯P 篩陽即確診 居格.通報.下藥.轉重收治', \"許遵榮妥妥的台獨份子 {'id': '', 'txt': ':grinning_squinting_face:', 'url': 'https://www.youtube.com/s/gaming/emoji/0f0cae22/emoji_u1f606.svg'}\", '不要緊張 41死亡 重症清零', '不管你的用意如何..這些死亡同胞皆在無為的政府防疫下去逝.不是數字..是人命', '檢測量不夠,數字沒意義,現在主要是看死亡人數了,今天41人死,比昨天升一倍,要學南韓了,可憐', '你們去查五個年輕黑人的那件案子', \"嬰孥{'id': '', 'txt': ':beaming_face_with_smiling_eyes:', 'url': 'https://www.youtube.com/s/gaming/emoji/0f0cae22/emoji_u1f601.svg'}\", \"解放区 李兄弟 {'id': '', 'txt': ':unamused_face:', 'url': 'https://www.youtube.com/s/gaming/emoji/0f0cae22/emoji_u1f612.svg'}\", '不要緊張 41死亡 重症清零', '@許遵榮 又来了，昨天才有个台独分子被我怼到不说话。', '難怪民進黨都要用綠能 因為綠能你不能', '已經在報數字了啦！哈哈哈哈……數字專家來了啊！', '今天死亡一個排全滅', '悲哀', '心痛阿各位這還有正義嗎還有自由嗎？', \"許遵榮妥妥的台獨份子 {'id': '', 'txt': ':grinning_squinting_face:', 'url': 'https://www.youtube.com/s/gaming/emoji/0f0cae22/emoji_u1f606.svg'}\", '中國明後年EUV每平方毫米可以接近5納米密度。', \"科技{'id': '', 'txt': ':disappointed_face:', 'url': 'https://www.youtube.com/s/gaming/emoji/0f0cae22/emoji_u1f61e.svg'}\", \"檔證就是真理{'id': '', 'txt': ':face_savoring_food:', 'url': 'https://www.youtube.com/s/gaming/emoji/0f0cae22/emoji_u1f60b.svg'}\", '常出現TVBS 中天', '悲哀！', '台灣檢測量最多就一天八萬 超過八萬 檢驗就沒意義', '深山狂人林婉儿Wing Yuan 西西瓜 小粉紅雖然封城沒飯吃~~還是喜歡翻牆來看台灣~~哈哈哈~~~等等和中央網信辦舉報你們~~小粉紅的素質看的出來又崩潰了~~小粉紅一輩子不能來台灣就是台獨的證明~~~台灣本來就獨立阿~~哈哈~~', '前幾天我都告訴大家死人會20人以上，結果今天公告死人40多人民了，南無阿彌陀佛，害，我早就知道會這樣的，星期一最超過7~8萬人及死亡60人以上，大家看看吧，祝福大家好好自己照顧好自己 吧', \"許遵榮妥妥的台獨份子 {'id': '', 'txt': ':grinning_squinting_face:', 'url': 'https://www.youtube.com/s/gaming/emoji/0f0cae22/emoji_u1f606.svg'}\", \"小朋友們，年長者，孕婦們要多多保重了{'id': '', 'txt': ':folded_hands:', 'url': 'https://www.youtube.com/s/gaming/emoji/0f0cae22/emoji_u1f64f.svg'}{'id': '', 'txt': ':folded_hands:', 'url': 'https://www.youtube.com/s/gaming/emoji/0f0cae22/emoji_u1f64f.svg'}{'id': '', 'txt': ':folded_hands:', 'url': 'https://www.youtube.com/s/gaming/emoji/0f0cae22/emoji_u1f64f.svg'}\", '正版許尊榮是親中的', '塔綠班是 演以利己', '41', '深山狂人林婉儿Wing Yuan 西西瓜 小粉紅雖然封城沒飯吃~~還是喜歡翻牆來看台灣~~哈哈哈~~~等等和中央網信辦舉報你們~~小粉紅的素質看的出來又崩潰了~~小粉紅一輩子不能來台灣就是台獨的證明~~~台灣本來就獨立阿~~哈哈~~', '今天中重症超過兩百人了', '41', '檢測量不夠,數字沒意義,現在主要是看死亡人數了,今天41人死,比昨天升一倍,要學南韓了,可憐', '頭像！', '今天有41死齁 中重症有217人齁', '快樂缺氧？？錯，缺氧是痛苦的，還快樂缺氧。', \"許遵榮妥妥的台獨份子 {'id': '', 'txt': ':grinning_squinting_face:', 'url': 'https://www.youtube.com/s/gaming/emoji/0f0cae22/emoji_u1f606.svg'}\", '川普那個時候還用很多錢來用綠媒力量誣賴這五個年輕黑人', '（4）本28420境67死5人（5）本30035境71人死5人（6）本36168境45死10人（7）本46377境159死11人（8）本44294境67死12人（9）本40263境41死12人（10）本50780境48死12人（11）本57188境28死8人（12）本65385境61死17人累積（13）64972境39死41人中重症1180人（156人死亡）', '41', '@許遵榮 谁刷屏谁崩溃，不崩溃的都在讨论，崩溃的在刷屏', '翻了一倍，越死越多', '深山狂人林婉儿Wing Yuan 西西瓜 小粉紅雖然封城沒飯吃~~還是喜歡翻牆來看台灣~~哈哈哈~~~等等和中央網信辦舉報你們~~小粉紅的素質看的出來又崩潰了', \"許遵榮妥妥的台獨份子 {'id': '', 'txt': ':grinning_squinting_face:', 'url': 'https://www.youtube.com/s/gaming/emoji/0f0cae22/emoji_u1f606.svg'}\", '移工防疫旅館，走出房門拿碗泡麵，罰！官字兩個口！！', '殡葬业生意好了这下', '喔，他有家庭', '悲哀！', '@林婉儿 @五竹@Wing Yuan {\\'id\\': \\'\\', \\'txt\\': \\':smiling_face_with_hearts:\\', \\'url\\': \\'https://www.youtube.com/s/gaming/emoji/0f0cae22/emoji_u1f970.svg\\'}本人支持「中華民國」支持藍軍【你看到山寨\"許遵榮\"假帳號 請封鎖】謝謝', '41', \"沒檔證，去吃史吧！{'id': '', 'txt': ':beaming_face_with_smiling_eyes:', 'url': 'https://www.youtube.com/s/gaming/emoji/0f0cae22/emoji_u1f601.svg'}\", \"許遵榮妥妥的台獨份子 {'id': '', 'txt': ':grinning_squinting_face:', 'url': 'https://www.youtube.com/s/gaming/emoji/0f0cae22/emoji_u1f606.svg'} \", \"@許遵榮！好！{'id': '', 'txt': ':teacup_without_handle:', 'url': 'https://www.youtube.com/s/gaming/emoji/0f0cae22/emoji_u1f375.svg'}{'id': '', 'txt': ':teacup_without_handle:', 'url': 'https://www.youtube.com/s/gaming/emoji/0f0cae22/emoji_u1f375.svg'}{'id': '', 'txt': ':teacup_without_handle:', 'url': 'https://www.youtube.com/s/gaming/emoji/0f0cae22/emoji_u1f375.svg'}\", '檢測量不夠,數字沒意義,現在主要是看死亡人數了,今天41人死,比昨天升一倍,要學南韓了,可憐', \"41 {'id': '', 'txt': ':folded_hands:', 'url': 'https://www.youtube.com/s/gaming/emoji/0f0cae22/emoji_u1f64f.svg'}{'id': '', 'txt': ':folded_hands:', 'url': 'https://www.youtube.com/s/gaming/emoji/0f0cae22/emoji_u1f64f.svg'}{'id': '', 'txt': ':folded_hands:', 'url': 'https://www.youtube.com/s/gaming/emoji/0f0cae22/emoji_u1f64f.svg'}{'id': '', 'txt': ':folded_hands:', 'url': 'https://www.youtube.com/s/gaming/emoji/0f0cae22/emoji_u1f64f.svg'}{'id': '', 'txt': ':folded_hands:', 'url': 'https://www.youtube.com/s/gaming/emoji/0f0cae22/emoji_u1f64f.svg'}\", '今天41個人要去找陳時鐘', '41', \"@唯安 午安 ，陳時鐘 ……會自住控制 確診人數 {'id': '', 'txt': ':astonished_face:', 'url': 'https://www.youtube.com/s/gaming/emoji/0f0cae22/emoji_u1f632.svg'}{'id': '', 'txt': ':astonished_face:', 'url': 'https://www.youtube.com/s/gaming/emoji/0f0cae22/emoji_u1f632.svg'}{'id': '', 'txt': ':astonished_face:', 'url': 'https://www.youtube.com/s/gaming/emoji/0f0cae22/emoji_u1f632.svg'}\", '深山狂人林婉儿Wing Yuan 西西瓜 小粉紅雖然封城沒飯吃~~還是喜歡翻牆來看台灣~~哈哈哈~~~等等和中央網信辦舉報你們~~小粉紅的素質看的出來又崩潰了', '死亡數暴增', '檢測量不夠,數字沒意義,現在主要是看死亡人數了,今天41人死,比昨天升一倍,要學南韓了,可憐', '電動棺材大拍賣買一送一 Wi-Fi加空調。附送兩隻快篩', '41', '太爽了.只要每天坐在上面舉個牌.報個數.前前領到爽.有粒真好.粒粒皆幸福。', \"有檔證才是正港抬彎人{'id': '', 'txt': ':beaming_face_with_smiling_eyes:', 'url': 'https://www.youtube.com/s/gaming/emoji/0f0cae22/emoji_u1f601.svg'}\", '41', '吓死人 恐怖 41 死', '遵荣你是1450吧187', '本土+64972例 暴增41人死亡、217例中重症 死亡是昨天好幾倍', '别吵吵，听嘉宾说', '阿娘喂死41人', '不要緊張 41死亡 重症清零', \"41 位往生了， {'id': '', 'txt': ':folded_hands:', 'url': 'https://www.youtube.com/s/gaming/emoji/0f0cae22/emoji_u1f64f.svg'}{'id': '', 'txt': ':folded_hands:', 'url': 'https://www.youtube.com/s/gaming/emoji/0f0cae22/emoji_u1f64f.svg'}{'id': '', 'txt': ':folded_hands:', 'url': 'https://www.youtube.com/s/gaming/emoji/0f0cae22/emoji_u1f64f.svg'}{'id': '', 'txt': ':folded_hands:', 'url': 'https://www.youtube.com/s/gaming/emoji/0f0cae22/emoji_u1f64f.svg'}{'id': '', 'txt': ':folded_hands:', 'url': 'https://www.youtube.com/s/gaming/emoji/0f0cae22/emoji_u1f64f.svg'}\", '@五竹@Wing Yuan {\\'id\\': \\'\\', \\'txt\\': \\':smiling_face_with_hearts:\\', \\'url\\': \\'https://www.youtube.com/s/gaming/emoji/0f0cae22/emoji_u1f970.svg\\'}本人支持「中華民國」支持藍軍【你看到山寨\"許遵榮\"假帳號 請封鎖】謝謝', '反正今天應該會死更多，更多人確診', \"@熊男くまお 大Wa民族，真有意思{'id': '', 'txt': ':face_with_tears_of_joy:', 'url': 'https://www.youtube.com/s/gaming/emoji/0f0cae22/emoji_u1f602.svg'}\", '有法律不照用，要用古代没法律的时候是吗？', '台灣人貝戈戈', '給計程車司機們 加油!', \"@高麗敏 姐姐 原來三天一次{'id': '', 'txt': ':face_with_rolling_eyes:', 'url': 'https://www.youtube.com/s/gaming/emoji/0f0cae22/emoji_u1f644.svg'}\", \"要先去2殯掛號了{'id': '', 'txt': ':loudly_crying_face:', 'url': 'https://www.youtube.com/s/gaming/emoji/0f0cae22/emoji_u1f62d.svg'}{'id': '', 'txt': ':loudly_crying_face:', 'url': 'https://www.youtube.com/s/gaming/emoji/0f0cae22/emoji_u1f62d.svg'}{'id': '', 'txt': ':loudly_crying_face:', 'url': 'https://www.youtube.com/s/gaming/emoji/0f0cae22/emoji_u1f62d.svg'}{'id': '', 'txt': ':loudly_crying_face:', 'url': 'https://www.youtube.com/s/gaming/emoji/0f0cae22/emoji_u1f62d.svg'}41死\", '難怪民進黨一直提倡“綠能”...只有綠能....', \"41死，阿中的政績{'id': '', 'txt': ':clapping_hands:', 'url': 'https://www.youtube.com/s/gaming/emoji/0f0cae22/emoji_u1f44f.svg'}{'id': '', 'txt': ':clapping_hands:', 'url': 'https://www.youtube.com/s/gaming/emoji/0f0cae22/emoji_u1f44f.svg'}{'id': '', 'txt': ':clapping_hands:', 'url': 'https://www.youtube.com/s/gaming/emoji/0f0cae22/emoji_u1f44f.svg'}{'id': '', 'txt': ':clapping_hands:', 'url': 'https://www.youtube.com/s/gaming/emoji/0f0cae22/emoji_u1f44f.svg'}\", '死这么多，车市中下台', '高麗敏 午安，丢啊，肯定不止', '今晚陳走鐘會被41個冤魂纏身', '@許遵榮！@唯安有他的言論自由！你在超三小！', '这个罗友志还叨叨呢，都几点了还不开盘', '@熊男くまお 大Wa民族，你们还跪战犯嘞，说谁呢', \"類等史{'id': '', 'txt': ':beaming_face_with_smiling_eyes:', 'url': 'https://www.youtube.com/s/gaming/emoji/0f0cae22/emoji_u1f601.svg'}\", '我媽快80都會賴，傳個樣樣行....', '今本土飆64972例\\u3000暴增41死「創今年新高」新北破2.2萬', '西西瓜深山狂人林婉儿Wing Yuan 西西瓜 小粉紅雖然封城沒飯吃~~還是喜歡翻牆來看台灣~~哈哈哈~~~等等和中央網信辦舉報你們~~小粉紅的素質看的出來又崩潰了', '這就是種族歧視惡狠狠的美國自由民主政權', '給新黨 加油!', \"蔡高端陳時鐘要爬到你頭上囉{'id': '', 'txt': ':thumbs_up:', 'url': 'https://www.youtube.com/s/gaming/emoji/0f0cae22/emoji_u1f44d.svg'}{'id': '', 'txt': ':thumbs_up:', 'url': 'https://www.youtube.com/s/gaming/emoji/0f0cae22/emoji_u1f44d.svg'}{'id': '', 'txt': ':thumbs_up:', 'url': 'https://www.youtube.com/s/gaming/emoji/0f0cae22/emoji_u1f44d.svg'}{'id': '', 'txt': ':thumbs_up:', 'url': 'https://www.youtube.com/s/gaming/emoji/0f0cae22/emoji_u1f44d.svg'}{'id': '', 'txt': ':smiling_face_with_smiling_eyes:', 'url': 'https://www.youtube.com/s/gaming/emoji/0f0cae22/emoji_u1f60a.svg'}{'id': '', 'txt': ':smiling_face_with_smiling_eyes:', 'url': 'https://www.youtube.com/s/gaming/emoji/0f0cae22/emoji_u1f60a.svg'}{'id': '', 'txt': ':smiling_face_with_smiling_eyes:', 'url': 'https://www.youtube.com/s/gaming/emoji/0f0cae22/emoji_u1f60a.svg'}{'id': '', 'txt': ':smiling_face_with_smiling_eyes:', 'url': 'https://www.youtube.com/s/gaming/emoji/0f0cae22/emoji_u1f60a.svg'}{'id': '', 'txt': ':smiling_face_with_smiling_eyes:', 'url': 'https://www.youtube.com/s/gaming/emoji/0f0cae22/emoji_u1f60a.svg'}{'id': '', 'txt': ':smiling_face_with_smiling_eyes:', 'url': 'https://www.youtube.com/s/gaming/emoji/0f0cae22/emoji_u1f60a.svg'}\", '只准州官放火', '41死？是等不到病床嗎？', \"司髮不上氯{'id': '', 'txt': ':beaming_face_with_smiling_eyes:', 'url': 'https://www.youtube.com/s/gaming/emoji/0f0cae22/emoji_u1f601.svg'}\", \"唯安 {'id': '', 'txt': ':grinning_face_with_sweat:', 'url': 'https://www.youtube.com/s/gaming/emoji/0f0cae22/emoji_u1f605.svg'}{'id': '', 'txt': ':grinning_face_with_sweat:', 'url': 'https://www.youtube.com/s/gaming/emoji/0f0cae22/emoji_u1f605.svg'}{'id': '', 'txt': ':grinning_face_with_sweat:', 'url': 'https://www.youtube.com/s/gaming/emoji/0f0cae22/emoji_u1f605.svg'}\", '41只是一个介于40和42之间的数字，请大家不要过于联想', '還有距離', '阿中在衝死亡率了', '天國又近了', '不過離一百', '破6萬', \"{'id': '', 'txt': ':face_screaming_in_fear:', 'url': 'https://www.youtube.com/s/gaming/emoji/0f0cae22/emoji_u1f631.svg'}{'id': '', 'txt': ':face_screaming_in_fear:', 'url': 'https://www.youtube.com/s/gaming/emoji/0f0cae22/emoji_u1f631.svg'}{'id': '', 'txt': ':face_screaming_in_fear:', 'url': 'https://www.youtube.com/s/gaming/emoji/0f0cae22/emoji_u1f631.svg'}41 RIP{'id': '', 'txt': ':folded_hands:', 'url': 'https://www.youtube.com/s/gaming/emoji/0f0cae22/emoji_u1f64f.svg'}{'id': '', 'txt': ':folded_hands:', 'url': 'https://www.youtube.com/s/gaming/emoji/0f0cae22/emoji_u1f64f.svg'}{'id': '', 'txt': ':folded_hands:', 'url': 'https://www.youtube.com/s/gaming/emoji/0f0cae22/emoji_u1f64f.svg'}\", '台湾还不是国际确诊标准，美国要是按照台湾的标准确诊者会减小 几千万的', '41個冤魂', \"C{'id': '', 'txt': ':sleeping_face:', 'url': 'https://www.youtube.com/s/gaming/emoji/0f0cae22/emoji_u1f634.svg'}\", '五個黑人參加遊行被誤判', '1450指挥官在吗？时代在进步，你的员工要加强上岗前的专业技能培训啊，没有文化没关系，逻辑和脑子还是要点的。', '死亡越來越多了，輕症只是前菜，未來幾周死亡攀升', '加碼ㄌ', '我還以為', '@李敬豪 午安，現在確診數 ，是 三天 “校正回歸”一次', \"南無阿彌陀佛{'id': '', 'txt': ':folded_hands:', 'url': 'https://www.youtube.com/s/gaming/emoji/0f0cae22/emoji_u1f64f.svg'}\", '你們記得我那個年代美國有出一件大事情一個白人女人被殺', '（4）本28420境67死5人（5）本30035境71人死5人（6）本36168境45死10人（7）本46377境159死11人（8）本44294境67死12人（9）本40263境41死12人（10）本50780境48死12人（11）本57188境28死8人（12）本65385境61死17人累積（13）64972境39死41人', \"@{'id': '', 'txt': ':face_with_tears_of_joy:', 'url': 'https://www.youtube.com/s/gaming/emoji/0f0cae22/emoji_u1f602.svg'}李敬豪 押錯注\", '吓死人', '死亡 41', \"41死，這個比較恐怖{'id': '', 'txt': ':face_screaming_in_fear:', 'url': 'https://www.youtube.com/s/gaming/emoji/0f0cae22/emoji_u1f631.svg'}\", '不簡單，', \"32.33.38{'id': '', 'txt': ':smiling_face_with_heart_eyes:', 'url': 'https://www.youtube.com/s/gaming/emoji/0f0cae22/emoji_u1f60d.svg'}\", '死亡人數上來了', '英特納雄耐爾 就一定要實現', '配合你，降', '綠腦怪自己人', '本土今日確診＋６４９７２\\u3000Ｓ亡＋４１', '死亡41', '今天1450怎么出现了', '民進党玩的是美國的玩法', '唯安 64972', \"@熊男くまお 不对吗？{'id': '', 'txt': ':face_with_tears_of_joy:', 'url': 'https://www.youtube.com/s/gaming/emoji/0f0cae22/emoji_u1f602.svg'}\", '41死', '價格不合理就不要買 你們還想怎樣 一點都沒錯', '今天死亡41人', '死亡一下干到41？？？？', \"{'id': '', 'txt': ':folded_hands:', 'url': 'https://www.youtube.com/s/gaming/emoji/0f0cae22/emoji_u1f64f.svg'}{'id': '', 'txt': ':folded_hands:', 'url': 'https://www.youtube.com/s/gaming/emoji/0f0cae22/emoji_u1f64f.svg'}{'id': '', 'txt': ':folded_hands:', 'url': 'https://www.youtube.com/s/gaming/emoji/0f0cae22/emoji_u1f64f.svg'}\", '價格不合理就不要買 你們還想怎樣 一點都沒錯', '價格不合理就不要買 你們還想怎樣 一點都沒錯', '這是最後的鬥爭 團結起來到明天', \"抬彎已沸{'id': '', 'txt': ':beaming_face_with_smiling_eyes:', 'url': 'https://www.youtube.com/s/gaming/emoji/0f0cae22/emoji_u1f601.svg'}各自求福\", '你不是綠色', \"{'id': '\\\\u200d', 'txt': ':face_with_spiral_eyes:', 'url': 'https://www.youtube.com/s/gaming/emoji/0f0cae22/emoji_u1f635_200d_1f4ab.svg'}{'id': '\\\\u200d', 'txt': ':face_with_spiral_eyes:', 'url': 'https://www.youtube.com/s/gaming/emoji/0f0cae22/emoji_u1f635_200d_1f4ab.svg'}{'id': '\\\\u200d', 'txt': ':face_with_spiral_eyes:', 'url': 'https://www.youtube.com/s/gaming/emoji/0f0cae22/emoji_u1f635_200d_1f4ab.svg'}\", '唯安 64927', '64972', \"黄猫黒猫捉到耗子的就是好猫 小瓶{'id': '', 'txt': ':thinking_face:', 'url': 'https://www.youtube.com/s/gaming/emoji/0f0cae22/emoji_u1f914.svg'}\", '41死', '64972', '以前的唯安 是大陸人。現在的唯安台灣人', '當然可以', '當新生代都高燒燒成趴帶，我就不信台灣未來還有啥前途，', '台湾政府好啊，警察也好，随喊随到，随吼随走，支持台湾好政府执政。台湾政府好啊，警察也好，随喊随到，随吼随走，支持台湾好政府执政。净整假新闻', '一星期28个免费快筛，用不光', '快把那爐火燒得通紅\\u3000趁熱打鐵才能成功', '含，霜', '@許遵榮 面对脑瘫，治不好，说不听，不崩溃有什么办法？', \"有檔證嗎？請問{'id': '', 'txt': ':beaming_face_with_smiling_eyes:', 'url': 'https://www.youtube.com/s/gaming/emoji/0f0cae22/emoji_u1f601.svg'}\", \"{'id': '', 'txt': ':mouse:', 'url': 'https://www.youtube.com/s/gaming/emoji/0f0cae22/emoji_u1f42d.svg'}{'id': '', 'txt': ':mouse:', 'url': 'https://www.youtube.com/s/gaming/emoji/0f0cae22/emoji_u1f42d.svg'}\", \"{'id': '', 'txt': ':mouse:', 'url': 'https://www.youtube.com/s/gaming/emoji/0f0cae22/emoji_u1f42d.svg'}\", '@許遵榮 对对对，复制粘贴假新闻的不崩溃，我崩溃了', \"{'id': '', 'txt': ':mouse:', 'url': 'https://www.youtube.com/s/gaming/emoji/0f0cae22/emoji_u1f42d.svg'}{'id': '', 'txt': ':mouse:', 'url': 'https://www.youtube.com/s/gaming/emoji/0f0cae22/emoji_u1f42d.svg'}{'id': '', 'txt': ':mouse:', 'url': 'https://www.youtube.com/s/gaming/emoji/0f0cae22/emoji_u1f42d.svg'}{'id': '', 'txt': ':mouse:', 'url': 'https://www.youtube.com/s/gaming/emoji/0f0cae22/emoji_u1f42d.svg'}\", '台湾民进党如今是想学日本自民黨玩类一黨制？', '以前國民黨不敢做的事情 不能做的事情 自從蔡英文民進黨政府 執政下來 已經 做壞事 已經到淋淋盡致的地步 也做到谷底了', \"你我皆踐茗{'id': '', 'txt': ':beaming_face_with_smiling_eyes:', 'url': 'https://www.youtube.com/s/gaming/emoji/0f0cae22/emoji_u1f601.svg'}\", '我們要奪回勞動的果實\\u3000讓思想衝破牢籠', '台灣防疫NO1', '門，沒想', \"上海再苦也沒有台灣苦人家那麼大{'id': '‼', 'txt': ':double_exclamation_mark:', 'url': 'https://www.youtube.com/s/gaming/emoji/0f0cae22/emoji_u203c.svg'}別給自己丟臉了\", '友志讚', '記住我的話我相信歷史可以改變還給台灣真正自由', '今日確診人數是多少呢⋯⋯⋯⋯', '深山狂人林婉儿Wing Yuan 小粉紅雖然封城沒飯吃~~還是喜歡翻牆來看台灣~~哈哈哈~~~等等和中央網信辦舉報你們~~小粉紅的素質看的出來又崩潰了', '牡丹灣開心玩，抓不到抓不到，沒監視器啦啦啦', '婀娜 多爾袞 香港 李兄弟 解放区', '要創造人類的幸福\\u3000全靠我們自己', '深山狂人林婉儿Wing Yuan 小粉紅雖然封城沒飯吃~~還是喜歡翻牆來看台灣~~哈哈哈~~~等等和中央網信辦舉報你們~~小粉紅的素質看的出來又崩潰了', '餓鬼小孩假小心', '陳時中上班了', '深山狂人林婉儿Wing Yuan 小粉紅雖然封城沒飯吃~~還是喜歡翻牆來看台灣~~哈哈哈~~~等等和中央網信辦舉報你們~~小粉紅的素質看的出來又崩潰了', \"{'id': '', 'txt': ':love_letter:', 'url': 'https://www.youtube.com/s/gaming/emoji/0f0cae22/emoji_u1f48c.svg'}{'id': '', 'txt': ':man:', 'url': 'https://www.youtube.com/s/gaming/emoji/0f0cae22/emoji_u1f468.svg'}\", '破七萬例了嗎???', '兩人', \"{'id': '', 'txt': ':love_letter:', 'url': 'https://www.youtube.com/s/gaming/emoji/0f0cae22/emoji_u1f48c.svg'}{'id': '', 'txt': ':mouth:', 'url': 'https://www.youtube.com/s/gaming/emoji/0f0cae22/emoji_u1f444.svg'}\", '你們說網軍沒有力量嗎。不不不 好好珍惜台灣，如果台灣照著美國人走就跟歷史一樣改變不了。。。毀了。。。網軍力量很恐怖的但這次民進党成功了肯能是你們當網軍的最後一次，成功了會被尿壺一樣被他們踢到旁邊', \"台灣人好可憐搶口罩{'id': '‼', 'txt': ':double_exclamation_mark:', 'url': 'https://www.youtube.com/s/gaming/emoji/0f0cae22/emoji_u203c.svg'}搶疫苗{'id': '‼', 'txt': ':double_exclamation_mark:', 'url': 'https://www.youtube.com/s/gaming/emoji/0f0cae22/emoji_u203c.svg'}搶快塞劑{'id': '‼', 'txt': ':double_exclamation_mark:', 'url': 'https://www.youtube.com/s/gaming/emoji/0f0cae22/emoji_u203c.svg'}還有什麼要排隊的\", '以為苔膏不會更苔膏了, 不幸, 苔膏又更苔膏了..', \"{'id': '', 'txt': ':mouth:', 'url': 'https://www.youtube.com/s/gaming/emoji/0f0cae22/emoji_u1f444.svg'}{'id': '', 'txt': ':mouth:', 'url': 'https://www.youtube.com/s/gaming/emoji/0f0cae22/emoji_u1f444.svg'}{'id': '', 'txt': ':love_letter:', 'url': 'https://www.youtube.com/s/gaming/emoji/0f0cae22/emoji_u1f48c.svg'}{'id': '', 'txt': ':love_letter:', 'url': 'https://www.youtube.com/s/gaming/emoji/0f0cae22/emoji_u1f48c.svg'}{'id': '', 'txt': ':red_heart:', 'url': 'https://www.youtube.com/s/gaming/emoji/0f0cae22/emoji_u2764.svg'}\", '翻牆 陪韓粉取暖 哭聲一片！然後親共的韓粉 又騙了小粉紅', '塔綠斑：我少了4cm 還有1cm可以用', '從來就沒有什麼救世主\\u3000也不靠神仙皇帝', '上海目前只能吃茶叶蛋，榨菜，蛙肉', \"{'id': '', 'txt': ':man:', 'url': 'https://www.youtube.com/s/gaming/emoji/0f0cae22/emoji_u1f468.svg'}{'id': '', 'txt': ':revolving_hearts:', 'url': 'https://www.youtube.com/s/gaming/emoji/0f0cae22/emoji_u1f49e.svg'}{'id': '', 'txt': ':revolving_hearts:', 'url': 'https://www.youtube.com/s/gaming/emoji/0f0cae22/emoji_u1f49e.svg'}{'id': '', 'txt': ':red_heart:', 'url': 'https://www.youtube.com/s/gaming/emoji/0f0cae22/emoji_u2764.svg'}\", \"303{'id': '', 'txt': ':beaming_face_with_smiling_eyes:', 'url': 'https://www.youtube.com/s/gaming/emoji/0f0cae22/emoji_u1f601.svg'}\", '綠能你不能', '不出門就可以不要篩了！', '上海苦啊，茶叶蛋多的都丢给狗吃了。', '我预计今天有测人数超7W，快筛不够的黑数没办法预测。', '價格不合理就不要買 你們還想怎樣 一點都沒錯', \"類高燈{'id': '', 'txt': ':beaming_face_with_smiling_eyes:', 'url': 'https://www.youtube.com/s/gaming/emoji/0f0cae22/emoji_u1f601.svg'}\", '既然沒，當然是契合一家人', '深山狂人林婉儿Wing Yuan 小粉紅雖然封城沒飯吃~~還是喜歡翻牆來看台灣~~哈哈哈~~~等等和中央網信辦舉報你們', '預估64088', '@許遵榮 你说我吃不上饭，我就吃不上饭？我说我是你爸爸，我是不是你爸爸？', '哈哈哈', '英特納雄耐爾 就一定要實現', '今天你抢到快筛了吗？', '價格不合理就不要買 你們還想怎樣 一點都沒錯', \"神麥不在凡間{'id': '', 'txt': ':beaming_face_with_smiling_eyes:', 'url': 'https://www.youtube.com/s/gaming/emoji/0f0cae22/emoji_u1f601.svg'}\", \"@李敬豪 10萬有找呢{'id': '', 'txt': ':pensive_face:', 'url': 'https://www.youtube.com/s/gaming/emoji/0f0cae22/emoji_u1f614.svg'}\", '妖鬼假小心', '什麼都要就是不要臉', '盲猜6萬5千', '這是最後的鬥爭 團結起來到明天', \"{'id': '', 'txt': ':globe_showing_asia_australia:', 'url': 'https://www.youtube.com/s/gaming/emoji/0f0cae22/emoji_u1f30f.svg'}{'id': '', 'txt': ':cat2:', 'url': 'https://www.youtube.com/s/gaming/emoji/0f0cae22/emoji_u1f408.svg'}\", '上海吃不起饭，只有茶叶蛋，榨菜，蛙肉', \"@熊男くまお 大Wa民族，关你啥事？{'id': 'hf90Xv-jHeOR8gSxxrToBA', 'txt': ':yougotthis:', 'url': 'https://yt3.ggpht.com/WxLUGtJzyLd4dcGaWnmcQnw9lTu9BW3_pEuCp6kcM2pxF5p5J28PvcYIXWh6uCm78LxGJVGn9g=w24-h24-c-k-nd'}\", '@李敬豪 午安喔~', \"生氣氣過來群居好嗎？{'id': '', 'txt': ':pleading_face:', 'url': 'https://www.youtube.com/s/gaming/emoji/0f0cae22/emoji_u1f97a.svg'}{'id': '', 'txt': ':mouse:', 'url': 'https://www.youtube.com/s/gaming/emoji/0f0cae22/emoji_u1f42d.svg'}{'id': '', 'txt': ':pleading_face:', 'url': 'https://www.youtube.com/s/gaming/emoji/0f0cae22/emoji_u1f97a.svg'}\", '深山狂人林婉儿Wing Yuan 小粉紅雖然封城沒飯吃~~還是喜歡翻牆來看台灣~~哈哈哈', '官僚作風', '苔膏的顏色 ', '小黃開干了....', '為什麼不處罰那些虐殺平民的俄軍？', '英特納雄耐爾就一定要實現', '食中確診數字對你來說沒意義，選票你就覺得有意義了', '深山狂人林婉儿 小粉紅雖然封城沒飯吃~~還是喜歡翻牆來看台灣~~哈哈哈', '上海只能吃茶叶蛋和蛙肉', \"抬彎甲土{'id': '', 'txt': ':face_savoring_food:', 'url': 'https://www.youtube.com/s/gaming/emoji/0f0cae22/emoji_u1f60b.svg'}\", \"@木阿笨{'id': '', 'txt': ':victory_hand:', 'url': 'https://www.youtube.com/s/gaming/emoji/0f0cae22/emoji_u270c.svg'}\", \"{'id': '', 'txt': ':thumbs_up:', 'url': 'https://www.youtube.com/s/gaming/emoji/0f0cae22/emoji_u1f44d.svg'}{'id': '', 'txt': ':thumbs_up:', 'url': 'https://www.youtube.com/s/gaming/emoji/0f0cae22/emoji_u1f44d.svg'}{'id': '', 'txt': ':thumbs_up:', 'url': 'https://www.youtube.com/s/gaming/emoji/0f0cae22/emoji_u1f44d.svg'}\", '綠綠相護', '幾年前，手感', '是那位噁心的大人?', '艾米莉 午安', '價格不合理就不要買 你們還想怎樣 一點都沒錯', '@許遵榮 对啊 ，我们已经吃不上饭了，下一顿我准备吃台湾人。', \"787神解{'id': '', 'txt': ':beaming_face_with_smiling_eyes:', 'url': 'https://www.youtube.com/s/gaming/emoji/0f0cae22/emoji_u1f601.svg'}\", '這是最後的鬥爭 團結起來到明天', '上海人只能吃發芽的土豆', '唯安美女來啦 午安', '價格不合理就不要買 你們還想怎樣 一點都沒錯', '不要臉', \"黒韓征伐 多爾袞{'id': '', 'txt': ':thumbs_up:', 'url': 'https://www.youtube.com/s/gaming/emoji/0f0cae22/emoji_u1f44d.svg'}\", '@Qiquan Liu 下午好喔~', '遵荣你可以不要刷屏吗', '上海没饭吃，天天吃茶叶蛋。', \"唯安 {'id': '', 'txt': ':rolling_on_the_floor_laughing:', 'url': 'https://www.youtube.com/s/gaming/emoji/0f0cae22/emoji_u1f923.svg'}{'id': '', 'txt': ':rolling_on_the_floor_laughing:', 'url': 'https://www.youtube.com/s/gaming/emoji/0f0cae22/emoji_u1f923.svg'}夭寿的是时钟\", '深山狂人 小粉紅雖然封城沒飯吃~~還是喜歡翻牆來看台灣~~哈哈哈', \"茗淨 檔煤，虎蘭王{'id': '', 'txt': ':face_savoring_food:', 'url': 'https://www.youtube.com/s/gaming/emoji/0f0cae22/emoji_u1f60b.svg'}\", '不要說我們一無所有\\u3000我們要做天下的主人', '火鍋極樂趴', '大陆吃不上饭呢，只能吃茶叶蛋和榨菜', '喔，好像是申請', '深山狂人 小粉紅雖然封城沒飯吃~~還是喜歡翻牆來看台灣~~', '今天會破七萬例了嗎???', '@艾米莉 下午好', '價格不合理就不要買 你們還想怎樣 一點都沒錯', '二营长，拉我的意大利炮回来', '舊世界打個落花流水\\u3000奴隸們起來\\u3000起來', '一堆國民黨民嘴 開口就是胡言亂語', '價格不合理就不要買 你們還想怎樣 一點都沒錯', \"@李敬豪 夭壽喔一點都不手軟{'id': '', 'txt': ':pleading_face:', 'url': 'https://www.youtube.com/s/gaming/emoji/0f0cae22/emoji_u1f97a.svg'}\", '價格不合理就不要買 你們還想怎樣 一點都沒錯', '一堆老頭 算了 再見！！', '現在台灣到處都是病毒 所以大家更要小心防疫 回到家一定要全身噴酒精 還要換掉所有的衣服 才不會把病毒傳給家人', '價格不合理就不要買 你們還想怎樣 一點都沒錯', '唯安 美妹，押72000+', '遵荣我在台湾好不好你呢难道在大陆', '深山狂人 小粉紅雖然封城沒飯吃~~還是喜歡翻牆來看台灣~~', \"@熊男くまお 大Wa民族，反清嘞，你们还不如清朝{'id': 'hf90Xv-jHeOR8gSxxrToBA', 'txt': ':yougotthis:', 'url': 'https://yt3.ggpht.com/WxLUGtJzyLd4dcGaWnmcQnw9lTu9BW3_pEuCp6kcM2pxF5p5J28PvcYIXWh6uCm78LxGJVGn9g=w24-h24-c-k-nd'}\", '降', '深山狂人 小粉紅雖然封城沒飯吃~~還是喜歡翻牆來看台灣~~', '下好離手', \"年輕仁加入茗淨檔很迷惘{'id': '', 'txt': ':beaming_face_with_smiling_eyes:', 'url': 'https://www.youtube.com/s/gaming/emoji/0f0cae22/emoji_u1f601.svg'}\", \"多爾袞 跳{'id': '', 'txt': ':thumbs_up:', 'url': 'https://www.youtube.com/s/gaming/emoji/0f0cae22/emoji_u1f44d.svg'}\", '林婉儿 小粉紅雖然封城沒飯吃~~還是喜歡翻牆來看台灣~~', '篩檢量', '林婉儿 小粉紅雖然封城沒飯吃~~還是喜歡翻牆來看台灣~~', '開了開了', '衝高嘞 你們紅媒應該不適合在這裡報 更應該在中共國報', '臉紅紅..一定要喝兩杯...尛中才敢上台', '6萬5', '想要護航的，都說無從證明就好啦！', \"綠綠相護{'id': '', 'txt': ':victory_hand:', 'url': 'https://www.youtube.com/s/gaming/emoji/0f0cae22/emoji_u270c.svg'}\", \"綠能你不能{'id': 'GAZuYqmtF4e_8wTbvby4BQ', 'txt': ':_17生氣:', 'url': 'https://yt3.ggpht.com/gsGzCvVotfuMAMY3wFGtg7AV8RkF4OhltxBRdWKthnljsSvEH2uNbD2iXwOmHOroG9-8LILn3w=w24-h24-c-k-nd'}{'id': 'GAZuYqmtF4e_8wTbvby4BQ', 'txt': ':_17生氣:', 'url': 'https://yt3.ggpht.com/gsGzCvVotfuMAMY3wFGtg7AV8RkF4OhltxBRdWKthnljsSvEH2uNbD2iXwOmHOroG9-8LILn3w=w24-h24-c-k-nd'}{'id': 'GAZuYqmtF4e_8wTbvby4BQ', 'txt': ':_17生氣:', 'url': 'https://yt3.ggpht.com/gsGzCvVotfuMAMY3wFGtg7AV8RkF4OhltxBRdWKthnljsSvEH2uNbD2iXwOmHOroG9-8LILn3w=w24-h24-c-k-nd'}\", '唯安 美妹，押7200+', '蔡英文这个人有啥魅力？很平的一个女人，没啥亮点', '從不從眾，難道你沒有獨立思考能力？？！', '喔，我只看起伏', '开奖开奖。今天能破10万吗？', '@林婉ㄦ！你好！', '自己人啦免罰', \"{'id': '', 'txt': ':snake:', 'url': 'https://www.youtube.com/s/gaming/emoji/0f0cae22/emoji_u1f40d.svg'}{'id': '', 'txt': ':rat:', 'url': 'https://www.youtube.com/s/gaming/emoji/0f0cae22/emoji_u1f400.svg'}{'id': '', 'txt': ':snake:', 'url': 'https://www.youtube.com/s/gaming/emoji/0f0cae22/emoji_u1f40d.svg'}{'id': '', 'txt': ':rat:', 'url': 'https://www.youtube.com/s/gaming/emoji/0f0cae22/emoji_u1f400.svg'}{'id': '', 'txt': ':snake:', 'url': 'https://www.youtube.com/s/gaming/emoji/0f0cae22/emoji_u1f40d.svg'}{'id': '', 'txt': ':rat:', 'url': 'https://www.youtube.com/s/gaming/emoji/0f0cae22/emoji_u1f400.svg'}{'id': '', 'txt': ':snake:', 'url': 'https://www.youtube.com/s/gaming/emoji/0f0cae22/emoji_u1f40d.svg'}{'id': '', 'txt': ':rat:', 'url': 'https://www.youtube.com/s/gaming/emoji/0f0cae22/emoji_u1f400.svg'}{'id': '', 'txt': ':index_pointing_up:', 'url': 'https://www.youtube.com/s/gaming/emoji/0f0cae22/emoji_u261d.svg'}{'id': '', 'txt': ':index_pointing_up:', 'url': 'https://www.youtube.com/s/gaming/emoji/0f0cae22/emoji_u261d.svg'}{'id': '', 'txt': ':index_pointing_up:', 'url': 'https://www.youtube.com/s/gaming/emoji/0f0cae22/emoji_u261d.svg'}{'id': '', 'txt': ':clapping_hands:', 'url': 'https://www.youtube.com/s/gaming/emoji/0f0cae22/emoji_u1f44f.svg'}{'id': '', 'txt': ':clapping_hands:', 'url': 'https://www.youtube.com/s/gaming/emoji/0f0cae22/emoji_u1f44f.svg'}{'id': '', 'txt': ':clapping_hands:', 'url': 'https://www.youtube.com/s/gaming/emoji/0f0cae22/emoji_u1f44f.svg'}\", \"茗淨檔佬人站高位{'id': '', 'txt': ':beaming_face_with_smiling_eyes:', 'url': 'https://www.youtube.com/s/gaming/emoji/0f0cae22/emoji_u1f601.svg'}\", '教躺葛格: 躺平, 躺平, 再躺平', '今天要誰 我來看看要不要繼續酸', \"佩服佩服 顏色對了 {'id': '', 'txt': ':thumbs_up:', 'url': 'https://www.youtube.com/s/gaming/emoji/0f0cae22/emoji_u1f44d.svg'}\", '苔膏英啊', \"{'id': 'JRdsYIi8Io_Y-QP3xYqoAg', 'txt': ':_馬千惠:', 'url': 'https://yt3.ggpht.com/iXC8XroyWtvjR1Ap0Ol0yGubFDg5p1nZU9lY7h-pXQ3o2YMQ7I-tRr8nNY-WBgzM1JxJON04XQ=w24-h24-c-k-nd'}{'id': 'JRdsYIi8Io_Y-QP3xYqoAg', 'txt': ':_馬千惠:', 'url': 'https://yt3.ggpht.com/iXC8XroyWtvjR1Ap0Ol0yGubFDg5p1nZU9lY7h-pXQ3o2YMQ7I-tRr8nNY-WBgzM1JxJON04XQ=w24-h24-c-k-nd'}{'id': 'JRdsYIi8Io_Y-QP3xYqoAg', 'txt': ':_馬千惠:', 'url': 'https://yt3.ggpht.com/iXC8XroyWtvjR1Ap0Ol0yGubFDg5p1nZU9lY7h-pXQ3o2YMQ7I-tRr8nNY-WBgzM1JxJON04XQ=w24-h24-c-k-nd'}{'id': 'GAZuYveqF4e_8wTbvby4BQ', 'txt': ':_07棒:', 'url': 'https://yt3.ggpht.com/4wBUh1rHme9DKgY9xeIA2FmZd2HLl_1wyY4NQFvHasnKWbna1f_y7h4YzwR_Tz-AuIU4KP5lnw=w24-h24-c-k-nd'}{'id': 'GAZuYveqF4e_8wTbvby4BQ', 'txt': ':_07棒:', 'url': 'https://yt3.ggpht.com/4wBUh1rHme9DKgY9xeIA2FmZd2HLl_1wyY4NQFvHasnKWbna1f_y7h4YzwR_Tz-AuIU4KP5lnw=w24-h24-c-k-nd'}{'id': 'GAZuYveqF4e_8wTbvby4BQ', 'txt': ':_07棒:', 'url': 'https://yt3.ggpht.com/4wBUh1rHme9DKgY9xeIA2FmZd2HLl_1wyY4NQFvHasnKWbna1f_y7h4YzwR_Tz-AuIU4KP5lnw=w24-h24-c-k-nd'}{'id': 'GAZuYqGqF4e_8wTbvby4BQ', 'txt': ':_04挺:', 'url': 'https://yt3.ggpht.com/HYncp0fbFUwBu7UXujM-FEtpmPd6uT2DR1G7WnVBcxCTqMaKCRjOiU-BUR6vVtY34wUk-Xfy1g=w24-h24-c-k-nd'}{'id': 'GAZuYqGqF4e_8wTbvby4BQ', 'txt': ':_04挺:', 'url': 'https://yt3.ggpht.com/HYncp0fbFUwBu7UXujM-FEtpmPd6uT2DR1G7WnVBcxCTqMaKCRjOiU-BUR6vVtY34wUk-Xfy1g=w24-h24-c-k-nd'}{'id': 'GAZuYqGqF4e_8wTbvby4BQ', 'txt': ':_04挺:', 'url': 'https://yt3.ggpht.com/HYncp0fbFUwBu7UXujM-FEtpmPd6uT2DR1G7WnVBcxCTqMaKCRjOiU-BUR6vVtY34wUk-Xfy1g=w24-h24-c-k-nd'}{'id': 'GAZuYvWpF4e_8wTbvby4BQ', 'txt': ':_03支持:', 'url': 'https://yt3.ggpht.com/xUorz6ewm4CzBOn6i_Ve3D4qIBuQE1F0c-tA2PF_tL4t6SubSEzNWS71nJAzkkrdkNW4RV7aUw=w24-h24-c-k-nd'}{'id': 'GAZuYvWpF4e_8wTbvby4BQ', 'txt': ':_03支持:', 'url': 'https://yt3.ggpht.com/xUorz6ewm4CzBOn6i_Ve3D4qIBuQE1F0c-tA2PF_tL4t6SubSEzNWS71nJAzkkrdkNW4RV7aUw=w24-h24-c-k-nd'}{'id': 'GAZuYvWpF4e_8wTbvby4BQ', 'txt': ':_03支持:', 'url': 'https://yt3.ggpht.com/xUorz6ewm4CzBOn6i_Ve3D4qIBuQE1F0c-tA2PF_tL4t6SubSEzNWS71nJAzkkrdkNW4RV7aUw=w24-h24-c-k-nd'}{'id': 'GAZuYr6qF4e_8wTbvby4BQ', 'txt': ':_05訂閱:', 'url': 'https://yt3.ggpht.com/sZzgqZAXXoDFgj5jweTRW-d410CsJJ5PxOX9In-B1Wgf1n-LfJUp8MqBT_mpt2_mEi8CI5m3JA=w24-h24-c-k-nd'}{'id': 'GAZuYr6qF4e_8wTbvby4BQ', 'txt': ':_05訂閱:', 'url': 'https://yt3.ggpht.com/sZzgqZAXXoDFgj5jweTRW-d410CsJJ5PxOX9In-B1Wgf1n-LfJUp8MqBT_mpt2_mEi8CI5m3JA=w24-h24-c-k-nd'}{'id': 'GAZuYr6qF4e_8wTbvby4BQ', 'txt': ':_05訂閱:', 'url': 'https://yt3.ggpht.com/sZzgqZAXXoDFgj5jweTRW-d410CsJJ5PxOX9In-B1Wgf1n-LfJUp8MqBT_mpt2_mEi8CI5m3JA=w24-h24-c-k-nd'}{'id': 'GAZuYtuqF4e_8wTbvby4BQ', 'txt': ':_06中天:', 'url': 'https://yt3.ggpht.com/VY6jfE2r7lWD48_mg69ena7Gm5BuayvOYR9PwpXQzYzX0DBoHANVRozMsmxQwiU6PrGXFdu6yA=w24-h24-c-k-nd'}{'id': 'GAZuYtuqF4e_8wTbvby4BQ', 'txt': ':_06中天:', 'url': 'https://yt3.ggpht.com/VY6jfE2r7lWD48_mg69ena7Gm5BuayvOYR9PwpXQzYzX0DBoHANVRozMsmxQwiU6PrGXFdu6yA=w24-h24-c-k-nd'}{'id': 'GAZuYtuqF4e_8wTbvby4BQ', 'txt': ':_06中天:', 'url': 'https://yt3.ggpht.com/VY6jfE2r7lWD48_mg69ena7Gm5BuayvOYR9PwpXQzYzX0DBoHANVRozMsmxQwiU6PrGXFdu6yA=w24-h24-c-k-nd'}\", \"笑死 黑数好几倍了 还在自欺欺人 起码15万{'id': 'Iv90XouTLuOR8gSxxrToBA', 'txt': ':goodvibes:', 'url': 'https://yt3.ggpht.com/6LPOiCw9bYr3ZXe8AhUoIMpDe_0BglC4mBmi-uC4kLDqDIuPu4J3ErgV0lEhgzXiBluq-I8j=w24-h24-c-k-nd'}\", '林婉儿 小粉紅封城還是喜歡翻牆來看台灣~~', \"笑死 黑数好几倍了 还在自欺欺人 起码15万{'id': 'Iv90XouTLuOR8gSxxrToBA', 'txt': ':goodvibes:', 'url': 'https://yt3.ggpht.com/6LPOiCw9bYr3ZXe8AhUoIMpDe_0BglC4mBmi-uC4kLDqDIuPu4J3ErgV0lEhgzXiBluq-I8j=w24-h24-c-k-nd'}\", '@熊男くまお 大Wa民族.', \"{'id': 'JRdsYIi8Io_Y-QP3xYqoAg', 'txt': ':_馬千惠:', 'url': 'https://yt3.ggpht.com/iXC8XroyWtvjR1Ap0Ol0yGubFDg5p1nZU9lY7h-pXQ3o2YMQ7I-tRr8nNY-WBgzM1JxJON04XQ=w24-h24-c-k-nd'}{'id': 'JRdsYIi8Io_Y-QP3xYqoAg', 'txt': ':_馬千惠:', 'url': 'https://yt3.ggpht.com/iXC8XroyWtvjR1Ap0Ol0yGubFDg5p1nZU9lY7h-pXQ3o2YMQ7I-tRr8nNY-WBgzM1JxJON04XQ=w24-h24-c-k-nd'}{'id': 'JRdsYIi8Io_Y-QP3xYqoAg', 'txt': ':_馬千惠:', 'url': 'https://yt3.ggpht.com/iXC8XroyWtvjR1Ap0Ol0yGubFDg5p1nZU9lY7h-pXQ3o2YMQ7I-tRr8nNY-WBgzM1JxJON04XQ=w24-h24-c-k-nd'}{'id': 'JRdsYIi8Io_Y-QP3xYqoAg', 'txt': ':_馬千惠:', 'url': 'https://yt3.ggpht.com/iXC8XroyWtvjR1Ap0Ol0yGubFDg5p1nZU9lY7h-pXQ3o2YMQ7I-tRr8nNY-WBgzM1JxJON04XQ=w24-h24-c-k-nd'}{'id': 'JRdsYIi8Io_Y-QP3xYqoAg', 'txt': ':_馬千惠:', 'url': 'https://yt3.ggpht.com/iXC8XroyWtvjR1Ap0Ol0yGubFDg5p1nZU9lY7h-pXQ3o2YMQ7I-tRr8nNY-WBgzM1JxJON04XQ=w24-h24-c-k-nd'}{'id': 'JRdsYIi8Io_Y-QP3xYqoAg', 'txt': ':_馬千惠:', 'url': 'https://yt3.ggpht.com/iXC8XroyWtvjR1Ap0Ol0yGubFDg5p1nZU9lY7h-pXQ3o2YMQ7I-tRr8nNY-WBgzM1JxJON04XQ=w24-h24-c-k-nd'}{'id': 'JRdsYIi8Io_Y-QP3xYqoAg', 'txt': ':_馬千惠:', 'url': 'https://yt3.ggpht.com/iXC8XroyWtvjR1Ap0Ol0yGubFDg5p1nZU9lY7h-pXQ3o2YMQ7I-tRr8nNY-WBgzM1JxJON04XQ=w24-h24-c-k-nd'}{'id': 'JRdsYIi8Io_Y-QP3xYqoAg', 'txt': ':_馬千惠:', 'url': 'https://yt3.ggpht.com/iXC8XroyWtvjR1Ap0Ol0yGubFDg5p1nZU9lY7h-pXQ3o2YMQ7I-tRr8nNY-WBgzM1JxJON04XQ=w24-h24-c-k-nd'}{'id': 'JRdsYIi8Io_Y-QP3xYqoAg', 'txt': ':_馬千惠:', 'url': 'https://yt3.ggpht.com/iXC8XroyWtvjR1Ap0Ol0yGubFDg5p1nZU9lY7h-pXQ3o2YMQ7I-tRr8nNY-WBgzM1JxJON04XQ=w24-h24-c-k-nd'}{'id': 'JRdsYIi8Io_Y-QP3xYqoAg', 'txt': ':_馬千惠:', 'url': 'https://yt3.ggpht.com/iXC8XroyWtvjR1Ap0Ol0yGubFDg5p1nZU9lY7h-pXQ3o2YMQ7I-tRr8nNY-WBgzM1JxJON04XQ=w24-h24-c-k-nd'}\", \"笑死 黑数好几倍了 还在自欺欺人 起码15万{'id': 'Iv90XouTLuOR8gSxxrToBA', 'txt': ':goodvibes:', 'url': 'https://yt3.ggpht.com/6LPOiCw9bYr3ZXe8AhUoIMpDe_0BglC4mBmi-uC4kLDqDIuPu4J3ErgV0lEhgzXiBluq-I8j=w24-h24-c-k-nd'}\", '不能預測數字 這樣要罰款300萬', '陳時中上班了', \"笑死 黑数好几倍了 还在自欺欺人 起码15万{'id': 'Iv90XouTLuOR8gSxxrToBA', 'txt': ':goodvibes:', 'url': 'https://yt3.ggpht.com/6LPOiCw9bYr3ZXe8AhUoIMpDe_0BglC4mBmi-uC4kLDqDIuPu4J3ErgV0lEhgzXiBluq-I8j=w24-h24-c-k-nd'}\", '他只是，無語', '他不管你在哪，只看你颜色对不对', '@熊男くまお 大Wa民族', \"@李敬豪 今天押多少{'id': '\\\\u200d', 'txt': ':woman_facepalming:', 'url': 'https://www.youtube.com/s/gaming/emoji/0f0cae22/emoji_u1f926_200d_2640.svg'}\", '我也投給蔡英文就是從眾效應', '1450/817 台灣人不吃中國藥', '不能預測數字 這樣要罰款300萬', '如果預報預測數字那要先罰的是陳時中', '來了', '反清 反陳 多爾袞', '拜托我在台湾好不好', '從眾效應很恐怖我那個時候想投韓國瑜結果一堆年輕人投給蔡英文', \"是啊 菜英文叫你們要 自力自戕啊 {'id': '', 'txt': ':rolling_on_the_floor_laughing:', 'url': 'https://www.youtube.com/s/gaming/emoji/0f0cae22/emoji_u1f923.svg'}{'id': '', 'txt': ':rolling_on_the_floor_laughing:', 'url': 'https://www.youtube.com/s/gaming/emoji/0f0cae22/emoji_u1f923.svg'}\", \"{'id': '', 'txt': ':face_with_tears_of_joy:', 'url': 'https://www.youtube.com/s/gaming/emoji/0f0cae22/emoji_u1f602.svg'}{'id': '', 'txt': ':face_with_tears_of_joy:', 'url': 'https://www.youtube.com/s/gaming/emoji/0f0cae22/emoji_u1f602.svg'}\", '崇拜日本。為什麼在這裡玩弄', \"午安{'id': '', 'txt': ':red_heart:', 'url': 'https://www.youtube.com/s/gaming/emoji/0f0cae22/emoji_u2764.svg'}\", '苔膏英啊', '开奖啦，70000+', '没有封', '韓先生來敲門第三季ep3新影片發佈了，麻煩大家別忘了到韓先生臉書、YT韓國瑜官方頻道點閱、按讚、留言、分享！感恩大家！', '若膏英啊', '不升反降', \"{'id': '', 'txt': ':mouse:', 'url': 'https://www.youtube.com/s/gaming/emoji/0f0cae22/emoji_u1f42d.svg'}\", '努爾哈赤 滅亡？', '陳時中預計會破十萬 現在還早', '74588，摳摳昨晚告訴我的數字', \"要自生自立啦{'id': '', 'txt': ':woman_dancing:', 'url': 'https://www.youtube.com/s/gaming/emoji/0f0cae22/emoji_u1f483.svg'}\", '林婉儿 小粉紅封城還是喜歡翻牆來看台灣~~', \"茗淨檔以炸片為生{'id': '', 'txt': ':beaming_face_with_smiling_eyes:', 'url': 'https://www.youtube.com/s/gaming/emoji/0f0cae22/emoji_u1f601.svg'}\", '中天 在YouTube 真的丟臉 應該在微博報', '林婉儿 小粉紅封城還是喜歡翻牆來看台灣~~', '说全了，应该是今天可筛数字是不是破7W。快筛不够，实际数据没办法获知', '1450多來 衝流量喔，安靜 學習，學海 無崖，少害人了。。。']"
     ]
    },
    {
     "name": "stdout",
     "output_type": "stream",
     "text": [
      "\n"
     ]
    }
   ],
   "source": [
    "#Catch Mess1 From grame to list\n",
    "result_list = data['mess1'].tolist() \n",
    "print(result_list)"
   ]
  },
  {
   "cell_type": "code",
   "execution_count": 21,
   "metadata": {},
   "outputs": [
    {
     "name": "stdout",
     "output_type": "stream",
     "text": [
      "['政治防疫 糙', '及與病毒共存害死那麼多人？死亡人數還不夠多嗎？', '為什麼報應不在政腐 反而在人民身上 為什麼老百姓要丟性命買單', '原來政策也可以殺死人', '皇明祖訓 ', '到 攻讀 沒出系', '及與病毒共存害死那麼多人？死亡人數還不夠多嗎？', '你确定真是是？会不是就是。这个谁又能知道呢。', '：不用上班是嗎？', '双北不會執政無能下台換執政', 'وين صالح وعندك اعلام روتانا خليجيه', '作假科 作票科', '作假科 作票科', '樂商接洽中 別吵 在商量怎麼 最合適 目前不給對藥', '大媽，世華是', '德式猶太「防疫」？！', ' 啓聖哥 ', '打趴台上空病毒無人機', '台湾假新闻不是很正常，有必要生气嘛。 天天看多了就习惯了。', '時事豪笑員⋯我換季都會…失眠', '作假科 作票科', '克拉克陳 下台。', '作假科 作票科', '篩檢都不敢大量篩，去哪裏都沒用，不誠實隱匿疫情換來了今天的病毒大爆發世界第一', '不是要走向进一步开放吗？', '千金藤擴大中國貿易順差！！', '台灣第一 死神電影續集 正在開拍~~', '死亡丧钟', '作假科 作票科', '及與病毒共存害死那麼多人？死亡人數還不夠多嗎？', '克拉克陳 下台。', ' 被下醒又來被當笑話惹了？', '作假科 作票科', '作假科 作票科', '克拉克陳 下台。', '對賈博士不要要求太高，玩玩元宇中，逗逗貓狗就是她的生活日常⋯⋯', '良心被狗咬', '克拉克陳 下台。', '只會玩元宇宙', '克拉克陳 下台。', '樂商接洽中 別吵 在商量怎麼 最合適 目前不給對藥', '中央官員怎麼可以這麼狠？及與病毒共存害死那麼多人？死亡人數還不夠多嗎？', '良心被狗咬', '早不做方舱，现在做哪来得及，而且凭现在台湾的统筹能力，帐篷方舱还有点可能', ' 午ㄤ', '就这业绩，陈时中还好意思凭这\"政绩\"选台北市长吗', '篩檢都不敢大量篩，去哪裏都沒用，不誠實隱匿疫情換來了今天的病毒大爆發世界第一', '作假科 作票科', '偽 中国人 時中', '就說了蛋定點 沒有死五百萬 都不叫事', '作假科 作票科', '现在报应来了吧', '台湾人自己污蔑造谣说方舱医院是集中营', '排隊有被感染風險 民眾還是要小心 保護自己', '作假科 作票科', '不是精神科就是海棉腦科', '千金藤！中國獨有的中醫藥。美國你要花多少錢買？', '蔡總統應該恨死賴清德了 ，陳時中無 能到讓台灣死傷慘重 ，也不廢爛 鐘 ，換前醫生賴清德管管 ？', 'وين صالح وعندك اعلام روتانا خليجيه', '作假科 作票科', '篩檢都不敢大量篩，去哪裏都沒用，不誠實隱匿疫情換來了今天的病毒大爆發世界第一', '樂商接洽中 別吵 在商量怎麼 最合適 目前不給對藥', '防疫棄守，政策殺人', '作假科 作票科', ' 都共存了,为什么还要筛 都共存了,为什么还要筛 都共存了,为什么还要筛', '哈哈睡不着要看一下新闻啊', '好棒棒', '林婉兒⋯最近忙什麼', '殯葬業最清楚,死', '應該是花柳科', '現在確診都在家，家人一定全中', '作假科 作票科', '及與病毒共存害死那麼多人？死亡人數還不夠多嗎？', '禽獸科', '作假科 作票科', '各位大家聊～～晚點再來看恁們喔！', '作假科 作票科', '全省都有黑數', '作假科 作票科', '應該是花柳科', '人命不重要,錢才重要,有錢選舉怎選都贏,看台北萬華人承認是疫情破口選林昶佐民進黨就自信滿滿了誰來選都上', '防疫棄守，政策殺人', '都共存了,为什么还要筛', '應該是花柳科', '你们就是现在做方舱医院也根本来不及了', '還說都輕症感冒?暴增人死亡例中重症說輕症的這些人真該下地獄', '死了，及與病毒共存害死那麼多人？死亡人數還不夠多嗎？', ', 突然被嚇醒 別又被嚇到惹喔', '能說到民進黨民調掉一半，我就相信你們的評論', '黒韓 何人？', '篩檢都不敢大量篩，去哪裏都沒用，不誠實隱匿疫情換來了今天的大爆發', '台湾县市都不能统一防疫政策？', '應該是花柳科', '大家一起去总统府门口唱谢谢你吧？怎么样，看看类博士会不会脸红，或者说，不用谢，这是我应该做的。哈哈', '防疫棄守，政策殺人', '这下报应来了吧', '及與病毒共存害死那麼多人？死亡人數還不夠多嗎？', '喔喔，業者，加', 'وين صالح وعندك اعلام روتانا خليجيه', '防疫棄守，政策殺人', '及與病毒共存害死那麼多人？死亡人數還不夠多嗎？', '應該是花柳科', '類博士科', '林婉兒⋯又被你捉到', '怕陳時中防疫好選台北市長', '應該是花柳科', '總統是眼科', '就是因为意识形态仇恨所以台湾坚持不做方舱医院', '高雄根本沒在篩', ' 恩恩', '篩檢都不敢大量篩，去哪裏都沒用，不誠實換來了今天的大爆發', '神經錯亂科', '作假科', '科', '個博士科', '高雄根本沒在篩', '高雄根本沒在篩', '蔡 ', '動物科', '別稱讚他拉~\"~', '類博士科', '蔡', '蔡依依 ', '呷博士的領導真棒、不用防疫了、請把墓園準備好。', '台湾媒体一直污蔑造谣大陆方舱医院是集中营，你们难道不清楚吗？', '南部 不夠多 快把愛 傳到 高雄台南~ 南部人死一死都綠綠', '大家一起去总统府门口唱谢谢你吧？怎么样', '高雄根本沒在篩', '篩檢都不敢大量篩，去哪裏都沒用，不誠實換來了今天的大爆發', '有藥也不給，真過份，還跟人説顧人權？哪來的人權？', '', '陳時中下台', '陳怡曉⋯突然醒來⋯喝水', '能說到民進黨民調掉一半，我就相信你們的評論', '順帶說一下,中南部,縣區,原縣區,要送醫,更難~~', '台灣暖男陳其邁', '高雄根本沒在篩', '台北醫療最好，會最快達成群體免疫，中南部之後會比台北慘', '年底別忘了~別再選民進黨', '篩檢都不敢大量篩，去哪裏都沒用，不誠實換來了今天的大爆發', '防疫放手，有家人因此而死的，政策殺人，不共戴天之仇', '不睡觉啊', '南部快跟上來!!', ' 晚上好~下午好 ', '防疫永遠慢半拍', '気狂難民 去', '高譚市醫療也差不多了！笑死', '高雄根本沒在篩', '陳時中日前預告，七月新冠肺炎將由第五類法定傳染病降為第四類，屆時不再公佈確診人數，被嗆「不演了」、「蓋牌顧選票」', '谢谢你，因为有你，台湾才美丽。', '拿捏', '哎呀～～我；', '阿中下班啦！', ' ', '台灣暖男陳其邁', '南部 不夠多 快把愛 傳到 高雄台南~ 南部人死一死 都綠綠', '部长，部长，我爱你！搞死台湾就靠你！', '簡化簡化牠個雞拔毛化驗要時間不可能分鐘變成分鐘', ' …。平安健康', '台灣暖男陳其邁', '重症縣市優先蓋方艙 收治重者投藥治療 能節省醫護人力嗎 能緩解醫院擁塞嗎', '部长，部长，我爱你！搞死台湾就靠你！', '明白了吧，只有主权国家才能有这个加入', '塔綠班加油，不要加鹽喔！蓋牌一條龍', '老沈回来没有啊！！！', '篩檢都不敢大量篩，去哪裏都沒用', '部长，部长，我爱你！搞死台湾就靠你！', '馬斯克一定是中標了 買下', '老英用講的沒用，要開方倉醫院收治。', '王小姐把藥當保養品', ' 你還沒睡??', '衛福部一定大力支持高雄', '绿毛当政还不如来大陆避难。', '條冤魂去找對人啊⋯⋯你晚上睡得好嗎？？', '就算餓死都要選民進黨，這才是台灣人', '部长，部长，我爱你！搞死台湾就靠你！', '能說到民進黨民調掉一半，我就相信你們的評論', '中南部大傳播就好笑了', '篩檢都不敢大量篩，去哪裏都沒用', '部长，部长，我爱你！搞死台湾就靠你！', '卵難雞邁 公未專家', '只有主权国家才能有这个加入', '台灣神童柯文哲', '部长，部长，我爱你！搞死台湾就靠你！', '只有主权国家才能有这个加入', '篩檢都不敢大量篩，去哪裏都沒用', '台灣神童柯文哲', '抬得忘記', '部长，部长，我爱你！搞死台湾就靠你！', '時鐘說法要萬人確診才會群體免疫是吧', '陳怡曉⋯下午好', '有藥也不給，真過份，還跟人説顧人權？哪來的人權？', '部长，部长，我爱你！搞死台湾就靠你！', '樂商接洽中 別吵 在商量怎麼 最合適', '畢竟都是死忠的要怪誰', '作票假總統~趕快下台吧~', '繼續投民進黨', '能說到民進黨民調掉一半，我就相信你們的評論', '台灣人口確診率％', '民進黨把救命藥吐出來，有夠囂張跋扈的啦', '不要說任何人士“老” 除了講塔緑處', '如果今天是中国国民党统治台湾，那台湾的国际化道路前途无量！碰到台湾民进党，整你还来不及，还想冒出国际', '死？很多嗎？要像民進黨繼續這樣搞下去，一日百人、千人死指日可待', '只有主权国家才能有这个加入', '菜:比较重要拉', '增加检测点，医护够吗？', '蓋牌了要，快沒機會罵了', '為何不給剛確診病人藥呢？等藥等到死於家中！', '德式猶太「防疫」？！', '蔡在元宇宙', '蓋牌王', '年底別忘了再選民進黨喔！', '別吵她，她跟小慧在玩奶油犬&雙頭龍', '一開始就應該簡化啊', '今天死了多少', '民進黨把救命藥吐出來，有夠囂張跋扈的啦', '變相殺人', '皇明祖訓 的 朱滅亡是', '樂商接洽中 別吵 在商量怎麼 最合適', '能說到民進黨民調掉一半，我就相信你們的評論', '演哪齣，這個慢郎中，是你堅持不換掉了', '蔡依依也會抖?', '是要数据的，台湾再等等都盖牌了，还扯什么呢！！！', '為何不儘快釋出所有救命藥，到底要保留給誰用，根本是草菅人命！敢公佈這五年來台灣各月死亡人數嗎？', '打电话的时候一定要和接线员说自己是，才会有药发', '有藥不給 ! 快速投藥，哪來會這麼多人有中重症? 有些人輕症很快轉變成重症，綠媒還在辯稱不要亂吃藥', '視訊看診 你能知道 病人的心跳 心臟 肺部呼吸 情形 ? 你能知道 淋巴腺狀況 ? 唬爛誰 ?', '啟聖好樣的', '死好死滿明天會再創新高 誰會在死亡名單內 讚喔!!!', '看看明天还有多少人，嘴上喊着我有投票，我民主的，明天还能不能投票', '時事唬爛員', '大陆外交部已经发话了，不可能让台湾加入', '已經很明顯了', '剛去三粒蠻有趣的，哈哈哈', '能說到民進黨民調掉一半，我就相信你們的評論', '曬狗吧~~~~~', '疫情面前不分轻中重，只有积极参与防疫治疗', '殯葬業缺工', '綠共追隨美日 對他們來說死點人微不足道 ', '看看明天还有多少人，嘴上喊着我有投票，我民主的，明天还能不能投票', '三声万歳', '，喔，，轉身', '華視 你可以再鬧一點！ ', '台灣預計還會產出多少綠色殷實商人', '不要臉的政腐', '為何不儘快釋出所有救命藥，到底要保留給誰用，根本是草菅人命！敢公佈這五年來台灣各月死亡人數嗎？', '', '一定要投，不投就没有民主自由了。', '呵呵呵呵 小亮哥', '原來美個  一女亞裔 一男訝異！！！', '啟聖哥 老好多', '干連戰啥事', '德式猶太「防疫」？！', '能說到民進黨民調掉一半，我就相信你們的評論', '大陆不同意，不要妄想', '', '時中神：自由市場、民主機制懂？不懂就去多念書。感冒沒吃抗生素政府要不要賠？腦瓜子不清不楚！', '殯葬業大缺人', '快速投藥，哪來會這麼多人有中重症? 有些人輕症很快轉變成重症，綠媒還在辯稱不要亂吃藥', '能說到民進黨民調掉一半，我就相信你們的評論', '還有郝杯杯', '超級不要臉', '華視是什麼東西', '蔡英文執政全台灣大亂套', '就這樣被林軍征服～就是這樣也很舒服；', '這兩天都閉嘴了，希望不要死到你家人⋯⋯⋯', '陈时中说吃抗生素！！！', '三民自又粉飾太平', '年前死一個掉眼淚，現在死變成報數字，差很多', '現在只能發表 染疫的經驗', '美國就把反對臺獨跟一中修改，台灣人就高潮了。不需要實際行爲啦', '继续看戏', '還在元宇宙，卻陳屍家中，可憐吶。', '德式猶太「防疫」？！', '為何不儘快釋出所有救命藥，到底要保留給誰用，根本是草菅人命！敢公佈這五年來台灣各月死亡人數嗎？', '海边活化吧，印度在河边火化', '快去投資納骨塔', '轻症感冒，说轻症感冒，喊共存的人你要是戴着口罩说的，你就是骗子。', '美國副總統……', '誰管你誰選 ', '與樂商接洽如何抄錢布署 怎麼', '能說到民進黨民調掉一半，我就相信你們的評論', '世界只有一个中国，台湾参加啥', '美国向万死前进', '估計這千金藤能為中國利稅上千億，甚至萬億。', '台灣再度世界第一 如何沒底氣了？', '台灣有知識的人都去中國了啦！ 剩下鄉巴佬 讓綠政玩', '是洩了氣的牛蛙', '快速投藥，哪來會這麼多人有中重症? 有些人輕症很快轉變成重症，綠媒還在三立辯稱不要亂吃藥', '世界之光', '火化场量能充足！考虑用来发电？', '好像阿虎', '為何不儘快釋出所有救命藥，到底要保留給誰用，根本是草菅人命！敢公佈這五年來台灣各月死亡人數嗎？', '法案有個毛用,又不是美國一國就能成立= =', '火化场量能充足！考虑用来发电？', '美國先跟我們軍事同盟再說 不然都是屁屁屁', '上海这次死了，你们不会低于这个数', '清除計劃？懂的都懂', '中國要加大千金藤的量', '说说死了几个了！！！', '輪也輪不到台灣 別傻了 就算有也輪不到你阿', '為何不儘快釋出所有救命藥，到底要保留給誰用，根本是草菅人命！敢公佈這五年來台灣各月死亡人數嗎？', '要加入是需要我们大陆同意哦，可不是美国人！美国人可决定不了两岸命运', '喔，搶快', '火化场量能充足！考虑用来发电？', '美國先跟我們軍事同盟再說 不然都是屁屁屁', '醫量能不足 醫院不收治 重者來不及投藥 排隊耽誤實際病患治療 方艙能解決嗎 ', '在台灣，做假即使被戳破，還是有人深信不疑', '植斗。 小平頭。帥。髮不要長長了', '马克思说过，瘟疫就是资本主义的丧钟', '美國先跟我們軍事同盟再說 不然都是屁屁屁', '請蔡總統再怎麼捨不得 ，還請「大義滅親」，不然人民不依 ，幾萬個死去家人的親友會暴怒 ！', '沒參會死人', '還說都輕症感冒?暴增人死亡例中重症說輕症的這些人真該下地獄', '能說到民進黨民調掉一半，我就相信你們的評論', '說說吧 名嘴也跑三立民視', '快速投藥，哪來會這麼多人有中重症? 有些人輕症很快轉變成重症，綠媒還在辯稱不要亂吃藥', '夭壽', '瘟疫敲响了资本主义的丧钟', '沒看見還在吹選舉嗎，台灣人死得再多都不管他們事的', '能說到民進黨民調掉一半，我就相信你們的評論', '還談什麽選情 救命要緊', '專利跟材料千金藤都在中國手上，發了。', '能說到民進黨民調掉一半，我就相信你們的評論', '各縣市可以獨立嗎？', '阿中：死之前還是要確認他是不是 偽陽 有很多道德倫理的問題阿', '中国大陆给了每个老百姓生命权', '民進黨執政之下被清洗掉的人口 是這些人命不好呢 還是黨做的還不夠？', '還在元宇宙，卻陳屍家中，可憐吶。', '作假不容易啊，百密终有一疏', '能說到民進黨民調掉一半，我就相信你們的評論', '何時申報，底子', '台灣人沒知識又怕死！ 妳只要跟他説 美國人會來保護你 他就信你了', '一團亂', '台灣這些官把搞選舉的能力用在搞防疫上，會搞成今天這樣？', '资本主义最终走向灭亡，迎来社会主义', '美国分不分裂不好说，英国快分裂了', '綠共追隨美日 對他們來說死點人微不足道', '台湾还没做过普筛呢到今天！那黑数被蔡英文压的要爆了吗？', '不知道有臺北市民還在誇贊時中做的很好嗎？上次街訪，還説要體諒時中部長，他很辛苦', '习近平珍爱百姓生命', '', '綠共追隨美日 對他們來說死點人微不足道', '藥量不夠 錢類', '台灣這些官把搞選舉的能力用在搞防疫上，會搞成今天這樣？', '快速投藥，哪來會這麼多人有中重症? 有些人輕症很快轉變成重症，綠媒還在辯稱不要亂吃藥', '所谓的民主自由已经走到尽头了，美国即将分崩离析', '香港因为疫情，推迟特区行政长官选举', '民黨還看好阿中，選市長 ! 還不懂民意嗎', '  骂习近平的都是想看中国笑话的反华的人', '戴口罩 勤洗手 吃飯找空地', '所谓的民主自由已经走到尽头了，美国即将分崩离析', '等重了给药也治不好了啦，哈哈傻人做傻事', '既然違建，愛討論', '所谓的民主自由已经走到尽头了，美国即将分崩离析', '曾仕强都说了世纪属于中国，望台独分子识时务者为俊杰', '台湾是民主岛？是韭菜园吧', '曾仕强都说了世纪属于中国，望台独分子识时务者为俊杰', '小亮哥 你長高了 還兼職當時事評論員嗎', '為選舉！大型活動不停辦！為選舉！該升級不升級！為選舉！該做不做！整天五漢廢言……不意外', '有知識就不會有死忠的', '還說都輕症感冒?暴增人死亡例中重症說輕症的這些人真該下地獄', '不要緊張 死亡 重症清零', '沒確診誰愛吃藥，是糖果逆', '所谓的民主自由已经走到尽头了，美国即将分崩离析', '快速投藥，哪來會這麼多人有中重症? 有些人輕症很快轉變成重症，綠媒還在辯稱不要亂吃藥', '為選舉！大型活動不停辦！為選舉！該升級不升級！為選舉！該做不做！整天五漢廢言……不意外', '陳時中：想到要選台北市長哈哈笑', '三民自又粉飾太平', '為選舉！大型活動不停辦！為選舉！該升級不升級！為選舉！該做不做！整天五漢廢言……不意外', '死好死滿 繼續死 反正大家 沒意見 等死 不反抗 等死耶~~~等死等死 讚啦', '喔', '藥是給有黨證的人', '需要我给药吗，回国内。', '共产党不用忙选举%的精力在治国，自由民主的国家%在忙选举，打击政敌，%忙着自己挣钱，%忙自己的选民', '不要緊張 死亡 重症清零', '台湾现在死亡率已经千分之一了，估计最后能干到万分之一，世界南波万', '火化场量能充足！考虑用来发电？', '不要緊張 死亡 重症清零', '', '  ', '', '', '死好死滿 繼續死 反正大家 沒意見 等死 不反抗 等死耶~~~等死等死 讚啦', '你命都快沒了，還能顧到發財？', '各位大家下午好～～；', '不用太高估塔綠班的記性，也不要太低估廿一世紀東亞自願「已開發」個第三世界塔綠班的 (ㄋㄨˊ)性', '不要緊張 死亡 重症清零', '中國世界第一，領導世界，名正言順。', '', '快速投藥，哪來會這麼多人有中重症? 有些人輕症很快轉變成重症，綠媒還在辯稱不要亂吃藥', '死十人就是重大事件了', '共产党不用忙选举%的精力在治国，自由民主的国家%在忙选举，打击政敌，%忙着自己挣钱，%忙自己的选民', '', '政府不是說都是輕症嗎⋯⋯？輕症都會死，同胞的生命也太脆弱了！又在當台灣人民是傻仔了。這能又說謊的政客⋯⋯有點說不過去 ', '根據《蘋果新聞網》報導，有民眾爆料，鄧如秀快篩陽性，但是要做檢驗時，卻不用跟一般人一樣排隊數小時以上，而是專案直送台北市立聯合醫院中興院區「插隊」採檢，甚至檢體再「插隊」直送疾管署昆陽實驗室，全程都是插隊到底。', '习近平宁愿被人骂都要清零救人', '放心，底綫沒有！之後就蓋牌了', '总感觉台湾真的是人民自治的民主岛啊，因为政府是个摆设，捞钱处处可见，一旦有事，政府都躲起来了。', '比時鐘更不要臉的人找不到,所以還沒換!', '共产党不用忙选举%的精力在治国，自由民主的国家%在忙选举，打击政敌，%忙着自己挣钱，%忙自己的选民', '快速投藥，哪來會這麼多人有中重症? 有些人輕症很快轉變成重症，綠媒還在辯稱不要亂吃藥', '南無阿彌陀佛', '連藥都沒吃得到 ', '比時鐘更不要臉的人找不到,所以還沒換!', '根據《蘋果新聞網》報導，有民眾爆料，鄧如秀快篩陽性，但是要做檢驗時，卻不用跟一般人一樣排隊數小時以上，而是專案直送台北市立聯合醫院中興院區「插隊」採檢，甚至檢體再「插隊」直送疾管署昆陽實驗室，全程都是插隊到底。', '言论也会双标啊', '比時鐘更不要臉的人找不到,所以還沒換!', '你命都快沒了，還能顧到發財？', '人家都明說了 全民 綠蠅支持者沒錢覺的貴就不要買', '比時鐘更不要臉的人找不到,所以還沒換!', '火化场量能充足！考虑用来发电？', '台灣民眾有知識還會? 有知識 四大公投還會讓他過?', '曾仕强都说了世纪属于中国，望台独分子识时务者为俊杰', '可是有知識???', '不是軟弱 是 腦空弱智', '比時鐘更不要臉的人找不到,所以還沒換!', '還說都輕症感冒?暴增人死亡例中重症說輕症的這些人真該下地獄', '', '比時鐘更不要臉的人找不到,所以還沒換!', '中常會\"震怒\"是媒體自己加上去的,在幫蔡獨裁洗白', '誠實終那種外行的都能搞個位置 弄的一團亂了 錢回填滿滿~ 台灣沒活人了嗎', '', '是沒知識啊！', '南無阿彌陀佛', '', '根據《蘋果新聞網》報導，有民眾爆料，鄧如秀快篩陽性，但是要做檢驗時，卻不用跟一般人一樣排隊數小時以上，而是專案直送台北市立聯合醫院中興院區「插隊」採檢，甚至檢體再「插隊」直送疾管署昆陽實驗室，全程都是插隊到底。', '', '比時鐘更不要臉的人找不到,所以還沒換!', '习近平坚持动态清零', '哪有 沒知識一堆', '曾仕强都说了世纪属于中国，望台独分子识时务者为俊杰', '比時鐘更不要臉的人找不到,所以還沒換!', '往生去找蔡和陳時鐘', '老百姓性命不是命噢不是人了這支殺人魔藏在頭頂三', '曾仕强都说了世纪属于中国，望台独分子识时务者为俊杰', '比時鐘更不要臉的人找不到,所以還沒換!', '', '比時鐘更不要臉的人找不到,所以還沒換!', '買龍巖了', '封辟', '比時鐘更不要臉的人找不到,所以還沒換!', '作票還可以贏!公投說謊都可以贏了!還怕什麼!', '比時鐘更不要臉的人找不到,所以還沒換!', '有人發現死亡時間還在校正回歸？昨日號有/死亡，今天號，竟然還有/號死亡日，確診檢驗要時間需要時間，所以校正回歸，死亡也玩校正回歸有點扯', '南無阿彌陀佛', '貪污款存歐美，躲歐美生活也是避不開歐美討費用', '比時鐘更不要臉的人找不到,所以還沒換!', '如果是某一個所謂專家建議要讓大家都中標呢\\u3000\\u3000細思極恐\\u3000', '這位來賓你想太多，綠共一樣贏', '比時鐘更不要臉的人找不到,所以還沒換!', '習近平下台了耶~~~', '不是慌了！是不屑台灣人民的命！？！？', '清冠自產 能大量生產 發給確診者嗎 緩和醫療量能 等死或睡急診室地板 不轉重症才怪', '比時鐘更不要臉的人找不到,所以還沒換!', '过些时间台湾抢骨灰盒，抢墓地', '比時鐘更不要臉的人找不到,所以還沒換!', '下月開始，確診人數 就是國家機密。齁齁齁。', '曾仕强都说了世纪属于中国，望台独分子识时务者为俊杰', '比時鐘更不要臉的人找不到,所以還沒換!', '還說都輕症感冒?暴增人死亡例中重症說輕症的這些人真該下地獄', '曾仕强都说了世纪属于中国，望台独分子识时务者为俊杰', '您已封鎖時事豪笑員~~', '火化场量能充足！考虑用来发电？', '怎麼月來越像小亮哥>? 顆顆', '', '曾仕强都说了世纪属于中国，望台独分子识时务者为俊杰', '張亞中說什麼呢', '', '原來感灣還有總統？……', '三立民視的政論節目和諧同溫層 中天每天炮聲隆隆 中天的資料跟他們截然不同', '他 們躺選了', '', '我會不會太 了 ', '人命關天人民也震怒了', '人家都明說了 全民 綠蠅支持者沒錢覺的貴就不要買 ', '', '火化场量能充足！考虑用来发电？', '一般民眾快篩陽性之後，往往要冒風險，在醫院外大排長龍等著做檢驗，但媒體今（）日踢爆，疾病管制署主秘鄧如秀快篩陽性，檢驗卻「一路插隊」不需自行排隊數小時，遭批評有特權。台北市衛生局也出面說明，一切都是疾管署來電，直接指示衛生局協助。', '您已封鎖時事豪笑員~~', '他們會再做票，一樣穩穩當政啦', '火化场量能充足！考虑用来发电？', '劉沛，我染疫掛了，葬在台灣！發財掛了，葬在哪裡？加拿大嗎？畢竟家人都是加拿大人，不是嗎？', '蔡英文執政 騙騙騙', '選舉到了，高雄送防疫關懷包', '選舉到了，高雄送防疫關懷包', '曾仕强都说了世纪属于中国', '唱衰就會衰?通姦無罪就通姦嗎？', '人命關天人民也震怒了', '快速投藥，哪來會這麼多人有中重症? 有些人輕症很快轉變成重症，綠媒還在辯稱不要亂吃藥', ' 今天死了人太恐怖了⋯⋯', '中國贏了', '講得好', '等到每天死亡破百，就該換人', '◆ 『慌了』怎麼辦？怎麼辦？怎麼辦？裝不下去了～╮(╯▽╰)╭＊', '菜婆整得这么神秘！可能是蔡英文上头老板的命令吧！', '', '賺大錢', '一般民眾快篩陽性之後，往往要冒風險，在醫院外大排長龍等著做檢驗，但媒體今（）日踢爆，疾病管制署主秘鄧如秀快篩陽性，檢驗卻「一路插隊」不需自行排隊數小時，遭批評有特權。台北市衛生局也出面說明，一切都是疾管署來電，直接指示衛生局協助。', '直接蓋牌，看你們怎麽監督怎麽罵', '绿共敢公布打的什么疫苗吗？', '人民也震怒了', '施教授也是教友', '台湾日确诊哪止万', '激死生气气', '蔡英文軟弱', '你们台湾这么有钱怎么不发中药和快筛', '神隱少女的臉書被洗版，洗到塔綠班網軍都來不及檢舉。有人還在把自己當局外人，還在元宇宙？怎麼知道民間疾苦？ ', '南無阿彌陀佛', '咎由自取！', '劉沛，我染疫掛了，葬在台灣！發財掛了，葬在哪裡？加拿大嗎？', '你們。。不想選了嗎？？？？？？？', '來自田間第一人。', '中國繼碳基半導體跟光量子芯片，又獲得了新冠治療藥的最強技術！！！！！', '台灣人還再等寒粉斷氣這天', '一般民眾快篩陽性之後，往往要冒風險，在醫院外大排長龍等著做檢驗，但媒體今（）日踢爆，疾病管制署主秘鄧如秀快篩陽性，檢驗卻「一路插隊」不需自行排隊數小時，遭批評有特權。台北市衛生局也出面說明，一切都是疾管署來電，直接指示衛生局協助。', '在中南部很多人看三民自，大都看到粉飾太平的新聞？完全不知道北部疫情真實狀況？除非看台和中天網路新聞等偏藍媒體，才能知道如何趨吉避凶，小心防範疫情，才不會家破人亡？', '他要什麼有什麼，怎會感受到民間疾苦呢？你沒看到他說我有為什麼要去排隊？你嫌貴就不要買啊！', '滿少，會', '不能唱衰，要稱讚做得好', '這時', '後面直接蓋牌，不給你們罵的機會了', '以前,啊扁貪污只有「謀財」，沒有「害命」，現在，有人趁疫情嚴重「謀財害命」？人命關天 這種謀財害命的事也做的下去？ 死了多少人？晚上還睡得著？', '貪官污吏，把錢放國外，逃亡海外還是被當地政客索討費', '怎麼不公佈「打那種」疫苗？！一半有打疫苗，一半沒打疫苗？！', '中重症如无法妥善治疗转成重症的可能性还是很大的', '不用怕我帶莎莎玩', '阿中：派代表來才能問', '希望時，都是綠營高官', '我再告訴大家您們大家看看，最近高官就只會公告向道歉人民而已，那些高官還是可以每個月早領薪水，怎麽還可以當高官呢，人民是最好騙的，咳可憐的人民啊，祝福大家吧', '火化场量能充足！考虑用来发电？', '火化场都不一定够', ' 教友', '人家都說了 全民 綠蠅支持者沒錢覺的貴就不要買 ', '成媒體都牠養的抗議什麼', '快速投藥，哪來會這麼多人有中重症? 有些人輕症很快轉變成重症，綠媒還在辯稱不要亂吃藥', '放任殺人魔再繼續猝死人命關天ㄟ', '南無阿彌陀佛', '何止個……之前的呢！？', '早就預告會掛很多人了，還叫共存,結果來了，還不願面對？掛掉的生前沒人權阿？沒繳稅嗎？政府為這些人做了什麼？還要擺爛躺平嗎？', '', '火化场量能充足！考虑用来发电？', '如果我染疫掛了，葬在台灣！發財掛了，葬在哪裡？加拿大嗎？', '山水 之後換你染疫死亡，你要葬在山上？還是撒在海水？', '教友。。。。', '山水 之後換你染疫死亡，你要葬在山上？還是撒在海水？', '火化场量能充足！考虑用来发电？', '人家是看這麼多傻子啊！？ 這不作個票 咱們自己攬下來搞！', '山水 之後換你染疫死亡，你要葬在山上？還是撒在海水？', '火化场量能充足！考虑用来发电？', '人手不夠、設備不夠、收容量不足、篩劑不夠。。。', '以後還要死多少人呢？民進黨站出來講要怎麼處理', ':記者會直播，一堆塔綠班網軍在帶風向 可憐啊，要靠塔綠班網軍打擊真正為老百姓問問題的媒體和記者，真可憐，還要出動網軍打壓認真記者，連問問題都不行？還算有言論自由？', '火化场量能充足！考虑用来发电？', '山水 之後換你染疫死亡，你要葬在山上？還是撒在海水？', '好多民进党和还不明白，现在带节奏转移重心没有用，疫情来了，山呼海啸，等你身边的人开始死亡的时候希望你不要伤心', '这么严重的疫情，还整天选举，选啥', '死亡一天还没上百，指挥官一点都不慌', '山水 之後換你染疫死亡，你要葬在山上？還是撒在海水？', '假日要去高雄玩', '山水 之後換你染疫死亡，你要葬在山上？還是撒在海水？', '专利的发明人北京化工大学生命科学与技术学院院长童贻刚教授解释称，可以理解为不用千金藤素药物时如果有个病毒，那么在用 μ千金藤素药物的情况下，病毒数将只有个。也就是说，很少量的千金藤素就能阻止新冠病毒扩增和传播。从目前的研究数据看，该药物抑制新冠病毒的能力在所有人类发现的新冠病毒抑制剂中排名靠前', '先去訪問 「美副總統」陳建仁吧！', '人家都說了 全民 綠蠅支持者沒錢覺的貴就不要買 ', '官虾天天說話太噁心太噁心太噁心太噁心', '反紅媒……關中天', '下一個在家突然昏迷的是你嗎?', '山水 之後換你染疫死亡，你要葬在山上？還是撒在海水？', '劉沛，快去宣揚韓發財吧！現在發財不是開始裝善人了，出書來騙人，沒違法啦！台灣人很善良，他會發財的！如果還不發財，就雙手高舉中華民國萬歲，雙腳走進中聯辦，一定能發財！', '山水 之後換你染疫死亡，你要葬在山上？還是撒在海水？', '山水 之後換你染疫死亡，你要葬在山上？還是撒在海水？', '  ', '浪費糧食', '山水 之後換你染疫死亡，你要葬在山上？還是撒在海水？', '金母湯 寒粉 別亂台了！', '阿中部长：下一个问题。', '爆发疫情不想着赶快控制，还想着赚快筛的钱，笑死。你们选的~~', '這時', '這時', '山水 之後換你染疫死亡，你要葬在山上？還是撒在海水？', '人家都說了 全民 綠蠅支持者沒錢覺的貴就不要買 ', '爸爸扣錢', '劉沛，快去宣揚韓發財吧！現在發財不是開始裝善人了，出書來騙人，沒違法啦！台灣人很善良，他會發財的！如果還不發財，就雙手高舉中華民國萬歲，雙腳走進中聯辦，一定能發財！', '爆发疫情不想着赶快控制，还想着赚快筛的钱，笑死。你们选的~~', '说白了就是医院不够，资源不够', '狗肝類博士 發大財', '現在確診人數，死亡率，阿中無感的', '爆发疫情不想着赶快控制，还想着赚快筛的钱，笑死。你们选的~~', '喔喔，想當主播', '快速投藥，哪來會這麼多人有中重症? 有些人輕症很快轉變成重症，綠媒還在辯稱不要亂吃藥', '大陆坚持动态清零', '我再告訴大家您們大家看看，最近高官就只會公告向道歉人民而已，那些高官還是可以每個月早領薪水，怎麽還可以當高官呢，人民是最好騙的，咳可憐的人民啊，祝福大家吧', '感染 不可小覷啊！', '慌了外加尿失禁', '因為他們不是，所以無感？！', '爆发疫情不想着赶快控制，还想着赚快筛的钱，笑死。你们选的~~', '民進黨的所有貪官報應來了，', '人家都說了 全民 綠蠅支持者沒錢覺的貴就不要買 ', '山水 之後換你染疫死亡，你要葬在山上？還是撒在海水？', '劉沛，快去宣揚韓發財吧！現在發財不是開始裝善人了，出書來騙人，沒違法啦！台灣人很善良，他會發財的！如果還不發財，就雙手高舉中華民國萬歲，雙腳走進中聯辦，一定能發財！', '政府擺爛 人民躺平 世界跟不上台灣', '，浪費糧食，枉為人', '炸鍋。。', '你们就完了', '一天个，这样搞十天', '人民自己笨 找來的領導也不會強到哪', '中重症如无法妥善治疗转成重症的可能性还是很大的', '与毒共存，藐视生命', '蓋鍋。。。', '爆发疫情不想着赶快控制，还想着赚快筛的钱，笑死。你们选的~~', '人家都說了 全民 綠蠅支持者沒錢覺的貴就不要買 ', '不會啦!還可以作票!', '寒粉 慌了 才趕緊誠清', '快速投藥，哪來會這麼多人有中重症? 有些人輕症很快轉變成重症，綠媒還在辯稱要不要亂吃', '沒辦法像某人可以有醫生到宅?一般人只能「自主應變」，自己買快篩 自己篩。尤其家中抵抗力差的老人和小孩，有感冒症狀最好快篩一下，以免延誤病情，導致家破人亡？', '爆发疫情不想着赶快控制，还想着赚快筛的钱，笑死。你们选的~~', '中國新冠治療藥獨獲世界發明專利，成就堪比諾貝爾獎。', '无辜死亡个', '明天會下雨，娘要嫁人', '中重症如无法妥善治疗转成重症的可能性还是很大的', '上海的快递和外卖员每天都要核酸，这个威力太强了', '难道蔡英文是学新闻学的？真会装，特定的群体还超级爱看空心菜', '封城好了', '已屏蔽 時事豪笑員', '三民自又粉飾太平', '一直推給別的部門', '爆发疫情不想着赶快控制，还想着赚快筛的钱，笑死。你们选的~~', '与毒共存，死了个', '不是這樣吧，是要賺快篩的，美國農場都買了', '每個生命都是寶貴的', '爆发疫情不想着赶快控制，还想着赚快筛的钱，笑死。你们选的~~', '政府擺爛 人民躺平 世界跟不上台灣', '不是慌了！是不屑平民百姓的命！！！', '百姓只怕輪到自己感染突然惡化', '還說都輕症感冒?暴增人死亡例中重症說輕症的這些人真該下地獄', '早就預告會掛很多人了，還叫共存,結果來了，還不願面對？掛掉的生前沒人權阿？沒繳稅嗎？政府為這些人做了什麼？還要擺爛躺平嗎？', '我再告訴大家您們大家看看，最近高官就只會公告向道歉人民而已，那些高官還是可以每個月早領薪水，怎麽還可以當高官呢，人民是最好騙的，咳可憐的人民啊，祝福大家吧', '又想骗老蓝男女，放心吧，到时候还是民进党赢。', '類戒嚴', '整個政府和黨都慌?', '時中神：覺得貴你們可以別買啊；政府又沒强迫你，自由市場民主機制懂？不懂就去多念書。感冒沒吃抗生素政府要不要賠？腦瓜子不清不楚！', '南無阿彌陀佛', '少騙我選舉都會疫情不會', '想太多，是不鳥你，不是慌了！', '爆发疫情不想着赶快控制，还想着赚快筛的钱，笑死。你们选的~~', '你們聽的下去也是蠻厲害的。', '如果是故意的呢？細思極恐', '爆发疫情不想着赶快控制，还想着赚快筛的钱，笑死。你们选的~~', '下一個在家突然昏迷的是你嗎?', '民怨沸騰!百姓炸鍋!!革命無罪!!!造反有理!!!!', '億布署到那裡了？現在連不拿疼都買不到', '民怨沸騰!百姓炸鍋!!革命無罪!!!造反有理!!!!', '拿藥寒粉吃了 馬上隔辟 浪勒藥', \"何啟聖以前是橘黨'''''現ˋ在是民眾黨嗎?\", '爆发疫情不想着赶快控制，还想着赚快筛的钱，笑死。你们选的~~', '中國新冠治療藥獲得世界獨家發明專利', '民怨沸騰!百姓炸鍋!!革命無罪!!!造反有理!!!!', '劉沛，快去宣揚韓發財吧！現在發財不是開始裝善人了，出書來騙人，沒違法啦！台灣人很善良，他會發財的！', '南無阿彌陀佛', '我再告訴大家您們大家看看，最近高官就只會公告向道歉人民而已，那些高官還是可以每個月早領薪水，怎麽還可以當高官呢，人民是最好騙的，咳可憐的人民啊，祝福大家吧', '爆发疫情不想着赶快控制，还想着赚快筛的钱，笑死。你们选的~~', '我長大要當唐鳳', '民怨沸騰!百姓炸鍋!!革命無罪!!!造反有理!!!!', '輕症轉重症也很快啊', '爆发疫情不想着赶快控制，还想着赚快筛的钱，笑死。你们选的~~', '民怨沸騰!百姓炸鍋!!革命無罪!!!造反有理!!!!', '死的不是阿六就是藍白 菜總統就說台灣防疫很好 綠色執政 品質保證 ', '山水 去抱克拉克陳跟菜 一人一邊大腿，你就能拿到快篩劑了', '爆发疫情不想着赶快控制，还想着赚快筛的钱，笑死。你们选的~~', '輕症就不會死嗎', '中研院國衛院年前量產快篩劑，哪去了??', '劉沛，快去宣揚韓發財吧！現在發財不是開始裝善人了，出書來騙人，沒違法啦！台灣人很善良，他會發財的！', '作假。。都慌了。。', '民怨沸騰!百姓炸鍋!!革命無罪!!!造反有理!!!!', '医疗资源不够，死的会很多', '民怨沸騰!百姓炸鍋!!革命無罪!!!造反有理!!!!', '全部重症患者都是輕無症狀惡化而來', '前天人在家昏迷 送醫急救無效 死後確診陽性', '人民都在水深水热之中煎熬。还能有勇气出来洗。真不配当台湾人，这种人就该把他赶出台湾，他爱去哪去哪', '爆发疫情不想着赶快控制，还想着赚快筛的钱，笑死。你们选的~~', '爆发疫情不想着赶快控制，还想着赚快筛的钱，笑死。你们选的~~', '還說都輕症感冒?暴增人死亡例中重症說輕症的這些人真該下地獄', '選舉話術~~~最後一哩路。再被騙吧??', '我再告訴大家您們大家看看，最近高官就只會公告向道歉人民而已，那些高官還是可以每個月早領薪水，怎麽還可以當高官呢，人民是最好騙的，咳可憐的人民啊，祝福大家吧', '民怨沸騰!百姓炸鍋!!革命無罪!!!造反有理!!!!', '山水 去抱克拉克陳跟菜 一人一邊大腿，你就能拿到快篩劑了', '民怨沸騰!百姓炸鍋!!革命無罪!!!造反有理!!!!', '台湾人再不满，喊抗中保台、台湾南波万就解决了', '爆发疫情不想着赶快控制，还想着赚快筛的钱，笑死。你们选的~~', '山水 去抱克拉克陳跟菜 一人一邊大腿，你就能拿到快篩劑了', '我再告訴大家您們大家看看，最近高官就只會公告向道歉人民而已，那些高官還是可以每個月早領薪水，怎麽還可以當高官呢，人民是最好騙的，咳可憐的人民啊，祝福大家吧', '民怨沸騰!百姓炸鍋!!革命無罪!!!造反有理!!!!', '劉沛，快去宣揚韓發財吧！現在不是開始裝善人了，出書來騙人，沒違法啦！準備自己發財？台灣人很善良，他會發財的！', '山水 去抱克拉克陳跟菜 一人一邊大腿，你就能拿到快篩劑了', '民怨沸騰!百姓炸鍋!!革命無罪!!!造反有理!!!!', '既然，東華，畢竟，', '早就預告會掛很多人了，還叫共存,結果來了，還不願面對？掛掉的生前沒人權阿？沒繳稅嗎？政府為這些人做了什麼？還要擺爛躺平嗎？', '山水 去抱克拉克陳跟菜 一人一邊大腿，你就能拿到快篩劑了', '民怨沸騰!百姓炸鍋!!革命無罪!!!造反有理!!!!', '瞬間。。。。', '爆发疫情不想着赶快控制，还想着赚快筛的钱，笑死。你们选的~~', '山水 去抱克拉克陳跟菜 一人一邊大腿，你就能拿到快篩劑了', '民怨沸騰!百姓炸鍋!!革命無罪!!!造反有理!!!!', '山水 去抱克拉克陳跟菜 一人一邊大腿，你就能拿到快篩劑了', '民怨沸騰!百姓炸鍋!!革命無罪!!!造反有理!!!!', '當綠共更丟臉', '我再告訴大家您們大家看看，最近高官就只會公告向道歉人民而已，那些高官還是可以每個月早領薪水，怎麽還可以當高官呢，人民是最好騙的，咳可憐的人民啊，祝福大家吧', '三民自又粉飾太平', '民怨沸騰!百姓炸鍋!!革命無罪!!!造反有理!!!!', '山水 去抱克拉克陳跟菜 一人一邊大腿，你就能拿到快篩劑了', '個家庭 破滅了 苦苦苦 誰知苦, 誰來救 自強獨立嗎 ? 沒錢覺得貴不要買拉', '爆发疫情不想着赶快控制，还想着赚快筛的钱，笑死。你们选的~~', '政府擺爛 人民躺平 世界跟不上台灣', '山水 去抱克拉克陳跟菜 一人一邊大腿，你就能拿到快篩劑了', '爆发疫情不想着赶快控制，还想着赚快筛的钱，笑死。你们选的~~', '後悔沒開小吃店', '山水 去抱克拉克陳跟菜 一人一邊大腿，你就能拿到快篩劑了', '你们医院已经爆了', '爆发疫情不想着赶快控制，还想着赚快筛的钱，笑死。你们选的~~', '民怨沸騰!百姓炸鍋!!革命無罪!!!造反有理!!!!', '爆发疫情不想着赶快控制，还想着赚快筛的钱，笑死。你们选的~~', '民怨沸騰!百姓炸鍋!!革命無罪!!!造反有理!!!!', '民怨沸騰!百姓炸鍋!!革命無罪!!!造反有理!!!!', '爆发疫情不想着赶快控制，还想着赚快筛的钱，笑死。你们选的~~', '政府擺爛 人民躺平 世界跟不上台灣', '', '劉沛，快去宣揚韓發財吧！現在不是開始裝善人了，準備自己發財？台灣人很善良，他會發財的！', '◆ 超前部署為『選舉』懂了吧～！╮(╯▽╰)╭＊', '', '现在关键轻症没得治疗，就完蛋', '', '爆发疫情不想着赶快控制，还想着赚快筛的钱，笑死。你们选的~~', '', '劉沛，要發財，最後一途就投共，雙手中華民國萬歲，雙腳走進中聯辦', '還說都輕症感冒?暴增人死亡例中重症說輕症的這些人真該下地獄', '重感冒沒藥也是會死人的喔', '爆发疫情不想着赶快控制，还想着赚快筛的钱，笑死。你们选的~~', '左岸是寧可錯殺 暴力封城 右岸是連壓制的意願都沒 缺東缺西 理都不理 沒事 不就類感冒嘛 ', '南無阿彌陀佛', '我再告訴大家您們大家看看，最近高官就只會公告向道歉人民而已，那些高官還是可以每個月早領薪水，怎麽還可以當高官呢，人民是最好騙的，咳可憐的人民啊，祝福大家吧', '個家庭 破滅了 苦苦苦 誰知苦, 誰來救 自強獨立嗎 ? 沒錢覺得貴不要買拉', '同學別申請了，綠的早內定了', '爆发疫情不想着赶快控制，还想着赚快筛的钱，笑死。你们选的~~', '山水 去抱克拉克陳大腿，你就能拿到快篩劑了', '爆发疫情不想着赶快控制，还想着赚快筛的钱，笑死。你们选的~~', '山水 去抱克拉克陳大腿，你就能拿到快篩劑了', '當寒粉 很丟臉！', '山水 去抱克拉克陳大腿，你就能拿到快篩劑了', '白莲教，还比较通！！！', '三民自又粉飾太平', '合理問題，是，落下，，', '三民自又粉飾太平', '爆发疫情不想着赶快控制，还想着赚快筛的钱，笑死。你们选的~~', '一天。。', '票投民進黨，墓地隨你躺', '爆发疫情不想着赶快控制，还想着赚快筛的钱，笑死。你们选的~~', '南無阿彌陀佛', '時鐘只擔心僞陽，都不擔心他的所作所為會陽痿嗎？', '-爸媽照都好年輕唷！停格！', '用爱治病', '爆发疫情不想着赶快控制，还想着赚快筛的钱，笑死。你们选的~~', '台灣只缺報應', '台灣醫療崩潰，醫療名聲一落千丈！', '台灣人的命在蔡眼裡好不值錢', '死，還好？你是不是人啊！', '回不去了', '台灣只缺報應', '您已封鎖森林野人~~', '感冒啦。不用怕', '億,看几成在官員口袋,', '台灣本身只需要不要讓病毒進來根本就不會有疫情故意開放給病毒進來只是為了賺錢', '第一次聽到老師說白蓮教\\u3000恐怖喔', '药都不够，快死都不够，直接喊共存，这个政府是有多能耐啊？竟然还能选出这样的人来执政?', '人都是寒粉 重新投胎嚇次別當寒粉惹！！', '他們的小孩都在國外所以不用奇怪', '您已封鎖森林野人~~', '怕偽陽就請醫生當場再做一次快篩，一次偽陽的機率如果是%，兩次都偽陽的機率只剩%了好嗎', '', '塔綠班無後啊，', '謀財害命', '陈时中自主应变的意思是——在家等死', '一星期要死幾百人，哪個輕症能做到，哈哈哈，共存', '您已封鎖森林野人~~', '劉沛，快去宣揚韓發財吧！現在不是開始裝善人了，準備自己發財？台灣人很善良，他會發財的！', '难得这个老师生气', '三百開下去處理', '哈哈哈', '台灣本身只需要不要讓病毒進來根本就不會有疫情故意開放給病毒進來只是為了賺錢', '從戰以後至今,看到的美國只有自身利益,毫無盟國之誼,我們都看得懂為何執政卻始終把美國當作唯一依靠?看看台灣為美國這年因為購買三流軍火花了多少美金?換算台幣不知有幾十兆?', '今日台湾新增多例中重症！不是残废也难逃一死了。', '唉！', '南無阿彌陀佛', '個家庭 破滅了 苦苦苦 誰知苦, 誰來救 自強獨立嗎 ? ', '今日台湾新增多例中重症！不是残废也难逃一死了。', '三个人气死的，哈哈', '死亡率最高確診率最高~~~真的很悲哀', '今日台湾新增多例中重症！不是残废也难逃一死了。', '感冒藥根本沒有什麼效果', '大陆重症都是有专门的治疗小组针对用药，台湾有能力应对每天的新增重症？', '還記得前一陣子\\u3000有感染科醫師名嘴說希望看到一次數字快速上升期\\u3000莫不是．．．\\u3000細思極恐．恐怖喔', '忘了，醬先生，何必毒手', '死亡真的太多了', '一星期要死幾百人，哪個輕症能做到，哈哈哈，共存', '劉沛，快去宣揚韓發財吧！現在不是開始裝善人了，準備自己發財？台灣人很善良，他會發財的！', '今日台湾新增多例中重症！不是残废也难逃一死了。', '%>>', '還說都輕症感冒?暴增人死亡例中重症說輕症的這些人真該下地獄', '绿陈的心早已经飞走了', '因为药没有用，用了也是白用的', '今日台湾新增多例中重症！不是残废也难逃一死了。', '元宇宙里没有病毒，眼不见为净，美滋滋，元宇宙里可以做着台独梦。', '乾燥 最高 ', '今日台湾新增多例中重症！不是残废也难逃一死了。', '數字來-去：那ㄧ個知道！到底實際是多少人！騙過來片過去！一天又過去了', '今日台湾新增多例中重症！不是残废也难逃一死了。', '偽人，類人類，時中真的是人？？？', '這些吃裡扒的人', '呼叫萎陽', '疫苗連都不挺ㄛ!!', '我就比较实际，担心台妹的性生活！！！', '劉沛，快去宣揚韓發財吧！現在不是開始裝善人了，準備自己發財？台灣人很善良，他會發財的！', '今日台湾新增多例中重症！不是残废也难逃一死了。', '個家庭 破滅了 苦苦苦 誰知苦, 誰來救 自強獨立嗎 ?', '台灣只缺報應', '今日台湾新增多例中重症！不是残废也难逃一死了。', '山水是渣渣', '一星期要死幾百人，哪個輕症能做到，哈哈哈，共存', '因为药没有用，用了也是白用的', '不求同年同月同日生，但求同年同月同日死，这就是陈时中的防疫政策', '今日台湾新增多例中重症！不是残废也难逃一死了。', '劉沛，快去宣揚韓發財吧！現在不是開始裝善人了，準備自己發財？台灣人很善良，他會發財的！', '山姆 平常很俗啦只會躲起來酸的 今天 瘋啦', '今日台湾新增多例中重症！不是残废也难逃一死了。', '因为药没有用，用了也是白用的', '死亡人數大字報快要裝不下了', '今日台湾新增多例中重症！不是残废也难逃一死了。', '個家庭 破滅了 苦苦苦 誰知苦, 誰來救 自強獨立嗎 ?', '今日台湾新增多例中重症！不是残废也难逃一死了。', '有人的臉書不食人間煙火，疫情持續擴散，還在提元宇宙，真不知道她是活在那個多重宇宙？難怪臉書這兩天被買不到快篩和確診沒辦法得到醫療照顧的人 洗板。', '今日台湾新增多例中重症！不是残废也难逃一死了。', '台湾有国民党在，大陆人民就放心了', '醬先生', '今日台湾新增多例中重症！不是残废也难逃一死了。', '药在哪里？拿给人民', '今日台湾新增多例中重症！不是残废也难逃一死了。', '只會在這台哭夭，不爽去安樂啊 菜英文萬歲 該發聲不出來 現在網路靠啥會', '看樣子還是有很多被洗腦族洗腦的還不死心，還是相信黨的決定，完全都是別人的錯，難怪人心惶惶人民如此不安', '南無阿彌陀佛', '也沒爸沒媽', '真的只是开始，看上海防疫力度，再对比台湾，死亡人数真的只是开始', '怎不給藥呢？ 人命關天啊', '叫你們打高端不聽', '您已封鎖山水~~', '中国人的价值观和美国人价值观是不同的，儒家价值观是接受不了这样的合理死亡的', '一星期要死幾百人，哪個輕症能做到，哈哈哈，共存', '劉沛，快去宣揚韓發財吧！現在不是開始裝善人了，準備自己發財？', '药在哪里？拿出来', '山水 你可以去看華視出包，不要來亂', '為了抄錢部署，草菅人命', '滑視是娛樂新聞台了吧？還打陳人是「美副總統」，笑死', '一星期要死幾百人，哪個輕症能做到，哈哈哈，共存', '死,還好？你是不是人啊！', '當一個防疫部長説話沒良心冷血！我也想請問部長你！沒有下一代嗎？請要有同理心！不會講話！就不耍頂嘴沒有人會說你是啞吧！小心受天遣！', '山姆 你怎麼還沒掛 為什麼', '蔡英文 陳時中 你們頭上有枉死冤魂 人(增加中)。(新冠死亡 人 最年輕 歲)(打疫苗猝死 人)', '有病。。。', '藥物，是給狗官用的，人民拿不到的，大家不要期待', '小朋友的「三隻小豬」撲滿「確診」！！！（連小朋友的零用錢，都（？）的那副嘴臉！）兒童疫苗！超前佈署？特效疫苗嗎？馬上打馬上 有抗體 。', '因为疫情大家情绪不稳定厚，，疫情过去就好了厚，，病毒去世很正常厚ᥬ᭄', '死掉的不是数字，是人！人权在兹有冥主的台湾不是很被看中吗？现在要躺平齁？', '劳资是山里的，还管它封不封城！！！', '張床空出來 下一批 和潛艦一樣 熱床', '一星期要死幾百人，哪個輕症能做到，哈哈哈，共存', '死亡日期介於月日至月日, 死了几天才报', '這些都是老人，怕重症', '只在乎偽陽，快速投藥，哪來會這麼多人有中重症', '蔡英文 陳時中 你們頭上有枉死冤魂 人(增加中)。(新冠死亡 人 最年輕 歲)(打疫苗猝死 人)', '死掉的不是数字，是人！人权在兹有冥主的台湾不是很被看中吗？现在要躺平齁？', '陳時忠 死亡人數 只是數字跳動而已嗎 知道總人口數多少嗎 去年死亡多 忘了嗎 ', '真實的話給大家聽（友話直說）', '她出來也沒有用，因為跟她們家裡沒有關係！', '這種政府 今天還有人駡不錯了！ 代表還有些活人', '還說都輕症感冒?暴增人死亡例中重症說輕症的這些人真該下地獄', '死掉的不是数字，是人！人权在兹有冥主的台湾不是很被看中吗？现在要躺平齁？', '劉沛，快去宣揚韓發財吧', '您已封鎖山水~~', '一星期要死幾百人，哪個輕症能做到', '來福狗先掛喔 哈哈哈', '老虎出沒請注意', '世界怎麼跟得上台灣 : 只有我們要排隊買快篩', '科学主义', '菜阿嬷無感覺', '今天陳時中聽到記者發問有關侯友宜及柯文哲針對疫情的發言，陳時中就爆衝發脾氣…今天陳時中聽到記者發問有關侯友宜及柯文哲針對疫情的發言，陳時中就爆衝發脾氣…今天陳時中聽到記者發問有關侯友宜及柯文哲針對疫情的發言，陳時中就爆衝發脾氣…', '爛咖 每天討罵', '您已封鎖山水~~', '人家根本就不会在乎，别一厢情愿，开会是为了应对舆论的压力，还有选举。', '一星期要死幾百人，哪個輕症能做到', '多都不夠ㄌ  = =', '今天陳時中聽到記者發問有關侯友宜及柯文哲針對疫情的發言，陳時中就爆衝發脾氣…今天陳時中聽到記者發問有關侯友宜及柯文哲針對疫情的發言，陳時中就爆衝發脾氣…', '蔡阿嬤是下一個', '去韓単于 故郷？ ', '死還好啦 去年真實死亡人數破萬', '死掉的不是数字，是人！人权在兹有冥主的台湾不是很被看中吗？现在要躺平齁？', '不吉利，要改成。 冥进挡发，发，发', '山姆 你為什麼 還沒掛', '神隱少女的臉書被洗版，洗到塔綠班網軍都來不及檢舉。有人還在把自己當局外人，還在元宇宙？怎麼知道民間疾苦？ ', '高峰時期，貔貅，妳總是想到原畫', '菜誰選出來的？可悲啊！', '北京封城了，恭喜', '您已封鎖~~', '小心蔡英文用軍警', '他們良心飛去元宇宙了啦', '死掉的不是数字，是人！人权在兹有冥主的台湾不是很被看中吗？现在要躺平齁？', '您已封鎖~~', '台湾人的掌上明珠，蔡英文、陈菊、周玉蔻', '個家庭 破滅了 苦苦苦 誰知苦', '山水去看華視啊', '您已封鎖~~', '人權去跟上海人說吧', '塔綠斑來囉？', ' 高血压可以采用中医治疗啊，大陆香港都在用中医，死亡率比韩国还低', '蔡阿罵', '死掉的不是数字，是人！人权在兹有冥主的台湾不是很被看中吗？现在要躺平齁？', '沒特權只能等死不要承認', '死掉的不是数字，是人！人权在兹有冥主的台湾不是很被看中吗？现在要躺平齁？', '快速投藥，哪來會這麼多人有中重症', '重症才給藥 歲女枉死', '蔡英文踹共', '死掉的不是数字，是人！人权在兹有冥主的台湾不是很被看中吗？现在要躺平齁？', '狗來福還是觀落陰共存喔', '', '時鐘表示，每天都有人死亡，多一兩人還好', '死掉的不是数字，是人！人权在兹有冥主的台湾不是很被看中吗？现在要躺平齁？', '重症才給藥 歲女枉死', '抄錢部瞢就是沒虊品沒快葭人民要什麼沒什麼,', '中天又在唱衰台灣，中天關的好', '死亡人數快要寫不下了', '個家庭 破滅了 苦苦苦 誰知苦', '友志哥都講最真實的話給大家聽（友話直說）', '山姆 為什麼你還在 你還沒掛阿 ', '美国和万死去的人谈人权。是讽刺吗？台湾要学不？', '还是那句，我蛮担心台妹以后的性生活的！！！台湾郎确诊后短！！！大家怎么说，怎么说！！！', '', ' 亂七八糟 超想罵髒話', '政府杀人', '好好回去看書…………', '死掉的不是数字，是人！人权在兹有冥主的台湾不是很被看中吗？现在要躺平齁？', '垃圾', '', '每天都在罵政府', '死掉的不是数字，是人！人权在兹有冥主的台湾不是很被看中吗？现在要躺平齁？', '', '死掉的不是数字，是人！人权在兹有冥主的台湾不是很被看中吗？现在要躺平齁？', '死還好啦 去年真實死亡人數破萬', '死掉的不是数字，是人！人权在兹有冥主的台湾不是很被看中吗？现在要躺平齁？', '政府請給台灣人民藥品跟篩劑，救救台灣人民', '多張空床 下一批', '人家友志是將官 講話單刀直入 不拐彎抹角', '快速投藥，哪來會這麼多人有中重症', '-希望是-', '人 顆顆', '藥很貴，捨不得給人民用', '製氧機。。輔助。。。', '產婦重症不會一尸兩命吧', '這些人都是高血壓哦', '（）本境死人（）本境死人（）本境死人（）本境死人（）本境死人（）本境死人累積（）境死人中重症人（人死亡）', '要死到一萬人以上請自求多福', '菜大公主，菜大小姐ᥬ᭄', '今天他還在說偽陽性、限制人身自由', '跟他死的更快', '快速投藥，哪來會這麼多人有中重症', '去那 里', '死人还有啥人权？死人不能投票', '高峰肯定还没来，看韩国高峰期万', '大家不用看前面的确诊，筛检量如此，关键是后面的死亡人数', '來猜 阿中 多久會轉彎', '塔綠斑:萬 -還好阿', '注意保护老人和小孩。年轻人身体还能扛一下。', '還說都輕症感冒?暴增人死亡例中重症說輕症的這些人真該下地獄', '友志哥都講最真實的話給大家聽（友話直說）', '個家庭 破滅了 苦苦苦 誰知苦', '山姆 還沒掛阿 嗨', '死的\\u3000在他們眼中只是數字多寡．．．', ' 我確診要自己負責', '高峰還沒來 ??? ', '綠媒請拿出良心跟道德，一起來監督政府', '中重症暴增例！多歲女產後大出血驗出新冠「首例產婦重症」', '死還好啦 去年真實死亡人數破萬', '民主大法好啊，感染就自由啦！！！', '中重症暴增例！多歲女產後大出血驗出新冠「首例產婦重症」', '人在做天在看', '節哀', '抄錢佈署賺再多死後能帶走去享用嗎????', '中重症暴增例！多歲女產後大出血驗出新冠「首例產婦重症」', '到時候校正回歸、蓋牌', '但現在不是這樣跟美國一樣搞這種特權種族歧視這種病態我們不服', '没药，搞点风油精应急。', '中重症暴增例！多歲女產後大出血驗出新冠「首例產婦重症」', '年起累計,例-死亡病例，其中例本土', '其实瑞德西韦有很大副作用，很多老年人不能用，大陆和港澳都是中医为主', '中重症暴增例！多歲女產後大出血驗出新冠「首例產婦重症」', '友志哥都講最真實的話給大家聽（友話直說）', '呵呵呵 來福狗 龜', '個家庭 破滅了 苦苦苦 誰知苦', '敢給確診亡者上香嗎', '人权啊，是人优先活着的权利，死都没了，人权是什么？', '就算是每天死,個人台灣人一樣不會覺醒', '每次都要妖魔化對岸，人家大度要幫忙都不肯，現在死的人越来越多了！', '义和团，刀枪不入！！！', '因為死的 不是 他們家的人 所以不會痛所以心裡就會回你\\u3000不然你要怎樣\\u3000．．．．嘿嘿嘿', '在政客眼中只是數字', '台北第二殡仪馆已经烧坏两台焚化炉了厚', '蔡英文說台灣防疫很好，越講人越不敢出去', '呵呵呵呵！', '還是三立好，中共跟韓國魚的陰謀', '死亡丧钟', '塔克拉瑪干沙漠 ', '喔，拔毛', '報數的今天見笑轉生氣', '', '陳時中害死很多人了', '中國中醫藥千金藤，獲得世界獨家發明專利。', '選出來的，結果把打成最低階層！', '时中报丧钟', '蔡英文爆政', '我是好人', '這些官員是不是父母生的，報應一定會在你的家人', '沒有藥!你要怎樣??', '不開心來打我', '沒有藥!你要怎樣??', '必须高票冻蒜市长，一切抹黑都是破坏皿煮和兹油，干涉时台选举开罚万！', '寒粉你們也曉得你們平常很吼 海要玩嗎 ', '沒有藥!你要怎樣??', '沒有藥!你要怎樣??', '友志哥加油', '來打我', '人命一條 憑什說共存 初始憑什不壓制 憑什甩醫專建言 陳時忠官真大', '這是人命，不是數字', '漢廷加油！', '沒有藥!你要怎樣??', '香港疫情在大陆中医支持下，死亡率万分之，低于韩国万分之', '都來打我', '沒有藥!你要怎樣??', '（）本境人死人（）本境死人（）本境人死人（）本境死人（）本境死人（）本境死人（）本境死人（）本境死人（）本境死人（）本境死人累積（）境死人中重症人（人死亡）', '：我的執著無能又害死追隨者死了人', '沒有藥!你要怎樣??', '綠媒還在辯稱藥不要亂吃', '辛苦九天', '沒有藥!你要怎樣??', '沒有藥!你要怎樣??', '主播打我，我不還手', '快速給藥，哪來會這麼多人有中重症', '沒有藥!你要怎樣??', '香港疫情在大陆中医支持下，死亡率万分之，低于韩国万分之', '還說都輕症感冒?暴增人死亡例中重症說輕症的這些人真該下地獄', '不要罵時鐘', '中重症暴增例！多歲女產後大出血驗出新冠「首例產婦重症」', '滅活奧密克戎，千金藤世界第一', '中重症暴增例！多歲女產後大出血驗出新冠「首例產婦重症」', '別氣死自己 人家在邊玩宇宙邊捅錢 國自己王國生活 等牠們自己為了分贓不均內鬨吧', '我今天不可愛', '快來打我', '南無阿彌陀佛', '中重症暴增例！多歲女產後大出血驗出新冠「首例產婦重症」', '個家庭 破滅了 苦苦苦 誰能知', '不爽就打我', '中重症暴增例！多歲女產後大出血驗出新冠「首例產婦重症」', '中重症暴增例！多歲女產後大出血驗出新冠「首例產婦重症」', '武漢肺炎害全球', '塔绿板会说：这是有预见有计划的死亡，死的毫不意外，死的情理之中，死的自然，死的成功', '中重症名！往後幾天數字⋯⋯⋯', '不要罵民進黨了', '中重症暴增例！多歲女產後大出血驗出新冠「首例產婦重症」', '连花清瘟不是万能的特效药，是抑制和辅助的。不过便宜，效果还好，尤其反应不强烈，小孩可以用。', '中重症暴增例！多歲女產後大出血驗出新冠「首例產婦重症」', '個人不是數字是人命', '打我啦', '外食的，是', '防疫魔犯生！（連哭都不哭了不演了？一屍兩命！）沒快篩，沒黑數', '死，共存好嗎？', '緑地〜砂漠 破壊民族 去那', '对于想共存的人是正常的，因为死的不是他家人', '中重症', '掃', '都習慣了', '台湾特权阶层是不怕新冠啊~你们老百姓呢？甘愿当盘子吗？死的不是特权阶级欸~~', '台灣月日至月日新冠死亡人數已達人，積極染疫？沒人性！！！', '中國世界第一', '台湾特权阶层是不怕新冠啊~你们老百姓呢？甘愿当盘子吗？死的不是特权阶级欸~~', '綠媒還在辯稱藥不要亂吃', '防疫做得好~~~生意沒煩惱。~再無腦綠啊~~', '中國世界第一', '台湾特权阶层是不怕新冠啊~你们老百姓呢？甘愿当盘子吗？死的不是特权阶级欸~~', '個家庭 破滅了 苦阿', '中國世界第一', '防疫既做不好為何不下台? 抄錢布署', '也就是说确诊的比确诊的患者体内病毒减小了 倍', '中國世界第一', '習先生你睡得好嗎?你們有清華在職法學博士研究生在搞動態清零卻死更多人嗎？天篩好萬人?封完上海到青海萬人死亡有負責嗎?北京清華有飯吃嗎?然後他要負責小區鑰匙用繩子垂降嗎?還要幫忙送水、送便當?有禁內用嗎?孕婦遭黨員突擊隊毆打、小提琴手急性胰腺炎跳樓、江蘇歲半幼兒噎到疑因無核酸證明被拒診死亡有負什麼責任?請問他有本論文嗎?------->當能賺多少?大家有沒有毛毛', '說吧，承接', '是該讓蓮花清瘟膠囊進來台灣', '台湾特权阶层是不怕新冠啊~你们老百姓呢？甘愿当盘子吗？死的不是特权阶级欸~~', '這次疫情看民眾會不會醒 年底讓民進黨下台囉 罵民進黨沒用 民進黨只怕選舉選輸', '只要扯、就好了嗎\\u3000我真是白眼翻翻------------------>當能賺多少?大家有沒有毛毛', '台湾特权阶层是不怕新冠啊~你们老百姓呢？甘愿当盘子吗？死的不是特权阶级欸~~', '寒粉 掛了 太少了 以後還有', '死了還拿不到藥 ', '還說都輕症感冒?暴增人死亡例中重症說輕症的這些人真該下地獄', '個家庭 破滅 苦阿', '防疫中心真的是個笑話，多億搞不好普篩，之前還在騙民眾清超前部署，都沒篩檢哪來的清阿。', '台湾特权阶层是不怕新冠啊~你们老百姓呢？甘愿当盘子吗？死的不是特权阶级欸~~', '篩眼', '台湾特权阶层是不怕新冠啊~你们老百姓呢？甘愿当盘子吗？死的不是特权阶级欸~~', '自生自滅和自主等死 蔡英文還在乎百姓和醫護人員嗎', '選出來的，結果把自己打成最低階層，活該吧！', '死了人也要南無阿彌陀佛', '人今天都落在谁家？明天还在这里的人，会不会有一个忙着没时间来唠嗑，忙着收尸', '中國中醫藥千金藤成為世界的救星，中國領導世界。', '乾乾', '民進黨的人為了自己的利益說盡謊話害死人也不會良心不安啦⋯⋯', '搞不好郭董可以競標', '值和值 别看就差点但是按照国际算法好像是相差倍', '怎么沒有的人、尤其是他的親人', '還在等下一次選舉 別天真了 不管選誰一定有樣學樣 因為人民不會反抗', '重症也沒辦法都投藥', '台湾特权阶层是不怕新冠啊~你们老百姓呢？甘愿当盘子吗？死的不是特权阶级欸~~', '那時候在一起', '搞不好郭董競標', '早就证实了那个药没用了，怎么台湾还一直在吹瑞德西伟', '死因 就都推給慢性病發無良政府', '预计天后每天死亡上百位', '綠媒還在辯稱藥不要亂吃', '防疫是陳時鐘的數字。蔡英文的錢。老百姓的排隊', '他們利用疫情污的分配款已配發分紅了 當然他們穩妥當選 不管人民死活 就是 在野 視而不見嗎? 基層早失守 朱立還在睡 ', '塔克拉瑪干沙漠 里見', '台湾特权阶层是不怕新冠啊~你们老百姓呢？甘愿当盘子吗？死的不是特权阶级欸~~', '慢性疾病，藥品會排斥', '搞不好郭董可以去競標', '謝謝去的團體今天去丟雞蛋', '值和值 别看就差点但是按照国际算法好像是相差倍', '看看烏克蘭的下場，真以為選舉就是正確嗎，哈哈哈', '佛系防疫', '', '還沒談好', '真的有投藥嗎？', '好害怕 好害怕 人死亡', '台湾特权阶层是不怕新冠啊~你们老百姓呢？甘愿当盘子吗？死的不是特权阶级欸~~', '請尊重亡者。', '還說都輕症感冒?暴增人死亡例中重症說輕症的這些人真該下地獄', '謝謝去的團體今天去丟雞蛋', '中國中醫藥千金藤成新冠疫情救星。', '台湾特权阶层是不怕新冠啊~你们老百姓呢？甘愿当盘子吗？死的不是特权阶级欸~~', '有個有投藥～瑞德西韋', '小心有人蹦出来说你们造谣，台湾是民主的没有特权。', '謝謝去的團體今天去丟雞蛋', '羅友志又在練肖畫?//《頭條開講》蔡英文竟讚防疫團隊表現好！羅友志轟：哪來的自信？----------->難道要破口大罵?現在確診大多輕症，不能彈性調整隔離時間嗎?每天捅鼻子你要嗎?做你罵、不做你也罵?快篩可網購、改視訊問診不好嗎?通告費這樣爽賺有道理嗎?有沒毛毛', '還在等下一次選舉 別天真了 不管選誰一定有樣學樣 因為人民不會反抗', '普篩？ 如果我不想篩呢？ 誰抓我 一拳一個倒', '還說都輕症感冒?暴增人死亡例中重症說輕症的這些人真該下地獄', '台湾特权阶层是不怕新冠啊~你们老百姓呢？甘愿当盘子吗？死的不是特权阶级欸~~', '歲數', '黃砂 問題 去那', '台湾特权阶层是不怕新冠啊~你们老百姓呢？甘愿当盘子吗？死的不是特权阶级欸~~', '這 本不該死', '還在等下一次選舉 別天真了 不管選誰一定有樣學樣 因為人民不會反抗', '建立萬人級的輕症治療園區，給予<氧氣>超重要中西藥投藥', '友志哥，罵他啦', '塔綠就不要九二共識啊。承認九二，國際組織還可以考慮觀察員身分，不要，誰理你，老米？？口惠實不至，算了吧', '你如果叫牠不理你假裝沒聽到~ 就用台語喊 紅酒ㄟ！', '都死了 還來不及投藥', '今天 掛的都是寒粉', '这也是台湾为什么不敢要各国快筛进入台湾的主要原因，台湾不是国际确诊标准，要是使用了国际统一确诊标准的快筛，台湾确诊会爆炸的', '中醫藥世界第一', '台湾特权阶层是不怕新冠啊~你们老百姓呢？甘愿当盘子吗？死的不是特权阶级欸~~', '真的讓世界看到台灣，陳時中做到了！', '習先生你睡得好嗎?你們有清華在職法學博士研究生在搞動態清零卻死更多人嗎？天篩好萬人?封完上海到青海萬人死亡有負責嗎?北京清華有飯吃嗎?然後他要負責小區鑰匙用繩子垂降嗎?還要幫忙送水、送便當?有禁內用嗎?孕婦遭黨員突擊隊毆打、小提琴手急性胰腺炎跳樓、江蘇歲半幼兒噎到疑因無核酸證明被拒診死亡有負什麼責任?請問他有本論文嗎?------->當能賺多少?大家有沒有毛毛', '郭董唾液快篩機重送 申請家用，郭董富佳唾液快篩機送審，永齡基金會：還未獲得任何衛福部官方的訊息回覆，  中央還在卡關', '陳要你投胎，所以不投藥。', '以后不止靠爱发电，还要靠爱治病', '台湾特权阶层是不怕新冠啊~你们老百姓呢？甘愿当盘子吗？死的不是特权阶级欸~~', '中醫藥世界第一', '不怕投书，就怕投钱。', '台湾特权阶层是不怕新冠啊~你们老百姓呢？甘愿当盘子吗？死的不是特权阶级欸~~', '鬧中說 共存是為跟國際同步 鬼畫連篇 知道台灣人口數嗎 ', '今天掛了個', '用药也死', '全世界都被他騙了!騙台灣算甚麼!!', '防疫草包草包防疫防疫草包', '死亡黑數還有一堆', '死亡率也要衝世界第一了', '台湾特权阶层是不怕新冠啊~你们老百姓呢？甘愿当盘子吗？死的不是特权阶级欸~~', '', '這種耍特權的就是威權的表徵，所以這些說自己是民主的都已經向威權靠攏了，為何民進黨的民調高，若非民調是作弊，就是這些票投民進黨的人死不願認錯的心態造成的，悲哀的死不認錯才是害死臺灣人的幫凶', '塔克拉瑪干沙漠 去那', '药呢？', '擁菜稱帝', '人都是寒粉', '全世界都被他騙了!騙台灣算甚麼!!', '', '全世界都被他騙了!騙台灣算甚麼!!', '台湾特权阶层是不怕新冠啊~你们老百姓呢？甘愿当盘子吗？死的不是特权阶级欸~~', '', '全世界都被他騙了!騙台灣算甚麼!!', '全世界都被他騙了!騙台灣算甚麼!!', '擺爛那錢就好', '全世界都被他騙了!騙台灣算甚麼!!', '防疫到最後變成老百姓自救 甚麼都要自己去找 連花清瘟也要自己找', '全世界都被他騙了!騙台灣算甚麼!!', '台湾特权阶层是不怕新冠啊~你们老百姓呢？甘愿当盘子吗？死的不是特权阶级欸~~', '去看看义和团始末吧，别被轮子带风向', '這人 死的好可憐', '費鴻泰快篩「兩條線」 等待檢測綠委趙天麟早上檢驗中午就出爐', '這人 死的好可憐', '台湾特权阶层是不怕新冠啊~你们老百姓呢？甘愿当盘子吗？死的不是特权阶级欸~~', '台湾特权阶层是不怕新冠啊~你们老百姓呢？甘愿当盘子吗？死的不是特权阶级欸~~', '還說都輕症感冒?暴增人死亡例中重症說輕症的這些人真該下地獄', '阿中：輕症% 不怕不怕', '克拉克蓋牌', '台湾特权阶层是不怕新冠啊~你们老百姓呢？甘愿当盘子吗？死的不是特权阶级欸~~', '這人 死的好可憐', '終於友話直說了⋯', '他不敢回答', '裝死擺爛等錢', '美国要是按照台湾这么来值才算确证，会减小几千万确诊者', '不用負責任的官員才是世界第一', '又吹又騙的國際詐欺', '發選舉贏了就能貪污腐敗，發國難財，為所欲為，對吧，萬歲，選舉萬歲', '好了拉 不爽不會去起義 只敢出張嘴 選舉也選不贏 笑死 ', '台湾特权阶层是不怕新冠啊~你们老百姓呢？甘愿当盘子吗？死的不是特权阶级欸~~', '塔克拉瑪干沙漠 里？', '防疫吹牛', '台湾特权阶层是不怕新冠啊~你们老百姓呢？甘愿当盘子吗？死的不是特权阶级欸~~', '好了拉 不爽不會去起義 只敢出張嘴 選舉也選不贏 笑死', '還說都輕症感冒?暴增人死亡例中重症說輕症的這些人真該下地獄', '好了拉 不爽不會去起義 只敢出張嘴 選舉也選不贏 笑死', '好了拉 不爽不會去起義 只敢出張嘴 選舉也選不贏 笑死', '台湾特权阶层是不怕新冠啊~你们老百姓呢？甘愿当盘子吗？死的不是特权阶级欸~~', '一般外科口罩濕了不是就沒功用了？', '好了拉 不爽不會去起義 只敢出張嘴 選舉也選不贏 笑死', '都要盖牌了，还参加个什么，人家是要数据的，台湾尽是黑数！！！不是打脸吗？？？', '好了拉 不爽不會去起義 只敢出張嘴 選舉也選不贏 笑死', '什么投书 就大外宣而已', '丟臉丟國外，已不知自己從神桌上摔下來了', '台湾特权阶层是不怕新冠啊~你们老百姓呢？甘愿当盘子吗？死的不是特权阶级欸~~', '就是敢不要臉你買安抓', '蒸 快篩 會不會條變條', '台湾特权阶层是不怕新冠啊~你们老百姓呢？甘愿当盘子吗？死的不是特权阶级欸~~', '騙騙騙!!就是了!', '騙騙騙!!就是了!', '好了拉 不爽不會去起義 只敢出張嘴 選舉也選不贏 笑死', '好了拉 不爽不會去起義 只敢出張嘴 選舉也選不贏 笑死', '騙神騙鬼騙世界', '好了拉 不爽不會去起義 只敢出張嘴 選舉也選不贏 笑死', '好了拉 不爽不會去起義 只敢出張嘴 選舉也選不贏 笑死', '騙騙騙!!就是了!', '什麼鬼？', '怎麼有臉投書', '口罩实名制？？？？', '還說都輕症感冒?暴增人死亡例中重症說輕症的這些人真該下地獄', '', '羅友志又在練肖畫?//《頭條開講》蔡英文竟讚防疫團隊表現好！羅友志轟：哪來的自信？----------->難道要破口大罵?現在確診大多輕症，不能彈性調整隔離時間嗎?每天捅鼻子你要嗎?做你罵、不做你也罵?通告費這樣爽賺有道理嗎?有沒毛毛', '友志 來了 白髮哥 來了', '笑死我了，口罩实名制，大陆块一包个你买包也没管人管', '發選舉贏了就能貪污腐敗，發國難財，為所欲為，對吧，萬歲，選舉萬歲', '民進黨之亂！', '普篩 如果我不想篩呢？ 公安抓人？ 一拳倒一個', '', '', '發選舉贏了就能貪污腐敗，發國難財，為所欲為，對吧，萬歲，選舉萬歲', '', '走鐘部長的英文還能投書喔???', '沒錯，台灣的很可能動手腳，設定閾值在以下', '好了拉 不爽不會去起義 只敢出張嘴 選舉也選不贏 笑死', '全民健保又不是冥盡洞的政績', '早建方倉 每個人都有適當照料就沒事了啦', '好了拉 不爽不會去起義 只敢出張嘴 選舉也選不贏 笑死', '大家午安!支持中天,正義,說真話! ', '值在我们大陆已经算中度和重症了', '健保又不是齁齁齁搞的', '好了拉 不爽不會去起義 只敢出張嘴 選舉也選不贏 笑死', '叫人蒸口罩，快笑瘋了', '不支持友志哥', ' 全球防疫破口之冠', '能進去嗎？什麼健保？這是他功勞嗎？', '特勤是', '我们大陆确诊标准是世界最高的的，值就是确诊，', '大家午安!支持中天,正義,說真話! ', '被殖民的时间太长了，已经忘记自己的祖先了', '發選舉贏了就能貪污腐敗，發國難財，為所欲為，對吧，萬歲', '唯安 歲 男性 台灣人', '世界不毀滅才有鬼外太空不會有你們的位置只有我們這種心思單純的人才會被選，回來了也沒用。。。歷史還是跟著一樣的形式走。。。', '前立委羅國梁 也要天⋯⋯⋯小時真特權', '囤快篩囤藥的特權高層，全確診重症插管不治，太缺德了', '我大陆要是想隐瞒，把确诊的值和台湾一样就可以了，值才是确诊，', '國民黨說民進黨笨 結果一選舉國民黨輸死', '要隐瞒疫情不用做普筛就好了', '千惠 腿粗 偶還是愛妳別怕', '官逼民反', '殖民地的人就是这样 的', '只要扯就好了嗎\\u3000我真是白眼翻翻------------------>當能賺多少?大家有沒有毛毛', '普筛就是为了抓黑数', '選舉不是說好的 人民為主 說好的聽人民的聲音 說好的跟人民戰在一起', '辛苦，剩下', '台灣人從來都是順民，換個政府，老百姓還是老實生活', '第一次聽到車輪黨罵綠笨', '快升級不然要芭比了', '發選舉贏了就能貪污腐敗，發國難財，為所欲為，對吧，萬歲', '南無阿彌陀佛', '人家說好了坐滿', '就說新黨要能和國民黨團結 不要老是扯後腿 像那個送 幾乎每次都出來晃 是有什麼目的嗎 抱歉 這是笑話 別對號入座阿。', '傻傻的 我權貴還跟你當平民 是不是有問題', '如果中国大陆要隐瞒 直接不做普筛就好', '多數民眾都被洗腦了啦 ，執政者為所欲為 ，也無感 ，除非可憐的當事人', '賊人現在讓你們得勢高傲 仗勢欺人 就是等著惡報 不得好ㄨ ', '喔喔，既然是剩下留著', '台灣中央跟著美國走現在不就變成這樣蜥蜴人階級制度', '蛙，，吃炒米粉，，嗎？！吃這好，，', '林靜雨 濺了', '', '英朝帝府 還要讓人民陷於生命威脅多久呀 妳眼理人命值多少 ', '好了拉 不爽不會去起義 只敢出張嘴 選舉也選不贏 笑死', '好了拉 不爽不會去起義 只敢出張嘴 選舉也選不贏 笑死', '緑緑緑 面倒臭 統一遣', '好了拉 不爽不會去起義 只敢出張嘴 選舉也選不贏 笑死', '要隐瞒疫情很容易 不普筛就好了', '師徒聯手！？我只看到二個樂色在路上晃！', '是出征老百姓，义和团至少不是。丑化义和团就是让你不要跟洋人反抗', '好了拉 不爽不會去起義 只敢出張嘴 選舉也選不贏 笑死', '選舉贏了就能貪污腐敗，發選舉贏了就能貪污腐敗，發國難財，為所欲為，對吧，', '好了拉 不爽不會去起義 只敢出張嘴 選舉也選不贏 笑死', '【台湾现政乱象】【只准州官放火，不许庶民点灯】【只看颜色定对错，准绳拉扯行双标，州长受赂无忌讳，官官相护使特权，放任自流成恶习，火焰狂烧虐万民。不理万事且推诿，许诺应承皆空话，庶次屈枉许多人，民意全然成垃圾，点点滴滴皆妄事，灯火通明显无能。】【小红点，郭泽宣「科元」。】', '好了拉 不爽不會去起義 只敢出張嘴 選舉也選不贏 笑死', '也就是比誰比較快，誰才是真正特權中的精英', '抄前不數躺平太省前了。', '南無阿彌陀佛', '瀬田宗次郎名言\\u3000強者生弱者死\\u3000瞬天殺!', '中國為何一定要採清零政策？就是重視人命，說中國隱瞞死亡人數，根本天大謊言，聯合國人權理事會肯定會究責中國', '用喝的比較快，還打？', '也是台灣的政治', '拍了半天，都沒排到人', '新冠病毒結束拉', '這就是美國的政治', '怎么不好的都往中国身上扯', '所以說現在還會支持綠共的，不是有很多利益，就是', '還說都輕症感冒?暴增人死亡例中重症說輕症的這些人真該下地獄', '選舉贏了就能貪污腐敗，發國難財，為所欲為，對吧，', '中國首先發現並發明的千金藤素，可以抑制新冠病毒的複製！！！！', '五個黑人少年被政治抹殺誣賴做冤獄', '民進黨耍特權不怕人民知道，就是咬定人民對他們無可奈何！', '高端好啊 打十剂', '喔喔，，燕子幾天回', '傻傻的 身份是權貴才要炫耀 ', '周摳摳得了便宜還害醫生', '医生陪她做了个伏地挺身吧', '對執政黨寬容的人民，就是危害人民的始作庸者', '您已封鎖許遵榮~~', '', '許大便 被封了 笑死', '高端没打够吧。再来个针针的', '您已封鎖許遵榮~~', '死了就清零啊', '楊植斗原來不是真的弄成發亮光頭…這決心 不夠啊', '民調都假的啦', '民調 看 排隊，，民掉', '軍人？ 暇付', '毕竟是死忠的', '您已封鎖許遵榮~~', '蔡：我們防疫很好', '以前查這個一堆跑出來現在肯能影片都被黃標了', '歲的阿婆做伏地挺身，還要醫生到府採檢', '黑數太多了', '义和团，刀枪不入还怕感染？？', '千惠 腿好粗', '就說來不急了，在不信啊！', '个死了 别在意', '湾湾就不一样，弹丸之地，井太深', '有黨證，搞特權一件又一件 …… ，已經選了他們，大家再忍忍 ', '金絲貓幾歲？', '綠能你不能', '植斗讚', '「桃園 諾富特」蔡英文 陳時中 你們頭上有枉死冤魂 人(增加中)。(新冠死亡 人 最年輕 歲)(打疫苗猝死 人)', '那問題恩師，以愛滋', '不要緊張 死亡 重症清零', '咦，不是喊要共存了吗？老陈干嘛还戴口罩？', '有色眼睛沒錯美國太厲害了', '「桃園 諾富特」蔡英文 陳時中 你們頭上有枉死冤魂 人(增加中)。(新冠死亡 人 最年輕 歲)(打疫苗猝死 人)', '大陆那么大，就是一辈子不出国在国内也能减很多世面', '民主政治就是權貴金權政治。', '不要緊張 死亡 重症清零', '還說都輕症感冒?暴增人死亡例中重症說輕症的這些人真該下地獄', '乾杯！', '超前去排队买个“天上人间庄园”吧，这次没用上，下次还有机会。', '老叩叩', '許遵榮 你拿出你的身份证，看看上面是中华民国还是台湾共和国？为什么你要用一个大陆的流亡政府发的护照？你不知道中华民国是一个流亡政府吗？你知道美国都没有和中华民国建交吗？美国更没有和台湾共和国建交，为什么你要去一个不承认中华民国和台湾共和国的国家玩？', '如果是韓國瑜一定會緊張', '新冠病毒要結束拉！', '「桃園 諾富特」蔡英文 陳時中 你們頭上有枉死冤魂 人(增加中)。(新冠死亡 人 最年輕 歲)(打疫苗猝死 人)', '千惠 幾歲了了吧', '可怜是你们，井太深了', '惡痘', '好了拉 不爽不會去起義 只敢出張嘴 選舉也選不贏 笑死 ', '沒用的台灣人民進黨的支持者又怎麼樣票還是投民進黨', '有黨證好辦事', '無眼睇了', '好了拉 不爽不會去起義 只敢出張嘴 選舉也選不贏 笑死', '「桃園 諾富特」蔡英文 陳時中 你們頭上有枉死冤魂 人(增加中)。(新冠死亡 人 最年輕 歲)(打疫苗猝死 人)', '好了拉 不爽不會去起義 只敢出張嘴 選舉也選不贏 笑死', '菜 兩年後下台 哪管現在如何', '好了拉 不爽不會去起義 只敢出張嘴 選舉也選不贏 笑死', '', '小粉紅連跨省移動都不可以~~也不能出國~~更一輩子不能來台灣~~你們那麼可憐~~還在計較什麼~~', '', '', '', '小粉紅連跨省移動都不可以~~也不能出國~~更一輩子不能來台灣~~你們那麼可憐~~還在計較什麼~~', '鄧如秀快篩陽性，但是要做檢驗時，卻不用跟一般人一樣排隊數小時以上，而是專案直送台北市立聯合醫院中興院區「插隊」採檢，甚至檢體再「插隊」直送疾管署昆陽實驗室，全程都是插隊到底。', '選舉到了，聽到愛呆灣，民怨變成民願', '熊男くまお 可怜', '好了拉 不爽不會去起義 只敢出張嘴 選舉也選不贏 笑死', '好了拉 不爽不會去起義 只敢出張嘴 選舉也選不贏 笑死', '蔡：我們防疫很好', '好了拉 不爽不會去起義 只敢出張嘴 選舉也選不贏 笑死', '小粉紅連跨省移動都不可以~~也不能出國~~更一輩子不能來台灣~~你們那麼可憐~~還在計較什麼~~', '好了拉 不爽不會去起義 只敢出張嘴 選舉也選不贏 笑死', '去地好熟', '好了拉 不爽不會去起義 只敢出張嘴 選舉也選不贏 笑死', '好了拉 不爽不會去起義 只敢出張嘴 選舉也選不贏 笑死', '好了拉 不爽不會去起義 只敢出張嘴 選舉也選不贏 笑死', '好了拉 不爽不會去起義 只敢出張嘴 選舉也選不贏 笑死', '還說都輕症感冒?暴增人死亡例中重症說輕症的這些人真該下地獄', '噁心ㄉ大人啦', '好了拉 不爽不會去起義 只敢出張嘴 選舉也選不贏 笑死', '熊男くまお 大民族', '人民必須站出來 要求官方 設置足夠的火化場 這次一定要超前', '小粉紅連跨省移動都不可以~~也不能出國~~更一輩子不能來台灣~~你們那麼可憐~~還在計較什麼~~', '了啊。明天还要继续升啊，没方舱，前期就只能是人传人，靠自己抗，扛得住就活着，扛不住就走了。', '(民進黨執政) 陳水扁 死亡人；蔡英文 -新冠肺炎死亡 人，打疫苗猝死 人(增加中)', '小粉紅連跨省移動都不可以~~也不能出國~~更一輩子不能來台灣~~你們那麼可憐~~還在計較什麼~~', '大波霞的波', '小粉紅連跨省移動都不可以~~也不能出國~~更一輩子不能來台灣~~你們那麼可憐~~還在計較什麼~~', '台湾民进党如今是想学日本自民黨一样，搞长期执政的一黨制化，表面其多党制，实际走一黨制化，', '可憐', '就說來不急了，還不信啊。', '本土 境外 死亡', '快篩是給保險金軍團用的啦', '許遵榮 你去美国是用台湾共和国护照？不是中华民国护照？', '小粉紅連跨省移動都不可以~~也不能出國~~更一輩子不能來台灣~~你們那麼可憐~~還在計較什麼~~', '快说话骂中国笑上海啊', '本土 境外 死亡', '這次疫情看民眾會不會醒 年底讓民進黨下台囉 罵民進黨沒用 民進黨只怕選舉選輸', '衛福部双標、陳政聞群聚撤罰、圖利陳其邁下屬、真無恥!移工開門秒罰', '罵已經沒用了 一罵就會出來護航', '(民進黨執政) 陳水扁 死亡人；蔡英文 -新冠肺炎死亡 人，打疫苗猝死 人(增加中)', '支持民进党继续执政，统一太便宜台湾人了，民不聊生才是台湾的未来', '', '講話沒人看 只能用洗板 吸引你的注意阿 ', '喔，別太多遐想', '蔡：我們防疫很好', '這些優良的公務人員，聰明的，要把證據收好收滿，需要的時候偷偷拿出來，就是功德一件', '本土 境外 死亡', '謀財害命', '開始死亡了 火化單位必須超前', '還說都輕症感冒?暴增人死亡例中重症說輕症的這些人真該下地獄', '本土 境外 死亡', ' 小粉紅一輩子不能來台灣就是台獨的證明~~~事實勝於雄辯~~~你們只能在網路上看到台灣~~可憐阿別崩潰阿~~我還是會去中國玩~~我去美國是用台灣護照阿~~你不用糾結了~~~我等你能來台灣玩~~', '阿彌陀佛！', '而且當時是高度防疫（不罰），現在是寬鬆防疫（八秒罰萬），我真的要說～別再當綠色投票奴隸', '死亡人數比境外移入的確診數還高', '不開放市場競爭就是獨占市場 ', '民怨沸驣!!!', '是嗎?利益喬好，都會安靜', '民怨沸驣!!!', '而且當時是高度防疫（不罰），現在是寬鬆防疫（八秒罰萬），我真的要說～別再當綠色投票奴隸', '民怨沸驣!!!', '民怨沸驣!!!', ' 小粉紅一輩子不能來台灣就是台獨的證明~~~事實勝於雄辯~~~你們只能在網路上看到台灣~~可憐阿別崩潰阿~~我還是會去中國玩~~我去美國是用台灣護照阿~~你不用糾結了~~~我等你能來台灣玩~~', ' 小粉紅一輩子不能來台灣就是台獨的證明~~~事實勝於雄辯~~~你們只能在網路上看到台灣~~可憐阿別崩潰阿~~我還是會去中國玩~~我去美國是用台灣護照阿~~你不用糾結了~~~我等你能來台灣玩~~', '民怨沸驣!!!', '我餓餓', '会不会有一天死亡人数比确诊多', '本土 境外 死亡', '許遵榮 你说湾湾已经独立了，你还说你要来大陆玩。那你来大陆是拿的台湾共和国护照吗？如果不是，你是怎么催眠自己说台湾已经独立了的？', '至少 千個墓碑 千碑 在千碑。。。', '本土 境外 死亡', '今天 死，民進黨 眼睛不眨一下，，陳時中幾天前說 “ 今年的死亡人數，，不會比去年高 ……“”，，', '本土 境外 死亡', '無恥政客駡有何用人民不自覺神仙也無奈。', '南無阿彌陀佛', '本土 境外 死亡', '本土 境外 死亡', '不要洗版，請用斗內，大家都可以看見。', '噓', '大家到大報卦子頻按讚收看訂閱衝流量', '本土 境外 死亡', '民怨沸驣!!!', '民怨沸驣!!!', '民怨沸驣!!!', '樂色民進黨！', '(民進黨執政) 陳水扁 死亡人；蔡英文 -新冠肺炎死亡 人，打疫苗猝死 人(增加中)', '時鐘該為枉死的人做超渡部署', '大概就比平均多死約八千人 還不算嚴重', '還說都輕症感冒?暴增人死亡例中重症說輕症的這些人真該下地獄', '熊男くまお 活在几十年前，可怜', '蓮花清瘟好用，怎不給老百姓用？也許有效，為何不用？不能以多數人決定，剝奪少數人的權利', '卡上限了，死亡率會節節攀升', '噓', '死', '錢是拿來照顧蔣家的', '', '', '不廢空', '南無阿彌陀佛', '民怨沸驣!!!', '高雄又一家百貨倒閉', '(民進黨執政) 陳水扁 死亡人；蔡英文 -新冠肺炎死亡 人，打疫苗猝死 人(增加中)', '民怨沸驣!!!', '熊男くまお 推翻国民党政府以后，共产党把地都分给农民了，中国现在没有地主', '自古民進黨執政無法國泰民安', '民怨沸驣!!!', '民怨沸驣!!!', '', '民怨沸驣!!!', '一天篩檢不到十萬人，黑數有多少，誰還信那個陳時中的數據，去看看台灣這幾年多死了多少人吧', '病毒不斷變異 得過未必免死金牌 何況還有長新冠後遺症 原裝最好', '還要送人篸給美珍姊啦！', '夭壽啊，死', '熊男くまお 推翻国民党政府以后，共产党把地都分给农民了，中国现在没有地主', '許遵榮 你来大陆拿的是台湾共和国护照吗？你来大陆不是拿台胞证？你来大陆玩，是不是代表你承认你不是台湾共和国的？', '病死破千 人', '收視第一的錢多不怕罰 多罰一點啊', '只有你會執著在形式吧果然是之納思惟', '預言紫微中心沒跳出來 表示死  小意思', '熊男くまお 果然是大民族什么都不知道', '对死亡的人感到遗憾和悼念，但是这是一早就预见的死亡，大家不要惊慌，一切尽在指挥中心的掌握当中', '这才哪到哪，过一星期再看', '陳時鐘下去道歉', '還說都輕症感冒?暴增人死亡例中重症說的這些人真該下地獄', '從古至今 民怨沒有用 都是能人出來改變現況 要有具體行動 不是無腦嘴能有成果', '邁人馬誰敢罰~~~~~~~~', '一天篩檢不到十萬人，黑數有多少，誰還信那個陳時中的數據，去看看台灣這幾年多死了多少人吧', '菜:沒 千個墓碑 沒道理。。', '還說都輕症感冒?暴增人死亡例中重症說的這些人真該下地獄', '民怨沸驣!!!', '熊男くまお 推翻国民党政府以后，共产党把地都分给农民了，中国现在没有地主', '不要緊張死亡，才剛上升期', '民怨沸驣!!!', '邁家軍，陳家軍，都有特權 ', '台灣已經沒有是非可言了!', '民怨沸驣!!!', '一天篩檢不到十萬人，黑數有多少，誰還信那個陳時中的數據，去看看台灣這幾年多死了多少人吧', '民怨沸驣!!!', '以後麥當勞不接受某員工的訂單啦！', '一天篩檢不到十萬人，黑數有多少，誰還信那個陳時中的數據，去看看台灣這幾年多死了多少人吧', '砕石 解放区', '民怨沸驣!!!', '顏色不對什麼都不對都是錯的，顏色對了什麼都是對的做什麼都可以', '我有', '邁人馬誰敢罰~~~~~~~~', '莫當中國奴 你自己说的，陈水扁口误，所以你是不是认为陈水扁可以做到改国号叫台湾共和国？那么为什么陈水扁不改国号？陈水扁不改，为什么蔡英文也不改？民进党不是台独政党吗？为什么民进党都全面执政了，还不改国号？', ' 小粉紅一輩子不能來台灣就是台獨的證明~~~事實勝於雄辯~~~你們只能在網路上看到台灣~~可憐阿別崩潰阿~~我還是會去中國玩', ' 小粉紅一輩子不能來台灣就是台獨的證明~~~事實勝於雄辯~~~你們只能在網路上看到台灣~~可憐阿別崩潰阿~~我還是會去中國玩', '萬 死 醫療嚴重不足 % 死亡率', '邁邁的人 不罰', ' 小粉紅一輩子不能來台灣就是台獨的證明~~~事實勝於雄辯~~~你們只能在網路上看到台灣~~可憐阿別崩潰阿~~我還是會去中國玩', ' 小粉紅一輩子不能來台灣就是台獨的證明~~~事實勝於雄辯~~~你們只能在網路上看到台灣~~可憐阿別崩潰阿~~我還是會去中國玩', '(台灣疫情 累計 人死亡) 年 死亡人、年 死亡人、年 死亡人(增加中)', '喔', '民怨沸驣!!!', '紫微中心沒跳出來 表示死  小意思', '一天篩檢不到十萬人，黑數有多少，誰還信那個陳時中的數據，去看看台灣這幾年多死了多少人吧', '笑死 黑数好几倍了 还在自欺欺人 起码万', '民怨沸驣!!!', '民怨沸驣!!!', '民怨沸驣!!!', '民怨沸驣!!!', '唯安！沒事！我習慣了！', '每天新增那么多，医院住满了，就会大批患者死亡', '民怨沸驣!!!', '民怨沸驣!!!', '一天篩檢不到十萬人，黑數有多少，誰還信那個陳時中的數據，去看看台灣這幾年多死了多少人吧', '民怨沸驣!!!', '這些人成天嘴綠 卻不能似綠做出實質有效的反政府活動 真以為靠張嘴能夠變天？', '災難發生。。。', '英特納雄耐爾 就一定要實現', '綠色說對就是對 !', '笑死 黑数好几倍了 还在自欺欺人 起码万', '以後麥當勞不接受某員工的訂單啦！', '千碑千碑再，，，，', '還說都輕症感冒?暴增人死亡例中重症說的這些人真該下地獄', '你們可以去看看美國人怎樣對待黑人跟華人的你們還要去追隨我也沒辦法，就是跟著世界歷史全球毀滅性', '明天會是多少人往生？', '蔡：我們防疫很好', '(台灣疫情 累計 人死亡) 年 死亡人、年 死亡人、年 死亡人(增加中)', '英特納雄耐爾就一定要實現', '李佳穴 解放？', '一天篩檢不到十萬人，黑數有多少，誰還信那個陳時中的數據', '千碑千碑再，，，，', ' 小粉紅一輩子不能來台灣就是台獨的證明~~~事實勝於雄辯~~~你們只能在網路上看到台灣~~可憐阿別崩潰阿~~我還是會去中國玩', ' 小粉紅一輩子不能來台灣就是台獨的證明~~~事實勝於雄辯~~~你們只能在網路上看到台灣~~可憐阿別崩潰阿~~我還是會去中國玩', '綠共就是黃皮膚美國人的意思', ' 小粉紅一輩子不能來台灣就是台獨的證明~~~事實勝於雄辯~~~你們只能在網路上看到台灣~~可憐阿別崩潰阿~~我還是會去中國玩', '英特納雄耐爾就一定要實現', '五竹，可能我看錯了', '例中重症 這麼多 ', '', '一天篩檢不到十萬人，黑數有多少，誰還信那個陳時中的數據', '陳時中也沒罰 ，妖言禍眾的 “焦糖哥哥” ', '既然是', '不要緊張 死亡 重症清零', '不要緊張 死亡 重症清零', '不要緊張 死亡 重症清零', '這次疫情看民眾會不會醒 年底讓民進黨下台囉 罵民進黨沒用 民進黨只怕選舉選輸', '哈 活該', '不要緊張 死亡 重症清零', '台灣人還能忍，就真的讓人想不通，命沒了還能台獨嗎？', '(台灣疫情 累計 人死亡) 年 死亡人、年 死亡人、年 死亡人(增加中)', '還中天萬', '中天加油', '  管我哪裡人呢', '(台灣疫情 累計 人死亡) 年 死亡人、年 死亡人、年 死亡人(增加中)', '莫當中國奴 陈水扁口误，所以陈水扁可以做到，那么为什么陈水扁不改国号叫台湾共和国？为什么你们现在还叫中华民国？', '只準州官放火 不準百姓點燈', '代理人 有銭 解放必要', '人民自己不覺醒不要說國民黨就是神仙下凡也難救。', '這次疫情看民眾會不會醒 年底讓民進黨下台囉 罵民進黨沒用 民進黨只怕選舉選輸', '唯安！我說什麼了？', '有色眼鏡', '重症由上帝接手清零', '(台灣疫情 累計 人死亡) 年 死亡人、年 死亡人、年 死亡人(增加中)', '為什麼好久沒看到賴岳謙教授來上節目了', '熊男くまお 你们骂的，其实都是民国政府做的', '記錯了三個黑人才對', '直接躺平算了', '(台灣疫情 累計 人死亡) 年 死亡人、年 死亡人、年 死亡人(增加中)', '不拿捏，怎知不', '陳時中部長 不會到一天全殲一個滿編連吧', '陳水扁口誤 可以了嗎 起來 性功能障礙的人們', '綠共跟中共完全不一樣喔，綠共大概比上個世紀二戰的中共還不如', '許遵榮 年月日，陈水扁与欧洲议会议员进行视讯会议时表示：“我必须要坦诚，我不能够骗自己，我也不能够骗别人。 我做不到，我就是做不到。 在我的任期之内，要把我叫的国号改为台湾共和国，我做不到。', '國民黨都回中國過好日子了 誰還要在台灣讓討厭的人捅', '笑死 黑数好几倍了 还在自欺欺人 起码万', '簡單來說 台式正義就是假正義之名 行無恥之事 冒名許遵榮的現象 只是最小的一種', '對岸的看完台灣現況，還有統一想法嗎？', '', '陳時中鐘 無能防疫，每天都有 驚喜，，', '笑死 黑数好几倍了 还在自欺欺人 起码万', '蔡英文還錢於民 蘇貞昌還錢於門 民進黨還錢於民 蔡英文還命於民 蘇貞昌還命於民 民進黨還命於民 蔡英文不如歸去 蘇貞昌不如歸去 民進黨不如歸去', '許遵榮 年月日，陈水扁与欧洲议会议员进行视讯会议时表示：“我必须要坦诚，我不能够骗自己，我也不能够骗别人。 我做不到，我就是做不到。 在我的任期之内，要把我叫的国号改为台湾共和国，我做不到。', '不要緊張 死亡 重症清零', '肯定是虛標的納米，再看看吧。', '不要緊張 死亡 重症清零', '五竹 你剛說啥', '不要緊張 死亡 重症清零', '不要緊張 死亡 重症清零', '可入鐘烈詞', '不要緊張 死亡 重症清零', '紫微中心沒跳出來 表示不要緊 ', '不要緊張 死亡 重症清零', '許遵榮 请回答我，既然已经台独了，为什么十几年前陈水扁说“做不到，就是做不到”？', '已經沒有重症都走掉', '重症到死亡％', '很多無症狀確診 自己不知 免費普發在家快篩 能杜絕擴散', '世界怎麼跟得上台灣 : 只有我們要排隊買快篩', '多在路邊吃午餐的  外送員 情何以堪', '小粉紅一輩子不能來台灣就是台獨的證明~~~事實勝於雄辯~~~你們只能在網路上看到台灣~~可憐阿別崩潰阿~~我還是會去中國玩', '夭壽 ！ 今天人死亡耶 ~', '小粉紅一輩子不能來台灣就是台獨的證明~~~事實勝於雄辯~~~你們只能在網路上看到台灣~~可憐阿別崩潰阿~~我還是會去中國玩', '小粉紅一輩子不能來台灣就是台獨的證明~~~事實勝於雄辯~~~你們只能在網路上看到台灣~~可憐阿別崩潰阿~~我還是會去中國玩', '如果天 就跟上 權世界', '小粉紅一輩子不能來台灣就是台獨的證明~~~事實勝於雄辯~~~你們只能在網路上看到台灣~~可憐阿別崩潰阿~~我還是會去中國玩', '熊男くまお 对，民国时期只有地主有钱，被共产党解放喽', '四十一人死没有怕，老共香港过去每天死四百人', '', '小粉紅一輩子不能來台灣就是台獨的證明~~~事實勝於雄辯~~~你們只能在網路上看到台灣~~可憐阿別崩潰阿~~我還是會去中國玩女人~~你還在陳水扁~~你好老', '明天有和平大遊行', '貔貅，畢竟問題，業者送十両', '小粉紅一輩子不能來台灣就是台獨的證明~~~事實勝於雄辯~~~你們只能在網路上看到台灣~~可憐阿別崩潰阿~~我還是會去中國玩女人~~你還在陳水扁~~你好老', '台式正義 就像是冒許遵榮的名 製造仇恨', '已經有校正回歸了，之後還要蓋牌？就是為了選舉，毫無良心可言', '防疫氣象局，負責預測，請大家小心颱風，如何防颱？請切記五字箴言〝自己救自己〞，老百姓問：你作戰指揮中心有甚麼功能？答：每天報數字跟預測未來走向。老百姓在問：你作戰指揮中心都沒有預防措施？答：不是說了〝自己救自己〞，儘量趨吉避凶。', '人死亡、例中重症~~~~', '台灣獨立了？國號是什麼？國旗在哪裡？', '現在的民進黨作為不就跟中共一樣了嗎？綠黨討厭中共但是他們不知道他們自己已經成了自己討厭的黨派', '確診已經卡上限了喔，死亡率開始飆升', '隨人顧性命', '阿中可能要去十八層地獄關年', '被紫微中心瞪眼  ', '往生', '檢測量不夠,數字沒意義,現在主要是看死亡人數了,今天人死,比昨天升一倍,要學南韓了,可憐', '小粉紅一輩子不能來台灣就是台獨的證明~~~事實勝於雄辯~~~你們只能在網路上看到台灣~~可憐阿別崩潰阿~~我還是會去中國玩女人~~你還在陳水扁~~你好老', '這次疫情看民眾會不會醒 年底讓民進黨下台囉', '屍體別亂凍', '小粉紅一輩子不能來台灣就是台獨的證明~~~事實勝於雄辯~~~你們只能在網路上看到台灣~~可憐阿別崩潰阿~~我還是會去中國玩女人~~你還在陳水扁~~你好老', '台南很熱！', '南無阿彌陀佛', '国民党为什么不救台湾人？', '前幾天我都告訴大家死人會人以上，結果今天公告死人多人民了，南無阿彌陀佛，害，我早就知道會這樣的，星期一最超過~萬人及死亡人以上，大家看看吧，祝福大家好好自己照顧好自己 吧', '地主有銭 ？解放区', '人死亡、例中重症~~~~~', '抬彎光速超越尚海了筷腮傳奇', '小粉紅一輩子不能來台灣就是台獨的證明~~~事實勝於雄辯~~~你們只能在網路上看到台灣~~可憐阿別崩潰阿~~我還是會去中國玩女人', '許遵榮 台湾本来就独立，为什么陈水扁说“台湾独立，做不到就是做不到”？台湾独立，你们的国号是什么？你们的宪法是什么？', '阿彌陀佛', '小粉紅一輩子不能來台灣就是台獨的證明~~~事實勝於雄辯~~~你們只能在網路上看到台灣~~可憐阿別崩潰阿~~我還是會去中國玩女人', '一個排 排長班長班兵全殲', '羅友志友話銼喔', '小粉紅一輩子不能來台灣就是台獨的證明~~~事實勝於雄辯~~~你們只能在網路上看到台灣~~可憐阿別崩潰阿~~我還是會去中國玩女人', '不要緊張 死亡 重症清零', '不要洗版', '估計', '台式正義 是人民賦予蔡政府的權利', '向四十一位亡者哀悼。', '世界怎麼跟得上台灣 : 只有我們要排隊買快篩', '檢測量不夠,數字沒意義,現在主要是看死亡人數了,今天人死,比昨天升一倍,要學南韓了,可憐', '小粉紅一輩子不能來台灣就是台獨的證明~~~事實勝於雄辯~~~你們只能在網路上看到台灣~~可憐阿', '友志講錯話，扯蕭皇奇是暗示什麼，要道歉', '現在只有 等牠們自己為了黑人民錢財吵起來！ 有的派系爽圖利多 有的要找機會 遲早內鬨', '許遵榮妥妥的台獨份子 ', '台灣在被賣的路上，可悲的是多數民眾無感或還没醒！', '台灣在被賣的路上，可悲的是多數民眾無感或還没醒！', '前幾天我都告訴大家死人會人以上，結果今天公告死人多人民了，南無阿彌陀佛，害，我早就知道會這樣的，星期一最超過~萬人及死亡人以上，大家看看吧，祝福大家好好自己照顧好自己 吧', '許遵榮妥妥的台獨份子 ', '檢測量不夠,數字沒意義,現在主要是看死亡人數了,今天人死,比昨天升一倍,要學南韓了,可憐', '小粉紅一輩子不能來台灣就是台獨的證明~~~事實勝於雄辯~~~你們只能在網路上看到台灣~~可憐阿', '未婚，，承諾', '篩檢量增加 確診數增加，然後中重率也增高…… 所以 塔綠班防疫，不普篩，', '許遵榮妥妥的台獨份子 ', '台灣在被賣的路上，可悲的是多數民眾無感或還没醒！', '小粉紅一輩子不能來台灣就是台獨的證明~~~事實勝於雄辯~~~你們只能在網路上看到台灣~~可憐阿', '死', '現在民進党就是玩川普那套', '小粉紅一輩子不能來台灣就是台獨的證明~~~事實勝於雄辯~~~你們只能在網路上看到台灣~~可憐阿', '小粉紅一輩子不能來台灣就是台獨的證明~~~事實勝於雄辯~~~你們只能在網路上看到台灣~~可憐阿', ' 今天的瞪眼 死了幾 ?? ', '台灣在被賣的路上，可悲的是多數民眾無感或還没醒！', '哇靠', '前幾天我都告訴大家死人會人以上，結果今天公告死人多人民了，南無阿彌陀佛，害，我早就知道會這樣的，星期一最超過~萬人及死亡人以上，大家看看吧，祝福大家好好自己照顧好自己 吧', '我餓餓', '為什麼不罰', '不要緊張 死亡 重症清零', '小粉紅一輩子不能來台灣就是台獨的證明~~~事實勝於雄辯~~~你們只能在網路上看到台灣~~可憐阿', '支持柯 篩陽即確診 居格通報下藥轉重收治', '許遵榮妥妥的台獨份子 ', '不要緊張 死亡 重症清零', '不管你的用意如何這些死亡同胞皆在無為的政府防疫下去逝不是數字是人命', '檢測量不夠,數字沒意義,現在主要是看死亡人數了,今天人死,比昨天升一倍,要學南韓了,可憐', '你們去查五個年輕黑人的那件案子', '嬰孥', '解放区 李兄弟 ', '不要緊張 死亡 重症清零', '許遵榮 又来了，昨天才有个台独分子被我怼到不说话。', '難怪民進黨都要用綠能 因為綠能你不能', '已經在報數字了啦！哈哈哈哈……數字專家來了啊！', '今天死亡一個排全滅', '悲哀', '心痛阿各位這還有正義嗎還有自由嗎？', '許遵榮妥妥的台獨份子 ', '中國明後年每平方毫米可以接近納米密度。', '科技', '檔證就是真理', '常出現 中天', '悲哀！', '台灣檢測量最多就一天八萬 超過八萬 檢驗就沒意義', '深山狂人林婉儿  西西瓜 小粉紅雖然封城沒飯吃~~還是喜歡翻牆來看台灣~~哈哈哈~~~等等和中央網信辦舉報你們~~小粉紅的素質看的出來又崩潰了~~小粉紅一輩子不能來台灣就是台獨的證明~~~台灣本來就獨立阿~~哈哈~~', '前幾天我都告訴大家死人會人以上，結果今天公告死人多人民了，南無阿彌陀佛，害，我早就知道會這樣的，星期一最超過~萬人及死亡人以上，大家看看吧，祝福大家好好自己照顧好自己 吧', '許遵榮妥妥的台獨份子 ', '小朋友們，年長者，孕婦們要多多保重了', '正版許尊榮是親中的', '塔綠班是 演以利己', '', '深山狂人林婉儿  西西瓜 小粉紅雖然封城沒飯吃~~還是喜歡翻牆來看台灣~~哈哈哈~~~等等和中央網信辦舉報你們~~小粉紅的素質看的出來又崩潰了~~小粉紅一輩子不能來台灣就是台獨的證明~~~台灣本來就獨立阿~~哈哈~~', '今天中重症超過兩百人了', '', '檢測量不夠,數字沒意義,現在主要是看死亡人數了,今天人死,比昨天升一倍,要學南韓了,可憐', '頭像！', '今天有死齁 中重症有人齁', '快樂缺氧？？錯，缺氧是痛苦的，還快樂缺氧。', '許遵榮妥妥的台獨份子 ', '川普那個時候還用很多錢來用綠媒力量誣賴這五個年輕黑人', '（）本境死人（）本境人死人（）本境死人（）本境死人（）本境死人（）本境死人（）本境死人（）本境死人（）本境死人累積（）境死人中重症人（人死亡）', '', '許遵榮 谁刷屏谁崩溃，不崩溃的都在讨论，崩溃的在刷屏', '翻了一倍，越死越多', '深山狂人林婉儿  西西瓜 小粉紅雖然封城沒飯吃~~還是喜歡翻牆來看台灣~~哈哈哈~~~等等和中央網信辦舉報你們~~小粉紅的素質看的出來又崩潰了', '許遵榮妥妥的台獨份子 ', '移工防疫旅館，走出房門拿碗泡麵，罰！官字兩個口！！', '殡葬业生意好了这下', '喔，他有家庭', '悲哀！', '林婉儿 五竹  本人支持「中華民國」支持藍軍【你看到山寨\"許遵榮\"假帳號 請封鎖】謝謝', '', '沒檔證，去吃史吧！', '許遵榮妥妥的台獨份子  ', '許遵榮！好！', '檢測量不夠,數字沒意義,現在主要是看死亡人數了,今天人死,比昨天升一倍,要學南韓了,可憐', ' ', '今天個人要去找陳時鐘', '', '唯安 午安 ，陳時鐘 ……會自住控制 確診人數 ', '深山狂人林婉儿  西西瓜 小粉紅雖然封城沒飯吃~~還是喜歡翻牆來看台灣~~哈哈哈~~~等等和中央網信辦舉報你們~~小粉紅的素質看的出來又崩潰了', '死亡數暴增', '檢測量不夠,數字沒意義,現在主要是看死亡人數了,今天人死,比昨天升一倍,要學南韓了,可憐', '電動棺材大拍賣買一送一 -加空調。附送兩隻快篩', '', '太爽了只要每天坐在上面舉個牌報個數前前領到爽有粒真好粒粒皆幸福。', '有檔證才是正港抬彎人', '', '吓死人 恐怖  死', '遵荣你是吧', '本土例 暴增人死亡、例中重症 死亡是昨天好幾倍', '别吵吵，听嘉宾说', '阿娘喂死人', '不要緊張 死亡 重症清零', ' 位往生了， ', '五竹  本人支持「中華民國」支持藍軍【你看到山寨\"許遵榮\"假帳號 請封鎖】謝謝', '反正今天應該會死更多，更多人確診', '熊男くまお 大民族，真有意思', '有法律不照用，要用古代没法律的时候是吗？', '台灣人貝戈戈', '給計程車司機們 加油!', '高麗敏 姐姐 原來三天一次', '要先去殯掛號了死', '難怪民進黨一直提倡“綠能”只有綠能', '死，阿中的政績', '死这么多，车市中下台', '高麗敏 午安，丢啊，肯定不止', '今晚陳走鐘會被個冤魂纏身', '許遵榮！唯安有他的言論自由！你在超三小！', '这个罗友志还叨叨呢，都几点了还不开盘', '熊男くまお 大民族，你们还跪战犯嘞，说谁呢', '類等史', '我媽快都會賴，傳個樣樣行', '今本土飆例\\u3000暴增死「創今年新高」新北破萬', '西西瓜深山狂人林婉儿  西西瓜 小粉紅雖然封城沒飯吃~~還是喜歡翻牆來看台灣~~哈哈哈~~~等等和中央網信辦舉報你們~~小粉紅的素質看的出來又崩潰了', '這就是種族歧視惡狠狠的美國自由民主政權', '給新黨 加油!', '蔡高端陳時鐘要爬到你頭上囉', '只准州官放火', '死？是等不到病床嗎？', '司髮不上氯', '唯安 ', '只是一个介于和之间的数字，请大家不要过于联想', '還有距離', '阿中在衝死亡率了', '天國又近了', '不過離一百', '破萬', '', '台湾还不是国际确诊标准，美国要是按照台湾的标准确诊者会减小 几千万的', '個冤魂', '', '五個黑人參加遊行被誤判', '指挥官在吗？时代在进步，你的员工要加强上岗前的专业技能培训啊，没有文化没关系，逻辑和脑子还是要点的。', '死亡越來越多了，輕症只是前菜，未來幾周死亡攀升', '加碼ㄌ', '我還以為', '李敬豪 午安，現在確診數 ，是 三天 “校正回歸”一次', '南無阿彌陀佛', '你們記得我那個年代美國有出一件大事情一個白人女人被殺', '（）本境死人（）本境人死人（）本境死人（）本境死人（）本境死人（）本境死人（）本境死人（）本境死人（）本境死人累積（）境死人', '李敬豪 押錯注', '吓死人', '死亡 ', '死，這個比較恐怖', '不簡單，', '', '死亡人數上來了', '英特納雄耐爾 就一定要實現', '配合你，降', '綠腦怪自己人', '本土今日確診＋６４９７２\\u3000Ｓ亡＋４１', '死亡', '今天怎么出现了', '民進党玩的是美國的玩法', '唯安 ', '熊男くまお 不对吗？', '死', '價格不合理就不要買 你們還想怎樣 一點都沒錯', '今天死亡人', '死亡一下干到？？？？', '', '價格不合理就不要買 你們還想怎樣 一點都沒錯', '價格不合理就不要買 你們還想怎樣 一點都沒錯', '這是最後的鬥爭 團結起來到明天', '抬彎已沸各自求福', '你不是綠色', '', '唯安 ', '', '黄猫黒猫捉到耗子的就是好猫 小瓶', '死', '', '以前的唯安 是大陸人。現在的唯安台灣人', '當然可以', '當新生代都高燒燒成趴帶，我就不信台灣未來還有啥前途，', '台湾政府好啊，警察也好，随喊随到，随吼随走，支持台湾好政府执政。台湾政府好啊，警察也好，随喊随到，随吼随走，支持台湾好政府执政。净整假新闻', '一星期个免费快筛，用不光', '快把那爐火燒得通紅\\u3000趁熱打鐵才能成功', '含，霜', '許遵榮 面对脑瘫，治不好，说不听，不崩溃有什么办法？', '有檔證嗎？請問', '', '', '許遵榮 对对对，复制粘贴假新闻的不崩溃，我崩溃了', '', '台湾民进党如今是想学日本自民黨玩类一黨制？', '以前國民黨不敢做的事情 不能做的事情 自從蔡英文民進黨政府 執政下來 已經 做壞事 已經到淋淋盡致的地步 也做到谷底了', '你我皆踐茗', '我們要奪回勞動的果實\\u3000讓思想衝破牢籠', '台灣防疫', '門，沒想', '上海再苦也沒有台灣苦人家那麼大別給自己丟臉了', '友志讚', '記住我的話我相信歷史可以改變還給台灣真正自由', '今日確診人數是多少呢⋯⋯⋯⋯', '深山狂人林婉儿  小粉紅雖然封城沒飯吃~~還是喜歡翻牆來看台灣~~哈哈哈~~~等等和中央網信辦舉報你們~~小粉紅的素質看的出來又崩潰了', '牡丹灣開心玩，抓不到抓不到，沒監視器啦啦啦', '婀娜 多爾袞 香港 李兄弟 解放区', '要創造人類的幸福\\u3000全靠我們自己', '深山狂人林婉儿  小粉紅雖然封城沒飯吃~~還是喜歡翻牆來看台灣~~哈哈哈~~~等等和中央網信辦舉報你們~~小粉紅的素質看的出來又崩潰了', '餓鬼小孩假小心', '陳時中上班了', '深山狂人林婉儿  小粉紅雖然封城沒飯吃~~還是喜歡翻牆來看台灣~~哈哈哈~~~等等和中央網信辦舉報你們~~小粉紅的素質看的出來又崩潰了', '', '破七萬例了嗎???', '兩人', '', '你們說網軍沒有力量嗎。不不不 好好珍惜台灣，如果台灣照著美國人走就跟歷史一樣改變不了。。。毀了。。。網軍力量很恐怖的但這次民進党成功了肯能是你們當網軍的最後一次，成功了會被尿壺一樣被他們踢到旁邊', '台灣人好可憐搶口罩還有什麼要排隊的', '以為苔膏不會更苔膏了, 不幸, 苔膏又更苔膏了', '', '翻牆 陪韓粉取暖 哭聲一片！然後親共的韓粉 又騙了小粉紅', '塔綠斑：我少了 還有可以用', '從來就沒有什麼救世主\\u3000也不靠神仙皇帝', '上海目前只能吃茶叶蛋，榨菜，蛙肉', '', '', '綠能你不能', '不出門就可以不要篩了！', '上海苦啊，茶叶蛋多的都丢给狗吃了。', '我预计今天有测人数超，快筛不够的黑数没办法预测。', '價格不合理就不要買 你們還想怎樣 一點都沒錯', '類高燈', '既然沒，當然是契合一家人', '深山狂人林婉儿  小粉紅雖然封城沒飯吃~~還是喜歡翻牆來看台灣~~哈哈哈~~~等等和中央網信辦舉報你們', '預估', '許遵榮 你说我吃不上饭，我就吃不上饭？我说我是你爸爸，我是不是你爸爸？', '哈哈哈', '英特納雄耐爾 就一定要實現', '今天你抢到快筛了吗？', '價格不合理就不要買 你們還想怎樣 一點都沒錯', '神麥不在凡間', '李敬豪 萬有找呢', '妖鬼假小心', '什麼都要就是不要臉', '盲猜萬千', '這是最後的鬥爭 團結起來到明天', '', '上海吃不起饭，只有茶叶蛋，榨菜，蛙肉', '熊男くまお 大民族，关你啥事？', '李敬豪 午安喔~', '生氣氣過來群居好嗎？', '深山狂人林婉儿  小粉紅雖然封城沒飯吃~~還是喜歡翻牆來看台灣~~哈哈哈', '官僚作風', '苔膏的顏色 ', '小黃開干了', '為什麼不處罰那些虐殺平民的俄軍？', '英特納雄耐爾就一定要實現', '食中確診數字對你來說沒意義，選票你就覺得有意義了', '深山狂人林婉儿 小粉紅雖然封城沒飯吃~~還是喜歡翻牆來看台灣~~哈哈哈', '上海只能吃茶叶蛋和蛙肉', '抬彎甲土', '木阿笨', '', '綠綠相護', '幾年前，手感', '是那位噁心的大人?', '艾米莉 午安', '價格不合理就不要買 你們還想怎樣 一點都沒錯', '許遵榮 对啊 ，我们已经吃不上饭了，下一顿我准备吃台湾人。', '神解', '這是最後的鬥爭 團結起來到明天', '上海人只能吃發芽的土豆', '唯安美女來啦 午安', '價格不合理就不要買 你們還想怎樣 一點都沒錯', '不要臉', '黒韓征伐 多爾袞', '  下午好喔~', '遵荣你可以不要刷屏吗', '上海没饭吃，天天吃茶叶蛋。', '唯安 夭寿的是时钟', '深山狂人 小粉紅雖然封城沒飯吃~~還是喜歡翻牆來看台灣~~哈哈哈', '茗淨 檔煤，虎蘭王', '不要說我們一無所有\\u3000我們要做天下的主人', '火鍋極樂趴', '大陆吃不上饭呢，只能吃茶叶蛋和榨菜', '喔，好像是申請', '深山狂人 小粉紅雖然封城沒飯吃~~還是喜歡翻牆來看台灣~~', '今天會破七萬例了嗎???', '艾米莉 下午好', '價格不合理就不要買 你們還想怎樣 一點都沒錯', '二营长，拉我的意大利炮回来', '舊世界打個落花流水\\u3000奴隸們起來\\u3000起來', '一堆國民黨民嘴 開口就是胡言亂語', '價格不合理就不要買 你們還想怎樣 一點都沒錯', '李敬豪 夭壽喔一點都不手軟', '價格不合理就不要買 你們還想怎樣 一點都沒錯', '一堆老頭 算了 再見！！', '現在台灣到處都是病毒 所以大家更要小心防疫 回到家一定要全身噴酒精 還要換掉所有的衣服 才不會把病毒傳給家人', '價格不合理就不要買 你們還想怎樣 一點都沒錯', '唯安 美妹，押', '遵荣我在台湾好不好你呢难道在大陆', '深山狂人 小粉紅雖然封城沒飯吃~~還是喜歡翻牆來看台灣~~', '熊男くまお 大民族，反清嘞，你们还不如清朝', '降', '深山狂人 小粉紅雖然封城沒飯吃~~還是喜歡翻牆來看台灣~~', '下好離手', '年輕仁加入茗淨檔很迷惘', '多爾袞 跳', '林婉儿 小粉紅雖然封城沒飯吃~~還是喜歡翻牆來看台灣~~', '篩檢量', '林婉儿 小粉紅雖然封城沒飯吃~~還是喜歡翻牆來看台灣~~', '開了開了', '衝高嘞 你們紅媒應該不適合在這裡報 更應該在中共國報', '臉紅紅一定要喝兩杯尛中才敢上台', '萬', '想要護航的，都說無從證明就好啦！', '綠綠相護', '綠能你不能', '唯安 美妹，押', '蔡英文这个人有啥魅力？很平的一个女人，没啥亮点', '從不從眾，難道你沒有獨立思考能力？？！', '喔，我只看起伏', '开奖开奖。今天能破万吗？', '林婉ㄦ！你好！', '自己人啦免罰', '', '茗淨檔佬人站高位', '教躺葛格: 躺平, 躺平, 再躺平', '今天要誰 我來看看要不要繼續酸', '佩服佩服 顏色對了 ', '苔膏英啊', '', '笑死 黑数好几倍了 还在自欺欺人 起码万', '林婉儿 小粉紅封城還是喜歡翻牆來看台灣~~', '笑死 黑数好几倍了 还在自欺欺人 起码万', '熊男くまお 大民族', '', '笑死 黑数好几倍了 还在自欺欺人 起码万', '不能預測數字 這樣要罰款萬', '陳時中上班了', '笑死 黑数好几倍了 还在自欺欺人 起码万', '他只是，無語', '他不管你在哪，只看你颜色对不对', '熊男くまお 大民族', '李敬豪 今天押多少', '我也投給蔡英文就是從眾效應', '/ 台灣人不吃中國藥', '不能預測數字 這樣要罰款萬', '如果預報預測數字那要先罰的是陳時中', '來了', '反清 反陳 多爾袞', '拜托我在台湾好不好', '從眾效應很恐怖我那個時候想投韓國瑜結果一堆年輕人投給蔡英文', '是啊 菜英文叫你們要 自力自戕啊 ', '', '崇拜日本。為什麼在這裡玩弄', '午安', '苔膏英啊', '开奖啦，', '没有封', '韓先生來敲門第三季新影片發佈了，麻煩大家別忘了到韓先生臉書、韓國瑜官方頻道點閱、按讚、留言、分享！感恩大家！', '若膏英啊', '不升反降', '', '努爾哈赤 滅亡？', '陳時中預計會破十萬 現在還早', '，摳摳昨晚告訴我的數字', '要自生自立啦', '林婉儿 小粉紅封城還是喜歡翻牆來看台灣~~', '茗淨檔以炸片為生', '中天 在 真的丟臉 應該在微博報', '林婉儿 小粉紅封城還是喜歡翻牆來看台灣~~', '说全了，应该是今天可筛数字是不是破。快筛不够，实际数据没办法获知', '多來 衝流量喔，安靜 學習，學海 無崖，少害人了。。。']\n"
     ]
    }
   ],
   "source": [
    "## Clean up the {} word with regex method\n",
    "import re\n",
    "mess_clean1 = []\n",
    "mess_clean2 = []\n",
    "\n",
    "for i in range(len(result_list)):\n",
    "    mess_clean1.append(re.sub(r\"\\{.+\\}\", \"\", str(result_list[i])))\n",
    "\n",
    "for i in range(len(mess_clean1)):\n",
    "    mess_clean2.append(re.sub(r\"[a-zA-Z0-9@+.]\", \"\", str(mess_clean1[i])))\n",
    "    \n",
    "print(mess_clean2)"
   ]
  },
  {
   "cell_type": "code",
   "execution_count": 24,
   "metadata": {},
   "outputs": [],
   "source": [
    "import jieba\n",
    "import re\n",
    "from collections import Counter\n",
    "import json\n",
    "\n",
    "stopword = \"input/NLP-stopwords.dat\" \n",
    "outputword_file = \"NLP-sorted_words.json\"\n",
    "\n",
    "\n",
    "def read_file(file_name):\n",
    "    fp = open(file_name, \"r\", encoding=\"utf-8\")\n",
    "    content_lines = fp.readlines()\n",
    "    fp.close()\n",
    "    for i in range(len(content_lines)):\n",
    "        content_lines[i] = content_lines[i].rstrip(\"\\n\")\n",
    "    return content_lines\n",
    "\n",
    "def save_file(file_name, content):\n",
    "    fp = open(file_name, \"w\", encoding=\"utf-8\")\n",
    "    fp.write(content)\n",
    "    fp.close()\n",
    "\n",
    "\n",
    "#data celaning\n",
    "def regex_change(line):\n",
    "    username_regex = re.compile(r\"^\\d+::\")\n",
    "    \n",
    "    #URL，Filter [a-zA-Z0-9] , not\\w\n",
    "    url_regex = re.compile(r\"\"\"\n",
    "        (https?://)?\n",
    "        ([a-zA-Z0-9]+)\n",
    "        (\\.[a-zA-Z0-9]+)\n",
    "        (\\.[a-zA-Z0-9]+)*\n",
    "        (/[a-zA-Z0-9]+)*\"\"\", re.VERBOSE|re.IGNORECASE)\n",
    "    \n",
    "    #Date,\n",
    "    data_regex = re.compile(u\"\"\"年 |月 |日 |(周一) |(周二) | (周三) | (周四) | (周五) | (周六) \"\"\", re.VERBOSE)\n",
    "    \n",
    "    #Number,\n",
    "    decimal_regex = re.compile(r\"[^a-zA-Z]\\d+\")\n",
    "    \n",
    "    #Space,\n",
    "    space_regex = re.compile(r\"\\s+\")\n",
    "\n",
    "    line = username_regex.sub(r\"\", line)\n",
    "    line = url_regex.sub(r\"\", line)\n",
    "    line = data_regex.sub(r\"\", line)\n",
    "    line = decimal_regex.sub(r\"\", line)\n",
    "    line = space_regex.sub(r\"\", line)\n",
    "    return line\n",
    "\n",
    "\n",
    "# delete_stopwords\n",
    "def delete_stopwords(lines):\n",
    "    stopwords = read_file(stopword)\n",
    "    all_words = []\n",
    "    jieba.load_userdict('input/NLP-userdictCN.txt')   #Filter\n",
    "    \n",
    "    for line in lines:\n",
    "        all_words += [word for word in jieba.cut(line) if word not in stopwords]\n",
    "        #for word in jieba.cut(line):\n",
    "        #    if word not in stopwords:\n",
    "        #        print(word)\n",
    "        \n",
    "    dict_words = dict(Counter(all_words))\n",
    "    return dict_words\n",
    "\n",
    "\n",
    "# delete_stopwords _TEST\n",
    "def delete_stopwords_TEST(lines):\n",
    "    stopwords = read_file(stopword)\n",
    "    all_words = []\n",
    "    jieba.load_userdict('input/NLP-userdictCN.txt')   #Filter\n",
    "\n",
    "    for line in lines:\n",
    "        seg_list = jieba.lcut(line)\n",
    "        print(seg_list)\n",
    "        \n",
    "    dict_words = dict(Counter(all_words))\n",
    "    return dict_words"
   ]
  },
  {
   "cell_type": "code",
   "execution_count": 25,
   "metadata": {},
   "outputs": [
    {
     "name": "stdout",
     "output_type": "stream",
     "text": [
      "<class 'int'>\n"
     ]
    }
   ],
   "source": [
    "if __name__ == \"__main__\":\n",
    "    \n",
    "    num =[]\n",
    "    lines = mess_clean2\n",
    "    for i in range(len(lines)):\n",
    "        lines[i] = regex_change(lines[i])\n",
    "    \n",
    "    bow_words = delete_stopwords(lines)\n",
    "    #bow_words = delete_stopwords_TEST(lines)\n",
    "    sorted_bow = sorted(bow_words.items(), key=lambda d:d[1], reverse=True)\n",
    "    \n",
    "    for words in sorted_bow[:100]:\n",
    "        wordList = list(words)\n",
    "        num += [wordList]\n",
    "        \n",
    "        \n",
    "#print(num[0])      #0,0 1,0,2,0\n",
    "#print(num) \n",
    "print(type(num[0][1]))\n",
    "\n",
    "\n",
    "#     with open(outputword_file, \"w\") as output_file:\n",
    "#         json.dump(sorted_bow, output_file, ensure_ascii=False)\n",
    "#         print(\"Loading... Success!\")"
   ]
  },
  {
   "cell_type": "code",
   "execution_count": 26,
   "metadata": {
    "scrolled": true
   },
   "outputs": [
    {
     "name": "stdout",
     "output_type": "stream",
     "text": [
      "   Word  Counts\n",
      "0     死     262\n",
      "1    台灣     206\n",
      "2    死亡     193\n",
      "3    重症     149\n",
      "4    台湾     124\n",
      "..  ...     ...\n",
      "95    齁      21\n",
      "96   封城      21\n",
      "97   阿別      21\n",
      "98   翻牆      21\n",
      "99   不用      20\n",
      "\n",
      "[100 rows x 2 columns]\n",
      "<class 'pandas.core.frame.DataFrame'>\n"
     ]
    }
   ],
   "source": [
    "from pandas.core.frame import DataFrame\n",
    "#import pandas as pd\n",
    "title = []\n",
    "counts = []\n",
    "\n",
    "for i in range(100):\n",
    "    title.append(num[i][0])\n",
    "    counts.append(num[i][1])\n",
    "\n",
    "dicts = {\"a\":title,\"b\":counts}\n",
    "\n",
    "data = pd.DataFrame((zip(title,counts)),columns = ['Word','Counts'])\n",
    "print(data)   \n",
    "print(type(data))"
   ]
  },
  {
   "cell_type": "code",
   "execution_count": 27,
   "metadata": {},
   "outputs": [],
   "source": [
    "# ## Save to Excel\n",
    "# wb.create_sheet(\"TopWord\",1) \n",
    "# wsM = wb[\"TopWord\"] \n",
    "\n",
    "# for r in dataframe_to_rows(data, index=True, header=True):\n",
    "#     wsM.append(r)\n",
    "\n",
    "# wsM[\"J1\"] = \"The Top Word output\"\n",
    "# wsM[\"J2\"] = today\n",
    "# wsM[\"J3\"] = time\n",
    "\n",
    "# wb.save(\"data/NLP-save1.xlsx\")\n",
    "# print(wb.sheetnames)  "
   ]
  },
  {
   "cell_type": "markdown",
   "metadata": {},
   "source": [
    "## 留言次數計算"
   ]
  },
  {
   "cell_type": "code",
   "execution_count": 31,
   "metadata": {},
   "outputs": [
    {
     "data": {
      "text/html": [
       "<div>\n",
       "<style scoped>\n",
       "    .dataframe tbody tr th:only-of-type {\n",
       "        vertical-align: middle;\n",
       "    }\n",
       "\n",
       "    .dataframe tbody tr th {\n",
       "        vertical-align: top;\n",
       "    }\n",
       "\n",
       "    .dataframe thead th {\n",
       "        text-align: right;\n",
       "    }\n",
       "</style>\n",
       "<table border=\"1\" class=\"dataframe\">\n",
       "  <thead>\n",
       "    <tr style=\"text-align: right;\">\n",
       "      <th></th>\n",
       "      <th>Unnamed: 0</th>\n",
       "      <th>iD</th>\n",
       "      <th>tim</th>\n",
       "      <th>nam</th>\n",
       "      <th>aythimg</th>\n",
       "      <th>mess1</th>\n",
       "      <th>type</th>\n",
       "      <th>channel</th>\n",
       "      <th>Unnamed: 8</th>\n",
       "      <th>The Newest Comment output</th>\n",
       "    </tr>\n",
       "  </thead>\n",
       "  <tbody>\n",
       "    <tr>\n",
       "      <th>0</th>\n",
       "      <td>0</td>\n",
       "      <td>3941548</td>\n",
       "      <td>2022-05-13 14:59:58</td>\n",
       "      <td>Mr. J</td>\n",
       "      <td>https://yt4.ggpht.com/ytc/AKedOLTJ4kuN86d80H6C...</td>\n",
       "      <td>政治防疫 糙</td>\n",
       "      <td>textMessage</td>\n",
       "      <td>ctitv</td>\n",
       "      <td>NaN</td>\n",
       "      <td>14.0</td>\n",
       "    </tr>\n",
       "    <tr>\n",
       "      <th>1</th>\n",
       "      <td>1</td>\n",
       "      <td>3941547</td>\n",
       "      <td>2022-05-13 14:59:57</td>\n",
       "      <td>閑聊</td>\n",
       "      <td>https://yt4.ggpht.com/ytc/AKedOLR1B9ZW9uDWo-oG...</td>\n",
       "      <td>3+4及與病毒共存害死那麼多人？死亡人數還不夠多嗎？</td>\n",
       "      <td>textMessage</td>\n",
       "      <td>ctitv</td>\n",
       "      <td>NaN</td>\n",
       "      <td>NaN</td>\n",
       "    </tr>\n",
       "    <tr>\n",
       "      <th>2</th>\n",
       "      <td>2</td>\n",
       "      <td>3941546</td>\n",
       "      <td>2022-05-13 14:59:55</td>\n",
       "      <td>Sausan Shunnar</td>\n",
       "      <td>https://yt4.ggpht.com/ytc/AKedOLQbB5RL14GTzuXe...</td>\n",
       "      <td>為什麼報應不在政腐 反而在人民身上 為什麼老百姓要丟性命買單</td>\n",
       "      <td>textMessage</td>\n",
       "      <td>ctitv</td>\n",
       "      <td>NaN</td>\n",
       "      <td>NaN</td>\n",
       "    </tr>\n",
       "    <tr>\n",
       "      <th>3</th>\n",
       "      <td>3</td>\n",
       "      <td>3941545</td>\n",
       "      <td>2022-05-13 14:59:54</td>\n",
       "      <td>Heshirley蕃秀</td>\n",
       "      <td>https://yt4.ggpht.com/ytc/AKedOLSCoj6fA5UmDI8Q...</td>\n",
       "      <td>原來政策也可以殺死人</td>\n",
       "      <td>textMessage</td>\n",
       "      <td>ctitv</td>\n",
       "      <td>NaN</td>\n",
       "      <td>NaN</td>\n",
       "    </tr>\n",
       "    <tr>\n",
       "      <th>4</th>\n",
       "      <td>4</td>\n",
       "      <td>3941543</td>\n",
       "      <td>2022-05-13 14:59:52</td>\n",
       "      <td>熊男くまお</td>\n",
       "      <td>https://yt4.ggpht.com/ytc/AKedOLREjsH_39Sh1UIt...</td>\n",
       "      <td>皇明祖訓 {'id': '', 'txt': '', 'url': 'https://www...</td>\n",
       "      <td>textMessage</td>\n",
       "      <td>ctitv</td>\n",
       "      <td>NaN</td>\n",
       "      <td>NaN</td>\n",
       "    </tr>\n",
       "  </tbody>\n",
       "</table>\n",
       "</div>"
      ],
      "text/plain": [
       "   Unnamed: 0       iD                  tim             nam  \\\n",
       "0           0  3941548  2022-05-13 14:59:58           Mr. J   \n",
       "1           1  3941547  2022-05-13 14:59:57              閑聊   \n",
       "2           2  3941546  2022-05-13 14:59:55  Sausan Shunnar   \n",
       "3           3  3941545  2022-05-13 14:59:54     Heshirley蕃秀   \n",
       "4           4  3941543  2022-05-13 14:59:52           熊男くまお   \n",
       "\n",
       "                                             aythimg  \\\n",
       "0  https://yt4.ggpht.com/ytc/AKedOLTJ4kuN86d80H6C...   \n",
       "1  https://yt4.ggpht.com/ytc/AKedOLR1B9ZW9uDWo-oG...   \n",
       "2  https://yt4.ggpht.com/ytc/AKedOLQbB5RL14GTzuXe...   \n",
       "3  https://yt4.ggpht.com/ytc/AKedOLSCoj6fA5UmDI8Q...   \n",
       "4  https://yt4.ggpht.com/ytc/AKedOLREjsH_39Sh1UIt...   \n",
       "\n",
       "                                               mess1         type channel  \\\n",
       "0                                             政治防疫 糙  textMessage   ctitv   \n",
       "1                         3+4及與病毒共存害死那麼多人？死亡人數還不夠多嗎？  textMessage   ctitv   \n",
       "2                     為什麼報應不在政腐 反而在人民身上 為什麼老百姓要丟性命買單  textMessage   ctitv   \n",
       "3                                         原來政策也可以殺死人  textMessage   ctitv   \n",
       "4  皇明祖訓 {'id': '', 'txt': '', 'url': 'https://www...  textMessage   ctitv   \n",
       "\n",
       "   Unnamed: 8  The Newest Comment output  \n",
       "0         NaN                       14.0  \n",
       "1         NaN                        NaN  \n",
       "2         NaN                        NaN  \n",
       "3         NaN                        NaN  \n",
       "4         NaN                        NaN  "
      ]
     },
     "execution_count": 31,
     "metadata": {},
     "output_type": "execute_result"
    }
   ],
   "source": [
    "data = pd.read_excel('input/NLP-excel.xlsx')\n",
    "data.head()\n",
    "#type(data)"
   ]
  },
  {
   "cell_type": "code",
   "execution_count": 32,
   "metadata": {},
   "outputs": [
    {
     "data": {
      "text/html": [
       "<div>\n",
       "<style scoped>\n",
       "    .dataframe tbody tr th:only-of-type {\n",
       "        vertical-align: middle;\n",
       "    }\n",
       "\n",
       "    .dataframe tbody tr th {\n",
       "        vertical-align: top;\n",
       "    }\n",
       "\n",
       "    .dataframe thead th {\n",
       "        text-align: right;\n",
       "    }\n",
       "</style>\n",
       "<table border=\"1\" class=\"dataframe\">\n",
       "  <thead>\n",
       "    <tr style=\"text-align: right;\">\n",
       "      <th></th>\n",
       "      <th>nam</th>\n",
       "      <th>0</th>\n",
       "    </tr>\n",
       "  </thead>\n",
       "  <tbody>\n",
       "    <tr>\n",
       "      <th>0</th>\n",
       "      <td>网上冲浪李老八</td>\n",
       "      <td>108</td>\n",
       "    </tr>\n",
       "    <tr>\n",
       "      <th>1</th>\n",
       "      <td>許立良</td>\n",
       "      <td>98</td>\n",
       "    </tr>\n",
       "    <tr>\n",
       "      <th>2</th>\n",
       "      <td>許遵榮</td>\n",
       "      <td>72</td>\n",
       "    </tr>\n",
       "    <tr>\n",
       "      <th>3</th>\n",
       "      <td>朱寶寶</td>\n",
       "      <td>45</td>\n",
       "    </tr>\n",
       "    <tr>\n",
       "      <th>4</th>\n",
       "      <td>劉沛</td>\n",
       "      <td>45</td>\n",
       "    </tr>\n",
       "    <tr>\n",
       "      <th>5</th>\n",
       "      <td>莫當中國奴</td>\n",
       "      <td>38</td>\n",
       "    </tr>\n",
       "    <tr>\n",
       "      <th>6</th>\n",
       "      <td>時事豪笑員</td>\n",
       "      <td>36</td>\n",
       "    </tr>\n",
       "    <tr>\n",
       "      <th>7</th>\n",
       "      <td>hjklhff ghjkh</td>\n",
       "      <td>36</td>\n",
       "    </tr>\n",
       "    <tr>\n",
       "      <th>8</th>\n",
       "      <td>陳西西</td>\n",
       "      <td>35</td>\n",
       "    </tr>\n",
       "    <tr>\n",
       "      <th>9</th>\n",
       "      <td>tac jack</td>\n",
       "      <td>33</td>\n",
       "    </tr>\n",
       "    <tr>\n",
       "      <th>10</th>\n",
       "      <td>熊男くまお</td>\n",
       "      <td>31</td>\n",
       "    </tr>\n",
       "    <tr>\n",
       "      <th>11</th>\n",
       "      <td>W某人</td>\n",
       "      <td>30</td>\n",
       "    </tr>\n",
       "    <tr>\n",
       "      <th>12</th>\n",
       "      <td>wai kei chan</td>\n",
       "      <td>30</td>\n",
       "    </tr>\n",
       "    <tr>\n",
       "      <th>13</th>\n",
       "      <td>西楚霸王</td>\n",
       "      <td>28</td>\n",
       "    </tr>\n",
       "    <tr>\n",
       "      <th>14</th>\n",
       "      <td>大兔子</td>\n",
       "      <td>27</td>\n",
       "    </tr>\n",
       "    <tr>\n",
       "      <th>15</th>\n",
       "      <td>xbat11</td>\n",
       "      <td>26</td>\n",
       "    </tr>\n",
       "    <tr>\n",
       "      <th>16</th>\n",
       "      <td>Lichin Wu</td>\n",
       "      <td>25</td>\n",
       "    </tr>\n",
       "    <tr>\n",
       "      <th>17</th>\n",
       "      <td>贪婪害死癞蛤蟆</td>\n",
       "      <td>25</td>\n",
       "    </tr>\n",
       "    <tr>\n",
       "      <th>18</th>\n",
       "      <td>Xobile</td>\n",
       "      <td>24</td>\n",
       "    </tr>\n",
       "    <tr>\n",
       "      <th>19</th>\n",
       "      <td>Tonyの</td>\n",
       "      <td>24</td>\n",
       "    </tr>\n",
       "    <tr>\n",
       "      <th>20</th>\n",
       "      <td>賽林跋</td>\n",
       "      <td>22</td>\n",
       "    </tr>\n",
       "    <tr>\n",
       "      <th>21</th>\n",
       "      <td>山水</td>\n",
       "      <td>21</td>\n",
       "    </tr>\n",
       "    <tr>\n",
       "      <th>22</th>\n",
       "      <td>Jeremy</td>\n",
       "      <td>21</td>\n",
       "    </tr>\n",
       "    <tr>\n",
       "      <th>23</th>\n",
       "      <td>Wendy</td>\n",
       "      <td>20</td>\n",
       "    </tr>\n",
       "    <tr>\n",
       "      <th>24</th>\n",
       "      <td>九州寻欢</td>\n",
       "      <td>19</td>\n",
       "    </tr>\n",
       "    <tr>\n",
       "      <th>25</th>\n",
       "      <td>free talk</td>\n",
       "      <td>18</td>\n",
       "    </tr>\n",
       "    <tr>\n",
       "      <th>26</th>\n",
       "      <td>Wing Yuan</td>\n",
       "      <td>18</td>\n",
       "    </tr>\n",
       "    <tr>\n",
       "      <th>27</th>\n",
       "      <td>唾液篩檢</td>\n",
       "      <td>17</td>\n",
       "    </tr>\n",
       "    <tr>\n",
       "      <th>28</th>\n",
       "      <td>Cake Easy</td>\n",
       "      <td>16</td>\n",
       "    </tr>\n",
       "    <tr>\n",
       "      <th>29</th>\n",
       "      <td>傑特傑特</td>\n",
       "      <td>15</td>\n",
       "    </tr>\n",
       "  </tbody>\n",
       "</table>\n",
       "</div>"
      ],
      "text/plain": [
       "              nam    0\n",
       "0         网上冲浪李老八  108\n",
       "1             許立良   98\n",
       "2             許遵榮   72\n",
       "3             朱寶寶   45\n",
       "4              劉沛   45\n",
       "5           莫當中國奴   38\n",
       "6           時事豪笑員   36\n",
       "7   hjklhff ghjkh   36\n",
       "8             陳西西   35\n",
       "9        tac jack   33\n",
       "10          熊男くまお   31\n",
       "11            W某人   30\n",
       "12   wai kei chan   30\n",
       "13           西楚霸王   28\n",
       "14            大兔子   27\n",
       "15         xbat11   26\n",
       "16      Lichin Wu   25\n",
       "17        贪婪害死癞蛤蟆   25\n",
       "18         Xobile   24\n",
       "19          Tonyの   24\n",
       "20            賽林跋   22\n",
       "21             山水   21\n",
       "22         Jeremy   21\n",
       "23          Wendy   20\n",
       "24           九州寻欢   19\n",
       "25      free talk   18\n",
       "26      Wing Yuan   18\n",
       "27           唾液篩檢   17\n",
       "28      Cake Easy   16\n",
       "29           傑特傑特   15"
      ]
     },
     "execution_count": 32,
     "metadata": {},
     "output_type": "execute_result"
    }
   ],
   "source": [
    "dtc = data.groupby(\"nam\").size().sort_values(ascending=False).head(30).reset_index()\n",
    "dtc"
   ]
  },
  {
   "cell_type": "code",
   "execution_count": 34,
   "metadata": {},
   "outputs": [],
   "source": [
    "# wb.create_sheet(\"MostComment\",1) \n",
    "# wsC = wb[\"MostComment\"] \n",
    "\n",
    "# for r in dataframe_to_rows(dtc, index=True, header=True):\n",
    "#     wsC.append(r)\n",
    "    \n",
    "# wsC[\"J1\"] = \"The Most Comment output\"\n",
    "# wsC[\"J2\"] = today\n",
    "# wsC[\"J3\"] = time\n",
    "\n",
    "# wb.save(\"data/NLP-save1.xlsx\")\n",
    "# print(wb.sheetnames)"
   ]
  },
  {
   "cell_type": "markdown",
   "metadata": {},
   "source": [
    "## 測試資料"
   ]
  },
  {
   "cell_type": "code",
   "execution_count": 35,
   "metadata": {},
   "outputs": [
    {
     "ename": "FileNotFoundError",
     "evalue": "[Errno 2] No such file or directory: 'data/userdict.txt'",
     "output_type": "error",
     "traceback": [
      "\u001b[0;31m---------------------------------------------------------------------------\u001b[0m",
      "\u001b[0;31mFileNotFoundError\u001b[0m                         Traceback (most recent call last)",
      "\u001b[0;32m/var/folders/9q/486czkcn7lv5v0hwbt71twdc0000gn/T/ipykernel_2961/3554489153.py\u001b[0m in \u001b[0;36m<module>\u001b[0;34m\u001b[0m\n\u001b[1;32m      2\u001b[0m \u001b[0;32mimport\u001b[0m \u001b[0mjieba\u001b[0m\u001b[0;34m.\u001b[0m\u001b[0manalyse\u001b[0m\u001b[0;34m\u001b[0m\u001b[0;34m\u001b[0m\u001b[0m\n\u001b[1;32m      3\u001b[0m \u001b[0;34m\u001b[0m\u001b[0m\n\u001b[0;32m----> 4\u001b[0;31m \u001b[0mjieba\u001b[0m\u001b[0;34m.\u001b[0m\u001b[0mload_userdict\u001b[0m\u001b[0;34m(\u001b[0m\u001b[0;34m'data/userdict.txt'\u001b[0m\u001b[0;34m)\u001b[0m   \u001b[0;31m#Filter\u001b[0m\u001b[0;34m\u001b[0m\u001b[0;34m\u001b[0m\u001b[0m\n\u001b[0m\u001b[1;32m      5\u001b[0m \u001b[0;34m\u001b[0m\u001b[0m\n\u001b[1;32m      6\u001b[0m \u001b[0mjieba\u001b[0m\u001b[0;34m.\u001b[0m\u001b[0madd_word\u001b[0m \u001b[0;34m(\u001b[0m\u001b[0;34m\"武漢肺炎\"\u001b[0m\u001b[0;34m)\u001b[0m                 \u001b[0;31m#dynamic add\u001b[0m\u001b[0;34m\u001b[0m\u001b[0;34m\u001b[0m\u001b[0m\n",
      "\u001b[0;32m~/opt/anaconda3/lib/python3.9/site-packages/jieba/__init__.py\u001b[0m in \u001b[0;36mload_userdict\u001b[0;34m(self, f)\u001b[0m\n\u001b[1;32m    396\u001b[0m         \u001b[0;32mif\u001b[0m \u001b[0misinstance\u001b[0m\u001b[0;34m(\u001b[0m\u001b[0mf\u001b[0m\u001b[0;34m,\u001b[0m \u001b[0mstring_types\u001b[0m\u001b[0;34m)\u001b[0m\u001b[0;34m:\u001b[0m\u001b[0;34m\u001b[0m\u001b[0;34m\u001b[0m\u001b[0m\n\u001b[1;32m    397\u001b[0m             \u001b[0mf_name\u001b[0m \u001b[0;34m=\u001b[0m \u001b[0mf\u001b[0m\u001b[0;34m\u001b[0m\u001b[0;34m\u001b[0m\u001b[0m\n\u001b[0;32m--> 398\u001b[0;31m             \u001b[0mf\u001b[0m \u001b[0;34m=\u001b[0m \u001b[0mopen\u001b[0m\u001b[0;34m(\u001b[0m\u001b[0mf\u001b[0m\u001b[0;34m,\u001b[0m \u001b[0;34m'rb'\u001b[0m\u001b[0;34m)\u001b[0m\u001b[0;34m\u001b[0m\u001b[0;34m\u001b[0m\u001b[0m\n\u001b[0m\u001b[1;32m    399\u001b[0m         \u001b[0;32melse\u001b[0m\u001b[0;34m:\u001b[0m\u001b[0;34m\u001b[0m\u001b[0;34m\u001b[0m\u001b[0m\n\u001b[1;32m    400\u001b[0m             \u001b[0mf_name\u001b[0m \u001b[0;34m=\u001b[0m \u001b[0mresolve_filename\u001b[0m\u001b[0;34m(\u001b[0m\u001b[0mf\u001b[0m\u001b[0;34m)\u001b[0m\u001b[0;34m\u001b[0m\u001b[0;34m\u001b[0m\u001b[0m\n",
      "\u001b[0;31mFileNotFoundError\u001b[0m: [Errno 2] No such file or directory: 'data/userdict.txt'"
     ]
    }
   ],
   "source": [
    "import jieba\n",
    "import jieba.analyse\n",
    "\n",
    "jieba.load_userdict('data/userdict.txt')   #Filter\n",
    "\n",
    "jieba.add_word (\"武漢肺炎\")                 #dynamic add\n",
    "jieba.suggest_freq (\"武漢肺炎\", tune=True)  \n",
    "\n",
    "for i in range(len(result_dt)):\n",
    "    seg_list = jieba.lcut(result_dt[i])\n",
    "    \n",
    "    #print(result_dt[i])\n",
    "    print(seg_list)\n",
    "    #print('==============================')"
   ]
  },
  {
   "cell_type": "code",
   "execution_count": 36,
   "metadata": {},
   "outputs": [
    {
     "ename": "NameError",
     "evalue": "name 'result_dt' is not defined",
     "output_type": "error",
     "traceback": [
      "\u001b[0;31m---------------------------------------------------------------------------\u001b[0m",
      "\u001b[0;31mNameError\u001b[0m                                 Traceback (most recent call last)",
      "\u001b[0;32m/var/folders/9q/486czkcn7lv5v0hwbt71twdc0000gn/T/ipykernel_2961/3355601365.py\u001b[0m in \u001b[0;36m<module>\u001b[0;34m\u001b[0m\n\u001b[0;32m----> 1\u001b[0;31m \u001b[0mresult_dt\u001b[0m\u001b[0;34m\u001b[0m\u001b[0;34m\u001b[0m\u001b[0m\n\u001b[0m\u001b[1;32m      2\u001b[0m \u001b[0;31m#new = str1.join(result_dt)\u001b[0m\u001b[0;34m\u001b[0m\u001b[0;34m\u001b[0m\u001b[0m\n",
      "\u001b[0;31mNameError\u001b[0m: name 'result_dt' is not defined"
     ]
    }
   ],
   "source": [
    "result_dt\n",
    "#new = str1.join(result_dt)"
   ]
  },
  {
   "cell_type": "code",
   "execution_count": 37,
   "metadata": {},
   "outputs": [
    {
     "ename": "NameError",
     "evalue": "name 'str1' is not defined",
     "output_type": "error",
     "traceback": [
      "\u001b[0;31m---------------------------------------------------------------------------\u001b[0m",
      "\u001b[0;31mNameError\u001b[0m                                 Traceback (most recent call last)",
      "\u001b[0;32m/var/folders/9q/486czkcn7lv5v0hwbt71twdc0000gn/T/ipykernel_2961/1842028986.py\u001b[0m in \u001b[0;36m<module>\u001b[0;34m\u001b[0m\n\u001b[1;32m      2\u001b[0m \u001b[0;34m\u001b[0m\u001b[0m\n\u001b[1;32m      3\u001b[0m \u001b[0;31m#news = '蘇貞昌表示，春節期間中國武漢肺炎疫情急遽升高，他在年假第一天就到中央流行疫情指揮中心聽取簡報，並宣布提升到二級開設。年假期間，衛福部及相關機關幾乎都放棄休假，每天監控及因應各項疫情，並宣布防疫資源整備情形及最新防疫作為，隨時讓國人瞭解最新疫情發展。因為資訊透明，應變迅速，讓國人感受到「有政府，可放心」，感謝陳其邁副院長費心督導，對於年假期間各防疫機關人員的堅守崗位，也表示肯定與感謝。'\u001b[0m\u001b[0;34m\u001b[0m\u001b[0;34m\u001b[0m\u001b[0m\n\u001b[0;32m----> 4\u001b[0;31m \u001b[0mnews\u001b[0m \u001b[0;34m=\u001b[0m \u001b[0mstr1\u001b[0m\u001b[0;34m.\u001b[0m\u001b[0mjoin\u001b[0m\u001b[0;34m(\u001b[0m\u001b[0mresult_dt\u001b[0m\u001b[0;34m)\u001b[0m\u001b[0;34m\u001b[0m\u001b[0;34m\u001b[0m\u001b[0m\n\u001b[0m\u001b[1;32m      5\u001b[0m \u001b[0;34m\u001b[0m\u001b[0m\n\u001b[1;32m      6\u001b[0m \u001b[0mtags\u001b[0m \u001b[0;34m=\u001b[0m \u001b[0mjieba\u001b[0m\u001b[0;34m.\u001b[0m\u001b[0manalyse\u001b[0m\u001b[0;34m.\u001b[0m\u001b[0mextract_tags\u001b[0m\u001b[0;34m(\u001b[0m\u001b[0mnews\u001b[0m\u001b[0;34m,\u001b[0m \u001b[0mtopK\u001b[0m\u001b[0;34m=\u001b[0m\u001b[0;36m5\u001b[0m\u001b[0;34m,\u001b[0m \u001b[0mwithWeight\u001b[0m\u001b[0;34m=\u001b[0m\u001b[0;32mTrue\u001b[0m\u001b[0;34m)\u001b[0m\u001b[0;34m\u001b[0m\u001b[0;34m\u001b[0m\u001b[0m\n",
      "\u001b[0;31mNameError\u001b[0m: name 'str1' is not defined"
     ]
    }
   ],
   "source": [
    "import jieba.analyse\n",
    "\n",
    "#news = '蘇貞昌表示，春節期間中國武漢肺炎疫情急遽升高，他在年假第一天就到中央流行疫情指揮中心聽取簡報，並宣布提升到二級開設。年假期間，衛福部及相關機關幾乎都放棄休假，每天監控及因應各項疫情，並宣布防疫資源整備情形及最新防疫作為，隨時讓國人瞭解最新疫情發展。因為資訊透明，應變迅速，讓國人感受到「有政府，可放心」，感謝陳其邁副院長費心督導，對於年假期間各防疫機關人員的堅守崗位，也表示肯定與感謝。'\n",
    "news = str1.join(result_dt)\n",
    "\n",
    "tags = jieba.analyse.extract_tags(news, topK=5, withWeight=True)\n",
    "\n",
    "for tag in tags:\n",
    "    print('word:', tag[0], 'tf-idf:', tag[1])"
   ]
  },
  {
   "cell_type": "code",
   "execution_count": 38,
   "metadata": {},
   "outputs": [
    {
     "ename": "FileNotFoundError",
     "evalue": "[Errno 2] No such file or directory: 'msg.xlsx'",
     "output_type": "error",
     "traceback": [
      "\u001b[0;31m---------------------------------------------------------------------------\u001b[0m",
      "\u001b[0;31mFileNotFoundError\u001b[0m                         Traceback (most recent call last)",
      "\u001b[0;32m/var/folders/9q/486czkcn7lv5v0hwbt71twdc0000gn/T/ipykernel_2961/731057743.py\u001b[0m in \u001b[0;36m<module>\u001b[0;34m\u001b[0m\n\u001b[0;32m----> 1\u001b[0;31m \u001b[0mdata\u001b[0m \u001b[0;34m=\u001b[0m \u001b[0mpd\u001b[0m\u001b[0;34m.\u001b[0m\u001b[0mread_excel\u001b[0m\u001b[0;34m(\u001b[0m\u001b[0;34m'msg.xlsx'\u001b[0m\u001b[0;34m)\u001b[0m\u001b[0;34m\u001b[0m\u001b[0;34m\u001b[0m\u001b[0m\n\u001b[0m\u001b[1;32m      2\u001b[0m \u001b[0mdata\u001b[0m\u001b[0;34m.\u001b[0m\u001b[0mhead\u001b[0m\u001b[0;34m(\u001b[0m\u001b[0;34m)\u001b[0m\u001b[0;34m\u001b[0m\u001b[0;34m\u001b[0m\u001b[0m\n\u001b[1;32m      3\u001b[0m \u001b[0;34m\u001b[0m\u001b[0m\n\u001b[1;32m      4\u001b[0m \u001b[0mdata\u001b[0m\u001b[0;34m.\u001b[0m\u001b[0mcount\u001b[0m\u001b[0;34m(\u001b[0m\u001b[0;34m)\u001b[0m\u001b[0;34m\u001b[0m\u001b[0;34m\u001b[0m\u001b[0m\n",
      "\u001b[0;32m~/opt/anaconda3/lib/python3.9/site-packages/pandas/util/_decorators.py\u001b[0m in \u001b[0;36mwrapper\u001b[0;34m(*args, **kwargs)\u001b[0m\n\u001b[1;32m    309\u001b[0m                     \u001b[0mstacklevel\u001b[0m\u001b[0;34m=\u001b[0m\u001b[0mstacklevel\u001b[0m\u001b[0;34m,\u001b[0m\u001b[0;34m\u001b[0m\u001b[0;34m\u001b[0m\u001b[0m\n\u001b[1;32m    310\u001b[0m                 )\n\u001b[0;32m--> 311\u001b[0;31m             \u001b[0;32mreturn\u001b[0m \u001b[0mfunc\u001b[0m\u001b[0;34m(\u001b[0m\u001b[0;34m*\u001b[0m\u001b[0margs\u001b[0m\u001b[0;34m,\u001b[0m \u001b[0;34m**\u001b[0m\u001b[0mkwargs\u001b[0m\u001b[0;34m)\u001b[0m\u001b[0;34m\u001b[0m\u001b[0;34m\u001b[0m\u001b[0m\n\u001b[0m\u001b[1;32m    312\u001b[0m \u001b[0;34m\u001b[0m\u001b[0m\n\u001b[1;32m    313\u001b[0m         \u001b[0;32mreturn\u001b[0m \u001b[0mwrapper\u001b[0m\u001b[0;34m\u001b[0m\u001b[0;34m\u001b[0m\u001b[0m\n",
      "\u001b[0;32m~/opt/anaconda3/lib/python3.9/site-packages/pandas/io/excel/_base.py\u001b[0m in \u001b[0;36mread_excel\u001b[0;34m(io, sheet_name, header, names, index_col, usecols, squeeze, dtype, engine, converters, true_values, false_values, skiprows, nrows, na_values, keep_default_na, na_filter, verbose, parse_dates, date_parser, thousands, comment, skipfooter, convert_float, mangle_dupe_cols, storage_options)\u001b[0m\n\u001b[1;32m    362\u001b[0m     \u001b[0;32mif\u001b[0m \u001b[0;32mnot\u001b[0m \u001b[0misinstance\u001b[0m\u001b[0;34m(\u001b[0m\u001b[0mio\u001b[0m\u001b[0;34m,\u001b[0m \u001b[0mExcelFile\u001b[0m\u001b[0;34m)\u001b[0m\u001b[0;34m:\u001b[0m\u001b[0;34m\u001b[0m\u001b[0;34m\u001b[0m\u001b[0m\n\u001b[1;32m    363\u001b[0m         \u001b[0mshould_close\u001b[0m \u001b[0;34m=\u001b[0m \u001b[0;32mTrue\u001b[0m\u001b[0;34m\u001b[0m\u001b[0;34m\u001b[0m\u001b[0m\n\u001b[0;32m--> 364\u001b[0;31m         \u001b[0mio\u001b[0m \u001b[0;34m=\u001b[0m \u001b[0mExcelFile\u001b[0m\u001b[0;34m(\u001b[0m\u001b[0mio\u001b[0m\u001b[0;34m,\u001b[0m \u001b[0mstorage_options\u001b[0m\u001b[0;34m=\u001b[0m\u001b[0mstorage_options\u001b[0m\u001b[0;34m,\u001b[0m \u001b[0mengine\u001b[0m\u001b[0;34m=\u001b[0m\u001b[0mengine\u001b[0m\u001b[0;34m)\u001b[0m\u001b[0;34m\u001b[0m\u001b[0;34m\u001b[0m\u001b[0m\n\u001b[0m\u001b[1;32m    365\u001b[0m     \u001b[0;32melif\u001b[0m \u001b[0mengine\u001b[0m \u001b[0;32mand\u001b[0m \u001b[0mengine\u001b[0m \u001b[0;34m!=\u001b[0m \u001b[0mio\u001b[0m\u001b[0;34m.\u001b[0m\u001b[0mengine\u001b[0m\u001b[0;34m:\u001b[0m\u001b[0;34m\u001b[0m\u001b[0;34m\u001b[0m\u001b[0m\n\u001b[1;32m    366\u001b[0m         raise ValueError(\n",
      "\u001b[0;32m~/opt/anaconda3/lib/python3.9/site-packages/pandas/io/excel/_base.py\u001b[0m in \u001b[0;36m__init__\u001b[0;34m(self, path_or_buffer, engine, storage_options)\u001b[0m\n\u001b[1;32m   1189\u001b[0m                 \u001b[0mext\u001b[0m \u001b[0;34m=\u001b[0m \u001b[0;34m\"xls\"\u001b[0m\u001b[0;34m\u001b[0m\u001b[0;34m\u001b[0m\u001b[0m\n\u001b[1;32m   1190\u001b[0m             \u001b[0;32melse\u001b[0m\u001b[0;34m:\u001b[0m\u001b[0;34m\u001b[0m\u001b[0;34m\u001b[0m\u001b[0m\n\u001b[0;32m-> 1191\u001b[0;31m                 ext = inspect_excel_format(\n\u001b[0m\u001b[1;32m   1192\u001b[0m                     \u001b[0mcontent_or_path\u001b[0m\u001b[0;34m=\u001b[0m\u001b[0mpath_or_buffer\u001b[0m\u001b[0;34m,\u001b[0m \u001b[0mstorage_options\u001b[0m\u001b[0;34m=\u001b[0m\u001b[0mstorage_options\u001b[0m\u001b[0;34m\u001b[0m\u001b[0;34m\u001b[0m\u001b[0m\n\u001b[1;32m   1193\u001b[0m                 )\n",
      "\u001b[0;32m~/opt/anaconda3/lib/python3.9/site-packages/pandas/io/excel/_base.py\u001b[0m in \u001b[0;36minspect_excel_format\u001b[0;34m(content_or_path, storage_options)\u001b[0m\n\u001b[1;32m   1068\u001b[0m         \u001b[0mcontent_or_path\u001b[0m \u001b[0;34m=\u001b[0m \u001b[0mBytesIO\u001b[0m\u001b[0;34m(\u001b[0m\u001b[0mcontent_or_path\u001b[0m\u001b[0;34m)\u001b[0m\u001b[0;34m\u001b[0m\u001b[0;34m\u001b[0m\u001b[0m\n\u001b[1;32m   1069\u001b[0m \u001b[0;34m\u001b[0m\u001b[0m\n\u001b[0;32m-> 1070\u001b[0;31m     with get_handle(\n\u001b[0m\u001b[1;32m   1071\u001b[0m         \u001b[0mcontent_or_path\u001b[0m\u001b[0;34m,\u001b[0m \u001b[0;34m\"rb\"\u001b[0m\u001b[0;34m,\u001b[0m \u001b[0mstorage_options\u001b[0m\u001b[0;34m=\u001b[0m\u001b[0mstorage_options\u001b[0m\u001b[0;34m,\u001b[0m \u001b[0mis_text\u001b[0m\u001b[0;34m=\u001b[0m\u001b[0;32mFalse\u001b[0m\u001b[0;34m\u001b[0m\u001b[0;34m\u001b[0m\u001b[0m\n\u001b[1;32m   1072\u001b[0m     ) as handle:\n",
      "\u001b[0;32m~/opt/anaconda3/lib/python3.9/site-packages/pandas/io/common.py\u001b[0m in \u001b[0;36mget_handle\u001b[0;34m(path_or_buf, mode, encoding, compression, memory_map, is_text, errors, storage_options)\u001b[0m\n\u001b[1;32m    709\u001b[0m         \u001b[0;32melse\u001b[0m\u001b[0;34m:\u001b[0m\u001b[0;34m\u001b[0m\u001b[0;34m\u001b[0m\u001b[0m\n\u001b[1;32m    710\u001b[0m             \u001b[0;31m# Binary mode\u001b[0m\u001b[0;34m\u001b[0m\u001b[0;34m\u001b[0m\u001b[0m\n\u001b[0;32m--> 711\u001b[0;31m             \u001b[0mhandle\u001b[0m \u001b[0;34m=\u001b[0m \u001b[0mopen\u001b[0m\u001b[0;34m(\u001b[0m\u001b[0mhandle\u001b[0m\u001b[0;34m,\u001b[0m \u001b[0mioargs\u001b[0m\u001b[0;34m.\u001b[0m\u001b[0mmode\u001b[0m\u001b[0;34m)\u001b[0m\u001b[0;34m\u001b[0m\u001b[0;34m\u001b[0m\u001b[0m\n\u001b[0m\u001b[1;32m    712\u001b[0m         \u001b[0mhandles\u001b[0m\u001b[0;34m.\u001b[0m\u001b[0mappend\u001b[0m\u001b[0;34m(\u001b[0m\u001b[0mhandle\u001b[0m\u001b[0;34m)\u001b[0m\u001b[0;34m\u001b[0m\u001b[0;34m\u001b[0m\u001b[0m\n\u001b[1;32m    713\u001b[0m \u001b[0;34m\u001b[0m\u001b[0m\n",
      "\u001b[0;31mFileNotFoundError\u001b[0m: [Errno 2] No such file or directory: 'msg.xlsx'"
     ]
    }
   ],
   "source": [
    "data = pd.read_excel('msg.xlsx')\n",
    "data.head()\n",
    "\n",
    "data.count()"
   ]
  },
  {
   "cell_type": "code",
   "execution_count": null,
   "metadata": {},
   "outputs": [],
   "source": [
    "data.groupby('nam').size()"
   ]
  }
 ],
 "metadata": {
  "kernelspec": {
   "display_name": "Python 3 (ipykernel)",
   "language": "python",
   "name": "python3"
  },
  "language_info": {
   "codemirror_mode": {
    "name": "ipython",
    "version": 3
   },
   "file_extension": ".py",
   "mimetype": "text/x-python",
   "name": "python",
   "nbconvert_exporter": "python",
   "pygments_lexer": "ipython3",
   "version": "3.9.7"
  }
 },
 "nbformat": 4,
 "nbformat_minor": 4
}
