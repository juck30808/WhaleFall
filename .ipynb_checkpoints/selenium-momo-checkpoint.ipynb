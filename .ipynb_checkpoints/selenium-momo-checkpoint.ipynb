{
 "cells": [
  {
   "cell_type": "code",
   "execution_count": 9,
   "id": "2c5b19b3",
   "metadata": {},
   "outputs": [
    {
     "name": "stdout",
     "output_type": "stream",
     "text": [
      "phone-number：········\n",
      "password：········\n"
     ]
    }
   ],
   "source": [
    "import getpass\n",
    "inact = getpass.getpass('phone-number：')\n",
    "inpwd = getpass.getpass('password：')"
   ]
  },
  {
   "cell_type": "code",
   "execution_count": 10,
   "id": "7f2d8515",
   "metadata": {},
   "outputs": [
    {
     "name": "stderr",
     "output_type": "stream",
     "text": [
      "C:\\Users\\CTI110~1\\AppData\\Local\\Temp/ipykernel_25400/3112367255.py:17: DeprecationWarning: executable_path has been deprecated, please pass in a Service object\n",
      "  driver = webdriver.Chrome(\"./driver/chromedriver.exe\")\n",
      "C:\\Users\\CTI110~1\\AppData\\Local\\Temp/ipykernel_25400/3112367255.py:22: DeprecationWarning: find_element_by_* commands are deprecated. Please use find_element() instead\n",
      "  driver.find_element_by_id('memId').send_keys(inact)\n",
      "C:\\Users\\CTI110~1\\AppData\\Local\\Temp/ipykernel_25400/3112367255.py:23: DeprecationWarning: find_element_by_* commands are deprecated. Please use find_element() instead\n",
      "  driver.find_element_by_id('passwd').send_keys(inpwd)\n",
      "C:\\Users\\CTI110~1\\AppData\\Local\\Temp/ipykernel_25400/3112367255.py:24: DeprecationWarning: find_element_by_class_name is deprecated. Please use find_element(by=By.CLASS_NAME, value=name) instead\n",
      "  driver.find_element_by_class_name('login').click()\n"
     ]
    },
    {
     "name": "stdout",
     "output_type": "stream",
     "text": [
      "可以購買!\n"
     ]
    }
   ],
   "source": [
    "from selenium import webdriver\n",
    "import time\n",
    "from selenium.webdriver.common.by import By\n",
    "from selenium.webdriver.support.ui import WebDriverWait\n",
    "from selenium.webdriver.support import expected_conditions as EC\n",
    "\n",
    "options = webdriver.ChromeOptions()\n",
    "prefs = {\n",
    "    'profile.default_content_setting_values':\n",
    "        {\n",
    "            'notifications': 2\n",
    "        }\n",
    "}\n",
    "options.add_experimental_option('prefs', prefs) \n",
    "options.add_argument(\"disable-infobars\") \n",
    "\n",
    "driver = webdriver.Chrome(\"./driver/chromedriver.exe\")\n",
    "driver.maximize_window() \n",
    "\n",
    "driver.get(\"https://m.momoshop.com.tw/mymomo/login.momo\")\n",
    "\n",
    "driver.find_element_by_id('memId').send_keys(inact) \n",
    "driver.find_element_by_id('passwd').send_keys(inpwd)\n",
    "driver.find_element_by_class_name('login').click()\n",
    "\n",
    "#driver.get(\"https://www.momoshop.com.tw/goods/GoodsDetail.jsp?i_code=8267514&str_category_code=2900100474\")\n",
    "driver.get(\"https://www.momoshop.com.tw/goods/GoodsDetail.jsp?i_code=9333326&cid=cheap&oid=1&mdiv=1000000000-bt_0_238_01-bt_0_238_01_e10&ctype=B\")\n",
    "\n",
    "#driver.get(\"https://www.momoshop.com.tw/goods/GoodsDetail.jsp?i_code=8820259&mdiv=shopCart\")\n",
    "\n",
    "while 1:\n",
    "    try:\n",
    "        buy = WebDriverWait(driver, 1, 0.5).until(EC.presence_of_element_located((By.ID, 'buy_yes'))) # 顯性等待\n",
    "        buy.click() # 偵測到可以購買按鈕就點擊按鈕\n",
    "        print ('可以購買!')\n",
    "        break # 後面結帳部分就不寫囉\n",
    "    except:\n",
    "        print(\"還不能購買! 重新整理!\")\n",
    "        driver.refresh() # 重整頁面"
   ]
  },
  {
   "cell_type": "code",
   "execution_count": 3,
   "id": "17f22193",
   "metadata": {},
   "outputs": [],
   "source": [
    "# #SessionNotCreatedException: Message: session not created: This version of ChromeDriver only supports Chrome version 96\n",
    "# Current browser version is 102.0.5005.115 with binary path C:\\Program Files\\Google\\Chrome\\Application\\chrome.exe\n",
    "# Stacktrace:\n",
    "# # Backtrace:"
   ]
  },
  {
   "cell_type": "code",
   "execution_count": null,
   "id": "4073922d",
   "metadata": {},
   "outputs": [],
   "source": []
  }
 ],
 "metadata": {
  "kernelspec": {
   "display_name": "Python 3 (ipykernel)",
   "language": "python",
   "name": "python3"
  },
  "language_info": {
   "codemirror_mode": {
    "name": "ipython",
    "version": 3
   },
   "file_extension": ".py",
   "mimetype": "text/x-python",
   "name": "python",
   "nbconvert_exporter": "python",
   "pygments_lexer": "ipython3",
   "version": "3.9.7"
  }
 },
 "nbformat": 4,
 "nbformat_minor": 5
}
