{
 "cells": [
  {
   "cell_type": "markdown",
   "metadata": {},
   "source": [
    "## 海龍公式（Heron's formula）\n",
    "* Let a,b,c be the lengths of the sides of a triangle. The area is given by:\n",
    "* Area\t= √(p(p−a) (p−b) (p−c))\n",
    "* where p is half the perimeter, or (a+b+c)/2"
   ]
  },
  {
   "cell_type": "code",
   "execution_count": 1,
   "metadata": {},
   "outputs": [
    {
     "name": "stdout",
     "output_type": "stream",
     "text": [
      "Enter first side: 1\n",
      "Enter second side: 2\n",
      "Enter third side: 3\n",
      "The area of the triangle is 0.00\n"
     ]
    }
   ],
   "source": [
    "a = int(input('Enter first side: '))\n",
    "b = int(input('Enter second side: '))\n",
    "c = int(input('Enter third side: '))\n",
    "\n",
    "# calculate the semi-perimeter\n",
    "s = (a + b + c) / 2\n",
    "\n",
    "# calculate the area\n",
    "area = (s*(s-a)*(s-b)*(s-c)) ** 0.5\n",
    "print('The area of the triangle is %0.2f' %area)"
   ]
  },
  {
   "cell_type": "markdown",
   "metadata": {},
   "source": [
    "## Math"
   ]
  },
  {
   "cell_type": "code",
   "execution_count": 1,
   "metadata": {},
   "outputs": [
    {
     "name": "stdout",
     "output_type": "stream",
     "text": [
      "3.141592653589793\n",
      "2.718281828459045\n",
      "6.283185307179586\n"
     ]
    }
   ],
   "source": [
    "import math\n",
    "\n",
    "print(math.pi)  # math.pi: 圓周率\n",
    "print(math.e)   # math.e: 自然常數、歐拉數\n",
    "print(math.tau) # math.tau: 兩倍圓周率"
   ]
  },
  {
   "cell_type": "code",
   "execution_count": 2,
   "metadata": {},
   "outputs": [
    {
     "name": "stdout",
     "output_type": "stream",
     "text": [
      "4\n",
      "3\n"
     ]
    }
   ],
   "source": [
    "# 回傳 x 的上限(大於等於 x 的最小整數)\n",
    "print(math.ceil(3.14))\n",
    "print(math.ceil(2.9))"
   ]
  },
  {
   "cell_type": "code",
   "execution_count": 3,
   "metadata": {},
   "outputs": [
    {
     "name": "stdout",
     "output_type": "stream",
     "text": [
      "3\n",
      "2\n"
     ]
    }
   ],
   "source": [
    "# 回傳 x 的下限(小於等於 x 的最大整數)\n",
    "print(math.floor(3.14))\n",
    "print(math.floor(2.9))"
   ]
  },
  {
   "cell_type": "code",
   "execution_count": 4,
   "metadata": {},
   "outputs": [
    {
     "name": "stdout",
     "output_type": "stream",
     "text": [
      "120\n"
     ]
    }
   ],
   "source": [
    "# 回傳 x! 的階乘\n",
    "print(math.factorial(5))"
   ]
  },
  {
   "cell_type": "code",
   "execution_count": 5,
   "metadata": {},
   "outputs": [
    {
     "name": "stdout",
     "output_type": "stream",
     "text": [
      "60\n"
     ]
    }
   ],
   "source": [
    "# 回傳 n! / (n - k)!，代表從 n 項東西中選 k 項不重複且考慮順序(P n 取 k)\n",
    "print(math.perm(5, 3))"
   ]
  },
  {
   "cell_type": "code",
   "execution_count": 6,
   "metadata": {},
   "outputs": [
    {
     "name": "stdout",
     "output_type": "stream",
     "text": [
      "10\n"
     ]
    }
   ],
   "source": [
    "# 回傳 n! / (k! * (n - k)!)，代表從 n 項東西中選 k 項不重複且不考慮順序(C n 取 k)\n",
    "print(math.comb(5, 3))"
   ]
  },
  {
   "cell_type": "code",
   "execution_count": 11,
   "metadata": {
    "scrolled": true
   },
   "outputs": [
    {
     "name": "stdout",
     "output_type": "stream",
     "text": [
      "2\n",
      "6\n"
     ]
    }
   ],
   "source": [
    "import math\n",
    "\n",
    "print(math.gcd(2, 6)) #最大公因數 greatest common divisor\n",
    "\n",
    "\n",
    "#print(math.lcm(2, 6)) #最小公倍數 least common multiple\n",
    "def lcm(a,b):\n",
    "    return (a * b) // math.gcd(a,b)\n",
    "print(lcm(2,6))"
   ]
  },
  {
   "cell_type": "code",
   "execution_count": 15,
   "metadata": {},
   "outputs": [
    {
     "name": "stdout",
     "output_type": "stream",
     "text": [
      "2.0\n",
      "7.38905609893065\n"
     ]
    }
   ],
   "source": [
    "print(math.sqrt(4))  # x 的平方根\n",
    "print(math.exp(2))  # e 的 x 次方"
   ]
  },
  {
   "cell_type": "code",
   "execution_count": 13,
   "metadata": {},
   "outputs": [
    {
     "name": "stdout",
     "output_type": "stream",
     "text": [
      "1.0\n",
      "0.30102999566398114\n",
      "1.0\n"
     ]
    }
   ],
   "source": [
    "#回傳 x 以 base 為底的對數\n",
    "print(math.log(10, 10))\n",
    "print(math.log(2, 10))\n",
    "print(math.log(math.e))"
   ]
  },
  {
   "cell_type": "code",
   "execution_count": 14,
   "metadata": {},
   "outputs": [
    {
     "name": "stdout",
     "output_type": "stream",
     "text": [
      "2.008600171761917\n",
      "2.0086001717619175\n"
     ]
    }
   ],
   "source": [
    "# 回傳 x 以10為底的對數，比起 math.log(x, 10) 有更高的準確度\n",
    "print(math.log(102, 10))\n",
    "print(math.log10(102))"
   ]
  },
  {
   "cell_type": "code",
   "execution_count": 19,
   "metadata": {},
   "outputs": [
    {
     "name": "stdout",
     "output_type": "stream",
     "text": [
      "0.0\n",
      "180.0\n",
      "0.0\n",
      "3.141592653589793\n"
     ]
    }
   ],
   "source": [
    "#將 x 從徑轉換成度\n",
    "print(math.degrees(0))\n",
    "print(math.degrees(math.pi))\n",
    "\n",
    "#將 x 從度轉換成徑\n",
    "print(math.radians(0))\n",
    "print(math.radians(180))"
   ]
  },
  {
   "cell_type": "code",
   "execution_count": 22,
   "metadata": {},
   "outputs": [
    {
     "name": "stdout",
     "output_type": "stream",
     "text": [
      "0.0\n",
      "1.0\n",
      "0.0\n",
      "90.0\n"
     ]
    }
   ],
   "source": [
    "# 回傳 x 的正弦，x 的單位是徑\n",
    "print(math.sin(0))\n",
    "print(math.sin(math.pi/2))\n",
    "print(math.asin(0))\n",
    "print(math.degrees(math.asin(1)))"
   ]
  },
  {
   "cell_type": "code",
   "execution_count": 23,
   "metadata": {},
   "outputs": [
    {
     "name": "stdout",
     "output_type": "stream",
     "text": [
      "1.0\n",
      "-1.0\n",
      "-90.0\n",
      "90.0\n"
     ]
    }
   ],
   "source": [
    "# 回傳 x 的餘弦，x 的單位是徑\n",
    "print(math.cos(0))\n",
    "print(math.cos(math.pi))\n",
    "print(math.degrees(math.asin(-1)))\n",
    "print(math.degrees(math.asin(1)))"
   ]
  },
  {
   "cell_type": "code",
   "execution_count": 24,
   "metadata": {},
   "outputs": [
    {
     "name": "stdout",
     "output_type": "stream",
     "text": [
      "0.0\n",
      "-1.2246467991473532e-16\n",
      "-45.0\n",
      "45.0\n"
     ]
    }
   ],
   "source": [
    "# 回傳 x 的正切，x 的單位是徑\n",
    "print(math.tan(0))\n",
    "print(math.tan(math.pi))\n",
    "print(math.degrees(math.atan(-1)))\n",
    "print(math.degrees(math.atan(1)))"
   ]
  },
  {
   "cell_type": "code",
   "execution_count": null,
   "metadata": {},
   "outputs": [],
   "source": []
  }
 ],
 "metadata": {
  "kernelspec": {
   "display_name": "Python 3 (ipykernel)",
   "language": "python",
   "name": "python3"
  },
  "language_info": {
   "codemirror_mode": {
    "name": "ipython",
    "version": 3
   },
   "file_extension": ".py",
   "mimetype": "text/x-python",
   "name": "python",
   "nbconvert_exporter": "python",
   "pygments_lexer": "ipython3",
   "version": "3.8.8"
  }
 },
 "nbformat": 4,
 "nbformat_minor": 4
}
