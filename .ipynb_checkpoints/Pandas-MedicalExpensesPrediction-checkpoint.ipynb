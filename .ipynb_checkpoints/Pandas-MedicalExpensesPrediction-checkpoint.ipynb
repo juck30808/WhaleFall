{
 "cells": [
  {
   "cell_type": "code",
   "execution_count": 1,
   "metadata": {},
   "outputs": [
    {
     "ename": "ModuleNotFoundError",
     "evalue": "No module named 'plotly'",
     "output_type": "error",
     "traceback": [
      "\u001b[0;31m---------------------------------------------------------------------------\u001b[0m",
      "\u001b[0;31mModuleNotFoundError\u001b[0m                       Traceback (most recent call last)",
      "\u001b[0;32m/var/folders/9q/486czkcn7lv5v0hwbt71twdc0000gn/T/ipykernel_13249/460602393.py\u001b[0m in \u001b[0;36m<module>\u001b[0;34m\u001b[0m\n\u001b[1;32m      4\u001b[0m \u001b[0;32mimport\u001b[0m \u001b[0mseaborn\u001b[0m \u001b[0;32mas\u001b[0m \u001b[0msns\u001b[0m\u001b[0;34m\u001b[0m\u001b[0;34m\u001b[0m\u001b[0m\n\u001b[1;32m      5\u001b[0m \u001b[0;32mimport\u001b[0m \u001b[0mmatplotlib\u001b[0m\u001b[0;34m.\u001b[0m\u001b[0mpyplot\u001b[0m \u001b[0;32mas\u001b[0m \u001b[0mplt\u001b[0m\u001b[0;34m\u001b[0m\u001b[0;34m\u001b[0m\u001b[0m\n\u001b[0;32m----> 6\u001b[0;31m \u001b[0;32mimport\u001b[0m \u001b[0mplotly\u001b[0m\u001b[0;34m.\u001b[0m\u001b[0mexpress\u001b[0m \u001b[0;32mas\u001b[0m \u001b[0mpx\u001b[0m\u001b[0;34m\u001b[0m\u001b[0;34m\u001b[0m\u001b[0m\n\u001b[0m\u001b[1;32m      7\u001b[0m \u001b[0;34m\u001b[0m\u001b[0m\n\u001b[1;32m      8\u001b[0m \u001b[0;31m# setting parameters for visualization\u001b[0m\u001b[0;34m\u001b[0m\u001b[0;34m\u001b[0m\u001b[0m\n",
      "\u001b[0;31mModuleNotFoundError\u001b[0m: No module named 'plotly'"
     ]
    }
   ],
   "source": [
    "import numpy as np\n",
    "import pandas as pd\n",
    "\n",
    "import seaborn as sns\n",
    "import matplotlib.pyplot as plt\n",
    "import plotly.express as px\n",
    "\n",
    "# setting parameters for visualization\n",
    "plt.rcParams['figure.figsize'] = (16, 5)\n",
    "plt.style.use('fivethirtyeight')"
   ]
  },
  {
   "cell_type": "code",
   "execution_count": null,
   "metadata": {},
   "outputs": [],
   "source": [
    "# lets read the data set\n",
    "data = pd.read_csv('med-insurance.csv')\n",
    "data.head()"
   ]
  },
  {
   "cell_type": "code",
   "execution_count": null,
   "metadata": {},
   "outputs": [],
   "source": [
    "# lets check the missing values in the dataset\n",
    "data.isnull().sum()"
   ]
  },
  {
   "cell_type": "code",
   "execution_count": null,
   "metadata": {},
   "outputs": [],
   "source": [
    "# lets check the descriptive summary\n",
    "data.describe().style.background_gradient(cmap = 'Greens')"
   ]
  },
  {
   "cell_type": "markdown",
   "metadata": {},
   "source": [
    "### Univariate Analysis"
   ]
  },
  {
   "cell_type": "code",
   "execution_count": null,
   "metadata": {},
   "outputs": [],
   "source": [
    "# lets check the distribution of smoker, children and region\n",
    "\n",
    "plt.subplot(1, 3, 1)\n",
    "plt.pie(data['smoker'].value_counts().values,\n",
    "        labels = data['smoker'].value_counts().index,\n",
    "        colors = ['gold','silver'],\n",
    "        startangle = 90,\n",
    "        shadow = True,\n",
    "       explode = [0.1, 0])\n",
    "\n",
    "plt.subplot(1, 3, 2)\n",
    "sns.countplot(data['children'], palette = 'magma')\n",
    "plt.grid()\n",
    "\n",
    "plt.subplot(1, 3, 3)\n",
    "plt.pie(data['region'].value_counts().values,\n",
    "        labels = data['region'].value_counts().index,\n",
    "        colors = ['gold','silver','grey','black'],\n",
    "        startangle = 90,\n",
    "        shadow = True,\n",
    "       explode = [0.1, 0, 0, 0])\n",
    "plt.suptitle('Distribution of Smoker, Children and Regions', fontsize = 15)\n",
    "plt.show()"
   ]
  },
  {
   "cell_type": "code",
   "execution_count": null,
   "metadata": {},
   "outputs": [],
   "source": [
    "# lets check the distribution of age, bmi and expenses\n",
    "\n",
    "plt.subplot(1, 3, 1)\n",
    "sns.distplot(data['age'], color = 'black')\n",
    "plt.xlabel('Age')\n",
    "plt.grid()\n",
    "\n",
    "plt.subplot(1, 3, 2)\n",
    "sns.distplot(data['bmi'], color = 'orange')\n",
    "plt.xlabel('BMI')\n",
    "plt.grid()\n",
    "\n",
    "plt.subplot(1, 3, 3)\n",
    "sns.distplot(data['expenses'], color = 'aqua')\n",
    "plt.xlabel('Expenses')\n",
    "plt.grid()\n",
    "\n",
    "plt.suptitle('Distribution of Age, BMI, and Expenses', fontsize = 15)\n",
    "plt.show()"
   ]
  },
  {
   "cell_type": "markdown",
   "metadata": {},
   "source": [
    "### Bivariate Analysis"
   ]
  },
  {
   "cell_type": "code",
   "execution_count": null,
   "metadata": {},
   "outputs": [],
   "source": [
    "# lets understand the impact of age on Medical Expenses\n",
    "px.scatter(data, y = 'expenses',\n",
    "           x = 'age',\n",
    "           marginal_y = 'violin',\n",
    "           trendline = 'ols')"
   ]
  },
  {
   "cell_type": "markdown",
   "metadata": {},
   "source": [
    "* With Increasing Age, Expense is expeted to increase, but It is not obvious for all the scenarios."
   ]
  },
  {
   "cell_type": "code",
   "execution_count": null,
   "metadata": {},
   "outputs": [],
   "source": [
    "# lets understand the impact of bmi on Medical Expenses\n",
    "px.scatter(data, y = 'expenses',\n",
    "           x = 'bmi',\n",
    "           marginal_y = 'violin',\n",
    "           trendline = 'ols')"
   ]
  },
  {
   "cell_type": "code",
   "execution_count": null,
   "metadata": {},
   "outputs": [],
   "source": [
    "# lets check the impact of smoking and childrens in Medical Expenses\n",
    "\n",
    "plt.subplot(1, 2, 1)\n",
    "sns.boxplot(data['children'], data['expenses'])\n",
    "\n",
    "plt.subplot(1, 2, 2)\n",
    "sns.boxplot(data['smoker'], data['expenses'])\n",
    "\n",
    "plt.suptitle('Impact of Smoking and Childrens on Expenses', fontsize = 20)\n",
    "plt.show()"
   ]
  },
  {
   "cell_type": "markdown",
   "metadata": {},
   "source": [
    "## Multivariate Analysis"
   ]
  },
  {
   "cell_type": "code",
   "execution_count": null,
   "metadata": {},
   "outputs": [],
   "source": [
    "# As we can see from the above chart that having 4 and 5 childrens is having similar impact on expenses\n",
    "# so let's cap these values\n",
    "\n",
    "data['children'] = data['children'].replace((4, 5), (3, 3))\n",
    "\n",
    "# lets check the value counts\n",
    "data['children'].value_counts()"
   ]
  },
  {
   "cell_type": "code",
   "execution_count": null,
   "metadata": {},
   "outputs": [],
   "source": [
    "px.scatter(data,\n",
    "        x=\"expenses\",\n",
    "                 y=\"age\",\n",
    "                 facet_row=\"children\",\n",
    "                 facet_col=\"region\",\n",
    "                 color=\"smoker\",\n",
    "                 trendline=\"ols\")\n"
   ]
  },
  {
   "cell_type": "markdown",
   "metadata": {},
   "source": [
    "* The Expenses of Smokers in all regions ranges from 20 to 60k\n",
    "* Whereas the Expenses of Non Smokers in all regions ranges from 10 to 20K\n",
    "* The Lesser range of Expense is for lesser age people and vice versa."
   ]
  },
  {
   "cell_type": "code",
   "execution_count": null,
   "metadata": {},
   "outputs": [],
   "source": [
    "px.scatter(data,\n",
    "        x=\"expenses\",\n",
    "                 y=\"bmi\",\n",
    "                 facet_row=\"children\",\n",
    "                 facet_col=\"region\",\n",
    "                 color=\"smoker\",\n",
    "                 trendline=\"ols\")"
   ]
  },
  {
   "cell_type": "markdown",
   "metadata": {},
   "source": [
    "* We can clearly see that there is a increasing pattern for BMI as well.\n",
    "* For smoker with less BMI: Expense is around 20k\n",
    "* For Smokers with High BMI: Expense is around 50K\n",
    "* For Non Smokers BMI is not a Huge Factor, The Expense range from 5k to 10k"
   ]
  },
  {
   "cell_type": "code",
   "execution_count": null,
   "metadata": {},
   "outputs": [],
   "source": [
    "# A Bubble Chart to Represent the relation of Expense with BMI, Age, smoking\n",
    "# only for the North West Region\n",
    "px.scatter(data,\n",
    "                 x=\"expenses\",\n",
    "                 y=\"bmi\",\n",
    "                 size=\"age\",\n",
    "                 color=\"smoker\",\n",
    "           hover_name=\"expenses\", size_max=15)"
   ]
  },
  {
   "cell_type": "markdown",
   "metadata": {},
   "source": [
    "* This Chart makes it clear that BMI is not powerful indicator Expenses, as people having less BMI also have high Medical Expenses.\n",
    "* This chart makes it clear that People who smoke have higher Medical Expenses.\n",
    "* The Size of Bubble, which represents age, shows that people having higher expenses belong to Higher Expenses category"
   ]
  },
  {
   "cell_type": "code",
   "execution_count": null,
   "metadata": {},
   "outputs": [],
   "source": [
    "px.bar_polar(data, r=\"expenses\", theta=\"region\", color = 'sex', template = 'plotly_dark',\n",
    "            color_discrete_sequence= px.colors.sequential.Plasma_r)"
   ]
  },
  {
   "cell_type": "markdown",
   "metadata": {},
   "source": [
    "* This Chart clearly depits that the Southeast region has higher expenses compared to other regions.\n",
    "* This Chart clearly shows that Males have Higher Expenses in general in all the regions."
   ]
  },
  {
   "cell_type": "code",
   "execution_count": null,
   "metadata": {},
   "outputs": [],
   "source": [
    "# lets check the impact of Regions in Expenses\n",
    "\n",
    "data[['expenses', 'region']].groupby(['region']).agg(['min','mean','max']).style.background_gradient(cmap = 'Wistia')"
   ]
  },
  {
   "cell_type": "code",
   "execution_count": null,
   "metadata": {},
   "outputs": [],
   "source": [
    "# as we can see that all the columns are important, we will not remove any column\n",
    "data.head()"
   ]
  },
  {
   "cell_type": "markdown",
   "metadata": {},
   "source": [
    "### Data Processing"
   ]
  },
  {
   "cell_type": "code",
   "execution_count": null,
   "metadata": {},
   "outputs": [],
   "source": [
    "# lets perform encoding\n",
    "\n",
    "# as we know males have higher expense than females, lets encode males as 2, and females as 1, \n",
    "# similarly smokers, have highers expense, so we will encode smokers as 2, and non smokers as 1,\n",
    "# as we know that the south east region has higher expense than other regions\n",
    "\n",
    "data['sex'] = data['sex'].replace(('male','female'), (2, 1))\n",
    "data['smoker'] = data['smoker'].replace(('yes','no'), (2, 1))\n",
    "data['region'] = data['region'].replace(('southeast','southwest','northeast','northwest'),(2, 1, 1, 1))\n",
    "\n",
    "# let's check whether any categorical column is left\n",
    "data.select_dtypes('object').columns"
   ]
  },
  {
   "cell_type": "code",
   "execution_count": null,
   "metadata": {},
   "outputs": [],
   "source": [
    "# now lets check our data again\n",
    "data.head()"
   ]
  },
  {
   "cell_type": "code",
   "execution_count": null,
   "metadata": {},
   "outputs": [],
   "source": [
    "# lets form dependent and independent sets\n",
    "\n",
    "y = data['expenses']\n",
    "x = data.drop(['expenses'], axis = 1)\n",
    "\n",
    "print(y.shape)\n",
    "print(x.columns)"
   ]
  },
  {
   "cell_type": "code",
   "execution_count": null,
   "metadata": {},
   "outputs": [],
   "source": [
    "# lets perform train test split\n",
    "\n",
    "from sklearn.model_selection import train_test_split\n",
    "\n",
    "x_train, x_test, y_train, y_test = train_test_split(x, y, test_size = 0.2, random_state = 0)\n",
    "\n",
    "print(x_train.shape)\n",
    "print(x_test.shape)\n",
    "print(y_train.shape)\n",
    "print(y_test.shape)"
   ]
  },
  {
   "cell_type": "code",
   "execution_count": null,
   "metadata": {},
   "outputs": [],
   "source": [
    "# lets perform standardization\n",
    "\n",
    "from sklearn.preprocessing import StandardScaler\n",
    "\n",
    "sc = StandardScaler()\n",
    "x_train = sc.fit_transform(x_train)\n",
    "x_test = sc.transform(x_test)"
   ]
  },
  {
   "cell_type": "markdown",
   "metadata": {},
   "source": [
    "## Predictive Modelling"
   ]
  },
  {
   "cell_type": "code",
   "execution_count": null,
   "metadata": {},
   "outputs": [],
   "source": [
    "# lets create the Model\n",
    "\n",
    "# lets create a simple Linear Regression Model\n",
    "from sklearn.linear_model import LinearRegression\n",
    "\n",
    "model1 = LinearRegression()\n",
    "model1.fit(x_train, y_train)\n",
    "\n",
    "y_pred1 = model1.predict(x_test)"
   ]
  },
  {
   "cell_type": "code",
   "execution_count": null,
   "metadata": {},
   "outputs": [],
   "source": [
    "# lets check the Model accuracy\n",
    "from sklearn.metrics import r2_score, mean_squared_error\n",
    "\n",
    "mse = mean_squared_error(y_test, y_pred1)\n",
    "rmse = np.sqrt(mse)\n",
    "print(\"RMSE Score :\", rmse)\n",
    "\n",
    "r2_score = r2_score(y_test, y_pred1)\n",
    "print(\"R2 Score :\",r2_score)"
   ]
  },
  {
   "cell_type": "code",
   "execution_count": null,
   "metadata": {},
   "outputs": [],
   "source": [
    "# lets create a Random Forest Model\n",
    "\n",
    "from sklearn.ensemble import RandomForestRegressor\n",
    "\n",
    "model2 = RandomForestRegressor()\n",
    "model2.fit(x_train, y_train)\n",
    "\n",
    "y_pred2 = model2.predict(x_test)\n",
    "\n",
    "# lets check the Model accuracy\n",
    "from sklearn.metrics import r2_score, mean_squared_error\n",
    "\n",
    "mse = mean_squared_error(y_test, y_pred2)\n",
    "rmse = np.sqrt(mse)\n",
    "print(\"RMSE Score :\", rmse)\n",
    "\n",
    "r2_score = r2_score(y_test, y_pred2)\n",
    "print(\"R2 Score :\",r2_score)"
   ]
  },
  {
   "cell_type": "code",
   "execution_count": null,
   "metadata": {},
   "outputs": [],
   "source": [
    "# lets create a Gradient Boosting Model\n",
    "\n",
    "from sklearn.ensemble import GradientBoostingRegressor\n",
    "\n",
    "model3 = GradientBoostingRegressor()\n",
    "model3.fit(x_train, y_train)\n",
    "\n",
    "y_pred3 = model3.predict(x_test)\n",
    "\n",
    "# lets check the Model accuracy\n",
    "from sklearn.metrics import r2_score, mean_squared_error\n",
    "\n",
    "mse = mean_squared_error(y_test, y_pred3)\n",
    "rmse = np.sqrt(mse)\n",
    "print(\"RMSE Score :\", rmse)\n",
    "\n",
    "r2_score = r2_score(y_test, y_pred3)\n",
    "print(\"R2 Score :\",r2_score)"
   ]
  },
  {
   "cell_type": "code",
   "execution_count": null,
   "metadata": {},
   "outputs": [],
   "source": [
    "# lets create an ensemble by averaging \n",
    "\n",
    "avg_model = (y_pred1 + y_pred2 + y_pred3)/3\n",
    "\n",
    "# lets check the Model accuracy\n",
    "from sklearn.metrics import r2_score, mean_squared_error\n",
    "\n",
    "mse = mean_squared_error(y_test, avg_model)\n",
    "rmse = np.sqrt(mse)\n",
    "print(\"RMSE Score :\", rmse)\n",
    "\n",
    "r2_score = r2_score(y_test, avg_model)\n",
    "print(\"R2 Score :\",r2_score)"
   ]
  },
  {
   "cell_type": "code",
   "execution_count": null,
   "metadata": {},
   "outputs": [],
   "source": [
    "# lets create an weighted averaging model\n",
    "\n",
    "# lets give 50% weight to gradient boosting\n",
    "# 30% weight to random forest\n",
    "# and 20% weight to linear regression\n",
    "\n",
    "weight_avg_model = 0.2*y_pred1 + 0.3*y_pred2 + 0.5*y_pred3\n",
    "\n",
    "# lets check the Model accuracy\n",
    "from sklearn.metrics import r2_score, mean_squared_error\n",
    "\n",
    "mse = mean_squared_error(y_test, weight_avg_model)\n",
    "rmse = np.sqrt(mse)\n",
    "print(\"RMSE Score :\", rmse)\n",
    "\n",
    "r2_score = r2_score(y_test, weight_avg_model)\n",
    "print(\"R2 Score :\",r2_score)"
   ]
  },
  {
   "cell_type": "code",
   "execution_count": null,
   "metadata": {},
   "outputs": [],
   "source": [
    "## lets perform cross validaion\n",
    "\n",
    "from sklearn.model_selection import cross_val_score\n",
    "scores = cross_val_score(model3, x, y, cv=5)\n",
    "print(scores)"
   ]
  },
  {
   "cell_type": "markdown",
   "metadata": {},
   "source": [
    "* as we can see that the scores are not varying much, so we can say that this model is good."
   ]
  },
  {
   "cell_type": "markdown",
   "metadata": {},
   "source": [
    "## Comparison of Models"
   ]
  },
  {
   "cell_type": "code",
   "execution_count": null,
   "metadata": {},
   "outputs": [],
   "source": [
    "r2_score = np.array([0.79, 0.87, 0.89])\n",
    "labels = np.array(['Linear Regression', 'Random Forest' 'Gradient Boosting'])\n",
    "index = np.argsort(r2_score)\n",
    "color = plt.cm.rainbow(np.linspace(0, 1, 4))\n",
    "\n",
    "plt.style.use('fivethirtyeight')\n",
    "plt.rcParams['figure.figsize'] = (4, 4)\n",
    "\n",
    "plt.bar(range(len(index)), r2_score[index], color = color)\n",
    "plt.xticks(range(0, 3), ['Linear Regression', 'Random Forest','Gradient Boosting'], rotation = 90)\n",
    "plt.title('Comparison of r2 Score', fontsize = 15)\n",
    "plt.show()"
   ]
  },
  {
   "cell_type": "markdown",
   "metadata": {},
   "source": [
    "### Use Label Encoder to encode Categorical Columns"
   ]
  },
  {
   "cell_type": "code",
   "execution_count": null,
   "metadata": {},
   "outputs": [],
   "source": [
    "from sklearn.preprocessing import LabelEncoder\n",
    "\n",
    "le = LabelEncoder()\n",
    "data['sex'] = le.fit_transform(data['sex'])\n",
    "data['smoker'] = le.fit_transform(data['smoker'])\n",
    "data['region'] = le.fit_transform(data['region'])\n",
    "\n",
    "# lets check the head again\n",
    "data.head()"
   ]
  },
  {
   "cell_type": "markdown",
   "metadata": {},
   "source": [
    "### Check the Distribution of Expenses Column"
   ]
  },
  {
   "cell_type": "code",
   "execution_count": null,
   "metadata": {},
   "outputs": [],
   "source": [
    "import seaborn as sns\n",
    "sns.distplot(data['expenses'])"
   ]
  },
  {
   "cell_type": "markdown",
   "metadata": {},
   "source": [
    "### Apply Log Transformation into the Expenses Column"
   ]
  },
  {
   "cell_type": "code",
   "execution_count": null,
   "metadata": {},
   "outputs": [],
   "source": [
    "data['expenses'] = np.log1p(data['expenses'])\n",
    "\n",
    "# lets again check the Distribution\n",
    "sns.distplot(data['expenses'])"
   ]
  },
  {
   "cell_type": "markdown",
   "metadata": {},
   "source": [
    "### Apply Splitting"
   ]
  },
  {
   "cell_type": "code",
   "execution_count": null,
   "metadata": {},
   "outputs": [],
   "source": [
    "y = data['expenses']\n",
    "x = data.drop(['expenses'], axis = 1)\n",
    "\n",
    "print(x.shape)\n",
    "print(y.shape)"
   ]
  },
  {
   "cell_type": "code",
   "execution_count": null,
   "metadata": {},
   "outputs": [],
   "source": [
    "# lets perform train test split\n",
    "\n",
    "from sklearn.model_selection import train_test_split\n",
    "\n",
    "x_train, x_test, y_train, y_test = train_test_split(x, y, test_size = 0.2, random_state = 0)\n",
    "print(x_train.shape)\n",
    "print(x_test.shape)\n",
    "print(y_train.shape)\n",
    "print(y_test.shape)"
   ]
  },
  {
   "cell_type": "markdown",
   "metadata": {},
   "source": [
    "### Apply Standard Scaling"
   ]
  },
  {
   "cell_type": "code",
   "execution_count": null,
   "metadata": {},
   "outputs": [],
   "source": [
    "from sklearn.preprocessing import StandardScaler\n",
    "\n",
    "sc = StandardScaler()\n",
    "x_train = sc.fit_transform(x_train)\n",
    "x_test = sc.transform(x_test)"
   ]
  },
  {
   "cell_type": "markdown",
   "metadata": {},
   "source": [
    "### Apply Linear Regression Model"
   ]
  },
  {
   "cell_type": "code",
   "execution_count": null,
   "metadata": {},
   "outputs": [],
   "source": [
    "from sklearn.linear_model import LinearRegression\n",
    "\n",
    "model = LinearRegression()\n",
    "model.fit(x_train, y_train)\n",
    "\n",
    "y_pred = model.predict(x_test)"
   ]
  },
  {
   "cell_type": "markdown",
   "metadata": {},
   "source": [
    "### Evaluate the Model Performance"
   ]
  },
  {
   "cell_type": "code",
   "execution_count": null,
   "metadata": {},
   "outputs": [],
   "source": [
    "from sklearn.metrics import r2_score\n",
    "\n",
    "r2 = r2_score(y_test, y_pred)\n",
    "print(r2)"
   ]
  }
 ],
 "metadata": {
  "kernelspec": {
   "display_name": "Python 3 (ipykernel)",
   "language": "python",
   "name": "python3"
  },
  "language_info": {
   "codemirror_mode": {
    "name": "ipython",
    "version": 3
   },
   "file_extension": ".py",
   "mimetype": "text/x-python",
   "name": "python",
   "nbconvert_exporter": "python",
   "pygments_lexer": "ipython3",
   "version": "3.9.7"
  }
 },
 "nbformat": 4,
 "nbformat_minor": 4
}
