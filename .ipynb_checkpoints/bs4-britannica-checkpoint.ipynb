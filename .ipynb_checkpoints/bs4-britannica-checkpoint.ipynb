{
 "cells": [
  {
   "cell_type": "code",
   "execution_count": 1,
   "metadata": {},
   "outputs": [
    {
     "ename": "AttributeError",
     "evalue": "'NoneType' object has no attribute 'attrs'",
     "output_type": "error",
     "traceback": [
      "\u001b[0;31m---------------------------------------------------------------------------\u001b[0m",
      "\u001b[0;31mAttributeError\u001b[0m                            Traceback (most recent call last)",
      "\u001b[0;32m/var/folders/9q/486czkcn7lv5v0hwbt71twdc0000gn/T/ipykernel_2418/1564731504.py\u001b[0m in \u001b[0;36m<module>\u001b[0;34m\u001b[0m\n\u001b[1;32m      8\u001b[0m \u001b[0mdescription\u001b[0m \u001b[0;34m=\u001b[0m \u001b[0msoup\u001b[0m\u001b[0;34m.\u001b[0m\u001b[0mselect_one\u001b[0m\u001b[0;34m(\u001b[0m\u001b[0;34m'.topic-identifier'\u001b[0m\u001b[0;34m)\u001b[0m\u001b[0;34m.\u001b[0m\u001b[0mtext\u001b[0m\u001b[0;34m\u001b[0m\u001b[0;34m\u001b[0m\u001b[0m\n\u001b[1;32m      9\u001b[0m \u001b[0msummary\u001b[0m \u001b[0;34m=\u001b[0m \u001b[0msoup\u001b[0m\u001b[0;34m.\u001b[0m\u001b[0mselect_one\u001b[0m\u001b[0;34m(\u001b[0m\u001b[0;34m'.topic-paragraph'\u001b[0m\u001b[0;34m)\u001b[0m\u001b[0;34m.\u001b[0m\u001b[0mtext\u001b[0m\u001b[0;34m.\u001b[0m\u001b[0mstrip\u001b[0m\u001b[0;34m(\u001b[0m\u001b[0;34m)\u001b[0m\u001b[0;34m\u001b[0m\u001b[0;34m\u001b[0m\u001b[0m\n\u001b[0;32m---> 10\u001b[0;31m \u001b[0mimage\u001b[0m \u001b[0;34m=\u001b[0m \u001b[0msoup\u001b[0m\u001b[0;34m.\u001b[0m\u001b[0mselect_one\u001b[0m\u001b[0;34m(\u001b[0m\u001b[0;34m'.fact-box-picture img'\u001b[0m\u001b[0;34m)\u001b[0m\u001b[0;34m.\u001b[0m\u001b[0mattrs\u001b[0m\u001b[0;34m[\u001b[0m\u001b[0;34m'src'\u001b[0m\u001b[0;34m]\u001b[0m\u001b[0;34m\u001b[0m\u001b[0;34m\u001b[0m\u001b[0m\n\u001b[0m\u001b[1;32m     11\u001b[0m \u001b[0mbirth\u001b[0m \u001b[0;34m=\u001b[0m \u001b[0msoup\u001b[0m\u001b[0;34m.\u001b[0m\u001b[0mfind\u001b[0m\u001b[0;34m(\u001b[0m\u001b[0mattrs\u001b[0m\u001b[0;34m=\u001b[0m\u001b[0;34m{\u001b[0m\u001b[0;34m'data-label'\u001b[0m\u001b[0;34m:\u001b[0m \u001b[0;34m'born'\u001b[0m\u001b[0;34m}\u001b[0m\u001b[0;34m)\u001b[0m\u001b[0;34m.\u001b[0m\u001b[0mfind\u001b[0m\u001b[0;34m(\u001b[0m\u001b[0;34m'dd'\u001b[0m\u001b[0;34m)\u001b[0m\u001b[0;34m.\u001b[0m\u001b[0mget_text\u001b[0m\u001b[0;34m(\u001b[0m\u001b[0mseparator\u001b[0m\u001b[0;34m=\u001b[0m\u001b[0;34m'|'\u001b[0m\u001b[0;34m)\u001b[0m\u001b[0;34m.\u001b[0m\u001b[0msplit\u001b[0m\u001b[0;34m(\u001b[0m\u001b[0;34m'|'\u001b[0m\u001b[0;34m)\u001b[0m\u001b[0;34m[\u001b[0m\u001b[0;36m0\u001b[0m\u001b[0;34m]\u001b[0m\u001b[0;34m\u001b[0m\u001b[0;34m\u001b[0m\u001b[0m\n\u001b[1;32m     12\u001b[0m \u001b[0mdeath\u001b[0m \u001b[0;34m=\u001b[0m \u001b[0msoup\u001b[0m\u001b[0;34m.\u001b[0m\u001b[0mfind\u001b[0m\u001b[0;34m(\u001b[0m\u001b[0mattrs\u001b[0m\u001b[0;34m=\u001b[0m\u001b[0;34m{\u001b[0m\u001b[0;34m'data-label'\u001b[0m\u001b[0;34m:\u001b[0m \u001b[0;34m'died'\u001b[0m\u001b[0;34m}\u001b[0m\u001b[0;34m)\u001b[0m\u001b[0;34m.\u001b[0m\u001b[0mfind\u001b[0m\u001b[0;34m(\u001b[0m\u001b[0;34m'dd'\u001b[0m\u001b[0;34m)\u001b[0m\u001b[0;34m.\u001b[0m\u001b[0mget_text\u001b[0m\u001b[0;34m(\u001b[0m\u001b[0mseparator\u001b[0m\u001b[0;34m=\u001b[0m\u001b[0;34m'|'\u001b[0m\u001b[0;34m)\u001b[0m\u001b[0;34m.\u001b[0m\u001b[0msplit\u001b[0m\u001b[0;34m(\u001b[0m\u001b[0;34m'|'\u001b[0m\u001b[0;34m)\u001b[0m\u001b[0;34m[\u001b[0m\u001b[0;36m0\u001b[0m\u001b[0;34m]\u001b[0m\u001b[0;34m\u001b[0m\u001b[0;34m\u001b[0m\u001b[0m\n",
      "\u001b[0;31mAttributeError\u001b[0m: 'NoneType' object has no attribute 'attrs'"
     ]
    }
   ],
   "source": [
    "import requests\n",
    "from bs4 import BeautifulSoup\n",
    "import csv\n",
    "\n",
    "website = requests.get('https://www.britannica.com/biography/Mortimer-J-Adler')\n",
    "soup = BeautifulSoup(website.text, 'html.parser')\n",
    "name = soup.select_one('h1').text\n",
    "description = soup.select_one('.topic-identifier').text\n",
    "summary = soup.select_one('.topic-paragraph').text.strip()\n",
    "image = soup.select_one('.fact-box-picture img').attrs['src']\n",
    "birth = soup.find(attrs={'data-label': 'born'}).find('dd').get_text(separator='|').split('|')[0]\n",
    "death = soup.find(attrs={'data-label': 'died'}).find('dd').get_text(separator='|').split('|')[0]\n",
    "subjects_of_study = soup.find(attrs={'data-label': 'subjects of study'}).select_one('ul')\n",
    "subjects_items = subjects_of_study.select('li')\n",
    "subjects = ''\n",
    "for item in subjects_items:\n",
    "\tsubjects += item.text.strip() + ','\n",
    "print(subjects)"
   ]
  },
  {
   "cell_type": "code",
   "execution_count": null,
   "metadata": {},
   "outputs": [],
   "source": [
    "import requests\n",
    "from bs4 import BeautifulSoup\n",
    "import csv\n",
    "\n",
    "try:\n",
    "\twebsite = requests.get('https://www.britannica.com/biography/William-of-Moerbeke')\n",
    "\tsoup = BeautifulSoup(website.text, 'html.parser')\n",
    "\tname = soup.select_one('h1').text\n",
    "\tdescription = soup.select_one('.topic-identifier').text\n",
    "\tsummary = soup.select_one('.topic-paragraph').text.strip()\n",
    "\ttry:\n",
    "\t\timage = soup.select_one('.fact-box-picture img').attrs['src']\n",
    "\texcept AttributeError as error:\n",
    "\t\timage = None\n",
    "\tbirth = soup.find(attrs={'data-label': 'born'}).find('dd').get_text(separator='|').split('|')[0]\n",
    "\tdeath = soup.find(attrs={'data-label': 'died'}).find('dd').get_text(separator='|').split('|')[0]\n",
    "\ttry:\n",
    "\t\tsubjects_of_study = soup.find(attrs={'data-label': 'subjects of study'}).select_one('ul')\n",
    "\t\tsubjects_items = subjects_of_study.select('li')\n",
    "\t\tsubjects = ''\n",
    "\t\tfor item in subjects_items:\n",
    "\t\t\tsubjects += item.text.strip() + ','\n",
    "\texcept AttributeError as error:\n",
    "\t\tsubjects = None\n",
    "\tprint(f'{name}\\n{description}\\n{image}\\n{summary}\\n{birth}\\n{death}\\n{subjects}')\n",
    "except:\n",
    "\tprint('Something went wrong!')"
   ]
  },
  {
   "cell_type": "code",
   "execution_count": null,
   "metadata": {},
   "outputs": [],
   "source": [
    "import requests\n",
    "from bs4 import BeautifulSoup\n",
    "import csv\n",
    "\n",
    "website = requests.get('https://www.britannica.com/topic/list-of-philosophers-2027173')\n",
    "soup = BeautifulSoup(website.text, 'html.parser')\n",
    "links = soup.select('.topic-list .md-crosslink')\n",
    "for link in links[:8]:\n",
    "\ttry:\n",
    "\t\twebsite = requests.get(link.attrs['href'])\n",
    "\t\tsoup = BeautifulSoup(website.text, 'html.parser')\n",
    "\t\tname = soup.select_one('h1').text\n",
    "\t\tdescription = soup.select_one('.topic-identifier').text\n",
    "\t\tsummary = soup.select_one('.topic-paragraph').text.strip()\n",
    "\t\ttry:\n",
    "\t\t\timage = soup.select_one('.fact-box-picture img').attrs['src']\n",
    "\t\texcept AttributeError as error:\n",
    "\t\t\timage = None\n",
    "\t\tbirth = soup.find(attrs={'data-label': 'born'}).find('dd').get_text(separator='|').split('|')[0]\n",
    "\t\tdeath = soup.find(attrs={'data-label': 'died'}).find('dd').get_text(separator='|').split('|')[0]\n",
    "\t\ttry:\n",
    "\t\t\tsubjects_of_study = soup.find(attrs={'data-label': 'subjects of study'}).select_one('ul')\n",
    "\t\t\tsubjects_items = subjects_of_study.select('li')\n",
    "\t\t\tsubjects = ''\n",
    "\t\t\tfor item in subjects_items:\n",
    "\t\t\t\tsubjects += item.text.strip() + ','\n",
    "\t\texcept AttributeError as error:\n",
    "\t\t\tsubjects = None\n",
    "\t\tprint(f'{name}\\n{description}\\n{image}\\n{summary}\\n{birth}\\n{death}\\n{subjects}')\n",
    "\texcept:\n",
    "\t\tprint('Something went wrong!')"
   ]
  }
 ],
 "metadata": {
  "kernelspec": {
   "display_name": "Python 3 (ipykernel)",
   "language": "python",
   "name": "python3"
  },
  "language_info": {
   "codemirror_mode": {
    "name": "ipython",
    "version": 3
   },
   "file_extension": ".py",
   "mimetype": "text/x-python",
   "name": "python",
   "nbconvert_exporter": "python",
   "pygments_lexer": "ipython3",
   "version": "3.9.7"
  }
 },
 "nbformat": 4,
 "nbformat_minor": 4
}
