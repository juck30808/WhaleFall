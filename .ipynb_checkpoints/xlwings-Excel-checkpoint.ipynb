{
 "cells": [
  {
   "cell_type": "markdown",
   "id": "fd5d86fa",
   "metadata": {},
   "source": [
    "## 清空舊檔 Clear file"
   ]
  },
  {
   "cell_type": "code",
   "execution_count": 1,
   "id": "9575c691",
   "metadata": {},
   "outputs": [],
   "source": [
    "from openpyxl import Workbook\n",
    "wb = Workbook()\n",
    "wb.save(\"input/xlwings-sample.xlsx\")"
   ]
  },
  {
   "cell_type": "markdown",
   "id": "e9d6e5f5",
   "metadata": {},
   "source": [
    "https://zhuanlan.zhihu.com/p/259583430\n",
    "\n",
    "https://docs.xlwings.org/en/stable/quickstart.html"
   ]
  },
  {
   "cell_type": "markdown",
   "id": "bf200e6b",
   "metadata": {},
   "source": [
    "## Struction of Workbook "
   ]
  },
  {
   "cell_type": "code",
   "execution_count": 2,
   "id": "ec45b13b",
   "metadata": {
    "scrolled": false
   },
   "outputs": [
    {
     "name": "stdout",
     "output_type": "stream",
     "text": [
      "Requirement already satisfied: xlwings in /Users/jerrychien/opt/anaconda3/lib/python3.9/site-packages (0.24.9)\n",
      "Requirement already satisfied: psutil>=2.0.0 in /Users/jerrychien/opt/anaconda3/lib/python3.9/site-packages (from xlwings) (5.8.0)\n",
      "Requirement already satisfied: appscript>=1.0.1 in /Users/jerrychien/opt/anaconda3/lib/python3.9/site-packages (from xlwings) (1.1.2)\n",
      "Requirement already satisfied: datetime in /Users/jerrychien/opt/anaconda3/lib/python3.9/site-packages (4.4)\n",
      "Requirement already satisfied: pytz in /Users/jerrychien/opt/anaconda3/lib/python3.9/site-packages (from datetime) (2021.3)\n",
      "Requirement already satisfied: zope.interface in /Users/jerrychien/opt/anaconda3/lib/python3.9/site-packages (from datetime) (5.4.0)\n",
      "Requirement already satisfied: setuptools in /Users/jerrychien/opt/anaconda3/lib/python3.9/site-packages (from zope.interface->datetime) (58.0.4)\n"
     ]
    }
   ],
   "source": [
    "!pip install xlwings\n",
    "!pip install datetime"
   ]
  },
  {
   "cell_type": "markdown",
   "id": "dda79d2e",
   "metadata": {},
   "source": [
    "### （1）已存在的文檔案"
   ]
  },
  {
   "cell_type": "code",
   "execution_count": 3,
   "id": "c88960e1",
   "metadata": {},
   "outputs": [],
   "source": [
    "import xlwings as xw\n",
    "\n",
    "# Excel，預設情況為可見, 打開不新建, 打開文件，保存關閉結束\n",
    "app=xw.App(visible=True,add_book=False)\n",
    "app.display_alerts=False\n",
    "app.screen_updating=False\n",
    "\n",
    "wb=app.books.open(r'input/xlwings-sample.xlsx')\n",
    "wb.save()"
   ]
  },
  {
   "cell_type": "markdown",
   "id": "ab294508",
   "metadata": {},
   "source": [
    "### （2）新建文檔"
   ]
  },
  {
   "cell_type": "code",
   "execution_count": 5,
   "id": "d27e4bf9",
   "metadata": {},
   "outputs": [],
   "source": [
    "import xlwings as xw\n",
    "\n",
    "app=xw.App(visible=True,add_book=False)\n",
    "wb=app.books.add()\n",
    "wb.save(r'input/xlwings-sample.xlsx')"
   ]
  },
  {
   "cell_type": "markdown",
   "id": "a8ee8252",
   "metadata": {},
   "source": [
    "### （3）在單元格輸入值"
   ]
  },
  {
   "cell_type": "code",
   "execution_count": 6,
   "id": "52d6d80e",
   "metadata": {},
   "outputs": [],
   "source": [
    "import xlwings as xw\n",
    "\n",
    "app=xw.App(visible=True,add_book=False)\n",
    "wb=app.books.add()\n",
    "\n",
    "# wb就是新建的工作簿(workbook)，下面则对wb的sheet1的A1单元格赋值\n",
    "wb.sheets['工作表1'].range('A1').value='人生'\n",
    "wb.sheets['sheet1'].range('A2').value='苦短'\n",
    "wb.save(r'input/xlwings-sample.xlsx')"
   ]
  },
  {
   "cell_type": "markdown",
   "id": "2ac9a000",
   "metadata": {},
   "source": [
    "### 引用工作薄、工作表和单元格"
   ]
  },
  {
   "cell_type": "code",
   "execution_count": 7,
   "id": "b76a2e7c",
   "metadata": {},
   "outputs": [],
   "source": [
    "wb=xw.books.active"
   ]
  },
  {
   "cell_type": "code",
   "execution_count": 8,
   "id": "2992e58a",
   "metadata": {},
   "outputs": [],
   "source": [
    "sheet = wb.sheets['Sheet1']"
   ]
  },
  {
   "cell_type": "code",
   "execution_count": 9,
   "id": "dda44463",
   "metadata": {},
   "outputs": [
    {
     "data": {
      "text/plain": [
       "'Foo 1'"
      ]
     },
     "execution_count": 9,
     "metadata": {},
     "output_type": "execute_result"
    }
   ],
   "source": [
    "sheet.range('A1').value = 'Foo 1'\n",
    "sheet.range('A1').value"
   ]
  },
  {
   "cell_type": "code",
   "execution_count": 10,
   "id": "926b578e",
   "metadata": {},
   "outputs": [],
   "source": [
    "## Row add A-Z\n",
    "sheet.range('A1').value=[1,2,3]   \n",
    "sheet.range('A1:D1').value = [1,2,3,4] "
   ]
  },
  {
   "cell_type": "code",
   "execution_count": 11,
   "id": "4e9c64e9",
   "metadata": {},
   "outputs": [],
   "source": [
    "## Col Add 1-9\n",
    "sheet.range('A2').options(transpose=True).value = [1,2,3,4]\n",
    "sheet.range('A2:A5').options(transpose=True).value= [1,2,3]              # Col in (A1:A3)"
   ]
  },
  {
   "cell_type": "code",
   "execution_count": 12,
   "id": "b77cb88f",
   "metadata": {},
   "outputs": [],
   "source": [
    "## 2D\n",
    "sheet.range('A8').options(expand='table').value = [[9,9,9],[8,8,8]]  # 2x3\n",
    "sheet.range('A8').expand('table').value = [['a','b','c'],['d','e','f'],['g','h','i']]"
   ]
  },
  {
   "cell_type": "markdown",
   "id": "a4e435a3",
   "metadata": {},
   "source": [
    "## API"
   ]
  },
  {
   "cell_type": "code",
   "execution_count": 13,
   "id": "2d3bb5b0",
   "metadata": {},
   "outputs": [],
   "source": [
    "# Book API\n",
    "wb=xw.books.active\n",
    "\n",
    "wb.fullname               # 絕對路徑 ('/Users/jerrychien/Documents/GitHub/WhaleFall/input/xlwings-sample.xlsx')\n",
    "wb.name                   # 工作簿名稱 ('xlwings-sample.xlsx')\n",
    "wb.save(path=None)        # 保存工作簿，默認為工作簿原路徑\n",
    "#wb.close()               # 關閉工作簿"
   ]
  },
  {
   "cell_type": "code",
   "execution_count": 14,
   "id": "697f0e42",
   "metadata": {},
   "outputs": [
    {
     "data": {
      "text/plain": [
       "<bound method Sheet.delete of <Sheet [xlwings-sample.xlsx]Sheet1>>"
      ]
     },
     "execution_count": 14,
     "metadata": {},
     "output_type": "execute_result"
    }
   ],
   "source": [
    "# Sheet 常用 API\n",
    "sheet = wb.sheets['Sheet1']\n",
    "\n",
    "sheet.activate()\n",
    "sheet.clear()\n",
    "sheet.name\n",
    "sheet.delete "
   ]
  },
  {
   "cell_type": "code",
   "execution_count": 15,
   "id": "23d9217d",
   "metadata": {},
   "outputs": [
    {
     "data": {
      "text/plain": [
       "'=SUM(B1:B5)'"
      ]
     },
     "execution_count": 15,
     "metadata": {},
     "output_type": "execute_result"
    }
   ],
   "source": [
    "# range常用的api\n",
    "\n",
    "rng=xw.Range('A1')\n",
    "\n",
    "rng.add_hyperlink(r'www.google.com','Google','Tips:here')  # URL\n",
    "rng.get_address()         # 取得當前 range 地址 ($A$1')\n",
    "rng.clear_contents()      # Clean up range (delete)\n",
    "rng.clear()               # 清除格式和内容\n",
    "\n",
    "rng.color=(155,155,155)   # 設置 range 的顏色 (gray)\n",
    "rng.color=None            # 清除 range 背景色\n",
    "\n",
    "rng.formula='=SUM(B1:B5)' # formula\n",
    "rng.formula_array         # formula call ('=SUM(B1:B5)')"
   ]
  },
  {
   "cell_type": "code",
   "execution_count": 16,
   "id": "b24ddc4e",
   "metadata": {},
   "outputs": [
    {
     "data": {
      "text/plain": [
       "<Sheet [xlwings-sample.xlsx]Sheet1>"
      ]
     },
     "execution_count": 16,
     "metadata": {},
     "output_type": "execute_result"
    }
   ],
   "source": [
    "rng.column              # 獲得 range 的第一列 (1)\n",
    "rng.columns[0]          # 返回range的第一列\n",
    "rng.columns.count       # 返回range的列数\n",
    "rng.column_width        # 获得列宽\n",
    "rng.columns.autofit()   # 所有列宽度自适应\n",
    "\n",
    "rng.row                 # range的第一行行标\n",
    "rng.rows[0]             # range的第一行\n",
    "rng.rows.count          # range的总行数\n",
    "rng.row_height          # 行的高度，所有行一样高返回行高，不一样返回None\n",
    "rng.rows.autofit()     # 所有行宽度自适应\n",
    "\n",
    "rng.count\n",
    "rng.end('down')         # 返回ctrl + 方向\n",
    "rng.autofit()           # 所有range的大小自适应\n",
    "\n",
    "rng.get_address(row_absolute=True, column_absolute=True,include_sheetname=False, external=False) # 获得单元格的绝对地址\n",
    "rng.width # 返回range的总宽度\n",
    "rng.last_cell # 获得range中右下角最后一个单元格\n",
    "rng.offset(row_offset=0,column_offset=0) # range平移\n",
    "rng.resize(row_size=None,column_size=None) #range进行resize改变range的大小\n",
    "rng.height  # 返回range的总高度\n",
    "rng.shape   # 返回range的行数和列数\n",
    "rng.sheet   # 返回range所在的sheet"
   ]
  },
  {
   "cell_type": "markdown",
   "id": "90404a3f",
   "metadata": {},
   "source": [
    "## Data structure"
   ]
  },
  {
   "cell_type": "code",
   "execution_count": 17,
   "id": "ea2f97ee",
   "metadata": {},
   "outputs": [],
   "source": [
    "## 1D\n",
    "import xlwings as xw\n",
    "\n",
    "sht=xw.sheets.active\n",
    "\n",
    "# 将1，2，3分别写入了A1，B1，C1单元格中\n",
    "sht.range('A1').value=[1,2,3]\n",
    "\n",
    "# 将A1，B1，C1单元格的值存入list1列表中\n",
    "list1=sht.range('A1:C1').value\n",
    "\n",
    "# 将1，2，3分别写入了A1，A2，A3单元格中\n",
    "sht.range('A1').options(transpose=True).value=[1,2,3]\n",
    "\n",
    "# 将A1，A2，A3单元格中值存入list1列表中\n",
    "list1=sht.range('A1:A3').value"
   ]
  },
  {
   "cell_type": "code",
   "execution_count": 20,
   "id": "ca65747f",
   "metadata": {},
   "outputs": [],
   "source": [
    "## 2D\n",
    "\n",
    "# 将a1,a2,a3输入第一列，b1,b2,b3输入第二列\n",
    "list1=[['a1','a2','a3'],['b1','b2','b3']]\n",
    "sht.range('A1').value=list1\n",
    "\n",
    "# 将A1：B3的值赋给二维列表list1\n",
    "list1=sht.range('A1:B3').value"
   ]
  },
  {
   "cell_type": "code",
   "execution_count": 21,
   "id": "255ec379",
   "metadata": {},
   "outputs": [
    {
     "ename": "AttributeError",
     "evalue": "'list' object has no attribute 'sht'",
     "output_type": "error",
     "traceback": [
      "\u001b[0;31m---------------------------------------------------------------------------\u001b[0m",
      "\u001b[0;31mAttributeError\u001b[0m                            Traceback (most recent call last)",
      "\u001b[0;32m/var/folders/9q/486czkcn7lv5v0hwbt71twdc0000gn/T/ipykernel_5845/1218015794.py\u001b[0m in \u001b[0;36m<module>\u001b[0;34m\u001b[0m\n\u001b[1;32m     10\u001b[0m \u001b[0;34m\u001b[0m\u001b[0m\n\u001b[1;32m     11\u001b[0m \u001b[0;31m# 範圍表格\u001b[0m\u001b[0;34m\u001b[0m\u001b[0;34m\u001b[0m\u001b[0m\n\u001b[0;32m---> 12\u001b[0;31m \u001b[0mrng\u001b[0m\u001b[0;34m.\u001b[0m\u001b[0msht\u001b[0m\u001b[0;34m.\u001b[0m\u001b[0mrange\u001b[0m\u001b[0;34m(\u001b[0m\u001b[0;34m'A1'\u001b[0m\u001b[0;34m)\u001b[0m\u001b[0;34m.\u001b[0m\u001b[0mexpand\u001b[0m\u001b[0;34m(\u001b[0m\u001b[0;34m'table'\u001b[0m\u001b[0;34m)\u001b[0m\u001b[0;34m\u001b[0m\u001b[0;34m\u001b[0m\u001b[0m\n\u001b[0m\u001b[1;32m     13\u001b[0m \u001b[0mrng\u001b[0m\u001b[0;34m.\u001b[0m\u001b[0mvalue\u001b[0m\u001b[0;34m=\u001b[0m\u001b[0;34m[\u001b[0m\u001b[0;34m[\u001b[0m\u001b[0;34m'a1'\u001b[0m\u001b[0;34m,\u001b[0m\u001b[0;34m'a2'\u001b[0m\u001b[0;34m,\u001b[0m\u001b[0;34m'a3'\u001b[0m\u001b[0;34m]\u001b[0m\u001b[0;34m,\u001b[0m\u001b[0;34m[\u001b[0m\u001b[0;34m'b1'\u001b[0m\u001b[0;34m,\u001b[0m\u001b[0;34m'b2'\u001b[0m\u001b[0;34m,\u001b[0m\u001b[0;34m'b3'\u001b[0m\u001b[0;34m]\u001b[0m\u001b[0;34m]\u001b[0m\u001b[0;34m\u001b[0m\u001b[0;34m\u001b[0m\u001b[0m\n",
      "\u001b[0;31mAttributeError\u001b[0m: 'list' object has no attribute 'sht'"
     ]
    }
   ],
   "source": [
    "## Select\n",
    "\n",
    "# 第一列\n",
    "rng=sht. range('A1').expand('down')\n",
    "rng.value=['a1','a2','a3']\n",
    "\n",
    "# 第一行\n",
    "rng=sht.range('A1').expand('right')\n",
    "rng=['a1','b1']\n",
    "\n",
    "# 範圍表格\n",
    "rng.sht.range('A1').expand('table')\n",
    "rng.value=[['a1','a2','a3'],['b1','b2','b3']]"
   ]
  },
  {
   "cell_type": "markdown",
   "id": "bf18fb94",
   "metadata": {},
   "source": [
    "## Example"
   ]
  },
  {
   "cell_type": "code",
   "execution_count": 25,
   "id": "acbb4858",
   "metadata": {},
   "outputs": [],
   "source": [
    "# 新建檔案\n",
    "def fun3_4_2():\n",
    "    \"\"\"\n",
    "    visible : Ture：可见excel, False：不可见excel\n",
    "    add_book: True:打开excel并且新建工作簿 , False：不新建工作簿\n",
    "    \"\"\"\n",
    "    app = xw.App(visible=True, add_book=False)\n",
    "    wb = app.books.add()\n",
    "    wb.save('input/xlwings-example.xlsx')\n",
    "    wb.close()\n",
    "    app.quit()"
   ]
  },
  {
   "cell_type": "code",
   "execution_count": 24,
   "id": "60297b8d",
   "metadata": {},
   "outputs": [],
   "source": [
    "fun3_4_2()"
   ]
  },
  {
   "cell_type": "code",
   "execution_count": 27,
   "id": "69662684",
   "metadata": {},
   "outputs": [],
   "source": [
    "# 另存新檔\n",
    "def fun3_4_3():\n",
    "    app = xw.App(visible=True, add_book=False)\n",
    "    app.display_alerts = False\n",
    "    app.screen_updating = False\n",
    "\n",
    "    wb=app.books.open('input/xlwings-example.xlsx')\n",
    "    wb.save('input/xlwings-example2.xlsx')\n",
    "    wb.close() \n",
    "    app.quit()"
   ]
  },
  {
   "cell_type": "code",
   "execution_count": 28,
   "id": "2a3eb849",
   "metadata": {},
   "outputs": [],
   "source": [
    "fun3_4_3()"
   ]
  },
  {
   "cell_type": "code",
   "execution_count": 35,
   "id": "9b380ae9",
   "metadata": {},
   "outputs": [],
   "source": [
    "#  3.4.4 xlwings读写 Excel\n",
    "def fun3_4_4():\n",
    "    # 新建Excle 默认设置：程序可见，只打开不新建工作薄，屏幕更新关闭\n",
    "    app = xw.App(visible=True, add_book=False)\n",
    "    app.display_alerts = False\n",
    "    app.screen_updating = False\n",
    "    \n",
    "    wb=app.books.open('input/xlwings-example.xlsx')\n",
    "\n",
    "    # 获取sheet对象\n",
    "    print(wb.sheets)\n",
    "    sheet = wb.sheets[0]\n",
    "    # sheet = wb.sheets[\"sheet1\"]\n",
    "\n",
    "    # 清除单元格内容和格式\n",
    "    sheet.range('A1').clear()\n",
    "\n",
    "    # 写入单元格\n",
    "    sheet.range('A1').value = \"xlwings Hello\"\n",
    "    \n",
    "    # 读取Excel信息\n",
    "    cellB1_value = sheet.range('A1').value\n",
    "    print(\"A1内容为：\",cellB1_value)\n",
    "\n",
    "    wb.save('input/xlwings-example3.xlsx')\n",
    "    wb.close()\n",
    "    app.quit()"
   ]
  },
  {
   "cell_type": "code",
   "execution_count": 36,
   "id": "972a2d84",
   "metadata": {},
   "outputs": [
    {
     "name": "stdout",
     "output_type": "stream",
     "text": [
      "Sheets([<Sheet [xlwings-example.xlsx]Sheet1>])\n",
      "A1内容为： xlwings Hello\n"
     ]
    }
   ],
   "source": [
    "fun3_4_4()"
   ]
  },
  {
   "cell_type": "code",
   "execution_count": null,
   "id": "cc6bc0f6",
   "metadata": {},
   "outputs": [],
   "source": []
  }
 ],
 "metadata": {
  "kernelspec": {
   "display_name": "Python 3 (ipykernel)",
   "language": "python",
   "name": "python3"
  },
  "language_info": {
   "codemirror_mode": {
    "name": "ipython",
    "version": 3
   },
   "file_extension": ".py",
   "mimetype": "text/x-python",
   "name": "python",
   "nbconvert_exporter": "python",
   "pygments_lexer": "ipython3",
   "version": "3.9.7"
  }
 },
 "nbformat": 4,
 "nbformat_minor": 5
}
