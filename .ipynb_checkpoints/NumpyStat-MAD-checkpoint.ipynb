{
 "cells": [
  {
   "cell_type": "markdown",
   "metadata": {},
   "source": [
    "## Numpy Statistical Functions"
   ]
  },
  {
   "cell_type": "markdown",
   "metadata": {},
   "source": [
    "### Spread"
   ]
  },
  {
   "cell_type": "markdown",
   "metadata": {},
   "source": [
    "#### Mean Absolute Deviation"
   ]
  },
  {
   "cell_type": "markdown",
   "metadata": {},
   "source": [
    "##### <center>Average of Absolute Deviations</center>\n",
    "### <center>Formula</center>\n",
    "## $$MAD = \\frac{\\sum_{i=1}^{N} |x_i - \\mu|}{N}$$\n",
    "<center><i> N: no.of observations <br> </i></center>\n",
    "<center><i> $x_i$ : value of ith observation</i></center>\n",
    "<center><i> $\\mu$ : Mean</i></center>"
   ]
  },
  {
   "cell_type": "code",
   "execution_count": 1,
   "metadata": {},
   "outputs": [],
   "source": [
    "import numpy as np"
   ]
  },
  {
   "cell_type": "markdown",
   "metadata": {},
   "source": [
    "1D Array"
   ]
  },
  {
   "cell_type": "code",
   "execution_count": 2,
   "metadata": {},
   "outputs": [],
   "source": [
    "y = np.array([4, 8, 10, 12, 15, 19, 20, 24])"
   ]
  },
  {
   "cell_type": "code",
   "execution_count": 3,
   "metadata": {},
   "outputs": [
    {
     "data": {
      "text/plain": [
       "14.0"
      ]
     },
     "execution_count": 3,
     "metadata": {},
     "output_type": "execute_result"
    }
   ],
   "source": [
    "#compute mean\n",
    "mean= np.mean(y)\n",
    "mean"
   ]
  },
  {
   "cell_type": "code",
   "execution_count": 4,
   "metadata": {},
   "outputs": [
    {
     "data": {
      "text/plain": [
       "array([10.,  6.,  4.,  2.,  1.,  5.,  6., 10.])"
      ]
     },
     "execution_count": 4,
     "metadata": {},
     "output_type": "execute_result"
    }
   ],
   "source": [
    "#compute absolute difference\n",
    "abs_diff = np.abs(y - mean)\n",
    "abs_diff"
   ]
  },
  {
   "cell_type": "code",
   "execution_count": 5,
   "metadata": {},
   "outputs": [
    {
     "name": "stdout",
     "output_type": "stream",
     "text": [
      "Mean Absolute Deviation: 5.5\n"
     ]
    }
   ],
   "source": [
    "#compute MAD\n",
    "mad = np.mean(abs_diff) \n",
    "print('Mean Absolute Deviation:',mad)"
   ]
  },
  {
   "cell_type": "code",
   "execution_count": 6,
   "metadata": {},
   "outputs": [],
   "source": [
    "def compute_mad_1D(arr):\n",
    "    mean = np.mean(arr)\n",
    "    abs_diff = np.abs(arr - mean)\n",
    "    mad  = np.mean(abs_diff) \n",
    "    return mad"
   ]
  },
  {
   "cell_type": "code",
   "execution_count": 7,
   "metadata": {},
   "outputs": [
    {
     "data": {
      "text/plain": [
       "5.5"
      ]
     },
     "execution_count": 7,
     "metadata": {},
     "output_type": "execute_result"
    }
   ],
   "source": [
    "compute_mad_1D(y)"
   ]
  },
  {
   "cell_type": "markdown",
   "metadata": {},
   "source": [
    "2D Array"
   ]
  },
  {
   "cell_type": "code",
   "execution_count": 8,
   "metadata": {},
   "outputs": [
    {
     "data": {
      "text/plain": [
       "array([[93, 76, 31, 88],\n",
       "       [23, 77, 42, 45],\n",
       "       [95, 22, 91, 30],\n",
       "       [68, 95, 42, 59],\n",
       "       [92, 90, 80, 62],\n",
       "       [45, 99, 33, 24],\n",
       "       [56, 77, 16, 97]])"
      ]
     },
     "execution_count": 8,
     "metadata": {},
     "output_type": "execute_result"
    }
   ],
   "source": [
    "np.random.seed(5)\n",
    "x= np.random.randint(low=15,high=100,size=(7,4))\n",
    "x"
   ]
  },
  {
   "cell_type": "markdown",
   "metadata": {},
   "source": [
    "Problem with return structure of numpy statistical functions like np.mean()\n",
    "and solution for the same"
   ]
  },
  {
   "cell_type": "markdown",
   "metadata": {},
   "source": [
    "np.mean() always returns in row structure for both axis=0 and axis=1 cases. The subsequent subtraction operation ( x - mean) does not work for axis=1 when row structure is returned"
   ]
  },
  {
   "cell_type": "code",
   "execution_count": 9,
   "metadata": {},
   "outputs": [
    {
     "name": "stdout",
     "output_type": "stream",
     "text": [
      "mean\n",
      "[67.42857143 76.57142857 47.85714286 57.85714286]\n"
     ]
    },
    {
     "data": {
      "text/plain": [
       "array([[25.57142857,  0.57142857, 16.85714286, 30.14285714],\n",
       "       [44.42857143,  0.42857143,  5.85714286, 12.85714286],\n",
       "       [27.57142857, 54.57142857, 43.14285714, 27.85714286],\n",
       "       [ 0.57142857, 18.42857143,  5.85714286,  1.14285714],\n",
       "       [24.57142857, 13.42857143, 32.14285714,  4.14285714],\n",
       "       [22.42857143, 22.42857143, 14.85714286, 33.85714286],\n",
       "       [11.42857143,  0.42857143, 31.85714286, 39.14285714]])"
      ]
     },
     "execution_count": 9,
     "metadata": {},
     "output_type": "execute_result"
    }
   ],
   "source": [
    "#for axis=0, numpy subtraction works fine\n",
    "mean = np.mean(x,axis=0)\n",
    "print('mean')\n",
    "print(mean)\n",
    "np.abs(x - mean)"
   ]
  },
  {
   "cell_type": "code",
   "execution_count": 10,
   "metadata": {},
   "outputs": [
    {
     "data": {
      "text/plain": [
       "array([25.57142857, 44.42857143, 27.57142857,  0.57142857, 24.57142857,\n",
       "       22.42857143, 11.42857143])"
      ]
     },
     "execution_count": 10,
     "metadata": {},
     "output_type": "execute_result"
    }
   ],
   "source": [
    "#check one sample column whether it worked\n",
    "np.abs(x[:,0] - 67.42857143)"
   ]
  },
  {
   "cell_type": "code",
   "execution_count": 11,
   "metadata": {},
   "outputs": [
    {
     "name": "stdout",
     "output_type": "stream",
     "text": [
      "[[72.  ]\n",
      " [46.75]\n",
      " [59.5 ]\n",
      " [66.  ]\n",
      " [81.  ]\n",
      " [50.25]\n",
      " [61.5 ]]\n"
     ]
    },
    {
     "data": {
      "text/plain": [
       "array([[21.  ,  4.  , 41.  , 16.  ],\n",
       "       [23.75, 30.25,  4.75,  1.75],\n",
       "       [35.5 , 37.5 , 31.5 , 29.5 ],\n",
       "       [ 2.  , 29.  , 24.  ,  7.  ],\n",
       "       [11.  ,  9.  ,  1.  , 19.  ],\n",
       "       [ 5.25, 48.75, 17.25, 26.25],\n",
       "       [ 5.5 , 15.5 , 45.5 , 35.5 ]])"
      ]
     },
     "execution_count": 11,
     "metadata": {},
     "output_type": "execute_result"
    }
   ],
   "source": [
    "#if you dont set keepdims=True, np.mean still returns single row format\n",
    "# and (x - mean) operation will throw error\n",
    "mean = np.mean(x,axis=1, keepdims=True)\n",
    "print(mean)\n",
    "np.abs(x - mean)"
   ]
  },
  {
   "cell_type": "code",
   "execution_count": 12,
   "metadata": {},
   "outputs": [
    {
     "data": {
      "text/plain": [
       "array([21,  4, 41, 16])"
      ]
     },
     "execution_count": 12,
     "metadata": {},
     "output_type": "execute_result"
    }
   ],
   "source": [
    "#check one sample row whether it worked\n",
    "np.abs(x[0,:] - 72)"
   ]
  },
  {
   "cell_type": "code",
   "execution_count": 13,
   "metadata": {},
   "outputs": [],
   "source": [
    "def compute_mad(arr,axis=None):\n",
    "    # by default numpy statistical functions return in aggregate row format\n",
    "    # and this can cause problem when axis=1 is used and the result is passed\n",
    "    # to other numpy operations like arithmetic operations\n",
    "    \n",
    "    # to solve the problem \"keepdims\" argment is set so that the output format\n",
    "    # will be adjusted according to the axis argment.\n",
    "    # for axis=1, it will return single column with multiple rows\n",
    "    mean = np.mean(arr,axis=axis,keepdims=True)\n",
    "    print('Mean')\n",
    "    print(mean)\n",
    "    abs_diff = np.abs(arr-mean)\n",
    "    print()\n",
    "    print('Absolute difference')\n",
    "    print(abs_diff)\n",
    "    mad  = np.mean(abs_diff,axis=axis) \n",
    "    return mad"
   ]
  },
  {
   "cell_type": "code",
   "execution_count": 14,
   "metadata": {},
   "outputs": [
    {
     "data": {
      "text/plain": [
       "array([[93, 76, 31, 88],\n",
       "       [23, 77, 42, 45],\n",
       "       [95, 22, 91, 30],\n",
       "       [68, 95, 42, 59],\n",
       "       [92, 90, 80, 62],\n",
       "       [45, 99, 33, 24],\n",
       "       [56, 77, 16, 97]])"
      ]
     },
     "execution_count": 14,
     "metadata": {},
     "output_type": "execute_result"
    }
   ],
   "source": [
    "x"
   ]
  },
  {
   "cell_type": "code",
   "execution_count": 15,
   "metadata": {},
   "outputs": [
    {
     "name": "stdout",
     "output_type": "stream",
     "text": [
      "Mean\n",
      "[[67.42857143 76.57142857 47.85714286 57.85714286]]\n",
      "\n",
      "Absolute difference\n",
      "[[25.57142857  0.57142857 16.85714286 30.14285714]\n",
      " [44.42857143  0.42857143  5.85714286 12.85714286]\n",
      " [27.57142857 54.57142857 43.14285714 27.85714286]\n",
      " [ 0.57142857 18.42857143  5.85714286  1.14285714]\n",
      " [24.57142857 13.42857143 32.14285714  4.14285714]\n",
      " [22.42857143 22.42857143 14.85714286 33.85714286]\n",
      " [11.42857143  0.42857143 31.85714286 39.14285714]]\n",
      "\n",
      "Mean Absolute Deviation: [22.36734694 15.75510204 21.51020408 21.30612245]\n"
     ]
    }
   ],
   "source": [
    "mad = compute_mad(x,axis=0)\n",
    "print('\\nMean Absolute Deviation:',mad)"
   ]
  },
  {
   "cell_type": "code",
   "execution_count": 16,
   "metadata": {},
   "outputs": [
    {
     "data": {
      "text/plain": [
       "array([[93, 76, 31, 88],\n",
       "       [23, 77, 42, 45],\n",
       "       [95, 22, 91, 30],\n",
       "       [68, 95, 42, 59],\n",
       "       [92, 90, 80, 62],\n",
       "       [45, 99, 33, 24],\n",
       "       [56, 77, 16, 97]])"
      ]
     },
     "execution_count": 16,
     "metadata": {},
     "output_type": "execute_result"
    }
   ],
   "source": [
    "x"
   ]
  },
  {
   "cell_type": "code",
   "execution_count": 17,
   "metadata": {},
   "outputs": [
    {
     "name": "stdout",
     "output_type": "stream",
     "text": [
      "Mean\n",
      "[[72.  ]\n",
      " [46.75]\n",
      " [59.5 ]\n",
      " [66.  ]\n",
      " [81.  ]\n",
      " [50.25]\n",
      " [61.5 ]]\n",
      "\n",
      "Absolute difference\n",
      "[[21.    4.   41.   16.  ]\n",
      " [23.75 30.25  4.75  1.75]\n",
      " [35.5  37.5  31.5  29.5 ]\n",
      " [ 2.   29.   24.    7.  ]\n",
      " [11.    9.    1.   19.  ]\n",
      " [ 5.25 48.75 17.25 26.25]\n",
      " [ 5.5  15.5  45.5  35.5 ]]\n",
      "\n",
      "Mean Absolute Deviation: [20.5   15.125 33.5   15.5   10.    24.375 25.5  ]\n"
     ]
    }
   ],
   "source": [
    "mad = compute_mad(x,axis=1)\n",
    "print('\\nMean Absolute Deviation:',mad)"
   ]
  },
  {
   "cell_type": "code",
   "execution_count": 18,
   "metadata": {},
   "outputs": [
    {
     "data": {
      "text/plain": [
       "array([[93, 76, 31, 88],\n",
       "       [23, 77, 42, 45],\n",
       "       [95, 22, 91, 30],\n",
       "       [68, 95, 42, 59],\n",
       "       [92, 90, 80, 62],\n",
       "       [45, 99, 33, 24],\n",
       "       [56, 77, 16, 97]])"
      ]
     },
     "execution_count": 18,
     "metadata": {},
     "output_type": "execute_result"
    }
   ],
   "source": [
    "x"
   ]
  },
  {
   "cell_type": "code",
   "execution_count": 19,
   "metadata": {},
   "outputs": [
    {
     "name": "stdout",
     "output_type": "stream",
     "text": [
      "Mean\n",
      "[[62.42857143]]\n",
      "\n",
      "Absolute difference\n",
      "[[30.57142857 13.57142857 31.42857143 25.57142857]\n",
      " [39.42857143 14.57142857 20.42857143 17.42857143]\n",
      " [32.57142857 40.42857143 28.57142857 32.42857143]\n",
      " [ 5.57142857 32.57142857 20.42857143  3.42857143]\n",
      " [29.57142857 27.57142857 17.57142857  0.42857143]\n",
      " [17.42857143 36.57142857 29.42857143 38.42857143]\n",
      " [ 6.42857143 14.57142857 46.42857143 34.57142857]]\n",
      "\n",
      "Mean Absolute Deviation: 24.571428571428573\n"
     ]
    }
   ],
   "source": [
    "#MAD for axis=None\n",
    "mad = compute_mad(x)\n",
    "print('\\nMean Absolute Deviation:',mad)"
   ]
  }
 ],
 "metadata": {
  "kernelspec": {
   "display_name": "Python 3 (ipykernel)",
   "language": "python",
   "name": "python3"
  },
  "language_info": {
   "codemirror_mode": {
    "name": "ipython",
    "version": 3
   },
   "file_extension": ".py",
   "mimetype": "text/x-python",
   "name": "python",
   "nbconvert_exporter": "python",
   "pygments_lexer": "ipython3",
   "version": "3.9.7"
  }
 },
 "nbformat": 4,
 "nbformat_minor": 2
}
