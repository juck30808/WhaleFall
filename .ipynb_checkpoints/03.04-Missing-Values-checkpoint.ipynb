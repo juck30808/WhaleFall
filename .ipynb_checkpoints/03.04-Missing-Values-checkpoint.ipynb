{
 "cells": [
  {
   "cell_type": "markdown",
   "metadata": {},
   "source": [
    "#### <!--NAVIGATION-->\n",
    "< [在Pandas中操作数据](03.03-Operations-in-Pandas.ipynb) | [目录](Index.ipynb) | [层次化的索引](03.05-Hierarchical-Indexing.ipynb) >\n",
    "\n",
    "<a href=\"https://colab.research.google.com/github/wangyingsm/Python-Data-Science-Handbook/blob/master/notebooks/03.04-Missing-Values.ipynb\"><img align=\"left\" src=\"https://colab.research.google.com/assets/colab-badge.svg\" alt=\"Open in Colab\" title=\"Open and Execute in Google Colaboratory\"></a>\n"
   ]
  },
  {
   "cell_type": "markdown",
   "metadata": {},
   "source": [
    "# Handling Missing Data\n",
    "\n",
    "# 處理缺失數據"
   ]
  },
  {
   "cell_type": "markdown",
   "metadata": {},
   "source": [
    "> The difference between data found in many tutorials and data in the real world is that real-world data is rarely clean and homogeneous. In particular, many interesting datasets will have some amount of data missing.\n",
    "To make matters even more complicated, different data sources may indicate missing data in different ways. we'll refer to missing data in general as *null*, *NaN*, or *NA* values.\n",
    "\n",
    "我們在許多教程裡面看到的數據和真實的數據的區別就是真實的數據很少是乾淨和同質的。更尋常的情況是，很多有意思的數據集都有很多的數據缺失。更複雜的是，不同的數據源可能有著不同指代缺失數據的方式，我們會將這些缺失數據標示為*null*、*NaN*或*NA*。"
   ]
  },
  {
   "cell_type": "markdown",
   "metadata": {},
   "source": [
    "## Trade-Offs in Missing Data Conventions\n",
    "\n",
    "## 缺失數據約定的權衡\n",
    "\n",
    "> There are a number of schemes that have been developed to indicate the presence of missing data in a table or DataFrame.\n",
    "Generally, they revolve around one of two strategies: using a *mask* that globally indicates missing values, or choosing a *sentinel value* that indicates a missing entry.\n",
    "\n",
    "用來在數據表或DataFrame中指定和標示缺失數據的方案有很多種。通常來說，會有兩種主要的策略：\n",
    "- 使用一個全局的*遮蓋*來標示缺失數據：遮蓋層可以是一整個獨立的布林數組，又或者可以在數據中使用一個比特標示空值。\n",
    "- 使用*哨兵值*來標示缺失的元素：哨兵值是某種數據特定的約定值，例如用-9999標示一個缺失的整數或者其他罕見的數值，又或者使用更加通用的方式，比方說 NaN（非數字），NaN是IEEE浮點數標準中的一部分。\n",
    "\n",
    "> None of these approaches is without trade-offs: use of a separate mask array requires allocation of an additional Boolean array, which adds overhead in both storage and computation. A sentinel value reduces the range of valid values that can be represented, and may require extra (often non-optimized) logic in CPU and GPU arithmetic. Common special values like NaN are not available for all data types.\n",
    "\n",
    "以上解決方案都是有所取捨的：獨立的遮蓋數組需要更多的內存空間用於存儲布爾數組；普通的哨兵值會縮小正確數據的取值範圍，而且需要額外的（通常是未優化的）CPU和GPU運算；通用的特殊值如NaN又無法應用於所有的數據類型上。\n",
    "\n",
    "> With these constraints in mind, Pandas chose to use sentinels for missing data, and further chose to use two already-existing Python null values: the special floating-point ``NaN`` value, and the Python ``None`` object.\n",
    "This choice has some side effects, as we will see, but in practice ends up being a good compromise in most cases of interest.\n",
    "\n",
    "Pandas選擇了通用哨兵值標示缺失值。更進一步說就是，使用兩個已經存在的Python空值：`NaN`代表特殊的浮點數值和Python的`None`對象。這種做法當然也有一些副作用，我們後面也會看到，但是在實踐中它被證明在大多數情況下都是一個較好的折中方案。"
   ]
  },
  {
   "cell_type": "markdown",
   "metadata": {},
   "source": [
    "### ``None``: Pythonic missing data\n",
    "### `None`：Python的缺失值\n",
    "\n",
    "> The first sentinel value used by Pandas is ``None``, a Python singleton object that is often used for missing data in Python code.\n",
    "Because it is a Python object, ``None`` cannot be used in any arbitrary NumPy/Pandas array, but only in arrays with data type ``'object'`` (i.e., arrays of Python objects):\n",
    "\n",
    "第一個被Pandas使用的缺失哨兵值是`None`，它是一個Python的單例對象，很多情況下它都作為Python代碼中缺失值的標誌。因為這是一個Python對象，`None`不能在任意的NumPy或Pandas數組中使用，它只能在數組的數據類型是`object`的情況下使用（例如，Python對象組成的數組）："
   ]
  },
  {
   "cell_type": "code",
   "execution_count": 1,
   "metadata": {},
   "outputs": [
    {
     "data": {
      "text/plain": [
       "array([1, None, 3, 4], dtype=object)"
      ]
     },
     "execution_count": 1,
     "metadata": {},
     "output_type": "execute_result"
    }
   ],
   "source": [
    "import numpy as np\n",
    "import pandas as pd\n",
    "\n",
    "vals1 = np.array([1, None, 3, 4])\n",
    "vals1"
   ]
  },
  {
   "cell_type": "markdown",
   "metadata": {},
   "source": [
    "> This ``dtype=object`` means that the best common type representation NumPy could infer for the contents of the array is that they are Python objects.\n",
    "While this kind of object array is useful for some purposes, any operations on the data will be done at the Python level, with much more overhead than the typically fast operations seen for arrays with native types:\n",
    "\n",
    "這裡的`dtype=object`表示這個NumPy數組的元素類型是Python的對象。雖然這種類型的對像數組在某些場景中很有用，任何數據的操作都會在Python層面進行，這會比NumPy其他基礎類型進行的快速操作消耗更多的執行時間："
   ]
  },
  {
   "cell_type": "code",
   "execution_count": 2,
   "metadata": {},
   "outputs": [
    {
     "name": "stdout",
     "output_type": "stream",
     "text": [
      "dtype = object\n",
      "42 ms ± 338 µs per loop (mean ± std. dev. of 7 runs, 10 loops each)\n",
      "\n",
      "dtype = int\n",
      "586 µs ± 12.9 µs per loop (mean ± std. dev. of 7 runs, 1000 loops each)\n",
      "\n"
     ]
    }
   ],
   "source": [
    "for dtype in ['object', 'int']:\n",
    "    print(\"dtype =\", dtype)\n",
    "    %timeit np.arange(1E6, dtype=dtype).sum()\n",
    "    print()"
   ]
  },
  {
   "cell_type": "markdown",
   "metadata": {},
   "source": [
    "> The use of Python objects in an array also means that if you perform aggregations like ``sum()`` or ``min()`` across an array with a ``None`` value, you will generally get an error:\n",
    "\n",
    "而且使用Python對像作為數組數據類型的話，當使用聚合操作如`sum()`或`min()`的時候，如果碰到了`None`值，那就會產生一個錯誤："
   ]
  },
  {
   "cell_type": "code",
   "execution_count": 4,
   "metadata": {
    "scrolled": true
   },
   "outputs": [],
   "source": [
    "#vals1.sum()"
   ]
  },
  {
   "cell_type": "markdown",
   "metadata": {},
   "source": [
    "### ``NaN``: Missing numerical data\n",
    "\n",
    "### `NaN`：缺失的數值類型數據\n",
    "\n",
    "> The other missing data representation, ``NaN`` (acronym for *Not a Number*), is different; Notice that NumPy chose a native floating-point type for this array: this array supports fast operations pushed into compiled code.You should be aware that ``NaN`` is a bit like a data virus–it infects any other object it touches.Regardless of the operation, the result of arithmetic with ``NaN`` will be another ``NaN``:\n",
    "\n",
    "另外一個缺失的數據表現形式`NaN`（*非數字*的縮寫），NumPy使用原始的浮點類型來存儲這個數組：這個數組支持使用編譯代碼來進行快速運算。你應該了解到`NaN`就像一個數據的病毒，它會傳染到任何接觸到的數據。不論運算是哪種類型，`NaN`參與的算術運算的結果都會是另一個`NaN`"
   ]
  },
  {
   "cell_type": "code",
   "execution_count": 5,
   "metadata": {},
   "outputs": [
    {
     "data": {
      "text/plain": [
       "dtype('float64')"
      ]
     },
     "execution_count": 5,
     "metadata": {},
     "output_type": "execute_result"
    }
   ],
   "source": [
    "vals2 = np.array([1, np.nan, 3, 4]) \n",
    "vals2.dtype"
   ]
  },
  {
   "cell_type": "code",
   "execution_count": 6,
   "metadata": {},
   "outputs": [
    {
     "data": {
      "text/plain": [
       "nan"
      ]
     },
     "execution_count": 6,
     "metadata": {},
     "output_type": "execute_result"
    }
   ],
   "source": [
    "1 + np.nan"
   ]
  },
  {
   "cell_type": "code",
   "execution_count": 7,
   "metadata": {},
   "outputs": [
    {
     "data": {
      "text/plain": [
       "nan"
      ]
     },
     "execution_count": 7,
     "metadata": {},
     "output_type": "execute_result"
    }
   ],
   "source": [
    "0 *  np.nan"
   ]
  },
  {
   "cell_type": "code",
   "execution_count": 8,
   "metadata": {},
   "outputs": [
    {
     "data": {
      "text/plain": [
       "(nan, nan, nan)"
      ]
     },
     "execution_count": 8,
     "metadata": {},
     "output_type": "execute_result"
    }
   ],
   "source": [
    "vals2.sum(), vals2.min(), vals2.max()"
   ]
  },
  {
   "cell_type": "markdown",
   "metadata": {},
   "source": [
    "> NumPy does provide some special aggregations that will ignore these missing values: Keep in mind that ``NaN`` is specifically a floating-point value; there is no equivalent NaN value for integers, strings, or other types.\n",
    "\n",
    "NumPy還提供了一些特殊的聚合函數可以用來忽略這些缺失值：請記住`NaN`是一個特殊的浮點數值；對於整數、字符串或者其他類型來說都沒有對應的值。"
   ]
  },
  {
   "cell_type": "code",
   "execution_count": 9,
   "metadata": {},
   "outputs": [
    {
     "data": {
      "text/plain": [
       "(8.0, 1.0, 4.0)"
      ]
     },
     "execution_count": 9,
     "metadata": {},
     "output_type": "execute_result"
    }
   ],
   "source": [
    "np.nansum(vals2), np.nanmin(vals2), np.nanmax(vals2) "
   ]
  },
  {
   "cell_type": "markdown",
   "metadata": {},
   "source": [
    "### NaN and None in Pandas\n",
    "\n",
    "### Pandas中的NaN和None\n",
    "\n",
    "> ``NaN`` and ``None`` both have their place, and Pandas is built to handle the two of them nearly interchangeably, converting between them where appropriate:\n",
    "\n",
    "`NaN`和`None`在Pandas都可以使用，而且Pandas基本上將兩者進行等同處理，可以在合適的情況下互相轉換："
   ]
  },
  {
   "cell_type": "code",
   "execution_count": 10,
   "metadata": {},
   "outputs": [
    {
     "data": {
      "text/plain": [
       "0    1.0\n",
       "1    NaN\n",
       "2    2.0\n",
       "3    NaN\n",
       "dtype: float64"
      ]
     },
     "execution_count": 10,
     "metadata": {},
     "output_type": "execute_result"
    }
   ],
   "source": [
    "pd.Series([1, np.nan, 2, None])"
   ]
  },
  {
   "cell_type": "markdown",
   "metadata": {},
   "source": [
    "> For types that don't have an available sentinel value, Pandas automatically type-casts when NA values are present.\n",
    "For example, if we set a value in an integer array to ``np.nan``, it will automatically be upcast to a floating-point type to accommodate the NA:\n",
    "\n",
    "對於哪些沒有通用哨兵值的類型，Pandas在發現出現了NA值的情況下會自動對它們進行類型轉換。例如，如果我們在一個整數數組中設置了一個`np.nan`值，整個數組會自動向上擴展為浮點類型："
   ]
  },
  {
   "cell_type": "code",
   "execution_count": 11,
   "metadata": {},
   "outputs": [
    {
     "data": {
      "text/plain": [
       "0    0\n",
       "1    1\n",
       "dtype: int64"
      ]
     },
     "execution_count": 11,
     "metadata": {},
     "output_type": "execute_result"
    }
   ],
   "source": [
    "x = pd.Series(range(2), dtype=int)\n",
    "x"
   ]
  },
  {
   "cell_type": "code",
   "execution_count": 12,
   "metadata": {},
   "outputs": [
    {
     "data": {
      "text/plain": [
       "0    NaN\n",
       "1    1.0\n",
       "dtype: float64"
      ]
     },
     "execution_count": 12,
     "metadata": {},
     "output_type": "execute_result"
    }
   ],
   "source": [
    "x[0] = None\n",
    "x"
   ]
  },
  {
   "cell_type": "markdown",
   "metadata": {},
   "source": [
    "> Notice that in addition to casting the integer array to floating point, Pandas automatically converts the ``None`` to a ``NaN`` value.\n",
    "\n",
    "上述例子中除了將整數類型轉換為浮點數類型之外，Pandas還自動將`None`轉換成了`NaN`值。\n",
    "\n",
    "> While this type of magic may feel a bit hackish compared to the more unified approach to NA values in domain-specific languages like R, the Pandas sentinel/casting approach works quite well in practice and in my experience only rarely causes issues.\n",
    "\n",
    "雖然這種解決方案對比起類似R語言那樣使用統一的NA值來標示的方案來說，顯得有點像魔術。但是Pandas的這種哨兵+類型轉換的方式在實踐中運行良好，而且在作者的經驗中，很少導致問題。\n",
    "\n",
    "> The following table lists the upcasting conventions in Pandas when NA values are introduced:Keep in mind that in Pandas, string data is always stored with an ``object`` dtype.\n",
    "\n",
    "下表列出了Pandas在出現NA值的時候向上類型擴展的規則：在Pandas中，字符串數據總是使用`object`類型存儲的。\n",
    "\n",
    "|大類型     | 當NA值存在時轉換規則 | NA哨兵值      |\n",
    "|--------------|-----------------------------|------------------------|\n",
    "| ``浮點數`` | 保持不變                   | ``np.nan``             |\n",
    "| ``object``   | 保持不變                   | ``None`` 或 ``np.nan`` |\n",
    "| ``整數``  | 轉換為``float64``         | ``np.nan``             |\n",
    "| ``布爾``  | 轉換為``object``          | ``None`` 或 ``np.nan`` |"
   ]
  },
  {
   "cell_type": "markdown",
   "metadata": {},
   "source": [
    "## Operating on Null Values\n",
    "\n",
    "## 操作空值\n",
    "\n",
    "> As we have seen, Pandas treats ``None`` and ``NaN`` as essentially interchangeable for indicating missing or null values.\n",
    "To facilitate this convention, there are several useful methods for detecting, removing, and replacing null values in Pandas data structures.\n",
    "They are:\n",
    "\n",
    "\n",
    "我們已經看到，Pandas將`None`和`NaN`看成是可以互相轉換的缺失值或空值。與此同時，Pandas還提供了一些很有用的方法用來在數據集中發現、移除和替換空值。這些方法包括：\n",
    "\n",
    "- `isnull()`：生成一個布爾遮蓋數組指示缺失值的位置\n",
    "- `notnull()`：`isnull()`相反方法\n",
    "- `dropna()`：返回一個過濾掉缺失值、空值的數據集\n",
    "- `fillna()`：返回一個數據集的副本，裡面的缺失值、空值使用另外的值來替代"
   ]
  },
  {
   "cell_type": "markdown",
   "metadata": {},
   "source": [
    "### Detecting null values\n",
    "\n",
    "### 檢測空值\n",
    "\n",
    "> Pandas data structures have two useful methods for detecting null data: ``isnull()`` and ``notnull()``.\n",
    "Either one will return a Boolean mask over the data. For example:\n",
    "\n",
    "Pandas數據集有兩個方法用來檢測空值：`isnull()`和`notnull()`。\n",
    "它們都會返回一個布爾遮蓋數組。例如："
   ]
  },
  {
   "cell_type": "code",
   "execution_count": 10,
   "metadata": {
    "scrolled": true
   },
   "outputs": [
    {
     "data": {
      "text/plain": [
       "0    False\n",
       "1     True\n",
       "2    False\n",
       "3     True\n",
       "dtype: bool"
      ]
     },
     "execution_count": 10,
     "metadata": {},
     "output_type": "execute_result"
    }
   ],
   "source": [
    "data = pd.Series([1, np.nan, 'hello', None])\n",
    "data.isnull()"
   ]
  },
  {
   "cell_type": "code",
   "execution_count": 15,
   "metadata": {},
   "outputs": [
    {
     "data": {
      "text/plain": [
       "0        1\n",
       "2    hello\n",
       "dtype: object"
      ]
     },
     "execution_count": 15,
     "metadata": {},
     "output_type": "execute_result"
    }
   ],
   "source": [
    "data[data.notnull()]"
   ]
  },
  {
   "cell_type": "code",
   "execution_count": 1,
   "metadata": {},
   "outputs": [
    {
     "data": {
      "text/plain": [
       "0    1.0\n",
       "1    NaN\n",
       "2    3.5\n",
       "3    NaN\n",
       "4    7.0\n",
       "dtype: float64"
      ]
     },
     "execution_count": 1,
     "metadata": {},
     "output_type": "execute_result"
    }
   ],
   "source": [
    "import pandas as pd\n",
    "import numpy as np\n",
    "\n",
    "data_df = pd.DataFrame([[np.nan, 2, np.nan, 0], \n",
    "                      [3, 4, 5, 1], \n",
    "                      [np.nan, np.nan, np.nan, 5], \n",
    "                      [np.nan, 3, np.nan, 4]], \n",
    "                      columns=list('ABCD'))\n",
    "data_df"
   ]
  },
  {
   "cell_type": "code",
   "execution_count": 2,
   "metadata": {},
   "outputs": [
    {
     "data": {
      "text/plain": [
       "0    1.0\n",
       "2    3.5\n",
       "4    7.0\n",
       "dtype: float64"
      ]
     },
     "execution_count": 2,
     "metadata": {},
     "output_type": "execute_result"
    }
   ],
   "source": [
    "data_df.fillna(50)\n",
    "# data_df.fillna({'A':20, 'B':50, 'C':40, 'D':60, 'E':70})\n",
    "# data_df.fillna({'A':20, 'B':50, 'C':40, 'D':60, 'E':70}, inplace=True)"
   ]
  },
  {
   "cell_type": "code",
   "execution_count": 3,
   "metadata": {},
   "outputs": [
    {
     "data": {
      "text/plain": [
       "0    1.0\n",
       "2    3.5\n",
       "4    7.0\n",
       "dtype: float64"
      ]
     },
     "execution_count": 3,
     "metadata": {},
     "output_type": "execute_result"
    }
   ],
   "source": [
    "data_rand = pd.DataFrame(np.random.randn(5, 4))\n",
    "data_rand.iloc[2:, 2]=np.nan\n",
    "data_rand.iloc[:2, 3]=np.nan\n",
    "data_rand"
   ]
  },
  {
   "cell_type": "code",
   "execution_count": null,
   "metadata": {},
   "outputs": [],
   "source": [
    "data_rand.fillna(method='ffill')\n",
    "# data_rand.fillna(method='bfill')\n",
    "# data_rand.fillna(method='ffill', limit=2)"
   ]
  },
  {
   "cell_type": "markdown",
   "metadata": {},
   "source": [
    "### Dropping null values\n",
    "\n",
    "### 去除空值\n",
    "\n",
    "> In addition to the masking used before, there are the convenience methods, ``dropna()``\n",
    "(which removes NA values) and ``fillna()`` (which fills in NA values). For a ``Series``,\n",
    "the result is straightforward:\n",
    "\n",
    "除了上面的遮蓋之外，還有兩個很方便的方法`dropna()`（移除NA值）和`fillna()`（填充NA值）。對於`Series`對象來說，結果顯而易見："
   ]
  },
  {
   "cell_type": "code",
   "execution_count": 11,
   "metadata": {},
   "outputs": [
    {
     "data": {
      "text/plain": [
       "0        1\n",
       "2    hello\n",
       "dtype: object"
      ]
     },
     "execution_count": 11,
     "metadata": {},
     "output_type": "execute_result"
    }
   ],
   "source": [
    "# For a Series\n",
    "data.dropna()"
   ]
  },
  {
   "cell_type": "markdown",
   "metadata": {},
   "source": [
    "> We cannot drop single values from a ``DataFrame``; we can only drop full rows or full columns.\n",
    "Depending on the application, so ``dropna()`` gives a number of options for a ``DataFrame``.By default, ``dropna()`` will drop all rows in which *any* null value is present: Alternatively, you can drop NA values along a different axis; ``axis=1`` drops all columns containing a null value:\n",
    "\n",
    "我們不能在`DataFrame`中移除單個空值；我們只能移除整行或者整列。`dropna()`為`DataFrame`對象提供了一些參數選擇。默認，`dropna()`會移除出現了空值的整行：你可以通過設置axis參數（如`axis=1`）來沿著不同的維度來移除空值，下面是移除含有空值的列的例子："
   ]
  },
  {
   "cell_type": "code",
   "execution_count": 16,
   "metadata": {},
   "outputs": [
    {
     "data": {
      "text/html": [
       "<div>\n",
       "<style scoped>\n",
       "    .dataframe tbody tr th:only-of-type {\n",
       "        vertical-align: middle;\n",
       "    }\n",
       "\n",
       "    .dataframe tbody tr th {\n",
       "        vertical-align: top;\n",
       "    }\n",
       "\n",
       "    .dataframe thead th {\n",
       "        text-align: right;\n",
       "    }\n",
       "</style>\n",
       "<table border=\"1\" class=\"dataframe\">\n",
       "  <thead>\n",
       "    <tr style=\"text-align: right;\">\n",
       "      <th></th>\n",
       "      <th>0</th>\n",
       "      <th>1</th>\n",
       "      <th>2</th>\n",
       "    </tr>\n",
       "  </thead>\n",
       "  <tbody>\n",
       "    <tr>\n",
       "      <th>1</th>\n",
       "      <td>2.0</td>\n",
       "      <td>3.0</td>\n",
       "      <td>5</td>\n",
       "    </tr>\n",
       "  </tbody>\n",
       "</table>\n",
       "</div>"
      ],
      "text/plain": [
       "     0    1  2\n",
       "1  2.0  3.0  5"
      ]
     },
     "execution_count": 16,
     "metadata": {},
     "output_type": "execute_result"
    }
   ],
   "source": [
    "# For a DataFrame\n",
    "df = pd.DataFrame([[1,      np.nan, 2],\n",
    "                   [2,      3,      5],\n",
    "                   [np.nan, 4,      6]])\n",
    "df.dropna()"
   ]
  },
  {
   "cell_type": "code",
   "execution_count": 17,
   "metadata": {},
   "outputs": [
    {
     "data": {
      "text/html": [
       "<div>\n",
       "<style scoped>\n",
       "    .dataframe tbody tr th:only-of-type {\n",
       "        vertical-align: middle;\n",
       "    }\n",
       "\n",
       "    .dataframe tbody tr th {\n",
       "        vertical-align: top;\n",
       "    }\n",
       "\n",
       "    .dataframe thead th {\n",
       "        text-align: right;\n",
       "    }\n",
       "</style>\n",
       "<table border=\"1\" class=\"dataframe\">\n",
       "  <thead>\n",
       "    <tr style=\"text-align: right;\">\n",
       "      <th></th>\n",
       "      <th>2</th>\n",
       "    </tr>\n",
       "  </thead>\n",
       "  <tbody>\n",
       "    <tr>\n",
       "      <th>0</th>\n",
       "      <td>2</td>\n",
       "    </tr>\n",
       "    <tr>\n",
       "      <th>1</th>\n",
       "      <td>5</td>\n",
       "    </tr>\n",
       "    <tr>\n",
       "      <th>2</th>\n",
       "      <td>6</td>\n",
       "    </tr>\n",
       "  </tbody>\n",
       "</table>\n",
       "</div>"
      ],
      "text/plain": [
       "   2\n",
       "0  2\n",
       "1  5\n",
       "2  6"
      ]
     },
     "execution_count": 17,
     "metadata": {},
     "output_type": "execute_result"
    }
   ],
   "source": [
    "df.dropna(axis='columns')"
   ]
  },
  {
   "cell_type": "markdown",
   "metadata": {},
   "source": [
    "> But this drops some good data as well; you might rather be interested in dropping rows or columns with *all* NA values, or a majority of NA values.\n",
    "This can be specified through the ``how`` or ``thresh`` parameters, which allow fine control of the number of nulls to allow through.\n",
    "\n",
    "但是這會移除一些良好的數據；你可能更希望移除那些*全部*是NA值或者大部分是NA值的行或列。這可以通過設置`how`或`thresh`參數來實現，它們可以更加精細地控制移除的行或列包含的空值個數。\n",
    "\n",
    "> The default is ``how='any'``, such that any row or column (depending on the ``axis`` keyword) containing a null value will be dropped.\n",
    "You can also specify ``how='all'``, which will only drop rows/columns that are *all* null values:\n",
    "\n",
    "默認的情況是`how='any'`，因此只要含有空值都會被移除。你可以將它設置為`how=all`，這樣只有那些行或列*全部*由空值構成的情況下才會被移除："
   ]
  },
  {
   "cell_type": "code",
   "execution_count": 18,
   "metadata": {},
   "outputs": [
    {
     "data": {
      "text/html": [
       "<div>\n",
       "<style scoped>\n",
       "    .dataframe tbody tr th:only-of-type {\n",
       "        vertical-align: middle;\n",
       "    }\n",
       "\n",
       "    .dataframe tbody tr th {\n",
       "        vertical-align: top;\n",
       "    }\n",
       "\n",
       "    .dataframe thead th {\n",
       "        text-align: right;\n",
       "    }\n",
       "</style>\n",
       "<table border=\"1\" class=\"dataframe\">\n",
       "  <thead>\n",
       "    <tr style=\"text-align: right;\">\n",
       "      <th></th>\n",
       "      <th>0</th>\n",
       "      <th>1</th>\n",
       "      <th>2</th>\n",
       "      <th>3</th>\n",
       "    </tr>\n",
       "  </thead>\n",
       "  <tbody>\n",
       "    <tr>\n",
       "      <th>0</th>\n",
       "      <td>1.0</td>\n",
       "      <td>NaN</td>\n",
       "      <td>2</td>\n",
       "      <td>NaN</td>\n",
       "    </tr>\n",
       "    <tr>\n",
       "      <th>1</th>\n",
       "      <td>2.0</td>\n",
       "      <td>3.0</td>\n",
       "      <td>5</td>\n",
       "      <td>NaN</td>\n",
       "    </tr>\n",
       "    <tr>\n",
       "      <th>2</th>\n",
       "      <td>NaN</td>\n",
       "      <td>4.0</td>\n",
       "      <td>6</td>\n",
       "      <td>NaN</td>\n",
       "    </tr>\n",
       "  </tbody>\n",
       "</table>\n",
       "</div>"
      ],
      "text/plain": [
       "     0    1  2   3\n",
       "0  1.0  NaN  2 NaN\n",
       "1  2.0  3.0  5 NaN\n",
       "2  NaN  4.0  6 NaN"
      ]
     },
     "execution_count": 18,
     "metadata": {},
     "output_type": "execute_result"
    }
   ],
   "source": [
    "df[3] = np.nan\n",
    "df"
   ]
  },
  {
   "cell_type": "code",
   "execution_count": 19,
   "metadata": {},
   "outputs": [
    {
     "data": {
      "text/html": [
       "<div>\n",
       "<style scoped>\n",
       "    .dataframe tbody tr th:only-of-type {\n",
       "        vertical-align: middle;\n",
       "    }\n",
       "\n",
       "    .dataframe tbody tr th {\n",
       "        vertical-align: top;\n",
       "    }\n",
       "\n",
       "    .dataframe thead th {\n",
       "        text-align: right;\n",
       "    }\n",
       "</style>\n",
       "<table border=\"1\" class=\"dataframe\">\n",
       "  <thead>\n",
       "    <tr style=\"text-align: right;\">\n",
       "      <th></th>\n",
       "      <th>0</th>\n",
       "      <th>1</th>\n",
       "      <th>2</th>\n",
       "    </tr>\n",
       "  </thead>\n",
       "  <tbody>\n",
       "    <tr>\n",
       "      <th>0</th>\n",
       "      <td>1.0</td>\n",
       "      <td>NaN</td>\n",
       "      <td>2</td>\n",
       "    </tr>\n",
       "    <tr>\n",
       "      <th>1</th>\n",
       "      <td>2.0</td>\n",
       "      <td>3.0</td>\n",
       "      <td>5</td>\n",
       "    </tr>\n",
       "    <tr>\n",
       "      <th>2</th>\n",
       "      <td>NaN</td>\n",
       "      <td>4.0</td>\n",
       "      <td>6</td>\n",
       "    </tr>\n",
       "  </tbody>\n",
       "</table>\n",
       "</div>"
      ],
      "text/plain": [
       "     0    1  2\n",
       "0  1.0  NaN  2\n",
       "1  2.0  3.0  5\n",
       "2  NaN  4.0  6"
      ]
     },
     "execution_count": 19,
     "metadata": {},
     "output_type": "execute_result"
    }
   ],
   "source": [
    "df.dropna(axis='columns', how='all')"
   ]
  },
  {
   "cell_type": "code",
   "execution_count": 21,
   "metadata": {},
   "outputs": [
    {
     "data": {
      "text/html": [
       "<div>\n",
       "<style scoped>\n",
       "    .dataframe tbody tr th:only-of-type {\n",
       "        vertical-align: middle;\n",
       "    }\n",
       "\n",
       "    .dataframe tbody tr th {\n",
       "        vertical-align: top;\n",
       "    }\n",
       "\n",
       "    .dataframe thead th {\n",
       "        text-align: right;\n",
       "    }\n",
       "</style>\n",
       "<table border=\"1\" class=\"dataframe\">\n",
       "  <thead>\n",
       "    <tr style=\"text-align: right;\">\n",
       "      <th></th>\n",
       "      <th>0</th>\n",
       "      <th>1</th>\n",
       "      <th>2</th>\n",
       "      <th>3</th>\n",
       "    </tr>\n",
       "  </thead>\n",
       "  <tbody>\n",
       "    <tr>\n",
       "      <th>1</th>\n",
       "      <td>2.0</td>\n",
       "      <td>3.0</td>\n",
       "      <td>5</td>\n",
       "      <td>NaN</td>\n",
       "    </tr>\n",
       "  </tbody>\n",
       "</table>\n",
       "</div>"
      ],
      "text/plain": [
       "     0    1  2   3\n",
       "1  2.0  3.0  5 NaN"
      ]
     },
     "execution_count": 21,
     "metadata": {},
     "output_type": "execute_result"
    }
   ],
   "source": [
    "#行中如果有3個或以上的非空值，將會被保留\n",
    "df.dropna(axis='rows', thresh=3) "
   ]
  },
  {
   "cell_type": "markdown",
   "metadata": {},
   "source": [
    "### Filling null values\n",
    "\n",
    "### 填充空值\n",
    "\n",
    "> Sometimes rather than dropping NA values, you'd rather replace them with a valid value.\n",
    "This value might be a single number like zero, or it might be some sort of imputation or interpolation from the good values.\n",
    "You could do this in-place using the ``isnull()`` method as a mask, but because it is such a common operation Pandas provides the ``fillna()`` method, which returns a copy of the array with the null values replaced.\n",
    "\n",
    "有時我們想要的不是移除NA值，而是希望將它們替換為正確的值。替換後的值可能是一個標量如0，或者從其他正確數值歸併或插補的值。你當然可以使用`isnull()`然後賦值的方式來實現，但是因為這個需求是如此廣泛，Pandas提供了`fillna()`方法，用來返回一個替換空值後的數據集副本。"
   ]
  },
  {
   "cell_type": "code",
   "execution_count": 22,
   "metadata": {},
   "outputs": [
    {
     "data": {
      "text/plain": [
       "a    1.0\n",
       "b    NaN\n",
       "c    2.0\n",
       "d    NaN\n",
       "e    3.0\n",
       "dtype: float64"
      ]
     },
     "execution_count": 22,
     "metadata": {},
     "output_type": "execute_result"
    }
   ],
   "source": [
    "data = pd.Series([1, np.nan, 2, None, 3], index=list('abcde'))\n",
    "data"
   ]
  },
  {
   "cell_type": "code",
   "execution_count": 24,
   "metadata": {},
   "outputs": [
    {
     "data": {
      "text/plain": [
       "a    1.0\n",
       "b    0.0\n",
       "c    2.0\n",
       "d    0.0\n",
       "e    3.0\n",
       "dtype: float64"
      ]
     },
     "execution_count": 24,
     "metadata": {},
     "output_type": "execute_result"
    }
   ],
   "source": [
    "data.fillna(0)  # fill NA entries with a single value"
   ]
  },
  {
   "cell_type": "code",
   "execution_count": 23,
   "metadata": {},
   "outputs": [
    {
     "data": {
      "text/plain": [
       "a    1.0\n",
       "b    1.0\n",
       "c    2.0\n",
       "d    2.0\n",
       "e    3.0\n",
       "dtype: float64"
      ]
     },
     "execution_count": 23,
     "metadata": {},
     "output_type": "execute_result"
    }
   ],
   "source": [
    "# 向前填充  forward-fill\n",
    "data.fillna(method='ffill')"
   ]
  },
  {
   "cell_type": "code",
   "execution_count": 26,
   "metadata": {},
   "outputs": [
    {
     "data": {
      "text/plain": [
       "a    1.0\n",
       "b    2.0\n",
       "c    2.0\n",
       "d    3.0\n",
       "e    3.0\n",
       "dtype: float64"
      ]
     },
     "execution_count": 26,
     "metadata": {},
     "output_type": "execute_result"
    }
   ],
   "source": [
    "# 向後填充 back-fill\n",
    "data.fillna(method='bfill')"
   ]
  },
  {
   "cell_type": "code",
   "execution_count": 25,
   "metadata": {},
   "outputs": [
    {
     "data": {
      "text/html": [
       "<div>\n",
       "<style scoped>\n",
       "    .dataframe tbody tr th:only-of-type {\n",
       "        vertical-align: middle;\n",
       "    }\n",
       "\n",
       "    .dataframe tbody tr th {\n",
       "        vertical-align: top;\n",
       "    }\n",
       "\n",
       "    .dataframe thead th {\n",
       "        text-align: right;\n",
       "    }\n",
       "</style>\n",
       "<table border=\"1\" class=\"dataframe\">\n",
       "  <thead>\n",
       "    <tr style=\"text-align: right;\">\n",
       "      <th></th>\n",
       "      <th>0</th>\n",
       "      <th>1</th>\n",
       "      <th>2</th>\n",
       "      <th>3</th>\n",
       "    </tr>\n",
       "  </thead>\n",
       "  <tbody>\n",
       "    <tr>\n",
       "      <th>0</th>\n",
       "      <td>1.0</td>\n",
       "      <td>1.0</td>\n",
       "      <td>2.0</td>\n",
       "      <td>2.0</td>\n",
       "    </tr>\n",
       "    <tr>\n",
       "      <th>1</th>\n",
       "      <td>2.0</td>\n",
       "      <td>3.0</td>\n",
       "      <td>5.0</td>\n",
       "      <td>5.0</td>\n",
       "    </tr>\n",
       "    <tr>\n",
       "      <th>2</th>\n",
       "      <td>NaN</td>\n",
       "      <td>4.0</td>\n",
       "      <td>6.0</td>\n",
       "      <td>6.0</td>\n",
       "    </tr>\n",
       "  </tbody>\n",
       "</table>\n",
       "</div>"
      ],
      "text/plain": [
       "     0    1    2    3\n",
       "0  1.0  1.0  2.0  2.0\n",
       "1  2.0  3.0  5.0  5.0\n",
       "2  NaN  4.0  6.0  6.0"
      ]
     },
     "execution_count": 25,
     "metadata": {},
     "output_type": "execute_result"
    }
   ],
   "source": [
    "# 按列進行向前填充\n",
    "df.fillna(method='ffill', axis=1)"
   ]
  },
  {
   "cell_type": "markdown",
   "metadata": {},
   "source": [
    "## Example"
   ]
  },
  {
   "cell_type": "code",
   "execution_count": 5,
   "metadata": {},
   "outputs": [
    {
     "data": {
      "text/html": [
       "<div>\n",
       "<style scoped>\n",
       "    .dataframe tbody tr th:only-of-type {\n",
       "        vertical-align: middle;\n",
       "    }\n",
       "\n",
       "    .dataframe tbody tr th {\n",
       "        vertical-align: top;\n",
       "    }\n",
       "\n",
       "    .dataframe thead th {\n",
       "        text-align: right;\n",
       "    }\n",
       "</style>\n",
       "<table border=\"1\" class=\"dataframe\">\n",
       "  <thead>\n",
       "    <tr style=\"text-align: right;\">\n",
       "      <th></th>\n",
       "      <th>Unnamed: 0</th>\n",
       "      <th>ID</th>\n",
       "      <th>Name</th>\n",
       "      <th>Age</th>\n",
       "      <th>Photo</th>\n",
       "      <th>Nationality</th>\n",
       "      <th>Flag</th>\n",
       "      <th>Overall</th>\n",
       "      <th>Potential</th>\n",
       "      <th>Club</th>\n",
       "      <th>...</th>\n",
       "      <th>Composure</th>\n",
       "      <th>Marking</th>\n",
       "      <th>StandingTackle</th>\n",
       "      <th>SlidingTackle</th>\n",
       "      <th>GKDiving</th>\n",
       "      <th>GKHandling</th>\n",
       "      <th>GKKicking</th>\n",
       "      <th>GKPositioning</th>\n",
       "      <th>GKReflexes</th>\n",
       "      <th>Release Clause</th>\n",
       "    </tr>\n",
       "  </thead>\n",
       "  <tbody>\n",
       "    <tr>\n",
       "      <th>0</th>\n",
       "      <td>0</td>\n",
       "      <td>158023</td>\n",
       "      <td>L. Messi</td>\n",
       "      <td>31</td>\n",
       "      <td>https://cdn.sofifa.org/players/4/19/158023.png</td>\n",
       "      <td>Argentina</td>\n",
       "      <td>https://cdn.sofifa.org/flags/52.png</td>\n",
       "      <td>94</td>\n",
       "      <td>94</td>\n",
       "      <td>FC Barcelona</td>\n",
       "      <td>...</td>\n",
       "      <td>96</td>\n",
       "      <td>33</td>\n",
       "      <td>28</td>\n",
       "      <td>26</td>\n",
       "      <td>6</td>\n",
       "      <td>11</td>\n",
       "      <td>15</td>\n",
       "      <td>14</td>\n",
       "      <td>8</td>\n",
       "      <td>㈤226.5M</td>\n",
       "    </tr>\n",
       "    <tr>\n",
       "      <th>1</th>\n",
       "      <td>1</td>\n",
       "      <td>20801</td>\n",
       "      <td>Cristiano Ronaldo</td>\n",
       "      <td>33</td>\n",
       "      <td>https://cdn.sofifa.org/players/4/19/20801.png</td>\n",
       "      <td>Portugal</td>\n",
       "      <td>https://cdn.sofifa.org/flags/38.png</td>\n",
       "      <td>94</td>\n",
       "      <td>94</td>\n",
       "      <td>Juventus</td>\n",
       "      <td>...</td>\n",
       "      <td>95</td>\n",
       "      <td>28</td>\n",
       "      <td>31</td>\n",
       "      <td>23</td>\n",
       "      <td>7</td>\n",
       "      <td>11</td>\n",
       "      <td>15</td>\n",
       "      <td>14</td>\n",
       "      <td>11</td>\n",
       "      <td>㈤127.1M</td>\n",
       "    </tr>\n",
       "    <tr>\n",
       "      <th>2</th>\n",
       "      <td>2</td>\n",
       "      <td>190871</td>\n",
       "      <td>Neymar Jr</td>\n",
       "      <td>26</td>\n",
       "      <td>https://cdn.sofifa.org/players/4/19/190871.png</td>\n",
       "      <td>Brazil</td>\n",
       "      <td>https://cdn.sofifa.org/flags/54.png</td>\n",
       "      <td>92</td>\n",
       "      <td>93</td>\n",
       "      <td>Paris Saint-Germain</td>\n",
       "      <td>...</td>\n",
       "      <td>94</td>\n",
       "      <td>27</td>\n",
       "      <td>24</td>\n",
       "      <td>33</td>\n",
       "      <td>9</td>\n",
       "      <td>9</td>\n",
       "      <td>15</td>\n",
       "      <td>15</td>\n",
       "      <td>11</td>\n",
       "      <td>㈤228.1M</td>\n",
       "    </tr>\n",
       "    <tr>\n",
       "      <th>3</th>\n",
       "      <td>3</td>\n",
       "      <td>193080</td>\n",
       "      <td>De Gea</td>\n",
       "      <td>27</td>\n",
       "      <td>https://cdn.sofifa.org/players/4/19/193080.png</td>\n",
       "      <td>Spain</td>\n",
       "      <td>https://cdn.sofifa.org/flags/45.png</td>\n",
       "      <td>91</td>\n",
       "      <td>93</td>\n",
       "      <td>Manchester United</td>\n",
       "      <td>...</td>\n",
       "      <td>68</td>\n",
       "      <td>15</td>\n",
       "      <td>21</td>\n",
       "      <td>13</td>\n",
       "      <td>90</td>\n",
       "      <td>85</td>\n",
       "      <td>87</td>\n",
       "      <td>88</td>\n",
       "      <td>94</td>\n",
       "      <td>㈤138.6M</td>\n",
       "    </tr>\n",
       "    <tr>\n",
       "      <th>4</th>\n",
       "      <td>4</td>\n",
       "      <td>192985</td>\n",
       "      <td>K. De Bruyne</td>\n",
       "      <td>27</td>\n",
       "      <td>https://cdn.sofifa.org/players/4/19/192985.png</td>\n",
       "      <td>Belgium</td>\n",
       "      <td>https://cdn.sofifa.org/flags/7.png</td>\n",
       "      <td>91</td>\n",
       "      <td>92</td>\n",
       "      <td>Manchester City</td>\n",
       "      <td>...</td>\n",
       "      <td>88</td>\n",
       "      <td>68</td>\n",
       "      <td>58</td>\n",
       "      <td>51</td>\n",
       "      <td>15</td>\n",
       "      <td>13</td>\n",
       "      <td>5</td>\n",
       "      <td>10</td>\n",
       "      <td>13</td>\n",
       "      <td>㈤196.4M</td>\n",
       "    </tr>\n",
       "  </tbody>\n",
       "</table>\n",
       "<p>5 rows × 89 columns</p>\n",
       "</div>"
      ],
      "text/plain": [
       "   Unnamed: 0      ID               Name  Age  \\\n",
       "0           0  158023           L. Messi   31   \n",
       "1           1   20801  Cristiano Ronaldo   33   \n",
       "2           2  190871          Neymar Jr   26   \n",
       "3           3  193080             De Gea   27   \n",
       "4           4  192985       K. De Bruyne   27   \n",
       "\n",
       "                                            Photo Nationality  \\\n",
       "0  https://cdn.sofifa.org/players/4/19/158023.png   Argentina   \n",
       "1   https://cdn.sofifa.org/players/4/19/20801.png    Portugal   \n",
       "2  https://cdn.sofifa.org/players/4/19/190871.png      Brazil   \n",
       "3  https://cdn.sofifa.org/players/4/19/193080.png       Spain   \n",
       "4  https://cdn.sofifa.org/players/4/19/192985.png     Belgium   \n",
       "\n",
       "                                  Flag  Overall  Potential  \\\n",
       "0  https://cdn.sofifa.org/flags/52.png       94         94   \n",
       "1  https://cdn.sofifa.org/flags/38.png       94         94   \n",
       "2  https://cdn.sofifa.org/flags/54.png       92         93   \n",
       "3  https://cdn.sofifa.org/flags/45.png       91         93   \n",
       "4   https://cdn.sofifa.org/flags/7.png       91         92   \n",
       "\n",
       "                  Club  ... Composure Marking StandingTackle  SlidingTackle  \\\n",
       "0         FC Barcelona  ...        96      33             28             26   \n",
       "1             Juventus  ...        95      28             31             23   \n",
       "2  Paris Saint-Germain  ...        94      27             24             33   \n",
       "3    Manchester United  ...        68      15             21             13   \n",
       "4      Manchester City  ...        88      68             58             51   \n",
       "\n",
       "  GKDiving  GKHandling  GKKicking  GKPositioning GKReflexes Release Clause  \n",
       "0        6          11         15             14          8        ㈤226.5M  \n",
       "1        7          11         15             14         11        ㈤127.1M  \n",
       "2        9           9         15             15         11        ㈤228.1M  \n",
       "3       90          85         87             88         94        ㈤138.6M  \n",
       "4       15          13          5             10         13        ㈤196.4M  \n",
       "\n",
       "[5 rows x 89 columns]"
      ]
     },
     "execution_count": 5,
     "metadata": {},
     "output_type": "execute_result"
    }
   ],
   "source": [
    "import pandas as pd\n",
    "data=pd.read_csv(\"input/fifa.csv\", encoding = 'gb2312')\n",
    "data.head()"
   ]
  },
  {
   "cell_type": "code",
   "execution_count": 6,
   "metadata": {},
   "outputs": [
    {
     "data": {
      "text/plain": [
       "568     31\n",
       "1120    31\n",
       "1349    28\n",
       "504     28\n",
       "702     28\n",
       "        ..\n",
       "649      1\n",
       "648      1\n",
       "646      1\n",
       "645      1\n",
       "1821     1\n",
       "Length: 1822, dtype: int64"
      ]
     },
     "execution_count": 6,
     "metadata": {},
     "output_type": "execute_result"
    }
   ],
   "source": [
    "#sorting the missing values in rows in descending order\n",
    "data.isnull().sum(axis=1).sort_values(ascending=False)"
   ]
  },
  {
   "cell_type": "code",
   "execution_count": 7,
   "metadata": {},
   "outputs": [
    {
     "data": {
      "text/plain": [
       "0       True\n",
       "1       True\n",
       "2       True\n",
       "3       True\n",
       "4       True\n",
       "        ... \n",
       "1817    True\n",
       "1818    True\n",
       "1819    True\n",
       "1820    True\n",
       "1821    True\n",
       "Length: 1822, dtype: bool"
      ]
     },
     "execution_count": 7,
     "metadata": {},
     "output_type": "execute_result"
    }
   ],
   "source": [
    "#checking if there are any missing values in rows\n",
    "data.isnull().any(axis=1)"
   ]
  },
  {
   "cell_type": "code",
   "execution_count": 10,
   "metadata": {
    "scrolled": true
   },
   "outputs": [
    {
     "name": "stdout",
     "output_type": "stream",
     "text": [
      "Before deleting the rows  1822\n"
     ]
    }
   ],
   "source": [
    "print(\"Before deleting the rows \",data.shape[0])"
   ]
  },
  {
   "cell_type": "code",
   "execution_count": 11,
   "metadata": {},
   "outputs": [
    {
     "data": {
      "text/plain": [
       "(1822, 89)"
      ]
     },
     "execution_count": 11,
     "metadata": {},
     "output_type": "execute_result"
    }
   ],
   "source": [
    "data.shape"
   ]
  },
  {
   "cell_type": "code",
   "execution_count": 12,
   "metadata": {},
   "outputs": [
    {
     "name": "stdout",
     "output_type": "stream",
     "text": [
      "Before deleting the rows  1822\n",
      "After removing the rows having more than 50 missing values  1822\n"
     ]
    }
   ],
   "source": [
    "print(\"Before deleting the rows \",data.shape[0])\n",
    "data=data[data.isnull().sum(axis=1)<=50]\n",
    "print(\"After removing the rows having more than 50 missing values \",data.shape[0])"
   ]
  },
  {
   "cell_type": "code",
   "execution_count": 13,
   "metadata": {},
   "outputs": [
    {
     "data": {
      "text/plain": [
       "Unnamed: 0          0\n",
       "ID                  0\n",
       "Name                0\n",
       "Age                 0\n",
       "Photo               0\n",
       "                 ... \n",
       "GKHandling          0\n",
       "GKKicking           0\n",
       "GKPositioning       0\n",
       "GKReflexes          0\n",
       "Release Clause    122\n",
       "Length: 89, dtype: int64"
      ]
     },
     "execution_count": 13,
     "metadata": {},
     "output_type": "execute_result"
    }
   ],
   "source": [
    "#checking for the missing values in columns\n",
    "\n",
    "data.isnull().sum()"
   ]
  },
  {
   "cell_type": "code",
   "execution_count": 14,
   "metadata": {},
   "outputs": [
    {
     "data": {
      "text/plain": [
       "Unnamed: 0                     0\n",
       "ID                             0\n",
       "Name                           0\n",
       "Age                            0\n",
       "Photo                          0\n",
       "Nationality                    0\n",
       "Flag                           0\n",
       "Overall                        0\n",
       "Potential                      0\n",
       "Club                          14\n",
       "Club Logo                      0\n",
       "Value                          0\n",
       "Wage                           0\n",
       "Special                        0\n",
       "Preferred Foot                 0\n",
       "International Reputation       0\n",
       "Weak Foot                      0\n",
       "Skill Moves                    0\n",
       "Work Rate                      0\n",
       "Body Type                      0\n",
       "Real Face                      0\n",
       "Position                       0\n",
       "Jersey Number                  0\n",
       "Joined                       121\n",
       "Loaned From                 1715\n",
       "Contract Valid Until          14\n",
       "Height                         0\n",
       "Weight                         0\n",
       "LS                           180\n",
       "ST                           180\n",
       "RS                           180\n",
       "LW                           180\n",
       "LF                           180\n",
       "CF                           180\n",
       "RF                           180\n",
       "RW                           180\n",
       "LAM                          180\n",
       "CAM                          180\n",
       "RAM                          180\n",
       "LM                           180\n",
       "LCM                          180\n",
       "CM                           180\n",
       "RCM                          180\n",
       "RM                           180\n",
       "LWB                          180\n",
       "LDM                          180\n",
       "CDM                          180\n",
       "RDM                          180\n",
       "RWB                          180\n",
       "LB                           180\n",
       "LCB                          180\n",
       "CB                           180\n",
       "RCB                          180\n",
       "RB                           180\n",
       "Crossing                       0\n",
       "Finishing                      0\n",
       "HeadingAccuracy                0\n",
       "ShortPassing                   0\n",
       "Volleys                        0\n",
       "Dribbling                      0\n",
       "Curve                          0\n",
       "FKAccuracy                     0\n",
       "LongPassing                    0\n",
       "BallControl                    0\n",
       "Acceleration                   0\n",
       "SprintSpeed                    0\n",
       "Agility                        0\n",
       "Reactions                      0\n",
       "Balance                        0\n",
       "ShotPower                      0\n",
       "Jumping                        0\n",
       "Stamina                        0\n",
       "Strength                       0\n",
       "LongShots                      0\n",
       "Aggression                     0\n",
       "Interceptions                  0\n",
       "Positioning                    0\n",
       "Vision                         0\n",
       "Penalties                      0\n",
       "Composure                      0\n",
       "Marking                        0\n",
       "StandingTackle                 0\n",
       "SlidingTackle                  0\n",
       "GKDiving                       0\n",
       "GKHandling                     0\n",
       "GKKicking                      0\n",
       "GKPositioning                  0\n",
       "GKReflexes                     0\n",
       "Release Clause               122\n",
       "dtype: int64"
      ]
     },
     "execution_count": 14,
     "metadata": {},
     "output_type": "execute_result"
    }
   ],
   "source": [
    "pd.set_option(\"max_rows\",89)\n",
    "data.isnull().sum()"
   ]
  },
  {
   "cell_type": "code",
   "execution_count": 15,
   "metadata": {},
   "outputs": [
    {
     "data": {
      "text/html": [
       "<div>\n",
       "<style scoped>\n",
       "    .dataframe tbody tr th:only-of-type {\n",
       "        vertical-align: middle;\n",
       "    }\n",
       "\n",
       "    .dataframe tbody tr th {\n",
       "        vertical-align: top;\n",
       "    }\n",
       "\n",
       "    .dataframe thead th {\n",
       "        text-align: right;\n",
       "    }\n",
       "</style>\n",
       "<table border=\"1\" class=\"dataframe\">\n",
       "  <thead>\n",
       "    <tr style=\"text-align: right;\">\n",
       "      <th></th>\n",
       "      <th>Number of missing values</th>\n",
       "      <th>Percentage of missing values</th>\n",
       "    </tr>\n",
       "  </thead>\n",
       "  <tbody>\n",
       "    <tr>\n",
       "      <th>Loaned From</th>\n",
       "      <td>1715</td>\n",
       "      <td>94.127333</td>\n",
       "    </tr>\n",
       "    <tr>\n",
       "      <th>LWB</th>\n",
       "      <td>180</td>\n",
       "      <td>9.879254</td>\n",
       "    </tr>\n",
       "    <tr>\n",
       "      <th>LCM</th>\n",
       "      <td>180</td>\n",
       "      <td>9.879254</td>\n",
       "    </tr>\n",
       "    <tr>\n",
       "      <th>RS</th>\n",
       "      <td>180</td>\n",
       "      <td>9.879254</td>\n",
       "    </tr>\n",
       "    <tr>\n",
       "      <th>LW</th>\n",
       "      <td>180</td>\n",
       "      <td>9.879254</td>\n",
       "    </tr>\n",
       "    <tr>\n",
       "      <th>LF</th>\n",
       "      <td>180</td>\n",
       "      <td>9.879254</td>\n",
       "    </tr>\n",
       "    <tr>\n",
       "      <th>CF</th>\n",
       "      <td>180</td>\n",
       "      <td>9.879254</td>\n",
       "    </tr>\n",
       "    <tr>\n",
       "      <th>RF</th>\n",
       "      <td>180</td>\n",
       "      <td>9.879254</td>\n",
       "    </tr>\n",
       "    <tr>\n",
       "      <th>RW</th>\n",
       "      <td>180</td>\n",
       "      <td>9.879254</td>\n",
       "    </tr>\n",
       "    <tr>\n",
       "      <th>LAM</th>\n",
       "      <td>180</td>\n",
       "      <td>9.879254</td>\n",
       "    </tr>\n",
       "    <tr>\n",
       "      <th>CAM</th>\n",
       "      <td>180</td>\n",
       "      <td>9.879254</td>\n",
       "    </tr>\n",
       "    <tr>\n",
       "      <th>RAM</th>\n",
       "      <td>180</td>\n",
       "      <td>9.879254</td>\n",
       "    </tr>\n",
       "    <tr>\n",
       "      <th>LM</th>\n",
       "      <td>180</td>\n",
       "      <td>9.879254</td>\n",
       "    </tr>\n",
       "    <tr>\n",
       "      <th>CM</th>\n",
       "      <td>180</td>\n",
       "      <td>9.879254</td>\n",
       "    </tr>\n",
       "    <tr>\n",
       "      <th>LS</th>\n",
       "      <td>180</td>\n",
       "      <td>9.879254</td>\n",
       "    </tr>\n",
       "    <tr>\n",
       "      <th>RCM</th>\n",
       "      <td>180</td>\n",
       "      <td>9.879254</td>\n",
       "    </tr>\n",
       "    <tr>\n",
       "      <th>RM</th>\n",
       "      <td>180</td>\n",
       "      <td>9.879254</td>\n",
       "    </tr>\n",
       "    <tr>\n",
       "      <th>LDM</th>\n",
       "      <td>180</td>\n",
       "      <td>9.879254</td>\n",
       "    </tr>\n",
       "    <tr>\n",
       "      <th>CDM</th>\n",
       "      <td>180</td>\n",
       "      <td>9.879254</td>\n",
       "    </tr>\n",
       "    <tr>\n",
       "      <th>RDM</th>\n",
       "      <td>180</td>\n",
       "      <td>9.879254</td>\n",
       "    </tr>\n",
       "    <tr>\n",
       "      <th>RWB</th>\n",
       "      <td>180</td>\n",
       "      <td>9.879254</td>\n",
       "    </tr>\n",
       "    <tr>\n",
       "      <th>LB</th>\n",
       "      <td>180</td>\n",
       "      <td>9.879254</td>\n",
       "    </tr>\n",
       "    <tr>\n",
       "      <th>LCB</th>\n",
       "      <td>180</td>\n",
       "      <td>9.879254</td>\n",
       "    </tr>\n",
       "    <tr>\n",
       "      <th>CB</th>\n",
       "      <td>180</td>\n",
       "      <td>9.879254</td>\n",
       "    </tr>\n",
       "    <tr>\n",
       "      <th>RCB</th>\n",
       "      <td>180</td>\n",
       "      <td>9.879254</td>\n",
       "    </tr>\n",
       "    <tr>\n",
       "      <th>RB</th>\n",
       "      <td>180</td>\n",
       "      <td>9.879254</td>\n",
       "    </tr>\n",
       "    <tr>\n",
       "      <th>ST</th>\n",
       "      <td>180</td>\n",
       "      <td>9.879254</td>\n",
       "    </tr>\n",
       "    <tr>\n",
       "      <th>Release Clause</th>\n",
       "      <td>122</td>\n",
       "      <td>6.695939</td>\n",
       "    </tr>\n",
       "    <tr>\n",
       "      <th>Joined</th>\n",
       "      <td>121</td>\n",
       "      <td>6.641054</td>\n",
       "    </tr>\n",
       "    <tr>\n",
       "      <th>Club</th>\n",
       "      <td>14</td>\n",
       "      <td>0.768386</td>\n",
       "    </tr>\n",
       "    <tr>\n",
       "      <th>Contract Valid Until</th>\n",
       "      <td>14</td>\n",
       "      <td>0.768386</td>\n",
       "    </tr>\n",
       "    <tr>\n",
       "      <th>Balance</th>\n",
       "      <td>0</td>\n",
       "      <td>0.000000</td>\n",
       "    </tr>\n",
       "    <tr>\n",
       "      <th>LongShots</th>\n",
       "      <td>0</td>\n",
       "      <td>0.000000</td>\n",
       "    </tr>\n",
       "    <tr>\n",
       "      <th>Strength</th>\n",
       "      <td>0</td>\n",
       "      <td>0.000000</td>\n",
       "    </tr>\n",
       "    <tr>\n",
       "      <th>Stamina</th>\n",
       "      <td>0</td>\n",
       "      <td>0.000000</td>\n",
       "    </tr>\n",
       "    <tr>\n",
       "      <th>Jumping</th>\n",
       "      <td>0</td>\n",
       "      <td>0.000000</td>\n",
       "    </tr>\n",
       "    <tr>\n",
       "      <th>ShotPower</th>\n",
       "      <td>0</td>\n",
       "      <td>0.000000</td>\n",
       "    </tr>\n",
       "    <tr>\n",
       "      <th>Weight</th>\n",
       "      <td>0</td>\n",
       "      <td>0.000000</td>\n",
       "    </tr>\n",
       "    <tr>\n",
       "      <th>Reactions</th>\n",
       "      <td>0</td>\n",
       "      <td>0.000000</td>\n",
       "    </tr>\n",
       "    <tr>\n",
       "      <th>Aggression</th>\n",
       "      <td>0</td>\n",
       "      <td>0.000000</td>\n",
       "    </tr>\n",
       "    <tr>\n",
       "      <th>SprintSpeed</th>\n",
       "      <td>0</td>\n",
       "      <td>0.000000</td>\n",
       "    </tr>\n",
       "    <tr>\n",
       "      <th>Acceleration</th>\n",
       "      <td>0</td>\n",
       "      <td>0.000000</td>\n",
       "    </tr>\n",
       "    <tr>\n",
       "      <th>BallControl</th>\n",
       "      <td>0</td>\n",
       "      <td>0.000000</td>\n",
       "    </tr>\n",
       "    <tr>\n",
       "      <th>LongPassing</th>\n",
       "      <td>0</td>\n",
       "      <td>0.000000</td>\n",
       "    </tr>\n",
       "    <tr>\n",
       "      <th>Agility</th>\n",
       "      <td>0</td>\n",
       "      <td>0.000000</td>\n",
       "    </tr>\n",
       "    <tr>\n",
       "      <th>Interceptions</th>\n",
       "      <td>0</td>\n",
       "      <td>0.000000</td>\n",
       "    </tr>\n",
       "    <tr>\n",
       "      <th>Curve</th>\n",
       "      <td>0</td>\n",
       "      <td>0.000000</td>\n",
       "    </tr>\n",
       "    <tr>\n",
       "      <th>Positioning</th>\n",
       "      <td>0</td>\n",
       "      <td>0.000000</td>\n",
       "    </tr>\n",
       "    <tr>\n",
       "      <th>Vision</th>\n",
       "      <td>0</td>\n",
       "      <td>0.000000</td>\n",
       "    </tr>\n",
       "    <tr>\n",
       "      <th>Penalties</th>\n",
       "      <td>0</td>\n",
       "      <td>0.000000</td>\n",
       "    </tr>\n",
       "    <tr>\n",
       "      <th>Composure</th>\n",
       "      <td>0</td>\n",
       "      <td>0.000000</td>\n",
       "    </tr>\n",
       "    <tr>\n",
       "      <th>Marking</th>\n",
       "      <td>0</td>\n",
       "      <td>0.000000</td>\n",
       "    </tr>\n",
       "    <tr>\n",
       "      <th>StandingTackle</th>\n",
       "      <td>0</td>\n",
       "      <td>0.000000</td>\n",
       "    </tr>\n",
       "    <tr>\n",
       "      <th>SlidingTackle</th>\n",
       "      <td>0</td>\n",
       "      <td>0.000000</td>\n",
       "    </tr>\n",
       "    <tr>\n",
       "      <th>GKDiving</th>\n",
       "      <td>0</td>\n",
       "      <td>0.000000</td>\n",
       "    </tr>\n",
       "    <tr>\n",
       "      <th>GKHandling</th>\n",
       "      <td>0</td>\n",
       "      <td>0.000000</td>\n",
       "    </tr>\n",
       "    <tr>\n",
       "      <th>GKKicking</th>\n",
       "      <td>0</td>\n",
       "      <td>0.000000</td>\n",
       "    </tr>\n",
       "    <tr>\n",
       "      <th>GKPositioning</th>\n",
       "      <td>0</td>\n",
       "      <td>0.000000</td>\n",
       "    </tr>\n",
       "    <tr>\n",
       "      <th>GKReflexes</th>\n",
       "      <td>0</td>\n",
       "      <td>0.000000</td>\n",
       "    </tr>\n",
       "    <tr>\n",
       "      <th>FKAccuracy</th>\n",
       "      <td>0</td>\n",
       "      <td>0.000000</td>\n",
       "    </tr>\n",
       "    <tr>\n",
       "      <th>Volleys</th>\n",
       "      <td>0</td>\n",
       "      <td>0.000000</td>\n",
       "    </tr>\n",
       "    <tr>\n",
       "      <th>Dribbling</th>\n",
       "      <td>0</td>\n",
       "      <td>0.000000</td>\n",
       "    </tr>\n",
       "    <tr>\n",
       "      <th>Height</th>\n",
       "      <td>0</td>\n",
       "      <td>0.000000</td>\n",
       "    </tr>\n",
       "    <tr>\n",
       "      <th>Jersey Number</th>\n",
       "      <td>0</td>\n",
       "      <td>0.000000</td>\n",
       "    </tr>\n",
       "    <tr>\n",
       "      <th>Position</th>\n",
       "      <td>0</td>\n",
       "      <td>0.000000</td>\n",
       "    </tr>\n",
       "    <tr>\n",
       "      <th>Real Face</th>\n",
       "      <td>0</td>\n",
       "      <td>0.000000</td>\n",
       "    </tr>\n",
       "    <tr>\n",
       "      <th>Body Type</th>\n",
       "      <td>0</td>\n",
       "      <td>0.000000</td>\n",
       "    </tr>\n",
       "    <tr>\n",
       "      <th>Work Rate</th>\n",
       "      <td>0</td>\n",
       "      <td>0.000000</td>\n",
       "    </tr>\n",
       "    <tr>\n",
       "      <th>Skill Moves</th>\n",
       "      <td>0</td>\n",
       "      <td>0.000000</td>\n",
       "    </tr>\n",
       "    <tr>\n",
       "      <th>Weak Foot</th>\n",
       "      <td>0</td>\n",
       "      <td>0.000000</td>\n",
       "    </tr>\n",
       "    <tr>\n",
       "      <th>International Reputation</th>\n",
       "      <td>0</td>\n",
       "      <td>0.000000</td>\n",
       "    </tr>\n",
       "    <tr>\n",
       "      <th>Preferred Foot</th>\n",
       "      <td>0</td>\n",
       "      <td>0.000000</td>\n",
       "    </tr>\n",
       "    <tr>\n",
       "      <th>Special</th>\n",
       "      <td>0</td>\n",
       "      <td>0.000000</td>\n",
       "    </tr>\n",
       "    <tr>\n",
       "      <th>Wage</th>\n",
       "      <td>0</td>\n",
       "      <td>0.000000</td>\n",
       "    </tr>\n",
       "    <tr>\n",
       "      <th>Value</th>\n",
       "      <td>0</td>\n",
       "      <td>0.000000</td>\n",
       "    </tr>\n",
       "    <tr>\n",
       "      <th>ID</th>\n",
       "      <td>0</td>\n",
       "      <td>0.000000</td>\n",
       "    </tr>\n",
       "    <tr>\n",
       "      <th>Club Logo</th>\n",
       "      <td>0</td>\n",
       "      <td>0.000000</td>\n",
       "    </tr>\n",
       "    <tr>\n",
       "      <th>Potential</th>\n",
       "      <td>0</td>\n",
       "      <td>0.000000</td>\n",
       "    </tr>\n",
       "    <tr>\n",
       "      <th>Overall</th>\n",
       "      <td>0</td>\n",
       "      <td>0.000000</td>\n",
       "    </tr>\n",
       "    <tr>\n",
       "      <th>Flag</th>\n",
       "      <td>0</td>\n",
       "      <td>0.000000</td>\n",
       "    </tr>\n",
       "    <tr>\n",
       "      <th>Nationality</th>\n",
       "      <td>0</td>\n",
       "      <td>0.000000</td>\n",
       "    </tr>\n",
       "    <tr>\n",
       "      <th>Photo</th>\n",
       "      <td>0</td>\n",
       "      <td>0.000000</td>\n",
       "    </tr>\n",
       "    <tr>\n",
       "      <th>Age</th>\n",
       "      <td>0</td>\n",
       "      <td>0.000000</td>\n",
       "    </tr>\n",
       "    <tr>\n",
       "      <th>Name</th>\n",
       "      <td>0</td>\n",
       "      <td>0.000000</td>\n",
       "    </tr>\n",
       "    <tr>\n",
       "      <th>Crossing</th>\n",
       "      <td>0</td>\n",
       "      <td>0.000000</td>\n",
       "    </tr>\n",
       "    <tr>\n",
       "      <th>Finishing</th>\n",
       "      <td>0</td>\n",
       "      <td>0.000000</td>\n",
       "    </tr>\n",
       "    <tr>\n",
       "      <th>HeadingAccuracy</th>\n",
       "      <td>0</td>\n",
       "      <td>0.000000</td>\n",
       "    </tr>\n",
       "    <tr>\n",
       "      <th>ShortPassing</th>\n",
       "      <td>0</td>\n",
       "      <td>0.000000</td>\n",
       "    </tr>\n",
       "    <tr>\n",
       "      <th>Unnamed: 0</th>\n",
       "      <td>0</td>\n",
       "      <td>0.000000</td>\n",
       "    </tr>\n",
       "  </tbody>\n",
       "</table>\n",
       "</div>"
      ],
      "text/plain": [
       "                          Number of missing values  \\\n",
       "Loaned From                                   1715   \n",
       "LWB                                            180   \n",
       "LCM                                            180   \n",
       "RS                                             180   \n",
       "LW                                             180   \n",
       "LF                                             180   \n",
       "CF                                             180   \n",
       "RF                                             180   \n",
       "RW                                             180   \n",
       "LAM                                            180   \n",
       "CAM                                            180   \n",
       "RAM                                            180   \n",
       "LM                                             180   \n",
       "CM                                             180   \n",
       "LS                                             180   \n",
       "RCM                                            180   \n",
       "RM                                             180   \n",
       "LDM                                            180   \n",
       "CDM                                            180   \n",
       "RDM                                            180   \n",
       "RWB                                            180   \n",
       "LB                                             180   \n",
       "LCB                                            180   \n",
       "CB                                             180   \n",
       "RCB                                            180   \n",
       "RB                                             180   \n",
       "ST                                             180   \n",
       "Release Clause                                 122   \n",
       "Joined                                         121   \n",
       "Club                                            14   \n",
       "Contract Valid Until                            14   \n",
       "Balance                                          0   \n",
       "LongShots                                        0   \n",
       "Strength                                         0   \n",
       "Stamina                                          0   \n",
       "Jumping                                          0   \n",
       "ShotPower                                        0   \n",
       "Weight                                           0   \n",
       "Reactions                                        0   \n",
       "Aggression                                       0   \n",
       "SprintSpeed                                      0   \n",
       "Acceleration                                     0   \n",
       "BallControl                                      0   \n",
       "LongPassing                                      0   \n",
       "Agility                                          0   \n",
       "Interceptions                                    0   \n",
       "Curve                                            0   \n",
       "Positioning                                      0   \n",
       "Vision                                           0   \n",
       "Penalties                                        0   \n",
       "Composure                                        0   \n",
       "Marking                                          0   \n",
       "StandingTackle                                   0   \n",
       "SlidingTackle                                    0   \n",
       "GKDiving                                         0   \n",
       "GKHandling                                       0   \n",
       "GKKicking                                        0   \n",
       "GKPositioning                                    0   \n",
       "GKReflexes                                       0   \n",
       "FKAccuracy                                       0   \n",
       "Volleys                                          0   \n",
       "Dribbling                                        0   \n",
       "Height                                           0   \n",
       "Jersey Number                                    0   \n",
       "Position                                         0   \n",
       "Real Face                                        0   \n",
       "Body Type                                        0   \n",
       "Work Rate                                        0   \n",
       "Skill Moves                                      0   \n",
       "Weak Foot                                        0   \n",
       "International Reputation                         0   \n",
       "Preferred Foot                                   0   \n",
       "Special                                          0   \n",
       "Wage                                             0   \n",
       "Value                                            0   \n",
       "ID                                               0   \n",
       "Club Logo                                        0   \n",
       "Potential                                        0   \n",
       "Overall                                          0   \n",
       "Flag                                             0   \n",
       "Nationality                                      0   \n",
       "Photo                                            0   \n",
       "Age                                              0   \n",
       "Name                                             0   \n",
       "Crossing                                         0   \n",
       "Finishing                                        0   \n",
       "HeadingAccuracy                                  0   \n",
       "ShortPassing                                     0   \n",
       "Unnamed: 0                                       0   \n",
       "\n",
       "                          Percentage of missing values  \n",
       "Loaned From                                  94.127333  \n",
       "LWB                                           9.879254  \n",
       "LCM                                           9.879254  \n",
       "RS                                            9.879254  \n",
       "LW                                            9.879254  \n",
       "LF                                            9.879254  \n",
       "CF                                            9.879254  \n",
       "RF                                            9.879254  \n",
       "RW                                            9.879254  \n",
       "LAM                                           9.879254  \n",
       "CAM                                           9.879254  \n",
       "RAM                                           9.879254  \n",
       "LM                                            9.879254  \n",
       "CM                                            9.879254  \n",
       "LS                                            9.879254  \n",
       "RCM                                           9.879254  \n",
       "RM                                            9.879254  \n",
       "LDM                                           9.879254  \n",
       "CDM                                           9.879254  \n",
       "RDM                                           9.879254  \n",
       "RWB                                           9.879254  \n",
       "LB                                            9.879254  \n",
       "LCB                                           9.879254  \n",
       "CB                                            9.879254  \n",
       "RCB                                           9.879254  \n",
       "RB                                            9.879254  \n",
       "ST                                            9.879254  \n",
       "Release Clause                                6.695939  \n",
       "Joined                                        6.641054  \n",
       "Club                                          0.768386  \n",
       "Contract Valid Until                          0.768386  \n",
       "Balance                                       0.000000  \n",
       "LongShots                                     0.000000  \n",
       "Strength                                      0.000000  \n",
       "Stamina                                       0.000000  \n",
       "Jumping                                       0.000000  \n",
       "ShotPower                                     0.000000  \n",
       "Weight                                        0.000000  \n",
       "Reactions                                     0.000000  \n",
       "Aggression                                    0.000000  \n",
       "SprintSpeed                                   0.000000  \n",
       "Acceleration                                  0.000000  \n",
       "BallControl                                   0.000000  \n",
       "LongPassing                                   0.000000  \n",
       "Agility                                       0.000000  \n",
       "Interceptions                                 0.000000  \n",
       "Curve                                         0.000000  \n",
       "Positioning                                   0.000000  \n",
       "Vision                                        0.000000  \n",
       "Penalties                                     0.000000  \n",
       "Composure                                     0.000000  \n",
       "Marking                                       0.000000  \n",
       "StandingTackle                                0.000000  \n",
       "SlidingTackle                                 0.000000  \n",
       "GKDiving                                      0.000000  \n",
       "GKHandling                                    0.000000  \n",
       "GKKicking                                     0.000000  \n",
       "GKPositioning                                 0.000000  \n",
       "GKReflexes                                    0.000000  \n",
       "FKAccuracy                                    0.000000  \n",
       "Volleys                                       0.000000  \n",
       "Dribbling                                     0.000000  \n",
       "Height                                        0.000000  \n",
       "Jersey Number                                 0.000000  \n",
       "Position                                      0.000000  \n",
       "Real Face                                     0.000000  \n",
       "Body Type                                     0.000000  \n",
       "Work Rate                                     0.000000  \n",
       "Skill Moves                                   0.000000  \n",
       "Weak Foot                                     0.000000  \n",
       "International Reputation                      0.000000  \n",
       "Preferred Foot                                0.000000  \n",
       "Special                                       0.000000  \n",
       "Wage                                          0.000000  \n",
       "Value                                         0.000000  \n",
       "ID                                            0.000000  \n",
       "Club Logo                                     0.000000  \n",
       "Potential                                     0.000000  \n",
       "Overall                                       0.000000  \n",
       "Flag                                          0.000000  \n",
       "Nationality                                   0.000000  \n",
       "Photo                                         0.000000  \n",
       "Age                                           0.000000  \n",
       "Name                                          0.000000  \n",
       "Crossing                                      0.000000  \n",
       "Finishing                                     0.000000  \n",
       "HeadingAccuracy                               0.000000  \n",
       "ShortPassing                                  0.000000  \n",
       "Unnamed: 0                                    0.000000  "
      ]
     },
     "execution_count": 15,
     "metadata": {},
     "output_type": "execute_result"
    }
   ],
   "source": [
    "x=data.isnull().sum()\n",
    "y=(data.isnull().sum()/data.shape[0])*100\n",
    "z={'Number of missing values':x,'Percentage of missing values':y}\n",
    "df=pd.DataFrame(z,columns=['Number of missing values','Percentage of missing values'])\n",
    "df.sort_values(by='Percentage of missing values',ascending=False)"
   ]
  },
  {
   "cell_type": "code",
   "execution_count": 16,
   "metadata": {},
   "outputs": [],
   "source": [
    "data=data.drop(['Loaned From'],axis=1)"
   ]
  },
  {
   "cell_type": "code",
   "execution_count": 17,
   "metadata": {},
   "outputs": [
    {
     "name": "stdout",
     "output_type": "stream",
     "text": [
      "Let's check the columns after removing Loaned From column Index(['Unnamed: 0', 'ID', 'Name', 'Age', 'Photo', 'Nationality', 'Flag',\n",
      "       'Overall', 'Potential', 'Club', 'Club Logo', 'Value', 'Wage', 'Special',\n",
      "       'Preferred Foot', 'International Reputation', 'Weak Foot',\n",
      "       'Skill Moves', 'Work Rate', 'Body Type', 'Real Face', 'Position',\n",
      "       'Jersey Number', 'Joined', 'Contract Valid Until', 'Height', 'Weight',\n",
      "       'LS', 'ST', 'RS', 'LW', 'LF', 'CF', 'RF', 'RW', 'LAM', 'CAM', 'RAM',\n",
      "       'LM', 'LCM', 'CM', 'RCM', 'RM', 'LWB', 'LDM', 'CDM', 'RDM', 'RWB', 'LB',\n",
      "       'LCB', 'CB', 'RCB', 'RB', 'Crossing', 'Finishing', 'HeadingAccuracy',\n",
      "       'ShortPassing', 'Volleys', 'Dribbling', 'Curve', 'FKAccuracy',\n",
      "       'LongPassing', 'BallControl', 'Acceleration', 'SprintSpeed', 'Agility',\n",
      "       'Reactions', 'Balance', 'ShotPower', 'Jumping', 'Stamina', 'Strength',\n",
      "       'LongShots', 'Aggression', 'Interceptions', 'Positioning', 'Vision',\n",
      "       'Penalties', 'Composure', 'Marking', 'StandingTackle', 'SlidingTackle',\n",
      "       'GKDiving', 'GKHandling', 'GKKicking', 'GKPositioning', 'GKReflexes',\n",
      "       'Release Clause'],\n",
      "      dtype='object')\n"
     ]
    }
   ],
   "source": [
    "print(\"Let's check the columns after removing Loaned From column\",data.columns)"
   ]
  },
  {
   "cell_type": "code",
   "execution_count": 18,
   "metadata": {},
   "outputs": [
    {
     "data": {
      "text/plain": [
       "Club                    object\n",
       "Joined                  object\n",
       "Contract Valid Until    object\n",
       "LS                      object\n",
       "ST                      object\n",
       "RS                      object\n",
       "LW                      object\n",
       "LF                      object\n",
       "CF                      object\n",
       "RF                      object\n",
       "RW                      object\n",
       "LAM                     object\n",
       "CAM                     object\n",
       "RAM                     object\n",
       "LM                      object\n",
       "LCM                     object\n",
       "CM                      object\n",
       "RCM                     object\n",
       "RM                      object\n",
       "LWB                     object\n",
       "LDM                     object\n",
       "CDM                     object\n",
       "RDM                     object\n",
       "RWB                     object\n",
       "LB                      object\n",
       "LCB                     object\n",
       "CB                      object\n",
       "RCB                     object\n",
       "RB                      object\n",
       "Release Clause          object\n",
       "dtype: object"
      ]
     },
     "execution_count": 18,
     "metadata": {},
     "output_type": "execute_result"
    }
   ],
   "source": [
    "data.dtypes[data.isnull().any()]"
   ]
  },
  {
   "cell_type": "code",
   "execution_count": 19,
   "metadata": {},
   "outputs": [],
   "source": [
    "#Player who have missing value in jersey number means that they donot have jersey number so it will be illogical to impute the \n",
    "#missing values using mean,median or mode. So let's impute the missing value as NA\n",
    "data['Jersey Number'].fillna('NA',inplace=True)"
   ]
  },
  {
   "cell_type": "code",
   "execution_count": 20,
   "metadata": {},
   "outputs": [],
   "source": [
    "data['Club']=data['Club'].fillna(data['Club'].mode()[0])\n",
    "data['Position']=data['Position'].fillna(data['Position'].mode()[0])\n",
    "data['Joined']=data['Joined'].fillna(data['Joined'].mode()[0])\n",
    "data['Contract Valid Until']=data['Contract Valid Until'].fillna(data['Contract Valid Until'].mode()[0])\n",
    "data['Release Clause']=data['Release Clause'].fillna(data['Release Clause'].mode()[0])\n"
   ]
  },
  {
   "cell_type": "code",
   "execution_count": 21,
   "metadata": {},
   "outputs": [],
   "source": [
    "#business logic\n",
    "data['RB'].fillna(0,inplace=True)\n",
    "data['RCB'].fillna(0,inplace=True)\n",
    "data['CB'].fillna(0,inplace=True)\n",
    "data['LCB'].fillna(0,inplace=True)\n",
    "data['LB'].fillna(0,inplace=True)\n",
    "data['RWB'].fillna(0,inplace=True)\n",
    "data['RDM'].fillna(0,inplace=True)\n",
    "data['CDM'].fillna(0,inplace=True)\n",
    "data['LDM'].fillna(0,inplace=True)\n",
    "data['LWB'].fillna(0,inplace=True)\n",
    "data['RM'].fillna(0,inplace=True)\n",
    "data['RCM'].fillna(0,inplace=True)\n",
    "data['CM'].fillna(0,inplace=True)\n",
    "data['LCM'].fillna(0,inplace=True)\n",
    "data['LM'].fillna(0,inplace=True)\n",
    "data['RAM'].fillna(0,inplace=True)\n",
    "data['CAM'].fillna(0,inplace=True)\n",
    "data['LAM'].fillna(0,inplace=True)\n",
    "data['RW'].fillna(0,inplace=True)\n",
    "data['RF'].fillna(0,inplace=True)\n",
    "data['CF'].fillna(0,inplace=True)\n",
    "data['LF'].fillna(0,inplace=True)\n",
    "data['LW'].fillna(0,inplace=True)\n",
    "data['RS'].fillna(0,inplace=True)\n",
    "data['ST'].fillna(0,inplace=True)\n",
    "data['LS'].fillna(0,inplace=True)"
   ]
  },
  {
   "cell_type": "markdown",
   "metadata": {},
   "source": [
    "If you have to impute all the missing values with 0 as in the above case you can directly write the command as\n",
    "data.fillna(0,inplace=True)"
   ]
  },
  {
   "cell_type": "code",
   "execution_count": 22,
   "metadata": {},
   "outputs": [
    {
     "data": {
      "text/plain": [
       "0"
      ]
     },
     "execution_count": 22,
     "metadata": {},
     "output_type": "execute_result"
    }
   ],
   "source": [
    "data.isnull().sum().sum()"
   ]
  },
  {
   "cell_type": "markdown",
   "metadata": {},
   "source": [
    "## Handling missing values in dataframes\n",
    "\n",
    "Missing Data can occur when no information is provided for one or more items or for a whole unit. Missing Data is a very big problem in real life scenario.\n",
    "\n",
    "Missing Data can also refer to as NA(Not Available) values in pandas. In DataFrame sometimes many datasets simply arrive with missing data, either because it exists and was not collected or it never existed.\n",
    "\n",
    "For Example, Suppose different user being surveyed may choose not to share their income, some user may choose not to share the address in this way many datasets went missing.\n",
    "\n",
    "* None: None is a Python singleton object that is often used for missing data in Python code.\n",
    "* NaN : NaN (an acronym for Not a Number), is a special floating-point value recognized by all systems that use the standard IEEE floating-point representation.\n",
    "\n",
    "Pandas treat None and NaN as essentially interchangeable for indicating missing or null values. To facilitate this convention, there are several useful functions for detecting, removing, and replacing null values in Pandas DataFrame :\n",
    "\n",
    "* isnull()\n",
    "* notnull()\n",
    "* dropna()\n",
    "* fillna()\n",
    "* replace()\n",
    "* interpolate()"
   ]
  },
  {
   "cell_type": "code",
   "execution_count": 19,
   "metadata": {},
   "outputs": [
    {
     "data": {
      "text/html": [
       "<div>\n",
       "<style scoped>\n",
       "    .dataframe tbody tr th:only-of-type {\n",
       "        vertical-align: middle;\n",
       "    }\n",
       "\n",
       "    .dataframe tbody tr th {\n",
       "        vertical-align: top;\n",
       "    }\n",
       "\n",
       "    .dataframe thead th {\n",
       "        text-align: right;\n",
       "    }\n",
       "</style>\n",
       "<table border=\"1\" class=\"dataframe\">\n",
       "  <thead>\n",
       "    <tr style=\"text-align: right;\">\n",
       "      <th></th>\n",
       "      <th>First Score</th>\n",
       "      <th>Second Score</th>\n",
       "      <th>Third Score</th>\n",
       "    </tr>\n",
       "  </thead>\n",
       "  <tbody>\n",
       "    <tr>\n",
       "      <th>0</th>\n",
       "      <td>100.0</td>\n",
       "      <td>30.0</td>\n",
       "      <td>NaN</td>\n",
       "    </tr>\n",
       "    <tr>\n",
       "      <th>1</th>\n",
       "      <td>90.0</td>\n",
       "      <td>45.0</td>\n",
       "      <td>40.0</td>\n",
       "    </tr>\n",
       "    <tr>\n",
       "      <th>2</th>\n",
       "      <td>NaN</td>\n",
       "      <td>56.0</td>\n",
       "      <td>80.0</td>\n",
       "    </tr>\n",
       "    <tr>\n",
       "      <th>3</th>\n",
       "      <td>95.0</td>\n",
       "      <td>NaN</td>\n",
       "      <td>98.0</td>\n",
       "    </tr>\n",
       "  </tbody>\n",
       "</table>\n",
       "</div>"
      ],
      "text/plain": [
       "   First Score  Second Score  Third Score\n",
       "0        100.0          30.0          NaN\n",
       "1         90.0          45.0         40.0\n",
       "2          NaN          56.0         80.0\n",
       "3         95.0           NaN         98.0"
      ]
     },
     "execution_count": 19,
     "metadata": {},
     "output_type": "execute_result"
    }
   ],
   "source": [
    "# importing libraries\n",
    "import pandas as pd\n",
    "import numpy as np\n",
    "# creating dataframe\n",
    "d = {'First Score':[100, 90, np.nan, 95],\n",
    "        'Second Score': [30, 45, 56, np.nan],\n",
    "        'Third Score':[np.nan, 40, 80, 98]}\n",
    "df = pd.DataFrame(d)\n",
    "df"
   ]
  },
  {
   "cell_type": "code",
   "execution_count": 20,
   "metadata": {},
   "outputs": [
    {
     "data": {
      "text/plain": [
       "First Score     1\n",
       "Second Score    1\n",
       "Third Score     1\n",
       "dtype: int64"
      ]
     },
     "execution_count": 20,
     "metadata": {},
     "output_type": "execute_result"
    }
   ],
   "source": [
    "df.isnull().sum()"
   ]
  },
  {
   "cell_type": "code",
   "execution_count": 21,
   "metadata": {},
   "outputs": [
    {
     "data": {
      "text/plain": [
       "0    1\n",
       "1    0\n",
       "2    1\n",
       "3    1\n",
       "dtype: int64"
      ]
     },
     "execution_count": 21,
     "metadata": {},
     "output_type": "execute_result"
    }
   ],
   "source": [
    "df.isnull().sum(axis = 1)"
   ]
  },
  {
   "cell_type": "code",
   "execution_count": 22,
   "metadata": {
    "scrolled": false
   },
   "outputs": [
    {
     "data": {
      "text/html": [
       "<div>\n",
       "<style scoped>\n",
       "    .dataframe tbody tr th:only-of-type {\n",
       "        vertical-align: middle;\n",
       "    }\n",
       "\n",
       "    .dataframe tbody tr th {\n",
       "        vertical-align: top;\n",
       "    }\n",
       "\n",
       "    .dataframe thead th {\n",
       "        text-align: right;\n",
       "    }\n",
       "</style>\n",
       "<table border=\"1\" class=\"dataframe\">\n",
       "  <thead>\n",
       "    <tr style=\"text-align: right;\">\n",
       "      <th></th>\n",
       "      <th>First Score</th>\n",
       "      <th>Second Score</th>\n",
       "      <th>Third Score</th>\n",
       "    </tr>\n",
       "  </thead>\n",
       "  <tbody>\n",
       "    <tr>\n",
       "      <th>0</th>\n",
       "      <td>100.0</td>\n",
       "      <td>30.000000</td>\n",
       "      <td>72.666667</td>\n",
       "    </tr>\n",
       "    <tr>\n",
       "      <th>1</th>\n",
       "      <td>90.0</td>\n",
       "      <td>45.000000</td>\n",
       "      <td>40.000000</td>\n",
       "    </tr>\n",
       "    <tr>\n",
       "      <th>2</th>\n",
       "      <td>95.0</td>\n",
       "      <td>56.000000</td>\n",
       "      <td>80.000000</td>\n",
       "    </tr>\n",
       "    <tr>\n",
       "      <th>3</th>\n",
       "      <td>95.0</td>\n",
       "      <td>43.666667</td>\n",
       "      <td>98.000000</td>\n",
       "    </tr>\n",
       "  </tbody>\n",
       "</table>\n",
       "</div>"
      ],
      "text/plain": [
       "   First Score  Second Score  Third Score\n",
       "0        100.0     30.000000    72.666667\n",
       "1         90.0     45.000000    40.000000\n",
       "2         95.0     56.000000    80.000000\n",
       "3         95.0     43.666667    98.000000"
      ]
     },
     "execution_count": 22,
     "metadata": {},
     "output_type": "execute_result"
    }
   ],
   "source": [
    "df.fillna(df.mean())"
   ]
  },
  {
   "cell_type": "code",
   "execution_count": 23,
   "metadata": {},
   "outputs": [
    {
     "data": {
      "text/html": [
       "<div>\n",
       "<style scoped>\n",
       "    .dataframe tbody tr th:only-of-type {\n",
       "        vertical-align: middle;\n",
       "    }\n",
       "\n",
       "    .dataframe tbody tr th {\n",
       "        vertical-align: top;\n",
       "    }\n",
       "\n",
       "    .dataframe thead th {\n",
       "        text-align: right;\n",
       "    }\n",
       "</style>\n",
       "<table border=\"1\" class=\"dataframe\">\n",
       "  <thead>\n",
       "    <tr style=\"text-align: right;\">\n",
       "      <th></th>\n",
       "      <th>col1</th>\n",
       "      <th>col2</th>\n",
       "      <th>col3</th>\n",
       "    </tr>\n",
       "  </thead>\n",
       "  <tbody>\n",
       "    <tr>\n",
       "      <th>0</th>\n",
       "      <td>2019</td>\n",
       "      <td>350</td>\n",
       "      <td>NaN</td>\n",
       "    </tr>\n",
       "    <tr>\n",
       "      <th>1</th>\n",
       "      <td>2019</td>\n",
       "      <td>365</td>\n",
       "      <td>365.0</td>\n",
       "    </tr>\n",
       "    <tr>\n",
       "      <th>2</th>\n",
       "      <td>2020</td>\n",
       "      <td>1</td>\n",
       "      <td>NaN</td>\n",
       "    </tr>\n",
       "  </tbody>\n",
       "</table>\n",
       "</div>"
      ],
      "text/plain": [
       "   col1  col2   col3\n",
       "0  2019   350    NaN\n",
       "1  2019   365  365.0\n",
       "2  2020     1    NaN"
      ]
     },
     "execution_count": 23,
     "metadata": {},
     "output_type": "execute_result"
    }
   ],
   "source": [
    "# importing required libraries\n",
    "import pandas as pd\n",
    "import numpy as np\n",
    "d = {\"col1\": [2019, 2019, 2020],\n",
    "     \"col2\": [350, 365, 1],\n",
    "     \"col3\": [np.nan, 365, None]}\n",
    "\n",
    "df = pd.DataFrame(d)\n",
    "df"
   ]
  },
  {
   "cell_type": "code",
   "execution_count": 25,
   "metadata": {},
   "outputs": [
    {
     "data": {
      "text/plain": [
       "0    1\n",
       "1    0\n",
       "2    1\n",
       "dtype: int64"
      ]
     },
     "execution_count": 25,
     "metadata": {},
     "output_type": "execute_result"
    }
   ],
   "source": [
    "df.isnull().sum() # Solution 1\n",
    "df.isna().sum()   # Solution 2\n",
    "df.isna().any()  # Solution 3\n",
    "df.isna().sum(axis = 1) # Solution 4"
   ]
  },
  {
   "cell_type": "code",
   "execution_count": 26,
   "metadata": {},
   "outputs": [
    {
     "data": {
      "text/plain": [
       "2"
      ]
     },
     "execution_count": 26,
     "metadata": {},
     "output_type": "execute_result"
    }
   ],
   "source": [
    "# total number of missing values in the dataframe\n",
    "df.isnull().sum().sum()"
   ]
  },
  {
   "cell_type": "code",
   "execution_count": 27,
   "metadata": {},
   "outputs": [
    {
     "data": {
      "text/plain": [
       "0    1\n",
       "1    0\n",
       "2    1\n",
       "dtype: int64"
      ]
     },
     "execution_count": 27,
     "metadata": {},
     "output_type": "execute_result"
    }
   ],
   "source": [
    "# rowwise missing values\n",
    "df.isnull().sum(axis=1)"
   ]
  },
  {
   "cell_type": "code",
   "execution_count": 28,
   "metadata": {
    "scrolled": true
   },
   "outputs": [
    {
     "data": {
      "text/plain": [
       "col1    False\n",
       "col2    False\n",
       "col3     True\n",
       "dtype: bool"
      ]
     },
     "execution_count": 28,
     "metadata": {},
     "output_type": "execute_result"
    }
   ],
   "source": [
    "# returns boolean object \n",
    "df.isnull().any()"
   ]
  },
  {
   "cell_type": "markdown",
   "metadata": {},
   "source": [
    "<!--NAVIGATION-->\n",
    "< [在Pandas中操作数据](03.03-Operations-in-Pandas.ipynb) | [目录](Index.ipynb) | [层次化的索引](03.05-Hierarchical-Indexing.ipynb) >\n",
    "\n",
    "<a href=\"https://colab.research.google.com/github/wangyingsm/Python-Data-Science-Handbook/blob/master/notebooks/03.04-Missing-Values.ipynb\"><img align=\"left\" src=\"https://colab.research.google.com/assets/colab-badge.svg\" alt=\"Open in Colab\" title=\"Open and Execute in Google Colaboratory\"></a>\n"
   ]
  }
 ],
 "metadata": {
  "anaconda-cloud": {},
  "kernelspec": {
   "display_name": "Python 3 (ipykernel)",
   "language": "python",
   "name": "python3"
  },
  "language_info": {
   "codemirror_mode": {
    "name": "ipython",
    "version": 3
   },
   "file_extension": ".py",
   "mimetype": "text/x-python",
   "name": "python",
   "nbconvert_exporter": "python",
   "pygments_lexer": "ipython3",
   "version": "3.9.7"
  }
 },
 "nbformat": 4,
 "nbformat_minor": 1
}
