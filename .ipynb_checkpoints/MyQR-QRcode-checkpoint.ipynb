{
 "cells": [
  {
   "cell_type": "code",
   "execution_count": 1,
   "id": "d19e39d3",
   "metadata": {},
   "outputs": [
    {
     "name": "stdout",
     "output_type": "stream",
     "text": [
      "Collecting myqr\n",
      "  Downloading MyQR-2.3.1.zip (16 kB)\n",
      "Requirement already satisfied: imageio>=1.5 in /Users/jerrychien/opt/anaconda3/lib/python3.9/site-packages (from myqr) (2.9.0)\n",
      "Requirement already satisfied: numpy>=1.11.1 in /Users/jerrychien/opt/anaconda3/lib/python3.9/site-packages (from myqr) (1.20.3)\n",
      "Requirement already satisfied: Pillow>=3.3.1 in /Users/jerrychien/opt/anaconda3/lib/python3.9/site-packages (from myqr) (8.4.0)\n",
      "Building wheels for collected packages: myqr\n",
      "  Building wheel for myqr (setup.py) ... \u001b[?25ldone\n",
      "\u001b[?25h  Created wheel for myqr: filename=MyQR-2.3.1-py3-none-any.whl size=16706 sha256=d8f5c95097d1589708e0676d2a4b8a41f580ca0a1d25d4361fde9898eadba878\n",
      "  Stored in directory: /Users/jerrychien/Library/Caches/pip/wheels/b4/e9/db/3e946eec9044375a9d334d525f43b459835989d0ef7ea44003\n",
      "Successfully built myqr\n",
      "Installing collected packages: myqr\n",
      "Successfully installed myqr-2.3.1\n",
      "Note: you may need to restart the kernel to use updated packages.\n"
     ]
    }
   ],
   "source": [
    "pip install myqr"
   ]
  },
  {
   "cell_type": "markdown",
   "id": "3739c8c2",
   "metadata": {},
   "source": [
    "預計採用的網址 IT 鐵人賽\n",
    "- https://ithelp.ithome.com.tw/users/20140740"
   ]
  },
  {
   "cell_type": "code",
   "execution_count": 2,
   "id": "47791111",
   "metadata": {},
   "outputs": [],
   "source": [
    "url = 'https://ithelp.ithome.com.tw/users/20140740' # 可放網址或文字(限英文)"
   ]
  },
  {
   "cell_type": "code",
   "execution_count": 3,
   "id": "fc043549",
   "metadata": {},
   "outputs": [
    {
     "name": "stdout",
     "output_type": "stream",
     "text": [
      "line 16: mode: byte\n"
     ]
    },
    {
     "data": {
      "text/plain": [
       "(3, 'L', '/Users/jerrychien/Documents/GitHub/WhaleFall/input/qrcode-A.jpg')"
      ]
     },
     "execution_count": 3,
     "metadata": {},
     "output_type": "execute_result"
    }
   ],
   "source": [
    "## 最普通的QR Code程式碼\n",
    "\n",
    "from MyQR import myqr\n",
    "\n",
    "myqr.run(words = url, \n",
    "         level = 'L',           # 糾錯水平，預設是H(最高)\n",
    "         colorized = False,     # 背景圖片是否用彩色，預設是False(黑白)\n",
    "         save_name = 'input/qrcode-A.jpg')"
   ]
  },
  {
   "cell_type": "code",
   "execution_count": 4,
   "id": "2633331f",
   "metadata": {},
   "outputs": [
    {
     "ename": "ValueError",
     "evalue": "Wrong picture! Input a filename that exists and be tailed with one of {'.jpg', '.png', '.bmp', '.gif'}!",
     "output_type": "error",
     "traceback": [
      "\u001b[0;31m---------------------------------------------------------------------------\u001b[0m",
      "\u001b[0;31mValueError\u001b[0m                                Traceback (most recent call last)",
      "\u001b[0;32m/var/folders/9q/486czkcn7lv5v0hwbt71twdc0000gn/T/ipykernel_33443/2501295256.py\u001b[0m in \u001b[0;36m<module>\u001b[0;34m\u001b[0m\n\u001b[1;32m      1\u001b[0m \u001b[0;32mfrom\u001b[0m \u001b[0mMyQR\u001b[0m \u001b[0;32mimport\u001b[0m \u001b[0mmyqr\u001b[0m\u001b[0;34m\u001b[0m\u001b[0;34m\u001b[0m\u001b[0m\n\u001b[1;32m      2\u001b[0m \u001b[0;34m\u001b[0m\u001b[0m\n\u001b[0;32m----> 3\u001b[0;31m myqr.run(words = url, # \n\u001b[0m\u001b[1;32m      4\u001b[0m          \u001b[0mpicture\u001b[0m \u001b[0;34m=\u001b[0m \u001b[0;34m'input/icon/singapore.png'\u001b[0m\u001b[0;34m,\u001b[0m\u001b[0;34m\u001b[0m\u001b[0;34m\u001b[0m\u001b[0m\n\u001b[1;32m      5\u001b[0m          \u001b[0mversion\u001b[0m \u001b[0;34m=\u001b[0m \u001b[0;36m20\u001b[0m\u001b[0;34m,\u001b[0m                            \u001b[0;31m# QR Code的邊長，越大圖案越清楚\u001b[0m\u001b[0;34m\u001b[0m\u001b[0;34m\u001b[0m\u001b[0m\n",
      "\u001b[0;32m~/opt/anaconda3/lib/python3.9/site-packages/MyQR/myqr.py\u001b[0m in \u001b[0;36mrun\u001b[0;34m(words, version, level, picture, colorized, contrast, brightness, save_name, save_dir)\u001b[0m\n\u001b[1;32m     34\u001b[0m     \u001b[0;32mif\u001b[0m \u001b[0mpicture\u001b[0m\u001b[0;34m:\u001b[0m\u001b[0;34m\u001b[0m\u001b[0;34m\u001b[0m\u001b[0m\n\u001b[1;32m     35\u001b[0m         \u001b[0;32mif\u001b[0m \u001b[0;32mnot\u001b[0m \u001b[0misinstance\u001b[0m\u001b[0;34m(\u001b[0m\u001b[0mpicture\u001b[0m\u001b[0;34m,\u001b[0m \u001b[0mstr\u001b[0m\u001b[0;34m)\u001b[0m \u001b[0;32mor\u001b[0m \u001b[0;32mnot\u001b[0m \u001b[0mos\u001b[0m\u001b[0;34m.\u001b[0m\u001b[0mpath\u001b[0m\u001b[0;34m.\u001b[0m\u001b[0misfile\u001b[0m\u001b[0;34m(\u001b[0m\u001b[0mpicture\u001b[0m\u001b[0;34m)\u001b[0m \u001b[0;32mor\u001b[0m \u001b[0mpicture\u001b[0m\u001b[0;34m[\u001b[0m\u001b[0;34m-\u001b[0m\u001b[0;36m4\u001b[0m\u001b[0;34m:\u001b[0m\u001b[0;34m]\u001b[0m \u001b[0;32mnot\u001b[0m \u001b[0;32min\u001b[0m \u001b[0;34m(\u001b[0m\u001b[0;34m'.jpg'\u001b[0m\u001b[0;34m,\u001b[0m\u001b[0;34m'.png'\u001b[0m\u001b[0;34m,\u001b[0m\u001b[0;34m'.bmp'\u001b[0m\u001b[0;34m,\u001b[0m\u001b[0;34m'.gif'\u001b[0m\u001b[0;34m)\u001b[0m\u001b[0;34m:\u001b[0m\u001b[0;34m\u001b[0m\u001b[0;34m\u001b[0m\u001b[0m\n\u001b[0;32m---> 36\u001b[0;31m             \u001b[0;32mraise\u001b[0m \u001b[0mValueError\u001b[0m\u001b[0;34m(\u001b[0m\u001b[0;34m\"Wrong picture! Input a filename that exists and be tailed with one of {'.jpg', '.png', '.bmp', '.gif'}!\"\u001b[0m\u001b[0;34m)\u001b[0m\u001b[0;34m\u001b[0m\u001b[0;34m\u001b[0m\u001b[0m\n\u001b[0m\u001b[1;32m     37\u001b[0m         \u001b[0;32mif\u001b[0m \u001b[0mpicture\u001b[0m\u001b[0;34m[\u001b[0m\u001b[0;34m-\u001b[0m\u001b[0;36m4\u001b[0m\u001b[0;34m:\u001b[0m\u001b[0;34m]\u001b[0m \u001b[0;34m==\u001b[0m \u001b[0;34m'.gif'\u001b[0m \u001b[0;32mand\u001b[0m \u001b[0msave_name\u001b[0m \u001b[0;32mand\u001b[0m \u001b[0msave_name\u001b[0m\u001b[0;34m[\u001b[0m\u001b[0;34m-\u001b[0m\u001b[0;36m4\u001b[0m\u001b[0;34m:\u001b[0m\u001b[0;34m]\u001b[0m \u001b[0;34m!=\u001b[0m \u001b[0;34m'.gif'\u001b[0m\u001b[0;34m:\u001b[0m\u001b[0;34m\u001b[0m\u001b[0;34m\u001b[0m\u001b[0m\n\u001b[1;32m     38\u001b[0m             \u001b[0;32mraise\u001b[0m \u001b[0mValueError\u001b[0m\u001b[0;34m(\u001b[0m\u001b[0;34m'Wrong save_name! If the picuter is .gif format, the output filename should be .gif format, too!'\u001b[0m\u001b[0;34m)\u001b[0m\u001b[0;34m\u001b[0m\u001b[0;34m\u001b[0m\u001b[0m\n",
      "\u001b[0;31mValueError\u001b[0m: Wrong picture! Input a filename that exists and be tailed with one of {'.jpg', '.png', '.bmp', '.gif'}!"
     ]
    }
   ],
   "source": [
    "from MyQR import myqr\n",
    "\n",
    "myqr.run(words = url, # \n",
    "         picture = 'input/icon/singapore.png',\n",
    "         version = 20,                            # QR Code的邊長，越大圖案越清楚\n",
    "         level = 'H',                             # 糾錯水平，預設是H(最高)\n",
    "         colorized = True,                       # 背景圖片是否用彩色，預設是False(黑白)\n",
    "         save_name = 'input/qrcode-B.jpg')   "
   ]
  },
  {
   "cell_type": "code",
   "execution_count": null,
   "id": "c2f7680c",
   "metadata": {},
   "outputs": [],
   "source": [
    "from MyQR import myqr\n",
    "\n",
    "myqr.run(words = url, # \n",
    "         picture = 'input/icon/giphy.gif',\n",
    "         version = 20,                            # QR Code的邊長，越大圖案越清楚\n",
    "         level = 'H',                             # 糾錯水平，預設是H(最高)\n",
    "         colorized = True,                       # 背景圖片是否用彩色，預設是False(黑白)\n",
    "         save_name = 'input/qrcode-C.gif')   "
   ]
  },
  {
   "cell_type": "code",
   "execution_count": null,
   "id": "9e587d22",
   "metadata": {},
   "outputs": [],
   "source": [
    "pip install qrcode "
   ]
  },
  {
   "cell_type": "code",
   "execution_count": null,
   "id": "9357267c",
   "metadata": {},
   "outputs": [],
   "source": [
    "import qrcode\n",
    "from PIL import Image\n",
    "\n",
    "def make_qrcode(text): \n",
    "    qr = qrcode.QRCode(version=10, box_size=8, border=4)\n",
    "    qr.add_data(text)\n",
    "    qr.make(fit=True)\n",
    "    return qr.make_image(fill_color=\"black\", back_color=\"white\")\n",
    "    \n",
    "def add_img(back_image, logo_image):\n",
    "    qrcode_size = back_image.size[0]                       # 得到整張QR Code的邊長\n",
    "    qr_back = Image.new('RGBA', back_image.size, 'white')  # 建一個全白背景\n",
    "    qr_back.paste(back_image)                              # 貼上QR code\n",
    "    logo_size = int(qrcode_size / 5)                       # 調整logo大小\n",
    "    logo_offset = int((qrcode_size - logo_size) / 2)       # 把logo位置設定在正中間\n",
    "    resized_logo = logo_image.resize((logo_size, logo_size))\n",
    "    qr_back.paste(resized_logo, box=(logo_offset, logo_offset))\n",
    "    return qr_back\n",
    "       \n",
    "logo_image_file = 'input/icon/singapore.png'\n",
    "text = '大大大優惠!'\n",
    "logo_image = Image.open(logo_image_file)\n",
    "qr_code = make_qrcode(text)\n",
    "final = add_img(qr_code, logo_image)\n",
    "final.save('qrcode-C.png')\n",
    "final.show()"
   ]
  },
  {
   "cell_type": "code",
   "execution_count": null,
   "id": "55e75621",
   "metadata": {},
   "outputs": [],
   "source": []
  }
 ],
 "metadata": {
  "kernelspec": {
   "display_name": "Python 3 (ipykernel)",
   "language": "python",
   "name": "python3"
  },
  "language_info": {
   "codemirror_mode": {
    "name": "ipython",
    "version": 3
   },
   "file_extension": ".py",
   "mimetype": "text/x-python",
   "name": "python",
   "nbconvert_exporter": "python",
   "pygments_lexer": "ipython3",
   "version": "3.9.7"
  }
 },
 "nbformat": 4,
 "nbformat_minor": 5
}
