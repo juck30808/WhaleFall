{
 "cells": [
  {
   "cell_type": "code",
   "execution_count": 1,
   "metadata": {},
   "outputs": [
    {
     "ename": "ModuleNotFoundError",
     "evalue": "No module named 'ortools'",
     "output_type": "error",
     "traceback": [
      "\u001b[0;31m---------------------------------------------------------------------------\u001b[0m",
      "\u001b[0;31mModuleNotFoundError\u001b[0m                       Traceback (most recent call last)",
      "\u001b[0;32m/var/folders/9q/486czkcn7lv5v0hwbt71twdc0000gn/T/ipykernel_2540/3644574137.py\u001b[0m in \u001b[0;36m<module>\u001b[0;34m\u001b[0m\n\u001b[1;32m      1\u001b[0m \u001b[0;31m## Demo Notebook example\u001b[0m\u001b[0;34m\u001b[0m\u001b[0;34m\u001b[0m\u001b[0m\n\u001b[0;32m----> 2\u001b[0;31m \u001b[0;32mfrom\u001b[0m \u001b[0mortools\u001b[0m\u001b[0;34m.\u001b[0m\u001b[0mconstraint_solver\u001b[0m \u001b[0;32mimport\u001b[0m \u001b[0mrouting_enums_pb2\u001b[0m\u001b[0;34m\u001b[0m\u001b[0;34m\u001b[0m\u001b[0m\n\u001b[0m\u001b[1;32m      3\u001b[0m \u001b[0;32mfrom\u001b[0m \u001b[0mortools\u001b[0m\u001b[0;34m.\u001b[0m\u001b[0mconstraint_solver\u001b[0m \u001b[0;32mimport\u001b[0m \u001b[0mpywrapcp\u001b[0m\u001b[0;34m\u001b[0m\u001b[0;34m\u001b[0m\u001b[0m\n\u001b[1;32m      4\u001b[0m \u001b[0;34m\u001b[0m\u001b[0m\n\u001b[1;32m      5\u001b[0m \u001b[0;32mimport\u001b[0m \u001b[0mpandas\u001b[0m \u001b[0;32mas\u001b[0m \u001b[0mpd\u001b[0m\u001b[0;34m\u001b[0m\u001b[0;34m\u001b[0m\u001b[0m\n",
      "\u001b[0;31mModuleNotFoundError\u001b[0m: No module named 'ortools'"
     ]
    }
   ],
   "source": [
    "## Demo Notebook example\n",
    "from ortools.constraint_solver import routing_enums_pb2\n",
    "from ortools.constraint_solver import pywrapcp\n",
    "\n",
    "import pandas as pd\n",
    "%pprint"
   ]
  },
  {
   "cell_type": "code",
   "execution_count": null,
   "metadata": {},
   "outputs": [],
   "source": [
    "### this is yff morning durations where two vehicles will be utilized , no pick up schedule provided \n",
    "### the problem is to utilize the two vehicles with the minimum duration possible \n",
    "import pandas as pd\n",
    "from ortools.constraint_solver import routing_enums_pb2\n",
    "from ortools.constraint_solver import pywrapcp\n",
    "dist=pd.read_excel('input/durations.xlsx')\n",
    "window=pd.read_excel('input/time_windows.xlsx')\n",
    "\n",
    "window"
   ]
  },
  {
   "cell_type": "code",
   "execution_count": null,
   "metadata": {},
   "outputs": [],
   "source": [
    "ab=[]\n",
    "for i in range(0,dist.shape[0]):\n",
    "   a=dist.loc[i,:].values\n",
    "   a=a.tolist()\n",
    "   ab.append(a)\n",
    "ab"
   ]
  },
  {
   "cell_type": "code",
   "execution_count": null,
   "metadata": {},
   "outputs": [],
   "source": [
    "data={}\n",
    "data['time_matrix']=ab\n",
    "data['num_vehicles'] = 2\n",
    "data['depot'] = 0\n",
    "data['time_windows']=[]\n",
    "for i in range(0,window.shape[0]):\n",
    "    data['time_windows'].append((window['a'][i],window['b'][i]))\n"
   ]
  },
  {
   "cell_type": "code",
   "execution_count": null,
   "metadata": {},
   "outputs": [],
   "source": [
    "len(data['time_matrix'])\n"
   ]
  },
  {
   "cell_type": "code",
   "execution_count": null,
   "metadata": {},
   "outputs": [],
   "source": [
    "len(data['time_windows'])"
   ]
  },
  {
   "cell_type": "code",
   "execution_count": null,
   "metadata": {},
   "outputs": [],
   "source": [
    "data['time_windows']\n"
   ]
  },
  {
   "cell_type": "code",
   "execution_count": null,
   "metadata": {},
   "outputs": [],
   "source": [
    "manager= pywrapcp.RoutingIndexManager(len(data['time_matrix']),data['num_vehicles'],data['depot'])\n",
    "\n",
    "routing= pywrapcp.RoutingModel(manager)\n"
   ]
  },
  {
   "cell_type": "code",
   "execution_count": null,
   "metadata": {},
   "outputs": [],
   "source": []
  },
  {
   "cell_type": "code",
   "execution_count": null,
   "metadata": {},
   "outputs": [],
   "source": [
    "def time_callback(from_index,to_index):\n",
    "    from_node= manager.IndexToNode(from_index)\n",
    "    to_node= manager.IndexToNode(to_index)\n",
    "    return data['time_matrix'][from_node][to_node]\n",
    "\n",
    "transit_callback_index= routing.RegisterTransitCallback(time_callback)\n",
    "\n",
    "routing.SetArcCostEvaluatorOfAllVehicles(transit_callback_index)\n",
    "\n",
    "time='Time'\n",
    "routing.AddDimension( transit_callback_index\n",
    "    , 260\n",
    "    , 260, False, time)\n",
    "\n",
    "\n"
   ]
  },
  {
   "cell_type": "code",
   "execution_count": null,
   "metadata": {},
   "outputs": [],
   "source": [
    "time_dimension= routing.GetDimensionOrDie(time)\n",
    "time_dimension.SetGlobalSpanCostCoefficient(1000)\n",
    "\n",
    "data['time_windows'][0][0]"
   ]
  },
  {
   "cell_type": "code",
   "execution_count": null,
   "metadata": {},
   "outputs": [],
   "source": [
    "###Adding time windows consttraint\n",
    "\n",
    "for node, time_window in enumerate(data['time_windows']):\n",
    "    if node ==0:\n",
    "        continue\n",
    "    index= manager.NodeToIndex(node)\n",
    "    time_dimension.CumulVar(index).SetRange(int(time_window[0]),int(time_window[1]))\n",
    "\n",
    "\n"
   ]
  },
  {
   "cell_type": "code",
   "execution_count": null,
   "metadata": {},
   "outputs": [],
   "source": [
    "for vehicle_id in range(data['num_vehicles']):\n",
    "        index = routing.Start(vehicle_id)\n",
    "        time_dimension.CumulVar(index).SetRange(int(data['time_windows'][0][0]),\n",
    "                                                int(data['time_windows'][0][1]))\n",
    "\n",
    "for i in range(data['num_vehicles']):\n",
    "        routing.AddVariableMinimizedByFinalizer(\n",
    "            time_dimension.CumulVar(routing.Start(i)))\n",
    "        routing.AddVariableMinimizedByFinalizer(\n",
    "            time_dimension.CumulVar(routing.End(i)))\n"
   ]
  },
  {
   "cell_type": "code",
   "execution_count": null,
   "metadata": {},
   "outputs": [],
   "source": [
    "    # Setting first solution heuristic.\n",
    "\n",
    "search_parameters = pywrapcp.DefaultRoutingSearchParameters()\n",
    "search_parameters.first_solution_strategy = (\n",
    "        routing_enums_pb2.FirstSolutionStrategy.PATH_CHEAPEST_ARC)\n",
    "search_parameters.local_search_metaheuristic = (\n",
    "    routing_enums_pb2.LocalSearchMetaheuristic.GUIDED_LOCAL_SEARCH)\n",
    "search_parameters.time_limit.seconds=300\n"
   ]
  },
  {
   "cell_type": "code",
   "execution_count": null,
   "metadata": {},
   "outputs": [],
   "source": [
    "# Solve the problem.\n",
    "solution = routing.SolveWithParameters(search_parameters)\n",
    "\n"
   ]
  },
  {
   "cell_type": "code",
   "execution_count": null,
   "metadata": {},
   "outputs": [],
   "source": [
    "def get_routes(solution,routing,manager):\n",
    "    routes=[]\n",
    "    for node in range(routing.vehicles()):\n",
    "        index= routing.Start(node)\n",
    "        route= [manager.IndexToNode(index)]\n",
    "        while not routing.IsEnd(index):\n",
    "            index= solution.Value(routing.NextVar(index))\n",
    "            route.append(manager.IndexToNode(index))\n",
    "        routes.append(route)\n",
    "    return(routes)\n",
    "get_routes(solution,routing,manager)            \n",
    "        \n",
    "        \n",
    "  "
   ]
  },
  {
   "cell_type": "code",
   "execution_count": null,
   "metadata": {},
   "outputs": [],
   "source": [
    "def get_time_windows(solution,routing,manager,dimension):\n",
    "    all_list=[]\n",
    "    for vehicle in range(routing.vehicles()):\n",
    "        route_data=[]\n",
    "        index= routing.Start(vehicle)\n",
    "        route= manager.IndexToNode(index)\n",
    "        dim= dimension.CumulVar(index)\n",
    "        route_data.append([route,solution.Min(dim),solution.Max(dim)])\n",
    "        while not routing.IsEnd(index):\n",
    "            index= solution.Value(routing.NextVar(index))\n",
    "            route= manager.IndexToNode(index)\n",
    "            dim= dimension.CumulVar(index)\n",
    "            route_data.append([route,solution.Min(dim),solution.Max(dim)])\n",
    "        all_list.append(route_data)\n",
    "    return all_list\n",
    "\n",
    "\n",
    "get_time_windows(solution,routing,manager,time_dimension) "
   ]
  },
  {
   "cell_type": "code",
   "execution_count": null,
   "metadata": {},
   "outputs": [],
   "source": []
  }
 ],
 "metadata": {
  "kernelspec": {
   "display_name": "Python 3 (ipykernel)",
   "language": "python",
   "name": "python3"
  },
  "language_info": {
   "codemirror_mode": {
    "name": "ipython",
    "version": 3
   },
   "file_extension": ".py",
   "mimetype": "text/x-python",
   "name": "python",
   "nbconvert_exporter": "python",
   "pygments_lexer": "ipython3",
   "version": "3.9.7"
  }
 },
 "nbformat": 4,
 "nbformat_minor": 4
}
