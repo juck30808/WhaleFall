{
 "cells": [
  {
   "cell_type": "code",
   "execution_count": null,
   "id": "8b2a4cb2",
   "metadata": {},
   "outputs": [],
   "source": [
    "#Didn't test\n",
    "\n",
    "\n",
    "import tweepy as tw \n",
    "import time\n",
    "\n",
    "consumer_key = ''\n",
    "consumer_secret = ''\n",
    "access_token = ''\n",
    "access_token_secret = ''\n",
    "\n",
    "auth = tw.OAuthHandler(consumer_key, consumer_secret)\n",
    "auth.set_access_token(access_token, access_token_secret)\n",
    "\n",
    "api = tw.API(auth)\n",
    "user = api.me()\n",
    "\n",
    "print('User details are: ')\n",
    "print(user.name)\n",
    "print(user.screen_name)\n",
    "print(user.followers_count)\n",
    "\n",
    "\n",
    "def limit_handled(cursor):\n",
    "    try:\n",
    "        while True:\n",
    "            yield cursor.next()\n",
    "\n",
    "    except tw.RateLimitError:\n",
    "            time.sleep(10)\n",
    "   \n",
    "    except StopIteration:\n",
    "            time.sleep(10)\n",
    "\n",
    "for friend in user.friends():\n",
    "    print(friend.name)\n",
    "\n",
    "\n",
    "for follower in limit_handled(tw.Cursor(api.followers).items()):\n",
    "    print(follower.screen_name)\n",
    "    follower.follow()\n",
    "\n",
    "api.create_favorite('tweet_id')      \n",
    "api.destroy_favorite('tweet_id')"
   ]
  }
 ],
 "metadata": {
  "kernelspec": {
   "display_name": "Python 3 (ipykernel)",
   "language": "python",
   "name": "python3"
  },
  "language_info": {
   "codemirror_mode": {
    "name": "ipython",
    "version": 3
   },
   "file_extension": ".py",
   "mimetype": "text/x-python",
   "name": "python",
   "nbconvert_exporter": "python",
   "pygments_lexer": "ipython3",
   "version": "3.8.8"
  }
 },
 "nbformat": 4,
 "nbformat_minor": 5
}
