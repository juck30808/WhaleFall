{
 "cells": [
  {
   "cell_type": "code",
   "execution_count": 1,
   "id": "b7abfdb5",
   "metadata": {},
   "outputs": [
    {
     "name": "stdout",
     "output_type": "stream",
     "text": [
      "Requirement already satisfied: flask in /Users/juck30808/opt/anaconda3/lib/python3.8/site-packages (2.0.2)\r\n",
      "Requirement already satisfied: Werkzeug>=2.0 in /Users/juck30808/opt/anaconda3/lib/python3.8/site-packages (from flask) (2.0.2)\r\n",
      "Requirement already satisfied: itsdangerous>=2.0 in /Users/juck30808/opt/anaconda3/lib/python3.8/site-packages (from flask) (2.0.1)\r\n",
      "Requirement already satisfied: click>=7.1.2 in /Users/juck30808/opt/anaconda3/lib/python3.8/site-packages (from flask) (8.0.1)\r\n",
      "Requirement already satisfied: Jinja2>=3.0 in /Users/juck30808/opt/anaconda3/lib/python3.8/site-packages (from flask) (3.0.3)\r\n",
      "Requirement already satisfied: MarkupSafe>=2.0 in /Users/juck30808/opt/anaconda3/lib/python3.8/site-packages (from Jinja2>=3.0->flask) (2.0.1)\r\n"
     ]
    }
   ],
   "source": [
    "!pip install flask"
   ]
  },
  {
   "cell_type": "code",
   "execution_count": 2,
   "id": "12da7d6f",
   "metadata": {},
   "outputs": [
    {
     "name": "stdout",
     "output_type": "stream",
     "text": [
      " * Serving Flask app '__main__' (lazy loading)\n",
      " * Environment: production\n",
      "\u001b[31m   WARNING: This is a development server. Do not use it in a production deployment.\u001b[0m\n",
      "\u001b[2m   Use a production WSGI server instead.\u001b[0m\n",
      " * Debug mode: off\n"
     ]
    },
    {
     "name": "stderr",
     "output_type": "stream",
     "text": [
      " * Running on http://127.0.0.1:5000/ (Press CTRL+C to quit)\n",
      "127.0.0.1 - - [18/Nov/2021 16:02:23] \"GET / HTTP/1.1\" 200 -\n",
      "127.0.0.1 - - [18/Nov/2021 16:02:23] \"\u001b[33mGET /favicon.ico HTTP/1.1\u001b[0m\" 404 -\n"
     ]
    }
   ],
   "source": [
    "from flask import Flask\n",
    "\n",
    "app = Flask(__name__)\n",
    "@app.route('/')\n",
    "\n",
    "def hello_world():\n",
    "\treturn 'Hello, World'\n",
    "\n",
    "if __name__ == '__main__':\n",
    "\tapp.run()"
   ]
  },
  {
   "cell_type": "markdown",
   "id": "c6c12a26",
   "metadata": {},
   "source": [
    "## Facebook chatbot"
   ]
  },
  {
   "cell_type": "code",
   "execution_count": 5,
   "id": "03654708",
   "metadata": {},
   "outputs": [],
   "source": [
    "#!pip install pymessenger"
   ]
  },
  {
   "cell_type": "code",
   "execution_count": 6,
   "id": "c6d4d25c",
   "metadata": {},
   "outputs": [],
   "source": [
    "#!pip install requests"
   ]
  },
  {
   "cell_type": "code",
   "execution_count": 6,
   "id": "9ee022dd",
   "metadata": {},
   "outputs": [],
   "source": [
    "# download ngrok"
   ]
  },
  {
   "cell_type": "code",
   "execution_count": 7,
   "id": "7a39cc84",
   "metadata": {},
   "outputs": [
    {
     "name": "stdout",
     "output_type": "stream",
     "text": [
      "········\n",
      " * Serving Flask app '__main__' (lazy loading)\n",
      " * Environment: production\n",
      "\u001b[31m   WARNING: This is a development server. Do not use it in a production deployment.\u001b[0m\n",
      "\u001b[2m   Use a production WSGI server instead.\u001b[0m\n",
      " * Debug mode: off\n"
     ]
    },
    {
     "name": "stderr",
     "output_type": "stream",
     "text": [
      " * Running on http://127.0.0.1:5000/ (Press CTRL+C to quit)\n",
      "127.0.0.1 - - [18/Nov/2021 16:48:39] \"GET / HTTP/1.1\" 200 -\n"
     ]
    }
   ],
   "source": [
    "import requests\n",
    "from flask import Flask, request\n",
    "from pymessenger import Bot\n",
    "\n",
    "app = Flask(__name__)\n",
    "\n",
    "\n",
    "import getpass\n",
    "VERIFY_TOKEN = \"JerryChun's pytest\"\n",
    "\n",
    "#Facebook for develope\n",
    "PAGE_ACCESS_TOKEN = getpass.getpass()\n",
    "bot = Bot(PAGE_ACCESS_TOKEN)\n",
    "\n",
    "def handling_message(text):\n",
    "    adjust_msg = text\n",
    "    if adjust_msg =='hi' or adjust_msg =='Hi':\n",
    "        response = 'Hello'\n",
    "    \n",
    "    elif adjust_msg == \"what's up\" or adjust_msg ==\"What's up\":\n",
    "        response = 'I am great'\n",
    "    else:\n",
    "        response = 'ELSE response'\n",
    "    return 'Hello, World'\n",
    "\n",
    "\n",
    "@app.route('/', methods=[\"POST\",\"GET\"])\n",
    "\n",
    "\n",
    "def web_hook():\n",
    "    if request.method == 'GET':\n",
    "        if request.args.get('hub.verify_token') == VERIFY_TOKEN:\n",
    "            return request.args.get('hub.challenge')\n",
    "        else:\n",
    "            return 'Unable to connect to Facebook'\n",
    "        \n",
    "    elif request.method == 'POST':\n",
    "        data = request.json\n",
    "        process = data['entry'][0]['messaging']\n",
    "        for msg in process:\n",
    "            try:\n",
    "                text = msg['message']['text']\n",
    "            except:\n",
    "                keyError\n",
    "                \n",
    "            sender_id = msg['sneder']['id']\n",
    "            \n",
    "            try:\n",
    "                response = handling_message(text)\n",
    "                bot.send_text_message(sender_id,response)\n",
    "            except:\n",
    "                UnaboundLocalError\n",
    "        return 'messgae_posted'\n",
    "    else:\n",
    "        return ok\n",
    "        \n",
    "\n",
    "if __name__ == '__main__':\n",
    "\tapp.run()"
   ]
  },
  {
   "cell_type": "code",
   "execution_count": null,
   "id": "5afcac04",
   "metadata": {},
   "outputs": [],
   "source": []
  }
 ],
 "metadata": {
  "kernelspec": {
   "display_name": "Python 3 (ipykernel)",
   "language": "python",
   "name": "python3"
  },
  "language_info": {
   "codemirror_mode": {
    "name": "ipython",
    "version": 3
   },
   "file_extension": ".py",
   "mimetype": "text/x-python",
   "name": "python",
   "nbconvert_exporter": "python",
   "pygments_lexer": "ipython3",
   "version": "3.8.8"
  }
 },
 "nbformat": 4,
 "nbformat_minor": 5
}
