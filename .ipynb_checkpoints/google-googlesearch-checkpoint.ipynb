{
 "cells": [
  {
   "cell_type": "markdown",
   "id": "4cc54622",
   "metadata": {},
   "source": [
    "## Google Search\n",
    "https://www.geeksforgeeks.org/performing-google-search-using-python-code/"
   ]
  },
  {
   "cell_type": "code",
   "execution_count": 1,
   "id": "d171058d",
   "metadata": {},
   "outputs": [
    {
     "name": "stdout",
     "output_type": "stream",
     "text": [
      "Requirement already satisfied: google in /Users/jerrychien/opt/anaconda3/lib/python3.9/site-packages (3.0.0)\r\n",
      "Requirement already satisfied: beautifulsoup4 in /Users/jerrychien/opt/anaconda3/lib/python3.9/site-packages (from google) (4.10.0)\r\n",
      "Requirement already satisfied: soupsieve>1.2 in /Users/jerrychien/opt/anaconda3/lib/python3.9/site-packages (from beautifulsoup4->google) (2.2.1)\r\n"
     ]
    }
   ],
   "source": [
    "!pip install google"
   ]
  },
  {
   "cell_type": "code",
   "execution_count": 2,
   "id": "ed4b592d",
   "metadata": {},
   "outputs": [
    {
     "name": "stdout",
     "output_type": "stream",
     "text": [
      "https://techieempire.com/\n",
      "https://www.instagram.com/techieempire/?hl=en\n",
      "https://in.linkedin.com/company/techieempire\n",
      "https://www.youtube.com/channel/UCwch7A6-gYFevrrYQjFl47Q\n",
      "https://t.me/s/techieempire\n",
      "https://shopee.com.my/techiempire\n",
      "https://www.udemy.com/user/yaswanth-sai-palaghat-2/\n",
      "https://linktr.ee/techieempire\n",
      "https://www.facebook.com/techieempire/\n",
      "https://in.worldorgs.com/catalog/majarguda/software-company/techie-empire\n",
      "https://techieempire.thinkific.com/users/sign_in\n",
      "https://www.technoempire.com/\n",
      "https://www.empiremarketingmedia.com/homepages/shop-techie/\n",
      "https://techieempire.store.siteindices.com/\n",
      "https://www.empire1792.com/news/envisioning-a-techie-haven-in-downtown-raleigh\n",
      "https://thetechempire.com/\n",
      "https://www.reddit.com/r/totalwar/comments/21zxc5/trying_empire_for_the_first_time_some_advice/\n",
      "https://www.eatmy.news/2021/07/yaswanth-palaghat-i-founded-techie.html\n",
      "https://speakerhub.com/speaker/yaswanth-sai-palaghat\n",
      "https://www.lazada.sg/shop/toyz-gadget-empire/?path=index.htm\n",
      "https://www.techempireltd.com/\n",
      "https://techempire1.net/\n",
      "https://techienikhil.com/\n",
      "https://www.zoominfo.com/c/techie-empire/558056020\n",
      "https://internshala.com/internship/details/youtube-marketing-work-from-home-job-internship-at-techie-empire1585298441\n",
      "https://www.signalhire.com/companies/techie-empire/employees\n",
      "https://www.guruface.com/user/yaswanthp\n",
      "https://www.starwars.com/databank/tech\n",
      "https://www.pinterest.com/pin/606226799825951426/\n",
      "https://americasquarterly.org/fulltextarticle/the-techie/\n",
      "https://starwars.fandom.com/wiki/WED-1016_%27Techie%27_Droid\n",
      "https://www.technyc.org/\n",
      "https://www.thefreedictionary.com/Tebriz+Province%2C+Ottoman+Empire\n",
      "https://www.thebetterindia.com/252965/maharashtra-startup-canebot-sugarcane-juice-bottle-buy-no-preservatives-natural-healthy-innovation-it-quit-job-success-story-mumbai-pune-couple-earns-lakhs-him16/\n",
      "http://www.esg.com.my/stores/tenants/F26_GetGadgets.html\n",
      "https://www.quora.com/What-are-good-ways-to-keep-up-with-technology-trends-and-new-sectors\n",
      "https://seachengineeringjobs.com/site-job/techieempire.com\n",
      "https://www.infoplease.com/dictionary/techie\n",
      "https://www.firstmonday.org/ojs/index.php/fm/article/view/631/552\n",
      "https://www.movie-locations.com/movies/m/Man-Who-Fell-To-Earth.php\n",
      "https://en.wikipedia.org/wiki/Technology_in_Star_Wars\n",
      "https://www.entrepreneur.com/article/235585\n",
      "https://comidoc.net/instructor/yaswanth-sai-palaghat-2\n",
      "https://www.wired.com/2000/03/deepthroat/\n",
      "https://www.nytimes.com/2010/12/27/technology/27podcast.html\n",
      "https://soundcloud.com/user-590274942/techie-session-2\n",
      "https://historyofyesterday.com/the-murder-of-ancient-alexandrias-greatest-scholar-d4b10d223940\n",
      "https://www.longislandpress.com/2021/01/10/who-are-the-top-techies-on-long-island/\n",
      "https://www.gqindia.com/content/turakhia-brothers-join-the-worlds-billionaire-club\n",
      "https://www.sporttechie.com/social-sports-apps-connecting-fans-interview-with-will-muirhead-founder-and-ceo-of-fanatix/\n",
      "https://www.motherjones.com/politics/2013/06/google-silicon-valley-nsa-spying/\n",
      "https://empirecanvasworks.com/leather/\n",
      "https://www.npr.org/2017/10/26/560136311/how-5-tech-giants-have-become-more-like-governments-than-companies\n",
      "https://www.techrepublic.com/pictures/15-tech-fiction-picks-curl-up-with-these-good-books/\n",
      "https://twitter.com/thebetterindia/status/1411603186029191178\n",
      "https://forums.sinsofasolarempire.com/forum/979/page/3\n",
      "https://gainempire.com/a-non-techies-journey-to-e-business-success/\n",
      "https://www.startupinstitute.com/blog/2015-10-12-tech-networking-events-nyc\n",
      "https://www.dailymail.co.uk/news/article-9384177/Twenty-finance-tech-firms-NYC-verge-leaving-Florida.html\n",
      "https://www.scmp.com/magazines/style/tech-design/article/3124523/real-life-k-drama-how-did-andrew-lee-go-tech\n",
      "https://www.empireonline.com/movies/reviews/borderlands-review/\n",
      "https://wewatch.gg/dota2/series/715962--2021-esl-one-online-s2-cis-lower-division--team-empire~vs~prosti-esli--2021-04-22\n",
      "https://www.vogue.in/culture-and-living/content/engineer-sharmistha-reinvented-the-online-dating-game-into-a-multi-billion-dollar-empire\n",
      "https://www.fantasyflightgames.com/en/news/2016/3/24/the-inventors-handbook/\n",
      "https://www.tekedia.com/the-fall-of-an-empire-blackberry/\n",
      "https://www.theatlantic.com/magazine/archive/2019/11/what-jeff-bezos-wants/598363/\n",
      "https://www.installeronline.co.uk/quiet-evolution-techie-installer/\n",
      "https://timesofindia.indiatimes.com/life-style/books/features/alex-rutherfords-the-empire-adapted-into-new-series/articleshow/85178409.cms\n",
      "http://empiretechinc.net/product-category/ip-solutions/ip-cameras/\n",
      "https://www.newyorker.com/news/letter-from-silicon-valley/does-tech-need-a-new-narrative\n",
      "https://www.bbva.com/en/seven-must-see-series-be-good-techie/\n",
      "https://www.tonyrobbins.com/career-business/how-to-create-an-app-empire-the-complete-interview-with-chad-mureta/\n",
      "https://talktech.ng/profile/greaterheights/\n",
      "https://www.nydailynews.com/new-york/ny-upstate-tech-ceo-suit-20191116-lsqvy3ieargfvgov3hkgvftbfa-story.html\n",
      "https://www.gainesville.com/story/lifestyle/magazine/2015/12/02/just-what-your-favorite-techie-ordered/31388276007/\n",
      "https://yourstory.com/2013/12/techie-tuesdays-bhimsen-kulkarni/amp\n",
      "https://www.vox.com/2019/2/6/18212770/evan-ratliff-mastermind-book-drugs-crime-paul-le-roux-kara-swisher-recode-decode-podcast-interview\n",
      "https://www.amazon.co.uk/Masters-Doom-Created-Transformed-Culture/dp/B008KNABBC\n",
      "https://inlandempire.us/news/page/405/\n",
      "https://jeremyvsjeremy.medium.com/laravel-vs-wordpress-for-your-web-project-b858224759e5\n",
      "https://www.imdb.com/name/nm4183232/bio\n",
      "https://www.researchgate.net/publication/316804371_Postsocialism_and_the_Tech_Boom_20_techno-utopics_of_racialspatial_dispossession\n",
      "https://tr-ex.me/translation/english-croatian/tech\n",
      "https://www.bbc.com/news/world-australia-56107028\n",
      "https://www.deccanherald.com/city/cops-hunt-down-duo-who-assaulted-techie-672083.html\n",
      "https://www.almanacnews.com/blogs/p/2014/06/18/amber-india-empire-expands-into-los-altos\n",
      "https://www.indeed.com/q-Sams-Club-l-Inland-Empire,-CA-jobs.html\n",
      "https://www.seattletimes.com/business/ex-techie-building-up-offices-for-special-brew-in-bellevue-2/\n",
      "https://www.tmz.com/2021/10/03/kanye-west-files-donda-trademark-tech-line/\n",
      "https://www.nbcnews.com/id/wbna55641766\n",
      "https://gamefaqs.gamespot.com/boards/204208-xenoblade-chronicles-2/76067010\n",
      "https://fortune.com/2014/12/29/disney-ceo-bob-iger-empire-of-tech/\n",
      "https://www.ft.com/content/d6b0333c-9e43-11e9-b8ce-8b459ed04726\n",
      "https://www.independent.ie/business/irish/recovered-techie-firm-springs-back-26207272.html\n",
      "https://www.hindustantimes.com/india/nri-techie-among-young-billionaires/story-CCKC5x8AazR7Q9PtyjyVFO.html\n",
      "https://pix11.com/news/local-news/manhattan/man-killed-nyc-tech-ceo-found-decapitated-to-cover-up-grand-larceny-indictment/\n",
      "https://www.techieapps.com/how-sustainable-is-apples-empire/\n",
      "https://knowtechie.com/facebooks-evil-empire-was-down-yesterday-heres-why/\n",
      "https://blog.edtechie.net/film/death-star-vs-storm-trooper-investment/\n",
      "https://thecanadiantechie.com/2018/11/02/battling-virtual-stormtroopers-in-star-wars-secrets-of-the-empire/\n",
      "https://www.ted.com/talks/jaron_lanier_how_we_need_to_remake_the_internet/transcript?language=en\n",
      "https://www.globalnerdy.com/2015/12/23/episode-iv-the-empire-strikes-out-on-their-pen-test/\n",
      "https://wlmconcept.com/tti4usv5/turntable-chicken-jazz-happy-hour.html\n",
      "https://www.twitch.tv/esl_dota2\n",
      "https://www.telegraph.co.uk/technology/0/steve-jobs-tech-trailblazer-co-founder-apple-empire/\n",
      "https://peptalksforsidehustlers.libsyn.com/ep-302-building-a-multi-million-dollar-blogging-empire-with-lauren-mcmanus-of-create-and-go\n",
      "https://peptalksforsidehustlers.libsyn.com/ep-286-from-passion-project-to-entrepreneurial-empire-with-brooke-eliason-of-female-foodie\n",
      "https://venturebeat.com/2016/09/09/the-top-25-tech-movies-of-all-time/view-all/\n",
      "https://bootstrapmade.com/\n",
      "http://artnavis.ru/bitrix/admin/wzvc3a/dallas-tv-mounting-service.html\n",
      "https://www.sportsbusinessjournal.com/Journal/Issues/2022/01/17.aspx\n",
      "https://help.ea.com/en/help/faq/problems-playing-online/\n",
      "http://det-sad8.ru/1iaqb/frank-morano-wabc-2020.html\n",
      "http://www.izbirkommo.ru/bitrix/admin/qfkywb/the-collective-san-francisco.html\n",
      "http://quantia.com.mx/1fsfqg1/range-email-login.html\n",
      "http://perseusconsultoria.com.br/2lcevu/how-to-make-a-woobie-hoodie.html\n",
      "https://www.dallasnews.com/opinion/editorials/2022/01/25/we-recommend-in-the-republican-primary-for-state-house-district-63/\n"
     ]
    },
    {
     "name": "stdout",
     "output_type": "stream",
     "text": [
      "http://www.kelleemorris.com/gdctnn/swrpg-slicing.html\n",
      "https://yusefwateef.com/2013/09/20/pin-up-model-to-producer-the-empire-of-olivia-rose/\n",
      "https://osushiteli.ua/sites/all/themes/hatch/templates/qyyy8o/printable-8-sided-dice-template.html\n",
      "https://www.hup.harvard.edu/catalog.php?isbn=9780674010918\n",
      "http://factoryb2b.site/percy-emotionless-fanfiction\n",
      "https://www.hotnigerianjobs.com/\n",
      "http://malitechnicsystem.net/sfkatq/eq-epic-blunder.html\n",
      "https://flipboard.com/@archwizard/tech-gear-internet-3ossusuiz/apple-airpods-pro-2-everything-we-know-about-the-new-headphones/a-538YXWwDTwiMGCYYasTKyg%3Aa%3A2988232-7f3f1b96fe%2Fgeeky-gadgets.com\n",
      "http://riskl.org/mecz3/cw-auditions-2021.html\n",
      "http://www.sfexaminer.com/opinion/opinion-can-a-former-california-dairy-farmer-help-trump-slay-facebook-and-twitter/\n",
      "http://credent-investment.com/c2hnqp/quark-curse-effect.html\n",
      "http://credent-investment.com/c2hnqp/pioneer-woman-of-the-old-west.html\n",
      "http://thegreathousedetective.com/cnjuit/how-many-weeks-in-30-days.html\n",
      "https://www.makeuseof.com/tag/disney-magic-technology/\n",
      "https://latinasintech.org/\n",
      "http://sheshkantfoundation.org/j3jq3m/craigslist-gigs-and-jobs.html\n",
      "http://pervaizsons.maxsoft-solutions.com/gp14jz/oni-tungsten.html\n",
      "https://interplus.vn/sites/default/files/ykkiq/boise-state-adjunct-positions.html\n",
      "https://www.eventbrite.com/e/e-commerce-masterclass-how-to-build-an-online-business-elgin-tickets-254407919937\n",
      "http://www.onewaymedia.ro/0kdrh3w/socrates-powerpoint-template.html\n",
      "https://realpodshipnik.ru/ftaud/collective-tech.html\n",
      "https://en.stimulink.ru/gbxsqj/jswipe-nyc.html\n",
      "http://desinfexsas.com/n8s6fkh/range-email-login.html\n",
      "https://mayhotel.ru/bitrix/admin/j4ye9j/free-nft-to-claim.html\n",
      "http://shridhargroups.com/frm8e/best-free-blogger-themes.html\n",
      "https://www.empirepestdefense.com/commercial-pest-control\n",
      "https://www.t3.com/tech\n",
      "https://dmv.ny.gov/driver-license/dmvs-medical-review-program\n",
      "https://indianexpress.com/article/cities/pune/techie-gets-life-for-murder-of-fiancee-of-ex-boyfriend/\n",
      "https://www.empireboston.com/birthday-club\n",
      "https://hackernoon.com/non-tech-startup-founders-who-built-great-tech-products-9f3be67e237\n"
     ]
    }
   ],
   "source": [
    "from googlesearch import search\n",
    "query=\"Techie Empire\"\n",
    "for i in search(query,start=0,pause=2):\n",
    "    print(i)"
   ]
  },
  {
   "cell_type": "code",
   "execution_count": 3,
   "id": "0127ced1",
   "metadata": {},
   "outputs": [
    {
     "name": "stdout",
     "output_type": "stream",
     "text": [
      "https://www.geeksforgeeks.org/\n",
      "https://twitter.com/geeksforgeeks?ref_src=twsrc%5Egoogle%7Ctwcamp%5Eserp%7Ctwgr%5Eauthor\n",
      "https://twitter.com/geeksforgeeks/status/1486323208836218892?ref_src=twsrc%5Egoogle%7Ctwcamp%5Eserp%7Ctwgr%5Etweet\n",
      "https://twitter.com/geeksforgeeks/status/1486229039505612800?ref_src=twsrc%5Egoogle%7Ctwcamp%5Eserp%7Ctwgr%5Etweet\n",
      "https://twitter.com/geeksforgeeks/status/1486197363681411073?ref_src=twsrc%5Egoogle%7Ctwcamp%5Eserp%7Ctwgr%5Etweet\n",
      "https://twitter.com/geeksforgeeks/status/1485960650409005061?ref_src=twsrc%5Egoogle%7Ctwcamp%5Eserp%7Ctwgr%5Etweet\n",
      "https://www.youtube.com/channel/UC0RhatS1pyxInC00YKjjBqQ\n",
      "https://in.linkedin.com/company/geeksforgeeks\n",
      "https://www.instagram.com/geeks_for_geeks/?hl=en\n",
      "https://www.facebook.com/geeksforgeeks.org/\n"
     ]
    }
   ],
   "source": [
    "try:\n",
    "    from googlesearch import search\n",
    "except ImportError:\n",
    "    print(\"No module named 'google' found\")\n",
    "\n",
    "# to search\n",
    "query = \"Geeksforgeeks\"\n",
    "\n",
    "for j in search(query, tld=\"co.in\", num=10, stop=10, pause=2):\n",
    "    print(j)\n"
   ]
  },
  {
   "cell_type": "code",
   "execution_count": 4,
   "id": "7636bf26",
   "metadata": {},
   "outputs": [
    {
     "name": "stdout",
     "output_type": "stream",
     "text": [
      "https://www.geeksforgeeks.org/\n",
      "https://practice.geeksforgeeks.org/\n",
      "https://en.wikipedia.org/wiki/Portal:Computer_programming\n",
      "https://en.wikiversity.org/wiki/Portal:Computer_Science\n",
      "https://www.csestack.org/\n",
      "http://www.csestack.org/tag/computer-network/\n",
      "https://www.csestack.org/web-scraping-interview-questions-answers/\n",
      "https://www.csestack.org/python/\n",
      "https://supportpal.cs.sfu.ca/en\n",
      "https://webmail.cs.uct.ac.za/\n"
     ]
    }
   ],
   "source": [
    "try:\n",
    "    from googlesearch import search\n",
    "except ImportError:\n",
    "    print(\"No module named 'google' found\")\n",
    "\n",
    "# to search\n",
    "query = \"A computer science portal\"\n",
    "\n",
    "for j in search(query, tld=\"co.in\", num=10, stop=10, pause=2):\n",
    "    print(j)\n"
   ]
  },
  {
   "cell_type": "code",
   "execution_count": null,
   "id": "8f283c66",
   "metadata": {},
   "outputs": [],
   "source": []
  }
 ],
 "metadata": {
  "kernelspec": {
   "display_name": "Python 3 (ipykernel)",
   "language": "python",
   "name": "python3"
  },
  "language_info": {
   "codemirror_mode": {
    "name": "ipython",
    "version": 3
   },
   "file_extension": ".py",
   "mimetype": "text/x-python",
   "name": "python",
   "nbconvert_exporter": "python",
   "pygments_lexer": "ipython3",
   "version": "3.9.7"
  }
 },
 "nbformat": 4,
 "nbformat_minor": 5
}
