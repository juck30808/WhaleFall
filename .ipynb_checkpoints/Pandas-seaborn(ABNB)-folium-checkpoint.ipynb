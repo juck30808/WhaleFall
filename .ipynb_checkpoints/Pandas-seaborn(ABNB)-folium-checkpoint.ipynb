{
 "cells": [
  {
   "cell_type": "code",
   "execution_count": 1,
   "metadata": {
    "scrolled": true
   },
   "outputs": [
    {
     "data": {
      "text/html": [
       "<div>\n",
       "<style scoped>\n",
       "    .dataframe tbody tr th:only-of-type {\n",
       "        vertical-align: middle;\n",
       "    }\n",
       "\n",
       "    .dataframe tbody tr th {\n",
       "        vertical-align: top;\n",
       "    }\n",
       "\n",
       "    .dataframe thead th {\n",
       "        text-align: right;\n",
       "    }\n",
       "</style>\n",
       "<table border=\"1\" class=\"dataframe\">\n",
       "  <thead>\n",
       "    <tr style=\"text-align: right;\">\n",
       "      <th></th>\n",
       "      <th>id</th>\n",
       "      <th>name</th>\n",
       "      <th>host_id</th>\n",
       "      <th>host_name</th>\n",
       "      <th>neighbourhood_group</th>\n",
       "      <th>neighbourhood</th>\n",
       "      <th>latitude</th>\n",
       "      <th>longitude</th>\n",
       "      <th>room_type</th>\n",
       "      <th>price</th>\n",
       "      <th>minimum_nights</th>\n",
       "      <th>number_of_reviews</th>\n",
       "      <th>last_review</th>\n",
       "      <th>reviews_per_month</th>\n",
       "      <th>calculated_host_listings_count</th>\n",
       "      <th>availability_365</th>\n",
       "    </tr>\n",
       "  </thead>\n",
       "  <tbody>\n",
       "    <tr>\n",
       "      <th>0</th>\n",
       "      <td>2539</td>\n",
       "      <td>Clean &amp; quiet apt home by the park</td>\n",
       "      <td>2787</td>\n",
       "      <td>John</td>\n",
       "      <td>Brooklyn</td>\n",
       "      <td>Kensington</td>\n",
       "      <td>40.64749</td>\n",
       "      <td>-73.97237</td>\n",
       "      <td>Private room</td>\n",
       "      <td>149</td>\n",
       "      <td>1</td>\n",
       "      <td>9</td>\n",
       "      <td>19/10/2018</td>\n",
       "      <td>0.21</td>\n",
       "      <td>6</td>\n",
       "      <td>365</td>\n",
       "    </tr>\n",
       "    <tr>\n",
       "      <th>1</th>\n",
       "      <td>2595</td>\n",
       "      <td>Skylit Midtown Castle</td>\n",
       "      <td>2845</td>\n",
       "      <td>Jennifer</td>\n",
       "      <td>Manhattan</td>\n",
       "      <td>Midtown</td>\n",
       "      <td>40.75362</td>\n",
       "      <td>-73.98377</td>\n",
       "      <td>Entire home/apt</td>\n",
       "      <td>225</td>\n",
       "      <td>1</td>\n",
       "      <td>45</td>\n",
       "      <td>21/05/2019</td>\n",
       "      <td>0.38</td>\n",
       "      <td>2</td>\n",
       "      <td>355</td>\n",
       "    </tr>\n",
       "    <tr>\n",
       "      <th>2</th>\n",
       "      <td>3647</td>\n",
       "      <td>THE VILLAGE OF HARLEM....NEW YORK !</td>\n",
       "      <td>4632</td>\n",
       "      <td>Elisabeth</td>\n",
       "      <td>Manhattan</td>\n",
       "      <td>Harlem</td>\n",
       "      <td>40.80902</td>\n",
       "      <td>-73.94190</td>\n",
       "      <td>Private room</td>\n",
       "      <td>150</td>\n",
       "      <td>3</td>\n",
       "      <td>0</td>\n",
       "      <td>NaN</td>\n",
       "      <td>NaN</td>\n",
       "      <td>1</td>\n",
       "      <td>365</td>\n",
       "    </tr>\n",
       "    <tr>\n",
       "      <th>3</th>\n",
       "      <td>3831</td>\n",
       "      <td>Cozy Entire Floor of Brownstone</td>\n",
       "      <td>4869</td>\n",
       "      <td>LisaRoxanne</td>\n",
       "      <td>Brooklyn</td>\n",
       "      <td>Clinton Hill</td>\n",
       "      <td>40.68514</td>\n",
       "      <td>-73.95976</td>\n",
       "      <td>Entire home/apt</td>\n",
       "      <td>89</td>\n",
       "      <td>1</td>\n",
       "      <td>270</td>\n",
       "      <td>05/07/2019</td>\n",
       "      <td>4.64</td>\n",
       "      <td>1</td>\n",
       "      <td>194</td>\n",
       "    </tr>\n",
       "    <tr>\n",
       "      <th>4</th>\n",
       "      <td>5022</td>\n",
       "      <td>Entire Apt: Spacious Studio/Loft by central park</td>\n",
       "      <td>7192</td>\n",
       "      <td>Laura</td>\n",
       "      <td>Manhattan</td>\n",
       "      <td>East Harlem</td>\n",
       "      <td>40.79851</td>\n",
       "      <td>-73.94399</td>\n",
       "      <td>Entire home/apt</td>\n",
       "      <td>80</td>\n",
       "      <td>10</td>\n",
       "      <td>9</td>\n",
       "      <td>19/11/2018</td>\n",
       "      <td>0.10</td>\n",
       "      <td>1</td>\n",
       "      <td>0</td>\n",
       "    </tr>\n",
       "  </tbody>\n",
       "</table>\n",
       "</div>"
      ],
      "text/plain": [
       "     id                                              name  host_id  \\\n",
       "0  2539                Clean & quiet apt home by the park     2787   \n",
       "1  2595                             Skylit Midtown Castle     2845   \n",
       "2  3647               THE VILLAGE OF HARLEM....NEW YORK !     4632   \n",
       "3  3831                   Cozy Entire Floor of Brownstone     4869   \n",
       "4  5022  Entire Apt: Spacious Studio/Loft by central park     7192   \n",
       "\n",
       "     host_name neighbourhood_group neighbourhood  latitude  longitude  \\\n",
       "0         John            Brooklyn    Kensington  40.64749  -73.97237   \n",
       "1     Jennifer           Manhattan       Midtown  40.75362  -73.98377   \n",
       "2    Elisabeth           Manhattan        Harlem  40.80902  -73.94190   \n",
       "3  LisaRoxanne            Brooklyn  Clinton Hill  40.68514  -73.95976   \n",
       "4        Laura           Manhattan   East Harlem  40.79851  -73.94399   \n",
       "\n",
       "         room_type  price  minimum_nights  number_of_reviews last_review  \\\n",
       "0     Private room    149               1                  9  19/10/2018   \n",
       "1  Entire home/apt    225               1                 45  21/05/2019   \n",
       "2     Private room    150               3                  0         NaN   \n",
       "3  Entire home/apt     89               1                270  05/07/2019   \n",
       "4  Entire home/apt     80              10                  9  19/11/2018   \n",
       "\n",
       "   reviews_per_month  calculated_host_listings_count  availability_365  \n",
       "0               0.21                               6               365  \n",
       "1               0.38                               2               355  \n",
       "2                NaN                               1               365  \n",
       "3               4.64                               1               194  \n",
       "4               0.10                               1                 0  "
      ]
     },
     "execution_count": 1,
     "metadata": {},
     "output_type": "execute_result"
    }
   ],
   "source": [
    "import numpy as np\n",
    "import pandas as pd\n",
    "import matplotlib.pyplot as plt\n",
    "import seaborn as sns\n",
    "\n",
    "data = pd.read_csv(\"input/AB_NYC_2019.csv\")\n",
    "data.head()"
   ]
  },
  {
   "cell_type": "code",
   "execution_count": 2,
   "metadata": {},
   "outputs": [
    {
     "data": {
      "text/plain": [
       "(2939, 16)"
      ]
     },
     "execution_count": 2,
     "metadata": {},
     "output_type": "execute_result"
    }
   ],
   "source": [
    "data.shape"
   ]
  },
  {
   "cell_type": "code",
   "execution_count": 3,
   "metadata": {},
   "outputs": [],
   "source": [
    "#data.groupby('host_id').count().max()"
   ]
  },
  {
   "cell_type": "code",
   "execution_count": 4,
   "metadata": {},
   "outputs": [
    {
     "data": {
      "text/html": [
       "<div>\n",
       "<style scoped>\n",
       "    .dataframe tbody tr th:only-of-type {\n",
       "        vertical-align: middle;\n",
       "    }\n",
       "\n",
       "    .dataframe tbody tr th {\n",
       "        vertical-align: top;\n",
       "    }\n",
       "\n",
       "    .dataframe thead th {\n",
       "        text-align: right;\n",
       "    }\n",
       "</style>\n",
       "<table border=\"1\" class=\"dataframe\">\n",
       "  <thead>\n",
       "    <tr style=\"text-align: right;\">\n",
       "      <th></th>\n",
       "      <th>id</th>\n",
       "      <th>name</th>\n",
       "      <th>host_id</th>\n",
       "      <th>host_name</th>\n",
       "      <th>neighbourhood</th>\n",
       "      <th>latitude</th>\n",
       "      <th>longitude</th>\n",
       "      <th>room_type</th>\n",
       "      <th>price</th>\n",
       "      <th>minimum_nights</th>\n",
       "      <th>number_of_reviews</th>\n",
       "      <th>last_review</th>\n",
       "      <th>reviews_per_month</th>\n",
       "      <th>calculated_host_listings_count</th>\n",
       "      <th>availability_365</th>\n",
       "    </tr>\n",
       "    <tr>\n",
       "      <th>neighbourhood_group</th>\n",
       "      <th></th>\n",
       "      <th></th>\n",
       "      <th></th>\n",
       "      <th></th>\n",
       "      <th></th>\n",
       "      <th></th>\n",
       "      <th></th>\n",
       "      <th></th>\n",
       "      <th></th>\n",
       "      <th></th>\n",
       "      <th></th>\n",
       "      <th></th>\n",
       "      <th></th>\n",
       "      <th></th>\n",
       "      <th></th>\n",
       "    </tr>\n",
       "  </thead>\n",
       "  <tbody>\n",
       "    <tr>\n",
       "      <th>Brooklyn</th>\n",
       "      <td>0</td>\n",
       "      <td>Clean &amp; quiet apt home by the park</td>\n",
       "      <td>2787</td>\n",
       "      <td>John</td>\n",
       "      <td>Kensington</td>\n",
       "      <td>40.64749</td>\n",
       "      <td>-73.97237</td>\n",
       "      <td>Private room</td>\n",
       "      <td>149</td>\n",
       "      <td>1</td>\n",
       "      <td>9</td>\n",
       "      <td>19/10/2018</td>\n",
       "      <td>0.21</td>\n",
       "      <td>6</td>\n",
       "      <td>365</td>\n",
       "    </tr>\n",
       "    <tr>\n",
       "      <th>Manhattan</th>\n",
       "      <td>1</td>\n",
       "      <td>Skylit Midtown Castle</td>\n",
       "      <td>2845</td>\n",
       "      <td>Jennifer</td>\n",
       "      <td>Midtown</td>\n",
       "      <td>40.75362</td>\n",
       "      <td>-73.98377</td>\n",
       "      <td>Entire home/apt</td>\n",
       "      <td>225</td>\n",
       "      <td>1</td>\n",
       "      <td>45</td>\n",
       "      <td>21/05/2019</td>\n",
       "      <td>0.38</td>\n",
       "      <td>2</td>\n",
       "      <td>355</td>\n",
       "    </tr>\n",
       "    <tr>\n",
       "      <th>Manhattan</th>\n",
       "      <td>2</td>\n",
       "      <td>THE VILLAGE OF HARLEM....NEW YORK !</td>\n",
       "      <td>4632</td>\n",
       "      <td>Elisabeth</td>\n",
       "      <td>Harlem</td>\n",
       "      <td>40.80902</td>\n",
       "      <td>-73.94190</td>\n",
       "      <td>Private room</td>\n",
       "      <td>150</td>\n",
       "      <td>3</td>\n",
       "      <td>0</td>\n",
       "      <td>NaN</td>\n",
       "      <td>NaN</td>\n",
       "      <td>1</td>\n",
       "      <td>365</td>\n",
       "    </tr>\n",
       "    <tr>\n",
       "      <th>Brooklyn</th>\n",
       "      <td>3</td>\n",
       "      <td>Cozy Entire Floor of Brownstone</td>\n",
       "      <td>4869</td>\n",
       "      <td>LisaRoxanne</td>\n",
       "      <td>Clinton Hill</td>\n",
       "      <td>40.68514</td>\n",
       "      <td>-73.95976</td>\n",
       "      <td>Entire home/apt</td>\n",
       "      <td>89</td>\n",
       "      <td>1</td>\n",
       "      <td>270</td>\n",
       "      <td>05/07/2019</td>\n",
       "      <td>4.64</td>\n",
       "      <td>1</td>\n",
       "      <td>194</td>\n",
       "    </tr>\n",
       "    <tr>\n",
       "      <th>Manhattan</th>\n",
       "      <td>4</td>\n",
       "      <td>Entire Apt: Spacious Studio/Loft by central park</td>\n",
       "      <td>7192</td>\n",
       "      <td>Laura</td>\n",
       "      <td>East Harlem</td>\n",
       "      <td>40.79851</td>\n",
       "      <td>-73.94399</td>\n",
       "      <td>Entire home/apt</td>\n",
       "      <td>80</td>\n",
       "      <td>10</td>\n",
       "      <td>9</td>\n",
       "      <td>19/11/2018</td>\n",
       "      <td>0.10</td>\n",
       "      <td>1</td>\n",
       "      <td>0</td>\n",
       "    </tr>\n",
       "  </tbody>\n",
       "</table>\n",
       "</div>"
      ],
      "text/plain": [
       "                     id                                              name  \\\n",
       "neighbourhood_group                                                         \n",
       "Brooklyn              0                Clean & quiet apt home by the park   \n",
       "Manhattan             1                             Skylit Midtown Castle   \n",
       "Manhattan             2               THE VILLAGE OF HARLEM....NEW YORK !   \n",
       "Brooklyn              3                   Cozy Entire Floor of Brownstone   \n",
       "Manhattan             4  Entire Apt: Spacious Studio/Loft by central park   \n",
       "\n",
       "                     host_id    host_name neighbourhood  latitude  longitude  \\\n",
       "neighbourhood_group                                                            \n",
       "Brooklyn                2787         John    Kensington  40.64749  -73.97237   \n",
       "Manhattan               2845     Jennifer       Midtown  40.75362  -73.98377   \n",
       "Manhattan               4632    Elisabeth        Harlem  40.80902  -73.94190   \n",
       "Brooklyn                4869  LisaRoxanne  Clinton Hill  40.68514  -73.95976   \n",
       "Manhattan               7192        Laura   East Harlem  40.79851  -73.94399   \n",
       "\n",
       "                           room_type  price  minimum_nights  \\\n",
       "neighbourhood_group                                           \n",
       "Brooklyn                Private room    149               1   \n",
       "Manhattan            Entire home/apt    225               1   \n",
       "Manhattan               Private room    150               3   \n",
       "Brooklyn             Entire home/apt     89               1   \n",
       "Manhattan            Entire home/apt     80              10   \n",
       "\n",
       "                     number_of_reviews last_review  reviews_per_month  \\\n",
       "neighbourhood_group                                                     \n",
       "Brooklyn                             9  19/10/2018               0.21   \n",
       "Manhattan                           45  21/05/2019               0.38   \n",
       "Manhattan                            0         NaN                NaN   \n",
       "Brooklyn                           270  05/07/2019               4.64   \n",
       "Manhattan                            9  19/11/2018               0.10   \n",
       "\n",
       "                     calculated_host_listings_count  availability_365  \n",
       "neighbourhood_group                                                    \n",
       "Brooklyn                                          6               365  \n",
       "Manhattan                                         2               355  \n",
       "Manhattan                                         1               365  \n",
       "Brooklyn                                          1               194  \n",
       "Manhattan                                         1                 0  "
      ]
     },
     "execution_count": 4,
     "metadata": {},
     "output_type": "execute_result"
    }
   ],
   "source": [
    "#neighbourhood_group to first\n",
    "\n",
    "data['id'] = data.index\n",
    "data = data.set_index('neighbourhood_group')\n",
    "data.head()"
   ]
  },
  {
   "cell_type": "markdown",
   "metadata": {},
   "source": [
    "## 設定Matplotlib樣式"
   ]
  },
  {
   "cell_type": "code",
   "execution_count": 5,
   "metadata": {},
   "outputs": [
    {
     "name": "stdout",
     "output_type": "stream",
     "text": [
      "['Solarize_Light2', '_classic_test_patch', 'bmh', 'classic', 'dark_background', 'fast', 'fivethirtyeight', 'ggplot', 'grayscale', 'seaborn', 'seaborn-bright', 'seaborn-colorblind', 'seaborn-dark', 'seaborn-dark-palette', 'seaborn-darkgrid', 'seaborn-deep', 'seaborn-muted', 'seaborn-notebook', 'seaborn-paper', 'seaborn-pastel', 'seaborn-poster', 'seaborn-talk', 'seaborn-ticks', 'seaborn-white', 'seaborn-whitegrid', 'tableau-colorblind10']\n"
     ]
    }
   ],
   "source": [
    "# 可使用的樣式\n",
    "print(plt.style.available)"
   ]
  },
  {
   "cell_type": "code",
   "execution_count": 6,
   "metadata": {},
   "outputs": [],
   "source": [
    "#設定樣式\n",
    "plt.style.use('Solarize_Light2')"
   ]
  },
  {
   "cell_type": "markdown",
   "metadata": {},
   "source": [
    "## 哪個區域的案件最多"
   ]
  },
  {
   "cell_type": "code",
   "execution_count": 7,
   "metadata": {
    "scrolled": true
   },
   "outputs": [
    {
     "data": {
      "text/plain": [
       "neighbourhood_group\n",
       "Bronx              31\n",
       "Brooklyn         1344\n",
       "Manhattan        1345\n",
       "Queens            194\n",
       "Staten Island      25\n",
       "dtype: int64"
      ]
     },
     "execution_count": 7,
     "metadata": {},
     "output_type": "execute_result"
    }
   ],
   "source": [
    "data.groupby('neighbourhood_group').size()"
   ]
  },
  {
   "cell_type": "code",
   "execution_count": 8,
   "metadata": {},
   "outputs": [
    {
     "data": {
      "text/plain": [
       "neighbourhood\n",
       "Allerton               5\n",
       "Arrochar               4\n",
       "Arverne                3\n",
       "Astoria               46\n",
       "Battery Park City      2\n",
       "                    ... \n",
       "Williamsbridge         1\n",
       "Williamsburg         302\n",
       "Windsor Terrace       13\n",
       "Woodlawn               1\n",
       "Woodside               8\n",
       "Length: 128, dtype: int64"
      ]
     },
     "execution_count": 8,
     "metadata": {},
     "output_type": "execute_result"
    }
   ],
   "source": [
    "data.groupby('neighbourhood').size()"
   ]
  },
  {
   "cell_type": "code",
   "execution_count": 9,
   "metadata": {},
   "outputs": [],
   "source": [
    "# sns.countplot(x='neighbourhood_group', data=data)\n",
    "\n",
    "# plt.xlabel('Zone')\n",
    "# plt.ylabel('Case Number')"
   ]
  },
  {
   "cell_type": "markdown",
   "metadata": {},
   "source": [
    "## 哪個區域的平均價格最高"
   ]
  },
  {
   "cell_type": "code",
   "execution_count": 10,
   "metadata": {},
   "outputs": [
    {
     "data": {
      "text/html": [
       "<div>\n",
       "<style scoped>\n",
       "    .dataframe tbody tr th:only-of-type {\n",
       "        vertical-align: middle;\n",
       "    }\n",
       "\n",
       "    .dataframe tbody tr th {\n",
       "        vertical-align: top;\n",
       "    }\n",
       "\n",
       "    .dataframe thead th {\n",
       "        text-align: right;\n",
       "    }\n",
       "</style>\n",
       "<table border=\"1\" class=\"dataframe\">\n",
       "  <thead>\n",
       "    <tr style=\"text-align: right;\">\n",
       "      <th></th>\n",
       "      <th>neighbourhood_group</th>\n",
       "      <th>price</th>\n",
       "    </tr>\n",
       "  </thead>\n",
       "  <tbody>\n",
       "    <tr>\n",
       "      <th>0</th>\n",
       "      <td>Bronx</td>\n",
       "      <td>70.000000</td>\n",
       "    </tr>\n",
       "    <tr>\n",
       "      <th>1</th>\n",
       "      <td>Brooklyn</td>\n",
       "      <td>144.888393</td>\n",
       "    </tr>\n",
       "    <tr>\n",
       "      <th>2</th>\n",
       "      <td>Manhattan</td>\n",
       "      <td>186.139033</td>\n",
       "    </tr>\n",
       "    <tr>\n",
       "      <th>3</th>\n",
       "      <td>Queens</td>\n",
       "      <td>98.268041</td>\n",
       "    </tr>\n",
       "    <tr>\n",
       "      <th>4</th>\n",
       "      <td>Staten Island</td>\n",
       "      <td>121.400000</td>\n",
       "    </tr>\n",
       "  </tbody>\n",
       "</table>\n",
       "</div>"
      ],
      "text/plain": [
       "  neighbourhood_group       price\n",
       "0               Bronx   70.000000\n",
       "1            Brooklyn  144.888393\n",
       "2           Manhattan  186.139033\n",
       "3              Queens   98.268041\n",
       "4       Staten Island  121.400000"
      ]
     },
     "execution_count": 10,
     "metadata": {},
     "output_type": "execute_result"
    }
   ],
   "source": [
    "#NG_price_s = data.groupby(by=['neighbourhood_group'])['price'].sum() \n",
    "#NG_price_c = data.groupby(by=['neighbourhood_group'])['price'].count() \n",
    "#NG_price = NG_price_s / NG_price_c\n",
    "\n",
    "#same as\n",
    "#data.groupby('neighbourhood_group')['price'].mean()\n",
    "data.groupby('neighbourhood_group')['price'].mean().reset_index()  #reset_index()製成表格"
   ]
  },
  {
   "cell_type": "code",
   "execution_count": 11,
   "metadata": {},
   "outputs": [
    {
     "data": {
      "text/plain": [
       "Text(0, 0.5, 'Avg Price')"
      ]
     },
     "execution_count": 11,
     "metadata": {},
     "output_type": "execute_result"
    },
    {
     "data": {
      "image/png": "[encoded data removed]",
      "text/plain": [
       "<Figure size 432x288 with 1 Axes>"
      ]
     },
     "metadata": {},
     "output_type": "display_data"
    }
   ],
   "source": [
    "# 如何把輸出資料作圖 Ans\n",
    "\n",
    "sns.barplot(x='neighbourhood_group', \n",
    "            y='price',\n",
    "            data=data.groupby('neighbourhood_group')['price'].mean().reset_index())\n",
    "\n",
    "plt.xlabel('Zone')\n",
    "plt.ylabel('Avg Price')"
   ]
  },
  {
   "cell_type": "markdown",
   "metadata": {},
   "source": [
    "## 畫出不同區域各種房型的平均價格"
   ]
  },
  {
   "cell_type": "code",
   "execution_count": 12,
   "metadata": {},
   "outputs": [
    {
     "data": {
      "text/html": [
       "<div>\n",
       "<style scoped>\n",
       "    .dataframe tbody tr th:only-of-type {\n",
       "        vertical-align: middle;\n",
       "    }\n",
       "\n",
       "    .dataframe tbody tr th {\n",
       "        vertical-align: top;\n",
       "    }\n",
       "\n",
       "    .dataframe thead th {\n",
       "        text-align: right;\n",
       "    }\n",
       "</style>\n",
       "<table border=\"1\" class=\"dataframe\">\n",
       "  <thead>\n",
       "    <tr style=\"text-align: right;\">\n",
       "      <th></th>\n",
       "      <th>neighbourhood_group</th>\n",
       "      <th>room_type</th>\n",
       "      <th>price</th>\n",
       "    </tr>\n",
       "  </thead>\n",
       "  <tbody>\n",
       "    <tr>\n",
       "      <th>0</th>\n",
       "      <td>Bronx</td>\n",
       "      <td>Entire home/apt</td>\n",
       "      <td>106.000000</td>\n",
       "    </tr>\n",
       "    <tr>\n",
       "      <th>1</th>\n",
       "      <td>Bronx</td>\n",
       "      <td>Private room</td>\n",
       "      <td>52.857143</td>\n",
       "    </tr>\n",
       "    <tr>\n",
       "      <th>2</th>\n",
       "      <td>Brooklyn</td>\n",
       "      <td>Entire home/apt</td>\n",
       "      <td>182.353750</td>\n",
       "    </tr>\n",
       "    <tr>\n",
       "      <th>3</th>\n",
       "      <td>Brooklyn</td>\n",
       "      <td>Private room</td>\n",
       "      <td>90.191729</td>\n",
       "    </tr>\n",
       "    <tr>\n",
       "      <th>4</th>\n",
       "      <td>Brooklyn</td>\n",
       "      <td>Shared room</td>\n",
       "      <td>72.083333</td>\n",
       "    </tr>\n",
       "    <tr>\n",
       "      <th>5</th>\n",
       "      <td>Manhattan</td>\n",
       "      <td>Entire home/apt</td>\n",
       "      <td>227.641026</td>\n",
       "    </tr>\n",
       "    <tr>\n",
       "      <th>6</th>\n",
       "      <td>Manhattan</td>\n",
       "      <td>Private room</td>\n",
       "      <td>113.529915</td>\n",
       "    </tr>\n",
       "    <tr>\n",
       "      <th>7</th>\n",
       "      <td>Manhattan</td>\n",
       "      <td>Shared room</td>\n",
       "      <td>100.473684</td>\n",
       "    </tr>\n",
       "    <tr>\n",
       "      <th>8</th>\n",
       "      <td>Queens</td>\n",
       "      <td>Entire home/apt</td>\n",
       "      <td>135.922078</td>\n",
       "    </tr>\n",
       "    <tr>\n",
       "      <th>9</th>\n",
       "      <td>Queens</td>\n",
       "      <td>Private room</td>\n",
       "      <td>73.709091</td>\n",
       "    </tr>\n",
       "    <tr>\n",
       "      <th>10</th>\n",
       "      <td>Queens</td>\n",
       "      <td>Shared room</td>\n",
       "      <td>70.000000</td>\n",
       "    </tr>\n",
       "    <tr>\n",
       "      <th>11</th>\n",
       "      <td>Staten Island</td>\n",
       "      <td>Entire home/apt</td>\n",
       "      <td>234.444444</td>\n",
       "    </tr>\n",
       "    <tr>\n",
       "      <th>12</th>\n",
       "      <td>Staten Island</td>\n",
       "      <td>Private room</td>\n",
       "      <td>57.812500</td>\n",
       "    </tr>\n",
       "  </tbody>\n",
       "</table>\n",
       "</div>"
      ],
      "text/plain": [
       "   neighbourhood_group        room_type       price\n",
       "0                Bronx  Entire home/apt  106.000000\n",
       "1                Bronx     Private room   52.857143\n",
       "2             Brooklyn  Entire home/apt  182.353750\n",
       "3             Brooklyn     Private room   90.191729\n",
       "4             Brooklyn      Shared room   72.083333\n",
       "5            Manhattan  Entire home/apt  227.641026\n",
       "6            Manhattan     Private room  113.529915\n",
       "7            Manhattan      Shared room  100.473684\n",
       "8               Queens  Entire home/apt  135.922078\n",
       "9               Queens     Private room   73.709091\n",
       "10              Queens      Shared room   70.000000\n",
       "11       Staten Island  Entire home/apt  234.444444\n",
       "12       Staten Island     Private room   57.812500"
      ]
     },
     "execution_count": 12,
     "metadata": {},
     "output_type": "execute_result"
    }
   ],
   "source": [
    "# 如何做 區域/房型/價格的總和 （三位）Ans\n",
    "\n",
    "avg_price = data.groupby(['neighbourhood_group','room_type'])['price'].mean().reset_index()\n",
    "avg_price "
   ]
  },
  {
   "cell_type": "code",
   "execution_count": 13,
   "metadata": {},
   "outputs": [
    {
     "data": {
      "text/plain": [
       "<matplotlib.legend.Legend at 0x7fb740b79f70>"
      ]
     },
     "execution_count": 13,
     "metadata": {},
     "output_type": "execute_result"
    },
    {
     "data": {
      "image/png": "[encoded data removed]",
      "text/plain": [
       "<Figure size 432x288 with 1 Axes>"
      ]
     },
     "metadata": {},
     "output_type": "display_data"
    }
   ],
   "source": [
    "sns.barplot(x='neighbourhood_group', \n",
    "            y='price', \n",
    "            hue='room_type',\n",
    "            data=avg_price )\n",
    "\n",
    "plt.xlabel('Zone')\n",
    "plt.ylabel('Avg Price')\n",
    "plt.legend(title='Room Type')"
   ]
  },
  {
   "cell_type": "code",
   "execution_count": 14,
   "metadata": {},
   "outputs": [
    {
     "data": {
      "text/plain": [
       "<matplotlib.legend.Legend at 0x7fb77377b2b0>"
      ]
     },
     "execution_count": 14,
     "metadata": {},
     "output_type": "execute_result"
    },
    {
     "data": {
      "image/png": "[encoded data removed]",
      "text/plain": [
       "<Figure size 432x288 with 1 Axes>"
      ]
     },
     "metadata": {},
     "output_type": "display_data"
    }
   ],
   "source": [
    "sns.barplot(x='room_type', \n",
    "            y='price', \n",
    "            hue='neighbourhood_group',\n",
    "            data=data.groupby(['neighbourhood_group','room_type'])['price'].mean().reset_index())\n",
    "\n",
    "plt.xlabel('Room Type')\n",
    "plt.ylabel('Avg Price')\n",
    "plt.legend(title='Zone')"
   ]
  },
  {
   "cell_type": "markdown",
   "metadata": {},
   "source": [
    "## 擁有房間數目最多的前10名房東"
   ]
  },
  {
   "cell_type": "code",
   "execution_count": 15,
   "metadata": {},
   "outputs": [
    {
     "data": {
      "text/html": [
       "<div>\n",
       "<style scoped>\n",
       "    .dataframe tbody tr th:only-of-type {\n",
       "        vertical-align: middle;\n",
       "    }\n",
       "\n",
       "    .dataframe tbody tr th {\n",
       "        vertical-align: top;\n",
       "    }\n",
       "\n",
       "    .dataframe thead th {\n",
       "        text-align: right;\n",
       "    }\n",
       "</style>\n",
       "<table border=\"1\" class=\"dataframe\">\n",
       "  <thead>\n",
       "    <tr style=\"text-align: right;\">\n",
       "      <th></th>\n",
       "      <th>index</th>\n",
       "      <th>host_id</th>\n",
       "    </tr>\n",
       "  </thead>\n",
       "  <tbody>\n",
       "    <tr>\n",
       "      <th>0</th>\n",
       "      <td>417504</td>\n",
       "      <td>28</td>\n",
       "    </tr>\n",
       "    <tr>\n",
       "      <th>1</th>\n",
       "      <td>1475015</td>\n",
       "      <td>11</td>\n",
       "    </tr>\n",
       "    <tr>\n",
       "      <th>2</th>\n",
       "      <td>6885157</td>\n",
       "      <td>8</td>\n",
       "    </tr>\n",
       "  </tbody>\n",
       "</table>\n",
       "</div>"
      ],
      "text/plain": [
       "     index  host_id\n",
       "0   417504       28\n",
       "1  1475015       11\n",
       "2  6885157        8"
      ]
     },
     "execution_count": 15,
     "metadata": {},
     "output_type": "execute_result"
    }
   ],
   "source": [
    "# 不知道為何不能這樣用 會 merge 不到資料\n",
    "# -> \n",
    "data_index = data['host_id'].value_counts().head(3).reset_index()\n",
    "data_index"
   ]
  },
  {
   "cell_type": "code",
   "execution_count": 16,
   "metadata": {},
   "outputs": [],
   "source": [
    "#data_index = data.groupby('host_id').size().sort_values(ascending=False).head(3).reset_index()\n",
    "#data_index"
   ]
  },
  {
   "cell_type": "code",
   "execution_count": 17,
   "metadata": {},
   "outputs": [
    {
     "data": {
      "text/html": [
       "<div>\n",
       "<style scoped>\n",
       "    .dataframe tbody tr th:only-of-type {\n",
       "        vertical-align: middle;\n",
       "    }\n",
       "\n",
       "    .dataframe tbody tr th {\n",
       "        vertical-align: top;\n",
       "    }\n",
       "\n",
       "    .dataframe thead th {\n",
       "        text-align: right;\n",
       "    }\n",
       "</style>\n",
       "<table border=\"1\" class=\"dataframe\">\n",
       "  <thead>\n",
       "    <tr style=\"text-align: right;\">\n",
       "      <th></th>\n",
       "      <th>index</th>\n",
       "      <th>host_id</th>\n",
       "      <th>host_name</th>\n",
       "    </tr>\n",
       "  </thead>\n",
       "  <tbody>\n",
       "  </tbody>\n",
       "</table>\n",
       "</div>"
      ],
      "text/plain": [
       "Empty DataFrame\n",
       "Columns: [index, host_id, host_name]\n",
       "Index: []"
      ]
     },
     "execution_count": 17,
     "metadata": {},
     "output_type": "execute_result"
    }
   ],
   "source": [
    "# 不知道如何把 host_id \n",
    "\n",
    "# pd.merge(data_index,\n",
    "#         data,\n",
    "#         on='host_id')\n",
    "\n",
    "# same host_id dropout\n",
    "pd.merge(data_index,\n",
    "         data[['host_id','host_name']].drop_duplicates('host_id'),\n",
    "         on='host_id')"
   ]
  },
  {
   "cell_type": "markdown",
   "metadata": {},
   "source": [
    "## 擁有房間租金總額最多的前10名房東"
   ]
  },
  {
   "cell_type": "code",
   "execution_count": 18,
   "metadata": {},
   "outputs": [
    {
     "data": {
      "text/html": [
       "<div>\n",
       "<style scoped>\n",
       "    .dataframe tbody tr th:only-of-type {\n",
       "        vertical-align: middle;\n",
       "    }\n",
       "\n",
       "    .dataframe tbody tr th {\n",
       "        vertical-align: top;\n",
       "    }\n",
       "\n",
       "    .dataframe thead th {\n",
       "        text-align: right;\n",
       "    }\n",
       "</style>\n",
       "<table border=\"1\" class=\"dataframe\">\n",
       "  <thead>\n",
       "    <tr style=\"text-align: right;\">\n",
       "      <th></th>\n",
       "      <th>host_id</th>\n",
       "      <th>price</th>\n",
       "    </tr>\n",
       "  </thead>\n",
       "  <tbody>\n",
       "    <tr>\n",
       "      <th>0</th>\n",
       "      <td>417504</td>\n",
       "      <td>6962</td>\n",
       "    </tr>\n",
       "    <tr>\n",
       "      <th>1</th>\n",
       "      <td>836168</td>\n",
       "      <td>6000</td>\n",
       "    </tr>\n",
       "    <tr>\n",
       "      <th>2</th>\n",
       "      <td>213266</td>\n",
       "      <td>5000</td>\n",
       "    </tr>\n",
       "    <tr>\n",
       "      <th>3</th>\n",
       "      <td>4289240</td>\n",
       "      <td>4000</td>\n",
       "    </tr>\n",
       "    <tr>\n",
       "      <th>4</th>\n",
       "      <td>256239</td>\n",
       "      <td>3000</td>\n",
       "    </tr>\n",
       "    <tr>\n",
       "      <th>5</th>\n",
       "      <td>4751930</td>\n",
       "      <td>2500</td>\n",
       "    </tr>\n",
       "    <tr>\n",
       "      <th>6</th>\n",
       "      <td>605463</td>\n",
       "      <td>2300</td>\n",
       "    </tr>\n",
       "    <tr>\n",
       "      <th>7</th>\n",
       "      <td>2214774</td>\n",
       "      <td>1899</td>\n",
       "    </tr>\n",
       "    <tr>\n",
       "      <th>8</th>\n",
       "      <td>462379</td>\n",
       "      <td>1693</td>\n",
       "    </tr>\n",
       "    <tr>\n",
       "      <th>9</th>\n",
       "      <td>273174</td>\n",
       "      <td>1575</td>\n",
       "    </tr>\n",
       "  </tbody>\n",
       "</table>\n",
       "</div>"
      ],
      "text/plain": [
       "   host_id  price\n",
       "0   417504   6962\n",
       "1   836168   6000\n",
       "2   213266   5000\n",
       "3  4289240   4000\n",
       "4   256239   3000\n",
       "5  4751930   2500\n",
       "6   605463   2300\n",
       "7  2214774   1899\n",
       "8   462379   1693\n",
       "9   273174   1575"
      ]
     },
     "execution_count": 18,
     "metadata": {},
     "output_type": "execute_result"
    }
   ],
   "source": [
    "data_index = data.groupby('host_id')['price'].sum().sort_values(ascending=False).head(10).reset_index()\n",
    "data_index"
   ]
  },
  {
   "cell_type": "code",
   "execution_count": 19,
   "metadata": {},
   "outputs": [
    {
     "data": {
      "text/html": [
       "<div>\n",
       "<style scoped>\n",
       "    .dataframe tbody tr th:only-of-type {\n",
       "        vertical-align: middle;\n",
       "    }\n",
       "\n",
       "    .dataframe tbody tr th {\n",
       "        vertical-align: top;\n",
       "    }\n",
       "\n",
       "    .dataframe thead th {\n",
       "        text-align: right;\n",
       "    }\n",
       "</style>\n",
       "<table border=\"1\" class=\"dataframe\">\n",
       "  <thead>\n",
       "    <tr style=\"text-align: right;\">\n",
       "      <th></th>\n",
       "      <th>host_id</th>\n",
       "      <th>price</th>\n",
       "      <th>host_name</th>\n",
       "    </tr>\n",
       "  </thead>\n",
       "  <tbody>\n",
       "    <tr>\n",
       "      <th>0</th>\n",
       "      <td>417504</td>\n",
       "      <td>6962</td>\n",
       "      <td>The Box House Hotel</td>\n",
       "    </tr>\n",
       "    <tr>\n",
       "      <th>1</th>\n",
       "      <td>836168</td>\n",
       "      <td>6000</td>\n",
       "      <td>Henry</td>\n",
       "    </tr>\n",
       "    <tr>\n",
       "      <th>2</th>\n",
       "      <td>213266</td>\n",
       "      <td>5000</td>\n",
       "      <td>Jessica</td>\n",
       "    </tr>\n",
       "    <tr>\n",
       "      <th>3</th>\n",
       "      <td>4289240</td>\n",
       "      <td>4000</td>\n",
       "      <td>Lucy</td>\n",
       "    </tr>\n",
       "    <tr>\n",
       "      <th>4</th>\n",
       "      <td>256239</td>\n",
       "      <td>3000</td>\n",
       "      <td>Tracey</td>\n",
       "    </tr>\n",
       "    <tr>\n",
       "      <th>5</th>\n",
       "      <td>4751930</td>\n",
       "      <td>2500</td>\n",
       "      <td>Martin</td>\n",
       "    </tr>\n",
       "    <tr>\n",
       "      <th>6</th>\n",
       "      <td>605463</td>\n",
       "      <td>2300</td>\n",
       "      <td>West Village</td>\n",
       "    </tr>\n",
       "    <tr>\n",
       "      <th>7</th>\n",
       "      <td>2214774</td>\n",
       "      <td>1899</td>\n",
       "      <td>Ben And Jess</td>\n",
       "    </tr>\n",
       "    <tr>\n",
       "      <th>8</th>\n",
       "      <td>462379</td>\n",
       "      <td>1693</td>\n",
       "      <td>Loretta</td>\n",
       "    </tr>\n",
       "    <tr>\n",
       "      <th>9</th>\n",
       "      <td>273174</td>\n",
       "      <td>1575</td>\n",
       "      <td>Jon</td>\n",
       "    </tr>\n",
       "  </tbody>\n",
       "</table>\n",
       "</div>"
      ],
      "text/plain": [
       "   host_id  price            host_name\n",
       "0   417504   6962  The Box House Hotel\n",
       "1   836168   6000                Henry\n",
       "2   213266   5000              Jessica\n",
       "3  4289240   4000                 Lucy\n",
       "4   256239   3000               Tracey\n",
       "5  4751930   2500               Martin\n",
       "6   605463   2300         West Village\n",
       "7  2214774   1899         Ben And Jess\n",
       "8   462379   1693              Loretta\n",
       "9   273174   1575                  Jon"
      ]
     },
     "execution_count": 19,
     "metadata": {},
     "output_type": "execute_result"
    }
   ],
   "source": [
    "pd.merge(data_index,data[['host_id','host_name']].drop_duplicates('host_id'),\n",
    "         on='host_id')"
   ]
  },
  {
   "cell_type": "markdown",
   "metadata": {},
   "source": [
    "## 那個區域比較熱門"
   ]
  },
  {
   "cell_type": "code",
   "execution_count": 20,
   "metadata": {},
   "outputs": [
    {
     "data": {
      "text/html": [
       "<div>\n",
       "<style scoped>\n",
       "    .dataframe tbody tr th:only-of-type {\n",
       "        vertical-align: middle;\n",
       "    }\n",
       "\n",
       "    .dataframe tbody tr th {\n",
       "        vertical-align: top;\n",
       "    }\n",
       "\n",
       "    .dataframe thead th {\n",
       "        text-align: right;\n",
       "    }\n",
       "</style>\n",
       "<table border=\"1\" class=\"dataframe\">\n",
       "  <thead>\n",
       "    <tr style=\"text-align: right;\">\n",
       "      <th></th>\n",
       "      <th>neighbourhood_group</th>\n",
       "      <th>number_of_reviews</th>\n",
       "    </tr>\n",
       "  </thead>\n",
       "  <tbody>\n",
       "    <tr>\n",
       "      <th>0</th>\n",
       "      <td>Manhattan</td>\n",
       "      <td>89873</td>\n",
       "    </tr>\n",
       "    <tr>\n",
       "      <th>1</th>\n",
       "      <td>Brooklyn</td>\n",
       "      <td>88805</td>\n",
       "    </tr>\n",
       "    <tr>\n",
       "      <th>2</th>\n",
       "      <td>Queens</td>\n",
       "      <td>14060</td>\n",
       "    </tr>\n",
       "    <tr>\n",
       "      <th>3</th>\n",
       "      <td>Bronx</td>\n",
       "      <td>3337</td>\n",
       "    </tr>\n",
       "    <tr>\n",
       "      <th>4</th>\n",
       "      <td>Staten Island</td>\n",
       "      <td>1536</td>\n",
       "    </tr>\n",
       "  </tbody>\n",
       "</table>\n",
       "</div>"
      ],
      "text/plain": [
       "  neighbourhood_group  number_of_reviews\n",
       "0           Manhattan              89873\n",
       "1            Brooklyn              88805\n",
       "2              Queens              14060\n",
       "3               Bronx               3337\n",
       "4       Staten Island               1536"
      ]
     },
     "execution_count": 20,
     "metadata": {},
     "output_type": "execute_result"
    }
   ],
   "source": [
    "data.groupby('neighbourhood_group')['number_of_reviews'].sum().sort_values(ascending=False).reset_index()"
   ]
  },
  {
   "cell_type": "code",
   "execution_count": 21,
   "metadata": {},
   "outputs": [
    {
     "data": {
      "text/html": [
       "<div>\n",
       "<style scoped>\n",
       "    .dataframe tbody tr th:only-of-type {\n",
       "        vertical-align: middle;\n",
       "    }\n",
       "\n",
       "    .dataframe tbody tr th {\n",
       "        vertical-align: top;\n",
       "    }\n",
       "\n",
       "    .dataframe thead th {\n",
       "        text-align: right;\n",
       "    }\n",
       "</style>\n",
       "<table border=\"1\" class=\"dataframe\">\n",
       "  <thead>\n",
       "    <tr style=\"text-align: right;\">\n",
       "      <th></th>\n",
       "      <th>neighbourhood</th>\n",
       "      <th>number_of_reviews</th>\n",
       "    </tr>\n",
       "  </thead>\n",
       "  <tbody>\n",
       "    <tr>\n",
       "      <th>0</th>\n",
       "      <td>Williamsburg</td>\n",
       "      <td>21695</td>\n",
       "    </tr>\n",
       "    <tr>\n",
       "      <th>1</th>\n",
       "      <td>Harlem</td>\n",
       "      <td>17079</td>\n",
       "    </tr>\n",
       "    <tr>\n",
       "      <th>2</th>\n",
       "      <td>Bedford-Stuyvesant</td>\n",
       "      <td>16665</td>\n",
       "    </tr>\n",
       "    <tr>\n",
       "      <th>3</th>\n",
       "      <td>East Village</td>\n",
       "      <td>14448</td>\n",
       "    </tr>\n",
       "    <tr>\n",
       "      <th>4</th>\n",
       "      <td>Upper West Side</td>\n",
       "      <td>8119</td>\n",
       "    </tr>\n",
       "    <tr>\n",
       "      <th>5</th>\n",
       "      <td>Lower East Side</td>\n",
       "      <td>6089</td>\n",
       "    </tr>\n",
       "    <tr>\n",
       "      <th>6</th>\n",
       "      <td>Hell's Kitchen</td>\n",
       "      <td>6058</td>\n",
       "    </tr>\n",
       "    <tr>\n",
       "      <th>7</th>\n",
       "      <td>Crown Heights</td>\n",
       "      <td>5825</td>\n",
       "    </tr>\n",
       "    <tr>\n",
       "      <th>8</th>\n",
       "      <td>East Harlem</td>\n",
       "      <td>5628</td>\n",
       "    </tr>\n",
       "    <tr>\n",
       "      <th>9</th>\n",
       "      <td>Greenpoint</td>\n",
       "      <td>4982</td>\n",
       "    </tr>\n",
       "  </tbody>\n",
       "</table>\n",
       "</div>"
      ],
      "text/plain": [
       "        neighbourhood  number_of_reviews\n",
       "0        Williamsburg              21695\n",
       "1              Harlem              17079\n",
       "2  Bedford-Stuyvesant              16665\n",
       "3        East Village              14448\n",
       "4     Upper West Side               8119\n",
       "5     Lower East Side               6089\n",
       "6      Hell's Kitchen               6058\n",
       "7       Crown Heights               5825\n",
       "8         East Harlem               5628\n",
       "9          Greenpoint               4982"
      ]
     },
     "execution_count": 21,
     "metadata": {},
     "output_type": "execute_result"
    }
   ],
   "source": [
    "data.groupby('neighbourhood')['number_of_reviews'].sum().sort_values(ascending=False).head(10).reset_index()"
   ]
  },
  {
   "cell_type": "code",
   "execution_count": 22,
   "metadata": {},
   "outputs": [
    {
     "data": {
      "text/html": [
       "<div>\n",
       "<style scoped>\n",
       "    .dataframe tbody tr th:only-of-type {\n",
       "        vertical-align: middle;\n",
       "    }\n",
       "\n",
       "    .dataframe tbody tr th {\n",
       "        vertical-align: top;\n",
       "    }\n",
       "\n",
       "    .dataframe thead th {\n",
       "        text-align: right;\n",
       "    }\n",
       "</style>\n",
       "<table border=\"1\" class=\"dataframe\">\n",
       "  <thead>\n",
       "    <tr style=\"text-align: right;\">\n",
       "      <th></th>\n",
       "      <th>neighbourhood_group</th>\n",
       "      <th>neighbourhood</th>\n",
       "      <th>number_of_reviews</th>\n",
       "    </tr>\n",
       "  </thead>\n",
       "  <tbody>\n",
       "    <tr>\n",
       "      <th>0</th>\n",
       "      <td>Brooklyn</td>\n",
       "      <td>Williamsburg</td>\n",
       "      <td>21695</td>\n",
       "    </tr>\n",
       "    <tr>\n",
       "      <th>1</th>\n",
       "      <td>Manhattan</td>\n",
       "      <td>Harlem</td>\n",
       "      <td>17079</td>\n",
       "    </tr>\n",
       "    <tr>\n",
       "      <th>2</th>\n",
       "      <td>Brooklyn</td>\n",
       "      <td>Bedford-Stuyvesant</td>\n",
       "      <td>16665</td>\n",
       "    </tr>\n",
       "    <tr>\n",
       "      <th>3</th>\n",
       "      <td>Manhattan</td>\n",
       "      <td>East Village</td>\n",
       "      <td>14448</td>\n",
       "    </tr>\n",
       "    <tr>\n",
       "      <th>4</th>\n",
       "      <td>Manhattan</td>\n",
       "      <td>Upper West Side</td>\n",
       "      <td>8119</td>\n",
       "    </tr>\n",
       "    <tr>\n",
       "      <th>5</th>\n",
       "      <td>Manhattan</td>\n",
       "      <td>Lower East Side</td>\n",
       "      <td>6089</td>\n",
       "    </tr>\n",
       "    <tr>\n",
       "      <th>6</th>\n",
       "      <td>Manhattan</td>\n",
       "      <td>Hell's Kitchen</td>\n",
       "      <td>6058</td>\n",
       "    </tr>\n",
       "    <tr>\n",
       "      <th>7</th>\n",
       "      <td>Brooklyn</td>\n",
       "      <td>Crown Heights</td>\n",
       "      <td>5825</td>\n",
       "    </tr>\n",
       "    <tr>\n",
       "      <th>8</th>\n",
       "      <td>Manhattan</td>\n",
       "      <td>East Harlem</td>\n",
       "      <td>5628</td>\n",
       "    </tr>\n",
       "    <tr>\n",
       "      <th>9</th>\n",
       "      <td>Brooklyn</td>\n",
       "      <td>Greenpoint</td>\n",
       "      <td>4982</td>\n",
       "    </tr>\n",
       "  </tbody>\n",
       "</table>\n",
       "</div>"
      ],
      "text/plain": [
       "  neighbourhood_group       neighbourhood  number_of_reviews\n",
       "0            Brooklyn        Williamsburg              21695\n",
       "1           Manhattan              Harlem              17079\n",
       "2            Brooklyn  Bedford-Stuyvesant              16665\n",
       "3           Manhattan        East Village              14448\n",
       "4           Manhattan     Upper West Side               8119\n",
       "5           Manhattan     Lower East Side               6089\n",
       "6           Manhattan      Hell's Kitchen               6058\n",
       "7            Brooklyn       Crown Heights               5825\n",
       "8           Manhattan         East Harlem               5628\n",
       "9            Brooklyn          Greenpoint               4982"
      ]
     },
     "execution_count": 22,
     "metadata": {},
     "output_type": "execute_result"
    }
   ],
   "source": [
    "subData = data.groupby(['neighbourhood_group','neighbourhood'])['number_of_reviews']\\\n",
    "    .sum().sort_values(ascending=False).head(10).reset_index()\n",
    "subData"
   ]
  },
  {
   "cell_type": "code",
   "execution_count": 23,
   "metadata": {},
   "outputs": [
    {
     "data": {
      "image/png": "[encoded data removed]",
      "text/plain": [
       "<Figure size 432x288 with 1 Axes>"
      ]
     },
     "metadata": {},
     "output_type": "display_data"
    }
   ],
   "source": [
    "g = sns.barplot(data=subData,\n",
    "                x='neighbourhood',\n",
    "                y='number_of_reviews')\n",
    "\n",
    "plt.xticks(rotation=90)\n",
    "i = 0\n",
    "for value in subData['number_of_reviews'].values:\n",
    "    g.text(i, 7000, \n",
    "           value, \n",
    "           color='#0000FF', size=14, rotation= 90, ha=\"center\")\n",
    "    i += 1\n",
    "    "
   ]
  },
  {
   "cell_type": "markdown",
   "metadata": {},
   "source": [
    "## 地理圖"
   ]
  },
  {
   "cell_type": "markdown",
   "metadata": {},
   "source": [
    "## == Folium == \n",
    "\n",
    "#pip install folium\n",
    "https://python-visualization.github.io/folium/\n"
   ]
  },
  {
   "cell_type": "code",
   "execution_count": 26,
   "metadata": {},
   "outputs": [
    {
     "name": "stdout",
     "output_type": "stream",
     "text": [
      "Requirement already satisfied: folium in /Users/jerrychien/opt/anaconda3/lib/python3.9/site-packages (0.12.1.post1)\n",
      "Requirement already satisfied: requests in /Users/jerrychien/opt/anaconda3/lib/python3.9/site-packages (from folium) (2.26.0)\n",
      "Requirement already satisfied: numpy in /Users/jerrychien/opt/anaconda3/lib/python3.9/site-packages (from folium) (1.20.3)\n",
      "Requirement already satisfied: branca>=0.3.0 in /Users/jerrychien/opt/anaconda3/lib/python3.9/site-packages (from folium) (0.4.2)\n",
      "Requirement already satisfied: jinja2>=2.9 in /Users/jerrychien/opt/anaconda3/lib/python3.9/site-packages (from folium) (2.11.3)\n",
      "Requirement already satisfied: MarkupSafe>=0.23 in /Users/jerrychien/opt/anaconda3/lib/python3.9/site-packages (from jinja2>=2.9->folium) (1.1.1)\n",
      "Requirement already satisfied: charset-normalizer~=2.0.0 in /Users/jerrychien/opt/anaconda3/lib/python3.9/site-packages (from requests->folium) (2.0.4)\n",
      "Requirement already satisfied: certifi>=2017.4.17 in /Users/jerrychien/opt/anaconda3/lib/python3.9/site-packages (from requests->folium) (2021.10.8)\n",
      "Requirement already satisfied: idna<4,>=2.5 in /Users/jerrychien/opt/anaconda3/lib/python3.9/site-packages (from requests->folium) (3.2)\n",
      "Requirement already satisfied: urllib3<1.27,>=1.21.1 in /Users/jerrychien/opt/anaconda3/lib/python3.9/site-packages (from requests->folium) (1.26.7)\n",
      "Note: you may need to restart the kernel to use updated packages.\n"
     ]
    }
   ],
   "source": [
    "!pip install folium"
   ]
  },
  {
   "cell_type": "code",
   "execution_count": 27,
   "metadata": {
    "scrolled": true
   },
   "outputs": [
    {
     "data": {
      "text/html": [
       "<div style=\"width:100%;\"><div style=\"position:relative;width:100%;height:0;padding-bottom:60%;\"><span style=\"color:#565656\">Make this Notebook Trusted to load map: File -> Trust Notebook</span><iframe src=\"about:blank\" style=\"position:absolute;width:100%;height:100%;left:0;top:0;border:none !important;\" data-html=%3C%21DOCTYPE%20html%3E%0A%3Chead%3E%20%20%20%20%0A%20%20%20%20%3Cmeta%20http-equiv%3D%22content-type%22%20content%3D%22text/html%3B%20charset%3DUTF-8%22%20/%3E%0A%20%20%20%20%0A%20%20%20%20%20%20%20%20%3Cscript%3E%0A%20%20%20%20%20%20%20%20%20%20%20%20L_NO_TOUCH%20%3D%20false%3B%0A%20%20%20%20%20%20%20%20%20%20%20%20L_DISABLE_3D%20%3D%20false%3B%0A%20%20%20%20%20%20%20%20%3C/script%3E%0A%20%20%20%20%0A%20%20%20%20%3Cstyle%3Ehtml%2C%20body%20%7Bwidth%3A%20100%25%3Bheight%3A%20100%25%3Bmargin%3A%200%3Bpadding%3A%200%3B%7D%3C/style%3E%0A%20%20%20%20%3Cstyle%3E%23map%20%7Bposition%3Aabsolute%3Btop%3A0%3Bbottom%3A0%3Bright%3A0%3Bleft%3A0%3B%7D%3C/style%3E%0A%20%20%20%20%3Cscript%20src%3D%22https%3A//cdn.jsdelivr.net/npm/leaflet%401.6.0/dist/leaflet.js%22%3E%3C/script%3E%0A%20%20%20%20%3Cscript%20src%3D%22https%3A//code.jquery.com/jquery-1.12.4.min.js%22%3E%3C/script%3E%0A%20%20%20%20%3Cscript%20src%3D%22https%3A//maxcdn.bootstrapcdn.com/bootstrap/3.2.0/js/bootstrap.min.js%22%3E%3C/script%3E%0A%20%20%20%20%3Cscript%20src%3D%22https%3A//cdnjs.cloudflare.com/ajax/libs/Leaflet.awesome-markers/2.0.2/leaflet.awesome-markers.js%22%3E%3C/script%3E%0A%20%20%20%20%3Clink%20rel%3D%22stylesheet%22%20href%3D%22https%3A//cdn.jsdelivr.net/npm/leaflet%401.6.0/dist/leaflet.css%22/%3E%0A%20%20%20%20%3Clink%20rel%3D%22stylesheet%22%20href%3D%22https%3A//maxcdn.bootstrapcdn.com/bootstrap/3.2.0/css/bootstrap.min.css%22/%3E%0A%20%20%20%20%3Clink%20rel%3D%22stylesheet%22%20href%3D%22https%3A//maxcdn.bootstrapcdn.com/bootstrap/3.2.0/css/bootstrap-theme.min.css%22/%3E%0A%20%20%20%20%3Clink%20rel%3D%22stylesheet%22%20href%3D%22https%3A//maxcdn.bootstrapcdn.com/font-awesome/4.6.3/css/font-awesome.min.css%22/%3E%0A%20%20%20%20%3Clink%20rel%3D%22stylesheet%22%20href%3D%22https%3A//cdnjs.cloudflare.com/ajax/libs/Leaflet.awesome-markers/2.0.2/leaflet.awesome-markers.css%22/%3E%0A%20%20%20%20%3Clink%20rel%3D%22stylesheet%22%20href%3D%22https%3A//cdn.jsdelivr.net/gh/python-visualization/folium/folium/templates/leaflet.awesome.rotate.min.css%22/%3E%0A%20%20%20%20%0A%20%20%20%20%20%20%20%20%20%20%20%20%3Cmeta%20name%3D%22viewport%22%20content%3D%22width%3Ddevice-width%2C%0A%20%20%20%20%20%20%20%20%20%20%20%20%20%20%20%20initial-scale%3D1.0%2C%20maximum-scale%3D1.0%2C%20user-scalable%3Dno%22%20/%3E%0A%20%20%20%20%20%20%20%20%20%20%20%20%3Cstyle%3E%0A%20%20%20%20%20%20%20%20%20%20%20%20%20%20%20%20%23map_aecf1787c065444b9103da8841b1e71c%20%7B%0A%20%20%20%20%20%20%20%20%20%20%20%20%20%20%20%20%20%20%20%20position%3A%20relative%3B%0A%20%20%20%20%20%20%20%20%20%20%20%20%20%20%20%20%20%20%20%20width%3A%20100.0%25%3B%0A%20%20%20%20%20%20%20%20%20%20%20%20%20%20%20%20%20%20%20%20height%3A%20100.0%25%3B%0A%20%20%20%20%20%20%20%20%20%20%20%20%20%20%20%20%20%20%20%20left%3A%200.0%25%3B%0A%20%20%20%20%20%20%20%20%20%20%20%20%20%20%20%20%20%20%20%20top%3A%200.0%25%3B%0A%20%20%20%20%20%20%20%20%20%20%20%20%20%20%20%20%7D%0A%20%20%20%20%20%20%20%20%20%20%20%20%3C/style%3E%0A%20%20%20%20%20%20%20%20%0A%20%20%20%20%3Cscript%20src%3D%22https%3A//cdn.jsdelivr.net/gh/python-visualization/folium%40master/folium/templates/leaflet_heat.min.js%22%3E%3C/script%3E%0A%3C/head%3E%0A%3Cbody%3E%20%20%20%20%0A%20%20%20%20%0A%20%20%20%20%20%20%20%20%20%20%20%20%3Cdiv%20class%3D%22folium-map%22%20id%3D%22map_aecf1787c065444b9103da8841b1e71c%22%20%3E%3C/div%3E%0A%20%20%20%20%20%20%20%20%0A%3C/body%3E%0A%3Cscript%3E%20%20%20%20%0A%20%20%20%20%0A%20%20%20%20%20%20%20%20%20%20%20%20var%20map_aecf1787c065444b9103da8841b1e71c%20%3D%20L.map%28%0A%20%20%20%20%20%20%20%20%20%20%20%20%20%20%20%20%22map_aecf1787c065444b9103da8841b1e71c%22%2C%0A%20%20%20%20%20%20%20%20%20%20%20%20%20%20%20%20%7B%0A%20%20%20%20%20%20%20%20%20%20%20%20%20%20%20%20%20%20%20%20center%3A%20%5B40.7128%2C%20-73.916%5D%2C%0A%20%20%20%20%20%20%20%20%20%20%20%20%20%20%20%20%20%20%20%20crs%3A%20L.CRS.EPSG3857%2C%0A%20%20%20%20%20%20%20%20%20%20%20%20%20%20%20%20%20%20%20%20zoom%3A%2011%2C%0A%20%20%20%20%20%20%20%20%20%20%20%20%20%20%20%20%20%20%20%20zoomControl%3A%20true%2C%0A%20%20%20%20%20%20%20%20%20%20%20%20%20%20%20%20%20%20%20%20preferCanvas%3A%20false%2C%0A%20%20%20%20%20%20%20%20%20%20%20%20%20%20%20%20%7D%0A%20%20%20%20%20%20%20%20%20%20%20%20%29%3B%0A%0A%20%20%20%20%20%20%20%20%20%20%20%20%0A%0A%20%20%20%20%20%20%20%20%0A%20%20%20%20%0A%20%20%20%20%20%20%20%20%20%20%20%20var%20tile_layer_0c33d1fd444b46f2898b25153a14bcea%20%3D%20L.tileLayer%28%0A%20%20%20%20%20%20%20%20%20%20%20%20%20%20%20%20%22https%3A//%7Bs%7D.tile.openstreetmap.org/%7Bz%7D/%7Bx%7D/%7By%7D.png%22%2C%0A%20%20%20%20%20%20%20%20%20%20%20%20%20%20%20%20%7B%22attribution%22%3A%20%22Data%20by%20%5Cu0026copy%3B%20%5Cu003ca%20href%3D%5C%22http%3A//openstreetmap.org%5C%22%5Cu003eOpenStreetMap%5Cu003c/a%5Cu003e%2C%20under%20%5Cu003ca%20href%3D%5C%22http%3A//www.openstreetmap.org/copyright%5C%22%5Cu003eODbL%5Cu003c/a%5Cu003e.%22%2C%20%22detectRetina%22%3A%20false%2C%20%22maxNativeZoom%22%3A%2018%2C%20%22maxZoom%22%3A%2018%2C%20%22minZoom%22%3A%200%2C%20%22noWrap%22%3A%20false%2C%20%22opacity%22%3A%201%2C%20%22subdomains%22%3A%20%22abc%22%2C%20%22tms%22%3A%20false%7D%0A%20%20%20%20%20%20%20%20%20%20%20%20%29.addTo%28map_aecf1787c065444b9103da8841b1e71c%29%3B%0A%20%20%20%20%20%20%20%20%0A%20%20%20%20%0A%20%20%20%20%20%20%20%20%20%20%20%20var%20heat_map_c8e0735b5918496e826e2f1cdc4f5c47%20%3D%20L.heatLayer%28%0A%20%20%20%20%20%20%20%20%20%20%20%20%20%20%20%20%5B%5B40.64749%2C%20-73.97237%5D%2C%20%5B40.75362%2C%20-73.98377%5D%2C%20%5B40.80902%2C%20-73.9419%5D%2C%20%5B40.68514%2C%20-73.95976%5D%2C%20%5B40.79851%2C%20-73.94399%5D%2C%20%5B40.74767%2C%20-73.975%5D%2C%20%5B40.68688%2C%20-73.95596%5D%2C%20%5B40.76489%2C%20-73.98493%5D%2C%20%5B40.80178%2C%20-73.96723%5D%2C%20%5B40.71344%2C%20-73.99037%5D%2C%20%5B40.80316%2C%20-73.96545%5D%2C%20%5B40.76076%2C%20-73.98867%5D%2C%20%5B40.66829%2C%20-73.98779%5D%2C%20%5B40.79826%2C%20-73.96113%5D%2C%20%5B40.7353%2C%20-74.00525%5D%2C%20%5B40.70837%2C%20-73.95352%5D%2C%20%5B40.69169%2C%20-73.97185%5D%2C%20%5B40.74192%2C%20-73.99501%5D%2C%20%5B40.67592%2C%20-73.94694%5D%2C%20%5B40.79685%2C%20-73.94872%5D%2C%20%5B40.71842%2C%20-73.95718%5D%2C%20%5B40.68069%2C%20-73.97706%5D%2C%20%5B40.67989%2C%20-73.97798%5D%2C%20%5B40.68001%2C%20-73.97865%5D%2C%20%5B40.68371%2C%20-73.94028%5D%2C%20%5B40.65599%2C%20-73.97519%5D%2C%20%5B40.86754%2C%20-73.92639%5D%2C%20%5B40.76715%2C%20-73.98533%5D%2C%20%5B40.86482%2C%20-73.92106%5D%2C%20%5B40.7292%2C%20-73.98542%5D%2C%20%5B40.82245%2C%20-73.95104%5D%2C%20%5B40.81305%2C%20-73.95466%5D%2C%20%5B40.72219%2C%20-73.93762%5D%2C%20%5B40.8213%2C%20-73.95318%5D%2C%20%5B40.6831%2C%20-73.95473%5D%2C%20%5B40.66869%2C%20-73.9878%5D%2C%20%5B40.68876%2C%20-73.94312%5D%2C%20%5B40.70186%2C%20-73.92745%5D%2C%20%5B40.63702%2C%20-73.96327%5D%2C%20%5B40.71401%2C%20-73.98917%5D%2C%20%5B40.7229%2C%20-73.98199%5D%2C%20%5B40.66278%2C%20-73.97966%5D%2C%20%5B40.69673%2C%20-73.97584%5D%2C%20%5B40.79009%2C%20-73.97927%5D%2C%20%5B40.81175%2C%20-73.94478%5D%2C%20%5B40.65944%2C%20-73.96238%5D%2C%20%5B40.74771%2C%20-73.9474%5D%2C%20%5B40.68111%2C%20-73.95591%5D%2C%20%5B40.68554%2C%20-73.9409%5D%2C%20%5B40.69142%2C%20-73.97376%5D%2C%20%5B40.68043%2C%20-73.93934%5D%2C%20%5B40.78635%2C%20-73.97008%5D%2C%20%5B40.7042%2C%20-73.9356%5D%2C%20%5B40.73506%2C%20-73.95392%5D%2C%20%5B40.73961%2C%20-73.98074%5D%2C%20%5B40.70881%2C%20-73.9593%5D%2C%20%5B40.72004%2C%20-73.99104%5D%2C%20%5B40.75531%2C%20-73.99293%5D%2C%20%5B40.72401%2C%20-73.93788%5D%2C%20%5B40.7221%2C%20-73.99775%5D%2C%20%5B40.71185%2C%20-73.96204%5D%2C%20%5B40.74623%2C%20-73.9953%5D%2C%20%5B40.77065%2C%20-73.95269%5D%2C%20%5B40.67811%2C%20-73.96428%5D%2C%20%5B40.69%2C%20-73.96788%5D%2C%20%5B40.75979%2C%20-73.99119%5D%2C%20%5B40.67343%2C%20-73.98338%5D%2C%20%5B40.72649%2C%20-73.97904%5D%2C%20%5B40.70933%2C%20-73.96792%5D%2C%20%5B40.72298%2C%20-73.98474%5D%2C%20%5B40.80164%2C%20-73.93922%5D%2C%20%5B40.72162%2C%20-73.98008%5D%2C%20%5B40.76342%2C%20-73.98865%5D%2C%20%5B40.83139%2C%20-73.94095%5D%2C%20%5B40.68346%2C%20-73.96374%5D%2C%20%5B40.72828%2C%20-73.98801%5D%2C%20%5B40.76865%2C%20-73.95058%5D%2C%20%5B40.75038%2C%20-73.90334%5D%2C%20%5B40.6932%2C%20-73.97267%5D%2C%20%5B40.74138%2C%20-74.00197%5D%2C%20%5B40.71154%2C%20-73.96112%5D%2C%20%5B40.82915%2C%20-73.95136%5D%2C%20%5B40.71851%2C%20-73.98892%5D%2C%20%5B40.65401%2C%20-73.96323%5D%2C%20%5B40.7114%2C%20-73.98794%5D%2C%20%5B40.69723%2C%20-73.99268%5D%2C%20%5B40.71833%2C%20-73.95748%5D%2C%20%5B40.72334%2C%20-73.9844%5D%2C%20%5B40.72912%2C%20-73.98057%5D%2C%20%5B40.71156%2C%20-73.96218%5D%2C%20%5B40.70032%2C%20-73.9383%5D%2C%20%5B40.68233%2C%20-73.97261%5D%2C%20%5B40.68634%2C%20-73.966%5D%2C%20%5B40.68035%2C%20-73.97162%5D%2C%20%5B40.70984%2C%20-73.95775%5D%2C%20%5B40.70093%2C%20-73.92609%5D%2C%20%5B40.79764%2C%20-73.96177%5D%2C%20%5B40.82803%2C%20-73.94731%5D%2C%20%5B40.74008%2C%20-74.00271%5D%2C%20%5B40.68413%2C%20-73.92357%5D%2C%20%5B40.82279%2C%20-73.95139%5D%2C%20%5B40.67967%2C%20-74.00154%5D%2C%20%5B40.83927%2C%20-73.94281%5D%2C%20%5B40.73096%2C%20-74.00319%5D%2C%20%5B40.71332%2C%20-73.94177%5D%2C%20%5B40.66941%2C%20-73.98109%5D%2C%20%5B40.68373%2C%20-73.92377%5D%2C%20%5B40.71459%2C%20-73.94844%5D%2C%20%5B40.8092%2C%20-73.94421%5D%2C%20%5B40.68157%2C%20-73.98989%5D%2C%20%5B40.75527%2C%20-73.99291%5D%2C%20%5B40.68698%2C%20-73.96572%5D%2C%20%5B40.7288%2C%20-73.98192%5D%2C%20%5B40.66853%2C%20-73.98912%5D%2C%20%5B40.7254%2C%20-73.98157%5D%2C%20%5B40.74294%2C%20-73.98009%5D%2C%20%5B40.71942%2C%20-73.95748%5D%2C%20%5B40.77823%2C%20-73.97637%5D%2C%20%5B40.72555%2C%20-73.97965%5D%2C%20%5B40.66831%2C%20-73.98604%5D%2C%20%5B40.82754%2C%20-73.94919%5D%2C%20%5B40.66499%2C%20-73.97925%5D%2C%20%5B40.77842%2C%20-73.97556%5D%2C%20%5B40.72245%2C%20-73.98527%5D%2C%20%5B40.65593%2C%20-73.96053%5D%2C%20%5B40.71923%2C%20-73.96468%5D%2C%20%5B40.778%2C%20-73.94822%5D%2C%20%5B40.85879%2C%20-73.93128%5D%2C%20%5B40.68332%2C%20-73.9547%5D%2C%20%5B40.81618%2C%20-73.94894%5D%2C%20%5B40.68414%2C%20-73.96351%5D%2C%20%5B40.72392%2C%20-73.99143%5D%2C%20%5B40.73494%2C%20-73.9503%5D%2C%20%5B40.71341%2C%20-73.98856%5D%2C%20%5B40.76754%2C%20-73.98399%5D%2C%20%5B40.73442%2C%20-74.00303%5D%2C%20%5B40.63188%2C%20-73.93248%5D%2C%20%5B40.6873%2C%20-73.9634%5D%2C%20%5B40.68296%2C%20-73.93662%5D%2C%20%5B40.6863%2C%20-73.96765%5D%2C%20%5B40.73409%2C%20-73.95348%5D%2C%20%5B40.71561%2C%20-73.94835%5D%2C%20%5B40.6857%2C%20-73.99183%5D%2C%20%5B40.74028%2C%20-73.83168%5D%2C%20%5B40.68281%2C%20-73.93524%5D%2C%20%5B40.71596%2C%20-73.93938%5D%2C%20%5B40.71492%2C%20-73.95935%5D%2C%20%5B40.72354%2C%20-73.98295%5D%2C%20%5B40.71165%2C%20-73.96087%5D%2C%20%5B40.69101%2C%20-73.97312%5D%2C%20%5B40.73474%2C%20-74.00101%5D%2C%20%5B40.67386%2C%20-73.96641%5D%2C%20%5B40.71536%2C%20-73.96057%5D%2C%20%5B40.6741%2C%20-73.96595%5D%2C%20%5B40.79295%2C%20-73.93997%5D%2C%20%5B40.73226%2C%20-74.00401%5D%2C%20%5B40.71363%2C%20-73.96398%5D%2C%20%5B40.77711%2C%20-73.9527%5D%2C%20%5B40.68559%2C%20-73.98094%5D%2C%20%5B40.77456%2C%20-73.95323%5D%2C%20%5B40.71088%2C%20-73.95055%5D%2C%20%5B40.74559%2C%20-73.92313%5D%2C%20%5B40.68306%2C%20-73.94659%5D%2C%20%5B40.70207%2C%20-73.98571%5D%2C%20%5B40.76123%2C%20-73.9642%5D%2C%20%5B40.66858%2C%20-73.99083%5D%2C%20%5B40.82704%2C%20-73.94907%5D%2C%20%5B40.68843%2C%20-73.96408%5D%2C%20%5B40.6783%2C%20-74.00135%5D%2C%20%5B40.64524%2C%20-74.08088%5D%2C%20%5B40.70641%2C%20-73.91765%5D%2C%20%5B40.83232%2C%20-73.93184%5D%2C%20%5B40.71045%2C%20-73.9677%5D%2C%20%5B40.72518%2C%20-73.98034%5D%2C%20%5B40.70666%2C%20-74.01374%5D%2C%20%5B40.69098%2C%20-73.97113%5D%2C%20%5B40.73756%2C%20-74.00405%5D%2C%20%5B40.81526%2C%20-73.94791%5D%2C%20%5B40.73423%2C%20-74.0046%5D%2C%20%5B40.82374%2C%20-73.9373%5D%2C%20%5B40.68863%2C%20-73.97691%5D%2C%20%5B40.70382%2C%20-73.89797%5D%2C%20%5B40.80549%2C%20-73.95924%5D%2C%20%5B40.71627%2C%20-73.9587%5D%2C%20%5B40.67994%2C%20-73.97863%5D%2C%20%5B40.67992%2C%20-73.9475%5D%2C%20%5B40.67868%2C%20-73.97307%5D%2C%20%5B40.76834%2C%20-73.95334%5D%2C%20%5B40.68237%2C%20-73.9415%5D%2C%20%5B40.74031%2C%20-73.99999%5D%2C%20%5B40.76307%2C%20-73.99665%5D%2C%20%5B40.71882%2C%20-73.98852%5D%2C%20%5B40.6693%2C%20-73.98804%5D%2C%20%5B40.77333%2C%20-73.95199%5D%2C%20%5B40.72319%2C%20-73.99201%5D%2C%20%5B40.74859%2C%20-73.99671%5D%2C%20%5B40.67252%2C%20-73.76597%5D%2C%20%5B40.76244%2C%20-73.99271%5D%2C%20%5B40.69546%2C%20-73.93503%5D%2C%20%5B40.71722%2C%20-73.87856%5D%2C%20%5B40.70234%2C%20-73.89816%5D%2C%20%5B40.71546%2C%20-73.87854%5D%2C%20%5B40.7195%2C%20-73.95976%5D%2C%20%5B40.76548%2C%20-73.98474%5D%2C%20%5B40.80234%2C%20-73.95603%5D%2C%20%5B40.6787%2C%20-73.97262%5D%2C%20%5B40.81035%2C%20-73.94598%5D%2C%20%5B40.83075%2C%20-73.93058%5D%2C%20%5B40.79958%2C%20-73.94275%5D%2C%20%5B40.71625%2C%20-73.93845%5D%2C%20%5B40.6829%2C%20-73.93549%5D%2C%20%5B40.72773%2C%20-73.99134%5D%2C%20%5B40.72861%2C%20-74.0049%5D%2C%20%5B40.70979%2C%20-73.95162%5D%2C%20%5B40.68656%2C%20-73.97525%5D%2C%20%5B40.72752%2C%20-73.98432%5D%2C%20%5B40.729%2C%20-73.95829%5D%2C%20%5B40.81219%2C%20-73.94499%5D%2C%20%5B40.77185%2C%20-73.90502%5D%2C%20%5B40.68926%2C%20-73.99386%5D%2C%20%5B40.72821%2C%20-73.98701%5D%2C%20%5B40.7672%2C%20-73.98508%5D%2C%20%5B40.73012%2C%20-73.99053%5D%2C%20%5B40.7403%2C%20-73.98498%5D%2C%20%5B40.80931%2C%20-73.94343%5D%2C%20%5B40.8251%2C%20-73.94287%5D%2C%20%5B40.6585%2C%20-73.98397%5D%2C%20%5B40.76193%2C%20-73.9501%5D%2C%20%5B40.72052%2C%20-73.98589%5D%2C%20%5B40.70411%2C%20-73.89934%5D%2C%20%5B40.73401%2C%20-73.95967%5D%2C%20%5B40.71756%2C%20-73.99503%5D%2C%20%5B40.7589%2C%20-73.96991%5D%2C%20%5B40.72003%2C%20-74.00262%5D%2C%20%5B40.73194%2C%20-73.99474%5D%2C%20%5B40.79163%2C%20-73.94573%5D%2C%20%5B40.8118%2C%20-73.94434%5D%2C%20%5B40.81583%2C%20-73.94707%5D%2C%20%5B40.72654%2C%20-73.98049%5D%2C%20%5B40.80021%2C%20-73.96071%5D%2C%20%5B40.80942%2C%20-73.93936%5D%2C%20%5B40.71961%2C%20-73.9954%5D%2C%20%5B40.74358%2C%20-74.00027%5D%2C%20%5B40.80335%2C%20-73.9575%5D%2C%20%5B40.71445%2C%20-73.9908%5D%2C%20%5B40.75749%2C%20-73.96897%5D%2C%20%5B40.64446%2C%20-73.9503%5D%2C%20%5B40.7268%2C%20-73.99079%5D%2C%20%5B40.688%2C%20-73.9171%5D%2C%20%5B40.63536%2C%20-74.08537%5D%2C%20%5B40.63627%2C%20-74.08543%5D%2C%20%5B40.63518%2C%20-74.08546%5D%2C%20%5B40.72477%2C%20-73.98161%5D%2C%20%5B40.74238%2C%20-73.99567%5D%2C%20%5B40.72945%2C%20-73.95511%5D%2C%20%5B40.70763%2C%20-73.95177%5D%2C%20%5B40.63481%2C%20-74.08519%5D%2C%20%5B40.75384%2C%20-73.91433%5D%2C%20%5B40.64106%2C%20-73.97426%5D%2C%20%5B40.66793%2C%20-73.98327%5D%2C%20%5B40.81309%2C%20-73.85514%5D%2C%20%5B40.88057%2C%20-73.83572%5D%2C%20%5B40.68236%2C%20-73.94314%5D%2C%20%5B40.72185%2C%20-73.98246%5D%2C%20%5B40.68503%2C%20-73.95385%5D%2C%20%5B40.86648%2C%20-73.9263%5D%2C%20%5B40.7069%2C%20-73.95467%5D%2C%20%5B40.72807%2C%20-73.98594%5D%2C%20%5B40.6778%2C%20-73.94339%5D%2C%20%5B40.68317%2C%20-73.94701%5D%2C%20%5B40.6761%2C%20-73.9529%5D%2C%20%5B40.67586%2C%20-73.95155%5D%2C%20%5B40.71702%2C%20-73.99811%5D%2C%20%5B40.72321%2C%20-73.98157%5D%2C%20%5B40.77956%2C%20-73.98098%5D%2C%20%5B40.68276%2C%20-73.95264%5D%2C%20%5B40.71368%2C%20-73.9626%5D%2C%20%5B40.72956%2C%20-73.98158%5D%2C%20%5B40.71069%2C%20-73.95175%5D%2C%20%5B40.70863%2C%20-73.94641%5D%2C%20%5B40.82888%2C%20-73.94307%5D%2C%20%5B40.67319%2C%20-73.97323%5D%2C%20%5B40.67846%2C%20-73.99443%5D%2C%20%5B40.6715%2C%20-73.94808%5D%2C%20%5B40.72681%2C%20-73.98534%5D%2C%20%5B40.71904%2C%20-73.99392%5D%2C%20%5B40.71031%2C%20-73.9583%5D%2C%20%5B40.81322%2C%20-73.95306%5D%2C%20%5B40.67732%2C%20-73.98225%5D%2C%20%5B40.68076%2C%20-73.9896%5D%2C%20%5B40.79603%2C%20-73.94903%5D%2C%20%5B40.71492%2C%20-73.96282%5D%2C%20%5B40.80393%2C%20-73.95838%5D%2C%20%5B40.80082%2C%20-73.9652%5D%2C%20%5B40.82976%2C%20-73.94867%5D%2C%20%5B40.683%2C%20-73.91981%5D%2C%20%5B40.78971%2C%20-73.9729%5D%2C%20%5B40.67817%2C%20-73.99495%5D%2C%20%5B40.73119%2C%20-73.95578%5D%2C%20%5B40.71943%2C%20-73.99627%5D%2C%20%5B40.78%2C%20-73.98249%5D%2C%20%5B40.70514%2C%20-73.91922%5D%2C%20%5B40.86713%2C%20-73.92811%5D%2C%20%5B40.73198%2C%20-73.98881%5D%2C%20%5B40.72542%2C%20-73.97986%5D%2C%20%5B40.83494%2C%20-73.93869%5D%2C%20%5B40.71659%2C%20-73.98945%5D%2C%20%5B40.72966%2C%20-74.00243%5D%2C%20%5B40.72898%2C%20-73.95552%5D%2C%20%5B40.87207%2C%20-73.90193%5D%2C%20%5B40.77728%2C%20-73.97818%5D%2C%20%5B40.72646%2C%20-73.95341%5D%2C%20%5B40.71015%2C%20-73.96101%5D%2C%20%5B40.71903%2C%20-73.9597%5D%2C%20%5B40.80892%2C%20-73.93985%5D%2C%20%5B40.80276%2C%20-73.9567%5D%2C%20%5B40.77635%2C%20-73.93426%5D%2C%20%5B40.72488%2C%20-73.95018%5D%2C%20%5B40.71398%2C%20-73.95763%5D%2C%20%5B40.71876%2C%20-73.98394%5D%2C%20%5B40.66552%2C%20-73.99019%5D%2C%20%5B40.73749%2C%20-73.95292%5D%2C%20%5B40.76248%2C%20-73.9913%5D%2C%20%5B40.68674%2C%20-73.98876%5D%2C%20%5B40.6848%2C%20-73.96219%5D%2C%20%5B40.70516%2C%20-73.95455%5D%2C%20%5B40.72329%2C%20-73.98486%5D%2C%20%5B40.73776%2C%20-73.95327%5D%2C%20%5B40.73738%2C%20-73.95482%5D%2C%20%5B40.67542%2C%20-73.98142%5D%2C%20%5B40.73842%2C%20-73.95312%5D%2C%20%5B40.6926%2C%20-73.99832%5D%2C%20%5B40.69441%2C%20-73.99771%5D%2C%20%5B40.72399%2C%20-73.98374%5D%2C%20%5B40.6824%2C%20-73.94615%5D%2C%20%5B40.68949%2C%20-73.91708%5D%2C%20%5B40.68819%2C%20-73.97258%5D%2C%20%5B40.7205%2C%20-73.96015%5D%2C%20%5B40.72451%2C%20-73.98094%5D%2C%20%5B40.73813%2C%20-73.95394%5D%2C%20%5B40.67591%2C%20-73.94715%5D%2C%20%5B40.72843%2C%20-73.98895%5D%2C%20%5B40.71271%2C%20-73.99776%5D%2C%20%5B40.66966%2C%20-73.94735%5D%2C%20%5B40.71965%2C%20-73.98766%5D%2C%20%5B40.68613%2C%20-73.96536%5D%2C%20%5B40.68048%2C%20-73.94911%5D%2C%20%5B40.68314%2C%20-73.93963%5D%2C%20%5B40.75961%2C%20-73.91117%5D%2C%20%5B40.67473%2C%20-73.94494%5D%2C%20%5B40.69305%2C%20-73.93185%5D%2C%20%5B40.67174%2C%20-73.95663%5D%2C%20%5B40.71055%2C%20-73.95098%5D%2C%20%5B40.69465%2C%20-73.95458%5D%2C%20%5B40.68413%2C%20-73.96542%5D%2C%20%5B40.73877%2C%20-73.97707%5D%2C%20%5B40.74893%2C%20-73.99544%5D%2C%20%5B40.79406%2C%20-73.94102%5D%2C%20%5B40.68795%2C%20-73.97332%5D%2C%20%5B40.85295%2C%20-73.93361%5D%2C%20%5B40.72413%2C%20-73.76133%5D%2C%20%5B40.66918%2C%20-73.99187%5D%2C%20%5B40.71125%2C%20-73.95613%5D%2C%20%5B40.78558%2C%20-73.9696%5D%2C%20%5B40.71577%2C%20-73.96053%5D%2C%20%5B40.73861%2C%20-73.95485%5D%2C%20%5B40.72577%2C%20-73.98745%5D%2C%20%5B40.58615%2C%20-73.81245%5D%2C%20%5B40.67086%2C%20-73.94872%5D%2C%20%5B40.82773%2C%20-73.95231%5D%2C%20%5B40.68505%2C%20-73.95684%5D%2C%20%5B40.72911%2C%20-73.95493%5D%2C%20%5B40.77944%2C%20-73.98567%5D%2C%20%5B40.74503%2C%20-73.98876%5D%2C%20%5B40.67539%2C%20-73.96093%5D%2C%20%5B40.8054%2C%20-73.95189%5D%2C%20%5B40.78491%2C%20-73.9508%5D%2C%20%5B40.69088%2C%20-73.97307%5D%2C%20%5B40.67555%2C%20-73.95057%5D%2C%20%5B40.75835%2C%20-73.99193%5D%2C%20%5B40.66527%2C%20-73.9886%5D%2C%20%5B40.71895%2C%20-73.99434%5D%2C%20%5B40.75579%2C%20-73.96699%5D%2C%20%5B40.82399%2C%20-73.95328%5D%2C%20%5B40.81822%2C%20-73.94095%5D%2C%20%5B40.76434%2C%20-73.92132%5D%2C%20%5B40.67705%2C%20-73.94925%5D%2C%20%5B40.69263%2C%20-73.99438%5D%2C%20%5B40.68448%2C%20-73.92747%5D%2C%20%5B40.74412%2C%20-74.00208%5D%2C%20%5B40.73067%2C%20-73.98702%5D%2C%20%5B40.70665%2C%20-73.94061%5D%2C%20%5B40.72063%2C%20-73.95952%5D%2C%20%5B40.67644%2C%20-73.98082%5D%2C%20%5B40.80481%2C%20-73.94794%5D%2C%20%5B40.72533%2C%20-73.99143%5D%2C%20%5B40.68569%2C%20-73.93038%5D%2C%20%5B40.64302%2C%20-73.97255%5D%2C%20%5B40.72939%2C%20-73.98857%5D%2C%20%5B40.79918%2C%20-73.96607%5D%2C%20%5B40.66862%2C%20-73.9926%5D%2C%20%5B40.81333%2C%20-73.94453%5D%2C%20%5B40.72473%2C%20-73.95199%5D%2C%20%5B40.70925%2C%20-73.85262%5D%2C%20%5B40.73215%2C%20-74.00922%5D%2C%20%5B40.71109%2C%20-73.94332%5D%2C%20%5B40.7463%2C%20-73.97926%5D%2C%20%5B40.71823%2C%20-73.95849%5D%2C%20%5B40.651%2C%20-73.94886%5D%2C%20%5B40.68626%2C%20-73.97598%5D%2C%20%5B40.74488%2C%20-74.001%5D%2C%20%5B40.67632%2C%20-73.97616%5D%2C%20%5B40.72212%2C%20-73.94254%5D%2C%20%5B40.67456%2C%20-73.95151%5D%2C%20%5B40.71363%2C%20-73.96019%5D%2C%20%5B40.6755%2C%20-73.95878%5D%2C%20%5B40.72274%2C%20-73.97581%5D%2C%20%5B40.6858%2C%20-73.9828%5D%2C%20%5B40.67535%2C%20-73.97654%5D%2C%20%5B40.72255%2C%20-73.99346%5D%2C%20%5B40.72094%2C%20-73.99706%5D%2C%20%5B40.72485%2C%20-73.97813%5D%2C%20%5B40.80473%2C%20-73.9532%5D%2C%20%5B40.72217%2C%20-73.98419%5D%2C%20%5B40.71943%2C%20-73.9565%5D%2C%20%5B40.74249%2C%20-74.00329%5D%2C%20%5B40.79264%2C%20-73.97294%5D%2C%20%5B40.65749%2C%20-73.97675%5D%2C%20%5B40.80474%2C%20-73.94688%5D%2C%20%5B40.72831%2C%20-74.00177%5D%2C%20%5B40.71541%2C%20-73.94144%5D%2C%20%5B40.79765%2C%20-73.96245%5D%2C%20%5B40.78508%2C%20-73.95332%5D%2C%20%5B40.89747%2C%20-73.8639%5D%2C%20%5B40.72008%2C%20-73.98404%5D%2C%20%5B40.75725%2C%20-73.91098%5D%2C%20%5B40.7102%2C%20-73.94495%5D%2C%20%5B40.67359%2C%20-73.97904%5D%2C%20%5B40.72674%2C%20-73.9782%5D%2C%20%5B40.81156%2C%20-73.94571%5D%2C%20%5B40.80497%2C%20-73.95016%5D%2C%20%5B40.7385%2C%20-73.91806%5D%2C%20%5B40.72937%2C%20-73.95671%5D%2C%20%5B40.72587%2C%20-73.98438%5D%2C%20%5B40.82426%2C%20-73.9463%5D%2C%20%5B40.71624%2C%20-73.96272%5D%2C%20%5B40.68101%2C%20-73.94081%5D%2C%20%5B40.68669%2C%20-73.91989%5D%2C%20%5B40.71534%2C%20-73.95914%5D%2C%20%5B40.68288%2C%20-73.96024%5D%2C%20%5B40.72489%2C%20-73.95494%5D%2C%20%5B40.70867%2C%20-73.94284%5D%2C%20%5B40.67963%2C%20-73.93908%5D%2C%20%5B40.6798%2C%20-73.93908%5D%2C%20%5B40.74346%2C%20-73.99882%5D%2C%20%5B40.77724%2C%20-73.98109%5D%2C%20%5B40.72972%2C%20-73.97995%5D%2C%20%5B40.74102%2C%20-73.91681%5D%2C%20%5B40.71309%2C%20-73.94128%5D%2C%20%5B40.83096%2C%20-73.94633%5D%2C%20%5B40.71323%2C%20-73.95745%5D%2C%20%5B40.67212%2C%20-73.9506%5D%2C%20%5B40.71023%2C%20-73.96665%5D%2C%20%5B40.80523%2C%20-73.95139%5D%2C%20%5B40.72636%2C%20-73.98917%5D%2C%20%5B40.72185%2C%20-73.93956%5D%2C%20%5B40.72351%2C%20-73.99683%5D%2C%20%5B40.6809%2C%20-73.99233%5D%2C%20%5B40.80525%2C%20-73.95916%5D%2C%20%5B40.74%2C%20-73.91901%5D%2C%20%5B40.80006%2C%20-73.96049%5D%2C%20%5B40.70283%2C%20-73.92131%5D%2C%20%5B40.84468%2C%20-73.94303%5D%2C%20%5B40.68252%2C%20-73.99619%5D%2C%20%5B40.74342%2C%20-73.99483%5D%2C%20%5B40.67853%2C%20-73.98089%5D%2C%20%5B40.6788%2C%20-73.97643%5D%2C%20%5B40.77886%2C%20-73.98042%5D%2C%20%5B40.72578%2C%20-73.97879%5D%2C%20%5B40.66085%2C%20-73.98537%5D%2C%20%5B40.80113%2C%20-73.94503%5D%2C%20%5B40.78569%2C%20-73.97581%5D%2C%20%5B40.82411%2C%20-73.94934%5D%2C%20%5B40.68131%2C%20-73.95332%5D%2C%20%5B40.85811%2C%20-73.90675%5D%2C%20%5B40.70667%2C%20-73.96524%5D%2C%20%5B40.60452%2C%20-73.97103%5D%2C%20%5B40.7932%2C%20-73.94007%5D%2C%20%5B40.68768%2C%20-73.97611%5D%2C%20%5B40.80224%2C%20-73.94558%5D%2C%20%5B40.71473%2C%20-73.98842%5D%2C%20%5B40.80518%2C%20-73.95359%5D%2C%20%5B40.80827%2C%20-73.95329%5D%2C%20%5B40.72901%2C%20-73.95812%5D%2C%20%5B40.73476%2C%20-73.98452%5D%2C%20%5B40.69055%2C%20-73.92357%5D%2C%20%5B40.7735%2C%20-73.98697%5D%2C%20%5B40.67505%2C%20-73.95969%5D%2C%20%5B40.72974%2C%20-73.98201%5D%2C%20%5B40.70925%2C%20-73.95425%5D%2C%20%5B40.72315%2C%20-73.95226%5D%2C%20%5B40.73939%2C%20-73.99612%5D%2C%20%5B40.74112%2C%20-73.97686%5D%2C%20%5B40.72019%2C%20-73.98217%5D%2C%20%5B40.72133%2C%20-73.99666%5D%2C%20%5B40.75744%2C%20-73.92163%5D%2C%20%5B40.75695%2C%20-73.9202%5D%2C%20%5B40.8296%2C%20-73.94651%5D%2C%20%5B40.79056%2C%20-73.9468%5D%2C%20%5B40.73631%2C%20-73.99977%5D%2C%20%5B40.86466%2C%20-73.85709%5D%2C%20%5B40.71312%2C%20-73.96199%5D%2C%20%5B40.71297%2C%20-73.94336%5D%2C%20%5B40.73712%2C%20-74.00166%5D%2C%20%5B40.69242%2C%20-73.95097%5D%2C%20%5B40.73862%2C%20-73.99758%5D%2C%20%5B40.7158%2C%20-73.95803%5D%2C%20%5B40.68262%2C%20-73.97299%5D%2C%20%5B40.73217%2C%20-73.98801%5D%2C%20%5B40.76311%2C%20-73.99388%5D%2C%20%5B40.74695%2C%20-74.00454%5D%2C%20%5B40.67497%2C%20-73.87305%5D%2C%20%5B40.66788%2C%20-73.94813%5D%2C%20%5B40.76684%2C%20-73.95944%5D%2C%20%5B40.68967%2C%20-73.95445%5D%2C%20%5B40.67946%2C%20-73.96501%5D%2C%20%5B40.66944%2C%20-73.98083%5D%2C%20%5B40.72566%2C%20-73.97748%5D%2C%20%5B40.7709%2C%20-73.99181%5D%2C%20%5B40.71943%2C%20-73.95958%5D%2C%20%5B40.74249%2C%20-73.92466%5D%2C%20%5B40.74033%2C%20-74.00024%5D%2C%20%5B40.7969%2C%20-73.96128%5D%2C%20%5B40.83403%2C%20-73.94553%5D%2C%20%5B40.65513%2C%20-73.95641%5D%2C%20%5B40.65589%2C%20-73.95539%5D%2C%20%5B40.70275%2C%20-73.94501%5D%2C%20%5B40.68897%2C%20-73.93569%5D%2C%20%5B40.67617%2C%20-73.98136%5D%2C%20%5B40.67595%2C%20-73.98053%5D%2C%20%5B40.76415%2C%20-73.99067%5D%2C%20%5B40.83127%2C%20-73.94718%5D%2C%20%5B40.68497%2C%20-73.95592%5D%2C%20%5B40.82922%2C%20-73.94174%5D%2C%20%5B40.71137%2C%20-73.94362%5D%2C%20%5B40.76739%2C%20-73.9557%5D%2C%20%5B40.73089%2C%20-73.98195%5D%2C%20%5B40.6755%2C%20-73.97859%5D%2C%20%5B40.68812%2C%20-73.94934%5D%2C%20%5B40.7694%2C%20-73.9572%5D%2C%20%5B40.68634%2C%20-73.96161%5D%2C%20%5B40.7093%2C%20-73.9497%5D%2C%20%5B40.713%2C%20-73.99752%5D%2C%20%5B40.75895%2C%20-73.9883%5D%2C%20%5B40.68186%2C%20-73.94113%5D%2C%20%5B40.68364%2C%20-73.91076%5D%2C%20%5B40.71893%2C%20-73.9428%5D%2C%20%5B40.82802%2C%20-73.92039%5D%2C%20%5B40.68765%2C%20-73.97073%5D%2C%20%5B40.71413%2C%20-73.96596%5D%2C%20%5B40.58422%2C%20-73.94079%5D%2C%20%5B40.71973%2C%20-73.95582%5D%2C%20%5B40.69025%2C%20-73.93323%5D%2C%20%5B40.73826%2C%20-73.92458%5D%2C%20%5B40.73049%2C%20-73.96115%5D%2C%20%5B40.72956%2C%20-73.97903%5D%2C%20%5B40.73854%2C%20-74.00821%5D%2C%20%5B40.75877%2C%20-73.98863%5D%2C%20%5B40.67688%2C%20-73.9859%5D%2C%20%5B40.70051%2C%20-73.92204%5D%2C%20%5B40.71712%2C%20-73.98898%5D%2C%20%5B40.60742%2C%20-74.14388%5D%2C%20%5B40.68741%2C%20-73.95741%5D%2C%20%5B40.75627%2C%20-73.9211%5D%2C%20%5B40.79816%2C%20-73.9619%5D%2C%20%5B40.61927%2C%20-74.0307%5D%2C%20%5B40.8078%2C%20-73.95208%5D%2C%20%5B40.61922%2C%20-73.99399%5D%2C%20%5B40.68275%2C%20-73.96148%5D%2C%20%5B40.71813%2C%20-73.98416%5D%2C%20%5B40.71892%2C%20-73.98401%5D%2C%20%5B40.816%2C%20-73.95545%5D%2C%20%5B40.82748%2C%20-73.95153%5D%2C%20%5B40.68634%2C%20-73.95088%5D%2C%20%5B40.72229%2C%20-73.97901%5D%2C%20%5B40.72956%2C%20-73.99287%5D%2C%20%5B40.72595%2C%20-73.95298%5D%2C%20%5B40.71193%2C%20-74.00817%5D%2C%20%5B40.68012%2C%20-73.97847%5D%2C%20%5B40.74233%2C%20-73.99865%5D%2C%20%5B40.67424%2C%20-73.96665%5D%2C%20%5B40.80486%2C%20-73.95298%5D%2C%20%5B40.80307%2C%20-73.95048%5D%2C%20%5B40.68653%2C%20-73.98562%5D%2C%20%5B40.74267%2C%20-73.98569%5D%2C%20%5B40.68749%2C%20-73.95494%5D%2C%20%5B40.68645%2C%20-73.97538%5D%2C%20%5B40.68999%2C%20-73.96711%5D%2C%20%5B40.61077%2C%20-74.06824%5D%2C%20%5B40.71126%2C%20-73.94576%5D%2C%20%5B40.67855%2C%20-73.94949%5D%2C%20%5B40.72416%2C%20-73.9853%5D%2C%20%5B40.68516%2C%20-73.92521%5D%2C%20%5B40.73507%2C%20-74.00048%5D%2C%20%5B40.71611%2C%20-73.99828%5D%2C%20%5B40.67964%2C%20-73.93946%5D%2C%20%5B40.76189%2C%20-73.99%5D%2C%20%5B40.72645%2C%20-73.98035%5D%2C%20%5B40.66293%2C%20-73.99833%5D%2C%20%5B40.69046%2C%20-73.95167%5D%2C%20%5B40.83001%2C%20-73.92158%5D%2C%20%5B40.79239%2C%20-73.94535%5D%2C%20%5B40.72709%2C%20-73.98274%5D%2C%20%5B40.72599%2C%20-74.00168%5D%2C%20%5B40.68309%2C%20-73.94219%5D%2C%20%5B40.79442%2C%20-73.93433%5D%2C%20%5B40.76166%2C%20-73.99675%5D%2C%20%5B40.70163%2C%20-73.90867%5D%2C%20%5B40.75575%2C%20-73.96842%5D%2C%20%5B40.80903%2C%20-73.94197%5D%2C%20%5B40.74581%2C%20-73.95295%5D%2C%20%5B40.66414%2C%20-73.98574%5D%2C%20%5B40.74%2C%20-74.00381%5D%2C%20%5B40.75348%2C%20-73.97065%5D%2C%20%5B40.72066%2C%20-73.98506%5D%2C%20%5B40.71746%2C%20-73.95497%5D%2C%20%5B40.70257%2C%20-73.9847%5D%2C%20%5B40.72264%2C%20-73.9837%5D%2C%20%5B40.73833%2C%20-73.98186%5D%2C%20%5B40.73268%2C%20-73.99255%5D%2C%20%5B40.71892%2C%20-73.99628%5D%2C%20%5B40.77679%2C%20-73.91687%5D%2C%20%5B40.71693%2C%20-73.98948%5D%2C%20%5B40.73685%2C%20-73.98359%5D%2C%20%5B40.68501%2C%20-73.97019%5D%2C%20%5B40.66068%2C%20-73.96003%5D%2C%20%5B40.67722%2C%20-73.96542%5D%2C%20%5B40.68975%2C%20-73.96703%5D%2C%20%5B40.69221%2C%20-73.95866%5D%2C%20%5B40.72969%2C%20-74.00635%5D%2C%20%5B40.6893%2C%20-73.96602%5D%2C%20%5B40.70832%2C%20-73.94157%5D%2C%20%5B40.68016%2C%20-73.94878%5D%2C%20%5B40.70875%2C%20-73.95508%5D%2C%20%5B40.85888%2C%20-73.92886%5D%2C%20%5B40.8679%2C%20-73.90023%5D%2C%20%5B40.6889%2C%20-73.95383%5D%2C%20%5B40.75127%2C%20-73.99637%5D%2C%20%5B40.67607%2C%20-73.94421%5D%2C%20%5B40.73834%2C%20-73.9823%5D%2C%20%5B40.7347%2C%20-73.88066%5D%2C%20%5B40.71876%2C%20-73.98851%5D%2C%20%5B40.73787%2C%20-73.95385%5D%2C%20%5B40.73066%2C%20-74.00287%5D%2C%20%5B40.73291%2C%20-74.00059%5D%2C%20%5B40.85099%2C%20-73.92822%5D%2C%20%5B40.68707%2C%20-73.91918%5D%2C%20%5B40.7184%2C%20-73.96019%5D%2C%20%5B40.67495%2C%20-73.95563%5D%2C%20%5B40.71582%2C%20-73.99902%5D%2C%20%5B40.81068%2C%20-73.94288%5D%2C%20%5B40.81122%2C%20-73.94279%5D%2C%20%5B40.73129%2C%20-73.99944%5D%2C%20%5B40.71628%2C%20-73.95737%5D%2C%20%5B40.78558%2C%20-73.9726%5D%2C%20%5B40.7146%2C%20-73.991%5D%2C%20%5B40.79493%2C%20-73.94462%5D%2C%20%5B40.6623%2C%20-73.99049%5D%2C%20%5B40.73693%2C%20-73.95284%5D%2C%20%5B40.73641%2C%20-73.9533%5D%2C%20%5B40.73794%2C%20-73.95254%5D%2C%20%5B40.58147%2C%20-73.96726%5D%2C%20%5B40.79771%2C%20-73.96323%5D%2C%20%5B40.81512%2C%20-73.94692%5D%2C%20%5B40.7373%2C%20-73.95323%5D%2C%20%5B40.73708%2C%20-73.95271%5D%2C%20%5B40.73652%2C%20-73.95236%5D%2C%20%5B40.73693%2C%20-73.95316%5D%2C%20%5B40.73784%2C%20-73.95324%5D%2C%20%5B40.73674%2C%20-73.95247%5D%2C%20%5B40.73783%2C%20-73.95259%5D%2C%20%5B40.73714%2C%20-73.95296%5D%2C%20%5B40.73731%2C%20-73.9545%5D%2C%20%5B40.74965%2C%20-73.89344%5D%2C%20%5B40.73793%2C%20-73.95316%5D%2C%20%5B40.68197%2C%20-73.96549%5D%2C%20%5B40.70271%2C%20-73.91566%5D%2C%20%5B40.7116%2C%20-73.9529%5D%2C%20%5B40.69241%2C%20-73.94885%5D%2C%20%5B40.72004%2C%20-73.99424%5D%2C%20%5B40.74511%2C%20-73.92398%5D%2C%20%5B40.74599%2C%20-74.00253%5D%2C%20%5B40.68946%2C%20-73.99385%5D%2C%20%5B40.68226%2C%20-73.95473%5D%2C%20%5B40.67855%2C%20-73.8896%5D%2C%20%5B40.71408%2C%20-73.9489%5D%2C%20%5B40.68618%2C%20-73.96144%5D%2C%20%5B40.67379%2C%20-73.98454%5D%2C%20%5B40.70554%2C%20-73.76637%5D%2C%20%5B40.74031%2C%20-74.00532%5D%2C%20%5B40.74618%2C%20-74.00392%5D%2C%20%5B40.81872%2C%20-73.94567%5D%2C%20%5B40.59251%2C%20-74.06479%5D%2C%20%5B40.59101%2C%20-74.06685%5D%2C%20%5B40.59262%2C%20-74.06659%5D%2C%20%5B40.69142%2C%20-73.97203%5D%2C%20%5B40.76928%2C%20-73.95021%5D%2C%20%5B40.68338%2C%20-73.95289%5D%2C%20%5B40.72953%2C%20-74.00462%5D%2C%20%5B40.70523%2C%20-74.01345%5D%2C%20%5B40.74025%2C%20-74.00161%5D%2C%20%5B40.73378%2C%20-74.00429%5D%2C%20%5B40.72087%2C%20-73.99022%5D%2C%20%5B40.64468%2C%20-73.94219%5D%2C%20%5B40.7193%2C%20-73.98966%5D%2C%20%5B40.73312%2C%20-74.0042%5D%2C%20%5B40.69778%2C%20-73.97676%5D%2C%20%5B40.72534%2C%20-73.98591%5D%2C%20%5B40.82151%2C%20-73.94516%5D%2C%20%5B40.72059%2C%20-73.9567%5D%2C%20%5B40.74558%2C%20-73.92324%5D%2C%20%5B40.79433%2C%20-73.9765%5D%2C%20%5B40.81055%2C%20-73.95549%5D%2C%20%5B40.6711%2C%20-73.95231%5D%2C%20%5B40.67962%2C%20-73.88928%5D%2C%20%5B40.76217%2C%20-73.98411%5D%2C%20%5B40.76128%2C%20-73.96463%5D%2C%20%5B40.72313%2C%20-73.99438%5D%2C%20%5B40.7177%2C%20-73.95576%5D%2C%20%5B40.78448%2C%20-73.97289%5D%2C%20%5B40.78304%2C%20-73.97447%5D%2C%20%5B40.68737%2C%20-73.97125%5D%2C%20%5B40.74139%2C%20-74.0005%5D%2C%20%5B40.71992%2C%20-73.98773%5D%2C%20%5B40.71905%2C%20-73.99677%5D%2C%20%5B40.70741%2C%20-74.00102%5D%2C%20%5B40.73349%2C%20-73.86009%5D%2C%20%5B40.89557%2C%20-73.8447%5D%2C%20%5B40.64277%2C%20-73.97296%5D%2C%20%5B40.79111%2C%20-73.94466%5D%2C%20%5B40.79951%2C%20-73.95257%5D%2C%20%5B40.71647%2C%20-73.93974%5D%2C%20%5B40.75114%2C%20-74.00195%5D%2C%20%5B40.66431%2C%20-73.93216%5D%2C%20%5B40.74579%2C%20-73.95012%5D%2C%20%5B40.70278%2C%20-73.92673%5D%2C%20%5B40.74409%2C%20-73.91122%5D%2C%20%5B40.68812%2C%20-73.93254%5D%2C%20%5B40.72454%2C%20-73.99151%5D%2C%20%5B40.71073%2C%20-73.96207%5D%2C%20%5B40.71028%2C%20-73.96128%5D%2C%20%5B40.65772%2C%20-73.96131%5D%2C%20%5B40.68884%2C%20-73.95059%5D%2C%20%5B40.6865%2C%20-73.95372%5D%2C%20%5B40.75282%2C%20-73.97315%5D%2C%20%5B40.76373%2C%20-73.96897%5D%2C%20%5B40.73388%2C%20-73.99452%5D%2C%20%5B40.85774%2C%20-73.92901%5D%2C%20%5B40.72257%2C%20-73.98465%5D%2C%20%5B40.72723%2C%20-73.95728%5D%2C%20%5B40.69135%2C%20-73.97321%5D%2C%20%5B40.70513%2C%20-73.95505%5D%2C%20%5B40.73301%2C%20-74.00268%5D%2C%20%5B40.79793%2C%20-73.93612%5D%2C%20%5B40.80285%2C%20-73.95166%5D%2C%20%5B40.70642%2C%20-73.91665%5D%2C%20%5B40.68156%2C%20-73.96537%5D%2C%20%5B40.77368%2C%20-73.95198%5D%2C%20%5B40.68631%2C%20-73.93702%5D%2C%20%5B40.65992%2C%20-73.99042%5D%2C%20%5B40.67847%2C%20-73.97038%5D%2C%20%5B40.81371%2C%20-73.95585%5D%2C%20%5B40.72868%2C%20-73.95835%5D%2C%20%5B40.73168%2C%20-73.98662%5D%2C%20%5B40.65689%2C%20-73.9533%5D%2C%20%5B40.7928%2C%20-73.93967%5D%2C%20%5B40.77117%2C%20-73.91905%5D%2C%20%5B40.73729%2C%20-74.00807%5D%2C%20%5B40.66984%2C%20-73.95141%5D%2C%20%5B40.82977%2C%20-73.94071%5D%2C%20%5B40.68492%2C%20-73.95489%5D%2C%20%5B40.68255%2C%20-73.91957%5D%2C%20%5B40.67392%2C%20-73.94662%5D%2C%20%5B40.73879%2C%20-74.00425%5D%2C%20%5B40.73321%2C%20-73.95587%5D%2C%20%5B40.80671%2C%20-73.95082%5D%2C%20%5B40.6433%2C%20-73.97386%5D%2C%20%5B40.71601%2C%20-73.99123%5D%2C%20%5B40.68106%2C%20-73.9292%5D%2C%20%5B40.68131%2C%20-73.98879%5D%2C%20%5B40.67264%2C%20-73.98136%5D%2C%20%5B40.67889%2C%20-73.86404%5D%2C%20%5B40.7241%2C%20-73.97899%5D%2C%20%5B40.70766%2C%20-73.95191%5D%2C%20%5B40.71422%2C%20-73.9484%5D%2C%20%5B40.76001%2C%20-73.99133%5D%2C%20%5B40.66441%2C%20-73.97974%5D%2C%20%5B40.73362%2C%20-74.00923%5D%2C%20%5B40.73119%2C%20-73.98819%5D%2C%20%5B40.74494%2C%20-73.9998%5D%2C%20%5B40.69657%2C%20-73.9129%5D%2C%20%5B40.67106%2C%20-73.95463%5D%2C%20%5B40.80748%2C%20-73.95589%5D%2C%20%5B40.68991%2C%20-73.93179%5D%2C%20%5B40.76147%2C%20-73.99152%5D%2C%20%5B40.68174%2C%20-73.91921%5D%2C%20%5B40.68538%2C%20-74.00056%5D%2C%20%5B40.70839%2C%20-73.94289%5D%2C%20%5B40.69018%2C%20-73.98107%5D%2C%20%5B40.68128%2C%20-73.99522%5D%2C%20%5B40.72948%2C%20-73.98694%5D%2C%20%5B40.68353%2C%20-73.9914%5D%2C%20%5B40.72506%2C%20-73.98865%5D%2C%20%5B40.72891%2C%20-74.00293%5D%2C%20%5B40.7253%2C%20-73.99916%5D%2C%20%5B40.75295%2C%20-73.93228%5D%2C%20%5B40.71947%2C%20-73.95252%5D%2C%20%5B40.71283%2C%20-73.99703%5D%2C%20%5B40.77338%2C%20-73.98887%5D%2C%20%5B40.67385%2C%20-73.94405%5D%2C%20%5B40.76856%2C%20-73.91828%5D%2C%20%5B40.73908%2C%20-74.00378%5D%2C%20%5B40.7625%2C%20-73.9869%5D%2C%20%5B40.69755%2C%20-73.91187%5D%2C%20%5B40.67335%2C%20-73.96%5D%2C%20%5B40.80497%2C%20-73.95146%5D%2C%20%5B40.70736%2C%20-73.94331%5D%2C%20%5B40.73683%2C%20-73.9543%5D%2C%20%5B40.76444%2C%20-73.92607%5D%2C%20%5B40.7389%2C%20-73.95395%5D%2C%20%5B40.77611%2C%20-73.97808%5D%2C%20%5B40.73806%2C%20-73.95462%5D%2C%20%5B40.73661%2C%20-73.95479%5D%2C%20%5B40.73857%2C%20-73.95435%5D%2C%20%5B40.711%2C%20-73.96225%5D%2C%20%5B40.70686%2C%20-73.95365%5D%2C%20%5B40.73857%2C%20-73.95299%5D%2C%20%5B40.71095%2C%20-73.95239%5D%2C%20%5B40.70918%2C%20-73.94881%5D%2C%20%5B40.71685%2C%20-73.96573%5D%2C%20%5B40.7909%2C%20-73.96762%5D%2C%20%5B40.71143%2C%20-73.94159%5D%2C%20%5B40.737%2C%20-73.87444%5D%2C%20%5B40.66469%2C%20-73.96091%5D%2C%20%5B40.68855%2C%20-73.95405%5D%2C%20%5B40.71653%2C%20-73.95554%5D%2C%20%5B40.69309%2C%20-73.97074%5D%2C%20%5B40.70638%2C%20-73.96627%5D%2C%20%5B40.71629%2C%20-73.95786%5D%2C%20%5B40.68622%2C%20-73.94675%5D%2C%20%5B40.71635%2C%20-73.94609%5D%2C%20%5B40.77272%2C%20-73.95307%5D%2C%20%5B40.72509%2C%20-74.00304%5D%2C%20%5B40.66795%2C%20-73.89232%5D%2C%20%5B40.72582%2C%20-73.95843%5D%2C%20%5B40.80637%2C%20-73.95433%5D%2C%20%5B40.64387%2C%20-73.96855%5D%2C%20%5B40.7968%2C%20-73.93611%5D%2C%20%5B40.79596%2C%20-73.94463%5D%2C%20%5B40.78012%2C%20-73.98439%5D%2C%20%5B40.77508%2C%20-73.9799%5D%2C%20%5B40.71532%2C%20-73.96064%5D%2C%20%5B40.68786%2C%20-73.97421%5D%2C%20%5B40.70793%2C%20-73.91987%5D%2C%20%5B40.79044%2C%20-73.97513%5D%2C%20%5B40.72668%2C%20-73.95762%5D%2C%20%5B40.62318%2C%20-74.07848%5D%2C%20%5B40.82286%2C%20-73.94596%5D%2C%20%5B40.82451%2C%20-73.94457%5D%2C%20%5B40.69348%2C%20-73.95927%5D%2C%20%5B40.78443%2C%20-73.97399%5D%2C%20%5B40.67679%2C%20-73.95639%5D%2C%20%5B40.79107%2C%20-73.94381%5D%2C%20%5B40.70215%2C%20-73.91139%5D%2C%20%5B40.67339%2C%20-73.96519%5D%2C%20%5B40.72209%2C%20-73.99274%5D%2C%20%5B40.73171%2C%20-73.98717%5D%2C%20%5B40.69213%2C%20-73.951%5D%2C%20%5B40.73237%2C%20-74.00608%5D%2C%20%5B40.64354%2C%20-73.97777%5D%2C%20%5B40.80343%2C%20-73.9531%5D%2C%20%5B40.70462%2C%20-73.9228%5D%2C%20%5B40.71394%2C%20-73.96267%5D%2C%20%5B40.6339%2C%20-74.02035%5D%2C%20%5B40.73028%2C%20-73.95927%5D%2C%20%5B40.8076%2C%20-73.94433%5D%2C%20%5B40.66485%2C%20-73.98343%5D%2C%20%5B40.71279%2C%20-73.95852%5D%2C%20%5B40.73294%2C%20-73.98282%5D%2C%20%5B40.83456%2C%20-73.9457%5D%2C%20%5B40.72091%2C%20-73.95814%5D%2C%20%5B40.71819%2C%20-73.95414%5D%2C%20%5B40.73887%2C%20-74.00342%5D%2C%20%5B40.77892%2C%20-73.98238%5D%2C%20%5B40.71336%2C%20-73.96192%5D%2C%20%5B40.77688%2C%20-73.96177%5D%2C%20%5B40.71368%2C%20-73.94478%5D%2C%20%5B40.7761%2C%20-73.95265%5D%2C%20%5B40.77471%2C%20-73.95574%5D%2C%20%5B40.68625%2C%20-73.96446%5D%2C%20%5B40.725%2C%20-73.98851%5D%2C%20%5B40.74016%2C%20-73.97665%5D%2C%20%5B40.75023%2C%20-73.98293%5D%2C%20%5B40.78867%2C%20-73.96809%5D%2C%20%5B40.66604%2C%20-73.95914%5D%2C%20%5B40.63593%2C%20-73.96076%5D%2C%20%5B40.71638%2C%20-73.99167%5D%2C%20%5B40.86658%2C%20-73.92558%5D%2C%20%5B40.71179%2C%20-73.96449%5D%2C%20%5B40.76186%2C%20-73.99165%5D%2C%20%5B40.71417%2C%20-73.95917%5D%2C%20%5B40.82772%2C%20-73.93877%5D%2C%20%5B40.63602%2C%20-73.94607%5D%2C%20%5B40.63759%2C%20-73.9459%5D%2C%20%5B40.63611%2C%20-73.94637%5D%2C%20%5B40.803%2C%20-73.95278%5D%2C%20%5B40.79526%2C%20-73.9655%5D%2C%20%5B40.75763%2C%20-73.99482%5D%2C%20%5B40.77577%2C%20-73.98258%5D%2C%20%5B40.77631%2C%20-73.95289%5D%2C%20%5B40.76774%2C%20-73.9892%5D%2C%20%5B40.81169%2C%20-73.94355%5D%2C%20%5B40.75782%2C%20-73.99349%5D%2C%20%5B40.83177%2C%20-73.95%5D%2C%20%5B40.73104%2C%20-74.00879%5D%2C%20%5B40.74253%2C%20-73.9916%5D%2C%20%5B40.64372%2C%20-74.02066%5D%2C%20%5B40.72886%2C%20-74.00013%5D%2C%20%5B40.71868%2C%20-73.99017%5D%2C%20%5B40.72143%2C%20-73.98117%5D%2C%20%5B40.71682%2C%20-73.96369%5D%2C%20%5B40.67725%2C%20-73.9821%5D%2C%20%5B40.66888%2C%20-73.95292%5D%2C%20%5B40.67188%2C%20-73.97533%5D%2C%20%5B40.74964%2C%20-73.99158%5D%2C%20%5B40.65846%2C%20-73.95057%5D%2C%20%5B40.78164%2C%20-73.94717%5D%2C%20%5B40.71515%2C%20-73.99029%5D%2C%20%5B40.72986%2C%20-73.97913%5D%2C%20%5B40.66039%2C%20-73.95937%5D%2C%20%5B40.66898%2C%20-73.9571%5D%2C%20%5B40.75407%2C%20-73.96713%5D%2C%20%5B40.70712%2C%20-73.94013%5D%2C%20%5B40.74553%2C%20-73.98943%5D%2C%20%5B40.77584%2C%20-73.9502%5D%2C%20%5B40.79967%2C%20-73.95156%5D%2C%20%5B40.80142%2C%20-73.96931%5D%2C%20%5B40.70507%2C%20-73.9353%5D%2C%20%5B40.67962%2C%20-73.97655%5D%2C%20%5B40.66847%2C%20-73.94875%5D%2C%20%5B40.7376%2C%20-73.95678%5D%2C%20%5B40.71148%2C%20-73.95573%5D%2C%20%5B40.67425%2C%20-73.96514%5D%2C%20%5B40.72899%2C%20-73.97792%5D%2C%20%5B40.72488%2C%20-73.94013%5D%2C%20%5B40.72212%2C%20-73.95696%5D%2C%20%5B40.68534%2C%20-73.93433%5D%2C%20%5B40.62109%2C%20-74.16534%5D%2C%20%5B40.78161%2C%20-73.97898%5D%2C%20%5B40.75643%2C%20-73.99046%5D%2C%20%5B40.67407%2C%20-73.98111%5D%2C%20%5B40.59721%2C%20-73.95149%5D%2C%20%5B40.80491%2C%20-73.94866%5D%2C%20%5B40.80334%2C%20-73.94805%5D%2C%20%5B40.87039%2C%20-73.91611%5D%2C%20%5B40.704%2C%20-73.93285%5D%2C%20%5B40.87991%2C%20-73.91673%5D%2C%20%5B40.62766%2C%20-74.07988%5D%2C%20%5B40.7685%2C%20-73.96034%5D%2C%20%5B40.76082%2C%20-73.97548%5D%2C%20%5B40.74238%2C%20-73.98122%5D%2C%20%5B40.80151%2C%20-73.9522%5D%2C%20%5B40.83434%2C%20-73.94027%5D%2C%20%5B40.73677%2C%20-73.98084%5D%2C%20%5B40.71151%2C%20-73.81561%5D%2C%20%5B40.68581%2C%20-73.84642%5D%2C%20%5B40.68636%2C%20-74.00345%5D%2C%20%5B40.70994%2C%20-73.96573%5D%2C%20%5B40.76013%2C%20-73.99007%5D%2C%20%5B40.70621%2C%20-74.01525%5D%2C%20%5B40.72172%2C%20-73.99689%5D%2C%20%5B40.72049%2C%20-73.95221%5D%2C%20%5B40.71068%2C%20-73.81577%5D%2C%20%5B40.74125%2C%20-73.98862%5D%2C%20%5B40.83091%2C%20-73.94223%5D%2C%20%5B40.7824%2C%20-73.98294%5D%2C%20%5B40.72634%2C%20-73.98267%5D%2C%20%5B40.82703%2C%20-73.94311%5D%2C%20%5B40.78521%2C%20-73.95489%5D%2C%20%5B40.66106%2C%20-73.98316%5D%2C%20%5B40.72123%2C%20-73.98996%5D%2C%20%5B40.70339%2C%20-73.92945%5D%2C%20%5B40.66009%2C%20-73.96237%5D%2C%20%5B40.67939%2C%20-73.99398%5D%2C%20%5B40.76494%2C%20-73.95804%5D%2C%20%5B40.80192%2C%20-73.95827%5D%2C%20%5B40.79314%2C%20-73.94853%5D%2C%20%5B40.7453%2C%20-73.99056%5D%2C%20%5B40.72812%2C%20-73.97966%5D%2C%20%5B40.7093%2C%20-73.96484%5D%2C%20%5B40.64791%2C%20-73.97904%5D%2C%20%5B40.75453%2C%20-73.93377%5D%2C%20%5B40.72057%2C%20-73.99976%5D%2C%20%5B40.7234%2C%20-73.99439%5D%2C%20%5B40.71121%2C%20-73.94669%5D%2C%20%5B40.68979%2C%20-73.91661%5D%2C%20%5B40.73448%2C%20-73.99797%5D%2C%20%5B40.65937%2C%20-73.95906%5D%2C%20%5B40.68599%2C%20-73.98826%5D%2C%20%5B40.79477%2C%20-73.95046%5D%2C%20%5B40.5781%2C%20-73.95455%5D%2C%20%5B40.72278%2C%20-73.9967%5D%2C%20%5B40.71472%2C%20-73.96225%5D%2C%20%5B40.66924%2C%20-73.94406%5D%2C%20%5B40.67259%2C%20-73.95489%5D%2C%20%5B40.69321%2C%20-73.9442%5D%2C%20%5B40.71348%2C%20-73.94447%5D%2C%20%5B40.75816%2C%20-73.96457%5D%2C%20%5B40.70537%2C%20-74.00992%5D%2C%20%5B40.68722%2C%20-73.96289%5D%2C%20%5B40.73111%2C%20-73.98528%5D%2C%20%5B40.72212%2C%20-73.94389%5D%2C%20%5B40.66626%2C%20-73.97933%5D%2C%20%5B40.72978%2C%20-73.9793%5D%2C%20%5B40.68838%2C%20-73.94193%5D%2C%20%5B40.71804%2C%20-73.98565%5D%2C%20%5B40.68559%2C%20-73.93896%5D%2C%20%5B40.77995%2C%20-73.98342%5D%2C%20%5B40.7559%2C%20-73.99469%5D%2C%20%5B40.76291%2C%20-73.99202%5D%2C%20%5B40.74406%2C%20-73.98273%5D%2C%20%5B40.73041%2C%20-74.00498%5D%2C%20%5B40.6764%2C%20-73.96218%5D%2C%20%5B40.70279%2C%20-73.98284%5D%2C%20%5B40.67436%2C%20-73.956%5D%2C%20%5B40.83559%2C%20-73.94095%5D%2C%20%5B40.79234%2C%20-73.96482%5D%2C%20%5B40.83451%2C%20-73.93885%5D%2C%20%5B40.74826%2C%20-73.94633%5D%2C%20%5B40.67763%2C%20-73.97185%5D%2C%20%5B40.68472%2C%20-73.96691%5D%2C%20%5B40.65408%2C%20-73.87883%5D%2C%20%5B40.67302%2C%20-73.98756%5D%2C%20%5B40.70633%2C%20-74.00974%5D%2C%20%5B40.77548%2C%20-73.95183%5D%2C%20%5B40.73775%2C%20-74.00344%5D%2C%20%5B40.70917%2C%20-74.0146%5D%2C%20%5B40.7108%2C%20-73.96226%5D%2C%20%5B40.72507%2C%20-73.98861%5D%2C%20%5B40.82726%2C%20-73.9444%5D%2C%20%5B40.82669%2C%20-73.94281%5D%2C%20%5B40.67078%2C%20-73.98815%5D%2C%20%5B40.728%2C%20-73.97903%5D%2C%20%5B40.65814%2C%20-73.96181%5D%2C%20%5B40.71517%2C%20-73.94292%5D%2C%20%5B40.66859%2C%20-73.98235%5D%2C%20%5B40.70054%2C%20-73.90255%5D%2C%20%5B40.74572%2C%20-73.99965%5D%2C%20%5B40.78911%2C%20-73.97396%5D%2C%20%5B40.68813%2C%20-73.92817%5D%2C%20%5B40.81128%2C%20-73.92399%5D%2C%20%5B40.77593%2C%20-73.97699%5D%2C%20%5B40.73903%2C%20-73.97975%5D%2C%20%5B40.71164%2C%20-73.965%5D%2C%20%5B40.75193%2C%20-73.87873%5D%2C%20%5B40.74906%2C%20-73.89377%5D%2C%20%5B40.71756%2C%20-73.95282%5D%2C%20%5B40.8179%2C%20-73.94319%5D%2C%20%5B40.64814%2C%20-73.97304%5D%2C%20%5B40.81611%2C%20-73.89909%5D%2C%20%5B40.62897%2C%20-73.90334%5D%2C%20%5B40.77555%2C%20-73.9767%5D%2C%20%5B40.6397%2C%20-74.0162%5D%2C%20%5B40.67267%2C%20-73.98348%5D%2C%20%5B40.64205%2C%20-73.97173%5D%2C%20%5B40.66034%2C%20-73.9829%5D%2C%20%5B40.68699%2C%20-73.9635%5D%2C%20%5B40.72183%2C%20-73.94908%5D%2C%20%5B40.71986%2C%20-73.9869%5D%2C%20%5B40.68881%2C%20-73.95405%5D%2C%20%5B40.81669%2C%20-73.94267%5D%2C%20%5B40.86717%2C%20-73.9194%5D%2C%20%5B40.72981%2C%20-73.98318%5D%2C%20%5B40.86929%2C%20-73.92421%5D%2C%20%5B40.80533%2C%20-73.95204%5D%2C%20%5B40.7476%2C%20-73.99698%5D%2C%20%5B40.73357%2C%20-74.00723%5D%2C%20%5B40.73204%2C%20-74.00189%5D%2C%20%5B40.81713%2C%20-73.94217%5D%2C%20%5B40.72917%2C%20-73.98811%5D%2C%20%5B40.7061%2C%20-73.94531%5D%2C%20%5B40.70147%2C%20-73.94378%5D%2C%20%5B40.76719%2C%20-73.95303%5D%2C%20%5B40.74134%2C%20-73.98113%5D%2C%20%5B40.8162%2C%20-73.94747%5D%2C%20%5B40.71613%2C%20-73.95837%5D%2C%20%5B40.71746%2C%20-73.98782%5D%2C%20%5B40.66933%2C%20-73.93798%5D%2C%20%5B40.68905%2C%20-73.9541%5D%2C%20%5B40.67615%2C%20-73.95441%5D%2C%20%5B40.7111%2C%20-73.94643%5D%2C%20%5B40.68944%2C%20-73.9376%5D%2C%20%5B40.72106%2C%20-73.98384%5D%2C%20%5B40.67747%2C%20-73.76493%5D%2C%20%5B40.73123%2C%20-74.00591%5D%2C%20%5B40.72152%2C%20-73.99279%5D%2C%20%5B40.72147%2C%20-73.99208%5D%2C%20%5B40.66604%2C%20-73.95086%5D%2C%20%5B40.71012%2C%20-74.01504%5D%2C%20%5B40.71856%2C%20-73.95166%5D%2C%20%5B40.80661%2C%20-73.9576%5D%2C%20%5B40.72203%2C%20-74.00988%5D%2C%20%5B40.68229%2C%20-73.94287%5D%2C%20%5B40.65955%2C%20-73.96066%5D%2C%20%5B40.77137%2C%20-73.98943%5D%2C%20%5B40.67796%2C%20-73.96458%5D%2C%20%5B40.6933%2C%20-73.90823%5D%2C%20%5B40.7502%2C%20-73.94189%5D%2C%20%5B40.71285%2C%20-73.94383%5D%2C%20%5B40.76487%2C%20-73.98471%5D%2C%20%5B40.66387%2C%20-73.99077%5D%2C%20%5B40.72893%2C%20-73.98278%5D%2C%20%5B40.73009%2C%20-73.9827%5D%2C%20%5B40.72955%2C%20-73.98298%5D%2C%20%5B40.72693%2C%20-73.98521%5D%2C%20%5B40.82537%2C%20-73.94392%5D%2C%20%5B40.71137%2C%20-73.99403%5D%2C%20%5B40.74428%2C%20-73.97809%5D%2C%20%5B40.67579%2C%20-73.99968%5D%2C%20%5B40.74087%2C%20-74.00226%5D%2C%20%5B40.68723%2C%20-73.96897%5D%2C%20%5B40.7182%2C%20-73.95763%5D%2C%20%5B40.74679%2C%20-73.91853%5D%2C%20%5B40.71739%2C%20-73.95472%5D%2C%20%5B40.77099%2C%20-73.9898%5D%2C%20%5B40.7195%2C%20-73.98022%5D%2C%20%5B40.75636%2C%20-73.9939%5D%2C%20%5B40.68834%2C%20-73.97875%5D%2C%20%5B40.68586%2C%20-73.94837%5D%2C%20%5B40.71164%2C%20-74.00774%5D%2C%20%5B40.70743%2C%20-73.96728%5D%2C%20%5B40.68545%2C%20-73.96534%5D%2C%20%5B40.65854%2C%20-73.98384%5D%2C%20%5B40.61269%2C%20-74.03381%5D%2C%20%5B40.67858%2C%20-73.98537%5D%2C%20%5B40.70821%2C%20-73.95352%5D%2C%20%5B40.66158%2C%20-73.98954%5D%2C%20%5B40.72457%2C%20-73.98453%5D%2C%20%5B40.71689%2C%20-73.95706%5D%2C%20%5B40.66221%2C%20-73.99743%5D%2C%20%5B40.79313%2C%20-73.93493%5D%2C%20%5B40.68444%2C%20-73.99904%5D%2C%20%5B40.75632%2C%20-73.96464%5D%2C%20%5B40.67996%2C%20-73.98027%5D%2C%20%5B40.67369%2C%20-73.96589%5D%2C%20%5B40.67211%2C%20-73.976%5D%2C%20%5B40.79183%2C%20-73.97172%5D%2C%20%5B40.71456%2C%20-73.99978%5D%2C%20%5B40.71668%2C%20-73.99073%5D%2C%20%5B40.67862%2C%20-73.98561%5D%2C%20%5B40.68721%2C%20-74.00147%5D%2C%20%5B40.72162%2C%20-74.00414%5D%2C%20%5B40.75541%2C%20-73.89239%5D%2C%20%5B40.69011%2C%20-73.97691%5D%2C%20%5B40.66641%2C%20-73.98283%5D%2C%20%5B40.67828%2C%20-73.99136%5D%2C%20%5B40.71483%2C%20-73.96216%5D%2C%20%5B40.8687%2C%20-73.8524%5D%2C%20%5B40.5822%2C%20-73.96392%5D%2C%20%5B40.72686%2C%20-73.9797%5D%2C%20%5B40.68825%2C%20-73.92951%5D%2C%20%5B40.78451%2C%20-73.97882%5D%2C%20%5B40.82392%2C%20-73.94205%5D%2C%20%5B40.71384%2C%20-73.9474%5D%2C%20%5B40.7952%2C%20-73.9624%5D%2C%20%5B40.73942%2C%20-74.00009%5D%2C%20%5B40.65524%2C%20-73.95646%5D%2C%20%5B40.66153%2C%20-73.98554%5D%2C%20%5B40.59274%2C%20-74.16178%5D%2C%20%5B40.72701%2C%20-74.0011%5D%2C%20%5B40.68607%2C%20-73.95839%5D%2C%20%5B40.71345%2C%20-73.95689%5D%2C%20%5B40.73214%2C%20-74.00188%5D%2C%20%5B40.72903%2C%20-74.00028%5D%2C%20%5B40.67823%2C%20-73.97007%5D%2C%20%5B40.79842%2C%20-73.96903%5D%2C%20%5B40.72232%2C%20-73.98686%5D%2C%20%5B40.72454%2C%20-73.97944%5D%2C%20%5B40.77799%2C%20-73.95223%5D%2C%20%5B40.69227%2C%20-73.90852%5D%2C%20%5B40.7276%2C%20-73.98347%5D%2C%20%5B40.75782%2C%20-73.92129%5D%2C%20%5B40.72756%2C%20-73.97939%5D%2C%20%5B40.84937%2C%20-73.91328%5D%2C%20%5B40.68549%2C%20-73.94724%5D%2C%20%5B40.64229%2C%20-73.96548%5D%2C%20%5B40.79218%2C%20-73.97926%5D%2C%20%5B40.73951%2C%20-73.98146%5D%2C%20%5B40.7139%2C%20-73.96553%5D%2C%20%5B40.70753%2C%20-73.92048%5D%2C%20%5B40.73044%2C%20-73.98683%5D%2C%20%5B40.69964%2C%20-73.99299%5D%2C%20%5B40.67709%2C%20-73.95237%5D%2C%20%5B40.75296%2C%20-73.93716%5D%2C%20%5B40.67717%2C%20-73.96915%5D%2C%20%5B40.68586%2C%20-73.9809%5D%2C%20%5B40.68543%2C%20-73.93838%5D%2C%20%5B40.69849%2C%20-73.92678%5D%2C%20%5B40.74348%2C%20-73.9998%5D%2C%20%5B40.68679%2C%20-73.97378%5D%2C%20%5B40.75086%2C%20-73.99776%5D%2C%20%5B40.71915%2C%20-73.95581%5D%2C%20%5B40.64625%2C%20-73.97932%5D%2C%20%5B40.71577%2C%20-73.94084%5D%2C%20%5B40.70278%2C%20-73.90153%5D%2C%20%5B40.77108%2C%20-73.95967%5D%2C%20%5B40.68812%2C%20-73.94627%5D%2C%20%5B40.82823%2C%20-73.94691%5D%2C%20%5B40.74377%2C%20-73.91225%5D%2C%20%5B40.69432%2C%20-73.96481%5D%2C%20%5B40.82749%2C%20-73.9382%5D%2C%20%5B40.66777%2C%20-73.98367%5D%2C%20%5B40.71423%2C%20-73.95305%5D%2C%20%5B40.72719%2C%20-73.86166%5D%2C%20%5B40.74341%2C%20-73.99298%5D%2C%20%5B40.66051%2C%20-73.98495%5D%2C%20%5B40.72915%2C%20-73.98019%5D%2C%20%5B40.74767%2C%20-74.01061%5D%2C%20%5B40.82822%2C%20-73.92439%5D%2C%20%5B40.73067%2C%20-73.955%5D%2C%20%5B40.72246%2C%20-73.99552%5D%2C%20%5B40.80762%2C%20-73.94017%5D%2C%20%5B40.67786%2C%20-73.97166%5D%2C%20%5B40.80719%2C%20-73.94253%5D%2C%20%5B40.74129%2C%20-73.98374%5D%2C%20%5B40.77761%2C%20-73.94606%5D%2C%20%5B40.76413%2C%20-73.96227%5D%2C%20%5B40.66119%2C%20-73.98822%5D%2C%20%5B40.78339%2C%20-73.98003%5D%2C%20%5B40.80654%2C%20-73.95019%5D%2C%20%5B40.78111%2C%20-73.97739%5D%2C%20%5B40.67147%2C%20-73.94979%5D%2C%20%5B40.75532%2C%20-73.91603%5D%2C%20%5B40.70762%2C%20-73.96764%5D%2C%20%5B40.7311%2C%20-73.99913%5D%2C%20%5B40.66199%2C%20-73.96294%5D%2C%20%5B40.73176%2C%20-73.99895%5D%2C%20%5B40.71606%2C%20-73.95526%5D%2C%20%5B40.72184%2C%20-73.9944%5D%2C%20%5B40.72829%2C%20-73.98156%5D%2C%20%5B40.69043%2C%20-73.95677%5D%2C%20%5B40.74403%2C%20-73.99581%5D%2C%20%5B40.74552%2C%20-74.0006%5D%2C%20%5B40.6744%2C%20-73.96558%5D%2C%20%5B40.79358%2C%20-73.97043%5D%2C%20%5B40.7014%2C%20-73.91333%5D%2C%20%5B40.72924%2C%20-73.98113%5D%2C%20%5B40.75919%2C%20-73.91836%5D%2C%20%5B40.83064%2C%20-73.94076%5D%2C%20%5B40.76184%2C%20-73.99334%5D%2C%20%5B40.82445%2C%20-73.95243%5D%2C%20%5B40.72006%2C%20-73.99579%5D%2C%20%5B40.71872%2C%20-73.96042%5D%2C%20%5B40.72855%2C%20-73.98265%5D%2C%20%5B40.76304%2C%20-73.9888%5D%2C%20%5B40.70878%2C%20-73.91727%5D%2C%20%5B40.64437%2C%20-74.00304%5D%2C%20%5B40.72987%2C%20-74.00082%5D%2C%20%5B40.77424%2C%20-73.94839%5D%2C%20%5B40.68752%2C%20-73.96688%5D%2C%20%5B40.65841%2C%20-73.95016%5D%2C%20%5B40.75578%2C%20-73.81948%5D%2C%20%5B40.69271%2C%20-73.99365%5D%2C%20%5B40.70587%2C%20-74.01534%5D%2C%20%5B40.64882%2C%20-73.9605%5D%2C%20%5B40.69073%2C%20-73.96762%5D%2C%20%5B40.72515%2C%20-73.95153%5D%2C%20%5B40.72564%2C%20-73.98252%5D%2C%20%5B40.78024%2C%20-73.94813%5D%2C%20%5B40.6599%2C%20-73.98279%5D%2C%20%5B40.7964%2C%20-73.9675%5D%2C%20%5B40.74664%2C%20-73.99441%5D%2C%20%5B40.71788%2C%20-73.98975%5D%2C%20%5B40.67356%2C%20-73.9425%5D%2C%20%5B40.81757%2C%20-73.94709%5D%2C%20%5B40.68052%2C%20-73.97254%5D%2C%20%5B40.86821%2C%20-73.92252%5D%2C%20%5B40.67981%2C%20-73.97967%5D%2C%20%5B40.68251%2C%20-73.98486%5D%2C%20%5B40.72718%2C%20-73.9812%5D%2C%20%5B40.72363%2C%20-73.9457%5D%2C%20%5B40.72697%2C%20-73.93921%5D%2C%20%5B40.72274%2C%20-73.97934%5D%2C%20%5B40.68343%2C%20-73.99189%5D%2C%20%5B40.73514%2C%20-73.99954%5D%2C%20%5B40.73481%2C%20-73.99845%5D%2C%20%5B40.80053%2C%20-73.96651%5D%2C%20%5B40.73971%2C%20-74.00221%5D%2C%20%5B40.75767%2C%20-73.99034%5D%2C%20%5B40.80165%2C%20-73.96287%5D%2C%20%5B40.68328%2C%20-73.9379%5D%2C%20%5B40.72819%2C%20-73.97933%5D%2C%20%5B40.68411%2C%20-73.93875%5D%2C%20%5B40.68269%2C%20-73.94004%5D%2C%20%5B40.70779%2C%20-73.92129%5D%2C%20%5B40.70202%2C%20-73.92402%5D%2C%20%5B40.72603%2C%20-73.98751%5D%2C%20%5B40.68522%2C%20-73.97771%5D%2C%20%5B40.67391%2C%20-73.94039%5D%2C%20%5B40.67436%2C%20-73.94807%5D%2C%20%5B40.81199%2C%20-73.95116%5D%2C%20%5B40.68586%2C%20-73.9501%5D%2C%20%5B40.65204%2C%20-73.94938%5D%2C%20%5B40.78292%2C%20-73.97438%5D%2C%20%5B40.71603%2C%20-73.95665%5D%2C%20%5B40.82446%2C%20-73.95274%5D%2C%20%5B40.7641%2C%20-73.98803%5D%2C%20%5B40.79785%2C%20-73.97202%5D%2C%20%5B40.76961%2C%20-73.90451%5D%2C%20%5B40.73047%2C%20-73.98229%5D%2C%20%5B40.6772%2C%20-73.9506%5D%2C%20%5B40.71328%2C%20-73.99315%5D%2C%20%5B40.66732%2C%20-73.98233%5D%2C%20%5B40.66488%2C%20-73.98079%5D%2C%20%5B40.78837%2C%20-73.94628%5D%2C%20%5B40.68232%2C%20-73.96501%5D%2C%20%5B40.73252%2C%20-73.95496%5D%2C%20%5B40.59783%2C%20-73.80158%5D%2C%20%5B40.72437%2C%20-73.94847%5D%2C%20%5B40.77115%2C%20-73.92275%5D%2C%20%5B40.67859%2C%20-73.99444%5D%2C%20%5B40.72304%2C%20-73.97923%5D%2C%20%5B40.77032%2C%20-73.99493%5D%2C%20%5B40.72692%2C%20-73.99948%5D%2C%20%5B40.6806%2C%20-73.96317%5D%2C%20%5B40.72949%2C%20-73.95493%5D%2C%20%5B40.67649%2C%20-73.9435%5D%2C%20%5B40.71099%2C%20-73.95217%5D%2C%20%5B40.73041%2C%20-74.00326%5D%2C%20%5B40.7197%2C%20-73.95741%5D%2C%20%5B40.60399%2C%20-73.97092%5D%2C%20%5B40.72372%2C%20-74.00277%5D%2C%20%5B40.70989%2C%20-73.95347%5D%2C%20%5B40.80797%2C%20-73.9489%5D%2C%20%5B40.72466%2C%20-73.99632%5D%2C%20%5B40.71552%2C%20-74.00749%5D%2C%20%5B40.69464%2C%20-73.99885%5D%2C%20%5B40.6877%2C%20-73.95824%5D%2C%20%5B40.69079%2C%20-73.95809%5D%2C%20%5B40.70001%2C%20-73.90698%5D%2C%20%5B40.77247%2C%20-73.94665%5D%2C%20%5B40.75128%2C%20-73.97658%5D%2C%20%5B40.86345%2C%20-73.92039%5D%2C%20%5B40.86284%2C%20-73.91955%5D%2C%20%5B40.73413%2C%20-74.00465%5D%2C%20%5B40.74026%2C%20-74.00079%5D%2C%20%5B40.73474%2C%20-73.99527%5D%2C%20%5B40.71316%2C%20-73.94532%5D%2C%20%5B40.8347%2C%20-73.94857%5D%2C%20%5B40.69082%2C%20-73.99281%5D%2C%20%5B40.74124%2C%20-73.92273%5D%2C%20%5B40.67465%2C%20-73.97975%5D%2C%20%5B40.72203%2C%20-73.95376%5D%2C%20%5B40.7839%2C%20-73.97897%5D%2C%20%5B40.68533%2C%20-73.96808%5D%2C%20%5B40.70397%2C%20-73.95536%5D%2C%20%5B40.68084%2C%20-73.97429%5D%2C%20%5B40.68379%2C%20-73.98313%5D%2C%20%5B40.72188%2C%20-73.94963%5D%2C%20%5B40.67963%2C%20-73.97237%5D%2C%20%5B40.69249%2C%20-73.73382%5D%2C%20%5B40.6686%2C%20-73.98342%5D%2C%20%5B40.76985%2C%20-73.95815%5D%2C%20%5B40.76257%2C%20-73.99303%5D%2C%20%5B40.68466%2C%20-73.98871%5D%2C%20%5B40.79183%2C%20-73.94743%5D%2C%20%5B40.77471%2C%20-73.98261%5D%2C%20%5B40.67293%2C%20-73.96399%5D%2C%20%5B40.73587%2C%20-73.88279%5D%2C%20%5B40.69945%2C%20-73.92148%5D%2C%20%5B40.7072%2C%20-73.92245%5D%2C%20%5B40.67376%2C%20-73.99648%5D%2C%20%5B40.7256%2C%20-73.97857%5D%2C%20%5B40.6916%2C%20-73.73323%5D%2C%20%5B40.79196%2C%20-73.97065%5D%2C%20%5B40.81726%2C%20-73.94583%5D%2C%20%5B40.71655%2C%20-74.01171%5D%2C%20%5B40.68375%2C%20-73.87065%5D%2C%20%5B40.70958%2C%20-73.93578%5D%2C%20%5B40.72091%2C%20-73.96133%5D%2C%20%5B40.66959%2C%20-73.95718%5D%2C%20%5B40.68066%2C%20-73.96644%5D%2C%20%5B40.71447%2C%20-73.95237%5D%2C%20%5B40.68372%2C%20-73.9406%5D%2C%20%5B40.76408%2C%20-73.92461%5D%2C%20%5B40.76876%2C%20-73.99473%5D%2C%20%5B40.66839%2C%20-73.96001%5D%2C%20%5B40.74519%2C%20-73.98338%5D%2C%20%5B40.74285%2C%20-73.97986%5D%2C%20%5B40.80352%2C%20-73.95127%5D%2C%20%5B40.71455%2C%20-73.93739%5D%2C%20%5B40.65826%2C%20-73.95951%5D%2C%20%5B40.7324%2C%20-73.98577%5D%2C%20%5B40.71402%2C%20-73.93989%5D%2C%20%5B40.80338%2C%20-73.95594%5D%2C%20%5B40.7592%2C%20-73.99133%5D%2C%20%5B40.68935%2C%20-73.9695%5D%2C%20%5B40.73326%2C%20-73.98245%5D%2C%20%5B40.73082%2C%20-73.98502%5D%2C%20%5B40.71382%2C%20-73.94164%5D%2C%20%5B40.77975%2C%20-73.94977%5D%2C%20%5B40.68517%2C%20-73.95563%5D%2C%20%5B40.74609%2C%20-73.94691%5D%2C%20%5B40.72625%2C%20-74.0018%5D%2C%20%5B40.77428%2C%20-73.98594%5D%2C%20%5B40.72812%2C%20-74.00191%5D%2C%20%5B40.71657%2C%20-73.96264%5D%2C%20%5B40.65193%2C%20-73.97301%5D%2C%20%5B40.73485%2C%20-74.00637%5D%2C%20%5B40.70074%2C%20-73.92333%5D%2C%20%5B40.73607%2C%20-73.92439%5D%2C%20%5B40.72095%2C%20-73.99401%5D%2C%20%5B40.67639%2C%20-73.96003%5D%2C%20%5B40.79913%2C%20-73.96057%5D%2C%20%5B40.50868%2C%20-74.23986%5D%2C%20%5B40.72389%2C%20-73.98934%5D%2C%20%5B40.73727%2C%20-74.00213%5D%2C%20%5B40.68648%2C%20-73.99257%5D%2C%20%5B40.79512%2C%20-73.93182%5D%2C%20%5B40.76206%2C%20-73.9998%5D%2C%20%5B40.69382%2C%20-73.95002%5D%2C%20%5B40.78455%2C%20-73.97352%5D%2C%20%5B40.87114%2C%20-73.91791%5D%2C%20%5B40.71827%2C%20-73.96259%5D%2C%20%5B40.63358%2C%20-74.0833%5D%2C%20%5B40.82312%2C%20-73.94971%5D%2C%20%5B40.8224%2C%20-73.94358%5D%2C%20%5B40.76376%2C%20-73.99161%5D%2C%20%5B40.75703%2C%20-73.91666%5D%2C%20%5B40.74648%2C%20-73.98459%5D%2C%20%5B40.72294%2C%20-73.99388%5D%2C%20%5B40.82732%2C%20-73.95112%5D%2C%20%5B40.6951%2C%20-73.95605%5D%2C%20%5B40.71256%2C%20-73.96626%5D%2C%20%5B40.6795%2C%20-73.9685%5D%2C%20%5B40.7256%2C%20-73.99445%5D%2C%20%5B40.73045%2C%20-73.98541%5D%2C%20%5B40.737%2C%20-73.98199%5D%2C%20%5B40.71227%2C%20-73.96776%5D%2C%20%5B40.75164%2C%20-73.99425%5D%2C%20%5B40.67189%2C%20-73.93499%5D%2C%20%5B40.72381%2C%20-73.99684%5D%2C%20%5B40.73337%2C%20-73.984%5D%2C%20%5B40.68304%2C%20-73.96348%5D%2C%20%5B40.75743%2C%20-73.96939%5D%2C%20%5B40.7419%2C%20-73.9816%5D%2C%20%5B40.76758%2C%20-73.98722%5D%2C%20%5B40.74189%2C%20-73.97833%5D%2C%20%5B40.76934%2C%20-73.98464%5D%2C%20%5B40.78363%2C%20-73.97797%5D%2C%20%5B40.72171%2C%20-73.98334%5D%2C%20%5B40.76803%2C%20-73.98767%5D%2C%20%5B40.71695%2C%20-73.99031%5D%2C%20%5B40.67574%2C%20-73.95434%5D%2C%20%5B40.75663%2C%20-73.96681%5D%2C%20%5B40.64573%2C%20-73.98013%5D%2C%20%5B40.74004%2C%20-74.00426%5D%2C%20%5B40.68863%2C%20-74.00181%5D%2C%20%5B40.7779%2C%20-73.95246%5D%2C%20%5B40.78194%2C%20-73.98248%5D%2C%20%5B40.6883%2C%20-73.95375%5D%2C%20%5B40.73354%2C%20-73.98593%5D%2C%20%5B40.8014%2C%20-73.94361%5D%2C%20%5B40.69922%2C%20-73.90027%5D%2C%20%5B40.70653%2C%20-73.94421%5D%2C%20%5B40.76287%2C%20-73.9957%5D%2C%20%5B40.70249%2C%20-73.9488%5D%2C%20%5B40.78754%2C%20-73.96989%5D%2C%20%5B40.741%2C%20-73.99957%5D%2C%20%5B40.74027%2C%20-73.98061%5D%2C%20%5B40.77516%2C%20-73.98573%5D%2C%20%5B40.7589%2C%20-73.99015%5D%2C%20%5B40.72771%2C%20-73.98172%5D%2C%20%5B40.71157%2C%20-73.9636%5D%2C%20%5B40.71112%2C%20-73.96338%5D%2C%20%5B40.74272%2C%20-74.00309%5D%2C%20%5B40.64895%2C%20-73.95758%5D%2C%20%5B40.86186%2C%20-73.92701%5D%2C%20%5B40.68888%2C%20-73.91911%5D%2C%20%5B40.67947%2C%20-73.98458%5D%2C%20%5B40.79591%2C%20-73.94801%5D%2C%20%5B40.68796%2C%20-73.91906%5D%2C%20%5B40.67138%2C%20-73.95577%5D%2C%20%5B40.77382%2C%20-73.95088%5D%2C%20%5B40.68418%2C%20-73.96926%5D%2C%20%5B40.68773%2C%20-73.95631%5D%2C%20%5B40.62764%2C%20-73.90086%5D%2C%20%5B40.70719%2C%20-73.89632%5D%2C%20%5B40.73456%2C%20-74.00347%5D%2C%20%5B40.74166%2C%20-73.97811%5D%2C%20%5B40.67166%2C%20-73.76566%5D%2C%20%5B40.77987%2C%20-73.91565%5D%2C%20%5B40.77329%2C%20-73.92832%5D%2C%20%5B40.7195%2C%20-73.99416%5D%2C%20%5B40.70866%2C%20-73.91537%5D%2C%20%5B40.80829%2C%20-73.9426%5D%2C%20%5B40.80114%2C%20-73.96378%5D%2C%20%5B40.62879%2C%20-74.16062%5D%2C%20%5B40.61676%2C%20-73.92552%5D%2C%20%5B40.79417%2C%20-73.95101%5D%2C%20%5B40.75286%2C%20-74.00162%5D%2C%20%5B40.73477%2C%20-74.00275%5D%2C%20%5B40.7453%2C%20-73.95294%5D%2C%20%5B40.80314%2C%20-73.95768%5D%2C%20%5B40.74888%2C%20-73.97828%5D%2C%20%5B40.74851%2C%20-73.97796%5D%2C%20%5B40.67635%2C%20-73.89124%5D%2C%20%5B40.78002%2C%20-73.95211%5D%2C%20%5B40.69445%2C%20-73.96401%5D%2C%20%5B40.75772%2C%20-73.8953%5D%2C%20%5B40.80373%2C%20-73.9679%5D%2C%20%5B40.66481%2C%20-73.98367%5D%2C%20%5B40.68757%2C%20-73.97469%5D%2C%20%5B40.7056%2C%20-73.94202%5D%2C%20%5B40.67722%2C%20-73.95005%5D%2C%20%5B40.71407%2C%20-73.95336%5D%2C%20%5B40.72912%2C%20-73.98355%5D%2C%20%5B40.68305%2C%20-73.97853%5D%2C%20%5B40.68161%2C%20-73.90796%5D%2C%20%5B40.71428%2C%20-73.961%5D%2C%20%5B40.70234%2C%20-73.91849%5D%2C%20%5B40.77563%2C%20-73.98065%5D%2C%20%5B40.72866%2C%20-73.98048%5D%2C%20%5B40.69096%2C%20-73.97241%5D%2C%20%5B40.69114%2C%20-73.94601%5D%2C%20%5B40.72482%2C%20-73.98097%5D%2C%20%5B40.67406%2C%20-73.97697%5D%2C%20%5B40.77392%2C%20-73.97852%5D%2C%20%5B40.76422%2C%20-73.99382%5D%2C%20%5B40.76221%2C%20-73.97787%5D%2C%20%5B40.69128%2C%20-73.93653%5D%2C%20%5B40.86737%2C%20-73.91877%5D%2C%20%5B40.72177%2C%20-73.9961%5D%2C%20%5B40.74034%2C%20-74.00259%5D%2C%20%5B40.73105%2C%20-74.00285%5D%2C%20%5B40.68902%2C%20-73.99517%5D%2C%20%5B40.67793%2C%20-73.96577%5D%2C%20%5B40.70995%2C%20-73.95536%5D%2C%20%5B40.72756%2C%20-74.00239%5D%2C%20%5B40.68906%2C%20-73.94103%5D%2C%20%5B40.6967%2C%20-73.97622%5D%2C%20%5B40.70751%2C%20-73.9467%5D%2C%20%5B40.67507%2C%20-73.98093%5D%2C%20%5B40.79507%2C%20-73.97568%5D%2C%20%5B40.72225%2C%20-73.98496%5D%2C%20%5B40.6582%2C%20-73.95275%5D%2C%20%5B40.74723%2C%20-73.89706%5D%2C%20%5B40.60183%2C%20-74.08953%5D%2C%20%5B40.66084%2C%20-73.99328%5D%2C%20%5B40.71796%2C%20-73.95439%5D%2C%20%5B40.72558%2C%20-73.97929%5D%2C%20%5B40.80748%2C%20-73.94869%5D%2C%20%5B40.79854%2C%20-73.96089%5D%2C%20%5B40.74869%2C%20-73.88293%5D%2C%20%5B40.63324%2C%20-73.99461%5D%2C%20%5B40.71819%2C%20-73.99136%5D%2C%20%5B40.72582%2C%20-73.95213%5D%2C%20%5B40.74225%2C%20-73.99492%5D%2C%20%5B40.73016%2C%20-73.98643%5D%2C%20%5B40.60213%2C%20-74.0893%5D%2C%20%5B40.68344%2C%20-73.9933%5D%2C%20%5B40.68341%2C%20-73.9606%5D%2C%20%5B40.71534%2C%20-73.94906%5D%2C%20%5B40.74746%2C%20-73.89712%5D%2C%20%5B40.74687%2C%20-73.89892%5D%2C%20%5B40.68712%2C%20-73.95876%5D%2C%20%5B40.73795%2C%20-74.00593%5D%2C%20%5B40.71055%2C%20-73.94915%5D%2C%20%5B40.85956%2C%20-73.87067%5D%2C%20%5B40.68811%2C%20-73.97236%5D%2C%20%5B40.70985%2C%20-73.9452%5D%2C%20%5B40.67473%2C%20-73.96263%5D%2C%20%5B40.82655%2C%20-73.93943%5D%2C%20%5B40.67471%2C%20-73.95324%5D%2C%20%5B40.80155%2C%20-73.96569%5D%2C%20%5B40.80745%2C%20-73.94353%5D%2C%20%5B40.72576%2C%20-73.98582%5D%2C%20%5B40.67641%2C%20-73.95729%5D%2C%20%5B40.82398%2C%20-73.954%5D%2C%20%5B40.68724%2C%20-73.95837%5D%2C%20%5B40.79241%2C%20-73.97111%5D%2C%20%5B40.77042%2C%20-73.96145%5D%2C%20%5B40.71625%2C%20-73.9843%5D%2C%20%5B40.80351%2C%20-73.95648%5D%2C%20%5B40.74056%2C%20-73.99262%5D%2C%20%5B40.66983%2C%20-73.94322%5D%2C%20%5B40.67942%2C%20-73.96248%5D%2C%20%5B40.71927%2C%20-73.95591%5D%2C%20%5B40.76216%2C%20-73.92542%5D%2C%20%5B40.73867%2C%20-73.95448%5D%2C%20%5B40.73844%2C%20-73.95456%5D%2C%20%5B40.70866%2C%20-73.95166%5D%2C%20%5B40.69127%2C%20-73.99552%5D%2C%20%5B40.70061%2C%20-73.9552%5D%2C%20%5B40.81073%2C%20-73.9437%5D%2C%20%5B40.80517%2C%20-73.95404%5D%2C%20%5B40.76761%2C%20-73.98619%5D%2C%20%5B40.64431%2C%20-74.00016%5D%2C%20%5B40.73616%2C%20-74.004%5D%2C%20%5B40.65989%2C%20-73.99536%5D%2C%20%5B40.76352%2C%20-73.96394%5D%2C%20%5B40.71141%2C%20-73.95427%5D%2C%20%5B40.74092%2C%20-74.00037%5D%2C%20%5B40.81908%2C%20-73.94776%5D%2C%20%5B40.75154%2C%20-73.97104%5D%2C%20%5B40.78361%2C%20-73.97645%5D%2C%20%5B40.72849%2C%20-73.98041%5D%2C%20%5B40.72369%2C%20-73.9894%5D%2C%20%5B40.72661%2C%20-73.94586%5D%2C%20%5B40.7232%2C%20-73.97927%5D%2C%20%5B40.71714%2C%20-73.95447%5D%2C%20%5B40.59193%2C%20-74.06476%5D%2C%20%5B40.78674%2C%20-73.97243%5D%2C%20%5B40.78747%2C%20-73.97238%5D%2C%20%5B40.74975%2C%20-73.93688%5D%2C%20%5B40.70226%2C%20-73.92797%5D%2C%20%5B40.74231%2C%20-73.97839%5D%2C%20%5B40.71778%2C%20-74.00452%5D%2C%20%5B40.7296%2C%20-73.98479%5D%2C%20%5B40.57728%2C%20-73.95362%5D%2C%20%5B40.73454%2C%20-74.00365%5D%2C%20%5B40.71729%2C%20-74.00424%5D%2C%20%5B40.85963%2C%20-73.93107%5D%2C%20%5B40.7229%2C%20-73.99574%5D%2C%20%5B40.80529%2C%20-73.96467%5D%2C%20%5B40.68736%2C%20-73.97496%5D%2C%20%5B40.6258%2C%20-73.90004%5D%2C%20%5B40.72064%2C%20-73.99605%5D%2C%20%5B40.80145%2C%20-73.95572%5D%2C%20%5B40.76412%2C%20-73.97666%5D%2C%20%5B40.71955%2C%20-73.99706%5D%2C%20%5B40.81161%2C%20-73.94046%5D%2C%20%5B40.6747%2C%20-73.98245%5D%2C%20%5B40.74314%2C%20-74.00119%5D%2C%20%5B40.73158%2C%20-73.98303%5D%2C%20%5B40.70608%2C%20-73.93154%5D%2C%20%5B40.68371%2C%20-73.95604%5D%2C%20%5B40.67652%2C%20-73.9614%5D%2C%20%5B40.72699%2C%20-73.97969%5D%2C%20%5B40.76372%2C%20-73.79201%5D%2C%20%5B40.68391%2C%20-73.96201%5D%2C%20%5B40.77938%2C%20-73.98247%5D%2C%20%5B40.7189%2C%20-73.95725%5D%2C%20%5B40.64294%2C%20-73.96016%5D%2C%20%5B40.66777%2C%20-73.97781%5D%2C%20%5B40.67968%2C%20-73.94715%5D%2C%20%5B40.72863%2C%20-74.00137%5D%2C%20%5B40.75583%2C%20-73.91839%5D%2C%20%5B40.71592%2C%20-73.9898%5D%2C%20%5B40.65142%2C%20-73.97601%5D%2C%20%5B40.72408%2C%20-73.99823%5D%2C%20%5B40.73233%2C%20-73.98695%5D%2C%20%5B40.67958%2C%20-73.93687%5D%2C%20%5B40.80193%2C%20-73.96703%5D%2C%20%5B40.68522%2C%20-73.93557%5D%2C%20%5B40.75754%2C%20-73.93004%5D%2C%20%5B40.8584%2C%20-73.86969%5D%2C%20%5B40.72714%2C%20-73.99581%5D%2C%20%5B40.70118%2C%20-73.92826%5D%2C%20%5B40.68116%2C%20-73.96559%5D%2C%20%5B40.75982%2C%20-73.96521%5D%2C%20%5B40.68785%2C%20-73.96708%5D%2C%20%5B40.68444%2C%20-73.95692%5D%2C%20%5B40.68468%2C%20-73.96303%5D%2C%20%5B40.75383%2C%20-73.96777%5D%2C%20%5B40.77638%2C%20-73.95247%5D%2C%20%5B40.76361%2C%20-73.91793%5D%2C%20%5B40.76605%2C%20-73.92922%5D%2C%20%5B40.70022%2C%20-73.93032%5D%2C%20%5B40.78227%2C%20-73.9841%5D%2C%20%5B40.64073%2C%20-73.95832%5D%2C%20%5B40.70369%2C%20-73.93284%5D%2C%20%5B40.64232%2C%20-73.9572%5D%2C%20%5B40.80826%2C%20-73.93401%5D%2C%20%5B40.77466%2C%20-73.91807%5D%2C%20%5B40.67679%2C%20-73.93776%5D%2C%20%5B40.70745%2C%20-73.94307%5D%2C%20%5B40.71203%2C%20-73.95993%5D%2C%20%5B40.75666%2C%20-73.76314%5D%2C%20%5B40.69594%2C%20-73.98375%5D%2C%20%5B40.71988%2C%20-73.95616%5D%2C%20%5B40.759%2C%20-73.9953%5D%2C%20%5B40.77016%2C%20-73.92316%5D%2C%20%5B40.69254%2C%20-73.91092%5D%2C%20%5B40.71572%2C%20-73.95574%5D%2C%20%5B40.75039%2C%20-74.00287%5D%2C%20%5B40.71435%2C%20-73.95073%5D%2C%20%5B40.83556%2C%20-73.94609%5D%2C%20%5B40.72439%2C%20-73.97767%5D%2C%20%5B40.7179%2C%20-73.96107%5D%2C%20%5B40.73997%2C%20-73.98789%5D%2C%20%5B40.77734%2C%20-73.9877%5D%2C%20%5B40.67453%2C%20-73.96759%5D%2C%20%5B40.78027%2C%20-73.90821%5D%2C%20%5B40.76078%2C%20-73.99076%5D%2C%20%5B40.80343%2C%20-73.93514%5D%2C%20%5B40.85914%2C%20-73.86979%5D%2C%20%5B40.69407%2C%20-73.94551%5D%2C%20%5B40.69377%2C%20-73.97009%5D%2C%20%5B40.77032%2C%20-73.95331%5D%2C%20%5B40.75612%2C%20-73.82517%5D%2C%20%5B40.73461%2C%20-74.00594%5D%2C%20%5B40.72578%2C%20-73.98448%5D%2C%20%5B40.81381%2C%20-73.94314%5D%2C%20%5B40.74527%2C%20-73.94629%5D%2C%20%5B40.71813%2C%20-73.9606%5D%2C%20%5B40.71606%2C%20-73.95527%5D%2C%20%5B40.64047%2C%20-73.96388%5D%2C%20%5B40.6953%2C%20-73.95832%5D%2C%20%5B40.79767%2C%20-73.96114%5D%2C%20%5B40.73652%2C%20-74.00876%5D%2C%20%5B40.7982%2C%20-73.97173%5D%2C%20%5B40.71247%2C%20-73.99873%5D%2C%20%5B40.68798%2C%20-73.97442%5D%2C%20%5B40.80461%2C%20-73.92276%5D%2C%20%5B40.68191%2C%20-73.95475%5D%2C%20%5B40.73364%2C%20-74.00539%5D%2C%20%5B40.73164%2C%20-74.00327%5D%2C%20%5B40.71502%2C%20-73.98192%5D%2C%20%5B40.74997%2C%20-73.9397%5D%2C%20%5B40.71188%2C%20-73.9608%5D%2C%20%5B40.68176%2C%20-73.914%5D%2C%20%5B40.73186%2C%20-74.00329%5D%2C%20%5B40.70719%2C%20-73.95228%5D%2C%20%5B40.71818%2C%20-73.98206%5D%2C%20%5B40.84448%2C%20-73.93978%5D%2C%20%5B40.72762%2C%20-73.98218%5D%2C%20%5B40.65545%2C%20-73.95781%5D%2C%20%5B40.82294%2C%20-73.94999%5D%2C%20%5B40.81915%2C%20-73.93964%5D%2C%20%5B40.71222%2C%20-73.95827%5D%2C%20%5B40.73403%2C%20-74.00298%5D%2C%20%5B40.67708%2C%20-73.96649%5D%2C%20%5B40.72232%2C%20-73.99343%5D%2C%20%5B40.73761%2C%20-74.00043%5D%2C%20%5B40.79863%2C%20-73.95292%5D%2C%20%5B40.77775%2C%20-73.98732%5D%2C%20%5B40.85082%2C%20-73.9378%5D%2C%20%5B40.72877%2C%20-73.98794%5D%2C%20%5B40.88757%2C%20-73.90522%5D%2C%20%5B40.76553%2C%20-73.96262%5D%2C%20%5B40.71703%2C%20-73.98612%5D%2C%20%5B40.72034%2C%20-73.95669%5D%2C%20%5B40.82169%2C%20-73.93882%5D%2C%20%5B40.77445%2C%20-73.98496%5D%2C%20%5B40.68356%2C%20-73.94042%5D%2C%20%5B40.73545%2C%20-73.9931%5D%2C%20%5B40.65954%2C%20-73.97805%5D%2C%20%5B40.65875%2C%20-73.9766%5D%2C%20%5B40.80118%2C%20-73.96783%5D%2C%20%5B40.8678%2C%20-73.92619%5D%2C%20%5B40.75351%2C%20-73.99762%5D%2C%20%5B40.65586%2C%20-73.95953%5D%2C%20%5B40.72381%2C%20-73.97896%5D%2C%20%5B40.77452%2C%20-73.90889%5D%2C%20%5B40.7666%2C%20-73.95903%5D%2C%20%5B40.70308%2C%20-73.92765%5D%2C%20%5B40.77043%2C%20-73.9515%5D%2C%20%5B40.66882%2C%20-73.98841%5D%2C%20%5B40.67759%2C%20-73.95432%5D%2C%20%5B40.70773%2C%20-73.9566%5D%2C%20%5B40.73493%2C%20-73.98655%5D%2C%20%5B40.68561%2C%20-73.92029%5D%2C%20%5B40.77483%2C%20-73.94674%5D%2C%20%5B40.82536%2C%20-73.94923%5D%2C%20%5B40.69075%2C%20-73.97192%5D%2C%20%5B40.7449%2C%20-73.97656%5D%2C%20%5B40.85262%2C%20-73.93821%5D%2C%20%5B40.67338%2C%20-73.96415%5D%2C%20%5B40.70538%2C%20-73.92946%5D%2C%20%5B40.68537%2C%20-73.97713%5D%2C%20%5B40.7176%2C%20-73.95234%5D%2C%20%5B40.71956%2C%20-73.98574%5D%2C%20%5B40.68015%2C%20-73.978%5D%2C%20%5B40.82974%2C%20-73.94193%5D%2C%20%5B40.78592%2C%20-73.97775%5D%2C%20%5B40.67504%2C%20-73.95273%5D%2C%20%5B40.72591%2C%20-73.99452%5D%2C%20%5B40.70747%2C%20-73.93879%5D%2C%20%5B40.71786%2C%20-73.99518%5D%2C%20%5B40.68631%2C%20-73.96802%5D%2C%20%5B40.83329%2C%20-73.93834%5D%2C%20%5B40.68216%2C%20-73.99504%5D%2C%20%5B40.68418%2C%20-73.98039%5D%2C%20%5B40.73159%2C%20-73.95048%5D%2C%20%5B40.76108%2C%20-73.9274%5D%2C%20%5B40.73698%2C%20-73.87763%5D%2C%20%5B40.73842%2C%20-73.87609%5D%2C%20%5B40.70876%2C%20-73.94971%5D%2C%20%5B40.71986%2C%20-73.95925%5D%2C%20%5B40.72721%2C%20-73.98411%5D%2C%20%5B40.83378%2C%20-73.94966%5D%2C%20%5B40.70947%2C%20-73.82922%5D%2C%20%5B40.76704%2C%20-73.98345%5D%2C%20%5B40.7119%2C%20-73.96031%5D%2C%20%5B40.78728%2C%20-73.94579%5D%2C%20%5B40.70281%2C%20-73.94328%5D%2C%20%5B40.69319%2C%20-73.96351%5D%2C%20%5B40.74117%2C%20-73.99517%5D%2C%20%5B40.80586%2C%20-73.94642%5D%2C%20%5B40.68515%2C%20-73.99055%5D%2C%20%5B40.73713%2C%20-74.00232%5D%2C%20%5B40.68194%2C%20-73.92757%5D%2C%20%5B40.68509%2C%20-73.93854%5D%2C%20%5B40.63547%2C%20-73.97417%5D%2C%20%5B40.67138%2C%20-73.97772%5D%2C%20%5B40.74082%2C%20-73.99581%5D%2C%20%5B40.68871%2C%20-73.97181%5D%2C%20%5B40.67228%2C%20-73.97248%5D%2C%20%5B40.71988%2C%20-73.98639%5D%2C%20%5B40.77171%2C%20-73.95042%5D%2C%20%5B40.72699%2C%20-73.97894%5D%2C%20%5B40.6916%2C%20-73.92294%5D%2C%20%5B40.73227%2C%20-74.00949%5D%2C%20%5B40.80139%2C%20-73.95433%5D%2C%20%5B40.74263%2C%20-73.92476%5D%2C%20%5B40.69764%2C%20-73.93084%5D%2C%20%5B40.85604%2C%20-73.93469%5D%2C%20%5B40.67309%2C%20-73.94799%5D%2C%20%5B40.72825%2C%20-74.00225%5D%2C%20%5B40.82513%2C%20-73.94617%5D%2C%20%5B40.7445%2C%20-73.97583%5D%2C%20%5B40.75979%2C%20-73.81016%5D%2C%20%5B40.76883%2C%20-73.95353%5D%2C%20%5B40.82258%2C%20-73.95418%5D%2C%20%5B40.82238%2C%20-73.95534%5D%2C%20%5B40.79106%2C%20-73.95058%5D%2C%20%5B40.82173%2C%20-73.95548%5D%2C%20%5B40.68443%2C%20-73.96337%5D%2C%20%5B40.82233%2C%20-73.95568%5D%2C%20%5B40.68615%2C%20-73.93095%5D%2C%20%5B40.73131%2C%20-73.98609%5D%2C%20%5B40.69413%2C%20-73.96389%5D%2C%20%5B40.72103%2C%20-73.94798%5D%2C%20%5B40.73319%2C%20-73.95623%5D%2C%20%5B40.72166%2C%20-73.94037%5D%2C%20%5B40.69379%2C%20-73.98525%5D%2C%20%5B40.67231%2C%20-73.96032%5D%2C%20%5B40.75284%2C%20-74.00138%5D%2C%20%5B40.81024%2C%20-73.94154%5D%2C%20%5B40.80997%2C%20-73.93992%5D%2C%20%5B40.72125%2C%20-73.99272%5D%2C%20%5B40.69763%2C%20-73.93102%5D%2C%20%5B40.71622%2C%20-73.96042%5D%2C%20%5B40.67507%2C%20-73.97792%5D%2C%20%5B40.76744%2C%20-73.96118%5D%2C%20%5B40.73336%2C%20-73.99836%5D%2C%20%5B40.67869%2C%20-73.99197%5D%2C%20%5B40.63132%2C%20-74.08799%5D%2C%20%5B40.80394%2C%20-73.9506%5D%2C%20%5B40.67828%2C%20-73.95646%5D%2C%20%5B40.68407%2C%20-73.93944%5D%2C%20%5B40.67919%2C%20-73.97191%5D%2C%20%5B40.73588%2C%20-73.99224%5D%2C%20%5B40.68334%2C%20-73.96704%5D%2C%20%5B40.66229%2C%20-73.96296%5D%2C%20%5B40.7349%2C%20-73.98549%5D%2C%20%5B40.6938%2C%20-73.94698%5D%2C%20%5B40.68673%2C%20-73.96252%5D%2C%20%5B40.67378%2C%20-73.96471%5D%2C%20%5B40.83783%2C%20-73.93832%5D%2C%20%5B40.62908%2C%20-73.95965%5D%2C%20%5B40.72632%2C%20-73.97907%5D%2C%20%5B40.77627%2C%20-73.98365%5D%2C%20%5B40.70738%2C%20-73.92213%5D%2C%20%5B40.77613%2C%20-73.94872%5D%2C%20%5B40.77837%2C%20-73.97964%5D%2C%20%5B40.85123%2C%20-73.93223%5D%2C%20%5B40.73184%2C%20-73.95802%5D%2C%20%5B40.71921%2C%20-73.99116%5D%2C%20%5B40.71699%2C%20-73.95817%5D%2C%20%5B40.74372%2C%20-74.00021%5D%2C%20%5B40.78417%2C%20-73.83875%5D%2C%20%5B40.77389%2C%20-73.951%5D%2C%20%5B40.71969%2C%20-74.00876%5D%2C%20%5B40.7225%2C%20-73.98267%5D%2C%20%5B40.69165%2C%20-73.95456%5D%2C%20%5B40.7529%2C%20-73.92985%5D%2C%20%5B40.66059%2C%20-73.99361%5D%2C%20%5B40.71733%2C%20-73.9531%5D%2C%20%5B40.67922%2C%20-73.96907%5D%2C%20%5B40.76188%2C%20-73.97193%5D%2C%20%5B40.72876%2C%20-73.98413%5D%2C%20%5B40.68062%2C%20-73.97042%5D%2C%20%5B40.73126%2C%20-74.00502%5D%2C%20%5B40.73075%2C%20-73.99265%5D%2C%20%5B40.73345%2C%20-73.98956%5D%2C%20%5B40.6763%2C%20-73.96528%5D%2C%20%5B40.70366%2C%20-73.9269%5D%2C%20%5B40.7466%2C%20-73.99219%5D%2C%20%5B40.74712%2C%20-73.99514%5D%2C%20%5B40.71892%2C%20-73.98627%5D%2C%20%5B40.71593%2C%20-73.99031%5D%2C%20%5B40.71541%2C%20-73.94464%5D%2C%20%5B40.77886%2C%20-73.98444%5D%2C%20%5B40.76194%2C%20-73.99346%5D%2C%20%5B40.75665%2C%20-73.92015%5D%2C%20%5B40.84714%2C%20-73.94172%5D%2C%20%5B40.76074%2C%20-73.80969%5D%2C%20%5B40.8129%2C%20-73.95213%5D%2C%20%5B40.70234%2C%20-73.92424%5D%2C%20%5B40.62961%2C%20-73.9572%5D%2C%20%5B40.73574%2C%20-74.00056%5D%2C%20%5B40.71312%2C%20-73.99033%5D%2C%20%5B40.69691%2C%20-73.96713%5D%2C%20%5B40.66251%2C%20-73.95374%5D%2C%20%5B40.72003%2C%20-73.98693%5D%2C%20%5B40.7141%2C%20-73.96477%5D%2C%20%5B40.70694%2C%20-73.95307%5D%2C%20%5B40.68941%2C%20-73.95247%5D%2C%20%5B40.7077%2C%20-73.92212%5D%2C%20%5B40.71275%2C%20-73.98682%5D%2C%20%5B40.78689%2C%20-73.97314%5D%2C%20%5B40.78429%2C%20-73.97815%5D%2C%20%5B40.7016%2C%20-73.91868%5D%2C%20%5B40.68196%2C%20-73.95168%5D%2C%20%5B40.64651%2C%20-73.97662%5D%2C%20%5B40.73031%2C%20-73.98426%5D%2C%20%5B40.76714%2C%20-73.95922%5D%2C%20%5B40.76%2C%20-73.81117%5D%2C%20%5B40.6593%2C%20-73.95686%5D%2C%20%5B40.76014%2C%20-73.81146%5D%2C%20%5B40.80712%2C%20-73.95316%5D%2C%20%5B40.68099%2C%20-73.97446%5D%2C%20%5B40.86585%2C%20-73.92693%5D%2C%20%5B40.67525%2C%20-73.9486%5D%2C%20%5B40.67771%2C%20-73.99428%5D%2C%20%5B40.73118%2C%20-74.0029%5D%2C%20%5B40.7106%2C%20-73.96532%5D%2C%20%5B40.77815%2C%20-73.95902%5D%2C%20%5B40.71427%2C%20-73.94671%5D%2C%20%5B40.71731%2C%20-73.95627%5D%2C%20%5B40.68646%2C%20-73.91313%5D%2C%20%5B40.73132%2C%20-73.99979%5D%2C%20%5B40.71171%2C%20-73.96694%5D%2C%20%5B40.84764%2C%20-73.93875%5D%2C%20%5B40.7704%2C%20-73.95024%5D%2C%20%5B40.85016%2C%20-73.93178%5D%2C%20%5B40.67434%2C%20-73.95728%5D%2C%20%5B40.66893%2C%20-73.99404%5D%2C%20%5B40.72977%2C%20-74.00164%5D%2C%20%5B40.76488%2C%20-73.9297%5D%2C%20%5B40.7123%2C%20-73.99946%5D%2C%20%5B40.6489%2C%20-73.96872%5D%2C%20%5B40.80925%2C%20-73.95541%5D%2C%20%5B40.72957%2C%20-73.98406%5D%2C%20%5B40.72034%2C%20-73.98585%5D%2C%20%5B40.79279%2C%20-73.97131%5D%2C%20%5B40.80845%2C%20-73.94435%5D%2C%20%5B40.6483%2C%20-73.9644%5D%2C%20%5B40.76616%2C%20-73.98411%5D%2C%20%5B40.67422%2C%20-73.98097%5D%2C%20%5B40.80215%2C%20-73.93889%5D%2C%20%5B40.71373%2C%20-73.94958%5D%2C%20%5B40.73818%2C%20-73.9977%5D%2C%20%5B40.84058%2C%20-73.91382%5D%2C%20%5B40.66958%2C%20-73.98998%5D%2C%20%5B40.79541%2C%20-73.94465%5D%2C%20%5B40.78844%2C%20-73.94951%5D%2C%20%5B40.68681%2C%20-73.97675%5D%2C%20%5B40.68707%2C%20-73.96571%5D%2C%20%5B40.85081%2C%20-73.93118%5D%2C%20%5B40.77366%2C%20-73.98574%5D%2C%20%5B40.64902%2C%20-74.00897%5D%2C%20%5B40.82719%2C%20-73.94484%5D%2C%20%5B40.82316%2C%20-73.94129%5D%2C%20%5B40.73404%2C%20-73.95737%5D%2C%20%5B40.68344%2C%20-73.92189%5D%2C%20%5B40.67813%2C%20-73.96355%5D%2C%20%5B40.68411%2C%20-73.92973%5D%2C%20%5B40.70933%2C%20-73.94141%5D%2C%20%5B40.82579%2C%20-73.94907%5D%2C%20%5B40.69208%2C%20-73.96525%5D%2C%20%5B40.6101%2C%20-73.99591%5D%2C%20%5B40.8032%2C%20-73.94004%5D%2C%20%5B40.732%2C%20-73.98759%5D%2C%20%5B40.65307%2C%20-73.95781%5D%2C%20%5B40.67121%2C%20-73.95534%5D%2C%20%5B40.68777%2C%20-73.91601%5D%2C%20%5B40.64534%2C%20-73.97189%5D%2C%20%5B40.68586%2C%20-73.95875%5D%2C%20%5B40.73746%2C%20-74.00686%5D%2C%20%5B40.81368%2C%20-73.95942%5D%2C%20%5B40.68598%2C%20-73.92677%5D%2C%20%5B40.71518%2C%20-73.94571%5D%2C%20%5B40.71335%2C%20-73.9496%5D%2C%20%5B40.82764%2C%20-73.93842%5D%2C%20%5B40.65514%2C%20-73.95956%5D%2C%20%5B40.70502%2C%20-73.95262%5D%2C%20%5B40.66033%2C%20-73.96212%5D%2C%20%5B40.76113%2C%20-73.98918%5D%2C%20%5B40.69132%2C%20-73.94205%5D%2C%20%5B40.69494%2C%20-73.96372%5D%2C%20%5B40.67996%2C%20-74.00101%5D%2C%20%5B40.78615%2C%20-73.98137%5D%2C%20%5B40.75088%2C%20-73.81029%5D%2C%20%5B40.7525%2C%20-73.81126%5D%2C%20%5B40.71437%2C%20-73.96054%5D%2C%20%5B40.69982%2C%20-73.91957%5D%2C%20%5B40.74791%2C%20-73.97334%5D%2C%20%5B40.734%2C%20-73.95474%5D%2C%20%5B40.78933%2C%20-73.94932%5D%2C%20%5B40.75374%2C%20-73.8924%5D%2C%20%5B40.68015%2C%20-73.96299%5D%2C%20%5B40.68252%2C%20-73.96664%5D%2C%20%5B40.82264%2C%20-73.94041%5D%2C%20%5B40.73084%2C%20-74.00431%5D%2C%20%5B40.68485%2C%20-73.93684%5D%2C%20%5B40.72668%2C%20-73.98179%5D%2C%20%5B40.74207%2C%20-73.99094%5D%2C%20%5B40.68194%2C%20-73.92896%5D%2C%20%5B40.71216%2C%20-73.96326%5D%2C%20%5B40.7686%2C%20-73.9201%5D%2C%20%5B40.82434%2C%20-73.93957%5D%2C%20%5B40.80706%2C%20-73.95403%5D%2C%20%5B40.73276%2C%20-74.00074%5D%2C%20%5B40.71156%2C%20-73.8091%5D%2C%20%5B40.68145%2C%20-73.95178%5D%2C%20%5B40.68753%2C%20-73.96002%5D%2C%20%5B40.66485%2C%20-73.98838%5D%2C%20%5B40.82124%2C%20-73.93838%5D%2C%20%5B40.82085%2C%20-73.94025%5D%2C%20%5B40.68496%2C%20-73.96111%5D%2C%20%5B40.73425%2C%20-73.95506%5D%2C%20%5B40.64388%2C%20-73.95279%5D%2C%20%5B40.79626%2C%20-73.96145%5D%2C%20%5B40.80776%2C%20-73.9654%5D%2C%20%5B40.72676%2C%20-73.95529%5D%2C%20%5B40.801%2C%20-73.94009%5D%2C%20%5B40.72784%2C%20-73.98486%5D%2C%20%5B40.6734%2C%20-73.97657%5D%2C%20%5B40.71078%2C%20-74.00995%5D%2C%20%5B40.723%2C%20-73.97861%5D%2C%20%5B40.69901%2C%20-73.93967%5D%2C%20%5B40.66414%2C%20-73.98457%5D%2C%20%5B40.72361%2C%20-73.97877%5D%2C%20%5B40.73356%2C%20-73.99876%5D%2C%20%5B40.73949%2C%20-73.99483%5D%2C%20%5B40.70159%2C%20-73.94346%5D%2C%20%5B40.67852%2C%20-73.97008%5D%2C%20%5B40.67665%2C%20-73.97925%5D%2C%20%5B40.74605%2C%20-73.99906%5D%2C%20%5B40.7642%2C%20-73.98677%5D%2C%20%5B40.67573%2C%20-73.99878%5D%2C%20%5B40.68863%2C%20-73.94294%5D%2C%20%5B40.84408%2C%20-73.93675%5D%2C%20%5B40.68336%2C%20-73.93648%5D%2C%20%5B40.71579%2C%20-73.9588%5D%2C%20%5B40.7886%2C%20-73.97553%5D%2C%20%5B40.78775%2C%20-73.98152%5D%2C%20%5B40.70715%2C%20-73.81468%5D%2C%20%5B40.68713%2C%20-73.93659%5D%2C%20%5B40.687%2C%20-73.93446%5D%2C%20%5B40.72615%2C%20-73.98781%5D%2C%20%5B40.75893%2C%20-73.99014%5D%2C%20%5B40.74435%2C%20-74.00038%5D%2C%20%5B40.73194%2C%20-73.98939%5D%2C%20%5B40.7189%2C%20-73.99654%5D%2C%20%5B40.74641%2C%20-73.94611%5D%2C%20%5B40.68618%2C%20-73.96603%5D%2C%20%5B40.75444%2C%20-73.83057%5D%2C%20%5B40.77543%2C%20-73.95499%5D%2C%20%5B40.70163%2C%20-73.98208%5D%2C%20%5B40.69958%2C%20-73.92006%5D%2C%20%5B40.74848%2C%20-73.97884%5D%2C%20%5B40.70434%2C%20-73.98989%5D%2C%20%5B40.69097%2C%20-73.97972%5D%2C%20%5B40.763%2C%20-73.98911%5D%2C%20%5B40.81378%2C%20-73.95353%5D%2C%20%5B40.70627%2C%20-73.92223%5D%2C%20%5B40.7078%2C%20-73.94827%5D%2C%20%5B40.81071%2C%20-73.94493%5D%2C%20%5B40.6943%2C%20-73.94538%5D%2C%20%5B40.67555%2C%20-73.95254%5D%2C%20%5B40.64942%2C%20-74.00749%5D%2C%20%5B40.67296%2C%20-73.9501%5D%2C%20%5B40.76662%2C%20-73.99302%5D%2C%20%5B40.67607%2C%20-73.95408%5D%2C%20%5B40.73194%2C%20-74.00189%5D%2C%20%5B40.81177%2C%20-73.95139%5D%2C%20%5B40.65908%2C%20-73.96125%5D%2C%20%5B40.70447%2C%20-73.98754%5D%2C%20%5B40.72836%2C%20-73.98163%5D%2C%20%5B40.77464%2C%20-73.95695%5D%2C%20%5B40.71684%2C%20-73.9441%5D%2C%20%5B40.6745%2C%20-73.99582%5D%2C%20%5B40.7099%2C%20-73.91509%5D%2C%20%5B40.72493%2C%20-74.00307%5D%2C%20%5B40.79531%2C%20-73.9333%5D%2C%20%5B40.73377%2C%20-74.00259%5D%2C%20%5B40.72256%2C%20-73.99767%5D%2C%20%5B40.67942%2C%20-73.97078%5D%2C%20%5B40.70424%2C%20-73.98597%5D%2C%20%5B40.7982%2C%20-73.96394%5D%2C%20%5B40.66167%2C%20-73.95098%5D%2C%20%5B40.85235%2C%20-73.78873%5D%2C%20%5B40.71765%2C%20-73.93999%5D%2C%20%5B40.71687%2C%20-73.99046%5D%2C%20%5B40.71081%2C%20-73.96121%5D%2C%20%5B40.72538%2C%20-74.00375%5D%2C%20%5B40.69437%2C%20-73.94519%5D%2C%20%5B40.69288%2C%20-73.90374%5D%2C%20%5B40.63463%2C%20-74.03621%5D%2C%20%5B40.72726%2C%20-73.97573%5D%2C%20%5B40.67501%2C%20-73.96651%5D%2C%20%5B40.71916%2C%20-73.95696%5D%2C%20%5B40.80667%2C%20-73.95562%5D%2C%20%5B40.79368%2C%20-73.96487%5D%2C%20%5B40.71149%2C%20-73.94504%5D%2C%20%5B40.69224%2C%20-73.99638%5D%2C%20%5B40.76356%2C%20-73.8885%5D%2C%20%5B40.82421%2C%20-73.93996%5D%2C%20%5B40.73055%2C%20-73.98875%5D%2C%20%5B40.69282%2C%20-73.92477%5D%2C%20%5B40.72792%2C%20-73.98507%5D%2C%20%5B40.69293%2C%20-73.99679%5D%2C%20%5B40.61806%2C%20-74.03195%5D%2C%20%5B40.7282%2C%20-73.98893%5D%2C%20%5B40.80014%2C%20-73.9637%5D%2C%20%5B40.73359%2C%20-74.00524%5D%2C%20%5B40.75751%2C%20-73.91678%5D%2C%20%5B40.76291%2C%20-73.91871%5D%2C%20%5B40.72658%2C%20-73.98907%5D%2C%20%5B40.82892%2C%20-73.94745%5D%2C%20%5B40.73331%2C%20-74.00471%5D%2C%20%5B40.81062%2C%20-73.96015%5D%2C%20%5B40.68859%2C%20-73.9729%5D%2C%20%5B40.80421%2C%20-73.94302%5D%2C%20%5B40.63508%2C%20-74.03628%5D%2C%20%5B40.70162%2C%20-73.99465%5D%2C%20%5B40.80626%2C%20-73.94009%5D%2C%20%5B40.76491%2C%20-73.9207%5D%2C%20%5B40.68556%2C%20-73.99779%5D%2C%20%5B40.74142%2C%20-73.8202%5D%2C%20%5B40.67682%2C%20-73.96586%5D%2C%20%5B40.80684%2C%20-73.94844%5D%2C%20%5B40.75136%2C%20-73.97076%5D%2C%20%5B40.79218%2C%20-73.95076%5D%2C%20%5B40.72399%2C%20-73.98134%5D%2C%20%5B40.72131%2C%20-73.99487%5D%2C%20%5B40.67359%2C%20-73.97434%5D%2C%20%5B40.8278%2C%20-73.94891%5D%2C%20%5B40.78729%2C%20-73.97439%5D%2C%20%5B40.7852%2C%20-73.9746%5D%2C%20%5B40.78558%2C%20-73.97251%5D%2C%20%5B40.73464%2C%20-74.00225%5D%2C%20%5B40.69248%2C%20-73.96983%5D%2C%20%5B40.78954%2C%20-73.97222%5D%2C%20%5B40.73506%2C%20-73.99728%5D%2C%20%5B40.76896%2C%20-73.95898%5D%2C%20%5B40.68364%2C%20-73.92638%5D%2C%20%5B40.7603%2C%20-73.91395%5D%2C%20%5B40.72602%2C%20-74.00318%5D%2C%20%5B40.71927%2C%20-74.00453%5D%2C%20%5B40.77896%2C%20-73.97849%5D%2C%20%5B40.73303%2C%20-74.00237%5D%2C%20%5B40.67319%2C%20-73.95987%5D%2C%20%5B40.68923%2C%20-73.91946%5D%2C%20%5B40.79307%2C%20-73.95138%5D%2C%20%5B40.76249%2C%20-73.96054%5D%2C%20%5B40.79962%2C%20-73.96523%5D%2C%20%5B40.66162%2C%20-73.97994%5D%2C%20%5B40.80132%2C%20-73.95568%5D%2C%20%5B40.81309%2C%20-73.95267%5D%2C%20%5B40.68204%2C%20-73.99249%5D%2C%20%5B40.70607%2C%20-73.935%5D%2C%20%5B40.76295%2C%20-73.92652%5D%2C%20%5B40.65915%2C%20-73.9601%5D%2C%20%5B40.67541%2C%20-73.9784%5D%2C%20%5B40.76777%2C%20-73.91109%5D%2C%20%5B40.68924%2C%20-73.9681%5D%2C%20%5B40.76777%2C%20-73.98932%5D%2C%20%5B40.68771%2C%20-73.96186%5D%2C%20%5B40.6627%2C%20-73.95875%5D%2C%20%5B40.72031%2C%20-73.9483%5D%2C%20%5B40.70798%2C%20-73.94263%5D%2C%20%5B40.69017%2C%20-73.95493%5D%2C%20%5B40.66974%2C%20-73.958%5D%2C%20%5B40.67515%2C%20-73.95435%5D%2C%20%5B40.72198%2C%20-73.98932%5D%2C%20%5B40.6787%2C%20-73.97065%5D%2C%20%5B40.82153%2C%20-73.95512%5D%2C%20%5B40.71238%2C%20-73.9379%5D%2C%20%5B40.77421%2C%20-73.9528%5D%2C%20%5B40.70538%2C%20-73.89448%5D%2C%20%5B40.74417%2C%20-73.94823%5D%2C%20%5B40.72538%2C%20-73.98351%5D%2C%20%5B40.67651%2C%20-73.98007%5D%2C%20%5B40.81906%2C%20-73.92806%5D%2C%20%5B40.72351%2C%20-73.98283%5D%2C%20%5B40.72944%2C%20-73.98645%5D%2C%20%5B40.72346%2C%20-73.97907%5D%2C%20%5B40.69872%2C%20-73.94635%5D%2C%20%5B40.69449%2C%20-73.91156%5D%2C%20%5B40.71132%2C%20-73.94493%5D%2C%20%5B40.64871%2C%20-74.00774%5D%2C%20%5B40.74583%2C%20-74.00363%5D%2C%20%5B40.80938%2C%20-73.94196%5D%2C%20%5B40.65743%2C%20-73.96155%5D%2C%20%5B40.68854%2C%20-73.95742%5D%2C%20%5B40.75537%2C%20-73.91648%5D%2C%20%5B40.77054%2C%20-73.95497%5D%2C%20%5B40.718%2C%20-73.96603%5D%2C%20%5B40.72091%2C%20-73.96124%5D%2C%20%5B40.75879%2C%20-73.9638%5D%2C%20%5B40.72008%2C%20-74.0043%5D%2C%20%5B40.6824%2C%20-73.93597%5D%2C%20%5B40.74398%2C%20-73.99624%5D%2C%20%5B40.82943%2C%20-73.94728%5D%2C%20%5B40.69235%2C%20-73.93836%5D%2C%20%5B40.75334%2C%20-73.81699%5D%2C%20%5B40.74112%2C%20-74.00177%5D%2C%20%5B40.8035%2C%20-73.94764%5D%2C%20%5B40.64745%2C%20-73.95606%5D%2C%20%5B40.71454%2C%20-73.9507%5D%2C%20%5B40.71797%2C%20-73.95508%5D%2C%20%5B40.77117%2C%20-73.90427%5D%2C%20%5B40.68753%2C%20-73.95851%5D%2C%20%5B40.81241%2C%20-73.94371%5D%2C%20%5B40.80384%2C%20-73.95419%5D%2C%20%5B40.71886%2C%20-73.98497%5D%2C%20%5B40.73323%2C%20-73.98224%5D%2C%20%5B40.79535%2C%20-73.93274%5D%2C%20%5B40.85933%2C%20-73.92863%5D%2C%20%5B40.70851%2C%20-73.949%5D%2C%20%5B40.64851%2C%20-73.94667%5D%2C%20%5B40.67881%2C%20-73.99379%5D%2C%20%5B40.77014%2C%20-73.96222%5D%2C%20%5B40.68554%2C%20-73.98924%5D%2C%20%5B40.7265%2C%20-73.99%5D%2C%20%5B40.62922%2C%20-74.13354%5D%2C%20%5B40.76463%2C%20-73.98112%5D%2C%20%5B40.7744%2C%20-73.95578%5D%2C%20%5B40.67418%2C%20-73.94661%5D%2C%20%5B40.79417%2C%20-73.94376%5D%2C%20%5B40.69935%2C%20-73.93713%5D%2C%20%5B40.67046%2C%20-73.94835%5D%2C%20%5B40.72046%2C%20-73.98773%5D%2C%20%5B40.7239%2C%20-73.97869%5D%2C%20%5B40.67414%2C%20-73.95667%5D%2C%20%5B40.75783%2C%20-73.96383%5D%2C%20%5B40.71273%2C%20-73.94399%5D%2C%20%5B40.72086%2C%20-73.99999%5D%2C%20%5B40.67151%2C%20-73.94885%5D%2C%20%5B40.825%2C%20-73.94132%5D%2C%20%5B40.74573%2C%20-73.99712%5D%2C%20%5B40.68304%2C%20-73.99819%5D%2C%20%5B40.6803%2C%20-73.96059%5D%2C%20%5B40.67685%2C%20-74.00581%5D%2C%20%5B40.79794%2C%20-73.93223%5D%2C%20%5B40.76359%2C%20-73.92531%5D%2C%20%5B40.74361%2C%20-73.91662%5D%2C%20%5B40.73807%2C%20-73.98187%5D%2C%20%5B40.73775%2C%20-73.98324%5D%2C%20%5B40.75959%2C%20-73.90835%5D%2C%20%5B40.71972%2C%20-73.99438%5D%2C%20%5B40.65475%2C%20-74.01211%5D%2C%20%5B40.75964%2C%20-73.98534%5D%2C%20%5B40.72428%2C%20-73.94472%5D%2C%20%5B40.73099%2C%20-73.98762%5D%2C%20%5B40.68532%2C%20-73.92429%5D%2C%20%5B40.72613%2C%20-73.93915%5D%2C%20%5B40.74877%2C%20-73.9994%5D%2C%20%5B40.74197%2C%20-73.99702%5D%2C%20%5B40.6536%2C%20-73.94883%5D%2C%20%5B40.83535%2C%20-73.94334%5D%2C%20%5B40.7017%2C%20-73.82316%5D%2C%20%5B40.66326%2C%20-73.98805%5D%2C%20%5B40.78859%2C%20-73.94715%5D%2C%20%5B40.69034%2C%20-73.95321%5D%2C%20%5B40.81102%2C%20-73.94562%5D%2C%20%5B40.73026%2C%20-73.95596%5D%2C%20%5B40.64699%2C%20-74.08151%5D%2C%20%5B40.80602%2C%20-73.95362%5D%2C%20%5B40.63612%2C%20-73.946%5D%2C%20%5B40.69305%2C%20-73.90398%5D%2C%20%5B40.78264%2C%20-73.97803%5D%2C%20%5B40.68754%2C%20-73.99284%5D%2C%20%5B40.83695%2C%20-73.94124%5D%2C%20%5B40.68779%2C%20-73.98517%5D%2C%20%5B40.68674%2C%20-73.93845%5D%2C%20%5B40.67271%2C%20-73.94551%5D%2C%20%5B40.74268%2C%20-73.97853%5D%2C%20%5B40.68185%2C%20-73.90655%5D%2C%20%5B40.7457%2C%20-73.99775%5D%2C%20%5B40.73708%2C%20-73.98455%5D%2C%20%5B40.74052%2C%20-73.97907%5D%2C%20%5B40.736%2C%20-73.92425%5D%2C%20%5B40.58408%2C%20-73.94122%5D%2C%20%5B40.66698%2C%20-73.98162%5D%2C%20%5B40.68068%2C%20-73.9535%5D%2C%20%5B40.71852%2C%20-73.95616%5D%2C%20%5B40.66773%2C%20-73.96144%5D%2C%20%5B40.80477%2C%20-73.9512%5D%2C%20%5B40.71744%2C%20-73.99718%5D%2C%20%5B40.72068%2C%20-73.99576%5D%2C%20%5B40.68545%2C%20-73.97572%5D%2C%20%5B40.688%2C%20-73.97745%5D%2C%20%5B40.77103%2C%20-73.89461%5D%2C%20%5B40.67771%2C%20-73.98152%5D%2C%20%5B40.68798%2C%20-73.93903%5D%2C%20%5B40.71353%2C%20-73.96216%5D%2C%20%5B40.72212%2C%20-73.99676%5D%2C%20%5B40.72541%2C%20-73.9567%5D%2C%20%5B40.70974%2C%20-73.93962%5D%2C%20%5B40.68316%2C%20-73.93906%5D%2C%20%5B40.83479%2C%20-73.94345%5D%2C%20%5B40.72065%2C%20-73.959%5D%2C%20%5B40.80815%2C%20-73.94325%5D%2C%20%5B40.72778%2C%20-73.98305%5D%2C%20%5B40.71928%2C%20-73.98993%5D%2C%20%5B40.66065%2C%20-73.98817%5D%2C%20%5B40.68769%2C%20-73.9749%5D%2C%20%5B40.64024%2C%20-73.96976%5D%2C%20%5B40.66842%2C%20-73.98659%5D%2C%20%5B40.82865%2C%20-73.94621%5D%2C%20%5B40.71446%2C%20-73.98833%5D%2C%20%5B40.6831%2C%20-73.94434%5D%2C%20%5B40.72271%2C%20-73.98478%5D%2C%20%5B40.82101%2C%20-73.94582%5D%2C%20%5B40.68767%2C%20-73.91261%5D%2C%20%5B40.67673%2C%20-73.96399%5D%2C%20%5B40.68312%2C%20-73.94082%5D%2C%20%5B40.80745%2C%20-73.94279%5D%2C%20%5B40.68034%2C%20-73.97321%5D%2C%20%5B40.78898%2C%20-73.97589%5D%2C%20%5B40.72855%2C%20-74.00136%5D%2C%20%5B40.74119%2C%20-74.00234%5D%2C%20%5B40.67659%2C%20-74.01551%5D%2C%20%5B40.72404%2C%20-73.99529%5D%2C%20%5B40.71756%2C%20-73.94839%5D%2C%20%5B40.78892%2C%20-73.97435%5D%2C%20%5B40.67678%2C%20-73.96692%5D%2C%20%5B40.69965%2C%20-73.79286%5D%2C%20%5B40.66582%2C%20-73.99349%5D%2C%20%5B40.77097%2C%20-73.98083%5D%2C%20%5B40.74057%2C%20-73.99771%5D%2C%20%5B40.67173%2C%20-73.98968%5D%2C%20%5B40.71666%2C%20-73.94552%5D%2C%20%5B40.74658%2C%20-73.98847%5D%2C%20%5B40.6866%2C%20-73.99123%5D%2C%20%5B40.72448%2C%20-73.94328%5D%2C%20%5B40.75274%2C%20-73.97026%5D%2C%20%5B40.73125%2C%20-73.98344%5D%2C%20%5B40.73614%2C%20-74.00634%5D%2C%20%5B40.79208%2C%20-73.96482%5D%2C%20%5B40.73032%2C%20-73.98469%5D%2C%20%5B40.77755%2C%20-73.90599%5D%2C%20%5B40.80421%2C%20-73.94037%5D%2C%20%5B40.68018%2C%20-73.94839%5D%2C%20%5B40.83307%2C%20-73.93957%5D%2C%20%5B40.79921%2C%20-73.93657%5D%2C%20%5B40.68247%2C%20-73.97837%5D%2C%20%5B40.68798%2C%20-73.97182%5D%2C%20%5B40.7252%2C%20-73.98261%5D%2C%20%5B40.80815%2C%20-73.96779%5D%2C%20%5B40.73369%2C%20-73.95854%5D%2C%20%5B40.80449%2C%20-73.95687%5D%2C%20%5B40.77068%2C%20-73.95867%5D%2C%20%5B40.68675%2C%20-73.97713%5D%2C%20%5B40.68683%2C%20-73.92922%5D%2C%20%5B40.72845%2C%20-73.98598%5D%2C%20%5B40.72897%2C%20-73.95132%5D%2C%20%5B40.63381%2C%20-73.9714%5D%2C%20%5B40.71813%2C%20-73.95981%5D%2C%20%5B40.7948%2C%20-73.94835%5D%2C%20%5B40.73804%2C%20-74.00416%5D%2C%20%5B40.79025%2C%20-73.9488%5D%2C%20%5B40.74239%2C%20-73.92213%5D%2C%20%5B40.78571%2C%20-73.97149%5D%2C%20%5B40.69814%2C%20-73.92996%5D%2C%20%5B40.84002%2C%20-73.9385%5D%2C%20%5B40.8532%2C%20-73.93225%5D%2C%20%5B40.73135%2C%20-73.95489%5D%2C%20%5B40.69776%2C%20-73.90939%5D%2C%20%5B40.72011%2C%20-73.99468%5D%2C%20%5B40.7593%2C%20-73.99143%5D%2C%20%5B40.7302%2C%20-74.00165%5D%2C%20%5B40.63641%2C%20-73.96712%5D%2C%20%5B40.74568%2C%20-73.98321%5D%2C%20%5B40.68177%2C%20-73.9389%5D%2C%20%5B40.7252%2C%20-74.00279%5D%2C%20%5B40.71374%2C%20-73.94642%5D%2C%20%5B40.74542%2C%20-73.98205%5D%2C%20%5B40.64298%2C%20-73.89035%5D%2C%20%5B40.8506%2C%20-73.94023%5D%2C%20%5B40.80393%2C%20-73.94046%5D%2C%20%5B40.8004%2C%20-73.95645%5D%2C%20%5B40.71646%2C%20-73.97656%5D%2C%20%5B40.76841%2C%20-73.95213%5D%2C%20%5B40.74652%2C%20-74.00089%5D%2C%20%5B40.76636%2C%20-73.9855%5D%2C%20%5B40.64513%2C%20-73.94944%5D%2C%20%5B40.67839%2C%20-73.96623%5D%2C%20%5B40.74984%2C%20-73.91834%5D%2C%20%5B40.73984%2C%20-74.00187%5D%2C%20%5B40.77938%2C%20-73.98721%5D%2C%20%5B40.79631%2C%20-73.96152%5D%2C%20%5B40.63719%2C%20-74.03489%5D%2C%20%5B40.78943%2C%20-73.94726%5D%2C%20%5B40.70823%2C%20-73.89925%5D%2C%20%5B40.80904%2C%20-73.93037%5D%2C%20%5B40.76161%2C%20-73.99452%5D%2C%20%5B40.71976%2C%20-74.00571%5D%2C%20%5B40.76797%2C%20-73.92858%5D%2C%20%5B40.57519%2C%20-73.95468%5D%2C%20%5B40.76703%2C%20-73.95413%5D%2C%20%5B40.71166%2C%20-73.9972%5D%2C%20%5B40.68647%2C%20-73.95909%5D%2C%20%5B40.65176%2C%20-73.93452%5D%2C%20%5B40.83448%2C%20-73.94476%5D%2C%20%5B40.69258%2C%20-73.96649%5D%2C%20%5B40.75962%2C%20-73.92176%5D%2C%20%5B40.67463%2C%20-73.91811%5D%2C%20%5B40.73138%2C%20-73.98807%5D%2C%20%5B40.69486%2C%20-73.97132%5D%2C%20%5B40.6672%2C%20-73.98986%5D%2C%20%5B40.72499%2C%20-73.98127%5D%2C%20%5B40.72434%2C%20-73.97715%5D%2C%20%5B40.68272%2C%20-73.92885%5D%2C%20%5B40.77147%2C%20-73.9166%5D%2C%20%5B40.75099%2C%20-73.96994%5D%2C%20%5B40.85121%2C%20-73.93734%5D%2C%20%5B40.78806%2C%20-73.97969%5D%2C%20%5B40.76247%2C%20-73.99294%5D%2C%20%5B40.82393%2C%20-73.95308%5D%2C%20%5B40.59204%2C%20-73.78665%5D%2C%20%5B40.67394%2C%20-73.95951%5D%2C%20%5B40.71317%2C%20-73.94851%5D%2C%20%5B40.71024%2C%20-73.9517%5D%2C%20%5B40.70653%2C%20-73.9462%5D%2C%20%5B40.69414%2C%20-73.82538%5D%2C%20%5B40.79293%2C%20-73.94048%5D%2C%20%5B40.8035%2C%20-73.94041%5D%2C%20%5B40.74389%2C%20-73.99159%5D%2C%20%5B40.70382%2C%20-73.73955%5D%2C%20%5B40.71908%2C%20-74.00546%5D%2C%20%5B40.69122%2C%20-73.95648%5D%2C%20%5B40.77546%2C%20-73.91571%5D%2C%20%5B40.72992%2C%20-73.95628%5D%2C%20%5B40.69652%2C%20-73.93548%5D%2C%20%5B40.71333%2C%20-73.96605%5D%2C%20%5B40.71704%2C%20-73.95789%5D%2C%20%5B40.68764%2C%20-73.97545%5D%2C%20%5B40.67322%2C%20-73.95847%5D%2C%20%5B40.81691%2C%20-73.94251%5D%2C%20%5B40.76168%2C%20-73.9949%5D%2C%20%5B40.71038%2C%20-73.96299%5D%2C%20%5B40.78104%2C%20-73.94916%5D%2C%20%5B40.8291%2C%20-73.94816%5D%2C%20%5B40.68185%2C%20-73.94108%5D%2C%20%5B40.66521%2C%20-73.95427%5D%2C%20%5B40.6412%2C%20-73.9786%5D%2C%20%5B40.69107%2C%20-73.91995%5D%2C%20%5B40.80545%2C%20-73.95563%5D%2C%20%5B40.68287%2C%20-73.87295%5D%2C%20%5B40.69822%2C%20-73.93517%5D%2C%20%5B40.69324%2C%20-73.93217%5D%2C%20%5B40.7084%2C%20-73.94153%5D%2C%20%5B40.67321%2C%20-73.96574%5D%2C%20%5B40.68065%2C%20-73.95154%5D%2C%20%5B40.6458%2C%20-73.97097%5D%2C%20%5B40.7149%2C%20-73.93983%5D%2C%20%5B40.82427%2C%20-73.94428%5D%2C%20%5B40.77244%2C%20-73.95206%5D%2C%20%5B40.78323%2C%20-73.98105%5D%2C%20%5B40.76398%2C%20-73.9589%5D%2C%20%5B40.67157%2C%20-73.9852%5D%2C%20%5B40.80707%2C%20-73.94884%5D%2C%20%5B40.74119%2C%20-73.99168%5D%2C%20%5B40.66134%2C%20-73.98844%5D%2C%20%5B40.81388%2C%20-73.95105%5D%2C%20%5B40.68388%2C%20-73.95019%5D%2C%20%5B40.65994%2C%20-73.95892%5D%2C%20%5B40.74984%2C%20-73.99482%5D%2C%20%5B40.78815%2C%20-73.9737%5D%2C%20%5B40.68445%2C%20-73.93785%5D%2C%20%5B40.74331%2C%20-73.98351%5D%2C%20%5B40.68201%2C%20-73.95012%5D%2C%20%5B40.68843%2C%20-73.96239%5D%2C%20%5B40.68919%2C%20-73.95399%5D%2C%20%5B40.70518%2C%20-73.89133%5D%2C%20%5B40.7084%2C%20-73.92642%5D%2C%20%5B40.69585%2C%20-73.9446%5D%2C%20%5B40.6824%2C%20-73.95039%5D%2C%20%5B40.70117%2C%20-73.99147%5D%2C%20%5B40.70971%2C%20-73.95621%5D%2C%20%5B40.65641%2C%20-73.97937%5D%2C%20%5B40.81291%2C%20-73.90772%5D%2C%20%5B40.66886%2C%20-73.95412%5D%2C%20%5B40.71737%2C%20-73.96396%5D%2C%20%5B40.78747%2C%20-73.95276%5D%2C%20%5B40.7216%2C%20-73.98204%5D%2C%20%5B40.70735%2C%20-74.00971%5D%2C%20%5B40.70794%2C%20-73.96077%5D%2C%20%5B40.68013%2C%20-73.99397%5D%2C%20%5B40.67731%2C%20-73.96402%5D%2C%20%5B40.70946%2C%20-74.01235%5D%2C%20%5B40.7191%2C%20-73.98866%5D%2C%20%5B40.71787%2C%20-73.95585%5D%2C%20%5B40.66812%2C%20-73.99022%5D%2C%20%5B40.71634%2C%20-73.99031%5D%2C%20%5B40.73104%2C%20-73.99957%5D%2C%20%5B40.68322%2C%20-73.95085%5D%2C%20%5B40.72948%2C%20-73.99957%5D%2C%20%5B40.7433%2C%20-73.99832%5D%2C%20%5B40.7132%2C%20-73.96798%5D%2C%20%5B40.79475%2C%20-73.976%5D%2C%20%5B40.70894%2C%20-73.94135%5D%2C%20%5B40.73532%2C%20-74.00448%5D%2C%20%5B40.69424%2C%20-73.99313%5D%2C%20%5B40.76788%2C%20-73.92334%5D%2C%20%5B40.68846%2C%20-73.97567%5D%2C%20%5B40.73305%2C%20-74.00412%5D%2C%20%5B40.84346%2C%20-73.94471%5D%2C%20%5B40.73384%2C%20-74.00462%5D%2C%20%5B40.80777%2C%20-73.96703%5D%2C%20%5B40.75728%2C%20-73.97152%5D%2C%20%5B40.70706%2C%20-73.95071%5D%2C%20%5B40.68809%2C%20-73.97578%5D%2C%20%5B40.64342%2C%20-73.97851%5D%2C%20%5B40.72098%2C%20-73.99869%5D%2C%20%5B40.82612%2C%20-73.95216%5D%2C%20%5B40.72805%2C%20-73.99871%5D%2C%20%5B40.73227%2C%20-73.98451%5D%2C%20%5B40.80274%2C%20-73.96459%5D%2C%20%5B40.69582%2C%20-73.94989%5D%2C%20%5B40.76248%2C%20-73.98597%5D%2C%20%5B40.67396%2C%20-73.96083%5D%2C%20%5B40.68799%2C%20-73.91677%5D%2C%20%5B40.68371%2C%20-73.96461%5D%2C%20%5B40.67782%2C%20-73.95386%5D%2C%20%5B40.72353%2C%20-73.99059%5D%2C%20%5B40.65833%2C%20-73.94819%5D%2C%20%5B40.71063%2C%20-73.96774%5D%2C%20%5B40.68325%2C%20-73.94975%5D%2C%20%5B40.68645%2C%20-73.96587%5D%2C%20%5B40.65393%2C%20-73.95845%5D%2C%20%5B40.77444%2C%20-73.95908%5D%2C%20%5B40.6844%2C%20-73.9489%5D%2C%20%5B40.72188%2C%20-73.9816%5D%2C%20%5B40.69081%2C%20-73.95627%5D%2C%20%5B40.76062%2C%20-73.9175%5D%2C%20%5B40.74265%2C%20-73.89781%5D%2C%20%5B40.85704%2C%20-73.93789%5D%2C%20%5B40.85677%2C%20-73.93727%5D%2C%20%5B40.67915%2C%20-73.97125%5D%2C%20%5B40.71058%2C%20-73.96243%5D%2C%20%5B40.74019%2C%20-73.98115%5D%2C%20%5B40.67475%2C%20-73.9465%5D%2C%20%5B40.66701%2C%20-73.98703%5D%2C%20%5B40.76592%2C%20-73.93428%5D%2C%20%5B40.65335%2C%20-73.96257%5D%2C%20%5B40.71925%2C%20-73.99123%5D%2C%20%5B40.71571%2C%20-73.95813%5D%2C%20%5B40.71276%2C%20-73.95022%5D%2C%20%5B40.70392%2C%20-73.93635%5D%2C%20%5B40.76417%2C%20-73.97704%5D%2C%20%5B40.69811%2C%20-73.95557%5D%2C%20%5B40.72512%2C%20-73.73986%5D%2C%20%5B40.73896%2C%20-74.00522%5D%2C%20%5B40.6838%2C%20-73.99849%5D%2C%20%5B40.71833%2C%20-73.99826%5D%2C%20%5B40.71657%2C%20-73.9597%5D%2C%20%5B40.68243%2C%20-73.95167%5D%2C%20%5B40.74913%2C%20-73.99575%5D%2C%20%5B40.75032%2C%20-73.99676%5D%2C%20%5B40.73981%2C%20-74.0016%5D%2C%20%5B40.68608%2C%20-73.93478%5D%2C%20%5B40.86446%2C%20-73.92694%5D%2C%20%5B40.76934%2C%20-73.9863%5D%2C%20%5B40.77207%2C%20-73.95923%5D%2C%20%5B40.70816%2C%20-73.93931%5D%2C%20%5B40.82343%2C%20-73.94507%5D%2C%20%5B40.67275%2C%20-73.95144%5D%2C%20%5B40.71652%2C%20-73.94309%5D%2C%20%5B40.69774%2C%20-73.97076%5D%2C%20%5B40.88166%2C%20-73.91103%5D%2C%20%5B40.80861%2C%20-73.94574%5D%2C%20%5B40.71101%2C%20-73.95164%5D%2C%20%5B40.69376%2C%20-73.93776%5D%2C%20%5B40.80862%2C%20-73.94516%5D%2C%20%5B40.67421%2C%20-73.9504%5D%2C%20%5B40.80887%2C%20-73.94756%5D%2C%20%5B40.80998%2C%20-73.95898%5D%2C%20%5B40.71449%2C%20-73.95905%5D%2C%20%5B40.68208%2C%20-73.93115%5D%2C%20%5B40.64734%2C%20-73.97334%5D%2C%20%5B40.74318%2C%20-73.95108%5D%2C%20%5B40.76178%2C%20-73.96713%5D%2C%20%5B40.72685%2C%20-73.97874%5D%2C%20%5B40.68842%2C%20-73.97781%5D%2C%20%5B40.67927%2C%20-73.94252%5D%2C%20%5B40.72631%2C%20-73.99387%5D%2C%20%5B40.6842%2C%20-73.9177%5D%2C%20%5B40.72758%2C%20-73.97762%5D%2C%20%5B40.75639%2C%20-73.96558%5D%2C%20%5B40.67738%2C%20-73.96509%5D%2C%20%5B40.67274%2C%20-73.97339%5D%2C%20%5B40.73432%2C%20-74.00306%5D%2C%20%5B40.68822%2C%20-73.8759%5D%2C%20%5B40.8266%2C%20-73.94443%5D%2C%20%5B40.66945%2C%20-73.98157%5D%2C%20%5B40.72122%2C%20-73.99395%5D%2C%20%5B40.71327%2C%20-73.93979%5D%2C%20%5B40.69074%2C%20-73.96619%5D%2C%20%5B40.72411%2C%20-73.99865%5D%2C%20%5B40.76175%2C%20-73.95012%5D%2C%20%5B40.73268%2C%20-74.00314%5D%2C%20%5B40.64895%2C%20-73.94838%5D%2C%20%5B40.833%2C%20-73.93806%5D%2C%20%5B40.7041%2C%20-73.92418%5D%2C%20%5B40.71668%2C%20-73.94083%5D%2C%20%5B40.72383%2C%20-73.9829%5D%2C%20%5B40.79801%2C%20-73.97045%5D%2C%20%5B40.74572%2C%20-73.99637%5D%2C%20%5B40.68732%2C%20-73.93004%5D%2C%20%5B40.76723%2C%20-73.9551%5D%2C%20%5B40.72466%2C%20-74.0042%5D%2C%20%5B40.68298%2C%20-73.99171%5D%2C%20%5B40.76977%2C%20-73.98638%5D%2C%20%5B40.72456%2C%20-73.94343%5D%2C%20%5B40.69731%2C%20-73.92417%5D%2C%20%5B40.8469%2C%20-73.94522%5D%2C%20%5B40.67071%2C%20-73.94752%5D%2C%20%5B40.68695%2C%20-73.92364%5D%2C%20%5B40.72756%2C%20-73.9423%5D%2C%20%5B40.6775%2C%20-73.96509%5D%2C%20%5B40.68996%2C%20-73.97855%5D%2C%20%5B40.72352%2C%20-73.99498%5D%2C%20%5B40.62347%2C%20-74.0359%5D%2C%20%5B40.76893%2C%20-73.95967%5D%2C%20%5B40.80684%2C%20-73.96404%5D%2C%20%5B40.72991%2C%20-73.95208%5D%2C%20%5B40.69243%2C%20-73.94547%5D%2C%20%5B40.72463%2C%20-73.98938%5D%2C%20%5B40.74342%2C%20-73.92635%5D%2C%20%5B40.67611%2C%20-74.01635%5D%2C%20%5B40.63947%2C%20-74.01888%5D%2C%20%5B40.69916%2C%20-73.92219%5D%2C%20%5B40.82036%2C%20-73.95589%5D%2C%20%5B40.72587%2C%20-74.00186%5D%2C%20%5B40.69063%2C%20-73.94534%5D%2C%20%5B40.6918%2C%20-73.94673%5D%2C%20%5B40.70759%2C%20-73.92678%5D%2C%20%5B40.68444%2C%20-73.94201%5D%2C%20%5B40.69648%2C%20-73.98261%5D%2C%20%5B40.74206%2C%20-73.99499%5D%2C%20%5B40.72347%2C%20-74.00488%5D%2C%20%5B40.79813%2C%20-73.93132%5D%2C%20%5B40.8392%2C%20-73.94216%5D%2C%20%5B40.73078%2C%20-74.00282%5D%2C%20%5B40.67317%2C%20-73.97676%5D%2C%20%5B40.73721%2C%20-74.00973%5D%2C%20%5B40.71419%2C%20-73.95042%5D%2C%20%5B40.74449%2C%20-73.95201%5D%2C%20%5B40.74036%2C%20-74.00138%5D%2C%20%5B40.65671%2C%20-73.9622%5D%2C%20%5B40.64674%2C%20-74.01043%5D%2C%20%5B40.71406%2C%20-73.94965%5D%2C%20%5B40.6937%2C%20-73.93104%5D%2C%20%5B40.72418%2C%20-73.98283%5D%2C%20%5B40.68584%2C%20-73.9263%5D%2C%20%5B40.76781%2C%20-73.92684%5D%2C%20%5B40.71385%2C%20-73.93861%5D%2C%20%5B40.63899%2C%20-73.95177%5D%2C%20%5B40.66453%2C%20-73.97912%5D%2C%20%5B40.76924%2C%20-73.91776%5D%2C%20%5B40.72998%2C%20-73.99999%5D%2C%20%5B40.71362%2C%20-73.93561%5D%2C%20%5B40.768%2C%20-73.98695%5D%2C%20%5B40.86457%2C%20-73.92749%5D%2C%20%5B40.68714%2C%20-73.95775%5D%2C%20%5B40.63427%2C%20-73.95248%5D%2C%20%5B40.78622%2C%20-73.97586%5D%2C%20%5B40.73556%2C%20-74.00903%5D%2C%20%5B40.71444%2C%20-73.98348%5D%2C%20%5B40.82407%2C%20-73.94434%5D%2C%20%5B40.68238%2C%20-73.93795%5D%2C%20%5B40.81623%2C%20-73.94907%5D%2C%20%5B40.68669%2C%20-73.91897%5D%2C%20%5B40.67427%2C%20-73.95042%5D%2C%20%5B40.76391%2C%20-73.99225%5D%2C%20%5B40.67947%2C%20-73.99709%5D%2C%20%5B40.70444%2C%20-73.92005%5D%2C%20%5B40.7262%2C%20-73.97913%5D%2C%20%5B40.70823%2C%20-73.94405%5D%2C%20%5B40.7223%2C%20-73.9821%5D%2C%20%5B40.72193%2C%20-73.99379%5D%2C%20%5B40.68665%2C%20-73.93293%5D%2C%20%5B40.64965%2C%20-73.96154%5D%2C%20%5B40.73193%2C%20-73.74481%5D%2C%20%5B40.69979%2C%20-73.92078%5D%2C%20%5B40.8057%2C%20-73.95826%5D%2C%20%5B40.73458%2C%20-74.00492%5D%2C%20%5B40.80028%2C%20-73.9618%5D%2C%20%5B40.67265%2C%20-73.9247%5D%2C%20%5B40.72638%2C%20-73.85852%5D%2C%20%5B40.72732%2C%20-73.94076%5D%2C%20%5B40.80759%2C%20-73.93839%5D%2C%20%5B40.64187%2C%20-73.9586%5D%2C%20%5B40.6762%2C%20-73.96671%5D%2C%20%5B40.67471%2C%20-73.94571%5D%2C%20%5B40.76582%2C%20-73.99468%5D%2C%20%5B40.80533%2C%20-73.94665%5D%2C%20%5B40.6891%2C%20-73.7733%5D%2C%20%5B40.69045%2C%20-73.77467%5D%2C%20%5B40.76199%2C%20-73.98627%5D%2C%20%5B40.70901%2C%20-73.95291%5D%2C%20%5B40.69301%2C%20-73.94551%5D%2C%20%5B40.71915%2C%20-73.94061%5D%2C%20%5B40.81384%2C%20-73.93973%5D%2C%20%5B40.71867%2C%20-73.9557%5D%2C%20%5B40.73695%2C%20-74.00572%5D%2C%20%5B40.77864%2C%20-73.98437%5D%2C%20%5B40.69077%2C%20-73.95745%5D%2C%20%5B40.74632%2C%20-73.94799%5D%2C%20%5B40.68872%2C%20-73.77373%5D%2C%20%5B40.76035%2C%20-73.98026%5D%2C%20%5B40.69054%2C%20-73.77306%5D%2C%20%5B40.71215%2C%20-73.95637%5D%2C%20%5B40.72247%2C%20-73.97947%5D%2C%20%5B40.71608%2C%20-73.98962%5D%2C%20%5B40.74234%2C%20-73.92579%5D%2C%20%5B40.68786%2C%20-73.91722%5D%2C%20%5B40.7703%2C%20-73.93306%5D%2C%20%5B40.76084%2C%20-73.96908%5D%2C%20%5B40.7245%2C%20-73.99419%5D%2C%20%5B40.69332%2C%20-73.96543%5D%2C%20%5B40.75029%2C%20-73.99556%5D%2C%20%5B40.71501%2C%20-73.98061%5D%2C%20%5B40.75028%2C%20-73.99533%5D%2C%20%5B40.70952%2C%20-73.95078%5D%2C%20%5B40.68007%2C%20-73.96334%5D%2C%20%5B40.71862%2C%20-73.99154%5D%2C%20%5B40.68505%2C%20-73.8718%5D%2C%20%5B40.6862%2C%20-73.97184%5D%2C%20%5B40.80427%2C%20-73.95404%5D%2C%20%5B40.7204%2C%20-73.99042%5D%2C%20%5B40.72267%2C%20-73.94362%5D%2C%20%5B40.67838%2C%20-73.95549%5D%2C%20%5B40.70582%2C%20-74.00888%5D%2C%20%5B40.80011%2C%20-73.9133%5D%2C%20%5B40.6747%2C%20-73.97947%5D%2C%20%5B40.72822%2C%20-74.00429%5D%2C%20%5B40.68411%2C%20-73.95169%5D%2C%20%5B40.71202%2C%20-73.96602%5D%2C%20%5B40.71471%2C%20-73.94045%5D%2C%20%5B40.82124%2C%20-73.94973%5D%2C%20%5B40.74776%2C%20-73.97335%5D%2C%20%5B40.66405%2C%20-73.9923%5D%2C%20%5B40.67171%2C%20-73.98079%5D%2C%20%5B40.80108%2C%20-73.94346%5D%2C%20%5B40.77006%2C%20-73.95441%5D%2C%20%5B40.7057%2C%20-73.93836%5D%2C%20%5B40.65936%2C%20-73.95139%5D%2C%20%5B40.70121%2C%20-73.91883%5D%2C%20%5B40.71804%2C%20-73.99147%5D%2C%20%5B40.66021%2C%20-73.96107%5D%2C%20%5B40.69197%2C%20-73.97218%5D%2C%20%5B40.68639%2C%20-73.9624%5D%2C%20%5B40.6882%2C%20-73.94645%5D%2C%20%5B40.73051%2C%20-73.99518%5D%2C%20%5B40.71%2C%20-73.9523%5D%2C%20%5B40.69336%2C%20-73.94678%5D%2C%20%5B40.69289%2C%20-73.94356%5D%2C%20%5B40.63591%2C%20-73.90941%5D%2C%20%5B40.68084%2C%20-73.92804%5D%2C%20%5B40.62666%2C%20-73.96094%5D%2C%20%5B40.68329%2C%20-73.95111%5D%2C%20%5B40.71041%2C%20-73.93847%5D%2C%20%5B40.74461%2C%20-74.00172%5D%2C%20%5B40.72686%2C%20-73.94177%5D%2C%20%5B40.69399%2C%20-73.93135%5D%2C%20%5B40.76387%2C%20-73.92593%5D%2C%20%5B40.85652%2C%20-73.92975%5D%2C%20%5B40.66751%2C%20-73.95867%5D%2C%20%5B40.79004%2C%20-73.94846%5D%2C%20%5B40.73988%2C%20-74.0036%5D%2C%20%5B40.70919%2C%20-73.95012%5D%2C%20%5B40.71908%2C%20-73.99976%5D%2C%20%5B40.78357%2C%20-73.97268%5D%2C%20%5B40.63863%2C%20-73.95729%5D%2C%20%5B40.58426%2C%20-73.95949%5D%2C%20%5B40.68249%2C%20-73.97139%5D%2C%20%5B40.72307%2C%20-73.97911%5D%2C%20%5B40.71938%2C%20-73.95136%5D%2C%20%5B40.6839%2C%20-73.95042%5D%2C%20%5B40.66448%2C%20-73.98695%5D%2C%20%5B40.77448%2C%20-73.90907%5D%2C%20%5B40.75431%2C%20-73.83131%5D%2C%20%5B40.8033%2C%20-73.95008%5D%2C%20%5B40.72317%2C%20-73.9929%5D%2C%20%5B40.75676%2C%20-73.93463%5D%2C%20%5B40.7282%2C%20-73.98067%5D%2C%20%5B40.68864%2C%20-73.9213%5D%2C%20%5B40.8061%2C%20-73.9662%5D%2C%20%5B40.78981%2C%20-73.97518%5D%2C%20%5B40.7133%2C%20-73.94602%5D%2C%20%5B40.72411%2C%20-73.99372%5D%2C%20%5B40.71171%2C%20-73.96101%5D%2C%20%5B40.78024%2C%20-73.97942%5D%2C%20%5B40.64361%2C%20-73.96821%5D%2C%20%5B40.72915%2C%20-73.98565%5D%2C%20%5B40.74409%2C%20-73.89864%5D%2C%20%5B40.72853%2C%20-73.98619%5D%2C%20%5B40.78808%2C%20-73.9754%5D%2C%20%5B40.68585%2C%20-73.90686%5D%2C%20%5B40.80355%2C%20-73.95227%5D%2C%20%5B40.72887%2C%20-73.95163%5D%2C%20%5B40.75909%2C%20-73.93217%5D%2C%20%5B40.77787%2C%20-73.91472%5D%2C%20%5B40.72545%2C%20-73.99492%5D%2C%20%5B40.68034%2C%20-73.9615%5D%2C%20%5B40.73078%2C%20-74.0104%5D%2C%20%5B40.79255%2C%20-73.93842%5D%2C%20%5B40.62733%2C%20-73.96102%5D%2C%20%5B40.73732%2C%20-73.90168%5D%2C%20%5B40.74033%2C%20-73.89921%5D%2C%20%5B40.64919%2C%20-73.96143%5D%2C%20%5B40.82453%2C%20-73.94923%5D%2C%20%5B40.73494%2C%20-73.98751%5D%2C%20%5B40.71702%2C%20-73.99566%5D%2C%20%5B40.70951%2C%20-73.96262%5D%2C%20%5B40.76142%2C%20-73.96086%5D%2C%20%5B40.71188%2C%20-73.95155%5D%2C%20%5B40.73158%2C%20-73.99254%5D%2C%20%5B40.83399%2C%20-73.94474%5D%2C%20%5B40.76792%2C%20-73.92228%5D%2C%20%5B40.62947%2C%20-74.13378%5D%2C%20%5B40.73254%2C%20-74.00467%5D%2C%20%5B40.7529%2C%20-73.97094%5D%2C%20%5B40.72694%2C%20-73.98304%5D%2C%20%5B40.69015%2C%20-73.77472%5D%2C%20%5B40.70939%2C%20-74.00121%5D%2C%20%5B40.72149%2C%20-73.96174%5D%2C%20%5B40.74611%2C%20-73.99209%5D%2C%20%5B40.72079%2C%20-73.95641%5D%2C%20%5B40.70188%2C%20-73.92275%5D%2C%20%5B40.76476%2C%20-73.99011%5D%2C%20%5B40.7257%2C%20-73.94181%5D%2C%20%5B40.73082%2C%20-73.98693%5D%2C%20%5B40.67477%2C%20-73.97404%5D%2C%20%5B40.76752%2C%20-73.9273%5D%2C%20%5B40.71239%2C%20-74.0162%5D%2C%20%5B40.68572%2C%20-73.9641%5D%2C%20%5B40.81606%2C%20-73.94363%5D%2C%20%5B40.69017%2C%20-73.95757%5D%2C%20%5B40.82184%2C%20-73.95031%5D%2C%20%5B40.70863%2C%20-73.95543%5D%2C%20%5B40.73051%2C%20-73.9814%5D%2C%20%5B40.69385%2C%20-73.95223%5D%2C%20%5B40.7513%2C%20-73.97239%5D%2C%20%5B40.70537%2C%20-73.92975%5D%2C%20%5B40.64308%2C%20-73.9077%5D%2C%20%5B40.83942%2C%20-73.93855%5D%2C%20%5B40.72391%2C%20-73.99879%5D%2C%20%5B40.71915%2C%20-73.99309%5D%2C%20%5B40.7086%2C%20-73.94715%5D%2C%20%5B40.81307%2C%20-73.93854%5D%2C%20%5B40.6848%2C%20-73.92505%5D%2C%20%5B40.78013%2C%20-73.95082%5D%2C%20%5B40.7338%2C%20-74.00328%5D%2C%20%5B40.76866%2C%20-73.9536%5D%2C%20%5B40.63205%2C%20-73.94587%5D%2C%20%5B40.68468%2C%20-73.99145%5D%2C%20%5B40.68019%2C%20-73.93042%5D%2C%20%5B40.67179%2C%20-73.97248%5D%2C%20%5B40.68656%2C%20-73.95348%5D%2C%20%5B40.77118%2C%20-73.9527%5D%2C%20%5B40.66623%2C%20-73.98217%5D%2C%20%5B40.68471%2C%20-73.95325%5D%2C%20%5B40.72831%2C%20-73.9987%5D%2C%20%5B40.70773%2C%20-73.94144%5D%2C%20%5B40.8117%2C%20-73.9555%5D%2C%20%5B40.70045%2C%20-73.93832%5D%2C%20%5B40.75238%2C%20-73.87746%5D%2C%20%5B40.68708%2C%20-73.95126%5D%2C%20%5B40.68005%2C%20-73.93911%5D%2C%20%5B40.73119%2C%20-74.00615%5D%2C%20%5B40.68553%2C%20-73.94466%5D%2C%20%5B40.70617%2C%20-73.93761%5D%2C%20%5B40.76364%2C%20-73.99465%5D%2C%20%5B40.64233%2C%20-73.95655%5D%2C%20%5B40.76544%2C%20-73.9882%5D%2C%20%5B40.68194%2C%20-73.94068%5D%2C%20%5B40.74096%2C%20-73.9927%5D%2C%20%5B40.72531%2C%20-73.94222%5D%2C%20%5B40.73089%2C%20-74.00302%5D%2C%20%5B40.72866%2C%20-74.00095%5D%2C%20%5B40.68978%2C%20-73.93751%5D%2C%20%5B40.73433%2C%20-74.0036%5D%2C%20%5B40.6526%2C%20-73.94999%5D%2C%20%5B40.72047%2C%20-74.00049%5D%2C%20%5B40.7854%2C%20-73.97368%5D%2C%20%5B40.72379%2C%20-73.98826%5D%2C%20%5B40.61135%2C%20-74.06356%5D%2C%20%5B40.71084%2C%20-73.94861%5D%2C%20%5B40.76464%2C%20-73.98749%5D%2C%20%5B40.79221%2C%20-73.97476%5D%2C%20%5B40.73681%2C%20-73.98366%5D%2C%20%5B40.76493%2C%20-73.98652%5D%2C%20%5B40.76703%2C%20-73.98874%5D%2C%20%5B40.76671%2C%20-73.98666%5D%2C%20%5B40.71346%2C%20-73.93883%5D%2C%20%5B40.66139%2C%20-73.96027%5D%2C%20%5B40.69143%2C%20-73.93933%5D%2C%20%5B40.74011%2C%20-73.98185%5D%2C%20%5B40.79053%2C%20-73.94398%5D%2C%20%5B40.76359%2C%20-73.90586%5D%2C%20%5B40.81326%2C%20-73.96181%5D%2C%20%5B40.71108%2C%20-73.96318%5D%2C%20%5B40.59684%2C%20-73.79449%5D%2C%20%5B40.76394%2C%20-73.92022%5D%2C%20%5B40.66359%2C%20-73.95235%5D%2C%20%5B40.8174%2C%20-73.94629%5D%2C%20%5B40.68208%2C%20-73.9104%5D%2C%20%5B40.72509%2C%20-73.89687%5D%2C%20%5B40.7157%2C%20-73.99183%5D%2C%20%5B40.66759%2C%20-73.88584%5D%2C%20%5B40.88296%2C%20-73.86264%5D%2C%20%5B40.66907%2C%20-73.88493%5D%2C%20%5B40.72668%2C%20-73.95555%5D%2C%20%5B40.74722%2C%20-73.97734%5D%2C%20%5B40.80339%2C%20-73.95167%5D%2C%20%5B40.7977%2C%20-73.93754%5D%2C%20%5B40.71251%2C%20-73.947%5D%2C%20%5B40.7138%2C%20-73.96251%5D%2C%20%5B40.66874%2C%20-73.88548%5D%5D%2C%0A%20%20%20%20%20%20%20%20%20%20%20%20%20%20%20%20%7B%22blur%22%3A%2015%2C%20%22gradient%22%3A%20%7B%220.2%22%3A%20%22blue%22%2C%20%220.4%22%3A%20%22purple%22%2C%20%220.6%22%3A%20%22orange%22%2C%20%221.0%22%3A%20%22red%22%7D%2C%20%22maxZoom%22%3A%2018%2C%20%22minOpacity%22%3A%200.5%2C%20%22radius%22%3A%208%7D%0A%20%20%20%20%20%20%20%20%20%20%20%20%29.addTo%28map_aecf1787c065444b9103da8841b1e71c%29%3B%0A%20%20%20%20%20%20%20%20%0A%3C/script%3E onload=\"this.contentDocument.open();this.contentDocument.write(    decodeURIComponent(this.getAttribute('data-html')));this.contentDocument.close();\" allowfullscreen webkitallowfullscreen mozallowfullscreen></iframe></div></div>"
      ],
      "text/plain": [
       "<folium.folium.Map at 0x7fb740c43250>"
      ]
     },
     "metadata": {},
     "output_type": "display_data"
    }
   ],
   "source": [
    "#pip install folium\n",
    "\n",
    "import folium\n",
    "from folium.plugins import HeatMap\n",
    "m=folium.Map([40.7128,- 73.9160],  #define a location\n",
    "             zoom_start=11)       #zoom more\n",
    "\n",
    "HeatMap(data[['latitude','longitude']].dropna(),\n",
    "        radius=8,\n",
    "        gradient={0.2:'blue',0.4:'purple',0.6:'orange',1.0:'red'}).add_to(m)\n",
    "display(m)"
   ]
  },
  {
   "cell_type": "code",
   "execution_count": null,
   "metadata": {},
   "outputs": [],
   "source": []
  }
 ],
 "metadata": {
  "kernelspec": {
   "display_name": "Python 3 (ipykernel)",
   "language": "python",
   "name": "python3"
  },
  "language_info": {
   "codemirror_mode": {
    "name": "ipython",
    "version": 3
   },
   "file_extension": ".py",
   "mimetype": "text/x-python",
   "name": "python",
   "nbconvert_exporter": "python",
   "pygments_lexer": "ipython3",
   "version": "3.9.7"
  }
 },
 "nbformat": 4,
 "nbformat_minor": 4
}
