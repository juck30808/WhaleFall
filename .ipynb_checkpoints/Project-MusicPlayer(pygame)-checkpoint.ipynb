{
 "cells": [
  {
   "cell_type": "code",
   "execution_count": null,
   "metadata": {},
   "outputs": [],
   "source": [
    "!pip install pygame"
   ]
  },
  {
   "cell_type": "code",
   "execution_count": 2,
   "metadata": {},
   "outputs": [
    {
     "name": "stderr",
     "output_type": "stream",
     "text": [
      "Exception in Tkinter callback\n",
      "Traceback (most recent call last):\n",
      "  File \"C:\\Users\\cti110016\\Anaconda3\\lib\\tkinter\\__init__.py\", line 1883, in __call__\n",
      "    return self.func(*args)\n",
      "  File \"<ipython-input-2-c9a5ddfb04fa>\", line 31, in stop\n",
      "    mixer.music.stop()\n",
      "pygame.error: mixer not initialized\n",
      "Exception in Tkinter callback\n",
      "Traceback (most recent call last):\n",
      "  File \"C:\\Users\\cti110016\\Anaconda3\\lib\\tkinter\\__init__.py\", line 1883, in __call__\n",
      "    return self.func(*args)\n",
      "  File \"<ipython-input-2-c9a5ddfb04fa>\", line 24, in pause\n",
      "    mixer.music.pause()\n",
      "pygame.error: mixer not initialized\n"
     ]
    }
   ],
   "source": [
    "from tkinter import *\n",
    "from tkinter import filedialog\n",
    "from pygame import mixer\n",
    "\n",
    "class Player:\n",
    "    def __init__ (self, window ):\n",
    "        window.geometry('320x100'); window.title('Python Tiny Player');window.resizable(0,0)\n",
    "        Load = Button(window, text = 'Load' ,width = 10, font = ('Times', 10), command = self.load)\n",
    "        Play = Button(window, text = 'Play' ,width = 10, font = ('Times', 10), command = self.play)\n",
    "        Pause =Button(window, text = 'Pause',width = 10, font = ('Times', 10), command = self.pause)\n",
    "        Stop = Button(window ,text = 'Stop' ,width = 10, font = ('Times', 10), command = self.stop)\n",
    "        Load.place(x=0,y=20);Play.place(x=110,y=20);Pause.place(x=220,y=20); Stop.place(x=110,y=60)\n",
    "        self.music_file = False\n",
    "        self.playing_state = False\n",
    "    def load(self):\n",
    "        self.music_file = filedialog.askopenfilename()\n",
    "    def play(self):\n",
    "        if self.music_file:\n",
    "            mixer.init()\n",
    "            mixer.music.load(self.music_file)\n",
    "            mixer.music.play()\n",
    "    def pause(self):\n",
    "        if not self.playing_state:\n",
    "            mixer.music.pause()\n",
    "            self.playing_state=True\n",
    "        else:\n",
    "            mixer.music.unpause()\n",
    "            self.playing_state = False\n",
    "             \n",
    "    def stop(self):\n",
    "        mixer.music.stop()\n",
    "\n",
    "new_root = Tk()\n",
    "player_app = Player(new_root)\n",
    "new_root.mainloop()"
   ]
  }
 ],
 "metadata": {
  "kernelspec": {
   "display_name": "Python 3",
   "language": "python",
   "name": "python3"
  },
  "language_info": {
   "codemirror_mode": {
    "name": "ipython",
    "version": 3
   },
   "file_extension": ".py",
   "mimetype": "text/x-python",
   "name": "python",
   "nbconvert_exporter": "python",
   "pygments_lexer": "ipython3",
   "version": "3.8.5"
  }
 },
 "nbformat": 4,
 "nbformat_minor": 4
}
