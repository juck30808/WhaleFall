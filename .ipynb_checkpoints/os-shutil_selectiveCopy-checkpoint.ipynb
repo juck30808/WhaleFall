{
 "cells": [
  {
   "cell_type": "markdown",
   "metadata": {},
   "source": [
    "## shutil 模組提供了更容易使用的日常檔案和目錄管理高階介面\n",
    "- https://docs.python.org/zh-tw/3/library/shutil.html#module-shutil\n",
    "\n"
   ]
  },
  {
   "cell_type": "code",
   "execution_count": 1,
   "metadata": {},
   "outputs": [
    {
     "ename": "FileNotFoundError",
     "evalue": "[Errno 2] No such file or directory: 'd:/myfile.txt'",
     "output_type": "error",
     "traceback": [
      "\u001b[0;31m---------------------------------------------------------------------------\u001b[0m",
      "\u001b[0;31mFileNotFoundError\u001b[0m                         Traceback (most recent call last)",
      "\u001b[0;32m/var/folders/9q/486czkcn7lv5v0hwbt71twdc0000gn/T/ipykernel_2575/1035317938.py\u001b[0m in \u001b[0;36m<module>\u001b[0;34m\u001b[0m\n\u001b[1;32m      1\u001b[0m \u001b[0;32mimport\u001b[0m \u001b[0mshutil\u001b[0m\u001b[0;34m\u001b[0m\u001b[0;34m\u001b[0m\u001b[0m\n\u001b[0;32m----> 2\u001b[0;31m \u001b[0mshutil\u001b[0m\u001b[0;34m.\u001b[0m\u001b[0mcopyfile\u001b[0m\u001b[0;34m(\u001b[0m\u001b[0;34m'd:/myfile.txt'\u001b[0m\u001b[0;34m,\u001b[0m \u001b[0;34m'd:/myfile2.txt'\u001b[0m\u001b[0;34m)\u001b[0m\u001b[0;34m\u001b[0m\u001b[0;34m\u001b[0m\u001b[0m\n\u001b[0m",
      "\u001b[0;32m~/opt/anaconda3/lib/python3.9/shutil.py\u001b[0m in \u001b[0;36mcopyfile\u001b[0;34m(src, dst, follow_symlinks)\u001b[0m\n\u001b[1;32m    263\u001b[0m     \u001b[0;32melse\u001b[0m\u001b[0;34m:\u001b[0m\u001b[0;34m\u001b[0m\u001b[0;34m\u001b[0m\u001b[0m\n\u001b[1;32m    264\u001b[0m         \u001b[0;32mtry\u001b[0m\u001b[0;34m:\u001b[0m\u001b[0;34m\u001b[0m\u001b[0;34m\u001b[0m\u001b[0m\n\u001b[0;32m--> 265\u001b[0;31m             \u001b[0;32mwith\u001b[0m \u001b[0mopen\u001b[0m\u001b[0;34m(\u001b[0m\u001b[0msrc\u001b[0m\u001b[0;34m,\u001b[0m \u001b[0;34m'rb'\u001b[0m\u001b[0;34m)\u001b[0m \u001b[0;32mas\u001b[0m \u001b[0mfsrc\u001b[0m\u001b[0;34m,\u001b[0m \u001b[0mopen\u001b[0m\u001b[0;34m(\u001b[0m\u001b[0mdst\u001b[0m\u001b[0;34m,\u001b[0m \u001b[0;34m'wb'\u001b[0m\u001b[0;34m)\u001b[0m \u001b[0;32mas\u001b[0m \u001b[0mfdst\u001b[0m\u001b[0;34m:\u001b[0m\u001b[0;34m\u001b[0m\u001b[0;34m\u001b[0m\u001b[0m\n\u001b[0m\u001b[1;32m    266\u001b[0m                 \u001b[0;31m# macOS\u001b[0m\u001b[0;34m\u001b[0m\u001b[0;34m\u001b[0m\u001b[0m\n\u001b[1;32m    267\u001b[0m                 \u001b[0;32mif\u001b[0m \u001b[0m_HAS_FCOPYFILE\u001b[0m\u001b[0;34m:\u001b[0m\u001b[0;34m\u001b[0m\u001b[0;34m\u001b[0m\u001b[0m\n",
      "\u001b[0;31mFileNotFoundError\u001b[0m: [Errno 2] No such file or directory: 'd:/myfile.txt'"
     ]
    }
   ],
   "source": [
    "import shutil\n",
    "shutil.copyfile('d:/myfile.txt', 'd:/myfile2.txt')"
   ]
  },
  {
   "cell_type": "code",
   "execution_count": null,
   "metadata": {},
   "outputs": [],
   "source": [
    "shutil.copy('input/mew.txt', 'input/mew-copy.txt')"
   ]
  },
  {
   "cell_type": "code",
   "execution_count": null,
   "metadata": {
    "scrolled": true
   },
   "outputs": [],
   "source": [
    "shutil.move('main.txt', '.\\Demo')"
   ]
  },
  {
   "cell_type": "code",
   "execution_count": null,
   "metadata": {},
   "outputs": [],
   "source": [
    "os.listdir('.\\Demo')"
   ]
  },
  {
   "cell_type": "code",
   "execution_count": null,
   "metadata": {},
   "outputs": [],
   "source": [
    "shutil.move('.\\Demo\\main.txt', os.getcwd())"
   ]
  },
  {
   "cell_type": "code",
   "execution_count": null,
   "metadata": {},
   "outputs": [],
   "source": [
    "os.listdir()"
   ]
  },
  {
   "cell_type": "code",
   "execution_count": null,
   "metadata": {},
   "outputs": [],
   "source": [
    "# 搬移檔案\n",
    "import shutil\n",
    "shutil.move('data/test/TEST_DIR/1.txt', 'data/test/TEST_DIR2')"
   ]
  },
  {
   "cell_type": "code",
   "execution_count": null,
   "metadata": {},
   "outputs": [],
   "source": [
    "# 搬移目錄\n",
    "import shutil\n",
    "shutil.move('data/test/TEST_DIR', 'data/test/TEST_DIR2')"
   ]
  },
  {
   "cell_type": "code",
   "execution_count": null,
   "metadata": {},
   "outputs": [],
   "source": [
    "import os, shutil\n",
    "\n",
    "def selectiveCopy(inputFolder, ext, outputFolder):\n",
    "    resultFolder = os.path.abspath(outputFolder)\n",
    "    #print(resultFolder)\n",
    "\n",
    "    for folderName, subFolder, filename in os.walk(inputFolder):\n",
    "        for file in filename:\n",
    "            if file.endswith(ext):\n",
    "                filepath = os.path.join(os.path.abspath(folderName), file)\n",
    "                if not os.path.exists(resultFolder):\n",
    "                    #create result folder if it doesn't exist\n",
    "                    os.makedirs(resultFolder)\n",
    "\n",
    "                if os.path.dirname(filepath) != resultFolder:\n",
    "                    #prevent copying files from result folder              \n",
    "                    shutil.copy(filepath, resultFolder)\n",
    "                    print(f'Copied {filepath} to {resultFolder}')\n",
    "\n",
    "\n",
    "if __name__ == '__main__':\n",
    "    selectiveCopy('.', 'png', 'output/result')\n"
   ]
  },
  {
   "cell_type": "code",
   "execution_count": null,
   "metadata": {},
   "outputs": [],
   "source": [
    "import os\n",
    "from PIL import Image\n",
    "\n",
    "def find(root):\n",
    "    for foldername, subfolders, filenames in os.walk(root):\n",
    "        numPhotoFiles = 0\n",
    "        numNonPhotoFiles = 0\n",
    "        for filename in filenames:\n",
    "            # Check if file extension isn't .png or .jpg.\n",
    "            if not (filename.lower().endswith('.png') or filename.lower().endswith('.jpg')):\n",
    "                numNonPhotoFiles += 1\n",
    "                continue    # skip to next filename\n",
    "\n",
    "            # Open image file using Pillow.\n",
    "            try:\n",
    "                im = Image.open(os.path.join(foldername, filename))\n",
    "            except OSError:\n",
    "                continue\n",
    "\n",
    "            width, height = im.size\n",
    "\n",
    "            # Check if width & height are larger than 500.\n",
    "            if width > 500 and height > 500:\n",
    "                # Image is large enough to be considered a photo.\n",
    "                numPhotoFiles += 1\n",
    "            else:\n",
    "                # Image is too small to be a photo.\n",
    "                numNonPhotoFiles += 1\n",
    "\n",
    "        # If more than half of files were photos,\n",
    "        # print the absolute path of the folder.\n",
    "        if numPhotoFiles > numNonPhotoFiles:\n",
    "            print(os.path.abspath(foldername))\n",
    "\n",
    "\n",
    "if __name__ == \"__main__\":\n",
    "    find('/')"
   ]
  },
  {
   "cell_type": "code",
   "execution_count": null,
   "metadata": {},
   "outputs": [],
   "source": [
    "import os\n",
    "import shutil\n",
    "\n",
    "current_dir = os.path.dirname(os.path.realpath(__file__))\n",
    "#current_dir = os.path.dirname('C:/Users/cti110016/Documents/GitHub/WhaleFall/input')\n",
    "\n",
    "for filename in os.listdir(current_dir):\n",
    "\n",
    "    if filename.endswith(('.jpg', '.png', '.gif')):\n",
    "        if not os.path.exists(\"Images\"): \n",
    "            os.makedirs('Images')\n",
    "        shutil.copy(filename, 'Images')\n",
    "        os.remove(filename)\n",
    "        print('Images folder done')\n",
    "\n",
    "    \n",
    "    if filename.endswith(('.pdf', '.docx')):\n",
    "        if not os.path.exists(\"Documents\"): \n",
    "            os.makedirs('Documents')\n",
    "        shutil.copy(filename, 'Documents')\n",
    "        os.remove(filename)\n",
    "        print('Documents folder done')\n",
    "\n",
    "    \n",
    "    if filename.endswith(('.apk', '.exe')):\n",
    "        if not os.path.exists(\"Apps\"): \n",
    "            os.makedirs('Apps')\n",
    "        shutil.copy(filename, 'Apps')\n",
    "        os.remove(filename)\n",
    "        print('Apps folder done')\n",
    "\n",
    "    if filename.endswith(('.mp4', '.wmv')):\n",
    "        if not os.path.exists(\"Videos\"): \n",
    "            os.makedirs('Videos')\n",
    "        shutil.copy(filename, 'Videos')\n",
    "        os.remove(filename)\n",
    "        print('Videos folder done')\n",
    "\n",
    "print('all done')"
   ]
  },
  {
   "cell_type": "code",
   "execution_count": null,
   "metadata": {},
   "outputs": [],
   "source": [
    "import shutil, os, re\n",
    "datePattern = re.compile(r\"\"\"^(.*?) # all text before the date\n",
    "    ((0|1)?\\d)- # one or two digits for the month\n",
    "    ((0|1|2|3)?\\d)- # one or two digits for the day\n",
    "    ((19|20)\\d\\d) # four digits for the year (must start with 19 or 20)\n",
    "    (.*?)$ # all text after the date\n",
    "    \"\"\", re.VERBOSE)\n",
    "\n",
    "# Loop over the files in the working directory.\n",
    "for amerFilename in os.listdir('.'):\n",
    "    mo = datePattern.search(amerFilename)\n",
    "\n",
    "    # Skip files without a date.\n",
    "    if mo == None:\n",
    "        continue\n",
    "\n",
    "    # Get the different parts of the filename.\n",
    "    beforePart = mo.group(1)\n",
    "    monthPart  = mo.group(2)\n",
    "    dayPart    = mo.group(4)\n",
    "    yearPart   = mo.group(6)\n",
    "    afterPart  = mo.group(8)\n",
    "\n",
    "    # Form the European-style filename.\n",
    "    euroFilename = beforePart + dayPart + '-' + monthPart + '-' + yearPart + afterPart\n",
    "\n",
    "    # Get the full, absolute file paths.\n",
    "    absWorkingDir = os.path.abspath('.')\n",
    "    amerFilename = os.path.join(absWorkingDir, amerFilename)\n",
    "    euroFilename = os.path.join(absWorkingDir, euroFilename)\n",
    "\n",
    "    # Rename the files.\n",
    "    print('Renaming \"%s\" to \"%s\"...' % (amerFilename, euroFilename))\n",
    "    #shutil.move(amerFilename, euroFilename) # uncomment after testing"
   ]
  }
 ],
 "metadata": {
  "kernelspec": {
   "display_name": "Python 3 (ipykernel)",
   "language": "python",
   "name": "python3"
  },
  "language_info": {
   "codemirror_mode": {
    "name": "ipython",
    "version": 3
   },
   "file_extension": ".py",
   "mimetype": "text/x-python",
   "name": "python",
   "nbconvert_exporter": "python",
   "pygments_lexer": "ipython3",
   "version": "3.9.7"
  }
 },
 "nbformat": 4,
 "nbformat_minor": 4
}
