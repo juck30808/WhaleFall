{
 "cells": [
  {
   "cell_type": "code",
   "execution_count": null,
   "metadata": {
    "colab": {
     "base_uri": "https://localhost:8080/"
    },
    "executionInfo": {
     "elapsed": 7493,
     "status": "ok",
     "timestamp": 1610791687585,
     "user": {
      "displayName": "Abhilash Chintada",
      "photoUrl": "https://lh3.googleusercontent.com/a-/AOh14GhlwwwMJr16CgjmRFWk833xZEy2OfpaFZDIqM84=s64",
      "userId": "00311744807213723199"
     },
     "user_tz": -330
    },
    "id": "9-XIpD76Ca2J",
    "outputId": "163359ee-921d-4afe-aa4e-68c32b09c2d7"
   },
   "outputs": [],
   "source": [
    "#!pip install yfinance"
   ]
  },
  {
   "cell_type": "code",
   "execution_count": null,
   "metadata": {
    "id": "Sg0nlOuvCj64"
   },
   "outputs": [],
   "source": [
    "import yfinance as yf\n",
    "import numpy as np\n",
    "import pandas as pd\n",
    "import tensorflow as tf\n",
    "data = yf.download(\"GOOGL\" , start = \"2018-01-01\" , interval = '1d')\n",
    "data.head(3)"
   ]
  },
  {
   "cell_type": "markdown",
   "metadata": {
    "id": "ULgWVmd73rqJ"
   },
   "source": [
    "Understanding Trends with in the Data"
   ]
  },
  {
   "cell_type": "code",
   "execution_count": null,
   "metadata": {
    "id": "Jl1C9ZS32DvC"
   },
   "outputs": [],
   "source": [
    "# Sort the data points based on indexes just for confirmation \n",
    "data.sort_index(inplace = True)"
   ]
  },
  {
   "cell_type": "code",
   "execution_count": null,
   "metadata": {
    "id": "Lsg27AhR2y4p"
   },
   "outputs": [],
   "source": [
    "# Remove any duplicate index \n",
    "data = data.loc[~data.index.duplicated(keep='first')]"
   ]
  },
  {
   "cell_type": "code",
   "execution_count": null,
   "metadata": {
    "colab": {
     "base_uri": "https://localhost:8080/",
     "height": 166
    },
    "executionInfo": {
     "elapsed": 1198,
     "status": "ok",
     "timestamp": 1610791696052,
     "user": {
      "displayName": "Abhilash Chintada",
      "photoUrl": "https://lh3.googleusercontent.com/a-/AOh14GhlwwwMJr16CgjmRFWk833xZEy2OfpaFZDIqM84=s64",
      "userId": "00311744807213723199"
     },
     "user_tz": -330
    },
    "id": "Tam2xuzp2Gi3",
    "outputId": "e04f06b3-27c3-41a6-bd83-d25bdd48a6b6"
   },
   "outputs": [],
   "source": [
    "data.tail(3)"
   ]
  },
  {
   "cell_type": "code",
   "execution_count": null,
   "metadata": {
    "colab": {
     "base_uri": "https://localhost:8080/"
    },
    "executionInfo": {
     "elapsed": 1583,
     "status": "ok",
     "timestamp": 1610791697891,
     "user": {
      "displayName": "Abhilash Chintada",
      "photoUrl": "https://lh3.googleusercontent.com/a-/AOh14GhlwwwMJr16CgjmRFWk833xZEy2OfpaFZDIqM84=s64",
      "userId": "00311744807213723199"
     },
     "user_tz": -330
    },
    "id": "F3mCAb7x2ii0",
    "outputId": "0cfcc4a8-b724-4fcd-88ee-1986152a8ce2"
   },
   "outputs": [],
   "source": [
    "# Check for missing values \n",
    "data.isnull().sum()"
   ]
  },
  {
   "cell_type": "code",
   "execution_count": null,
   "metadata": {
    "colab": {
     "base_uri": "https://localhost:8080/",
     "height": 284
    },
    "executionInfo": {
     "elapsed": 1424,
     "status": "ok",
     "timestamp": 1610791697893,
     "user": {
      "displayName": "Abhilash Chintada",
      "photoUrl": "https://lh3.googleusercontent.com/a-/AOh14GhlwwwMJr16CgjmRFWk833xZEy2OfpaFZDIqM84=s64",
      "userId": "00311744807213723199"
     },
     "user_tz": -330
    },
    "id": "Luf4vpM-2w9I",
    "outputId": "853eeda6-f11d-4704-f907-4db9d3597bb7"
   },
   "outputs": [],
   "source": [
    "# Get the statistics of the data\n",
    "data.describe()"
   ]
  },
  {
   "cell_type": "code",
   "execution_count": null,
   "metadata": {
    "colab": {
     "base_uri": "https://localhost:8080/",
     "height": 517
    },
    "executionInfo": {
     "elapsed": 3290,
     "status": "ok",
     "timestamp": 1610791699977,
     "user": {
      "displayName": "Abhilash Chintada",
      "photoUrl": "https://lh3.googleusercontent.com/a-/AOh14GhlwwwMJr16CgjmRFWk833xZEy2OfpaFZDIqM84=s64",
      "userId": "00311744807213723199"
     },
     "user_tz": -330
    },
    "id": "lRRJ43U336Sz",
    "outputId": "8b2f896e-532a-4308-edcf-38ab5817ab04"
   },
   "outputs": [],
   "source": [
    "import plotly.graph_objects as go\n",
    "\n",
    "# Check the trend in Closing Values \n",
    "fig = go.Figure()\n",
    "\n",
    "fig.add_trace(go.Scatter(x = data.index , y = data['Close'] , mode = 'lines'))\n",
    "fig.update_layout(height = 500 , width = 900, \n",
    "                  xaxis_title='Date' , yaxis_title='Close')\n",
    "fig.show()"
   ]
  },
  {
   "cell_type": "code",
   "execution_count": null,
   "metadata": {
    "colab": {
     "base_uri": "https://localhost:8080/",
     "height": 517
    },
    "executionInfo": {
     "elapsed": 1761,
     "status": "ok",
     "timestamp": 1610791699979,
     "user": {
      "displayName": "Abhilash Chintada",
      "photoUrl": "https://lh3.googleusercontent.com/a-/AOh14GhlwwwMJr16CgjmRFWk833xZEy2OfpaFZDIqM84=s64",
      "userId": "00311744807213723199"
     },
     "user_tz": -330
    },
    "id": "hIG1kyPk4UCP",
    "outputId": "f2d63459-0d96-41e5-b434-1eb58537256c"
   },
   "outputs": [],
   "source": [
    "# Check the trend in Volume Traded\n",
    "fig = go.Figure()\n",
    "\n",
    "fig.add_trace(go.Scatter(x = data.index , y = data['Volume'] , mode = 'lines'))\n",
    "fig.update_layout(height = 500 , width = 900, \n",
    "                  xaxis_title='Date' , yaxis_title='Volume')\n",
    "fig.show()"
   ]
  },
  {
   "cell_type": "markdown",
   "metadata": {
    "id": "2KNZe8kA7Uiy"
   },
   "source": [
    "Data Preparation"
   ]
  },
  {
   "cell_type": "code",
   "execution_count": null,
   "metadata": {
    "id": "sWy2N6cQ9EN9"
   },
   "outputs": [],
   "source": [
    "from sklearn.preprocessing import MinMaxScaler \n",
    "import pickle \n",
    "from tqdm.notebook import tnrange"
   ]
  },
  {
   "cell_type": "code",
   "execution_count": null,
   "metadata": {
    "colab": {
     "base_uri": "https://localhost:8080/",
     "height": 166
    },
    "executionInfo": {
     "elapsed": 908,
     "status": "ok",
     "timestamp": 1610791704640,
     "user": {
      "displayName": "Abhilash Chintada",
      "photoUrl": "https://lh3.googleusercontent.com/a-/AOh14GhlwwwMJr16CgjmRFWk833xZEy2OfpaFZDIqM84=s64",
      "userId": "00311744807213723199"
     },
     "user_tz": -330
    },
    "id": "gJRGJTRf-Cfj",
    "outputId": "9ad29485-9fce-4a76-fdca-c0e096d43fc9"
   },
   "outputs": [],
   "source": [
    "# Filter only required data \n",
    "data = data[['Close' , 'Volume']]\n",
    "data.head(3)"
   ]
  },
  {
   "cell_type": "code",
   "execution_count": null,
   "metadata": {
    "id": "FRu00UlQ-33P"
   },
   "outputs": [],
   "source": [
    "# Confirm the Testing Set length \n",
    "test_length = data[(data.index >= '2020-09-01')].shape[0]"
   ]
  },
  {
   "cell_type": "code",
   "execution_count": null,
   "metadata": {
    "id": "HSeJFeZy9oux"
   },
   "outputs": [],
   "source": [
    "def CreateFeatures_and_Targets(data, feature_length):\n",
    "    X = []\n",
    "    Y = []\n",
    "\n",
    "    for i in tnrange(len(data) - feature_length): \n",
    "        X.append(data.iloc[i : i + feature_length,:].values)\n",
    "        Y.append(data[\"Close\"].values[i+feature_length])\n",
    "\n",
    "    X = np.array(X)\n",
    "    Y = np.array(Y)\n",
    "\n",
    "    return X , Y"
   ]
  },
  {
   "cell_type": "code",
   "execution_count": null,
   "metadata": {
    "colab": {
     "base_uri": "https://localhost:8080/",
     "height": 66,
     "referenced_widgets": [
      "fede378240fb4eaab3630b590b709107",
      "210b148eb11347759a0455155eac8846",
      "6cae7c3c23a741bb83efb14c4efe4e96",
      "f05a3b085f6c4367b2ad9e7c64111944",
      "b49c2618d32e4964a0becc334cd23c40",
      "ccf9eb29be7e41c08cf94d38146bf8c4",
      "fe78bd05081e44fca5ec25b209214182",
      "e96ebc5dbb774aaa92160fa537e04873"
     ]
    },
    "executionInfo": {
     "elapsed": 868,
     "status": "ok",
     "timestamp": 1610791709900,
     "user": {
      "displayName": "Abhilash Chintada",
      "photoUrl": "https://lh3.googleusercontent.com/a-/AOh14GhlwwwMJr16CgjmRFWk833xZEy2OfpaFZDIqM84=s64",
      "userId": "00311744807213723199"
     },
     "user_tz": -330
    },
    "id": "9ETswRsS-gLg",
    "outputId": "60cf45d7-9af7-416c-82ca-2427c8d82413"
   },
   "outputs": [],
   "source": [
    "X , Y = CreateFeatures_and_Targets(data , 32)"
   ]
  },
  {
   "cell_type": "code",
   "execution_count": null,
   "metadata": {
    "colab": {
     "base_uri": "https://localhost:8080/"
    },
    "executionInfo": {
     "elapsed": 10738,
     "status": "ok",
     "timestamp": 1609595108765,
     "user": {
      "displayName": "Abhilash Chintada",
      "photoUrl": "https://lh3.googleusercontent.com/a-/AOh14GhlwwwMJr16CgjmRFWk833xZEy2OfpaFZDIqM84=s64",
      "userId": "00311744807213723199"
     },
     "user_tz": -330
    },
    "id": "PUSmuRiD_ehL",
    "outputId": "0aed59bb-d270-4b55-844a-a3af5ee48dc5"
   },
   "outputs": [],
   "source": [
    "# Check the shapes\n",
    "X.shape , Y.shape"
   ]
  },
  {
   "cell_type": "code",
   "execution_count": null,
   "metadata": {
    "id": "KB0N3h07_ncD"
   },
   "outputs": [],
   "source": [
    "Xtrain , Xtest , Ytrain , Ytest = X[:-test_length] , X[-test_length:] , Y[:-test_length] , Y[-test_length:]"
   ]
  },
  {
   "cell_type": "code",
   "execution_count": null,
   "metadata": {
    "colab": {
     "base_uri": "https://localhost:8080/"
    },
    "executionInfo": {
     "elapsed": 10718,
     "status": "ok",
     "timestamp": 1609595108772,
     "user": {
      "displayName": "Abhilash Chintada",
      "photoUrl": "https://lh3.googleusercontent.com/a-/AOh14GhlwwwMJr16CgjmRFWk833xZEy2OfpaFZDIqM84=s64",
      "userId": "00311744807213723199"
     },
     "user_tz": -330
    },
    "id": "cs7uOHQJ_qYH",
    "outputId": "372d40fd-3b2b-473b-b2dd-6a600fc647d3"
   },
   "outputs": [],
   "source": [
    "# Check Training Dataset Shape \n",
    "Xtrain.shape , Ytrain.shape"
   ]
  },
  {
   "cell_type": "code",
   "execution_count": null,
   "metadata": {
    "colab": {
     "base_uri": "https://localhost:8080/"
    },
    "executionInfo": {
     "elapsed": 10703,
     "status": "ok",
     "timestamp": 1609595108775,
     "user": {
      "displayName": "Abhilash Chintada",
      "photoUrl": "https://lh3.googleusercontent.com/a-/AOh14GhlwwwMJr16CgjmRFWk833xZEy2OfpaFZDIqM84=s64",
      "userId": "00311744807213723199"
     },
     "user_tz": -330
    },
    "id": "5og_CE52AAOF",
    "outputId": "174906ff-5eb0-4eb0-96c6-e656d3834ff6"
   },
   "outputs": [],
   "source": [
    "# Check Testing Dataset Shape\n",
    "Xtest.shape , Ytest.shape"
   ]
  },
  {
   "cell_type": "code",
   "execution_count": null,
   "metadata": {
    "id": "eEmlHVBW7UuG"
   },
   "outputs": [],
   "source": [
    "# Create a Scaler to Scale Vectors with Multiple Dimensions \n",
    "class MultiDimensionScaler():\n",
    "    def __init__(self):\n",
    "        self.scalers = []\n",
    "\n",
    "    def fit_transform(self , X):\n",
    "        total_dims = X.shape[2]\n",
    "        for i in range(total_dims):\n",
    "            Scaler = MinMaxScaler()\n",
    "            X[:, :, i] = Scaler.fit_transform(X[:, :, i])\n",
    "            self.scalers.append(Scaler)\n",
    "        return X\n",
    "\n",
    "    def transform(self , X):\n",
    "        for i in range(X.shape[2]):\n",
    "            X[:, :, i] = self.scalers[i].transform(X[:,:,i])\n",
    "        return X "
   ]
  },
  {
   "cell_type": "code",
   "execution_count": null,
   "metadata": {
    "id": "4lhh66IV7U0q"
   },
   "outputs": [],
   "source": [
    "Feature_Scaler = MultiDimensionScaler()\n",
    "Xtrain = Feature_Scaler.fit_transform(Xtrain)\n",
    "Xtest = Feature_Scaler.transform(Xtest)"
   ]
  },
  {
   "cell_type": "code",
   "execution_count": null,
   "metadata": {
    "id": "HDYeLhR-8u9-"
   },
   "outputs": [],
   "source": [
    "Target_Scaler = MinMaxScaler()\n",
    "Ytrain = Target_Scaler.fit_transform(Ytrain.reshape(-1,1))\n",
    "Ytest = Target_Scaler.transform(Ytest.reshape(-1,1))"
   ]
  },
  {
   "cell_type": "code",
   "execution_count": null,
   "metadata": {
    "id": "P8x7szS79VQz"
   },
   "outputs": [],
   "source": [
    "def save_object(obj , name : str):\n",
    "    pickle_out = open(f\"{name}.pck\",\"wb\")\n",
    "    pickle.dump(obj, pickle_out)\n",
    "    pickle_out.close()\n",
    "\n",
    "def load_object(name : str):\n",
    "    pickle_in = open(f\"{name}.pck\",\"rb\")\n",
    "    data = pickle.load(pickle_in)\n",
    "    return data"
   ]
  },
  {
   "cell_type": "code",
   "execution_count": null,
   "metadata": {
    "id": "gf5NggvA87Dl"
   },
   "outputs": [],
   "source": [
    "# Save your objects for future purposes \n",
    "save_object(Feature_Scaler , \"Feature_Scaler\")\n",
    "save_object(Target_Scaler , \"Target_Scaler\")"
   ]
  },
  {
   "cell_type": "markdown",
   "metadata": {
    "id": "5A49P71e7Ogi"
   },
   "source": [
    "Model Building"
   ]
  },
  {
   "cell_type": "code",
   "execution_count": null,
   "metadata": {
    "id": "d2pjWbmP6bxu"
   },
   "outputs": [],
   "source": [
    "from tensorflow.keras.callbacks import ModelCheckpoint , ReduceLROnPlateau\n",
    "\n",
    "save_best = ModelCheckpoint(\"best_weights.h5\", monitor='val_loss', save_best_only=True, save_weights_only=True)\n",
    "reduce_lr = ReduceLROnPlateau(monitor='val_loss', factor=0.25,patience=4, min_lr=0.00001,verbose = 1)"
   ]
  },
  {
   "cell_type": "code",
   "execution_count": null,
   "metadata": {
    "colab": {
     "base_uri": "https://localhost:8080/"
    },
    "executionInfo": {
     "elapsed": 15823,
     "status": "ok",
     "timestamp": 1609595113979,
     "user": {
      "displayName": "Abhilash Chintada",
      "photoUrl": "https://lh3.googleusercontent.com/a-/AOh14GhlwwwMJr16CgjmRFWk833xZEy2OfpaFZDIqM84=s64",
      "userId": "00311744807213723199"
     },
     "user_tz": -330
    },
    "id": "mU4tolqx4gHx",
    "outputId": "4a00db3e-2574-4045-f67b-26dd393a596b"
   },
   "outputs": [],
   "source": [
    "from tensorflow.keras.models import Sequential\n",
    "from tensorflow.keras.layers import Dense , Dropout , LSTM , Bidirectional\n",
    "\n",
    "model = Sequential()\n",
    "\n",
    "model.add(Bidirectional(LSTM(512 ,return_sequences=True , recurrent_dropout=0.1, input_shape=(32, 2))))\n",
    "model.add(LSTM(256 ,recurrent_dropout=0.1))\n",
    "model.add(Dropout(0.3))\n",
    "model.add(Dense(64 , activation='elu'))\n",
    "model.add(Dropout(0.3))\n",
    "model.add(Dense(32 , activation='elu'))\n",
    "model.add(Dense(1 , activation='linear'))"
   ]
  },
  {
   "cell_type": "code",
   "execution_count": null,
   "metadata": {
    "id": "z_nlZ-wLAt64"
   },
   "outputs": [],
   "source": [
    "#optimizer = tf.keras.optimizers.Adam(learning_rate=0.002)\n",
    "optimizer = tf.keras.optimizers.SGD(learning_rate = 0.002)\n",
    "model.compile(loss='mse', optimizer=optimizer)"
   ]
  },
  {
   "cell_type": "code",
   "execution_count": null,
   "metadata": {
    "colab": {
     "base_uri": "https://localhost:8080/"
    },
    "executionInfo": {
     "elapsed": 830902,
     "status": "ok",
     "timestamp": 1609595929086,
     "user": {
      "displayName": "Abhilash Chintada",
      "photoUrl": "https://lh3.googleusercontent.com/a-/AOh14GhlwwwMJr16CgjmRFWk833xZEy2OfpaFZDIqM84=s64",
      "userId": "00311744807213723199"
     },
     "user_tz": -330
    },
    "id": "vPDDitBoAdhG",
    "outputId": "01697eab-0a80-4e6d-b5b5-8d5b0488bf5e"
   },
   "outputs": [],
   "source": [
    "history = model.fit(Xtrain, Ytrain,\n",
    "            epochs=10,\n",
    "            batch_size = 1,\n",
    "            verbose=1,\n",
    "            shuffle=False ,\n",
    "            validation_data=(Xtest , Ytest),\n",
    "            callbacks=[reduce_lr , save_best])"
   ]
  },
  {
   "cell_type": "code",
   "execution_count": null,
   "metadata": {
    "colab": {
     "base_uri": "https://localhost:8080/"
    },
    "executionInfo": {
     "elapsed": 830893,
     "status": "ok",
     "timestamp": 1609595929092,
     "user": {
      "displayName": "Abhilash Chintada",
      "photoUrl": "https://lh3.googleusercontent.com/a-/AOh14GhlwwwMJr16CgjmRFWk833xZEy2OfpaFZDIqM84=s64",
      "userId": "00311744807213723199"
     },
     "user_tz": -330
    },
    "id": "CYMEe4j0A_vk",
    "outputId": "a35b7118-8810-4143-cbb3-b376e8fab6db"
   },
   "outputs": [],
   "source": [
    "# Checking the model Structure \n",
    "model.summary()"
   ]
  },
  {
   "cell_type": "code",
   "execution_count": null,
   "metadata": {
    "id": "_ZRfoVk5BLpz"
   },
   "outputs": [],
   "source": [
    "# Load the best weights\n",
    "model.load_weights(\"best_weights.h5\")"
   ]
  },
  {
   "cell_type": "markdown",
   "metadata": {
    "id": "ynJfKM8LBsMu"
   },
   "source": [
    "Visualize prediction on Test Set"
   ]
  },
  {
   "cell_type": "code",
   "execution_count": null,
   "metadata": {
    "id": "N9l1coSqBvjU"
   },
   "outputs": [],
   "source": [
    "Predictions = model.predict(Xtest)"
   ]
  },
  {
   "cell_type": "code",
   "execution_count": null,
   "metadata": {
    "id": "STFvnjZxBvm8"
   },
   "outputs": [],
   "source": [
    "Predictions = Target_Scaler.inverse_transform(Predictions)\n",
    "Actual = Target_Scaler.inverse_transform(Ytest)"
   ]
  },
  {
   "cell_type": "code",
   "execution_count": null,
   "metadata": {
    "id": "mRiT57HAFrgJ"
   },
   "outputs": [],
   "source": [
    "Predictions = np.squeeze(Predictions , axis = 1)\n",
    "Actual = np.squeeze(Actual , axis = 1)"
   ]
  },
  {
   "cell_type": "code",
   "execution_count": null,
   "metadata": {
    "id": "nx0O70cpFEm4"
   },
   "outputs": [],
   "source": [
    "# Creating Sample Test Dataframe\n",
    "test_dataframe_dict = {'Actual' : list(Actual) , 'Predicted' : list(Predictions)}\n",
    "test_df = pd.DataFrame.from_dict(test_dataframe_dict)\n",
    "\n",
    "test_df.index = data.index[-test_length:]"
   ]
  },
  {
   "cell_type": "code",
   "execution_count": null,
   "metadata": {
    "colab": {
     "base_uri": "https://localhost:8080/",
     "height": 225
    },
    "executionInfo": {
     "elapsed": 831838,
     "status": "ok",
     "timestamp": 1609595930168,
     "user": {
      "displayName": "Abhilash Chintada",
      "photoUrl": "https://lh3.googleusercontent.com/a-/AOh14GhlwwwMJr16CgjmRFWk833xZEy2OfpaFZDIqM84=s64",
      "userId": "00311744807213723199"
     },
     "user_tz": -330
    },
    "id": "ixEscMliFXC6",
    "outputId": "c5c92f31-ec31-49bf-e8ef-e4d69bbeae77"
   },
   "outputs": [],
   "source": [
    "test_df.head()"
   ]
  },
  {
   "cell_type": "code",
   "execution_count": null,
   "metadata": {
    "colab": {
     "base_uri": "https://localhost:8080/",
     "height": 542
    },
    "executionInfo": {
     "elapsed": 831817,
     "status": "ok",
     "timestamp": 1609595930171,
     "user": {
      "displayName": "Abhilash Chintada",
      "photoUrl": "https://lh3.googleusercontent.com/a-/AOh14GhlwwwMJr16CgjmRFWk833xZEy2OfpaFZDIqM84=s64",
      "userId": "00311744807213723199"
     },
     "user_tz": -330
    },
    "id": "WQwVKvNsC0QR",
    "outputId": "d9db39ee-0378-4e2f-c230-eab179eb33b1"
   },
   "outputs": [],
   "source": [
    "# Check the trend in Volume Traded\n",
    "fig = go.Figure()\n",
    "\n",
    "fig.add_trace(go.Scatter(x = test_df.index , y = Actual , mode = 'lines' , name='Actual'))\n",
    "fig.add_trace(go.Scatter(x = test_df.index , y = Predictions , mode = 'lines' , name='Predicted'))\n",
    "fig.show()"
   ]
  },
  {
   "cell_type": "markdown",
   "metadata": {
    "id": "4JCHmDQwZRFf"
   },
   "source": [
    "Visualize Prediction on whole data"
   ]
  },
  {
   "cell_type": "code",
   "execution_count": null,
   "metadata": {
    "id": "EqI4_gHOZsYd"
   },
   "outputs": [],
   "source": [
    "Total_features = np.concatenate((Xtrain , Xtest) , axis = 0)"
   ]
  },
  {
   "cell_type": "code",
   "execution_count": null,
   "metadata": {
    "id": "yIMgXwCBZWlB"
   },
   "outputs": [],
   "source": [
    "Total_Targets = np.concatenate((Ytrain , Ytest) , axis = 0)"
   ]
  },
  {
   "cell_type": "code",
   "execution_count": null,
   "metadata": {
    "id": "AX2DdzL3aBW-"
   },
   "outputs": [],
   "source": [
    "Predictions = model.predict(Total_features)"
   ]
  },
  {
   "cell_type": "code",
   "execution_count": null,
   "metadata": {
    "id": "M516Z4NvaBXA"
   },
   "outputs": [],
   "source": [
    "Predictions = Target_Scaler.inverse_transform(Predictions)\n",
    "Actual = Target_Scaler.inverse_transform(Total_Targets)"
   ]
  },
  {
   "cell_type": "code",
   "execution_count": null,
   "metadata": {
    "id": "PQ7LQL7caBXA"
   },
   "outputs": [],
   "source": [
    "Predictions = np.squeeze(Predictions , axis = 1)\n",
    "Actual = np.squeeze(Actual , axis = 1)"
   ]
  },
  {
   "cell_type": "code",
   "execution_count": null,
   "metadata": {
    "colab": {
     "base_uri": "https://localhost:8080/",
     "height": 542
    },
    "executionInfo": {
     "elapsed": 885,
     "status": "ok",
     "timestamp": 1609596194560,
     "user": {
      "displayName": "Abhilash Chintada",
      "photoUrl": "https://lh3.googleusercontent.com/a-/AOh14GhlwwwMJr16CgjmRFWk833xZEy2OfpaFZDIqM84=s64",
      "userId": "00311744807213723199"
     },
     "user_tz": -330
    },
    "id": "hJ8jz3c4aBXD",
    "outputId": "04ca7a52-d255-4a01-eebe-d1b3cff618dc"
   },
   "outputs": [],
   "source": [
    "# Check the trend in Volume Traded\n",
    "fig = go.Figure()\n",
    "\n",
    "fig.add_trace(go.Scatter(x = data.index , y = Actual , mode = 'lines' , name='Actual'))\n",
    "fig.add_trace(go.Scatter(x = data.index , y = Predictions , mode = 'lines' , name='Predicted'))\n",
    "fig.show()"
   ]
  }
 ],
 "metadata": {
  "colab": {
   "authorship_tag": "ABX9TyPt6yrMMke1TUSlMIdfekGt",
   "collapsed_sections": [],
   "name": "StockMarket.ipynb",
   "provenance": []
  },
  "kernelspec": {
   "display_name": "Python 3 (ipykernel)",
   "language": "python",
   "name": "python3"
  },
  "language_info": {
   "codemirror_mode": {
    "name": "ipython",
    "version": 3
   },
   "file_extension": ".py",
   "mimetype": "text/x-python",
   "name": "python",
   "nbconvert_exporter": "python",
   "pygments_lexer": "ipython3",
   "version": "3.9.7"
  },
  "widgets": {
   "application/vnd.jupyter.widget-state+json": {
    "210b148eb11347759a0455155eac8846": {
     "model_module": "@jupyter-widgets/base",
     "model_name": "LayoutModel",
     "state": {
      "_model_module": "@jupyter-widgets/base",
      "_model_module_version": "1.2.0",
      "_model_name": "LayoutModel",
      "_view_count": null,
      "_view_module": "@jupyter-widgets/base",
      "_view_module_version": "1.2.0",
      "_view_name": "LayoutView",
      "align_content": null,
      "align_items": null,
      "align_self": null,
      "border": null,
      "bottom": null,
      "display": null,
      "flex": null,
      "flex_flow": null,
      "grid_area": null,
      "grid_auto_columns": null,
      "grid_auto_flow": null,
      "grid_auto_rows": null,
      "grid_column": null,
      "grid_gap": null,
      "grid_row": null,
      "grid_template_areas": null,
      "grid_template_columns": null,
      "grid_template_rows": null,
      "height": null,
      "justify_content": null,
      "justify_items": null,
      "left": null,
      "margin": null,
      "max_height": null,
      "max_width": null,
      "min_height": null,
      "min_width": null,
      "object_fit": null,
      "object_position": null,
      "order": null,
      "overflow": null,
      "overflow_x": null,
      "overflow_y": null,
      "padding": null,
      "right": null,
      "top": null,
      "visibility": null,
      "width": null
     }
    },
    "6cae7c3c23a741bb83efb14c4efe4e96": {
     "model_module": "@jupyter-widgets/controls",
     "model_name": "FloatProgressModel",
     "state": {
      "_dom_classes": [],
      "_model_module": "@jupyter-widgets/controls",
      "_model_module_version": "1.5.0",
      "_model_name": "FloatProgressModel",
      "_view_count": null,
      "_view_module": "@jupyter-widgets/controls",
      "_view_module_version": "1.5.0",
      "_view_name": "ProgressView",
      "bar_style": "success",
      "description": "100%",
      "description_tooltip": null,
      "layout": "IPY_MODEL_ccf9eb29be7e41c08cf94d38146bf8c4",
      "max": 734,
      "min": 0,
      "orientation": "horizontal",
      "style": "IPY_MODEL_b49c2618d32e4964a0becc334cd23c40",
      "value": 734
     }
    },
    "b49c2618d32e4964a0becc334cd23c40": {
     "model_module": "@jupyter-widgets/controls",
     "model_name": "ProgressStyleModel",
     "state": {
      "_model_module": "@jupyter-widgets/controls",
      "_model_module_version": "1.5.0",
      "_model_name": "ProgressStyleModel",
      "_view_count": null,
      "_view_module": "@jupyter-widgets/base",
      "_view_module_version": "1.2.0",
      "_view_name": "StyleView",
      "bar_color": null,
      "description_width": "initial"
     }
    },
    "ccf9eb29be7e41c08cf94d38146bf8c4": {
     "model_module": "@jupyter-widgets/base",
     "model_name": "LayoutModel",
     "state": {
      "_model_module": "@jupyter-widgets/base",
      "_model_module_version": "1.2.0",
      "_model_name": "LayoutModel",
      "_view_count": null,
      "_view_module": "@jupyter-widgets/base",
      "_view_module_version": "1.2.0",
      "_view_name": "LayoutView",
      "align_content": null,
      "align_items": null,
      "align_self": null,
      "border": null,
      "bottom": null,
      "display": null,
      "flex": null,
      "flex_flow": null,
      "grid_area": null,
      "grid_auto_columns": null,
      "grid_auto_flow": null,
      "grid_auto_rows": null,
      "grid_column": null,
      "grid_gap": null,
      "grid_row": null,
      "grid_template_areas": null,
      "grid_template_columns": null,
      "grid_template_rows": null,
      "height": null,
      "justify_content": null,
      "justify_items": null,
      "left": null,
      "margin": null,
      "max_height": null,
      "max_width": null,
      "min_height": null,
      "min_width": null,
      "object_fit": null,
      "object_position": null,
      "order": null,
      "overflow": null,
      "overflow_x": null,
      "overflow_y": null,
      "padding": null,
      "right": null,
      "top": null,
      "visibility": null,
      "width": null
     }
    },
    "e96ebc5dbb774aaa92160fa537e04873": {
     "model_module": "@jupyter-widgets/base",
     "model_name": "LayoutModel",
     "state": {
      "_model_module": "@jupyter-widgets/base",
      "_model_module_version": "1.2.0",
      "_model_name": "LayoutModel",
      "_view_count": null,
      "_view_module": "@jupyter-widgets/base",
      "_view_module_version": "1.2.0",
      "_view_name": "LayoutView",
      "align_content": null,
      "align_items": null,
      "align_self": null,
      "border": null,
      "bottom": null,
      "display": null,
      "flex": null,
      "flex_flow": null,
      "grid_area": null,
      "grid_auto_columns": null,
      "grid_auto_flow": null,
      "grid_auto_rows": null,
      "grid_column": null,
      "grid_gap": null,
      "grid_row": null,
      "grid_template_areas": null,
      "grid_template_columns": null,
      "grid_template_rows": null,
      "height": null,
      "justify_content": null,
      "justify_items": null,
      "left": null,
      "margin": null,
      "max_height": null,
      "max_width": null,
      "min_height": null,
      "min_width": null,
      "object_fit": null,
      "object_position": null,
      "order": null,
      "overflow": null,
      "overflow_x": null,
      "overflow_y": null,
      "padding": null,
      "right": null,
      "top": null,
      "visibility": null,
      "width": null
     }
    },
    "f05a3b085f6c4367b2ad9e7c64111944": {
     "model_module": "@jupyter-widgets/controls",
     "model_name": "HTMLModel",
     "state": {
      "_dom_classes": [],
      "_model_module": "@jupyter-widgets/controls",
      "_model_module_version": "1.5.0",
      "_model_name": "HTMLModel",
      "_view_count": null,
      "_view_module": "@jupyter-widgets/controls",
      "_view_module_version": "1.5.0",
      "_view_name": "HTMLView",
      "description": "",
      "description_tooltip": null,
      "layout": "IPY_MODEL_e96ebc5dbb774aaa92160fa537e04873",
      "placeholder": "​",
      "style": "IPY_MODEL_fe78bd05081e44fca5ec25b209214182",
      "value": " 734/734 [00:00&lt;00:00, 3056.94it/s]"
     }
    },
    "fe78bd05081e44fca5ec25b209214182": {
     "model_module": "@jupyter-widgets/controls",
     "model_name": "DescriptionStyleModel",
     "state": {
      "_model_module": "@jupyter-widgets/controls",
      "_model_module_version": "1.5.0",
      "_model_name": "DescriptionStyleModel",
      "_view_count": null,
      "_view_module": "@jupyter-widgets/base",
      "_view_module_version": "1.2.0",
      "_view_name": "StyleView",
      "description_width": ""
     }
    },
    "fede378240fb4eaab3630b590b709107": {
     "model_module": "@jupyter-widgets/controls",
     "model_name": "HBoxModel",
     "state": {
      "_dom_classes": [],
      "_model_module": "@jupyter-widgets/controls",
      "_model_module_version": "1.5.0",
      "_model_name": "HBoxModel",
      "_view_count": null,
      "_view_module": "@jupyter-widgets/controls",
      "_view_module_version": "1.5.0",
      "_view_name": "HBoxView",
      "box_style": "",
      "children": [
       "IPY_MODEL_6cae7c3c23a741bb83efb14c4efe4e96",
       "IPY_MODEL_f05a3b085f6c4367b2ad9e7c64111944"
      ],
      "layout": "IPY_MODEL_210b148eb11347759a0455155eac8846"
     }
    }
   }
  }
 },
 "nbformat": 4,
 "nbformat_minor": 1
}
