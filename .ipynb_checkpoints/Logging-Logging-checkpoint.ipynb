{
 "cells": [
  {
   "cell_type": "code",
   "execution_count": 1,
   "id": "227892de",
   "metadata": {},
   "outputs": [],
   "source": [
    "# Import logging module\n",
    "import logging\n",
    "\n",
    "# Build and config the logger\n",
    "logging.basicConfig(filename = \"main.log\",\n",
    "                   format = \"%(asctime)s %(message)s\",\n",
    "                   filemode = \"w\")\n",
    "\n",
    "# set an object for the logger\n",
    "new_logger = logging.getLogger()\n",
    "\n",
    "# set threshold to debug\n",
    "new_logger.setLevel(logging.DEBUG)\n",
    "\n",
    "# Test Messages for that log\n",
    "new_logger.debug(\"This is a Harmless debug message\")\n",
    "new_logger.info(\"Information message\")\n",
    "new_logger.warning(\"A warning message\")\n",
    "new_logger.error(\"This is an error message\")\n",
    "new_logger.critical(\"No Internet, Internet is down now\")"
   ]
  },
  {
   "cell_type": "code",
   "execution_count": null,
   "id": "da71e4d7",
   "metadata": {},
   "outputs": [],
   "source": []
  },
  {
   "cell_type": "code",
   "execution_count": null,
   "id": "22de21c0",
   "metadata": {},
   "outputs": [],
   "source": []
  }
 ],
 "metadata": {
  "kernelspec": {
   "display_name": "Python 3 (ipykernel)",
   "language": "python",
   "name": "python3"
  },
  "language_info": {
   "codemirror_mode": {
    "name": "ipython",
    "version": 3
   },
   "file_extension": ".py",
   "mimetype": "text/x-python",
   "name": "python",
   "nbconvert_exporter": "python",
   "pygments_lexer": "ipython3",
   "version": "3.9.7"
  }
 },
 "nbformat": 4,
 "nbformat_minor": 5
}
