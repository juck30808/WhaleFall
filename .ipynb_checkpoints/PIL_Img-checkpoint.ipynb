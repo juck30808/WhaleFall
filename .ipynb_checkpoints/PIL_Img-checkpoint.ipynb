{
 "cells": [
  {
   "cell_type": "code",
   "execution_count": 1,
   "metadata": {},
   "outputs": [
    {
     "name": "stdout",
     "output_type": "stream",
     "text": [
      "Requirement already satisfied: Pillow in c:\\users\\cti110016\\anaconda3\\lib\\site-packages (8.4.0)\n"
     ]
    }
   ],
   "source": [
    "!pip install Pillow"
   ]
  },
  {
   "cell_type": "markdown",
   "metadata": {},
   "source": [
    "- Image.open() : 開啟指定照片，後面括弧要放路徑\n",
    "- show() : 顯示指定照片，前面要接變數名稱以及點號\n",
    "- save() : 將處理完的照片存檔，前面要接變數名稱以及點號\n",
    "- size() : 取得圖片長寬"
   ]
  },
  {
   "cell_type": "markdown",
   "metadata": {},
   "source": [
    "## 內容"
   ]
  },
  {
   "cell_type": "code",
   "execution_count": 2,
   "metadata": {},
   "outputs": [
    {
     "name": "stdout",
     "output_type": "stream",
     "text": [
      "Type:  <class 'PIL.PngImagePlugin.PngImageFile'>\n",
      "Size:  (242, 255)\n",
      "Width , Height =>  242 , 255\n",
      "Width:  242\n",
      "Height:  255\n",
      "Format:  PNG\n",
      "Color Mode: RGBA\n"
     ]
    }
   ],
   "source": [
    "import PIL.Image as MyImage\n",
    "\n",
    "img = MyImage.open(\"./input/Sample.png\")\n",
    "img.show()\n",
    "\n",
    "\n",
    "print(\"Type: \",type(img))\n",
    "img_size=img.size\n",
    "print(\"Size: \",img_size)\n",
    "\n",
    "w=img_size[0]\n",
    "h=img_size[1]\n",
    "print(\"Width , Height => \",w,\",\",h)\n",
    "print(\"Width: \",img.width)\n",
    "print(\"Height: \",img.height)\n",
    "print(\"Format: \",img.format)\n",
    "print(\"Color Mode:\",img.mode)\n"
   ]
  },
  {
   "cell_type": "markdown",
   "metadata": {},
   "source": [
    "## 照片旋轉 (rotate & Flip)"
   ]
  },
  {
   "cell_type": "code",
   "execution_count": 3,
   "metadata": {
    "scrolled": true
   },
   "outputs": [],
   "source": [
    "from PIL import Image\n",
    "\n",
    "img = Image.open(\"./input/Sample.png\")\n",
    "img.show()\n",
    "newImg = img.rotate(90) \n",
    "newImg.show()\n",
    "newImg.save(\"./output/Sample90.png\")"
   ]
  },
  {
   "cell_type": "code",
   "execution_count": 4,
   "metadata": {},
   "outputs": [],
   "source": [
    "img = MyImage.open(\"./input/Sample.png\")\n",
    "\n",
    "#img_transpose=img.transpose(MyImage.ROTATE_90)\n",
    "#img_transpose=img_transpose.transpose(MyImage.ROTATE_90)\n",
    "#----------flip-----------\n",
    "img_transpose=img.transpose(MyImage.FLIP_TOP_BOTTOM)\n",
    "img_transpose.show()\n",
    "#--------- save image------------\n",
    "img_transpose.save(\"./output/Sample_flip.png\")\n",
    "#img_transpose.save(\"Out/me_2021_rotate90.png\")"
   ]
  },
  {
   "cell_type": "markdown",
   "metadata": {},
   "source": [
    "## 轉檔"
   ]
  },
  {
   "cell_type": "code",
   "execution_count": 5,
   "metadata": {},
   "outputs": [],
   "source": [
    "from PIL import Image\n",
    "\n",
    "img = Image.open(\"./input/Sample.png\")\n",
    "img.show()\n",
    "\n",
    "newImg = img\n",
    "newImg.save(\"./output/Sample.png\",\"png\")"
   ]
  },
  {
   "cell_type": "markdown",
   "metadata": {},
   "source": [
    "## 灰階轉換 (convert)"
   ]
  },
  {
   "cell_type": "code",
   "execution_count": 6,
   "metadata": {},
   "outputs": [],
   "source": [
    "from PIL import Image\n",
    "\n",
    "img = Image.open(\"./input/Sample.png\")\n",
    "img.show()\n",
    "\n",
    "newImg = img.convert('1')  \n",
    "newImg.show()\n",
    "newImg.save(\"./output/Sample_convert.png\")"
   ]
  },
  {
   "cell_type": "markdown",
   "metadata": {},
   "source": [
    "## 更改圖片尺寸 (resize)"
   ]
  },
  {
   "cell_type": "code",
   "execution_count": 7,
   "metadata": {},
   "outputs": [],
   "source": [
    "from PIL import Image\n",
    "\n",
    "img = Image.open(\"./input/Sample.png\")\n",
    "img.show()\n",
    "\n",
    "newImg = img.resize((50,100),Image.LANCZOS)   #img.resize((int(img.width/4),int(img.height/4)))\n",
    "newImg.show()\n",
    "newImg.save(\"./output/Sample_size.png\")"
   ]
  },
  {
   "cell_type": "markdown",
   "metadata": {},
   "source": [
    "## 裁切圖片 (crop)"
   ]
  },
  {
   "cell_type": "code",
   "execution_count": 8,
   "metadata": {},
   "outputs": [],
   "source": [
    "import PIL.Image as MyImage\n",
    "\n",
    "img= MyImage.open(\"./input/Sample.png\")\n",
    "img.show()\n",
    "    \n",
    "img_cropped=img.crop((180,100,290,145))    #( X,Y , X1,Y1) => ( X,Y , X+width,Y+height )\n",
    "img_cropped.show()\n",
    "img_cropped.save(\"./output/Sample_crop.png\")"
   ]
  },
  {
   "cell_type": "markdown",
   "metadata": {},
   "source": [
    "## 嵌字 (Draw)"
   ]
  },
  {
   "cell_type": "code",
   "execution_count": 9,
   "metadata": {},
   "outputs": [],
   "source": [
    "from PIL import Image, ImageDraw, ImageFont\n",
    "\n",
    "img  = Image.open(\"./input/Sample.png\")\n",
    "img.show()\n",
    "\n",
    "draw = ImageDraw.Draw(img)\n",
    "font  = ImageFont.truetype(\"kaiu.ttf\", 20)\n",
    "color  = \"purple\"\n",
    "text = \"Test\"\n",
    "draw.text((10, 10), text, fill=color, font=font)\n",
    "\n",
    "img.show()\n",
    "img.save(\"./output/Sample_sign.png\")"
   ]
  },
  {
   "cell_type": "code",
   "execution_count": 10,
   "metadata": {},
   "outputs": [],
   "source": [
    "import PIL.Image as MyImage\n",
    "import PIL.ImageDraw as MyImgDraw\n",
    "\n",
    "img =MyImage.open(\"./input/Sample.png\")\n",
    "img.show()\n",
    "\n",
    "ImgDraw=MyImgDraw.Draw(img)\n",
    "ImgDraw.text((100,100),\"Hi, I am juck30808!\",fill=(200,0,0))    #RGB\n",
    "\n",
    "img.show()\n",
    "img.save(\"./output/Sample_draw.png\")"
   ]
  },
  {
   "cell_type": "code",
   "execution_count": 11,
   "metadata": {},
   "outputs": [],
   "source": [
    "import PIL.Image as MyImage\n",
    "import PIL.ImageDraw as MyImgDraw\n",
    "import PIL.ImageFont as MyImgFont\n",
    "\n",
    "img = MyImage.open(\"./input/Sample.png\")\n",
    "\n",
    "#MyFont=MyImgFont.truetype(\"tt1034m_.ttf\",28)\n",
    "MyFont=MyImgFont.truetype(\"input/font1.ttf\",50)\n",
    "ImgDraw=MyImgDraw.Draw(img)\n",
    "ImgDraw.text((10,50),\"juck30808!\",font=MyFont, fill=(200,0,0))#red,green,blue\n",
    "\n",
    "img.show()\n",
    "img.save(\"./output/Sample_draw.png\")"
   ]
  },
  {
   "cell_type": "markdown",
   "metadata": {},
   "source": [
    "## 複製 (thumbnail)"
   ]
  },
  {
   "cell_type": "code",
   "execution_count": 12,
   "metadata": {},
   "outputs": [],
   "source": [
    "import PIL.Image as MyImage\n",
    "\n",
    "img = MyImage.open(\"./input/Sample.png\")\n",
    "img_copy=img.copy()\n",
    "img_copy.thumbnail((100,100))\n",
    "img_copy.show()\n",
    "\n",
    "img_copy.save(\"./output/Sample_copy.png\")"
   ]
  },
  {
   "cell_type": "markdown",
   "metadata": {},
   "source": [
    "## 調整濾鏡 (Filter)"
   ]
  },
  {
   "cell_type": "code",
   "execution_count": 13,
   "metadata": {},
   "outputs": [],
   "source": [
    "import PIL.Image as MyImage\n",
    "import PIL.ImageFilter as MyFilter\n",
    "\n",
    "img = MyImage.open(\"./input/Sample.png\")\n",
    "img.show()\n",
    "\n",
    "#Blur_Image=img.filter(MyFilter.BLUR)\n",
    "#Blur_Image=img.filter(MyFilter.BoxBlur(1))\n",
    "Blur_Image=img.filter(MyFilter.GaussianBlur(radius=20))\n",
    "\n",
    "Blur_Image.show()\n",
    "Blur_Image.save(\"./output/Sample_FilterBlur.png\")"
   ]
  },
  {
   "cell_type": "code",
   "execution_count": 14,
   "metadata": {},
   "outputs": [],
   "source": [
    "import PIL.Image as MyImage\n",
    "import PIL.ImageFilter as MyFilter\n",
    "\n",
    "img = MyImage.open(\"./input/Sample.png\")\n",
    "img.show()\n",
    "\n",
    "Sharpen_Image=img.filter(MyFilter.SHARPEN)\n",
    "\n",
    "Sharpen_Image.show()\n",
    "Sharpen_Image.save(\"./output/Sample_FilterSharpen.png\")"
   ]
  },
  {
   "cell_type": "code",
   "execution_count": 15,
   "metadata": {},
   "outputs": [],
   "source": [
    "import PIL.Image as MyImage\n",
    "import PIL.ImageFilter as MyFilter\n",
    "\n",
    "img=MyImage.open(\"./input/Sample.png\")\n",
    "img.show()\n",
    "\n",
    "Smooth_Image=img.filter(MyFilter.SMOOTH_MORE)\n",
    "\n",
    "Smooth_Image.show()\n",
    "Smooth_Image.save(\"./output/Sample_FilterSmooth.png\")"
   ]
  },
  {
   "cell_type": "code",
   "execution_count": 16,
   "metadata": {},
   "outputs": [],
   "source": [
    "import PIL.Image as MyImage\n",
    "import PIL.ImageFilter as MyFilter\n",
    "\n",
    "img = MyImage.open(\"./input/Sample.png\")\n",
    "img.show()\n",
    "\n",
    "Contour_Image=img.filter(MyFilter.CONTOUR)\n",
    "\n",
    "Contour_Image.show()\n",
    "Contour_Image.save(\"./output/Sample_FilterCounter.png\")"
   ]
  },
  {
   "cell_type": "code",
   "execution_count": 17,
   "metadata": {},
   "outputs": [],
   "source": [
    "import PIL.Image as MyImage\n",
    "import PIL.ImageFilter as MyFilter\n",
    "\n",
    "img = MyImage.open(\"./input/Sample.png\")\n",
    "img.show()\n",
    "\n",
    "Detail_Image=img.filter(MyFilter.DETAIL)\n",
    "\n",
    "Detail_Image.show()\n",
    "Detail_Image.save(\"./output/Sample_FilterDETAIL.png\")"
   ]
  },
  {
   "cell_type": "code",
   "execution_count": 18,
   "metadata": {},
   "outputs": [],
   "source": [
    "import PIL.Image as MyImage\n",
    "import PIL.ImageFilter as MyFilter\n",
    "\n",
    "img = MyImage.open(\"./input/Sample.png\")\n",
    "img.show()\n",
    "\n",
    "EdgeEn_Image=img.filter(MyFilter.EDGE_ENHANCE_MORE)\n",
    "\n",
    "EdgeEn_Image.show()\n",
    "EdgeEn_Image.save(\"./output/Sample_FilterEdge.png\")"
   ]
  },
  {
   "cell_type": "code",
   "execution_count": 19,
   "metadata": {},
   "outputs": [],
   "source": [
    "import PIL.Image as MyImage\n",
    "import PIL.ImageFilter as MyFilter\n",
    "\n",
    "img = MyImage.open(\"./input/Sample.png\")\n",
    "img.show()\n",
    "\n",
    "Find_Edges_Image=img.filter(MyFilter.FIND_EDGES)\n",
    "\n",
    "Find_Edges_Image.show()\n",
    "Find_Edges_Image.save(\"./output/Sample_FilterFEdge.png\")"
   ]
  },
  {
   "cell_type": "code",
   "execution_count": 20,
   "metadata": {},
   "outputs": [],
   "source": [
    "import PIL.Image as MyImage\n",
    "import PIL.ImageFilter as MyFilter\n",
    "\n",
    "img = MyImage.open(\"./input/Sample.png\")\n",
    "img.show()\n",
    "\n",
    "Emboss_Image=img.filter(MyFilter.EMBOSS)\n",
    "Emboss_Image.show()\n",
    "\n",
    "Emboss_Image.save(\"./output/Sample_FilterEmboss.png\")"
   ]
  },
  {
   "cell_type": "markdown",
   "metadata": {},
   "source": [
    "## 合併圖片 combine (paste)"
   ]
  },
  {
   "cell_type": "code",
   "execution_count": 21,
   "metadata": {},
   "outputs": [],
   "source": [
    "from PIL import Image\n",
    "\n",
    "imageA = Image.open('./input/Sample.png')\n",
    "imageB = Image.open('./input/dogeweak.png')\n",
    "imageB = imageB.convert(\"RGBA\")\n",
    "widthB , heightB = imageB.size\n",
    "\n",
    "newimageB  = imageB.resize((int(widthB*0.2),int(heightB*0.2)),Image.LANCZOS)\n",
    "\n",
    "resultPicture = Image.new('RGBA', imageA.size, (0, 0, 0, 0))\n",
    "\n",
    "resultPicture.paste(imageA,(0,0))\n",
    "resultPicture.paste(newimageB, (0,0), newimageB)\n",
    "resultPicture.show()\n",
    "resultPicture.save(\"./output/result.png\")"
   ]
  },
  {
   "cell_type": "markdown",
   "metadata": {},
   "source": [
    "## Resize and add Logo"
   ]
  },
  {
   "cell_type": "code",
   "execution_count": 22,
   "metadata": {},
   "outputs": [],
   "source": [
    "import os\n",
    "from PIL import Image\n",
    "\n",
    "SQUARE_FIT_SIZE = 300\n",
    "LOGO_FILENAME = 'input/catlogo.png'\n",
    "logoIm = Image.open(LOGO_FILENAME)\n",
    "logoWidth, logoHeight = logoIm.size\n",
    "os.makedirs('withLogo', exist_ok=True)\n",
    "\n",
    "# Loop over all files in the working directory.\n",
    "for filename in os.listdir('.'):\n",
    "    if not (filename.lower().endswith('.png') or filename.lower().endswith('.jpg')\n",
    "            or filename.lower().endswith('.gif') or filename.lower().endswith('bmp')) \\\n",
    "        or filename == LOGO_FILENAME:\n",
    "        continue # skip non-image files and the logo file itself\n",
    "\n",
    "    im = Image.open(filename)\n",
    "    width, height = im.size\n",
    "\n",
    "    # Check if image needs to be resized.\n",
    "    if width > SQUARE_FIT_SIZE and height > SQUARE_FIT_SIZE:\n",
    "        # Calculate the new width and height to resize to.\n",
    "        if width > height:\n",
    "            height = int((SQUARE_FIT_SIZE / width) * height)\n",
    "            width = SQUARE_FIT_SIZE\n",
    "        else:\n",
    "            width = int((SQUARE_FIT_SIZE / height) * width)\n",
    "            height = SQUARE_FIT_SIZE\n",
    "\n",
    "    # Resize the image.\n",
    "    print('Resizing %s...' % (filename))\n",
    "    im = im.resize((width, height))\n",
    "\n",
    "    # Add the logo if it fits properly in image.\n",
    "    imWidth, imHeight = im.size\n",
    "    if imWidth < logoWidth * 2 and imHeight < logoHeight * 2:\n",
    "        print(\"Logo taking up too much space in image so skipped..\")\n",
    "    else:\n",
    "        print('Adding logo to %s...' % (filename))\n",
    "        im.paste(logoIm, (width - logoWidth, height - logoHeight), logoIm)\n",
    "\n",
    "    # Save changes.\n",
    "    im.save(os.path.join('withLogo', filename))"
   ]
  },
  {
   "cell_type": "code",
   "execution_count": null,
   "metadata": {},
   "outputs": [],
   "source": []
  }
 ],
 "metadata": {
  "kernelspec": {
   "display_name": "Python 3 (ipykernel)",
   "language": "python",
   "name": "python3"
  },
  "language_info": {
   "codemirror_mode": {
    "name": "ipython",
    "version": 3
   },
   "file_extension": ".py",
   "mimetype": "text/x-python",
   "name": "python",
   "nbconvert_exporter": "python",
   "pygments_lexer": "ipython3",
   "version": "3.9.7"
  }
 },
 "nbformat": 4,
 "nbformat_minor": 4
}
