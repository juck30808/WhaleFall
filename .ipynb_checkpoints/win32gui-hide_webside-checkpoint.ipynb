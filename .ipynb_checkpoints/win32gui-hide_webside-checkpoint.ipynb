{
 "cells": [
  {
   "cell_type": "code",
   "execution_count": 3,
   "id": "64eb3a6d",
   "metadata": {},
   "outputs": [],
   "source": [
    "import win32gui\n",
    "import win32con\n",
    "import winxpgui\n",
    "import win32api\n",
    "\n",
    "import subprocess\n",
    "import time\n",
    "\n",
    "\n",
    "subprocess.Popen(\"start chrome\", shell=True) ## open chrome\n",
    "time.sleep(5)\n",
    "                                #Tab name\n",
    "hwnd = win32gui.FindWindow(None, \"新分頁 - Google Chrome\")\n",
    "\n",
    "win32gui.SetWindowLong (hwnd, \n",
    "                        win32con.GWL_EXSTYLE, \n",
    "                        win32gui.GetWindowLong (hwnd, win32con.GWL_EXSTYLE ) | win32con.WS_EX_LAYERED )\n",
    "\n",
    "winxpgui.SetLayeredWindowAttributes(hwnd, \n",
    "                                    win32api.RGB(0,0,0), \n",
    "                                    30,                  # transparency \n",
    "                                    win32con.LWA_ALPHA)"
   ]
  },
  {
   "cell_type": "code",
   "execution_count": null,
   "id": "997c1ed5",
   "metadata": {},
   "outputs": [],
   "source": []
  }
 ],
 "metadata": {
  "kernelspec": {
   "display_name": "Python 3 (ipykernel)",
   "language": "python",
   "name": "python3"
  },
  "language_info": {
   "codemirror_mode": {
    "name": "ipython",
    "version": 3
   },
   "file_extension": ".py",
   "mimetype": "text/x-python",
   "name": "python",
   "nbconvert_exporter": "python",
   "pygments_lexer": "ipython3",
   "version": "3.9.7"
  }
 },
 "nbformat": 4,
 "nbformat_minor": 5
}
