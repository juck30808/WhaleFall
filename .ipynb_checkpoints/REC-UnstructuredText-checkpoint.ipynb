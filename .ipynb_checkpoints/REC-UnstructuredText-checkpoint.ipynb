{
 "cells": [
  {
   "cell_type": "markdown",
   "metadata": {},
   "source": [
    "## Classifying Unstructured text 非結構化文本分類法 \n",
    "\n",
    "### 結構化數據\n",
    "在前幾個章節中，我們學習瞭如何使用人們對物品的評價（五星、頂和踩）來進行推薦；還 使用了他們的隱式評價——買過什麼，點擊過什麼；我們利用特徵來進行分類，如身高、體 重、對法案的投票等。這些數據有一個共性——能用表格來展現\n",
    "\n",
    "### 非結構化數據\n",
    "而非結構化的數據指的是諸如電子郵件文本、推特信息、博客、新 聞等。這些數據至少第一眼看起來是無法用一張表格來展現的。舉個例子，我們想從推特信息中獲取用戶對各種電影的評價\n",
    "\n",
    "資料來源： http://guidetodatamining.com/chapter7/"
   ]
  },
  {
   "cell_type": "code",
   "execution_count": 1,
   "metadata": {},
   "outputs": [
    {
     "name": "stdout",
     "output_type": "stream",
     "text": [
      "Reg stoplist 0 \n",
      "Counting ...\n",
      "    alt.atheism\n",
      "    comp.graphics\n",
      "    comp.os.ms-windows.misc\n",
      "    comp.sys.ibm.pc.hardware\n",
      "    comp.sys.mac.hardware\n",
      "    comp.windows.x\n",
      "    misc.forsale\n",
      "    rec.autos\n",
      "    rec.motorcycles\n",
      "    rec.sport.baseball\n",
      "    rec.sport.hockey\n",
      "    sci.crypt\n",
      "    sci.electronics\n",
      "    sci.med\n",
      "    sci.space\n",
      "    soc.religion.christian\n",
      "    talk.politics.guns\n",
      "    talk.politics.mideast\n",
      "    talk.politics.misc\n",
      "    talk.religion.misc\n",
      "Computing probabilities:\n",
      "    alt.atheism\n",
      "    comp.graphics\n",
      "    comp.os.ms-windows.misc\n",
      "    comp.sys.ibm.pc.hardware\n",
      "    comp.sys.mac.hardware\n",
      "    comp.windows.x\n",
      "    misc.forsale\n",
      "    rec.autos\n",
      "    rec.motorcycles\n",
      "    rec.sport.baseball\n",
      "    rec.sport.hockey\n",
      "    sci.crypt\n",
      "    sci.electronics\n",
      "    sci.med\n",
      "    sci.space\n",
      "    soc.religion.christian\n",
      "    talk.politics.guns\n",
      "    talk.politics.mideast\n",
      "    talk.politics.misc\n",
      "    talk.religion.misc\n",
      "DONE TRAINING\n",
      "\n",
      "\n",
      "Running Test ...\n",
      "....................\n",
      "\n",
      "Accuracy is  77.774827%  (7532 test instances)\n",
      "\n",
      "\n",
      "Reg stoplist 25 \n",
      "Counting ...\n",
      "    alt.atheism\n",
      "    comp.graphics\n",
      "    comp.os.ms-windows.misc\n",
      "    comp.sys.ibm.pc.hardware\n",
      "    comp.sys.mac.hardware\n",
      "    comp.windows.x\n",
      "    misc.forsale\n",
      "    rec.autos\n",
      "    rec.motorcycles\n",
      "    rec.sport.baseball\n",
      "    rec.sport.hockey\n",
      "    sci.crypt\n",
      "    sci.electronics\n",
      "    sci.med\n",
      "    sci.space\n",
      "    soc.religion.christian\n",
      "    talk.politics.guns\n",
      "    talk.politics.mideast\n",
      "    talk.politics.misc\n",
      "    talk.religion.misc\n",
      "Computing probabilities:\n",
      "    alt.atheism\n",
      "    comp.graphics\n",
      "    comp.os.ms-windows.misc\n",
      "    comp.sys.ibm.pc.hardware\n",
      "    comp.sys.mac.hardware\n",
      "    comp.windows.x\n",
      "    misc.forsale\n",
      "    rec.autos\n",
      "    rec.motorcycles\n",
      "    rec.sport.baseball\n",
      "    rec.sport.hockey\n",
      "    sci.crypt\n",
      "    sci.electronics\n",
      "    sci.med\n",
      "    sci.space\n",
      "    soc.religion.christian\n",
      "    talk.politics.guns\n",
      "    talk.politics.mideast\n",
      "    talk.politics.misc\n",
      "    talk.religion.misc\n",
      "DONE TRAINING\n",
      "\n",
      "\n",
      "Running Test ...\n",
      "....................\n",
      "\n",
      "Accuracy is  78.757302%  (7532 test instances)\n",
      "\n",
      "\n",
      "Reg stoplist 174 \n",
      "Counting ...\n",
      "    alt.atheism\n",
      "    comp.graphics\n",
      "    comp.os.ms-windows.misc\n",
      "    comp.sys.ibm.pc.hardware\n",
      "    comp.sys.mac.hardware\n",
      "    comp.windows.x\n",
      "    misc.forsale\n",
      "    rec.autos\n",
      "    rec.motorcycles\n",
      "    rec.sport.baseball\n",
      "    rec.sport.hockey\n",
      "    sci.crypt\n",
      "    sci.electronics\n",
      "    sci.med\n",
      "    sci.space\n",
      "    soc.religion.christian\n",
      "    talk.politics.guns\n",
      "    talk.politics.mideast\n",
      "    talk.politics.misc\n",
      "    talk.religion.misc\n",
      "Computing probabilities:\n",
      "    alt.atheism\n",
      "    comp.graphics\n",
      "    comp.os.ms-windows.misc\n",
      "    comp.sys.ibm.pc.hardware\n",
      "    comp.sys.mac.hardware\n",
      "    comp.windows.x\n",
      "    misc.forsale\n",
      "    rec.autos\n",
      "    rec.motorcycles\n",
      "    rec.sport.baseball\n",
      "    rec.sport.hockey\n",
      "    sci.crypt\n",
      "    sci.electronics\n",
      "    sci.med\n",
      "    sci.space\n",
      "    soc.religion.christian\n",
      "    talk.politics.guns\n",
      "    talk.politics.mideast\n",
      "    talk.politics.misc\n",
      "    talk.religion.misc\n",
      "DONE TRAINING\n",
      "\n",
      "\n",
      "Running Test ...\n",
      "....................\n",
      "\n",
      "Accuracy is  79.938927%  (7532 test instances)\n"
     ]
    }
   ],
   "source": [
    "from __future__ import print_function\n",
    "import os, codecs, math\n",
    "\n",
    "class BayesText:\n",
    "    def __init__(self, trainingdir, stopwordlist):\n",
    "        self.vocabulary = {}\n",
    "        self.prob = {}\n",
    "        self.totals = {}\n",
    "        self.stopwords = {}\n",
    "        f = open(stopwordlist)\n",
    "        for line in f:\n",
    "            self.stopwords[line.strip()] = 1\n",
    "        f.close()\n",
    "        categories = os.listdir(trainingdir)\n",
    "        \n",
    "        #filter out files that are not directories\n",
    "        self.categories = [filename for filename in categories\n",
    "                           if os.path.isdir(trainingdir + filename)]\n",
    "        print(\"Counting ...\")\n",
    "        for category in self.categories:\n",
    "            print('    ' + category)\n",
    "            (self.prob[category],\n",
    "             self.totals[category]) = self.train(trainingdir, category)\n",
    "            \n",
    "        # I am going to eliminate any word in the vocabulary\n",
    "        # that doesn't occur at least 3 times\n",
    "        toDelete = []\n",
    "        for word in self.vocabulary:\n",
    "            if self.vocabulary[word] < 3:\n",
    "                toDelete.append(word)\n",
    "                \n",
    "        # now delete\n",
    "        for word in toDelete:\n",
    "            del self.vocabulary[word]\n",
    "            \n",
    "        # now compute probabilities\n",
    "        vocabLength = len(self.vocabulary)\n",
    "        print(\"Computing probabilities:\")\n",
    "        for category in self.categories:\n",
    "            print('    ' + category)\n",
    "            denominator = self.totals[category] + vocabLength\n",
    "            for word in self.vocabulary:\n",
    "                if word in self.prob[category]:\n",
    "                    count = self.prob[category][word]\n",
    "                else:\n",
    "                    count = 1\n",
    "                self.prob[category][word] = (float(count + 1)\n",
    "                                             / denominator)\n",
    "        print (\"DONE TRAINING\\n\\n\")\n",
    "                    \n",
    "\n",
    "    def train(self, trainingdir, category):\n",
    "        \"\"\"counts word occurrences for a particular category\"\"\"\n",
    "        currentdir = trainingdir + category\n",
    "        files = os.listdir(currentdir)\n",
    "        counts = {}\n",
    "        total = 0\n",
    "        for file in files:\n",
    "            #print(currentdir + '/' + file)\n",
    "            f = codecs.open(currentdir + '/' + file, 'r', 'iso8859-1')\n",
    "            for line in f:\n",
    "                tokens = line.split()\n",
    "                for token in tokens:\n",
    "                    # get rid of punctuation and lowercase token\n",
    "                    token = token.strip('\\'\".,?:-')\n",
    "                    token = token.lower()\n",
    "                    if token != '' and not token in self.stopwords:\n",
    "                        self.vocabulary.setdefault(token, 0)\n",
    "                        self.vocabulary[token] += 1\n",
    "                        counts.setdefault(token, 0)\n",
    "                        counts[token] += 1\n",
    "                        total += 1\n",
    "            f.close()\n",
    "        return(counts, total)\n",
    "                    \n",
    "                    \n",
    "    def classify(self, filename):\n",
    "        results = {}\n",
    "        for category in self.categories:\n",
    "            results[category] = 0\n",
    "        f = codecs.open(filename, 'r', 'iso8859-1')\n",
    "        for line in f:\n",
    "            tokens = line.split()\n",
    "            for token in tokens:\n",
    "                #print(token)\n",
    "                token = token.strip('\\'\".,?:-').lower()\n",
    "                if token in self.vocabulary:\n",
    "                    for category in self.categories:\n",
    "                        if self.prob[category][token] == 0:\n",
    "                            print(\"%s %s\" % (category, token))\n",
    "                        results[category] += math.log(\n",
    "                            self.prob[category][token])\n",
    "        f.close()\n",
    "        results = list(results.items())\n",
    "        results.sort(key=lambda tuple: tuple[1], reverse = True)\n",
    "        # for debugging I can change this to give me the entire list\n",
    "        return results[0][0]\n",
    "\n",
    "    def testCategory(self, directory, category):\n",
    "        files = os.listdir(directory)\n",
    "        total = 0\n",
    "        correct = 0\n",
    "        for file in files:\n",
    "            total += 1\n",
    "            result = self.classify(directory + file)\n",
    "            if result == category:\n",
    "                correct += 1\n",
    "        return (correct, total)\n",
    "\n",
    "    def test(self, testdir):\n",
    "        \"\"\"Test all files in the test directory--that directory is\n",
    "        organized into subdirectories--each subdir is a classification\n",
    "        category\"\"\"\n",
    "        categories = os.listdir(testdir)\n",
    "        #filter out files that are not directories\n",
    "        categories = [filename for filename in categories if\n",
    "                      os.path.isdir(testdir + filename)]\n",
    "        correct = 0\n",
    "        total = 0\n",
    "        for category in categories:\n",
    "            print(\".\", end=\"\")\n",
    "            (catCorrect, catTotal) = self.testCategory(\n",
    "                testdir + category + '/', category)\n",
    "            correct += catCorrect\n",
    "            total += catTotal\n",
    "        print(\"\\n\\nAccuracy is  %f%%  (%i test instances)\" %\n",
    "              ((float(correct) / total) * 100, total))\n",
    "            \n",
    "# change these to match your directory structure\n",
    "baseDirectory = \"input/20news-bydate/\"\n",
    "trainingDir = baseDirectory + \"20news-bydate-train/\"\n",
    "testDir = baseDirectory + \"20news-bydate-test/\"\n",
    "\n",
    "\n",
    "stoplistfile = \"input/20news-bydate/stopwords0.txt\"\n",
    "print(\"Reg stoplist 0 \")\n",
    "bT = BayesText(trainingDir, baseDirectory + \"stopwords0.txt\")\n",
    "print(\"Running Test ...\")\n",
    "bT.test(testDir)\n",
    "\n",
    "print(\"\\n\\nReg stoplist 25 \")\n",
    "bT = BayesText(trainingDir, baseDirectory + \"stopwords25.txt\")\n",
    "print(\"Running Test ...\")\n",
    "bT.test(testDir)\n",
    "\n",
    "print(\"\\n\\nReg stoplist 174 \")\n",
    "bT = BayesText(trainingDir, baseDirectory + \"stopwords174.txt\")\n",
    "print(\"Running Test ...\")\n",
    "bT.test(testDir)\n"
   ]
  },
  {
   "cell_type": "code",
   "execution_count": null,
   "metadata": {},
   "outputs": [],
   "source": [
    "# 使用 stoplist 後的效果(準確度)\n",
    "# Reg stoplist 0 \n",
    "# Accuracy is  77.774827%  (7532 test instances)\n",
    "\n",
    "# Reg stoplist 25 \n",
    "# Accuracy is  78.757302%  (7532 test instances)\n",
    "\n",
    "# Reg stoplist 174\n",
    "# Accuracy is  79.938927%  (7532 test instances)"
   ]
  },
  {
   "cell_type": "code",
   "execution_count": 2,
   "metadata": {},
   "outputs": [
    {
     "name": "stdout",
     "output_type": "stream",
     "text": [
      "Counting ...\n",
      "    alt.atheism\n",
      "    comp.graphics\n",
      "    comp.os.ms-windows.misc\n",
      "    comp.sys.ibm.pc.hardware\n",
      "    comp.sys.mac.hardware\n",
      "    comp.windows.x\n",
      "    misc.forsale\n",
      "    rec.autos\n",
      "    rec.motorcycles\n",
      "    rec.sport.baseball\n",
      "    rec.sport.hockey\n",
      "    sci.crypt\n",
      "    sci.electronics\n",
      "    sci.med\n",
      "    sci.space\n",
      "    soc.religion.christian\n",
      "    talk.politics.guns\n",
      "    talk.politics.mideast\n",
      "    talk.politics.misc\n",
      "    talk.religion.misc\n",
      "Computing probabilities:\n",
      "    alt.atheism\n",
      "    comp.graphics\n",
      "    comp.os.ms-windows.misc\n",
      "    comp.sys.ibm.pc.hardware\n",
      "    comp.sys.mac.hardware\n",
      "    comp.windows.x\n",
      "    misc.forsale\n",
      "    rec.autos\n",
      "    rec.motorcycles\n",
      "    rec.sport.baseball\n",
      "    rec.sport.hockey\n",
      "    sci.crypt\n",
      "    sci.electronics\n",
      "    sci.med\n",
      "    sci.space\n",
      "    soc.religion.christian\n",
      "    talk.politics.guns\n",
      "    talk.politics.mideast\n",
      "    talk.politics.misc\n",
      "    talk.religion.misc\n",
      "DONE TRAINING\n",
      "\n",
      "\n"
     ]
    },
    {
     "data": {
      "text/plain": [
       "0.00013149319093954743"
      ]
     },
     "execution_count": 2,
     "metadata": {},
     "output_type": "execute_result"
    }
   ],
   "source": [
    "bT = BayesText(trainingDir,stoplistfile)\n",
    "bT.prob[\"rec.motorcycles\"][\"god\"]"
   ]
  },
  {
   "cell_type": "code",
   "execution_count": 3,
   "metadata": {},
   "outputs": [
    {
     "data": {
      "text/plain": [
       "0.004279741099379018"
      ]
     },
     "execution_count": 3,
     "metadata": {},
     "output_type": "execute_result"
    }
   ],
   "source": [
    "bT.prob[\"soc.religion.christian\"][\"god\"]"
   ]
  },
  {
   "cell_type": "code",
   "execution_count": 4,
   "metadata": {},
   "outputs": [
    {
     "data": {
      "text/plain": [
       "0.02867123272007958"
      ]
     },
     "execution_count": 4,
     "metadata": {},
     "output_type": "execute_result"
    }
   ],
   "source": [
    "bT.prob[\"rec.motorcycles\"][\"the\"]"
   ]
  },
  {
   "cell_type": "code",
   "execution_count": 5,
   "metadata": {},
   "outputs": [
    {
     "data": {
      "text/plain": [
       "0.04015586576280091"
      ]
     },
     "execution_count": 5,
     "metadata": {},
     "output_type": "execute_result"
    }
   ],
   "source": [
    "bT.prob[\"soc.religion.christian\"][\"the\"]"
   ]
  },
  {
   "cell_type": "markdown",
   "metadata": {},
   "source": [
    "god這個詞在rec.motorcycles新聞組中出現的概率是0.00013，而在soc.religion.christian新聞 組中出現的概率是0.00424。"
   ]
  },
  {
   "cell_type": "code",
   "execution_count": 8,
   "metadata": {},
   "outputs": [
    {
     "data": {
      "text/plain": [
       "'rec.motorcycles'"
      ]
     },
     "execution_count": 8,
     "metadata": {},
     "output_type": "execute_result"
    }
   ],
   "source": [
    "bT.classify(\"input/20news-bydate/20news-bydate-test/rec.motorcycles/104673\")"
   ]
  },
  {
   "cell_type": "code",
   "execution_count": 9,
   "metadata": {},
   "outputs": [
    {
     "data": {
      "text/plain": [
       "'sci.med'"
      ]
     },
     "execution_count": 9,
     "metadata": {},
     "output_type": "execute_result"
    }
   ],
   "source": [
    "bT.classify(\"input/20news-bydate/20news-bydate-test/sci.med/59246\")"
   ]
  },
  {
   "cell_type": "code",
   "execution_count": 11,
   "metadata": {},
   "outputs": [
    {
     "data": {
      "text/plain": [
       "'soc.religion.christian'"
      ]
     },
     "execution_count": 11,
     "metadata": {},
     "output_type": "execute_result"
    }
   ],
   "source": [
    "bT.classify(\"input/20news-bydate/20news-bydate-test/soc.religion.christian/21424\")"
   ]
  },
  {
   "cell_type": "markdown",
   "metadata": {},
   "source": [
    "## 樸素貝葉斯與情感分析"
   ]
  },
  {
   "cell_type": "code",
   "execution_count": null,
   "metadata": {},
   "outputs": [],
   "source": []
  }
 ],
 "metadata": {
  "kernelspec": {
   "display_name": "Python 3",
   "language": "python",
   "name": "python3"
  },
  "language_info": {
   "codemirror_mode": {
    "name": "ipython",
    "version": 3
   },
   "file_extension": ".py",
   "mimetype": "text/x-python",
   "name": "python",
   "nbconvert_exporter": "python",
   "pygments_lexer": "ipython3",
   "version": "3.8.5"
  }
 },
 "nbformat": 4,
 "nbformat_minor": 4
}
