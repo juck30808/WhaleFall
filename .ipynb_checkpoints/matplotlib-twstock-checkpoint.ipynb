{
 "cells": [
  {
   "cell_type": "code",
   "execution_count": 1,
   "id": "5c6efb70",
   "metadata": {},
   "outputs": [],
   "source": [
    "#!pip install twstock"
   ]
  },
  {
   "cell_type": "code",
   "execution_count": 2,
   "id": "ee375807",
   "metadata": {},
   "outputs": [],
   "source": [
    "#!pip install lxml"
   ]
  },
  {
   "cell_type": "code",
   "execution_count": 3,
   "id": "fcbc0d93",
   "metadata": {},
   "outputs": [
    {
     "ename": "ModuleNotFoundError",
     "evalue": "No module named 'twstock'",
     "output_type": "error",
     "traceback": [
      "\u001b[0;31m---------------------------------------------------------------------------\u001b[0m",
      "\u001b[0;31mModuleNotFoundError\u001b[0m                       Traceback (most recent call last)",
      "\u001b[0;32m/var/folders/9q/486czkcn7lv5v0hwbt71twdc0000gn/T/ipykernel_10999/1880815.py\u001b[0m in \u001b[0;36m<module>\u001b[0;34m\u001b[0m\n\u001b[0;32m----> 1\u001b[0;31m \u001b[0;32mimport\u001b[0m \u001b[0mtwstock\u001b[0m\u001b[0;34m\u001b[0m\u001b[0;34m\u001b[0m\u001b[0m\n\u001b[0m\u001b[1;32m      2\u001b[0m \u001b[0;32mimport\u001b[0m \u001b[0mnumpy\u001b[0m \u001b[0;32mas\u001b[0m \u001b[0mnp\u001b[0m\u001b[0;34m\u001b[0m\u001b[0;34m\u001b[0m\u001b[0m\n\u001b[1;32m      3\u001b[0m \u001b[0;32mimport\u001b[0m \u001b[0mmatplotlib\u001b[0m\u001b[0;34m.\u001b[0m\u001b[0mpyplot\u001b[0m \u001b[0;32mas\u001b[0m \u001b[0mplt\u001b[0m\u001b[0;34m\u001b[0m\u001b[0;34m\u001b[0m\u001b[0m\n\u001b[1;32m      4\u001b[0m \u001b[0mstock\u001b[0m \u001b[0;34m=\u001b[0m \u001b[0mtwstock\u001b[0m\u001b[0;34m.\u001b[0m\u001b[0mStock\u001b[0m\u001b[0;34m(\u001b[0m\u001b[0;34m\"0050\"\u001b[0m\u001b[0;34m)\u001b[0m\u001b[0;34m\u001b[0m\u001b[0;34m\u001b[0m\u001b[0m\n\u001b[1;32m      5\u001b[0m \u001b[0mprice\u001b[0m \u001b[0;34m=\u001b[0m \u001b[0mnp\u001b[0m\u001b[0;34m.\u001b[0m\u001b[0marray\u001b[0m\u001b[0;34m(\u001b[0m\u001b[0mstock\u001b[0m\u001b[0;34m.\u001b[0m\u001b[0mprice\u001b[0m\u001b[0;34m)\u001b[0m\u001b[0;34m\u001b[0m\u001b[0;34m\u001b[0m\u001b[0m\n",
      "\u001b[0;31mModuleNotFoundError\u001b[0m: No module named 'twstock'"
     ]
    }
   ],
   "source": [
    "import twstock\n",
    "import numpy as np\n",
    "import matplotlib.pyplot as plt\n",
    "stock = twstock.Stock(\"0050\")\n",
    "price = np.array(stock.price)\n",
    "date = stock.date\n",
    "plt.plot(date,price)\n",
    "plt.xticks(rotation = 30)\n",
    "plt.title(\"0050\")"
   ]
  },
  {
   "cell_type": "code",
   "execution_count": null,
   "id": "b61363f3",
   "metadata": {},
   "outputs": [],
   "source": [
    "# 尋找峰值\n",
    "from scipy.signal import argrelextrema\n",
    "max_index = argrelextrema(price, np.greater)[0]\n",
    "peak = price[max_index]  \n",
    "print(f\"peak:{peak}\")"
   ]
  },
  {
   "cell_type": "code",
   "execution_count": null,
   "id": "44eb45b7",
   "metadata": {},
   "outputs": [],
   "source": [
    "# 尋找峰值\n",
    "from scipy.signal import argrelextrema\n",
    "max_index = argrelextrema(price, np.greater)[0]\n",
    "peak = price[max_index]  \n",
    "print(f\"peak:{peak}\")"
   ]
  },
  {
   "cell_type": "code",
   "execution_count": null,
   "id": "1b8547f4",
   "metadata": {},
   "outputs": [],
   "source": [
    "# 繪圖峰值\n",
    "plt.plot(date,price)\n",
    "plt.xticks(rotation = 30)\n",
    "for index in max_index:\n",
    "    plt.scatter(date[index],price[index],c=\"r\")\n",
    "plt.show()"
   ]
  },
  {
   "cell_type": "code",
   "execution_count": null,
   "id": "1a258978",
   "metadata": {},
   "outputs": [],
   "source": [
    "# 計算移動平均\n",
    "import pandas as pd\n",
    "series_price = pd.Series(price)\n",
    "series_price_ma3 = series_price.rolling(3).mean()\n",
    "series_price_ma5 = series_price.rolling(5).mean()"
   ]
  },
  {
   "cell_type": "code",
   "execution_count": null,
   "id": "07f7c9c8",
   "metadata": {},
   "outputs": [],
   "source": [
    "# 移動平均繪圖比較\n",
    "p1 = plt.plot(date,series_price)\n",
    "p2 = plt.plot(date,series_price_ma3)\n",
    "p3 = plt.plot(date,series_price_ma5,c=\"r\")\n",
    "plt.legend(['origin', '3 day MA', \"5 day MA\"])\n",
    "plt.xticks(rotation = 30)\n",
    "plt.title(\"0050\")"
   ]
  },
  {
   "cell_type": "code",
   "execution_count": null,
   "id": "a715db89",
   "metadata": {},
   "outputs": [],
   "source": [
    "# 取出np類型的資料\n",
    "y = np.array(series_price_ma5)[4:]\n",
    "x = np.array(range(len(y)))\n",
    "# 用polyfit去擬合曲線\n",
    "parameter=np.polyfit(x,y,10) # 以一個10次方程去擬合\n",
    "parameter_fn=np.poly1d(parameter)\n",
    "plt.plot(parameter_fn(x),c=\"r\",linestyle=\"--\")\n",
    "plt.plot(x,y)"
   ]
  },
  {
   "cell_type": "markdown",
   "id": "88a44afe",
   "metadata": {},
   "source": [
    "## 混淆矩陣(Confusion Matrix)——\n",
    "\n",
    "- 正確率(Accuracy)——全部對多少\n",
    "- 敏感度 (Sensitivity)、回想率 (recall)——把握住多少機會\n",
    "- 準確度 (Specificity)——避開多少雷\n",
    "- 精準率 (precision)——出手押中了有多少\n",
    "- F1-score——平衡Precision和Recall的指標"
   ]
  },
  {
   "cell_type": "code",
   "execution_count": null,
   "id": "219c8208",
   "metadata": {},
   "outputs": [],
   "source": []
  }
 ],
 "metadata": {
  "kernelspec": {
   "display_name": "Python 3 (ipykernel)",
   "language": "python",
   "name": "python3"
  },
  "language_info": {
   "codemirror_mode": {
    "name": "ipython",
    "version": 3
   },
   "file_extension": ".py",
   "mimetype": "text/x-python",
   "name": "python",
   "nbconvert_exporter": "python",
   "pygments_lexer": "ipython3",
   "version": "3.9.7"
  }
 },
 "nbformat": 4,
 "nbformat_minor": 5
}
