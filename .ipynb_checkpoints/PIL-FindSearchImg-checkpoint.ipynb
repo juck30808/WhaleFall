{
 "cells": [
  {
   "cell_type": "code",
   "execution_count": null,
   "metadata": {},
   "outputs": [],
   "source": [
    "import os\n",
    "from PIL import Image\n",
    "\n",
    "def find(root):\n",
    "    for foldername, subfolders, filenames in os.walk(root):\n",
    "        numPhotoFiles = 0\n",
    "        numNonPhotoFiles = 0\n",
    "        for filename in filenames:\n",
    "            # Check if file extension isn't .png or .jpg.\n",
    "            if not (filename.lower().endswith('.png') or filename.lower().endswith('.jpg')):\n",
    "                numNonPhotoFiles += 1\n",
    "                continue    # skip to next filename\n",
    "\n",
    "            # Open image file using Pillow.\n",
    "            try:\n",
    "                im = Image.open(os.path.join(foldername, filename))\n",
    "            except OSError:\n",
    "                continue\n",
    "\n",
    "            width, height = im.size\n",
    "\n",
    "            # Check if width & height are larger than 500.\n",
    "            if width > 500 and height > 500:\n",
    "                # Image is large enough to be considered a photo.\n",
    "                numPhotoFiles += 1\n",
    "            else:\n",
    "                # Image is too small to be a photo.\n",
    "                numNonPhotoFiles += 1\n",
    "\n",
    "        # If more than half of files were photos,\n",
    "        # print the absolute path of the folder.\n",
    "        if numPhotoFiles > numNonPhotoFiles:\n",
    "            print(os.path.abspath(foldername))\n",
    "\n",
    "\n",
    "if __name__ == \"__main__\":\n",
    "    find('/')"
   ]
  }
 ],
 "metadata": {
  "kernelspec": {
   "display_name": "Python 3 (ipykernel)",
   "language": "python",
   "name": "python3"
  },
  "language_info": {
   "codemirror_mode": {
    "name": "ipython",
    "version": 3
   },
   "file_extension": ".py",
   "mimetype": "text/x-python",
   "name": "python",
   "nbconvert_exporter": "python",
   "pygments_lexer": "ipython3",
   "version": "3.9.7"
  }
 },
 "nbformat": 4,
 "nbformat_minor": 4
}
