{
 "cells": [
  {
   "cell_type": "markdown",
   "metadata": {},
   "source": [
    "## Natural language processing"
   ]
  },
  {
   "cell_type": "code",
   "execution_count": 2,
   "metadata": {},
   "outputs": [
    {
     "name": "stdout",
     "output_type": "stream",
     "text": [
      "Requirement already satisfied: nltk in c:\\users\\cti110016\\anaconda3\\lib\\site-packages (3.5)\n",
      "Requirement already satisfied: click in c:\\users\\cti110016\\anaconda3\\lib\\site-packages (from nltk) (7.1.2)\n",
      "Requirement already satisfied: joblib in c:\\users\\cti110016\\anaconda3\\lib\\site-packages (from nltk) (0.17.0)\n",
      "Requirement already satisfied: tqdm in c:\\users\\cti110016\\anaconda3\\lib\\site-packages (from nltk) (4.50.2)\n",
      "Requirement already satisfied: regex in c:\\users\\cti110016\\anaconda3\\lib\\site-packages (from nltk) (2020.10.15)\n",
      "Note: you may need to restart the kernel to use updated packages.\n"
     ]
    }
   ],
   "source": [
    "pip install nltk"
   ]
  },
  {
   "cell_type": "code",
   "execution_count": 3,
   "metadata": {},
   "outputs": [
    {
     "name": "stdout",
     "output_type": "stream",
     "text": [
      "showing info https://raw.githubusercontent.com/nltk/nltk_data/gh-pages/index.xml\n"
     ]
    },
    {
     "data": {
      "text/plain": [
       "True"
      ]
     },
     "execution_count": 3,
     "metadata": {},
     "output_type": "execute_result"
    }
   ],
   "source": [
    "import nltk \n",
    "nltk.download()   # auto download Run"
   ]
  },
  {
   "cell_type": "code",
   "execution_count": 4,
   "metadata": {},
   "outputs": [
    {
     "data": {
      "text/plain": [
       "['I', 'have', 'a', 'pen', '.', 'You', 'had', 'two', 'apples', '.']"
      ]
     },
     "execution_count": 4,
     "metadata": {},
     "output_type": "execute_result"
    }
   ],
   "source": [
    "import nltk \n",
    "text = \"I have a pen. You had two apples.\"\n",
    "token = nltk.word_tokenize(text)\n",
    "token"
   ]
  },
  {
   "cell_type": "code",
   "execution_count": 5,
   "metadata": {},
   "outputs": [
    {
     "data": {
      "text/plain": [
       "['I', 'have', 'a', 'pen', '.', 'you', 'had', 'two', 'appl', '.']"
      ]
     },
     "execution_count": 5,
     "metadata": {},
     "output_type": "execute_result"
    }
   ],
   "source": [
    "from nltk import PorterStemmer\n",
    "PS = PorterStemmer()\n",
    "token_stem  = [PS.stem(word) for word in token]\n",
    "token_stem"
   ]
  },
  {
   "cell_type": "markdown",
   "metadata": {},
   "source": [
    "## Read open"
   ]
  },
  {
   "cell_type": "code",
   "execution_count": 11,
   "metadata": {},
   "outputs": [
    {
     "name": "stdout",
     "output_type": "stream",
     "text": [
      "Aeque enim contingit omnibus fidibus, ut incontentae sint.\n",
      "Lorem ipsum dolor sit amet, consectetur adipiscing elit. Quae cum ita sint, effectum est nihil esse malum, quod turpe non sit. Itaque nostrum est-quod nostrum dico, artis est-ad ea principia, quae accepimus. Quod totum contra est. Duo Reges: constructio interrete. Atqui iste locus est, Piso, tibi etiam atque etiam confirmandus, inquam; Quamvis enim depravatae non sint, pravae tamen esse possunt. Duarum enim vitarum nobis erunt instituta capienda.\n",
      "\n",
      "Non igitur de improbo, sed de callido improbo quaerimus, qualis Q. Audio equidem philosophi vocem, Epicure, sed quid tibi dicendum sit oblitus es. Ex ea difficultate illae fallaciloquae, ut ait Accius, malitiae natae sunt. At multis malis affectus. Nam quibus rebus efficiuntur voluptates, eae non sunt in potestate sapientis. Quis est tam dissimile homini. Ut proverbia non nulla veriora sint quam vestra dogmata. Si quicquam extra virtutem habeatur in bonis. Sed plane dicit quod intellegit. Paulum, cum regem Persem captum adduceret, eodem flumine invectio?\n",
      "\n",
      "Qui ita affectus, beatum esse numquam probabis; Sed nimis multa. Nam prius a se poterit quisque discedere quam appetitum earum rerum, quae sibi conducant, amittere. Familiares nostros, credo, Sironem dicis et Philodemum, cum optimos viros, tum homines doctissimos. Quod iam a me expectare noli. Quid ergo?\n",
      "\n",
      "Eademne, quae restincta siti? Ita relinquet duas, de quibus etiam atque etiam consideret. Illa videamus, quae a te de amicitia dicta sunt. Eaedem res maneant alio modo. Quid ergo attinet gloriose loqui, nisi constanter loquare? Prioris generis est docilitas, memoria; Portenta haec esse dicit, neque ea ratione ullo modo posse vivi; Beatum, inquit. Bestiarum vero nullum iudicium puto.\n",
      "\n",
      "Quem Tiberina descensio festo illo die tanto gaudio affecit, quanto L. Quorum sine causa fieri nihil putandum est. Tria genera bonorum; Nunc dicam de voluptate, nihil scilicet novi, ea tamen, quae te ipsum probaturum esse confidam. Illud dico, ea, quae dicat, praeclare inter se cohaerere. Fortemne possumus dicere eundem illum Torquatum? Hoc tu nunc in illo probas. Cur post Tarentum ad Archytam?\n",
      "\n",
      "Indicant pueri, in quibus ut in speculis natura cernitur.\n",
      "Sed tamen est aliquid, quod nobis non liceat, liceat illis. Virtutis, magnitudinis animi, patientiae, fortitudinis fomentis dolor mitigari solet. Piso igitur hoc modo, vir optimus tuique, ut scis, amantissimus. Non prorsus, inquit, omnisque, qui sine dolore sint, in voluptate, et ea quidem summa, esse dico. Potius inflammat, ut coercendi magis quam dedocendi esse videantur. Virtutis, magnitudinis animi, patientiae, fortitudinis fomentis dolor mitigari solet. Quae fere omnia appellantur uno ingenii nomine, easque virtutes qui habent, ingeniosi vocantur. Nec enim, dum metuit, iustus est, et certe, si metuere destiterit, non erit;\n"
     ]
    }
   ],
   "source": [
    "# 讀取純文字檔案\n",
    "text=\"\"\n",
    "with open(\"sample.txt\",\"r\") as f:\n",
    "    text = f.read()\n",
    "    print(text)"
   ]
  },
  {
   "cell_type": "code",
   "execution_count": 12,
   "metadata": {
    "scrolled": true
   },
   "outputs": [
    {
     "name": "stdout",
     "output_type": "stream",
     "text": [
      "[['Aeque enim contingit omnibus fidibus', ' ut incontentae sint.'], ['Lorem ipsum dolor sit amet', ' consectetur adipiscing elit. Quae cum ita sint', ' effectum est nihil esse malum', ' quod turpe non sit. Itaque nostrum est-quod nostrum dico', ' artis est-ad ea principia', ' quae accepimus. Quod totum contra est. Duo Reges: constructio interrete. Atqui iste locus est', ' Piso', ' tibi etiam atque etiam confirmandus', ' inquam; Quamvis enim depravatae non sint', ' pravae tamen esse possunt. Duarum enim vitarum nobis erunt instituta capienda.'], [''], ['Non igitur de improbo', ' sed de callido improbo quaerimus', ' qualis Q. Audio equidem philosophi vocem', ' Epicure', ' sed quid tibi dicendum sit oblitus es. Ex ea difficultate illae fallaciloquae', ' ut ait Accius', ' malitiae natae sunt. At multis malis affectus. Nam quibus rebus efficiuntur voluptates', ' eae non sunt in potestate sapientis. Quis est tam dissimile homini. Ut proverbia non nulla veriora sint quam vestra dogmata. Si quicquam extra virtutem habeatur in bonis. Sed plane dicit quod intellegit. Paulum', ' cum regem Persem captum adduceret', ' eodem flumine invectio?'], [''], ['Qui ita affectus', ' beatum esse numquam probabis; Sed nimis multa. Nam prius a se poterit quisque discedere quam appetitum earum rerum', ' quae sibi conducant', ' amittere. Familiares nostros', ' credo', ' Sironem dicis et Philodemum', ' cum optimos viros', ' tum homines doctissimos. Quod iam a me expectare noli. Quid ergo?'], [''], ['Eademne', ' quae restincta siti? Ita relinquet duas', ' de quibus etiam atque etiam consideret. Illa videamus', ' quae a te de amicitia dicta sunt. Eaedem res maneant alio modo. Quid ergo attinet gloriose loqui', ' nisi constanter loquare? Prioris generis est docilitas', ' memoria; Portenta haec esse dicit', ' neque ea ratione ullo modo posse vivi; Beatum', ' inquit. Bestiarum vero nullum iudicium puto.'], [''], ['Quem Tiberina descensio festo illo die tanto gaudio affecit', ' quanto L. Quorum sine causa fieri nihil putandum est. Tria genera bonorum; Nunc dicam de voluptate', ' nihil scilicet novi', ' ea tamen', ' quae te ipsum probaturum esse confidam. Illud dico', ' ea', ' quae dicat', ' praeclare inter se cohaerere. Fortemne possumus dicere eundem illum Torquatum? Hoc tu nunc in illo probas. Cur post Tarentum ad Archytam?'], [''], ['Indicant pueri', ' in quibus ut in speculis natura cernitur.'], ['Sed tamen est aliquid', ' quod nobis non liceat', ' liceat illis. Virtutis', ' magnitudinis animi', ' patientiae', ' fortitudinis fomentis dolor mitigari solet. Piso igitur hoc modo', ' vir optimus tuique', ' ut scis', ' amantissimus. Non prorsus', ' inquit', ' omnisque', ' qui sine dolore sint', ' in voluptate', ' et ea quidem summa', ' esse dico. Potius inflammat', ' ut coercendi magis quam dedocendi esse videantur. Virtutis', ' magnitudinis animi', ' patientiae', ' fortitudinis fomentis dolor mitigari solet. Quae fere omnia appellantur uno ingenii nomine', ' easque virtutes qui habent', ' ingeniosi vocantur. Nec enim', ' dum metuit', ' iustus est', ' et certe', ' si metuere destiterit', ' non erit;']]\n"
     ]
    }
   ],
   "source": [
    "# 逐行讀取\n",
    "data = []\n",
    "with open(\"sample.txt\",\"r\") as f:\n",
    "    for line in f:\n",
    "        line = line.strip()\n",
    "        data.append(line.split(\",\"))\n",
    "\n",
    "print(data)"
   ]
  },
  {
   "cell_type": "code",
   "execution_count": 1,
   "metadata": {},
   "outputs": [
    {
     "name": "stdout",
     "output_type": "stream",
     "text": [
      "Please enter your name Jerry\n"
     ]
    }
   ],
   "source": [
    "user_name = input(\"Please enter your name \")\n",
    "print(user_name)"
   ]
  },
  {
   "cell_type": "code",
   "execution_count": 2,
   "metadata": {},
   "outputs": [
    {
     "name": "stdout",
     "output_type": "stream",
     "text": [
      "I\\’m  can\\’t\n"
     ]
    }
   ],
   "source": [
    "msg1=  \"I’m\"\n",
    "msg1=  \"I\\’m\"\n",
    "msg2=  \"I can’t\"\n",
    "msg2 = \" can\\’t\"\n",
    "print(msg1+\" \"+msg2)"
   ]
  },
  {
   "cell_type": "markdown",
   "metadata": {},
   "source": [
    "## Capitalize"
   ]
  },
  {
   "cell_type": "code",
   "execution_count": 3,
   "metadata": {},
   "outputs": [
    {
     "name": "stdout",
     "output_type": "stream",
     "text": [
      "Enter the given input value: \n",
      "\n"
     ]
    }
   ],
   "source": [
    "def cap(s):\n",
    "    for x in s.split():\n",
    "        s = s.replace(x, x.capitalize())\n",
    "    print(s)\n",
    "s= input('Enter the given input value: ')\n",
    "cap(s)"
   ]
  },
  {
   "cell_type": "code",
   "execution_count": 3,
   "metadata": {},
   "outputs": [
    {
     "data": {
      "text/plain": [
       "'Python is powerful language'"
      ]
     },
     "execution_count": 3,
     "metadata": {},
     "output_type": "execute_result"
    }
   ],
   "source": [
    "string = 'python is powerful language'\n",
    "string.capitalize() "
   ]
  },
  {
   "cell_type": "code",
   "execution_count": 4,
   "metadata": {},
   "outputs": [
    {
     "data": {
      "text/plain": [
       "'1st programming language'"
      ]
     },
     "execution_count": 4,
     "metadata": {},
     "output_type": "execute_result"
    }
   ],
   "source": [
    "string = '1st programming language'\n",
    "string.capitalize() "
   ]
  },
  {
   "cell_type": "code",
   "execution_count": 5,
   "metadata": {},
   "outputs": [
    {
     "data": {
      "text/plain": [
       "'Python is powerful programming language'"
      ]
     },
     "execution_count": 5,
     "metadata": {},
     "output_type": "execute_result"
    }
   ],
   "source": [
    "string = 'pYTHON IS POWERFUL PROGRAMMING LANGUAGE'\n",
    "string.swapcase() "
   ]
  },
  {
   "cell_type": "code",
   "execution_count": 6,
   "metadata": {
    "scrolled": true
   },
   "outputs": [
    {
     "data": {
      "text/plain": [
       "'Python The Powerful Programming Language'"
      ]
     },
     "execution_count": 6,
     "metadata": {},
     "output_type": "execute_result"
    }
   ],
   "source": [
    "string = 'Python the powerful programming language'\n",
    "string.title()"
   ]
  },
  {
   "cell_type": "markdown",
   "metadata": {},
   "source": [
    "## True or False"
   ]
  },
  {
   "cell_type": "code",
   "execution_count": 7,
   "metadata": {},
   "outputs": [
    {
     "data": {
      "text/plain": [
       "True"
      ]
     },
     "execution_count": 7,
     "metadata": {},
     "output_type": "execute_result"
    }
   ],
   "source": [
    "'abc'.islower()"
   ]
  },
  {
   "cell_type": "code",
   "execution_count": 9,
   "metadata": {},
   "outputs": [
    {
     "data": {
      "text/plain": [
       "False"
      ]
     },
     "execution_count": 9,
     "metadata": {},
     "output_type": "execute_result"
    }
   ],
   "source": [
    "'ABc'.islower()"
   ]
  },
  {
   "cell_type": "code",
   "execution_count": 10,
   "metadata": {},
   "outputs": [
    {
     "data": {
      "text/plain": [
       "False"
      ]
     },
     "execution_count": 10,
     "metadata": {},
     "output_type": "execute_result"
    }
   ],
   "source": [
    "'ABC'.islower()"
   ]
  },
  {
   "cell_type": "code",
   "execution_count": 11,
   "metadata": {},
   "outputs": [
    {
     "data": {
      "text/plain": [
       "True"
      ]
     },
     "execution_count": 11,
     "metadata": {},
     "output_type": "execute_result"
    }
   ],
   "source": [
    "'ABC'.isupper()"
   ]
  },
  {
   "cell_type": "code",
   "execution_count": 12,
   "metadata": {},
   "outputs": [
    {
     "data": {
      "text/plain": [
       "False"
      ]
     },
     "execution_count": 12,
     "metadata": {},
     "output_type": "execute_result"
    }
   ],
   "source": [
    "'AbC'.isupper()"
   ]
  },
  {
   "cell_type": "code",
   "execution_count": 13,
   "metadata": {},
   "outputs": [
    {
     "data": {
      "text/plain": [
       "False"
      ]
     },
     "execution_count": 13,
     "metadata": {},
     "output_type": "execute_result"
    }
   ],
   "source": [
    "'abc'.isupper()"
   ]
  },
  {
   "cell_type": "markdown",
   "metadata": {},
   "source": [
    "## check  if a string contain"
   ]
  },
  {
   "cell_type": "code",
   "execution_count": 15,
   "metadata": {},
   "outputs": [
    {
     "data": {
      "text/plain": [
       "True"
      ]
     },
     "execution_count": 15,
     "metadata": {},
     "output_type": "execute_result"
    }
   ],
   "source": [
    "'user_car'.endswith('car')"
   ]
  },
  {
   "cell_type": "code",
   "execution_count": 16,
   "metadata": {},
   "outputs": [
    {
     "data": {
      "text/plain": [
       "True"
      ]
     },
     "execution_count": 16,
     "metadata": {},
     "output_type": "execute_result"
    }
   ],
   "source": [
    "# check from index 4 to end of string\n",
    "'user_car'.endswith('car', 4)"
   ]
  },
  {
   "cell_type": "code",
   "execution_count": 17,
   "metadata": {},
   "outputs": [
    {
     "data": {
      "text/plain": [
       "False"
      ]
     },
     "execution_count": 17,
     "metadata": {},
     "output_type": "execute_result"
    }
   ],
   "source": [
    "#To check from index 5 to 7\n",
    "'user_car'.endswith('car', 5, 7)"
   ]
  },
  {
   "cell_type": "code",
   "execution_count": 18,
   "metadata": {},
   "outputs": [
    {
     "data": {
      "text/plain": [
       "True"
      ]
     },
     "execution_count": 18,
     "metadata": {},
     "output_type": "execute_result"
    }
   ],
   "source": [
    "#To check from index 4 to 8\n",
    "'user_car'.endswith('car',4, 8)"
   ]
  },
  {
   "cell_type": "code",
   "execution_count": 19,
   "metadata": {},
   "outputs": [
    {
     "data": {
      "text/plain": [
       "True"
      ]
     },
     "execution_count": 19,
     "metadata": {},
     "output_type": "execute_result"
    }
   ],
   "source": [
    "#In order to use a tuple of suffixes as we check from index 4 to 8\n",
    "'user_car'.endswith(('car', 'ar'), 4, 8)"
   ]
  },
  {
   "cell_type": "code",
   "execution_count": 20,
   "metadata": {},
   "outputs": [
    {
     "data": {
      "text/plain": [
       "'This is my car'"
      ]
     },
     "execution_count": 20,
     "metadata": {},
     "output_type": "execute_result"
    }
   ],
   "source": [
    "'This is user car'.replace('user', 'my')"
   ]
  },
  {
   "cell_type": "code",
   "execution_count": 21,
   "metadata": {},
   "outputs": [
    {
     "data": {
      "text/plain": [
       "'Thic ic ucer car'"
      ]
     },
     "execution_count": 21,
     "metadata": {},
     "output_type": "execute_result"
    }
   ],
   "source": [
    "#In order to replace a character many times:\n",
    "'This is user car'.replace('s', 'c', 3)"
   ]
  },
  {
   "cell_type": "code",
   "execution_count": 2,
   "metadata": {},
   "outputs": [
    {
     "name": "stdout",
     "output_type": "stream",
     "text": [
      "good morning to all\n",
      "G0OD MORNING TO ALL\n",
      "13\n",
      "13\n",
      "g0OD moRNing to alL\n",
      "g00D moRNing to alL\n"
     ]
    }
   ],
   "source": [
    "# string methods\n",
    "print (\"gOoD moRNing to alL\".lower())\n",
    "print (\"g0OD moRNing to all\".upper())\n",
    "print (\"gooD moRNing to all\".find('to'))\n",
    "print (\"gOOD moRNing to alL\".find('to'))\n",
    "print (\"g0OD moRNing to alL\". replace('all', ' everybody'))\n",
    "print (\"g00D moRNing to alL\".replace('all', 'everybody'))"
   ]
  },
  {
   "cell_type": "markdown",
   "metadata": {},
   "source": [
    "## Append"
   ]
  },
  {
   "cell_type": "code",
   "execution_count": 2,
   "metadata": {},
   "outputs": [
    {
     "name": "stdout",
     "output_type": "stream",
     "text": [
      "Enter a list of numbers: 1,2,3,4,5,1\n",
      "Original list: (1, 2, 3, 4, 5, 1)\n",
      "Unique list: [2, 3, 4, 5]\n",
      "Duplicate list: [1]\n"
     ]
    }
   ],
   "source": [
    "'''WAP to find frequencies of all elements of a list.\n",
    "Also, print the list of unique elements in the list of\n",
    "duplicate elements in the given list.'''\n",
    "\n",
    "num= eval(input(\"Enter a list of numbers: \"))\n",
    "unique=[]\n",
    "duplc=[]\n",
    "\n",
    "for i in range(0,len(num)):\n",
    "    count=1\n",
    "    if num[i] not in unique and num[i] not in duplc:\n",
    "        for j in range(i+1,len(num)):\n",
    "            if num[i]== num[j]:\n",
    "                count= count+1\n",
    "        else:\n",
    "            if(count==1):\n",
    "                unique.append(num[i])\n",
    "            else:\n",
    "                duplc.append(num[i])\n",
    "\n",
    "print(f\"Original list: {num}\")\n",
    "print(f\"Unique list: {unique}\")\n",
    "print(f\"Duplicate list: {duplc}\")\n"
   ]
  },
  {
   "cell_type": "markdown",
   "metadata": {},
   "source": [
    "## String problem"
   ]
  },
  {
   "cell_type": "code",
   "execution_count": 3,
   "metadata": {},
   "outputs": [
    {
     "name": "stdout",
     "output_type": "stream",
     "text": [
      "Enter the string: Jerry\n",
      "Jry\n"
     ]
    }
   ],
   "source": [
    "#remove the characters of odd index values in a string\n",
    "\n",
    "str1=input(\"Enter the string: \")\n",
    "final=\"\"\n",
    "\n",
    "for i in range(len(str1)):\n",
    "    if i%2 ==0:\n",
    "        final= final+ str1[i]\n",
    "\n",
    "print(final)"
   ]
  },
  {
   "cell_type": "code",
   "execution_count": 4,
   "metadata": {},
   "outputs": [
    {
     "name": "stdout",
     "output_type": "stream",
     "text": [
      "Enter the string: Jerry\n",
      "Jery\n"
     ]
    }
   ],
   "source": [
    "#form a new string made of the first 2 and last 2 characters from a given string\n",
    "\n",
    "s= input(\"Enter the string: \")\n",
    "\n",
    "first=s[:2]\n",
    "last=s[-2:]\n",
    "#final=first+last\n",
    "print(first+last)"
   ]
  },
  {
   "cell_type": "code",
   "execution_count": 5,
   "metadata": {},
   "outputs": [
    {
     "name": "stdout",
     "output_type": "stream",
     "text": [
      "Enter a string: Jerry\n",
      "Enter the index value: 3\n",
      "Modified string : Jery\n"
     ]
    }
   ],
   "source": [
    "#remove the nth index character from a non-empty string\n",
    "\n",
    "s=input(\"Enter a string: \")\n",
    "n= int(input(\"Enter the index value: \"))\n",
    "\n",
    "first= s[0:n]\n",
    "last= s[n+1:]\n",
    "\n",
    "final= first+last\n",
    "print(f\"Modified string : {final}\")"
   ]
  },
  {
   "cell_type": "code",
   "execution_count": 6,
   "metadata": {},
   "outputs": [
    {
     "name": "stdout",
     "output_type": "stream",
     "text": [
      "Enter the string: Jerry\n",
      "Jery\n"
     ]
    }
   ],
   "source": [
    "#replace every space in a string with a hyphen('-')\n",
    "\n",
    "string=input(\"Enter the string: \")\n",
    "\n",
    "for i in range(0,len(string)):\n",
    "    if (string[i]==\" \"):\n",
    "        final=string.replace(\" \",\"-\")\n",
    "\n",
    "print(final)"
   ]
  },
  {
   "cell_type": "markdown",
   "metadata": {},
   "source": [
    "## Email Detect"
   ]
  },
  {
   "cell_type": "code",
   "execution_count": 7,
   "metadata": {
    "scrolled": false
   },
   "outputs": [
    {
     "name": "stdout",
     "output_type": "stream",
     "text": [
      "Enter your personal email ID: Jerry@good\n",
      " It is not belong to domain @gmail.com \n"
     ]
    }
   ],
   "source": [
    "#reads email-id of a person in the form of a string and ensures that it\n",
    "#belongs to domain @gmail.com.(Assumption: No invalid characters are there in email-id).\n",
    "'''\n",
    "ex- rupamdas00001@gmail.com\n",
    "\n",
    "l1= 25\n",
    "l2= 10\n",
    "l1-l2'''\n",
    "\n",
    "address=input(\"Enter your personal email ID: \")\n",
    "\n",
    "domain=\"@gmail.com\"\n",
    "\n",
    "if(address[(len(address)-len(domain)):])== (domain):\n",
    "    print(\" It belongs to domain @gmail.com \")\n",
    "else:\n",
    "    print(\" It is not belong to domain @gmail.com \")\n"
   ]
  },
  {
   "cell_type": "markdown",
   "metadata": {},
   "source": [
    "### Formatting strings: Adding and removing spaces\n",
    "\n",
    "從字符串的開頭或結尾刪除空格（或其他字符）。刪除字符的基本方法是 ``strip()`` 方法，它從行的開頭和結尾去除空格："
   ]
  },
  {
   "cell_type": "code",
   "execution_count": 1,
   "metadata": {},
   "outputs": [
    {
     "data": {
      "text/plain": [
       "'this is the content'"
      ]
     },
     "execution_count": 1,
     "metadata": {},
     "output_type": "execute_result"
    }
   ],
   "source": [
    "line = '         this is the content         '\n",
    "line.strip()"
   ]
  },
  {
   "cell_type": "code",
   "execution_count": 3,
   "metadata": {},
   "outputs": [
    {
     "data": {
      "text/plain": [
       "'         this is the content'"
      ]
     },
     "execution_count": 3,
     "metadata": {},
     "output_type": "execute_result"
    }
   ],
   "source": [
    "line.rstrip()"
   ]
  },
  {
   "cell_type": "code",
   "execution_count": 4,
   "metadata": {},
   "outputs": [
    {
     "data": {
      "text/plain": [
       "'this is the content         '"
      ]
     },
     "execution_count": 4,
     "metadata": {},
     "output_type": "execute_result"
    }
   ],
   "source": [
    "line.lstrip()"
   ]
  },
  {
   "cell_type": "code",
   "execution_count": 5,
   "metadata": {},
   "outputs": [
    {
     "data": {
      "text/plain": [
       "'435'"
      ]
     },
     "execution_count": 5,
     "metadata": {},
     "output_type": "execute_result"
    }
   ],
   "source": [
    "num = \"000000000000435\"\n",
    "num.strip('0')"
   ]
  },
  {
   "cell_type": "code",
   "execution_count": 6,
   "metadata": {},
   "outputs": [
    {
     "data": {
      "text/plain": [
       "'     this is the content      '"
      ]
     },
     "execution_count": 6,
     "metadata": {},
     "output_type": "execute_result"
    }
   ],
   "source": [
    "line = \"this is the content\"\n",
    "line.center(30)"
   ]
  },
  {
   "cell_type": "code",
   "execution_count": 7,
   "metadata": {},
   "outputs": [
    {
     "data": {
      "text/plain": [
       "'this is the content           '"
      ]
     },
     "execution_count": 7,
     "metadata": {},
     "output_type": "execute_result"
    }
   ],
   "source": [
    "line.ljust(30)"
   ]
  },
  {
   "cell_type": "code",
   "execution_count": 8,
   "metadata": {},
   "outputs": [
    {
     "data": {
      "text/plain": [
       "'           this is the content'"
      ]
     },
     "execution_count": 8,
     "metadata": {},
     "output_type": "execute_result"
    }
   ],
   "source": [
    "line.rjust(30)"
   ]
  },
  {
   "cell_type": "code",
   "execution_count": 9,
   "metadata": {},
   "outputs": [
    {
     "data": {
      "text/plain": [
       "'0000000435'"
      ]
     },
     "execution_count": 9,
     "metadata": {},
     "output_type": "execute_result"
    }
   ],
   "source": [
    "'435'.rjust(10, '0')"
   ]
  },
  {
   "cell_type": "code",
   "execution_count": 10,
   "metadata": {},
   "outputs": [
    {
     "data": {
      "text/plain": [
       "'0000000435'"
      ]
     },
     "execution_count": 10,
     "metadata": {},
     "output_type": "execute_result"
    }
   ],
   "source": [
    "'435'.zfill(10)"
   ]
  },
  {
   "cell_type": "code",
   "execution_count": 11,
   "metadata": {},
   "outputs": [
    {
     "data": {
      "text/plain": [
       "False"
      ]
     },
     "execution_count": 11,
     "metadata": {},
     "output_type": "execute_result"
    }
   ],
   "source": [
    "line.endswith('dog')"
   ]
  },
  {
   "cell_type": "code",
   "execution_count": 12,
   "metadata": {},
   "outputs": [
    {
     "data": {
      "text/plain": [
       "False"
      ]
     },
     "execution_count": 12,
     "metadata": {},
     "output_type": "execute_result"
    }
   ],
   "source": [
    "line.startswith('fox')"
   ]
  },
  {
   "cell_type": "code",
   "execution_count": 13,
   "metadata": {},
   "outputs": [
    {
     "data": {
      "text/plain": [
       "['matsushima-ya', 'aah matsushima-ya', 'matsushima-ya']"
      ]
     },
     "execution_count": 13,
     "metadata": {},
     "output_type": "execute_result"
    }
   ],
   "source": [
    "haiku = \"\"\"matsushima-ya\n",
    "aah matsushima-ya\n",
    "matsushima-ya\"\"\"\n",
    "\n",
    "haiku.splitlines()"
   ]
  },
  {
   "cell_type": "markdown",
   "metadata": {},
   "source": [
    "## Formate"
   ]
  },
  {
   "cell_type": "code",
   "execution_count": 1,
   "metadata": {},
   "outputs": [
    {
     "name": "stdout",
     "output_type": "stream",
     "text": [
      "I have a BMW, it is X5.\n"
     ]
    }
   ],
   "source": [
    "# Adding named indexes inside {}\n",
    "neworder = \"I have a {carname}, it is {model}.\"\n",
    "print(neworder.format(carname = \"BMW\", model = \"X5\"))"
   ]
  },
  {
   "cell_type": "code",
   "execution_count": 2,
   "metadata": {},
   "outputs": [
    {
     "name": "stdout",
     "output_type": "stream",
     "text": [
      "The degree is 25.00 Celsius\n"
     ]
    }
   ],
   "source": [
    "# adding placeholder where you want to display the degree\n",
    "degree = 25\n",
    "newtext = \"The degree is {:.2f} Celsius\"\n",
    "print(newtext.format(degree))"
   ]
  },
  {
   "cell_type": "code",
   "execution_count": 3,
   "metadata": {},
   "outputs": [
    {
     "name": "stdout",
     "output_type": "stream",
     "text": [
      "The player name is Joe. Joe is 39 years old!\n"
     ]
    }
   ],
   "source": [
    "# Multiple values to format method \n",
    "# quantity = 5\n",
    "# item_number = 150\n",
    "# price = 71\n",
    "# # add index numbers\n",
    "# neworder = \"We want {0} pieces of item number {1} and for {2:.2f} dollars\"\n",
    "# print(neworder.format(quantity, item_number, price))\n",
    "\n",
    "\n",
    "# adding the same value more than once\n",
    "age = 39\n",
    "name = \"Joe\"\n",
    "newtext = \"The player name is {1}. {1} is {0} years old!\"\n",
    "print(newtext.format(age, name))"
   ]
  },
  {
   "cell_type": "markdown",
   "metadata": {},
   "source": [
    "## PJ"
   ]
  },
  {
   "cell_type": "code",
   "execution_count": 1,
   "metadata": {},
   "outputs": [
    {
     "name": "stdout",
     "output_type": "stream",
     "text": [
      "mensaje1: hola mundo, id: 0x22eb404c670\n",
      "mensaje2: Hola mundo, id: 0x22eb40519f0\n",
      "mensaje1: hola mundoadios, id: 0x22eb404c5b0\n"
     ]
    }
   ],
   "source": [
    "# Profundizando en el tipo str\n",
    "\n",
    "# help(str.capitalize)\n",
    "\n",
    "mensaje1 = 'hola mundo'\n",
    "mensaje2 = mensaje1.capitalize()\n",
    "print(f'mensaje1: {mensaje1}, id: {hex(id(mensaje1))}')\n",
    "print(f'mensaje2: {mensaje2}, id: {hex(id(mensaje2))}')\n",
    "mensaje1 += 'adios'\n",
    "print(f'mensaje1: {mensaje1}, id: {hex(id(mensaje1))}')\n"
   ]
  },
  {
   "cell_type": "code",
   "execution_count": 2,
   "metadata": {},
   "outputs": [
    {
     "name": "stdout",
     "output_type": "stream",
     "text": [
      "Hola Mundo\n",
      "Notación simple: A\n",
      "Notación extendida: A\n",
      "Notación hexadecimal A\n"
     ]
    }
   ],
   "source": [
    "# Profundizando en el tipo str\n",
    "\n",
    "# caracteres unicode\n",
    "print('Hola\\u0020Mundo')\n",
    "print('Notación simple:', '\\u0041')\n",
    "print('Notación extendida:','\\U00000041')\n",
    "print('Notación hexadecimal','\\x41')\n",
    "print('Corazón:','\\u2665')\n",
    "print('Cara sonriendo:','\\U0001f600')\n",
    "print('Serpiente:','\\U0001F40D')\n",
    "\n",
    "# Caracteres ascii\n",
    "caracter = chr(65)\n",
    "print('A mayúscula:', caracter)\n",
    "caracter = chr(64)\n",
    "print('Símbolo @:', caracter)\n",
    "caracter = chr(97)\n",
    "print('a minúscula:', caracter)\n"
   ]
  },
  {
   "cell_type": "code",
   "execution_count": 3,
   "metadata": {},
   "outputs": [
    {
     "name": "stdout",
     "output_type": "stream",
     "text": [
      "Proporcione los siguientes datos del libro: \n",
      "Proporciona el nombre del libro: 56\n",
      "Proporciona el ID del libro: 56\n",
      "Proporciona el valor de libro: 5566\n",
      "Indica si es envío gratuito (True/False): \n",
      "\n",
      "    Nombre: 56\n",
      "    Id: 56\n",
      "    Precio: 5566.0\n",
      "    Envío Gratuito?: Valor incorrecto, debe escribir True/False\n",
      "\n"
     ]
    }
   ],
   "source": [
    "print('Proporcione los siguientes datos del libro: ')\n",
    "nombre = input('Proporciona el nombre del libro: ')\n",
    "id = int(input('Proporciona el ID del libro: '))\n",
    "precio = float(input('Proporciona el valor de libro: '))\n",
    "envioGratuito = input('Indica si es envío gratuito (True/False): ')\n",
    "\n",
    "if envioGratuito == 'True':\n",
    "    envioGratuito = True\n",
    "elif envioGratuito == 'False':\n",
    "    envioGratuito = False\n",
    "else:\n",
    "    envioGratuito = 'Valor incorrecto, debe escribir True/False'\n",
    "\n",
    "print(f'''\n",
    "    Nombre: {nombre}\n",
    "    Id: {id}\n",
    "    Precio: {precio}\n",
    "    Envío Gratuito?: {envioGratuito}\n",
    "''')"
   ]
  },
  {
   "cell_type": "code",
   "execution_count": 4,
   "metadata": {},
   "outputs": [
    {
     "name": "stdout",
     "output_type": "stream",
     "text": [
      "IDE: Integrated Developement Environment\n",
      "PK: Primary Key\n",
      "DBMS: Database Management System\n"
     ]
    }
   ],
   "source": [
    "def listarTerminos(**terminos):\n",
    "    for llave, valor in terminos.items():\n",
    "        print(f'{llave}: {valor}')\n",
    "\n",
    "listarTerminos(IDE='Integrated Developement Environment', PK='Primary Key')\n",
    "listarTerminos(DBMS='Database Management System')"
   ]
  },
  {
   "cell_type": "markdown",
   "metadata": {
    "id": "g7x49WlcDibj"
   },
   "source": [
    "# 十進制浮點運算\n",
    "decimal模塊提供了一種Decimal數據類型用於十進制浮點運算。相比內置的float二進制浮點實現，該類特別適用於\n",
    "<li>財務應用和其他需要精確十進製表示的用途，\n",
    "<li>控制精度，\n",
    "<li>控制四捨五入以滿足法律或監管要求，跟踪有效小數位，或\n",
    "<li>用戶期望結果與手工完成的計算相匹配的應用程序。\n",
    "    \n",
    "https://docs.python.org/zh-tw/3/library/decimal.html#module-decimal"
   ]
  },
  {
   "cell_type": "code",
   "execution_count": null,
   "metadata": {
    "id": "CdoUXkrdDibk",
    "outputId": "3d5c7b2c-35b7-46ce-f732-204ab3ba1041"
   },
   "outputs": [
    {
     "data": {
      "text/plain": [
       "Decimal('0.74')"
      ]
     },
     "execution_count": 48,
     "metadata": {
      "tags": []
     },
     "output_type": "execute_result"
    }
   ],
   "source": [
    "# 例如，使用十進制浮點和二進制浮點數計算70美分手機和5％稅的總費用，會產生的不同結果。如果結果四捨五入到最接近的分數差異會更大\n",
    "from decimal import *\n",
    "round(Decimal('0.70') * Decimal('1.05'), 2)"
   ]
  },
  {
   "cell_type": "code",
   "execution_count": null,
   "metadata": {
    "id": "btNQUEnsDibo",
    "outputId": "1c0f6711-8f95-4547-c242-4a240e8b9579"
   },
   "outputs": [
    {
     "data": {
      "text/plain": [
       "0.73"
      ]
     },
     "execution_count": 49,
     "metadata": {
      "tags": []
     },
     "output_type": "execute_result"
    }
   ],
   "source": [
    "round(.70 * 1.05, 2)"
   ]
  },
  {
   "cell_type": "code",
   "execution_count": null,
   "metadata": {
    "id": "yTymQhx_Dibt",
    "outputId": "4d280dfc-88ee-4736-9556-6cfcf4a1918e"
   },
   "outputs": [
    {
     "data": {
      "text/plain": [
       "0.9999999999999999"
      ]
     },
     "execution_count": 53,
     "metadata": {
      "tags": []
     },
     "output_type": "execute_result"
    }
   ],
   "source": [
    "x = 0.1\n",
    "y = 0\n",
    "for i in range(0,10):\n",
    "    y = y+x\n",
    "y"
   ]
  },
  {
   "cell_type": "code",
   "execution_count": null,
   "metadata": {
    "id": "-3-SOkImDibw",
    "outputId": "4967e781-3140-4960-fb6a-2fc16aa9e79c"
   },
   "outputs": [
    {
     "data": {
      "text/plain": [
       "Decimal('1.0')"
      ]
     },
     "execution_count": 54,
     "metadata": {
      "tags": []
     },
     "output_type": "execute_result"
    }
   ],
   "source": [
    "x = Decimal('0.1')\n",
    "y = Decimal('0')\n",
    "for i in range(0,10):\n",
    "    y = y+x\n",
    "y"
   ]
  },
  {
   "cell_type": "code",
   "execution_count": null,
   "metadata": {
    "id": "cvu8eWb6Dib0",
    "outputId": "d53d589c-848b-4428-c278-1f7139cc80f3"
   },
   "outputs": [
    {
     "data": {
      "text/plain": [
       "Decimal('0.142857142857142857142857142857142857')"
      ]
     },
     "execution_count": 59,
     "metadata": {
      "tags": []
     },
     "output_type": "execute_result"
    }
   ],
   "source": [
    "# decimal 模塊提供了運算所需要的足夠精度\n",
    "getcontext().prec = 36\n",
    "Decimal(1) / Decimal(7)"
   ]
  },
  {
   "cell_type": "code",
   "execution_count": null,
   "metadata": {
    "id": "cnAxB1q9Dib5",
    "outputId": "d8f042b5-c6ff-4c26-ae17-b6fb329df26e"
   },
   "outputs": [
    {
     "data": {
      "text/plain": [
       "0.14285714285714285"
      ]
     },
     "execution_count": 55,
     "metadata": {
      "tags": []
     },
     "output_type": "execute_result"
    }
   ],
   "source": [
    "1 / 7"
   ]
  },
  {
   "cell_type": "code",
   "execution_count": null,
   "metadata": {},
   "outputs": [],
   "source": [
    "# Profundizando listas\n",
    "# Listas son mutables\n",
    "nombres1 = ['Juan', 'Karla', 'Pedro']\n",
    "nombres2 = 'Laura María Gonzalo Ernesto'.split()\n",
    "# Sumar listas\n",
    "print(f'Sumar listas {nombres1 + nombres2}')\n",
    "# Extender una lista con otra lista\n",
    "nombres1.extend(nombres2)\n",
    "print(f'Extender la lista1: {nombres1}')\n",
    "\n",
    "# Lista de números\n",
    "numeros1 = [10, 40, 15, 4, 20, 90, 4]\n",
    "print(f'Lista original: {numeros1}')\n",
    "# obtener el índice del primer elemento encontrado en una lista\n",
    "# help(list.index)\n",
    "print(f'Índice 4: {numeros1.index(4)}')\n",
    "\n",
    "# Invertir el orden de los elementos de una lista\n",
    "numeros1.reverse()\n",
    "print(f'Lista invertida: {numeros1}')\n",
    "\n",
    "# Ordenar los elementos de una lista\n",
    "numeros1.sort()\n",
    "print(f'Lista ordenada (ascendente): {numeros1}')\n",
    "# Ordenar de manera descendente una lista\n",
    "numeros1.sort(reverse=True)\n",
    "print(f'Lista ordenada (descendente): {numeros1}')\n",
    "\n",
    "# Obtener el valor min y max de una lista\n",
    "print(f'Valor mínimo: {min(numeros1)}')\n",
    "print(f'Valor máximo: {max(numeros1)}')\n",
    "\n",
    "# Copiar los elementos de una lista\n",
    "numeros2 = numeros1.copy()\n",
    "# help(list.copy)\n",
    "print(f'Misma referencia? {numeros1 is numeros2}')\n",
    "print(f'Mismo contenido? {numeros1 == numeros2}')\n",
    "\n",
    "# Podemos usar el constructor de la lista\n",
    "numeros2 = list(numeros1)\n",
    "print(f'Misma referencia? {numeros1 is numeros2}')\n",
    "print(f'Mismo contenido? {numeros1 == numeros2}')\n",
    "\n",
    "# slicing\n",
    "numeros2 = numeros1[:]\n",
    "print(f'Misma referencia? {numeros1 is numeros2}')\n",
    "print(f'Mismo contenido? {numeros1 == numeros2}')\n",
    "\n",
    "# Multiplicación listas\n",
    "lista_multiplicacion = 5*[[2, 5]]\n",
    "print(lista_multiplicacion)\n",
    "print(f'Misma referencia: {lista_multiplicacion[0] is lista_multiplicacion[1]}')\n",
    "print(f'Mismo contenido: {lista_multiplicacion[0] == lista_multiplicacion[1]}')\n",
    "lista_multiplicacion[2].append(10)\n",
    "print(lista_multiplicacion)\n",
    "\n",
    "# Matrices en Python\n",
    "matriz = [[10, 20], [30, 40, 50], [60, 70, 80, 90]]\n",
    "print(f'Matriz original: {matriz}')\n",
    "print(f'Renglón 0, Columna 0: {matriz[0][0]}')\n",
    "print(f'Renglón 2, Columna 3: {matriz[2][3]}')\n",
    "matriz[2][0] = 65\n",
    "print(f'Matriz modificada: {matriz}')"
   ]
  },
  {
   "cell_type": "code",
   "execution_count": 2,
   "metadata": {},
   "outputs": [
    {
     "data": {
      "text/plain": [
       "20.0"
      ]
     },
     "execution_count": 2,
     "metadata": {},
     "output_type": "execute_result"
    }
   ],
   "source": [
    "def find_percentage(value1, value2, value3):\n",
    "    return sum((value1, value2, value3)) * 0.20\n",
    "find_percentage(30,50,20)"
   ]
  },
  {
   "cell_type": "code",
   "execution_count": null,
   "metadata": {},
   "outputs": [],
   "source": [
    "def find_percentage(*args):\n",
    "    print(args)\n",
    "find_percentage(30,56,98,78,12)"
   ]
  },
  {
   "cell_type": "code",
   "execution_count": null,
   "metadata": {},
   "outputs": [],
   "source": [
    "def pets(**kwargs):\n",
    "   # print(kwargs)\n",
    "    if 'cat' in kwargs:\n",
    "        print(\"My cat's name is {}\".format(kwargs['cat']))\n",
    "    else:\n",
    "        print(\"No cat's name is found\")\n",
    "pets(cat='Luna', dog='charlie')"
   ]
  },
  {
   "cell_type": "code",
   "execution_count": null,
   "metadata": {},
   "outputs": [],
   "source": [
    "def students(*args, **kwargs):\n",
    "    print('Students need {} {}.'.format(args[1], kwargs['equipment']))\n",
    "students(53,34,46,clothes='shirts',equipment='laptops',food='pizzas' )"
   ]
  },
  {
   "cell_type": "code",
   "execution_count": null,
   "metadata": {},
   "outputs": [],
   "source": []
  }
 ],
 "metadata": {
  "kernelspec": {
   "display_name": "Python 3 (ipykernel)",
   "language": "python",
   "name": "python3"
  },
  "language_info": {
   "codemirror_mode": {
    "name": "ipython",
    "version": 3
   },
   "file_extension": ".py",
   "mimetype": "text/x-python",
   "name": "python",
   "nbconvert_exporter": "python",
   "pygments_lexer": "ipython3",
   "version": "3.9.7"
  }
 },
 "nbformat": 4,
 "nbformat_minor": 4
}
