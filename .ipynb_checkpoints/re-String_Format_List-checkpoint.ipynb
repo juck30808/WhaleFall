{
 "cells": [
  {
   "cell_type": "code",
   "execution_count": 1,
   "metadata": {},
   "outputs": [
    {
     "name": "stdout",
     "output_type": "stream",
     "text": [
      "pui~\n",
      "puipuipui\n"
     ]
    }
   ],
   "source": [
    "s1 = \"pui\"\n",
    "print(s1 + \"~\") # 字串加法為前後相接\n",
    "print(s1 * 3) # 字串乘法為重複n次"
   ]
  },
  {
   "cell_type": "code",
   "execution_count": 4,
   "metadata": {},
   "outputs": [
    {
     "name": "stdout",
     "output_type": "stream",
     "text": [
      "Today is 20\n",
      "1.234000四捨五入後是1.23\n",
      "This is an Apple\n"
     ]
    }
   ],
   "source": [
    "print(\"Today is %d\" % 20) \n",
    "print(\"%f四捨五入後是%.2f\" % (1.234, 1.234)) # 有多個地方需要取代的時候需要用()起來\n",
    "print(\"This is an %s\" % \"Apple\")"
   ]
  },
  {
   "cell_type": "code",
   "execution_count": 5,
   "metadata": {},
   "outputs": [
    {
     "name": "stdout",
     "output_type": "stream",
     "text": [
      "熱愛105度的你\n",
      "1.234四捨五入後是1.23\n",
      "這是一顆蘋果\n"
     ]
    }
   ],
   "source": [
    "print(\"熱愛{temperature}度的你\".format(temperature=105)) # 用{}包一個名稱，format後面給這個名稱的值\n",
    "print(\"{a}四捨五入後是{a:.2f}\".format(a=1.234)) # 可以和%一樣指定格式\n",
    "print(\"這是一顆{}\".format(\"蘋果\")) # {}內沒名稱的話就是按順序對應"
   ]
  },
  {
   "cell_type": "code",
   "execution_count": 6,
   "metadata": {},
   "outputs": [
    {
     "name": "stdout",
     "output_type": "stream",
     "text": [
      "熱愛105度的你\n",
      "1.234四捨五入後是1.23\n",
      "這是一顆蘋果\n"
     ]
    }
   ],
   "source": [
    "temperature = 105\n",
    "a = 1.234\n",
    "b = \"蘋果\"\n",
    "\n",
    "print(f\"熱愛{temperature}度的你\") # 字串前面加f，中間用{}包變數名稱\n",
    "print(f\"{a}四捨五入後是{a:.2f}\") # 可以和%一樣指定格式\n",
    "print(f\"這是一顆{b}\") # 但不能和format一樣名稱留空"
   ]
  },
  {
   "cell_type": "code",
   "execution_count": 7,
   "metadata": {},
   "outputs": [
    {
     "name": "stdout",
     "output_type": "stream",
     "text": [
      "False\n",
      "True\n"
     ]
    }
   ],
   "source": [
    "print(\"台灣\" in \"中國\") # 這樣應該就不會被搬運過去了吧？\n",
    "print(\"魷魚\" in \"魷魚遊戲\")"
   ]
  },
  {
   "cell_type": "code",
   "execution_count": 8,
   "metadata": {},
   "outputs": [
    {
     "name": "stdout",
     "output_type": "stream",
     "text": [
      "第1隻綿羊在 2\n",
      "最後1隻綿羊在 10\n",
      "綿羊\n",
      "綿羊\n"
     ]
    }
   ],
   "source": [
    "s2 = \"一隻綿羊兩隻綿羊三隻綿羊\"\n",
    "print(\"第1隻綿羊在\", s2.find(\"綿羊\")) # 回傳的是開頭的index\n",
    "print(\"最後1隻綿羊在\", s2.rfind(\"綿羊\")) # rfind從右邊開始找\n",
    "print(s2[2:4])\n",
    "print(s2[10:10+len(s2)])"
   ]
  },
  {
   "cell_type": "code",
   "execution_count": 9,
   "metadata": {},
   "outputs": [
    {
     "data": {
      "text/plain": [
       "['1989', '06', '04']"
      ]
     },
     "execution_count": 9,
     "metadata": {},
     "output_type": "execute_result"
    }
   ],
   "source": [
    "s3 = \"1989-06-04\" # 一時想不到其他例子，再用個防盜例子\n",
    "date_list = s3.split(\"-\")\n",
    "date_list"
   ]
  },
  {
   "cell_type": "code",
   "execution_count": 10,
   "metadata": {
    "scrolled": false
   },
   "outputs": [
    {
     "data": {
      "text/plain": [
       "'1989/06/04'"
      ]
     },
     "execution_count": 10,
     "metadata": {},
     "output_type": "execute_result"
    }
   ],
   "source": [
    "\"/\".join(date_list) # 把前面的字串放在後面list的每個元素中間"
   ]
  },
  {
   "cell_type": "markdown",
   "metadata": {},
   "source": [
    "## String Formatting"
   ]
  },
  {
   "cell_type": "code",
   "execution_count": 1,
   "metadata": {},
   "outputs": [
    {
     "name": "stdout",
     "output_type": "stream",
     "text": [
      "Hello Paul, and age is 67\n"
     ]
    }
   ],
   "source": [
    "name = \"Peter\"\n",
    "Age = 35\n",
    "Num = 23\n",
    "\n",
    "output = \"Your name is {}, age is {} and your number is {:.5f}\"\n",
    "#print(output.format(name, Age, Num))\n",
    "\n",
    "myout = \"Hello {name}, and age is {Age}\"\n",
    "print(myout.format(name = \"Paul\", Age = 67))"
   ]
  },
  {
   "cell_type": "code",
   "execution_count": 22,
   "metadata": {},
   "outputs": [
    {
     "name": "stdout",
     "output_type": "stream",
     "text": [
      "Your name is Paul and your age is 50\n"
     ]
    }
   ],
   "source": [
    "\"\"\"\n",
    "Name = input(\"Enter name: \")\n",
    "Age = input(\"Enter Age: \")\n",
    "output = \"Your name is {} and your age is {}\"\n",
    "print(output.format(Name, Age))\n",
    "\"\"\"\n",
    "\n",
    "output = \"your name is {name} and your age is {age}\".format(name=\"Peter\", age=12)\n",
    "out = \"Your name is {} and your age is {}\".format(\"Paul\", 50)\n",
    "print(out)\n"
   ]
  },
  {
   "cell_type": "code",
   "execution_count": 24,
   "metadata": {},
   "outputs": [
    {
     "name": "stdout",
     "output_type": "stream",
     "text": [
      "Hello Paul, and age is 67\n"
     ]
    }
   ],
   "source": [
    "name = \"Peter\"\n",
    "Age = 35\n",
    "Num = 23\n",
    "\n",
    "output = \"Your name is {}, age is {} and your number is {:.5f}\"\n",
    "#print(output.format(name, Age, Num))\n",
    "\n",
    "myout = \"Hello {name}, and age is {Age}\"\n",
    "print(myout.format(name = \"Paul\", Age = 67))"
   ]
  },
  {
   "cell_type": "code",
   "execution_count": 25,
   "metadata": {},
   "outputs": [
    {
     "name": "stdout",
     "output_type": "stream",
     "text": [
      "Your name is Paul and your age is 50\n"
     ]
    }
   ],
   "source": [
    "output = \"your name is {name} and your age is {age}\".format(name=\"Peter\", age=12)\n",
    "out = \"Your name is {} and your age is {}\".format(\"Paul\", 50)\n",
    "print(out)"
   ]
  },
  {
   "cell_type": "markdown",
   "metadata": {},
   "source": [
    "## Natural language processing"
   ]
  },
  {
   "cell_type": "code",
   "execution_count": 2,
   "metadata": {},
   "outputs": [
    {
     "name": "stdout",
     "output_type": "stream",
     "text": [
      "Requirement already satisfied: nltk in c:\\users\\cti110016\\anaconda3\\lib\\site-packages (3.5)\n",
      "Requirement already satisfied: click in c:\\users\\cti110016\\anaconda3\\lib\\site-packages (from nltk) (7.1.2)\n",
      "Requirement already satisfied: joblib in c:\\users\\cti110016\\anaconda3\\lib\\site-packages (from nltk) (0.17.0)\n",
      "Requirement already satisfied: tqdm in c:\\users\\cti110016\\anaconda3\\lib\\site-packages (from nltk) (4.50.2)\n",
      "Requirement already satisfied: regex in c:\\users\\cti110016\\anaconda3\\lib\\site-packages (from nltk) (2020.10.15)\n",
      "Note: you may need to restart the kernel to use updated packages.\n"
     ]
    }
   ],
   "source": [
    "pip install nltk"
   ]
  },
  {
   "cell_type": "code",
   "execution_count": 3,
   "metadata": {},
   "outputs": [
    {
     "name": "stdout",
     "output_type": "stream",
     "text": [
      "showing info https://raw.githubusercontent.com/nltk/nltk_data/gh-pages/index.xml\n"
     ]
    },
    {
     "data": {
      "text/plain": [
       "True"
      ]
     },
     "execution_count": 3,
     "metadata": {},
     "output_type": "execute_result"
    }
   ],
   "source": [
    "import nltk \n",
    "nltk.download()   # auto download Run"
   ]
  },
  {
   "cell_type": "code",
   "execution_count": 4,
   "metadata": {},
   "outputs": [
    {
     "data": {
      "text/plain": [
       "['I', 'have', 'a', 'pen', '.', 'You', 'had', 'two', 'apples', '.']"
      ]
     },
     "execution_count": 4,
     "metadata": {},
     "output_type": "execute_result"
    }
   ],
   "source": [
    "import nltk \n",
    "text = \"I have a pen. You had two apples.\"\n",
    "token = nltk.word_tokenize(text)\n",
    "token"
   ]
  },
  {
   "cell_type": "code",
   "execution_count": 5,
   "metadata": {},
   "outputs": [
    {
     "data": {
      "text/plain": [
       "['I', 'have', 'a', 'pen', '.', 'you', 'had', 'two', 'appl', '.']"
      ]
     },
     "execution_count": 5,
     "metadata": {},
     "output_type": "execute_result"
    }
   ],
   "source": [
    "from nltk import PorterStemmer\n",
    "PS = PorterStemmer()\n",
    "token_stem  = [PS.stem(word) for word in token]\n",
    "token_stem"
   ]
  },
  {
   "cell_type": "markdown",
   "metadata": {},
   "source": [
    "## Read open"
   ]
  },
  {
   "cell_type": "code",
   "execution_count": 11,
   "metadata": {},
   "outputs": [
    {
     "name": "stdout",
     "output_type": "stream",
     "text": [
      "Aeque enim contingit omnibus fidibus, ut incontentae sint.\n",
      "Lorem ipsum dolor sit amet, consectetur adipiscing elit. Quae cum ita sint, effectum est nihil esse malum, quod turpe non sit. Itaque nostrum est-quod nostrum dico, artis est-ad ea principia, quae accepimus. Quod totum contra est. Duo Reges: constructio interrete. Atqui iste locus est, Piso, tibi etiam atque etiam confirmandus, inquam; Quamvis enim depravatae non sint, pravae tamen esse possunt. Duarum enim vitarum nobis erunt instituta capienda.\n",
      "\n",
      "Non igitur de improbo, sed de callido improbo quaerimus, qualis Q. Audio equidem philosophi vocem, Epicure, sed quid tibi dicendum sit oblitus es. Ex ea difficultate illae fallaciloquae, ut ait Accius, malitiae natae sunt. At multis malis affectus. Nam quibus rebus efficiuntur voluptates, eae non sunt in potestate sapientis. Quis est tam dissimile homini. Ut proverbia non nulla veriora sint quam vestra dogmata. Si quicquam extra virtutem habeatur in bonis. Sed plane dicit quod intellegit. Paulum, cum regem Persem captum adduceret, eodem flumine invectio?\n",
      "\n",
      "Qui ita affectus, beatum esse numquam probabis; Sed nimis multa. Nam prius a se poterit quisque discedere quam appetitum earum rerum, quae sibi conducant, amittere. Familiares nostros, credo, Sironem dicis et Philodemum, cum optimos viros, tum homines doctissimos. Quod iam a me expectare noli. Quid ergo?\n",
      "\n",
      "Eademne, quae restincta siti? Ita relinquet duas, de quibus etiam atque etiam consideret. Illa videamus, quae a te de amicitia dicta sunt. Eaedem res maneant alio modo. Quid ergo attinet gloriose loqui, nisi constanter loquare? Prioris generis est docilitas, memoria; Portenta haec esse dicit, neque ea ratione ullo modo posse vivi; Beatum, inquit. Bestiarum vero nullum iudicium puto.\n",
      "\n",
      "Quem Tiberina descensio festo illo die tanto gaudio affecit, quanto L. Quorum sine causa fieri nihil putandum est. Tria genera bonorum; Nunc dicam de voluptate, nihil scilicet novi, ea tamen, quae te ipsum probaturum esse confidam. Illud dico, ea, quae dicat, praeclare inter se cohaerere. Fortemne possumus dicere eundem illum Torquatum? Hoc tu nunc in illo probas. Cur post Tarentum ad Archytam?\n",
      "\n",
      "Indicant pueri, in quibus ut in speculis natura cernitur.\n",
      "Sed tamen est aliquid, quod nobis non liceat, liceat illis. Virtutis, magnitudinis animi, patientiae, fortitudinis fomentis dolor mitigari solet. Piso igitur hoc modo, vir optimus tuique, ut scis, amantissimus. Non prorsus, inquit, omnisque, qui sine dolore sint, in voluptate, et ea quidem summa, esse dico. Potius inflammat, ut coercendi magis quam dedocendi esse videantur. Virtutis, magnitudinis animi, patientiae, fortitudinis fomentis dolor mitigari solet. Quae fere omnia appellantur uno ingenii nomine, easque virtutes qui habent, ingeniosi vocantur. Nec enim, dum metuit, iustus est, et certe, si metuere destiterit, non erit;\n"
     ]
    }
   ],
   "source": [
    "# 讀取純文字檔案\n",
    "text=\"\"\n",
    "with open(\"sample.txt\",\"r\") as f:\n",
    "    text = f.read()\n",
    "    print(text)"
   ]
  },
  {
   "cell_type": "code",
   "execution_count": 12,
   "metadata": {
    "scrolled": true
   },
   "outputs": [
    {
     "name": "stdout",
     "output_type": "stream",
     "text": [
      "[['Aeque enim contingit omnibus fidibus', ' ut incontentae sint.'], ['Lorem ipsum dolor sit amet', ' consectetur adipiscing elit. Quae cum ita sint', ' effectum est nihil esse malum', ' quod turpe non sit. Itaque nostrum est-quod nostrum dico', ' artis est-ad ea principia', ' quae accepimus. Quod totum contra est. Duo Reges: constructio interrete. Atqui iste locus est', ' Piso', ' tibi etiam atque etiam confirmandus', ' inquam; Quamvis enim depravatae non sint', ' pravae tamen esse possunt. Duarum enim vitarum nobis erunt instituta capienda.'], [''], ['Non igitur de improbo', ' sed de callido improbo quaerimus', ' qualis Q. Audio equidem philosophi vocem', ' Epicure', ' sed quid tibi dicendum sit oblitus es. Ex ea difficultate illae fallaciloquae', ' ut ait Accius', ' malitiae natae sunt. At multis malis affectus. Nam quibus rebus efficiuntur voluptates', ' eae non sunt in potestate sapientis. Quis est tam dissimile homini. Ut proverbia non nulla veriora sint quam vestra dogmata. Si quicquam extra virtutem habeatur in bonis. Sed plane dicit quod intellegit. Paulum', ' cum regem Persem captum adduceret', ' eodem flumine invectio?'], [''], ['Qui ita affectus', ' beatum esse numquam probabis; Sed nimis multa. Nam prius a se poterit quisque discedere quam appetitum earum rerum', ' quae sibi conducant', ' amittere. Familiares nostros', ' credo', ' Sironem dicis et Philodemum', ' cum optimos viros', ' tum homines doctissimos. Quod iam a me expectare noli. Quid ergo?'], [''], ['Eademne', ' quae restincta siti? Ita relinquet duas', ' de quibus etiam atque etiam consideret. Illa videamus', ' quae a te de amicitia dicta sunt. Eaedem res maneant alio modo. Quid ergo attinet gloriose loqui', ' nisi constanter loquare? Prioris generis est docilitas', ' memoria; Portenta haec esse dicit', ' neque ea ratione ullo modo posse vivi; Beatum', ' inquit. Bestiarum vero nullum iudicium puto.'], [''], ['Quem Tiberina descensio festo illo die tanto gaudio affecit', ' quanto L. Quorum sine causa fieri nihil putandum est. Tria genera bonorum; Nunc dicam de voluptate', ' nihil scilicet novi', ' ea tamen', ' quae te ipsum probaturum esse confidam. Illud dico', ' ea', ' quae dicat', ' praeclare inter se cohaerere. Fortemne possumus dicere eundem illum Torquatum? Hoc tu nunc in illo probas. Cur post Tarentum ad Archytam?'], [''], ['Indicant pueri', ' in quibus ut in speculis natura cernitur.'], ['Sed tamen est aliquid', ' quod nobis non liceat', ' liceat illis. Virtutis', ' magnitudinis animi', ' patientiae', ' fortitudinis fomentis dolor mitigari solet. Piso igitur hoc modo', ' vir optimus tuique', ' ut scis', ' amantissimus. Non prorsus', ' inquit', ' omnisque', ' qui sine dolore sint', ' in voluptate', ' et ea quidem summa', ' esse dico. Potius inflammat', ' ut coercendi magis quam dedocendi esse videantur. Virtutis', ' magnitudinis animi', ' patientiae', ' fortitudinis fomentis dolor mitigari solet. Quae fere omnia appellantur uno ingenii nomine', ' easque virtutes qui habent', ' ingeniosi vocantur. Nec enim', ' dum metuit', ' iustus est', ' et certe', ' si metuere destiterit', ' non erit;']]\n"
     ]
    }
   ],
   "source": [
    "# 逐行讀取\n",
    "data = []\n",
    "with open(\"sample.txt\",\"r\") as f:\n",
    "    for line in f:\n",
    "        line = line.strip()\n",
    "        data.append(line.split(\",\"))\n",
    "\n",
    "print(data)"
   ]
  },
  {
   "cell_type": "code",
   "execution_count": 1,
   "metadata": {},
   "outputs": [
    {
     "name": "stdout",
     "output_type": "stream",
     "text": [
      "Please enter your name Jerry\n"
     ]
    }
   ],
   "source": [
    "user_name = input(\"Please enter your name \")\n",
    "print(user_name)"
   ]
  },
  {
   "cell_type": "code",
   "execution_count": 2,
   "metadata": {},
   "outputs": [
    {
     "name": "stdout",
     "output_type": "stream",
     "text": [
      "I\\’m  can\\’t\n"
     ]
    }
   ],
   "source": [
    "msg1=  \"I’m\"\n",
    "msg1=  \"I\\’m\"\n",
    "msg2=  \"I can’t\"\n",
    "msg2 = \" can\\’t\"\n",
    "print(msg1+\" \"+msg2)"
   ]
  },
  {
   "cell_type": "markdown",
   "metadata": {},
   "source": [
    "## Capitalize"
   ]
  },
  {
   "cell_type": "code",
   "execution_count": 3,
   "metadata": {},
   "outputs": [
    {
     "name": "stdout",
     "output_type": "stream",
     "text": [
      "Enter the given input value: \n",
      "\n"
     ]
    }
   ],
   "source": [
    "def cap(s):\n",
    "    for x in s.split():\n",
    "        s = s.replace(x, x.capitalize())\n",
    "    print(s)\n",
    "s= input('Enter the given input value: ')\n",
    "cap(s)"
   ]
  },
  {
   "cell_type": "code",
   "execution_count": 3,
   "metadata": {},
   "outputs": [
    {
     "data": {
      "text/plain": [
       "'Python is powerful language'"
      ]
     },
     "execution_count": 3,
     "metadata": {},
     "output_type": "execute_result"
    }
   ],
   "source": [
    "string = 'python is powerful language'\n",
    "string.capitalize() "
   ]
  },
  {
   "cell_type": "code",
   "execution_count": 4,
   "metadata": {},
   "outputs": [
    {
     "data": {
      "text/plain": [
       "'1st programming language'"
      ]
     },
     "execution_count": 4,
     "metadata": {},
     "output_type": "execute_result"
    }
   ],
   "source": [
    "string = '1st programming language'\n",
    "string.capitalize() "
   ]
  },
  {
   "cell_type": "code",
   "execution_count": 5,
   "metadata": {},
   "outputs": [
    {
     "data": {
      "text/plain": [
       "'Python is powerful programming language'"
      ]
     },
     "execution_count": 5,
     "metadata": {},
     "output_type": "execute_result"
    }
   ],
   "source": [
    "string = 'pYTHON IS POWERFUL PROGRAMMING LANGUAGE'\n",
    "string.swapcase() "
   ]
  },
  {
   "cell_type": "code",
   "execution_count": 6,
   "metadata": {
    "scrolled": true
   },
   "outputs": [
    {
     "data": {
      "text/plain": [
       "'Python The Powerful Programming Language'"
      ]
     },
     "execution_count": 6,
     "metadata": {},
     "output_type": "execute_result"
    }
   ],
   "source": [
    "string = 'Python the powerful programming language'\n",
    "string.title()"
   ]
  },
  {
   "cell_type": "markdown",
   "metadata": {},
   "source": [
    "## True or False"
   ]
  },
  {
   "cell_type": "code",
   "execution_count": 7,
   "metadata": {},
   "outputs": [
    {
     "data": {
      "text/plain": [
       "True"
      ]
     },
     "execution_count": 7,
     "metadata": {},
     "output_type": "execute_result"
    }
   ],
   "source": [
    "'abc'.islower()"
   ]
  },
  {
   "cell_type": "code",
   "execution_count": 9,
   "metadata": {},
   "outputs": [
    {
     "data": {
      "text/plain": [
       "False"
      ]
     },
     "execution_count": 9,
     "metadata": {},
     "output_type": "execute_result"
    }
   ],
   "source": [
    "'ABc'.islower()"
   ]
  },
  {
   "cell_type": "code",
   "execution_count": 10,
   "metadata": {},
   "outputs": [
    {
     "data": {
      "text/plain": [
       "False"
      ]
     },
     "execution_count": 10,
     "metadata": {},
     "output_type": "execute_result"
    }
   ],
   "source": [
    "'ABC'.islower()"
   ]
  },
  {
   "cell_type": "code",
   "execution_count": 11,
   "metadata": {},
   "outputs": [
    {
     "data": {
      "text/plain": [
       "True"
      ]
     },
     "execution_count": 11,
     "metadata": {},
     "output_type": "execute_result"
    }
   ],
   "source": [
    "'ABC'.isupper()"
   ]
  },
  {
   "cell_type": "code",
   "execution_count": 12,
   "metadata": {},
   "outputs": [
    {
     "data": {
      "text/plain": [
       "False"
      ]
     },
     "execution_count": 12,
     "metadata": {},
     "output_type": "execute_result"
    }
   ],
   "source": [
    "'AbC'.isupper()"
   ]
  },
  {
   "cell_type": "code",
   "execution_count": 13,
   "metadata": {},
   "outputs": [
    {
     "data": {
      "text/plain": [
       "False"
      ]
     },
     "execution_count": 13,
     "metadata": {},
     "output_type": "execute_result"
    }
   ],
   "source": [
    "'abc'.isupper()"
   ]
  },
  {
   "cell_type": "markdown",
   "metadata": {},
   "source": [
    "## check  if a string contain"
   ]
  },
  {
   "cell_type": "code",
   "execution_count": 15,
   "metadata": {},
   "outputs": [
    {
     "data": {
      "text/plain": [
       "True"
      ]
     },
     "execution_count": 15,
     "metadata": {},
     "output_type": "execute_result"
    }
   ],
   "source": [
    "'user_car'.endswith('car')"
   ]
  },
  {
   "cell_type": "code",
   "execution_count": 16,
   "metadata": {},
   "outputs": [
    {
     "data": {
      "text/plain": [
       "True"
      ]
     },
     "execution_count": 16,
     "metadata": {},
     "output_type": "execute_result"
    }
   ],
   "source": [
    "# check from index 4 to end of string\n",
    "'user_car'.endswith('car', 4)"
   ]
  },
  {
   "cell_type": "code",
   "execution_count": 17,
   "metadata": {},
   "outputs": [
    {
     "data": {
      "text/plain": [
       "False"
      ]
     },
     "execution_count": 17,
     "metadata": {},
     "output_type": "execute_result"
    }
   ],
   "source": [
    "#To check from index 5 to 7\n",
    "'user_car'.endswith('car', 5, 7)"
   ]
  },
  {
   "cell_type": "code",
   "execution_count": 18,
   "metadata": {},
   "outputs": [
    {
     "data": {
      "text/plain": [
       "True"
      ]
     },
     "execution_count": 18,
     "metadata": {},
     "output_type": "execute_result"
    }
   ],
   "source": [
    "#To check from index 4 to 8\n",
    "'user_car'.endswith('car',4, 8)"
   ]
  },
  {
   "cell_type": "code",
   "execution_count": 19,
   "metadata": {},
   "outputs": [
    {
     "data": {
      "text/plain": [
       "True"
      ]
     },
     "execution_count": 19,
     "metadata": {},
     "output_type": "execute_result"
    }
   ],
   "source": [
    "#In order to use a tuple of suffixes as we check from index 4 to 8\n",
    "'user_car'.endswith(('car', 'ar'), 4, 8)"
   ]
  },
  {
   "cell_type": "code",
   "execution_count": 20,
   "metadata": {},
   "outputs": [
    {
     "data": {
      "text/plain": [
       "'This is my car'"
      ]
     },
     "execution_count": 20,
     "metadata": {},
     "output_type": "execute_result"
    }
   ],
   "source": [
    "'This is user car'.replace('user', 'my')"
   ]
  },
  {
   "cell_type": "code",
   "execution_count": 21,
   "metadata": {},
   "outputs": [
    {
     "data": {
      "text/plain": [
       "'Thic ic ucer car'"
      ]
     },
     "execution_count": 21,
     "metadata": {},
     "output_type": "execute_result"
    }
   ],
   "source": [
    "#In order to replace a character many times:\n",
    "'This is user car'.replace('s', 'c', 3)"
   ]
  },
  {
   "cell_type": "code",
   "execution_count": 2,
   "metadata": {},
   "outputs": [
    {
     "name": "stdout",
     "output_type": "stream",
     "text": [
      "good morning to all\n",
      "G0OD MORNING TO ALL\n",
      "13\n",
      "13\n",
      "g0OD moRNing to alL\n",
      "g00D moRNing to alL\n"
     ]
    }
   ],
   "source": [
    "# string methods\n",
    "print (\"gOoD moRNing to alL\".lower())\n",
    "print (\"g0OD moRNing to all\".upper())\n",
    "print (\"gooD moRNing to all\".find('to'))\n",
    "print (\"gOOD moRNing to alL\".find('to'))\n",
    "print (\"g0OD moRNing to alL\". replace('all', ' everybody'))\n",
    "print (\"g00D moRNing to alL\".replace('all', 'everybody'))"
   ]
  },
  {
   "cell_type": "markdown",
   "metadata": {},
   "source": [
    "## Append"
   ]
  },
  {
   "cell_type": "code",
   "execution_count": 2,
   "metadata": {},
   "outputs": [
    {
     "name": "stdout",
     "output_type": "stream",
     "text": [
      "Enter a list of numbers: 1,2,3,4,5,1\n",
      "Original list: (1, 2, 3, 4, 5, 1)\n",
      "Unique list: [2, 3, 4, 5]\n",
      "Duplicate list: [1]\n"
     ]
    }
   ],
   "source": [
    "'''WAP to find frequencies of all elements of a list.\n",
    "Also, print the list of unique elements in the list of\n",
    "duplicate elements in the given list.'''\n",
    "\n",
    "num= eval(input(\"Enter a list of numbers: \"))\n",
    "unique=[]\n",
    "duplc=[]\n",
    "\n",
    "for i in range(0,len(num)):\n",
    "    count=1\n",
    "    if num[i] not in unique and num[i] not in duplc:\n",
    "        for j in range(i+1,len(num)):\n",
    "            if num[i]== num[j]:\n",
    "                count= count+1\n",
    "        else:\n",
    "            if(count==1):\n",
    "                unique.append(num[i])\n",
    "            else:\n",
    "                duplc.append(num[i])\n",
    "\n",
    "print(f\"Original list: {num}\")\n",
    "print(f\"Unique list: {unique}\")\n",
    "print(f\"Duplicate list: {duplc}\")\n"
   ]
  },
  {
   "cell_type": "markdown",
   "metadata": {},
   "source": [
    "## String problem"
   ]
  },
  {
   "cell_type": "code",
   "execution_count": 3,
   "metadata": {},
   "outputs": [
    {
     "name": "stdout",
     "output_type": "stream",
     "text": [
      "Enter the string: Jerry\n",
      "Jry\n"
     ]
    }
   ],
   "source": [
    "#remove the characters of odd index values in a string\n",
    "\n",
    "str1=input(\"Enter the string: \")\n",
    "final=\"\"\n",
    "\n",
    "for i in range(len(str1)):\n",
    "    if i%2 ==0:\n",
    "        final= final+ str1[i]\n",
    "\n",
    "print(final)"
   ]
  },
  {
   "cell_type": "code",
   "execution_count": 4,
   "metadata": {},
   "outputs": [
    {
     "name": "stdout",
     "output_type": "stream",
     "text": [
      "Enter the string: Jerry\n",
      "Jery\n"
     ]
    }
   ],
   "source": [
    "#form a new string made of the first 2 and last 2 characters from a given string\n",
    "\n",
    "s= input(\"Enter the string: \")\n",
    "\n",
    "first=s[:2]\n",
    "last=s[-2:]\n",
    "#final=first+last\n",
    "print(first+last)"
   ]
  },
  {
   "cell_type": "code",
   "execution_count": 5,
   "metadata": {},
   "outputs": [
    {
     "name": "stdout",
     "output_type": "stream",
     "text": [
      "Enter a string: Jerry\n",
      "Enter the index value: 3\n",
      "Modified string : Jery\n"
     ]
    }
   ],
   "source": [
    "#remove the nth index character from a non-empty string\n",
    "\n",
    "s=input(\"Enter a string: \")\n",
    "n= int(input(\"Enter the index value: \"))\n",
    "\n",
    "first= s[0:n]\n",
    "last= s[n+1:]\n",
    "\n",
    "final= first+last\n",
    "print(f\"Modified string : {final}\")"
   ]
  },
  {
   "cell_type": "code",
   "execution_count": 6,
   "metadata": {},
   "outputs": [
    {
     "name": "stdout",
     "output_type": "stream",
     "text": [
      "Enter the string: Jerry\n",
      "Jery\n"
     ]
    }
   ],
   "source": [
    "#replace every space in a string with a hyphen('-')\n",
    "\n",
    "string=input(\"Enter the string: \")\n",
    "\n",
    "for i in range(0,len(string)):\n",
    "    if (string[i]==\" \"):\n",
    "        final=string.replace(\" \",\"-\")\n",
    "\n",
    "print(final)"
   ]
  },
  {
   "cell_type": "markdown",
   "metadata": {},
   "source": [
    "## Email Detect"
   ]
  },
  {
   "cell_type": "code",
   "execution_count": 7,
   "metadata": {
    "scrolled": false
   },
   "outputs": [
    {
     "name": "stdout",
     "output_type": "stream",
     "text": [
      "Enter your personal email ID: Jerry@good\n",
      " It is not belong to domain @gmail.com \n"
     ]
    }
   ],
   "source": [
    "#reads email-id of a person in the form of a string and ensures that it\n",
    "#belongs to domain @gmail.com.(Assumption: No invalid characters are there in email-id).\n",
    "'''\n",
    "ex- rupamdas00001@gmail.com\n",
    "\n",
    "l1= 25\n",
    "l2= 10\n",
    "l1-l2'''\n",
    "\n",
    "address=input(\"Enter your personal email ID: \")\n",
    "\n",
    "domain=\"@gmail.com\"\n",
    "\n",
    "if(address[(len(address)-len(domain)):])== (domain):\n",
    "    print(\" It belongs to domain @gmail.com \")\n",
    "else:\n",
    "    print(\" It is not belong to domain @gmail.com \")\n"
   ]
  },
  {
   "cell_type": "markdown",
   "metadata": {},
   "source": [
    "### Formatting strings: Adding and removing spaces\n",
    "\n",
    "從字符串的開頭或結尾刪除空格（或其他字符）。刪除字符的基本方法是 ``strip()`` 方法，它從行的開頭和結尾去除空格："
   ]
  },
  {
   "cell_type": "code",
   "execution_count": 1,
   "metadata": {},
   "outputs": [
    {
     "data": {
      "text/plain": [
       "'this is the content'"
      ]
     },
     "execution_count": 1,
     "metadata": {},
     "output_type": "execute_result"
    }
   ],
   "source": [
    "line = '         this is the content         '\n",
    "line.strip()"
   ]
  },
  {
   "cell_type": "code",
   "execution_count": 3,
   "metadata": {},
   "outputs": [
    {
     "data": {
      "text/plain": [
       "'         this is the content'"
      ]
     },
     "execution_count": 3,
     "metadata": {},
     "output_type": "execute_result"
    }
   ],
   "source": [
    "line.rstrip()"
   ]
  },
  {
   "cell_type": "code",
   "execution_count": 4,
   "metadata": {},
   "outputs": [
    {
     "data": {
      "text/plain": [
       "'this is the content         '"
      ]
     },
     "execution_count": 4,
     "metadata": {},
     "output_type": "execute_result"
    }
   ],
   "source": [
    "line.lstrip()"
   ]
  },
  {
   "cell_type": "code",
   "execution_count": 5,
   "metadata": {},
   "outputs": [
    {
     "data": {
      "text/plain": [
       "'435'"
      ]
     },
     "execution_count": 5,
     "metadata": {},
     "output_type": "execute_result"
    }
   ],
   "source": [
    "num = \"000000000000435\"\n",
    "num.strip('0')"
   ]
  },
  {
   "cell_type": "code",
   "execution_count": 6,
   "metadata": {},
   "outputs": [
    {
     "data": {
      "text/plain": [
       "'     this is the content      '"
      ]
     },
     "execution_count": 6,
     "metadata": {},
     "output_type": "execute_result"
    }
   ],
   "source": [
    "line = \"this is the content\"\n",
    "line.center(30)"
   ]
  },
  {
   "cell_type": "code",
   "execution_count": 7,
   "metadata": {},
   "outputs": [
    {
     "data": {
      "text/plain": [
       "'this is the content           '"
      ]
     },
     "execution_count": 7,
     "metadata": {},
     "output_type": "execute_result"
    }
   ],
   "source": [
    "line.ljust(30)"
   ]
  },
  {
   "cell_type": "code",
   "execution_count": 8,
   "metadata": {},
   "outputs": [
    {
     "data": {
      "text/plain": [
       "'           this is the content'"
      ]
     },
     "execution_count": 8,
     "metadata": {},
     "output_type": "execute_result"
    }
   ],
   "source": [
    "line.rjust(30)"
   ]
  },
  {
   "cell_type": "code",
   "execution_count": 9,
   "metadata": {},
   "outputs": [
    {
     "data": {
      "text/plain": [
       "'0000000435'"
      ]
     },
     "execution_count": 9,
     "metadata": {},
     "output_type": "execute_result"
    }
   ],
   "source": [
    "'435'.rjust(10, '0')"
   ]
  },
  {
   "cell_type": "code",
   "execution_count": 10,
   "metadata": {},
   "outputs": [
    {
     "data": {
      "text/plain": [
       "'0000000435'"
      ]
     },
     "execution_count": 10,
     "metadata": {},
     "output_type": "execute_result"
    }
   ],
   "source": [
    "'435'.zfill(10)"
   ]
  },
  {
   "cell_type": "code",
   "execution_count": 11,
   "metadata": {},
   "outputs": [
    {
     "data": {
      "text/plain": [
       "False"
      ]
     },
     "execution_count": 11,
     "metadata": {},
     "output_type": "execute_result"
    }
   ],
   "source": [
    "line.endswith('dog')"
   ]
  },
  {
   "cell_type": "code",
   "execution_count": 12,
   "metadata": {},
   "outputs": [
    {
     "data": {
      "text/plain": [
       "False"
      ]
     },
     "execution_count": 12,
     "metadata": {},
     "output_type": "execute_result"
    }
   ],
   "source": [
    "line.startswith('fox')"
   ]
  },
  {
   "cell_type": "code",
   "execution_count": 13,
   "metadata": {},
   "outputs": [
    {
     "data": {
      "text/plain": [
       "['matsushima-ya', 'aah matsushima-ya', 'matsushima-ya']"
      ]
     },
     "execution_count": 13,
     "metadata": {},
     "output_type": "execute_result"
    }
   ],
   "source": [
    "haiku = \"\"\"matsushima-ya\n",
    "aah matsushima-ya\n",
    "matsushima-ya\"\"\"\n",
    "\n",
    "haiku.splitlines()"
   ]
  },
  {
   "cell_type": "markdown",
   "metadata": {},
   "source": [
    "## List"
   ]
  },
  {
   "cell_type": "code",
   "execution_count": 1,
   "metadata": {
    "scrolled": true
   },
   "outputs": [
    {
     "name": "stdout",
     "output_type": "stream",
     "text": [
      "[22, 25, 2]\n"
     ]
    }
   ],
   "source": [
    "myList = [1, 22, 25, 2, 4, 3, 3]\n",
    "print(myList[1:4])"
   ]
  },
  {
   "cell_type": "code",
   "execution_count": 2,
   "metadata": {},
   "outputs": [
    {
     "name": "stdout",
     "output_type": "stream",
     "text": [
      "[1, 22, 25, 2]\n"
     ]
    }
   ],
   "source": [
    "myList = [1, 22, 25, 2, 4, 3, 3]\n",
    "print(myList[:4])"
   ]
  },
  {
   "cell_type": "code",
   "execution_count": 3,
   "metadata": {},
   "outputs": [
    {
     "name": "stdout",
     "output_type": "stream",
     "text": [
      "[1, 25, 4, 3]\n"
     ]
    }
   ],
   "source": [
    "myList = [1, 22, 25, 2, 4, 3, 3]\n",
    "print(myList[::2])"
   ]
  },
  {
   "cell_type": "code",
   "execution_count": 5,
   "metadata": {},
   "outputs": [
    {
     "name": "stdout",
     "output_type": "stream",
     "text": [
      "[1, 22, 345, 10]\n"
     ]
    }
   ],
   "source": [
    "#加入串列的最後\n",
    "myList = [1, 22, 345]\n",
    "myList.append(10)\n",
    "print(myList)"
   ]
  },
  {
   "cell_type": "code",
   "execution_count": 9,
   "metadata": {},
   "outputs": [
    {
     "name": "stdout",
     "output_type": "stream",
     "text": [
      "[1, 22, 345, [1, 2, 3]]\n"
     ]
    }
   ],
   "source": [
    "#將一個串列加到另一個串列，那會變成加入一個是串列的元\n",
    "list1=[1, 22, 345]\n",
    "list2=[1, 2, 3]\n",
    "list1.append(list2)\n",
    "print(list1)"
   ]
  },
  {
   "cell_type": "code",
   "execution_count": 10,
   "metadata": {},
   "outputs": [
    {
     "name": "stdout",
     "output_type": "stream",
     "text": [
      "[1, 22, 345, 1, 2, 3]\n"
     ]
    }
   ],
   "source": [
    "#如果要將物件 obj 內的元加入串列，要用 extend(obj)\n",
    "list1=[1, 22, 345]\n",
    "list2=[1, 2, 3]\n",
    "list1.extend(list2)\n",
    "print(list1)"
   ]
  },
  {
   "cell_type": "code",
   "execution_count": 11,
   "metadata": {},
   "outputs": [
    {
     "name": "stdout",
     "output_type": "stream",
     "text": [
      "[1, 22, 5, 345]\n"
     ]
    }
   ],
   "source": [
    "#插入 X 值索引為 y 位置\n",
    "myList = [1, 22, 345]\n",
    "myList.insert(2, 5)\n",
    "print(myList)"
   ]
  },
  {
   "cell_type": "code",
   "execution_count": 13,
   "metadata": {},
   "outputs": [
    {
     "name": "stdout",
     "output_type": "stream",
     "text": [
      "[1, 345]\n"
     ]
    }
   ],
   "source": [
    "#移除第一個和 x 相等的元，並將後方的元向前移動\n",
    "myList = [1, 22, 345]\n",
    "myList.remove(22)\n",
    "print(myList)"
   ]
  },
  {
   "cell_type": "code",
   "execution_count": 17,
   "metadata": {},
   "outputs": [
    {
     "name": "stdout",
     "output_type": "stream",
     "text": [
      "[1, 22]\n"
     ]
    }
   ],
   "source": [
    "#移除索引為 i 的元並回傳值，預設為移除最後一筆\n",
    "myList = [1, 22, 345]\n",
    "a = myList.pop()\n",
    "print(myList)"
   ]
  },
  {
   "cell_type": "code",
   "execution_count": 18,
   "metadata": {},
   "outputs": [
    {
     "name": "stdout",
     "output_type": "stream",
     "text": [
      "[1]\n",
      "345 22\n"
     ]
    }
   ],
   "source": [
    "b=myList.pop(1)\n",
    "print(myList)\n",
    "print(a, b)"
   ]
  },
  {
   "cell_type": "code",
   "execution_count": 19,
   "metadata": {},
   "outputs": [
    {
     "name": "stdout",
     "output_type": "stream",
     "text": [
      "[]\n"
     ]
    }
   ],
   "source": [
    "#移除所有的元\n",
    "myList = [1, 22, 345]\n",
    "myList.clear()\n",
    "print(myList)"
   ]
  },
  {
   "cell_type": "code",
   "execution_count": 20,
   "metadata": {},
   "outputs": [
    {
     "name": "stdout",
     "output_type": "stream",
     "text": [
      "[345, 22, 1]\n"
     ]
    }
   ],
   "source": [
    "# 將串列反轉\n",
    "myList = [1, 22, 345]\n",
    "myList.reverse()\n",
    "print(myList)"
   ]
  },
  {
   "cell_type": "code",
   "execution_count": 21,
   "metadata": {},
   "outputs": [
    {
     "name": "stdout",
     "output_type": "stream",
     "text": [
      "[1, 22, 43, 55, 345]\n",
      "[345, 55, 43, 22, 1]\n"
     ]
    }
   ],
   "source": [
    "# 將串列的元由值的大小排列，預設由小到大排列，當 reverse 為 True 時由大到小\n",
    "myList = [1, 22, 345, 55, 43]\n",
    "myList.sort()\n",
    "print(myList)\n",
    "\n",
    "myList.sort(reverse=True)\n",
    "print(myList)"
   ]
  },
  {
   "cell_type": "code",
   "execution_count": null,
   "metadata": {},
   "outputs": [],
   "source": [
    "# 回傳串列中有幾個值為 x 的元\n",
    "myList = [1, 22, 22, 22, 4, 3, 3]\n",
    "print(myList.count(0))\n",
    "print(myList.count(3))\n",
    "print(myList.count(22))"
   ]
  },
  {
   "cell_type": "code",
   "execution_count": 22,
   "metadata": {
    "scrolled": true
   },
   "outputs": [
    {
     "name": "stdout",
     "output_type": "stream",
     "text": [
      "第一項: 1\n"
     ]
    }
   ],
   "source": [
    "myTuple=(1, 3, 4, 5, 64)\n",
    "print(\"第一項:\", myTuple[0])"
   ]
  },
  {
   "cell_type": "code",
   "execution_count": 14,
   "metadata": {},
   "outputs": [
    {
     "name": "stdout",
     "output_type": "stream",
     "text": [
      "name\n",
      "species\n",
      "age\n",
      "-------------------\n",
      "Zophie\n",
      "cat\n",
      "8\n",
      "-------------------\n",
      "('name', 'Zophie')\n",
      "('species', 'cat')\n",
      "('age', 8)\n"
     ]
    }
   ],
   "source": [
    "eggs = {'name':'Zophie', 'species':'cat','age':8}\n",
    "ham = {'species':'cat', 'name':'Zophie','age':8}\n",
    "eggs == ham\n",
    "\n",
    "list(eggs.keys())\n",
    "for k in eggs.keys():\n",
    "    print(k)\n",
    "print('-------------------')\n",
    "\n",
    "list(eggs.values())\n",
    "for k in eggs.values():\n",
    "    print(k)\n",
    "print('-------------------')\n",
    "\n",
    "list(eggs.items())\n",
    "for k in eggs.items():\n",
    "    print(k)"
   ]
  },
  {
   "cell_type": "code",
   "execution_count": 16,
   "metadata": {
    "scrolled": true
   },
   "outputs": [
    {
     "name": "stdout",
     "output_type": "stream",
     "text": [
      "{' ': 13,\n",
      " ',': 1,\n",
      " '.': 1,\n",
      " 'A': 1,\n",
      " 'I': 1,\n",
      " 'a': 4,\n",
      " 'b': 1,\n",
      " 'c': 3,\n",
      " 'd': 3,\n",
      " 'e': 5,\n",
      " 'g': 2,\n",
      " 'h': 3,\n",
      " 'i': 6,\n",
      " 'k': 2,\n",
      " 'l': 3,\n",
      " 'n': 4,\n",
      " 'o': 2,\n",
      " 'p': 1,\n",
      " 'r': 5,\n",
      " 's': 3,\n",
      " 't': 6,\n",
      " 'w': 2,\n",
      " 'y': 1}\n"
     ]
    }
   ],
   "source": [
    "import pprint\n",
    "message = 'It was a bright cold day in April, and the clocks were striking thirteen.'\n",
    "count = {}\n",
    "\n",
    "for character in message:\n",
    "    count.setdefault(character, 0)\n",
    "    count[character] = count[character] + 1\n",
    "\n",
    "pprint.pprint(count)\n"
   ]
  },
  {
   "cell_type": "code",
   "execution_count": 17,
   "metadata": {},
   "outputs": [],
   "source": [
    "#! python3\n",
    "# Adds Wikipedia bullet points to the start\n",
    "# of each line of text on the clipboard.\n",
    "\n",
    "import pyperclip\n",
    "text = pyperclip.paste()\n",
    "\n",
    "#Separate lines and add stars.\n",
    "lines = text.split('\\n')\n",
    "for i in range(len(lines)): # loop through all indexes for \"lines\" list\n",
    "    lines[i] = '* ' + lines[i] # add star to each string in \"lines\" list\n",
    "text = '\\n'.join(lines)\n",
    "pyperclip.copy(text)\n"
   ]
  },
  {
   "cell_type": "code",
   "execution_count": 18,
   "metadata": {},
   "outputs": [
    {
     "name": "stdout",
     "output_type": "stream",
     "text": [
      "---PICNIC ITEMS--\n",
      "sandwiches..    4\n",
      "apples......   12\n",
      "cups........    4\n",
      "cookies..... 8000\n",
      "-------PICNIC ITEMS-------\n",
      "sandwiches..........     4\n",
      "apples..............    12\n",
      "cups................     4\n",
      "cookies.............  8000\n"
     ]
    }
   ],
   "source": [
    "def printPicnic(itemsDict, leftWidth, rightWidth):\n",
    "    print('PICNIC ITEMS'.center(leftWidth + rightWidth, '-'))\n",
    "    for k, v in itemsDict.items():\n",
    "        print(k.ljust(leftWidth, '.') + str(v).rjust(rightWidth))\n",
    "\n",
    "picnicItems = {'sandwiches': 4, 'apples': 12, 'cups': 4, 'cookies': 8000}\n",
    "printPicnic(picnicItems, 12, 5)\n",
    "printPicnic(picnicItems, 20, 6)"
   ]
  },
  {
   "cell_type": "code",
   "execution_count": 19,
   "metadata": {},
   "outputs": [
    {
     "name": "stdout",
     "output_type": "stream",
     "text": [
      "There is no account named -f\n"
     ]
    }
   ],
   "source": [
    "#! python3\n",
    "# pw.py - An insecure password locker program.\n",
    "\n",
    "PASSWORDS = {'email': 'F7minlBDDuvMJuxESSKHFhTxFtjVB6',\n",
    "             'blog': 'VmALvQyKAxiVH5G8v01if1MLZF3sdt',\n",
    "             'luggage': '12345'}\n",
    "\n",
    "import sys, pyperclip\n",
    "if len(sys.argv) < 2:\n",
    "    print('Usage: py pw.py [account] - copy account password')\n",
    "    sys.exit()\n",
    "\n",
    "account = sys.argv[1] # first command line arg is the account name\n",
    "\n",
    "if account in PASSWORDS:\n",
    "    pyperclip.copy(PASSWORDS[account])\n",
    "    print('Password for ' + account + ' copied to clipboard.')\n",
    "else:\n",
    "    print('There is no account named ' + account)\n"
   ]
  },
  {
   "cell_type": "markdown",
   "metadata": {},
   "source": [
    "# 元組(Tuple)"
   ]
  },
  {
   "cell_type": "code",
   "execution_count": 23,
   "metadata": {},
   "outputs": [
    {
     "name": "stdout",
     "output_type": "stream",
     "text": [
      "0\n",
      "2\n",
      "3\n"
     ]
    }
   ],
   "source": [
    "myTuple = [1, 22, 22, 22, 4, 3, 3]\n",
    "print(myTuple.count(0))\n",
    "print(myTuple.count(3))\n",
    "print(myTuple.count(22))"
   ]
  },
  {
   "cell_type": "code",
   "execution_count": 2,
   "metadata": {},
   "outputs": [
    {
     "name": "stdout",
     "output_type": "stream",
     "text": [
      "frozenset({1, 2, 3, 4})\n",
      "frozenset({3, 4, 5, 6})\n",
      "frozenset({1, 2})\n",
      "frozenset({1, 2, 3, 4, 5, 6})\n",
      "frozenset({3, 4})\n",
      "frozenset({1, 2, 5, 6})\n"
     ]
    }
   ],
   "source": [
    "# python frozenset\n",
    "# Frozenset is a new class that has the characteristics of a set, but its elements cannot be changed once assigned. \n",
    "# While tuples are immutable Lists, frozensets are immutable sets. initialize A and B\n",
    "myset1 = frozenset([1,2,3,4])\n",
    "myset2 = frozenset([3,4,5, 6])\n",
    "print(myset1)\n",
    "print(myset2)\n",
    "print(myset1.difference(myset2))\n",
    "print(myset1.union(myset2))\n",
    "print(myset1.intersection(myset2))\n",
    "print(myset1.symmetric_difference(myset2))\n",
    "# myset1.add(10)"
   ]
  },
  {
   "cell_type": "code",
   "execution_count": 5,
   "metadata": {},
   "outputs": [
    {
     "name": "stdout",
     "output_type": "stream",
     "text": [
      "{1: 1, 2: 4, 3: 9, 4: 16, 5: 25}\n",
      "16\n",
      "{1: 1, 2: 4, 3: 9, 5: 25}\n",
      "(5, 25)\n",
      "{1: 1, 2: 4, 3: 9}\n",
      "{2: 4, 3: 9}\n"
     ]
    }
   ],
   "source": [
    "# Creating a new dictionary\n",
    "squares ={1:1,2:4,3:9, 4:16, 5:25}\n",
    "print(squares)\n",
    "# remove a particular item\n",
    "print(squares.pop(4))\n",
    "print(squares)\n",
    "# remove an arbitrary item\n",
    "print(squares.popitem())\n",
    "print(squares)\n",
    "# delete a particular item\n",
    "del squares[1]\n",
    "print(squares)"
   ]
  },
  {
   "cell_type": "code",
   "execution_count": null,
   "metadata": {},
   "outputs": [],
   "source": [
    "re-RegularExpressionmyList = [1, 22, 25, 2, 4, 3, 3]\n",
    "print(myList[1:4])\n",
    "\n",
    "myList = [1, 22, 25, 2, 4, 3, 3]\n",
    "print(myList[:4])\n",
    "\n",
    "myList = [1, 22, 25, 2, 4, 3, 3]\n",
    "print(myList[::2])\n",
    "\n",
    "#加入串列的最後\n",
    "myList = [1, 22, 345]\n",
    "myList.append(10)\n",
    "print(myList)\n",
    "\n",
    "#將一個串列加到另一個串列，那會變成加入一個是串列的元\n",
    "list1=[1, 22, 345]\n",
    "list2=[1, 2, 3]\n",
    "list1.append(list2)\n",
    "print(list1)\n",
    "\n",
    "#如果要將物件 obj 內的元加入串列，要用 extend(obj)\n",
    "list1=[1, 22, 345]\n",
    "list2=[1, 2, 3]\n",
    "list1.extend(list2)\n",
    "print(list1)\n",
    "\n",
    "#插入 X 值索引為 y 位置\n",
    "myList = [1, 22, 345]\n",
    "myList.insert(2, 5)\n",
    "print(myList)\n",
    "\n",
    "#移除第一個和 x 相等的元，並將後方的元向前移動\n",
    "myList = [1, 22, 345]\n",
    "myList.remove(22)\n",
    "print(myList)\n",
    "\n",
    "#移除索引為 i 的元並回傳值，預設為移除最後一筆\n",
    "myList = [1, 22, 345]\n",
    "a = myList.pop()\n",
    "print(myList)\n",
    "\n",
    "b=myList.pop(1)\n",
    "print(myList)\n",
    "print(a, b)\n",
    "\n",
    "#移除所有的元\n",
    "myList = [1, 22, 345]\n",
    "myList.clear()\n",
    "print(myList)\n",
    "\n",
    "# 將串列反轉\n",
    "myList = [1, 22, 345]\n",
    "myList.reverse()\n",
    "print(myList)\n",
    "\n",
    "# 將串列的元由值的大小排列，預設由小到大排列，當 reverse 為 True 時由大到小\n",
    "myList = [1, 22, 345, 55, 43]\n",
    "myList.sort()\n",
    "print(myList)\n",
    "\n",
    "myList.sort(reverse=True)\n",
    "print(myList)\n",
    "\n",
    "# 回傳串列中有幾個值為 x 的元\n",
    "myList = [1, 22, 22, 22, 4, 3, 3]\n",
    "print(myList.count(0))\n",
    "print(myList.count(3))\n",
    "print(myList.count(22))\n",
    "\n",
    "myTuple=(1, 3, 4, 5, 64)\n",
    "print(\"第一項:\", myTuple[0])\n",
    "\n",
    "# 元組(Tuple)\n",
    "\n",
    "myTuple = [1, 22, 22, 22, 4, 3, 3]\n",
    "print(myTuple.count(0))\n",
    "print(myTuple.count(3))\n",
    "print(myTuple.count(22))\n",
    "\n",
    "# python frozenset\n",
    "# Frozenset is a new class that has the characteristics of a set, but its elements cannot be changed once assigned. \n",
    "# While tuples are immutable Lists, frozensets are immutable sets. initialize A and B\n",
    "myset1 = frozenset([1,2,3,4])\n",
    "myset2 = frozenset([3,4,5, 6])\n",
    "print(myset1)\n",
    "print(myset2)\n",
    "print(myset1.difference(myset2))\n",
    "print(myset1.union(myset2))\n",
    "print(myset1.intersection(myset2))\n",
    "print(myset1.symmetric_difference(myset2))\n",
    "# myset1.add(10)\n",
    "\n",
    "# Creating a new dictionary\n",
    "squares ={1:1,2:4,3:9, 4:16, 5:25}\n",
    "print(squares)\n",
    "# remove a particular item\n",
    "print(squares.pop(4))\n",
    "print(squares)\n",
    "# remove an arbitrary item\n",
    "print(squares.popitem())\n",
    "print(squares)\n",
    "# delete a particular item\n",
    "del squares[1]\n",
    "print(squares)"
   ]
  },
  {
   "cell_type": "markdown",
   "metadata": {},
   "source": [
    "## Formate"
   ]
  },
  {
   "cell_type": "code",
   "execution_count": 1,
   "metadata": {},
   "outputs": [
    {
     "name": "stdout",
     "output_type": "stream",
     "text": [
      "I have a BMW, it is X5.\n"
     ]
    }
   ],
   "source": [
    "# Adding named indexes inside {}\n",
    "neworder = \"I have a {carname}, it is {model}.\"\n",
    "print(neworder.format(carname = \"BMW\", model = \"X5\"))"
   ]
  },
  {
   "cell_type": "code",
   "execution_count": 2,
   "metadata": {},
   "outputs": [
    {
     "name": "stdout",
     "output_type": "stream",
     "text": [
      "The degree is 25.00 Celsius\n"
     ]
    }
   ],
   "source": [
    "# adding placeholder where you want to display the degree\n",
    "degree = 25\n",
    "newtext = \"The degree is {:.2f} Celsius\"\n",
    "print(newtext.format(degree))"
   ]
  },
  {
   "cell_type": "code",
   "execution_count": 3,
   "metadata": {},
   "outputs": [
    {
     "name": "stdout",
     "output_type": "stream",
     "text": [
      "The player name is Joe. Joe is 39 years old!\n"
     ]
    }
   ],
   "source": [
    "# Multiple values to format method \n",
    "# quantity = 5\n",
    "# item_number = 150\n",
    "# price = 71\n",
    "# # add index numbers\n",
    "# neworder = \"We want {0} pieces of item number {1} and for {2:.2f} dollars\"\n",
    "# print(neworder.format(quantity, item_number, price))\n",
    "\n",
    "\n",
    "# adding the same value more than once\n",
    "age = 39\n",
    "name = \"Joe\"\n",
    "newtext = \"The player name is {1}. {1} is {0} years old!\"\n",
    "print(newtext.format(age, name))"
   ]
  },
  {
   "cell_type": "markdown",
   "metadata": {},
   "source": [
    "## PJ"
   ]
  },
  {
   "cell_type": "code",
   "execution_count": 1,
   "metadata": {},
   "outputs": [
    {
     "name": "stdout",
     "output_type": "stream",
     "text": [
      "mensaje1: hola mundo, id: 0x22eb404c670\n",
      "mensaje2: Hola mundo, id: 0x22eb40519f0\n",
      "mensaje1: hola mundoadios, id: 0x22eb404c5b0\n"
     ]
    }
   ],
   "source": [
    "# Profundizando en el tipo str\n",
    "\n",
    "# help(str.capitalize)\n",
    "\n",
    "mensaje1 = 'hola mundo'\n",
    "mensaje2 = mensaje1.capitalize()\n",
    "print(f'mensaje1: {mensaje1}, id: {hex(id(mensaje1))}')\n",
    "print(f'mensaje2: {mensaje2}, id: {hex(id(mensaje2))}')\n",
    "mensaje1 += 'adios'\n",
    "print(f'mensaje1: {mensaje1}, id: {hex(id(mensaje1))}')\n"
   ]
  },
  {
   "cell_type": "code",
   "execution_count": 2,
   "metadata": {},
   "outputs": [
    {
     "name": "stdout",
     "output_type": "stream",
     "text": [
      "Hola Mundo\n",
      "Notación simple: A\n",
      "Notación extendida: A\n",
      "Notación hexadecimal A\n"
     ]
    }
   ],
   "source": [
    "# Profundizando en el tipo str\n",
    "\n",
    "# caracteres unicode\n",
    "print('Hola\\u0020Mundo')\n",
    "print('Notación simple:', '\\u0041')\n",
    "print('Notación extendida:','\\U00000041')\n",
    "print('Notación hexadecimal','\\x41')\n",
    "print('Corazón:','\\u2665')\n",
    "print('Cara sonriendo:','\\U0001f600')\n",
    "print('Serpiente:','\\U0001F40D')\n",
    "\n",
    "# Caracteres ascii\n",
    "caracter = chr(65)\n",
    "print('A mayúscula:', caracter)\n",
    "caracter = chr(64)\n",
    "print('Símbolo @:', caracter)\n",
    "caracter = chr(97)\n",
    "print('a minúscula:', caracter)\n"
   ]
  },
  {
   "cell_type": "code",
   "execution_count": 3,
   "metadata": {},
   "outputs": [
    {
     "name": "stdout",
     "output_type": "stream",
     "text": [
      "Proporcione los siguientes datos del libro: \n",
      "Proporciona el nombre del libro: 56\n",
      "Proporciona el ID del libro: 56\n",
      "Proporciona el valor de libro: 5566\n",
      "Indica si es envío gratuito (True/False): \n",
      "\n",
      "    Nombre: 56\n",
      "    Id: 56\n",
      "    Precio: 5566.0\n",
      "    Envío Gratuito?: Valor incorrecto, debe escribir True/False\n",
      "\n"
     ]
    }
   ],
   "source": [
    "print('Proporcione los siguientes datos del libro: ')\n",
    "nombre = input('Proporciona el nombre del libro: ')\n",
    "id = int(input('Proporciona el ID del libro: '))\n",
    "precio = float(input('Proporciona el valor de libro: '))\n",
    "envioGratuito = input('Indica si es envío gratuito (True/False): ')\n",
    "\n",
    "if envioGratuito == 'True':\n",
    "    envioGratuito = True\n",
    "elif envioGratuito == 'False':\n",
    "    envioGratuito = False\n",
    "else:\n",
    "    envioGratuito = 'Valor incorrecto, debe escribir True/False'\n",
    "\n",
    "print(f'''\n",
    "    Nombre: {nombre}\n",
    "    Id: {id}\n",
    "    Precio: {precio}\n",
    "    Envío Gratuito?: {envioGratuito}\n",
    "''')"
   ]
  },
  {
   "cell_type": "code",
   "execution_count": 4,
   "metadata": {},
   "outputs": [
    {
     "name": "stdout",
     "output_type": "stream",
     "text": [
      "IDE: Integrated Developement Environment\n",
      "PK: Primary Key\n",
      "DBMS: Database Management System\n"
     ]
    }
   ],
   "source": [
    "def listarTerminos(**terminos):\n",
    "    for llave, valor in terminos.items():\n",
    "        print(f'{llave}: {valor}')\n",
    "\n",
    "listarTerminos(IDE='Integrated Developement Environment', PK='Primary Key')\n",
    "listarTerminos(DBMS='Database Management System')"
   ]
  },
  {
   "cell_type": "markdown",
   "metadata": {
    "id": "g7x49WlcDibj"
   },
   "source": [
    "# 十進制浮點運算\n",
    "decimal模塊提供了一種Decimal數據類型用於十進制浮點運算。相比內置的float二進制浮點實現，該類特別適用於\n",
    "<li>財務應用和其他需要精確十進製表示的用途，\n",
    "<li>控制精度，\n",
    "<li>控制四捨五入以滿足法律或監管要求，跟踪有效小數位，或\n",
    "<li>用戶期望結果與手工完成的計算相匹配的應用程序。\n",
    "    \n",
    "https://docs.python.org/zh-tw/3/library/decimal.html#module-decimal"
   ]
  },
  {
   "cell_type": "code",
   "execution_count": null,
   "metadata": {
    "id": "CdoUXkrdDibk",
    "outputId": "3d5c7b2c-35b7-46ce-f732-204ab3ba1041"
   },
   "outputs": [
    {
     "data": {
      "text/plain": [
       "Decimal('0.74')"
      ]
     },
     "execution_count": 48,
     "metadata": {
      "tags": []
     },
     "output_type": "execute_result"
    }
   ],
   "source": [
    "# 例如，使用十進制浮點和二進制浮點數計算70美分手機和5％稅的總費用，會產生的不同結果。如果結果四捨五入到最接近的分數差異會更大\n",
    "from decimal import *\n",
    "round(Decimal('0.70') * Decimal('1.05'), 2)"
   ]
  },
  {
   "cell_type": "code",
   "execution_count": null,
   "metadata": {
    "id": "btNQUEnsDibo",
    "outputId": "1c0f6711-8f95-4547-c242-4a240e8b9579"
   },
   "outputs": [
    {
     "data": {
      "text/plain": [
       "0.73"
      ]
     },
     "execution_count": 49,
     "metadata": {
      "tags": []
     },
     "output_type": "execute_result"
    }
   ],
   "source": [
    "round(.70 * 1.05, 2)"
   ]
  },
  {
   "cell_type": "code",
   "execution_count": null,
   "metadata": {
    "id": "yTymQhx_Dibt",
    "outputId": "4d280dfc-88ee-4736-9556-6cfcf4a1918e"
   },
   "outputs": [
    {
     "data": {
      "text/plain": [
       "0.9999999999999999"
      ]
     },
     "execution_count": 53,
     "metadata": {
      "tags": []
     },
     "output_type": "execute_result"
    }
   ],
   "source": [
    "x = 0.1\n",
    "y = 0\n",
    "for i in range(0,10):\n",
    "    y = y+x\n",
    "y"
   ]
  },
  {
   "cell_type": "code",
   "execution_count": null,
   "metadata": {
    "id": "-3-SOkImDibw",
    "outputId": "4967e781-3140-4960-fb6a-2fc16aa9e79c"
   },
   "outputs": [
    {
     "data": {
      "text/plain": [
       "Decimal('1.0')"
      ]
     },
     "execution_count": 54,
     "metadata": {
      "tags": []
     },
     "output_type": "execute_result"
    }
   ],
   "source": [
    "x = Decimal('0.1')\n",
    "y = Decimal('0')\n",
    "for i in range(0,10):\n",
    "    y = y+x\n",
    "y"
   ]
  },
  {
   "cell_type": "code",
   "execution_count": null,
   "metadata": {
    "id": "cvu8eWb6Dib0",
    "outputId": "d53d589c-848b-4428-c278-1f7139cc80f3"
   },
   "outputs": [
    {
     "data": {
      "text/plain": [
       "Decimal('0.142857142857142857142857142857142857')"
      ]
     },
     "execution_count": 59,
     "metadata": {
      "tags": []
     },
     "output_type": "execute_result"
    }
   ],
   "source": [
    "# decimal 模塊提供了運算所需要的足夠精度\n",
    "getcontext().prec = 36\n",
    "Decimal(1) / Decimal(7)"
   ]
  },
  {
   "cell_type": "code",
   "execution_count": null,
   "metadata": {
    "id": "cnAxB1q9Dib5",
    "outputId": "d8f042b5-c6ff-4c26-ae17-b6fb329df26e"
   },
   "outputs": [
    {
     "data": {
      "text/plain": [
       "0.14285714285714285"
      ]
     },
     "execution_count": 55,
     "metadata": {
      "tags": []
     },
     "output_type": "execute_result"
    }
   ],
   "source": [
    "1 / 7"
   ]
  },
  {
   "cell_type": "code",
   "execution_count": null,
   "metadata": {},
   "outputs": [],
   "source": [
    "# Profundizando listas\n",
    "# Listas son mutables\n",
    "nombres1 = ['Juan', 'Karla', 'Pedro']\n",
    "nombres2 = 'Laura María Gonzalo Ernesto'.split()\n",
    "# Sumar listas\n",
    "print(f'Sumar listas {nombres1 + nombres2}')\n",
    "# Extender una lista con otra lista\n",
    "nombres1.extend(nombres2)\n",
    "print(f'Extender la lista1: {nombres1}')\n",
    "\n",
    "# Lista de números\n",
    "numeros1 = [10, 40, 15, 4, 20, 90, 4]\n",
    "print(f'Lista original: {numeros1}')\n",
    "# obtener el índice del primer elemento encontrado en una lista\n",
    "# help(list.index)\n",
    "print(f'Índice 4: {numeros1.index(4)}')\n",
    "\n",
    "# Invertir el orden de los elementos de una lista\n",
    "numeros1.reverse()\n",
    "print(f'Lista invertida: {numeros1}')\n",
    "\n",
    "# Ordenar los elementos de una lista\n",
    "numeros1.sort()\n",
    "print(f'Lista ordenada (ascendente): {numeros1}')\n",
    "# Ordenar de manera descendente una lista\n",
    "numeros1.sort(reverse=True)\n",
    "print(f'Lista ordenada (descendente): {numeros1}')\n",
    "\n",
    "# Obtener el valor min y max de una lista\n",
    "print(f'Valor mínimo: {min(numeros1)}')\n",
    "print(f'Valor máximo: {max(numeros1)}')\n",
    "\n",
    "# Copiar los elementos de una lista\n",
    "numeros2 = numeros1.copy()\n",
    "# help(list.copy)\n",
    "print(f'Misma referencia? {numeros1 is numeros2}')\n",
    "print(f'Mismo contenido? {numeros1 == numeros2}')\n",
    "\n",
    "# Podemos usar el constructor de la lista\n",
    "numeros2 = list(numeros1)\n",
    "print(f'Misma referencia? {numeros1 is numeros2}')\n",
    "print(f'Mismo contenido? {numeros1 == numeros2}')\n",
    "\n",
    "# slicing\n",
    "numeros2 = numeros1[:]\n",
    "print(f'Misma referencia? {numeros1 is numeros2}')\n",
    "print(f'Mismo contenido? {numeros1 == numeros2}')\n",
    "\n",
    "# Multiplicación listas\n",
    "lista_multiplicacion = 5*[[2, 5]]\n",
    "print(lista_multiplicacion)\n",
    "print(f'Misma referencia: {lista_multiplicacion[0] is lista_multiplicacion[1]}')\n",
    "print(f'Mismo contenido: {lista_multiplicacion[0] == lista_multiplicacion[1]}')\n",
    "lista_multiplicacion[2].append(10)\n",
    "print(lista_multiplicacion)\n",
    "\n",
    "# Matrices en Python\n",
    "matriz = [[10, 20], [30, 40, 50], [60, 70, 80, 90]]\n",
    "print(f'Matriz original: {matriz}')\n",
    "print(f'Renglón 0, Columna 0: {matriz[0][0]}')\n",
    "print(f'Renglón 2, Columna 3: {matriz[2][3]}')\n",
    "matriz[2][0] = 65\n",
    "print(f'Matriz modificada: {matriz}')"
   ]
  },
  {
   "cell_type": "code",
   "execution_count": 2,
   "metadata": {},
   "outputs": [
    {
     "data": {
      "text/plain": [
       "20.0"
      ]
     },
     "execution_count": 2,
     "metadata": {},
     "output_type": "execute_result"
    }
   ],
   "source": [
    "def find_percentage(value1, value2, value3):\n",
    "    return sum((value1, value2, value3)) * 0.20\n",
    "find_percentage(30,50,20)"
   ]
  },
  {
   "cell_type": "code",
   "execution_count": null,
   "metadata": {},
   "outputs": [],
   "source": [
    "def find_percentage(*args):\n",
    "    print(args)\n",
    "find_percentage(30,56,98,78,12)"
   ]
  },
  {
   "cell_type": "code",
   "execution_count": null,
   "metadata": {},
   "outputs": [],
   "source": [
    "def pets(**kwargs):\n",
    "   # print(kwargs)\n",
    "    if 'cat' in kwargs:\n",
    "        print(\"My cat's name is {}\".format(kwargs['cat']))\n",
    "    else:\n",
    "        print(\"No cat's name is found\")\n",
    "pets(cat='Luna', dog='charlie')"
   ]
  },
  {
   "cell_type": "code",
   "execution_count": null,
   "metadata": {},
   "outputs": [],
   "source": [
    "def students(*args, **kwargs):\n",
    "    print('Students need {} {}.'.format(args[1], kwargs['equipment']))\n",
    "students(53,34,46,clothes='shirts',equipment='laptops',food='pizzas' )"
   ]
  },
  {
   "cell_type": "code",
   "execution_count": null,
   "metadata": {},
   "outputs": [],
   "source": []
  }
 ],
 "metadata": {
  "kernelspec": {
   "display_name": "Python 3 (ipykernel)",
   "language": "python",
   "name": "python3"
  },
  "language_info": {
   "codemirror_mode": {
    "name": "ipython",
    "version": 3
   },
   "file_extension": ".py",
   "mimetype": "text/x-python",
   "name": "python",
   "nbconvert_exporter": "python",
   "pygments_lexer": "ipython3",
   "version": "3.9.7"
  }
 },
 "nbformat": 4,
 "nbformat_minor": 4
}
