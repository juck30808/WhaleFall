{
 "cells": [
  {
   "cell_type": "markdown",
   "id": "aa3eb06b",
   "metadata": {},
   "source": [
    "## function"
   ]
  },
  {
   "cell_type": "code",
   "execution_count": null,
   "id": "20ad4bb1",
   "metadata": {},
   "outputs": [],
   "source": [
    "import numpy as np\n",
    "arr=np.ones(2)\n",
    "arr"
   ]
  },
  {
   "cell_type": "code",
   "execution_count": null,
   "id": "9fa4cde6",
   "metadata": {},
   "outputs": [],
   "source": [
    "np.ones((2,2))"
   ]
  },
  {
   "cell_type": "code",
   "execution_count": null,
   "id": "c53afc2b",
   "metadata": {},
   "outputs": [],
   "source": [
    "np.zeros(2)"
   ]
  },
  {
   "cell_type": "code",
   "execution_count": null,
   "id": "2791d404",
   "metadata": {},
   "outputs": [],
   "source": [
    "np.zeros((2,2))"
   ]
  },
  {
   "cell_type": "code",
   "execution_count": null,
   "id": "852d666e",
   "metadata": {},
   "outputs": [],
   "source": [
    "np.eye(2,2)"
   ]
  },
  {
   "cell_type": "code",
   "execution_count": null,
   "id": "ad60e031",
   "metadata": {},
   "outputs": [],
   "source": [
    "arr=np.array([1.432, 3.087, 4.56])\n",
    "np.around(arr)"
   ]
  },
  {
   "cell_type": "code",
   "execution_count": null,
   "id": "b2acc2c4",
   "metadata": {},
   "outputs": [],
   "source": [
    "np.around(arr,2)"
   ]
  },
  {
   "cell_type": "code",
   "execution_count": null,
   "id": "de4a225b",
   "metadata": {},
   "outputs": [],
   "source": [
    "np.linspace(0,10,5)"
   ]
  },
  {
   "cell_type": "code",
   "execution_count": null,
   "id": "4affa629",
   "metadata": {},
   "outputs": [],
   "source": [
    "import numpy as np\n",
    "\n",
    "print(\"Creating 8X3 array using numpy.arange\")\n",
    "sampleArray = np.arange(10, 34, 1)\n",
    "sampleArray = sampleArray.reshape(8,3)\n",
    "print (sampleArray)\n",
    "\n",
    "print(\"\\nDividing 8X3 array into 4 sub array\\n\")\n",
    "subArrays = np.split(sampleArray, 4)\n",
    "print(subArrays)"
   ]
  },
  {
   "cell_type": "code",
   "execution_count": null,
   "id": "4f049db1",
   "metadata": {},
   "outputs": [],
   "source": [
    "\n",
    "import numpy as np\n",
    "\n",
    "print(\"Printing Original array\")\n",
    "sampleArray = np.array([[34,43,73],[82,22,12],[53,94,66]]) \n",
    "print (sampleArray)\n",
    "\n",
    "print(\"Array after deleting column 2 on axis 1\")\n",
    "sampleArray = np.delete(sampleArray , 1, axis = 1) \n",
    "print (sampleArray)\n",
    "\n",
    "arr = np.array([[10,10,10]])\n",
    "\n",
    "print(\"Array after inserting column 2 on axis 1\")\n",
    "sampleArray = np.insert(sampleArray , 1, arr, axis = 1) \n",
    "print (sampleArray)"
   ]
  },
  {
   "cell_type": "code",
   "execution_count": null,
   "id": "bfd850aa",
   "metadata": {},
   "outputs": [],
   "source": [
    "faces = np.random.randint(0,100,(10,3))\n",
    "print(f'Set of 10 triplets\\n\\n{faces}')\n",
    "F = np.roll(faces.repeat(2,axis=1),-1,axis=1)\n",
    "F = F.reshape(len(F)*3,2)\n",
    "F = np.sort(F,axis=1)\n",
    "G = F.view( dtype=[('p0',F.dtype),('p1',F.dtype)] )\n",
    "G = np.unique(G)\n",
    "print(f'\\nUnique line segments composing all the triangles\\n\\n{G}')"
   ]
  },
  {
   "cell_type": "markdown",
   "id": "59fbc6e3",
   "metadata": {},
   "source": [
    "###  Numpy Exercise"
   ]
  },
  {
   "cell_type": "markdown",
   "id": "8e3f0ee7",
   "metadata": {},
   "source": [
    "#### 1. Import the numpy package under the name np"
   ]
  },
  {
   "cell_type": "code",
   "execution_count": null,
   "id": "fa49610c",
   "metadata": {},
   "outputs": [],
   "source": [
    "import numpy as np"
   ]
  },
  {
   "cell_type": "markdown",
   "id": "0cb9e14c",
   "metadata": {},
   "source": [
    "#### 2. Create a numpy array of size 15 initialsed to zero."
   ]
  },
  {
   "cell_type": "code",
   "execution_count": null,
   "id": "ec6f64df",
   "metadata": {},
   "outputs": [],
   "source": [
    "zeros=np.zeros(15)\n",
    "zeros"
   ]
  },
  {
   "cell_type": "markdown",
   "id": "8c2bb43b",
   "metadata": {},
   "source": [
    "#### 3. Create a numpy array of size 10 initiased to -1 but the fifth value which is 1"
   ]
  },
  {
   "cell_type": "code",
   "execution_count": null,
   "id": "6f0e3ffe",
   "metadata": {},
   "outputs": [],
   "source": [
    "numpy_array=np.full(10,-1)\n",
    "print(numpy_array)\n",
    "\n",
    "numpy_array[4]=1\n",
    "print(numpy_array)"
   ]
  },
  {
   "cell_type": "markdown",
   "id": "6af1403a",
   "metadata": {},
   "source": [
    "#### 4. Create a array with values ranging from 10 to 49 which are multiple of 3"
   ]
  },
  {
   "cell_type": "code",
   "execution_count": null,
   "id": "52790e65",
   "metadata": {},
   "outputs": [],
   "source": [
    "arr=np.arange(12,50,3)\n",
    "arr"
   ]
  },
  {
   "cell_type": "markdown",
   "id": "b9b61934",
   "metadata": {},
   "source": [
    "#### 5. Create and array with values ranging from 1 to 10 and Reverse the array (first element becomes last)"
   ]
  },
  {
   "cell_type": "code",
   "execution_count": null,
   "id": "d9aa44f3",
   "metadata": {},
   "outputs": [],
   "source": [
    "np_arr=np.arange(1,11)\n",
    "np_arr[::-1]"
   ]
  },
  {
   "cell_type": "markdown",
   "id": "af120eee",
   "metadata": {},
   "source": [
    "#### 6. Create a 10x10 array with random values with seed value 7 and find the minimum and maximum values for each row."
   ]
  },
  {
   "cell_type": "code",
   "execution_count": null,
   "id": "9e3c29cb",
   "metadata": {},
   "outputs": [],
   "source": [
    "np.random.seed(7)\n",
    "x = np.random.random((10,10))\n",
    "min_per_row=x.min(axis=1)\n",
    "max_per_row=x.max(axis=1)"
   ]
  },
  {
   "cell_type": "markdown",
   "id": "7019ad69",
   "metadata": {},
   "source": [
    "#### 7. Multiply a 5x3 matrix by a 3x2 matrix (real matrix product)\n",
    "```\n",
    "\n",
    "a=[[1,2,3],[4,5,6],[7,8,9],[10,11,12],[13,14,15]]\n",
    "b=[[1,2],[3,4],[5,6]]\n",
    "\n",
    "```"
   ]
  },
  {
   "cell_type": "code",
   "execution_count": null,
   "id": "beae4a3e",
   "metadata": {},
   "outputs": [],
   "source": [
    "a= np.array([[1,2,3],[4,5,6],[7,8,9],[10,11,12],[13,14,15]])\n",
    "b=np.array([[1,2],[3,4],[5,6]])\n",
    "np.matmul(a,b)"
   ]
  },
  {
   "cell_type": "markdown",
   "id": "da74ca31",
   "metadata": {},
   "source": [
    "#### 8. Given a 1D array, negate all elements which are between 3 and 8..And reshape to 3x5 shape\n",
    "```\n",
    "a=[1,2,3,4,5,6,7,8,9,10,11,12,13,14,15]\n",
    "```"
   ]
  },
  {
   "cell_type": "code",
   "execution_count": null,
   "id": "28c86d76",
   "metadata": {},
   "outputs": [],
   "source": [
    "a= np.array([1,2,3,4,5,6,7,8,9,10,11,12,13,14,15])\n",
    "a[(3 < a) & (a < 8)] *= -1\n",
    "print(a)\n",
    "reshaped_a = a.reshape(3,5)\n",
    "print(reshaped_a)"
   ]
  },
  {
   "cell_type": "markdown",
   "id": "9571fca3",
   "metadata": {},
   "source": [
    "#### 9. Create a 5x5 matrix with row values ranging from 0 to 4. Pad this 2D array with zero all around the border\n",
    "#### Expected Output :\n",
    "```\n",
    "[\n",
    "[0,0,0,0,0,0,0],\n",
    "[0 0 1 2 3 4 0],\n",
    "[0 0 1 2 3 4 0],\n",
    "[0 0 1 2 3 4 0],\n",
    "[0 0 1 2 3 4 0],\n",
    "[0 0 1 2 3 4 0],\n",
    "[0,0,0,0,0,0,0]\n",
    "]\n",
    "```"
   ]
  },
  {
   "cell_type": "code",
   "execution_count": null,
   "id": "0fd3d6d2",
   "metadata": {},
   "outputs": [],
   "source": [
    "x = np.zeros((5,5))\n",
    "y= np.arange(5)\n",
    "original=x+y\n",
    "print(original)\n",
    "\n",
    "# Create zeros col and row to append.\n",
    "zeros_row=np.zeros(7,dtype=int).reshape(1,7)\n",
    "zeros_col=np.zeros(5,dtype=int).reshape(5,1)\n",
    "\n",
    "# append using vstack and hstack\n",
    "padded=np.hstack((zeros_col,original,zeros_col))\n",
    "padded=np.vstack((zeros_row,padded,zeros_row))\n",
    "print(padded)\n",
    "\n",
    "# Numpy also provide pad function \n",
    "print(\"Alternate Solution\")\n",
    "alternate = np.pad(original, pad_width=1, mode='constant', constant_values=0)\n",
    "print(alternate)"
   ]
  },
  {
   "cell_type": "markdown",
   "id": "8562529d",
   "metadata": {},
   "source": [
    "#### 10. Read the following from file and fill missing values with 0\n",
    "```\n",
    "1, 2, 3, 4, 5\n",
    "6,  ,  , 7, 8\n",
    " ,  , 9,10,11\n",
    "```"
   ]
  },
  {
   "cell_type": "code",
   "execution_count": null,
   "id": "270c310e",
   "metadata": {},
   "outputs": [],
   "source": [
    "np.genfromtxt(\"a.txt\",dtype=int,filling_values=0.0)"
   ]
  },
  {
   "cell_type": "markdown",
   "id": "a7be5119",
   "metadata": {},
   "source": [
    "#### 11.  Given a array arr. Write a NumPy program to test element-wise for NaN of a given array.\n",
    "```\n",
    "arr = np.array([1, 0, np.nan, np.inf])\n",
    "```"
   ]
  },
  {
   "cell_type": "code",
   "execution_count": null,
   "id": "306d4410",
   "metadata": {},
   "outputs": [],
   "source": [
    "arr = np.array([1, 0, np.nan, np.inf])\n",
    "print(np.isnan(arr))"
   ]
  },
  {
   "cell_type": "markdown",
   "id": "72d675e1",
   "metadata": {},
   "source": [
    "#### 12. Write a NumPy program to convert an array to a float type.\n",
    "```\n",
    "Original array \n",
    "[1, 2, 3, 4] \n",
    "Array converted to a float type: \n",
    "[ 1. 2. 3. 4.] \n",
    "```"
   ]
  },
  {
   "cell_type": "code",
   "execution_count": null,
   "id": "53e82f09",
   "metadata": {},
   "outputs": [],
   "source": [
    "a = [1, 2, 3, 4]\n",
    "print(\"Original array\")\n",
    "print(a)\n",
    "x = np.asfarray(a)\n",
    "print(\"Array converted to a float type:\")\n",
    "print(x)"
   ]
  },
  {
   "cell_type": "markdown",
   "id": "aa3c9e87",
   "metadata": {},
   "source": [
    "#### 13.  Write a NumPy program to construct an array by repeating.\n",
    "```\n",
    "Original array \n",
    "[1, 2, 3, 4] \n",
    "Repeating 2 times \n",
    "[1 2 3 4 1 2 3 4]\n",
    "Repeating 3 times \n",
    "[1 2 3 4 1 2 3 4 1 2 3 4]\n",
    "```"
   ]
  },
  {
   "cell_type": "code",
   "execution_count": null,
   "id": "92429b33",
   "metadata": {},
   "outputs": [],
   "source": [
    "n=3\n",
    "x = np.tile(a, n)\n",
    "x"
   ]
  },
  {
   "cell_type": "markdown",
   "id": "535f8f48",
   "metadata": {},
   "source": [
    "#### 14. How to tell if a given 2D array has null columns?"
   ]
  },
  {
   "cell_type": "code",
   "execution_count": null,
   "id": "cfdfa5ef",
   "metadata": {},
   "outputs": [],
   "source": [
    "nums = np.random.randint(0,3,(4,10))\n",
    "print(nums)\n",
    "print(\"Test whether the said array has null columns or not:\")\n",
    "print((~nums.any(axis=0)).any())"
   ]
  },
  {
   "cell_type": "markdown",
   "id": "c5400de1",
   "metadata": {},
   "source": [
    "#### 15. Considering two arrays with shape (1,3) and (3,1), how to compute their sum using an iterator? \n",
    "```\n",
    "a= [\n",
    "[1,2,3]\n",
    "]\n",
    "\n",
    "b= [\n",
    "[4],\n",
    "[5],\n",
    "[6],\n",
    "]\n",
    "\n",
    "Expected Output = [[5 6 7]\n",
    "                   [6 7 8]\n",
    "                   [7 8 9]]\n",
    "```\n"
   ]
  },
  {
   "cell_type": "code",
   "execution_count": null,
   "id": "16a99814",
   "metadata": {},
   "outputs": [],
   "source": [
    "A = np.arange(1,4).reshape(3,1)\n",
    "B = np.arange(4,7).reshape(1,3)\n",
    "it = np.nditer([A,B,None])\n",
    "for x,y,z in it: z[...] = x + y\n",
    "print(it.operands[2])"
   ]
  },
  {
   "cell_type": "markdown",
   "id": "dc4527a8",
   "metadata": {},
   "source": [
    "##### 16. Solve the linear equation\n",
    "##### 10x+4y = 3 \n",
    "#####  -x+5y = 2 "
   ]
  },
  {
   "cell_type": "code",
   "execution_count": null,
   "id": "a8f2d62f",
   "metadata": {},
   "outputs": [],
   "source": [
    "A = np.array([[10, 4], [-1, 5]])\n",
    "b = np.array([3,2])\n",
    "x = np.linalg.solve(A, b)\n",
    "x"
   ]
  },
  {
   "cell_type": "markdown",
   "id": "25c66dbd",
   "metadata": {},
   "source": [
    "##### 17. Create a 4x4 matrix with random values and find inverse of it."
   ]
  },
  {
   "cell_type": "code",
   "execution_count": null,
   "id": "7e159429",
   "metadata": {},
   "outputs": [],
   "source": [
    "x= np.random.random((4,4))\n",
    "print(x)\n",
    "print(\"Inverse\")\n",
    "y = np.linalg.inv(x) \n",
    "print(y)"
   ]
  },
  {
   "cell_type": "markdown",
   "id": "d3e2bb3f",
   "metadata": {},
   "source": [
    "##### 18.  Consider following array replace every 3 with 0\n",
    "```\n",
    "array = np.array([\n",
    "    [3, 9, 7],\n",
    "    [2, 0, 3],\n",
    "    [3, 3, 1]\n",
    "])\n",
    "```"
   ]
  },
  {
   "cell_type": "code",
   "execution_count": null,
   "id": "45f908c3",
   "metadata": {},
   "outputs": [],
   "source": [
    "array = np.array([\n",
    "    [3, 9, 7],\n",
    "    [2, 0, 3],\n",
    "    [3, 3, 1]\n",
    "])\n",
    "\n",
    "array[(array == 3)] =0\n",
    "array"
   ]
  },
  {
   "cell_type": "markdown",
   "id": "b7e92f94",
   "metadata": {},
   "source": [
    "##### 19. Considering these numpy array of person names and corresponding arrays for their age and gender. Findout names Who’s at least 44 in age.?\n",
    "```\n",
    "names = np.array([\"Dennis\", \"Dee\", \"Charlie\", \"Mac\", \"Frank\"])\n",
    "ages = np.array([43, 44, 43, 42, 74])\n",
    "genders = np.array(['male', 'female', 'male', 'male', 'male'])\n",
    "```"
   ]
  },
  {
   "cell_type": "code",
   "execution_count": null,
   "id": "900356ad",
   "metadata": {},
   "outputs": [],
   "source": [
    "names = np.array([\"Dennis\", \"Dee\", \"Charlie\", \"Mac\", \"Frank\"])\n",
    "ages = np.array([43, 44, 43, 42, 74])\n",
    "genders = np.array(['male', 'female', 'male', 'male', 'male'])\n",
    "\n",
    "name= names[(ages >= 44)]\n",
    "print(name)"
   ]
  },
  {
   "cell_type": "markdown",
   "id": "42cd9275",
   "metadata": {},
   "source": [
    "###### 20. Based on above array. Which males are over 42?."
   ]
  },
  {
   "cell_type": "code",
   "execution_count": null,
   "id": "1c5300eb",
   "metadata": {},
   "outputs": [],
   "source": [
    "name= names[(ages > 42) & (genders == 'male')]\n",
    "print(name)"
   ]
  },
  {
   "cell_type": "markdown",
   "id": "7f7e99f8",
   "metadata": {},
   "source": [
    "###### 21. Based on above array. Who’s a not a male or who is younger than 45? "
   ]
  },
  {
   "cell_type": "code",
   "execution_count": null,
   "id": "d4b3953f",
   "metadata": {},
   "outputs": [],
   "source": [
    "name= names[(ages < 45) & (genders != 'male')]\n",
    "name"
   ]
  },
  {
   "cell_type": "markdown",
   "id": "2cbee1e7",
   "metadata": {},
   "source": [
    "##### 22. Given the following pairs of array-shapes, determine what the resulting broadcasted shapes will be.\n",
    "##### Indicate if a pair is broadcast-incompatible.\n",
    "```\n",
    "1.    7 x 2 with 7\n",
    "2.    4 with 3 x 4\n",
    "3.    1 x 3 x 1 with 8 x 1 x 1\n",
    "4.    9 x 2 x 5 with 2 x 5\n",
    "5.    3 with 3 x 3 x 2 \n",
    "```"
   ]
  },
  {
   "cell_type": "markdown",
   "id": "cc55611d",
   "metadata": {},
   "source": [
    "```\n",
    "Answer:\n",
    "1. broadcast-incompatible\n",
    "2. (3 x 4)\n",
    "3. (8 x 3 x 1)\n",
    "4. (9 x 2 x 5)\n",
    "5. broadcast-incompatible\n",
    "```"
   ]
  },
  {
   "cell_type": "markdown",
   "id": "3c019fa2",
   "metadata": {},
   "source": [
    "##### 23. Write a NumPy program to capitalize the first letter, lowercase, uppercase, swapcase, title-case of all the elements of a given array. \n",
    "\n",
    "##### Expected Output:\n",
    "#### Original Array:\n",
    "```\n",
    "['python' 'PHP' 'java' 'C++']\n",
    "\n",
    "Capitalized: ['Python' 'Php' 'Java' 'C++']\n",
    "Lowered: ['python' 'php' 'java' 'c++']\n",
    "Uppered: ['PYTHON' 'PHP' 'JAVA' 'C++']\n",
    "Swapcased: ['PYTHON' 'php' 'JAVA' 'c++']\n",
    "Titlecased: ['Python' 'Php' 'Java' 'C++']\n",
    "\n",
    "```"
   ]
  },
  {
   "cell_type": "code",
   "execution_count": null,
   "id": "2aaabd58",
   "metadata": {},
   "outputs": [],
   "source": [
    "x = np.array(['python', 'PHP', 'java', 'C++'], dtype=np.str)\n",
    "print(\"Original Array:\")\n",
    "print(x)\n",
    "capitalized_case = np.char.capitalize(x)\n",
    "lowered_case = np.char.lower(x)\n",
    "uppered_case = np.char.upper(x)\n",
    "swapcased_case = np.char.swapcase(x)\n",
    "titlecased_case = np.char.title(x)\n",
    "print(\"\\nCapitalized: \", capitalized_case)\n",
    "print(\"Lowered: \", lowered_case)\n",
    "print(\"Uppered: \", uppered_case)\n",
    "print(\"Swapcased: \", swapcased_case)\n",
    "print(\"Titlecased: \", titlecased_case)"
   ]
  },
  {
   "cell_type": "markdown",
   "id": "a15f688c",
   "metadata": {},
   "source": [
    "##### 24. Write a NumPy program to split the element of a given array with spaces\n",
    "```\n",
    "Original Array:\n",
    " ['apple mangoes peach grapes']\n",
    "Output\n",
    "[list(['apple', 'mangoes', 'peach', 'grapes'])]\n",
    "```"
   ]
  },
  {
   "cell_type": "code",
   "execution_count": null,
   "id": "ba124626",
   "metadata": {},
   "outputs": [],
   "source": [
    "x= np.array(['apple mangoes peach grapes'])\n",
    "r = np.char.split(x)\n",
    "print(\"\\nSplit the element of the said array with spaces: \")\n",
    "print(r)"
   ]
  },
  {
   "cell_type": "markdown",
   "id": "120a82b1",
   "metadata": {},
   "source": [
    "##### 25. Write a NumPy program to sort a given array of shape 2 along the first axis, last axis and on flattened array\n",
    "```\n",
    "Original array:\n",
    "[[10 40]\n",
    "[30 20]]\n",
    "Sort the array along the first axis:\n",
    "[[10 20]\n",
    "[30 40]]\n",
    "Sort the array along the last axis:\n",
    "[[10 40]\n",
    "[20 30]]\n",
    "Sort the flattened array:\n",
    "[10 20 30 40] \n",
    "```"
   ]
  },
  {
   "cell_type": "code",
   "execution_count": null,
   "id": "c989cf8e",
   "metadata": {},
   "outputs": [],
   "source": [
    "x= np.array([[10,40],[30,20]])\n",
    "print(x)\n",
    "y=np.sort(x,axis=0)\n",
    "print(y)\n",
    "z=np.sort(x,axis=1)\n",
    "print(z)\n",
    "k=np.sort(x.flatten())\n",
    "print(k)"
   ]
  },
  {
   "cell_type": "markdown",
   "id": "63141962",
   "metadata": {},
   "source": [
    "##### 26. Write a NumPy program to add, subtract, multiply, divide arguments element-wise\n",
    "``` \n",
    "a= [1,3,5,6,7,8,9]\n",
    "b= [10,11,23,45,67,12,13]\n",
    "```"
   ]
  },
  {
   "cell_type": "code",
   "execution_count": null,
   "id": "55d1b8ce",
   "metadata": {},
   "outputs": [],
   "source": [
    "a= np.array([1,3,5,6,7,8,9])\n",
    "b= np.array([10,11,23,45,67,12,13])\n",
    "print(a+b)\n",
    "print(a-b)\n",
    "print(a/b)\n",
    "print(a*b)"
   ]
  },
  {
   "cell_type": "markdown",
   "id": "00246f7b",
   "metadata": {},
   "source": [
    "##### 27. Write a NumPy program to get the powers of 3 of an array values element-wise\n",
    "```\n",
    "a= [0 1 2 3 4 5 6]   \n",
    "```"
   ]
  },
  {
   "cell_type": "code",
   "execution_count": null,
   "id": "7924e0f3",
   "metadata": {},
   "outputs": [],
   "source": [
    "a= np.array([0,1,2,3,4,5,6])\n",
    "print(a**3)"
   ]
  },
  {
   "cell_type": "markdown",
   "id": "4dc8036e",
   "metadata": {},
   "source": [
    "###### 28. Write a NumPy program to get the minimum and maximum value of a given array along the second axis.\n",
    "```\n",
    "[[0 1 2 3 4 5 6]\n",
    "[2 3 4 5 6 7 8]]\n",
    "Maximum value along the second axis:\n",
    "[6 8]\n",
    "Minimum value along the second axis:\n",
    "[0 2]\n",
    "```"
   ]
  },
  {
   "cell_type": "code",
   "execution_count": null,
   "id": "e2092c7d",
   "metadata": {},
   "outputs": [],
   "source": [
    "x= np.array([[0,1,2,3,4,5,6],[2,3,4,5,6,7,8]])\n",
    "print(x.max(axis=1))\n",
    "print(x.min(axis=1))"
   ]
  },
  {
   "cell_type": "markdown",
   "id": "59c25106",
   "metadata": {},
   "source": [
    "##### 29. Write a NumPy program to flatten the array and then find its median.\n",
    "```\n",
    "[[ 0 1 2 3 4 5]\n",
    "[ 6 7 8 9 10 11]]\n",
    "```"
   ]
  },
  {
   "cell_type": "code",
   "execution_count": null,
   "id": "2a98dc84",
   "metadata": {},
   "outputs": [],
   "source": [
    "x= np.array([[0,1,2,3,4,5],[6,7,8,9,10,11]])\n",
    "flat=x.flatten()\n",
    "print(flat)\n",
    "np.median(flat)"
   ]
  },
  {
   "cell_type": "markdown",
   "id": "24cd932b",
   "metadata": {},
   "source": [
    "##### 30. Write a NumPy program to compute the 80th percentile for all elements in a given array along the second axis.\n",
    "```\n",
    "Original array:\n",
    "[[ 0  1  2  3  4  5]\n",
    " [ 6  7  8  9 10 11]]\n",
    "\n",
    "80th percentile for all elements of the said array along the second axis:\n",
    "[ 4. 10.]\n",
    "```"
   ]
  },
  {
   "cell_type": "code",
   "execution_count": null,
   "id": "a95ec10b",
   "metadata": {},
   "outputs": [],
   "source": [
    "x= np.array([[0,1,2,3,4,5],[6,7,8,9,10,11]])\n",
    "np.percentile(x,80,axis=1)"
   ]
  },
  {
   "cell_type": "code",
   "execution_count": null,
   "id": "06afa8aa",
   "metadata": {},
   "outputs": [],
   "source": [
    "%time for i in range(10): \n",
    "    my_array1 = array1*2"
   ]
  },
  {
   "cell_type": "code",
   "execution_count": null,
   "id": "58d315ca",
   "metadata": {},
   "outputs": [],
   "source": [
    "%time for i in range(10): \n",
    "    my_array2 = [x*2 for x in array2]"
   ]
  },
  {
   "cell_type": "code",
   "execution_count": null,
   "id": "bcdf09f6",
   "metadata": {},
   "outputs": [],
   "source": []
  },
  {
   "cell_type": "code",
   "execution_count": null,
   "id": "260daa2a",
   "metadata": {},
   "outputs": [],
   "source": [
    "import numpy as np\n",
    "array_4 = np.array(list(range(10)))\n",
    "array_44\n"
   ]
  },
  {
   "cell_type": "code",
   "execution_count": null,
   "id": "a882a08f",
   "metadata": {},
   "outputs": [],
   "source": [
    "np.array(list(range(10)), dtype=np.float64)"
   ]
  },
  {
   "cell_type": "code",
   "execution_count": null,
   "id": "2fe7ef47",
   "metadata": {},
   "outputs": [],
   "source": [
    "array_5 = np.array(list(range(15)), dtype = np.int32)\n",
    "array_5"
   ]
  },
  {
   "cell_type": "code",
   "execution_count": null,
   "id": "82791610",
   "metadata": {},
   "outputs": [],
   "source": [
    "np.array(list(range(10)), dtype=np.float64).dtype"
   ]
  },
  {
   "cell_type": "code",
   "execution_count": null,
   "id": "02eede7b",
   "metadata": {},
   "outputs": [],
   "source": [
    "array_6 = array_4.astype(np.float64)\n",
    "print(array_6)\n",
    "print(array_6.dtype)"
   ]
  },
  {
   "cell_type": "code",
   "execution_count": null,
   "id": "12efd545",
   "metadata": {},
   "outputs": [],
   "source": [
    "np.array(list(range(10)), dtype=np.float64).astype(np.int32).dtype"
   ]
  },
  {
   "cell_type": "code",
   "execution_count": null,
   "id": "46c16453",
   "metadata": {},
   "outputs": [],
   "source": [
    "array8 = np.array([3.5, -1.5, -2.5, 0.5, 12.6, 10.8])\n",
    "array8"
   ]
  },
  {
   "cell_type": "code",
   "execution_count": null,
   "id": "e3337db7",
   "metadata": {},
   "outputs": [],
   "source": [
    "array9 = array8.astype(np.int64)\n",
    "array9"
   ]
  },
  {
   "cell_type": "code",
   "execution_count": null,
   "id": "018ee5cb",
   "metadata": {},
   "outputs": [],
   "source": [
    "num_strings = np.array(['1', '-2', '3', '4'], dtype=np.string_)\n",
    "num_strings"
   ]
  },
  {
   "cell_type": "code",
   "execution_count": null,
   "id": "45b53faa",
   "metadata": {},
   "outputs": [],
   "source": [
    "num_array_int32 = num_strings.astype(np.int32)\n",
    "num_array_int32"
   ]
  },
  {
   "cell_type": "code",
   "execution_count": null,
   "id": "875605bd",
   "metadata": {},
   "outputs": [],
   "source": [
    "num_array_float = num_strings.astype(np.float)\n",
    "num_array_float"
   ]
  },
  {
   "cell_type": "code",
   "execution_count": null,
   "id": "297c8d1c",
   "metadata": {},
   "outputs": [],
   "source": [
    "int_array = np.arange(15)\n",
    "int_array"
   ]
  },
  {
   "cell_type": "code",
   "execution_count": null,
   "id": "e6d6b321",
   "metadata": {},
   "outputs": [],
   "source": [
    "float_type = np.array([1.5, 1.7, 1.9, 1.11, 1.13], dtype=np.float64)\n",
    "float_type"
   ]
  },
  {
   "cell_type": "code",
   "execution_count": null,
   "id": "2374c754",
   "metadata": {},
   "outputs": [],
   "source": [
    "int_array_float = int_array.astype(float_type.dtype)\n",
    "int_array_float"
   ]
  },
  {
   "cell_type": "code",
   "execution_count": null,
   "id": "85932d32",
   "metadata": {},
   "outputs": [],
   "source": [
    "empty_uint64 = np.empty(3, dtype='u8')\n",
    "empty_uint64"
   ]
  },
  {
   "cell_type": "markdown",
   "id": "6ef9f797",
   "metadata": {},
   "source": [
    "## File"
   ]
  },
  {
   "cell_type": "code",
   "execution_count": 1,
   "id": "10185ab6",
   "metadata": {},
   "outputs": [],
   "source": [
    "## Working with CSV"
   ]
  },
  {
   "cell_type": "code",
   "execution_count": null,
   "id": "63169b81",
   "metadata": {},
   "outputs": [],
   "source": [
    "!pip install numpy"
   ]
  },
  {
   "cell_type": "code",
   "execution_count": null,
   "id": "3556181a",
   "metadata": {},
   "outputs": [],
   "source": [
    "import numpy as np\n",
    "new_data = np.random.random((50,4))\n",
    "np.savetxt(\"output/Managing_Data_Files.csv\", new_data, fmt=\"%.2f\", delimiter=\",\", header = \"H1, H2, H3, H4\")"
   ]
  },
  {
   "cell_type": "code",
   "execution_count": null,
   "id": "09f60a47",
   "metadata": {},
   "outputs": [],
   "source": [
    "reading_csv = np.loadtxt(\"output/Managing_Data_Files.csv\", delimiter=\",\")\n",
    "reading_csv[:4,:]"
   ]
  },
  {
   "cell_type": "markdown",
   "id": "2325a7af",
   "metadata": {
    "colab_type": "text",
    "id": "tEccAOSn5KDK"
   },
   "source": [
    "** 1.2  Functions for creating arrays**"
   ]
  },
  {
   "cell_type": "code",
   "execution_count": 52,
   "id": "98c8b009",
   "metadata": {
    "colab": {},
    "colab_type": "code",
    "id": "yEeTwNqW5KDM",
    "outputId": "b5772d41-1ab2-4d01-e065-c92008f06085"
   },
   "outputs": [
    {
     "data": {
      "text/plain": [
       "array([0, 1, 2, 3, 4, 5, 6, 7, 8, 9])"
      ]
     },
     "execution_count": 52,
     "metadata": {},
     "output_type": "execute_result"
    }
   ],
   "source": [
    "#using arrange function arange is an array-valued version of the built-in Python range function\n",
    "\n",
    "a = np.arange(10) # 0.... n-1\n",
    "a"
   ]
  },
  {
   "cell_type": "code",
   "execution_count": null,
   "id": "877fb15a",
   "metadata": {
    "colab": {},
    "colab_type": "code",
    "id": "w-aKnDg05KDQ",
    "outputId": "a0ca2b1e-e659-4514-f4d8-f2d924bcb0d8"
   },
   "outputs": [
    {
     "data": {
      "text/plain": [
       "array([1, 3, 5, 7, 9])"
      ]
     },
     "execution_count": 18,
     "metadata": {
      "tags": []
     },
     "output_type": "execute_result"
    }
   ],
   "source": [
    "b = np.arange(1, 10, 2) #start, end (exclusive), step\n",
    "b"
   ]
  },
  {
   "cell_type": "code",
   "execution_count": null,
   "id": "c7661cd0",
   "metadata": {
    "colab": {},
    "colab_type": "code",
    "id": "PbY7KZ2T5KDU",
    "outputId": "14c98733-733d-4180-ceff-a4e3398f3d3c"
   },
   "outputs": [
    {
     "data": {
      "text/plain": [
       "array([ 0. ,  0.2,  0.4,  0.6,  0.8,  1. ])"
      ]
     },
     "execution_count": 19,
     "metadata": {
      "tags": []
     },
     "output_type": "execute_result"
    }
   ],
   "source": [
    "a = np.linspace(0, 1, 6) #start, end, number of points\n",
    "a"
   ]
  },
  {
   "cell_type": "code",
   "execution_count": null,
   "id": "01c82124",
   "metadata": {
    "colab": {},
    "colab_type": "code",
    "id": "jEXPF_bp5KDZ",
    "outputId": "d5456940-56e3-4236-fa10-f88eb9791ffe"
   },
   "outputs": [
    {
     "data": {
      "text/plain": [
       "array([[ 1.,  1.,  1.],\n",
       "       [ 1.,  1.,  1.],\n",
       "       [ 1.,  1.,  1.]])"
      ]
     },
     "execution_count": 21,
     "metadata": {
      "tags": []
     },
     "output_type": "execute_result"
    }
   ],
   "source": [
    "a = np.ones((3, 3))\n",
    "a"
   ]
  },
  {
   "cell_type": "code",
   "execution_count": 53,
   "id": "2cebd8f5",
   "metadata": {
    "colab": {},
    "colab_type": "code",
    "id": "-zPMMjEo5KDc",
    "outputId": "92f1861e-f85b-488f-d675-6a64f98710b4"
   },
   "outputs": [
    {
     "data": {
      "text/plain": [
       "array([[0., 0., 0.],\n",
       "       [0., 0., 0.],\n",
       "       [0., 0., 0.]])"
      ]
     },
     "execution_count": 53,
     "metadata": {},
     "output_type": "execute_result"
    }
   ],
   "source": [
    "b = np.zeros((3, 3))\n",
    "b"
   ]
  },
  {
   "cell_type": "code",
   "execution_count": null,
   "id": "6f473773",
   "metadata": {
    "colab": {},
    "colab_type": "code",
    "id": "iva_x1Y25KDf",
    "outputId": "347a496f-b2db-4fc4-b634-50ed5fb9d447"
   },
   "outputs": [
    {
     "data": {
      "text/plain": [
       "array([[ 1.,  0.,  0.],\n",
       "       [ 0.,  1.,  0.],\n",
       "       [ 0.,  0.,  1.]])"
      ]
     },
     "execution_count": 23,
     "metadata": {
      "tags": []
     },
     "output_type": "execute_result"
    }
   ],
   "source": [
    "c = np.eye(3)  #Return a 2-D array with ones on the diagonal and zeros elsewhere.\n",
    "c"
   ]
  },
  {
   "cell_type": "code",
   "execution_count": null,
   "id": "675f2ba2",
   "metadata": {
    "colab": {},
    "colab_type": "code",
    "id": "0UPv6IBd5KDk",
    "outputId": "e0c11c71-a8a8-4544-fadf-22bf59d84a07"
   },
   "outputs": [
    {
     "data": {
      "text/plain": [
       "array([[ 1.,  0.],\n",
       "       [ 0.,  1.],\n",
       "       [ 0.,  0.]])"
      ]
     },
     "execution_count": 24,
     "metadata": {
      "tags": []
     },
     "output_type": "execute_result"
    }
   ],
   "source": [
    "d = np.eye(3, 2) #3 is number of rows, 2 is number of columns, index of diagonal start with 0\n",
    "d"
   ]
  },
  {
   "cell_type": "code",
   "execution_count": null,
   "id": "1d81f615",
   "metadata": {
    "colab": {},
    "colab_type": "code",
    "id": "X0khu_6H5KDo",
    "outputId": "40d8f55d-dd76-4fb7-86f2-c0661231dc63"
   },
   "outputs": [
    {
     "data": {
      "text/plain": [
       "array([[1, 0, 0, 0],\n",
       "       [0, 2, 0, 0],\n",
       "       [0, 0, 3, 0],\n",
       "       [0, 0, 0, 4]])"
      ]
     },
     "execution_count": 22,
     "metadata": {
      "tags": []
     },
     "output_type": "execute_result"
    }
   ],
   "source": [
    "#create array using diag function\n",
    "a = np.diag([1, 2, 3, 4]) #construct a diagonal array.\n",
    "a"
   ]
  },
  {
   "cell_type": "code",
   "execution_count": 54,
   "id": "4435c641",
   "metadata": {
    "colab": {},
    "colab_type": "code",
    "id": "jtu2ChUt5KDq",
    "outputId": "4eb2d233-588c-4859-b649-e2c8ba0cf702"
   },
   "outputs": [
    {
     "data": {
      "text/plain": [
       "array([[0, 0, 0, 0, 0, 0, 0, 0, 0, 0],\n",
       "       [0, 1, 0, 0, 0, 0, 0, 0, 0, 0],\n",
       "       [0, 0, 2, 0, 0, 0, 0, 0, 0, 0],\n",
       "       [0, 0, 0, 3, 0, 0, 0, 0, 0, 0],\n",
       "       [0, 0, 0, 0, 4, 0, 0, 0, 0, 0],\n",
       "       [0, 0, 0, 0, 0, 5, 0, 0, 0, 0],\n",
       "       [0, 0, 0, 0, 0, 0, 6, 0, 0, 0],\n",
       "       [0, 0, 0, 0, 0, 0, 0, 7, 0, 0],\n",
       "       [0, 0, 0, 0, 0, 0, 0, 0, 8, 0],\n",
       "       [0, 0, 0, 0, 0, 0, 0, 0, 0, 9]])"
      ]
     },
     "execution_count": 54,
     "metadata": {},
     "output_type": "execute_result"
    }
   ],
   "source": [
    "np.diag(a)   #Extract diagonal"
   ]
  },
  {
   "cell_type": "code",
   "execution_count": 55,
   "id": "7d3aadf9",
   "metadata": {
    "colab": {},
    "colab_type": "code",
    "id": "JfahvFnj5KDu",
    "outputId": "dc144435-60b4-4cbb-ac4f-5c8659531e6c"
   },
   "outputs": [
    {
     "data": {
      "text/plain": [
       "array([0.67270931, 0.26165094, 0.59989432, 0.24309559])"
      ]
     },
     "execution_count": 55,
     "metadata": {},
     "output_type": "execute_result"
    }
   ],
   "source": [
    "#Create an array of the given shape and populate it with random samples from a uniform distribution over [0, 1).\n",
    "a = np.random.rand(4) \n",
    "a"
   ]
  },
  {
   "cell_type": "code",
   "execution_count": 56,
   "id": "15c9d639",
   "metadata": {
    "colab": {},
    "colab_type": "code",
    "id": "ot7Aij7d5KDw",
    "outputId": "03bd9c1b-0608-41b8-be65-6676d11c69bb"
   },
   "outputs": [
    {
     "data": {
      "text/plain": [
       "array([ 0.70266615, -0.17217638,  2.28855271,  0.03413919])"
      ]
     },
     "execution_count": 56,
     "metadata": {},
     "output_type": "execute_result"
    }
   ],
   "source": [
    "a = np.random.randn(4)#Return a sample (or samples) from the “standard normal” distribution.  ***Gausian***\n",
    "a"
   ]
  },
  {
   "cell_type": "markdown",
   "id": "5529354e",
   "metadata": {
    "colab_type": "text",
    "id": "aRK5tN_F5KDz"
   },
   "source": [
    "**Note:**\n",
    "    \n",
    "For random samples from N(\\mu, \\sigma^2), use:\n",
    "\n",
    "sigma * np.random.randn(...) + mu\n",
    "\n"
   ]
  },
  {
   "cell_type": "markdown",
   "id": "ce7c0b83",
   "metadata": {
    "colab_type": "text",
    "id": "36MjYG6E5KD0"
   },
   "source": [
    "# 2. Basic DataTypes"
   ]
  },
  {
   "cell_type": "markdown",
   "id": "3092edcb",
   "metadata": {
    "colab_type": "text",
    "id": "-K6yrynt5KD1"
   },
   "source": [
    "You may have noticed that, in some instances, array elements are displayed with a **trailing dot (e.g. 2. vs 2)**. This is due to a difference in the **data-type** used:"
   ]
  },
  {
   "cell_type": "code",
   "execution_count": 57,
   "id": "378e94a7",
   "metadata": {
    "colab": {},
    "colab_type": "code",
    "id": "Dee7Z3215KD2",
    "outputId": "22ccafa1-b0fc-469e-ff9a-f09689d58698"
   },
   "outputs": [
    {
     "data": {
      "text/plain": [
       "dtype('int32')"
      ]
     },
     "execution_count": 57,
     "metadata": {},
     "output_type": "execute_result"
    }
   ],
   "source": [
    "a = np.arange(10)\n",
    "a.dtype"
   ]
  },
  {
   "cell_type": "code",
   "execution_count": null,
   "id": "923b9e1f",
   "metadata": {
    "colab": {},
    "colab_type": "code",
    "id": "rTIjQKfp5KD8",
    "outputId": "942d0218-b86b-4ff9-d288-261c0c296452"
   },
   "outputs": [
    {
     "data": {
      "text/plain": [
       "array([ 0.,  1.,  2.,  3.,  4.,  5.,  6.,  7.,  8.,  9.])"
      ]
     },
     "execution_count": 27,
     "metadata": {
      "tags": []
     },
     "output_type": "execute_result"
    }
   ],
   "source": [
    "#You can explicitly specify which data-type you want:\n",
    "a = np.arange(10, dtype='float64')\n",
    "a"
   ]
  },
  {
   "cell_type": "code",
   "execution_count": null,
   "id": "b2413b78",
   "metadata": {
    "colab": {},
    "colab_type": "code",
    "id": "HsKFx1Sx5KD-",
    "outputId": "061877ab-b82a-44de-e0f3-43aea97e4384"
   },
   "outputs": [
    {
     "name": "stdout",
     "output_type": "stream",
     "text": [
      "[[ 0.  0.  0.]\n",
      " [ 0.  0.  0.]\n",
      " [ 0.  0.  0.]]\n"
     ]
    },
    {
     "data": {
      "text/plain": [
       "dtype('float64')"
      ]
     },
     "execution_count": 28,
     "metadata": {
      "tags": []
     },
     "output_type": "execute_result"
    }
   ],
   "source": [
    "#The default data type is float for zeros and ones function\n",
    "a = np.zeros((3, 3))\n",
    "print(a)\n",
    "a.dtype"
   ]
  },
  {
   "cell_type": "markdown",
   "id": "b4bbabfc",
   "metadata": {
    "colab_type": "text",
    "id": "dAiIi9vT5KEB"
   },
   "source": [
    "**other datatypes**"
   ]
  },
  {
   "cell_type": "code",
   "execution_count": 58,
   "id": "2549d0e7",
   "metadata": {
    "colab": {},
    "colab_type": "code",
    "id": "XCgbLGnL5KEC",
    "outputId": "f8f6ee44-c5ac-4bcd-b084-8c93f9b0e828"
   },
   "outputs": [
    {
     "name": "stdout",
     "output_type": "stream",
     "text": [
      "complex128\n"
     ]
    }
   ],
   "source": [
    "d = np.array([1+2j, 2+4j])   #Complex datatype\n",
    "print(d.dtype)"
   ]
  },
  {
   "cell_type": "code",
   "execution_count": 59,
   "id": "92f143d3",
   "metadata": {
    "colab": {},
    "colab_type": "code",
    "id": "t9Brdfix5KEF",
    "outputId": "7e23e500-3ec1-4546-9ec9-4614dee686e9"
   },
   "outputs": [
    {
     "name": "stdout",
     "output_type": "stream",
     "text": [
      "bool\n"
     ]
    }
   ],
   "source": [
    "b = np.array([True, False, True, False])  #Boolean datatype\n",
    "print(b.dtype)"
   ]
  },
  {
   "cell_type": "code",
   "execution_count": 60,
   "id": "b42bf3c8",
   "metadata": {
    "colab": {
     "base_uri": "https://localhost:8080/",
     "height": 34
    },
    "colab_type": "code",
    "executionInfo": {
     "elapsed": 3184,
     "status": "ok",
     "timestamp": 1596993936852,
     "user": {
      "displayName": "Applied AI Course",
      "photoUrl": "https://lh3.googleusercontent.com/a-/AOh14GjjpR94Niu_srJxsFT_3bp9vDfqrjd2Zx94jDQdMg=s64",
      "userId": "06629147635963609455"
     },
     "user_tz": -330
    },
    "id": "bn7PC1I45KEI",
    "outputId": "15693348-af7f-412f-e66a-f7c392cfabe3"
   },
   "outputs": [
    {
     "data": {
      "text/plain": [
       "dtype('<U6')"
      ]
     },
     "execution_count": 60,
     "metadata": {},
     "output_type": "execute_result"
    }
   ],
   "source": [
    "s = np.array(['Ram', 'Robert', 'Rahim'])\n",
    "s.dtype"
   ]
  },
  {
   "cell_type": "markdown",
   "id": "1925c931",
   "metadata": {
    "colab_type": "text",
    "id": "gTy0tQFl5KEM"
   },
   "source": [
    "**Each built-in data type has a character code that uniquely identifies it.**\n",
    "\n",
    "'b' − boolean\n",
    "\n",
    "'i' − (signed) integer\n",
    "\n",
    "'u' − unsigned integer\n",
    "\n",
    "'f' − floating-point\n",
    "\n",
    "'c' − complex-floating point\n",
    "\n",
    "'m' − timedelta\n",
    "\n",
    "'M' − datetime\n",
    "\n",
    "'O' − (Python) objects\n",
    "\n",
    "'S', 'a' − (byte-)string\n",
    "\n",
    "'U' − Unicode\n",
    "\n",
    "'V' − raw data (void)"
   ]
  },
  {
   "cell_type": "markdown",
   "id": "770182f1",
   "metadata": {
    "colab_type": "text",
    "id": "tlNp08Q-5KEQ"
   },
   "source": [
    "**For more details**\n",
    "\n",
    "**https://docs.scipy.org/doc/numpy-1.10.1/user/basics.types.html**"
   ]
  },
  {
   "cell_type": "markdown",
   "id": "df05b9c8",
   "metadata": {
    "colab_type": "text",
    "id": "lxxrSs8A5KER"
   },
   "source": [
    "# 3. Indexing and Slicing"
   ]
  },
  {
   "cell_type": "markdown",
   "id": "4feacf58",
   "metadata": {
    "colab_type": "text",
    "id": "Z_a389VI5KET"
   },
   "source": [
    "**3.1 Indexing**"
   ]
  },
  {
   "cell_type": "markdown",
   "id": "70d2184e",
   "metadata": {
    "colab_type": "text",
    "id": "oA4Iu7nt5KEU"
   },
   "source": [
    "The items of an array can be accessed and assigned to the same way as other **Python sequences (e.g. lists)**:"
   ]
  },
  {
   "cell_type": "code",
   "execution_count": 61,
   "id": "70cc66e5",
   "metadata": {
    "colab": {},
    "colab_type": "code",
    "id": "F4VuVNHU5KEW",
    "outputId": "4b2374d9-d129-40c6-dafb-37eba172b636"
   },
   "outputs": [
    {
     "name": "stdout",
     "output_type": "stream",
     "text": [
      "5\n"
     ]
    }
   ],
   "source": [
    "a = np.arange(10)\n",
    "print(a[5])  #indices begin at 0, like other Python sequences (and C/C++)"
   ]
  },
  {
   "cell_type": "code",
   "execution_count": 63,
   "id": "d89ecfa2",
   "metadata": {
    "colab": {},
    "colab_type": "code",
    "id": "9hwCCtDL5KEb",
    "outputId": "4e43a444-502c-4a2b-df28-a260e26d24ea"
   },
   "outputs": [
    {
     "data": {
      "text/plain": [
       "array([[1, 0, 0],\n",
       "       [0, 2, 0],\n",
       "       [0, 0, 3]])"
      ]
     },
     "execution_count": 63,
     "metadata": {},
     "output_type": "execute_result"
    }
   ],
   "source": [
    "# For multidimensional arrays, indexes are tuples of integers:\n",
    "a = np.diag([1, 2, 3])\n",
    "a"
   ]
  },
  {
   "cell_type": "code",
   "execution_count": 65,
   "id": "35c1bd00",
   "metadata": {
    "colab": {},
    "colab_type": "code",
    "id": "bS9JIqhw5KEf",
    "outputId": "6fe97f2c-8a7c-437c-d962-aa2e43f871d6"
   },
   "outputs": [
    {
     "data": {
      "text/plain": [
       "array([[1, 0, 0],\n",
       "       [0, 2, 0],\n",
       "       [0, 5, 3]])"
      ]
     },
     "execution_count": 65,
     "metadata": {},
     "output_type": "execute_result"
    }
   ],
   "source": [
    "a[2, 1] = 5 #assigning value\n",
    "a"
   ]
  },
  {
   "cell_type": "markdown",
   "id": "e05ce445",
   "metadata": {
    "colab_type": "text",
    "id": "oKY3p8dz5KEi"
   },
   "source": [
    "**3.2 Slicing**"
   ]
  },
  {
   "cell_type": "code",
   "execution_count": 66,
   "id": "5087da53",
   "metadata": {
    "colab": {},
    "colab_type": "code",
    "id": "LJ7vz5uf5KEj",
    "outputId": "355cf61c-d87b-4f6d-cec7-c49771511706"
   },
   "outputs": [
    {
     "data": {
      "text/plain": [
       "array([0, 1, 2, 3, 4, 5, 6, 7, 8, 9])"
      ]
     },
     "execution_count": 66,
     "metadata": {},
     "output_type": "execute_result"
    }
   ],
   "source": [
    "a = np.arange(10)\n",
    "a"
   ]
  },
  {
   "cell_type": "code",
   "execution_count": 67,
   "id": "93238a90",
   "metadata": {
    "colab": {},
    "colab_type": "code",
    "id": "5-XmC2tC5KEr",
    "outputId": "5b09e90a-668e-4844-8f49-8a77361dcbd2"
   },
   "outputs": [
    {
     "data": {
      "text/plain": [
       "array([1, 3, 5, 7])"
      ]
     },
     "execution_count": 67,
     "metadata": {},
     "output_type": "execute_result"
    }
   ],
   "source": [
    "a[1:8:2] # [startindex: endindex(exclusive) : step]"
   ]
  },
  {
   "cell_type": "code",
   "execution_count": 68,
   "id": "da272144",
   "metadata": {
    "colab": {},
    "colab_type": "code",
    "id": "kCvFrEFK5KEv",
    "outputId": "1fe5d775-008c-4af8-e602-fc077e4381f5"
   },
   "outputs": [
    {
     "data": {
      "text/plain": [
       "array([ 0,  1,  2,  3,  4, 10, 10, 10, 10, 10])"
      ]
     },
     "execution_count": 68,
     "metadata": {},
     "output_type": "execute_result"
    }
   ],
   "source": [
    "#we can also combine assignment and slicing:\n",
    "a = np.arange(10)\n",
    "a[5:] = 10\n",
    "a"
   ]
  },
  {
   "cell_type": "code",
   "execution_count": 69,
   "id": "04d8a79b",
   "metadata": {
    "colab": {},
    "colab_type": "code",
    "id": "Mnj-1D8y5KE0",
    "outputId": "c7538e1e-fb75-4b56-dbf5-8c49917e2214"
   },
   "outputs": [
    {
     "data": {
      "text/plain": [
       "array([4, 3, 2, 1, 0])"
      ]
     },
     "execution_count": 69,
     "metadata": {},
     "output_type": "execute_result"
    }
   ],
   "source": [
    "# For reversing the string using this function\n",
    "b = np.arange(5)\n",
    "a = b[::-1] \n",
    "a"
   ]
  },
  {
   "cell_type": "markdown",
   "id": "876c519b",
   "metadata": {
    "colab_type": "text",
    "id": "PFR1291r5KE3"
   },
   "source": [
    "# 4. Copies and Views"
   ]
  },
  {
   "cell_type": "markdown",
   "id": "5d52a22d",
   "metadata": {
    "colab_type": "text",
    "id": "pNCFMofD5KE4"
   },
   "source": [
    "A slicing operation creates a view on the original array, which is just a way of accessing array data. Thus the original array is not copied in memory. You can use **np.may_share_memory()** to check if two arrays share the same memory block. "
   ]
  },
  {
   "cell_type": "markdown",
   "id": "ba96e1c1",
   "metadata": {
    "colab_type": "text",
    "id": "QLK31tTF5KE5"
   },
   "source": [
    "**When modifying the view, the original array is modified as well:**"
   ]
  },
  {
   "cell_type": "code",
   "execution_count": 70,
   "id": "f7227d37",
   "metadata": {
    "colab": {},
    "colab_type": "code",
    "id": "4XKbPBCn5KE6",
    "outputId": "be40607b-1746-4b0e-f5a0-097de70a1b93"
   },
   "outputs": [
    {
     "data": {
      "text/plain": [
       "array([0, 1, 2, 3, 4, 5, 6, 7, 8, 9])"
      ]
     },
     "execution_count": 70,
     "metadata": {},
     "output_type": "execute_result"
    }
   ],
   "source": [
    "a = np.arange(10)\n",
    "a"
   ]
  },
  {
   "cell_type": "code",
   "execution_count": 71,
   "id": "aa17b7d2",
   "metadata": {
    "colab": {},
    "colab_type": "code",
    "id": "HbR8tgg25KE-",
    "outputId": "3c66f1d8-49bf-4fe7-f817-c37cd98444f2"
   },
   "outputs": [
    {
     "data": {
      "text/plain": [
       "array([0, 2, 4, 6, 8])"
      ]
     },
     "execution_count": 71,
     "metadata": {},
     "output_type": "execute_result"
    }
   ],
   "source": [
    "b = a[::2]   #### Creating a sub array with step size 2\n",
    "b"
   ]
  },
  {
   "cell_type": "code",
   "execution_count": 72,
   "id": "486d1772",
   "metadata": {
    "colab": {},
    "colab_type": "code",
    "id": "cjz9r8q25KFC",
    "outputId": "f0798709-172e-4f6b-dc7a-5a0b359eb909"
   },
   "outputs": [
    {
     "data": {
      "text/plain": [
       "True"
      ]
     },
     "execution_count": 72,
     "metadata": {},
     "output_type": "execute_result"
    }
   ],
   "source": [
    "np.shares_memory(a, b)"
   ]
  },
  {
   "cell_type": "code",
   "execution_count": 73,
   "id": "2798e9c8",
   "metadata": {
    "colab": {},
    "colab_type": "code",
    "id": "PGjnKce25KFG",
    "outputId": "ab5e72e7-529c-4555-bc5e-21aa6f397333"
   },
   "outputs": [
    {
     "data": {
      "text/plain": [
       "array([10,  2,  4,  6,  8])"
      ]
     },
     "execution_count": 73,
     "metadata": {},
     "output_type": "execute_result"
    }
   ],
   "source": [
    "b[0] = 10\n",
    "b"
   ]
  },
  {
   "cell_type": "code",
   "execution_count": 74,
   "id": "8b08a0c5",
   "metadata": {
    "colab": {},
    "colab_type": "code",
    "id": "och7ft5c5KFN",
    "outputId": "1279b0a9-2948-4f54-b9fa-534dba6121a3"
   },
   "outputs": [
    {
     "data": {
      "text/plain": [
       "array([10,  1,  2,  3,  4,  5,  6,  7,  8,  9])"
      ]
     },
     "execution_count": 74,
     "metadata": {},
     "output_type": "execute_result"
    }
   ],
   "source": [
    "a  #eventhough we modified b,  it updated 'a' because both shares same memory"
   ]
  },
  {
   "cell_type": "code",
   "execution_count": 75,
   "id": "f41aa3b4",
   "metadata": {
    "colab": {},
    "colab_type": "code",
    "id": "RwH_Zza45KFR",
    "outputId": "e38c2f3a-c481-49cd-a0b9-87f8441c93fd"
   },
   "outputs": [
    {
     "data": {
      "text/plain": [
       "array([0, 2, 4, 6, 8])"
      ]
     },
     "execution_count": 75,
     "metadata": {},
     "output_type": "execute_result"
    }
   ],
   "source": [
    "a = np.arange(10)\n",
    "c = a[::2].copy()     #force a copy\n",
    "c"
   ]
  },
  {
   "cell_type": "code",
   "execution_count": 76,
   "id": "d64bd3da",
   "metadata": {
    "colab": {},
    "colab_type": "code",
    "id": "zhACmhU85KFW",
    "outputId": "deabb60c-1fd4-44e7-dfb3-f2c77c50a1d8"
   },
   "outputs": [
    {
     "data": {
      "text/plain": [
       "False"
      ]
     },
     "execution_count": 76,
     "metadata": {},
     "output_type": "execute_result"
    }
   ],
   "source": [
    "np.shares_memory(a, c)"
   ]
  },
  {
   "cell_type": "code",
   "execution_count": 77,
   "id": "ec77b272",
   "metadata": {
    "colab": {},
    "colab_type": "code",
    "id": "zbhoU-2W5KFZ",
    "outputId": "20ba89b5-c1e2-432f-bd94-d071991750b1"
   },
   "outputs": [
    {
     "data": {
      "text/plain": [
       "array([0, 1, 2, 3, 4, 5, 6, 7, 8, 9])"
      ]
     },
     "execution_count": 77,
     "metadata": {},
     "output_type": "execute_result"
    }
   ],
   "source": [
    "c[0] = 10\n",
    "a"
   ]
  },
  {
   "cell_type": "markdown",
   "id": "936f3e0b",
   "metadata": {
    "colab_type": "text",
    "id": "BzcH6VRZ5KFc"
   },
   "source": [
    "# 5. Fancy Indexing"
   ]
  },
  {
   "cell_type": "markdown",
   "id": "c6da324f",
   "metadata": {
    "colab_type": "text",
    "id": "hpi-JUwC5KFc"
   },
   "source": [
    "NumPy arrays can be indexed with slices, but also with boolean or integer arrays **(masks)**. This method is called **fancy indexing**. It creates copies not views."
   ]
  },
  {
   "cell_type": "markdown",
   "id": "e7c15472",
   "metadata": {
    "colab_type": "text",
    "id": "RJtFgW0o5KFf"
   },
   "source": [
    "**Using Boolean Mask**"
   ]
  },
  {
   "cell_type": "code",
   "execution_count": 78,
   "id": "df524871",
   "metadata": {
    "colab": {},
    "colab_type": "code",
    "id": "Zb5eSA455KFn",
    "outputId": "c47266af-b4ed-4c09-a804-fe417f9685fe"
   },
   "outputs": [
    {
     "data": {
      "text/plain": [
       "array([ 9, 19,  9,  0,  6, 12, 19,  7, 10,  5, 16,  0, 14, 18,  0])"
      ]
     },
     "execution_count": 78,
     "metadata": {},
     "output_type": "execute_result"
    }
   ],
   "source": [
    "a = np.random.randint(0, 20, 15)\n",
    "a"
   ]
  },
  {
   "cell_type": "code",
   "execution_count": 79,
   "id": "78f90f78",
   "metadata": {
    "colab": {},
    "colab_type": "code",
    "id": "EaIy9IdS5KFq"
   },
   "outputs": [],
   "source": [
    "mask = (a % 2 == 0)         ### To writien a only even number we can used this operation "
   ]
  },
  {
   "cell_type": "code",
   "execution_count": 80,
   "id": "77f3c0ae",
   "metadata": {
    "colab": {},
    "colab_type": "code",
    "id": "F7YUrhyv5KFt",
    "outputId": "cfa57397-3273-40bd-e936-1de0bb3d37e2"
   },
   "outputs": [
    {
     "data": {
      "text/plain": [
       "array([ 0,  6, 12, 10, 16,  0, 14, 18,  0])"
      ]
     },
     "execution_count": 80,
     "metadata": {},
     "output_type": "execute_result"
    }
   ],
   "source": [
    "extract_from_a = a[mask]\n",
    "extract_from_a"
   ]
  },
  {
   "cell_type": "markdown",
   "id": "9b0a3f8d",
   "metadata": {
    "colab_type": "text",
    "id": "cgMKaiDh5KFx"
   },
   "source": [
    "**Indexing with a mask can be very useful to assign a new value to a sub-array:**"
   ]
  },
  {
   "cell_type": "code",
   "execution_count": 81,
   "id": "c5134d46",
   "metadata": {
    "colab": {},
    "colab_type": "code",
    "id": "AMnQz8f15KFx",
    "outputId": "1c21d563-a388-4e0a-a5f3-d8ab743d491d"
   },
   "outputs": [
    {
     "data": {
      "text/plain": [
       "array([ 9, 19,  9, -1, -1, -1, 19,  7, -1,  5, -1, -1, -1, -1, -1])"
      ]
     },
     "execution_count": 81,
     "metadata": {},
     "output_type": "execute_result"
    }
   ],
   "source": [
    "a[mask] = -1\n",
    "a"
   ]
  },
  {
   "cell_type": "markdown",
   "id": "4dcc1152",
   "metadata": {
    "colab_type": "text",
    "id": "Z0y-Uzk75KF0"
   },
   "source": [
    "**Indexing with an array of integers**"
   ]
  },
  {
   "cell_type": "code",
   "execution_count": 82,
   "id": "87733471",
   "metadata": {
    "colab": {},
    "colab_type": "code",
    "id": "2cdfdqQn5KF1",
    "outputId": "cb4c6298-1b99-4231-969e-f22b3992541e"
   },
   "outputs": [
    {
     "data": {
      "text/plain": [
       "array([ 0, 10, 20, 30, 40, 50, 60, 70, 80, 90])"
      ]
     },
     "execution_count": 82,
     "metadata": {},
     "output_type": "execute_result"
    }
   ],
   "source": [
    "a = np.arange(0, 100, 10)\n",
    "a"
   ]
  },
  {
   "cell_type": "code",
   "execution_count": 83,
   "id": "6c6d4b22",
   "metadata": {
    "colab": {},
    "colab_type": "code",
    "id": "YlxMqvLm5KF4",
    "outputId": "091ba535-a1e3-405a-f87e-dc84df18081c"
   },
   "outputs": [
    {
     "data": {
      "text/plain": [
       "array([20, 30, 20, 40, 20])"
      ]
     },
     "execution_count": 83,
     "metadata": {},
     "output_type": "execute_result"
    }
   ],
   "source": [
    "#Indexing can be done with an array of integers, where the same index is repeated several time:\n",
    "a[[2, 3, 2, 4, 2]]"
   ]
  },
  {
   "cell_type": "code",
   "execution_count": null,
   "id": "d42356d7",
   "metadata": {
    "colab": {},
    "colab_type": "code",
    "id": "czX77cEZ5KF6",
    "outputId": "b60b4d4f-4b31-4506-a54a-a9898a41e7d5"
   },
   "outputs": [
    {
     "data": {
      "text/plain": [
       "array([   0,   10,   20,   30,   40,   50,   60, -200,   80, -200])"
      ]
     },
     "execution_count": 55,
     "metadata": {
      "tags": []
     },
     "output_type": "execute_result"
    }
   ],
   "source": [
    "# New values can be assigned \n",
    "a[[9, 7]] = -200\n",
    "a"
   ]
  },
  {
   "cell_type": "markdown",
   "id": "1e44077a",
   "metadata": {},
   "source": [
    "# Numerical Operation in Numpy"
   ]
  },
  {
   "cell_type": "markdown",
   "id": "7c818db1",
   "metadata": {},
   "source": [
    "## Elementwise Operations"
   ]
  },
  {
   "cell_type": "markdown",
   "id": "1a8b8d55",
   "metadata": {},
   "source": [
    "### 1. Basic Operations"
   ]
  },
  {
   "cell_type": "markdown",
   "id": "2c94d3b7",
   "metadata": {},
   "source": [
    "#### with scalars"
   ]
  },
  {
   "cell_type": "code",
   "execution_count": 84,
   "id": "6f8c2c9f",
   "metadata": {},
   "outputs": [
    {
     "data": {
      "text/plain": [
       "array([2, 3, 4, 5])"
      ]
     },
     "execution_count": 84,
     "metadata": {},
     "output_type": "execute_result"
    }
   ],
   "source": [
    "a = np.array([1, 2, 3, 4]) #create an array\n",
    "a + 1"
   ]
  },
  {
   "cell_type": "code",
   "execution_count": 85,
   "id": "7636a727",
   "metadata": {},
   "outputs": [
    {
     "data": {
      "text/plain": [
       "array([ 1,  4,  9, 16], dtype=int32)"
      ]
     },
     "execution_count": 85,
     "metadata": {},
     "output_type": "execute_result"
    }
   ],
   "source": [
    "a ** 2"
   ]
  },
  {
   "cell_type": "markdown",
   "id": "99f6b457",
   "metadata": {},
   "source": [
    "#### All arithmetic operates elementwise"
   ]
  },
  {
   "cell_type": "code",
   "execution_count": 87,
   "id": "f0767821",
   "metadata": {},
   "outputs": [
    {
     "data": {
      "text/plain": [
       "array([-1.,  0.,  1.,  2.])"
      ]
     },
     "execution_count": 87,
     "metadata": {},
     "output_type": "execute_result"
    }
   ],
   "source": [
    "b = np.ones(4) + 1\n",
    "a - b"
   ]
  },
  {
   "cell_type": "code",
   "execution_count": 88,
   "id": "78015320",
   "metadata": {},
   "outputs": [
    {
     "data": {
      "text/plain": [
       "array([2., 4., 6., 8.])"
      ]
     },
     "execution_count": 88,
     "metadata": {},
     "output_type": "execute_result"
    }
   ],
   "source": [
    "a * b"
   ]
  },
  {
   "cell_type": "code",
   "execution_count": 9,
   "id": "39d8d184",
   "metadata": {},
   "outputs": [
    {
     "name": "stdout",
     "output_type": "stream",
     "text": [
      "[[ 1  0  0  0]\n",
      " [ 0  4  0  0]\n",
      " [ 0  0  9  0]\n",
      " [ 0  0  0 16]]\n",
      "*****************\n",
      "[[ 1  0  0  0]\n",
      " [ 0  4  0  0]\n",
      " [ 0  0  9  0]\n",
      " [ 0  0  0 16]]\n"
     ]
    }
   ],
   "source": [
    "# Matrix multiplication\n",
    "\n",
    "c = np.diag([1, 2, 3, 4])\n",
    "print(c * c)\n",
    "print(\"*****************\")\n",
    "print(c.dot(c))"
   ]
  },
  {
   "cell_type": "markdown",
   "id": "4d2f2512",
   "metadata": {},
   "source": [
    "#### comparisions operation"
   ]
  },
  {
   "cell_type": "code",
   "execution_count": 89,
   "id": "2fbdfdcd",
   "metadata": {},
   "outputs": [
    {
     "data": {
      "text/plain": [
       "array([False,  True, False,  True])"
      ]
     },
     "execution_count": 89,
     "metadata": {},
     "output_type": "execute_result"
    }
   ],
   "source": [
    "a = np.array([1, 2, 3, 4])\n",
    "b = np.array([5, 2, 2, 4])\n",
    "a == b"
   ]
  },
  {
   "cell_type": "code",
   "execution_count": 90,
   "id": "783e784a",
   "metadata": {},
   "outputs": [
    {
     "data": {
      "text/plain": [
       "array([False, False,  True, False])"
      ]
     },
     "execution_count": 90,
     "metadata": {},
     "output_type": "execute_result"
    }
   ],
   "source": [
    "a > b"
   ]
  },
  {
   "cell_type": "code",
   "execution_count": 91,
   "id": "3ed42950",
   "metadata": {},
   "outputs": [
    {
     "data": {
      "text/plain": [
       "False"
      ]
     },
     "execution_count": 91,
     "metadata": {},
     "output_type": "execute_result"
    }
   ],
   "source": [
    "#array-wise comparisions\n",
    "a = np.array([1, 2, 3, 4])\n",
    "b = np.array([5, 2, 2, 4])\n",
    "c = np.array([1, 2, 3, 4])\n",
    "\n",
    "np.array_equal(a, b)"
   ]
  },
  {
   "cell_type": "code",
   "execution_count": 92,
   "id": "a19bc5c1",
   "metadata": {},
   "outputs": [
    {
     "data": {
      "text/plain": [
       "True"
      ]
     },
     "execution_count": 92,
     "metadata": {},
     "output_type": "execute_result"
    }
   ],
   "source": [
    "np.array_equal(a, c)"
   ]
  },
  {
   "cell_type": "markdown",
   "id": "cc8b8ecf",
   "metadata": {},
   "source": [
    "#### Logical Operations"
   ]
  },
  {
   "cell_type": "code",
   "execution_count": 93,
   "id": "71f18588",
   "metadata": {},
   "outputs": [
    {
     "data": {
      "text/plain": [
       "array([ True,  True,  True, False])"
      ]
     },
     "execution_count": 93,
     "metadata": {},
     "output_type": "execute_result"
    }
   ],
   "source": [
    "a = np.array([1, 1, 0, 0], dtype=bool)\n",
    "b = np.array([1, 0, 1, 0], dtype=bool)\n",
    "\n",
    "np.logical_or(a, b)"
   ]
  },
  {
   "cell_type": "code",
   "execution_count": 94,
   "id": "c9e17048",
   "metadata": {},
   "outputs": [
    {
     "data": {
      "text/plain": [
       "array([ True, False, False, False])"
      ]
     },
     "execution_count": 94,
     "metadata": {},
     "output_type": "execute_result"
    }
   ],
   "source": [
    "np.logical_and(a, b)"
   ]
  },
  {
   "cell_type": "code",
   "execution_count": 96,
   "id": "1fab16eb",
   "metadata": {},
   "outputs": [
    {
     "data": {
      "text/plain": [
       "array([ 0.        ,  0.84147098,  0.90929743,  0.14112001, -0.7568025 ,\n",
       "       -0.95892427, -0.2794155 ,  0.6569866 ,  0.98935825,  0.41211849,\n",
       "       -0.54402111, -0.99999021, -0.53657292,  0.42016704,  0.99060736,\n",
       "        0.65028784, -0.28790332, -0.96139749, -0.75098725,  0.14987721,\n",
       "        0.91294525,  0.83665564, -0.00885131, -0.8462204 , -0.90557836,\n",
       "       -0.13235175,  0.76255845,  0.95637593,  0.27090579, -0.66363388,\n",
       "       -0.98803162, -0.40403765,  0.55142668,  0.99991186,  0.52908269,\n",
       "       -0.42818267, -0.99177885, -0.64353813,  0.29636858,  0.96379539])"
      ]
     },
     "execution_count": 96,
     "metadata": {},
     "output_type": "execute_result"
    }
   ],
   "source": [
    "a = np.arange(40)\n",
    "\n",
    "np.sin(a)  "
   ]
  },
  {
   "cell_type": "code",
   "execution_count": 97,
   "id": "59a5abc5",
   "metadata": {},
   "outputs": [
    {
     "name": "stderr",
     "output_type": "stream",
     "text": [
      "C:\\Users\\khana\\AppData\\Local\\Continuum\\anaconda3\\lib\\site-packages\\ipykernel_launcher.py:1: RuntimeWarning: divide by zero encountered in log\n",
      "  \"\"\"Entry point for launching an IPython kernel.\n"
     ]
    },
    {
     "data": {
      "text/plain": [
       "array([      -inf, 0.        , 0.69314718, 1.09861229, 1.38629436,\n",
       "       1.60943791, 1.79175947, 1.94591015, 2.07944154, 2.19722458,\n",
       "       2.30258509, 2.39789527, 2.48490665, 2.56494936, 2.63905733,\n",
       "       2.7080502 , 2.77258872, 2.83321334, 2.89037176, 2.94443898,\n",
       "       2.99573227, 3.04452244, 3.09104245, 3.13549422, 3.17805383,\n",
       "       3.21887582, 3.25809654, 3.29583687, 3.33220451, 3.36729583,\n",
       "       3.40119738, 3.4339872 , 3.4657359 , 3.49650756, 3.52636052,\n",
       "       3.55534806, 3.58351894, 3.61091791, 3.63758616, 3.66356165])"
      ]
     },
     "execution_count": 97,
     "metadata": {},
     "output_type": "execute_result"
    }
   ],
   "source": [
    "np.log(a)"
   ]
  },
  {
   "cell_type": "code",
   "execution_count": 98,
   "id": "6360f374",
   "metadata": {},
   "outputs": [
    {
     "data": {
      "text/plain": [
       "array([1.00000000e+00, 2.71828183e+00, 7.38905610e+00, 2.00855369e+01,\n",
       "       5.45981500e+01, 1.48413159e+02, 4.03428793e+02, 1.09663316e+03,\n",
       "       2.98095799e+03, 8.10308393e+03, 2.20264658e+04, 5.98741417e+04,\n",
       "       1.62754791e+05, 4.42413392e+05, 1.20260428e+06, 3.26901737e+06,\n",
       "       8.88611052e+06, 2.41549528e+07, 6.56599691e+07, 1.78482301e+08,\n",
       "       4.85165195e+08, 1.31881573e+09, 3.58491285e+09, 9.74480345e+09,\n",
       "       2.64891221e+10, 7.20048993e+10, 1.95729609e+11, 5.32048241e+11,\n",
       "       1.44625706e+12, 3.93133430e+12, 1.06864746e+13, 2.90488497e+13,\n",
       "       7.89629602e+13, 2.14643580e+14, 5.83461743e+14, 1.58601345e+15,\n",
       "       4.31123155e+15, 1.17191424e+16, 3.18559318e+16, 8.65934004e+16])"
      ]
     },
     "execution_count": 98,
     "metadata": {},
     "output_type": "execute_result"
    }
   ],
   "source": [
    "np.exp(a)   #evaluates e^x for each element in a given input"
   ]
  },
  {
   "cell_type": "markdown",
   "id": "8c645417",
   "metadata": {},
   "source": [
    "## Basic Reductions\n",
    "###computing sums"
   ]
  },
  {
   "cell_type": "code",
   "execution_count": 101,
   "id": "72cbb022",
   "metadata": {},
   "outputs": [
    {
     "data": {
      "text/plain": [
       "10"
      ]
     },
     "execution_count": 101,
     "metadata": {},
     "output_type": "execute_result"
    }
   ],
   "source": [
    "x = np.array([1, 2, 3, 4])\n",
    "np.sum(x)"
   ]
  },
  {
   "cell_type": "code",
   "execution_count": 102,
   "id": "b0d8ea2a",
   "metadata": {},
   "outputs": [
    {
     "data": {
      "text/plain": [
       "array([[1, 1],\n",
       "       [2, 2]])"
      ]
     },
     "execution_count": 102,
     "metadata": {},
     "output_type": "execute_result"
    }
   ],
   "source": [
    "#sum by rows and by columns\n",
    "x = np.array([[1, 1], [2, 2]])\n",
    "x"
   ]
  },
  {
   "cell_type": "code",
   "execution_count": 103,
   "id": "0afd4948",
   "metadata": {},
   "outputs": [
    {
     "data": {
      "text/plain": [
       "array([3, 3])"
      ]
     },
     "execution_count": 103,
     "metadata": {},
     "output_type": "execute_result"
    }
   ],
   "source": [
    "x.sum(axis=0)   #columns first dimension Axis  = 0 perform column vise operation"
   ]
  },
  {
   "cell_type": "code",
   "execution_count": 104,
   "id": "127560e8",
   "metadata": {},
   "outputs": [
    {
     "data": {
      "text/plain": [
       "array([2, 4])"
      ]
     },
     "execution_count": 104,
     "metadata": {},
     "output_type": "execute_result"
    }
   ],
   "source": [
    "x.sum(axis=1)  #rows (second dimension)     Axis  = 1 perform column row  operation "
   ]
  },
  {
   "cell_type": "markdown",
   "id": "a6853168",
   "metadata": {},
   "source": [
    "# Other reductions"
   ]
  },
  {
   "cell_type": "code",
   "execution_count": 105,
   "id": "9bdf7a86",
   "metadata": {},
   "outputs": [
    {
     "data": {
      "text/plain": [
       "1"
      ]
     },
     "execution_count": 105,
     "metadata": {},
     "output_type": "execute_result"
    }
   ],
   "source": [
    "x = np.array([1, 3, 2])\n",
    "x.min()"
   ]
  },
  {
   "cell_type": "code",
   "execution_count": 106,
   "id": "fdc45288",
   "metadata": {},
   "outputs": [
    {
     "data": {
      "text/plain": [
       "3"
      ]
     },
     "execution_count": 106,
     "metadata": {},
     "output_type": "execute_result"
    }
   ],
   "source": [
    "x.max()"
   ]
  },
  {
   "cell_type": "code",
   "execution_count": 107,
   "id": "13e6263a",
   "metadata": {},
   "outputs": [
    {
     "data": {
      "text/plain": [
       "0"
      ]
     },
     "execution_count": 107,
     "metadata": {},
     "output_type": "execute_result"
    }
   ],
   "source": [
    "x.argmin()# index of minimum element"
   ]
  },
  {
   "cell_type": "code",
   "execution_count": 108,
   "id": "51827aec",
   "metadata": {},
   "outputs": [
    {
     "data": {
      "text/plain": [
       "1"
      ]
     },
     "execution_count": 108,
     "metadata": {},
     "output_type": "execute_result"
    }
   ],
   "source": [
    "x.argmax()# index of maximum element"
   ]
  },
  {
   "cell_type": "markdown",
   "id": "8a32f049",
   "metadata": {},
   "source": [
    "## Logical Operations"
   ]
  },
  {
   "cell_type": "code",
   "execution_count": 109,
   "id": "34e9c90f",
   "metadata": {},
   "outputs": [
    {
     "data": {
      "text/plain": [
       "False"
      ]
     },
     "execution_count": 109,
     "metadata": {},
     "output_type": "execute_result"
    }
   ],
   "source": [
    "np.all([True, True, False])    ## If any one is False then is writen as false"
   ]
  },
  {
   "cell_type": "code",
   "execution_count": 110,
   "id": "e2feb049",
   "metadata": {},
   "outputs": [
    {
     "data": {
      "text/plain": [
       "True"
      ]
     },
     "execution_count": 110,
     "metadata": {},
     "output_type": "execute_result"
    }
   ],
   "source": [
    "np.any([True, False, False])         ##   If any one is true is writen as True"
   ]
  },
  {
   "cell_type": "code",
   "execution_count": 111,
   "id": "8f92c3b0",
   "metadata": {},
   "outputs": [
    {
     "data": {
      "text/plain": [
       "False"
      ]
     },
     "execution_count": 111,
     "metadata": {},
     "output_type": "execute_result"
    }
   ],
   "source": [
    "#Note: can be used for array comparisions\n",
    "a = np.zeros((50, 50))\n",
    "np.any(a != 0)"
   ]
  },
  {
   "cell_type": "code",
   "execution_count": 33,
   "id": "852d6863",
   "metadata": {},
   "outputs": [
    {
     "data": {
      "text/plain": [
       "True"
      ]
     },
     "execution_count": 33,
     "metadata": {},
     "output_type": "execute_result"
    }
   ],
   "source": [
    "np.all(a == a)"
   ]
  },
  {
   "cell_type": "code",
   "execution_count": 113,
   "id": "c83a893b",
   "metadata": {},
   "outputs": [
    {
     "data": {
      "text/plain": [
       "True"
      ]
     },
     "execution_count": 113,
     "metadata": {},
     "output_type": "execute_result"
    }
   ],
   "source": [
    "a = np.array([1, 2, 3, 2])\n",
    "b = np.array([2, 2, 3, 2])\n",
    "c = np.array([6, 4, 4, 5])\n",
    "((a <= b) & (b <= c)).all()"
   ]
  },
  {
   "cell_type": "markdown",
   "id": "2465b5db",
   "metadata": {},
   "source": [
    "### Statistics"
   ]
  },
  {
   "cell_type": "code",
   "execution_count": 114,
   "id": "5e062065",
   "metadata": {},
   "outputs": [
    {
     "data": {
      "text/plain": [
       "1.75"
      ]
     },
     "execution_count": 114,
     "metadata": {},
     "output_type": "execute_result"
    }
   ],
   "source": [
    "x = np.array([1, 2, 3, 1])\n",
    "y = np.array([[1, 2, 3], [5, 6, 1]])\n",
    "x.mean()"
   ]
  },
  {
   "cell_type": "code",
   "execution_count": 115,
   "id": "0adc811b",
   "metadata": {},
   "outputs": [
    {
     "data": {
      "text/plain": [
       "3.0"
      ]
     },
     "execution_count": 115,
     "metadata": {},
     "output_type": "execute_result"
    }
   ],
   "source": [
    "y.mean()"
   ]
  },
  {
   "cell_type": "code",
   "execution_count": 116,
   "id": "128261da",
   "metadata": {},
   "outputs": [
    {
     "data": {
      "text/plain": [
       "1.5"
      ]
     },
     "execution_count": 116,
     "metadata": {},
     "output_type": "execute_result"
    }
   ],
   "source": [
    "np.median(x)"
   ]
  },
  {
   "cell_type": "code",
   "execution_count": 117,
   "id": "521333a5",
   "metadata": {},
   "outputs": [
    {
     "data": {
      "text/plain": [
       "array([2., 5.])"
      ]
     },
     "execution_count": 117,
     "metadata": {},
     "output_type": "execute_result"
    }
   ],
   "source": [
    "np.median(y, axis=-1) # last axis"
   ]
  },
  {
   "cell_type": "code",
   "execution_count": 118,
   "id": "a9c1093d",
   "metadata": {},
   "outputs": [
    {
     "data": {
      "text/plain": [
       "0.82915619758885"
      ]
     },
     "execution_count": 118,
     "metadata": {},
     "output_type": "execute_result"
    }
   ],
   "source": [
    "x.std()          # full population standard dev."
   ]
  },
  {
   "cell_type": "code",
   "execution_count": 119,
   "id": "fe890a24",
   "metadata": {},
   "outputs": [
    {
     "data": {
      "text/plain": [
       "1.9148542155126762"
      ]
     },
     "execution_count": 119,
     "metadata": {},
     "output_type": "execute_result"
    }
   ],
   "source": [
    "y.std()"
   ]
  },
  {
   "cell_type": "markdown",
   "id": "22c309cd",
   "metadata": {},
   "source": [
    "## Funciones Universales Binarias\n",
    "\n",
    "### Son funciones que realizan operaciones elemento-a-elemento sobre datos en una   `ndarray`.  Las funciones _binarias_ toman dos arrays y devuelven uno o más arrays.\n",
    "\n",
    "|Función|Descripción|\n",
    "|-------|-----------|\n",
    "|`add`|Suma entre elementos correspondientes entre arrays|\n",
    "|`subtract`|Resta entre elementos de arrays|\n",
    "|`multiply`|Multiplica arrays|\n",
    "|`divide`, `floor_divide`|Divide o división truncada|\n",
    "|`array_equal`|Devuelve `True` si los elementos del array son iguales entre sí|\n",
    "|`power`|Eleva cada elemento del primer array a la potencia indicada en el segundo array|\n",
    "|`fmin`|Devuelve el mínimo entre cada elemento. `fmin` ignora los `NaN`|\n",
    "|`fmax`|Devuelve el máximo entre cada elemento. `fmax` ignora los `NaN`|\n"
   ]
  },
  {
   "cell_type": "code",
   "execution_count": 1,
   "id": "f8717c93",
   "metadata": {},
   "outputs": [],
   "source": [
    "import numpy as np\n",
    "\n",
    "arr = np.array([5,36,17,18,9])\n",
    "\n",
    "arr_2 = np.array([8,24,17,19,9])"
   ]
  },
  {
   "cell_type": "code",
   "execution_count": null,
   "id": "ee85080e",
   "metadata": {},
   "outputs": [],
   "source": [
    "np.add(arr,arr_2)\n",
    "np.subtract(arr,arr_2)\n",
    "np.multiply(arr,arr_2)\n",
    "np.divide(arr,arr_2)\n",
    "np.array_equal(arr,arr_2)\n",
    "np.fmin(arr,arr_2)\n",
    "np.fmax(arr,arr_2)"
   ]
  },
  {
   "cell_type": "code",
   "execution_count": 2,
   "id": "9c7325fe",
   "metadata": {},
   "outputs": [
    {
     "data": {
      "text/plain": [
       "array([ 0,  2,  4,  6,  8, 10, 12, 14, 16, 18])"
      ]
     },
     "execution_count": 2,
     "metadata": {},
     "output_type": "execute_result"
    }
   ],
   "source": [
    "import numpy as np\n",
    "\n",
    "arr = np.arange(0,20,2)\n",
    "arr"
   ]
  },
  {
   "cell_type": "code",
   "execution_count": 3,
   "id": "65d8a7ea",
   "metadata": {},
   "outputs": [
    {
     "data": {
      "text/plain": [
       "array([[0.73101518, 0.91337663, 0.76844006],\n",
       "       [0.8147712 , 0.18125237, 0.94750742],\n",
       "       [0.66103443, 0.39113554, 0.91440374],\n",
       "       [0.94634361, 0.30396435, 0.64538481]])"
      ]
     },
     "execution_count": 3,
     "metadata": {},
     "output_type": "execute_result"
    }
   ],
   "source": [
    "arr_flot = np.random.rand(4,3)\n",
    "arr_flot"
   ]
  },
  {
   "cell_type": "code",
   "execution_count": 4,
   "id": "c5e070a4",
   "metadata": {},
   "outputs": [
    {
     "data": {
      "text/plain": [
       "array([[89, 85, 23],\n",
       "       [21, 41, 93]])"
      ]
     },
     "execution_count": 4,
     "metadata": {},
     "output_type": "execute_result"
    }
   ],
   "source": [
    "arr_ent = np.random.randint(100, size=(2,3))\n",
    "arr_ent"
   ]
  },
  {
   "cell_type": "code",
   "execution_count": 5,
   "id": "13236db5",
   "metadata": {},
   "outputs": [
    {
     "data": {
      "text/plain": [
       "array([[6, 6, 6],\n",
       "       [6, 6, 6],\n",
       "       [6, 6, 6]])"
      ]
     },
     "execution_count": 5,
     "metadata": {},
     "output_type": "execute_result"
    }
   ],
   "source": [
    "arr_6 = np.full((3,3),6)\n",
    "arr_6"
   ]
  },
  {
   "cell_type": "code",
   "execution_count": 6,
   "id": "58cd0418",
   "metadata": {},
   "outputs": [
    {
     "data": {
      "text/plain": [
       "array([ 0,  2,  4,  6,  8, 10, 12, 14, 16, 18, 12, 13, 14, 51])"
      ]
     },
     "execution_count": 6,
     "metadata": {},
     "output_type": "execute_result"
    }
   ],
   "source": [
    "np.append(arr, [12,13,14,51])"
   ]
  },
  {
   "cell_type": "code",
   "execution_count": 7,
   "id": "127c4159",
   "metadata": {},
   "outputs": [
    {
     "data": {
      "text/plain": [
       "array([ 0,  2, 42, 34,  4,  6,  8, 10, 12, 14, 16, 18])"
      ]
     },
     "execution_count": 7,
     "metadata": {},
     "output_type": "execute_result"
    }
   ],
   "source": [
    "np.insert(arr,2, [42,34])"
   ]
  },
  {
   "cell_type": "code",
   "execution_count": 8,
   "id": "6ecbd23f",
   "metadata": {},
   "outputs": [
    {
     "data": {
      "text/plain": [
       "array([[85, 23],\n",
       "       [41, 93]])"
      ]
     },
     "execution_count": 8,
     "metadata": {},
     "output_type": "execute_result"
    }
   ],
   "source": [
    "np.delete(arr_ent,0,axis=1)"
   ]
  },
  {
   "cell_type": "markdown",
   "id": "deb379aa",
   "metadata": {},
   "source": [
    "## # Mathematical and Statistical Methods"
   ]
  },
  {
   "cell_type": "code",
   "execution_count": 1,
   "id": "4b12c14a",
   "metadata": {},
   "outputs": [
    {
     "data": {
      "text/plain": [
       "array([[ 1.1524977 ,  0.00419764,  1.78043853],\n",
       "       [-2.07329943, -0.97366463,  0.11166521],\n",
       "       [ 0.22991364, -0.86281024, -0.18513811],\n",
       "       [ 1.706981  , -1.33787614, -1.00465309],\n",
       "       [-1.41067229,  0.01500831, -2.16470453],\n",
       "       [ 1.59715899, -0.37794744,  0.55625349]])"
      ]
     },
     "execution_count": 1,
     "metadata": {},
     "output_type": "execute_result"
    }
   ],
   "source": [
    "import numpy as np\n",
    "data = np.random.randn(6, 3)\n",
    "data"
   ]
  },
  {
   "cell_type": "code",
   "execution_count": 2,
   "id": "bda0e37e",
   "metadata": {},
   "outputs": [
    {
     "data": {
      "text/plain": [
       "-0.17981396602535935"
      ]
     },
     "execution_count": 2,
     "metadata": {},
     "output_type": "execute_result"
    }
   ],
   "source": [
    "data.mean()"
   ]
  },
  {
   "cell_type": "code",
   "execution_count": 3,
   "id": "2c48a423",
   "metadata": {},
   "outputs": [
    {
     "data": {
      "text/plain": [
       "-2.164704526378289"
      ]
     },
     "execution_count": 3,
     "metadata": {},
     "output_type": "execute_result"
    }
   ],
   "source": [
    "data.min()"
   ]
  },
  {
   "cell_type": "code",
   "execution_count": 4,
   "id": "02bdfc7a",
   "metadata": {},
   "outputs": [
    {
     "data": {
      "text/plain": [
       "1.780438530046246"
      ]
     },
     "execution_count": 4,
     "metadata": {},
     "output_type": "execute_result"
    }
   ],
   "source": [
    "data.max()"
   ]
  },
  {
   "cell_type": "code",
   "execution_count": 5,
   "id": "0d41cab4",
   "metadata": {},
   "outputs": [
    {
     "data": {
      "text/plain": [
       "-3.236651388456468"
      ]
     },
     "execution_count": 5,
     "metadata": {},
     "output_type": "execute_result"
    }
   ],
   "source": [
    "data.sum()"
   ]
  },
  {
   "cell_type": "code",
   "execution_count": 6,
   "id": "2cd6f223",
   "metadata": {},
   "outputs": [
    {
     "data": {
      "text/plain": [
       "array([ 1.2025796, -3.5330925, -0.9061385])"
      ]
     },
     "execution_count": 6,
     "metadata": {},
     "output_type": "execute_result"
    }
   ],
   "source": [
    "data.sum(axis = 0)"
   ]
  },
  {
   "cell_type": "markdown",
   "id": "1d2c82bf",
   "metadata": {},
   "source": [
    "## Values"
   ]
  },
  {
   "cell_type": "code",
   "execution_count": 8,
   "id": "ca6272c8",
   "metadata": {},
   "outputs": [
    {
     "data": {
      "text/plain": [
       "array([0, 1, 2, 3, 4])"
      ]
     },
     "execution_count": 8,
     "metadata": {},
     "output_type": "execute_result"
    }
   ],
   "source": [
    "values = np.arange(5)\n",
    "values"
   ]
  },
  {
   "cell_type": "code",
   "execution_count": 9,
   "id": "120b1d3e",
   "metadata": {},
   "outputs": [
    {
     "data": {
      "text/plain": [
       "array([ 0,  1,  3,  6, 10])"
      ]
     },
     "execution_count": 9,
     "metadata": {},
     "output_type": "execute_result"
    }
   ],
   "source": [
    "values.cumsum()"
   ]
  },
  {
   "cell_type": "code",
   "execution_count": 10,
   "id": "45e136fd",
   "metadata": {},
   "outputs": [
    {
     "data": {
      "text/plain": [
       "1.4142135623730951"
      ]
     },
     "execution_count": 10,
     "metadata": {},
     "output_type": "execute_result"
    }
   ],
   "source": [
    "values.std()"
   ]
  },
  {
   "cell_type": "code",
   "execution_count": 11,
   "id": "4ff81422",
   "metadata": {},
   "outputs": [
    {
     "data": {
      "text/plain": [
       "array([[ 1,  2,  3,  4],\n",
       "       [ 6,  7,  8,  9],\n",
       "       [11, 12, 13, 14]])"
      ]
     },
     "execution_count": 11,
     "metadata": {},
     "output_type": "execute_result"
    }
   ],
   "source": [
    "matrix_array= np.array([np.arange(1, 5), np.arange(6, 10 ), np.arange(11, 15)])\n",
    "matrix_array"
   ]
  },
  {
   "cell_type": "code",
   "execution_count": 12,
   "id": "dc3f932f",
   "metadata": {},
   "outputs": [
    {
     "data": {
      "text/plain": [
       "array([[ 1,  2,  3,  4],\n",
       "       [ 7,  9, 11, 13],\n",
       "       [18, 21, 24, 27]])"
      ]
     },
     "execution_count": 12,
     "metadata": {},
     "output_type": "execute_result"
    }
   ],
   "source": [
    "matrix_array.cumsum(axis=0)"
   ]
  },
  {
   "cell_type": "code",
   "execution_count": 13,
   "id": "dd3d7a0e",
   "metadata": {},
   "outputs": [
    {
     "data": {
      "text/plain": [
       "array([[ 1,  3,  6, 10],\n",
       "       [ 6, 13, 21, 30],\n",
       "       [11, 23, 36, 50]])"
      ]
     },
     "execution_count": 13,
     "metadata": {},
     "output_type": "execute_result"
    }
   ],
   "source": [
    "matrix_array.cumsum(axis=1)"
   ]
  },
  {
   "cell_type": "code",
   "execution_count": 14,
   "id": "5b8c6a12",
   "metadata": {},
   "outputs": [
    {
     "data": {
      "text/plain": [
       "array([[    1,     2,     6,    24],\n",
       "       [    6,    42,   336,  3024],\n",
       "       [   11,   132,  1716, 24024]])"
      ]
     },
     "execution_count": 14,
     "metadata": {},
     "output_type": "execute_result"
    }
   ],
   "source": [
    "matrix_array.cumprod(axis=1)"
   ]
  },
  {
   "cell_type": "code",
   "execution_count": null,
   "id": "93128f99",
   "metadata": {},
   "outputs": [],
   "source": []
  }
 ],
 "metadata": {
  "kernelspec": {
   "display_name": "Python 3 (ipykernel)",
   "language": "python",
   "name": "python3"
  },
  "language_info": {
   "codemirror_mode": {
    "name": "ipython",
    "version": 3
   },
   "file_extension": ".py",
   "mimetype": "text/x-python",
   "name": "python",
   "nbconvert_exporter": "python",
   "pygments_lexer": "ipython3",
   "version": "3.9.7"
  }
 },
 "nbformat": 4,
 "nbformat_minor": 5
}
