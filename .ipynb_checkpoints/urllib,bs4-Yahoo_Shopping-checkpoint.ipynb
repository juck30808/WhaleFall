{
 "cells": [
  {
   "cell_type": "markdown",
   "metadata": {},
   "source": [
    "# WebCrawler_Yahoo_Shopping\n",
    "##  Yahoo購物\n",
    "https://tw.buy.yahoo.com/search/product?p=Apple"
   ]
  },
  {
   "cell_type": "code",
   "execution_count": 1,
   "metadata": {},
   "outputs": [
    {
     "name": "stdout",
     "output_type": "stream",
     "text": [
      "https://tw.buy.yahoo.com/gdsale/Apple-iPhone-12-6-1吋-128G-5G手機-9216751.html\n",
      "$22,880\n",
      "--------------------\n",
      "https://tw.buy.yahoo.com/gdsale/Apple-iPhone-13-128G-6-1吋智慧型手機-9685176.html\n",
      "$25,900\n",
      "--------------------\n",
      "https://tw.buy.yahoo.com/gdsale/Apple-iPhone-13-Pro-Max-128G-6-7吋智慧型手機-石墨色-9758309.html\n",
      "$36,900\n",
      "--------------------\n",
      "https://tw.buy.yahoo.com/gdsale/Apple-iPhone-12-6-1吋-256G-5G手機-9223137.html\n",
      "$26,881\n",
      "--------------------\n",
      "https://tw.buy.yahoo.com/gdsale/Apple-iPhone-13-256G-9713942.html\n",
      "$28,290\n",
      "--------------------\n",
      "https://tw.buy.yahoo.com/gdsale/Apple-iPhone-13-pro-max-256GB-9687916.html\n",
      "$39,400\n",
      "--------------------\n",
      "https://tw.buy.yahoo.com/gdsale/Apple-iPhone-13-512G-6-1吋智慧型手機-9687217.html\n",
      "$35,299\n",
      "--------------------\n",
      "https://tw.buy.yahoo.com/gdsale/APPLE-iPhone-13-6-1吋智慧型手機-256G-9722004.html\n",
      "$27,444\n",
      "--------------------\n",
      "https://tw.buy.yahoo.com/gdsale/Apple-iPhone-13-256G-MINI-5-4吋智慧型手機-9687209.html\n",
      "$24,950\n",
      "--------------------\n",
      "https://tw.buy.yahoo.com/gdsale/Apple-iPhone-XR-128G-6-1吋-8002717.html\n",
      "$15,191\n",
      "--------------------\n",
      "https://tw.buy.yahoo.com/gdsale/Apple-iPhone-13-128G-9754221.html\n",
      "$25,380\n",
      "--------------------\n",
      "https://tw.buy.yahoo.com/gdsale/Apple-iPhone-12-128G-6-1吋智慧型手機-9330891.html\n",
      "$22,219\n",
      "--------------------\n",
      "https://tw.buy.yahoo.com/gdsale/Apple-iPhone-13-Pro-128G-9754220.html\n",
      "$32,490\n",
      "--------------------\n",
      "https://tw.buy.yahoo.com/gdsale/Apple-iPhone-13-Pro-Max-256G-5G手機-9720961.html\n",
      "$39,400\n",
      "--------------------\n",
      "https://tw.buy.yahoo.com/gdsale/APPLE-iPhone-13-6-1吋智慧型手機-128G-9726711.html\n",
      "$25,555\n",
      "--------------------\n"
     ]
    }
   ],
   "source": [
    "from bs4 import BeautifulSoup\n",
    "from urllib.parse import unquote\n",
    "import urllib\n",
    "import urllib.request\n",
    "import os\n",
    "import string\n",
    "\n",
    "url = 'https://tw.buy.yahoo.com/search/product?p=Apple'\n",
    "headers = {'User-Agent':'Mozilla/5.0 (Windows NT 6.1; WOW64; rv:23.0) Gecko/20100101 Firefox/23.0'}\n",
    "req = urllib.request.Request(url= urllib.parse.quote(url, safe=string.printable), headers=headers)\n",
    "html_doc = urllib.request.urlopen(req).read()\n",
    "soup = BeautifulSoup(html_doc, 'html.parser')\n",
    "\n",
    "main_tag = soup.find('div',class_='main')\n",
    "product_tags = main_tag.find_all('li', class_='BaseGridItem__grid___2wuJ7 BaseGridItem__multipleImage___37M7b')\n",
    "product_tag = product_tags[0]\n",
    "product_tag.find('a')['href']\n",
    "\n",
    "product_tag.find_all('span')[2].get_text()\n",
    "product_tag.find('em').get_text()\n",
    "\n",
    "for product_tag in product_tags:\n",
    "    print(product_tag.find('a')['href'])\n",
    "    print(product_tag.find('em').get_text())\n",
    "    print('--------------------')"
   ]
  },
  {
   "cell_type": "markdown",
   "metadata": {},
   "source": [
    "# 執行流程 Process"
   ]
  },
  {
   "cell_type": "code",
   "execution_count": 2,
   "metadata": {},
   "outputs": [],
   "source": [
    "from bs4 import BeautifulSoup\n",
    "from urllib.parse import unquote\n",
    "import urllib\n",
    "import urllib.request\n",
    "import os\n",
    "import string\n",
    "\n",
    "url = 'https://tw.buy.yahoo.com/search/product?p=Apple'\n",
    "headers = {'User-Agent':'Mozilla/5.0 (Windows NT 6.1; WOW64; rv:23.0) Gecko/20100101 Firefox/23.0'}\n",
    "req = urllib.request.Request(url= urllib.parse.quote(url, safe=string.printable), headers=headers)\n",
    "html_doc = urllib.request.urlopen(req).read()\n",
    "soup = BeautifulSoup(html_doc, 'html.parser')"
   ]
  },
  {
   "cell_type": "code",
   "execution_count": 3,
   "metadata": {},
   "outputs": [
    {
     "data": {
      "text/plain": [
       "'https://tw.buy.yahoo.com/gdsale/Apple-iPhone-12-6-1吋-128G-5G手機-9216751.html'"
      ]
     },
     "execution_count": 3,
     "metadata": {},
     "output_type": "execute_result"
    }
   ],
   "source": [
    "main_tag = soup.find('div',class_='main')\n",
    "product_tags = main_tag.find_all('li', class_='BaseGridItem__grid___2wuJ7 BaseGridItem__multipleImage___37M7b')\n",
    "product_tag = product_tags[0]\n",
    "product_tag.find('a')['href']"
   ]
  },
  {
   "cell_type": "code",
   "execution_count": 4,
   "metadata": {},
   "outputs": [
    {
     "data": {
      "text/plain": [
       "'$22,880'"
      ]
     },
     "execution_count": 4,
     "metadata": {},
     "output_type": "execute_result"
    }
   ],
   "source": [
    "product_tag.find_all('span')[2].get_text()\n",
    "product_tag.find('em').get_text()"
   ]
  },
  {
   "cell_type": "code",
   "execution_count": 5,
   "metadata": {
    "scrolled": true
   },
   "outputs": [
    {
     "name": "stdout",
     "output_type": "stream",
     "text": [
      "https://tw.buy.yahoo.com/gdsale/Apple-iPhone-12-6-1吋-128G-5G手機-9216751.html\n",
      "$22,880\n",
      "--------------------\n",
      "https://tw.buy.yahoo.com/gdsale/Apple-iPhone-13-128G-6-1吋智慧型手機-9685176.html\n",
      "$25,900\n",
      "--------------------\n",
      "https://tw.buy.yahoo.com/gdsale/Apple-iPhone-13-Pro-Max-128G-6-7吋智慧型手機-石墨色-9758309.html\n",
      "$36,900\n",
      "--------------------\n",
      "https://tw.buy.yahoo.com/gdsale/Apple-iPhone-12-6-1吋-256G-5G手機-9223137.html\n",
      "$26,881\n",
      "--------------------\n",
      "https://tw.buy.yahoo.com/gdsale/Apple-iPhone-13-256G-9713942.html\n",
      "$28,290\n",
      "--------------------\n",
      "https://tw.buy.yahoo.com/gdsale/Apple-iPhone-13-pro-max-256GB-9687916.html\n",
      "$39,400\n",
      "--------------------\n",
      "https://tw.buy.yahoo.com/gdsale/Apple-iPhone-13-512G-6-1吋智慧型手機-9687217.html\n",
      "$35,299\n",
      "--------------------\n",
      "https://tw.buy.yahoo.com/gdsale/APPLE-iPhone-13-6-1吋智慧型手機-256G-9722004.html\n",
      "$27,444\n",
      "--------------------\n",
      "https://tw.buy.yahoo.com/gdsale/Apple-iPhone-13-256G-MINI-5-4吋智慧型手機-9687209.html\n",
      "$24,950\n",
      "--------------------\n",
      "https://tw.buy.yahoo.com/gdsale/Apple-iPhone-XR-128G-6-1吋-8002717.html\n",
      "$15,191\n",
      "--------------------\n",
      "https://tw.buy.yahoo.com/gdsale/Apple-iPhone-13-128G-9754221.html\n",
      "$25,380\n",
      "--------------------\n",
      "https://tw.buy.yahoo.com/gdsale/Apple-iPhone-12-128G-6-1吋智慧型手機-9330891.html\n",
      "$22,219\n",
      "--------------------\n",
      "https://tw.buy.yahoo.com/gdsale/Apple-iPhone-13-Pro-128G-9754220.html\n",
      "$32,490\n",
      "--------------------\n",
      "https://tw.buy.yahoo.com/gdsale/Apple-iPhone-13-Pro-Max-256G-5G手機-9720961.html\n",
      "$39,400\n",
      "--------------------\n",
      "https://tw.buy.yahoo.com/gdsale/APPLE-iPhone-13-6-1吋智慧型手機-128G-9726711.html\n",
      "$25,555\n",
      "--------------------\n"
     ]
    }
   ],
   "source": [
    "for product_tag in product_tags:\n",
    "    print(product_tag.find('a')['href'])\n",
    "    print(product_tag.find('em').get_text())\n",
    "    print('--------------------')"
   ]
  },
  {
   "cell_type": "code",
   "execution_count": null,
   "metadata": {},
   "outputs": [],
   "source": []
  }
 ],
 "metadata": {
  "kernelspec": {
   "display_name": "Python 3 (ipykernel)",
   "language": "python",
   "name": "python3"
  },
  "language_info": {
   "codemirror_mode": {
    "name": "ipython",
    "version": 3
   },
   "file_extension": ".py",
   "mimetype": "text/x-python",
   "name": "python",
   "nbconvert_exporter": "python",
   "pygments_lexer": "ipython3",
   "version": "3.9.7"
  }
 },
 "nbformat": 4,
 "nbformat_minor": 4
}
