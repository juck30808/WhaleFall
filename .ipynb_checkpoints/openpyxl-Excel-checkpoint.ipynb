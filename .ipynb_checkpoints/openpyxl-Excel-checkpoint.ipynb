{
 "cells": [
  {
   "cell_type": "code",
   "execution_count": 1,
   "id": "4dd2c39b",
   "metadata": {
    "scrolled": true
   },
   "outputs": [
    {
     "data": {
      "text/html": [
       "<div>\n",
       "<style scoped>\n",
       "    .dataframe tbody tr th:only-of-type {\n",
       "        vertical-align: middle;\n",
       "    }\n",
       "\n",
       "    .dataframe tbody tr th {\n",
       "        vertical-align: top;\n",
       "    }\n",
       "\n",
       "    .dataframe thead th {\n",
       "        text-align: right;\n",
       "    }\n",
       "</style>\n",
       "<table border=\"1\" class=\"dataframe\">\n",
       "  <thead>\n",
       "    <tr style=\"text-align: right;\">\n",
       "      <th></th>\n",
       "      <th>state</th>\n",
       "      <th>color</th>\n",
       "      <th>food</th>\n",
       "      <th>age</th>\n",
       "      <th>height</th>\n",
       "      <th>score</th>\n",
       "    </tr>\n",
       "    <tr>\n",
       "      <th>name</th>\n",
       "      <th></th>\n",
       "      <th></th>\n",
       "      <th></th>\n",
       "      <th></th>\n",
       "      <th></th>\n",
       "      <th></th>\n",
       "    </tr>\n",
       "  </thead>\n",
       "  <tbody>\n",
       "    <tr>\n",
       "      <th>Jane</th>\n",
       "      <td>NY</td>\n",
       "      <td>blue</td>\n",
       "      <td>Steak</td>\n",
       "      <td>30</td>\n",
       "      <td>165</td>\n",
       "      <td>4.6</td>\n",
       "    </tr>\n",
       "    <tr>\n",
       "      <th>Niko</th>\n",
       "      <td>TX</td>\n",
       "      <td>green</td>\n",
       "      <td>Lamb</td>\n",
       "      <td>2</td>\n",
       "      <td>70</td>\n",
       "      <td>8.3</td>\n",
       "    </tr>\n",
       "    <tr>\n",
       "      <th>Aaron</th>\n",
       "      <td>FL</td>\n",
       "      <td>red</td>\n",
       "      <td>Mango</td>\n",
       "      <td>12</td>\n",
       "      <td>120</td>\n",
       "      <td>9.0</td>\n",
       "    </tr>\n",
       "    <tr>\n",
       "      <th>Penelope</th>\n",
       "      <td>AL</td>\n",
       "      <td>white</td>\n",
       "      <td>Apple</td>\n",
       "      <td>4</td>\n",
       "      <td>80</td>\n",
       "      <td>3.3</td>\n",
       "    </tr>\n",
       "    <tr>\n",
       "      <th>Dean</th>\n",
       "      <td>AK</td>\n",
       "      <td>gray</td>\n",
       "      <td>Cheese</td>\n",
       "      <td>32</td>\n",
       "      <td>180</td>\n",
       "      <td>1.8</td>\n",
       "    </tr>\n",
       "    <tr>\n",
       "      <th>Christina</th>\n",
       "      <td>TX</td>\n",
       "      <td>black</td>\n",
       "      <td>Melon</td>\n",
       "      <td>33</td>\n",
       "      <td>172</td>\n",
       "      <td>9.5</td>\n",
       "    </tr>\n",
       "    <tr>\n",
       "      <th>Cornelia</th>\n",
       "      <td>TX</td>\n",
       "      <td>red</td>\n",
       "      <td>Beans</td>\n",
       "      <td>69</td>\n",
       "      <td>150</td>\n",
       "      <td>2.2</td>\n",
       "    </tr>\n",
       "  </tbody>\n",
       "</table>\n",
       "</div>"
      ],
      "text/plain": [
       "          state  color    food  age  height  score\n",
       "name                                              \n",
       "Jane         NY   blue   Steak   30     165    4.6\n",
       "Niko         TX  green    Lamb    2      70    8.3\n",
       "Aaron        FL    red   Mango   12     120    9.0\n",
       "Penelope     AL  white   Apple    4      80    3.3\n",
       "Dean         AK   gray  Cheese   32     180    1.8\n",
       "Christina    TX  black   Melon   33     172    9.5\n",
       "Cornelia     TX    red   Beans   69     150    2.2"
      ]
     },
     "execution_count": 1,
     "metadata": {},
     "output_type": "execute_result"
    }
   ],
   "source": [
    "import pandas as pd\n",
    "df = pd.read_csv('input/pyxl-df.csv', index_col=0)\n",
    "df"
   ]
  },
  {
   "cell_type": "markdown",
   "id": "bf200e6b",
   "metadata": {},
   "source": [
    "## Struction of Workbook "
   ]
  },
  {
   "cell_type": "code",
   "execution_count": 2,
   "id": "565dc89b",
   "metadata": {
    "scrolled": true
   },
   "outputs": [
    {
     "name": "stdout",
     "output_type": "stream",
     "text": [
      "Requirement already satisfied: openpyxl in /Users/jerrychien/opt/anaconda3/lib/python3.9/site-packages (3.0.9)\r\n",
      "Requirement already satisfied: et-xmlfile in /Users/jerrychien/opt/anaconda3/lib/python3.9/site-packages (from openpyxl) (1.1.0)\r\n"
     ]
    }
   ],
   "source": [
    "!pip install openpyxl"
   ]
  },
  {
   "cell_type": "code",
   "execution_count": 3,
   "id": "24d611aa",
   "metadata": {},
   "outputs": [
    {
     "name": "stdout",
     "output_type": "stream",
     "text": [
      "Requirement already satisfied: datetime in /Users/jerrychien/opt/anaconda3/lib/python3.9/site-packages (4.4)\r\n",
      "Requirement already satisfied: zope.interface in /Users/jerrychien/opt/anaconda3/lib/python3.9/site-packages (from datetime) (5.4.0)\r\n",
      "Requirement already satisfied: pytz in /Users/jerrychien/opt/anaconda3/lib/python3.9/site-packages (from datetime) (2021.3)\r\n",
      "Requirement already satisfied: setuptools in /Users/jerrychien/opt/anaconda3/lib/python3.9/site-packages (from zope.interface->datetime) (58.0.4)\r\n"
     ]
    }
   ],
   "source": [
    "!pip install datetime"
   ]
  },
  {
   "attachments": {
    "image.png": {
     "image/png": "[encoded data removed]"
    }
   },
   "cell_type": "markdown",
   "id": "0110d3e8",
   "metadata": {},
   "source": [
    "![image.png](attachment:image.png)"
   ]
  },
  {
   "cell_type": "code",
   "execution_count": 4,
   "id": "bf4936bb",
   "metadata": {},
   "outputs": [
    {
     "name": "stdout",
     "output_type": "stream",
     "text": [
      "['Jerry']\n"
     ]
    }
   ],
   "source": [
    "from openpyxl import Workbook\n",
    "import datetime\n",
    "\n",
    "wb = Workbook()        # workbook (file)  Select\n",
    "ws = wb.active         # worksheet(sheet) Get first sheet。(defult = 0)\n",
    "\n",
    "ws.title = \"Jerry\"     # 未使用則自動命名 Sheet\n",
    "\n",
    "ws[\"A1\"] = \"Hello\"\n",
    "ws[\"A2\"] = \"World\"\n",
    "ws[\"A3\"] = \"is\"           #                     #A    #4\n",
    "ws[\"A4\"] = \"Jerry\"        # same: ws.cell(column=1, row=4, value=10)\n",
    "\n",
    "ws['B1'] = datetime.datetime(2022, 3, 12)\n",
    "ws[\"B2\"] = \"=SUM(1, 1)\"   # openpyxl 不計算公式\n",
    "\n",
    "\n",
    "#插入和刪除行和列，移動單元格範圍  do_rows / do_cols\n",
    "\n",
    "ws.insert_rows(2)       #在 row(2)插入一行\n",
    "ws.delete_rows(4)       #在 row(4)刪除一行\n",
    "ws.move_range(\"B1:B4\", rows=0, cols=1) #向下移動 rows(x), 向右移動cols(y) 可負值\n",
    "\n",
    "# Grouping\n",
    "ws.column_dimensions.group('H','L', hidden=True)  #Group \n",
    "ws.row_dimensions.group(10,15, hidden=True)\n",
    "\n",
    "wb.save(\"input/pyxl-sample.xlsx\")  # save workbook\n",
    "print(wb.sheetnames)  "
   ]
  },
  {
   "cell_type": "code",
   "execution_count": 5,
   "id": "2499d4eb",
   "metadata": {},
   "outputs": [
    {
     "name": "stdout",
     "output_type": "stream",
     "text": [
      "Hello\n",
      "('Hello',)\n",
      "(None,)\n",
      "('World',)\n",
      "('Jerry',)\n"
     ]
    }
   ],
   "source": [
    "from openpyxl import load_workbook\n",
    "\n",
    "wb = load_workbook(filename = 'input/pyxl-sample.xlsx')\n",
    "sheet = wb['Jerry']\n",
    "print(sheet['A1'].value)\n",
    "\n",
    "for row in ws.iter_rows(max_col=1, max_row=4, values_only=True):  #col:A  Row:4\n",
    "    print(row)"
   ]
  },
  {
   "cell_type": "markdown",
   "id": "6fae7169",
   "metadata": {},
   "source": [
    "## load_workbook 讀取\n",
    "\n",
    "與編寫方式相同，您可以使用 openpyxl.load_workbook() 打開現有工作簿： \n",
    "\n",
    "唯讀：有時需要打開或編寫非常大的 XLSX 文件，而 openpyxl 中的常用例程將無法處理該負載。 幸運的是，有兩種模式可以讓您讀取和寫入無限量的數據，而內存消耗（幾乎）恆定。 \n"
   ]
  },
  {
   "cell_type": "code",
   "execution_count": 6,
   "id": "be2523fb",
   "metadata": {},
   "outputs": [
    {
     "name": "stdout",
     "output_type": "stream",
     "text": [
      "['Jerry']\n"
     ]
    }
   ],
   "source": [
    "from openpyxl import load_workbook\n",
    "wb = load_workbook('input/pyxl-sample.xlsx')\n",
    "print(wb.sheetnames)"
   ]
  },
  {
   "cell_type": "code",
   "execution_count": 7,
   "id": "31e00c5d",
   "metadata": {},
   "outputs": [
    {
     "name": "stdout",
     "output_type": "stream",
     "text": [
      "2022-03-12 00:00:00\n",
      "None\n",
      "=SUM(1, 1)\n"
     ]
    }
   ],
   "source": [
    "from openpyxl import load_workbook\n",
    "wb = load_workbook('input/pyxl-sample.xlsx')\n",
    "sheet_rangers = wb['Jerry']\n",
    "print(sheet_rangers['C1'].value)\n",
    "print(sheet_rangers['C2'].value)\n",
    "print(sheet_rangers['C3'].value)"
   ]
  },
  {
   "cell_type": "code",
   "execution_count": 8,
   "id": "d69cdfc2",
   "metadata": {},
   "outputs": [
    {
     "name": "stdout",
     "output_type": "stream",
     "text": [
      "Hello\n",
      "None\n",
      "2022-03-12 00:00:00\n",
      "None\n",
      "None\n",
      "None\n",
      "World\n",
      "None\n",
      "=SUM(1, 1)\n",
      "Jerry\n",
      "None\n",
      "None\n"
     ]
    }
   ],
   "source": [
    "## 唯讀模式 read_only=True\n",
    "\n",
    "from openpyxl import load_workbook\n",
    "wb = load_workbook(filename='input/pyxl-sample.xlsx', read_only=False)  #read_only = True\n",
    "ws = wb['Jerry']\n",
    "\n",
    "for row in ws.rows:\n",
    "    for cell in row:\n",
    "        print(cell.value)\n",
    "\n",
    "# Close the workbook after read_only 唯讀工作簿使用延遲加載。 必須使用close()關閉工作簿。\n",
    "wb.close()"
   ]
  },
  {
   "cell_type": "markdown",
   "id": "bc0140d0",
   "metadata": {},
   "source": [
    "## Saving as a stream 串流儲存\n",
    "\n",
    "如果要將文件保存到stream中，例如 當使用 Pyramid、Flask 或 Django 等 Web 應用程序時，您可以簡單地提供一個 NamedTemporaryFile()："
   ]
  },
  {
   "cell_type": "code",
   "execution_count": 9,
   "id": "ef2cd4fc",
   "metadata": {},
   "outputs": [],
   "source": [
    "# #Saving as a stream 串流儲存\n",
    "\n",
    "# from tempfile import NamedTemporaryFile\n",
    "# from openpyxl import Workbook\n",
    "# wb = Workbook()\n",
    "# with NamedTemporaryFile() as tmp:\n",
    "#     wb.save(tmp.name)\n",
    "#     tmp.seek(0)\n",
    "#     stream = tmp.read()\n",
    "\n",
    "# #You can specify the attribute template=True, to save a workbook as a template:\n",
    "# wb = load_workbook('document.xlsx')\n",
    "# wb.template = True\n",
    "# wb.save('document_template.xltx')\n",
    "\n",
    "# wb = load_workbook('document_template.xltx')\n",
    "# wb.template = False\n",
    "# wb.save('document.xlsx', as_template=False)"
   ]
  },
  {
   "cell_type": "code",
   "execution_count": 10,
   "id": "6535db7b",
   "metadata": {},
   "outputs": [],
   "source": [
    "# # 唯寫模式\n",
    "# from openpyxl import Workbook\n",
    "# wb = Workbook(write_only=True)\n",
    "# ws = wb.create_sheet()\n",
    "\n",
    "# for irow in range(100):                             #fill it with 100 rows x 200 columns\n",
    "#     ws.append(['%d' % i for i in range(200)])\n",
    "    \n",
    "# wb.save('new_big_file.xlsx') # doctest: +SKIP"
   ]
  },
  {
   "cell_type": "markdown",
   "id": "db419fbb",
   "metadata": {},
   "source": [
    "## 新增 Sheet"
   ]
  },
  {
   "cell_type": "code",
   "execution_count": 11,
   "id": "b416e1aa",
   "metadata": {},
   "outputs": [
    {
     "name": "stdout",
     "output_type": "stream",
     "text": [
      "['Jerry', 'Apple', 'Amazon', 'Microsoft', 'Jerry Copy']\n"
     ]
    }
   ],
   "source": [
    "wb.create_sheet(\"Apple\",1)        # (\"Apple\")   insert the end (default)\n",
    "wb.create_sheet(\"Amazon\",2)       # (\"Apple\",-1)insert the penultimate position\n",
    "wb.create_sheet(\"Microsoft\",3)    # (\"Apple\",0) insert first position\n",
    "\n",
    "source = wb.active               #copy\n",
    "wb.copy_worksheet(source)\n",
    "\n",
    "wb.save(\"input/pyxl-sample.xlsx\")\n",
    "print(wb.sheetnames) "
   ]
  },
  {
   "cell_type": "code",
   "execution_count": 12,
   "id": "0ec8dae3",
   "metadata": {},
   "outputs": [
    {
     "name": "stdout",
     "output_type": "stream",
     "text": [
      "['Jerry', 'Apple', 'Amazon', 'Microsoft', 'Jerry Copy']\n"
     ]
    }
   ],
   "source": [
    "wsM = wb[\"Microsoft\"]  #Select sheet\n",
    "\n",
    "wsM[\"A1\"] = \"Cloud\"\n",
    "wsM[\"A2\"] = \"Computers\"\n",
    "wsM[\"A3\"] = \"Apps\"\n",
    "wsM[\"A4\"] = \"XboxGaming\"\n",
    "\n",
    "wb.save(\"input/pyxl-sample.xlsx\")\n",
    "print(wb.sheetnames)  "
   ]
  },
  {
   "cell_type": "code",
   "execution_count": 13,
   "id": "cc7752e8",
   "metadata": {
    "scrolled": false
   },
   "outputs": [
    {
     "name": "stdout",
     "output_type": "stream",
     "text": [
      "Jerry\n",
      "Apple\n",
      "Amazon\n",
      "Microsoft\n",
      "Jerry Copy\n"
     ]
    }
   ],
   "source": [
    "for sheet in wb:           #same print(wb.sheetnames)  \n",
    "    print(sheet.title)"
   ]
  },
  {
   "cell_type": "markdown",
   "id": "9a9795ea",
   "metadata": {},
   "source": [
    "## 新增圖片 Inserting an image"
   ]
  },
  {
   "cell_type": "code",
   "execution_count": null,
   "id": "d41f5f58",
   "metadata": {},
   "outputs": [],
   "source": [
    "#image\n",
    "from openpyxl import Workbook \n",
    "from openpyxl.drawing.image import Image \n",
    "\n",
    "wb = Workbook()\n",
    "ws = wb.active \n",
    "\n",
    "img = Image('input/cat.jpg')\n",
    "ws.add_image(img, 'E4')\n",
    "\n",
    "img2 = Image('input/shark.jpg')\n",
    "img2.anchor = 'A1'\n",
    "ws.add_image(img2)\n",
    "\n",
    "wb.save('input/pyxl-cat.xlsx')\n",
    "print(\"Success\")"
   ]
  },
  {
   "cell_type": "code",
   "execution_count": null,
   "id": "8be19d9e",
   "metadata": {},
   "outputs": [],
   "source": []
  },
  {
   "cell_type": "code",
   "execution_count": null,
   "id": "a67b4ba0",
   "metadata": {},
   "outputs": [],
   "source": []
  },
  {
   "cell_type": "code",
   "execution_count": 15,
   "id": "761e5f12",
   "metadata": {},
   "outputs": [
    {
     "ename": "ModuleNotFoundError",
     "evalue": "No module named 'Image'",
     "output_type": "error",
     "traceback": [
      "\u001b[0;31m---------------------------------------------------------------------------\u001b[0m",
      "\u001b[0;31mModuleNotFoundError\u001b[0m                       Traceback (most recent call last)",
      "\u001b[0;32m/var/folders/9q/486czkcn7lv5v0hwbt71twdc0000gn/T/ipykernel_47372/1035142988.py\u001b[0m in \u001b[0;36m<module>\u001b[0;34m\u001b[0m\n\u001b[1;32m      1\u001b[0m \u001b[0;32mfrom\u001b[0m \u001b[0mopenpyxl\u001b[0m \u001b[0;32mimport\u001b[0m \u001b[0mWorkbook\u001b[0m\u001b[0;34m\u001b[0m\u001b[0;34m\u001b[0m\u001b[0m\n\u001b[0;32m----> 2\u001b[0;31m \u001b[0;32mimport\u001b[0m \u001b[0mImage\u001b[0m\u001b[0;34m\u001b[0m\u001b[0;34m\u001b[0m\u001b[0m\n\u001b[0m\u001b[1;32m      3\u001b[0m \u001b[0;34m\u001b[0m\u001b[0m\n\u001b[1;32m      4\u001b[0m \u001b[0mwb\u001b[0m \u001b[0;34m=\u001b[0m \u001b[0mWorkbook\u001b[0m\u001b[0;34m(\u001b[0m\u001b[0;34m)\u001b[0m        \u001b[0;31m# workbook (file)  Select\u001b[0m\u001b[0;34m\u001b[0m\u001b[0;34m\u001b[0m\u001b[0m\n\u001b[1;32m      5\u001b[0m \u001b[0mws\u001b[0m \u001b[0;34m=\u001b[0m \u001b[0mwb\u001b[0m\u001b[0;34m.\u001b[0m\u001b[0mactive\u001b[0m         \u001b[0;31m# worksheet(sheet) Get first sheet。(defult = 0)\u001b[0m\u001b[0;34m\u001b[0m\u001b[0;34m\u001b[0m\u001b[0m\n",
      "\u001b[0;31mModuleNotFoundError\u001b[0m: No module named 'Image'"
     ]
    }
   ],
   "source": [
    "from openpyxl import Workbook\n",
    "import Image\n",
    "\n",
    "wb = Workbook()        # workbook (file)  Select\n",
    "ws = wb.active         # worksheet(sheet) Get first sheet。(defult = 0)\n",
    "ws.title = \"Jerry\"     # 未使用則自動命名 Sheet\n",
    "\n",
    "ws['C1'] = 'You should see three logos below'    #Inserting an image\n",
    "ws.add_image(Image('input/grass.png'), 'C2')\n",
    "  \n",
    "ws.column_dimensions.group('H','L', hidden=True)  #Group \n",
    "#ws.row_dimensions.group(1,10, hidden=True)\n",
    "\n",
    "wb.save(\"input/pyxl-Jerry.xlsx\")  # save workbook\n",
    "print(wb.sheetnames)  "
   ]
  },
  {
   "cell_type": "code",
   "execution_count": null,
   "id": "2d108201",
   "metadata": {},
   "outputs": [],
   "source": []
  },
  {
   "cell_type": "markdown",
   "id": "bfd2b55a",
   "metadata": {},
   "source": [
    "## -------------- Example1: Write a workbook ------------"
   ]
  },
  {
   "cell_type": "code",
   "execution_count": null,
   "id": "869e6a50",
   "metadata": {},
   "outputs": [],
   "source": [
    "from openpyxl import Workbook\n",
    "from openpyxl.utils import get_column_letter\n",
    "\n",
    "dest_filename = 'input/pyxl-ex1.xlsx'\n",
    "\n",
    "wb = Workbook()\n",
    "ws1 = wb.active\n",
    "ws1.title = \"rangeNames\"\n",
    "\n",
    "for row in range(1, 40):\n",
    "    ws1.append(range(600))\n",
    "\n",
    "ws2 = wb.create_sheet(title=\"Pi\")\n",
    "ws2['F5'] = 3.14\n",
    "\n",
    "ws3 = wb.create_sheet(title=\"Data\")\n",
    "for row in range(10, 20):\n",
    "    for col in range(27, 54):\n",
    "        _ = ws3.cell(column=col, row=row, value=\"{0}\".format(get_column_letter(col)))\n",
    "\n",
    "print(ws3['AA10'].value)\n",
    "wb.save(filename = dest_filename)"
   ]
  },
  {
   "cell_type": "code",
   "execution_count": null,
   "id": "f0a0ef2d",
   "metadata": {},
   "outputs": [],
   "source": []
  },
  {
   "cell_type": "code",
   "execution_count": null,
   "id": "2b5f56ba",
   "metadata": {},
   "outputs": [],
   "source": []
  },
  {
   "cell_type": "markdown",
   "id": "7a891789",
   "metadata": {},
   "source": [
    "# ++++++++++++++++++++++"
   ]
  },
  {
   "cell_type": "code",
   "execution_count": 16,
   "id": "7b36f713",
   "metadata": {},
   "outputs": [
    {
     "name": "stdout",
     "output_type": "stream",
     "text": [
      "Success\n"
     ]
    }
   ],
   "source": [
    "#image\n",
    "from openpyxl import Workbook \n",
    "from openpyxl.drawing.image import Image \n",
    "\n",
    "wb = Workbook()\n",
    "ws = wb.active \n",
    "\n",
    "img = Image('input/cat.jpg')\n",
    "ws.add_image(img, 'E4')\n",
    "\n",
    "img2 = Image('input/shark.jpg')\n",
    "img2.anchor = 'A1'\n",
    "ws.add_image(img2)\n",
    "\n",
    "wb.save('input/pyxl-cat.xlsx')\n",
    "print(\"Success\")"
   ]
  },
  {
   "cell_type": "code",
   "execution_count": null,
   "id": "40dae049",
   "metadata": {},
   "outputs": [],
   "source": [
    "#bar chart\n",
    "from openpyxl import Workbook \n",
    "from openpyxl.chart import BarChart, Reference, Series \n",
    "\n",
    "wb = Workbook()\n",
    "ws = wb.active\n",
    "\n",
    "for i in range(10) :\n",
    "    ws.append([i])\n",
    "\n",
    "## values = [1,2,3,4,5,6]\n",
    "values = Reference(ws, min_col=1, min_row=1, max_col=1, max_row=10)\n",
    "chart = BarChart()\n",
    "chart.add_data(values)\n",
    "ws.add_chart(chart, \"A1\")\n",
    "wb.save(\"output/pyxl-chart.xlsx\" )"
   ]
  },
  {
   "cell_type": "code",
   "execution_count": null,
   "id": "42f48a32",
   "metadata": {},
   "outputs": [],
   "source": [
    "#pie chart\n",
    "from openpyxl import Workbook\n",
    "from openpyxl.chart import PieChart3D, Reference\n",
    "\n",
    "data = [['Fruit', 'Sold'],\n",
    "        ['Apple', 10],\n",
    "        ['Berry', 30],\n",
    "        ['Cherry', 20],\n",
    "        ['Lemon', 40],\n",
    "       ]\n",
    "\n",
    "wb = Workbook()\n",
    "ws = wb.active\n",
    "\n",
    "for row in data:\n",
    "    ws.append(row)\n",
    "\n",
    "pie = PieChart3D()\n",
    "labels = Reference(ws, min_col=1, min_row=2, max_row=5)\n",
    "data = Reference(ws, min_col=2, min_row=1, max_row=5)\n",
    "pie.add_data(data, titles_from_data=True)\n",
    "pie.set_categories(labels)\n",
    "pie.title = \"Pies sold by category\"\n",
    "ws.add_chart(pie, \"D1\")\n",
    "wb.save(\"output/pyxl-pie.xlsx\")"
   ]
  },
  {
   "cell_type": "code",
   "execution_count": null,
   "id": "38590ba8",
   "metadata": {},
   "outputs": [],
   "source": [
    "#line chart\n",
    "from datetime import date\n",
    "from openpyxl import Workbook\n",
    "from openpyxl.chart import LineChart, Reference\n",
    "from openpyxl.chart.axis import DateAxis\n",
    "\n",
    "rows = [['Date', 'Batch 1', 'Batch 2', 'Batch 3'],\n",
    "        [date(2015,9, 1), 10, 30, 25],\n",
    "        [date(2015,9, 2), 20, 25, 30],\n",
    "        [date(2015,9, 3), 30, 30, 45],\n",
    "        [date(2015,9, 4), 40, 25, 40],\n",
    "        [date(2015,9, 5), 55, 35, 30],\n",
    "        [date(2015,9, 6), 60, 40, 35]\n",
    "       ]\n",
    "\n",
    "wb = Workbook()\n",
    "ws = wb.active\n",
    "\n",
    "for row in rows:\n",
    "    ws.append(row)\n",
    "\n",
    "c1 = LineChart()\n",
    "c1.title = \"Line Chart\"\n",
    "c1.legend = None\n",
    "c1.style = 15\n",
    "c1.y_axis.title = 'Size'\n",
    "c1.x_axis.title = 'Test Number'\n",
    "\n",
    "data = Reference(ws, min_col=2, min_row=1, max_col=4, max_row=7)\n",
    "c1.add_data(data, titles_from_data=True)\n",
    "ws.add_chart(c1, \"A10\")\n",
    "wb.save(\"output/pyxl-line.xlsx\")"
   ]
  },
  {
   "cell_type": "code",
   "execution_count": null,
   "id": "e249a420",
   "metadata": {},
   "outputs": [],
   "source": [
    "#font style\n",
    "from openpyxl.styles import Font \n",
    "from openpyxl.styles.colors import Color\n",
    "from openpyxl import Workbook\n",
    "\n",
    "# Create workbook\n",
    "wb = Workbook()\n",
    "\n",
    "# Select sheet\n",
    "ws = wb['Sheet']\n",
    "\n",
    "# Set font\n",
    "ws['A1'].font = Font(color = \"FF0000\")\n",
    "\n",
    "# Set data\n",
    "ws['A1'] = \"Hello\"\n",
    "    \n",
    "# Save file    \n",
    "wb.save(\"output/pyxl-styles.xlsx\")"
   ]
  },
  {
   "cell_type": "markdown",
   "id": "2a031c57",
   "metadata": {},
   "source": [
    "## Working with Excel Spreadsheets"
   ]
  },
  {
   "cell_type": "code",
   "execution_count": null,
   "id": "23670c6d",
   "metadata": {},
   "outputs": [],
   "source": [
    "import openpyxl, pprint\n",
    "print('Opening workbook...')\n",
    "wb = openpyxl.load_workbook('input/censuspopdata.xlsx')\n",
    "sheet = wb.get_sheet_by_name('Population by Census Tract')\n",
    "countyData = {}\n",
    "# Fill in countyData with each county's population and tracts.\n",
    "print('Reading rows...')\n",
    "for row in range(2, sheet.max_row+ 1):\n",
    "    # Each row in the spreadsheet has data for one census tract.\n",
    "    state  = sheet['B' + str(row)].value\n",
    "    county = sheet['C' + str(row)].value\n",
    "    pop    = sheet['D' + str(row)].value\n",
    "\n",
    "    # Make sure the key for this state exists.\n",
    "    countyData.setdefault(state, {})\n",
    "    # Make sure the key for this county in this state exists.\n",
    "    countyData[state].setdefault(county, {'tracts': 0, 'pop': 0})\n",
    "\n",
    "    # Each row represents one census tract, so increment by one.\n",
    "    countyData[state][county]['tracts'] += 1\n",
    "    # Increase the county pop by the pop in this census tract.\n",
    "    countyData[state][county]['pop'] += int(pop)\n",
    "\n",
    "# Open a new text file and write the contents of countyData to it.\n",
    "print('Writing results...')\n",
    "resultFile = open('openpyxl-census2010.py', 'w')\n",
    "resultFile.write('allData = ' + pprint.pformat(countyData))\n",
    "resultFile.close()\n",
    "print('Done.')\n"
   ]
  },
  {
   "cell_type": "code",
   "execution_count": null,
   "id": "599f9556",
   "metadata": {},
   "outputs": [],
   "source": [
    "import csv, os\n",
    "os.makedirs('headerRemoved', exist_ok=True)\n",
    "\n",
    "# Loop through every file in the current working directory.\n",
    "for csvFilename in os.listdir('.'):\n",
    "    if not csvFilename.endswith('.csv'):\n",
    "        continue # skip non-csv files\n",
    "\n",
    "    print('Removing header from ' + csvFilename + '...')\n",
    "\n",
    "    # Read the CSV file in (skipping first row).\n",
    "    csvRows = []\n",
    "    csvFileObj = open(csvFilename)\n",
    "    readerObj = csv.reader(csvFileObj)\n",
    "    for row in readerObj:\n",
    "        if readerObj.line_num == 1:\n",
    "            continue # skip first row\n",
    "        csvRows.append(row)\n",
    "    csvFileObj.close()\n",
    "\n",
    "    # Write out the CSV file.\n",
    "    csvFileObj = open(os.path.join('headerRemoved', csvFilename), 'w', newline='')\n",
    "    csvWriter = csv.writer(csvFileObj)\n",
    "    for row in csvRows:\n",
    "        csvWriter.writerow(row)\n",
    "    csvFileObj.close()"
   ]
  },
  {
   "cell_type": "code",
   "execution_count": null,
   "id": "d1ba5d66",
   "metadata": {},
   "outputs": [],
   "source": [
    "import openpyxl\n",
    "\n",
    "wb = openpyxl.load_workbook('input/produceSales.xlsx')\n",
    "sheet = wb.get_sheet_by_name('Sheet')\n",
    "\n",
    "# The produce types and their updated prices\n",
    "PRICE_UPDATES = {'Garlic': 3.07,\n",
    "                 'Celery': 1.19,\n",
    "                 'Lemon': 1.27}\n",
    "\n",
    "# Loop through the rows and update the prices.\n",
    "for rowNum in range(2, sheet.max_row): # skip the first row\n",
    "    produceName = sheet.cell(row=rowNum, column=1).value\n",
    "    if produceName in PRICE_UPDATES:\n",
    "        sheet.cell(row=rowNum, column=2).value = PRICE_UPDATES[produceName]\n",
    "\n",
    "wb.save('output/updatedProduceSales.xlsx')"
   ]
  },
  {
   "cell_type": "code",
   "execution_count": null,
   "id": "95c51497",
   "metadata": {},
   "outputs": [],
   "source": [
    "import openpyxl\n",
    "def invertCells(filename):\n",
    "    wb = openpyxl.load_workbook(filename)\n",
    "    sheet = wb.active\n",
    "    newSheet = wb.create_sheet(index=0, title='inverted')\n",
    "\n",
    "    for rowObj in sheet.rows:\n",
    "        for cellObj in rowObj:\n",
    "            colIndex = cellObj.column\n",
    "            rowIndex = cellObj.row\n",
    "\n",
    "            newSheet.cell(row=colIndex, column=rowIndex).value = cellObj.value\n",
    "\n",
    "    wb.save(filename)\n",
    "\n",
    "\n",
    "if __name__ == \"__main__\":\n",
    "    invertCells('input/invertCells.xlsx')"
   ]
  },
  {
   "cell_type": "markdown",
   "id": "87390de2",
   "metadata": {},
   "source": [
    "## excelToCsv"
   ]
  },
  {
   "cell_type": "code",
   "execution_count": null,
   "id": "b657370e",
   "metadata": {},
   "outputs": [],
   "source": [
    "import os\n",
    "import csv\n",
    "import openpyxl\n",
    "\n",
    "def excelToCsv(folder):\n",
    "    for excelFile in os.listdir(folder):\n",
    "        if not excelFile.endswith('xlsx'):\n",
    "            continue\n",
    "        wb = openpyxl.load_workbook(excelFile)\n",
    "\n",
    "        for sheetName in wb.get_sheet_names():\n",
    "            sheet = wb.get_sheet_by_name(sheetName)\n",
    "\n",
    "            # Create the CSV filename from the Excel filename and sheet title.\n",
    "            csvFilename = excelFile.split('.')[0]+'_'+sheet.title+'.csv'\n",
    "            csvFileObj = open(csvFilename, 'w', newline='')\n",
    "\n",
    "            # Create the csv.writer object for this CSV file.\n",
    "            csvWriter = csv.writer(csvFileObj)\n",
    "\n",
    "            # Loop through every row in the sheet.\n",
    "            for rowObj in sheet.rows:\n",
    "                rowData = []    # append each cell to this list\n",
    "                # Loop through each cell in the row.\n",
    "                for cellObj in rowObj:\n",
    "                    # Append each cell's data to rowData.\n",
    "                    rowData.append(cellObj.value)\n",
    "                # Write the rowData list to the CSV file.\n",
    "                csvWriter.writerow(rowData)\n",
    "            csvFileObj.close()\n",
    "\n",
    "if __name__ == \"__main__\":\n",
    "    excelToCsv('.')"
   ]
  },
  {
   "cell_type": "code",
   "execution_count": null,
   "id": "70208b26",
   "metadata": {},
   "outputs": [],
   "source": [
    "import os\n",
    "import openpyxl\n",
    "\n",
    "def textToSheet(directory, filename):\n",
    "    wb = openpyxl.Workbook()\n",
    "    wb.create_sheet(index=0, title='result')\n",
    "    sheet = wb.active\n",
    "\n",
    "    colIndex = 1\n",
    "\n",
    "    # write text files as columns in worksheet\n",
    "    for file in os.listdir():\n",
    "        if file.endswith('.txt'):\n",
    "            rowIndex = 1\n",
    "            with open(file) as f:\n",
    "                for line in f:\n",
    "                    sheet.cell(row=rowIndex, column=colIndex).value = line\n",
    "                    rowIndex += 1\n",
    "            colIndex += 1\n",
    "\n",
    "    wb.save(filename)\n",
    "\n",
    "if __name__ == \"__main__\":\n",
    "    textToSheet('.', 'output/text-to-cols.xlsx')"
   ]
  },
  {
   "cell_type": "markdown",
   "id": "e8682cdb",
   "metadata": {},
   "source": [
    "## EXCEL\n",
    "https://openpyxl.readthedocs.io/en/stable/index.html"
   ]
  },
  {
   "cell_type": "code",
   "execution_count": null,
   "id": "12ab5365",
   "metadata": {},
   "outputs": [],
   "source": [
    "from openpyxl import load_workbook\n",
    "# 預設可讀寫，若有需要可以指定write_only和read_only為True\n",
    "# wb = load_workbook('data/Iris_short.xlsx', read_only = True)\n",
    "wb = load_workbook('input/iris.xlsx')\n",
    "\n",
    "# 獲得所有sheet的名稱\n",
    "print(wb.sheetnames)\n",
    "# 根據sheet名字獲得sheet\n",
    "a_sheet = wb['Iris']\n",
    "# 獲得sheet名\n",
    "print(a_sheet.title)\n",
    "# 獲得當前正在顯示的sheet, 也可以用wb.get_active_sheet()\n",
    "sheet = wb.active \n",
    "print(sheet.title)"
   ]
  },
  {
   "cell_type": "code",
   "execution_count": null,
   "id": "4e89fed0",
   "metadata": {},
   "outputs": [],
   "source": [
    "cell = sheet['B4']\n",
    "print(cell.column) #B\n",
    "print(cell.row)    #4\n",
    "print(cell.value)  #B4 = 4.7\n",
    "\n",
    "cell = sheet.cell(row=4, column=2)  #B4\n",
    "print(cell.value)   #4.7"
   ]
  },
  {
   "cell_type": "code",
   "execution_count": null,
   "id": "0ea05e3c",
   "metadata": {},
   "outputs": [],
   "source": [
    "# 獲得最大列和最大行\n",
    "print(sheet.max_row)\n",
    "print(sheet.max_column)"
   ]
  },
  {
   "cell_type": "code",
   "execution_count": null,
   "id": "857af527",
   "metadata": {},
   "outputs": [],
   "source": [
    "# 因為按行，所以返回A1, B1, C1這樣的順序\n",
    "for row in sheet.rows:\n",
    "    for cell in row:\n",
    "        print(cell.value)\n",
    "\n",
    "# A1, A2, A3這樣的順序\n",
    "for column in sheet.columns:\n",
    "    for cell in column:\n",
    "        print(cell.value)"
   ]
  },
  {
   "cell_type": "code",
   "execution_count": null,
   "id": "6c467b0c",
   "metadata": {},
   "outputs": [],
   "source": [
    "for cell in list(sheet.rows)[2]: #row A2 B2 C2 D2 E2\n",
    "    print(\"R:\",cell.value)\n",
    "    \n",
    "for cell in list(sheet.columns)[2]: #Columns C1 C2 C3 C4 C5\n",
    "    print(\"C:\",cell.value)"
   ]
  },
  {
   "cell_type": "code",
   "execution_count": null,
   "id": "013a7168",
   "metadata": {},
   "outputs": [],
   "source": [
    "for i in range(1, 4):\n",
    "    for j in range(1, 3):\n",
    "        print(i,j)\n",
    "    print(sheet.cell(row=i, column=j).value)"
   ]
  },
  {
   "cell_type": "code",
   "execution_count": null,
   "id": "afcbbbfd",
   "metadata": {},
   "outputs": [],
   "source": [
    "for row_cell in sheet['A1':'B3']:  #逐列但是指定範圍\n",
    "    for cell in row_cell:\n",
    "        print(cell.value)"
   ]
  },
  {
   "cell_type": "code",
   "execution_count": null,
   "id": "794143f3",
   "metadata": {},
   "outputs": [],
   "source": [
    "from openpyxl import Workbook\n",
    "wb = Workbook()\n",
    "sheet = wb.create_sheet(\"Mysheet\")\n",
    "sheet.cell(row=2, column=2).value = 22\n",
    "sheet['A1'].value = 11\n",
    "wb.save('output/test.xlsx')"
   ]
  },
  {
   "cell_type": "code",
   "execution_count": null,
   "id": "a6bcd9ce",
   "metadata": {},
   "outputs": [],
   "source": [
    "from openpyxl import Workbook\n",
    "wb = Workbook()\n",
    "sheet = wb.active\n",
    "sheet.cell(row=2, column=2).value = 22\n",
    "sheet['A1'].value = 11\n",
    "wb.save('output/test.xlsx')"
   ]
  },
  {
   "cell_type": "code",
   "execution_count": null,
   "id": "7f86e9e7",
   "metadata": {
    "scrolled": true
   },
   "outputs": [],
   "source": [
    "#HW1.讀取Iris.xlsx，分別計算 SepalLengthCm,SepalWidthCm,\n",
    "#PetalLengthCm,PetalWidthCm 的平均值然後Print出來。\n",
    "\n",
    "from openpyxl import load_workbook\n",
    "wb = load_workbook('input/Iris.xlsx')\n",
    "sheet = wb['Iris']\n",
    "\n",
    "avgs = []\n",
    "for column_id in range(2,6):\n",
    "    sum = 0\n",
    "    for row_id in range(2,sheet.max_row+1):\n",
    "        sum += float(sheet.cell(row=row_id, column=column_id).value)\n",
    "    avg = sum / (sheet.max_row - 1)\n",
    "    avgs.append(avg)\n",
    "\n",
    "\n",
    "print(avgs)\n"
   ]
  },
  {
   "cell_type": "code",
   "execution_count": null,
   "id": "238b164f",
   "metadata": {},
   "outputs": [],
   "source": [
    "#HW2.讀取Iris.xlsx，分別計算SepalLengthCm,SepalWidthCm,\n",
    "#PetalLengthCm,PetalWidthCm的平均值、標準差跟四分位值然後將結果儲存在同一個檔案的新工作表中。\n",
    "\n",
    "from openpyxl import load_workbook\n",
    "\n",
    "wb = load_workbook('input/Iris.xlsx')\n",
    "sheet = wb['Iris']\n",
    "\n",
    "ans = []\n",
    "\n",
    "def countStatisticsValue(data):\n",
    "    sum = 0\n",
    "    for n in data:\n",
    "        sum += n\n",
    "    avg = sum / len(data)\n",
    "\n",
    "    sum = 0\n",
    "    for n in data:\n",
    "        sum += (avg-n)*(avg-n)\n",
    "    sd = (sum / len(data)) ** 0.5\n",
    "\n",
    "    d2 = data[:]\n",
    "    d2.sort()\n",
    "    q1 = d2[int(len(d2)/4)]\n",
    "    q2 = d2[int(len(d2)/2)]\n",
    "    q3 = d2[int(len(d2)*3/4)]\n",
    "\n",
    "    return (avg, sd, q1, q2, q3)\n",
    "\n",
    "\n",
    "for column_id in range(2,6):\n",
    "    data = []\n",
    "    for row_id in range(2,sheet.max_row+1):\n",
    "        data.append(float(sheet.cell(row=row_id, column=column_id).value))\n",
    "    result = countStatisticsValue(data)\n",
    "    ans.append(result)\n",
    "    \n",
    "print(ans)"
   ]
  },
  {
   "cell_type": "code",
   "execution_count": null,
   "id": "8eb4eb09",
   "metadata": {},
   "outputs": [],
   "source": [
    "#HW3.讀取hr_data.xlsx，統計department中總共有多少部門。\n",
    "\n",
    "from openpyxl import load_workbook\n",
    "wb = load_workbook('input/hr_data.xlsx')\n",
    "sheet = wb.active\n",
    "\n",
    "department_name = set()\n",
    "for row_id in range(2,sheet.max_row+1):\n",
    "    #同樣數值會過濾掉，把這個 Set 儲存不重複部門\n",
    "    department_name.add(sheet.cell(row=row_id, column=10).value)\n",
    "\n",
    "print(department_name)"
   ]
  },
  {
   "cell_type": "code",
   "execution_count": null,
   "id": "4508eb71",
   "metadata": {},
   "outputs": [],
   "source": [
    "#HW4.讀取hr_data.xlsx，統計department中總共有多少部門，以及每個部門的資料人數。\n",
    "\n",
    "\n",
    "from openpyxl import load_workbook\n",
    "wb = load_workbook('input/hr_data.xlsx')\n",
    "sheet = wb.active\n",
    "\n",
    "department_name = {}\n",
    "for row_id in range(2,sheet.max_row+1):\n",
    "    dname = sheet.cell(row=row_id, column=10).value\n",
    "    \n",
    "    #檢查部門名稱(dname)是否有在department內，沒有的話定義1\n",
    "    if dname in department_name:\n",
    "        department_name[dname] += 1\n",
    "    else:\n",
    "        department_name[dname] = 1\n",
    "\n",
    "print(department_name)"
   ]
  },
  {
   "cell_type": "code",
   "execution_count": null,
   "id": "5fe1fe55",
   "metadata": {},
   "outputs": [],
   "source": [
    "#HW5.讀取hr_data.xlsx，average_montly_hours中列出最高前五名的加班時數值。\n",
    "from openpyxl import load_workbook\n",
    "wb = load_workbook('input/hr_data.xlsx')\n",
    "sheet = wb.active\n",
    "\n",
    "data = []\n",
    "for row_id in range(2,sheet.max_row+1):\n",
    "    #if blank\n",
    "    try:\n",
    "        data.append(int(sheet.cell(row=row_id, column=4).value))\n",
    "    except:\n",
    "        pass\n",
    "\n",
    "data.sort(reverse=True)\n",
    "top5 = data[0:5]\n",
    "\n",
    "print(top5)"
   ]
  },
  {
   "cell_type": "markdown",
   "id": "e9dfb18a",
   "metadata": {},
   "source": [
    "# CSV"
   ]
  },
  {
   "cell_type": "code",
   "execution_count": null,
   "id": "06f52324",
   "metadata": {},
   "outputs": [],
   "source": [
    "import csv\n",
    "csvfile = open('input/Iris.csv', newline='')\n",
    "rows = csv.reader(csvfile)\n",
    "rows"
   ]
  },
  {
   "cell_type": "code",
   "execution_count": null,
   "id": "6c091a96",
   "metadata": {},
   "outputs": [],
   "source": [
    "import csv\n",
    "csvfile = open('input/Iris.csv', newline='')\n",
    "rows = csv.reader(csvfile)\n",
    "# count = 0;\n",
    "data = []\n",
    "for row in rows:\n",
    "    data.append(row)\n",
    "#     print(row)\n",
    "#     count = count + 1\n",
    "#     if count > 5:\n",
    "#         break\n",
    "data[3][2]"
   ]
  },
  {
   "cell_type": "code",
   "execution_count": null,
   "id": "495c9d40",
   "metadata": {},
   "outputs": [],
   "source": [
    "import csv\n",
    "with open('input/names.csv', 'w', newline='') as csvfile:\n",
    "# csvfile = open('data/test/names.csv', 'w', newline='')\n",
    "    names = ['first_name', 'last_name']\n",
    "    writer = csv.DictWriter(csvfile, fieldnames=names)\n",
    "\n",
    "    writer.writeheader()\n",
    "    writer.writerow({'first_name': 'Baked', 'last_name': 'Beans'})\n",
    "    writer.writerow({'first_name': 'Lovely', 'last_name': 'Spam'})\n",
    "    writer.writerow({'first_name': 'Wonderful', 'last_name': 'Spam'})\n",
    "    print(\"write!\")\n",
    "\n",
    "print('END')"
   ]
  },
  {
   "cell_type": "code",
   "execution_count": null,
   "id": "38651a4c",
   "metadata": {},
   "outputs": [],
   "source": [
    "data = [['ABC', 'DEF'],['14','56'],['11','22']]\n",
    "\n",
    "f = open('input/test_sample.csv','w')\n",
    "for d in data:\n",
    "    i = 0\n",
    "    for n in d:\n",
    "        if i > 0:\n",
    "            f.write(',')\n",
    "        f.write('\"'+n+'\"')\n",
    "        i = i+1\n",
    "    f.write('\\n')\n",
    "f.close()\n",
    "print('END')"
   ]
  },
  {
   "cell_type": "markdown",
   "id": "23cb4a98",
   "metadata": {},
   "source": [
    "## Merge / Unmerge cells\n",
    "當您合併單元格時，除了左上角的所有單元格都將從工作表中刪除。 為了攜帶合併單元格的邊界信息，合併單元格的邊界單元格被創建為 MergeCells，其值始終為 None。 有關格式化合併單元格的信息，請參閱樣式合併單元格。"
   ]
  },
  {
   "cell_type": "code",
   "execution_count": null,
   "id": "e633f1d5",
   "metadata": {},
   "outputs": [],
   "source": [
    "from openpyxl.workbook import Workbook\n",
    "\n",
    "wb = Workbook()\n",
    "ws = wb.active\n",
    "\n",
    "ws.merge_cells('A2:D2')\n",
    "ws.unmerge_cells('A2:D2')\n",
    "\n",
    "# # or equivalently\n",
    "# ws.merge_cells(start_row=2, start_column=1, end_row=4, end_column=4)\n",
    "# ws.unmerge_cells(start_row=2, start_column=1, end_row=4, end_column=4)"
   ]
  },
  {
   "cell_type": "markdown",
   "id": "b53bf6a2",
   "metadata": {},
   "source": [
    "## 使用 Pandas 和 NumPy\n",
    "openpyxl 能夠與流行的庫 Pandas 和 NumPy 一起工作\n",
    "\n",
    "NumPy 支持\n",
    "openpyxl 內置了對 NumPy 類型浮點、整數和布爾值的支持。 使用 Pandas 的 Timestamp 類型支持 DateTimes。\n",
    "\n",
    "使用 Pandas 數據框\n",
    "openpyxl.utils.dataframe.dataframe_to_rows() 函數提供了一種使用 Pandas Dataframes 的簡單方法："
   ]
  },
  {
   "cell_type": "code",
   "execution_count": null,
   "id": "d46c276c",
   "metadata": {},
   "outputs": [],
   "source": [
    "from openpyxl.utils.dataframe import dataframe_to_rows\n",
    "wb = Workbook()\n",
    "ws = wb.active\n",
    "\n",
    "for r in dataframe_to_rows(df, index=True, header=True):\n",
    "    ws.append(r)\n"
   ]
  },
  {
   "cell_type": "markdown",
   "id": "38fc2964",
   "metadata": {},
   "source": [
    "雖然 Pandas 本身支持轉換為 Excel，但這為客戶端代碼提供了額外的靈活性，包括將數據幀直接流式傳輸到文件的能力。\n",
    "\n",
    "要將數據框轉換為突出顯示標題和索引的工作表："
   ]
  },
  {
   "cell_type": "code",
   "execution_count": null,
   "id": "5826b67e",
   "metadata": {},
   "outputs": [],
   "source": [
    "wb = Workbook()\n",
    "ws = wb.active\n",
    "\n",
    "for r in dataframe_to_rows(df, index=True, header=True):\n",
    "    ws.append(r)\n",
    "\n",
    "for cell in ws['A'] + ws[1]:\n",
    "    cell.style = 'Pandas'\n",
    "\n",
    "wb.save(\"pandas_openpyxl.xlsx\")"
   ]
  },
  {
   "cell_type": "markdown",
   "id": "2da96726",
   "metadata": {},
   "source": [
    "或者，如果您只想轉換數據，您可以使用只寫模式："
   ]
  },
  {
   "cell_type": "code",
   "execution_count": null,
   "id": "c81ab941",
   "metadata": {},
   "outputs": [],
   "source": [
    "from openpyxl.cell.cell import WriteOnlyCell\n",
    "wb = Workbook(write_only=True)\n",
    "ws = wb.create_sheet()\n",
    "\n",
    "cell = WriteOnlyCell(ws)\n",
    "cell.style = 'Pandas'\n",
    "\n",
    "def format_first_row(row, cell):\n",
    "\n",
    "    for c in row:\n",
    "        cell.value = c\n",
    "        yield cell\n",
    "\n",
    "rows = dataframe_to_rows(df)\n",
    "first_row = format_first_row(next(rows), cell)\n",
    "ws.append(first_row)\n",
    "\n",
    "for row in rows:\n",
    "    row = list(row)\n",
    "    cell.value = row[0]\n",
    "    row[0] = cell\n",
    "    ws.append(row)\n",
    "\n",
    "wb.save(\"openpyxl_stream.xlsx\")"
   ]
  },
  {
   "cell_type": "markdown",
   "id": "481d4680",
   "metadata": {},
   "source": [
    "## 將工作表轉換為數據框\n",
    "要將工作表轉換為數據框，您可以使用 values 屬性。 如果工作表沒有標題或索引，這很容易："
   ]
  },
  {
   "cell_type": "code",
   "execution_count": null,
   "id": "c17286ae",
   "metadata": {},
   "outputs": [],
   "source": [
    "import pandas as pd\n",
    "df = pd.DataFrame(ws.values)"
   ]
  },
  {
   "cell_type": "code",
   "execution_count": null,
   "id": "50cb3a61",
   "metadata": {},
   "outputs": [],
   "source": [
    "from itertools import islice\n",
    "data = ws.values\n",
    "cols = next(data)[1:]\n",
    "data = list(data)\n",
    "idx = [r[0] for r in data]\n",
    "data = (islice(r, 1, None) for r in data)\n",
    "df = DataFrame(data, index=idx, columns=cols)"
   ]
  }
 ],
 "metadata": {
  "kernelspec": {
   "display_name": "Python 3 (ipykernel)",
   "language": "python",
   "name": "python3"
  },
  "language_info": {
   "codemirror_mode": {
    "name": "ipython",
    "version": 3
   },
   "file_extension": ".py",
   "mimetype": "text/x-python",
   "name": "python",
   "nbconvert_exporter": "python",
   "pygments_lexer": "ipython3",
   "version": "3.9.7"
  }
 },
 "nbformat": 4,
 "nbformat_minor": 5
}
