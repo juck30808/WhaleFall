{
 "cells": [
  {
   "cell_type": "markdown",
   "id": "fd5d86fa",
   "metadata": {},
   "source": [
    "## 清空舊檔 Clear file"
   ]
  },
  {
   "cell_type": "code",
   "execution_count": 25,
   "id": "9575c691",
   "metadata": {},
   "outputs": [],
   "source": [
    "from openpyxl import Workbook\n",
    "wb = Workbook()\n",
    "wb.save(\"input/pyxl-chart.xlsx\")\n",
    "wb.save(\"input/pyxl-sample.xlsx\")"
   ]
  },
  {
   "cell_type": "markdown",
   "id": "a8e6894c",
   "metadata": {},
   "source": [
    "## Openpyxl create new file"
   ]
  },
  {
   "cell_type": "code",
   "execution_count": 29,
   "id": "cd94cf2d",
   "metadata": {},
   "outputs": [],
   "source": [
    "from openpyxl import Workbook\n",
    "import time\n",
    "\n",
    "book = Workbook()\n",
    "sheet = book.active\n",
    "\n",
    "sheet['A1'] = 56\n",
    "sheet['A2'] = 43\n",
    "\n",
    "now = time.strftime(\"%x\")\n",
    "sheet['A3'] = now\n",
    "\n",
    "book.save(\"input/pyxl-A.xlsx\")"
   ]
  },
  {
   "cell_type": "markdown",
   "id": "109b0967",
   "metadata": {},
   "source": [
    "## Openpyxl write to a cell"
   ]
  },
  {
   "cell_type": "code",
   "execution_count": 30,
   "id": "3e004e6f",
   "metadata": {},
   "outputs": [],
   "source": [
    "from openpyxl import Workbook\n",
    "\n",
    "book = Workbook()\n",
    "sheet = book.active\n",
    "\n",
    "sheet['A1'] = 1\n",
    "sheet.cell(row=2, column=2).value = 2\n",
    "\n",
    "book.save(\"input/pyxl-B.xlsx\")"
   ]
  },
  {
   "cell_type": "markdown",
   "id": "e5f4b1f7",
   "metadata": {},
   "source": [
    "## Openpyxl append values"
   ]
  },
  {
   "cell_type": "code",
   "execution_count": 37,
   "id": "3657c502",
   "metadata": {},
   "outputs": [
    {
     "name": "stdout",
     "output_type": "stream",
     "text": [
      "88 46 57 \n",
      "89 38 12 \n",
      "23 59 78 \n",
      "56 21 98 \n",
      "24 18 43 \n",
      "34 15 67 \n",
      "\n",
      "88 89 23 56 24 34 \n",
      "46 38 59 21 18 15 \n",
      "57 12 78 98 43 67 \n"
     ]
    }
   ],
   "source": [
    "from openpyxl import Workbook\n",
    "\n",
    "book = Workbook()\n",
    "sheet = book.active\n",
    "\n",
    "rows = ((88, 46, 57),\n",
    "        (89, 38, 12),\n",
    "        (23, 59, 78),\n",
    "        (56, 21, 98),\n",
    "        (24, 18, 43),\n",
    "        (34, 15, 67))\n",
    "\n",
    "for row in rows:\n",
    "    sheet.append(row)\n",
    "\n",
    "#print\n",
    "for row in sheet.iter_rows(min_row=1, min_col=1, max_row=6, max_col=3):\n",
    "    for cell in row:\n",
    "        print(cell.value, end=\" \")\n",
    "    print()    \n",
    "\n",
    "print() \n",
    "for row in sheet.iter_cols(min_row=1, min_col=1, max_row=6, max_col=3):\n",
    "    for cell in row:\n",
    "        print(cell.value, end=\" \")\n",
    "    print()    \n",
    "\n",
    "book.save('input/pyxl-C.xlsx')"
   ]
  },
  {
   "cell_type": "markdown",
   "id": "3ddc5dd6",
   "metadata": {},
   "source": [
    "## Openpyxl read cell"
   ]
  },
  {
   "cell_type": "code",
   "execution_count": 33,
   "id": "869e6201",
   "metadata": {},
   "outputs": [
    {
     "name": "stdout",
     "output_type": "stream",
     "text": [
      "88\n",
      "89\n",
      "23\n"
     ]
    }
   ],
   "source": [
    "import openpyxl\n",
    "\n",
    "book = openpyxl.load_workbook('input/pyxl-C.xlsx')\n",
    "\n",
    "sheet = book.active\n",
    "\n",
    "a1 = sheet['A1']\n",
    "a2 = sheet['A2']\n",
    "a3 = sheet.cell(row=3, column=1)\n",
    "\n",
    "print(a1.value)\n",
    "print(a2.value) \n",
    "print(a3.value)"
   ]
  },
  {
   "cell_type": "markdown",
   "id": "7e0022dc",
   "metadata": {},
   "source": [
    "## Openpyxl read multiple cells"
   ]
  },
  {
   "cell_type": "code",
   "execution_count": 34,
   "id": "32af665d",
   "metadata": {},
   "outputs": [
    {
     "name": "stdout",
     "output_type": "stream",
     "text": [
      "      88       46\n",
      "      89       38\n",
      "      23       59\n",
      "      56       21\n",
      "      24       18\n",
      "      34       15\n"
     ]
    }
   ],
   "source": [
    "import openpyxl\n",
    "\n",
    "book = openpyxl.load_workbook('input/pyxl-C.xlsx')\n",
    "sheet = book.active\n",
    "cells = sheet['A1': 'B6']\n",
    "\n",
    "for c1, c2 in cells:\n",
    "    print(\"{0:8} {1:8}\".format(c1.value, c2.value))"
   ]
  },
  {
   "cell_type": "markdown",
   "id": "e99ad665",
   "metadata": {},
   "source": [
    "## Statistics"
   ]
  },
  {
   "cell_type": "code",
   "execution_count": 40,
   "id": "778b1f6c",
   "metadata": {},
   "outputs": [
    {
     "name": "stdout",
     "output_type": "stream",
     "text": [
      "Number: 18\n",
      "Sum of: 866\n",
      "Minimum: 12\n",
      "Maximum: 98\n",
      "Mean: 48.111111111111114\n",
      "Median: 44.5\n",
      "Standard deviation: 27.4909373064457\n",
      "Variance: 755.751633986928\n"
     ]
    }
   ],
   "source": [
    "import openpyxl\n",
    "import statistics as stats\n",
    "\n",
    "book = openpyxl.load_workbook('input/pyxl-C.xlsx', data_only=True)\n",
    "sheet = book.active\n",
    "rows = sheet.rows\n",
    "values = []\n",
    "\n",
    "for row in rows:\n",
    "    for cell in row:\n",
    "        values.append(cell.value)\n",
    "\n",
    "print(\"Number: {0}\".format(len(values)))\n",
    "print(\"Sum of: {0}\".format(sum(values)))\n",
    "print(\"Minimum: {0}\".format(min(values)))\n",
    "print(\"Maximum: {0}\".format(max(values)))\n",
    "print(\"Mean: {0}\".format(stats.mean(values)))\n",
    "print(\"Median: {0}\".format(stats.median(values)))\n",
    "print(\"Standard deviation: {0}\".format(stats.stdev(values)))\n",
    "print(\"Variance: {0}\".format(stats.variance(values)))"
   ]
  },
  {
   "cell_type": "markdown",
   "id": "398e62d5",
   "metadata": {},
   "source": [
    "## Openpyxl filter & sort data"
   ]
  },
  {
   "cell_type": "code",
   "execution_count": 41,
   "id": "17ecc40c",
   "metadata": {},
   "outputs": [],
   "source": [
    "from openpyxl import Workbook\n",
    "\n",
    "wb = Workbook()\n",
    "sheet = wb.active\n",
    "\n",
    "data = [['Item', 'Colour'],\n",
    "        ['pen', 'brown'],\n",
    "        ['book', 'black'],\n",
    "        ['plate', 'white'],\n",
    "        ['chair', 'brown'],\n",
    "        ['coin', 'gold'],\n",
    "        ['bed', 'brown'],\n",
    "        ['notebook', 'white'],]\n",
    "\n",
    "for r in data:\n",
    "    sheet.append(r)\n",
    "\n",
    "sheet.auto_filter.ref = 'A1:B8'\n",
    "sheet.auto_filter.add_filter_column(1, ['brown', 'white'])\n",
    "sheet.auto_filter.add_sort_condition('B2:B8')\n",
    "\n",
    "wb.save('input/pyxl-D.xlsx')"
   ]
  },
  {
   "cell_type": "markdown",
   "id": "1cc6091f",
   "metadata": {},
   "source": [
    "## Openpyxl dimensions"
   ]
  },
  {
   "cell_type": "code",
   "execution_count": 42,
   "id": "e194d3bf",
   "metadata": {},
   "outputs": [
    {
     "name": "stdout",
     "output_type": "stream",
     "text": [
      "A3:B9\n",
      "Minimum row: 3\n",
      "Maximum row: 9\n",
      "Minimum column: 1\n",
      "Maximum column: 2\n",
      "39 19\n",
      "88 46\n",
      "89 38\n",
      "23 59\n",
      "56 21\n",
      "24 18\n",
      "34 15\n"
     ]
    }
   ],
   "source": [
    "from openpyxl import Workbook\n",
    "\n",
    "book = Workbook()\n",
    "sheet = book.active\n",
    "\n",
    "sheet['A3'] = 39\n",
    "sheet['B3'] = 19\n",
    "\n",
    "rows = [(88, 46),\n",
    "        (89, 38),\n",
    "        (23, 59),\n",
    "        (56, 21),\n",
    "        (24, 18),\n",
    "        (34, 15)]\n",
    "\n",
    "for row in rows:\n",
    "    sheet.append(row)\n",
    "\n",
    "print(sheet.dimensions)\n",
    "print(\"Minimum row: {0}\".format(sheet.min_row))\n",
    "print(\"Maximum row: {0}\".format(sheet.max_row))\n",
    "print(\"Minimum column: {0}\".format(sheet.min_column))\n",
    "print(\"Maximum column: {0}\".format(sheet.max_column))\n",
    "\n",
    "for c1, c2 in sheet[sheet.dimensions]:\n",
    "    print(c1.value, c2.value)\n",
    "\n",
    "book.save('input/pyxl-E.xlsx')"
   ]
  },
  {
   "cell_type": "markdown",
   "id": "3296e134",
   "metadata": {},
   "source": [
    "## Sheets"
   ]
  },
  {
   "cell_type": "code",
   "execution_count": null,
   "id": "2bd2b44b",
   "metadata": {},
   "outputs": [],
   "source": [
    "import openpyxl\n",
    "\n",
    "book = openpyxl.load_workbook('sheets.xlsx')\n",
    "print(book.get_sheet_names())\n",
    "\n",
    "active_sheet = book.active\n",
    "print(type(active_sheet))\n",
    "\n",
    "sheet = book.get_sheet_by_name(\"March\")\n",
    "print(sheet.title)"
   ]
  },
  {
   "cell_type": "code",
   "execution_count": null,
   "id": "459aefb2",
   "metadata": {},
   "outputs": [],
   "source": [
    "import openpyxl\n",
    "\n",
    "book = openpyxl.load_workbook('sheets.xlsx')\n",
    "book.create_sheet(\"April\")\n",
    "print(book.sheetnames)\n",
    "\n",
    "sheet1 = book.get_sheet_by_name(\"January\")\n",
    "book.remove_sheet(sheet1)\n",
    "print(book.sheetnames)\n",
    "\n",
    "book.create_sheet(\"January\", 0)\n",
    "print(book.sheetnames)\n",
    "\n",
    "book.save('sheets2.xlsx')"
   ]
  },
  {
   "cell_type": "code",
   "execution_count": null,
   "id": "a064454e",
   "metadata": {},
   "outputs": [],
   "source": [
    "import openpyxl\n",
    "\n",
    "book = openpyxl.load_workbook('sheets.xlsx')\n",
    "\n",
    "sheet = book.get_sheet_by_name(\"March\")\n",
    "sheet.sheet_properties.tabColor = \"0072BA\"\n",
    "\n",
    "book.save('sheets3.xlsx')"
   ]
  },
  {
   "cell_type": "markdown",
   "id": "3a5003bb",
   "metadata": {},
   "source": [
    "## Merging cells"
   ]
  },
  {
   "cell_type": "code",
   "execution_count": 43,
   "id": "068075fd",
   "metadata": {},
   "outputs": [],
   "source": [
    "from openpyxl import Workbook\n",
    "from openpyxl.styles import Alignment\n",
    "\n",
    "book = Workbook()\n",
    "sheet = book.active\n",
    "\n",
    "sheet.merge_cells('A1:B2')\n",
    "\n",
    "cell = sheet.cell(row=1, column=1)\n",
    "cell.value = 'Sunny day'\n",
    "cell.alignment = Alignment(horizontal='center', vertical='center')\n",
    "\n",
    "book.save('input/pyxl-E.xlsx')"
   ]
  },
  {
   "cell_type": "markdown",
   "id": "212b1ac5",
   "metadata": {},
   "source": [
    "## Openpyxl freeze panes"
   ]
  },
  {
   "cell_type": "code",
   "execution_count": 44,
   "id": "7a21c8cb",
   "metadata": {},
   "outputs": [],
   "source": [
    "from openpyxl import Workbook\n",
    "from openpyxl.styles import Alignment\n",
    "\n",
    "book = Workbook()\n",
    "sheet = book.active\n",
    "\n",
    "sheet.freeze_panes = 'B2'\n",
    "\n",
    "book.save('input/pyxl-F.xlsx')"
   ]
  },
  {
   "cell_type": "markdown",
   "id": "2d4d0a14",
   "metadata": {},
   "source": [
    "## Openpyxl formulas"
   ]
  },
  {
   "cell_type": "code",
   "execution_count": 45,
   "id": "5ff40e88",
   "metadata": {},
   "outputs": [
    {
     "name": "stderr",
     "output_type": "stream",
     "text": [
      "C:\\Users\\CTI110~1\\AppData\\Local\\Temp/ipykernel_10544/3176730964.py:18: DeprecationWarning: Call to deprecated function copy (Use copy(obj) or cell.obj = cell.obj + other).\n",
      "  cell.font = cell.font.copy(bold=True)\n"
     ]
    }
   ],
   "source": [
    "from openpyxl import Workbook\n",
    "\n",
    "book = Workbook()\n",
    "sheet = book.active\n",
    "\n",
    "rows = ((34, 26),\n",
    "        (88, 36),\n",
    "        (24, 29),\n",
    "        (15, 22),\n",
    "        (56, 13),\n",
    "        (76, 18))\n",
    "\n",
    "for row in rows:\n",
    "    sheet.append(row)\n",
    "\n",
    "cell = sheet.cell(row=7, column=2)\n",
    "cell.value = \"=SUM(A1:B6)\"\n",
    "cell.font = cell.font.copy(bold=True)\n",
    "\n",
    "book.save('input/pyxl-G.xlsx')"
   ]
  },
  {
   "cell_type": "markdown",
   "id": "5bd8b363",
   "metadata": {},
   "source": [
    "## Openpyxl images"
   ]
  },
  {
   "cell_type": "code",
   "execution_count": 65,
   "id": "af9a0b0f",
   "metadata": {},
   "outputs": [],
   "source": [
    "from openpyxl import Workbook\n",
    "from openpyxl.drawing.image import Image\n",
    "\n",
    "book = Workbook()\n",
    "sheet = book.active\n",
    "\n",
    "sheet['A1'] = 'This is Sid'\n",
    "sheet.add_image(Image(\"input/qrcode-A.jpg\"), 'B2')\n",
    "\n",
    "book.save('input/pyxl-H.xlsx')"
   ]
  },
  {
   "cell_type": "markdown",
   "id": "fb1e4e10",
   "metadata": {},
   "source": [
    "## Openpyxl Charts"
   ]
  },
  {
   "cell_type": "code",
   "execution_count": 47,
   "id": "e923f7f9",
   "metadata": {},
   "outputs": [],
   "source": [
    "from openpyxl import Workbook\n",
    "from openpyxl.chart import (Reference,Series,BarChart)\n",
    "\n",
    "book = Workbook()\n",
    "sheet = book.active\n",
    "\n",
    "rows = [(\"USA\", 46),(\"China\", 38),(\"UK\", 29),(\"Russia\", 22),(\"South Korea\", 13),(\"Germany\", 11)]\n",
    "\n",
    "for row in rows:\n",
    "    sheet.append(row)\n",
    "    \n",
    "data = Reference(sheet, min_col=2, min_row=1, max_col=2, max_row=6)\n",
    "categs = Reference(sheet, min_col=1, min_row=1, max_row=6)\n",
    "\n",
    "chart = BarChart()\n",
    "chart.add_data(data=data)\n",
    "chart.set_categories(categs)\n",
    "\n",
    "chart.legend = None\n",
    "chart.y_axis.majorGridlines = None\n",
    "chart.varyColors = True\n",
    "chart.title = \"Olympic Gold medals in London\"\n",
    "\n",
    "sheet.add_chart(chart, \"A8\")    \n",
    "\n",
    "book.save('input/pyxl-I.xlsx')"
   ]
  },
  {
   "cell_type": "markdown",
   "id": "637fa7dd",
   "metadata": {},
   "source": [
    "## DataFrame轉工作簿"
   ]
  },
  {
   "cell_type": "code",
   "execution_count": 60,
   "id": "e01ac540",
   "metadata": {},
   "outputs": [
    {
     "name": "stdout",
     "output_type": "stream",
     "text": [
      "姓名\n",
      "性別\n",
      "年齡\n"
     ]
    }
   ],
   "source": [
    "from openpyxl import Workbook\n",
    "from openpyxl.utils.dataframe import dataframe_to_rows\n",
    "from openpyxl.styles import Font \n",
    "from openpyxl.styles import Alignment \n",
    "import pandas as pd\n",
    "\n",
    "data = {\"Name\": [\"JerryA\", \"JerryB\"],\n",
    "        \"Sex\": [\"Boy\", \"Sex\"],\n",
    "        \"Age\": [15, 25],}\n",
    "df = pd.DataFrame(data)\n",
    "\n",
    "wb = Workbook()\n",
    "ws = wb.active\n",
    "\n",
    "for row in dataframe_to_rows(df, index=False, header=True):\n",
    "    ws.append(row)\n",
    "    \n",
    "font = Font(name=\"微軟雅黑\",size=10, bold=True,italic=False,color=\"FF0000\")\n",
    "alignment = Alignment(horizontal=\"center\",vertical=\"center\")\n",
    "    \n",
    "for i in range(1,df.shape[1]+1):\n",
    "    cell = ws.cell(row=1, column=i)\n",
    "    cell.font = font\n",
    "    cell.alignment = alignment\n",
    "    \n",
    "wb.save('input/pyxl-J.xlsx')"
   ]
  },
  {
   "cell_type": "markdown",
   "id": "4b691645",
   "metadata": {},
   "source": [
    "## 工作簿轉DataFrame"
   ]
  },
  {
   "cell_type": "code",
   "execution_count": 61,
   "id": "23298ecb",
   "metadata": {},
   "outputs": [
    {
     "data": {
      "text/html": [
       "<div>\n",
       "<style scoped>\n",
       "    .dataframe tbody tr th:only-of-type {\n",
       "        vertical-align: middle;\n",
       "    }\n",
       "\n",
       "    .dataframe tbody tr th {\n",
       "        vertical-align: top;\n",
       "    }\n",
       "\n",
       "    .dataframe thead th {\n",
       "        text-align: right;\n",
       "    }\n",
       "</style>\n",
       "<table border=\"1\" class=\"dataframe\">\n",
       "  <thead>\n",
       "    <tr style=\"text-align: right;\">\n",
       "      <th></th>\n",
       "      <th>0</th>\n",
       "      <th>1</th>\n",
       "      <th>2</th>\n",
       "    </tr>\n",
       "  </thead>\n",
       "  <tbody>\n",
       "    <tr>\n",
       "      <th>0</th>\n",
       "      <td>Name</td>\n",
       "      <td>Sex</td>\n",
       "      <td>Age</td>\n",
       "    </tr>\n",
       "    <tr>\n",
       "      <th>1</th>\n",
       "      <td>Jerry</td>\n",
       "      <td>Boy</td>\n",
       "      <td>15</td>\n",
       "    </tr>\n",
       "    <tr>\n",
       "      <th>2</th>\n",
       "      <td>Chien</td>\n",
       "      <td>Girl</td>\n",
       "      <td>25</td>\n",
       "    </tr>\n",
       "  </tbody>\n",
       "</table>\n",
       "</div>"
      ],
      "text/plain": [
       "       0     1    2\n",
       "0   Name   Sex  Age\n",
       "1  Jerry   Boy   15\n",
       "2  Chien  Girl   25"
      ]
     },
     "execution_count": 61,
     "metadata": {},
     "output_type": "execute_result"
    }
   ],
   "source": [
    "import pandas as pd\n",
    "from openpyxl import load_workbook\n",
    "\n",
    "workbook = load_workbook(filename=\"input/pyxl-J.xlsx\")\n",
    "sheet = workbook.active\n",
    "\n",
    "values = sheet.values\n",
    "df = pd.DataFrame(values)   \n",
    "df"
   ]
  },
  {
   "cell_type": "markdown",
   "id": "bf200e6b",
   "metadata": {},
   "source": [
    "## Struction of Workbook "
   ]
  },
  {
   "cell_type": "code",
   "execution_count": 27,
   "id": "bf4936bb",
   "metadata": {},
   "outputs": [
    {
     "name": "stdout",
     "output_type": "stream",
     "text": [
      "['Jerry']\n"
     ]
    }
   ],
   "source": [
    "from openpyxl import Workbook\n",
    "import datetime\n",
    "\n",
    "wb = Workbook()        # workbook (file)  Select\n",
    "ws = wb.active         # worksheet(sheet) Get first sheet。(defult = 0)\n",
    "ws.title = \"Jerry\"     # 未使用則自動命名 Sheet\n",
    "\n",
    "ws[\"A1\"] = \"Hello\"\n",
    "ws[\"A2\"] = \"World\"\n",
    "ws[\"A3\"] = \"is\"           #                     #A    #4\n",
    "ws[\"A4\"] = \"Jerry\"        # same: ws.cell(column=1, row=4, value=10)\n",
    "\n",
    "ws['B1'] = datetime.datetime(2022, 3, 12)\n",
    "ws[\"B2\"] = \"=SUM(1, 1)\"   # openpyxl 不計算公式\n",
    "\n",
    "ws.cell(row=2, column=9).value = 22\n",
    "ws['K1'].value = 11\n",
    "\n",
    "#插入和刪除行和列，移動單元格範圍  do_rows / do_cols\n",
    "ws.insert_rows(2)       #在 row(2)插入一行\n",
    "ws.delete_rows(4)       #在 row(4)刪除一行\n",
    "ws.move_range(\"B1:B4\", rows=0, cols=1) #向下移動 rows(x), 向右移動cols(y) 可負值\n",
    "\n",
    "# Grouping\n",
    "ws.column_dimensions.group('H','L', hidden=True)  #Group \n",
    "ws.row_dimensions.group(10,15, hidden=True)\n",
    "\n",
    "# Merge\n",
    "ws.merge_cells('A2:D2')\n",
    "ws.unmerge_cells('A2:D2')\n",
    "# # or equivalently\n",
    "# ws.merge_cells(start_row=2, start_column=1, end_row=4, end_column=4)\n",
    "# ws.unmerge_cells(start_row=2, start_column=1, end_row=4, end_column=4)\n",
    "\n",
    "wb.save(\"input/pyxl-sample.xlsx\")  # save workbook\n",
    "print(wb.sheetnames)  "
   ]
  },
  {
   "cell_type": "code",
   "execution_count": 23,
   "id": "2499d4eb",
   "metadata": {},
   "outputs": [
    {
     "name": "stdout",
     "output_type": "stream",
     "text": [
      "Hello\n",
      "('Hello',)\n",
      "(None,)\n",
      "('World',)\n",
      "('Jerry',)\n"
     ]
    }
   ],
   "source": [
    "from openpyxl import load_workbook\n",
    "\n",
    "wb = load_workbook(filename = 'input/pyxl-sample.xlsx')\n",
    "sheet = wb['Jerry']\n",
    "print(sheet['A1'].value)\n",
    "\n",
    "for row in ws.iter_rows(max_col=1, max_row=4, values_only=True):  #col:A  Row:4\n",
    "    print(row)"
   ]
  },
  {
   "cell_type": "code",
   "execution_count": 24,
   "id": "ff76f357",
   "metadata": {
    "scrolled": true
   },
   "outputs": [
    {
     "name": "stdout",
     "output_type": "stream",
     "text": [
      "['Jerry']\n",
      "Jerry\n",
      "Jerry\n",
      "2\n",
      "4\n",
      "None\n",
      "4\n",
      "11\n",
      "Row: World\n",
      "Row: None\n",
      "Row: =SUM(1, 1)\n",
      "Row: None\n",
      "Row: None\n",
      "Row: None\n",
      "Row: None\n",
      "Row: None\n",
      "Row: 22\n",
      "Row: None\n",
      "Row: None\n",
      "Col: 2022-03-12 00:00:00\n",
      "Col: None\n",
      "Col: =SUM(1, 1)\n",
      "Col: None\n"
     ]
    }
   ],
   "source": [
    "from openpyxl import load_workbook\n",
    "\n",
    "wb = load_workbook('input/pyxl-sample.xlsx')\n",
    "print(wb.sheetnames)    # sheet name\n",
    "\n",
    "a_sheet = wb['Jerry']   # Get Jerry sheet\n",
    "print(a_sheet.title)\n",
    "\n",
    "sheet = wb.active       # Get now active sheet\n",
    "print(sheet.title)\n",
    "\n",
    "cell = sheet['B4']\n",
    "print(cell.column) # B\n",
    "print(cell.row)    # 4\n",
    "print(cell.value)  # B4 = 4.7\n",
    "\n",
    "print(sheet.max_row)     # Max_row\n",
    "print(sheet.max_column)  # Max_col\n",
    "\n",
    "for cell in list(sheet.rows)[2]: #row A2 B2 C2 D2 E2\n",
    "    print(\"Row:\",cell.value)\n",
    "    \n",
    "for cell in list(sheet.columns)[2]: #Columns C1 C2 C3 C4 C5\n",
    "    print(\"Col:\",cell.value)"
   ]
  },
  {
   "cell_type": "markdown",
   "id": "6fae7169",
   "metadata": {},
   "source": [
    "## load_workbook 讀取\n",
    "\n",
    "與編寫方式相同，您可以使用 openpyxl.load_workbook() 打開現有工作簿： \n",
    "\n",
    "唯讀：有時需要打開或編寫非常大的 XLSX 文件，而 openpyxl 中的常用例程將無法處理該負載。 幸運的是，有兩種模式可以讓您讀取和寫入無限量的數據，而內存消耗（幾乎）恆定。 \n"
   ]
  },
  {
   "cell_type": "code",
   "execution_count": 6,
   "id": "be2523fb",
   "metadata": {},
   "outputs": [
    {
     "name": "stdout",
     "output_type": "stream",
     "text": [
      "['Jerry']\n"
     ]
    }
   ],
   "source": [
    "from openpyxl import load_workbook\n",
    "wb = load_workbook('input/pyxl-sample.xlsx')\n",
    "print(wb.sheetnames)"
   ]
  },
  {
   "cell_type": "code",
   "execution_count": 7,
   "id": "31e00c5d",
   "metadata": {},
   "outputs": [
    {
     "name": "stdout",
     "output_type": "stream",
     "text": [
      "2022-03-12 00:00:00\n",
      "None\n",
      "=SUM(1, 1)\n"
     ]
    }
   ],
   "source": [
    "from openpyxl import load_workbook\n",
    "wb = load_workbook('input/pyxl-sample.xlsx')\n",
    "sheet_rangers = wb['Jerry']\n",
    "print(sheet_rangers['C1'].value)\n",
    "print(sheet_rangers['C2'].value)\n",
    "print(sheet_rangers['C3'].value)"
   ]
  },
  {
   "cell_type": "code",
   "execution_count": 8,
   "id": "d69cdfc2",
   "metadata": {},
   "outputs": [
    {
     "name": "stdout",
     "output_type": "stream",
     "text": [
      "Hello\n",
      "None\n",
      "2022-03-12 00:00:00\n",
      "None\n",
      "None\n",
      "None\n",
      "None\n",
      "None\n",
      "None\n",
      "None\n",
      "11\n",
      "None\n",
      "None\n",
      "None\n",
      "None\n",
      "None\n",
      "None\n",
      "None\n",
      "None\n",
      "None\n",
      "None\n",
      "None\n",
      "World\n",
      "None\n",
      "=SUM(1, 1)\n",
      "None\n",
      "None\n",
      "None\n",
      "None\n",
      "None\n",
      "22\n",
      "None\n",
      "None\n",
      "Jerry\n",
      "None\n",
      "None\n",
      "None\n",
      "None\n",
      "None\n",
      "None\n",
      "None\n",
      "None\n",
      "None\n",
      "None\n"
     ]
    }
   ],
   "source": [
    "## 唯讀模式 read_only=True\n",
    "\n",
    "from openpyxl import load_workbook\n",
    "wb = load_workbook(filename='input/pyxl-sample.xlsx', read_only=False)  #read_only = True\n",
    "ws = wb['Jerry']\n",
    "\n",
    "for row in ws.rows:\n",
    "    for cell in row:\n",
    "        print(cell.value)\n",
    "\n",
    "# Close the workbook after read_only 唯讀工作簿使用延遲加載。 必須使用close()關閉工作簿。\n",
    "wb.close()"
   ]
  },
  {
   "cell_type": "markdown",
   "id": "bc0140d0",
   "metadata": {},
   "source": [
    "## Saving as a stream 串流儲存\n",
    "\n",
    "如果要將文件保存到stream中，例如 當使用 Pyramid、Flask 或 Django 等 Web 應用程序時，您可以簡單地提供一個 NamedTemporaryFile()："
   ]
  },
  {
   "cell_type": "code",
   "execution_count": 9,
   "id": "ef2cd4fc",
   "metadata": {},
   "outputs": [],
   "source": [
    "# #Saving as a stream 串流儲存\n",
    "\n",
    "# from tempfile import NamedTemporaryFile\n",
    "# from openpyxl import Workbook\n",
    "# wb = Workbook()\n",
    "# with NamedTemporaryFile() as tmp:\n",
    "#     wb.save(tmp.name)\n",
    "#     tmp.seek(0)\n",
    "#     stream = tmp.read()\n",
    "\n",
    "# #You can specify the attribute template=True, to save a workbook as a template:\n",
    "# wb = load_workbook('document.xlsx')\n",
    "# wb.template = True\n",
    "# wb.save('document_template.xltx')\n",
    "\n",
    "# wb = load_workbook('document_template.xltx')\n",
    "# wb.template = False\n",
    "# wb.save('document.xlsx', as_template=False)"
   ]
  },
  {
   "cell_type": "code",
   "execution_count": 10,
   "id": "6535db7b",
   "metadata": {},
   "outputs": [],
   "source": [
    "# # 唯寫模式\n",
    "# from openpyxl import Workbook\n",
    "# wb = Workbook(write_only=True)\n",
    "# ws = wb.create_sheet()\n",
    "\n",
    "# for irow in range(100):                             #fill it with 100 rows x 200 columns\n",
    "#     ws.append(['%d' % i for i in range(200)])\n",
    "    \n",
    "# wb.save('new_big_file.xlsx') # doctest: +SKIP"
   ]
  },
  {
   "cell_type": "markdown",
   "id": "db419fbb",
   "metadata": {},
   "source": [
    "## 新增 Sheet"
   ]
  },
  {
   "cell_type": "code",
   "execution_count": 11,
   "id": "b416e1aa",
   "metadata": {},
   "outputs": [
    {
     "name": "stdout",
     "output_type": "stream",
     "text": [
      "['Jerry', 'Apple', 'Amazon', 'Microsoft', 'Jerry Copy']\n"
     ]
    }
   ],
   "source": [
    "wb.create_sheet(\"Apple\",1)        # (\"Apple\")   insert the end (default)\n",
    "wb.create_sheet(\"Amazon\",2)       # (\"Apple\",-1)insert the penultimate position\n",
    "wb.create_sheet(\"Microsoft\",3)    # (\"Apple\",0) insert first position\n",
    "\n",
    "source = wb.active               #copy\n",
    "wb.copy_worksheet(source)\n",
    "\n",
    "wb.save(\"input/pyxl-sample.xlsx\")\n",
    "print(wb.sheetnames) "
   ]
  },
  {
   "cell_type": "code",
   "execution_count": 12,
   "id": "0ec8dae3",
   "metadata": {},
   "outputs": [
    {
     "name": "stdout",
     "output_type": "stream",
     "text": [
      "['Jerry', 'Apple', 'Amazon', 'Microsoft', 'Jerry Copy']\n"
     ]
    }
   ],
   "source": [
    "wsM = wb[\"Microsoft\"]  #Select sheet\n",
    "\n",
    "wsM[\"A1\"] = \"Cloud\"\n",
    "wsM[\"A2\"] = \"Computers\"\n",
    "wsM[\"A3\"] = \"Apps\"\n",
    "wsM[\"A4\"] = \"XboxGaming\"\n",
    "\n",
    "wb.save(\"input/pyxl-sample.xlsx\")\n",
    "print(wb.sheetnames)  "
   ]
  },
  {
   "cell_type": "code",
   "execution_count": 13,
   "id": "cc7752e8",
   "metadata": {
    "scrolled": false
   },
   "outputs": [
    {
     "name": "stdout",
     "output_type": "stream",
     "text": [
      "Jerry\n",
      "Apple\n",
      "Amazon\n",
      "Microsoft\n",
      "Jerry Copy\n"
     ]
    }
   ],
   "source": [
    "for sheet in wb:           #same print(wb.sheetnames)  \n",
    "    print(sheet.title)"
   ]
  },
  {
   "cell_type": "markdown",
   "id": "9a9795ea",
   "metadata": {},
   "source": [
    "## 新增圖片 Inserting an image"
   ]
  },
  {
   "cell_type": "code",
   "execution_count": null,
   "id": "2d38fbe2",
   "metadata": {},
   "outputs": [],
   "source": []
  },
  {
   "cell_type": "markdown",
   "id": "14a1a305",
   "metadata": {},
   "source": [
    "## 趨勢圖 Chart"
   ]
  },
  {
   "cell_type": "code",
   "execution_count": null,
   "id": "40dae049",
   "metadata": {},
   "outputs": [],
   "source": [
    "from openpyxl.chart import BarChart, Reference, Series \n",
    "\n",
    "wb = Workbook()\n",
    "ws = wb.active\n",
    "ws.title = \"BarChart\"     # 未使用則自動命名 Sheet\n",
    "\n",
    "\n",
    "for i in range(10) :\n",
    "    ws.append([i])\n",
    "    \n",
    "##\n",
    "chart = BarChart() \n",
    "values = Reference(ws, min_col=1, min_row=1, max_col=1, max_row=10)  # col & crow\n",
    "chart.add_data(values)\n",
    "\n",
    "ws.add_chart(chart, \"A5\")\n",
    "wb.save(\"input/pyxl-chart.xlsx\")\n",
    "print(wb.sheetnames)"
   ]
  },
  {
   "cell_type": "code",
   "execution_count": null,
   "id": "42f48a32",
   "metadata": {},
   "outputs": [],
   "source": [
    "from openpyxl.chart import PieChart3D, Reference\n",
    "\n",
    "wb.create_sheet(\"PieChart\")    # (\"Apple\",0) insert first position\n",
    "ws = wb[\"PieChart\"]\n",
    "\n",
    "data = [['Fruit', 'Sold'],['Apple', 10],['Berry', 30],['Cherry', 20],['Lemon', 40],]\n",
    "for row in data:\n",
    "    ws.append(row)\n",
    "\n",
    "##\n",
    "pie = PieChart3D()\n",
    "labels = Reference(ws, min_col=1, min_row=2, max_row=5)\n",
    "data = Reference(ws, min_col=2, min_row=1, max_row=5)\n",
    "\n",
    "pie.add_data(data, titles_from_data=True)\n",
    "pie.set_categories(labels)\n",
    "pie.title = \"Pies sold by category\"\n",
    "\n",
    "ws.add_chart(pie, \"D1\")\n",
    "wb.save(\"input/pyxl-chart.xlsx\")\n",
    "print(wb.sheetnames)"
   ]
  },
  {
   "cell_type": "code",
   "execution_count": null,
   "id": "38590ba8",
   "metadata": {},
   "outputs": [],
   "source": [
    "from openpyxl.chart import LineChart, Reference\n",
    "from openpyxl.chart.axis import DateAxis\n",
    "from datetime import date\n",
    "\n",
    "wb.create_sheet(\"LineChart\")    # (\"Apple\",0) insert first position\n",
    "ws = wb[\"LineChart\"]\n",
    "\n",
    "rows = [['Date', 'Luna 1', 'Luna 2', 'Luna 3'],\n",
    "        [date(2022,5, 11), 90, 30, 25],[date(2022,9, 2), 20, 25, 30],[date(2022,6, 3), 30, 30, 45],\n",
    "        [date(2022,5, 10), 40, 25, 40],[date(2022,9, 5), 55, 35, 30],[date(2022,7, 6), 60, 40, 35]]\n",
    "\n",
    "for row in rows:\n",
    "    ws.append(row)\n",
    "\n",
    "##\n",
    "c1 = LineChart()\n",
    "data = Reference(ws, min_col=2, min_row=1, max_col=4, max_row=7)\n",
    "c1.add_data(data, titles_from_data=True)\n",
    "\n",
    "c1.title = \"Line Chart\"\n",
    "c1.legend = None\n",
    "c1.style = 15\n",
    "c1.y_axis.title = 'Size'\n",
    "c1.x_axis.title = 'Test Number'\n",
    "\n",
    "ws.add_chart(c1, \"A10\")\n",
    "wb.save(\"input/pyxl-chart.xlsx\")\n",
    "print(wb.sheetnames)"
   ]
  },
  {
   "cell_type": "markdown",
   "id": "01a10690",
   "metadata": {},
   "source": [
    "## 樣式 Style font"
   ]
  },
  {
   "cell_type": "code",
   "execution_count": null,
   "id": "e249a420",
   "metadata": {},
   "outputs": [],
   "source": [
    "from openpyxl.styles import Font \n",
    "from openpyxl.styles.colors import Color\n",
    "\n",
    "ws['A1'].font = Font(color = \"FF0000\") # Set font\n",
    "ws['A1'] = \"Hello\"  # Set data\n",
    "wb.save(\"input/pyxl-chart.xlsx\") # Save file  "
   ]
  },
  {
   "cell_type": "markdown",
   "id": "8a27d80a",
   "metadata": {},
   "source": [
    "## 使用 Pandas 和 NumPy\n",
    "openpyxl 能夠與流行的庫 Pandas 和 NumPy 一起工作\n",
    "\n",
    "NumPy 支持 openpyxl 內置了對 NumPy 類型浮點、整數和布爾值的支持。 使用 Pandas 的 Timestamp 類型支持 DateTimes。\n",
    "\n",
    "使用 Pandas 數據框 openpyxl.utils.dataframe.dataframe_to_rows() 函數提供了一種使用 Pandas Dataframes 的簡單方法："
   ]
  },
  {
   "cell_type": "code",
   "execution_count": null,
   "id": "f9eb1b00",
   "metadata": {},
   "outputs": [],
   "source": [
    "import pandas as pd\n",
    "df = pd.read_csv('input/pyxl-df.csv', index_col=0)\n",
    "df"
   ]
  },
  {
   "cell_type": "code",
   "execution_count": null,
   "id": "f9905517",
   "metadata": {},
   "outputs": [],
   "source": [
    "from openpyxl.utils.dataframe import dataframe_to_rows\n",
    "from openpyxl.cell.cell import WriteOnlyCell\n",
    "\n",
    "wb = Workbook()\n",
    "ws1 = wb.active\n",
    "\n",
    "## Sheet1 轉換 dataFrame\n",
    "ws1.title = \"Pandas\"\n",
    "for r in dataframe_to_rows(df, index=True, header=True):\n",
    "    ws1.append(r)\n",
    "\n",
    "    \n",
    "## Sheet2 數據框轉換為突出顯示標題和索引的工作表：\n",
    "wb.create_sheet(\"Pandas2\")\n",
    "ws2 = wb[\"Pandas2\"]\n",
    "for r in dataframe_to_rows(df, index=True, header=True):\n",
    "    ws2.append(r)\n",
    "for cell in ws2['A'] + ws2[1]:\n",
    "    cell.style = 'Pandas'\n",
    "    \n",
    "    \n",
    "## Sheet3 只想轉換數據不要表頭資訊\n",
    "wb.create_sheet(\"Pandas3\")\n",
    "ws = wb[\"Pandas3\"]\n",
    "cell = WriteOnlyCell(ws)\n",
    "cell.style = 'Pandas'\n",
    "\n",
    "def format_first_row(row, cell):\n",
    "    for c in row:\n",
    "        cell.value = c\n",
    "        yield cell\n",
    "\n",
    "rows = dataframe_to_rows(df)\n",
    "first_row = format_first_row(next(rows), cell)\n",
    "ws.append(first_row)\n",
    "\n",
    "for row in rows:\n",
    "    row = list(row)\n",
    "    cell.value = row[0]\n",
    "    row[0] = cell\n",
    "    ws.append(row)\n",
    "\n",
    "wb.save(\"input/pyxl-pandas.xlsx\")\n",
    "print(wb.sheetnames)"
   ]
  },
  {
   "cell_type": "markdown",
   "id": "836a68b5",
   "metadata": {},
   "source": [
    "## Example"
   ]
  },
  {
   "cell_type": "code",
   "execution_count": null,
   "id": "5c0b57c9",
   "metadata": {},
   "outputs": [],
   "source": [
    "import csv\n",
    "with open('input/pyxl-names.csv', 'w', newline='') as csvfile:\n",
    "# csvfile = open('data/test/names.csv', 'w', newline='')\n",
    "    names = ['first_name', 'last_name']\n",
    "    writer = csv.DictWriter(csvfile, fieldnames=names)\n",
    "\n",
    "    writer.writeheader()\n",
    "    writer.writerow({'first_name': 'Baked', 'last_name': 'Beans'})\n",
    "    writer.writerow({'first_name': 'Lovely', 'last_name': 'Spam'})\n",
    "    writer.writerow({'first_name': 'Wonderful', 'last_name': 'Spam'})\n",
    "    print(\"write!\")\n",
    "\n",
    "print('END')"
   ]
  },
  {
   "cell_type": "code",
   "execution_count": null,
   "id": "869e6a50",
   "metadata": {},
   "outputs": [],
   "source": [
    "## Write a workbook\n",
    "from openpyxl import Workbook\n",
    "from openpyxl.utils import get_column_letter\n",
    "\n",
    "wb = Workbook()\n",
    "ws1 = wb.active\n",
    "ws1.title = \"rangeNames\"\n",
    "\n",
    "## range(x)\n",
    "for row in range(1, 40):\n",
    "    ws1.append(range(5))\n",
    "\n",
    "##Sheet2\n",
    "ws2 = wb.create_sheet(title=\"Pi\")\n",
    "ws2['F5'] = 3.14\n",
    "\n",
    "#Sheet3\n",
    "ws3 = wb.create_sheet(title=\"Data\")\n",
    "for row in range(10, 20):\n",
    "    for col in range(27, 54):\n",
    "        _ = ws3.cell(column=col, row=row, value=\"{0}\".format(get_column_letter(col)))\n",
    "\n",
    "print(ws3['AA10'].value)\n",
    "wb.save('input/pyxl-example.xlsx')"
   ]
  },
  {
   "cell_type": "code",
   "execution_count": null,
   "id": "23670c6d",
   "metadata": {},
   "outputs": [],
   "source": [
    "# Output Python File\n",
    "import openpyxl, pprint\n",
    "\n",
    "wb = openpyxl.load_workbook('input/pyxl-population.xlsx')\n",
    "sheet = wb.get_sheet_by_name('Population by Census Tract')\n",
    "countyData = {}\n",
    "\n",
    "# Fill in countyData with each county's population and tracts.\n",
    "print('Reading rows...')\n",
    "for row in range(2, sheet.max_row+ 1):\n",
    "    # Each row in the spreadsheet has data for one census tract.\n",
    "    state  = sheet['B' + str(row)].value\n",
    "    county = sheet['C' + str(row)].value\n",
    "    pop    = sheet['D' + str(row)].value\n",
    "\n",
    "    countyData.setdefault(state, {})  #check state\n",
    "    countyData[state].setdefault(county, {'tracts': 0, 'pop': 0})  #check country\n",
    "    countyData[state][county]['tracts'] += 1\n",
    "    countyData[state][county]['pop'] += int(pop)\n",
    "\n",
    "resultFile = open('openpyxl-population.py', 'w')\n",
    "resultFile.write('allData = ' + pprint.pformat(countyData))\n",
    "resultFile.close()\n",
    "print('Done.')"
   ]
  },
  {
   "cell_type": "code",
   "execution_count": null,
   "id": "d1ba5d66",
   "metadata": {},
   "outputs": [],
   "source": [
    "## produceSales update\n",
    "import openpyxl\n",
    "\n",
    "wb = openpyxl.load_workbook('input/pyxl-produceSales.xlsx')\n",
    "sheet = wb.get_sheet_by_name('Sheet')\n",
    "PRICE_UPDATES = {'Garlic': 3.07,'Celery': 1.19,'Lemon': 1.27}\n",
    "\n",
    "# Loop through the rows and update the prices.\n",
    "for rowNum in range(2, sheet.max_row): # skip the first row\n",
    "    produceName = sheet.cell(row=rowNum, column=1).value\n",
    "    if produceName in PRICE_UPDATES:\n",
    "        sheet.cell(row=rowNum, column=2).value = PRICE_UPDATES[produceName]\n",
    "\n",
    "wb.save('input/pyxl-produceSales2.xlsx')"
   ]
  },
  {
   "cell_type": "code",
   "execution_count": null,
   "id": "95c51497",
   "metadata": {},
   "outputs": [],
   "source": [
    "import openpyxl\n",
    "\n",
    "def invertCells(filename):\n",
    "    wb = openpyxl.load_workbook(filename)\n",
    "    sheet = wb.active\n",
    "    newSheet = wb.create_sheet(index=0, title='inverted')\n",
    "\n",
    "    for rowObj in sheet.rows:\n",
    "        for cellObj in rowObj:\n",
    "            colIndex = cellObj.column\n",
    "            rowIndex = cellObj.row\n",
    "            newSheet.cell(row=colIndex, column=rowIndex).value = cellObj.value\n",
    "    wb.save(filename)\n",
    "\n",
    "if __name__ == \"__main__\":\n",
    "    invertCells('input/pyxl-invertCells.xlsx')"
   ]
  },
  {
   "cell_type": "markdown",
   "id": "838e08f7",
   "metadata": {},
   "source": [
    "## Example - HR data"
   ]
  },
  {
   "cell_type": "code",
   "execution_count": null,
   "id": "8eb4eb09",
   "metadata": {},
   "outputs": [],
   "source": [
    "from openpyxl import load_workbook\n",
    "wb = load_workbook('input/pyxl-hr.xlsx')\n",
    "sheet = wb.active\n",
    "\n",
    "\n",
    "# 統計department中總共有多少部門。\n",
    "department_name = set()\n",
    "for row_id in range(2,sheet.max_row+1):\n",
    "    department_name.add(sheet.cell(row=row_id, column=10).value)  #過濾掉同值，把這個 Set 儲存不重複部門\n",
    "    \n",
    "print(department_name)\n",
    "\n",
    "\n",
    "# 統計department中總共有多少部門，以及每個部門的資料人數。\n",
    "department_name = {}\n",
    "for row_id in range(2,sheet.max_row+1):\n",
    "    dname = sheet.cell(row=row_id, column=10).value\n",
    "    \n",
    "    if dname in department_name:  #檢查部門名稱(dname)是否有在department內，沒有的話定義1\n",
    "        department_name[dname] += 1\n",
    "    else:\n",
    "        department_name[dname] = 1\n",
    "\n",
    "print(department_name)\n",
    "    \n",
    "\n",
    "# Average_montly_hours中列出最高前五名的加班時數值。\n",
    "data = []\n",
    "for row_id in range(2,sheet.max_row+1):\n",
    "    #if blank\n",
    "    try:\n",
    "        data.append(int(sheet.cell(row=row_id, column=4).value))\n",
    "    except:\n",
    "        pass\n",
    "\n",
    "data.sort(reverse=True)\n",
    "top5 = data[0:5]\n",
    "print(top5)"
   ]
  }
 ],
 "metadata": {
  "kernelspec": {
   "display_name": "Python 3 (ipykernel)",
   "language": "python",
   "name": "python3"
  },
  "language_info": {
   "codemirror_mode": {
    "name": "ipython",
    "version": 3
   },
   "file_extension": ".py",
   "mimetype": "text/x-python",
   "name": "python",
   "nbconvert_exporter": "python",
   "pygments_lexer": "ipython3",
   "version": "3.9.7"
  }
 },
 "nbformat": 4,
 "nbformat_minor": 5
}
