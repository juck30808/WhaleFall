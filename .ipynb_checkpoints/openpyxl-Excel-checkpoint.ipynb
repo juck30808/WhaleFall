{
 "cells": [
  {
   "cell_type": "markdown",
   "id": "fd5d86fa",
   "metadata": {},
   "source": [
    "## 清空舊檔 Clear file"
   ]
  },
  {
   "cell_type": "code",
   "execution_count": 4,
   "id": "9575c691",
   "metadata": {},
   "outputs": [],
   "source": [
    "from openpyxl import Workbook\n",
    "wb = Workbook()\n",
    "wb.save(\"input/pyxl-chart.xlsx\")\n",
    "wb.save(\"input/pyxl-sample.xlsx\")"
   ]
  },
  {
   "cell_type": "markdown",
   "id": "bf200e6b",
   "metadata": {},
   "source": [
    "## Struction of Workbook "
   ]
  },
  {
   "cell_type": "code",
   "execution_count": 5,
   "id": "565dc89b",
   "metadata": {
    "scrolled": true
   },
   "outputs": [
    {
     "name": "stdout",
     "output_type": "stream",
     "text": [
      "Requirement already satisfied: openpyxl in c:\\users\\cti110016\\anaconda3\\lib\\site-packages (3.0.9)\n",
      "Requirement already satisfied: et-xmlfile in c:\\users\\cti110016\\anaconda3\\lib\\site-packages (from openpyxl) (1.1.0)\n",
      "Requirement already satisfied: datetime in c:\\users\\cti110016\\anaconda3\\lib\\site-packages (4.4)\n",
      "Requirement already satisfied: zope.interface in c:\\users\\cti110016\\anaconda3\\lib\\site-packages (from datetime) (5.4.0)\n",
      "Requirement already satisfied: pytz in c:\\users\\cti110016\\anaconda3\\lib\\site-packages (from datetime) (2021.3)\n",
      "Requirement already satisfied: setuptools in c:\\users\\cti110016\\anaconda3\\lib\\site-packages (from zope.interface->datetime) (62.6.0)\n"
     ]
    }
   ],
   "source": [
    "!pip install openpyxl\n",
    "!pip install datetime"
   ]
  },
  {
   "cell_type": "code",
   "execution_count": 6,
   "id": "bf4936bb",
   "metadata": {},
   "outputs": [
    {
     "name": "stdout",
     "output_type": "stream",
     "text": [
      "['Jerry']\n"
     ]
    }
   ],
   "source": [
    "from openpyxl import Workbook\n",
    "import datetime\n",
    "\n",
    "wb = Workbook()        # workbook (file)  Select\n",
    "ws = wb.active         # worksheet(sheet) Get first sheet。(defult = 0)\n",
    "ws.title = \"Jerry\"     # 未使用則自動命名 Sheet\n",
    "\n",
    "ws[\"A1\"] = \"Hello\"\n",
    "ws[\"A2\"] = \"World\"\n",
    "ws[\"A3\"] = \"is\"           #                     #A    #4\n",
    "ws[\"A4\"] = \"Jerry\"        # same: ws.cell(column=1, row=4, value=10)\n",
    "\n",
    "ws['B1'] = datetime.datetime(2022, 3, 12)\n",
    "ws[\"B2\"] = \"=SUM(1, 1)\"   # openpyxl 不計算公式\n",
    "\n",
    "ws.cell(row=2, column=9).value = 22\n",
    "ws['K1'].value = 11\n",
    "\n",
    "#插入和刪除行和列，移動單元格範圍  do_rows / do_cols\n",
    "ws.insert_rows(2)       #在 row(2)插入一行\n",
    "ws.delete_rows(4)       #在 row(4)刪除一行\n",
    "ws.move_range(\"B1:B4\", rows=0, cols=1) #向下移動 rows(x), 向右移動cols(y) 可負值\n",
    "\n",
    "# Grouping\n",
    "ws.column_dimensions.group('H','L', hidden=True)  #Group \n",
    "ws.row_dimensions.group(10,15, hidden=True)\n",
    "\n",
    "# Merge\n",
    "ws.merge_cells('A2:D2')\n",
    "ws.unmerge_cells('A2:D2')\n",
    "# # or equivalently\n",
    "# ws.merge_cells(start_row=2, start_column=1, end_row=4, end_column=4)\n",
    "# ws.unmerge_cells(start_row=2, start_column=1, end_row=4, end_column=4)\n",
    "\n",
    "wb.save(\"input/pyxl-sample.xlsx\")  # save workbook\n",
    "print(wb.sheetnames)  "
   ]
  },
  {
   "cell_type": "code",
   "execution_count": null,
   "id": "2499d4eb",
   "metadata": {},
   "outputs": [],
   "source": [
    "from openpyxl import load_workbook\n",
    "\n",
    "wb = load_workbook(filename = 'input/pyxl-sample.xlsx')\n",
    "sheet = wb['Jerry']\n",
    "print(sheet['A1'].value)\n",
    "\n",
    "for row in ws.iter_rows(max_col=1, max_row=4, values_only=True):  #col:A  Row:4\n",
    "    print(row)"
   ]
  },
  {
   "cell_type": "code",
   "execution_count": null,
   "id": "ff76f357",
   "metadata": {},
   "outputs": [],
   "source": [
    "from openpyxl import load_workbook\n",
    "\n",
    "wb = load_workbook('input/pyxl-sample.xlsx')\n",
    "print(wb.sheetnames)    # sheet name\n",
    "\n",
    "a_sheet = wb['Jerry']   # Get Jerry sheet\n",
    "print(a_sheet.title)\n",
    "\n",
    "sheet = wb.active       # Get now active sheet\n",
    "print(sheet.title)\n",
    "\n",
    "cell = sheet['B4']\n",
    "print(cell.column) # B\n",
    "print(cell.row)    # 4\n",
    "print(cell.value)  # B4 = 4.7\n",
    "\n",
    "print(sheet.max_row)     # Max_row\n",
    "print(sheet.max_column)  # Max_col\n",
    "\n",
    "for cell in list(sheet.rows)[2]: #row A2 B2 C2 D2 E2\n",
    "    print(\"Row:\",cell.value)\n",
    "    \n",
    "for cell in list(sheet.columns)[2]: #Columns C1 C2 C3 C4 C5\n",
    "    print(\"Col:\",cell.value)"
   ]
  },
  {
   "cell_type": "markdown",
   "id": "6fae7169",
   "metadata": {},
   "source": [
    "## load_workbook 讀取\n",
    "\n",
    "與編寫方式相同，您可以使用 openpyxl.load_workbook() 打開現有工作簿： \n",
    "\n",
    "唯讀：有時需要打開或編寫非常大的 XLSX 文件，而 openpyxl 中的常用例程將無法處理該負載。 幸運的是，有兩種模式可以讓您讀取和寫入無限量的數據，而內存消耗（幾乎）恆定。 \n"
   ]
  },
  {
   "cell_type": "code",
   "execution_count": null,
   "id": "be2523fb",
   "metadata": {},
   "outputs": [],
   "source": [
    "from openpyxl import load_workbook\n",
    "wb = load_workbook('input/pyxl-sample.xlsx')\n",
    "print(wb.sheetnames)"
   ]
  },
  {
   "cell_type": "code",
   "execution_count": null,
   "id": "31e00c5d",
   "metadata": {},
   "outputs": [],
   "source": [
    "from openpyxl import load_workbook\n",
    "wb = load_workbook('input/pyxl-sample.xlsx')\n",
    "sheet_rangers = wb['Jerry']\n",
    "print(sheet_rangers['C1'].value)\n",
    "print(sheet_rangers['C2'].value)\n",
    "print(sheet_rangers['C3'].value)"
   ]
  },
  {
   "cell_type": "code",
   "execution_count": null,
   "id": "d69cdfc2",
   "metadata": {},
   "outputs": [],
   "source": [
    "## 唯讀模式 read_only=True\n",
    "\n",
    "from openpyxl import load_workbook\n",
    "wb = load_workbook(filename='input/pyxl-sample.xlsx', read_only=False)  #read_only = True\n",
    "ws = wb['Jerry']\n",
    "\n",
    "for row in ws.rows:\n",
    "    for cell in row:\n",
    "        print(cell.value)\n",
    "\n",
    "# Close the workbook after read_only 唯讀工作簿使用延遲加載。 必須使用close()關閉工作簿。\n",
    "wb.close()"
   ]
  },
  {
   "cell_type": "markdown",
   "id": "bc0140d0",
   "metadata": {},
   "source": [
    "## Saving as a stream 串流儲存\n",
    "\n",
    "如果要將文件保存到stream中，例如 當使用 Pyramid、Flask 或 Django 等 Web 應用程序時，您可以簡單地提供一個 NamedTemporaryFile()："
   ]
  },
  {
   "cell_type": "code",
   "execution_count": null,
   "id": "ef2cd4fc",
   "metadata": {},
   "outputs": [],
   "source": [
    "# #Saving as a stream 串流儲存\n",
    "\n",
    "# from tempfile import NamedTemporaryFile\n",
    "# from openpyxl import Workbook\n",
    "# wb = Workbook()\n",
    "# with NamedTemporaryFile() as tmp:\n",
    "#     wb.save(tmp.name)\n",
    "#     tmp.seek(0)\n",
    "#     stream = tmp.read()\n",
    "\n",
    "# #You can specify the attribute template=True, to save a workbook as a template:\n",
    "# wb = load_workbook('document.xlsx')\n",
    "# wb.template = True\n",
    "# wb.save('document_template.xltx')\n",
    "\n",
    "# wb = load_workbook('document_template.xltx')\n",
    "# wb.template = False\n",
    "# wb.save('document.xlsx', as_template=False)"
   ]
  },
  {
   "cell_type": "code",
   "execution_count": null,
   "id": "6535db7b",
   "metadata": {},
   "outputs": [],
   "source": [
    "# # 唯寫模式\n",
    "# from openpyxl import Workbook\n",
    "# wb = Workbook(write_only=True)\n",
    "# ws = wb.create_sheet()\n",
    "\n",
    "# for irow in range(100):                             #fill it with 100 rows x 200 columns\n",
    "#     ws.append(['%d' % i for i in range(200)])\n",
    "    \n",
    "# wb.save('new_big_file.xlsx') # doctest: +SKIP"
   ]
  },
  {
   "cell_type": "markdown",
   "id": "db419fbb",
   "metadata": {},
   "source": [
    "## 新增 Sheet"
   ]
  },
  {
   "cell_type": "code",
   "execution_count": null,
   "id": "b416e1aa",
   "metadata": {},
   "outputs": [],
   "source": [
    "wb.create_sheet(\"Apple\",1)        # (\"Apple\")   insert the end (default)\n",
    "wb.create_sheet(\"Amazon\",2)       # (\"Apple\",-1)insert the penultimate position\n",
    "wb.create_sheet(\"Microsoft\",3)    # (\"Apple\",0) insert first position\n",
    "\n",
    "source = wb.active               #copy\n",
    "wb.copy_worksheet(source)\n",
    "\n",
    "wb.save(\"input/pyxl-sample.xlsx\")\n",
    "print(wb.sheetnames) "
   ]
  },
  {
   "cell_type": "code",
   "execution_count": null,
   "id": "0ec8dae3",
   "metadata": {},
   "outputs": [],
   "source": [
    "wsM = wb[\"Microsoft\"]  #Select sheet\n",
    "\n",
    "wsM[\"A1\"] = \"Cloud\"\n",
    "wsM[\"A2\"] = \"Computers\"\n",
    "wsM[\"A3\"] = \"Apps\"\n",
    "wsM[\"A4\"] = \"XboxGaming\"\n",
    "\n",
    "wb.save(\"input/pyxl-sample.xlsx\")\n",
    "print(wb.sheetnames)  "
   ]
  },
  {
   "cell_type": "code",
   "execution_count": null,
   "id": "cc7752e8",
   "metadata": {
    "scrolled": false
   },
   "outputs": [],
   "source": [
    "for sheet in wb:           #same print(wb.sheetnames)  \n",
    "    print(sheet.title)"
   ]
  },
  {
   "cell_type": "markdown",
   "id": "9a9795ea",
   "metadata": {},
   "source": [
    "## 新增圖片 Inserting an image"
   ]
  },
  {
   "cell_type": "code",
   "execution_count": null,
   "id": "2d38fbe2",
   "metadata": {},
   "outputs": [],
   "source": [
    "from openpyxl import Workbook \n",
    "from openpyxl.drawing.image import Image \n",
    "\n",
    "wb.create_sheet(\"ImgSheet\",-1)    # (\"Apple\",0) insert first position\n",
    "ws = wb[\"ImgSheet\"]\n",
    "\n",
    "ws.add_image(Image('input/cat.jpg'), 'E4')\n",
    "ws.add_image(Image('input/shark.jpg'), 'A1')\n",
    "\n",
    "ws['H1'] = 'You should see three logos below'    #Inserting an image\n",
    "ws.add_image(Image('input/grass.png'), 'H2')\n",
    "\n",
    "wb.save('input/pyxl-sample.xlsx')\n",
    "print(wb.sheetnames)"
   ]
  },
  {
   "cell_type": "markdown",
   "id": "14a1a305",
   "metadata": {},
   "source": [
    "## 趨勢圖 Chart"
   ]
  },
  {
   "cell_type": "code",
   "execution_count": null,
   "id": "40dae049",
   "metadata": {},
   "outputs": [],
   "source": [
    "from openpyxl.chart import BarChart, Reference, Series \n",
    "\n",
    "wb = Workbook()\n",
    "ws = wb.active\n",
    "ws.title = \"BarChart\"     # 未使用則自動命名 Sheet\n",
    "\n",
    "\n",
    "for i in range(10) :\n",
    "    ws.append([i])\n",
    "    \n",
    "##\n",
    "chart = BarChart() \n",
    "values = Reference(ws, min_col=1, min_row=1, max_col=1, max_row=10)  # col & crow\n",
    "chart.add_data(values)\n",
    "\n",
    "ws.add_chart(chart, \"A5\")\n",
    "wb.save(\"input/pyxl-chart.xlsx\")\n",
    "print(wb.sheetnames)"
   ]
  },
  {
   "cell_type": "code",
   "execution_count": null,
   "id": "42f48a32",
   "metadata": {},
   "outputs": [],
   "source": [
    "from openpyxl.chart import PieChart3D, Reference\n",
    "\n",
    "wb.create_sheet(\"PieChart\")    # (\"Apple\",0) insert first position\n",
    "ws = wb[\"PieChart\"]\n",
    "\n",
    "data = [['Fruit', 'Sold'],['Apple', 10],['Berry', 30],['Cherry', 20],['Lemon', 40],]\n",
    "for row in data:\n",
    "    ws.append(row)\n",
    "\n",
    "##\n",
    "pie = PieChart3D()\n",
    "labels = Reference(ws, min_col=1, min_row=2, max_row=5)\n",
    "data = Reference(ws, min_col=2, min_row=1, max_row=5)\n",
    "\n",
    "pie.add_data(data, titles_from_data=True)\n",
    "pie.set_categories(labels)\n",
    "pie.title = \"Pies sold by category\"\n",
    "\n",
    "ws.add_chart(pie, \"D1\")\n",
    "wb.save(\"input/pyxl-chart.xlsx\")\n",
    "print(wb.sheetnames)"
   ]
  },
  {
   "cell_type": "code",
   "execution_count": null,
   "id": "38590ba8",
   "metadata": {},
   "outputs": [],
   "source": [
    "from openpyxl.chart import LineChart, Reference\n",
    "from openpyxl.chart.axis import DateAxis\n",
    "from datetime import date\n",
    "\n",
    "wb.create_sheet(\"LineChart\")    # (\"Apple\",0) insert first position\n",
    "ws = wb[\"LineChart\"]\n",
    "\n",
    "rows = [['Date', 'Luna 1', 'Luna 2', 'Luna 3'],\n",
    "        [date(2022,5, 11), 90, 30, 25],[date(2022,9, 2), 20, 25, 30],[date(2022,6, 3), 30, 30, 45],\n",
    "        [date(2022,5, 10), 40, 25, 40],[date(2022,9, 5), 55, 35, 30],[date(2022,7, 6), 60, 40, 35]]\n",
    "\n",
    "for row in rows:\n",
    "    ws.append(row)\n",
    "\n",
    "##\n",
    "c1 = LineChart()\n",
    "data = Reference(ws, min_col=2, min_row=1, max_col=4, max_row=7)\n",
    "c1.add_data(data, titles_from_data=True)\n",
    "\n",
    "c1.title = \"Line Chart\"\n",
    "c1.legend = None\n",
    "c1.style = 15\n",
    "c1.y_axis.title = 'Size'\n",
    "c1.x_axis.title = 'Test Number'\n",
    "\n",
    "ws.add_chart(c1, \"A10\")\n",
    "wb.save(\"input/pyxl-chart.xlsx\")\n",
    "print(wb.sheetnames)"
   ]
  },
  {
   "cell_type": "markdown",
   "id": "01a10690",
   "metadata": {},
   "source": [
    "## 樣式 Style font"
   ]
  },
  {
   "cell_type": "code",
   "execution_count": null,
   "id": "e249a420",
   "metadata": {},
   "outputs": [],
   "source": [
    "from openpyxl.styles import Font \n",
    "from openpyxl.styles.colors import Color\n",
    "\n",
    "ws['A1'].font = Font(color = \"FF0000\") # Set font\n",
    "ws['A1'] = \"Hello\"  # Set data\n",
    "wb.save(\"input/pyxl-chart.xlsx\") # Save file  "
   ]
  },
  {
   "cell_type": "markdown",
   "id": "8a27d80a",
   "metadata": {},
   "source": [
    "## 使用 Pandas 和 NumPy\n",
    "openpyxl 能夠與流行的庫 Pandas 和 NumPy 一起工作\n",
    "\n",
    "NumPy 支持 openpyxl 內置了對 NumPy 類型浮點、整數和布爾值的支持。 使用 Pandas 的 Timestamp 類型支持 DateTimes。\n",
    "\n",
    "使用 Pandas 數據框 openpyxl.utils.dataframe.dataframe_to_rows() 函數提供了一種使用 Pandas Dataframes 的簡單方法："
   ]
  },
  {
   "cell_type": "code",
   "execution_count": null,
   "id": "f9eb1b00",
   "metadata": {},
   "outputs": [],
   "source": [
    "import pandas as pd\n",
    "df = pd.read_csv('input/pyxl-df.csv', index_col=0)\n",
    "df"
   ]
  },
  {
   "cell_type": "code",
   "execution_count": null,
   "id": "f9905517",
   "metadata": {},
   "outputs": [],
   "source": [
    "from openpyxl.utils.dataframe import dataframe_to_rows\n",
    "from openpyxl.cell.cell import WriteOnlyCell\n",
    "\n",
    "wb = Workbook()\n",
    "ws1 = wb.active\n",
    "\n",
    "## Sheet1 轉換 dataFrame\n",
    "ws1.title = \"Pandas\"\n",
    "for r in dataframe_to_rows(df, index=True, header=True):\n",
    "    ws1.append(r)\n",
    "\n",
    "    \n",
    "## Sheet2 數據框轉換為突出顯示標題和索引的工作表：\n",
    "wb.create_sheet(\"Pandas2\")\n",
    "ws2 = wb[\"Pandas2\"]\n",
    "for r in dataframe_to_rows(df, index=True, header=True):\n",
    "    ws2.append(r)\n",
    "for cell in ws2['A'] + ws2[1]:\n",
    "    cell.style = 'Pandas'\n",
    "    \n",
    "    \n",
    "## Sheet3 只想轉換數據不要表頭資訊\n",
    "wb.create_sheet(\"Pandas3\")\n",
    "ws = wb[\"Pandas3\"]\n",
    "cell = WriteOnlyCell(ws)\n",
    "cell.style = 'Pandas'\n",
    "\n",
    "def format_first_row(row, cell):\n",
    "    for c in row:\n",
    "        cell.value = c\n",
    "        yield cell\n",
    "\n",
    "rows = dataframe_to_rows(df)\n",
    "first_row = format_first_row(next(rows), cell)\n",
    "ws.append(first_row)\n",
    "\n",
    "for row in rows:\n",
    "    row = list(row)\n",
    "    cell.value = row[0]\n",
    "    row[0] = cell\n",
    "    ws.append(row)\n",
    "\n",
    "wb.save(\"input/pyxl-pandas.xlsx\")\n",
    "print(wb.sheetnames)"
   ]
  },
  {
   "cell_type": "markdown",
   "id": "836a68b5",
   "metadata": {},
   "source": [
    "## Example"
   ]
  },
  {
   "cell_type": "code",
   "execution_count": null,
   "id": "5c0b57c9",
   "metadata": {},
   "outputs": [],
   "source": [
    "import csv\n",
    "with open('input/pyxl-names.csv', 'w', newline='') as csvfile:\n",
    "# csvfile = open('data/test/names.csv', 'w', newline='')\n",
    "    names = ['first_name', 'last_name']\n",
    "    writer = csv.DictWriter(csvfile, fieldnames=names)\n",
    "\n",
    "    writer.writeheader()\n",
    "    writer.writerow({'first_name': 'Baked', 'last_name': 'Beans'})\n",
    "    writer.writerow({'first_name': 'Lovely', 'last_name': 'Spam'})\n",
    "    writer.writerow({'first_name': 'Wonderful', 'last_name': 'Spam'})\n",
    "    print(\"write!\")\n",
    "\n",
    "print('END')"
   ]
  },
  {
   "cell_type": "code",
   "execution_count": null,
   "id": "869e6a50",
   "metadata": {},
   "outputs": [],
   "source": [
    "## Write a workbook\n",
    "from openpyxl import Workbook\n",
    "from openpyxl.utils import get_column_letter\n",
    "\n",
    "wb = Workbook()\n",
    "ws1 = wb.active\n",
    "ws1.title = \"rangeNames\"\n",
    "\n",
    "## range(x)\n",
    "for row in range(1, 40):\n",
    "    ws1.append(range(5))\n",
    "\n",
    "##Sheet2\n",
    "ws2 = wb.create_sheet(title=\"Pi\")\n",
    "ws2['F5'] = 3.14\n",
    "\n",
    "#Sheet3\n",
    "ws3 = wb.create_sheet(title=\"Data\")\n",
    "for row in range(10, 20):\n",
    "    for col in range(27, 54):\n",
    "        _ = ws3.cell(column=col, row=row, value=\"{0}\".format(get_column_letter(col)))\n",
    "\n",
    "print(ws3['AA10'].value)\n",
    "wb.save('input/pyxl-example.xlsx')"
   ]
  },
  {
   "cell_type": "code",
   "execution_count": null,
   "id": "23670c6d",
   "metadata": {},
   "outputs": [],
   "source": [
    "# Output Python File\n",
    "import openpyxl, pprint\n",
    "\n",
    "wb = openpyxl.load_workbook('input/pyxl-population.xlsx')\n",
    "sheet = wb.get_sheet_by_name('Population by Census Tract')\n",
    "countyData = {}\n",
    "\n",
    "# Fill in countyData with each county's population and tracts.\n",
    "print('Reading rows...')\n",
    "for row in range(2, sheet.max_row+ 1):\n",
    "    # Each row in the spreadsheet has data for one census tract.\n",
    "    state  = sheet['B' + str(row)].value\n",
    "    county = sheet['C' + str(row)].value\n",
    "    pop    = sheet['D' + str(row)].value\n",
    "\n",
    "    countyData.setdefault(state, {})  #check state\n",
    "    countyData[state].setdefault(county, {'tracts': 0, 'pop': 0})  #check country\n",
    "    countyData[state][county]['tracts'] += 1\n",
    "    countyData[state][county]['pop'] += int(pop)\n",
    "\n",
    "resultFile = open('openpyxl-population.py', 'w')\n",
    "resultFile.write('allData = ' + pprint.pformat(countyData))\n",
    "resultFile.close()\n",
    "print('Done.')"
   ]
  },
  {
   "cell_type": "code",
   "execution_count": null,
   "id": "d1ba5d66",
   "metadata": {},
   "outputs": [],
   "source": [
    "## produceSales update\n",
    "import openpyxl\n",
    "\n",
    "wb = openpyxl.load_workbook('input/pyxl-produceSales.xlsx')\n",
    "sheet = wb.get_sheet_by_name('Sheet')\n",
    "PRICE_UPDATES = {'Garlic': 3.07,'Celery': 1.19,'Lemon': 1.27}\n",
    "\n",
    "# Loop through the rows and update the prices.\n",
    "for rowNum in range(2, sheet.max_row): # skip the first row\n",
    "    produceName = sheet.cell(row=rowNum, column=1).value\n",
    "    if produceName in PRICE_UPDATES:\n",
    "        sheet.cell(row=rowNum, column=2).value = PRICE_UPDATES[produceName]\n",
    "\n",
    "wb.save('input/pyxl-produceSales2.xlsx')"
   ]
  },
  {
   "cell_type": "code",
   "execution_count": null,
   "id": "95c51497",
   "metadata": {},
   "outputs": [],
   "source": [
    "import openpyxl\n",
    "\n",
    "def invertCells(filename):\n",
    "    wb = openpyxl.load_workbook(filename)\n",
    "    sheet = wb.active\n",
    "    newSheet = wb.create_sheet(index=0, title='inverted')\n",
    "\n",
    "    for rowObj in sheet.rows:\n",
    "        for cellObj in rowObj:\n",
    "            colIndex = cellObj.column\n",
    "            rowIndex = cellObj.row\n",
    "            newSheet.cell(row=colIndex, column=rowIndex).value = cellObj.value\n",
    "    wb.save(filename)\n",
    "\n",
    "if __name__ == \"__main__\":\n",
    "    invertCells('input/pyxl-invertCells.xlsx')"
   ]
  },
  {
   "cell_type": "markdown",
   "id": "838e08f7",
   "metadata": {},
   "source": [
    "## Example - HR data"
   ]
  },
  {
   "cell_type": "code",
   "execution_count": null,
   "id": "8eb4eb09",
   "metadata": {},
   "outputs": [],
   "source": [
    "from openpyxl import load_workbook\n",
    "wb = load_workbook('input/pyxl-hr.xlsx')\n",
    "sheet = wb.active\n",
    "\n",
    "\n",
    "# 統計department中總共有多少部門。\n",
    "department_name = set()\n",
    "for row_id in range(2,sheet.max_row+1):\n",
    "    department_name.add(sheet.cell(row=row_id, column=10).value)  #過濾掉同值，把這個 Set 儲存不重複部門\n",
    "    \n",
    "print(department_name)\n",
    "\n",
    "\n",
    "# 統計department中總共有多少部門，以及每個部門的資料人數。\n",
    "department_name = {}\n",
    "for row_id in range(2,sheet.max_row+1):\n",
    "    dname = sheet.cell(row=row_id, column=10).value\n",
    "    \n",
    "    if dname in department_name:  #檢查部門名稱(dname)是否有在department內，沒有的話定義1\n",
    "        department_name[dname] += 1\n",
    "    else:\n",
    "        department_name[dname] = 1\n",
    "\n",
    "print(department_name)\n",
    "    \n",
    "\n",
    "# Average_montly_hours中列出最高前五名的加班時數值。\n",
    "data = []\n",
    "for row_id in range(2,sheet.max_row+1):\n",
    "    #if blank\n",
    "    try:\n",
    "        data.append(int(sheet.cell(row=row_id, column=4).value))\n",
    "    except:\n",
    "        pass\n",
    "\n",
    "data.sort(reverse=True)\n",
    "top5 = data[0:5]\n",
    "print(top5)"
   ]
  }
 ],
 "metadata": {
  "kernelspec": {
   "display_name": "Python 3 (ipykernel)",
   "language": "python",
   "name": "python3"
  },
  "language_info": {
   "codemirror_mode": {
    "name": "ipython",
    "version": 3
   },
   "file_extension": ".py",
   "mimetype": "text/x-python",
   "name": "python",
   "nbconvert_exporter": "python",
   "pygments_lexer": "ipython3",
   "version": "3.9.7"
  }
 },
 "nbformat": 4,
 "nbformat_minor": 5
}
