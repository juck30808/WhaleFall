{
 "cells": [
  {
   "cell_type": "code",
   "execution_count": 1,
   "metadata": {},
   "outputs": [
    {
     "name": "stdout",
     "output_type": "stream",
     "text": [
      "Press ENTER to begin. Afterwards, press ENTER to \"click\" the stopwatch. Press Ctrl-C to quit.\n",
      "\n",
      "Started.\n",
      "\n",
      "Lap # 1:   0.89  (  0.89)\n",
      "Lap # 2:   1.52  (  0.63)\n",
      "Lap # 3:   2.06  (  0.54)\n",
      "Lap # 4:   2.51  (  0.45)\n",
      "Lap # 5:   2.71  (   0.2)\n",
      "Lap # 6:   2.94  (  0.22)\n",
      "Lap # 7:   3.14  (   0.2)a\n",
      "Lap # 8:   6.34  (   3.2)\n",
      "Lap # 9:   8.61  (  2.27)\n",
      "Lap #10:   8.92  (  0.31)\n",
      "Lap #11:   9.31  (  0.38)\n",
      "Lap #12:   9.74  (  0.43)\n",
      "Lap #13:   9.98  (  0.25)\n",
      "Lap #14:  10.25  (  0.27)\n",
      "Lap #15:   10.5  (  0.25)\n",
      "Lap #16:  10.68  (  0.18)\n",
      "Lap #17:  10.91  (  0.22)\n",
      "Lap #18:  11.15  (  0.25)\n",
      "Lap #19:  11.31  (  0.16)\n",
      "Lap #20:  11.56  (  0.25)\n",
      "Lap #21:  11.74  (  0.18)\n",
      "Lap #22:  11.96  (  0.23)\n",
      "Lap #23:  12.17  (   0.2)\n",
      "Lap #24:  12.39  (  0.23)\n",
      "Lap #25:  12.59  (   0.2)\n",
      "Lap #26:   12.8  (   0.2)\n",
      "Lap #27:   13.0  (   0.2)\n",
      "Lap #28:   13.2  (   0.2)\n",
      "Lap #29:   13.4  (   0.2)\n",
      "Lap #30:  13.94  (  0.54)\n",
      "Done.\n",
      "Results available in clipboard\n"
     ]
    }
   ],
   "source": [
    "import time\n",
    "import pyperclip\n",
    "\n",
    "def stopwatch():\n",
    "    # Display the program's instructions.\n",
    "    print('Press ENTER to begin. Afterwards, press ENTER to \"click\" the stopwatch. Press Ctrl-C to quit.')\n",
    "    input()                    # press Enter to begin\n",
    "    print('Started.')\n",
    "    clip = ''\n",
    "    startTime = time.time()    # get the first lap's start time\n",
    "    lastTime = startTime\n",
    "    lapNum = 1\n",
    "\n",
    "    try:\n",
    "        while True:\n",
    "            input()\n",
    "            lapTime = round(time.time() - lastTime, 2)\n",
    "            totalTime = round(time.time() - startTime, 2)\n",
    "            info = 'Lap #%s: %s (%s)' % (str(lapNum).rjust(2), str(totalTime).center(7), str(lapTime).rjust(6))\n",
    "            clip += info + '\\n'\n",
    "            print(info, end='')\n",
    "            lapNum += 1\n",
    "            lastTime = time.time() # reset the last lap time\n",
    "    except KeyboardInterrupt:\n",
    "        pyperclip.copy(clip)\n",
    "        print('\\nDone.')\n",
    "        print('Results available in clipboard')\n",
    "\n",
    "\n",
    "if __name__ == \"__main__\":\n",
    "    stopwatch()"
   ]
  },
  {
   "cell_type": "code",
   "execution_count": null,
   "metadata": {},
   "outputs": [],
   "source": []
  }
 ],
 "metadata": {
  "kernelspec": {
   "display_name": "Python 3 (ipykernel)",
   "language": "python",
   "name": "python3"
  },
  "language_info": {
   "codemirror_mode": {
    "name": "ipython",
    "version": 3
   },
   "file_extension": ".py",
   "mimetype": "text/x-python",
   "name": "python",
   "nbconvert_exporter": "python",
   "pygments_lexer": "ipython3",
   "version": "3.9.7"
  }
 },
 "nbformat": 4,
 "nbformat_minor": 4
}
