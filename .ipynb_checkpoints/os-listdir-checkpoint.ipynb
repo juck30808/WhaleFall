{
 "cells": [
  {
   "cell_type": "code",
   "execution_count": 17,
   "metadata": {},
   "outputs": [
    {
     "name": "stdout",
     "output_type": "stream",
     "text": [
      "all done\n"
     ]
    }
   ],
   "source": [
    "import os\n",
    "import shutil\n",
    "\n",
    "#current_dir = os.path.dirname(os.path.realpath(__file__))\n",
    "current_dir = os.path.dirname('C:/Users/cti110016/Documents/GitHub/WhaleFall/input')\n",
    "\n",
    "for filename in os.listdir(current_dir):\n",
    "\n",
    "    if filename.endswith(('.jpg', '.png', '.gif')):\n",
    "        if not os.path.exists(\"Images\"): \n",
    "            os.makedirs('Images')\n",
    "        shutil.copy(filename, 'Images')\n",
    "        os.remove(filename)\n",
    "        print('Images folder done')\n",
    "\n",
    "    \n",
    "    if filename.endswith(('.pdf', '.docx')):\n",
    "        if not os.path.exists(\"Documents\"): \n",
    "            os.makedirs('Documents')\n",
    "        shutil.copy(filename, 'Documents')\n",
    "        os.remove(filename)\n",
    "        print('Documents folder done')\n",
    "\n",
    "    \n",
    "    if filename.endswith(('.apk', '.exe')):\n",
    "        if not os.path.exists(\"Apps\"): \n",
    "            os.makedirs('Apps')\n",
    "        shutil.copy(filename, 'Apps')\n",
    "        os.remove(filename)\n",
    "        print('Apps folder done')\n",
    "\n",
    "    if filename.endswith(('.mp4', '.wmv')):\n",
    "        if not os.path.exists(\"Videos\"): \n",
    "            os.makedirs('Videos')\n",
    "        shutil.copy(filename, 'Videos')\n",
    "        os.remove(filename)\n",
    "        print('Videos folder done')\n",
    "\n",
    "print('all done')"
   ]
  },
  {
   "cell_type": "markdown",
   "metadata": {},
   "source": [
    "## Move Read Write"
   ]
  },
  {
   "cell_type": "code",
   "execution_count": 18,
   "metadata": {},
   "outputs": [
    {
     "name": "stdout",
     "output_type": "stream",
     "text": [
      "C:\\Users\\cti110016\\Documents\\GitHub\\WhaleFall\n"
     ]
    },
    {
     "data": {
      "text/plain": [
       "'Hello world!\\nHow are you?'"
      ]
     },
     "execution_count": 18,
     "metadata": {},
     "output_type": "execute_result"
    }
   ],
   "source": [
    "import os\n",
    "print(os.getcwd()) #for now\n",
    "\n",
    "helloFile = open(\"input/mew.txt\")  \n",
    "helloFile.read()       #'Hello world!\\nHow are you?'\n",
    "#helloFile.close()"
   ]
  },
  {
   "cell_type": "code",
   "execution_count": 19,
   "metadata": {},
   "outputs": [
    {
     "data": {
      "text/plain": [
       "['Hello world!\\n', 'How are you?']"
      ]
     },
     "execution_count": 19,
     "metadata": {},
     "output_type": "execute_result"
    }
   ],
   "source": [
    "helloFile = open(\"input/mew.txt\")  \n",
    "helloFile.readlines()  #['Hello world!\\n', 'How are you?']\n",
    "#helloFile.close()"
   ]
  },
  {
   "cell_type": "code",
   "execution_count": 21,
   "metadata": {},
   "outputs": [
    {
     "data": {
      "text/plain": [
       "'input/move/mew-copy.txt'"
      ]
     },
     "execution_count": 21,
     "metadata": {},
     "output_type": "execute_result"
    }
   ],
   "source": [
    "import shutil\n",
    "shutil.copy('input/mew.txt', 'input/mew-copy.txt')\n",
    "shutil.move('input/mew-copy.txt','input/move/')"
   ]
  },
  {
   "cell_type": "code",
   "execution_count": 22,
   "metadata": {},
   "outputs": [],
   "source": [
    "#! python3\n",
    "\n",
    "import docx\n",
    "def getText(filename):\n",
    "    doc = docx.Document(filename)\n",
    "    fullText = []\n",
    "    for para in doc.paragraphs:\n",
    "        fullText.append(para.text)\n",
    "    return '\\n\\n'.join(fullText)"
   ]
  },
  {
   "cell_type": "code",
   "execution_count": 23,
   "metadata": {},
   "outputs": [],
   "source": [
    "import shelve, pyperclip, sys\n",
    "\n",
    "mcbShelf = shelve.open('mcb')\n",
    "\n",
    "# Save clipboard content.\n",
    "if len(sys.argv) == 3 and sys.argv[1].lower() == 'save':\n",
    "        mcbShelf[sys.argv[2]] = pyperclip.paste()\n",
    "elif len(sys.argv) == 2:\n",
    "# List keywords and load content.\n",
    "    if sys.argv[1].lower() == 'list':\n",
    "        pyperclip.copy(str(list(mcbShelf.keys())))\n",
    "    elif sys.argv[1] in mcbShelf:\n",
    "        pyperclip.copy(mcbShelf[sys.argv[1]])\n",
    "\n",
    "mcbShelf.close()"
   ]
  },
  {
   "cell_type": "markdown",
   "metadata": {},
   "source": [
    "##  quiz data. Keys are states and values are their capitals."
   ]
  },
  {
   "cell_type": "code",
   "execution_count": 27,
   "metadata": {},
   "outputs": [],
   "source": [
    "import random\n",
    "\n",
    "capitals = {'Alabama': 'Montgomery', 'Alaska': 'Juneau', 'Arizona': 'Phoenix', 'Arkansas': 'Little Rock', 'California': 'Sacramento', 'Colorado': 'Denver', 'Connecticut': 'Hartford', 'Delaware': 'Dover', 'Florida': 'Tallahassee', 'Georgia': 'Atlanta', 'Hawaii': 'Honolulu', 'Idaho': 'Boise', 'Illinois': 'Springfield', 'Indiana': 'Indianapolis', 'Iowa': 'Des Moines', 'Kansas': 'Topeka', 'Kentucky': 'Frankfort', 'Louisiana': 'Baton Rouge', 'Maine': 'Augusta', 'Maryland': 'Annapolis', 'Massachusetts': 'Boston', 'Michigan': 'Lansing', 'Minnesota': 'Saint Paul', 'Mississippi': 'Jackson', 'Missouri': 'Jefferson City', 'Montana': 'Helena', 'Nebraska': 'Lincoln', 'Nevada': 'Carson City', 'New Hampshire': 'Concord', 'New Jersey': 'Trenton', 'New Mexico': 'Santa Fe', 'New York': 'Albany', 'North Carolina': 'Raleigh', 'North Dakota': 'Bismarck', 'Ohio': 'Columbus', 'Oklahoma': 'Oklahoma City', 'Oregon': 'Salem', 'Pennsylvania': 'Harrisburg', 'Rhode Island': 'Providence', 'South Carolina': 'Columbia', 'South Dakota': 'Pierre', 'Tennessee': 'Nashville', 'Texas': 'Austin', 'Utah': 'Salt Lake City', 'Vermont': 'Montpelier', 'Virginia': 'Richmond', 'Washington': 'Olympia', 'West Virginia': 'Charleston', 'Wisconsin': 'Madison', 'Wyoming': 'Cheyenne'}\n",
    "capitalsItems = list(capitals.items())\n",
    "\n",
    "# Generate 35 quiz files.\n",
    "for quizNum in range(35): \n",
    "    # Create the quiz and answer key files.\n",
    "    quizFile = open('output/capitals/capitalsquiz%s.txt' % (quizNum + 1), 'w')\n",
    "    answerKeyFile = open('output/capitals/capitalsquiz_answers%s.txt' % (quizNum + 1), 'w')\n",
    "\n",
    "    # Write out the header for the quiz.\n",
    "    quizFile.write('Name:\\n\\nDate:\\n\\nPeriod:\\n\\n')\n",
    "    quizFile.write((' ' * 20) + 'State Capitals Quiz (Form %s)' % (quizNum + 1))\n",
    "    quizFile.write('\\n\\n')\n",
    "\n",
    "    # Shuffle the order of the states.\n",
    "    states = list(capitals.keys()) # get all states in a list\n",
    "    random.shuffle(states) # randomize the order of the states\n",
    "\n",
    "    for questionNum in range(50):\n",
    "        correctAnswer = capitals[states[questionNum]]\n",
    "        wrongAnswers = list(capitals.values()) # get a complete list of answers\n",
    "        del wrongAnswers[wrongAnswers.index(correctAnswer)] # remove the right answer\n",
    "        wrongAnswers = random.sample(wrongAnswers, 3) # pick 3 random ones\n",
    "\n",
    "        answerOptions = wrongAnswers + [correctAnswer]\n",
    "        random.shuffle(answerOptions) # randomize the order of the answers\n",
    "\n",
    "        # Write the question and answer options to the quiz file.\n",
    "        quizFile.write('%s. What is the capital of %s?\\n' % (questionNum + 1, states[questionNum]))\n",
    "        for i in range(4):\n",
    "            quizFile.write('    %s. %s\\n' % ('ABCD'[i], answerOptions[i]))\n",
    "        quizFile.write('\\n')\n",
    "\n",
    "        # Write out the answer key to a file.\n",
    "        answerKeyFile.write('%s. %s\\n' % (questionNum + 1, 'ABCD'[answerOptions.index(correctAnswer)]))\n",
    "    quizFile.close()\n",
    "    answerKeyFile.close()\n"
   ]
  },
  {
   "cell_type": "markdown",
   "metadata": {},
   "source": [
    "## Organizing Files"
   ]
  },
  {
   "cell_type": "code",
   "execution_count": 32,
   "metadata": {},
   "outputs": [
    {
     "name": "stdout",
     "output_type": "stream",
     "text": [
      "Creating delicious_1.zip...\n",
      "Done.\n"
     ]
    }
   ],
   "source": [
    "import zipfile, os\n",
    "def backupToZip(folder):\n",
    "    # Backup the entire contents of \"folder\" into a zip file.\n",
    "    folder = os.path.abspath(folder) # make sure folder is absolute\n",
    "    number = 1\n",
    "    while True:\n",
    "        zipFilename = os.path.basename(folder) + '_' + str(number) + '.zip'\n",
    "        if not os.path.exists(zipFilename):\n",
    "            break\n",
    "        number = number + 1\n",
    "\n",
    "    # Create the zip file.\n",
    "    print('Creating %s...' % (zipFilename))\n",
    "    backupZip = zipfile.ZipFile(zipFilename, 'w')\n",
    "\n",
    "    # Walk the entire folder tree and compress the files in each folder.\n",
    "    for foldername, subfolders, filenames in os.walk(folder):\n",
    "        print('Adding files in %s...' % (foldername))\n",
    "        # Add the current folder to the ZIP file.\n",
    "        backupZip.write(foldername)\n",
    "\n",
    "        # Add all the files in this folder to the ZIP file.\n",
    "        for filename in filenames:\n",
    "            if filename.startswith(os.path.basename(folder) + '_') and filename.endswith('.zip'):\n",
    "                continue # don't backup the backup ZIP files\n",
    "            backupZip.write(os.path.join(foldername, filename))\n",
    "    backupZip.close()\n",
    "    print('Done.')\n",
    "\n",
    "backupToZip('delicious')"
   ]
  },
  {
   "cell_type": "code",
   "execution_count": 33,
   "metadata": {},
   "outputs": [],
   "source": [
    "import shutil, os, re\n",
    "datePattern = re.compile(r\"\"\"^(.*?) # all text before the date\n",
    "    ((0|1)?\\d)- # one or two digits for the month\n",
    "    ((0|1|2|3)?\\d)- # one or two digits for the day\n",
    "    ((19|20)\\d\\d) # four digits for the year (must start with 19 or 20)\n",
    "    (.*?)$ # all text after the date\n",
    "    \"\"\", re.VERBOSE)\n",
    "\n",
    "# Loop over the files in the working directory.\n",
    "for amerFilename in os.listdir('.'):\n",
    "    mo = datePattern.search(amerFilename)\n",
    "\n",
    "    # Skip files without a date.\n",
    "    if mo == None:\n",
    "        continue\n",
    "\n",
    "    # Get the different parts of the filename.\n",
    "    beforePart = mo.group(1)\n",
    "    monthPart  = mo.group(2)\n",
    "    dayPart    = mo.group(4)\n",
    "    yearPart   = mo.group(6)\n",
    "    afterPart  = mo.group(8)\n",
    "\n",
    "    # Form the European-style filename.\n",
    "    euroFilename = beforePart + dayPart + '-' + monthPart + '-' + yearPart + afterPart\n",
    "\n",
    "    # Get the full, absolute file paths.\n",
    "    absWorkingDir = os.path.abspath('.')\n",
    "    amerFilename = os.path.join(absWorkingDir, amerFilename)\n",
    "    euroFilename = os.path.join(absWorkingDir, euroFilename)\n",
    "\n",
    "    # Rename the files.\n",
    "    print('Renaming \"%s\" to \"%s\"...' % (amerFilename, euroFilename))\n",
    "    #shutil.move(amerFilename, euroFilename) # uncomment after testing"
   ]
  },
  {
   "cell_type": "code",
   "execution_count": null,
   "metadata": {},
   "outputs": [],
   "source": []
  }
 ],
 "metadata": {
  "kernelspec": {
   "display_name": "Python 3",
   "language": "python",
   "name": "python3"
  },
  "language_info": {
   "codemirror_mode": {
    "name": "ipython",
    "version": 3
   },
   "file_extension": ".py",
   "mimetype": "text/x-python",
   "name": "python",
   "nbconvert_exporter": "python",
   "pygments_lexer": "ipython3",
   "version": "3.8.5"
  }
 },
 "nbformat": 4,
 "nbformat_minor": 5
}
