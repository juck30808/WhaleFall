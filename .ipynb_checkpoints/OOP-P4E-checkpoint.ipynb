{
 "cells": [
  {
   "cell_type": "code",
   "execution_count": 1,
   "metadata": {},
   "outputs": [
    {
     "name": "stdout",
     "output_type": "stream",
     "text": [
      "<class '__main__.FirstClass'>\n"
     ]
    }
   ],
   "source": [
    "# Create a class named FirstClass\n",
    "class FirstClass:\n",
    "    a = 10\n",
    "print(FirstClass)\n",
    "  "
   ]
  },
  {
   "cell_type": "code",
   "execution_count": 2,
   "metadata": {},
   "outputs": [
    {
     "name": "stdout",
     "output_type": "stream",
     "text": [
      "Terry\n",
      "40\n"
     ]
    }
   ],
   "source": [
    "# build class named Person and use init\n",
    "class Person:\n",
    "    def __init__(self, name, age):\n",
    "        self.name = name\n",
    "        self.age = age\n",
    "obj1 = Person(\"Terry\", 40)\n",
    "\n",
    "print(obj1.name)\n",
    "print(obj1.age)"
   ]
  },
  {
   "cell_type": "code",
   "execution_count": 3,
   "metadata": {},
   "outputs": [
    {
     "name": "stdout",
     "output_type": "stream",
     "text": [
      "Hi, my name is: Terry\n"
     ]
    }
   ],
   "source": [
    "# creating a greeting function and execute it on the object\n",
    "class Person:\n",
    "    def __init__(self, name, age):\n",
    "        self.name = name\n",
    "        self.age = age\n",
    "\n",
    "    def firstfunc(self):\n",
    "        print(\"Hi, my name is: \" + self.name)\n",
    "\n",
    "obj1 = Person(\"Terry\", 40)\n",
    "obj1.firstfunc()\n"
   ]
  },
  {
   "cell_type": "code",
   "execution_count": 5,
   "metadata": {},
   "outputs": [],
   "source": [
    "# Modifying Object Properties \n",
    "class Person:\n",
    "    def __init__(self, name, age):\n",
    "        self.name = name\n",
    "        self.age = age\n",
    "    \n",
    "    def firstFunc(self):\n",
    "        print(\"Hi, my name is: \" + self.name)\n",
    "\n",
    "obj1 = Person(\"Terry\", 36)\n",
    "\n",
    "# obj1.age = 50\n",
    "# obj1.name = \"Jack\"\n",
    "\n",
    "# print(obj1.age)\n",
    "# print(obj1.name)\n",
    "\n",
    "# del obj1.age\n",
    "# print(obj1.age)\n"
   ]
  },
  {
   "cell_type": "code",
   "execution_count": 6,
   "metadata": {},
   "outputs": [
    {
     "name": "stdout",
     "output_type": "stream",
     "text": [
      "10\n"
     ]
    }
   ],
   "source": [
    "# create first object\n",
    "class FirstClass:\n",
    "    x = 10\n",
    "\n",
    "obj1 = FirstClass()\n",
    "print(obj1.x)\n"
   ]
  },
  {
   "cell_type": "markdown",
   "metadata": {},
   "source": [
    "## ex2"
   ]
  },
  {
   "cell_type": "code",
   "execution_count": 1,
   "metadata": {},
   "outputs": [
    {
     "name": "stdout",
     "output_type": "stream",
     "text": [
      "Anita 36\n"
     ]
    }
   ],
   "source": [
    "class Person:\n",
    "    def __init__(self, name, age):\n",
    "        self.name = name\n",
    "        self.age = age\n",
    "    def display(self):\n",
    "        print(self.name, self.age)\n",
    "\n",
    "p1 = Person(\"Anita\", 36)\n",
    "p1.display()"
   ]
  },
  {
   "cell_type": "code",
   "execution_count": 2,
   "metadata": {},
   "outputs": [],
   "source": [
    "class student(Person):\n",
    "    def __init__(self,name,age):\n",
    "        super().__init__(name, age)"
   ]
  },
  {
   "cell_type": "code",
   "execution_count": 3,
   "metadata": {},
   "outputs": [
    {
     "name": "stdout",
     "output_type": "stream",
     "text": [
      "Kiran 17\n"
     ]
    }
   ],
   "source": [
    "s1=student(\"Kiran\", 17)\n",
    "s1.display()"
   ]
  },
  {
   "cell_type": "code",
   "execution_count": null,
   "metadata": {},
   "outputs": [],
   "source": []
  }
 ],
 "metadata": {
  "kernelspec": {
   "display_name": "Python 3 (ipykernel)",
   "language": "python",
   "name": "python3"
  },
  "language_info": {
   "codemirror_mode": {
    "name": "ipython",
    "version": 3
   },
   "file_extension": ".py",
   "mimetype": "text/x-python",
   "name": "python",
   "nbconvert_exporter": "python",
   "pygments_lexer": "ipython3",
   "version": "3.8.8"
  }
 },
 "nbformat": 4,
 "nbformat_minor": 4
}
