{
 "cells": [
  {
   "cell_type": "code",
   "execution_count": 1,
   "metadata": {},
   "outputs": [
    {
     "name": "stdout",
     "output_type": "stream",
     "text": [
      "[22, 25, 2]\n"
     ]
    }
   ],
   "source": [
    "myList = [1, 22, 25, 2, 4, 3, 3]\n",
    "print(myList[1:4])"
   ]
  },
  {
   "cell_type": "code",
   "execution_count": 2,
   "metadata": {},
   "outputs": [
    {
     "name": "stdout",
     "output_type": "stream",
     "text": [
      "[1, 22, 25, 2]\n"
     ]
    }
   ],
   "source": [
    "myList = [1, 22, 25, 2, 4, 3, 3]\n",
    "print(myList[:4])"
   ]
  },
  {
   "cell_type": "code",
   "execution_count": 3,
   "metadata": {},
   "outputs": [
    {
     "name": "stdout",
     "output_type": "stream",
     "text": [
      "[1, 25, 4, 3]\n"
     ]
    }
   ],
   "source": [
    "myList = [1, 22, 25, 2, 4, 3, 3]\n",
    "print(myList[::2])"
   ]
  },
  {
   "cell_type": "code",
   "execution_count": 5,
   "metadata": {},
   "outputs": [
    {
     "name": "stdout",
     "output_type": "stream",
     "text": [
      "[1, 22, 345, 10]\n"
     ]
    }
   ],
   "source": [
    "#加入串列的最後\n",
    "myList = [1, 22, 345]\n",
    "myList.append(10)\n",
    "print(myList)"
   ]
  },
  {
   "cell_type": "code",
   "execution_count": 9,
   "metadata": {},
   "outputs": [
    {
     "name": "stdout",
     "output_type": "stream",
     "text": [
      "[1, 22, 345, [1, 2, 3]]\n"
     ]
    }
   ],
   "source": [
    "#將一個串列加到另一個串列，那會變成加入一個是串列的元\n",
    "list1=[1, 22, 345]\n",
    "list2=[1, 2, 3]\n",
    "list1.append(list2)\n",
    "print(list1)"
   ]
  },
  {
   "cell_type": "code",
   "execution_count": 10,
   "metadata": {},
   "outputs": [
    {
     "name": "stdout",
     "output_type": "stream",
     "text": [
      "[1, 22, 345, 1, 2, 3]\n"
     ]
    }
   ],
   "source": [
    "#如果要將物件 obj 內的元加入串列，要用 extend(obj)\n",
    "list1=[1, 22, 345]\n",
    "list2=[1, 2, 3]\n",
    "list1.extend(list2)\n",
    "print(list1)"
   ]
  },
  {
   "cell_type": "code",
   "execution_count": 11,
   "metadata": {},
   "outputs": [
    {
     "name": "stdout",
     "output_type": "stream",
     "text": [
      "[1, 22, 5, 345]\n"
     ]
    }
   ],
   "source": [
    "#插入 X 值索引為 y 位置\n",
    "myList = [1, 22, 345]\n",
    "myList.insert(2, 5)\n",
    "print(myList)"
   ]
  },
  {
   "cell_type": "code",
   "execution_count": 13,
   "metadata": {},
   "outputs": [
    {
     "name": "stdout",
     "output_type": "stream",
     "text": [
      "[1, 345]\n"
     ]
    }
   ],
   "source": [
    "#移除第一個和 x 相等的元，並將後方的元向前移動\n",
    "myList = [1, 22, 345]\n",
    "myList.remove(22)\n",
    "print(myList)"
   ]
  },
  {
   "cell_type": "code",
   "execution_count": 17,
   "metadata": {},
   "outputs": [
    {
     "name": "stdout",
     "output_type": "stream",
     "text": [
      "[1, 22]\n"
     ]
    }
   ],
   "source": [
    "#移除索引為 i 的元並回傳值，預設為移除最後一筆\n",
    "myList = [1, 22, 345]\n",
    "a = myList.pop()\n",
    "print(myList)"
   ]
  },
  {
   "cell_type": "code",
   "execution_count": 18,
   "metadata": {},
   "outputs": [
    {
     "name": "stdout",
     "output_type": "stream",
     "text": [
      "[1]\n",
      "345 22\n"
     ]
    }
   ],
   "source": [
    "b=myList.pop(1)\n",
    "print(myList)\n",
    "print(a, b)"
   ]
  },
  {
   "cell_type": "code",
   "execution_count": 19,
   "metadata": {},
   "outputs": [
    {
     "name": "stdout",
     "output_type": "stream",
     "text": [
      "[]\n"
     ]
    }
   ],
   "source": [
    "#移除所有的元\n",
    "myList = [1, 22, 345]\n",
    "myList.clear()\n",
    "print(myList)"
   ]
  },
  {
   "cell_type": "code",
   "execution_count": 20,
   "metadata": {},
   "outputs": [
    {
     "name": "stdout",
     "output_type": "stream",
     "text": [
      "[345, 22, 1]\n"
     ]
    }
   ],
   "source": [
    "# 將串列反轉\n",
    "myList = [1, 22, 345]\n",
    "myList.reverse()\n",
    "print(myList)"
   ]
  },
  {
   "cell_type": "code",
   "execution_count": 21,
   "metadata": {},
   "outputs": [
    {
     "name": "stdout",
     "output_type": "stream",
     "text": [
      "[1, 22, 43, 55, 345]\n",
      "[345, 55, 43, 22, 1]\n"
     ]
    }
   ],
   "source": [
    "# 將串列的元由值的大小排列，預設由小到大排列，當 reverse 為 True 時由大到小\n",
    "myList = [1, 22, 345, 55, 43]\n",
    "myList.sort()\n",
    "print(myList)\n",
    "\n",
    "myList.sort(reverse=True)\n",
    "print(myList)"
   ]
  },
  {
   "cell_type": "code",
   "execution_count": null,
   "metadata": {},
   "outputs": [],
   "source": [
    "# 回傳串列中有幾個值為 x 的元\n",
    "myList = [1, 22, 22, 22, 4, 3, 3]\n",
    "print(myList.count(0))\n",
    "print(myList.count(3))\n",
    "print(myList.count(22))"
   ]
  },
  {
   "cell_type": "code",
   "execution_count": 22,
   "metadata": {
    "scrolled": true
   },
   "outputs": [
    {
     "name": "stdout",
     "output_type": "stream",
     "text": [
      "第一項: 1\n"
     ]
    }
   ],
   "source": [
    "myTuple=(1, 3, 4, 5, 64)\n",
    "print(\"第一項:\", myTuple[0])"
   ]
  },
  {
   "cell_type": "markdown",
   "metadata": {},
   "source": [
    "# 元組(Tuple)"
   ]
  },
  {
   "cell_type": "code",
   "execution_count": 23,
   "metadata": {},
   "outputs": [
    {
     "name": "stdout",
     "output_type": "stream",
     "text": [
      "0\n",
      "2\n",
      "3\n"
     ]
    }
   ],
   "source": [
    "myTuple = [1, 22, 22, 22, 4, 3, 3]\n",
    "print(myTuple.count(0))\n",
    "print(myTuple.count(3))\n",
    "print(myTuple.count(22))"
   ]
  },
  {
   "cell_type": "code",
   "execution_count": null,
   "metadata": {},
   "outputs": [],
   "source": []
  }
 ],
 "metadata": {
  "kernelspec": {
   "display_name": "Python 3",
   "language": "python",
   "name": "python3"
  },
  "language_info": {
   "codemirror_mode": {
    "name": "ipython",
    "version": 3
   },
   "file_extension": ".py",
   "mimetype": "text/x-python",
   "name": "python",
   "nbconvert_exporter": "python",
   "pygments_lexer": "ipython3",
   "version": "3.8.5"
  }
 },
 "nbformat": 4,
 "nbformat_minor": 4
}
