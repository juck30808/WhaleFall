{
 "cells": [
  {
   "cell_type": "markdown",
   "id": "2b807302",
   "metadata": {},
   "source": [
    "## is_unique - Axis Indexes with Duplicate Labels"
   ]
  },
  {
   "cell_type": "code",
   "execution_count": 1,
   "id": "36919fd8",
   "metadata": {},
   "outputs": [],
   "source": [
    "# pd.Index.is_unique?"
   ]
  },
  {
   "cell_type": "code",
   "execution_count": 2,
   "id": "1f372b01",
   "metadata": {},
   "outputs": [
    {
     "data": {
      "text/plain": [
       "a    0\n",
       "a    1\n",
       "dtype: int64"
      ]
     },
     "execution_count": 2,
     "metadata": {},
     "output_type": "execute_result"
    }
   ],
   "source": [
    "import pandas as pd\n",
    "import numpy as np\n",
    "\n",
    "di_s = pd.Series(range(5), index=['a', 'a', 'b', 'b', 'c'])\n",
    "di_s['a']\n",
    "# di_s['b']"
   ]
  },
  {
   "cell_type": "code",
   "execution_count": 3,
   "id": "0e70037e",
   "metadata": {},
   "outputs": [
    {
     "data": {
      "text/plain": [
       "False"
      ]
     },
     "execution_count": 3,
     "metadata": {},
     "output_type": "execute_result"
    }
   ],
   "source": [
    "di_s.index.is_unique"
   ]
  },
  {
   "cell_type": "code",
   "execution_count": 4,
   "id": "5dcd15eb",
   "metadata": {},
   "outputs": [
    {
     "data": {
      "text/html": [
       "<div>\n",
       "<style scoped>\n",
       "    .dataframe tbody tr th:only-of-type {\n",
       "        vertical-align: middle;\n",
       "    }\n",
       "\n",
       "    .dataframe tbody tr th {\n",
       "        vertical-align: top;\n",
       "    }\n",
       "\n",
       "    .dataframe thead th {\n",
       "        text-align: right;\n",
       "    }\n",
       "</style>\n",
       "<table border=\"1\" class=\"dataframe\">\n",
       "  <thead>\n",
       "    <tr style=\"text-align: right;\">\n",
       "      <th></th>\n",
       "      <th>0</th>\n",
       "      <th>1</th>\n",
       "      <th>2</th>\n",
       "    </tr>\n",
       "  </thead>\n",
       "  <tbody>\n",
       "    <tr>\n",
       "      <th>a</th>\n",
       "      <td>-0.438207</td>\n",
       "      <td>0.876985</td>\n",
       "      <td>-0.650467</td>\n",
       "    </tr>\n",
       "    <tr>\n",
       "      <th>a</th>\n",
       "      <td>-1.204302</td>\n",
       "      <td>0.165004</td>\n",
       "      <td>-0.149079</td>\n",
       "    </tr>\n",
       "  </tbody>\n",
       "</table>\n",
       "</div>"
      ],
      "text/plain": [
       "          0         1         2\n",
       "a -0.438207  0.876985 -0.650467\n",
       "a -1.204302  0.165004 -0.149079"
      ]
     },
     "execution_count": 4,
     "metadata": {},
     "output_type": "execute_result"
    }
   ],
   "source": [
    "df11 = pd.DataFrame(np.random.randn(4, 3), index=['a', 'a', 'b', 'b'])\n",
    "df11.loc['a']"
   ]
  },
  {
   "cell_type": "code",
   "execution_count": 5,
   "id": "f642ed8c",
   "metadata": {
    "scrolled": true
   },
   "outputs": [
    {
     "data": {
      "text/plain": [
       "False"
      ]
     },
     "execution_count": 5,
     "metadata": {},
     "output_type": "execute_result"
    }
   ],
   "source": [
    "df11.index.is_unique"
   ]
  },
  {
   "cell_type": "markdown",
   "id": "49803006",
   "metadata": {},
   "source": [
    "## unique - Unique Values, Value Counts, and Membership"
   ]
  },
  {
   "cell_type": "code",
   "execution_count": 6,
   "id": "b8b7927b",
   "metadata": {},
   "outputs": [
    {
     "data": {
      "text/plain": [
       "0    c\n",
       "1    a\n",
       "2    d\n",
       "3    a\n",
       "4    a\n",
       "5    b\n",
       "6    b\n",
       "7    c\n",
       "8    c\n",
       "dtype: object"
      ]
     },
     "execution_count": 6,
     "metadata": {},
     "output_type": "execute_result"
    }
   ],
   "source": [
    "import pandas as pd\n",
    "ser_u = pd.Series(['c', 'a', 'd', 'a', 'a', 'b', 'b', 'c', 'c'])\n",
    "ser_u"
   ]
  },
  {
   "cell_type": "code",
   "execution_count": 7,
   "id": "ae540995",
   "metadata": {},
   "outputs": [
    {
     "data": {
      "text/plain": [
       "array(['c', 'a', 'd', 'b'], dtype=object)"
      ]
     },
     "execution_count": 7,
     "metadata": {},
     "output_type": "execute_result"
    }
   ],
   "source": [
    "ser_u.unique()\n",
    "# ser_u.value_counts()\n",
    "# ser_u[ser_u.isin(['d', 'c'])]"
   ]
  },
  {
   "cell_type": "code",
   "execution_count": 8,
   "id": "84639a8a",
   "metadata": {},
   "outputs": [
    {
     "data": {
      "text/plain": [
       "array([0, 2, 1, 1, 0, 2])"
      ]
     },
     "execution_count": 8,
     "metadata": {},
     "output_type": "execute_result"
    }
   ],
   "source": [
    "n_dist = pd.Series(['c', 'a', 'b', 'b', 'c', 'a'])\n",
    "dist = pd.Series(['c', 'b', 'a'])\n",
    "\n",
    "pd.Index(dist).get_indexer(n_dist)"
   ]
  },
  {
   "cell_type": "code",
   "execution_count": 9,
   "id": "cf9395b3",
   "metadata": {},
   "outputs": [
    {
     "data": {
      "text/html": [
       "<div>\n",
       "<style scoped>\n",
       "    .dataframe tbody tr th:only-of-type {\n",
       "        vertical-align: middle;\n",
       "    }\n",
       "\n",
       "    .dataframe tbody tr th {\n",
       "        vertical-align: top;\n",
       "    }\n",
       "\n",
       "    .dataframe thead th {\n",
       "        text-align: right;\n",
       "    }\n",
       "</style>\n",
       "<table border=\"1\" class=\"dataframe\">\n",
       "  <thead>\n",
       "    <tr style=\"text-align: right;\">\n",
       "      <th></th>\n",
       "      <th>Qu1</th>\n",
       "      <th>Qu2</th>\n",
       "      <th>Qu3</th>\n",
       "    </tr>\n",
       "  </thead>\n",
       "  <tbody>\n",
       "    <tr>\n",
       "      <th>1</th>\n",
       "      <td>1.0</td>\n",
       "      <td>1.0</td>\n",
       "      <td>1.0</td>\n",
       "    </tr>\n",
       "    <tr>\n",
       "      <th>2</th>\n",
       "      <td>NaN</td>\n",
       "      <td>2.0</td>\n",
       "      <td>1.0</td>\n",
       "    </tr>\n",
       "    <tr>\n",
       "      <th>3</th>\n",
       "      <td>2.0</td>\n",
       "      <td>1.0</td>\n",
       "      <td>NaN</td>\n",
       "    </tr>\n",
       "    <tr>\n",
       "      <th>4</th>\n",
       "      <td>1.0</td>\n",
       "      <td>NaN</td>\n",
       "      <td>1.0</td>\n",
       "    </tr>\n",
       "    <tr>\n",
       "      <th>5</th>\n",
       "      <td>NaN</td>\n",
       "      <td>NaN</td>\n",
       "      <td>1.0</td>\n",
       "    </tr>\n",
       "  </tbody>\n",
       "</table>\n",
       "</div>"
      ],
      "text/plain": [
       "   Qu1  Qu2  Qu3\n",
       "1  1.0  1.0  1.0\n",
       "2  NaN  2.0  1.0\n",
       "3  2.0  1.0  NaN\n",
       "4  1.0  NaN  1.0\n",
       "5  NaN  NaN  1.0"
      ]
     },
     "execution_count": 9,
     "metadata": {},
     "output_type": "execute_result"
    }
   ],
   "source": [
    "df13 = pd.DataFrame({'Qu1': [1, 3, 4, 3], 'Qu2': [2, 3, 1, 2], 'Qu3': [1, 5, 2, 4]})\n",
    "histogram = df13.apply(pd.value_counts)\n",
    "histogram"
   ]
  },
  {
   "cell_type": "code",
   "execution_count": 10,
   "id": "97f82a91",
   "metadata": {},
   "outputs": [
    {
     "data": {
      "text/html": [
       "<div>\n",
       "<style scoped>\n",
       "    .dataframe tbody tr th:only-of-type {\n",
       "        vertical-align: middle;\n",
       "    }\n",
       "\n",
       "    .dataframe tbody tr th {\n",
       "        vertical-align: top;\n",
       "    }\n",
       "\n",
       "    .dataframe thead th {\n",
       "        text-align: right;\n",
       "    }\n",
       "</style>\n",
       "<table border=\"1\" class=\"dataframe\">\n",
       "  <thead>\n",
       "    <tr style=\"text-align: right;\">\n",
       "      <th></th>\n",
       "      <th>Qu1</th>\n",
       "      <th>Qu2</th>\n",
       "      <th>Qu3</th>\n",
       "    </tr>\n",
       "  </thead>\n",
       "  <tbody>\n",
       "    <tr>\n",
       "      <th>1</th>\n",
       "      <td>1.0</td>\n",
       "      <td>1.0</td>\n",
       "      <td>1.0</td>\n",
       "    </tr>\n",
       "    <tr>\n",
       "      <th>2</th>\n",
       "      <td>0.0</td>\n",
       "      <td>2.0</td>\n",
       "      <td>1.0</td>\n",
       "    </tr>\n",
       "    <tr>\n",
       "      <th>3</th>\n",
       "      <td>2.0</td>\n",
       "      <td>1.0</td>\n",
       "      <td>0.0</td>\n",
       "    </tr>\n",
       "    <tr>\n",
       "      <th>4</th>\n",
       "      <td>1.0</td>\n",
       "      <td>0.0</td>\n",
       "      <td>1.0</td>\n",
       "    </tr>\n",
       "    <tr>\n",
       "      <th>5</th>\n",
       "      <td>0.0</td>\n",
       "      <td>0.0</td>\n",
       "      <td>1.0</td>\n",
       "    </tr>\n",
       "  </tbody>\n",
       "</table>\n",
       "</div>"
      ],
      "text/plain": [
       "   Qu1  Qu2  Qu3\n",
       "1  1.0  1.0  1.0\n",
       "2  0.0  2.0  1.0\n",
       "3  2.0  1.0  0.0\n",
       "4  1.0  0.0  1.0\n",
       "5  0.0  0.0  1.0"
      ]
     },
     "execution_count": 10,
     "metadata": {},
     "output_type": "execute_result"
    }
   ],
   "source": [
    "histogram = df13.apply(pd.value_counts).fillna(0)\n",
    "histogram"
   ]
  },
  {
   "cell_type": "markdown",
   "id": "84cae424",
   "metadata": {},
   "source": [
    "## Project"
   ]
  },
  {
   "cell_type": "code",
   "execution_count": 11,
   "id": "e07d1b10",
   "metadata": {},
   "outputs": [
    {
     "data": {
      "text/html": [
       "<div>\n",
       "<style scoped>\n",
       "    .dataframe tbody tr th:only-of-type {\n",
       "        vertical-align: middle;\n",
       "    }\n",
       "\n",
       "    .dataframe tbody tr th {\n",
       "        vertical-align: top;\n",
       "    }\n",
       "\n",
       "    .dataframe thead th {\n",
       "        text-align: right;\n",
       "    }\n",
       "</style>\n",
       "<table border=\"1\" class=\"dataframe\">\n",
       "  <thead>\n",
       "    <tr style=\"text-align: right;\">\n",
       "      <th></th>\n",
       "      <th>name</th>\n",
       "      <th>sports_car</th>\n",
       "      <th>suv</th>\n",
       "      <th>wagon</th>\n",
       "      <th>minivan</th>\n",
       "      <th>pickup</th>\n",
       "      <th>all_wheel</th>\n",
       "      <th>rear_wheel</th>\n",
       "      <th>Price</th>\n",
       "      <th>Dealer_Cost</th>\n",
       "      <th>Engine_size</th>\n",
       "      <th>cylenders</th>\n",
       "      <th>horsepower</th>\n",
       "      <th>city_miles_per_galloon</th>\n",
       "      <th>highway_miles_per_Gallon</th>\n",
       "      <th>weight</th>\n",
       "      <th>base_wheeel</th>\n",
       "      <th>length</th>\n",
       "      <th>width</th>\n",
       "    </tr>\n",
       "  </thead>\n",
       "  <tbody>\n",
       "    <tr>\n",
       "      <th>0</th>\n",
       "      <td>Chevrolet Aveo 4dr</td>\n",
       "      <td>False</td>\n",
       "      <td>False</td>\n",
       "      <td>False</td>\n",
       "      <td>False</td>\n",
       "      <td>False</td>\n",
       "      <td>False</td>\n",
       "      <td>False</td>\n",
       "      <td>11690</td>\n",
       "      <td>10965</td>\n",
       "      <td>1.6</td>\n",
       "      <td>4</td>\n",
       "      <td>103</td>\n",
       "      <td>28.0</td>\n",
       "      <td>34.0</td>\n",
       "      <td>2370.0</td>\n",
       "      <td>98.0</td>\n",
       "      <td>167.0</td>\n",
       "      <td>66.0</td>\n",
       "    </tr>\n",
       "    <tr>\n",
       "      <th>1</th>\n",
       "      <td>Chevrolet Aveo LS 4dr hatch</td>\n",
       "      <td>False</td>\n",
       "      <td>False</td>\n",
       "      <td>False</td>\n",
       "      <td>False</td>\n",
       "      <td>False</td>\n",
       "      <td>False</td>\n",
       "      <td>False</td>\n",
       "      <td>12585</td>\n",
       "      <td>11802</td>\n",
       "      <td>1.6</td>\n",
       "      <td>4</td>\n",
       "      <td>103</td>\n",
       "      <td>28.0</td>\n",
       "      <td>34.0</td>\n",
       "      <td>2348.0</td>\n",
       "      <td>98.0</td>\n",
       "      <td>153.0</td>\n",
       "      <td>66.0</td>\n",
       "    </tr>\n",
       "    <tr>\n",
       "      <th>2</th>\n",
       "      <td>Chevrolet Cavalier 2dr</td>\n",
       "      <td>False</td>\n",
       "      <td>False</td>\n",
       "      <td>False</td>\n",
       "      <td>False</td>\n",
       "      <td>False</td>\n",
       "      <td>False</td>\n",
       "      <td>False</td>\n",
       "      <td>14610</td>\n",
       "      <td>13697</td>\n",
       "      <td>2.2</td>\n",
       "      <td>4</td>\n",
       "      <td>140</td>\n",
       "      <td>26.0</td>\n",
       "      <td>37.0</td>\n",
       "      <td>2617.0</td>\n",
       "      <td>104.0</td>\n",
       "      <td>183.0</td>\n",
       "      <td>69.0</td>\n",
       "    </tr>\n",
       "    <tr>\n",
       "      <th>3</th>\n",
       "      <td>Chevrolet Cavalier 4dr</td>\n",
       "      <td>False</td>\n",
       "      <td>False</td>\n",
       "      <td>False</td>\n",
       "      <td>False</td>\n",
       "      <td>False</td>\n",
       "      <td>False</td>\n",
       "      <td>False</td>\n",
       "      <td>14810</td>\n",
       "      <td>13884</td>\n",
       "      <td>2.2</td>\n",
       "      <td>4</td>\n",
       "      <td>140</td>\n",
       "      <td>26.0</td>\n",
       "      <td>37.0</td>\n",
       "      <td>2676.0</td>\n",
       "      <td>104.0</td>\n",
       "      <td>183.0</td>\n",
       "      <td>68.0</td>\n",
       "    </tr>\n",
       "    <tr>\n",
       "      <th>4</th>\n",
       "      <td>Chevrolet Cavalier LS 2dr</td>\n",
       "      <td>False</td>\n",
       "      <td>False</td>\n",
       "      <td>False</td>\n",
       "      <td>False</td>\n",
       "      <td>False</td>\n",
       "      <td>False</td>\n",
       "      <td>False</td>\n",
       "      <td>16385</td>\n",
       "      <td>15357</td>\n",
       "      <td>2.2</td>\n",
       "      <td>4</td>\n",
       "      <td>140</td>\n",
       "      <td>26.0</td>\n",
       "      <td>37.0</td>\n",
       "      <td>2617.0</td>\n",
       "      <td>104.0</td>\n",
       "      <td>183.0</td>\n",
       "      <td>69.0</td>\n",
       "    </tr>\n",
       "  </tbody>\n",
       "</table>\n",
       "</div>"
      ],
      "text/plain": [
       "                          name  sports_car    suv  wagon  minivan  pickup  \\\n",
       "0           Chevrolet Aveo 4dr       False  False  False    False   False   \n",
       "1  Chevrolet Aveo LS 4dr hatch       False  False  False    False   False   \n",
       "2       Chevrolet Cavalier 2dr       False  False  False    False   False   \n",
       "3       Chevrolet Cavalier 4dr       False  False  False    False   False   \n",
       "4    Chevrolet Cavalier LS 2dr       False  False  False    False   False   \n",
       "\n",
       "   all_wheel  rear_wheel  Price  Dealer_Cost  Engine_size  cylenders  \\\n",
       "0      False       False  11690        10965          1.6          4   \n",
       "1      False       False  12585        11802          1.6          4   \n",
       "2      False       False  14610        13697          2.2          4   \n",
       "3      False       False  14810        13884          2.2          4   \n",
       "4      False       False  16385        15357          2.2          4   \n",
       "\n",
       "   horsepower  city_miles_per_galloon  highway_miles_per_Gallon  weight  \\\n",
       "0         103                    28.0                      34.0  2370.0   \n",
       "1         103                    28.0                      34.0  2348.0   \n",
       "2         140                    26.0                      37.0  2617.0   \n",
       "3         140                    26.0                      37.0  2676.0   \n",
       "4         140                    26.0                      37.0  2617.0   \n",
       "\n",
       "   base_wheeel  length  width  \n",
       "0         98.0   167.0   66.0  \n",
       "1         98.0   153.0   66.0  \n",
       "2        104.0   183.0   69.0  \n",
       "3        104.0   183.0   68.0  \n",
       "4        104.0   183.0   69.0  "
      ]
     },
     "execution_count": 11,
     "metadata": {},
     "output_type": "execute_result"
    }
   ],
   "source": [
    "import pandas as pd\n",
    "cars=pd.read_csv('input/cars.csv')\n",
    "cars.head()"
   ]
  },
  {
   "cell_type": "code",
   "execution_count": 21,
   "id": "cecefede",
   "metadata": {},
   "outputs": [
    {
     "data": {
      "text/plain": [
       " 6     190\n",
       " 4     136\n",
       " 8      87\n",
       " 5       7\n",
       " 12      3\n",
       " 10      2\n",
       "-1       2\n",
       " 3       1\n",
       "Name: cylenders, dtype: int64"
      ]
     },
     "execution_count": 21,
     "metadata": {},
     "output_type": "execute_result"
    }
   ],
   "source": [
    "# How many unique numbers of cylinders we have in the cars dataset?\n",
    "cars.cylenders.value_counts()"
   ]
  },
  {
   "cell_type": "code",
   "execution_count": 22,
   "id": "a864b9b1",
   "metadata": {},
   "outputs": [
    {
     "data": {
      "text/plain": [
       "array([ 4,  6,  3,  8,  5, 12, 10, -1])"
      ]
     },
     "execution_count": 22,
     "metadata": {},
     "output_type": "execute_result"
    }
   ],
   "source": [
    "cars.cylenders.unique()"
   ]
  },
  {
   "cell_type": "code",
   "execution_count": 23,
   "id": "49479f2e",
   "metadata": {},
   "outputs": [
    {
     "data": {
      "text/plain": [
       "count    428.000000\n",
       "mean     215.885514\n",
       "std       71.836032\n",
       "min       73.000000\n",
       "25%      165.000000\n",
       "50%      210.000000\n",
       "75%      255.000000\n",
       "max      500.000000\n",
       "Name: horsepower, dtype: float64"
      ]
     },
     "execution_count": 23,
     "metadata": {},
     "output_type": "execute_result"
    }
   ],
   "source": [
    "# what is the average horsepower of cars? \n",
    "cars.horsepower.describe()"
   ]
  },
  {
   "cell_type": "code",
   "execution_count": 24,
   "id": "a818d934",
   "metadata": {},
   "outputs": [
    {
     "data": {
      "text/html": [
       "<div>\n",
       "<style scoped>\n",
       "    .dataframe tbody tr th:only-of-type {\n",
       "        vertical-align: middle;\n",
       "    }\n",
       "\n",
       "    .dataframe tbody tr th {\n",
       "        vertical-align: top;\n",
       "    }\n",
       "\n",
       "    .dataframe thead th {\n",
       "        text-align: right;\n",
       "    }\n",
       "</style>\n",
       "<table border=\"1\" class=\"dataframe\">\n",
       "  <thead>\n",
       "    <tr style=\"text-align: right;\">\n",
       "      <th></th>\n",
       "      <th>car_name</th>\n",
       "      <th>sports_car</th>\n",
       "      <th>suv</th>\n",
       "      <th>wagon</th>\n",
       "      <th>minivan</th>\n",
       "      <th>pickup</th>\n",
       "      <th>all_wheel</th>\n",
       "      <th>rear_wheel</th>\n",
       "      <th>Price</th>\n",
       "      <th>Dealer_Cost</th>\n",
       "      <th>Engine_size</th>\n",
       "      <th>cylenders</th>\n",
       "      <th>horsepower</th>\n",
       "      <th>city_miles_per_galloon</th>\n",
       "      <th>highway_miles_per_Gallon</th>\n",
       "      <th>weight</th>\n",
       "      <th>base_wheeel</th>\n",
       "      <th>length</th>\n",
       "      <th>width</th>\n",
       "    </tr>\n",
       "  </thead>\n",
       "  <tbody>\n",
       "    <tr>\n",
       "      <th>287</th>\n",
       "      <td>Porsche 911 GT2 2dr</td>\n",
       "      <td>True</td>\n",
       "      <td>False</td>\n",
       "      <td>False</td>\n",
       "      <td>False</td>\n",
       "      <td>False</td>\n",
       "      <td>False</td>\n",
       "      <td>True</td>\n",
       "      <td>192465</td>\n",
       "      <td>173560</td>\n",
       "      <td>3.6</td>\n",
       "      <td>6</td>\n",
       "      <td>477</td>\n",
       "      <td>17.0</td>\n",
       "      <td>24.0</td>\n",
       "      <td>3131.0</td>\n",
       "      <td>93.0</td>\n",
       "      <td>175.0</td>\n",
       "      <td>72.0</td>\n",
       "    </tr>\n",
       "  </tbody>\n",
       "</table>\n",
       "</div>"
      ],
      "text/plain": [
       "                car_name  sports_car    suv  wagon  minivan  pickup  \\\n",
       "287  Porsche 911 GT2 2dr        True  False  False    False   False   \n",
       "\n",
       "     all_wheel  rear_wheel   Price  Dealer_Cost  Engine_size  cylenders  \\\n",
       "287      False        True  192465       173560          3.6          6   \n",
       "\n",
       "     horsepower  city_miles_per_galloon  highway_miles_per_Gallon  weight  \\\n",
       "287         477                    17.0                      24.0  3131.0   \n",
       "\n",
       "     base_wheeel  length  width  \n",
       "287         93.0   175.0   72.0  "
      ]
     },
     "execution_count": 24,
     "metadata": {},
     "output_type": "execute_result"
    }
   ],
   "source": [
    "# what is the most expensive car?\n",
    "cars[cars.Price== max(cars.Price)]"
   ]
  },
  {
   "cell_type": "code",
   "execution_count": 25,
   "id": "3aeede86",
   "metadata": {},
   "outputs": [],
   "source": [
    "# change the name of the column \"name\" to \"car name\"\n",
    "cars= cars.rename(columns= {'name': 'car_name'})"
   ]
  },
  {
   "cell_type": "code",
   "execution_count": 17,
   "id": "1bea4795",
   "metadata": {},
   "outputs": [],
   "source": [
    "# make a subset of the data that has the car name, the price and name the new sub-setted data frame  car pricing.\n",
    "cars_pricing= cars[['car_name','Price']]"
   ]
  },
  {
   "cell_type": "code",
   "execution_count": 18,
   "id": "a28c309f",
   "metadata": {},
   "outputs": [
    {
     "data": {
      "text/plain": [
       "'Expensive Car'"
      ]
     },
     "execution_count": 18,
     "metadata": {},
     "output_type": "execute_result"
    }
   ],
   "source": [
    "# create a function called pricing category that returns \"Budget Car \" if the cars are less than 20,000 USD,\" \n",
    "# Suitable Car \" is the car is more than 20,000 and less than 35 000 and more than 35000. \n",
    "\n",
    "def pricing_category(price):\n",
    "    if( price < 20000):\n",
    "        a= 'Budget Car'\n",
    "    if((price>= 20000)&(price<= 35000)):\n",
    "        a= 'Suitable Car'\n",
    "    if(price >35000):\n",
    "        a= 'Expensive Car'\n",
    "    return a\n",
    "\n",
    "pricing_category(55000)"
   ]
  },
  {
   "cell_type": "code",
   "execution_count": 26,
   "id": "333734a7",
   "metadata": {},
   "outputs": [
    {
     "name": "stderr",
     "output_type": "stream",
     "text": [
      "/var/folders/9q/486czkcn7lv5v0hwbt71twdc0000gn/T/ipykernel_14485/193799254.py:5: SettingWithCopyWarning: \n",
      "A value is trying to be set on a copy of a slice from a DataFrame\n",
      "\n",
      "See the caveats in the documentation: https://pandas.pydata.org/pandas-docs/stable/user_guide/indexing.html#returning-a-view-versus-a-copy\n",
      "  cars_pricing.category[i]= pricing_category(cars_pricing.Price[i])\n"
     ]
    }
   ],
   "source": [
    "# create a column named category on the subset using a for loop and pricing category function.\n",
    "\n",
    "cars_pricing['category']='NA'\n",
    "for i in range(cars_pricing.shape[0]):\n",
    "    cars_pricing.category[i]= pricing_category(cars_pricing.Price[i])\n",
    "    "
   ]
  },
  {
   "cell_type": "code",
   "execution_count": 28,
   "id": "d9332b52",
   "metadata": {},
   "outputs": [
    {
     "data": {
      "text/plain": [
       "Suitable Car     193\n",
       "Expensive Car    137\n",
       "Budget Car        98\n",
       "Name: category, dtype: int64"
      ]
     },
     "execution_count": 28,
     "metadata": {},
     "output_type": "execute_result"
    }
   ],
   "source": [
    "# How many Budget cars, suitable cars, and expensive cars we have?\n",
    "\n",
    "cars_pricing.category.value_counts()"
   ]
  },
  {
   "cell_type": "code",
   "execution_count": null,
   "id": "d8e03154",
   "metadata": {},
   "outputs": [],
   "source": []
  }
 ],
 "metadata": {
  "kernelspec": {
   "display_name": "Python 3 (ipykernel)",
   "language": "python",
   "name": "python3"
  },
  "language_info": {
   "codemirror_mode": {
    "name": "ipython",
    "version": 3
   },
   "file_extension": ".py",
   "mimetype": "text/x-python",
   "name": "python",
   "nbconvert_exporter": "python",
   "pygments_lexer": "ipython3",
   "version": "3.9.7"
  }
 },
 "nbformat": 4,
 "nbformat_minor": 5
}
