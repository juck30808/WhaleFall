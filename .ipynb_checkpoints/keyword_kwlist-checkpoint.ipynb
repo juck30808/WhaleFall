{
 "cells": [
  {
   "cell_type": "code",
   "execution_count": null,
   "id": "eb8d957f",
   "metadata": {},
   "outputs": [],
   "source": [
    "# Palabras reservadas en Python (keywords)\n",
    "import keyword\n",
    "\n",
    "print('Palabras reservadas (keywords) en Python')\n",
    "print(keyword.kwlist)\n",
    "\n",
    "# Variable (no podemos utilizar keyword para el nombre de una variable)\n",
    "# as = 'Hola'\n",
    "# Función (no podemos utilizar keyword para el nombre de una función)\n",
    "# def is():\n",
    "#     pass"
   ]
  }
 ],
 "metadata": {
  "kernelspec": {
   "display_name": "Python 3 (ipykernel)",
   "language": "python",
   "name": "python3"
  },
  "language_info": {
   "codemirror_mode": {
    "name": "ipython",
    "version": 3
   },
   "file_extension": ".py",
   "mimetype": "text/x-python",
   "name": "python",
   "nbconvert_exporter": "python",
   "pygments_lexer": "ipython3",
   "version": "3.9.7"
  }
 },
 "nbformat": 4,
 "nbformat_minor": 5
}
