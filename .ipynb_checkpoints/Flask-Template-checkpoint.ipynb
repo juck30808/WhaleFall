{
 "cells": [
  {
   "cell_type": "markdown",
   "id": "020d252e",
   "metadata": {},
   "source": [
    "## Template & Conditional"
   ]
  },
  {
   "cell_type": "code",
   "execution_count": null,
   "id": "2e23708a",
   "metadata": {
    "scrolled": true
   },
   "outputs": [
    {
     "name": "stdout",
     "output_type": "stream",
     "text": [
      " * Serving Flask app '__main__' (lazy loading)\n",
      " * Environment: production\n",
      "\u001b[31m   WARNING: This is a development server. Do not use it in a production deployment.\u001b[0m\n",
      "\u001b[2m   Use a production WSGI server instead.\u001b[0m\n",
      " * Debug mode: off\n"
     ]
    },
    {
     "name": "stderr",
     "output_type": "stream",
     "text": [
      " * Running on http://127.0.0.1:5000/ (Press CTRL+C to quit)\n",
      "127.0.0.1 - - [18/Nov/2021 21:53:54] \"GET / HTTP/1.1\" 200 -\n",
      "127.0.0.1 - - [18/Nov/2021 21:53:54] \"\u001b[36mGET /static/bootstrap.min.css HTTP/1.1\u001b[0m\" 304 -\n"
     ]
    }
   ],
   "source": [
    "from flask import Flask,render_template\n",
    "\n",
    "app = Flask(__name__)\n",
    "\n",
    "\n",
    "@app.route('/')\n",
    "def index():\n",
    "    fruits = [\"apple\",\"banana\",\"organes\",\"juice\"]\n",
    "    return render_template('indext.html',quote='Send the world to templates/index.html',fruits = fruits)\n",
    "\n",
    "@app.route('/about')\n",
    "def about():\n",
    "\treturn '<h1>Hello world about</h1>'\n",
    "\n",
    "@app.route('/quotes')\n",
    "def quotes():\n",
    "\treturn '<h1>Hello world quotes</h1>'\n",
    "\n",
    "if __name__ == '__main__':\n",
    "\tapp.run()"
   ]
  },
  {
   "cell_type": "code",
   "execution_count": null,
   "id": "38d4edf1",
   "metadata": {},
   "outputs": [],
   "source": []
  }
 ],
 "metadata": {
  "kernelspec": {
   "display_name": "Python 3 (ipykernel)",
   "language": "python",
   "name": "python3"
  },
  "language_info": {
   "codemirror_mode": {
    "name": "ipython",
    "version": 3
   },
   "file_extension": ".py",
   "mimetype": "text/x-python",
   "name": "python",
   "nbconvert_exporter": "python",
   "pygments_lexer": "ipython3",
   "version": "3.8.8"
  }
 },
 "nbformat": 4,
 "nbformat_minor": 5
}
