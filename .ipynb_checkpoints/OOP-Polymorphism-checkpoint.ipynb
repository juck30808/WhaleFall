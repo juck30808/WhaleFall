{
 "cells": [
  {
   "cell_type": "markdown",
   "id": "25f61b36",
   "metadata": {},
   "source": [
    "## Polymorphism 多型\n",
    "設計類別架構，能夠讓程式碼的相依性不會那麼高"
   ]
  },
  {
   "cell_type": "code",
   "execution_count": 1,
   "id": "b9930477",
   "metadata": {},
   "outputs": [],
   "source": [
    "class SBI:\n",
    "    def rate_of_interest(self):\n",
    "        return 8\n",
    "\n",
    "class ICICI:\n",
    "    def rate_of_interest(self):\n",
    "        return 4\n",
    "\n",
    "class HDFC:\n",
    "    def rate_of_interest(self):\n",
    "        return 7"
   ]
  },
  {
   "cell_type": "code",
   "execution_count": 2,
   "id": "da27544a",
   "metadata": {},
   "outputs": [],
   "source": [
    "def common_interest(bank):\n",
    "    return bank.rate_of_interest()"
   ]
  },
  {
   "cell_type": "code",
   "execution_count": 3,
   "id": "ab65fdc3",
   "metadata": {},
   "outputs": [],
   "source": [
    "s  = SBI()\n",
    "ic = ICICI()\n",
    "h  = HDFC()"
   ]
  },
  {
   "cell_type": "code",
   "execution_count": 4,
   "id": "a739b891",
   "metadata": {},
   "outputs": [
    {
     "data": {
      "text/plain": [
       "8"
      ]
     },
     "execution_count": 4,
     "metadata": {},
     "output_type": "execute_result"
    }
   ],
   "source": [
    "common_interest(s)"
   ]
  },
  {
   "cell_type": "code",
   "execution_count": 5,
   "id": "30939b30",
   "metadata": {},
   "outputs": [
    {
     "data": {
      "text/plain": [
       "4"
      ]
     },
     "execution_count": 5,
     "metadata": {},
     "output_type": "execute_result"
    }
   ],
   "source": [
    "common_interest(ic)"
   ]
  },
  {
   "cell_type": "code",
   "execution_count": 6,
   "id": "43f4a847",
   "metadata": {},
   "outputs": [
    {
     "data": {
      "text/plain": [
       "7"
      ]
     },
     "execution_count": 6,
     "metadata": {},
     "output_type": "execute_result"
    }
   ],
   "source": [
    "common_interest(h)"
   ]
  },
  {
   "cell_type": "code",
   "execution_count": null,
   "id": "75fe9767",
   "metadata": {},
   "outputs": [],
   "source": []
  }
 ],
 "metadata": {
  "kernelspec": {
   "display_name": "Python 3 (ipykernel)",
   "language": "python",
   "name": "python3"
  },
  "language_info": {
   "codemirror_mode": {
    "name": "ipython",
    "version": 3
   },
   "file_extension": ".py",
   "mimetype": "text/x-python",
   "name": "python",
   "nbconvert_exporter": "python",
   "pygments_lexer": "ipython3",
   "version": "3.9.7"
  }
 },
 "nbformat": 4,
 "nbformat_minor": 5
}
