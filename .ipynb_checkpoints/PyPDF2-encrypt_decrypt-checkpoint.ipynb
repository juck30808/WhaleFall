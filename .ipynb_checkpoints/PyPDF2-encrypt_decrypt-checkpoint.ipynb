{
 "cells": [
  {
   "cell_type": "code",
   "execution_count": 4,
   "metadata": {},
   "outputs": [
    {
     "name": "stdout",
     "output_type": "stream",
     "text": [
      "Enter encryption password: 12\n",
      "wrong password provided\n"
     ]
    }
   ],
   "source": [
    "import os\n",
    "import PyPDF2\n",
    "def encryptPDFs(root, password):\n",
    "    for folder, subfolder, fileList in os.walk(root):\n",
    "        for file in fileList:\n",
    "            if file.endswith('.pdf'):\n",
    "                filepath = os.path.join(os.path.abspath(folder), file)\n",
    "                pdfFileObj = open(filepath, 'rb')\n",
    "                pdfReader = PyPDF2.PdfFileReader(pdfFileObj)\n",
    "\n",
    "                if not pdfReader.isEncrypted:\n",
    "                    pdfWriter = PyPDF2.PdfFileWriter()\n",
    "                    for pageNum in range(pdfReader.numPages):\n",
    "                        pdfWriter.addPage(pdfReader.getPage(pageNum))\n",
    "                    pdfWriter.encrypt(password)\n",
    "                    newPath = os.path.dirname(filepath) + ('_encrypted.'.join(os.path.basename(filepath).split('.')))\n",
    "                    resultPdf = open(newPath, 'wb')\n",
    "                    pdfWriter.write(resultPdf)\n",
    "                    resultPdf.close()\n",
    "\n",
    "\n",
    "def decryptPDFs(root, password):\n",
    "    for folder, subfolder, fileList in os.walk(root):\n",
    "        for file in fileList:\n",
    "            if file.endswith('_encrypted.pdf'):\n",
    "                filepath = os.path.join(os.path.abspath(folder), file)\n",
    "                pdfFileObj = open(filepath, 'rb')\n",
    "                pdfReader = PyPDF2.PdfFileReader(pdfFileObj)\n",
    "\n",
    "                if pdfReader.isEncrypted:\n",
    "                    success = pdfReader.decrypt(password)\n",
    "                    \n",
    "                    if success:\n",
    "                        pdfWriter = PyPDF2.PdfFileWriter()\n",
    "                        for pageNum in range(pdfReader.numPages):\n",
    "                            pdfWriter.addPage(pdfReader.getPage(pageNum))\n",
    "                        newPath = os.path.dirname(filepath) + '/' + \\\n",
    "                                ''.join(os.path.basename(filepath).split('_encrypted'))\n",
    "                        resultPdf = open(newPath, 'wb')\n",
    "                        pdfWriter.write(resultPdf)\n",
    "                        resultPdf.close()\n",
    "                    else:\n",
    "                        print('wrong password provided')\n",
    "\n",
    "\n",
    "if __name__ == \"__main__\":\n",
    "    password = input('Enter encryption password: ')\n",
    "    encryptPDFs('.', password)\n",
    "    decryptPDFs('.', password)"
   ]
  },
  {
   "cell_type": "code",
   "execution_count": null,
   "metadata": {},
   "outputs": [],
   "source": []
  }
 ],
 "metadata": {
  "kernelspec": {
   "display_name": "Python 3 (ipykernel)",
   "language": "python",
   "name": "python3"
  },
  "language_info": {
   "codemirror_mode": {
    "name": "ipython",
    "version": 3
   },
   "file_extension": ".py",
   "mimetype": "text/x-python",
   "name": "python",
   "nbconvert_exporter": "python",
   "pygments_lexer": "ipython3",
   "version": "3.9.7"
  }
 },
 "nbformat": 4,
 "nbformat_minor": 4
}
