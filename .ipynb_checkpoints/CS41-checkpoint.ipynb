{
 "cells": [
  {
   "cell_type": "markdown",
   "id": "63fbb1b5",
   "metadata": {},
   "source": [
    "## Week 1: Welcome & Basics\n",
    "## Python 字符串默認是 Unicode\n",
    "\n",
    "這意味著我們可以在 Python 字符串中使用表情符號！ ！ ❤#$)\n",
    "\n",
    "- Interactive Interpreter\n",
    "- Comments\n",
    "- Variables and Types\n",
    "- Numbers and Booleans\n",
    "- Strings and lists\n",
    "- Console I/O\n",
    "- Control Flow\n",
    "- Loops\n",
    "- Functions\n",
    "- Assignment Expressions"
   ]
  },
  {
   "cell_type": "code",
   "execution_count": 5,
   "id": "83b23261",
   "metadata": {
    "scrolled": true
   },
   "outputs": [
    {
     "name": "stdout",
     "output_type": "stream",
     "text": [
      "What would you like to order?A\n",
      "You’re ordering: A\n",
      "What would you like to order?Nothing else\n",
      "What would you like to order?Nothing else\n"
     ]
    }
   ],
   "source": [
    "# Assignment Expressions\n",
    "\n",
    "# The old way of doing things...\n",
    "order = input(\"What would you like to order?\")\n",
    "while order != \"Nothing else\":\n",
    "    print(\"You’re ordering: \" + order)\n",
    "    order = input(\"What would you like to order?\")\n",
    "\n",
    "# Using assignment expressions!\n",
    "while (order := input(\"What would you like to order?\")) != \"Nothing else\":\n",
    "    print(\"You’re ordering: \" + order)"
   ]
  },
  {
   "cell_type": "code",
   "execution_count": 8,
   "id": "e9794d67",
   "metadata": {},
   "outputs": [],
   "source": [
    "#While loops are very similar to other languages:\n",
    "while condition:\n",
    "    do_action()\n",
    "\n",
    "#For loops are over some collection of items...\n",
    "for item in collection:\n",
    "    do_action_on(item)\n",
    "\n",
    "# which can be a range object, producing C++/Java-like loops.\n",
    "for i in range(start, stop, step):\n",
    "    use_number(i)"
   ]
  },
  {
   "cell_type": "code",
   "execution_count": 6,
   "id": "d2d91b3a",
   "metadata": {},
   "outputs": [
    {
     "data": {
      "text/plain": [
       "True"
      ]
     },
     "execution_count": 6,
     "metadata": {},
     "output_type": "execute_result"
    }
   ],
   "source": [
    "isinstance(4, object) # => True\n",
    "isinstance(\"Michael\", object) # => True\n",
    "isinstance([4, 5, 'seconds'], object) # => True\n",
    "isinstance(None, object) # => True\n",
    "isinstance(str, object) # => True\n",
    "isinstance(object, object) # => True"
   ]
  },
  {
   "cell_type": "code",
   "execution_count": 10,
   "id": "7a649ebe",
   "metadata": {},
   "outputs": [
    {
     "data": {
      "text/plain": [
       "'lolololololololo'"
      ]
     },
     "execution_count": 10,
     "metadata": {},
     "output_type": "execute_result"
    }
   ],
   "source": [
    "# 鴨子型別 (Duck typing)\n",
    "def compute(a, b, c):\n",
    "    return (a + b) * c\n",
    "\n",
    "compute(4, 1, 3) # => 15\n",
    "compute([1], [2, 3], 2) # => [1, 2, 3, 1, 2, 3]\n",
    "compute('l','olo', 4) # => 'lolololololololo'"
   ]
  },
  {
   "cell_type": "code",
   "execution_count": 11,
   "id": "1b4c5527",
   "metadata": {},
   "outputs": [
    {
     "data": {
      "text/plain": [
       "False"
      ]
     },
     "execution_count": 11,
     "metadata": {},
     "output_type": "execute_result"
    }
   ],
   "source": [
    "# Identity Crisis\n",
    "# Use == when comparing values\n",
    "# Use is when comparing identities\n",
    "\n",
    "x = \"cs41 rocks!\"\n",
    "y = \"cs41 \"\n",
    "y += \"rocks!\"\n",
    "\n",
    "x == y # => True\n",
    "x is y # => False\n",
    "\n",
    "id(x) # => 4512586800\n",
    "id(y) # => 4512586672\n",
    "\n",
    "[1, 2, 3] is [1, 2, 3] # => False\n",
    "\n",
    "x = 41\n",
    "y = 41\n",
    "x is y # => True\n",
    "\n",
    "x = 257\n",
    "y = 257\n",
    "x is y # => False\n",
    "\n",
    "x =\"hap.py code\"\n",
    "y =\"hap.py code\"\n",
    "x is y # => False"
   ]
  },
  {
   "cell_type": "code",
   "execution_count": 12,
   "id": "dc7cccca",
   "metadata": {},
   "outputs": [
    {
     "data": {
      "text/plain": [
       "'ello! Love, unico'"
      ]
     },
     "execution_count": 12,
     "metadata": {},
     "output_type": "execute_result"
    }
   ],
   "source": [
    "# Useful String Methods\n",
    "\n",
    "greeting = \"Hello! Love, unicorn. \"\n",
    "\n",
    "greeting[4] # => 'o'\n",
    "'corn' in greeting # => True\n",
    "len(greeting) # => 23\n",
    "\n",
    "greeting.find('lo') # => 3 (-1 if not found)\n",
    "greeting.replace('ello'\n",
    ",\n",
    "'iya') # => Hiya! Love, Unicorn.\n",
    "\n",
    "greeting.startswith('Hell') # => True\n",
    "greeting.endswith(' ') # => True\n",
    "greeting.isalpha() # => False\n",
    "greeting.lower() # => 'hello! love, unicorn.'\n",
    "greeting.title() # => 'Hello! Love, Unicorn.'\n",
    "greeting.upper() # => 'HELLO! LOVE, UNICORN.'\n",
    "greeting.strip() # => 'Hello! Love, unicorn.'\n",
    "greeting.strip('.nrH ') # => 'ello! Love, unico'"
   ]
  },
  {
   "cell_type": "code",
   "execution_count": 13,
   "id": "f22fcb4d",
   "metadata": {},
   "outputs": [
    {
     "data": {
      "text/plain": [
       "'Zheng, Antonio, Sam'"
      ]
     },
     "execution_count": 13,
     "metadata": {},
     "output_type": "execute_result"
    }
   ],
   "source": [
    "# Lists <—> Strings\n",
    "\n",
    "list('Hair toss!')\n",
    "# => ['H', 'a', 'i', 'r', ' ', 't', 'o', 's', 's', '!']\n",
    "\n",
    "# `.split` partitions by a delimiter...\n",
    "'ham cheese bacon'.split()\n",
    "# => ['ham', 'cheese', 'bacon']\n",
    "\n",
    "# ...which can be specified, but defaults to whitespace\n",
    "'3-14-2015'.split(sep='-')\n",
    "# => ['3', '14', '2015']\n",
    "\n",
    "# `.join` creates a string from a list of strings\n",
    "', '.join(['Zheng', 'Antonio', 'Sam'])\n",
    "# => 'Zheng, Antonio, Sam'"
   ]
  },
  {
   "cell_type": "code",
   "execution_count": 15,
   "id": "cdee663d",
   "metadata": {},
   "outputs": [
    {
     "data": {
      "text/plain": [
       "'5 squared is 25'"
      ]
     },
     "execution_count": 15,
     "metadata": {},
     "output_type": "execute_result"
    }
   ],
   "source": [
    "# String Formatting\n",
    "\n",
    "# Curly braces are placeholders\n",
    "'{} {}'.format('beautiful', 'unicorn') # => 'beautiful unicorn'\n",
    "\n",
    "# Provide values by position or placeholder\n",
    "'{0} can be {1} {0}, even in summer!'.format('snowmen', 'frozen')\n",
    "# => 'snowmen can be frozen snowmen, even in summer!'\n",
    "\n",
    "'{name} loves {food}'.format(name='Michael', food='applesauce')\n",
    "# => 'Michael loves applesauce' (he does)\n",
    "\n",
    "# Values are converted to strings\n",
    "'{} squared is {}'.format(5, 5**2) # => '5 squared is 25'"
   ]
  },
  {
   "cell_type": "code",
   "execution_count": 17,
   "id": "29497d49",
   "metadata": {},
   "outputs": [
    {
     "data": {
      "text/plain": [
       "'Zheng, Antonio, Sam are awesome!'"
      ]
     },
     "execution_count": 17,
     "metadata": {},
     "output_type": "execute_result"
    }
   ],
   "source": [
    "# String Formatting\n",
    "\n",
    "age = 25\n",
    "# You can use C-style specifiers too!\n",
    "\"{:06.2f}\".format(3.14159) # => '003.14'\n",
    "\n",
    "# Padding can be specified as well.\n",
    "'{:10}'.format('left') # => 'left '\n",
    "'{:*^12}'.format('CS41') # => '****CS41****'\n",
    "\n",
    "# You can even look up values!\n",
    "captains = ['Kirk', 'Picard']\n",
    "\"{caps[0]} > {caps[1]}\".format(caps=captains)\n",
    "\n",
    "# String concatenation with +\n",
    "\"I am \" + str(age) + \" years old.\"\n",
    "\n",
    "# Formatted string literals (only on Python 3.6+)\n",
    "f\"I am {age} years old.\"\n",
    "f\"{', '.join(['Zheng', 'Antonio', 'Sam'])} are awesome!\""
   ]
  },
  {
   "cell_type": "markdown",
   "id": "1e620b68",
   "metadata": {},
   "source": [
    "## Week 2: Data Structures\n",
    "\n",
    "- Lists: Finite, ordered, mutable sequence of elements. 有限、有序、可變的元素序列。\n",
    "- Tuples: Finite, ordered, immutable sequence ofelements. 有限、有序、不可變的元素序列。\n",
    "- Dictionaries: Mutable map from hashable values to (arbitrary) objects 從可散列值到（任意）對象的可變映射。\n",
    "- Sets: Unordered, finite collection of distinct, hashable elements 不同的、可散列的元素的無序、有限集合。\n",
    "- Advanced Looping\n",
    "- Comprehensions"
   ]
  },
  {
   "cell_type": "code",
   "execution_count": null,
   "id": "0cf0a3b1",
   "metadata": {},
   "outputs": [],
   "source": [
    "# Create a new list\n",
    "empty = []\n",
    "letters = ['a', 'b', 'c', 'd']\n",
    "numbers = [2, 3, 5]\n",
    "\n",
    "# Append elements to the end of a list\n",
    "numbers.append(7) # numbers == [2, 3, 5, 7]\n",
    "numbers.append(11) # numbers == [2, 3, 5, 7, 11]"
   ]
  },
  {
   "cell_type": "code",
   "execution_count": 23,
   "id": "ab7c8845",
   "metadata": {
    "scrolled": true
   },
   "outputs": [],
   "source": [
    "# List-Specific Methods\n",
    "\n",
    "# Count the number of occurrences in a list\n",
    "my_lst.count(value)\n",
    "# Append a *single* element to a list\n",
    "my_lst.append(elem)\n",
    "# Extend a list by appending *all* elements from an\n",
    "my_lst.extend(iterable)\n",
    "# Insert an element into the middle of the list, at index\n",
    "my_lst.insert(index, elem)\n",
    "# Sort a list, in place\n",
    "my_lst.sort(key=None, reverse=False)\n",
    "# Reverse a list, in place\n",
    "my_lst.reverse()\n",
    "# Remove an element from a list and return it\n",
    "my_lst.pop() # => returns & removes last elem\n",
    "my_lst.pop(i) # => returns & removes my_lst[i]"
   ]
  },
  {
   "cell_type": "code",
   "execution_count": 25,
   "id": "91339829",
   "metadata": {},
   "outputs": [
    {
     "data": {
      "text/plain": [
       "True"
      ]
     },
     "execution_count": 25,
     "metadata": {},
     "output_type": "execute_result"
    }
   ],
   "source": [
    "# Tuple 我們已經有了列表，那麼為什麼要使用元組呢？\n",
    "#在我們的程序中存儲關於對象的有限、異構數據。考慮類似結構或類似 SQL 的對象。“凍結”一個序列的哈希性（列表不能被哈希）強制不變性\n",
    "\n",
    "# You can't edit elements...\n",
    "fish = (1, 2, \"red\", \"blue\")\n",
    "fish[0] # => 1\n",
    "fish[0] = 'unicorn' # TypeError\n",
    "\n",
    "# ...but everything else works normally\n",
    "len(fish) # => 4\n",
    "fish[:-1] # => (1, 2, 'red')\n",
    "\"red\" in fish # => True"
   ]
  },
  {
   "cell_type": "code",
   "execution_count": null,
   "id": "2cacf9bc",
   "metadata": {},
   "outputs": [],
   "source": [
    "# Dictionaries\n",
    "\n",
    "empty = {}\n",
    "type(empty) # => dict\n",
    "a = {\"one\": 1, \"two\": 2, \"three\": 3} b = dict(one=1, two=2, three=3) c = dict([('one', 1), ('two', 2), ('three', 3)])\n",
    "a == b == c # => True"
   ]
  },
  {
   "cell_type": "code",
   "execution_count": 27,
   "id": "135d2a38",
   "metadata": {},
   "outputs": [
    {
     "name": "stdout",
     "output_type": "stream",
     "text": [
      "pear-orange-banana-apple-"
     ]
    }
   ],
   "source": [
    "# set\n",
    "\n",
    "empty_set = set() # why not {}?\n",
    "set_from_list = set([1, 2, 1, 4, 3]) # => {1, 3, 4, 2}\n",
    "basket = {'orange', 'banana', 'pear', 'apple'}\n",
    "len(basket) # => 4\n",
    "'orange' in basket # => True\n",
    "'crabgrass' in basket # => False\n",
    "\n",
    "for fruit in basket:\n",
    "    print(fruit, end=\"-\")"
   ]
  },
  {
   "cell_type": "code",
   "execution_count": 29,
   "id": "2534553f",
   "metadata": {},
   "outputs": [
    {
     "name": "stdout",
     "output_type": "stream",
     "text": [
      "What is your name? It is lancelot.\n",
      "What is your quest? It is the holy grail.\n",
      "What is your favorite color? It is blue.\n"
     ]
    }
   ],
   "source": [
    "# Advanced Looping - Zip\n",
    "\n",
    "questions = ['name', 'quest', 'favorite color']\n",
    "answers = ['lancelot', 'the holy grail', 'blue']\n",
    "for q, a in zip(questions, answers):\n",
    "    print('What is your {0}? It is {1}.'.format(q, a))"
   ]
  },
  {
   "cell_type": "code",
   "execution_count": 31,
   "id": "de5deff6",
   "metadata": {},
   "outputs": [
    {
     "name": "stdout",
     "output_type": "stream",
     "text": [
      "apple\n",
      "banana\n",
      "orange\n",
      "pear\n"
     ]
    }
   ],
   "source": [
    "# Advanced Looping - Sort \n",
    "\n",
    "basket = ['apple', 'orange', 'apple', 'pear', 'orange','banana']\n",
    "for f in sorted(set(basket)):\n",
    "    print(f)"
   ]
  },
  {
   "cell_type": "code",
   "execution_count": 32,
   "id": "8fdf2e85",
   "metadata": {},
   "outputs": [
    {
     "data": {
      "text/plain": [
       "[0, 1, 4, 9, 16, 25, 36, 49, 64, 81]"
      ]
     },
     "execution_count": 32,
     "metadata": {},
     "output_type": "execute_result"
    }
   ],
   "source": [
    "# Advanced Looping - Square Numbers\n",
    "\n",
    "squares = []\n",
    "for x in range(10):\n",
    "    squares.append(x**2)\n",
    "squares"
   ]
  },
  {
   "cell_type": "markdown",
   "id": "1ec76120",
   "metadata": {},
   "source": [
    "## Week 3: Functions and Files\n",
    "\n",
    "- Comprehensions\n",
    "- Inside Python Functions\n",
    "- Parameters\n",
    "- Variadic Arguments\n",
    "- Parameter Ordering\n",
    "- Aside: Code Style\n",
    "- First-Class Functions"
   ]
  },
  {
   "cell_type": "markdown",
   "id": "740c68c1",
   "metadata": {},
   "source": [
    "####   Comprehensions 推導式\n",
    "\n",
    "- Why would we use comprehensions? 我們為什麼要使用推導式？\n",
    "- Usual focus: Modify individual elements of an iterable. 通常的焦點：修改可迭代的單個元素。\n",
    "- Comprehensions ~ Abstract Transformations 理解抽像變換\n",
    "- Don’t say how you want the object constructed. 不要說你想要如何構造對象。\n",
    "- Just say what you want in the object. 只需說出您想要的對象。\n",
    "- If you liked this, stay tuned… Functional Programming! "
   ]
  },
  {
   "cell_type": "code",
   "execution_count": 4,
   "id": "970ff72b",
   "metadata": {},
   "outputs": [
    {
     "name": "stdout",
     "output_type": "stream",
     "text": [
      "[0, 3, 6, 9, 12, 15, 18, 21, 24, 27]\n"
     ]
    }
   ],
   "source": [
    "## Square Numbers (Normal) 一般的 SquareLoop 需要更多程式碼\n",
    "\n",
    "numbers = []\n",
    "for x in range(10):\n",
    "    numbers.append(x * 3)\n",
    "\n",
    "print(numbers)"
   ]
  },
  {
   "cell_type": "code",
   "execution_count": 10,
   "id": "85ae0c53",
   "metadata": {
    "scrolled": true
   },
   "outputs": [
    {
     "name": "stdout",
     "output_type": "stream",
     "text": [
      "[0, 1, 8, 27, 64, 125, 216, 343, 512, 729]\n"
     ]
    }
   ],
   "source": [
    "## List Comprehensions 列表推導式，只需一行程式碼\n",
    "\n",
    "numbers = [x ** 3 for x in range(10)]\n",
    "print(numbers)"
   ]
  },
  {
   "cell_type": "code",
   "execution_count": 6,
   "id": "08891099",
   "metadata": {},
   "outputs": [
    {
     "name": "stdout",
     "output_type": "stream",
     "text": [
      "[15, 18, 21, 24, 27]\n"
     ]
    }
   ],
   "source": [
    "## List Comprehensions 列表推導式 Condition\n",
    "\n",
    "numbers = [x * 3 for x in range(10) if x > 4]\n",
    "print(numbers)"
   ]
  },
  {
   "cell_type": "code",
   "execution_count": 7,
   "id": "9e64af0d",
   "metadata": {},
   "outputs": [
    {
     "name": "stdout",
     "output_type": "stream",
     "text": [
      "{'e'}\n"
     ]
    }
   ],
   "source": [
    "## Set Comprehensions\n",
    "\n",
    "titles = \"Learn Code With Mike\"\n",
    "result = {letter for letter in titles if letter == \"e\"}\n",
    "print(result)"
   ]
  },
  {
   "cell_type": "code",
   "execution_count": 11,
   "id": "8d96da43",
   "metadata": {},
   "outputs": [],
   "source": [
    "## List Comprehensions\n",
    "\n",
    "# [fn(x) for x in iterable]\n",
    "# [fn(x) for x in iterable if cond(x)]\n",
    "# [word.lower() for word in sentence]\n",
    "# [ch for ch in word.lower() if ch not in 'aeiou']\n",
    "# [(x, x**2, x**3) for x in seq]\n",
    "# [(i,j) for i in range(5) for j in range(i)]"
   ]
  },
  {
   "cell_type": "code",
   "execution_count": null,
   "id": "7868e1e5",
   "metadata": {},
   "outputs": [],
   "source": [
    "## Example\n",
    "\n",
    "# [0, 1, 2, 3] -> [1, 3, 5, 7]\n",
    "# [3, 8, 9, 5] -> [True, False, True, False]\n",
    "# ['apple', 'orange', 'pear'] -> ['A', 'O', 'P']\n",
    "# ['apple', 'orange', 'pear'] ->\n",
    "# [('apple', 5), ('orange', 6), ('pear', 4)]"
   ]
  },
  {
   "cell_type": "markdown",
   "id": "bcafb2d7",
   "metadata": {},
   "source": [
    "### Pass-by-Value or Pass-by-Reference? 值傳遞 & 引用傳遞"
   ]
  },
  {
   "cell_type": "code",
   "execution_count": 16,
   "id": "b6629e5a",
   "metadata": {},
   "outputs": [
    {
     "name": "stdout",
     "output_type": "stream",
     "text": [
      "{'y': 3, 'z': 5}\n",
      "2\n",
      "2 3 5\n"
     ]
    }
   ],
   "source": [
    "# Function Scopes 函數範疇\n",
    "x = 2\n",
    "def foo(y):\n",
    "    z = 5\n",
    "    print(locals())\n",
    "    print(globals()['x'])\n",
    "    print(x, y, z)\n",
    "foo(3)\n"
   ]
  },
  {
   "cell_type": "code",
   "execution_count": 18,
   "id": "b36781c2",
   "metadata": {},
   "outputs": [
    {
     "data": {
      "text/plain": [
       "6"
      ]
     },
     "execution_count": 18,
     "metadata": {},
     "output_type": "execute_result"
    }
   ],
   "source": [
    "## IMMUTABLE : A new objectis created and rebound to the namespace as x\n",
    "\n",
    "x = 5\n",
    "x += 1\n",
    "x\n",
    "\n",
    "def foo(x):\n",
    "    x += 1\n",
    "    x = 5\n",
    "foo(x)\n",
    "x # => 5"
   ]
  },
  {
   "cell_type": "code",
   "execution_count": 21,
   "id": "93ef15d2",
   "metadata": {},
   "outputs": [
    {
     "data": {
      "text/plain": [
       "[5, 41, 41]"
      ]
     },
     "execution_count": 21,
     "metadata": {},
     "output_type": "execute_result"
    }
   ],
   "source": [
    "## MUTABLE : No new object is created.\n",
    "x = [5]\n",
    "x.append(41)\n",
    "x\n",
    "\n",
    "def foo(x):\n",
    "    x.append(41)\n",
    "    x = [5]\n",
    "foo(x)\n",
    "x # => [5, 41]"
   ]
  },
  {
   "cell_type": "markdown",
   "id": "cfce7045",
   "metadata": {},
   "source": [
    "### Parameter 參數\n",
    "\n",
    "- Make parameter intent clearer – name conveys more than position.\n",
    "- 調用中指定變量的名稱能使參數意圖更清晰。名稱傳達的不僅僅是位置。而是為了降低錯誤呼叫的風險。"
   ]
  },
  {
   "cell_type": "code",
   "execution_count": 33,
   "id": "4c13dfc3",
   "metadata": {},
   "outputs": [
    {
     "ename": "IndentationError",
     "evalue": "expected an indented block (Temp/ipykernel_15712/1007495102.py, line 2)",
     "output_type": "error",
     "traceback": [
      "\u001b[1;36m  File \u001b[1;32m\"C:\\Users\\CTI110~1\\AppData\\Local\\Temp/ipykernel_15712/1007495102.py\"\u001b[1;36m, line \u001b[1;32m2\u001b[0m\n\u001b[1;33m    # required  #optional  #optional\u001b[0m\n\u001b[1;37m                                    ^\u001b[0m\n\u001b[1;31mIndentationError\u001b[0m\u001b[1;31m:\u001b[0m expected an indented block\n"
     ]
    }
   ],
   "source": [
    "def ask_yn(prompt,                          # prompt is required\n",
    "           retries=4,                       # optional, defaults=4\n",
    "           complaint=\"Enter Y or N!\"):      # optional, defaults = \"Enter Y or N!\""
   ]
  },
  {
   "cell_type": "code",
   "execution_count": 34,
   "id": "14c68a44",
   "metadata": {},
   "outputs": [
    {
     "name": "stdout",
     "output_type": "stream",
     "text": [
      "Enter Something:Y\n"
     ]
    },
    {
     "data": {
      "text/plain": [
       "True"
      ]
     },
     "execution_count": 34,
     "metadata": {},
     "output_type": "execute_result"
    }
   ],
   "source": [
    "def ask_yn(prompt, retries=4, complaint=\"Enter Y or N!\"):\n",
    "    for i in range(retries):\n",
    "        ans = input(prompt)\n",
    "        \n",
    "        if ans in 'yY':\n",
    "            return True\n",
    "        if ans in 'nN':\n",
    "            return False\n",
    "        print(complaint)\n",
    "        \n",
    "ask_yn(\"Enter Something:\")\n",
    "\n",
    "# Valid calls:\n",
    "ask_yn('Ok to overwrite the file?', 2)\n",
    "ask_yn('Ok to overwrite the file?', retries=2)\n",
    "ask_yn(prompt=\"Are you sure about that?\", retries=2)\n",
    "ask_yn(retries=2, prompt=\"Are you sure about that?\")"
   ]
  },
  {
   "cell_type": "markdown",
   "id": "99e3c645",
   "metadata": {},
   "source": [
    "### Variadic Arguments 可變參數\n",
    "\n",
    "*args 形式的參數捕獲多餘的位置\n",
    "- Call functions with any number of positional arguments 使用任意數量的位置參數調用函數\n",
    "- Capture all arguments to forward to another handler  捕獲所有參數以轉發到另一個處理程序\n",
    "- Used in subclasses, proxies, and decorators 用於子類、代理和裝飾器"
   ]
  },
  {
   "cell_type": "code",
   "execution_count": 42,
   "id": "ac32437f",
   "metadata": {},
   "outputs": [
    {
     "data": {
      "text/plain": [
       "60"
      ]
     },
     "execution_count": 42,
     "metadata": {},
     "output_type": "execute_result"
    }
   ],
   "source": [
    "# i.e., scaled_sum(x1, ..., xn, scale=a) = a(x1 + ... + xn)\n",
    "# scaled_sum accepts any number of arguments\n",
    "def scaled_sum(*args, scale=1):\n",
    "    return scale * sum(args)\n",
    "\n",
    "# Suppose we want a function that works as so:\n",
    "scaled_sum(1, 2, 3)        # => 6\n",
    "scaled_sum(1, 5)           # => 6\n",
    "scaled_sum(1, 5, scale=10) # => 60"
   ]
  },
  {
   "cell_type": "code",
   "execution_count": 47,
   "id": "e054906f",
   "metadata": {},
   "outputs": [],
   "source": [
    "# Variadic Positional Arguments\n",
    "print(*objects, sep=' ', end='\\n', file=sys.stdout, flush=False)"
   ]
  },
  {
   "cell_type": "code",
   "execution_count": 46,
   "id": "0384356b",
   "metadata": {},
   "outputs": [
    {
     "data": {
      "text/plain": [
       "'Reindeers are better than people'"
      ]
     },
     "execution_count": 46,
     "metadata": {},
     "output_type": "execute_result"
    }
   ],
   "source": [
    "# Variadic Keyword Arguments\n",
    "\"{good} are better than {bad}\".format(good='Reindeers', bad='people')"
   ]
  },
  {
   "cell_type": "markdown",
   "id": "dc9f60dc",
   "metadata": {},
   "source": [
    "### String Formatting 字串格式化"
   ]
  },
  {
   "cell_type": "code",
   "execution_count": 48,
   "id": "f8d3663e",
   "metadata": {},
   "outputs": [
    {
     "ename": "NameError",
     "evalue": "name 'args' is not defined",
     "output_type": "error",
     "traceback": [
      "\u001b[1;31m---------------------------------------------------------------------------\u001b[0m",
      "\u001b[1;31mNameError\u001b[0m                                 Traceback (most recent call last)",
      "\u001b[1;32mC:\\Users\\CTI110~1\\AppData\\Local\\Temp/ipykernel_15712/352326016.py\u001b[0m in \u001b[0;36m<module>\u001b[1;34m\u001b[0m\n\u001b[1;32m----> 1\u001b[1;33m \u001b[0mstr\u001b[0m\u001b[1;33m.\u001b[0m\u001b[0mformat\u001b[0m\u001b[1;33m(\u001b[0m\u001b[1;33m*\u001b[0m\u001b[0margs\u001b[0m\u001b[1;33m,\u001b[0m \u001b[1;33m**\u001b[0m\u001b[0mkwargs\u001b[0m\u001b[1;33m)\u001b[0m\u001b[1;33m\u001b[0m\u001b[1;33m\u001b[0m\u001b[0m\n\u001b[0m",
      "\u001b[1;31mNameError\u001b[0m: name 'args' is not defined"
     ]
    }
   ],
   "source": [
    "str.format(*args, **kwargs)"
   ]
  },
  {
   "cell_type": "code",
   "execution_count": 50,
   "id": "085eb56a",
   "metadata": {},
   "outputs": [
    {
     "data": {
      "text/plain": [
       "'5x8z59'"
      ]
     },
     "execution_count": 50,
     "metadata": {},
     "output_type": "execute_result"
    }
   ],
   "source": [
    "# {n} refers to the nth positional argument in `args`\n",
    "\"First, thou shalt count to {0}\".format(3)\n",
    "\"{0} shalt thou not count, neither count thou {1},excepting that thou then proceed to {2}\".format(4, 2, 3)\n",
    "\n",
    "# {key} refers to the optional argument bound by key\n",
    "\"lobbest thou thy {weapon} towards thy foe\".format(weapon=\"Holy Hand Grenade of Antioch\")\n",
    "\"{0}{b}{1}{a}{0}{2}\".format(5, 8, 9, a='z', b='x')   # => 5x8z59"
   ]
  },
  {
   "cell_type": "code",
   "execution_count": null,
   "id": "19797838",
   "metadata": {},
   "outputs": [],
   "source": []
  },
  {
   "cell_type": "markdown",
   "id": "ae5121b5",
   "metadata": {},
   "source": [
    "## Week 4: Functional Programming\n",
    "\n",
    "- lambda\n",
    "- map and filter\n",
    "- Iterators/Generators\n",
    "- Decorators"
   ]
  },
  {
   "cell_type": "markdown",
   "id": "6993f60a",
   "metadata": {},
   "source": [
    "### Lambda Functions : Smaller, cuter functions\n",
    "\n",
    "匿名函數 (lambda)：是指一類無需定義函數名的函數或子程序。通俗地說就是沒有名字的函數，是一種簡單的、在同一行中定義函數的方法。lambda函數一般功能簡單：單行expression決定了lambda函數不可能完成複雜的邏輯，只能完成非常簡單的功能。由於其實現的功能一目了然，甚至不需要專門的名字來說明。"
   ]
  },
  {
   "cell_type": "code",
   "execution_count": 3,
   "id": "e4239d8d",
   "metadata": {},
   "outputs": [
    {
     "name": "stdout",
     "output_type": "stream",
     "text": [
      "10\n",
      "10\n"
     ]
    }
   ],
   "source": [
    "## 1\n",
    "def max(m, n):\n",
    "    return m if m > n else n\n",
    "print(max(10, 3))\n",
    "\n",
    "# 你可以用lambda運算式來定義函式，執行運算式時將會產生函式物件。 例如，上面的max函式，可以用以下的方式定義：\n",
    "max = lambda m, n: m if m > n else n\n",
    "print(max(10, 3)) "
   ]
  },
  {
   "cell_type": "code",
   "execution_count": 4,
   "id": "c4a9c184",
   "metadata": {},
   "outputs": [
    {
     "name": "stdout",
     "output_type": "stream",
     "text": [
      "24\n",
      "24\n"
     ]
    }
   ],
   "source": [
    "## 2\n",
    "def test01(a,b,c,d):\n",
    "    return a*b*c*d\n",
    "print(test01(1,2,3,4))\n",
    "\n",
    "# lambda function\n",
    "f=lambda a,b,c,d:a*b*c*d\n",
    "print(f(1,2,3,4))  "
   ]
  },
  {
   "cell_type": "code",
   "execution_count": 7,
   "id": "22357925",
   "metadata": {},
   "outputs": [
    {
     "data": {
      "text/plain": [
       "<filter at 0x7fa81898dcd0>"
      ]
     },
     "execution_count": 7,
     "metadata": {},
     "output_type": "execute_result"
    }
   ],
   "source": [
    "# lambda函數用於指定過濾列表元素\n",
    "filter(lambda x: x % 3 == 0, [1, 2, 3])"
   ]
  },
  {
   "cell_type": "code",
   "execution_count": 6,
   "id": "9dfb50d9",
   "metadata": {},
   "outputs": [
    {
     "data": {
      "text/plain": [
       "[5, 4, 6, 3, 7, 2, 8, 1, 9]"
      ]
     },
     "execution_count": 6,
     "metadata": {},
     "output_type": "execute_result"
    }
   ],
   "source": [
    "# lambda函數用於指定對列表中所有元素進行排序的準則。\n",
    "sorted([1, 2, 3, 4, 5, 6, 7, 8, 9], key=lambda x: abs(5-x))"
   ]
  },
  {
   "cell_type": "code",
   "execution_count": 10,
   "id": "2ebac4dc",
   "metadata": {},
   "outputs": [
    {
     "data": {
      "text/plain": [
       "<map at 0x7fa818b6ad00>"
      ]
     },
     "execution_count": 10,
     "metadata": {},
     "output_type": "execute_result"
    }
   ],
   "source": [
    "# lambda函數用於指定對列表中每一個元素的共同操作。\n",
    "map(lambda x: x+1, [1, 2,3])"
   ]
  },
  {
   "cell_type": "code",
   "execution_count": null,
   "id": "6976e52e",
   "metadata": {},
   "outputs": [],
   "source": [
    "# lambda函數用於指定列表中兩兩相鄰元素的結合條件\n",
    "reduce(lambda a, b: '{}, {}'.format(a, b), [1, 2, 3, 4, 5, 6, 7, 8, 9])"
   ]
  },
  {
   "cell_type": "markdown",
   "id": "e9595852",
   "metadata": {},
   "source": [
    "### The map Function : X Marks the Spot!\n",
    "簡單的來說，就是定義一個function。接著用這個function來對一個iterable 的物件內每一個元素做處理，看 map 函數時，請先抓出逗點，抓住一個概念\n",
    "\n",
    "- map(function, iterable)\n",
    "- test: 就是我們的 function 名稱\n",
    "- iterable： 就是我們的 list (其實只要是 iterable object 都可以！)"
   ]
  },
  {
   "cell_type": "code",
   "execution_count": 13,
   "id": "98fb9527",
   "metadata": {},
   "outputs": [
    {
     "data": {
      "text/plain": [
       "<map at 0x7fa818b9e460>"
      ]
     },
     "execution_count": 13,
     "metadata": {},
     "output_type": "execute_result"
    }
   ],
   "source": [
    "## Normal Function\n",
    "def multiple2(x):\n",
    "    return x*2\n",
    "\n",
    "## Map Function\n",
    "list1 = [1,3,5,7,9]\n",
    "map(multiple2,list1)\n",
    "\n",
    "## Week2: Comprehensions\n",
    "[multiple2(x) for x in list1]"
   ]
  },
  {
   "cell_type": "code",
   "execution_count": 17,
   "id": "38d41375",
   "metadata": {},
   "outputs": [
    {
     "data": {
      "text/plain": [
       "[5, 7, 7]"
      ]
     },
     "execution_count": 17,
     "metadata": {},
     "output_type": "execute_result"
    }
   ],
   "source": [
    "def length_of_all_elements(arr):\n",
    "    return list(map(len, arr))\n",
    "\n",
    "length_of_all_elements([\"Parth\", \"Unicorn\", \"Michael\"])"
   ]
  },
  {
   "cell_type": "code",
   "execution_count": 50,
   "id": "d3d9c2d3",
   "metadata": {},
   "outputs": [
    {
     "name": "stdout",
     "output_type": "stream",
     "text": [
      "[2, 4, 6, 8, 10]\n"
     ]
    }
   ],
   "source": [
    "lst = [1, 2, 3, 4, 5]\n",
    "lst2 = [x*2 for x in lst]\n",
    "\n",
    "print(lst2) #[2, 4, 6, 8, 10]"
   ]
  },
  {
   "cell_type": "markdown",
   "id": "0c1f547e",
   "metadata": {},
   "source": [
    "### The filter Function : NoFilter #JokesDefinitelyAFilter\n",
    "\n",
    "通過過濾另一個元素生成一個可迭代對象\n",
    "- filter(condition, iterable)"
   ]
  },
  {
   "cell_type": "code",
   "execution_count": 19,
   "id": "faa0a8d1",
   "metadata": {},
   "outputs": [
    {
     "data": {
      "text/plain": [
       "['Michael']"
      ]
     },
     "execution_count": 19,
     "metadata": {},
     "output_type": "execute_result"
    }
   ],
   "source": [
    "def starts_with_M(arr):\n",
    "    return list(filter(lambda word: word[0].lower() == \"m\", arr))\n",
    "\n",
    "starts_with_M([\"Michael\",\"Parth\"])"
   ]
  },
  {
   "cell_type": "markdown",
   "id": "fe22455e",
   "metadata": {},
   "source": [
    "### Iterators\n",
    "\n",
    "- map 和 filter 對像是迭代器，可以從回傳資料看出來，表示一個有限的或無限的數據流。\n",
    "- 使用 next(iterator) 函數遍歷迭代器的元素。在終止時會引發 StopIteration 錯誤。\n",
    "- 使用 iter(data_structure) 在數據上構建迭代器結構體。"
   ]
  },
  {
   "cell_type": "code",
   "execution_count": 23,
   "id": "35b5757a",
   "metadata": {},
   "outputs": [],
   "source": [
    "arr = [\"Parth\", \"Michael\"]"
   ]
  },
  {
   "cell_type": "code",
   "execution_count": 24,
   "id": "6659dc74",
   "metadata": {},
   "outputs": [
    {
     "data": {
      "text/plain": [
       "<map at 0x7fa818b9ed90>"
      ]
     },
     "execution_count": 24,
     "metadata": {},
     "output_type": "execute_result"
    }
   ],
   "source": [
    "map_to_investigate = map(lambda x: x + \"likes unicorns\", arr)\n",
    "map_to_investigate\n",
    "# actually return : <map at 0x7fa818b9ed90>"
   ]
  },
  {
   "cell_type": "code",
   "execution_count": 25,
   "id": "e8dc456f",
   "metadata": {},
   "outputs": [
    {
     "data": {
      "text/plain": [
       "<filter at 0x7fa818b9e430>"
      ]
     },
     "execution_count": 25,
     "metadata": {},
     "output_type": "execute_result"
    }
   ],
   "source": [
    "filter_to_investigate = filter(lambda x: x == \"Unicorn\", arr)\n",
    "filter_to_investigate\n",
    "# actually return : <filter at 0x7fa818b9ed90>"
   ]
  },
  {
   "cell_type": "code",
   "execution_count": 32,
   "id": "45fdba84",
   "metadata": {},
   "outputs": [
    {
     "name": "stdout",
     "output_type": "stream",
     "text": [
      "Michael\n",
      "Unicorn\n"
     ]
    }
   ],
   "source": [
    "names = [\"Parth\", \"Michael\", \"Unicorn\"]\n",
    "\n",
    "length_filter = filter(lambda word: len(word) >= 7, names)\n",
    "print(next(length_filter))  #1\n",
    "print(next(length_filter))  #2"
   ]
  },
  {
   "cell_type": "code",
   "execution_count": 30,
   "id": "025adfb0",
   "metadata": {},
   "outputs": [
    {
     "ename": "StopIteration",
     "evalue": "",
     "output_type": "error",
     "traceback": [
      "\u001b[0;31m---------------------------------------------------------------------------\u001b[0m",
      "\u001b[0;31mStopIteration\u001b[0m                             Traceback (most recent call last)",
      "\u001b[0;32m/var/folders/9q/486czkcn7lv5v0hwbt71twdc0000gn/T/ipykernel_1430/676428107.py\u001b[0m in \u001b[0;36m<module>\u001b[0;34m\u001b[0m\n\u001b[0;32m----> 1\u001b[0;31m \u001b[0mnext\u001b[0m\u001b[0;34m(\u001b[0m\u001b[0mlength_filter\u001b[0m\u001b[0;34m)\u001b[0m\u001b[0;34m\u001b[0m\u001b[0;34m\u001b[0m\u001b[0m\n\u001b[0m",
      "\u001b[0;31mStopIteration\u001b[0m: "
     ]
    }
   ],
   "source": [
    "next(length_filter)  #StopIteration"
   ]
  },
  {
   "cell_type": "markdown",
   "id": "a533d6ab",
   "metadata": {},
   "source": [
    "### Generators : “Lazy List Comprehensions”\n",
    "\n",
    "#### Ordinary functions\n",
    "- 返回單個計算值\n",
    "- 每次調用都會生成一個新的本地命名空間和新的本地變量。\n",
    "- 退出時丟棄命名空間。\n",
    "\n",
    "#### Generator\n",
    "- 返回將生成值流的迭代器\n",
    "- 局部變量在暫停時不會被丟棄——從你離開的地方繼續！"
   ]
  },
  {
   "cell_type": "code",
   "execution_count": 44,
   "id": "30e37e9d",
   "metadata": {},
   "outputs": [
    {
     "data": {
      "text/plain": [
       "generator"
      ]
     },
     "execution_count": 44,
     "metadata": {},
     "output_type": "execute_result"
    }
   ],
   "source": [
    "# Let's write a generator to generate the Fibonacci sequence!\n",
    "def fib():\n",
    "    a, b = 0, 1\n",
    "    while True:\n",
    "        a, b = b, a+b\n",
    "        yield a\n",
    "\n",
    "g = fib() # Namespace created, fib() pushed to stack.\n",
    "type(g)"
   ]
  },
  {
   "cell_type": "code",
   "execution_count": 45,
   "id": "05277f6d",
   "metadata": {},
   "outputs": [
    {
     "data": {
      "text/plain": [
       "2"
      ]
     },
     "execution_count": 45,
     "metadata": {},
     "output_type": "execute_result"
    }
   ],
   "source": [
    "next(g)   #0\n",
    "next(g)   #1\n",
    "next(g)   #2"
   ]
  },
  {
   "cell_type": "code",
   "execution_count": null,
   "id": "fe04d388",
   "metadata": {},
   "outputs": [],
   "source": [
    "print(\"Local variables aren’t discarded upon suspension – pick up where you left off!\")\n",
    "print(\"Continue\")"
   ]
  },
  {
   "cell_type": "code",
   "execution_count": 46,
   "id": "137c6d1f",
   "metadata": {},
   "outputs": [
    {
     "data": {
      "text/plain": [
       "5"
      ]
     },
     "execution_count": 46,
     "metadata": {},
     "output_type": "execute_result"
    }
   ],
   "source": [
    "next(g)  #4\n",
    "next(g)  #5"
   ]
  },
  {
   "cell_type": "markdown",
   "id": "484578f4",
   "metadata": {},
   "source": [
    "### Decorators: A Tale of Two Paradigms\n",
    "\n",
    "- Decorators take in a function, modify the function, then return the modified version.\n",
    "- 裝飾器接受一個函數，修改函數，然後返回修改後的版本。"
   ]
  },
  {
   "cell_type": "code",
   "execution_count": 48,
   "id": "10dec8ae",
   "metadata": {},
   "outputs": [],
   "source": [
    "# Our first decorator\n",
    "def debug(function):\n",
    "    def modified_function(*args, **kwargs):\n",
    "        print(\"Arguments:\", args, kwargs)\n",
    "        return function(*args, **kwargs)\n",
    "    return modified_function"
   ]
  },
  {
   "cell_type": "code",
   "execution_count": 49,
   "id": "72b8e59d",
   "metadata": {},
   "outputs": [
    {
     "name": "stdout",
     "output_type": "stream",
     "text": [
      "Arguments: (2, 3) {}\n"
     ]
    },
    {
     "data": {
      "text/plain": [
       "5"
      ]
     },
     "execution_count": 49,
     "metadata": {},
     "output_type": "execute_result"
    }
   ],
   "source": [
    "def foo(a, b, c=1):\n",
    "    return (a + b) * c\n",
    "\n",
    "foo = debug(foo)\n",
    "foo(2, 3)\n",
    "# Arguments: (2, 3) {} # Printed from the debugging decorator\n",
    "# 5: Returned from the function"
   ]
  },
  {
   "cell_type": "code",
   "execution_count": null,
   "id": "64422fbd",
   "metadata": {},
   "outputs": [],
   "source": [
    "foo(2, 1, c=3)\n",
    "# Arguments: (2, 3) {'c': 1} # Printed from the debugging decorator\n",
    "# 9: Returned from the function"
   ]
  },
  {
   "cell_type": "code",
   "execution_count": null,
   "id": "fa8ea0c9",
   "metadata": {},
   "outputs": [],
   "source": [
    "#This new @decorator syntax applies a decorator at the time of function declaration.\n",
    "@debug\n",
    "def foo(a, b, c=1):\n",
    "    return (a + b) * c"
   ]
  },
  {
   "cell_type": "markdown",
   "id": "a33970da",
   "metadata": {},
   "source": [
    "## Week 5: Python & the Web\n",
    "\n",
    "- Object-Oriented Python\n",
    "- Web Requests\n",
    "- Images in Python\n",
    "- Web Development in Python\n",
    "- Python Web Frameworks"
   ]
  },
  {
   "cell_type": "markdown",
   "id": "80d3ae4c",
   "metadata": {},
   "source": [
    "### Object-Oriented \n",
    "\n",
    "創建一個 instance object 對象，其屬性/方法/接口是由 Class 定義\n",
    "- x = MyClass(args)\n",
    "- Instantiating 是一個類構造該類對象的實例對象\n",
    "- x is an instance object of the MyClass class object x 是 MyClass 類對象的實例對象"
   ]
  },
  {
   "cell_type": "code",
   "execution_count": 51,
   "id": "81098737",
   "metadata": {},
   "outputs": [
    {
     "data": {
      "text/plain": [
       "<function __main__.MyClass.greet(self)>"
      ]
     },
     "execution_count": 51,
     "metadata": {},
     "output_type": "execute_result"
    }
   ],
   "source": [
    "class MyClass:\n",
    "    num = 41\n",
    "    def greet(self):\n",
    "        return \"Hello world!\"\n",
    "\n",
    "MyClass.num   # => 41\n",
    "MyClass.greet # => <function MyClass.greet>"
   ]
  },
  {
   "cell_type": "code",
   "execution_count": 53,
   "id": "1a78e07f",
   "metadata": {},
   "outputs": [
    {
     "data": {
      "text/plain": [
       "0"
      ]
     },
     "execution_count": 53,
     "metadata": {},
     "output_type": "execute_result"
    }
   ],
   "source": [
    "class Canadian:\n",
    "    def __init__(self, first, middle, last, ssn=0):\n",
    "        self.first_name = first\n",
    "        self.middle_name = middle\n",
    "        self.last_name = last\n",
    "        self.ssn = ssn\n",
    "\n",
    "michael = Canadian('Michael', 'John', 'Cooper')\n",
    "michael.first_name # => 'Michael'\n",
    "michael.middle_name # => 'John'\n",
    "michael.last_name # => 'Cooper'\n",
    "michael.ssn # => 0"
   ]
  },
  {
   "cell_type": "code",
   "execution_count": 56,
   "id": "4e26ca66",
   "metadata": {},
   "outputs": [
    {
     "data": {
      "text/plain": [
       "'Hello world!'"
      ]
     },
     "execution_count": 56,
     "metadata": {},
     "output_type": "execute_result"
    }
   ],
   "source": [
    "class MyClass:\n",
    "    num = 41\n",
    "    def greet(self):\n",
    "        return \"Hello world!\"\n",
    "\n",
    "x = MyClass()\n",
    "x.greet() # => 'Hello world!'"
   ]
  },
  {
   "cell_type": "code",
   "execution_count": 60,
   "id": "bb90ede5",
   "metadata": {},
   "outputs": [
    {
     "data": {
      "text/plain": [
       "<function __main__.Unicorn.cast_spell(self, chant, magic_required=1)>"
      ]
     },
     "execution_count": 60,
     "metadata": {},
     "output_type": "execute_result"
    }
   ],
   "source": [
    "class Unicorn:\n",
    "    def __init__(self, name, magic_capability=10):\n",
    "        self.name = name\n",
    "        self.magic_capability = magic_capability\n",
    "\n",
    "    def cast_spell(self, chant, magic_required=1):\n",
    "        if self.magic_capability >= magic_required:\n",
    "            print(f\"{chant}! The spell was cast.\")\n",
    "            self.magic_capability -= magic_required\n",
    "        else:\n",
    "            print(f\"{self.name} isn't magical enough.\")\n",
    "\n",
    "u = Unicorn('Unicornelius', magic_capability=3)\n",
    "u.cast_spell # => <bound method Unicorn.cast_spell of ...>"
   ]
  },
  {
   "cell_type": "code",
   "execution_count": 62,
   "id": "57cae8a6",
   "metadata": {},
   "outputs": [
    {
     "name": "stdout",
     "output_type": "stream",
     "text": [
      "Alohomora! The spell was cast.\n",
      "Unicornelius isn't magical enough.\n"
     ]
    }
   ],
   "source": [
    "u.cast_spell('Alohomora', magic_required=2)\n",
    "# Alohomora! The spell was cast.\n",
    "\n",
    "u.cast_spell('Wingardium Leviosa', magic_required=2)\n",
    "# Unicornelius isn't magical enough."
   ]
  },
  {
   "cell_type": "markdown",
   "id": "ea96b339",
   "metadata": {},
   "source": [
    "### Web Requests in Python\n",
    "\n",
    "https://2.python-requests.org/en/master/user/quickstart/"
   ]
  },
  {
   "cell_type": "code",
   "execution_count": 68,
   "id": "85a48b72",
   "metadata": {},
   "outputs": [
    {
     "name": "stdout",
     "output_type": "stream",
     "text": [
      "<Response [200]>\n"
     ]
    }
   ],
   "source": [
    "# Make a request\n",
    "import requests\n",
    "response = requests.get('https://www.google.com')\n",
    "response.headers.get('content-type') # => 'text/html; charset=ISO-8859-1'"
   ]
  },
  {
   "cell_type": "code",
   "execution_count": 70,
   "id": "3fc7e478",
   "metadata": {},
   "outputs": [
    {
     "data": {
      "text/plain": [
       "'text/html; charset=ISO-8859-1'"
      ]
     },
     "execution_count": 70,
     "metadata": {},
     "output_type": "execute_result"
    }
   ],
   "source": [
    "# Find the response content type\n",
    "response = requests.get('https://www.google.com')\n",
    "response.headers.get('content-type') # => 'text/html; charset=ISO-8859-1'"
   ]
  },
  {
   "cell_type": "code",
   "execution_count": 72,
   "id": "e90f6d63",
   "metadata": {},
   "outputs": [
    {
     "data": {
      "text/plain": [
       "'https://www.google.com/?filter=top&year=2019'"
      ]
     },
     "execution_count": 72,
     "metadata": {},
     "output_type": "execute_result"
    }
   ],
   "source": [
    "# GET with parameters\n",
    "payload = {'filter': 'top', 'year': 2019}\n",
    "response = requests.get('https://www.google.com',params=payload)\n",
    "response.url"
   ]
  },
  {
   "cell_type": "code",
   "execution_count": 74,
   "id": "73dcf213",
   "metadata": {},
   "outputs": [
    {
     "data": {
      "text/plain": [
       "<Response [405]>"
      ]
     },
     "execution_count": 74,
     "metadata": {},
     "output_type": "execute_result"
    }
   ],
   "source": [
    "# POST with parameters\n",
    "payload = {'username': 'psarin', 'password': 'I <3 unic0rns'}\n",
    "response = requests.post('https://www.google.com',data=payload)\n",
    "response"
   ]
  },
  {
   "cell_type": "code",
   "execution_count": null,
   "id": "56cd1390",
   "metadata": {},
   "outputs": [],
   "source": []
  },
  {
   "cell_type": "code",
   "execution_count": null,
   "id": "de745b5d",
   "metadata": {},
   "outputs": [],
   "source": []
  },
  {
   "cell_type": "markdown",
   "id": "53cad716",
   "metadata": {},
   "source": [
    "## Week 6: NumPy"
   ]
  },
  {
   "cell_type": "markdown",
   "id": "31cb8327",
   "metadata": {},
   "source": [
    "## Week 7: Standard Library &Third Party Tools"
   ]
  },
  {
   "cell_type": "markdown",
   "id": "0445ff83",
   "metadata": {},
   "source": [
    "## Week 8: Plotting"
   ]
  },
  {
   "cell_type": "markdown",
   "id": "501c9b53",
   "metadata": {},
   "source": [
    "## Week 9: Machine Learning"
   ]
  },
  {
   "cell_type": "markdown",
   "id": "a41829da",
   "metadata": {},
   "source": [
    "## Week 10: Advanced Topics"
   ]
  },
  {
   "cell_type": "code",
   "execution_count": null,
   "id": "e89e48d7",
   "metadata": {},
   "outputs": [],
   "source": []
  }
 ],
 "metadata": {
  "kernelspec": {
   "display_name": "Python 3 (ipykernel)",
   "language": "python",
   "name": "python3"
  },
  "language_info": {
   "codemirror_mode": {
    "name": "ipython",
    "version": 3
   },
   "file_extension": ".py",
   "mimetype": "text/x-python",
   "name": "python",
   "nbconvert_exporter": "python",
   "pygments_lexer": "ipython3",
   "version": "3.9.7"
  }
 },
 "nbformat": 4,
 "nbformat_minor": 5
}
