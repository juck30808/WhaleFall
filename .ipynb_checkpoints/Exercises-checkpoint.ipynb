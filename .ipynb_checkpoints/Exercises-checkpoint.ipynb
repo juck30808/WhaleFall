{
 "cells": [
  {
   "cell_type": "code",
   "execution_count": 1,
   "metadata": {},
   "outputs": [
    {
     "name": "stdout",
     "output_type": "stream",
     "text": [
      "Summation: 568\n"
     ]
    }
   ],
   "source": [
    "number1 = 13\n",
    "number2 = 555\n",
    "if number1 * number2 > 1000:\n",
    "    print('Summation:', number1 + number2)\n",
    "else:\n",
    "    print('Production:', number1 * number2)"
   ]
  },
  {
   "cell_type": "code",
   "execution_count": 2,
   "metadata": {},
   "outputs": [
    {
     "name": "stdout",
     "output_type": "stream",
     "text": [
      "Not equal\n",
      "Not equal\n"
     ]
    }
   ],
   "source": [
    "my_list = [12, 54, 9, 4, 66, 10]\n",
    "if my_list[0] == my_list[-1]:\n",
    "    print('Equal')\n",
    "else:\n",
    "    print('Not equal')\n",
    "# ----------------------------------\n",
    " \n",
    "my_list = [12, 54, 9, 4, 66, 10]\n",
    "if my_list[0] == my_list[len(my_list)-1]:\n",
    "    print('Equal')\n",
    "else:\n",
    "    print('Not equal')"
   ]
  },
  {
   "cell_type": "code",
   "execution_count": 3,
   "metadata": {},
   "outputs": [
    {
     "name": "stdout",
     "output_type": "stream",
     "text": [
      "30\n",
      "50\n",
      "45\n",
      "60\n",
      "75\n"
     ]
    }
   ],
   "source": [
    "my_list = [12, 30, 24, 50, 44, 45, 60, 75]\n",
    "for item in my_list:\n",
    "    if item % 5 == 0:\n",
    "        print(item)\n",
    "    else:\n",
    "        pass"
   ]
  },
  {
   "cell_type": "code",
   "execution_count": 4,
   "metadata": {},
   "outputs": [
    {
     "name": "stdout",
     "output_type": "stream",
     "text": [
      "3\n"
     ]
    }
   ],
   "source": [
    "text = \"John is good developer. John is a writer John\"\n",
    "words = text.split(' ')\n",
    "counter = 0\n",
    "\n",
    "for word in words:\n",
    "    if word == \"John\":\n",
    "        counter += 1\n",
    "print(counter)"
   ]
  },
  {
   "cell_type": "code",
   "execution_count": 5,
   "metadata": {},
   "outputs": [
    {
     "name": "stdout",
     "output_type": "stream",
     "text": [
      "[50, 40, 30, 20, 10]\n"
     ]
    }
   ],
   "source": [
    "list1 = [10, 20, 30, 40, 50]\n",
    "list2 = []\n",
    "for index in range(-1, -len(list1)-1, -1):\n",
    "    list2.append(list1[index])\n",
    "print(list2)"
   ]
  },
  {
   "cell_type": "code",
   "execution_count": 8,
   "metadata": {},
   "outputs": [
    {
     "name": "stdout",
     "output_type": "stream",
     "text": [
      "2002\n",
      "2009\n",
      "2016\n",
      "2023\n",
      "2037\n",
      "2044\n",
      "2051\n",
      "2058\n",
      "2072\n",
      "2079\n",
      "2086\n",
      "2093\n"
     ]
    }
   ],
   "source": [
    "for i in range(2000, 2101):\n",
    "    if i%7 == 0 and i%5 != 0:\n",
    "        print(i)"
   ]
  },
  {
   "cell_type": "code",
   "execution_count": 9,
   "metadata": {},
   "outputs": [
    {
     "name": "stdout",
     "output_type": "stream",
     "text": [
      "Enter a number: 50\n",
      "30414093201713378043612608166064768844377641568960512000000000000\n"
     ]
    }
   ],
   "source": [
    "number = int(input(\"Enter a number: \"))\n",
    "factorial = 1\n",
    "i = 1\n",
    "while i <= number:\n",
    "    factorial *= i\n",
    "    i += 1\n",
    "print(factorial)"
   ]
  },
  {
   "cell_type": "code",
   "execution_count": 10,
   "metadata": {},
   "outputs": [
    {
     "name": "stdout",
     "output_type": "stream",
     "text": [
      "*\n",
      "**\n",
      "***\n",
      "****\n",
      "*****\n"
     ]
    }
   ],
   "source": [
    "for i in range(1, 6):\n",
    "    print('*' * i)"
   ]
  },
  {
   "cell_type": "code",
   "execution_count": 11,
   "metadata": {},
   "outputs": [
    {
     "name": "stdout",
     "output_type": "stream",
     "text": [
      "    *\n",
      "   **\n",
      "  ***\n",
      " ****\n",
      "*****\n"
     ]
    }
   ],
   "source": [
    "for i in range(1, 6):\n",
    "    print(' '*(5-i) + '*'*i)"
   ]
  },
  {
   "cell_type": "code",
   "execution_count": 12,
   "metadata": {},
   "outputs": [
    {
     "name": "stdout",
     "output_type": "stream",
     "text": [
      "1 \n",
      "1 2 \n",
      "1 2 3 \n",
      "1 2 3 4 \n",
      "1 2 3 4 5 \n"
     ]
    }
   ],
   "source": [
    "for i in range(1, 6):\n",
    "    for j in range(1, i+1):\n",
    "        print(j, end=' ')\n",
    "    print()"
   ]
  },
  {
   "cell_type": "code",
   "execution_count": 15,
   "metadata": {},
   "outputs": [
    {
     "name": "stdout",
     "output_type": "stream",
     "text": [
      "The number 1005 is not prime\n",
      "The number 1006 is not prime\n",
      "The number 1007 is not prime\n",
      "The number 1008 is not prime\n",
      "The number 1009 is prime\n"
     ]
    }
   ],
   "source": [
    "for number in range(1005, 1010):\n",
    "    for i in range(2, number):\n",
    "        if number%i == 0:\n",
    "            print('The number {} is not prime'.format(number))\n",
    "            break\n",
    "    else:\n",
    "        print('The number {} is prime'.format(number))"
   ]
  },
  {
   "cell_type": "code",
   "execution_count": 16,
   "metadata": {},
   "outputs": [
    {
     "name": "stdout",
     "output_type": "stream",
     "text": [
      "Iteration: 1 ====> summation: 1\n",
      "Iteration: 2 ====> summation: 3\n",
      "Iteration: 3 ====> summation: 6\n",
      "Iteration: 4 ====> summation: 10\n",
      "Iteration: 5 ====> summation: 15\n",
      "Iteration: 6 ====> summation: 21\n",
      "Iteration: 7 ====> summation: 28\n",
      "Iteration: 8 ====> summation: 36\n",
      "Iteration: 9 ====> summation: 45\n",
      "Iteration: 10 ====> summation: 55\n"
     ]
    }
   ],
   "source": [
    "for i in range(1, 11):\n",
    "    summation = 0\n",
    "    for j in range(1, i+1):\n",
    "        summation += j\n",
    "    print('Iteration: {} ====> summation: {}'.format(i, summation))"
   ]
  },
  {
   "cell_type": "code",
   "execution_count": 17,
   "metadata": {},
   "outputs": [
    {
     "name": "stdout",
     "output_type": "stream",
     "text": [
      "Enter the number: 5\n",
      "5\n"
     ]
    }
   ],
   "source": [
    "number = input('Enter the number: ')\n",
    "reverse_number = number[::-1]\n",
    "print(reverse_number)"
   ]
  },
  {
   "cell_type": "code",
   "execution_count": 18,
   "metadata": {},
   "outputs": [
    {
     "name": "stdout",
     "output_type": "stream",
     "text": [
      "67\n"
     ]
    }
   ],
   "source": [
    "numbers = [12, 55, 40, 23, 10, 67, 0, -5]\n",
    "maximum = numbers[0]\n",
    "for i in numbers[1:]:\n",
    "    if i > maximum:\n",
    "        maximum = i\n",
    "print(maximum)"
   ]
  },
  {
   "cell_type": "code",
   "execution_count": 19,
   "metadata": {},
   "outputs": [
    {
     "name": "stdout",
     "output_type": "stream",
     "text": [
      "240.0\n"
     ]
    }
   ],
   "source": [
    "def area_of_triangle(base, height):\n",
    "    area = 0.5 * base * height\n",
    "    return area\n",
    "area = area_of_triangle(12, 40)\n",
    "print(area)"
   ]
  },
  {
   "cell_type": "code",
   "execution_count": 20,
   "metadata": {},
   "outputs": [
    {
     "name": "stdout",
     "output_type": "stream",
     "text": [
      "a = 50\n",
      "b = 30\n"
     ]
    }
   ],
   "source": [
    "a = 30\n",
    "b = 50\n",
    " \n",
    "temp = a\n",
    "a = b\n",
    "b = temp\n",
    " \n",
    "print('a =', a)\n",
    "print('b =', b)"
   ]
  },
  {
   "cell_type": "code",
   "execution_count": 21,
   "metadata": {},
   "outputs": [
    {
     "name": "stdout",
     "output_type": "stream",
     "text": [
      "a = 50\n",
      "b = 30\n"
     ]
    }
   ],
   "source": [
    "a = 30\n",
    "b = 50\n",
    " \n",
    "a = a + b # a=80, b=50\n",
    "b = a - b # a=80, b=30\n",
    "a = a - b # a=50, b=30\n",
    " \n",
    "print('a =', a)\n",
    "print('b =', b)"
   ]
  },
  {
   "cell_type": "code",
   "execution_count": 22,
   "metadata": {},
   "outputs": [
    {
     "name": "stdout",
     "output_type": "stream",
     "text": [
      "28.666666666666668\n"
     ]
    }
   ],
   "source": [
    "def get_average(numbers):\n",
    "    summation = 0\n",
    "    for i in numbers:\n",
    "        summation += i\n",
    "    average = summation/len(numbers)\n",
    "    return average\n",
    " \n",
    "ages = [12, 33, 50, 23, 40, 14]\n",
    "avg = get_average(ages)\n",
    "print(avg)"
   ]
  },
  {
   "cell_type": "code",
   "execution_count": 23,
   "metadata": {},
   "outputs": [
    {
     "name": "stdout",
     "output_type": "stream",
     "text": [
      "1 * 1 = 1\n",
      "1 * 2 = 2\n",
      "1 * 3 = 3\n",
      "1 * 4 = 4\n",
      "1 * 5 = 5\n",
      "1 * 6 = 6\n",
      "1 * 7 = 7\n",
      "1 * 8 = 8\n",
      "1 * 9 = 9\n",
      "1 * 10 = 10\n",
      "\n",
      "2 * 1 = 2\n",
      "2 * 2 = 4\n",
      "2 * 3 = 6\n",
      "2 * 4 = 8\n",
      "2 * 5 = 10\n",
      "2 * 6 = 12\n",
      "2 * 7 = 14\n",
      "2 * 8 = 16\n",
      "2 * 9 = 18\n",
      "2 * 10 = 20\n",
      "\n",
      "3 * 1 = 3\n",
      "3 * 2 = 6\n",
      "3 * 3 = 9\n",
      "3 * 4 = 12\n",
      "3 * 5 = 15\n",
      "3 * 6 = 18\n",
      "3 * 7 = 21\n",
      "3 * 8 = 24\n",
      "3 * 9 = 27\n",
      "3 * 10 = 30\n",
      "\n",
      "4 * 1 = 4\n",
      "4 * 2 = 8\n",
      "4 * 3 = 12\n",
      "4 * 4 = 16\n",
      "4 * 5 = 20\n",
      "4 * 6 = 24\n",
      "4 * 7 = 28\n",
      "4 * 8 = 32\n",
      "4 * 9 = 36\n",
      "4 * 10 = 40\n",
      "\n",
      "5 * 1 = 5\n",
      "5 * 2 = 10\n",
      "5 * 3 = 15\n",
      "5 * 4 = 20\n",
      "5 * 5 = 25\n",
      "5 * 6 = 30\n",
      "5 * 7 = 35\n",
      "5 * 8 = 40\n",
      "5 * 9 = 45\n",
      "5 * 10 = 50\n",
      "\n",
      "6 * 1 = 6\n",
      "6 * 2 = 12\n",
      "6 * 3 = 18\n",
      "6 * 4 = 24\n",
      "6 * 5 = 30\n",
      "6 * 6 = 36\n",
      "6 * 7 = 42\n",
      "6 * 8 = 48\n",
      "6 * 9 = 54\n",
      "6 * 10 = 60\n",
      "\n",
      "7 * 1 = 7\n",
      "7 * 2 = 14\n",
      "7 * 3 = 21\n",
      "7 * 4 = 28\n",
      "7 * 5 = 35\n",
      "7 * 6 = 42\n",
      "7 * 7 = 49\n",
      "7 * 8 = 56\n",
      "7 * 9 = 63\n",
      "7 * 10 = 70\n",
      "\n",
      "8 * 1 = 8\n",
      "8 * 2 = 16\n",
      "8 * 3 = 24\n",
      "8 * 4 = 32\n",
      "8 * 5 = 40\n",
      "8 * 6 = 48\n",
      "8 * 7 = 56\n",
      "8 * 8 = 64\n",
      "8 * 9 = 72\n",
      "8 * 10 = 80\n",
      "\n",
      "9 * 1 = 9\n",
      "9 * 2 = 18\n",
      "9 * 3 = 27\n",
      "9 * 4 = 36\n",
      "9 * 5 = 45\n",
      "9 * 6 = 54\n",
      "9 * 7 = 63\n",
      "9 * 8 = 72\n",
      "9 * 9 = 81\n",
      "9 * 10 = 90\n",
      "\n",
      "10 * 1 = 10\n",
      "10 * 2 = 20\n",
      "10 * 3 = 30\n",
      "10 * 4 = 40\n",
      "10 * 5 = 50\n",
      "10 * 6 = 60\n",
      "10 * 7 = 70\n",
      "10 * 8 = 80\n",
      "10 * 9 = 90\n",
      "10 * 10 = 100\n",
      "\n",
      "11 * 1 = 11\n",
      "11 * 2 = 22\n",
      "11 * 3 = 33\n",
      "11 * 4 = 44\n",
      "11 * 5 = 55\n",
      "11 * 6 = 66\n",
      "11 * 7 = 77\n",
      "11 * 8 = 88\n",
      "11 * 9 = 99\n",
      "11 * 10 = 110\n",
      "\n"
     ]
    }
   ],
   "source": [
    "for i in range(1, 12):\n",
    "    for j in range(1, 11):\n",
    "        print(i, '*', j, '=', i*j)\n",
    "    print()"
   ]
  },
  {
   "cell_type": "code",
   "execution_count": 24,
   "metadata": {},
   "outputs": [
    {
     "name": "stdout",
     "output_type": "stream",
     "text": [
      "Enter a number: 5\n",
      "The number is odd\n"
     ]
    }
   ],
   "source": [
    "number = int(input('Enter a number: '))\n",
    "if number%2 == 1:\n",
    "    print('The number is odd')\n",
    "elif number%2 == 0:\n",
    "    print('The number is even')"
   ]
  },
  {
   "cell_type": "code",
   "execution_count": 25,
   "metadata": {},
   "outputs": [
    {
     "name": "stdout",
     "output_type": "stream",
     "text": [
      "Enter the first number: 5\n",
      "Enter the second number: 5\n",
      "Enter the third number: 3\n",
      "5\n"
     ]
    }
   ],
   "source": [
    "number1 = int(input('Enter the first number: '))\n",
    "number2 = int(input('Enter the second number: '))\n",
    "number3 = int(input('Enter the third number: '))\n",
    " \n",
    "if number1 >= number2 and number1 >= number3:\n",
    "    largest = number1\n",
    "elif number2 >= number1 and number2 >= number3:\n",
    "    largest = number2\n",
    "else:\n",
    "    largest = number3\n",
    "\n",
    "print(largest)"
   ]
  },
  {
   "cell_type": "code",
   "execution_count": 26,
   "metadata": {},
   "outputs": [
    {
     "name": "stdout",
     "output_type": "stream",
     "text": [
      "0b1111011\n",
      "0x7b\n",
      "0o173\n"
     ]
    }
   ],
   "source": [
    "number = 123\n",
    " \n",
    "print(bin(number))\n",
    "print(hex(number))\n",
    "print(oct(number))"
   ]
  },
  {
   "cell_type": "code",
   "execution_count": 27,
   "metadata": {},
   "outputs": [
    {
     "name": "stdout",
     "output_type": "stream",
     "text": [
      "97\n",
      "75\n",
      "\n",
      "d\n",
      "P\n"
     ]
    }
   ],
   "source": [
    "print(ord('a'))\n",
    "print(ord('K'))\n",
    " \n",
    "print()\n",
    " \n",
    "print(chr(100))\n",
    "print(chr(80))"
   ]
  },
  {
   "cell_type": "code",
   "execution_count": 28,
   "metadata": {},
   "outputs": [
    {
     "name": "stdout",
     "output_type": "stream",
     "text": [
      "Enter the number: 5\n",
      "1\n",
      "5\n",
      "Enter the number: 4\n",
      "The factors of the number 4 are:\n",
      "[1, 2, 4]\n"
     ]
    }
   ],
   "source": [
    "number = int(input('Enter the number: '))\n",
    "factors = []\n",
    "for i in range(1, number+1):\n",
    "    if number%i == 0:\n",
    "        factors.append(i)\n",
    "print('The factors of the number', number, 'are:')\n",
    "print(factors)"
   ]
  },
  {
   "cell_type": "code",
   "execution_count": 29,
   "metadata": {},
   "outputs": [
    {
     "name": "stdout",
     "output_type": "stream",
     "text": [
      "Enter the word to check: heelo\n",
      "The word is not Palindrome\n"
     ]
    }
   ],
   "source": [
    "word = input('Enter the word to check: ')\n",
    "if word == word[::-1]:\n",
    "    print('The word is Palindrome')\n",
    "else:\n",
    "    print('The word is not Palindrome')"
   ]
  },
  {
   "cell_type": "code",
   "execution_count": 30,
   "metadata": {},
   "outputs": [
    {
     "name": "stdout",
     "output_type": "stream",
     "text": [
      "Enter the degree in Celsius: 112\n",
      "Degree in Fahrenheit: 233.6\n"
     ]
    }
   ],
   "source": [
    "celsius = float(input('Enter the degree in Celsius: '))\n",
    "fahrenheit = (celsius * 1.8) + 32\n",
    "print('Degree in Fahrenheit: {}'.format(fahrenheit))"
   ]
  },
  {
   "cell_type": "code",
   "execution_count": 31,
   "metadata": {},
   "outputs": [
    {
     "name": "stdout",
     "output_type": "stream",
     "text": [
      "Enter a number: 5\n",
      "The number is positive\n"
     ]
    }
   ],
   "source": [
    "number = float(input('Enter a number: '))\n",
    " \n",
    "if number > 0:\n",
    "    print('The number is positive')\n",
    "elif number < 0:\n",
    "    print('The number is negative')\n",
    "else:\n",
    "    print('The number is zero')\n"
   ]
  },
  {
   "cell_type": "code",
   "execution_count": 32,
   "metadata": {},
   "outputs": [
    {
     "name": "stdout",
     "output_type": "stream",
     "text": [
      "0.6152821773231371\n",
      "3\n",
      "[40, 20, 30]\n"
     ]
    }
   ],
   "source": [
    "import random\n",
    " \n",
    "number1 = random.random()\n",
    "print(number1)\n",
    " \n",
    "number2 = random.randint(1, 4)\n",
    "print(number2)\n",
    " \n",
    "number3 = random.sample([10, 20, 30, 40], 3)\n",
    "print(number3)"
   ]
  },
  {
   "cell_type": "code",
   "execution_count": 33,
   "metadata": {},
   "outputs": [
    {
     "name": "stdout",
     "output_type": "stream",
     "text": [
      "The list is empty\n"
     ]
    }
   ],
   "source": [
    "my_list = []\n",
    " \n",
    "if not my_list:\n",
    "    print('The list is empty')"
   ]
  },
  {
   "cell_type": "code",
   "execution_count": 34,
   "metadata": {},
   "outputs": [
    {
     "name": "stdout",
     "output_type": "stream",
     "text": [
      "cHJvZ3JhbW1pbmc=\n"
     ]
    }
   ],
   "source": [
    "import base64\n",
    " \n",
    "plain_text = 'programming'\n",
    "cipher_text = base64.b64encode(plain_text.encode())\n",
    " \n",
    "print(cipher_text.decode())"
   ]
  },
  {
   "cell_type": "code",
   "execution_count": 35,
   "metadata": {},
   "outputs": [
    {
     "name": "stdout",
     "output_type": "stream",
     "text": [
      "programming\n"
     ]
    }
   ],
   "source": [
    "import base64\n",
    " \n",
    "cipher_text = 'cHJvZ3JhbW1pbmc='\n",
    "plain_text = base64.b64decode(cipher_text)\n",
    " \n",
    "print(plain_text.decode())"
   ]
  },
  {
   "cell_type": "code",
   "execution_count": 36,
   "metadata": {},
   "outputs": [
    {
     "name": "stdout",
     "output_type": "stream",
     "text": [
      "Enter the word: tt\n",
      "The MD5 for your input: accc9105df5383111407fd5b41255e23\n"
     ]
    }
   ],
   "source": [
    "import hashlib\n",
    " \n",
    "input_word = input('Enter the word: ')\n",
    "cipher_text = hashlib.md5(input_word.encode())\n",
    "print('The MD5 for your input:', cipher_text.hexdigest())"
   ]
  },
  {
   "cell_type": "code",
   "execution_count": 37,
   "metadata": {},
   "outputs": [
    {
     "name": "stdout",
     "output_type": "stream",
     "text": [
      "His name in work location Peter\n",
      "His name in college Max\n",
      "His name in school John\n"
     ]
    }
   ],
   "source": [
    "def school():\n",
    "    name = 'John'\n",
    "    print (f\"His name in school {name}\")\n",
    "    \n",
    "def college():\n",
    "    name = 'Max'\n",
    "    print (f\"His name in college {name}\")\n",
    "    school()\n",
    "    \n",
    "def work():\n",
    "    name = 'Peter'\n",
    "    print(f\"His name in work location {name}\")\n",
    "    college()\n",
    "\n",
    "work()"
   ]
  },
  {
   "cell_type": "code",
   "execution_count": 38,
   "metadata": {},
   "outputs": [
    {
     "name": "stdout",
     "output_type": "stream",
     "text": [
      "Enter a, b, c: a,b,c\n",
      "Harinla's phone number is 367952\n"
     ]
    }
   ],
   "source": [
    "phone = int()\n",
    "\n",
    "def sony():\n",
    "    global phone\n",
    "    phone = 687962\n",
    "    print (f'Sony\\'s phone number is {phone}')\n",
    "    \n",
    "def juliet():\n",
    "    global phone\n",
    "    phone = 987236\n",
    "    print(f'Juliet\\'s phone number is {phone}')\n",
    "    \n",
    "def harinla():\n",
    "    global phone\n",
    "    phone = 367952\n",
    "    print(f'Harinla\\'s phone number is {phone}')\n",
    "    \n",
    "name = input('Enter a, b, c: ')\n",
    "\n",
    "if name == 'a':\n",
    "    sony()\n",
    "elif name == 'b':\n",
    "    juliet()\n",
    "else:\n",
    "    harinla()"
   ]
  },
  {
   "cell_type": "code",
   "execution_count": 39,
   "metadata": {},
   "outputs": [
    {
     "name": "stdout",
     "output_type": "stream",
     "text": [
      "1100\n"
     ]
    }
   ],
   "source": [
    "balance = 0\n",
    "\n",
    "def user_A(x):\n",
    "    global balance\n",
    "    balance = balance + x\n",
    "    \n",
    "def user_B(x):\n",
    "    global balance\n",
    "    balance = balance + x\n",
    "\n",
    "user_A(500)\n",
    "user_B(600)\n",
    "print(balance)\n"
   ]
  },
  {
   "cell_type": "code",
   "execution_count": 40,
   "metadata": {},
   "outputs": [
    {
     "name": "stdout",
     "output_type": "stream",
     "text": [
      "yes, a creator can view, edit and create the file\n",
      "yes, an editor can view and edit the file\n",
      "yes, a view can view the file\n"
     ]
    }
   ],
   "source": [
    "view, edit, create = 1,1,1\n",
    "class User:\n",
    "    def __init__(self, rights):\n",
    "        self.rights = rights \n",
    "    def can_view(self):\n",
    "        return view & self.rights\n",
    "    def can_edit (self):\n",
    "        return edit & self.rights\n",
    "    def can_create(self):\n",
    "        return create & self.rights\n",
    "    \n",
    "viewer = User(view)\n",
    "editor = User(view | edit)\n",
    "creator = User(view | edit | create)\n",
    "\n",
    "\n",
    "if creator.can_create():\n",
    "    print('yes, a creator can view, edit and create the file')\n",
    "else:\n",
    "    print('No')\n",
    "    \n",
    "if editor.can_edit():\n",
    "    print('yes, an editor can view and edit the file')\n",
    "else:\n",
    "    print('No')\n",
    "    \n",
    "if viewer.can_view():\n",
    "    print('yes, a view can view the file')\n",
    "else:\n",
    "    print('No')\n",
    "    "
   ]
  },
  {
   "cell_type": "code",
   "execution_count": 41,
   "metadata": {},
   "outputs": [
    {
     "name": "stdout",
     "output_type": "stream",
     "text": [
      "Enter the length of 2 lists: 1\n",
      "Enter element number 1  for list l1: 2\n",
      "Enter element number 1  for list l2: 3\n",
      "Elements in 2 lists ([2], [3])\n",
      "difference between the two lists [2, 3]\n"
     ]
    }
   ],
   "source": [
    "n= int(input('Enter the length of 2 lists: '))\n",
    "l1, l2 = [], []\n",
    "\n",
    "for i in range(n):\n",
    "    a=int(input(f'Enter element number {i+1}  for list l1: '))\n",
    "    l1.append(a)\n",
    "\n",
    "for i in range(n):\n",
    "    b=int(input(f'Enter element number {i+1}  for list l2: '))\n",
    "    l2.append(b)\n",
    "\n",
    "print (f'Elements in 2 lists {l1, l2}')\n",
    "\n",
    "diff_l1_l2 = list(set(l1) - set(l2))\n",
    "diff_l2_l1 = list(set(l2) - set(l1))\n",
    "total_diff = diff_l1_l2 + diff_l2_l1\n",
    "\n",
    "print(f'difference between the two lists {total_diff}')"
   ]
  },
  {
   "cell_type": "code",
   "execution_count": 42,
   "metadata": {},
   "outputs": [
    {
     "name": "stdout",
     "output_type": "stream",
     "text": [
      "Enter the length of list: 1\n",
      "Enter element number 1  for list: 2\n",
      "list before sorting: [2]\n",
      "list after sorting: [2]\n"
     ]
    }
   ],
   "source": [
    "n= int(input('Enter the length of list: '))\n",
    "list1=[]\n",
    "for i in range(n):\n",
    "    a=int(input(f'Enter element number {i+1}  for list: '))\n",
    "    list1.append(a)\n",
    "new_list = []\n",
    "\n",
    "print(f'list before sorting: {list1}')\n",
    "while list1:\n",
    "    mini = list1[0]  # arbitrary number in list \n",
    "    for x in list1: \n",
    "        if x < mini:\n",
    "            mini = x\n",
    "    new_list.append(mini)\n",
    "    list1.remove(mini)\n",
    "\n",
    "print(f'list after sorting: {new_list}')\n"
   ]
  },
  {
   "cell_type": "code",
   "execution_count": 43,
   "metadata": {},
   "outputs": [
    {
     "name": "stdout",
     "output_type": "stream",
     "text": [
      "Enter the length of 2 lists: 1\n",
      "Enter element number 1  for list l1: 2\n",
      "\n",
      "\n",
      "Enter element number 1  for list l2: 3\n",
      "\n",
      "ist one is in actual order and 2nd one is in reverse order\n",
      "2 3\n"
     ]
    }
   ],
   "source": [
    "n= int(input('Enter the length of 2 lists: '))\n",
    "l1, l2 = [], []\n",
    "\n",
    "for i in range(n):\n",
    "    a=int(input(f'Enter element number {i+1}  for list l1: '))\n",
    "    l1.append(a)\n",
    "print(\"\\n\")\n",
    "for i in range(n):\n",
    "    b=int(input(f'Enter element number {i+1}  for list l2: '))\n",
    "    l2.append(b)\n",
    "\n",
    "    \n",
    "print('\\nist one is in actual order and 2nd one is in reverse order')\n",
    "for x, y in zip(l1, l2[::-1]):\n",
    "    print(x, y)"
   ]
  },
  {
   "cell_type": "code",
   "execution_count": 44,
   "metadata": {
    "scrolled": true
   },
   "outputs": [
    {
     "name": "stdout",
     "output_type": "stream",
     "text": [
      "All Subject Marks: {'Physics': 92, 'Math': 65, 'History': 35, 'Computer': 88, 'Language': 82}\n",
      "Maximum mark scored in subject ('Physics', 92)\n",
      "Minimum mark scored in subject ('History', 35)\n"
     ]
    }
   ],
   "source": [
    "def mini(marks):\n",
    "    current_min=list(marks.values())[0]\n",
    "    for k, v in marks.items():\n",
    "        if v < current_min:\n",
    "            current_min = v\n",
    "            sub_min_score = k\n",
    "    return sub_min_score, current_min\n",
    "\n",
    "def maxi(marks):\n",
    "    current_max=list(marks.values())[-1]\n",
    "    for k, v in marks.items():\n",
    "        if v > current_max:\n",
    "            current_max = v\n",
    "            sub_max_score = k\n",
    "    return sub_max_score, current_max\n",
    "\n",
    "Marks = {'Physics': 92, 'Math': 65, 'History': 35,'Computer': 88, 'Language': 82}\n",
    "print(\"All Subject Marks: \" + str(Marks))\n",
    "\n",
    "print(f'Maximum mark scored in subject {maxi(Marks)}')\n",
    "print(f'Minimum mark scored in subject {mini(Marks)}')"
   ]
  },
  {
   "cell_type": "code",
   "execution_count": 45,
   "metadata": {},
   "outputs": [
    {
     "name": "stdout",
     "output_type": "stream",
     "text": [
      "Enter string:1\n",
      "Count of the vowels is: 0\n",
      "vowels present in the input string: set()\n"
     ]
    }
   ],
   "source": [
    "s=input(\"Enter string:\")\n",
    "count = 0\n",
    "vowels = set(\"aeiou\")\n",
    "vow_in_str=[]\n",
    "for letter in s:\n",
    "    if letter in vowels:\n",
    "        vow_in_str.append(letter)\n",
    "        count += 1\n",
    "print(f\"Count of the vowels is: {count}\")\n",
    "print(f'vowels present in the input string: {set(vow_in_str)}')"
   ]
  },
  {
   "cell_type": "code",
   "execution_count": 46,
   "metadata": {},
   "outputs": [
    {
     "name": "stdout",
     "output_type": "stream",
     "text": [
      "Enter total number of commands to be executed: 1\n",
      "Enter command and variable: 2\n",
      "remaining elements in the given set: {1, 2, 3, 4, 5, 6, 7, 8, 9}\n",
      "Sum of elements in the remaining set 45\n"
     ]
    }
   ],
   "source": [
    "s = {1, 2, 3, 4, 5, 6, 7, 8, 9}\n",
    "n = int(input('Enter total number of commands to be executed: '))\n",
    "for i in range(n):\n",
    "    cmd=input('Enter command and variable: ').split()\n",
    "    if cmd[0]=='pop':\n",
    "        s.pop()\n",
    "    elif cmd[0]=='remove':\n",
    "        s.remove(int(cmd[1]))\n",
    "    elif cmd[0]=='discard':\n",
    "        s.discard(int(cmd[1]))\n",
    "print(f'remaining elements in the given set: {s}')\n",
    "print(f'Sum of elements in the remaining set {sum(s)}')"
   ]
  },
  {
   "cell_type": "code",
   "execution_count": 47,
   "metadata": {},
   "outputs": [
    {
     "name": "stdout",
     "output_type": "stream",
     "text": [
      "Enter total number of elements going to get as input: 1\n",
      "Enter item number 1: 2\n",
      "Enter total number of operations going to perform: 3\n",
      "k is greater than n\n",
      "Enter the element number 1 to enqueue: 4\n",
      "Enter the element number 2 to enqueue: 5\n",
      "Enter the element number 3 to enqueue: 1\n",
      "Remaining items:  [2, 4, 5, 1]\n"
     ]
    }
   ],
   "source": [
    "n = int(input('Enter total number of elements going to get as input: '))\n",
    "\n",
    "items=[]\n",
    "for i in range(n):\n",
    "    ele=int(input(f'Enter item number {i+1}: '))\n",
    "    items.append(ele)\n",
    "\n",
    "k = int(input('Enter total number of operations going to perform: '))\n",
    "    \n",
    "if k<n:\n",
    "    #k is lesser than n so considering stack\n",
    "    print('k is not greater than n')\n",
    "    for i in range(k):\n",
    "        items.pop()\n",
    "else:\n",
    "    #k is greater than n so considering queue\n",
    "    print('k is greater than n')\n",
    "    for i in range(k):\n",
    "        ele=int(input(f'Enter the element number {i+1} to enqueue: '))\n",
    "        items.append(ele)\n",
    "                      \n",
    "print('Remaining items: ', items)"
   ]
  },
  {
   "cell_type": "code",
   "execution_count": 48,
   "metadata": {},
   "outputs": [
    {
     "name": "stdout",
     "output_type": "stream",
     "text": [
      "Number of villans: 1\n",
      "Power of 1 villans 2\n",
      "Number of Rounds: 3\n",
      "Superhero's power in round 1: 4\n",
      "Our Superhero can able to defeat 1 villans in round 1 and their total power is 2\n",
      "Superhero's power in round 2: 5\n",
      "Our Superhero can able to defeat 1 villans in round 2 and their total power is 2\n",
      "Superhero's power in round 3: 6\n",
      "Our Superhero can able to defeat 1 villans in round 3 and their total power is 2\n"
     ]
    }
   ],
   "source": [
    "n=int(input('Number of villans: '))\n",
    "arr=list(map(int,input(f'Power of {n} villans ').split()))\n",
    "rounds=int(input('Number of Rounds: '))\n",
    "for i in range(rounds):\n",
    "    total_pow=0\n",
    "    pow=int(input(f'Superhero\\'s power in round {i+1}: '))\n",
    "    x=0\n",
    "    while x<pow and x<len(arr):\n",
    "        if x<=pow:\n",
    "            total_pow+=arr[x]\n",
    "            x=x+1\n",
    "    print(f'Our Superhero can able to defeat {x} villans in round {i+1} and their total power is {total_pow}')"
   ]
  },
  {
   "cell_type": "code",
   "execution_count": 49,
   "metadata": {},
   "outputs": [
    {
     "name": "stdout",
     "output_type": "stream",
     "text": [
      "[1, 2, 3, 4, 5, 6, 7, 8, 9]\n"
     ]
    }
   ],
   "source": [
    "def bubble_sort(boxes):\n",
    "    swapped = True\n",
    "    while swapped:\n",
    "        swapped = False\n",
    "        for i in range(len(boxes)-1):\n",
    "            if boxes[i] > boxes[i+1]:\n",
    "                boxes[i], boxes[i+1] = boxes[i+1], boxes[i]\n",
    "                swapped = True\n",
    "    \n",
    "\n",
    "boxes = [9, 1, 7, 6, 2, 8, 5, 3, 4]\n",
    "bubble_sort(boxes)\n",
    "print(boxes)"
   ]
  },
  {
   "cell_type": "code",
   "execution_count": 50,
   "metadata": {},
   "outputs": [
    {
     "name": "stdout",
     "output_type": "stream",
     "text": [
      "Player found in position number 3\n"
     ]
    }
   ],
   "source": [
    "def linear_search(player, value):\n",
    "    for index in range(len(player)):\n",
    "        if value == player[index]:\n",
    "            return index+1\n",
    "    raise ValueError('Player not found')\n",
    "    \n",
    "\n",
    "player_number = [2, 9, 8, 3, 4, 7, 6, 5]\n",
    "print(f'Player found in position number {linear_search(player_number, 8)}')"
   ]
  },
  {
   "cell_type": "code",
   "execution_count": 51,
   "metadata": {},
   "outputs": [
    {
     "data": {
      "text/plain": [
       "75025"
      ]
     },
     "execution_count": 51,
     "metadata": {},
     "output_type": "execute_result"
    }
   ],
   "source": [
    "def fibonacci(n):\n",
    "    if n <= 1:\n",
    "        return n\n",
    "    return fibonacci(n-1) + fibonacci(n-2)\n",
    "fibonacci(25)"
   ]
  },
  {
   "cell_type": "code",
   "execution_count": 52,
   "metadata": {},
   "outputs": [
    {
     "name": "stdout",
     "output_type": "stream",
     "text": [
      "Enter a number to check: 1\n",
      "entered value is not divisible by 3\n",
      "Enter a number to check: 2\n",
      "entered value is not divisible by 3\n"
     ]
    }
   ],
   "source": [
    "for i in range(2):\n",
    "    def cube(number):\n",
    "        return number**3\n",
    "    def by_three(number):\n",
    "        if number %3 ==0:\n",
    "            print(f'Cube of enterd input is : {cube(number)}')\n",
    "        else:\n",
    "            print ('entered value is not divisible by 3')\n",
    "\n",
    "    n=int(input('Enter a number to check: '))\n",
    "    by_three(n)"
   ]
  },
  {
   "cell_type": "code",
   "execution_count": 53,
   "metadata": {},
   "outputs": [
    {
     "name": "stdout",
     "output_type": "stream",
     "text": [
      "Enter worked hours:1\n",
      "the pay is: 10.0\n"
     ]
    }
   ],
   "source": [
    "def computepay(hours,rate):\n",
    "    if hours < 40:\n",
    "       pay=hours*rate\n",
    "       print (\"the pay is:\", pay)\n",
    "    else:\n",
    "       pay = 40 * rate + (hours-40)*1.5*rate\n",
    "       print (\"the pay is:\", pay)\n",
    "\n",
    "hours=input(\"Enter worked hours:\")\n",
    "hours=float(hours)\n",
    "rate=10\n",
    "computepay(hours,rate)"
   ]
  },
  {
   "cell_type": "code",
   "execution_count": 57,
   "metadata": {},
   "outputs": [
    {
     "name": "stdout",
     "output_type": "stream",
     "text": [
      "Enter the number of the subject: 1\n",
      "Enter the name of the subject:2\n",
      "Enter the mark scored in 2: 3\n",
      "Student should concentrate more on 2\n"
     ]
    }
   ],
   "source": [
    "n = int(input('Enter the number of the subject: '))\n",
    "scores={}\n",
    "for i in range(n):\n",
    "    key = input(\"Enter the name of the subject:\")\n",
    "    value = input(f\"Enter the mark scored in {key}: \")\n",
    "    scores[key] = value\n",
    "    \n",
    "sorted_scores = sorted(scores.items(), key=lambda item: item[1])\n",
    "print(f'Student should concentrate more on {sorted_scores[0][0]}')"
   ]
  },
  {
   "cell_type": "code",
   "execution_count": 58,
   "metadata": {},
   "outputs": [
    {
     "name": "stdout",
     "output_type": "stream",
     "text": [
      "Original list:\n",
      "[-10, -4, 6, 8, -5, -3, 7, 3, -9]\n",
      "Rearranged positive and negative numbers of the given list:\n",
      "[3, 6, 7, 8, -10, -9, -5, -4, -3]\n"
     ]
    }
   ],
   "source": [
    "l1 = [-10, -4, 6, 8, -5, -3, 7, 3, -9]\n",
    "print(\"Original list:\")\n",
    "print(l1)\n",
    "result = sorted(l1, key = lambda i: 0 if i == 0 else -1 / i)\n",
    "print(\"Rearranged positive and negative numbers of the given list:\")\n",
    "print(result)"
   ]
  },
  {
   "cell_type": "code",
   "execution_count": 59,
   "metadata": {},
   "outputs": [
    {
     "name": "stdout",
     "output_type": "stream",
     "text": [
      "Original lists:\n",
      "[1, 2, 3, 4, 5, 6, 7, 8, 9, 10, 11, 12, 13, 14]\n",
      "[[12, 18, 23, 25, 45], [7, 11, 19, 24, 28], [1, 5, 8, 18, 15, 16]]\n",
      "\n",
      "Common items between 2 given lists:\n",
      "[[12], [7, 11], [1, 5, 8]]\n"
     ]
    }
   ],
   "source": [
    "def finder(l1, l2):\n",
    "    result = [list(filter(lambda x: x in l1, sublist)) for sublist in l2]\n",
    "    return result\n",
    "list1 = [1, 2, 3, 4, 5, 6, 7, 8, 9, 10, 11, 12, 13, 14]\n",
    "list2 = [[12, 18, 23, 25, 45], [7, 11, 19, 24, 28], [1, 5, 8, 18, 15, 16]]\n",
    "print(\"Original lists:\")\n",
    "print(list1)\n",
    "print(list2)\n",
    "print(\"\\nCommon items between 2 given lists:\")\n",
    "print(finder(list1, list2))"
   ]
  },
  {
   "cell_type": "code",
   "execution_count": 60,
   "metadata": {},
   "outputs": [
    {
     "name": "stdout",
     "output_type": "stream",
     "text": [
      "\n",
      "Players in opponent team:\n",
      "['Alberto', 'Franco', 'Ryan', 'Hinton', 'Parkes']\n",
      "players weights in opponent team:\n",
      "[75, 77, 69, 75, 68]\n",
      "Average weight of opponent team is: 72.8\n"
     ]
    }
   ],
   "source": [
    "players = [('Alberto','75kg'), ('Franco','77kg'), ('Ryan', '69kg'), ('Hinton', '75kg'), ('Parkes', '68kg')]\n",
    "player_name = list(map(lambda x:x[0], players))\n",
    "player_weight = list(map(lambda x: int(x[1][:-2]), players))\n",
    "\n",
    "print(\"\\nPlayers in opponent team:\")\n",
    "print(player_name)\n",
    "print(\"players weights in opponent team:\")\n",
    "print(player_weight)\n",
    "\n",
    "from functools import reduce\n",
    "# The reduce method can be used to loop through the list\n",
    "def average(weight):\n",
    "    return reduce(lambda x, y: x + y, weight) / len(weight)\n",
    "\n",
    "print (f'Average weight of opponent team is: {average(player_weight)}')"
   ]
  },
  {
   "cell_type": "code",
   "execution_count": 61,
   "metadata": {},
   "outputs": [
    {
     "name": "stdout",
     "output_type": "stream",
     "text": [
      "Enter the strength of the class room: 1\n",
      "enter the assesment_ 1 marks of 1 students (space separated): 2\n",
      "enter the assesment_ 2 marks of 1 students (space separated): 3\n",
      "enter the assesment_ 3 marks of 1 students (space separated): 4\n",
      "Average score of the class:  3\n"
     ]
    }
   ],
   "source": [
    "n = int(input('Enter the strength of the class room: '))\n",
    "\n",
    "asses_1=list(map(int,input(f'enter the assesment_ 1 marks of {n} students (space separated): ').split()))\n",
    "asses_2=list(map(int,input(f'enter the assesment_ 2 marks of {n} students (space separated): ').split()))\n",
    "asses_3=list(map(int,input(f'enter the assesment_ 3 marks of {n} students (space separated): ').split()))\n",
    "\n",
    "\n",
    "a=list(zip(asses_1, asses_2, asses_3))\n",
    "\n",
    "result = [sum(i) /len(i) for i in a]\n",
    "\n",
    "def average(result):\n",
    "    return reduce(lambda x, y: x + y, result) / len(result)\n",
    "\n",
    "print('Average score of the class: ', round(average(result)))"
   ]
  },
  {
   "cell_type": "code",
   "execution_count": 62,
   "metadata": {},
   "outputs": [
    {
     "name": "stdout",
     "output_type": "stream",
     "text": [
      "Enter a passage to identify unique and meaningful words in it: 1\n",
      "Unique and meaningful words in the given passage:\n",
      "set()\n"
     ]
    }
   ],
   "source": [
    "sentence=input('Enter a passage to identify unique and meaningful words in it: ')\n",
    "words = sentence.lower().split()\n",
    "unique_words={word for word in words if len(word) >= 3 }\n",
    "print(f'Unique and meaningful words in the given passage:\\n{unique_words}')"
   ]
  },
  {
   "cell_type": "code",
   "execution_count": null,
   "metadata": {},
   "outputs": [],
   "source": [
    "old_price = {'petrol': 91.09, 'diesel': 82.16}\n",
    "print(f'yesterday price: {old_price}')\n",
    "\n",
    "petrol_price_update = float(input('Enter the petrol price update today: '))\n",
    "diesel_price_update = float(input('Enter the diesel price update today: '))\n",
    "\n",
    "def price_updater(petrol_price_update, diesel_price_update, old_price):\n",
    "    def petrol_updater(petrol_price_upadte, old_price):\n",
    "        petrol={item: value+petrol_price_update for (item, value) in old_price.items() if item =='petrol'}\n",
    "        return petrol\n",
    "    def diesel_updater(diesel_price_update, old_price):\n",
    "        diesel = {item: value+diesel_price_update for (item, value) in old_price.items() if item =='diesel'}\n",
    "        return diesel\n",
    "    return petrol_updater(petrol_price_update, old_price), diesel_updater(diesel_price_update, old_price)\n",
    "\n",
    "petrol_price, diesel_price = price_updater(petrol_price_update,diesel_price_update, old_price)\n",
    "\n",
    "print(petrol_price, diesel_price)    "
   ]
  },
  {
   "cell_type": "code",
   "execution_count": 63,
   "metadata": {},
   "outputs": [
    {
     "name": "stdout",
     "output_type": "stream",
     "text": [
      "Most demanded course in the market:\n",
      "{'java': 39}\n"
     ]
    }
   ],
   "source": [
    "import statistics as s\n",
    "import random\n",
    "randomlist = []\n",
    "for i in range(0,100):\n",
    "    n = random.randint(0,2)\n",
    "    randomlist.append(n)\n",
    "a =randomlist\n",
    "d={}\n",
    "\n",
    "if s.mode(a)==0:\n",
    "    d.update(python = a.count(0))\n",
    "elif s.mode(a)==1:\n",
    "    d.update(java = a.count(1))\n",
    "else:\n",
    "    d.update(c = a.count(2))\n",
    "    \n",
    "print(f'Most demanded course in the market:\\n{d}')"
   ]
  },
  {
   "cell_type": "code",
   "execution_count": 64,
   "metadata": {},
   "outputs": [
    {
     "name": "stdout",
     "output_type": "stream",
     "text": [
      "Enter total number of players: 1\n",
      "Enter player name:2\n",
      "Enter 2's stamina :3\n",
      "Most dificult player to tackle: 2\n",
      "Most Easy player to tackle: 2\n",
      "Easy target\n"
     ]
    }
   ],
   "source": [
    "import statistics as s\n",
    "n=int(input('Enter total number of players: '))\n",
    "stamina = {}\n",
    "for i in range(n):\n",
    "    key = input(\"Enter player name:\")\n",
    "    value = float(input(f\"Enter {key}\\'s stamina :\"))\n",
    "    stamina[key] = value\n",
    "    \n",
    "print(f'Most dificult player to tackle: {max(stamina, key=stamina.get)}')\n",
    "print(f'Most Easy player to tackle: {min(stamina, key=stamina.get)}')\n",
    "\n",
    "if s.mean(stamina.values()) > 7.5:\n",
    "    print('Agressive target')\n",
    "elif s.mean(stamina.values()) > 5 and s.mean(stamina.values()) < 7.5:\n",
    "    print('Normal target')\n",
    "else:\n",
    "    print('Easy target')"
   ]
  },
  {
   "cell_type": "code",
   "execution_count": 65,
   "metadata": {},
   "outputs": [
    {
     "name": "stdout",
     "output_type": "stream",
     "text": [
      "Johny won the election. People will start the protest\n"
     ]
    }
   ],
   "source": [
    "import random\n",
    "import statistics as s\n",
    "\n",
    "letters = ['Johny', 'Rose', 'Juliet']\n",
    "#78.32% votes from 10000 = 7832\n",
    "votes = ( ' '.join(random.choice(letters) for i in range(7832)) )\n",
    "\n",
    "def Convert(string): \n",
    "    li = list(string.split(\" \")) \n",
    "    return li \n",
    "\n",
    "votes = Convert(votes) \n",
    "result = s.mode(votes)\n",
    "\n",
    "if result == 'Juliet':\n",
    "    print (f'{result} won the election.')\n",
    "    \n",
    "elif result == 'Johny'or result != 'Rose':\n",
    "    print(f'{result} won the election. People will start the protest')\n",
    "\n",
    "else:\n",
    "    print(f'{result} won the election. People will celebrate')"
   ]
  },
  {
   "cell_type": "code",
   "execution_count": 66,
   "metadata": {},
   "outputs": [
    {
     "name": "stdout",
     "output_type": "stream",
     "text": [
      "Type 1 for circumference or type 2 for area: 2\n",
      "Enter radius value: 3\n",
      "Area of circle: 28.26\n"
     ]
    }
   ],
   "source": [
    "from math import *\n",
    "# circumference of circle\n",
    "def circumference(r):\n",
    "    return 2*3.14*r\n",
    "\n",
    "# Area of circle\n",
    "def area(r):\n",
    "    return 3.14*r**2\n",
    "\n",
    "formula = input(\"Type 1 for circumference or type 2 for area: \")\n",
    "r = float(input('Enter radius value: '))\n",
    "if (formula == '1'):\n",
    "    cir= eval('circumference(r)')\n",
    "    print(\"Circumference of circle:\", cir)\n",
    "elif (formula == '2'):\n",
    "    ar = eval('area(r)')\n",
    "    print(\"Area of circle:\", ar)\n",
    "else:\n",
    "    print('Invalid selection')"
   ]
  },
  {
   "cell_type": "code",
   "execution_count": 67,
   "metadata": {},
   "outputs": [
    {
     "name": "stdout",
     "output_type": "stream",
     "text": [
      "KKR selected 15 players for this IPL 2021\n",
      "CSK selected 14 players for this IPL 2021\n",
      "SRH selected 13 players for this IPL 2021\n",
      "Remaining player available for next day bidding: 19\n"
     ]
    }
   ],
   "source": [
    "import random\n",
    "teams = ['RCB', 'KKR', 'CSK', 'SRH']\n",
    "RCB, KKR, CSK, SRH = [],[],[],[]\n",
    "total_players=73\n",
    "\n",
    "for i in range(total_players):\n",
    "    n = random.choice(teams)\n",
    "    if n=='RCB':\n",
    "        RCB.append(n)\n",
    "        if len(RCB) == 13:\n",
    "            print(f'RCB selected {len(RCB)} players for this IPL 2021')\n",
    "            break\n",
    "for i in range(total_players):\n",
    "    n = random.choice(teams)\n",
    "    if n=='KKR':\n",
    "        KKR.append(n)\n",
    "        if len(KKR) == 15:\n",
    "            print(f'KKR selected {len(KKR)} players for this IPL 2021')\n",
    "            break\n",
    "for i in range(total_players):\n",
    "    n = random.choice(teams)  \n",
    "    if n=='CSK':\n",
    "        CSK.append(n)\n",
    "        if len(CSK) == 14:\n",
    "            print(f'CSK selected {len(CSK)} players for this IPL 2021')\n",
    "            break\n",
    "for i in range(total_players):\n",
    "    n = random.choice(teams)\n",
    "    if n=='SRH':\n",
    "        SRH.append(n)\n",
    "        if len(SRH) == 13:\n",
    "            print(f'SRH selected {len(SRH)} players for this IPL 2021')\n",
    "            break\n",
    "Remaining= total_players - sum([len(RCB), len(KKR), len(CSK), len(SRH)])\n",
    "print(f'Remaining player available for next day bidding: {Remaining}')"
   ]
  },
  {
   "cell_type": "code",
   "execution_count": 68,
   "metadata": {},
   "outputs": [
    {
     "name": "stdout",
     "output_type": "stream",
     "text": [
      "Top 5 student's scores: [97, 97, 96, 94, 94]\n",
      "Bottom 5 student's score:[3, 4, 5, 6, 8]\n",
      "Teacher should concentrate more on students\n"
     ]
    }
   ],
   "source": [
    "import random\n",
    "marks=[]\n",
    "total_students=65\n",
    "for i in range(total_students):\n",
    "    n = random.randint(1,100)\n",
    "    marks.append(n)\n",
    "\n",
    "failed_students=[]\n",
    "cleared_students=[]\n",
    "for i in marks:\n",
    "    if i<35:\n",
    "        failed_students.append(i)\n",
    "    else:\n",
    "        cleared_students.append(i)\n",
    "\n",
    "cleared_students.sort(reverse=True)\n",
    "failed_students.sort()\n",
    "print(f'Top 5 student\\'s scores: {cleared_students[0:5]}')\n",
    "print(f'Bottom 5 student\\'s score:{failed_students[0:5]}')\n",
    "\n",
    "fail_percent= (len(failed_students) / total_students)*100\n",
    "\n",
    "if fail_percent >=35:\n",
    "    print('Teacher should concentrate more on students')\n",
    "elif fail_percent <35 and fail_percent > 25:\n",
    "    print('Students are above average, keep the good work up')\n",
    "else:\n",
    "    print('Excellent batch, salary hike announced')"
   ]
  },
  {
   "cell_type": "code",
   "execution_count": 69,
   "metadata": {},
   "outputs": [
    {
     "name": "stdout",
     "output_type": "stream",
     "text": [
      "Enter number of deliveries: 1\n",
      "Enter order name: 2\n",
      "Order delivered to 2\n"
     ]
    }
   ],
   "source": [
    "n=int(input('Enter number of deliveries: '))\n",
    "order_names=list(map(str,input(f'Enter order name: ').split()))\n",
    "\n",
    "def deliver_presents_recursively(order_names):\n",
    "    if len(order_names) == 1:\n",
    "        order_names = order_names[0]\n",
    "        print(\"Order delivered to\", order_names)\n",
    "\n",
    "    else:\n",
    "        mid = len(order_names) // 2\n",
    "        first_half = order_names[:mid]\n",
    "        second_half = order_names[mid:]\n",
    "\n",
    "        deliver_presents_recursively(first_half)\n",
    "        deliver_presents_recursively(second_half)\n",
    "deliver_presents_recursively(order_names)"
   ]
  },
  {
   "cell_type": "code",
   "execution_count": 70,
   "metadata": {},
   "outputs": [
    {
     "name": "stdout",
     "output_type": "stream",
     "text": [
      "Secret message is: \n",
      "kill number 3 and rob 4"
     ]
    }
   ],
   "source": [
    "def identifier(string): \n",
    "    if len(string) == 0: \n",
    "        return\n",
    "    temp = string[0] \n",
    "    identifier(string[1:]) \n",
    "    print(temp, end='') \n",
    "\n",
    "message = \"4 bor dna 3 rebmun llik\"\n",
    "print('Secret message is: ')\n",
    "identifier(message)"
   ]
  },
  {
   "cell_type": "code",
   "execution_count": 71,
   "metadata": {},
   "outputs": [
    {
     "name": "stdout",
     "output_type": "stream",
     "text": [
      "Enter a statement to encrypt : 1\n",
      "Encrypted message: \n",
      "\n"
     ]
    }
   ],
   "source": [
    "l=[]\n",
    "def encryptWord(statement,key):\n",
    "    size=len(statement)\n",
    "    encrypt(statement,size,key)\n",
    "\n",
    "def encrypt(statement,length,key,count=0):\n",
    "    if count==length:\n",
    "        glue=''\n",
    "        newWord=glue.join(l)\n",
    "        print (newWord)\n",
    "    else:\n",
    "        asci=(ord(statement[0])+key)%122\n",
    "        if asci==0:\n",
    "            l.append(chr(122))\n",
    "        elif asci<97:\n",
    "            l.append(chr(asci+96))\n",
    "        else:\n",
    "            l.append(chr(asci))\n",
    "        encrypt(statement[1:],length,key,count+1)\n",
    "\n",
    "def main():\n",
    "    message=input('Enter a statement to encrypt : ')\n",
    "    key=7\n",
    "    print('Encrypted message: ')\n",
    "    encryptWord(message,key)\n",
    "\n",
    "main()"
   ]
  },
  {
   "cell_type": "code",
   "execution_count": 72,
   "metadata": {},
   "outputs": [
    {
     "name": "stdout",
     "output_type": "stream",
     "text": [
      "Enter total number of pasengers: 1\n",
      "Total collection: 79\n"
     ]
    }
   ],
   "source": [
    "class Vehicle:\n",
    "    def __init__(self, passenger):\n",
    "        self.passenger = passenger\n",
    "\n",
    "    def collection(self):\n",
    "        return self.passenger * 79\n",
    "\n",
    "class Bus(Vehicle):\n",
    "    pass\n",
    "\n",
    "n=int(input('Enter total number of pasengers: '))\n",
    "bus = Bus(n)\n",
    "print(\"Total collection:\", bus.collection())"
   ]
  },
  {
   "cell_type": "code",
   "execution_count": 73,
   "metadata": {},
   "outputs": [
    {
     "name": "stdout",
     "output_type": "stream",
     "text": [
      "Enter kms between origin and destination: 1\n",
      "fuel in litres: 2\n",
      "fuel filled for Rs. 170\n",
      "fuel is not enough the destination, please fill fuel again after 70 kms\n"
     ]
    }
   ],
   "source": [
    "class Vehicle:\n",
    "    def __init__(self, fuel, mileage):\n",
    "        self.fuel = fuel\n",
    "        self.mileage = mileage\n",
    "\n",
    "    def calc(self):\n",
    "        return self.fuel *85, self.mileage * self.fuel\n",
    "\n",
    "class Bike(Vehicle):\n",
    "    pass\n",
    "    \n",
    "total_kms=int(input('Enter kms between origin and destination: '))\n",
    "fuel=int(input('fuel in litres: '))\n",
    "mileage=35\n",
    "bike = Bike(fuel, mileage)\n",
    "\n",
    "fuel_price, total_mileage = bike.calc()\n",
    "\n",
    "print(f'fuel filled for Rs. {fuel_price}')\n",
    "can_travel = total_kms-total_mileage\n",
    "\n",
    "if can_travel < n:\n",
    "    print(f'fuel is not enough the destination, please fill fuel again after {total_kms - can_travel} kms')\n",
    "else:\n",
    "    print('fuel is enough to reach the destination')\n"
   ]
  },
  {
   "cell_type": "code",
   "execution_count": 74,
   "metadata": {},
   "outputs": [
    {
     "name": "stdout",
     "output_type": "stream",
     "text": [
      "choose the model type (x, y, or z): y\n",
      "The Maximum speed of model y is 234 kmph\n"
     ]
    }
   ],
   "source": [
    "class Vehicle:\n",
    "    def __init__(self, name):\n",
    "        self.name = name\n",
    "\n",
    "    def max_speed(self, speed):\n",
    "        return f\"The Maximum speed of model {self.name} is {speed}\"\n",
    "\n",
    "class x(Vehicle):\n",
    "    def max_speed(self, speed='186 kmph'):\n",
    "        return super().max_speed(speed='186 kmph')\n",
    "\n",
    "class y(Vehicle):\n",
    "    def max_speed(self, speed='234 kmph'):\n",
    "        return super().max_speed(speed='234 kmph')\n",
    "    \n",
    "class z(Vehicle):\n",
    "    def max_speed(self, speed='293 kmph'):\n",
    "        return super().max_speed(speed='293 kmph')\n",
    "    \n",
    "vehicle_type= input('choose the model type (x, y, or z): ')\n",
    "if vehicle_type =='x':\n",
    "    vehicle_type = x(vehicle_type)\n",
    "elif vehicle_type =='y':\n",
    "    vehicle_type = y(vehicle_type)\n",
    "elif vehicle_type == 'z':\n",
    "    vehicle_type = z(vehicle_type)\n",
    "    \n",
    "print(vehicle_type.max_speed())"
   ]
  },
  {
   "cell_type": "code",
   "execution_count": 75,
   "metadata": {},
   "outputs": [
    {
     "name": "stdout",
     "output_type": "stream",
     "text": [
      "Enter the year: 2010\n",
      "Enter the month: 3\n",
      "Enter the date: 12\n",
      "Age of the employee : 11\n"
     ]
    }
   ],
   "source": [
    "from datetime import date\n",
    "\n",
    "def calculate_age(dtob):\n",
    "    today = date.today()\n",
    "    return today.year - dtob.year - ((today.month, today.day) < (dtob.month, dtob.day))\n",
    "\n",
    "year=int(input('Enter the year: '))\n",
    "month= int(input('Enter the month: '))\n",
    "date_ = int(input('Enter the date: '))\n",
    "\n",
    "age = calculate_age(date(year,month,date_))\n",
    "print(f'Age of the employee : {age}')"
   ]
  },
  {
   "cell_type": "code",
   "execution_count": 78,
   "metadata": {},
   "outputs": [
    {
     "name": "stdout",
     "output_type": "stream",
     "text": [
      "Money from sunday coaching: 5200 Rupees\n"
     ]
    }
   ],
   "source": [
    "from datetime import date, timedelta\n",
    "\n",
    "def allsundays(year):\n",
    "   d = date(year, 1, 1)\n",
    "   d += timedelta(days = 6 - d.weekday())\n",
    "   while d.year == year:\n",
    "      yield d\n",
    "      d += timedelta(days = 7)\n",
    "\n",
    "sunday_counts=[]\n",
    "for d in allsundays(1998):\n",
    "   sunday_counts.append(d)\n",
    "\n",
    "money=100*len(sunday_counts)\n",
    "print(f'Money from sunday coaching: {money} Rupees')\n"
   ]
  },
  {
   "cell_type": "code",
   "execution_count": 79,
   "metadata": {},
   "outputs": [
    {
     "name": "stdout",
     "output_type": "stream",
     "text": [
      "Today's date:  2021-11-19 21:35:33.611743\n",
      "Task deadline:  2021-12-27 21:35:33.611743\n",
      "Appraisal meeting:  2021-12-31 21:35:33.611743\n",
      "Appraisal meet after the task deadline\n"
     ]
    }
   ],
   "source": [
    "\n",
    "from datetime import datetime, timedelta\n",
    "\n",
    "now = datetime.now()\n",
    "print (\"Today's date: \", str(now))\n",
    "\n",
    "\n",
    "deadline = now + timedelta(days = 38)\n",
    "print('Task deadline: ', deadline)\n",
    "\n",
    "appraisal = now + timedelta(weeks = 6)\n",
    "print('Appraisal meeting: ', appraisal)\n",
    "\n",
    "if appraisal < deadline:\n",
    "    print('Appraisal meet before the task deadline')\n",
    "else:\n",
    "    print('Appraisal meet after the task deadline')\n",
    "    "
   ]
  },
  {
   "cell_type": "code",
   "execution_count": 1,
   "metadata": {},
   "outputs": [
    {
     "name": "stdout",
     "output_type": "stream",
     "text": [
      " w :  [2, 3]\n",
      " x :  [2, 3]\n",
      " y :  [1, 1]\n",
      " z :  [1, 1]\n"
     ]
    }
   ],
   "source": [
    "w =[1, 1]\n",
    "x = w\n",
    "y = w.copy()\n",
    "z = list(w)\n",
    "w[0], w[1] = 2, 3\n",
    " \n",
    "print(\" w : \",w)\n",
    "print(\" x : \",x)\n",
    "print(\" y : \",y)\n",
    "print(\" z : \",z)"
   ]
  },
  {
   "cell_type": "code",
   "execution_count": 2,
   "metadata": {},
   "outputs": [
    {
     "name": "stdout",
     "output_type": "stream",
     "text": [
      "False\n"
     ]
    }
   ],
   "source": [
    "city1 = \"New York\"\n",
    "city2 = \"New York\"\n",
    "print(city1 is city2)"
   ]
  },
  {
   "cell_type": "code",
   "execution_count": 3,
   "metadata": {},
   "outputs": [
    {
     "name": "stdout",
     "output_type": "stream",
     "text": [
      "16\n",
      "16.0\n",
      "16.0\n",
      "16.0\n"
     ]
    }
   ],
   "source": [
    "print(4 ** 2)\n",
    "print(4 ** 2.)\n",
    "print(4. ** 2)\n",
    "print(4.0 ** 2.0)"
   ]
  },
  {
   "cell_type": "code",
   "execution_count": 4,
   "metadata": {},
   "outputs": [
    {
     "name": "stdout",
     "output_type": "stream",
     "text": [
      "0\n"
     ]
    }
   ],
   "source": [
    "a = 1\n",
    "b = 1\n",
    "print(a^b)"
   ]
  },
  {
   "cell_type": "code",
   "execution_count": 5,
   "metadata": {},
   "outputs": [
    {
     "name": "stdout",
     "output_type": "stream",
     "text": [
      "['p', 'q', 'r']\n"
     ]
    }
   ],
   "source": [
    "dict = {'r':2,'p':4,'q':5}\n",
    "print(sorted(dict))"
   ]
  },
  {
   "cell_type": "code",
   "execution_count": 6,
   "metadata": {},
   "outputs": [
    {
     "name": "stdout",
     "output_type": "stream",
     "text": [
      "0b10011\n"
     ]
    }
   ],
   "source": [
    "x = 0b10111\n",
    "y = 0b10011\n",
    "print(bin(x & y))"
   ]
  },
  {
   "cell_type": "code",
   "execution_count": 7,
   "metadata": {},
   "outputs": [
    {
     "name": "stdout",
     "output_type": "stream",
     "text": [
      "B\n"
     ]
    }
   ],
   "source": [
    "french_greeting = 'Bonjour'\n",
    "for i in french_greeting:\n",
    "    if i == 'o':\n",
    "       break\n",
    "    print(i)\n",
    "else:\n",
    "     print('Madam')"
   ]
  },
  {
   "cell_type": "code",
   "execution_count": 8,
   "metadata": {},
   "outputs": [
    {
     "name": "stdout",
     "output_type": "stream",
     "text": [
      "100\n"
     ]
    }
   ],
   "source": [
    "def data(item_qty1 = 250, item_qty2 = 100):\n",
    "    return item_qty1 - item_qty2\n",
    "remaining = data(item_qty2 = 300, item_qty1 = 400)\n",
    "print(remaining)"
   ]
  },
  {
   "cell_type": "code",
   "execution_count": 9,
   "metadata": {},
   "outputs": [
    {
     "name": "stdout",
     "output_type": "stream",
     "text": [
      "4 4\n"
     ]
    }
   ],
   "source": [
    "def num(x = 1, y = 3):\n",
    "   x = x + y\n",
    "   y += 1\n",
    "   print(x, y)\n",
    "num(y = 3, x = 1)"
   ]
  },
  {
   "cell_type": "code",
   "execution_count": 11,
   "metadata": {},
   "outputs": [
    {
     "name": "stdout",
     "output_type": "stream",
     "text": [
      "True\n"
     ]
    }
   ],
   "source": [
    "list1 = (10, 5, (8,6))\n",
    "list2 = (8, 3, (2,6))\n",
    "print(list1 > list2)"
   ]
  },
  {
   "cell_type": "code",
   "execution_count": 12,
   "metadata": {},
   "outputs": [
    {
     "name": "stdout",
     "output_type": "stream",
     "text": [
      "sep end=#\n"
     ]
    }
   ],
   "source": [
    "end = 'end=#'\n",
    "seperator = \"sep\"\n",
    "print(seperator, end)"
   ]
  },
  {
   "cell_type": "code",
   "execution_count": 13,
   "metadata": {},
   "outputs": [
    {
     "name": "stdout",
     "output_type": "stream",
     "text": [
      "Cpding\n",
      "CpdingCpdingCpdingCpding\n"
     ]
    }
   ],
   "source": [
    "inp = input() \n",
    "print(inp*4)"
   ]
  },
  {
   "cell_type": "code",
   "execution_count": 14,
   "metadata": {},
   "outputs": [
    {
     "ename": "SyntaxError",
     "evalue": "positional argument follows keyword argument (<ipython-input-14-2f099477abb3>, line 4)",
     "output_type": "error",
     "traceback": [
      "\u001b[1;36m  File \u001b[1;32m\"<ipython-input-14-2f099477abb3>\"\u001b[1;36m, line \u001b[1;32m4\u001b[0m\n\u001b[1;33m    func(id3 = 87, 78, 98)\u001b[0m\n\u001b[1;37m                   ^\u001b[0m\n\u001b[1;31mSyntaxError\u001b[0m\u001b[1;31m:\u001b[0m positional argument follows keyword argument\n"
     ]
    }
   ],
   "source": [
    "def func(id1 = 76, id2 = 42, id3 = 90):\n",
    "   print(id1, id3, id2)\n",
    "   \n",
    "func(id3 = 87, 78, 98)"
   ]
  },
  {
   "cell_type": "code",
   "execution_count": 15,
   "metadata": {},
   "outputs": [
    {
     "name": "stdout",
     "output_type": "stream",
     "text": [
      "('H', 'e', 'l', 'l', 'o')\n"
     ]
    }
   ],
   "source": [
    "t = tuple('Hello World')\n",
    "print(t[:-6])"
   ]
  },
  {
   "cell_type": "code",
   "execution_count": 16,
   "metadata": {},
   "outputs": [
    {
     "name": "stdout",
     "output_type": "stream",
     "text": [
      "pcep\n",
      "pcep\n",
      "pcep\n"
     ]
    }
   ],
   "source": [
    "x = -5\n",
    "while (x < 2):\n",
    "   x= x + 3\n",
    "   print(\"pcep\")"
   ]
  },
  {
   "cell_type": "code",
   "execution_count": 17,
   "metadata": {},
   "outputs": [
    {
     "name": "stdout",
     "output_type": "stream",
     "text": [
      "3\n"
     ]
    }
   ],
   "source": [
    "def func(var):\n",
    "    var = 5\n",
    "\t\n",
    "var = 3\n",
    "func(var)\n",
    "print(var)"
   ]
  },
  {
   "cell_type": "code",
   "execution_count": 18,
   "metadata": {},
   "outputs": [
    {
     "name": "stdout",
     "output_type": "stream",
     "text": [
      "2\n"
     ]
    }
   ],
   "source": [
    "initial = 1\n",
    "while initial < 3:\n",
    "   initial += 1\n",
    "   print(initial)\n",
    "   break\n",
    "else:\n",
    "   print(\"Break\")"
   ]
  },
  {
   "cell_type": "code",
   "execution_count": 19,
   "metadata": {},
   "outputs": [
    {
     "name": "stdout",
     "output_type": "stream",
     "text": [
      "I love coding\n"
     ]
    }
   ],
   "source": [
    "'''\n",
    "There are 4 members\n",
    "in my family\n",
    "'''\n",
    "print(\"I love coding\")"
   ]
  },
  {
   "cell_type": "code",
   "execution_count": 20,
   "metadata": {},
   "outputs": [
    {
     "name": "stdout",
     "output_type": "stream",
     "text": [
      "Sandy\n"
     ]
    }
   ],
   "source": [
    "inp = 1\n",
    " \n",
    "if (inp < 3): print(\"Sandy\")\n",
    "else: print(\"Monika\")"
   ]
  },
  {
   "cell_type": "code",
   "execution_count": 21,
   "metadata": {},
   "outputs": [
    {
     "name": "stdout",
     "output_type": "stream",
     "text": [
      "True\n"
     ]
    }
   ],
   "source": [
    "list1 = (10, 5, (8,6))\n",
    "list2 = (8, 3, (2,6))\n",
    "print(list1 > list2)"
   ]
  },
  {
   "cell_type": "code",
   "execution_count": 22,
   "metadata": {},
   "outputs": [
    {
     "name": "stdout",
     "output_type": "stream",
     "text": [
      "(30,) (20,)\n"
     ]
    }
   ],
   "source": [
    "def f1():\n",
    "   c = 30,\n",
    "   d = 20,\n",
    "   return c, d\n",
    " \n",
    "a, b = f1()\n",
    " \n",
    "print(a,b)"
   ]
  },
  {
   "cell_type": "code",
   "execution_count": 23,
   "metadata": {},
   "outputs": [
    {
     "name": "stdout",
     "output_type": "stream",
     "text": [
      "TigerLion\n"
     ]
    }
   ],
   "source": [
    "a = \"Lion\"; b = \"Tiger\"\n",
    "print(b+a)\n",
    "\n",
    "\n"
   ]
  },
  {
   "cell_type": "code",
   "execution_count": 24,
   "metadata": {},
   "outputs": [
    {
     "name": "stdout",
     "output_type": "stream",
     "text": [
      "1 Bye\n",
      "2 ByeBye\n"
     ]
    }
   ],
   "source": [
    "def f(str, n):\n",
    "   while n < 2:\n",
    "       print(n + 1, str)\n",
    "       str = str*2\n",
    "       n = n + 1\n",
    " \n",
    "f('Bye', 0)"
   ]
  },
  {
   "cell_type": "code",
   "execution_count": 25,
   "metadata": {},
   "outputs": [
    {
     "name": "stdout",
     "output_type": "stream",
     "text": [
      "16\n"
     ]
    }
   ],
   "source": [
    "for n in range(0,5):\n",
    "   n =n*n\n",
    "print(n)"
   ]
  },
  {
   "cell_type": "code",
   "execution_count": 26,
   "metadata": {},
   "outputs": [
    {
     "name": "stdout",
     "output_type": "stream",
     "text": [
      "0b111000\n"
     ]
    }
   ],
   "source": [
    "a = 0b111\n",
    "b = a << 3\n",
    " \n",
    "print(bin(b))"
   ]
  },
  {
   "cell_type": "code",
   "execution_count": null,
   "metadata": {},
   "outputs": [],
   "source": []
  }
 ],
 "metadata": {
  "kernelspec": {
   "display_name": "Python 3",
   "language": "python",
   "name": "python3"
  },
  "language_info": {
   "codemirror_mode": {
    "name": "ipython",
    "version": 3
   },
   "file_extension": ".py",
   "mimetype": "text/x-python",
   "name": "python",
   "nbconvert_exporter": "python",
   "pygments_lexer": "ipython3",
   "version": "3.8.5"
  }
 },
 "nbformat": 4,
 "nbformat_minor": 5
}
