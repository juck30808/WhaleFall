{
 "cells": [
  {
   "cell_type": "code",
   "execution_count": 1,
   "id": "b9749097",
   "metadata": {},
   "outputs": [
    {
     "name": "stdout",
     "output_type": "stream",
     "text": [
      "Summation: 568\n"
     ]
    }
   ],
   "source": [
    "number1 = 13\n",
    "number2 = 555\n",
    "if number1 * number2 > 1000:\n",
    "    print('Summation:', number1 + number2)\n",
    "else:\n",
    "    print('Production:', number1 * number2)"
   ]
  },
  {
   "cell_type": "code",
   "execution_count": 2,
   "id": "27e334b1",
   "metadata": {},
   "outputs": [
    {
     "name": "stdout",
     "output_type": "stream",
     "text": [
      "Not equal\n",
      "Not equal\n"
     ]
    }
   ],
   "source": [
    "my_list = [12, 54, 9, 4, 66, 10]\n",
    "if my_list[0] == my_list[-1]:\n",
    "    print('Equal')\n",
    "else:\n",
    "    print('Not equal')\n",
    "# ----------------------------------\n",
    " \n",
    "my_list = [12, 54, 9, 4, 66, 10]\n",
    "if my_list[0] == my_list[len(my_list)-1]:\n",
    "    print('Equal')\n",
    "else:\n",
    "    print('Not equal')"
   ]
  },
  {
   "cell_type": "code",
   "execution_count": 3,
   "id": "2c89609a",
   "metadata": {},
   "outputs": [
    {
     "name": "stdout",
     "output_type": "stream",
     "text": [
      "30\n",
      "50\n",
      "45\n",
      "60\n",
      "75\n"
     ]
    }
   ],
   "source": [
    "my_list = [12, 30, 24, 50, 44, 45, 60, 75]\n",
    "for item in my_list:\n",
    "    if item % 5 == 0:\n",
    "        print(item)\n",
    "    else:\n",
    "        pass"
   ]
  },
  {
   "cell_type": "code",
   "execution_count": 4,
   "id": "5c622538",
   "metadata": {},
   "outputs": [
    {
     "name": "stdout",
     "output_type": "stream",
     "text": [
      "3\n"
     ]
    }
   ],
   "source": [
    "text = \"John is good developer. John is a writer John\"\n",
    "words = text.split(' ')\n",
    "counter = 0\n",
    "\n",
    "for word in words:\n",
    "    if word == \"John\":\n",
    "        counter += 1\n",
    "print(counter)"
   ]
  },
  {
   "cell_type": "code",
   "execution_count": 5,
   "id": "6babccbf",
   "metadata": {},
   "outputs": [
    {
     "name": "stdout",
     "output_type": "stream",
     "text": [
      "[50, 40, 30, 20, 10]\n"
     ]
    }
   ],
   "source": [
    "list1 = [10, 20, 30, 40, 50]\n",
    "list2 = []\n",
    "for index in range(-1, -len(list1)-1, -1):\n",
    "    list2.append(list1[index])\n",
    "print(list2)"
   ]
  },
  {
   "cell_type": "code",
   "execution_count": 8,
   "id": "d5d61d39",
   "metadata": {},
   "outputs": [
    {
     "name": "stdout",
     "output_type": "stream",
     "text": [
      "2002\n",
      "2009\n",
      "2016\n",
      "2023\n",
      "2037\n",
      "2044\n",
      "2051\n",
      "2058\n",
      "2072\n",
      "2079\n",
      "2086\n",
      "2093\n"
     ]
    }
   ],
   "source": [
    "for i in range(2000, 2101):\n",
    "    if i%7 == 0 and i%5 != 0:\n",
    "        print(i)"
   ]
  },
  {
   "cell_type": "code",
   "execution_count": 9,
   "id": "48a16669",
   "metadata": {},
   "outputs": [
    {
     "name": "stdout",
     "output_type": "stream",
     "text": [
      "Enter a number: 50\n",
      "30414093201713378043612608166064768844377641568960512000000000000\n"
     ]
    }
   ],
   "source": [
    "number = int(input(\"Enter a number: \"))\n",
    "factorial = 1\n",
    "i = 1\n",
    "while i <= number:\n",
    "    factorial *= i\n",
    "    i += 1\n",
    "print(factorial)"
   ]
  },
  {
   "cell_type": "code",
   "execution_count": 10,
   "id": "58c42e60",
   "metadata": {},
   "outputs": [
    {
     "name": "stdout",
     "output_type": "stream",
     "text": [
      "*\n",
      "**\n",
      "***\n",
      "****\n",
      "*****\n"
     ]
    }
   ],
   "source": [
    "for i in range(1, 6):\n",
    "    print('*' * i)"
   ]
  },
  {
   "cell_type": "code",
   "execution_count": 11,
   "id": "48022796",
   "metadata": {},
   "outputs": [
    {
     "name": "stdout",
     "output_type": "stream",
     "text": [
      "    *\n",
      "   **\n",
      "  ***\n",
      " ****\n",
      "*****\n"
     ]
    }
   ],
   "source": [
    "for i in range(1, 6):\n",
    "    print(' '*(5-i) + '*'*i)"
   ]
  },
  {
   "cell_type": "code",
   "execution_count": 12,
   "id": "a0014a7f",
   "metadata": {},
   "outputs": [
    {
     "name": "stdout",
     "output_type": "stream",
     "text": [
      "1 \n",
      "1 2 \n",
      "1 2 3 \n",
      "1 2 3 4 \n",
      "1 2 3 4 5 \n"
     ]
    }
   ],
   "source": [
    "for i in range(1, 6):\n",
    "    for j in range(1, i+1):\n",
    "        print(j, end=' ')\n",
    "    print()"
   ]
  },
  {
   "cell_type": "code",
   "execution_count": 15,
   "id": "029fcc64",
   "metadata": {},
   "outputs": [
    {
     "name": "stdout",
     "output_type": "stream",
     "text": [
      "The number 1005 is not prime\n",
      "The number 1006 is not prime\n",
      "The number 1007 is not prime\n",
      "The number 1008 is not prime\n",
      "The number 1009 is prime\n"
     ]
    }
   ],
   "source": [
    "for number in range(1005, 1010):\n",
    "    for i in range(2, number):\n",
    "        if number%i == 0:\n",
    "            print('The number {} is not prime'.format(number))\n",
    "            break\n",
    "    else:\n",
    "        print('The number {} is prime'.format(number))"
   ]
  },
  {
   "cell_type": "code",
   "execution_count": 16,
   "id": "3c4ad57a",
   "metadata": {},
   "outputs": [
    {
     "name": "stdout",
     "output_type": "stream",
     "text": [
      "Iteration: 1 ====> summation: 1\n",
      "Iteration: 2 ====> summation: 3\n",
      "Iteration: 3 ====> summation: 6\n",
      "Iteration: 4 ====> summation: 10\n",
      "Iteration: 5 ====> summation: 15\n",
      "Iteration: 6 ====> summation: 21\n",
      "Iteration: 7 ====> summation: 28\n",
      "Iteration: 8 ====> summation: 36\n",
      "Iteration: 9 ====> summation: 45\n",
      "Iteration: 10 ====> summation: 55\n"
     ]
    }
   ],
   "source": [
    "for i in range(1, 11):\n",
    "    summation = 0\n",
    "    for j in range(1, i+1):\n",
    "        summation += j\n",
    "    print('Iteration: {} ====> summation: {}'.format(i, summation))"
   ]
  },
  {
   "cell_type": "code",
   "execution_count": 17,
   "id": "da9df454",
   "metadata": {},
   "outputs": [
    {
     "name": "stdout",
     "output_type": "stream",
     "text": [
      "Enter the number: 5\n",
      "5\n"
     ]
    }
   ],
   "source": [
    "number = input('Enter the number: ')\n",
    "reverse_number = number[::-1]\n",
    "print(reverse_number)"
   ]
  },
  {
   "cell_type": "code",
   "execution_count": 18,
   "id": "a89d2112",
   "metadata": {},
   "outputs": [
    {
     "name": "stdout",
     "output_type": "stream",
     "text": [
      "67\n"
     ]
    }
   ],
   "source": [
    "numbers = [12, 55, 40, 23, 10, 67, 0, -5]\n",
    "maximum = numbers[0]\n",
    "for i in numbers[1:]:\n",
    "    if i > maximum:\n",
    "        maximum = i\n",
    "print(maximum)"
   ]
  },
  {
   "cell_type": "code",
   "execution_count": 19,
   "id": "205e8705",
   "metadata": {},
   "outputs": [
    {
     "name": "stdout",
     "output_type": "stream",
     "text": [
      "240.0\n"
     ]
    }
   ],
   "source": [
    "def area_of_triangle(base, height):\n",
    "    area = 0.5 * base * height\n",
    "    return area\n",
    "area = area_of_triangle(12, 40)\n",
    "print(area)"
   ]
  },
  {
   "cell_type": "code",
   "execution_count": 20,
   "id": "9c4a5ae2",
   "metadata": {},
   "outputs": [
    {
     "name": "stdout",
     "output_type": "stream",
     "text": [
      "a = 50\n",
      "b = 30\n"
     ]
    }
   ],
   "source": [
    "a = 30\n",
    "b = 50\n",
    " \n",
    "temp = a\n",
    "a = b\n",
    "b = temp\n",
    " \n",
    "print('a =', a)\n",
    "print('b =', b)"
   ]
  },
  {
   "cell_type": "code",
   "execution_count": 21,
   "id": "8ab75b1d",
   "metadata": {},
   "outputs": [
    {
     "name": "stdout",
     "output_type": "stream",
     "text": [
      "a = 50\n",
      "b = 30\n"
     ]
    }
   ],
   "source": [
    "a = 30\n",
    "b = 50\n",
    " \n",
    "a = a + b # a=80, b=50\n",
    "b = a - b # a=80, b=30\n",
    "a = a - b # a=50, b=30\n",
    " \n",
    "print('a =', a)\n",
    "print('b =', b)"
   ]
  },
  {
   "cell_type": "code",
   "execution_count": 22,
   "id": "a47c6a49",
   "metadata": {},
   "outputs": [
    {
     "name": "stdout",
     "output_type": "stream",
     "text": [
      "28.666666666666668\n"
     ]
    }
   ],
   "source": [
    "def get_average(numbers):\n",
    "    summation = 0\n",
    "    for i in numbers:\n",
    "        summation += i\n",
    "    average = summation/len(numbers)\n",
    "    return average\n",
    " \n",
    "ages = [12, 33, 50, 23, 40, 14]\n",
    "avg = get_average(ages)\n",
    "print(avg)"
   ]
  },
  {
   "cell_type": "code",
   "execution_count": 23,
   "id": "d8342551",
   "metadata": {},
   "outputs": [
    {
     "name": "stdout",
     "output_type": "stream",
     "text": [
      "1 * 1 = 1\n",
      "1 * 2 = 2\n",
      "1 * 3 = 3\n",
      "1 * 4 = 4\n",
      "1 * 5 = 5\n",
      "1 * 6 = 6\n",
      "1 * 7 = 7\n",
      "1 * 8 = 8\n",
      "1 * 9 = 9\n",
      "1 * 10 = 10\n",
      "\n",
      "2 * 1 = 2\n",
      "2 * 2 = 4\n",
      "2 * 3 = 6\n",
      "2 * 4 = 8\n",
      "2 * 5 = 10\n",
      "2 * 6 = 12\n",
      "2 * 7 = 14\n",
      "2 * 8 = 16\n",
      "2 * 9 = 18\n",
      "2 * 10 = 20\n",
      "\n",
      "3 * 1 = 3\n",
      "3 * 2 = 6\n",
      "3 * 3 = 9\n",
      "3 * 4 = 12\n",
      "3 * 5 = 15\n",
      "3 * 6 = 18\n",
      "3 * 7 = 21\n",
      "3 * 8 = 24\n",
      "3 * 9 = 27\n",
      "3 * 10 = 30\n",
      "\n",
      "4 * 1 = 4\n",
      "4 * 2 = 8\n",
      "4 * 3 = 12\n",
      "4 * 4 = 16\n",
      "4 * 5 = 20\n",
      "4 * 6 = 24\n",
      "4 * 7 = 28\n",
      "4 * 8 = 32\n",
      "4 * 9 = 36\n",
      "4 * 10 = 40\n",
      "\n",
      "5 * 1 = 5\n",
      "5 * 2 = 10\n",
      "5 * 3 = 15\n",
      "5 * 4 = 20\n",
      "5 * 5 = 25\n",
      "5 * 6 = 30\n",
      "5 * 7 = 35\n",
      "5 * 8 = 40\n",
      "5 * 9 = 45\n",
      "5 * 10 = 50\n",
      "\n",
      "6 * 1 = 6\n",
      "6 * 2 = 12\n",
      "6 * 3 = 18\n",
      "6 * 4 = 24\n",
      "6 * 5 = 30\n",
      "6 * 6 = 36\n",
      "6 * 7 = 42\n",
      "6 * 8 = 48\n",
      "6 * 9 = 54\n",
      "6 * 10 = 60\n",
      "\n",
      "7 * 1 = 7\n",
      "7 * 2 = 14\n",
      "7 * 3 = 21\n",
      "7 * 4 = 28\n",
      "7 * 5 = 35\n",
      "7 * 6 = 42\n",
      "7 * 7 = 49\n",
      "7 * 8 = 56\n",
      "7 * 9 = 63\n",
      "7 * 10 = 70\n",
      "\n",
      "8 * 1 = 8\n",
      "8 * 2 = 16\n",
      "8 * 3 = 24\n",
      "8 * 4 = 32\n",
      "8 * 5 = 40\n",
      "8 * 6 = 48\n",
      "8 * 7 = 56\n",
      "8 * 8 = 64\n",
      "8 * 9 = 72\n",
      "8 * 10 = 80\n",
      "\n",
      "9 * 1 = 9\n",
      "9 * 2 = 18\n",
      "9 * 3 = 27\n",
      "9 * 4 = 36\n",
      "9 * 5 = 45\n",
      "9 * 6 = 54\n",
      "9 * 7 = 63\n",
      "9 * 8 = 72\n",
      "9 * 9 = 81\n",
      "9 * 10 = 90\n",
      "\n",
      "10 * 1 = 10\n",
      "10 * 2 = 20\n",
      "10 * 3 = 30\n",
      "10 * 4 = 40\n",
      "10 * 5 = 50\n",
      "10 * 6 = 60\n",
      "10 * 7 = 70\n",
      "10 * 8 = 80\n",
      "10 * 9 = 90\n",
      "10 * 10 = 100\n",
      "\n",
      "11 * 1 = 11\n",
      "11 * 2 = 22\n",
      "11 * 3 = 33\n",
      "11 * 4 = 44\n",
      "11 * 5 = 55\n",
      "11 * 6 = 66\n",
      "11 * 7 = 77\n",
      "11 * 8 = 88\n",
      "11 * 9 = 99\n",
      "11 * 10 = 110\n",
      "\n"
     ]
    }
   ],
   "source": [
    "for i in range(1, 12):\n",
    "    for j in range(1, 11):\n",
    "        print(i, '*', j, '=', i*j)\n",
    "    print()"
   ]
  },
  {
   "cell_type": "code",
   "execution_count": 24,
   "id": "d6923e62",
   "metadata": {},
   "outputs": [
    {
     "name": "stdout",
     "output_type": "stream",
     "text": [
      "Enter a number: 5\n",
      "The number is odd\n"
     ]
    }
   ],
   "source": [
    "number = int(input('Enter a number: '))\n",
    "if number%2 == 1:\n",
    "    print('The number is odd')\n",
    "elif number%2 == 0:\n",
    "    print('The number is even')"
   ]
  },
  {
   "cell_type": "code",
   "execution_count": 25,
   "id": "f6f629f8",
   "metadata": {},
   "outputs": [
    {
     "name": "stdout",
     "output_type": "stream",
     "text": [
      "Enter the first number: 5\n",
      "Enter the second number: 5\n",
      "Enter the third number: 3\n",
      "5\n"
     ]
    }
   ],
   "source": [
    "number1 = int(input('Enter the first number: '))\n",
    "number2 = int(input('Enter the second number: '))\n",
    "number3 = int(input('Enter the third number: '))\n",
    " \n",
    "if number1 >= number2 and number1 >= number3:\n",
    "    largest = number1\n",
    "elif number2 >= number1 and number2 >= number3:\n",
    "    largest = number2\n",
    "else:\n",
    "    largest = number3\n",
    "\n",
    "print(largest)"
   ]
  },
  {
   "cell_type": "code",
   "execution_count": 26,
   "id": "2de5acc5",
   "metadata": {},
   "outputs": [
    {
     "name": "stdout",
     "output_type": "stream",
     "text": [
      "0b1111011\n",
      "0x7b\n",
      "0o173\n"
     ]
    }
   ],
   "source": [
    "number = 123\n",
    " \n",
    "print(bin(number))\n",
    "print(hex(number))\n",
    "print(oct(number))"
   ]
  },
  {
   "cell_type": "code",
   "execution_count": 27,
   "id": "ab08e446",
   "metadata": {},
   "outputs": [
    {
     "name": "stdout",
     "output_type": "stream",
     "text": [
      "97\n",
      "75\n",
      "\n",
      "d\n",
      "P\n"
     ]
    }
   ],
   "source": [
    "print(ord('a'))\n",
    "print(ord('K'))\n",
    " \n",
    "print()\n",
    " \n",
    "print(chr(100))\n",
    "print(chr(80))"
   ]
  },
  {
   "cell_type": "code",
   "execution_count": 28,
   "id": "8027538e",
   "metadata": {},
   "outputs": [
    {
     "name": "stdout",
     "output_type": "stream",
     "text": [
      "Enter the number: 5\n",
      "1\n",
      "5\n",
      "Enter the number: 4\n",
      "The factors of the number 4 are:\n",
      "[1, 2, 4]\n"
     ]
    }
   ],
   "source": [
    "number = int(input('Enter the number: '))\n",
    "factors = []\n",
    "for i in range(1, number+1):\n",
    "    if number%i == 0:\n",
    "        factors.append(i)\n",
    "print('The factors of the number', number, 'are:')\n",
    "print(factors)"
   ]
  },
  {
   "cell_type": "code",
   "execution_count": 29,
   "id": "90deed50",
   "metadata": {},
   "outputs": [
    {
     "name": "stdout",
     "output_type": "stream",
     "text": [
      "Enter the word to check: heelo\n",
      "The word is not Palindrome\n"
     ]
    }
   ],
   "source": [
    "word = input('Enter the word to check: ')\n",
    "if word == word[::-1]:\n",
    "    print('The word is Palindrome')\n",
    "else:\n",
    "    print('The word is not Palindrome')"
   ]
  },
  {
   "cell_type": "code",
   "execution_count": 30,
   "id": "adaeab95",
   "metadata": {},
   "outputs": [
    {
     "name": "stdout",
     "output_type": "stream",
     "text": [
      "Enter the degree in Celsius: 112\n",
      "Degree in Fahrenheit: 233.6\n"
     ]
    }
   ],
   "source": [
    "celsius = float(input('Enter the degree in Celsius: '))\n",
    "fahrenheit = (celsius * 1.8) + 32\n",
    "print('Degree in Fahrenheit: {}'.format(fahrenheit))"
   ]
  },
  {
   "cell_type": "code",
   "execution_count": 31,
   "id": "f298c4df",
   "metadata": {},
   "outputs": [
    {
     "name": "stdout",
     "output_type": "stream",
     "text": [
      "Enter a number: 5\n",
      "The number is positive\n"
     ]
    }
   ],
   "source": [
    "number = float(input('Enter a number: '))\n",
    " \n",
    "if number > 0:\n",
    "    print('The number is positive')\n",
    "elif number < 0:\n",
    "    print('The number is negative')\n",
    "else:\n",
    "    print('The number is zero')\n"
   ]
  },
  {
   "cell_type": "code",
   "execution_count": 32,
   "id": "cfaca27a",
   "metadata": {},
   "outputs": [
    {
     "name": "stdout",
     "output_type": "stream",
     "text": [
      "0.6152821773231371\n",
      "3\n",
      "[40, 20, 30]\n"
     ]
    }
   ],
   "source": [
    "import random\n",
    " \n",
    "number1 = random.random()\n",
    "print(number1)\n",
    " \n",
    "number2 = random.randint(1, 4)\n",
    "print(number2)\n",
    " \n",
    "number3 = random.sample([10, 20, 30, 40], 3)\n",
    "print(number3)"
   ]
  },
  {
   "cell_type": "code",
   "execution_count": 33,
   "id": "e09f595a",
   "metadata": {},
   "outputs": [
    {
     "name": "stdout",
     "output_type": "stream",
     "text": [
      "The list is empty\n"
     ]
    }
   ],
   "source": [
    "my_list = []\n",
    " \n",
    "if not my_list:\n",
    "    print('The list is empty')"
   ]
  },
  {
   "cell_type": "code",
   "execution_count": 34,
   "id": "a0c64ba3",
   "metadata": {},
   "outputs": [
    {
     "name": "stdout",
     "output_type": "stream",
     "text": [
      "cHJvZ3JhbW1pbmc=\n"
     ]
    }
   ],
   "source": [
    "import base64\n",
    " \n",
    "plain_text = 'programming'\n",
    "cipher_text = base64.b64encode(plain_text.encode())\n",
    " \n",
    "print(cipher_text.decode())"
   ]
  },
  {
   "cell_type": "code",
   "execution_count": 35,
   "id": "0ece4eea",
   "metadata": {},
   "outputs": [
    {
     "name": "stdout",
     "output_type": "stream",
     "text": [
      "programming\n"
     ]
    }
   ],
   "source": [
    "import base64\n",
    " \n",
    "cipher_text = 'cHJvZ3JhbW1pbmc='\n",
    "plain_text = base64.b64decode(cipher_text)\n",
    " \n",
    "print(plain_text.decode())"
   ]
  },
  {
   "cell_type": "code",
   "execution_count": 36,
   "id": "c15192e3",
   "metadata": {},
   "outputs": [
    {
     "name": "stdout",
     "output_type": "stream",
     "text": [
      "Enter the word: tt\n",
      "The MD5 for your input: accc9105df5383111407fd5b41255e23\n"
     ]
    }
   ],
   "source": [
    "import hashlib\n",
    " \n",
    "input_word = input('Enter the word: ')\n",
    "cipher_text = hashlib.md5(input_word.encode())\n",
    "print('The MD5 for your input:', cipher_text.hexdigest())"
   ]
  },
  {
   "cell_type": "code",
   "execution_count": 37,
   "id": "6f822d72",
   "metadata": {},
   "outputs": [
    {
     "name": "stdout",
     "output_type": "stream",
     "text": [
      "His name in work location Peter\n",
      "His name in college Max\n",
      "His name in school John\n"
     ]
    }
   ],
   "source": [
    "def school():\n",
    "    name = 'John'\n",
    "    print (f\"His name in school {name}\")\n",
    "    \n",
    "def college():\n",
    "    name = 'Max'\n",
    "    print (f\"His name in college {name}\")\n",
    "    school()\n",
    "    \n",
    "def work():\n",
    "    name = 'Peter'\n",
    "    print(f\"His name in work location {name}\")\n",
    "    college()\n",
    "\n",
    "work()"
   ]
  },
  {
   "cell_type": "code",
   "execution_count": 38,
   "id": "3613f523",
   "metadata": {},
   "outputs": [
    {
     "name": "stdout",
     "output_type": "stream",
     "text": [
      "Enter a, b, c: a,b,c\n",
      "Harinla's phone number is 367952\n"
     ]
    }
   ],
   "source": [
    "phone = int()\n",
    "\n",
    "def sony():\n",
    "    global phone\n",
    "    phone = 687962\n",
    "    print (f'Sony\\'s phone number is {phone}')\n",
    "    \n",
    "def juliet():\n",
    "    global phone\n",
    "    phone = 987236\n",
    "    print(f'Juliet\\'s phone number is {phone}')\n",
    "    \n",
    "def harinla():\n",
    "    global phone\n",
    "    phone = 367952\n",
    "    print(f'Harinla\\'s phone number is {phone}')\n",
    "    \n",
    "name = input('Enter a, b, c: ')\n",
    "\n",
    "if name == 'a':\n",
    "    sony()\n",
    "elif name == 'b':\n",
    "    juliet()\n",
    "else:\n",
    "    harinla()"
   ]
  },
  {
   "cell_type": "code",
   "execution_count": 39,
   "id": "e2574db6",
   "metadata": {},
   "outputs": [
    {
     "name": "stdout",
     "output_type": "stream",
     "text": [
      "1100\n"
     ]
    }
   ],
   "source": [
    "balance = 0\n",
    "\n",
    "def user_A(x):\n",
    "    global balance\n",
    "    balance = balance + x\n",
    "    \n",
    "def user_B(x):\n",
    "    global balance\n",
    "    balance = balance + x\n",
    "\n",
    "user_A(500)\n",
    "user_B(600)\n",
    "print(balance)\n"
   ]
  },
  {
   "cell_type": "code",
   "execution_count": 40,
   "id": "ac646ec4",
   "metadata": {},
   "outputs": [
    {
     "name": "stdout",
     "output_type": "stream",
     "text": [
      "yes, a creator can view, edit and create the file\n",
      "yes, an editor can view and edit the file\n",
      "yes, a view can view the file\n"
     ]
    }
   ],
   "source": [
    "view, edit, create = 1,1,1\n",
    "class User:\n",
    "    def __init__(self, rights):\n",
    "        self.rights = rights \n",
    "    def can_view(self):\n",
    "        return view & self.rights\n",
    "    def can_edit (self):\n",
    "        return edit & self.rights\n",
    "    def can_create(self):\n",
    "        return create & self.rights\n",
    "    \n",
    "viewer = User(view)\n",
    "editor = User(view | edit)\n",
    "creator = User(view | edit | create)\n",
    "\n",
    "\n",
    "if creator.can_create():\n",
    "    print('yes, a creator can view, edit and create the file')\n",
    "else:\n",
    "    print('No')\n",
    "    \n",
    "if editor.can_edit():\n",
    "    print('yes, an editor can view and edit the file')\n",
    "else:\n",
    "    print('No')\n",
    "    \n",
    "if viewer.can_view():\n",
    "    print('yes, a view can view the file')\n",
    "else:\n",
    "    print('No')\n",
    "    "
   ]
  },
  {
   "cell_type": "code",
   "execution_count": 41,
   "id": "51af082e",
   "metadata": {},
   "outputs": [
    {
     "name": "stdout",
     "output_type": "stream",
     "text": [
      "Enter the length of 2 lists: 1\n",
      "Enter element number 1  for list l1: 2\n",
      "Enter element number 1  for list l2: 3\n",
      "Elements in 2 lists ([2], [3])\n",
      "difference between the two lists [2, 3]\n"
     ]
    }
   ],
   "source": [
    "n= int(input('Enter the length of 2 lists: '))\n",
    "l1, l2 = [], []\n",
    "\n",
    "for i in range(n):\n",
    "    a=int(input(f'Enter element number {i+1}  for list l1: '))\n",
    "    l1.append(a)\n",
    "\n",
    "for i in range(n):\n",
    "    b=int(input(f'Enter element number {i+1}  for list l2: '))\n",
    "    l2.append(b)\n",
    "\n",
    "print (f'Elements in 2 lists {l1, l2}')\n",
    "\n",
    "diff_l1_l2 = list(set(l1) - set(l2))\n",
    "diff_l2_l1 = list(set(l2) - set(l1))\n",
    "total_diff = diff_l1_l2 + diff_l2_l1\n",
    "\n",
    "print(f'difference between the two lists {total_diff}')"
   ]
  },
  {
   "cell_type": "code",
   "execution_count": 42,
   "id": "2d9dc962",
   "metadata": {},
   "outputs": [
    {
     "name": "stdout",
     "output_type": "stream",
     "text": [
      "Enter the length of list: 1\n",
      "Enter element number 1  for list: 2\n",
      "list before sorting: [2]\n",
      "list after sorting: [2]\n"
     ]
    }
   ],
   "source": [
    "n= int(input('Enter the length of list: '))\n",
    "list1=[]\n",
    "for i in range(n):\n",
    "    a=int(input(f'Enter element number {i+1}  for list: '))\n",
    "    list1.append(a)\n",
    "new_list = []\n",
    "\n",
    "print(f'list before sorting: {list1}')\n",
    "while list1:\n",
    "    mini = list1[0]  # arbitrary number in list \n",
    "    for x in list1: \n",
    "        if x < mini:\n",
    "            mini = x\n",
    "    new_list.append(mini)\n",
    "    list1.remove(mini)\n",
    "\n",
    "print(f'list after sorting: {new_list}')\n"
   ]
  },
  {
   "cell_type": "code",
   "execution_count": 43,
   "id": "69003837",
   "metadata": {},
   "outputs": [
    {
     "name": "stdout",
     "output_type": "stream",
     "text": [
      "Enter the length of 2 lists: 1\n",
      "Enter element number 1  for list l1: 2\n",
      "\n",
      "\n",
      "Enter element number 1  for list l2: 3\n",
      "\n",
      "ist one is in actual order and 2nd one is in reverse order\n",
      "2 3\n"
     ]
    }
   ],
   "source": [
    "n= int(input('Enter the length of 2 lists: '))\n",
    "l1, l2 = [], []\n",
    "\n",
    "for i in range(n):\n",
    "    a=int(input(f'Enter element number {i+1}  for list l1: '))\n",
    "    l1.append(a)\n",
    "print(\"\\n\")\n",
    "for i in range(n):\n",
    "    b=int(input(f'Enter element number {i+1}  for list l2: '))\n",
    "    l2.append(b)\n",
    "\n",
    "    \n",
    "print('\\nist one is in actual order and 2nd one is in reverse order')\n",
    "for x, y in zip(l1, l2[::-1]):\n",
    "    print(x, y)"
   ]
  },
  {
   "cell_type": "code",
   "execution_count": 44,
   "id": "70fcab7a",
   "metadata": {
    "scrolled": true
   },
   "outputs": [
    {
     "name": "stdout",
     "output_type": "stream",
     "text": [
      "All Subject Marks: {'Physics': 92, 'Math': 65, 'History': 35, 'Computer': 88, 'Language': 82}\n",
      "Maximum mark scored in subject ('Physics', 92)\n",
      "Minimum mark scored in subject ('History', 35)\n"
     ]
    }
   ],
   "source": [
    "def mini(marks):\n",
    "    current_min=list(marks.values())[0]\n",
    "    for k, v in marks.items():\n",
    "        if v < current_min:\n",
    "            current_min = v\n",
    "            sub_min_score = k\n",
    "    return sub_min_score, current_min\n",
    "\n",
    "def maxi(marks):\n",
    "    current_max=list(marks.values())[-1]\n",
    "    for k, v in marks.items():\n",
    "        if v > current_max:\n",
    "            current_max = v\n",
    "            sub_max_score = k\n",
    "    return sub_max_score, current_max\n",
    "\n",
    "Marks = {'Physics': 92, 'Math': 65, 'History': 35,'Computer': 88, 'Language': 82}\n",
    "print(\"All Subject Marks: \" + str(Marks))\n",
    "\n",
    "print(f'Maximum mark scored in subject {maxi(Marks)}')\n",
    "print(f'Minimum mark scored in subject {mini(Marks)}')"
   ]
  },
  {
   "cell_type": "code",
   "execution_count": 45,
   "id": "df4ee082",
   "metadata": {},
   "outputs": [
    {
     "name": "stdout",
     "output_type": "stream",
     "text": [
      "Enter string:1\n",
      "Count of the vowels is: 0\n",
      "vowels present in the input string: set()\n"
     ]
    }
   ],
   "source": [
    "s=input(\"Enter string:\")\n",
    "count = 0\n",
    "vowels = set(\"aeiou\")\n",
    "vow_in_str=[]\n",
    "for letter in s:\n",
    "    if letter in vowels:\n",
    "        vow_in_str.append(letter)\n",
    "        count += 1\n",
    "print(f\"Count of the vowels is: {count}\")\n",
    "print(f'vowels present in the input string: {set(vow_in_str)}')"
   ]
  },
  {
   "cell_type": "code",
   "execution_count": 46,
   "id": "73ccc266",
   "metadata": {},
   "outputs": [
    {
     "name": "stdout",
     "output_type": "stream",
     "text": [
      "Enter total number of commands to be executed: 1\n",
      "Enter command and variable: 2\n",
      "remaining elements in the given set: {1, 2, 3, 4, 5, 6, 7, 8, 9}\n",
      "Sum of elements in the remaining set 45\n"
     ]
    }
   ],
   "source": [
    "s = {1, 2, 3, 4, 5, 6, 7, 8, 9}\n",
    "n = int(input('Enter total number of commands to be executed: '))\n",
    "for i in range(n):\n",
    "    cmd=input('Enter command and variable: ').split()\n",
    "    if cmd[0]=='pop':\n",
    "        s.pop()\n",
    "    elif cmd[0]=='remove':\n",
    "        s.remove(int(cmd[1]))\n",
    "    elif cmd[0]=='discard':\n",
    "        s.discard(int(cmd[1]))\n",
    "print(f'remaining elements in the given set: {s}')\n",
    "print(f'Sum of elements in the remaining set {sum(s)}')"
   ]
  },
  {
   "cell_type": "code",
   "execution_count": 47,
   "id": "e24ab7e9",
   "metadata": {},
   "outputs": [
    {
     "name": "stdout",
     "output_type": "stream",
     "text": [
      "Enter total number of elements going to get as input: 1\n",
      "Enter item number 1: 2\n",
      "Enter total number of operations going to perform: 3\n",
      "k is greater than n\n",
      "Enter the element number 1 to enqueue: 4\n",
      "Enter the element number 2 to enqueue: 5\n",
      "Enter the element number 3 to enqueue: 1\n",
      "Remaining items:  [2, 4, 5, 1]\n"
     ]
    }
   ],
   "source": [
    "n = int(input('Enter total number of elements going to get as input: '))\n",
    "\n",
    "items=[]\n",
    "for i in range(n):\n",
    "    ele=int(input(f'Enter item number {i+1}: '))\n",
    "    items.append(ele)\n",
    "\n",
    "k = int(input('Enter total number of operations going to perform: '))\n",
    "    \n",
    "if k<n:\n",
    "    #k is lesser than n so considering stack\n",
    "    print('k is not greater than n')\n",
    "    for i in range(k):\n",
    "        items.pop()\n",
    "else:\n",
    "    #k is greater than n so considering queue\n",
    "    print('k is greater than n')\n",
    "    for i in range(k):\n",
    "        ele=int(input(f'Enter the element number {i+1} to enqueue: '))\n",
    "        items.append(ele)\n",
    "                      \n",
    "print('Remaining items: ', items)"
   ]
  },
  {
   "cell_type": "code",
   "execution_count": 48,
   "id": "794ed4a7",
   "metadata": {},
   "outputs": [
    {
     "name": "stdout",
     "output_type": "stream",
     "text": [
      "Number of villans: 1\n",
      "Power of 1 villans 2\n",
      "Number of Rounds: 3\n",
      "Superhero's power in round 1: 4\n",
      "Our Superhero can able to defeat 1 villans in round 1 and their total power is 2\n",
      "Superhero's power in round 2: 5\n",
      "Our Superhero can able to defeat 1 villans in round 2 and their total power is 2\n",
      "Superhero's power in round 3: 6\n",
      "Our Superhero can able to defeat 1 villans in round 3 and their total power is 2\n"
     ]
    }
   ],
   "source": [
    "n=int(input('Number of villans: '))\n",
    "arr=list(map(int,input(f'Power of {n} villans ').split()))\n",
    "rounds=int(input('Number of Rounds: '))\n",
    "for i in range(rounds):\n",
    "    total_pow=0\n",
    "    pow=int(input(f'Superhero\\'s power in round {i+1}: '))\n",
    "    x=0\n",
    "    while x<pow and x<len(arr):\n",
    "        if x<=pow:\n",
    "            total_pow+=arr[x]\n",
    "            x=x+1\n",
    "    print(f'Our Superhero can able to defeat {x} villans in round {i+1} and their total power is {total_pow}')"
   ]
  },
  {
   "cell_type": "code",
   "execution_count": 49,
   "id": "322421eb",
   "metadata": {},
   "outputs": [
    {
     "name": "stdout",
     "output_type": "stream",
     "text": [
      "[1, 2, 3, 4, 5, 6, 7, 8, 9]\n"
     ]
    }
   ],
   "source": [
    "def bubble_sort(boxes):\n",
    "    swapped = True\n",
    "    while swapped:\n",
    "        swapped = False\n",
    "        for i in range(len(boxes)-1):\n",
    "            if boxes[i] > boxes[i+1]:\n",
    "                boxes[i], boxes[i+1] = boxes[i+1], boxes[i]\n",
    "                swapped = True\n",
    "    \n",
    "\n",
    "boxes = [9, 1, 7, 6, 2, 8, 5, 3, 4]\n",
    "bubble_sort(boxes)\n",
    "print(boxes)"
   ]
  },
  {
   "cell_type": "code",
   "execution_count": 50,
   "id": "d25fff8c",
   "metadata": {},
   "outputs": [
    {
     "name": "stdout",
     "output_type": "stream",
     "text": [
      "Player found in position number 3\n"
     ]
    }
   ],
   "source": [
    "def linear_search(player, value):\n",
    "    for index in range(len(player)):\n",
    "        if value == player[index]:\n",
    "            return index+1\n",
    "    raise ValueError('Player not found')\n",
    "    \n",
    "\n",
    "player_number = [2, 9, 8, 3, 4, 7, 6, 5]\n",
    "print(f'Player found in position number {linear_search(player_number, 8)}')"
   ]
  },
  {
   "cell_type": "code",
   "execution_count": 51,
   "id": "3e516657",
   "metadata": {},
   "outputs": [
    {
     "data": {
      "text/plain": [
       "75025"
      ]
     },
     "execution_count": 51,
     "metadata": {},
     "output_type": "execute_result"
    }
   ],
   "source": [
    "def fibonacci(n):\n",
    "    if n <= 1:\n",
    "        return n\n",
    "    return fibonacci(n-1) + fibonacci(n-2)\n",
    "fibonacci(25)"
   ]
  }
 ],
 "metadata": {
  "kernelspec": {
   "display_name": "Python 3 (ipykernel)",
   "language": "python",
   "name": "python3"
  },
  "language_info": {
   "codemirror_mode": {
    "name": "ipython",
    "version": 3
   },
   "file_extension": ".py",
   "mimetype": "text/x-python",
   "name": "python",
   "nbconvert_exporter": "python",
   "pygments_lexer": "ipython3",
   "version": "3.8.8"
  }
 },
 "nbformat": 4,
 "nbformat_minor": 5
}
