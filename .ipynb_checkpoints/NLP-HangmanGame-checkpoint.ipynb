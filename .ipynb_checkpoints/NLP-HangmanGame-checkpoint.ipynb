{
 "cells": [
  {
   "cell_type": "markdown",
   "metadata": {},
   "source": [
    "## 猜字遊戲Hangman"
   ]
  },
  {
   "cell_type": "code",
   "execution_count": 90,
   "metadata": {},
   "outputs": [],
   "source": [
    "def hangman(secret_word, guesser, max_mistakes=8, verbose=True, **guesser_args):\n",
    "    \"\"\"\n",
    "        secret_word 猜的字、\n",
    "        guesser 模型\n",
    "        max_mistakes 錯誤的次數預設為8\n",
    "        verbose 預設為 True 表示互動性猜字\n",
    "    \"\"\"\n",
    "    validLetters = 'abcdefghijklmnopqrstuvwxyz'\n",
    "    secret_word = secret_word.lower()\n",
    "    mask = ['_'] * len(secret_word)\n",
    "    guessed = set()\n",
    "    \n",
    "    print(\"『Hangman』，hints：\", ' '.join(mask), 'character : ', len(secret_word))\n",
    "    mistakes = 0\n",
    "    \n",
    "    while mistakes < max_mistakes:\n",
    "        \n",
    "        print(max_mistakes-mistakes, \"turns left\")\n",
    "        guess = guesser(mask, guessed, **guesser_args)\n",
    "        \n",
    "        if guess in guessed:\n",
    "            print('Try Again！,used')\n",
    "            mistakes += 1\n",
    "        elif guess not in validLetters:\n",
    "            print(\"Try Again！,Not valid character\")\n",
    "            mistakes += 1\n",
    "        else:\n",
    "            guessed.add(guess)\n",
    "            if guess in secret_word:\n",
    "                for i, c in enumerate(secret_word):\n",
    "                    if c == guess:\n",
    "                        mask[i] = c\n",
    "                print('Guess the word:，', ' '.join(mask))\n",
    "            else: \n",
    "                mistakes += 1\n",
    "\n",
    "        if '_' not in mask:\n",
    "            return mistakes\n",
    "        \n",
    "    print('『You loose』，The Ans :', secret_word) \n",
    "    print(\"You loose, You let a kind man die\")\n",
    "    print(\"  --------  \")\n",
    "    print(\"     O_|    \")\n",
    "    print(\"    /|\\      \")\n",
    "    print(\"    / \\     \")\n",
    "\n",
    "    return mistakes"
   ]
  },
  {
   "cell_type": "code",
   "execution_count": 91,
   "metadata": {},
   "outputs": [],
   "source": [
    "def human(mask, guessed, **kwargs):\n",
    "    return input().lower().strip()"
   ]
  },
  {
   "cell_type": "code",
   "execution_count": 92,
   "metadata": {
    "scrolled": true
   },
   "outputs": [
    {
     "name": "stdout",
     "output_type": "stream",
     "text": [
      "『Hangman』，hints： _____ character :  5\n",
      "5 turns left\n",
      "df\n",
      "Try Again！,Not valid character\n",
      "4 turns left\n",
      "g\n",
      "3 turns left\n",
      "bv\n",
      "Try Again！,Not valid character\n",
      "2 turns left\n",
      "a\n",
      "Guess the word:， _a___\n",
      "2 turns left\n",
      "z\n",
      "1 turns left\n",
      "h\n",
      "『You loose』，The Ans : water\n",
      "You loose, You let a kind man die\n",
      "  --------  \n",
      "     O_|    \n",
      "    /|\\      \n",
      "    / \\     \n"
     ]
    },
    {
     "data": {
      "text/plain": [
       "5"
      ]
     },
     "execution_count": 92,
     "metadata": {},
     "output_type": "execute_result"
    }
   ],
   "source": [
    "word = random.choice([\"ant\", \"pugger\" , \"tiger\" , \"pokemon\" , \"water\" , \"earth\"])\n",
    "\n",
    "hangman(word, human, 5, True)"
   ]
  },
  {
   "cell_type": "code",
   "execution_count": 85,
   "metadata": {},
   "outputs": [
    {
     "name": "stdout",
     "output_type": "stream",
     "text": [
      "This is a dice stimulator\n",
      "----------\n",
      "| O    O |\n",
      "| O    O |\n",
      "| O    O |\n",
      "----------\n",
      "Press y to roll again\n"
     ]
    }
   ],
   "source": [
    "import random\n",
    "print(\"This is a dice stimulator\")\n",
    "x = \"y\"\n",
    "\n",
    "while x == \"y\":\n",
    "    number = random.randint(1,6)\n",
    "\n",
    "    if number == 1:\n",
    "        print(\"----------\")\n",
    "        print(\"|        |\")\n",
    "        print(\"|    O   |\")\n",
    "        print(\"|        |\")\n",
    "        print(\"----------\")\n",
    "    if number == 2:\n",
    "        print(\"----------\")\n",
    "        print(\"|        |\")\n",
    "        print(\"| O    O |\")\n",
    "        print(\"|        |\")\n",
    "        print(\"----------\")\n",
    "    if number == 3:\n",
    "        print(\"----------\")\n",
    "        print(\"|    O   |\")\n",
    "        print(\"|    O   |\")\n",
    "        print(\"|    O   |\")\n",
    "        print(\"----------\")\n",
    "    if number == 4:\n",
    "        print(\"----------\")\n",
    "        print(\"| O    O |\")\n",
    "        print(\"|        |\")\n",
    "        print(\"| O    O |\")\n",
    "        print(\"----------\")\n",
    "    if number == 5:\n",
    "        print(\"----------\")\n",
    "        print(\"| O    O |\")\n",
    "        print(\"|    O   |\")\n",
    "        print(\"| O    O |\")\n",
    "        print(\"----------\")\n",
    "    if number == 6:\n",
    "        print(\"----------\")\n",
    "        print(\"| O    O |\")\n",
    "        print(\"| O    O |\")\n",
    "        print(\"| O    O |\")\n",
    "        print(\"----------\")\n",
    "    x = input(\"Press y to roll again\")\n"
   ]
  },
  {
   "cell_type": "markdown",
   "metadata": {},
   "source": [
    "## 準備訓練和測試集\n",
    "\n",
    "開始寫我們的AI猜字之前，要先準備訓練集和測試集。我們使用之前用過的Brown Corpus來訓練AI猜字演算法，為了刻意增加猜字的難度，AI在測試時的字和訓練的字會是不一樣的(把訓練集和測試集拆開)，如此才能訓練出更通用的模型。\n",
    "\n",
    "我們使用 nltk.corpus.Brown 裡的 words() 方法，從中將非英文字母的文字去除，同時將每個字小寫化。之後，我們用 numpy.random.shuffle 來隨機刷取文集中的字，以分成訓練集和測試集。測試集裡有1000字，剩下的字都會到訓練集裡面。"
   ]
  },
  {
   "cell_type": "code",
   "execution_count": null,
   "metadata": {},
   "outputs": [],
   "source": [
    "import nltk\n",
    "nltk.download('brown')"
   ]
  },
  {
   "cell_type": "code",
   "execution_count": 87,
   "metadata": {},
   "outputs": [
    {
     "name": "stdout",
     "output_type": "stream",
     "text": [
      "40234\n",
      "1000\n",
      "39234\n"
     ]
    }
   ],
   "source": [
    "from nltk.corpus import brown\n",
    "import numpy as np\n",
    "\n",
    "np.random.seed(12345)\n",
    "word_set = []      # word_set 儲存Brown Corpus中所有獨特的字型\n",
    "test_set = []      # test_set 儲存1000個字的測試集\n",
    "training_set = []  # training_set 將剩下的字存到訓練集中\n",
    "word_s = set([])\n",
    "\n",
    "for word in brown.words():\n",
    "    if word.isalpha():\n",
    "        word = word.lower()\n",
    "        if word not in word_s:\n",
    "            word_s.add(word)\n",
    "\n",
    "word_set = list(word_s)\n",
    "np.random.shuffle(word_set)\n",
    "\n",
    "test_set = word_set[:1000]\n",
    "training_set = word_set[1000:]\n",
    "\n",
    "print(len(word_set))\n",
    "print(len(test_set))\n",
    "print(len(training_set))"
   ]
  },
  {
   "cell_type": "code",
   "execution_count": 89,
   "metadata": {
    "scrolled": true
   },
   "outputs": [
    {
     "name": "stdout",
     "output_type": "stream",
     "text": [
      "『Hangman』，hints： _ _ _ _ _ _ _ _ _ character :  9\n",
      "8 turns left\n",
      "f\n",
      "7 turns left\n",
      "d\n",
      "Guess the word:， _ _ _ _ _ d _ _ _\n",
      "7 turns left\n",
      "a\n",
      "Guess the word:， _ a _ a _ d _ _ _\n",
      "7 turns left\n",
      "p\n",
      "6 turns left\n",
      "h\n",
      "5 turns left\n",
      "z\n",
      "4 turns left\n",
      "x\n",
      "3 turns left\n",
      "c\n",
      "2 turns left\n",
      "v\n",
      "1 turns left\n",
      "b\n",
      "Guess the word:， _ a b a _ d _ _ _\n",
      "1 turns left\n",
      "q\n",
      "『You loose』，The Ans : gabardine\n",
      "You loose, You let a kind man die\n",
      "  --------  \n",
      "     O_|    \n",
      "    /|\\      \n",
      "    / \\     \n"
     ]
    },
    {
     "data": {
      "text/plain": [
       "8"
      ]
     },
     "execution_count": 89,
     "metadata": {},
     "output_type": "execute_result"
    }
   ],
   "source": [
    "hangman(np.random.choice(test_set), human, 5 , True)"
   ]
  }
 ],
 "metadata": {
  "kernelspec": {
   "display_name": "Python 3 (ipykernel)",
   "language": "python",
   "name": "python3"
  },
  "language_info": {
   "codemirror_mode": {
    "name": "ipython",
    "version": 3
   },
   "file_extension": ".py",
   "mimetype": "text/x-python",
   "name": "python",
   "nbconvert_exporter": "python",
   "pygments_lexer": "ipython3",
   "version": "3.9.7"
  }
 },
 "nbformat": 4,
 "nbformat_minor": 4
}
