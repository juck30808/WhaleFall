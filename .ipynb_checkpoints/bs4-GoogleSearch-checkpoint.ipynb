{
 "cells": [
  {
   "cell_type": "markdown",
   "id": "4cc54622",
   "metadata": {},
   "source": [
    "## Google Search\n",
    "https://www.geeksforgeeks.org/performing-google-search-using-python-code/"
   ]
  },
  {
   "cell_type": "code",
   "execution_count": 1,
   "id": "d171058d",
   "metadata": {},
   "outputs": [
    {
     "name": "stdout",
     "output_type": "stream",
     "text": [
      "Requirement already satisfied: google in /Users/jerrychien/opt/anaconda3/lib/python3.9/site-packages (3.0.0)\r\n",
      "Requirement already satisfied: beautifulsoup4 in /Users/jerrychien/opt/anaconda3/lib/python3.9/site-packages (from google) (4.10.0)\r\n",
      "Requirement already satisfied: soupsieve>1.2 in /Users/jerrychien/opt/anaconda3/lib/python3.9/site-packages (from beautifulsoup4->google) (2.2.1)\r\n"
     ]
    }
   ],
   "source": [
    "!pip install google"
   ]
  },
  {
   "cell_type": "code",
   "execution_count": 2,
   "id": "ed4b592d",
   "metadata": {},
   "outputs": [
    {
     "name": "stdout",
     "output_type": "stream",
     "text": [
      "https://techieempire.com/\n",
      "https://www.instagram.com/techieempire/?hl=en\n",
      "https://www.youtube.com/c/TechieEmpire\n",
      "https://in.linkedin.com/company/techieempire\n",
      "https://shopee.com.my/techiempire\n",
      "https://www.udemy.com/user/yaswanth-sai-palaghat-2/\n",
      "https://t.me/s/techieempire\n",
      "https://www.signalhire.com/companies/techie-empire\n",
      "https://www.zoominfo.com/c/techie-empire/558056020\n",
      "https://www.lazada.com.my/shop/techie-empire/?itemId=2829391544&channelSource=pdp\n",
      "https://linktr.ee/techieempire\n",
      "https://empireweekly.com/tag/techie\n",
      "https://m.facebook.com/196861681930864\n",
      "https://internshala.com/internships/internship-at-Techie%20Empire\n",
      "https://www.empire1792.com/news/envisioning-a-techie-haven-in-downtown-raleigh\n",
      "https://www.pinterest.com/pin/empirestateofmind-brooklynpix-nyclove-ignyc-skyscrapers-skyline-weekendishere-techie-resolutions-millennial--590745676104164573/\n",
      "https://techieempire.thinkific.com/\n",
      "https://techienikhil.com/author/techienikhil/\n",
      "https://techieempire.store.siteindices.com/\n",
      "https://www.guruface.com/user/yaswanthp\n",
      "https://pe.linkedin.com/company/techieempire?trk=public_profile_profile-section-card_subtitle-click\n",
      "https://speakerhub.com/speaker/yaswanth-sai-palaghat\n",
      "https://empireonline.media/business/im-not-running-your-twitter-account-musk-tells-pune-techie/\n",
      "https://music.amazon.ca/podcasts/4f1a9228-e4df-4e59-a48f-63ea0716bcb9/episodes/93b31c9f-1e37-4644-97ad-f07a6f493847/school-of-podcasting-self-proclaimed-non-techie-build-his-empire-with-his-podcast\n",
      "https://www.pdxmonthly.com/style-and-shopping/2022/05/8-gifts-for-the-portland-techie\n",
      "https://www.tiktok.com/discover/Nasnas-K-Kerala-Techie?lang=cs-CZ\n",
      "https://www.entrepreneur.com/article/235585\n",
      "https://www.thenews.com.pk/tns/detail/965023-a-techie-romance\n",
      "https://www.bloomberg.com/profile/company/0697977D:US\n",
      "https://knowtechie.com/facebooks-evil-empire-was-down-yesterday-heres-why/\n",
      "https://www.eatmy.news/2021/07/yaswanth-palaghat-i-founded-techie.html\n",
      "https://www.thebetterindia.com/252965/maharashtra-startup-canebot-sugarcane-juice-bottle-buy-no-preservatives-natural-healthy-innovation-it-quit-job-success-story-mumbai-pune-couple-earns-lakhs-him16/\n",
      "https://twitter.com/jiokaart/status/1532699130170167300\n",
      "http://movie-locations.com/movies/m/Man-Who-Fell-To-Earth.php\n",
      "https://www.nst.com.my/lifestyle/bots/2022/05/794661/tech-being-techie-mothers\n",
      "https://economictimes.indiatimes.com/topic/missing-bengaluru-techie\n",
      "https://starwars.fandom.com/wiki/WED-1016_%27Techie%27_Droid\n",
      "https://www.flipkart.com/techie-trendy-1-3-l-fish-bowl/p/itmeqhzhchqvfryq\n",
      "https://www.sporttechie.com/a-voice-of-both-mens-and-womens-football-in-england--not-to-mention-ea-sports-fifa--alex-scott-is-also-a-voice-of-reason\n",
      "https://www.imdb.com/title/tt0427229/characters/nm0652663\n",
      "https://www.tatacliq.com/popsockets-such-a-techie-mobile-grip-and-expanding-stand-multicolor/p-mp000000008035864\n",
      "https://www.techiegurus.com/2022/05/09/update-now-if-you-run-this-wordpress-plugin/\n",
      "https://www.bostonherald.com/2014/09/05/sources-isis-poster-boy-boston-trained-techie/\n",
      "https://dhruvavdhesh.net/travel/\n",
      "https://in.worldorgs.com/catalog/majarguda/software-company/techie-empire\n",
      "https://www.hindustantimes.com/india-news/chosen-for-gotra-noida-techie-duped-of-rs-60-lakh-on-email-promise-of-12-5-million-pound-inheritance-101628339514539.html\n",
      "https://www.deccanherald.com/content/19204/treated-cruelly-wife-techie-ends.html\n",
      "https://techiegamers.com/bling-empire-cast-net-worth/\n",
      "https://gamefaqs.gamespot.com/boards/204208-xenoblade-chronicles-2/76067010\n",
      "https://historyofyesterday.com/the-murder-of-ancient-alexandrias-greatest-scholar-d4b10d223940\n",
      "https://www.empireonline.com/movies/reviews/borderlands-review/\n",
      "https://www.tmz.com/2021/10/03/kanye-west-files-donda-trademark-tech-line/\n",
      "https://podcasts.apple.com/us/podcast/paul-kantner-jefferson-starship-blows-against-the/id1369133152?i=1000541691974\n",
      "https://www.kvcrnews.org/2005-11-12/techie-immigrants-make-curry-rock\n",
      "https://www.cnet.com/tech/mobile/fccs-chief-techie-sees-a-wilder-net-ride-ahead/\n",
      "https://www.twincities.com/2007/02/16/super-techie-team-up/\n",
      "https://steamcommunity.com/app/281990/discussions/0/305510202672614989/?l=czech\n",
      "https://www.americanexpress.com/en-us/business/trends-and-insights/articles/homepolish-a-designer-and-techie-bring-upscale-design-to-the-masses/\n",
      "https://www.kameronhurley.com/techie-career-flow-chart/\n",
      "https://thecanadiantechie.com/2018/11/02/battling-virtual-stormtroopers-in-star-wars-secrets-of-the-empire/\n",
      "https://www.etsy.com/au/listing/878084377/afro-tech-tumbler-african-american\n",
      "https://theguidingvoice.podbean.com/e/yaswanth/\n",
      "https://www.quora.com/What-are-the-key-trends-in-the-global-lending-market\n",
      "https://www.scribd.com/book/421974853/The-Mystery-of-a-Techie-s-Murder-Mayur-Varma-Mysteries-1\n",
      "https://iprice.my/compare/canon-eos-m/\n",
      "https://www.bestbuy.com/site/reviews/the-empire-of-corpses-dvd-blu-ray-2-discs-blu-ray-dvd-2015/5228161?deviceClass=l&page=2\n",
      "https://mainlinetoday.com/life-style/made-on-the-main-line-where-classic-toys-and-techie-innovations-got-their-start/\n",
      "https://blog.edtechie.net/film/death-star-vs-storm-trooper-investment/\n",
      "https://softwarefinder.com/ovaledge\n",
      "https://www.standardmedia.co.ke/business/index.php/enterprise/article/2001436210/techie-rethinks-church-record-keeping-system\n",
      "http://125.22.40.134/cgi-bin/koha/opac-detail.pl?biblionumber=25908&shelfbrowse_itemnumber=32947\n",
      "https://content.techgig.com/hyderabad-based-techie-develops-mileage-booster-for-vehicles/articleshow/84162785.cms\n",
      "https://www.nytimes.com/2013/08/16/movies/in-paranoia-a-spy-infiltrates-a-rivals-business-empire.html\n",
      "https://www.crainsnewyork.com/article/20130612/BLOGS04/130619944/mixed-reactions-to-techie-s-mayoral-bid\n",
      "https://www.b2bze.com/wholesale/\n",
      "https://soundcloud.com/cleopatra-techie/sets/dasebre\n",
      "https://techiehomeschoolmom.com/product/milton-hershey-online-unit-study/\n",
      "https://www.thedrum.com/opinion/2018/06/28/would-you-rather-be-techie-or-creative\n",
      "https://www.americasquarterly.org/fulltextarticle/the-techie/\n",
      "https://thehustle.co/ces-gadgets-tech-toilet-hyundai-kohler/\n",
      "https://www.gq.com/gallery/gadgets-for-men-gift-guide\n",
      "https://yourstory.com/2013/12/techie-tuesdays-bhimsen-kulkarni/amp\n",
      "https://encyclopedia2.thefreedictionary.com/Tebriz+Province%2C+Ottoman+Empire\n",
      "https://www.justdial.com/Bangalore/Computer-Training-Institutes-For-Power-Point-in-Jayanagar/nct-10125057/page-5\n",
      "https://www.bbva.com/en/seven-must-see-series-be-good-techie/\n",
      "https://scratch.mit.edu/discuss/post/2096949/\n",
      "https://www.information-age.com/little-snack-box-built-empire-data-123460717/\n",
      "https://www.installeronline.co.uk/quiet-evolution-techie-installer/\n",
      "https://www.thefunempire.com/lifestyle-blogs-singapore/\n",
      "https://www.startupinstitute.com/blog/2015-10-12-tech-networking-events-nyc\n",
      "https://collecticontoys.com/products/transformers-botbots-techie-team-hashtagz\n",
      "https://2000ad.com/news/what-happened-to-the-clan-techie-from-dredd/\n",
      "https://seths.blog/2009/10/the-tacky-techie-conundrum/\n",
      "https://uploads-ssl.webflow.com/5ec6f63bc7d3db4fb62f6b72/5ee3ed21e6e1d687273d0253_%E2%80%8Ewww.empire1792.com%3Aimages%3APDFs%3Anews%3Aempire-article-NewsObserver-techie-haven-may2001.pdf\n",
      "https://peptalksforsidehustlers.libsyn.com/ep-302-building-a-multi-million-dollar-blogging-empire-with-lauren-mcmanus-of-create-and-go\n",
      "https://www.trustradius.com/products/ovaledge/pricing\n",
      "https://bettermarketing.pub/4-tools-to-easily-set-up-your-own-website-for-free-with-a-custom-domain-edf97bd7a2cc\n",
      "https://americanheritagebullion.com/blogs/coin-collecting/francis-suarez-net-worth-2022-how-rich-is-the-mayor-of-miami-techie-gamers\n",
      "https://en.wikipedia.org/wiki/Domhnall_Gleeson\n",
      "https://help.ea.com/en/help/faq/problems-playing-online/\n",
      "https://www.longislandpress.com/2022/06/28/zeldin-projected-to-win-gop-primary-face-off-against-hochul-in-race-for-governor/\n",
      "https://www.adultdvdempire.com/trailers/3297886/hot-techie-finds-your-porn-stash-porn-videos.html\n",
      "http://pattyjohnson.ca/km3qhhy/all-time-best-teen-movies.html\n",
      "https://www.thetechieteacher.net/p/techie-read.html\n",
      "https://www.electronicsweekly.com/blogs/mannerisms/genius/cmon-my-son-2018-05/\n",
      "https://www.ficaadica.pernambucanas.com.br/Life-Is-What-You-Make-It-Preeti-Shenoy/fulldisplay?d=S5E7R7\n"
     ]
    },
    {
     "name": "stdout",
     "output_type": "stream",
     "text": [
      "http://actualplay.roleplayingpublicradio.com/2013/12/genre/fantasy/iron-heroes-fortunes-of-war-episode-14/\n",
      "https://stringfixer.com/tags/techie\n",
      "http://sinainew.it/index-of-comedy-series.html\n",
      "http://www.loja.biologicus.com.br/Excel+The+Missing+Manual+Download/:~:text?l=U9K0Z8\n",
      "https://www.podcastingforcoaches.com/episodes/106\n",
      "https://www.clearlykathrynpodcast.com/episode/ck-164\n",
      "https://stevemadenshop.de/i500-tws-ebay.html\n",
      "https://static.naimaudio.com/App-Savvy-Turning-Ideas-Into-IPad-And-IPhone-Apps-Customers-Really-Want/context?k=D0O7V0\n",
      "https://citrixnews.cz/2022/06/27/the-next-star-wars-show-can-fix-obi-wan-kenobis-biggest-mistake/\n",
      "https://lumendatabase.org/notices/24789370\n",
      "https://laxcrossword.com/2022/06/la-times-crossword-24-jun-22-friday.html\n",
      "http://www.esg.com.my/stores/tenants/F26_GetGadgets.html\n",
      "https://scribblah.co.uk/2021/01/27/talking-about-red/\n",
      "https://flipboard.com/topic/indianbusiness/ahmedabad-most-affordable-for-home-buyers-among-top-8-indian-cities/f-2b3808a156%2Ftimesnownews.com\n",
      "https://brandbookcloud.com/monogram-business-name/\n",
      "https://99designs.com/logo-design/contests/create-techie-logo-young-vibrant-cutting-edge-technology-457552\n",
      "https://dmv.ny.gov/driver-license/dmvs-medical-review-program\n",
      "https://www.techiedelight.com/data-structures-and-algorithms-problems/\n",
      "https://www.behance.net/search/projects/?search=empire+logo&sort=recommended&time=month&after=NDk%3D&locale=en_US\n",
      "https://audioboom.com/channel/the-techie-talk-with-kp-and-bp\n",
      "https://techcabal.com/2022/02/24/meet-the-19-year-old-nigerian-building-his-own-blockchain-empire/\n"
     ]
    }
   ],
   "source": [
    "from googlesearch import search\n",
    "query=\"Techie Empire\"\n",
    "for i in search(query,start=0,pause=2):\n",
    "    print(i)"
   ]
  },
  {
   "cell_type": "code",
   "execution_count": 3,
   "id": "0127ced1",
   "metadata": {},
   "outputs": [
    {
     "name": "stdout",
     "output_type": "stream",
     "text": [
      "https://www.geeksforgeeks.org/\n",
      "https://twitter.com/geeksforgeeks?ref_src=twsrc%5Egoogle%7Ctwcamp%5Eserp%7Ctwgr%5Eauthor\n",
      "https://twitter.com/geeksforgeeks/status/1543566088092282880?ref_src=twsrc%5Egoogle%7Ctwcamp%5Eserp%7Ctwgr%5Etweet\n",
      "https://twitter.com/geeksforgeeks/status/1543485206253826048?ref_src=twsrc%5Egoogle%7Ctwcamp%5Eserp%7Ctwgr%5Etweet\n",
      "https://twitter.com/geeksforgeeks/status/1543445362232307712?ref_src=twsrc%5Egoogle%7Ctwcamp%5Eserp%7Ctwgr%5Etweet\n",
      "https://twitter.com/geeksforgeeks/status/1543165081239928832?ref_src=twsrc%5Egoogle%7Ctwcamp%5Eserp%7Ctwgr%5Etweet\n",
      "https://www.youtube.com/c/GeeksforGeeksVideos/videos\n",
      "https://in.linkedin.com/company/geeksforgeeks\n",
      "https://www.instagram.com/geeks_for_geeks/?hl=en\n",
      "https://www.facebook.com/geeksforgeeks.org/\n"
     ]
    }
   ],
   "source": [
    "try:\n",
    "    from googlesearch import search\n",
    "except ImportError:\n",
    "    print(\"No module named 'google' found\")\n",
    "\n",
    "# to search\n",
    "query = \"Geeksforgeeks\"\n",
    "\n",
    "for j in search(query, tld=\"co.in\", num=10, stop=10, pause=2):\n",
    "    print(j)\n"
   ]
  },
  {
   "cell_type": "code",
   "execution_count": 4,
   "id": "7636bf26",
   "metadata": {},
   "outputs": [
    {
     "name": "stdout",
     "output_type": "stream",
     "text": [
      "https://www.geeksforgeeks.org/\n",
      "https://practice.geeksforgeeks.org/\n",
      "https://practice.geeksforgeeks.org/myCourses\n",
      "https://practice.geeksforgeeks.org/courses\n",
      "https://www.geeksforgeeks.org/computer-science-projects/\n",
      "https://www.geeksforgeeks.org/?q=\n",
      "https://en.wikipedia.org/wiki/Portal:Computer_programming\n",
      "https://en.wikiversity.org/wiki/Portal:Computer_Science\n",
      "https://www.csestack.org/\n",
      "http://www.csestack.org/tag/computer-network/\n"
     ]
    }
   ],
   "source": [
    "try:\n",
    "    from googlesearch import search\n",
    "except ImportError:\n",
    "    print(\"No module named 'google' found\")\n",
    "\n",
    "# to search\n",
    "query = \"A computer science portal\"\n",
    "\n",
    "for j in search(query, tld=\"co.in\", num=10, stop=10, pause=2):\n",
    "    print(j)\n"
   ]
  },
  {
   "cell_type": "code",
   "execution_count": null,
   "id": "8f283c66",
   "metadata": {},
   "outputs": [],
   "source": []
  }
 ],
 "metadata": {
  "kernelspec": {
   "display_name": "Python 3 (ipykernel)",
   "language": "python",
   "name": "python3"
  },
  "language_info": {
   "codemirror_mode": {
    "name": "ipython",
    "version": 3
   },
   "file_extension": ".py",
   "mimetype": "text/x-python",
   "name": "python",
   "nbconvert_exporter": "python",
   "pygments_lexer": "ipython3",
   "version": "3.9.7"
  }
 },
 "nbformat": 4,
 "nbformat_minor": 5
}
