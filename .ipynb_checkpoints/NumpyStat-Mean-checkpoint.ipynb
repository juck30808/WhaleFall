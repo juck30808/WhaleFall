{
 "cells": [
  {
   "cell_type": "markdown",
   "metadata": {},
   "source": [
    "## Numpy Statistical Functions - Mean"
   ]
  },
  {
   "cell_type": "markdown",
   "metadata": {},
   "source": [
    "#### <center>Formula to compute Mean</center>\n",
    "### $$Mean = \\frac{\\sum_{i=1}^{n} x_i}{n}$$\n",
    "<center><i> n: no.of observations <br> </i></center>\n",
    "<center><i> $x_i$ : value of i-th observation</i></center>"
   ]
  },
  {
   "cell_type": "code",
   "execution_count": 14,
   "metadata": {},
   "outputs": [
    {
     "data": {
      "text/plain": [
       "28.3"
      ]
     },
     "execution_count": 14,
     "metadata": {},
     "output_type": "execute_result"
    }
   ],
   "source": [
    "import numpy as np\n",
    "y = np.array([20, 32, 24, 18, 26, 38, 19, 34, 40, 32])\n",
    "np.mean(y)"
   ]
  },
  {
   "cell_type": "code",
   "execution_count": 4,
   "metadata": {},
   "outputs": [
    {
     "data": {
      "text/plain": [
       "28.3"
      ]
     },
     "execution_count": 4,
     "metadata": {},
     "output_type": "execute_result"
    }
   ],
   "source": [
    "#can also invoke object function \n",
    "y.mean()"
   ]
  },
  {
   "cell_type": "markdown",
   "metadata": {},
   "source": [
    "### <center>Properties of Mean</center>\n",
    "### $${\\sum_{i} (x_i - \\mu)} = 0$$\n",
    "<center><i>$x_i$ : value of i-th observation</i></center>\n",
    "<center><i> $\\mu$: Mean <br> </i></center>"
   ]
  },
  {
   "cell_type": "code",
   "execution_count": 15,
   "metadata": {},
   "outputs": [
    {
     "name": "stdout",
     "output_type": "stream",
     "text": [
      "Mean: 23.0\n"
     ]
    }
   ],
   "source": [
    "data = np.array([10, 15, 25, 30, 35])\n",
    "mu = np.mean(data)\n",
    "print('Mean:',mu)"
   ]
  },
  {
   "cell_type": "code",
   "execution_count": 7,
   "metadata": {},
   "outputs": [
    {
     "name": "stdout",
     "output_type": "stream",
     "text": [
      "diff\n",
      "[-13.  -8.   2.   7.  12.]\n",
      "\n",
      "sum of all differences= 0.0\n"
     ]
    }
   ],
   "source": [
    "#compute sum of all differences between mean and observation\n",
    "\n",
    "#diff contains all differences between mean and observation\n",
    "diff = data - mu\n",
    "print('diff')\n",
    "print(diff)\n",
    "#sum_all_diff contains sum of all differences between mean and observation\n",
    "sum_all_diff = np.sum(diff)\n",
    "print()\n",
    "print('sum of all differences=',sum_all_diff)"
   ]
  },
  {
   "cell_type": "markdown",
   "metadata": {},
   "source": [
    "<u>Limitation of Mean</u>\n",
    "<li>Affected by Extreme Values"
   ]
  },
  {
   "cell_type": "code",
   "execution_count": 16,
   "metadata": {},
   "outputs": [
    {
     "name": "stdout",
     "output_type": "stream",
     "text": [
      "Mean: 69.16666666666667\n",
      "Previous Mean: 23.0\n"
     ]
    }
   ],
   "source": [
    "#add extreme value to the array\n",
    "data = np.array([10, 15, 25, 30, 35, 300])\n",
    "new_mu = np.mean(data)\n",
    "print('Mean:',new_mu)\n",
    "print('Previous Mean:',mu)"
   ]
  },
  {
   "cell_type": "markdown",
   "metadata": {},
   "source": [
    "2D Array"
   ]
  },
  {
   "cell_type": "code",
   "execution_count": 10,
   "metadata": {},
   "outputs": [
    {
     "data": {
      "text/plain": [
       "array([[1, 2, 3],\n",
       "       [4, 5, 6]])"
      ]
     },
     "execution_count": 10,
     "metadata": {},
     "output_type": "execute_result"
    }
   ],
   "source": [
    "x = np.array([[1,2,3],[4,5,6]])\n",
    "x"
   ]
  },
  {
   "cell_type": "code",
   "execution_count": 11,
   "metadata": {
    "scrolled": true
   },
   "outputs": [
    {
     "data": {
      "text/plain": [
       "array([2.5, 3.5, 4.5])"
      ]
     },
     "execution_count": 11,
     "metadata": {},
     "output_type": "execute_result"
    }
   ],
   "source": [
    "np.mean(x,axis=0)"
   ]
  },
  {
   "cell_type": "code",
   "execution_count": 12,
   "metadata": {},
   "outputs": [
    {
     "data": {
      "text/plain": [
       "array([2., 5.])"
      ]
     },
     "execution_count": 12,
     "metadata": {},
     "output_type": "execute_result"
    }
   ],
   "source": [
    "np.mean(x,axis=1)"
   ]
  },
  {
   "cell_type": "code",
   "execution_count": 13,
   "metadata": {},
   "outputs": [
    {
     "data": {
      "text/plain": [
       "3.5"
      ]
     },
     "execution_count": 13,
     "metadata": {},
     "output_type": "execute_result"
    }
   ],
   "source": [
    "#mean for entire array\n",
    "np.mean(x)"
   ]
  }
 ],
 "metadata": {
  "kernelspec": {
   "display_name": "Python 3 (ipykernel)",
   "language": "python",
   "name": "python3"
  },
  "language_info": {
   "codemirror_mode": {
    "name": "ipython",
    "version": 3
   },
   "file_extension": ".py",
   "mimetype": "text/x-python",
   "name": "python",
   "nbconvert_exporter": "python",
   "pygments_lexer": "ipython3",
   "version": "3.9.7"
  }
 },
 "nbformat": 4,
 "nbformat_minor": 2
}
