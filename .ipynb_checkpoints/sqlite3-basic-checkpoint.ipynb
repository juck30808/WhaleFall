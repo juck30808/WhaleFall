{
 "cells": [
  {
   "cell_type": "code",
   "execution_count": 1,
   "metadata": {},
   "outputs": [
    {
     "name": "stdout",
     "output_type": "stream",
     "text": [
      "error into deletion of record\n"
     ]
    }
   ],
   "source": [
    "import sqlite3\n",
    "\n",
    "conn=sqlite3.connect(\n",
    "    \"database.db\"\n",
    ")\n",
    "query=\"DELETE FROM STD WHERE name='BOB';\"\n",
    "\n",
    "\n",
    "try:\n",
    "    cursor=conn.cursor()\n",
    "    cursor.execute(query)\n",
    "    conn.commit()\n",
    "    print(\"Record is successfully deleted\")\n",
    "except:\n",
    "    print(\"error into deletion of record\")\n",
    "    conn.rollback()\n",
    "conn.close()\n"
   ]
  },
  {
   "cell_type": "code",
   "execution_count": null,
   "metadata": {},
   "outputs": [],
   "source": [
    "import sqlite3\n",
    "conn=sqlite3.connect(\"database.db\")\n",
    "query=\"INSERT into STD(name,age,dept)values ('bob',20,'CS');\"\n",
    "try:\n",
    "    cursor=conn.cursor()\n",
    "    cursor.execute(query)\n",
    "    conn.commit()\n",
    "    print(\"Our record is inserted into database\")\n",
    "except:\n",
    "    print(\"Error in database insert record\")\n",
    "    conn.rollback()\n",
    "conn.close()"
   ]
  },
  {
   "cell_type": "code",
   "execution_count": null,
   "metadata": {},
   "outputs": [],
   "source": [
    "import sqlite3\n",
    "conn=sqlite3.connect(\"database.db\")\n",
    "query=\"SELECT * FROM STD LIMIT 2;\"\n",
    "try:\n",
    "    cursor=conn.cursor()\n",
    "    cursor.execute(query)\n",
    "    fetch=cursor.fetchall()\n",
    "    print(fetch,\"Record is \")\n",
    "    conn.commit()\n",
    "except:\n",
    "    print(\"Database Error\")\n",
    "    conn.rollback()\n",
    "conn.close()"
   ]
  },
  {
   "cell_type": "code",
   "execution_count": null,
   "metadata": {},
   "outputs": [],
   "source": [
    "import sqlite3\n",
    "conn=sqlite3.connect(\"database.db\")\n",
    "query=\"UPDATE STD SET age=25 WHERE name='bob';\"\n",
    "try:\n",
    "    cursor=conn.cursor()\n",
    "    cursor.execute(query)\n",
    "    conn.commit()\n",
    "    print(\"record is updated \")\n",
    "except:\n",
    "    print(\"Error in updating record\")\n",
    "    conn.rollback()\n",
    "conn.close()"
   ]
  },
  {
   "cell_type": "code",
   "execution_count": null,
   "metadata": {},
   "outputs": [],
   "source": []
  }
 ],
 "metadata": {
  "kernelspec": {
   "display_name": "Python 3 (ipykernel)",
   "language": "python",
   "name": "python3"
  },
  "language_info": {
   "codemirror_mode": {
    "name": "ipython",
    "version": 3
   },
   "file_extension": ".py",
   "mimetype": "text/x-python",
   "name": "python",
   "nbconvert_exporter": "python",
   "pygments_lexer": "ipython3",
   "version": "3.9.7"
  }
 },
 "nbformat": 4,
 "nbformat_minor": 4
}
