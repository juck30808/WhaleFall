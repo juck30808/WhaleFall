{
 "cells": [
  {
   "cell_type": "code",
   "execution_count": 1,
   "metadata": {},
   "outputs": [],
   "source": [
    "# https://chromedriver.chromium.org/"
   ]
  },
  {
   "cell_type": "code",
   "execution_count": 2,
   "metadata": {},
   "outputs": [
    {
     "name": "stdout",
     "output_type": "stream",
     "text": [
      "Requirement already satisfied: Selenium in c:\\users\\cti110016\\anaconda3\\lib\\site-packages (3.141.0)\n",
      "Requirement already satisfied: urllib3 in c:\\users\\cti110016\\anaconda3\\lib\\site-packages (from Selenium) (1.25.11)\n",
      "Note: you may need to restart the kernel to use updated packages.\n"
     ]
    }
   ],
   "source": [
    "#pip install Selenium"
   ]
  },
  {
   "cell_type": "code",
   "execution_count": 1,
   "metadata": {},
   "outputs": [],
   "source": [
    "from selenium import webdriver\n",
    "\n",
    "driver = webdriver.Chrome(\"./goolemapSpider/chromedriver.exe\")\n",
    "driver.get('https://www.google.com.tw/?gws_rd=ssl')"
   ]
  },
  {
   "cell_type": "markdown",
   "metadata": {},
   "source": [
    "Selenium提供了下列幾種方法，分別使用不同的方法取得html標籤位置:\n",
    "\n",
    "- find_element_by_id : 利用id來選擇\n",
    "- find_element_by_name : 利用name來選擇\n",
    "- find_element_by_xpath : 利用xpath(節點位置)來選擇\n",
    "- find_element_by_link_text : 利用文字來選擇\n",
    "- find_element_by_partial_link_text : 利用部分文字來選擇\n",
    "- find_element_by_tag_name :利用標籤元素來選擇\n",
    "- find_element_by_class_name : 利用class來選擇\n",
    "- find_element_by_css_selector : 利用css來選擇"
   ]
  },
  {
   "cell_type": "code",
   "execution_count": null,
   "metadata": {},
   "outputs": [],
   "source": [
    "# https://ithelp.ithome.com.tw/articles/10276797"
   ]
  }
 ],
 "metadata": {
  "kernelspec": {
   "display_name": "Python 3",
   "language": "python",
   "name": "python3"
  },
  "language_info": {
   "codemirror_mode": {
    "name": "ipython",
    "version": 3
   },
   "file_extension": ".py",
   "mimetype": "text/x-python",
   "name": "python",
   "nbconvert_exporter": "python",
   "pygments_lexer": "ipython3",
   "version": "3.8.5"
  }
 },
 "nbformat": 4,
 "nbformat_minor": 4
}
