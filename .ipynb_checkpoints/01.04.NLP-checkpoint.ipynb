{
 "cells": [
  {
   "cell_type": "code",
   "execution_count": null,
   "id": "9ff087a9",
   "metadata": {},
   "outputs": [],
   "source": [
    "text = \"John is good developer. John is a writer John\"\n",
    "words = text.split(' ')\n",
    "counter = 0\n",
    "\n",
    "for word in words:\n",
    "    if word == \"John\":\n",
    "        counter += 1\n",
    "print(counter)"
   ]
  },
  {
   "cell_type": "code",
   "execution_count": null,
   "id": "9f9bbe23",
   "metadata": {},
   "outputs": [],
   "source": [
    "phone = int()\n",
    "\n",
    "def sony():\n",
    "    global phone\n",
    "    phone = 687962\n",
    "    print (f'Sony\\'s phone number is {phone}')\n",
    "    \n",
    "def juliet():\n",
    "    global phone\n",
    "    phone = 987236\n",
    "    print(f'Juliet\\'s phone number is {phone}')\n",
    "    \n",
    "def harinla():\n",
    "    global phone\n",
    "    phone = 367952\n",
    "    print(f'Harinla\\'s phone number is {phone}')\n",
    "    \n",
    "name = input('Enter a, b, c: ')\n",
    "\n",
    "if name == 'a':\n",
    "    sony()\n",
    "elif name == 'b':\n",
    "    juliet()\n",
    "else:\n",
    "    harinla()"
   ]
  },
  {
   "cell_type": "code",
   "execution_count": null,
   "id": "438c2f0d",
   "metadata": {},
   "outputs": [],
   "source": [
    "for number in range(1005, 1010):\n",
    "    for i in range(2, number):\n",
    "        if number%i == 0:\n",
    "            print('The number {} is not prime'.format(number))\n",
    "            break\n",
    "    else:\n",
    "        print('The number {} is prime'.format(number))"
   ]
  },
  {
   "cell_type": "code",
   "execution_count": null,
   "id": "63e55fcf",
   "metadata": {},
   "outputs": [],
   "source": [
    "for i in range(1, 11):\n",
    "    summation = 0\n",
    "    for j in range(1, i+1):\n",
    "        summation += j\n",
    "    print('Iteration: {} ====> summation: {}'.format(i, summation))"
   ]
  },
  {
   "cell_type": "code",
   "execution_count": null,
   "id": "5f2e6acf",
   "metadata": {},
   "outputs": [],
   "source": [
    "number = int(input('Enter the number: '))\n",
    "factors = []\n",
    "for i in range(1, number+1):\n",
    "    if number%i == 0:\n",
    "        factors.append(i)\n",
    "print('The factors of the number', number, 'are:')\n",
    "print(factors)"
   ]
  }
 ],
 "metadata": {
  "kernelspec": {
   "display_name": "Python 3 (ipykernel)",
   "language": "python",
   "name": "python3"
  },
  "language_info": {
   "codemirror_mode": {
    "name": "ipython",
    "version": 3
   },
   "file_extension": ".py",
   "mimetype": "text/x-python",
   "name": "python",
   "nbconvert_exporter": "python",
   "pygments_lexer": "ipython3",
   "version": "3.9.7"
  }
 },
 "nbformat": 4,
 "nbformat_minor": 5
}
