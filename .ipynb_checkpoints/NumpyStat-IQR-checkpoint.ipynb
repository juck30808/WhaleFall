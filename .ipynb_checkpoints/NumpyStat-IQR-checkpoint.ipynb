{
 "cells": [
  {
   "cell_type": "markdown",
   "metadata": {},
   "source": [
    "## Numpy Statistical Functions - Outlier IQR Method"
   ]
  },
  {
   "cell_type": "code",
   "execution_count": 1,
   "metadata": {},
   "outputs": [],
   "source": [
    "import numpy as np"
   ]
  },
  {
   "cell_type": "code",
   "execution_count": 2,
   "metadata": {},
   "outputs": [],
   "source": [
    "def compute_quartiles(arr,axis=None):\n",
    "    #STEP 1: sort the data first\n",
    "    arr = np.sort(arr,axis=axis)\n",
    "    #size of array\n",
    "    n = np.size(arr,axis)\n",
    "    \n",
    "    #STEP 2: divide dataset into 2 halves\n",
    "    #compute size of each half\n",
    "    #for even number, it returns exact half of the array size\n",
    "    #for odd number, it returns the size excluding median\n",
    "    size_of_half=int(n/2)\n",
    "    print('Size of half:',size_of_half)\n",
    "    #slice lower half of the array\n",
    "    lower_half = arr.take(indices=range(0, size_of_half), axis=axis)\n",
    "    print('Lower Half\\n',lower_half) \n",
    "    \n",
    "    if (n % 2) == 0:\n",
    "        upper_half = arr.take(indices=range(size_of_half, n), axis=axis)\n",
    "    else:\n",
    "        #exclude median in case of odd number of values\n",
    "        upper_half = arr.take(indices=range(size_of_half+1, n), axis=axis)\n",
    "    \n",
    "    print('Upper Half\\n',upper_half)    \n",
    "    \n",
    "    #STEP 3: Compute Q1 and Q3\n",
    "    #Q1 is median of lower half and Q3 is median of upper half\n",
    "    q1 = np.median(lower_half,axis=axis)\n",
    "    q3 = np.median(upper_half,axis=axis)\n",
    "    \n",
    "    print('q1:',q1)\n",
    "    print('q3:',q3)\n",
    "        \n",
    "    return q1,q3  \n",
    "\n",
    "#this function is modified to return q1 and q3 also along with iqr\n",
    "def compute_iqr(arr,axis=None):\n",
    "    q1, q3 = compute_quartiles(arr,axis)\n",
    "    iqr = q3 - q1\n",
    "    return q1,q3,iqr"
   ]
  },
  {
   "cell_type": "markdown",
   "metadata": {},
   "source": [
    "<u>IQR Method</u> \n",
    "\n",
    "Lower Bound: Q1 – N * IQR <br>\n",
    "Upper Bound: Q3 +  N * IQR <br>\n",
    "Outlier: x < Lower Bound (or)  x > Upper Bound <br>\n",
    "N  = 1.5 for mild outliers <br>\n",
    "N  = 3.0 for extreme outliers <br>"
   ]
  },
  {
   "cell_type": "code",
   "execution_count": 3,
   "metadata": {},
   "outputs": [],
   "source": [
    "def outlier_by_iqr(arr,N):\n",
    "    q1,q3,iqr = compute_iqr(arr)\n",
    "    print('******** Outlier Check ************')\n",
    "    \n",
    "    #computer lower bound and upper bound of IQR Method\n",
    "    lower_bound = q1 - N * iqr\n",
    "    upper_bound = q3 + N * iqr\n",
    "    \n",
    "    print('IQR:',iqr)\n",
    "    print('Lower Bound:',lower_bound)\n",
    "    print('Upper Bound:',upper_bound)\n",
    "    \n",
    "    #select outliers using numpy boolean indexing with \"or\" condition\n",
    "    outliers = arr[(arr < lower_bound) | (arr > upper_bound)  ]\n",
    "    return outliers"
   ]
  },
  {
   "cell_type": "code",
   "execution_count": 4,
   "metadata": {},
   "outputs": [],
   "source": [
    "data = np.array([25,47,49,54,57,59,61,63,64,67,71,72,73,79, 225])"
   ]
  },
  {
   "cell_type": "code",
   "execution_count": 5,
   "metadata": {},
   "outputs": [
    {
     "name": "stdout",
     "output_type": "stream",
     "text": [
      "Size of half: 7\n",
      "Lower Half\n",
      " [25 47 49 54 57 59 61]\n",
      "Upper Half\n",
      " [ 64  67  71  72  73  79 225]\n",
      "q1: 54.0\n",
      "q3: 72.0\n",
      "******** Outlier Check ************\n",
      "IQR: 18.0\n",
      "Lower Bound: 27.0\n",
      "Upper Bound: 99.0\n",
      "\n",
      "OUTLIERS: [ 25 225]\n"
     ]
    }
   ],
   "source": [
    "#outlier detection using inner fence, (i.e) N=1.5 by default\n",
    "outliers = outlier_by_iqr(data,N=1.5)\n",
    "print('\\nOUTLIERS:',outliers)"
   ]
  },
  {
   "cell_type": "code",
   "execution_count": 6,
   "metadata": {},
   "outputs": [
    {
     "name": "stdout",
     "output_type": "stream",
     "text": [
      "Size of half: 7\n",
      "Lower Half\n",
      " [25 47 49 54 57 59 61]\n",
      "Upper Half\n",
      " [ 64  67  71  72  73  79 225]\n",
      "q1: 54.0\n",
      "q3: 72.0\n",
      "******** Outlier Check ************\n",
      "IQR: 18.0\n",
      "Lower Bound: 0.0\n",
      "Upper Bound: 126.0\n",
      "\n",
      "OUTLIERS: [225]\n"
     ]
    }
   ],
   "source": [
    "#outlier detection using outer fence, (i.e) N=3.0\n",
    "outliers = outlier_by_iqr(data,N=3.0)\n",
    "print('\\nOUTLIERS:',outliers)"
   ]
  },
  {
   "cell_type": "markdown",
   "metadata": {},
   "source": [
    "Example 2 (Impact on data size)"
   ]
  },
  {
   "cell_type": "code",
   "execution_count": 7,
   "metadata": {},
   "outputs": [
    {
     "data": {
      "text/plain": [
       "array([5, 5, 5, 5, 5, 5, 5, 5, 5, 5, 5, 5, 5, 5, 5, 5, 5, 5, 5, 5, 5, 5,\n",
       "       5, 5, 5, 5, 5, 5, 5, 5, 5, 5, 5, 5, 5, 5, 5, 5, 5, 5, 5, 5, 5, 5,\n",
       "       5, 5, 5, 5, 5, 5, 5, 5, 5, 5, 5, 5, 5, 5, 5, 5, 5, 5, 5, 5, 5, 5,\n",
       "       5, 5, 5, 5, 5, 5, 5, 5, 5, 5, 5, 5, 5, 5, 5, 5, 5, 5, 5, 5, 5, 5,\n",
       "       5, 5, 5, 5, 5, 5, 5, 5, 5, 5, 5, 5])"
      ]
     },
     "execution_count": 7,
     "metadata": {},
     "output_type": "execute_result"
    }
   ],
   "source": [
    "#create array with size of 100 and value=5\n",
    "data2 = np.full(100,5)\n",
    "data2"
   ]
  },
  {
   "cell_type": "code",
   "execution_count": 8,
   "metadata": {},
   "outputs": [
    {
     "data": {
      "text/plain": [
       "array([  5,   5,   5,   5,   5,   5,   5,   5,   5,   5,   5,   5,   5,\n",
       "         5,   5,   5,   5,   5,   5,   5,   5,   5,   5,   5,   5,   5,\n",
       "         5,   5,   5,   5,   5,   5,   5,   5,   5,   7,   7,   7,   7,\n",
       "         7,   7,   7,   7,   7,   7,   5,   5,   5,   5,   5,   5,   5,\n",
       "         5,   5,   5,   5,   5,   8,   8,   8,   8,   8,   8,   8,   8,\n",
       "         8,   8,   8,   8,   8,   8,   8,   8,   8,   8,   8,   8,   5,\n",
       "         5,   5,  10,  10,  10,  10,  10,   5,   5,   5,   5,   5,   5,\n",
       "         5,   5,   5,   5,   5,  15,  67, -32, 150])"
      ]
     },
     "execution_count": 8,
     "metadata": {},
     "output_type": "execute_result"
    }
   ],
   "source": [
    "#modify array to have some other elements also\n",
    "data2[96] = 15\n",
    "data2[97] = 67\n",
    "data2[98]= -32\n",
    "data2[99] = 150\n",
    "\n",
    "data2[35:45] =7\n",
    "data2[57:77] =8\n",
    "data2[80:85] =10\n",
    "\n",
    "data2"
   ]
  },
  {
   "cell_type": "code",
   "execution_count": 9,
   "metadata": {},
   "outputs": [
    {
     "name": "stdout",
     "output_type": "stream",
     "text": [
      "Size of half: 50\n",
      "Lower Half\n",
      " [-32   5   5   5   5   5   5   5   5   5   5   5   5   5   5   5   5   5\n",
      "   5   5   5   5   5   5   5   5   5   5   5   5   5   5   5   5   5   5\n",
      "   5   5   5   5   5   5   5   5   5   5   5   5   5   5]\n",
      "Upper Half\n",
      " [  5   5   5   5   5   5   5   5   5   5   5   5   7   7   7   7   7   7\n",
      "   7   7   7   7   8   8   8   8   8   8   8   8   8   8   8   8   8   8\n",
      "   8   8   8   8   8   8  10  10  10  10  10  15  67 150]\n",
      "q1: 5.0\n",
      "q3: 8.0\n",
      "******** Outlier Check ************\n",
      "IQR: 3.0\n",
      "Lower Bound: 0.5\n",
      "Upper Bound: 12.5\n",
      "\n",
      "OUTLIERS: [ 15  67 -32 150]\n"
     ]
    }
   ],
   "source": [
    "#outlier detection using inner fence, (i.e) N=1.5 by default\n",
    "outliers = outlier_by_iqr(data2,N=1.5)\n",
    "print('\\nOUTLIERS:',outliers)"
   ]
  },
  {
   "cell_type": "code",
   "execution_count": 10,
   "metadata": {},
   "outputs": [
    {
     "name": "stdout",
     "output_type": "stream",
     "text": [
      "Size of half: 50\n",
      "Lower Half\n",
      " [-32   5   5   5   5   5   5   5   5   5   5   5   5   5   5   5   5   5\n",
      "   5   5   5   5   5   5   5   5   5   5   5   5   5   5   5   5   5   5\n",
      "   5   5   5   5   5   5   5   5   5   5   5   5   5   5]\n",
      "Upper Half\n",
      " [  5   5   5   5   5   5   5   5   5   5   5   5   7   7   7   7   7   7\n",
      "   7   7   7   7   8   8   8   8   8   8   8   8   8   8   8   8   8   8\n",
      "   8   8   8   8   8   8  10  10  10  10  10  15  67 150]\n",
      "q1: 5.0\n",
      "q3: 8.0\n",
      "******** Outlier Check ************\n",
      "IQR: 3.0\n",
      "Lower Bound: -4.0\n",
      "Upper Bound: 17.0\n",
      "\n",
      "OUTLIERS: [ 67 -32 150]\n"
     ]
    }
   ],
   "source": [
    "#outlier detection using outer fence, (i.e) N=3.0\n",
    "outliers = outlier_by_iqr(data2,N=3.0)\n",
    "print('\\nOUTLIERS:',outliers)"
   ]
  },
  {
   "cell_type": "markdown",
   "metadata": {},
   "source": [
    "Suppose let us keep only few data points (i.e only few repetitions) from the input"
   ]
  },
  {
   "cell_type": "code",
   "execution_count": 11,
   "metadata": {},
   "outputs": [],
   "source": [
    "#let us reduce the size of data from 100 to just 11 by having only 2 repetitions\n",
    "data3  = np.array([-32,5,5,7,7,8,8,10,15,67,150])"
   ]
  },
  {
   "cell_type": "code",
   "execution_count": 12,
   "metadata": {},
   "outputs": [
    {
     "name": "stdout",
     "output_type": "stream",
     "text": [
      "Size of half: 5\n",
      "Lower Half\n",
      " [-32   5   5   7   7]\n",
      "Upper Half\n",
      " [  8  10  15  67 150]\n",
      "q1: 5.0\n",
      "q3: 15.0\n",
      "******** Outlier Check ************\n",
      "IQR: 10.0\n",
      "Lower Bound: -10.0\n",
      "Upper Bound: 30.0\n",
      "\n",
      "OUTLIERS: [-32  67 150]\n"
     ]
    }
   ],
   "source": [
    "#outlier detection using inner fence, (i.e) N=1.5 by default\n",
    "outliers = outlier_by_iqr(data3,N=1.5)\n",
    "print('\\nOUTLIERS:',outliers)"
   ]
  },
  {
   "cell_type": "code",
   "execution_count": 13,
   "metadata": {},
   "outputs": [
    {
     "name": "stdout",
     "output_type": "stream",
     "text": [
      "Size of half: 5\n",
      "Lower Half\n",
      " [-32   5   5   7   7]\n",
      "Upper Half\n",
      " [  8  10  15  67 150]\n",
      "q1: 5.0\n",
      "q3: 15.0\n",
      "******** Outlier Check ************\n",
      "IQR: 10.0\n",
      "Lower Bound: -25.0\n",
      "Upper Bound: 45.0\n",
      "\n",
      "OUTLIERS: [-32  67 150]\n"
     ]
    }
   ],
   "source": [
    "#outlier detection using outer fence, (i.e) N=3.0\n",
    "outliers = outlier_by_iqr(data3,N=3.0)\n",
    "print('\\nOUTLIERS:',outliers)"
   ]
  },
  {
   "cell_type": "markdown",
   "metadata": {},
   "source": [
    "IQR could detect extreme outliers even with just few repetitions of similar data. This implies that IQR method could work even with small data size."
   ]
  }
 ],
 "metadata": {
  "kernelspec": {
   "display_name": "Python 3 (ipykernel)",
   "language": "python",
   "name": "python3"
  },
  "language_info": {
   "codemirror_mode": {
    "name": "ipython",
    "version": 3
   },
   "file_extension": ".py",
   "mimetype": "text/x-python",
   "name": "python",
   "nbconvert_exporter": "python",
   "pygments_lexer": "ipython3",
   "version": "3.9.7"
  }
 },
 "nbformat": 4,
 "nbformat_minor": 2
}
