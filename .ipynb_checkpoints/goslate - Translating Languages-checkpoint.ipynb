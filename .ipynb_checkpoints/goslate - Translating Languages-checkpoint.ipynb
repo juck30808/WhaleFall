{
 "cells": [
  {
   "cell_type": "markdown",
   "metadata": {},
   "source": [
    "## Goslate Library"
   ]
  },
  {
   "cell_type": "code",
   "execution_count": 2,
   "metadata": {},
   "outputs": [
    {
     "name": "stdout",
     "output_type": "stream",
     "text": [
      "Requirement already satisfied: goslate in c:\\users\\cti110016\\anaconda3\\lib\\site-packages (1.5.1)\n",
      "Requirement already satisfied: futures in c:\\users\\cti110016\\anaconda3\\lib\\site-packages (from goslate) (3.0.5)\n"
     ]
    }
   ],
   "source": [
    "!pip install goslate"
   ]
  },
  {
   "cell_type": "code",
   "execution_count": 10,
   "metadata": {},
   "outputs": [
    {
     "data": {
      "text/plain": [
       "'铁人三项的Python语言转换'"
      ]
     },
     "execution_count": 10,
     "metadata": {},
     "output_type": "execute_result"
    }
   ],
   "source": [
    "import goslate\n",
    "inserted_text = \"Python triathlon language conversion\"\n",
    "new_gs = goslate.Goslate()\n",
    "new_gs.translate(inserted_text,'zh')"
   ]
  },
  {
   "cell_type": "markdown",
   "metadata": {},
   "source": [
    "## Translate Library"
   ]
  },
  {
   "cell_type": "code",
   "execution_count": 12,
   "metadata": {},
   "outputs": [
    {
     "name": "stdout",
     "output_type": "stream",
     "text": [
      "Requirement already satisfied: translate in c:\\users\\cti110016\\anaconda3\\lib\\site-packages (3.6.1)\n",
      "Requirement already satisfied: requests in c:\\users\\cti110016\\anaconda3\\lib\\site-packages (from translate) (2.24.0)\n",
      "Requirement already satisfied: click in c:\\users\\cti110016\\anaconda3\\lib\\site-packages (from translate) (7.1.2)\n",
      "Requirement already satisfied: lxml in c:\\users\\cti110016\\anaconda3\\lib\\site-packages (from translate) (4.6.1)\n",
      "Requirement already satisfied: libretranslatepy==2.1.1 in c:\\users\\cti110016\\anaconda3\\lib\\site-packages (from translate) (2.1.1)\n",
      "Requirement already satisfied: certifi>=2017.4.17 in c:\\users\\cti110016\\anaconda3\\lib\\site-packages (from requests->translate) (2020.6.20)\n",
      "Requirement already satisfied: idna<3,>=2.5 in c:\\users\\cti110016\\anaconda3\\lib\\site-packages (from requests->translate) (2.10)\n",
      "Requirement already satisfied: urllib3!=1.25.0,!=1.25.1,<1.26,>=1.21.1 in c:\\users\\cti110016\\anaconda3\\lib\\site-packages (from requests->translate) (1.25.11)\n",
      "Requirement already satisfied: chardet<4,>=3.0.2 in c:\\users\\cti110016\\anaconda3\\lib\\site-packages (from requests->translate) (3.0.4)\n"
     ]
    }
   ],
   "source": [
    "!pip install translate"
   ]
  },
  {
   "cell_type": "code",
   "execution_count": 15,
   "metadata": {},
   "outputs": [
    {
     "data": {
      "text/plain": [
       "'这是一个有用的库'"
      ]
     },
     "execution_count": 15,
     "metadata": {},
     "output_type": "execute_result"
    }
   ],
   "source": [
    "from translate import Translator\n",
    "translator = Translator(from_lang=\"english\", to_lang=\"chinese\")\n",
    "translation = translator.translate(\"This is a useful library\")\n",
    "translation"
   ]
  },
  {
   "cell_type": "markdown",
   "metadata": {},
   "source": [
    "## Text Library"
   ]
  },
  {
   "cell_type": "code",
   "execution_count": 16,
   "metadata": {},
   "outputs": [
    {
     "name": "stdout",
     "output_type": "stream",
     "text": [
      "Collecting textblob\n",
      "  Downloading textblob-0.17.1-py2.py3-none-any.whl (636 kB)\n",
      "Requirement already satisfied: nltk>=3.1; python_version >= \"3\" in c:\\users\\cti110016\\anaconda3\\lib\\site-packages (from textblob) (3.5)\n",
      "Requirement already satisfied: regex in c:\\users\\cti110016\\anaconda3\\lib\\site-packages (from nltk>=3.1; python_version >= \"3\"->textblob) (2020.10.15)\n",
      "Requirement already satisfied: click in c:\\users\\cti110016\\anaconda3\\lib\\site-packages (from nltk>=3.1; python_version >= \"3\"->textblob) (7.1.2)\n",
      "Requirement already satisfied: tqdm in c:\\users\\cti110016\\anaconda3\\lib\\site-packages (from nltk>=3.1; python_version >= \"3\"->textblob) (4.50.2)\n",
      "Requirement already satisfied: joblib in c:\\users\\cti110016\\anaconda3\\lib\\site-packages (from nltk>=3.1; python_version >= \"3\"->textblob) (0.17.0)\n",
      "Installing collected packages: textblob\n",
      "Successfully installed textblob-0.17.1\n"
     ]
    }
   ],
   "source": [
    "!pip install textblob"
   ]
  },
  {
   "cell_type": "code",
   "execution_count": 18,
   "metadata": {},
   "outputs": [
    {
     "data": {
      "text/plain": [
       "TextBlob(\"在python中翻译文本的简单方法\")"
      ]
     },
     "execution_count": 18,
     "metadata": {},
     "output_type": "execute_result"
    }
   ],
   "source": [
    "from textblob import TextBlob\n",
    "adding_blob = TextBlob('Easy way to translate a text in python')\n",
    "adding_blob.translate(to = 'zh')"
   ]
  },
  {
   "cell_type": "code",
   "execution_count": null,
   "metadata": {},
   "outputs": [],
   "source": []
  }
 ],
 "metadata": {
  "kernelspec": {
   "display_name": "Python 3",
   "language": "python",
   "name": "python3"
  },
  "language_info": {
   "codemirror_mode": {
    "name": "ipython",
    "version": 3
   },
   "file_extension": ".py",
   "mimetype": "text/x-python",
   "name": "python",
   "nbconvert_exporter": "python",
   "pygments_lexer": "ipython3",
   "version": "3.8.5"
  }
 },
 "nbformat": 4,
 "nbformat_minor": 4
}
