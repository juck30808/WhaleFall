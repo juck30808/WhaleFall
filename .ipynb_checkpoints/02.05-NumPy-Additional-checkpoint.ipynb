{
 "cells": [
  {
   "cell_type": "markdown",
   "id": "67239251",
   "metadata": {},
   "source": [
    "## Casting\n",
    "We cast NumPy arrays through their inherent astype function. The function's required argument is the new type for the array. It returns the array cast to the new type."
   ]
  },
  {
   "cell_type": "code",
   "execution_count": 32,
   "id": "337ca8a2",
   "metadata": {},
   "outputs": [
    {
     "name": "stdout",
     "output_type": "stream",
     "text": [
      "int64\n",
      "float32\n"
     ]
    }
   ],
   "source": [
    "arr = np.array([0, 1, 2])\n",
    "print(arr.dtype)\n",
    "arr = arr.astype(np.float32)\n",
    "print(arr.dtype)"
   ]
  },
  {
   "cell_type": "code",
   "execution_count": 33,
   "id": "02eede7b",
   "metadata": {},
   "outputs": [
    {
     "name": "stdout",
     "output_type": "stream",
     "text": [
      "[0. 1. 2. 3. 4. 5. 6. 7. 8. 9.]\n",
      "float64\n"
     ]
    }
   ],
   "source": [
    "array_6 = array_4.astype(np.float64)\n",
    "print(array_6)\n",
    "print(array_6.dtype)"
   ]
  },
  {
   "cell_type": "code",
   "execution_count": 18,
   "id": "12efd545",
   "metadata": {},
   "outputs": [
    {
     "data": {
      "text/plain": [
       "dtype('int32')"
      ]
     },
     "execution_count": 18,
     "metadata": {},
     "output_type": "execute_result"
    }
   ],
   "source": [
    "np.array(list(range(10)), dtype=np.float64).astype(np.int32).dtype"
   ]
  },
  {
   "cell_type": "code",
   "execution_count": 19,
   "id": "46c16453",
   "metadata": {},
   "outputs": [
    {
     "data": {
      "text/plain": [
       "array([ 3.5, -1.5, -2.5,  0.5, 12.6, 10.8])"
      ]
     },
     "execution_count": 19,
     "metadata": {},
     "output_type": "execute_result"
    }
   ],
   "source": [
    "array8 = np.array([3.5, -1.5, -2.5, 0.5, 12.6, 10.8])\n",
    "array8"
   ]
  },
  {
   "cell_type": "code",
   "execution_count": 20,
   "id": "e3337db7",
   "metadata": {},
   "outputs": [
    {
     "data": {
      "text/plain": [
       "array([ 3, -1, -2,  0, 12, 10])"
      ]
     },
     "execution_count": 20,
     "metadata": {},
     "output_type": "execute_result"
    }
   ],
   "source": [
    "array9 = array8.astype(np.int64)\n",
    "array9"
   ]
  },
  {
   "cell_type": "code",
   "execution_count": 21,
   "id": "018ee5cb",
   "metadata": {},
   "outputs": [
    {
     "data": {
      "text/plain": [
       "array([b'1', b'-2', b'3', b'4'], dtype='|S2')"
      ]
     },
     "execution_count": 21,
     "metadata": {},
     "output_type": "execute_result"
    }
   ],
   "source": [
    "num_strings = np.array(['1', '-2', '3', '4'], dtype=np.string_)\n",
    "num_strings"
   ]
  },
  {
   "cell_type": "code",
   "execution_count": 22,
   "id": "45b53faa",
   "metadata": {},
   "outputs": [
    {
     "data": {
      "text/plain": [
       "array([ 1, -2,  3,  4], dtype=int32)"
      ]
     },
     "execution_count": 22,
     "metadata": {},
     "output_type": "execute_result"
    }
   ],
   "source": [
    "num_array_int32 = num_strings.astype(np.int32)\n",
    "num_array_int32"
   ]
  },
  {
   "cell_type": "code",
   "execution_count": 23,
   "id": "875605bd",
   "metadata": {},
   "outputs": [
    {
     "name": "stderr",
     "output_type": "stream",
     "text": [
      "/var/folders/9q/486czkcn7lv5v0hwbt71twdc0000gn/T/ipykernel_3312/4201449305.py:1: DeprecationWarning: `np.float` is a deprecated alias for the builtin `float`. To silence this warning, use `float` by itself. Doing this will not modify any behavior and is safe. If you specifically wanted the numpy scalar type, use `np.float64` here.\n",
      "Deprecated in NumPy 1.20; for more details and guidance: https://numpy.org/devdocs/release/1.20.0-notes.html#deprecations\n",
      "  num_array_float = num_strings.astype(np.float)\n"
     ]
    },
    {
     "data": {
      "text/plain": [
       "array([ 1., -2.,  3.,  4.])"
      ]
     },
     "execution_count": 23,
     "metadata": {},
     "output_type": "execute_result"
    }
   ],
   "source": [
    "num_array_float = num_strings.astype(np.float)\n",
    "num_array_float"
   ]
  },
  {
   "cell_type": "code",
   "execution_count": 24,
   "id": "297c8d1c",
   "metadata": {},
   "outputs": [
    {
     "data": {
      "text/plain": [
       "array([ 0,  1,  2,  3,  4,  5,  6,  7,  8,  9, 10, 11, 12, 13, 14])"
      ]
     },
     "execution_count": 24,
     "metadata": {},
     "output_type": "execute_result"
    }
   ],
   "source": [
    "int_array = np.arange(15)\n",
    "int_array"
   ]
  },
  {
   "cell_type": "code",
   "execution_count": 25,
   "id": "e6d6b321",
   "metadata": {},
   "outputs": [
    {
     "data": {
      "text/plain": [
       "array([1.5 , 1.7 , 1.9 , 1.11, 1.13])"
      ]
     },
     "execution_count": 25,
     "metadata": {},
     "output_type": "execute_result"
    }
   ],
   "source": [
    "float_type = np.array([1.5, 1.7, 1.9, 1.11, 1.13], dtype=np.float64)\n",
    "float_type"
   ]
  },
  {
   "cell_type": "code",
   "execution_count": 26,
   "id": "2374c754",
   "metadata": {},
   "outputs": [
    {
     "data": {
      "text/plain": [
       "array([ 0.,  1.,  2.,  3.,  4.,  5.,  6.,  7.,  8.,  9., 10., 11., 12.,\n",
       "       13., 14.])"
      ]
     },
     "execution_count": 26,
     "metadata": {},
     "output_type": "execute_result"
    }
   ],
   "source": [
    "int_array_float = int_array.astype(float_type.dtype)\n",
    "int_array_float"
   ]
  },
  {
   "cell_type": "code",
   "execution_count": 27,
   "id": "85932d32",
   "metadata": {},
   "outputs": [
    {
     "data": {
      "text/plain": [
       "array([4610039407175402605, 4603214750636966149, 4593691768531927062],\n",
       "      dtype=uint64)"
      ]
     },
     "execution_count": 27,
     "metadata": {},
     "output_type": "execute_result"
    }
   ],
   "source": [
    "empty_uint64 = np.empty(3, dtype='u8')\n",
    "empty_uint64"
   ]
  },
  {
   "cell_type": "markdown",
   "id": "6ef9f797",
   "metadata": {},
   "source": [
    "## File Working with CSV"
   ]
  },
  {
   "cell_type": "code",
   "execution_count": 28,
   "id": "3556181a",
   "metadata": {},
   "outputs": [],
   "source": [
    "import numpy as np\n",
    "new_data = np.random.random((50,4))\n",
    "np.savetxt(\"output/Managing_Data_Files.csv\", new_data, fmt=\"%.2f\", delimiter=\",\", header = \"H1, H2, H3, H4\")"
   ]
  },
  {
   "cell_type": "code",
   "execution_count": 29,
   "id": "09f60a47",
   "metadata": {},
   "outputs": [
    {
     "data": {
      "text/plain": [
       "array([[0.04, 0.24, 0.91, 0.57],\n",
       "       [0.17, 0.86, 0.03, 0.54],\n",
       "       [0.64, 0.47, 0.89, 0.5 ],\n",
       "       [0.12, 0.51, 0.5 , 0.01]])"
      ]
     },
     "execution_count": 29,
     "metadata": {},
     "output_type": "execute_result"
    }
   ],
   "source": [
    "reading_csv = np.loadtxt(\"output/Managing_Data_Files.csv\", delimiter=\",\")\n",
    "reading_csv[:4,:]"
   ]
  },
  {
   "cell_type": "markdown",
   "id": "2325a7af",
   "metadata": {
    "colab_type": "text",
    "id": "tEccAOSn5KDK"
   },
   "source": [
    "** 1.2  Functions for creating arrays**"
   ]
  },
  {
   "cell_type": "code",
   "execution_count": null,
   "id": "1d81f615",
   "metadata": {
    "colab": {},
    "colab_type": "code",
    "id": "X0khu_6H5KDo",
    "outputId": "40d8f55d-dd76-4fb7-86f2-c0661231dc63"
   },
   "outputs": [],
   "source": [
    "#create array using diag function\n",
    "a = np.diag([1, 2, 3, 4]) #construct a diagonal array.\n",
    "a"
   ]
  },
  {
   "cell_type": "code",
   "execution_count": null,
   "id": "4435c641",
   "metadata": {
    "colab": {},
    "colab_type": "code",
    "id": "jtu2ChUt5KDq",
    "outputId": "4eb2d233-588c-4859-b649-e2c8ba0cf702"
   },
   "outputs": [],
   "source": [
    "np.diag(a)   #Extract diagonal"
   ]
  },
  {
   "cell_type": "code",
   "execution_count": null,
   "id": "7d3aadf9",
   "metadata": {
    "colab": {},
    "colab_type": "code",
    "id": "JfahvFnj5KDu",
    "outputId": "dc144435-60b4-4cbb-ac4f-5c8659531e6c"
   },
   "outputs": [],
   "source": [
    "#Create an array of the given shape and populate it with random samples from a uniform distribution over [0, 1).\n",
    "a = np.random.rand(4) \n",
    "a"
   ]
  },
  {
   "cell_type": "code",
   "execution_count": null,
   "id": "15c9d639",
   "metadata": {
    "colab": {},
    "colab_type": "code",
    "id": "ot7Aij7d5KDw",
    "outputId": "03bd9c1b-0608-41b8-be65-6676d11c69bb"
   },
   "outputs": [],
   "source": [
    "a = np.random.randn(4)#Return a sample (or samples) from the “standard normal” distribution.  ***Gausian***\n",
    "a"
   ]
  },
  {
   "cell_type": "markdown",
   "id": "770182f1",
   "metadata": {
    "colab_type": "text",
    "id": "tlNp08Q-5KEQ"
   },
   "source": [
    "**For more details**\n",
    "\n",
    "**https://docs.scipy.org/doc/numpy-1.10.1/user/basics.types.html**"
   ]
  },
  {
   "cell_type": "markdown",
   "id": "026549b3",
   "metadata": {},
   "source": [
    "## Copies and Views\n",
    "\n",
    "Similar to Python lists, when we make a reference to a NumPy array it doesn't create a different array. Therefore, if we change a value using the reference variable, it changes the original array as well. We get around this by using an array's inherent copy function. The function has no required arguments, and it returns the copied array.\n",
    "\n",
    "In the code example below, c is a reference to a while d is a copy. Therefore, changing c leads to the same change in a, while changing d does not change the value of b."
   ]
  },
  {
   "cell_type": "code",
   "execution_count": 31,
   "id": "a9b118a5",
   "metadata": {},
   "outputs": [
    {
     "name": "stdout",
     "output_type": "stream",
     "text": [
      "Array a: array([0, 1])\n",
      "Array a: array([5, 1])\n",
      "Array b: array([9, 8])\n"
     ]
    }
   ],
   "source": [
    "a = np.array([0, 1])\n",
    "b = np.array([9, 8])\n",
    "c = a\n",
    "print('Array a: {}'.format(repr(a)))\n",
    "c[0] = 5\n",
    "print('Array a: {}'.format(repr(a)))\n",
    "\n",
    "d = b.copy()\n",
    "d[0] = 6\n",
    "print('Array b: {}'.format(repr(b)))"
   ]
  },
  {
   "cell_type": "markdown",
   "id": "5d52a22d",
   "metadata": {
    "colab_type": "text",
    "id": "pNCFMofD5KE4"
   },
   "source": [
    "A slicing operation creates a view on the original array, which is just a way of accessing array data. Thus the original array is not copied in memory. You can use **np.may_share_memory()** to check if two arrays share the same memory block. "
   ]
  },
  {
   "cell_type": "markdown",
   "id": "ba96e1c1",
   "metadata": {
    "colab_type": "text",
    "id": "QLK31tTF5KE5"
   },
   "source": [
    "**When modifying the view, the original array is modified as well:**"
   ]
  },
  {
   "cell_type": "code",
   "execution_count": null,
   "id": "f7227d37",
   "metadata": {
    "colab": {},
    "colab_type": "code",
    "id": "4XKbPBCn5KE6",
    "outputId": "be40607b-1746-4b0e-f5a0-097de70a1b93"
   },
   "outputs": [],
   "source": [
    "a = np.arange(10)\n",
    "a"
   ]
  },
  {
   "cell_type": "code",
   "execution_count": null,
   "id": "aa17b7d2",
   "metadata": {
    "colab": {},
    "colab_type": "code",
    "id": "HbR8tgg25KE-",
    "outputId": "3c66f1d8-49bf-4fe7-f817-c37cd98444f2"
   },
   "outputs": [],
   "source": [
    "b = a[::2]   #### Creating a sub array with step size 2\n",
    "b"
   ]
  },
  {
   "cell_type": "code",
   "execution_count": null,
   "id": "486d1772",
   "metadata": {
    "colab": {},
    "colab_type": "code",
    "id": "cjz9r8q25KFC",
    "outputId": "f0798709-172e-4f6b-dc7a-5a0b359eb909"
   },
   "outputs": [],
   "source": [
    "np.shares_memory(a, b)"
   ]
  },
  {
   "cell_type": "code",
   "execution_count": null,
   "id": "2798e9c8",
   "metadata": {
    "colab": {},
    "colab_type": "code",
    "id": "PGjnKce25KFG",
    "outputId": "ab5e72e7-529c-4555-bc5e-21aa6f397333"
   },
   "outputs": [],
   "source": [
    "b[0] = 10\n",
    "b"
   ]
  },
  {
   "cell_type": "code",
   "execution_count": null,
   "id": "8b08a0c5",
   "metadata": {
    "colab": {},
    "colab_type": "code",
    "id": "och7ft5c5KFN",
    "outputId": "1279b0a9-2948-4f54-b9fa-534dba6121a3"
   },
   "outputs": [],
   "source": [
    "a  #eventhough we modified b,  it updated 'a' because both shares same memory"
   ]
  },
  {
   "cell_type": "code",
   "execution_count": null,
   "id": "f41aa3b4",
   "metadata": {
    "colab": {},
    "colab_type": "code",
    "id": "RwH_Zza45KFR",
    "outputId": "e38c2f3a-c481-49cd-a0b9-87f8441c93fd"
   },
   "outputs": [],
   "source": [
    "a = np.arange(10)\n",
    "c = a[::2].copy()     #force a copy\n",
    "c"
   ]
  },
  {
   "cell_type": "code",
   "execution_count": null,
   "id": "d64bd3da",
   "metadata": {
    "colab": {},
    "colab_type": "code",
    "id": "zhACmhU85KFW",
    "outputId": "deabb60c-1fd4-44e7-dfb3-f2c77c50a1d8"
   },
   "outputs": [],
   "source": [
    "np.shares_memory(a, c)"
   ]
  },
  {
   "cell_type": "code",
   "execution_count": null,
   "id": "ec77b272",
   "metadata": {
    "colab": {},
    "colab_type": "code",
    "id": "zbhoU-2W5KFZ",
    "outputId": "20ba89b5-c1e2-432f-bd94-d071991750b1"
   },
   "outputs": [],
   "source": [
    "c[0] = 10\n",
    "a"
   ]
  },
  {
   "cell_type": "markdown",
   "id": "124f5357",
   "metadata": {},
   "source": [
    "## Transposing\n",
    "Similar to how it is common to reshape data, it is also common to transpose data. Perhaps we have data that's supposed to be in a particular format, but some new data we get is rearranged. We can just transpose the data, using the np.transpose function, to convert it to the proper format."
   ]
  },
  {
   "cell_type": "code",
   "execution_count": 34,
   "id": "80c61b32",
   "metadata": {},
   "outputs": [
    {
     "name": "stdout",
     "output_type": "stream",
     "text": [
      "array([[0, 1],\n",
      "       [2, 3],\n",
      "       [4, 5],\n",
      "       [6, 7]])\n",
      "arr shape: (4, 2)\n",
      "array([[0, 2, 4, 6],\n",
      "       [1, 3, 5, 7]])\n",
      "transposed shape: (2, 4)\n"
     ]
    }
   ],
   "source": [
    "arr = np.arange(8)\n",
    "arr = np.reshape(arr, (4, 2))\n",
    "transposed = np.transpose(arr)\n",
    "print(repr(arr))\n",
    "print('arr shape: {}'.format(arr.shape))\n",
    "print(repr(transposed))\n",
    "print('transposed shape: {}'.format(transposed.shape))"
   ]
  },
  {
   "cell_type": "markdown",
   "id": "00e1a420",
   "metadata": {},
   "source": [
    "# Matrix multiplication\n",
    "Since NumPy arrays are basically vectors and matrices, it makes sense that there are functions for dot products and matrix multiplication. Specifically, the main function to use is np.matmul, which takes two vector/matrix arrays as input and produces a dot product or matrix multiplication.\n",
    "\n",
    "The code below shows various examples of matrix multiplication. When both inputs are 1-D, the output is the dot product.\n",
    "\n",
    "Note that the dimensions of the two input matrices must be valid for a matrix multiplication. Specifically, the second dimension of the first matrix must equal the first dimension of the second matrix, otherwise np.matmul will result in a ValueError."
   ]
  },
  {
   "cell_type": "code",
   "execution_count": 36,
   "id": "7ffb1ade",
   "metadata": {},
   "outputs": [
    {
     "name": "stdout",
     "output_type": "stream",
     "text": [
      "27\n",
      "array([[  5,   4,  -7],\n",
      "       [  9,   8, -13],\n",
      "       [ 13,  12, -19]])\n",
      "array([[  4,   4],\n",
      "       [-11, -10]])\n"
     ]
    }
   ],
   "source": [
    "arr1 = np.array([1, 2, 3])\n",
    "arr2 = np.array([-3, 0, 10])\n",
    "print(np.matmul(arr1, arr2))\n",
    "\n",
    "arr3 = np.array([[1, 2], [3, 4], [5, 6]])\n",
    "arr4 = np.array([[-1, 0, 1], [3, 2, -4]])\n",
    "print(repr(np.matmul(arr3, arr4)))\n",
    "print(repr(np.matmul(arr4, arr3)))\n",
    "#print(repr(np.matmul(arr3, arr3))) # This will result in ValueError"
   ]
  },
  {
   "cell_type": "markdown",
   "id": "1e44077a",
   "metadata": {},
   "source": [
    "# Numerical Operation in Numpy"
   ]
  },
  {
   "cell_type": "markdown",
   "id": "2465b5db",
   "metadata": {},
   "source": [
    "### Statistics"
   ]
  },
  {
   "cell_type": "code",
   "execution_count": null,
   "id": "5e062065",
   "metadata": {},
   "outputs": [],
   "source": [
    "x = np.array([1, 2, 3, 1])\n",
    "y = np.array([[1, 2, 3], [5, 6, 1]])\n",
    "x.mean()"
   ]
  },
  {
   "cell_type": "code",
   "execution_count": null,
   "id": "0adc811b",
   "metadata": {},
   "outputs": [],
   "source": [
    "y.mean()"
   ]
  },
  {
   "cell_type": "code",
   "execution_count": null,
   "id": "128261da",
   "metadata": {},
   "outputs": [],
   "source": [
    "np.median(x)"
   ]
  },
  {
   "cell_type": "code",
   "execution_count": null,
   "id": "521333a5",
   "metadata": {},
   "outputs": [],
   "source": [
    "np.median(y, axis=-1) # last axis"
   ]
  },
  {
   "cell_type": "code",
   "execution_count": null,
   "id": "a9c1093d",
   "metadata": {},
   "outputs": [],
   "source": [
    "x.std()          # full population standard dev."
   ]
  },
  {
   "cell_type": "code",
   "execution_count": null,
   "id": "fe890a24",
   "metadata": {},
   "outputs": [],
   "source": [
    "y.std()"
   ]
  },
  {
   "cell_type": "markdown",
   "id": "22c309cd",
   "metadata": {},
   "source": [
    "## Funciones Universales Binarias\n",
    "\n",
    "### Son funciones que realizan operaciones elemento-a-elemento sobre datos en una   `ndarray`.  Las funciones _binarias_ toman dos arrays y devuelven uno o más arrays.\n",
    "\n",
    "|Función|Descripción|\n",
    "|-------|-----------|\n",
    "|`add`|Suma entre elementos correspondientes entre arrays|\n",
    "|`subtract`|Resta entre elementos de arrays|\n",
    "|`multiply`|Multiplica arrays|\n",
    "|`divide`, `floor_divide`|Divide o división truncada|\n",
    "|`array_equal`|Devuelve `True` si los elementos del array son iguales entre sí|\n",
    "|`power`|Eleva cada elemento del primer array a la potencia indicada en el segundo array|\n",
    "|`fmin`|Devuelve el mínimo entre cada elemento. `fmin` ignora los `NaN`|\n",
    "|`fmax`|Devuelve el máximo entre cada elemento. `fmax` ignora los `NaN`|\n"
   ]
  },
  {
   "cell_type": "code",
   "execution_count": null,
   "id": "f8717c93",
   "metadata": {},
   "outputs": [],
   "source": [
    "import numpy as np\n",
    "\n",
    "arr = np.array([5,36,17,18,9])\n",
    "\n",
    "arr_2 = np.array([8,24,17,19,9])"
   ]
  },
  {
   "cell_type": "code",
   "execution_count": null,
   "id": "ee85080e",
   "metadata": {},
   "outputs": [],
   "source": [
    "np.add(arr,arr_2)\n",
    "np.subtract(arr,arr_2)\n",
    "np.multiply(arr,arr_2)\n",
    "np.divide(arr,arr_2)\n",
    "np.array_equal(arr,arr_2)\n",
    "np.fmin(arr,arr_2)\n",
    "np.fmax(arr,arr_2)"
   ]
  },
  {
   "cell_type": "code",
   "execution_count": null,
   "id": "9c7325fe",
   "metadata": {},
   "outputs": [],
   "source": [
    "import numpy as np\n",
    "\n",
    "arr = np.arange(0,20,2)\n",
    "arr"
   ]
  },
  {
   "cell_type": "code",
   "execution_count": null,
   "id": "65d8a7ea",
   "metadata": {},
   "outputs": [],
   "source": [
    "arr_flot = np.random.rand(4,3)\n",
    "arr_flot"
   ]
  },
  {
   "cell_type": "code",
   "execution_count": null,
   "id": "c5e070a4",
   "metadata": {},
   "outputs": [],
   "source": [
    "arr_ent = np.random.randint(100, size=(2,3))\n",
    "arr_ent"
   ]
  },
  {
   "cell_type": "code",
   "execution_count": null,
   "id": "13236db5",
   "metadata": {},
   "outputs": [],
   "source": [
    "arr_6 = np.full((3,3),6)\n",
    "arr_6"
   ]
  },
  {
   "cell_type": "code",
   "execution_count": null,
   "id": "58cd0418",
   "metadata": {},
   "outputs": [],
   "source": [
    "np.append(arr, [12,13,14,51])"
   ]
  },
  {
   "cell_type": "code",
   "execution_count": null,
   "id": "127c4159",
   "metadata": {},
   "outputs": [],
   "source": [
    "np.insert(arr,2, [42,34])"
   ]
  },
  {
   "cell_type": "code",
   "execution_count": null,
   "id": "6ecbd23f",
   "metadata": {},
   "outputs": [],
   "source": [
    "np.delete(arr_ent,0,axis=1)"
   ]
  },
  {
   "cell_type": "markdown",
   "id": "deb379aa",
   "metadata": {},
   "source": [
    "## # Mathematical and Statistical Methods"
   ]
  },
  {
   "cell_type": "code",
   "execution_count": null,
   "id": "4b12c14a",
   "metadata": {},
   "outputs": [],
   "source": [
    "import numpy as np\n",
    "data = np.random.randn(6, 3)\n",
    "data"
   ]
  },
  {
   "cell_type": "code",
   "execution_count": null,
   "id": "bda0e37e",
   "metadata": {},
   "outputs": [],
   "source": [
    "data.mean()"
   ]
  },
  {
   "cell_type": "code",
   "execution_count": null,
   "id": "2c48a423",
   "metadata": {},
   "outputs": [],
   "source": [
    "data.min()"
   ]
  },
  {
   "cell_type": "code",
   "execution_count": null,
   "id": "02bdfc7a",
   "metadata": {},
   "outputs": [],
   "source": [
    "data.max()"
   ]
  },
  {
   "cell_type": "code",
   "execution_count": null,
   "id": "0d41cab4",
   "metadata": {},
   "outputs": [],
   "source": [
    "data.sum()"
   ]
  },
  {
   "cell_type": "code",
   "execution_count": null,
   "id": "2cd6f223",
   "metadata": {},
   "outputs": [],
   "source": [
    "data.sum(axis = 0)"
   ]
  },
  {
   "cell_type": "markdown",
   "id": "1d2c82bf",
   "metadata": {},
   "source": [
    "## Values"
   ]
  },
  {
   "cell_type": "code",
   "execution_count": null,
   "id": "ca6272c8",
   "metadata": {},
   "outputs": [],
   "source": [
    "values = np.arange(5)\n",
    "values"
   ]
  },
  {
   "cell_type": "code",
   "execution_count": null,
   "id": "120b1d3e",
   "metadata": {},
   "outputs": [],
   "source": [
    "values.cumsum()"
   ]
  },
  {
   "cell_type": "code",
   "execution_count": null,
   "id": "45e136fd",
   "metadata": {},
   "outputs": [],
   "source": [
    "values.std()"
   ]
  },
  {
   "cell_type": "code",
   "execution_count": null,
   "id": "4ff81422",
   "metadata": {},
   "outputs": [],
   "source": [
    "matrix_array= np.array([np.arange(1, 5), np.arange(6, 10 ), np.arange(11, 15)])\n",
    "matrix_array"
   ]
  },
  {
   "cell_type": "code",
   "execution_count": null,
   "id": "dc3f932f",
   "metadata": {},
   "outputs": [],
   "source": [
    "matrix_array.cumsum(axis=0)"
   ]
  },
  {
   "cell_type": "code",
   "execution_count": null,
   "id": "dd3d7a0e",
   "metadata": {},
   "outputs": [],
   "source": [
    "matrix_array.cumsum(axis=1)"
   ]
  },
  {
   "cell_type": "code",
   "execution_count": null,
   "id": "5b8c6a12",
   "metadata": {},
   "outputs": [],
   "source": [
    "matrix_array.cumprod(axis=1)"
   ]
  },
  {
   "cell_type": "code",
   "execution_count": null,
   "id": "93128f99",
   "metadata": {},
   "outputs": [],
   "source": []
  },
  {
   "cell_type": "markdown",
   "id": "72d675e1",
   "metadata": {},
   "source": [
    "#### Write a NumPy program to convert an array to a float type.\n",
    "```\n",
    "Original array \n",
    "[1, 2, 3, 4] \n",
    "Array converted to a float type: \n",
    "[ 1. 2. 3. 4.] \n",
    "```"
   ]
  },
  {
   "cell_type": "code",
   "execution_count": 1,
   "id": "53e82f09",
   "metadata": {},
   "outputs": [
    {
     "name": "stdout",
     "output_type": "stream",
     "text": [
      "Original array\n",
      "[1, 2, 3, 4]\n",
      "Array converted to a float type:\n",
      "[1. 2. 3. 4.]\n"
     ]
    }
   ],
   "source": [
    "import numpy as np\n",
    "a = [1, 2, 3, 4]\n",
    "print(\"Original array\")\n",
    "print(a)\n",
    "x = np.asfarray(a)\n",
    "print(\"Array converted to a float type:\")\n",
    "print(x)"
   ]
  },
  {
   "cell_type": "markdown",
   "id": "aa3c9e87",
   "metadata": {},
   "source": [
    "#### Write a NumPy program to construct an array by repeating.\n",
    "```\n",
    "Original array \n",
    "[1, 2, 3, 4] \n",
    "Repeating 2 times \n",
    "[1 2 3 4 1 2 3 4]\n",
    "Repeating 3 times \n",
    "[1 2 3 4 1 2 3 4 1 2 3 4]\n",
    "```"
   ]
  },
  {
   "cell_type": "code",
   "execution_count": 2,
   "id": "92429b33",
   "metadata": {},
   "outputs": [
    {
     "data": {
      "text/plain": [
       "array([1, 2, 3, 4, 1, 2, 3, 4, 1, 2, 3, 4])"
      ]
     },
     "execution_count": 2,
     "metadata": {},
     "output_type": "execute_result"
    }
   ],
   "source": [
    "n=3\n",
    "x = np.tile(a, n)\n",
    "x"
   ]
  },
  {
   "cell_type": "markdown",
   "id": "535f8f48",
   "metadata": {},
   "source": [
    "#### How to tell if a given 2D array has null columns?"
   ]
  },
  {
   "cell_type": "code",
   "execution_count": 3,
   "id": "cfdfa5ef",
   "metadata": {},
   "outputs": [
    {
     "name": "stdout",
     "output_type": "stream",
     "text": [
      "[[0 1 0 1 0 0 2 0 0 1]\n",
      " [0 1 0 1 2 2 0 0 1 0]\n",
      " [1 2 1 2 1 2 0 0 0 1]\n",
      " [0 2 2 2 0 1 1 2 2 1]]\n",
      "Test whether the said array has null columns or not:\n",
      "False\n"
     ]
    }
   ],
   "source": [
    "nums = np.random.randint(0,3,(4,10))\n",
    "print(nums)\n",
    "print(\"Test whether the said array has null columns or not:\")\n",
    "print((~nums.any(axis=0)).any())"
   ]
  },
  {
   "cell_type": "markdown",
   "id": "c5400de1",
   "metadata": {},
   "source": [
    "#### Considering two arrays with shape (1,3) and (3,1), how to compute their sum using an iterator? \n",
    "```\n",
    "a= [\n",
    "[1,2,3]\n",
    "]\n",
    "\n",
    "b= [\n",
    "[4],\n",
    "[5],\n",
    "[6],\n",
    "]\n",
    "\n",
    "Expected Output = [[5 6 7]\n",
    "                   [6 7 8]\n",
    "                   [7 8 9]]\n",
    "```\n"
   ]
  },
  {
   "cell_type": "code",
   "execution_count": 4,
   "id": "16a99814",
   "metadata": {},
   "outputs": [
    {
     "name": "stdout",
     "output_type": "stream",
     "text": [
      "[[5 6 7]\n",
      " [6 7 8]\n",
      " [7 8 9]]\n"
     ]
    }
   ],
   "source": [
    "A = np.arange(1,4).reshape(3,1)\n",
    "B = np.arange(4,7).reshape(1,3)\n",
    "it = np.nditer([A,B,None])\n",
    "for x,y,z in it: z[...] = x + y\n",
    "print(it.operands[2])"
   ]
  },
  {
   "cell_type": "markdown",
   "id": "dc4527a8",
   "metadata": {},
   "source": [
    "##### Solve the linear equation\n",
    "##### 10x+4y = 3 \n",
    "#####  -x+5y = 2 "
   ]
  },
  {
   "cell_type": "code",
   "execution_count": 5,
   "id": "a8f2d62f",
   "metadata": {},
   "outputs": [
    {
     "data": {
      "text/plain": [
       "array([0.12962963, 0.42592593])"
      ]
     },
     "execution_count": 5,
     "metadata": {},
     "output_type": "execute_result"
    }
   ],
   "source": [
    "A = np.array([[10, 4], [-1, 5]])\n",
    "b = np.array([3,2])\n",
    "x = np.linalg.solve(A, b)\n",
    "x"
   ]
  },
  {
   "cell_type": "markdown",
   "id": "25c66dbd",
   "metadata": {},
   "source": [
    "##### Create a 4x4 matrix with random values and find inverse of it."
   ]
  },
  {
   "cell_type": "code",
   "execution_count": 6,
   "id": "7e159429",
   "metadata": {},
   "outputs": [
    {
     "name": "stdout",
     "output_type": "stream",
     "text": [
      "[[0.47965085 0.40025875 0.62967498 0.0317385 ]\n",
      " [0.7343116  0.74325883 0.91529922 0.77253371]\n",
      " [0.98884703 0.47045006 0.92439712 0.13418986]\n",
      " [0.71662441 0.36327495 0.87270742 0.23388477]]\n",
      "Inverse\n",
      "[[-2.75696756  0.12619732  3.91270068 -2.28759831]\n",
      " [ 3.80768668  1.14151028  0.70576338 -4.6921042 ]\n",
      " [ 1.40425668 -0.87801898 -3.41112376  4.66669317]\n",
      " [-2.70659842  1.11651353 -0.35662839  1.15960927]]\n"
     ]
    }
   ],
   "source": [
    "x= np.random.random((4,4))\n",
    "print(x)\n",
    "print(\"Inverse\")\n",
    "y = np.linalg.inv(x) \n",
    "print(y)"
   ]
  },
  {
   "cell_type": "markdown",
   "id": "3c019fa2",
   "metadata": {},
   "source": [
    "##### Write a NumPy program to capitalize the first letter, lowercase, uppercase, swapcase, title-case of all the elements of a given array. \n",
    "\n",
    "##### Expected Output:\n",
    "#### Original Array:\n",
    "```\n",
    "['python' 'PHP' 'java' 'C++']\n",
    "\n",
    "Capitalized: ['Python' 'Php' 'Java' 'C++']\n",
    "Lowered: ['python' 'php' 'java' 'c++']\n",
    "Uppered: ['PYTHON' 'PHP' 'JAVA' 'C++']\n",
    "Swapcased: ['PYTHON' 'php' 'JAVA' 'c++']\n",
    "Titlecased: ['Python' 'Php' 'Java' 'C++']\n",
    "\n",
    "```"
   ]
  },
  {
   "cell_type": "code",
   "execution_count": 7,
   "id": "2aaabd58",
   "metadata": {},
   "outputs": [
    {
     "name": "stdout",
     "output_type": "stream",
     "text": [
      "Original Array:\n",
      "['python' 'PHP' 'java' 'C++']\n",
      "\n",
      "Capitalized:  ['Python' 'Php' 'Java' 'C++']\n",
      "Lowered:  ['python' 'php' 'java' 'c++']\n",
      "Uppered:  ['PYTHON' 'PHP' 'JAVA' 'C++']\n",
      "Swapcased:  ['PYTHON' 'php' 'JAVA' 'c++']\n",
      "Titlecased:  ['Python' 'Php' 'Java' 'C++']\n"
     ]
    },
    {
     "name": "stderr",
     "output_type": "stream",
     "text": [
      "/var/folders/9q/486czkcn7lv5v0hwbt71twdc0000gn/T/ipykernel_3312/3400659836.py:1: DeprecationWarning: `np.str` is a deprecated alias for the builtin `str`. To silence this warning, use `str` by itself. Doing this will not modify any behavior and is safe. If you specifically wanted the numpy scalar type, use `np.str_` here.\n",
      "Deprecated in NumPy 1.20; for more details and guidance: https://numpy.org/devdocs/release/1.20.0-notes.html#deprecations\n",
      "  x = np.array(['python', 'PHP', 'java', 'C++'], dtype=np.str)\n"
     ]
    }
   ],
   "source": [
    "x = np.array(['python', 'PHP', 'java', 'C++'], dtype=np.str)\n",
    "print(\"Original Array:\")\n",
    "print(x)\n",
    "capitalized_case = np.char.capitalize(x)\n",
    "lowered_case = np.char.lower(x)\n",
    "uppered_case = np.char.upper(x)\n",
    "swapcased_case = np.char.swapcase(x)\n",
    "titlecased_case = np.char.title(x)\n",
    "print(\"\\nCapitalized: \", capitalized_case)\n",
    "print(\"Lowered: \", lowered_case)\n",
    "print(\"Uppered: \", uppered_case)\n",
    "print(\"Swapcased: \", swapcased_case)\n",
    "print(\"Titlecased: \", titlecased_case)"
   ]
  },
  {
   "cell_type": "markdown",
   "id": "a15f688c",
   "metadata": {},
   "source": [
    "##### Write a NumPy program to split the element of a given array with spaces\n",
    "```\n",
    "Original Array:\n",
    " ['apple mangoes peach grapes']\n",
    "Output\n",
    "[list(['apple', 'mangoes', 'peach', 'grapes'])]\n",
    "```"
   ]
  },
  {
   "cell_type": "code",
   "execution_count": 8,
   "id": "ba124626",
   "metadata": {},
   "outputs": [
    {
     "name": "stdout",
     "output_type": "stream",
     "text": [
      "\n",
      "Split the element of the said array with spaces: \n",
      "[list(['apple', 'mangoes', 'peach', 'grapes'])]\n"
     ]
    }
   ],
   "source": [
    "x= np.array(['apple mangoes peach grapes'])\n",
    "r = np.char.split(x)\n",
    "print(\"\\nSplit the element of the said array with spaces: \")\n",
    "print(r)"
   ]
  },
  {
   "cell_type": "markdown",
   "id": "59c25106",
   "metadata": {},
   "source": [
    "##### Write a NumPy program to flatten the array and then find its median.\n",
    "```\n",
    "[[ 0 1 2 3 4 5]\n",
    "[ 6 7 8 9 10 11]]\n",
    "```"
   ]
  },
  {
   "cell_type": "code",
   "execution_count": 9,
   "id": "2a98dc84",
   "metadata": {},
   "outputs": [
    {
     "name": "stdout",
     "output_type": "stream",
     "text": [
      "[ 0  1  2  3  4  5  6  7  8  9 10 11]\n"
     ]
    },
    {
     "data": {
      "text/plain": [
       "5.5"
      ]
     },
     "execution_count": 9,
     "metadata": {},
     "output_type": "execute_result"
    }
   ],
   "source": [
    "x= np.array([[0,1,2,3,4,5],[6,7,8,9,10,11]])\n",
    "flat=x.flatten()\n",
    "print(flat)\n",
    "np.median(flat)"
   ]
  },
  {
   "cell_type": "markdown",
   "id": "24cd932b",
   "metadata": {},
   "source": [
    "##### Write a NumPy program to compute the 80th percentile for all elements in a given array along the second axis.\n",
    "```\n",
    "Original array:\n",
    "[[ 0  1  2  3  4  5]\n",
    " [ 6  7  8  9 10 11]]\n",
    "\n",
    "80th percentile for all elements of the said array along the second axis:\n",
    "[ 4. 10.]\n",
    "```"
   ]
  },
  {
   "cell_type": "code",
   "execution_count": 10,
   "id": "a95ec10b",
   "metadata": {},
   "outputs": [
    {
     "data": {
      "text/plain": [
       "array([ 4., 10.])"
      ]
     },
     "execution_count": 10,
     "metadata": {},
     "output_type": "execute_result"
    }
   ],
   "source": [
    "x= np.array([[0,1,2,3,4,5],[6,7,8,9,10,11]])\n",
    "np.percentile(x,80,axis=1)"
   ]
  },
  {
   "cell_type": "code",
   "execution_count": 13,
   "id": "260daa2a",
   "metadata": {},
   "outputs": [
    {
     "data": {
      "text/plain": [
       "array([0, 1, 2, 3, 4, 5, 6, 7, 8, 9])"
      ]
     },
     "execution_count": 13,
     "metadata": {},
     "output_type": "execute_result"
    }
   ],
   "source": [
    "import numpy as np\n",
    "array_4 = np.array(list(range(10)))\n",
    "array_4"
   ]
  },
  {
   "cell_type": "code",
   "execution_count": 15,
   "id": "2fe7ef47",
   "metadata": {},
   "outputs": [
    {
     "data": {
      "text/plain": [
       "array([ 0,  1,  2,  3,  4,  5,  6,  7,  8,  9, 10, 11, 12, 13, 14],\n",
       "      dtype=int32)"
      ]
     },
     "execution_count": 15,
     "metadata": {},
     "output_type": "execute_result"
    }
   ],
   "source": [
    "array_5 = np.array(list(range(15)), dtype = np.int32)\n",
    "array_5"
   ]
  }
 ],
 "metadata": {
  "kernelspec": {
   "display_name": "Python 3 (ipykernel)",
   "language": "python",
   "name": "python3"
  },
  "language_info": {
   "codemirror_mode": {
    "name": "ipython",
    "version": 3
   },
   "file_extension": ".py",
   "mimetype": "text/x-python",
   "name": "python",
   "nbconvert_exporter": "python",
   "pygments_lexer": "ipython3",
   "version": "3.9.7"
  }
 },
 "nbformat": 4,
 "nbformat_minor": 5
}
