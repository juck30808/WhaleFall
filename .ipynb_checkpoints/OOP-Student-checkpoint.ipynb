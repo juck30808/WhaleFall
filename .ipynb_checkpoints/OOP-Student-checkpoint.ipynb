{
 "cells": [
  {
   "cell_type": "markdown",
   "metadata": {},
   "source": [
    "## Object-Oriented Programming (OOP)\n",
    "物件導向是一個廣泛使用的概念來編寫強大的應用程序。作為一名數據科學家，您將需要編寫應用程序來處理您的數據以及其他一系列事情。在本教程中，您將了解 Python 中物件導向的基礎知識。"
   ]
  },
  {
   "cell_type": "markdown",
   "metadata": {},
   "source": [
    "Object-Oriented programming is a widely used concept to write powerful applications. As a data scientist, you will be required to write applications to process your data, among a range of other things. In this tutorial, you will discover the basics of object-oriented programming in Python. You will learn the following:"
   ]
  },
  {
   "cell_type": "markdown",
   "metadata": {},
   "source": [
    "## create a class\n",
    "\n",
    "- 要在 Python 中定義類，可以使用 class 關鍵字，後跟類名和冒號。在class內部，__init__必須使用def. 這是您以後可以用來實例化對象的初始化程序。它類似於 Java 中的構造函數。__init__必須始終在場！它需要一個參數：self，它指的是對象本身。在方法內部，pass關鍵字是現在使用的，因為 Python 期望你在那裡輸入一些東西。"
   ]
  },
  {
   "cell_type": "code",
   "execution_count": 6,
   "metadata": {},
   "outputs": [],
   "source": [
    "class Student:\n",
    "    count=0\n",
    "    def __init__(self,name,gender,roll=-1,marks=0) :\n",
    "        self.name=name\n",
    "        self.roll=roll\n",
    "        self.gender=gender\n",
    "        self.marks=marks\n",
    "        Student.count+=1\n",
    "        \n",
    "    def __del__(self):\n",
    "        Student.count-=1\n",
    "        \n",
    "    def calculateGrade(self):\n",
    "        if self.marks>=70 and self.marks<=100:\n",
    "            return 'A'\n",
    "        elif self.marks>=60 and self.marks<70:\n",
    "            return 'B'\n",
    "        elif self.marks>=40 and self.marks<60:\n",
    "            return 'C'\n",
    "        elif self.marks>=0 and self.marks<40:\n",
    "            return\n",
    "        else:\n",
    "            return \"Invalid marks\"\n",
    "        \n",
    "    def getCount(self):\n",
    "        return Student.count"
   ]
  },
  {
   "cell_type": "code",
   "execution_count": 7,
   "metadata": {},
   "outputs": [
    {
     "name": "stdout",
     "output_type": "stream",
     "text": [
      "Enter your name: XYZ\n",
      "Enter your roll no: 1\n",
      "Enter your gender:F\n",
      "Enter your marks: 50\n",
      "0\n",
      "0\n",
      "0\n",
      "Grade of XYZ is C\n",
      "Grade of abc is A\n"
     ]
    }
   ],
   "source": [
    "#from student import Student\n",
    "#import student\n",
    "\n",
    "name =input(\"Enter your name: \")\n",
    "roll =int(input (\"Enter your roll no: \"))\n",
    "gender =input (\"Enter your gender:\")\n",
    "marks =float(input (\"Enter your marks: \"))\n",
    "print (Student.count)\n",
    "                    \n",
    "s1=Student (name,roll,gender,marks)\n",
    "print (Student.count)\n",
    "                    \n",
    "s2=Student (\"abc\", 2, \"M\", 85.5)\n",
    "print (Student.count)\n",
    "print(\"Grade of {0} is {1}\" .format (s1.name,s1.calculateGrade()))\n",
    "print(\"Grade of {0} is {1}\" .format (s2.name,s2.calculateGrade ()))"
   ]
  },
  {
   "cell_type": "code",
   "execution_count": null,
   "metadata": {},
   "outputs": [],
   "source": []
  }
 ],
 "metadata": {
  "kernelspec": {
   "display_name": "Python 3",
   "language": "python",
   "name": "python3"
  },
  "language_info": {
   "codemirror_mode": {
    "name": "ipython",
    "version": 3
   },
   "file_extension": ".py",
   "mimetype": "text/x-python",
   "name": "python",
   "nbconvert_exporter": "python",
   "pygments_lexer": "ipython3",
   "version": "3.8.5"
  }
 },
 "nbformat": 4,
 "nbformat_minor": 4
}
