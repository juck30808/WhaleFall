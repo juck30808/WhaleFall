{
 "cells": [
  {
   "cell_type": "markdown",
   "id": "b4a40bc0",
   "metadata": {},
   "source": [
    "## Regular expression (正規表示式)\n",
    "推薦一個好用的即時檢查re的工具——https://regex101.com/"
   ]
  },
  {
   "cell_type": "markdown",
   "id": "f451b069",
   "metadata": {},
   "source": [
    "基本的替代符號\n",
    "- \\d:一位數字\n",
    "- \\D:任意一位不是數字的符號\n",
    "- \\s:一個空格或換行符號\n",
    "- \\w:英文字母\n",
    "- \\W:任意一位不是英文字母的符號\n",
    "- [\\u4e00-\\u9fa5]:一個中文字\n",
    "\n",
    "一些特別的符號\n",
    "- .:一位任意符號\n",
    "- *:(必須接在某個符號後面)，0個或更多的該符號\n",
    "- +:(必須接在某個符號後面)，1個或更多的該符號\n",
    "- {3,4}:(必須接在某個符號後面)，3個~5個的該符號"
   ]
  },
  {
   "cell_type": "code",
   "execution_count": 1,
   "id": "c43327eb",
   "metadata": {},
   "outputs": [],
   "source": [
    "text = \"\"\"\n",
    "中央流行疫情指揮中心今(29)日公布國內新增11例COVID-19確定病例，分別為1例本土及10例境外移入；另確診個案中無新增死亡。\n",
    "\n",
    "指揮中心表示，今日新增1例本土個案(案16326)，為印尼籍30多歲女性，今(2021)年9月27日出現頭痛症狀，9月28日就醫採檢，於今日確診。衛生單位已匡列接觸者7人，均列居家隔離，其餘接觸者匡列中。\n",
    "\n",
    "指揮中心指出，今日新增10例境外移入個案，為9例男性、1例女性，年齡介於20多歲至40多歲，入境日介於9月3日至9月28日，分別自美國(案16316)、哈薩克(2例，案16317、案16318)、巴基斯坦(案16319)、柬埔寨(16320)、俄羅斯(案16324)及菲律賓(案16325)入境，餘3例 (案16321、案16322、案16323)的旅遊國家調查中；詳如新聞稿附件。\n",
    "\n",
    "指揮中心統計，截至目前國內累計3,358,228例新型冠狀病毒肺炎相關通報(含3,341,439例排除)，其中16,216例確診，分別為1,581例境外移入，14,581例本土病例，36例敦睦艦隊、3例航空器感染、1例不明及14例調查中；另累計110例移除為空號。2020年起累計842例COVID-19死亡病例，其中830例本土，個案居住縣市分布為新北市412例、臺北市318例、基隆市28例、桃園市26例、彰化縣15例、新竹縣13例、臺中市5例、苗栗縣3例、宜蘭縣及花蓮縣各2例，臺東縣、雲林縣、臺南市、南投縣、高雄市及屏東縣各1例；另12例為境外移入。\n",
    "\n",
    "指揮中心再次呼籲，民眾應落實手部衛生、咳嗽禮節及佩戴口罩等個人防護措施，減少不必要移動、活動或集會，避免出入人多擁擠的場所，或高感染傳播風險場域，並主動積極配合各項防疫措施，共同嚴守社區防線。\n",
    "\"\"\""
   ]
  },
  {
   "cell_type": "code",
   "execution_count": 2,
   "id": "59ff5c02",
   "metadata": {},
   "outputs": [
    {
     "name": "stdout",
     "output_type": "stream",
     "text": [
      "<re.Match object; span=(78, 84), match='新增1例本土'>\n",
      "['新增10例境外']\n"
     ]
    }
   ],
   "source": [
    "import re\n",
    "print(re.search(\"新增\\d+例本土\", text)) # re.search找到第一筆匹配的,回傳re.Match型態\n",
    "print(re.findall(\"新增\\d+例境外\", text)) # re.findall找所有匹配的，回傳一個list"
   ]
  },
  {
   "cell_type": "code",
   "execution_count": 3,
   "id": "6f05ba23",
   "metadata": {},
   "outputs": [
    {
     "name": "stdout",
     "output_type": "stream",
     "text": [
      "1\n",
      "['10']\n"
     ]
    }
   ],
   "source": [
    "print(re.search(\"新增(\\d+)例本土\", text).group(1)) # group(n)表示取出這個表達式中第n個括號的內容\n",
    "print(re.findall(\"新增(\\d+)例境外\", text)) # 有括號時findall會取出所有()內的結果"
   ]
  },
  {
   "cell_type": "code",
   "execution_count": 4,
   "id": "37d868b8",
   "metadata": {
    "scrolled": true
   },
   "outputs": [
    {
     "name": "stdout",
     "output_type": "stream",
     "text": [
      "['居住縣', '新北市', '臺北市', '基隆市', '桃園市', '彰化縣', '新竹縣', '臺中市', '苗栗縣', '宜蘭縣', '花蓮縣', '臺東縣', '雲林縣', '臺南市', '南投縣', '高雄市', '屏東縣']\n"
     ]
    }
   ],
   "source": [
    "print(re.findall(\"..[縣市]\", text)) # []內表示都可以"
   ]
  },
  {
   "cell_type": "markdown",
   "id": "61ea7624",
   "metadata": {},
   "source": [
    "## Search\n",
    "\n",
    "- re.match只匹配字符串的开始，如果字符串开始不符合正则表达式，则匹配失败，函数返回None；\n",
    "- re.search匹配整个字符串，直到找到一个匹配。\n"
   ]
  },
  {
   "cell_type": "code",
   "execution_count": 5,
   "id": "dff9cea3",
   "metadata": {},
   "outputs": [
    {
     "data": {
      "text/plain": [
       "<re.Match object; span=(0, 1), match='a'>"
      ]
     },
     "execution_count": 5,
     "metadata": {},
     "output_type": "execute_result"
    }
   ],
   "source": [
    "import re\n",
    "s=\"ac\"\n",
    "re.search('[abc]',s)"
   ]
  },
  {
   "cell_type": "code",
   "execution_count": 6,
   "id": "126b3360",
   "metadata": {
    "scrolled": true
   },
   "outputs": [
    {
     "data": {
      "text/plain": [
       "<re.Match object; span=(0, 1), match='a'>"
      ]
     },
     "execution_count": 6,
     "metadata": {},
     "output_type": "execute_result"
    }
   ],
   "source": [
    "s=\"ac\"\n",
    "re.search('.',s)"
   ]
  },
  {
   "cell_type": "code",
   "execution_count": 7,
   "id": "598c9dce",
   "metadata": {},
   "outputs": [
    {
     "name": "stdout",
     "output_type": "stream",
     "text": [
      "<re.Match object; span=(0, 1), match='m'>\n"
     ]
    }
   ],
   "source": [
    "s='mumbai'\n",
    "x = re.search('^m',s)\n",
    "print(x)"
   ]
  },
  {
   "cell_type": "code",
   "execution_count": 8,
   "id": "f3f41d81",
   "metadata": {},
   "outputs": [
    {
     "name": "stdout",
     "output_type": "stream",
     "text": [
      "None\n",
      "<re.Match object; span=(5, 6), match='a'>\n"
     ]
    }
   ],
   "source": [
    "a = re.search('a$','Delhi')\n",
    "print(a)\n",
    "b = re.search('a$','Odissa')\n",
    "print(b)"
   ]
  },
  {
   "cell_type": "code",
   "execution_count": 9,
   "id": "bdca872b",
   "metadata": {},
   "outputs": [
    {
     "name": "stdout",
     "output_type": "stream",
     "text": [
      "<re.Match object; span=(0, 2), match='ma'>\n",
      "<re.Match object; span=(2, 4), match='ma'>\n"
     ]
    }
   ],
   "source": [
    "a = re.search('ma*','man')\n",
    "print(a)\n",
    "b = re.search('ma*','woman')\n",
    "print(b)"
   ]
  },
  {
   "cell_type": "code",
   "execution_count": 10,
   "id": "68799a36",
   "metadata": {},
   "outputs": [
    {
     "name": "stdout",
     "output_type": "stream",
     "text": [
      "<re.Match object; span=(0, 2), match='ma'>\n",
      "<re.Match object; span=(2, 4), match='ma'>\n"
     ]
    }
   ],
   "source": [
    "a = re.search('ma+','man')\n",
    "print(a)\n",
    "b = re.search('ma+','woman')\n",
    "print(b)"
   ]
  },
  {
   "cell_type": "code",
   "execution_count": 11,
   "id": "f695ff88",
   "metadata": {},
   "outputs": [
    {
     "name": "stdout",
     "output_type": "stream",
     "text": [
      "None\n",
      "<re.Match object; span=(0, 2), match='aa'>\n"
     ]
    }
   ],
   "source": [
    "a = re.search('a{2}', 'abc')\n",
    "print(a)\n",
    "b = re.search('a{2}', 'aab')\n",
    "print(b)"
   ]
  },
  {
   "cell_type": "code",
   "execution_count": 12,
   "id": "25d40af0",
   "metadata": {},
   "outputs": [
    {
     "name": "stdout",
     "output_type": "stream",
     "text": [
      "<re.Match object; span=(1, 2), match='a'>\n",
      "None\n"
     ]
    }
   ],
   "source": [
    "a = re.search('a|b', 'mango')\n",
    "print(a)\n",
    "b = re.search('a|b', 'Pune')\n",
    "print(b)"
   ]
  },
  {
   "cell_type": "code",
   "execution_count": 13,
   "id": "25461b9e",
   "metadata": {},
   "outputs": [
    {
     "name": "stdout",
     "output_type": "stream",
     "text": [
      "<re.Match object; span=(0, 2), match='am'>\n",
      "None\n"
     ]
    }
   ],
   "source": [
    "a = re.search('(a)m', 'amm')\n",
    "print(a)\n",
    "b = re.search('(a)m', 'abm')\n",
    "print(b)"
   ]
  },
  {
   "cell_type": "code",
   "execution_count": 14,
   "id": "0f9ea142",
   "metadata": {},
   "outputs": [
    {
     "name": "stdout",
     "output_type": "stream",
     "text": [
      "<re.Match object; span=(0, 2), match='$a'>\n"
     ]
    }
   ],
   "source": [
    "a=re.search('\\$a', '$abc')\n",
    "print(a)"
   ]
  },
  {
   "cell_type": "code",
   "execution_count": 15,
   "id": "b1e5bd1d",
   "metadata": {},
   "outputs": [
    {
     "name": "stdout",
     "output_type": "stream",
     "text": [
      "ape\n"
     ]
    }
   ],
   "source": [
    "if re.search(\"ape\", \"This is ape\"):\n",
    "    print(\"ape\")"
   ]
  },
  {
   "cell_type": "code",
   "execution_count": 16,
   "id": "1a7b1d9f",
   "metadata": {},
   "outputs": [
    {
     "name": "stdout",
     "output_type": "stream",
     "text": [
      "Yes! We have a match\n"
     ]
    }
   ],
   "source": [
    "#Searching string to see if it starts with \"The\" and ends with \"Germany\"\n",
    "import re\n",
    "\n",
    "newtext = \"The match in Germany\"\n",
    "x = re.search(\"^The.*Germany$\", newtext)\n",
    "# print(x)\n",
    "if x:\n",
    "    print(\"Yes! We have a match\")\n",
    "else:\n",
    "    print(\"No match\")"
   ]
  },
  {
   "cell_type": "code",
   "execution_count": 17,
   "id": "9b8079ad",
   "metadata": {},
   "outputs": [
    {
     "name": "stdout",
     "output_type": "stream",
     "text": [
      "The first white space is located in position: 3\n"
     ]
    }
   ],
   "source": [
    "# Searching for the first white-space using search()\n",
    "import re\n",
    "\n",
    "newtext = \"The rain in Germany\"\n",
    "searching = re.search(\"\\s\", newtext)\n",
    "\n",
    "print(\"The first white space is located in position:\", searching.start())\n"
   ]
  },
  {
   "cell_type": "code",
   "execution_count": 18,
   "id": "3a47566d",
   "metadata": {},
   "outputs": [
    {
     "name": "stdout",
     "output_type": "stream",
     "text": [
      "None\n"
     ]
    }
   ],
   "source": [
    "# If no matches are found, the value None is returned\n",
    "import re\n",
    "\n",
    "newtext = \"The rain in Germany\"\n",
    "matching = re.search(\"Brazil\", newtext)\n",
    "\n",
    "print(matching)"
   ]
  },
  {
   "cell_type": "code",
   "execution_count": 19,
   "id": "93ddd122",
   "metadata": {},
   "outputs": [
    {
     "name": "stdout",
     "output_type": "stream",
     "text": [
      "None\n"
     ]
    }
   ],
   "source": [
    "st = \"India is my country\"\n",
    "x=re.search('Delhi',st)\n",
    "print(x)"
   ]
  },
  {
   "cell_type": "markdown",
   "id": "e22e3963",
   "metadata": {},
   "source": [
    "## build\n",
    "- re.sub用於替換字串"
   ]
  },
  {
   "cell_type": "code",
   "execution_count": 20,
   "id": "cb8bc6e9",
   "metadata": {},
   "outputs": [
    {
     "name": "stdout",
     "output_type": "stream",
     "text": [
      "I2love2watching2movies\n"
     ]
    }
   ],
   "source": [
    "s=\"I love watching movies\"\n",
    "x = re.sub('\\s','2',s)\n",
    "print(x)"
   ]
  },
  {
   "cell_type": "code",
   "execution_count": 21,
   "id": "f2968441",
   "metadata": {},
   "outputs": [
    {
     "name": "stdout",
     "output_type": "stream",
     "text": [
      "owl owl mat pet\n"
     ]
    }
   ],
   "source": [
    "import re\n",
    "\n",
    "owlFood = \"rat cat mat pet\"\n",
    "\n",
    "regex = re.compile(\"[cr]at\")\n",
    "owlFood = regex.sub(\"owl\",owlFood)\n",
    "\n",
    "print(owlFood)"
   ]
  },
  {
   "cell_type": "code",
   "execution_count": 22,
   "id": "b7a2e6ae",
   "metadata": {},
   "outputs": [
    {
     "name": "stdout",
     "output_type": "stream",
     "text": [
      "Python|is|a|cross-platform|language\n"
     ]
    }
   ],
   "source": [
    "# replacing the matches with the text of your choice\n",
    "import re\n",
    "\n",
    "newtext = \"Python is a cross-platform language\"\n",
    "matching = re.sub(\"\\s\", \"|\", newtext)\n",
    "\n",
    "print(matching)"
   ]
  },
  {
   "cell_type": "code",
   "execution_count": 23,
   "id": "806f6079",
   "metadata": {},
   "outputs": [
    {
     "name": "stdout",
     "output_type": "stream",
     "text": [
      "This is a long string that goes on for many lines \n"
     ]
    }
   ],
   "source": [
    "randStr = \"\"\"This is a long\n",
    "string that goes\n",
    "on for many lines\n",
    "\"\"\"\n",
    "\n",
    "regex = re.compile('\\n')\n",
    "randStr = regex.sub(\" \", randStr)\n",
    "\n",
    "print(randStr)"
   ]
  },
  {
   "cell_type": "code",
   "execution_count": 24,
   "id": "e61bf4a7",
   "metadata": {},
   "outputs": [
    {
     "name": "stdout",
     "output_type": "stream",
     "text": [
      "test ffs\n"
     ]
    }
   ],
   "source": [
    "# strip sub\n",
    "import re\n",
    "def strip(text):\n",
    "    stripStartRegex = re.compile(r'(^\\s*)')\n",
    "    stripEndRegex = re.compile(r'(\\s*$)')\n",
    "\n",
    "    textStartStripped = stripStartRegex.sub('', text)\n",
    "    textStripped = stripEndRegex.sub('', textStartStripped)\n",
    "\n",
    "    return textStripped\n",
    "\n",
    "if __name__ == \"__main__\":\n",
    "    text = ' test ffs   '\n",
    "    print(strip(text))"
   ]
  },
  {
   "cell_type": "markdown",
   "id": "0e2a2bbc",
   "metadata": {},
   "source": [
    "## Split"
   ]
  },
  {
   "cell_type": "code",
   "execution_count": 25,
   "id": "0b30ea8d",
   "metadata": {},
   "outputs": [
    {
     "name": "stdout",
     "output_type": "stream",
     "text": [
      "['I', 'love', 'watching', 'movies']\n"
     ]
    }
   ],
   "source": [
    "s=\"I love watching movies\"\n",
    "x = re.split('\\s',s)\n",
    "print(x)"
   ]
  },
  {
   "cell_type": "code",
   "execution_count": 26,
   "id": "7f8652b4",
   "metadata": {},
   "outputs": [
    {
     "name": "stdout",
     "output_type": "stream",
     "text": [
      "['Python', 'is a cross-platform language']\n"
     ]
    }
   ],
   "source": [
    "# returning a list where the string has been split at each match\n",
    "import re\n",
    "\n",
    "newtext = \"Python is a cross-platform language\"\n",
    "# newmatch = re.split(\"\\s\", newtext)\n",
    "\n",
    "# Split string at first occurrence\n",
    "newmatch = re.split(\"\\s\", newtext, 1)\n",
    "\n",
    "print(newmatch)"
   ]
  },
  {
   "cell_type": "markdown",
   "id": "67e86d2d",
   "metadata": {},
   "source": [
    "## Findall\n",
    "\n",
    "- 字符串中找到所匹配的所有串，返回一List"
   ]
  },
  {
   "cell_type": "code",
   "execution_count": 27,
   "id": "f320e631",
   "metadata": {},
   "outputs": [
    {
     "name": "stdout",
     "output_type": "stream",
     "text": [
      "['nd']\n"
     ]
    }
   ],
   "source": [
    "import re\n",
    "st = \"India is my country\"\n",
    "x=re.findall('nd',st)\n",
    "print(x)"
   ]
  },
  {
   "cell_type": "code",
   "execution_count": 28,
   "id": "9537f01d",
   "metadata": {},
   "outputs": [
    {
     "data": {
      "text/plain": [
       "[]"
      ]
     },
     "execution_count": 28,
     "metadata": {},
     "output_type": "execute_result"
    }
   ],
   "source": [
    "import re\n",
    "\n",
    "s=\"I love watching movies\"\n",
    "x=re.findall(\"\\AThe\",s)\n",
    "x"
   ]
  },
  {
   "cell_type": "code",
   "execution_count": 29,
   "id": "f5025b4c",
   "metadata": {},
   "outputs": [
    {
     "name": "stdout",
     "output_type": "stream",
     "text": [
      "['I', ' ', 'l', 'o', 'v', 'e', ' ', 'w', 'a', 't', 'c', 'h', 'i', 'n', 'g', ' ', 'm', 'o', 'v', 'i', 'e', 's']\n"
     ]
    }
   ],
   "source": [
    "s=\"I love watching movies\"\n",
    "x = re.findall('\\D',s)\n",
    "print(x)"
   ]
  },
  {
   "cell_type": "code",
   "execution_count": 30,
   "id": "97ccafcd",
   "metadata": {},
   "outputs": [
    {
     "name": "stdout",
     "output_type": "stream",
     "text": [
      "ape\n",
      "ape\n"
     ]
    }
   ],
   "source": [
    "allApes = re.findall(\"ape\",\"ape... together...strong... apes\")\n",
    "for i in allApes:\n",
    "    print(i)"
   ]
  },
  {
   "cell_type": "code",
   "execution_count": 31,
   "id": "88b0708c",
   "metadata": {},
   "outputs": [
    {
     "name": "stdout",
     "output_type": "stream",
     "text": [
      "(0, 3)\n",
      "ape\n",
      "(28, 31)\n",
      "ape\n"
     ]
    }
   ],
   "source": [
    "theStr = \"ape... together...strong... apes\"\n",
    "\n",
    "for i in re.finditer(\"ape\",theStr):\n",
    "    locTuple = i.span()\n",
    "    print(locTuple)\n",
    "    print(theStr[locTuple[0]:locTuple[1]])"
   ]
  },
  {
   "cell_type": "code",
   "execution_count": 32,
   "id": "d7b1a046",
   "metadata": {},
   "outputs": [
    {
     "name": "stdout",
     "output_type": "stream",
     "text": [
      "Ape\n",
      "Bpe\n",
      "Cpe\n",
      "Dpe\n"
     ]
    }
   ],
   "source": [
    "theStr = \"Ape Bpe Cpe Dpe\"\n",
    "allape = re.findall(\"[ABCD]pe\",theStr)\n",
    "\n",
    "for i in allape:\n",
    "    print(i)\n"
   ]
  },
  {
   "cell_type": "code",
   "execution_count": 33,
   "id": "04b7bb66",
   "metadata": {},
   "outputs": [
    {
     "name": "stdout",
     "output_type": "stream",
     "text": [
      "Ape\n",
      "Bpe\n",
      "Cpe\n",
      "Dpe\n"
     ]
    }
   ],
   "source": [
    "theStr = \"Ape Bpe Cpe Dpe\"\n",
    "allape = re.findall(\"[A-Z]pe\",theStr)\n",
    "\n",
    "for i in allape:\n",
    "    print(i)"
   ]
  },
  {
   "cell_type": "code",
   "execution_count": 34,
   "id": "bf6ffdaf",
   "metadata": {
    "scrolled": false
   },
   "outputs": [
    {
     "name": "stdout",
     "output_type": "stream",
     "text": [
      "Ape\n",
      "Bpe\n",
      "Dpe\n"
     ]
    }
   ],
   "source": [
    "theStr = \"Ape Bpe Cpe Dpe\"\n",
    "allape = re.findall(\"[^C]pe\",theStr)\n",
    "\n",
    "for i in allape:\n",
    "    print(i)"
   ]
  },
  {
   "cell_type": "code",
   "execution_count": 35,
   "id": "c43371f5",
   "metadata": {},
   "outputs": [
    {
     "name": "stdout",
     "output_type": "stream",
     "text": [
      "No match\n",
      "[]\n"
     ]
    }
   ],
   "source": [
    "# Returning a list containing all matches\n",
    "import re\n",
    "\n",
    "newtext = \"The rain rain rain in Germany and Spain\"\n",
    "x = re.findall(\"Brazil\", newtext)\n",
    "\n",
    "# decision if match or no\n",
    "if x:\n",
    "    print(\"Match\")\n",
    "else:\n",
    "    print(\"No match\")\n",
    "\n",
    "# displaying\n",
    "print(x)"
   ]
  },
  {
   "cell_type": "markdown",
   "id": "e2ebd9d8",
   "metadata": {},
   "source": [
    "## Sets for Regular Expressions"
   ]
  },
  {
   "cell_type": "code",
   "execution_count": 36,
   "id": "d6242e14",
   "metadata": {},
   "outputs": [
    {
     "name": "stdout",
     "output_type": "stream",
     "text": [
      "['a', 'n']\n"
     ]
    }
   ],
   "source": [
    "import re\n",
    "s= \"I love watching movies\"\n",
    "x = re.findall('[arn]',s)\n",
    "print(x)"
   ]
  },
  {
   "cell_type": "code",
   "execution_count": 37,
   "id": "2dba9396",
   "metadata": {},
   "outputs": [
    {
     "name": "stdout",
     "output_type": "stream",
     "text": [
      "['l', 'e', 'a', 'c', 'h', 'i', 'n', 'g', 'm', 'i', 'e']\n"
     ]
    }
   ],
   "source": [
    "s=\"I love watching movies\"\n",
    "x = re.findall('[a-n]',s)\n",
    "print(x)"
   ]
  },
  {
   "cell_type": "code",
   "execution_count": 38,
   "id": "54cc6462",
   "metadata": {},
   "outputs": [
    {
     "name": "stdout",
     "output_type": "stream",
     "text": [
      "['I', ' ', 'l', 'o', 'v', 'e', ' ', 'w', 't', 'c', 'h', 'i', 'g', ' ', 'm', 'o', 'v', 'i', 'e', 's']\n"
     ]
    }
   ],
   "source": [
    "s=\"I love watching movies\"\n",
    "x = re.findall('[^arn]',s)\n",
    "print(x)"
   ]
  },
  {
   "cell_type": "code",
   "execution_count": 39,
   "id": "8da2bff4",
   "metadata": {},
   "outputs": [
    {
     "name": "stdout",
     "output_type": "stream",
     "text": [
      "['I', 'l', 'o', 'v', 'e', 'w', 'a', 't', 'c', 'h', 'i', 'n', 'g', 'm', 'o', 'v', 'i', 'e', 's']\n"
     ]
    }
   ],
   "source": [
    "s=\"I love watching movies\"\n",
    "x = re.findall('[a-zA-Z]',s)\n",
    "print(x)"
   ]
  },
  {
   "cell_type": "markdown",
   "id": "1bb0049e",
   "metadata": {},
   "source": [
    "## Project"
   ]
  },
  {
   "cell_type": "code",
   "execution_count": 40,
   "id": "8a91b8f4",
   "metadata": {},
   "outputs": [
    {
     "name": "stdout",
     "output_type": "stream",
     "text": [
      "Find \\stuff: None\n",
      "Find \\stuff: <re.Match object; span=(8, 14), match='\\\\stuff'>\n",
      "Find \\stuff: <re.Match object; span=(8, 14), match='\\\\stuff'>\n"
     ]
    }
   ],
   "source": [
    "randStr = \"Here is \\\\stuff\"\n",
    "print(\"Find \\\\stuff:\", re.search(\"\\\\stuff\", randStr))\n",
    "print(\"Find \\\\stuff:\", re.search(\"\\\\\\\\stuff\", randStr))\n",
    "print(\"Find \\\\stuff:\", re.search(r\"\\\\stuff\", randStr))"
   ]
  },
  {
   "cell_type": "code",
   "execution_count": 41,
   "id": "dc03f5c7",
   "metadata": {},
   "outputs": [
    {
     "name": "stdout",
     "output_type": "stream",
     "text": [
      "Matches: 2\n",
      "Matches: ['F.B.I', 'I.R.S']\n"
     ]
    }
   ],
   "source": [
    "randStr = \"F.B.I. I.R.S. CIA\"\n",
    "print(\"Matches:\", len(re.findall(\".\\..\\..\",randStr)))\n",
    "print(\"Matches:\", re.findall(\".\\..\\..\",randStr))"
   ]
  },
  {
   "cell_type": "code",
   "execution_count": 42,
   "id": "5c135e9e",
   "metadata": {},
   "outputs": [
    {
     "name": "stdout",
     "output_type": "stream",
     "text": [
      "Matches: 5\n"
     ]
    }
   ],
   "source": [
    "randStr = \"12345\"\n",
    "print(\"Matches:\", len(re.findall(\"\\d\",randStr)))"
   ]
  },
  {
   "cell_type": "markdown",
   "id": "03854170",
   "metadata": {},
   "source": [
    "## Check System : pythex\n",
    "- www.https://pythex.org"
   ]
  },
  {
   "cell_type": "code",
   "execution_count": 43,
   "id": "aef6a460",
   "metadata": {},
   "outputs": [
    {
     "name": "stdout",
     "output_type": "stream",
     "text": [
      "It is a zip code\n",
      "Matches: 3\n"
     ]
    }
   ],
   "source": [
    "import re\n",
    "\n",
    "if re.search(\"\\d{5}\",\"12345\"):\n",
    "    print(\"It is a zip code\")\n",
    "\n",
    "numStr = \"123 12345 123456 1234567\"\n",
    "print(\"Matches:\", len(re.findall(\"\\d{5,7}\",numStr)))"
   ]
  },
  {
   "cell_type": "code",
   "execution_count": 52,
   "id": "864207b0",
   "metadata": {},
   "outputs": [
    {
     "name": "stdout",
     "output_type": "stream",
     "text": [
      "090900123\n",
      "It is not TWphoneNum\n"
     ]
    }
   ],
   "source": [
    "phoneNum = input()\n",
    "\n",
    "if re.search(\"\\w{3}-\\w{3}-\\w{4}\",phoneNum):\n",
    "    print(\"It is a phoneNum\")\n",
    "else:\n",
    "    print(\"It is not TWphoneNum\")"
   ]
  },
  {
   "cell_type": "code",
   "execution_count": 53,
   "id": "ae3c3816",
   "metadata": {},
   "outputs": [
    {
     "name": "stdout",
     "output_type": "stream",
     "text": [
      "It is a full name\n"
     ]
    }
   ],
   "source": [
    "import re\n",
    "\n",
    "Name = \"Toshio Mauramatsu\"\n",
    "\n",
    "if re.search(\"\\w{2,20}\\s\\w{2,20}\",Name):\n",
    "    print(\"It is a full name\")"
   ]
  },
  {
   "cell_type": "code",
   "execution_count": 54,
   "id": "aa57bafa",
   "metadata": {},
   "outputs": [
    {
     "name": "stdout",
     "output_type": "stream",
     "text": [
      "Email Matches: 1\n",
      "Email Matches: ['macbook@gmail.com']\n"
     ]
    }
   ],
   "source": [
    "import re\n",
    "\n",
    "mail = \"macbook@gmail.com\"\n",
    "\n",
    "\n",
    "print(\"Email Matches:\",len(re.findall(\"[\\w._%+-]{1,20}@[\\w.-]{2,20}.[A-Za-z]{2,3}\",mail)))\n",
    "print(\"Email Matches:\",re.findall(\"[\\w._%+-]{1,20}@[\\w.-]{2,20}.[A-Za-z]{2,3}\",mail))\n"
   ]
  },
  {
   "cell_type": "code",
   "execution_count": 55,
   "id": "64ad856c",
   "metadata": {},
   "outputs": [
    {
     "name": "stdout",
     "output_type": "stream",
     "text": [
      "Enter a valid password: \n",
      "Password invalid !!\n"
     ]
    }
   ],
   "source": [
    "import re \n",
    "  \n",
    "passwd = input('Enter a valid password: ')\n",
    "reg = \"^(?=.*[a-z])(?=.*[A-Z])(?=.*\\d)(?=.*[@$!%*#?&])[A-Za-z\\d@$!#%*?&]{6,20}$\"\n",
    "pat = re.compile(reg)    \n",
    "mat = re.search(pat, passwd) \n",
    "       \n",
    "if mat: \n",
    "    print(\"Password is valid.\") \n",
    "else: \n",
    "    print(\"Password invalid !!\") "
   ]
  },
  {
   "cell_type": "code",
   "execution_count": 56,
   "id": "d6a1cd88",
   "metadata": {},
   "outputs": [
    {
     "data": {
      "text/plain": [
       "['guido@python.org', 'guido@google.com']"
      ]
     },
     "execution_count": 56,
     "metadata": {},
     "output_type": "execute_result"
    }
   ],
   "source": [
    "email = re.compile('\\w+@\\w+\\.[a-z]{3}')\n",
    "text = \"To email Guido, try guido@python.org or the older address guido@google.com.\"\n",
    "email.findall(text)"
   ]
  },
  {
   "cell_type": "code",
   "execution_count": 57,
   "id": "d0968207",
   "metadata": {
    "scrolled": true
   },
   "outputs": [
    {
     "data": {
      "text/plain": [
       "'To email Guido, try --@--.-- or the older address --@--.--.'"
      ]
     },
     "execution_count": 57,
     "metadata": {},
     "output_type": "execute_result"
    }
   ],
   "source": [
    "email.sub('--@--.--', text)"
   ]
  },
  {
   "cell_type": "code",
   "execution_count": 58,
   "id": "7d0db449",
   "metadata": {},
   "outputs": [
    {
     "data": {
      "text/plain": [
       "['obama@whitehouse.gov']"
      ]
     },
     "execution_count": 58,
     "metadata": {},
     "output_type": "execute_result"
    }
   ],
   "source": [
    "email.findall('barack.obama@whitehouse.gov')"
   ]
  },
  {
   "cell_type": "markdown",
   "id": "8f7a1f9c",
   "metadata": {},
   "source": [
    "##  Simple strings are matched directly"
   ]
  },
  {
   "cell_type": "code",
   "execution_count": 59,
   "id": "7050474f",
   "metadata": {},
   "outputs": [
    {
     "data": {
      "text/plain": [
       "['ion']"
      ]
     },
     "execution_count": 59,
     "metadata": {},
     "output_type": "execute_result"
    }
   ],
   "source": [
    "regex = re.compile('ion')\n",
    "regex.findall('Great Expectations')"
   ]
  },
  {
   "cell_type": "markdown",
   "id": "bb4e124e",
   "metadata": {},
   "source": [
    "### characters have special meanings 特殊字符\n",
    "\n",
    "雖然簡單的字母或數字是直接匹配的，但在正則表達式中有少數具有特殊含義的字符。 他們是：. ^ $ * + ? { } [ ] \\ | ( )\n",
    "\n",
    "我們將暫時討論其中一些的含義。同時，您應該知道，如果您想直接匹配這些字符中的任何一個，您可以使用反斜杠："
   ]
  },
  {
   "cell_type": "code",
   "execution_count": 60,
   "id": "cb33637c",
   "metadata": {},
   "outputs": [
    {
     "data": {
      "text/plain": [
       "['$']"
      ]
     },
     "execution_count": 60,
     "metadata": {},
     "output_type": "execute_result"
    }
   ],
   "source": [
    "regex = re.compile(r'\\$')\n",
    "regex.findall(\"the cost is $20\")"
   ]
  },
  {
   "cell_type": "code",
   "execution_count": 61,
   "id": "3ccf357e",
   "metadata": {},
   "outputs": [
    {
     "name": "stdout",
     "output_type": "stream",
     "text": [
      "a\tb\tc\n"
     ]
    }
   ],
   "source": [
    "print('a\\tb\\tc')"
   ]
  },
  {
   "cell_type": "markdown",
   "id": "3057aa05",
   "metadata": {},
   "source": [
    "- | ``\"\\d\"`` | 匹配任何數字 |\n",
    "- | ``\"\\D\"`` | 匹配任何非數字 |\n",
    "- | ``\"\\s\"`` | 匹配任何空格 |\n",
    "- | ``\"\\S\"`` | 匹配任何非空格 |\n",
    "- | ``\"\\w\"`` | 匹配任何字母數字字符 |\n",
    "- | ``\"\\W\"`` | 匹配任何非字母數字字符 |"
   ]
  },
  {
   "cell_type": "code",
   "execution_count": 62,
   "id": "ce53f912",
   "metadata": {},
   "outputs": [
    {
     "data": {
      "text/plain": [
       "['e f', 'x i', 's 9', 's o']"
      ]
     },
     "execution_count": 62,
     "metadata": {},
     "output_type": "execute_result"
    }
   ],
   "source": [
    "regex = re.compile(r'\\w\\s\\w')\n",
    "regex.findall('the fox is 9 years old')"
   ]
  },
  {
   "cell_type": "markdown",
   "id": "499ce8ee",
   "metadata": {},
   "source": [
    "### [方括號]匹配自定義字符組 Special characters can match character\n",
    "如果內置字符組對您來說不夠具體，您\n",
    "可以使用方括號來指定您感興趣的任何字符集。"
   ]
  },
  {
   "cell_type": "code",
   "execution_count": 63,
   "id": "18b72272",
   "metadata": {},
   "outputs": [
    {
     "data": {
      "text/plain": [
       "['c', 'ns', 'q', '', 'nt', '', 'l']"
      ]
     },
     "execution_count": 63,
     "metadata": {},
     "output_type": "execute_result"
    }
   ],
   "source": [
    "regex = re.compile('[aeiou]')\n",
    "regex.split('consequential')"
   ]
  },
  {
   "cell_type": "code",
   "execution_count": 64,
   "id": "29e963a2",
   "metadata": {},
   "outputs": [
    {
     "data": {
      "text/plain": [
       "['G2', 'H6']"
      ]
     },
     "execution_count": 64,
     "metadata": {},
     "output_type": "execute_result"
    }
   ],
   "source": [
    "regex = re.compile('[A-Z][0-9]')\n",
    "regex.findall('1043879, G2, H6')"
   ]
  },
  {
   "cell_type": "markdown",
   "id": "658b8319",
   "metadata": {},
   "source": [
    "### 匹配{重複}的字符 Wildcards match repeated characters\n",
    "\n",
    "如果你想匹配一個字符串，比如，一行中的三個字母數字字符，可以寫``\"\\w\\w\\w\"``。\n",
    "因為這是一個非常普遍的需求，所以有一個特定的語法來匹配重複——帶數字的花括號："
   ]
  },
  {
   "cell_type": "code",
   "execution_count": 65,
   "id": "e5f861a2",
   "metadata": {},
   "outputs": [
    {
     "data": {
      "text/plain": [
       "['The', 'qui', 'bro', 'fox']"
      ]
     },
     "execution_count": 65,
     "metadata": {},
     "output_type": "execute_result"
    }
   ],
   "source": [
    "regex = re.compile(r'\\w{3}')\n",
    "regex.findall('The quick brown fox')"
   ]
  },
  {
   "cell_type": "code",
   "execution_count": 66,
   "id": "f9bb07aa",
   "metadata": {
    "scrolled": true
   },
   "outputs": [
    {
     "data": {
      "text/plain": [
       "['The', 'quick', 'brown', 'fox']"
      ]
     },
     "execution_count": 66,
     "metadata": {},
     "output_type": "execute_result"
    }
   ],
   "source": [
    "regex = re.compile(r'\\w+')\n",
    "regex.findall('The quick brown fox')"
   ]
  },
  {
   "cell_type": "markdown",
   "id": "dfb4a152",
   "metadata": {},
   "source": [
    "\n",
    "我們想要一個或多個字母數字字符 (``\"\\w+\"``) 後跟 *at 符號* (``\"@\"``)，後跟一個或多個字母數字字符 ( ``\"\\w+\"``)，後跟一個句點（``\"\\.\"`` - 注意需要反斜杠轉義），後跟正好三個小寫字母。\n",
    "\n",
    "如果我們現在想修改它以便奧巴馬的電子郵件地址匹配，我們可以使用方括號表示法："
   ]
  },
  {
   "cell_type": "code",
   "execution_count": 67,
   "id": "42192735",
   "metadata": {},
   "outputs": [
    {
     "data": {
      "text/plain": [
       "['barack.obama@whitehouse.gov']"
      ]
     },
     "execution_count": 67,
     "metadata": {},
     "output_type": "execute_result"
    }
   ],
   "source": [
    "email2 = re.compile(r'[\\w.]+@\\w+\\.[a-z]{3}')\n",
    "email2.findall('barack.obama@whitehouse.gov')"
   ]
  },
  {
   "cell_type": "code",
   "execution_count": 68,
   "id": "41f7b194",
   "metadata": {},
   "outputs": [
    {
     "data": {
      "text/plain": [
       "[('guido', 'python', 'org'), ('guido', 'google', 'com')]"
      ]
     },
     "execution_count": 68,
     "metadata": {},
     "output_type": "execute_result"
    }
   ],
   "source": [
    "email3 = re.compile(r'([\\w.]+)@(\\w+)\\.([a-z]{3})')\n",
    "text = \"To email Guido, try guido@python.org or the older address guido@google.com.\"\n",
    "email3.findall(text)"
   ]
  },
  {
   "cell_type": "code",
   "execution_count": 69,
   "id": "d70477e7",
   "metadata": {},
   "outputs": [
    {
     "data": {
      "text/plain": [
       "{'user': 'guido', 'domain': 'python', 'suffix': 'org'}"
      ]
     },
     "execution_count": 69,
     "metadata": {},
     "output_type": "execute_result"
    }
   ],
   "source": [
    "email4 = re.compile(r'(?P<user>[\\w.]+)@(?P<domain>\\w+)\\.(?P<suffix>[a-z]{3})')\n",
    "match = email4.match('guido@python.org')\n",
    "match.groupdict()"
   ]
  },
  {
   "cell_type": "markdown",
   "id": "060fbe5e",
   "metadata": {},
   "source": [
    "The following is a table of the repetition markers available for use in regular expressions:\n",
    "\n",
    "| Character | Description | Example |\n",
    "|-----------|-------------|---------|\n",
    "| ``?`` | Match zero or one repetitions of preceding  | ``\"ab?\"`` matches ``\"a\"`` or ``\"ab\"`` |\n",
    "| ``*`` | Match zero or more repetitions of preceding | ``\"ab*\"`` matches ``\"a\"``, ``\"ab\"``, ``\"abb\"``, ``\"abbb\"``... |\n",
    "| ``+`` | Match one or more repetitions of preceding  | ``\"ab+\"`` matches ``\"ab\"``, ``\"abb\"``, ``\"abbb\"``... but not ``\"a\"`` |\n",
    "| ``{n}`` | Match ``n`` repetitions of preeeding | ``\"ab{2}\"`` matches ``\"abb\"`` |\n",
    "| ``{m,n}`` | Match between ``m`` and ``n`` repetitions of preceding | ``\"ab{2,3}\"`` matches ``\"abb\"`` or ``\"abbb\"`` |"
   ]
  },
  {
   "cell_type": "markdown",
   "id": "6a616de0",
   "metadata": {},
   "source": [
    "## Split"
   ]
  },
  {
   "cell_type": "code",
   "execution_count": 70,
   "id": "16a859b6",
   "metadata": {},
   "outputs": [],
   "source": [
    "line = 'the quick brown fox jumped over a lazy dog'"
   ]
  },
  {
   "cell_type": "code",
   "execution_count": 71,
   "id": "eab09d99",
   "metadata": {},
   "outputs": [
    {
     "name": "stdout",
     "output_type": "stream",
     "text": [
      "'     ' does not match\n",
      "'abc  ' matches\n",
      "'  abc' does not match\n"
     ]
    }
   ],
   "source": [
    "for s in [\"     \", \"abc  \", \"  abc\"]:\n",
    "    if regex.match(s):\n",
    "        print(repr(s), \"matches\")\n",
    "    else:\n",
    "        print(repr(s), \"does not match\")"
   ]
  },
  {
   "cell_type": "code",
   "execution_count": 72,
   "id": "903ccec5",
   "metadata": {},
   "outputs": [
    {
     "data": {
      "text/plain": [
       "16"
      ]
     },
     "execution_count": 72,
     "metadata": {},
     "output_type": "execute_result"
    }
   ],
   "source": [
    "line.index('fox')"
   ]
  },
  {
   "cell_type": "code",
   "execution_count": 73,
   "id": "f0aa090d",
   "metadata": {},
   "outputs": [
    {
     "data": {
      "text/plain": [
       "16"
      ]
     },
     "execution_count": 73,
     "metadata": {},
     "output_type": "execute_result"
    }
   ],
   "source": [
    "regex = re.compile('fox')\n",
    "match = regex.search(line)\n",
    "match.start()"
   ]
  },
  {
   "cell_type": "code",
   "execution_count": 74,
   "id": "b71bfb1c",
   "metadata": {},
   "outputs": [
    {
     "data": {
      "text/plain": [
       "'the quick brown BEAR jumped over a lazy dog'"
      ]
     },
     "execution_count": 74,
     "metadata": {},
     "output_type": "execute_result"
    }
   ],
   "source": [
    "line.replace('fox', 'BEAR')"
   ]
  },
  {
   "cell_type": "code",
   "execution_count": 75,
   "id": "8bcbffda",
   "metadata": {},
   "outputs": [
    {
     "data": {
      "text/plain": [
       "'the quick brown BEAR jumped over a lazy dog'"
      ]
     },
     "execution_count": 75,
     "metadata": {},
     "output_type": "execute_result"
    }
   ],
   "source": [
    "regex.sub('BEAR', line)"
   ]
  },
  {
   "cell_type": "markdown",
   "id": "66628f45",
   "metadata": {},
   "source": [
    "## Pattern Matching with Regular Expressions"
   ]
  },
  {
   "cell_type": "code",
   "execution_count": 76,
   "id": "acba601d",
   "metadata": {},
   "outputs": [
    {
     "name": "stdout",
     "output_type": "stream",
     "text": [
      "phone number found: 415-555-4242\n"
     ]
    }
   ],
   "source": [
    "# 正規表達式 Regular Expression \n",
    "# Regular expression is an enhanced version of ctrl + F. \n",
    "\n",
    "# 1. Import the regular expression module: import re\n",
    "import re\n",
    "\n",
    "# 2. Use re.compile() to generate a regular expression object based on the parameters\n",
    "phoneNumberRegex = re.compile(r'\\d{3}-\\d{3}-\\d{4}')\n",
    "\n",
    "# 3. search() of the regular expression object to retrieve a piece of text,\n",
    "#    and the text is passed to the regular expression object for retrieval in the form of parameters\n",
    "mo = phoneNumberRegex.search('My number is 415-555-4242.')\n",
    "\n",
    "# 4. Return a match object, remember to store it in a variable. \n",
    "#    group() on this match object to get the actual matching result. \n",
    "print('phone number found: '+mo.group())"
   ]
  },
  {
   "cell_type": "code",
   "execution_count": 77,
   "id": "08582ad9",
   "metadata": {},
   "outputs": [
    {
     "name": "stdout",
     "output_type": "stream",
     "text": [
      "Batman\n",
      "Batwoman\n"
     ]
    }
   ],
   "source": [
    "import re\n",
    "batRegex = re.compile(r'Bat(wo)?man')\n",
    "mo = batRegex.search('The Adventures of Batman')\n",
    "print(mo.group())\n",
    "mo = batRegex.search('The Adventures of Batwoman')\n",
    "print(mo.group())"
   ]
  },
  {
   "cell_type": "code",
   "execution_count": 78,
   "id": "b17fec2b",
   "metadata": {},
   "outputs": [
    {
     "name": "stdout",
     "output_type": "stream",
     "text": [
      "415-555-1011\n",
      "415-555-9999\n"
     ]
    }
   ],
   "source": [
    "import re\n",
    "batRegex = re.compile(r'\\d\\d\\d-\\d\\d\\d-\\d\\d\\d\\d')\n",
    "mo = batRegex.search('Call 415-555-1011')\n",
    "print(mo.group())\n",
    "mo = batRegex.search('415-555-9999 my office')\n",
    "print(mo.group())"
   ]
  },
  {
   "cell_type": "code",
   "execution_count": 79,
   "id": "4c318b3f",
   "metadata": {},
   "outputs": [
    {
     "name": "stdout",
     "output_type": "stream",
     "text": [
      "415-555-1011\n",
      "415\n",
      "555-1011\n"
     ]
    }
   ],
   "source": [
    "import re\n",
    "batRegex = re.compile(r'(\\d\\d\\d)-(\\d\\d\\d-\\d\\d\\d\\d)')\n",
    "mo = batRegex.search('Call 415-555-1011')\n",
    "print(mo.group(0))\n",
    "print(mo.group(1))\n",
    "print(mo.group(2))"
   ]
  },
  {
   "cell_type": "code",
   "execution_count": 80,
   "id": "70c9bc0f",
   "metadata": {},
   "outputs": [
    {
     "name": "stdout",
     "output_type": "stream",
     "text": [
      "HaHaHa\n"
     ]
    }
   ],
   "source": [
    "import re\n",
    "batRegex = re.compile(r'(Ha){3}')\n",
    "mo = batRegex.search('He said \"HaHaHa\"')\n",
    "print(mo.group())"
   ]
  },
  {
   "cell_type": "code",
   "execution_count": 81,
   "id": "103ee2ec",
   "metadata": {},
   "outputs": [
    {
     "name": "stdout",
     "output_type": "stream",
     "text": [
      "12345\n"
     ]
    }
   ],
   "source": [
    "import re\n",
    "batRegex = re.compile(r'(\\d){3,5}')\n",
    "mo = batRegex.search('1234567890')\n",
    "print(mo.group())"
   ]
  },
  {
   "cell_type": "code",
   "execution_count": 82,
   "id": "a58e4630",
   "metadata": {},
   "outputs": [
    {
     "name": "stdout",
     "output_type": "stream",
     "text": [
      "123\n"
     ]
    }
   ],
   "source": [
    "import re\n",
    "batRegex = re.compile(r'(\\d){3,5}?')\n",
    "mo = batRegex.search('1234567890')\n",
    "print(mo.group())"
   ]
  },
  {
   "cell_type": "code",
   "execution_count": 83,
   "id": "967c8a83",
   "metadata": {},
   "outputs": [
    {
     "name": "stdout",
     "output_type": "stream",
     "text": [
      "Language\n"
     ]
    }
   ],
   "source": [
    "# Displaying start and end position of the first match occurrence\n",
    "import re\n",
    "\n",
    "newtext = \"Python is a Cross-platform Language\"\n",
    "searching = re.search(r\"\\bL\\w+\", newtext)\n",
    "# print(searching)\n",
    "# print(searching.span())\n",
    "# print(searching.string)\n",
    "print(searching.group())"
   ]
  },
  {
   "cell_type": "code",
   "execution_count": 86,
   "id": "9ed6cebf",
   "metadata": {},
   "outputs": [
    {
     "name": "stdout",
     "output_type": "stream",
     "text": [
      "Collecting pyperclip\n",
      "  Downloading pyperclip-1.8.2.tar.gz (20 kB)\n",
      "Building wheels for collected packages: pyperclip\n",
      "  Building wheel for pyperclip (setup.py): started\n",
      "  Building wheel for pyperclip (setup.py): finished with status 'done'\n",
      "  Created wheel for pyperclip: filename=pyperclip-1.8.2-py3-none-any.whl size=11136 sha256=c6bb8fe398f6e756ac3f7f895b2e01b521a3ec1a11ed1624690f8db5571031eb\n",
      "  Stored in directory: c:\\users\\user\\appdata\\local\\pip\\cache\\wheels\\0c\\09\\9e\\49e21a6840ef7955b06d47394afef0058f0378c0914e48b8b8\n",
      "Successfully built pyperclip\n",
      "Installing collected packages: pyperclip\n",
      "Successfully installed pyperclip-1.8.2\n"
     ]
    }
   ],
   "source": [
    "!pip install pyperclip"
   ]
  },
  {
   "cell_type": "code",
   "execution_count": 87,
   "id": "09c3ac5f",
   "metadata": {},
   "outputs": [
    {
     "name": "stdout",
     "output_type": "stream",
     "text": [
      "No phone numbers or email addresses found.\n"
     ]
    }
   ],
   "source": [
    "#Finds phone numbers and email addresses on the clipboard.\n",
    "\n",
    "import pyperclip, re\n",
    "phoneRegex = re.compile(r'''(\n",
    "    (\\d{3}|\\(\\d{3}\\))? # area code\n",
    "    (\\s|-|\\.)?         # separator\n",
    "    (\\d{3})              # first 3 digits\n",
    "    (\\s|-|\\.)          # separator\n",
    "    (\\d{4})              # last 4 digits\n",
    "    (\\s*(ext|x|ext.)\\s*(\\d{2,5}))?  # extension\n",
    "    )''', re.VERBOSE)\n",
    "\n",
    "# Create email regex.\n",
    "emailRegex = re.compile(r'''(\n",
    "    [a-zA-Z0-9._%+-]+      # username\n",
    "    @                      # @ symbol\n",
    "    [a-zA-Z0-9.-]+         # domain name\n",
    "    (\\.[a-zA-Z]{2,4}){1,2} # dot-something\n",
    "    )''', re.VERBOSE)\n",
    "\n",
    "# Find matches in clipboard text.\n",
    "text = str(pyperclip.paste())\n",
    "\n",
    "matches = []\n",
    "for groups in phoneRegex.findall(text):\n",
    "    phoneNum = '-'.join([groups[1], groups[3], groups[5]])\n",
    "    if groups[8] != '':\n",
    "        phoneNum += ' x' + groups[8]\n",
    "    matches.append(phoneNum)\n",
    "for groups in emailRegex.findall(text):\n",
    "    matches.append(groups[0])\n",
    "\n",
    "# Copy results to the clipboard.\n",
    "if len(matches) > 0:\n",
    "    pyperclip.copy('\\n'.join(matches))\n",
    "    print('Copied to clipboard:')\n",
    "    print('\\n'.join(matches))\n",
    "else:\n",
    "    print('No phone numbers or email addresses found.')\n"
   ]
  },
  {
   "cell_type": "code",
   "execution_count": 88,
   "id": "f0171b64",
   "metadata": {},
   "outputs": [
    {
     "data": {
      "text/plain": [
       "['12 Drummers',\n",
       " '11 Pipers',\n",
       " '10 Lords',\n",
       " '9 Ladies',\n",
       " '8 Maids',\n",
       " '7 Swans',\n",
       " '6 Geese',\n",
       " '5 Golden',\n",
       " '4 Calling',\n",
       " '3 French',\n",
       " '2 Turtle']"
      ]
     },
     "execution_count": 88,
     "metadata": {},
     "output_type": "execute_result"
    }
   ],
   "source": [
    "import re\n",
    "lyrics = '12 Drummers Drumming 11 Pipers Piping 10 Lords a Leaping 9 Ladies Dancing 8 Maids a Milking \\\n",
    "7 Swans a Swimming 6 Geese a Laying 5 Golden Rings 4 Calling Birds 3 French Hens 2 Turtle Doves and a Partridge in a Pear Tree'\n",
    "\n",
    "xmasRegex = re.compile(r'\\d+\\s\\w+')\n",
    "xmasRegex.findall(lyrics)"
   ]
  },
  {
   "cell_type": "code",
   "execution_count": 89,
   "id": "4ee87fe6",
   "metadata": {},
   "outputs": [
    {
     "data": {
      "text/plain": [
       "['u',\n",
       " 'e',\n",
       " 'u',\n",
       " 'i',\n",
       " 'i',\n",
       " 'e',\n",
       " 'i',\n",
       " 'i',\n",
       " 'o',\n",
       " 'a',\n",
       " 'e',\n",
       " 'a',\n",
       " 'i',\n",
       " 'a',\n",
       " 'i',\n",
       " 'e',\n",
       " 'a',\n",
       " 'i',\n",
       " 'a',\n",
       " 'i',\n",
       " 'a',\n",
       " 'i',\n",
       " 'i',\n",
       " 'a',\n",
       " 'a',\n",
       " 'i',\n",
       " 'i',\n",
       " 'e',\n",
       " 'e',\n",
       " 'e',\n",
       " 'a',\n",
       " 'a',\n",
       " 'i',\n",
       " 'o',\n",
       " 'e',\n",
       " 'i',\n",
       " 'a',\n",
       " 'i',\n",
       " 'i',\n",
       " 'e',\n",
       " 'e',\n",
       " 'u',\n",
       " 'e',\n",
       " 'o',\n",
       " 'e',\n",
       " 'a',\n",
       " 'a',\n",
       " 'a',\n",
       " 'i',\n",
       " 'e',\n",
       " 'i',\n",
       " 'a',\n",
       " 'e',\n",
       " 'a',\n",
       " 'e',\n",
       " 'e']"
      ]
     },
     "execution_count": 89,
     "metadata": {},
     "output_type": "execute_result"
    }
   ],
   "source": [
    "vowelRegex = re.compile(r'[aeiouAEIOU]')   #vowelRegex\n",
    "#vowelRegex = re.compile(r'[^aeiouAEIOU]') #nativeRegex\n",
    "vowelRegex.findall(lyrics)"
   ]
  },
  {
   "cell_type": "code",
   "execution_count": 90,
   "id": "063a8fdf",
   "metadata": {},
   "outputs": [
    {
     "data": {
      "text/plain": [
       "['cat', 'hat', 'sat', 'lat', 'mat']"
      ]
     },
     "execution_count": 90,
     "metadata": {},
     "output_type": "execute_result"
    }
   ],
   "source": [
    "import re\n",
    "cat = 'The cat : in the hat sat on the flat mat.'\n",
    "xmasRegex = re.compile(r'.at')\n",
    "xmasRegex.findall(cat)"
   ]
  },
  {
   "cell_type": "code",
   "execution_count": 46,
   "id": "0d99a6ed",
   "metadata": {},
   "outputs": [
    {
     "data": {
      "text/plain": [
       "[' cat', ' hat', ' sat', 'flat', ' mat']"
      ]
     },
     "execution_count": 46,
     "metadata": {},
     "output_type": "execute_result"
    }
   ],
   "source": [
    "xmasRegex = re.compile(r'.{1,2}at')\n",
    "xmasRegex.findall(cat)"
   ]
  },
  {
   "cell_type": "code",
   "execution_count": 47,
   "id": "10ec95be",
   "metadata": {},
   "outputs": [
    {
     "data": {
      "text/plain": [
       "[('Al', 'Seight')]"
      ]
     },
     "execution_count": 47,
     "metadata": {},
     "output_type": "execute_result"
    }
   ],
   "source": [
    "import re\n",
    "name = 'First Name: Al Last Name: Seight'\n",
    "nameRegex = re.compile(r'First Name: (.*) Last Name: (.*)')\n",
    "nameRegex.findall(name)"
   ]
  },
  {
   "cell_type": "code",
   "execution_count": 48,
   "id": "2f1bf74f",
   "metadata": {},
   "outputs": [
    {
     "data": {
      "text/plain": [
       "['To serve humans']"
      ]
     },
     "execution_count": 48,
     "metadata": {},
     "output_type": "execute_result"
    }
   ],
   "source": [
    "import re\n",
    "serve = '<To serve humans> for dinner.>'\n",
    "nogreedy = re.compile(r'<(.*?)>')  #have ?\n",
    "nogreedy.findall(serve)"
   ]
  },
  {
   "cell_type": "code",
   "execution_count": 49,
   "id": "b3e15618",
   "metadata": {},
   "outputs": [
    {
     "data": {
      "text/plain": [
       "['To serve humans> for dinner.']"
      ]
     },
     "execution_count": 49,
     "metadata": {},
     "output_type": "execute_result"
    }
   ],
   "source": [
    "greedy = re.compile(r'<(.*)>')    # no ?\n",
    "greedy.findall(serve)"
   ]
  },
  {
   "cell_type": "code",
   "execution_count": 50,
   "id": "1d599262",
   "metadata": {
    "scrolled": true
   },
   "outputs": [
    {
     "name": "stdout",
     "output_type": "stream",
     "text": [
      "415-555-4242 is a phone number:\n",
      "True\n",
      "Moshi moshi is a phone number:\n",
      "False\n",
      "----------\n",
      "Call 415-555\n",
      "all 415-555-\n",
      "ll 415-555-1\n",
      "l 415-555-10\n",
      " 415-555-101\n",
      "415-555-1011\n",
      "15-555-1011 \n",
      "5-555-1011 o\n",
      "-555-1011 of\n",
      "555-1011 off\n",
      "55-1011 offi\n",
      "5-1011 offic\n",
      "-1011 office\n",
      "1011 office\n",
      "011 office\n",
      "11 office\n",
      "1 office\n",
      " office\n",
      "office\n",
      "ffice\n",
      "fice\n",
      "ice\n",
      "ce\n",
      "e\n"
     ]
    }
   ],
   "source": [
    "#23 須深入 Regular Expression \n",
    "# 非正規表達式 (擁擠)\n",
    "\n",
    "def isPhoneNumber(text):\n",
    "    if len(text) != 12:  #long ?\n",
    "        return False\n",
    "    for i in range(0,3):\n",
    "        if not text[i].isdecimal():  #is number?\n",
    "            return False\n",
    "    if text[3] != '-':   #in - \n",
    "        return False\n",
    "    for i in range(4,7):\n",
    "        if not text[i].isdecimal():\n",
    "            return False\n",
    "    if text[7] != '-':\n",
    "        return False\n",
    "    for i in range(8,12):\n",
    "        if not text[i].isdecimal():\n",
    "            return False\n",
    "    return True\n",
    "    #[7]如果前面所有的判斷基線都沒有發現問題，那就認為這個字符串是電話號碼\n",
    "\n",
    "print('415-555-4242 is a phone number:')\n",
    "print(isPhoneNumber('415-555-4242'))\n",
    "print('Moshi moshi is a phone number:')\n",
    "print(isPhoneNumber('Moshi moshi'))\n",
    "print('----------')\n",
    "\n",
    "message = 'Call 415-555-1011 office'\n",
    "for i in range(len(message)):\n",
    "    chunk = message[i:i+12]\n",
    "    print(chunk)"
   ]
  },
  {
   "cell_type": "markdown",
   "id": "d4a44eda",
   "metadata": {},
   "source": [
    "## strong-password Detect"
   ]
  },
  {
   "cell_type": "code",
   "execution_count": 51,
   "id": "5e66b70d",
   "metadata": {},
   "outputs": [
    {
     "name": "stdout",
     "output_type": "stream",
     "text": [
      "True\n"
     ]
    }
   ],
   "source": [
    "import re\n",
    "\n",
    "def testPasswordStrength(password):\n",
    "    eightCharsLongRegex = re.compile(r'[\\w\\d\\s\\W\\D\\S]{8,}')\n",
    "    upperCaseRegex = re.compile(r'[A-Z]+')\n",
    "    lowerCaseRegex = re.compile(r'[a-z]+')\n",
    "    oneOrMoreDigitRegex = re.compile(r'\\d+')\n",
    "    \n",
    "    if not eightCharsLongRegex.search(password):\n",
    "        return False\n",
    "    elif not upperCaseRegex.search(password):\n",
    "        return False\n",
    "    elif not lowerCaseRegex.search(password):\n",
    "        return False\n",
    "    elif not oneOrMoreDigitRegex.search(password):\n",
    "        return False\n",
    "    return True\n",
    "    \n",
    "\n",
    "if __name__ == \"__main__\":\n",
    "    password = 'A&dsas9$_'\n",
    "    print(testPasswordStrength(password))"
   ]
  },
  {
   "cell_type": "markdown",
   "id": "2606a09d",
   "metadata": {},
   "source": [
    "## Built-in Functions for Regular Expressions"
   ]
  },
  {
   "cell_type": "code",
   "execution_count": 1,
   "id": "87a0ef52",
   "metadata": {},
   "outputs": [
    {
     "name": "stdout",
     "output_type": "stream",
     "text": [
      "['nd']\n"
     ]
    }
   ],
   "source": [
    "import re\n",
    "st = \"India is my country\"\n",
    "x=re.findall('nd',st)\n",
    "print(x)"
   ]
  },
  {
   "cell_type": "code",
   "execution_count": 2,
   "id": "2cf6019b",
   "metadata": {},
   "outputs": [
    {
     "name": "stdout",
     "output_type": "stream",
     "text": [
      "None\n"
     ]
    }
   ],
   "source": [
    "st = \"India is my country\"\n",
    "x=re.search('Delhi',st)\n",
    "print(x)"
   ]
  },
  {
   "cell_type": "code",
   "execution_count": 3,
   "id": "781c1ba3",
   "metadata": {},
   "outputs": [
    {
     "name": "stdout",
     "output_type": "stream",
     "text": [
      "['I', 'love', 'watching', 'movies']\n"
     ]
    }
   ],
   "source": [
    "s=\"I love watching movies\"\n",
    "x = re.split('\\s',s)\n",
    "print(x)"
   ]
  },
  {
   "cell_type": "code",
   "execution_count": 4,
   "id": "d355b581",
   "metadata": {},
   "outputs": [
    {
     "name": "stdout",
     "output_type": "stream",
     "text": [
      "I2love2watching2movies\n"
     ]
    }
   ],
   "source": [
    "s=\"I love watching movies\"\n",
    "x = re.sub('\\s','2',s)\n",
    "print(x)"
   ]
  },
  {
   "cell_type": "markdown",
   "id": "bf407066",
   "metadata": {},
   "source": [
    "## Regular"
   ]
  },
  {
   "cell_type": "code",
   "execution_count": 2,
   "id": "992d9696",
   "metadata": {},
   "outputs": [
    {
     "name": "stdout",
     "output_type": "stream",
     "text": [
      "phone number found: 415-555-4242\n"
     ]
    }
   ],
   "source": [
    "import re\n",
    "phoneNumberRegex = re.compile(r'\\d{3}-\\d{3}-\\d{4}')\n",
    "mo = phoneNumberRegex.search('My number is 415-555-4242.')\n",
    "print('phone number found: '+mo.group())"
   ]
  },
  {
   "cell_type": "code",
   "execution_count": 3,
   "id": "f00037b7",
   "metadata": {},
   "outputs": [
    {
     "name": "stdout",
     "output_type": "stream",
     "text": [
      "Batman\n",
      "Batwoman\n"
     ]
    }
   ],
   "source": [
    "import re\n",
    "batRegex = re.compile(r'Bat(wo)?man')\n",
    "mo = batRegex.search('The Adventures of Batman')\n",
    "print(mo.group())\n",
    "mo = batRegex.search('The Adventures of Batwoman')\n",
    "print(mo.group())"
   ]
  },
  {
   "cell_type": "code",
   "execution_count": 4,
   "id": "48ba228d",
   "metadata": {},
   "outputs": [
    {
     "name": "stdout",
     "output_type": "stream",
     "text": [
      "415-555-1011\n",
      "415-555-9999\n"
     ]
    }
   ],
   "source": [
    "import re\n",
    "batRegex = re.compile(r'\\d\\d\\d-\\d\\d\\d-\\d\\d\\d\\d')\n",
    "mo = batRegex.search('Call 415-555-1011')\n",
    "print(mo.group())\n",
    "mo = batRegex.search('415-555-9999 my office')\n",
    "print(mo.group())"
   ]
  },
  {
   "cell_type": "code",
   "execution_count": 5,
   "id": "070e8a2f",
   "metadata": {},
   "outputs": [
    {
     "name": "stdout",
     "output_type": "stream",
     "text": [
      "415-555-1011\n",
      "415\n",
      "555-1011\n"
     ]
    }
   ],
   "source": [
    "import re\n",
    "batRegex = re.compile(r'(\\d\\d\\d)-(\\d\\d\\d-\\d\\d\\d\\d)')\n",
    "mo = batRegex.search('Call 415-555-1011')\n",
    "print(mo.group(0))\n",
    "print(mo.group(1))\n",
    "print(mo.group(2))"
   ]
  },
  {
   "cell_type": "code",
   "execution_count": 6,
   "id": "bf2ef31e",
   "metadata": {},
   "outputs": [
    {
     "name": "stdout",
     "output_type": "stream",
     "text": [
      "HaHaHa\n"
     ]
    }
   ],
   "source": [
    "import re\n",
    "batRegex = re.compile(r'(Ha){3}')\n",
    "mo = batRegex.search('He said \"HaHaHa\"')\n",
    "print(mo.group())"
   ]
  },
  {
   "cell_type": "code",
   "execution_count": 7,
   "id": "1302b22a",
   "metadata": {},
   "outputs": [
    {
     "name": "stdout",
     "output_type": "stream",
     "text": [
      "12345\n"
     ]
    }
   ],
   "source": [
    "import re\n",
    "batRegex = re.compile(r'(\\d){3,5}')\n",
    "mo = batRegex.search('1234567890')\n",
    "print(mo.group())"
   ]
  },
  {
   "cell_type": "code",
   "execution_count": 8,
   "id": "309b3ec4",
   "metadata": {},
   "outputs": [
    {
     "name": "stdout",
     "output_type": "stream",
     "text": [
      "123\n"
     ]
    }
   ],
   "source": [
    "import re\n",
    "batRegex = re.compile(r'(\\d){3,5}?')\n",
    "mo = batRegex.search('1234567890')\n",
    "print(mo.group())"
   ]
  },
  {
   "cell_type": "code",
   "execution_count": 10,
   "id": "dc2ce081",
   "metadata": {},
   "outputs": [
    {
     "data": {
      "text/plain": [
       "['12 Drummers',\n",
       " '11 Pipers',\n",
       " '10 Lords',\n",
       " '9 Ladies',\n",
       " '8 Maids',\n",
       " '7 Swans',\n",
       " '6 Geese',\n",
       " '5 Golden',\n",
       " '4 Calling',\n",
       " '3 French',\n",
       " '2 Turtle']"
      ]
     },
     "execution_count": 10,
     "metadata": {},
     "output_type": "execute_result"
    }
   ],
   "source": [
    "import re\n",
    "lyrics = '12 Drummers Drumming 11 Pipers Piping 10 Lords a Leaping 9 Ladies Dancing 8 Maids a Milking \\\n",
    "7 Swans a Swimming 6 Geese a Laying 5 Golden Rings 4 Calling Birds 3 French Hens 2 Turtle Doves and a Partridge in a Pear Tree'\n",
    "\n",
    "xmasRegex = re.compile(r'\\d+\\s\\w+')\n",
    "xmasRegex.findall(lyrics)"
   ]
  },
  {
   "cell_type": "code",
   "execution_count": 11,
   "id": "f59245bf",
   "metadata": {},
   "outputs": [
    {
     "data": {
      "text/plain": [
       "['u',\n",
       " 'e',\n",
       " 'u',\n",
       " 'i',\n",
       " 'i',\n",
       " 'e',\n",
       " 'i',\n",
       " 'i',\n",
       " 'o',\n",
       " 'a',\n",
       " 'e',\n",
       " 'a',\n",
       " 'i',\n",
       " 'a',\n",
       " 'i',\n",
       " 'e',\n",
       " 'a',\n",
       " 'i',\n",
       " 'a',\n",
       " 'i',\n",
       " 'a',\n",
       " 'i',\n",
       " 'i',\n",
       " 'a',\n",
       " 'a',\n",
       " 'i',\n",
       " 'i',\n",
       " 'e',\n",
       " 'e',\n",
       " 'e',\n",
       " 'a',\n",
       " 'a',\n",
       " 'i',\n",
       " 'o',\n",
       " 'e',\n",
       " 'i',\n",
       " 'a',\n",
       " 'i',\n",
       " 'i',\n",
       " 'e',\n",
       " 'e',\n",
       " 'u',\n",
       " 'e',\n",
       " 'o',\n",
       " 'e',\n",
       " 'a',\n",
       " 'a',\n",
       " 'a',\n",
       " 'i',\n",
       " 'e',\n",
       " 'i',\n",
       " 'a',\n",
       " 'e',\n",
       " 'a',\n",
       " 'e',\n",
       " 'e']"
      ]
     },
     "execution_count": 11,
     "metadata": {},
     "output_type": "execute_result"
    }
   ],
   "source": [
    "vowelRegex = re.compile(r'[aeiouAEIOU]')   #vowelRegex\n",
    "#vowelRegex = re.compile(r'[^aeiouAEIOU]') #nativeRegex\n",
    "vowelRegex.findall(lyrics)"
   ]
  },
  {
   "cell_type": "code",
   "execution_count": null,
   "id": "7c9b7fe4",
   "metadata": {},
   "outputs": [],
   "source": [
    "# import the regular expressions module\n",
    "# import re\n",
    "\n",
    "# Search the string to see if it starts with \"You\" and ends with \"Python\"\n",
    "# newTxt = \"You can start learning Python now\"\n",
    "# x = re.search(\"^You.*Python$\", newTxt) \n",
    "\n",
    "# if x:\n",
    "#     print(\"Yes, we have a match!\")\n",
    "# else:\n",
    "#     print(\"No match!\")\n",
    "# Use findall and print a list of all matches\n",
    "# import re\n",
    "\n",
    "# newTxt = \"Python is very very easy to understand\"\n",
    "# x = re.findall(\"place\", newTxt)\n",
    "# print(x)\n",
    "# Search for the first white-space\n",
    "# import re\n",
    "\n",
    "# newTxt = \"Python is very easy\"\n",
    "# x = re.search(\"\\s\", newTxt)\n",
    "\n",
    "# print(\"First white-space position:\", x.start())\n",
    "# Making a search that returns no match\n",
    "# import re\n",
    "\n",
    "# newTxt = \"Python is very fun\"\n",
    "# x = re.search(\"rain\", newTxt)\n",
    "# print(x)\n",
    "# Split at each white-space inthe string\n",
    "# import re\n",
    "\n",
    "# newTxt = \"Try to code with Python\"\n",
    "# x = re.split(\"\\s\", newTxt, 2)\n",
    "\n",
    "# print(x)\n",
    "\n",
    "# replace every white space with $\n",
    "# import re\n",
    "\n",
    "# newTxt = \"Python is very easy\"\n",
    "# x = re.sub(\"\\s\", \"$\", newTxt, 1)\n",
    "# print(x)\n",
    "\n",
    "# search and return a match object\n",
    "# import re\n",
    "\n",
    "# newTxt = \"Python is very very easy\"\n",
    "# x = re.search(\"very\", newTxt)\n",
    "\n",
    "# print(x)  # print an object\n",
    "# import re\n",
    "\n",
    "# # Searching for upper case C in the beginning of a word and print its position\n",
    "# newTxt = \"Code with Python now\"\n",
    "# x = re.search(r\"\\bC\\w+\", newTxt)\n",
    "\n",
    "# print(x.span())\n",
    "\n",
    "import re\n",
    "\n",
    "# string property to return the string passed into the function\n",
    "\n",
    "newStr = \"Python is so good for beginners\"\n",
    "x = re.search(r\"\\bP\\w+\", newStr)\n",
    "\n",
    "# print(x.string)\n",
    "\n",
    "# Print the word that contains upper case P in the beginning\n",
    "print(x.group())"
   ]
  },
  {
   "cell_type": "markdown",
   "id": "106ecbb5",
   "metadata": {},
   "source": [
    "## Profundizando Sistemas Numeración"
   ]
  },
  {
   "cell_type": "code",
   "execution_count": 1,
   "id": "ab71d02f",
   "metadata": {},
   "outputs": [
    {
     "name": "stdout",
     "output_type": "stream",
     "text": [
      "a: 10\n"
     ]
    }
   ],
   "source": [
    "# Profundizando Sistemas Numeración\n",
    "# Decimal\n",
    "a = 10\n",
    "# Binario\n",
    "a = 0b1010\n",
    "# Octal\n",
    "a = 0o12\n",
    "# Hexadecimal\n",
    "a = 0xA\n",
    "print(f'a: {a}')"
   ]
  },
  {
   "cell_type": "code",
   "execution_count": 2,
   "id": "fb2fa069",
   "metadata": {},
   "outputs": [
    {
     "name": "stdout",
     "output_type": "stream",
     "text": [
      "a: 99\n"
     ]
    }
   ],
   "source": [
    "# Convertir un tipo entero, incluyendo base\n",
    "# Base Decimal\n",
    "a = int('23', 10)\n",
    "# Base Binario\n",
    "a = int('10111', 2)\n",
    "# Base Octal\n",
    "a = int('27', 8)\n",
    "# Base Hexadecimal\n",
    "a = int('17', 16)\n",
    "# Base 5\n",
    "a = int('344', 5)\n",
    "print(f'a: {a}')"
   ]
  },
  {
   "cell_type": "code",
   "execution_count": null,
   "id": "f49ba7df",
   "metadata": {},
   "outputs": [],
   "source": [
    "# Profundizando en el tipo str\n",
    "\n",
    "# caracteres unicode\n",
    "print('Hola\\u0020Mundo')\n",
    "print('Notación simple:', '\\u0041')\n",
    "print('Notación extendida:','\\U00000041')\n",
    "print('Notación hexadecimal','\\x41')\n",
    "print('Corazón:','\\u2665')\n",
    "print('Cara sonriendo:','\\U0001f600')\n",
    "print('Serpiente:','\\U0001F40D')\n",
    "\n",
    "# Caracteres ascii\n",
    "caracter = chr(65)\n",
    "print('A mayúscula:', caracter)\n",
    "caracter = chr(64)\n",
    "print('Símbolo @:', caracter)\n",
    "caracter = chr(97)\n",
    "print('a minúscula:', caracter)"
   ]
  },
  {
   "cell_type": "code",
   "execution_count": null,
   "id": "bb411461",
   "metadata": {},
   "outputs": [],
   "source": [
    "# Profundizando en el tipo str\n",
    "\n",
    "# caracteres bytes\n",
    "caracteres_en_bytes = b'Hola Mundo'\n",
    "print(caracteres_en_bytes)\n",
    "\n",
    "mensaje = b'Universidad Python'\n",
    "print(mensaje[1])\n",
    "print(chr(mensaje[1]))\n",
    "\n",
    "lista_caracteres = mensaje.split()\n",
    "print(lista_caracteres)\n",
    "\n",
    "# Convertir str a bytes\n",
    "string = 'Programación con Python'\n",
    "print('string original:', string)\n",
    "bytes = string.encode('UTF-8')\n",
    "print('bytes codificado:', bytes)\n",
    "# Convertir bytes a str\n",
    "string2 = bytes.decode('UTF-8')\n",
    "print('string decodificado:', string2)\n",
    "print(string == string2)"
   ]
  },
  {
   "cell_type": "code",
   "execution_count": null,
   "id": "3edef2cf",
   "metadata": {},
   "outputs": [],
   "source": [
    "# * desempaquetar\n",
    "numeros = [1,2,3]\n",
    "print(numeros)\n",
    "print(*numeros)\n",
    "print(*numeros, sep=' - ')\n",
    "\n",
    "# Desempaquetando al momento de pasar un parámetro a una función\n",
    "def sumar(a, b, c):\n",
    "    print(f'Resultado suma: {a + b + c}')\n",
    "\n",
    "sumar(*numeros)\n",
    "\n",
    "# Extraer algunas partes de una lista\n",
    "mi_lista = [1,2,3,4,5,6]\n",
    "a, *b, c, d = mi_lista\n",
    "print(a,b,c,d)\n",
    "\n",
    "# Unir lista\n",
    "lista1 = [1,2,3]\n",
    "lista2 = [4,5,6]\n",
    "lista3 = [lista1, lista2]\n",
    "print(f'Lista de listas: {lista3}')\n",
    "lista3 = [*lista1, *lista2]\n",
    "print(f'Unir listas: {lista3}')\n",
    "\n",
    "# Unir diccionarios\n",
    "dic1 = {'A':1, 'B':2, 'C':3}\n",
    "dic2 = {'D':4, 'E':5}\n",
    "dic3 = {**dic1, **dic2}\n",
    "print(f'Unir diccionarios: {dic3}')\n",
    "\n",
    "# Construir una lista a partir de un str\n",
    "lista = [*'HolaMundo']\n",
    "print(lista)\n",
    "print(*lista, sep='')"
   ]
  },
  {
   "cell_type": "code",
   "execution_count": null,
   "id": "53245aee",
   "metadata": {},
   "outputs": [],
   "source": []
  },
  {
   "cell_type": "code",
   "execution_count": null,
   "id": "0fa31e2b",
   "metadata": {},
   "outputs": [],
   "source": []
  }
 ],
 "metadata": {
  "kernelspec": {
   "display_name": "Python 3 (ipykernel)",
   "language": "python",
   "name": "python3"
  },
  "language_info": {
   "codemirror_mode": {
    "name": "ipython",
    "version": 3
   },
   "file_extension": ".py",
   "mimetype": "text/x-python",
   "name": "python",
   "nbconvert_exporter": "python",
   "pygments_lexer": "ipython3",
   "version": "3.9.7"
  }
 },
 "nbformat": 4,
 "nbformat_minor": 5
}
