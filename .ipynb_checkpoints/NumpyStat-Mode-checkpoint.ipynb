{
 "cells": [
  {
   "cell_type": "markdown",
   "metadata": {},
   "source": [
    "## Numpy Statistical Functions - Mode"
   ]
  },
  {
   "cell_type": "code",
   "execution_count": 1,
   "metadata": {},
   "outputs": [],
   "source": [
    "import numpy as np\n",
    "y = np.array([6, 6, 3, 8, 4, 6, 3, 2, 4, 2, 6, 8, 8, 6, 2])"
   ]
  },
  {
   "cell_type": "code",
   "execution_count": 2,
   "metadata": {},
   "outputs": [
    {
     "data": {
      "text/plain": [
       "ModeResult(mode=array([6]), count=array([5]))"
      ]
     },
     "execution_count": 2,
     "metadata": {},
     "output_type": "execute_result"
    }
   ],
   "source": [
    "from scipy import stats\n",
    "result = stats.mode(y)\n",
    "result"
   ]
  },
  {
   "cell_type": "code",
   "execution_count": 4,
   "metadata": {},
   "outputs": [
    {
     "name": "stdout",
     "output_type": "stream",
     "text": [
      "mode: 6\n",
      "count: 5\n"
     ]
    }
   ],
   "source": [
    "mode, count = stats.mode(y)\n",
    "print('mode:',mode[0])\n",
    "print('count:',count[0])"
   ]
  },
  {
   "cell_type": "code",
   "execution_count": 5,
   "metadata": {},
   "outputs": [],
   "source": [
    "#categorical string type example\n",
    "y = np.array([\"red\", \"blue\", \"blue\", \"red\", \"green\", \"red\", \"red\"])"
   ]
  },
  {
   "cell_type": "code",
   "execution_count": 6,
   "metadata": {},
   "outputs": [
    {
     "name": "stdout",
     "output_type": "stream",
     "text": [
      "mode: red\n",
      "count: 4\n"
     ]
    }
   ],
   "source": [
    "mode, count =stats.mode(y)\n",
    "print('mode:',mode[0])\n",
    "print('count:',count[0])"
   ]
  },
  {
   "cell_type": "markdown",
   "metadata": {},
   "source": [
    "2D Array"
   ]
  },
  {
   "cell_type": "code",
   "execution_count": 7,
   "metadata": {},
   "outputs": [
    {
     "data": {
      "text/plain": [
       "array([[55, 55, 58, 57, 53, 54],\n",
       "       [55, 55, 56, 52, 58, 53],\n",
       "       [56, 57, 57, 53, 54, 55],\n",
       "       [58, 54, 52, 57, 52, 56],\n",
       "       [57, 54, 53, 55, 58, 56],\n",
       "       [55, 53, 58, 59, 59, 52],\n",
       "       [54, 58, 54, 52, 56, 58],\n",
       "       [55, 57, 53, 57, 58, 52]])"
      ]
     },
     "execution_count": 7,
     "metadata": {},
     "output_type": "execute_result"
    }
   ],
   "source": [
    "np.random.seed(12)\n",
    "x= np.random.randint(low=52,high=60,size=(8,6))\n",
    "x"
   ]
  },
  {
   "cell_type": "markdown",
   "metadata": {},
   "source": [
    "###### axis = 0"
   ]
  },
  {
   "cell_type": "code",
   "execution_count": 8,
   "metadata": {},
   "outputs": [
    {
     "name": "stdout",
     "output_type": "stream",
     "text": [
      "[[55 54 53 57 58 52]]\n",
      "[[4 2 2 3 3 2]]\n"
     ]
    }
   ],
   "source": [
    "mode,count = stats.mode(x,axis=0)\n",
    "print(mode)\n",
    "print(count)"
   ]
  },
  {
   "cell_type": "code",
   "execution_count": 9,
   "metadata": {},
   "outputs": [
    {
     "name": "stdout",
     "output_type": "stream",
     "text": [
      "mode: [55 54 53 57 58 52]\n",
      "frequency: [4 2 2 3 3 2]\n"
     ]
    }
   ],
   "source": [
    "#to get 1D result, get element at row index 0\n",
    "print('mode:',mode[0])\n",
    "print('frequency:',count[0])"
   ]
  },
  {
   "cell_type": "code",
   "execution_count": 10,
   "metadata": {},
   "outputs": [
    {
     "name": "stdout",
     "output_type": "stream",
     "text": [
      "mode for col 3: 57\n",
      "frequency for col 3: 3\n"
     ]
    }
   ],
   "source": [
    "#to access specific column\n",
    "print('mode for col 3:',mode[0,3])\n",
    "print('frequency for col 3:',count[0,3])"
   ]
  },
  {
   "cell_type": "markdown",
   "metadata": {},
   "source": [
    "###### axis = 1"
   ]
  },
  {
   "cell_type": "code",
   "execution_count": 11,
   "metadata": {},
   "outputs": [
    {
     "data": {
      "text/plain": [
       "array([[55, 55, 58, 57, 53, 54],\n",
       "       [55, 55, 56, 52, 58, 53],\n",
       "       [56, 57, 57, 53, 54, 55],\n",
       "       [58, 54, 52, 57, 52, 56],\n",
       "       [57, 54, 53, 55, 58, 56],\n",
       "       [55, 53, 58, 59, 59, 52],\n",
       "       [54, 58, 54, 52, 56, 58],\n",
       "       [55, 57, 53, 57, 58, 52]])"
      ]
     },
     "execution_count": 11,
     "metadata": {},
     "output_type": "execute_result"
    }
   ],
   "source": [
    "x"
   ]
  },
  {
   "cell_type": "code",
   "execution_count": 12,
   "metadata": {},
   "outputs": [
    {
     "name": "stdout",
     "output_type": "stream",
     "text": [
      "[[55]\n",
      " [55]\n",
      " [57]\n",
      " [52]\n",
      " [53]\n",
      " [59]\n",
      " [54]\n",
      " [57]]\n",
      "[[2]\n",
      " [2]\n",
      " [2]\n",
      " [2]\n",
      " [1]\n",
      " [2]\n",
      " [2]\n",
      " [2]]\n"
     ]
    }
   ],
   "source": [
    "mode,count = stats.mode(x,axis=1)\n",
    "print(mode)\n",
    "print(count)"
   ]
  },
  {
   "cell_type": "code",
   "execution_count": 13,
   "metadata": {},
   "outputs": [
    {
     "name": "stdout",
     "output_type": "stream",
     "text": [
      "[55 55 57 52 53 59 54 57]\n",
      "[2 2 2 2 1 2 2 2]\n"
     ]
    }
   ],
   "source": [
    "#to get 1D result, get element at column index 0\n",
    "print(mode[:,0])\n",
    "print(count[:,0])"
   ]
  },
  {
   "cell_type": "code",
   "execution_count": 14,
   "metadata": {},
   "outputs": [
    {
     "name": "stdout",
     "output_type": "stream",
     "text": [
      "mode for row 3: 52\n",
      "frequency for row 3: 2\n"
     ]
    }
   ],
   "source": [
    "#to access specific row\n",
    "print('mode for row 3:',mode[3,0])\n",
    "print('frequency for row 3:',count[3,0])"
   ]
  },
  {
   "cell_type": "markdown",
   "metadata": {},
   "source": [
    "###### Multimode"
   ]
  },
  {
   "cell_type": "code",
   "execution_count": 15,
   "metadata": {},
   "outputs": [],
   "source": [
    "x = np.array([5,5,5,8,18,18,18,25,35,46])"
   ]
  },
  {
   "cell_type": "code",
   "execution_count": 16,
   "metadata": {},
   "outputs": [
    {
     "data": {
      "text/plain": [
       "ModeResult(mode=array([5]), count=array([3]))"
      ]
     },
     "execution_count": 16,
     "metadata": {},
     "output_type": "execute_result"
    }
   ],
   "source": [
    "#note: when there is multimode, scipy stats \n",
    "#return the smallest element as mode.\n",
    "z = stats.mode(x)\n",
    "z"
   ]
  },
  {
   "cell_type": "markdown",
   "metadata": {},
   "source": [
    "code to return multi mode values"
   ]
  },
  {
   "cell_type": "code",
   "execution_count": 17,
   "metadata": {},
   "outputs": [
    {
     "name": "stdout",
     "output_type": "stream",
     "text": [
      "values: [ 5  8 18 25 35 46]\n",
      "counts: [3 1 3 1 1 1]\n"
     ]
    }
   ],
   "source": [
    "#create frequency table using numpy unique()\n",
    "values, counts = np.unique(x, return_counts=True)\n",
    "print('values:',values)\n",
    "print('counts:',counts)"
   ]
  },
  {
   "cell_type": "code",
   "execution_count": 18,
   "metadata": {},
   "outputs": [
    {
     "name": "stdout",
     "output_type": "stream",
     "text": [
      "[ 5 18]\n"
     ]
    }
   ],
   "source": [
    "#filter values whose corresponding counts \n",
    "#matches with the maximum value of count\n",
    "mode = values[counts == np.max(counts)]\n",
    "print(mode) "
   ]
  },
  {
   "cell_type": "markdown",
   "metadata": {},
   "source": [
    "###### No Mode"
   ]
  },
  {
   "cell_type": "code",
   "execution_count": 19,
   "metadata": {},
   "outputs": [],
   "source": [
    "x = np.array([5, 8, 18, 25, 35, 46])"
   ]
  },
  {
   "cell_type": "code",
   "execution_count": 20,
   "metadata": {},
   "outputs": [
    {
     "data": {
      "text/plain": [
       "ModeResult(mode=array([5]), count=array([1]))"
      ]
     },
     "execution_count": 20,
     "metadata": {},
     "output_type": "execute_result"
    }
   ],
   "source": [
    "#note: when there is no mode also, scipy stats \n",
    "#return the smallest element as mode.\n",
    "z = stats.mode(x)\n",
    "z"
   ]
  },
  {
   "cell_type": "markdown",
   "metadata": {},
   "source": [
    "code to return empty array when there is no mode"
   ]
  },
  {
   "cell_type": "code",
   "execution_count": 21,
   "metadata": {},
   "outputs": [
    {
     "name": "stdout",
     "output_type": "stream",
     "text": [
      "values: [ 5  8 18 25 35 46]\n",
      "counts: [1 1 1 1 1 1]\n"
     ]
    }
   ],
   "source": [
    "#get the frequency table first using unique() function\n",
    "values, counts = np.unique(x, return_counts=True)\n",
    "print('values:',values)\n",
    "print('counts:',counts)"
   ]
  },
  {
   "cell_type": "code",
   "execution_count": 22,
   "metadata": {},
   "outputs": [
    {
     "name": "stdout",
     "output_type": "stream",
     "text": [
      "[]\n"
     ]
    }
   ],
   "source": [
    "#check whether all of them have same frequency\n",
    "#we can do this by checking whether maximum and minimum frequency are equal\n",
    "if np.max(counts)==np.min(counts):\n",
    "    mode = np.array([])\n",
    "else:\n",
    "    #if they has mode, then return mode or multimodes \n",
    "    mode = values[counts == np.max(counts)]\n",
    "    \n",
    "print(mode)"
   ]
  },
  {
   "cell_type": "code",
   "execution_count": 23,
   "metadata": {},
   "outputs": [],
   "source": [
    "#custom mode function that also handles no mode and multi mode cases\n",
    "def mode_cust(arr):\n",
    "    values, counts = np.unique(arr, return_counts=True)\n",
    "    if np.max(counts)==np.min(counts): #check for  no mode case\n",
    "        mode = np.array([])\n",
    "    else:\n",
    "        #if data has mode, then return single mode or multimodes \n",
    "        mode = values[counts == np.max(counts)]\n",
    "    return mode"
   ]
  },
  {
   "cell_type": "code",
   "execution_count": 24,
   "metadata": {},
   "outputs": [
    {
     "data": {
      "text/plain": [
       "array([], dtype=float64)"
      ]
     },
     "execution_count": 24,
     "metadata": {},
     "output_type": "execute_result"
    }
   ],
   "source": [
    "#check custom mode function for no mode case\n",
    "x = np.array([5, 8, 18, 25, 35, 46])\n",
    "mode_cust(x)"
   ]
  },
  {
   "cell_type": "code",
   "execution_count": 25,
   "metadata": {},
   "outputs": [
    {
     "data": {
      "text/plain": [
       "array([ 5, 18])"
      ]
     },
     "execution_count": 25,
     "metadata": {},
     "output_type": "execute_result"
    }
   ],
   "source": [
    "#check custom mode function for multi mode case\n",
    "x = np.array([5,5,5,8,18,18,18,25,35,46])\n",
    "mode_cust(x)"
   ]
  },
  {
   "cell_type": "code",
   "execution_count": 26,
   "metadata": {},
   "outputs": [
    {
     "data": {
      "text/plain": [
       "array([6])"
      ]
     },
     "execution_count": 26,
     "metadata": {},
     "output_type": "execute_result"
    }
   ],
   "source": [
    "#check custom mode function for single mode case\n",
    "x = np.array([6, 6, 3, 8, 4, 6, 3, 2, 4, 2, 6, 8, 8, 6, 2])\n",
    "mode_cust(x)"
   ]
  },
  {
   "cell_type": "code",
   "execution_count": null,
   "metadata": {},
   "outputs": [],
   "source": []
  }
 ],
 "metadata": {
  "kernelspec": {
   "display_name": "Python 3 (ipykernel)",
   "language": "python",
   "name": "python3"
  },
  "language_info": {
   "codemirror_mode": {
    "name": "ipython",
    "version": 3
   },
   "file_extension": ".py",
   "mimetype": "text/x-python",
   "name": "python",
   "nbconvert_exporter": "python",
   "pygments_lexer": "ipython3",
   "version": "3.9.7"
  }
 },
 "nbformat": 4,
 "nbformat_minor": 2
}
