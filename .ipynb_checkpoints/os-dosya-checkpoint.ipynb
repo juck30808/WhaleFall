{
 "cells": [
  {
   "cell_type": "markdown",
   "metadata": {},
   "source": [
    "# 1. Dosya İşlemleri"
   ]
  },
  {
   "cell_type": "markdown",
   "metadata": {},
   "source": [
    "## 1.1 Dosya Açma"
   ]
  },
  {
   "cell_type": "code",
   "execution_count": 1,
   "metadata": {},
   "outputs": [
    {
     "ename": "FileNotFoundError",
     "evalue": "[Errno 2] No such file or directory: 'input/ornek.txt'",
     "output_type": "error",
     "traceback": [
      "\u001b[0;31m---------------------------------------------------------------------------\u001b[0m",
      "\u001b[0;31mFileNotFoundError\u001b[0m                         Traceback (most recent call last)",
      "\u001b[0;32m/var/folders/9q/486czkcn7lv5v0hwbt71twdc0000gn/T/ipykernel_2568/1742041124.py\u001b[0m in \u001b[0;36m<module>\u001b[0;34m\u001b[0m\n\u001b[0;32m----> 1\u001b[0;31m \u001b[0mdosya\u001b[0m \u001b[0;34m=\u001b[0m \u001b[0mopen\u001b[0m\u001b[0;34m(\u001b[0m\u001b[0;34m\"input/ornek.txt\"\u001b[0m\u001b[0;34m)\u001b[0m\u001b[0;34m\u001b[0m\u001b[0;34m\u001b[0m\u001b[0m\n\u001b[0m\u001b[1;32m      2\u001b[0m \u001b[0micerik\u001b[0m \u001b[0;34m=\u001b[0m \u001b[0mdosya\u001b[0m\u001b[0;34m.\u001b[0m\u001b[0mread\u001b[0m\u001b[0;34m(\u001b[0m\u001b[0;34m)\u001b[0m\u001b[0;34m\u001b[0m\u001b[0;34m\u001b[0m\u001b[0m\n\u001b[1;32m      3\u001b[0m \u001b[0mprint\u001b[0m\u001b[0;34m(\u001b[0m\u001b[0micerik\u001b[0m\u001b[0;34m)\u001b[0m\u001b[0;34m\u001b[0m\u001b[0;34m\u001b[0m\u001b[0m\n\u001b[1;32m      4\u001b[0m \u001b[0mdosya\u001b[0m\u001b[0;34m.\u001b[0m\u001b[0mclose\u001b[0m\u001b[0;34m(\u001b[0m\u001b[0;34m)\u001b[0m\u001b[0;34m\u001b[0m\u001b[0;34m\u001b[0m\u001b[0m\n\u001b[1;32m      5\u001b[0m \u001b[0;34m\u001b[0m\u001b[0m\n",
      "\u001b[0;31mFileNotFoundError\u001b[0m: [Errno 2] No such file or directory: 'input/ornek.txt'"
     ]
    }
   ],
   "source": [
    "dosya = open(\"input/ornek.txt\")\n",
    "icerik = dosya.read()\n",
    "print(icerik)\n",
    "dosya.close()\n",
    "\n",
    "#icerik = dosya.read()\n",
    "#print(icerik)"
   ]
  },
  {
   "cell_type": "markdown",
   "metadata": {},
   "source": [
    "### 1.1.1 with open() as "
   ]
  },
  {
   "cell_type": "code",
   "execution_count": null,
   "metadata": {},
   "outputs": [],
   "source": [
    "with open(\"input/ornek.txt\") as dosya:\n",
    "    icerik = dosya.read()\n",
    "    print(icerik)\n",
    "    \n",
    "#icerik = dosya.read()"
   ]
  },
  {
   "cell_type": "markdown",
   "metadata": {},
   "source": [
    "## 1.2 Dosya Okuma"
   ]
  },
  {
   "cell_type": "markdown",
   "metadata": {},
   "source": [
    "### 1.2.1 r modu"
   ]
  },
  {
   "cell_type": "markdown",
   "metadata": {},
   "source": [
    "#### 1.2.1.1 read() fonksiyonu"
   ]
  },
  {
   "cell_type": "code",
   "execution_count": null,
   "metadata": {},
   "outputs": [],
   "source": [
    "with open(\"input/ornek.txt\",\"r\") as dosya:\n",
    "    icerik = dosya.read()\n",
    "    print(icerik)\n",
    "    \n",
    "    for i in icerik:\n",
    "        print(i)\n",
    "    "
   ]
  },
  {
   "cell_type": "markdown",
   "metadata": {},
   "source": [
    "#### 1.2.1.2 readline() fonksiyonu"
   ]
  },
  {
   "cell_type": "code",
   "execution_count": null,
   "metadata": {},
   "outputs": [],
   "source": [
    "with open(\"input/ornek.txt\",\"r\") as dosya:\n",
    "    icerik = dosya.readline()\n",
    "    print(icerik)\n",
    "    icerik = dosya.readline()\n",
    "    print(icerik)\n",
    "    icerik = dosya.readline()\n",
    "    print(icerik)"
   ]
  },
  {
   "cell_type": "markdown",
   "metadata": {},
   "source": [
    "##### 1.2.1.2.1 tell() ve seek() fonksiyonları"
   ]
  },
  {
   "cell_type": "code",
   "execution_count": null,
   "metadata": {},
   "outputs": [],
   "source": [
    "with open(\"input/ornek.txt\",\"r\") as dosya:\n",
    "    print(dosya.tell())\n",
    "    icerik = dosya.readline()\n",
    "    print(icerik)\n",
    "    \n",
    "    print(dosya.tell())\n",
    "    icerik = dosya.readline()\n",
    "    print(icerik)\n",
    "    \n",
    "    dosya.seek(3)\n",
    "    \n",
    "    print(dosya.tell())\n",
    "    icerik = dosya.readline()\n",
    "    print(icerik)\n",
    "    print(dosya.tell())"
   ]
  },
  {
   "cell_type": "markdown",
   "metadata": {},
   "source": [
    "#### 1.2.1.3 readlines() fonksiyonu"
   ]
  },
  {
   "cell_type": "code",
   "execution_count": null,
   "metadata": {},
   "outputs": [],
   "source": [
    "with open(\"input/ornek.txt\",\"r\") as dosya:\n",
    "    icerik = dosya.readlines()\n",
    "    print(icerik)\n",
    "    \n",
    "    for i in icerik:\n",
    "        print(i,end=\"\")"
   ]
  },
  {
   "cell_type": "markdown",
   "metadata": {},
   "source": [
    "### 1.2.2 rb modu"
   ]
  },
  {
   "cell_type": "code",
   "execution_count": null,
   "metadata": {},
   "outputs": [],
   "source": [
    "with open(\"input/python.png\",\"rb\") as resim:\n",
    "    resimIcerigi = resim.read()\n",
    "    print(resimIcerigi)"
   ]
  },
  {
   "cell_type": "markdown",
   "metadata": {},
   "source": [
    "### 1.2.3 r+ modu"
   ]
  },
  {
   "cell_type": "code",
   "execution_count": null,
   "metadata": {},
   "outputs": [],
   "source": [
    "with open(\"input/ornek.txt\",\"r+\") as dosya:\n",
    "    dosya.write(\"Merhaba\")"
   ]
  },
  {
   "cell_type": "code",
   "execution_count": null,
   "metadata": {},
   "outputs": [],
   "source": [
    "with open(\"input/ornek.txt\",\"r+\") as dosya:\n",
    "    icerik = dosya.read()\n",
    "    print(icerik)\n",
    "    dosya.write(\"Selam\")\n",
    "    icerik = dosya.read()\n",
    "    print(icerik)"
   ]
  },
  {
   "cell_type": "markdown",
   "metadata": {},
   "source": [
    "## 1.3 Dosya Yazma"
   ]
  },
  {
   "cell_type": "markdown",
   "metadata": {},
   "source": [
    "### 1.3.1 w modu"
   ]
  },
  {
   "cell_type": "markdown",
   "metadata": {},
   "source": [
    "#### 1.3.1.1 write() fonksiyonu"
   ]
  },
  {
   "cell_type": "code",
   "execution_count": null,
   "metadata": {},
   "outputs": [],
   "source": [
    "with open(\"input/yeni.txt\",\"w\") as dosya:\n",
    "    dosya.write(\"Merhaba\")"
   ]
  },
  {
   "cell_type": "code",
   "execution_count": null,
   "metadata": {},
   "outputs": [],
   "source": [
    "with open(\"input/yeni.txt\",\"w\") as dosya:\n",
    "    dosya.write(\"Selam\")"
   ]
  },
  {
   "cell_type": "markdown",
   "metadata": {},
   "source": [
    "#### 1.3.1.2 writelines() fonksiyonu"
   ]
  },
  {
   "cell_type": "code",
   "execution_count": null,
   "metadata": {},
   "outputs": [],
   "source": [
    "with open(\"input/yeni.txt\",\"w\") as dosya:\n",
    "    dosya.writelines([\"Merhaba \\n\",\"Dünya\"])"
   ]
  },
  {
   "cell_type": "markdown",
   "metadata": {},
   "source": [
    "### 1.3.2 a modu"
   ]
  },
  {
   "cell_type": "code",
   "execution_count": null,
   "metadata": {},
   "outputs": [],
   "source": [
    "with open(\"input/yeni2.txt\",\"a\") as dosya:\n",
    "    dosya.write(\"Merhaba\")"
   ]
  },
  {
   "cell_type": "code",
   "execution_count": null,
   "metadata": {},
   "outputs": [],
   "source": [
    "with open(\"input/yeni2.txt\",\"a\") as dosya:\n",
    "    dosya.write(\"Selam\")"
   ]
  },
  {
   "cell_type": "markdown",
   "metadata": {},
   "source": [
    "### 1.3.3 wb modu"
   ]
  },
  {
   "cell_type": "code",
   "execution_count": null,
   "metadata": {},
   "outputs": [],
   "source": [
    "with open(\"input/python.png\",\"rb\") as resimOku:\n",
    "    with open(\"input/yeniPython.png\",\"wb\") as resimYaz:\n",
    "        oku = resimOku.read()\n",
    "        resimYaz.write(oku)"
   ]
  },
  {
   "cell_type": "markdown",
   "metadata": {},
   "source": [
    "## 1.4 Dosyayı Silme"
   ]
  },
  {
   "cell_type": "code",
   "execution_count": null,
   "metadata": {},
   "outputs": [],
   "source": [
    "import os\n",
    "#os.remove(\"/Users/ceyhunozdemir/Desktop/yeni.txt\")\n",
    "#os.remove(\"/Users/ceyhunozdemir/Desktop/yeni2.txt\")\n",
    "os.remove(\"/Users/ceyhunozdemir/Desktop/yeniPython.png\")"
   ]
  },
  {
   "cell_type": "markdown",
   "metadata": {},
   "source": [
    "## 1.5 Dosyalarda Değişiklik Yapma"
   ]
  },
  {
   "cell_type": "markdown",
   "metadata": {},
   "source": [
    "### 1.5.1 Dosyaların Başında Değişiklik Yapma"
   ]
  },
  {
   "cell_type": "code",
   "execution_count": null,
   "metadata": {},
   "outputs": [],
   "source": [
    "with open(\"input/ornek.txt\",\"r+\") as dosya:\n",
    "    icerik = dosya.read()\n",
    "    print(icerik)\n",
    "    \n",
    "    icerik = \"Herkese Selamlar\\n\" + icerik\n",
    "    \n",
    "    dosya.seek(0)\n",
    "    dosya.write(icerik)\n",
    "    \n",
    "    icerik = dosya.read()\n",
    "    print(icerik)"
   ]
  },
  {
   "cell_type": "markdown",
   "metadata": {},
   "source": [
    "### 1.5.2 Dosyaların Ortasında Değişiklik Yapma"
   ]
  },
  {
   "cell_type": "code",
   "execution_count": null,
   "metadata": {},
   "outputs": [],
   "source": [
    "with open(\"input/ornek.txt\",\"r+\") as dosya:\n",
    "    liste = dosya.readlines()\n",
    "#    print(liste)\n",
    "    \n",
    "    liste.insert(3,\"Python Kursu \\n\")\n",
    "    \n",
    "    dosya.seek(0)\n",
    "    \n",
    "    for satır in liste:\n",
    "        dosya.write(satır)\n",
    "        \n",
    "    icerik = dosya.read()\n",
    "    print(icerik)"
   ]
  },
  {
   "cell_type": "code",
   "execution_count": null,
   "metadata": {},
   "outputs": [],
   "source": [
    "with open(\"input/ornek.txt\",\"r+\") as dosya:\n",
    "    liste = dosya.readlines()\n",
    "#    print(liste)\n",
    "    \n",
    "    liste.insert(3,\"Python Kursu \\n\")\n",
    "    \n",
    "    dosya.seek(0)\n",
    "    dosya.writelines(liste)\n",
    "        \n",
    "    icerik = dosya.read()\n",
    "    print(icerik)"
   ]
  },
  {
   "cell_type": "markdown",
   "metadata": {},
   "source": [
    "### 1.5.3 Dosyaların Sonunda Değişiklik Yapma"
   ]
  },
  {
   "cell_type": "code",
   "execution_count": null,
   "metadata": {},
   "outputs": [],
   "source": [
    "with open(\"input/ornek.txt\",\"r+\") as dosya:\n",
    "    icerik = dosya.read()\n",
    "    print(icerik)\n",
    "    \n",
    "    dosya.write(\"Python öğreniyorum \\n\")\n",
    "    icerik = dosya.read()\n",
    "    print(icerik)"
   ]
  },
  {
   "cell_type": "markdown",
   "metadata": {},
   "source": [
    "# 2. Veritabanı İşlemleri"
   ]
  },
  {
   "cell_type": "markdown",
   "metadata": {},
   "source": [
    "DB Browser for SQLite: https://sqlitebrowser.org/dl/\n",
    "\n",
    "SQL Komutları: https://www.w3schools.com/sql/sql_syntax.asp"
   ]
  },
  {
   "cell_type": "markdown",
   "metadata": {},
   "source": [
    "## 2.1 Veritabanı ve Tablo Oluşturma"
   ]
  },
  {
   "cell_type": "code",
   "execution_count": null,
   "metadata": {},
   "outputs": [],
   "source": [
    "import sqlite3\n",
    "\n",
    "#help(sqlite3)\n",
    "\n",
    "baglanti = sqlite3.connect(\"input/telefon.db\")\n",
    "cursor = baglanti.cursor()\n",
    "\n",
    "baglanti.close()"
   ]
  },
  {
   "cell_type": "code",
   "execution_count": null,
   "metadata": {},
   "outputs": [],
   "source": [
    "import sqlite3\n",
    "\n",
    "#help(sqlite3)\n",
    "\n",
    "baglanti = sqlite3.connect(\"input/telefon.db\")\n",
    "cursor = baglanti.cursor()\n",
    "\n",
    "def tabloOlustur():\n",
    "    cursor.execute(\"CREATE TABLE IF NOT EXISTS telefonListesi (AdSoyad TEXT, Meslek TEXT, Telefon INT)\")\n",
    "    baglanti.commit()\n",
    "\n",
    "tabloOlustur()\n",
    "baglanti.close()"
   ]
  },
  {
   "cell_type": "markdown",
   "metadata": {},
   "source": [
    "## 2.2 Veri Ekleme"
   ]
  },
  {
   "cell_type": "code",
   "execution_count": null,
   "metadata": {},
   "outputs": [],
   "source": [
    "import sqlite3\n",
    "\n",
    "baglanti = sqlite3.connect(\"input/telefon.db\")\n",
    "cursor = baglanti.cursor()\n",
    "\n",
    "def veriEkle(adsoyad,meslek,telefon):\n",
    "    cursor.execute(\"INSERT INTO telefonListesi VALUES(?,?,?)\",(adsoyad,meslek,telefon))\n",
    "    baglanti.commit()\n",
    "    \n",
    "veriEkle(\"Ekrem Pınar\",\"Mühendis\",5398911245)\n",
    "veriEkle(\"Hasan İyi\",\"Doktor\",5557614590)\n",
    "veriEkle(\"Tuğçe Yılmaz\",\"Mimarlık\",5329134356)\n",
    "baglanti.close()"
   ]
  },
  {
   "cell_type": "markdown",
   "metadata": {},
   "source": [
    "## 2.3 Veri Seçme"
   ]
  },
  {
   "cell_type": "code",
   "execution_count": null,
   "metadata": {},
   "outputs": [],
   "source": [
    "import sqlite3\n",
    "\n",
    "baglanti = sqlite3.connect(\"input/telefon.db\")\n",
    "cursor = baglanti.cursor()\n",
    "\n",
    "def veriSec():\n",
    "    cursor.execute(\"SELECT * FROM telefonListesi\")\n",
    "    veri = cursor.fetchall()\n",
    "    print(\"Telefon Arşivi\")\n",
    "    for i in veri:\n",
    "        print(i)\n",
    "        \n",
    "def veriSec2():\n",
    "    cursor.execute(\"SELECT adSoyad, Telefon FROM telefonListesi\")\n",
    "    veri = cursor.fetchall()\n",
    "    print(\"Telefon Arşivi\")\n",
    "    for i in veri:\n",
    "        print(i)\n",
    "        \n",
    "veriSec()\n",
    "veriSec2()\n",
    "\n",
    "baglanti.close()"
   ]
  },
  {
   "cell_type": "markdown",
   "metadata": {},
   "source": [
    "## 2.4 Veri Güncelleme"
   ]
  },
  {
   "cell_type": "code",
   "execution_count": null,
   "metadata": {},
   "outputs": [],
   "source": [
    "import sqlite3\n",
    "\n",
    "baglanti = sqlite3.connect(\"input/telefon.db\")\n",
    "cursor = baglanti.cursor()\n",
    "\n",
    "def telefonGuncelle(eskiTelefon,yeniTelefon):\n",
    "    cursor.execute(\"UPDATE telefonListesi SET Telefon = ? WHERE Telefon = ?\",(yeniTelefon,eskiTelefon))\n",
    "    baglanti.commit()\n",
    "    \n",
    "telefonGuncelle(5398911245,0)\n",
    "baglanti.close()"
   ]
  },
  {
   "cell_type": "markdown",
   "metadata": {},
   "source": [
    "## 2.5 Veri Silme"
   ]
  },
  {
   "cell_type": "code",
   "execution_count": null,
   "metadata": {},
   "outputs": [],
   "source": [
    "import sqlite3\n",
    "\n",
    "baglanti = sqlite3.connect(\"input/telefon.db\")\n",
    "cursor = baglanti.cursor()\n",
    "\n",
    "def veriSil(silinecekKisi):\n",
    "    cursor.execute(\"DELETE FROM telefonListesi WHERE AdSoyad = ?\",(silinecekKisi,))\n",
    "    baglanti.commit()\n",
    "    \n",
    "veriSil(\"Hasan İyi\")\n",
    "baglanti.close()"
   ]
  },
  {
   "cell_type": "markdown",
   "metadata": {},
   "source": [
    "# 1. Dosya İşlemleri"
   ]
  },
  {
   "cell_type": "markdown",
   "metadata": {},
   "source": [
    "## 1.1 Dosya Açma"
   ]
  },
  {
   "cell_type": "code",
   "execution_count": null,
   "metadata": {},
   "outputs": [],
   "source": [
    "dosya = open(\"/Users/ceyhunozdemir/Desktop/ornek.txt\")\n",
    "icerik = dosya.read()\n",
    "print(icerik)\n",
    "dosya.close()\n",
    "\n",
    "#icerik = dosya.read()\n",
    "#print(icerik)"
   ]
  },
  {
   "cell_type": "markdown",
   "metadata": {},
   "source": [
    "### 1.1.1 with open() as "
   ]
  },
  {
   "cell_type": "code",
   "execution_count": null,
   "metadata": {},
   "outputs": [],
   "source": [
    "with open(\"/Users/ceyhunozdemir/Desktop/ornek.txt\") as dosya:\n",
    "    icerik = dosya.read()\n",
    "    print(icerik)\n",
    "    \n",
    "#icerik = dosya.read()"
   ]
  },
  {
   "cell_type": "markdown",
   "metadata": {},
   "source": [
    "## 1.2 Dosya Okuma"
   ]
  },
  {
   "cell_type": "markdown",
   "metadata": {},
   "source": [
    "### 1.2.1 r modu"
   ]
  },
  {
   "cell_type": "markdown",
   "metadata": {},
   "source": [
    "#### 1.2.1.1 read() fonksiyonu"
   ]
  },
  {
   "cell_type": "code",
   "execution_count": null,
   "metadata": {},
   "outputs": [],
   "source": [
    "with open(\"/Users/ceyhunozdemir/Desktop/ornek.txt\",\"r\") as dosya:\n",
    "    icerik = dosya.read()\n",
    "    print(icerik)\n",
    "    \n",
    "    for i in icerik:\n",
    "        print(i)\n",
    "    "
   ]
  },
  {
   "cell_type": "markdown",
   "metadata": {},
   "source": [
    "#### 1.2.1.2 readline() fonksiyonu"
   ]
  },
  {
   "cell_type": "code",
   "execution_count": null,
   "metadata": {},
   "outputs": [],
   "source": [
    "with open(\"/Users/ceyhunozdemir/Desktop/ornek.txt\",\"r\") as dosya:\n",
    "    icerik = dosya.readline()\n",
    "    print(icerik)\n",
    "    icerik = dosya.readline()\n",
    "    print(icerik)\n",
    "    icerik = dosya.readline()\n",
    "    print(icerik)"
   ]
  },
  {
   "cell_type": "markdown",
   "metadata": {},
   "source": [
    "##### 1.2.1.2.1 tell() ve seek() fonksiyonları"
   ]
  },
  {
   "cell_type": "code",
   "execution_count": null,
   "metadata": {},
   "outputs": [],
   "source": [
    "with open(\"/Users/ceyhunozdemir/Desktop/ornek.txt\",\"r\") as dosya:\n",
    "    print(dosya.tell())\n",
    "    icerik = dosya.readline()\n",
    "    print(icerik)\n",
    "    \n",
    "    print(dosya.tell())\n",
    "    icerik = dosya.readline()\n",
    "    print(icerik)\n",
    "    \n",
    "    dosya.seek(3)\n",
    "    \n",
    "    print(dosya.tell())\n",
    "    icerik = dosya.readline()\n",
    "    print(icerik)\n",
    "    print(dosya.tell())"
   ]
  },
  {
   "cell_type": "markdown",
   "metadata": {},
   "source": [
    "#### 1.2.1.3 readlines() fonksiyonu"
   ]
  },
  {
   "cell_type": "code",
   "execution_count": null,
   "metadata": {},
   "outputs": [],
   "source": [
    "with open(\"/Users/ceyhunozdemir/Desktop/ornek.txt\",\"r\") as dosya:\n",
    "    icerik = dosya.readlines()\n",
    "    print(icerik)\n",
    "    \n",
    "    for i in icerik:\n",
    "        print(i,end=\"\")"
   ]
  },
  {
   "cell_type": "markdown",
   "metadata": {},
   "source": [
    "### 1.2.2 rb modu"
   ]
  },
  {
   "cell_type": "code",
   "execution_count": null,
   "metadata": {},
   "outputs": [],
   "source": [
    "with open(\"/Users/ceyhunozdemir/Desktop/python.png\",\"rb\") as resim:\n",
    "    resimIcerigi = resim.read()\n",
    "    print(resimIcerigi)"
   ]
  },
  {
   "cell_type": "markdown",
   "metadata": {},
   "source": [
    "### 1.2.3 r+ modu"
   ]
  },
  {
   "cell_type": "code",
   "execution_count": null,
   "metadata": {},
   "outputs": [],
   "source": [
    "with open(\"/Users/ceyhunozdemir/Desktop/ornek.txt\",\"r+\") as dosya:\n",
    "    dosya.write(\"Merhaba\")"
   ]
  },
  {
   "cell_type": "code",
   "execution_count": null,
   "metadata": {},
   "outputs": [],
   "source": [
    "with open(\"/Users/ceyhunozdemir/Desktop/ornek.txt\",\"r+\") as dosya:\n",
    "    icerik = dosya.read()\n",
    "    print(icerik)\n",
    "    dosya.write(\"Selam\")\n",
    "    icerik = dosya.read()\n",
    "    print(icerik)"
   ]
  },
  {
   "cell_type": "markdown",
   "metadata": {},
   "source": [
    "## 1.3 Dosya Yazma"
   ]
  },
  {
   "cell_type": "markdown",
   "metadata": {},
   "source": [
    "### 1.3.1 w modu"
   ]
  },
  {
   "cell_type": "markdown",
   "metadata": {},
   "source": [
    "#### 1.3.1.1 write() fonksiyonu"
   ]
  },
  {
   "cell_type": "code",
   "execution_count": null,
   "metadata": {},
   "outputs": [],
   "source": [
    "with open(\"/Users/ceyhunozdemir/Desktop/yeni.txt\",\"w\") as dosya:\n",
    "    dosya.write(\"Merhaba\")"
   ]
  },
  {
   "cell_type": "code",
   "execution_count": null,
   "metadata": {},
   "outputs": [],
   "source": [
    "with open(\"/Users/ceyhunozdemir/Desktop/yeni.txt\",\"w\") as dosya:\n",
    "    dosya.write(\"Selam\")"
   ]
  },
  {
   "cell_type": "markdown",
   "metadata": {},
   "source": [
    "#### 1.3.1.2 writelines() fonksiyonu"
   ]
  },
  {
   "cell_type": "code",
   "execution_count": null,
   "metadata": {},
   "outputs": [],
   "source": [
    "with open(\"/Users/ceyhunozdemir/Desktop/yeni.txt\",\"w\") as dosya:\n",
    "    dosya.writelines([\"Merhaba \\n\",\"Dünya\"])"
   ]
  },
  {
   "cell_type": "markdown",
   "metadata": {},
   "source": [
    "### 1.3.2 a modu"
   ]
  },
  {
   "cell_type": "code",
   "execution_count": null,
   "metadata": {},
   "outputs": [],
   "source": [
    "with open(\"/Users/ceyhunozdemir/Desktop/yeni2.txt\",\"a\") as dosya:\n",
    "    dosya.write(\"Merhaba\")"
   ]
  },
  {
   "cell_type": "code",
   "execution_count": null,
   "metadata": {},
   "outputs": [],
   "source": [
    "with open(\"/Users/ceyhunozdemir/Desktop/yeni2.txt\",\"a\") as dosya:\n",
    "    dosya.write(\"Selam\")"
   ]
  },
  {
   "cell_type": "markdown",
   "metadata": {},
   "source": [
    "### 1.3.3 wb modu"
   ]
  },
  {
   "cell_type": "code",
   "execution_count": null,
   "metadata": {},
   "outputs": [],
   "source": [
    "with open(\"/Users/ceyhunozdemir/Desktop/python.png\",\"rb\") as resimOku:\n",
    "    with open(\"/Users/ceyhunozdemir/Desktop/yeniPython.png\",\"wb\") as resimYaz:\n",
    "        oku = resimOku.read()\n",
    "        resimYaz.write(oku)"
   ]
  },
  {
   "cell_type": "markdown",
   "metadata": {},
   "source": [
    "## 1.4 Dosyayı Silme"
   ]
  },
  {
   "cell_type": "code",
   "execution_count": null,
   "metadata": {},
   "outputs": [],
   "source": [
    "import os\n",
    "#os.remove(\"/Users/ceyhunozdemir/Desktop/yeni.txt\")\n",
    "#os.remove(\"/Users/ceyhunozdemir/Desktop/yeni2.txt\")\n",
    "os.remove(\"/Users/ceyhunozdemir/Desktop/yeniPython.png\")"
   ]
  },
  {
   "cell_type": "markdown",
   "metadata": {},
   "source": [
    "## 1.5 Dosyalarda Değişiklik Yapma"
   ]
  },
  {
   "cell_type": "markdown",
   "metadata": {},
   "source": [
    "### 1.5.1 Dosyaların Başında Değişiklik Yapma"
   ]
  },
  {
   "cell_type": "code",
   "execution_count": null,
   "metadata": {},
   "outputs": [],
   "source": [
    "with open(\"/Users/ceyhunozdemir/Desktop/ornek.txt\",\"r+\") as dosya:\n",
    "    icerik = dosya.read()\n",
    "    print(icerik)\n",
    "    \n",
    "    icerik = \"Herkese Selamlar\\n\" + icerik\n",
    "    \n",
    "    dosya.seek(0)\n",
    "    dosya.write(icerik)\n",
    "    \n",
    "    icerik = dosya.read()\n",
    "    print(icerik)"
   ]
  },
  {
   "cell_type": "markdown",
   "metadata": {},
   "source": [
    "### 1.5.2 Dosyaların Ortasında Değişiklik Yapma"
   ]
  },
  {
   "cell_type": "code",
   "execution_count": null,
   "metadata": {},
   "outputs": [],
   "source": [
    "with open(\"/Users/ceyhunozdemir/Desktop/ornek.txt\",\"r+\") as dosya:\n",
    "    liste = dosya.readlines()\n",
    "#    print(liste)\n",
    "    \n",
    "    liste.insert(3,\"Python Kursu \\n\")\n",
    "    \n",
    "    dosya.seek(0)\n",
    "    \n",
    "    for satır in liste:\n",
    "        dosya.write(satır)\n",
    "        \n",
    "    icerik = dosya.read()\n",
    "    print(icerik)"
   ]
  },
  {
   "cell_type": "code",
   "execution_count": null,
   "metadata": {},
   "outputs": [],
   "source": [
    "with open(\"/Users/ceyhunozdemir/Desktop/ornek.txt\",\"r+\") as dosya:\n",
    "    liste = dosya.readlines()\n",
    "#    print(liste)\n",
    "    \n",
    "    liste.insert(3,\"Python Kursu \\n\")\n",
    "    \n",
    "    dosya.seek(0)\n",
    "    dosya.writelines(liste)\n",
    "        \n",
    "    icerik = dosya.read()\n",
    "    print(icerik)"
   ]
  },
  {
   "cell_type": "markdown",
   "metadata": {},
   "source": [
    "### 1.5.3 Dosyaların Sonunda Değişiklik Yapma"
   ]
  },
  {
   "cell_type": "code",
   "execution_count": null,
   "metadata": {},
   "outputs": [],
   "source": [
    "with open(\"/Users/ceyhunozdemir/Desktop/ornek.txt\",\"r+\") as dosya:\n",
    "    icerik = dosya.read()\n",
    "    print(icerik)\n",
    "    \n",
    "    dosya.write(\"Python öğreniyorum \\n\")\n",
    "    icerik = dosya.read()\n",
    "    print(icerik)"
   ]
  },
  {
   "cell_type": "markdown",
   "metadata": {},
   "source": [
    "# 2. Veritabanı İşlemleri"
   ]
  },
  {
   "cell_type": "markdown",
   "metadata": {},
   "source": [
    "DB Browser for SQLite: https://sqlitebrowser.org/dl/\n",
    "\n",
    "SQL Komutları: https://www.w3schools.com/sql/sql_syntax.asp"
   ]
  },
  {
   "cell_type": "markdown",
   "metadata": {},
   "source": [
    "## 2.1 Veritabanı ve Tablo Oluşturma"
   ]
  },
  {
   "cell_type": "code",
   "execution_count": null,
   "metadata": {},
   "outputs": [],
   "source": [
    "import sqlite3\n",
    "\n",
    "#help(sqlite3)\n",
    "\n",
    "baglanti = sqlite3.connect(\"/Users/ceyhunozdemir/Desktop/telefon.db\")\n",
    "cursor = baglanti.cursor()\n",
    "\n",
    "baglanti.close()"
   ]
  },
  {
   "cell_type": "code",
   "execution_count": null,
   "metadata": {},
   "outputs": [],
   "source": [
    "import sqlite3\n",
    "\n",
    "#help(sqlite3)\n",
    "\n",
    "baglanti = sqlite3.connect(\"/Users/ceyhunozdemir/Desktop/telefon.db\")\n",
    "cursor = baglanti.cursor()\n",
    "\n",
    "def tabloOlustur():\n",
    "    cursor.execute(\"CREATE TABLE IF NOT EXISTS telefonListesi (AdSoyad TEXT, Meslek TEXT, Telefon INT)\")\n",
    "    baglanti.commit()\n",
    "\n",
    "tabloOlustur()\n",
    "baglanti.close()"
   ]
  },
  {
   "cell_type": "markdown",
   "metadata": {},
   "source": [
    "## 2.2 Veri Ekleme"
   ]
  },
  {
   "cell_type": "code",
   "execution_count": null,
   "metadata": {},
   "outputs": [],
   "source": [
    "import sqlite3\n",
    "\n",
    "baglanti = sqlite3.connect(\"/Users/ceyhunozdemir/Desktop/telefon.db\")\n",
    "cursor = baglanti.cursor()\n",
    "\n",
    "def veriEkle(adsoyad,meslek,telefon):\n",
    "    cursor.execute(\"INSERT INTO telefonListesi VALUES(?,?,?)\",(adsoyad,meslek,telefon))\n",
    "    baglanti.commit()\n",
    "    \n",
    "veriEkle(\"Ekrem Pınar\",\"Mühendis\",5398911245)\n",
    "veriEkle(\"Hasan İyi\",\"Doktor\",5557614590)\n",
    "veriEkle(\"Tuğçe Yılmaz\",\"Mimarlık\",5329134356)\n",
    "baglanti.close()"
   ]
  },
  {
   "cell_type": "markdown",
   "metadata": {},
   "source": [
    "## 2.3 Veri Seçme"
   ]
  },
  {
   "cell_type": "code",
   "execution_count": null,
   "metadata": {},
   "outputs": [],
   "source": [
    "import sqlite3\n",
    "\n",
    "baglanti = sqlite3.connect(\"/Users/ceyhunozdemir/Desktop/telefon.db\")\n",
    "cursor = baglanti.cursor()\n",
    "\n",
    "def veriSec():\n",
    "    cursor.execute(\"SELECT * FROM telefonListesi\")\n",
    "    veri = cursor.fetchall()\n",
    "    print(\"Telefon Arşivi\")\n",
    "    for i in veri:\n",
    "        print(i)\n",
    "        \n",
    "def veriSec2():\n",
    "    cursor.execute(\"SELECT adSoyad, Telefon FROM telefonListesi\")\n",
    "    veri = cursor.fetchall()\n",
    "    print(\"Telefon Arşivi\")\n",
    "    for i in veri:\n",
    "        print(i)\n",
    "        \n",
    "veriSec()\n",
    "veriSec2()\n",
    "\n",
    "baglanti.close()"
   ]
  },
  {
   "cell_type": "markdown",
   "metadata": {},
   "source": [
    "## 2.4 Veri Güncelleme"
   ]
  },
  {
   "cell_type": "code",
   "execution_count": null,
   "metadata": {},
   "outputs": [],
   "source": [
    "import sqlite3\n",
    "\n",
    "baglanti = sqlite3.connect(\"/Users/ceyhunozdemir/Desktop/telefon.db\")\n",
    "cursor = baglanti.cursor()\n",
    "\n",
    "def telefonGuncelle(eskiTelefon,yeniTelefon):\n",
    "    cursor.execute(\"UPDATE telefonListesi SET Telefon = ? WHERE Telefon = ?\",(yeniTelefon,eskiTelefon))\n",
    "    baglanti.commit()\n",
    "    \n",
    "telefonGuncelle(5398911245,0)\n",
    "baglanti.close()"
   ]
  },
  {
   "cell_type": "markdown",
   "metadata": {},
   "source": [
    "## 2.5 Veri Silme"
   ]
  },
  {
   "cell_type": "code",
   "execution_count": null,
   "metadata": {},
   "outputs": [],
   "source": [
    "import sqlite3\n",
    "\n",
    "baglanti = sqlite3.connect(\"/Users/ceyhunozdemir/Desktop/telefon.db\")\n",
    "cursor = baglanti.cursor()\n",
    "\n",
    "def veriSil(silinecekKisi):\n",
    "    cursor.execute(\"DELETE FROM telefonListesi WHERE AdSoyad = ?\",(silinecekKisi,))\n",
    "    baglanti.commit()\n",
    "    \n",
    "veriSil(\"Hasan İyi\")\n",
    "baglanti.close()"
   ]
  }
 ],
 "metadata": {
  "kernelspec": {
   "display_name": "Python 3 (ipykernel)",
   "language": "python",
   "name": "python3"
  },
  "language_info": {
   "codemirror_mode": {
    "name": "ipython",
    "version": 3
   },
   "file_extension": ".py",
   "mimetype": "text/x-python",
   "name": "python",
   "nbconvert_exporter": "python",
   "pygments_lexer": "ipython3",
   "version": "3.9.7"
  }
 },
 "nbformat": 4,
 "nbformat_minor": 4
}
