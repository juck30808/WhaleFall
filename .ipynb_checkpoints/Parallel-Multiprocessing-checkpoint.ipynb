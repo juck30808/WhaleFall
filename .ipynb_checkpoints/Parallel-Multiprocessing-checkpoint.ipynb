{
 "cells": [
  {
   "cell_type": "markdown",
   "metadata": {},
   "source": [
    "- If you have two cores in your computer, then your script should ideally be able to do two things at once. \n",
    "\n",
    "- Equally, if you have forty cores available, then your script should ideally be able to do forty things at once."
   ]
  },
  {
   "cell_type": "code",
   "execution_count": 1,
   "metadata": {},
   "outputs": [
    {
     "data": {
      "text/plain": [
       "4"
      ]
     },
     "execution_count": 1,
     "metadata": {},
     "output_type": "execute_result"
    }
   ],
   "source": [
    "import os\n",
    "os.cpu_count()"
   ]
  },
  {
   "cell_type": "code",
   "execution_count": 3,
   "metadata": {},
   "outputs": [],
   "source": [
    "# all imports should be at the top of your script\n",
    "import concurrent.futures\n",
    "import os\n",
    "import sys\n",
    "\n",
    "# all function and class definitions must be next\n",
    "def add(x, y):\n",
    "    \"\"\"Function to return the sum of the two arguments\"\"\"\n",
    "    return x + y\n",
    "\n",
    "def product(x, y):\n",
    "    \"\"\"Function to return the product of the two arguments\"\"\"\n",
    "    return x * y\n",
    "\n",
    "if __name__ == \"__main__\":\n",
    "    # You must now protect the code being run by\n",
    "    # the master copy of the script by placing it\n",
    "    # in this block\n",
    "\n",
    "    a = [1, 2, 3, 4, 5]\n",
    "    b = [6, 7, 8, 9, 10]\n",
    "\n",
    "    # Now write your parallel code...\n",
    "    # etc. etc."
   ]
  }
 ],
 "metadata": {
  "kernelspec": {
   "display_name": "Python 3",
   "language": "python",
   "name": "python3"
  },
  "language_info": {
   "codemirror_mode": {
    "name": "ipython",
    "version": 3
   },
   "file_extension": ".py",
   "mimetype": "text/x-python",
   "name": "python",
   "nbconvert_exporter": "python",
   "pygments_lexer": "ipython3",
   "version": "3.8.5"
  }
 },
 "nbformat": 4,
 "nbformat_minor": 4
}
