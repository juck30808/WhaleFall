{
 "cells": [
  {
   "cell_type": "markdown",
   "metadata": {},
   "source": [
    "# Filtering with the `query` Method\n",
    "\n",
    "The previous chapters on boolean selection showed us how to filter our DataFrames and Series based on their values. We created conditions, usually involving the comparison operators, resulting in boolean Series and passed them to the *just the brackets* or `loc` indexers to filter the data.\n",
    "\n",
    "In this chapter we cover the `query` method, which enables us to also make selections based on the values of the DataFrame or Series. The `query` method is easier and more intuitive to use than boolean selection, but doesn't provide as much functionality to filter the data. Still, it is a good method to know about to make your subset selections more readable.\n",
    "\n",
    "## The `query` method\n",
    "\n",
    "The `query` method allows you to filter the data by writing the condition as a string. For instance, you would use the string `'tripduration > 1000'` to select all rows of the `bikes` dataset that have a `tripduration` greater than 1,000. Let's read in the bikes dataset and run this command now."
   ]
  },
  {
   "cell_type": "code",
   "execution_count": 1,
   "metadata": {},
   "outputs": [
    {
     "data": {
      "text/html": [
       "<div>\n",
       "<style scoped>\n",
       "    .dataframe tbody tr th:only-of-type {\n",
       "        vertical-align: middle;\n",
       "    }\n",
       "\n",
       "    .dataframe tbody tr th {\n",
       "        vertical-align: top;\n",
       "    }\n",
       "\n",
       "    .dataframe thead th {\n",
       "        text-align: right;\n",
       "    }\n",
       "</style>\n",
       "<table border=\"1\" class=\"dataframe\">\n",
       "  <thead>\n",
       "    <tr style=\"text-align: right;\">\n",
       "      <th></th>\n",
       "      <th>gender</th>\n",
       "      <th>starttime</th>\n",
       "      <th>stoptime</th>\n",
       "      <th>tripduration</th>\n",
       "      <th>from_station_name</th>\n",
       "      <th>start_capacity</th>\n",
       "      <th>to_station_name</th>\n",
       "      <th>end_capacity</th>\n",
       "      <th>temperature</th>\n",
       "      <th>wind_speed</th>\n",
       "      <th>events</th>\n",
       "    </tr>\n",
       "  </thead>\n",
       "  <tbody>\n",
       "    <tr>\n",
       "      <th>2</th>\n",
       "      <td>Male</td>\n",
       "      <td>2013-06-30 14:43:00</td>\n",
       "      <td>2013-06-30 15:01:00</td>\n",
       "      <td>1040</td>\n",
       "      <td>Sheffield Ave &amp; Kingsbury St</td>\n",
       "      <td>15</td>\n",
       "      <td>Dearborn St &amp; Monroe St</td>\n",
       "      <td>23</td>\n",
       "      <td>73.0</td>\n",
       "      <td>16.1</td>\n",
       "      <td>mostlycloudy</td>\n",
       "    </tr>\n",
       "    <tr>\n",
       "      <th>8</th>\n",
       "      <td>Male</td>\n",
       "      <td>2013-07-03 15:21:00</td>\n",
       "      <td>2013-07-03 15:42:00</td>\n",
       "      <td>1300</td>\n",
       "      <td>Clinton St &amp; Washington Blvd</td>\n",
       "      <td>31</td>\n",
       "      <td>Wood St &amp; Division St</td>\n",
       "      <td>15</td>\n",
       "      <td>71.1</td>\n",
       "      <td>0.0</td>\n",
       "      <td>cloudy</td>\n",
       "    </tr>\n",
       "    <tr>\n",
       "      <th>10</th>\n",
       "      <td>Male</td>\n",
       "      <td>2013-07-04 17:17:00</td>\n",
       "      <td>2013-07-04 17:42:00</td>\n",
       "      <td>1523</td>\n",
       "      <td>Morgan St &amp; 18th St</td>\n",
       "      <td>15</td>\n",
       "      <td>Damen Ave &amp; Pierce Ave</td>\n",
       "      <td>19</td>\n",
       "      <td>79.0</td>\n",
       "      <td>9.2</td>\n",
       "      <td>mostlycloudy</td>\n",
       "    </tr>\n",
       "  </tbody>\n",
       "</table>\n",
       "</div>"
      ],
      "text/plain": [
       "   gender           starttime            stoptime  tripduration  \\\n",
       "2    Male 2013-06-30 14:43:00 2013-06-30 15:01:00          1040   \n",
       "8    Male 2013-07-03 15:21:00 2013-07-03 15:42:00          1300   \n",
       "10   Male 2013-07-04 17:17:00 2013-07-04 17:42:00          1523   \n",
       "\n",
       "               from_station_name  start_capacity          to_station_name  \\\n",
       "2   Sheffield Ave & Kingsbury St              15  Dearborn St & Monroe St   \n",
       "8   Clinton St & Washington Blvd              31    Wood St & Division St   \n",
       "10           Morgan St & 18th St              15   Damen Ave & Pierce Ave   \n",
       "\n",
       "    end_capacity  temperature  wind_speed        events  \n",
       "2             23         73.0        16.1  mostlycloudy  \n",
       "8             15         71.1         0.0        cloudy  \n",
       "10            19         79.0         9.2  mostlycloudy  "
      ]
     },
     "execution_count": 1,
     "metadata": {},
     "output_type": "execute_result"
    }
   ],
   "source": [
    "import pandas as pd\n",
    "bikes = pd.read_csv('input/bikes.csv', parse_dates=['starttime', 'stoptime'])\n",
    "bikes.query('tripduration > 1000').head(3)"
   ]
  },
  {
   "cell_type": "markdown",
   "metadata": {},
   "source": [
    "### Less syntax and more readable\n",
    "\n",
    "The `query` method generally uses less syntax than boolean selection and is usually more readable. Reproducing the last result with boolean selection would look like this:\n",
    "\n",
    "```python\n",
    "bikes[bikes['tripduration'] > 1000]\n",
    "```\n",
    "\n",
    "This looks a bit clumsy with the name `bikes` written twice right next to one another. The `query` method has its own set of rules for what constitutes a correctly written condition within the string you pass it. The rest of this chapter covers all of the available functionality of the `query` method. This syntax only works within the `query` method and is not allowed anywhere else in pandas.\n",
    "\n",
    "## Use strings `and`, `or`, `not`\n",
    "\n",
    "Unlike boolean selection, you can use the strings `and`, `or`, and `not` instead of the operators `&`, `|`, and `~` which further aides readability with `query`. Let's select all rides with `tripduration` greater than 1,000 and `temperature` greater than 85."
   ]
  },
  {
   "cell_type": "code",
   "execution_count": 2,
   "metadata": {},
   "outputs": [
    {
     "data": {
      "text/html": [
       "<div>\n",
       "<style scoped>\n",
       "    .dataframe tbody tr th:only-of-type {\n",
       "        vertical-align: middle;\n",
       "    }\n",
       "\n",
       "    .dataframe tbody tr th {\n",
       "        vertical-align: top;\n",
       "    }\n",
       "\n",
       "    .dataframe thead th {\n",
       "        text-align: right;\n",
       "    }\n",
       "</style>\n",
       "<table border=\"1\" class=\"dataframe\">\n",
       "  <thead>\n",
       "    <tr style=\"text-align: right;\">\n",
       "      <th></th>\n",
       "      <th>gender</th>\n",
       "      <th>starttime</th>\n",
       "      <th>stoptime</th>\n",
       "      <th>tripduration</th>\n",
       "      <th>from_station_name</th>\n",
       "      <th>start_capacity</th>\n",
       "      <th>to_station_name</th>\n",
       "      <th>end_capacity</th>\n",
       "      <th>temperature</th>\n",
       "      <th>wind_speed</th>\n",
       "      <th>events</th>\n",
       "    </tr>\n",
       "  </thead>\n",
       "  <tbody>\n",
       "    <tr>\n",
       "      <th>40</th>\n",
       "      <td>Female</td>\n",
       "      <td>2013-07-14 14:08:00</td>\n",
       "      <td>2013-07-14 15:53:00</td>\n",
       "      <td>6274</td>\n",
       "      <td>Wabash Ave &amp; Roosevelt Rd</td>\n",
       "      <td>19</td>\n",
       "      <td>Lake Shore Dr &amp; Monroe St</td>\n",
       "      <td>11</td>\n",
       "      <td>87.1</td>\n",
       "      <td>8.1</td>\n",
       "      <td>partlycloudy</td>\n",
       "    </tr>\n",
       "    <tr>\n",
       "      <th>53</th>\n",
       "      <td>Male</td>\n",
       "      <td>2013-07-16 13:04:00</td>\n",
       "      <td>2013-07-16 13:28:00</td>\n",
       "      <td>1435</td>\n",
       "      <td>Canal St &amp; Jackson Blvd</td>\n",
       "      <td>35</td>\n",
       "      <td>Canal St &amp; Jackson Blvd</td>\n",
       "      <td>35</td>\n",
       "      <td>90.0</td>\n",
       "      <td>8.1</td>\n",
       "      <td>mostlycloudy</td>\n",
       "    </tr>\n",
       "    <tr>\n",
       "      <th>60</th>\n",
       "      <td>Male</td>\n",
       "      <td>2013-07-17 10:23:00</td>\n",
       "      <td>2013-07-17 10:40:00</td>\n",
       "      <td>1024</td>\n",
       "      <td>Clinton St &amp; Washington Blvd</td>\n",
       "      <td>31</td>\n",
       "      <td>Larrabee St &amp; Menomonee St</td>\n",
       "      <td>15</td>\n",
       "      <td>88.0</td>\n",
       "      <td>5.8</td>\n",
       "      <td>partlycloudy</td>\n",
       "    </tr>\n",
       "  </tbody>\n",
       "</table>\n",
       "</div>"
      ],
      "text/plain": [
       "    gender           starttime            stoptime  tripduration  \\\n",
       "40  Female 2013-07-14 14:08:00 2013-07-14 15:53:00          6274   \n",
       "53    Male 2013-07-16 13:04:00 2013-07-16 13:28:00          1435   \n",
       "60    Male 2013-07-17 10:23:00 2013-07-17 10:40:00          1024   \n",
       "\n",
       "               from_station_name  start_capacity             to_station_name  \\\n",
       "40     Wabash Ave & Roosevelt Rd              19   Lake Shore Dr & Monroe St   \n",
       "53       Canal St & Jackson Blvd              35     Canal St & Jackson Blvd   \n",
       "60  Clinton St & Washington Blvd              31  Larrabee St & Menomonee St   \n",
       "\n",
       "    end_capacity  temperature  wind_speed        events  \n",
       "40            11         87.1         8.1  partlycloudy  \n",
       "53            35         90.0         8.1  mostlycloudy  \n",
       "60            15         88.0         5.8  partlycloudy  "
      ]
     },
     "execution_count": 2,
     "metadata": {},
     "output_type": "execute_result"
    }
   ],
   "source": [
    "bikes.query('tripduration > 1000 and temperature > 85').head(3)"
   ]
  },
  {
   "cell_type": "markdown",
   "metadata": {},
   "source": [
    "## Chained comparisons\n",
    "\n",
    "Let's say we want to find all rides where the temperature was between 50 and 60 degrees. You can do this with `query` by using the `and` operator."
   ]
  },
  {
   "cell_type": "code",
   "execution_count": 3,
   "metadata": {},
   "outputs": [
    {
     "data": {
      "text/html": [
       "<div>\n",
       "<style scoped>\n",
       "    .dataframe tbody tr th:only-of-type {\n",
       "        vertical-align: middle;\n",
       "    }\n",
       "\n",
       "    .dataframe tbody tr th {\n",
       "        vertical-align: top;\n",
       "    }\n",
       "\n",
       "    .dataframe thead th {\n",
       "        text-align: right;\n",
       "    }\n",
       "</style>\n",
       "<table border=\"1\" class=\"dataframe\">\n",
       "  <thead>\n",
       "    <tr style=\"text-align: right;\">\n",
       "      <th></th>\n",
       "      <th>gender</th>\n",
       "      <th>starttime</th>\n",
       "      <th>stoptime</th>\n",
       "      <th>tripduration</th>\n",
       "      <th>from_station_name</th>\n",
       "      <th>start_capacity</th>\n",
       "      <th>to_station_name</th>\n",
       "      <th>end_capacity</th>\n",
       "      <th>temperature</th>\n",
       "      <th>wind_speed</th>\n",
       "      <th>events</th>\n",
       "    </tr>\n",
       "  </thead>\n",
       "  <tbody>\n",
       "    <tr>\n",
       "      <th>590</th>\n",
       "      <td>Female</td>\n",
       "      <td>2013-09-13 07:55:00</td>\n",
       "      <td>2013-09-13 08:01:00</td>\n",
       "      <td>319</td>\n",
       "      <td>Greenview Ave &amp; Fullerton Ave</td>\n",
       "      <td>15</td>\n",
       "      <td>Sheffield Ave &amp; Fullerton Ave</td>\n",
       "      <td>15</td>\n",
       "      <td>54.0</td>\n",
       "      <td>15.0</td>\n",
       "      <td>partlycloudy</td>\n",
       "    </tr>\n",
       "    <tr>\n",
       "      <th>591</th>\n",
       "      <td>Male</td>\n",
       "      <td>2013-09-13 08:04:00</td>\n",
       "      <td>2013-09-13 08:16:00</td>\n",
       "      <td>738</td>\n",
       "      <td>Lincoln Ave &amp; Armitage Ave</td>\n",
       "      <td>19</td>\n",
       "      <td>Larrabee St &amp; Kingsbury St</td>\n",
       "      <td>27</td>\n",
       "      <td>57.9</td>\n",
       "      <td>13.8</td>\n",
       "      <td>partlycloudy</td>\n",
       "    </tr>\n",
       "    <tr>\n",
       "      <th>592</th>\n",
       "      <td>Female</td>\n",
       "      <td>2013-09-13 08:04:00</td>\n",
       "      <td>2013-09-13 08:14:00</td>\n",
       "      <td>599</td>\n",
       "      <td>Orleans St &amp; Elm St</td>\n",
       "      <td>15</td>\n",
       "      <td>Sheffield Ave &amp; Kingsbury St</td>\n",
       "      <td>15</td>\n",
       "      <td>57.9</td>\n",
       "      <td>13.8</td>\n",
       "      <td>partlycloudy</td>\n",
       "    </tr>\n",
       "  </tbody>\n",
       "</table>\n",
       "</div>"
      ],
      "text/plain": [
       "     gender           starttime            stoptime  tripduration  \\\n",
       "590  Female 2013-09-13 07:55:00 2013-09-13 08:01:00           319   \n",
       "591    Male 2013-09-13 08:04:00 2013-09-13 08:16:00           738   \n",
       "592  Female 2013-09-13 08:04:00 2013-09-13 08:14:00           599   \n",
       "\n",
       "                 from_station_name  start_capacity  \\\n",
       "590  Greenview Ave & Fullerton Ave              15   \n",
       "591     Lincoln Ave & Armitage Ave              19   \n",
       "592            Orleans St & Elm St              15   \n",
       "\n",
       "                   to_station_name  end_capacity  temperature  wind_speed  \\\n",
       "590  Sheffield Ave & Fullerton Ave            15         54.0        15.0   \n",
       "591     Larrabee St & Kingsbury St            27         57.9        13.8   \n",
       "592   Sheffield Ave & Kingsbury St            15         57.9        13.8   \n",
       "\n",
       "           events  \n",
       "590  partlycloudy  \n",
       "591  partlycloudy  \n",
       "592  partlycloudy  "
      ]
     },
     "execution_count": 3,
     "metadata": {},
     "output_type": "execute_result"
    }
   ],
   "source": [
    "bikes.query('temperature >= 50 and temperature <= 60').head(3)"
   ]
  },
  {
   "cell_type": "markdown",
   "metadata": {},
   "source": [
    "While this syntax is valid, there is a more compact way. You can use a **chained comparison** to make the string even more readable and concise. A chained comparison places the column name between two comparison operators. The following implies that 50 is less than or equal to the temperature and the temperature is less than or equal to 60 which is equivalent to our previous selection."
   ]
  },
  {
   "cell_type": "code",
   "execution_count": 4,
   "metadata": {},
   "outputs": [
    {
     "data": {
      "text/html": [
       "<div>\n",
       "<style scoped>\n",
       "    .dataframe tbody tr th:only-of-type {\n",
       "        vertical-align: middle;\n",
       "    }\n",
       "\n",
       "    .dataframe tbody tr th {\n",
       "        vertical-align: top;\n",
       "    }\n",
       "\n",
       "    .dataframe thead th {\n",
       "        text-align: right;\n",
       "    }\n",
       "</style>\n",
       "<table border=\"1\" class=\"dataframe\">\n",
       "  <thead>\n",
       "    <tr style=\"text-align: right;\">\n",
       "      <th></th>\n",
       "      <th>gender</th>\n",
       "      <th>starttime</th>\n",
       "      <th>stoptime</th>\n",
       "      <th>tripduration</th>\n",
       "      <th>from_station_name</th>\n",
       "      <th>start_capacity</th>\n",
       "      <th>to_station_name</th>\n",
       "      <th>end_capacity</th>\n",
       "      <th>temperature</th>\n",
       "      <th>wind_speed</th>\n",
       "      <th>events</th>\n",
       "    </tr>\n",
       "  </thead>\n",
       "  <tbody>\n",
       "    <tr>\n",
       "      <th>590</th>\n",
       "      <td>Female</td>\n",
       "      <td>2013-09-13 07:55:00</td>\n",
       "      <td>2013-09-13 08:01:00</td>\n",
       "      <td>319</td>\n",
       "      <td>Greenview Ave &amp; Fullerton Ave</td>\n",
       "      <td>15</td>\n",
       "      <td>Sheffield Ave &amp; Fullerton Ave</td>\n",
       "      <td>15</td>\n",
       "      <td>54.0</td>\n",
       "      <td>15.0</td>\n",
       "      <td>partlycloudy</td>\n",
       "    </tr>\n",
       "    <tr>\n",
       "      <th>591</th>\n",
       "      <td>Male</td>\n",
       "      <td>2013-09-13 08:04:00</td>\n",
       "      <td>2013-09-13 08:16:00</td>\n",
       "      <td>738</td>\n",
       "      <td>Lincoln Ave &amp; Armitage Ave</td>\n",
       "      <td>19</td>\n",
       "      <td>Larrabee St &amp; Kingsbury St</td>\n",
       "      <td>27</td>\n",
       "      <td>57.9</td>\n",
       "      <td>13.8</td>\n",
       "      <td>partlycloudy</td>\n",
       "    </tr>\n",
       "    <tr>\n",
       "      <th>592</th>\n",
       "      <td>Female</td>\n",
       "      <td>2013-09-13 08:04:00</td>\n",
       "      <td>2013-09-13 08:14:00</td>\n",
       "      <td>599</td>\n",
       "      <td>Orleans St &amp; Elm St</td>\n",
       "      <td>15</td>\n",
       "      <td>Sheffield Ave &amp; Kingsbury St</td>\n",
       "      <td>15</td>\n",
       "      <td>57.9</td>\n",
       "      <td>13.8</td>\n",
       "      <td>partlycloudy</td>\n",
       "    </tr>\n",
       "  </tbody>\n",
       "</table>\n",
       "</div>"
      ],
      "text/plain": [
       "     gender           starttime            stoptime  tripduration  \\\n",
       "590  Female 2013-09-13 07:55:00 2013-09-13 08:01:00           319   \n",
       "591    Male 2013-09-13 08:04:00 2013-09-13 08:16:00           738   \n",
       "592  Female 2013-09-13 08:04:00 2013-09-13 08:14:00           599   \n",
       "\n",
       "                 from_station_name  start_capacity  \\\n",
       "590  Greenview Ave & Fullerton Ave              15   \n",
       "591     Lincoln Ave & Armitage Ave              19   \n",
       "592            Orleans St & Elm St              15   \n",
       "\n",
       "                   to_station_name  end_capacity  temperature  wind_speed  \\\n",
       "590  Sheffield Ave & Fullerton Ave            15         54.0        15.0   \n",
       "591     Larrabee St & Kingsbury St            27         57.9        13.8   \n",
       "592   Sheffield Ave & Kingsbury St            15         57.9        13.8   \n",
       "\n",
       "           events  \n",
       "590  partlycloudy  \n",
       "591  partlycloudy  \n",
       "592  partlycloudy  "
      ]
     },
     "execution_count": 4,
     "metadata": {},
     "output_type": "execute_result"
    }
   ],
   "source": [
    "bikes.query('50 <= temperature <= 60').head(3)"
   ]
  },
  {
   "cell_type": "markdown",
   "metadata": {},
   "source": [
    "## Reference strings with quotes\n",
    "\n",
    "If you would like to reference a literal string within `query`, you need to surround it with quotes, or else pandas will attempt to use it as a column name. Let's select all rides by a 'Female' with a trip duration greater than 2,000."
   ]
  },
  {
   "cell_type": "code",
   "execution_count": 5,
   "metadata": {},
   "outputs": [
    {
     "data": {
      "text/html": [
       "<div>\n",
       "<style scoped>\n",
       "    .dataframe tbody tr th:only-of-type {\n",
       "        vertical-align: middle;\n",
       "    }\n",
       "\n",
       "    .dataframe tbody tr th {\n",
       "        vertical-align: top;\n",
       "    }\n",
       "\n",
       "    .dataframe thead th {\n",
       "        text-align: right;\n",
       "    }\n",
       "</style>\n",
       "<table border=\"1\" class=\"dataframe\">\n",
       "  <thead>\n",
       "    <tr style=\"text-align: right;\">\n",
       "      <th></th>\n",
       "      <th>gender</th>\n",
       "      <th>starttime</th>\n",
       "      <th>stoptime</th>\n",
       "      <th>tripduration</th>\n",
       "      <th>from_station_name</th>\n",
       "      <th>start_capacity</th>\n",
       "      <th>to_station_name</th>\n",
       "      <th>end_capacity</th>\n",
       "      <th>temperature</th>\n",
       "      <th>wind_speed</th>\n",
       "      <th>events</th>\n",
       "    </tr>\n",
       "  </thead>\n",
       "  <tbody>\n",
       "    <tr>\n",
       "      <th>40</th>\n",
       "      <td>Female</td>\n",
       "      <td>2013-07-14 14:08:00</td>\n",
       "      <td>2013-07-14 15:53:00</td>\n",
       "      <td>6274</td>\n",
       "      <td>Wabash Ave &amp; Roosevelt Rd</td>\n",
       "      <td>19</td>\n",
       "      <td>Lake Shore Dr &amp; Monroe St</td>\n",
       "      <td>11</td>\n",
       "      <td>87.1</td>\n",
       "      <td>8.1</td>\n",
       "      <td>partlycloudy</td>\n",
       "    </tr>\n",
       "    <tr>\n",
       "      <th>77</th>\n",
       "      <td>Female</td>\n",
       "      <td>2013-07-21 11:35:00</td>\n",
       "      <td>2013-07-21 13:54:00</td>\n",
       "      <td>8299</td>\n",
       "      <td>State St &amp; 19th St</td>\n",
       "      <td>15</td>\n",
       "      <td>Sheffield Ave &amp; Kingsbury St</td>\n",
       "      <td>15</td>\n",
       "      <td>82.9</td>\n",
       "      <td>5.8</td>\n",
       "      <td>mostlycloudy</td>\n",
       "    </tr>\n",
       "    <tr>\n",
       "      <th>173</th>\n",
       "      <td>Female</td>\n",
       "      <td>2013-08-08 08:49:00</td>\n",
       "      <td>2013-08-08 09:31:00</td>\n",
       "      <td>2502</td>\n",
       "      <td>Sheffield Ave &amp; Addison St</td>\n",
       "      <td>27</td>\n",
       "      <td>Dearborn St &amp; Adams St</td>\n",
       "      <td>19</td>\n",
       "      <td>71.1</td>\n",
       "      <td>10.4</td>\n",
       "      <td>mostlycloudy</td>\n",
       "    </tr>\n",
       "  </tbody>\n",
       "</table>\n",
       "</div>"
      ],
      "text/plain": [
       "     gender           starttime            stoptime  tripduration  \\\n",
       "40   Female 2013-07-14 14:08:00 2013-07-14 15:53:00          6274   \n",
       "77   Female 2013-07-21 11:35:00 2013-07-21 13:54:00          8299   \n",
       "173  Female 2013-08-08 08:49:00 2013-08-08 09:31:00          2502   \n",
       "\n",
       "              from_station_name  start_capacity               to_station_name  \\\n",
       "40    Wabash Ave & Roosevelt Rd              19     Lake Shore Dr & Monroe St   \n",
       "77           State St & 19th St              15  Sheffield Ave & Kingsbury St   \n",
       "173  Sheffield Ave & Addison St              27        Dearborn St & Adams St   \n",
       "\n",
       "     end_capacity  temperature  wind_speed        events  \n",
       "40             11         87.1         8.1  partlycloudy  \n",
       "77             15         82.9         5.8  mostlycloudy  \n",
       "173            19         71.1        10.4  mostlycloudy  "
      ]
     },
     "execution_count": 5,
     "metadata": {},
     "output_type": "execute_result"
    }
   ],
   "source": [
    "bikes.query('gender == \"Female\" and tripduration > 2000').head(3)"
   ]
  },
  {
   "cell_type": "markdown",
   "metadata": {},
   "source": [
    "### Forgetting quotes\n",
    "\n",
    "If you do not use quotes around your literal string, then pandas assumes that value is a column name. The following raises an error. It believes you are accessing a column name Female, which doesn't exist."
   ]
  },
  {
   "cell_type": "code",
   "execution_count": 6,
   "metadata": {},
   "outputs": [
    {
     "data": {
      "text/html": [
       "<div>\n",
       "<style scoped>\n",
       "    .dataframe tbody tr th:only-of-type {\n",
       "        vertical-align: middle;\n",
       "    }\n",
       "\n",
       "    .dataframe tbody tr th {\n",
       "        vertical-align: top;\n",
       "    }\n",
       "\n",
       "    .dataframe thead th {\n",
       "        text-align: right;\n",
       "    }\n",
       "</style>\n",
       "<table border=\"1\" class=\"dataframe\">\n",
       "  <thead>\n",
       "    <tr style=\"text-align: right;\">\n",
       "      <th></th>\n",
       "      <th>gender</th>\n",
       "      <th>starttime</th>\n",
       "      <th>stoptime</th>\n",
       "      <th>tripduration</th>\n",
       "      <th>from_station_name</th>\n",
       "      <th>start_capacity</th>\n",
       "      <th>to_station_name</th>\n",
       "      <th>end_capacity</th>\n",
       "      <th>temperature</th>\n",
       "      <th>wind_speed</th>\n",
       "      <th>events</th>\n",
       "    </tr>\n",
       "  </thead>\n",
       "  <tbody>\n",
       "    <tr>\n",
       "      <th>40</th>\n",
       "      <td>Female</td>\n",
       "      <td>2013-07-14 14:08:00</td>\n",
       "      <td>2013-07-14 15:53:00</td>\n",
       "      <td>6274</td>\n",
       "      <td>Wabash Ave &amp; Roosevelt Rd</td>\n",
       "      <td>19</td>\n",
       "      <td>Lake Shore Dr &amp; Monroe St</td>\n",
       "      <td>11</td>\n",
       "      <td>87.1</td>\n",
       "      <td>8.1</td>\n",
       "      <td>partlycloudy</td>\n",
       "    </tr>\n",
       "    <tr>\n",
       "      <th>77</th>\n",
       "      <td>Female</td>\n",
       "      <td>2013-07-21 11:35:00</td>\n",
       "      <td>2013-07-21 13:54:00</td>\n",
       "      <td>8299</td>\n",
       "      <td>State St &amp; 19th St</td>\n",
       "      <td>15</td>\n",
       "      <td>Sheffield Ave &amp; Kingsbury St</td>\n",
       "      <td>15</td>\n",
       "      <td>82.9</td>\n",
       "      <td>5.8</td>\n",
       "      <td>mostlycloudy</td>\n",
       "    </tr>\n",
       "    <tr>\n",
       "      <th>173</th>\n",
       "      <td>Female</td>\n",
       "      <td>2013-08-08 08:49:00</td>\n",
       "      <td>2013-08-08 09:31:00</td>\n",
       "      <td>2502</td>\n",
       "      <td>Sheffield Ave &amp; Addison St</td>\n",
       "      <td>27</td>\n",
       "      <td>Dearborn St &amp; Adams St</td>\n",
       "      <td>19</td>\n",
       "      <td>71.1</td>\n",
       "      <td>10.4</td>\n",
       "      <td>mostlycloudy</td>\n",
       "    </tr>\n",
       "    <tr>\n",
       "      <th>258</th>\n",
       "      <td>Female</td>\n",
       "      <td>2013-08-17 22:10:00</td>\n",
       "      <td>2013-08-17 22:53:00</td>\n",
       "      <td>2566</td>\n",
       "      <td>Millennium Park</td>\n",
       "      <td>35</td>\n",
       "      <td>Theater on the Lake</td>\n",
       "      <td>15</td>\n",
       "      <td>69.1</td>\n",
       "      <td>5.8</td>\n",
       "      <td>clear</td>\n",
       "    </tr>\n",
       "    <tr>\n",
       "      <th>320</th>\n",
       "      <td>Female</td>\n",
       "      <td>2013-08-24 14:50:00</td>\n",
       "      <td>2013-08-24 15:40:00</td>\n",
       "      <td>2980</td>\n",
       "      <td>Sheridan Rd &amp; Irving Park Rd</td>\n",
       "      <td>11</td>\n",
       "      <td>Halsted St &amp; Willow St</td>\n",
       "      <td>19</td>\n",
       "      <td>84.9</td>\n",
       "      <td>5.8</td>\n",
       "      <td>partlycloudy</td>\n",
       "    </tr>\n",
       "    <tr>\n",
       "      <th>659</th>\n",
       "      <td>Female</td>\n",
       "      <td>2013-09-17 18:38:00</td>\n",
       "      <td>2013-09-17 19:13:00</td>\n",
       "      <td>2048</td>\n",
       "      <td>Franklin St &amp; Jackson Blvd</td>\n",
       "      <td>27</td>\n",
       "      <td>Clinton St &amp; Roosevelt Rd</td>\n",
       "      <td>15</td>\n",
       "      <td>66.0</td>\n",
       "      <td>9.2</td>\n",
       "      <td>cloudy</td>\n",
       "    </tr>\n",
       "    <tr>\n",
       "      <th>846</th>\n",
       "      <td>Female</td>\n",
       "      <td>2013-09-27 08:45:00</td>\n",
       "      <td>2013-09-27 09:19:00</td>\n",
       "      <td>2032</td>\n",
       "      <td>Damen Ave &amp; Wellington Ave</td>\n",
       "      <td>15</td>\n",
       "      <td>Halsted St &amp; Madison St</td>\n",
       "      <td>19</td>\n",
       "      <td>64.0</td>\n",
       "      <td>4.6</td>\n",
       "      <td>partlycloudy</td>\n",
       "    </tr>\n",
       "    <tr>\n",
       "      <th>1057</th>\n",
       "      <td>Female</td>\n",
       "      <td>2013-10-08 11:07:00</td>\n",
       "      <td>2013-10-08 11:45:00</td>\n",
       "      <td>2242</td>\n",
       "      <td>Clark St &amp; North Ave</td>\n",
       "      <td>15</td>\n",
       "      <td>Franklin St &amp; Jackson Blvd</td>\n",
       "      <td>27</td>\n",
       "      <td>70.0</td>\n",
       "      <td>5.8</td>\n",
       "      <td>clear</td>\n",
       "    </tr>\n",
       "    <tr>\n",
       "      <th>1954</th>\n",
       "      <td>Female</td>\n",
       "      <td>2013-12-28 11:37:00</td>\n",
       "      <td>2013-12-28 13:34:00</td>\n",
       "      <td>7050</td>\n",
       "      <td>LaSalle St &amp; Washington St</td>\n",
       "      <td>15</td>\n",
       "      <td>Theater on the Lake</td>\n",
       "      <td>15</td>\n",
       "      <td>44.1</td>\n",
       "      <td>12.7</td>\n",
       "      <td>clear</td>\n",
       "    </tr>\n",
       "    <tr>\n",
       "      <th>2344</th>\n",
       "      <td>Female</td>\n",
       "      <td>2014-03-19 07:23:00</td>\n",
       "      <td>2014-03-19 08:00:00</td>\n",
       "      <td>2181</td>\n",
       "      <td>Seeley Ave &amp; Roscoe St</td>\n",
       "      <td>11</td>\n",
       "      <td>Franklin St &amp; Lake St</td>\n",
       "      <td>23</td>\n",
       "      <td>43.0</td>\n",
       "      <td>6.9</td>\n",
       "      <td>rain</td>\n",
       "    </tr>\n",
       "    <tr>\n",
       "      <th>2712</th>\n",
       "      <td>Female</td>\n",
       "      <td>2014-04-15 15:56:00</td>\n",
       "      <td>2014-04-16 14:09:00</td>\n",
       "      <td>79988</td>\n",
       "      <td>Clinton St &amp; Washington Blvd</td>\n",
       "      <td>31</td>\n",
       "      <td>May St &amp; Taylor St</td>\n",
       "      <td>15</td>\n",
       "      <td>35.1</td>\n",
       "      <td>6.9</td>\n",
       "      <td>cloudy</td>\n",
       "    </tr>\n",
       "    <tr>\n",
       "      <th>2915</th>\n",
       "      <td>Female</td>\n",
       "      <td>2014-04-25 13:01:00</td>\n",
       "      <td>2014-04-25 16:27:00</td>\n",
       "      <td>12351</td>\n",
       "      <td>May St &amp; Taylor St</td>\n",
       "      <td>15</td>\n",
       "      <td>Halsted St &amp; Polk St</td>\n",
       "      <td>19</td>\n",
       "      <td>66.0</td>\n",
       "      <td>12.7</td>\n",
       "      <td>partlycloudy</td>\n",
       "    </tr>\n",
       "    <tr>\n",
       "      <th>2962</th>\n",
       "      <td>Female</td>\n",
       "      <td>2014-04-28 21:26:00</td>\n",
       "      <td>2014-04-28 22:05:00</td>\n",
       "      <td>2361</td>\n",
       "      <td>Clarendon Ave &amp; Leland Ave</td>\n",
       "      <td>15</td>\n",
       "      <td>Michigan Ave &amp; Oak St</td>\n",
       "      <td>23</td>\n",
       "      <td>52.0</td>\n",
       "      <td>13.8</td>\n",
       "      <td>cloudy</td>\n",
       "    </tr>\n",
       "    <tr>\n",
       "      <th>3202</th>\n",
       "      <td>Female</td>\n",
       "      <td>2014-05-10 12:39:00</td>\n",
       "      <td>2014-05-10 13:21:00</td>\n",
       "      <td>2479</td>\n",
       "      <td>Kedzie Ave &amp; Milwaukee Ave</td>\n",
       "      <td>19</td>\n",
       "      <td>Sheffield Ave &amp; Webster Ave</td>\n",
       "      <td>19</td>\n",
       "      <td>72.0</td>\n",
       "      <td>17.3</td>\n",
       "      <td>partlycloudy</td>\n",
       "    </tr>\n",
       "    <tr>\n",
       "      <th>3587</th>\n",
       "      <td>Female</td>\n",
       "      <td>2014-05-25 07:26:00</td>\n",
       "      <td>2014-05-25 08:03:00</td>\n",
       "      <td>2234</td>\n",
       "      <td>Broadway &amp; Berwyn Ave</td>\n",
       "      <td>15</td>\n",
       "      <td>Lake Shore Dr &amp; Belmont Ave</td>\n",
       "      <td>19</td>\n",
       "      <td>63.0</td>\n",
       "      <td>3.5</td>\n",
       "      <td>partlycloudy</td>\n",
       "    </tr>\n",
       "    <tr>\n",
       "      <th>3775</th>\n",
       "      <td>Female</td>\n",
       "      <td>2014-05-31 16:18:00</td>\n",
       "      <td>2014-05-31 16:58:00</td>\n",
       "      <td>2378</td>\n",
       "      <td>Fairbanks Ct &amp; Grand Ave</td>\n",
       "      <td>15</td>\n",
       "      <td>Lake Shore Dr &amp; North Blvd</td>\n",
       "      <td>15</td>\n",
       "      <td>87.8</td>\n",
       "      <td>16.1</td>\n",
       "      <td>partlycloudy</td>\n",
       "    </tr>\n",
       "    <tr>\n",
       "      <th>3833</th>\n",
       "      <td>Female</td>\n",
       "      <td>2014-06-02 18:23:00</td>\n",
       "      <td>2014-06-02 18:57:00</td>\n",
       "      <td>2059</td>\n",
       "      <td>Halsted St &amp; Dickens Ave</td>\n",
       "      <td>15</td>\n",
       "      <td>Cannon Dr &amp; Fullerton Ave</td>\n",
       "      <td>15</td>\n",
       "      <td>81.0</td>\n",
       "      <td>12.7</td>\n",
       "      <td>partlycloudy</td>\n",
       "    </tr>\n",
       "    <tr>\n",
       "      <th>3941</th>\n",
       "      <td>Female</td>\n",
       "      <td>2014-06-05 18:42:00</td>\n",
       "      <td>2014-06-05 19:59:00</td>\n",
       "      <td>4629</td>\n",
       "      <td>Streeter Dr &amp; Illinois St</td>\n",
       "      <td>39</td>\n",
       "      <td>Museum Campus</td>\n",
       "      <td>35</td>\n",
       "      <td>73.0</td>\n",
       "      <td>9.2</td>\n",
       "      <td>mostlycloudy</td>\n",
       "    </tr>\n",
       "  </tbody>\n",
       "</table>\n",
       "</div>"
      ],
      "text/plain": [
       "      gender           starttime            stoptime  tripduration  \\\n",
       "40    Female 2013-07-14 14:08:00 2013-07-14 15:53:00          6274   \n",
       "77    Female 2013-07-21 11:35:00 2013-07-21 13:54:00          8299   \n",
       "173   Female 2013-08-08 08:49:00 2013-08-08 09:31:00          2502   \n",
       "258   Female 2013-08-17 22:10:00 2013-08-17 22:53:00          2566   \n",
       "320   Female 2013-08-24 14:50:00 2013-08-24 15:40:00          2980   \n",
       "659   Female 2013-09-17 18:38:00 2013-09-17 19:13:00          2048   \n",
       "846   Female 2013-09-27 08:45:00 2013-09-27 09:19:00          2032   \n",
       "1057  Female 2013-10-08 11:07:00 2013-10-08 11:45:00          2242   \n",
       "1954  Female 2013-12-28 11:37:00 2013-12-28 13:34:00          7050   \n",
       "2344  Female 2014-03-19 07:23:00 2014-03-19 08:00:00          2181   \n",
       "2712  Female 2014-04-15 15:56:00 2014-04-16 14:09:00         79988   \n",
       "2915  Female 2014-04-25 13:01:00 2014-04-25 16:27:00         12351   \n",
       "2962  Female 2014-04-28 21:26:00 2014-04-28 22:05:00          2361   \n",
       "3202  Female 2014-05-10 12:39:00 2014-05-10 13:21:00          2479   \n",
       "3587  Female 2014-05-25 07:26:00 2014-05-25 08:03:00          2234   \n",
       "3775  Female 2014-05-31 16:18:00 2014-05-31 16:58:00          2378   \n",
       "3833  Female 2014-06-02 18:23:00 2014-06-02 18:57:00          2059   \n",
       "3941  Female 2014-06-05 18:42:00 2014-06-05 19:59:00          4629   \n",
       "\n",
       "                 from_station_name  start_capacity  \\\n",
       "40       Wabash Ave & Roosevelt Rd              19   \n",
       "77              State St & 19th St              15   \n",
       "173     Sheffield Ave & Addison St              27   \n",
       "258                Millennium Park              35   \n",
       "320   Sheridan Rd & Irving Park Rd              11   \n",
       "659     Franklin St & Jackson Blvd              27   \n",
       "846     Damen Ave & Wellington Ave              15   \n",
       "1057          Clark St & North Ave              15   \n",
       "1954    LaSalle St & Washington St              15   \n",
       "2344        Seeley Ave & Roscoe St              11   \n",
       "2712  Clinton St & Washington Blvd              31   \n",
       "2915            May St & Taylor St              15   \n",
       "2962    Clarendon Ave & Leland Ave              15   \n",
       "3202    Kedzie Ave & Milwaukee Ave              19   \n",
       "3587         Broadway & Berwyn Ave              15   \n",
       "3775      Fairbanks Ct & Grand Ave              15   \n",
       "3833      Halsted St & Dickens Ave              15   \n",
       "3941     Streeter Dr & Illinois St              39   \n",
       "\n",
       "                   to_station_name  end_capacity  temperature  wind_speed  \\\n",
       "40       Lake Shore Dr & Monroe St            11         87.1         8.1   \n",
       "77    Sheffield Ave & Kingsbury St            15         82.9         5.8   \n",
       "173         Dearborn St & Adams St            19         71.1        10.4   \n",
       "258            Theater on the Lake            15         69.1         5.8   \n",
       "320         Halsted St & Willow St            19         84.9         5.8   \n",
       "659      Clinton St & Roosevelt Rd            15         66.0         9.2   \n",
       "846        Halsted St & Madison St            19         64.0         4.6   \n",
       "1057    Franklin St & Jackson Blvd            27         70.0         5.8   \n",
       "1954           Theater on the Lake            15         44.1        12.7   \n",
       "2344         Franklin St & Lake St            23         43.0         6.9   \n",
       "2712            May St & Taylor St            15         35.1         6.9   \n",
       "2915          Halsted St & Polk St            19         66.0        12.7   \n",
       "2962         Michigan Ave & Oak St            23         52.0        13.8   \n",
       "3202   Sheffield Ave & Webster Ave            19         72.0        17.3   \n",
       "3587   Lake Shore Dr & Belmont Ave            19         63.0         3.5   \n",
       "3775    Lake Shore Dr & North Blvd            15         87.8        16.1   \n",
       "3833     Cannon Dr & Fullerton Ave            15         81.0        12.7   \n",
       "3941                 Museum Campus            35         73.0         9.2   \n",
       "\n",
       "            events  \n",
       "40    partlycloudy  \n",
       "77    mostlycloudy  \n",
       "173   mostlycloudy  \n",
       "258          clear  \n",
       "320   partlycloudy  \n",
       "659         cloudy  \n",
       "846   partlycloudy  \n",
       "1057         clear  \n",
       "1954         clear  \n",
       "2344          rain  \n",
       "2712        cloudy  \n",
       "2915  partlycloudy  \n",
       "2962        cloudy  \n",
       "3202  partlycloudy  \n",
       "3587  partlycloudy  \n",
       "3775  partlycloudy  \n",
       "3833  partlycloudy  \n",
       "3941  mostlycloudy  "
      ]
     },
     "execution_count": 6,
     "metadata": {},
     "output_type": "execute_result"
    }
   ],
   "source": [
    "bikes.query('gender == \"Female\" and tripduration > 2000')"
   ]
  },
  {
   "cell_type": "markdown",
   "metadata": {},
   "source": [
    "## Column to column comparisons\n",
    "\n",
    "It is possible to compare each value in one column with each value in another column. Here, we filter for all the rides where there were more bikes at the start than at the end."
   ]
  },
  {
   "cell_type": "code",
   "execution_count": 7,
   "metadata": {},
   "outputs": [
    {
     "data": {
      "text/html": [
       "<div>\n",
       "<style scoped>\n",
       "    .dataframe tbody tr th:only-of-type {\n",
       "        vertical-align: middle;\n",
       "    }\n",
       "\n",
       "    .dataframe tbody tr th {\n",
       "        vertical-align: top;\n",
       "    }\n",
       "\n",
       "    .dataframe thead th {\n",
       "        text-align: right;\n",
       "    }\n",
       "</style>\n",
       "<table border=\"1\" class=\"dataframe\">\n",
       "  <thead>\n",
       "    <tr style=\"text-align: right;\">\n",
       "      <th></th>\n",
       "      <th>gender</th>\n",
       "      <th>starttime</th>\n",
       "      <th>stoptime</th>\n",
       "      <th>tripduration</th>\n",
       "      <th>from_station_name</th>\n",
       "      <th>start_capacity</th>\n",
       "      <th>to_station_name</th>\n",
       "      <th>end_capacity</th>\n",
       "      <th>temperature</th>\n",
       "      <th>wind_speed</th>\n",
       "      <th>events</th>\n",
       "    </tr>\n",
       "  </thead>\n",
       "  <tbody>\n",
       "    <tr>\n",
       "      <th>1</th>\n",
       "      <td>Male</td>\n",
       "      <td>2013-06-28 22:53:00</td>\n",
       "      <td>2013-06-28 23:03:00</td>\n",
       "      <td>623</td>\n",
       "      <td>Clinton St &amp; Washington Blvd</td>\n",
       "      <td>31</td>\n",
       "      <td>Wells St &amp; Walton St</td>\n",
       "      <td>19</td>\n",
       "      <td>69.1</td>\n",
       "      <td>6.9</td>\n",
       "      <td>partlycloudy</td>\n",
       "    </tr>\n",
       "    <tr>\n",
       "      <th>6</th>\n",
       "      <td>Male</td>\n",
       "      <td>2013-07-02 17:47:00</td>\n",
       "      <td>2013-07-02 17:56:00</td>\n",
       "      <td>565</td>\n",
       "      <td>Clark St &amp; Randolph St</td>\n",
       "      <td>31</td>\n",
       "      <td>Ravenswood Ave &amp; Irving Park Rd</td>\n",
       "      <td>19</td>\n",
       "      <td>66.0</td>\n",
       "      <td>15.0</td>\n",
       "      <td>cloudy</td>\n",
       "    </tr>\n",
       "    <tr>\n",
       "      <th>8</th>\n",
       "      <td>Male</td>\n",
       "      <td>2013-07-03 15:21:00</td>\n",
       "      <td>2013-07-03 15:42:00</td>\n",
       "      <td>1300</td>\n",
       "      <td>Clinton St &amp; Washington Blvd</td>\n",
       "      <td>31</td>\n",
       "      <td>Wood St &amp; Division St</td>\n",
       "      <td>15</td>\n",
       "      <td>71.1</td>\n",
       "      <td>0.0</td>\n",
       "      <td>cloudy</td>\n",
       "    </tr>\n",
       "  </tbody>\n",
       "</table>\n",
       "</div>"
      ],
      "text/plain": [
       "  gender           starttime            stoptime  tripduration  \\\n",
       "1   Male 2013-06-28 22:53:00 2013-06-28 23:03:00           623   \n",
       "6   Male 2013-07-02 17:47:00 2013-07-02 17:56:00           565   \n",
       "8   Male 2013-07-03 15:21:00 2013-07-03 15:42:00          1300   \n",
       "\n",
       "              from_station_name  start_capacity  \\\n",
       "1  Clinton St & Washington Blvd              31   \n",
       "6        Clark St & Randolph St              31   \n",
       "8  Clinton St & Washington Blvd              31   \n",
       "\n",
       "                   to_station_name  end_capacity  temperature  wind_speed  \\\n",
       "1             Wells St & Walton St            19         69.1         6.9   \n",
       "6  Ravenswood Ave & Irving Park Rd            19         66.0        15.0   \n",
       "8            Wood St & Division St            15         71.1         0.0   \n",
       "\n",
       "         events  \n",
       "1  partlycloudy  \n",
       "6        cloudy  \n",
       "8        cloudy  "
      ]
     },
     "execution_count": 7,
     "metadata": {},
     "output_type": "execute_result"
    }
   ],
   "source": [
    "bikes.query('start_capacity > end_capacity').head(3)"
   ]
  },
  {
   "cell_type": "markdown",
   "metadata": {},
   "source": [
    "## Use 'in' for multiple equalities\n",
    "\n",
    "You can check whether each value in a column is equal to one or more other values by using the word 'in' within your query. Use the syntax for creating a list within the query string to contain all the values you'd like to check. The following tests whether the weather event was snow or rain."
   ]
  },
  {
   "cell_type": "code",
   "execution_count": 8,
   "metadata": {},
   "outputs": [
    {
     "data": {
      "text/html": [
       "<div>\n",
       "<style scoped>\n",
       "    .dataframe tbody tr th:only-of-type {\n",
       "        vertical-align: middle;\n",
       "    }\n",
       "\n",
       "    .dataframe tbody tr th {\n",
       "        vertical-align: top;\n",
       "    }\n",
       "\n",
       "    .dataframe thead th {\n",
       "        text-align: right;\n",
       "    }\n",
       "</style>\n",
       "<table border=\"1\" class=\"dataframe\">\n",
       "  <thead>\n",
       "    <tr style=\"text-align: right;\">\n",
       "      <th></th>\n",
       "      <th>gender</th>\n",
       "      <th>starttime</th>\n",
       "      <th>stoptime</th>\n",
       "      <th>tripduration</th>\n",
       "      <th>from_station_name</th>\n",
       "      <th>start_capacity</th>\n",
       "      <th>to_station_name</th>\n",
       "      <th>end_capacity</th>\n",
       "      <th>temperature</th>\n",
       "      <th>wind_speed</th>\n",
       "      <th>events</th>\n",
       "    </tr>\n",
       "  </thead>\n",
       "  <tbody>\n",
       "    <tr>\n",
       "      <th>45</th>\n",
       "      <td>Male</td>\n",
       "      <td>2013-07-15 16:43:00</td>\n",
       "      <td>2013-07-15 16:55:00</td>\n",
       "      <td>727</td>\n",
       "      <td>Greenwood Ave &amp; 47th St</td>\n",
       "      <td>15</td>\n",
       "      <td>State St &amp; Harrison St</td>\n",
       "      <td>19</td>\n",
       "      <td>82.9</td>\n",
       "      <td>5.8</td>\n",
       "      <td>rain</td>\n",
       "    </tr>\n",
       "    <tr>\n",
       "      <th>112</th>\n",
       "      <td>Male</td>\n",
       "      <td>2013-07-26 19:10:00</td>\n",
       "      <td>2013-07-26 19:33:00</td>\n",
       "      <td>1395</td>\n",
       "      <td>Larrabee St &amp; Kingsbury St</td>\n",
       "      <td>27</td>\n",
       "      <td>Damen Ave &amp; Pierce Ave</td>\n",
       "      <td>19</td>\n",
       "      <td>66.9</td>\n",
       "      <td>12.7</td>\n",
       "      <td>rain</td>\n",
       "    </tr>\n",
       "    <tr>\n",
       "      <th>124</th>\n",
       "      <td>Male</td>\n",
       "      <td>2013-07-30 18:53:00</td>\n",
       "      <td>2013-07-30 19:00:00</td>\n",
       "      <td>442</td>\n",
       "      <td>Canal St &amp; Jackson Blvd</td>\n",
       "      <td>35</td>\n",
       "      <td>Racine Ave &amp; Congress Pkwy</td>\n",
       "      <td>19</td>\n",
       "      <td>69.1</td>\n",
       "      <td>3.5</td>\n",
       "      <td>rain</td>\n",
       "    </tr>\n",
       "  </tbody>\n",
       "</table>\n",
       "</div>"
      ],
      "text/plain": [
       "    gender           starttime            stoptime  tripduration  \\\n",
       "45    Male 2013-07-15 16:43:00 2013-07-15 16:55:00           727   \n",
       "112   Male 2013-07-26 19:10:00 2013-07-26 19:33:00          1395   \n",
       "124   Male 2013-07-30 18:53:00 2013-07-30 19:00:00           442   \n",
       "\n",
       "              from_station_name  start_capacity             to_station_name  \\\n",
       "45      Greenwood Ave & 47th St              15      State St & Harrison St   \n",
       "112  Larrabee St & Kingsbury St              27      Damen Ave & Pierce Ave   \n",
       "124     Canal St & Jackson Blvd              35  Racine Ave & Congress Pkwy   \n",
       "\n",
       "     end_capacity  temperature  wind_speed events  \n",
       "45             19         82.9         5.8   rain  \n",
       "112            19         66.9        12.7   rain  \n",
       "124            19         69.1         3.5   rain  "
      ]
     },
     "execution_count": 8,
     "metadata": {},
     "output_type": "execute_result"
    }
   ],
   "source": [
    "bikes.query('events in [\"snow\", \"rain\"]').head(3)"
   ]
  },
  {
   "cell_type": "markdown",
   "metadata": {},
   "source": [
    "There are multiple syntaxes for the above that all work the same, but I prefer using the above as it is most similar to the `isin` method used during boolean selection.\n",
    "\n",
    "* `bikes.query('[\"snow\", \"rain\"] in events')`\n",
    "* `bikes.query('[\"snow\", \"rain\"] == events')`\n",
    "* `bikes.query('events == [\"snow\", \"rain\"]')`"
   ]
  },
  {
   "cell_type": "markdown",
   "metadata": {},
   "source": [
    "### Use 'not in' to invert the condition\n",
    "\n",
    "You can invert the result of an 'in' clause by placing the word 'not' before it. Here, we find all the rides that did not have the weather events cloudy, partly cloudy or mostly cloudy."
   ]
  },
  {
   "cell_type": "code",
   "execution_count": 9,
   "metadata": {},
   "outputs": [
    {
     "data": {
      "text/html": [
       "<div>\n",
       "<style scoped>\n",
       "    .dataframe tbody tr th:only-of-type {\n",
       "        vertical-align: middle;\n",
       "    }\n",
       "\n",
       "    .dataframe tbody tr th {\n",
       "        vertical-align: top;\n",
       "    }\n",
       "\n",
       "    .dataframe thead th {\n",
       "        text-align: right;\n",
       "    }\n",
       "</style>\n",
       "<table border=\"1\" class=\"dataframe\">\n",
       "  <thead>\n",
       "    <tr style=\"text-align: right;\">\n",
       "      <th></th>\n",
       "      <th>gender</th>\n",
       "      <th>starttime</th>\n",
       "      <th>stoptime</th>\n",
       "      <th>tripduration</th>\n",
       "      <th>from_station_name</th>\n",
       "      <th>start_capacity</th>\n",
       "      <th>to_station_name</th>\n",
       "      <th>end_capacity</th>\n",
       "      <th>temperature</th>\n",
       "      <th>wind_speed</th>\n",
       "      <th>events</th>\n",
       "    </tr>\n",
       "  </thead>\n",
       "  <tbody>\n",
       "    <tr>\n",
       "      <th>25</th>\n",
       "      <td>Female</td>\n",
       "      <td>2013-07-11 08:17:00</td>\n",
       "      <td>2013-07-11 08:31:00</td>\n",
       "      <td>830</td>\n",
       "      <td>Wabash Ave &amp; Roosevelt Rd</td>\n",
       "      <td>19</td>\n",
       "      <td>Daley Center Plaza</td>\n",
       "      <td>47</td>\n",
       "      <td>73.9</td>\n",
       "      <td>8.1</td>\n",
       "      <td>clear</td>\n",
       "    </tr>\n",
       "    <tr>\n",
       "      <th>26</th>\n",
       "      <td>Male</td>\n",
       "      <td>2013-07-12 01:07:00</td>\n",
       "      <td>2013-07-12 01:24:00</td>\n",
       "      <td>1043</td>\n",
       "      <td>State St &amp; Harrison St</td>\n",
       "      <td>19</td>\n",
       "      <td>Racine Ave &amp; 18th St</td>\n",
       "      <td>15</td>\n",
       "      <td>64.9</td>\n",
       "      <td>0.0</td>\n",
       "      <td>clear</td>\n",
       "    </tr>\n",
       "    <tr>\n",
       "      <th>33</th>\n",
       "      <td>Male</td>\n",
       "      <td>2013-07-12 17:22:00</td>\n",
       "      <td>2013-07-12 17:34:00</td>\n",
       "      <td>730</td>\n",
       "      <td>Clark St &amp; Congress Pkwy</td>\n",
       "      <td>27</td>\n",
       "      <td>Racine Ave &amp; Congress Pkwy</td>\n",
       "      <td>19</td>\n",
       "      <td>79.0</td>\n",
       "      <td>10.4</td>\n",
       "      <td>clear</td>\n",
       "    </tr>\n",
       "  </tbody>\n",
       "</table>\n",
       "</div>"
      ],
      "text/plain": [
       "    gender           starttime            stoptime  tripduration  \\\n",
       "25  Female 2013-07-11 08:17:00 2013-07-11 08:31:00           830   \n",
       "26    Male 2013-07-12 01:07:00 2013-07-12 01:24:00          1043   \n",
       "33    Male 2013-07-12 17:22:00 2013-07-12 17:34:00           730   \n",
       "\n",
       "            from_station_name  start_capacity             to_station_name  \\\n",
       "25  Wabash Ave & Roosevelt Rd              19          Daley Center Plaza   \n",
       "26     State St & Harrison St              19        Racine Ave & 18th St   \n",
       "33   Clark St & Congress Pkwy              27  Racine Ave & Congress Pkwy   \n",
       "\n",
       "    end_capacity  temperature  wind_speed events  \n",
       "25            47         73.9         8.1  clear  \n",
       "26            15         64.9         0.0  clear  \n",
       "33            19         79.0        10.4  clear  "
      ]
     },
     "execution_count": 9,
     "metadata": {},
     "output_type": "execute_result"
    }
   ],
   "source": [
    "bikes.query('events not in [\"cloudy\", \"partlycloudy\", \"mostlycloudy\"]').head(3)"
   ]
  },
  {
   "cell_type": "markdown",
   "metadata": {},
   "source": [
    "## Arithmetic operations within `query`\n",
    "\n",
    "It is possible to write arithmetic operations within `query` just as you would outside of it. For instance, if we wanted to find all the rides such that there were 20 or more bikes at the start station than at the end, we do the following."
   ]
  },
  {
   "cell_type": "code",
   "execution_count": 10,
   "metadata": {},
   "outputs": [
    {
     "data": {
      "text/html": [
       "<div>\n",
       "<style scoped>\n",
       "    .dataframe tbody tr th:only-of-type {\n",
       "        vertical-align: middle;\n",
       "    }\n",
       "\n",
       "    .dataframe tbody tr th {\n",
       "        vertical-align: top;\n",
       "    }\n",
       "\n",
       "    .dataframe thead th {\n",
       "        text-align: right;\n",
       "    }\n",
       "</style>\n",
       "<table border=\"1\" class=\"dataframe\">\n",
       "  <thead>\n",
       "    <tr style=\"text-align: right;\">\n",
       "      <th></th>\n",
       "      <th>gender</th>\n",
       "      <th>starttime</th>\n",
       "      <th>stoptime</th>\n",
       "      <th>tripduration</th>\n",
       "      <th>from_station_name</th>\n",
       "      <th>start_capacity</th>\n",
       "      <th>to_station_name</th>\n",
       "      <th>end_capacity</th>\n",
       "      <th>temperature</th>\n",
       "      <th>wind_speed</th>\n",
       "      <th>events</th>\n",
       "    </tr>\n",
       "  </thead>\n",
       "  <tbody>\n",
       "    <tr>\n",
       "      <th>54</th>\n",
       "      <td>Male</td>\n",
       "      <td>2013-07-16 15:13:00</td>\n",
       "      <td>2013-07-16 15:18:00</td>\n",
       "      <td>347</td>\n",
       "      <td>Daley Center Plaza</td>\n",
       "      <td>47</td>\n",
       "      <td>State St &amp; Van Buren St</td>\n",
       "      <td>27</td>\n",
       "      <td>91.0</td>\n",
       "      <td>8.1</td>\n",
       "      <td>mostlycloudy</td>\n",
       "    </tr>\n",
       "    <tr>\n",
       "      <th>66</th>\n",
       "      <td>Male</td>\n",
       "      <td>2013-07-17 20:56:00</td>\n",
       "      <td>2013-07-17 21:14:00</td>\n",
       "      <td>1073</td>\n",
       "      <td>Millennium Park</td>\n",
       "      <td>35</td>\n",
       "      <td>Morgan St &amp; 18th St</td>\n",
       "      <td>15</td>\n",
       "      <td>86.0</td>\n",
       "      <td>9.2</td>\n",
       "      <td>partlycloudy</td>\n",
       "    </tr>\n",
       "    <tr>\n",
       "      <th>116</th>\n",
       "      <td>Male</td>\n",
       "      <td>2013-07-27 09:54:00</td>\n",
       "      <td>2013-07-27 09:56:00</td>\n",
       "      <td>121</td>\n",
       "      <td>Daley Center Plaza</td>\n",
       "      <td>47</td>\n",
       "      <td>LaSalle St &amp; Washington St</td>\n",
       "      <td>15</td>\n",
       "      <td>60.8</td>\n",
       "      <td>11.5</td>\n",
       "      <td>cloudy</td>\n",
       "    </tr>\n",
       "  </tbody>\n",
       "</table>\n",
       "</div>"
      ],
      "text/plain": [
       "    gender           starttime            stoptime  tripduration  \\\n",
       "54    Male 2013-07-16 15:13:00 2013-07-16 15:18:00           347   \n",
       "66    Male 2013-07-17 20:56:00 2013-07-17 21:14:00          1073   \n",
       "116   Male 2013-07-27 09:54:00 2013-07-27 09:56:00           121   \n",
       "\n",
       "      from_station_name  start_capacity             to_station_name  \\\n",
       "54   Daley Center Plaza              47     State St & Van Buren St   \n",
       "66      Millennium Park              35         Morgan St & 18th St   \n",
       "116  Daley Center Plaza              47  LaSalle St & Washington St   \n",
       "\n",
       "     end_capacity  temperature  wind_speed        events  \n",
       "54             27         91.0         8.1  mostlycloudy  \n",
       "66             15         86.0         9.2  partlycloudy  \n",
       "116            15         60.8        11.5        cloudy  "
      ]
     },
     "execution_count": 10,
     "metadata": {},
     "output_type": "execute_result"
    }
   ],
   "source": [
    "bikes.query('start_capacity - end_capacity >= 20').head(3)"
   ]
  },
  {
   "cell_type": "markdown",
   "metadata": {},
   "source": [
    "### Filtering for right triangles\n",
    "\n",
    "Let's read in the triangles dataset which contains the lengths of each side of a triangle as the columns `a`, `b`, and `c`."
   ]
  },
  {
   "cell_type": "code",
   "execution_count": 11,
   "metadata": {},
   "outputs": [
    {
     "ename": "FileNotFoundError",
     "evalue": "[Errno 2] No such file or directory: 'input/triangles.csv'",
     "output_type": "error",
     "traceback": [
      "\u001b[0;31m---------------------------------------------------------------------------\u001b[0m",
      "\u001b[0;31mFileNotFoundError\u001b[0m                         Traceback (most recent call last)",
      "\u001b[0;32m/var/folders/9q/486czkcn7lv5v0hwbt71twdc0000gn/T/ipykernel_6189/4166784441.py\u001b[0m in \u001b[0;36m<module>\u001b[0;34m\u001b[0m\n\u001b[0;32m----> 1\u001b[0;31m \u001b[0mtriangles\u001b[0m \u001b[0;34m=\u001b[0m \u001b[0mpd\u001b[0m\u001b[0;34m.\u001b[0m\u001b[0mread_csv\u001b[0m\u001b[0;34m(\u001b[0m\u001b[0;34m'input/triangles.csv'\u001b[0m\u001b[0;34m)\u001b[0m\u001b[0;34m\u001b[0m\u001b[0;34m\u001b[0m\u001b[0m\n\u001b[0m\u001b[1;32m      2\u001b[0m \u001b[0mtriangles\u001b[0m\u001b[0;34m.\u001b[0m\u001b[0mhead\u001b[0m\u001b[0;34m(\u001b[0m\u001b[0;34m)\u001b[0m\u001b[0;34m\u001b[0m\u001b[0;34m\u001b[0m\u001b[0m\n",
      "\u001b[0;32m~/opt/anaconda3/lib/python3.9/site-packages/pandas/util/_decorators.py\u001b[0m in \u001b[0;36mwrapper\u001b[0;34m(*args, **kwargs)\u001b[0m\n\u001b[1;32m    309\u001b[0m                     \u001b[0mstacklevel\u001b[0m\u001b[0;34m=\u001b[0m\u001b[0mstacklevel\u001b[0m\u001b[0;34m,\u001b[0m\u001b[0;34m\u001b[0m\u001b[0;34m\u001b[0m\u001b[0m\n\u001b[1;32m    310\u001b[0m                 )\n\u001b[0;32m--> 311\u001b[0;31m             \u001b[0;32mreturn\u001b[0m \u001b[0mfunc\u001b[0m\u001b[0;34m(\u001b[0m\u001b[0;34m*\u001b[0m\u001b[0margs\u001b[0m\u001b[0;34m,\u001b[0m \u001b[0;34m**\u001b[0m\u001b[0mkwargs\u001b[0m\u001b[0;34m)\u001b[0m\u001b[0;34m\u001b[0m\u001b[0;34m\u001b[0m\u001b[0m\n\u001b[0m\u001b[1;32m    312\u001b[0m \u001b[0;34m\u001b[0m\u001b[0m\n\u001b[1;32m    313\u001b[0m         \u001b[0;32mreturn\u001b[0m \u001b[0mwrapper\u001b[0m\u001b[0;34m\u001b[0m\u001b[0;34m\u001b[0m\u001b[0m\n",
      "\u001b[0;32m~/opt/anaconda3/lib/python3.9/site-packages/pandas/io/parsers/readers.py\u001b[0m in \u001b[0;36mread_csv\u001b[0;34m(filepath_or_buffer, sep, delimiter, header, names, index_col, usecols, squeeze, prefix, mangle_dupe_cols, dtype, engine, converters, true_values, false_values, skipinitialspace, skiprows, skipfooter, nrows, na_values, keep_default_na, na_filter, verbose, skip_blank_lines, parse_dates, infer_datetime_format, keep_date_col, date_parser, dayfirst, cache_dates, iterator, chunksize, compression, thousands, decimal, lineterminator, quotechar, quoting, doublequote, escapechar, comment, encoding, encoding_errors, dialect, error_bad_lines, warn_bad_lines, on_bad_lines, delim_whitespace, low_memory, memory_map, float_precision, storage_options)\u001b[0m\n\u001b[1;32m    584\u001b[0m     \u001b[0mkwds\u001b[0m\u001b[0;34m.\u001b[0m\u001b[0mupdate\u001b[0m\u001b[0;34m(\u001b[0m\u001b[0mkwds_defaults\u001b[0m\u001b[0;34m)\u001b[0m\u001b[0;34m\u001b[0m\u001b[0;34m\u001b[0m\u001b[0m\n\u001b[1;32m    585\u001b[0m \u001b[0;34m\u001b[0m\u001b[0m\n\u001b[0;32m--> 586\u001b[0;31m     \u001b[0;32mreturn\u001b[0m \u001b[0m_read\u001b[0m\u001b[0;34m(\u001b[0m\u001b[0mfilepath_or_buffer\u001b[0m\u001b[0;34m,\u001b[0m \u001b[0mkwds\u001b[0m\u001b[0;34m)\u001b[0m\u001b[0;34m\u001b[0m\u001b[0;34m\u001b[0m\u001b[0m\n\u001b[0m\u001b[1;32m    587\u001b[0m \u001b[0;34m\u001b[0m\u001b[0m\n\u001b[1;32m    588\u001b[0m \u001b[0;34m\u001b[0m\u001b[0m\n",
      "\u001b[0;32m~/opt/anaconda3/lib/python3.9/site-packages/pandas/io/parsers/readers.py\u001b[0m in \u001b[0;36m_read\u001b[0;34m(filepath_or_buffer, kwds)\u001b[0m\n\u001b[1;32m    480\u001b[0m \u001b[0;34m\u001b[0m\u001b[0m\n\u001b[1;32m    481\u001b[0m     \u001b[0;31m# Create the parser.\u001b[0m\u001b[0;34m\u001b[0m\u001b[0;34m\u001b[0m\u001b[0m\n\u001b[0;32m--> 482\u001b[0;31m     \u001b[0mparser\u001b[0m \u001b[0;34m=\u001b[0m \u001b[0mTextFileReader\u001b[0m\u001b[0;34m(\u001b[0m\u001b[0mfilepath_or_buffer\u001b[0m\u001b[0;34m,\u001b[0m \u001b[0;34m**\u001b[0m\u001b[0mkwds\u001b[0m\u001b[0;34m)\u001b[0m\u001b[0;34m\u001b[0m\u001b[0;34m\u001b[0m\u001b[0m\n\u001b[0m\u001b[1;32m    483\u001b[0m \u001b[0;34m\u001b[0m\u001b[0m\n\u001b[1;32m    484\u001b[0m     \u001b[0;32mif\u001b[0m \u001b[0mchunksize\u001b[0m \u001b[0;32mor\u001b[0m \u001b[0miterator\u001b[0m\u001b[0;34m:\u001b[0m\u001b[0;34m\u001b[0m\u001b[0;34m\u001b[0m\u001b[0m\n",
      "\u001b[0;32m~/opt/anaconda3/lib/python3.9/site-packages/pandas/io/parsers/readers.py\u001b[0m in \u001b[0;36m__init__\u001b[0;34m(self, f, engine, **kwds)\u001b[0m\n\u001b[1;32m    809\u001b[0m             \u001b[0mself\u001b[0m\u001b[0;34m.\u001b[0m\u001b[0moptions\u001b[0m\u001b[0;34m[\u001b[0m\u001b[0;34m\"has_index_names\"\u001b[0m\u001b[0;34m]\u001b[0m \u001b[0;34m=\u001b[0m \u001b[0mkwds\u001b[0m\u001b[0;34m[\u001b[0m\u001b[0;34m\"has_index_names\"\u001b[0m\u001b[0;34m]\u001b[0m\u001b[0;34m\u001b[0m\u001b[0;34m\u001b[0m\u001b[0m\n\u001b[1;32m    810\u001b[0m \u001b[0;34m\u001b[0m\u001b[0m\n\u001b[0;32m--> 811\u001b[0;31m         \u001b[0mself\u001b[0m\u001b[0;34m.\u001b[0m\u001b[0m_engine\u001b[0m \u001b[0;34m=\u001b[0m \u001b[0mself\u001b[0m\u001b[0;34m.\u001b[0m\u001b[0m_make_engine\u001b[0m\u001b[0;34m(\u001b[0m\u001b[0mself\u001b[0m\u001b[0;34m.\u001b[0m\u001b[0mengine\u001b[0m\u001b[0;34m)\u001b[0m\u001b[0;34m\u001b[0m\u001b[0;34m\u001b[0m\u001b[0m\n\u001b[0m\u001b[1;32m    812\u001b[0m \u001b[0;34m\u001b[0m\u001b[0m\n\u001b[1;32m    813\u001b[0m     \u001b[0;32mdef\u001b[0m \u001b[0mclose\u001b[0m\u001b[0;34m(\u001b[0m\u001b[0mself\u001b[0m\u001b[0;34m)\u001b[0m\u001b[0;34m:\u001b[0m\u001b[0;34m\u001b[0m\u001b[0;34m\u001b[0m\u001b[0m\n",
      "\u001b[0;32m~/opt/anaconda3/lib/python3.9/site-packages/pandas/io/parsers/readers.py\u001b[0m in \u001b[0;36m_make_engine\u001b[0;34m(self, engine)\u001b[0m\n\u001b[1;32m   1038\u001b[0m             )\n\u001b[1;32m   1039\u001b[0m         \u001b[0;31m# error: Too many arguments for \"ParserBase\"\u001b[0m\u001b[0;34m\u001b[0m\u001b[0;34m\u001b[0m\u001b[0m\n\u001b[0;32m-> 1040\u001b[0;31m         \u001b[0;32mreturn\u001b[0m \u001b[0mmapping\u001b[0m\u001b[0;34m[\u001b[0m\u001b[0mengine\u001b[0m\u001b[0;34m]\u001b[0m\u001b[0;34m(\u001b[0m\u001b[0mself\u001b[0m\u001b[0;34m.\u001b[0m\u001b[0mf\u001b[0m\u001b[0;34m,\u001b[0m \u001b[0;34m**\u001b[0m\u001b[0mself\u001b[0m\u001b[0;34m.\u001b[0m\u001b[0moptions\u001b[0m\u001b[0;34m)\u001b[0m  \u001b[0;31m# type: ignore[call-arg]\u001b[0m\u001b[0;34m\u001b[0m\u001b[0;34m\u001b[0m\u001b[0m\n\u001b[0m\u001b[1;32m   1041\u001b[0m \u001b[0;34m\u001b[0m\u001b[0m\n\u001b[1;32m   1042\u001b[0m     \u001b[0;32mdef\u001b[0m \u001b[0m_failover_to_python\u001b[0m\u001b[0;34m(\u001b[0m\u001b[0mself\u001b[0m\u001b[0;34m)\u001b[0m\u001b[0;34m:\u001b[0m\u001b[0;34m\u001b[0m\u001b[0;34m\u001b[0m\u001b[0m\n",
      "\u001b[0;32m~/opt/anaconda3/lib/python3.9/site-packages/pandas/io/parsers/c_parser_wrapper.py\u001b[0m in \u001b[0;36m__init__\u001b[0;34m(self, src, **kwds)\u001b[0m\n\u001b[1;32m     49\u001b[0m \u001b[0;34m\u001b[0m\u001b[0m\n\u001b[1;32m     50\u001b[0m         \u001b[0;31m# open handles\u001b[0m\u001b[0;34m\u001b[0m\u001b[0;34m\u001b[0m\u001b[0m\n\u001b[0;32m---> 51\u001b[0;31m         \u001b[0mself\u001b[0m\u001b[0;34m.\u001b[0m\u001b[0m_open_handles\u001b[0m\u001b[0;34m(\u001b[0m\u001b[0msrc\u001b[0m\u001b[0;34m,\u001b[0m \u001b[0mkwds\u001b[0m\u001b[0;34m)\u001b[0m\u001b[0;34m\u001b[0m\u001b[0;34m\u001b[0m\u001b[0m\n\u001b[0m\u001b[1;32m     52\u001b[0m         \u001b[0;32massert\u001b[0m \u001b[0mself\u001b[0m\u001b[0;34m.\u001b[0m\u001b[0mhandles\u001b[0m \u001b[0;32mis\u001b[0m \u001b[0;32mnot\u001b[0m \u001b[0;32mNone\u001b[0m\u001b[0;34m\u001b[0m\u001b[0;34m\u001b[0m\u001b[0m\n\u001b[1;32m     53\u001b[0m \u001b[0;34m\u001b[0m\u001b[0m\n",
      "\u001b[0;32m~/opt/anaconda3/lib/python3.9/site-packages/pandas/io/parsers/base_parser.py\u001b[0m in \u001b[0;36m_open_handles\u001b[0;34m(self, src, kwds)\u001b[0m\n\u001b[1;32m    220\u001b[0m         \u001b[0mLet\u001b[0m \u001b[0mthe\u001b[0m \u001b[0mreaders\u001b[0m \u001b[0mopen\u001b[0m \u001b[0mIOHandles\u001b[0m \u001b[0mafter\u001b[0m \u001b[0mthey\u001b[0m \u001b[0mare\u001b[0m \u001b[0mdone\u001b[0m \u001b[0;32mwith\u001b[0m \u001b[0mtheir\u001b[0m \u001b[0mpotential\u001b[0m \u001b[0mraises\u001b[0m\u001b[0;34m.\u001b[0m\u001b[0;34m\u001b[0m\u001b[0;34m\u001b[0m\u001b[0m\n\u001b[1;32m    221\u001b[0m         \"\"\"\n\u001b[0;32m--> 222\u001b[0;31m         self.handles = get_handle(\n\u001b[0m\u001b[1;32m    223\u001b[0m             \u001b[0msrc\u001b[0m\u001b[0;34m,\u001b[0m\u001b[0;34m\u001b[0m\u001b[0;34m\u001b[0m\u001b[0m\n\u001b[1;32m    224\u001b[0m             \u001b[0;34m\"r\"\u001b[0m\u001b[0;34m,\u001b[0m\u001b[0;34m\u001b[0m\u001b[0;34m\u001b[0m\u001b[0m\n",
      "\u001b[0;32m~/opt/anaconda3/lib/python3.9/site-packages/pandas/io/common.py\u001b[0m in \u001b[0;36mget_handle\u001b[0;34m(path_or_buf, mode, encoding, compression, memory_map, is_text, errors, storage_options)\u001b[0m\n\u001b[1;32m    700\u001b[0m         \u001b[0;32mif\u001b[0m \u001b[0mioargs\u001b[0m\u001b[0;34m.\u001b[0m\u001b[0mencoding\u001b[0m \u001b[0;32mand\u001b[0m \u001b[0;34m\"b\"\u001b[0m \u001b[0;32mnot\u001b[0m \u001b[0;32min\u001b[0m \u001b[0mioargs\u001b[0m\u001b[0;34m.\u001b[0m\u001b[0mmode\u001b[0m\u001b[0;34m:\u001b[0m\u001b[0;34m\u001b[0m\u001b[0;34m\u001b[0m\u001b[0m\n\u001b[1;32m    701\u001b[0m             \u001b[0;31m# Encoding\u001b[0m\u001b[0;34m\u001b[0m\u001b[0;34m\u001b[0m\u001b[0m\n\u001b[0;32m--> 702\u001b[0;31m             handle = open(\n\u001b[0m\u001b[1;32m    703\u001b[0m                 \u001b[0mhandle\u001b[0m\u001b[0;34m,\u001b[0m\u001b[0;34m\u001b[0m\u001b[0;34m\u001b[0m\u001b[0m\n\u001b[1;32m    704\u001b[0m                 \u001b[0mioargs\u001b[0m\u001b[0;34m.\u001b[0m\u001b[0mmode\u001b[0m\u001b[0;34m,\u001b[0m\u001b[0;34m\u001b[0m\u001b[0;34m\u001b[0m\u001b[0m\n",
      "\u001b[0;31mFileNotFoundError\u001b[0m: [Errno 2] No such file or directory: 'input/triangles.csv'"
     ]
    }
   ],
   "source": [
    "triangles = pd.read_csv('input/triangles.csv')\n",
    "triangles.head()"
   ]
  },
  {
   "cell_type": "markdown",
   "metadata": {},
   "source": [
    "We can use the `query` method to find all the right triangles, those that satisfy the Pythagorean Theorem. We write the condition using the arithmetic and comparison operators."
   ]
  },
  {
   "cell_type": "code",
   "execution_count": null,
   "metadata": {},
   "outputs": [],
   "source": [
    "triangles.query('a ** 2 + b ** 2 == c ** 2').head()"
   ]
  },
  {
   "cell_type": "markdown",
   "metadata": {},
   "source": [
    "The syntax is quite a bit nicer than the boolean selection alternative."
   ]
  },
  {
   "cell_type": "code",
   "execution_count": null,
   "metadata": {},
   "outputs": [],
   "source": [
    "filt = triangles['a'] ** 2 + triangles['b'] ** 2 == triangles['c'] ** 2\n",
    "triangles[filt].head()"
   ]
  },
  {
   "cell_type": "markdown",
   "metadata": {},
   "source": [
    "## Reference variable names with the `@` symbol\n",
    "\n",
    "By default, all words within the query string attempt to reference a column name. You can, however, reference a variable name by preceding it with the `@` symbol. Let's assign the variable name `min_length` to 5,000 and reference it in a query to find all the rides where trip duration was greater than it."
   ]
  },
  {
   "cell_type": "code",
   "execution_count": null,
   "metadata": {},
   "outputs": [],
   "source": [
    "min_length = 5000\n",
    "bikes.query('tripduration > @min_length').head(3)"
   ]
  },
  {
   "cell_type": "markdown",
   "metadata": {},
   "source": [
    "## Using the index with `query`\n",
    "\n",
    "You can even use the word `index` to make comparisons against the index as if it were a normal column. In the bikes DataFrame, the index is just the integers beginning at 0. Here, we select only the `events` that were 'cloudy' for an index value greater than 4,000."
   ]
  },
  {
   "cell_type": "code",
   "execution_count": null,
   "metadata": {},
   "outputs": [],
   "source": [
    "bikes.query('index > 4000 and events == \"cloudy\" ').head(3)"
   ]
  },
  {
   "cell_type": "markdown",
   "metadata": {},
   "source": [
    "### Referencing named index\n",
    "\n",
    "If your DataFrame has an index that is named, which happens when a column is set as the index, then you can use that name within `query` just as if it were a regular column name. Here, we create a new DataFrame that has the `from_station_name` as the index."
   ]
  },
  {
   "cell_type": "code",
   "execution_count": null,
   "metadata": {},
   "outputs": [],
   "source": [
    "bikes_idx = bikes.set_index('from_station_name')\n",
    "bikes_idx.head(3)"
   ]
  },
  {
   "cell_type": "markdown",
   "metadata": {},
   "source": [
    "Notice the name 'from_station_name' directly above the index. This is the name for the index and what can be referenced when using `query`. Let's filter for trip ids greater than 200,000."
   ]
  },
  {
   "cell_type": "code",
   "execution_count": null,
   "metadata": {},
   "outputs": [],
   "source": [
    "bikes_idx.query('from_station_name == \"Theater on the Lake\"').head(3)"
   ]
  },
  {
   "cell_type": "markdown",
   "metadata": {},
   "source": [
    "## Use backticks to reference column names with spaces\n",
    "\n",
    "pandas allows DataFrames to have column names with spaces in them. In order to use a column name containing spaces within `query`, you'll need to surround it with backticks. If you don't use the backticks you'll get an error. Let's read in the San Francisco employee compensation dataset which contains multiple column names that have spaces."
   ]
  },
  {
   "cell_type": "code",
   "execution_count": null,
   "metadata": {
    "scrolled": true
   },
   "outputs": [],
   "source": [
    "sf_emp = pd.read_csv('input/sf_employee_compensation.csv')\n",
    "sf_emp.head(3)"
   ]
  },
  {
   "cell_type": "markdown",
   "metadata": {},
   "source": [
    "Let's find all the employees that are in the organization group of 'Public Protection'."
   ]
  },
  {
   "cell_type": "code",
   "execution_count": null,
   "metadata": {},
   "outputs": [],
   "source": [
    "sf_emp.query('`organization group` == \"Public Protection\"').head(3)"
   ]
  },
  {
   "cell_type": "markdown",
   "metadata": {},
   "source": [
    "### Selecting columns with `query`\n",
    "\n",
    "Unfortunately the `query` method does not give us the ability to select a subset of the columns when filtering the data. You would have to do normal column selection after calling the method. Here, we use *just the brackets* to select three columns after finding all the rides where the weather was snow or rain."
   ]
  },
  {
   "cell_type": "code",
   "execution_count": null,
   "metadata": {},
   "outputs": [],
   "source": [
    "cols = ['starttime', 'temperature', 'events']\n",
    "bikes.query('events in [\"snow\", \"rain\"]')[cols].head()"
   ]
  },
  {
   "cell_type": "markdown",
   "metadata": {},
   "source": [
    "## Summary\n",
    "\n",
    "The `query` method provides an alternative to boolean selection to filter the data based on the values. Here are the rules for the string you provide.\n",
    "\n",
    "* The expression in the string must evaluate as True or False for every row\n",
    "* Column names may be accessed directly with their name\n",
    "* Often you will use one of the comparison operators to create a condition\n",
    "* Use chained comparison operators to shorten syntax\n",
    "* Use `and`, `or`, and `not` to create more complex conditions\n",
    "* To use a literal string, surround it with quotes\n",
    "* Use `in` to test multiple equalities. Provide the test values in a list\n",
    "* All arithmetic operators work just as they do outside of the string\n",
    "* Use the `@` character to reference a variable name\n",
    "* Reference the index with the string 'index' or the index's name\n",
    "* Use backticks to reference a column name with spaces in it"
   ]
  },
  {
   "cell_type": "markdown",
   "metadata": {},
   "source": [
    "# Miscellaneous Subset Selection\n",
    "\n",
    "In this chapter, a few more methods for subset selection are described. The methods used in this chapter do not add any additional functionality to pandas, but are covered for completeness.\n",
    "\n",
    "I personally do not use the methods described in this chapter and suggest that you also avoid them. They are all valid syntax and some pandas users do actually use them, so you may find them valuable.\n",
    "\n",
    "## Selecting a column with dot notation\n",
    "\n",
    "In my opinion, the best way to select a single column from a DataFrame as a Series is by placing the name of the column within *just the brackets*. There's actually an alternative way to select a single column of data and that is with dot notation. Let's read in the the `sample_data2.csv` dataset."
   ]
  },
  {
   "cell_type": "code",
   "execution_count": null,
   "metadata": {},
   "outputs": [],
   "source": [
    "import pandas as pd\n",
    "df = pd.read_csv('input/sample_data2.csv')\n",
    "df"
   ]
  },
  {
   "cell_type": "markdown",
   "metadata": {},
   "source": [
    "Place the name of the column directly after the dot as if it were an attribute."
   ]
  },
  {
   "cell_type": "code",
   "execution_count": null,
   "metadata": {},
   "outputs": [],
   "source": [
    "df.name"
   ]
  },
  {
   "cell_type": "markdown",
   "metadata": {},
   "source": [
    "This produces an identical result as using *just the brackets*."
   ]
  },
  {
   "cell_type": "code",
   "execution_count": null,
   "metadata": {},
   "outputs": [],
   "source": [
    "df['name']"
   ]
  },
  {
   "cell_type": "markdown",
   "metadata": {},
   "source": [
    "### Avoid dot notation - use just the brackets\n",
    "\n",
    "Although this method for column selection requires less syntax and is used by many pandas users, it has many downsides. The following is a partial list of the functionality that is impossible using dot notation.\n",
    "\n",
    "* Select column names with spaces\n",
    "* Select column names that have the same name as methods\n",
    "* Select columns with variables\n",
    "* Select columns that begin with numbers\n",
    "* Select columns that are non-strings\n",
    "\n",
    "Examples of some of the above scenarios will now be covered. Using dot notation does not allow you to select columns with spaces. Selecting the column `average score` raises a syntax error."
   ]
  },
  {
   "cell_type": "markdown",
   "metadata": {},
   "source": [
    "The only way to select this column is with *just the brackets*."
   ]
  },
  {
   "cell_type": "code",
   "execution_count": null,
   "metadata": {},
   "outputs": [],
   "source": [
    "df['average score']"
   ]
  },
  {
   "cell_type": "markdown",
   "metadata": {},
   "source": [
    "Dot notation is unable to select columns that are the same name as methods. For instance, `max` is a method that all DataFrames have. In this particular DataFrame, it also the name of the column. Attempting to select it via dot notation will access the method."
   ]
  },
  {
   "cell_type": "code",
   "execution_count": null,
   "metadata": {},
   "outputs": [],
   "source": [
    "df.max"
   ]
  },
  {
   "cell_type": "markdown",
   "metadata": {},
   "source": [
    "Again, the only way to select this column is with *just the brackets*."
   ]
  },
  {
   "cell_type": "code",
   "execution_count": null,
   "metadata": {},
   "outputs": [],
   "source": [
    "df['max']"
   ]
  },
  {
   "cell_type": "markdown",
   "metadata": {},
   "source": [
    "### Video with 10 reasons why using the brackets are superior\n",
    "\n",
    "There are actually many more reasons to use the brackets over dot notation. If you are interested in hearing all of my reasons, [watch this video][1].\n",
    "\n",
    "[1]: https://www.youtube.com/watch?v=LxZvl9Mc1cY"
   ]
  },
  {
   "cell_type": "markdown",
   "metadata": {},
   "source": [
    "## Selecting rows with just the brackets using slice notation\n",
    "\n",
    "So far, we have covered three ways to select subsets of data with *just the brackets*.  You can use a single string, a list of strings, or a boolean Series. Let's quickly review those ways right now using the bikes dataset."
   ]
  },
  {
   "cell_type": "code",
   "execution_count": null,
   "metadata": {},
   "outputs": [],
   "source": [
    "bikes = pd.read_csv('input/bikes.csv')"
   ]
  },
  {
   "cell_type": "markdown",
   "metadata": {},
   "source": [
    "### A single string"
   ]
  },
  {
   "cell_type": "code",
   "execution_count": null,
   "metadata": {},
   "outputs": [],
   "source": [
    "bikes['tripduration'].head(3)"
   ]
  },
  {
   "cell_type": "markdown",
   "metadata": {},
   "source": [
    "### A list of strings"
   ]
  },
  {
   "cell_type": "code",
   "execution_count": null,
   "metadata": {},
   "outputs": [],
   "source": [
    "cols = ['gender', 'tripduration']\n",
    "bikes[cols].head(3)"
   ]
  },
  {
   "cell_type": "markdown",
   "metadata": {},
   "source": [
    "### A boolean Series\n",
    "\n",
    "The previous two examples selected columns. Boolean Series select rows."
   ]
  },
  {
   "cell_type": "code",
   "execution_count": null,
   "metadata": {},
   "outputs": [],
   "source": [
    "filt = bikes['tripduration'] > 5000\n",
    "bikes[filt].head(3)"
   ]
  },
  {
   "cell_type": "markdown",
   "metadata": {},
   "source": [
    "### Using a slice\n",
    "\n",
    "It is possible to use slice notation within just the brackets. For example, the following selects the rows beginning at location 2 up to location 10 with a step size of 3. You can even use slice notation when the index is strings."
   ]
  },
  {
   "cell_type": "code",
   "execution_count": null,
   "metadata": {},
   "outputs": [],
   "source": [
    "bikes[2:10:3]"
   ]
  },
  {
   "cell_type": "markdown",
   "metadata": {},
   "source": [
    "### I do not recommend using slicing with *just the brackets*\n",
    "\n",
    "Although slicing with *just the brackets* seems simple, I do not recommend using it. This is because it is ambiguous and can make selections either by integer location or by label. I always prefer explicit, unambiguous methods. Both `loc` and `iloc` are unambiguous and explicit. Meaning that even without knowing anything about the DataFrame, you would be able to explain exactly how the selection will take place. If you do want to slice the rows, then use `loc` if you are using labels or `iloc` if you are using integer location, but do not use *just the brackets*.\n",
    "\n",
    "## Selecting a single cell with `at` and `iat`\n",
    "\n",
    "pandas provides two more rarely seen indexers, `at`, and `iat`. These indexers are analogous to `loc` and `iloc` respectively, but only select a single cell of a DataFrame. Since they only select a single cell, you must pass both a row and column selection as either a label (`loc`) or an integer location (`iloc`). Let's see an example of each."
   ]
  },
  {
   "cell_type": "code",
   "execution_count": null,
   "metadata": {},
   "outputs": [],
   "source": [
    "bikes.at[40, 'temperature']"
   ]
  },
  {
   "cell_type": "code",
   "execution_count": null,
   "metadata": {},
   "outputs": [],
   "source": [
    "bikes.iat[-30, 5]"
   ]
  },
  {
   "cell_type": "markdown",
   "metadata": {},
   "source": [
    "The current index labels for `bikes` is integers which is why the number 40 was used above. It is the label for a row, but also happens to be an integer.\n",
    "\n",
    "### What's the purpose of these indexers?\n",
    "\n",
    "All usages of `at` and `iat` may be replaced with `loc` and `iloc` and would produce the exact same results. The `at` and `iat` indexers are optimized to select a single cell of data and therefore provide slightly better performance than `loc` or `iloc`. Let's verify this below."
   ]
  },
  {
   "cell_type": "code",
   "execution_count": null,
   "metadata": {},
   "outputs": [],
   "source": [
    "bikes.loc[40, 'temperature']"
   ]
  },
  {
   "cell_type": "code",
   "execution_count": null,
   "metadata": {},
   "outputs": [],
   "source": [
    "bikes.iloc[-30, 5]"
   ]
  },
  {
   "cell_type": "markdown",
   "metadata": {},
   "source": [
    "### I never use these indexers\n",
    "\n",
    "Personally, I never use these specialty indexers as the performance advantage for a single selection is minor. It would require a case where single element selections were happening in great numbers to see any significant improvement and doing so is rare in data analysis.\n",
    "\n",
    "### Much bigger performance improvement using numpy directly\n",
    "\n",
    "If you truly wanted a large performance improvement for single-cell selection, you would select directly from numpy arrays and not a pandas DataFrame. Below, the data is extracted into the underlying numpy array with the `values` attribute. We then time the performance of selecting with numpy and also with `iat` and `iloc` on a DataFrame. \n",
    "\n",
    "The timing is done using the magic command `%time`. This is a special command only available in a Jupyter Notebook (or IPython shell). The **Wall time** provides the total time it took to complete the operation. On my machine, `iat` shows a negligible improvement over `iloc`, but selecting with numpy is about 15x as fast. There is no comparison here, if you care about performance for selecting a single cell of data, use numpy."
   ]
  },
  {
   "cell_type": "code",
   "execution_count": null,
   "metadata": {},
   "outputs": [],
   "source": [
    "values = bikes.values"
   ]
  },
  {
   "cell_type": "code",
   "execution_count": null,
   "metadata": {},
   "outputs": [],
   "source": [
    "%time values[-30, 5]"
   ]
  },
  {
   "cell_type": "code",
   "execution_count": null,
   "metadata": {},
   "outputs": [],
   "source": [
    "%time bikes.iat[-30, 5]"
   ]
  },
  {
   "cell_type": "code",
   "execution_count": null,
   "metadata": {},
   "outputs": [],
   "source": [
    "%time bikes.iloc[-30, 5]"
   ]
  },
  {
   "cell_type": "code",
   "execution_count": null,
   "metadata": {},
   "outputs": [],
   "source": []
  }
 ],
 "metadata": {
  "kernelspec": {
   "display_name": "Python 3 (ipykernel)",
   "language": "python",
   "name": "python3"
  },
  "language_info": {
   "codemirror_mode": {
    "name": "ipython",
    "version": 3
   },
   "file_extension": ".py",
   "mimetype": "text/x-python",
   "name": "python",
   "nbconvert_exporter": "python",
   "pygments_lexer": "ipython3",
   "version": "3.9.7"
  }
 },
 "nbformat": 4,
 "nbformat_minor": 2
}
