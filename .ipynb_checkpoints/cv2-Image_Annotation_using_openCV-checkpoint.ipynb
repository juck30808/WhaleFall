{
 "cells": [
  {
   "cell_type": "markdown",
   "metadata": {},
   "source": [
    "# <font style=\"color:black\">Annotating Images</font>\n",
    "\n",
    "In this notebook we will cover how to annotate images using OpenCV. We will learn how to peform the following annotations to images.\n",
    "\n",
    "* Draw lines \n",
    "* Draw circles\n",
    "* Draw rectangles\n",
    "* Add text\n",
    "\n",
    "These are useful when you want to annotate your results for presentations or show a demo of your application. Annotations can also be useful during development and debugging."
   ]
  },
  {
   "cell_type": "code",
   "execution_count": 1,
   "metadata": {},
   "outputs": [],
   "source": [
    "# Import libraries\n",
    "import cv2\n",
    "import numpy as np\n",
    "import matplotlib.pyplot as plt\n",
    "from PIL import Image \n",
    "%matplotlib inline\n",
    "import matplotlib\n",
    "matplotlib.rcParams['figure.figsize'] = (9.0, 9.0)\n",
    "from IPython.display import Image"
   ]
  },
  {
   "cell_type": "code",
   "execution_count": 2,
   "metadata": {
    "scrolled": true
   },
   "outputs": [
    {
     "name": "stderr",
     "output_type": "stream",
     "text": [
      "[ WARN:0@1.899] global /Users/runner/work/opencv-python/opencv-python/opencv/modules/imgcodecs/src/loadsave.cpp (239) findDecoder imread_('Apollo_11_Launch.jpg'): can't open/read file: check file path/integrity\n"
     ]
    },
    {
     "ename": "TypeError",
     "evalue": "'NoneType' object is not subscriptable",
     "output_type": "error",
     "traceback": [
      "\u001b[0;31m---------------------------------------------------------------------------\u001b[0m",
      "\u001b[0;31mTypeError\u001b[0m                                 Traceback (most recent call last)",
      "\u001b[0;32m/var/folders/9q/486czkcn7lv5v0hwbt71twdc0000gn/T/ipykernel_10210/1617231353.py\u001b[0m in \u001b[0;36m<module>\u001b[0;34m\u001b[0m\n\u001b[1;32m      3\u001b[0m \u001b[0;34m\u001b[0m\u001b[0m\n\u001b[1;32m      4\u001b[0m \u001b[0;31m# Display the original image\u001b[0m\u001b[0;34m\u001b[0m\u001b[0;34m\u001b[0m\u001b[0m\n\u001b[0;32m----> 5\u001b[0;31m \u001b[0mplt\u001b[0m\u001b[0;34m.\u001b[0m\u001b[0mimshow\u001b[0m\u001b[0;34m(\u001b[0m\u001b[0mimage\u001b[0m\u001b[0;34m[\u001b[0m\u001b[0;34m:\u001b[0m\u001b[0;34m,\u001b[0m\u001b[0;34m:\u001b[0m\u001b[0;34m,\u001b[0m\u001b[0;34m:\u001b[0m\u001b[0;34m:\u001b[0m\u001b[0;34m-\u001b[0m\u001b[0;36m1\u001b[0m\u001b[0;34m]\u001b[0m\u001b[0;34m)\u001b[0m\u001b[0;34m\u001b[0m\u001b[0;34m\u001b[0m\u001b[0m\n\u001b[0m",
      "\u001b[0;31mTypeError\u001b[0m: 'NoneType' object is not subscriptable"
     ]
    }
   ],
   "source": [
    "# Read in an image\n",
    "image = cv2.imread(\"Apollo_11_Launch.jpg\", cv2.IMREAD_COLOR)\n",
    "\n",
    "# Display the original image\n",
    "plt.imshow(image[:,:,::-1])"
   ]
  },
  {
   "cell_type": "markdown",
   "metadata": {},
   "source": [
    "## <font style=\"color:black\">Drawing a Line</font>\n",
    "\n",
    "\n",
    "Let's start off by drawing a line on an image. We will use cv2.line function for this.\n",
    "\n",
    "### <font style=\"color:rgb(8,133,37)\">Function Syntx</font>\n",
    "``` python\n",
    "    img = cv2.line(img, pt1, pt2, color[, thickness[, lineType[, shift]]])\n",
    "```\n",
    "\n",
    "`img`: The output image that has been annotated.\n",
    "\n",
    "The function has **4 required arguments**:\n",
    "\n",
    "1. `img`:   Image on which we will draw a line\n",
    "2. `pt1`:   First point(x,y location) of the line segment\n",
    "3. `pt2`:   Second point of the line segment\n",
    "4. `color`: Color of the line which will be drawn\n",
    "    \n",
    "Other optional arguments that are important for us to know include:\n",
    "\n",
    "1. `thickness`: Integer specifying the line thickness. Default value is 1.\n",
    "2. `lineType`:  Type of the line. Default value is 8 which stands for an 8-connected line. Usually, cv2.LINE_AA (antialiased or smooth line) is used for the lineType.\n",
    "    \n",
    "### <font style=\"color:rgb(8,133,37)\">OpenCV Documentation</font>\n",
    "\n",
    "**`line:`**https://docs.opencv.org/4.5.1/d6/d6e/group__imgproc__draw.html#ga7078a9fae8c7e7d13d24dac2520ae4a2\n",
    "\n",
    "Let's see an example of this."
   ]
  },
  {
   "cell_type": "code",
   "execution_count": null,
   "metadata": {
    "slideshow": {
     "slide_type": "-"
    }
   },
   "outputs": [],
   "source": [
    "imageLine = image.copy()\n",
    "\n",
    "# The line starts from (200,100) and ends at (400,100)\n",
    "# The color of the line is YELLOW (Recall that OpenCV uses BGR format)\n",
    "# Thickness of line is 5px\n",
    "# Linetype is cv2.LINE_AA\n",
    "\n",
    "cv2.line(imageLine, (200, 100), (400, 100), (0, 255, 255), thickness=5, lineType=cv2.LINE_AA);\n",
    "\n",
    "# Display the image\n",
    "plt.imshow(imageLine[:,:,::-1])"
   ]
  },
  {
   "cell_type": "markdown",
   "metadata": {},
   "source": [
    "## <font style=\"color:black\">Drawing a Circle</font>\n",
    "\n",
    "\n",
    "Let's start off by drawing a circle on an image. We will use cv2.circle function for this.\n",
    "\n",
    "### <font style=\"color:rgb(8,133,37)\">Functional syntx</font>\n",
    "``` python\n",
    "img = cv2.circle(img, center, radius, color[, thickness[, lineType[, shift]]])\n",
    "```\n",
    "\n",
    "`img`: The output image that has been annotated.\n",
    "\n",
    "The function has **4 required arguments**:\n",
    "\n",
    "1. `img`:    Image on which we will draw a line\n",
    "2. `center`: Center of the circle\n",
    "3. `radius`: Radius of the circle\n",
    "4. `color`:  Color of the circle which will be drawn\n",
    "    \n",
    "Next, let's check out the (optional) arguments which we are going to use quite extensively.\n",
    "\n",
    "1. `thickness`: Thickness of the circle outline (if positive). \n",
    "If a negative value is supplied for this argument, it will result in a filled circle.\n",
    "2. `lineType`:  Type of the circle boundary. This is exact same as lineType argument in **cv2.line**\n",
    "    \n",
    "### <font style=\"color:rgb(8,133,37)\">OpenCV Documentation</font>\n",
    "    \n",
    "**`circle:`** https://docs.opencv.org/4.5.1/d6/d6e/group__imgproc__draw.html#gaf10604b069374903dbd0f0488cb43670\n",
    "\n",
    "Let's see an example of this."
   ]
  },
  {
   "cell_type": "code",
   "execution_count": null,
   "metadata": {},
   "outputs": [],
   "source": [
    "# Draw a circle\n",
    "imageCircle = image.copy()\n",
    "\n",
    "cv2.circle(imageCircle, (900,500), 100, (0, 0, 255), thickness=5, lineType=cv2.LINE_AA);\n",
    "\n",
    "# Display the image\n",
    "plt.imshow(imageCircle[:,:,::-1])"
   ]
  },
  {
   "cell_type": "markdown",
   "metadata": {},
   "source": [
    "## <font style=\"color:black\">Drawing a Rectangle</font>\n",
    "\n",
    "\n",
    "We will use **cv2.rectangle** function to draw a rectangle on an image. The function syntax is as follows.\n",
    "\n",
    "### <font style=\"color:rgb(8,133,37)\">Functional syntx</font>\n",
    "\n",
    "    img = cv2.rectangle(img, pt1, pt2, color[, thickness[, lineType[, shift]]])\n",
    "\n",
    "`img`: The output image that has been annotated.\n",
    "\n",
    "The function has **4 required arguments**:\n",
    "\n",
    "1. `img`: Image on which the rectangle is to be drawn.\n",
    "2. `pt1`: Vertex of the rectangle. Usually we use the **top-left vertex** here.\n",
    "3. `pt2`: Vertex of the rectangle opposite to pt1. Usually we use the **bottom-right**              vertex here.\n",
    "4. `color`: Rectangle color\n",
    "    \n",
    "Next, let's check out the (optional) arguments which we are going to use quite extensively.\n",
    "\n",
    "1. `thickness`: Thickness of the circle outline (if positive). \n",
    "    If a negative value is supplied for this argument, it will result in a filled rectangle.\n",
    "2. `lineType`: Type of the circle boundary. This is exact same as lineType argument in \n",
    "    **cv2.line**\n",
    "    \n",
    "### <font style=\"color:rgb(8,133,37)\">OpenCV Documentation Links</font>\n",
    "\n",
    "**`rectangle:`**https://docs.opencv.org/4.5.1/d6/d6e/group__imgproc__draw.html#ga07d2f74cadcf8e305e810ce8eed13bc9\n",
    "    \n",
    "Let's see an example of this."
   ]
  },
  {
   "cell_type": "code",
   "execution_count": null,
   "metadata": {
    "slideshow": {
     "slide_type": "slide"
    }
   },
   "outputs": [],
   "source": [
    "# Draw a rectangle (thickness is a positive integer)\n",
    "imageRectangle = image.copy()\n",
    "\n",
    "cv2.rectangle(imageRectangle, (500, 100), (700,600), (255, 0, 255), thickness=5, lineType=cv2.LINE_8);\n",
    "\n",
    "# Display the image\n",
    "plt.imshow(imageRectangle[:,:,::-1])"
   ]
  },
  {
   "cell_type": "markdown",
   "metadata": {},
   "source": [
    "## <font style=\"color:black\">Adding Text</font>\n",
    "\n",
    "\n",
    "Finally, let's see how we can write some text on an image using **cv2.putText** function.\n",
    "\n",
    "### <font style=\"color:rgb(8,133,37)\">Functional syntx</font>\n",
    "\n",
    "    img = cv2.putText(img, text, org, fontFace, fontScale, color[, thickness[, lineType[, bottomLeftOrigin]]])\n",
    "\n",
    "`img`: The output image that has been annotated.\n",
    "\n",
    "The function has **6 required arguments**:\n",
    "\n",
    "1. `img`: Image on which the text has to be written.\n",
    "2. `text`: Text string to be written.\n",
    "3. `org`: Bottom-left corner of the text string in the image.\n",
    "4. `fontFace`: Font type\n",
    "5. `fontScale`: Font scale factor that is multiplied by the font-specific base size.\n",
    "6. `color`: Font color\n",
    " \n",
    "Other optional arguments that are important for us to know include:\n",
    "\n",
    "1. `thickness`: Integer specifying the line thickness for the text. Default value is 1.\n",
    "2. `lineType`: Type of the line. Default value is 8 which stands for an 8-connected line. Usually, cv2.LINE_AA (antialiased or smooth line) is used for the lineType.\n",
    "\n",
    "### <font style=\"color:rgb(8,133,37)\">OpenCV Documentation</font>\n",
    "\n",
    "**`putText:`**https://docs.opencv.org/4.5.1/d6/d6e/group__imgproc__draw.html#ga5126f47f883d730f633d74f07456c576\n",
    "    \n",
    "Let's see an example of this."
   ]
  },
  {
   "cell_type": "code",
   "execution_count": null,
   "metadata": {},
   "outputs": [],
   "source": [
    "imageText = image.copy()\n",
    "text = \"Apollo 11 Saturn V Launch, July 16, 1969\"\n",
    "fontScale = 2.3\n",
    "fontFace = cv2.FONT_HERSHEY_PLAIN\n",
    "fontColor = (0, 255, 0)\n",
    "fontThickness = 2\n",
    "\n",
    "cv2.putText(imageText, text, (200, 700), fontFace, fontScale, fontColor, fontThickness, cv2.LINE_AA);\n",
    "\n",
    "# Display the image\n",
    "plt.imshow(imageText[:,:,::-1])"
   ]
  },
  {
   "cell_type": "markdown",
   "metadata": {},
   "source": [
    "## Thank You!"
   ]
  }
 ],
 "metadata": {
  "celltoolbar": "Slideshow",
  "kernelspec": {
   "display_name": "Python 3 (ipykernel)",
   "language": "python",
   "name": "python3"
  },
  "language_info": {
   "codemirror_mode": {
    "name": "ipython",
    "version": 3
   },
   "file_extension": ".py",
   "mimetype": "text/x-python",
   "name": "python",
   "nbconvert_exporter": "python",
   "pygments_lexer": "ipython3",
   "version": "3.9.7"
  }
 },
 "nbformat": 4,
 "nbformat_minor": 2
}
