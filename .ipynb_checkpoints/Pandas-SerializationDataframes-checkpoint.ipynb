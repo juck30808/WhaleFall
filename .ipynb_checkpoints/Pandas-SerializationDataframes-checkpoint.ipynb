{
 "cells": [
  {
   "cell_type": "markdown",
   "metadata": {},
   "source": [
    "### Copying Pandas DataFrame Object Contents To Clipboard \n",
    "### Pandas DataFrame 內容複製到剪貼板\n",
    "* A clipboard in an operating system is a portion of physical memory that provides short-term storage to be used between programs.\n",
    "* The clipboard in an operating system enables cut-copy-paste operations between programs and within a program as well.\n",
    "* The contents of a pandas DataFrame object can be stored in clipboard through the method to_clipboard().\n",
    "\n",
    "操作系統中的剪貼板是物理內存的一部分，它提供在程序之間使用的短期存儲。\n",
    "操作系統中的剪貼板支持程序之間和程序內的剪切複製粘貼操作。\n",
    "pandas DataFrame 對象的內容可以通過 to_clipboard() 方法存儲在剪貼板中。"
   ]
  },
  {
   "cell_type": "markdown",
   "metadata": {},
   "source": [
    "https://pythontic.com/pandas/serialization#:~:text=Serializing%20DataFrames%20means%20writing%20the%20DataFrame%20contents%20to%20disk%20in%20some%20format.&text=The%20contents%20of%20the%20pandas,pickle%20format%20and%20so%20on."
   ]
  },
  {
   "cell_type": "code",
   "execution_count": 1,
   "metadata": {},
   "outputs": [],
   "source": [
    "import pandas as pd\n",
    "import numpy as np\n",
    "textMatrix = [(\"Earth\", \"Sphere\", \"Geoid\"),\n",
    "              (\"Matter\", \"Particle\", \"Wave\"),\n",
    "              (\"Magnet\", \"Flex\", \"Electricity\")]\n",
    "\n",
    "df = pd.DataFrame(data=textMatrix)\n",
    "df.to_clipboard(sep=\"\\t\")"
   ]
  },
  {
   "cell_type": "markdown",
   "metadata": {},
   "source": [
    "### Export a pandas dataframe to a html table\n",
    "* In Data Analytics it is a common requirement to publish final results such as a confusion matrix or a dashboard to an external format like excel, HTML, MySQL and others.\n",
    "* The method to_html() of the DataFrame class, returns a HTML string that represents a DataFrame object as a HTML table."
   ]
  },
  {
   "cell_type": "code",
   "execution_count": 2,
   "metadata": {},
   "outputs": [
    {
     "name": "stdout",
     "output_type": "stream",
     "text": [
      "<table border=\"1\" class=\"dataframe\">\n",
      "  <thead>\n",
      "    <tr style=\"text-align: right;\">\n",
      "      <th></th>\n",
      "      <th>A</th>\n",
      "      <th>B</th>\n",
      "      <th>C</th>\n",
      "    </tr>\n",
      "  </thead>\n",
      "  <tbody>\n",
      "    <tr>\n",
      "      <th>0</th>\n",
      "      <td>1512</td>\n",
      "      <td>1547</td>\n",
      "      <td>1676</td>\n",
      "    </tr>\n",
      "    <tr>\n",
      "      <th>1</th>\n",
      "      <td>1245</td>\n",
      "      <td>1598</td>\n",
      "      <td>1436</td>\n",
      "    </tr>\n",
      "    <tr>\n",
      "      <th>2</th>\n",
      "      <td>1234</td>\n",
      "      <td>1345</td>\n",
      "      <td>1452</td>\n",
      "    </tr>\n",
      "  </tbody>\n",
      "</table>\n"
     ]
    }
   ],
   "source": [
    "# A Python dictionary representing categories\n",
    "\n",
    "categories = {\"A\": [1512, 1245, 1234],\n",
    "              \"B\": [1547, 1598, 1345],\n",
    "              \"C\": [1676, 1436, 1452]} \n",
    "df = pd.DataFrame(data=categories)\n",
    "html = df.to_html() \n",
    "print(html);"
   ]
  },
  {
   "cell_type": "code",
   "execution_count": 3,
   "metadata": {},
   "outputs": [],
   "source": [
    "d = df.to_dict()"
   ]
  },
  {
   "cell_type": "code",
   "execution_count": 4,
   "metadata": {},
   "outputs": [
    {
     "data": {
      "text/plain": [
       "{'A': {0: 1512, 1: 1245, 2: 1234},\n",
       " 'B': {0: 1547, 1: 1598, 2: 1345},\n",
       " 'C': {0: 1676, 1: 1436, 2: 1452}}"
      ]
     },
     "execution_count": 4,
     "metadata": {},
     "output_type": "execute_result"
    }
   ],
   "source": [
    "d"
   ]
  },
  {
   "cell_type": "code",
   "execution_count": null,
   "metadata": {},
   "outputs": [],
   "source": []
  }
 ],
 "metadata": {
  "kernelspec": {
   "display_name": "Python 3 (ipykernel)",
   "language": "python",
   "name": "python3"
  },
  "language_info": {
   "codemirror_mode": {
    "name": "ipython",
    "version": 3
   },
   "file_extension": ".py",
   "mimetype": "text/x-python",
   "name": "python",
   "nbconvert_exporter": "python",
   "pygments_lexer": "ipython3",
   "version": "3.9.7"
  }
 },
 "nbformat": 4,
 "nbformat_minor": 4
}
