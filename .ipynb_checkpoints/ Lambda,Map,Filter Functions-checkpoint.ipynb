{
 "cells": [
  {
   "cell_type": "markdown",
   "id": "f2fa9aca",
   "metadata": {},
   "source": [
    "## Lambda"
   ]
  },
  {
   "cell_type": "code",
   "execution_count": 8,
   "id": "892e6f06",
   "metadata": {},
   "outputs": [
    {
     "name": "stdout",
     "output_type": "stream",
     "text": [
      "10.0\n"
     ]
    }
   ],
   "source": [
    "#Lambda\n",
    "\n",
    "def xyz(a,b,c):\n",
    "    return a*a+2*b/c\n",
    "\n",
    "print(xyz(3,4,8))"
   ]
  },
  {
   "cell_type": "code",
   "execution_count": 9,
   "id": "ba9b62fe",
   "metadata": {
    "scrolled": true
   },
   "outputs": [
    {
     "name": "stdout",
     "output_type": "stream",
     "text": [
      "10.0\n"
     ]
    }
   ],
   "source": [
    "xyz = lambda a,b,c : a*a+2*b/c\n",
    "print(xyz(3,4,8))"
   ]
  },
  {
   "cell_type": "markdown",
   "id": "3046f89e",
   "metadata": {},
   "source": [
    "## Map"
   ]
  },
  {
   "cell_type": "code",
   "execution_count": 12,
   "id": "d47e6653",
   "metadata": {},
   "outputs": [
    {
     "name": "stdout",
     "output_type": "stream",
     "text": [
      "[30, 60, 14]\n"
     ]
    }
   ],
   "source": [
    "l1 = [5,6,7]\n",
    "l2 = [6,10,2]\n",
    "\n",
    "xyz = lambda n,m : n*m\n",
    "\n",
    "l3 = map(xyz,l1,l2)\n",
    "print(list(l3))"
   ]
  },
  {
   "cell_type": "markdown",
   "id": "2a024d54",
   "metadata": {},
   "source": [
    "## Filter"
   ]
  },
  {
   "cell_type": "code",
   "execution_count": 7,
   "id": "ecf407a7",
   "metadata": {},
   "outputs": [
    {
     "name": "stdout",
     "output_type": "stream",
     "text": [
      "[4, 8, 4, 2]\n"
     ]
    }
   ],
   "source": [
    "#Filter Functions\n",
    "\n",
    "\n",
    "l = [4,7,8,5,3,4,1,2]\n",
    "\n",
    "def xyz(n):\n",
    "    if n%2 == 0:\n",
    "        return True\n",
    "    else:\n",
    "        return False\n",
    "result = filter(xyz,l)\n",
    "print(list(result))"
   ]
  },
  {
   "cell_type": "code",
   "execution_count": null,
   "id": "84e1232b",
   "metadata": {},
   "outputs": [],
   "source": []
  }
 ],
 "metadata": {
  "kernelspec": {
   "display_name": "Python 3 (ipykernel)",
   "language": "python",
   "name": "python3"
  },
  "language_info": {
   "codemirror_mode": {
    "name": "ipython",
    "version": 3
   },
   "file_extension": ".py",
   "mimetype": "text/x-python",
   "name": "python",
   "nbconvert_exporter": "python",
   "pygments_lexer": "ipython3",
   "version": "3.8.8"
  }
 },
 "nbformat": 4,
 "nbformat_minor": 5
}
