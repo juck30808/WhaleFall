{
 "cells": [
  {
   "cell_type": "markdown",
   "id": "819447eb",
   "metadata": {},
   "source": [
    "## Iterators"
   ]
  },
  {
   "cell_type": "code",
   "execution_count": 1,
   "id": "8f803c30",
   "metadata": {},
   "outputs": [
    {
     "name": "stdout",
     "output_type": "stream",
     "text": [
      "1\n",
      "3\n",
      "5\n"
     ]
    }
   ],
   "source": [
    "class Infinite_Iter:\n",
    "    def __iter__(self):\n",
    "        self.num = 1\n",
    "        return self\n",
    "    \n",
    "    def __next__(self):\n",
    "        num = self.num\n",
    "        self.num += 2\n",
    "        return num\n",
    "\n",
    "i = Infinite_Iter()\n",
    "a = iter(i)\n",
    "print(next(a))\n",
    "print(next(a))\n",
    "print(next(a))"
   ]
  },
  {
   "cell_type": "code",
   "execution_count": 2,
   "id": "5c7df277",
   "metadata": {},
   "outputs": [
    {
     "name": "stdout",
     "output_type": "stream",
     "text": [
      "1\n",
      "2\n",
      "3\n",
      "4\n",
      "5\n"
     ]
    }
   ],
   "source": [
    "a = [1,2,3,4,5]\n",
    "\n",
    "for i in a:\n",
    "    print(i)"
   ]
  },
  {
   "cell_type": "code",
   "execution_count": 3,
   "id": "5bcbd639",
   "metadata": {},
   "outputs": [
    {
     "name": "stdout",
     "output_type": "stream",
     "text": [
      "6\n",
      "7\n",
      "8\n",
      "9\n",
      "10\n"
     ]
    }
   ],
   "source": [
    "for i in range(6,11):\n",
    "    print(i)"
   ]
  },
  {
   "cell_type": "code",
   "execution_count": 5,
   "id": "e0ec354e",
   "metadata": {},
   "outputs": [
    {
     "name": "stdout",
     "output_type": "stream",
     "text": [
      "11\n",
      "12\n",
      "13\n",
      "14\n",
      "15\n",
      "Printing Completed!\n"
     ]
    }
   ],
   "source": [
    "b=(11,12,13,14,15)\n",
    "\n",
    "for i in b:\n",
    "    print(i)\n",
    "else:\n",
    "    print(\"Printing Completed!\")"
   ]
  },
  {
   "cell_type": "markdown",
   "id": "7c43127a",
   "metadata": {},
   "source": [
    "## Inheritance"
   ]
  },
  {
   "cell_type": "code",
   "execution_count": null,
   "id": "530e9aa3",
   "metadata": {},
   "outputs": [],
   "source": [
    "class myBird:\n",
    "    def __init__(self):\n",
    "        print(\"my Bird class constructor\")\n",
    "        \n",
    "    def whatType(self):\n",
    "        print('I am bird')\n",
    "    def canSwin(self):\n",
    "        print('I can Swim')"
   ]
  },
  {
   "cell_type": "code",
   "execution_count": 21,
   "id": "d52b7ce1",
   "metadata": {},
   "outputs": [],
   "source": [
    "class myPenguin(myBird):\n",
    "    def __init__(self):\n",
    "        super().__init__()\n",
    "        print('myPenfuin class constructor')\n",
    "    def whoisThis(self):\n",
    "        print('I am Penguin')\n",
    "    def canRun(self):\n",
    "        print('I can Run')"
   ]
  },
  {
   "cell_type": "code",
   "execution_count": 22,
   "id": "8337b07a",
   "metadata": {},
   "outputs": [
    {
     "name": "stdout",
     "output_type": "stream",
     "text": [
      "my Bird class constructor\n",
      "myPenfuin class constructor\n",
      "I am bird\n",
      "I am Penguin\n",
      "I can Swim\n",
      "I can Run\n"
     ]
    }
   ],
   "source": [
    "pg1 = myPenguin()\n",
    "pg1.whatType()\n",
    "pg1.whoisThis()\n",
    "pg1.canSwin()\n",
    "pg1.canRun()"
   ]
  },
  {
   "cell_type": "code",
   "execution_count": 29,
   "id": "5be4f735",
   "metadata": {},
   "outputs": [],
   "source": [
    "class MyParrot:\n",
    "    def canSwin(self):\n",
    "        print('MyParrot can Swim')\n",
    "    def canFly(self):\n",
    "        print('MyParrot can Fly')"
   ]
  },
  {
   "cell_type": "code",
   "execution_count": 30,
   "id": "297239b7",
   "metadata": {},
   "outputs": [],
   "source": [
    "class MyPenguin:\n",
    "    def canSwin(self):\n",
    "        print('MyPenguin can Swim')\n",
    "    def canFly(self):\n",
    "        print('MyPenguin can Fly')"
   ]
  },
  {
   "cell_type": "code",
   "execution_count": 31,
   "id": "2a9fb8f8",
   "metadata": {},
   "outputs": [],
   "source": [
    "def flying_bird_test(bird):\n",
    "    bird.canFly()\n",
    "    bird.canSwin()"
   ]
  },
  {
   "cell_type": "code",
   "execution_count": 32,
   "id": "125e7192",
   "metadata": {},
   "outputs": [
    {
     "name": "stdout",
     "output_type": "stream",
     "text": [
      "MyParrot can Fly\n",
      "MyParrot can Swim\n",
      "\n",
      "MyPenguin can Fly\n",
      "MyPenguin can Swim\n"
     ]
    }
   ],
   "source": [
    "bird_parrot = MyParrot()\n",
    "bird_penguin = MyPenguin()\n",
    "\n",
    "flying_bird_test(bird_parrot)\n",
    "print()\n",
    "flying_bird_test(bird_penguin)"
   ]
  },
  {
   "cell_type": "markdown",
   "id": "08124d2a",
   "metadata": {},
   "source": [
    "## Multiple Inheritance"
   ]
  },
  {
   "cell_type": "code",
   "execution_count": 33,
   "id": "dbf05900",
   "metadata": {},
   "outputs": [],
   "source": [
    "class Base1:\n",
    "    def funcBase1(self):\n",
    "        print('funcBase1() is executing...')\n",
    "    \n",
    "class Base2:\n",
    "    def funcBase2(self):\n",
    "        print('funcBase2() is executing...')\n",
    "    \n",
    "class Base3:\n",
    "    def funcBase3(self):\n",
    "        print('funcBase3() is executing...')\n",
    "\n",
    "\n",
    "class MutiDerived(Base1,Base2,Base3):\n",
    "    def funcMuti(self):\n",
    "        print('funcMuti')\n",
    "        "
   ]
  },
  {
   "cell_type": "code",
   "execution_count": 35,
   "id": "aa1a1439",
   "metadata": {},
   "outputs": [
    {
     "name": "stdout",
     "output_type": "stream",
     "text": [
      "funcBase1() is executing...\n",
      "funcBase2() is executing...\n",
      "funcBase3() is executing...\n",
      "funcMuti\n"
     ]
    }
   ],
   "source": [
    "md1 = MutiDerived()\n",
    "md1.funcBase1()\n",
    "md1.funcBase2()\n",
    "md1.funcBase3()\n",
    "md1.funcMuti()"
   ]
  },
  {
   "cell_type": "markdown",
   "id": "8da4d6be",
   "metadata": {},
   "source": [
    "## OOP"
   ]
  },
  {
   "cell_type": "code",
   "execution_count": 56,
   "id": "5a67e4ab",
   "metadata": {},
   "outputs": [],
   "source": [
    "class myBird:\n",
    "    def __init__(self):\n",
    "        print(\"my Bird class constructor\")\n",
    "    def whatType(self):\n",
    "        print('I am bird')\n",
    "    def canSwin(self):\n",
    "        print('I can Swim')"
   ]
  },
  {
   "cell_type": "code",
   "execution_count": 57,
   "id": "1a2890d1",
   "metadata": {},
   "outputs": [],
   "source": [
    "class myParrot:\n",
    "    species = 'bird'\n",
    "    \n",
    "    def __init__(self,name,age):\n",
    "        print(\"MyParrot class constructor\")\n",
    "        self.name = name\n",
    "        self.age = age\n",
    "    \n",
    "    def canSing(self, thisSong):\n",
    "        return \"{} can sign{}...\" .format(self.name, thisSong)"
   ]
  },
  {
   "cell_type": "code",
   "execution_count": 58,
   "id": "e42e1080",
   "metadata": {},
   "outputs": [],
   "source": [
    "class myPenguin(myBird):\n",
    "    def __init__(self):\n",
    "        super().__init__()\n",
    "        print(\"Penguin is ready\")\n",
    "\n",
    "    def whoisThis(self):\n",
    "        print('I am Penguin')\n",
    "    def canRun(self):\n",
    "        print('I can Run')"
   ]
  },
  {
   "cell_type": "code",
   "execution_count": 61,
   "id": "9ea9858c",
   "metadata": {},
   "outputs": [
    {
     "name": "stdout",
     "output_type": "stream",
     "text": [
      "MyParrot class constructor\n",
      "MyParrot class constructor\n",
      "MP1 is a bird\n",
      "MP2 is a bird\n",
      "MyParrot1 is 10 years of age\n",
      "MyParrot2 is 15 years of age\n",
      "MyParrot1 can signChirp...\n",
      "my Bird class constructor\n",
      "Penguin is ready\n",
      "I am Penguin\n",
      "I can Run\n"
     ]
    }
   ],
   "source": [
    "# instantiate the Parrot class\n",
    "mp1 = myParrot(\"MyParrot1\",10)\n",
    "mp2 = myParrot(\"MyParrot2\",15)\n",
    "\n",
    "# access the class attributes\n",
    "print(\"MP1 is a {}\".format(mp1.__class__.species))\n",
    "print(\"MP2 is a {}\".format(mp2.__class__.species))\n",
    "\n",
    "# access the instance attributes\n",
    "print(\"{} is {} years of age\".format(mp1.name, mp1.age))\n",
    "print(\"{} is {} years of age\".format(mp2.name, mp2.age))\n",
    "print(mp1.canSing(\"Chirp\"))\n",
    "\n",
    "# Accessing the child class's attributes (Inheritance)\n",
    "pg1 = myPenguin()\n",
    "pg1.whoisThis()\n",
    "pg1.canRun()"
   ]
  },
  {
   "cell_type": "markdown",
   "id": "c7216192",
   "metadata": {},
   "source": [
    "## 運算子多載 (Operator overloading)"
   ]
  },
  {
   "cell_type": "code",
   "execution_count": 72,
   "id": "e0378677",
   "metadata": {},
   "outputs": [],
   "source": [
    "class myPoint:\n",
    "    def __init__(self, x=0, y=0):\n",
    "        self.x = x\n",
    "        self.y = y\n",
    "    \n",
    "    def __str__(self):\n",
    "        return \"({0},{1})\".format(self.x,self.y)\n",
    "    \n",
    "    def __add__(self, other):\n",
    "        x = self.x + other.x\n",
    "        y = self.x + other.y\n",
    "        return myPoint(x,y)\n",
    "    \n",
    "    def __lt__(self, other):\n",
    "        self_msg = (self.x **2) + (self.y **2)\n",
    "        other_msg = (other.x **2) + (other.y **2)\n",
    "        return self_msg < other_msg"
   ]
  },
  {
   "cell_type": "code",
   "execution_count": 74,
   "id": "e0e4199a",
   "metadata": {},
   "outputs": [
    {
     "name": "stdout",
     "output_type": "stream",
     "text": [
      "(1,2) (4,5)\n",
      "True\n",
      "(5,6)\n",
      "True\n",
      "(5,6)\n"
     ]
    }
   ],
   "source": [
    "p1 = myPoint(1,2)\n",
    "p2 = myPoint(4,5)\n",
    "print(p1,p2)\n",
    "\n",
    "print(p1<p2)\n",
    "print(p1+p2)\n",
    "\n",
    "print(p1.__lt__(p2))\n",
    "print(p1.__add__(p2))"
   ]
  },
  {
   "cell_type": "code",
   "execution_count": null,
   "id": "ee39a8fd",
   "metadata": {},
   "outputs": [],
   "source": []
  }
 ],
 "metadata": {
  "kernelspec": {
   "display_name": "Python 3 (ipykernel)",
   "language": "python",
   "name": "python3"
  },
  "language_info": {
   "codemirror_mode": {
    "name": "ipython",
    "version": 3
   },
   "file_extension": ".py",
   "mimetype": "text/x-python",
   "name": "python",
   "nbconvert_exporter": "python",
   "pygments_lexer": "ipython3",
   "version": "3.8.8"
  }
 },
 "nbformat": 4,
 "nbformat_minor": 5
}
