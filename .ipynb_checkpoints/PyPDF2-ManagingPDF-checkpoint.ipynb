{
 "cells": [
  {
   "cell_type": "markdown",
   "metadata": {},
   "source": [
    "# Use PyPDF2 to manage PDF Files"
   ]
  },
  {
   "cell_type": "code",
   "execution_count": 1,
   "metadata": {},
   "outputs": [
    {
     "name": "stdout",
     "output_type": "stream",
     "text": [
      "Requirement already satisfied: PyPDF2 in c:\\users\\cti110016\\anaconda3\\lib\\site-packages (1.26.0)\n"
     ]
    }
   ],
   "source": [
    "!pip install PyPDF2"
   ]
  },
  {
   "cell_type": "code",
   "execution_count": 2,
   "metadata": {
    "scrolled": true
   },
   "outputs": [
    {
     "name": "stdout",
     "output_type": "stream",
     "text": [
      "1\n",
      "ARBITRARY \n",
      "ARGS\n",
      "\n",
      "If\n",
      "you\n",
      "do\n",
      "not\n",
      "know\n",
      "how\n",
      "many\n",
      "keyword\n",
      "arguments\n",
      "that\n",
      "will\n",
      "be\n",
      "passed\n",
      "into\n",
      "your\n",
      "function,\n",
      "use\n",
      "an\n",
      "asterisk\n",
      "before\n",
      "the\n",
      "parameter\n",
      "name\n",
      "to\n",
      "denote\n",
      "this\n",
      "kind\n",
      "of\n",
      "argument\n",
      ".\n",
      "\n"
     ]
    }
   ],
   "source": [
    "import PyPDF2\n",
    "\n",
    "new_pdf = open('input/Intro1.pdf', 'rb') #file object creation\n",
    "reading_pdf = PyPDF2.PdfFileReader(new_pdf) #pdf reader object\n",
    "print(reading_pdf.numPages) #number of pages in pdf\n",
    "\n",
    "pdf_page = reading_pdf.getPage(0) #page object creation\n",
    "print(pdf_page.extractText())\n",
    "\n",
    "# Close PDF File\n",
    "new_pdf.close()"
   ]
  },
  {
   "cell_type": "code",
   "execution_count": null,
   "metadata": {},
   "outputs": [],
   "source": []
  },
  {
   "cell_type": "code",
   "execution_count": 3,
   "metadata": {},
   "outputs": [
    {
     "name": "stdout",
     "output_type": "stream",
     "text": [
      "Enter encryption password: 456\n"
     ]
    },
    {
     "ename": "FileNotFoundError",
     "evalue": "[Errno 2] No such file or directory: 'C:\\\\Users\\\\cti110016\\\\Documents\\\\GitHub\\\\WhaleFall\\\\input/untitled folder/Intro_encrypted.pdf'",
     "output_type": "error",
     "traceback": [
      "\u001b[1;31m---------------------------------------------------------------------------\u001b[0m",
      "\u001b[1;31mFileNotFoundError\u001b[0m                         Traceback (most recent call last)",
      "\u001b[1;32m<ipython-input-3-109501277ec3>\u001b[0m in \u001b[0;36m<module>\u001b[1;34m\u001b[0m\n\u001b[0;32m     49\u001b[0m \u001b[1;33m\u001b[0m\u001b[0m\n\u001b[0;32m     50\u001b[0m     \u001b[0mpassword\u001b[0m \u001b[1;33m=\u001b[0m \u001b[0minput\u001b[0m\u001b[1;33m(\u001b[0m\u001b[1;34m'Enter encryption password: '\u001b[0m\u001b[1;33m)\u001b[0m\u001b[1;33m\u001b[0m\u001b[1;33m\u001b[0m\u001b[0m\n\u001b[1;32m---> 51\u001b[1;33m     \u001b[0mencryptPDFs\u001b[0m\u001b[1;33m(\u001b[0m\u001b[1;34m'.'\u001b[0m\u001b[1;33m,\u001b[0m \u001b[0mpassword\u001b[0m\u001b[1;33m)\u001b[0m\u001b[1;33m\u001b[0m\u001b[1;33m\u001b[0m\u001b[0m\n\u001b[0m\u001b[0;32m     52\u001b[0m     \u001b[0mdecryptPDFs\u001b[0m\u001b[1;33m(\u001b[0m\u001b[1;34m'.'\u001b[0m\u001b[1;33m,\u001b[0m \u001b[0mpassword\u001b[0m\u001b[1;33m)\u001b[0m\u001b[1;33m\u001b[0m\u001b[1;33m\u001b[0m\u001b[0m\n",
      "\u001b[1;32m<ipython-input-3-109501277ec3>\u001b[0m in \u001b[0;36mencryptPDFs\u001b[1;34m(root, password)\u001b[0m\n\u001b[0;32m     17\u001b[0m                     \u001b[0mnewPath\u001b[0m \u001b[1;33m=\u001b[0m \u001b[0mos\u001b[0m\u001b[1;33m.\u001b[0m\u001b[0mpath\u001b[0m\u001b[1;33m.\u001b[0m\u001b[0mdirname\u001b[0m\u001b[1;33m(\u001b[0m\u001b[0mfilepath\u001b[0m\u001b[1;33m)\u001b[0m \u001b[1;33m+\u001b[0m \u001b[1;34m'/untitled folder/'\u001b[0m \u001b[1;33m+\u001b[0m\u001b[0;31m \u001b[0m\u001b[0;31m\\\u001b[0m\u001b[1;33m\u001b[0m\u001b[1;33m\u001b[0m\u001b[0m\n\u001b[0;32m     18\u001b[0m                               \u001b[1;33m(\u001b[0m\u001b[1;34m'_encrypted.'\u001b[0m\u001b[1;33m.\u001b[0m\u001b[0mjoin\u001b[0m\u001b[1;33m(\u001b[0m\u001b[0mos\u001b[0m\u001b[1;33m.\u001b[0m\u001b[0mpath\u001b[0m\u001b[1;33m.\u001b[0m\u001b[0mbasename\u001b[0m\u001b[1;33m(\u001b[0m\u001b[0mfilepath\u001b[0m\u001b[1;33m)\u001b[0m\u001b[1;33m.\u001b[0m\u001b[0msplit\u001b[0m\u001b[1;33m(\u001b[0m\u001b[1;34m'.'\u001b[0m\u001b[1;33m)\u001b[0m\u001b[1;33m)\u001b[0m\u001b[1;33m)\u001b[0m\u001b[1;33m\u001b[0m\u001b[1;33m\u001b[0m\u001b[0m\n\u001b[1;32m---> 19\u001b[1;33m                     \u001b[0mresultPdf\u001b[0m \u001b[1;33m=\u001b[0m \u001b[0mopen\u001b[0m\u001b[1;33m(\u001b[0m\u001b[0mnewPath\u001b[0m\u001b[1;33m,\u001b[0m \u001b[1;34m'wb'\u001b[0m\u001b[1;33m)\u001b[0m\u001b[1;33m\u001b[0m\u001b[1;33m\u001b[0m\u001b[0m\n\u001b[0m\u001b[0;32m     20\u001b[0m                     \u001b[0mpdfWriter\u001b[0m\u001b[1;33m.\u001b[0m\u001b[0mwrite\u001b[0m\u001b[1;33m(\u001b[0m\u001b[0mresultPdf\u001b[0m\u001b[1;33m)\u001b[0m\u001b[1;33m\u001b[0m\u001b[1;33m\u001b[0m\u001b[0m\n\u001b[0;32m     21\u001b[0m                     \u001b[0mresultPdf\u001b[0m\u001b[1;33m.\u001b[0m\u001b[0mclose\u001b[0m\u001b[1;33m(\u001b[0m\u001b[1;33m)\u001b[0m\u001b[1;33m\u001b[0m\u001b[1;33m\u001b[0m\u001b[0m\n",
      "\u001b[1;31mFileNotFoundError\u001b[0m: [Errno 2] No such file or directory: 'C:\\\\Users\\\\cti110016\\\\Documents\\\\GitHub\\\\WhaleFall\\\\input/untitled folder/Intro_encrypted.pdf'"
     ]
    }
   ],
   "source": [
    "import os\n",
    "import PyPDF2\n",
    "\n",
    "def encryptPDFs(root, password):\n",
    "    for folder, subfolder, fileList in os.walk(root):\n",
    "        for file in fileList:\n",
    "            if file.endswith('.pdf'):\n",
    "                filepath = os.path.join(os.path.abspath(folder), file)\n",
    "                pdfFileObj = open(filepath, 'rb')\n",
    "                pdfReader = PyPDF2.PdfFileReader(pdfFileObj)\n",
    "\n",
    "                if not pdfReader.isEncrypted:\n",
    "                    pdfWriter = PyPDF2.PdfFileWriter()\n",
    "                    for pageNum in range(pdfReader.numPages):\n",
    "                        pdfWriter.addPage(pdfReader.getPage(pageNum))\n",
    "                    pdfWriter.encrypt(password)\n",
    "                    newPath = os.path.dirname(filepath) + '/untitled folder/' + \\\n",
    "                              ('_encrypted.'.join(os.path.basename(filepath).split('.')))\n",
    "                    resultPdf = open(newPath, 'wb')\n",
    "                    pdfWriter.write(resultPdf)\n",
    "                    resultPdf.close()\n",
    "\n",
    "\n",
    "def decryptPDFs(root, password):\n",
    "    for folder, subfolder, fileList in os.walk(root):\n",
    "        for file in fileList:\n",
    "            if file.endswith('_encrypted.pdf'):\n",
    "                filepath = os.path.join(os.path.abspath(folder), file)\n",
    "                pdfFileObj = open(filepath, 'rb')\n",
    "                pdfReader = PyPDF2.PdfFileReader(pdfFileObj)\n",
    "\n",
    "                if pdfReader.isEncrypted:\n",
    "                    success = pdfReader.decrypt(password)\n",
    "                    \n",
    "                    if success:\n",
    "                        pdfWriter = PyPDF2.PdfFileWriter()\n",
    "                        for pageNum in range(pdfReader.numPages):\n",
    "                            pdfWriter.addPage(pdfReader.getPage(pageNum))\n",
    "                        newPath = os.path.dirname(filepath) + '/' + \\\n",
    "                                ''.join(os.path.basename(filepath).split('_encrypted'))\n",
    "                        resultPdf = open(newPath, 'wb')\n",
    "                        pdfWriter.write(resultPdf)\n",
    "                        resultPdf.close()\n",
    "                    else:\n",
    "                        print('wrong password provided')\n",
    "\n",
    "\n",
    "if __name__ == \"__main__\":\n",
    "\n",
    "    password = input('Enter encryption password: ')\n",
    "    encryptPDFs('.', password)\n",
    "    decryptPDFs('.', password)"
   ]
  },
  {
   "cell_type": "code",
   "execution_count": null,
   "metadata": {},
   "outputs": [],
   "source": []
  }
 ],
 "metadata": {
  "kernelspec": {
   "display_name": "Python 3",
   "language": "python",
   "name": "python3"
  },
  "language_info": {
   "codemirror_mode": {
    "name": "ipython",
    "version": 3
   },
   "file_extension": ".py",
   "mimetype": "text/x-python",
   "name": "python",
   "nbconvert_exporter": "python",
   "pygments_lexer": "ipython3",
   "version": "3.8.5"
  }
 },
 "nbformat": 4,
 "nbformat_minor": 5
}
