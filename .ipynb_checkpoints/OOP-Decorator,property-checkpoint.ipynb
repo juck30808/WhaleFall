{
 "cells": [
  {
   "cell_type": "markdown",
   "id": "0fd0934c",
   "metadata": {},
   "source": [
    "## Decorator\n",
    "\n",
    "Function(a)(-)"
   ]
  },
  {
   "cell_type": "code",
   "execution_count": 2,
   "id": "bbb02b35",
   "metadata": {},
   "outputs": [
    {
     "name": "stdout",
     "output_type": "stream",
     "text": [
      "Now we are using function 'dog_bark'\n",
      "BKBK\n",
      "Now we are using function 'cat_miaow'\n",
      "MewMew\n"
     ]
    }
   ],
   "source": [
    "def print_func_name(func):\n",
    "    def wrap():\n",
    "        print(\"Now we are using function '{}'\".format(func.__name__))\n",
    "        func()\n",
    "    return wrap\n",
    "\n",
    "def dog_bark():\n",
    "    print(\"BKBK\")\n",
    "\n",
    "\n",
    "def cat_miaow():\n",
    "    print(\"MewMew\")\n",
    "\n",
    "\n",
    "if __name__ == \"__main__\":\n",
    "    print_func_name(dog_bark)()  #Decorator fun()()\n",
    "    print_func_name(cat_miaow)()"
   ]
  },
  {
   "cell_type": "code",
   "execution_count": 9,
   "id": "41db3d87",
   "metadata": {},
   "outputs": [
    {
     "name": "stdout",
     "output_type": "stream",
     "text": [
      "I got decorated\n",
      "I am simple\n"
     ]
    }
   ],
   "source": [
    "def make_decorate(func):\n",
    "    def inner_function():\n",
    "        print(\"I got decorated\")\n",
    "        func()\n",
    "    return inner_function\n",
    "\n",
    "def simple_func():\n",
    "    print(\"I am simple\")\n",
    "\n",
    "if __name__ == \"__main__\":\n",
    "    decorator = make_decorate(simple_func)()  #Decorate fun()()\n",
    "    decorator"
   ]
  },
  {
   "cell_type": "markdown",
   "id": "163332f6",
   "metadata": {},
   "source": [
    "## property @"
   ]
  },
  {
   "cell_type": "code",
   "execution_count": 3,
   "id": "7daa0bc2",
   "metadata": {},
   "outputs": [
    {
     "name": "stdout",
     "output_type": "stream",
     "text": [
      "Now use function 'dog_bark'\n",
      "Bark !!!\n",
      "Now use function 'cat_miaow'\n",
      "Miaow ~~~\n"
     ]
    }
   ],
   "source": [
    "def print_func_name(func):\n",
    "    def wrap():\n",
    "        print(\"Now we are using function '{}'\".format(func.__name__))\n",
    "        func()\n",
    "    return wrap\n",
    "\n",
    "@print_func_name  #mean call from print_func_name\n",
    "def dog_bark():\n",
    "    print(\"BKBK\")\n",
    "\n",
    "@print_func_name\n",
    "def cat_miaow():\n",
    "    print(\"MewMew\")\n",
    "\n",
    "\n",
    "if __name__ == \"__main__\":\n",
    "    print_func_name(dog_bark)()  #Decorator\n",
    "    print_func_name(cat_miaow)()"
   ]
  },
  {
   "cell_type": "code",
   "execution_count": 13,
   "id": "44d22aca",
   "metadata": {},
   "outputs": [
    {
     "name": "stdout",
     "output_type": "stream",
     "text": [
      "I got decorated\n",
      "I am simple\n"
     ]
    }
   ],
   "source": [
    "def make_decorate(func):\n",
    "    def inner_function():\n",
    "        print(\"I got decorated\")\n",
    "        func()\n",
    "    return inner_function\n",
    "\n",
    "@make_decorate\n",
    "def simple_func():\n",
    "    print(\"I am simple\")\n",
    "\n",
    "#decorator = make_decorate(simple_func)()  #Decorate fun()()\n",
    "#decorator\n",
    "simple_func()"
   ]
  },
  {
   "cell_type": "code",
   "execution_count": 15,
   "id": "a11e57a0",
   "metadata": {},
   "outputs": [
    {
     "name": "stdout",
     "output_type": "stream",
     "text": [
      "Getting value\n",
      "5\n",
      "Setting value\n",
      "Getting value\n",
      "100\n"
     ]
    }
   ],
   "source": [
    "class Celsius:\n",
    "    def __init__(self,temperature = 0):\n",
    "        self._temperature = temperature\n",
    "    def to_fahrenheit(self):\n",
    "        return (self.temperature * 1.8) +12\n",
    "    \n",
    "    @property\n",
    "    def temperature(self):\n",
    "        print(\"Getting value\")\n",
    "        return self._temperature\n",
    "    \n",
    "    @temperature.setter\n",
    "    def temperature(self,value):\n",
    "        if value < -273:\n",
    "            raise ValueError(\"Tem below -273\")\n",
    "        print(\"Setting value\")\n",
    "        self._temperature = value\n",
    "        \n",
    "c = Celsius(5)\n",
    "print(c.temperature)\n",
    "c.temperature = 100\n",
    "print(c.temperature)"
   ]
  },
  {
   "cell_type": "markdown",
   "id": "4ea15521",
   "metadata": {},
   "source": [
    "## Sample"
   ]
  },
  {
   "cell_type": "code",
   "execution_count": 1,
   "id": "4a2484ad",
   "metadata": {},
   "outputs": [
    {
     "name": "stdout",
     "output_type": "stream",
     "text": [
      "Hi, I got decorated\n",
      "Hi, I'm theNormal\n"
     ]
    },
    {
     "data": {
      "text/plain": [
       "'\\nEquivalent to\\npret1 = new_pretty(theNormal)\\npret1()\\n'"
      ]
     },
     "execution_count": 1,
     "metadata": {},
     "output_type": "execute_result"
    }
   ],
   "source": [
    "def new_pretty(func):\n",
    "    def new_inner():\n",
    "        print(\"Hi, I got decorated\")\n",
    "        func()\n",
    "    return new_inner\n",
    "\n",
    "# decorating function\n",
    "@new_pretty\n",
    "def theNormal():\n",
    "    print(\"Hi, I'm theNormal\")\n",
    "\n",
    "theNormal()\n",
    "\n",
    "\"\"\"\n",
    "Equivalent to\n",
    "pret1 = new_pretty(theNormal)\n",
    "pret1()\n",
    "\"\"\""
   ]
  },
  {
   "cell_type": "code",
   "execution_count": 2,
   "id": "1fe0728e",
   "metadata": {},
   "outputs": [
    {
     "name": "stdout",
     "output_type": "stream",
     "text": [
      "We're going to divide 3 and 0\n",
      "Sorry, cannot divide\n"
     ]
    }
   ],
   "source": [
    "# a simple division function\n",
    "# def division(x, y):\n",
    "#     return x/y\n",
    "\n",
    "# # print(division(3, 7))\n",
    "# print(division(3, 0))\n",
    "\n",
    "def best_division(func):\n",
    "    def inner(x, y):\n",
    "        print(\"We're going to divide\", x, \"and\", y)\n",
    "        if y == 0:\n",
    "            print(\"Sorry, cannot divide\")\n",
    "            return\n",
    "        return func(x, y)\n",
    "    return inner\n",
    "\n",
    "@best_division\n",
    "def division(x, y):\n",
    "    print(x/y)\n",
    "\n",
    "# division(3, 7)\n",
    "division(3, 0)\n"
   ]
  },
  {
   "cell_type": "code",
   "execution_count": 3,
   "id": "62aa4ecb",
   "metadata": {},
   "outputs": [
    {
     "name": "stdout",
     "output_type": "stream",
     "text": [
      "-----------------------------------\n",
      "***********************************\n",
      "Python is so cool\n",
      "***********************************\n",
      "-----------------------------------\n"
     ]
    }
   ],
   "source": [
    "# Multiple decorators can be chained in Python\n",
    "def starting(func):\n",
    "    def inner(*args, **kwargs):\n",
    "        print(\"-\" * 35)\n",
    "        func(*args, **kwargs)\n",
    "        print(\"-\" * 35)\n",
    "    return inner\n",
    "\n",
    "def astriskNew(func):\n",
    "    def inner(*args, **kwargs):\n",
    "        print(\"*\" * 35)\n",
    "        func(*args, **kwargs)\n",
    "        print(\"*\" * 35)\n",
    "    return inner\n",
    "\n",
    "@starting\n",
    "@astriskNew\n",
    "def displaying(txt):\n",
    "    print(txt)\n",
    "\n",
    "displaying(\"Python is so cool\")"
   ]
  },
  {
   "cell_type": "code",
   "execution_count": 7,
   "id": "a89e7da6",
   "metadata": {},
   "outputs": [
    {
     "name": "stdout",
     "output_type": "stream",
     "text": [
      "0\n",
      "1\n",
      "2\n",
      "3\n"
     ]
    },
    {
     "ename": "StopIteration",
     "evalue": "",
     "output_type": "error",
     "traceback": [
      "\u001b[1;31m---------------------------------------------------------------------------\u001b[0m",
      "\u001b[1;31mStopIteration\u001b[0m                             Traceback (most recent call last)",
      "\u001b[1;32m~\\AppData\\Local\\Temp/ipykernel_13072/1107164606.py\u001b[0m in \u001b[0;36m<module>\u001b[1;34m\u001b[0m\n\u001b[0;32m     12\u001b[0m \u001b[0mprint\u001b[0m\u001b[1;33m(\u001b[0m\u001b[0mnext\u001b[0m\u001b[1;33m(\u001b[0m\u001b[0mnewSeq\u001b[0m\u001b[1;33m)\u001b[0m\u001b[1;33m)\u001b[0m \u001b[1;31m# 2\u001b[0m\u001b[1;33m\u001b[0m\u001b[1;33m\u001b[0m\u001b[0m\n\u001b[0;32m     13\u001b[0m \u001b[0mprint\u001b[0m\u001b[1;33m(\u001b[0m\u001b[0mnext\u001b[0m\u001b[1;33m(\u001b[0m\u001b[0mnewSeq\u001b[0m\u001b[1;33m)\u001b[0m\u001b[1;33m)\u001b[0m \u001b[1;31m# 3\u001b[0m\u001b[1;33m\u001b[0m\u001b[1;33m\u001b[0m\u001b[0m\n\u001b[1;32m---> 14\u001b[1;33m \u001b[0mprint\u001b[0m\u001b[1;33m(\u001b[0m\u001b[0mnext\u001b[0m\u001b[1;33m(\u001b[0m\u001b[0mnewSeq\u001b[0m\u001b[1;33m)\u001b[0m\u001b[1;33m)\u001b[0m \u001b[1;31m# StopIteration\u001b[0m\u001b[1;33m\u001b[0m\u001b[1;33m\u001b[0m\u001b[0m\n\u001b[0m",
      "\u001b[1;31mStopIteration\u001b[0m: "
     ]
    }
   ],
   "source": [
    "# Using generator with For Loop\n",
    "def upTo(i):\n",
    "    for x in range(i):\n",
    "        yield x\n",
    "\n",
    "\n",
    "# get a sequence up to \n",
    "newSeq = upTo(4)\n",
    "\n",
    "print(next(newSeq)) # 0\n",
    "print(next(newSeq)) # 1\n",
    "print(next(newSeq)) # 2\n",
    "print(next(newSeq)) # 3\n",
    "print(next(newSeq)) # StopIteration"
   ]
  },
  {
   "cell_type": "code",
   "execution_count": null,
   "id": "f7e0887b",
   "metadata": {},
   "outputs": [],
   "source": []
  }
 ],
 "metadata": {
  "kernelspec": {
   "display_name": "Python 3 (ipykernel)",
   "language": "python",
   "name": "python3"
  },
  "language_info": {
   "codemirror_mode": {
    "name": "ipython",
    "version": 3
   },
   "file_extension": ".py",
   "mimetype": "text/x-python",
   "name": "python",
   "nbconvert_exporter": "python",
   "pygments_lexer": "ipython3",
   "version": "3.9.7"
  }
 },
 "nbformat": 4,
 "nbformat_minor": 5
}
