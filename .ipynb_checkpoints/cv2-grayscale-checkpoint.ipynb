{
 "cells": [
  {
   "cell_type": "code",
   "execution_count": 4,
   "id": "69a6f961",
   "metadata": {},
   "outputs": [
    {
     "name": "stdout",
     "output_type": "stream",
     "text": [
      "Collecting opencv-python\n",
      "  Downloading opencv_python-4.6.0.66-cp36-abi3-win_amd64.whl (35.6 MB)\n",
      "Requirement already satisfied: numpy>=1.17.3 in c:\\users\\cti110016\\anaconda3\\lib\\site-packages (from opencv-python) (1.20.3)\n",
      "Installing collected packages: opencv-python\n",
      "Successfully installed opencv-python-4.6.0.66\n",
      "Note: you may need to restart the kernel to use updated packages.\n"
     ]
    }
   ],
   "source": [
    "pip install opencv-python"
   ]
  },
  {
   "cell_type": "code",
   "execution_count": 12,
   "id": "b88b110b",
   "metadata": {},
   "outputs": [
    {
     "name": "stdout",
     "output_type": "stream",
     "text": [
      "000000000001100001100000000000\n",
      "000000000001100001100000000000\n",
      "000000000001100001100000000000\n",
      "000001000001100001100000100000\n",
      "000011100001100001100001010000\n",
      "000101110001100001100010111000\n",
      "000010111001100001100101110000\n",
      "000001011101100001101011100000\n",
      "000000101111100001110111000000\n",
      "000000010111100001101110000000\n",
      "000000001011100001111100000000\n",
      "111111111111100001111111111111\n",
      "111111111111100001111111111111\n",
      "000000000000000000000000000000\n",
      "000000000000000000000000000000\n",
      "000000000000000000000000000000\n",
      "000000000000000000000000000000\n",
      "111111111111100001111111111111\n",
      "111111111111100001111111111111\n",
      "000000001111100001110100000000\n",
      "000000011101100001111010000000\n",
      "000000111011100001111101000000\n",
      "000001110101100001101110100000\n",
      "000011101001100001100111010000\n",
      "000111010001100001100011101000\n",
      "000010100001100001100001110000\n",
      "000001000001100001100000100000\n",
      "000000000001100001100000000000\n",
      "000000000001100001100000000000\n",
      "000000000001100001100000000000\n",
      "\n"
     ]
    }
   ],
   "source": [
    "import cv2\n",
    "ascii_char = list(\"01\") # 可以自己改成想要標記的符號\n",
    "\n",
    "imgs = r\"input/icon/united-kingdom.png\"\n",
    "WIDTH = 30 # 寬\n",
    "HEIGHT = 30 # 高\n",
    "\n",
    "def get_char(gray_value):\n",
    "    length = len(ascii_char) # 根據傳進來的灰階值判斷此位置要使用哪個字元\n",
    "    unit = 256.0 / length    # 區分灰階範圍\n",
    "    return ascii_char[int(gray_value / unit)]\n",
    "\n",
    "if __name__ == '__main__':\n",
    "    img = cv2.imread(imgs, cv2.IMREAD_GRAYSCALE) # 將圖片自動轉為灰階圖片\n",
    "    img = cv2.resize(img, (WIDTH, HEIGHT))       # 將灰階圖縮小成指定大小\n",
    "    txt = \"\"\n",
    "    for i in range(HEIGHT):\n",
    "        for j in range(WIDTH):\n",
    "            txt += get_char(img[i][j])  # 轉為指定字符\n",
    "        txt += '\\n'\n",
    "    print(txt)"
   ]
  },
  {
   "cell_type": "code",
   "execution_count": null,
   "id": "0299ea32",
   "metadata": {},
   "outputs": [],
   "source": []
  }
 ],
 "metadata": {
  "kernelspec": {
   "display_name": "Python 3 (ipykernel)",
   "language": "python",
   "name": "python3"
  },
  "language_info": {
   "codemirror_mode": {
    "name": "ipython",
    "version": 3
   },
   "file_extension": ".py",
   "mimetype": "text/x-python",
   "name": "python",
   "nbconvert_exporter": "python",
   "pygments_lexer": "ipython3",
   "version": "3.9.7"
  }
 },
 "nbformat": 4,
 "nbformat_minor": 5
}
