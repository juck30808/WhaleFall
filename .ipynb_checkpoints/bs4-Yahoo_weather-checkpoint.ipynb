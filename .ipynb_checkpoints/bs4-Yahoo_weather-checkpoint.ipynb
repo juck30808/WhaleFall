{
 "cells": [
  {
   "cell_type": "markdown",
   "metadata": {},
   "source": [
    "# WebCrawler_Yahoo_weather\n",
    "##  Yahoo氣象\n",
    "https://tw.news.yahoo.com/weather/%E8%87%BA%E7%81%A3/%E8%87%BA%E5%8C%97%E5%B8%82/%E8%87%BA%E5%8C%97%E5%B8%82-2306179"
   ]
  },
  {
   "cell_type": "code",
   "execution_count": 11,
   "metadata": {},
   "outputs": [],
   "source": [
    "from bs4 import BeautifulSoup\n",
    "from urllib.parse import unquote\n",
    "import urllib\n",
    "import urllib.request\n",
    "import os\n",
    "import string\n",
    "\n",
    "\n",
    "\n",
    "#catch all web in html_doc\n",
    "url = 'https://tw.news.yahoo.com/weather/%E8%87%BA%E7%81%A3/%E8%87%BA%E5%8C%97%E5%B8%82/%E8%87%BA%E5%8C%97%E5%B8%82-2306179'\n",
    "headers = {'User-Agent':'Mozilla/5.0 (Windows NT 6.1; WOW64; rv:23.0) Gecko/20100101 Firefox/23.0'}\n",
    "req = urllib.request.Request(url= urllib.parse.quote(url, safe=string.printable), \n",
    "                             headers=headers)\n",
    "html_doc = urllib.request.urlopen(req).read()\n",
    "soup = BeautifulSoup(html_doc, 'html.parser')\n",
    "#print(soup.prettify())    #sort use\n",
    "#print(soup.head.title)    #catch head with title \n",
    "#print(soup.title.string)  #catch only string\n",
    "\n",
    "# big div class\n",
    "main_tag = soup.find('div',class_='accordion Ov(h) Trsdu(.42s) daily')\n",
    "item_tags = main_tag.find_all('div', class_='BdB Bds(d) Bdbc(#fff.12) Fz(1.2em) Py(2px) O(0) Pos(r) forecast-item')\n",
    "#print(item_tags)\n",
    "\n",
    "#catch span_tags\n",
    "for item_tag in item_tags:\n",
    "    span_tags = item_tag.find_all('span')\n",
    "    print(span_tags[0].getText(),\n",
    "          \"|\", span_tags[1].find('img')['alt'],\" | \", \n",
    "          span_tags[2].find('img')['alt'].split(':'),\n",
    "          '高溫', span_tags[6].getText(),'低溫', span_tags[7].getText()\n",
    "         )"
   ]
  },
  {
   "cell_type": "markdown",
   "metadata": {},
   "source": [
    "# 執行流程 Process"
   ]
  },
  {
   "cell_type": "code",
   "execution_count": 12,
   "metadata": {},
   "outputs": [
    {
     "data": {
      "text/plain": [
       "datetime.date(2021, 12, 20)"
      ]
     },
     "execution_count": 12,
     "metadata": {},
     "output_type": "execute_result"
    }
   ],
   "source": [
    "import datetime\n",
    "datetime.date.today()"
   ]
  },
  {
   "cell_type": "code",
   "execution_count": 13,
   "metadata": {
    "scrolled": false
   },
   "outputs": [],
   "source": [
    "from bs4 import BeautifulSoup\n",
    "from urllib.parse import unquote\n",
    "import urllib\n",
    "import urllib.request\n",
    "import os\n",
    "import string\n",
    "\n",
    "url = 'https://tw.news.yahoo.com/weather/%E8%87%BA%E7%81%A3/%E8%87%BA%E5%8C%97%E5%B8%82/%E8%87%BA%E5%8C%97%E5%B8%82-2306179'\n",
    "headers = {'User-Agent':'Mozilla/5.0 (Windows NT 6.1; WOW64; rv:23.0) Gecko/20100101 Firefox/23.0'}\n",
    "req = urllib.request.Request(url= urllib.parse.quote(url, safe=string.printable), headers=headers)\n",
    "html_doc = urllib.request.urlopen(req).read()\n",
    "soup = BeautifulSoup(html_doc, 'html.parser')\n",
    "main_tag = soup.find('div',class_='accordion Ov(h) Trsdu(.42s) daily')\n",
    "#main_tag"
   ]
  },
  {
   "cell_type": "code",
   "execution_count": 14,
   "metadata": {},
   "outputs": [
    {
     "data": {
      "text/plain": [
       "[<div class=\"D(ib) Va(m) W(1/4)\" data-reactid=\"195\"><span data-reactid=\"196\">星期一</span></div>,\n",
       " <div class=\"D(ib) Va(m) W(1/4)\" data-reactid=\"213\"><span data-reactid=\"214\">星期二</span></div>,\n",
       " <div class=\"D(ib) Va(m) W(1/4)\" data-reactid=\"231\"><span data-reactid=\"232\">星期三</span></div>,\n",
       " <div class=\"D(ib) Va(m) W(1/4)\" data-reactid=\"249\"><span data-reactid=\"250\">星期四</span></div>,\n",
       " <div class=\"D(ib) Va(m) W(1/4)\" data-reactid=\"267\"><span data-reactid=\"268\">星期五</span></div>,\n",
       " <div class=\"D(ib) Va(m) W(1/4)\" data-reactid=\"285\"><span data-reactid=\"286\">星期六</span></div>,\n",
       " <div class=\"D(ib) Va(m) W(1/4)\" data-reactid=\"303\"><span data-reactid=\"304\">星期日</span></div>,\n",
       " <div class=\"D(ib) Va(m) W(1/4)\" data-reactid=\"321\"><span data-reactid=\"322\">星期一</span></div>,\n",
       " <div class=\"D(ib) Va(m) W(1/4)\" data-reactid=\"339\"><span data-reactid=\"340\">星期二</span></div>,\n",
       " <div class=\"D(ib) Va(m) W(1/4)\" data-reactid=\"357\"><span data-reactid=\"358\">星期三</span></div>]"
      ]
     },
     "execution_count": 14,
     "metadata": {},
     "output_type": "execute_result"
    }
   ],
   "source": [
    "tag = soup.find_all('div',class_='D(ib) Va(m) W(1/4)') #catch all\n",
    "#tag = soup.find('div',class_='D(ib) Va(m) W(1/4)')    #cath 1 \n",
    "tag"
   ]
  },
  {
   "cell_type": "code",
   "execution_count": 7,
   "metadata": {},
   "outputs": [
    {
     "data": {
      "text/plain": [
       "<div class=\"BdB Bds(d) Bdbc(#fff.12) Fz(1.2em) Py(2px) O(0) Pos(r) forecast-item\" data-reactid=\"194\" role=\"row\" tabindex=\"0\"><div class=\"D(ib) Va(m) W(1/4)\" data-reactid=\"195\"><span data-reactid=\"196\">星期四</span></div><span class=\"D(ib) Va(m) W(1/4) Ta(c)\" data-code=\"11\" data-reactid=\"197\"><img alt=\"陣雨\" class=\"\" data-reactid=\"198\" height=\"32\" src=\"https://s.yimg.com/os/weather/1.0.1/shadow_icon/60x60/rain_day_night@2x.png\" title=\"陣雨\" width=\"32\"/></span><span class=\"D(ib) Va(m) W(1/4) Fz(12px)\" data-reactid=\"199\"><span class=\"D(ib) Mstart(1/3)\" data-reactid=\"200\"><img alt=\"降雨機率: 55%\" class=\"\" data-reactid=\"201\" height=\"24\" src=\"https://s.yimg.com/os/weather/1.0.1/precipitation/54x60/rain_ico_50@2x.png\" width=\"24\"/><span class=\"M(5px) D(ib)\" data-reactid=\"202\"><!-- react-text: 203 -->55<!-- /react-text --><!-- react-text: 204 -->%<!-- /react-text --></span></span></span><span class=\"D(ib) Va(m) W(1/4) Ta(end)\" data-reactid=\"205\"><span class=\"high D(ib) Miw(32px)\" data-reactid=\"206\"><!-- react-text: 207 -->14<!-- /react-text --><!-- react-text: 208 -->°<!-- /react-text --></span><span class=\"low Pstart(10px) C(#a5d6ff) D(ib) Miw(32px)\" data-reactid=\"209\"><!-- react-text: 210 -->9<!-- /react-text --><!-- react-text: 211 -->°<!-- /react-text --></span></span></div>"
      ]
     },
     "execution_count": 7,
     "metadata": {},
     "output_type": "execute_result"
    }
   ],
   "source": [
    "item_tags = main_tag.find_all('div', class_='BdB Bds(d) Bdbc(#fff.12) Fz(1.2em) Py(2px) O(0) Pos(r) forecast-item')\n",
    "item_tags[0]"
   ]
  },
  {
   "cell_type": "code",
   "execution_count": 8,
   "metadata": {},
   "outputs": [],
   "source": [
    "item_tag = item_tags[0]\n",
    "span_tags = item_tag.find_all('span')\n",
    "#span_tags"
   ]
  },
  {
   "cell_type": "code",
   "execution_count": 9,
   "metadata": {},
   "outputs": [
    {
     "data": {
      "text/plain": [
       "'星期四'"
      ]
     },
     "execution_count": 9,
     "metadata": {},
     "output_type": "execute_result"
    }
   ],
   "source": [
    "#span_tags[0]\n",
    "span_tags[0].getText() #newest"
   ]
  },
  {
   "cell_type": "code",
   "execution_count": 10,
   "metadata": {},
   "outputs": [
    {
     "data": {
      "text/plain": [
       "'陣雨'"
      ]
     },
     "execution_count": 10,
     "metadata": {},
     "output_type": "execute_result"
    }
   ],
   "source": [
    "#span_tags[1].find('img')\n",
    "span_tags[1].find('img')['alt']"
   ]
  },
  {
   "cell_type": "code",
   "execution_count": 11,
   "metadata": {},
   "outputs": [
    {
     "data": {
      "text/plain": [
       "'降雨機率: 55%'"
      ]
     },
     "execution_count": 11,
     "metadata": {},
     "output_type": "execute_result"
    }
   ],
   "source": [
    "#span_tags[2]\n",
    "span_tags[2].find('img')['alt']"
   ]
  },
  {
   "cell_type": "code",
   "execution_count": 12,
   "metadata": {},
   "outputs": [
    {
     "data": {
      "text/plain": [
       "['降雨機率', ' 55%']"
      ]
     },
     "execution_count": 12,
     "metadata": {},
     "output_type": "execute_result"
    }
   ],
   "source": [
    "span_tags[2].find('img')['alt'].split(':')"
   ]
  },
  {
   "cell_type": "code",
   "execution_count": 13,
   "metadata": {},
   "outputs": [
    {
     "name": "stdout",
     "output_type": "stream",
     "text": [
      "14° - 9°\n"
     ]
    }
   ],
   "source": [
    "#span_tags[6]\n",
    "print(span_tags[6].getText(),\"-\",span_tags[7].getText())"
   ]
  },
  {
   "cell_type": "markdown",
   "metadata": {},
   "source": [
    "# 計算未來十天的最高氣溫與最低氣溫"
   ]
  },
  {
   "cell_type": "code",
   "execution_count": 14,
   "metadata": {},
   "outputs": [
    {
     "name": "stdout",
     "output_type": "stream",
     "text": [
      "未來十天最低溫度 7\n",
      "未來十天最高溫度 21\n"
     ]
    }
   ],
   "source": [
    "from bs4 import BeautifulSoup\n",
    "from urllib.parse import unquote\n",
    "import urllib\n",
    "import urllib.request\n",
    "import os\n",
    "import string\n",
    "\n",
    "tem = []\n",
    "for item_tag in item_tags:\n",
    "    span_tags = item_tag.find_all('span')\n",
    "    w1 = span_tags[6].getText().replace('°','')\n",
    "    w2 = span_tags[7].getText().replace('°','')\n",
    "    tem.append(int(w1))\n",
    "    tem.append(int(w2))\n",
    "    \n",
    "tem.sort()\n",
    "print('未來十天最低溫度', tem[0])  #min(tem)\n",
    "print('未來十天最高溫度', tem[-1]) #max(tem)\n"
   ]
  },
  {
   "cell_type": "code",
   "execution_count": null,
   "metadata": {},
   "outputs": [],
   "source": []
  }
 ],
 "metadata": {
  "kernelspec": {
   "display_name": "Python 3 (ipykernel)",
   "language": "python",
   "name": "python3"
  },
  "language_info": {
   "codemirror_mode": {
    "name": "ipython",
    "version": 3
   },
   "file_extension": ".py",
   "mimetype": "text/x-python",
   "name": "python",
   "nbconvert_exporter": "python",
   "pygments_lexer": "ipython3",
   "version": "3.9.7"
  }
 },
 "nbformat": 4,
 "nbformat_minor": 4
}
