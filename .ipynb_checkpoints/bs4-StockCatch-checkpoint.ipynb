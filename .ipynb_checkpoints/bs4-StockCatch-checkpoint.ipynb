{
 "cells": [
  {
   "cell_type": "markdown",
   "metadata": {},
   "source": [
    "## Stock catch"
   ]
  },
  {
   "cell_type": "markdown",
   "metadata": {},
   "source": [
    "點選 Header，看 General 的 Request URL 及 Method 與 Response Headers 的 Content-Type 可以知道：\n",
    "https://ithelp.ithome.com.tw/upload/images/20211006/20139358GVxM0ylTC2.png\n",
    "\n",
    "- URL：https://www.twse.com.tw/exchangeReport/STOCK_DAY。\n",
    "- 必要 Query：response=json&date=20211006&stockNo=2330。所以可以根據需求在 Query 的 response、date、stockNo 代入想要的值。\n",
    "- HTTP Method 是 GET。\n",
    "- Headers 的 Content-Type：application/json;charset=UTF-8 所以格式是 JSON，編碼為 UTF-8。\n",
    "- 另外我們也知道了，不管我們 Query 的 date 是幾號，他的 server 是整個月份的日成交資訊都回給你，這點要注意一下喔！"
   ]
  },
  {
   "attachments": {
    "image.png": {
     "image/png": "[encoded data removed]"
    }
   },
   "cell_type": "markdown",
   "metadata": {},
   "source": [
    "![image.png](attachment:image.png)"
   ]
  },
  {
   "cell_type": "code",
   "execution_count": null,
   "metadata": {},
   "outputs": [],
   "source": [
    "# https://www.twse.com.tw/zh/page/trading/exchange/STOCK_DAY.html"
   ]
  },
  {
   "cell_type": "code",
   "execution_count": null,
   "metadata": {
    "scrolled": true
   },
   "outputs": [],
   "source": [
    "import requests\n",
    "\n",
    "url = \"https://www.twse.com.tw/exchangeReport/STOCK_DAY\"\n",
    "\n",
    "# \n",
    "res = requests.get(url, params={\n",
    "    \"response\": \"json\",\n",
    "    \"date\": \"20211006\",\n",
    "    \"stockNo\": \"2330\"\n",
    "})\n",
    "\n",
    "# 把 JSON 轉成 Python 可存取之型態\n",
    "res_json = res.json()\n",
    "\n",
    "# 我們要的每日成交資訊在 data 這個欄位\n",
    "daily_price_list = res_json.get(\"data\", [])\n",
    "\n",
    "# 該欄位是 List 所以用 for 迴圈印出\n",
    "for daily_price in daily_price_list:\n",
    "    print(daily_price)"
   ]
  },
  {
   "cell_type": "markdown",
   "metadata": {},
   "source": [
    "## Stock catch 2"
   ]
  },
  {
   "cell_type": "markdown",
   "metadata": {},
   "source": [
    "根據前篇得到的資訊：\n",
    "\n",
    "- URL：https://isin.twse.com.tw/isin/class_main.jsp。\n",
    "- 必要的 Query：market=1&issuetype=1&Page=1&chklike=Y。\n",
    "- 所以可以根據需求在 Query 的 market、issuetype、Page、chklike 代入自己要的值。\n",
    "- HTTP Method 是 GET。\n",
    "- Content-Type：text/html;charset=MS950，所以格式是 HTML，編碼為 MS950。"
   ]
  },
  {
   "cell_type": "code",
   "execution_count": null,
   "metadata": {},
   "outputs": [],
   "source": [
    "# project2\n",
    "# pip install beautifulsoup4\n",
    "# pip install lxml"
   ]
  },
  {
   "cell_type": "code",
   "execution_count": null,
   "metadata": {},
   "outputs": [],
   "source": [
    "from bs4 import BeautifulSoup\n",
    "html = \"<html>test test test</html>\"\n",
    "soup = BeautifulSoup(html, \"lxml\")\n",
    "soup"
   ]
  },
  {
   "cell_type": "code",
   "execution_count": null,
   "metadata": {
    "scrolled": true
   },
   "outputs": [],
   "source": [
    "from bs4 import BeautifulSoup\n",
    "html = \"<title>example1</title><title>example2</title>\"\n",
    "soup = BeautifulSoup(html, \"lxml\")\n",
    "\n",
    "# find_all() 會搜尋整個 html 回傳符合的值\n",
    "print(soup.find_all(\"title\"))\n",
    "# [<title>example1</title>, <title>example2</title>]\n",
    "\n",
    "# find() 只會回傳\"第一個\"符合的值\n",
    "print(soup.find(\"title\"))\n",
    "# <title>example1</title>\n",
    "\n",
    "# 拿取 tag 之間的 text\n",
    "print(soup.find(\"title\").text)\n",
    "# example1\n"
   ]
  },
  {
   "cell_type": "code",
   "execution_count": null,
   "metadata": {},
   "outputs": [],
   "source": [
    "import json\n",
    "import requests\n",
    "from bs4 import BeautifulSoup\n",
    "# index constant，數字代表我們要的資料在 list 的位置\n",
    "TARGET_TABLE_INDEX = 1\n",
    "STOCK_NO_INDEX = 2\n",
    "STOCK_NAME_INDEX = 3\n",
    "STOCK_INDUSTRY_INDEX = 6\n",
    "\n",
    "# JSON settings\n",
    "TITLE = \"stock\"\n",
    "JSON_INDENT = 4\n",
    "\n",
    "# HTTP Request\n",
    "url = \"https://isin.twse.com.tw/isin/class_main.jsp\"\n",
    "res = requests.get(url, params={\n",
    "    \"market\": \"1\",\n",
    "    \"issuetype\": \"1\",\n",
    "    \"Page\": \"1\",\n",
    "    \"chklike\": \"Y\"\n",
    "})\n",
    "\n",
    "# 處理編碼，使用預設 utf-8 的話 res.text 的內容會有亂碼\n",
    "res.encoding = \"MS950\"\n",
    "res_html = res.text\n",
    "\n",
    "# Parse\n",
    "soup = BeautifulSoup(res_html, \"lxml\")\n",
    "\n",
    "# HTML 裡面有兩張 table\n",
    "tr_list = soup.find_all(\"table\")[TARGET_TABLE_INDEX].find_all(\"tr\") #find_all(\"table\") 回傳的 list length 是 2\n",
    "tr_list.pop(0)  # item 是欄位名稱用不到所以 pop 掉\n",
    "\n",
    "# 開始處理資料\n",
    "result = []\n",
    "for tr in tr_list:\n",
    "    td_list = tr.find_all(\"td\")\n",
    "    stock_no_val = td_list[STOCK_NO_INDEX].text  #Num\n",
    "    stock_name_val = td_list[STOCK_NAME_INDEX].text #Name\n",
    "    stock_industry_val = td_list[STOCK_INDUSTRY_INDEX].text #Industry\n",
    "\n",
    "    # Save to dict\n",
    "    result.append({\n",
    "        \"stockNo\": stock_no_val,\n",
    "        \"stockName\": stock_name_val,\n",
    "        \"stockIndustry\": stock_industry_val\n",
    "    })\n",
    "\n",
    "#Download\n",
    "stock_list_dict = {TITLE: result}\n",
    "with open(\"stock_info_list.json\", \"w\", encoding=\"utf-8\") as f:\n",
    "    f.write(json.dumps(stock_list_dict, indent=JSON_INDENT, ensure_ascii=False))"
   ]
  },
  {
   "cell_type": "markdown",
   "metadata": {},
   "source": [
    "## User-Agent  Change 偽裝"
   ]
  },
  {
   "cell_type": "markdown",
   "metadata": {},
   "source": [
    "F12 -> Network -> Request -> Headers -> User Agent"
   ]
  },
  {
   "cell_type": "code",
   "execution_count": null,
   "metadata": {},
   "outputs": [],
   "source": [
    "import requests\n",
    "res = requests.get(\"https://www.google.com/\")  #your browser\n",
    "print(res.request.headers)"
   ]
  },
  {
   "cell_type": "code",
   "execution_count": null,
   "metadata": {},
   "outputs": [],
   "source": [
    "# pip install fake-useragent"
   ]
  },
  {
   "cell_type": "code",
   "execution_count": null,
   "metadata": {},
   "outputs": [],
   "source": [
    "# Sned Request User-agent。\n",
    "from fake_useragent import UserAgent\n",
    "ua = UserAgent()\n",
    "\n",
    "# browser User-Agent\n",
    "ua.ie\n",
    "ua.google\n",
    "ua.firefox\n",
    "ua.safari\n",
    "ua.random"
   ]
  },
  {
   "cell_type": "code",
   "execution_count": null,
   "metadata": {},
   "outputs": [],
   "source": [
    "import requests\n",
    "from fake_useragent import UserAgent\n",
    "\n",
    "ua = UserAgent()\n",
    "res = requests.get(\"https://www.google.com/\", headers={\n",
    "    \"User-Agent\": ua.random\n",
    "})\n",
    "\n",
    "print(res.request.headers)"
   ]
  },
  {
   "cell_type": "markdown",
   "metadata": {},
   "source": [
    "## multithreading"
   ]
  },
  {
   "cell_type": "code",
   "execution_count": null,
   "metadata": {},
   "outputs": [],
   "source": [
    "import time\n",
    "def req1():\n",
    "    print(\"req1: 開始送 request\") \n",
    "    time.sleep(3)\n",
    "    print(\"req1: 接收到 response\") \n",
    "def req2():\n",
    "    print(\"req2: 開始送 request\") \n",
    "    time.sleep(3)\n",
    "    print(\"req2: 接收到 response\")\n",
    "\n",
    "if __name__ == '__main__':\n",
    "    req1()\n",
    "    req2()"
   ]
  },
  {
   "cell_type": "code",
   "execution_count": null,
   "metadata": {},
   "outputs": [],
   "source": [
    "# import python 的多執行緒套件\n",
    "import time\n",
    "from threading import Thread\n",
    "\n",
    "def req1():\n",
    "    print(\"req1: 開始送 request\") \n",
    "    time.sleep(3)\n",
    "    print(\"req1: 接收到 response\") \n",
    "\n",
    "def req2():\n",
    "    print(\"req2: 開始送 request\") \n",
    "    time.sleep(3)\n",
    "    print(\"req2: 接收到 response\")\n",
    "\n",
    "if __name__ == '__main__':\n",
    "    # 先將 funtion 包裝成 thread 的物件，再執行\n",
    "    Thread(target=req1).start()\n",
    "    Thread(target=req2).start()"
   ]
  },
  {
   "cell_type": "code",
   "execution_count": null,
   "metadata": {},
   "outputs": [],
   "source": [
    "import time\n",
    "import requests\n",
    "from threading import Thread\n",
    "\n",
    "# 將流程先用 function 封裝起來，接下來才能帶入 thread 中\n",
    "def daily_price_req(date, stock_no):\n",
    "    res = requests.get(\"https://www.twse.com.tw/exchangeReport/STOCK_DAY\",\n",
    "                       params={\n",
    "                           \"response\": \"json\",\n",
    "                           \"date\": date,\n",
    "                           \"stockNo\": stock_no\n",
    "                       })\n",
    "\n",
    "    # 把 JSON 轉成 Python 可存取之型態\n",
    "    res_json = res.json()\n",
    "\n",
    "    # 我們要的每日成交資訊在 data 這個欄位\n",
    "    daily_price_list = res_json['data']\n",
    "\n",
    "    # 印出資料\n",
    "    print(\"{} 每日成交資訊: {}\".format(stock_no, daily_price_list))\n",
    "\n",
    "\n",
    "if __name__ == '__main__':\n",
    "    # 日期什麼的，可以依照需求設定\n",
    "    req_info_list = [\n",
    "        {\n",
    "            \"date\": \"20211011\",\n",
    "            \"stockNo\": \"2330\"\n",
    "        },\n",
    "        {\n",
    "            \"date\": \"20211011\",\n",
    "            \"stockNo\": \"2603\"\n",
    "        },\n",
    "        {\n",
    "            \"date\": \"20211011\",\n",
    "            \"stockNo\": \"2609\"\n",
    "        }\n",
    "    ]\n",
    "\n",
    "    for req_info in req_info_list:\n",
    "        req_date = req_info.get(\"date\")\n",
    "        req_stock_no = req_info.get(\"stockNo\")\n",
    "        if req_date and req_stock_no:\n",
    "            # args 為 function 會用到的參數\n",
    "            req_thread = Thread(target=daily_price_req,\n",
    "                                args=(req_date, req_stock_no))\n",
    "            req_thread.start()\n",
    "\n",
    "            # 每個 req 間隔最好 3 秒以上，不然會被證交所鎖 IP 一段時間\n",
    "            time.sleep(3)"
   ]
  },
  {
   "cell_type": "code",
   "execution_count": null,
   "metadata": {
    "scrolled": true
   },
   "outputs": [],
   "source": [
    "req_thread_list = []\n",
    "for req_info in req_info_list:\n",
    "        req_date = req_info.get(\"date\")\n",
    "        req_stock_no = req_info.get(\"stockNo\")\n",
    "        if req_date and req_stock_no:\n",
    "            req_thread = Thread(target=daily_price_req,\n",
    "                                args=(req_date, req_stock_no))\n",
    "            req_thread.start()\n",
    "            req_thread_list.append(req_thread)\n",
    "\n",
    "            # 每個 req 間隔最好 3 秒以上，不然會被證交所鎖 IP 一段時間\n",
    "            time.sleep(3)\n",
    "\n",
    "for req_thread in req_thread_list:\n",
    "    # join() 就是讓程式等著，確定該 thread 已經執行完畢之後再繼續往下\n",
    "    # 所以這邊的用法是說：\n",
    "    # 我的程式會在這邊等所有 req thread（daily_price_req 裡的那些動作）都執行完畢後再往下做\n",
    "    req_thread.join()\n",
    "\n",
    "# do something...\n",
    "print(\"Ending...\")"
   ]
  },
  {
   "cell_type": "markdown",
   "metadata": {},
   "source": [
    "## Project 自動更新每日個股日成交資訊"
   ]
  },
  {
   "cell_type": "code",
   "execution_count": null,
   "metadata": {},
   "outputs": [],
   "source": [
    "#進度條 progress bar\n",
    "\n",
    "class ProgressBar:\n",
    "    bar_string_fmt = '\\rProgress: [{}{}] {:.2%} {}/{}'\n",
    "    cnt = 0\n",
    "\n",
    "    def __init__(self, total, bar_total=20):\n",
    "        self.total = total # task 的總數\n",
    "        self.bar_total = bar_total  # progress bar 的長度\n",
    "\n",
    "    def update(self, step=1):\n",
    "        total = self.total\n",
    "        self.cnt += step           # 更新 progress bar 的進度\n",
    "        bar_cnt = (int((self.cnt/total)*self.bar_total))  # bar 的數量\n",
    "        space_cnt = self.bar_total - bar_cnt  # 空白的數量\n",
    "\n",
    "        # 顯示 progress bar '\\r' 的意思代表 replace，print 出來的字串不會印在新的一行而是 replace 原本那行同位置的字符\n",
    "        # {:.2%}，表示 format 進來的值會以百分比顯示，並只取到小數點後兩位\n",
    "        progress = self.bar_string_fmt.format(\n",
    "            '█' * bar_cnt,\n",
    "            ' ' * space_cnt,\n",
    "            self.cnt/total,\n",
    "            self.cnt,\n",
    "            total\n",
    "        )\n",
    "        print(progress, end='')\n",
    "\n",
    "        # 100%\n",
    "        if self.cnt/total == 1:\n",
    "            print('\\n')\n",
    "            \n",
    "if __name__ == '__main__':\n",
    "    total = 10000\n",
    "    progress_bar = ProgressBar(total)\n",
    "    for _ in range(total):\n",
    "        progress_bar.update()"
   ]
  },
  {
   "cell_type": "code",
   "execution_count": null,
   "metadata": {},
   "outputs": [],
   "source": [
    "import json\n",
    "import time\n",
    "import requests\n",
    "from pathlib import Path\n",
    "from threading import Thread\n",
    "from datetime import datetime\n",
    "from fake_useragent import UserAgent\n",
    "\n",
    "class DailyPriceSpider:\n",
    "    def __init__(self, progress_bar=None):\n",
    "        \n",
    "        # 重複使用 TCP 連線\n",
    "        self.req = requests.Session()\n",
    "        self.url = \"https://www.twse.com.tw/exchangeReport/STOCK_DAY\"\n",
    "        self.headers = self.req.headers\n",
    "        \n",
    "        # 偽裝 User-Agent\n",
    "        ua = UserAgent()\n",
    "        self.headers[\"User-Agent\"] = ua.random\n",
    "        \n",
    "        # 加入 progress bar\n",
    "        if progress_bar:\n",
    "            self.progress_bar = progress_bar\n",
    " \n",
    "    # 供內部使用\n",
    "    def __get(self, date, stock_no):\n",
    "        res = self.req.get(self.url,\n",
    "                           headers = self.headers,\n",
    "                           params={\n",
    "                               \"response\": \"csv\",  # 這次抓的是 csv 格式\n",
    "                               \"date\": date,\n",
    "                               \"stockNo\": stock_no\n",
    "                           })\n",
    "        return res.text\n",
    "    \n",
    "    # 供內部使用\n",
    "    def __save_file(self, res_text, path):  # 去掉 res_text 裡多餘的空白行\n",
    "        res_text = '\\n'.join(\n",
    "            filter(None,res_text.splitlines())\n",
    "        )\n",
    "        path = Path(path)\n",
    "        \n",
    "        # parents=True，如果父資料夾不存在則會一併創建\n",
    "        # exist_ok=True，創建資料夾時，該資料夾已存在則不會 throw exception\n",
    "        path.parent.mkdir(parents=True, exist_ok=True)\n",
    "        with open(path, 'w', encoding=\"utf-8\") as file:\n",
    "            file.write(res_text)\n",
    "        return\n",
    " \n",
    "    \n",
    "    def scrape(self, date, stock_no, save_path=\"\"):\n",
    "        # 把上面的兩個 function 整合\n",
    "        res_text = self.__get(date, stock_no)\n",
    "        if save_path:\n",
    "            self.__save_file(res_text, save_path)\n",
    "            \n",
    "        # 更新 progress bar\n",
    "        if self.progress_bar:\n",
    "            self.progress_bar.update()\n",
    "\n",
    "\n",
    "if __name__ == '__main__':\n",
    "    SAVE_PATH_ROOT = \"./daily_stock_price/\"\n",
    "    SLEEP_TIME = 3\n",
    "    stock_info_list_file = {}\n",
    "    with open(\"./stock_info_list.json\", \"r\", encoding=\"utf-8\") as f:\n",
    "        stock_info_list_file = json.load(f)\n",
    "\n",
    "    # 不管日期是幾號，他回傳都是給我們一整個月的，所以就固定設成1號就好\n",
    "    # strftime()，把 datetime 輸出成我們要的格式\n",
    "    today_date = \"{}01\".format(datetime.now().strftime(\"%Y%m\"))\n",
    "\n",
    "    stock_info_list = stock_info_list_file.get(\"stock\", [])\n",
    "    \n",
    "    # 加入 progress bar\n",
    "    progress_bar = ProgressBar(len(stock_info_list))\n",
    "    dps = DailyPriceSpider(progress_bar=progress_bar)\n",
    "    req_thread_list = []\n",
    "\n",
    "    for stock_info in stock_info_list:\n",
    "\n",
    "        stock_no = stock_info.get(\"stockNo\")\n",
    "        stock_name = stock_info.get(\"stockName\")\n",
    "        stock_industry = stock_info.get(\"stockIndustry\")\n",
    "        file_name = \"{}_{}_daily_price.csv\".format(\n",
    "            today_date[:-2],  # 字串只需要用到年跟月\n",
    "            stock_no+stock_name)\n",
    "\n",
    "        save_path = \"{}/{}/{}/{}\".format(SAVE_PATH_ROOT,\n",
    "                                         stock_industry,\n",
    "                                         stock_no+stock_name,\n",
    "                                         file_name)\n",
    "\n",
    "        if stock_no and stock_name and stock_industry:\n",
    "            req_thread = Thread(target=dps.scrape,\n",
    "                                args=(today_date, stock_no, save_path),\n",
    "                                daemon=True)\n",
    "            req_thread.start()\n",
    "            req_thread_list.append(req_thread)\n",
    "            time.sleep(SLEEP_TIME)\n",
    "\n",
    "    for req_thread in req_thread_list:\n",
    "        req_thread.join()\n",
    "\n",
    "    print(\"Finished\")\n"
   ]
  },
  {
   "cell_type": "code",
   "execution_count": null,
   "metadata": {},
   "outputs": [],
   "source": []
  }
 ],
 "metadata": {
  "kernelspec": {
   "display_name": "Python 3 (ipykernel)",
   "language": "python",
   "name": "python3"
  },
  "language_info": {
   "codemirror_mode": {
    "name": "ipython",
    "version": 3
   },
   "file_extension": ".py",
   "mimetype": "text/x-python",
   "name": "python",
   "nbconvert_exporter": "python",
   "pygments_lexer": "ipython3",
   "version": "3.9.7"
  }
 },
 "nbformat": 4,
 "nbformat_minor": 4
}
