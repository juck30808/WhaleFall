{
 "cells": [
  {
   "cell_type": "code",
   "execution_count": 5,
   "id": "cefb9b9a",
   "metadata": {},
   "outputs": [
    {
     "name": "stdout",
     "output_type": "stream",
     "text": [
      "Enter a number: 100\n",
      "50\n",
      "25\n",
      "76\n",
      "38\n",
      "19\n",
      "58\n",
      "29\n",
      "88\n",
      "44\n",
      "22\n",
      "11\n",
      "34\n",
      "17\n",
      "52\n",
      "26\n",
      "13\n",
      "40\n",
      "20\n",
      "10\n",
      "5\n",
      "16\n",
      "8\n",
      "4\n",
      "2\n",
      "1\n"
     ]
    }
   ],
   "source": [
    "import os\n",
    "from PIL import Image, ImageDraw, ImageFont\n",
    "\n",
    "def make_cards(guestList):\n",
    "    os.makedirs('input/imageCards', exist_ok=True)\n",
    "    flowerImg = Image.open('input/flower.png')\n",
    "    with open(guestList) as file:\n",
    "        for line in file:\n",
    "            guest = line[:-1]\n",
    "\n",
    "            # create image\n",
    "            card = Image.new('RGBA', (288, 360), 'white')\n",
    "            card.paste(flowerImg, (0, 0))\n",
    "\n",
    "            # create border around image\n",
    "            border = Image.new('RGBA', (291, 363), 'black')\n",
    "            border.paste(card, (3,3))\n",
    "\n",
    "            # draw guest name\n",
    "            draw_obj = ImageDraw.Draw(border)\n",
    "            #card_font = ImageFont.truetype('Pacifico.ttf', 24)\n",
    "            draw_obj.text((120, 100), guest, fill='red') #add card_font\n",
    "\n",
    "            # save resulting image\n",
    "            imageName = '{}_card.png'.format(guest)\n",
    "            border.save(os.path.join('input/imageCards', imageName))\n",
    "    \n",
    "\n",
    "if __name__ == \"__main__\":\n",
    "    make_cards('input/guests.txt')"
   ]
  },
  {
   "cell_type": "code",
   "execution_count": null,
   "id": "2a88ab1d",
   "metadata": {},
   "outputs": [],
   "source": []
  }
 ],
 "metadata": {
  "kernelspec": {
   "display_name": "Python 3 (ipykernel)",
   "language": "python",
   "name": "python3"
  },
  "language_info": {
   "codemirror_mode": {
    "name": "ipython",
    "version": 3
   },
   "file_extension": ".py",
   "mimetype": "text/x-python",
   "name": "python",
   "nbconvert_exporter": "python",
   "pygments_lexer": "ipython3",
   "version": "3.9.7"
  }
 },
 "nbformat": 4,
 "nbformat_minor": 5
}
