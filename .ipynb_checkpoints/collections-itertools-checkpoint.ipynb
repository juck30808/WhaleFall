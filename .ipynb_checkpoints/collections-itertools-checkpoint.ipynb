{
 "cells": [
  {
   "cell_type": "code",
   "execution_count": 1,
   "id": "a77c8569",
   "metadata": {},
   "outputs": [
    {
     "name": "stdout",
     "output_type": "stream",
     "text": [
      "16695334890\n"
     ]
    }
   ],
   "source": [
    "from itertools import permutations as permütasyon\n",
    "\n",
    "rakamlar = \"0123456789\"\n",
    "\n",
    "sayılar = permütasyon(rakamlar)\n",
    "pandijitalSayılar = [\"\".join(sayı) for sayı in sayılar if not sayı[0] == \"0\" ]\n",
    "asallar = [2,3,5,7,11,13,17]\n",
    "\n",
    "toplam = 0\n",
    "\n",
    "for sayı in pandijitalSayılar:\n",
    "    kontrol = True\n",
    "    for i in range(0,len(asallar)):\n",
    "        if int(sayı[i+1:i+4]) % asallar[i] != 0:\n",
    "            kontrol = False\n",
    "            break\n",
    "    if kontrol:\n",
    "        toplam += int(sayı)\n",
    "    \n",
    "print(toplam)"
   ]
  },
  {
   "cell_type": "code",
   "execution_count": 2,
   "id": "6abc600a",
   "metadata": {},
   "outputs": [
    {
     "name": "stdout",
     "output_type": "stream",
     "text": [
      "('2', '7', '8', '3', '9', '1', '5', '4', '6', '0')\n"
     ]
    }
   ],
   "source": [
    "from itertools import permutations\n",
    "\n",
    "rakamlar = \"0123456789\"\n",
    "sayilar = list(permutations(rakamlar))\n",
    "sonuc = sayilar[999999]\n",
    "print(sonuc)"
   ]
  }
 ],
 "metadata": {
  "kernelspec": {
   "display_name": "Python 3 (ipykernel)",
   "language": "python",
   "name": "python3"
  },
  "language_info": {
   "codemirror_mode": {
    "name": "ipython",
    "version": 3
   },
   "file_extension": ".py",
   "mimetype": "text/x-python",
   "name": "python",
   "nbconvert_exporter": "python",
   "pygments_lexer": "ipython3",
   "version": "3.9.7"
  }
 },
 "nbformat": 4,
 "nbformat_minor": 5
}
