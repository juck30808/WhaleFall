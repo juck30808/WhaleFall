{
 "cells": [
  {
   "cell_type": "code",
   "execution_count": 178,
   "metadata": {},
   "outputs": [],
   "source": [
    "x = [0,1,2,3,4,5]"
   ]
  },
  {
   "cell_type": "markdown",
   "metadata": {},
   "source": [
    "#### Basic"
   ]
  },
  {
   "cell_type": "code",
   "execution_count": 181,
   "metadata": {},
   "outputs": [
    {
     "data": {
      "text/plain": [
       "[0, 4]"
      ]
     },
     "execution_count": 181,
     "metadata": {},
     "output_type": "execute_result"
    }
   ],
   "source": [
    "x[:4]\n",
    "x[1:4]\n",
    "x[::4]"
   ]
  },
  {
   "cell_type": "code",
   "execution_count": null,
   "metadata": {},
   "outputs": [],
   "source": []
  },
  {
   "cell_type": "markdown",
   "metadata": {},
   "source": [
    "#### list.copy() 回傳一個淺複製 (shallow copy) 的 list 。等同於 a[:] 。"
   ]
  },
  {
   "cell_type": "code",
   "execution_count": 106,
   "metadata": {},
   "outputs": [
    {
     "data": {
      "text/plain": [
       "[0, 1, 2, 3, 4, 5]"
      ]
     },
     "execution_count": 106,
     "metadata": {},
     "output_type": "execute_result"
    }
   ],
   "source": [
    "y = x.copy()\n",
    "y"
   ]
  },
  {
   "cell_type": "markdown",
   "metadata": {},
   "source": [
    "#### list.append(x) ：將一個新的項目加到 list 的尾端。"
   ]
  },
  {
   "cell_type": "code",
   "execution_count": 107,
   "metadata": {},
   "outputs": [
    {
     "data": {
      "text/plain": [
       "[0, 1, 2, 3, 4, 5, 6, [7, 8, 9]]"
      ]
     },
     "execution_count": 107,
     "metadata": {},
     "output_type": "execute_result"
    }
   ],
   "source": [
    "x.append(6)          # [0, 1, 2, 3, 4, 5, 6]\n",
    "x.append([7,8,9])    # [0, 1, 2, 3, 4, 5, 6, [7, 8, 9]]\n",
    "x"
   ]
  },
  {
   "cell_type": "markdown",
   "metadata": {},
   "source": [
    "#### list.extend(iterable) ：將 物件 obj 內的元或 iterable（可列舉物件）接到 list 的尾端。"
   ]
  },
  {
   "cell_type": "code",
   "execution_count": 108,
   "metadata": {},
   "outputs": [
    {
     "data": {
      "text/plain": [
       "[0, 1, 2, 3, 4, 5, 6, [7, 8, 9], 50, 75]"
      ]
     },
     "execution_count": 108,
     "metadata": {},
     "output_type": "execute_result"
    }
   ],
   "source": [
    "x.extend(range(50,100,25))  #[0, 1, 2, 3, 4, 5, 6, [7, 8, 9], 9, 11, 13]\n",
    "x"
   ]
  },
  {
   "cell_type": "markdown",
   "metadata": {},
   "source": [
    "#### list.insert(i, x) ：將一個項目插入至 list 中給定的位置。"
   ]
  },
  {
   "cell_type": "code",
   "execution_count": 109,
   "metadata": {},
   "outputs": [
    {
     "data": {
      "text/plain": [
       "['SS', 0, 1, 2, 3, 4, 5, 6, [7, 8, 9], 50, 75]"
      ]
     },
     "execution_count": 109,
     "metadata": {},
     "output_type": "execute_result"
    }
   ],
   "source": [
    "x.insert(0,'SS')       #insert (where index)\n",
    "x"
   ]
  },
  {
   "cell_type": "markdown",
   "metadata": {},
   "source": [
    "#### list.remove(x) \n",
    "移除列表中第一個值為 x 的元素。如果沒有這樣的元素則 Error。"
   ]
  },
  {
   "cell_type": "code",
   "execution_count": 110,
   "metadata": {},
   "outputs": [
    {
     "data": {
      "text/plain": [
       "[0, 1, 2, 3, 4, 5, 6, [7, 8, 9], 50, 75]"
      ]
     },
     "execution_count": 110,
     "metadata": {},
     "output_type": "execute_result"
    }
   ],
   "source": [
    "x.remove('SS')        #remove (what)\n",
    "x"
   ]
  },
  {
   "cell_type": "markdown",
   "metadata": {},
   "source": [
    "#### list.pop([i]) \n",
    "移除 list 中給定位置的項目並回傳。如果沒有指定位置 a.pop() 將會移除 list 中最後項目。"
   ]
  },
  {
   "cell_type": "code",
   "execution_count": 111,
   "metadata": {},
   "outputs": [
    {
     "data": {
      "text/plain": [
       "[1, 2, 3, 4, 5, 6, [7, 8, 9], 50, 75]"
      ]
     },
     "execution_count": 111,
     "metadata": {},
     "output_type": "execute_result"
    }
   ],
   "source": [
    "x.pop(0)              #delete(where index)\n",
    "x"
   ]
  },
  {
   "cell_type": "markdown",
   "metadata": {},
   "source": [
    "#### list.count(x) ：回傳數值為 x 在 list 中所出現的次數。"
   ]
  },
  {
   "cell_type": "code",
   "execution_count": 112,
   "metadata": {},
   "outputs": [
    {
     "data": {
      "text/plain": [
       "1"
      ]
     },
     "execution_count": 112,
     "metadata": {},
     "output_type": "execute_result"
    }
   ],
   "source": [
    "x.count(5)   # count(what)"
   ]
  },
  {
   "cell_type": "markdown",
   "metadata": {},
   "source": [
    "#### list.sort(key=None, reverse=False) ：將 list 中的項目排序。"
   ]
  },
  {
   "cell_type": "code",
   "execution_count": 113,
   "metadata": {},
   "outputs": [
    {
     "data": {
      "text/plain": [
       "[5, 4, 3, 2, 1, 0]"
      ]
     },
     "execution_count": 113,
     "metadata": {},
     "output_type": "execute_result"
    }
   ],
   "source": [
    "y.sort()\n",
    "y.sort(reverse=True) \n",
    "y"
   ]
  },
  {
   "cell_type": "markdown",
   "metadata": {},
   "source": [
    "## Nested List Comprehensions（串列綜合運算）\n",
    "List Comprehension（串列綜合運算）讓你可以用簡潔的方法創建 list。常見的應用是基於一個 list 或 iterable（可列舉物件），將每一個元素經過某個運算的結果串接起來成為一個新的 list 。或是創建一個 list 的子序列，其每一個元素皆滿足一個特定的條件。"
   ]
  },
  {
   "cell_type": "code",
   "execution_count": 121,
   "metadata": {},
   "outputs": [
    {
     "name": "stdout",
     "output_type": "stream",
     "text": [
      "[[0, 1, 2], [0, 1, 2], [0, 1, 2]]\n"
     ]
    }
   ],
   "source": [
    "# You can use nested list comprehension\n",
    "new_matrix = []\n",
    " \n",
    "for i in range(3):\n",
    "    new_matrix.append([]) # adding empty sublist inside the list\n",
    "     \n",
    "    for j in range(3):\n",
    "        new_matrix[i].append(j)\n",
    "         \n",
    "print(new_matrix)"
   ]
  },
  {
   "cell_type": "code",
   "execution_count": 122,
   "metadata": {
    "scrolled": true
   },
   "outputs": [
    {
     "name": "stdout",
     "output_type": "stream",
     "text": [
      "[[0, 1, 2], [0, 1, 2], [0, 1, 2]]\n"
     ]
    }
   ],
   "source": [
    "new_matrix = [[j for j in range(3)] for i in range(3)]\n",
    "print(new_matrix)"
   ]
  },
  {
   "cell_type": "code",
   "execution_count": 123,
   "metadata": {},
   "outputs": [
    {
     "data": {
      "text/plain": [
       "[0, 1, 4, 9, 16, 25, 36, 49, 64, 81]"
      ]
     },
     "execution_count": 123,
     "metadata": {},
     "output_type": "execute_result"
    }
   ],
   "source": [
    "squares = []\n",
    "for x in range(10):\n",
    "    squares.append(x**2)\n",
    "squares"
   ]
  },
  {
   "cell_type": "code",
   "execution_count": 124,
   "metadata": {},
   "outputs": [
    {
     "data": {
      "text/plain": [
       "[0, 1, 4, 9, 16, 25, 36, 49, 64, 81]"
      ]
     },
     "execution_count": 124,
     "metadata": {},
     "output_type": "execute_result"
    }
   ],
   "source": [
    "squares = list(map(lambda x: x**2, range(10)))\n",
    "squares"
   ]
  },
  {
   "cell_type": "code",
   "execution_count": 125,
   "metadata": {},
   "outputs": [
    {
     "data": {
      "text/plain": [
       "[0, 1, 4, 9, 16, 25, 36, 49, 64, 81]"
      ]
     },
     "execution_count": 125,
     "metadata": {},
     "output_type": "execute_result"
    }
   ],
   "source": [
    "squares = [x**2 for x in range(10)]\n",
    "squares"
   ]
  },
  {
   "cell_type": "code",
   "execution_count": 126,
   "metadata": {
    "scrolled": true
   },
   "outputs": [
    {
     "data": {
      "text/plain": [
       "[(1, 3), (1, 4), (2, 3), (2, 1), (2, 4), (3, 1), (3, 4)]"
      ]
     },
     "execution_count": 126,
     "metadata": {},
     "output_type": "execute_result"
    }
   ],
   "source": [
    "[(x, y) for x in [1,2,3] for y in [3,1,4] if x != y]"
   ]
  },
  {
   "cell_type": "code",
   "execution_count": 127,
   "metadata": {},
   "outputs": [
    {
     "name": "stdout",
     "output_type": "stream",
     "text": [
      "[4, 9, 16, 25, 36]\n"
     ]
    }
   ],
   "source": [
    "my_list=[2,3,4,5,6]\n",
    "squared_list=[val**2 for val in my_list]\n",
    "print(squared_list)"
   ]
  },
  {
   "cell_type": "code",
   "execution_count": 128,
   "metadata": {},
   "outputs": [
    {
     "name": "stdout",
     "output_type": "stream",
     "text": [
      "[2, 4, 6]\n"
     ]
    }
   ],
   "source": [
    "even_list=[var for var in my_list if var%2==0]\n",
    "print(even_list)"
   ]
  },
  {
   "cell_type": "code",
   "execution_count": 129,
   "metadata": {},
   "outputs": [
    {
     "name": "stdout",
     "output_type": "stream",
     "text": [
      "  apples Alice  dogs \n",
      " oranges   Bob  cats \n",
      "cherries Carol moose \n",
      "  banana David goose \n"
     ]
    }
   ],
   "source": [
    "def printTable(list2D):\n",
    "    # get the max length string of each row\n",
    "    row_max_len = []\n",
    "    for row in range(len(list2D)):\n",
    "        row_max_len.append(max([len(col) for col in list2D[row]]))\n",
    "\n",
    "    # print table right Justified\n",
    "    for col in range(len(list2D[0])):\n",
    "        for row in range(len(list2D)):\n",
    "            print(list2D[row][col].rjust(row_max_len[row]), end=' ')\n",
    "        print()\n",
    "        \n",
    "if __name__ == \"__main__\":\n",
    "\n",
    "    tableData = [['apples', 'oranges', 'cherries', 'banana'],\n",
    "                 ['Alice', 'Bob', 'Carol', 'David'],\n",
    "                 ['dogs', 'cats', 'moose', 'goose']]\n",
    "\n",
    "    printTable(tableData)"
   ]
  },
  {
   "cell_type": "markdown",
   "metadata": {},
   "source": [
    "## 集合 (Sets)\n",
    "Python 也包含了一種用在集合 (sets) 的資料結構。一個 set 是一組無序且沒有重複的元素。基本的使用方式包括了成員測試和消除重複項。 Set 物件也支援聯集，交集，差集和互斥等數學操作。\n",
    "\n",
    "# Sets\n",
    "- Sets is Collection of elements with different data type\n",
    "- No dublicates elements inside the sets\n"
   ]
  },
  {
   "cell_type": "code",
   "execution_count": 130,
   "metadata": {},
   "outputs": [
    {
     "data": {
      "text/plain": [
       "{1, 2, 3, 4, 5, 6, 7, 8, 9}"
      ]
     },
     "execution_count": 130,
     "metadata": {},
     "output_type": "execute_result"
    }
   ],
   "source": [
    "numbers= {x for x in range(1,10)}\n",
    "numbers"
   ]
  },
  {
   "cell_type": "code",
   "execution_count": 131,
   "metadata": {},
   "outputs": [
    {
     "data": {
      "text/plain": [
       "{'apple', 'banana', 'orange', 'pear'}"
      ]
     },
     "execution_count": 131,
     "metadata": {},
     "output_type": "execute_result"
    }
   ],
   "source": [
    "basket = {'apple', 'orange', 'apple', 'pear', 'orange', 'banana'}\n",
    "basket"
   ]
  },
  {
   "cell_type": "code",
   "execution_count": 132,
   "metadata": {},
   "outputs": [
    {
     "data": {
      "text/plain": [
       "True"
      ]
     },
     "execution_count": 132,
     "metadata": {},
     "output_type": "execute_result"
    }
   ],
   "source": [
    "basket = {'apple', 'orange', 'apple', 'pear', 'orange', 'banana'}\n",
    "'orange' in basket"
   ]
  },
  {
   "cell_type": "code",
   "execution_count": 134,
   "metadata": {},
   "outputs": [
    {
     "name": "stdout",
     "output_type": "stream",
     "text": [
      "{'b', 'a', 'c'} {'y', 'x', 'z'}\n"
     ]
    }
   ],
   "source": [
    "a = set('abc')\n",
    "b = set('xyz')\n",
    "print(a,b)"
   ]
  },
  {
   "cell_type": "code",
   "execution_count": null,
   "metadata": {},
   "outputs": [],
   "source": []
  },
  {
   "cell_type": "code",
   "execution_count": 154,
   "metadata": {},
   "outputs": [
    {
     "data": {
      "text/plain": [
       "{'April', 'Juan', True}"
      ]
     },
     "execution_count": 154,
     "metadata": {},
     "output_type": "execute_result"
    }
   ],
   "source": [
    "Sett = {'Juan', True}\n",
    "Sett.add('April')\n",
    "Sett"
   ]
  },
  {
   "cell_type": "code",
   "execution_count": 155,
   "metadata": {},
   "outputs": [
    {
     "data": {
      "text/plain": [
       "{100, 200, 300, 'April', 'Juan', True}"
      ]
     },
     "execution_count": 155,
     "metadata": {},
     "output_type": "execute_result"
    }
   ],
   "source": [
    "Sett.update({100,200,300,300})\n",
    "Sett"
   ]
  },
  {
   "cell_type": "code",
   "execution_count": 156,
   "metadata": {},
   "outputs": [
    {
     "name": "stdout",
     "output_type": "stream",
     "text": [
      "True\n",
      "False\n"
     ]
    }
   ],
   "source": [
    "Sett2 = Sett.copy()\n",
    "print(f'{Sett == Sett2}')  #True\n",
    "print(f'{Sett is Sett2}')  #False"
   ]
  },
  {
   "cell_type": "code",
   "execution_count": 157,
   "metadata": {},
   "outputs": [
    {
     "data": {
      "text/plain": [
       "{100, 200, 300, 'April', 'Juan', True, 'Uni1', 'Uni2', 'Uni3'}"
      ]
     },
     "execution_count": 157,
     "metadata": {},
     "output_type": "execute_result"
    }
   ],
   "source": [
    "Sett.union({'Uni1','Uni2','Uni3'})"
   ]
  },
  {
   "cell_type": "code",
   "execution_count": 158,
   "metadata": {},
   "outputs": [
    {
     "data": {
      "text/plain": [
       "{100, 200, 300, 'April', 'Juan', True}"
      ]
     },
     "execution_count": 158,
     "metadata": {},
     "output_type": "execute_result"
    }
   ],
   "source": [
    "Sett.difference({'diff1','diff2','diff3'})"
   ]
  },
  {
   "cell_type": "code",
   "execution_count": 159,
   "metadata": {},
   "outputs": [
    {
     "data": {
      "text/plain": [
       "True"
      ]
     },
     "execution_count": 159,
     "metadata": {},
     "output_type": "execute_result"
    }
   ],
   "source": [
    "Sett.issubset({'Uni1','Uni2','Uni3'})\n",
    "Sett.isdisjoint({'Uni1','Uni2','Uni3'})"
   ]
  },
  {
   "cell_type": "code",
   "execution_count": 175,
   "metadata": {},
   "outputs": [
    {
     "data": {
      "text/plain": [
       "{0, 2, 4}"
      ]
     },
     "execution_count": 175,
     "metadata": {},
     "output_type": "execute_result"
    }
   ],
   "source": [
    "eve_list = [n for n in range(6) if n % 2 == 0]\n",
    "eve_set  = {s for s in range(6) if s % 2 == 0}\n",
    "eve_set"
   ]
  },
  {
   "cell_type": "code",
   "execution_count": 176,
   "metadata": {},
   "outputs": [
    {
     "data": {
      "text/plain": [
       "{0, 1, 4, 9, 16, 25}"
      ]
     },
     "execution_count": 176,
     "metadata": {},
     "output_type": "execute_result"
    }
   ],
   "source": [
    "square_list = [n * n for n in range(6)]\n",
    "square_set  = {n * n for n in range(6)}\n",
    "square_set"
   ]
  },
  {
   "cell_type": "code",
   "execution_count": 48,
   "metadata": {
    "scrolled": true
   },
   "outputs": [
    {
     "data": {
      "text/plain": [
       "{0, 1, 4, 9, 16, 25, 36, 49}"
      ]
     },
     "execution_count": 48,
     "metadata": {},
     "output_type": "execute_result"
    }
   ],
   "source": [
    "{n ** 2 for n in range(8)}"
   ]
  },
  {
   "cell_type": "markdown",
   "metadata": {},
   "source": [
    "## 字典（Dictionary）\n",
    "下一個常用的 python 內建資料結構為 dictionary （請參考 映射类型 --- dict ）。 Dictionary 有時被稱為 \"關聯記憶體\" (associative memories) 或 \"關聯矩陣\" (associative arrays) 。不像序列是由一個範圍內的數字當作索引， dictionary 是由 key （鍵）來當索引， key 可以是任何不可變的型態；字串和數字都可以當作 key 。 Tuple 也可以當作 key 如果他們只含有字串、數字或 tuple；若一個 tuple 直接或間接地含有任何可變的物件，它就不能當作 key 。我們無法使用 list 當作 key ，因為 list 可以經由索引操作、切片操作或是方法像是 append() 和 extend() 來修改。\n",
    "\n",
    "思考 dict 最好的方式是把它想成是一組鍵值對 (key: value pair) 的集合，其中 key 在同一個 dictionary（字典）裡必須是獨一無二的。使用一對大括號可創建一個空的字典 ：{}。將一串由逗號分隔的鍵值對置於大括號則可初始化字典。這同樣也是字典輸出時的格式。\n",
    "\n",
    "Dict 主要的操作為藉由鍵來儲存一個值並且可藉由該鍵來取出該值。也可以使用 del 來刪除鍵值對。如果我們使用用過的鍵來儲存，該鍵所對應的較舊的值會被覆蓋。使用不存在的鍵來取出值會造成錯誤。\n",
    "\n",
    "對字典使用 list(d) 會得到一個包含該字典所有鍵（key）的 list，其排列順序為插入時的順序。（若想要排序，則使用 sorted(d) 代替即可）。如果想確認一個鍵是否已存在於字典中，可使用關鍵字 in 。"
   ]
  },
  {
   "cell_type": "code",
   "execution_count": 70,
   "metadata": {},
   "outputs": [
    {
     "name": "stdout",
     "output_type": "stream",
     "text": [
      "{1: 1, 2: 4, 3: 9, 4: 16, 5: 25, 6: 36, 7: 49, 8: 64, 9: 81}\n"
     ]
    }
   ],
   "source": [
    "d={num:num*num for num in range(1,10)}\n",
    "print(d)"
   ]
  },
  {
   "cell_type": "code",
   "execution_count": 71,
   "metadata": {},
   "outputs": [
    {
     "data": {
      "text/plain": [
       "{'jack': 4098, 'david': 4139, 'mark': 4127}"
      ]
     },
     "execution_count": 71,
     "metadata": {},
     "output_type": "execute_result"
    }
   ],
   "source": [
    "tel = {'jack': 4098, 'david': 4139}\n",
    "tel['mark'] = 4127\n",
    "tel"
   ]
  },
  {
   "cell_type": "code",
   "execution_count": 72,
   "metadata": {},
   "outputs": [
    {
     "data": {
      "text/plain": [
       "{'jack': 4098, 'mark': 4127}"
      ]
     },
     "execution_count": 72,
     "metadata": {},
     "output_type": "execute_result"
    }
   ],
   "source": [
    "del tel['david']\n",
    "tel"
   ]
  },
  {
   "cell_type": "code",
   "execution_count": 73,
   "metadata": {},
   "outputs": [
    {
     "data": {
      "text/plain": [
       "True"
      ]
     },
     "execution_count": 73,
     "metadata": {},
     "output_type": "execute_result"
    }
   ],
   "source": [
    "'mark' in tel"
   ]
  },
  {
   "cell_type": "code",
   "execution_count": 74,
   "metadata": {},
   "outputs": [
    {
     "data": {
      "text/plain": [
       "{'sape': 4139, 'guido': 4127, 'jack': 4098}"
      ]
     },
     "execution_count": 74,
     "metadata": {},
     "output_type": "execute_result"
    }
   ],
   "source": [
    "# 函式 dict() 可直接透過一串鍵值對序列來創建 dict\n",
    "dict([('sape', 4139), ('guido', 4127), ('jack', 4098)])"
   ]
  },
  {
   "cell_type": "code",
   "execution_count": 75,
   "metadata": {},
   "outputs": [
    {
     "data": {
      "text/plain": [
       "{2: 4, 4: 16, 6: 36}"
      ]
     },
     "execution_count": 75,
     "metadata": {},
     "output_type": "execute_result"
    }
   ],
   "source": [
    "# 此外， dict comprehensions 也可以透過鍵與值的陳述式來創建 dict \n",
    "{x: x**2 for x in (2, 4, 6)}"
   ]
  },
  {
   "cell_type": "code",
   "execution_count": 76,
   "metadata": {},
   "outputs": [
    {
     "data": {
      "text/plain": [
       "{'sape': 4139, 'guido': 4127, 'jack': 4098}"
      ]
     },
     "execution_count": 76,
     "metadata": {},
     "output_type": "execute_result"
    }
   ],
   "source": [
    "# 當鍵是簡單的字串時，使用關鍵字引數 (keyword arguments) 有時會較為簡潔\n",
    "dict(sape=4139, guido=4127, jack=4098)"
   ]
  },
  {
   "cell_type": "code",
   "execution_count": 77,
   "metadata": {},
   "outputs": [
    {
     "name": "stdout",
     "output_type": "stream",
     "text": [
      "sape's tel number is 4139\n",
      "guido's tel number is 4127\n",
      "jack's tel number is 4098\n"
     ]
    }
   ],
   "source": [
    "# 當對 dict 作迴圈時，鍵以及其對應的值可以藉由使用 items() 方法來同時取得\n",
    "tel = dict(sape=4139, guido=4127, jack=4098)\n",
    "for key, value in tel.items():\n",
    "    print(f'{key}\\'s tel number is {value}')"
   ]
  },
  {
   "cell_type": "code",
   "execution_count": 78,
   "metadata": {},
   "outputs": [
    {
     "name": "stdout",
     "output_type": "stream",
     "text": [
      "0 A0\n",
      "1 B1\n",
      "2 C2\n"
     ]
    }
   ],
   "source": [
    "# 當對序列作迴圈時，位置索引及其對應的值可以藉由使用 enumerate() 函式來同時取得\n",
    "for i, v in enumerate(['A0', 'B1', 'C2']):\n",
    "    print(i, v)"
   ]
  },
  {
   "cell_type": "code",
   "execution_count": 79,
   "metadata": {},
   "outputs": [
    {
     "name": "stdout",
     "output_type": "stream",
     "text": [
      "A D\n",
      "B E\n",
      "C F\n"
     ]
    }
   ],
   "source": [
    "# 要同時對兩個以上的序列作迴圈，可以將其以成對的方式放入 zip() 函式：\n",
    "x = ['A','B','C']\n",
    "y = ['D','E','F']\n",
    "for i, j in zip(x, y):\n",
    "    print(i,j)"
   ]
  },
  {
   "cell_type": "code",
   "execution_count": 80,
   "metadata": {},
   "outputs": [
    {
     "name": "stdout",
     "output_type": "stream",
     "text": [
      "A D\n",
      "B E\n",
      "C F\n"
     ]
    }
   ],
   "source": [
    "# 當 list 長度不一樣時\n",
    "x = ['A','B','C']\n",
    "y = ['D','E','F','G']\n",
    "for i, j in zip(x, y):\n",
    "    print(i,j)"
   ]
  },
  {
   "cell_type": "code",
   "execution_count": 81,
   "metadata": {},
   "outputs": [
    {
     "name": "stdout",
     "output_type": "stream",
     "text": [
      "9\n",
      "7\n",
      "5\n",
      "3\n",
      "1\n"
     ]
    }
   ],
   "source": [
    "# 要對序列作反向的迴圈，首先先寫出正向的序列，在對其使用 reversed() 函式\n",
    "for i in reversed(range(1, 10, 2)):\n",
    "    print(i)"
   ]
  },
  {
   "cell_type": "code",
   "execution_count": 82,
   "metadata": {},
   "outputs": [
    {
     "name": "stdout",
     "output_type": "stream",
     "text": [
      "apple\n",
      "apple\n",
      "banana\n",
      "orange\n",
      "orange\n",
      "pear\n"
     ]
    }
   ],
   "source": [
    "# 要以迴圈對序列作排序，使用 sorted() 函式會得到一個新的經排序過的 list ，但不會改變原本的序列\n",
    "basket = ['apple', 'orange', 'apple', 'pear', 'orange', 'banana']\n",
    "for i in sorted(basket):\n",
    "    print(i)    "
   ]
  },
  {
   "cell_type": "code",
   "execution_count": 83,
   "metadata": {},
   "outputs": [
    {
     "name": "stdout",
     "output_type": "stream",
     "text": [
      "apple\n",
      "banana\n",
      "orange\n",
      "pear\n"
     ]
    }
   ],
   "source": [
    "# 對一個序列使用set()將去除重複的元素。對一個序列使用sorted()加set()則是按排序後順序循環遍歷序列中唯一元素的一種慣用方式。\n",
    "basket = ['apple', 'orange', 'apple', 'pear', 'orange', 'banana']\n",
    "for f in sorted(set(basket)):\n",
    "    print(f)"
   ]
  },
  {
   "cell_type": "code",
   "execution_count": 84,
   "metadata": {},
   "outputs": [
    {
     "name": "stdout",
     "output_type": "stream",
     "text": [
      "Sumar listas ['Juan', 'Karla', 'Pedro', 'Laura', 'María', 'Gonzalo', 'Ernesto']\n",
      "Extender la lista1: ['Juan', 'Karla', 'Pedro', 'Laura', 'María', 'Gonzalo', 'Ernesto']\n",
      "Lista original: [10, 40, 15, 4, 20, 90, 4]\n",
      "Índice 4: 3\n",
      "Lista invertida: [4, 90, 20, 4, 15, 40, 10]\n",
      "Lista ordenada (ascendente): [4, 4, 10, 15, 20, 40, 90]\n",
      "Lista ordenada (descendente): [90, 40, 20, 15, 10, 4, 4]\n",
      "Valor mínimo: 4\n",
      "Valor máximo: 90\n",
      "Misma referencia? False\n",
      "Mismo contenido? True\n",
      "Misma referencia? False\n",
      "Mismo contenido? True\n",
      "Misma referencia? False\n",
      "Mismo contenido? True\n",
      "[[2, 5], [2, 5], [2, 5], [2, 5], [2, 5]]\n",
      "Misma referencia: True\n",
      "Mismo contenido: True\n",
      "[[2, 5, 10], [2, 5, 10], [2, 5, 10], [2, 5, 10], [2, 5, 10]]\n",
      "Matriz original: [[10, 20], [30, 40, 50], [60, 70, 80, 90]]\n",
      "Renglón 0, Columna 0: 10\n",
      "Renglón 2, Columna 3: 90\n",
      "Matriz modificada: [[10, 20], [30, 40, 50], [65, 70, 80, 90]]\n"
     ]
    }
   ],
   "source": [
    "# Profundizando listas\n",
    "# Listas son mutables\n",
    "nombres1 = ['Juan', 'Karla', 'Pedro']\n",
    "nombres2 = 'Laura María Gonzalo Ernesto'.split()\n",
    "# Sumar listas\n",
    "print(f'Sumar listas {nombres1 + nombres2}')\n",
    "# Extender una lista con otra lista\n",
    "nombres1.extend(nombres2)\n",
    "print(f'Extender la lista1: {nombres1}')\n",
    "\n",
    "# Lista de números\n",
    "numeros1 = [10, 40, 15, 4, 20, 90, 4]\n",
    "print(f'Lista original: {numeros1}')\n",
    "# obtener el índice del primer elemento encontrado en una lista\n",
    "# help(list.index)\n",
    "print(f'Índice 4: {numeros1.index(4)}')\n",
    "\n",
    "# Invertir el orden de los elementos de una lista\n",
    "numeros1.reverse()\n",
    "print(f'Lista invertida: {numeros1}')\n",
    "\n",
    "# Ordenar los elementos de una lista\n",
    "numeros1.sort()\n",
    "print(f'Lista ordenada (ascendente): {numeros1}')\n",
    "# Ordenar de manera descendente una lista\n",
    "numeros1.sort(reverse=True)\n",
    "print(f'Lista ordenada (descendente): {numeros1}')\n",
    "\n",
    "# Obtener el valor min y max de una lista\n",
    "print(f'Valor mínimo: {min(numeros1)}')\n",
    "print(f'Valor máximo: {max(numeros1)}')\n",
    "\n",
    "# Copiar los elementos de una lista\n",
    "numeros2 = numeros1.copy()\n",
    "# help(list.copy)\n",
    "print(f'Misma referencia? {numeros1 is numeros2}')\n",
    "print(f'Mismo contenido? {numeros1 == numeros2}')\n",
    "\n",
    "# Podemos usar el constructor de la lista\n",
    "numeros2 = list(numeros1)\n",
    "print(f'Misma referencia? {numeros1 is numeros2}')\n",
    "print(f'Mismo contenido? {numeros1 == numeros2}')\n",
    "\n",
    "# slicing\n",
    "numeros2 = numeros1[:]\n",
    "print(f'Misma referencia? {numeros1 is numeros2}')\n",
    "print(f'Mismo contenido? {numeros1 == numeros2}')\n",
    "\n",
    "# Multiplicación listas\n",
    "lista_multiplicacion = 5*[[2, 5]]\n",
    "print(lista_multiplicacion)\n",
    "print(f'Misma referencia: {lista_multiplicacion[0] is lista_multiplicacion[1]}')\n",
    "print(f'Mismo contenido: {lista_multiplicacion[0] == lista_multiplicacion[1]}')\n",
    "lista_multiplicacion[2].append(10)\n",
    "print(lista_multiplicacion)\n",
    "\n",
    "# Matrices en Python\n",
    "matriz = [[10, 20], [30, 40, 50], [60, 70, 80, 90]]\n",
    "print(f'Matriz original: {matriz}')\n",
    "print(f'Renglón 0, Columna 0: {matriz[0][0]}')\n",
    "print(f'Renglón 2, Columna 3: {matriz[2][3]}')\n",
    "matriz[2][0] = 65\n",
    "print(f'Matriz modificada: {matriz}')"
   ]
  },
  {
   "cell_type": "code",
   "execution_count": 85,
   "metadata": {},
   "outputs": [
    {
     "name": "stdout",
     "output_type": "stream",
     "text": [
      "{'IDE': 'Integrated Development Environment', 'OOP': 'Object Oriented Programming', 'DBMS': 'Database Management System'}\n",
      "3\n",
      "Integrated Development Environment\n",
      "Object Oriented Programming\n",
      "{'IDE': 'integrated development environment', 'OOP': 'Object Oriented Programming', 'DBMS': 'Database Management System'}\n"
     ]
    }
   ],
   "source": [
    "# dict (key, value)\n",
    "diccionario = {\n",
    "    'IDE':'Integrated Development Environment',\n",
    "    'OOP':'Object Oriented Programming',\n",
    "    'DBMS':'Database Management System'\n",
    "}\n",
    "print(diccionario)\n",
    "#largo\n",
    "print(len(diccionario))\n",
    "# acceder a un elemento (key)\n",
    "print( diccionario['IDE'])\n",
    "# otra forma de recuperar un elemento\n",
    "print(diccionario.get('OOP'))\n",
    "# modificando elementos\n",
    "diccionario['IDE'] = 'integrated development environment'\n",
    "print(diccionario)\n"
   ]
  },
  {
   "cell_type": "code",
   "execution_count": 86,
   "metadata": {},
   "outputs": [
    {
     "name": "stdout",
     "output_type": "stream",
     "text": [
      "{'Nombre': 'Juan', 'Apellido': 'Perez', 'Edad': 28}\n",
      "{'Nombre': 'Juan', 'Apellido': 'Perez', 'Edad': 28}\n",
      "{'Nombre': 'Juan', 'Apellido': 'Perez', 'Edad': 28, 'Departamento': 'Sistemas'}\n",
      "{'Nombre': 'Juan Carlos', 'Apellido': 'Perez', 'Edad': 28, 'Departamento': 'Sistemas'}\n",
      "Juan Carlos\n",
      "No se encontró la llave\n",
      "{'Nombre': 'Juan Carlos', 'Apellido': 'Perez', 'Edad': 28, 'Departamento': 'Sistemas'}\n",
      "Valor por default\n",
      "{'Nombre': 'Juan Carlos', 'Apellido': 'Perez', 'Edad': 28, 'Departamento': 'Sistemas', 'Nombres': 'Valor por default'}\n",
      "{'Nombre': 'Juan Carlos',\n",
      " 'Apellido': 'Perez',\n",
      " 'Edad': 28,\n",
      " 'Departamento': 'Sistemas',\n",
      " 'Nombres': 'Valor por default'}\n"
     ]
    }
   ],
   "source": [
    "# Produndizando en diccionarios\n",
    "\n",
    "# Los dic guardan un orden (a diferencia de un set)\n",
    "diccionario = {'Nombre':'Juan','Apellido':'Perez','Edad':28}\n",
    "print(diccionario)\n",
    "\n",
    "# Los dic son mutables, pero las llaves deben ser inmutables\n",
    "# diccionario = {[1,2]:'Valor1'}\n",
    "# diccionario = {(1,2):'Valor1'}\n",
    "print(diccionario)\n",
    "\n",
    "# Se agrega una llave si no se encuentra\n",
    "diccionario['Departamento'] = 'Sistemas'\n",
    "print(diccionario)\n",
    "\n",
    "# No hay valores duplicados en las llaves de un diccionario (si ya existe se reemplaza)\n",
    "diccionario['Nombre'] = 'Juan Carlos'\n",
    "print(diccionario)\n",
    "\n",
    "# Recuperar un valor indicando una llave\n",
    "print(diccionario['Nombre'])\n",
    "# Si no encuentra la llave lanza una excepcion\n",
    "# print(diccionario['nombre'])\n",
    "\n",
    "# Método get recupera una llave, y si no existe NO lanza excepción\n",
    "# además podemos regresar un valor en caso de que no exista la llave\n",
    "print(diccionario.get('Nombres','No se encontró la llave'))\n",
    "print(diccionario)\n",
    "\n",
    "# setdefault sí modifica el diccionario, además se agregar un valor por default\n",
    "nombre = diccionario.setdefault('Nombres','Valor por default')\n",
    "print(nombre)\n",
    "print(diccionario)\n",
    "\n",
    "# Imprimir con pprint\n",
    "from pprint import pprint as pp\n",
    "# help(pp)\n",
    "pp(diccionario, sort_dicts=False)"
   ]
  },
  {
   "cell_type": "code",
   "execution_count": 87,
   "metadata": {},
   "outputs": [],
   "source": [
    "numbers = [100, 200, 300, 400, 500]\n",
    "students = ['Joe', 'Ronald', 'Ahmed', 'Marcelo', 'Alves']"
   ]
  },
  {
   "cell_type": "code",
   "execution_count": 88,
   "metadata": {},
   "outputs": [
    {
     "name": "stdout",
     "output_type": "stream",
     "text": [
      "{'Joe': 100, 'Ronald': 200, 'Ahmed': 300, 'Marcelo': 400, 'Alves': 500}\n"
     ]
    }
   ],
   "source": [
    "new_dict = {x: y for (x, y) in zip(students, numbers)}\n",
    "print(new_dict)"
   ]
  },
  {
   "cell_type": "code",
   "execution_count": 89,
   "metadata": {},
   "outputs": [
    {
     "name": "stdout",
     "output_type": "stream",
     "text": [
      "{10: 100, 20: 400}\n"
     ]
    }
   ],
   "source": [
    "numbers = [1, 5, 10, 15, 20, 25]\n",
    "my_dictionary = {x: x ** 2 for x in numbers if x ** 2 % 4 == 0}\n",
    "print(my_dictionary)"
   ]
  },
  {
   "cell_type": "markdown",
   "metadata": {},
   "source": [
    "## Tuple"
   ]
  },
  {
   "cell_type": "code",
   "execution_count": 90,
   "metadata": {},
   "outputs": [],
   "source": [
    "numbers = [100, 200, 300, 400, 500]\n",
    "new_set = {s for s in numbers}"
   ]
  },
  {
   "cell_type": "code",
   "execution_count": 91,
   "metadata": {},
   "outputs": [
    {
     "name": "stdout",
     "output_type": "stream",
     "text": [
      "{100, 200, 300, 400, 500}\n"
     ]
    }
   ],
   "source": [
    "print(new_set)"
   ]
  },
  {
   "cell_type": "code",
   "execution_count": 92,
   "metadata": {},
   "outputs": [
    {
     "name": "stdout",
     "output_type": "stream",
     "text": [
      "{160000, 40000, 10000, 90000, 250000}\n"
     ]
    }
   ],
   "source": [
    "new_set = {s ** 2 for s in numbers}\n",
    "print(new_set)"
   ]
  },
  {
   "cell_type": "code",
   "execution_count": 93,
   "metadata": {},
   "outputs": [
    {
     "data": {
      "text/plain": [
       "{0, 1, 4, 9, 16, 25, 36, 49}"
      ]
     },
     "execution_count": 93,
     "metadata": {},
     "output_type": "execute_result"
    }
   ],
   "source": [
    "{n ** 2 for n in range(8)}"
   ]
  },
  {
   "cell_type": "code",
   "execution_count": 94,
   "metadata": {},
   "outputs": [],
   "source": [
    "numbers = [1, 2, 3, 4, 5]\n",
    "new_set = {s for s in numbers if s % 2 == 0}"
   ]
  },
  {
   "cell_type": "code",
   "execution_count": 95,
   "metadata": {
    "scrolled": true
   },
   "outputs": [
    {
     "name": "stdout",
     "output_type": "stream",
     "text": [
      "{2, 4}\n"
     ]
    }
   ],
   "source": [
    "print(new_set)"
   ]
  },
  {
   "cell_type": "markdown",
   "metadata": {},
   "source": [
    "## Set"
   ]
  },
  {
   "cell_type": "code",
   "execution_count": 96,
   "metadata": {},
   "outputs": [
    {
     "name": "stdout",
     "output_type": "stream",
     "text": [
      "{'Juan', 18.0, True}\n",
      "set()\n",
      "<class 'set'>\n",
      "{'Juan'}\n",
      "{'Juan'}\n",
      "{8, 4, 5, 7}\n",
      "{4, 5, 100, 7, 8, 300, 200}\n",
      "{4, 5, 7, 8, 200, 20, 30, 100, 40, 300}\n",
      "{4, 5, 100, 7, 8, 200, 40, 300, 20, 30}\n",
      "Es igual en contenido? True\n",
      "Es la misma referencia? False\n",
      "{'Marco', 'Lorenzo', 'Karla', 'Laura'}\n",
      "{'Marco', 'Lorenzo', 'Karla', 'Laura'}\n",
      "{'Laura'}\n",
      "{'Juan', 'Pedro', 'María'}\n",
      "{'Juan', 'María', 'Laura', 'Pedro'}\n",
      "True\n",
      "False\n",
      "True\n"
     ]
    }
   ],
   "source": [
    "# Profundizar en set\n",
    "# Un set es una colección de elementos únicos y es mutable\n",
    "# Los elementos de un set deben ser inmutables\n",
    "# conjunto = {[1,2],[3,4]}\n",
    "conjunto = {'Juan', True, 18.0}\n",
    "print(conjunto)\n",
    "# Set vacío\n",
    "# conjunto = {} genera un dict vacío\n",
    "# print(type(conjunto))\n",
    "# set vacío correcto\n",
    "conjunto = set()\n",
    "print(conjunto)\n",
    "print(type(conjunto))\n",
    "# Mutable\n",
    "conjunto.add('Juan')\n",
    "print(conjunto)\n",
    "# Contiene valores únicos\n",
    "conjunto.add('Juan')\n",
    "print(conjunto)\n",
    "# Crear un set a partir de un iterable\n",
    "conjunto = set([4,5,7,8,4])\n",
    "print(conjunto)\n",
    "# Podemos agregar más elementos on incluso otro set\n",
    "conjunto2 = {100,200,300,300}\n",
    "conjunto.update(conjunto2)\n",
    "print(conjunto)\n",
    "conjunto.update([20,30,40,40])\n",
    "print(conjunto)\n",
    "\n",
    "# Copiar un set (copia poco profunda, solo copia referencias)\n",
    "conjunto_copia = conjunto.copy()\n",
    "print(conjunto_copia)\n",
    "# Verificar igualdad\n",
    "print(f'Es igual en contenido? {conjunto == conjunto_copia}')\n",
    "print(f'Es la misma referencia? {conjunto is conjunto_copia}')\n",
    "\n",
    "# Operaciones de conjuntos con set\n",
    "# Personas con distintas características\n",
    "pelo_negro = {'Juan','Karla','Pedro','María'}\n",
    "pelo_rubio = {'Lorenzo','Laura','Marco'}\n",
    "ojos_cafe = {'Karla','Laura'}\n",
    "menores_30 = {'Juan','Karla','María'}\n",
    "# Todos con ojos_cafe y pelo rubio (Union) (no se repiten los elementos)\n",
    "print(ojos_cafe.union(pelo_rubio))\n",
    "# Invertir el orden con el mismo resultado (conmutativa)\n",
    "print(pelo_rubio.union(ojos_cafe))\n",
    "\n",
    "# (intersetion) Sólo las personas con ojos cafe y pelo rubio (conmutativa)\n",
    "print(ojos_cafe.intersection(pelo_rubio))\n",
    "\n",
    "# (difference) Pelo negro sin ojos cafe (no es conmutativa)\n",
    "# las personas que se encuentran en el primer set pero NO en el segundo\n",
    "print(pelo_negro.difference(ojos_cafe))\n",
    "\n",
    "# (diferencia simétrica) Pelo negro u ojos cafe, pero NO ambos (conmutativa)\n",
    "print(pelo_negro.symmetric_difference(ojos_cafe))\n",
    "\n",
    "# Preguntar si un set está contenido en otro (subset)\n",
    "# revismos si los elementos del primer set están contenidos en el segundo set\n",
    "print(menores_30.issubset(pelo_negro))\n",
    "\n",
    "# Preguntar si un set contiene a otro set (superset)\n",
    "# revisar si los elementos del primer set están contenidos en el segundo set\n",
    "print(menores_30.issuperset(pelo_negro))\n",
    "\n",
    "# Preguntar si los de pelo negro no tienen pelo rubio (distjoin)\n",
    "print(pelo_negro.isdisjoint(pelo_rubio))"
   ]
  },
  {
   "cell_type": "code",
   "execution_count": 97,
   "metadata": {},
   "outputs": [
    {
     "name": "stdout",
     "output_type": "stream",
     "text": [
      "{'Nombre': 'Juan', 'Apellido': 'Perez', 'Edad': 28}\n",
      "{'Nombre': 'Juan', 'Apellido': 'Perez', 'Edad': 28}\n",
      "{'Nombre': 'Juan', 'Apellido': 'Perez', 'Edad': 28, 'Departamento': 'Sistemas'}\n",
      "{'Nombre': 'Juan Carlos', 'Apellido': 'Perez', 'Edad': 28, 'Departamento': 'Sistemas'}\n",
      "Juan Carlos\n",
      "No se encontró la llave\n",
      "{'Nombre': 'Juan Carlos', 'Apellido': 'Perez', 'Edad': 28, 'Departamento': 'Sistemas'}\n",
      "Valor por default\n",
      "{'Nombre': 'Juan Carlos', 'Apellido': 'Perez', 'Edad': 28, 'Departamento': 'Sistemas', 'Nombres': 'Valor por default'}\n",
      "{'Nombre': 'Juan Carlos',\n",
      " 'Apellido': 'Perez',\n",
      " 'Edad': 28,\n",
      " 'Departamento': 'Sistemas',\n",
      " 'Nombres': 'Valor por default'}\n"
     ]
    }
   ],
   "source": [
    "# Produndizando en diccionarios\n",
    "\n",
    "# Los dic guardan un orden (a diferencia de un set)\n",
    "diccionario = {'Nombre':'Juan','Apellido':'Perez','Edad':28}\n",
    "print(diccionario)\n",
    "\n",
    "# Los dic son mutables, pero las llaves deben ser inmutables\n",
    "# diccionario = {[1,2]:'Valor1'}\n",
    "# diccionario = {(1,2):'Valor1'}\n",
    "print(diccionario)\n",
    "\n",
    "# Se agrega una llave si no se encuentra\n",
    "diccionario['Departamento'] = 'Sistemas'\n",
    "print(diccionario)\n",
    "\n",
    "# No hay valores duplicados en las llaves de un diccionario (si ya existe se reemplaza)\n",
    "diccionario['Nombre'] = 'Juan Carlos'\n",
    "print(diccionario)\n",
    "\n",
    "# Recuperar un valor indicando una llave\n",
    "print(diccionario['Nombre'])\n",
    "# Si no encuentra la llave lanza una excepcion\n",
    "# print(diccionario['nombre'])\n",
    "\n",
    "# Método get recupera una llave, y si no existe NO lanza excepción\n",
    "# además podemos regresar un valor en caso de que no exista la llave\n",
    "print(diccionario.get('Nombres','No se encontró la llave'))\n",
    "print(diccionario)\n",
    "\n",
    "# setdefault sí modifica el diccionario, además se agregar un valor por default\n",
    "nombre = diccionario.setdefault('Nombres','Valor por default')\n",
    "print(nombre)\n",
    "print(diccionario)\n",
    "\n",
    "# Imprimir con pprint\n",
    "from pprint import pprint as pp\n",
    "# help(pp)\n",
    "pp(diccionario, sort_dicts=False)"
   ]
  },
  {
   "cell_type": "code",
   "execution_count": null,
   "metadata": {},
   "outputs": [],
   "source": []
  }
 ],
 "metadata": {
  "kernelspec": {
   "display_name": "Python 3 (ipykernel)",
   "language": "python",
   "name": "python3"
  },
  "language_info": {
   "codemirror_mode": {
    "name": "ipython",
    "version": 3
   },
   "file_extension": ".py",
   "mimetype": "text/x-python",
   "name": "python",
   "nbconvert_exporter": "python",
   "pygments_lexer": "ipython3",
   "version": "3.9.7"
  }
 },
 "nbformat": 4,
 "nbformat_minor": 4
}
