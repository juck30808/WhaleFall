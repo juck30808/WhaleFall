{
 "cells": [
  {
   "cell_type": "code",
   "execution_count": null,
   "id": "4b4be2d7",
   "metadata": {},
   "outputs": [],
   "source": [
    "import os\n",
    "import re\n",
    "import shutil"
   ]
  },
  {
   "cell_type": "code",
   "execution_count": null,
   "id": "60e6c89b",
   "metadata": {},
   "outputs": [],
   "source": [
    "def getFilesWithPrefix(folderPath, prefix):\n",
    "    fileRegex = re.compile(prefix+'(\\d{1,})(.\\w+)')\n",
    "    fileList = sorted( [file for file in os.listdir(folderPath) if fileRegex.match(file)] )\n",
    "    return fileList"
   ]
  },
  {
   "cell_type": "code",
   "execution_count": null,
   "id": "8b254f3d",
   "metadata": {},
   "outputs": [],
   "source": [
    "def fillGaps(folderPath, prefix):\n",
    "    fileList = getFilesWithPrefix(folderPath, prefix)         # files sorted ascending order\n",
    "    fileRegex = re.compile(prefix+'(\\d{1,})(.\\w+)')\n",
    "\n",
    "    start = int(fileRegex.search(fileList[0]).group(1))       # start with the minimum number in list\n",
    "    count = start                                             # count to be incremented during checks for gaps\n",
    "    max_length = len(fileRegex.search(fileList[-1]).group(1)) # max length of largest number, for padding zeros\n",
    "    for file in fileList:\n",
    "        mo = fileRegex.search(file)\n",
    "        fileNum = int(mo.group(1))\n",
    "        if fileNum != count:\n",
    "            newFileName = prefix + '0'*(max_length-len(str(fileNum))) + str(count) + mo.group(2)\n",
    "            shutil.move(os.path.abspath(file), os.path.abspath(newFileName))\n",
    "        count += 1"
   ]
  },
  {
   "cell_type": "code",
   "execution_count": null,
   "id": "d7932848",
   "metadata": {},
   "outputs": [],
   "source": [
    "def insertGaps(folderPath, prefix, index):\n",
    "    fileList = getFilesWithPrefix(folderPath, prefix)         # files sorted ascending order\n",
    "    fileRegex = re.compile(prefix+'(\\d{1,})(.\\w+)')\n",
    "\n",
    "    max_length = len(fileRegex.search(fileList[-1]).group(1)) # max length of largest number, for padding zeros\n",
    "    firstIndex = int(fileRegex.search(fileList[0]).group(1))  # smallest number \n",
    "    lastIndex = int(fileRegex.search(fileList[-1]).group(1))  # largest number\n",
    "\n",
    "    if index >= firstIndex and index <= lastIndex:            # if gap index falls in range\n",
    "        i = 0\n",
    "        currIndex = firstIndex\n",
    "        while currIndex < index:\n",
    "            # loop till the file number is >= gap index                                    \n",
    "            i += 1\n",
    "            currIndex = int(fileRegex.search(fileList[i]).group(1))\n",
    "\n",
    "        if currIndex == index:                                      # if gap index is taken, make a gap else already free\n",
    "\n",
    "            for file in fileList[i:][::-1]:\n",
    "            # loop through reversed file list, to prevent overwriting results and increment file number\n",
    "                mo = fileRegex.search(file)\n",
    "                newFileNum = int(mo.group(1)) + 1\n",
    "                newFileName = prefix + '0'*(max_length-len(str(newFileNum))) + str(newFileNum) + mo.group(2)\n",
    "                shutil.move(os.path.abspath(file), os.path.abspath(newFileName))"
   ]
  },
  {
   "cell_type": "code",
   "execution_count": 1,
   "id": "a936a431",
   "metadata": {},
   "outputs": [],
   "source": [
    "if __name__ == \"__main__\":\n",
    "    with open('spam001.txt', 'w') as s1, open('spam003.txt', 'w') as s3:\n",
    "        s1.write('spam001')\n",
    "        s3.write('spam003')\n",
    "\n",
    "    fillGaps('.', 'spam')\n",
    "    #insertGaps('.', 'spam', 2)\n",
    "    "
   ]
  },
  {
   "cell_type": "code",
   "execution_count": null,
   "id": "99998a16",
   "metadata": {},
   "outputs": [],
   "source": []
  },
  {
   "cell_type": "code",
   "execution_count": null,
   "id": "c354dc5d",
   "metadata": {},
   "outputs": [],
   "source": []
  }
 ],
 "metadata": {
  "kernelspec": {
   "display_name": "Python 3 (ipykernel)",
   "language": "python",
   "name": "python3"
  },
  "language_info": {
   "codemirror_mode": {
    "name": "ipython",
    "version": 3
   },
   "file_extension": ".py",
   "mimetype": "text/x-python",
   "name": "python",
   "nbconvert_exporter": "python",
   "pygments_lexer": "ipython3",
   "version": "3.9.7"
  }
 },
 "nbformat": 4,
 "nbformat_minor": 5
}
